{
 "cells": [
  {
   "cell_type": "markdown",
   "id": "9db24731",
   "metadata": {},
   "source": [
    "# Purpose\n",
    "\n",
    "2021-08-10: Finally completed testing with sampling <= 10 files. Now ready to run process on full data!\n",
    "\n",
    "Ended up doing it all in dask + pandas + numpy because of problems installing `cuDF`.\n",
    "\n",
    "---\n",
    "2021-08-02: Now that I'm processing millions of comments and posts, I need to re-write the functions to try to do some work in parallel and reduce the amount of data loaded in RAM.\n",
    "\n",
    "- `Dask` seems like a great option to load data and only compute some of it as needed.\n",
    "- `cuDF` could be a way to speed up some computation using GPUs\n",
    "- `Dask-delayed` could be a way to create a task DAG lazily before computing all the aggregates.\n",
    "\n",
    "\n",
    "---\n",
    "\n",
    "In notebook 09 I combined embeddings from posts & subreddits (`djb_09.00-combine_post_and_comments_and_visualize_for_presentation.ipynb`).\n",
    "\n",
    "In this notebook I'll be testing functions that include mlflow so that it's easier to try a lot of different weights to find better respresentations.\n",
    "\n",
    "Take embeddings created by other models & combine them:\n",
    "```\n",
    "new post embeddings = post + comments + subreddit description\n",
    "\n",
    "new subreddit embeddings = new posts (weighted by post length or upvotes?)\n",
    "```"
   ]
  },
  {
   "cell_type": "markdown",
   "id": "1f9df350",
   "metadata": {},
   "source": [
    "# Notebook setup"
   ]
  },
  {
   "cell_type": "code",
   "execution_count": 1,
   "id": "4d7cb479",
   "metadata": {},
   "outputs": [],
   "source": [
    "%load_ext autoreload\n",
    "%autoreload 2"
   ]
  },
  {
   "cell_type": "code",
   "execution_count": 2,
   "id": "2dd56766",
   "metadata": {},
   "outputs": [
    {
     "name": "stdout",
     "output_type": "stream",
     "text": [
      "python\t\tv 3.7.10\n",
      "===\n",
      "dask\t\tv: 2021.06.0\n",
      "hydra\t\tv: 1.1.0\n",
      "mlflow\t\tv: 1.16.0\n",
      "numpy\t\tv: 1.19.5\n",
      "pandas\t\tv: 1.2.4\n",
      "plotly\t\tv: 4.14.3\n",
      "seaborn\t\tv: 0.11.1\n",
      "subclu\t\tv: 0.3.2\n"
     ]
    }
   ],
   "source": [
    "from datetime import datetime\n",
    "import gc\n",
    "import os\n",
    "import logging\n",
    "from pprint import pprint\n",
    "\n",
    "import numpy as np\n",
    "import pandas as pd\n",
    "import plotly\n",
    "import plotly.express as px\n",
    "import seaborn as sns\n",
    "\n",
    "import dask\n",
    "from dask import dataframe as dd\n",
    "from tqdm.auto import tqdm\n",
    "\n",
    "import mlflow\n",
    "import hydra\n",
    "\n",
    "import subclu\n",
    "from subclu.models.aggregate_embeddings import (\n",
    "    AggregateEmbeddings, AggregateEmbeddingsConfig,\n",
    "    load_config_agg_jupyter, get_dask_df_shape,\n",
    ")\n",
    "\n",
    "from subclu.utils import set_working_directory\n",
    "from subclu.utils.eda import (\n",
    "    setup_logging, counts_describe, value_counts_and_pcts,\n",
    "    notebook_display_config, print_lib_versions,\n",
    "    style_df_numeric\n",
    ")\n",
    "from subclu.utils.mlflow_logger import MlflowLogger, save_pd_df_to_parquet_in_chunks\n",
    "from subclu.eda.aggregates import (\n",
    "    compare_raw_v_weighted_language\n",
    ")\n",
    "from subclu.utils.data_irl_style import (\n",
    "    get_colormap, theme_dirl\n",
    ")\n",
    "\n",
    "\n",
    "print_lib_versions([dask, hydra, mlflow, np, pd, plotly, sns, subclu])"
   ]
  },
  {
   "cell_type": "code",
   "execution_count": 3,
   "id": "64c5b40b",
   "metadata": {},
   "outputs": [],
   "source": [
    "# plotting\n",
    "import matplotlib.pyplot as plt\n",
    "import matplotlib.ticker as mtick\n",
    "import matplotlib.dates as mdates\n",
    "plt.style.use('default')\n",
    "\n",
    "setup_logging()\n",
    "notebook_display_config()"
   ]
  },
  {
   "cell_type": "markdown",
   "id": "85e31a13",
   "metadata": {},
   "source": [
    "# Set sqlite database as MLflow URI"
   ]
  },
  {
   "cell_type": "code",
   "execution_count": 4,
   "id": "8a73e942",
   "metadata": {},
   "outputs": [
    {
     "data": {
      "text/plain": [
       "'sqlite:////home/jupyter/subreddit_clustering_i18n/mlflow_sync/djb-100-2021-04-28-djb-eda-german-subs/mlruns.db'"
      ]
     },
     "execution_count": 4,
     "metadata": {},
     "output_type": "execute_result"
    }
   ],
   "source": [
    "# use new class to initialize mlflow\n",
    "mlf = MlflowLogger(tracking_uri='sqlite')\n",
    "mlflow.get_tracking_uri()"
   ]
  },
  {
   "cell_type": "markdown",
   "id": "5e0e3b5b",
   "metadata": {},
   "source": [
    "## Get list of experiments with new function"
   ]
  },
  {
   "cell_type": "code",
   "execution_count": 5,
   "id": "48e0be66",
   "metadata": {},
   "outputs": [
    {
     "data": {
      "text/html": [
       "<div>\n",
       "<style scoped>\n",
       "    .dataframe tbody tr th:only-of-type {\n",
       "        vertical-align: middle;\n",
       "    }\n",
       "\n",
       "    .dataframe tbody tr th {\n",
       "        vertical-align: top;\n",
       "    }\n",
       "\n",
       "    .dataframe thead th {\n",
       "        text-align: right;\n",
       "    }\n",
       "</style>\n",
       "<table border=\"1\" class=\"dataframe\">\n",
       "  <thead>\n",
       "    <tr style=\"text-align: right;\">\n",
       "      <th></th>\n",
       "      <th>experiment_id</th>\n",
       "      <th>name</th>\n",
       "      <th>artifact_location</th>\n",
       "      <th>lifecycle_stage</th>\n",
       "    </tr>\n",
       "  </thead>\n",
       "  <tbody>\n",
       "    <tr>\n",
       "      <th>0</th>\n",
       "      <td>0</td>\n",
       "      <td>Default</td>\n",
       "      <td>./mlruns/0</td>\n",
       "      <td>active</td>\n",
       "    </tr>\n",
       "    <tr>\n",
       "      <th>1</th>\n",
       "      <td>1</td>\n",
       "      <td>fse_v1</td>\n",
       "      <td>gs://i18n-subreddit-clustering/mlflow/mlruns/1</td>\n",
       "      <td>active</td>\n",
       "    </tr>\n",
       "    <tr>\n",
       "      <th>2</th>\n",
       "      <td>2</td>\n",
       "      <td>fse_vectorize_v1</td>\n",
       "      <td>gs://i18n-subreddit-clustering/mlflow/mlruns/2</td>\n",
       "      <td>active</td>\n",
       "    </tr>\n",
       "    <tr>\n",
       "      <th>3</th>\n",
       "      <td>3</td>\n",
       "      <td>subreddit_description_v1</td>\n",
       "      <td>gs://i18n-subreddit-clustering/mlflow/mlruns/3</td>\n",
       "      <td>active</td>\n",
       "    </tr>\n",
       "    <tr>\n",
       "      <th>4</th>\n",
       "      <td>4</td>\n",
       "      <td>fse_vectorize_v1.1</td>\n",
       "      <td>gs://i18n-subreddit-clustering/mlflow/mlruns/4</td>\n",
       "      <td>active</td>\n",
       "    </tr>\n",
       "    <tr>\n",
       "      <th>5</th>\n",
       "      <td>5</td>\n",
       "      <td>use_multilingual_v0.1_test</td>\n",
       "      <td>gs://i18n-subreddit-clustering/mlflow/mlruns/5</td>\n",
       "      <td>active</td>\n",
       "    </tr>\n",
       "    <tr>\n",
       "      <th>6</th>\n",
       "      <td>6</td>\n",
       "      <td>use_multilingual_v1</td>\n",
       "      <td>gs://i18n-subreddit-clustering/mlflow/mlruns/6</td>\n",
       "      <td>active</td>\n",
       "    </tr>\n",
       "    <tr>\n",
       "      <th>7</th>\n",
       "      <td>7</td>\n",
       "      <td>use_multilingual_v1_aggregates_test</td>\n",
       "      <td>gs://i18n-subreddit-clustering/mlflow/mlruns/7</td>\n",
       "      <td>active</td>\n",
       "    </tr>\n",
       "    <tr>\n",
       "      <th>8</th>\n",
       "      <td>8</td>\n",
       "      <td>use_multilingual_v1_aggregates</td>\n",
       "      <td>gs://i18n-subreddit-clustering/mlflow/mlruns/8</td>\n",
       "      <td>active</td>\n",
       "    </tr>\n",
       "    <tr>\n",
       "      <th>9</th>\n",
       "      <td>9</td>\n",
       "      <td>v0.3.2_use_multi_inference_test</td>\n",
       "      <td>gs://i18n-subreddit-clustering/mlflow/mlruns/9</td>\n",
       "      <td>active</td>\n",
       "    </tr>\n",
       "    <tr>\n",
       "      <th>10</th>\n",
       "      <td>10</td>\n",
       "      <td>v0.3.2_use_multi_inference</td>\n",
       "      <td>gs://i18n-subreddit-clustering/mlflow/mlruns/10</td>\n",
       "      <td>active</td>\n",
       "    </tr>\n",
       "    <tr>\n",
       "      <th>11</th>\n",
       "      <td>11</td>\n",
       "      <td>v0.3.2_use_multi_aggregates_test</td>\n",
       "      <td>gs://i18n-subreddit-clustering/mlflow/mlruns/11</td>\n",
       "      <td>active</td>\n",
       "    </tr>\n",
       "    <tr>\n",
       "      <th>12</th>\n",
       "      <td>12</td>\n",
       "      <td>v0.3.2_use_multi_aggregates</td>\n",
       "      <td>gs://i18n-subreddit-clustering/mlflow/mlruns/12</td>\n",
       "      <td>active</td>\n",
       "    </tr>\n",
       "  </tbody>\n",
       "</table>\n",
       "</div>"
      ],
      "text/plain": [
       "   experiment_id                                 name                                artifact_location lifecycle_stage\n",
       "0              0                              Default                                       ./mlruns/0          active\n",
       "1              1                               fse_v1   gs://i18n-subreddit-clustering/mlflow/mlruns/1          active\n",
       "2              2                     fse_vectorize_v1   gs://i18n-subreddit-clustering/mlflow/mlruns/2          active\n",
       "3              3             subreddit_description_v1   gs://i18n-subreddit-clustering/mlflow/mlruns/3          active\n",
       "4              4                   fse_vectorize_v1.1   gs://i18n-subreddit-clustering/mlflow/mlruns/4          active\n",
       "5              5           use_multilingual_v0.1_test   gs://i18n-subreddit-clustering/mlflow/mlruns/5          active\n",
       "6              6                  use_multilingual_v1   gs://i18n-subreddit-clustering/mlflow/mlruns/6          active\n",
       "7              7  use_multilingual_v1_aggregates_test   gs://i18n-subreddit-clustering/mlflow/mlruns/7          active\n",
       "8              8       use_multilingual_v1_aggregates   gs://i18n-subreddit-clustering/mlflow/mlruns/8          active\n",
       "9              9      v0.3.2_use_multi_inference_test   gs://i18n-subreddit-clustering/mlflow/mlruns/9          active\n",
       "10            10           v0.3.2_use_multi_inference  gs://i18n-subreddit-clustering/mlflow/mlruns/10          active\n",
       "11            11     v0.3.2_use_multi_aggregates_test  gs://i18n-subreddit-clustering/mlflow/mlruns/11          active\n",
       "12            12          v0.3.2_use_multi_aggregates  gs://i18n-subreddit-clustering/mlflow/mlruns/12          active"
      ]
     },
     "execution_count": 5,
     "metadata": {},
     "output_type": "execute_result"
    }
   ],
   "source": [
    "mlf.list_experiment_meta(output_format='pandas')"
   ]
  },
  {
   "cell_type": "markdown",
   "id": "26b21ac4",
   "metadata": {},
   "source": [
    "## Get runs that we can use for embeddings aggregation jobs"
   ]
  },
  {
   "cell_type": "code",
   "execution_count": 6,
   "id": "82bb0efc",
   "metadata": {},
   "outputs": [
    {
     "name": "stdout",
     "output_type": "stream",
     "text": [
      "CPU times: user 296 ms, sys: 7.83 ms, total: 304 ms\n",
      "Wall time: 303 ms\n"
     ]
    },
    {
     "data": {
      "text/plain": [
       "(115, 101)"
      ]
     },
     "execution_count": 6,
     "metadata": {},
     "output_type": "execute_result"
    }
   ],
   "source": [
    "%%time\n",
    "\n",
    "df_mlf_runs =  mlf.search_all_runs(experiment_ids=[9, '10', 11, 12])\n",
    "df_mlf_runs.shape"
   ]
  },
  {
   "cell_type": "code",
   "execution_count": 7,
   "id": "2f92a13c",
   "metadata": {},
   "outputs": [
    {
     "data": {
      "text/plain": [
       "(3, 101)"
      ]
     },
     "execution_count": 7,
     "metadata": {},
     "output_type": "execute_result"
    }
   ],
   "source": [
    "mask_finished = df_mlf_runs['status'] == 'FINISHED'\n",
    "mask_output_over_1M_rows = (\n",
    "    (df_mlf_runs['metrics.df_vect_posts_rows'] >= 1e6) |\n",
    "    (df_mlf_runs['metrics.df_vect_comments'] >= 1e6)\n",
    ")\n",
    "# df_mlf_runs[mask_finished].shape\n",
    "\n",
    "df_mlf_use_for_agg = df_mlf_runs[mask_output_over_1M_rows]\n",
    "df_mlf_use_for_agg.shape"
   ]
  },
  {
   "cell_type": "code",
   "execution_count": 8,
   "id": "53609cd2",
   "metadata": {},
   "outputs": [
    {
     "data": {
      "text/html": [
       "<style  type=\"text/css\" >\n",
       "</style><table id=\"T_c3d0f_\" ><thead>    <tr>        <th class=\"blank level0\" ></th>        <th class=\"col_heading level0 col0\" >run id</th>        <th class=\"col_heading level0 col1\" >experiment id</th>        <th class=\"col_heading level0 col2\" >status</th>        <th class=\"col_heading level0 col3\" >start time</th>        <th class=\"col_heading level0 col4\" >metrics.df vect posts rows</th>        <th class=\"col_heading level0 col5\" >metrics.df vect comments</th>        <th class=\"col_heading level0 col6\" >metrics.total comment files processed</th>        <th class=\"col_heading level0 col7\" >metrics.vectorizing time minutes posts</th>        <th class=\"col_heading level0 col8\" >metrics.df vect posts cols</th>        <th class=\"col_heading level0 col9\" >metrics.df vect subreddits description rows</th>        <th class=\"col_heading level0 col10\" >metrics.vectorizing time minutes subreddit meta</th>        <th class=\"col_heading level0 col11\" >metrics.vectorizing time minutes full function</th>        <th class=\"col_heading level0 col12\" >metrics.df vect subreddits description cols</th>        <th class=\"col_heading level0 col13\" >metrics.vectorizing time minutes comments</th>        <th class=\"col_heading level0 col14\" >params.tf limit first n chars</th>        <th class=\"col_heading level0 col15\" >params.tokenize lowercase</th>        <th class=\"col_heading level0 col16\" >params.subreddits path</th>        <th class=\"col_heading level0 col17\" >params.posts path</th>        <th class=\"col_heading level0 col18\" >params.batch comment files</th>        <th class=\"col_heading level0 col19\" >params.tf batch inference rows</th>        <th class=\"col_heading level0 col20\" >tags.mlflow.source.git.commit</th>        <th class=\"col_heading level0 col21\" >tags.mlflow.runName</th>    </tr></thead><tbody>\n",
       "                <tr>\n",
       "                        <th id=\"T_c3d0f_level0_row0\" class=\"row_heading level0 row0\" >92</th>\n",
       "                        <td id=\"T_c3d0f_row0_col0\" class=\"data row0 col0\" >a948e9fd651545f997430cddc6b529eb</td>\n",
       "                        <td id=\"T_c3d0f_row0_col1\" class=\"data row0 col1\" >10</td>\n",
       "                        <td id=\"T_c3d0f_row0_col2\" class=\"data row0 col2\" >FINISHED</td>\n",
       "                        <td id=\"T_c3d0f_row0_col3\" class=\"data row0 col3\" >2021-07-29 23:02:33.997000+00:00</td>\n",
       "                        <td id=\"T_c3d0f_row0_col4\" class=\"data row0 col4\" >1,649,929.00</td>\n",
       "                        <td id=\"T_c3d0f_row0_col5\" class=\"data row0 col5\" >19,168,154.00</td>\n",
       "                        <td id=\"T_c3d0f_row0_col6\" class=\"data row0 col6\" >37.00</td>\n",
       "                        <td id=\"T_c3d0f_row0_col7\" class=\"data row0 col7\" >14.74</td>\n",
       "                        <td id=\"T_c3d0f_row0_col8\" class=\"data row0 col8\" >515.00</td>\n",
       "                        <td id=\"T_c3d0f_row0_col9\" class=\"data row0 col9\" >3,767.00</td>\n",
       "                        <td id=\"T_c3d0f_row0_col10\" class=\"data row0 col10\" >0.08</td>\n",
       "                        <td id=\"T_c3d0f_row0_col11\" class=\"data row0 col11\" >176.77</td>\n",
       "                        <td id=\"T_c3d0f_row0_col12\" class=\"data row0 col12\" >514.00</td>\n",
       "                        <td id=\"T_c3d0f_row0_col13\" class=\"data row0 col13\" >145.73</td>\n",
       "                        <td id=\"T_c3d0f_row0_col14\" class=\"data row0 col14\" >1000</td>\n",
       "                        <td id=\"T_c3d0f_row0_col15\" class=\"data row0 col15\" >True</td>\n",
       "                        <td id=\"T_c3d0f_row0_col16\" class=\"data row0 col16\" >subreddits/top/2021-07-16</td>\n",
       "                        <td id=\"T_c3d0f_row0_col17\" class=\"data row0 col17\" >posts/top/2021-07-16</td>\n",
       "                        <td id=\"T_c3d0f_row0_col18\" class=\"data row0 col18\" >True</td>\n",
       "                        <td id=\"T_c3d0f_row0_col19\" class=\"data row0 col19\" >2000</td>\n",
       "                        <td id=\"T_c3d0f_row0_col20\" class=\"data row0 col20\" >63f5f420fb6b48d8243749cba183071757dac531</td>\n",
       "                        <td id=\"T_c3d0f_row0_col21\" class=\"data row0 col21\" >new_batch_fxn-2021-07-29_230233</td>\n",
       "            </tr>\n",
       "            <tr>\n",
       "                        <th id=\"T_c3d0f_level0_row1\" class=\"row_heading level0 row1\" >94</th>\n",
       "                        <td id=\"T_c3d0f_row1_col0\" class=\"data row1 col0\" >e66c5db26bd64f6da09c012eea700d0a</td>\n",
       "                        <td id=\"T_c3d0f_row1_col1\" class=\"data row1 col1\" >10</td>\n",
       "                        <td id=\"T_c3d0f_row1_col2\" class=\"data row1 col2\" >FINISHED</td>\n",
       "                        <td id=\"T_c3d0f_row1_col3\" class=\"data row1 col3\" >2021-07-29 18:59:48.715000+00:00</td>\n",
       "                        <td id=\"T_c3d0f_row1_col4\" class=\"data row1 col4\" >-</td>\n",
       "                        <td id=\"T_c3d0f_row1_col5\" class=\"data row1 col5\" >19,200,854.00</td>\n",
       "                        <td id=\"T_c3d0f_row1_col6\" class=\"data row1 col6\" >37.00</td>\n",
       "                        <td id=\"T_c3d0f_row1_col7\" class=\"data row1 col7\" >-</td>\n",
       "                        <td id=\"T_c3d0f_row1_col8\" class=\"data row1 col8\" >-</td>\n",
       "                        <td id=\"T_c3d0f_row1_col9\" class=\"data row1 col9\" >-</td>\n",
       "                        <td id=\"T_c3d0f_row1_col10\" class=\"data row1 col10\" >-</td>\n",
       "                        <td id=\"T_c3d0f_row1_col11\" class=\"data row1 col11\" >133.16</td>\n",
       "                        <td id=\"T_c3d0f_row1_col12\" class=\"data row1 col12\" >-</td>\n",
       "                        <td id=\"T_c3d0f_row1_col13\" class=\"data row1 col13\" >117.47</td>\n",
       "                        <td id=\"T_c3d0f_row1_col14\" class=\"data row1 col14\" >850</td>\n",
       "                        <td id=\"T_c3d0f_row1_col15\" class=\"data row1 col15\" >False</td>\n",
       "                        <td id=\"T_c3d0f_row1_col16\" class=\"data row1 col16\" >None</td>\n",
       "                        <td id=\"T_c3d0f_row1_col17\" class=\"data row1 col17\" >None</td>\n",
       "                        <td id=\"T_c3d0f_row1_col18\" class=\"data row1 col18\" >True</td>\n",
       "                        <td id=\"T_c3d0f_row1_col19\" class=\"data row1 col19\" >6100</td>\n",
       "                        <td id=\"T_c3d0f_row1_col20\" class=\"data row1 col20\" >64f49e85a8ef56a6795edf9da9a6f5964cb6830b</td>\n",
       "                        <td id=\"T_c3d0f_row1_col21\" class=\"data row1 col21\" >new_batch_fxn_2021-07-29_185948</td>\n",
       "            </tr>\n",
       "            <tr>\n",
       "                        <th id=\"T_c3d0f_level0_row2\" class=\"row_heading level0 row2\" >103</th>\n",
       "                        <td id=\"T_c3d0f_row2_col0\" class=\"data row2 col0\" >614a38e6690c4f3ba08725b1585b2ee9</td>\n",
       "                        <td id=\"T_c3d0f_row2_col1\" class=\"data row2 col1\" >9</td>\n",
       "                        <td id=\"T_c3d0f_row2_col2\" class=\"data row2 col2\" >KILLED</td>\n",
       "                        <td id=\"T_c3d0f_row2_col3\" class=\"data row2 col3\" >2021-07-29 11:49:53.924000+00:00</td>\n",
       "                        <td id=\"T_c3d0f_row2_col4\" class=\"data row2 col4\" >1,649,929.00</td>\n",
       "                        <td id=\"T_c3d0f_row2_col5\" class=\"data row2 col5\" >-</td>\n",
       "                        <td id=\"T_c3d0f_row2_col6\" class=\"data row2 col6\" >-</td>\n",
       "                        <td id=\"T_c3d0f_row2_col7\" class=\"data row2 col7\" >10.01</td>\n",
       "                        <td id=\"T_c3d0f_row2_col8\" class=\"data row2 col8\" >515.00</td>\n",
       "                        <td id=\"T_c3d0f_row2_col9\" class=\"data row2 col9\" >3,767.00</td>\n",
       "                        <td id=\"T_c3d0f_row2_col10\" class=\"data row2 col10\" >0.07</td>\n",
       "                        <td id=\"T_c3d0f_row2_col11\" class=\"data row2 col11\" >-</td>\n",
       "                        <td id=\"T_c3d0f_row2_col12\" class=\"data row2 col12\" >514.00</td>\n",
       "                        <td id=\"T_c3d0f_row2_col13\" class=\"data row2 col13\" >-</td>\n",
       "                        <td id=\"T_c3d0f_row2_col14\" class=\"data row2 col14\" >1000</td>\n",
       "                        <td id=\"T_c3d0f_row2_col15\" class=\"data row2 col15\" >False</td>\n",
       "                        <td id=\"T_c3d0f_row2_col16\" class=\"data row2 col16\" >subreddits/top/2021-07-16</td>\n",
       "                        <td id=\"T_c3d0f_row2_col17\" class=\"data row2 col17\" >posts/top/2021-07-16</td>\n",
       "                        <td id=\"T_c3d0f_row2_col18\" class=\"data row2 col18\" >None</td>\n",
       "                        <td id=\"T_c3d0f_row2_col19\" class=\"data row2 col19\" >2100</td>\n",
       "                        <td id=\"T_c3d0f_row2_col20\" class=\"data row2 col20\" >64f49e85a8ef56a6795edf9da9a6f5964cb6830b</td>\n",
       "                        <td id=\"T_c3d0f_row2_col21\" class=\"data row2 col21\" >test_new_fxn2021-07-29_114953</td>\n",
       "            </tr>\n",
       "    </tbody></table>"
      ],
      "text/plain": [
       "<pandas.io.formats.style.Styler at 0x7fc87e949e90>"
      ]
     },
     "execution_count": 8,
     "metadata": {},
     "output_type": "execute_result"
    }
   ],
   "source": [
    "cols_with_multiple_vals = df_mlf_use_for_agg.columns[df_mlf_use_for_agg.nunique(dropna=False) > 1]\n",
    "# len(cols_with_multiple_vals)\n",
    "\n",
    "style_df_numeric(\n",
    "    df_mlf_use_for_agg\n",
    "    [cols_with_multiple_vals]\n",
    "    .drop(['artifact_uri', 'end_time',\n",
    "           # 'start_time',\n",
    "           ], \n",
    "          axis=1)\n",
    "    .dropna(axis='columns', how='all')\n",
    "    .iloc[:, :30]\n",
    "    ,\n",
    "    rename_cols_for_display=True,\n",
    ")"
   ]
  },
  {
   "cell_type": "markdown",
   "id": "ceaacfe0",
   "metadata": {},
   "source": [
    "# Load configs for aggregation jobs\n",
    "\n",
    "`n_sample_comments_files` and `n_sample_posts_files` allow us to only load a few files at a time (e.g., 2 instead of 50) to test the process end-to-end.\n",
    "\n",
    "---\n",
    "Note that by default `hydra` is a cli tool. If we want to call use it in jupyter, we need to manually initialize configs & compose the configuration. See my custom function `load_config_agg_jupyter`. Also see:\n",
    "- [Notebook with `Hydra` examples in a notebook](https://github.com/facebookresearch/hydra/blob/master/examples/jupyter_notebooks/compose_configs_in_notebook.ipynb).\n",
    "- [Hydra docs, Hydra in Jupyter](https://hydra.cc/docs/next/advanced/jupyter_notebooks/).\n"
   ]
  },
  {
   "cell_type": "code",
   "execution_count": 9,
   "id": "85222119",
   "metadata": {},
   "outputs": [],
   "source": [
    "mlflow_experiment_test = 'v0.3.2_use_multi_aggregates_test'\n",
    "mlflow_experiment_full = 'v0.3.2_use_multi_aggregates'\n",
    "\n",
    "config_test_sample_lc_false = AggregateEmbeddingsConfig(\n",
    "    config_path=\"../config\",\n",
    "    config_name='aggregate_embeddings',\n",
    "    overrides=[f\"mlflow_experiment={mlflow_experiment_test}\",\n",
    "               'n_sample_posts_files=5',     # 51 total\n",
    "               'n_sample_comments_files=10',  # 34 total\n",
    "               'data_embeddings_to_aggregate=top_subs-2021_07_16-use_multi_lower_case_false',\n",
    "              ]\n",
    ")\n",
    "config_test_full_lc_false = AggregateEmbeddingsConfig(\n",
    "    config_path=\"../config\",\n",
    "    config_name='aggregate_embeddings',\n",
    "    overrides=[f\"mlflow_experiment={mlflow_experiment_test}\",\n",
    "               'n_sample_posts_files=null', \n",
    "               'n_sample_comments_files=null',\n",
    "               'data_embeddings_to_aggregate=top_subs-2021_07_16-use_multi_lower_case_false',\n",
    "              ]\n",
    ")\n",
    "\n",
    "config_full_lc_false = AggregateEmbeddingsConfig(\n",
    "    config_path=\"../config\",\n",
    "    config_name='aggregate_embeddings',\n",
    "    overrides=[f\"mlflow_experiment={mlflow_experiment_full}\",\n",
    "               'n_sample_posts_files=null', \n",
    "               'n_sample_comments_files=null',\n",
    "               'data_embeddings_to_aggregate=top_subs-2021_07_16-use_multi_lower_case_false',\n",
    "              ]\n",
    ")\n",
    "\n",
    "config_full_lc_true = AggregateEmbeddingsConfig(\n",
    "    config_path=\"../config\",\n",
    "    config_name='aggregate_embeddings',\n",
    "    overrides=[f\"mlflow_experiment={mlflow_experiment_full}\",\n",
    "               'n_sample_posts_files=null', \n",
    "               'n_sample_comments_files=null',\n",
    "               'data_embeddings_to_aggregate=top_subs-2021_07_16-use_multi_lower_case_true',\n",
    "              ]\n",
    ")\n",
    "# pprint(config_test_sample_lc_false.config_dict, indent=2)"
   ]
  },
  {
   "cell_type": "code",
   "execution_count": 10,
   "id": "f19f6100",
   "metadata": {},
   "outputs": [
    {
     "data": {
      "text/html": [
       "<div>\n",
       "<style scoped>\n",
       "    .dataframe tbody tr th:only-of-type {\n",
       "        vertical-align: middle;\n",
       "    }\n",
       "\n",
       "    .dataframe tbody tr th {\n",
       "        vertical-align: top;\n",
       "    }\n",
       "\n",
       "    .dataframe thead th {\n",
       "        text-align: right;\n",
       "    }\n",
       "</style>\n",
       "<table border=\"1\" class=\"dataframe\">\n",
       "  <thead>\n",
       "    <tr style=\"text-align: right;\">\n",
       "      <th></th>\n",
       "      <th>comments_uuid</th>\n",
       "      <th>posts_uuid</th>\n",
       "      <th>subreddit_desc_uuid</th>\n",
       "      <th>mlflow_experiment</th>\n",
       "      <th>n_sample_posts_files</th>\n",
       "      <th>n_sample_comments_files</th>\n",
       "    </tr>\n",
       "  </thead>\n",
       "  <tbody>\n",
       "    <tr>\n",
       "      <th>0</th>\n",
       "      <td>e66c5db26bd64f6da09c012eea700d0a</td>\n",
       "      <td>614a38e6690c4f3ba08725b1585b2ee9</td>\n",
       "      <td>614a38e6690c4f3ba08725b1585b2ee9</td>\n",
       "      <td>v0.3.2_use_multi_aggregates_test</td>\n",
       "      <td>5.0</td>\n",
       "      <td>10.0</td>\n",
       "    </tr>\n",
       "    <tr>\n",
       "      <th>1</th>\n",
       "      <td>e66c5db26bd64f6da09c012eea700d0a</td>\n",
       "      <td>614a38e6690c4f3ba08725b1585b2ee9</td>\n",
       "      <td>614a38e6690c4f3ba08725b1585b2ee9</td>\n",
       "      <td>v0.3.2_use_multi_aggregates_test</td>\n",
       "      <td>NaN</td>\n",
       "      <td>NaN</td>\n",
       "    </tr>\n",
       "    <tr>\n",
       "      <th>2</th>\n",
       "      <td>e66c5db26bd64f6da09c012eea700d0a</td>\n",
       "      <td>614a38e6690c4f3ba08725b1585b2ee9</td>\n",
       "      <td>614a38e6690c4f3ba08725b1585b2ee9</td>\n",
       "      <td>v0.3.2_use_multi_aggregates</td>\n",
       "      <td>NaN</td>\n",
       "      <td>NaN</td>\n",
       "    </tr>\n",
       "    <tr>\n",
       "      <th>3</th>\n",
       "      <td>a948e9fd651545f997430cddc6b529eb</td>\n",
       "      <td>a948e9fd651545f997430cddc6b529eb</td>\n",
       "      <td>a948e9fd651545f997430cddc6b529eb</td>\n",
       "      <td>v0.3.2_use_multi_aggregates</td>\n",
       "      <td>NaN</td>\n",
       "      <td>NaN</td>\n",
       "    </tr>\n",
       "  </tbody>\n",
       "</table>\n",
       "</div>"
      ],
      "text/plain": [
       "                      comments_uuid                        posts_uuid               subreddit_desc_uuid                 mlflow_experiment  n_sample_posts_files  n_sample_comments_files\n",
       "0  e66c5db26bd64f6da09c012eea700d0a  614a38e6690c4f3ba08725b1585b2ee9  614a38e6690c4f3ba08725b1585b2ee9  v0.3.2_use_multi_aggregates_test                   5.0                     10.0\n",
       "1  e66c5db26bd64f6da09c012eea700d0a  614a38e6690c4f3ba08725b1585b2ee9  614a38e6690c4f3ba08725b1585b2ee9  v0.3.2_use_multi_aggregates_test                   NaN                      NaN\n",
       "2  e66c5db26bd64f6da09c012eea700d0a  614a38e6690c4f3ba08725b1585b2ee9  614a38e6690c4f3ba08725b1585b2ee9       v0.3.2_use_multi_aggregates                   NaN                      NaN\n",
       "3  a948e9fd651545f997430cddc6b529eb  a948e9fd651545f997430cddc6b529eb  a948e9fd651545f997430cddc6b529eb       v0.3.2_use_multi_aggregates                   NaN                      NaN"
      ]
     },
     "execution_count": 10,
     "metadata": {},
     "output_type": "execute_result"
    }
   ],
   "source": [
    "df_configs = pd.DataFrame(\n",
    "    [config_test_sample_lc_false.config_flat,\n",
    "     config_test_full_lc_false.config_flat,\n",
    "     config_full_lc_false.config_flat,\n",
    "     config_full_lc_true.config_flat,\n",
    "    ]\n",
    ")\n",
    "cols_with_diffs_config = df_configs.columns[df_configs.nunique(dropna=False) > 1]\n",
    "df_configs[cols_with_diffs_config]"
   ]
  },
  {
   "cell_type": "code",
   "execution_count": 11,
   "id": "0e4d7e84",
   "metadata": {},
   "outputs": [
    {
     "name": "stdout",
     "output_type": "stream",
     "text": [
      "{ 'agg_comments_to_post_weight_col': None,\n",
      "  'agg_post_comment_weight': 20,\n",
      "  'agg_post_post_weight': 70,\n",
      "  'agg_post_subreddit_desc_weight': 10,\n",
      "  'agg_post_to_subreddit_weight_col': None,\n",
      "  'bucket_name': 'i18n-subreddit-clustering',\n",
      "  'col_comment_id': 'comment_id',\n",
      "  'col_post_id': 'post_id',\n",
      "  'col_subreddit_id': 'subreddit_id',\n",
      "  'col_text_comment_word_count': 'comment_text_word_count',\n",
      "  'col_text_post_word_count': 'text_word_count',\n",
      "  'comments_folder_embeddings': 'df_vect_comments',\n",
      "  'comments_uuid': 'e66c5db26bd64f6da09c012eea700d0a',\n",
      "  'dataset_name': 'Top Subreddits (no Geo) + German Subs 2021-07-16, comments: '\n",
      "                  '2021-07-09',\n",
      "  'folder_comments_text_and_meta': 'comments/top/2021-07-09',\n",
      "  'folder_posts_text_and_meta': 'posts/top/2021-07-16',\n",
      "  'folder_subreddits_text_and_meta': 'subreddits/top/2021-07-16',\n",
      "  'min_comment_text_len': 10,\n",
      "  'mlflow_experiment': 'v0.3.2_use_multi_aggregates_test',\n",
      "  'mlflow_tracking_uri': 'sqlite',\n",
      "  'n_sample_comments_files': 10,\n",
      "  'n_sample_posts_files': 5,\n",
      "  'posts_folder_embeddings': 'df_vect_posts',\n",
      "  'posts_uuid': '614a38e6690c4f3ba08725b1585b2ee9',\n",
      "  'subreddit_desc_folder_embeddings': 'df_vect_subreddits_description',\n",
      "  'subreddit_desc_uuid': '614a38e6690c4f3ba08725b1585b2ee9'}\n"
     ]
    }
   ],
   "source": [
    "pprint(config_test_sample_lc_false.config_flat, indent=2)"
   ]
  },
  {
   "cell_type": "code",
   "execution_count": null,
   "id": "43d7613a",
   "metadata": {},
   "outputs": [],
   "source": [
    "BREAK"
   ]
  },
  {
   "cell_type": "markdown",
   "id": "803634e9",
   "metadata": {},
   "source": [
    "# Initialize a local dask client\n",
    "so that we can see the progress/process for dask jobs.\n",
    "\n",
    "**dask default**: 8 workers with 64 CPUs present\n",
    "I tested: 16 & 12 workers, but they runs out of RAM and job crashes.\n",
    "\n",
    "I rolled back to 8 workers to complete job /prevent OOM errors even if it feels like it's wasting workers, at least it finishes."
   ]
  },
  {
   "cell_type": "code",
   "execution_count": 12,
   "id": "f4727513",
   "metadata": {},
   "outputs": [
    {
     "name": "stdout",
     "output_type": "stream",
     "text": [
      "CPU times: user 356 ms, sys: 187 ms, total: 543 ms\n",
      "Wall time: 1.21 s\n"
     ]
    }
   ],
   "source": [
    "%%time\n",
    "\n",
    "from dask.distributed import Client, LocalCluster\n",
    "\n",
    "# dask default: 8 workers with 64 CPUs present, 16 -> runs out of RAM per worker...\n",
    "#  12 workers also ran out of RAM\n",
    "# I think 8 workers was fine to prevent OOM errors\n",
    "#  even if it feels like it's wasting workers, at least it finishes\n",
    "cluster = LocalCluster(n_workers=8)\n",
    "client = Client(cluster)"
   ]
  },
  {
   "cell_type": "code",
   "execution_count": 13,
   "id": "9f0cf1f6",
   "metadata": {},
   "outputs": [
    {
     "data": {
      "text/plain": [
       "'http://127.0.0.1:8787/status'"
      ]
     },
     "execution_count": 13,
     "metadata": {},
     "output_type": "execute_result"
    }
   ],
   "source": [
    "client.dashboard_link"
   ]
  },
  {
   "cell_type": "markdown",
   "id": "a834137e",
   "metadata": {},
   "source": [
    "# Run Full data with `lower_case=False`\n",
    "\n",
    "The logic for sampling files and download/`caching` files locally lives in the `mlf` custom function.\n",
    "\n",
    "Caching can save 9+ minutes if we try to download the files from GCS every time."
   ]
  },
  {
   "cell_type": "code",
   "execution_count": null,
   "id": "3d73bcd3",
   "metadata": {},
   "outputs": [],
   "source": [
    "BREAK"
   ]
  },
  {
   "cell_type": "code",
   "execution_count": null,
   "id": "bd59a8b5",
   "metadata": {},
   "outputs": [
    {
     "name": "stderr",
     "output_type": "stream",
     "text": [
      "07:02:28 | INFO | \"== Start run_aggregation() method ==\"\n",
      "07:02:28 | INFO | \"MLflow tracking URI: sqlite:////home/jupyter/subreddit_clustering_i18n/mlflow_sync/djb-100-2021-04-28-djb-eda-german-subs/mlruns.db\"\n",
      "07:02:29 | INFO | \"  Local model saving directory: /home/jupyter/subreddit_clustering_i18n/data/models/aggregate_embeddings/2021-08-10_070229-full_lc_false-2021-08-10_070228\"\n",
      "07:02:29 | INFO | \"  Saving config to local path...\"\n",
      "07:02:29 | INFO | \"  Logging config to mlflow...\"\n",
      "07:02:29 | INFO | \"-- Start _load_raw_embeddings() method --\"\n",
      "07:02:29 | INFO | \"Loading subreddit description embeddings...\"\n",
      "07:02:30 | INFO | \"Local folder to download artifact(s):\n",
      "  /home/jupyter/subreddit_clustering_i18n/data/local_cache/mlflow/mlruns/9/614a38e6690c4f3ba08725b1585b2ee9/artifacts/df_vect_subreddits_description\"\n"
     ]
    },
    {
     "data": {
      "application/vnd.jupyter.widget-view+json": {
       "model_id": "0ec89d35884b4a948403369d47dd204e",
       "version_major": 2,
       "version_minor": 0
      },
      "text/plain": [
       "  0%|          | 0/4 [00:00<?, ?it/s]"
      ]
     },
     "metadata": {},
     "output_type": "display_data"
    },
    {
     "name": "stderr",
     "output_type": "stream",
     "text": [
      "07:02:30 | INFO | \"  Reading 1 files\"\n",
      "07:02:31 | INFO | \"       3,767 |  513 <- Raw vectorized subreddit description shape\"\n",
      "07:02:32 | INFO | \"Loading POSTS embeddings...\"\n",
      "07:02:33 | INFO | \"Local folder to download artifact(s):\n",
      "  /home/jupyter/subreddit_clustering_i18n/data/local_cache/mlflow/mlruns/9/614a38e6690c4f3ba08725b1585b2ee9/artifacts/df_vect_posts\"\n"
     ]
    },
    {
     "data": {
      "application/vnd.jupyter.widget-view+json": {
       "model_id": "00edc32ef06146a5a7afab3b751c1fb7",
       "version_major": 2,
       "version_minor": 0
      },
      "text/plain": [
       "  0%|          | 0/51 [00:00<?, ?it/s]"
      ]
     },
     "metadata": {},
     "output_type": "display_data"
    },
    {
     "name": "stderr",
     "output_type": "stream",
     "text": [
      "07:02:33 | INFO | \"  Reading 48 files\"\n",
      "07:02:35 | INFO | \"   1,649,929 |  514 <- Raw POSTS shape\"\n",
      "07:02:38 | INFO | \"Loading COMMENTS embeddings...\"\n",
      "07:02:39 | INFO | \"Local folder to download artifact(s):\n",
      "  /home/jupyter/subreddit_clustering_i18n/data/local_cache/mlflow/mlruns/10/e66c5db26bd64f6da09c012eea700d0a/artifacts/df_vect_comments\"\n"
     ]
    },
    {
     "data": {
      "application/vnd.jupyter.widget-view+json": {
       "model_id": "4ac6e520ec9f4c33b27750bb1048816e",
       "version_major": 2,
       "version_minor": 0
      },
      "text/plain": [
       "  0%|          | 0/38 [00:00<?, ?it/s]"
      ]
     },
     "metadata": {},
     "output_type": "display_data"
    },
    {
     "name": "stderr",
     "output_type": "stream",
     "text": [
      "07:02:39 | INFO | \"  Reading 37 files\"\n",
      "07:02:39 | INFO | \"  0:00:09.844584 <- Total raw embeddings load time elapsed\"\n",
      "07:02:39 | INFO | \"-- Start _agg_comments_to_post_level() method --\"\n",
      "07:02:40 | INFO | \"Getting count of comments per post...\"\n",
      "07:02:55 | WARNING | \"Error creating summary of comments per post.\n",
      "'<=' not supported between instances of 'NoneType' and 'int'\"\n",
      "07:02:55 | INFO | \"Filtering which comments need to be averaged...\"\n",
      "07:04:23 | INFO | \"      128,716 <- Comments that DON'T need to be averaged\"\n",
      "07:04:24 | INFO | \"   19,072,138 <- Comments that need to be averaged\"\n",
      "07:04:24 | INFO | \"No column to weight comments, simple mean for comments at post level\"\n",
      "07:06:14 | INFO | \"      985,894 |  514 <- df_v_com_agg SHAPE\"\n",
      "07:06:14 | INFO | \"  0:03:34.315443 <- Total comments to post agg loading time elapsed\"\n",
      "07:06:14 | INFO | \"-- Start (df_posts_agg_b) _agg_posts_and_comments_to_post_level() method --\"\n",
      "07:06:15 | INFO | \"DEFINE agg_posts_w_comments...\"\n",
      "07:06:16 | INFO | \"  (Delayed('int-e8e786da-22e6-4893-a586-2b056bcc6e58'), 513) <- df_agg_posts_w_comments.shape (only posts with comments)\"\n",
      "07:06:16 | INFO | \"Concat aggregated comments+posts with posts-without comments\"\n",
      "07:35:35 | INFO | \"    1,656,122 |  514 <- df_posts_agg_c shape after aggregation\"\n",
      "07:35:35 | INFO | \"  0:20:20.180715 <- Total (df_posts_agg_c) posts+comments+subs agg time elapsed\"\n",
      "07:35:35 | INFO | \"-- Start _agg_post_aggregates_to_subreddit_level() method --\"\n",
      "07:35:35 | INFO | \"No column to weight comments, simple mean to roll up posts to subreddit-level...\"\n",
      "07:35:35 | INFO | \"A - posts only\"\n",
      "07:35:35 | INFO | \"  (Delayed('int-469b0268-ba05-4e8d-b605-4d2bebfad899'), 513) <- df_subs_agg_a.shape (only posts)\"\n",
      "07:35:35 | INFO | \"B - posts + comments\"\n",
      "07:35:35 | INFO | \"  (Delayed('int-19f9a462-ed52-4058-a47b-5ca04846b710'), 513) <- df_subs_agg_b.shape (posts + comments)\"\n",
      "07:35:35 | INFO | \"C - posts + comments + sub descriptions\"\n",
      "07:35:36 | INFO | \"  (Delayed('int-6b352dc6-bd2a-4db2-9c27-d02ab6ad52fa'), 513) <- df_subs_agg_c.shape (posts + comments + sub description)\"\n",
      "07:35:36 | INFO | \"  0:00:01.213991 <- Total for ALL subreddit-level agg time elapsed\"\n",
      "07:35:36 | INFO | \"-- Start _calculate_subreddit_similarities() method --\"\n",
      "07:35:36 | INFO | \"A...\"\n",
      "07:35:46 | INFO | \"  (3767, 3767) <- df_subs_agg_a_similarity.shape\"\n",
      "07:36:01 | INFO | \"Create new df to keep only top 20 subs by distance...\"\n",
      "07:36:06 | INFO | \"  (14186522, 3) <- df_dist_pair_meta.shape (before setting index)\"\n",
      "07:36:06 | INFO | \"  (75340, 3) <- df_dist_pair_meta_top_only.shape (before setting index)\"\n",
      "07:36:06 | INFO | \"B...\"\n",
      "07:54:24 | INFO | \"  (3849, 3849) <- df_subs_agg_b_similarity.shape\"\n",
      "07:54:40 | INFO | \"Create new df to keep only top 20 subs by distance...\"\n",
      "07:54:45 | INFO | \"  (14810952, 3) <- df_dist_pair_meta.shape (before setting index)\"\n",
      "07:54:45 | INFO | \"  (76980, 3) <- df_dist_pair_meta_top_only.shape (before setting index)\"\n",
      "07:54:46 | INFO | \"C...\"\n",
      "08:36:25 | INFO | \"  (3767, 3767) <- df_subs_agg_c_similarity.shape\"\n",
      "08:36:40 | INFO | \"Create new df to keep only top 20 subs by distance...\"\n",
      "08:36:45 | INFO | \"  (14186522, 3) <- df_dist_pair_meta.shape (before setting index)\"\n",
      "08:36:45 | INFO | \"  (75340, 3) <- df_dist_pair_meta_top_only.shape (before setting index)\"\n",
      "08:36:46 | INFO | \"  1:01:09.967860 <- Total for _calculate_subreddit_similarities() time elapsed\"\n",
      "08:36:46 | INFO | \"-- Start _save_and_log_aggregate_and_similarity_dfs() method --\"\n",
      "08:36:46 | INFO | \"  Saving config to local path...\"\n",
      "08:36:46 | INFO | \"  Logging config to mlflow...\"\n"
     ]
    },
    {
     "data": {
      "application/vnd.jupyter.widget-view+json": {
       "model_id": "d847b25b399e40e78c75be7047f60acd",
       "version_major": 2,
       "version_minor": 0
      },
      "text/plain": [
       "  0%|          | 0/11 [00:00<?, ?it/s]"
      ]
     },
     "metadata": {},
     "output_type": "display_data"
    },
    {
     "name": "stderr",
     "output_type": "stream",
     "text": [
      "08:36:46 | INFO | \"** df_post_level_agg_b_post_and_comments **\"\n",
      "08:36:46 | INFO | \"Saving locally...\"\n",
      "08:54:18 | INFO | \"Logging artifact to mlflow...\"\n",
      "08:55:34 | INFO | \"** df_post_level_agg_c_post_comments_sub_desc **\"\n",
      "08:55:34 | INFO | \"Saving locally...\"\n",
      "09:16:16 | INFO | \"     268\t<- EXISTING Dask partitions\"\n",
      "09:38:02 | INFO | \"Logging artifact to mlflow...\"\n",
      "09:39:58 | INFO | \"** df_sub_level_agg_a_post_only **\"\n",
      "09:39:58 | INFO | \"Saving locally...\"\n",
      "09:40:04 | INFO | \"       1\t<- EXISTING Dask partitions\"\n",
      "09:40:12 | INFO | \"Logging artifact to mlflow...\"\n",
      "09:40:13 | INFO | \"** df_sub_level_agg_a_post_only_similarity **\"\n",
      "09:40:13 | INFO | \"Saving locally...\"\n",
      "09:40:13 | INFO | \"Keeping index intact...\"\n",
      "09:40:13 | INFO | \"Converting pandas to dask...\"\n",
      "09:40:13 | INFO | \"   108.6 MB <- Memory usage\"\n",
      "09:40:13 | INFO | \"       3\t<- target Dask partitions\t   40.0 <- target MB partition size\"\n",
      "09:40:16 | INFO | \"Logging artifact to mlflow...\"\n",
      "09:40:18 | INFO | \"** df_sub_level_agg_a_post_only_similarity_pair **\"\n",
      "09:40:18 | INFO | \"Saving locally...\"\n",
      "09:40:19 | INFO | \"Converting pandas to dask...\"\n",
      "09:40:21 | INFO | \"  2,022.0 MB <- Memory usage\"\n",
      "09:40:21 | INFO | \"      34\t<- target Dask partitions\t   60.0 <- target MB partition size\"\n",
      "09:40:25 | INFO | \"Logging artifact to mlflow...\"\n",
      "09:40:36 | INFO | \"** df_sub_level_agg_b_post_and_comments **\"\n",
      "09:40:36 | INFO | \"Saving locally...\"\n",
      "09:49:38 | INFO | \"       1\t<- EXISTING Dask partitions\"\n",
      "09:59:01 | INFO | \"Logging artifact to mlflow...\"\n",
      "09:59:02 | INFO | \"** df_sub_level_agg_b_post_and_comments_similarity **\"\n",
      "09:59:02 | INFO | \"Saving locally...\"\n",
      "09:59:02 | INFO | \"Keeping index intact...\"\n",
      "09:59:02 | INFO | \"Converting pandas to dask...\"\n",
      "09:59:02 | INFO | \"   113.4 MB <- Memory usage\"\n",
      "09:59:02 | INFO | \"       3\t<- target Dask partitions\t   40.0 <- target MB partition size\"\n",
      "09:59:05 | INFO | \"Logging artifact to mlflow...\"\n",
      "09:59:08 | INFO | \"** df_sub_level_agg_b_post_and_comments_similarity_pair **\"\n",
      "09:59:08 | INFO | \"Saving locally...\"\n",
      "09:59:08 | INFO | \"Converting pandas to dask...\"\n",
      "09:59:11 | INFO | \"  2,111.9 MB <- Memory usage\"\n",
      "09:59:11 | INFO | \"      36\t<- target Dask partitions\t   60.0 <- target MB partition size\"\n",
      "09:59:15 | INFO | \"Logging artifact to mlflow...\"\n",
      "09:59:28 | INFO | \"** df_sub_level_agg_c_post_comments_and_sub_desc **\"\n",
      "09:59:28 | INFO | \"Saving locally...\"\n",
      "10:19:26 | INFO | \"       1\t<- EXISTING Dask partitions\"\n"
     ]
    }
   ],
   "source": [
    "%%time\n",
    "\n",
    "mlflow.end_run(\"FAILED\")\n",
    "gc.collect()\n",
    "try:\n",
    "    del job_agg1\n",
    "    del d_dfs1\n",
    "except NameError:\n",
    "    pass\n",
    "gc.collect()\n",
    "\n",
    "job_agg1 = AggregateEmbeddings(\n",
    "    run_name=f\"full_lc_false-{datetime.utcnow().strftime('%Y-%m-%d_%H%M%S')}\",\n",
    "    **config_full_lc_false.config_flat\n",
    ")\n",
    "job_agg1.run_aggregation()\n",
    "\n",
    "gc.collect()"
   ]
  },
  {
   "cell_type": "markdown",
   "id": "f163c33d",
   "metadata": {},
   "source": [
    "# Run full data, `lower_case=True`\n",
    "\n",
    "Looks like the problem I ran into with the file being corrupted might've been a problem with downloading the file(s). Fix: delete the local cache and download the files again."
   ]
  },
  {
   "cell_type": "code",
   "execution_count": null,
   "id": "58c8c82d",
   "metadata": {},
   "outputs": [],
   "source": [
    "BREAK"
   ]
  },
  {
   "cell_type": "code",
   "execution_count": null,
   "id": "273a3102",
   "metadata": {},
   "outputs": [
    {
     "name": "stderr",
     "output_type": "stream",
     "text": [
      "15:47:51 | INFO | \"== Start run_aggregation() method ==\"\n",
      "15:47:51 | INFO | \"MLflow tracking URI: sqlite:////home/jupyter/subreddit_clustering_i18n/mlflow_sync/djb-100-2021-04-28-djb-eda-german-subs/mlruns.db\"\n",
      "15:47:52 | INFO | \"  Local model saving directory: /home/jupyter/subreddit_clustering_i18n/data/models/aggregate_embeddings/2021-08-10_154752-full_lc_true-2021-08-10_154751\"\n",
      "15:47:52 | INFO | \"  Saving config to local path...\"\n",
      "15:47:52 | INFO | \"  Logging config to mlflow...\"\n",
      "15:47:52 | INFO | \"-- Start _load_raw_embeddings() method --\"\n",
      "15:47:52 | INFO | \"Loading subreddit description embeddings...\"\n",
      "15:47:53 | INFO | \"Local folder to download artifact(s):\n",
      "  /home/jupyter/subreddit_clustering_i18n/data/local_cache/mlflow/mlruns/10/a948e9fd651545f997430cddc6b529eb/artifacts/df_vect_subreddits_description\"\n"
     ]
    },
    {
     "data": {
      "application/vnd.jupyter.widget-view+json": {
       "model_id": "ef7e6e4097cc4648a0a6dcf405072654",
       "version_major": 2,
       "version_minor": 0
      },
      "text/plain": [
       "  0%|          | 0/4 [00:00<?, ?it/s]"
      ]
     },
     "metadata": {},
     "output_type": "display_data"
    },
    {
     "name": "stderr",
     "output_type": "stream",
     "text": [
      "15:47:54 | INFO | \"  Reading 1 files\"\n",
      "15:47:55 | INFO | \"       3,767 |  513 <- Raw vectorized subreddit description shape\"\n",
      "15:47:56 | INFO | \"Loading POSTS embeddings...\"\n",
      "15:47:57 | INFO | \"Local folder to download artifact(s):\n",
      "  /home/jupyter/subreddit_clustering_i18n/data/local_cache/mlflow/mlruns/10/a948e9fd651545f997430cddc6b529eb/artifacts/df_vect_posts\"\n"
     ]
    },
    {
     "data": {
      "application/vnd.jupyter.widget-view+json": {
       "model_id": "d0b70848d70c4886834fc853336b4b97",
       "version_major": 2,
       "version_minor": 0
      },
      "text/plain": [
       "  0%|          | 0/51 [00:00<?, ?it/s]"
      ]
     },
     "metadata": {},
     "output_type": "display_data"
    },
    {
     "name": "stderr",
     "output_type": "stream",
     "text": [
      "15:48:44 | INFO | \"  Reading 48 files\"\n",
      "15:48:47 | INFO | \"   1,649,929 |  514 <- Raw POSTS shape\"\n",
      "15:48:51 | INFO | \"Loading COMMENTS embeddings...\"\n",
      "15:48:52 | INFO | \"Local folder to download artifact(s):\n",
      "  /home/jupyter/subreddit_clustering_i18n/data/local_cache/mlflow/mlruns/10/a948e9fd651545f997430cddc6b529eb/artifacts/df_vect_comments\"\n"
     ]
    },
    {
     "data": {
      "application/vnd.jupyter.widget-view+json": {
       "model_id": "b2ab07ab988b41b9b0d92315679c18a5",
       "version_major": 2,
       "version_minor": 0
      },
      "text/plain": [
       "  0%|          | 0/38 [00:00<?, ?it/s]"
      ]
     },
     "metadata": {},
     "output_type": "display_data"
    },
    {
     "name": "stderr",
     "output_type": "stream",
     "text": [
      "15:54:48 | INFO | \"  Reading 37 files\"\n",
      "15:54:49 | INFO | \"  0:06:56.293258 <- Total raw embeddings load time elapsed\"\n",
      "15:54:49 | INFO | \"-- Start _load_metadata() method --\"\n",
      "15:54:49 | INFO | \"Loading POSTS metadata...\"\n",
      "15:54:49 | INFO | \"Reading raw data...\"\n",
      "15:54:49 | INFO | \"Local folder to download artifact(s):\n",
      "  /home/jupyter/subreddit_clustering_i18n/data/local_cache/posts/top/2021-07-16\"\n"
     ]
    },
    {
     "data": {
      "application/vnd.jupyter.widget-view+json": {
       "model_id": "59eb9efacfd0489f806b804fd167453e",
       "version_major": 2,
       "version_minor": 0
      },
      "text/plain": [
       "  0%|          | 0/43 [00:00<?, ?it/s]"
      ]
     },
     "metadata": {},
     "output_type": "display_data"
    },
    {
     "name": "stderr",
     "output_type": "stream",
     "text": [
      "15:54:51 | INFO | \"  Applying transformations...\"\n",
      "15:54:52 | INFO | \"  (1649929, 14) <- Raw META POSTS shape\"\n",
      "15:54:52 | INFO | \"Loading subs metadata...\"\n",
      "15:54:52 | INFO | \"  reading sub-level data & merging with aggregates...\"\n",
      "15:54:52 | INFO | \"Reading raw data...\"\n",
      "15:54:52 | INFO | \"Local folder to download artifact(s):\n",
      "  /home/jupyter/subreddit_clustering_i18n/data/local_cache/subreddits/top/2021-07-16\"\n"
     ]
    },
    {
     "data": {
      "application/vnd.jupyter.widget-view+json": {
       "model_id": "8f98ebb0befa4f09aa0cc006cb99f5b5",
       "version_major": 2,
       "version_minor": 0
      },
      "text/plain": [
       "  0%|          | 0/1 [00:00<?, ?it/s]"
      ]
     },
     "metadata": {},
     "output_type": "display_data"
    },
    {
     "name": "stderr",
     "output_type": "stream",
     "text": [
      "15:54:53 | INFO | \"  Applying transformations...\"\n",
      "15:54:54 | INFO | \"  (3767, 38) <- Raw META subreddit description shape\"\n",
      "15:54:54 | INFO | \"Loading COMMENTS metadata...\"\n",
      "15:54:54 | INFO | \"Local folder to download artifact(s):\n",
      "  /home/jupyter/subreddit_clustering_i18n/data/local_cache/comments/top/2021-07-09\"\n"
     ]
    },
    {
     "data": {
      "application/vnd.jupyter.widget-view+json": {
       "model_id": "51e52ad01a47422bbde292fb39492af5",
       "version_major": 2,
       "version_minor": 0
      },
      "text/plain": [
       "  0%|          | 0/37 [00:00<?, ?it/s]"
      ]
     },
     "metadata": {},
     "output_type": "display_data"
    },
    {
     "name": "stderr",
     "output_type": "stream",
     "text": [
      "15:54:55 | INFO | \"  (Delayed('int-11aa2518-d088-4702-bee1-c90e9c40927d'), 7) <- Raw META COMMENTS shape\"\n",
      "15:54:55 | INFO | \"  0:00:05.773888 <- Total metadata loading time elapsed\"\n",
      "15:54:55 | INFO | \"-- Start _agg_comments_to_post_level() method --\"\n",
      "15:54:55 | INFO | \"Getting count of comments per post...\"\n",
      "15:55:17 | WARNING | \"Error creating summary of comments per post.\n",
      "'<=' not supported between instances of 'NoneType' and 'int'\"\n",
      "15:55:18 | INFO | \"Filtering which comments need to be averaged...\"\n",
      "15:56:48 | INFO | \"      126,642 <- Comments that DON'T need to be averaged\"\n",
      "15:56:48 | INFO | \"   19,041,512 <- Comments that need to be averaged\"\n",
      "15:56:48 | INFO | \"No column to weight comments, simple mean for comments at post level\"\n",
      "15:59:15 | INFO | \"      979,701 |  514 <- df_v_com_agg SHAPE\"\n",
      "15:59:15 | INFO | \"  0:04:20.021986 <- Total comments to post agg loading time elapsed\"\n",
      "15:59:15 | INFO | \"-- Start (df_posts_agg_b) _agg_posts_and_comments_to_post_level() method --\"\n",
      "15:59:17 | INFO | \"DEFINE agg_posts_w_comments...\"\n",
      "15:59:17 | INFO | \"  (Delayed('int-2f2dd3eb-5832-498e-ac7f-0f8fc90cbef9'), 513) <- df_agg_posts_w_comments.shape (only posts with comments)\"\n",
      "15:59:17 | INFO | \"Concat aggregated comments+posts with posts-without comments\"\n",
      "16:09:32 | INFO | \"    1,649,929 |  514 <- df_posts_agg_b shape after aggregation\"\n",
      "16:09:32 | INFO | \"  0:10:16.855088 <- Total (df_posts_agg_b) posts & comments agg time elapsed\"\n",
      "16:09:32 | INFO | \"-- Start (df_posts_agg_c) _agg_posts_comments_and_sub_descriptions_to_post_level() method --\"\n",
      "16:09:35 | INFO | \"  (Delayed('int-2afffaf2-f55e-4a71-b7a9-43db8c7e9419'), 513) <- df_agg_posts_w_sub.shape (only posts with comments)\"\n",
      "16:09:35 | INFO | \"  0:00:02.606942 <- Total (df_posts_agg_c) posts+comments+subs agg time elapsed\"\n",
      "16:09:35 | INFO | \"-- Start _agg_post_aggregates_to_subreddit_level() method --\"\n",
      "16:09:35 | INFO | \"No column to weight comments, simple mean to roll up posts to subreddit-level...\"\n",
      "16:09:35 | INFO | \"A - posts only\"\n",
      "16:09:35 | INFO | \"  (Delayed('int-c0cdc12a-7599-4f26-8877-628f56e69ca7'), 513) <- df_subs_agg_a.shape (only posts)\"\n",
      "16:09:35 | INFO | \"B - posts + comments\"\n",
      "16:09:35 | INFO | \"  (Delayed('int-4a88fcb6-f299-4f12-96d0-1c52f2200024'), 513) <- df_subs_agg_b.shape (posts + comments)\"\n",
      "16:09:35 | INFO | \"C - posts + comments + sub descriptions\"\n",
      "16:09:36 | INFO | \"  (Delayed('int-2c3b142e-c4c6-44e7-8f3b-5b7bafa6f4a0'), 513) <- df_subs_agg_c.shape (posts + comments + sub description)\"\n",
      "16:09:36 | INFO | \"  0:00:01.266842 <- Total for ALL subreddit-level agg time elapsed\"\n",
      "16:09:36 | INFO | \"-- Start _calculate_subreddit_similarities() method --\"\n",
      "16:09:36 | INFO | \"A...\"\n",
      "16:09:48 | INFO | \"  (3767, 3767) <- df_subs_agg_a_similarity.shape\"\n",
      "16:10:07 | INFO | \"Merge distance + metadata...\"\n",
      "16:10:37 | INFO | \"Create new df to keep only top 20 subs by distance...\"\n",
      "16:10:44 | INFO | \"  (14186522, 11) <- df_dist_pair_meta.shape (before setting index)\"\n",
      "16:10:44 | INFO | \"  (75340, 11) <- df_dist_pair_meta_top_only.shape (before setting index)\"\n",
      "16:10:50 | INFO | \"B...\"\n",
      "16:29:57 | INFO | \"  (3767, 3767) <- df_subs_agg_b_similarity.shape\"\n",
      "16:30:16 | INFO | \"Merge distance + metadata...\"\n",
      "16:30:46 | INFO | \"Create new df to keep only top 20 subs by distance...\"\n",
      "16:30:54 | INFO | \"  (14186522, 11) <- df_dist_pair_meta.shape (before setting index)\"\n",
      "16:30:54 | INFO | \"  (75340, 11) <- df_dist_pair_meta_top_only.shape (before setting index)\"\n",
      "16:31:00 | INFO | \"C...\"\n",
      "17:17:45 | INFO | \"  (3767, 3767) <- df_subs_agg_c_similarity.shape\"\n",
      "17:18:06 | INFO | \"Merge distance + metadata...\"\n",
      "17:18:36 | INFO | \"Create new df to keep only top 20 subs by distance...\"\n",
      "17:18:44 | INFO | \"  (14186522, 11) <- df_dist_pair_meta.shape (before setting index)\"\n",
      "17:18:44 | INFO | \"  (75340, 11) <- df_dist_pair_meta_top_only.shape (before setting index)\"\n",
      "17:18:49 | INFO | \"  1:09:13.049794 <- Total for _calculate_subreddit_similarities() time elapsed\"\n",
      "17:18:49 | INFO | \"-- Start _save_and_log_aggregate_and_similarity_dfs() method --\"\n",
      "17:18:49 | INFO | \"  Saving config to local path...\"\n",
      "17:18:49 | INFO | \"  Logging config to mlflow...\"\n"
     ]
    },
    {
     "data": {
      "application/vnd.jupyter.widget-view+json": {
       "model_id": "78f472b6e6ac4d91b6d55cd455fbfc82",
       "version_major": 2,
       "version_minor": 0
      },
      "text/plain": [
       "  0%|          | 0/11 [00:00<?, ?it/s]"
      ]
     },
     "metadata": {},
     "output_type": "display_data"
    },
    {
     "name": "stderr",
     "output_type": "stream",
     "text": [
      "17:18:50 | INFO | \"** df_sub_level_agg_c_post_comments_and_sub_desc **\"\n",
      "17:18:50 | INFO | \"Saving locally...\"\n",
      "17:42:53 | INFO | \"  Saving existing dask df as parquet...\"\n",
      "18:06:23 | INFO | \"Logging artifact to mlflow...\"\n",
      "18:06:25 | INFO | \"** df_sub_level_agg_c_post_comments_and_sub_desc_similarity **\"\n",
      "18:06:25 | INFO | \"Saving locally...\"\n",
      "18:06:25 | INFO | \"Keeping index intact...\"\n",
      "18:06:25 | INFO | \"Converting pandas to dask...\"\n",
      "18:06:25 | INFO | \"   108.6 MB <- Memory usage\"\n",
      "18:06:25 | INFO | \"       3\t<- target Dask partitions\t   40.0 <- target MB partition size\"\n",
      "18:06:29 | INFO | \"Logging artifact to mlflow...\"\n",
      "18:06:31 | INFO | \"** df_sub_level_agg_c_post_comments_and_sub_desc_similarity_pair **\"\n",
      "18:06:31 | INFO | \"Saving locally...\"\n",
      "18:06:33 | INFO | \"Converting pandas to dask...\"\n",
      "18:06:40 | INFO | \"  6,002.0 MB <- Memory usage\"\n",
      "18:06:40 | INFO | \"      81\t<- target Dask partitions\t   75.0 <- target MB partition size\"\n",
      "18:06:53 | INFO | \"Logging artifact to mlflow...\"\n",
      "18:07:16 | INFO | \"** df_sub_level_agg_b_post_and_comments **\"\n",
      "18:07:16 | INFO | \"Saving locally...\"\n",
      "18:17:47 | INFO | \"  Saving existing dask df as parquet...\"\n",
      "18:28:42 | INFO | \"Logging artifact to mlflow...\"\n",
      "18:28:44 | INFO | \"** df_sub_level_agg_b_post_and_comments_similarity **\"\n",
      "18:28:44 | INFO | \"Saving locally...\"\n",
      "18:28:44 | INFO | \"Keeping index intact...\"\n",
      "18:28:44 | INFO | \"Converting pandas to dask...\"\n",
      "18:28:44 | INFO | \"   108.6 MB <- Memory usage\"\n",
      "18:28:44 | INFO | \"       3\t<- target Dask partitions\t   40.0 <- target MB partition size\"\n",
      "18:28:48 | INFO | \"Logging artifact to mlflow...\"\n",
      "18:28:50 | INFO | \"** df_sub_level_agg_b_post_and_comments_similarity_pair **\"\n",
      "18:28:50 | INFO | \"Saving locally...\"\n",
      "18:28:52 | INFO | \"Converting pandas to dask...\"\n",
      "18:28:59 | INFO | \"  6,002.0 MB <- Memory usage\"\n",
      "18:28:59 | INFO | \"      81\t<- target Dask partitions\t   75.0 <- target MB partition size\"\n"
     ]
    }
   ],
   "source": [
    "%%time\n",
    "\n",
    "mlflow.end_run(\"FAILED\")\n",
    "gc.collect()\n",
    "try:\n",
    "    del job_agg2\n",
    "    del d_dfs2\n",
    "except NameError:\n",
    "    pass\n",
    "gc.collect()\n",
    "\n",
    "job_agg2 = AggregateEmbeddings(\n",
    "    run_name=f\"full_lc_true-{datetime.utcnow().strftime('%Y-%m-%d_%H%M%S')}\",\n",
    "    **config_full_lc_true.config_flat\n",
    ")\n",
    "job_agg2.run_aggregation()\n",
    "\n",
    "gc.collect()"
   ]
  },
  {
   "cell_type": "code",
   "execution_count": null,
   "id": "0ca3c623",
   "metadata": {},
   "outputs": [],
   "source": [
    "mlflow.end_run(\"FAILED\")"
   ]
  },
  {
   "cell_type": "markdown",
   "id": "50eff465",
   "metadata": {},
   "source": [
    "## Check output dfs"
   ]
  },
  {
   "cell_type": "code",
   "execution_count": 16,
   "id": "cd2422fc",
   "metadata": {},
   "outputs": [
    {
     "data": {
      "application/vnd.jupyter.widget-view+json": {
       "model_id": "0e7dc27a67f34cac87edea772c12076c",
       "version_major": 2,
       "version_minor": 0
      },
      "text/plain": [
       "  0%|          | 0/8 [00:00<?, ?it/s]"
      ]
     },
     "metadata": {},
     "output_type": "display_data"
    },
    {
     "name": "stdout",
     "output_type": "stream",
     "text": [
      "\n",
      "df_v_sub\n",
      "(Delayed('int-185fda3f-7783-4eda-ab30-01e2e615a376'), 513) <- df shape\n",
      "1 <- dask partitions\n",
      "\n",
      "df_v_posts\n",
      "(Delayed('int-e68a5168-e9cd-4015-909f-fe9bd1f44b45'), 514) <- df shape\n",
      "48 <- dask partitions\n",
      "\n",
      "df_v_comments\n",
      "(Delayed('int-193d0b34-441d-47ed-a139-7810bc1b5d22'), 515) <- df shape\n",
      "37 <- dask partitions\n",
      "\n",
      "df_subs_agg_a\n",
      "\n",
      "df_subs_agg_b\n",
      "\n",
      "df_subs_agg_c\n",
      "\n",
      "df_posts_agg_b\n",
      "\n",
      "df_posts_agg_c\n",
      "CPU times: user 67.1 ms, sys: 19.9 ms, total: 87 ms\n",
      "Wall time: 73.5 ms\n"
     ]
    }
   ],
   "source": [
    "%%time\n",
    "\n",
    "d_dfs2 = dict()\n",
    "(\n",
    "    d_dfs2['df_v_sub'], d_dfs2['df_v_posts'], d_dfs2['df_v_comments'],\n",
    "#     d_dfs2['df_subs_meta'], d_dfs2['df_posts_meta'], d_dfs2['df_comments_meta'],\n",
    "    \n",
    "    # Aggs don't get computed until run_aggergation() method gets called\n",
    "    d_dfs2['df_subs_agg_a'], d_dfs2['df_subs_agg_b'], d_dfs2['df_subs_agg_c'], \n",
    "    d_dfs2['df_posts_agg_b'], d_dfs2['df_posts_agg_c'], \n",
    "    # d_dfs2['df_posts_agg_d'],\n",
    "\n",
    ") = (\n",
    "    job_agg2.df_v_sub, job_agg2.df_v_posts, job_agg2.df_v_comments,\n",
    "#     job_agg2.df_subs_meta, job_agg2.df_posts_meta, job_agg2.df_comments_meta,\n",
    "    \n",
    "    job_agg2.df_subs_agg_a, job_agg2.df_subs_agg_b, job_agg2.df_subs_agg_c, \n",
    "    job_agg2.df_posts_agg_b, job_agg2.df_posts_agg_c,\n",
    "    # job_agg2.df_posts_agg_d,  # D doesn't exist yet\n",
    ")\n",
    "\n",
    "for k2, df_2 in tqdm(d_dfs2.items()):\n",
    "    print(f\"\\n{k2}\")\n",
    "    try:\n",
    "        print(f\"{df_2.shape} <- df shape\")\n",
    "        print(f\"{df_2.npartitions} <- dask partitions\")\n",
    "        # print(f\"{get_dask_df_shape(df_2)} <- df.shape\")\n",
    "        # print(f\"  {df_2.memory_usage(deep=True).sum() / 1048576:4,.1f} MB <- Memory usage\")\n",
    "        if any(['meta' in k2, '_v_' in k2]):\n",
    "            pass\n",
    "        else:\n",
    "            pass\n",
    "            # display(df_2.iloc[:5, :15])\n",
    "\n",
    "    except (TypeError, AttributeError):\n",
    "        if isinstance(df_2, pd.DataFrame):\n",
    "            print(f\"{df_2.shape} <- df shape\")"
   ]
  },
  {
   "cell_type": "code",
   "execution_count": 17,
   "id": "beebd338",
   "metadata": {},
   "outputs": [
    {
     "name": "stdout",
     "output_type": "stream",
     "text": [
      "CPU times: user 13.2 s, sys: 3.97 s, total: 17.2 s\n",
      "Wall time: 5min 16s\n"
     ]
    },
    {
     "data": {
      "text/html": [
       "<div>\n",
       "<style scoped>\n",
       "    .dataframe tbody tr th:only-of-type {\n",
       "        vertical-align: middle;\n",
       "    }\n",
       "\n",
       "    .dataframe tbody tr th {\n",
       "        vertical-align: top;\n",
       "    }\n",
       "\n",
       "    .dataframe thead th {\n",
       "        text-align: right;\n",
       "    }\n",
       "</style>\n",
       "<table border=\"1\" class=\"dataframe\">\n",
       "  <thead>\n",
       "    <tr style=\"text-align: right;\">\n",
       "      <th></th>\n",
       "      <th>subreddit_name</th>\n",
       "      <th>post_id</th>\n",
       "      <th>comment_id</th>\n",
       "      <th>embeddings_0</th>\n",
       "      <th>embeddings_1</th>\n",
       "      <th>embeddings_2</th>\n",
       "      <th>embeddings_3</th>\n",
       "      <th>embeddings_4</th>\n",
       "      <th>embeddings_5</th>\n",
       "      <th>embeddings_6</th>\n",
       "      <th>embeddings_7</th>\n",
       "      <th>embeddings_8</th>\n",
       "      <th>embeddings_9</th>\n",
       "      <th>embeddings_10</th>\n",
       "      <th>embeddings_11</th>\n",
       "      <th>embeddings_12</th>\n",
       "      <th>embeddings_13</th>\n",
       "      <th>embeddings_14</th>\n",
       "      <th>embeddings_15</th>\n",
       "      <th>embeddings_16</th>\n",
       "      <th>embeddings_17</th>\n",
       "      <th>embeddings_18</th>\n",
       "      <th>embeddings_19</th>\n",
       "      <th>embeddings_20</th>\n",
       "      <th>embeddings_21</th>\n",
       "      <th>embeddings_22</th>\n",
       "      <th>embeddings_23</th>\n",
       "      <th>embeddings_24</th>\n",
       "      <th>embeddings_25</th>\n",
       "      <th>embeddings_26</th>\n",
       "      <th>...</th>\n",
       "      <th>embeddings_482</th>\n",
       "      <th>embeddings_483</th>\n",
       "      <th>embeddings_484</th>\n",
       "      <th>embeddings_485</th>\n",
       "      <th>embeddings_486</th>\n",
       "      <th>embeddings_487</th>\n",
       "      <th>embeddings_488</th>\n",
       "      <th>embeddings_489</th>\n",
       "      <th>embeddings_490</th>\n",
       "      <th>embeddings_491</th>\n",
       "      <th>embeddings_492</th>\n",
       "      <th>embeddings_493</th>\n",
       "      <th>embeddings_494</th>\n",
       "      <th>embeddings_495</th>\n",
       "      <th>embeddings_496</th>\n",
       "      <th>embeddings_497</th>\n",
       "      <th>embeddings_498</th>\n",
       "      <th>embeddings_499</th>\n",
       "      <th>embeddings_500</th>\n",
       "      <th>embeddings_501</th>\n",
       "      <th>embeddings_502</th>\n",
       "      <th>embeddings_503</th>\n",
       "      <th>embeddings_504</th>\n",
       "      <th>embeddings_505</th>\n",
       "      <th>embeddings_506</th>\n",
       "      <th>embeddings_507</th>\n",
       "      <th>embeddings_508</th>\n",
       "      <th>embeddings_509</th>\n",
       "      <th>embeddings_510</th>\n",
       "      <th>embeddings_511</th>\n",
       "    </tr>\n",
       "  </thead>\n",
       "  <tbody>\n",
       "    <tr>\n",
       "      <th>483398</th>\n",
       "      <td>19219</td>\n",
       "      <td>t3_nyqfmb</td>\n",
       "      <td>t1_h1lzfc6</td>\n",
       "      <td>-0.039235</td>\n",
       "      <td>0.037132</td>\n",
       "      <td>-0.033202</td>\n",
       "      <td>-0.009557</td>\n",
       "      <td>0.050591</td>\n",
       "      <td>0.035887</td>\n",
       "      <td>-0.075159</td>\n",
       "      <td>0.026383</td>\n",
       "      <td>-0.050233</td>\n",
       "      <td>0.015396</td>\n",
       "      <td>-0.038596</td>\n",
       "      <td>-0.044591</td>\n",
       "      <td>0.057975</td>\n",
       "      <td>-0.015356</td>\n",
       "      <td>0.055454</td>\n",
       "      <td>0.057320</td>\n",
       "      <td>0.018831</td>\n",
       "      <td>0.008324</td>\n",
       "      <td>0.011653</td>\n",
       "      <td>0.018594</td>\n",
       "      <td>-0.043833</td>\n",
       "      <td>0.011787</td>\n",
       "      <td>0.042242</td>\n",
       "      <td>-0.052835</td>\n",
       "      <td>0.024818</td>\n",
       "      <td>0.004836</td>\n",
       "      <td>0.049712</td>\n",
       "      <td>...</td>\n",
       "      <td>-0.000133</td>\n",
       "      <td>0.011356</td>\n",
       "      <td>-0.082734</td>\n",
       "      <td>-0.010753</td>\n",
       "      <td>0.048662</td>\n",
       "      <td>-0.024157</td>\n",
       "      <td>-0.024809</td>\n",
       "      <td>-0.055835</td>\n",
       "      <td>-0.003466</td>\n",
       "      <td>0.037034</td>\n",
       "      <td>-0.026417</td>\n",
       "      <td>0.017363</td>\n",
       "      <td>0.041431</td>\n",
       "      <td>0.012136</td>\n",
       "      <td>-0.068084</td>\n",
       "      <td>0.060840</td>\n",
       "      <td>-0.049690</td>\n",
       "      <td>-0.052496</td>\n",
       "      <td>-0.038352</td>\n",
       "      <td>0.043732</td>\n",
       "      <td>0.013604</td>\n",
       "      <td>0.044257</td>\n",
       "      <td>0.021174</td>\n",
       "      <td>0.014155</td>\n",
       "      <td>-0.009225</td>\n",
       "      <td>-0.033644</td>\n",
       "      <td>0.016431</td>\n",
       "      <td>-0.012967</td>\n",
       "      <td>0.034172</td>\n",
       "      <td>0.043068</td>\n",
       "    </tr>\n",
       "    <tr>\n",
       "      <th>483399</th>\n",
       "      <td>19219</td>\n",
       "      <td>t3_nyqfmb</td>\n",
       "      <td>t1_h1nvupw</td>\n",
       "      <td>0.133316</td>\n",
       "      <td>-0.078149</td>\n",
       "      <td>-0.041633</td>\n",
       "      <td>0.018155</td>\n",
       "      <td>-0.054300</td>\n",
       "      <td>0.067600</td>\n",
       "      <td>-0.048958</td>\n",
       "      <td>0.065234</td>\n",
       "      <td>0.043681</td>\n",
       "      <td>-0.023903</td>\n",
       "      <td>0.006257</td>\n",
       "      <td>0.001960</td>\n",
       "      <td>-0.027169</td>\n",
       "      <td>-0.032003</td>\n",
       "      <td>-0.073401</td>\n",
       "      <td>-0.054141</td>\n",
       "      <td>0.022288</td>\n",
       "      <td>-0.032410</td>\n",
       "      <td>-0.012456</td>\n",
       "      <td>0.081674</td>\n",
       "      <td>-0.066014</td>\n",
       "      <td>0.125445</td>\n",
       "      <td>0.048917</td>\n",
       "      <td>-0.001884</td>\n",
       "      <td>0.089766</td>\n",
       "      <td>-0.058626</td>\n",
       "      <td>-0.003665</td>\n",
       "      <td>...</td>\n",
       "      <td>0.008788</td>\n",
       "      <td>0.017257</td>\n",
       "      <td>-0.053767</td>\n",
       "      <td>-0.019011</td>\n",
       "      <td>0.075949</td>\n",
       "      <td>-0.114006</td>\n",
       "      <td>-0.055496</td>\n",
       "      <td>-0.027919</td>\n",
       "      <td>-0.029389</td>\n",
       "      <td>-0.003952</td>\n",
       "      <td>0.030141</td>\n",
       "      <td>-0.009108</td>\n",
       "      <td>-0.059239</td>\n",
       "      <td>-0.037925</td>\n",
       "      <td>-0.078233</td>\n",
       "      <td>0.025885</td>\n",
       "      <td>-0.042855</td>\n",
       "      <td>0.039699</td>\n",
       "      <td>-0.011792</td>\n",
       "      <td>-0.036198</td>\n",
       "      <td>-0.101189</td>\n",
       "      <td>0.005298</td>\n",
       "      <td>0.046411</td>\n",
       "      <td>-0.064717</td>\n",
       "      <td>-0.060539</td>\n",
       "      <td>-0.023111</td>\n",
       "      <td>-0.064473</td>\n",
       "      <td>0.050646</td>\n",
       "      <td>-0.025636</td>\n",
       "      <td>-0.001309</td>\n",
       "    </tr>\n",
       "    <tr>\n",
       "      <th>483400</th>\n",
       "      <td>19219</td>\n",
       "      <td>t3_nyqjvy</td>\n",
       "      <td>t1_h1nvw1v</td>\n",
       "      <td>0.126373</td>\n",
       "      <td>-0.060233</td>\n",
       "      <td>0.060693</td>\n",
       "      <td>-0.050580</td>\n",
       "      <td>-0.087892</td>\n",
       "      <td>0.031024</td>\n",
       "      <td>0.024518</td>\n",
       "      <td>0.037328</td>\n",
       "      <td>-0.121069</td>\n",
       "      <td>0.014265</td>\n",
       "      <td>0.004135</td>\n",
       "      <td>-0.042354</td>\n",
       "      <td>0.052518</td>\n",
       "      <td>-0.049579</td>\n",
       "      <td>-0.047506</td>\n",
       "      <td>-0.035735</td>\n",
       "      <td>0.050334</td>\n",
       "      <td>0.015550</td>\n",
       "      <td>-0.019624</td>\n",
       "      <td>0.054169</td>\n",
       "      <td>-0.037536</td>\n",
       "      <td>0.051272</td>\n",
       "      <td>-0.019931</td>\n",
       "      <td>-0.042147</td>\n",
       "      <td>0.038471</td>\n",
       "      <td>0.049895</td>\n",
       "      <td>-0.061262</td>\n",
       "      <td>...</td>\n",
       "      <td>-0.049496</td>\n",
       "      <td>-0.010919</td>\n",
       "      <td>-0.008698</td>\n",
       "      <td>0.055555</td>\n",
       "      <td>0.020364</td>\n",
       "      <td>-0.069475</td>\n",
       "      <td>0.026155</td>\n",
       "      <td>0.009584</td>\n",
       "      <td>0.056685</td>\n",
       "      <td>0.018035</td>\n",
       "      <td>0.043154</td>\n",
       "      <td>0.060423</td>\n",
       "      <td>0.002035</td>\n",
       "      <td>-0.032125</td>\n",
       "      <td>0.019131</td>\n",
       "      <td>0.001583</td>\n",
       "      <td>-0.023084</td>\n",
       "      <td>-0.010004</td>\n",
       "      <td>0.003967</td>\n",
       "      <td>0.029053</td>\n",
       "      <td>-0.110760</td>\n",
       "      <td>-0.039405</td>\n",
       "      <td>0.065578</td>\n",
       "      <td>0.058648</td>\n",
       "      <td>0.053029</td>\n",
       "      <td>0.002569</td>\n",
       "      <td>-0.016340</td>\n",
       "      <td>0.012294</td>\n",
       "      <td>0.027450</td>\n",
       "      <td>0.116622</td>\n",
       "    </tr>\n",
       "    <tr>\n",
       "      <th>483401</th>\n",
       "      <td>19219</td>\n",
       "      <td>t3_nyqjvy</td>\n",
       "      <td>t1_h1lpzcm</td>\n",
       "      <td>0.135668</td>\n",
       "      <td>-0.013888</td>\n",
       "      <td>0.027121</td>\n",
       "      <td>0.007115</td>\n",
       "      <td>-0.040884</td>\n",
       "      <td>0.067130</td>\n",
       "      <td>0.007366</td>\n",
       "      <td>0.049615</td>\n",
       "      <td>-0.111433</td>\n",
       "      <td>0.061169</td>\n",
       "      <td>0.003263</td>\n",
       "      <td>0.020159</td>\n",
       "      <td>0.060283</td>\n",
       "      <td>-0.035772</td>\n",
       "      <td>-0.023290</td>\n",
       "      <td>-0.019193</td>\n",
       "      <td>-0.002709</td>\n",
       "      <td>0.091329</td>\n",
       "      <td>0.057891</td>\n",
       "      <td>0.036463</td>\n",
       "      <td>-0.036746</td>\n",
       "      <td>0.075548</td>\n",
       "      <td>0.040508</td>\n",
       "      <td>0.011599</td>\n",
       "      <td>-0.033443</td>\n",
       "      <td>-0.019531</td>\n",
       "      <td>-0.037201</td>\n",
       "      <td>...</td>\n",
       "      <td>-0.032646</td>\n",
       "      <td>-0.064596</td>\n",
       "      <td>0.012030</td>\n",
       "      <td>0.022919</td>\n",
       "      <td>0.003585</td>\n",
       "      <td>-0.117777</td>\n",
       "      <td>-0.010177</td>\n",
       "      <td>-0.039885</td>\n",
       "      <td>0.040840</td>\n",
       "      <td>0.014177</td>\n",
       "      <td>0.076190</td>\n",
       "      <td>0.048344</td>\n",
       "      <td>0.018211</td>\n",
       "      <td>-0.021509</td>\n",
       "      <td>0.029074</td>\n",
       "      <td>-0.004563</td>\n",
       "      <td>0.017267</td>\n",
       "      <td>0.001694</td>\n",
       "      <td>0.029015</td>\n",
       "      <td>0.021855</td>\n",
       "      <td>-0.074530</td>\n",
       "      <td>-0.062627</td>\n",
       "      <td>0.083473</td>\n",
       "      <td>0.074024</td>\n",
       "      <td>0.053475</td>\n",
       "      <td>-0.008467</td>\n",
       "      <td>0.010310</td>\n",
       "      <td>-0.026929</td>\n",
       "      <td>0.015378</td>\n",
       "      <td>0.107798</td>\n",
       "    </tr>\n",
       "    <tr>\n",
       "      <th>483402</th>\n",
       "      <td>amarantavp</td>\n",
       "      <td>t3_nvktm4</td>\n",
       "      <td>t1_h1nrxvs</td>\n",
       "      <td>-0.043134</td>\n",
       "      <td>-0.053204</td>\n",
       "      <td>-0.095469</td>\n",
       "      <td>-0.064357</td>\n",
       "      <td>-0.064727</td>\n",
       "      <td>0.032114</td>\n",
       "      <td>0.013150</td>\n",
       "      <td>-0.052689</td>\n",
       "      <td>-0.062740</td>\n",
       "      <td>0.032209</td>\n",
       "      <td>0.048887</td>\n",
       "      <td>-0.026321</td>\n",
       "      <td>0.053665</td>\n",
       "      <td>-0.023800</td>\n",
       "      <td>-0.019007</td>\n",
       "      <td>0.018622</td>\n",
       "      <td>0.028733</td>\n",
       "      <td>0.003409</td>\n",
       "      <td>0.034294</td>\n",
       "      <td>-0.061813</td>\n",
       "      <td>-0.040847</td>\n",
       "      <td>0.042555</td>\n",
       "      <td>0.010091</td>\n",
       "      <td>0.086087</td>\n",
       "      <td>0.037003</td>\n",
       "      <td>-0.037780</td>\n",
       "      <td>0.082697</td>\n",
       "      <td>...</td>\n",
       "      <td>0.008532</td>\n",
       "      <td>-0.074757</td>\n",
       "      <td>0.063589</td>\n",
       "      <td>0.060451</td>\n",
       "      <td>0.053137</td>\n",
       "      <td>-0.071232</td>\n",
       "      <td>-0.015800</td>\n",
       "      <td>0.034549</td>\n",
       "      <td>0.036525</td>\n",
       "      <td>0.006025</td>\n",
       "      <td>-0.020449</td>\n",
       "      <td>0.023536</td>\n",
       "      <td>0.017202</td>\n",
       "      <td>-0.038329</td>\n",
       "      <td>0.021685</td>\n",
       "      <td>0.025175</td>\n",
       "      <td>-0.036519</td>\n",
       "      <td>-0.056744</td>\n",
       "      <td>-0.009225</td>\n",
       "      <td>-0.049298</td>\n",
       "      <td>-0.074865</td>\n",
       "      <td>0.031270</td>\n",
       "      <td>0.031479</td>\n",
       "      <td>-0.023028</td>\n",
       "      <td>0.047527</td>\n",
       "      <td>-0.019314</td>\n",
       "      <td>-0.058948</td>\n",
       "      <td>-0.020677</td>\n",
       "      <td>-0.000049</td>\n",
       "      <td>0.085667</td>\n",
       "    </tr>\n",
       "  </tbody>\n",
       "</table>\n",
       "<p>5 rows × 515 columns</p>\n",
       "</div>"
      ],
      "text/plain": [
       "       subreddit_name    post_id  comment_id  embeddings_0  embeddings_1  embeddings_2  embeddings_3  embeddings_4  embeddings_5  embeddings_6  embeddings_7  embeddings_8  embeddings_9  embeddings_10  embeddings_11  embeddings_12  embeddings_13  embeddings_14  embeddings_15  embeddings_16  \\\n",
       "483398          19219  t3_nyqfmb  t1_h1lzfc6     -0.039235      0.037132     -0.033202     -0.009557      0.050591      0.035887     -0.075159      0.026383     -0.050233      0.015396      -0.038596      -0.044591       0.057975      -0.015356       0.055454       0.057320       0.018831   \n",
       "483399          19219  t3_nyqfmb  t1_h1nvupw      0.133316     -0.078149     -0.041633      0.018155     -0.054300      0.067600     -0.048958      0.065234      0.043681     -0.023903       0.006257       0.001960      -0.027169      -0.032003      -0.073401      -0.054141       0.022288   \n",
       "483400          19219  t3_nyqjvy  t1_h1nvw1v      0.126373     -0.060233      0.060693     -0.050580     -0.087892      0.031024      0.024518      0.037328     -0.121069      0.014265       0.004135      -0.042354       0.052518      -0.049579      -0.047506      -0.035735       0.050334   \n",
       "483401          19219  t3_nyqjvy  t1_h1lpzcm      0.135668     -0.013888      0.027121      0.007115     -0.040884      0.067130      0.007366      0.049615     -0.111433      0.061169       0.003263       0.020159       0.060283      -0.035772      -0.023290      -0.019193      -0.002709   \n",
       "483402     amarantavp  t3_nvktm4  t1_h1nrxvs     -0.043134     -0.053204     -0.095469     -0.064357     -0.064727      0.032114      0.013150     -0.052689     -0.062740      0.032209       0.048887      -0.026321       0.053665      -0.023800      -0.019007       0.018622       0.028733   \n",
       "\n",
       "        embeddings_17  embeddings_18  embeddings_19  embeddings_20  embeddings_21  embeddings_22  embeddings_23  embeddings_24  embeddings_25  embeddings_26  ...  embeddings_482  embeddings_483  embeddings_484  embeddings_485  embeddings_486  embeddings_487  embeddings_488  embeddings_489  \\\n",
       "483398       0.008324       0.011653       0.018594      -0.043833       0.011787       0.042242      -0.052835       0.024818       0.004836       0.049712  ...       -0.000133        0.011356       -0.082734       -0.010753        0.048662       -0.024157       -0.024809       -0.055835   \n",
       "483399      -0.032410      -0.012456       0.081674      -0.066014       0.125445       0.048917      -0.001884       0.089766      -0.058626      -0.003665  ...        0.008788        0.017257       -0.053767       -0.019011        0.075949       -0.114006       -0.055496       -0.027919   \n",
       "483400       0.015550      -0.019624       0.054169      -0.037536       0.051272      -0.019931      -0.042147       0.038471       0.049895      -0.061262  ...       -0.049496       -0.010919       -0.008698        0.055555        0.020364       -0.069475        0.026155        0.009584   \n",
       "483401       0.091329       0.057891       0.036463      -0.036746       0.075548       0.040508       0.011599      -0.033443      -0.019531      -0.037201  ...       -0.032646       -0.064596        0.012030        0.022919        0.003585       -0.117777       -0.010177       -0.039885   \n",
       "483402       0.003409       0.034294      -0.061813      -0.040847       0.042555       0.010091       0.086087       0.037003      -0.037780       0.082697  ...        0.008532       -0.074757        0.063589        0.060451        0.053137       -0.071232       -0.015800        0.034549   \n",
       "\n",
       "        embeddings_490  embeddings_491  embeddings_492  embeddings_493  embeddings_494  embeddings_495  embeddings_496  embeddings_497  embeddings_498  embeddings_499  embeddings_500  embeddings_501  embeddings_502  embeddings_503  embeddings_504  embeddings_505  embeddings_506  embeddings_507  \\\n",
       "483398       -0.003466        0.037034       -0.026417        0.017363        0.041431        0.012136       -0.068084        0.060840       -0.049690       -0.052496       -0.038352        0.043732        0.013604        0.044257        0.021174        0.014155       -0.009225       -0.033644   \n",
       "483399       -0.029389       -0.003952        0.030141       -0.009108       -0.059239       -0.037925       -0.078233        0.025885       -0.042855        0.039699       -0.011792       -0.036198       -0.101189        0.005298        0.046411       -0.064717       -0.060539       -0.023111   \n",
       "483400        0.056685        0.018035        0.043154        0.060423        0.002035       -0.032125        0.019131        0.001583       -0.023084       -0.010004        0.003967        0.029053       -0.110760       -0.039405        0.065578        0.058648        0.053029        0.002569   \n",
       "483401        0.040840        0.014177        0.076190        0.048344        0.018211       -0.021509        0.029074       -0.004563        0.017267        0.001694        0.029015        0.021855       -0.074530       -0.062627        0.083473        0.074024        0.053475       -0.008467   \n",
       "483402        0.036525        0.006025       -0.020449        0.023536        0.017202       -0.038329        0.021685        0.025175       -0.036519       -0.056744       -0.009225       -0.049298       -0.074865        0.031270        0.031479       -0.023028        0.047527       -0.019314   \n",
       "\n",
       "        embeddings_508  embeddings_509  embeddings_510  embeddings_511  \n",
       "483398        0.016431       -0.012967        0.034172        0.043068  \n",
       "483399       -0.064473        0.050646       -0.025636       -0.001309  \n",
       "483400       -0.016340        0.012294        0.027450        0.116622  \n",
       "483401        0.010310       -0.026929        0.015378        0.107798  \n",
       "483402       -0.058948       -0.020677       -0.000049        0.085667  \n",
       "\n",
       "[5 rows x 515 columns]"
      ]
     },
     "execution_count": 17,
     "metadata": {},
     "output_type": "execute_result"
    }
   ],
   "source": [
    "%%time\n",
    "job_agg2.df_v_comments.tail()"
   ]
  },
  {
   "cell_type": "code",
   "execution_count": 18,
   "id": "4c0c2bb5",
   "metadata": {},
   "outputs": [
    {
     "ename": "ArrowInvalid",
     "evalue": "Parquet magic bytes not found in footer. Either the file is corrupted or this is not a parquet file.",
     "output_type": "error",
     "traceback": [
      "\u001b[0;31m---------------------------------------------------------------------------\u001b[0m",
      "\u001b[0;31mArrowInvalid\u001b[0m                              Traceback (most recent call last)",
      "\u001b[0;32m<timed exec>\u001b[0m in \u001b[0;36m<module>\u001b[0;34m\u001b[0m\n",
      "\u001b[0;32m/opt/conda/lib/python3.7/site-packages/dask/base.py\u001b[0m in \u001b[0;36mcompute\u001b[0;34m(self, **kwargs)\u001b[0m\n\u001b[1;32m    283\u001b[0m         \u001b[0mdask\u001b[0m\u001b[0;34m.\u001b[0m\u001b[0mbase\u001b[0m\u001b[0;34m.\u001b[0m\u001b[0mcompute\u001b[0m\u001b[0;34m\u001b[0m\u001b[0;34m\u001b[0m\u001b[0m\n\u001b[1;32m    284\u001b[0m         \"\"\"\n\u001b[0;32m--> 285\u001b[0;31m         \u001b[0;34m(\u001b[0m\u001b[0mresult\u001b[0m\u001b[0;34m,\u001b[0m\u001b[0;34m)\u001b[0m \u001b[0;34m=\u001b[0m \u001b[0mcompute\u001b[0m\u001b[0;34m(\u001b[0m\u001b[0mself\u001b[0m\u001b[0;34m,\u001b[0m \u001b[0mtraverse\u001b[0m\u001b[0;34m=\u001b[0m\u001b[0;32mFalse\u001b[0m\u001b[0;34m,\u001b[0m \u001b[0;34m**\u001b[0m\u001b[0mkwargs\u001b[0m\u001b[0;34m)\u001b[0m\u001b[0;34m\u001b[0m\u001b[0;34m\u001b[0m\u001b[0m\n\u001b[0m\u001b[1;32m    286\u001b[0m         \u001b[0;32mreturn\u001b[0m \u001b[0mresult\u001b[0m\u001b[0;34m\u001b[0m\u001b[0;34m\u001b[0m\u001b[0m\n\u001b[1;32m    287\u001b[0m \u001b[0;34m\u001b[0m\u001b[0m\n",
      "\u001b[0;32m/opt/conda/lib/python3.7/site-packages/dask/base.py\u001b[0m in \u001b[0;36mcompute\u001b[0;34m(*args, **kwargs)\u001b[0m\n\u001b[1;32m    565\u001b[0m         \u001b[0mpostcomputes\u001b[0m\u001b[0;34m.\u001b[0m\u001b[0mappend\u001b[0m\u001b[0;34m(\u001b[0m\u001b[0mx\u001b[0m\u001b[0;34m.\u001b[0m\u001b[0m__dask_postcompute__\u001b[0m\u001b[0;34m(\u001b[0m\u001b[0;34m)\u001b[0m\u001b[0;34m)\u001b[0m\u001b[0;34m\u001b[0m\u001b[0;34m\u001b[0m\u001b[0m\n\u001b[1;32m    566\u001b[0m \u001b[0;34m\u001b[0m\u001b[0m\n\u001b[0;32m--> 567\u001b[0;31m     \u001b[0mresults\u001b[0m \u001b[0;34m=\u001b[0m \u001b[0mschedule\u001b[0m\u001b[0;34m(\u001b[0m\u001b[0mdsk\u001b[0m\u001b[0;34m,\u001b[0m \u001b[0mkeys\u001b[0m\u001b[0;34m,\u001b[0m \u001b[0;34m**\u001b[0m\u001b[0mkwargs\u001b[0m\u001b[0;34m)\u001b[0m\u001b[0;34m\u001b[0m\u001b[0;34m\u001b[0m\u001b[0m\n\u001b[0m\u001b[1;32m    568\u001b[0m     \u001b[0;32mreturn\u001b[0m \u001b[0mrepack\u001b[0m\u001b[0;34m(\u001b[0m\u001b[0;34m[\u001b[0m\u001b[0mf\u001b[0m\u001b[0;34m(\u001b[0m\u001b[0mr\u001b[0m\u001b[0;34m,\u001b[0m \u001b[0;34m*\u001b[0m\u001b[0ma\u001b[0m\u001b[0;34m)\u001b[0m \u001b[0;32mfor\u001b[0m \u001b[0mr\u001b[0m\u001b[0;34m,\u001b[0m \u001b[0;34m(\u001b[0m\u001b[0mf\u001b[0m\u001b[0;34m,\u001b[0m \u001b[0ma\u001b[0m\u001b[0;34m)\u001b[0m \u001b[0;32min\u001b[0m \u001b[0mzip\u001b[0m\u001b[0;34m(\u001b[0m\u001b[0mresults\u001b[0m\u001b[0;34m,\u001b[0m \u001b[0mpostcomputes\u001b[0m\u001b[0;34m)\u001b[0m\u001b[0;34m]\u001b[0m\u001b[0;34m)\u001b[0m\u001b[0;34m\u001b[0m\u001b[0;34m\u001b[0m\u001b[0m\n\u001b[1;32m    569\u001b[0m \u001b[0;34m\u001b[0m\u001b[0m\n",
      "\u001b[0;32m/opt/conda/lib/python3.7/site-packages/distributed/client.py\u001b[0m in \u001b[0;36mget\u001b[0;34m(self, dsk, keys, workers, allow_other_workers, resources, sync, asynchronous, direct, retries, priority, fifo_timeout, actors, **kwargs)\u001b[0m\n\u001b[1;32m   2671\u001b[0m                     \u001b[0mshould_rejoin\u001b[0m \u001b[0;34m=\u001b[0m \u001b[0;32mFalse\u001b[0m\u001b[0;34m\u001b[0m\u001b[0;34m\u001b[0m\u001b[0m\n\u001b[1;32m   2672\u001b[0m             \u001b[0;32mtry\u001b[0m\u001b[0;34m:\u001b[0m\u001b[0;34m\u001b[0m\u001b[0;34m\u001b[0m\u001b[0m\n\u001b[0;32m-> 2673\u001b[0;31m                 \u001b[0mresults\u001b[0m \u001b[0;34m=\u001b[0m \u001b[0mself\u001b[0m\u001b[0;34m.\u001b[0m\u001b[0mgather\u001b[0m\u001b[0;34m(\u001b[0m\u001b[0mpacked\u001b[0m\u001b[0;34m,\u001b[0m \u001b[0masynchronous\u001b[0m\u001b[0;34m=\u001b[0m\u001b[0masynchronous\u001b[0m\u001b[0;34m,\u001b[0m \u001b[0mdirect\u001b[0m\u001b[0;34m=\u001b[0m\u001b[0mdirect\u001b[0m\u001b[0;34m)\u001b[0m\u001b[0;34m\u001b[0m\u001b[0;34m\u001b[0m\u001b[0m\n\u001b[0m\u001b[1;32m   2674\u001b[0m             \u001b[0;32mfinally\u001b[0m\u001b[0;34m:\u001b[0m\u001b[0;34m\u001b[0m\u001b[0;34m\u001b[0m\u001b[0m\n\u001b[1;32m   2675\u001b[0m                 \u001b[0;32mfor\u001b[0m \u001b[0mf\u001b[0m \u001b[0;32min\u001b[0m \u001b[0mfutures\u001b[0m\u001b[0;34m.\u001b[0m\u001b[0mvalues\u001b[0m\u001b[0;34m(\u001b[0m\u001b[0;34m)\u001b[0m\u001b[0;34m:\u001b[0m\u001b[0;34m\u001b[0m\u001b[0;34m\u001b[0m\u001b[0m\n",
      "\u001b[0;32m/opt/conda/lib/python3.7/site-packages/distributed/client.py\u001b[0m in \u001b[0;36mgather\u001b[0;34m(self, futures, errors, direct, asynchronous)\u001b[0m\n\u001b[1;32m   1986\u001b[0m                 \u001b[0mdirect\u001b[0m\u001b[0;34m=\u001b[0m\u001b[0mdirect\u001b[0m\u001b[0;34m,\u001b[0m\u001b[0;34m\u001b[0m\u001b[0;34m\u001b[0m\u001b[0m\n\u001b[1;32m   1987\u001b[0m                 \u001b[0mlocal_worker\u001b[0m\u001b[0;34m=\u001b[0m\u001b[0mlocal_worker\u001b[0m\u001b[0;34m,\u001b[0m\u001b[0;34m\u001b[0m\u001b[0;34m\u001b[0m\u001b[0m\n\u001b[0;32m-> 1988\u001b[0;31m                 \u001b[0masynchronous\u001b[0m\u001b[0;34m=\u001b[0m\u001b[0masynchronous\u001b[0m\u001b[0;34m,\u001b[0m\u001b[0;34m\u001b[0m\u001b[0;34m\u001b[0m\u001b[0m\n\u001b[0m\u001b[1;32m   1989\u001b[0m             )\n\u001b[1;32m   1990\u001b[0m \u001b[0;34m\u001b[0m\u001b[0m\n",
      "\u001b[0;32m/opt/conda/lib/python3.7/site-packages/distributed/client.py\u001b[0m in \u001b[0;36msync\u001b[0;34m(self, func, asynchronous, callback_timeout, *args, **kwargs)\u001b[0m\n\u001b[1;32m    852\u001b[0m         \u001b[0;32melse\u001b[0m\u001b[0;34m:\u001b[0m\u001b[0;34m\u001b[0m\u001b[0;34m\u001b[0m\u001b[0m\n\u001b[1;32m    853\u001b[0m             return sync(\n\u001b[0;32m--> 854\u001b[0;31m                 \u001b[0mself\u001b[0m\u001b[0;34m.\u001b[0m\u001b[0mloop\u001b[0m\u001b[0;34m,\u001b[0m \u001b[0mfunc\u001b[0m\u001b[0;34m,\u001b[0m \u001b[0;34m*\u001b[0m\u001b[0margs\u001b[0m\u001b[0;34m,\u001b[0m \u001b[0mcallback_timeout\u001b[0m\u001b[0;34m=\u001b[0m\u001b[0mcallback_timeout\u001b[0m\u001b[0;34m,\u001b[0m \u001b[0;34m**\u001b[0m\u001b[0mkwargs\u001b[0m\u001b[0;34m\u001b[0m\u001b[0;34m\u001b[0m\u001b[0m\n\u001b[0m\u001b[1;32m    855\u001b[0m             )\n\u001b[1;32m    856\u001b[0m \u001b[0;34m\u001b[0m\u001b[0m\n",
      "\u001b[0;32m/opt/conda/lib/python3.7/site-packages/distributed/utils.py\u001b[0m in \u001b[0;36msync\u001b[0;34m(loop, func, callback_timeout, *args, **kwargs)\u001b[0m\n\u001b[1;32m    352\u001b[0m     \u001b[0;32mif\u001b[0m \u001b[0merror\u001b[0m\u001b[0;34m[\u001b[0m\u001b[0;36m0\u001b[0m\u001b[0;34m]\u001b[0m\u001b[0;34m:\u001b[0m\u001b[0;34m\u001b[0m\u001b[0;34m\u001b[0m\u001b[0m\n\u001b[1;32m    353\u001b[0m         \u001b[0mtyp\u001b[0m\u001b[0;34m,\u001b[0m \u001b[0mexc\u001b[0m\u001b[0;34m,\u001b[0m \u001b[0mtb\u001b[0m \u001b[0;34m=\u001b[0m \u001b[0merror\u001b[0m\u001b[0;34m[\u001b[0m\u001b[0;36m0\u001b[0m\u001b[0;34m]\u001b[0m\u001b[0;34m\u001b[0m\u001b[0;34m\u001b[0m\u001b[0m\n\u001b[0;32m--> 354\u001b[0;31m         \u001b[0;32mraise\u001b[0m \u001b[0mexc\u001b[0m\u001b[0;34m.\u001b[0m\u001b[0mwith_traceback\u001b[0m\u001b[0;34m(\u001b[0m\u001b[0mtb\u001b[0m\u001b[0;34m)\u001b[0m\u001b[0;34m\u001b[0m\u001b[0;34m\u001b[0m\u001b[0m\n\u001b[0m\u001b[1;32m    355\u001b[0m     \u001b[0;32melse\u001b[0m\u001b[0;34m:\u001b[0m\u001b[0;34m\u001b[0m\u001b[0;34m\u001b[0m\u001b[0m\n\u001b[1;32m    356\u001b[0m         \u001b[0;32mreturn\u001b[0m \u001b[0mresult\u001b[0m\u001b[0;34m[\u001b[0m\u001b[0;36m0\u001b[0m\u001b[0;34m]\u001b[0m\u001b[0;34m\u001b[0m\u001b[0;34m\u001b[0m\u001b[0m\n",
      "\u001b[0;32m/opt/conda/lib/python3.7/site-packages/distributed/utils.py\u001b[0m in \u001b[0;36mf\u001b[0;34m()\u001b[0m\n\u001b[1;32m    335\u001b[0m             \u001b[0;32mif\u001b[0m \u001b[0mcallback_timeout\u001b[0m \u001b[0;32mis\u001b[0m \u001b[0;32mnot\u001b[0m \u001b[0;32mNone\u001b[0m\u001b[0;34m:\u001b[0m\u001b[0;34m\u001b[0m\u001b[0;34m\u001b[0m\u001b[0m\n\u001b[1;32m    336\u001b[0m                 \u001b[0mfuture\u001b[0m \u001b[0;34m=\u001b[0m \u001b[0masyncio\u001b[0m\u001b[0;34m.\u001b[0m\u001b[0mwait_for\u001b[0m\u001b[0;34m(\u001b[0m\u001b[0mfuture\u001b[0m\u001b[0;34m,\u001b[0m \u001b[0mcallback_timeout\u001b[0m\u001b[0;34m)\u001b[0m\u001b[0;34m\u001b[0m\u001b[0;34m\u001b[0m\u001b[0m\n\u001b[0;32m--> 337\u001b[0;31m             \u001b[0mresult\u001b[0m\u001b[0;34m[\u001b[0m\u001b[0;36m0\u001b[0m\u001b[0;34m]\u001b[0m \u001b[0;34m=\u001b[0m \u001b[0;32myield\u001b[0m \u001b[0mfuture\u001b[0m\u001b[0;34m\u001b[0m\u001b[0;34m\u001b[0m\u001b[0m\n\u001b[0m\u001b[1;32m    338\u001b[0m         \u001b[0;32mexcept\u001b[0m \u001b[0mException\u001b[0m \u001b[0;32mas\u001b[0m \u001b[0mexc\u001b[0m\u001b[0;34m:\u001b[0m\u001b[0;34m\u001b[0m\u001b[0;34m\u001b[0m\u001b[0m\n\u001b[1;32m    339\u001b[0m             \u001b[0merror\u001b[0m\u001b[0;34m[\u001b[0m\u001b[0;36m0\u001b[0m\u001b[0;34m]\u001b[0m \u001b[0;34m=\u001b[0m \u001b[0msys\u001b[0m\u001b[0;34m.\u001b[0m\u001b[0mexc_info\u001b[0m\u001b[0;34m(\u001b[0m\u001b[0;34m)\u001b[0m\u001b[0;34m\u001b[0m\u001b[0;34m\u001b[0m\u001b[0m\n",
      "\u001b[0;32m/opt/conda/lib/python3.7/site-packages/tornado/gen.py\u001b[0m in \u001b[0;36mrun\u001b[0;34m(self)\u001b[0m\n\u001b[1;32m    760\u001b[0m \u001b[0;34m\u001b[0m\u001b[0m\n\u001b[1;32m    761\u001b[0m                     \u001b[0;32mtry\u001b[0m\u001b[0;34m:\u001b[0m\u001b[0;34m\u001b[0m\u001b[0;34m\u001b[0m\u001b[0m\n\u001b[0;32m--> 762\u001b[0;31m                         \u001b[0mvalue\u001b[0m \u001b[0;34m=\u001b[0m \u001b[0mfuture\u001b[0m\u001b[0;34m.\u001b[0m\u001b[0mresult\u001b[0m\u001b[0;34m(\u001b[0m\u001b[0;34m)\u001b[0m\u001b[0;34m\u001b[0m\u001b[0;34m\u001b[0m\u001b[0m\n\u001b[0m\u001b[1;32m    763\u001b[0m                     \u001b[0;32mexcept\u001b[0m \u001b[0mException\u001b[0m\u001b[0;34m:\u001b[0m\u001b[0;34m\u001b[0m\u001b[0;34m\u001b[0m\u001b[0m\n\u001b[1;32m    764\u001b[0m                         \u001b[0mexc_info\u001b[0m \u001b[0;34m=\u001b[0m \u001b[0msys\u001b[0m\u001b[0;34m.\u001b[0m\u001b[0mexc_info\u001b[0m\u001b[0;34m(\u001b[0m\u001b[0;34m)\u001b[0m\u001b[0;34m\u001b[0m\u001b[0;34m\u001b[0m\u001b[0m\n",
      "\u001b[0;32m/opt/conda/lib/python3.7/site-packages/distributed/client.py\u001b[0m in \u001b[0;36m_gather\u001b[0;34m(self, futures, errors, direct, local_worker)\u001b[0m\n\u001b[1;32m   1845\u001b[0m                             \u001b[0mexc\u001b[0m \u001b[0;34m=\u001b[0m \u001b[0mCancelledError\u001b[0m\u001b[0;34m(\u001b[0m\u001b[0mkey\u001b[0m\u001b[0;34m)\u001b[0m\u001b[0;34m\u001b[0m\u001b[0;34m\u001b[0m\u001b[0m\n\u001b[1;32m   1846\u001b[0m                         \u001b[0;32melse\u001b[0m\u001b[0;34m:\u001b[0m\u001b[0;34m\u001b[0m\u001b[0;34m\u001b[0m\u001b[0m\n\u001b[0;32m-> 1847\u001b[0;31m                             \u001b[0;32mraise\u001b[0m \u001b[0mexception\u001b[0m\u001b[0;34m.\u001b[0m\u001b[0mwith_traceback\u001b[0m\u001b[0;34m(\u001b[0m\u001b[0mtraceback\u001b[0m\u001b[0;34m)\u001b[0m\u001b[0;34m\u001b[0m\u001b[0;34m\u001b[0m\u001b[0m\n\u001b[0m\u001b[1;32m   1848\u001b[0m                         \u001b[0;32mraise\u001b[0m \u001b[0mexc\u001b[0m\u001b[0;34m\u001b[0m\u001b[0;34m\u001b[0m\u001b[0m\n\u001b[1;32m   1849\u001b[0m                     \u001b[0;32mif\u001b[0m \u001b[0merrors\u001b[0m \u001b[0;34m==\u001b[0m \u001b[0;34m\"skip\"\u001b[0m\u001b[0;34m:\u001b[0m\u001b[0;34m\u001b[0m\u001b[0;34m\u001b[0m\u001b[0m\n",
      "\u001b[0;32m/opt/conda/lib/python3.7/site-packages/dask/optimization.py\u001b[0m in \u001b[0;36m__call__\u001b[0;34m()\u001b[0m\n\u001b[1;32m    964\u001b[0m         \u001b[0;32mif\u001b[0m \u001b[0;32mnot\u001b[0m \u001b[0mlen\u001b[0m\u001b[0;34m(\u001b[0m\u001b[0margs\u001b[0m\u001b[0;34m)\u001b[0m \u001b[0;34m==\u001b[0m \u001b[0mlen\u001b[0m\u001b[0;34m(\u001b[0m\u001b[0mself\u001b[0m\u001b[0;34m.\u001b[0m\u001b[0minkeys\u001b[0m\u001b[0;34m)\u001b[0m\u001b[0;34m:\u001b[0m\u001b[0;34m\u001b[0m\u001b[0;34m\u001b[0m\u001b[0m\n\u001b[1;32m    965\u001b[0m             \u001b[0;32mraise\u001b[0m \u001b[0mValueError\u001b[0m\u001b[0;34m(\u001b[0m\u001b[0;34m\"Expected %d args, got %d\"\u001b[0m \u001b[0;34m%\u001b[0m \u001b[0;34m(\u001b[0m\u001b[0mlen\u001b[0m\u001b[0;34m(\u001b[0m\u001b[0mself\u001b[0m\u001b[0;34m.\u001b[0m\u001b[0minkeys\u001b[0m\u001b[0;34m)\u001b[0m\u001b[0;34m,\u001b[0m \u001b[0mlen\u001b[0m\u001b[0;34m(\u001b[0m\u001b[0margs\u001b[0m\u001b[0;34m)\u001b[0m\u001b[0;34m)\u001b[0m\u001b[0;34m)\u001b[0m\u001b[0;34m\u001b[0m\u001b[0;34m\u001b[0m\u001b[0m\n\u001b[0;32m--> 966\u001b[0;31m         \u001b[0;32mreturn\u001b[0m \u001b[0mcore\u001b[0m\u001b[0;34m.\u001b[0m\u001b[0mget\u001b[0m\u001b[0;34m(\u001b[0m\u001b[0mself\u001b[0m\u001b[0;34m.\u001b[0m\u001b[0mdsk\u001b[0m\u001b[0;34m,\u001b[0m \u001b[0mself\u001b[0m\u001b[0;34m.\u001b[0m\u001b[0moutkey\u001b[0m\u001b[0;34m,\u001b[0m \u001b[0mdict\u001b[0m\u001b[0;34m(\u001b[0m\u001b[0mzip\u001b[0m\u001b[0;34m(\u001b[0m\u001b[0mself\u001b[0m\u001b[0;34m.\u001b[0m\u001b[0minkeys\u001b[0m\u001b[0;34m,\u001b[0m \u001b[0margs\u001b[0m\u001b[0;34m)\u001b[0m\u001b[0;34m)\u001b[0m\u001b[0;34m)\u001b[0m\u001b[0;34m\u001b[0m\u001b[0;34m\u001b[0m\u001b[0m\n\u001b[0m\u001b[1;32m    967\u001b[0m \u001b[0;34m\u001b[0m\u001b[0m\n\u001b[1;32m    968\u001b[0m     \u001b[0;32mdef\u001b[0m \u001b[0m__reduce__\u001b[0m\u001b[0;34m(\u001b[0m\u001b[0mself\u001b[0m\u001b[0;34m)\u001b[0m\u001b[0;34m:\u001b[0m\u001b[0;34m\u001b[0m\u001b[0;34m\u001b[0m\u001b[0m\n",
      "\u001b[0;32m/opt/conda/lib/python3.7/site-packages/dask/core.py\u001b[0m in \u001b[0;36mget\u001b[0;34m()\u001b[0m\n\u001b[1;32m    149\u001b[0m     \u001b[0;32mfor\u001b[0m \u001b[0mkey\u001b[0m \u001b[0;32min\u001b[0m \u001b[0mtoposort\u001b[0m\u001b[0;34m(\u001b[0m\u001b[0mdsk\u001b[0m\u001b[0;34m)\u001b[0m\u001b[0;34m:\u001b[0m\u001b[0;34m\u001b[0m\u001b[0;34m\u001b[0m\u001b[0m\n\u001b[1;32m    150\u001b[0m         \u001b[0mtask\u001b[0m \u001b[0;34m=\u001b[0m \u001b[0mdsk\u001b[0m\u001b[0;34m[\u001b[0m\u001b[0mkey\u001b[0m\u001b[0;34m]\u001b[0m\u001b[0;34m\u001b[0m\u001b[0;34m\u001b[0m\u001b[0m\n\u001b[0;32m--> 151\u001b[0;31m         \u001b[0mresult\u001b[0m \u001b[0;34m=\u001b[0m \u001b[0m_execute_task\u001b[0m\u001b[0;34m(\u001b[0m\u001b[0mtask\u001b[0m\u001b[0;34m,\u001b[0m \u001b[0mcache\u001b[0m\u001b[0;34m)\u001b[0m\u001b[0;34m\u001b[0m\u001b[0;34m\u001b[0m\u001b[0m\n\u001b[0m\u001b[1;32m    152\u001b[0m         \u001b[0mcache\u001b[0m\u001b[0;34m[\u001b[0m\u001b[0mkey\u001b[0m\u001b[0;34m]\u001b[0m \u001b[0;34m=\u001b[0m \u001b[0mresult\u001b[0m\u001b[0;34m\u001b[0m\u001b[0;34m\u001b[0m\u001b[0m\n\u001b[1;32m    153\u001b[0m     \u001b[0mresult\u001b[0m \u001b[0;34m=\u001b[0m \u001b[0m_execute_task\u001b[0m\u001b[0;34m(\u001b[0m\u001b[0mout\u001b[0m\u001b[0;34m,\u001b[0m \u001b[0mcache\u001b[0m\u001b[0;34m)\u001b[0m\u001b[0;34m\u001b[0m\u001b[0;34m\u001b[0m\u001b[0m\n",
      "\u001b[0;32m/opt/conda/lib/python3.7/site-packages/dask/core.py\u001b[0m in \u001b[0;36m_execute_task\u001b[0;34m()\u001b[0m\n\u001b[1;32m    119\u001b[0m         \u001b[0;31m# temporaries by their reference count and can execute certain\u001b[0m\u001b[0;34m\u001b[0m\u001b[0;34m\u001b[0m\u001b[0;34m\u001b[0m\u001b[0m\n\u001b[1;32m    120\u001b[0m         \u001b[0;31m# operations in-place.\u001b[0m\u001b[0;34m\u001b[0m\u001b[0;34m\u001b[0m\u001b[0;34m\u001b[0m\u001b[0m\n\u001b[0;32m--> 121\u001b[0;31m         \u001b[0;32mreturn\u001b[0m \u001b[0mfunc\u001b[0m\u001b[0;34m(\u001b[0m\u001b[0;34m*\u001b[0m\u001b[0;34m(\u001b[0m\u001b[0m_execute_task\u001b[0m\u001b[0;34m(\u001b[0m\u001b[0ma\u001b[0m\u001b[0;34m,\u001b[0m \u001b[0mcache\u001b[0m\u001b[0;34m)\u001b[0m \u001b[0;32mfor\u001b[0m \u001b[0ma\u001b[0m \u001b[0;32min\u001b[0m \u001b[0margs\u001b[0m\u001b[0;34m)\u001b[0m\u001b[0;34m)\u001b[0m\u001b[0;34m\u001b[0m\u001b[0;34m\u001b[0m\u001b[0m\n\u001b[0m\u001b[1;32m    122\u001b[0m     \u001b[0;32melif\u001b[0m \u001b[0;32mnot\u001b[0m \u001b[0mishashable\u001b[0m\u001b[0;34m(\u001b[0m\u001b[0marg\u001b[0m\u001b[0;34m)\u001b[0m\u001b[0;34m:\u001b[0m\u001b[0;34m\u001b[0m\u001b[0;34m\u001b[0m\u001b[0m\n\u001b[1;32m    123\u001b[0m         \u001b[0;32mreturn\u001b[0m \u001b[0marg\u001b[0m\u001b[0;34m\u001b[0m\u001b[0;34m\u001b[0m\u001b[0m\n",
      "\u001b[0;32m/opt/conda/lib/python3.7/site-packages/dask/core.py\u001b[0m in \u001b[0;36m<genexpr>\u001b[0;34m()\u001b[0m\n\u001b[1;32m    119\u001b[0m         \u001b[0;31m# temporaries by their reference count and can execute certain\u001b[0m\u001b[0;34m\u001b[0m\u001b[0;34m\u001b[0m\u001b[0;34m\u001b[0m\u001b[0m\n\u001b[1;32m    120\u001b[0m         \u001b[0;31m# operations in-place.\u001b[0m\u001b[0;34m\u001b[0m\u001b[0;34m\u001b[0m\u001b[0;34m\u001b[0m\u001b[0m\n\u001b[0;32m--> 121\u001b[0;31m         \u001b[0;32mreturn\u001b[0m \u001b[0mfunc\u001b[0m\u001b[0;34m(\u001b[0m\u001b[0;34m*\u001b[0m\u001b[0;34m(\u001b[0m\u001b[0m_execute_task\u001b[0m\u001b[0;34m(\u001b[0m\u001b[0ma\u001b[0m\u001b[0;34m,\u001b[0m \u001b[0mcache\u001b[0m\u001b[0;34m)\u001b[0m \u001b[0;32mfor\u001b[0m \u001b[0ma\u001b[0m \u001b[0;32min\u001b[0m \u001b[0margs\u001b[0m\u001b[0;34m)\u001b[0m\u001b[0;34m)\u001b[0m\u001b[0;34m\u001b[0m\u001b[0;34m\u001b[0m\u001b[0m\n\u001b[0m\u001b[1;32m    122\u001b[0m     \u001b[0;32melif\u001b[0m \u001b[0;32mnot\u001b[0m \u001b[0mishashable\u001b[0m\u001b[0;34m(\u001b[0m\u001b[0marg\u001b[0m\u001b[0;34m)\u001b[0m\u001b[0;34m:\u001b[0m\u001b[0;34m\u001b[0m\u001b[0;34m\u001b[0m\u001b[0m\n\u001b[1;32m    123\u001b[0m         \u001b[0;32mreturn\u001b[0m \u001b[0marg\u001b[0m\u001b[0;34m\u001b[0m\u001b[0;34m\u001b[0m\u001b[0m\n",
      "\u001b[0;32m/opt/conda/lib/python3.7/site-packages/dask/core.py\u001b[0m in \u001b[0;36m_execute_task\u001b[0;34m()\u001b[0m\n\u001b[1;32m    119\u001b[0m         \u001b[0;31m# temporaries by their reference count and can execute certain\u001b[0m\u001b[0;34m\u001b[0m\u001b[0;34m\u001b[0m\u001b[0;34m\u001b[0m\u001b[0m\n\u001b[1;32m    120\u001b[0m         \u001b[0;31m# operations in-place.\u001b[0m\u001b[0;34m\u001b[0m\u001b[0;34m\u001b[0m\u001b[0;34m\u001b[0m\u001b[0m\n\u001b[0;32m--> 121\u001b[0;31m         \u001b[0;32mreturn\u001b[0m \u001b[0mfunc\u001b[0m\u001b[0;34m(\u001b[0m\u001b[0;34m*\u001b[0m\u001b[0;34m(\u001b[0m\u001b[0m_execute_task\u001b[0m\u001b[0;34m(\u001b[0m\u001b[0ma\u001b[0m\u001b[0;34m,\u001b[0m \u001b[0mcache\u001b[0m\u001b[0;34m)\u001b[0m \u001b[0;32mfor\u001b[0m \u001b[0ma\u001b[0m \u001b[0;32min\u001b[0m \u001b[0margs\u001b[0m\u001b[0;34m)\u001b[0m\u001b[0;34m)\u001b[0m\u001b[0;34m\u001b[0m\u001b[0;34m\u001b[0m\u001b[0m\n\u001b[0m\u001b[1;32m    122\u001b[0m     \u001b[0;32melif\u001b[0m \u001b[0;32mnot\u001b[0m \u001b[0mishashable\u001b[0m\u001b[0;34m(\u001b[0m\u001b[0marg\u001b[0m\u001b[0;34m)\u001b[0m\u001b[0;34m:\u001b[0m\u001b[0;34m\u001b[0m\u001b[0;34m\u001b[0m\u001b[0m\n\u001b[1;32m    123\u001b[0m         \u001b[0;32mreturn\u001b[0m \u001b[0marg\u001b[0m\u001b[0;34m\u001b[0m\u001b[0;34m\u001b[0m\u001b[0m\n",
      "\u001b[0;32m/opt/conda/lib/python3.7/site-packages/dask/core.py\u001b[0m in \u001b[0;36m<genexpr>\u001b[0;34m()\u001b[0m\n\u001b[1;32m    119\u001b[0m         \u001b[0;31m# temporaries by their reference count and can execute certain\u001b[0m\u001b[0;34m\u001b[0m\u001b[0;34m\u001b[0m\u001b[0;34m\u001b[0m\u001b[0m\n\u001b[1;32m    120\u001b[0m         \u001b[0;31m# operations in-place.\u001b[0m\u001b[0;34m\u001b[0m\u001b[0;34m\u001b[0m\u001b[0;34m\u001b[0m\u001b[0m\n\u001b[0;32m--> 121\u001b[0;31m         \u001b[0;32mreturn\u001b[0m \u001b[0mfunc\u001b[0m\u001b[0;34m(\u001b[0m\u001b[0;34m*\u001b[0m\u001b[0;34m(\u001b[0m\u001b[0m_execute_task\u001b[0m\u001b[0;34m(\u001b[0m\u001b[0ma\u001b[0m\u001b[0;34m,\u001b[0m \u001b[0mcache\u001b[0m\u001b[0;34m)\u001b[0m \u001b[0;32mfor\u001b[0m \u001b[0ma\u001b[0m \u001b[0;32min\u001b[0m \u001b[0margs\u001b[0m\u001b[0;34m)\u001b[0m\u001b[0;34m)\u001b[0m\u001b[0;34m\u001b[0m\u001b[0;34m\u001b[0m\u001b[0m\n\u001b[0m\u001b[1;32m    122\u001b[0m     \u001b[0;32melif\u001b[0m \u001b[0;32mnot\u001b[0m \u001b[0mishashable\u001b[0m\u001b[0;34m(\u001b[0m\u001b[0marg\u001b[0m\u001b[0;34m)\u001b[0m\u001b[0;34m:\u001b[0m\u001b[0;34m\u001b[0m\u001b[0;34m\u001b[0m\u001b[0m\n\u001b[1;32m    123\u001b[0m         \u001b[0;32mreturn\u001b[0m \u001b[0marg\u001b[0m\u001b[0;34m\u001b[0m\u001b[0;34m\u001b[0m\u001b[0m\n",
      "\u001b[0;32m/opt/conda/lib/python3.7/site-packages/dask/core.py\u001b[0m in \u001b[0;36m_execute_task\u001b[0;34m()\u001b[0m\n\u001b[1;32m    113\u001b[0m     \"\"\"\n\u001b[1;32m    114\u001b[0m     \u001b[0;32mif\u001b[0m \u001b[0misinstance\u001b[0m\u001b[0;34m(\u001b[0m\u001b[0marg\u001b[0m\u001b[0;34m,\u001b[0m \u001b[0mlist\u001b[0m\u001b[0;34m)\u001b[0m\u001b[0;34m:\u001b[0m\u001b[0;34m\u001b[0m\u001b[0;34m\u001b[0m\u001b[0m\n\u001b[0;32m--> 115\u001b[0;31m         \u001b[0;32mreturn\u001b[0m \u001b[0;34m[\u001b[0m\u001b[0m_execute_task\u001b[0m\u001b[0;34m(\u001b[0m\u001b[0ma\u001b[0m\u001b[0;34m,\u001b[0m \u001b[0mcache\u001b[0m\u001b[0;34m)\u001b[0m \u001b[0;32mfor\u001b[0m \u001b[0ma\u001b[0m \u001b[0;32min\u001b[0m \u001b[0marg\u001b[0m\u001b[0;34m]\u001b[0m\u001b[0;34m\u001b[0m\u001b[0;34m\u001b[0m\u001b[0m\n\u001b[0m\u001b[1;32m    116\u001b[0m     \u001b[0;32melif\u001b[0m \u001b[0mistask\u001b[0m\u001b[0;34m(\u001b[0m\u001b[0marg\u001b[0m\u001b[0;34m)\u001b[0m\u001b[0;34m:\u001b[0m\u001b[0;34m\u001b[0m\u001b[0;34m\u001b[0m\u001b[0m\n\u001b[1;32m    117\u001b[0m         \u001b[0mfunc\u001b[0m\u001b[0;34m,\u001b[0m \u001b[0margs\u001b[0m \u001b[0;34m=\u001b[0m \u001b[0marg\u001b[0m\u001b[0;34m[\u001b[0m\u001b[0;36m0\u001b[0m\u001b[0;34m]\u001b[0m\u001b[0;34m,\u001b[0m \u001b[0marg\u001b[0m\u001b[0;34m[\u001b[0m\u001b[0;36m1\u001b[0m\u001b[0;34m:\u001b[0m\u001b[0;34m]\u001b[0m\u001b[0;34m\u001b[0m\u001b[0;34m\u001b[0m\u001b[0m\n",
      "\u001b[0;32m/opt/conda/lib/python3.7/site-packages/dask/core.py\u001b[0m in \u001b[0;36m<listcomp>\u001b[0;34m()\u001b[0m\n\u001b[1;32m    113\u001b[0m     \"\"\"\n\u001b[1;32m    114\u001b[0m     \u001b[0;32mif\u001b[0m \u001b[0misinstance\u001b[0m\u001b[0;34m(\u001b[0m\u001b[0marg\u001b[0m\u001b[0;34m,\u001b[0m \u001b[0mlist\u001b[0m\u001b[0;34m)\u001b[0m\u001b[0;34m:\u001b[0m\u001b[0;34m\u001b[0m\u001b[0;34m\u001b[0m\u001b[0m\n\u001b[0;32m--> 115\u001b[0;31m         \u001b[0;32mreturn\u001b[0m \u001b[0;34m[\u001b[0m\u001b[0m_execute_task\u001b[0m\u001b[0;34m(\u001b[0m\u001b[0ma\u001b[0m\u001b[0;34m,\u001b[0m \u001b[0mcache\u001b[0m\u001b[0;34m)\u001b[0m \u001b[0;32mfor\u001b[0m \u001b[0ma\u001b[0m \u001b[0;32min\u001b[0m \u001b[0marg\u001b[0m\u001b[0;34m]\u001b[0m\u001b[0;34m\u001b[0m\u001b[0;34m\u001b[0m\u001b[0m\n\u001b[0m\u001b[1;32m    116\u001b[0m     \u001b[0;32melif\u001b[0m \u001b[0mistask\u001b[0m\u001b[0;34m(\u001b[0m\u001b[0marg\u001b[0m\u001b[0;34m)\u001b[0m\u001b[0;34m:\u001b[0m\u001b[0;34m\u001b[0m\u001b[0;34m\u001b[0m\u001b[0m\n\u001b[1;32m    117\u001b[0m         \u001b[0mfunc\u001b[0m\u001b[0;34m,\u001b[0m \u001b[0margs\u001b[0m \u001b[0;34m=\u001b[0m \u001b[0marg\u001b[0m\u001b[0;34m[\u001b[0m\u001b[0;36m0\u001b[0m\u001b[0;34m]\u001b[0m\u001b[0;34m,\u001b[0m \u001b[0marg\u001b[0m\u001b[0;34m[\u001b[0m\u001b[0;36m1\u001b[0m\u001b[0;34m:\u001b[0m\u001b[0;34m]\u001b[0m\u001b[0;34m\u001b[0m\u001b[0;34m\u001b[0m\u001b[0m\n",
      "\u001b[0;32m/opt/conda/lib/python3.7/site-packages/dask/core.py\u001b[0m in \u001b[0;36m_execute_task\u001b[0;34m()\u001b[0m\n\u001b[1;32m    119\u001b[0m         \u001b[0;31m# temporaries by their reference count and can execute certain\u001b[0m\u001b[0;34m\u001b[0m\u001b[0;34m\u001b[0m\u001b[0;34m\u001b[0m\u001b[0m\n\u001b[1;32m    120\u001b[0m         \u001b[0;31m# operations in-place.\u001b[0m\u001b[0;34m\u001b[0m\u001b[0;34m\u001b[0m\u001b[0;34m\u001b[0m\u001b[0m\n\u001b[0;32m--> 121\u001b[0;31m         \u001b[0;32mreturn\u001b[0m \u001b[0mfunc\u001b[0m\u001b[0;34m(\u001b[0m\u001b[0;34m*\u001b[0m\u001b[0;34m(\u001b[0m\u001b[0m_execute_task\u001b[0m\u001b[0;34m(\u001b[0m\u001b[0ma\u001b[0m\u001b[0;34m,\u001b[0m \u001b[0mcache\u001b[0m\u001b[0;34m)\u001b[0m \u001b[0;32mfor\u001b[0m \u001b[0ma\u001b[0m \u001b[0;32min\u001b[0m \u001b[0margs\u001b[0m\u001b[0;34m)\u001b[0m\u001b[0;34m)\u001b[0m\u001b[0;34m\u001b[0m\u001b[0;34m\u001b[0m\u001b[0m\n\u001b[0m\u001b[1;32m    122\u001b[0m     \u001b[0;32melif\u001b[0m \u001b[0;32mnot\u001b[0m \u001b[0mishashable\u001b[0m\u001b[0;34m(\u001b[0m\u001b[0marg\u001b[0m\u001b[0;34m)\u001b[0m\u001b[0;34m:\u001b[0m\u001b[0;34m\u001b[0m\u001b[0;34m\u001b[0m\u001b[0m\n\u001b[1;32m    123\u001b[0m         \u001b[0;32mreturn\u001b[0m \u001b[0marg\u001b[0m\u001b[0;34m\u001b[0m\u001b[0;34m\u001b[0m\u001b[0m\n",
      "\u001b[0;32m/opt/conda/lib/python3.7/site-packages/dask/dataframe/io/parquet/core.py\u001b[0m in \u001b[0;36m__call__\u001b[0;34m()\u001b[0m\n\u001b[1;32m     87\u001b[0m             \u001b[0mself\u001b[0m\u001b[0;34m.\u001b[0m\u001b[0mcolumns\u001b[0m\u001b[0;34m,\u001b[0m\u001b[0;34m\u001b[0m\u001b[0;34m\u001b[0m\u001b[0m\n\u001b[1;32m     88\u001b[0m             \u001b[0mself\u001b[0m\u001b[0;34m.\u001b[0m\u001b[0mindex\u001b[0m\u001b[0;34m,\u001b[0m\u001b[0;34m\u001b[0m\u001b[0;34m\u001b[0m\u001b[0m\n\u001b[0;32m---> 89\u001b[0;31m             \u001b[0mself\u001b[0m\u001b[0;34m.\u001b[0m\u001b[0mcommon_kwargs\u001b[0m\u001b[0;34m,\u001b[0m\u001b[0;34m\u001b[0m\u001b[0;34m\u001b[0m\u001b[0m\n\u001b[0m\u001b[1;32m     90\u001b[0m         )\n\u001b[1;32m     91\u001b[0m \u001b[0;34m\u001b[0m\u001b[0m\n",
      "\u001b[0;32m/opt/conda/lib/python3.7/site-packages/dask/dataframe/io/parquet/core.py\u001b[0m in \u001b[0;36mread_parquet_part\u001b[0;34m()\u001b[0m\n\u001b[1;32m    346\u001b[0m         dfs = [\n\u001b[1;32m    347\u001b[0m             \u001b[0mfunc\u001b[0m\u001b[0;34m(\u001b[0m\u001b[0mfs\u001b[0m\u001b[0;34m,\u001b[0m \u001b[0mrg\u001b[0m\u001b[0;34m,\u001b[0m \u001b[0mcolumns\u001b[0m\u001b[0;34m.\u001b[0m\u001b[0mcopy\u001b[0m\u001b[0;34m(\u001b[0m\u001b[0;34m)\u001b[0m\u001b[0;34m,\u001b[0m \u001b[0mindex\u001b[0m\u001b[0;34m,\u001b[0m \u001b[0;34m**\u001b[0m\u001b[0mtoolz\u001b[0m\u001b[0;34m.\u001b[0m\u001b[0mmerge\u001b[0m\u001b[0;34m(\u001b[0m\u001b[0mkwargs\u001b[0m\u001b[0;34m,\u001b[0m \u001b[0mkw\u001b[0m\u001b[0;34m)\u001b[0m\u001b[0;34m)\u001b[0m\u001b[0;34m\u001b[0m\u001b[0;34m\u001b[0m\u001b[0m\n\u001b[0;32m--> 348\u001b[0;31m             \u001b[0;32mfor\u001b[0m \u001b[0;34m(\u001b[0m\u001b[0mrg\u001b[0m\u001b[0;34m,\u001b[0m \u001b[0mkw\u001b[0m\u001b[0;34m)\u001b[0m \u001b[0;32min\u001b[0m \u001b[0mpart\u001b[0m\u001b[0;34m\u001b[0m\u001b[0;34m\u001b[0m\u001b[0m\n\u001b[0m\u001b[1;32m    349\u001b[0m         ]\n\u001b[1;32m    350\u001b[0m         \u001b[0mdf\u001b[0m \u001b[0;34m=\u001b[0m \u001b[0mconcat\u001b[0m\u001b[0;34m(\u001b[0m\u001b[0mdfs\u001b[0m\u001b[0;34m,\u001b[0m \u001b[0maxis\u001b[0m\u001b[0;34m=\u001b[0m\u001b[0;36m0\u001b[0m\u001b[0;34m)\u001b[0m\u001b[0;34m\u001b[0m\u001b[0;34m\u001b[0m\u001b[0m\n",
      "\u001b[0;32m/opt/conda/lib/python3.7/site-packages/dask/dataframe/io/parquet/core.py\u001b[0m in \u001b[0;36m<listcomp>\u001b[0;34m()\u001b[0m\n\u001b[1;32m    346\u001b[0m         dfs = [\n\u001b[1;32m    347\u001b[0m             \u001b[0mfunc\u001b[0m\u001b[0;34m(\u001b[0m\u001b[0mfs\u001b[0m\u001b[0;34m,\u001b[0m \u001b[0mrg\u001b[0m\u001b[0;34m,\u001b[0m \u001b[0mcolumns\u001b[0m\u001b[0;34m.\u001b[0m\u001b[0mcopy\u001b[0m\u001b[0;34m(\u001b[0m\u001b[0;34m)\u001b[0m\u001b[0;34m,\u001b[0m \u001b[0mindex\u001b[0m\u001b[0;34m,\u001b[0m \u001b[0;34m**\u001b[0m\u001b[0mtoolz\u001b[0m\u001b[0;34m.\u001b[0m\u001b[0mmerge\u001b[0m\u001b[0;34m(\u001b[0m\u001b[0mkwargs\u001b[0m\u001b[0;34m,\u001b[0m \u001b[0mkw\u001b[0m\u001b[0;34m)\u001b[0m\u001b[0;34m)\u001b[0m\u001b[0;34m\u001b[0m\u001b[0;34m\u001b[0m\u001b[0m\n\u001b[0;32m--> 348\u001b[0;31m             \u001b[0;32mfor\u001b[0m \u001b[0;34m(\u001b[0m\u001b[0mrg\u001b[0m\u001b[0;34m,\u001b[0m \u001b[0mkw\u001b[0m\u001b[0;34m)\u001b[0m \u001b[0;32min\u001b[0m \u001b[0mpart\u001b[0m\u001b[0;34m\u001b[0m\u001b[0;34m\u001b[0m\u001b[0m\n\u001b[0m\u001b[1;32m    349\u001b[0m         ]\n\u001b[1;32m    350\u001b[0m         \u001b[0mdf\u001b[0m \u001b[0;34m=\u001b[0m \u001b[0mconcat\u001b[0m\u001b[0;34m(\u001b[0m\u001b[0mdfs\u001b[0m\u001b[0;34m,\u001b[0m \u001b[0maxis\u001b[0m\u001b[0;34m=\u001b[0m\u001b[0;36m0\u001b[0m\u001b[0;34m)\u001b[0m\u001b[0;34m\u001b[0m\u001b[0;34m\u001b[0m\u001b[0m\n",
      "\u001b[0;32m/opt/conda/lib/python3.7/site-packages/dask/dataframe/io/parquet/arrow.py\u001b[0m in \u001b[0;36mread_partition\u001b[0;34m()\u001b[0m\n\u001b[1;32m    606\u001b[0m             \u001b[0mpartitions\u001b[0m\u001b[0;34m,\u001b[0m\u001b[0;34m\u001b[0m\u001b[0;34m\u001b[0m\u001b[0m\n\u001b[1;32m    607\u001b[0m             \u001b[0mpartition_keys\u001b[0m\u001b[0;34m,\u001b[0m\u001b[0;34m\u001b[0m\u001b[0;34m\u001b[0m\u001b[0m\n\u001b[0;32m--> 608\u001b[0;31m             \u001b[0;34m**\u001b[0m\u001b[0mkwargs\u001b[0m\u001b[0;34m,\u001b[0m\u001b[0;34m\u001b[0m\u001b[0;34m\u001b[0m\u001b[0m\n\u001b[0m\u001b[1;32m    609\u001b[0m         )\n\u001b[1;32m    610\u001b[0m \u001b[0;34m\u001b[0m\u001b[0m\n",
      "\u001b[0;32m/opt/conda/lib/python3.7/site-packages/dask/dataframe/io/parquet/arrow.py\u001b[0m in \u001b[0;36m_read_table\u001b[0;34m()\u001b[0m\n\u001b[1;32m   2027\u001b[0m             \u001b[0mpartition_keys\u001b[0m\u001b[0;34m,\u001b[0m\u001b[0;34m\u001b[0m\u001b[0;34m\u001b[0m\u001b[0m\n\u001b[1;32m   2028\u001b[0m             \u001b[0mcls\u001b[0m\u001b[0;34m.\u001b[0m\u001b[0m_parquet_piece_as_arrow\u001b[0m\u001b[0;34m,\u001b[0m\u001b[0;34m\u001b[0m\u001b[0;34m\u001b[0m\u001b[0m\n\u001b[0;32m-> 2029\u001b[0;31m             \u001b[0;34m**\u001b[0m\u001b[0mkwargs\u001b[0m\u001b[0;34m,\u001b[0m\u001b[0;34m\u001b[0m\u001b[0;34m\u001b[0m\u001b[0m\n\u001b[0m\u001b[1;32m   2030\u001b[0m         )\n\u001b[1;32m   2031\u001b[0m \u001b[0;34m\u001b[0m\u001b[0m\n",
      "\u001b[0;32m/opt/conda/lib/python3.7/site-packages/dask/dataframe/io/parquet/arrow.py\u001b[0m in \u001b[0;36m_read_table_from_path\u001b[0;34m()\u001b[0m\n\u001b[1;32m    398\u001b[0m         \u001b[0;32mwith\u001b[0m \u001b[0mfs\u001b[0m\u001b[0;34m.\u001b[0m\u001b[0mopen\u001b[0m\u001b[0;34m(\u001b[0m\u001b[0mpath\u001b[0m\u001b[0;34m,\u001b[0m \u001b[0mmode\u001b[0m\u001b[0;34m=\u001b[0m\u001b[0;34m\"rb\"\u001b[0m\u001b[0;34m)\u001b[0m \u001b[0;32mas\u001b[0m \u001b[0mfil\u001b[0m\u001b[0;34m:\u001b[0m\u001b[0;34m\u001b[0m\u001b[0;34m\u001b[0m\u001b[0m\n\u001b[1;32m    399\u001b[0m             \u001b[0;32mif\u001b[0m \u001b[0mrow_groups\u001b[0m \u001b[0;34m==\u001b[0m \u001b[0;34m[\u001b[0m\u001b[0;32mNone\u001b[0m\u001b[0;34m]\u001b[0m\u001b[0;34m:\u001b[0m\u001b[0;34m\u001b[0m\u001b[0;34m\u001b[0m\u001b[0m\n\u001b[0;32m--> 400\u001b[0;31m                 return pq.ParquetFile(fil).read(\n\u001b[0m\u001b[1;32m    401\u001b[0m                     \u001b[0mcolumns\u001b[0m\u001b[0;34m=\u001b[0m\u001b[0mcolumns\u001b[0m\u001b[0;34m,\u001b[0m\u001b[0;34m\u001b[0m\u001b[0;34m\u001b[0m\u001b[0m\n\u001b[1;32m    402\u001b[0m                     \u001b[0muse_threads\u001b[0m\u001b[0;34m=\u001b[0m\u001b[0;32mFalse\u001b[0m\u001b[0;34m,\u001b[0m\u001b[0;34m\u001b[0m\u001b[0;34m\u001b[0m\u001b[0m\n",
      "\u001b[0;32m/opt/conda/lib/python3.7/site-packages/pyarrow/parquet.py\u001b[0m in \u001b[0;36m__init__\u001b[0;34m()\u001b[0m\n\u001b[1;32m    217\u001b[0m         self.reader.open(source, use_memory_map=memory_map,\n\u001b[1;32m    218\u001b[0m                          \u001b[0mbuffer_size\u001b[0m\u001b[0;34m=\u001b[0m\u001b[0mbuffer_size\u001b[0m\u001b[0;34m,\u001b[0m\u001b[0;34m\u001b[0m\u001b[0;34m\u001b[0m\u001b[0m\n\u001b[0;32m--> 219\u001b[0;31m                          read_dictionary=read_dictionary, metadata=metadata)\n\u001b[0m\u001b[1;32m    220\u001b[0m         \u001b[0mself\u001b[0m\u001b[0;34m.\u001b[0m\u001b[0mcommon_metadata\u001b[0m \u001b[0;34m=\u001b[0m \u001b[0mcommon_metadata\u001b[0m\u001b[0;34m\u001b[0m\u001b[0;34m\u001b[0m\u001b[0m\n\u001b[1;32m    221\u001b[0m         \u001b[0mself\u001b[0m\u001b[0;34m.\u001b[0m\u001b[0m_nested_paths_by_prefix\u001b[0m \u001b[0;34m=\u001b[0m \u001b[0mself\u001b[0m\u001b[0;34m.\u001b[0m\u001b[0m_build_nested_paths\u001b[0m\u001b[0;34m(\u001b[0m\u001b[0;34m)\u001b[0m\u001b[0;34m\u001b[0m\u001b[0;34m\u001b[0m\u001b[0m\n",
      "\u001b[0;32m/opt/conda/lib/python3.7/site-packages/pyarrow/_parquet.pyx\u001b[0m in \u001b[0;36mpyarrow._parquet.ParquetReader.open\u001b[0;34m()\u001b[0m\n\u001b[1;32m    947\u001b[0m         \u001b[0mget_reader\u001b[0m\u001b[0;34m(\u001b[0m\u001b[0msource\u001b[0m\u001b[0;34m,\u001b[0m \u001b[0muse_memory_map\u001b[0m\u001b[0;34m,\u001b[0m \u001b[0;34m&\u001b[0m\u001b[0mrd_handle\u001b[0m\u001b[0;34m)\u001b[0m\u001b[0;34m\u001b[0m\u001b[0;34m\u001b[0m\u001b[0m\n\u001b[1;32m    948\u001b[0m         \u001b[0;32mwith\u001b[0m \u001b[0mnogil\u001b[0m\u001b[0;34m:\u001b[0m\u001b[0;34m\u001b[0m\u001b[0;34m\u001b[0m\u001b[0m\n\u001b[0;32m--> 949\u001b[0;31m             \u001b[0mcheck_status\u001b[0m\u001b[0;34m(\u001b[0m\u001b[0mbuilder\u001b[0m\u001b[0;34m.\u001b[0m\u001b[0mOpen\u001b[0m\u001b[0;34m(\u001b[0m\u001b[0mrd_handle\u001b[0m\u001b[0;34m,\u001b[0m \u001b[0mproperties\u001b[0m\u001b[0;34m,\u001b[0m \u001b[0mc_metadata\u001b[0m\u001b[0;34m)\u001b[0m\u001b[0;34m)\u001b[0m\u001b[0;34m\u001b[0m\u001b[0;34m\u001b[0m\u001b[0m\n\u001b[0m\u001b[1;32m    950\u001b[0m \u001b[0;34m\u001b[0m\u001b[0m\n\u001b[1;32m    951\u001b[0m         \u001b[0;31m# Set up metadata\u001b[0m\u001b[0;34m\u001b[0m\u001b[0;34m\u001b[0m\u001b[0;34m\u001b[0m\u001b[0m\n",
      "\u001b[0;32m/opt/conda/lib/python3.7/site-packages/pyarrow/error.pxi\u001b[0m in \u001b[0;36mpyarrow.lib.check_status\u001b[0;34m()\u001b[0m\n\u001b[1;32m     82\u001b[0m \u001b[0;34m\u001b[0m\u001b[0m\n\u001b[1;32m     83\u001b[0m         \u001b[0;32mif\u001b[0m \u001b[0mstatus\u001b[0m\u001b[0;34m.\u001b[0m\u001b[0mIsInvalid\u001b[0m\u001b[0;34m(\u001b[0m\u001b[0;34m)\u001b[0m\u001b[0;34m:\u001b[0m\u001b[0;34m\u001b[0m\u001b[0;34m\u001b[0m\u001b[0m\n\u001b[0;32m---> 84\u001b[0;31m             \u001b[0;32mraise\u001b[0m \u001b[0mArrowInvalid\u001b[0m\u001b[0;34m(\u001b[0m\u001b[0mmessage\u001b[0m\u001b[0;34m)\u001b[0m\u001b[0;34m\u001b[0m\u001b[0;34m\u001b[0m\u001b[0m\n\u001b[0m\u001b[1;32m     85\u001b[0m         \u001b[0;32melif\u001b[0m \u001b[0mstatus\u001b[0m\u001b[0;34m.\u001b[0m\u001b[0mIsIOError\u001b[0m\u001b[0;34m(\u001b[0m\u001b[0;34m)\u001b[0m\u001b[0;34m:\u001b[0m\u001b[0;34m\u001b[0m\u001b[0;34m\u001b[0m\u001b[0m\n\u001b[1;32m     86\u001b[0m             \u001b[0;31m# Note: OSError constructor is\u001b[0m\u001b[0;34m\u001b[0m\u001b[0;34m\u001b[0m\u001b[0;34m\u001b[0m\u001b[0m\n",
      "\u001b[0;31mArrowInvalid\u001b[0m: Parquet magic bytes not found in footer. Either the file is corrupted or this is not a parquet file."
     ]
    }
   ],
   "source": [
    "%%time\n",
    "s_post_id = job_agg2.df_v_comments['post_id'].compute()"
   ]
  },
  {
   "cell_type": "code",
   "execution_count": 19,
   "id": "8a9706cf",
   "metadata": {},
   "outputs": [
    {
     "name": "stdout",
     "output_type": "stream",
     "text": [
      "CPU times: user 1.77 s, sys: 562 ms, total: 2.33 s\n",
      "Wall time: 14.7 s\n"
     ]
    }
   ],
   "source": [
    "%%time\n",
    "s_post_post_id = job_agg2.df_v_posts['post_id'].compute()"
   ]
  },
  {
   "cell_type": "code",
   "execution_count": 21,
   "id": "5002801b",
   "metadata": {},
   "outputs": [
    {
     "data": {
      "text/plain": [
       "(1649929,)"
      ]
     },
     "execution_count": 21,
     "metadata": {},
     "output_type": "execute_result"
    }
   ],
   "source": [
    "s_post_post_id.shape"
   ]
  },
  {
   "cell_type": "code",
   "execution_count": 22,
   "id": "158872d9",
   "metadata": {},
   "outputs": [
    {
     "data": {
      "text/plain": [
       "0    t3_oa3lo5\n",
       "1    t3_oae9rr\n",
       "2    t3_oa1y50\n",
       "3    t3_oa7uvd\n",
       "4    t3_oa7p5v\n",
       "Name: post_id, dtype: object"
      ]
     },
     "execution_count": 22,
     "metadata": {},
     "output_type": "execute_result"
    }
   ],
   "source": [
    "s_post_post_id.head()"
   ]
  },
  {
   "cell_type": "code",
   "execution_count": null,
   "id": "9d7ab288",
   "metadata": {},
   "outputs": [],
   "source": []
  }
 ],
 "metadata": {
  "environment": {
   "name": "common-cpu.m65",
   "type": "gcloud",
   "uri": "gcr.io/deeplearning-platform-release/base-cpu:m65"
  },
  "kernelspec": {
   "display_name": "Python 3",
   "language": "python",
   "name": "python3"
  },
  "language_info": {
   "codemirror_mode": {
    "name": "ipython",
    "version": 3
   },
   "file_extension": ".py",
   "mimetype": "text/x-python",
   "name": "python",
   "nbconvert_exporter": "python",
   "pygments_lexer": "ipython3",
   "version": "3.7.10"
  }
 },
 "nbformat": 4,
 "nbformat_minor": 5
}
