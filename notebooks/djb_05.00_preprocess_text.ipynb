{
 "cells": [
  {
   "cell_type": "markdown",
   "id": "c7fa093e",
   "metadata": {},
   "source": [
    "# Purpose\n",
    "\n",
    "Apply the new `TextPreprocessor` class to preprocess text before going through tokenizing &/or vectorizing.\n",
    "\n",
    "We'll be using these data sets by different models/jobs, so run this notebook once and read it multiple times (instead of running it each time it's needed).\n"
   ]
  },
  {
   "cell_type": "markdown",
   "id": "d557fbbc",
   "metadata": {},
   "source": [
    "# Notebook setup"
   ]
  },
  {
   "cell_type": "code",
   "execution_count": 1,
   "id": "ace09386",
   "metadata": {},
   "outputs": [],
   "source": [
    "%load_ext autoreload\n",
    "%autoreload 2"
   ]
  },
  {
   "cell_type": "code",
   "execution_count": 2,
   "id": "5fc2008c",
   "metadata": {},
   "outputs": [
    {
     "name": "stdout",
     "output_type": "stream",
     "text": [
      "python\t\tv 3.7.10\n",
      "===\n",
      "mlflow\t\tv: 1.16.0\n",
      "numpy\t\tv: 1.19.5\n",
      "pandas\t\tv: 1.2.4\n"
     ]
    }
   ],
   "source": [
    "from datetime import datetime\n",
    "import gc\n",
    "import os\n",
    "import logging\n",
    "from pathlib import Path\n",
    "from pprint import pprint\n",
    "\n",
    "import mlflow\n",
    "\n",
    "import numpy as np\n",
    "import pandas as pd\n",
    "\n",
    "from subclu.models.vectorize_text import (\n",
    "    vectorize_text_to_embeddings,\n",
    "    D_MODELS_CPU,\n",
    "    D_CUSTOM_SPLIT,\n",
    ")\n",
    "from subclu.models.preprocess_text import TextPreprocessor\n",
    "\n",
    "from subclu.utils import set_working_directory\n",
    "from subclu.utils.mlflow_logger import MlflowLogger\n",
    "from subclu.utils.eda import (\n",
    "    setup_logging, counts_describe, value_counts_and_pcts,\n",
    "    notebook_display_config, print_lib_versions,\n",
    "    style_df_numeric\n",
    ")\n",
    "\n",
    "\n",
    "print_lib_versions([mlflow, np, pd])"
   ]
  },
  {
   "cell_type": "code",
   "execution_count": 3,
   "id": "4209501f",
   "metadata": {},
   "outputs": [],
   "source": [
    "# plotting\n",
    "import matplotlib.pyplot as plt\n",
    "import matplotlib.ticker as mtick\n",
    "import matplotlib.dates as mdates\n",
    "plt.style.use('default')\n",
    "\n",
    "setup_logging()\n",
    "notebook_display_config()"
   ]
  },
  {
   "cell_type": "markdown",
   "id": "091fc38a",
   "metadata": {},
   "source": [
    "# Load data\n"
   ]
  },
  {
   "cell_type": "code",
   "execution_count": 36,
   "id": "6be81d7d",
   "metadata": {},
   "outputs": [
    {
     "name": "stdout",
     "output_type": "stream",
     "text": [
      "CPU times: user 470 ms, sys: 95.6 ms, total: 565 ms\n",
      "Wall time: 6.05 s\n"
     ]
    }
   ],
   "source": [
    "%%time\n",
    "\n",
    "project_id='data-science-prod'\n",
    "bucket_name = 'i18n-subreddit-clustering'\n",
    "folder_posts = 'posts/2021-05-19'\n",
    "folder_comments = 'comments/2021-05-19'\n",
    "\n",
    "l_cols_posts = [\n",
    "    # IDs\n",
    "    'subreddit_name',\n",
    "    'subreddit_id',\n",
    "    'post_id',\n",
    "#     'user_id',\n",
    "#     'thing_type',\n",
    "    \n",
    "    # Meta\n",
    "#     'submit_date',\n",
    "#     'removed',\n",
    "#     'upvotes',\n",
    "#     'successful',\n",
    "#     'app_name',\n",
    "#     'combined_topic_and_rating',\n",
    "#     'post_type',\n",
    "#     'post_nsfw',\n",
    "#     'geolocation_country_code',\n",
    "    \n",
    "    # Language & text content\n",
    "#     'post_url',\n",
    "#     'language',\n",
    "#     'probability',\n",
    "#     'weighted_language',\n",
    "#     'weighted_language_probability',\n",
    "#     'text_len',\n",
    "    'text_word_count',\n",
    "#     'post_url_for_embeddings',\n",
    "    'text'\n",
    "]\n",
    "\n",
    "df_posts = pd.read_parquet(path=f\"gs://{bucket_name}/{folder_posts}\",\n",
    "                           columns=l_cols_posts)"
   ]
  },
  {
   "cell_type": "code",
   "execution_count": 5,
   "id": "bac00cde",
   "metadata": {},
   "outputs": [
    {
     "data": {
      "text/plain": [
       "(111669, 4)"
      ]
     },
     "execution_count": 5,
     "metadata": {},
     "output_type": "execute_result"
    }
   ],
   "source": [
    "df_posts.shape"
   ]
  },
  {
   "cell_type": "code",
   "execution_count": 14,
   "id": "3f8872f0",
   "metadata": {},
   "outputs": [],
   "source": [
    "assert len(df_posts) == df_posts['post_id'].nunique()"
   ]
  },
  {
   "cell_type": "code",
   "execution_count": 37,
   "id": "e7dd6e08",
   "metadata": {},
   "outputs": [
    {
     "name": "stdout",
     "output_type": "stream",
     "text": [
      "CPU times: user 1.61 s, sys: 425 ms, total: 2.04 s\n",
      "Wall time: 7.95 s\n"
     ]
    }
   ],
   "source": [
    "%%time\n",
    "\n",
    "l_cols_comments = [\n",
    "    # IDs\n",
    "    'subreddit_name',\n",
    "    'subreddit_id',\n",
    "    'post_id',\n",
    "    'comment_id',\n",
    "    # 'user_id',\n",
    "    \n",
    "    # Comment & user meta\n",
    "#     'thing_type',\n",
    "#     'submit_date',\n",
    "#     'removed',\n",
    "#     'upvotes',\n",
    "#     'successful',\n",
    "#     'app_name',\n",
    "#     'post_type',\n",
    "#     'post_nsfw',\n",
    "#     'geolocation_country_code',\n",
    "#     'subreddit_geo_country_code',\n",
    "#     'combined_topic',\n",
    "#     'combined_topic_and_rating',\n",
    "#     'rating',\n",
    "#     'rating_version',\n",
    "    \n",
    "    # Text & language meta\n",
    "#     'language',\n",
    "#     'probability',\n",
    "#     'weighted_language',\n",
    "#     'weighted_language_probability',\n",
    "#     'comment_text_len',\n",
    "    'comment_text_word_count',\n",
    "    'comment_body_text',\n",
    "]\n",
    "\n",
    "df_comments = pd.read_parquet(path=f\"gs://{bucket_name}/{folder_comments}\",\n",
    "                              columns=l_cols_comments\n",
    "                             )"
   ]
  },
  {
   "cell_type": "code",
   "execution_count": 38,
   "id": "64ba9a97",
   "metadata": {},
   "outputs": [],
   "source": [
    "assert len(df_comments) == df_comments['comment_id'].nunique()"
   ]
  },
  {
   "cell_type": "markdown",
   "id": "0887c6b7",
   "metadata": {},
   "source": [
    "# Test `TextPreprocessor`"
   ]
  },
  {
   "cell_type": "markdown",
   "id": "fdc5df95",
   "metadata": {},
   "source": [
    "## Visually check output"
   ]
  },
  {
   "cell_type": "code",
   "execution_count": 81,
   "id": "8721d417",
   "metadata": {},
   "outputs": [],
   "source": [
    "display_text = False\n",
    "\n",
    "l_nsfw_subs_sample = [\n",
    "    'wixbros', 'katjakrasavicenudes',\n",
    "    'deutschetributes', 'germannudes',\n",
    "    'loredana', 'lucycat', 'emmyruss', 'elisaalinenudes',\n",
    "    'germanonlyfans', 'germansgonewild',\n",
    "]\n",
    "\n",
    "mask_ignore_some_nsfw = ~df_posts['subreddit_name'].isin(l_nsfw_subs_sample)\n",
    "mask_word_count = df_posts['text_word_count'] >= 3"
   ]
  },
  {
   "cell_type": "code",
   "execution_count": 82,
   "id": "6598cb90",
   "metadata": {},
   "outputs": [],
   "source": [
    "if display_text:\n",
    "    df_posts[mask_ignore_some_nsfw & mask_word_count].head(10)"
   ]
  },
  {
   "cell_type": "code",
   "execution_count": 83,
   "id": "1412a2aa",
   "metadata": {},
   "outputs": [],
   "source": [
    "mask_ignore_some_nsfw_c = ~df_comments['subreddit_name'].isin(l_nsfw_subs_sample)\n",
    "mask_word_count_c = df_comments['comment_text_word_count'] >= 3\n",
    "\n",
    "if display_text:\n",
    "    df_comments[mask_ignore_some_nsfw_c & mask_word_count_c].head(10)"
   ]
  },
  {
   "cell_type": "code",
   "execution_count": 84,
   "id": "f7da942d",
   "metadata": {},
   "outputs": [],
   "source": [
    "if display_text:\n",
    "    df_comments[mask_ignore_some_nsfw_c & mask_word_count_c].iloc[45:55]"
   ]
  },
  {
   "cell_type": "code",
   "execution_count": 85,
   "id": "c3f5e2e7",
   "metadata": {},
   "outputs": [
    {
     "name": "stdout",
     "output_type": "stream",
     "text": [
      "CPU times: user 11 µs, sys: 2 µs, total: 13 µs\n",
      "Wall time: 18.4 µs\n"
     ]
    }
   ],
   "source": [
    "%%time\n",
    "\n",
    "txtp = TextPreprocessor(lowercase=True, remove_digits=True, return_fse_format=False, verbose=False)\n",
    "\n",
    "if display_text:\n",
    "    display(txtp.transform(df_posts[mask_ignore_some_nsfw & mask_word_count]['text'].head(7)))\n",
    "    print('\\n', txtp.transform(df_comments[mask_ignore_some_nsfw_c & mask_word_count_c]['comment_body_text'].head(7)))"
   ]
  },
  {
   "cell_type": "code",
   "execution_count": 86,
   "id": "5df3ae8c",
   "metadata": {},
   "outputs": [
    {
     "name": "stdout",
     "output_type": "stream",
     "text": [
      "CPU times: user 14 µs, sys: 0 ns, total: 14 µs\n",
      "Wall time: 18.8 µs\n"
     ]
    }
   ],
   "source": [
    "%%time\n",
    "\n",
    "txtp = TextPreprocessor(lowercase=True, remove_digits=False, return_fse_format=False, verbose=False)\n",
    "\n",
    "if display_text:\n",
    "    display(txtp.transform(df_posts[mask_ignore_some_nsfw & mask_word_count]['text'].head(7)))\n",
    "    print('\\n', txtp.transform(df_comments[mask_ignore_some_nsfw_c & mask_word_count_c]['comment_body_text'].head(7)))"
   ]
  },
  {
   "cell_type": "code",
   "execution_count": 59,
   "id": "c64622f4",
   "metadata": {},
   "outputs": [
    {
     "name": "stdout",
     "output_type": "stream",
     "text": [
      "CPU times: user 0 ns, sys: 11 µs, total: 11 µs\n",
      "Wall time: 15.7 µs\n"
     ]
    }
   ],
   "source": [
    "%%time\n",
    "\n",
    "txtp = TextPreprocessor(lowercase=False, remove_digits=True, return_fse_format=False, verbose=False)\n",
    "\n",
    "if display_text:\n",
    "    display(txtp.transform(df_posts[mask_ignore_some_nsfw & mask_word_count]['text'].head(7)))\n",
    "    print('\\n', txtp.transform(df_comments[mask_ignore_some_nsfw_c & mask_word_count_c]['comment_body_text'].head(7)))"
   ]
  },
  {
   "cell_type": "markdown",
   "id": "ab5913f8",
   "metadata": {},
   "source": [
    "# Save processed text to new location"
   ]
  },
  {
   "cell_type": "code",
   "execution_count": 72,
   "id": "7e0398f7",
   "metadata": {},
   "outputs": [],
   "source": [
    "f\"gs://{bucket_name}/{folder_posts}\"\n",
    "col_text_post = 'text'\n",
    "col_text_comment = 'comment_body_text'\n"
   ]
  },
  {
   "cell_type": "code",
   "execution_count": 67,
   "id": "220bb915",
   "metadata": {},
   "outputs": [],
   "source": [
    "d_map_paths_to_params = {\n",
    "    'lowercase_and_remove_digits': {\n",
    "        'lowercase': True, 'remove_digits': True\n",
    "    },\n",
    "    'lowercase': {\n",
    "        'lowercase': True, 'remove_digits': False\n",
    "    },\n",
    "    'remove_digits': {\n",
    "        'lowercase': False, 'remove_digits': True\n",
    "    },\n",
    "}"
   ]
  },
  {
   "cell_type": "code",
   "execution_count": 77,
   "id": "a32fd7d5",
   "metadata": {},
   "outputs": [
    {
     "name": "stderr",
     "output_type": "stream",
     "text": [
      "16:22:24 | INFO | \"lowercase_and_remove_digits\"\n",
      "16:22:24 | INFO | \"gs://i18n-subreddit-clustering/posts/2021-05-19/lowercase_and_remove_digits/df.parquet\"\n",
      "16:22:25 | INFO | \"gs://i18n-subreddit-clustering/comments/2021-05-19/lowercase_and_remove_digits/df.parquet\"\n",
      "16:22:31 | INFO | \"lowercase\"\n",
      "16:22:31 | INFO | \"gs://i18n-subreddit-clustering/posts/2021-05-19/lowercase/df.parquet\"\n",
      "16:22:32 | INFO | \"gs://i18n-subreddit-clustering/comments/2021-05-19/lowercase/df.parquet\"\n",
      "16:22:37 | INFO | \"remove_digits\"\n",
      "16:22:37 | INFO | \"gs://i18n-subreddit-clustering/posts/2021-05-19/remove_digits/df.parquet\"\n",
      "16:22:38 | INFO | \"gs://i18n-subreddit-clustering/comments/2021-05-19/remove_digits/df.parquet\"\n"
     ]
    }
   ],
   "source": [
    "for folder_, params in d_map_paths_to_params.items():\n",
    "    logging.info(folder_)\n",
    "    new_path_posts = f\"gs://{bucket_name}/{folder_posts}_{folder_}/df.parquet\"\n",
    "    new_path_comments = f\"gs://{bucket_name}/{folder_comments}_{folder_}/df.parquet\"\n",
    "    \n",
    "    txtp = TextPreprocessor(lowercase=params['lowercase'], remove_digits=params['remove_digits'],\n",
    "                            return_fse_format=False, verbose=False)\n",
    "    \n",
    "    logging.info(new_path_posts)\n",
    "    (\n",
    "        df_posts\n",
    "        .assign(**{col_text_post: txtp.transform(df_posts[col_text_post])})\n",
    "        .to_parquet(new_path_posts)\n",
    "    )\n",
    "    logging.info(new_path_comments)\n",
    "    (\n",
    "        df_comments\n",
    "        .assign(**{col_text_comment: txtp.transform(df_comments[col_text_comment])})\n",
    "        .to_parquet(new_path_comments)\n",
    "    )"
   ]
  },
  {
   "cell_type": "markdown",
   "id": "3e4ab5ac",
   "metadata": {},
   "source": [
    "# Reload data to make sure process was successful"
   ]
  },
  {
   "cell_type": "code",
   "execution_count": 87,
   "id": "8dc5ed8b",
   "metadata": {},
   "outputs": [
    {
     "name": "stderr",
     "output_type": "stream",
     "text": [
      "16:34:11 | INFO | \"lowercase_and_remove_digits\"\n",
      "16:34:11 | INFO | \"lowercase\"\n",
      "16:34:11 | INFO | \"remove_digits\"\n"
     ]
    }
   ],
   "source": [
    "display_text = False\n",
    "\n",
    "for folder_, params in d_map_paths_to_params.items():\n",
    "    logging.info(folder_)\n",
    "    new_path_posts = f\"gs://{bucket_name}/{folder_posts}_{folder_}/df.parquet\"\n",
    "    new_path_comments = f\"gs://{bucket_name}/{folder_comments}_{folder_}/df.parquet\"\n",
    "    \n",
    "    if display_text:\n",
    "        logging.info(new_path_posts)\n",
    "        display(\n",
    "            pd.read_parquet(new_path_posts)\n",
    "            .head(10)\n",
    "        )\n",
    "        logging.info(new_path_comments)\n",
    "        display(\n",
    "            pd.read_parquet(new_path_comments)\n",
    "            .head(10)\n",
    "        )"
   ]
  },
  {
   "cell_type": "code",
   "execution_count": null,
   "id": "4f98a0e7",
   "metadata": {},
   "outputs": [],
   "source": []
  }
 ],
 "metadata": {
  "environment": {
   "name": "common-cpu.m65",
   "type": "gcloud",
   "uri": "gcr.io/deeplearning-platform-release/base-cpu:m65"
  },
  "kernelspec": {
   "display_name": "Python 3",
   "language": "python",
   "name": "python3"
  },
  "language_info": {
   "codemirror_mode": {
    "name": "ipython",
    "version": 3
   },
   "file_extension": ".py",
   "mimetype": "text/x-python",
   "name": "python",
   "nbconvert_exporter": "python",
   "pygments_lexer": "ipython3",
   "version": "3.7.10"
  }
 },
 "nbformat": 4,
 "nbformat_minor": 5
}
