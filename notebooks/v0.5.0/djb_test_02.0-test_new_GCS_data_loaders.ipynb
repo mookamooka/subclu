{
 "cells": [
  {
   "cell_type": "markdown",
   "id": "b8c59a57",
   "metadata": {},
   "source": [
    "# Purpose\n",
    "\n",
    "Use this notebook to test the new data-loader (GCS) & configs that we'll be using in kubeflow.\n",
    "\n",
    "Why? For inference (getting embeddings) it might be better to read from GCS than from SQL."
   ]
  },
  {
   "cell_type": "markdown",
   "id": "f3bac735",
   "metadata": {},
   "source": [
    "# Imports & Setup"
   ]
  },
  {
   "cell_type": "code",
   "execution_count": 1,
   "id": "318938a5",
   "metadata": {},
   "outputs": [],
   "source": [
    "%load_ext autoreload\n",
    "%autoreload 2"
   ]
  },
  {
   "cell_type": "code",
   "execution_count": 2,
   "id": "ad5e9872",
   "metadata": {},
   "outputs": [
    {
     "name": "stdout",
     "output_type": "stream",
     "text": [
      "python\t\tv 3.7.10\n",
      "===\n",
      "google.cloud.bigquery\tv: 2.20.0\n",
      "numpy\t\tv: 1.18.5\n",
      "pandas\t\tv: 1.2.5\n",
      "plotly\t\tv: 4.14.3\n",
      "seaborn\t\tv: 0.11.1\n",
      "subclu\t\tv: 0.5.0\n"
     ]
    }
   ],
   "source": [
    "from datetime import datetime\n",
    "import logging\n",
    "from pathlib import Path\n",
    "\n",
    "import numpy as np\n",
    "import pandas as pd\n",
    "import plotly\n",
    "import plotly.express as px\n",
    "import seaborn as sns\n",
    "\n",
    "from tqdm import tqdm\n",
    "\n",
    "import subclu\n",
    "# from subclu.utils import set_working_directory\n",
    "from subclu.utils.eda import (\n",
    "    setup_logging, counts_describe, value_counts_and_pcts,\n",
    "    notebook_display_config, print_lib_versions,\n",
    "    style_df_numeric\n",
    ")\n",
    "\n",
    "# new modules to test:\n",
    "from google.cloud import bigquery\n",
    "\n",
    "from subclu.i18n_topic_model_batch.subclu2.utils.data_loaders_gcs import (\n",
    "    LoadSubredditsGCS\n",
    ")\n",
    "\n",
    "\n",
    "print_lib_versions([bigquery, np, pd, plotly, sns, subclu])"
   ]
  },
  {
   "cell_type": "code",
   "execution_count": 3,
   "id": "8739368c",
   "metadata": {},
   "outputs": [
    {
     "name": "stderr",
     "output_type": "stream",
     "text": [
      "03:39:54 | INFO | \"loggging ready\"\n"
     ]
    }
   ],
   "source": [
    "# plotting\n",
    "import matplotlib.pyplot as plt\n",
    "import matplotlib.ticker as mtick\n",
    "import matplotlib.dates as mdates\n",
    "plt.style.use('default')\n",
    "\n",
    "setup_logging()\n",
    "notebook_display_config()\n",
    "logging.info('loggging ready')"
   ]
  },
  {
   "cell_type": "markdown",
   "id": "c9cbdd5e",
   "metadata": {},
   "source": [
    "# Load data with new class\n",
    "\n",
    "Load data from a test folder where we have 2 parquet files. This way we can test slicing & sampling."
   ]
  },
  {
   "cell_type": "markdown",
   "id": "2b74c373",
   "metadata": {},
   "source": [
    "## Cache files"
   ]
  },
  {
   "cell_type": "markdown",
   "id": "f6409dcc",
   "metadata": {},
   "source": [
    "### All files, read as 1 pandas df"
   ]
  },
  {
   "cell_type": "code",
   "execution_count": 18,
   "id": "623a0006",
   "metadata": {},
   "outputs": [
    {
     "name": "stderr",
     "output_type": "stream",
     "text": [
      "08:40:43 | INFO | \"  Local folder to download artifact(s):\n",
      "  /home/jupyter/subreddit_clustering_i18n/data/local_cache/gazette-models-temp/i18n_topic_model_batch/runs/20220412/subreddits/text\"\n",
      "08:40:43 | INFO | \"  2 <- Files matching prefix\"\n",
      "08:40:43 | INFO | \"  2 <- Files to check\"\n",
      "08:40:43 | INFO | \"    000000000000.parquet <- File already exists, not downloading\"\n",
      "08:40:43 | INFO | \"    000000000001_test.parquet <- File already exists, not downloading\"\n",
      "08:40:43 | INFO | \"  Files already cached: 2\"\n",
      "08:40:43 | INFO | \"0:00:01.398668  <- Downloading files elapsed time\"\n",
      "08:40:43 | INFO | \"  Files already downloaded.\"\n",
      "08:40:43 | INFO | \"  df format: pandas\"\n"
     ]
    },
    {
     "name": "stdout",
     "output_type": "stream",
     "text": [
      "2 <- Local files\n",
      "2 <- Local parquet files\n",
      "(159874, 3)\n",
      "CPU times: user 385 ms, sys: 307 ms, total: 693 ms\n",
      "Wall time: 1.9 s\n"
     ]
    }
   ],
   "source": [
    "%%time\n",
    "\n",
    "subs = LoadSubredditsGCS(\n",
    "    bucket_name='gazette-models-temp',\n",
    "    gcs_path='i18n_topic_model_batch/runs/20220412/subreddits/text',\n",
    "    local_cache_path=\"/home/jupyter/subreddit_clustering_i18n/data/local_cache/\",\n",
    "    columns=['subreddit_id', 'subreddit_name', 'subreddit_name_title_related_subs_and_clean_descriptions'],\n",
    "    col_unique_check='subreddit_id',\n",
    "    df_format='pandas',\n",
    "    n_sample_files=None,\n",
    "    n_files_slice_start=None,\n",
    "    n_files_slice_end=None,\n",
    "    unique_check=False,\n",
    "    verbose= True,\n",
    ")\n",
    "subs.local_cache()\n",
    "\n",
    "print(f\"{len(subs.local_files_)} <- Local files\")\n",
    "print(f\"{len(subs.local_parquet_files_)} <- Local parquet files\")\n",
    "assert 2 == len(subs.local_files_)\n",
    "\n",
    "df_ = subs.read_as_one_df()\n",
    "print(df_.shape)"
   ]
  },
  {
   "cell_type": "code",
   "execution_count": 19,
   "id": "e7e8433c",
   "metadata": {},
   "outputs": [
    {
     "data": {
      "text/html": [
       "<div>\n",
       "<style scoped>\n",
       "    .dataframe tbody tr th:only-of-type {\n",
       "        vertical-align: middle;\n",
       "    }\n",
       "\n",
       "    .dataframe tbody tr th {\n",
       "        vertical-align: top;\n",
       "    }\n",
       "\n",
       "    .dataframe thead th {\n",
       "        text-align: right;\n",
       "    }\n",
       "</style>\n",
       "<table border=\"1\" class=\"dataframe\">\n",
       "  <thead>\n",
       "    <tr style=\"text-align: right;\">\n",
       "      <th></th>\n",
       "      <th>subreddit_id</th>\n",
       "      <th>subreddit_name</th>\n",
       "      <th>subreddit_name_title_related_subs_and_clean_descriptions</th>\n",
       "    </tr>\n",
       "  </thead>\n",
       "  <tbody>\n",
       "    <tr>\n",
       "      <th>0</th>\n",
       "      <td>t5_2sxhs</td>\n",
       "      <td>place</td>\n",
       "      <td>place. r/place. \\nplace\\nplace\\n\\nSome have visited a canvas before. A place where togetherness created more. Now in numbers far greater, taking more space, It falls upon you to create a better place.\\n\\nThere is an empty canvas.\\n\\nYou...</td>\n",
       "    </tr>\n",
       "    <tr>\n",
       "      <th>1</th>\n",
       "      <td>t5_2qh1i</td>\n",
       "      <td>askreddit</td>\n",
       "      <td>AskReddit. r/AskReddit. \\nAsk Reddit...\\naskreddit, AskReddit\\n\\nAskReddit is the place to ask and answer thought provoking questions.\\n\\nSERIOUS askreddit true Serious \\n\\nRules AskReddit wikiwiki rules:\\n1. You must post a clear and d...</td>\n",
       "    </tr>\n",
       "    <tr>\n",
       "      <th>2</th>\n",
       "      <td>t5_2qhsa</td>\n",
       "      <td>interestingasfuck</td>\n",
       "      <td>interestingasfuck. r/interestingasfuck. \\nInteresting As Fuck\\ninterestingasfuck, TodayILearned, notinteresting, mildlyinteresting, offbeat, oddlysatisfying, damnthatsinteresting, Unexpected, wtf\\n\\nFor anything that is InterestingAsFuc...</td>\n",
       "    </tr>\n",
       "    <tr>\n",
       "      <th>3</th>\n",
       "      <td>t5_2y77d</td>\n",
       "      <td>antiwork</td>\n",
       "      <td>antiwork. r/antiwork. \\nAntiwork: Unemployment for all, not just the rich!\\nantiwork, antitrampo, AntiTaff, antiarbeit, antiworkItaly, tegenwerken, antiwork_slovenija, Antiwork_UK, Anarchism, Anarchy101, IWW, LateStageCapitalism, lostge...</td>\n",
       "    </tr>\n",
       "    <tr>\n",
       "      <th>4</th>\n",
       "      <td>t5_2qh13</td>\n",
       "      <td>worldnews</td>\n",
       "      <td>worldnews. r/worldnews. \\nWorld News\\nNews, PoliticalDiscussion, WorldEvents, GeoPolitics, IntheNews, GlobalTalk, Breakingnews, Business, Economics, Environment, History, HumanRights, Features, UpliftingNews, NewsOfTheWeird, FakeNews, I...</td>\n",
       "    </tr>\n",
       "  </tbody>\n",
       "</table>\n",
       "</div>"
      ],
      "text/plain": [
       "  subreddit_id     subreddit_name                                                                                                                                                                                         subreddit_name_title_related_subs_and_clean_descriptions\n",
       "0     t5_2sxhs              place  place. r/place. \\nplace\\nplace\\n\\nSome have visited a canvas before. A place where togetherness created more. Now in numbers far greater, taking more space, It falls upon you to create a better place.\\n\\nThere is an empty canvas.\\n\\nYou...\n",
       "1     t5_2qh1i          askreddit  AskReddit. r/AskReddit. \\nAsk Reddit...\\naskreddit, AskReddit\\n\\nAskReddit is the place to ask and answer thought provoking questions.\\n\\nSERIOUS askreddit true Serious \\n\\nRules AskReddit wikiwiki rules:\\n1. You must post a clear and d...\n",
       "2     t5_2qhsa  interestingasfuck  interestingasfuck. r/interestingasfuck. \\nInteresting As Fuck\\ninterestingasfuck, TodayILearned, notinteresting, mildlyinteresting, offbeat, oddlysatisfying, damnthatsinteresting, Unexpected, wtf\\n\\nFor anything that is InterestingAsFuc...\n",
       "3     t5_2y77d           antiwork  antiwork. r/antiwork. \\nAntiwork: Unemployment for all, not just the rich!\\nantiwork, antitrampo, AntiTaff, antiarbeit, antiworkItaly, tegenwerken, antiwork_slovenija, Antiwork_UK, Anarchism, Anarchy101, IWW, LateStageCapitalism, lostge...\n",
       "4     t5_2qh13          worldnews  worldnews. r/worldnews. \\nWorld News\\nNews, PoliticalDiscussion, WorldEvents, GeoPolitics, IntheNews, GlobalTalk, Breakingnews, Business, Economics, Environment, History, HumanRights, Features, UpliftingNews, NewsOfTheWeird, FakeNews, I..."
      ]
     },
     "execution_count": 19,
     "metadata": {},
     "output_type": "execute_result"
    }
   ],
   "source": [
    "df_.head()"
   ]
  },
  {
   "cell_type": "markdown",
   "id": "e25db78a",
   "metadata": {},
   "source": [
    "### All files, read as 1 `dask` df"
   ]
  },
  {
   "cell_type": "code",
   "execution_count": 20,
   "id": "6319d9f1",
   "metadata": {},
   "outputs": [
    {
     "name": "stderr",
     "output_type": "stream",
     "text": [
      "08:40:49 | INFO | \"  Local folder to download artifact(s):\n",
      "  /home/jupyter/subreddit_clustering_i18n/data/local_cache/gazette-models-temp/i18n_topic_model_batch/runs/20220412/subreddits/text\"\n",
      "08:40:49 | INFO | \"  2 <- Files matching prefix\"\n",
      "08:40:49 | INFO | \"  2 <- Files to check\"\n",
      "08:40:49 | INFO | \"    000000000000.parquet <- File already exists, not downloading\"\n",
      "08:40:49 | INFO | \"    000000000001_test.parquet <- File already exists, not downloading\"\n",
      "08:40:49 | INFO | \"  Files already cached: 2\"\n",
      "08:40:49 | INFO | \"0:00:01.388091  <- Downloading files elapsed time\"\n",
      "08:40:49 | INFO | \"  Files already downloaded.\"\n",
      "08:40:49 | INFO | \"  df format: dask\"\n"
     ]
    },
    {
     "name": "stdout",
     "output_type": "stream",
     "text": [
      "2 <- Local files\n",
      "2 <- Local parquet files\n",
      "(Delayed('int-b056f9c0-d5ba-4540-b879-5b51a63c2e51'), 3)\n",
      "CPU times: user 49.1 ms, sys: 49.1 ms, total: 98.2 ms\n",
      "Wall time: 1.41 s\n"
     ]
    }
   ],
   "source": [
    "%%time\n",
    "\n",
    "subs = LoadSubredditsGCS(\n",
    "    bucket_name='gazette-models-temp',\n",
    "    gcs_path='i18n_topic_model_batch/runs/20220412/subreddits/text',\n",
    "    local_cache_path=\"/home/jupyter/subreddit_clustering_i18n/data/local_cache/\",\n",
    "    columns=['subreddit_id', 'subreddit_name', 'subreddit_name_title_related_subs_and_clean_descriptions'],\n",
    "    col_unique_check='subreddit_id',\n",
    "    df_format='dask',\n",
    "    n_sample_files=None,\n",
    "    n_files_slice_start=None,\n",
    "    n_files_slice_end=None,\n",
    "    unique_check=False,\n",
    "    verbose= True,\n",
    ")\n",
    "subs.local_cache()\n",
    "\n",
    "print(f\"{len(subs.local_files_)} <- Local files\")\n",
    "print(f\"{len(subs.local_parquet_files_)} <- Local parquet files\")\n",
    "assert 2 == len(subs.local_files_)\n",
    "\n",
    "df_ = subs.read_as_one_df()\n",
    "print(df_.shape)"
   ]
  },
  {
   "cell_type": "code",
   "execution_count": 21,
   "id": "c5f45a71",
   "metadata": {},
   "outputs": [
    {
     "data": {
      "text/html": [
       "<div>\n",
       "<style scoped>\n",
       "    .dataframe tbody tr th:only-of-type {\n",
       "        vertical-align: middle;\n",
       "    }\n",
       "\n",
       "    .dataframe tbody tr th {\n",
       "        vertical-align: top;\n",
       "    }\n",
       "\n",
       "    .dataframe thead th {\n",
       "        text-align: right;\n",
       "    }\n",
       "</style>\n",
       "<table border=\"1\" class=\"dataframe\">\n",
       "  <thead>\n",
       "    <tr style=\"text-align: right;\">\n",
       "      <th></th>\n",
       "      <th>subreddit_id</th>\n",
       "      <th>subreddit_name</th>\n",
       "      <th>subreddit_name_title_related_subs_and_clean_descriptions</th>\n",
       "    </tr>\n",
       "  </thead>\n",
       "  <tbody>\n",
       "    <tr>\n",
       "      <th>79932</th>\n",
       "      <td>t5_s3j8c</td>\n",
       "      <td>antianimearmy</td>\n",
       "      <td>AntiAnimeArmy. r/AntiAnimeArmy. \\nJoin the Army Today!\\nAnimeAddictsAnonymous, NoAnimePolice, AnimeHate\\n\\nThe Anti Anime Army is to destroy the evil that is Anime.\\n\\nSeeking help with your addiction?\\ntry our spin off subreddit:\\nAnim...</td>\n",
       "    </tr>\n",
       "    <tr>\n",
       "      <th>79933</th>\n",
       "      <td>t5_3stsd4</td>\n",
       "      <td>poorlymadepolicememes</td>\n",
       "      <td>poorlymadepolicememes. r/poorlymadepolicememes. \\npoorlymadepolicememes\\nThe sub about the very poorly made memer and podcaster\\n\\nFeel free to discuss the podcast episodes and memes\\n\\nA bunch of police memes that aren’t really that gr...</td>\n",
       "    </tr>\n",
       "    <tr>\n",
       "      <th>79934</th>\n",
       "      <td>t5_48te5o</td>\n",
       "      <td>svampedyrkning</td>\n",
       "      <td>Svampedyrkning. r/Svampedyrkning. \\nSvampedyrkning\\nEt dansk subreddit dedikeret til svampedyrkning. Her kan man diskutere dyrkning af gourmet , psilocybin og medicinsvampe, med henblik på at hjælpe hinanden, dele sine erfaringer og udv...</td>\n",
       "    </tr>\n",
       "    <tr>\n",
       "      <th>79935</th>\n",
       "      <td>t5_4ua7kp</td>\n",
       "      <td>meditieren</td>\n",
       "      <td>meditieren. r/meditieren. \\nMeditieren - Entspannung von Kopf bis Fuß.\\nmeditieren\\n\\nWillkommen auf meditieren! Dieser Sub dient dem Austausch von Erfahrungen, Geschichten und Anleitungen in Bezug auf die Praxis der Meditation.\\n\\nWILK...</td>\n",
       "    </tr>\n",
       "    <tr>\n",
       "      <th>79936</th>\n",
       "      <td>t5_4cefbk</td>\n",
       "      <td>handball_de</td>\n",
       "      <td>handball_de. r/handball_de. \\nHandball\\nFür alles rund um den Profi und Amateurhandball!</td>\n",
       "    </tr>\n",
       "  </tbody>\n",
       "</table>\n",
       "</div>"
      ],
      "text/plain": [
       "      subreddit_id         subreddit_name                                                                                                                                                                                         subreddit_name_title_related_subs_and_clean_descriptions\n",
       "79932     t5_s3j8c          antianimearmy  AntiAnimeArmy. r/AntiAnimeArmy. \\nJoin the Army Today!\\nAnimeAddictsAnonymous, NoAnimePolice, AnimeHate\\n\\nThe Anti Anime Army is to destroy the evil that is Anime.\\n\\nSeeking help with your addiction?\\ntry our spin off subreddit:\\nAnim...\n",
       "79933    t5_3stsd4  poorlymadepolicememes  poorlymadepolicememes. r/poorlymadepolicememes. \\npoorlymadepolicememes\\nThe sub about the very poorly made memer and podcaster\\n\\nFeel free to discuss the podcast episodes and memes\\n\\nA bunch of police memes that aren’t really that gr...\n",
       "79934    t5_48te5o         svampedyrkning  Svampedyrkning. r/Svampedyrkning. \\nSvampedyrkning\\nEt dansk subreddit dedikeret til svampedyrkning. Her kan man diskutere dyrkning af gourmet , psilocybin og medicinsvampe, med henblik på at hjælpe hinanden, dele sine erfaringer og udv...\n",
       "79935    t5_4ua7kp             meditieren  meditieren. r/meditieren. \\nMeditieren - Entspannung von Kopf bis Fuß.\\nmeditieren\\n\\nWillkommen auf meditieren! Dieser Sub dient dem Austausch von Erfahrungen, Geschichten und Anleitungen in Bezug auf die Praxis der Meditation.\\n\\nWILK...\n",
       "79936    t5_4cefbk            handball_de                                                                                                                                                         handball_de. r/handball_de. \\nHandball\\nFür alles rund um den Profi und Amateurhandball!"
      ]
     },
     "execution_count": 21,
     "metadata": {},
     "output_type": "execute_result"
    }
   ],
   "source": [
    "df_.tail()"
   ]
  },
  {
   "cell_type": "markdown",
   "id": "56bd1642",
   "metadata": {},
   "source": [
    "### All files, yield each file as separate df"
   ]
  },
  {
   "cell_type": "code",
   "execution_count": 23,
   "id": "f269bea4",
   "metadata": {},
   "outputs": [
    {
     "name": "stderr",
     "output_type": "stream",
     "text": [
      "08:44:40 | INFO | \"  Local folder to download artifact(s):\n",
      "  /home/jupyter/subreddit_clustering_i18n/data/local_cache/gazette-models-temp/i18n_topic_model_batch/runs/20220412/subreddits/text\"\n",
      "08:44:40 | INFO | \"  4 <- Files matching prefix\"\n",
      "08:44:40 | INFO | \"  4 <- Files to check\"\n",
      "08:44:40 | INFO | \"    000000000000.parquet <- File already exists, not downloading\"\n",
      "08:44:40 | INFO | \"    000000000001_test.parquet <- File already exists, not downloading\"\n",
      "08:44:40 | INFO | \"  Files already cached: 2\"\n",
      "08:44:40 | INFO | \"0:00:01.392648  <- Downloading files elapsed time\"\n",
      "  0%|          | 0/2 [00:00<?, ?it/s]08:44:40 | INFO | \"  Files already downloaded.\"\n",
      "100%|██████████| 2/2 [00:00<00:00,  5.03it/s]"
     ]
    },
    {
     "name": "stdout",
     "output_type": "stream",
     "text": [
      "000000000000.parquet\n",
      "(79937, 3)\n",
      "000000000001_test.parquet\n",
      "(79937, 3)\n",
      "2 <- Local files\n",
      "2 <- Local parquet files\n",
      "CPU times: user 298 ms, sys: 209 ms, total: 507 ms\n",
      "Wall time: 1.79 s\n"
     ]
    },
    {
     "name": "stderr",
     "output_type": "stream",
     "text": [
      "\n"
     ]
    }
   ],
   "source": [
    "%%time\n",
    "\n",
    "subs = LoadSubredditsGCS(\n",
    "    bucket_name='gazette-models-temp',\n",
    "    gcs_path='i18n_topic_model_batch/runs/20220412/subreddits/text',\n",
    "    local_cache_path=\"/home/jupyter/subreddit_clustering_i18n/data/local_cache/\",\n",
    "    columns=['subreddit_id', 'subreddit_name', 'subreddit_name_title_related_subs_and_clean_descriptions'],\n",
    "    col_unique_check='subreddit_id',\n",
    "    df_format='pandas',\n",
    "    n_sample_files=None,\n",
    "    n_files_slice_start=None,\n",
    "    n_files_slice_end=None,\n",
    "    unique_check=False,\n",
    "    verbose= True,\n",
    ")\n",
    "subs.local_cache()\n",
    "for f_, df_y_ in tqdm(subs.yield_files_and_dfs(), total=subs.n_local_parquet_files_):\n",
    "    print(f_.name)\n",
    "    print(df_y_.shape)\n",
    "\n",
    "print(f\"{len(subs.local_files_)} <- Local files\")\n",
    "print(f\"{len(subs.local_parquet_files_)} <- Local parquet files\")\n",
    "assert 2 == len(subs.local_files_)"
   ]
  },
  {
   "cell_type": "markdown",
   "id": "84933ede",
   "metadata": {},
   "source": [
    "### Sample file (1st file)"
   ]
  },
  {
   "cell_type": "code",
   "execution_count": 10,
   "id": "fcb28dd5",
   "metadata": {},
   "outputs": [
    {
     "name": "stderr",
     "output_type": "stream",
     "text": [
      "03:40:01 | INFO | \"  Local folder to download artifact(s):\n",
      "  /home/jupyter/subreddit_clustering_i18n/data/local_cache/gazette-models-temp/i18n_topic_model_batch/runs/20220412/subreddits/text\"\n",
      "03:40:01 | INFO | \"  1 <- Files matching prefix\"\n",
      "03:40:01 | INFO | \"  1 <- Files to check\"\n",
      "03:40:01 | INFO | \"    000000000000.parquet <- File already exists, not downloading\"\n",
      "03:40:01 | INFO | \"  Files already cached: 1\"\n",
      "03:40:01 | INFO | \"0:00:01.394998  <- Downloading files elapsed time\"\n",
      "03:40:01 | INFO | \"  df format: pandas\"\n",
      "03:40:01 | INFO | \"  Checking ID uniqueness...\"\n"
     ]
    },
    {
     "name": "stdout",
     "output_type": "stream",
     "text": [
      "(79937, 3)\n",
      "1 <- Local files\n",
      "1 <- Local parquet files\n",
      "CPU times: user 174 ms, sys: 77.9 ms, total: 252 ms\n",
      "Wall time: 1.57 s\n"
     ]
    }
   ],
   "source": [
    "%%time\n",
    "\n",
    "subs = LoadSubredditsGCS(\n",
    "    bucket_name='gazette-models-temp',\n",
    "    gcs_path='i18n_topic_model_batch/runs/20220412/subreddits/text',\n",
    "    local_cache_path=\"/home/jupyter/subreddit_clustering_i18n/data/local_cache/\",\n",
    "    columns=['subreddit_id', 'subreddit_name', 'subreddit_description'],\n",
    "    col_unique_check='subreddit_id',\n",
    "    df_format='pandas',\n",
    "    n_sample_files=1,\n",
    "    n_files_slice_start=None,\n",
    "    n_files_slice_end=None,\n",
    "    unique_check=True,\n",
    "    verbose= True,\n",
    ")\n",
    "df_ = subs.read_as_one_df()\n",
    "print(df_.shape)\n",
    "\n",
    "print(f\"{len(subs.local_files_)} <- Local files\")\n",
    "print(f\"{len(subs.local_parquet_files_)} <- Local parquet files\")\n",
    "\n",
    "assert(1 == len(subs.local_files_)), \"Expected to sample only 1 file\""
   ]
  },
  {
   "cell_type": "markdown",
   "id": "c35df8fd",
   "metadata": {},
   "source": [
    "### Slice -- last file"
   ]
  },
  {
   "cell_type": "code",
   "execution_count": 11,
   "id": "789c18b1",
   "metadata": {},
   "outputs": [
    {
     "name": "stderr",
     "output_type": "stream",
     "text": [
      "03:40:03 | INFO | \"  Local folder to download artifact(s):\n",
      "  /home/jupyter/subreddit_clustering_i18n/data/local_cache/gazette-models-temp/i18n_topic_model_batch/runs/20220412/subreddits/text\"\n",
      "03:40:03 | INFO | \"  2 <- Files matching prefix\"\n",
      "03:40:03 | INFO | \"  1 <- Files to check\"\n",
      "03:40:03 | INFO | \"    000000000001_test.parquet <- File already exists, not downloading\"\n",
      "03:40:03 | INFO | \"  Files already cached: 1\"\n",
      "03:40:03 | INFO | \"0:00:01.361892  <- Downloading files elapsed time\"\n",
      "03:40:03 | INFO | \"  df format: pandas\"\n",
      "03:40:03 | INFO | \"  Checking ID uniqueness...\"\n"
     ]
    },
    {
     "name": "stdout",
     "output_type": "stream",
     "text": [
      "(79937, 3)\n",
      "1 <- Local files\n",
      "1 <- Local parquet files\n",
      "CPU times: user 184 ms, sys: 136 ms, total: 321 ms\n",
      "Wall time: 1.6 s\n"
     ]
    }
   ],
   "source": [
    "%%time\n",
    "\n",
    "subs = LoadSubredditsGCS(\n",
    "    bucket_name='gazette-models-temp',\n",
    "    gcs_path='i18n_topic_model_batch/runs/20220412/subreddits/text',\n",
    "    local_cache_path=\"/home/jupyter/subreddit_clustering_i18n/data/local_cache/\",\n",
    "    columns=['subreddit_id', 'subreddit_name', 'subreddit_description'],\n",
    "    col_unique_check='subreddit_id',\n",
    "    df_format='pandas',\n",
    "    n_sample_files=None,\n",
    "    n_files_slice_start=-1,\n",
    "    n_files_slice_end=None,\n",
    "    unique_check=True,\n",
    "    verbose= True,\n",
    ")\n",
    "df_ = subs.read_as_one_df()\n",
    "print(df_.shape)\n",
    "\n",
    "print(f\"{len(subs.local_files_)} <- Local files\")\n",
    "print(f\"{len(subs.local_parquet_files_)} <- Local parquet files\")\n",
    "\n",
    "assert(1 == len(subs.local_files_)), \"Expected slice with only 1 file\""
   ]
  },
  {
   "cell_type": "code",
   "execution_count": 12,
   "id": "626b88dd",
   "metadata": {},
   "outputs": [
    {
     "name": "stderr",
     "output_type": "stream",
     "text": [
      "03:40:04 | INFO | \"  Local folder to download artifact(s):\n",
      "  /home/jupyter/subreddit_clustering_i18n/data/local_cache/gazette-models-temp/i18n_topic_model_batch/runs/20220412/subreddits/text\"\n",
      "03:40:04 | INFO | \"  2 <- Files matching prefix\"\n",
      "03:40:04 | INFO | \"  1 <- Files to check\"\n",
      "03:40:04 | INFO | \"    000000000001_test.parquet <- File already exists, not downloading\"\n",
      "03:40:04 | INFO | \"  Files already cached: 1\"\n",
      "03:40:04 | INFO | \"0:00:01.336908  <- Downloading files elapsed time\"\n",
      "03:40:04 | INFO | \"  df format: pandas\"\n",
      "03:40:05 | INFO | \"  Checking ID uniqueness...\"\n"
     ]
    },
    {
     "name": "stdout",
     "output_type": "stream",
     "text": [
      "(79937, 3)\n",
      "1 <- Local files\n",
      "1 <- Local parquet files\n",
      "CPU times: user 184 ms, sys: 141 ms, total: 326 ms\n",
      "Wall time: 1.59 s\n"
     ]
    }
   ],
   "source": [
    "%%time\n",
    "\n",
    "subs = LoadSubredditsGCS(\n",
    "    bucket_name='gazette-models-temp',\n",
    "    gcs_path='i18n_topic_model_batch/runs/20220412/subreddits/text',\n",
    "    local_cache_path=\"/home/jupyter/subreddit_clustering_i18n/data/local_cache/\",\n",
    "    columns=['subreddit_id', 'subreddit_name', 'subreddit_description'],\n",
    "    col_unique_check='subreddit_id',\n",
    "    df_format='pandas',\n",
    "  \n",
    "    n_sample_files=None,\n",
    "    n_files_slice_start=1,\n",
    "    n_files_slice_end=2,\n",
    "    unique_check=True,\n",
    "    verbose= True,\n",
    ")\n",
    "df_ = subs.read_as_one_df()\n",
    "print(df_.shape)\n",
    "\n",
    "print(f\"{len(subs.local_files_)} <- Local files\")\n",
    "print(f\"{len(subs.local_parquet_files_)} <- Local parquet files\")\n",
    "\n",
    "assert(1 == len(subs.local_files_)), \"Expected slice with only 1 file\""
   ]
  },
  {
   "cell_type": "markdown",
   "id": "5cd49d75",
   "metadata": {},
   "source": [
    "### Slice first file"
   ]
  },
  {
   "cell_type": "code",
   "execution_count": 13,
   "id": "1f4f7960",
   "metadata": {},
   "outputs": [
    {
     "name": "stderr",
     "output_type": "stream",
     "text": [
      "03:40:06 | INFO | \"  Local folder to download artifact(s):\n",
      "  /home/jupyter/subreddit_clustering_i18n/data/local_cache/gazette-models-temp/i18n_topic_model_batch/runs/20220412/subreddits/text\"\n",
      "03:40:06 | INFO | \"  2 <- Files matching prefix\"\n",
      "03:40:06 | INFO | \"  1 <- Files to check\"\n",
      "03:40:06 | INFO | \"    000000000000.parquet <- File already exists, not downloading\"\n",
      "03:40:06 | INFO | \"  Files already cached: 1\"\n",
      "03:40:06 | INFO | \"0:00:01.384844  <- Downloading files elapsed time\"\n",
      "03:40:06 | INFO | \"  df format: pandas\"\n",
      "03:40:06 | INFO | \"  Checking ID uniqueness...\"\n"
     ]
    },
    {
     "name": "stdout",
     "output_type": "stream",
     "text": [
      "(79937, 3)\n",
      "1 <- Local files\n",
      "1 <- Local parquet files\n",
      "CPU times: user 191 ms, sys: 126 ms, total: 317 ms\n",
      "Wall time: 1.62 s\n"
     ]
    }
   ],
   "source": [
    "%%time\n",
    "\n",
    "subs = LoadSubredditsGCS(\n",
    "    bucket_name='gazette-models-temp',\n",
    "    gcs_path='i18n_topic_model_batch/runs/20220412/subreddits/text',\n",
    "    local_cache_path=\"/home/jupyter/subreddit_clustering_i18n/data/local_cache/\",\n",
    "    columns=['subreddit_id', 'subreddit_name', 'subreddit_description'],\n",
    "    col_unique_check='subreddit_id',\n",
    "    df_format='pandas',\n",
    "    n_sample_files=None,\n",
    "    n_files_slice_start=None,\n",
    "    n_files_slice_end=1,\n",
    "    unique_check=True,\n",
    "    verbose= True,\n",
    ")\n",
    "df_ = subs.read_as_one_df()\n",
    "print(df_.shape)\n",
    "\n",
    "print(f\"{len(subs.local_files_)} <- Local files\")\n",
    "print(f\"{len(subs.local_parquet_files_)} <- Local parquet files\")\n",
    "\n",
    "assert(1 == len(subs.local_files_)), \"Expected slice with 1 file\""
   ]
  },
  {
   "cell_type": "markdown",
   "id": "1dc338d8",
   "metadata": {},
   "source": [
    "### Slice first 2 files"
   ]
  },
  {
   "cell_type": "code",
   "execution_count": 14,
   "id": "657649d6",
   "metadata": {},
   "outputs": [
    {
     "name": "stderr",
     "output_type": "stream",
     "text": [
      "03:40:08 | INFO | \"  Local folder to download artifact(s):\n",
      "  /home/jupyter/subreddit_clustering_i18n/data/local_cache/gazette-models-temp/i18n_topic_model_batch/runs/20220412/subreddits/text\"\n",
      "03:40:08 | INFO | \"  2 <- Files matching prefix\"\n",
      "03:40:08 | INFO | \"  2 <- Files to check\"\n",
      "03:40:08 | INFO | \"    000000000000.parquet <- File already exists, not downloading\"\n",
      "03:40:08 | INFO | \"    000000000001_test.parquet <- File already exists, not downloading\"\n",
      "03:40:08 | INFO | \"  Files already cached: 2\"\n",
      "03:40:08 | INFO | \"0:00:01.365880  <- Downloading files elapsed time\"\n",
      "03:40:08 | INFO | \"  df format: pandas\"\n"
     ]
    },
    {
     "name": "stdout",
     "output_type": "stream",
     "text": [
      "(159874, 3)\n",
      "2 <- Local files\n",
      "2 <- Local parquet files\n",
      "CPU times: user 321 ms, sys: 240 ms, total: 561 ms\n",
      "Wall time: 1.77 s\n"
     ]
    }
   ],
   "source": [
    "%%time\n",
    "\n",
    "subs = LoadSubredditsGCS(\n",
    "    bucket_name='gazette-models-temp',\n",
    "    gcs_path='i18n_topic_model_batch/runs/20220412/subreddits/text',\n",
    "    local_cache_path=\"/home/jupyter/subreddit_clustering_i18n/data/local_cache/\",\n",
    "    columns=['subreddit_id', 'subreddit_name', 'subreddit_description'],\n",
    "    col_unique_check='subreddit_id',\n",
    "    df_format='pandas',\n",
    "    n_sample_files=None,\n",
    "    n_files_slice_start=None,\n",
    "    n_files_slice_end=2,\n",
    "    unique_check=False,\n",
    "    verbose= True,\n",
    ")\n",
    "df_ = subs.read_as_one_df()\n",
    "print(df_.shape)\n",
    "\n",
    "print(f\"{len(subs.local_files_)} <- Local files\")\n",
    "print(f\"{len(subs.local_parquet_files_)} <- Local parquet files\")\n",
    "\n",
    "assert(2 == len(subs.local_files_)), \"Expected 2 files\""
   ]
  }
 ],
 "metadata": {
  "environment": {
   "name": "tf2-gpu.2-3.m74",
   "type": "gcloud",
   "uri": "gcr.io/deeplearning-platform-release/tf2-gpu.2-3:m74"
  },
  "kernelspec": {
   "display_name": "Python 3",
   "language": "python",
   "name": "python3"
  },
  "language_info": {
   "codemirror_mode": {
    "name": "ipython",
    "version": 3
   },
   "file_extension": ".py",
   "mimetype": "text/x-python",
   "name": "python",
   "nbconvert_exporter": "python",
   "pygments_lexer": "ipython3",
   "version": "3.7.10"
  }
 },
 "nbformat": 4,
 "nbformat_minor": 5
}
