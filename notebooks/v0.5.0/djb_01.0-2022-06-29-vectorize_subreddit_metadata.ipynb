{
 "cells": [
  {
   "cell_type": "markdown",
   "id": "9ba51a10",
   "metadata": {},
   "source": [
    "# Purpose\n",
    "\n",
    "Use this notebook to vectorize the text for subreddit metadata."
   ]
  },
  {
   "cell_type": "markdown",
   "id": "59ac2303",
   "metadata": {},
   "source": [
    "# Imports & Setup"
   ]
  },
  {
   "cell_type": "code",
   "execution_count": 1,
   "id": "325a2caf",
   "metadata": {},
   "outputs": [],
   "source": [
    "%load_ext autoreload\n",
    "%autoreload 2"
   ]
  },
  {
   "cell_type": "code",
   "execution_count": 7,
   "id": "c7ef291e",
   "metadata": {},
   "outputs": [
    {
     "name": "stdout",
     "output_type": "stream",
     "text": [
      "python\t\tv 3.7.10\n",
      "===\n",
      "numpy\t\tv: 1.18.5\n",
      "pandas\t\tv: 1.2.5\n",
      "subclu\t\tv: 0.5.0\n"
     ]
    }
   ],
   "source": [
    "from datetime import datetime\n",
    "import logging\n",
    "from pathlib import Path\n",
    "\n",
    "import numpy as np\n",
    "import pandas as pd\n",
    "\n",
    "from tqdm import tqdm\n",
    "\n",
    "import subclu\n",
    "from subclu.utils.eda import (\n",
    "    setup_logging, counts_describe, value_counts_and_pcts,\n",
    "    notebook_display_config, print_lib_versions,\n",
    "    style_df_numeric\n",
    ")\n",
    "\n",
    "\n",
    "print_lib_versions([np, pd, subclu])"
   ]
  },
  {
   "cell_type": "code",
   "execution_count": 3,
   "id": "912ccd91",
   "metadata": {},
   "outputs": [
    {
     "name": "stderr",
     "output_type": "stream",
     "text": [
      "08:19:03 | INFO | \"loggging ready\"\n"
     ]
    }
   ],
   "source": [
    "# plotting\n",
    "import matplotlib.pyplot as plt\n",
    "import matplotlib.ticker as mtick\n",
    "import matplotlib.dates as mdates\n",
    "plt.style.use('default')\n",
    "\n",
    "setup_logging()\n",
    "notebook_display_config()\n",
    "logging.info('loggging ready')"
   ]
  },
  {
   "cell_type": "markdown",
   "id": "a4d2fe53",
   "metadata": {},
   "source": [
    "# Auth note\n",
    "This notebook assumes you have authenticated using the gcloud CLI. Example</br>\n",
    "```bash\n",
    "gcloud auth application-default login\n",
    "```"
   ]
  },
  {
   "cell_type": "markdown",
   "id": "29ee37d2",
   "metadata": {},
   "source": [
    "# Load data AND Vectorize \n",
    "\n",
    "When we call the vectorizing function, it calls the data loader under the hood.\n",
    "See the configs in:\n",
    "- `subclu2/config`"
   ]
  },
  {
   "cell_type": "code",
   "execution_count": 4,
   "id": "4fc4009f",
   "metadata": {},
   "outputs": [
    {
     "name": "stdout",
     "output_type": "stream",
     "text": [
      "/home/david.bermejo/repos/subreddit_clustering_i18n/\n",
      "subclu.i18n_topic_model_batch.subclu2.get_embeddings.vectorize_text_tf\n",
      "vectorize_subreddit_meta_v0.5.0\n"
     ]
    }
   ],
   "source": [
    "path_djb_repo = '/home/david.bermejo/repos/subreddit_clustering_i18n/' \n",
    "path_djb_models = '/home/david.bermejo/repos/subreddit_clustering_i18n/subclu/models' \n",
    "file_vectorize_py = 'subclu.i18n_topic_model_batch.subclu2.get_embeddings.vectorize_text_tf'\n",
    "\n",
    "config_vectorize = 'vectorize_subreddit_meta_v0.5.0'\n",
    "\n",
    "print(path_djb_repo)\n",
    "print(file_vectorize_py)\n",
    "print(config_vectorize)"
   ]
  },
  {
   "cell_type": "markdown",
   "id": "04c0da60",
   "metadata": {},
   "source": [
    "## Run in bucket owned by i18n\n",
    "This bucket retains data longer than the gazette temp bucket"
   ]
  },
  {
   "cell_type": "code",
   "execution_count": 5,
   "id": "c6f13393",
   "metadata": {},
   "outputs": [
    {
     "name": "stdout",
     "output_type": "stream",
     "text": [
      "CFG keys:\n",
      "  dict_keys(['data_text', 'config_description', 'local_cache_path', 'local_model_path', 'output_bucket', 'gcs_path_text_key', 'data_loader_name', 'data_loader_kwargs', 'n_sample_files', 'n_files_slice_start', 'n_files_slice_end', 'process_individual_files', 'col_text_for_embeddings', 'model_name', 'batch_inference_rows', 'limit_first_n_chars', 'limit_first_n_chars_retry', 'get_embeddings_verbose', 'cols_index'])\n",
      "Data Loader kwags:\n",
      "  columns: ['subreddit_id', 'subreddit_name', 'subreddit_meta_for_embeddings']\n",
      "  df_format: pandas\n",
      "  unique_check: False\n",
      "  verbose: True\n",
      "  bucket_name: i18n-subreddit-clustering\n",
      "  gcs_path: i18n_topic_model_batch/runs/20220629/subreddits/text\n",
      "  local_cache_path: /home/jupyter/subreddit_clustering_i18n/data/local_cache/\n",
      "  n_sample_files: None\n",
      "  n_files_slice_start: None\n",
      "  n_files_slice_end: None\n",
      "`2022-06-29 08:45:55,948` | `INFO` | `Using hydra's path`\n",
      "`2022-06-29 08:45:55,948` | `INFO` | `  Log file created at: /home/jupyter/subreddit_clustering_i18n/hydra_runs/outputs/2022-06-29/08-45-55/logs/2022-06-29_08-45-55_vectorize_text.log`\n",
      "`2022-06-29 08:45:55,948` | `INFO` | `Start vectorize function`\n",
      "`2022-06-29 08:45:55,948` | `INFO` | `Loading model: use_multilingual_3`\n",
      "`2022-06-29 08:45:57,883` | `INFO` | `Using /tmp/tfhub_modules to cache modules.`\n",
      "`2022-06-29 08:45:57,884` | `INFO` | `Downloading TF-Hub Module 'https://tfhub.dev/google/universal-sentence-encoder-multilingual/3'.`\n",
      "`2022-06-29 08:46:00,563` | `INFO` | `Downloaded https://tfhub.dev/google/universal-sentence-encoder-multilingual/3, Total size: 266.88MB`\n",
      "`2022-06-29 08:46:00,564` | `INFO` | `Downloaded TF-Hub Module 'https://tfhub.dev/google/universal-sentence-encoder-multilingual/3'.`\n",
      "`2022-06-29 08:46:09,790` | `INFO` | `Model loaded`\n",
      "`2022-06-29 08:46:09,790` | `INFO` | `  Loading & Processing each file independently`\n",
      "`2022-06-29 08:46:09,891` | `INFO` | `  Local folder to download artifact(s):\n",
      "  /home/jupyter/subreddit_clustering_i18n/data/local_cache/i18n-subreddit-clustering/i18n_topic_model_batch/runs/20220629/subreddits/text`\n",
      "`2022-06-29 08:46:09,956` | `INFO` | `  1 <- Files matching prefix`\n",
      "`2022-06-29 08:46:09,956` | `INFO` | `  1 <- Files to check`\n",
      "`2022-06-29 08:46:12,006` | `INFO` | `  Files already cached: 0`\n",
      "`2022-06-29 08:46:12,007` | `INFO` | `0:00:02.215947  <- Downloading files elapsed time`\n",
      "`2022-06-29 08:46:12,009` | `INFO` | `  Files already downloaded.`\n",
      "`2022-06-29 08:46:12,621` | `INFO` | `  Processing: 000000000000.parquet`\n",
      "`2022-06-29 08:46:12,621` | `INFO` | `Vectorizing column: subreddit_meta_for_embeddings`\n",
      "`2022-06-29 08:46:12,844` | `INFO` | `Getting embeddings in batches of size: 1500`\n",
      "2022-06-29 08:46:25.059393: W tensorflow/core/common_runtime/bfc_allocator.cc:431] Allocator (GPU_0_bfc) ran out of memory trying to allocate 2.83GiB (rounded to 3039165440)requested by op StatefulPartitionedCall/StatefulPartitionedCall/EncoderDNN/CNN_layers/ngram_order_5/Ngram-5-Conv/concat_2\n",
      "Current allocation summary follows.\n",
      "2022-06-29 08:46:25.059995: W tensorflow/core/common_runtime/bfc_allocator.cc:439] ************************_______*****_______******___**********************************______________\n",
      "2022-06-29 08:46:25.060035: W tensorflow/core/framework/op_kernel.cc:1767] OP_REQUIRES failed at concat_op.cc:161 : Resource exhausted: OOM when allocating tensor with shape[593587,1280] and type float on /job:localhost/replica:0/task:0/device:GPU:0 by allocator GPU_0_bfc\n",
      "`2022-06-29 08:46:25,062` | `WARNING` | `\n",
      "ResourceExhausted, lowering character limit\n",
      " OOM when allocating tensor with shape[593587,1280] and type float on /job:localhost/replica:0/task:0/device:GPU:0 by allocator GPU_0_bfc\n",
      "\t [[{{node StatefulPartitionedCall/StatefulPartitionedCall/EncoderDNN/CNN_layers/ngram_order_5/Ngram-5-Conv/concat_2}}]]\n",
      "Hint: If you want to see a list of allocated tensors when OOM happens, add report_tensor_allocations_upon_oom to RunOptions for current allocation info.\n",
      " [Op:__inference_restored_function_body_15375]\n",
      "\n",
      "Function call stack:\n",
      "restored_function_body\n",
      "\n",
      "`\n",
      "`2022-06-29 08:46:26,426` | `INFO` | `  Vectorizing:   1%|2                           | 1/131 [00:13<29:25, 13.58s/it]`\n",
      "`2022-06-29 08:46:37,667` | `INFO` | `  Vectorizing:   8%|##                         | 10/131 [00:24<04:18,  2.14s/it]`\n",
      "`2022-06-29 08:46:48,859` | `INFO` | `  Vectorizing:  18%|####7                      | 23/131 [00:36<02:20,  1.30s/it]`\n",
      "`2022-06-29 08:47:00,113` | `INFO` | `  Vectorizing:  30%|########                   | 39/131 [00:47<01:30,  1.02it/s]`\n",
      "`2022-06-29 08:47:11,231` | `INFO` | `  Vectorizing:  44%|###########7               | 57/131 [00:58<01:00,  1.23it/s]`\n",
      "`2022-06-29 08:47:22,075` | `INFO` | `  Vectorizing:  44%|###########7               | 57/131 [01:09<01:00,  1.23it/s]`\n",
      "`2022-06-29 08:47:22,397` | `INFO` | `  Vectorizing:  59%|###############8           | 77/131 [01:09<00:38,  1.42it/s]`\n",
      "`2022-06-29 08:47:33,778` | `INFO` | `  Vectorizing:  76%|###################8      | 100/131 [01:20<00:19,  1.62it/s]`\n",
      "`2022-06-29 08:47:44,872` | `INFO` | `  Vectorizing: 100%|##########################| 131/131 [01:32<00:00,  1.99it/s]`\n",
      "`2022-06-29 08:47:44,872` | `INFO` | `  Vectorizing: 100%|##########################| 131/131 [01:32<00:00,  1.42it/s]`\n",
      "\n",
      "`2022-06-29 08:47:45,921` | `INFO` | `Saving df_embeddings to: gcs://i18n-subreddit-clustering/i18n_topic_model_batch/runs/20220629/subreddits/text/embedding/2022-06-29_084555/000000000000-196371_by_514.parquet`\n",
      "`2022-06-29 08:48:01,986` | `INFO` | `Files in batch: 100%|#############| 1/1 [01:49<00:00, 109.98s/it]`\n",
      "`2022-06-29 08:48:01,987` | `INFO` | `Files in batch: 100%|#############| 1/1 [01:49<00:00, 109.98s/it]`\n",
      "\n",
      "`2022-06-29 08:48:01,987` | `INFO` | `  0:01:52.196608 <- df_subs vectorizing time elapsed`\n",
      "`2022-06-29 08:48:02,077` | `INFO` | `Saving log file...`\n",
      "`2022-06-29 08:48:02,227` | `INFO` | `Saving hydra config...`\n",
      "/home/jupyter/subreddit_clustering_i18n/hydra_runs/outputs/2022-06-29/08-45-55/.hydra\n",
      "`2022-06-29 08:48:02,807` | `INFO` | `  0:02:06.859054 <- Total vectorize fxn time elapsed`\n"
     ]
    }
   ],
   "source": [
    "# run on full data\n",
    "\n",
    "!cd $path_djb_repo && python -m $file_vectorize_py \\\n",
    "    --config-name $config_vectorize"
   ]
  },
  {
   "cell_type": "markdown",
   "id": "63304644",
   "metadata": {},
   "source": [
    "## Rough time projections\n",
    "Based on the file(s) processed above. Here are some rough projections for how long it might take to process all posts needed for the topic model."
   ]
  },
  {
   "cell_type": "code",
   "execution_count": 6,
   "id": "ac6ea70f",
   "metadata": {},
   "outputs": [
    {
     "data": {
      "text/html": [
       "<style  type=\"text/css\" >\n",
       "</style><table id=\"T_be65b_\" ><thead>    <tr>        <th class=\"blank level0\" ></th>        <th class=\"col_heading level0 col0\" >n_rows</th>        <th class=\"col_heading level0 col1\" >n_jobs</th>        <th class=\"col_heading level0 col2\" >projected_hours</th>        <th class=\"col_heading level0 col3\" >projected_days</th>        <th class=\"col_heading level0 col4\" >projected_mins</th>    </tr></thead><tbody>\n",
       "                <tr>\n",
       "                        <th id=\"T_be65b_level0_row0\" class=\"row_heading level0 row0\" >0</th>\n",
       "                        <td id=\"T_be65b_row0_col0\" class=\"data row0 col0\" >16,360,314</td>\n",
       "                        <td id=\"T_be65b_row0_col1\" class=\"data row0 col1\" >1</td>\n",
       "                        <td id=\"T_be65b_row0_col2\" class=\"data row0 col2\" >3.01</td>\n",
       "                        <td id=\"T_be65b_row0_col3\" class=\"data row0 col3\" >0.13</td>\n",
       "                        <td id=\"T_be65b_row0_col4\" class=\"data row0 col4\" >180.51</td>\n",
       "            </tr>\n",
       "            <tr>\n",
       "                        <th id=\"T_be65b_level0_row1\" class=\"row_heading level0 row1\" >1</th>\n",
       "                        <td id=\"T_be65b_row1_col0\" class=\"data row1 col0\" >16,360,314</td>\n",
       "                        <td id=\"T_be65b_row1_col1\" class=\"data row1 col1\" >2</td>\n",
       "                        <td id=\"T_be65b_row1_col2\" class=\"data row1 col2\" >1.50</td>\n",
       "                        <td id=\"T_be65b_row1_col3\" class=\"data row1 col3\" >0.06</td>\n",
       "                        <td id=\"T_be65b_row1_col4\" class=\"data row1 col4\" >90.26</td>\n",
       "            </tr>\n",
       "            <tr>\n",
       "                        <th id=\"T_be65b_level0_row2\" class=\"row_heading level0 row2\" >2</th>\n",
       "                        <td id=\"T_be65b_row2_col0\" class=\"data row2 col0\" >16,360,314</td>\n",
       "                        <td id=\"T_be65b_row2_col1\" class=\"data row2 col1\" >3</td>\n",
       "                        <td id=\"T_be65b_row2_col2\" class=\"data row2 col2\" >1.00</td>\n",
       "                        <td id=\"T_be65b_row2_col3\" class=\"data row2 col3\" >0.04</td>\n",
       "                        <td id=\"T_be65b_row2_col4\" class=\"data row2 col4\" >60.17</td>\n",
       "            </tr>\n",
       "            <tr>\n",
       "                        <th id=\"T_be65b_level0_row3\" class=\"row_heading level0 row3\" >3</th>\n",
       "                        <td id=\"T_be65b_row3_col0\" class=\"data row3 col0\" >16,360,314</td>\n",
       "                        <td id=\"T_be65b_row3_col1\" class=\"data row3 col1\" >4</td>\n",
       "                        <td id=\"T_be65b_row3_col2\" class=\"data row3 col2\" >0.75</td>\n",
       "                        <td id=\"T_be65b_row3_col3\" class=\"data row3 col3\" >0.03</td>\n",
       "                        <td id=\"T_be65b_row3_col4\" class=\"data row3 col4\" >45.13</td>\n",
       "            </tr>\n",
       "            <tr>\n",
       "                        <th id=\"T_be65b_level0_row4\" class=\"row_heading level0 row4\" >4</th>\n",
       "                        <td id=\"T_be65b_row4_col0\" class=\"data row4 col0\" >16,360,314</td>\n",
       "                        <td id=\"T_be65b_row4_col1\" class=\"data row4 col1\" >5</td>\n",
       "                        <td id=\"T_be65b_row4_col2\" class=\"data row4 col2\" >0.60</td>\n",
       "                        <td id=\"T_be65b_row4_col3\" class=\"data row4 col3\" >0.03</td>\n",
       "                        <td id=\"T_be65b_row4_col4\" class=\"data row4 col4\" >36.10</td>\n",
       "            </tr>\n",
       "            <tr>\n",
       "                        <th id=\"T_be65b_level0_row5\" class=\"row_heading level0 row5\" >5</th>\n",
       "                        <td id=\"T_be65b_row5_col0\" class=\"data row5 col0\" >16,360,314</td>\n",
       "                        <td id=\"T_be65b_row5_col1\" class=\"data row5 col1\" >6</td>\n",
       "                        <td id=\"T_be65b_row5_col2\" class=\"data row5 col2\" >0.50</td>\n",
       "                        <td id=\"T_be65b_row5_col3\" class=\"data row5 col3\" >0.02</td>\n",
       "                        <td id=\"T_be65b_row5_col4\" class=\"data row5 col4\" >30.09</td>\n",
       "            </tr>\n",
       "            <tr>\n",
       "                        <th id=\"T_be65b_level0_row6\" class=\"row_heading level0 row6\" >6</th>\n",
       "                        <td id=\"T_be65b_row6_col0\" class=\"data row6 col0\" >16,360,314</td>\n",
       "                        <td id=\"T_be65b_row6_col1\" class=\"data row6 col1\" >7</td>\n",
       "                        <td id=\"T_be65b_row6_col2\" class=\"data row6 col2\" >0.43</td>\n",
       "                        <td id=\"T_be65b_row6_col3\" class=\"data row6 col3\" >0.02</td>\n",
       "                        <td id=\"T_be65b_row6_col4\" class=\"data row6 col4\" >25.79</td>\n",
       "            </tr>\n",
       "            <tr>\n",
       "                        <th id=\"T_be65b_level0_row7\" class=\"row_heading level0 row7\" >7</th>\n",
       "                        <td id=\"T_be65b_row7_col0\" class=\"data row7 col0\" >16,360,314</td>\n",
       "                        <td id=\"T_be65b_row7_col1\" class=\"data row7 col1\" >8</td>\n",
       "                        <td id=\"T_be65b_row7_col2\" class=\"data row7 col2\" >0.38</td>\n",
       "                        <td id=\"T_be65b_row7_col3\" class=\"data row7 col3\" >0.02</td>\n",
       "                        <td id=\"T_be65b_row7_col4\" class=\"data row7 col4\" >22.56</td>\n",
       "            </tr>\n",
       "    </tbody></table>"
      ],
      "text/plain": [
       "<pandas.io.formats.style.Styler at 0x7f7daf167b50>"
      ]
     },
     "execution_count": 6,
     "metadata": {},
     "output_type": "execute_result"
    }
   ],
   "source": [
    "# Projections\n",
    "l_estimates_ = list()\n",
    "\n",
    "time_mins = 2 + (1/6)\n",
    "rows_embedded_ = 196371\n",
    "\n",
    "rows_to_embed_ = int(16360314)\n",
    "projected_time_mins = time_mins * (rows_to_embed_ / rows_embedded_)\n",
    "\n",
    "l_estimates_.append(\n",
    "    {\n",
    "        'n_rows': rows_to_embed_,\n",
    "        'n_jobs': 1,\n",
    "        'projected_hours': projected_time_mins / 60,\n",
    "        'projected_days': projected_time_mins / (60 * 24),\n",
    "        'projected_mins': projected_time_mins,\n",
    "    }\n",
    ")\n",
    "\n",
    "for n_parallel_jobs_ in range(2, 9):\n",
    "    proj_mins_parallel = projected_time_mins / n_parallel_jobs_\n",
    "    l_estimates_.append(\n",
    "        {\n",
    "            'n_rows': rows_to_embed_,\n",
    "            'n_jobs': n_parallel_jobs_,\n",
    "            'projected_hours': proj_mins_parallel / 60, \n",
    "            'projected_days': proj_mins_parallel / (60 * 24), \n",
    "            'projected_mins': proj_mins_parallel,\n",
    "        }\n",
    "    )\n",
    "\n",
    "style_df_numeric(\n",
    "    pd.DataFrame(l_estimates_)\n",
    ")"
   ]
  }
 ],
 "metadata": {
  "environment": {
   "name": "tf2-gpu.2-3.m74",
   "type": "gcloud",
   "uri": "gcr.io/deeplearning-platform-release/tf2-gpu.2-3:m74"
  },
  "kernelspec": {
   "display_name": "Python 3",
   "language": "python",
   "name": "python3"
  },
  "language_info": {
   "codemirror_mode": {
    "name": "ipython",
    "version": 3
   },
   "file_extension": ".py",
   "mimetype": "text/x-python",
   "name": "python",
   "nbconvert_exporter": "python",
   "pygments_lexer": "ipython3",
   "version": "3.7.10"
  }
 },
 "nbformat": 4,
 "nbformat_minor": 5
}
