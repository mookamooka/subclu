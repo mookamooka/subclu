{
 "cells": [
  {
   "cell_type": "markdown",
   "id": "290c6595",
   "metadata": {},
   "source": [
    "# Purpose\n",
    "\n",
    "2022-07(update):\n",
    "Check more params to see if there are some parameters we can exclude (because they always result in outputs with low performance).\n",
    "\n",
    "Parmeters to check:\n",
    "- cluster_linkage\n",
    "- distance metric (`cluster__affinity`)\n",
    "- SVD step (apply SVD before clustering)\n",
    "\n",
    "---\n",
    "2022-02\n",
    "After fixing the parallel jobs, we need to pick the best model to share on bigQuery and to use for new FPRs.\n"
   ]
  },
  {
   "cell_type": "markdown",
   "id": "b93e76a9",
   "metadata": {},
   "source": [
    "# Imports & Setup"
   ]
  },
  {
   "cell_type": "code",
   "execution_count": 1,
   "id": "1ee969f5",
   "metadata": {},
   "outputs": [],
   "source": [
    "%load_ext autoreload\n",
    "%autoreload 2"
   ]
  },
  {
   "cell_type": "code",
   "execution_count": 2,
   "id": "872da255",
   "metadata": {},
   "outputs": [
    {
     "name": "stdout",
     "output_type": "stream",
     "text": [
      "python\t\tv 3.7.10\n",
      "===\n",
      "hydra\t\tv: 1.1.0\n",
      "numpy\t\tv: 1.19.5\n",
      "pandas\t\tv: 1.2.4\n",
      "plotly\t\tv: 4.14.3\n",
      "seaborn\t\tv: 0.11.1\n",
      "subclu\t\tv: 0.5.0\n"
     ]
    }
   ],
   "source": [
    "from datetime import datetime\n",
    "import logging\n",
    "import os\n",
    "from pathlib import Path\n",
    "\n",
    "import numpy as np\n",
    "import pandas as pd\n",
    "import plotly\n",
    "import plotly.express as px\n",
    "import seaborn as sns\n",
    "\n",
    "import mlflow\n",
    "import hydra\n",
    "\n",
    "import subclu\n",
    "from subclu.eda.aggregates import compare_raw_v_weighted_language\n",
    "from subclu.utils import set_working_directory, get_project_subfolder\n",
    "from subclu.utils.eda import (\n",
    "    setup_logging, counts_describe, value_counts_and_pcts,\n",
    "    notebook_display_config, print_lib_versions,\n",
    "    style_df_numeric, reorder_array,\n",
    ")\n",
    "from subclu.utils.mlflow_logger import MlflowLogger\n",
    "from subclu.utils.hydra_config_loader import LoadHydraConfig\n",
    "from subclu.utils.data_irl_style import (\n",
    "    get_colormap, theme_dirl, \n",
    "    get_color_dict, base_colors_for_manual_labels,\n",
    "    check_colors_used,\n",
    ")\n",
    "from subclu.data.data_loaders import LoadPosts, LoadSubreddits, create_sub_level_aggregates\n",
    "\n",
    "\n",
    "# ===\n",
    "# imports specific to this notebook\n",
    "\n",
    "\n",
    "\n",
    "print_lib_versions([hydra, np, pd, plotly, sns, subclu])"
   ]
  },
  {
   "cell_type": "code",
   "execution_count": 3,
   "id": "e71d9b61",
   "metadata": {},
   "outputs": [],
   "source": [
    "# plotting\n",
    "import matplotlib.pyplot as plt\n",
    "import matplotlib.ticker as mtick\n",
    "import matplotlib.dates as mdates\n",
    "plt.style.use('default')\n",
    "\n",
    "setup_logging()\n",
    "notebook_display_config()"
   ]
  },
  {
   "cell_type": "markdown",
   "id": "ae57f870",
   "metadata": {},
   "source": [
    "# Set sqlite database as MLflow URI"
   ]
  },
  {
   "cell_type": "code",
   "execution_count": 4,
   "id": "4ede2e6d",
   "metadata": {},
   "outputs": [
    {
     "data": {
      "text/plain": [
       "'sqlite:////home/jupyter/subreddit_clustering_i18n/mlflow_sync/djb-100-2021-04-28-djb-eda-german-subs/mlruns.db'"
      ]
     },
     "execution_count": 4,
     "metadata": {},
     "output_type": "execute_result"
    }
   ],
   "source": [
    "# use new class to initialize mlflow\n",
    "mlf = MlflowLogger(tracking_uri='sqlite')\n",
    "mlflow.get_tracking_uri()"
   ]
  },
  {
   "cell_type": "markdown",
   "id": "f0f35815",
   "metadata": {},
   "source": [
    "## Get list of experiments with new function"
   ]
  },
  {
   "cell_type": "code",
   "execution_count": 5,
   "id": "201c5feb",
   "metadata": {},
   "outputs": [
    {
     "data": {
      "text/html": [
       "<div>\n",
       "<style scoped>\n",
       "    .dataframe tbody tr th:only-of-type {\n",
       "        vertical-align: middle;\n",
       "    }\n",
       "\n",
       "    .dataframe tbody tr th {\n",
       "        vertical-align: top;\n",
       "    }\n",
       "\n",
       "    .dataframe thead th {\n",
       "        text-align: right;\n",
       "    }\n",
       "</style>\n",
       "<table border=\"1\" class=\"dataframe\">\n",
       "  <thead>\n",
       "    <tr style=\"text-align: right;\">\n",
       "      <th></th>\n",
       "      <th>experiment_id</th>\n",
       "      <th>name</th>\n",
       "      <th>artifact_location</th>\n",
       "      <th>lifecycle_stage</th>\n",
       "    </tr>\n",
       "  </thead>\n",
       "  <tbody>\n",
       "    <tr>\n",
       "      <th>25</th>\n",
       "      <td>25</td>\n",
       "      <td>v0.4.1_mUSE_clustering_new_metrics</td>\n",
       "      <td>gs://i18n-subreddit-clustering/mlflow/mlruns/25</td>\n",
       "      <td>active</td>\n",
       "    </tr>\n",
       "    <tr>\n",
       "      <th>26</th>\n",
       "      <td>26</td>\n",
       "      <td>v0.4.1_nearest_neighbors_test</td>\n",
       "      <td>gs://i18n-subreddit-clustering/mlflow/mlruns/26</td>\n",
       "      <td>active</td>\n",
       "    </tr>\n",
       "    <tr>\n",
       "      <th>27</th>\n",
       "      <td>27</td>\n",
       "      <td>v0.4.1_nearest_neighbors</td>\n",
       "      <td>gs://i18n-subreddit-clustering/mlflow/mlruns/27</td>\n",
       "      <td>active</td>\n",
       "    </tr>\n",
       "    <tr>\n",
       "      <th>28</th>\n",
       "      <td>28</td>\n",
       "      <td>v0.5.0_mUSE_aggregates_test</td>\n",
       "      <td>gs://i18n-subreddit-clustering/mlflow/mlruns/28</td>\n",
       "      <td>active</td>\n",
       "    </tr>\n",
       "    <tr>\n",
       "      <th>29</th>\n",
       "      <td>29</td>\n",
       "      <td>v0.5.0_mUSE_aggregates</td>\n",
       "      <td>gs://i18n-subreddit-clustering/mlflow/mlruns/29</td>\n",
       "      <td>active</td>\n",
       "    </tr>\n",
       "    <tr>\n",
       "      <th>30</th>\n",
       "      <td>30</td>\n",
       "      <td>v0.5.0_mUSE_clustering_test</td>\n",
       "      <td>gs://i18n-subreddit-clustering/mlflow/mlruns/30</td>\n",
       "      <td>active</td>\n",
       "    </tr>\n",
       "    <tr>\n",
       "      <th>31</th>\n",
       "      <td>31</td>\n",
       "      <td>v0.5.0_mUSE_clustering</td>\n",
       "      <td>gs://i18n-subreddit-clustering/mlflow/mlruns/31</td>\n",
       "      <td>active</td>\n",
       "    </tr>\n",
       "    <tr>\n",
       "      <th>32</th>\n",
       "      <td>32</td>\n",
       "      <td>v0.5.0_nearest_neighbors_test</td>\n",
       "      <td>gs://i18n-subreddit-clustering/mlflow/mlruns/32</td>\n",
       "      <td>active</td>\n",
       "    </tr>\n",
       "    <tr>\n",
       "      <th>33</th>\n",
       "      <td>33</td>\n",
       "      <td>v0.5.0_nearest_neighbors</td>\n",
       "      <td>gs://i18n-subreddit-clustering/mlflow/mlruns/33</td>\n",
       "      <td>active</td>\n",
       "    </tr>\n",
       "  </tbody>\n",
       "</table>\n",
       "</div>"
      ],
      "text/plain": [
       "   experiment_id                                name                                artifact_location lifecycle_stage\n",
       "25            25  v0.4.1_mUSE_clustering_new_metrics  gs://i18n-subreddit-clustering/mlflow/mlruns/25          active\n",
       "26            26       v0.4.1_nearest_neighbors_test  gs://i18n-subreddit-clustering/mlflow/mlruns/26          active\n",
       "27            27            v0.4.1_nearest_neighbors  gs://i18n-subreddit-clustering/mlflow/mlruns/27          active\n",
       "28            28         v0.5.0_mUSE_aggregates_test  gs://i18n-subreddit-clustering/mlflow/mlruns/28          active\n",
       "29            29              v0.5.0_mUSE_aggregates  gs://i18n-subreddit-clustering/mlflow/mlruns/29          active\n",
       "30            30         v0.5.0_mUSE_clustering_test  gs://i18n-subreddit-clustering/mlflow/mlruns/30          active\n",
       "31            31              v0.5.0_mUSE_clustering  gs://i18n-subreddit-clustering/mlflow/mlruns/31          active\n",
       "32            32       v0.5.0_nearest_neighbors_test  gs://i18n-subreddit-clustering/mlflow/mlruns/32          active\n",
       "33            33            v0.5.0_nearest_neighbors  gs://i18n-subreddit-clustering/mlflow/mlruns/33          active"
      ]
     },
     "execution_count": 5,
     "metadata": {},
     "output_type": "execute_result"
    }
   ],
   "source": [
    "mlf.list_experiment_meta(output_format='pandas').tail(9)"
   ]
  },
  {
   "cell_type": "markdown",
   "id": "4b566d84",
   "metadata": {},
   "source": [
    "## Get experiment ID's for models to check\n",
    "\n",
    "experiment ID 25 as the latest runs"
   ]
  },
  {
   "cell_type": "code",
   "execution_count": 6,
   "id": "cc47bda3",
   "metadata": {},
   "outputs": [
    {
     "name": "stdout",
     "output_type": "stream",
     "text": [
      "CPU times: user 502 ms, sys: 37.4 ms, total: 540 ms\n",
      "Wall time: 539 ms\n"
     ]
    },
    {
     "data": {
      "text/plain": [
       "(36, 283)"
      ]
     },
     "execution_count": 6,
     "metadata": {},
     "output_type": "execute_result"
    }
   ],
   "source": [
    "%%time\n",
    "\n",
    "df_mlf = mlf.search_all_runs(experiment_ids=[31])\n",
    "df_mlf.shape"
   ]
  },
  {
   "cell_type": "code",
   "execution_count": 7,
   "id": "6373ec7e",
   "metadata": {},
   "outputs": [
    {
     "data": {
      "text/html": [
       "<div>\n",
       "<style scoped>\n",
       "    .dataframe tbody tr th:only-of-type {\n",
       "        vertical-align: middle;\n",
       "    }\n",
       "\n",
       "    .dataframe tbody tr th {\n",
       "        vertical-align: top;\n",
       "    }\n",
       "\n",
       "    .dataframe thead th {\n",
       "        text-align: right;\n",
       "    }\n",
       "</style>\n",
       "<table border=\"1\" class=\"dataframe\">\n",
       "  <thead>\n",
       "    <tr style=\"text-align: right;\">\n",
       "      <th></th>\n",
       "      <th>run_id</th>\n",
       "      <th>experiment_id</th>\n",
       "      <th>status</th>\n",
       "      <th>artifact_uri</th>\n",
       "      <th>start_time</th>\n",
       "      <th>end_time</th>\n",
       "      <th>metrics.vectorizing_time_minutes</th>\n",
       "      <th>metrics.primary_topic-0020_to_0040-adjusted_mutual_info_score</th>\n",
       "      <th>metrics.primary_topic-0060_to_0070-f1_score-macro_avg</th>\n",
       "      <th>metrics.primary_topic-0040_to_0050-adjusted_mutual_info_score</th>\n",
       "    </tr>\n",
       "  </thead>\n",
       "  <tbody>\n",
       "    <tr>\n",
       "      <th>0</th>\n",
       "      <td>45579150ddd74fd5a1235f4fb922b9c5</td>\n",
       "      <td>31</td>\n",
       "      <td>FINISHED</td>\n",
       "      <td>gs://i18n-subreddit-clustering/mlflow/mlruns/31/45579150ddd74fd5a1235f4fb922b9c5/artifacts</td>\n",
       "      <td>2022-07-06 19:28:01.754000+00:00</td>\n",
       "      <td>2022-07-06 19:47:07.449000+00:00</td>\n",
       "      <td>19.087653</td>\n",
       "      <td>0.000192</td>\n",
       "      <td>0.011962</td>\n",
       "      <td>0.002218</td>\n",
       "    </tr>\n",
       "    <tr>\n",
       "      <th>1</th>\n",
       "      <td>490036d3460944d0b69954e70e7fbe5e</td>\n",
       "      <td>31</td>\n",
       "      <td>FINISHED</td>\n",
       "      <td>gs://i18n-subreddit-clustering/mlflow/mlruns/31/490036d3460944d0b69954e70e7fbe5e/artifacts</td>\n",
       "      <td>2022-07-06 19:26:51.505000+00:00</td>\n",
       "      <td>2022-07-06 20:08:56.844000+00:00</td>\n",
       "      <td>42.082536</td>\n",
       "      <td>0.000194</td>\n",
       "      <td>0.009431</td>\n",
       "      <td>0.000232</td>\n",
       "    </tr>\n",
       "    <tr>\n",
       "      <th>2</th>\n",
       "      <td>74e31ac53aa7459f895a491aa6f020ad</td>\n",
       "      <td>31</td>\n",
       "      <td>FINISHED</td>\n",
       "      <td>gs://i18n-subreddit-clustering/mlflow/mlruns/31/74e31ac53aa7459f895a491aa6f020ad/artifacts</td>\n",
       "      <td>2022-07-06 19:25:49.241000+00:00</td>\n",
       "      <td>2022-07-06 19:43:44.038000+00:00</td>\n",
       "      <td>17.906991</td>\n",
       "      <td>0.000194</td>\n",
       "      <td>0.011494</td>\n",
       "      <td>0.001815</td>\n",
       "    </tr>\n",
       "    <tr>\n",
       "      <th>3</th>\n",
       "      <td>7316cbfae403413da5a97af2937b45ad</td>\n",
       "      <td>31</td>\n",
       "      <td>FINISHED</td>\n",
       "      <td>gs://i18n-subreddit-clustering/mlflow/mlruns/31/7316cbfae403413da5a97af2937b45ad/artifacts</td>\n",
       "      <td>2022-07-06 19:25:41.543000+00:00</td>\n",
       "      <td>2022-07-06 20:09:18.335000+00:00</td>\n",
       "      <td>43.606920</td>\n",
       "      <td>0.000082</td>\n",
       "      <td>0.009403</td>\n",
       "      <td>0.000232</td>\n",
       "    </tr>\n",
       "    <tr>\n",
       "      <th>4</th>\n",
       "      <td>ea99614dd89a466c9251bf2f295ebeb8</td>\n",
       "      <td>31</td>\n",
       "      <td>FINISHED</td>\n",
       "      <td>gs://i18n-subreddit-clustering/mlflow/mlruns/31/ea99614dd89a466c9251bf2f295ebeb8/artifacts</td>\n",
       "      <td>2022-07-06 19:24:57.824000+00:00</td>\n",
       "      <td>2022-07-06 19:42:53.623000+00:00</td>\n",
       "      <td>17.923716</td>\n",
       "      <td>0.000480</td>\n",
       "      <td>0.012083</td>\n",
       "      <td>0.000828</td>\n",
       "    </tr>\n",
       "  </tbody>\n",
       "</table>\n",
       "</div>"
      ],
      "text/plain": [
       "                             run_id experiment_id    status                                                                                artifact_uri                       start_time                         end_time  metrics.vectorizing_time_minutes  \\\n",
       "0  45579150ddd74fd5a1235f4fb922b9c5            31  FINISHED  gs://i18n-subreddit-clustering/mlflow/mlruns/31/45579150ddd74fd5a1235f4fb922b9c5/artifacts 2022-07-06 19:28:01.754000+00:00 2022-07-06 19:47:07.449000+00:00                         19.087653   \n",
       "1  490036d3460944d0b69954e70e7fbe5e            31  FINISHED  gs://i18n-subreddit-clustering/mlflow/mlruns/31/490036d3460944d0b69954e70e7fbe5e/artifacts 2022-07-06 19:26:51.505000+00:00 2022-07-06 20:08:56.844000+00:00                         42.082536   \n",
       "2  74e31ac53aa7459f895a491aa6f020ad            31  FINISHED  gs://i18n-subreddit-clustering/mlflow/mlruns/31/74e31ac53aa7459f895a491aa6f020ad/artifacts 2022-07-06 19:25:49.241000+00:00 2022-07-06 19:43:44.038000+00:00                         17.906991   \n",
       "3  7316cbfae403413da5a97af2937b45ad            31  FINISHED  gs://i18n-subreddit-clustering/mlflow/mlruns/31/7316cbfae403413da5a97af2937b45ad/artifacts 2022-07-06 19:25:41.543000+00:00 2022-07-06 20:09:18.335000+00:00                         43.606920   \n",
       "4  ea99614dd89a466c9251bf2f295ebeb8            31  FINISHED  gs://i18n-subreddit-clustering/mlflow/mlruns/31/ea99614dd89a466c9251bf2f295ebeb8/artifacts 2022-07-06 19:24:57.824000+00:00 2022-07-06 19:42:53.623000+00:00                         17.923716   \n",
       "\n",
       "   metrics.primary_topic-0020_to_0040-adjusted_mutual_info_score  metrics.primary_topic-0060_to_0070-f1_score-macro_avg  metrics.primary_topic-0040_to_0050-adjusted_mutual_info_score  \n",
       "0                                                       0.000192                                               0.011962                                                       0.002218  \n",
       "1                                                       0.000194                                               0.009431                                                       0.000232  \n",
       "2                                                       0.000194                                               0.011494                                                       0.001815  \n",
       "3                                                       0.000082                                               0.009403                                                       0.000232  \n",
       "4                                                       0.000480                                               0.012083                                                       0.000828  "
      ]
     },
     "execution_count": 7,
     "metadata": {},
     "output_type": "execute_result"
    }
   ],
   "source": [
    "df_mlf.iloc[:5, :10]"
   ]
  },
  {
   "cell_type": "code",
   "execution_count": 8,
   "id": "aa84991d",
   "metadata": {},
   "outputs": [
    {
     "data": {
      "text/plain": [
       "(36, 283)"
      ]
     },
     "execution_count": 8,
     "metadata": {},
     "output_type": "execute_result"
    }
   ],
   "source": [
    "mask_finished = df_mlf['status'] == 'FINISHED'\n",
    "mask_score_complete = ~df_mlf['metrics.primary_topic-2350_to_2700-f1_score-weighted_avg'].isnull()\n",
    "\n",
    "df_mlf_clustering_candidates = df_mlf[mask_finished & mask_score_complete]\n",
    "df_mlf_clustering_candidates.shape"
   ]
  },
  {
   "cell_type": "code",
   "execution_count": 9,
   "id": "5bf4bff3",
   "metadata": {},
   "outputs": [
    {
     "name": "stdout",
     "output_type": "stream",
     "text": [
      "interesting cols: 255\n"
     ]
    },
    {
     "data": {
      "text/html": [
       "<div>\n",
       "<style scoped>\n",
       "    .dataframe tbody tr th:only-of-type {\n",
       "        vertical-align: middle;\n",
       "    }\n",
       "\n",
       "    .dataframe tbody tr th {\n",
       "        vertical-align: top;\n",
       "    }\n",
       "\n",
       "    .dataframe thead th {\n",
       "        text-align: right;\n",
       "    }\n",
       "</style>\n",
       "<table border=\"1\" class=\"dataframe\">\n",
       "  <thead>\n",
       "    <tr style=\"text-align: right;\">\n",
       "      <th></th>\n",
       "      <th>run_id</th>\n",
       "      <th>artifact_uri</th>\n",
       "      <th>start_time</th>\n",
       "      <th>end_time</th>\n",
       "      <th>metrics.vectorizing_time_minutes</th>\n",
       "      <th>metrics.primary_topic-0020_to_0040-adjusted_mutual_info_score</th>\n",
       "      <th>metrics.primary_topic-0060_to_0070-f1_score-macro_avg</th>\n",
       "      <th>metrics.primary_topic-0040_to_0050-adjusted_mutual_info_score</th>\n",
       "      <th>metrics.primary_topic-3800_to_3900-f1_score-macro_avg</th>\n",
       "      <th>metrics.primary_topic-0010_to_0020-adjusted_mutual_info_score</th>\n",
       "    </tr>\n",
       "  </thead>\n",
       "  <tbody>\n",
       "    <tr>\n",
       "      <th>0</th>\n",
       "      <td>45579150ddd74fd5a1235f4fb922b9c5</td>\n",
       "      <td>gs://i18n-subreddit-clustering/mlflow/mlruns/31/45579150ddd74fd5a1235f4fb922b9c5/artifacts</td>\n",
       "      <td>2022-07-06 19:28:01.754000+00:00</td>\n",
       "      <td>2022-07-06 19:47:07.449000+00:00</td>\n",
       "      <td>19.087653</td>\n",
       "      <td>0.000192</td>\n",
       "      <td>0.011962</td>\n",
       "      <td>0.002218</td>\n",
       "      <td>0.487702</td>\n",
       "      <td>0.000165</td>\n",
       "    </tr>\n",
       "    <tr>\n",
       "      <th>1</th>\n",
       "      <td>490036d3460944d0b69954e70e7fbe5e</td>\n",
       "      <td>gs://i18n-subreddit-clustering/mlflow/mlruns/31/490036d3460944d0b69954e70e7fbe5e/artifacts</td>\n",
       "      <td>2022-07-06 19:26:51.505000+00:00</td>\n",
       "      <td>2022-07-06 20:08:56.844000+00:00</td>\n",
       "      <td>42.082536</td>\n",
       "      <td>0.000194</td>\n",
       "      <td>0.009431</td>\n",
       "      <td>0.000232</td>\n",
       "      <td>0.382857</td>\n",
       "      <td>0.000061</td>\n",
       "    </tr>\n",
       "    <tr>\n",
       "      <th>2</th>\n",
       "      <td>74e31ac53aa7459f895a491aa6f020ad</td>\n",
       "      <td>gs://i18n-subreddit-clustering/mlflow/mlruns/31/74e31ac53aa7459f895a491aa6f020ad/artifacts</td>\n",
       "      <td>2022-07-06 19:25:49.241000+00:00</td>\n",
       "      <td>2022-07-06 19:43:44.038000+00:00</td>\n",
       "      <td>17.906991</td>\n",
       "      <td>0.000194</td>\n",
       "      <td>0.011494</td>\n",
       "      <td>0.001815</td>\n",
       "      <td>0.495924</td>\n",
       "      <td>0.000104</td>\n",
       "    </tr>\n",
       "    <tr>\n",
       "      <th>3</th>\n",
       "      <td>7316cbfae403413da5a97af2937b45ad</td>\n",
       "      <td>gs://i18n-subreddit-clustering/mlflow/mlruns/31/7316cbfae403413da5a97af2937b45ad/artifacts</td>\n",
       "      <td>2022-07-06 19:25:41.543000+00:00</td>\n",
       "      <td>2022-07-06 20:09:18.335000+00:00</td>\n",
       "      <td>43.606920</td>\n",
       "      <td>0.000082</td>\n",
       "      <td>0.009403</td>\n",
       "      <td>0.000232</td>\n",
       "      <td>0.374143</td>\n",
       "      <td>0.000061</td>\n",
       "    </tr>\n",
       "    <tr>\n",
       "      <th>4</th>\n",
       "      <td>ea99614dd89a466c9251bf2f295ebeb8</td>\n",
       "      <td>gs://i18n-subreddit-clustering/mlflow/mlruns/31/ea99614dd89a466c9251bf2f295ebeb8/artifacts</td>\n",
       "      <td>2022-07-06 19:24:57.824000+00:00</td>\n",
       "      <td>2022-07-06 19:42:53.623000+00:00</td>\n",
       "      <td>17.923716</td>\n",
       "      <td>0.000480</td>\n",
       "      <td>0.012083</td>\n",
       "      <td>0.000828</td>\n",
       "      <td>0.488645</td>\n",
       "      <td>0.000139</td>\n",
       "    </tr>\n",
       "  </tbody>\n",
       "</table>\n",
       "</div>"
      ],
      "text/plain": [
       "                             run_id                                                                                artifact_uri                       start_time                         end_time  metrics.vectorizing_time_minutes  metrics.primary_topic-0020_to_0040-adjusted_mutual_info_score  \\\n",
       "0  45579150ddd74fd5a1235f4fb922b9c5  gs://i18n-subreddit-clustering/mlflow/mlruns/31/45579150ddd74fd5a1235f4fb922b9c5/artifacts 2022-07-06 19:28:01.754000+00:00 2022-07-06 19:47:07.449000+00:00                         19.087653                                                       0.000192   \n",
       "1  490036d3460944d0b69954e70e7fbe5e  gs://i18n-subreddit-clustering/mlflow/mlruns/31/490036d3460944d0b69954e70e7fbe5e/artifacts 2022-07-06 19:26:51.505000+00:00 2022-07-06 20:08:56.844000+00:00                         42.082536                                                       0.000194   \n",
       "2  74e31ac53aa7459f895a491aa6f020ad  gs://i18n-subreddit-clustering/mlflow/mlruns/31/74e31ac53aa7459f895a491aa6f020ad/artifacts 2022-07-06 19:25:49.241000+00:00 2022-07-06 19:43:44.038000+00:00                         17.906991                                                       0.000194   \n",
       "3  7316cbfae403413da5a97af2937b45ad  gs://i18n-subreddit-clustering/mlflow/mlruns/31/7316cbfae403413da5a97af2937b45ad/artifacts 2022-07-06 19:25:41.543000+00:00 2022-07-06 20:09:18.335000+00:00                         43.606920                                                       0.000082   \n",
       "4  ea99614dd89a466c9251bf2f295ebeb8  gs://i18n-subreddit-clustering/mlflow/mlruns/31/ea99614dd89a466c9251bf2f295ebeb8/artifacts 2022-07-06 19:24:57.824000+00:00 2022-07-06 19:42:53.623000+00:00                         17.923716                                                       0.000480   \n",
       "\n",
       "   metrics.primary_topic-0060_to_0070-f1_score-macro_avg  metrics.primary_topic-0040_to_0050-adjusted_mutual_info_score  metrics.primary_topic-3800_to_3900-f1_score-macro_avg  metrics.primary_topic-0010_to_0020-adjusted_mutual_info_score  \n",
       "0                                               0.011962                                                       0.002218                                               0.487702                                                       0.000165  \n",
       "1                                               0.009431                                                       0.000232                                               0.382857                                                       0.000061  \n",
       "2                                               0.011494                                                       0.001815                                               0.495924                                                       0.000104  \n",
       "3                                               0.009403                                                       0.000232                                               0.374143                                                       0.000061  \n",
       "4                                               0.012083                                                       0.000828                                               0.488645                                                       0.000139  "
      ]
     },
     "execution_count": 9,
     "metadata": {},
     "output_type": "execute_result"
    }
   ],
   "source": [
    "cols_with_multiple_vals = df_mlf_clustering_candidates.columns[df_mlf_clustering_candidates.nunique(dropna=False) > 1]\n",
    "print(f\"interesting cols: {len(cols_with_multiple_vals)}\")\n",
    "df_mlf_clustering_candidates[cols_with_multiple_vals].iloc[:5, :10]"
   ]
  },
  {
   "cell_type": "markdown",
   "id": "3bb63dd8",
   "metadata": {},
   "source": [
    "# EDA parameters to check\n",
    "\n",
    "Parmeters to check:\n",
    "- cluster_linkage (`params._pipe-cluster__linkage`)\n",
    "- distance metric (`params._pipe-cluster__affinity`)\n",
    "- SVD step (apply SVD before clustering)\n",
    "    - `params._pipe-reduce__n_components` (`Null` or `None` => No SVD reduction)\n",
    "    \n",
    "Note: `Normalize l2` is only applied to `ward` because:\n",
    "- `l2-norm+euclidean distance = cosine distance`\n",
    "`sklearn`'s implementation of `ward` only works with cosine distance, so we need to make this tweak in order to get cosine distance (which is better for our use case).\n",
    "\n",
    "---\n",
    "Note 2:\n",
    "It looks like there is a but in the `SVD` / Reduction step because `n_components` always equals 2.  It should be `50`."
   ]
  },
  {
   "cell_type": "code",
   "execution_count": 10,
   "id": "dd1c36d7",
   "metadata": {},
   "outputs": [
    {
     "data": {
      "text/plain": [
       "['metrics.filtered_embeddings-n_rows', 'metrics.filtered_embeddings-n_cols']"
      ]
     },
     "execution_count": 10,
     "metadata": {},
     "output_type": "execute_result"
    }
   ],
   "source": [
    "[c for c in df_mlf_clustering_candidates.columns if 'filter' in c]"
   ]
  },
  {
   "cell_type": "code",
   "execution_count": 11,
   "id": "31ced1f9",
   "metadata": {},
   "outputs": [],
   "source": [
    "# [c for c in df_mlf_clustering_candidates.columns if 'min' in c]"
   ]
  },
  {
   "cell_type": "code",
   "execution_count": 12,
   "id": "261b45ca",
   "metadata": {},
   "outputs": [
    {
     "data": {
      "text/html": [
       "<style  type=\"text/css\" >\n",
       "#T_e9cef_row0_col1,#T_e9cef_row1_col2{\n",
       "            width:  10em;\n",
       "             height:  80%;\n",
       "            background:  linear-gradient(90deg,#95cff5 100.0%, transparent 100.0%);\n",
       "        }#T_e9cef_row0_col2,#T_e9cef_row1_col1{\n",
       "            width:  10em;\n",
       "             height:  80%;\n",
       "        }</style><table id=\"T_e9cef_\" ><thead>    <tr>        <th class=\"blank level0\" ></th>        <th class=\"col_heading level0 col0\" >count</th>        <th class=\"col_heading level0 col1\" >percent</th>        <th class=\"col_heading level0 col2\" >cumulative_percent</th>    </tr>    <tr>        <th class=\"index_name level0\" >params._pipe-normalize__norm</th>        <th class=\"blank\" ></th>        <th class=\"blank\" ></th>        <th class=\"blank\" ></th>    </tr></thead><tbody>\n",
       "                <tr>\n",
       "                        <th id=\"T_e9cef_level0_row0\" class=\"row_heading level0 row0\" >null</th>\n",
       "                        <td id=\"T_e9cef_row0_col0\" class=\"data row0 col0\" >30</td>\n",
       "                        <td id=\"T_e9cef_row0_col1\" class=\"data row0 col1\" >83.3%</td>\n",
       "                        <td id=\"T_e9cef_row0_col2\" class=\"data row0 col2\" >83.3%</td>\n",
       "            </tr>\n",
       "            <tr>\n",
       "                        <th id=\"T_e9cef_level0_row1\" class=\"row_heading level0 row1\" >l2</th>\n",
       "                        <td id=\"T_e9cef_row1_col0\" class=\"data row1 col0\" >6</td>\n",
       "                        <td id=\"T_e9cef_row1_col1\" class=\"data row1 col1\" >16.7%</td>\n",
       "                        <td id=\"T_e9cef_row1_col2\" class=\"data row1 col2\" >100.0%</td>\n",
       "            </tr>\n",
       "    </tbody></table>"
      ],
      "text/plain": [
       "<pandas.io.formats.style.Styler at 0x7fba67810210>"
      ]
     },
     "metadata": {},
     "output_type": "display_data"
    },
    {
     "data": {
      "text/html": [
       "<style  type=\"text/css\" >\n",
       "#T_6009d_row0_col1,#T_6009d_row0_col2,#T_6009d_row1_col1{\n",
       "            width:  10em;\n",
       "             height:  80%;\n",
       "        }#T_6009d_row1_col2{\n",
       "            width:  10em;\n",
       "             height:  80%;\n",
       "            background:  linear-gradient(90deg,#95cff5 100.0%, transparent 100.0%);\n",
       "        }</style><table id=\"T_6009d_\" ><thead>    <tr>        <th class=\"blank level0\" ></th>        <th class=\"col_heading level0 col0\" >count</th>        <th class=\"col_heading level0 col1\" >percent</th>        <th class=\"col_heading level0 col2\" >cumulative_percent</th>    </tr>    <tr>        <th class=\"index_name level0\" >params._pipe-reduce__n_components</th>        <th class=\"blank\" ></th>        <th class=\"blank\" ></th>        <th class=\"blank\" ></th>    </tr></thead><tbody>\n",
       "                <tr>\n",
       "                        <th id=\"T_6009d_level0_row0\" class=\"row_heading level0 row0\" >128</th>\n",
       "                        <td id=\"T_6009d_row0_col0\" class=\"data row0 col0\" >18</td>\n",
       "                        <td id=\"T_6009d_row0_col1\" class=\"data row0 col1\" >50.0%</td>\n",
       "                        <td id=\"T_6009d_row0_col2\" class=\"data row0 col2\" >50.0%</td>\n",
       "            </tr>\n",
       "            <tr>\n",
       "                        <th id=\"T_6009d_level0_row1\" class=\"row_heading level0 row1\" >null</th>\n",
       "                        <td id=\"T_6009d_row1_col0\" class=\"data row1 col0\" >18</td>\n",
       "                        <td id=\"T_6009d_row1_col1\" class=\"data row1 col1\" >50.0%</td>\n",
       "                        <td id=\"T_6009d_row1_col2\" class=\"data row1 col2\" >100.0%</td>\n",
       "            </tr>\n",
       "    </tbody></table>"
      ],
      "text/plain": [
       "<pandas.io.formats.style.Styler at 0x7fba678102d0>"
      ]
     },
     "metadata": {},
     "output_type": "display_data"
    },
    {
     "data": {
      "text/html": [
       "<style  type=\"text/css\" >\n",
       "#T_fec48_row0_col1,#T_fec48_row1_col2{\n",
       "            width:  10em;\n",
       "             height:  80%;\n",
       "            background:  linear-gradient(90deg,#95cff5 100.0%, transparent 100.0%);\n",
       "        }#T_fec48_row0_col2,#T_fec48_row1_col1{\n",
       "            width:  10em;\n",
       "             height:  80%;\n",
       "        }</style><table id=\"T_fec48_\" ><thead>    <tr>        <th class=\"blank level0\" ></th>        <th class=\"col_heading level0 col0\" >count</th>        <th class=\"col_heading level0 col1\" >percent</th>        <th class=\"col_heading level0 col2\" >cumulative_percent</th>    </tr>    <tr>        <th class=\"index_name level0\" >params._pipe-cluster__affinity</th>        <th class=\"blank\" ></th>        <th class=\"blank\" ></th>        <th class=\"blank\" ></th>    </tr></thead><tbody>\n",
       "                <tr>\n",
       "                        <th id=\"T_fec48_level0_row0\" class=\"row_heading level0 row0\" >euclidean</th>\n",
       "                        <td id=\"T_fec48_row0_col0\" class=\"data row0 col0\" >24</td>\n",
       "                        <td id=\"T_fec48_row0_col1\" class=\"data row0 col1\" >66.7%</td>\n",
       "                        <td id=\"T_fec48_row0_col2\" class=\"data row0 col2\" >66.7%</td>\n",
       "            </tr>\n",
       "            <tr>\n",
       "                        <th id=\"T_fec48_level0_row1\" class=\"row_heading level0 row1\" >cosine</th>\n",
       "                        <td id=\"T_fec48_row1_col0\" class=\"data row1 col0\" >12</td>\n",
       "                        <td id=\"T_fec48_row1_col1\" class=\"data row1 col1\" >33.3%</td>\n",
       "                        <td id=\"T_fec48_row1_col2\" class=\"data row1 col2\" >100.0%</td>\n",
       "            </tr>\n",
       "    </tbody></table>"
      ],
      "text/plain": [
       "<pandas.io.formats.style.Styler at 0x7fba685f0ad0>"
      ]
     },
     "metadata": {},
     "output_type": "display_data"
    },
    {
     "data": {
      "text/html": [
       "<style  type=\"text/css\" >\n",
       "#T_61a41_row0_col1,#T_61a41_row0_col2,#T_61a41_row1_col1,#T_61a41_row2_col1{\n",
       "            width:  10em;\n",
       "             height:  80%;\n",
       "        }#T_61a41_row1_col2{\n",
       "            width:  10em;\n",
       "             height:  80%;\n",
       "            background:  linear-gradient(90deg,#95cff5 50.0%, transparent 50.0%);\n",
       "        }#T_61a41_row2_col2{\n",
       "            width:  10em;\n",
       "             height:  80%;\n",
       "            background:  linear-gradient(90deg,#95cff5 100.0%, transparent 100.0%);\n",
       "        }</style><table id=\"T_61a41_\" ><thead>    <tr>        <th class=\"blank level0\" ></th>        <th class=\"col_heading level0 col0\" >count</th>        <th class=\"col_heading level0 col1\" >percent</th>        <th class=\"col_heading level0 col2\" >cumulative_percent</th>    </tr>    <tr>        <th class=\"index_name level0\" >metrics.filtered_embeddings-n_rows</th>        <th class=\"blank\" ></th>        <th class=\"blank\" ></th>        <th class=\"blank\" ></th>    </tr></thead><tbody>\n",
       "                <tr>\n",
       "                        <th id=\"T_61a41_level0_row0\" class=\"row_heading level0 row0\" >81815.0</th>\n",
       "                        <td id=\"T_61a41_row0_col0\" class=\"data row0 col0\" >12</td>\n",
       "                        <td id=\"T_61a41_row0_col1\" class=\"data row0 col1\" >33.3%</td>\n",
       "                        <td id=\"T_61a41_row0_col2\" class=\"data row0 col2\" >33.3%</td>\n",
       "            </tr>\n",
       "            <tr>\n",
       "                        <th id=\"T_61a41_level0_row1\" class=\"row_heading level0 row1\" >81954.0</th>\n",
       "                        <td id=\"T_61a41_row1_col0\" class=\"data row1 col0\" >12</td>\n",
       "                        <td id=\"T_61a41_row1_col1\" class=\"data row1 col1\" >33.3%</td>\n",
       "                        <td id=\"T_61a41_row1_col2\" class=\"data row1 col2\" >66.7%</td>\n",
       "            </tr>\n",
       "            <tr>\n",
       "                        <th id=\"T_61a41_level0_row2\" class=\"row_heading level0 row2\" >81970.0</th>\n",
       "                        <td id=\"T_61a41_row2_col0\" class=\"data row2 col0\" >12</td>\n",
       "                        <td id=\"T_61a41_row2_col1\" class=\"data row2 col1\" >33.3%</td>\n",
       "                        <td id=\"T_61a41_row2_col2\" class=\"data row2 col2\" >100.0%</td>\n",
       "            </tr>\n",
       "    </tbody></table>"
      ],
      "text/plain": [
       "<pandas.io.formats.style.Styler at 0x7fba67806b90>"
      ]
     },
     "metadata": {},
     "output_type": "display_data"
    },
    {
     "data": {
      "text/html": [
       "<style  type=\"text/css\" >\n",
       "#T_16f43_row0_col1,#T_16f43_row0_col2,#T_16f43_row1_col1,#T_16f43_row2_col1{\n",
       "            width:  10em;\n",
       "             height:  80%;\n",
       "        }#T_16f43_row1_col2{\n",
       "            width:  10em;\n",
       "             height:  80%;\n",
       "            background:  linear-gradient(90deg,#95cff5 50.0%, transparent 50.0%);\n",
       "        }#T_16f43_row2_col2{\n",
       "            width:  10em;\n",
       "             height:  80%;\n",
       "            background:  linear-gradient(90deg,#95cff5 100.0%, transparent 100.0%);\n",
       "        }</style><table id=\"T_16f43_\" ><thead>    <tr>        <th class=\"blank level0\" ></th>        <th class=\"col_heading level0 col0\" >count</th>        <th class=\"col_heading level0 col1\" >percent</th>        <th class=\"col_heading level0 col2\" >cumulative_percent</th>    </tr>    <tr>        <th class=\"index_name level0\" >params._pipe-cluster__linkage</th>        <th class=\"blank\" ></th>        <th class=\"blank\" ></th>        <th class=\"blank\" ></th>    </tr></thead><tbody>\n",
       "                <tr>\n",
       "                        <th id=\"T_16f43_level0_row0\" class=\"row_heading level0 row0\" >average</th>\n",
       "                        <td id=\"T_16f43_row0_col0\" class=\"data row0 col0\" >12</td>\n",
       "                        <td id=\"T_16f43_row0_col1\" class=\"data row0 col1\" >33.3%</td>\n",
       "                        <td id=\"T_16f43_row0_col2\" class=\"data row0 col2\" >33.3%</td>\n",
       "            </tr>\n",
       "            <tr>\n",
       "                        <th id=\"T_16f43_level0_row1\" class=\"row_heading level0 row1\" >complete</th>\n",
       "                        <td id=\"T_16f43_row1_col0\" class=\"data row1 col0\" >12</td>\n",
       "                        <td id=\"T_16f43_row1_col1\" class=\"data row1 col1\" >33.3%</td>\n",
       "                        <td id=\"T_16f43_row1_col2\" class=\"data row1 col2\" >66.7%</td>\n",
       "            </tr>\n",
       "            <tr>\n",
       "                        <th id=\"T_16f43_level0_row2\" class=\"row_heading level0 row2\" >ward</th>\n",
       "                        <td id=\"T_16f43_row2_col0\" class=\"data row2 col0\" >12</td>\n",
       "                        <td id=\"T_16f43_row2_col1\" class=\"data row2 col1\" >33.3%</td>\n",
       "                        <td id=\"T_16f43_row2_col2\" class=\"data row2 col2\" >100.0%</td>\n",
       "            </tr>\n",
       "    </tbody></table>"
      ],
      "text/plain": [
       "<pandas.io.formats.style.Styler at 0x7fba685efc10>"
      ]
     },
     "metadata": {},
     "output_type": "display_data"
    }
   ],
   "source": [
    "l_parallel_params = [\n",
    "    # 'metrics.filtered_embeddings-n_rows',  # Might not be a parameter to tune anymore (n_minimumn # of posts in subreddit)\n",
    "    'params._pipe-normalize__norm', \n",
    "    'params._pipe-reduce__n_components',\n",
    "    'params._pipe-cluster__affinity',\n",
    "    'metrics.filtered_embeddings-n_rows',\n",
    "    'params._pipe-cluster__linkage',\n",
    "]\n",
    "\n",
    "for c_ in l_parallel_params:\n",
    "    display(\n",
    "        value_counts_and_pcts(\n",
    "            df_mlf_clustering_candidates,\n",
    "            [c_]\n",
    "        )\n",
    "    )"
   ]
  },
  {
   "cell_type": "code",
   "execution_count": 44,
   "id": "2de9956a",
   "metadata": {},
   "outputs": [
    {
     "name": "stdout",
     "output_type": "stream",
     "text": [
      "{4: 'ward', 3: 'complete', 2: 'average', 1: 'single'}\n",
      "{2: 'cosine', 1: 'euclidean'}\n",
      "{2: 'l2', 1: 'None'}\n",
      "{512: 'None', 2: 2, 50: 50}\n"
     ]
    }
   ],
   "source": [
    "d_linkage_to_num = {\n",
    "    'ward': 4,\n",
    "    'complete': 3,\n",
    "    'average': 2,\n",
    "    'single': 1,\n",
    "}\n",
    "d_num_to_linkage = {v: k for k, v in d_linkage_to_num.items()}\n",
    "print(d_num_to_linkage)\n",
    "\n",
    "d_affinity_to_num = {\n",
    "    'cosine': 2,\n",
    "    'euclidean': 1,\n",
    "}\n",
    "d_num_to_affinity = {v: k for k, v in d_affinity_to_num.items()}\n",
    "print(d_num_to_affinity)\n",
    "\n",
    "d_norm_to_num = {\n",
    "    'l2': 2,\n",
    "    'None': 1,\n",
    "}\n",
    "d_num_to_norm = {v: k for k, v in d_norm_to_num.items()}\n",
    "print(d_num_to_norm)\n",
    "\n",
    "d_comp_to_num = {\n",
    "    \"None\": 512,\n",
    "    2: 2,\n",
    "    50: 50\n",
    "}\n",
    "d_num_to_comp = {v: k for k, v in d_comp_to_num.items()}\n",
    "print(d_num_to_comp)"
   ]
  },
  {
   "cell_type": "code",
   "execution_count": 45,
   "id": "3b0270a2",
   "metadata": {},
   "outputs": [
    {
     "data": {
      "text/html": [
       "<style  type=\"text/css\" >\n",
       "#T_14206_row0_col1,#T_14206_row1_col1,#T_14206_row2_col1,#T_14206_row3_col1,#T_14206_row4_col1,#T_14206_row5_col1,#T_14206_row6_col1,#T_14206_row7_col1,#T_14206_row8_col1,#T_14206_row9_col1,#T_14206_row10_col1,#T_14206_row11_col1{\n",
       "            width:  10em;\n",
       "             height:  80%;\n",
       "        }</style><table id=\"T_14206_\" ><thead>    <tr>        <th class=\"blank\" ></th>        <th class=\"blank\" ></th>        <th class=\"blank\" ></th>        <th class=\"blank level0\" ></th>        <th class=\"col_heading level0 col0\" >count</th>        <th class=\"col_heading level0 col1\" >percent</th>    </tr>    <tr>        <th class=\"index_name level0\" >params._pipe-normalize__norm</th>        <th class=\"index_name level1\" >params._pipe-reduce__n_components</th>        <th class=\"index_name level2\" >params._pipe-cluster__affinity</th>        <th class=\"index_name level3\" >params._pipe-cluster__linkage</th>        <th class=\"blank\" ></th>        <th class=\"blank\" ></th>    </tr></thead><tbody>\n",
       "                <tr>\n",
       "                        <th id=\"T_14206_level0_row0\" class=\"row_heading level0 row0\" rowspan=\"2\">l2</th>\n",
       "                        <th id=\"T_14206_level1_row0\" class=\"row_heading level1 row0\" >128</th>\n",
       "                        <th id=\"T_14206_level2_row0\" class=\"row_heading level2 row0\" >euclidean</th>\n",
       "                        <th id=\"T_14206_level3_row0\" class=\"row_heading level3 row0\" >ward</th>\n",
       "                        <td id=\"T_14206_row0_col0\" class=\"data row0 col0\" >3</td>\n",
       "                        <td id=\"T_14206_row0_col1\" class=\"data row0 col1\" >8.3%</td>\n",
       "            </tr>\n",
       "            <tr>\n",
       "                                <th id=\"T_14206_level1_row1\" class=\"row_heading level1 row1\" >null</th>\n",
       "                        <th id=\"T_14206_level2_row1\" class=\"row_heading level2 row1\" >euclidean</th>\n",
       "                        <th id=\"T_14206_level3_row1\" class=\"row_heading level3 row1\" >ward</th>\n",
       "                        <td id=\"T_14206_row1_col0\" class=\"data row1 col0\" >3</td>\n",
       "                        <td id=\"T_14206_row1_col1\" class=\"data row1 col1\" >8.3%</td>\n",
       "            </tr>\n",
       "            <tr>\n",
       "                        <th id=\"T_14206_level0_row2\" class=\"row_heading level0 row2\" rowspan=\"10\">null</th>\n",
       "                        <th id=\"T_14206_level1_row2\" class=\"row_heading level1 row2\" rowspan=\"5\">128</th>\n",
       "                        <th id=\"T_14206_level2_row2\" class=\"row_heading level2 row2\" rowspan=\"2\">cosine</th>\n",
       "                        <th id=\"T_14206_level3_row2\" class=\"row_heading level3 row2\" >average</th>\n",
       "                        <td id=\"T_14206_row2_col0\" class=\"data row2 col0\" >3</td>\n",
       "                        <td id=\"T_14206_row2_col1\" class=\"data row2 col1\" >8.3%</td>\n",
       "            </tr>\n",
       "            <tr>\n",
       "                                                <th id=\"T_14206_level3_row3\" class=\"row_heading level3 row3\" >complete</th>\n",
       "                        <td id=\"T_14206_row3_col0\" class=\"data row3 col0\" >3</td>\n",
       "                        <td id=\"T_14206_row3_col1\" class=\"data row3 col1\" >8.3%</td>\n",
       "            </tr>\n",
       "            <tr>\n",
       "                                        <th id=\"T_14206_level2_row4\" class=\"row_heading level2 row4\" rowspan=\"3\">euclidean</th>\n",
       "                        <th id=\"T_14206_level3_row4\" class=\"row_heading level3 row4\" >average</th>\n",
       "                        <td id=\"T_14206_row4_col0\" class=\"data row4 col0\" >3</td>\n",
       "                        <td id=\"T_14206_row4_col1\" class=\"data row4 col1\" >8.3%</td>\n",
       "            </tr>\n",
       "            <tr>\n",
       "                                                <th id=\"T_14206_level3_row5\" class=\"row_heading level3 row5\" >complete</th>\n",
       "                        <td id=\"T_14206_row5_col0\" class=\"data row5 col0\" >3</td>\n",
       "                        <td id=\"T_14206_row5_col1\" class=\"data row5 col1\" >8.3%</td>\n",
       "            </tr>\n",
       "            <tr>\n",
       "                                                <th id=\"T_14206_level3_row6\" class=\"row_heading level3 row6\" >ward</th>\n",
       "                        <td id=\"T_14206_row6_col0\" class=\"data row6 col0\" >3</td>\n",
       "                        <td id=\"T_14206_row6_col1\" class=\"data row6 col1\" >8.3%</td>\n",
       "            </tr>\n",
       "            <tr>\n",
       "                                <th id=\"T_14206_level1_row7\" class=\"row_heading level1 row7\" rowspan=\"5\">null</th>\n",
       "                        <th id=\"T_14206_level2_row7\" class=\"row_heading level2 row7\" rowspan=\"2\">cosine</th>\n",
       "                        <th id=\"T_14206_level3_row7\" class=\"row_heading level3 row7\" >average</th>\n",
       "                        <td id=\"T_14206_row7_col0\" class=\"data row7 col0\" >3</td>\n",
       "                        <td id=\"T_14206_row7_col1\" class=\"data row7 col1\" >8.3%</td>\n",
       "            </tr>\n",
       "            <tr>\n",
       "                                                <th id=\"T_14206_level3_row8\" class=\"row_heading level3 row8\" >complete</th>\n",
       "                        <td id=\"T_14206_row8_col0\" class=\"data row8 col0\" >3</td>\n",
       "                        <td id=\"T_14206_row8_col1\" class=\"data row8 col1\" >8.3%</td>\n",
       "            </tr>\n",
       "            <tr>\n",
       "                                        <th id=\"T_14206_level2_row9\" class=\"row_heading level2 row9\" rowspan=\"3\">euclidean</th>\n",
       "                        <th id=\"T_14206_level3_row9\" class=\"row_heading level3 row9\" >average</th>\n",
       "                        <td id=\"T_14206_row9_col0\" class=\"data row9 col0\" >3</td>\n",
       "                        <td id=\"T_14206_row9_col1\" class=\"data row9 col1\" >8.3%</td>\n",
       "            </tr>\n",
       "            <tr>\n",
       "                                                <th id=\"T_14206_level3_row10\" class=\"row_heading level3 row10\" >complete</th>\n",
       "                        <td id=\"T_14206_row10_col0\" class=\"data row10 col0\" >3</td>\n",
       "                        <td id=\"T_14206_row10_col1\" class=\"data row10 col1\" >8.3%</td>\n",
       "            </tr>\n",
       "            <tr>\n",
       "                                                <th id=\"T_14206_level3_row11\" class=\"row_heading level3 row11\" >ward</th>\n",
       "                        <td id=\"T_14206_row11_col0\" class=\"data row11 col0\" >3</td>\n",
       "                        <td id=\"T_14206_row11_col1\" class=\"data row11 col1\" >8.3%</td>\n",
       "            </tr>\n",
       "    </tbody></table>"
      ],
      "text/plain": [
       "<pandas.io.formats.style.Styler at 0x7fba677f7390>"
      ]
     },
     "execution_count": 45,
     "metadata": {},
     "output_type": "execute_result"
    }
   ],
   "source": [
    "c_subreddits_filtered = 'metrics.filtered_embeddings-n_rows'\n",
    "\n",
    "value_counts_and_pcts(\n",
    "    df_mlf_clustering_candidates,\n",
    "    [c for c in l_parallel_params if c_subreddits_filtered not in c],\n",
    "    sort_index=True,\n",
    "    cumsum=False,\n",
    ")"
   ]
  },
  {
   "cell_type": "code",
   "execution_count": 46,
   "id": "c7fb0a39",
   "metadata": {},
   "outputs": [
    {
     "data": {
      "text/html": [
       "<style  type=\"text/css\" >\n",
       "#T_a7553_row0_col1,#T_a7553_row1_col1,#T_a7553_row2_col1{\n",
       "            width:  10em;\n",
       "             height:  80%;\n",
       "        }</style><table id=\"T_a7553_\" ><thead>    <tr>        <th class=\"blank level0\" ></th>        <th class=\"col_heading level0 col0\" >count</th>        <th class=\"col_heading level0 col1\" >percent</th>    </tr>    <tr>        <th class=\"index_name level0\" >metrics.filtered_embeddings-n_rows</th>        <th class=\"blank\" ></th>        <th class=\"blank\" ></th>    </tr></thead><tbody>\n",
       "                <tr>\n",
       "                        <th id=\"T_a7553_level0_row0\" class=\"row_heading level0 row0\" >81815.0</th>\n",
       "                        <td id=\"T_a7553_row0_col0\" class=\"data row0 col0\" >12</td>\n",
       "                        <td id=\"T_a7553_row0_col1\" class=\"data row0 col1\" >33.3%</td>\n",
       "            </tr>\n",
       "            <tr>\n",
       "                        <th id=\"T_a7553_level0_row1\" class=\"row_heading level0 row1\" >81954.0</th>\n",
       "                        <td id=\"T_a7553_row1_col0\" class=\"data row1 col0\" >12</td>\n",
       "                        <td id=\"T_a7553_row1_col1\" class=\"data row1 col1\" >33.3%</td>\n",
       "            </tr>\n",
       "            <tr>\n",
       "                        <th id=\"T_a7553_level0_row2\" class=\"row_heading level0 row2\" >81970.0</th>\n",
       "                        <td id=\"T_a7553_row2_col0\" class=\"data row2 col0\" >12</td>\n",
       "                        <td id=\"T_a7553_row2_col1\" class=\"data row2 col1\" >33.3%</td>\n",
       "            </tr>\n",
       "    </tbody></table>"
      ],
      "text/plain": [
       "<pandas.io.formats.style.Styler at 0x7fba6781e5d0>"
      ]
     },
     "execution_count": 46,
     "metadata": {},
     "output_type": "execute_result"
    }
   ],
   "source": [
    "value_counts_and_pcts(\n",
    "    df_mlf_clustering_candidates,\n",
    "    [c_subreddits_filtered],\n",
    "    sort_index=True,\n",
    "    cumsum=False,\n",
    ")"
   ]
  },
  {
   "cell_type": "code",
   "execution_count": 47,
   "id": "697c112e",
   "metadata": {},
   "outputs": [],
   "source": [
    "# l_all_pipe_params = sorted([c for c in df_mlf_clustering_candidates.columns if 'params._pipe' in c])\n",
    "# df_mlf_clustering_candidates[l_all_pipe_params].head()"
   ]
  },
  {
   "cell_type": "code",
   "execution_count": 48,
   "id": "e1ef118b",
   "metadata": {},
   "outputs": [],
   "source": [
    "# sorted([c for c in df_mlf_clustering_candidates.columns if 'distance' in c])"
   ]
  },
  {
   "cell_type": "markdown",
   "id": "616bbfc2",
   "metadata": {},
   "source": [
    "# Pick primary metric cols for evaluation & visualize in parallel coordinates plot\n",
    "\n",
    "We want to keep the model that:\n",
    "- has the highest metric scores\n",
    "- covers the largest number of subreddits (rows)\n",
    "\n",
    "One hyperparameter while creating clusters is filtering out subreddits with too few posts (min posts). Sometimes these can add noise and impact clustering upstream.\n",
    "\n",
    "params:\n",
    "- linkage type\n",
    "- number of subreddits (rows) after filtering\n",
    " \n",
    "metrics:\n",
    "- Optimal clusters to check:\n",
    "    - @ 3000 to 3200\n",
    "    - @ 3900 to 4000\n",
    "- metrics\n",
    "    - f1 weighted\n",
    "    - adjusted mutual info\n",
    "    - adjusted rand score\n",
    "    - homogeneity"
   ]
  },
  {
   "cell_type": "code",
   "execution_count": 49,
   "id": "9fdfd292",
   "metadata": {},
   "outputs": [],
   "source": [
    "def rename_col_for_display(\n",
    "    col_name: str,\n",
    ") -> str:\n",
    "    \"\"\"\n",
    "    Remove prefixes & other extra characters to columns so \n",
    "    that it's easier to read/display them in plots & tables\n",
    "    \"\"\"\n",
    "    return (\n",
    "        col_name\n",
    "        .replace('metrics.primary_topic-', '')\n",
    "        .replace('00-', '00<br>')  # split cols into 2 rows after num of clusters (k)\n",
    "        .replace('filtered_embeddings-n_rows', 'subreddits')  # subreddits clustered\n",
    "        .replace('_score', '_score<br>') # add an extra break after avg & score to improve look of plots\n",
    "        .replace('_avg', '_avg<br><br>')\n",
    "        .replace('metrics.', '')\n",
    "        .replace('params.', '')\n",
    "        .replace('_pipe-', '')\n",
    "        .replace('__', '_')\n",
    "        .replace('_', ' ')\n",
    "    )"
   ]
  },
  {
   "cell_type": "code",
   "execution_count": 50,
   "id": "fb27aa53",
   "metadata": {},
   "outputs": [
    {
     "data": {
      "text/plain": [
       "['cluster affinity',\n",
       " 'cluster linkage',\n",
       " 'normalize norm',\n",
       " 'reduce n components',\n",
       " 'subreddits']"
      ]
     },
     "execution_count": 50,
     "metadata": {},
     "output_type": "execute_result"
    }
   ],
   "source": [
    "sorted([rename_col_for_display(c) for c in l_parallel_params])"
   ]
  },
  {
   "cell_type": "code",
   "execution_count": 51,
   "id": "4ca6b5fe",
   "metadata": {},
   "outputs": [],
   "source": [
    "# sorted([c for c in df_mlf_clustering_candidates.columns if '3000' in c])"
   ]
  },
  {
   "cell_type": "code",
   "execution_count": 52,
   "id": "9a958fc1",
   "metadata": {},
   "outputs": [],
   "source": [
    "# sorted([c for c in df_mlf_clustering_candidates.columns if '4000' in c])"
   ]
  },
  {
   "cell_type": "code",
   "execution_count": 53,
   "id": "84979516",
   "metadata": {},
   "outputs": [],
   "source": [
    "# sorted([rename_col_for_display(c) for c in df_mlf_clustering_candidates.columns if '4000' in c])"
   ]
  },
  {
   "cell_type": "code",
   "execution_count": 54,
   "id": "64cb5054",
   "metadata": {},
   "outputs": [],
   "source": [
    "# [c for c in df_mlf_clustering_candidates.columns if 'metric' in c][-15:]"
   ]
  },
  {
   "cell_type": "markdown",
   "id": "6de6c440",
   "metadata": {},
   "source": [
    "For now forget linkage type, there's some weird thing where you can't show text or category dtypes in a parallel coordinate plot (unless you convert the values to numbers).\n",
    "- https://github.com/plotly/plotly.py/issues/2494\n",
    "\n",
    "Looks like you could use the lower-level `go.Parcoords` to do it, but at this point that's too much for me (maybe this is what mlflow uses under the hood?).\n",
    "- https://plotly.com/python/parallel-coordinates-plot/#parallel-coordinates-chart-with-goparcoords\n",
    "\n",
    "\n",
    "---\n",
    "NOTE: plotly uses a df's index, so make sure to reset index b/c otherwise we can end up with weird results!"
   ]
  },
  {
   "cell_type": "code",
   "execution_count": 55,
   "id": "9dd00e47",
   "metadata": {},
   "outputs": [],
   "source": [
    "\n",
    "l_parallel_metrics_3k = [\n",
    "    # 'metrics.primary_topic-3000_to_3200-homogeneity_score',\n",
    "    'metrics.primary_topic-3000_to_3200-adjusted_mutual_info_score',\n",
    "    # 'metrics.primary_topic-3000_to_3200-adjusted_rand_score',\n",
    "    'metrics.primary_topic-3000_to_3200-f1_score-weighted_avg',\n",
    "]\n",
    "l_parallel_metrics_4k = [\n",
    "    # 'metrics.primary_topic-3900_to_4000-homogeneity_score',\n",
    "    'metrics.primary_topic-3900_to_4000-adjusted_mutual_info_score',\n",
    "    # 'metrics.primary_topic-3900_to_4000-adjusted_rand_score',\n",
    "    'metrics.primary_topic-3900_to_4000-f1_score-weighted_avg',\n",
    "]\n",
    "\n",
    "l_parallel_metrics_all = l_parallel_metrics_3k + l_parallel_metrics_4k"
   ]
  },
  {
   "cell_type": "code",
   "execution_count": 74,
   "id": "f4bf899d",
   "metadata": {},
   "outputs": [],
   "source": [
    "# l_cols_plot_raw_ = l_parallel_params + l_parallel_metrics_3k\n",
    "# l_cols_plot_clean_ = [rename_col_for_display(c) for c in l_cols_plot_raw_]\n",
    "# df_plot_ = (\n",
    "#     df_mlf_clustering_candidates[l_cols_plot_raw_]\n",
    "#     .fillna({'params._pipe-reduce__n_components': 512, 'params._pipe-normalize__norm': 'None'})  # for SVD nulls & norm nulls\n",
    "#     .rename(columns={c: rename_col_for_display(c) for c in l_cols_plot_raw_})\n",
    "#     .reset_index(drop=True)\n",
    "# )\n",
    "# # remap cluster linkage so it shows up in plot\n",
    "# col_linkage_clean = 'cluster linkage'\n",
    "# col_affinity_clean = 'cluster affinity'\n",
    "# col_comp_clean = 'reduce n components'\n",
    "# col_norm_clean = 'normalize norm'\n",
    "# df_plot_[col_linkage_clean] = df_plot_[col_linkage_clean].replace(d_linkage_to_num)\n",
    "# df_plot_[col_affinity_clean] = df_plot_[col_affinity_clean].replace(d_affinity_to_num)\n",
    "# df_plot_[col_comp_clean] = df_plot_[col_comp_clean].astype(int).replace(d_comp_to_num)\n",
    "# df_plot_[col_norm_clean] = df_plot_[col_norm_clean].replace(d_norm_to_num)\n",
    "# print(f\"Linkage names:\\n  {d_num_to_linkage}\")\n",
    "# print(f\"Affinity names:\\n  {d_num_to_affinity}\")\n",
    "# print(f\"Component names:\\n  {d_num_to_comp}\")\n",
    "# print(f\"Norm names:\\n  {d_num_to_norm}\")\n",
    "\n",
    "# fig = px.parallel_coordinates(\n",
    "#     df_plot_,\n",
    "#     color=l_cols_plot_clean_[-1],\n",
    "#     # dimensions=l_cols_plot_clean_,\n",
    "#     # labels={},\n",
    "#     # color_continuous_scale=px.colors.diverging.Tealrose,\n",
    "#     # color_continuous_midpoint=2\n",
    "# )\n",
    "# fig.show()"
   ]
  },
  {
   "cell_type": "markdown",
   "id": "22b1109d",
   "metadata": {},
   "source": [
    "Plot w/o normalized norm (it only changes `ward` linkage)"
   ]
  },
  {
   "cell_type": "code",
   "execution_count": 57,
   "id": "18852fc0",
   "metadata": {},
   "outputs": [
    {
     "name": "stdout",
     "output_type": "stream",
     "text": [
      "Linkage names:\n",
      "  {4: 'ward', 3: 'complete', 2: 'average', 1: 'single'}\n",
      "Affinity names:\n",
      "  {2: 'cosine', 1: 'euclidean'}\n",
      "Component names:\n",
      "  {512: 'None', 2: 2, 50: 50}\n"
     ]
    },
    {
     "data": {
      "application/vnd.plotly.v1+json": {
       "config": {
        "plotlyServerURL": "https://plot.ly"
       },
       "data": [
        {
         "dimensions": [
          {
           "label": "subreddits",
           "values": [
            81815,
            81815,
            81954,
            81954,
            81970,
            81970,
            81815,
            81815,
            81954,
            81954,
            81970,
            81970,
            81815,
            81954,
            81815,
            81954,
            81970,
            81970,
            81815,
            81815,
            81954,
            81970,
            81970,
            81954,
            81815,
            81815,
            81954,
            81815,
            81815,
            81954,
            81954,
            81954,
            81970,
            81970,
            81970,
            81970
           ]
          },
          {
           "label": "reduce n components",
           "values": [
            128,
            512,
            128,
            512,
            128,
            512,
            128,
            512,
            128,
            512,
            128,
            512,
            128,
            512,
            512,
            128,
            128,
            512,
            512,
            128,
            128,
            512,
            128,
            512,
            128,
            512,
            128,
            512,
            128,
            128,
            512,
            512,
            128,
            128,
            512,
            512
           ]
          },
          {
           "label": "cluster affinity",
           "values": [
            1,
            1,
            1,
            1,
            1,
            1,
            2,
            2,
            2,
            2,
            2,
            2,
            1,
            1,
            1,
            1,
            1,
            1,
            2,
            2,
            2,
            2,
            2,
            2,
            1,
            1,
            1,
            1,
            1,
            1,
            1,
            1,
            1,
            1,
            1,
            1
           ]
          },
          {
           "label": "cluster linkage",
           "values": [
            2,
            2,
            2,
            2,
            2,
            2,
            2,
            2,
            2,
            2,
            2,
            2,
            3,
            3,
            3,
            3,
            3,
            3,
            3,
            3,
            3,
            3,
            3,
            3,
            4,
            4,
            4,
            4,
            4,
            4,
            4,
            4,
            4,
            4,
            4,
            4
           ]
          },
          {
           "label": "3000 to 3200<br>adjusted mutual info score<br>",
           "values": [
            0.5948642478732247,
            0.4975889122469814,
            0.596648194311068,
            0.5013225770519159,
            0.5972725158929132,
            0.48485479600153286,
            0.6161225762991585,
            0.6020155933154274,
            0.6108595870814878,
            0.5986042163016084,
            0.6167597011408148,
            0.599193762178714,
            0.6143713400885922,
            0.5986578803923088,
            0.5993741056416064,
            0.6124853193635572,
            0.6122787960857635,
            0.5985077639179036,
            0.62171441746608,
            0.6288049466242579,
            0.626297409510758,
            0.6207883034806398,
            0.626694370757468,
            0.6191231650788849,
            0.6360296390411417,
            0.6324632531211454,
            0.6349459834182147,
            0.6290969322951598,
            0.6332953907172227,
            0.6353725559250235,
            0.6315253659889273,
            0.6290375478975506,
            0.6350483063748217,
            0.6342206810441807,
            0.6318157887715392,
            0.6275761298101781
           ]
          },
          {
           "label": "3000 to 3200<br>f1 score<br>-weighted avg<br><br>",
           "values": [
            0.6592653270096764,
            0.5054833747880437,
            0.6574264667002072,
            0.5056788425560175,
            0.657161650955354,
            0.4851402052026404,
            0.7070541762329178,
            0.6870356022809563,
            0.6981619125248351,
            0.6808606479016726,
            0.705093294392027,
            0.6813981631139266,
            0.7240356057324793,
            0.7100151207066098,
            0.7103875362678801,
            0.7246162776574582,
            0.7243058602954516,
            0.709425185811324,
            0.7334660856270704,
            0.7390515272382391,
            0.735941539596964,
            0.7314741251825143,
            0.7381375994867163,
            0.729980453915611,
            0.7472527667666585,
            0.7465225961516153,
            0.7461426811366569,
            0.7431602778414048,
            0.7458143583317457,
            0.7478906386885954,
            0.7457378978470631,
            0.7429993239544437,
            0.7473393455305203,
            0.7455472801509231,
            0.7455012307744066,
            0.7412421009099283
           ]
          }
         ],
         "domain": {
          "x": [
           0,
           1
          ],
          "y": [
           0,
           1
          ]
         },
         "line": {
          "color": [
           0.6592653270096764,
           0.5054833747880437,
           0.6574264667002072,
           0.5056788425560175,
           0.657161650955354,
           0.4851402052026404,
           0.7070541762329178,
           0.6870356022809563,
           0.6981619125248351,
           0.6808606479016726,
           0.705093294392027,
           0.6813981631139266,
           0.7240356057324793,
           0.7100151207066098,
           0.7103875362678801,
           0.7246162776574582,
           0.7243058602954516,
           0.709425185811324,
           0.7334660856270704,
           0.7390515272382391,
           0.735941539596964,
           0.7314741251825143,
           0.7381375994867163,
           0.729980453915611,
           0.7472527667666585,
           0.7465225961516153,
           0.7461426811366569,
           0.7431602778414048,
           0.7458143583317457,
           0.7478906386885954,
           0.7457378978470631,
           0.7429993239544437,
           0.7473393455305203,
           0.7455472801509231,
           0.7455012307744066,
           0.7412421009099283
          ],
          "coloraxis": "coloraxis"
         },
         "name": "",
         "type": "parcoords"
        }
       ],
       "layout": {
        "autosize": true,
        "coloraxis": {
         "colorbar": {
          "title": {
           "text": "3000 to 3200<br>f1 score<br>-weighted avg<br><br>"
          }
         },
         "colorscale": [
          [
           0,
           "#0d0887"
          ],
          [
           0.1111111111111111,
           "#46039f"
          ],
          [
           0.2222222222222222,
           "#7201a8"
          ],
          [
           0.3333333333333333,
           "#9c179e"
          ],
          [
           0.4444444444444444,
           "#bd3786"
          ],
          [
           0.5555555555555556,
           "#d8576b"
          ],
          [
           0.6666666666666666,
           "#ed7953"
          ],
          [
           0.7777777777777778,
           "#fb9f3a"
          ],
          [
           0.8888888888888888,
           "#fdca26"
          ],
          [
           1,
           "#f0f921"
          ]
         ]
        },
        "legend": {
         "tracegroupgap": 0
        },
        "margin": {
         "t": 60
        },
        "template": {
         "data": {
          "bar": [
           {
            "error_x": {
             "color": "#2a3f5f"
            },
            "error_y": {
             "color": "#2a3f5f"
            },
            "marker": {
             "line": {
              "color": "#E5ECF6",
              "width": 0.5
             }
            },
            "type": "bar"
           }
          ],
          "barpolar": [
           {
            "marker": {
             "line": {
              "color": "#E5ECF6",
              "width": 0.5
             }
            },
            "type": "barpolar"
           }
          ],
          "carpet": [
           {
            "aaxis": {
             "endlinecolor": "#2a3f5f",
             "gridcolor": "white",
             "linecolor": "white",
             "minorgridcolor": "white",
             "startlinecolor": "#2a3f5f"
            },
            "baxis": {
             "endlinecolor": "#2a3f5f",
             "gridcolor": "white",
             "linecolor": "white",
             "minorgridcolor": "white",
             "startlinecolor": "#2a3f5f"
            },
            "type": "carpet"
           }
          ],
          "choropleth": [
           {
            "colorbar": {
             "outlinewidth": 0,
             "ticks": ""
            },
            "type": "choropleth"
           }
          ],
          "contour": [
           {
            "colorbar": {
             "outlinewidth": 0,
             "ticks": ""
            },
            "colorscale": [
             [
              0,
              "#0d0887"
             ],
             [
              0.1111111111111111,
              "#46039f"
             ],
             [
              0.2222222222222222,
              "#7201a8"
             ],
             [
              0.3333333333333333,
              "#9c179e"
             ],
             [
              0.4444444444444444,
              "#bd3786"
             ],
             [
              0.5555555555555556,
              "#d8576b"
             ],
             [
              0.6666666666666666,
              "#ed7953"
             ],
             [
              0.7777777777777778,
              "#fb9f3a"
             ],
             [
              0.8888888888888888,
              "#fdca26"
             ],
             [
              1,
              "#f0f921"
             ]
            ],
            "type": "contour"
           }
          ],
          "contourcarpet": [
           {
            "colorbar": {
             "outlinewidth": 0,
             "ticks": ""
            },
            "type": "contourcarpet"
           }
          ],
          "heatmap": [
           {
            "colorbar": {
             "outlinewidth": 0,
             "ticks": ""
            },
            "colorscale": [
             [
              0,
              "#0d0887"
             ],
             [
              0.1111111111111111,
              "#46039f"
             ],
             [
              0.2222222222222222,
              "#7201a8"
             ],
             [
              0.3333333333333333,
              "#9c179e"
             ],
             [
              0.4444444444444444,
              "#bd3786"
             ],
             [
              0.5555555555555556,
              "#d8576b"
             ],
             [
              0.6666666666666666,
              "#ed7953"
             ],
             [
              0.7777777777777778,
              "#fb9f3a"
             ],
             [
              0.8888888888888888,
              "#fdca26"
             ],
             [
              1,
              "#f0f921"
             ]
            ],
            "type": "heatmap"
           }
          ],
          "heatmapgl": [
           {
            "colorbar": {
             "outlinewidth": 0,
             "ticks": ""
            },
            "colorscale": [
             [
              0,
              "#0d0887"
             ],
             [
              0.1111111111111111,
              "#46039f"
             ],
             [
              0.2222222222222222,
              "#7201a8"
             ],
             [
              0.3333333333333333,
              "#9c179e"
             ],
             [
              0.4444444444444444,
              "#bd3786"
             ],
             [
              0.5555555555555556,
              "#d8576b"
             ],
             [
              0.6666666666666666,
              "#ed7953"
             ],
             [
              0.7777777777777778,
              "#fb9f3a"
             ],
             [
              0.8888888888888888,
              "#fdca26"
             ],
             [
              1,
              "#f0f921"
             ]
            ],
            "type": "heatmapgl"
           }
          ],
          "histogram": [
           {
            "marker": {
             "colorbar": {
              "outlinewidth": 0,
              "ticks": ""
             }
            },
            "type": "histogram"
           }
          ],
          "histogram2d": [
           {
            "colorbar": {
             "outlinewidth": 0,
             "ticks": ""
            },
            "colorscale": [
             [
              0,
              "#0d0887"
             ],
             [
              0.1111111111111111,
              "#46039f"
             ],
             [
              0.2222222222222222,
              "#7201a8"
             ],
             [
              0.3333333333333333,
              "#9c179e"
             ],
             [
              0.4444444444444444,
              "#bd3786"
             ],
             [
              0.5555555555555556,
              "#d8576b"
             ],
             [
              0.6666666666666666,
              "#ed7953"
             ],
             [
              0.7777777777777778,
              "#fb9f3a"
             ],
             [
              0.8888888888888888,
              "#fdca26"
             ],
             [
              1,
              "#f0f921"
             ]
            ],
            "type": "histogram2d"
           }
          ],
          "histogram2dcontour": [
           {
            "colorbar": {
             "outlinewidth": 0,
             "ticks": ""
            },
            "colorscale": [
             [
              0,
              "#0d0887"
             ],
             [
              0.1111111111111111,
              "#46039f"
             ],
             [
              0.2222222222222222,
              "#7201a8"
             ],
             [
              0.3333333333333333,
              "#9c179e"
             ],
             [
              0.4444444444444444,
              "#bd3786"
             ],
             [
              0.5555555555555556,
              "#d8576b"
             ],
             [
              0.6666666666666666,
              "#ed7953"
             ],
             [
              0.7777777777777778,
              "#fb9f3a"
             ],
             [
              0.8888888888888888,
              "#fdca26"
             ],
             [
              1,
              "#f0f921"
             ]
            ],
            "type": "histogram2dcontour"
           }
          ],
          "mesh3d": [
           {
            "colorbar": {
             "outlinewidth": 0,
             "ticks": ""
            },
            "type": "mesh3d"
           }
          ],
          "parcoords": [
           {
            "line": {
             "colorbar": {
              "outlinewidth": 0,
              "ticks": ""
             }
            },
            "type": "parcoords"
           }
          ],
          "pie": [
           {
            "automargin": true,
            "type": "pie"
           }
          ],
          "scatter": [
           {
            "marker": {
             "colorbar": {
              "outlinewidth": 0,
              "ticks": ""
             }
            },
            "type": "scatter"
           }
          ],
          "scatter3d": [
           {
            "line": {
             "colorbar": {
              "outlinewidth": 0,
              "ticks": ""
             }
            },
            "marker": {
             "colorbar": {
              "outlinewidth": 0,
              "ticks": ""
             }
            },
            "type": "scatter3d"
           }
          ],
          "scattercarpet": [
           {
            "marker": {
             "colorbar": {
              "outlinewidth": 0,
              "ticks": ""
             }
            },
            "type": "scattercarpet"
           }
          ],
          "scattergeo": [
           {
            "marker": {
             "colorbar": {
              "outlinewidth": 0,
              "ticks": ""
             }
            },
            "type": "scattergeo"
           }
          ],
          "scattergl": [
           {
            "marker": {
             "colorbar": {
              "outlinewidth": 0,
              "ticks": ""
             }
            },
            "type": "scattergl"
           }
          ],
          "scattermapbox": [
           {
            "marker": {
             "colorbar": {
              "outlinewidth": 0,
              "ticks": ""
             }
            },
            "type": "scattermapbox"
           }
          ],
          "scatterpolar": [
           {
            "marker": {
             "colorbar": {
              "outlinewidth": 0,
              "ticks": ""
             }
            },
            "type": "scatterpolar"
           }
          ],
          "scatterpolargl": [
           {
            "marker": {
             "colorbar": {
              "outlinewidth": 0,
              "ticks": ""
             }
            },
            "type": "scatterpolargl"
           }
          ],
          "scatterternary": [
           {
            "marker": {
             "colorbar": {
              "outlinewidth": 0,
              "ticks": ""
             }
            },
            "type": "scatterternary"
           }
          ],
          "surface": [
           {
            "colorbar": {
             "outlinewidth": 0,
             "ticks": ""
            },
            "colorscale": [
             [
              0,
              "#0d0887"
             ],
             [
              0.1111111111111111,
              "#46039f"
             ],
             [
              0.2222222222222222,
              "#7201a8"
             ],
             [
              0.3333333333333333,
              "#9c179e"
             ],
             [
              0.4444444444444444,
              "#bd3786"
             ],
             [
              0.5555555555555556,
              "#d8576b"
             ],
             [
              0.6666666666666666,
              "#ed7953"
             ],
             [
              0.7777777777777778,
              "#fb9f3a"
             ],
             [
              0.8888888888888888,
              "#fdca26"
             ],
             [
              1,
              "#f0f921"
             ]
            ],
            "type": "surface"
           }
          ],
          "table": [
           {
            "cells": {
             "fill": {
              "color": "#EBF0F8"
             },
             "line": {
              "color": "white"
             }
            },
            "header": {
             "fill": {
              "color": "#C8D4E3"
             },
             "line": {
              "color": "white"
             }
            },
            "type": "table"
           }
          ]
         },
         "layout": {
          "annotationdefaults": {
           "arrowcolor": "#2a3f5f",
           "arrowhead": 0,
           "arrowwidth": 1
          },
          "autotypenumbers": "strict",
          "coloraxis": {
           "colorbar": {
            "outlinewidth": 0,
            "ticks": ""
           }
          },
          "colorscale": {
           "diverging": [
            [
             0,
             "#8e0152"
            ],
            [
             0.1,
             "#c51b7d"
            ],
            [
             0.2,
             "#de77ae"
            ],
            [
             0.3,
             "#f1b6da"
            ],
            [
             0.4,
             "#fde0ef"
            ],
            [
             0.5,
             "#f7f7f7"
            ],
            [
             0.6,
             "#e6f5d0"
            ],
            [
             0.7,
             "#b8e186"
            ],
            [
             0.8,
             "#7fbc41"
            ],
            [
             0.9,
             "#4d9221"
            ],
            [
             1,
             "#276419"
            ]
           ],
           "sequential": [
            [
             0,
             "#0d0887"
            ],
            [
             0.1111111111111111,
             "#46039f"
            ],
            [
             0.2222222222222222,
             "#7201a8"
            ],
            [
             0.3333333333333333,
             "#9c179e"
            ],
            [
             0.4444444444444444,
             "#bd3786"
            ],
            [
             0.5555555555555556,
             "#d8576b"
            ],
            [
             0.6666666666666666,
             "#ed7953"
            ],
            [
             0.7777777777777778,
             "#fb9f3a"
            ],
            [
             0.8888888888888888,
             "#fdca26"
            ],
            [
             1,
             "#f0f921"
            ]
           ],
           "sequentialminus": [
            [
             0,
             "#0d0887"
            ],
            [
             0.1111111111111111,
             "#46039f"
            ],
            [
             0.2222222222222222,
             "#7201a8"
            ],
            [
             0.3333333333333333,
             "#9c179e"
            ],
            [
             0.4444444444444444,
             "#bd3786"
            ],
            [
             0.5555555555555556,
             "#d8576b"
            ],
            [
             0.6666666666666666,
             "#ed7953"
            ],
            [
             0.7777777777777778,
             "#fb9f3a"
            ],
            [
             0.8888888888888888,
             "#fdca26"
            ],
            [
             1,
             "#f0f921"
            ]
           ]
          },
          "colorway": [
           "#636efa",
           "#EF553B",
           "#00cc96",
           "#ab63fa",
           "#FFA15A",
           "#19d3f3",
           "#FF6692",
           "#B6E880",
           "#FF97FF",
           "#FECB52"
          ],
          "font": {
           "color": "#2a3f5f"
          },
          "geo": {
           "bgcolor": "white",
           "lakecolor": "white",
           "landcolor": "#E5ECF6",
           "showlakes": true,
           "showland": true,
           "subunitcolor": "white"
          },
          "hoverlabel": {
           "align": "left"
          },
          "hovermode": "closest",
          "mapbox": {
           "style": "light"
          },
          "paper_bgcolor": "white",
          "plot_bgcolor": "#E5ECF6",
          "polar": {
           "angularaxis": {
            "gridcolor": "white",
            "linecolor": "white",
            "ticks": ""
           },
           "bgcolor": "#E5ECF6",
           "radialaxis": {
            "gridcolor": "white",
            "linecolor": "white",
            "ticks": ""
           }
          },
          "scene": {
           "xaxis": {
            "backgroundcolor": "#E5ECF6",
            "gridcolor": "white",
            "gridwidth": 2,
            "linecolor": "white",
            "showbackground": true,
            "ticks": "",
            "zerolinecolor": "white"
           },
           "yaxis": {
            "backgroundcolor": "#E5ECF6",
            "gridcolor": "white",
            "gridwidth": 2,
            "linecolor": "white",
            "showbackground": true,
            "ticks": "",
            "zerolinecolor": "white"
           },
           "zaxis": {
            "backgroundcolor": "#E5ECF6",
            "gridcolor": "white",
            "gridwidth": 2,
            "linecolor": "white",
            "showbackground": true,
            "ticks": "",
            "zerolinecolor": "white"
           }
          },
          "shapedefaults": {
           "line": {
            "color": "#2a3f5f"
           }
          },
          "ternary": {
           "aaxis": {
            "gridcolor": "white",
            "linecolor": "white",
            "ticks": ""
           },
           "baxis": {
            "gridcolor": "white",
            "linecolor": "white",
            "ticks": ""
           },
           "bgcolor": "#E5ECF6",
           "caxis": {
            "gridcolor": "white",
            "linecolor": "white",
            "ticks": ""
           }
          },
          "title": {
           "x": 0.05
          },
          "xaxis": {
           "automargin": true,
           "gridcolor": "white",
           "linecolor": "white",
           "ticks": "",
           "title": {
            "standoff": 15
           },
           "zerolinecolor": "white",
           "zerolinewidth": 2
          },
          "yaxis": {
           "automargin": true,
           "gridcolor": "white",
           "linecolor": "white",
           "ticks": "",
           "title": {
            "standoff": 15
           },
           "zerolinecolor": "white",
           "zerolinewidth": 2
          }
         }
        }
       }
      },
      "image/png": "[encoded data removed]",
      "text/html": [
       "<div>                            <div id=\"ab4fc2d6-3f91-4120-8764-9398e61824e4\" class=\"plotly-graph-div\" style=\"height:525px; width:100%;\"></div>            <script type=\"text/javascript\">                require([\"plotly\"], function(Plotly) {                    window.PLOTLYENV=window.PLOTLYENV || {};                                    if (document.getElementById(\"ab4fc2d6-3f91-4120-8764-9398e61824e4\")) {                    Plotly.newPlot(                        \"ab4fc2d6-3f91-4120-8764-9398e61824e4\",                        [{\"dimensions\": [{\"label\": \"subreddits\", \"values\": [81815.0, 81815.0, 81954.0, 81954.0, 81970.0, 81970.0, 81815.0, 81815.0, 81954.0, 81954.0, 81970.0, 81970.0, 81815.0, 81954.0, 81815.0, 81954.0, 81970.0, 81970.0, 81815.0, 81815.0, 81954.0, 81970.0, 81970.0, 81954.0, 81815.0, 81815.0, 81954.0, 81815.0, 81815.0, 81954.0, 81954.0, 81954.0, 81970.0, 81970.0, 81970.0, 81970.0]}, {\"label\": \"reduce n components\", \"values\": [128, 512, 128, 512, 128, 512, 128, 512, 128, 512, 128, 512, 128, 512, 512, 128, 128, 512, 512, 128, 128, 512, 128, 512, 128, 512, 128, 512, 128, 128, 512, 512, 128, 128, 512, 512]}, {\"label\": \"cluster affinity\", \"values\": [1, 1, 1, 1, 1, 1, 2, 2, 2, 2, 2, 2, 1, 1, 1, 1, 1, 1, 2, 2, 2, 2, 2, 2, 1, 1, 1, 1, 1, 1, 1, 1, 1, 1, 1, 1]}, {\"label\": \"cluster linkage\", \"values\": [2, 2, 2, 2, 2, 2, 2, 2, 2, 2, 2, 2, 3, 3, 3, 3, 3, 3, 3, 3, 3, 3, 3, 3, 4, 4, 4, 4, 4, 4, 4, 4, 4, 4, 4, 4]}, {\"label\": \"3000 to 3200<br>adjusted mutual info score<br>\", \"values\": [0.5948642478732247, 0.4975889122469814, 0.596648194311068, 0.5013225770519159, 0.5972725158929132, 0.48485479600153286, 0.6161225762991585, 0.6020155933154274, 0.6108595870814878, 0.5986042163016084, 0.6167597011408148, 0.599193762178714, 0.6143713400885922, 0.5986578803923088, 0.5993741056416064, 0.6124853193635572, 0.6122787960857635, 0.5985077639179036, 0.62171441746608, 0.6288049466242579, 0.626297409510758, 0.6207883034806398, 0.626694370757468, 0.6191231650788849, 0.6360296390411417, 0.6324632531211454, 0.6349459834182147, 0.6290969322951598, 0.6332953907172227, 0.6353725559250235, 0.6315253659889273, 0.6290375478975506, 0.6350483063748217, 0.6342206810441807, 0.6318157887715392, 0.6275761298101781]}, {\"label\": \"3000 to 3200<br>f1 score<br>-weighted avg<br><br>\", \"values\": [0.6592653270096764, 0.5054833747880437, 0.6574264667002072, 0.5056788425560175, 0.657161650955354, 0.4851402052026404, 0.7070541762329178, 0.6870356022809563, 0.6981619125248351, 0.6808606479016726, 0.705093294392027, 0.6813981631139266, 0.7240356057324793, 0.7100151207066098, 0.7103875362678801, 0.7246162776574582, 0.7243058602954516, 0.709425185811324, 0.7334660856270704, 0.7390515272382391, 0.735941539596964, 0.7314741251825143, 0.7381375994867163, 0.729980453915611, 0.7472527667666585, 0.7465225961516153, 0.7461426811366569, 0.7431602778414048, 0.7458143583317457, 0.7478906386885954, 0.7457378978470631, 0.7429993239544437, 0.7473393455305203, 0.7455472801509231, 0.7455012307744066, 0.7412421009099283]}], \"domain\": {\"x\": [0.0, 1.0], \"y\": [0.0, 1.0]}, \"line\": {\"color\": [0.6592653270096764, 0.5054833747880437, 0.6574264667002072, 0.5056788425560175, 0.657161650955354, 0.4851402052026404, 0.7070541762329178, 0.6870356022809563, 0.6981619125248351, 0.6808606479016726, 0.705093294392027, 0.6813981631139266, 0.7240356057324793, 0.7100151207066098, 0.7103875362678801, 0.7246162776574582, 0.7243058602954516, 0.709425185811324, 0.7334660856270704, 0.7390515272382391, 0.735941539596964, 0.7314741251825143, 0.7381375994867163, 0.729980453915611, 0.7472527667666585, 0.7465225961516153, 0.7461426811366569, 0.7431602778414048, 0.7458143583317457, 0.7478906386885954, 0.7457378978470631, 0.7429993239544437, 0.7473393455305203, 0.7455472801509231, 0.7455012307744066, 0.7412421009099283], \"coloraxis\": \"coloraxis\"}, \"name\": \"\", \"type\": \"parcoords\"}],                        {\"coloraxis\": {\"colorbar\": {\"title\": {\"text\": \"3000 to 3200<br>f1 score<br>-weighted avg<br><br>\"}}, \"colorscale\": [[0.0, \"#0d0887\"], [0.1111111111111111, \"#46039f\"], [0.2222222222222222, \"#7201a8\"], [0.3333333333333333, \"#9c179e\"], [0.4444444444444444, \"#bd3786\"], [0.5555555555555556, \"#d8576b\"], [0.6666666666666666, \"#ed7953\"], [0.7777777777777778, \"#fb9f3a\"], [0.8888888888888888, \"#fdca26\"], [1.0, \"#f0f921\"]]}, \"legend\": {\"tracegroupgap\": 0}, \"margin\": {\"t\": 60}, \"template\": {\"data\": {\"bar\": [{\"error_x\": {\"color\": \"#2a3f5f\"}, \"error_y\": {\"color\": \"#2a3f5f\"}, \"marker\": {\"line\": {\"color\": \"#E5ECF6\", \"width\": 0.5}}, \"type\": \"bar\"}], \"barpolar\": [{\"marker\": {\"line\": {\"color\": \"#E5ECF6\", \"width\": 0.5}}, \"type\": \"barpolar\"}], \"carpet\": [{\"aaxis\": {\"endlinecolor\": \"#2a3f5f\", \"gridcolor\": \"white\", \"linecolor\": \"white\", \"minorgridcolor\": \"white\", \"startlinecolor\": \"#2a3f5f\"}, \"baxis\": {\"endlinecolor\": \"#2a3f5f\", \"gridcolor\": \"white\", \"linecolor\": \"white\", \"minorgridcolor\": \"white\", \"startlinecolor\": \"#2a3f5f\"}, \"type\": \"carpet\"}], \"choropleth\": [{\"colorbar\": {\"outlinewidth\": 0, \"ticks\": \"\"}, \"type\": \"choropleth\"}], \"contour\": [{\"colorbar\": {\"outlinewidth\": 0, \"ticks\": \"\"}, \"colorscale\": [[0.0, \"#0d0887\"], [0.1111111111111111, \"#46039f\"], [0.2222222222222222, \"#7201a8\"], [0.3333333333333333, \"#9c179e\"], [0.4444444444444444, \"#bd3786\"], [0.5555555555555556, \"#d8576b\"], [0.6666666666666666, \"#ed7953\"], [0.7777777777777778, \"#fb9f3a\"], [0.8888888888888888, \"#fdca26\"], [1.0, \"#f0f921\"]], \"type\": \"contour\"}], \"contourcarpet\": [{\"colorbar\": {\"outlinewidth\": 0, \"ticks\": \"\"}, \"type\": \"contourcarpet\"}], \"heatmap\": [{\"colorbar\": {\"outlinewidth\": 0, \"ticks\": \"\"}, \"colorscale\": [[0.0, \"#0d0887\"], [0.1111111111111111, \"#46039f\"], [0.2222222222222222, \"#7201a8\"], [0.3333333333333333, \"#9c179e\"], [0.4444444444444444, \"#bd3786\"], [0.5555555555555556, \"#d8576b\"], [0.6666666666666666, \"#ed7953\"], [0.7777777777777778, \"#fb9f3a\"], [0.8888888888888888, \"#fdca26\"], [1.0, \"#f0f921\"]], \"type\": \"heatmap\"}], \"heatmapgl\": [{\"colorbar\": {\"outlinewidth\": 0, \"ticks\": \"\"}, \"colorscale\": [[0.0, \"#0d0887\"], [0.1111111111111111, \"#46039f\"], [0.2222222222222222, \"#7201a8\"], [0.3333333333333333, \"#9c179e\"], [0.4444444444444444, \"#bd3786\"], [0.5555555555555556, \"#d8576b\"], [0.6666666666666666, \"#ed7953\"], [0.7777777777777778, \"#fb9f3a\"], [0.8888888888888888, \"#fdca26\"], [1.0, \"#f0f921\"]], \"type\": \"heatmapgl\"}], \"histogram\": [{\"marker\": {\"colorbar\": {\"outlinewidth\": 0, \"ticks\": \"\"}}, \"type\": \"histogram\"}], \"histogram2d\": [{\"colorbar\": {\"outlinewidth\": 0, \"ticks\": \"\"}, \"colorscale\": [[0.0, \"#0d0887\"], [0.1111111111111111, \"#46039f\"], [0.2222222222222222, \"#7201a8\"], [0.3333333333333333, \"#9c179e\"], [0.4444444444444444, \"#bd3786\"], [0.5555555555555556, \"#d8576b\"], [0.6666666666666666, \"#ed7953\"], [0.7777777777777778, \"#fb9f3a\"], [0.8888888888888888, \"#fdca26\"], [1.0, \"#f0f921\"]], \"type\": \"histogram2d\"}], \"histogram2dcontour\": [{\"colorbar\": {\"outlinewidth\": 0, \"ticks\": \"\"}, \"colorscale\": [[0.0, \"#0d0887\"], [0.1111111111111111, \"#46039f\"], [0.2222222222222222, \"#7201a8\"], [0.3333333333333333, \"#9c179e\"], [0.4444444444444444, \"#bd3786\"], [0.5555555555555556, \"#d8576b\"], [0.6666666666666666, \"#ed7953\"], [0.7777777777777778, \"#fb9f3a\"], [0.8888888888888888, \"#fdca26\"], [1.0, \"#f0f921\"]], \"type\": \"histogram2dcontour\"}], \"mesh3d\": [{\"colorbar\": {\"outlinewidth\": 0, \"ticks\": \"\"}, \"type\": \"mesh3d\"}], \"parcoords\": [{\"line\": {\"colorbar\": {\"outlinewidth\": 0, \"ticks\": \"\"}}, \"type\": \"parcoords\"}], \"pie\": [{\"automargin\": true, \"type\": \"pie\"}], \"scatter\": [{\"marker\": {\"colorbar\": {\"outlinewidth\": 0, \"ticks\": \"\"}}, \"type\": \"scatter\"}], \"scatter3d\": [{\"line\": {\"colorbar\": {\"outlinewidth\": 0, \"ticks\": \"\"}}, \"marker\": {\"colorbar\": {\"outlinewidth\": 0, \"ticks\": \"\"}}, \"type\": \"scatter3d\"}], \"scattercarpet\": [{\"marker\": {\"colorbar\": {\"outlinewidth\": 0, \"ticks\": \"\"}}, \"type\": \"scattercarpet\"}], \"scattergeo\": [{\"marker\": {\"colorbar\": {\"outlinewidth\": 0, \"ticks\": \"\"}}, \"type\": \"scattergeo\"}], \"scattergl\": [{\"marker\": {\"colorbar\": {\"outlinewidth\": 0, \"ticks\": \"\"}}, \"type\": \"scattergl\"}], \"scattermapbox\": [{\"marker\": {\"colorbar\": {\"outlinewidth\": 0, \"ticks\": \"\"}}, \"type\": \"scattermapbox\"}], \"scatterpolar\": [{\"marker\": {\"colorbar\": {\"outlinewidth\": 0, \"ticks\": \"\"}}, \"type\": \"scatterpolar\"}], \"scatterpolargl\": [{\"marker\": {\"colorbar\": {\"outlinewidth\": 0, \"ticks\": \"\"}}, \"type\": \"scatterpolargl\"}], \"scatterternary\": [{\"marker\": {\"colorbar\": {\"outlinewidth\": 0, \"ticks\": \"\"}}, \"type\": \"scatterternary\"}], \"surface\": [{\"colorbar\": {\"outlinewidth\": 0, \"ticks\": \"\"}, \"colorscale\": [[0.0, \"#0d0887\"], [0.1111111111111111, \"#46039f\"], [0.2222222222222222, \"#7201a8\"], [0.3333333333333333, \"#9c179e\"], [0.4444444444444444, \"#bd3786\"], [0.5555555555555556, \"#d8576b\"], [0.6666666666666666, \"#ed7953\"], [0.7777777777777778, \"#fb9f3a\"], [0.8888888888888888, \"#fdca26\"], [1.0, \"#f0f921\"]], \"type\": \"surface\"}], \"table\": [{\"cells\": {\"fill\": {\"color\": \"#EBF0F8\"}, \"line\": {\"color\": \"white\"}}, \"header\": {\"fill\": {\"color\": \"#C8D4E3\"}, \"line\": {\"color\": \"white\"}}, \"type\": \"table\"}]}, \"layout\": {\"annotationdefaults\": {\"arrowcolor\": \"#2a3f5f\", \"arrowhead\": 0, \"arrowwidth\": 1}, \"autotypenumbers\": \"strict\", \"coloraxis\": {\"colorbar\": {\"outlinewidth\": 0, \"ticks\": \"\"}}, \"colorscale\": {\"diverging\": [[0, \"#8e0152\"], [0.1, \"#c51b7d\"], [0.2, \"#de77ae\"], [0.3, \"#f1b6da\"], [0.4, \"#fde0ef\"], [0.5, \"#f7f7f7\"], [0.6, \"#e6f5d0\"], [0.7, \"#b8e186\"], [0.8, \"#7fbc41\"], [0.9, \"#4d9221\"], [1, \"#276419\"]], \"sequential\": [[0.0, \"#0d0887\"], [0.1111111111111111, \"#46039f\"], [0.2222222222222222, \"#7201a8\"], [0.3333333333333333, \"#9c179e\"], [0.4444444444444444, \"#bd3786\"], [0.5555555555555556, \"#d8576b\"], [0.6666666666666666, \"#ed7953\"], [0.7777777777777778, \"#fb9f3a\"], [0.8888888888888888, \"#fdca26\"], [1.0, \"#f0f921\"]], \"sequentialminus\": [[0.0, \"#0d0887\"], [0.1111111111111111, \"#46039f\"], [0.2222222222222222, \"#7201a8\"], [0.3333333333333333, \"#9c179e\"], [0.4444444444444444, \"#bd3786\"], [0.5555555555555556, \"#d8576b\"], [0.6666666666666666, \"#ed7953\"], [0.7777777777777778, \"#fb9f3a\"], [0.8888888888888888, \"#fdca26\"], [1.0, \"#f0f921\"]]}, \"colorway\": [\"#636efa\", \"#EF553B\", \"#00cc96\", \"#ab63fa\", \"#FFA15A\", \"#19d3f3\", \"#FF6692\", \"#B6E880\", \"#FF97FF\", \"#FECB52\"], \"font\": {\"color\": \"#2a3f5f\"}, \"geo\": {\"bgcolor\": \"white\", \"lakecolor\": \"white\", \"landcolor\": \"#E5ECF6\", \"showlakes\": true, \"showland\": true, \"subunitcolor\": \"white\"}, \"hoverlabel\": {\"align\": \"left\"}, \"hovermode\": \"closest\", \"mapbox\": {\"style\": \"light\"}, \"paper_bgcolor\": \"white\", \"plot_bgcolor\": \"#E5ECF6\", \"polar\": {\"angularaxis\": {\"gridcolor\": \"white\", \"linecolor\": \"white\", \"ticks\": \"\"}, \"bgcolor\": \"#E5ECF6\", \"radialaxis\": {\"gridcolor\": \"white\", \"linecolor\": \"white\", \"ticks\": \"\"}}, \"scene\": {\"xaxis\": {\"backgroundcolor\": \"#E5ECF6\", \"gridcolor\": \"white\", \"gridwidth\": 2, \"linecolor\": \"white\", \"showbackground\": true, \"ticks\": \"\", \"zerolinecolor\": \"white\"}, \"yaxis\": {\"backgroundcolor\": \"#E5ECF6\", \"gridcolor\": \"white\", \"gridwidth\": 2, \"linecolor\": \"white\", \"showbackground\": true, \"ticks\": \"\", \"zerolinecolor\": \"white\"}, \"zaxis\": {\"backgroundcolor\": \"#E5ECF6\", \"gridcolor\": \"white\", \"gridwidth\": 2, \"linecolor\": \"white\", \"showbackground\": true, \"ticks\": \"\", \"zerolinecolor\": \"white\"}}, \"shapedefaults\": {\"line\": {\"color\": \"#2a3f5f\"}}, \"ternary\": {\"aaxis\": {\"gridcolor\": \"white\", \"linecolor\": \"white\", \"ticks\": \"\"}, \"baxis\": {\"gridcolor\": \"white\", \"linecolor\": \"white\", \"ticks\": \"\"}, \"bgcolor\": \"#E5ECF6\", \"caxis\": {\"gridcolor\": \"white\", \"linecolor\": \"white\", \"ticks\": \"\"}}, \"title\": {\"x\": 0.05}, \"xaxis\": {\"automargin\": true, \"gridcolor\": \"white\", \"linecolor\": \"white\", \"ticks\": \"\", \"title\": {\"standoff\": 15}, \"zerolinecolor\": \"white\", \"zerolinewidth\": 2}, \"yaxis\": {\"automargin\": true, \"gridcolor\": \"white\", \"linecolor\": \"white\", \"ticks\": \"\", \"title\": {\"standoff\": 15}, \"zerolinecolor\": \"white\", \"zerolinewidth\": 2}}}},                        {\"responsive\": true}                    ).then(function(){\n",
       "                            \n",
       "var gd = document.getElementById('ab4fc2d6-3f91-4120-8764-9398e61824e4');\n",
       "var x = new MutationObserver(function (mutations, observer) {{\n",
       "        var display = window.getComputedStyle(gd).display;\n",
       "        if (!display || display === 'none') {{\n",
       "            console.log([gd, 'removed!']);\n",
       "            Plotly.purge(gd);\n",
       "            observer.disconnect();\n",
       "        }}\n",
       "}});\n",
       "\n",
       "// Listen for the removal of the full notebook cells\n",
       "var notebookContainer = gd.closest('#notebook-container');\n",
       "if (notebookContainer) {{\n",
       "    x.observe(notebookContainer, {childList: true});\n",
       "}}\n",
       "\n",
       "// Listen for the clearing of the current output cell\n",
       "var outputEl = gd.closest('.output');\n",
       "if (outputEl) {{\n",
       "    x.observe(outputEl, {childList: true});\n",
       "}}\n",
       "\n",
       "                        })                };                });            </script>        </div>"
      ]
     },
     "metadata": {},
     "output_type": "display_data"
    }
   ],
   "source": [
    "l_cols_plot_raw_ = l_parallel_params + l_parallel_metrics_3k\n",
    "l_cols_plot_clean_ = [rename_col_for_display(c) for c in l_cols_plot_raw_]\n",
    "df_plot_ = (\n",
    "    df_mlf_clustering_candidates[l_cols_plot_raw_]\n",
    "    .fillna({'params._pipe-reduce__n_components': 512})  # for SVD nulls\n",
    "    .rename(columns={c: rename_col_for_display(c) for c in l_cols_plot_raw_})\n",
    "    .reset_index(drop=True)\n",
    ")\n",
    "# remap cluster linkage so it shows up in plot\n",
    "col_linkage_clean = 'cluster linkage'\n",
    "col_affinity_clean = 'cluster affinity'\n",
    "col_comp_clean = 'reduce n components'\n",
    "df_plot_[col_linkage_clean] = df_plot_[col_linkage_clean].replace(d_linkage_to_num)\n",
    "df_plot_[col_affinity_clean] = df_plot_[col_affinity_clean].replace(d_affinity_to_num)\n",
    "df_plot_[col_comp_clean] = df_plot_[col_comp_clean].astype(int).replace(d_comp_to_num)\n",
    "print(f\"Linkage names:\\n  {d_num_to_linkage}\")\n",
    "print(f\"Affinity names:\\n  {d_num_to_affinity}\")\n",
    "print(f\"Component names:\\n  {d_num_to_comp}\")\n",
    "\n",
    "# df_plot_ = df_plot_.drop('subreddits', axis=1)\n",
    "fig = px.parallel_coordinates(\n",
    "    df_plot_,\n",
    "    color=l_cols_plot_clean_[-1],\n",
    "    # dimensions=l_cols_plot_clean_,\n",
    "    # labels={},\n",
    "    # color_continuous_scale=px.colors.diverging.Tealrose,\n",
    "    # color_continuous_midpoint=2\n",
    ")\n",
    "fig.show()"
   ]
  },
  {
   "cell_type": "markdown",
   "id": "fdfff3c3",
   "metadata": {},
   "source": [
    "Check score at k=4000m"
   ]
  },
  {
   "cell_type": "code",
   "execution_count": 58,
   "id": "94af3ec3",
   "metadata": {},
   "outputs": [
    {
     "name": "stdout",
     "output_type": "stream",
     "text": [
      "Linkage names:\n",
      "  {4: 'ward', 3: 'complete', 2: 'average', 1: 'single'}\n",
      "Affinity names:\n",
      "  {2: 'cosine', 1: 'euclidean'}\n",
      "Component names:\n",
      "  {512: 'None', 2: 2, 50: 50}\n"
     ]
    },
    {
     "data": {
      "application/vnd.plotly.v1+json": {
       "config": {
        "plotlyServerURL": "https://plot.ly"
       },
       "data": [
        {
         "dimensions": [
          {
           "label": "subreddits",
           "values": [
            81815,
            81815,
            81954,
            81954,
            81970,
            81970,
            81815,
            81815,
            81954,
            81954,
            81970,
            81970,
            81815,
            81954,
            81815,
            81954,
            81970,
            81970,
            81815,
            81815,
            81954,
            81970,
            81970,
            81954,
            81815,
            81815,
            81954,
            81815,
            81815,
            81954,
            81954,
            81954,
            81970,
            81970,
            81970,
            81970
           ]
          },
          {
           "label": "reduce n components",
           "values": [
            128,
            512,
            128,
            512,
            128,
            512,
            128,
            512,
            128,
            512,
            128,
            512,
            128,
            512,
            512,
            128,
            128,
            512,
            512,
            128,
            128,
            512,
            128,
            512,
            128,
            512,
            128,
            512,
            128,
            128,
            512,
            512,
            128,
            128,
            512,
            512
           ]
          },
          {
           "label": "cluster affinity",
           "values": [
            1,
            1,
            1,
            1,
            1,
            1,
            2,
            2,
            2,
            2,
            2,
            2,
            1,
            1,
            1,
            1,
            1,
            1,
            2,
            2,
            2,
            2,
            2,
            2,
            1,
            1,
            1,
            1,
            1,
            1,
            1,
            1,
            1,
            1,
            1,
            1
           ]
          },
          {
           "label": "cluster linkage",
           "values": [
            2,
            2,
            2,
            2,
            2,
            2,
            2,
            2,
            2,
            2,
            2,
            2,
            3,
            3,
            3,
            3,
            3,
            3,
            3,
            3,
            3,
            3,
            3,
            3,
            4,
            4,
            4,
            4,
            4,
            4,
            4,
            4,
            4,
            4,
            4,
            4
           ]
          },
          {
           "label": "3000 to 3200<br>adjusted mutual info score<br>",
           "values": [
            0.5948642478732247,
            0.4975889122469814,
            0.596648194311068,
            0.5013225770519159,
            0.5972725158929132,
            0.48485479600153286,
            0.6161225762991585,
            0.6020155933154274,
            0.6108595870814878,
            0.5986042163016084,
            0.6167597011408148,
            0.599193762178714,
            0.6143713400885922,
            0.5986578803923088,
            0.5993741056416064,
            0.6124853193635572,
            0.6122787960857635,
            0.5985077639179036,
            0.62171441746608,
            0.6288049466242579,
            0.626297409510758,
            0.6207883034806398,
            0.626694370757468,
            0.6191231650788849,
            0.6360296390411417,
            0.6324632531211454,
            0.6349459834182147,
            0.6290969322951598,
            0.6332953907172227,
            0.6353725559250235,
            0.6315253659889273,
            0.6290375478975506,
            0.6350483063748217,
            0.6342206810441807,
            0.6318157887715392,
            0.6275761298101781
           ]
          },
          {
           "label": "3000 to 3200<br>f1 score<br>-weighted avg<br><br>",
           "values": [
            0.6592653270096764,
            0.5054833747880437,
            0.6574264667002072,
            0.5056788425560175,
            0.657161650955354,
            0.4851402052026404,
            0.7070541762329178,
            0.6870356022809563,
            0.6981619125248351,
            0.6808606479016726,
            0.705093294392027,
            0.6813981631139266,
            0.7240356057324793,
            0.7100151207066098,
            0.7103875362678801,
            0.7246162776574582,
            0.7243058602954516,
            0.709425185811324,
            0.7334660856270704,
            0.7390515272382391,
            0.735941539596964,
            0.7314741251825143,
            0.7381375994867163,
            0.729980453915611,
            0.7472527667666585,
            0.7465225961516153,
            0.7461426811366569,
            0.7431602778414048,
            0.7458143583317457,
            0.7478906386885954,
            0.7457378978470631,
            0.7429993239544437,
            0.7473393455305203,
            0.7455472801509231,
            0.7455012307744066,
            0.7412421009099283
           ]
          },
          {
           "label": "3900 to 4000<br>adjusted mutual info score<br>",
           "values": [
            0.6112274760018003,
            0.5422222932459443,
            0.6118771552085353,
            0.5430420812931374,
            0.6103719658886894,
            0.5429084488307111,
            0.6236352455707782,
            0.6132297459391345,
            0.625730090392409,
            0.6116724994399457,
            0.6282327811560925,
            0.6120573106535752,
            0.6240037844122224,
            0.6112586301554442,
            0.611075432737346,
            0.6237415656154952,
            0.6228576169209211,
            0.6115935079982739,
            0.6311229448163919,
            0.6390830472555908,
            0.6374262755757241,
            0.6295062151971255,
            0.6352705989409783,
            0.6300330575913751,
            0.6436230567544718,
            0.6399315778988437,
            0.6408099377184707,
            0.6365861728080597,
            0.6409602250575875,
            0.6439206912491872,
            0.6397215362655803,
            0.6362237947185876,
            0.642998975437801,
            0.6398465298564743,
            0.6398602640046062,
            0.6363313598953364
           ]
          },
          {
           "label": "3900 to 4000<br>f1 score<br>-weighted avg<br><br>",
           "values": [
            0.6902583833901834,
            0.5795710455530502,
            0.6918579493050115,
            0.5750881808547482,
            0.6836870136334965,
            0.5750555851751216,
            0.7157716760994404,
            0.7036141037552579,
            0.7195448344221403,
            0.6995295659436805,
            0.7210246590982131,
            0.6996930057558138,
            0.7340531782710792,
            0.7220115923185648,
            0.7222832477794244,
            0.7358515134021175,
            0.7345077374806986,
            0.7216908963132491,
            0.742328663370321,
            0.7490937599971995,
            0.7465778731294163,
            0.74027013963226,
            0.7465490549411407,
            0.7410021546618025,
            0.7556741351148001,
            0.7540234927632611,
            0.7522396695324647,
            0.7502121955000215,
            0.7531795331094199,
            0.7563892571804949,
            0.7538901346672766,
            0.7497720211750244,
            0.7556798029757157,
            0.7515582281188429,
            0.7539841662529483,
            0.7497319031814821
           ]
          }
         ],
         "domain": {
          "x": [
           0,
           1
          ],
          "y": [
           0,
           1
          ]
         },
         "line": {
          "color": [
           0.6902583833901834,
           0.5795710455530502,
           0.6918579493050115,
           0.5750881808547482,
           0.6836870136334965,
           0.5750555851751216,
           0.7157716760994404,
           0.7036141037552579,
           0.7195448344221403,
           0.6995295659436805,
           0.7210246590982131,
           0.6996930057558138,
           0.7340531782710792,
           0.7220115923185648,
           0.7222832477794244,
           0.7358515134021175,
           0.7345077374806986,
           0.7216908963132491,
           0.742328663370321,
           0.7490937599971995,
           0.7465778731294163,
           0.74027013963226,
           0.7465490549411407,
           0.7410021546618025,
           0.7556741351148001,
           0.7540234927632611,
           0.7522396695324647,
           0.7502121955000215,
           0.7531795331094199,
           0.7563892571804949,
           0.7538901346672766,
           0.7497720211750244,
           0.7556798029757157,
           0.7515582281188429,
           0.7539841662529483,
           0.7497319031814821
          ],
          "coloraxis": "coloraxis"
         },
         "name": "",
         "type": "parcoords"
        }
       ],
       "layout": {
        "autosize": true,
        "coloraxis": {
         "colorbar": {
          "title": {
           "text": "3900 to 4000<br>f1 score<br>-weighted avg<br><br>"
          }
         },
         "colorscale": [
          [
           0,
           "#0d0887"
          ],
          [
           0.1111111111111111,
           "#46039f"
          ],
          [
           0.2222222222222222,
           "#7201a8"
          ],
          [
           0.3333333333333333,
           "#9c179e"
          ],
          [
           0.4444444444444444,
           "#bd3786"
          ],
          [
           0.5555555555555556,
           "#d8576b"
          ],
          [
           0.6666666666666666,
           "#ed7953"
          ],
          [
           0.7777777777777778,
           "#fb9f3a"
          ],
          [
           0.8888888888888888,
           "#fdca26"
          ],
          [
           1,
           "#f0f921"
          ]
         ]
        },
        "legend": {
         "tracegroupgap": 0
        },
        "margin": {
         "t": 60
        },
        "template": {
         "data": {
          "bar": [
           {
            "error_x": {
             "color": "#2a3f5f"
            },
            "error_y": {
             "color": "#2a3f5f"
            },
            "marker": {
             "line": {
              "color": "#E5ECF6",
              "width": 0.5
             }
            },
            "type": "bar"
           }
          ],
          "barpolar": [
           {
            "marker": {
             "line": {
              "color": "#E5ECF6",
              "width": 0.5
             }
            },
            "type": "barpolar"
           }
          ],
          "carpet": [
           {
            "aaxis": {
             "endlinecolor": "#2a3f5f",
             "gridcolor": "white",
             "linecolor": "white",
             "minorgridcolor": "white",
             "startlinecolor": "#2a3f5f"
            },
            "baxis": {
             "endlinecolor": "#2a3f5f",
             "gridcolor": "white",
             "linecolor": "white",
             "minorgridcolor": "white",
             "startlinecolor": "#2a3f5f"
            },
            "type": "carpet"
           }
          ],
          "choropleth": [
           {
            "colorbar": {
             "outlinewidth": 0,
             "ticks": ""
            },
            "type": "choropleth"
           }
          ],
          "contour": [
           {
            "colorbar": {
             "outlinewidth": 0,
             "ticks": ""
            },
            "colorscale": [
             [
              0,
              "#0d0887"
             ],
             [
              0.1111111111111111,
              "#46039f"
             ],
             [
              0.2222222222222222,
              "#7201a8"
             ],
             [
              0.3333333333333333,
              "#9c179e"
             ],
             [
              0.4444444444444444,
              "#bd3786"
             ],
             [
              0.5555555555555556,
              "#d8576b"
             ],
             [
              0.6666666666666666,
              "#ed7953"
             ],
             [
              0.7777777777777778,
              "#fb9f3a"
             ],
             [
              0.8888888888888888,
              "#fdca26"
             ],
             [
              1,
              "#f0f921"
             ]
            ],
            "type": "contour"
           }
          ],
          "contourcarpet": [
           {
            "colorbar": {
             "outlinewidth": 0,
             "ticks": ""
            },
            "type": "contourcarpet"
           }
          ],
          "heatmap": [
           {
            "colorbar": {
             "outlinewidth": 0,
             "ticks": ""
            },
            "colorscale": [
             [
              0,
              "#0d0887"
             ],
             [
              0.1111111111111111,
              "#46039f"
             ],
             [
              0.2222222222222222,
              "#7201a8"
             ],
             [
              0.3333333333333333,
              "#9c179e"
             ],
             [
              0.4444444444444444,
              "#bd3786"
             ],
             [
              0.5555555555555556,
              "#d8576b"
             ],
             [
              0.6666666666666666,
              "#ed7953"
             ],
             [
              0.7777777777777778,
              "#fb9f3a"
             ],
             [
              0.8888888888888888,
              "#fdca26"
             ],
             [
              1,
              "#f0f921"
             ]
            ],
            "type": "heatmap"
           }
          ],
          "heatmapgl": [
           {
            "colorbar": {
             "outlinewidth": 0,
             "ticks": ""
            },
            "colorscale": [
             [
              0,
              "#0d0887"
             ],
             [
              0.1111111111111111,
              "#46039f"
             ],
             [
              0.2222222222222222,
              "#7201a8"
             ],
             [
              0.3333333333333333,
              "#9c179e"
             ],
             [
              0.4444444444444444,
              "#bd3786"
             ],
             [
              0.5555555555555556,
              "#d8576b"
             ],
             [
              0.6666666666666666,
              "#ed7953"
             ],
             [
              0.7777777777777778,
              "#fb9f3a"
             ],
             [
              0.8888888888888888,
              "#fdca26"
             ],
             [
              1,
              "#f0f921"
             ]
            ],
            "type": "heatmapgl"
           }
          ],
          "histogram": [
           {
            "marker": {
             "colorbar": {
              "outlinewidth": 0,
              "ticks": ""
             }
            },
            "type": "histogram"
           }
          ],
          "histogram2d": [
           {
            "colorbar": {
             "outlinewidth": 0,
             "ticks": ""
            },
            "colorscale": [
             [
              0,
              "#0d0887"
             ],
             [
              0.1111111111111111,
              "#46039f"
             ],
             [
              0.2222222222222222,
              "#7201a8"
             ],
             [
              0.3333333333333333,
              "#9c179e"
             ],
             [
              0.4444444444444444,
              "#bd3786"
             ],
             [
              0.5555555555555556,
              "#d8576b"
             ],
             [
              0.6666666666666666,
              "#ed7953"
             ],
             [
              0.7777777777777778,
              "#fb9f3a"
             ],
             [
              0.8888888888888888,
              "#fdca26"
             ],
             [
              1,
              "#f0f921"
             ]
            ],
            "type": "histogram2d"
           }
          ],
          "histogram2dcontour": [
           {
            "colorbar": {
             "outlinewidth": 0,
             "ticks": ""
            },
            "colorscale": [
             [
              0,
              "#0d0887"
             ],
             [
              0.1111111111111111,
              "#46039f"
             ],
             [
              0.2222222222222222,
              "#7201a8"
             ],
             [
              0.3333333333333333,
              "#9c179e"
             ],
             [
              0.4444444444444444,
              "#bd3786"
             ],
             [
              0.5555555555555556,
              "#d8576b"
             ],
             [
              0.6666666666666666,
              "#ed7953"
             ],
             [
              0.7777777777777778,
              "#fb9f3a"
             ],
             [
              0.8888888888888888,
              "#fdca26"
             ],
             [
              1,
              "#f0f921"
             ]
            ],
            "type": "histogram2dcontour"
           }
          ],
          "mesh3d": [
           {
            "colorbar": {
             "outlinewidth": 0,
             "ticks": ""
            },
            "type": "mesh3d"
           }
          ],
          "parcoords": [
           {
            "line": {
             "colorbar": {
              "outlinewidth": 0,
              "ticks": ""
             }
            },
            "type": "parcoords"
           }
          ],
          "pie": [
           {
            "automargin": true,
            "type": "pie"
           }
          ],
          "scatter": [
           {
            "marker": {
             "colorbar": {
              "outlinewidth": 0,
              "ticks": ""
             }
            },
            "type": "scatter"
           }
          ],
          "scatter3d": [
           {
            "line": {
             "colorbar": {
              "outlinewidth": 0,
              "ticks": ""
             }
            },
            "marker": {
             "colorbar": {
              "outlinewidth": 0,
              "ticks": ""
             }
            },
            "type": "scatter3d"
           }
          ],
          "scattercarpet": [
           {
            "marker": {
             "colorbar": {
              "outlinewidth": 0,
              "ticks": ""
             }
            },
            "type": "scattercarpet"
           }
          ],
          "scattergeo": [
           {
            "marker": {
             "colorbar": {
              "outlinewidth": 0,
              "ticks": ""
             }
            },
            "type": "scattergeo"
           }
          ],
          "scattergl": [
           {
            "marker": {
             "colorbar": {
              "outlinewidth": 0,
              "ticks": ""
             }
            },
            "type": "scattergl"
           }
          ],
          "scattermapbox": [
           {
            "marker": {
             "colorbar": {
              "outlinewidth": 0,
              "ticks": ""
             }
            },
            "type": "scattermapbox"
           }
          ],
          "scatterpolar": [
           {
            "marker": {
             "colorbar": {
              "outlinewidth": 0,
              "ticks": ""
             }
            },
            "type": "scatterpolar"
           }
          ],
          "scatterpolargl": [
           {
            "marker": {
             "colorbar": {
              "outlinewidth": 0,
              "ticks": ""
             }
            },
            "type": "scatterpolargl"
           }
          ],
          "scatterternary": [
           {
            "marker": {
             "colorbar": {
              "outlinewidth": 0,
              "ticks": ""
             }
            },
            "type": "scatterternary"
           }
          ],
          "surface": [
           {
            "colorbar": {
             "outlinewidth": 0,
             "ticks": ""
            },
            "colorscale": [
             [
              0,
              "#0d0887"
             ],
             [
              0.1111111111111111,
              "#46039f"
             ],
             [
              0.2222222222222222,
              "#7201a8"
             ],
             [
              0.3333333333333333,
              "#9c179e"
             ],
             [
              0.4444444444444444,
              "#bd3786"
             ],
             [
              0.5555555555555556,
              "#d8576b"
             ],
             [
              0.6666666666666666,
              "#ed7953"
             ],
             [
              0.7777777777777778,
              "#fb9f3a"
             ],
             [
              0.8888888888888888,
              "#fdca26"
             ],
             [
              1,
              "#f0f921"
             ]
            ],
            "type": "surface"
           }
          ],
          "table": [
           {
            "cells": {
             "fill": {
              "color": "#EBF0F8"
             },
             "line": {
              "color": "white"
             }
            },
            "header": {
             "fill": {
              "color": "#C8D4E3"
             },
             "line": {
              "color": "white"
             }
            },
            "type": "table"
           }
          ]
         },
         "layout": {
          "annotationdefaults": {
           "arrowcolor": "#2a3f5f",
           "arrowhead": 0,
           "arrowwidth": 1
          },
          "autotypenumbers": "strict",
          "coloraxis": {
           "colorbar": {
            "outlinewidth": 0,
            "ticks": ""
           }
          },
          "colorscale": {
           "diverging": [
            [
             0,
             "#8e0152"
            ],
            [
             0.1,
             "#c51b7d"
            ],
            [
             0.2,
             "#de77ae"
            ],
            [
             0.3,
             "#f1b6da"
            ],
            [
             0.4,
             "#fde0ef"
            ],
            [
             0.5,
             "#f7f7f7"
            ],
            [
             0.6,
             "#e6f5d0"
            ],
            [
             0.7,
             "#b8e186"
            ],
            [
             0.8,
             "#7fbc41"
            ],
            [
             0.9,
             "#4d9221"
            ],
            [
             1,
             "#276419"
            ]
           ],
           "sequential": [
            [
             0,
             "#0d0887"
            ],
            [
             0.1111111111111111,
             "#46039f"
            ],
            [
             0.2222222222222222,
             "#7201a8"
            ],
            [
             0.3333333333333333,
             "#9c179e"
            ],
            [
             0.4444444444444444,
             "#bd3786"
            ],
            [
             0.5555555555555556,
             "#d8576b"
            ],
            [
             0.6666666666666666,
             "#ed7953"
            ],
            [
             0.7777777777777778,
             "#fb9f3a"
            ],
            [
             0.8888888888888888,
             "#fdca26"
            ],
            [
             1,
             "#f0f921"
            ]
           ],
           "sequentialminus": [
            [
             0,
             "#0d0887"
            ],
            [
             0.1111111111111111,
             "#46039f"
            ],
            [
             0.2222222222222222,
             "#7201a8"
            ],
            [
             0.3333333333333333,
             "#9c179e"
            ],
            [
             0.4444444444444444,
             "#bd3786"
            ],
            [
             0.5555555555555556,
             "#d8576b"
            ],
            [
             0.6666666666666666,
             "#ed7953"
            ],
            [
             0.7777777777777778,
             "#fb9f3a"
            ],
            [
             0.8888888888888888,
             "#fdca26"
            ],
            [
             1,
             "#f0f921"
            ]
           ]
          },
          "colorway": [
           "#636efa",
           "#EF553B",
           "#00cc96",
           "#ab63fa",
           "#FFA15A",
           "#19d3f3",
           "#FF6692",
           "#B6E880",
           "#FF97FF",
           "#FECB52"
          ],
          "font": {
           "color": "#2a3f5f"
          },
          "geo": {
           "bgcolor": "white",
           "lakecolor": "white",
           "landcolor": "#E5ECF6",
           "showlakes": true,
           "showland": true,
           "subunitcolor": "white"
          },
          "hoverlabel": {
           "align": "left"
          },
          "hovermode": "closest",
          "mapbox": {
           "style": "light"
          },
          "paper_bgcolor": "white",
          "plot_bgcolor": "#E5ECF6",
          "polar": {
           "angularaxis": {
            "gridcolor": "white",
            "linecolor": "white",
            "ticks": ""
           },
           "bgcolor": "#E5ECF6",
           "radialaxis": {
            "gridcolor": "white",
            "linecolor": "white",
            "ticks": ""
           }
          },
          "scene": {
           "xaxis": {
            "backgroundcolor": "#E5ECF6",
            "gridcolor": "white",
            "gridwidth": 2,
            "linecolor": "white",
            "showbackground": true,
            "ticks": "",
            "zerolinecolor": "white"
           },
           "yaxis": {
            "backgroundcolor": "#E5ECF6",
            "gridcolor": "white",
            "gridwidth": 2,
            "linecolor": "white",
            "showbackground": true,
            "ticks": "",
            "zerolinecolor": "white"
           },
           "zaxis": {
            "backgroundcolor": "#E5ECF6",
            "gridcolor": "white",
            "gridwidth": 2,
            "linecolor": "white",
            "showbackground": true,
            "ticks": "",
            "zerolinecolor": "white"
           }
          },
          "shapedefaults": {
           "line": {
            "color": "#2a3f5f"
           }
          },
          "ternary": {
           "aaxis": {
            "gridcolor": "white",
            "linecolor": "white",
            "ticks": ""
           },
           "baxis": {
            "gridcolor": "white",
            "linecolor": "white",
            "ticks": ""
           },
           "bgcolor": "#E5ECF6",
           "caxis": {
            "gridcolor": "white",
            "linecolor": "white",
            "ticks": ""
           }
          },
          "title": {
           "x": 0.05
          },
          "xaxis": {
           "automargin": true,
           "gridcolor": "white",
           "linecolor": "white",
           "ticks": "",
           "title": {
            "standoff": 15
           },
           "zerolinecolor": "white",
           "zerolinewidth": 2
          },
          "yaxis": {
           "automargin": true,
           "gridcolor": "white",
           "linecolor": "white",
           "ticks": "",
           "title": {
            "standoff": 15
           },
           "zerolinecolor": "white",
           "zerolinewidth": 2
          }
         }
        }
       }
      },
      "image/png": "[encoded data removed]",
      "text/html": [
       "<div>                            <div id=\"b7b4a3d0-7f65-4fcb-935a-62c4ea021119\" class=\"plotly-graph-div\" style=\"height:525px; width:100%;\"></div>            <script type=\"text/javascript\">                require([\"plotly\"], function(Plotly) {                    window.PLOTLYENV=window.PLOTLYENV || {};                                    if (document.getElementById(\"b7b4a3d0-7f65-4fcb-935a-62c4ea021119\")) {                    Plotly.newPlot(                        \"b7b4a3d0-7f65-4fcb-935a-62c4ea021119\",                        [{\"dimensions\": [{\"label\": \"subreddits\", \"values\": [81815.0, 81815.0, 81954.0, 81954.0, 81970.0, 81970.0, 81815.0, 81815.0, 81954.0, 81954.0, 81970.0, 81970.0, 81815.0, 81954.0, 81815.0, 81954.0, 81970.0, 81970.0, 81815.0, 81815.0, 81954.0, 81970.0, 81970.0, 81954.0, 81815.0, 81815.0, 81954.0, 81815.0, 81815.0, 81954.0, 81954.0, 81954.0, 81970.0, 81970.0, 81970.0, 81970.0]}, {\"label\": \"reduce n components\", \"values\": [128, 512, 128, 512, 128, 512, 128, 512, 128, 512, 128, 512, 128, 512, 512, 128, 128, 512, 512, 128, 128, 512, 128, 512, 128, 512, 128, 512, 128, 128, 512, 512, 128, 128, 512, 512]}, {\"label\": \"cluster affinity\", \"values\": [1, 1, 1, 1, 1, 1, 2, 2, 2, 2, 2, 2, 1, 1, 1, 1, 1, 1, 2, 2, 2, 2, 2, 2, 1, 1, 1, 1, 1, 1, 1, 1, 1, 1, 1, 1]}, {\"label\": \"cluster linkage\", \"values\": [2, 2, 2, 2, 2, 2, 2, 2, 2, 2, 2, 2, 3, 3, 3, 3, 3, 3, 3, 3, 3, 3, 3, 3, 4, 4, 4, 4, 4, 4, 4, 4, 4, 4, 4, 4]}, {\"label\": \"3000 to 3200<br>adjusted mutual info score<br>\", \"values\": [0.5948642478732247, 0.4975889122469814, 0.596648194311068, 0.5013225770519159, 0.5972725158929132, 0.48485479600153286, 0.6161225762991585, 0.6020155933154274, 0.6108595870814878, 0.5986042163016084, 0.6167597011408148, 0.599193762178714, 0.6143713400885922, 0.5986578803923088, 0.5993741056416064, 0.6124853193635572, 0.6122787960857635, 0.5985077639179036, 0.62171441746608, 0.6288049466242579, 0.626297409510758, 0.6207883034806398, 0.626694370757468, 0.6191231650788849, 0.6360296390411417, 0.6324632531211454, 0.6349459834182147, 0.6290969322951598, 0.6332953907172227, 0.6353725559250235, 0.6315253659889273, 0.6290375478975506, 0.6350483063748217, 0.6342206810441807, 0.6318157887715392, 0.6275761298101781]}, {\"label\": \"3000 to 3200<br>f1 score<br>-weighted avg<br><br>\", \"values\": [0.6592653270096764, 0.5054833747880437, 0.6574264667002072, 0.5056788425560175, 0.657161650955354, 0.4851402052026404, 0.7070541762329178, 0.6870356022809563, 0.6981619125248351, 0.6808606479016726, 0.705093294392027, 0.6813981631139266, 0.7240356057324793, 0.7100151207066098, 0.7103875362678801, 0.7246162776574582, 0.7243058602954516, 0.709425185811324, 0.7334660856270704, 0.7390515272382391, 0.735941539596964, 0.7314741251825143, 0.7381375994867163, 0.729980453915611, 0.7472527667666585, 0.7465225961516153, 0.7461426811366569, 0.7431602778414048, 0.7458143583317457, 0.7478906386885954, 0.7457378978470631, 0.7429993239544437, 0.7473393455305203, 0.7455472801509231, 0.7455012307744066, 0.7412421009099283]}, {\"label\": \"3900 to 4000<br>adjusted mutual info score<br>\", \"values\": [0.6112274760018003, 0.5422222932459443, 0.6118771552085353, 0.5430420812931374, 0.6103719658886894, 0.5429084488307111, 0.6236352455707782, 0.6132297459391345, 0.625730090392409, 0.6116724994399457, 0.6282327811560925, 0.6120573106535752, 0.6240037844122224, 0.6112586301554442, 0.611075432737346, 0.6237415656154952, 0.6228576169209211, 0.6115935079982739, 0.6311229448163919, 0.6390830472555908, 0.6374262755757241, 0.6295062151971255, 0.6352705989409783, 0.6300330575913751, 0.6436230567544718, 0.6399315778988437, 0.6408099377184707, 0.6365861728080597, 0.6409602250575875, 0.6439206912491872, 0.6397215362655803, 0.6362237947185876, 0.642998975437801, 0.6398465298564743, 0.6398602640046062, 0.6363313598953364]}, {\"label\": \"3900 to 4000<br>f1 score<br>-weighted avg<br><br>\", \"values\": [0.6902583833901834, 0.5795710455530502, 0.6918579493050115, 0.5750881808547482, 0.6836870136334965, 0.5750555851751216, 0.7157716760994404, 0.7036141037552579, 0.7195448344221403, 0.6995295659436805, 0.7210246590982131, 0.6996930057558138, 0.7340531782710792, 0.7220115923185648, 0.7222832477794244, 0.7358515134021175, 0.7345077374806986, 0.7216908963132491, 0.742328663370321, 0.7490937599971995, 0.7465778731294163, 0.74027013963226, 0.7465490549411407, 0.7410021546618025, 0.7556741351148001, 0.7540234927632611, 0.7522396695324647, 0.7502121955000215, 0.7531795331094199, 0.7563892571804949, 0.7538901346672766, 0.7497720211750244, 0.7556798029757157, 0.7515582281188429, 0.7539841662529483, 0.7497319031814821]}], \"domain\": {\"x\": [0.0, 1.0], \"y\": [0.0, 1.0]}, \"line\": {\"color\": [0.6902583833901834, 0.5795710455530502, 0.6918579493050115, 0.5750881808547482, 0.6836870136334965, 0.5750555851751216, 0.7157716760994404, 0.7036141037552579, 0.7195448344221403, 0.6995295659436805, 0.7210246590982131, 0.6996930057558138, 0.7340531782710792, 0.7220115923185648, 0.7222832477794244, 0.7358515134021175, 0.7345077374806986, 0.7216908963132491, 0.742328663370321, 0.7490937599971995, 0.7465778731294163, 0.74027013963226, 0.7465490549411407, 0.7410021546618025, 0.7556741351148001, 0.7540234927632611, 0.7522396695324647, 0.7502121955000215, 0.7531795331094199, 0.7563892571804949, 0.7538901346672766, 0.7497720211750244, 0.7556798029757157, 0.7515582281188429, 0.7539841662529483, 0.7497319031814821], \"coloraxis\": \"coloraxis\"}, \"name\": \"\", \"type\": \"parcoords\"}],                        {\"coloraxis\": {\"colorbar\": {\"title\": {\"text\": \"3900 to 4000<br>f1 score<br>-weighted avg<br><br>\"}}, \"colorscale\": [[0.0, \"#0d0887\"], [0.1111111111111111, \"#46039f\"], [0.2222222222222222, \"#7201a8\"], [0.3333333333333333, \"#9c179e\"], [0.4444444444444444, \"#bd3786\"], [0.5555555555555556, \"#d8576b\"], [0.6666666666666666, \"#ed7953\"], [0.7777777777777778, \"#fb9f3a\"], [0.8888888888888888, \"#fdca26\"], [1.0, \"#f0f921\"]]}, \"legend\": {\"tracegroupgap\": 0}, \"margin\": {\"t\": 60}, \"template\": {\"data\": {\"bar\": [{\"error_x\": {\"color\": \"#2a3f5f\"}, \"error_y\": {\"color\": \"#2a3f5f\"}, \"marker\": {\"line\": {\"color\": \"#E5ECF6\", \"width\": 0.5}}, \"type\": \"bar\"}], \"barpolar\": [{\"marker\": {\"line\": {\"color\": \"#E5ECF6\", \"width\": 0.5}}, \"type\": \"barpolar\"}], \"carpet\": [{\"aaxis\": {\"endlinecolor\": \"#2a3f5f\", \"gridcolor\": \"white\", \"linecolor\": \"white\", \"minorgridcolor\": \"white\", \"startlinecolor\": \"#2a3f5f\"}, \"baxis\": {\"endlinecolor\": \"#2a3f5f\", \"gridcolor\": \"white\", \"linecolor\": \"white\", \"minorgridcolor\": \"white\", \"startlinecolor\": \"#2a3f5f\"}, \"type\": \"carpet\"}], \"choropleth\": [{\"colorbar\": {\"outlinewidth\": 0, \"ticks\": \"\"}, \"type\": \"choropleth\"}], \"contour\": [{\"colorbar\": {\"outlinewidth\": 0, \"ticks\": \"\"}, \"colorscale\": [[0.0, \"#0d0887\"], [0.1111111111111111, \"#46039f\"], [0.2222222222222222, \"#7201a8\"], [0.3333333333333333, \"#9c179e\"], [0.4444444444444444, \"#bd3786\"], [0.5555555555555556, \"#d8576b\"], [0.6666666666666666, \"#ed7953\"], [0.7777777777777778, \"#fb9f3a\"], [0.8888888888888888, \"#fdca26\"], [1.0, \"#f0f921\"]], \"type\": \"contour\"}], \"contourcarpet\": [{\"colorbar\": {\"outlinewidth\": 0, \"ticks\": \"\"}, \"type\": \"contourcarpet\"}], \"heatmap\": [{\"colorbar\": {\"outlinewidth\": 0, \"ticks\": \"\"}, \"colorscale\": [[0.0, \"#0d0887\"], [0.1111111111111111, \"#46039f\"], [0.2222222222222222, \"#7201a8\"], [0.3333333333333333, \"#9c179e\"], [0.4444444444444444, \"#bd3786\"], [0.5555555555555556, \"#d8576b\"], [0.6666666666666666, \"#ed7953\"], [0.7777777777777778, \"#fb9f3a\"], [0.8888888888888888, \"#fdca26\"], [1.0, \"#f0f921\"]], \"type\": \"heatmap\"}], \"heatmapgl\": [{\"colorbar\": {\"outlinewidth\": 0, \"ticks\": \"\"}, \"colorscale\": [[0.0, \"#0d0887\"], [0.1111111111111111, \"#46039f\"], [0.2222222222222222, \"#7201a8\"], [0.3333333333333333, \"#9c179e\"], [0.4444444444444444, \"#bd3786\"], [0.5555555555555556, \"#d8576b\"], [0.6666666666666666, \"#ed7953\"], [0.7777777777777778, \"#fb9f3a\"], [0.8888888888888888, \"#fdca26\"], [1.0, \"#f0f921\"]], \"type\": \"heatmapgl\"}], \"histogram\": [{\"marker\": {\"colorbar\": {\"outlinewidth\": 0, \"ticks\": \"\"}}, \"type\": \"histogram\"}], \"histogram2d\": [{\"colorbar\": {\"outlinewidth\": 0, \"ticks\": \"\"}, \"colorscale\": [[0.0, \"#0d0887\"], [0.1111111111111111, \"#46039f\"], [0.2222222222222222, \"#7201a8\"], [0.3333333333333333, \"#9c179e\"], [0.4444444444444444, \"#bd3786\"], [0.5555555555555556, \"#d8576b\"], [0.6666666666666666, \"#ed7953\"], [0.7777777777777778, \"#fb9f3a\"], [0.8888888888888888, \"#fdca26\"], [1.0, \"#f0f921\"]], \"type\": \"histogram2d\"}], \"histogram2dcontour\": [{\"colorbar\": {\"outlinewidth\": 0, \"ticks\": \"\"}, \"colorscale\": [[0.0, \"#0d0887\"], [0.1111111111111111, \"#46039f\"], [0.2222222222222222, \"#7201a8\"], [0.3333333333333333, \"#9c179e\"], [0.4444444444444444, \"#bd3786\"], [0.5555555555555556, \"#d8576b\"], [0.6666666666666666, \"#ed7953\"], [0.7777777777777778, \"#fb9f3a\"], [0.8888888888888888, \"#fdca26\"], [1.0, \"#f0f921\"]], \"type\": \"histogram2dcontour\"}], \"mesh3d\": [{\"colorbar\": {\"outlinewidth\": 0, \"ticks\": \"\"}, \"type\": \"mesh3d\"}], \"parcoords\": [{\"line\": {\"colorbar\": {\"outlinewidth\": 0, \"ticks\": \"\"}}, \"type\": \"parcoords\"}], \"pie\": [{\"automargin\": true, \"type\": \"pie\"}], \"scatter\": [{\"marker\": {\"colorbar\": {\"outlinewidth\": 0, \"ticks\": \"\"}}, \"type\": \"scatter\"}], \"scatter3d\": [{\"line\": {\"colorbar\": {\"outlinewidth\": 0, \"ticks\": \"\"}}, \"marker\": {\"colorbar\": {\"outlinewidth\": 0, \"ticks\": \"\"}}, \"type\": \"scatter3d\"}], \"scattercarpet\": [{\"marker\": {\"colorbar\": {\"outlinewidth\": 0, \"ticks\": \"\"}}, \"type\": \"scattercarpet\"}], \"scattergeo\": [{\"marker\": {\"colorbar\": {\"outlinewidth\": 0, \"ticks\": \"\"}}, \"type\": \"scattergeo\"}], \"scattergl\": [{\"marker\": {\"colorbar\": {\"outlinewidth\": 0, \"ticks\": \"\"}}, \"type\": \"scattergl\"}], \"scattermapbox\": [{\"marker\": {\"colorbar\": {\"outlinewidth\": 0, \"ticks\": \"\"}}, \"type\": \"scattermapbox\"}], \"scatterpolar\": [{\"marker\": {\"colorbar\": {\"outlinewidth\": 0, \"ticks\": \"\"}}, \"type\": \"scatterpolar\"}], \"scatterpolargl\": [{\"marker\": {\"colorbar\": {\"outlinewidth\": 0, \"ticks\": \"\"}}, \"type\": \"scatterpolargl\"}], \"scatterternary\": [{\"marker\": {\"colorbar\": {\"outlinewidth\": 0, \"ticks\": \"\"}}, \"type\": \"scatterternary\"}], \"surface\": [{\"colorbar\": {\"outlinewidth\": 0, \"ticks\": \"\"}, \"colorscale\": [[0.0, \"#0d0887\"], [0.1111111111111111, \"#46039f\"], [0.2222222222222222, \"#7201a8\"], [0.3333333333333333, \"#9c179e\"], [0.4444444444444444, \"#bd3786\"], [0.5555555555555556, \"#d8576b\"], [0.6666666666666666, \"#ed7953\"], [0.7777777777777778, \"#fb9f3a\"], [0.8888888888888888, \"#fdca26\"], [1.0, \"#f0f921\"]], \"type\": \"surface\"}], \"table\": [{\"cells\": {\"fill\": {\"color\": \"#EBF0F8\"}, \"line\": {\"color\": \"white\"}}, \"header\": {\"fill\": {\"color\": \"#C8D4E3\"}, \"line\": {\"color\": \"white\"}}, \"type\": \"table\"}]}, \"layout\": {\"annotationdefaults\": {\"arrowcolor\": \"#2a3f5f\", \"arrowhead\": 0, \"arrowwidth\": 1}, \"autotypenumbers\": \"strict\", \"coloraxis\": {\"colorbar\": {\"outlinewidth\": 0, \"ticks\": \"\"}}, \"colorscale\": {\"diverging\": [[0, \"#8e0152\"], [0.1, \"#c51b7d\"], [0.2, \"#de77ae\"], [0.3, \"#f1b6da\"], [0.4, \"#fde0ef\"], [0.5, \"#f7f7f7\"], [0.6, \"#e6f5d0\"], [0.7, \"#b8e186\"], [0.8, \"#7fbc41\"], [0.9, \"#4d9221\"], [1, \"#276419\"]], \"sequential\": [[0.0, \"#0d0887\"], [0.1111111111111111, \"#46039f\"], [0.2222222222222222, \"#7201a8\"], [0.3333333333333333, \"#9c179e\"], [0.4444444444444444, \"#bd3786\"], [0.5555555555555556, \"#d8576b\"], [0.6666666666666666, \"#ed7953\"], [0.7777777777777778, \"#fb9f3a\"], [0.8888888888888888, \"#fdca26\"], [1.0, \"#f0f921\"]], \"sequentialminus\": [[0.0, \"#0d0887\"], [0.1111111111111111, \"#46039f\"], [0.2222222222222222, \"#7201a8\"], [0.3333333333333333, \"#9c179e\"], [0.4444444444444444, \"#bd3786\"], [0.5555555555555556, \"#d8576b\"], [0.6666666666666666, \"#ed7953\"], [0.7777777777777778, \"#fb9f3a\"], [0.8888888888888888, \"#fdca26\"], [1.0, \"#f0f921\"]]}, \"colorway\": [\"#636efa\", \"#EF553B\", \"#00cc96\", \"#ab63fa\", \"#FFA15A\", \"#19d3f3\", \"#FF6692\", \"#B6E880\", \"#FF97FF\", \"#FECB52\"], \"font\": {\"color\": \"#2a3f5f\"}, \"geo\": {\"bgcolor\": \"white\", \"lakecolor\": \"white\", \"landcolor\": \"#E5ECF6\", \"showlakes\": true, \"showland\": true, \"subunitcolor\": \"white\"}, \"hoverlabel\": {\"align\": \"left\"}, \"hovermode\": \"closest\", \"mapbox\": {\"style\": \"light\"}, \"paper_bgcolor\": \"white\", \"plot_bgcolor\": \"#E5ECF6\", \"polar\": {\"angularaxis\": {\"gridcolor\": \"white\", \"linecolor\": \"white\", \"ticks\": \"\"}, \"bgcolor\": \"#E5ECF6\", \"radialaxis\": {\"gridcolor\": \"white\", \"linecolor\": \"white\", \"ticks\": \"\"}}, \"scene\": {\"xaxis\": {\"backgroundcolor\": \"#E5ECF6\", \"gridcolor\": \"white\", \"gridwidth\": 2, \"linecolor\": \"white\", \"showbackground\": true, \"ticks\": \"\", \"zerolinecolor\": \"white\"}, \"yaxis\": {\"backgroundcolor\": \"#E5ECF6\", \"gridcolor\": \"white\", \"gridwidth\": 2, \"linecolor\": \"white\", \"showbackground\": true, \"ticks\": \"\", \"zerolinecolor\": \"white\"}, \"zaxis\": {\"backgroundcolor\": \"#E5ECF6\", \"gridcolor\": \"white\", \"gridwidth\": 2, \"linecolor\": \"white\", \"showbackground\": true, \"ticks\": \"\", \"zerolinecolor\": \"white\"}}, \"shapedefaults\": {\"line\": {\"color\": \"#2a3f5f\"}}, \"ternary\": {\"aaxis\": {\"gridcolor\": \"white\", \"linecolor\": \"white\", \"ticks\": \"\"}, \"baxis\": {\"gridcolor\": \"white\", \"linecolor\": \"white\", \"ticks\": \"\"}, \"bgcolor\": \"#E5ECF6\", \"caxis\": {\"gridcolor\": \"white\", \"linecolor\": \"white\", \"ticks\": \"\"}}, \"title\": {\"x\": 0.05}, \"xaxis\": {\"automargin\": true, \"gridcolor\": \"white\", \"linecolor\": \"white\", \"ticks\": \"\", \"title\": {\"standoff\": 15}, \"zerolinecolor\": \"white\", \"zerolinewidth\": 2}, \"yaxis\": {\"automargin\": true, \"gridcolor\": \"white\", \"linecolor\": \"white\", \"ticks\": \"\", \"title\": {\"standoff\": 15}, \"zerolinecolor\": \"white\", \"zerolinewidth\": 2}}}},                        {\"responsive\": true}                    ).then(function(){\n",
       "                            \n",
       "var gd = document.getElementById('b7b4a3d0-7f65-4fcb-935a-62c4ea021119');\n",
       "var x = new MutationObserver(function (mutations, observer) {{\n",
       "        var display = window.getComputedStyle(gd).display;\n",
       "        if (!display || display === 'none') {{\n",
       "            console.log([gd, 'removed!']);\n",
       "            Plotly.purge(gd);\n",
       "            observer.disconnect();\n",
       "        }}\n",
       "}});\n",
       "\n",
       "// Listen for the removal of the full notebook cells\n",
       "var notebookContainer = gd.closest('#notebook-container');\n",
       "if (notebookContainer) {{\n",
       "    x.observe(notebookContainer, {childList: true});\n",
       "}}\n",
       "\n",
       "// Listen for the clearing of the current output cell\n",
       "var outputEl = gd.closest('.output');\n",
       "if (outputEl) {{\n",
       "    x.observe(outputEl, {childList: true});\n",
       "}}\n",
       "\n",
       "                        })                };                });            </script>        </div>"
      ]
     },
     "metadata": {},
     "output_type": "display_data"
    }
   ],
   "source": [
    "l_cols_plot_raw_ = l_parallel_params + l_parallel_metrics_3k + l_parallel_metrics_4k\n",
    "l_cols_plot_clean_ = [rename_col_for_display(c) for c in l_cols_plot_raw_]\n",
    "df_plot_ = (\n",
    "    df_mlf_clustering_candidates[l_cols_plot_raw_]\n",
    "    .fillna({'params._pipe-reduce__n_components': 512})  # for SVD nulls\n",
    "    .rename(columns={c: rename_col_for_display(c) for c in l_cols_plot_raw_})\n",
    "    .reset_index(drop=True)\n",
    ")\n",
    "# remap cluster linkage so it shows up in plot\n",
    "col_linkage_clean = 'cluster linkage'\n",
    "col_affinity_clean = 'cluster affinity'\n",
    "col_comp_clean = 'reduce n components'\n",
    "df_plot_[col_linkage_clean] = df_plot_[col_linkage_clean].replace(d_linkage_to_num)\n",
    "df_plot_[col_affinity_clean] = df_plot_[col_affinity_clean].replace(d_affinity_to_num)\n",
    "df_plot_[col_comp_clean] = df_plot_[col_comp_clean].astype(int).replace(d_comp_to_num)\n",
    "print(f\"Linkage names:\\n  {d_num_to_linkage}\")\n",
    "print(f\"Affinity names:\\n  {d_num_to_affinity}\")\n",
    "print(f\"Component names:\\n  {d_num_to_comp}\")\n",
    "\n",
    "\n",
    "fig = px.parallel_coordinates(\n",
    "    df_plot_,\n",
    "    color=l_cols_plot_clean_[-1],\n",
    "    # dimensions=l_cols_plot_clean_,\n",
    "    # labels={},\n",
    "    # color_continuous_scale=px.colors.diverging.Tealrose,\n",
    "    # color_continuous_midpoint=2\n",
    ")\n",
    "fig.show()"
   ]
  },
  {
   "cell_type": "markdown",
   "id": "b0b55197",
   "metadata": {},
   "source": [
    "## Exclude runs lowest performing runs\n",
    "\n",
    "Remove the worst runs to better understand the parameters driving the high-value runs.\n",
    "\n",
    "remember to `.reset_index()` after flintering (before plotting)!"
   ]
  },
  {
   "cell_type": "code",
   "execution_count": 73,
   "id": "b6967988",
   "metadata": {},
   "outputs": [
    {
     "name": "stdout",
     "output_type": "stream",
     "text": [
      "Linkage names:\n",
      "  {4: 'ward', 3: 'complete', 2: 'average', 1: 'single'}\n",
      "Affinity names:\n",
      "  {2: 'cosine', 1: 'euclidean'}\n",
      "Component names:\n",
      "  {512: 'None', 2: 2, 50: 50}\n"
     ]
    },
    {
     "data": {
      "application/vnd.plotly.v1+json": {
       "config": {
        "plotlyServerURL": "https://plot.ly"
       },
       "data": [
        {
         "dimensions": [
          {
           "label": "subreddits",
           "values": [
            81815,
            81954,
            81815,
            81954,
            81970,
            81970,
            81815,
            81815,
            81954,
            81970,
            81970,
            81954,
            81815,
            81815,
            81954,
            81815,
            81815,
            81954,
            81954,
            81954,
            81970,
            81970,
            81970,
            81970
           ]
          },
          {
           "label": "reduce n components",
           "values": [
            128,
            512,
            512,
            128,
            128,
            512,
            512,
            128,
            128,
            512,
            128,
            512,
            128,
            512,
            128,
            512,
            128,
            128,
            512,
            512,
            128,
            128,
            512,
            512
           ]
          },
          {
           "label": "cluster affinity",
           "values": [
            1,
            1,
            1,
            1,
            1,
            1,
            2,
            2,
            2,
            2,
            2,
            2,
            1,
            1,
            1,
            1,
            1,
            1,
            1,
            1,
            1,
            1,
            1,
            1
           ]
          },
          {
           "label": "cluster linkage",
           "values": [
            3,
            3,
            3,
            3,
            3,
            3,
            3,
            3,
            3,
            3,
            3,
            3,
            4,
            4,
            4,
            4,
            4,
            4,
            4,
            4,
            4,
            4,
            4,
            4
           ]
          },
          {
           "label": "3000 to 3200<br>adjusted mutual info score<br>",
           "values": [
            0.6143713400885922,
            0.5986578803923088,
            0.5993741056416064,
            0.6124853193635572,
            0.6122787960857635,
            0.5985077639179036,
            0.62171441746608,
            0.6288049466242579,
            0.626297409510758,
            0.6207883034806398,
            0.626694370757468,
            0.6191231650788849,
            0.6360296390411417,
            0.6324632531211454,
            0.6349459834182147,
            0.6290969322951598,
            0.6332953907172227,
            0.6353725559250235,
            0.6315253659889273,
            0.6290375478975506,
            0.6350483063748217,
            0.6342206810441807,
            0.6318157887715392,
            0.6275761298101781
           ]
          },
          {
           "label": "3000 to 3200<br>f1 score<br>-weighted avg<br><br>",
           "values": [
            0.7240356057324793,
            0.7100151207066098,
            0.7103875362678801,
            0.7246162776574582,
            0.7243058602954516,
            0.709425185811324,
            0.7334660856270704,
            0.7390515272382391,
            0.735941539596964,
            0.7314741251825143,
            0.7381375994867163,
            0.729980453915611,
            0.7472527667666585,
            0.7465225961516153,
            0.7461426811366569,
            0.7431602778414048,
            0.7458143583317457,
            0.7478906386885954,
            0.7457378978470631,
            0.7429993239544437,
            0.7473393455305203,
            0.7455472801509231,
            0.7455012307744066,
            0.7412421009099283
           ]
          }
         ],
         "domain": {
          "x": [
           0,
           1
          ],
          "y": [
           0,
           1
          ]
         },
         "line": {
          "color": [
           0.7240356057324793,
           0.7100151207066098,
           0.7103875362678801,
           0.7246162776574582,
           0.7243058602954516,
           0.709425185811324,
           0.7334660856270704,
           0.7390515272382391,
           0.735941539596964,
           0.7314741251825143,
           0.7381375994867163,
           0.729980453915611,
           0.7472527667666585,
           0.7465225961516153,
           0.7461426811366569,
           0.7431602778414048,
           0.7458143583317457,
           0.7478906386885954,
           0.7457378978470631,
           0.7429993239544437,
           0.7473393455305203,
           0.7455472801509231,
           0.7455012307744066,
           0.7412421009099283
          ],
          "coloraxis": "coloraxis"
         },
         "name": "",
         "type": "parcoords"
        }
       ],
       "layout": {
        "autosize": true,
        "coloraxis": {
         "colorbar": {
          "title": {
           "text": "3000 to 3200<br>f1 score<br>-weighted avg<br><br>"
          }
         },
         "colorscale": [
          [
           0,
           "#0d0887"
          ],
          [
           0.1111111111111111,
           "#46039f"
          ],
          [
           0.2222222222222222,
           "#7201a8"
          ],
          [
           0.3333333333333333,
           "#9c179e"
          ],
          [
           0.4444444444444444,
           "#bd3786"
          ],
          [
           0.5555555555555556,
           "#d8576b"
          ],
          [
           0.6666666666666666,
           "#ed7953"
          ],
          [
           0.7777777777777778,
           "#fb9f3a"
          ],
          [
           0.8888888888888888,
           "#fdca26"
          ],
          [
           1,
           "#f0f921"
          ]
         ]
        },
        "legend": {
         "tracegroupgap": 0
        },
        "margin": {
         "t": 60
        },
        "template": {
         "data": {
          "bar": [
           {
            "error_x": {
             "color": "#2a3f5f"
            },
            "error_y": {
             "color": "#2a3f5f"
            },
            "marker": {
             "line": {
              "color": "#E5ECF6",
              "width": 0.5
             }
            },
            "type": "bar"
           }
          ],
          "barpolar": [
           {
            "marker": {
             "line": {
              "color": "#E5ECF6",
              "width": 0.5
             }
            },
            "type": "barpolar"
           }
          ],
          "carpet": [
           {
            "aaxis": {
             "endlinecolor": "#2a3f5f",
             "gridcolor": "white",
             "linecolor": "white",
             "minorgridcolor": "white",
             "startlinecolor": "#2a3f5f"
            },
            "baxis": {
             "endlinecolor": "#2a3f5f",
             "gridcolor": "white",
             "linecolor": "white",
             "minorgridcolor": "white",
             "startlinecolor": "#2a3f5f"
            },
            "type": "carpet"
           }
          ],
          "choropleth": [
           {
            "colorbar": {
             "outlinewidth": 0,
             "ticks": ""
            },
            "type": "choropleth"
           }
          ],
          "contour": [
           {
            "colorbar": {
             "outlinewidth": 0,
             "ticks": ""
            },
            "colorscale": [
             [
              0,
              "#0d0887"
             ],
             [
              0.1111111111111111,
              "#46039f"
             ],
             [
              0.2222222222222222,
              "#7201a8"
             ],
             [
              0.3333333333333333,
              "#9c179e"
             ],
             [
              0.4444444444444444,
              "#bd3786"
             ],
             [
              0.5555555555555556,
              "#d8576b"
             ],
             [
              0.6666666666666666,
              "#ed7953"
             ],
             [
              0.7777777777777778,
              "#fb9f3a"
             ],
             [
              0.8888888888888888,
              "#fdca26"
             ],
             [
              1,
              "#f0f921"
             ]
            ],
            "type": "contour"
           }
          ],
          "contourcarpet": [
           {
            "colorbar": {
             "outlinewidth": 0,
             "ticks": ""
            },
            "type": "contourcarpet"
           }
          ],
          "heatmap": [
           {
            "colorbar": {
             "outlinewidth": 0,
             "ticks": ""
            },
            "colorscale": [
             [
              0,
              "#0d0887"
             ],
             [
              0.1111111111111111,
              "#46039f"
             ],
             [
              0.2222222222222222,
              "#7201a8"
             ],
             [
              0.3333333333333333,
              "#9c179e"
             ],
             [
              0.4444444444444444,
              "#bd3786"
             ],
             [
              0.5555555555555556,
              "#d8576b"
             ],
             [
              0.6666666666666666,
              "#ed7953"
             ],
             [
              0.7777777777777778,
              "#fb9f3a"
             ],
             [
              0.8888888888888888,
              "#fdca26"
             ],
             [
              1,
              "#f0f921"
             ]
            ],
            "type": "heatmap"
           }
          ],
          "heatmapgl": [
           {
            "colorbar": {
             "outlinewidth": 0,
             "ticks": ""
            },
            "colorscale": [
             [
              0,
              "#0d0887"
             ],
             [
              0.1111111111111111,
              "#46039f"
             ],
             [
              0.2222222222222222,
              "#7201a8"
             ],
             [
              0.3333333333333333,
              "#9c179e"
             ],
             [
              0.4444444444444444,
              "#bd3786"
             ],
             [
              0.5555555555555556,
              "#d8576b"
             ],
             [
              0.6666666666666666,
              "#ed7953"
             ],
             [
              0.7777777777777778,
              "#fb9f3a"
             ],
             [
              0.8888888888888888,
              "#fdca26"
             ],
             [
              1,
              "#f0f921"
             ]
            ],
            "type": "heatmapgl"
           }
          ],
          "histogram": [
           {
            "marker": {
             "colorbar": {
              "outlinewidth": 0,
              "ticks": ""
             }
            },
            "type": "histogram"
           }
          ],
          "histogram2d": [
           {
            "colorbar": {
             "outlinewidth": 0,
             "ticks": ""
            },
            "colorscale": [
             [
              0,
              "#0d0887"
             ],
             [
              0.1111111111111111,
              "#46039f"
             ],
             [
              0.2222222222222222,
              "#7201a8"
             ],
             [
              0.3333333333333333,
              "#9c179e"
             ],
             [
              0.4444444444444444,
              "#bd3786"
             ],
             [
              0.5555555555555556,
              "#d8576b"
             ],
             [
              0.6666666666666666,
              "#ed7953"
             ],
             [
              0.7777777777777778,
              "#fb9f3a"
             ],
             [
              0.8888888888888888,
              "#fdca26"
             ],
             [
              1,
              "#f0f921"
             ]
            ],
            "type": "histogram2d"
           }
          ],
          "histogram2dcontour": [
           {
            "colorbar": {
             "outlinewidth": 0,
             "ticks": ""
            },
            "colorscale": [
             [
              0,
              "#0d0887"
             ],
             [
              0.1111111111111111,
              "#46039f"
             ],
             [
              0.2222222222222222,
              "#7201a8"
             ],
             [
              0.3333333333333333,
              "#9c179e"
             ],
             [
              0.4444444444444444,
              "#bd3786"
             ],
             [
              0.5555555555555556,
              "#d8576b"
             ],
             [
              0.6666666666666666,
              "#ed7953"
             ],
             [
              0.7777777777777778,
              "#fb9f3a"
             ],
             [
              0.8888888888888888,
              "#fdca26"
             ],
             [
              1,
              "#f0f921"
             ]
            ],
            "type": "histogram2dcontour"
           }
          ],
          "mesh3d": [
           {
            "colorbar": {
             "outlinewidth": 0,
             "ticks": ""
            },
            "type": "mesh3d"
           }
          ],
          "parcoords": [
           {
            "line": {
             "colorbar": {
              "outlinewidth": 0,
              "ticks": ""
             }
            },
            "type": "parcoords"
           }
          ],
          "pie": [
           {
            "automargin": true,
            "type": "pie"
           }
          ],
          "scatter": [
           {
            "marker": {
             "colorbar": {
              "outlinewidth": 0,
              "ticks": ""
             }
            },
            "type": "scatter"
           }
          ],
          "scatter3d": [
           {
            "line": {
             "colorbar": {
              "outlinewidth": 0,
              "ticks": ""
             }
            },
            "marker": {
             "colorbar": {
              "outlinewidth": 0,
              "ticks": ""
             }
            },
            "type": "scatter3d"
           }
          ],
          "scattercarpet": [
           {
            "marker": {
             "colorbar": {
              "outlinewidth": 0,
              "ticks": ""
             }
            },
            "type": "scattercarpet"
           }
          ],
          "scattergeo": [
           {
            "marker": {
             "colorbar": {
              "outlinewidth": 0,
              "ticks": ""
             }
            },
            "type": "scattergeo"
           }
          ],
          "scattergl": [
           {
            "marker": {
             "colorbar": {
              "outlinewidth": 0,
              "ticks": ""
             }
            },
            "type": "scattergl"
           }
          ],
          "scattermapbox": [
           {
            "marker": {
             "colorbar": {
              "outlinewidth": 0,
              "ticks": ""
             }
            },
            "type": "scattermapbox"
           }
          ],
          "scatterpolar": [
           {
            "marker": {
             "colorbar": {
              "outlinewidth": 0,
              "ticks": ""
             }
            },
            "type": "scatterpolar"
           }
          ],
          "scatterpolargl": [
           {
            "marker": {
             "colorbar": {
              "outlinewidth": 0,
              "ticks": ""
             }
            },
            "type": "scatterpolargl"
           }
          ],
          "scatterternary": [
           {
            "marker": {
             "colorbar": {
              "outlinewidth": 0,
              "ticks": ""
             }
            },
            "type": "scatterternary"
           }
          ],
          "surface": [
           {
            "colorbar": {
             "outlinewidth": 0,
             "ticks": ""
            },
            "colorscale": [
             [
              0,
              "#0d0887"
             ],
             [
              0.1111111111111111,
              "#46039f"
             ],
             [
              0.2222222222222222,
              "#7201a8"
             ],
             [
              0.3333333333333333,
              "#9c179e"
             ],
             [
              0.4444444444444444,
              "#bd3786"
             ],
             [
              0.5555555555555556,
              "#d8576b"
             ],
             [
              0.6666666666666666,
              "#ed7953"
             ],
             [
              0.7777777777777778,
              "#fb9f3a"
             ],
             [
              0.8888888888888888,
              "#fdca26"
             ],
             [
              1,
              "#f0f921"
             ]
            ],
            "type": "surface"
           }
          ],
          "table": [
           {
            "cells": {
             "fill": {
              "color": "#EBF0F8"
             },
             "line": {
              "color": "white"
             }
            },
            "header": {
             "fill": {
              "color": "#C8D4E3"
             },
             "line": {
              "color": "white"
             }
            },
            "type": "table"
           }
          ]
         },
         "layout": {
          "annotationdefaults": {
           "arrowcolor": "#2a3f5f",
           "arrowhead": 0,
           "arrowwidth": 1
          },
          "autotypenumbers": "strict",
          "coloraxis": {
           "colorbar": {
            "outlinewidth": 0,
            "ticks": ""
           }
          },
          "colorscale": {
           "diverging": [
            [
             0,
             "#8e0152"
            ],
            [
             0.1,
             "#c51b7d"
            ],
            [
             0.2,
             "#de77ae"
            ],
            [
             0.3,
             "#f1b6da"
            ],
            [
             0.4,
             "#fde0ef"
            ],
            [
             0.5,
             "#f7f7f7"
            ],
            [
             0.6,
             "#e6f5d0"
            ],
            [
             0.7,
             "#b8e186"
            ],
            [
             0.8,
             "#7fbc41"
            ],
            [
             0.9,
             "#4d9221"
            ],
            [
             1,
             "#276419"
            ]
           ],
           "sequential": [
            [
             0,
             "#0d0887"
            ],
            [
             0.1111111111111111,
             "#46039f"
            ],
            [
             0.2222222222222222,
             "#7201a8"
            ],
            [
             0.3333333333333333,
             "#9c179e"
            ],
            [
             0.4444444444444444,
             "#bd3786"
            ],
            [
             0.5555555555555556,
             "#d8576b"
            ],
            [
             0.6666666666666666,
             "#ed7953"
            ],
            [
             0.7777777777777778,
             "#fb9f3a"
            ],
            [
             0.8888888888888888,
             "#fdca26"
            ],
            [
             1,
             "#f0f921"
            ]
           ],
           "sequentialminus": [
            [
             0,
             "#0d0887"
            ],
            [
             0.1111111111111111,
             "#46039f"
            ],
            [
             0.2222222222222222,
             "#7201a8"
            ],
            [
             0.3333333333333333,
             "#9c179e"
            ],
            [
             0.4444444444444444,
             "#bd3786"
            ],
            [
             0.5555555555555556,
             "#d8576b"
            ],
            [
             0.6666666666666666,
             "#ed7953"
            ],
            [
             0.7777777777777778,
             "#fb9f3a"
            ],
            [
             0.8888888888888888,
             "#fdca26"
            ],
            [
             1,
             "#f0f921"
            ]
           ]
          },
          "colorway": [
           "#636efa",
           "#EF553B",
           "#00cc96",
           "#ab63fa",
           "#FFA15A",
           "#19d3f3",
           "#FF6692",
           "#B6E880",
           "#FF97FF",
           "#FECB52"
          ],
          "font": {
           "color": "#2a3f5f"
          },
          "geo": {
           "bgcolor": "white",
           "lakecolor": "white",
           "landcolor": "#E5ECF6",
           "showlakes": true,
           "showland": true,
           "subunitcolor": "white"
          },
          "hoverlabel": {
           "align": "left"
          },
          "hovermode": "closest",
          "mapbox": {
           "style": "light"
          },
          "paper_bgcolor": "white",
          "plot_bgcolor": "#E5ECF6",
          "polar": {
           "angularaxis": {
            "gridcolor": "white",
            "linecolor": "white",
            "ticks": ""
           },
           "bgcolor": "#E5ECF6",
           "radialaxis": {
            "gridcolor": "white",
            "linecolor": "white",
            "ticks": ""
           }
          },
          "scene": {
           "xaxis": {
            "backgroundcolor": "#E5ECF6",
            "gridcolor": "white",
            "gridwidth": 2,
            "linecolor": "white",
            "showbackground": true,
            "ticks": "",
            "zerolinecolor": "white"
           },
           "yaxis": {
            "backgroundcolor": "#E5ECF6",
            "gridcolor": "white",
            "gridwidth": 2,
            "linecolor": "white",
            "showbackground": true,
            "ticks": "",
            "zerolinecolor": "white"
           },
           "zaxis": {
            "backgroundcolor": "#E5ECF6",
            "gridcolor": "white",
            "gridwidth": 2,
            "linecolor": "white",
            "showbackground": true,
            "ticks": "",
            "zerolinecolor": "white"
           }
          },
          "shapedefaults": {
           "line": {
            "color": "#2a3f5f"
           }
          },
          "ternary": {
           "aaxis": {
            "gridcolor": "white",
            "linecolor": "white",
            "ticks": ""
           },
           "baxis": {
            "gridcolor": "white",
            "linecolor": "white",
            "ticks": ""
           },
           "bgcolor": "#E5ECF6",
           "caxis": {
            "gridcolor": "white",
            "linecolor": "white",
            "ticks": ""
           }
          },
          "title": {
           "x": 0.05
          },
          "xaxis": {
           "automargin": true,
           "gridcolor": "white",
           "linecolor": "white",
           "ticks": "",
           "title": {
            "standoff": 15
           },
           "zerolinecolor": "white",
           "zerolinewidth": 2
          },
          "yaxis": {
           "automargin": true,
           "gridcolor": "white",
           "linecolor": "white",
           "ticks": "",
           "title": {
            "standoff": 15
           },
           "zerolinecolor": "white",
           "zerolinewidth": 2
          }
         }
        }
       }
      },
      "image/png": "[encoded data removed]",
      "text/html": [
       "<div>                            <div id=\"abdb42de-d55b-41ad-85f9-9e3b726909c9\" class=\"plotly-graph-div\" style=\"height:525px; width:100%;\"></div>            <script type=\"text/javascript\">                require([\"plotly\"], function(Plotly) {                    window.PLOTLYENV=window.PLOTLYENV || {};                                    if (document.getElementById(\"abdb42de-d55b-41ad-85f9-9e3b726909c9\")) {                    Plotly.newPlot(                        \"abdb42de-d55b-41ad-85f9-9e3b726909c9\",                        [{\"dimensions\": [{\"label\": \"subreddits\", \"values\": [81815.0, 81954.0, 81815.0, 81954.0, 81970.0, 81970.0, 81815.0, 81815.0, 81954.0, 81970.0, 81970.0, 81954.0, 81815.0, 81815.0, 81954.0, 81815.0, 81815.0, 81954.0, 81954.0, 81954.0, 81970.0, 81970.0, 81970.0, 81970.0]}, {\"label\": \"reduce n components\", \"values\": [128, 512, 512, 128, 128, 512, 512, 128, 128, 512, 128, 512, 128, 512, 128, 512, 128, 128, 512, 512, 128, 128, 512, 512]}, {\"label\": \"cluster affinity\", \"values\": [1, 1, 1, 1, 1, 1, 2, 2, 2, 2, 2, 2, 1, 1, 1, 1, 1, 1, 1, 1, 1, 1, 1, 1]}, {\"label\": \"cluster linkage\", \"values\": [3, 3, 3, 3, 3, 3, 3, 3, 3, 3, 3, 3, 4, 4, 4, 4, 4, 4, 4, 4, 4, 4, 4, 4]}, {\"label\": \"3000 to 3200<br>adjusted mutual info score<br>\", \"values\": [0.6143713400885922, 0.5986578803923088, 0.5993741056416064, 0.6124853193635572, 0.6122787960857635, 0.5985077639179036, 0.62171441746608, 0.6288049466242579, 0.626297409510758, 0.6207883034806398, 0.626694370757468, 0.6191231650788849, 0.6360296390411417, 0.6324632531211454, 0.6349459834182147, 0.6290969322951598, 0.6332953907172227, 0.6353725559250235, 0.6315253659889273, 0.6290375478975506, 0.6350483063748217, 0.6342206810441807, 0.6318157887715392, 0.6275761298101781]}, {\"label\": \"3000 to 3200<br>f1 score<br>-weighted avg<br><br>\", \"values\": [0.7240356057324793, 0.7100151207066098, 0.7103875362678801, 0.7246162776574582, 0.7243058602954516, 0.709425185811324, 0.7334660856270704, 0.7390515272382391, 0.735941539596964, 0.7314741251825143, 0.7381375994867163, 0.729980453915611, 0.7472527667666585, 0.7465225961516153, 0.7461426811366569, 0.7431602778414048, 0.7458143583317457, 0.7478906386885954, 0.7457378978470631, 0.7429993239544437, 0.7473393455305203, 0.7455472801509231, 0.7455012307744066, 0.7412421009099283]}], \"domain\": {\"x\": [0.0, 1.0], \"y\": [0.0, 1.0]}, \"line\": {\"color\": [0.7240356057324793, 0.7100151207066098, 0.7103875362678801, 0.7246162776574582, 0.7243058602954516, 0.709425185811324, 0.7334660856270704, 0.7390515272382391, 0.735941539596964, 0.7314741251825143, 0.7381375994867163, 0.729980453915611, 0.7472527667666585, 0.7465225961516153, 0.7461426811366569, 0.7431602778414048, 0.7458143583317457, 0.7478906386885954, 0.7457378978470631, 0.7429993239544437, 0.7473393455305203, 0.7455472801509231, 0.7455012307744066, 0.7412421009099283], \"coloraxis\": \"coloraxis\"}, \"name\": \"\", \"type\": \"parcoords\"}],                        {\"coloraxis\": {\"colorbar\": {\"title\": {\"text\": \"3000 to 3200<br>f1 score<br>-weighted avg<br><br>\"}}, \"colorscale\": [[0.0, \"#0d0887\"], [0.1111111111111111, \"#46039f\"], [0.2222222222222222, \"#7201a8\"], [0.3333333333333333, \"#9c179e\"], [0.4444444444444444, \"#bd3786\"], [0.5555555555555556, \"#d8576b\"], [0.6666666666666666, \"#ed7953\"], [0.7777777777777778, \"#fb9f3a\"], [0.8888888888888888, \"#fdca26\"], [1.0, \"#f0f921\"]]}, \"legend\": {\"tracegroupgap\": 0}, \"margin\": {\"t\": 60}, \"template\": {\"data\": {\"bar\": [{\"error_x\": {\"color\": \"#2a3f5f\"}, \"error_y\": {\"color\": \"#2a3f5f\"}, \"marker\": {\"line\": {\"color\": \"#E5ECF6\", \"width\": 0.5}}, \"type\": \"bar\"}], \"barpolar\": [{\"marker\": {\"line\": {\"color\": \"#E5ECF6\", \"width\": 0.5}}, \"type\": \"barpolar\"}], \"carpet\": [{\"aaxis\": {\"endlinecolor\": \"#2a3f5f\", \"gridcolor\": \"white\", \"linecolor\": \"white\", \"minorgridcolor\": \"white\", \"startlinecolor\": \"#2a3f5f\"}, \"baxis\": {\"endlinecolor\": \"#2a3f5f\", \"gridcolor\": \"white\", \"linecolor\": \"white\", \"minorgridcolor\": \"white\", \"startlinecolor\": \"#2a3f5f\"}, \"type\": \"carpet\"}], \"choropleth\": [{\"colorbar\": {\"outlinewidth\": 0, \"ticks\": \"\"}, \"type\": \"choropleth\"}], \"contour\": [{\"colorbar\": {\"outlinewidth\": 0, \"ticks\": \"\"}, \"colorscale\": [[0.0, \"#0d0887\"], [0.1111111111111111, \"#46039f\"], [0.2222222222222222, \"#7201a8\"], [0.3333333333333333, \"#9c179e\"], [0.4444444444444444, \"#bd3786\"], [0.5555555555555556, \"#d8576b\"], [0.6666666666666666, \"#ed7953\"], [0.7777777777777778, \"#fb9f3a\"], [0.8888888888888888, \"#fdca26\"], [1.0, \"#f0f921\"]], \"type\": \"contour\"}], \"contourcarpet\": [{\"colorbar\": {\"outlinewidth\": 0, \"ticks\": \"\"}, \"type\": \"contourcarpet\"}], \"heatmap\": [{\"colorbar\": {\"outlinewidth\": 0, \"ticks\": \"\"}, \"colorscale\": [[0.0, \"#0d0887\"], [0.1111111111111111, \"#46039f\"], [0.2222222222222222, \"#7201a8\"], [0.3333333333333333, \"#9c179e\"], [0.4444444444444444, \"#bd3786\"], [0.5555555555555556, \"#d8576b\"], [0.6666666666666666, \"#ed7953\"], [0.7777777777777778, \"#fb9f3a\"], [0.8888888888888888, \"#fdca26\"], [1.0, \"#f0f921\"]], \"type\": \"heatmap\"}], \"heatmapgl\": [{\"colorbar\": {\"outlinewidth\": 0, \"ticks\": \"\"}, \"colorscale\": [[0.0, \"#0d0887\"], [0.1111111111111111, \"#46039f\"], [0.2222222222222222, \"#7201a8\"], [0.3333333333333333, \"#9c179e\"], [0.4444444444444444, \"#bd3786\"], [0.5555555555555556, \"#d8576b\"], [0.6666666666666666, \"#ed7953\"], [0.7777777777777778, \"#fb9f3a\"], [0.8888888888888888, \"#fdca26\"], [1.0, \"#f0f921\"]], \"type\": \"heatmapgl\"}], \"histogram\": [{\"marker\": {\"colorbar\": {\"outlinewidth\": 0, \"ticks\": \"\"}}, \"type\": \"histogram\"}], \"histogram2d\": [{\"colorbar\": {\"outlinewidth\": 0, \"ticks\": \"\"}, \"colorscale\": [[0.0, \"#0d0887\"], [0.1111111111111111, \"#46039f\"], [0.2222222222222222, \"#7201a8\"], [0.3333333333333333, \"#9c179e\"], [0.4444444444444444, \"#bd3786\"], [0.5555555555555556, \"#d8576b\"], [0.6666666666666666, \"#ed7953\"], [0.7777777777777778, \"#fb9f3a\"], [0.8888888888888888, \"#fdca26\"], [1.0, \"#f0f921\"]], \"type\": \"histogram2d\"}], \"histogram2dcontour\": [{\"colorbar\": {\"outlinewidth\": 0, \"ticks\": \"\"}, \"colorscale\": [[0.0, \"#0d0887\"], [0.1111111111111111, \"#46039f\"], [0.2222222222222222, \"#7201a8\"], [0.3333333333333333, \"#9c179e\"], [0.4444444444444444, \"#bd3786\"], [0.5555555555555556, \"#d8576b\"], [0.6666666666666666, \"#ed7953\"], [0.7777777777777778, \"#fb9f3a\"], [0.8888888888888888, \"#fdca26\"], [1.0, \"#f0f921\"]], \"type\": \"histogram2dcontour\"}], \"mesh3d\": [{\"colorbar\": {\"outlinewidth\": 0, \"ticks\": \"\"}, \"type\": \"mesh3d\"}], \"parcoords\": [{\"line\": {\"colorbar\": {\"outlinewidth\": 0, \"ticks\": \"\"}}, \"type\": \"parcoords\"}], \"pie\": [{\"automargin\": true, \"type\": \"pie\"}], \"scatter\": [{\"marker\": {\"colorbar\": {\"outlinewidth\": 0, \"ticks\": \"\"}}, \"type\": \"scatter\"}], \"scatter3d\": [{\"line\": {\"colorbar\": {\"outlinewidth\": 0, \"ticks\": \"\"}}, \"marker\": {\"colorbar\": {\"outlinewidth\": 0, \"ticks\": \"\"}}, \"type\": \"scatter3d\"}], \"scattercarpet\": [{\"marker\": {\"colorbar\": {\"outlinewidth\": 0, \"ticks\": \"\"}}, \"type\": \"scattercarpet\"}], \"scattergeo\": [{\"marker\": {\"colorbar\": {\"outlinewidth\": 0, \"ticks\": \"\"}}, \"type\": \"scattergeo\"}], \"scattergl\": [{\"marker\": {\"colorbar\": {\"outlinewidth\": 0, \"ticks\": \"\"}}, \"type\": \"scattergl\"}], \"scattermapbox\": [{\"marker\": {\"colorbar\": {\"outlinewidth\": 0, \"ticks\": \"\"}}, \"type\": \"scattermapbox\"}], \"scatterpolar\": [{\"marker\": {\"colorbar\": {\"outlinewidth\": 0, \"ticks\": \"\"}}, \"type\": \"scatterpolar\"}], \"scatterpolargl\": [{\"marker\": {\"colorbar\": {\"outlinewidth\": 0, \"ticks\": \"\"}}, \"type\": \"scatterpolargl\"}], \"scatterternary\": [{\"marker\": {\"colorbar\": {\"outlinewidth\": 0, \"ticks\": \"\"}}, \"type\": \"scatterternary\"}], \"surface\": [{\"colorbar\": {\"outlinewidth\": 0, \"ticks\": \"\"}, \"colorscale\": [[0.0, \"#0d0887\"], [0.1111111111111111, \"#46039f\"], [0.2222222222222222, \"#7201a8\"], [0.3333333333333333, \"#9c179e\"], [0.4444444444444444, \"#bd3786\"], [0.5555555555555556, \"#d8576b\"], [0.6666666666666666, \"#ed7953\"], [0.7777777777777778, \"#fb9f3a\"], [0.8888888888888888, \"#fdca26\"], [1.0, \"#f0f921\"]], \"type\": \"surface\"}], \"table\": [{\"cells\": {\"fill\": {\"color\": \"#EBF0F8\"}, \"line\": {\"color\": \"white\"}}, \"header\": {\"fill\": {\"color\": \"#C8D4E3\"}, \"line\": {\"color\": \"white\"}}, \"type\": \"table\"}]}, \"layout\": {\"annotationdefaults\": {\"arrowcolor\": \"#2a3f5f\", \"arrowhead\": 0, \"arrowwidth\": 1}, \"autotypenumbers\": \"strict\", \"coloraxis\": {\"colorbar\": {\"outlinewidth\": 0, \"ticks\": \"\"}}, \"colorscale\": {\"diverging\": [[0, \"#8e0152\"], [0.1, \"#c51b7d\"], [0.2, \"#de77ae\"], [0.3, \"#f1b6da\"], [0.4, \"#fde0ef\"], [0.5, \"#f7f7f7\"], [0.6, \"#e6f5d0\"], [0.7, \"#b8e186\"], [0.8, \"#7fbc41\"], [0.9, \"#4d9221\"], [1, \"#276419\"]], \"sequential\": [[0.0, \"#0d0887\"], [0.1111111111111111, \"#46039f\"], [0.2222222222222222, \"#7201a8\"], [0.3333333333333333, \"#9c179e\"], [0.4444444444444444, \"#bd3786\"], [0.5555555555555556, \"#d8576b\"], [0.6666666666666666, \"#ed7953\"], [0.7777777777777778, \"#fb9f3a\"], [0.8888888888888888, \"#fdca26\"], [1.0, \"#f0f921\"]], \"sequentialminus\": [[0.0, \"#0d0887\"], [0.1111111111111111, \"#46039f\"], [0.2222222222222222, \"#7201a8\"], [0.3333333333333333, \"#9c179e\"], [0.4444444444444444, \"#bd3786\"], [0.5555555555555556, \"#d8576b\"], [0.6666666666666666, \"#ed7953\"], [0.7777777777777778, \"#fb9f3a\"], [0.8888888888888888, \"#fdca26\"], [1.0, \"#f0f921\"]]}, \"colorway\": [\"#636efa\", \"#EF553B\", \"#00cc96\", \"#ab63fa\", \"#FFA15A\", \"#19d3f3\", \"#FF6692\", \"#B6E880\", \"#FF97FF\", \"#FECB52\"], \"font\": {\"color\": \"#2a3f5f\"}, \"geo\": {\"bgcolor\": \"white\", \"lakecolor\": \"white\", \"landcolor\": \"#E5ECF6\", \"showlakes\": true, \"showland\": true, \"subunitcolor\": \"white\"}, \"hoverlabel\": {\"align\": \"left\"}, \"hovermode\": \"closest\", \"mapbox\": {\"style\": \"light\"}, \"paper_bgcolor\": \"white\", \"plot_bgcolor\": \"#E5ECF6\", \"polar\": {\"angularaxis\": {\"gridcolor\": \"white\", \"linecolor\": \"white\", \"ticks\": \"\"}, \"bgcolor\": \"#E5ECF6\", \"radialaxis\": {\"gridcolor\": \"white\", \"linecolor\": \"white\", \"ticks\": \"\"}}, \"scene\": {\"xaxis\": {\"backgroundcolor\": \"#E5ECF6\", \"gridcolor\": \"white\", \"gridwidth\": 2, \"linecolor\": \"white\", \"showbackground\": true, \"ticks\": \"\", \"zerolinecolor\": \"white\"}, \"yaxis\": {\"backgroundcolor\": \"#E5ECF6\", \"gridcolor\": \"white\", \"gridwidth\": 2, \"linecolor\": \"white\", \"showbackground\": true, \"ticks\": \"\", \"zerolinecolor\": \"white\"}, \"zaxis\": {\"backgroundcolor\": \"#E5ECF6\", \"gridcolor\": \"white\", \"gridwidth\": 2, \"linecolor\": \"white\", \"showbackground\": true, \"ticks\": \"\", \"zerolinecolor\": \"white\"}}, \"shapedefaults\": {\"line\": {\"color\": \"#2a3f5f\"}}, \"ternary\": {\"aaxis\": {\"gridcolor\": \"white\", \"linecolor\": \"white\", \"ticks\": \"\"}, \"baxis\": {\"gridcolor\": \"white\", \"linecolor\": \"white\", \"ticks\": \"\"}, \"bgcolor\": \"#E5ECF6\", \"caxis\": {\"gridcolor\": \"white\", \"linecolor\": \"white\", \"ticks\": \"\"}}, \"title\": {\"x\": 0.05}, \"xaxis\": {\"automargin\": true, \"gridcolor\": \"white\", \"linecolor\": \"white\", \"ticks\": \"\", \"title\": {\"standoff\": 15}, \"zerolinecolor\": \"white\", \"zerolinewidth\": 2}, \"yaxis\": {\"automargin\": true, \"gridcolor\": \"white\", \"linecolor\": \"white\", \"ticks\": \"\", \"title\": {\"standoff\": 15}, \"zerolinecolor\": \"white\", \"zerolinewidth\": 2}}}},                        {\"responsive\": true}                    ).then(function(){\n",
       "                            \n",
       "var gd = document.getElementById('abdb42de-d55b-41ad-85f9-9e3b726909c9');\n",
       "var x = new MutationObserver(function (mutations, observer) {{\n",
       "        var display = window.getComputedStyle(gd).display;\n",
       "        if (!display || display === 'none') {{\n",
       "            console.log([gd, 'removed!']);\n",
       "            Plotly.purge(gd);\n",
       "            observer.disconnect();\n",
       "        }}\n",
       "}});\n",
       "\n",
       "// Listen for the removal of the full notebook cells\n",
       "var notebookContainer = gd.closest('#notebook-container');\n",
       "if (notebookContainer) {{\n",
       "    x.observe(notebookContainer, {childList: true});\n",
       "}}\n",
       "\n",
       "// Listen for the clearing of the current output cell\n",
       "var outputEl = gd.closest('.output');\n",
       "if (outputEl) {{\n",
       "    x.observe(outputEl, {childList: true});\n",
       "}}\n",
       "\n",
       "                        })                };                });            </script>        </div>"
      ]
     },
     "metadata": {},
     "output_type": "display_data"
    },
    {
     "data": {
      "text/html": [
       "<div>\n",
       "<style scoped>\n",
       "    .dataframe tbody tr th:only-of-type {\n",
       "        vertical-align: middle;\n",
       "    }\n",
       "\n",
       "    .dataframe tbody tr th {\n",
       "        vertical-align: top;\n",
       "    }\n",
       "\n",
       "    .dataframe thead th {\n",
       "        text-align: right;\n",
       "    }\n",
       "</style>\n",
       "<table border=\"1\" class=\"dataframe\">\n",
       "  <thead>\n",
       "    <tr style=\"text-align: right;\">\n",
       "      <th></th>\n",
       "      <th>3000 to 3200&lt;br&gt;adjusted mutual info score&lt;br&gt;</th>\n",
       "      <th>3000 to 3200&lt;br&gt;f1 score&lt;br&gt;-weighted avg&lt;br&gt;&lt;br&gt;</th>\n",
       "    </tr>\n",
       "    <tr>\n",
       "      <th>cluster linkage</th>\n",
       "      <th></th>\n",
       "      <th></th>\n",
       "    </tr>\n",
       "  </thead>\n",
       "  <tbody>\n",
       "    <tr>\n",
       "      <th>3</th>\n",
       "      <td>0.614925</td>\n",
       "      <td>0.725903</td>\n",
       "    </tr>\n",
       "    <tr>\n",
       "      <th>4</th>\n",
       "      <td>0.632536</td>\n",
       "      <td>0.745429</td>\n",
       "    </tr>\n",
       "  </tbody>\n",
       "</table>\n",
       "</div>"
      ],
      "text/plain": [
       "                 3000 to 3200<br>adjusted mutual info score<br>  3000 to 3200<br>f1 score<br>-weighted avg<br><br>\n",
       "cluster linkage                                                                                                   \n",
       "3                                                      0.614925                                           0.725903\n",
       "4                                                      0.632536                                           0.745429"
      ]
     },
     "metadata": {},
     "output_type": "display_data"
    }
   ],
   "source": [
    "l_cols_plot_raw_ = l_parallel_params + l_parallel_metrics_3k\n",
    "l_cols_plot_clean_ = [rename_col_for_display(c) for c in l_cols_plot_raw_]\n",
    "df_plot_ = (\n",
    "    df_mlf_clustering_candidates\n",
    "    [l_cols_plot_raw_]\n",
    "    .fillna({'params._pipe-reduce__n_components': 512, 'params._pipe-normalize__norm': 'None'})  # for SVD nulls & norm nulls\n",
    "    .rename(columns={c: rename_col_for_display(c) for c in l_cols_plot_raw_})\n",
    "    .reset_index(drop=True)\n",
    "    .copy()\n",
    ")\n",
    "# remap cluster linkage so it shows up in plot\n",
    "col_linkage_clean = 'cluster linkage'\n",
    "col_affinity_clean = 'cluster affinity'\n",
    "col_comp_clean = 'reduce n components'\n",
    "\n",
    "df_plot_[col_linkage_clean] = df_plot_[col_linkage_clean].replace(d_linkage_to_num)\n",
    "df_plot_[col_affinity_clean] = df_plot_[col_affinity_clean].replace(d_affinity_to_num)\n",
    "df_plot_[col_comp_clean] = df_plot_[col_comp_clean].astype(int).replace(d_comp_to_num)\n",
    "print(f\"Linkage names:\\n  {d_num_to_linkage}\")\n",
    "print(f\"Affinity names:\\n  {d_num_to_affinity}\")\n",
    "print(f\"Component names:\\n  {d_num_to_comp}\")\n",
    "\n",
    "# apply filters\n",
    "df_plot_ = df_plot_[df_plot_[col_linkage_clean] != d_linkage_to_num['average']].reset_index(drop=True)\n",
    "# df_plot_ = df_plot_[df_plot_[col_comp_clean] != 2].reset_index(drop=True)\n",
    "\n",
    "fig = px.parallel_coordinates(\n",
    "    df_plot_,\n",
    "    color=l_cols_plot_clean_[-1],\n",
    "    # dimensions=l_cols_plot_clean_,\n",
    "    # labels={},\n",
    "    # color_continuous_scale=px.colors.diverging.Tealrose,\n",
    "    # color_continuous_midpoint=2\n",
    ")\n",
    "fig.show()\n",
    "\n",
    "display(\n",
    "    df_plot_.groupby([col_linkage_clean])[l_cols_plot_clean_[-2:]].mean()\n",
    ")"
   ]
  },
  {
   "cell_type": "markdown",
   "id": "e1cbd46d",
   "metadata": {},
   "source": [
    "### Filter to only runs with over 49k rows\n",
    "\n",
    "Focus on these because we'd prefer a model with more coverage"
   ]
  },
  {
   "cell_type": "code",
   "execution_count": 77,
   "id": "adcd712d",
   "metadata": {},
   "outputs": [
    {
     "name": "stdout",
     "output_type": "stream",
     "text": [
      "Linkage names:\n",
      "  {4: 'ward', 3: 'complete', 2: 'average', 1: 'single'}\n",
      "Affinity names:\n",
      "  {2: 'cosine', 1: 'euclidean'}\n",
      "Component names:\n",
      "  {512: 'None', 2: 2, 50: 50}\n",
      "(12, 9)\n"
     ]
    },
    {
     "data": {
      "application/vnd.plotly.v1+json": {
       "config": {
        "plotlyServerURL": "https://plot.ly"
       },
       "data": [
        {
         "dimensions": [
          {
           "label": "subreddits",
           "values": [
            81954,
            81970,
            81970,
            81954,
            81954,
            81954,
            81954,
            81954,
            81970,
            81970,
            81970,
            81970
           ]
          },
          {
           "label": "reduce n components",
           "values": [
            128,
            512,
            128,
            512,
            128,
            128,
            512,
            512,
            128,
            128,
            512,
            512
           ]
          },
          {
           "label": "cluster affinity",
           "values": [
            2,
            2,
            2,
            2,
            1,
            1,
            1,
            1,
            1,
            1,
            1,
            1
           ]
          },
          {
           "label": "cluster linkage",
           "values": [
            3,
            3,
            3,
            3,
            4,
            4,
            4,
            4,
            4,
            4,
            4,
            4
           ]
          },
          {
           "label": "3000 to 3200<br>adjusted mutual info score<br>",
           "values": [
            0.626297409510758,
            0.6207883034806398,
            0.626694370757468,
            0.6191231650788849,
            0.6349459834182147,
            0.6353725559250235,
            0.6315253659889273,
            0.6290375478975506,
            0.6350483063748217,
            0.6342206810441807,
            0.6318157887715392,
            0.6275761298101781
           ]
          },
          {
           "label": "3000 to 3200<br>f1 score<br>-weighted avg<br><br>",
           "values": [
            0.735941539596964,
            0.7314741251825143,
            0.7381375994867163,
            0.729980453915611,
            0.7461426811366569,
            0.7478906386885954,
            0.7457378978470631,
            0.7429993239544437,
            0.7473393455305203,
            0.7455472801509231,
            0.7455012307744066,
            0.7412421009099283
           ]
          },
          {
           "label": "3900 to 4000<br>adjusted mutual info score<br>",
           "values": [
            0.6374262755757241,
            0.6295062151971255,
            0.6352705989409783,
            0.6300330575913751,
            0.6408099377184707,
            0.6439206912491872,
            0.6397215362655803,
            0.6362237947185876,
            0.642998975437801,
            0.6398465298564743,
            0.6398602640046062,
            0.6363313598953364
           ]
          },
          {
           "label": "3900 to 4000<br>f1 score<br>-weighted avg<br><br>",
           "values": [
            0.7465778731294163,
            0.74027013963226,
            0.7465490549411407,
            0.7410021546618025,
            0.7522396695324647,
            0.7563892571804949,
            0.7538901346672766,
            0.7497720211750244,
            0.7556798029757157,
            0.7515582281188429,
            0.7539841662529483,
            0.7497319031814821
           ]
          }
         ],
         "domain": {
          "x": [
           0,
           1
          ],
          "y": [
           0,
           1
          ]
         },
         "line": {
          "color": [
           0.7465778731294163,
           0.74027013963226,
           0.7465490549411407,
           0.7410021546618025,
           0.7522396695324647,
           0.7563892571804949,
           0.7538901346672766,
           0.7497720211750244,
           0.7556798029757157,
           0.7515582281188429,
           0.7539841662529483,
           0.7497319031814821
          ],
          "coloraxis": "coloraxis"
         },
         "name": "",
         "type": "parcoords"
        }
       ],
       "layout": {
        "autosize": true,
        "coloraxis": {
         "colorbar": {
          "title": {
           "text": "3900 to 4000<br>f1 score<br>-weighted avg<br><br>"
          }
         },
         "colorscale": [
          [
           0,
           "#0d0887"
          ],
          [
           0.1111111111111111,
           "#46039f"
          ],
          [
           0.2222222222222222,
           "#7201a8"
          ],
          [
           0.3333333333333333,
           "#9c179e"
          ],
          [
           0.4444444444444444,
           "#bd3786"
          ],
          [
           0.5555555555555556,
           "#d8576b"
          ],
          [
           0.6666666666666666,
           "#ed7953"
          ],
          [
           0.7777777777777778,
           "#fb9f3a"
          ],
          [
           0.8888888888888888,
           "#fdca26"
          ],
          [
           1,
           "#f0f921"
          ]
         ]
        },
        "legend": {
         "tracegroupgap": 0
        },
        "margin": {
         "t": 60
        },
        "template": {
         "data": {
          "bar": [
           {
            "error_x": {
             "color": "#2a3f5f"
            },
            "error_y": {
             "color": "#2a3f5f"
            },
            "marker": {
             "line": {
              "color": "#E5ECF6",
              "width": 0.5
             }
            },
            "type": "bar"
           }
          ],
          "barpolar": [
           {
            "marker": {
             "line": {
              "color": "#E5ECF6",
              "width": 0.5
             }
            },
            "type": "barpolar"
           }
          ],
          "carpet": [
           {
            "aaxis": {
             "endlinecolor": "#2a3f5f",
             "gridcolor": "white",
             "linecolor": "white",
             "minorgridcolor": "white",
             "startlinecolor": "#2a3f5f"
            },
            "baxis": {
             "endlinecolor": "#2a3f5f",
             "gridcolor": "white",
             "linecolor": "white",
             "minorgridcolor": "white",
             "startlinecolor": "#2a3f5f"
            },
            "type": "carpet"
           }
          ],
          "choropleth": [
           {
            "colorbar": {
             "outlinewidth": 0,
             "ticks": ""
            },
            "type": "choropleth"
           }
          ],
          "contour": [
           {
            "colorbar": {
             "outlinewidth": 0,
             "ticks": ""
            },
            "colorscale": [
             [
              0,
              "#0d0887"
             ],
             [
              0.1111111111111111,
              "#46039f"
             ],
             [
              0.2222222222222222,
              "#7201a8"
             ],
             [
              0.3333333333333333,
              "#9c179e"
             ],
             [
              0.4444444444444444,
              "#bd3786"
             ],
             [
              0.5555555555555556,
              "#d8576b"
             ],
             [
              0.6666666666666666,
              "#ed7953"
             ],
             [
              0.7777777777777778,
              "#fb9f3a"
             ],
             [
              0.8888888888888888,
              "#fdca26"
             ],
             [
              1,
              "#f0f921"
             ]
            ],
            "type": "contour"
           }
          ],
          "contourcarpet": [
           {
            "colorbar": {
             "outlinewidth": 0,
             "ticks": ""
            },
            "type": "contourcarpet"
           }
          ],
          "heatmap": [
           {
            "colorbar": {
             "outlinewidth": 0,
             "ticks": ""
            },
            "colorscale": [
             [
              0,
              "#0d0887"
             ],
             [
              0.1111111111111111,
              "#46039f"
             ],
             [
              0.2222222222222222,
              "#7201a8"
             ],
             [
              0.3333333333333333,
              "#9c179e"
             ],
             [
              0.4444444444444444,
              "#bd3786"
             ],
             [
              0.5555555555555556,
              "#d8576b"
             ],
             [
              0.6666666666666666,
              "#ed7953"
             ],
             [
              0.7777777777777778,
              "#fb9f3a"
             ],
             [
              0.8888888888888888,
              "#fdca26"
             ],
             [
              1,
              "#f0f921"
             ]
            ],
            "type": "heatmap"
           }
          ],
          "heatmapgl": [
           {
            "colorbar": {
             "outlinewidth": 0,
             "ticks": ""
            },
            "colorscale": [
             [
              0,
              "#0d0887"
             ],
             [
              0.1111111111111111,
              "#46039f"
             ],
             [
              0.2222222222222222,
              "#7201a8"
             ],
             [
              0.3333333333333333,
              "#9c179e"
             ],
             [
              0.4444444444444444,
              "#bd3786"
             ],
             [
              0.5555555555555556,
              "#d8576b"
             ],
             [
              0.6666666666666666,
              "#ed7953"
             ],
             [
              0.7777777777777778,
              "#fb9f3a"
             ],
             [
              0.8888888888888888,
              "#fdca26"
             ],
             [
              1,
              "#f0f921"
             ]
            ],
            "type": "heatmapgl"
           }
          ],
          "histogram": [
           {
            "marker": {
             "colorbar": {
              "outlinewidth": 0,
              "ticks": ""
             }
            },
            "type": "histogram"
           }
          ],
          "histogram2d": [
           {
            "colorbar": {
             "outlinewidth": 0,
             "ticks": ""
            },
            "colorscale": [
             [
              0,
              "#0d0887"
             ],
             [
              0.1111111111111111,
              "#46039f"
             ],
             [
              0.2222222222222222,
              "#7201a8"
             ],
             [
              0.3333333333333333,
              "#9c179e"
             ],
             [
              0.4444444444444444,
              "#bd3786"
             ],
             [
              0.5555555555555556,
              "#d8576b"
             ],
             [
              0.6666666666666666,
              "#ed7953"
             ],
             [
              0.7777777777777778,
              "#fb9f3a"
             ],
             [
              0.8888888888888888,
              "#fdca26"
             ],
             [
              1,
              "#f0f921"
             ]
            ],
            "type": "histogram2d"
           }
          ],
          "histogram2dcontour": [
           {
            "colorbar": {
             "outlinewidth": 0,
             "ticks": ""
            },
            "colorscale": [
             [
              0,
              "#0d0887"
             ],
             [
              0.1111111111111111,
              "#46039f"
             ],
             [
              0.2222222222222222,
              "#7201a8"
             ],
             [
              0.3333333333333333,
              "#9c179e"
             ],
             [
              0.4444444444444444,
              "#bd3786"
             ],
             [
              0.5555555555555556,
              "#d8576b"
             ],
             [
              0.6666666666666666,
              "#ed7953"
             ],
             [
              0.7777777777777778,
              "#fb9f3a"
             ],
             [
              0.8888888888888888,
              "#fdca26"
             ],
             [
              1,
              "#f0f921"
             ]
            ],
            "type": "histogram2dcontour"
           }
          ],
          "mesh3d": [
           {
            "colorbar": {
             "outlinewidth": 0,
             "ticks": ""
            },
            "type": "mesh3d"
           }
          ],
          "parcoords": [
           {
            "line": {
             "colorbar": {
              "outlinewidth": 0,
              "ticks": ""
             }
            },
            "type": "parcoords"
           }
          ],
          "pie": [
           {
            "automargin": true,
            "type": "pie"
           }
          ],
          "scatter": [
           {
            "marker": {
             "colorbar": {
              "outlinewidth": 0,
              "ticks": ""
             }
            },
            "type": "scatter"
           }
          ],
          "scatter3d": [
           {
            "line": {
             "colorbar": {
              "outlinewidth": 0,
              "ticks": ""
             }
            },
            "marker": {
             "colorbar": {
              "outlinewidth": 0,
              "ticks": ""
             }
            },
            "type": "scatter3d"
           }
          ],
          "scattercarpet": [
           {
            "marker": {
             "colorbar": {
              "outlinewidth": 0,
              "ticks": ""
             }
            },
            "type": "scattercarpet"
           }
          ],
          "scattergeo": [
           {
            "marker": {
             "colorbar": {
              "outlinewidth": 0,
              "ticks": ""
             }
            },
            "type": "scattergeo"
           }
          ],
          "scattergl": [
           {
            "marker": {
             "colorbar": {
              "outlinewidth": 0,
              "ticks": ""
             }
            },
            "type": "scattergl"
           }
          ],
          "scattermapbox": [
           {
            "marker": {
             "colorbar": {
              "outlinewidth": 0,
              "ticks": ""
             }
            },
            "type": "scattermapbox"
           }
          ],
          "scatterpolar": [
           {
            "marker": {
             "colorbar": {
              "outlinewidth": 0,
              "ticks": ""
             }
            },
            "type": "scatterpolar"
           }
          ],
          "scatterpolargl": [
           {
            "marker": {
             "colorbar": {
              "outlinewidth": 0,
              "ticks": ""
             }
            },
            "type": "scatterpolargl"
           }
          ],
          "scatterternary": [
           {
            "marker": {
             "colorbar": {
              "outlinewidth": 0,
              "ticks": ""
             }
            },
            "type": "scatterternary"
           }
          ],
          "surface": [
           {
            "colorbar": {
             "outlinewidth": 0,
             "ticks": ""
            },
            "colorscale": [
             [
              0,
              "#0d0887"
             ],
             [
              0.1111111111111111,
              "#46039f"
             ],
             [
              0.2222222222222222,
              "#7201a8"
             ],
             [
              0.3333333333333333,
              "#9c179e"
             ],
             [
              0.4444444444444444,
              "#bd3786"
             ],
             [
              0.5555555555555556,
              "#d8576b"
             ],
             [
              0.6666666666666666,
              "#ed7953"
             ],
             [
              0.7777777777777778,
              "#fb9f3a"
             ],
             [
              0.8888888888888888,
              "#fdca26"
             ],
             [
              1,
              "#f0f921"
             ]
            ],
            "type": "surface"
           }
          ],
          "table": [
           {
            "cells": {
             "fill": {
              "color": "#EBF0F8"
             },
             "line": {
              "color": "white"
             }
            },
            "header": {
             "fill": {
              "color": "#C8D4E3"
             },
             "line": {
              "color": "white"
             }
            },
            "type": "table"
           }
          ]
         },
         "layout": {
          "annotationdefaults": {
           "arrowcolor": "#2a3f5f",
           "arrowhead": 0,
           "arrowwidth": 1
          },
          "autotypenumbers": "strict",
          "coloraxis": {
           "colorbar": {
            "outlinewidth": 0,
            "ticks": ""
           }
          },
          "colorscale": {
           "diverging": [
            [
             0,
             "#8e0152"
            ],
            [
             0.1,
             "#c51b7d"
            ],
            [
             0.2,
             "#de77ae"
            ],
            [
             0.3,
             "#f1b6da"
            ],
            [
             0.4,
             "#fde0ef"
            ],
            [
             0.5,
             "#f7f7f7"
            ],
            [
             0.6,
             "#e6f5d0"
            ],
            [
             0.7,
             "#b8e186"
            ],
            [
             0.8,
             "#7fbc41"
            ],
            [
             0.9,
             "#4d9221"
            ],
            [
             1,
             "#276419"
            ]
           ],
           "sequential": [
            [
             0,
             "#0d0887"
            ],
            [
             0.1111111111111111,
             "#46039f"
            ],
            [
             0.2222222222222222,
             "#7201a8"
            ],
            [
             0.3333333333333333,
             "#9c179e"
            ],
            [
             0.4444444444444444,
             "#bd3786"
            ],
            [
             0.5555555555555556,
             "#d8576b"
            ],
            [
             0.6666666666666666,
             "#ed7953"
            ],
            [
             0.7777777777777778,
             "#fb9f3a"
            ],
            [
             0.8888888888888888,
             "#fdca26"
            ],
            [
             1,
             "#f0f921"
            ]
           ],
           "sequentialminus": [
            [
             0,
             "#0d0887"
            ],
            [
             0.1111111111111111,
             "#46039f"
            ],
            [
             0.2222222222222222,
             "#7201a8"
            ],
            [
             0.3333333333333333,
             "#9c179e"
            ],
            [
             0.4444444444444444,
             "#bd3786"
            ],
            [
             0.5555555555555556,
             "#d8576b"
            ],
            [
             0.6666666666666666,
             "#ed7953"
            ],
            [
             0.7777777777777778,
             "#fb9f3a"
            ],
            [
             0.8888888888888888,
             "#fdca26"
            ],
            [
             1,
             "#f0f921"
            ]
           ]
          },
          "colorway": [
           "#636efa",
           "#EF553B",
           "#00cc96",
           "#ab63fa",
           "#FFA15A",
           "#19d3f3",
           "#FF6692",
           "#B6E880",
           "#FF97FF",
           "#FECB52"
          ],
          "font": {
           "color": "#2a3f5f"
          },
          "geo": {
           "bgcolor": "white",
           "lakecolor": "white",
           "landcolor": "#E5ECF6",
           "showlakes": true,
           "showland": true,
           "subunitcolor": "white"
          },
          "hoverlabel": {
           "align": "left"
          },
          "hovermode": "closest",
          "mapbox": {
           "style": "light"
          },
          "paper_bgcolor": "white",
          "plot_bgcolor": "#E5ECF6",
          "polar": {
           "angularaxis": {
            "gridcolor": "white",
            "linecolor": "white",
            "ticks": ""
           },
           "bgcolor": "#E5ECF6",
           "radialaxis": {
            "gridcolor": "white",
            "linecolor": "white",
            "ticks": ""
           }
          },
          "scene": {
           "xaxis": {
            "backgroundcolor": "#E5ECF6",
            "gridcolor": "white",
            "gridwidth": 2,
            "linecolor": "white",
            "showbackground": true,
            "ticks": "",
            "zerolinecolor": "white"
           },
           "yaxis": {
            "backgroundcolor": "#E5ECF6",
            "gridcolor": "white",
            "gridwidth": 2,
            "linecolor": "white",
            "showbackground": true,
            "ticks": "",
            "zerolinecolor": "white"
           },
           "zaxis": {
            "backgroundcolor": "#E5ECF6",
            "gridcolor": "white",
            "gridwidth": 2,
            "linecolor": "white",
            "showbackground": true,
            "ticks": "",
            "zerolinecolor": "white"
           }
          },
          "shapedefaults": {
           "line": {
            "color": "#2a3f5f"
           }
          },
          "ternary": {
           "aaxis": {
            "gridcolor": "white",
            "linecolor": "white",
            "ticks": ""
           },
           "baxis": {
            "gridcolor": "white",
            "linecolor": "white",
            "ticks": ""
           },
           "bgcolor": "#E5ECF6",
           "caxis": {
            "gridcolor": "white",
            "linecolor": "white",
            "ticks": ""
           }
          },
          "title": {
           "x": 0.05
          },
          "xaxis": {
           "automargin": true,
           "gridcolor": "white",
           "linecolor": "white",
           "ticks": "",
           "title": {
            "standoff": 15
           },
           "zerolinecolor": "white",
           "zerolinewidth": 2
          },
          "yaxis": {
           "automargin": true,
           "gridcolor": "white",
           "linecolor": "white",
           "ticks": "",
           "title": {
            "standoff": 15
           },
           "zerolinecolor": "white",
           "zerolinewidth": 2
          }
         }
        }
       }
      },
      "image/png": "[encoded data removed]",
      "text/html": [
       "<div>                            <div id=\"b40b8b0a-f567-40ee-b58b-cac9cb0c12d1\" class=\"plotly-graph-div\" style=\"height:525px; width:100%;\"></div>            <script type=\"text/javascript\">                require([\"plotly\"], function(Plotly) {                    window.PLOTLYENV=window.PLOTLYENV || {};                                    if (document.getElementById(\"b40b8b0a-f567-40ee-b58b-cac9cb0c12d1\")) {                    Plotly.newPlot(                        \"b40b8b0a-f567-40ee-b58b-cac9cb0c12d1\",                        [{\"dimensions\": [{\"label\": \"subreddits\", \"values\": [81954.0, 81970.0, 81970.0, 81954.0, 81954.0, 81954.0, 81954.0, 81954.0, 81970.0, 81970.0, 81970.0, 81970.0]}, {\"label\": \"reduce n components\", \"values\": [128, 512, 128, 512, 128, 128, 512, 512, 128, 128, 512, 512]}, {\"label\": \"cluster affinity\", \"values\": [2, 2, 2, 2, 1, 1, 1, 1, 1, 1, 1, 1]}, {\"label\": \"cluster linkage\", \"values\": [3, 3, 3, 3, 4, 4, 4, 4, 4, 4, 4, 4]}, {\"label\": \"3000 to 3200<br>adjusted mutual info score<br>\", \"values\": [0.626297409510758, 0.6207883034806398, 0.626694370757468, 0.6191231650788849, 0.6349459834182147, 0.6353725559250235, 0.6315253659889273, 0.6290375478975506, 0.6350483063748217, 0.6342206810441807, 0.6318157887715392, 0.6275761298101781]}, {\"label\": \"3000 to 3200<br>f1 score<br>-weighted avg<br><br>\", \"values\": [0.735941539596964, 0.7314741251825143, 0.7381375994867163, 0.729980453915611, 0.7461426811366569, 0.7478906386885954, 0.7457378978470631, 0.7429993239544437, 0.7473393455305203, 0.7455472801509231, 0.7455012307744066, 0.7412421009099283]}, {\"label\": \"3900 to 4000<br>adjusted mutual info score<br>\", \"values\": [0.6374262755757241, 0.6295062151971255, 0.6352705989409783, 0.6300330575913751, 0.6408099377184707, 0.6439206912491872, 0.6397215362655803, 0.6362237947185876, 0.642998975437801, 0.6398465298564743, 0.6398602640046062, 0.6363313598953364]}, {\"label\": \"3900 to 4000<br>f1 score<br>-weighted avg<br><br>\", \"values\": [0.7465778731294163, 0.74027013963226, 0.7465490549411407, 0.7410021546618025, 0.7522396695324647, 0.7563892571804949, 0.7538901346672766, 0.7497720211750244, 0.7556798029757157, 0.7515582281188429, 0.7539841662529483, 0.7497319031814821]}], \"domain\": {\"x\": [0.0, 1.0], \"y\": [0.0, 1.0]}, \"line\": {\"color\": [0.7465778731294163, 0.74027013963226, 0.7465490549411407, 0.7410021546618025, 0.7522396695324647, 0.7563892571804949, 0.7538901346672766, 0.7497720211750244, 0.7556798029757157, 0.7515582281188429, 0.7539841662529483, 0.7497319031814821], \"coloraxis\": \"coloraxis\"}, \"name\": \"\", \"type\": \"parcoords\"}],                        {\"coloraxis\": {\"colorbar\": {\"title\": {\"text\": \"3900 to 4000<br>f1 score<br>-weighted avg<br><br>\"}}, \"colorscale\": [[0.0, \"#0d0887\"], [0.1111111111111111, \"#46039f\"], [0.2222222222222222, \"#7201a8\"], [0.3333333333333333, \"#9c179e\"], [0.4444444444444444, \"#bd3786\"], [0.5555555555555556, \"#d8576b\"], [0.6666666666666666, \"#ed7953\"], [0.7777777777777778, \"#fb9f3a\"], [0.8888888888888888, \"#fdca26\"], [1.0, \"#f0f921\"]]}, \"legend\": {\"tracegroupgap\": 0}, \"margin\": {\"t\": 60}, \"template\": {\"data\": {\"bar\": [{\"error_x\": {\"color\": \"#2a3f5f\"}, \"error_y\": {\"color\": \"#2a3f5f\"}, \"marker\": {\"line\": {\"color\": \"#E5ECF6\", \"width\": 0.5}}, \"type\": \"bar\"}], \"barpolar\": [{\"marker\": {\"line\": {\"color\": \"#E5ECF6\", \"width\": 0.5}}, \"type\": \"barpolar\"}], \"carpet\": [{\"aaxis\": {\"endlinecolor\": \"#2a3f5f\", \"gridcolor\": \"white\", \"linecolor\": \"white\", \"minorgridcolor\": \"white\", \"startlinecolor\": \"#2a3f5f\"}, \"baxis\": {\"endlinecolor\": \"#2a3f5f\", \"gridcolor\": \"white\", \"linecolor\": \"white\", \"minorgridcolor\": \"white\", \"startlinecolor\": \"#2a3f5f\"}, \"type\": \"carpet\"}], \"choropleth\": [{\"colorbar\": {\"outlinewidth\": 0, \"ticks\": \"\"}, \"type\": \"choropleth\"}], \"contour\": [{\"colorbar\": {\"outlinewidth\": 0, \"ticks\": \"\"}, \"colorscale\": [[0.0, \"#0d0887\"], [0.1111111111111111, \"#46039f\"], [0.2222222222222222, \"#7201a8\"], [0.3333333333333333, \"#9c179e\"], [0.4444444444444444, \"#bd3786\"], [0.5555555555555556, \"#d8576b\"], [0.6666666666666666, \"#ed7953\"], [0.7777777777777778, \"#fb9f3a\"], [0.8888888888888888, \"#fdca26\"], [1.0, \"#f0f921\"]], \"type\": \"contour\"}], \"contourcarpet\": [{\"colorbar\": {\"outlinewidth\": 0, \"ticks\": \"\"}, \"type\": \"contourcarpet\"}], \"heatmap\": [{\"colorbar\": {\"outlinewidth\": 0, \"ticks\": \"\"}, \"colorscale\": [[0.0, \"#0d0887\"], [0.1111111111111111, \"#46039f\"], [0.2222222222222222, \"#7201a8\"], [0.3333333333333333, \"#9c179e\"], [0.4444444444444444, \"#bd3786\"], [0.5555555555555556, \"#d8576b\"], [0.6666666666666666, \"#ed7953\"], [0.7777777777777778, \"#fb9f3a\"], [0.8888888888888888, \"#fdca26\"], [1.0, \"#f0f921\"]], \"type\": \"heatmap\"}], \"heatmapgl\": [{\"colorbar\": {\"outlinewidth\": 0, \"ticks\": \"\"}, \"colorscale\": [[0.0, \"#0d0887\"], [0.1111111111111111, \"#46039f\"], [0.2222222222222222, \"#7201a8\"], [0.3333333333333333, \"#9c179e\"], [0.4444444444444444, \"#bd3786\"], [0.5555555555555556, \"#d8576b\"], [0.6666666666666666, \"#ed7953\"], [0.7777777777777778, \"#fb9f3a\"], [0.8888888888888888, \"#fdca26\"], [1.0, \"#f0f921\"]], \"type\": \"heatmapgl\"}], \"histogram\": [{\"marker\": {\"colorbar\": {\"outlinewidth\": 0, \"ticks\": \"\"}}, \"type\": \"histogram\"}], \"histogram2d\": [{\"colorbar\": {\"outlinewidth\": 0, \"ticks\": \"\"}, \"colorscale\": [[0.0, \"#0d0887\"], [0.1111111111111111, \"#46039f\"], [0.2222222222222222, \"#7201a8\"], [0.3333333333333333, \"#9c179e\"], [0.4444444444444444, \"#bd3786\"], [0.5555555555555556, \"#d8576b\"], [0.6666666666666666, \"#ed7953\"], [0.7777777777777778, \"#fb9f3a\"], [0.8888888888888888, \"#fdca26\"], [1.0, \"#f0f921\"]], \"type\": \"histogram2d\"}], \"histogram2dcontour\": [{\"colorbar\": {\"outlinewidth\": 0, \"ticks\": \"\"}, \"colorscale\": [[0.0, \"#0d0887\"], [0.1111111111111111, \"#46039f\"], [0.2222222222222222, \"#7201a8\"], [0.3333333333333333, \"#9c179e\"], [0.4444444444444444, \"#bd3786\"], [0.5555555555555556, \"#d8576b\"], [0.6666666666666666, \"#ed7953\"], [0.7777777777777778, \"#fb9f3a\"], [0.8888888888888888, \"#fdca26\"], [1.0, \"#f0f921\"]], \"type\": \"histogram2dcontour\"}], \"mesh3d\": [{\"colorbar\": {\"outlinewidth\": 0, \"ticks\": \"\"}, \"type\": \"mesh3d\"}], \"parcoords\": [{\"line\": {\"colorbar\": {\"outlinewidth\": 0, \"ticks\": \"\"}}, \"type\": \"parcoords\"}], \"pie\": [{\"automargin\": true, \"type\": \"pie\"}], \"scatter\": [{\"marker\": {\"colorbar\": {\"outlinewidth\": 0, \"ticks\": \"\"}}, \"type\": \"scatter\"}], \"scatter3d\": [{\"line\": {\"colorbar\": {\"outlinewidth\": 0, \"ticks\": \"\"}}, \"marker\": {\"colorbar\": {\"outlinewidth\": 0, \"ticks\": \"\"}}, \"type\": \"scatter3d\"}], \"scattercarpet\": [{\"marker\": {\"colorbar\": {\"outlinewidth\": 0, \"ticks\": \"\"}}, \"type\": \"scattercarpet\"}], \"scattergeo\": [{\"marker\": {\"colorbar\": {\"outlinewidth\": 0, \"ticks\": \"\"}}, \"type\": \"scattergeo\"}], \"scattergl\": [{\"marker\": {\"colorbar\": {\"outlinewidth\": 0, \"ticks\": \"\"}}, \"type\": \"scattergl\"}], \"scattermapbox\": [{\"marker\": {\"colorbar\": {\"outlinewidth\": 0, \"ticks\": \"\"}}, \"type\": \"scattermapbox\"}], \"scatterpolar\": [{\"marker\": {\"colorbar\": {\"outlinewidth\": 0, \"ticks\": \"\"}}, \"type\": \"scatterpolar\"}], \"scatterpolargl\": [{\"marker\": {\"colorbar\": {\"outlinewidth\": 0, \"ticks\": \"\"}}, \"type\": \"scatterpolargl\"}], \"scatterternary\": [{\"marker\": {\"colorbar\": {\"outlinewidth\": 0, \"ticks\": \"\"}}, \"type\": \"scatterternary\"}], \"surface\": [{\"colorbar\": {\"outlinewidth\": 0, \"ticks\": \"\"}, \"colorscale\": [[0.0, \"#0d0887\"], [0.1111111111111111, \"#46039f\"], [0.2222222222222222, \"#7201a8\"], [0.3333333333333333, \"#9c179e\"], [0.4444444444444444, \"#bd3786\"], [0.5555555555555556, \"#d8576b\"], [0.6666666666666666, \"#ed7953\"], [0.7777777777777778, \"#fb9f3a\"], [0.8888888888888888, \"#fdca26\"], [1.0, \"#f0f921\"]], \"type\": \"surface\"}], \"table\": [{\"cells\": {\"fill\": {\"color\": \"#EBF0F8\"}, \"line\": {\"color\": \"white\"}}, \"header\": {\"fill\": {\"color\": \"#C8D4E3\"}, \"line\": {\"color\": \"white\"}}, \"type\": \"table\"}]}, \"layout\": {\"annotationdefaults\": {\"arrowcolor\": \"#2a3f5f\", \"arrowhead\": 0, \"arrowwidth\": 1}, \"autotypenumbers\": \"strict\", \"coloraxis\": {\"colorbar\": {\"outlinewidth\": 0, \"ticks\": \"\"}}, \"colorscale\": {\"diverging\": [[0, \"#8e0152\"], [0.1, \"#c51b7d\"], [0.2, \"#de77ae\"], [0.3, \"#f1b6da\"], [0.4, \"#fde0ef\"], [0.5, \"#f7f7f7\"], [0.6, \"#e6f5d0\"], [0.7, \"#b8e186\"], [0.8, \"#7fbc41\"], [0.9, \"#4d9221\"], [1, \"#276419\"]], \"sequential\": [[0.0, \"#0d0887\"], [0.1111111111111111, \"#46039f\"], [0.2222222222222222, \"#7201a8\"], [0.3333333333333333, \"#9c179e\"], [0.4444444444444444, \"#bd3786\"], [0.5555555555555556, \"#d8576b\"], [0.6666666666666666, \"#ed7953\"], [0.7777777777777778, \"#fb9f3a\"], [0.8888888888888888, \"#fdca26\"], [1.0, \"#f0f921\"]], \"sequentialminus\": [[0.0, \"#0d0887\"], [0.1111111111111111, \"#46039f\"], [0.2222222222222222, \"#7201a8\"], [0.3333333333333333, \"#9c179e\"], [0.4444444444444444, \"#bd3786\"], [0.5555555555555556, \"#d8576b\"], [0.6666666666666666, \"#ed7953\"], [0.7777777777777778, \"#fb9f3a\"], [0.8888888888888888, \"#fdca26\"], [1.0, \"#f0f921\"]]}, \"colorway\": [\"#636efa\", \"#EF553B\", \"#00cc96\", \"#ab63fa\", \"#FFA15A\", \"#19d3f3\", \"#FF6692\", \"#B6E880\", \"#FF97FF\", \"#FECB52\"], \"font\": {\"color\": \"#2a3f5f\"}, \"geo\": {\"bgcolor\": \"white\", \"lakecolor\": \"white\", \"landcolor\": \"#E5ECF6\", \"showlakes\": true, \"showland\": true, \"subunitcolor\": \"white\"}, \"hoverlabel\": {\"align\": \"left\"}, \"hovermode\": \"closest\", \"mapbox\": {\"style\": \"light\"}, \"paper_bgcolor\": \"white\", \"plot_bgcolor\": \"#E5ECF6\", \"polar\": {\"angularaxis\": {\"gridcolor\": \"white\", \"linecolor\": \"white\", \"ticks\": \"\"}, \"bgcolor\": \"#E5ECF6\", \"radialaxis\": {\"gridcolor\": \"white\", \"linecolor\": \"white\", \"ticks\": \"\"}}, \"scene\": {\"xaxis\": {\"backgroundcolor\": \"#E5ECF6\", \"gridcolor\": \"white\", \"gridwidth\": 2, \"linecolor\": \"white\", \"showbackground\": true, \"ticks\": \"\", \"zerolinecolor\": \"white\"}, \"yaxis\": {\"backgroundcolor\": \"#E5ECF6\", \"gridcolor\": \"white\", \"gridwidth\": 2, \"linecolor\": \"white\", \"showbackground\": true, \"ticks\": \"\", \"zerolinecolor\": \"white\"}, \"zaxis\": {\"backgroundcolor\": \"#E5ECF6\", \"gridcolor\": \"white\", \"gridwidth\": 2, \"linecolor\": \"white\", \"showbackground\": true, \"ticks\": \"\", \"zerolinecolor\": \"white\"}}, \"shapedefaults\": {\"line\": {\"color\": \"#2a3f5f\"}}, \"ternary\": {\"aaxis\": {\"gridcolor\": \"white\", \"linecolor\": \"white\", \"ticks\": \"\"}, \"baxis\": {\"gridcolor\": \"white\", \"linecolor\": \"white\", \"ticks\": \"\"}, \"bgcolor\": \"#E5ECF6\", \"caxis\": {\"gridcolor\": \"white\", \"linecolor\": \"white\", \"ticks\": \"\"}}, \"title\": {\"x\": 0.05}, \"xaxis\": {\"automargin\": true, \"gridcolor\": \"white\", \"linecolor\": \"white\", \"ticks\": \"\", \"title\": {\"standoff\": 15}, \"zerolinecolor\": \"white\", \"zerolinewidth\": 2}, \"yaxis\": {\"automargin\": true, \"gridcolor\": \"white\", \"linecolor\": \"white\", \"ticks\": \"\", \"title\": {\"standoff\": 15}, \"zerolinecolor\": \"white\", \"zerolinewidth\": 2}}}},                        {\"responsive\": true}                    ).then(function(){\n",
       "                            \n",
       "var gd = document.getElementById('b40b8b0a-f567-40ee-b58b-cac9cb0c12d1');\n",
       "var x = new MutationObserver(function (mutations, observer) {{\n",
       "        var display = window.getComputedStyle(gd).display;\n",
       "        if (!display || display === 'none') {{\n",
       "            console.log([gd, 'removed!']);\n",
       "            Plotly.purge(gd);\n",
       "            observer.disconnect();\n",
       "        }}\n",
       "}});\n",
       "\n",
       "// Listen for the removal of the full notebook cells\n",
       "var notebookContainer = gd.closest('#notebook-container');\n",
       "if (notebookContainer) {{\n",
       "    x.observe(notebookContainer, {childList: true});\n",
       "}}\n",
       "\n",
       "// Listen for the clearing of the current output cell\n",
       "var outputEl = gd.closest('.output');\n",
       "if (outputEl) {{\n",
       "    x.observe(outputEl, {childList: true});\n",
       "}}\n",
       "\n",
       "                        })                };                });            </script>        </div>"
      ]
     },
     "metadata": {},
     "output_type": "display_data"
    }
   ],
   "source": [
    "l_cols_plot_raw_ = l_parallel_params + l_parallel_metrics_3k + l_parallel_metrics_4k\n",
    "l_cols_plot_clean_ = [rename_col_for_display(c) for c in l_cols_plot_raw_]\n",
    "df_plot_ = (\n",
    "    df_mlf_clustering_candidates\n",
    "    [df_mlf_clustering_candidates['metrics.filtered_embeddings-n_rows'] >= 81950]\n",
    "    [l_cols_plot_raw_]\n",
    "    .fillna({'params._pipe-reduce__n_components': 512, 'params._pipe-normalize__norm': 'None'})  # for SVD nulls & norm nulls\n",
    "    .rename(columns={c: rename_col_for_display(c) for c in l_cols_plot_raw_})\n",
    "    .reset_index(drop=True)\n",
    ")\n",
    "# remap cluster linkage so it shows up in plot\n",
    "col_linkage_clean = 'cluster linkage'\n",
    "col_affinity_clean = 'cluster affinity'\n",
    "col_comp_clean = 'reduce n components'\n",
    "\n",
    "df_plot_[col_linkage_clean] = df_plot_[col_linkage_clean].replace(d_linkage_to_num)\n",
    "df_plot_[col_affinity_clean] = df_plot_[col_affinity_clean].replace(d_affinity_to_num)\n",
    "df_plot_[col_comp_clean] = df_plot_[col_comp_clean].astype(int).replace(d_comp_to_num)\n",
    "print(f\"Linkage names:\\n  {d_num_to_linkage}\")\n",
    "print(f\"Affinity names:\\n  {d_num_to_affinity}\")\n",
    "print(f\"Component names:\\n  {d_num_to_comp}\")\n",
    "\n",
    "# apply filters\n",
    "df_plot_ = df_plot_[df_plot_[col_linkage_clean] != d_linkage_to_num['average']].reset_index(drop=True)\n",
    "#  Exclude euclidean + (non-ward)\n",
    "df_plot_ = df_plot_[\n",
    "    (df_plot_[col_linkage_clean] == d_linkage_to_num['ward']) |\n",
    "    (\n",
    "        (df_plot_[col_linkage_clean] != d_linkage_to_num['ward']) &\n",
    "        (df_plot_[col_affinity_clean] != d_affinity_to_num['euclidean'])\n",
    "    )\n",
    "].reset_index(drop=True)\n",
    "print(df_plot_.shape)\n",
    "\n",
    "df_top_runs = df_plot_.copy()\n",
    "\n",
    "fig = px.parallel_coordinates(\n",
    "    df_plot_,\n",
    "    color=l_cols_plot_clean_[-1],\n",
    "    # dimensions=l_cols_plot_clean_,\n",
    "    # labels={},\n",
    "    # color_continuous_scale=px.colors.diverging.Tealrose,\n",
    "    # color_continuous_midpoint=2\n",
    ")\n",
    "fig.show()"
   ]
  },
  {
   "cell_type": "markdown",
   "id": "efe6bc4a",
   "metadata": {},
   "source": [
    "## Create masks to find top runs\n",
    "\n",
    "`Ward` linkage (#4) gets the best score followed by `complete` linkage (#2).\n",
    "\n",
    "Find runs that are above the mean of linkage=2 (complete linkage). Use these params as the primary search space for v0.5.0."
   ]
  },
  {
   "cell_type": "code",
   "execution_count": 78,
   "id": "89486c57",
   "metadata": {},
   "outputs": [
    {
     "data": {
      "text/plain": [
       "(12, 9)"
      ]
     },
     "execution_count": 78,
     "metadata": {},
     "output_type": "execute_result"
    }
   ],
   "source": [
    "df_top_runs.shape"
   ]
  },
  {
   "cell_type": "code",
   "execution_count": 79,
   "id": "4048caf1",
   "metadata": {},
   "outputs": [
    {
     "data": {
      "text/html": [
       "<div>\n",
       "<style scoped>\n",
       "    .dataframe tbody tr th:only-of-type {\n",
       "        vertical-align: middle;\n",
       "    }\n",
       "\n",
       "    .dataframe tbody tr th {\n",
       "        vertical-align: top;\n",
       "    }\n",
       "\n",
       "    .dataframe thead th {\n",
       "        text-align: right;\n",
       "    }\n",
       "</style>\n",
       "<table border=\"1\" class=\"dataframe\">\n",
       "  <thead>\n",
       "    <tr style=\"text-align: right;\">\n",
       "      <th></th>\n",
       "      <th>3000 to 3200&lt;br&gt;adjusted mutual info score&lt;br&gt;</th>\n",
       "      <th>3000 to 3200&lt;br&gt;f1 score&lt;br&gt;-weighted avg&lt;br&gt;&lt;br&gt;</th>\n",
       "      <th>3900 to 4000&lt;br&gt;adjusted mutual info score&lt;br&gt;</th>\n",
       "      <th>3900 to 4000&lt;br&gt;f1 score&lt;br&gt;-weighted avg&lt;br&gt;&lt;br&gt;</th>\n",
       "    </tr>\n",
       "    <tr>\n",
       "      <th>cluster linkage</th>\n",
       "      <th></th>\n",
       "      <th></th>\n",
       "      <th></th>\n",
       "      <th></th>\n",
       "    </tr>\n",
       "  </thead>\n",
       "  <tbody>\n",
       "    <tr>\n",
       "      <th>3</th>\n",
       "      <td>0.623226</td>\n",
       "      <td>0.733883</td>\n",
       "      <td>0.633059</td>\n",
       "      <td>0.743600</td>\n",
       "    </tr>\n",
       "    <tr>\n",
       "      <th>4</th>\n",
       "      <td>0.632443</td>\n",
       "      <td>0.745300</td>\n",
       "      <td>0.639964</td>\n",
       "      <td>0.752906</td>\n",
       "    </tr>\n",
       "  </tbody>\n",
       "</table>\n",
       "</div>"
      ],
      "text/plain": [
       "                 3000 to 3200<br>adjusted mutual info score<br>  3000 to 3200<br>f1 score<br>-weighted avg<br><br>  3900 to 4000<br>adjusted mutual info score<br>  3900 to 4000<br>f1 score<br>-weighted avg<br><br>\n",
       "cluster linkage                                                                                                                                                                                                      \n",
       "3                                                      0.623226                                           0.733883                                        0.633059                                           0.743600\n",
       "4                                                      0.632443                                           0.745300                                        0.639964                                           0.752906"
      ]
     },
     "metadata": {},
     "output_type": "display_data"
    }
   ],
   "source": [
    "display(\n",
    "    df_top_runs.groupby([col_linkage_clean])[l_cols_plot_clean_[-4:]].mean()\n",
    ")"
   ]
  },
  {
   "cell_type": "code",
   "execution_count": 91,
   "id": "0aefeac3",
   "metadata": {},
   "outputs": [
    {
     "name": "stdout",
     "output_type": "stream",
     "text": [
      "15\n",
      "5\n"
     ]
    }
   ],
   "source": [
    "c_f1_pt_weighted_3k = 'metrics.primary_topic-3000_to_3200-f1_score-weighted_avg'\n",
    "c_f1_pt_weighted_4k = 'metrics.primary_topic-3900_to_4000-f1_score-weighted_avg'\n",
    "c_subreddits_filtered = 'metrics.filtered_embeddings-n_rows'\n",
    "\n",
    "mask_sub_coverage = (\n",
    "    df_mlf_clustering_candidates[c_subreddits_filtered] >= 81970\n",
    ")\n",
    "\n",
    "mask_top_metrics = (\n",
    "    (df_mlf_clustering_candidates[c_f1_pt_weighted_3k] >= 0.733) &\n",
    "    (df_mlf_clustering_candidates[c_f1_pt_weighted_4k] >= 0.743) \n",
    ")\n",
    "\n",
    "print(mask_top_metrics.sum())\n",
    "\n",
    "print((mask_sub_coverage & mask_top_metrics).sum())"
   ]
  },
  {
   "cell_type": "code",
   "execution_count": 92,
   "id": "e134ce6d",
   "metadata": {},
   "outputs": [],
   "source": [
    "l_cols_to_drop = [\n",
    "    'artifact_uri',\n",
    "    'start_time',\n",
    "    'end_time',\n",
    "]\n",
    "\n",
    "l_cols_to_drop = (\n",
    "    l_cols_to_drop + \n",
    "    [c for c in cols_with_multiple_vals if 'metrics.memory_' in c] +\n",
    "    [c for c in cols_with_multiple_vals if 'metrics.model_fit' in c] +\n",
    "    [c for c in cols_with_multiple_vals if 'metrics.optimal_k' in c]\n",
    ")"
   ]
  },
  {
   "cell_type": "code",
   "execution_count": 93,
   "id": "70d78b18",
   "metadata": {},
   "outputs": [
    {
     "data": {
      "text/plain": [
       "(5, 225)"
      ]
     },
     "execution_count": 93,
     "metadata": {},
     "output_type": "execute_result"
    }
   ],
   "source": [
    "df_top_runs_full = (\n",
    "    df_mlf_clustering_candidates\n",
    "    [mask_sub_coverage & mask_top_metrics]\n",
    "    .sort_values(by=l_cols_plot_raw_[::-1][:-2], ascending=False)\n",
    "    [sorted(cols_with_multiple_vals)]\n",
    "    .drop(l_cols_to_drop, axis=1)\n",
    ")\n",
    "df_top_runs_full.shape"
   ]
  },
  {
   "cell_type": "code",
   "execution_count": 94,
   "id": "f69d8cad",
   "metadata": {},
   "outputs": [
    {
     "data": {
      "text/html": [
       "<style  type=\"text/css\" >\n",
       "#T_74329_row0_col1,#T_74329_row0_col2{\n",
       "            width:  10em;\n",
       "             height:  80%;\n",
       "        }</style><table id=\"T_74329_\" ><thead>    <tr>        <th class=\"blank level0\" ></th>        <th class=\"col_heading level0 col0\" >count</th>        <th class=\"col_heading level0 col1\" >percent</th>        <th class=\"col_heading level0 col2\" >cumulative_percent</th>    </tr>    <tr>        <th class=\"index_name level0\" >metrics.filtered_embeddings-n_rows</th>        <th class=\"blank\" ></th>        <th class=\"blank\" ></th>        <th class=\"blank\" ></th>    </tr></thead><tbody>\n",
       "                <tr>\n",
       "                        <th id=\"T_74329_level0_row0\" class=\"row_heading level0 row0\" >81970.0</th>\n",
       "                        <td id=\"T_74329_row0_col0\" class=\"data row0 col0\" >5</td>\n",
       "                        <td id=\"T_74329_row0_col1\" class=\"data row0 col1\" >100.0%</td>\n",
       "                        <td id=\"T_74329_row0_col2\" class=\"data row0 col2\" >100.0%</td>\n",
       "            </tr>\n",
       "    </tbody></table>"
      ],
      "text/plain": [
       "<pandas.io.formats.style.Styler at 0x7fba64cb7650>"
      ]
     },
     "metadata": {},
     "output_type": "display_data"
    },
    {
     "data": {
      "text/html": [
       "<style  type=\"text/css\" >\n",
       "#T_c5c84_row0_col1,#T_c5c84_row1_col2{\n",
       "            width:  10em;\n",
       "             height:  80%;\n",
       "            background:  linear-gradient(90deg,#95cff5 100.0%, transparent 100.0%);\n",
       "        }#T_c5c84_row0_col2,#T_c5c84_row1_col1{\n",
       "            width:  10em;\n",
       "             height:  80%;\n",
       "        }</style><table id=\"T_c5c84_\" ><thead>    <tr>        <th class=\"blank level0\" ></th>        <th class=\"col_heading level0 col0\" >count</th>        <th class=\"col_heading level0 col1\" >percent</th>        <th class=\"col_heading level0 col2\" >cumulative_percent</th>    </tr>    <tr>        <th class=\"index_name level0\" >params._pipe-normalize__norm</th>        <th class=\"blank\" ></th>        <th class=\"blank\" ></th>        <th class=\"blank\" ></th>    </tr></thead><tbody>\n",
       "                <tr>\n",
       "                        <th id=\"T_c5c84_level0_row0\" class=\"row_heading level0 row0\" >null</th>\n",
       "                        <td id=\"T_c5c84_row0_col0\" class=\"data row0 col0\" >3</td>\n",
       "                        <td id=\"T_c5c84_row0_col1\" class=\"data row0 col1\" >60.0%</td>\n",
       "                        <td id=\"T_c5c84_row0_col2\" class=\"data row0 col2\" >60.0%</td>\n",
       "            </tr>\n",
       "            <tr>\n",
       "                        <th id=\"T_c5c84_level0_row1\" class=\"row_heading level0 row1\" >l2</th>\n",
       "                        <td id=\"T_c5c84_row1_col0\" class=\"data row1 col0\" >2</td>\n",
       "                        <td id=\"T_c5c84_row1_col1\" class=\"data row1 col1\" >40.0%</td>\n",
       "                        <td id=\"T_c5c84_row1_col2\" class=\"data row1 col2\" >100.0%</td>\n",
       "            </tr>\n",
       "    </tbody></table>"
      ],
      "text/plain": [
       "<pandas.io.formats.style.Styler at 0x7fba5f9717d0>"
      ]
     },
     "metadata": {},
     "output_type": "display_data"
    },
    {
     "data": {
      "text/html": [
       "<style  type=\"text/css\" >\n",
       "#T_1a99e_row0_col1,#T_1a99e_row1_col2{\n",
       "            width:  10em;\n",
       "             height:  80%;\n",
       "            background:  linear-gradient(90deg,#95cff5 100.0%, transparent 100.0%);\n",
       "        }#T_1a99e_row0_col2,#T_1a99e_row1_col1{\n",
       "            width:  10em;\n",
       "             height:  80%;\n",
       "        }</style><table id=\"T_1a99e_\" ><thead>    <tr>        <th class=\"blank level0\" ></th>        <th class=\"col_heading level0 col0\" >count</th>        <th class=\"col_heading level0 col1\" >percent</th>        <th class=\"col_heading level0 col2\" >cumulative_percent</th>    </tr>    <tr>        <th class=\"index_name level0\" >params._pipe-reduce__n_components</th>        <th class=\"blank\" ></th>        <th class=\"blank\" ></th>        <th class=\"blank\" ></th>    </tr></thead><tbody>\n",
       "                <tr>\n",
       "                        <th id=\"T_1a99e_level0_row0\" class=\"row_heading level0 row0\" >128</th>\n",
       "                        <td id=\"T_1a99e_row0_col0\" class=\"data row0 col0\" >3</td>\n",
       "                        <td id=\"T_1a99e_row0_col1\" class=\"data row0 col1\" >60.0%</td>\n",
       "                        <td id=\"T_1a99e_row0_col2\" class=\"data row0 col2\" >60.0%</td>\n",
       "            </tr>\n",
       "            <tr>\n",
       "                        <th id=\"T_1a99e_level0_row1\" class=\"row_heading level0 row1\" >null</th>\n",
       "                        <td id=\"T_1a99e_row1_col0\" class=\"data row1 col0\" >2</td>\n",
       "                        <td id=\"T_1a99e_row1_col1\" class=\"data row1 col1\" >40.0%</td>\n",
       "                        <td id=\"T_1a99e_row1_col2\" class=\"data row1 col2\" >100.0%</td>\n",
       "            </tr>\n",
       "    </tbody></table>"
      ],
      "text/plain": [
       "<pandas.io.formats.style.Styler at 0x7fba685e24d0>"
      ]
     },
     "metadata": {},
     "output_type": "display_data"
    },
    {
     "data": {
      "text/html": [
       "<style  type=\"text/css\" >\n",
       "#T_61b75_row0_col1,#T_61b75_row1_col2{\n",
       "            width:  10em;\n",
       "             height:  80%;\n",
       "            background:  linear-gradient(90deg,#95cff5 100.0%, transparent 100.0%);\n",
       "        }#T_61b75_row0_col2,#T_61b75_row1_col1{\n",
       "            width:  10em;\n",
       "             height:  80%;\n",
       "        }</style><table id=\"T_61b75_\" ><thead>    <tr>        <th class=\"blank level0\" ></th>        <th class=\"col_heading level0 col0\" >count</th>        <th class=\"col_heading level0 col1\" >percent</th>        <th class=\"col_heading level0 col2\" >cumulative_percent</th>    </tr>    <tr>        <th class=\"index_name level0\" >params._pipe-cluster__affinity</th>        <th class=\"blank\" ></th>        <th class=\"blank\" ></th>        <th class=\"blank\" ></th>    </tr></thead><tbody>\n",
       "                <tr>\n",
       "                        <th id=\"T_61b75_level0_row0\" class=\"row_heading level0 row0\" >euclidean</th>\n",
       "                        <td id=\"T_61b75_row0_col0\" class=\"data row0 col0\" >4</td>\n",
       "                        <td id=\"T_61b75_row0_col1\" class=\"data row0 col1\" >80.0%</td>\n",
       "                        <td id=\"T_61b75_row0_col2\" class=\"data row0 col2\" >80.0%</td>\n",
       "            </tr>\n",
       "            <tr>\n",
       "                        <th id=\"T_61b75_level0_row1\" class=\"row_heading level0 row1\" >cosine</th>\n",
       "                        <td id=\"T_61b75_row1_col0\" class=\"data row1 col0\" >1</td>\n",
       "                        <td id=\"T_61b75_row1_col1\" class=\"data row1 col1\" >20.0%</td>\n",
       "                        <td id=\"T_61b75_row1_col2\" class=\"data row1 col2\" >100.0%</td>\n",
       "            </tr>\n",
       "    </tbody></table>"
      ],
      "text/plain": [
       "<pandas.io.formats.style.Styler at 0x7fba5f971d50>"
      ]
     },
     "metadata": {},
     "output_type": "display_data"
    },
    {
     "data": {
      "text/html": [
       "<style  type=\"text/css\" >\n",
       "#T_34938_row0_col1,#T_34938_row1_col2{\n",
       "            width:  10em;\n",
       "             height:  80%;\n",
       "            background:  linear-gradient(90deg,#95cff5 100.0%, transparent 100.0%);\n",
       "        }#T_34938_row0_col2,#T_34938_row1_col1{\n",
       "            width:  10em;\n",
       "             height:  80%;\n",
       "        }</style><table id=\"T_34938_\" ><thead>    <tr>        <th class=\"blank level0\" ></th>        <th class=\"col_heading level0 col0\" >count</th>        <th class=\"col_heading level0 col1\" >percent</th>        <th class=\"col_heading level0 col2\" >cumulative_percent</th>    </tr>    <tr>        <th class=\"index_name level0\" >params._pipe-cluster__linkage</th>        <th class=\"blank\" ></th>        <th class=\"blank\" ></th>        <th class=\"blank\" ></th>    </tr></thead><tbody>\n",
       "                <tr>\n",
       "                        <th id=\"T_34938_level0_row0\" class=\"row_heading level0 row0\" >ward</th>\n",
       "                        <td id=\"T_34938_row0_col0\" class=\"data row0 col0\" >4</td>\n",
       "                        <td id=\"T_34938_row0_col1\" class=\"data row0 col1\" >80.0%</td>\n",
       "                        <td id=\"T_34938_row0_col2\" class=\"data row0 col2\" >80.0%</td>\n",
       "            </tr>\n",
       "            <tr>\n",
       "                        <th id=\"T_34938_level0_row1\" class=\"row_heading level0 row1\" >complete</th>\n",
       "                        <td id=\"T_34938_row1_col0\" class=\"data row1 col0\" >1</td>\n",
       "                        <td id=\"T_34938_row1_col1\" class=\"data row1 col1\" >20.0%</td>\n",
       "                        <td id=\"T_34938_row1_col2\" class=\"data row1 col2\" >100.0%</td>\n",
       "            </tr>\n",
       "    </tbody></table>"
      ],
      "text/plain": [
       "<pandas.io.formats.style.Styler at 0x7fba68439d50>"
      ]
     },
     "metadata": {},
     "output_type": "display_data"
    }
   ],
   "source": [
    "l_parallel_params = [\n",
    "    'metrics.filtered_embeddings-n_rows',  # Might not be a parameter to tune anymore (n_minimumn # of posts in subreddit)\n",
    "    'params._pipe-normalize__norm', \n",
    "    'params._pipe-reduce__n_components',\n",
    "    'params._pipe-cluster__affinity',\n",
    "    'params._pipe-cluster__linkage',\n",
    "]\n",
    "\n",
    "for c_ in l_parallel_params:\n",
    "    display(\n",
    "        value_counts_and_pcts(\n",
    "            df_top_runs_full,\n",
    "            [c_]\n",
    "        )\n",
    "    )"
   ]
  },
  {
   "cell_type": "code",
   "execution_count": 95,
   "id": "8e282b54",
   "metadata": {},
   "outputs": [
    {
     "data": {
      "text/html": [
       "<style  type=\"text/css\" >\n",
       "#T_16373_row0_col1,#T_16373_row0_col2,#T_16373_row1_col1,#T_16373_row2_col1,#T_16373_row3_col1,#T_16373_row4_col1{\n",
       "            width:  10em;\n",
       "             height:  80%;\n",
       "        }#T_16373_row1_col2{\n",
       "            width:  10em;\n",
       "             height:  80%;\n",
       "            background:  linear-gradient(90deg,#95cff5 25.0%, transparent 25.0%);\n",
       "        }#T_16373_row2_col2{\n",
       "            width:  10em;\n",
       "             height:  80%;\n",
       "            background:  linear-gradient(90deg,#95cff5 50.0%, transparent 50.0%);\n",
       "        }#T_16373_row3_col2{\n",
       "            width:  10em;\n",
       "             height:  80%;\n",
       "            background:  linear-gradient(90deg,#95cff5 75.0%, transparent 75.0%);\n",
       "        }#T_16373_row4_col2{\n",
       "            width:  10em;\n",
       "             height:  80%;\n",
       "            background:  linear-gradient(90deg,#95cff5 100.0%, transparent 100.0%);\n",
       "        }</style><table id=\"T_16373_\" ><thead>    <tr>        <th class=\"blank\" ></th>        <th class=\"blank\" ></th>        <th class=\"blank\" ></th>        <th class=\"blank level0\" ></th>        <th class=\"col_heading level0 col0\" >count</th>        <th class=\"col_heading level0 col1\" >percent</th>        <th class=\"col_heading level0 col2\" >cumulative_percent</th>    </tr>    <tr>        <th class=\"index_name level0\" >params._pipe-normalize__norm</th>        <th class=\"index_name level1\" >params._pipe-reduce__n_components</th>        <th class=\"index_name level2\" >params._pipe-cluster__affinity</th>        <th class=\"index_name level3\" >params._pipe-cluster__linkage</th>        <th class=\"blank\" ></th>        <th class=\"blank\" ></th>        <th class=\"blank\" ></th>    </tr></thead><tbody>\n",
       "                <tr>\n",
       "                        <th id=\"T_16373_level0_row0\" class=\"row_heading level0 row0\" rowspan=\"2\">l2</th>\n",
       "                        <th id=\"T_16373_level1_row0\" class=\"row_heading level1 row0\" >128</th>\n",
       "                        <th id=\"T_16373_level2_row0\" class=\"row_heading level2 row0\" >euclidean</th>\n",
       "                        <th id=\"T_16373_level3_row0\" class=\"row_heading level3 row0\" >ward</th>\n",
       "                        <td id=\"T_16373_row0_col0\" class=\"data row0 col0\" >1</td>\n",
       "                        <td id=\"T_16373_row0_col1\" class=\"data row0 col1\" >20.0%</td>\n",
       "                        <td id=\"T_16373_row0_col2\" class=\"data row0 col2\" >20.0%</td>\n",
       "            </tr>\n",
       "            <tr>\n",
       "                                <th id=\"T_16373_level1_row1\" class=\"row_heading level1 row1\" >null</th>\n",
       "                        <th id=\"T_16373_level2_row1\" class=\"row_heading level2 row1\" >euclidean</th>\n",
       "                        <th id=\"T_16373_level3_row1\" class=\"row_heading level3 row1\" >ward</th>\n",
       "                        <td id=\"T_16373_row1_col0\" class=\"data row1 col0\" >1</td>\n",
       "                        <td id=\"T_16373_row1_col1\" class=\"data row1 col1\" >20.0%</td>\n",
       "                        <td id=\"T_16373_row1_col2\" class=\"data row1 col2\" >40.0%</td>\n",
       "            </tr>\n",
       "            <tr>\n",
       "                        <th id=\"T_16373_level0_row2\" class=\"row_heading level0 row2\" rowspan=\"3\">null</th>\n",
       "                        <th id=\"T_16373_level1_row2\" class=\"row_heading level1 row2\" rowspan=\"2\">128</th>\n",
       "                        <th id=\"T_16373_level2_row2\" class=\"row_heading level2 row2\" >cosine</th>\n",
       "                        <th id=\"T_16373_level3_row2\" class=\"row_heading level3 row2\" >complete</th>\n",
       "                        <td id=\"T_16373_row2_col0\" class=\"data row2 col0\" >1</td>\n",
       "                        <td id=\"T_16373_row2_col1\" class=\"data row2 col1\" >20.0%</td>\n",
       "                        <td id=\"T_16373_row2_col2\" class=\"data row2 col2\" >60.0%</td>\n",
       "            </tr>\n",
       "            <tr>\n",
       "                                        <th id=\"T_16373_level2_row3\" class=\"row_heading level2 row3\" >euclidean</th>\n",
       "                        <th id=\"T_16373_level3_row3\" class=\"row_heading level3 row3\" >ward</th>\n",
       "                        <td id=\"T_16373_row3_col0\" class=\"data row3 col0\" >1</td>\n",
       "                        <td id=\"T_16373_row3_col1\" class=\"data row3 col1\" >20.0%</td>\n",
       "                        <td id=\"T_16373_row3_col2\" class=\"data row3 col2\" >80.0%</td>\n",
       "            </tr>\n",
       "            <tr>\n",
       "                                <th id=\"T_16373_level1_row4\" class=\"row_heading level1 row4\" >null</th>\n",
       "                        <th id=\"T_16373_level2_row4\" class=\"row_heading level2 row4\" >euclidean</th>\n",
       "                        <th id=\"T_16373_level3_row4\" class=\"row_heading level3 row4\" >ward</th>\n",
       "                        <td id=\"T_16373_row4_col0\" class=\"data row4 col0\" >1</td>\n",
       "                        <td id=\"T_16373_row4_col1\" class=\"data row4 col1\" >20.0%</td>\n",
       "                        <td id=\"T_16373_row4_col2\" class=\"data row4 col2\" >100.0%</td>\n",
       "            </tr>\n",
       "    </tbody></table>"
      ],
      "text/plain": [
       "<pandas.io.formats.style.Styler at 0x7fba5f972bd0>"
      ]
     },
     "execution_count": 95,
     "metadata": {},
     "output_type": "execute_result"
    }
   ],
   "source": [
    "value_counts_and_pcts(\n",
    "    df_top_runs_full,\n",
    "    [c for c in l_parallel_params if c_subreddits_filtered not in c]\n",
    ")"
   ]
  },
  {
   "cell_type": "code",
   "execution_count": 96,
   "id": "28519579",
   "metadata": {},
   "outputs": [
    {
     "data": {
      "text/html": [
       "<style  type=\"text/css\" >\n",
       "#T_834c2_row0_col1,#T_834c2_row0_col2{\n",
       "            width:  10em;\n",
       "             height:  80%;\n",
       "        }</style><table id=\"T_834c2_\" ><thead>    <tr>        <th class=\"blank level0\" ></th>        <th class=\"col_heading level0 col0\" >count</th>        <th class=\"col_heading level0 col1\" >percent</th>        <th class=\"col_heading level0 col2\" >cumulative_percent</th>    </tr>    <tr>        <th class=\"index_name level0\" >metrics.filtered_embeddings-n_rows</th>        <th class=\"blank\" ></th>        <th class=\"blank\" ></th>        <th class=\"blank\" ></th>    </tr></thead><tbody>\n",
       "                <tr>\n",
       "                        <th id=\"T_834c2_level0_row0\" class=\"row_heading level0 row0\" >81970.0</th>\n",
       "                        <td id=\"T_834c2_row0_col0\" class=\"data row0 col0\" >5</td>\n",
       "                        <td id=\"T_834c2_row0_col1\" class=\"data row0 col1\" >100.0%</td>\n",
       "                        <td id=\"T_834c2_row0_col2\" class=\"data row0 col2\" >100.0%</td>\n",
       "            </tr>\n",
       "    </tbody></table>"
      ],
      "text/plain": [
       "<pandas.io.formats.style.Styler at 0x7fba5fa3f990>"
      ]
     },
     "execution_count": 96,
     "metadata": {},
     "output_type": "execute_result"
    }
   ],
   "source": [
    "value_counts_and_pcts(\n",
    "    df_top_runs_full,\n",
    "    [c_subreddits_filtered]\n",
    ")"
   ]
  },
  {
   "cell_type": "markdown",
   "id": "4027f348",
   "metadata": {},
   "source": [
    "### All runs"
   ]
  },
  {
   "cell_type": "code",
   "execution_count": 100,
   "id": "d438302c",
   "metadata": {},
   "outputs": [
    {
     "data": {
      "text/html": [
       "<div>\n",
       "<style scoped>\n",
       "    .dataframe tbody tr th:only-of-type {\n",
       "        vertical-align: middle;\n",
       "    }\n",
       "\n",
       "    .dataframe tbody tr th {\n",
       "        vertical-align: top;\n",
       "    }\n",
       "\n",
       "    .dataframe thead th {\n",
       "        text-align: right;\n",
       "    }\n",
       "</style>\n",
       "<table border=\"1\" class=\"dataframe\">\n",
       "  <thead>\n",
       "    <tr style=\"text-align: right;\">\n",
       "      <th></th>\n",
       "      <th></th>\n",
       "      <th></th>\n",
       "      <th></th>\n",
       "      <th>run_id_count</th>\n",
       "      <th>metrics.primary_topic-3000_to_3200-f1_score-weighted_avg</th>\n",
       "      <th>metrics.primary_topic-3900_to_4000-f1_score-weighted_avg</th>\n",
       "    </tr>\n",
       "    <tr>\n",
       "      <th>params._pipe-normalize__norm</th>\n",
       "      <th>params._pipe-reduce__n_components</th>\n",
       "      <th>params._pipe-cluster__affinity</th>\n",
       "      <th>params._pipe-cluster__linkage</th>\n",
       "      <th></th>\n",
       "      <th></th>\n",
       "      <th></th>\n",
       "    </tr>\n",
       "  </thead>\n",
       "  <tbody>\n",
       "    <tr>\n",
       "      <th rowspan=\"2\" valign=\"top\">l2</th>\n",
       "      <th>128</th>\n",
       "      <th>euclidean</th>\n",
       "      <th>ward</th>\n",
       "      <td>3</td>\n",
       "      <td>0.747494</td>\n",
       "      <td>0.755914</td>\n",
       "    </tr>\n",
       "    <tr>\n",
       "      <th>None</th>\n",
       "      <th>euclidean</th>\n",
       "      <th>ward</th>\n",
       "      <td>3</td>\n",
       "      <td>0.745921</td>\n",
       "      <td>0.753966</td>\n",
       "    </tr>\n",
       "    <tr>\n",
       "      <th rowspan=\"10\" valign=\"top\">None</th>\n",
       "      <th>128</th>\n",
       "      <th>euclidean</th>\n",
       "      <th>ward</th>\n",
       "      <td>3</td>\n",
       "      <td>0.745835</td>\n",
       "      <td>0.752326</td>\n",
       "    </tr>\n",
       "    <tr>\n",
       "      <th>None</th>\n",
       "      <th>euclidean</th>\n",
       "      <th>ward</th>\n",
       "      <td>3</td>\n",
       "      <td>0.742467</td>\n",
       "      <td>0.749905</td>\n",
       "    </tr>\n",
       "    <tr>\n",
       "      <th>128</th>\n",
       "      <th>cosine</th>\n",
       "      <th>complete</th>\n",
       "      <td>3</td>\n",
       "      <td>0.737710</td>\n",
       "      <td>0.747407</td>\n",
       "    </tr>\n",
       "    <tr>\n",
       "      <th>None</th>\n",
       "      <th>cosine</th>\n",
       "      <th>complete</th>\n",
       "      <td>3</td>\n",
       "      <td>0.731640</td>\n",
       "      <td>0.741200</td>\n",
       "    </tr>\n",
       "    <tr>\n",
       "      <th>128</th>\n",
       "      <th>euclidean</th>\n",
       "      <th>complete</th>\n",
       "      <td>3</td>\n",
       "      <td>0.724319</td>\n",
       "      <td>0.734804</td>\n",
       "    </tr>\n",
       "    <tr>\n",
       "      <th>None</th>\n",
       "      <th>euclidean</th>\n",
       "      <th>complete</th>\n",
       "      <td>3</td>\n",
       "      <td>0.709943</td>\n",
       "      <td>0.721995</td>\n",
       "    </tr>\n",
       "    <tr>\n",
       "      <th>128</th>\n",
       "      <th>cosine</th>\n",
       "      <th>average</th>\n",
       "      <td>3</td>\n",
       "      <td>0.703436</td>\n",
       "      <td>0.718780</td>\n",
       "    </tr>\n",
       "    <tr>\n",
       "      <th>None</th>\n",
       "      <th>cosine</th>\n",
       "      <th>average</th>\n",
       "      <td>3</td>\n",
       "      <td>0.683098</td>\n",
       "      <td>0.700946</td>\n",
       "    </tr>\n",
       "    <tr>\n",
       "      <th>128</th>\n",
       "      <th>euclidean</th>\n",
       "      <th>average</th>\n",
       "      <td>3</td>\n",
       "      <td>0.657951</td>\n",
       "      <td>0.688601</td>\n",
       "    </tr>\n",
       "    <tr>\n",
       "      <th>None</th>\n",
       "      <th>euclidean</th>\n",
       "      <th>average</th>\n",
       "      <td>3</td>\n",
       "      <td>0.498767</td>\n",
       "      <td>0.576572</td>\n",
       "    </tr>\n",
       "  </tbody>\n",
       "</table>\n",
       "</div>"
      ],
      "text/plain": [
       "                                                                                                                             run_id_count  metrics.primary_topic-3000_to_3200-f1_score-weighted_avg  metrics.primary_topic-3900_to_4000-f1_score-weighted_avg\n",
       "params._pipe-normalize__norm params._pipe-reduce__n_components params._pipe-cluster__affinity params._pipe-cluster__linkage                                                                                                                                  \n",
       "l2                           128                               euclidean                      ward                                      3                                                  0.747494                                                  0.755914\n",
       "                             None                              euclidean                      ward                                      3                                                  0.745921                                                  0.753966\n",
       "None                         128                               euclidean                      ward                                      3                                                  0.745835                                                  0.752326\n",
       "                             None                              euclidean                      ward                                      3                                                  0.742467                                                  0.749905\n",
       "                             128                               cosine                         complete                                  3                                                  0.737710                                                  0.747407\n",
       "                             None                              cosine                         complete                                  3                                                  0.731640                                                  0.741200\n",
       "                             128                               euclidean                      complete                                  3                                                  0.724319                                                  0.734804\n",
       "                             None                              euclidean                      complete                                  3                                                  0.709943                                                  0.721995\n",
       "                             128                               cosine                         average                                   3                                                  0.703436                                                  0.718780\n",
       "                             None                              cosine                         average                                   3                                                  0.683098                                                  0.700946\n",
       "                             128                               euclidean                      average                                   3                                                  0.657951                                                  0.688601\n",
       "                             None                              euclidean                      average                                   3                                                  0.498767                                                  0.576572"
      ]
     },
     "execution_count": 100,
     "metadata": {},
     "output_type": "execute_result"
    }
   ],
   "source": [
    "(\n",
    "    df_mlf_clustering_candidates.fillna('None')\n",
    "    .groupby([c for c in l_parallel_params if c_subreddits_filtered not in c])\n",
    "    .agg(\n",
    "        **{\n",
    "            'run_id_count': ('run_id', 'nunique'),\n",
    "            c_f1_pt_weighted_3k: (c_f1_pt_weighted_3k, 'mean'),\n",
    "            c_f1_pt_weighted_4k: (c_f1_pt_weighted_4k, 'mean'),\n",
    "        }\n",
    "    )\n",
    "    .sort_values(by=c_f1_pt_weighted_4k, ascending=False)\n",
    ")"
   ]
  },
  {
   "cell_type": "code",
   "execution_count": 101,
   "id": "c88d14da",
   "metadata": {},
   "outputs": [
    {
     "data": {
      "text/html": [
       "<div>\n",
       "<style scoped>\n",
       "    .dataframe tbody tr th:only-of-type {\n",
       "        vertical-align: middle;\n",
       "    }\n",
       "\n",
       "    .dataframe tbody tr th {\n",
       "        vertical-align: top;\n",
       "    }\n",
       "\n",
       "    .dataframe thead th {\n",
       "        text-align: right;\n",
       "    }\n",
       "</style>\n",
       "<table border=\"1\" class=\"dataframe\">\n",
       "  <thead>\n",
       "    <tr style=\"text-align: right;\">\n",
       "      <th></th>\n",
       "      <th>run_id_count</th>\n",
       "      <th>metrics.primary_topic-3000_to_3200-f1_score-weighted_avg</th>\n",
       "      <th>metrics.primary_topic-3900_to_4000-f1_score-weighted_avg</th>\n",
       "    </tr>\n",
       "    <tr>\n",
       "      <th>metrics.filtered_embeddings-n_rows</th>\n",
       "      <th></th>\n",
       "      <th></th>\n",
       "      <th></th>\n",
       "    </tr>\n",
       "  </thead>\n",
       "  <tbody>\n",
       "    <tr>\n",
       "      <th>81815.0</th>\n",
       "      <td>12</td>\n",
       "      <td>0.704044</td>\n",
       "      <td>0.720839</td>\n",
       "    </tr>\n",
       "    <tr>\n",
       "      <th>81954.0</th>\n",
       "      <td>12</td>\n",
       "      <td>0.702121</td>\n",
       "      <td>0.720313</td>\n",
       "    </tr>\n",
       "    <tr>\n",
       "      <th>81970.0</th>\n",
       "      <td>12</td>\n",
       "      <td>0.700981</td>\n",
       "      <td>0.719453</td>\n",
       "    </tr>\n",
       "  </tbody>\n",
       "</table>\n",
       "</div>"
      ],
      "text/plain": [
       "                                    run_id_count  metrics.primary_topic-3000_to_3200-f1_score-weighted_avg  metrics.primary_topic-3900_to_4000-f1_score-weighted_avg\n",
       "metrics.filtered_embeddings-n_rows                                                                                                                                  \n",
       "81815.0                                       12                                                  0.704044                                                  0.720839\n",
       "81954.0                                       12                                                  0.702121                                                  0.720313\n",
       "81970.0                                       12                                                  0.700981                                                  0.719453"
      ]
     },
     "execution_count": 101,
     "metadata": {},
     "output_type": "execute_result"
    }
   ],
   "source": [
    "(\n",
    "    df_mlf_clustering_candidates.fillna('None')\n",
    "    .groupby(c_subreddits_filtered)\n",
    "    .agg(\n",
    "        **{\n",
    "            'run_id_count': ('run_id', 'nunique'),\n",
    "            c_f1_pt_weighted_3k: (c_f1_pt_weighted_3k, 'mean'),\n",
    "            c_f1_pt_weighted_4k: (c_f1_pt_weighted_4k, 'mean'),\n",
    "        }\n",
    "    )\n",
    "    .sort_values(by=c_f1_pt_weighted_4k, ascending=False)\n",
    ")"
   ]
  },
  {
   "cell_type": "markdown",
   "id": "5cbba319",
   "metadata": {},
   "source": [
    "## Pick best model\n",
    "\n",
    "It looks like the reduce step with `n_components=128` slightly boosts performance. \n",
    "\n",
    "Picked model's `run_id`:\n",
    "```\n",
    "8da1ce07d7214ea1a384b445f6d5db5d\n",
    "```\n",
    "\n",
    "NOTE: For the next iteration, we should get these metrics using k-fold validation and use the mean+std instead of a single score."
   ]
  },
  {
   "cell_type": "markdown",
   "id": "7897d30c",
   "metadata": {},
   "source": [
    "### Only top runs"
   ]
  },
  {
   "cell_type": "code",
   "execution_count": 98,
   "id": "07a1889d",
   "metadata": {},
   "outputs": [
    {
     "data": {
      "text/html": [
       "<div>\n",
       "<style scoped>\n",
       "    .dataframe tbody tr th:only-of-type {\n",
       "        vertical-align: middle;\n",
       "    }\n",
       "\n",
       "    .dataframe tbody tr th {\n",
       "        vertical-align: top;\n",
       "    }\n",
       "\n",
       "    .dataframe thead th {\n",
       "        text-align: right;\n",
       "    }\n",
       "</style>\n",
       "<table border=\"1\" class=\"dataframe\">\n",
       "  <thead>\n",
       "    <tr style=\"text-align: right;\">\n",
       "      <th></th>\n",
       "      <th></th>\n",
       "      <th></th>\n",
       "      <th></th>\n",
       "      <th></th>\n",
       "      <th>run_id_count</th>\n",
       "      <th>metrics.primary_topic-3000_to_3200-f1_score-weighted_avg</th>\n",
       "      <th>metrics.primary_topic-3900_to_4000-f1_score-weighted_avg</th>\n",
       "    </tr>\n",
       "    <tr>\n",
       "      <th>params._pipe-normalize__norm</th>\n",
       "      <th>params._pipe-reduce__n_components</th>\n",
       "      <th>params._pipe-cluster__affinity</th>\n",
       "      <th>params._pipe-cluster__linkage</th>\n",
       "      <th>run_id</th>\n",
       "      <th></th>\n",
       "      <th></th>\n",
       "      <th></th>\n",
       "    </tr>\n",
       "  </thead>\n",
       "  <tbody>\n",
       "    <tr>\n",
       "      <th rowspan=\"2\" valign=\"top\">l2</th>\n",
       "      <th>128</th>\n",
       "      <th>euclidean</th>\n",
       "      <th>ward</th>\n",
       "      <th>8da1ce07d7214ea1a384b445f6d5db5d</th>\n",
       "      <td>1</td>\n",
       "      <td>0.747339</td>\n",
       "      <td>0.755680</td>\n",
       "    </tr>\n",
       "    <tr>\n",
       "      <th>None</th>\n",
       "      <th>euclidean</th>\n",
       "      <th>ward</th>\n",
       "      <th>5273f92619bf4b5da9b9cc574f55c6eb</th>\n",
       "      <td>1</td>\n",
       "      <td>0.745501</td>\n",
       "      <td>0.753984</td>\n",
       "    </tr>\n",
       "    <tr>\n",
       "      <th rowspan=\"3\" valign=\"top\">None</th>\n",
       "      <th>128</th>\n",
       "      <th>euclidean</th>\n",
       "      <th>ward</th>\n",
       "      <th>addacec7e1a44aa8a9aec86dab037a6f</th>\n",
       "      <td>1</td>\n",
       "      <td>0.745547</td>\n",
       "      <td>0.751558</td>\n",
       "    </tr>\n",
       "    <tr>\n",
       "      <th>None</th>\n",
       "      <th>euclidean</th>\n",
       "      <th>ward</th>\n",
       "      <th>174515870b48479eb9c37aadd27667c2</th>\n",
       "      <td>1</td>\n",
       "      <td>0.741242</td>\n",
       "      <td>0.749732</td>\n",
       "    </tr>\n",
       "    <tr>\n",
       "      <th>128</th>\n",
       "      <th>cosine</th>\n",
       "      <th>complete</th>\n",
       "      <th>23e6f694513949f38f52e211cf721afb</th>\n",
       "      <td>1</td>\n",
       "      <td>0.738138</td>\n",
       "      <td>0.746549</td>\n",
       "    </tr>\n",
       "  </tbody>\n",
       "</table>\n",
       "</div>"
      ],
      "text/plain": [
       "                                                                                                                                                              run_id_count  metrics.primary_topic-3000_to_3200-f1_score-weighted_avg  metrics.primary_topic-3900_to_4000-f1_score-weighted_avg\n",
       "params._pipe-normalize__norm params._pipe-reduce__n_components params._pipe-cluster__affinity params._pipe-cluster__linkage run_id                                                                                                                                                            \n",
       "l2                           128                               euclidean                      ward                          8da1ce07d7214ea1a384b445f6d5db5d             1                                                  0.747339                                                  0.755680\n",
       "                             None                              euclidean                      ward                          5273f92619bf4b5da9b9cc574f55c6eb             1                                                  0.745501                                                  0.753984\n",
       "None                         128                               euclidean                      ward                          addacec7e1a44aa8a9aec86dab037a6f             1                                                  0.745547                                                  0.751558\n",
       "                             None                              euclidean                      ward                          174515870b48479eb9c37aadd27667c2             1                                                  0.741242                                                  0.749732\n",
       "                             128                               cosine                         complete                      23e6f694513949f38f52e211cf721afb             1                                                  0.738138                                                  0.746549"
      ]
     },
     "execution_count": 98,
     "metadata": {},
     "output_type": "execute_result"
    }
   ],
   "source": [
    "(\n",
    "    df_top_runs_full.fillna('None')\n",
    "    .groupby([c for c in l_parallel_params if c_subreddits_filtered not in c] + ['run_id'])\n",
    "    .agg(\n",
    "        **{\n",
    "            'run_id_count': ('run_id', 'nunique'),\n",
    "            c_f1_pt_weighted_3k: (c_f1_pt_weighted_3k, 'mean'),\n",
    "            c_f1_pt_weighted_4k: (c_f1_pt_weighted_4k, 'mean'),\n",
    "        }\n",
    "    )\n",
    "    .sort_values(by=c_f1_pt_weighted_4k, ascending=False)\n",
    ")"
   ]
  },
  {
   "cell_type": "code",
   "execution_count": 99,
   "id": "cad28d6f",
   "metadata": {},
   "outputs": [
    {
     "data": {
      "text/html": [
       "<div>\n",
       "<style scoped>\n",
       "    .dataframe tbody tr th:only-of-type {\n",
       "        vertical-align: middle;\n",
       "    }\n",
       "\n",
       "    .dataframe tbody tr th {\n",
       "        vertical-align: top;\n",
       "    }\n",
       "\n",
       "    .dataframe thead th {\n",
       "        text-align: right;\n",
       "    }\n",
       "</style>\n",
       "<table border=\"1\" class=\"dataframe\">\n",
       "  <thead>\n",
       "    <tr style=\"text-align: right;\">\n",
       "      <th></th>\n",
       "      <th>run_id_count</th>\n",
       "      <th>metrics.primary_topic-3000_to_3200-f1_score-weighted_avg</th>\n",
       "      <th>metrics.primary_topic-3900_to_4000-f1_score-weighted_avg</th>\n",
       "    </tr>\n",
       "    <tr>\n",
       "      <th>metrics.filtered_embeddings-n_rows</th>\n",
       "      <th></th>\n",
       "      <th></th>\n",
       "      <th></th>\n",
       "    </tr>\n",
       "  </thead>\n",
       "  <tbody>\n",
       "    <tr>\n",
       "      <th>81970.0</th>\n",
       "      <td>5</td>\n",
       "      <td>0.743554</td>\n",
       "      <td>0.751501</td>\n",
       "    </tr>\n",
       "  </tbody>\n",
       "</table>\n",
       "</div>"
      ],
      "text/plain": [
       "                                    run_id_count  metrics.primary_topic-3000_to_3200-f1_score-weighted_avg  metrics.primary_topic-3900_to_4000-f1_score-weighted_avg\n",
       "metrics.filtered_embeddings-n_rows                                                                                                                                  \n",
       "81970.0                                        5                                                  0.743554                                                  0.751501"
      ]
     },
     "execution_count": 99,
     "metadata": {},
     "output_type": "execute_result"
    }
   ],
   "source": [
    "(\n",
    "    df_top_runs_full.fillna('None')\n",
    "    .groupby(c_subreddits_filtered)\n",
    "    .agg(\n",
    "        **{\n",
    "            'run_id_count': ('run_id', 'nunique'),\n",
    "            c_f1_pt_weighted_3k: (c_f1_pt_weighted_3k, 'mean'),\n",
    "            c_f1_pt_weighted_4k: (c_f1_pt_weighted_4k, 'mean'),\n",
    "        }\n",
    "    )\n",
    "    .sort_values(by=c_f1_pt_weighted_4k, ascending=False)\n",
    ")"
   ]
  },
  {
   "cell_type": "code",
   "execution_count": null,
   "id": "c50a94bf",
   "metadata": {},
   "outputs": [],
   "source": []
  }
 ],
 "metadata": {
  "environment": {
   "name": "common-cpu.m65",
   "type": "gcloud",
   "uri": "gcr.io/deeplearning-platform-release/base-cpu:m65"
  },
  "kernelspec": {
   "display_name": "Python 3",
   "language": "python",
   "name": "python3"
  },
  "language_info": {
   "codemirror_mode": {
    "name": "ipython",
    "version": 3
   },
   "file_extension": ".py",
   "mimetype": "text/x-python",
   "name": "python",
   "nbconvert_exporter": "python",
   "pygments_lexer": "ipython3",
   "version": "3.7.10"
  }
 },
 "nbformat": 4,
 "nbformat_minor": 5
}
