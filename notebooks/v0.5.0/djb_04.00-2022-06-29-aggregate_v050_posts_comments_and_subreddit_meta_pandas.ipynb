{
 "cells": [
  {
   "cell_type": "markdown",
   "id": "5f3b7238",
   "metadata": {},
   "source": [
    "# Purpose\n",
    "\n",
    "\n",
    "2022-06-29:\n",
    "Use updated pandas function to get embeddings on VM machine with a ton of RAM.\n",
    "\n",
    "Because we embedded post & text as a single embedding and we didn't use MLflow to create those embeddings, it's easier to just run the embeddings in the notebook than to re-use or re-write the old `AggregateEmbeddings` class.\n",
    "\n",
    "Provenance:\n",
    "* `v0.4.1 / djb_03.01-2021-12-aggregate_v041_posts_and_comments_pandas.ipynb`"
   ]
  },
  {
   "cell_type": "markdown",
   "id": "24791b01",
   "metadata": {},
   "source": [
    "# Notebook setup"
   ]
  },
  {
   "cell_type": "code",
   "execution_count": 1,
   "id": "b4e9c3be",
   "metadata": {},
   "outputs": [],
   "source": [
    "%load_ext autoreload\n",
    "%autoreload 2"
   ]
  },
  {
   "cell_type": "code",
   "execution_count": 92,
   "id": "1f240cc6",
   "metadata": {},
   "outputs": [
    {
     "name": "stdout",
     "output_type": "stream",
     "text": [
      "python\t\tv 3.7.10\n",
      "===\n",
      "dask\t\tv: 2021.06.0\n",
      "hydra\t\tv: 1.1.0\n",
      "mlflow\t\tv: 1.16.0\n",
      "numpy\t\tv: 1.19.5\n",
      "pandas\t\tv: 1.2.4\n",
      "plotly\t\tv: 4.14.3\n",
      "seaborn\t\tv: 0.11.1\n",
      "subclu\t\tv: 0.5.0\n"
     ]
    }
   ],
   "source": [
    "from datetime import datetime\n",
    "import gc\n",
    "import os\n",
    "import logging\n",
    "from logging import info\n",
    "from pathlib import Path\n",
    "from pprint import pprint\n",
    "\n",
    "import numpy as np\n",
    "import pandas as pd\n",
    "import plotly\n",
    "import plotly.express as px\n",
    "import seaborn as sns\n",
    "\n",
    "import dask\n",
    "from dask import dataframe as dd\n",
    "from tqdm.auto import tqdm\n",
    "\n",
    "import mlflow\n",
    "import hydra\n",
    "\n",
    "import subclu\n",
    "from subclu.models.aggregate_embeddings import (\n",
    "    AggregateEmbeddings, AggregateEmbeddingsConfig,\n",
    "    load_config_agg_jupyter, get_dask_df_shape,\n",
    ")\n",
    "from subclu.models import aggregate_embeddings_pd\n",
    "\n",
    "from subclu.utils import set_working_directory, get_project_subfolder\n",
    "from subclu.utils.eda import (\n",
    "    setup_logging, counts_describe, value_counts_and_pcts,\n",
    "    notebook_display_config, print_lib_versions,\n",
    "    style_df_numeric,\n",
    "    elapsed_time,\n",
    ")\n",
    "from subclu.utils.mlflow_logger import MlflowLogger, save_pd_df_to_parquet_in_chunks\n",
    "from subclu.eda.aggregates import (\n",
    "    compare_raw_v_weighted_language\n",
    ")\n",
    "from subclu.utils.data_irl_style import (\n",
    "    get_colormap, theme_dirl\n",
    ")\n",
    "\n",
    "from subclu.i18n_topic_model_batch.subclu2.utils.data_loaders_gcs import LoadSubredditsGCS\n",
    "\n",
    "\n",
    "print_lib_versions([dask, hydra, mlflow, np, pd, plotly, sns, subclu])"
   ]
  },
  {
   "cell_type": "code",
   "execution_count": 93,
   "id": "c5348c6a",
   "metadata": {},
   "outputs": [],
   "source": [
    "# plotting\n",
    "import matplotlib.pyplot as plt\n",
    "import matplotlib.ticker as mtick\n",
    "import matplotlib.dates as mdates\n",
    "plt.style.use('default')\n",
    "\n",
    "setup_logging()\n",
    "notebook_display_config()"
   ]
  },
  {
   "cell_type": "markdown",
   "id": "9d9eae8b",
   "metadata": {},
   "source": [
    "# Set Local model paths"
   ]
  },
  {
   "cell_type": "code",
   "execution_count": 94,
   "id": "580746c7",
   "metadata": {},
   "outputs": [
    {
     "data": {
      "text/plain": [
       "PosixPath('/home/jupyter/subreddit_clustering_i18n/data/models/aggregate_embeddings/manual_v050_2022-07-01_102413')"
      ]
     },
     "execution_count": 94,
     "metadata": {},
     "output_type": "execute_result"
    }
   ],
   "source": [
    "manual_model_timestamp = datetime.utcnow().strftime('%Y-%m-%d_%H%M%S')\n",
    "path_this_model = get_project_subfolder(\n",
    "    f\"data/models/aggregate_embeddings/manual_v050_{manual_model_timestamp}\"\n",
    ")\n",
    "Path.mkdir(path_this_model, parents=True, exist_ok=True)\n",
    "path_this_model"
   ]
  },
  {
   "cell_type": "markdown",
   "id": "73724b7d",
   "metadata": {},
   "source": [
    "## Paths for embeddings\n",
    "\n",
    "For v0.5.0 embeddings I didn't use mlflow to track the embeddings inference. We'll need to get them from these folders in GCS:\n",
    "\n",
    "- [Subreddit metadata](https://console.cloud.google.com/storage/browser/i18n-subreddit-clustering/i18n_topic_model_batch/runs/20220629/subreddits/text/embedding/2022-06-29_084555)\n",
    "    - `i18n-subreddit-clustering/i18n_topic_model_batch/runs/20220629/subreddits/text/embedding/2022-06-29_084555`\n",
    "- [Post + Comment Text (already combined)](https://console.cloud.google.com/storage/browser/i18n-subreddit-clustering/i18n_topic_model_batch/runs/20220629/post_and_comment_text_combined/text_subreddit_seeds/embedding/2022-06-29_091925)\n",
    "    - `i18n-subreddit-clustering/i18n_topic_model_batch/runs/20220629/post_and_comment_text_combined/text_subreddit_seeds/embedding/2022-06-29_091925`\n",
    "\n"
   ]
  },
  {
   "cell_type": "code",
   "execution_count": 65,
   "id": "f38eaaa6",
   "metadata": {},
   "outputs": [],
   "source": [
    "RUN_DATE = '20220629'\n",
    "\n",
    "BUCKET_NAME = 'i18n-subreddit-clustering'\n",
    "EMBEDDINGS_SUB_ID = '2022-06-29_084555'\n",
    "EMBEDDINGS_POST_COMMENT_ID = '2022-06-29_091925'"
   ]
  },
  {
   "cell_type": "markdown",
   "id": "1842f0e7",
   "metadata": {},
   "source": [
    "# Start MLflow & Log base params"
   ]
  },
  {
   "cell_type": "code",
   "execution_count": 95,
   "id": "6bddae1e",
   "metadata": {},
   "outputs": [],
   "source": [
    "mlf = MlflowLogger(tracking_uri='sqlite')"
   ]
  },
  {
   "cell_type": "code",
   "execution_count": null,
   "id": "eeb6d247",
   "metadata": {},
   "outputs": [],
   "source": [
    "t_start_agg_embed = datetime.utcnow()\n",
    "info(f\"== Start run_aggregation() method ==\")\n",
    "\n",
    "info(f\"MLflow tracking URI: {mlflow.get_tracking_uri()}\")\n",
    "mlf.set_experiment(mlflow_experiment)\n",
    "mlflow.start_run(run_name=run_name)\n",
    "mlf.add_git_hash_to_active_run()\n",
    "mlf.set_tag_hostname(key='host_name')\n",
    "mlf.log_param_hostname(key='host_name')\n",
    "mlf.log_cpu_count()\n",
    "mlf.log_ram_stats(param=True, only_memory_used=False)"
   ]
  },
  {
   "cell_type": "code",
   "execution_count": null,
   "id": "25e4de69",
   "metadata": {},
   "outputs": [],
   "source": [
    "elapsed_time()"
   ]
  },
  {
   "cell_type": "markdown",
   "id": "a1859408",
   "metadata": {},
   "source": [
    "# Load data"
   ]
  },
  {
   "cell_type": "code",
   "execution_count": 12,
   "id": "993da5d4",
   "metadata": {},
   "outputs": [
    {
     "name": "stderr",
     "output_type": "stream",
     "text": [
      "08:29:27 | INFO | \"  Local folder to download artifact(s):\n",
      "  /home/jupyter/subreddit_clustering_i18n/data/local_cache/i18n-subreddit-clustering/i18n_topic_model_batch/runs/20220629/subreddits/text/embedding/2022-06-29_084555\"\n",
      "08:29:27 | INFO | \"  5 <- Files matching prefix\"\n",
      "08:29:27 | INFO | \"  5 <- Files to check\"\n",
      "08:29:27 | INFO | \"    000000000000-196371_by_514.parquet <- File already exists, not downloading\"\n",
      "08:29:27 | INFO | \"    2022-06-29_08-45-55_vectorize_text.log <- File already exists, not downloading\"\n",
      "08:29:27 | INFO | \"  Files already cached: 2\"\n",
      "08:29:27 | INFO | \"0:00:00.191944  <- Downloading files elapsed time\"\n",
      "08:29:27 | INFO | \"  Files already downloaded.\"\n",
      "08:29:27 | INFO | \"  df format: pandas\"\n",
      "08:29:28 | INFO | \"  Checking ID uniqueness...\"\n"
     ]
    },
    {
     "name": "stdout",
     "output_type": "stream",
     "text": [
      "(196371, 514)\n",
      "CPU times: user 1.66 s, sys: 1.81 s, total: 3.47 s\n",
      "Wall time: 1.01 s\n"
     ]
    }
   ],
   "source": [
    "%%time\n",
    "\n",
    "\n",
    "subs_v = LoadSubredditsGCS(\n",
    "    bucket_name=BUCKET_NAME,\n",
    "    gcs_path=f'i18n_topic_model_batch/runs/{RUN_DATE}/subreddits/text/embedding/{EMBEDDINGS_SUB_ID}',\n",
    "    local_cache_path=\"/home/jupyter/subreddit_clustering_i18n/data/local_cache/\",\n",
    "    columns=None,\n",
    "    col_unique_check='subreddit_id',\n",
    "    df_format='pandas',\n",
    "    unique_check=True,\n",
    "    verbose= True,\n",
    "    \n",
    "    n_sample_files=None,\n",
    "    n_files_slice_start=None,\n",
    "    n_files_slice_end=None,\n",
    ")\n",
    "subs_v.local_cache()\n",
    "\n",
    "df_v_subs = subs_v.read_as_one_df()\n",
    "print(df_v_subs.shape)"
   ]
  },
  {
   "cell_type": "code",
   "execution_count": 14,
   "id": "4cadb5b0",
   "metadata": {},
   "outputs": [
    {
     "name": "stderr",
     "output_type": "stream",
     "text": [
      "08:31:30 | INFO | \"  Local folder to download artifact(s):\n",
      "  /home/jupyter/subreddit_clustering_i18n/data/local_cache/i18n-subreddit-clustering/i18n_topic_model_batch/runs/20220629/post_and_comment_text_combined/text_subreddit_seeds/embedding/2022-06-29_091925\"\n",
      "08:31:30 | INFO | \"  39 <- Files matching prefix\"\n",
      "08:31:30 | INFO | \"  39 <- Files to check\"\n",
      "08:37:29 | INFO | \"  Files already cached: 0\"\n",
      "08:37:29 | INFO | \"0:05:59.499427  <- Downloading files elapsed time\"\n",
      "08:37:29 | INFO | \"  Files already downloaded.\"\n",
      "08:37:29 | INFO | \"  df format: pandas\"\n"
     ]
    },
    {
     "name": "stdout",
     "output_type": "stream",
     "text": [
      "(16360314, 515)\n"
     ]
    }
   ],
   "source": [
    "pc_v = LoadSubredditsGCS(\n",
    "    bucket_name=BUCKET_NAME,\n",
    "    gcs_path=f'i18n_topic_model_batch/runs/{RUN_DATE}/post_and_comment_text_combined/text_subreddit_seeds/embedding/{EMBEDDINGS_POST_COMMENT_ID}',\n",
    "    local_cache_path=\"/home/jupyter/subreddit_clustering_i18n/data/local_cache/\",\n",
    "    columns=None,\n",
    "    col_unique_check='post_id',\n",
    "    df_format='pandas',\n",
    "    unique_check=False,\n",
    "    verbose= True,\n",
    "    \n",
    "    n_sample_files=None,\n",
    "    n_files_slice_start=None,\n",
    "    n_files_slice_end=None,\n",
    ")\n",
    "pc_v.local_cache()\n",
    "\n",
    "df_v_pc = pc_v.read_as_one_df()\n",
    "print(df_v_pc.shape)"
   ]
  },
  {
   "cell_type": "markdown",
   "id": "3d0ac9d9",
   "metadata": {},
   "source": [
    "# Set weights & create copy dfs for new weights"
   ]
  },
  {
   "cell_type": "code",
   "execution_count": 15,
   "id": "26f3135e",
   "metadata": {},
   "outputs": [],
   "source": [
    "# set weights\n",
    "WEIGHT_POST_COMMENT = 0.85\n",
    "WEIGHT_SUB_META = 0.15\n",
    "assert(1.0 == WEIGHT_POST_COMMENT + WEIGHT_SUB_META)"
   ]
  },
  {
   "cell_type": "code",
   "execution_count": 73,
   "id": "39394588",
   "metadata": {},
   "outputs": [
    {
     "name": "stdout",
     "output_type": "stream",
     "text": [
      "512\n"
     ]
    }
   ],
   "source": [
    "l_ix_sub_level = ['subreddit_id', 'subreddit_name']\n",
    "l_ix_post_level = l_ix_sub_level + ['post_id']\n",
    "\n",
    "l_embedding_cols = [c for c in df_v_pc if c.startswith('embeddings_')]\n",
    "print(len(l_embedding_cols))"
   ]
  },
  {
   "cell_type": "code",
   "execution_count": 16,
   "id": "48b84bdb",
   "metadata": {},
   "outputs": [
    {
     "name": "stdout",
     "output_type": "stream",
     "text": [
      "CPU times: user 6.61 s, sys: 6.52 s, total: 13.1 s\n",
      "Wall time: 13.1 s\n"
     ]
    }
   ],
   "source": [
    "%%time\n",
    "df_v_pc_weighted = df_v_pc.copy()\n",
    "\n",
    "df_v_subs_weighted = df_v_subs.copy()"
   ]
  },
  {
   "cell_type": "code",
   "execution_count": 20,
   "id": "e533a2db",
   "metadata": {},
   "outputs": [
    {
     "data": {
      "text/plain": [
       "False"
      ]
     },
     "execution_count": 20,
     "metadata": {},
     "output_type": "execute_result"
    }
   ],
   "source": [
    "# should be True\n",
    "np.allclose(df_v_pc_weighted.iloc[:1000,3:515], df_v_pc.iloc[:1000,3:515])"
   ]
  },
  {
   "cell_type": "code",
   "execution_count": 18,
   "id": "ddcd3983",
   "metadata": {},
   "outputs": [
    {
     "name": "stdout",
     "output_type": "stream",
     "text": [
      "CPU times: user 290 ms, sys: 200 ms, total: 490 ms\n",
      "Wall time: 489 ms\n"
     ]
    }
   ],
   "source": [
    "%%time\n",
    "# apply weight to all posts & subreddit meta at once (vectorized)\n",
    "df_v_subs_weighted[l_embedding_cols] = df_v_subs_weighted[l_embedding_cols] * WEIGHT_SUB_META"
   ]
  },
  {
   "cell_type": "code",
   "execution_count": 19,
   "id": "ee461626",
   "metadata": {},
   "outputs": [
    {
     "name": "stdout",
     "output_type": "stream",
     "text": [
      "CPU times: user 25.7 s, sys: 17.8 s, total: 43.4 s\n",
      "Wall time: 43.4 s\n"
     ]
    }
   ],
   "source": [
    "%%time\n",
    "# apply weight to all posts & subreddit meta at once (vectorized)\n",
    "df_v_pc_weighted[l_embedding_cols] = df_v_pc_weighted[l_embedding_cols] * WEIGHT_POST_COMMENT"
   ]
  },
  {
   "cell_type": "code",
   "execution_count": 20,
   "id": "618150d4",
   "metadata": {},
   "outputs": [
    {
     "data": {
      "text/plain": [
       "False"
      ]
     },
     "execution_count": 20,
     "metadata": {},
     "output_type": "execute_result"
    }
   ],
   "source": [
    "# Should be False\n",
    "np.allclose(df_v_pc_weighted.iloc[:1000,3:515], df_v_pc.iloc[:1000,3:515])"
   ]
  },
  {
   "cell_type": "markdown",
   "id": "5cc735e5",
   "metadata": {},
   "source": [
    "# Aggregate to Post-Level: Post&Comments + Subreddit Meta\n",
    "\n",
    "It's better to let pandas handle the interations with `.groupby('subreddit_id')`. Otherwise we have to create masks for each subreddit that can take much longer (10+ hours).\n",
    "\n",
    "- ETA with masks: +17.6 hours\n",
    "- ETA with groupby ~2.5 hours\n",
    "\n",
    "```\n",
    "# mask:\n",
    "0%  329/81973 [04:18<17:42:36, 1.28it/s]\n",
    "\n",
    "# .groupby()\n",
    "6% 4751/81973 [09:56<2:35:06, 8.30it/s]\n",
    "```"
   ]
  },
  {
   "cell_type": "code",
   "execution_count": 86,
   "id": "0589cc53",
   "metadata": {},
   "outputs": [
    {
     "name": "stderr",
     "output_type": "stream",
     "text": [
      "10:19:50 | INFO | \"Start C1 - posts + comments + sub descriptions\"\n"
     ]
    },
    {
     "data": {
      "application/vnd.jupyter.widget-view+json": {
       "model_id": "8fb12c3e7f484ed19f88cc95d632907c",
       "version_major": 2,
       "version_minor": 0
      },
      "text/plain": [
       "  0%|          | 0/573 [00:00<?, ?it/s]"
      ]
     },
     "metadata": {},
     "output_type": "display_data"
    },
    {
     "name": "stderr",
     "output_type": "stream",
     "text": [
      "10:21:00 | INFO | \"Create new C1 df\"\n",
      "10:21:00 | INFO | \"C1 - post level complete\"\n"
     ]
    },
    {
     "name": "stdout",
     "output_type": "stream",
     "text": [
      "(123000, 515)\n",
      "CPU times: user 1min 9s, sys: 249 ms, total: 1min 10s\n",
      "Wall time: 1min 9s\n"
     ]
    }
   ],
   "source": [
    "%%time\n",
    "info(f\"Start C1 - posts + comments + sub descriptions\")\n",
    "l_df_c1_weights = list()\n",
    "\n",
    "for s_id, df_ in tqdm(\n",
    "    df_v_pc_weighted.head(123000).groupby('subreddit_id'),\n",
    "    ascii=True, mininterval=5,\n",
    "):\n",
    "    df_.loc[:, l_embedding_cols] = np.add(\n",
    "        df_v_subs_weighted[df_v_subs_weighted['subreddit_id'] == s_id][l_embedding_cols].to_numpy(),\n",
    "        df_[l_embedding_cols]\n",
    "    )\n",
    "    l_df_c1_weights.append(df_)\n",
    "    del df_\n",
    "\n",
    "\n",
    "info(f\"Create new C1 df\")\n",
    "df_posts_agg_c1 = pd.concat(l_df_c1_weights, ignore_index=True)\n",
    "print(df_posts_agg_c1.shape)\n",
    "\n",
    "info(f\"C1 - post level complete\")"
   ]
  },
  {
   "cell_type": "code",
   "execution_count": 87,
   "id": "009332fe",
   "metadata": {},
   "outputs": [
    {
     "data": {
      "text/html": [
       "<div>\n",
       "<style scoped>\n",
       "    .dataframe tbody tr th:only-of-type {\n",
       "        vertical-align: middle;\n",
       "    }\n",
       "\n",
       "    .dataframe tbody tr th {\n",
       "        vertical-align: top;\n",
       "    }\n",
       "\n",
       "    .dataframe thead th {\n",
       "        text-align: right;\n",
       "    }\n",
       "</style>\n",
       "<table border=\"1\" class=\"dataframe\">\n",
       "  <thead>\n",
       "    <tr style=\"text-align: right;\">\n",
       "      <th></th>\n",
       "      <th>subreddit_id</th>\n",
       "      <th>subreddit_name</th>\n",
       "      <th>post_id</th>\n",
       "      <th>embeddings_0</th>\n",
       "      <th>embeddings_1</th>\n",
       "      <th>embeddings_2</th>\n",
       "      <th>embeddings_3</th>\n",
       "      <th>embeddings_4</th>\n",
       "      <th>embeddings_5</th>\n",
       "      <th>embeddings_6</th>\n",
       "    </tr>\n",
       "  </thead>\n",
       "  <tbody>\n",
       "    <tr>\n",
       "      <th>0</th>\n",
       "      <td>t5_1009a3</td>\n",
       "      <td>memesenespanol</td>\n",
       "      <td>t3_v00j0e</td>\n",
       "      <td>-0.038424</td>\n",
       "      <td>-0.001508</td>\n",
       "      <td>-0.044316</td>\n",
       "      <td>0.006019</td>\n",
       "      <td>-0.078988</td>\n",
       "      <td>0.012636</td>\n",
       "      <td>0.014201</td>\n",
       "    </tr>\n",
       "    <tr>\n",
       "      <th>1</th>\n",
       "      <td>t5_1009a3</td>\n",
       "      <td>memesenespanol</td>\n",
       "      <td>t3_v0eg7b</td>\n",
       "      <td>-0.031401</td>\n",
       "      <td>-0.023828</td>\n",
       "      <td>-0.038469</td>\n",
       "      <td>0.039142</td>\n",
       "      <td>0.057682</td>\n",
       "      <td>0.033646</td>\n",
       "      <td>-0.004657</td>\n",
       "    </tr>\n",
       "    <tr>\n",
       "      <th>2</th>\n",
       "      <td>t5_1009a3</td>\n",
       "      <td>memesenespanol</td>\n",
       "      <td>t3_v0l7ym</td>\n",
       "      <td>0.035448</td>\n",
       "      <td>-0.024439</td>\n",
       "      <td>0.040074</td>\n",
       "      <td>-0.021662</td>\n",
       "      <td>0.002018</td>\n",
       "      <td>0.038604</td>\n",
       "      <td>-0.035386</td>\n",
       "    </tr>\n",
       "    <tr>\n",
       "      <th>3</th>\n",
       "      <td>t5_1009a3</td>\n",
       "      <td>memesenespanol</td>\n",
       "      <td>t3_v0l8vu</td>\n",
       "      <td>-0.036525</td>\n",
       "      <td>-0.019641</td>\n",
       "      <td>-0.018195</td>\n",
       "      <td>-0.039854</td>\n",
       "      <td>-0.055660</td>\n",
       "      <td>0.035754</td>\n",
       "      <td>0.009570</td>\n",
       "    </tr>\n",
       "    <tr>\n",
       "      <th>4</th>\n",
       "      <td>t5_1009a3</td>\n",
       "      <td>memesenespanol</td>\n",
       "      <td>t3_v0qrxj</td>\n",
       "      <td>-0.015133</td>\n",
       "      <td>-0.025595</td>\n",
       "      <td>-0.042165</td>\n",
       "      <td>0.021455</td>\n",
       "      <td>-0.033216</td>\n",
       "      <td>0.068623</td>\n",
       "      <td>0.003232</td>\n",
       "    </tr>\n",
       "  </tbody>\n",
       "</table>\n",
       "</div>"
      ],
      "text/plain": [
       "  subreddit_id  subreddit_name    post_id  embeddings_0  embeddings_1  embeddings_2  embeddings_3  embeddings_4  embeddings_5  embeddings_6\n",
       "0    t5_1009a3  memesenespanol  t3_v00j0e     -0.038424     -0.001508     -0.044316      0.006019     -0.078988      0.012636      0.014201\n",
       "1    t5_1009a3  memesenespanol  t3_v0eg7b     -0.031401     -0.023828     -0.038469      0.039142      0.057682      0.033646     -0.004657\n",
       "2    t5_1009a3  memesenespanol  t3_v0l7ym      0.035448     -0.024439      0.040074     -0.021662      0.002018      0.038604     -0.035386\n",
       "3    t5_1009a3  memesenespanol  t3_v0l8vu     -0.036525     -0.019641     -0.018195     -0.039854     -0.055660      0.035754      0.009570\n",
       "4    t5_1009a3  memesenespanol  t3_v0qrxj     -0.015133     -0.025595     -0.042165      0.021455     -0.033216      0.068623      0.003232"
      ]
     },
     "execution_count": 87,
     "metadata": {},
     "output_type": "execute_result"
    }
   ],
   "source": [
    "df_posts_agg_c1.iloc[:5, :10]"
   ]
  },
  {
   "cell_type": "markdown",
   "id": "89ba1972",
   "metadata": {},
   "source": [
    "### Save post-level"
   ]
  },
  {
   "cell_type": "code",
   "execution_count": 100,
   "id": "3ae6e299",
   "metadata": {},
   "outputs": [
    {
     "name": "stderr",
     "output_type": "stream",
     "text": [
      "10:44:25 | INFO | \"Converting pandas to dask...\"\n",
      "10:44:25 | INFO | \"   263.7 MB <- Memory usage\"\n",
      "10:44:25 | INFO | \"       1\t<- target Dask partitions\t  350.0 <- target MB partition size\"\n"
     ]
    },
    {
     "name": "stdout",
     "output_type": "stream",
     "text": [
      "CPU times: user 3.84 s, sys: 322 ms, total: 4.16 s\n",
      "Wall time: 4.16 s\n"
     ]
    }
   ],
   "source": [
    "%%time\n",
    "# for post-level, we want to save using dask because it'll save to multiple files\n",
    "from collections import defaultdict\n",
    "d_dfs_to_save = defaultdict(dict)\n",
    "\n",
    "d_dfs_to_save['df_posts_agg_c1']['local'] = (\n",
    "    path_this_model / f\"df_posts_agg_c1_{datetime.utcnow().strftime('%Y-%m-%d_%H%M')}\"\n",
    ")\n",
    "d_dfs_to_save['df_posts_agg_c1']['df'] = df_posts_agg_c1\n",
    "\n",
    "save_pd_df_to_parquet_in_chunks(\n",
    "    df_posts_agg_c1,\n",
    "    d_dfs_to_save['df_posts_agg_c1']['local'],\n",
    "    write_index=False\n",
    ")"
   ]
  },
  {
   "cell_type": "code",
   "execution_count": null,
   "id": "24bf380e",
   "metadata": {},
   "outputs": [],
   "source": [
    "info(f\"  Logging df to mlflow...\")\n",
    "mlflow.log_artifacts(d_dfs_to_save['df_posts_agg_c1']['local'], artifact_path=d_dfs_to_save['df_posts_agg_c1'])"
   ]
  },
  {
   "cell_type": "markdown",
   "id": "4d8a24c7",
   "metadata": {},
   "source": [
    "# Aggregate to Subreddit Level"
   ]
  },
  {
   "cell_type": "code",
   "execution_count": 89,
   "id": "27f537dc",
   "metadata": {},
   "outputs": [
    {
     "name": "stderr",
     "output_type": "stream",
     "text": [
      "10:21:03 | INFO | \"SUBREDDIT-LEVEL C1 - posts + comments + sub descriptions\"\n",
      "10:21:03 | INFO | \"  (573, 514) <- df_subs_agg_c1.shape (posts + comments + sub description)\"\n"
     ]
    },
    {
     "name": "stdout",
     "output_type": "stream",
     "text": [
      "CPU times: user 310 ms, sys: 155 ms, total: 465 ms\n",
      "Wall time: 462 ms\n"
     ]
    }
   ],
   "source": [
    "%%time\n",
    "\n",
    "info(f\"SUBREDDIT-LEVEL C1 - posts + comments + sub descriptions\")\n",
    "df_subs_agg_c1 = (\n",
    "    df_posts_agg_c1\n",
    "    .groupby(l_ix_sub_level, as_index=False)\n",
    "    .mean()\n",
    "    .sort_values(by=l_ix_sub_level)\n",
    ")\n",
    "info(f\"  {df_subs_agg_c1.shape} <- df_subs_agg_c1.shape (posts + comments + sub description)\")"
   ]
  },
  {
   "cell_type": "code",
   "execution_count": 90,
   "id": "8946dc82",
   "metadata": {},
   "outputs": [
    {
     "data": {
      "text/html": [
       "<div>\n",
       "<style scoped>\n",
       "    .dataframe tbody tr th:only-of-type {\n",
       "        vertical-align: middle;\n",
       "    }\n",
       "\n",
       "    .dataframe tbody tr th {\n",
       "        vertical-align: top;\n",
       "    }\n",
       "\n",
       "    .dataframe thead th {\n",
       "        text-align: right;\n",
       "    }\n",
       "</style>\n",
       "<table border=\"1\" class=\"dataframe\">\n",
       "  <thead>\n",
       "    <tr style=\"text-align: right;\">\n",
       "      <th></th>\n",
       "      <th>subreddit_id</th>\n",
       "      <th>subreddit_name</th>\n",
       "      <th>embeddings_0</th>\n",
       "      <th>embeddings_1</th>\n",
       "      <th>embeddings_2</th>\n",
       "      <th>embeddings_3</th>\n",
       "      <th>embeddings_4</th>\n",
       "      <th>embeddings_5</th>\n",
       "      <th>embeddings_6</th>\n",
       "      <th>embeddings_7</th>\n",
       "    </tr>\n",
       "  </thead>\n",
       "  <tbody>\n",
       "    <tr>\n",
       "      <th>565</th>\n",
       "      <td>t5_121pbz</td>\n",
       "      <td>danidezzi</td>\n",
       "      <td>-0.003288</td>\n",
       "      <td>0.024298</td>\n",
       "      <td>0.041657</td>\n",
       "      <td>0.037304</td>\n",
       "      <td>-0.016999</td>\n",
       "      <td>0.017798</td>\n",
       "      <td>0.020901</td>\n",
       "      <td>-0.009704</td>\n",
       "    </tr>\n",
       "    <tr>\n",
       "      <th>566</th>\n",
       "      <td>t5_121sso</td>\n",
       "      <td>subsimulatorgpt2</td>\n",
       "      <td>0.010741</td>\n",
       "      <td>0.001471</td>\n",
       "      <td>-0.005019</td>\n",
       "      <td>-0.002949</td>\n",
       "      <td>0.000168</td>\n",
       "      <td>0.025520</td>\n",
       "      <td>0.002405</td>\n",
       "      <td>-0.006943</td>\n",
       "    </tr>\n",
       "    <tr>\n",
       "      <th>567</th>\n",
       "      <td>t5_121vdk</td>\n",
       "      <td>subsimulatorgpt2meta</td>\n",
       "      <td>-0.017591</td>\n",
       "      <td>0.024974</td>\n",
       "      <td>-0.020804</td>\n",
       "      <td>0.009360</td>\n",
       "      <td>0.018893</td>\n",
       "      <td>0.006528</td>\n",
       "      <td>-0.011085</td>\n",
       "      <td>-0.016565</td>\n",
       "    </tr>\n",
       "    <tr>\n",
       "      <th>568</th>\n",
       "      <td>t5_1229nt</td>\n",
       "      <td>footfunction</td>\n",
       "      <td>-0.046698</td>\n",
       "      <td>-0.002341</td>\n",
       "      <td>0.010889</td>\n",
       "      <td>0.005713</td>\n",
       "      <td>-0.044180</td>\n",
       "      <td>0.044654</td>\n",
       "      <td>0.066613</td>\n",
       "      <td>0.021109</td>\n",
       "    </tr>\n",
       "    <tr>\n",
       "      <th>569</th>\n",
       "      <td>t5_1229sf</td>\n",
       "      <td>adorablebdsm</td>\n",
       "      <td>-0.005888</td>\n",
       "      <td>0.007911</td>\n",
       "      <td>0.013208</td>\n",
       "      <td>0.025460</td>\n",
       "      <td>0.023216</td>\n",
       "      <td>0.035588</td>\n",
       "      <td>-0.012712</td>\n",
       "      <td>-0.045977</td>\n",
       "    </tr>\n",
       "    <tr>\n",
       "      <th>570</th>\n",
       "      <td>t5_122e6w</td>\n",
       "      <td>russian_forest</td>\n",
       "      <td>-0.009000</td>\n",
       "      <td>0.013543</td>\n",
       "      <td>-0.001294</td>\n",
       "      <td>-0.018704</td>\n",
       "      <td>0.018142</td>\n",
       "      <td>0.020227</td>\n",
       "      <td>0.004843</td>\n",
       "      <td>-0.048714</td>\n",
       "    </tr>\n",
       "    <tr>\n",
       "      <th>571</th>\n",
       "      <td>t5_122ek4</td>\n",
       "      <td>auroracomic</td>\n",
       "      <td>0.006227</td>\n",
       "      <td>-0.011303</td>\n",
       "      <td>0.005415</td>\n",
       "      <td>-0.019146</td>\n",
       "      <td>0.001395</td>\n",
       "      <td>0.030257</td>\n",
       "      <td>-0.014640</td>\n",
       "      <td>-0.002675</td>\n",
       "    </tr>\n",
       "    <tr>\n",
       "      <th>572</th>\n",
       "      <td>t5_122hf1</td>\n",
       "      <td>eldenring</td>\n",
       "      <td>-0.005069</td>\n",
       "      <td>0.007850</td>\n",
       "      <td>0.004079</td>\n",
       "      <td>0.020388</td>\n",
       "      <td>-0.002498</td>\n",
       "      <td>0.059155</td>\n",
       "      <td>0.005834</td>\n",
       "      <td>0.014089</td>\n",
       "    </tr>\n",
       "  </tbody>\n",
       "</table>\n",
       "</div>"
      ],
      "text/plain": [
       "    subreddit_id        subreddit_name  embeddings_0  embeddings_1  embeddings_2  embeddings_3  embeddings_4  embeddings_5  embeddings_6  embeddings_7\n",
       "565    t5_121pbz             danidezzi     -0.003288      0.024298      0.041657      0.037304     -0.016999      0.017798      0.020901     -0.009704\n",
       "566    t5_121sso      subsimulatorgpt2      0.010741      0.001471     -0.005019     -0.002949      0.000168      0.025520      0.002405     -0.006943\n",
       "567    t5_121vdk  subsimulatorgpt2meta     -0.017591      0.024974     -0.020804      0.009360      0.018893      0.006528     -0.011085     -0.016565\n",
       "568    t5_1229nt          footfunction     -0.046698     -0.002341      0.010889      0.005713     -0.044180      0.044654      0.066613      0.021109\n",
       "569    t5_1229sf          adorablebdsm     -0.005888      0.007911      0.013208      0.025460      0.023216      0.035588     -0.012712     -0.045977\n",
       "570    t5_122e6w        russian_forest     -0.009000      0.013543     -0.001294     -0.018704      0.018142      0.020227      0.004843     -0.048714\n",
       "571    t5_122ek4           auroracomic      0.006227     -0.011303      0.005415     -0.019146      0.001395      0.030257     -0.014640     -0.002675\n",
       "572    t5_122hf1             eldenring     -0.005069      0.007850      0.004079      0.020388     -0.002498      0.059155      0.005834      0.014089"
      ]
     },
     "execution_count": 90,
     "metadata": {},
     "output_type": "execute_result"
    }
   ],
   "source": [
    "df_subs_agg_c1.iloc[-8:, :10]"
   ]
  },
  {
   "cell_type": "markdown",
   "id": "63725989",
   "metadata": {},
   "source": [
    "### Save Subreddit level\n",
    "\n",
    "This one we can save as a pandas df, no need to split it into multiple files"
   ]
  },
  {
   "cell_type": "code",
   "execution_count": 96,
   "id": "a5c7eda0",
   "metadata": {},
   "outputs": [
    {
     "name": "stdout",
     "output_type": "stream",
     "text": [
      "CPU times: user 56.8 ms, sys: 8.01 ms, total: 64.8 ms\n",
      "Wall time: 63.8 ms\n"
     ]
    }
   ],
   "source": [
    "%%time\n",
    "df_subs_agg_c1.to_parquet(\n",
    "    path_this_model / f\"df_subs_agg_c1-{datetime.utcnow().strftime('%Y-%m-%d_%H%M')}.parquet\"\n",
    ")"
   ]
  },
  {
   "cell_type": "code",
   "execution_count": 97,
   "id": "57fdd7d8",
   "metadata": {},
   "outputs": [
    {
     "name": "stderr",
     "output_type": "stream",
     "text": [
      "10:35:59 | INFO | \"Converting pandas to dask...\"\n",
      "10:35:59 | INFO | \"     1.2 MB <- Memory usage\"\n",
      "10:35:59 | INFO | \"       1\t<- target Dask partitions\t   80.0 <- target MB partition size\"\n"
     ]
    },
    {
     "name": "stdout",
     "output_type": "stream",
     "text": [
      "CPU times: user 179 ms, sys: 0 ns, total: 179 ms\n",
      "Wall time: 176 ms\n"
     ]
    }
   ],
   "source": [
    "%%time\n",
    "save_pd_df_to_parquet_in_chunks(\n",
    "    df_subs_agg_c1,\n",
    "    path_this_model / f\"df_subs_agg_c1_{datetime.utcnow().strftime('%Y-%m-%d_%H%M')}\",\n",
    "    write_index=False\n",
    ")"
   ]
  },
  {
   "cell_type": "code",
   "execution_count": null,
   "id": "57444fdd",
   "metadata": {},
   "outputs": [],
   "source": [
    "# finish logging total time + end mlflow run\n",
    "total_fxn_time = elapsed_time(start_time=t_start_agg_embed, log_label='Total Agg fxn time', verbose=True)\n",
    "mlflow.log_metric('full_aggregation_fxn_minutes',\n",
    "                  total_fxn_time / timedelta(minutes=1)\n",
    "                  )"
   ]
  },
  {
   "cell_type": "markdown",
   "id": "6befccc3",
   "metadata": {},
   "source": [
    "# Test run on data sample"
   ]
  },
  {
   "cell_type": "code",
   "execution_count": null,
   "id": "4a343b96",
   "metadata": {},
   "outputs": [],
   "source": [
    "BREAK"
   ]
  },
  {
   "cell_type": "markdown",
   "id": "eff367ec",
   "metadata": {},
   "source": [
    "## Aggregate to Post Level"
   ]
  },
  {
   "cell_type": "code",
   "execution_count": 38,
   "id": "d7ad7346",
   "metadata": {},
   "outputs": [],
   "source": [
    "# # DON'T DO THIS -- iterating per sub + mask takes waaaay longer. \n",
    "# for s_id in tqdm(\n",
    "#     df_v_pc_weighted['subreddit_id'].unique(),\n",
    "#     ascii=True, mininterval=2\n",
    "# ):\n",
    "#     mask_sub_posts = df_v_pc_weighted['subreddit_id'] == s_id\n",
    "    \n",
    "# #     df_v_pc_weighted.loc[mask_sub_posts, l_embedding_cols] = np.add(\n",
    "# #         df_v_subs_weighted[df_v_subs_weighted['subreddit_id'] == s_id][l_embedding_cols].to_numpy(),\n",
    "# #         df_v_pc_weighted[mask_sub_posts][l_embedding_cols]\n",
    "# #     ) "
   ]
  },
  {
   "cell_type": "code",
   "execution_count": 41,
   "id": "e85f69b5",
   "metadata": {},
   "outputs": [
    {
     "data": {
      "application/vnd.jupyter.widget-view+json": {
       "model_id": "",
       "version_major": 2,
       "version_minor": 0
      },
      "text/plain": [
       "  0%|          | 0/573 [00:00<?, ?it/s]"
      ]
     },
     "metadata": {},
     "output_type": "display_data"
    }
   ],
   "source": [
    "l_df_c1_weights_test = list()\n",
    "\n",
    "for s_id, df_ in tqdm(\n",
    "    df_v_pc_weighted.head(123000).groupby('subreddit_id'),\n",
    "    ascii=True, mininterval=5,\n",
    "):\n",
    "    df_.loc[:, l_embedding_cols] = np.add(\n",
    "        df_v_subs_weighted[df_v_subs_weighted['subreddit_id'] == s_id][l_embedding_cols].to_numpy(),\n",
    "        df_[l_embedding_cols]\n",
    "    )\n",
    "    l_df_c1_weights_test.append(df_)"
   ]
  },
  {
   "cell_type": "code",
   "execution_count": 43,
   "id": "dac352ea",
   "metadata": {},
   "outputs": [
    {
     "data": {
      "text/plain": [
       "573"
      ]
     },
     "execution_count": 43,
     "metadata": {},
     "output_type": "execute_result"
    }
   ],
   "source": [
    "len(l_df_c1_weights_test)"
   ]
  },
  {
   "cell_type": "code",
   "execution_count": 44,
   "id": "784f8234",
   "metadata": {},
   "outputs": [
    {
     "name": "stdout",
     "output_type": "stream",
     "text": [
      "(123000, 515)\n",
      "CPU times: user 297 ms, sys: 121 ms, total: 418 ms\n",
      "Wall time: 418 ms\n"
     ]
    }
   ],
   "source": [
    "%%time\n",
    "df_posts_agg_c1_test = pd.concat(l_df_c1_weights_test, ignore_index=True)\n",
    "print(df_posts_agg_c1_test.shape)"
   ]
  },
  {
   "cell_type": "markdown",
   "id": "66c47369",
   "metadata": {},
   "source": [
    "### Save post-level"
   ]
  },
  {
   "cell_type": "code",
   "execution_count": 81,
   "id": "8d7837e8",
   "metadata": {},
   "outputs": [
    {
     "name": "stderr",
     "output_type": "stream",
     "text": [
      "10:08:25 | INFO | \"Converting pandas to dask...\"\n",
      "10:08:25 | INFO | \"   263.7 MB <- Memory usage\"\n",
      "10:08:25 | INFO | \"       2\t<- target Dask partitions\t  250.0 <- target MB partition size\"\n"
     ]
    }
   ],
   "source": [
    "# for post-level, we want to save using dask because it'll save to multiple files\n",
    "\n",
    "save_pd_df_to_parquet_in_chunks(\n",
    "    df_posts_agg_c1_test,\n",
    "    path_this_model / f\"df_posts_agg_c1_test_{datetime.utcnow().strftime('%Y-%m-%d_%H%M')}\",\n",
    "    write_index=False\n",
    ")"
   ]
  },
  {
   "cell_type": "markdown",
   "id": "6064389f",
   "metadata": {},
   "source": [
    "## Aggregate to Subreddit Level"
   ]
  },
  {
   "cell_type": "code",
   "execution_count": 74,
   "id": "f156baff",
   "metadata": {},
   "outputs": [
    {
     "data": {
      "text/plain": [
       "['subreddit_id', 'subreddit_name']"
      ]
     },
     "execution_count": 74,
     "metadata": {},
     "output_type": "execute_result"
    }
   ],
   "source": [
    "l_ix_sub_level"
   ]
  },
  {
   "cell_type": "code",
   "execution_count": 75,
   "id": "6951d666",
   "metadata": {},
   "outputs": [
    {
     "name": "stderr",
     "output_type": "stream",
     "text": [
      "10:04:49 | INFO | \"C1 - posts + comments + sub descriptions\"\n",
      "10:04:49 | INFO | \"  (573, 514) <- df_subs_agg_c.shape (posts + comments + sub description)\"\n"
     ]
    }
   ],
   "source": [
    "\n",
    "info(f\"C1 - posts + comments + sub descriptions\")\n",
    "df_subs_agg_c1_test = (\n",
    "    df_posts_agg_c1_test\n",
    "    .groupby(l_ix_sub_level, as_index=False)\n",
    "    .mean()\n",
    "    .sort_values(by=l_ix_sub_level)\n",
    ")\n",
    "info(f\"  {df_subs_agg_c1_test.shape} <- df_subs_agg_c1.shape (posts + comments + sub description)\")"
   ]
  },
  {
   "cell_type": "code",
   "execution_count": 80,
   "id": "153c9b39",
   "metadata": {},
   "outputs": [
    {
     "data": {
      "text/html": [
       "<div>\n",
       "<style scoped>\n",
       "    .dataframe tbody tr th:only-of-type {\n",
       "        vertical-align: middle;\n",
       "    }\n",
       "\n",
       "    .dataframe tbody tr th {\n",
       "        vertical-align: top;\n",
       "    }\n",
       "\n",
       "    .dataframe thead th {\n",
       "        text-align: right;\n",
       "    }\n",
       "</style>\n",
       "<table border=\"1\" class=\"dataframe\">\n",
       "  <thead>\n",
       "    <tr style=\"text-align: right;\">\n",
       "      <th></th>\n",
       "      <th>subreddit_id</th>\n",
       "      <th>subreddit_name</th>\n",
       "      <th>embeddings_0</th>\n",
       "      <th>embeddings_1</th>\n",
       "      <th>embeddings_2</th>\n",
       "      <th>embeddings_3</th>\n",
       "      <th>embeddings_4</th>\n",
       "      <th>embeddings_5</th>\n",
       "      <th>embeddings_6</th>\n",
       "      <th>embeddings_7</th>\n",
       "    </tr>\n",
       "  </thead>\n",
       "  <tbody>\n",
       "    <tr>\n",
       "      <th>565</th>\n",
       "      <td>t5_121pbz</td>\n",
       "      <td>danidezzi</td>\n",
       "      <td>-0.003288</td>\n",
       "      <td>0.024298</td>\n",
       "      <td>0.041657</td>\n",
       "      <td>0.037304</td>\n",
       "      <td>-0.016999</td>\n",
       "      <td>0.017798</td>\n",
       "      <td>0.020901</td>\n",
       "      <td>-0.009704</td>\n",
       "    </tr>\n",
       "    <tr>\n",
       "      <th>566</th>\n",
       "      <td>t5_121sso</td>\n",
       "      <td>subsimulatorgpt2</td>\n",
       "      <td>0.010741</td>\n",
       "      <td>0.001471</td>\n",
       "      <td>-0.005019</td>\n",
       "      <td>-0.002949</td>\n",
       "      <td>0.000168</td>\n",
       "      <td>0.025520</td>\n",
       "      <td>0.002405</td>\n",
       "      <td>-0.006943</td>\n",
       "    </tr>\n",
       "    <tr>\n",
       "      <th>567</th>\n",
       "      <td>t5_121vdk</td>\n",
       "      <td>subsimulatorgpt2meta</td>\n",
       "      <td>-0.017591</td>\n",
       "      <td>0.024974</td>\n",
       "      <td>-0.020804</td>\n",
       "      <td>0.009360</td>\n",
       "      <td>0.018893</td>\n",
       "      <td>0.006528</td>\n",
       "      <td>-0.011085</td>\n",
       "      <td>-0.016565</td>\n",
       "    </tr>\n",
       "    <tr>\n",
       "      <th>568</th>\n",
       "      <td>t5_1229nt</td>\n",
       "      <td>footfunction</td>\n",
       "      <td>-0.046698</td>\n",
       "      <td>-0.002341</td>\n",
       "      <td>0.010889</td>\n",
       "      <td>0.005713</td>\n",
       "      <td>-0.044180</td>\n",
       "      <td>0.044654</td>\n",
       "      <td>0.066613</td>\n",
       "      <td>0.021109</td>\n",
       "    </tr>\n",
       "    <tr>\n",
       "      <th>569</th>\n",
       "      <td>t5_1229sf</td>\n",
       "      <td>adorablebdsm</td>\n",
       "      <td>-0.005888</td>\n",
       "      <td>0.007911</td>\n",
       "      <td>0.013208</td>\n",
       "      <td>0.025460</td>\n",
       "      <td>0.023216</td>\n",
       "      <td>0.035588</td>\n",
       "      <td>-0.012712</td>\n",
       "      <td>-0.045977</td>\n",
       "    </tr>\n",
       "    <tr>\n",
       "      <th>570</th>\n",
       "      <td>t5_122e6w</td>\n",
       "      <td>russian_forest</td>\n",
       "      <td>-0.009000</td>\n",
       "      <td>0.013543</td>\n",
       "      <td>-0.001294</td>\n",
       "      <td>-0.018704</td>\n",
       "      <td>0.018142</td>\n",
       "      <td>0.020227</td>\n",
       "      <td>0.004843</td>\n",
       "      <td>-0.048714</td>\n",
       "    </tr>\n",
       "    <tr>\n",
       "      <th>571</th>\n",
       "      <td>t5_122ek4</td>\n",
       "      <td>auroracomic</td>\n",
       "      <td>0.006227</td>\n",
       "      <td>-0.011303</td>\n",
       "      <td>0.005415</td>\n",
       "      <td>-0.019146</td>\n",
       "      <td>0.001395</td>\n",
       "      <td>0.030257</td>\n",
       "      <td>-0.014640</td>\n",
       "      <td>-0.002675</td>\n",
       "    </tr>\n",
       "    <tr>\n",
       "      <th>572</th>\n",
       "      <td>t5_122hf1</td>\n",
       "      <td>eldenring</td>\n",
       "      <td>-0.005069</td>\n",
       "      <td>0.007850</td>\n",
       "      <td>0.004079</td>\n",
       "      <td>0.020388</td>\n",
       "      <td>-0.002498</td>\n",
       "      <td>0.059155</td>\n",
       "      <td>0.005834</td>\n",
       "      <td>0.014089</td>\n",
       "    </tr>\n",
       "  </tbody>\n",
       "</table>\n",
       "</div>"
      ],
      "text/plain": [
       "    subreddit_id        subreddit_name  embeddings_0  embeddings_1  embeddings_2  embeddings_3  embeddings_4  embeddings_5  embeddings_6  embeddings_7\n",
       "565    t5_121pbz             danidezzi     -0.003288      0.024298      0.041657      0.037304     -0.016999      0.017798      0.020901     -0.009704\n",
       "566    t5_121sso      subsimulatorgpt2      0.010741      0.001471     -0.005019     -0.002949      0.000168      0.025520      0.002405     -0.006943\n",
       "567    t5_121vdk  subsimulatorgpt2meta     -0.017591      0.024974     -0.020804      0.009360      0.018893      0.006528     -0.011085     -0.016565\n",
       "568    t5_1229nt          footfunction     -0.046698     -0.002341      0.010889      0.005713     -0.044180      0.044654      0.066613      0.021109\n",
       "569    t5_1229sf          adorablebdsm     -0.005888      0.007911      0.013208      0.025460      0.023216      0.035588     -0.012712     -0.045977\n",
       "570    t5_122e6w        russian_forest     -0.009000      0.013543     -0.001294     -0.018704      0.018142      0.020227      0.004843     -0.048714\n",
       "571    t5_122ek4           auroracomic      0.006227     -0.011303      0.005415     -0.019146      0.001395      0.030257     -0.014640     -0.002675\n",
       "572    t5_122hf1             eldenring     -0.005069      0.007850      0.004079      0.020388     -0.002498      0.059155      0.005834      0.014089"
      ]
     },
     "execution_count": 80,
     "metadata": {},
     "output_type": "execute_result"
    }
   ],
   "source": [
    "df_subs_agg_c1_test.iloc[-8:, :10]"
   ]
  },
  {
   "cell_type": "markdown",
   "id": "df138f2f",
   "metadata": {},
   "source": [
    "### Save Subreddit level\n",
    "\n",
    "This one we can save as a pandas df, no need to split it into multiple files"
   ]
  },
  {
   "cell_type": "code",
   "execution_count": 82,
   "id": "cdcc8435",
   "metadata": {},
   "outputs": [],
   "source": [
    "df_subs_agg_c1_test.to_parquet(\n",
    "    path_this_model / f\"df_subs_agg_c1_test-{datetime.utcnow().strftime('%Y-%m-%d_%H%M')}.parquet\"\n",
    ")"
   ]
  },
  {
   "cell_type": "markdown",
   "id": "fe00ef06",
   "metadata": {},
   "source": [
    "## Other tests"
   ]
  },
  {
   "cell_type": "code",
   "execution_count": null,
   "id": "2d3fec1e",
   "metadata": {},
   "outputs": [],
   "source": [
    "BREAK"
   ]
  },
  {
   "cell_type": "code",
   "execution_count": 46,
   "id": "a3a0739e",
   "metadata": {},
   "outputs": [
    {
     "data": {
      "text/plain": [
       "False"
      ]
     },
     "execution_count": 46,
     "metadata": {},
     "output_type": "execute_result"
    }
   ],
   "source": [
    "# expected it to be false\n",
    "np.allclose(df_v_pc_weighted.iloc[:1000,3:515], df_posts_agg_c1_test.iloc[:1000,3:515])"
   ]
  },
  {
   "cell_type": "code",
   "execution_count": 59,
   "id": "bd9af3ab",
   "metadata": {},
   "outputs": [
    {
     "data": {
      "text/html": [
       "<div>\n",
       "<style scoped>\n",
       "    .dataframe tbody tr th:only-of-type {\n",
       "        vertical-align: middle;\n",
       "    }\n",
       "\n",
       "    .dataframe tbody tr th {\n",
       "        vertical-align: top;\n",
       "    }\n",
       "\n",
       "    .dataframe thead th {\n",
       "        text-align: right;\n",
       "    }\n",
       "</style>\n",
       "<table border=\"1\" class=\"dataframe\">\n",
       "  <thead>\n",
       "    <tr style=\"text-align: right;\">\n",
       "      <th></th>\n",
       "      <th>subreddit_id</th>\n",
       "      <th>subreddit_name</th>\n",
       "      <th>post_id</th>\n",
       "      <th>embeddings_0</th>\n",
       "      <th>embeddings_1</th>\n",
       "      <th>embeddings_2</th>\n",
       "      <th>embeddings_3</th>\n",
       "      <th>embeddings_4</th>\n",
       "      <th>embeddings_5</th>\n",
       "      <th>embeddings_6</th>\n",
       "    </tr>\n",
       "  </thead>\n",
       "  <tbody>\n",
       "    <tr>\n",
       "      <th>122997</th>\n",
       "      <td>t5_122hf1</td>\n",
       "      <td>eldenring</td>\n",
       "      <td>t3_vkqy3i</td>\n",
       "      <td>-0.014552</td>\n",
       "      <td>0.022346</td>\n",
       "      <td>0.002888</td>\n",
       "      <td>0.060437</td>\n",
       "      <td>-0.053684</td>\n",
       "      <td>0.042971</td>\n",
       "      <td>0.035834</td>\n",
       "    </tr>\n",
       "    <tr>\n",
       "      <th>122998</th>\n",
       "      <td>t5_122hf1</td>\n",
       "      <td>eldenring</td>\n",
       "      <td>t3_vkqzsw</td>\n",
       "      <td>-0.001896</td>\n",
       "      <td>0.067519</td>\n",
       "      <td>0.029062</td>\n",
       "      <td>-0.003681</td>\n",
       "      <td>0.011099</td>\n",
       "      <td>0.066369</td>\n",
       "      <td>0.044884</td>\n",
       "    </tr>\n",
       "    <tr>\n",
       "      <th>122999</th>\n",
       "      <td>t5_122hf1</td>\n",
       "      <td>eldenring</td>\n",
       "      <td>t3_vkr34h</td>\n",
       "      <td>-0.018741</td>\n",
       "      <td>0.027568</td>\n",
       "      <td>-0.010963</td>\n",
       "      <td>0.050802</td>\n",
       "      <td>-0.055830</td>\n",
       "      <td>0.069541</td>\n",
       "      <td>0.011007</td>\n",
       "    </tr>\n",
       "  </tbody>\n",
       "</table>\n",
       "</div>"
      ],
      "text/plain": [
       "       subreddit_id subreddit_name    post_id  embeddings_0  embeddings_1  embeddings_2  embeddings_3  embeddings_4  embeddings_5  embeddings_6\n",
       "122997    t5_122hf1      eldenring  t3_vkqy3i     -0.014552      0.022346      0.002888      0.060437     -0.053684      0.042971      0.035834\n",
       "122998    t5_122hf1      eldenring  t3_vkqzsw     -0.001896      0.067519      0.029062     -0.003681      0.011099      0.066369      0.044884\n",
       "122999    t5_122hf1      eldenring  t3_vkr34h     -0.018741      0.027568     -0.010963      0.050802     -0.055830      0.069541      0.011007"
      ]
     },
     "execution_count": 59,
     "metadata": {},
     "output_type": "execute_result"
    }
   ],
   "source": [
    "df_posts_agg_c1_test.iloc[-3:, :10]"
   ]
  },
  {
   "cell_type": "code",
   "execution_count": 56,
   "id": "16a49b3c",
   "metadata": {},
   "outputs": [
    {
     "data": {
      "text/html": [
       "<div>\n",
       "<style scoped>\n",
       "    .dataframe tbody tr th:only-of-type {\n",
       "        vertical-align: middle;\n",
       "    }\n",
       "\n",
       "    .dataframe tbody tr th {\n",
       "        vertical-align: top;\n",
       "    }\n",
       "\n",
       "    .dataframe thead th {\n",
       "        text-align: right;\n",
       "    }\n",
       "</style>\n",
       "<table border=\"1\" class=\"dataframe\">\n",
       "  <thead>\n",
       "    <tr style=\"text-align: right;\">\n",
       "      <th></th>\n",
       "      <th>subreddit_id</th>\n",
       "      <th>subreddit_name</th>\n",
       "      <th>post_id</th>\n",
       "      <th>embeddings_0</th>\n",
       "      <th>embeddings_1</th>\n",
       "      <th>embeddings_2</th>\n",
       "      <th>embeddings_3</th>\n",
       "      <th>embeddings_4</th>\n",
       "      <th>embeddings_5</th>\n",
       "      <th>embeddings_6</th>\n",
       "    </tr>\n",
       "  </thead>\n",
       "  <tbody>\n",
       "    <tr>\n",
       "      <th>0</th>\n",
       "      <td>t5_1009a3</td>\n",
       "      <td>memesenespanol</td>\n",
       "      <td>t3_v00j0e</td>\n",
       "      <td>-0.047121</td>\n",
       "      <td>0.009066</td>\n",
       "      <td>-0.053279</td>\n",
       "      <td>0.014465</td>\n",
       "      <td>-0.102776</td>\n",
       "      <td>0.005231</td>\n",
       "      <td>0.021099</td>\n",
       "    </tr>\n",
       "    <tr>\n",
       "      <th>1</th>\n",
       "      <td>t5_1009a3</td>\n",
       "      <td>memesenespanol</td>\n",
       "      <td>t3_v0eg7b</td>\n",
       "      <td>-0.038859</td>\n",
       "      <td>-0.017192</td>\n",
       "      <td>-0.046399</td>\n",
       "      <td>0.053433</td>\n",
       "      <td>0.058012</td>\n",
       "      <td>0.029949</td>\n",
       "      <td>-0.001087</td>\n",
       "    </tr>\n",
       "    <tr>\n",
       "      <th>2</th>\n",
       "      <td>t5_1009a3</td>\n",
       "      <td>memesenespanol</td>\n",
       "      <td>t3_v0l7ym</td>\n",
       "      <td>0.039786</td>\n",
       "      <td>-0.017911</td>\n",
       "      <td>0.046004</td>\n",
       "      <td>-0.018101</td>\n",
       "      <td>-0.007475</td>\n",
       "      <td>0.035782</td>\n",
       "      <td>-0.037238</td>\n",
       "    </tr>\n",
       "  </tbody>\n",
       "</table>\n",
       "</div>"
      ],
      "text/plain": [
       "  subreddit_id  subreddit_name    post_id  embeddings_0  embeddings_1  embeddings_2  embeddings_3  embeddings_4  embeddings_5  embeddings_6\n",
       "0    t5_1009a3  memesenespanol  t3_v00j0e     -0.047121      0.009066     -0.053279      0.014465     -0.102776      0.005231      0.021099\n",
       "1    t5_1009a3  memesenespanol  t3_v0eg7b     -0.038859     -0.017192     -0.046399      0.053433      0.058012      0.029949     -0.001087\n",
       "2    t5_1009a3  memesenespanol  t3_v0l7ym      0.039786     -0.017911      0.046004     -0.018101     -0.007475      0.035782     -0.037238"
      ]
     },
     "execution_count": 56,
     "metadata": {},
     "output_type": "execute_result"
    }
   ],
   "source": [
    "df_v_pc.iloc[:3, :10]"
   ]
  },
  {
   "cell_type": "code",
   "execution_count": 57,
   "id": "8f792e13",
   "metadata": {},
   "outputs": [
    {
     "data": {
      "text/html": [
       "<div>\n",
       "<style scoped>\n",
       "    .dataframe tbody tr th:only-of-type {\n",
       "        vertical-align: middle;\n",
       "    }\n",
       "\n",
       "    .dataframe tbody tr th {\n",
       "        vertical-align: top;\n",
       "    }\n",
       "\n",
       "    .dataframe thead th {\n",
       "        text-align: right;\n",
       "    }\n",
       "</style>\n",
       "<table border=\"1\" class=\"dataframe\">\n",
       "  <thead>\n",
       "    <tr style=\"text-align: right;\">\n",
       "      <th></th>\n",
       "      <th>subreddit_id</th>\n",
       "      <th>subreddit_name</th>\n",
       "      <th>post_id</th>\n",
       "      <th>embeddings_0</th>\n",
       "      <th>embeddings_1</th>\n",
       "      <th>embeddings_2</th>\n",
       "      <th>embeddings_3</th>\n",
       "      <th>embeddings_4</th>\n",
       "      <th>embeddings_5</th>\n",
       "      <th>embeddings_6</th>\n",
       "    </tr>\n",
       "  </thead>\n",
       "  <tbody>\n",
       "    <tr>\n",
       "      <th>0</th>\n",
       "      <td>t5_1009a3</td>\n",
       "      <td>memesenespanol</td>\n",
       "      <td>t3_v00j0e</td>\n",
       "      <td>-0.040053</td>\n",
       "      <td>0.007706</td>\n",
       "      <td>-0.045287</td>\n",
       "      <td>0.012295</td>\n",
       "      <td>-0.087360</td>\n",
       "      <td>0.004446</td>\n",
       "      <td>0.017934</td>\n",
       "    </tr>\n",
       "    <tr>\n",
       "      <th>1</th>\n",
       "      <td>t5_1009a3</td>\n",
       "      <td>memesenespanol</td>\n",
       "      <td>t3_v0eg7b</td>\n",
       "      <td>-0.033030</td>\n",
       "      <td>-0.014613</td>\n",
       "      <td>-0.039439</td>\n",
       "      <td>0.045418</td>\n",
       "      <td>0.049310</td>\n",
       "      <td>0.025457</td>\n",
       "      <td>-0.000924</td>\n",
       "    </tr>\n",
       "    <tr>\n",
       "      <th>2</th>\n",
       "      <td>t5_1009a3</td>\n",
       "      <td>memesenespanol</td>\n",
       "      <td>t3_v0l7ym</td>\n",
       "      <td>0.033818</td>\n",
       "      <td>-0.015224</td>\n",
       "      <td>0.039104</td>\n",
       "      <td>-0.015386</td>\n",
       "      <td>-0.006354</td>\n",
       "      <td>0.030415</td>\n",
       "      <td>-0.031653</td>\n",
       "    </tr>\n",
       "  </tbody>\n",
       "</table>\n",
       "</div>"
      ],
      "text/plain": [
       "  subreddit_id  subreddit_name    post_id  embeddings_0  embeddings_1  embeddings_2  embeddings_3  embeddings_4  embeddings_5  embeddings_6\n",
       "0    t5_1009a3  memesenespanol  t3_v00j0e     -0.040053      0.007706     -0.045287      0.012295     -0.087360      0.004446      0.017934\n",
       "1    t5_1009a3  memesenespanol  t3_v0eg7b     -0.033030     -0.014613     -0.039439      0.045418      0.049310      0.025457     -0.000924\n",
       "2    t5_1009a3  memesenespanol  t3_v0l7ym      0.033818     -0.015224      0.039104     -0.015386     -0.006354      0.030415     -0.031653"
      ]
     },
     "execution_count": 57,
     "metadata": {},
     "output_type": "execute_result"
    }
   ],
   "source": [
    "df_v_pc_weighted.iloc[:3, :10]"
   ]
  },
  {
   "cell_type": "code",
   "execution_count": 58,
   "id": "d97076fd",
   "metadata": {},
   "outputs": [
    {
     "data": {
      "text/html": [
       "<div>\n",
       "<style scoped>\n",
       "    .dataframe tbody tr th:only-of-type {\n",
       "        vertical-align: middle;\n",
       "    }\n",
       "\n",
       "    .dataframe tbody tr th {\n",
       "        vertical-align: top;\n",
       "    }\n",
       "\n",
       "    .dataframe thead th {\n",
       "        text-align: right;\n",
       "    }\n",
       "</style>\n",
       "<table border=\"1\" class=\"dataframe\">\n",
       "  <thead>\n",
       "    <tr style=\"text-align: right;\">\n",
       "      <th></th>\n",
       "      <th>subreddit_id</th>\n",
       "      <th>subreddit_name</th>\n",
       "      <th>post_id</th>\n",
       "      <th>embeddings_0</th>\n",
       "      <th>embeddings_1</th>\n",
       "      <th>embeddings_2</th>\n",
       "      <th>embeddings_3</th>\n",
       "      <th>embeddings_4</th>\n",
       "      <th>embeddings_5</th>\n",
       "      <th>embeddings_6</th>\n",
       "    </tr>\n",
       "  </thead>\n",
       "  <tbody>\n",
       "    <tr>\n",
       "      <th>0</th>\n",
       "      <td>t5_1009a3</td>\n",
       "      <td>memesenespanol</td>\n",
       "      <td>t3_v00j0e</td>\n",
       "      <td>-0.038424</td>\n",
       "      <td>-0.001508</td>\n",
       "      <td>-0.044316</td>\n",
       "      <td>0.006019</td>\n",
       "      <td>-0.078988</td>\n",
       "      <td>0.012636</td>\n",
       "      <td>0.014201</td>\n",
       "    </tr>\n",
       "    <tr>\n",
       "      <th>1</th>\n",
       "      <td>t5_1009a3</td>\n",
       "      <td>memesenespanol</td>\n",
       "      <td>t3_v0eg7b</td>\n",
       "      <td>-0.031401</td>\n",
       "      <td>-0.023828</td>\n",
       "      <td>-0.038469</td>\n",
       "      <td>0.039142</td>\n",
       "      <td>0.057682</td>\n",
       "      <td>0.033646</td>\n",
       "      <td>-0.004657</td>\n",
       "    </tr>\n",
       "    <tr>\n",
       "      <th>2</th>\n",
       "      <td>t5_1009a3</td>\n",
       "      <td>memesenespanol</td>\n",
       "      <td>t3_v0l7ym</td>\n",
       "      <td>0.035448</td>\n",
       "      <td>-0.024439</td>\n",
       "      <td>0.040074</td>\n",
       "      <td>-0.021662</td>\n",
       "      <td>0.002018</td>\n",
       "      <td>0.038604</td>\n",
       "      <td>-0.035386</td>\n",
       "    </tr>\n",
       "  </tbody>\n",
       "</table>\n",
       "</div>"
      ],
      "text/plain": [
       "  subreddit_id  subreddit_name    post_id  embeddings_0  embeddings_1  embeddings_2  embeddings_3  embeddings_4  embeddings_5  embeddings_6\n",
       "0    t5_1009a3  memesenespanol  t3_v00j0e     -0.038424     -0.001508     -0.044316      0.006019     -0.078988      0.012636      0.014201\n",
       "1    t5_1009a3  memesenespanol  t3_v0eg7b     -0.031401     -0.023828     -0.038469      0.039142      0.057682      0.033646     -0.004657\n",
       "2    t5_1009a3  memesenespanol  t3_v0l7ym      0.035448     -0.024439      0.040074     -0.021662      0.002018      0.038604     -0.035386"
      ]
     },
     "execution_count": 58,
     "metadata": {},
     "output_type": "execute_result"
    }
   ],
   "source": [
    "df_posts_agg_c1_test.iloc[:3, :10]"
   ]
  },
  {
   "cell_type": "code",
   "execution_count": 54,
   "id": "49f11521",
   "metadata": {},
   "outputs": [
    {
     "data": {
      "text/html": [
       "<div>\n",
       "<style scoped>\n",
       "    .dataframe tbody tr th:only-of-type {\n",
       "        vertical-align: middle;\n",
       "    }\n",
       "\n",
       "    .dataframe tbody tr th {\n",
       "        vertical-align: top;\n",
       "    }\n",
       "\n",
       "    .dataframe thead th {\n",
       "        text-align: right;\n",
       "    }\n",
       "</style>\n",
       "<table border=\"1\" class=\"dataframe\">\n",
       "  <thead>\n",
       "    <tr style=\"text-align: right;\">\n",
       "      <th></th>\n",
       "      <th>subreddit_id</th>\n",
       "      <th>subreddit_name</th>\n",
       "      <th>embeddings_0</th>\n",
       "      <th>embeddings_1</th>\n",
       "      <th>embeddings_2</th>\n",
       "      <th>embeddings_3</th>\n",
       "      <th>embeddings_4</th>\n",
       "      <th>embeddings_5</th>\n",
       "      <th>embeddings_6</th>\n",
       "      <th>embeddings_7</th>\n",
       "    </tr>\n",
       "  </thead>\n",
       "  <tbody>\n",
       "    <tr>\n",
       "      <th>39811</th>\n",
       "      <td>t5_1009a3</td>\n",
       "      <td>memesenespanol</td>\n",
       "      <td>0.001629</td>\n",
       "      <td>-0.009215</td>\n",
       "      <td>0.000971</td>\n",
       "      <td>-0.006276</td>\n",
       "      <td>0.008371</td>\n",
       "      <td>0.008189</td>\n",
       "      <td>-0.003733</td>\n",
       "      <td>0.005192</td>\n",
       "    </tr>\n",
       "  </tbody>\n",
       "</table>\n",
       "</div>"
      ],
      "text/plain": [
       "      subreddit_id  subreddit_name  embeddings_0  embeddings_1  embeddings_2  embeddings_3  embeddings_4  embeddings_5  embeddings_6  embeddings_7\n",
       "39811    t5_1009a3  memesenespanol      0.001629     -0.009215      0.000971     -0.006276      0.008371      0.008189     -0.003733      0.005192"
      ]
     },
     "execution_count": 54,
     "metadata": {},
     "output_type": "execute_result"
    }
   ],
   "source": [
    "df_v_subs_weighted[df_v_subs_weighted['subreddit_name'] == 'memesenespanol'].iloc[:, :10]"
   ]
  },
  {
   "cell_type": "code",
   "execution_count": 55,
   "id": "d4997f6e",
   "metadata": {},
   "outputs": [
    {
     "data": {
      "text/html": [
       "<div>\n",
       "<style scoped>\n",
       "    .dataframe tbody tr th:only-of-type {\n",
       "        vertical-align: middle;\n",
       "    }\n",
       "\n",
       "    .dataframe tbody tr th {\n",
       "        vertical-align: top;\n",
       "    }\n",
       "\n",
       "    .dataframe thead th {\n",
       "        text-align: right;\n",
       "    }\n",
       "</style>\n",
       "<table border=\"1\" class=\"dataframe\">\n",
       "  <thead>\n",
       "    <tr style=\"text-align: right;\">\n",
       "      <th></th>\n",
       "      <th>subreddit_id</th>\n",
       "      <th>subreddit_name</th>\n",
       "      <th>embeddings_0</th>\n",
       "      <th>embeddings_1</th>\n",
       "      <th>embeddings_2</th>\n",
       "      <th>embeddings_3</th>\n",
       "      <th>embeddings_4</th>\n",
       "      <th>embeddings_5</th>\n",
       "      <th>embeddings_6</th>\n",
       "      <th>embeddings_7</th>\n",
       "    </tr>\n",
       "  </thead>\n",
       "  <tbody>\n",
       "    <tr>\n",
       "      <th>39811</th>\n",
       "      <td>t5_1009a3</td>\n",
       "      <td>memesenespanol</td>\n",
       "      <td>0.010863</td>\n",
       "      <td>-0.061431</td>\n",
       "      <td>0.006471</td>\n",
       "      <td>-0.041841</td>\n",
       "      <td>0.055809</td>\n",
       "      <td>0.054596</td>\n",
       "      <td>-0.024888</td>\n",
       "      <td>0.034613</td>\n",
       "    </tr>\n",
       "  </tbody>\n",
       "</table>\n",
       "</div>"
      ],
      "text/plain": [
       "      subreddit_id  subreddit_name  embeddings_0  embeddings_1  embeddings_2  embeddings_3  embeddings_4  embeddings_5  embeddings_6  embeddings_7\n",
       "39811    t5_1009a3  memesenespanol      0.010863     -0.061431      0.006471     -0.041841      0.055809      0.054596     -0.024888      0.034613"
      ]
     },
     "execution_count": 55,
     "metadata": {},
     "output_type": "execute_result"
    }
   ],
   "source": [
    "df_v_subs[df_v_subs['subreddit_name'] == 'memesenespanol'].iloc[:, :10]"
   ]
  }
 ],
 "metadata": {
  "environment": {
   "name": "common-cpu.m65",
   "type": "gcloud",
   "uri": "gcr.io/deeplearning-platform-release/base-cpu:m65"
  },
  "kernelspec": {
   "display_name": "Python [conda env:root] *",
   "language": "python",
   "name": "conda-root-py"
  },
  "language_info": {
   "codemirror_mode": {
    "name": "ipython",
    "version": 3
   },
   "file_extension": ".py",
   "mimetype": "text/x-python",
   "name": "python",
   "nbconvert_exporter": "python",
   "pygments_lexer": "ipython3",
   "version": "3.7.10"
  }
 },
 "nbformat": 4,
 "nbformat_minor": 5
}
