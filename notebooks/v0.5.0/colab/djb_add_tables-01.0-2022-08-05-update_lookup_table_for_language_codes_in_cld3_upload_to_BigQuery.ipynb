{
  "nbformat": 4,
  "nbformat_minor": 0,
  "metadata": {
    "colab": {
      "name": "djb_add_tables-01.0-2022-08-05-update_lookup_table_for_language_codes_in_cld3_upload_to_BigQuery.ipynb",
      "provenance": [],
      "collapsed_sections": [
        "WmpqyhUJs0D6"
      ]
    },
    "kernelspec": {
      "name": "python3",
      "display_name": "Python 3"
    },
    "language_info": {
      "name": "python"
    }
  },
  "cells": [
    {
      "cell_type": "markdown",
      "metadata": {
        "id": "iVZuLSOgZVC8"
      },
      "source": [
        "# Purpose\n",
        "\n",
        "### 2022-08-05\n",
        "The CLD3 language codes are not the same as the georelevant codes, so we need a table to make it easier to investigate detected language.\n",
        "\n",
        "In this table I also\n",
        "- flag whether a language is included in USE-multilingual (the model used for initial round of topic models)\n",
        "- Group languages that are not common at reddit as `\"Other_language\"`\n",
        "\n",
        "Note that this table was first created in 2021-12, but I needed to update it to add a new column to identify language that (for some reason) is using a numeric ID instead of a code string in the cld3 tables.\n"
      ]
    },
    {
      "cell_type": "markdown",
      "metadata": {
        "id": "c2qXnQ5IV9Z7"
      },
      "source": [
        "# Imports & notebook setup"
      ]
    },
    {
      "cell_type": "code",
      "metadata": {
        "id": "pCuWmkxaGYwm"
      },
      "source": [
        "%load_ext google.colab.data_table\n",
        "%load_ext autoreload\n",
        "%autoreload 2"
      ],
      "execution_count": 1,
      "outputs": []
    },
    {
      "cell_type": "code",
      "metadata": {
        "colab": {
          "base_uri": "https://localhost:8080/"
        },
        "id": "tS4ktaPaGwbh",
        "outputId": "63190ae7-cee0-43cf-e635-849af9b1e7c6"
      },
      "source": [
        "# colab auth for BigQuery & google drive\n",
        "from google.colab import auth, files, drive\n",
        "import sys  # need sys for mounting gdrive path\n",
        "\n",
        "auth.authenticate_user()\n",
        "print('Authenticated')"
      ],
      "execution_count": 2,
      "outputs": [
        {
          "output_type": "stream",
          "name": "stdout",
          "text": [
            "Authenticated\n"
          ]
        }
      ]
    },
    {
      "cell_type": "markdown",
      "metadata": {
        "id": "WmpqyhUJs0D6"
      },
      "source": [
        "### attach up my drive + install my code"
      ]
    },
    {
      "cell_type": "code",
      "metadata": {
        "colab": {
          "base_uri": "https://localhost:8080/"
        },
        "id": "kuOoJT3noOPE",
        "outputId": "fda0d8ca-7bba-4025-a2ce-c08399af15b4"
      },
      "source": [
        "# Attach google drive & import my python utility functions\n",
        "# if drive.mount() fails, you can also:\n",
        "#   MANUALLY CLICK ON \"Mount Drive\"\n",
        "g_drive_root = '/content/drive'\n",
        "\n",
        "try:\n",
        "    drive._mount(g_drive_root, force_remount=True)\n",
        "    print('   Authenticated & mounted Google Drive')\n",
        "    \n",
        "except Exception as e:\n",
        "    try:\n",
        "        drive.mount(g_drive_root, force_remount=True)\n",
        "        print('   Authenticated & mounted Google Drive')\n",
        "    except Exception as e:\n",
        "        print(e)\n",
        "        raise Exception('You might need to manually mount google drive to colab')\n",
        "\n",
        "l_paths_to_append = [\n",
        "    f'{g_drive_root}/MyDrive/Colab Notebooks',\n",
        "\n",
        "    # need to append the path to subclu so that colab can import things properly\n",
        "    f'{g_drive_root}/MyDrive/Colab Notebooks/subreddit_clustering_i18n'\n",
        "]\n",
        "for path_ in l_paths_to_append:\n",
        "    if path_ in sys.path:\n",
        "        sys.path.remove(path_)\n",
        "    print(f\" Appending path: {path_}\")\n",
        "    sys.path.append(path_)"
      ],
      "execution_count": 3,
      "outputs": [
        {
          "output_type": "stream",
          "name": "stdout",
          "text": [
            "Mounted at /content/drive\n",
            "   Authenticated & mounted Google Drive\n",
            " Appending path: /content/drive/MyDrive/Colab Notebooks\n",
            " Appending path: /content/drive/MyDrive/Colab Notebooks/subreddit_clustering_i18n\n"
          ]
        }
      ]
    },
    {
      "cell_type": "markdown",
      "source": [
        "### Install libraries"
      ],
      "metadata": {
        "id": "5S4vyQQrwLzC"
      }
    },
    {
      "cell_type": "code",
      "metadata": {
        "id": "Tpp8E6Njt7_C",
        "colab": {
          "base_uri": "https://localhost:8080/"
        },
        "outputId": "93f1ffdb-b91c-4615-b011-02ab37f7783a"
      },
      "source": [
        "# install subclu & libraries needed to read parquet files from GCS & spreadsheets\n",
        "#  make sure to use the [colab] `extra` because it includes colab-specific libraries\n",
        "module_path = f\"{g_drive_root}/MyDrive/Colab Notebooks/subreddit_clustering_i18n/[colab]\"\n",
        "\n",
        "!pip install -e $\"$module_path\" --quiet"
      ],
      "execution_count": 4,
      "outputs": [
        {
          "output_type": "stream",
          "name": "stdout",
          "text": [
            "\u001b[K     |████████████████████████████████| 10.1 MB 10.2 MB/s \n",
            "\u001b[K     |████████████████████████████████| 14.2 MB 76.1 MB/s \n",
            "\u001b[K     |████████████████████████████████| 965 kB 74.1 MB/s \n",
            "\u001b[K     |████████████████████████████████| 144 kB 67.2 MB/s \n",
            "\u001b[K     |████████████████████████████████| 76 kB 4.8 MB/s \n",
            "\u001b[K     |████████████████████████████████| 285 kB 50.3 MB/s \n",
            "\u001b[K     |████████████████████████████████| 13.2 MB 68.2 MB/s \n",
            "\u001b[K     |████████████████████████████████| 79.9 MB 121 kB/s \n",
            "\u001b[K     |████████████████████████████████| 141 kB 93.7 MB/s \n",
            "\u001b[K     |████████████████████████████████| 715 kB 69.9 MB/s \n",
            "\u001b[K     |████████████████████████████████| 112 kB 81.0 MB/s \n",
            "\u001b[K     |████████████████████████████████| 74 kB 2.9 MB/s \n",
            "\u001b[K     |████████████████████████████████| 181 kB 69.6 MB/s \n",
            "\u001b[K     |████████████████████████████████| 146 kB 53.4 MB/s \n",
            "\u001b[K     |████████████████████████████████| 79 kB 7.2 MB/s \n",
            "\u001b[K     |████████████████████████████████| 1.1 MB 61.1 MB/s \n",
            "\u001b[K     |████████████████████████████████| 81 kB 9.5 MB/s \n",
            "\u001b[K     |████████████████████████████████| 596 kB 43.8 MB/s \n",
            "\u001b[K     |████████████████████████████████| 78 kB 6.4 MB/s \n",
            "\u001b[K     |████████████████████████████████| 54 kB 2.2 MB/s \n",
            "\u001b[K     |████████████████████████████████| 63 kB 1.6 MB/s \n",
            "\u001b[?25h  Building wheel for antlr4-python3-runtime (setup.py) ... \u001b[?25l\u001b[?25hdone\n",
            "  Building wheel for alembic (setup.py) ... \u001b[?25l\u001b[?25hdone\n",
            "  Building wheel for databricks-cli (setup.py) ... \u001b[?25l\u001b[?25hdone\n",
            "  Building wheel for retrying (setup.py) ... \u001b[?25l\u001b[?25hdone\n",
            "\u001b[31mERROR: pip's dependency resolver does not currently take into account all the packages that are installed. This behaviour is the source of the following dependency conflicts.\n",
            "gym 0.17.3 requires cloudpickle<1.7.0,>=1.2.0, but you have cloudpickle 2.1.0 which is incompatible.\u001b[0m\n"
          ]
        }
      ]
    },
    {
      "cell_type": "markdown",
      "source": [
        "## General imports"
      ],
      "metadata": {
        "id": "KN2A7TI4wY6w"
      }
    },
    {
      "cell_type": "code",
      "metadata": {
        "id": "9TpWbXh5mzew"
      },
      "source": [
        "# Regular Imports\n",
        "import os\n",
        "from datetime import datetime\n",
        "\n",
        "from google.cloud import bigquery\n",
        "\n",
        "import matplotlib.pyplot as plt\n",
        "import pandas as pd\n",
        "import numpy as np\n",
        "import seaborn as sns\n",
        "from matplotlib_venn import venn2_unweighted, venn3_unweighted\n",
        "\n",
        "\n",
        "# Set env variable needed by some libraries to get datay from BigQuery\n",
        "# os.environ['GOOGLE_CLOUD_PROJECT'] = 'data-science-prod-218515'\n",
        "os.environ['GOOGLE_CLOUD_PROJECT'] = 'data-prod-165221'"
      ],
      "execution_count": 33,
      "outputs": []
    },
    {
      "cell_type": "markdown",
      "source": [
        "### `subclu` imports (custom module)"
      ],
      "metadata": {
        "id": "fs3GEKZ6wnl0"
      }
    },
    {
      "cell_type": "code",
      "metadata": {
        "id": "lcpwywCqux1s",
        "colab": {
          "base_uri": "https://localhost:8080/"
        },
        "outputId": "1a01721d-d19e-445c-e30e-985015c68fab"
      },
      "source": [
        "# subclu imports\n",
        "\n",
        "# For reloading, need to force-delete some imported items\n",
        "try:\n",
        "    del LoadPosts, LoadSubreddits\n",
        "    del (\n",
        "        L_CLD3_CODES_FOR_TOP_LANGUAGES_USED_AT_REDDIT,\n",
        "        L_CLD3_CODES_FOR_TOP_LANGUAGES_AND_USE_MULTILINGUAL,\n",
        "        D_CLD3_CODE_TO_LANGUAGE_NAME,\n",
        "    )\n",
        "except Exception:\n",
        "    pass\n",
        "\n",
        "from subclu.utils.hydra_config_loader import LoadHydraConfig\n",
        "# from subclu.data.data_loaders import LoadPosts, LoadSubreddits\n",
        "from subclu.utils.eda import (\n",
        "    setup_logging, counts_describe, value_counts_and_pcts,\n",
        "    notebook_display_config, print_lib_versions,\n",
        "    style_df_numeric, reorder_array,\n",
        ")\n",
        "from subclu.utils.language_code_mapping import (\n",
        "    DF_LANGUAGE_MAPPING,\n",
        "    L_CLD3_CODES_FOR_TOP_LANGUAGES_USED_AT_REDDIT,\n",
        "    L_CLD3_CODES_FOR_TOP_LANGUAGES_AND_USE_MULTILINGUAL,\n",
        "    D_CLD3_CODE_TO_LANGUAGE_NAME,\n",
        ")\n",
        "\n",
        "setup_logging()\n",
        "print_lib_versions([pd, np])"
      ],
      "execution_count": 36,
      "outputs": [
        {
          "output_type": "stream",
          "name": "stdout",
          "text": [
            "python\t\tv 3.7.13\n",
            "===\n",
            "pandas\t\tv: 1.3.5\n",
            "numpy\t\tv: 1.21.6\n"
          ]
        }
      ]
    },
    {
      "cell_type": "markdown",
      "source": [
        "# Load df with codes & languages\n",
        "\n",
        "- `language_name` = default name\n",
        "- `language_name_top_only` = only show names of top ~40 languages and group other languages as `Other_language`.\n",
        "\n",
        "Reference article (external analysis) on comments for on week:\n",
        "- https://towardsdatascience.com/the-most-popular-languages-on-reddit-analyzed-with-snowflake-and-a-java-udtf-4e58c8ba473c"
      ],
      "metadata": {
        "id": "aP-I3R6MxTyE"
      }
    },
    {
      "cell_type": "code",
      "source": [
        "DF_LANGUAGE_MAPPING.shape"
      ],
      "metadata": {
        "colab": {
          "base_uri": "https://localhost:8080/"
        },
        "id": "WIy7FW0axe-F",
        "outputId": "d3fd966e-f12a-44cd-b1a5-046bfd1aa352"
      },
      "execution_count": 37,
      "outputs": [
        {
          "output_type": "execute_result",
          "data": {
            "text/plain": [
              "(114, 5)"
            ]
          },
          "metadata": {},
          "execution_count": 37
        }
      ]
    },
    {
      "cell_type": "code",
      "source": [
        "counts_describe(DF_LANGUAGE_MAPPING)"
      ],
      "metadata": {
        "colab": {
          "base_uri": "https://localhost:8080/",
          "height": 206
        },
        "id": "NbBNNVYYxlqG",
        "outputId": "24b0a326-0686-47d3-a1e8-bd59c00934ad"
      },
      "execution_count": 38,
      "outputs": [
        {
          "output_type": "execute_result",
          "data": {
            "text/plain": [
              "<pandas.io.formats.style.Styler at 0x7f14a37a6650>"
            ],
            "text/html": [
              "<style type=\"text/css\">\n",
              "</style>\n",
              "<table id=\"T_f48a1_\" class=\"dataframe\">\n",
              "  <thead>\n",
              "    <tr>\n",
              "      <th class=\"blank level0\" >&nbsp;</th>\n",
              "      <th class=\"col_heading level0 col0\" >dtype</th>\n",
              "      <th class=\"col_heading level0 col1\" >count</th>\n",
              "      <th class=\"col_heading level0 col2\" >unique</th>\n",
              "      <th class=\"col_heading level0 col3\" >unique-percent</th>\n",
              "      <th class=\"col_heading level0 col4\" >null-count</th>\n",
              "      <th class=\"col_heading level0 col5\" >null-percent</th>\n",
              "    </tr>\n",
              "  </thead>\n",
              "  <tbody>\n",
              "    <tr>\n",
              "      <th id=\"T_f48a1_level0_row0\" class=\"row_heading level0 row0\" >language_code</th>\n",
              "      <td id=\"T_f48a1_row0_col0\" class=\"data row0 col0\" >object</td>\n",
              "      <td id=\"T_f48a1_row0_col1\" class=\"data row0 col1\" >114</td>\n",
              "      <td id=\"T_f48a1_row0_col2\" class=\"data row0 col2\" >114</td>\n",
              "      <td id=\"T_f48a1_row0_col3\" class=\"data row0 col3\" >100.00%</td>\n",
              "      <td id=\"T_f48a1_row0_col4\" class=\"data row0 col4\" >0</td>\n",
              "      <td id=\"T_f48a1_row0_col5\" class=\"data row0 col5\" >0.00%</td>\n",
              "    </tr>\n",
              "    <tr>\n",
              "      <th id=\"T_f48a1_level0_row1\" class=\"row_heading level0 row1\" >language_name</th>\n",
              "      <td id=\"T_f48a1_row1_col0\" class=\"data row1 col0\" >object</td>\n",
              "      <td id=\"T_f48a1_row1_col1\" class=\"data row1 col1\" >114</td>\n",
              "      <td id=\"T_f48a1_row1_col2\" class=\"data row1 col2\" >105</td>\n",
              "      <td id=\"T_f48a1_row1_col3\" class=\"data row1 col3\" >92.11%</td>\n",
              "      <td id=\"T_f48a1_row1_col4\" class=\"data row1 col4\" >0</td>\n",
              "      <td id=\"T_f48a1_row1_col5\" class=\"data row1 col5\" >0.00%</td>\n",
              "    </tr>\n",
              "    <tr>\n",
              "      <th id=\"T_f48a1_level0_row2\" class=\"row_heading level0 row2\" >language_name_top_only</th>\n",
              "      <td id=\"T_f48a1_row2_col0\" class=\"data row2 col0\" >object</td>\n",
              "      <td id=\"T_f48a1_row2_col1\" class=\"data row2 col1\" >114</td>\n",
              "      <td id=\"T_f48a1_row2_col2\" class=\"data row2 col2\" >94</td>\n",
              "      <td id=\"T_f48a1_row2_col3\" class=\"data row2 col3\" >82.46%</td>\n",
              "      <td id=\"T_f48a1_row2_col4\" class=\"data row2 col4\" >0</td>\n",
              "      <td id=\"T_f48a1_row2_col5\" class=\"data row2 col5\" >0.00%</td>\n",
              "    </tr>\n",
              "    <tr>\n",
              "      <th id=\"T_f48a1_level0_row3\" class=\"row_heading level0 row3\" >language_in_use_multilingual</th>\n",
              "      <td id=\"T_f48a1_row3_col0\" class=\"data row3 col0\" >bool</td>\n",
              "      <td id=\"T_f48a1_row3_col1\" class=\"data row3 col1\" >114</td>\n",
              "      <td id=\"T_f48a1_row3_col2\" class=\"data row3 col2\" >2</td>\n",
              "      <td id=\"T_f48a1_row3_col3\" class=\"data row3 col3\" >1.75%</td>\n",
              "      <td id=\"T_f48a1_row3_col4\" class=\"data row3 col4\" >0</td>\n",
              "      <td id=\"T_f48a1_row3_col5\" class=\"data row3 col5\" >0.00%</td>\n",
              "    </tr>\n",
              "    <tr>\n",
              "      <th id=\"T_f48a1_level0_row4\" class=\"row_heading level0 row4\" >language_id</th>\n",
              "      <td id=\"T_f48a1_row4_col0\" class=\"data row4 col0\" >int64</td>\n",
              "      <td id=\"T_f48a1_row4_col1\" class=\"data row4 col1\" >114</td>\n",
              "      <td id=\"T_f48a1_row4_col2\" class=\"data row4 col2\" >108</td>\n",
              "      <td id=\"T_f48a1_row4_col3\" class=\"data row4 col3\" >94.74%</td>\n",
              "      <td id=\"T_f48a1_row4_col4\" class=\"data row4 col4\" >0</td>\n",
              "      <td id=\"T_f48a1_row4_col5\" class=\"data row4 col5\" >0.00%</td>\n",
              "    </tr>\n",
              "  </tbody>\n",
              "</table>\n"
            ]
          },
          "metadata": {},
          "execution_count": 38
        }
      ]
    },
    {
      "cell_type": "code",
      "source": [
        "DF_LANGUAGE_MAPPING.head()"
      ],
      "metadata": {
        "colab": {
          "base_uri": "https://localhost:8080/",
          "height": 197
        },
        "id": "2xaiN-WoAcaC",
        "outputId": "70ed2d35-0c04-4060-a6d7-cdd8185d3789"
      },
      "execution_count": 39,
      "outputs": [
        {
          "output_type": "execute_result",
          "data": {
            "text/plain": [
              "   language_code language_name language_name_top_only  \\\n",
              "5             af     Afrikaans              Afrikaans   \n",
              "91            sq      Albanian               Albanian   \n",
              "6             am       Amharic         Other_language   \n",
              "7             ar        Arabic                 Arabic   \n",
              "43            hy      Armenian         Other_language   \n",
              "\n",
              "    language_in_use_multilingual  language_id  \n",
              "5                          False            1  \n",
              "91                         False           87  \n",
              "6                          False            2  \n",
              "7                           True            3  \n",
              "43                         False           39  "
            ],
            "text/html": [
              "\n",
              "  <div id=\"df-33957e43-24eb-4eb6-870d-bed533e73534\">\n",
              "    <div class=\"colab-df-container\">\n",
              "      <div>\n",
              "<style scoped>\n",
              "    .dataframe tbody tr th:only-of-type {\n",
              "        vertical-align: middle;\n",
              "    }\n",
              "\n",
              "    .dataframe tbody tr th {\n",
              "        vertical-align: top;\n",
              "    }\n",
              "\n",
              "    .dataframe thead th {\n",
              "        text-align: right;\n",
              "    }\n",
              "</style>\n",
              "<table border=\"1\" class=\"dataframe\">\n",
              "  <thead>\n",
              "    <tr style=\"text-align: right;\">\n",
              "      <th></th>\n",
              "      <th>language_code</th>\n",
              "      <th>language_name</th>\n",
              "      <th>language_name_top_only</th>\n",
              "      <th>language_in_use_multilingual</th>\n",
              "      <th>language_id</th>\n",
              "    </tr>\n",
              "  </thead>\n",
              "  <tbody>\n",
              "    <tr>\n",
              "      <th>5</th>\n",
              "      <td>af</td>\n",
              "      <td>Afrikaans</td>\n",
              "      <td>Afrikaans</td>\n",
              "      <td>False</td>\n",
              "      <td>1</td>\n",
              "    </tr>\n",
              "    <tr>\n",
              "      <th>91</th>\n",
              "      <td>sq</td>\n",
              "      <td>Albanian</td>\n",
              "      <td>Albanian</td>\n",
              "      <td>False</td>\n",
              "      <td>87</td>\n",
              "    </tr>\n",
              "    <tr>\n",
              "      <th>6</th>\n",
              "      <td>am</td>\n",
              "      <td>Amharic</td>\n",
              "      <td>Other_language</td>\n",
              "      <td>False</td>\n",
              "      <td>2</td>\n",
              "    </tr>\n",
              "    <tr>\n",
              "      <th>7</th>\n",
              "      <td>ar</td>\n",
              "      <td>Arabic</td>\n",
              "      <td>Arabic</td>\n",
              "      <td>True</td>\n",
              "      <td>3</td>\n",
              "    </tr>\n",
              "    <tr>\n",
              "      <th>43</th>\n",
              "      <td>hy</td>\n",
              "      <td>Armenian</td>\n",
              "      <td>Other_language</td>\n",
              "      <td>False</td>\n",
              "      <td>39</td>\n",
              "    </tr>\n",
              "  </tbody>\n",
              "</table>\n",
              "</div>\n",
              "      <button class=\"colab-df-convert\" onclick=\"convertToInteractive('df-33957e43-24eb-4eb6-870d-bed533e73534')\"\n",
              "              title=\"Convert this dataframe to an interactive table.\"\n",
              "              style=\"display:none;\">\n",
              "        \n",
              "  <svg xmlns=\"http://www.w3.org/2000/svg\" height=\"24px\"viewBox=\"0 0 24 24\"\n",
              "       width=\"24px\">\n",
              "    <path d=\"M0 0h24v24H0V0z\" fill=\"none\"/>\n",
              "    <path d=\"M18.56 5.44l.94 2.06.94-2.06 2.06-.94-2.06-.94-.94-2.06-.94 2.06-2.06.94zm-11 1L8.5 8.5l.94-2.06 2.06-.94-2.06-.94L8.5 2.5l-.94 2.06-2.06.94zm10 10l.94 2.06.94-2.06 2.06-.94-2.06-.94-.94-2.06-.94 2.06-2.06.94z\"/><path d=\"M17.41 7.96l-1.37-1.37c-.4-.4-.92-.59-1.43-.59-.52 0-1.04.2-1.43.59L10.3 9.45l-7.72 7.72c-.78.78-.78 2.05 0 2.83L4 21.41c.39.39.9.59 1.41.59.51 0 1.02-.2 1.41-.59l7.78-7.78 2.81-2.81c.8-.78.8-2.07 0-2.86zM5.41 20L4 18.59l7.72-7.72 1.47 1.35L5.41 20z\"/>\n",
              "  </svg>\n",
              "      </button>\n",
              "      \n",
              "  <style>\n",
              "    .colab-df-container {\n",
              "      display:flex;\n",
              "      flex-wrap:wrap;\n",
              "      gap: 12px;\n",
              "    }\n",
              "\n",
              "    .colab-df-convert {\n",
              "      background-color: #E8F0FE;\n",
              "      border: none;\n",
              "      border-radius: 50%;\n",
              "      cursor: pointer;\n",
              "      display: none;\n",
              "      fill: #1967D2;\n",
              "      height: 32px;\n",
              "      padding: 0 0 0 0;\n",
              "      width: 32px;\n",
              "    }\n",
              "\n",
              "    .colab-df-convert:hover {\n",
              "      background-color: #E2EBFA;\n",
              "      box-shadow: 0px 1px 2px rgba(60, 64, 67, 0.3), 0px 1px 3px 1px rgba(60, 64, 67, 0.15);\n",
              "      fill: #174EA6;\n",
              "    }\n",
              "\n",
              "    [theme=dark] .colab-df-convert {\n",
              "      background-color: #3B4455;\n",
              "      fill: #D2E3FC;\n",
              "    }\n",
              "\n",
              "    [theme=dark] .colab-df-convert:hover {\n",
              "      background-color: #434B5C;\n",
              "      box-shadow: 0px 1px 3px 1px rgba(0, 0, 0, 0.15);\n",
              "      filter: drop-shadow(0px 1px 2px rgba(0, 0, 0, 0.3));\n",
              "      fill: #FFFFFF;\n",
              "    }\n",
              "  </style>\n",
              "\n",
              "      <script>\n",
              "        const buttonEl =\n",
              "          document.querySelector('#df-33957e43-24eb-4eb6-870d-bed533e73534 button.colab-df-convert');\n",
              "        buttonEl.style.display =\n",
              "          google.colab.kernel.accessAllowed ? 'block' : 'none';\n",
              "\n",
              "        async function convertToInteractive(key) {\n",
              "          const element = document.querySelector('#df-33957e43-24eb-4eb6-870d-bed533e73534');\n",
              "          const dataTable =\n",
              "            await google.colab.kernel.invokeFunction('convertToInteractive',\n",
              "                                                     [key], {});\n",
              "          if (!dataTable) return;\n",
              "\n",
              "          const docLinkHtml = 'Like what you see? Visit the ' +\n",
              "            '<a target=\"_blank\" href=https://colab.research.google.com/notebooks/data_table.ipynb>data table notebook</a>'\n",
              "            + ' to learn more about interactive tables.';\n",
              "          element.innerHTML = '';\n",
              "          dataTable['output_type'] = 'display_data';\n",
              "          await google.colab.output.renderOutput(dataTable, element);\n",
              "          const docLink = document.createElement('div');\n",
              "          docLink.innerHTML = docLinkHtml;\n",
              "          element.appendChild(docLink);\n",
              "        }\n",
              "      </script>\n",
              "    </div>\n",
              "  </div>\n",
              "  "
            ],
            "application/vnd.google.colaboratory.module+javascript": "\n      import \"https://ssl.gstatic.com/colaboratory/data_table/a8bd4d5e58f96183/data_table.js\";\n\n      window.createDataTable({\n        data: [[{\n            'v': 5,\n            'f': \"5\",\n        },\n\"af\",\n\"Afrikaans\",\n\"Afrikaans\",\nfalse,\n{\n            'v': 1,\n            'f': \"1\",\n        }],\n [{\n            'v': 91,\n            'f': \"91\",\n        },\n\"sq\",\n\"Albanian\",\n\"Albanian\",\nfalse,\n{\n            'v': 87,\n            'f': \"87\",\n        }],\n [{\n            'v': 6,\n            'f': \"6\",\n        },\n\"am\",\n\"Amharic\",\n\"Other_language\",\nfalse,\n{\n            'v': 2,\n            'f': \"2\",\n        }],\n [{\n            'v': 7,\n            'f': \"7\",\n        },\n\"ar\",\n\"Arabic\",\n\"Arabic\",\ntrue,\n{\n            'v': 3,\n            'f': \"3\",\n        }],\n [{\n            'v': 43,\n            'f': \"43\",\n        },\n\"hy\",\n\"Armenian\",\n\"Other_language\",\nfalse,\n{\n            'v': 39,\n            'f': \"39\",\n        }]],\n        columns: [[\"number\", \"index\"], [\"string\", \"language_code\"], [\"string\", \"language_name\"], [\"string\", \"language_name_top_only\"], [\"string\", \"language_in_use_multilingual\"], [\"number\", \"language_id\"]],\n        columnOptions: [{\"width\": \"1px\", \"className\": \"index_column\"}],\n        rowsPerPage: 25,\n        helpUrl: \"https://colab.research.google.com/notebooks/data_table.ipynb\",\n        suppressOutputScrolling: true,\n        minimumWidth: undefined,\n      });\n    "
          },
          "metadata": {},
          "execution_count": 39
        }
      ]
    },
    {
      "cell_type": "markdown",
      "source": [
        "### There should only be 16* languages for USE-multilingual\n",
        "\n",
        "*15 when we collapse Chinese (standard) + Chinese (traditional) + Chinese (Taiwan)\n",
        "\n",
        "We see 20 rows because some codes map to a single language."
      ],
      "metadata": {
        "id": "Lw_7VxxXxxae"
      }
    },
    {
      "cell_type": "code",
      "source": [
        "value_counts_and_pcts(DF_LANGUAGE_MAPPING['language_in_use_multilingual'])"
      ],
      "metadata": {
        "colab": {
          "base_uri": "https://localhost:8080/",
          "height": 129
        },
        "id": "LSKo4WaYx2PV",
        "outputId": "ce3f91c3-6bf6-4077-aa33-0a11c862477b"
      },
      "execution_count": 40,
      "outputs": [
        {
          "output_type": "execute_result",
          "data": {
            "text/plain": [
              "<pandas.io.formats.style.Styler at 0x7f14a349d850>"
            ],
            "text/html": [
              "<style type=\"text/css\">\n",
              "#T_7af39_row0_col1, #T_7af39_row1_col2 {\n",
              "  width: 10em;\n",
              "  height: 80%;\n",
              "  background: linear-gradient(90deg,#95cff5 100.0%, transparent 100.0%);\n",
              "}\n",
              "#T_7af39_row0_col2, #T_7af39_row1_col1 {\n",
              "  width: 10em;\n",
              "  height: 80%;\n",
              "}\n",
              "</style>\n",
              "<table id=\"T_7af39_\" class=\"dataframe\">\n",
              "  <thead>\n",
              "    <tr>\n",
              "      <th class=\"blank level0\" >&nbsp;</th>\n",
              "      <th class=\"col_heading level0 col0\" >language_in_use_multilingual-count</th>\n",
              "      <th class=\"col_heading level0 col1\" >language_in_use_multilingual-percent</th>\n",
              "      <th class=\"col_heading level0 col2\" >language_in_use_multilingual-pct_cumulative_sum</th>\n",
              "    </tr>\n",
              "  </thead>\n",
              "  <tbody>\n",
              "    <tr>\n",
              "      <th id=\"T_7af39_level0_row0\" class=\"row_heading level0 row0\" >False</th>\n",
              "      <td id=\"T_7af39_row0_col0\" class=\"data row0 col0\" >94</td>\n",
              "      <td id=\"T_7af39_row0_col1\" class=\"data row0 col1\" >82.5%</td>\n",
              "      <td id=\"T_7af39_row0_col2\" class=\"data row0 col2\" >82.5%</td>\n",
              "    </tr>\n",
              "    <tr>\n",
              "      <th id=\"T_7af39_level0_row1\" class=\"row_heading level0 row1\" >True</th>\n",
              "      <td id=\"T_7af39_row1_col0\" class=\"data row1 col0\" >20</td>\n",
              "      <td id=\"T_7af39_row1_col1\" class=\"data row1 col1\" >17.5%</td>\n",
              "      <td id=\"T_7af39_row1_col2\" class=\"data row1 col2\" >100.0%</td>\n",
              "    </tr>\n",
              "  </tbody>\n",
              "</table>\n"
            ]
          },
          "metadata": {},
          "execution_count": 40
        }
      ]
    },
    {
      "cell_type": "code",
      "source": [
        "value_counts_and_pcts(\n",
        "    DF_LANGUAGE_MAPPING[DF_LANGUAGE_MAPPING['language_in_use_multilingual'] == True],\n",
        "    ['language_in_use_multilingual', 'language_name_top_only'],\n",
        "    # sort_index=True,\n",
        "    cumsum=False, top_n=None,\n",
        ")"
      ],
      "metadata": {
        "colab": {
          "base_uri": "https://localhost:8080/",
          "height": 551
        },
        "id": "Wkl0fEx2yKXX",
        "outputId": "44b8ba94-2ccd-40f6-a624-a8a0ac0ef090"
      },
      "execution_count": 42,
      "outputs": [
        {
          "output_type": "execute_result",
          "data": {
            "text/plain": [
              "<pandas.io.formats.style.Styler at 0x7f14a3455b90>"
            ],
            "text/html": [
              "<style type=\"text/css\">\n",
              "#T_fc545_row0_col1 {\n",
              "  width: 10em;\n",
              "  height: 80%;\n",
              "  background: linear-gradient(90deg,#95cff5 100.0%, transparent 100.0%);\n",
              "}\n",
              "#T_fc545_row1_col1, #T_fc545_row2_col1 {\n",
              "  width: 10em;\n",
              "  height: 80%;\n",
              "  background: linear-gradient(90deg,#95cff5 33.3%, transparent 33.3%);\n",
              "}\n",
              "#T_fc545_row3_col1, #T_fc545_row4_col1, #T_fc545_row5_col1, #T_fc545_row6_col1, #T_fc545_row7_col1, #T_fc545_row8_col1, #T_fc545_row9_col1, #T_fc545_row10_col1, #T_fc545_row11_col1, #T_fc545_row12_col1, #T_fc545_row13_col1, #T_fc545_row14_col1 {\n",
              "  width: 10em;\n",
              "  height: 80%;\n",
              "}\n",
              "</style>\n",
              "<table id=\"T_fc545_\" class=\"dataframe\">\n",
              "  <thead>\n",
              "    <tr>\n",
              "      <th class=\"blank\" >&nbsp;</th>\n",
              "      <th class=\"blank level0\" >&nbsp;</th>\n",
              "      <th class=\"col_heading level0 col0\" >count</th>\n",
              "      <th class=\"col_heading level0 col1\" >percent</th>\n",
              "    </tr>\n",
              "    <tr>\n",
              "      <th class=\"index_name level0\" >language_in_use_multilingual</th>\n",
              "      <th class=\"index_name level1\" >language_name_top_only</th>\n",
              "      <th class=\"blank col0\" >&nbsp;</th>\n",
              "      <th class=\"blank col1\" >&nbsp;</th>\n",
              "    </tr>\n",
              "  </thead>\n",
              "  <tbody>\n",
              "    <tr>\n",
              "      <th id=\"T_fc545_level0_row0\" class=\"row_heading level0 row0\" rowspan=\"15\">True</th>\n",
              "      <th id=\"T_fc545_level1_row0\" class=\"row_heading level1 row0\" >Chinese</th>\n",
              "      <td id=\"T_fc545_row0_col0\" class=\"data row0 col0\" >4</td>\n",
              "      <td id=\"T_fc545_row0_col1\" class=\"data row0 col1\" >20.0%</td>\n",
              "    </tr>\n",
              "    <tr>\n",
              "      <th id=\"T_fc545_level1_row1\" class=\"row_heading level1 row1\" >Japanese</th>\n",
              "      <td id=\"T_fc545_row1_col0\" class=\"data row1 col0\" >2</td>\n",
              "      <td id=\"T_fc545_row1_col1\" class=\"data row1 col1\" >10.0%</td>\n",
              "    </tr>\n",
              "    <tr>\n",
              "      <th id=\"T_fc545_level1_row2\" class=\"row_heading level1 row2\" >Russian</th>\n",
              "      <td id=\"T_fc545_row2_col0\" class=\"data row2 col0\" >2</td>\n",
              "      <td id=\"T_fc545_row2_col1\" class=\"data row2 col1\" >10.0%</td>\n",
              "    </tr>\n",
              "    <tr>\n",
              "      <th id=\"T_fc545_level1_row3\" class=\"row_heading level1 row3\" >Arabic</th>\n",
              "      <td id=\"T_fc545_row3_col0\" class=\"data row3 col0\" >1</td>\n",
              "      <td id=\"T_fc545_row3_col1\" class=\"data row3 col1\" >5.0%</td>\n",
              "    </tr>\n",
              "    <tr>\n",
              "      <th id=\"T_fc545_level1_row4\" class=\"row_heading level1 row4\" >Dutch</th>\n",
              "      <td id=\"T_fc545_row4_col0\" class=\"data row4 col0\" >1</td>\n",
              "      <td id=\"T_fc545_row4_col1\" class=\"data row4 col1\" >5.0%</td>\n",
              "    </tr>\n",
              "    <tr>\n",
              "      <th id=\"T_fc545_level1_row5\" class=\"row_heading level1 row5\" >English</th>\n",
              "      <td id=\"T_fc545_row5_col0\" class=\"data row5 col0\" >1</td>\n",
              "      <td id=\"T_fc545_row5_col1\" class=\"data row5 col1\" >5.0%</td>\n",
              "    </tr>\n",
              "    <tr>\n",
              "      <th id=\"T_fc545_level1_row6\" class=\"row_heading level1 row6\" >French</th>\n",
              "      <td id=\"T_fc545_row6_col0\" class=\"data row6 col0\" >1</td>\n",
              "      <td id=\"T_fc545_row6_col1\" class=\"data row6 col1\" >5.0%</td>\n",
              "    </tr>\n",
              "    <tr>\n",
              "      <th id=\"T_fc545_level1_row7\" class=\"row_heading level1 row7\" >German</th>\n",
              "      <td id=\"T_fc545_row7_col0\" class=\"data row7 col0\" >1</td>\n",
              "      <td id=\"T_fc545_row7_col1\" class=\"data row7 col1\" >5.0%</td>\n",
              "    </tr>\n",
              "    <tr>\n",
              "      <th id=\"T_fc545_level1_row8\" class=\"row_heading level1 row8\" >Italian</th>\n",
              "      <td id=\"T_fc545_row8_col0\" class=\"data row8 col0\" >1</td>\n",
              "      <td id=\"T_fc545_row8_col1\" class=\"data row8 col1\" >5.0%</td>\n",
              "    </tr>\n",
              "    <tr>\n",
              "      <th id=\"T_fc545_level1_row9\" class=\"row_heading level1 row9\" >Korean</th>\n",
              "      <td id=\"T_fc545_row9_col0\" class=\"data row9 col0\" >1</td>\n",
              "      <td id=\"T_fc545_row9_col1\" class=\"data row9 col1\" >5.0%</td>\n",
              "    </tr>\n",
              "    <tr>\n",
              "      <th id=\"T_fc545_level1_row10\" class=\"row_heading level1 row10\" >Polish</th>\n",
              "      <td id=\"T_fc545_row10_col0\" class=\"data row10 col0\" >1</td>\n",
              "      <td id=\"T_fc545_row10_col1\" class=\"data row10 col1\" >5.0%</td>\n",
              "    </tr>\n",
              "    <tr>\n",
              "      <th id=\"T_fc545_level1_row11\" class=\"row_heading level1 row11\" >Portuguese</th>\n",
              "      <td id=\"T_fc545_row11_col0\" class=\"data row11 col0\" >1</td>\n",
              "      <td id=\"T_fc545_row11_col1\" class=\"data row11 col1\" >5.0%</td>\n",
              "    </tr>\n",
              "    <tr>\n",
              "      <th id=\"T_fc545_level1_row12\" class=\"row_heading level1 row12\" >Spanish</th>\n",
              "      <td id=\"T_fc545_row12_col0\" class=\"data row12 col0\" >1</td>\n",
              "      <td id=\"T_fc545_row12_col1\" class=\"data row12 col1\" >5.0%</td>\n",
              "    </tr>\n",
              "    <tr>\n",
              "      <th id=\"T_fc545_level1_row13\" class=\"row_heading level1 row13\" >Thai</th>\n",
              "      <td id=\"T_fc545_row13_col0\" class=\"data row13 col0\" >1</td>\n",
              "      <td id=\"T_fc545_row13_col1\" class=\"data row13 col1\" >5.0%</td>\n",
              "    </tr>\n",
              "    <tr>\n",
              "      <th id=\"T_fc545_level1_row14\" class=\"row_heading level1 row14\" >Turkish</th>\n",
              "      <td id=\"T_fc545_row14_col0\" class=\"data row14 col0\" >1</td>\n",
              "      <td id=\"T_fc545_row14_col1\" class=\"data row14 col1\" >5.0%</td>\n",
              "    </tr>\n",
              "  </tbody>\n",
              "</table>\n"
            ]
          },
          "metadata": {},
          "execution_count": 42
        }
      ]
    },
    {
      "cell_type": "code",
      "source": [
        "DF_LANGUAGE_MAPPING[DF_LANGUAGE_MAPPING['language_in_use_multilingual'] == True]"
      ],
      "metadata": {
        "colab": {
          "base_uri": "https://localhost:8080/",
          "height": 520
        },
        "id": "KUmcTgSWxg1Z",
        "outputId": "487fcff9-c54f-4495-8820-2b35c24b025e"
      },
      "execution_count": 43,
      "outputs": [
        {
          "output_type": "execute_result",
          "data": {
            "text/plain": [
              "    language_code language_name language_name_top_only  \\\n",
              "7              ar        Arabic                 Arabic   \n",
              "110         zh-cn       Chinese                Chinese   \n",
              "112         zh-tw       Chinese                Chinese   \n",
              "109            zh       Chinese                Chinese   \n",
              "111       zh-Latn       Chinese                Chinese   \n",
              "74             nl         Dutch                  Dutch   \n",
              "21             en       English                English   \n",
              "29             fr        French                 French   \n",
              "18             de        German                 German   \n",
              "47             it       Italian                Italian   \n",
              "49             ja      Japanese               Japanese   \n",
              "50        ja-Latn      Japanese               Japanese   \n",
              "56             ko        Korean                 Korean   \n",
              "78             pl        Polish                 Polish   \n",
              "80             pt    Portuguese             Portuguese   \n",
              "82             ru       Russian                Russian   \n",
              "83        ru-Latn       Russian                Russian   \n",
              "23             es       Spanish                Spanish   \n",
              "100            th          Thai                   Thai   \n",
              "101            tr       Turkish                Turkish   \n",
              "\n",
              "     language_in_use_multilingual  language_id  \n",
              "7                            True            3  \n",
              "110                          True           -1  \n",
              "112                          True           -1  \n",
              "109                          True          105  \n",
              "111                          True          106  \n",
              "74                           True           70  \n",
              "21                           True           17  \n",
              "29                           True           25  \n",
              "18                           True           14  \n",
              "47                           True           43  \n",
              "49                           True           45  \n",
              "50                           True           46  \n",
              "56                           True           52  \n",
              "78                           True           74  \n",
              "80                           True           76  \n",
              "82                           True           78  \n",
              "83                           True           79  \n",
              "23                           True           19  \n",
              "100                          True           96  \n",
              "101                          True           97  "
            ],
            "text/html": [
              "\n",
              "  <div id=\"df-c5b681ea-f929-46dd-9e71-0c64f7e5414c\">\n",
              "    <div class=\"colab-df-container\">\n",
              "      <div>\n",
              "<style scoped>\n",
              "    .dataframe tbody tr th:only-of-type {\n",
              "        vertical-align: middle;\n",
              "    }\n",
              "\n",
              "    .dataframe tbody tr th {\n",
              "        vertical-align: top;\n",
              "    }\n",
              "\n",
              "    .dataframe thead th {\n",
              "        text-align: right;\n",
              "    }\n",
              "</style>\n",
              "<table border=\"1\" class=\"dataframe\">\n",
              "  <thead>\n",
              "    <tr style=\"text-align: right;\">\n",
              "      <th></th>\n",
              "      <th>language_code</th>\n",
              "      <th>language_name</th>\n",
              "      <th>language_name_top_only</th>\n",
              "      <th>language_in_use_multilingual</th>\n",
              "      <th>language_id</th>\n",
              "    </tr>\n",
              "  </thead>\n",
              "  <tbody>\n",
              "    <tr>\n",
              "      <th>7</th>\n",
              "      <td>ar</td>\n",
              "      <td>Arabic</td>\n",
              "      <td>Arabic</td>\n",
              "      <td>True</td>\n",
              "      <td>3</td>\n",
              "    </tr>\n",
              "    <tr>\n",
              "      <th>110</th>\n",
              "      <td>zh-cn</td>\n",
              "      <td>Chinese</td>\n",
              "      <td>Chinese</td>\n",
              "      <td>True</td>\n",
              "      <td>-1</td>\n",
              "    </tr>\n",
              "    <tr>\n",
              "      <th>112</th>\n",
              "      <td>zh-tw</td>\n",
              "      <td>Chinese</td>\n",
              "      <td>Chinese</td>\n",
              "      <td>True</td>\n",
              "      <td>-1</td>\n",
              "    </tr>\n",
              "    <tr>\n",
              "      <th>109</th>\n",
              "      <td>zh</td>\n",
              "      <td>Chinese</td>\n",
              "      <td>Chinese</td>\n",
              "      <td>True</td>\n",
              "      <td>105</td>\n",
              "    </tr>\n",
              "    <tr>\n",
              "      <th>111</th>\n",
              "      <td>zh-Latn</td>\n",
              "      <td>Chinese</td>\n",
              "      <td>Chinese</td>\n",
              "      <td>True</td>\n",
              "      <td>106</td>\n",
              "    </tr>\n",
              "    <tr>\n",
              "      <th>74</th>\n",
              "      <td>nl</td>\n",
              "      <td>Dutch</td>\n",
              "      <td>Dutch</td>\n",
              "      <td>True</td>\n",
              "      <td>70</td>\n",
              "    </tr>\n",
              "    <tr>\n",
              "      <th>21</th>\n",
              "      <td>en</td>\n",
              "      <td>English</td>\n",
              "      <td>English</td>\n",
              "      <td>True</td>\n",
              "      <td>17</td>\n",
              "    </tr>\n",
              "    <tr>\n",
              "      <th>29</th>\n",
              "      <td>fr</td>\n",
              "      <td>French</td>\n",
              "      <td>French</td>\n",
              "      <td>True</td>\n",
              "      <td>25</td>\n",
              "    </tr>\n",
              "    <tr>\n",
              "      <th>18</th>\n",
              "      <td>de</td>\n",
              "      <td>German</td>\n",
              "      <td>German</td>\n",
              "      <td>True</td>\n",
              "      <td>14</td>\n",
              "    </tr>\n",
              "    <tr>\n",
              "      <th>47</th>\n",
              "      <td>it</td>\n",
              "      <td>Italian</td>\n",
              "      <td>Italian</td>\n",
              "      <td>True</td>\n",
              "      <td>43</td>\n",
              "    </tr>\n",
              "    <tr>\n",
              "      <th>49</th>\n",
              "      <td>ja</td>\n",
              "      <td>Japanese</td>\n",
              "      <td>Japanese</td>\n",
              "      <td>True</td>\n",
              "      <td>45</td>\n",
              "    </tr>\n",
              "    <tr>\n",
              "      <th>50</th>\n",
              "      <td>ja-Latn</td>\n",
              "      <td>Japanese</td>\n",
              "      <td>Japanese</td>\n",
              "      <td>True</td>\n",
              "      <td>46</td>\n",
              "    </tr>\n",
              "    <tr>\n",
              "      <th>56</th>\n",
              "      <td>ko</td>\n",
              "      <td>Korean</td>\n",
              "      <td>Korean</td>\n",
              "      <td>True</td>\n",
              "      <td>52</td>\n",
              "    </tr>\n",
              "    <tr>\n",
              "      <th>78</th>\n",
              "      <td>pl</td>\n",
              "      <td>Polish</td>\n",
              "      <td>Polish</td>\n",
              "      <td>True</td>\n",
              "      <td>74</td>\n",
              "    </tr>\n",
              "    <tr>\n",
              "      <th>80</th>\n",
              "      <td>pt</td>\n",
              "      <td>Portuguese</td>\n",
              "      <td>Portuguese</td>\n",
              "      <td>True</td>\n",
              "      <td>76</td>\n",
              "    </tr>\n",
              "    <tr>\n",
              "      <th>82</th>\n",
              "      <td>ru</td>\n",
              "      <td>Russian</td>\n",
              "      <td>Russian</td>\n",
              "      <td>True</td>\n",
              "      <td>78</td>\n",
              "    </tr>\n",
              "    <tr>\n",
              "      <th>83</th>\n",
              "      <td>ru-Latn</td>\n",
              "      <td>Russian</td>\n",
              "      <td>Russian</td>\n",
              "      <td>True</td>\n",
              "      <td>79</td>\n",
              "    </tr>\n",
              "    <tr>\n",
              "      <th>23</th>\n",
              "      <td>es</td>\n",
              "      <td>Spanish</td>\n",
              "      <td>Spanish</td>\n",
              "      <td>True</td>\n",
              "      <td>19</td>\n",
              "    </tr>\n",
              "    <tr>\n",
              "      <th>100</th>\n",
              "      <td>th</td>\n",
              "      <td>Thai</td>\n",
              "      <td>Thai</td>\n",
              "      <td>True</td>\n",
              "      <td>96</td>\n",
              "    </tr>\n",
              "    <tr>\n",
              "      <th>101</th>\n",
              "      <td>tr</td>\n",
              "      <td>Turkish</td>\n",
              "      <td>Turkish</td>\n",
              "      <td>True</td>\n",
              "      <td>97</td>\n",
              "    </tr>\n",
              "  </tbody>\n",
              "</table>\n",
              "</div>\n",
              "      <button class=\"colab-df-convert\" onclick=\"convertToInteractive('df-c5b681ea-f929-46dd-9e71-0c64f7e5414c')\"\n",
              "              title=\"Convert this dataframe to an interactive table.\"\n",
              "              style=\"display:none;\">\n",
              "        \n",
              "  <svg xmlns=\"http://www.w3.org/2000/svg\" height=\"24px\"viewBox=\"0 0 24 24\"\n",
              "       width=\"24px\">\n",
              "    <path d=\"M0 0h24v24H0V0z\" fill=\"none\"/>\n",
              "    <path d=\"M18.56 5.44l.94 2.06.94-2.06 2.06-.94-2.06-.94-.94-2.06-.94 2.06-2.06.94zm-11 1L8.5 8.5l.94-2.06 2.06-.94-2.06-.94L8.5 2.5l-.94 2.06-2.06.94zm10 10l.94 2.06.94-2.06 2.06-.94-2.06-.94-.94-2.06-.94 2.06-2.06.94z\"/><path d=\"M17.41 7.96l-1.37-1.37c-.4-.4-.92-.59-1.43-.59-.52 0-1.04.2-1.43.59L10.3 9.45l-7.72 7.72c-.78.78-.78 2.05 0 2.83L4 21.41c.39.39.9.59 1.41.59.51 0 1.02-.2 1.41-.59l7.78-7.78 2.81-2.81c.8-.78.8-2.07 0-2.86zM5.41 20L4 18.59l7.72-7.72 1.47 1.35L5.41 20z\"/>\n",
              "  </svg>\n",
              "      </button>\n",
              "      \n",
              "  <style>\n",
              "    .colab-df-container {\n",
              "      display:flex;\n",
              "      flex-wrap:wrap;\n",
              "      gap: 12px;\n",
              "    }\n",
              "\n",
              "    .colab-df-convert {\n",
              "      background-color: #E8F0FE;\n",
              "      border: none;\n",
              "      border-radius: 50%;\n",
              "      cursor: pointer;\n",
              "      display: none;\n",
              "      fill: #1967D2;\n",
              "      height: 32px;\n",
              "      padding: 0 0 0 0;\n",
              "      width: 32px;\n",
              "    }\n",
              "\n",
              "    .colab-df-convert:hover {\n",
              "      background-color: #E2EBFA;\n",
              "      box-shadow: 0px 1px 2px rgba(60, 64, 67, 0.3), 0px 1px 3px 1px rgba(60, 64, 67, 0.15);\n",
              "      fill: #174EA6;\n",
              "    }\n",
              "\n",
              "    [theme=dark] .colab-df-convert {\n",
              "      background-color: #3B4455;\n",
              "      fill: #D2E3FC;\n",
              "    }\n",
              "\n",
              "    [theme=dark] .colab-df-convert:hover {\n",
              "      background-color: #434B5C;\n",
              "      box-shadow: 0px 1px 3px 1px rgba(0, 0, 0, 0.15);\n",
              "      filter: drop-shadow(0px 1px 2px rgba(0, 0, 0, 0.3));\n",
              "      fill: #FFFFFF;\n",
              "    }\n",
              "  </style>\n",
              "\n",
              "      <script>\n",
              "        const buttonEl =\n",
              "          document.querySelector('#df-c5b681ea-f929-46dd-9e71-0c64f7e5414c button.colab-df-convert');\n",
              "        buttonEl.style.display =\n",
              "          google.colab.kernel.accessAllowed ? 'block' : 'none';\n",
              "\n",
              "        async function convertToInteractive(key) {\n",
              "          const element = document.querySelector('#df-c5b681ea-f929-46dd-9e71-0c64f7e5414c');\n",
              "          const dataTable =\n",
              "            await google.colab.kernel.invokeFunction('convertToInteractive',\n",
              "                                                     [key], {});\n",
              "          if (!dataTable) return;\n",
              "\n",
              "          const docLinkHtml = 'Like what you see? Visit the ' +\n",
              "            '<a target=\"_blank\" href=https://colab.research.google.com/notebooks/data_table.ipynb>data table notebook</a>'\n",
              "            + ' to learn more about interactive tables.';\n",
              "          element.innerHTML = '';\n",
              "          dataTable['output_type'] = 'display_data';\n",
              "          await google.colab.output.renderOutput(dataTable, element);\n",
              "          const docLink = document.createElement('div');\n",
              "          docLink.innerHTML = docLinkHtml;\n",
              "          element.appendChild(docLink);\n",
              "        }\n",
              "      </script>\n",
              "    </div>\n",
              "  </div>\n",
              "  "
            ],
            "application/vnd.google.colaboratory.module+javascript": "\n      import \"https://ssl.gstatic.com/colaboratory/data_table/a8bd4d5e58f96183/data_table.js\";\n\n      window.createDataTable({\n        data: [[{\n            'v': 7,\n            'f': \"7\",\n        },\n\"ar\",\n\"Arabic\",\n\"Arabic\",\ntrue,\n{\n            'v': 3,\n            'f': \"3\",\n        }],\n [{\n            'v': 110,\n            'f': \"110\",\n        },\n\"zh-cn\",\n\"Chinese\",\n\"Chinese\",\ntrue,\n{\n            'v': -1,\n            'f': \"-1\",\n        }],\n [{\n            'v': 112,\n            'f': \"112\",\n        },\n\"zh-tw\",\n\"Chinese\",\n\"Chinese\",\ntrue,\n{\n            'v': -1,\n            'f': \"-1\",\n        }],\n [{\n            'v': 109,\n            'f': \"109\",\n        },\n\"zh\",\n\"Chinese\",\n\"Chinese\",\ntrue,\n{\n            'v': 105,\n            'f': \"105\",\n        }],\n [{\n            'v': 111,\n            'f': \"111\",\n        },\n\"zh-Latn\",\n\"Chinese\",\n\"Chinese\",\ntrue,\n{\n            'v': 106,\n            'f': \"106\",\n        }],\n [{\n            'v': 74,\n            'f': \"74\",\n        },\n\"nl\",\n\"Dutch\",\n\"Dutch\",\ntrue,\n{\n            'v': 70,\n            'f': \"70\",\n        }],\n [{\n            'v': 21,\n            'f': \"21\",\n        },\n\"en\",\n\"English\",\n\"English\",\ntrue,\n{\n            'v': 17,\n            'f': \"17\",\n        }],\n [{\n            'v': 29,\n            'f': \"29\",\n        },\n\"fr\",\n\"French\",\n\"French\",\ntrue,\n{\n            'v': 25,\n            'f': \"25\",\n        }],\n [{\n            'v': 18,\n            'f': \"18\",\n        },\n\"de\",\n\"German\",\n\"German\",\ntrue,\n{\n            'v': 14,\n            'f': \"14\",\n        }],\n [{\n            'v': 47,\n            'f': \"47\",\n        },\n\"it\",\n\"Italian\",\n\"Italian\",\ntrue,\n{\n            'v': 43,\n            'f': \"43\",\n        }],\n [{\n            'v': 49,\n            'f': \"49\",\n        },\n\"ja\",\n\"Japanese\",\n\"Japanese\",\ntrue,\n{\n            'v': 45,\n            'f': \"45\",\n        }],\n [{\n            'v': 50,\n            'f': \"50\",\n        },\n\"ja-Latn\",\n\"Japanese\",\n\"Japanese\",\ntrue,\n{\n            'v': 46,\n            'f': \"46\",\n        }],\n [{\n            'v': 56,\n            'f': \"56\",\n        },\n\"ko\",\n\"Korean\",\n\"Korean\",\ntrue,\n{\n            'v': 52,\n            'f': \"52\",\n        }],\n [{\n            'v': 78,\n            'f': \"78\",\n        },\n\"pl\",\n\"Polish\",\n\"Polish\",\ntrue,\n{\n            'v': 74,\n            'f': \"74\",\n        }],\n [{\n            'v': 80,\n            'f': \"80\",\n        },\n\"pt\",\n\"Portuguese\",\n\"Portuguese\",\ntrue,\n{\n            'v': 76,\n            'f': \"76\",\n        }],\n [{\n            'v': 82,\n            'f': \"82\",\n        },\n\"ru\",\n\"Russian\",\n\"Russian\",\ntrue,\n{\n            'v': 78,\n            'f': \"78\",\n        }],\n [{\n            'v': 83,\n            'f': \"83\",\n        },\n\"ru-Latn\",\n\"Russian\",\n\"Russian\",\ntrue,\n{\n            'v': 79,\n            'f': \"79\",\n        }],\n [{\n            'v': 23,\n            'f': \"23\",\n        },\n\"es\",\n\"Spanish\",\n\"Spanish\",\ntrue,\n{\n            'v': 19,\n            'f': \"19\",\n        }],\n [{\n            'v': 100,\n            'f': \"100\",\n        },\n\"th\",\n\"Thai\",\n\"Thai\",\ntrue,\n{\n            'v': 96,\n            'f': \"96\",\n        }],\n [{\n            'v': 101,\n            'f': \"101\",\n        },\n\"tr\",\n\"Turkish\",\n\"Turkish\",\ntrue,\n{\n            'v': 97,\n            'f': \"97\",\n        }]],\n        columns: [[\"number\", \"index\"], [\"string\", \"language_code\"], [\"string\", \"language_name\"], [\"string\", \"language_name_top_only\"], [\"string\", \"language_in_use_multilingual\"], [\"number\", \"language_id\"]],\n        columnOptions: [{\"width\": \"1px\", \"className\": \"index_column\"}],\n        rowsPerPage: 25,\n        helpUrl: \"https://colab.research.google.com/notebooks/data_table.ipynb\",\n        suppressOutputScrolling: true,\n        minimumWidth: undefined,\n      });\n    "
          },
          "metadata": {},
          "execution_count": 43
        }
      ]
    },
    {
      "cell_type": "markdown",
      "metadata": {
        "id": "K0A2qrQ4nbFO"
      },
      "source": [
        "# Save table to BigQuery\n",
        "\n",
        "NOTE: Sorting is not guaranteed in the final BigQuery table.\n",
        "\n",
        "We can \"force\" sorting if we set `chunksize` to a number smaller than the full df size."
      ]
    },
    {
      "cell_type": "code",
      "metadata": {
        "id": "RNncSE90nehX",
        "colab": {
          "base_uri": "https://localhost:8080/"
        },
        "outputId": "88e98796-dc29-4291-f599-c582eb2ad399"
      },
      "source": [
        "(\n",
        "    DF_LANGUAGE_MAPPING\n",
        "    .assign(table_creation_date=pd.to_datetime(datetime.utcnow().date()))\n",
        "    .to_gbq(\n",
        "        destination_table='david_bermejo.language_detection_code_to_name_lookup_cld3',\n",
        "        project_id='reddit-employee-datasets',\n",
        "        chunksize=20,\n",
        "        if_exists='replace'\n",
        "    )\n",
        ")"
      ],
      "execution_count": 44,
      "outputs": [
        {
          "output_type": "stream",
          "name": "stderr",
          "text": [
            "20 out of 114 rows loaded.\"\n",
            "40 out of 114 rows loaded.\"\n",
            "60 out of 114 rows loaded.\"\n",
            "80 out of 114 rows loaded.\"\n",
            "100 out of 114 rows loaded.\"\n",
            "114 out of 114 rows loaded.\"\n",
            "6it [00:24,  4.05s/it]\n"
          ]
        }
      ]
    },
    {
      "cell_type": "code",
      "source": [
        ""
      ],
      "metadata": {
        "id": "teSq1kRwXgD-"
      },
      "execution_count": null,
      "outputs": []
    }
  ]
}