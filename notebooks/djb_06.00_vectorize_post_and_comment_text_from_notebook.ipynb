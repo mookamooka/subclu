{
 "cells": [
  {
   "cell_type": "markdown",
   "id": "d273e3af",
   "metadata": {},
   "source": [
    "# Purpose\n",
    "This notebook runs the `vectorize_text_to_embeddings` function to:\n",
    "- loading fastText embeddings & create a uSIF model\n",
    "- load post & comment text\n",
    "- train a uSIF model\n",
    "- convert the text into embeddings (at post or comment level)\n",
    "\n",
    "Currently only one job call runs at a time, so I may try running two notebooks at the same time to run some jobs in parallel.\n"
   ]
  },
  {
   "cell_type": "markdown",
   "id": "a7b5b6ce",
   "metadata": {},
   "source": [
    "# Notebook setup"
   ]
  },
  {
   "cell_type": "code",
   "execution_count": 1,
   "id": "39468502",
   "metadata": {},
   "outputs": [],
   "source": [
    "%load_ext autoreload\n",
    "%autoreload 2"
   ]
  },
  {
   "cell_type": "code",
   "execution_count": 4,
   "id": "482e4e84",
   "metadata": {},
   "outputs": [
    {
     "name": "stdout",
     "output_type": "stream",
     "text": [
      "python\t\tv 3.7.10\n",
      "===\n",
      "mlflow\t\tv: 1.16.0\n",
      "numpy\t\tv: 1.19.5\n",
      "mlflow\t\tv: 1.16.0\n",
      "pandas\t\tv: 1.2.4\n"
     ]
    }
   ],
   "source": [
    "from datetime import datetime\n",
    "import gc\n",
    "from functools import partial\n",
    "import os\n",
    "import logging\n",
    "from pathlib import Path\n",
    "from pprint import pprint\n",
    "\n",
    "import mlflow\n",
    "\n",
    "import numpy as np\n",
    "import pandas as pd\n",
    "\n",
    "from subclu.models.vectorize_text import (\n",
    "    vectorize_text_to_embeddings,\n",
    "    D_MODELS_CPU,\n",
    "    process_text_for_fse,\n",
    "    vectorize_text_with_fse,\n",
    ")\n",
    "from subclu.models.preprocess_text import TextPreprocessor, transform_and_tokenize_text\n",
    "\n",
    "from subclu.utils import set_working_directory\n",
    "from subclu.utils.mlflow_logger import MlflowLogger\n",
    "from subclu.utils.eda import (\n",
    "    setup_logging, counts_describe, value_counts_and_pcts,\n",
    "    notebook_display_config, print_lib_versions,\n",
    "    style_df_numeric\n",
    ")\n",
    "\n",
    "\n",
    "print_lib_versions([mlflow, np, mlflow, pd])"
   ]
  },
  {
   "cell_type": "code",
   "execution_count": 5,
   "id": "e3d52209",
   "metadata": {},
   "outputs": [],
   "source": [
    "# plotting\n",
    "import matplotlib.pyplot as plt\n",
    "import matplotlib.ticker as mtick\n",
    "import matplotlib.dates as mdates\n",
    "plt.style.use('default')\n",
    "\n",
    "setup_logging()\n",
    "notebook_display_config()"
   ]
  },
  {
   "cell_type": "markdown",
   "id": "193b357a",
   "metadata": {},
   "source": [
    "# Set sqlite database as MLflow URI"
   ]
  },
  {
   "cell_type": "code",
   "execution_count": 6,
   "id": "686ecaac",
   "metadata": {},
   "outputs": [],
   "source": [
    "# use new class to initialize mlflow\n",
    "mlf = MlflowLogger(tracking_uri='sqlite')"
   ]
  },
  {
   "cell_type": "code",
   "execution_count": 7,
   "id": "f986453b",
   "metadata": {},
   "outputs": [
    {
     "data": {
      "text/plain": [
       "'sqlite:////home/jupyter/mlflow/mlruns.db'"
      ]
     },
     "execution_count": 7,
     "metadata": {},
     "output_type": "execute_result"
    }
   ],
   "source": [
    "mlflow.get_tracking_uri()"
   ]
  },
  {
   "cell_type": "markdown",
   "id": "d760b019",
   "metadata": {},
   "source": [
    "# Get list of experiments"
   ]
  },
  {
   "cell_type": "markdown",
   "id": "d0d90e77",
   "metadata": {},
   "source": [
    "### with new function"
   ]
  },
  {
   "cell_type": "code",
   "execution_count": 10,
   "id": "72317091",
   "metadata": {},
   "outputs": [],
   "source": [
    "logging.getLogger('sqlalchemy.engine').setLevel(logging.WARN)"
   ]
  },
  {
   "cell_type": "code",
   "execution_count": 18,
   "id": "d0f9ad83",
   "metadata": {},
   "outputs": [
    {
     "data": {
      "text/plain": [
       "[{'experiment_id': '0',\n",
       "  'name': 'Default',\n",
       "  'artifact_location': './mlruns/0',\n",
       "  'lifecycle_stage': 'active'},\n",
       " {'experiment_id': '1',\n",
       "  'name': 'fse_v1',\n",
       "  'artifact_location': 'gs://i18n-subreddit-clustering/mlflow/mlruns/1',\n",
       "  'lifecycle_stage': 'active'},\n",
       " {'experiment_id': '2',\n",
       "  'name': 'fse_vectorize_v1',\n",
       "  'artifact_location': 'gs://i18n-subreddit-clustering/mlflow/mlruns/2',\n",
       "  'lifecycle_stage': 'active'},\n",
       " {'experiment_id': '3',\n",
       "  'name': 'subreddit_description_v1',\n",
       "  'artifact_location': 'gs://i18n-subreddit-clustering/mlflow/mlruns/3',\n",
       "  'lifecycle_stage': 'active'}]"
      ]
     },
     "execution_count": 18,
     "metadata": {},
     "output_type": "execute_result"
    }
   ],
   "source": [
    "mlf.list_experiment_meta()"
   ]
  },
  {
   "cell_type": "markdown",
   "id": "05352de3",
   "metadata": {},
   "source": [
    "# Call function to vectorize text"
   ]
  },
  {
   "cell_type": "code",
   "execution_count": 20,
   "id": "7c92071d",
   "metadata": {},
   "outputs": [],
   "source": [
    "mlflow_experiment = 'fse_vectorize_v1.1'"
   ]
  },
  {
   "cell_type": "code",
   "execution_count": 21,
   "id": "9f03c530",
   "metadata": {},
   "outputs": [
    {
     "name": "stderr",
     "output_type": "stream",
     "text": [
      "07:08:44 | INFO | \"Start vectorize function\"\n",
      "07:08:44 | INFO | \"  Local model saving directory: /home/jupyter/subreddit_clustering_i18n/data/models/fse/2021-06-02_0708\"\n",
      "07:08:44 | INFO | \"Loading df_posts...\n",
      "  gs://i18n-subreddit-clustering/posts/2021-05-19\"\n",
      "07:08:53 | INFO | \"  0:00:09.099387 <- df_post time elapsed\"\n",
      "07:08:53 | INFO | \"  (111669, 6) <- df_posts.shape\"\n",
      "07:08:53 | INFO | \"Load comments df...\"\n",
      "07:09:05 | INFO | \"  (757388, 6) <- df_comments shape\"\n",
      "07:09:06 | INFO | \"Keep only comments that match posts IDs in df_posts...\"\n",
      "07:09:06 | INFO | \"  (638052, 6) <- updated df_comments shape\"\n",
      "07:09:06 | INFO | \"MLflow tracking URI: sqlite:////home/jupyter/mlflow/mlruns.db\"\n",
      "07:09:06 | INFO | \"Filtering posts for SIF training...\"\n",
      "07:09:07 | INFO | \"38,296 <- Exclude posts because of: subreddits filter\"\n",
      "07:09:07 | INFO | \"30,537 <- Exclude posts because of: duplicated posts\"\n",
      "07:09:07 | INFO | \"25,328 <- Exclude posts because of: minimum word count\"\n",
      "07:09:07 | INFO | \"43,452 <- df_posts for training\"\n",
      "07:09:07 | INFO | \"Converting df_train to fse format...\"\n",
      "07:09:07 | INFO | \"  0:00:00.065679 <- Converting to fse time elapsed\"\n",
      "07:09:07 | INFO | \"Logging training df to mlflow...\"\n",
      "07:09:07 | INFO | \"Loading model fasttext_usif_de...\n",
      "  with kwargs: {'lang_id': 'de', 'workers': 10, 'length': 11, 'lang_freq': 'de', 'verbose': True}\"\n",
      "07:09:07 | INFO | \"  Getting pretrained model for language: de...\"\n",
      "07:09:07 | INFO | \"  fastText embeddings location:\n",
      "    /home/jupyter/subreddit_clustering_i18n/data/embeddings/fasttext\"\n",
      "07:10:52 | INFO | \"  2,000,000 <- Model vocabulary\"\n",
      "07:10:52 | INFO | \"  True <- True if `fse` is running in parallel..\"\n",
      "07:10:55 | INFO | \"  0:01:48.082687 <- Load FSE model time elapsed\"\n",
      "07:10:55 | INFO | \"Start training fse model...\"\n",
      "07:11:04 | INFO | \"Running inference on all posts...\"\n",
      "07:11:04 | INFO | \"Convert vectors to df...\"\n",
      "07:11:11 | INFO | \"(111669, 300) <- Raw vectorized text shape\"\n",
      "07:11:11 | INFO | \"  0:00:06.086890 <- Raw vectorize to df only time elapsed\"\n",
      "07:11:11 | INFO | \"Create new df from dict_index_to_id to make merging easier...\"\n",
      "07:11:11 | INFO | \"  Setting col_id as index...\"\n",
      "07:11:11 | INFO | \"  0:00:06.519590 <- Converting vectors to df full time elapsed\"\n",
      "07:11:11 | INFO | \"  0:00:06.521184 <- Posts inference time time elapsed\"\n",
      "07:11:11 | INFO | \"Saving inference for comments df\"\n",
      "07:11:14 | INFO | \"  Saving inference complete\"\n",
      "07:11:14 | INFO | \"Get vectors for comments\"\n",
      "07:11:15 | INFO | \"Convert vectors to df...\"\n",
      "07:11:53 | INFO | \"(638052, 300) <- Raw vectorized text shape\"\n",
      "07:11:53 | INFO | \"  0:00:37.930803 <- Raw vectorize to df only time elapsed\"\n",
      "07:11:53 | INFO | \"Create new df from dict_index_to_id to make merging easier...\"\n",
      "07:11:53 | INFO | \"  Setting col_id as index...\"\n",
      "07:11:57 | INFO | \"  0:00:42.058228 <- Converting vectors to df full time elapsed\"\n",
      "07:11:57 | INFO | \"  0:00:42.553639 <- Inference time for COMMENTS time elapsed\"\n",
      "07:11:57 | INFO | \"Save vectors for comments\"\n",
      "07:12:14 | INFO | \"  0:03:29.721384 <- Total vectorize fxn time elapsed\"\n"
     ]
    }
   ],
   "source": [
    "# del model, df_posts, d_ix_to_id\n",
    "gc.collect()\n",
    "\n",
    "mlflow.end_run(status='KILLED')\n",
    "model, df_posts, d_ix_to_id = vectorize_text_to_embeddings(\n",
    "    mlflow_experiment=mlflow_experiment,\n",
    "    \n",
    "    tokenize_function='sklearn_acronyms_emoji',\n",
    "    tokenize_lowercase=True,\n",
    "    train_min_word_count=4,\n",
    "    train_subreddits_to_exclude=['wixbros', 'katjakrasavicenudes',\n",
    "                                 'deutschetributes', 'germannudes'],\n",
    ")"
   ]
  },
  {
   "cell_type": "code",
   "execution_count": 22,
   "id": "ca295bef",
   "metadata": {},
   "outputs": [
    {
     "name": "stderr",
     "output_type": "stream",
     "text": [
      "07:12:14 | INFO | \"Start vectorize function\"\n",
      "07:12:14 | INFO | \"  Local model saving directory: /home/jupyter/subreddit_clustering_i18n/data/models/fse/2021-06-02_0712\"\n",
      "07:12:14 | INFO | \"Loading df_posts...\n",
      "  gs://i18n-subreddit-clustering/posts/2021-05-19\"\n",
      "07:12:21 | INFO | \"  0:00:07.399874 <- df_post time elapsed\"\n",
      "07:12:21 | INFO | \"  (111669, 6) <- df_posts.shape\"\n",
      "07:12:21 | INFO | \"Load comments df...\"\n",
      "07:12:31 | INFO | \"  (757388, 6) <- df_comments shape\"\n",
      "07:12:31 | INFO | \"Keep only comments that match posts IDs in df_posts...\"\n",
      "07:12:31 | INFO | \"  (638052, 6) <- updated df_comments shape\"\n",
      "07:12:31 | INFO | \"MLflow tracking URI: sqlite:////home/jupyter/mlflow/mlruns.db\"\n",
      "07:12:35 | INFO | \"Filtering posts for SIF training...\"\n",
      "07:12:35 | INFO | \"     0 <- Exclude posts because of: subreddits filter\"\n",
      "07:12:35 | INFO | \"30,537 <- Exclude posts because of: duplicated posts\"\n",
      "07:12:35 | INFO | \"25,328 <- Exclude posts because of: minimum word count\"\n",
      "07:12:35 | INFO | \"69,122 <- df_posts for training\"\n",
      "07:12:35 | INFO | \"Converting df_train to fse format...\"\n",
      "07:12:35 | INFO | \"  0:00:00.064508 <- Converting to fse time elapsed\"\n",
      "07:12:35 | INFO | \"Logging training df to mlflow...\"\n",
      "07:12:36 | INFO | \"Loading model fasttext_usif_de...\n",
      "  with kwargs: {'lang_id': 'de', 'workers': 10, 'length': 11, 'lang_freq': 'de', 'verbose': True}\"\n",
      "07:12:36 | INFO | \"  Getting pretrained model for language: de...\"\n",
      "07:12:36 | INFO | \"  fastText embeddings location:\n",
      "    /home/jupyter/subreddit_clustering_i18n/data/embeddings/fasttext\"\n",
      "07:14:10 | INFO | \"  2,000,000 <- Model vocabulary\"\n",
      "07:14:10 | INFO | \"  True <- True if `fse` is running in parallel..\"\n",
      "07:14:13 | INFO | \"  0:01:37.813651 <- Load FSE model time elapsed\"\n",
      "07:14:13 | INFO | \"Start training fse model...\"\n",
      "07:14:23 | INFO | \"Running inference on all posts...\"\n",
      "07:14:23 | INFO | \"Convert vectors to df...\"\n",
      "07:14:28 | INFO | \"(111669, 300) <- Raw vectorized text shape\"\n",
      "07:14:28 | INFO | \"  0:00:05.331098 <- Raw vectorize to df only time elapsed\"\n",
      "07:14:28 | INFO | \"Create new df from dict_index_to_id to make merging easier...\"\n",
      "07:14:29 | INFO | \"  Setting col_id as index...\"\n",
      "07:14:29 | INFO | \"  0:00:05.774477 <- Converting vectors to df full time elapsed\"\n",
      "07:14:29 | INFO | \"  0:00:05.776041 <- Posts inference time time elapsed\"\n",
      "07:14:29 | INFO | \"Saving inference for comments df\"\n",
      "07:14:32 | INFO | \"  Saving inference complete\"\n",
      "07:14:32 | INFO | \"Get vectors for comments\"\n",
      "07:14:33 | INFO | \"Convert vectors to df...\"\n",
      "07:15:06 | INFO | \"(638052, 300) <- Raw vectorized text shape\"\n",
      "07:15:06 | INFO | \"  0:00:33.751847 <- Raw vectorize to df only time elapsed\"\n",
      "07:15:06 | INFO | \"Create new df from dict_index_to_id to make merging easier...\"\n",
      "07:15:07 | INFO | \"  Setting col_id as index...\"\n",
      "07:15:10 | INFO | \"  0:00:37.824683 <- Converting vectors to df full time elapsed\"\n",
      "07:15:10 | INFO | \"  0:00:38.315209 <- Inference time for COMMENTS time elapsed\"\n",
      "07:15:10 | INFO | \"Save vectors for comments\"\n",
      "07:15:28 | INFO | \"  0:03:13.675730 <- Total vectorize fxn time elapsed\"\n"
     ]
    }
   ],
   "source": [
    "mlflow.end_run(status='KILLED')\n",
    "\n",
    "model, df_posts, d_ix_to_id = vectorize_text_to_embeddings(\n",
    "    mlflow_experiment=mlflow_experiment,\n",
    "    \n",
    "    tokenize_function='sklearn',\n",
    "    tokenize_lowercase=True,\n",
    "    train_min_word_count=4,\n",
    ")"
   ]
  },
  {
   "cell_type": "code",
   "execution_count": 23,
   "id": "bca66b4d",
   "metadata": {},
   "outputs": [
    {
     "name": "stderr",
     "output_type": "stream",
     "text": [
      "07:15:29 | INFO | \"Start vectorize function\"\n",
      "07:15:29 | INFO | \"  Local model saving directory: /home/jupyter/subreddit_clustering_i18n/data/models/fse/2021-06-02_0715\"\n",
      "07:15:29 | INFO | \"Loading df_posts...\n",
      "  gs://i18n-subreddit-clustering/posts/2021-05-19\"\n",
      "07:15:35 | INFO | \"  0:00:06.756756 <- df_post time elapsed\"\n",
      "07:15:35 | INFO | \"  (111669, 6) <- df_posts.shape\"\n",
      "07:15:35 | INFO | \"Load comments df...\"\n",
      "07:15:44 | INFO | \"  (757388, 6) <- df_comments shape\"\n",
      "07:15:45 | INFO | \"Keep only comments that match posts IDs in df_posts...\"\n",
      "07:15:45 | INFO | \"  (638052, 6) <- updated df_comments shape\"\n",
      "07:15:45 | INFO | \"MLflow tracking URI: sqlite:////home/jupyter/mlflow/mlruns.db\"\n",
      "07:15:45 | INFO | \"Filtering posts for SIF training...\"\n",
      "07:15:45 | INFO | \"38,296 <- Exclude posts because of: subreddits filter\"\n",
      "07:15:45 | INFO | \"30,537 <- Exclude posts because of: duplicated posts\"\n",
      "07:15:45 | INFO | \"25,328 <- Exclude posts because of: minimum word count\"\n",
      "07:15:45 | INFO | \"43,452 <- df_posts for training\"\n",
      "07:15:46 | INFO | \"Converting df_train to fse format...\"\n",
      "07:15:46 | INFO | \"  0:00:00.094479 <- Converting to fse time elapsed\"\n",
      "07:15:48 | INFO | \"Logging training df to mlflow...\"\n",
      "07:15:49 | INFO | \"Loading model fasttext_usif_de...\n",
      "  with kwargs: {'lang_id': 'de', 'workers': 10, 'length': 11, 'lang_freq': 'de', 'verbose': True}\"\n",
      "07:15:49 | INFO | \"  Getting pretrained model for language: de...\"\n",
      "07:15:49 | INFO | \"  fastText embeddings location:\n",
      "    /home/jupyter/subreddit_clustering_i18n/data/embeddings/fasttext\"\n",
      "07:17:24 | INFO | \"  2,000,000 <- Model vocabulary\"\n",
      "07:17:24 | INFO | \"  True <- True if `fse` is running in parallel..\"\n",
      "07:17:27 | INFO | \"  0:01:41.341244 <- Load FSE model time elapsed\"\n",
      "07:17:27 | INFO | \"Start training fse model...\"\n",
      "07:17:36 | INFO | \"Running inference on all posts...\"\n",
      "07:17:36 | INFO | \"Convert vectors to df...\"\n",
      "07:17:42 | INFO | \"(111669, 300) <- Raw vectorized text shape\"\n",
      "07:17:42 | INFO | \"  0:00:05.515365 <- Raw vectorize to df only time elapsed\"\n",
      "07:17:42 | INFO | \"Create new df from dict_index_to_id to make merging easier...\"\n",
      "07:17:42 | INFO | \"  Setting col_id as index...\"\n",
      "07:17:42 | INFO | \"Merge vectors with df...\"\n",
      "07:17:43 | INFO | \"  0:00:00.352630 <- Merging df_vect with ID columns time elapsed\"\n",
      "07:17:43 | INFO | \"  0:00:06.315339 <- Converting vectors to df full time elapsed\"\n",
      "07:17:43 | INFO | \"  0:00:06.316551 <- Posts inference time time elapsed\"\n",
      "07:17:43 | INFO | \"Saving inference for comments df\"\n",
      "07:17:48 | INFO | \"  Saving inference complete\"\n",
      "07:17:48 | INFO | \"Get vectors for comments\"\n",
      "07:17:48 | INFO | \"Convert vectors to df...\"\n",
      "07:18:25 | INFO | \"(638052, 300) <- Raw vectorized text shape\"\n",
      "07:18:25 | INFO | \"  0:00:36.401010 <- Raw vectorize to df only time elapsed\"\n",
      "07:18:25 | INFO | \"Create new df from dict_index_to_id to make merging easier...\"\n",
      "07:18:25 | INFO | \"  Setting col_id as index...\"\n",
      "07:18:28 | INFO | \"  0:00:39.557530 <- Converting vectors to df full time elapsed\"\n",
      "07:18:28 | INFO | \"  0:00:40.025353 <- Inference time for COMMENTS time elapsed\"\n",
      "07:18:28 | INFO | \"Save vectors for comments\"\n",
      "07:18:45 | INFO | \"  0:03:15.938802 <- Total vectorize fxn time elapsed\"\n"
     ]
    }
   ],
   "source": [
    "del model, df_posts, d_ix_to_id\n",
    "gc.collect()\n",
    "\n",
    "mlflow.end_run(status='KILLED')\n",
    "model, df_posts, d_ix_to_id = vectorize_text_to_embeddings(\n",
    "    mlflow_experiment=mlflow_experiment,\n",
    "    \n",
    "    tokenize_function='sklearn_emoji',\n",
    "    tokenize_lowercase=True,\n",
    "    train_min_word_count=4,\n",
    "    train_subreddits_to_exclude=['wixbros', 'katjakrasavicenudes',\n",
    "                                 'deutschetributes', 'germannudes'],\n",
    ")"
   ]
  },
  {
   "cell_type": "code",
   "execution_count": 30,
   "id": "ec1ebea8",
   "metadata": {},
   "outputs": [
    {
     "name": "stderr",
     "output_type": "stream",
     "text": [
      "07:46:02 | INFO | \"Start vectorize function\"\n",
      "07:46:02 | INFO | \"  Local model saving directory: /home/jupyter/subreddit_clustering_i18n/data/models/fse/2021-06-02_0746\"\n",
      "07:46:02 | INFO | \"Loading df_posts...\n",
      "  gs://i18n-subreddit-clustering/posts/2021-05-19\"\n",
      "07:46:07 | INFO | \"  0:00:04.587122 <- df_post time elapsed\"\n",
      "07:46:07 | INFO | \"  (111669, 6) <- df_posts.shape\"\n",
      "07:46:07 | INFO | \"Load comments df...\"\n",
      "07:46:13 | INFO | \"  (757388, 6) <- df_comments shape\"\n",
      "07:46:14 | INFO | \"Keep only comments that match posts IDs in df_posts...\"\n",
      "07:46:14 | INFO | \"  (638052, 6) <- updated df_comments shape\"\n",
      "07:46:14 | INFO | \"MLflow tracking URI: sqlite:////home/jupyter/mlflow/mlruns.db\"\n",
      "07:46:14 | INFO | \"Filtering posts for SIF training...\"\n",
      "07:46:14 | INFO | \"38,296 <- Exclude posts because of: subreddits filter\"\n",
      "07:46:14 | INFO | \"30,537 <- Exclude posts because of: duplicated posts\"\n",
      "07:46:14 | INFO | \"25,328 <- Exclude posts because of: minimum word count\"\n",
      "07:46:14 | INFO | \"43,452 <- df_posts for training\"\n",
      "07:46:14 | INFO | \"Converting df_train to fse format...\"\n",
      "07:46:14 | INFO | \"  0:00:00.101670 <- Converting to fse time elapsed\"\n",
      "07:46:15 | INFO | \"Logging training df to mlflow...\"\n",
      "07:46:15 | INFO | \"Loading model fasttext_usif_de...\n",
      "  with kwargs: {'lang_id': 'de', 'workers': 10, 'length': 11, 'lang_freq': 'de', 'verbose': True}\"\n",
      "07:46:15 | INFO | \"  Getting pretrained model for language: de...\"\n",
      "07:46:15 | INFO | \"  fastText embeddings location:\n",
      "    /home/jupyter/subreddit_clustering_i18n/data/embeddings/fasttext\"\n",
      "07:47:52 | INFO | \"  2,000,000 <- Model vocabulary\"\n",
      "07:47:52 | INFO | \"  True <- True if `fse` is running in parallel..\"\n",
      "07:47:56 | INFO | \"  0:01:41.491803 <- Load FSE model time elapsed\"\n",
      "07:47:56 | INFO | \"Start training fse model...\"\n",
      "07:48:08 | INFO | \"Running inference on all POSTS...\"\n",
      "07:48:08 | INFO | \"  Inference + convert to df...\"\n",
      "07:48:17 | INFO | \"  0:00:08.796167 <- Raw inference+df only time elapsed\"\n",
      "07:48:17 | INFO | \"    (111669, 300) <- Raw vectorized text shape\"\n",
      "07:48:17 | INFO | \"  Creating df from dict_index_to_id...\"\n",
      "07:48:17 | INFO | \"  Setting post_id as index...\"\n",
      "07:48:17 | INFO | \"  Merging df_vectors with df to get new index columns...\"\n",
      "07:48:17 | INFO | \"  0:00:00.429467 <-  Merging df_vect with ID columns time elapsed\"\n",
      "07:48:17 | INFO | \"  0:00:09.666296 <- Converting vectors to df FULL time elapsed\"\n",
      "07:48:17 | INFO | \"Saving inference for comments df\"\n",
      "07:48:21 | INFO | \"  Saving inference complete\"\n",
      "07:48:21 | INFO | \"Get vectors for comments\"\n",
      "07:48:21 | INFO | \"  Inference + convert to df...\"\n",
      "07:49:25 | INFO | \"  0:01:03.155989 <- Raw inference+df only time elapsed\"\n",
      "07:49:25 | INFO | \"    (638052, 300) <- Raw vectorized text shape\"\n",
      "07:49:25 | INFO | \"  Creating df from dict_index_to_id...\"\n",
      "07:49:25 | INFO | \"  Setting comment_id as index...\"\n",
      "07:49:30 | INFO | \"  Merging df_vectors with df to get new index columns...\"\n",
      "07:49:33 | INFO | \"  0:00:02.945821 <-  Merging df_vect with ID columns time elapsed\"\n",
      "07:49:33 | INFO | \"  0:01:11.831257 <- Converting vectors to df FULL time elapsed\"\n",
      "07:49:33 | INFO | \"  0:01:12.405126 <- Inference time for COMMENTS time elapsed\"\n",
      "07:49:33 | INFO | \"Save vectors for comments\"\n",
      "07:49:58 | INFO | \"  0:03:56.083355 <- Total vectorize fxn time elapsed\"\n"
     ]
    }
   ],
   "source": [
    "try:\n",
    "    del model, df_posts, d_ix_to_id\n",
    "except NameError:\n",
    "    pass\n",
    "gc.collect()\n",
    "\n",
    "mlflow.end_run(status='KILLED')\n",
    "model, df_posts, d_ix_to_id = vectorize_text_to_embeddings(\n",
    "    mlflow_experiment=mlflow_experiment,\n",
    "    \n",
    "    tokenize_function='gensim',\n",
    "    tokenize_lowercase=True,\n",
    "    train_min_word_count=4,\n",
    "    train_subreddits_to_exclude=['wixbros', 'katjakrasavicenudes',\n",
    "                                 'deutschetributes', 'germannudes'],\n",
    ")"
   ]
  },
  {
   "cell_type": "code",
   "execution_count": 31,
   "id": "30c293fb",
   "metadata": {},
   "outputs": [
    {
     "name": "stderr",
     "output_type": "stream",
     "text": [
      "07:50:00 | INFO | \"Start vectorize function\"\n",
      "07:50:00 | INFO | \"  Local model saving directory: /home/jupyter/subreddit_clustering_i18n/data/models/fse/2021-06-02_0750\"\n",
      "07:50:00 | INFO | \"Loading df_posts...\n",
      "  gs://i18n-subreddit-clustering/posts/2021-05-19\"\n",
      "07:50:05 | INFO | \"  0:00:04.530810 <- df_post time elapsed\"\n",
      "07:50:05 | INFO | \"  (111669, 6) <- df_posts.shape\"\n",
      "07:50:05 | INFO | \"Load comments df...\"\n",
      "07:50:12 | INFO | \"  (757388, 6) <- df_comments shape\"\n",
      "07:50:12 | INFO | \"Keep only comments that match posts IDs in df_posts...\"\n",
      "07:50:12 | INFO | \"  (638052, 6) <- updated df_comments shape\"\n",
      "07:50:12 | INFO | \"MLflow tracking URI: sqlite:////home/jupyter/mlflow/mlruns.db\"\n",
      "07:50:13 | INFO | \"Filtering posts for SIF training...\"\n",
      "07:50:13 | INFO | \"38,296 <- Exclude posts because of: subreddits filter\"\n",
      "07:50:13 | INFO | \"30,537 <- Exclude posts because of: duplicated posts\"\n",
      "07:50:13 | INFO | \"25,328 <- Exclude posts because of: minimum word count\"\n",
      "07:50:13 | INFO | \"43,452 <- df_posts for training\"\n",
      "07:50:13 | INFO | \"Converting df_train to fse format...\"\n",
      "07:50:13 | INFO | \"  0:00:00.107845 <- Converting to fse time elapsed\"\n",
      "07:50:13 | INFO | \"Logging training df to mlflow...\"\n",
      "07:50:13 | INFO | \"Loading model fasttext_usif_de...\n",
      "  with kwargs: {'lang_id': 'de', 'workers': 10, 'length': 11, 'lang_freq': 'de', 'verbose': True}\"\n",
      "07:50:13 | INFO | \"  Getting pretrained model for language: de...\"\n",
      "07:50:13 | INFO | \"  fastText embeddings location:\n",
      "    /home/jupyter/subreddit_clustering_i18n/data/embeddings/fasttext\"\n",
      "07:51:46 | INFO | \"  2,000,000 <- Model vocabulary\"\n",
      "07:51:46 | INFO | \"  True <- True if `fse` is running in parallel..\"\n",
      "07:51:48 | INFO | \"  0:01:35.741588 <- Load FSE model time elapsed\"\n",
      "07:51:48 | INFO | \"Start training fse model...\"\n",
      "07:51:58 | INFO | \"Running inference on all POSTS...\"\n",
      "07:51:58 | INFO | \"  Inference + convert to df...\"\n",
      "07:52:05 | INFO | \"  0:00:07.024259 <- Raw inference+df only time elapsed\"\n",
      "07:52:05 | INFO | \"    (111669, 300) <- Raw vectorized text shape\"\n",
      "07:52:05 | INFO | \"  Creating df from dict_index_to_id...\"\n",
      "07:52:06 | INFO | \"  Setting post_id as index...\"\n",
      "07:52:06 | INFO | \"  Merging df_vectors with df to get new index columns...\"\n",
      "07:52:06 | INFO | \"  0:00:00.356257 <-  Merging df_vect with ID columns time elapsed\"\n",
      "07:52:06 | INFO | \"  0:00:07.803356 <- Converting vectors to df FULL time elapsed\"\n",
      "07:52:06 | INFO | \"Saving inference for comments df\"\n",
      "07:52:10 | INFO | \"  Saving inference complete\"\n",
      "07:52:10 | INFO | \"Get vectors for comments\"\n",
      "07:52:10 | INFO | \"  Inference + convert to df...\"\n",
      "07:53:00 | INFO | \"  0:00:49.458961 <- Raw inference+df only time elapsed\"\n",
      "07:53:00 | INFO | \"    (638052, 300) <- Raw vectorized text shape\"\n",
      "07:53:00 | INFO | \"  Creating df from dict_index_to_id...\"\n",
      "07:53:00 | INFO | \"  Setting comment_id as index...\"\n",
      "07:53:04 | INFO | \"  Merging df_vectors with df to get new index columns...\"\n",
      "07:53:06 | INFO | \"  0:00:02.515002 <-  Merging df_vect with ID columns time elapsed\"\n",
      "07:53:06 | INFO | \"  0:00:56.051891 <- Converting vectors to df FULL time elapsed\"\n",
      "07:53:06 | INFO | \"  0:00:56.534303 <- Inference time for COMMENTS time elapsed\"\n",
      "07:53:06 | INFO | \"Save vectors for comments\"\n",
      "07:53:23 | INFO | \"  0:03:22.860866 <- Total vectorize fxn time elapsed\"\n"
     ]
    }
   ],
   "source": [
    "try:\n",
    "    del model, df_posts, d_ix_to_id\n",
    "except NameError:\n",
    "    pass\n",
    "gc.collect()\n",
    "\n",
    "mlflow.end_run(status='KILLED')\n",
    "model, df_posts, d_ix_to_id = vectorize_text_to_embeddings(\n",
    "    mlflow_experiment=mlflow_experiment,\n",
    "    \n",
    "    tokenize_function='gensim',\n",
    "    tokenize_lowercase=False,\n",
    "    train_min_word_count=4,\n",
    "    train_subreddits_to_exclude=['wixbros', 'katjakrasavicenudes',\n",
    "                                 'deutschetributes', 'germannudes'],\n",
    ")"
   ]
  },
  {
   "cell_type": "code",
   "execution_count": null,
   "id": "5a06caf4",
   "metadata": {},
   "outputs": [],
   "source": []
  },
  {
   "cell_type": "markdown",
   "id": "4239c1dc",
   "metadata": {},
   "source": [
    "# Recover artifact from mlflow"
   ]
  },
  {
   "cell_type": "code",
   "execution_count": 24,
   "id": "8a80e7d9",
   "metadata": {},
   "outputs": [],
   "source": [
    "run_id = '885f983de7e04022a8327cb16afd2c4f'\n",
    "run = mlflow.get_run(run_id)"
   ]
  },
  {
   "cell_type": "code",
   "execution_count": 25,
   "id": "29c21057",
   "metadata": {},
   "outputs": [
    {
     "data": {
      "text/plain": [
       "'gs://i18n-subreddit-clustering/mlflow/mlruns/2/885f983de7e04022a8327cb16afd2c4f/artifacts/d_ix_to_id/d_ix_to_id.csv'"
      ]
     },
     "execution_count": 25,
     "metadata": {},
     "output_type": "execute_result"
    }
   ],
   "source": [
    "f\"{run.info.artifact_uri}/d_ix_to_id/d_ix_to_id.csv\""
   ]
  },
  {
   "cell_type": "code",
   "execution_count": 26,
   "id": "b7d7d1fd",
   "metadata": {},
   "outputs": [
    {
     "data": {
      "text/html": [
       "<div>\n",
       "<style scoped>\n",
       "    .dataframe tbody tr th:only-of-type {\n",
       "        vertical-align: middle;\n",
       "    }\n",
       "\n",
       "    .dataframe tbody tr th {\n",
       "        vertical-align: top;\n",
       "    }\n",
       "\n",
       "    .dataframe thead th {\n",
       "        text-align: right;\n",
       "    }\n",
       "</style>\n",
       "<table border=\"1\" class=\"dataframe\">\n",
       "  <thead>\n",
       "    <tr style=\"text-align: right;\">\n",
       "      <th></th>\n",
       "      <th>training_index</th>\n",
       "      <th>post_id</th>\n",
       "    </tr>\n",
       "  </thead>\n",
       "  <tbody>\n",
       "    <tr>\n",
       "      <th>0</th>\n",
       "      <td>0</td>\n",
       "      <td>t3_mkyj2k</td>\n",
       "    </tr>\n",
       "    <tr>\n",
       "      <th>1</th>\n",
       "      <td>1</td>\n",
       "      <td>t3_mkynzi</td>\n",
       "    </tr>\n",
       "    <tr>\n",
       "      <th>2</th>\n",
       "      <td>2</td>\n",
       "      <td>t3_mkyolv</td>\n",
       "    </tr>\n",
       "    <tr>\n",
       "      <th>3</th>\n",
       "      <td>3</td>\n",
       "      <td>t3_mkyp17</td>\n",
       "    </tr>\n",
       "    <tr>\n",
       "      <th>4</th>\n",
       "      <td>4</td>\n",
       "      <td>t3_mkyqrz</td>\n",
       "    </tr>\n",
       "  </tbody>\n",
       "</table>\n",
       "</div>"
      ],
      "text/plain": [
       "   training_index    post_id\n",
       "0               0  t3_mkyj2k\n",
       "1               1  t3_mkynzi\n",
       "2               2  t3_mkyolv\n",
       "3               3  t3_mkyp17\n",
       "4               4  t3_mkyqrz"
      ]
     },
     "execution_count": 26,
     "metadata": {},
     "output_type": "execute_result"
    }
   ],
   "source": [
    "df_idx = pd.read_csv(f\"{run.info.artifact_uri}/d_ix_to_id/d_ix_to_id.csv\")\n",
    "df_idx.head()"
   ]
  },
  {
   "cell_type": "code",
   "execution_count": null,
   "id": "c02d8502",
   "metadata": {},
   "outputs": [],
   "source": []
  }
 ],
 "metadata": {
  "environment": {
   "name": "common-cpu.m65",
   "type": "gcloud",
   "uri": "gcr.io/deeplearning-platform-release/base-cpu:m65"
  },
  "kernelspec": {
   "display_name": "Python 3",
   "language": "python",
   "name": "python3"
  },
  "language_info": {
   "codemirror_mode": {
    "name": "ipython",
    "version": 3
   },
   "file_extension": ".py",
   "mimetype": "text/x-python",
   "name": "python",
   "nbconvert_exporter": "python",
   "pygments_lexer": "ipython3",
   "version": "3.7.10"
  }
 },
 "nbformat": 4,
 "nbformat_minor": 5
}
