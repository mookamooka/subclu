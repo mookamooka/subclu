{
 "cells": [
  {
   "cell_type": "markdown",
   "id": "771a354b",
   "metadata": {},
   "source": [
    "# Purpose\n",
    "\n",
    "\n",
    "Test a few more classification metrics to include to select the best models based on these."
   ]
  },
  {
   "cell_type": "markdown",
   "id": "6878cc90",
   "metadata": {},
   "source": [
    "# Notebook setup"
   ]
  },
  {
   "cell_type": "code",
   "execution_count": 1,
   "id": "4d552c34",
   "metadata": {},
   "outputs": [],
   "source": [
    "%load_ext autoreload\n",
    "%autoreload 2"
   ]
  },
  {
   "cell_type": "code",
   "execution_count": 11,
   "id": "80589a76",
   "metadata": {},
   "outputs": [
    {
     "name": "stdout",
     "output_type": "stream",
     "text": [
      "python\t\tv 3.7.10\n",
      "===\n",
      "mlflow\t\tv: 1.16.0\n",
      "numpy\t\tv: 1.19.5\n",
      "pandas\t\tv: 1.2.4\n",
      "plotly\t\tv: 4.14.3\n",
      "seaborn\t\tv: 0.11.1\n",
      "subclu\t\tv: 0.4.1\n"
     ]
    }
   ],
   "source": [
    "from datetime import datetime\n",
    "import gc\n",
    "import os\n",
    "import logging\n",
    "from pathlib import Path\n",
    "from pprint import pprint\n",
    "\n",
    "import mlflow\n",
    "\n",
    "import numpy as np\n",
    "import pandas as pd\n",
    "import plotly\n",
    "import plotly.express as px\n",
    "import seaborn as sns\n",
    "\n",
    "\n",
    "import subclu\n",
    "\n",
    "from subclu.utils import set_working_directory\n",
    "from subclu.utils.eda import (\n",
    "    setup_logging, counts_describe, value_counts_and_pcts,\n",
    "    notebook_display_config, print_lib_versions,\n",
    "    style_df_numeric\n",
    ")\n",
    "from subclu.utils.mlflow_logger import MlflowLogger, log_clf_report_and_conf_matrix\n",
    "\n",
    "from subclu.utils.data_irl_style import (\n",
    "    get_colormap, theme_dirl\n",
    ")\n",
    "\n",
    "\n",
    "print_lib_versions([mlflow, np, pd, plotly, sns, subclu])"
   ]
  },
  {
   "cell_type": "code",
   "execution_count": 12,
   "id": "413b1824",
   "metadata": {},
   "outputs": [],
   "source": [
    "# plotting\n",
    "import matplotlib.pyplot as plt\n",
    "import matplotlib.ticker as mtick\n",
    "import matplotlib.dates as mdates\n",
    "plt.style.use('default')\n",
    "\n",
    "setup_logging()\n",
    "notebook_display_config()"
   ]
  },
  {
   "cell_type": "markdown",
   "id": "6581ebc4",
   "metadata": {},
   "source": [
    "# Test additional classification metrics"
   ]
  },
  {
   "cell_type": "code",
   "execution_count": 13,
   "id": "3453181c",
   "metadata": {},
   "outputs": [],
   "source": [
    "import random\n",
    "\n",
    "from sklearn.metrics import (\n",
    "    classification_report,\n",
    "    accuracy_score, precision_recall_fscore_support,\n",
    "    confusion_matrix\n",
    ")\n",
    "\n",
    "from subclu.utils import ml_metrics"
   ]
  },
  {
   "cell_type": "code",
   "execution_count": 14,
   "id": "15b1702e",
   "metadata": {},
   "outputs": [],
   "source": [
    "n_array_test = 99\n",
    "y_true = np.random.choice(['sports', 'politics', 'gaming', 'anime', 'music'], size=n_array_test, \n",
    "                          p=[.2, .3, .4, .05, .05])\n",
    "y_pred = [random.choice(['sports', 'politics', 'gaming', ] + [v] * 2) for v in y_true]"
   ]
  },
  {
   "cell_type": "code",
   "execution_count": 24,
   "id": "fccd48c8",
   "metadata": {},
   "outputs": [],
   "source": [
    "y_true_binary = np.random.choice(\n",
    "    ['sports', 'gaming'], size=n_array_test, \n",
    "    p=[.8, .2]\n",
    ")\n",
    "y_pred_binary = [random.choice(['sports'] * 2 + [v] * 1) for v in y_true_binary]"
   ]
  },
  {
   "cell_type": "code",
   "execution_count": 25,
   "id": "b2c6e954",
   "metadata": {},
   "outputs": [],
   "source": [
    "y_true_manual = [\n",
    "    'politics', 'politics', 'anime', 'politics', 'gaming', 'sports',\n",
    "    'gaming', 'politics', 'politics', 'gaming', 'gaming', 'gaming',\n",
    "    'politics', 'politics', 'sports', 'gaming', 'sports', 'politics',\n",
    "    'sports', 'sports', 'politics', 'gaming', 'gaming', 'gaming',\n",
    "    'politics', 'gaming', 'music', 'sports', 'sports', 'gaming',\n",
    "    'politics', 'gaming', 'politics', 'politics', 'politics',\n",
    "    'politics', 'music', 'politics', 'politics', 'sports', 'sports',\n",
    "    'gaming', 'gaming', 'politics', 'sports', 'gaming', 'politics',\n",
    "    'sports', 'politics', 'music', 'politics', 'politics', 'gaming',\n",
    "    'politics', 'gaming', 'gaming', 'gaming', 'gaming', 'gaming',\n",
    "    'politics', 'sports', 'gaming', 'politics', 'anime', 'gaming',\n",
    "    'politics', 'sports', 'politics', 'sports', 'gaming', 'gaming',\n",
    "    'gaming', 'music', 'gaming', 'gaming', 'gaming', 'politics',\n",
    "    'politics', 'sports', 'gaming', 'gaming', 'politics', 'gaming',\n",
    "    'gaming', 'politics', 'gaming', 'music', 'sports', 'politics',\n",
    "    'sports', 'gaming', 'sports', 'sports', 'gaming', 'politics',\n",
    "    'gaming', 'gaming', 'music', 'politics'\n",
    "]\n",
    "\n",
    "y_pred_manual = [\n",
    "    'politics', 'politics', 'politics', 'politics', 'gaming', 'sports',\n",
    "    'gaming', 'politics', 'politics', 'gaming', 'politics', 'politics',\n",
    "    'politics', 'politics', 'gaming', 'gaming', 'politics', 'politics',\n",
    "    'sports', 'sports', 'politics', 'politics', 'gaming', 'gaming',\n",
    "    'politics', 'gaming', 'sports', 'sports', 'sports', 'politics',\n",
    "    'gaming', 'gaming', 'gaming', 'sports', 'sports', 'politics',\n",
    "    'sports', 'politics', 'politics', 'politics', 'sports', 'gaming',\n",
    "    'gaming', 'gaming', 'sports', 'gaming', 'politics', 'sports',\n",
    "    'politics', 'gaming', 'gaming', 'sports', 'politics', 'politics',\n",
    "    'politics', 'politics', 'gaming', 'gaming', 'gaming', 'politics',\n",
    "    'sports', 'gaming', 'politics', 'sports', 'sports', 'sports',\n",
    "    'sports', 'politics', 'sports', 'gaming', 'gaming', 'gaming',\n",
    "    'politics', 'politics', 'gaming', 'sports', 'sports', 'gaming',\n",
    "    'sports', 'gaming', 'gaming', 'sports', 'gaming', 'sports',\n",
    "    'sports', 'gaming', 'gaming', 'sports', 'sports', 'sports',\n",
    "    'gaming', 'sports', 'gaming', 'politics', 'gaming', 'gaming',\n",
    "    'gaming', 'music', 'sports'\n",
    "]"
   ]
  },
  {
   "cell_type": "markdown",
   "id": "cc9c50d7",
   "metadata": {},
   "source": [
    "## Log classification report AND confusion matrix in one call"
   ]
  },
  {
   "cell_type": "code",
   "execution_count": 31,
   "id": "5d60f0d9",
   "metadata": {},
   "outputs": [
    {
     "name": "stdout",
     "output_type": "stream",
     "text": [
      "              precision    recall  f1-score   support\n",
      "\n",
      "       anime      0.000     0.000     0.000         2\n",
      "      gaming      0.722     0.684     0.703        38\n",
      "       music      1.000     0.167     0.286         6\n",
      "    politics      0.594     0.559     0.576        34\n",
      "      sports      0.500     0.789     0.612        19\n",
      "\n",
      "    accuracy                          0.616        99\n",
      "   macro avg      0.563     0.440     0.435        99\n",
      "weighted avg      0.638     0.616     0.602        99\n",
      "\n"
     ]
    }
   ],
   "source": [
    "print(classification_report(y_true_manual, y_pred_manual, digits=3, zero_division=0))"
   ]
  },
  {
   "cell_type": "code",
   "execution_count": 32,
   "id": "026460bf",
   "metadata": {},
   "outputs": [
    {
     "name": "stderr",
     "output_type": "stream",
     "text": [
      "01:48:46 | INFO | \"df metrics:\n",
      "      class  precision    recall  f1_score  support data_fold\n",
      "0     anime   0.000000  0.000000  0.000000        2      k100\n",
      "1    gaming   0.722222  0.684211  0.702703       38      k100\n",
      "2     music   1.000000  0.166667  0.285714        6      k100\n",
      "3  politics   0.593750  0.558824  0.575758       34      k100\n",
      "4    sports   0.500000  0.789474  0.612245       19      k100\"\n",
      "01:48:46 | INFO | \"df metrics:\n",
      "          class  precision    recall  f1_score  support data_fold\n",
      "0     macro_avg   0.563194  0.439835  0.435284       99      k100\n",
      "1  weighted_avg   0.637696  0.616162  0.602277       99      k100\"\n",
      "01:48:46 | INFO | \"confusion matrix k100:\n",
      "          anime  gaming  music  politics  sports\n",
      "anime         0       0      0         1       1\n",
      "gaming        0      26      0         9       3\n",
      "music         0       2      1         1       2\n",
      "politics      0       6      0        19       9\n",
      "sports        0       2      0         2      15\"\n"
     ]
    }
   ],
   "source": [
    "# with sort_labels_by_support=False, we should get the same class order as classification report\n",
    "ml_metrics.log_classification_report_and_confusion_matrix(\n",
    "    y_true=y_true_manual,\n",
    "    y_pred=y_pred_manual,\n",
    "    data_fold_name='k100',\n",
    "    beta=1,\n",
    "    class_labels=None,\n",
    "    sort_labels_by_support=False,\n",
    "    save_path='mlruns/logs/test_classification_report3',\n",
    "    log_metrics_to_console=False,\n",
    "    log_df_to_console=True,\n",
    "    log_metrics_to_mlflow=False,\n",
    "    log_artifacts_to_mlflow=False,\n",
    "    log_support_avg=False,\n",
    "    log_support_per_class=False,\n",
    ")"
   ]
  },
  {
   "cell_type": "code",
   "execution_count": 21,
   "id": "1512c46d",
   "metadata": {},
   "outputs": [
    {
     "name": "stderr",
     "output_type": "stream",
     "text": [
      "18:00:47 | INFO | \"df metrics:\n",
      "      class  precision    recall  f1_score  support data_fold\n",
      "0    gaming   0.722222  0.684211  0.702703       38      k100\n",
      "1  politics   0.593750  0.558824  0.575758       34      k100\n",
      "2    sports   0.500000  0.789474  0.612245       19      k100\n",
      "3     music   1.000000  0.166667  0.285714        6      k100\n",
      "4     anime   0.000000  0.000000  0.000000        2      k100\"\n",
      "18:00:47 | INFO | \"df metrics:\n",
      "          class  precision    recall  f1_score  support data_fold\n",
      "0     macro_avg   0.563194  0.439835  0.435284       99      k100\n",
      "1  weighted_avg   0.637696  0.616162  0.602277       99      k100\"\n",
      "18:00:47 | INFO | \"confusion matrix k100:\n",
      "          gaming  politics  sports  music  anime\n",
      "gaming        26         9       3      0      0\n",
      "politics       6        19       9      0      0\n",
      "sports         2         2      15      0      0\n",
      "music          2         1       2      1      0\n",
      "anime          0         1       1      0      0\"\n"
     ]
    }
   ],
   "source": [
    "# with sort_labels_by_support=True, we'll see the classes with the most support (true labels) at the top \n",
    "ml_metrics.log_classification_report_and_confusion_matrix(\n",
    "    y_true=y_true_manual,\n",
    "    y_pred=y_pred_manual,\n",
    "    data_fold_name='k100',\n",
    "    beta=1,\n",
    "    class_labels=None,\n",
    "    sort_labels_by_support=True,\n",
    "    save_path='mlruns/logs/test_classification_report3',\n",
    "    log_metrics_to_console=False,\n",
    "    log_df_to_console=True,\n",
    "    log_metrics_to_mlflow=False,\n",
    "    log_artifacts_to_mlflow=False,\n",
    "    log_support_avg=False,\n",
    "    log_support_per_class=False,\n",
    ")"
   ]
  },
  {
   "cell_type": "markdown",
   "id": "5c16d9a3",
   "metadata": {},
   "source": [
    "### Check Binary case"
   ]
  },
  {
   "cell_type": "code",
   "execution_count": 27,
   "id": "adc59316",
   "metadata": {},
   "outputs": [
    {
     "name": "stdout",
     "output_type": "stream",
     "text": [
      "              precision    recall  f1-score   support\n",
      "\n",
      "      gaming      1.000     0.227     0.370        22\n",
      "      sports      0.819     1.000     0.901        77\n",
      "\n",
      "    accuracy                          0.828        99\n",
      "   macro avg      0.910     0.614     0.635        99\n",
      "weighted avg      0.859     0.828     0.783        99\n",
      "\n"
     ]
    }
   ],
   "source": [
    "print(classification_report(y_true_binary, y_pred_binary, digits=3))"
   ]
  },
  {
   "cell_type": "code",
   "execution_count": 30,
   "id": "61001b37",
   "metadata": {},
   "outputs": [
    {
     "name": "stderr",
     "output_type": "stream",
     "text": [
      "01:46:47 | INFO | \"precision-sports-kbinary: 0.8191489361702128\"\n",
      "01:46:47 | INFO | \"precision-gaming-kbinary: 1.0\"\n",
      "01:46:47 | INFO | \"recall-sports-kbinary: 1.0\"\n",
      "01:46:47 | INFO | \"recall-gaming-kbinary: 0.22727272727272727\"\n",
      "01:46:47 | INFO | \"f1_score-sports-kbinary: 0.9005847953216375\"\n",
      "01:46:47 | INFO | \"f1_score-gaming-kbinary: 0.37037037037037035\"\n",
      "01:46:47 | INFO | \"df metrics:\n",
      "    class  precision    recall  f1_score  support data_fold\n",
      "0  sports   0.819149  1.000000  0.900585       77   kbinary\n",
      "1  gaming   1.000000  0.227273  0.370370       22   kbinary\"\n",
      "01:46:48 | INFO | \"precision-macro_avg-kbinary: 0.9095744680851063\"\n",
      "01:46:48 | INFO | \"precision-weighted_avg-kbinary: 0.8593380614657211\"\n",
      "01:46:48 | INFO | \"recall-macro_avg-kbinary: 0.6136363636363636\"\n",
      "01:46:48 | INFO | \"recall-weighted_avg-kbinary: 0.8282828282828283\"\n",
      "01:46:48 | INFO | \"f1_score-macro_avg-kbinary: 0.635477582846004\"\n",
      "01:46:48 | INFO | \"f1_score-weighted_avg-kbinary: 0.7827593675546893\"\n",
      "01:46:48 | INFO | \"df metrics:\n",
      "          class  precision    recall  f1_score  support data_fold\n",
      "0     macro_avg   0.909574  0.613636  0.635478       99   kbinary\n",
      "1  weighted_avg   0.859338  0.828283  0.782759       99   kbinary\"\n",
      "01:46:48 | INFO | \"confusion matrix kbinary:\n",
      "        sports  gaming\n",
      "sports      77       0\n",
      "gaming      17       5\"\n",
      "01:46:48 | INFO | \"kbinary-ppv: 1.0\"\n",
      "01:46:48 | INFO | \"kbinary-npv: 0.8191489361702128\"\n",
      "01:46:48 | INFO | \"kbinary-tn: 77\"\n",
      "01:46:48 | INFO | \"kbinary-fp: 0\"\n",
      "01:46:48 | INFO | \"kbinary-fn: 17\"\n",
      "01:46:48 | INFO | \"kbinary-tp: 5\"\n"
     ]
    }
   ],
   "source": [
    "ml_metrics.log_classification_report_and_confusion_matrix(\n",
    "    y_true=y_true_binary,\n",
    "    y_pred=y_pred_binary,\n",
    "    data_fold_name='kbinary',\n",
    "    beta=1,\n",
    "    class_labels=None,\n",
    "    sort_labels_by_support=True,\n",
    "    save_path='mlruns/logs/test_classification_report3',\n",
    "    log_metrics_to_console=True,\n",
    "    log_df_to_console=True,\n",
    "    log_metrics_to_mlflow=False,\n",
    "    log_artifacts_to_mlflow=False,\n",
    "    log_support_avg=False,\n",
    "    log_support_per_class=False,\n",
    ")"
   ]
  },
  {
   "cell_type": "markdown",
   "id": "1daac219",
   "metadata": {},
   "source": [
    "## Confusion matrix"
   ]
  },
  {
   "cell_type": "code",
   "execution_count": 18,
   "id": "ba0f30d2",
   "metadata": {},
   "outputs": [
    {
     "name": "stdout",
     "output_type": "stream",
     "text": [
      "[[ 0  0  0  1  1]\n",
      " [ 0 26  0  9  3]\n",
      " [ 0  2  1  1  2]\n",
      " [ 0  6  0 19  9]\n",
      " [ 0  2  0  2 15]]\n"
     ]
    }
   ],
   "source": [
    "print(confusion_matrix(y_true_manual, y_pred_manual,))"
   ]
  },
  {
   "cell_type": "code",
   "execution_count": 33,
   "id": "b09dddea",
   "metadata": {},
   "outputs": [
    {
     "data": {
      "text/html": [
       "<div>\n",
       "<style scoped>\n",
       "    .dataframe tbody tr th:only-of-type {\n",
       "        vertical-align: middle;\n",
       "    }\n",
       "\n",
       "    .dataframe tbody tr th {\n",
       "        vertical-align: top;\n",
       "    }\n",
       "\n",
       "    .dataframe thead th {\n",
       "        text-align: right;\n",
       "    }\n",
       "</style>\n",
       "<table border=\"1\" class=\"dataframe\">\n",
       "  <thead>\n",
       "    <tr style=\"text-align: right;\">\n",
       "      <th></th>\n",
       "      <th>anime</th>\n",
       "      <th>gaming</th>\n",
       "      <th>music</th>\n",
       "      <th>politics</th>\n",
       "      <th>sports</th>\n",
       "    </tr>\n",
       "  </thead>\n",
       "  <tbody>\n",
       "    <tr>\n",
       "      <th>anime</th>\n",
       "      <td>0</td>\n",
       "      <td>0</td>\n",
       "      <td>0</td>\n",
       "      <td>1</td>\n",
       "      <td>1</td>\n",
       "    </tr>\n",
       "    <tr>\n",
       "      <th>gaming</th>\n",
       "      <td>0</td>\n",
       "      <td>26</td>\n",
       "      <td>0</td>\n",
       "      <td>9</td>\n",
       "      <td>3</td>\n",
       "    </tr>\n",
       "    <tr>\n",
       "      <th>music</th>\n",
       "      <td>0</td>\n",
       "      <td>2</td>\n",
       "      <td>1</td>\n",
       "      <td>1</td>\n",
       "      <td>2</td>\n",
       "    </tr>\n",
       "    <tr>\n",
       "      <th>politics</th>\n",
       "      <td>0</td>\n",
       "      <td>6</td>\n",
       "      <td>0</td>\n",
       "      <td>19</td>\n",
       "      <td>9</td>\n",
       "    </tr>\n",
       "    <tr>\n",
       "      <th>sports</th>\n",
       "      <td>0</td>\n",
       "      <td>2</td>\n",
       "      <td>0</td>\n",
       "      <td>2</td>\n",
       "      <td>15</td>\n",
       "    </tr>\n",
       "  </tbody>\n",
       "</table>\n",
       "</div>"
      ],
      "text/plain": [
       "          anime  gaming  music  politics  sports\n",
       "anime         0       0      0         1       1\n",
       "gaming        0      26      0         9       3\n",
       "music         0       2      1         1       2\n",
       "politics      0       6      0        19       9\n",
       "sports        0       2      0         2      15"
      ]
     },
     "execution_count": 33,
     "metadata": {},
     "output_type": "execute_result"
    }
   ],
   "source": [
    "ml_metrics.log_confusion_matrix(\n",
    "    y_true=y_true_manual,\n",
    "    y_pred=y_pred_manual,\n",
    "    data_fold_name='k100',\n",
    "    class_labels=None,\n",
    "    save_path='mlruns/logs/test_classification_report2',\n",
    "    log_df_to_console=False,\n",
    "    log_artifacts_to_mlflow=False,\n",
    "    sort_labels_by_support=False,\n",
    ")"
   ]
  },
  {
   "cell_type": "code",
   "execution_count": 34,
   "id": "b579cacd",
   "metadata": {},
   "outputs": [
    {
     "data": {
      "text/html": [
       "<div>\n",
       "<style scoped>\n",
       "    .dataframe tbody tr th:only-of-type {\n",
       "        vertical-align: middle;\n",
       "    }\n",
       "\n",
       "    .dataframe tbody tr th {\n",
       "        vertical-align: top;\n",
       "    }\n",
       "\n",
       "    .dataframe thead th {\n",
       "        text-align: right;\n",
       "    }\n",
       "</style>\n",
       "<table border=\"1\" class=\"dataframe\">\n",
       "  <thead>\n",
       "    <tr style=\"text-align: right;\">\n",
       "      <th></th>\n",
       "      <th>gaming</th>\n",
       "      <th>politics</th>\n",
       "      <th>sports</th>\n",
       "      <th>music</th>\n",
       "      <th>anime</th>\n",
       "    </tr>\n",
       "  </thead>\n",
       "  <tbody>\n",
       "    <tr>\n",
       "      <th>gaming</th>\n",
       "      <td>26</td>\n",
       "      <td>9</td>\n",
       "      <td>3</td>\n",
       "      <td>0</td>\n",
       "      <td>0</td>\n",
       "    </tr>\n",
       "    <tr>\n",
       "      <th>politics</th>\n",
       "      <td>6</td>\n",
       "      <td>19</td>\n",
       "      <td>9</td>\n",
       "      <td>0</td>\n",
       "      <td>0</td>\n",
       "    </tr>\n",
       "    <tr>\n",
       "      <th>sports</th>\n",
       "      <td>2</td>\n",
       "      <td>2</td>\n",
       "      <td>15</td>\n",
       "      <td>0</td>\n",
       "      <td>0</td>\n",
       "    </tr>\n",
       "    <tr>\n",
       "      <th>music</th>\n",
       "      <td>2</td>\n",
       "      <td>1</td>\n",
       "      <td>2</td>\n",
       "      <td>1</td>\n",
       "      <td>0</td>\n",
       "    </tr>\n",
       "    <tr>\n",
       "      <th>anime</th>\n",
       "      <td>0</td>\n",
       "      <td>1</td>\n",
       "      <td>1</td>\n",
       "      <td>0</td>\n",
       "      <td>0</td>\n",
       "    </tr>\n",
       "  </tbody>\n",
       "</table>\n",
       "</div>"
      ],
      "text/plain": [
       "          gaming  politics  sports  music  anime\n",
       "gaming        26         9       3      0      0\n",
       "politics       6        19       9      0      0\n",
       "sports         2         2      15      0      0\n",
       "music          2         1       2      1      0\n",
       "anime          0         1       1      0      0"
      ]
     },
     "execution_count": 34,
     "metadata": {},
     "output_type": "execute_result"
    }
   ],
   "source": [
    "ml_metrics.log_confusion_matrix(\n",
    "    y_true=y_true_manual,\n",
    "    y_pred=y_pred_manual,\n",
    "    data_fold_name='k100',\n",
    "    class_labels=None,\n",
    "    save_path='mlruns/logs/test_classification_report2',\n",
    "    log_df_to_console=False,\n",
    "    log_artifacts_to_mlflow=False,\n",
    "    sort_labels_by_support=True,\n",
    ")"
   ]
  },
  {
   "cell_type": "code",
   "execution_count": 20,
   "id": "d8154d69",
   "metadata": {},
   "outputs": [
    {
     "data": {
      "text/html": [
       "<div>\n",
       "<style scoped>\n",
       "    .dataframe tbody tr th:only-of-type {\n",
       "        vertical-align: middle;\n",
       "    }\n",
       "\n",
       "    .dataframe tbody tr th {\n",
       "        vertical-align: top;\n",
       "    }\n",
       "\n",
       "    .dataframe thead th {\n",
       "        text-align: right;\n",
       "    }\n",
       "</style>\n",
       "<table border=\"1\" class=\"dataframe\">\n",
       "  <thead>\n",
       "    <tr style=\"text-align: right;\">\n",
       "      <th></th>\n",
       "      <th>sports</th>\n",
       "      <th>politics</th>\n",
       "      <th>gaming</th>\n",
       "      <th>anime</th>\n",
       "      <th>music</th>\n",
       "    </tr>\n",
       "  </thead>\n",
       "  <tbody>\n",
       "    <tr>\n",
       "      <th>sports</th>\n",
       "      <td>15</td>\n",
       "      <td>2</td>\n",
       "      <td>2</td>\n",
       "      <td>0</td>\n",
       "      <td>0</td>\n",
       "    </tr>\n",
       "    <tr>\n",
       "      <th>politics</th>\n",
       "      <td>9</td>\n",
       "      <td>19</td>\n",
       "      <td>6</td>\n",
       "      <td>0</td>\n",
       "      <td>0</td>\n",
       "    </tr>\n",
       "    <tr>\n",
       "      <th>gaming</th>\n",
       "      <td>3</td>\n",
       "      <td>9</td>\n",
       "      <td>26</td>\n",
       "      <td>0</td>\n",
       "      <td>0</td>\n",
       "    </tr>\n",
       "    <tr>\n",
       "      <th>anime</th>\n",
       "      <td>1</td>\n",
       "      <td>1</td>\n",
       "      <td>0</td>\n",
       "      <td>0</td>\n",
       "      <td>0</td>\n",
       "    </tr>\n",
       "    <tr>\n",
       "      <th>music</th>\n",
       "      <td>2</td>\n",
       "      <td>1</td>\n",
       "      <td>2</td>\n",
       "      <td>0</td>\n",
       "      <td>1</td>\n",
       "    </tr>\n",
       "  </tbody>\n",
       "</table>\n",
       "</div>"
      ],
      "text/plain": [
       "          sports  politics  gaming  anime  music\n",
       "sports        15         2       2      0      0\n",
       "politics       9        19       6      0      0\n",
       "gaming         3         9      26      0      0\n",
       "anime          1         1       0      0      0\n",
       "music          2         1       2      0      1"
      ]
     },
     "execution_count": 20,
     "metadata": {},
     "output_type": "execute_result"
    }
   ],
   "source": [
    "l_class_labels = ['sports', 'politics', 'gaming', 'anime', 'music']\n",
    "ml_metrics.log_confusion_matrix(\n",
    "    y_true=y_true_manual,\n",
    "    y_pred=y_pred_manual,\n",
    "    data_fold_name='k100',\n",
    "    class_labels=l_class_labels,\n",
    "    save_path='mlruns/logs/test_classification_report2',\n",
    "    log_df_to_console=False,\n",
    "    log_artifacts_to_mlflow=False,\n",
    "    sort_labels_by_support=True,\n",
    ")"
   ]
  },
  {
   "cell_type": "code",
   "execution_count": 119,
   "id": "5d131eec",
   "metadata": {},
   "outputs": [
    {
     "data": {
      "text/html": [
       "<div>\n",
       "<style scoped>\n",
       "    .dataframe tbody tr th:only-of-type {\n",
       "        vertical-align: middle;\n",
       "    }\n",
       "\n",
       "    .dataframe tbody tr th {\n",
       "        vertical-align: top;\n",
       "    }\n",
       "\n",
       "    .dataframe thead th {\n",
       "        text-align: right;\n",
       "    }\n",
       "</style>\n",
       "<table border=\"1\" class=\"dataframe\">\n",
       "  <thead>\n",
       "    <tr style=\"text-align: right;\">\n",
       "      <th></th>\n",
       "      <th>gaming</th>\n",
       "      <th>politics</th>\n",
       "      <th>sports</th>\n",
       "      <th>music</th>\n",
       "      <th>anime</th>\n",
       "    </tr>\n",
       "  </thead>\n",
       "  <tbody>\n",
       "    <tr>\n",
       "      <th>gaming</th>\n",
       "      <td>0</td>\n",
       "      <td>0</td>\n",
       "      <td>0</td>\n",
       "      <td>23</td>\n",
       "      <td>15</td>\n",
       "    </tr>\n",
       "    <tr>\n",
       "      <th>politics</th>\n",
       "      <td>0</td>\n",
       "      <td>0</td>\n",
       "      <td>0</td>\n",
       "      <td>14</td>\n",
       "      <td>20</td>\n",
       "    </tr>\n",
       "    <tr>\n",
       "      <th>sports</th>\n",
       "      <td>0</td>\n",
       "      <td>0</td>\n",
       "      <td>0</td>\n",
       "      <td>8</td>\n",
       "      <td>11</td>\n",
       "    </tr>\n",
       "    <tr>\n",
       "      <th>music</th>\n",
       "      <td>0</td>\n",
       "      <td>0</td>\n",
       "      <td>0</td>\n",
       "      <td>4</td>\n",
       "      <td>2</td>\n",
       "    </tr>\n",
       "    <tr>\n",
       "      <th>anime</th>\n",
       "      <td>0</td>\n",
       "      <td>0</td>\n",
       "      <td>0</td>\n",
       "      <td>1</td>\n",
       "      <td>1</td>\n",
       "    </tr>\n",
       "  </tbody>\n",
       "</table>\n",
       "</div>"
      ],
      "text/plain": [
       "          gaming  politics  sports  music  anime\n",
       "gaming         0         0       0     23     15\n",
       "politics       0         0       0     14     20\n",
       "sports         0         0       0      8     11\n",
       "music          0         0       0      4      2\n",
       "anime          0         0       0      1      1"
      ]
     },
     "execution_count": 119,
     "metadata": {},
     "output_type": "execute_result"
    }
   ],
   "source": [
    "ml_metrics.log_confusion_matrix(\n",
    "    y_true=y_true_manual,\n",
    "    y_pred=['anime'] * 49 + ['music'] * 50,\n",
    "    data_fold_name='k100',\n",
    "    class_labels=None,\n",
    "    save_path='mlruns/logs/test_classification_report2',\n",
    "    log_df_to_console=False,\n",
    "    log_artifacts_to_mlflow=False,\n",
    "    sort_labels_by_support=True,\n",
    ")"
   ]
  },
  {
   "cell_type": "markdown",
   "id": "e258b212",
   "metadata": {},
   "source": [
    "### Use new function to replicate classification report\n",
    "Calling classification report can be messy, so try instead `precision_recall_fscore_support` which makes it easier to iterate over metrics for logging & saving.\n",
    "\n",
    "- `accuracy` = `recall-weighted_avg`\n",
    "    - so maybe don't calculate accuracy but need a way to reference that `recall-weighted_avg` is the same as accuracy\n",
    "\n"
   ]
  },
  {
   "cell_type": "markdown",
   "id": "b0be2ebf",
   "metadata": {},
   "source": [
    "### Aggregate AND per-class metrics\n"
   ]
  },
  {
   "cell_type": "code",
   "execution_count": 121,
   "id": "874fe32f",
   "metadata": {},
   "outputs": [
    {
     "name": "stderr",
     "output_type": "stream",
     "text": [
      "23:06:32 | INFO | \"precision-sports-k100: 0.5\"\n",
      "23:06:32 | INFO | \"precision-politics-k100: 0.59375\"\n",
      "23:06:32 | INFO | \"precision-gaming-k100: 0.7222222222222222\"\n",
      "23:06:32 | INFO | \"precision-anime-k100: 0.0\"\n",
      "23:06:32 | INFO | \"precision-music-k100: 1.0\"\n",
      "23:06:32 | INFO | \"recall-sports-k100: 0.7894736842105263\"\n",
      "23:06:32 | INFO | \"recall-politics-k100: 0.5588235294117647\"\n",
      "23:06:32 | INFO | \"recall-gaming-k100: 0.6842105263157895\"\n",
      "23:06:32 | INFO | \"recall-anime-k100: 0.0\"\n",
      "23:06:32 | INFO | \"recall-music-k100: 0.16666666666666666\"\n",
      "23:06:32 | INFO | \"f1_score-sports-k100: 0.6122448979591837\"\n",
      "23:06:32 | INFO | \"f1_score-politics-k100: 0.5757575757575757\"\n",
      "23:06:32 | INFO | \"f1_score-gaming-k100: 0.7027027027027027\"\n",
      "23:06:32 | INFO | \"f1_score-anime-k100: 0.0\"\n",
      "23:06:32 | INFO | \"f1_score-music-k100: 0.2857142857142857\"\n",
      "23:06:32 | INFO | \"support-sports-k100: 19\"\n",
      "23:06:32 | INFO | \"support-politics-k100: 34\"\n",
      "23:06:32 | INFO | \"support-gaming-k100: 38\"\n",
      "23:06:32 | INFO | \"support-anime-k100: 2\"\n",
      "23:06:32 | INFO | \"support-music-k100: 6\"\n",
      "23:06:32 | INFO | \"df metrics:\n",
      "      class  precision    recall  f1_score  support data_fold\n",
      "0    sports   0.500000  0.789474  0.612245       19      k100\n",
      "1  politics   0.593750  0.558824  0.575758       34      k100\n",
      "2    gaming   0.722222  0.684211  0.702703       38      k100\n",
      "3     anime   0.000000  0.000000  0.000000        2      k100\n",
      "4     music   1.000000  0.166667  0.285714        6      k100\"\n",
      "23:06:32 | INFO | \"precision-macro_avg-k100: 0.5631944444444444\"\n",
      "23:06:32 | INFO | \"precision-weighted_avg-k100: 0.6376964085297419\"\n",
      "23:06:32 | INFO | \"recall-macro_avg-k100: 0.4398348813209495\"\n",
      "23:06:32 | INFO | \"recall-weighted_avg-k100: 0.6161616161616161\"\n",
      "23:06:32 | INFO | \"f1_score-macro_avg-k100: 0.4352838924267496\"\n",
      "23:06:32 | INFO | \"f1_score-weighted_avg-k100: 0.602276758120914\"\n",
      "23:06:32 | INFO | \"support-macro_avg-k100: 99\"\n",
      "23:06:32 | INFO | \"support-weighted_avg-k100: 99\"\n",
      "23:06:32 | INFO | \"df metrics:\n",
      "          class  precision    recall  f1_score  support data_fold\n",
      "0     macro_avg   0.563194  0.439835  0.435284       99      k100\n",
      "1  weighted_avg   0.637696  0.616162  0.602277       99      k100\"\n",
      "23:06:32 | INFO | \"confusion matrix k100:\n",
      "          sports  politics  gaming  anime  music\n",
      "sports        15         2       2      0      0\n",
      "politics       9        19       6      0      0\n",
      "gaming         3         9      26      0      0\n",
      "anime          1         1       0      0      0\n",
      "music          2         1       2      0      1\"\n"
     ]
    }
   ],
   "source": [
    "l_class_labels = ['sports', 'politics', 'gaming', 'anime', 'music']\n",
    "ml_metrics.log_classification_report_and_confusion_matrix(\n",
    "    y_true=y_true_manual,\n",
    "    y_pred=y_pred_manual,\n",
    "    data_fold_name='k100',\n",
    "    beta=1,\n",
    "    class_labels=l_class_labels,\n",
    "    save_path='mlruns/logs/test_classification_report1',\n",
    "    log_metrics_to_console=True,\n",
    "    log_df_to_console=True,\n",
    "    log_metrics_to_mlflow=False,\n",
    "    log_artifacts_to_mlflow=False,\n",
    "    log_support_avg=True,\n",
    "    log_support_per_class=True,\n",
    ")"
   ]
  },
  {
   "cell_type": "code",
   "execution_count": 97,
   "id": "748b4b81",
   "metadata": {},
   "outputs": [
    {
     "name": "stderr",
     "output_type": "stream",
     "text": [
      "22:11:28 | INFO | \"df metrics:\n",
      "      class  precision    recall  f1_score  support data_fold\n",
      "0    sports   0.500000  0.789474  0.612245       19      k100\n",
      "1  politics   0.593750  0.558824  0.575758       34      k100\n",
      "2    gaming   0.722222  0.684211  0.702703       38      k100\n",
      "3     anime   0.000000  0.000000  0.000000        2      k100\n",
      "4     music   1.000000  0.166667  0.285714        6      k100\"\n",
      "22:11:28 | INFO | \"df metrics:\n",
      "          class  precision    recall  f1_score  support data_fold\n",
      "0     macro_avg   0.563194  0.439835  0.435284       99      k100\n",
      "1  weighted_avg   0.637696  0.616162  0.602277       99      k100\"\n"
     ]
    }
   ],
   "source": [
    "l_class_labels = ['sports', 'politics', 'gaming', 'anime', 'music']\n",
    "ml_metrics.log_classification_report_and_confusion_matrix(\n",
    "    y_true=y_true_manual,\n",
    "    y_pred=y_pred_manual,\n",
    "    data_fold_name='k100',\n",
    "    beta=1,\n",
    "    class_labels=l_class_labels,\n",
    "    save_path='mlruns/logs/test_classification_report1',\n",
    "    log_metrics_to_console=False,\n",
    "    log_df_to_console=True,\n",
    "    log_metrics_to_mlflow=False,\n",
    "    log_artifacts_to_mlflow=False,\n",
    "    log_support_avg=True,\n",
    "    log_support_per_class=True,\n",
    ")"
   ]
  },
  {
   "cell_type": "markdown",
   "id": "8701fd2e",
   "metadata": {},
   "source": [
    "### Aggregate metrics"
   ]
  },
  {
   "cell_type": "code",
   "execution_count": 92,
   "id": "12f8bb7a",
   "metadata": {},
   "outputs": [
    {
     "name": "stderr",
     "output_type": "stream",
     "text": [
      "19:59:18 | INFO | \"precision-macro_avg-k100: 0.5631944444444444\"\n",
      "19:59:18 | INFO | \"precision-weighted_avg-k100: 0.6376964085297419\"\n",
      "19:59:18 | INFO | \"recall-macro_avg-k100: 0.4398348813209495\"\n",
      "19:59:18 | INFO | \"recall-weighted_avg-k100: 0.6161616161616161\"\n",
      "19:59:18 | INFO | \"f1_score-macro_avg-k100: 0.4352838924267496\"\n",
      "19:59:18 | INFO | \"f1_score-weighted_avg-k100: 0.602276758120914\"\n"
     ]
    },
    {
     "data": {
      "text/html": [
       "<div>\n",
       "<style scoped>\n",
       "    .dataframe tbody tr th:only-of-type {\n",
       "        vertical-align: middle;\n",
       "    }\n",
       "\n",
       "    .dataframe tbody tr th {\n",
       "        vertical-align: top;\n",
       "    }\n",
       "\n",
       "    .dataframe thead th {\n",
       "        text-align: right;\n",
       "    }\n",
       "</style>\n",
       "<table border=\"1\" class=\"dataframe\">\n",
       "  <thead>\n",
       "    <tr style=\"text-align: right;\">\n",
       "      <th></th>\n",
       "      <th>class</th>\n",
       "      <th>precision</th>\n",
       "      <th>recall</th>\n",
       "      <th>f1_score</th>\n",
       "      <th>support</th>\n",
       "      <th>data_fold</th>\n",
       "    </tr>\n",
       "  </thead>\n",
       "  <tbody>\n",
       "    <tr>\n",
       "      <th>0</th>\n",
       "      <td>macro_avg</td>\n",
       "      <td>0.563194</td>\n",
       "      <td>0.439835</td>\n",
       "      <td>0.435284</td>\n",
       "      <td>99</td>\n",
       "      <td>k100</td>\n",
       "    </tr>\n",
       "    <tr>\n",
       "      <th>1</th>\n",
       "      <td>weighted_avg</td>\n",
       "      <td>0.637696</td>\n",
       "      <td>0.616162</td>\n",
       "      <td>0.602277</td>\n",
       "      <td>99</td>\n",
       "      <td>k100</td>\n",
       "    </tr>\n",
       "  </tbody>\n",
       "</table>\n",
       "</div>"
      ],
      "text/plain": [
       "          class  precision    recall  f1_score  support data_fold\n",
       "0     macro_avg   0.563194  0.439835  0.435284       99      k100\n",
       "1  weighted_avg   0.637696  0.616162  0.602277       99      k100"
      ]
     },
     "execution_count": 92,
     "metadata": {},
     "output_type": "execute_result"
    }
   ],
   "source": [
    "l_class_labels = ['sports', 'politics', 'gaming', 'anime', 'music']\n",
    "ml_metrics.log_precision_recall_fscore_support(\n",
    "    y_true=y_true_manual,\n",
    "    y_pred=y_pred_manual,\n",
    "    data_fold_name='k100',\n",
    "    beta=1,\n",
    "    average='macro_and_weighted',\n",
    "    class_labels=l_class_labels,\n",
    "    save_path='mlruns/logs/test_classification_report',\n",
    "    log_metrics_to_console=True,\n",
    "    log_metrics_to_mlflow=False,\n",
    "    log_artifacts_to_mlflow=False,\n",
    "    log_df_to_console=False,\n",
    ")"
   ]
  },
  {
   "cell_type": "code",
   "execution_count": 36,
   "id": "9a5ea3eb",
   "metadata": {},
   "outputs": [
    {
     "data": {
      "text/plain": [
       "{'precision-macro_avg-k100': 0.5631944444444444,\n",
       " 'precision-weighted_avg-k100': 0.6376964085297419,\n",
       " 'recall-macro_avg-k100': 0.4398348813209495,\n",
       " 'recall-weighted_avg-k100': 0.6161616161616161,\n",
       " 'f1_score-macro_avg-k100': 0.4352838924267496,\n",
       " 'f1_score-weighted_avg-k100': 0.602276758120914}"
      ]
     },
     "execution_count": 36,
     "metadata": {},
     "output_type": "execute_result"
    }
   ],
   "source": [
    "l_class_labels = ['sports', 'politics', 'gaming', 'anime', 'music']\n",
    "ml_metrics.log_precision_recall_fscore_support(\n",
    "    y_true=y_true_manual,\n",
    "    y_pred=y_pred_manual,\n",
    "    data_fold_name='k100',\n",
    "    beta=1,\n",
    "    average='macro_and_weighted',\n",
    "    class_labels=None,\n",
    "    save_path=None,\n",
    "    log_metrics_to_console=False,\n",
    "    log_metrics_to_mlflow=False,\n",
    "    log_artifacts_to_mlflow=False,\n",
    "    log_df_to_console=False,\n",
    "    output_dict=True,\n",
    ")"
   ]
  },
  {
   "cell_type": "code",
   "execution_count": 40,
   "id": "6ed4e94f",
   "metadata": {},
   "outputs": [
    {
     "data": {
      "text/plain": [
       "{'precision-macro_avg': 0.5631944444444444,\n",
       " 'precision-weighted_avg': 0.6376964085297419,\n",
       " 'recall-macro_avg': 0.4398348813209495,\n",
       " 'recall-weighted_avg': 0.6161616161616161,\n",
       " 'f1_score-macro_avg': 0.4352838924267496,\n",
       " 'f1_score-weighted_avg': 0.602276758120914}"
      ]
     },
     "execution_count": 40,
     "metadata": {},
     "output_type": "execute_result"
    }
   ],
   "source": [
    "l_class_labels = ['sports', 'politics', 'gaming', 'anime', 'music']\n",
    "ml_metrics.log_precision_recall_fscore_support(\n",
    "    y_true=y_true_manual,\n",
    "    y_pred=y_pred_manual,\n",
    "    data_fold_name='k100',\n",
    "    beta=1,\n",
    "    average='macro_and_weighted',\n",
    "    class_labels=None,\n",
    "    save_path=None,\n",
    "    log_metrics_to_console=False,\n",
    "    log_metrics_to_mlflow=False,\n",
    "    log_artifacts_to_mlflow=False,\n",
    "    log_df_to_console=False,\n",
    "    log_support=False,\n",
    "    output_dict=True,\n",
    "    append_fold_name_to_output_dict=False,\n",
    ")"
   ]
  },
  {
   "cell_type": "code",
   "execution_count": 42,
   "id": "33dc65a1",
   "metadata": {},
   "outputs": [
    {
     "name": "stderr",
     "output_type": "stream",
     "text": [
      "03:09:36 | INFO | \"precision-macro_avg-k100: 0.5631944444444444\"\n",
      "03:09:36 | INFO | \"precision-weighted_avg-k100: 0.6376964085297419\"\n",
      "03:09:36 | INFO | \"recall-macro_avg-k100: 0.4398348813209495\"\n",
      "03:09:36 | INFO | \"recall-weighted_avg-k100: 0.6161616161616161\"\n",
      "03:09:36 | INFO | \"f1_score-macro_avg-k100: 0.4352838924267496\"\n",
      "03:09:36 | INFO | \"f1_score-weighted_avg-k100: 0.602276758120914\"\n"
     ]
    },
    {
     "data": {
      "text/plain": [
       "{'precision-macro_avg': 0.5631944444444444,\n",
       " 'precision-weighted_avg': 0.6376964085297419,\n",
       " 'recall-macro_avg': 0.4398348813209495,\n",
       " 'recall-weighted_avg': 0.6161616161616161,\n",
       " 'f1_score-macro_avg': 0.4352838924267496,\n",
       " 'f1_score-weighted_avg': 0.602276758120914}"
      ]
     },
     "execution_count": 42,
     "metadata": {},
     "output_type": "execute_result"
    }
   ],
   "source": [
    "l_class_labels = ['sports', 'politics', 'gaming', 'anime', 'music']\n",
    "ml_metrics.log_precision_recall_fscore_support(\n",
    "    y_true=y_true_manual,\n",
    "    y_pred=y_pred_manual,\n",
    "    data_fold_name='k100',\n",
    "    beta=1,\n",
    "    average='macro_and_weighted',\n",
    "    class_labels=None,\n",
    "    save_path=None,\n",
    "    log_metrics_to_console=True,\n",
    "    log_metrics_to_mlflow=False,\n",
    "    log_artifacts_to_mlflow=False,\n",
    "    log_df_to_console=False,\n",
    "    output_dict=True,\n",
    "    append_fold_name_to_output_dict=False,\n",
    "    log_support=False,\n",
    ")"
   ]
  },
  {
   "cell_type": "code",
   "execution_count": 93,
   "id": "f399e7e3",
   "metadata": {},
   "outputs": [
    {
     "name": "stderr",
     "output_type": "stream",
     "text": [
      "19:59:22 | INFO | \"precision-weighted_avg-k100: 0.6376964085297419\"\n",
      "19:59:22 | INFO | \"recall-weighted_avg-k100: 0.6161616161616161\"\n",
      "19:59:22 | INFO | \"f1_score-weighted_avg-k100: 0.602276758120914\"\n"
     ]
    },
    {
     "data": {
      "text/html": [
       "<div>\n",
       "<style scoped>\n",
       "    .dataframe tbody tr th:only-of-type {\n",
       "        vertical-align: middle;\n",
       "    }\n",
       "\n",
       "    .dataframe tbody tr th {\n",
       "        vertical-align: top;\n",
       "    }\n",
       "\n",
       "    .dataframe thead th {\n",
       "        text-align: right;\n",
       "    }\n",
       "</style>\n",
       "<table border=\"1\" class=\"dataframe\">\n",
       "  <thead>\n",
       "    <tr style=\"text-align: right;\">\n",
       "      <th></th>\n",
       "      <th>class</th>\n",
       "      <th>precision</th>\n",
       "      <th>recall</th>\n",
       "      <th>f1_score</th>\n",
       "      <th>support</th>\n",
       "      <th>data_fold</th>\n",
       "    </tr>\n",
       "  </thead>\n",
       "  <tbody>\n",
       "    <tr>\n",
       "      <th>0</th>\n",
       "      <td>weighted_avg</td>\n",
       "      <td>0.637696</td>\n",
       "      <td>0.616162</td>\n",
       "      <td>0.602277</td>\n",
       "      <td>99</td>\n",
       "      <td>k100</td>\n",
       "    </tr>\n",
       "  </tbody>\n",
       "</table>\n",
       "</div>"
      ],
      "text/plain": [
       "          class  precision    recall  f1_score  support data_fold\n",
       "0  weighted_avg   0.637696  0.616162  0.602277       99      k100"
      ]
     },
     "metadata": {},
     "output_type": "display_data"
    },
    {
     "name": "stderr",
     "output_type": "stream",
     "text": [
      "19:59:22 | INFO | \"precision-macro_avg-k100: 0.5631944444444444\"\n",
      "19:59:22 | INFO | \"recall-macro_avg-k100: 0.4398348813209495\"\n",
      "19:59:22 | INFO | \"f1_score-macro_avg-k100: 0.4352838924267496\"\n"
     ]
    },
    {
     "data": {
      "text/html": [
       "<div>\n",
       "<style scoped>\n",
       "    .dataframe tbody tr th:only-of-type {\n",
       "        vertical-align: middle;\n",
       "    }\n",
       "\n",
       "    .dataframe tbody tr th {\n",
       "        vertical-align: top;\n",
       "    }\n",
       "\n",
       "    .dataframe thead th {\n",
       "        text-align: right;\n",
       "    }\n",
       "</style>\n",
       "<table border=\"1\" class=\"dataframe\">\n",
       "  <thead>\n",
       "    <tr style=\"text-align: right;\">\n",
       "      <th></th>\n",
       "      <th>class</th>\n",
       "      <th>precision</th>\n",
       "      <th>recall</th>\n",
       "      <th>f1_score</th>\n",
       "      <th>support</th>\n",
       "      <th>data_fold</th>\n",
       "    </tr>\n",
       "  </thead>\n",
       "  <tbody>\n",
       "    <tr>\n",
       "      <th>0</th>\n",
       "      <td>macro_avg</td>\n",
       "      <td>0.563194</td>\n",
       "      <td>0.439835</td>\n",
       "      <td>0.435284</td>\n",
       "      <td>99</td>\n",
       "      <td>k100</td>\n",
       "    </tr>\n",
       "  </tbody>\n",
       "</table>\n",
       "</div>"
      ],
      "text/plain": [
       "       class  precision    recall  f1_score  support data_fold\n",
       "0  macro_avg   0.563194  0.439835  0.435284       99      k100"
      ]
     },
     "execution_count": 93,
     "metadata": {},
     "output_type": "execute_result"
    }
   ],
   "source": [
    "display(\n",
    "    ml_metrics.log_precision_recall_fscore_support(\n",
    "        y_true=y_true_manual,\n",
    "        y_pred=y_pred_manual,\n",
    "        data_fold_name='k100',\n",
    "        beta=1,\n",
    "        average='weighted',\n",
    "        class_labels=None,\n",
    "        save_path=None,\n",
    "        log_metrics_to_console=True,\n",
    "        log_metrics_to_mlflow=False,\n",
    "        log_artifacts_to_mlflow=False,\n",
    "        log_df_to_console=False,\n",
    "    )\n",
    ")\n",
    "\n",
    "ml_metrics.log_precision_recall_fscore_support(\n",
    "    y_true=y_true_manual,\n",
    "    y_pred=y_pred_manual,\n",
    "    data_fold_name='k100',\n",
    "    beta=1,\n",
    "    average='macro',\n",
    "    class_labels=None,\n",
    "    save_path=None,\n",
    "    log_metrics_to_console=True,\n",
    "    log_metrics_to_mlflow=False,\n",
    "    log_artifacts_to_mlflow=False,\n",
    "    log_df_to_console=False,\n",
    ")"
   ]
  },
  {
   "cell_type": "markdown",
   "id": "7f20d312",
   "metadata": {},
   "source": [
    "### per-class metrics"
   ]
  },
  {
   "cell_type": "code",
   "execution_count": 90,
   "id": "fc778a29",
   "metadata": {},
   "outputs": [
    {
     "name": "stdout",
     "output_type": "stream",
     "text": [
      "              precision    recall  f1-score   support\n",
      "\n",
      "       anime      0.000     0.000     0.000         2\n",
      "      gaming      0.722     0.684     0.703        38\n",
      "       music      1.000     0.167     0.286         6\n",
      "    politics      0.594     0.559     0.576        34\n",
      "      sports      0.500     0.789     0.612        19\n",
      "\n",
      "    accuracy                          0.616        99\n",
      "   macro avg      0.563     0.440     0.435        99\n",
      "weighted avg      0.638     0.616     0.602        99\n",
      "\n"
     ]
    }
   ],
   "source": [
    "print(classification_report(y_true_manual, y_pred_manual, zero_division=0, digits=3))"
   ]
  },
  {
   "cell_type": "code",
   "execution_count": 87,
   "id": "87fe9d46",
   "metadata": {},
   "outputs": [
    {
     "name": "stderr",
     "output_type": "stream",
     "text": [
      "19:52:54 | INFO | \"precision-sports-k100: 0.5\"\n",
      "19:52:54 | INFO | \"precision-politics-k100: 0.59375\"\n",
      "19:52:54 | INFO | \"precision-gaming-k100: 0.7222222222222222\"\n",
      "19:52:54 | INFO | \"precision-anime-k100: 0.0\"\n",
      "19:52:54 | INFO | \"precision-music-k100: 1.0\"\n",
      "19:52:54 | INFO | \"recall-sports-k100: 0.7894736842105263\"\n",
      "19:52:54 | INFO | \"recall-politics-k100: 0.5588235294117647\"\n",
      "19:52:54 | INFO | \"recall-gaming-k100: 0.6842105263157895\"\n",
      "19:52:54 | INFO | \"recall-anime-k100: 0.0\"\n",
      "19:52:54 | INFO | \"recall-music-k100: 0.16666666666666666\"\n",
      "19:52:54 | INFO | \"f1_score-sports-k100: 0.6122448979591837\"\n",
      "19:52:54 | INFO | \"f1_score-politics-k100: 0.5757575757575757\"\n",
      "19:52:54 | INFO | \"f1_score-gaming-k100: 0.7027027027027027\"\n",
      "19:52:54 | INFO | \"f1_score-anime-k100: 0.0\"\n",
      "19:52:54 | INFO | \"f1_score-music-k100: 0.2857142857142857\"\n",
      "19:52:54 | INFO | \"support-sports-k100: 19\"\n",
      "19:52:54 | INFO | \"support-politics-k100: 34\"\n",
      "19:52:54 | INFO | \"support-gaming-k100: 38\"\n",
      "19:52:54 | INFO | \"support-anime-k100: 2\"\n",
      "19:52:54 | INFO | \"support-music-k100: 6\"\n"
     ]
    },
    {
     "data": {
      "text/html": [
       "<div>\n",
       "<style scoped>\n",
       "    .dataframe tbody tr th:only-of-type {\n",
       "        vertical-align: middle;\n",
       "    }\n",
       "\n",
       "    .dataframe tbody tr th {\n",
       "        vertical-align: top;\n",
       "    }\n",
       "\n",
       "    .dataframe thead th {\n",
       "        text-align: right;\n",
       "    }\n",
       "</style>\n",
       "<table border=\"1\" class=\"dataframe\">\n",
       "  <thead>\n",
       "    <tr style=\"text-align: right;\">\n",
       "      <th></th>\n",
       "      <th>class</th>\n",
       "      <th>precision</th>\n",
       "      <th>recall</th>\n",
       "      <th>f1_score</th>\n",
       "      <th>support</th>\n",
       "      <th>data_fold</th>\n",
       "    </tr>\n",
       "  </thead>\n",
       "  <tbody>\n",
       "    <tr>\n",
       "      <th>0</th>\n",
       "      <td>sports</td>\n",
       "      <td>0.500000</td>\n",
       "      <td>0.789474</td>\n",
       "      <td>0.612245</td>\n",
       "      <td>19</td>\n",
       "      <td>k100</td>\n",
       "    </tr>\n",
       "    <tr>\n",
       "      <th>1</th>\n",
       "      <td>politics</td>\n",
       "      <td>0.593750</td>\n",
       "      <td>0.558824</td>\n",
       "      <td>0.575758</td>\n",
       "      <td>34</td>\n",
       "      <td>k100</td>\n",
       "    </tr>\n",
       "    <tr>\n",
       "      <th>2</th>\n",
       "      <td>gaming</td>\n",
       "      <td>0.722222</td>\n",
       "      <td>0.684211</td>\n",
       "      <td>0.702703</td>\n",
       "      <td>38</td>\n",
       "      <td>k100</td>\n",
       "    </tr>\n",
       "    <tr>\n",
       "      <th>3</th>\n",
       "      <td>anime</td>\n",
       "      <td>0.000000</td>\n",
       "      <td>0.000000</td>\n",
       "      <td>0.000000</td>\n",
       "      <td>2</td>\n",
       "      <td>k100</td>\n",
       "    </tr>\n",
       "    <tr>\n",
       "      <th>4</th>\n",
       "      <td>music</td>\n",
       "      <td>1.000000</td>\n",
       "      <td>0.166667</td>\n",
       "      <td>0.285714</td>\n",
       "      <td>6</td>\n",
       "      <td>k100</td>\n",
       "    </tr>\n",
       "  </tbody>\n",
       "</table>\n",
       "</div>"
      ],
      "text/plain": [
       "      class  precision    recall  f1_score  support data_fold\n",
       "0    sports   0.500000  0.789474  0.612245       19      k100\n",
       "1  politics   0.593750  0.558824  0.575758       34      k100\n",
       "2    gaming   0.722222  0.684211  0.702703       38      k100\n",
       "3     anime   0.000000  0.000000  0.000000        2      k100\n",
       "4     music   1.000000  0.166667  0.285714        6      k100"
      ]
     },
     "execution_count": 87,
     "metadata": {},
     "output_type": "execute_result"
    }
   ],
   "source": [
    "l_class_labels = ['sports', 'politics', 'gaming', 'anime', 'music']\n",
    "ml_metrics.log_precision_recall_fscore_support(\n",
    "    y_true=y_true_manual,\n",
    "    y_pred=y_pred_manual,\n",
    "    data_fold_name='k100',\n",
    "    beta=1,\n",
    "    average=None,\n",
    "    class_labels=l_class_labels,\n",
    "    save_path=None,\n",
    "    log_metrics_to_console=True,\n",
    "    log_metrics_to_mlflow=False,\n",
    "    log_artifacts_to_mlflow=False,\n",
    "    log_df_to_console=False,\n",
    "    log_support=True,\n",
    ")"
   ]
  },
  {
   "cell_type": "code",
   "execution_count": 88,
   "id": "156a48c0",
   "metadata": {},
   "outputs": [
    {
     "name": "stderr",
     "output_type": "stream",
     "text": [
      "19:55:50 | INFO | \"precision-sports-k100: 0.5\"\n",
      "19:55:50 | INFO | \"precision-politics-k100: 0.59375\"\n",
      "19:55:50 | INFO | \"precision-gaming-k100: 0.7222222222222222\"\n",
      "19:55:50 | INFO | \"precision-anime-k100: 0.0\"\n",
      "19:55:50 | INFO | \"precision-music-k100: 1.0\"\n",
      "19:55:50 | INFO | \"recall-sports-k100: 0.7894736842105263\"\n",
      "19:55:50 | INFO | \"recall-politics-k100: 0.5588235294117647\"\n",
      "19:55:50 | INFO | \"recall-gaming-k100: 0.6842105263157895\"\n",
      "19:55:50 | INFO | \"recall-anime-k100: 0.0\"\n",
      "19:55:50 | INFO | \"recall-music-k100: 0.16666666666666666\"\n",
      "19:55:50 | INFO | \"f1_score-sports-k100: 0.6122448979591837\"\n",
      "19:55:50 | INFO | \"f1_score-politics-k100: 0.5757575757575757\"\n",
      "19:55:50 | INFO | \"f1_score-gaming-k100: 0.7027027027027027\"\n",
      "19:55:50 | INFO | \"f1_score-anime-k100: 0.0\"\n",
      "19:55:50 | INFO | \"f1_score-music-k100: 0.2857142857142857\"\n",
      "19:55:50 | INFO | \"support-sports-k100: 19\"\n",
      "19:55:50 | INFO | \"support-politics-k100: 34\"\n",
      "19:55:50 | INFO | \"support-gaming-k100: 38\"\n",
      "19:55:50 | INFO | \"support-anime-k100: 2\"\n",
      "19:55:50 | INFO | \"support-music-k100: 6\"\n"
     ]
    },
    {
     "data": {
      "text/html": [
       "<div>\n",
       "<style scoped>\n",
       "    .dataframe tbody tr th:only-of-type {\n",
       "        vertical-align: middle;\n",
       "    }\n",
       "\n",
       "    .dataframe tbody tr th {\n",
       "        vertical-align: top;\n",
       "    }\n",
       "\n",
       "    .dataframe thead th {\n",
       "        text-align: right;\n",
       "    }\n",
       "</style>\n",
       "<table border=\"1\" class=\"dataframe\">\n",
       "  <thead>\n",
       "    <tr style=\"text-align: right;\">\n",
       "      <th></th>\n",
       "      <th>class</th>\n",
       "      <th>precision</th>\n",
       "      <th>recall</th>\n",
       "      <th>f1_score</th>\n",
       "      <th>support</th>\n",
       "      <th>data_fold</th>\n",
       "    </tr>\n",
       "  </thead>\n",
       "  <tbody>\n",
       "    <tr>\n",
       "      <th>0</th>\n",
       "      <td>sports</td>\n",
       "      <td>0.500000</td>\n",
       "      <td>0.789474</td>\n",
       "      <td>0.612245</td>\n",
       "      <td>19</td>\n",
       "      <td>k100</td>\n",
       "    </tr>\n",
       "    <tr>\n",
       "      <th>1</th>\n",
       "      <td>politics</td>\n",
       "      <td>0.593750</td>\n",
       "      <td>0.558824</td>\n",
       "      <td>0.575758</td>\n",
       "      <td>34</td>\n",
       "      <td>k100</td>\n",
       "    </tr>\n",
       "    <tr>\n",
       "      <th>2</th>\n",
       "      <td>gaming</td>\n",
       "      <td>0.722222</td>\n",
       "      <td>0.684211</td>\n",
       "      <td>0.702703</td>\n",
       "      <td>38</td>\n",
       "      <td>k100</td>\n",
       "    </tr>\n",
       "    <tr>\n",
       "      <th>3</th>\n",
       "      <td>anime</td>\n",
       "      <td>0.000000</td>\n",
       "      <td>0.000000</td>\n",
       "      <td>0.000000</td>\n",
       "      <td>2</td>\n",
       "      <td>k100</td>\n",
       "    </tr>\n",
       "    <tr>\n",
       "      <th>4</th>\n",
       "      <td>music</td>\n",
       "      <td>1.000000</td>\n",
       "      <td>0.166667</td>\n",
       "      <td>0.285714</td>\n",
       "      <td>6</td>\n",
       "      <td>k100</td>\n",
       "    </tr>\n",
       "  </tbody>\n",
       "</table>\n",
       "</div>"
      ],
      "text/plain": [
       "      class  precision    recall  f1_score  support data_fold\n",
       "0    sports   0.500000  0.789474  0.612245       19      k100\n",
       "1  politics   0.593750  0.558824  0.575758       34      k100\n",
       "2    gaming   0.722222  0.684211  0.702703       38      k100\n",
       "3     anime   0.000000  0.000000  0.000000        2      k100\n",
       "4     music   1.000000  0.166667  0.285714        6      k100"
      ]
     },
     "execution_count": 88,
     "metadata": {},
     "output_type": "execute_result"
    }
   ],
   "source": [
    "l_class_labels = ['sports', 'politics', 'gaming', 'anime', 'music']\n",
    "ml_metrics.log_precision_recall_fscore_support(\n",
    "    y_true=y_true_manual,\n",
    "    y_pred=y_pred_manual,\n",
    "    data_fold_name='k100',\n",
    "    beta=1,\n",
    "    average=None,\n",
    "    class_labels=l_class_labels,\n",
    "    save_path='mlruns/logs/test_classification_report',\n",
    "    log_metrics_to_console=True,\n",
    "    log_metrics_to_mlflow=False,\n",
    "    log_artifacts_to_mlflow=False,\n",
    "    log_df_to_console=False,\n",
    "    log_support=True,\n",
    ")"
   ]
  },
  {
   "cell_type": "code",
   "execution_count": 84,
   "id": "3b3981eb",
   "metadata": {},
   "outputs": [
    {
     "data": {
      "text/html": [
       "<div>\n",
       "<style scoped>\n",
       "    .dataframe tbody tr th:only-of-type {\n",
       "        vertical-align: middle;\n",
       "    }\n",
       "\n",
       "    .dataframe tbody tr th {\n",
       "        vertical-align: top;\n",
       "    }\n",
       "\n",
       "    .dataframe thead th {\n",
       "        text-align: right;\n",
       "    }\n",
       "</style>\n",
       "<table border=\"1\" class=\"dataframe\">\n",
       "  <thead>\n",
       "    <tr style=\"text-align: right;\">\n",
       "      <th></th>\n",
       "      <th>class</th>\n",
       "      <th>precision</th>\n",
       "      <th>recall</th>\n",
       "      <th>f1_score</th>\n",
       "      <th>support</th>\n",
       "      <th>data_fold</th>\n",
       "    </tr>\n",
       "  </thead>\n",
       "  <tbody>\n",
       "    <tr>\n",
       "      <th>0</th>\n",
       "      <td>class_0</td>\n",
       "      <td>0.000000</td>\n",
       "      <td>0.000000</td>\n",
       "      <td>0.000000</td>\n",
       "      <td>2</td>\n",
       "      <td>k100</td>\n",
       "    </tr>\n",
       "    <tr>\n",
       "      <th>1</th>\n",
       "      <td>class_1</td>\n",
       "      <td>0.722222</td>\n",
       "      <td>0.684211</td>\n",
       "      <td>0.702703</td>\n",
       "      <td>38</td>\n",
       "      <td>k100</td>\n",
       "    </tr>\n",
       "    <tr>\n",
       "      <th>2</th>\n",
       "      <td>class_2</td>\n",
       "      <td>1.000000</td>\n",
       "      <td>0.166667</td>\n",
       "      <td>0.285714</td>\n",
       "      <td>6</td>\n",
       "      <td>k100</td>\n",
       "    </tr>\n",
       "    <tr>\n",
       "      <th>3</th>\n",
       "      <td>class_3</td>\n",
       "      <td>0.593750</td>\n",
       "      <td>0.558824</td>\n",
       "      <td>0.575758</td>\n",
       "      <td>34</td>\n",
       "      <td>k100</td>\n",
       "    </tr>\n",
       "    <tr>\n",
       "      <th>4</th>\n",
       "      <td>class_4</td>\n",
       "      <td>0.500000</td>\n",
       "      <td>0.789474</td>\n",
       "      <td>0.612245</td>\n",
       "      <td>19</td>\n",
       "      <td>k100</td>\n",
       "    </tr>\n",
       "  </tbody>\n",
       "</table>\n",
       "</div>"
      ],
      "text/plain": [
       "     class  precision    recall  f1_score  support data_fold\n",
       "0  class_0   0.000000  0.000000  0.000000        2      k100\n",
       "1  class_1   0.722222  0.684211  0.702703       38      k100\n",
       "2  class_2   1.000000  0.166667  0.285714        6      k100\n",
       "3  class_3   0.593750  0.558824  0.575758       34      k100\n",
       "4  class_4   0.500000  0.789474  0.612245       19      k100"
      ]
     },
     "execution_count": 84,
     "metadata": {},
     "output_type": "execute_result"
    }
   ],
   "source": [
    "ml_metrics.log_precision_recall_fscore_support(\n",
    "    y_true=y_true_manual,\n",
    "    y_pred=y_pred_manual,\n",
    "    data_fold_name='k100',\n",
    "    beta=1,\n",
    "    average=None,\n",
    "    class_labels=None,\n",
    "    save_path=None,\n",
    "    log_metrics_to_console=False,\n",
    "    log_metrics_to_mlflow=False,\n",
    "    log_artifacts_to_mlflow=False,\n",
    "    log_df_to_console=False,\n",
    ")"
   ]
  },
  {
   "cell_type": "code",
   "execution_count": null,
   "id": "9dcd5cae",
   "metadata": {},
   "outputs": [],
   "source": []
  },
  {
   "cell_type": "code",
   "execution_count": 15,
   "id": "acb1e10f",
   "metadata": {},
   "outputs": [
    {
     "data": {
      "text/plain": [
       "(array([0.88235294, 0.51282051, 0.61538462]),\n",
       " array([0.6122449 , 0.76923077, 0.66666667]),\n",
       " array([0.72289157, 0.61538462, 0.64      ]),\n",
       " array([49, 26, 24]))"
      ]
     },
     "execution_count": 15,
     "metadata": {},
     "output_type": "execute_result"
    }
   ],
   "source": [
    "lbls_ = ['gaming', 'politics', 'sports']\n",
    "precision_recall_fscore_support(y_true, y_pred, beta=1, labels=lbls_, average=None)"
   ]
  },
  {
   "cell_type": "markdown",
   "id": "d108fbf7",
   "metadata": {},
   "source": [
    "If we supply the labels, the order of the arrays will match the labels and we can use this to create a dict, which we can then convert into a dataframe."
   ]
  },
  {
   "cell_type": "code",
   "execution_count": 16,
   "id": "8e172664",
   "metadata": {},
   "outputs": [
    {
     "data": {
      "text/html": [
       "<div>\n",
       "<style scoped>\n",
       "    .dataframe tbody tr th:only-of-type {\n",
       "        vertical-align: middle;\n",
       "    }\n",
       "\n",
       "    .dataframe tbody tr th {\n",
       "        vertical-align: top;\n",
       "    }\n",
       "\n",
       "    .dataframe thead th {\n",
       "        text-align: right;\n",
       "    }\n",
       "</style>\n",
       "<table border=\"1\" class=\"dataframe\">\n",
       "  <thead>\n",
       "    <tr style=\"text-align: right;\">\n",
       "      <th></th>\n",
       "      <th>class</th>\n",
       "      <th>precision</th>\n",
       "      <th>recall</th>\n",
       "      <th>f1_score</th>\n",
       "      <th>support</th>\n",
       "    </tr>\n",
       "  </thead>\n",
       "  <tbody>\n",
       "    <tr>\n",
       "      <th>0</th>\n",
       "      <td>gaming</td>\n",
       "      <td>0.882353</td>\n",
       "      <td>0.612245</td>\n",
       "      <td>0.722892</td>\n",
       "      <td>49</td>\n",
       "    </tr>\n",
       "    <tr>\n",
       "      <th>1</th>\n",
       "      <td>sports</td>\n",
       "      <td>0.615385</td>\n",
       "      <td>0.666667</td>\n",
       "      <td>0.640000</td>\n",
       "      <td>24</td>\n",
       "    </tr>\n",
       "    <tr>\n",
       "      <th>2</th>\n",
       "      <td>politics</td>\n",
       "      <td>0.512821</td>\n",
       "      <td>0.769231</td>\n",
       "      <td>0.615385</td>\n",
       "      <td>26</td>\n",
       "    </tr>\n",
       "  </tbody>\n",
       "</table>\n",
       "</div>"
      ],
      "text/plain": [
       "      class  precision    recall  f1_score  support\n",
       "0    gaming   0.882353  0.612245  0.722892       49\n",
       "1    sports   0.615385  0.666667  0.640000       24\n",
       "2  politics   0.512821  0.769231  0.615385       26"
      ]
     },
     "metadata": {},
     "output_type": "display_data"
    },
    {
     "name": "stdout",
     "output_type": "stream",
     "text": [
      "precision-gaming 0.8823529411764706\n",
      "precision-sports 0.6153846153846154\n",
      "precision-politics 0.5128205128205128\n",
      "recall-gaming 0.6122448979591837\n",
      "recall-sports 0.6666666666666666\n",
      "recall-politics 0.7692307692307693\n",
      "f1_score-gaming 0.7228915662650602\n",
      "f1_score-sports 0.64\n",
      "f1_score-politics 0.6153846153846154\n",
      "support-gaming 49\n",
      "support-sports 24\n",
      "support-politics 26\n"
     ]
    }
   ],
   "source": [
    "d_class_metrics = dict()\n",
    "col_class_labels = 'class'\n",
    "beta = 1\n",
    "d_class_metrics[col_class_labels] = ['gaming', 'sports', 'politics',]\n",
    "(\n",
    "    d_class_metrics['precision'],\n",
    "    d_class_metrics['recall'],\n",
    "    d_class_metrics[f'f{beta}_score'],\n",
    "    d_class_metrics['support']\n",
    ") = precision_recall_fscore_support(y_true, y_pred, beta=beta, labels=d_class_metrics[col_class_labels], average=None)\n",
    "display(pd.DataFrame(d_class_metrics))\n",
    "\n",
    "for metric_ in [k for k in d_class_metrics.keys() if k != col_class_labels]:\n",
    "    for class_, val_ in zip(d_class_metrics[col_class_labels], d_class_metrics[metric_]):\n",
    "        print(f\"{metric_}-{class_}\", val_)"
   ]
  },
  {
   "cell_type": "code",
   "execution_count": 54,
   "id": "7f72e946",
   "metadata": {},
   "outputs": [
    {
     "name": "stderr",
     "output_type": "stream",
     "text": [
      "05:41:59 | INFO | \"Start processing K2 metrics for logging\"\n",
      "  0%|          | 0/15 [00:00<?, ?it/s]05:41:59 | INFO | \" K2 gaming-f1_score: 0.816327\"\n",
      "05:41:59 | INFO | \" K2 gaming-support: 50\"\n",
      "05:41:59 | INFO | \" K2 politics-f1_score: 0.677419\"\n",
      "05:41:59 | INFO | \" K2 politics-support: 36\"\n",
      "05:41:59 | INFO | \" K2 sports-f1_score: 0.526316\"\n",
      "05:41:59 | INFO | \" K2 sports-support: 13\"\n",
      "05:41:59 | INFO | \" K2 accuracy: 0.717172\"\n",
      "05:41:59 | INFO | \" K2 precision_macro_avg: 0.680342\"\n",
      "05:41:59 | INFO | \" K2 recall_macro_avg: 0.717521\"\n",
      "05:41:59 | INFO | \" K2 f1_score_macro_avg: 0.673354\"\n",
      "05:41:59 | INFO | \" K2 support_macro_avg: 99\"\n",
      "05:41:59 | INFO | \" K2 precision_weighted_avg: 0.767107\"\n",
      "05:41:59 | INFO | \" K2 recall_weighted_avg: 0.717172\"\n",
      "05:41:59 | INFO | \" K2 f1_score_weighted_avg: 0.727733\"\n",
      "05:41:59 | INFO | \" K2 support_weighted_avg: 99\"\n",
      "100%|██████████| 15/15 [00:00<00:00, 1152.53it/s]"
     ]
    },
    {
     "name": "stdout",
     "output_type": "stream",
     "text": [
      "             precision recall  f1-score  support\n",
      "class                                           \n",
      "gaming           0.833  0.800     0.816       50\n",
      "politics         0.808  0.583     0.677       36\n",
      "sports           0.400  0.769     0.526       13\n",
      "macro avg        0.680  0.718     0.673       99\n",
      "weighted avg     0.767  0.717     0.728       99\n",
      "accuracy                          0.717       99\n"
     ]
    },
    {
     "name": "stderr",
     "output_type": "stream",
     "text": [
      "\n"
     ]
    }
   ],
   "source": [
    "log_clf_report_and_conf_matrix(\n",
    "        y_true=y_true,\n",
    "        y_pred=y_pred,\n",
    "        data_fold_name='k2',\n",
    "        class_labels=['gaming', 'politics', 'sports'],\n",
    "        save_path=None,\n",
    "        log_metrics_to_mlflow=False,\n",
    "        log_artifacts_to_mlflow=False,\n",
    "        log_to_console=True,\n",
    "        remove_files_from_local_path=False,\n",
    "        print_clf_df=True,\n",
    "        return_confusion_mx=False,\n",
    ")"
   ]
  },
  {
   "cell_type": "code",
   "execution_count": 25,
   "id": "bce040cd",
   "metadata": {},
   "outputs": [
    {
     "data": {
      "text/html": [
       "<div>\n",
       "<style scoped>\n",
       "    .dataframe tbody tr th:only-of-type {\n",
       "        vertical-align: middle;\n",
       "    }\n",
       "\n",
       "    .dataframe tbody tr th {\n",
       "        vertical-align: top;\n",
       "    }\n",
       "\n",
       "    .dataframe thead th {\n",
       "        text-align: right;\n",
       "    }\n",
       "</style>\n",
       "<table border=\"1\" class=\"dataframe\">\n",
       "  <thead>\n",
       "    <tr style=\"text-align: right;\">\n",
       "      <th></th>\n",
       "      <th>class</th>\n",
       "      <th>precision</th>\n",
       "      <th>recall</th>\n",
       "      <th>f1_score</th>\n",
       "      <th>support</th>\n",
       "    </tr>\n",
       "  </thead>\n",
       "  <tbody>\n",
       "    <tr>\n",
       "      <th>0</th>\n",
       "      <td>sports</td>\n",
       "      <td>0.400000</td>\n",
       "      <td>0.769231</td>\n",
       "      <td>0.526316</td>\n",
       "      <td>13</td>\n",
       "    </tr>\n",
       "    <tr>\n",
       "      <th>1</th>\n",
       "      <td>gaming</td>\n",
       "      <td>0.833333</td>\n",
       "      <td>0.800000</td>\n",
       "      <td>0.816327</td>\n",
       "      <td>50</td>\n",
       "    </tr>\n",
       "    <tr>\n",
       "      <th>2</th>\n",
       "      <td>politics</td>\n",
       "      <td>0.807692</td>\n",
       "      <td>0.583333</td>\n",
       "      <td>0.677419</td>\n",
       "      <td>36</td>\n",
       "    </tr>\n",
       "  </tbody>\n",
       "</table>\n",
       "</div>"
      ],
      "text/plain": [
       "      class  precision    recall  f1_score  support\n",
       "0    sports   0.400000  0.769231  0.526316       13\n",
       "1    gaming   0.833333  0.800000  0.816327       50\n",
       "2  politics   0.807692  0.583333  0.677419       36"
      ]
     },
     "execution_count": 25,
     "metadata": {},
     "output_type": "execute_result"
    }
   ],
   "source": [
    "d_clf_report = dict()\n",
    "d_clf_report['class'] = ['sports', 'gaming', 'politics', ]\n",
    "(\n",
    "    d_clf_report['precision'],\n",
    "    d_clf_report['recall'],\n",
    "    d_clf_report['f1_score'],\n",
    "    d_clf_report['support']\n",
    ") = precision_recall_fscore_support(y_true, y_pred, beta=1, labels=d_clf_report['class'], average=None)\n",
    "pd.DataFrame(d_clf_report)"
   ]
  },
  {
   "cell_type": "code",
   "execution_count": 11,
   "id": "bf70be6b",
   "metadata": {},
   "outputs": [
    {
     "data": {
      "text/plain": [
       "(array([0.66666667, 0.58823529, 0.8       ]),\n",
       " array([0.8       , 0.76923077, 0.58333333]),\n",
       " array([0.72727273, 0.66666667, 0.6746988 ]),\n",
       " array([25, 26, 48]))"
      ]
     },
     "execution_count": 11,
     "metadata": {},
     "output_type": "execute_result"
    }
   ],
   "source": [
    "precision_recall_fscore_support(y_true, y_pred, beta=1, labels=['politics', 'sports', 'gaming', ])"
   ]
  },
  {
   "cell_type": "markdown",
   "id": "d3f0bf7e",
   "metadata": {},
   "source": [
    "# Sort metrics by max value\n",
    "Use it when plotting metrics columns so that legend better matches the max vals"
   ]
  },
  {
   "cell_type": "code",
   "execution_count": 45,
   "id": "9fc701be",
   "metadata": {},
   "outputs": [],
   "source": [
    "from io import StringIO"
   ]
  },
  {
   "cell_type": "code",
   "execution_count": 64,
   "id": "a268597f",
   "metadata": {},
   "outputs": [],
   "source": [
    "sample_csv = StringIO(\"\"\",predicted_col,truth_col,k,precision-macro_avg,precision-weighted_avg,recall-macro_avg,recall-weighted_avg,f1_score-macro_avg,f1_score-weighted_avg,adjusted_mutual_info_score,adjusted_rand_score,homogeneity_score\n",
    "0,k_0010_label,primary_topic,10,0.0516806188445924,0.2817722277267966,0.1082339054144935,0.43365287588294654,0.06505597710874912,0.328738689674732,0.4012787579282346,0.38748295082592166,0.31599968245603843\n",
    "2,k_0020_label,primary_topic,20,0.1460659256441579,0.44454879342261516,0.206781144238916,0.5370837537840565,0.1588967053468496,0.4715698043958237,0.5058768115133843,0.5593907251630248,0.44908113539076533\n",
    "3,k_0027_label,primary_topic,27,0.1930505119805911,0.4702203007968436,0.2649275871532684,0.5804742684157417,0.21278190187058516,0.5079092557205998,0.5308927985385036,0.5606958021292359,0.489011874523237\n",
    "4,k_0030_label,primary_topic,30,0.19288497682596695,0.46812373191245854,0.2656414158016345,0.5817356205852674,0.2134600789989808,0.5083410613593178,0.5328450572548121,0.5613303619963432,0.49123226722963376\n",
    "5,k_0040_label,primary_topic,40,0.2548669681579302,0.5387695395078037,0.3111553029752653,0.6092330978809284,0.2646164081386312,0.557560309526615,0.5497138565347913,0.6042089123957942,0.5224587708904974\n",
    "6,k_0050_label,primary_topic,50,0.3094331567452062,0.5803769604502006,0.35993161622177267,0.6228557013118062,0.31495135166828947,0.5869067469372687,0.5611010494741004,0.6342021442446079,0.5523380994990401\n",
    "7,k_0060_label,primary_topic,60,0.33337334723020995,0.5933788594942602,0.3683829966446991,0.6326942482341069,0.33455289297721846,0.600943856848398,0.5652372333659587,0.6388571694269723,0.5607311332882817\n",
    "8,k_0062_label,primary_topic,62,0.33826793960186297,0.5931643685451574,0.36797311208847316,0.6349646821392533,0.3382625285110353,0.6021507224435417,0.5653424973032566,0.6380064424191283,0.5595750577972479\n",
    "9,k_0070_label,primary_topic,70,0.3459810294741316,0.5943854778141853,0.3703449162200727,0.6465691220988901,0.3443241479312507,0.6084211752241301,0.5711723370680776,0.63863545175157,0.5598712035039742\n",
    "10,k_0080_label,primary_topic,80,0.40386217464843494,0.6340087117644443,0.4044604317655758,0.6632189707366297,0.38849671606946057,0.6339910141919486,0.5803213281222485,0.6564260726341998,0.577419648656207\n",
    "11,k_0090_label,primary_topic,90,0.42615493007717886,0.645477821514172,0.41289893432947766,0.6680121089808274,0.4032112808669569,0.6414317437885179,0.5834126273314906,0.6567152940294144,0.5810722092322408\n",
    "12,k_0092_label,primary_topic,92,0.42647418634583095,0.6461610069545165,0.4135980394748915,0.6692734611503531,0.4033951027910398,0.6417695605459236,0.5842411866668369,0.6575991305573501,0.5816572854478811\n",
    "13,k_0100_label,primary_topic,100,0.4420951610192523,0.6494306454994127,0.4305221546563613,0.6730575176589304,0.41915815649126664,0.6450096808166197,0.5871093122936466,0.6584889352847391,0.5851643146859925\n",
    "14,k_0110_label,primary_topic,110,0.4508711978387056,0.6558410122669128,0.437395293226388,0.6788597376387487,0.42854532993952305,0.652545739233146,0.5872885640633062,0.6608128392840327,0.5875261142862265\n",
    "15,k_0125_label,primary_topic,125,0.4554283553772779,0.656917940397822,0.4461494714264962,0.6846619576185671,0.4366899546263309,0.657060026244786,0.588918317876023,0.6603856016100269,0.589337045161037\n",
    "16,k_0150_label,primary_topic,150,0.5279286342713212,0.6831180508740841,0.4939589721816706,0.6955095862764884,0.49173664382267557,0.6745049152414666,0.5971618576997808,0.6794122224584846,0.6056461342799535\n",
    "17,k_0175_label,primary_topic,175,0.5322183381798214,0.6871948020959623,0.49917218615312636,0.7033299697275479,0.5005079208722945,0.6834352472885595,0.6028586624563061,0.6879137462666625,0.6112194164591204\n",
    "18,k_0200_label,primary_topic,200,0.5449805333774532,0.6917494318010378,0.5096795529290102,0.7078708375378405,0.512392345997014,0.688487198117112,0.6065260940415947,0.6916278732624854,0.616149354070536\n",
    "19,k_0300_label,primary_topic,300,0.5990142153265386,0.7160817527240095,0.5630581994255957,0.731079717457114,0.5683150465260515,0.7148991988885902,0.6210653995968108,0.7015299257873947,0.632765110792565\n",
    "20,k_0400_label,primary_topic,400,0.614481548865005,0.7282804021417887,0.5788966350352317,0.742936427850656,0.5883849411382307,0.7306375044145708,0.632853624859808,0.7186667658798723,0.6460525408309405\n",
    "\"\"\")"
   ]
  },
  {
   "cell_type": "code",
   "execution_count": 65,
   "id": "c234ba8a",
   "metadata": {},
   "outputs": [
    {
     "data": {
      "text/plain": [
       "(20, 13)"
      ]
     },
     "execution_count": 65,
     "metadata": {},
     "output_type": "execute_result"
    }
   ],
   "source": [
    "df_metrics = pd.read_table(sample_csv, sep=',', skip_blank_lines=True)\n",
    "df_metrics.shape"
   ]
  },
  {
   "cell_type": "code",
   "execution_count": 66,
   "id": "4ac187b8",
   "metadata": {},
   "outputs": [
    {
     "data": {
      "text/html": [
       "<div>\n",
       "<style scoped>\n",
       "    .dataframe tbody tr th:only-of-type {\n",
       "        vertical-align: middle;\n",
       "    }\n",
       "\n",
       "    .dataframe tbody tr th {\n",
       "        vertical-align: top;\n",
       "    }\n",
       "\n",
       "    .dataframe thead th {\n",
       "        text-align: right;\n",
       "    }\n",
       "</style>\n",
       "<table border=\"1\" class=\"dataframe\">\n",
       "  <thead>\n",
       "    <tr style=\"text-align: right;\">\n",
       "      <th></th>\n",
       "      <th>Unnamed: 0</th>\n",
       "      <th>predicted_col</th>\n",
       "      <th>truth_col</th>\n",
       "      <th>k</th>\n",
       "      <th>precision-macro_avg</th>\n",
       "      <th>precision-weighted_avg</th>\n",
       "      <th>recall-macro_avg</th>\n",
       "      <th>recall-weighted_avg</th>\n",
       "      <th>f1_score-macro_avg</th>\n",
       "      <th>f1_score-weighted_avg</th>\n",
       "      <th>adjusted_mutual_info_score</th>\n",
       "      <th>adjusted_rand_score</th>\n",
       "      <th>homogeneity_score</th>\n",
       "    </tr>\n",
       "  </thead>\n",
       "  <tbody>\n",
       "    <tr>\n",
       "      <th>0</th>\n",
       "      <td>0</td>\n",
       "      <td>k_0010_label</td>\n",
       "      <td>primary_topic</td>\n",
       "      <td>10</td>\n",
       "      <td>0.051681</td>\n",
       "      <td>0.281772</td>\n",
       "      <td>0.108234</td>\n",
       "      <td>0.433653</td>\n",
       "      <td>0.065056</td>\n",
       "      <td>0.328739</td>\n",
       "      <td>0.401279</td>\n",
       "      <td>0.387483</td>\n",
       "      <td>0.316000</td>\n",
       "    </tr>\n",
       "    <tr>\n",
       "      <th>1</th>\n",
       "      <td>2</td>\n",
       "      <td>k_0020_label</td>\n",
       "      <td>primary_topic</td>\n",
       "      <td>20</td>\n",
       "      <td>0.146066</td>\n",
       "      <td>0.444549</td>\n",
       "      <td>0.206781</td>\n",
       "      <td>0.537084</td>\n",
       "      <td>0.158897</td>\n",
       "      <td>0.471570</td>\n",
       "      <td>0.505877</td>\n",
       "      <td>0.559391</td>\n",
       "      <td>0.449081</td>\n",
       "    </tr>\n",
       "    <tr>\n",
       "      <th>2</th>\n",
       "      <td>3</td>\n",
       "      <td>k_0027_label</td>\n",
       "      <td>primary_topic</td>\n",
       "      <td>27</td>\n",
       "      <td>0.193051</td>\n",
       "      <td>0.470220</td>\n",
       "      <td>0.264928</td>\n",
       "      <td>0.580474</td>\n",
       "      <td>0.212782</td>\n",
       "      <td>0.507909</td>\n",
       "      <td>0.530893</td>\n",
       "      <td>0.560696</td>\n",
       "      <td>0.489012</td>\n",
       "    </tr>\n",
       "    <tr>\n",
       "      <th>3</th>\n",
       "      <td>4</td>\n",
       "      <td>k_0030_label</td>\n",
       "      <td>primary_topic</td>\n",
       "      <td>30</td>\n",
       "      <td>0.192885</td>\n",
       "      <td>0.468124</td>\n",
       "      <td>0.265641</td>\n",
       "      <td>0.581736</td>\n",
       "      <td>0.213460</td>\n",
       "      <td>0.508341</td>\n",
       "      <td>0.532845</td>\n",
       "      <td>0.561330</td>\n",
       "      <td>0.491232</td>\n",
       "    </tr>\n",
       "    <tr>\n",
       "      <th>4</th>\n",
       "      <td>5</td>\n",
       "      <td>k_0040_label</td>\n",
       "      <td>primary_topic</td>\n",
       "      <td>40</td>\n",
       "      <td>0.254867</td>\n",
       "      <td>0.538770</td>\n",
       "      <td>0.311155</td>\n",
       "      <td>0.609233</td>\n",
       "      <td>0.264616</td>\n",
       "      <td>0.557560</td>\n",
       "      <td>0.549714</td>\n",
       "      <td>0.604209</td>\n",
       "      <td>0.522459</td>\n",
       "    </tr>\n",
       "  </tbody>\n",
       "</table>\n",
       "</div>"
      ],
      "text/plain": [
       "   Unnamed: 0 predicted_col      truth_col   k  precision-macro_avg  precision-weighted_avg  recall-macro_avg  recall-weighted_avg  f1_score-macro_avg  f1_score-weighted_avg  adjusted_mutual_info_score  adjusted_rand_score  homogeneity_score\n",
       "0           0  k_0010_label  primary_topic  10             0.051681                0.281772          0.108234             0.433653            0.065056               0.328739                    0.401279             0.387483           0.316000\n",
       "1           2  k_0020_label  primary_topic  20             0.146066                0.444549          0.206781             0.537084            0.158897               0.471570                    0.505877             0.559391           0.449081\n",
       "2           3  k_0027_label  primary_topic  27             0.193051                0.470220          0.264928             0.580474            0.212782               0.507909                    0.530893             0.560696           0.489012\n",
       "3           4  k_0030_label  primary_topic  30             0.192885                0.468124          0.265641             0.581736            0.213460               0.508341                    0.532845             0.561330           0.491232\n",
       "4           5  k_0040_label  primary_topic  40             0.254867                0.538770          0.311155             0.609233            0.264616               0.557560                    0.549714             0.604209           0.522459"
      ]
     },
     "execution_count": 66,
     "metadata": {},
     "output_type": "execute_result"
    }
   ],
   "source": [
    "df_metrics.head()"
   ]
  },
  {
   "cell_type": "code",
   "execution_count": 67,
   "id": "f654b16f",
   "metadata": {},
   "outputs": [
    {
     "data": {
      "text/plain": [
       "['precision-macro_avg',\n",
       " 'precision-weighted_avg',\n",
       " 'recall-macro_avg',\n",
       " 'recall-weighted_avg',\n",
       " 'f1_score-macro_avg',\n",
       " 'f1_score-weighted_avg']"
      ]
     },
     "execution_count": 67,
     "metadata": {},
     "output_type": "execute_result"
    }
   ],
   "source": [
    "metric_cols = [\n",
    "    c for c in df_metrics.columns if\n",
    "    c.endswith('_avg')\n",
    "]\n",
    "metric_cols"
   ]
  },
  {
   "cell_type": "code",
   "execution_count": 68,
   "id": "7820f73a",
   "metadata": {},
   "outputs": [
    {
     "data": {
      "text/plain": [
       "recall-weighted_avg       0.742936\n",
       "f1_score-weighted_avg     0.730638\n",
       "precision-weighted_avg    0.728280\n",
       "precision-macro_avg       0.614482\n",
       "f1_score-macro_avg        0.588385\n",
       "recall-macro_avg          0.578897\n",
       "dtype: float64"
      ]
     },
     "execution_count": 68,
     "metadata": {},
     "output_type": "execute_result"
    }
   ],
   "source": [
    "df_metrics[metric_cols].max().sort_values(ascending=False)"
   ]
  },
  {
   "cell_type": "code",
   "execution_count": 69,
   "id": "d4e934d1",
   "metadata": {},
   "outputs": [
    {
     "data": {
      "text/plain": [
       "['recall-weighted_avg',\n",
       " 'f1_score-weighted_avg',\n",
       " 'precision-weighted_avg',\n",
       " 'precision-macro_avg',\n",
       " 'f1_score-macro_avg',\n",
       " 'recall-macro_avg']"
      ]
     },
     "execution_count": 69,
     "metadata": {},
     "output_type": "execute_result"
    }
   ],
   "source": [
    "df_metrics[metric_cols].max().sort_values(ascending=False).index.to_list()"
   ]
  },
  {
   "cell_type": "code",
   "execution_count": null,
   "id": "d9466651",
   "metadata": {},
   "outputs": [],
   "source": []
  }
 ],
 "metadata": {
  "environment": {
   "name": "common-cpu.m65",
   "type": "gcloud",
   "uri": "gcr.io/deeplearning-platform-release/base-cpu:m65"
  },
  "kernelspec": {
   "display_name": "Python [conda env:root] *",
   "language": "python",
   "name": "conda-root-py"
  },
  "language_info": {
   "codemirror_mode": {
    "name": "ipython",
    "version": 3
   },
   "file_extension": ".py",
   "mimetype": "text/x-python",
   "name": "python",
   "nbconvert_exporter": "python",
   "pygments_lexer": "ipython3",
   "version": "3.7.10"
  }
 },
 "nbformat": 4,
 "nbformat_minor": 5
}
