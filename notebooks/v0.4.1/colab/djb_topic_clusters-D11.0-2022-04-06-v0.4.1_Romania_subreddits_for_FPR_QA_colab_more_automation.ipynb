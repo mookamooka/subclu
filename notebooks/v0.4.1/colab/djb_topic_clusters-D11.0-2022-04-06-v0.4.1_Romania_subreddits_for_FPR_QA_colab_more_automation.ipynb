{
  "cells": [
    {
      "cell_type": "markdown",
      "metadata": {
        "id": "iVZuLSOgZVC8"
      },
      "source": [
        "# Purpose\n",
        "\n",
        "### 2022-04-06\n",
        "In this notebook we'll get the subreddits relevant to a country so that we can do QA (check ratings & subreddit relevance) for an FPR in one Feed.\n",
        "\n",
        "---\n",
        "\n",
        "TODO: Haven't included place logic (e.g., add direction to: city, state, country subreddits.)\n",
        "\n",
        "\n",
        "### Updates\n",
        "2022-02-23:\n",
        "I'm going to automate more of the notebook process into functions:\n",
        "- automate \"optimal\" minimum number of subs to minimize number of orphans\n",
        "- move df_clean creation & column order to a function\n",
        "- update order of columns for cluster dfs\n",
        "\n",
        "2022-02-16: \n",
        "I [David] will update the QA sheet so that we have standardized columns/format. Otherwise it'll be more work for us to wait for country managers to format things and then standardize them after the fact\n",
        "\n"
      ]
    },
    {
      "cell_type": "markdown",
      "metadata": {
        "id": "c2qXnQ5IV9Z7"
      },
      "source": [
        "# Imports & notebook setup"
      ]
    },
    {
      "cell_type": "code",
      "execution_count": 2,
      "metadata": {
        "id": "FmbBk_1pnZtq"
      },
      "outputs": [],
      "source": [
        "%load_ext autoreload\n",
        "%autoreload 2\n",
        "\n",
        "# Register bigquery magic (only needed for laptop/local, not colab)\n",
        "# %load_ext google.cloud.bigquery"
      ]
    },
    {
      "cell_type": "code",
      "source": [
        "# colab auth for BigQuery, google drive, & google sheets (gspread)\n",
        "from google.colab import auth, files, drive\n",
        "from google.auth import default\n",
        "import sys  # need sys for mounting gdrive path\n",
        "\n",
        "auth.authenticate_user()\n",
        "print('Authenticated')"
      ],
      "metadata": {
        "colab": {
          "base_uri": "https://localhost:8080/"
        },
        "id": "SrO13wbPgWFV",
        "outputId": "cb52938f-05e5-436e-b357-c7db4b97764d"
      },
      "execution_count": 3,
      "outputs": [
        {
          "output_type": "stream",
          "name": "stdout",
          "text": [
            "Authenticated\n"
          ]
        }
      ]
    },
    {
      "cell_type": "markdown",
      "source": [
        "## Install custom library"
      ],
      "metadata": {
        "id": "wmEXbiGagokZ"
      }
    },
    {
      "cell_type": "markdown",
      "source": [
        "### Append google drive path so we can install library from there"
      ],
      "metadata": {
        "id": "a2Y4JbSWawcg"
      }
    },
    {
      "cell_type": "code",
      "source": [
        "# Attach google drive & import my python utility functions\n",
        "# if drive.mount() fails, you can also:\n",
        "#   MANUALLY CLICK ON \"Mount Drive\"\n",
        "import sys\n",
        "\n",
        "\n",
        "g_drive_root = '/content/drive'\n",
        "\n",
        "try:\n",
        "    drive.mount(g_drive_root, force_remount=True)\n",
        "    print('   Authenticated & mounted Google Drive')\n",
        "    \n",
        "except Exception as e:\n",
        "    try:\n",
        "        drive._mount(g_drive_root, force_remount=True)\n",
        "        print('   Authenticated & mounted Google Drive')\n",
        "    except Exception as e:\n",
        "        print(e)\n",
        "        raise Exception('You might need to manually mount google drive to colab')\n",
        "\n",
        "l_paths_to_append = [\n",
        "    f'{g_drive_root}/MyDrive/Colab Notebooks',\n",
        "\n",
        "    # need to append the path to subclu so that colab can import things properly\n",
        "    f'{g_drive_root}/MyDrive/Colab Notebooks/subreddit_clustering_i18n'\n",
        "]\n",
        "for path_ in l_paths_to_append:\n",
        "    if path_ in sys.path:\n",
        "        sys.path.remove(path_)\n",
        "    print(f\" Appending path: {path_}\")\n",
        "    sys.path.append(path_)"
      ],
      "metadata": {
        "colab": {
          "base_uri": "https://localhost:8080/"
        },
        "id": "rRg2ZhSag0Tl",
        "outputId": "fdc450b5-c770-4643-986c-d481b0a6cab3"
      },
      "execution_count": 4,
      "outputs": [
        {
          "output_type": "stream",
          "name": "stdout",
          "text": [
            "Mounted at /content/drive\n",
            "   Authenticated & mounted Google Drive\n",
            " Appending path: /content/drive/MyDrive/Colab Notebooks\n",
            " Appending path: /content/drive/MyDrive/Colab Notebooks/subreddit_clustering_i18n\n"
          ]
        }
      ]
    },
    {
      "cell_type": "markdown",
      "source": [
        "### Install library"
      ],
      "metadata": {
        "id": "Dbe6b4s1a2Eg"
      }
    },
    {
      "cell_type": "code",
      "source": [
        "# install subclu & libraries needed to read parquet files from GCS & spreadsheets\n",
        "#  make sure to use the [colab] `extra` because it includes colab-specific libraries\n",
        "module_path = f\"{g_drive_root}/MyDrive/Colab Notebooks/subreddit_clustering_i18n/[colab]\"\n",
        "\n",
        "!pip install -e $\"$module_path\" --quiet"
      ],
      "metadata": {
        "id": "7fvxItkqhdPJ",
        "colab": {
          "base_uri": "https://localhost:8080/"
        },
        "outputId": "3c9a969f-041f-4c38-a364-3af89f532452"
      },
      "execution_count": 5,
      "outputs": [
        {
          "output_type": "stream",
          "name": "stdout",
          "text": [
            "\u001b[K     |████████████████████████████████| 10.1 MB 5.2 MB/s \n",
            "\u001b[K     |████████████████████████████████| 14.2 MB 32.7 MB/s \n",
            "\u001b[K     |████████████████████████████████| 965 kB 61.6 MB/s \n",
            "\u001b[K     |████████████████████████████████| 144 kB 62.9 MB/s \n",
            "\u001b[K     |████████████████████████████████| 76 kB 4.3 MB/s \n",
            "\u001b[K     |████████████████████████████████| 285 kB 56.8 MB/s \n",
            "\u001b[K     |████████████████████████████████| 13.2 MB 38.2 MB/s \n",
            "\u001b[K     |████████████████████████████████| 79.9 MB 83 kB/s \n",
            "\u001b[K     |████████████████████████████████| 136 kB 45.2 MB/s \n",
            "\u001b[K     |████████████████████████████████| 715 kB 45.8 MB/s \n",
            "\u001b[K     |████████████████████████████████| 74 kB 3.1 MB/s \n",
            "\u001b[K     |████████████████████████████████| 112 kB 43.9 MB/s \n",
            "\u001b[K     |████████████████████████████████| 62 kB 626 kB/s \n",
            "\u001b[K     |████████████████████████████████| 79 kB 5.4 MB/s \n",
            "\u001b[K     |████████████████████████████████| 181 kB 55.6 MB/s \n",
            "\u001b[K     |████████████████████████████████| 1.1 MB 48.0 MB/s \n",
            "\u001b[K     |████████████████████████████████| 146 kB 52.1 MB/s \n",
            "\u001b[K     |████████████████████████████████| 596 kB 65.7 MB/s \n",
            "\u001b[K     |████████████████████████████████| 78 kB 4.5 MB/s \n",
            "\u001b[K     |████████████████████████████████| 54 kB 2.2 MB/s \n",
            "\u001b[K     |████████████████████████████████| 1.1 MB 45.2 MB/s \n",
            "\u001b[K     |████████████████████████████████| 271 kB 46.9 MB/s \n",
            "\u001b[K     |████████████████████████████████| 144 kB 49.2 MB/s \n",
            "\u001b[K     |████████████████████████████████| 94 kB 2.7 MB/s \n",
            "\u001b[K     |████████████████████████████████| 63 kB 1.3 MB/s \n",
            "\u001b[?25h  Building wheel for antlr4-python3-runtime (setup.py) ... \u001b[?25l\u001b[?25hdone\n",
            "  Building wheel for alembic (setup.py) ... \u001b[?25l\u001b[?25hdone\n",
            "  Building wheel for databricks-cli (setup.py) ... \u001b[?25l\u001b[?25hdone\n",
            "  Building wheel for retrying (setup.py) ... \u001b[?25l\u001b[?25hdone\n",
            "\u001b[31mERROR: pip's dependency resolver does not currently take into account all the packages that are installed. This behaviour is the source of the following dependency conflicts.\n",
            "gym 0.17.3 requires cloudpickle<1.7.0,>=1.2.0, but you have cloudpickle 2.0.0 which is incompatible.\u001b[0m\n"
          ]
        }
      ]
    },
    {
      "cell_type": "markdown",
      "source": [
        "## Regular Imports"
      ],
      "metadata": {
        "id": "5Z4XllVxgiXa"
      }
    },
    {
      "cell_type": "code",
      "execution_count": 6,
      "metadata": {
        "id": "9TpWbXh5mzew"
      },
      "outputs": [],
      "source": [
        "import os\n",
        "from datetime import datetime\n",
        "\n",
        "from google.cloud import bigquery\n",
        "\n",
        "import matplotlib.pyplot as plt\n",
        "import pandas as pd\n",
        "import numpy as np\n",
        "import seaborn as sns\n",
        "from matplotlib_venn import venn2_unweighted, venn3_unweighted\n",
        "from tqdm import tqdm\n",
        "\n",
        "# auth for google sheets\n",
        "import gspread\n",
        "\n",
        "\n",
        "creds_, _ = default()\n",
        "gc = gspread.authorize(creds_)\n",
        "\n",
        "# os.environ['GOOGLE_CLOUD_PROJECT'] = 'data-science-prod-218515'\n",
        "os.environ['GOOGLE_CLOUD_PROJECT'] = 'data-prod-165221'"
      ]
    },
    {
      "cell_type": "markdown",
      "source": [
        "## Custom imports"
      ],
      "metadata": {
        "id": "Zvb0NK8waSE_"
      }
    },
    {
      "cell_type": "code",
      "execution_count": 7,
      "metadata": {
        "colab": {
          "base_uri": "https://localhost:8080/"
        },
        "id": "Cj_y2KtccJ8P",
        "outputId": "c2fa594d-802d-47e1-9c98-a19e3c33eb8b"
      },
      "outputs": [
        {
          "output_type": "stream",
          "name": "stdout",
          "text": [
            "python\t\tv 3.7.13\n",
            "===\n",
            "gspread\t\tv: 4.0.1\n",
            "pandas\t\tv: 1.3.5\n",
            "numpy\t\tv: 1.21.5\n"
          ]
        }
      ],
      "source": [
        "# subclu imports\n",
        "import subclu\n",
        "from subclu.utils.eda import (\n",
        "    setup_logging, counts_describe, value_counts_and_pcts,\n",
        "    notebook_display_config, print_lib_versions,\n",
        "    style_df_numeric, reorder_array,\n",
        ")\n",
        "from subclu.models.clustering_utils import (\n",
        "    create_dynamic_clusters,\n",
        "    convert_distance_or_ab_to_list_for_fpr,\n",
        "    reshape_df_to_get_1_cluster_per_row,\n",
        "    get_primary_topic_mix_cols,\n",
        "    create_dynamic_clusters_clean,\n",
        ")\n",
        "\n",
        "from subclu.models.reshape_clusters_v041 import (\n",
        "    keep_only_target_labels,\n",
        "    get_table_for_optimal_dynamic_cluster_params,\n",
        "    get_dynamic_cluster_summary,\n",
        "    flag_mature_clusters_to_exclude_from_qa,\n",
        ")\n",
        "\n",
        "\n",
        "setup_logging()\n",
        "notebook_display_config()\n",
        "print_lib_versions([gspread, pd, np])"
      ]
    },
    {
      "cell_type": "markdown",
      "source": [
        "# Checklist to re-run for a country:\n",
        "\n",
        "- change country name for google sheet name\n",
        "- change country initial in google sheet\n",
        "    - add google sheet KEY (after created)\n",
        "- change country name in geo-relevance query"
      ],
      "metadata": {
        "id": "S1idpDdg_ABj"
      }
    },
    {
      "cell_type": "markdown",
      "source": [
        "## Create google sheet for country outputs\n"
      ],
      "metadata": {
        "id": "HDIXrEUcrjYf"
      }
    },
    {
      "cell_type": "code",
      "source": [
        "%%time\n",
        "\n",
        "country_name_sheet_ = 'Romania'\n",
        "target_abbrev_ = 'RO'\n",
        "GSHEET_KEY = '1smqquMCr5bV15S8eY12HG6ubAZ0kPPoAcCJDsE2F508'\n",
        "GSHEET_NAME = f'i18n {country_name_sheet_} subreddits and clusters - model v0.4.1'\n",
        "\n",
        "\n",
        "d_wsh_names = {\n",
        "    'qa_ready': {\n",
        "        'name': 'subs_need_to_be_rated',\n",
        "    },\n",
        "    'clusters_t2t_list_raw': {\n",
        "        'name': f'raw_clusters_list_{target_abbrev_}_{target_abbrev_}',\n",
        "    },\n",
        "    'clusters_t2t_fpr_after_qa': {\n",
        "        'name': f'fpr_clusters_after_qa_{target_abbrev_}_{target_abbrev_}',\n",
        "    },\n",
        "    'sub_raw': {\n",
        "        'name': 'raw_data_per_subreddit',\n",
        "    },\n",
        "    # 'clusters_t2t_fpr_raw': {\n",
        "    #     'name': f'raw_clusters_fpr_{target_abbrev_}_{target_abbrev_}',\n",
        "    # },\n",
        "}\n",
        "\n",
        "if GSHEET_KEY is not None:\n",
        "    sh = gc.open_by_key(GSHEET_KEY)\n",
        "    print(f\"Opening google worksheet: {GSHEET_NAME} ...\")\n",
        "else:\n",
        "    print(f\"** Creating google worksheet: {GSHEET_NAME} ...\")\n",
        "    sh = gc.create(GSHEET_NAME)\n",
        "\n",
        "# create worksheets:\n",
        "for _, d_ in d_wsh_names.items():\n",
        "    sh_name = d_['name']\n",
        "    try:\n",
        "        d_['worksheet'] = sh.worksheet(sh_name)\n",
        "        print(f\"  Opening tab/sheet: {sh_name} ...\")\n",
        "    except Exception as e:\n",
        "        print(f\"  ** Creating tab/sheet: {sh_name} ...\")\n",
        "        d_['worksheet'] = sh.add_worksheet(sh_name, rows=5, cols=5)\n",
        "\n",
        "if GSHEET_KEY is None:\n",
        "    print(f\"\\n*** New sheet ID (assign it to GSHEET_KEY variable): ***\\n{sh.id}\\n\")"
      ],
      "metadata": {
        "id": "FtpvngbKrBU3",
        "colab": {
          "base_uri": "https://localhost:8080/"
        },
        "outputId": "b434a35b-021f-4dce-950e-04341b948a9c"
      },
      "execution_count": 8,
      "outputs": [
        {
          "output_type": "stream",
          "name": "stdout",
          "text": [
            "Opening google worksheet: i18n Romania subreddits and clusters - model v0.4.1 ...\n",
            "  Opening tab/sheet: subs_need_to_be_rated ...\n",
            "  Opening tab/sheet: raw_clusters_list_RO_RO ...\n",
            "  Opening tab/sheet: fpr_clusters_after_qa_RO_RO ...\n",
            "  Opening tab/sheet: raw_data_per_subreddit ...\n",
            "CPU times: user 65.6 ms, sys: 5.16 ms, total: 70.8 ms\n",
            "Wall time: 1.06 s\n"
          ]
        }
      ]
    },
    {
      "cell_type": "markdown",
      "source": [
        "# Load data from BigQuery"
      ],
      "metadata": {
        "id": "pL6PhLRiSdLM"
      }
    },
    {
      "cell_type": "markdown",
      "metadata": {
        "id": "VPakPmo0qYJl"
      },
      "source": [
        "## Load subreddit geo-relevance & cultural relevance metadata\n",
        "\n",
        "This data is already in bigQuery so read it straight from there. We'll use it to filter out geo-relevant (German) subs.\n",
        "\n",
        "Also add the latest ratings so that we can filter based on those.\n",
        "\n",
        "English-speaking countries don't have ambassador subs right now, so we should be able to create a standard template and replace the country name for these queries."
      ]
    },
    {
      "cell_type": "markdown",
      "metadata": {
        "id": "_2Fiuvi36DBx"
      },
      "source": [
        "### SQL geo & cultural"
      ]
    },
    {
      "cell_type": "code",
      "execution_count": 9,
      "metadata": {
        "code_folding": [
          8
        ],
        "colab": {
          "base_uri": "https://localhost:8080/"
        },
        "id": "5ol96QlxqpY4",
        "outputId": "a5386455-e800-402d-e1ed-4b0705fbce7c"
      },
      "outputs": [
        {
          "output_type": "stream",
          "name": "stdout",
          "text": [
            "CPU times: user 239 ms, sys: 29.6 ms, total: 268 ms\n",
            "Wall time: 9.75 s\n"
          ]
        }
      ],
      "source": [
        "%%time\n",
        "%%bigquery df_geo_and_lang --project data-science-prod-218515 \n",
        "\n",
        "-- Select geo+cultural subreddits for a target country\n",
        "--  And add latest rating & over_18 flags to exclude X-rated & over_18\n",
        "DECLARE TARGET_COUNTRY STRING DEFAULT 'Romania';\n",
        "DECLARE MIN_COUNTRY_STANDARDIZED_RELEVANCE NUMERIC DEFAULT 3.0;\n",
        "\n",
        "\n",
        "SELECT\n",
        "    s.* EXCEPT(over_18, pt, verdict) \n",
        "    , nt.rating_name\n",
        "    , nt.primary_topic\n",
        "    , nt.rating_short\n",
        "    , slo.over_18\n",
        "    , slo.allow_discovery\n",
        "    , CASE \n",
        "        WHEN(COALESCE(slo.over_18, 'f') = 't') THEN 'over_18_or_X_M_D_V'\n",
        "        WHEN(COALESCE(nt.rating_short, '') IN ('X', 'M', 'D', 'V')) THEN 'over_18_or_X_M_D_V'\n",
        "        ELSE 'unrated_or_E'\n",
        "    END AS grouped_rating\n",
        "\n",
        "FROM `reddit-employee-datasets.david_bermejo.subclu_v0041_subreddit_clusters_c_a` AS t\n",
        "    -- Inner join b/c we only want to keep subs that are geo-relevant AND in topic model\n",
        "    INNER JOIN (\n",
        "        SELECT *\n",
        "        FROM `reddit-employee-datasets.david_bermejo.subclu_subreddit_geo_score_standardized_20220212`\n",
        "        WHERE country_name = TARGET_COUNTRY\n",
        "    ) AS s\n",
        "        ON t.subreddit_id = s.subreddit_id\n",
        "\n",
        "    -- Add rating so we can get an estimate for how many we can actually use for recommendation\n",
        "    LEFT JOIN (\n",
        "        SELECT *\n",
        "        FROM `data-prod-165221.ds_v2_postgres_tables.subreddit_lookup`\n",
        "        -- Get latest partition\n",
        "        WHERE dt = DATE(CURRENT_DATE() - 2)\n",
        "    ) AS slo\n",
        "    ON s.subreddit_id = slo.subreddit_id\n",
        "    LEFT JOIN (\n",
        "        SELECT * FROM `data-prod-165221.cnc.shredded_crowdsource_topic_and_rating`\n",
        "        WHERE pt = DATE(CURRENT_DATE() - 2)\n",
        "    ) AS nt\n",
        "        ON s.subreddit_id = nt.subreddit_id\n",
        "\n",
        "    -- Exclude popular US subreddits\n",
        "    -- Can't query this table from local notebook because of errors getting google drive permissions. smh, excludefor now\n",
        "    LEFT JOIN `reddit-employee-datasets.david_bermejo.subclu_subreddits_top_us_to_exclude_from_relevance` tus\n",
        "        ON s.subreddit_name = LOWER(tus.subreddit_name)\n",
        "\n",
        "WHERE 1=1\n",
        "    AND s.subreddit_name != 'profile'\n",
        "    AND COALESCE(s.type, '') = 'public'\n",
        "    AND COALESCE(s.verdict, 'f') <> 'admin_removed'\n",
        "    AND COALESCE(slo.over_18, 'f') = 'f'\n",
        "    AND COALESCE(nt.rating_short, '') NOT IN ('X', 'D')\n",
        "\n",
        "    AND(\n",
        "        s.geo_relevance_default = TRUE\n",
        "        OR s.relevance_percent_by_subreddit = TRUE\n",
        "        OR s.e_users_percent_by_country_standardized >= MIN_COUNTRY_STANDARDIZED_RELEVANCE\n",
        "    )\n",
        "    AND country_name IN (\n",
        "            TARGET_COUNTRY\n",
        "        )\n",
        "\n",
        "    AND (\n",
        "         -- Exclude subs that are top in US but we want to exclude as culturally relevant\n",
        "         --  For simplicity, let's go with the English exclusion (more relaxed) than the non-English one\n",
        "         COALESCE(tus.english_exclude_from_relevance, '') <> 'exclude'\n",
        "    )\n",
        "\n",
        "ORDER BY e_users_percent_by_country_standardized DESC, users_l7 DESC, subreddit_name\n",
        ";"
      ]
    },
    {
      "cell_type": "markdown",
      "metadata": {
        "id": "BoF8BvPw6HNk"
      },
      "source": [
        "### Check df with geo + language information"
      ]
    },
    {
      "cell_type": "code",
      "source": [
        "print(df_geo_and_lang.shape)"
      ],
      "metadata": {
        "id": "wtS-3EivvIXG",
        "colab": {
          "base_uri": "https://localhost:8080/"
        },
        "outputId": "4aff99e8-690f-4ffb-eb1f-2172ae6c9555"
      },
      "execution_count": 10,
      "outputs": [
        {
          "output_type": "stream",
          "name": "stdout",
          "text": [
            "(83, 26)\n"
          ]
        }
      ]
    },
    {
      "cell_type": "code",
      "execution_count": 11,
      "metadata": {
        "id": "w3z0gXGEAxCE",
        "colab": {
          "base_uri": "https://localhost:8080/",
          "height": 238
        },
        "outputId": "c47f5e83-97b5-4a08-e39b-5110ec43751c"
      },
      "outputs": [
        {
          "output_type": "execute_result",
          "data": {
            "text/plain": [
              "  subreddit_id     subreddit_name country_name  geo_relevance_default  b_users_percent_by_subreddit  e_users_percent_by_country_standardized  c_users_percent_by_country  d_users_percent_by_country_rank  relevance_percent_by_subreddit\n",
              "0     t5_2qm35            romania      Romania                  False                      0.541680                                10.569148                    0.107762                                1                            True\n",
              "1    t5_2bb1nb  romanianhotcelebs      Romania                  False                      0.643518                                10.016344                    0.015672                                9                            True\n",
              "2     t5_jrd51      elrondnetwork      Romania                  False                      0.232289                                 8.818964                    0.001082                              684                            True\n",
              "3    t5_31h4ca               egld      Romania                  False                      0.247499                                 8.260017                    0.000872                              893                            True"
            ],
            "text/html": [
              "\n",
              "  <div id=\"df-50d12b5e-b16c-4e7c-bce2-464ce7061e35\">\n",
              "    <div class=\"colab-df-container\">\n",
              "      <div>\n",
              "<style scoped>\n",
              "    .dataframe tbody tr th:only-of-type {\n",
              "        vertical-align: middle;\n",
              "    }\n",
              "\n",
              "    .dataframe tbody tr th {\n",
              "        vertical-align: top;\n",
              "    }\n",
              "\n",
              "    .dataframe thead th {\n",
              "        text-align: right;\n",
              "    }\n",
              "</style>\n",
              "<table border=\"1\" class=\"dataframe\">\n",
              "  <thead>\n",
              "    <tr style=\"text-align: right;\">\n",
              "      <th></th>\n",
              "      <th>subreddit_id</th>\n",
              "      <th>subreddit_name</th>\n",
              "      <th>country_name</th>\n",
              "      <th>geo_relevance_default</th>\n",
              "      <th>b_users_percent_by_subreddit</th>\n",
              "      <th>e_users_percent_by_country_standardized</th>\n",
              "      <th>c_users_percent_by_country</th>\n",
              "      <th>d_users_percent_by_country_rank</th>\n",
              "      <th>relevance_percent_by_subreddit</th>\n",
              "    </tr>\n",
              "  </thead>\n",
              "  <tbody>\n",
              "    <tr>\n",
              "      <th>0</th>\n",
              "      <td>t5_2qm35</td>\n",
              "      <td>romania</td>\n",
              "      <td>Romania</td>\n",
              "      <td>False</td>\n",
              "      <td>0.541680</td>\n",
              "      <td>10.569148</td>\n",
              "      <td>0.107762</td>\n",
              "      <td>1</td>\n",
              "      <td>True</td>\n",
              "    </tr>\n",
              "    <tr>\n",
              "      <th>1</th>\n",
              "      <td>t5_2bb1nb</td>\n",
              "      <td>romanianhotcelebs</td>\n",
              "      <td>Romania</td>\n",
              "      <td>False</td>\n",
              "      <td>0.643518</td>\n",
              "      <td>10.016344</td>\n",
              "      <td>0.015672</td>\n",
              "      <td>9</td>\n",
              "      <td>True</td>\n",
              "    </tr>\n",
              "    <tr>\n",
              "      <th>2</th>\n",
              "      <td>t5_jrd51</td>\n",
              "      <td>elrondnetwork</td>\n",
              "      <td>Romania</td>\n",
              "      <td>False</td>\n",
              "      <td>0.232289</td>\n",
              "      <td>8.818964</td>\n",
              "      <td>0.001082</td>\n",
              "      <td>684</td>\n",
              "      <td>True</td>\n",
              "    </tr>\n",
              "    <tr>\n",
              "      <th>3</th>\n",
              "      <td>t5_31h4ca</td>\n",
              "      <td>egld</td>\n",
              "      <td>Romania</td>\n",
              "      <td>False</td>\n",
              "      <td>0.247499</td>\n",
              "      <td>8.260017</td>\n",
              "      <td>0.000872</td>\n",
              "      <td>893</td>\n",
              "      <td>True</td>\n",
              "    </tr>\n",
              "  </tbody>\n",
              "</table>\n",
              "</div>\n",
              "      <button class=\"colab-df-convert\" onclick=\"convertToInteractive('df-50d12b5e-b16c-4e7c-bce2-464ce7061e35')\"\n",
              "              title=\"Convert this dataframe to an interactive table.\"\n",
              "              style=\"display:none;\">\n",
              "        \n",
              "  <svg xmlns=\"http://www.w3.org/2000/svg\" height=\"24px\"viewBox=\"0 0 24 24\"\n",
              "       width=\"24px\">\n",
              "    <path d=\"M0 0h24v24H0V0z\" fill=\"none\"/>\n",
              "    <path d=\"M18.56 5.44l.94 2.06.94-2.06 2.06-.94-2.06-.94-.94-2.06-.94 2.06-2.06.94zm-11 1L8.5 8.5l.94-2.06 2.06-.94-2.06-.94L8.5 2.5l-.94 2.06-2.06.94zm10 10l.94 2.06.94-2.06 2.06-.94-2.06-.94-.94-2.06-.94 2.06-2.06.94z\"/><path d=\"M17.41 7.96l-1.37-1.37c-.4-.4-.92-.59-1.43-.59-.52 0-1.04.2-1.43.59L10.3 9.45l-7.72 7.72c-.78.78-.78 2.05 0 2.83L4 21.41c.39.39.9.59 1.41.59.51 0 1.02-.2 1.41-.59l7.78-7.78 2.81-2.81c.8-.78.8-2.07 0-2.86zM5.41 20L4 18.59l7.72-7.72 1.47 1.35L5.41 20z\"/>\n",
              "  </svg>\n",
              "      </button>\n",
              "      \n",
              "  <style>\n",
              "    .colab-df-container {\n",
              "      display:flex;\n",
              "      flex-wrap:wrap;\n",
              "      gap: 12px;\n",
              "    }\n",
              "\n",
              "    .colab-df-convert {\n",
              "      background-color: #E8F0FE;\n",
              "      border: none;\n",
              "      border-radius: 50%;\n",
              "      cursor: pointer;\n",
              "      display: none;\n",
              "      fill: #1967D2;\n",
              "      height: 32px;\n",
              "      padding: 0 0 0 0;\n",
              "      width: 32px;\n",
              "    }\n",
              "\n",
              "    .colab-df-convert:hover {\n",
              "      background-color: #E2EBFA;\n",
              "      box-shadow: 0px 1px 2px rgba(60, 64, 67, 0.3), 0px 1px 3px 1px rgba(60, 64, 67, 0.15);\n",
              "      fill: #174EA6;\n",
              "    }\n",
              "\n",
              "    [theme=dark] .colab-df-convert {\n",
              "      background-color: #3B4455;\n",
              "      fill: #D2E3FC;\n",
              "    }\n",
              "\n",
              "    [theme=dark] .colab-df-convert:hover {\n",
              "      background-color: #434B5C;\n",
              "      box-shadow: 0px 1px 3px 1px rgba(0, 0, 0, 0.15);\n",
              "      filter: drop-shadow(0px 1px 2px rgba(0, 0, 0, 0.3));\n",
              "      fill: #FFFFFF;\n",
              "    }\n",
              "  </style>\n",
              "\n",
              "      <script>\n",
              "        const buttonEl =\n",
              "          document.querySelector('#df-50d12b5e-b16c-4e7c-bce2-464ce7061e35 button.colab-df-convert');\n",
              "        buttonEl.style.display =\n",
              "          google.colab.kernel.accessAllowed ? 'block' : 'none';\n",
              "\n",
              "        async function convertToInteractive(key) {\n",
              "          const element = document.querySelector('#df-50d12b5e-b16c-4e7c-bce2-464ce7061e35');\n",
              "          const dataTable =\n",
              "            await google.colab.kernel.invokeFunction('convertToInteractive',\n",
              "                                                     [key], {});\n",
              "          if (!dataTable) return;\n",
              "\n",
              "          const docLinkHtml = 'Like what you see? Visit the ' +\n",
              "            '<a target=\"_blank\" href=https://colab.research.google.com/notebooks/data_table.ipynb>data table notebook</a>'\n",
              "            + ' to learn more about interactive tables.';\n",
              "          element.innerHTML = '';\n",
              "          dataTable['output_type'] = 'display_data';\n",
              "          await google.colab.output.renderOutput(dataTable, element);\n",
              "          const docLink = document.createElement('div');\n",
              "          docLink.innerHTML = docLinkHtml;\n",
              "          element.appendChild(docLink);\n",
              "        }\n",
              "      </script>\n",
              "    </div>\n",
              "  </div>\n",
              "  "
            ]
          },
          "metadata": {},
          "execution_count": 11
        }
      ],
      "source": [
        "df_geo_and_lang.iloc[:4, :9]"
      ]
    },
    {
      "cell_type": "markdown",
      "metadata": {
        "id": "fxGerF5qHVwY"
      },
      "source": [
        "## Load model labels (clusters)\n",
        "\n",
        "The clusters now live in a Big Query table and have standardized names, so pull the data from there."
      ]
    },
    {
      "cell_type": "markdown",
      "metadata": {
        "id": "tSv6LeEZWdTk"
      },
      "source": [
        "### SQL labels\n"
      ]
    },
    {
      "cell_type": "code",
      "execution_count": 12,
      "metadata": {
        "id": "NuuTkoAYWguD",
        "colab": {
          "base_uri": "https://localhost:8080/"
        },
        "outputId": "fd5a3be4-d7be-4a84-a180-5800751b219c"
      },
      "outputs": [
        {
          "output_type": "stream",
          "name": "stdout",
          "text": [
            "CPU times: user 8.59 s, sys: 568 ms, total: 9.15 s\n",
            "Wall time: 24.4 s\n"
          ]
        }
      ],
      "source": [
        "%%time\n",
        "%%bigquery df_labels --project data-science-prod-218515 \n",
        "\n",
        "-- select subreddit clusters from bigQuery\n",
        "\n",
        "SELECT\n",
        "    sc.subreddit_id\n",
        "    , sc.subreddit_name\n",
        "    , nt.primary_topic\n",
        "\n",
        "    , sc.* EXCEPT(subreddit_id, subreddit_name, primary_topic_1214)\n",
        "FROM `reddit-employee-datasets.david_bermejo.subclu_v0041_subreddit_clusters_c_a` sc\n",
        "    LEFT JOIN (\n",
        "        -- New view should be visible to all, but still comes from cnc_taxonomy_cassandra_sync\n",
        "        SELECT * FROM `data-prod-165221.cnc.shredded_crowdsource_topic_and_rating`\n",
        "        WHERE DATE(pt) = (CURRENT_DATE() - 2)\n",
        "    ) AS nt\n",
        "        ON sc.subreddit_id = nt.subreddit_id\n",
        ";"
      ]
    },
    {
      "cell_type": "markdown",
      "source": [
        "### Check label outputs"
      ],
      "metadata": {
        "id": "OaN0YJ7NS_Co"
      }
    },
    {
      "cell_type": "code",
      "execution_count": 13,
      "metadata": {
        "id": "ZEsStpOHXcaK",
        "colab": {
          "base_uri": "https://localhost:8080/",
          "height": 256
        },
        "outputId": "509517b0-289e-4653-c04e-91daf65cdce2"
      },
      "outputs": [
        {
          "output_type": "stream",
          "name": "stdout",
          "text": [
            "(49558, 51)\n"
          ]
        },
        {
          "output_type": "execute_result",
          "data": {
            "text/plain": [
              "  subreddit_id   subreddit_name primary_topic  model_sort_order  posts_for_modeling_count  k_0013_label  k_0023_label  k_0041_label  k_0059_label\n",
              "0    t5_5a9iie       progonlydj          None             40079                      1000            12            19            34            49\n",
              "1     t5_2x9c7  googleplaymusic         Music             40080                        31            12            19            34            49\n",
              "2     t5_3jzsk           ravedj         Music             40081                      1000            12            19            34            49\n",
              "3     t5_2rgie    happyhardcore         Music             40082                       152            12            19            34            49"
            ],
            "text/html": [
              "\n",
              "  <div id=\"df-6c85bb03-26ab-4979-af5e-d55902786830\">\n",
              "    <div class=\"colab-df-container\">\n",
              "      <div>\n",
              "<style scoped>\n",
              "    .dataframe tbody tr th:only-of-type {\n",
              "        vertical-align: middle;\n",
              "    }\n",
              "\n",
              "    .dataframe tbody tr th {\n",
              "        vertical-align: top;\n",
              "    }\n",
              "\n",
              "    .dataframe thead th {\n",
              "        text-align: right;\n",
              "    }\n",
              "</style>\n",
              "<table border=\"1\" class=\"dataframe\">\n",
              "  <thead>\n",
              "    <tr style=\"text-align: right;\">\n",
              "      <th></th>\n",
              "      <th>subreddit_id</th>\n",
              "      <th>subreddit_name</th>\n",
              "      <th>primary_topic</th>\n",
              "      <th>model_sort_order</th>\n",
              "      <th>posts_for_modeling_count</th>\n",
              "      <th>k_0013_label</th>\n",
              "      <th>k_0023_label</th>\n",
              "      <th>k_0041_label</th>\n",
              "      <th>k_0059_label</th>\n",
              "    </tr>\n",
              "  </thead>\n",
              "  <tbody>\n",
              "    <tr>\n",
              "      <th>0</th>\n",
              "      <td>t5_5a9iie</td>\n",
              "      <td>progonlydj</td>\n",
              "      <td>None</td>\n",
              "      <td>40079</td>\n",
              "      <td>1000</td>\n",
              "      <td>12</td>\n",
              "      <td>19</td>\n",
              "      <td>34</td>\n",
              "      <td>49</td>\n",
              "    </tr>\n",
              "    <tr>\n",
              "      <th>1</th>\n",
              "      <td>t5_2x9c7</td>\n",
              "      <td>googleplaymusic</td>\n",
              "      <td>Music</td>\n",
              "      <td>40080</td>\n",
              "      <td>31</td>\n",
              "      <td>12</td>\n",
              "      <td>19</td>\n",
              "      <td>34</td>\n",
              "      <td>49</td>\n",
              "    </tr>\n",
              "    <tr>\n",
              "      <th>2</th>\n",
              "      <td>t5_3jzsk</td>\n",
              "      <td>ravedj</td>\n",
              "      <td>Music</td>\n",
              "      <td>40081</td>\n",
              "      <td>1000</td>\n",
              "      <td>12</td>\n",
              "      <td>19</td>\n",
              "      <td>34</td>\n",
              "      <td>49</td>\n",
              "    </tr>\n",
              "    <tr>\n",
              "      <th>3</th>\n",
              "      <td>t5_2rgie</td>\n",
              "      <td>happyhardcore</td>\n",
              "      <td>Music</td>\n",
              "      <td>40082</td>\n",
              "      <td>152</td>\n",
              "      <td>12</td>\n",
              "      <td>19</td>\n",
              "      <td>34</td>\n",
              "      <td>49</td>\n",
              "    </tr>\n",
              "  </tbody>\n",
              "</table>\n",
              "</div>\n",
              "      <button class=\"colab-df-convert\" onclick=\"convertToInteractive('df-6c85bb03-26ab-4979-af5e-d55902786830')\"\n",
              "              title=\"Convert this dataframe to an interactive table.\"\n",
              "              style=\"display:none;\">\n",
              "        \n",
              "  <svg xmlns=\"http://www.w3.org/2000/svg\" height=\"24px\"viewBox=\"0 0 24 24\"\n",
              "       width=\"24px\">\n",
              "    <path d=\"M0 0h24v24H0V0z\" fill=\"none\"/>\n",
              "    <path d=\"M18.56 5.44l.94 2.06.94-2.06 2.06-.94-2.06-.94-.94-2.06-.94 2.06-2.06.94zm-11 1L8.5 8.5l.94-2.06 2.06-.94-2.06-.94L8.5 2.5l-.94 2.06-2.06.94zm10 10l.94 2.06.94-2.06 2.06-.94-2.06-.94-.94-2.06-.94 2.06-2.06.94z\"/><path d=\"M17.41 7.96l-1.37-1.37c-.4-.4-.92-.59-1.43-.59-.52 0-1.04.2-1.43.59L10.3 9.45l-7.72 7.72c-.78.78-.78 2.05 0 2.83L4 21.41c.39.39.9.59 1.41.59.51 0 1.02-.2 1.41-.59l7.78-7.78 2.81-2.81c.8-.78.8-2.07 0-2.86zM5.41 20L4 18.59l7.72-7.72 1.47 1.35L5.41 20z\"/>\n",
              "  </svg>\n",
              "      </button>\n",
              "      \n",
              "  <style>\n",
              "    .colab-df-container {\n",
              "      display:flex;\n",
              "      flex-wrap:wrap;\n",
              "      gap: 12px;\n",
              "    }\n",
              "\n",
              "    .colab-df-convert {\n",
              "      background-color: #E8F0FE;\n",
              "      border: none;\n",
              "      border-radius: 50%;\n",
              "      cursor: pointer;\n",
              "      display: none;\n",
              "      fill: #1967D2;\n",
              "      height: 32px;\n",
              "      padding: 0 0 0 0;\n",
              "      width: 32px;\n",
              "    }\n",
              "\n",
              "    .colab-df-convert:hover {\n",
              "      background-color: #E2EBFA;\n",
              "      box-shadow: 0px 1px 2px rgba(60, 64, 67, 0.3), 0px 1px 3px 1px rgba(60, 64, 67, 0.15);\n",
              "      fill: #174EA6;\n",
              "    }\n",
              "\n",
              "    [theme=dark] .colab-df-convert {\n",
              "      background-color: #3B4455;\n",
              "      fill: #D2E3FC;\n",
              "    }\n",
              "\n",
              "    [theme=dark] .colab-df-convert:hover {\n",
              "      background-color: #434B5C;\n",
              "      box-shadow: 0px 1px 3px 1px rgba(0, 0, 0, 0.15);\n",
              "      filter: drop-shadow(0px 1px 2px rgba(0, 0, 0, 0.3));\n",
              "      fill: #FFFFFF;\n",
              "    }\n",
              "  </style>\n",
              "\n",
              "      <script>\n",
              "        const buttonEl =\n",
              "          document.querySelector('#df-6c85bb03-26ab-4979-af5e-d55902786830 button.colab-df-convert');\n",
              "        buttonEl.style.display =\n",
              "          google.colab.kernel.accessAllowed ? 'block' : 'none';\n",
              "\n",
              "        async function convertToInteractive(key) {\n",
              "          const element = document.querySelector('#df-6c85bb03-26ab-4979-af5e-d55902786830');\n",
              "          const dataTable =\n",
              "            await google.colab.kernel.invokeFunction('convertToInteractive',\n",
              "                                                     [key], {});\n",
              "          if (!dataTable) return;\n",
              "\n",
              "          const docLinkHtml = 'Like what you see? Visit the ' +\n",
              "            '<a target=\"_blank\" href=https://colab.research.google.com/notebooks/data_table.ipynb>data table notebook</a>'\n",
              "            + ' to learn more about interactive tables.';\n",
              "          element.innerHTML = '';\n",
              "          dataTable['output_type'] = 'display_data';\n",
              "          await google.colab.output.renderOutput(dataTable, element);\n",
              "          const docLink = document.createElement('div');\n",
              "          docLink.innerHTML = docLinkHtml;\n",
              "          element.appendChild(docLink);\n",
              "        }\n",
              "      </script>\n",
              "    </div>\n",
              "  </div>\n",
              "  "
            ]
          },
          "metadata": {},
          "execution_count": 13
        }
      ],
      "source": [
        "print(df_labels.shape)\n",
        "df_labels.iloc[:4, :9]"
      ]
    },
    {
      "cell_type": "code",
      "execution_count": 14,
      "metadata": {
        "id": "JqEYFP-uC4jv",
        "scrolled": true,
        "colab": {
          "base_uri": "https://localhost:8080/",
          "height": 331
        },
        "outputId": "eaad4b6e-53b8-44e8-898d-70a4f0a78f4f"
      },
      "outputs": [
        {
          "output_type": "execute_result",
          "data": {
            "text/plain": [
              "<pandas.io.formats.style.Styler at 0x7fa7d523d5d0>"
            ],
            "text/html": [
              "<style type=\"text/css\">\n",
              "</style>\n",
              "<table id=\"T_b5063_\" class=\"dataframe\">\n",
              "  <thead>\n",
              "    <tr>\n",
              "      <th class=\"blank level0\" >&nbsp;</th>\n",
              "      <th class=\"col_heading level0 col0\" >dtype</th>\n",
              "      <th class=\"col_heading level0 col1\" >count</th>\n",
              "      <th class=\"col_heading level0 col2\" >unique</th>\n",
              "      <th class=\"col_heading level0 col3\" >unique-percent</th>\n",
              "      <th class=\"col_heading level0 col4\" >null-count</th>\n",
              "      <th class=\"col_heading level0 col5\" >null-percent</th>\n",
              "    </tr>\n",
              "  </thead>\n",
              "  <tbody>\n",
              "    <tr>\n",
              "      <th id=\"T_b5063_level0_row0\" class=\"row_heading level0 row0\" >subreddit_id</th>\n",
              "      <td id=\"T_b5063_row0_col0\" class=\"data row0 col0\" >object</td>\n",
              "      <td id=\"T_b5063_row0_col1\" class=\"data row0 col1\" >49,558</td>\n",
              "      <td id=\"T_b5063_row0_col2\" class=\"data row0 col2\" >49,558</td>\n",
              "      <td id=\"T_b5063_row0_col3\" class=\"data row0 col3\" >100.00%</td>\n",
              "      <td id=\"T_b5063_row0_col4\" class=\"data row0 col4\" >0</td>\n",
              "      <td id=\"T_b5063_row0_col5\" class=\"data row0 col5\" >0.00%</td>\n",
              "    </tr>\n",
              "    <tr>\n",
              "      <th id=\"T_b5063_level0_row1\" class=\"row_heading level0 row1\" >subreddit_name</th>\n",
              "      <td id=\"T_b5063_row1_col0\" class=\"data row1 col0\" >object</td>\n",
              "      <td id=\"T_b5063_row1_col1\" class=\"data row1 col1\" >49,558</td>\n",
              "      <td id=\"T_b5063_row1_col2\" class=\"data row1 col2\" >49,558</td>\n",
              "      <td id=\"T_b5063_row1_col3\" class=\"data row1 col3\" >100.00%</td>\n",
              "      <td id=\"T_b5063_row1_col4\" class=\"data row1 col4\" >0</td>\n",
              "      <td id=\"T_b5063_row1_col5\" class=\"data row1 col5\" >0.00%</td>\n",
              "    </tr>\n",
              "    <tr>\n",
              "      <th id=\"T_b5063_level0_row2\" class=\"row_heading level0 row2\" >primary_topic</th>\n",
              "      <td id=\"T_b5063_row2_col0\" class=\"data row2 col0\" >object</td>\n",
              "      <td id=\"T_b5063_row2_col1\" class=\"data row2 col1\" >41,366</td>\n",
              "      <td id=\"T_b5063_row2_col2\" class=\"data row2 col2\" >52</td>\n",
              "      <td id=\"T_b5063_row2_col3\" class=\"data row2 col3\" >0.13%</td>\n",
              "      <td id=\"T_b5063_row2_col4\" class=\"data row2 col4\" >8,192</td>\n",
              "      <td id=\"T_b5063_row2_col5\" class=\"data row2 col5\" >16.53%</td>\n",
              "    </tr>\n",
              "    <tr>\n",
              "      <th id=\"T_b5063_level0_row3\" class=\"row_heading level0 row3\" >model_sort_order</th>\n",
              "      <td id=\"T_b5063_row3_col0\" class=\"data row3 col0\" >int64</td>\n",
              "      <td id=\"T_b5063_row3_col1\" class=\"data row3 col1\" >49,558</td>\n",
              "      <td id=\"T_b5063_row3_col2\" class=\"data row3 col2\" >49,558</td>\n",
              "      <td id=\"T_b5063_row3_col3\" class=\"data row3 col3\" >100.00%</td>\n",
              "      <td id=\"T_b5063_row3_col4\" class=\"data row3 col4\" >0</td>\n",
              "      <td id=\"T_b5063_row3_col5\" class=\"data row3 col5\" >0.00%</td>\n",
              "    </tr>\n",
              "    <tr>\n",
              "      <th id=\"T_b5063_level0_row4\" class=\"row_heading level0 row4\" >posts_for_modeling_count</th>\n",
              "      <td id=\"T_b5063_row4_col0\" class=\"data row4 col0\" >int64</td>\n",
              "      <td id=\"T_b5063_row4_col1\" class=\"data row4 col1\" >49,558</td>\n",
              "      <td id=\"T_b5063_row4_col2\" class=\"data row4 col2\" >999</td>\n",
              "      <td id=\"T_b5063_row4_col3\" class=\"data row4 col3\" >2.02%</td>\n",
              "      <td id=\"T_b5063_row4_col4\" class=\"data row4 col4\" >0</td>\n",
              "      <td id=\"T_b5063_row4_col5\" class=\"data row4 col5\" >0.00%</td>\n",
              "    </tr>\n",
              "    <tr>\n",
              "      <th id=\"T_b5063_level0_row5\" class=\"row_heading level0 row5\" >k_0013_label</th>\n",
              "      <td id=\"T_b5063_row5_col0\" class=\"data row5 col0\" >int64</td>\n",
              "      <td id=\"T_b5063_row5_col1\" class=\"data row5 col1\" >49,558</td>\n",
              "      <td id=\"T_b5063_row5_col2\" class=\"data row5 col2\" >13</td>\n",
              "      <td id=\"T_b5063_row5_col3\" class=\"data row5 col3\" >0.03%</td>\n",
              "      <td id=\"T_b5063_row5_col4\" class=\"data row5 col4\" >0</td>\n",
              "      <td id=\"T_b5063_row5_col5\" class=\"data row5 col5\" >0.00%</td>\n",
              "    </tr>\n",
              "    <tr>\n",
              "      <th id=\"T_b5063_level0_row6\" class=\"row_heading level0 row6\" >k_0023_label</th>\n",
              "      <td id=\"T_b5063_row6_col0\" class=\"data row6 col0\" >int64</td>\n",
              "      <td id=\"T_b5063_row6_col1\" class=\"data row6 col1\" >49,558</td>\n",
              "      <td id=\"T_b5063_row6_col2\" class=\"data row6 col2\" >23</td>\n",
              "      <td id=\"T_b5063_row6_col3\" class=\"data row6 col3\" >0.05%</td>\n",
              "      <td id=\"T_b5063_row6_col4\" class=\"data row6 col4\" >0</td>\n",
              "      <td id=\"T_b5063_row6_col5\" class=\"data row6 col5\" >0.00%</td>\n",
              "    </tr>\n",
              "    <tr>\n",
              "      <th id=\"T_b5063_level0_row7\" class=\"row_heading level0 row7\" >k_0041_label</th>\n",
              "      <td id=\"T_b5063_row7_col0\" class=\"data row7 col0\" >int64</td>\n",
              "      <td id=\"T_b5063_row7_col1\" class=\"data row7 col1\" >49,558</td>\n",
              "      <td id=\"T_b5063_row7_col2\" class=\"data row7 col2\" >41</td>\n",
              "      <td id=\"T_b5063_row7_col3\" class=\"data row7 col3\" >0.08%</td>\n",
              "      <td id=\"T_b5063_row7_col4\" class=\"data row7 col4\" >0</td>\n",
              "      <td id=\"T_b5063_row7_col5\" class=\"data row7 col5\" >0.00%</td>\n",
              "    </tr>\n",
              "    <tr>\n",
              "      <th id=\"T_b5063_level0_row8\" class=\"row_heading level0 row8\" >k_0059_label</th>\n",
              "      <td id=\"T_b5063_row8_col0\" class=\"data row8 col0\" >int64</td>\n",
              "      <td id=\"T_b5063_row8_col1\" class=\"data row8 col1\" >49,558</td>\n",
              "      <td id=\"T_b5063_row8_col2\" class=\"data row8 col2\" >59</td>\n",
              "      <td id=\"T_b5063_row8_col3\" class=\"data row8 col3\" >0.12%</td>\n",
              "      <td id=\"T_b5063_row8_col4\" class=\"data row8 col4\" >0</td>\n",
              "      <td id=\"T_b5063_row8_col5\" class=\"data row8 col5\" >0.00%</td>\n",
              "    </tr>\n",
              "  </tbody>\n",
              "</table>\n"
            ]
          },
          "metadata": {},
          "execution_count": 14
        }
      ],
      "source": [
        "counts_describe(df_labels.iloc[:, :9])"
      ]
    },
    {
      "cell_type": "markdown",
      "source": [
        "# Reshape data\n",
        "Apply reshaping fxns so that we can export the data in a format that's good for QA."
      ],
      "metadata": {
        "id": "LIqEDyj3TFG8"
      }
    },
    {
      "cell_type": "markdown",
      "metadata": {
        "id": "z5okNIcHEKj-"
      },
      "source": [
        "## Keep only labels for Target subreddits\n"
      ]
    },
    {
      "cell_type": "code",
      "source": [
        "%%time\n",
        "df_labels_target = keep_only_target_labels(\n",
        "    df_labels=df_labels,\n",
        "    df_geo=df_geo_and_lang,\n",
        "    col_sort_order='model_sort_order',\n",
        "    l_ix_subs=['subreddit_id', 'subreddit_name'],\n",
        "    l_cols_to_front=None,\n",
        "    geo_cols_to_drop=None,\n",
        ")"
      ],
      "metadata": {
        "id": "ofe_NkI0TS1B",
        "colab": {
          "base_uri": "https://localhost:8080/"
        },
        "outputId": "adb1fae1-e6f1-4d8f-84ae-377b7e2b22b4"
      },
      "execution_count": 15,
      "outputs": [
        {
          "output_type": "stream",
          "name": "stdout",
          "text": [
            "0 <- subs to drop b/c they're not in model\n",
            "(83, 74) <- df_labels_target.shape\n",
            "CPU times: user 215 ms, sys: 3.8 ms, total: 219 ms\n",
            "Wall time: 217 ms\n"
          ]
        }
      ]
    },
    {
      "cell_type": "code",
      "source": [
        "counts_describe(df_labels_target.iloc[:, :15])"
      ],
      "metadata": {
        "id": "FWD1wSD7TSyu",
        "colab": {
          "base_uri": "https://localhost:8080/",
          "height": 0
        },
        "outputId": "42286436-6232-4898-e649-9f1ec909c58a"
      },
      "execution_count": 16,
      "outputs": [
        {
          "output_type": "execute_result",
          "data": {
            "text/plain": [
              "<pandas.io.formats.style.Styler at 0x7fa7eae0d910>"
            ],
            "text/html": [
              "<style type=\"text/css\">\n",
              "</style>\n",
              "<table id=\"T_2ab0d_\" class=\"dataframe\">\n",
              "  <thead>\n",
              "    <tr>\n",
              "      <th class=\"blank level0\" >&nbsp;</th>\n",
              "      <th class=\"col_heading level0 col0\" >dtype</th>\n",
              "      <th class=\"col_heading level0 col1\" >count</th>\n",
              "      <th class=\"col_heading level0 col2\" >unique</th>\n",
              "      <th class=\"col_heading level0 col3\" >unique-percent</th>\n",
              "      <th class=\"col_heading level0 col4\" >null-count</th>\n",
              "      <th class=\"col_heading level0 col5\" >null-percent</th>\n",
              "    </tr>\n",
              "  </thead>\n",
              "  <tbody>\n",
              "    <tr>\n",
              "      <th id=\"T_2ab0d_level0_row0\" class=\"row_heading level0 row0\" >model_sort_order</th>\n",
              "      <td id=\"T_2ab0d_row0_col0\" class=\"data row0 col0\" >int64</td>\n",
              "      <td id=\"T_2ab0d_row0_col1\" class=\"data row0 col1\" >83</td>\n",
              "      <td id=\"T_2ab0d_row0_col2\" class=\"data row0 col2\" >83</td>\n",
              "      <td id=\"T_2ab0d_row0_col3\" class=\"data row0 col3\" >100.00%</td>\n",
              "      <td id=\"T_2ab0d_row0_col4\" class=\"data row0 col4\" >0</td>\n",
              "      <td id=\"T_2ab0d_row0_col5\" class=\"data row0 col5\" >0.00%</td>\n",
              "    </tr>\n",
              "    <tr>\n",
              "      <th id=\"T_2ab0d_level0_row1\" class=\"row_heading level0 row1\" >subreddit_id</th>\n",
              "      <td id=\"T_2ab0d_row1_col0\" class=\"data row1 col0\" >object</td>\n",
              "      <td id=\"T_2ab0d_row1_col1\" class=\"data row1 col1\" >83</td>\n",
              "      <td id=\"T_2ab0d_row1_col2\" class=\"data row1 col2\" >83</td>\n",
              "      <td id=\"T_2ab0d_row1_col3\" class=\"data row1 col3\" >100.00%</td>\n",
              "      <td id=\"T_2ab0d_row1_col4\" class=\"data row1 col4\" >0</td>\n",
              "      <td id=\"T_2ab0d_row1_col5\" class=\"data row1 col5\" >0.00%</td>\n",
              "    </tr>\n",
              "    <tr>\n",
              "      <th id=\"T_2ab0d_level0_row2\" class=\"row_heading level0 row2\" >subreddit_name</th>\n",
              "      <td id=\"T_2ab0d_row2_col0\" class=\"data row2 col0\" >object</td>\n",
              "      <td id=\"T_2ab0d_row2_col1\" class=\"data row2 col1\" >83</td>\n",
              "      <td id=\"T_2ab0d_row2_col2\" class=\"data row2 col2\" >83</td>\n",
              "      <td id=\"T_2ab0d_row2_col3\" class=\"data row2 col3\" >100.00%</td>\n",
              "      <td id=\"T_2ab0d_row2_col4\" class=\"data row2 col4\" >0</td>\n",
              "      <td id=\"T_2ab0d_row2_col5\" class=\"data row2 col5\" >0.00%</td>\n",
              "    </tr>\n",
              "    <tr>\n",
              "      <th id=\"T_2ab0d_level0_row3\" class=\"row_heading level0 row3\" >primary_topic</th>\n",
              "      <td id=\"T_2ab0d_row3_col0\" class=\"data row3 col0\" >object</td>\n",
              "      <td id=\"T_2ab0d_row3_col1\" class=\"data row3 col1\" >65</td>\n",
              "      <td id=\"T_2ab0d_row3_col2\" class=\"data row3 col2\" >24</td>\n",
              "      <td id=\"T_2ab0d_row3_col3\" class=\"data row3 col3\" >36.92%</td>\n",
              "      <td id=\"T_2ab0d_row3_col4\" class=\"data row3 col4\" >18</td>\n",
              "      <td id=\"T_2ab0d_row3_col5\" class=\"data row3 col5\" >21.69%</td>\n",
              "    </tr>\n",
              "    <tr>\n",
              "      <th id=\"T_2ab0d_level0_row4\" class=\"row_heading level0 row4\" >rating_short</th>\n",
              "      <td id=\"T_2ab0d_row4_col0\" class=\"data row4 col0\" >object</td>\n",
              "      <td id=\"T_2ab0d_row4_col1\" class=\"data row4 col1\" >81</td>\n",
              "      <td id=\"T_2ab0d_row4_col2\" class=\"data row4 col2\" >3</td>\n",
              "      <td id=\"T_2ab0d_row4_col3\" class=\"data row4 col3\" >3.70%</td>\n",
              "      <td id=\"T_2ab0d_row4_col4\" class=\"data row4 col4\" >2</td>\n",
              "      <td id=\"T_2ab0d_row4_col5\" class=\"data row4 col5\" >2.41%</td>\n",
              "    </tr>\n",
              "    <tr>\n",
              "      <th id=\"T_2ab0d_level0_row5\" class=\"row_heading level0 row5\" >over_18</th>\n",
              "      <td id=\"T_2ab0d_row5_col0\" class=\"data row5 col0\" >object</td>\n",
              "      <td id=\"T_2ab0d_row5_col1\" class=\"data row5 col1\" >24</td>\n",
              "      <td id=\"T_2ab0d_row5_col2\" class=\"data row5 col2\" >1</td>\n",
              "      <td id=\"T_2ab0d_row5_col3\" class=\"data row5 col3\" >4.17%</td>\n",
              "      <td id=\"T_2ab0d_row5_col4\" class=\"data row5 col4\" >59</td>\n",
              "      <td id=\"T_2ab0d_row5_col5\" class=\"data row5 col5\" >71.08%</td>\n",
              "    </tr>\n",
              "    <tr>\n",
              "      <th id=\"T_2ab0d_level0_row6\" class=\"row_heading level0 row6\" >rating_name</th>\n",
              "      <td id=\"T_2ab0d_row6_col0\" class=\"data row6 col0\" >object</td>\n",
              "      <td id=\"T_2ab0d_row6_col1\" class=\"data row6 col1\" >81</td>\n",
              "      <td id=\"T_2ab0d_row6_col2\" class=\"data row6 col2\" >3</td>\n",
              "      <td id=\"T_2ab0d_row6_col3\" class=\"data row6 col3\" >3.70%</td>\n",
              "      <td id=\"T_2ab0d_row6_col4\" class=\"data row6 col4\" >2</td>\n",
              "      <td id=\"T_2ab0d_row6_col5\" class=\"data row6 col5\" >2.41%</td>\n",
              "    </tr>\n",
              "    <tr>\n",
              "      <th id=\"T_2ab0d_level0_row7\" class=\"row_heading level0 row7\" >posts_for_modeling_count</th>\n",
              "      <td id=\"T_2ab0d_row7_col0\" class=\"data row7 col0\" >int64</td>\n",
              "      <td id=\"T_2ab0d_row7_col1\" class=\"data row7 col1\" >83</td>\n",
              "      <td id=\"T_2ab0d_row7_col2\" class=\"data row7 col2\" >69</td>\n",
              "      <td id=\"T_2ab0d_row7_col3\" class=\"data row7 col3\" >83.13%</td>\n",
              "      <td id=\"T_2ab0d_row7_col4\" class=\"data row7 col4\" >0</td>\n",
              "      <td id=\"T_2ab0d_row7_col5\" class=\"data row7 col5\" >0.00%</td>\n",
              "    </tr>\n",
              "    <tr>\n",
              "      <th id=\"T_2ab0d_level0_row8\" class=\"row_heading level0 row8\" >k_0013_label</th>\n",
              "      <td id=\"T_2ab0d_row8_col0\" class=\"data row8 col0\" >int64</td>\n",
              "      <td id=\"T_2ab0d_row8_col1\" class=\"data row8 col1\" >83</td>\n",
              "      <td id=\"T_2ab0d_row8_col2\" class=\"data row8 col2\" >11</td>\n",
              "      <td id=\"T_2ab0d_row8_col3\" class=\"data row8 col3\" >13.25%</td>\n",
              "      <td id=\"T_2ab0d_row8_col4\" class=\"data row8 col4\" >0</td>\n",
              "      <td id=\"T_2ab0d_row8_col5\" class=\"data row8 col5\" >0.00%</td>\n",
              "    </tr>\n",
              "    <tr>\n",
              "      <th id=\"T_2ab0d_level0_row9\" class=\"row_heading level0 row9\" >k_0023_label</th>\n",
              "      <td id=\"T_2ab0d_row9_col0\" class=\"data row9 col0\" >int64</td>\n",
              "      <td id=\"T_2ab0d_row9_col1\" class=\"data row9 col1\" >83</td>\n",
              "      <td id=\"T_2ab0d_row9_col2\" class=\"data row9 col2\" >16</td>\n",
              "      <td id=\"T_2ab0d_row9_col3\" class=\"data row9 col3\" >19.28%</td>\n",
              "      <td id=\"T_2ab0d_row9_col4\" class=\"data row9 col4\" >0</td>\n",
              "      <td id=\"T_2ab0d_row9_col5\" class=\"data row9 col5\" >0.00%</td>\n",
              "    </tr>\n",
              "    <tr>\n",
              "      <th id=\"T_2ab0d_level0_row10\" class=\"row_heading level0 row10\" >k_0041_label</th>\n",
              "      <td id=\"T_2ab0d_row10_col0\" class=\"data row10 col0\" >int64</td>\n",
              "      <td id=\"T_2ab0d_row10_col1\" class=\"data row10 col1\" >83</td>\n",
              "      <td id=\"T_2ab0d_row10_col2\" class=\"data row10 col2\" >22</td>\n",
              "      <td id=\"T_2ab0d_row10_col3\" class=\"data row10 col3\" >26.51%</td>\n",
              "      <td id=\"T_2ab0d_row10_col4\" class=\"data row10 col4\" >0</td>\n",
              "      <td id=\"T_2ab0d_row10_col5\" class=\"data row10 col5\" >0.00%</td>\n",
              "    </tr>\n",
              "    <tr>\n",
              "      <th id=\"T_2ab0d_level0_row11\" class=\"row_heading level0 row11\" >k_0059_label</th>\n",
              "      <td id=\"T_2ab0d_row11_col0\" class=\"data row11 col0\" >int64</td>\n",
              "      <td id=\"T_2ab0d_row11_col1\" class=\"data row11 col1\" >83</td>\n",
              "      <td id=\"T_2ab0d_row11_col2\" class=\"data row11 col2\" >31</td>\n",
              "      <td id=\"T_2ab0d_row11_col3\" class=\"data row11 col3\" >37.35%</td>\n",
              "      <td id=\"T_2ab0d_row11_col4\" class=\"data row11 col4\" >0</td>\n",
              "      <td id=\"T_2ab0d_row11_col5\" class=\"data row11 col5\" >0.00%</td>\n",
              "    </tr>\n",
              "    <tr>\n",
              "      <th id=\"T_2ab0d_level0_row12\" class=\"row_heading level0 row12\" >k_0063_label</th>\n",
              "      <td id=\"T_2ab0d_row12_col0\" class=\"data row12 col0\" >int64</td>\n",
              "      <td id=\"T_2ab0d_row12_col1\" class=\"data row12 col1\" >83</td>\n",
              "      <td id=\"T_2ab0d_row12_col2\" class=\"data row12 col2\" >31</td>\n",
              "      <td id=\"T_2ab0d_row12_col3\" class=\"data row12 col3\" >37.35%</td>\n",
              "      <td id=\"T_2ab0d_row12_col4\" class=\"data row12 col4\" >0</td>\n",
              "      <td id=\"T_2ab0d_row12_col5\" class=\"data row12 col5\" >0.00%</td>\n",
              "    </tr>\n",
              "    <tr>\n",
              "      <th id=\"T_2ab0d_level0_row13\" class=\"row_heading level0 row13\" >k_0079_label</th>\n",
              "      <td id=\"T_2ab0d_row13_col0\" class=\"data row13 col0\" >int64</td>\n",
              "      <td id=\"T_2ab0d_row13_col1\" class=\"data row13 col1\" >83</td>\n",
              "      <td id=\"T_2ab0d_row13_col2\" class=\"data row13 col2\" >35</td>\n",
              "      <td id=\"T_2ab0d_row13_col3\" class=\"data row13 col3\" >42.17%</td>\n",
              "      <td id=\"T_2ab0d_row13_col4\" class=\"data row13 col4\" >0</td>\n",
              "      <td id=\"T_2ab0d_row13_col5\" class=\"data row13 col5\" >0.00%</td>\n",
              "    </tr>\n",
              "    <tr>\n",
              "      <th id=\"T_2ab0d_level0_row14\" class=\"row_heading level0 row14\" >k_0085_label</th>\n",
              "      <td id=\"T_2ab0d_row14_col0\" class=\"data row14 col0\" >int64</td>\n",
              "      <td id=\"T_2ab0d_row14_col1\" class=\"data row14 col1\" >83</td>\n",
              "      <td id=\"T_2ab0d_row14_col2\" class=\"data row14 col2\" >36</td>\n",
              "      <td id=\"T_2ab0d_row14_col3\" class=\"data row14 col3\" >43.37%</td>\n",
              "      <td id=\"T_2ab0d_row14_col4\" class=\"data row14 col4\" >0</td>\n",
              "      <td id=\"T_2ab0d_row14_col5\" class=\"data row14 col5\" >0.00%</td>\n",
              "    </tr>\n",
              "  </tbody>\n",
              "</table>\n"
            ]
          },
          "metadata": {},
          "execution_count": 16
        }
      ]
    },
    {
      "cell_type": "markdown",
      "source": [
        "## Run loop to find \"optimal\" min_num of subreddits for dynamic clusters\n",
        "\n",
        "\n",
        "We want to balance two things:\n",
        "- prevent orphan subreddits\n",
        "- prevent clusters that are too large to be meaningful\n",
        "\n",
        "In order to do this at a country level, we'll be better off starting with smallest cluster size and roll up until we have at least N subreddits in one cluster.\n",
        "\n",
        "Find optimal `min_subreddits_in_cluster` based on:\n",
        "- `orphan count`, \n",
        "- `number of clusters`,\n",
        "- & other info\n",
        "\n",
        "number might be different for each country and even within a country it might differ by when we filter NSFW subs."
      ],
      "metadata": {
        "id": "UeV7utIJTgPm"
      }
    },
    {
      "cell_type": "code",
      "source": [
        "col_new_cluster_val = 'cluster_label'\n",
        "col_new_cluster_name = 'cluster_label_k'\n",
        "col_new_cluster_prim_topic = 'cluster_majority_primary_topic'\n",
        "col_new_cluster_topic_mix = 'cluster_topic_mix'"
      ],
      "metadata": {
        "id": "GvTMTmGyyum1"
      },
      "execution_count": 17,
      "outputs": []
    },
    {
      "cell_type": "markdown",
      "source": [
        "### Loop"
      ],
      "metadata": {
        "id": "Zji-HUH0M1Qa"
      }
    },
    {
      "cell_type": "code",
      "source": [
        "%%time\n",
        "\n",
        "df_optimal_min_check, n_min_subs_in_cluster_optimal = get_table_for_optimal_dynamic_cluster_params(\n",
        "        df_labels_target=df_labels_target,\n",
        "        col_new_cluster_val=col_new_cluster_val,\n",
        "        col_new_cluster_name=col_new_cluster_name,\n",
        "        col_new_cluster_prim_topic=col_new_cluster_prim_topic,\n",
        "        col_new_cluster_topic_mix=col_new_cluster_topic_mix,\n",
        "        min_subs_in_cluster_list=np.arange(3, 11),\n",
        "        verbose=False,\n",
        "        return_optimal_min_subs_in_cluster=True,\n",
        ")"
      ],
      "metadata": {
        "id": "6qx3HSwCTSwY",
        "colab": {
          "base_uri": "https://localhost:8080/"
        },
        "outputId": "39c2f7ca-d46b-487c-bd2b-c9b6cfb220f8"
      },
      "execution_count": 18,
      "outputs": [
        {
          "output_type": "stream",
          "name": "stderr",
          "text": [
            "  0%|          | 0/8 [00:00<?, ?it/s]\n",
            "  0%|          | 0/16 [00:00<?, ?it/s]\u001b[A\n",
            " 31%|███▏      | 5/16 [00:00<00:00, 41.23it/s]\u001b[A\n",
            " 62%|██████▎   | 10/16 [00:00<00:00, 39.30it/s]\u001b[A\n",
            "100%|██████████| 16/16 [00:00<00:00, 38.77it/s]\n",
            "\n",
            "100%|██████████| 21/21 [00:00<00:00, 238.71it/s]\n",
            " 12%|█▎        | 1/8 [00:00<00:05,  1.27it/s]\n",
            "  0%|          | 0/16 [00:00<?, ?it/s]\u001b[A\n",
            " 31%|███▏      | 5/16 [00:00<00:00, 47.49it/s]\u001b[A\n",
            " 62%|██████▎   | 10/16 [00:00<00:00, 44.19it/s]\u001b[A\n",
            "100%|██████████| 16/16 [00:00<00:00, 42.47it/s]\n",
            "\n",
            "100%|██████████| 21/21 [00:00<00:00, 221.90it/s]\n",
            " 25%|██▌       | 2/8 [00:01<00:04,  1.32it/s]\n",
            "  0%|          | 0/16 [00:00<?, ?it/s]\u001b[A\n",
            " 31%|███▏      | 5/16 [00:00<00:00, 45.30it/s]\u001b[A\n",
            " 62%|██████▎   | 10/16 [00:00<00:00, 42.47it/s]\u001b[A\n",
            "100%|██████████| 16/16 [00:00<00:00, 40.84it/s]\n",
            "\n",
            "100%|██████████| 21/21 [00:00<00:00, 228.89it/s]\n",
            " 38%|███▊      | 3/8 [00:02<00:03,  1.31it/s]\n",
            "  0%|          | 0/16 [00:00<?, ?it/s]\u001b[A\n",
            " 31%|███▏      | 5/16 [00:00<00:00, 49.64it/s]\u001b[A\n",
            " 62%|██████▎   | 10/16 [00:00<00:00, 41.22it/s]\u001b[A\n",
            "100%|██████████| 16/16 [00:00<00:00, 40.82it/s]\n",
            "\n",
            "100%|██████████| 21/21 [00:00<00:00, 219.66it/s]\n",
            " 50%|█████     | 4/8 [00:03<00:03,  1.29it/s]\n",
            "  0%|          | 0/16 [00:00<?, ?it/s]\u001b[A\n",
            " 31%|███▏      | 5/16 [00:00<00:00, 47.27it/s]\u001b[A\n",
            " 62%|██████▎   | 10/16 [00:00<00:00, 45.87it/s]\u001b[A\n",
            "100%|██████████| 16/16 [00:00<00:00, 44.36it/s]\n",
            "\n",
            "100%|██████████| 21/21 [00:00<00:00, 213.33it/s]\n",
            " 62%|██████▎   | 5/8 [00:03<00:02,  1.31it/s]\n",
            "  0%|          | 0/16 [00:00<?, ?it/s]\u001b[A\n",
            " 31%|███▏      | 5/16 [00:00<00:00, 46.51it/s]\u001b[A\n",
            " 62%|██████▎   | 10/16 [00:00<00:00, 46.66it/s]\u001b[A\n",
            "100%|██████████| 16/16 [00:00<00:00, 43.67it/s]\n",
            "\n",
            "  0%|          | 0/21 [00:00<?, ?it/s]\u001b[A\n",
            "100%|██████████| 21/21 [00:00<00:00, 167.21it/s]\n",
            " 75%|███████▌  | 6/8 [00:04<00:01,  1.31it/s]\n",
            "  0%|          | 0/16 [00:00<?, ?it/s]\u001b[A\n",
            " 31%|███▏      | 5/16 [00:00<00:00, 47.35it/s]\u001b[A\n",
            " 62%|██████▎   | 10/16 [00:00<00:00, 44.89it/s]\u001b[A\n",
            "100%|██████████| 16/16 [00:00<00:00, 40.31it/s]\n",
            "\n",
            "100%|██████████| 21/21 [00:00<00:00, 213.57it/s]\n",
            " 88%|████████▊ | 7/8 [00:05<00:00,  1.28it/s]\n",
            "  0%|          | 0/16 [00:00<?, ?it/s]\u001b[A\n",
            " 25%|██▌       | 4/16 [00:00<00:00, 35.23it/s]\u001b[A\n",
            " 50%|█████     | 8/16 [00:00<00:00, 35.97it/s]\u001b[A\n",
            "100%|██████████| 16/16 [00:00<00:00, 38.19it/s]\n",
            "\n",
            "100%|██████████| 21/21 [00:00<00:00, 212.27it/s]\n",
            "100%|██████████| 8/8 [00:06<00:00,  1.29it/s]\n"
          ]
        },
        {
          "output_type": "stream",
          "name": "stdout",
          "text": [
            "CPU times: user 6.07 s, sys: 150 ms, total: 6.22 s\n",
            "Wall time: 6.34 s\n"
          ]
        }
      ]
    },
    {
      "cell_type": "code",
      "source": [
        "assert (\n",
        "    n_min_subs_in_cluster_optimal == df_optimal_min_check.loc[\n",
        "        df_optimal_min_check['num_orphan_subreddits'] == df_optimal_min_check['num_orphan_subreddits'].min(),\n",
        "        'min_subreddits_in_cluster'\n",
        "    ].values[0]\n",
        ")"
      ],
      "metadata": {
        "id": "THR5ZdhDujgG"
      },
      "execution_count": 19,
      "outputs": []
    },
    {
      "cell_type": "code",
      "source": [
        "df_optimal_min_check"
      ],
      "metadata": {
        "colab": {
          "base_uri": "https://localhost:8080/",
          "height": 0
        },
        "id": "nDWKcPbwaIpv",
        "outputId": "95db0c96-9751-4d30-ef03-adbcb51ec32c"
      },
      "execution_count": 20,
      "outputs": [
        {
          "output_type": "execute_result",
          "data": {
            "text/plain": [
              "   subs_to_cluster_count  min_subreddits_in_cluster  cluster_count  num_orphan_subreddits  num_subreddits_per_cluster_min  num_subreddits_per_cluster_mean  num_subreddits_per_cluster_median  num_subreddits_per_cluster_max  num_clusters_with_mature_primary_topic cluster_ids_with_orphans\n",
              "0                     83                          3             22                      4                               1                         3.772727                                4.0                              13                                       3   0001, 0002, 0005, 0009\n",
              "1                     83                          4             17                      3                               1                         4.882353                                5.0                              13                                       4         0001, 0002, 0005\n",
              "2                     83                          5             16                      3                               1                         5.187500                                5.5                              13                                       4         0001, 0002, 0005\n",
              "3                     83                          6             15                      3                               1                         5.533333                                6.0                              13                                       3         0001, 0002, 0005\n",
              "4                     83                          7             15                      3                               1                         5.533333                                6.0                              13                                       3         0001, 0002, 0005\n",
              "5                     83                          8             14                      3                               1                         5.928571                                5.5                              13                                       3         0001, 0002, 0005\n",
              "6                     83                          9             13                      3                               1                         6.384615                                5.0                              19                                       3         0001, 0002, 0005\n",
              "7                     83                         10             13                      3                               1                         6.384615                                5.0                              19                                       3         0001, 0002, 0005"
            ],
            "text/html": [
              "\n",
              "  <div id=\"df-8d50ed18-946f-4b90-aa22-7ff061504582\">\n",
              "    <div class=\"colab-df-container\">\n",
              "      <div>\n",
              "<style scoped>\n",
              "    .dataframe tbody tr th:only-of-type {\n",
              "        vertical-align: middle;\n",
              "    }\n",
              "\n",
              "    .dataframe tbody tr th {\n",
              "        vertical-align: top;\n",
              "    }\n",
              "\n",
              "    .dataframe thead th {\n",
              "        text-align: right;\n",
              "    }\n",
              "</style>\n",
              "<table border=\"1\" class=\"dataframe\">\n",
              "  <thead>\n",
              "    <tr style=\"text-align: right;\">\n",
              "      <th></th>\n",
              "      <th>subs_to_cluster_count</th>\n",
              "      <th>min_subreddits_in_cluster</th>\n",
              "      <th>cluster_count</th>\n",
              "      <th>num_orphan_subreddits</th>\n",
              "      <th>num_subreddits_per_cluster_min</th>\n",
              "      <th>num_subreddits_per_cluster_mean</th>\n",
              "      <th>num_subreddits_per_cluster_median</th>\n",
              "      <th>num_subreddits_per_cluster_max</th>\n",
              "      <th>num_clusters_with_mature_primary_topic</th>\n",
              "      <th>cluster_ids_with_orphans</th>\n",
              "    </tr>\n",
              "  </thead>\n",
              "  <tbody>\n",
              "    <tr>\n",
              "      <th>0</th>\n",
              "      <td>83</td>\n",
              "      <td>3</td>\n",
              "      <td>22</td>\n",
              "      <td>4</td>\n",
              "      <td>1</td>\n",
              "      <td>3.772727</td>\n",
              "      <td>4.0</td>\n",
              "      <td>13</td>\n",
              "      <td>3</td>\n",
              "      <td>0001, 0002, 0005, 0009</td>\n",
              "    </tr>\n",
              "    <tr>\n",
              "      <th>1</th>\n",
              "      <td>83</td>\n",
              "      <td>4</td>\n",
              "      <td>17</td>\n",
              "      <td>3</td>\n",
              "      <td>1</td>\n",
              "      <td>4.882353</td>\n",
              "      <td>5.0</td>\n",
              "      <td>13</td>\n",
              "      <td>4</td>\n",
              "      <td>0001, 0002, 0005</td>\n",
              "    </tr>\n",
              "    <tr>\n",
              "      <th>2</th>\n",
              "      <td>83</td>\n",
              "      <td>5</td>\n",
              "      <td>16</td>\n",
              "      <td>3</td>\n",
              "      <td>1</td>\n",
              "      <td>5.187500</td>\n",
              "      <td>5.5</td>\n",
              "      <td>13</td>\n",
              "      <td>4</td>\n",
              "      <td>0001, 0002, 0005</td>\n",
              "    </tr>\n",
              "    <tr>\n",
              "      <th>3</th>\n",
              "      <td>83</td>\n",
              "      <td>6</td>\n",
              "      <td>15</td>\n",
              "      <td>3</td>\n",
              "      <td>1</td>\n",
              "      <td>5.533333</td>\n",
              "      <td>6.0</td>\n",
              "      <td>13</td>\n",
              "      <td>3</td>\n",
              "      <td>0001, 0002, 0005</td>\n",
              "    </tr>\n",
              "    <tr>\n",
              "      <th>4</th>\n",
              "      <td>83</td>\n",
              "      <td>7</td>\n",
              "      <td>15</td>\n",
              "      <td>3</td>\n",
              "      <td>1</td>\n",
              "      <td>5.533333</td>\n",
              "      <td>6.0</td>\n",
              "      <td>13</td>\n",
              "      <td>3</td>\n",
              "      <td>0001, 0002, 0005</td>\n",
              "    </tr>\n",
              "    <tr>\n",
              "      <th>5</th>\n",
              "      <td>83</td>\n",
              "      <td>8</td>\n",
              "      <td>14</td>\n",
              "      <td>3</td>\n",
              "      <td>1</td>\n",
              "      <td>5.928571</td>\n",
              "      <td>5.5</td>\n",
              "      <td>13</td>\n",
              "      <td>3</td>\n",
              "      <td>0001, 0002, 0005</td>\n",
              "    </tr>\n",
              "    <tr>\n",
              "      <th>6</th>\n",
              "      <td>83</td>\n",
              "      <td>9</td>\n",
              "      <td>13</td>\n",
              "      <td>3</td>\n",
              "      <td>1</td>\n",
              "      <td>6.384615</td>\n",
              "      <td>5.0</td>\n",
              "      <td>19</td>\n",
              "      <td>3</td>\n",
              "      <td>0001, 0002, 0005</td>\n",
              "    </tr>\n",
              "    <tr>\n",
              "      <th>7</th>\n",
              "      <td>83</td>\n",
              "      <td>10</td>\n",
              "      <td>13</td>\n",
              "      <td>3</td>\n",
              "      <td>1</td>\n",
              "      <td>6.384615</td>\n",
              "      <td>5.0</td>\n",
              "      <td>19</td>\n",
              "      <td>3</td>\n",
              "      <td>0001, 0002, 0005</td>\n",
              "    </tr>\n",
              "  </tbody>\n",
              "</table>\n",
              "</div>\n",
              "      <button class=\"colab-df-convert\" onclick=\"convertToInteractive('df-8d50ed18-946f-4b90-aa22-7ff061504582')\"\n",
              "              title=\"Convert this dataframe to an interactive table.\"\n",
              "              style=\"display:none;\">\n",
              "        \n",
              "  <svg xmlns=\"http://www.w3.org/2000/svg\" height=\"24px\"viewBox=\"0 0 24 24\"\n",
              "       width=\"24px\">\n",
              "    <path d=\"M0 0h24v24H0V0z\" fill=\"none\"/>\n",
              "    <path d=\"M18.56 5.44l.94 2.06.94-2.06 2.06-.94-2.06-.94-.94-2.06-.94 2.06-2.06.94zm-11 1L8.5 8.5l.94-2.06 2.06-.94-2.06-.94L8.5 2.5l-.94 2.06-2.06.94zm10 10l.94 2.06.94-2.06 2.06-.94-2.06-.94-.94-2.06-.94 2.06-2.06.94z\"/><path d=\"M17.41 7.96l-1.37-1.37c-.4-.4-.92-.59-1.43-.59-.52 0-1.04.2-1.43.59L10.3 9.45l-7.72 7.72c-.78.78-.78 2.05 0 2.83L4 21.41c.39.39.9.59 1.41.59.51 0 1.02-.2 1.41-.59l7.78-7.78 2.81-2.81c.8-.78.8-2.07 0-2.86zM5.41 20L4 18.59l7.72-7.72 1.47 1.35L5.41 20z\"/>\n",
              "  </svg>\n",
              "      </button>\n",
              "      \n",
              "  <style>\n",
              "    .colab-df-container {\n",
              "      display:flex;\n",
              "      flex-wrap:wrap;\n",
              "      gap: 12px;\n",
              "    }\n",
              "\n",
              "    .colab-df-convert {\n",
              "      background-color: #E8F0FE;\n",
              "      border: none;\n",
              "      border-radius: 50%;\n",
              "      cursor: pointer;\n",
              "      display: none;\n",
              "      fill: #1967D2;\n",
              "      height: 32px;\n",
              "      padding: 0 0 0 0;\n",
              "      width: 32px;\n",
              "    }\n",
              "\n",
              "    .colab-df-convert:hover {\n",
              "      background-color: #E2EBFA;\n",
              "      box-shadow: 0px 1px 2px rgba(60, 64, 67, 0.3), 0px 1px 3px 1px rgba(60, 64, 67, 0.15);\n",
              "      fill: #174EA6;\n",
              "    }\n",
              "\n",
              "    [theme=dark] .colab-df-convert {\n",
              "      background-color: #3B4455;\n",
              "      fill: #D2E3FC;\n",
              "    }\n",
              "\n",
              "    [theme=dark] .colab-df-convert:hover {\n",
              "      background-color: #434B5C;\n",
              "      box-shadow: 0px 1px 3px 1px rgba(0, 0, 0, 0.15);\n",
              "      filter: drop-shadow(0px 1px 2px rgba(0, 0, 0, 0.3));\n",
              "      fill: #FFFFFF;\n",
              "    }\n",
              "  </style>\n",
              "\n",
              "      <script>\n",
              "        const buttonEl =\n",
              "          document.querySelector('#df-8d50ed18-946f-4b90-aa22-7ff061504582 button.colab-df-convert');\n",
              "        buttonEl.style.display =\n",
              "          google.colab.kernel.accessAllowed ? 'block' : 'none';\n",
              "\n",
              "        async function convertToInteractive(key) {\n",
              "          const element = document.querySelector('#df-8d50ed18-946f-4b90-aa22-7ff061504582');\n",
              "          const dataTable =\n",
              "            await google.colab.kernel.invokeFunction('convertToInteractive',\n",
              "                                                     [key], {});\n",
              "          if (!dataTable) return;\n",
              "\n",
              "          const docLinkHtml = 'Like what you see? Visit the ' +\n",
              "            '<a target=\"_blank\" href=https://colab.research.google.com/notebooks/data_table.ipynb>data table notebook</a>'\n",
              "            + ' to learn more about interactive tables.';\n",
              "          element.innerHTML = '';\n",
              "          dataTable['output_type'] = 'display_data';\n",
              "          await google.colab.output.renderOutput(dataTable, element);\n",
              "          const docLink = document.createElement('div');\n",
              "          docLink.innerHTML = docLinkHtml;\n",
              "          element.appendChild(docLink);\n",
              "        }\n",
              "      </script>\n",
              "    </div>\n",
              "  </div>\n",
              "  "
            ]
          },
          "metadata": {},
          "execution_count": 20
        }
      ]
    },
    {
      "cell_type": "markdown",
      "source": [
        "### Display loop results"
      ],
      "metadata": {
        "id": "Bh_CMX92M3yJ"
      }
    },
    {
      "cell_type": "code",
      "source": [
        "def highlight_below_threshold(val, threshold=1):\n",
        "    if val <= threshold:\n",
        "        return \"color:purple; font-weight: bold; background-color:yellow;\"\n",
        "    else:\n",
        "        return ''\n",
        "print(n_min_subs_in_cluster_optimal)\n",
        "\n",
        "col_num_orph_subs = 'num_orphan_subreddits'\n",
        "# col_num_subs_mean = 'num_subreddits_per_cluster_mean'\n",
        "col_num_subs_median = 'num_subreddits_per_cluster_median'\n",
        "\n",
        "style_df_numeric(\n",
        "    df_optimal_min_check,\n",
        "    rename_cols_for_display=True,\n",
        "    l_bar_simple=[col_num_orph_subs,\n",
        "                  col_num_subs_median,]\n",
        ").applymap(highlight_below_threshold, subset=[col_num_orph_subs.replace('_', ' ')])\n"
      ],
      "metadata": {
        "id": "EU1NLVOyhuMj",
        "colab": {
          "base_uri": "https://localhost:8080/",
          "height": 592
        },
        "outputId": "ed99be7e-57ea-430e-f366-2b0e099f0aff"
      },
      "execution_count": 21,
      "outputs": [
        {
          "output_type": "stream",
          "name": "stdout",
          "text": [
            "4\n"
          ]
        },
        {
          "output_type": "execute_result",
          "data": {
            "text/plain": [
              "<pandas.io.formats.style.Styler at 0x7fa7d5d44110>"
            ],
            "text/html": [
              "<style type=\"text/css\">\n",
              "#T_61c5a_row0_col3, #T_61c5a_row3_col6, #T_61c5a_row4_col6 {\n",
              "  width: 10em;\n",
              "  height: 80%;\n",
              "  background: linear-gradient(90deg,#95cff5 100.0%, transparent 100.0%);\n",
              "}\n",
              "#T_61c5a_row0_col6 {\n",
              "  width: 10em;\n",
              "  height: 80%;\n",
              "  background: linear-gradient(90deg,#95cff5 66.7%, transparent 66.7%);\n",
              "}\n",
              "#T_61c5a_row1_col3, #T_61c5a_row2_col3, #T_61c5a_row3_col3, #T_61c5a_row4_col3, #T_61c5a_row5_col3, #T_61c5a_row6_col3, #T_61c5a_row7_col3 {\n",
              "  width: 10em;\n",
              "  height: 80%;\n",
              "  background: linear-gradient(90deg,#95cff5 75.0%, transparent 75.0%);\n",
              "}\n",
              "#T_61c5a_row1_col6, #T_61c5a_row6_col6, #T_61c5a_row7_col6 {\n",
              "  width: 10em;\n",
              "  height: 80%;\n",
              "  background: linear-gradient(90deg,#95cff5 83.3%, transparent 83.3%);\n",
              "}\n",
              "#T_61c5a_row2_col6, #T_61c5a_row5_col6 {\n",
              "  width: 10em;\n",
              "  height: 80%;\n",
              "  background: linear-gradient(90deg,#95cff5 91.7%, transparent 91.7%);\n",
              "}\n",
              "</style>\n",
              "<table id=\"T_61c5a_\" class=\"dataframe\">\n",
              "  <thead>\n",
              "    <tr>\n",
              "      <th class=\"blank level0\" >&nbsp;</th>\n",
              "      <th class=\"col_heading level0 col0\" >subs to cluster count</th>\n",
              "      <th class=\"col_heading level0 col1\" >min subreddits in cluster</th>\n",
              "      <th class=\"col_heading level0 col2\" >cluster count</th>\n",
              "      <th class=\"col_heading level0 col3\" >num orphan subreddits</th>\n",
              "      <th class=\"col_heading level0 col4\" >num subreddits per cluster min</th>\n",
              "      <th class=\"col_heading level0 col5\" >num subreddits per cluster mean</th>\n",
              "      <th class=\"col_heading level0 col6\" >num subreddits per cluster median</th>\n",
              "      <th class=\"col_heading level0 col7\" >num subreddits per cluster max</th>\n",
              "      <th class=\"col_heading level0 col8\" >num clusters with mature primary topic</th>\n",
              "      <th class=\"col_heading level0 col9\" >cluster ids with orphans</th>\n",
              "    </tr>\n",
              "    <tr>\n",
              "      <th class=\"index_name level0\" ></th>\n",
              "      <th class=\"blank col0\" >&nbsp;</th>\n",
              "      <th class=\"blank col1\" >&nbsp;</th>\n",
              "      <th class=\"blank col2\" >&nbsp;</th>\n",
              "      <th class=\"blank col3\" >&nbsp;</th>\n",
              "      <th class=\"blank col4\" >&nbsp;</th>\n",
              "      <th class=\"blank col5\" >&nbsp;</th>\n",
              "      <th class=\"blank col6\" >&nbsp;</th>\n",
              "      <th class=\"blank col7\" >&nbsp;</th>\n",
              "      <th class=\"blank col8\" >&nbsp;</th>\n",
              "      <th class=\"blank col9\" >&nbsp;</th>\n",
              "    </tr>\n",
              "  </thead>\n",
              "  <tbody>\n",
              "    <tr>\n",
              "      <th id=\"T_61c5a_level0_row0\" class=\"row_heading level0 row0\" >0</th>\n",
              "      <td id=\"T_61c5a_row0_col0\" class=\"data row0 col0\" >83</td>\n",
              "      <td id=\"T_61c5a_row0_col1\" class=\"data row0 col1\" >3</td>\n",
              "      <td id=\"T_61c5a_row0_col2\" class=\"data row0 col2\" >22</td>\n",
              "      <td id=\"T_61c5a_row0_col3\" class=\"data row0 col3\" >4</td>\n",
              "      <td id=\"T_61c5a_row0_col4\" class=\"data row0 col4\" >1</td>\n",
              "      <td id=\"T_61c5a_row0_col5\" class=\"data row0 col5\" >3.77</td>\n",
              "      <td id=\"T_61c5a_row0_col6\" class=\"data row0 col6\" >4.00</td>\n",
              "      <td id=\"T_61c5a_row0_col7\" class=\"data row0 col7\" >13</td>\n",
              "      <td id=\"T_61c5a_row0_col8\" class=\"data row0 col8\" >3</td>\n",
              "      <td id=\"T_61c5a_row0_col9\" class=\"data row0 col9\" >0001, 0002, 0005, 0009</td>\n",
              "    </tr>\n",
              "    <tr>\n",
              "      <th id=\"T_61c5a_level0_row1\" class=\"row_heading level0 row1\" >1</th>\n",
              "      <td id=\"T_61c5a_row1_col0\" class=\"data row1 col0\" >83</td>\n",
              "      <td id=\"T_61c5a_row1_col1\" class=\"data row1 col1\" >4</td>\n",
              "      <td id=\"T_61c5a_row1_col2\" class=\"data row1 col2\" >17</td>\n",
              "      <td id=\"T_61c5a_row1_col3\" class=\"data row1 col3\" >3</td>\n",
              "      <td id=\"T_61c5a_row1_col4\" class=\"data row1 col4\" >1</td>\n",
              "      <td id=\"T_61c5a_row1_col5\" class=\"data row1 col5\" >4.88</td>\n",
              "      <td id=\"T_61c5a_row1_col6\" class=\"data row1 col6\" >5.00</td>\n",
              "      <td id=\"T_61c5a_row1_col7\" class=\"data row1 col7\" >13</td>\n",
              "      <td id=\"T_61c5a_row1_col8\" class=\"data row1 col8\" >4</td>\n",
              "      <td id=\"T_61c5a_row1_col9\" class=\"data row1 col9\" >0001, 0002, 0005</td>\n",
              "    </tr>\n",
              "    <tr>\n",
              "      <th id=\"T_61c5a_level0_row2\" class=\"row_heading level0 row2\" >2</th>\n",
              "      <td id=\"T_61c5a_row2_col0\" class=\"data row2 col0\" >83</td>\n",
              "      <td id=\"T_61c5a_row2_col1\" class=\"data row2 col1\" >5</td>\n",
              "      <td id=\"T_61c5a_row2_col2\" class=\"data row2 col2\" >16</td>\n",
              "      <td id=\"T_61c5a_row2_col3\" class=\"data row2 col3\" >3</td>\n",
              "      <td id=\"T_61c5a_row2_col4\" class=\"data row2 col4\" >1</td>\n",
              "      <td id=\"T_61c5a_row2_col5\" class=\"data row2 col5\" >5.19</td>\n",
              "      <td id=\"T_61c5a_row2_col6\" class=\"data row2 col6\" >5.50</td>\n",
              "      <td id=\"T_61c5a_row2_col7\" class=\"data row2 col7\" >13</td>\n",
              "      <td id=\"T_61c5a_row2_col8\" class=\"data row2 col8\" >4</td>\n",
              "      <td id=\"T_61c5a_row2_col9\" class=\"data row2 col9\" >0001, 0002, 0005</td>\n",
              "    </tr>\n",
              "    <tr>\n",
              "      <th id=\"T_61c5a_level0_row3\" class=\"row_heading level0 row3\" >3</th>\n",
              "      <td id=\"T_61c5a_row3_col0\" class=\"data row3 col0\" >83</td>\n",
              "      <td id=\"T_61c5a_row3_col1\" class=\"data row3 col1\" >6</td>\n",
              "      <td id=\"T_61c5a_row3_col2\" class=\"data row3 col2\" >15</td>\n",
              "      <td id=\"T_61c5a_row3_col3\" class=\"data row3 col3\" >3</td>\n",
              "      <td id=\"T_61c5a_row3_col4\" class=\"data row3 col4\" >1</td>\n",
              "      <td id=\"T_61c5a_row3_col5\" class=\"data row3 col5\" >5.53</td>\n",
              "      <td id=\"T_61c5a_row3_col6\" class=\"data row3 col6\" >6.00</td>\n",
              "      <td id=\"T_61c5a_row3_col7\" class=\"data row3 col7\" >13</td>\n",
              "      <td id=\"T_61c5a_row3_col8\" class=\"data row3 col8\" >3</td>\n",
              "      <td id=\"T_61c5a_row3_col9\" class=\"data row3 col9\" >0001, 0002, 0005</td>\n",
              "    </tr>\n",
              "    <tr>\n",
              "      <th id=\"T_61c5a_level0_row4\" class=\"row_heading level0 row4\" >4</th>\n",
              "      <td id=\"T_61c5a_row4_col0\" class=\"data row4 col0\" >83</td>\n",
              "      <td id=\"T_61c5a_row4_col1\" class=\"data row4 col1\" >7</td>\n",
              "      <td id=\"T_61c5a_row4_col2\" class=\"data row4 col2\" >15</td>\n",
              "      <td id=\"T_61c5a_row4_col3\" class=\"data row4 col3\" >3</td>\n",
              "      <td id=\"T_61c5a_row4_col4\" class=\"data row4 col4\" >1</td>\n",
              "      <td id=\"T_61c5a_row4_col5\" class=\"data row4 col5\" >5.53</td>\n",
              "      <td id=\"T_61c5a_row4_col6\" class=\"data row4 col6\" >6.00</td>\n",
              "      <td id=\"T_61c5a_row4_col7\" class=\"data row4 col7\" >13</td>\n",
              "      <td id=\"T_61c5a_row4_col8\" class=\"data row4 col8\" >3</td>\n",
              "      <td id=\"T_61c5a_row4_col9\" class=\"data row4 col9\" >0001, 0002, 0005</td>\n",
              "    </tr>\n",
              "    <tr>\n",
              "      <th id=\"T_61c5a_level0_row5\" class=\"row_heading level0 row5\" >5</th>\n",
              "      <td id=\"T_61c5a_row5_col0\" class=\"data row5 col0\" >83</td>\n",
              "      <td id=\"T_61c5a_row5_col1\" class=\"data row5 col1\" >8</td>\n",
              "      <td id=\"T_61c5a_row5_col2\" class=\"data row5 col2\" >14</td>\n",
              "      <td id=\"T_61c5a_row5_col3\" class=\"data row5 col3\" >3</td>\n",
              "      <td id=\"T_61c5a_row5_col4\" class=\"data row5 col4\" >1</td>\n",
              "      <td id=\"T_61c5a_row5_col5\" class=\"data row5 col5\" >5.93</td>\n",
              "      <td id=\"T_61c5a_row5_col6\" class=\"data row5 col6\" >5.50</td>\n",
              "      <td id=\"T_61c5a_row5_col7\" class=\"data row5 col7\" >13</td>\n",
              "      <td id=\"T_61c5a_row5_col8\" class=\"data row5 col8\" >3</td>\n",
              "      <td id=\"T_61c5a_row5_col9\" class=\"data row5 col9\" >0001, 0002, 0005</td>\n",
              "    </tr>\n",
              "    <tr>\n",
              "      <th id=\"T_61c5a_level0_row6\" class=\"row_heading level0 row6\" >6</th>\n",
              "      <td id=\"T_61c5a_row6_col0\" class=\"data row6 col0\" >83</td>\n",
              "      <td id=\"T_61c5a_row6_col1\" class=\"data row6 col1\" >9</td>\n",
              "      <td id=\"T_61c5a_row6_col2\" class=\"data row6 col2\" >13</td>\n",
              "      <td id=\"T_61c5a_row6_col3\" class=\"data row6 col3\" >3</td>\n",
              "      <td id=\"T_61c5a_row6_col4\" class=\"data row6 col4\" >1</td>\n",
              "      <td id=\"T_61c5a_row6_col5\" class=\"data row6 col5\" >6.38</td>\n",
              "      <td id=\"T_61c5a_row6_col6\" class=\"data row6 col6\" >5.00</td>\n",
              "      <td id=\"T_61c5a_row6_col7\" class=\"data row6 col7\" >19</td>\n",
              "      <td id=\"T_61c5a_row6_col8\" class=\"data row6 col8\" >3</td>\n",
              "      <td id=\"T_61c5a_row6_col9\" class=\"data row6 col9\" >0001, 0002, 0005</td>\n",
              "    </tr>\n",
              "    <tr>\n",
              "      <th id=\"T_61c5a_level0_row7\" class=\"row_heading level0 row7\" >7</th>\n",
              "      <td id=\"T_61c5a_row7_col0\" class=\"data row7 col0\" >83</td>\n",
              "      <td id=\"T_61c5a_row7_col1\" class=\"data row7 col1\" >10</td>\n",
              "      <td id=\"T_61c5a_row7_col2\" class=\"data row7 col2\" >13</td>\n",
              "      <td id=\"T_61c5a_row7_col3\" class=\"data row7 col3\" >3</td>\n",
              "      <td id=\"T_61c5a_row7_col4\" class=\"data row7 col4\" >1</td>\n",
              "      <td id=\"T_61c5a_row7_col5\" class=\"data row7 col5\" >6.38</td>\n",
              "      <td id=\"T_61c5a_row7_col6\" class=\"data row7 col6\" >5.00</td>\n",
              "      <td id=\"T_61c5a_row7_col7\" class=\"data row7 col7\" >19</td>\n",
              "      <td id=\"T_61c5a_row7_col8\" class=\"data row7 col8\" >3</td>\n",
              "      <td id=\"T_61c5a_row7_col9\" class=\"data row7 col9\" >0001, 0002, 0005</td>\n",
              "    </tr>\n",
              "  </tbody>\n",
              "</table>\n"
            ]
          },
          "metadata": {},
          "execution_count": 21
        }
      ]
    },
    {
      "cell_type": "markdown",
      "source": [
        "## Get dyanimc clusters (apply optimal num from above)\n",
        "\n",
        "side bar: about 57% of subreddits in Australia only had a single primary topic as their `topic_mix`, so combining `primary topic` might not give us as much info as we hoped.\n",
        "\n",
        "At the same time, for 43% of subs we might get additional detail by combining the primary topics.\n"
      ],
      "metadata": {
        "id": "sdA1sJHhTy40"
      }
    },
    {
      "cell_type": "code",
      "source": [
        "print(n_min_subs_in_cluster_optimal)\n",
        "\n",
        "n_mix_start = 4\n",
        "l_ix = ['subreddit_id', 'subreddit_name']\n",
        "col_new_cluster_topic_mix = 'cluster_topic_mix'\n",
        "col_subreddit_topic_mix = 'subreddit_full_topic_mix'\n",
        "col_full_depth_mix_count = 'subreddit_full_topic_mix_count'\n",
        "suffix_new_topic_mix = '_topic_mix_nested'\n",
        "col_new_cluster_val_int = 'cluster_label_int'\n",
        "\n",
        "df_labels_target_dynamic_raw = create_dynamic_clusters(\n",
        "    df_labels_target,\n",
        "    agg_strategy='aggregate_small_clusters',\n",
        "    min_subreddits_in_cluster=n_min_subs_in_cluster_optimal,\n",
        "    l_cols_labels_input=None,\n",
        "    col_new_cluster_val=col_new_cluster_val,\n",
        "    col_new_cluster_name=col_new_cluster_name,\n",
        "    col_new_cluster_prim_topic=col_new_cluster_prim_topic,\n",
        "    n_mix_start=n_mix_start,\n",
        "    col_new_cluster_topic_mix=col_new_cluster_topic_mix,\n",
        "    col_subreddit_topic_mix=col_subreddit_topic_mix,\n",
        "    col_full_depth_mix_count=col_full_depth_mix_count,\n",
        "    suffix_new_topic_mix=suffix_new_topic_mix,\n",
        "    l_ix=l_ix,\n",
        "    verbose=True,\n",
        ")"
      ],
      "metadata": {
        "id": "pDTDd44MTSqB",
        "colab": {
          "base_uri": "https://localhost:8080/"
        },
        "outputId": "39861c37-e02f-4544-8103-2035b299df75"
      },
      "execution_count": 22,
      "outputs": [
        {
          "output_type": "stream",
          "name": "stderr",
          "text": [
            "01:28:02 | INFO | \"Concat'ing nested cluster labels...\"\n",
            "01:28:02 | INFO | \"Getting topic mix at different depths...\"\n",
            "01:28:02 | INFO | \"  Assigning base topic mix cols\"\n",
            "01:28:02 | INFO | \"  Creating deepest base topic mix col...\"\n"
          ]
        },
        {
          "output_type": "stream",
          "name": "stdout",
          "text": [
            "4\n"
          ]
        },
        {
          "output_type": "stream",
          "name": "stderr",
          "text": [
            "01:28:03 | INFO | \"  Iterating through additional subs with multiple topics...\"\n",
            "100%|██████████| 16/16 [00:00<00:00, 42.67it/s]\n",
            "01:28:03 | INFO | \"Initializing values for strategy: aggregate_small_clusters\"\n",
            "01:28:03 | INFO | \"  Looping to roll-up clusters from smallest to largest...\"\n",
            "100%|██████████| 21/21 [00:00<00:00, 169.38it/s]\n",
            "01:28:03 | INFO | \"(83, 125) <- output shape\"\n"
          ]
        }
      ]
    },
    {
      "cell_type": "code",
      "source": [
        "style_df_numeric(\n",
        "    get_dynamic_cluster_summary(\n",
        "        df_labels_target_dynamic_raw,\n",
        "        return_dict=False,\n",
        "    ),\n",
        "    rename_cols_for_display=True,\n",
        ")"
      ],
      "metadata": {
        "id": "37HCa0emTSnu",
        "colab": {
          "base_uri": "https://localhost:8080/",
          "height": 164
        },
        "outputId": "c7085da8-9960-4863-93de-5dc87b8c811c"
      },
      "execution_count": 23,
      "outputs": [
        {
          "output_type": "execute_result",
          "data": {
            "text/plain": [
              "<pandas.io.formats.style.Styler at 0x7fa7d5c10c50>"
            ],
            "text/html": [
              "<style type=\"text/css\">\n",
              "</style>\n",
              "<table id=\"T_9cab0_\" class=\"dataframe\">\n",
              "  <thead>\n",
              "    <tr>\n",
              "      <th class=\"blank level0\" >&nbsp;</th>\n",
              "      <th class=\"col_heading level0 col0\" >cluster count</th>\n",
              "      <th class=\"col_heading level0 col1\" >num orphan subreddits</th>\n",
              "      <th class=\"col_heading level0 col2\" >num subreddits per cluster min</th>\n",
              "      <th class=\"col_heading level0 col3\" >num subreddits per cluster mean</th>\n",
              "      <th class=\"col_heading level0 col4\" >num subreddits per cluster median</th>\n",
              "      <th class=\"col_heading level0 col5\" >num subreddits per cluster max</th>\n",
              "      <th class=\"col_heading level0 col6\" >num clusters with mature primary topic</th>\n",
              "      <th class=\"col_heading level0 col7\" >cluster ids with orphans</th>\n",
              "    </tr>\n",
              "    <tr>\n",
              "      <th class=\"index_name level0\" ></th>\n",
              "      <th class=\"blank col0\" >&nbsp;</th>\n",
              "      <th class=\"blank col1\" >&nbsp;</th>\n",
              "      <th class=\"blank col2\" >&nbsp;</th>\n",
              "      <th class=\"blank col3\" >&nbsp;</th>\n",
              "      <th class=\"blank col4\" >&nbsp;</th>\n",
              "      <th class=\"blank col5\" >&nbsp;</th>\n",
              "      <th class=\"blank col6\" >&nbsp;</th>\n",
              "      <th class=\"blank col7\" >&nbsp;</th>\n",
              "    </tr>\n",
              "  </thead>\n",
              "  <tbody>\n",
              "    <tr>\n",
              "      <th id=\"T_9cab0_level0_row0\" class=\"row_heading level0 row0\" >0</th>\n",
              "      <td id=\"T_9cab0_row0_col0\" class=\"data row0 col0\" >17</td>\n",
              "      <td id=\"T_9cab0_row0_col1\" class=\"data row0 col1\" >3</td>\n",
              "      <td id=\"T_9cab0_row0_col2\" class=\"data row0 col2\" >1</td>\n",
              "      <td id=\"T_9cab0_row0_col3\" class=\"data row0 col3\" >4.88</td>\n",
              "      <td id=\"T_9cab0_row0_col4\" class=\"data row0 col4\" >5.00</td>\n",
              "      <td id=\"T_9cab0_row0_col5\" class=\"data row0 col5\" >13</td>\n",
              "      <td id=\"T_9cab0_row0_col6\" class=\"data row0 col6\" >4</td>\n",
              "      <td id=\"T_9cab0_row0_col7\" class=\"data row0 col7\" >0001, 0002, 0005</td>\n",
              "    </tr>\n",
              "  </tbody>\n",
              "</table>\n"
            ]
          },
          "metadata": {},
          "execution_count": 23
        }
      ]
    },
    {
      "cell_type": "code",
      "source": [
        "# # # check column order\n",
        "# style_df_numeric(\n",
        "#     df_labels_target_dynamic_raw.iloc[104:109, :15],\n",
        "#     rename_cols_for_display=True,\n",
        "#     int_labels=['total_users_in', 'num_of_countries_', 'users_in_subreddit_from_country_l28',\n",
        "#                     'by_country_rank',\n",
        "#                     ],\n",
        "#     pct_cols=['b_users_percent_by_subreddit',\n",
        "#                   'c_users_percent_by_country',\n",
        "#                   'users_percent_by_country_avg',\n",
        "#                   ],\n",
        "#     pct_labels='',\n",
        "# )"
      ],
      "metadata": {
        "id": "aCe7i9_Yr0F5"
      },
      "execution_count": 91,
      "outputs": []
    },
    {
      "cell_type": "markdown",
      "source": [
        "### Minor QA checks"
      ],
      "metadata": {
        "id": "FkTvPXPVODEf"
      }
    },
    {
      "cell_type": "code",
      "source": [
        "# # check column order\n",
        "# style_df_numeric(\n",
        "#     df_labels_target_dynamic_raw.iloc[70:74, -22:],\n",
        "#     rename_cols_for_display=True,\n",
        "#     int_labels=['total_users_in', 'num_of_countries_', 'users_in_subreddit_from_country_l28',\n",
        "#                     'by_country_rank',\n",
        "#                     ],\n",
        "#     pct_cols=['b_users_percent_by_subreddit',\n",
        "#                   'c_users_percent_by_country',\n",
        "#                   'users_percent_by_country_avg',\n",
        "#                   ],\n",
        "#     pct_labels='',\n",
        "# )"
      ],
      "metadata": {
        "id": "ymVPMHol6VtS"
      },
      "execution_count": 24,
      "outputs": []
    },
    {
      "cell_type": "code",
      "source": [
        "value_counts_and_pcts(\n",
        "    df_labels_target_dynamic_raw[col_new_cluster_topic_mix],\n",
        "    top_n=9,\n",
        ")"
      ],
      "metadata": {
        "id": "1J7ewY65RK02",
        "colab": {
          "base_uri": "https://localhost:8080/",
          "height": 0
        },
        "outputId": "68e14310-2f85-4f66-b4e5-2ab427afb6a9"
      },
      "execution_count": 25,
      "outputs": [
        {
          "output_type": "execute_result",
          "data": {
            "text/plain": [
              "<pandas.io.formats.style.Styler at 0x7fa7d5c04850>"
            ],
            "text/html": [
              "<style type=\"text/css\">\n",
              "#T_88597_row0_col1, #T_88597_row8_col2 {\n",
              "  width: 10em;\n",
              "  height: 80%;\n",
              "  background: linear-gradient(90deg,#95cff5 100.0%, transparent 100.0%);\n",
              "}\n",
              "#T_88597_row0_col2, #T_88597_row8_col1 {\n",
              "  width: 10em;\n",
              "  height: 80%;\n",
              "}\n",
              "#T_88597_row1_col1 {\n",
              "  width: 10em;\n",
              "  height: 80%;\n",
              "  background: linear-gradient(90deg,#95cff5 83.3%, transparent 83.3%);\n",
              "}\n",
              "#T_88597_row1_col2 {\n",
              "  width: 10em;\n",
              "  height: 80%;\n",
              "  background: linear-gradient(90deg,#95cff5 22.6%, transparent 22.6%);\n",
              "}\n",
              "#T_88597_row2_col1 {\n",
              "  width: 10em;\n",
              "  height: 80%;\n",
              "  background: linear-gradient(90deg,#95cff5 75.0%, transparent 75.0%);\n",
              "}\n",
              "#T_88597_row2_col2 {\n",
              "  width: 10em;\n",
              "  height: 80%;\n",
              "  background: linear-gradient(90deg,#95cff5 43.5%, transparent 43.5%);\n",
              "}\n",
              "#T_88597_row3_col1 {\n",
              "  width: 10em;\n",
              "  height: 80%;\n",
              "  background: linear-gradient(90deg,#95cff5 41.7%, transparent 41.7%);\n",
              "}\n",
              "#T_88597_row3_col2 {\n",
              "  width: 10em;\n",
              "  height: 80%;\n",
              "  background: linear-gradient(90deg,#95cff5 58.1%, transparent 58.1%);\n",
              "}\n",
              "#T_88597_row4_col1, #T_88597_row5_col1 {\n",
              "  width: 10em;\n",
              "  height: 80%;\n",
              "  background: linear-gradient(90deg,#95cff5 16.7%, transparent 16.7%);\n",
              "}\n",
              "#T_88597_row4_col2 {\n",
              "  width: 10em;\n",
              "  height: 80%;\n",
              "  background: linear-gradient(90deg,#95cff5 67.7%, transparent 67.7%);\n",
              "}\n",
              "#T_88597_row5_col2 {\n",
              "  width: 10em;\n",
              "  height: 80%;\n",
              "  background: linear-gradient(90deg,#95cff5 77.4%, transparent 77.4%);\n",
              "}\n",
              "#T_88597_row6_col1, #T_88597_row7_col1 {\n",
              "  width: 10em;\n",
              "  height: 80%;\n",
              "  background: linear-gradient(90deg,#95cff5 8.3%, transparent 8.3%);\n",
              "}\n",
              "#T_88597_row6_col2 {\n",
              "  width: 10em;\n",
              "  height: 80%;\n",
              "  background: linear-gradient(90deg,#95cff5 85.5%, transparent 85.5%);\n",
              "}\n",
              "#T_88597_row7_col2 {\n",
              "  width: 10em;\n",
              "  height: 80%;\n",
              "  background: linear-gradient(90deg,#95cff5 93.5%, transparent 93.5%);\n",
              "}\n",
              "</style>\n",
              "<table id=\"T_88597_\" class=\"dataframe\">\n",
              "  <thead>\n",
              "    <tr>\n",
              "      <th class=\"blank level0\" >&nbsp;</th>\n",
              "      <th class=\"col_heading level0 col0\" >cluster_topic_mix-count</th>\n",
              "      <th class=\"col_heading level0 col1\" >cluster_topic_mix-percent</th>\n",
              "      <th class=\"col_heading level0 col2\" >cluster_topic_mix-pct_cumulative_sum</th>\n",
              "    </tr>\n",
              "  </thead>\n",
              "  <tbody>\n",
              "    <tr>\n",
              "      <th id=\"T_88597_level0_row0\" class=\"row_heading level0 row0\" >Gaming</th>\n",
              "      <td id=\"T_88597_row0_col0\" class=\"data row0 col0\" >16</td>\n",
              "      <td id=\"T_88597_row0_col1\" class=\"data row0 col1\" >19.3%</td>\n",
              "      <td id=\"T_88597_row0_col2\" class=\"data row0 col2\" >19.3%</td>\n",
              "    </tr>\n",
              "    <tr>\n",
              "      <th id=\"T_88597_level0_row1\" class=\"row_heading level0 row1\" >Technology</th>\n",
              "      <td id=\"T_88597_row1_col0\" class=\"data row1 col0\" >14</td>\n",
              "      <td id=\"T_88597_row1_col1\" class=\"data row1 col1\" >16.9%</td>\n",
              "      <td id=\"T_88597_row1_col2\" class=\"data row1 col2\" >36.1%</td>\n",
              "    </tr>\n",
              "    <tr>\n",
              "      <th id=\"T_88597_level0_row2\" class=\"row_heading level0 row2\" >Place | Business, Economics, and Finance</th>\n",
              "      <td id=\"T_88597_row2_col0\" class=\"data row2 col0\" >13</td>\n",
              "      <td id=\"T_88597_row2_col1\" class=\"data row2 col1\" >15.7%</td>\n",
              "      <td id=\"T_88597_row2_col2\" class=\"data row2 col2\" >51.8%</td>\n",
              "    </tr>\n",
              "    <tr>\n",
              "      <th id=\"T_88597_level0_row3\" class=\"row_heading level0 row3\" >Mature Themes and Adult Content</th>\n",
              "      <td id=\"T_88597_row3_col0\" class=\"data row3 col0\" >9</td>\n",
              "      <td id=\"T_88597_row3_col1\" class=\"data row3 col1\" >10.8%</td>\n",
              "      <td id=\"T_88597_row3_col2\" class=\"data row3 col2\" >62.7%</td>\n",
              "    </tr>\n",
              "    <tr>\n",
              "      <th id=\"T_88597_level0_row4\" class=\"row_heading level0 row4\" >Music</th>\n",
              "      <td id=\"T_88597_row4_col0\" class=\"data row4 col0\" >6</td>\n",
              "      <td id=\"T_88597_row4_col1\" class=\"data row4 col1\" >7.2%</td>\n",
              "      <td id=\"T_88597_row4_col2\" class=\"data row4 col2\" >69.9%</td>\n",
              "    </tr>\n",
              "    <tr>\n",
              "      <th id=\"T_88597_level0_row5\" class=\"row_heading level0 row5\" >Animals and Pets</th>\n",
              "      <td id=\"T_88597_row5_col0\" class=\"data row5 col0\" >6</td>\n",
              "      <td id=\"T_88597_row5_col1\" class=\"data row5 col1\" >7.2%</td>\n",
              "      <td id=\"T_88597_row5_col2\" class=\"data row5 col2\" >77.1%</td>\n",
              "    </tr>\n",
              "    <tr>\n",
              "      <th id=\"T_88597_level0_row6\" class=\"row_heading level0 row6\" >Fashion</th>\n",
              "      <td id=\"T_88597_row6_col0\" class=\"data row6 col0\" >5</td>\n",
              "      <td id=\"T_88597_row6_col1\" class=\"data row6 col1\" >6.0%</td>\n",
              "      <td id=\"T_88597_row6_col2\" class=\"data row6 col2\" >83.1%</td>\n",
              "    </tr>\n",
              "    <tr>\n",
              "      <th id=\"T_88597_level0_row7\" class=\"row_heading level0 row7\" >Crypto</th>\n",
              "      <td id=\"T_88597_row7_col0\" class=\"data row7 col0\" >5</td>\n",
              "      <td id=\"T_88597_row7_col1\" class=\"data row7 col1\" >6.0%</td>\n",
              "      <td id=\"T_88597_row7_col2\" class=\"data row7 col2\" >89.2%</td>\n",
              "    </tr>\n",
              "    <tr>\n",
              "      <th id=\"T_88597_level0_row8\" class=\"row_heading level0 row8\" >Medical and Mental Health</th>\n",
              "      <td id=\"T_88597_row8_col0\" class=\"data row8 col0\" >4</td>\n",
              "      <td id=\"T_88597_row8_col1\" class=\"data row8 col1\" >4.8%</td>\n",
              "      <td id=\"T_88597_row8_col2\" class=\"data row8 col2\" >94.0%</td>\n",
              "    </tr>\n",
              "  </tbody>\n",
              "</table>\n"
            ]
          },
          "metadata": {},
          "execution_count": 25
        }
      ]
    },
    {
      "cell_type": "code",
      "source": [
        "# how many final clusters have multiple topics?\n",
        "value_counts_and_pcts(\n",
        "    df_labels_target_dynamic_raw[col_new_cluster_topic_mix].str.count('\\|')\n",
        ")"
      ],
      "metadata": {
        "id": "uiOJMuhwJUT9",
        "colab": {
          "base_uri": "https://localhost:8080/",
          "height": 0
        },
        "outputId": "96651d2e-9dba-47f9-e384-5dc040ae976f"
      },
      "execution_count": 26,
      "outputs": [
        {
          "output_type": "execute_result",
          "data": {
            "text/plain": [
              "<pandas.io.formats.style.Styler at 0x7fa7d5cc7bd0>"
            ],
            "text/html": [
              "<style type=\"text/css\">\n",
              "#T_514c8_row0_col1, #T_514c8_row1_col2 {\n",
              "  width: 10em;\n",
              "  height: 80%;\n",
              "  background: linear-gradient(90deg,#95cff5 100.0%, transparent 100.0%);\n",
              "}\n",
              "#T_514c8_row0_col2, #T_514c8_row1_col1 {\n",
              "  width: 10em;\n",
              "  height: 80%;\n",
              "}\n",
              "</style>\n",
              "<table id=\"T_514c8_\" class=\"dataframe\">\n",
              "  <thead>\n",
              "    <tr>\n",
              "      <th class=\"blank level0\" >&nbsp;</th>\n",
              "      <th class=\"col_heading level0 col0\" >cluster_topic_mix-count</th>\n",
              "      <th class=\"col_heading level0 col1\" >cluster_topic_mix-percent</th>\n",
              "      <th class=\"col_heading level0 col2\" >cluster_topic_mix-pct_cumulative_sum</th>\n",
              "    </tr>\n",
              "  </thead>\n",
              "  <tbody>\n",
              "    <tr>\n",
              "      <th id=\"T_514c8_level0_row0\" class=\"row_heading level0 row0\" >0</th>\n",
              "      <td id=\"T_514c8_row0_col0\" class=\"data row0 col0\" >70</td>\n",
              "      <td id=\"T_514c8_row0_col1\" class=\"data row0 col1\" >84.3%</td>\n",
              "      <td id=\"T_514c8_row0_col2\" class=\"data row0 col2\" >84.3%</td>\n",
              "    </tr>\n",
              "    <tr>\n",
              "      <th id=\"T_514c8_level0_row1\" class=\"row_heading level0 row1\" >1</th>\n",
              "      <td id=\"T_514c8_row1_col0\" class=\"data row1 col0\" >13</td>\n",
              "      <td id=\"T_514c8_row1_col1\" class=\"data row1 col1\" >15.7%</td>\n",
              "      <td id=\"T_514c8_row1_col2\" class=\"data row1 col2\" >100.0%</td>\n",
              "    </tr>\n",
              "  </tbody>\n",
              "</table>\n"
            ]
          },
          "metadata": {},
          "execution_count": 26
        }
      ]
    },
    {
      "cell_type": "code",
      "source": [
        "# how many SUBREDDITS have multiple topics? (when we check the deepest clusters)\n",
        "#  these two calls are equivalent\n",
        "\n",
        "# value_counts_and_pcts(\n",
        "#     df_labels_target_dynamic_raw[col_subreddit_topic_mix].str.count('\\|')\n",
        "# )\n",
        "\n",
        "value_counts_and_pcts(\n",
        "    df_labels_target_dynamic_raw[col_full_depth_mix_count]\n",
        ")"
      ],
      "metadata": {
        "id": "wAfDS7U5J_-6",
        "colab": {
          "base_uri": "https://localhost:8080/",
          "height": 0
        },
        "outputId": "a9481899-6385-4a0d-8d73-8b26e5a9fb28"
      },
      "execution_count": 27,
      "outputs": [
        {
          "output_type": "execute_result",
          "data": {
            "text/plain": [
              "<pandas.io.formats.style.Styler at 0x7fa7d5bdd810>"
            ],
            "text/html": [
              "<style type=\"text/css\">\n",
              "#T_3e1aa_row0_col1, #T_3e1aa_row4_col2 {\n",
              "  width: 10em;\n",
              "  height: 80%;\n",
              "  background: linear-gradient(90deg,#95cff5 100.0%, transparent 100.0%);\n",
              "}\n",
              "#T_3e1aa_row0_col2, #T_3e1aa_row4_col1 {\n",
              "  width: 10em;\n",
              "  height: 80%;\n",
              "}\n",
              "#T_3e1aa_row1_col1 {\n",
              "  width: 10em;\n",
              "  height: 80%;\n",
              "  background: linear-gradient(90deg,#95cff5 94.3%, transparent 94.3%);\n",
              "}\n",
              "#T_3e1aa_row1_col2 {\n",
              "  width: 10em;\n",
              "  height: 80%;\n",
              "  background: linear-gradient(90deg,#95cff5 76.1%, transparent 76.1%);\n",
              "}\n",
              "#T_3e1aa_row2_col1 {\n",
              "  width: 10em;\n",
              "  height: 80%;\n",
              "  background: linear-gradient(90deg,#95cff5 11.4%, transparent 11.4%);\n",
              "}\n",
              "#T_3e1aa_row2_col2 {\n",
              "  width: 10em;\n",
              "  height: 80%;\n",
              "  background: linear-gradient(90deg,#95cff5 89.1%, transparent 89.1%);\n",
              "}\n",
              "#T_3e1aa_row3_col1 {\n",
              "  width: 10em;\n",
              "  height: 80%;\n",
              "  background: linear-gradient(90deg,#95cff5 2.9%, transparent 2.9%);\n",
              "}\n",
              "#T_3e1aa_row3_col2 {\n",
              "  width: 10em;\n",
              "  height: 80%;\n",
              "  background: linear-gradient(90deg,#95cff5 95.7%, transparent 95.7%);\n",
              "}\n",
              "</style>\n",
              "<table id=\"T_3e1aa_\" class=\"dataframe\">\n",
              "  <thead>\n",
              "    <tr>\n",
              "      <th class=\"blank level0\" >&nbsp;</th>\n",
              "      <th class=\"col_heading level0 col0\" >subreddit_full_topic_mix_count-count</th>\n",
              "      <th class=\"col_heading level0 col1\" >subreddit_full_topic_mix_count-percent</th>\n",
              "      <th class=\"col_heading level0 col2\" >subreddit_full_topic_mix_count-pct_cumulative_sum</th>\n",
              "    </tr>\n",
              "  </thead>\n",
              "  <tbody>\n",
              "    <tr>\n",
              "      <th id=\"T_3e1aa_level0_row0\" class=\"row_heading level0 row0\" >1</th>\n",
              "      <td id=\"T_3e1aa_row0_col0\" class=\"data row0 col0\" >37</td>\n",
              "      <td id=\"T_3e1aa_row0_col1\" class=\"data row0 col1\" >44.6%</td>\n",
              "      <td id=\"T_3e1aa_row0_col2\" class=\"data row0 col2\" >44.6%</td>\n",
              "    </tr>\n",
              "    <tr>\n",
              "      <th id=\"T_3e1aa_level0_row1\" class=\"row_heading level0 row1\" >2</th>\n",
              "      <td id=\"T_3e1aa_row1_col0\" class=\"data row1 col0\" >35</td>\n",
              "      <td id=\"T_3e1aa_row1_col1\" class=\"data row1 col1\" >42.2%</td>\n",
              "      <td id=\"T_3e1aa_row1_col2\" class=\"data row1 col2\" >86.7%</td>\n",
              "    </tr>\n",
              "    <tr>\n",
              "      <th id=\"T_3e1aa_level0_row2\" class=\"row_heading level0 row2\" >3</th>\n",
              "      <td id=\"T_3e1aa_row2_col0\" class=\"data row2 col0\" >6</td>\n",
              "      <td id=\"T_3e1aa_row2_col1\" class=\"data row2 col1\" >7.2%</td>\n",
              "      <td id=\"T_3e1aa_row2_col2\" class=\"data row2 col2\" >94.0%</td>\n",
              "    </tr>\n",
              "    <tr>\n",
              "      <th id=\"T_3e1aa_level0_row3\" class=\"row_heading level0 row3\" >4</th>\n",
              "      <td id=\"T_3e1aa_row3_col0\" class=\"data row3 col0\" >3</td>\n",
              "      <td id=\"T_3e1aa_row3_col1\" class=\"data row3 col1\" >3.6%</td>\n",
              "      <td id=\"T_3e1aa_row3_col2\" class=\"data row3 col2\" >97.6%</td>\n",
              "    </tr>\n",
              "    <tr>\n",
              "      <th id=\"T_3e1aa_level0_row4\" class=\"row_heading level0 row4\" >5</th>\n",
              "      <td id=\"T_3e1aa_row4_col0\" class=\"data row4 col0\" >2</td>\n",
              "      <td id=\"T_3e1aa_row4_col1\" class=\"data row4 col1\" >2.4%</td>\n",
              "      <td id=\"T_3e1aa_row4_col2\" class=\"data row4 col2\" >100.0%</td>\n",
              "    </tr>\n",
              "  </tbody>\n",
              "</table>\n"
            ]
          },
          "metadata": {},
          "execution_count": 27
        }
      ]
    },
    {
      "cell_type": "code",
      "source": [
        "style_df_numeric(\n",
        "    df_labels_target_dynamic_raw\n",
        "    [df_labels_target_dynamic_raw[col_full_depth_mix_count] >= 5]\n",
        "    .iloc[-5:, :9]\n",
        "    ,\n",
        "    rename_cols_for_display=True,\n",
        ")"
      ],
      "metadata": {
        "id": "y58ZASAoLeft",
        "colab": {
          "base_uri": "https://localhost:8080/",
          "height": 0
        },
        "outputId": "0c53e06f-fb98-4069-83d5-5579853976ef"
      },
      "execution_count": 28,
      "outputs": [
        {
          "output_type": "execute_result",
          "data": {
            "text/plain": [
              "<pandas.io.formats.style.Styler at 0x7fa7d5c371d0>"
            ],
            "text/html": [
              "<style type=\"text/css\">\n",
              "</style>\n",
              "<table id=\"T_d4fb4_\" class=\"dataframe\">\n",
              "  <thead>\n",
              "    <tr>\n",
              "      <th class=\"blank level0\" >&nbsp;</th>\n",
              "      <th class=\"col_heading level0 col0\" >subreddit id</th>\n",
              "      <th class=\"col_heading level0 col1\" >subreddit name</th>\n",
              "      <th class=\"col_heading level0 col2\" >cluster label int</th>\n",
              "      <th class=\"col_heading level0 col3\" >cluster topic mix</th>\n",
              "      <th class=\"col_heading level0 col4\" >primary topic</th>\n",
              "      <th class=\"col_heading level0 col5\" >rating short</th>\n",
              "      <th class=\"col_heading level0 col6\" >subreddit full topic mix</th>\n",
              "      <th class=\"col_heading level0 col7\" >rating name</th>\n",
              "      <th class=\"col_heading level0 col8\" >over 18</th>\n",
              "    </tr>\n",
              "    <tr>\n",
              "      <th class=\"index_name level0\" ></th>\n",
              "      <th class=\"blank col0\" >&nbsp;</th>\n",
              "      <th class=\"blank col1\" >&nbsp;</th>\n",
              "      <th class=\"blank col2\" >&nbsp;</th>\n",
              "      <th class=\"blank col3\" >&nbsp;</th>\n",
              "      <th class=\"blank col4\" >&nbsp;</th>\n",
              "      <th class=\"blank col5\" >&nbsp;</th>\n",
              "      <th class=\"blank col6\" >&nbsp;</th>\n",
              "      <th class=\"blank col7\" >&nbsp;</th>\n",
              "      <th class=\"blank col8\" >&nbsp;</th>\n",
              "    </tr>\n",
              "  </thead>\n",
              "  <tbody>\n",
              "    <tr>\n",
              "      <th id=\"T_d4fb4_level0_row0\" class=\"row_heading level0 row0\" >27</th>\n",
              "      <td id=\"T_d4fb4_row0_col0\" class=\"data row0 col0\" >t5_11mle5</td>\n",
              "      <td id=\"T_d4fb4_row0_col1\" class=\"data row0 col1\" >thebackrooms</td>\n",
              "      <td id=\"T_d4fb4_row0_col2\" class=\"data row0 col2\" >13</td>\n",
              "      <td id=\"T_d4fb4_row0_col3\" class=\"data row0 col3\" >Mature Themes and Adult Content</td>\n",
              "      <td id=\"T_d4fb4_row0_col4\" class=\"data row0 col4\" >-</td>\n",
              "      <td id=\"T_d4fb4_row0_col5\" class=\"data row0 col5\" >E</td>\n",
              "      <td id=\"T_d4fb4_row0_col6\" class=\"data row0 col6\" >Religion and Spirituality | Science | Gaming | History | Internet Culture and Memes</td>\n",
              "      <td id=\"T_d4fb4_row0_col7\" class=\"data row0 col7\" >Everyone</td>\n",
              "      <td id=\"T_d4fb4_row0_col8\" class=\"data row0 col8\" >-</td>\n",
              "    </tr>\n",
              "    <tr>\n",
              "      <th id=\"T_d4fb4_level0_row1\" class=\"row_heading level0 row1\" >41</th>\n",
              "      <td id=\"T_d4fb4_row1_col0\" class=\"data row1 col0\" >t5_2qiwh</td>\n",
              "      <td id=\"T_d4fb4_row1_col1\" class=\"data row1 col1\" >maps</td>\n",
              "      <td id=\"T_d4fb4_row1_col2\" class=\"data row1 col2\" >10</td>\n",
              "      <td id=\"T_d4fb4_row1_col3\" class=\"data row1 col3\" >Sports</td>\n",
              "      <td id=\"T_d4fb4_row1_col4\" class=\"data row1 col4\" >Learning and Education</td>\n",
              "      <td id=\"T_d4fb4_row1_col5\" class=\"data row1 col5\" >E</td>\n",
              "      <td id=\"T_d4fb4_row1_col6\" class=\"data row1 col6\" >History | Place | Funny/Humor | Art | Learning and Education</td>\n",
              "      <td id=\"T_d4fb4_row1_col7\" class=\"data row1 col7\" >Everyone</td>\n",
              "      <td id=\"T_d4fb4_row1_col8\" class=\"data row1 col8\" >f</td>\n",
              "    </tr>\n",
              "  </tbody>\n",
              "</table>\n"
            ]
          },
          "metadata": {},
          "execution_count": 28
        }
      ]
    },
    {
      "cell_type": "markdown",
      "source": [
        "## Re-assign orphan subreddits (optional)\n",
        "\n",
        "If there are subreddits that are orphan (see summary above), check them out to see if we can re-assign them w/o too much work. if we can't skip and move to the next country."
      ],
      "metadata": {
        "id": "NIKRnACST_VQ"
      }
    },
    {
      "cell_type": "code",
      "execution_count": 29,
      "metadata": {
        "scrolled": true,
        "id": "90f0rVFqgPT-"
      },
      "outputs": [],
      "source": [
        "# # check subs around orphan sub\n",
        "# # n_plus_minus_ = 5\n",
        "# ix_orphan_ = (\n",
        "#     df_labels_target_dynamic_raw\n",
        "#     [df_labels_target_dynamic_raw[col_new_cluster_val] == '0011']\n",
        "#     .index\n",
        "# )\n",
        "# df_labels_target_dynamic_raw.iloc[ix_orphan_, :9]"
      ]
    },
    {
      "cell_type": "code",
      "execution_count": 30,
      "metadata": {
        "id": "8La86XaygPT-"
      },
      "outputs": [],
      "source": [
        "# # check other subs that are in the same cluster as orphan sub (at broadest level)\n",
        "# l_cols_orphan_check = (\n",
        "#     [\n",
        "#         'subreddit_id',\n",
        "#         col_new_cluster_topic_mix, \n",
        "#         # col_new_cluster_val,  # this can be really long and makes comparing harder\n",
        "#         # col_subreddit_topic_mix,\n",
        "#         'subreddit_name', \n",
        "#         col_new_cluster_name\n",
        "#     ] +\n",
        "#     l_cols_labels[:-5]\n",
        "# )\n",
        "\n",
        "# style_df_numeric(\n",
        "#     df_labels_target_dynamic_raw\n",
        "#     [df_labels_target_dynamic_raw['k_0013_label'] == 11]\n",
        "#     [l_cols_orphan_check]\n",
        "#     .iloc[3:14, :50]\n",
        "#     ,\n",
        "#     l_bar_simple=[c for c in l_cols_orphan_check[4:] if c.endswith('_label')],\n",
        "#     rename_cols_for_display=True,\n",
        "\n",
        "# )"
      ]
    },
    {
      "cell_type": "code",
      "execution_count": 31,
      "metadata": {
        "id": "GQdjZwZHgPT-"
      },
      "outputs": [],
      "source": [
        "# label_k_to_reassign_ = 'k_0320_label'\n",
        "# label_val_to_reassign_ = '0011-0018-0032-0043-0046-0058-0062-0087-0244'\n",
        "# subreddit_id_orphan_ = 't5_2tt7r'\n",
        "\n",
        "# mask_orphan_and_new_group = (\n",
        "#     (df_labels_target_dynamic_raw['subreddit_id'] == subreddit_id_orphan_) |\n",
        "#     (\n",
        "#         (df_labels_target_dynamic_raw[col_new_cluster_name] == label_k_to_reassign_) &\n",
        "#         (df_labels_target_dynamic_raw[col_new_cluster_val] == label_val_to_reassign_)\n",
        "#     )\n",
        "# )\n",
        "\n",
        "# # assign is similar to what we do in the dynamic function\n",
        "# label_k_new_ = 'k_0118_label'\n",
        "# label_val_new_col_ = f\"{label_k_new_}_nested\"\n",
        "# new_prim_topic_col_ = label_k_new_.replace('_label', '_majority_primary_topic')\n",
        "# c_update_topic_mix_ = label_k_new_.replace('_label', suffix_new_topic_mix)\n",
        "\n",
        "# df_labels_target_dynamic_raw.loc[\n",
        "#     mask_orphan_and_new_group,\n",
        "#     col_new_cluster_name\n",
        "# ] = label_k_new_\n",
        "\n",
        "# df_labels_target_dynamic_raw.loc[\n",
        "#     mask_orphan_and_new_group,\n",
        "#     col_new_cluster_val\n",
        "# ] = df_labels_target_dynamic_raw[mask_orphan_and_new_group][label_val_new_col_]\n",
        "\n",
        "# df_labels_target_dynamic_raw.loc[\n",
        "#     mask_orphan_and_new_group,\n",
        "#     col_new_cluster_prim_topic\n",
        "# ] = df_labels_target_dynamic_raw[mask_orphan_and_new_group][new_prim_topic_col_]\n",
        "\n",
        "# df_labels_target_dynamic_raw.loc[\n",
        "#     mask_orphan_and_new_group,\n",
        "#     col_new_cluster_topic_mix\n",
        "# ] = df_labels_target_dynamic_raw[mask_orphan_and_new_group][c_update_topic_mix_]\n",
        "\n",
        "# del mask_orphan_and_new_group, label_k_to_reassign_, label_val_to_reassign_\n",
        "# del label_k_new_, label_val_new_col_, new_prim_topic_col_"
      ]
    },
    {
      "cell_type": "code",
      "source": [
        "# # check again, num of orphans should be lower than before\n",
        "# style_df_numeric(\n",
        "#     get_dynamic_cluster_summary(\n",
        "#         df_labels_target_dynamic_raw,\n",
        "#         return_dict=False,\n",
        "#     ),\n",
        "#     rename_cols_for_display=True,\n",
        "# )"
      ],
      "metadata": {
        "id": "1inAAtHzTSl2"
      },
      "execution_count": 32,
      "outputs": []
    },
    {
      "cell_type": "code",
      "execution_count": 33,
      "metadata": {
        "id": "wSkhAV5wkFIG",
        "scrolled": false
      },
      "outputs": [],
      "source": [
        "# value_counts_and_pcts(\n",
        "#     df_labels_target_dynamic_raw,\n",
        "#     ['cluster_label'],\n",
        "#     top_n=None,\n",
        "#     return_df=True\n",
        "# )['count'].describe()"
      ]
    },
    {
      "cell_type": "markdown",
      "source": [
        "## Get cluster for humans (list of subs in a cluster in a cell)\n",
        "Here we get 1 cluster per row. \n",
        "Use cases:\n",
        "- It makes it easier to quickly check NSFW clusters that we'll filter out\n",
        "- we'll append the list of subreddit names from here to the final table for QA (makes it easier to evaluate whether the cluster makes sense).\n"
      ],
      "metadata": {
        "id": "LduoDdr1YX4t"
      }
    },
    {
      "cell_type": "code",
      "source": [
        "col_subs_in_cluster_count = 'subs_in_cluster_count'\n",
        "col_list_cluster_names = 'list_cluster_subreddit_names'\n",
        "\n",
        "df_cluster_for_humans = reshape_df_to_get_1_cluster_per_row(\n",
        "    df_labels_target_dynamic_raw,\n",
        "    col_counterpart_count=col_subs_in_cluster_count,\n",
        "    col_list_cluster_names=col_list_cluster_names,\n",
        "    col_list_cluster_ids='list_cluster_subreddit_ids',\n",
        "    col_new_cluster_val=col_new_cluster_val,\n",
        "    col_new_cluster_name=col_new_cluster_name,\n",
        "    col_new_cluster_val_int=col_new_cluster_val_int,\n",
        "    col_new_cluster_topic=col_new_cluster_topic_mix,\n",
        "    verbose=False,\n",
        "    get_one_column_per_sub_id=False,\n",
        ")"
      ],
      "metadata": {
        "id": "H7Hc6UBkvUXO",
        "colab": {
          "base_uri": "https://localhost:8080/"
        },
        "outputId": "a491fe9c-3e0a-4499-dbcd-812f30af6a96"
      },
      "execution_count": 36,
      "outputs": [
        {
          "output_type": "stream",
          "name": "stdout",
          "text": [
            "(17, 7)\n"
          ]
        }
      ]
    },
    {
      "cell_type": "code",
      "source": [
        "df_cluster_for_humans.iloc[10:15, :-1] # .iloc[40:45, :]"
      ],
      "metadata": {
        "id": "qGvaKgatwCXi",
        "colab": {
          "base_uri": "https://localhost:8080/",
          "height": 337
        },
        "outputId": "40da4c63-a6c9-4bfc-f798-4b4e35f93867"
      },
      "execution_count": 40,
      "outputs": [
        {
          "output_type": "execute_result",
          "data": {
            "text/plain": [
              "                              cluster_label cluster_label_k cluster_topic_mix  cluster_label_int  subs_in_cluster_count                                                              list_cluster_subreddit_names\n",
              "10                                     0010    k_0013_label            Sports                 10                      2                                                                        fauxcyrillic, maps\n",
              "11                 0011-0018-0032-0043-0046    k_0063_label            Gaming                 46                      5                              forager, progressbar95, riskuniversalis, wyrmworks, critcrab\n",
              "12                           0011-0018-0033    k_0041_label            Gaming                 33                      5                                   discordadvertising, geforcenow, g2a, outlast, dukenukem\n",
              "13  0011-0018-0033-0048-0051-0064-0068-0096    k_0118_label            Gaming                 96                      6  csgohacks, bulletforce, rustylake, deadbydaylightkillers, deadbydaylight, perkbydaylight\n",
              "14                                     0012    k_0013_label             Music                 12                      6                                     rorep, yeat_, loatheband, hbo, asimov, gametoonsmemes"
            ],
            "text/html": [
              "\n",
              "  <div id=\"df-5507c3eb-3584-408f-8977-33042fec3c76\">\n",
              "    <div class=\"colab-df-container\">\n",
              "      <div>\n",
              "<style scoped>\n",
              "    .dataframe tbody tr th:only-of-type {\n",
              "        vertical-align: middle;\n",
              "    }\n",
              "\n",
              "    .dataframe tbody tr th {\n",
              "        vertical-align: top;\n",
              "    }\n",
              "\n",
              "    .dataframe thead th {\n",
              "        text-align: right;\n",
              "    }\n",
              "</style>\n",
              "<table border=\"1\" class=\"dataframe\">\n",
              "  <thead>\n",
              "    <tr style=\"text-align: right;\">\n",
              "      <th></th>\n",
              "      <th>cluster_label</th>\n",
              "      <th>cluster_label_k</th>\n",
              "      <th>cluster_topic_mix</th>\n",
              "      <th>cluster_label_int</th>\n",
              "      <th>subs_in_cluster_count</th>\n",
              "      <th>list_cluster_subreddit_names</th>\n",
              "    </tr>\n",
              "  </thead>\n",
              "  <tbody>\n",
              "    <tr>\n",
              "      <th>10</th>\n",
              "      <td>0010</td>\n",
              "      <td>k_0013_label</td>\n",
              "      <td>Sports</td>\n",
              "      <td>10</td>\n",
              "      <td>2</td>\n",
              "      <td>fauxcyrillic, maps</td>\n",
              "    </tr>\n",
              "    <tr>\n",
              "      <th>11</th>\n",
              "      <td>0011-0018-0032-0043-0046</td>\n",
              "      <td>k_0063_label</td>\n",
              "      <td>Gaming</td>\n",
              "      <td>46</td>\n",
              "      <td>5</td>\n",
              "      <td>forager, progressbar95, riskuniversalis, wyrmworks, critcrab</td>\n",
              "    </tr>\n",
              "    <tr>\n",
              "      <th>12</th>\n",
              "      <td>0011-0018-0033</td>\n",
              "      <td>k_0041_label</td>\n",
              "      <td>Gaming</td>\n",
              "      <td>33</td>\n",
              "      <td>5</td>\n",
              "      <td>discordadvertising, geforcenow, g2a, outlast, dukenukem</td>\n",
              "    </tr>\n",
              "    <tr>\n",
              "      <th>13</th>\n",
              "      <td>0011-0018-0033-0048-0051-0064-0068-0096</td>\n",
              "      <td>k_0118_label</td>\n",
              "      <td>Gaming</td>\n",
              "      <td>96</td>\n",
              "      <td>6</td>\n",
              "      <td>csgohacks, bulletforce, rustylake, deadbydaylightkillers, deadbydaylight, perkbydaylight</td>\n",
              "    </tr>\n",
              "    <tr>\n",
              "      <th>14</th>\n",
              "      <td>0012</td>\n",
              "      <td>k_0013_label</td>\n",
              "      <td>Music</td>\n",
              "      <td>12</td>\n",
              "      <td>6</td>\n",
              "      <td>rorep, yeat_, loatheband, hbo, asimov, gametoonsmemes</td>\n",
              "    </tr>\n",
              "  </tbody>\n",
              "</table>\n",
              "</div>\n",
              "      <button class=\"colab-df-convert\" onclick=\"convertToInteractive('df-5507c3eb-3584-408f-8977-33042fec3c76')\"\n",
              "              title=\"Convert this dataframe to an interactive table.\"\n",
              "              style=\"display:none;\">\n",
              "        \n",
              "  <svg xmlns=\"http://www.w3.org/2000/svg\" height=\"24px\"viewBox=\"0 0 24 24\"\n",
              "       width=\"24px\">\n",
              "    <path d=\"M0 0h24v24H0V0z\" fill=\"none\"/>\n",
              "    <path d=\"M18.56 5.44l.94 2.06.94-2.06 2.06-.94-2.06-.94-.94-2.06-.94 2.06-2.06.94zm-11 1L8.5 8.5l.94-2.06 2.06-.94-2.06-.94L8.5 2.5l-.94 2.06-2.06.94zm10 10l.94 2.06.94-2.06 2.06-.94-2.06-.94-.94-2.06-.94 2.06-2.06.94z\"/><path d=\"M17.41 7.96l-1.37-1.37c-.4-.4-.92-.59-1.43-.59-.52 0-1.04.2-1.43.59L10.3 9.45l-7.72 7.72c-.78.78-.78 2.05 0 2.83L4 21.41c.39.39.9.59 1.41.59.51 0 1.02-.2 1.41-.59l7.78-7.78 2.81-2.81c.8-.78.8-2.07 0-2.86zM5.41 20L4 18.59l7.72-7.72 1.47 1.35L5.41 20z\"/>\n",
              "  </svg>\n",
              "      </button>\n",
              "      \n",
              "  <style>\n",
              "    .colab-df-container {\n",
              "      display:flex;\n",
              "      flex-wrap:wrap;\n",
              "      gap: 12px;\n",
              "    }\n",
              "\n",
              "    .colab-df-convert {\n",
              "      background-color: #E8F0FE;\n",
              "      border: none;\n",
              "      border-radius: 50%;\n",
              "      cursor: pointer;\n",
              "      display: none;\n",
              "      fill: #1967D2;\n",
              "      height: 32px;\n",
              "      padding: 0 0 0 0;\n",
              "      width: 32px;\n",
              "    }\n",
              "\n",
              "    .colab-df-convert:hover {\n",
              "      background-color: #E2EBFA;\n",
              "      box-shadow: 0px 1px 2px rgba(60, 64, 67, 0.3), 0px 1px 3px 1px rgba(60, 64, 67, 0.15);\n",
              "      fill: #174EA6;\n",
              "    }\n",
              "\n",
              "    [theme=dark] .colab-df-convert {\n",
              "      background-color: #3B4455;\n",
              "      fill: #D2E3FC;\n",
              "    }\n",
              "\n",
              "    [theme=dark] .colab-df-convert:hover {\n",
              "      background-color: #434B5C;\n",
              "      box-shadow: 0px 1px 3px 1px rgba(0, 0, 0, 0.15);\n",
              "      filter: drop-shadow(0px 1px 2px rgba(0, 0, 0, 0.3));\n",
              "      fill: #FFFFFF;\n",
              "    }\n",
              "  </style>\n",
              "\n",
              "      <script>\n",
              "        const buttonEl =\n",
              "          document.querySelector('#df-5507c3eb-3584-408f-8977-33042fec3c76 button.colab-df-convert');\n",
              "        buttonEl.style.display =\n",
              "          google.colab.kernel.accessAllowed ? 'block' : 'none';\n",
              "\n",
              "        async function convertToInteractive(key) {\n",
              "          const element = document.querySelector('#df-5507c3eb-3584-408f-8977-33042fec3c76');\n",
              "          const dataTable =\n",
              "            await google.colab.kernel.invokeFunction('convertToInteractive',\n",
              "                                                     [key], {});\n",
              "          if (!dataTable) return;\n",
              "\n",
              "          const docLinkHtml = 'Like what you see? Visit the ' +\n",
              "            '<a target=\"_blank\" href=https://colab.research.google.com/notebooks/data_table.ipynb>data table notebook</a>'\n",
              "            + ' to learn more about interactive tables.';\n",
              "          element.innerHTML = '';\n",
              "          dataTable['output_type'] = 'display_data';\n",
              "          await google.colab.output.renderOutput(dataTable, element);\n",
              "          const docLink = document.createElement('div');\n",
              "          docLink.innerHTML = docLinkHtml;\n",
              "          element.appendChild(docLink);\n",
              "        }\n",
              "      </script>\n",
              "    </div>\n",
              "  </div>\n",
              "  "
            ]
          },
          "metadata": {},
          "execution_count": 40
        }
      ]
    },
    {
      "cell_type": "code",
      "source": [
        "# df_cluster_for_humans.tail(9)"
      ],
      "metadata": {
        "id": "RMqkvKDYwro-"
      },
      "execution_count": 41,
      "outputs": []
    },
    {
      "cell_type": "markdown",
      "source": [
        "### Check clusters that have mature topics\n",
        "\n",
        "Make a list of cluster IDs to exclude for clean df"
      ],
      "metadata": {
        "id": "WP54A2--e79X"
      }
    },
    {
      "cell_type": "code",
      "source": [
        "mask_mature_clusters_ = (\n",
        "    df_cluster_for_humans[col_new_cluster_topic_mix].str.lower()\n",
        "    .str.contains('mature')\n",
        ")\n",
        "print(f\"{mask_mature_clusters_.sum()} <- clusters with 'Mature' in topic mix\")"
      ],
      "metadata": {
        "id": "akSL1VXoTSjs",
        "colab": {
          "base_uri": "https://localhost:8080/"
        },
        "outputId": "7a085cbb-52e8-41d8-92a3-13d91d55520a"
      },
      "execution_count": 42,
      "outputs": [
        {
          "output_type": "stream",
          "name": "stdout",
          "text": [
            "4 <- clusters with 'Mature' in topic mix\n"
          ]
        }
      ]
    },
    {
      "cell_type": "code",
      "source": [
        "# check the first few clusters\n",
        "(\n",
        "    df_cluster_for_humans\n",
        "    [mask_mature_clusters_]\n",
        "    .iloc[:5, :-1]\n",
        ")"
      ],
      "metadata": {
        "id": "JR1tE0wyTShf",
        "colab": {
          "base_uri": "https://localhost:8080/",
          "height": 306
        },
        "outputId": "4a5c6abd-e501-4415-8359-641f6398272b"
      },
      "execution_count": 44,
      "outputs": [
        {
          "output_type": "execute_result",
          "data": {
            "text/plain": [
              "  cluster_label cluster_label_k                cluster_topic_mix  cluster_label_int  subs_in_cluster_count                                                           list_cluster_subreddit_names\n",
              "0          0001    k_0013_label  Mature Themes and Adult Content                  1                      1                                                                      romanianhotcelebs\n",
              "1          0002    k_0013_label  Mature Themes and Adult Content                  2                      1                                                                              babyxzara\n",
              "2          0005    k_0013_label  Mature Themes and Adult Content                  5                      1                                                                        goddess_network\n",
              "8     0008-0013    k_0023_label  Mature Themes and Adult Content                 13                      6  ghostposter, romanian, thebackrooms, neardeathexperiences, gifted, askoldpeopleadvice"
            ],
            "text/html": [
              "\n",
              "  <div id=\"df-f04b4c22-2aed-4277-97e0-7c77302294f8\">\n",
              "    <div class=\"colab-df-container\">\n",
              "      <div>\n",
              "<style scoped>\n",
              "    .dataframe tbody tr th:only-of-type {\n",
              "        vertical-align: middle;\n",
              "    }\n",
              "\n",
              "    .dataframe tbody tr th {\n",
              "        vertical-align: top;\n",
              "    }\n",
              "\n",
              "    .dataframe thead th {\n",
              "        text-align: right;\n",
              "    }\n",
              "</style>\n",
              "<table border=\"1\" class=\"dataframe\">\n",
              "  <thead>\n",
              "    <tr style=\"text-align: right;\">\n",
              "      <th></th>\n",
              "      <th>cluster_label</th>\n",
              "      <th>cluster_label_k</th>\n",
              "      <th>cluster_topic_mix</th>\n",
              "      <th>cluster_label_int</th>\n",
              "      <th>subs_in_cluster_count</th>\n",
              "      <th>list_cluster_subreddit_names</th>\n",
              "    </tr>\n",
              "  </thead>\n",
              "  <tbody>\n",
              "    <tr>\n",
              "      <th>0</th>\n",
              "      <td>0001</td>\n",
              "      <td>k_0013_label</td>\n",
              "      <td>Mature Themes and Adult Content</td>\n",
              "      <td>1</td>\n",
              "      <td>1</td>\n",
              "      <td>romanianhotcelebs</td>\n",
              "    </tr>\n",
              "    <tr>\n",
              "      <th>1</th>\n",
              "      <td>0002</td>\n",
              "      <td>k_0013_label</td>\n",
              "      <td>Mature Themes and Adult Content</td>\n",
              "      <td>2</td>\n",
              "      <td>1</td>\n",
              "      <td>babyxzara</td>\n",
              "    </tr>\n",
              "    <tr>\n",
              "      <th>2</th>\n",
              "      <td>0005</td>\n",
              "      <td>k_0013_label</td>\n",
              "      <td>Mature Themes and Adult Content</td>\n",
              "      <td>5</td>\n",
              "      <td>1</td>\n",
              "      <td>goddess_network</td>\n",
              "    </tr>\n",
              "    <tr>\n",
              "      <th>8</th>\n",
              "      <td>0008-0013</td>\n",
              "      <td>k_0023_label</td>\n",
              "      <td>Mature Themes and Adult Content</td>\n",
              "      <td>13</td>\n",
              "      <td>6</td>\n",
              "      <td>ghostposter, romanian, thebackrooms, neardeathexperiences, gifted, askoldpeopleadvice</td>\n",
              "    </tr>\n",
              "  </tbody>\n",
              "</table>\n",
              "</div>\n",
              "      <button class=\"colab-df-convert\" onclick=\"convertToInteractive('df-f04b4c22-2aed-4277-97e0-7c77302294f8')\"\n",
              "              title=\"Convert this dataframe to an interactive table.\"\n",
              "              style=\"display:none;\">\n",
              "        \n",
              "  <svg xmlns=\"http://www.w3.org/2000/svg\" height=\"24px\"viewBox=\"0 0 24 24\"\n",
              "       width=\"24px\">\n",
              "    <path d=\"M0 0h24v24H0V0z\" fill=\"none\"/>\n",
              "    <path d=\"M18.56 5.44l.94 2.06.94-2.06 2.06-.94-2.06-.94-.94-2.06-.94 2.06-2.06.94zm-11 1L8.5 8.5l.94-2.06 2.06-.94-2.06-.94L8.5 2.5l-.94 2.06-2.06.94zm10 10l.94 2.06.94-2.06 2.06-.94-2.06-.94-.94-2.06-.94 2.06-2.06.94z\"/><path d=\"M17.41 7.96l-1.37-1.37c-.4-.4-.92-.59-1.43-.59-.52 0-1.04.2-1.43.59L10.3 9.45l-7.72 7.72c-.78.78-.78 2.05 0 2.83L4 21.41c.39.39.9.59 1.41.59.51 0 1.02-.2 1.41-.59l7.78-7.78 2.81-2.81c.8-.78.8-2.07 0-2.86zM5.41 20L4 18.59l7.72-7.72 1.47 1.35L5.41 20z\"/>\n",
              "  </svg>\n",
              "      </button>\n",
              "      \n",
              "  <style>\n",
              "    .colab-df-container {\n",
              "      display:flex;\n",
              "      flex-wrap:wrap;\n",
              "      gap: 12px;\n",
              "    }\n",
              "\n",
              "    .colab-df-convert {\n",
              "      background-color: #E8F0FE;\n",
              "      border: none;\n",
              "      border-radius: 50%;\n",
              "      cursor: pointer;\n",
              "      display: none;\n",
              "      fill: #1967D2;\n",
              "      height: 32px;\n",
              "      padding: 0 0 0 0;\n",
              "      width: 32px;\n",
              "    }\n",
              "\n",
              "    .colab-df-convert:hover {\n",
              "      background-color: #E2EBFA;\n",
              "      box-shadow: 0px 1px 2px rgba(60, 64, 67, 0.3), 0px 1px 3px 1px rgba(60, 64, 67, 0.15);\n",
              "      fill: #174EA6;\n",
              "    }\n",
              "\n",
              "    [theme=dark] .colab-df-convert {\n",
              "      background-color: #3B4455;\n",
              "      fill: #D2E3FC;\n",
              "    }\n",
              "\n",
              "    [theme=dark] .colab-df-convert:hover {\n",
              "      background-color: #434B5C;\n",
              "      box-shadow: 0px 1px 3px 1px rgba(0, 0, 0, 0.15);\n",
              "      filter: drop-shadow(0px 1px 2px rgba(0, 0, 0, 0.3));\n",
              "      fill: #FFFFFF;\n",
              "    }\n",
              "  </style>\n",
              "\n",
              "      <script>\n",
              "        const buttonEl =\n",
              "          document.querySelector('#df-f04b4c22-2aed-4277-97e0-7c77302294f8 button.colab-df-convert');\n",
              "        buttonEl.style.display =\n",
              "          google.colab.kernel.accessAllowed ? 'block' : 'none';\n",
              "\n",
              "        async function convertToInteractive(key) {\n",
              "          const element = document.querySelector('#df-f04b4c22-2aed-4277-97e0-7c77302294f8');\n",
              "          const dataTable =\n",
              "            await google.colab.kernel.invokeFunction('convertToInteractive',\n",
              "                                                     [key], {});\n",
              "          if (!dataTable) return;\n",
              "\n",
              "          const docLinkHtml = 'Like what you see? Visit the ' +\n",
              "            '<a target=\"_blank\" href=https://colab.research.google.com/notebooks/data_table.ipynb>data table notebook</a>'\n",
              "            + ' to learn more about interactive tables.';\n",
              "          element.innerHTML = '';\n",
              "          dataTable['output_type'] = 'display_data';\n",
              "          await google.colab.output.renderOutput(dataTable, element);\n",
              "          const docLink = document.createElement('div');\n",
              "          docLink.innerHTML = docLinkHtml;\n",
              "          element.appendChild(docLink);\n",
              "        }\n",
              "      </script>\n",
              "    </div>\n",
              "  </div>\n",
              "  "
            ]
          },
          "metadata": {},
          "execution_count": 44
        }
      ]
    },
    {
      "cell_type": "code",
      "source": [
        "# (\n",
        "#     df_cluster_for_humans\n",
        "#     [mask_mature_clusters_]\n",
        "#     .iloc[-12:, :]\n",
        "# )"
      ],
      "metadata": {
        "id": "QpbjWoLglRHv"
      },
      "execution_count": 97,
      "outputs": []
    },
    {
      "cell_type": "code",
      "source": [
        "# might need to re-import in order for updates to show up\n",
        "from subclu.models.reshape_clusters_v041 import _L_MATURE_CLUSTERS_TO_EXCLUDE_FROM_QA_, flag_mature_clusters_to_exclude_from_qa\n",
        "\n",
        "print(len(_L_MATURE_CLUSTERS_TO_EXCLUDE_FROM_QA_))\n",
        "_L_MATURE_CLUSTERS_TO_EXCLUDE_FROM_QA_[25:35]"
      ],
      "metadata": {
        "id": "5oSnItkCTSfT",
        "colab": {
          "base_uri": "https://localhost:8080/"
        },
        "outputId": "95178f42-d7d2-4ac6-fcea-531915f49383"
      },
      "execution_count": 54,
      "outputs": [
        {
          "output_type": "stream",
          "name": "stdout",
          "text": [
            "71\n"
          ]
        },
        {
          "output_type": "execute_result",
          "data": {
            "text/plain": [
              "['0001-0001-0003-0003-0003-0004-0005-0005',\n",
              " '0001-0001-0001-0001-0001-0002-0002-0002-0005-0009-0012-0014',\n",
              " '0001-0001-0002-0002-0002-0003-0003-0003-0009-0017',\n",
              " '0001-0001-0003-0003-0003-0004-0005-0005-0011-0020-0029',\n",
              " '0001-0001-0003-0003-0003-0004-0005-0005-0011-0020-0030',\n",
              " '0001-0001-0003-0003-0003-0004-0005-0005-0012',\n",
              " '0001-0001-0003-0003-0003-0004-0005-0005-0012-0022-0032',\n",
              " '0001-0001-0003-0003-0003-0004-0005-0005-0012-0023-0033',\n",
              " '0001-0001-0003-0003-0003-0004-0005-0005-0013',\n",
              " '0001-0001-0003-0003-0003-0004-0005-0005-0013-0026-0036-0043']"
            ]
          },
          "metadata": {},
          "execution_count": 54
        }
      ]
    },
    {
      "cell_type": "code",
      "source": [
        "# sorted(_L_MATURE_CLUSTERS_TO_EXCLUDE_FROM_QA_)"
      ],
      "metadata": {
        "id": "3P87dpBgM0ab"
      },
      "execution_count": 55,
      "outputs": []
    },
    {
      "cell_type": "markdown",
      "source": [
        "### Add the flag to exclude from QA & the list of sub names to df-raw"
      ],
      "metadata": {
        "id": "jD5H2cNRsGnL"
      }
    },
    {
      "cell_type": "code",
      "source": [
        "val_exclude_from_qa = 'exclude from QA'\n",
        "col_exclude_from_qa = 'exclude_from_qa'\n",
        "\n",
        "\n",
        "df_cluster_for_humans[col_exclude_from_qa] = flag_mature_clusters_to_exclude_from_qa(\n",
        "    df_cluster_list=df_cluster_for_humans,\n",
        "    col_new_cluster_val=col_new_cluster_val,\n",
        "    col_exclude_from_qa=col_exclude_from_qa,\n",
        "    val_exclude_from_qa=val_exclude_from_qa,\n",
        "    list_known_nsfw_labels=_L_MATURE_CLUSTERS_TO_EXCLUDE_FROM_QA_,\n",
        "    depth_to_exclude=10,\n",
        "    verbose=True,\n",
        ")\n",
        "print(f\"{mask_mature_clusters_.sum()} <- clusters with 'Mature' in topic mix\")\n",
        "display(value_counts_and_pcts(df_cluster_for_humans[col_exclude_from_qa]))\n",
        "\n",
        "\n",
        "df_labels_target_dynamic_raw = (\n",
        "    df_labels_target_dynamic_raw\n",
        "    # drop in case we're re-assigning the values\n",
        "    .drop(\n",
        "        [c for c in [col_list_cluster_names, col_subs_in_cluster_count, col_exclude_from_qa] if c in df_labels_target_dynamic_raw.columns],\n",
        "        axis=1\n",
        "    )\n",
        "    .merge(\n",
        "        df_cluster_for_humans[[col_new_cluster_val, col_list_cluster_names, col_subs_in_cluster_count, col_exclude_from_qa]],\n",
        "        how='left',\n",
        "        on=[col_new_cluster_val],\n",
        "    )\n",
        ")\n",
        "\n",
        "df_labels_target_dynamic_raw.shape"
      ],
      "metadata": {
        "id": "dhabFk80TSdH",
        "colab": {
          "base_uri": "https://localhost:8080/",
          "height": 164
        },
        "outputId": "a015d843-ef16-4e52-b6a1-3fd1b418d696"
      },
      "execution_count": 56,
      "outputs": [
        {
          "output_type": "stream",
          "name": "stdout",
          "text": [
            "4 <- clusters with 'Mature' in topic mix\n"
          ]
        },
        {
          "output_type": "display_data",
          "data": {
            "text/plain": [
              "<pandas.io.formats.style.Styler at 0x7fa7d5c8cfd0>"
            ],
            "text/html": [
              "<style type=\"text/css\">\n",
              "#T_c90a2_row0_col1, #T_c90a2_row1_col2 {\n",
              "  width: 10em;\n",
              "  height: 80%;\n",
              "  background: linear-gradient(90deg,#95cff5 100.0%, transparent 100.0%);\n",
              "}\n",
              "#T_c90a2_row0_col2, #T_c90a2_row1_col1 {\n",
              "  width: 10em;\n",
              "  height: 80%;\n",
              "}\n",
              "</style>\n",
              "<table id=\"T_c90a2_\" class=\"dataframe\">\n",
              "  <thead>\n",
              "    <tr>\n",
              "      <th class=\"blank level0\" >&nbsp;</th>\n",
              "      <th class=\"col_heading level0 col0\" >exclude_from_qa-count</th>\n",
              "      <th class=\"col_heading level0 col1\" >exclude_from_qa-percent</th>\n",
              "      <th class=\"col_heading level0 col2\" >exclude_from_qa-pct_cumulative_sum</th>\n",
              "    </tr>\n",
              "  </thead>\n",
              "  <tbody>\n",
              "    <tr>\n",
              "      <th id=\"T_c90a2_level0_row0\" class=\"row_heading level0 row0\" >keep</th>\n",
              "      <td id=\"T_c90a2_row0_col0\" class=\"data row0 col0\" >14</td>\n",
              "      <td id=\"T_c90a2_row0_col1\" class=\"data row0 col1\" >82.4%</td>\n",
              "      <td id=\"T_c90a2_row0_col2\" class=\"data row0 col2\" >82.4%</td>\n",
              "    </tr>\n",
              "    <tr>\n",
              "      <th id=\"T_c90a2_level0_row1\" class=\"row_heading level0 row1\" >exclude from QA</th>\n",
              "      <td id=\"T_c90a2_row1_col0\" class=\"data row1 col0\" >3</td>\n",
              "      <td id=\"T_c90a2_row1_col1\" class=\"data row1 col1\" >17.6%</td>\n",
              "      <td id=\"T_c90a2_row1_col2\" class=\"data row1 col2\" >100.0%</td>\n",
              "    </tr>\n",
              "  </tbody>\n",
              "</table>\n"
            ]
          },
          "metadata": {}
        },
        {
          "output_type": "execute_result",
          "data": {
            "text/plain": [
              "(83, 128)"
            ]
          },
          "metadata": {},
          "execution_count": 56
        }
      ]
    },
    {
      "cell_type": "code",
      "source": [
        "mask_mature_clusters_ = (\n",
        "    df_cluster_for_humans[col_new_cluster_topic_mix].str.lower()\n",
        "    .str.contains('mature')\n",
        ")\n",
        "print(f\"{mask_mature_clusters_.sum()} <- clusters with 'Mature' in topic mix\")\n",
        "\n",
        "mask_keep_clusters = (\n",
        "    df_cluster_for_humans[col_exclude_from_qa] != val_exclude_from_qa\n",
        ")\n",
        "\n",
        "print(f\"\\nCluster IDs that are mature but kept:\")\n",
        "# get list of cluster-IDs to add to exclude to mature list\n",
        "(\n",
        "    df_cluster_for_humans\n",
        "    [mask_mature_clusters_ & mask_keep_clusters]\n",
        "    ['cluster_label']\n",
        "    .values\n",
        "    [:15]\n",
        ")"
      ],
      "metadata": {
        "colab": {
          "base_uri": "https://localhost:8080/"
        },
        "id": "SjMaD-Rc7dDH",
        "outputId": "57a3018a-0e6d-4ca6-b24e-112728a590e7"
      },
      "execution_count": 57,
      "outputs": [
        {
          "output_type": "stream",
          "name": "stdout",
          "text": [
            "4 <- clusters with 'Mature' in topic mix\n",
            "\n",
            "Cluster IDs that are mature but kept:\n"
          ]
        },
        {
          "output_type": "execute_result",
          "data": {
            "text/plain": [
              "array(['0008-0013'], dtype=object)"
            ]
          },
          "metadata": {},
          "execution_count": 57
        }
      ]
    },
    {
      "cell_type": "code",
      "source": [
        "(\n",
        "    df_cluster_for_humans\n",
        "    [mask_mature_clusters_ & mask_keep_clusters]\n",
        "    .iloc[:5, :]\n",
        ")"
      ],
      "metadata": {
        "colab": {
          "base_uri": "https://localhost:8080/",
          "height": 197
        },
        "id": "cpZtkJ57zA0h",
        "outputId": "838dcdd1-7528-4e51-e3f6-7ade06cb9bdb"
      },
      "execution_count": 58,
      "outputs": [
        {
          "output_type": "execute_result",
          "data": {
            "text/plain": [
              "  cluster_label cluster_label_k                cluster_topic_mix  cluster_label_int  subs_in_cluster_count                                                           list_cluster_subreddit_names                                    list_cluster_subreddit_ids exclude_from_qa\n",
              "8     0008-0013    k_0023_label  Mature Themes and Adult Content                 13                      6  ghostposter, romanian, thebackrooms, neardeathexperiences, gifted, askoldpeopleadvice  t5_39x2a, t5_2r3lm, t5_11mle5, t5_2u9p1, t5_2qzy8, t5_2jx9b6            keep"
            ],
            "text/html": [
              "\n",
              "  <div id=\"df-3ea27860-911a-4401-a5d9-b1cacb48f0cf\">\n",
              "    <div class=\"colab-df-container\">\n",
              "      <div>\n",
              "<style scoped>\n",
              "    .dataframe tbody tr th:only-of-type {\n",
              "        vertical-align: middle;\n",
              "    }\n",
              "\n",
              "    .dataframe tbody tr th {\n",
              "        vertical-align: top;\n",
              "    }\n",
              "\n",
              "    .dataframe thead th {\n",
              "        text-align: right;\n",
              "    }\n",
              "</style>\n",
              "<table border=\"1\" class=\"dataframe\">\n",
              "  <thead>\n",
              "    <tr style=\"text-align: right;\">\n",
              "      <th></th>\n",
              "      <th>cluster_label</th>\n",
              "      <th>cluster_label_k</th>\n",
              "      <th>cluster_topic_mix</th>\n",
              "      <th>cluster_label_int</th>\n",
              "      <th>subs_in_cluster_count</th>\n",
              "      <th>list_cluster_subreddit_names</th>\n",
              "      <th>list_cluster_subreddit_ids</th>\n",
              "      <th>exclude_from_qa</th>\n",
              "    </tr>\n",
              "  </thead>\n",
              "  <tbody>\n",
              "    <tr>\n",
              "      <th>8</th>\n",
              "      <td>0008-0013</td>\n",
              "      <td>k_0023_label</td>\n",
              "      <td>Mature Themes and Adult Content</td>\n",
              "      <td>13</td>\n",
              "      <td>6</td>\n",
              "      <td>ghostposter, romanian, thebackrooms, neardeathexperiences, gifted, askoldpeopleadvice</td>\n",
              "      <td>t5_39x2a, t5_2r3lm, t5_11mle5, t5_2u9p1, t5_2qzy8, t5_2jx9b6</td>\n",
              "      <td>keep</td>\n",
              "    </tr>\n",
              "  </tbody>\n",
              "</table>\n",
              "</div>\n",
              "      <button class=\"colab-df-convert\" onclick=\"convertToInteractive('df-3ea27860-911a-4401-a5d9-b1cacb48f0cf')\"\n",
              "              title=\"Convert this dataframe to an interactive table.\"\n",
              "              style=\"display:none;\">\n",
              "        \n",
              "  <svg xmlns=\"http://www.w3.org/2000/svg\" height=\"24px\"viewBox=\"0 0 24 24\"\n",
              "       width=\"24px\">\n",
              "    <path d=\"M0 0h24v24H0V0z\" fill=\"none\"/>\n",
              "    <path d=\"M18.56 5.44l.94 2.06.94-2.06 2.06-.94-2.06-.94-.94-2.06-.94 2.06-2.06.94zm-11 1L8.5 8.5l.94-2.06 2.06-.94-2.06-.94L8.5 2.5l-.94 2.06-2.06.94zm10 10l.94 2.06.94-2.06 2.06-.94-2.06-.94-.94-2.06-.94 2.06-2.06.94z\"/><path d=\"M17.41 7.96l-1.37-1.37c-.4-.4-.92-.59-1.43-.59-.52 0-1.04.2-1.43.59L10.3 9.45l-7.72 7.72c-.78.78-.78 2.05 0 2.83L4 21.41c.39.39.9.59 1.41.59.51 0 1.02-.2 1.41-.59l7.78-7.78 2.81-2.81c.8-.78.8-2.07 0-2.86zM5.41 20L4 18.59l7.72-7.72 1.47 1.35L5.41 20z\"/>\n",
              "  </svg>\n",
              "      </button>\n",
              "      \n",
              "  <style>\n",
              "    .colab-df-container {\n",
              "      display:flex;\n",
              "      flex-wrap:wrap;\n",
              "      gap: 12px;\n",
              "    }\n",
              "\n",
              "    .colab-df-convert {\n",
              "      background-color: #E8F0FE;\n",
              "      border: none;\n",
              "      border-radius: 50%;\n",
              "      cursor: pointer;\n",
              "      display: none;\n",
              "      fill: #1967D2;\n",
              "      height: 32px;\n",
              "      padding: 0 0 0 0;\n",
              "      width: 32px;\n",
              "    }\n",
              "\n",
              "    .colab-df-convert:hover {\n",
              "      background-color: #E2EBFA;\n",
              "      box-shadow: 0px 1px 2px rgba(60, 64, 67, 0.3), 0px 1px 3px 1px rgba(60, 64, 67, 0.15);\n",
              "      fill: #174EA6;\n",
              "    }\n",
              "\n",
              "    [theme=dark] .colab-df-convert {\n",
              "      background-color: #3B4455;\n",
              "      fill: #D2E3FC;\n",
              "    }\n",
              "\n",
              "    [theme=dark] .colab-df-convert:hover {\n",
              "      background-color: #434B5C;\n",
              "      box-shadow: 0px 1px 3px 1px rgba(0, 0, 0, 0.15);\n",
              "      filter: drop-shadow(0px 1px 2px rgba(0, 0, 0, 0.3));\n",
              "      fill: #FFFFFF;\n",
              "    }\n",
              "  </style>\n",
              "\n",
              "      <script>\n",
              "        const buttonEl =\n",
              "          document.querySelector('#df-3ea27860-911a-4401-a5d9-b1cacb48f0cf button.colab-df-convert');\n",
              "        buttonEl.style.display =\n",
              "          google.colab.kernel.accessAllowed ? 'block' : 'none';\n",
              "\n",
              "        async function convertToInteractive(key) {\n",
              "          const element = document.querySelector('#df-3ea27860-911a-4401-a5d9-b1cacb48f0cf');\n",
              "          const dataTable =\n",
              "            await google.colab.kernel.invokeFunction('convertToInteractive',\n",
              "                                                     [key], {});\n",
              "          if (!dataTable) return;\n",
              "\n",
              "          const docLinkHtml = 'Like what you see? Visit the ' +\n",
              "            '<a target=\"_blank\" href=https://colab.research.google.com/notebooks/data_table.ipynb>data table notebook</a>'\n",
              "            + ' to learn more about interactive tables.';\n",
              "          element.innerHTML = '';\n",
              "          dataTable['output_type'] = 'display_data';\n",
              "          await google.colab.output.renderOutput(dataTable, element);\n",
              "          const docLink = document.createElement('div');\n",
              "          docLink.innerHTML = docLinkHtml;\n",
              "          element.appendChild(docLink);\n",
              "        }\n",
              "      </script>\n",
              "    </div>\n",
              "  </div>\n",
              "  "
            ]
          },
          "metadata": {},
          "execution_count": 58
        }
      ]
    },
    {
      "cell_type": "markdown",
      "source": [
        "## Create new df_clean \n",
        "\n",
        "- Add list of subreddits to target-CLEAN, b/c we'll need it for rating final\n",
        "- Add new columns & update order\n"
      ],
      "metadata": {
        "id": "gnZ54MunsirK"
      }
    },
    {
      "cell_type": "markdown",
      "source": [
        "### Copy baseline cols for clean"
      ],
      "metadata": {
        "id": "FD0w863Gx5sN"
      }
    },
    {
      "cell_type": "code",
      "source": [
        "col_model_sort_order = 'model_sort_order'\n",
        "\n",
        "df_labels_target_dynamic_raw, df_labels_target_dynamic_clean = create_dynamic_clusters_clean(\n",
        "    df_dynamic_raw=df_labels_target_dynamic_raw,\n",
        "    col_new_cluster_val=col_new_cluster_val,\n",
        "    col_new_cluster_name=col_new_cluster_name,\n",
        "    col_new_cluster_prim_topic=col_new_cluster_prim_topic,\n",
        "    col_new_cluster_topic_mix=col_new_cluster_topic_mix,\n",
        "    col_subreddit_topic_mix=col_subreddit_topic_mix,\n",
        ")\n",
        "\n",
        "# check num of orphans for clean\n",
        "display(style_df_numeric(\n",
        "    get_dynamic_cluster_summary(\n",
        "        df_labels_target_dynamic_clean.rename(columns={c: c.replace(' ', '_') for c in df_labels_target_dynamic_clean.columns}),\n",
        "        return_dict=False,\n",
        "    ),\n",
        "    rename_cols_for_display=True,\n",
        ").set_caption(f\"Summary for df-CLEAN\"))\n",
        "\n",
        "\n",
        "# print(f\"{len(l_cols_clean_final_for_qa)} <- expected final col count\")\n",
        "print(f\"{df_labels_target_dynamic_raw.shape} <- df raw shape\")\n",
        "print(f\"{df_labels_target_dynamic_clean.shape} <- df clean shape\")"
      ],
      "metadata": {
        "colab": {
          "base_uri": "https://localhost:8080/",
          "height": 199
        },
        "id": "LbAqbw3f_dNS",
        "outputId": "d329a89b-5669-4554-e57c-9dfa50c8abbf"
      },
      "execution_count": 59,
      "outputs": [
        {
          "output_type": "display_data",
          "data": {
            "text/plain": [
              "<pandas.io.formats.style.Styler at 0x7fa7ebb62150>"
            ],
            "text/html": [
              "<style type=\"text/css\">\n",
              "</style>\n",
              "<table id=\"T_45a8b_\" class=\"dataframe\">\n",
              "  <caption>Summary for df-CLEAN</caption>\n",
              "  <thead>\n",
              "    <tr>\n",
              "      <th class=\"blank level0\" >&nbsp;</th>\n",
              "      <th class=\"col_heading level0 col0\" >cluster count</th>\n",
              "      <th class=\"col_heading level0 col1\" >num orphan subreddits</th>\n",
              "      <th class=\"col_heading level0 col2\" >num subreddits per cluster min</th>\n",
              "      <th class=\"col_heading level0 col3\" >num subreddits per cluster mean</th>\n",
              "      <th class=\"col_heading level0 col4\" >num subreddits per cluster median</th>\n",
              "      <th class=\"col_heading level0 col5\" >num subreddits per cluster max</th>\n",
              "      <th class=\"col_heading level0 col6\" >num clusters with mature primary topic</th>\n",
              "      <th class=\"col_heading level0 col7\" >cluster ids with orphans</th>\n",
              "    </tr>\n",
              "    <tr>\n",
              "      <th class=\"index_name level0\" ></th>\n",
              "      <th class=\"blank col0\" >&nbsp;</th>\n",
              "      <th class=\"blank col1\" >&nbsp;</th>\n",
              "      <th class=\"blank col2\" >&nbsp;</th>\n",
              "      <th class=\"blank col3\" >&nbsp;</th>\n",
              "      <th class=\"blank col4\" >&nbsp;</th>\n",
              "      <th class=\"blank col5\" >&nbsp;</th>\n",
              "      <th class=\"blank col6\" >&nbsp;</th>\n",
              "      <th class=\"blank col7\" >&nbsp;</th>\n",
              "    </tr>\n",
              "  </thead>\n",
              "  <tbody>\n",
              "    <tr>\n",
              "      <th id=\"T_45a8b_level0_row0\" class=\"row_heading level0 row0\" >0</th>\n",
              "      <td id=\"T_45a8b_row0_col0\" class=\"data row0 col0\" >14</td>\n",
              "      <td id=\"T_45a8b_row0_col1\" class=\"data row0 col1\" >0</td>\n",
              "      <td id=\"T_45a8b_row0_col2\" class=\"data row0 col2\" >2</td>\n",
              "      <td id=\"T_45a8b_row0_col3\" class=\"data row0 col3\" >5.71</td>\n",
              "      <td id=\"T_45a8b_row0_col4\" class=\"data row0 col4\" >5.00</td>\n",
              "      <td id=\"T_45a8b_row0_col5\" class=\"data row0 col5\" >13</td>\n",
              "      <td id=\"T_45a8b_row0_col6\" class=\"data row0 col6\" >1</td>\n",
              "      <td id=\"T_45a8b_row0_col7\" class=\"data row0 col7\" ></td>\n",
              "    </tr>\n",
              "  </tbody>\n",
              "</table>\n"
            ]
          },
          "metadata": {}
        },
        {
          "output_type": "stream",
          "name": "stdout",
          "text": [
            "(83, 130) <- df raw shape\n",
            "(80, 33) <- df clean shape\n"
          ]
        }
      ]
    },
    {
      "cell_type": "code",
      "source": [
        "# [c for c in df_labels_target_dynamic_clean.columns if 'cluster' in c]"
      ],
      "metadata": {
        "id": "_Q2LndoMAZzI"
      },
      "execution_count": 60,
      "outputs": []
    },
    {
      "cell_type": "code",
      "source": [
        "# df_labels_target_dynamic_clean.iloc[:5, :29]"
      ],
      "metadata": {
        "id": "HghBNA7W4UkV"
      },
      "execution_count": 61,
      "outputs": []
    },
    {
      "cell_type": "code",
      "source": [
        "# df_labels_target_dynamic_clean.iloc[:5, -10:]"
      ],
      "metadata": {
        "id": "v14QI4qWA68_"
      },
      "execution_count": 62,
      "outputs": []
    },
    {
      "cell_type": "markdown",
      "source": [
        "## Create target to target list for FPR example"
      ],
      "metadata": {
        "id": "tCRkN1pE91ed"
      }
    },
    {
      "cell_type": "code",
      "source": [
        "%%time\n",
        "print(datetime.utcnow())\n",
        "\n",
        "df_target_to_target_list = convert_distance_or_ab_to_list_for_fpr(\n",
        "    df_labels_target_dynamic_clean.rename(columns={c: c.replace(' ', '_') for c in df_labels_target_dynamic_clean.columns}),\n",
        "    convert_to_ab=True,\n",
        "    col_counterpart_count='counterpart_count',\n",
        "    col_list_cluster_names='list_cluster_subreddit_names',\n",
        "    col_list_cluster_ids='list_cluster_subreddit_ids',\n",
        "    l_cols_for_seeds=None,\n",
        "    l_cols_for_clusters=None,\n",
        "    col_new_cluster_val=col_new_cluster_val,\n",
        "    col_new_cluster_name=col_new_cluster_name,\n",
        "    col_new_cluster_prim_topic=col_new_cluster_prim_topic,\n",
        "    verbose=False,\n",
        ")\n",
        "df_target_to_target_list.shape"
      ],
      "metadata": {
        "id": "MLD4V-Qi95D3",
        "colab": {
          "base_uri": "https://localhost:8080/"
        },
        "outputId": "4ea01b93-771a-40df-a656-f3a5a69fc5cf"
      },
      "execution_count": 63,
      "outputs": [
        {
          "output_type": "stream",
          "name": "stdout",
          "text": [
            "2022-04-07 01:33:55.973235\n",
            "  (468, 9) <- df_ab.shape after removing matches to self\n",
            "  (63, 9) <- df_a_to_b.shape\n",
            "CPU times: user 30.7 ms, sys: 0 ns, total: 30.7 ms\n",
            "Wall time: 30.6 ms\n"
          ]
        }
      ]
    },
    {
      "cell_type": "code",
      "source": [
        "df_target_to_target_list.drop('list_cluster_subreddit_ids', axis=1).iloc[:5, :11]"
      ],
      "metadata": {
        "id": "uS41Lu2B-NbZ",
        "colab": {
          "base_uri": "https://localhost:8080/",
          "height": 444
        },
        "outputId": "5e98e8bc-1b7a-490f-94b1-9b076ef058ec"
      },
      "execution_count": 64,
      "outputs": [
        {
          "output_type": "execute_result",
          "data": {
            "text/plain": [
              "  subreddit_id_seed subreddit_name_seed                            cluster_label cluster_label_k primary_topic cluster_majority_primary_topic  counterpart_count                                                         list_cluster_subreddit_names\n",
              "0          t5_2qhz5                 asm                                     0006    k_0013_label   Programming                     Technology                  8  needforspeed, skullcandy, ftc, asustuf, motorola, rpa, serialeturcestionline, dacia\n",
              "1          t5_2s94r                 rpa                                     0006    k_0013_label    Technology                     Technology                  8  needforspeed, skullcandy, ftc, asustuf, motorola, asm, serialeturcestionline, dacia\n",
              "2          t5_2qh70               yahoo  0006-0008-0013-0017-0017-0021-0022-0026    k_0118_label    Technology                     Technology                  4                                              youtubemusic, bitdefender, invites, crt\n",
              "3          t5_35n4m         bitdefender  0006-0008-0013-0017-0017-0021-0022-0026    k_0118_label    Technology                     Technology                  4                                                    youtubemusic, invites, yahoo, crt\n",
              "4          t5_2sclw                 crt  0006-0008-0013-0017-0017-0021-0022-0026    k_0118_label    Technology                     Technology                  4                                            youtubemusic, bitdefender, invites, yahoo"
            ],
            "text/html": [
              "\n",
              "  <div id=\"df-b6de1e77-cdce-4958-b0f9-534feb566941\">\n",
              "    <div class=\"colab-df-container\">\n",
              "      <div>\n",
              "<style scoped>\n",
              "    .dataframe tbody tr th:only-of-type {\n",
              "        vertical-align: middle;\n",
              "    }\n",
              "\n",
              "    .dataframe tbody tr th {\n",
              "        vertical-align: top;\n",
              "    }\n",
              "\n",
              "    .dataframe thead th {\n",
              "        text-align: right;\n",
              "    }\n",
              "</style>\n",
              "<table border=\"1\" class=\"dataframe\">\n",
              "  <thead>\n",
              "    <tr style=\"text-align: right;\">\n",
              "      <th></th>\n",
              "      <th>subreddit_id_seed</th>\n",
              "      <th>subreddit_name_seed</th>\n",
              "      <th>cluster_label</th>\n",
              "      <th>cluster_label_k</th>\n",
              "      <th>primary_topic</th>\n",
              "      <th>cluster_majority_primary_topic</th>\n",
              "      <th>counterpart_count</th>\n",
              "      <th>list_cluster_subreddit_names</th>\n",
              "    </tr>\n",
              "  </thead>\n",
              "  <tbody>\n",
              "    <tr>\n",
              "      <th>0</th>\n",
              "      <td>t5_2qhz5</td>\n",
              "      <td>asm</td>\n",
              "      <td>0006</td>\n",
              "      <td>k_0013_label</td>\n",
              "      <td>Programming</td>\n",
              "      <td>Technology</td>\n",
              "      <td>8</td>\n",
              "      <td>needforspeed, skullcandy, ftc, asustuf, motorola, rpa, serialeturcestionline, dacia</td>\n",
              "    </tr>\n",
              "    <tr>\n",
              "      <th>1</th>\n",
              "      <td>t5_2s94r</td>\n",
              "      <td>rpa</td>\n",
              "      <td>0006</td>\n",
              "      <td>k_0013_label</td>\n",
              "      <td>Technology</td>\n",
              "      <td>Technology</td>\n",
              "      <td>8</td>\n",
              "      <td>needforspeed, skullcandy, ftc, asustuf, motorola, asm, serialeturcestionline, dacia</td>\n",
              "    </tr>\n",
              "    <tr>\n",
              "      <th>2</th>\n",
              "      <td>t5_2qh70</td>\n",
              "      <td>yahoo</td>\n",
              "      <td>0006-0008-0013-0017-0017-0021-0022-0026</td>\n",
              "      <td>k_0118_label</td>\n",
              "      <td>Technology</td>\n",
              "      <td>Technology</td>\n",
              "      <td>4</td>\n",
              "      <td>youtubemusic, bitdefender, invites, crt</td>\n",
              "    </tr>\n",
              "    <tr>\n",
              "      <th>3</th>\n",
              "      <td>t5_35n4m</td>\n",
              "      <td>bitdefender</td>\n",
              "      <td>0006-0008-0013-0017-0017-0021-0022-0026</td>\n",
              "      <td>k_0118_label</td>\n",
              "      <td>Technology</td>\n",
              "      <td>Technology</td>\n",
              "      <td>4</td>\n",
              "      <td>youtubemusic, invites, yahoo, crt</td>\n",
              "    </tr>\n",
              "    <tr>\n",
              "      <th>4</th>\n",
              "      <td>t5_2sclw</td>\n",
              "      <td>crt</td>\n",
              "      <td>0006-0008-0013-0017-0017-0021-0022-0026</td>\n",
              "      <td>k_0118_label</td>\n",
              "      <td>Technology</td>\n",
              "      <td>Technology</td>\n",
              "      <td>4</td>\n",
              "      <td>youtubemusic, bitdefender, invites, yahoo</td>\n",
              "    </tr>\n",
              "  </tbody>\n",
              "</table>\n",
              "</div>\n",
              "      <button class=\"colab-df-convert\" onclick=\"convertToInteractive('df-b6de1e77-cdce-4958-b0f9-534feb566941')\"\n",
              "              title=\"Convert this dataframe to an interactive table.\"\n",
              "              style=\"display:none;\">\n",
              "        \n",
              "  <svg xmlns=\"http://www.w3.org/2000/svg\" height=\"24px\"viewBox=\"0 0 24 24\"\n",
              "       width=\"24px\">\n",
              "    <path d=\"M0 0h24v24H0V0z\" fill=\"none\"/>\n",
              "    <path d=\"M18.56 5.44l.94 2.06.94-2.06 2.06-.94-2.06-.94-.94-2.06-.94 2.06-2.06.94zm-11 1L8.5 8.5l.94-2.06 2.06-.94-2.06-.94L8.5 2.5l-.94 2.06-2.06.94zm10 10l.94 2.06.94-2.06 2.06-.94-2.06-.94-.94-2.06-.94 2.06-2.06.94z\"/><path d=\"M17.41 7.96l-1.37-1.37c-.4-.4-.92-.59-1.43-.59-.52 0-1.04.2-1.43.59L10.3 9.45l-7.72 7.72c-.78.78-.78 2.05 0 2.83L4 21.41c.39.39.9.59 1.41.59.51 0 1.02-.2 1.41-.59l7.78-7.78 2.81-2.81c.8-.78.8-2.07 0-2.86zM5.41 20L4 18.59l7.72-7.72 1.47 1.35L5.41 20z\"/>\n",
              "  </svg>\n",
              "      </button>\n",
              "      \n",
              "  <style>\n",
              "    .colab-df-container {\n",
              "      display:flex;\n",
              "      flex-wrap:wrap;\n",
              "      gap: 12px;\n",
              "    }\n",
              "\n",
              "    .colab-df-convert {\n",
              "      background-color: #E8F0FE;\n",
              "      border: none;\n",
              "      border-radius: 50%;\n",
              "      cursor: pointer;\n",
              "      display: none;\n",
              "      fill: #1967D2;\n",
              "      height: 32px;\n",
              "      padding: 0 0 0 0;\n",
              "      width: 32px;\n",
              "    }\n",
              "\n",
              "    .colab-df-convert:hover {\n",
              "      background-color: #E2EBFA;\n",
              "      box-shadow: 0px 1px 2px rgba(60, 64, 67, 0.3), 0px 1px 3px 1px rgba(60, 64, 67, 0.15);\n",
              "      fill: #174EA6;\n",
              "    }\n",
              "\n",
              "    [theme=dark] .colab-df-convert {\n",
              "      background-color: #3B4455;\n",
              "      fill: #D2E3FC;\n",
              "    }\n",
              "\n",
              "    [theme=dark] .colab-df-convert:hover {\n",
              "      background-color: #434B5C;\n",
              "      box-shadow: 0px 1px 3px 1px rgba(0, 0, 0, 0.15);\n",
              "      filter: drop-shadow(0px 1px 2px rgba(0, 0, 0, 0.3));\n",
              "      fill: #FFFFFF;\n",
              "    }\n",
              "  </style>\n",
              "\n",
              "      <script>\n",
              "        const buttonEl =\n",
              "          document.querySelector('#df-b6de1e77-cdce-4958-b0f9-534feb566941 button.colab-df-convert');\n",
              "        buttonEl.style.display =\n",
              "          google.colab.kernel.accessAllowed ? 'block' : 'none';\n",
              "\n",
              "        async function convertToInteractive(key) {\n",
              "          const element = document.querySelector('#df-b6de1e77-cdce-4958-b0f9-534feb566941');\n",
              "          const dataTable =\n",
              "            await google.colab.kernel.invokeFunction('convertToInteractive',\n",
              "                                                     [key], {});\n",
              "          if (!dataTable) return;\n",
              "\n",
              "          const docLinkHtml = 'Like what you see? Visit the ' +\n",
              "            '<a target=\"_blank\" href=https://colab.research.google.com/notebooks/data_table.ipynb>data table notebook</a>'\n",
              "            + ' to learn more about interactive tables.';\n",
              "          element.innerHTML = '';\n",
              "          dataTable['output_type'] = 'display_data';\n",
              "          await google.colab.output.renderOutput(dataTable, element);\n",
              "          const docLink = document.createElement('div');\n",
              "          docLink.innerHTML = docLinkHtml;\n",
              "          element.appendChild(docLink);\n",
              "        }\n",
              "      </script>\n",
              "    </div>\n",
              "  </div>\n",
              "  "
            ]
          },
          "metadata": {},
          "execution_count": 64
        }
      ]
    },
    {
      "cell_type": "markdown",
      "source": [
        "# Export data\n",
        "\n",
        "Note that we have to use `fillna('')`\n",
        "\n",
        "Otherwise, we'll get errors because the gspread library doesn't know how to handle `pd.NaN` or `np.Nan` (nulls)."
      ],
      "metadata": {
        "id": "QonFJ94zsiPt"
      }
    },
    {
      "cell_type": "markdown",
      "source": [
        "## Define variables to create/access google sheet doc & worksheets\n",
        "\n",
        "Moved the defintion to the top of the sheet so it's easier to automate."
      ],
      "metadata": {
        "id": "CEZc0dvPvP90"
      }
    },
    {
      "cell_type": "markdown",
      "source": [
        "## Save: Clean sheet to rate"
      ],
      "metadata": {
        "id": "mVo2hYJGvKbT"
      }
    },
    {
      "cell_type": "code",
      "source": [
        "d_wsh_names.keys()"
      ],
      "metadata": {
        "id": "3IUGveAo7J8Y",
        "colab": {
          "base_uri": "https://localhost:8080/"
        },
        "outputId": "9250e923-1cad-48da-ce9d-61e0293a406f"
      },
      "execution_count": 65,
      "outputs": [
        {
          "output_type": "execute_result",
          "data": {
            "text/plain": [
              "dict_keys(['qa_ready', 'clusters_t2t_list_raw', 'clusters_t2t_fpr_after_qa', 'sub_raw'])"
            ]
          },
          "metadata": {},
          "execution_count": 65
        }
      ]
    },
    {
      "cell_type": "code",
      "source": [
        "%%time\n",
        "print(datetime.utcnow())\n",
        "(\n",
        "    d_wsh_names['qa_ready']['worksheet']\n",
        "    .update([df_labels_target_dynamic_clean.columns.values.tolist()] + \n",
        "             df_labels_target_dynamic_clean.fillna('').values.tolist())\n",
        ")"
      ],
      "metadata": {
        "id": "BQSfRQJ8shyI",
        "colab": {
          "base_uri": "https://localhost:8080/"
        },
        "outputId": "29f941e3-79e2-4ad7-f22d-c890c0b1a233"
      },
      "execution_count": 66,
      "outputs": [
        {
          "output_type": "stream",
          "name": "stdout",
          "text": [
            "2022-04-07 01:35:11.225032\n",
            "CPU times: user 28.9 ms, sys: 1.85 ms, total: 30.7 ms\n",
            "Wall time: 365 ms\n"
          ]
        }
      ]
    },
    {
      "cell_type": "markdown",
      "source": [
        "## Save: df cluster for humans"
      ],
      "metadata": {
        "id": "aj6Hv9Vmvd48"
      }
    },
    {
      "cell_type": "code",
      "source": [
        "%%time\n",
        "print(datetime.utcnow())\n",
        "(\n",
        "    d_wsh_names['clusters_t2t_list_raw']['worksheet']\n",
        "    .update(\n",
        "        [df_cluster_for_humans.rename(columns={c: c.replace('_', ' ') for c in df_cluster_for_humans}).columns.values.tolist()] + \n",
        "        df_cluster_for_humans.fillna('').values.tolist()\n",
        "    )\n",
        ")"
      ],
      "metadata": {
        "id": "Lnuepoe7shr4",
        "colab": {
          "base_uri": "https://localhost:8080/"
        },
        "outputId": "55325cf5-2775-4a0c-8f1a-00d22d2d60fe"
      },
      "execution_count": 73,
      "outputs": [
        {
          "output_type": "stream",
          "name": "stdout",
          "text": [
            "2022-04-07 01:36:49.978273\n",
            "CPU times: user 12 ms, sys: 84 µs, total: 12.1 ms\n",
            "Wall time: 213 ms\n"
          ]
        }
      ]
    },
    {
      "cell_type": "markdown",
      "source": [
        "## Save: target raw dynamic\n"
      ],
      "metadata": {
        "id": "nxOoivVXviSa"
      }
    },
    {
      "cell_type": "code",
      "source": [
        "l_cols_to_drop = (\n",
        "    ['table_creation_date'] +\n",
        "    [c for c in df_labels_target_dynamic_raw.columns if c.endswith('_nested')]\n",
        ")\n",
        "print(len(l_cols_to_drop))\n",
        "# df_labels_target_dynamic_raw.columns.to_list()"
      ],
      "metadata": {
        "id": "Xfk3y1xDvjC6",
        "colab": {
          "base_uri": "https://localhost:8080/"
        },
        "outputId": "ff17fe5d-2b94-4f2d-b7ce-bb539666a72a"
      },
      "execution_count": 68,
      "outputs": [
        {
          "output_type": "stream",
          "name": "stdout",
          "text": [
            "45\n"
          ]
        }
      ]
    },
    {
      "cell_type": "code",
      "execution_count": 69,
      "metadata": {
        "id": "GbiiAPqOrz9z",
        "scrolled": true,
        "colab": {
          "base_uri": "https://localhost:8080/"
        },
        "outputId": "027b3e97-f871-47ca-f5ba-134bf9a6d603"
      },
      "outputs": [
        {
          "output_type": "stream",
          "name": "stdout",
          "text": [
            "2022-04-07 01:35:15.444400\n",
            "CPU times: user 19.7 ms, sys: 1.97 ms, total: 21.7 ms\n",
            "Wall time: 333 ms\n"
          ]
        }
      ],
      "source": [
        "%%time\n",
        "print(datetime.utcnow())\n",
        "(\n",
        "    d_wsh_names['sub_raw']['worksheet']\n",
        "    .update([df_labels_target_dynamic_raw.drop(l_cols_to_drop, axis=1).columns.values.tolist()] + \n",
        "             df_labels_target_dynamic_raw.drop(l_cols_to_drop, axis=1).fillna('').values.tolist())\n",
        ")"
      ]
    },
    {
      "cell_type": "markdown",
      "source": [
        "## Save: FPR target-2-target as list\n",
        "\n",
        "Even though data isn't fully ready, want to have the output ready to make sure it's in the right format that we need.\n",
        "\n",
        "UPDATE: stop exporting this for now because it adds noise and could create confusion between it and the final QA sheet."
      ],
      "metadata": {
        "id": "B3kdN5F2vpA5"
      }
    },
    {
      "cell_type": "code",
      "source": [
        "df_target_to_target_list.iloc[:5, :5]"
      ],
      "metadata": {
        "id": "LlmLHKCH8JgX",
        "colab": {
          "base_uri": "https://localhost:8080/",
          "height": 206
        },
        "outputId": "98d37d80-6b06-4fee-c15f-c59bc565e989"
      },
      "execution_count": 70,
      "outputs": [
        {
          "output_type": "execute_result",
          "data": {
            "text/plain": [
              "  subreddit_id_seed subreddit_name_seed                            cluster_label cluster_label_k primary_topic\n",
              "0          t5_2qhz5                 asm                                     0006    k_0013_label   Programming\n",
              "1          t5_2s94r                 rpa                                     0006    k_0013_label    Technology\n",
              "2          t5_2qh70               yahoo  0006-0008-0013-0017-0017-0021-0022-0026    k_0118_label    Technology\n",
              "3          t5_35n4m         bitdefender  0006-0008-0013-0017-0017-0021-0022-0026    k_0118_label    Technology\n",
              "4          t5_2sclw                 crt  0006-0008-0013-0017-0017-0021-0022-0026    k_0118_label    Technology"
            ],
            "text/html": [
              "\n",
              "  <div id=\"df-41e4b84e-1b30-45e9-9f7b-4abbb1dab4c8\">\n",
              "    <div class=\"colab-df-container\">\n",
              "      <div>\n",
              "<style scoped>\n",
              "    .dataframe tbody tr th:only-of-type {\n",
              "        vertical-align: middle;\n",
              "    }\n",
              "\n",
              "    .dataframe tbody tr th {\n",
              "        vertical-align: top;\n",
              "    }\n",
              "\n",
              "    .dataframe thead th {\n",
              "        text-align: right;\n",
              "    }\n",
              "</style>\n",
              "<table border=\"1\" class=\"dataframe\">\n",
              "  <thead>\n",
              "    <tr style=\"text-align: right;\">\n",
              "      <th></th>\n",
              "      <th>subreddit_id_seed</th>\n",
              "      <th>subreddit_name_seed</th>\n",
              "      <th>cluster_label</th>\n",
              "      <th>cluster_label_k</th>\n",
              "      <th>primary_topic</th>\n",
              "    </tr>\n",
              "  </thead>\n",
              "  <tbody>\n",
              "    <tr>\n",
              "      <th>0</th>\n",
              "      <td>t5_2qhz5</td>\n",
              "      <td>asm</td>\n",
              "      <td>0006</td>\n",
              "      <td>k_0013_label</td>\n",
              "      <td>Programming</td>\n",
              "    </tr>\n",
              "    <tr>\n",
              "      <th>1</th>\n",
              "      <td>t5_2s94r</td>\n",
              "      <td>rpa</td>\n",
              "      <td>0006</td>\n",
              "      <td>k_0013_label</td>\n",
              "      <td>Technology</td>\n",
              "    </tr>\n",
              "    <tr>\n",
              "      <th>2</th>\n",
              "      <td>t5_2qh70</td>\n",
              "      <td>yahoo</td>\n",
              "      <td>0006-0008-0013-0017-0017-0021-0022-0026</td>\n",
              "      <td>k_0118_label</td>\n",
              "      <td>Technology</td>\n",
              "    </tr>\n",
              "    <tr>\n",
              "      <th>3</th>\n",
              "      <td>t5_35n4m</td>\n",
              "      <td>bitdefender</td>\n",
              "      <td>0006-0008-0013-0017-0017-0021-0022-0026</td>\n",
              "      <td>k_0118_label</td>\n",
              "      <td>Technology</td>\n",
              "    </tr>\n",
              "    <tr>\n",
              "      <th>4</th>\n",
              "      <td>t5_2sclw</td>\n",
              "      <td>crt</td>\n",
              "      <td>0006-0008-0013-0017-0017-0021-0022-0026</td>\n",
              "      <td>k_0118_label</td>\n",
              "      <td>Technology</td>\n",
              "    </tr>\n",
              "  </tbody>\n",
              "</table>\n",
              "</div>\n",
              "      <button class=\"colab-df-convert\" onclick=\"convertToInteractive('df-41e4b84e-1b30-45e9-9f7b-4abbb1dab4c8')\"\n",
              "              title=\"Convert this dataframe to an interactive table.\"\n",
              "              style=\"display:none;\">\n",
              "        \n",
              "  <svg xmlns=\"http://www.w3.org/2000/svg\" height=\"24px\"viewBox=\"0 0 24 24\"\n",
              "       width=\"24px\">\n",
              "    <path d=\"M0 0h24v24H0V0z\" fill=\"none\"/>\n",
              "    <path d=\"M18.56 5.44l.94 2.06.94-2.06 2.06-.94-2.06-.94-.94-2.06-.94 2.06-2.06.94zm-11 1L8.5 8.5l.94-2.06 2.06-.94-2.06-.94L8.5 2.5l-.94 2.06-2.06.94zm10 10l.94 2.06.94-2.06 2.06-.94-2.06-.94-.94-2.06-.94 2.06-2.06.94z\"/><path d=\"M17.41 7.96l-1.37-1.37c-.4-.4-.92-.59-1.43-.59-.52 0-1.04.2-1.43.59L10.3 9.45l-7.72 7.72c-.78.78-.78 2.05 0 2.83L4 21.41c.39.39.9.59 1.41.59.51 0 1.02-.2 1.41-.59l7.78-7.78 2.81-2.81c.8-.78.8-2.07 0-2.86zM5.41 20L4 18.59l7.72-7.72 1.47 1.35L5.41 20z\"/>\n",
              "  </svg>\n",
              "      </button>\n",
              "      \n",
              "  <style>\n",
              "    .colab-df-container {\n",
              "      display:flex;\n",
              "      flex-wrap:wrap;\n",
              "      gap: 12px;\n",
              "    }\n",
              "\n",
              "    .colab-df-convert {\n",
              "      background-color: #E8F0FE;\n",
              "      border: none;\n",
              "      border-radius: 50%;\n",
              "      cursor: pointer;\n",
              "      display: none;\n",
              "      fill: #1967D2;\n",
              "      height: 32px;\n",
              "      padding: 0 0 0 0;\n",
              "      width: 32px;\n",
              "    }\n",
              "\n",
              "    .colab-df-convert:hover {\n",
              "      background-color: #E2EBFA;\n",
              "      box-shadow: 0px 1px 2px rgba(60, 64, 67, 0.3), 0px 1px 3px 1px rgba(60, 64, 67, 0.15);\n",
              "      fill: #174EA6;\n",
              "    }\n",
              "\n",
              "    [theme=dark] .colab-df-convert {\n",
              "      background-color: #3B4455;\n",
              "      fill: #D2E3FC;\n",
              "    }\n",
              "\n",
              "    [theme=dark] .colab-df-convert:hover {\n",
              "      background-color: #434B5C;\n",
              "      box-shadow: 0px 1px 3px 1px rgba(0, 0, 0, 0.15);\n",
              "      filter: drop-shadow(0px 1px 2px rgba(0, 0, 0, 0.3));\n",
              "      fill: #FFFFFF;\n",
              "    }\n",
              "  </style>\n",
              "\n",
              "      <script>\n",
              "        const buttonEl =\n",
              "          document.querySelector('#df-41e4b84e-1b30-45e9-9f7b-4abbb1dab4c8 button.colab-df-convert');\n",
              "        buttonEl.style.display =\n",
              "          google.colab.kernel.accessAllowed ? 'block' : 'none';\n",
              "\n",
              "        async function convertToInteractive(key) {\n",
              "          const element = document.querySelector('#df-41e4b84e-1b30-45e9-9f7b-4abbb1dab4c8');\n",
              "          const dataTable =\n",
              "            await google.colab.kernel.invokeFunction('convertToInteractive',\n",
              "                                                     [key], {});\n",
              "          if (!dataTable) return;\n",
              "\n",
              "          const docLinkHtml = 'Like what you see? Visit the ' +\n",
              "            '<a target=\"_blank\" href=https://colab.research.google.com/notebooks/data_table.ipynb>data table notebook</a>'\n",
              "            + ' to learn more about interactive tables.';\n",
              "          element.innerHTML = '';\n",
              "          dataTable['output_type'] = 'display_data';\n",
              "          await google.colab.output.renderOutput(dataTable, element);\n",
              "          const docLink = document.createElement('div');\n",
              "          docLink.innerHTML = docLinkHtml;\n",
              "          element.appendChild(docLink);\n",
              "        }\n",
              "      </script>\n",
              "    </div>\n",
              "  </div>\n",
              "  "
            ]
          },
          "metadata": {},
          "execution_count": 70
        }
      ]
    },
    {
      "cell_type": "code",
      "source": [
        "# %%time\n",
        "# print(datetime.utcnow())\n",
        "# (\n",
        "#     d_wsh_names['clusters_t2t_fpr_raw']['worksheet']\n",
        "#     .update(\n",
        "#         [df_target_to_target_list.columns.values.tolist()] + \n",
        "#         df_target_to_target_list.fillna('').values.tolist()\n",
        "#     )\n",
        "# )"
      ],
      "metadata": {
        "id": "lxly7vH08KOs"
      },
      "execution_count": 71,
      "outputs": []
    },
    {
      "cell_type": "markdown",
      "metadata": {
        "id": "0M3QDdpItIrj"
      },
      "source": [
        "### We can read the data back to confirm it's as expected"
      ]
    },
    {
      "cell_type": "code",
      "execution_count": 76,
      "metadata": {
        "id": "__dAS64PiUie",
        "colab": {
          "base_uri": "https://localhost:8080/",
          "height": 704
        },
        "outputId": "8bccc2f7-632f-4f69-8911-a02cef15e6b0"
      },
      "outputs": [
        {
          "output_type": "execute_result",
          "data": {
            "text/plain": [
              "  subreddit id subreddit name  cluster label int cluster topic mix not country relevant rated E relevant to cluster/ other subreddits in cluster safe to show in relation to cluster country relevance notes rating or cluster notes                    link to sub  subs in cluster count  \\\n",
              "0     t5_2s8z6   needforspeed                  6        Technology                         TRUE                                                                                                                                       www.reddit.com/r/needforspeed                      9   \n",
              "1     t5_2uelk     skullcandy                  6        Technology                         TRUE                                                                                                                                         www.reddit.com/r/skullcandy                      9   \n",
              "2     t5_2sks6            ftc                  6        Technology                         TRUE                                                                                                                                                www.reddit.com/r/ftc                      9   \n",
              "3    t5_2bblvy        asustuf                  6        Technology                         TRUE                                                                                                                                            www.reddit.com/r/asustuf                      9   \n",
              "4     t5_2r9co       motorola                  6        Technology                         TRUE                                                                                                                                           www.reddit.com/r/motorola                      9   \n",
              "\n",
              "                                                               list cluster subreddit names  posts for modeling count  users l7  \n",
              "0  asm, rpa, motorola, asustuf, dacia, needforspeed, skullcandy, ftc, serialeturcestionline                       719     59996  \n",
              "1  asm, rpa, motorola, asustuf, dacia, needforspeed, skullcandy, ftc, serialeturcestionline                       345     14287  \n",
              "2  asm, rpa, motorola, asustuf, dacia, needforspeed, skullcandy, ftc, serialeturcestionline                       493      7702  \n",
              "3  asm, rpa, motorola, asustuf, dacia, needforspeed, skullcandy, ftc, serialeturcestionline                       249      7436  \n",
              "4  asm, rpa, motorola, asustuf, dacia, needforspeed, skullcandy, ftc, serialeturcestionline                       154      5484  "
            ],
            "text/html": [
              "\n",
              "  <div id=\"df-69281f9e-5262-4ccb-9d15-ed42a69c6f5f\">\n",
              "    <div class=\"colab-df-container\">\n",
              "      <div>\n",
              "<style scoped>\n",
              "    .dataframe tbody tr th:only-of-type {\n",
              "        vertical-align: middle;\n",
              "    }\n",
              "\n",
              "    .dataframe tbody tr th {\n",
              "        vertical-align: top;\n",
              "    }\n",
              "\n",
              "    .dataframe thead th {\n",
              "        text-align: right;\n",
              "    }\n",
              "</style>\n",
              "<table border=\"1\" class=\"dataframe\">\n",
              "  <thead>\n",
              "    <tr style=\"text-align: right;\">\n",
              "      <th></th>\n",
              "      <th>subreddit id</th>\n",
              "      <th>subreddit name</th>\n",
              "      <th>cluster label int</th>\n",
              "      <th>cluster topic mix</th>\n",
              "      <th>not country relevant</th>\n",
              "      <th>rated E</th>\n",
              "      <th>relevant to cluster/ other subreddits in cluster</th>\n",
              "      <th>safe to show in relation to cluster</th>\n",
              "      <th>country relevance notes</th>\n",
              "      <th>rating or cluster notes</th>\n",
              "      <th>link to sub</th>\n",
              "      <th>subs in cluster count</th>\n",
              "      <th>list cluster subreddit names</th>\n",
              "      <th>posts for modeling count</th>\n",
              "      <th>users l7</th>\n",
              "    </tr>\n",
              "  </thead>\n",
              "  <tbody>\n",
              "    <tr>\n",
              "      <th>0</th>\n",
              "      <td>t5_2s8z6</td>\n",
              "      <td>needforspeed</td>\n",
              "      <td>6</td>\n",
              "      <td>Technology</td>\n",
              "      <td></td>\n",
              "      <td>TRUE</td>\n",
              "      <td></td>\n",
              "      <td></td>\n",
              "      <td></td>\n",
              "      <td></td>\n",
              "      <td>www.reddit.com/r/needforspeed</td>\n",
              "      <td>9</td>\n",
              "      <td>asm, rpa, motorola, asustuf, dacia, needforspeed, skullcandy, ftc, serialeturcestionline</td>\n",
              "      <td>719</td>\n",
              "      <td>59996</td>\n",
              "    </tr>\n",
              "    <tr>\n",
              "      <th>1</th>\n",
              "      <td>t5_2uelk</td>\n",
              "      <td>skullcandy</td>\n",
              "      <td>6</td>\n",
              "      <td>Technology</td>\n",
              "      <td></td>\n",
              "      <td>TRUE</td>\n",
              "      <td></td>\n",
              "      <td></td>\n",
              "      <td></td>\n",
              "      <td></td>\n",
              "      <td>www.reddit.com/r/skullcandy</td>\n",
              "      <td>9</td>\n",
              "      <td>asm, rpa, motorola, asustuf, dacia, needforspeed, skullcandy, ftc, serialeturcestionline</td>\n",
              "      <td>345</td>\n",
              "      <td>14287</td>\n",
              "    </tr>\n",
              "    <tr>\n",
              "      <th>2</th>\n",
              "      <td>t5_2sks6</td>\n",
              "      <td>ftc</td>\n",
              "      <td>6</td>\n",
              "      <td>Technology</td>\n",
              "      <td></td>\n",
              "      <td>TRUE</td>\n",
              "      <td></td>\n",
              "      <td></td>\n",
              "      <td></td>\n",
              "      <td></td>\n",
              "      <td>www.reddit.com/r/ftc</td>\n",
              "      <td>9</td>\n",
              "      <td>asm, rpa, motorola, asustuf, dacia, needforspeed, skullcandy, ftc, serialeturcestionline</td>\n",
              "      <td>493</td>\n",
              "      <td>7702</td>\n",
              "    </tr>\n",
              "    <tr>\n",
              "      <th>3</th>\n",
              "      <td>t5_2bblvy</td>\n",
              "      <td>asustuf</td>\n",
              "      <td>6</td>\n",
              "      <td>Technology</td>\n",
              "      <td></td>\n",
              "      <td>TRUE</td>\n",
              "      <td></td>\n",
              "      <td></td>\n",
              "      <td></td>\n",
              "      <td></td>\n",
              "      <td>www.reddit.com/r/asustuf</td>\n",
              "      <td>9</td>\n",
              "      <td>asm, rpa, motorola, asustuf, dacia, needforspeed, skullcandy, ftc, serialeturcestionline</td>\n",
              "      <td>249</td>\n",
              "      <td>7436</td>\n",
              "    </tr>\n",
              "    <tr>\n",
              "      <th>4</th>\n",
              "      <td>t5_2r9co</td>\n",
              "      <td>motorola</td>\n",
              "      <td>6</td>\n",
              "      <td>Technology</td>\n",
              "      <td></td>\n",
              "      <td>TRUE</td>\n",
              "      <td></td>\n",
              "      <td></td>\n",
              "      <td></td>\n",
              "      <td></td>\n",
              "      <td>www.reddit.com/r/motorola</td>\n",
              "      <td>9</td>\n",
              "      <td>asm, rpa, motorola, asustuf, dacia, needforspeed, skullcandy, ftc, serialeturcestionline</td>\n",
              "      <td>154</td>\n",
              "      <td>5484</td>\n",
              "    </tr>\n",
              "  </tbody>\n",
              "</table>\n",
              "</div>\n",
              "      <button class=\"colab-df-convert\" onclick=\"convertToInteractive('df-69281f9e-5262-4ccb-9d15-ed42a69c6f5f')\"\n",
              "              title=\"Convert this dataframe to an interactive table.\"\n",
              "              style=\"display:none;\">\n",
              "        \n",
              "  <svg xmlns=\"http://www.w3.org/2000/svg\" height=\"24px\"viewBox=\"0 0 24 24\"\n",
              "       width=\"24px\">\n",
              "    <path d=\"M0 0h24v24H0V0z\" fill=\"none\"/>\n",
              "    <path d=\"M18.56 5.44l.94 2.06.94-2.06 2.06-.94-2.06-.94-.94-2.06-.94 2.06-2.06.94zm-11 1L8.5 8.5l.94-2.06 2.06-.94-2.06-.94L8.5 2.5l-.94 2.06-2.06.94zm10 10l.94 2.06.94-2.06 2.06-.94-2.06-.94-.94-2.06-.94 2.06-2.06.94z\"/><path d=\"M17.41 7.96l-1.37-1.37c-.4-.4-.92-.59-1.43-.59-.52 0-1.04.2-1.43.59L10.3 9.45l-7.72 7.72c-.78.78-.78 2.05 0 2.83L4 21.41c.39.39.9.59 1.41.59.51 0 1.02-.2 1.41-.59l7.78-7.78 2.81-2.81c.8-.78.8-2.07 0-2.86zM5.41 20L4 18.59l7.72-7.72 1.47 1.35L5.41 20z\"/>\n",
              "  </svg>\n",
              "      </button>\n",
              "      \n",
              "  <style>\n",
              "    .colab-df-container {\n",
              "      display:flex;\n",
              "      flex-wrap:wrap;\n",
              "      gap: 12px;\n",
              "    }\n",
              "\n",
              "    .colab-df-convert {\n",
              "      background-color: #E8F0FE;\n",
              "      border: none;\n",
              "      border-radius: 50%;\n",
              "      cursor: pointer;\n",
              "      display: none;\n",
              "      fill: #1967D2;\n",
              "      height: 32px;\n",
              "      padding: 0 0 0 0;\n",
              "      width: 32px;\n",
              "    }\n",
              "\n",
              "    .colab-df-convert:hover {\n",
              "      background-color: #E2EBFA;\n",
              "      box-shadow: 0px 1px 2px rgba(60, 64, 67, 0.3), 0px 1px 3px 1px rgba(60, 64, 67, 0.15);\n",
              "      fill: #174EA6;\n",
              "    }\n",
              "\n",
              "    [theme=dark] .colab-df-convert {\n",
              "      background-color: #3B4455;\n",
              "      fill: #D2E3FC;\n",
              "    }\n",
              "\n",
              "    [theme=dark] .colab-df-convert:hover {\n",
              "      background-color: #434B5C;\n",
              "      box-shadow: 0px 1px 3px 1px rgba(0, 0, 0, 0.15);\n",
              "      filter: drop-shadow(0px 1px 2px rgba(0, 0, 0, 0.3));\n",
              "      fill: #FFFFFF;\n",
              "    }\n",
              "  </style>\n",
              "\n",
              "      <script>\n",
              "        const buttonEl =\n",
              "          document.querySelector('#df-69281f9e-5262-4ccb-9d15-ed42a69c6f5f button.colab-df-convert');\n",
              "        buttonEl.style.display =\n",
              "          google.colab.kernel.accessAllowed ? 'block' : 'none';\n",
              "\n",
              "        async function convertToInteractive(key) {\n",
              "          const element = document.querySelector('#df-69281f9e-5262-4ccb-9d15-ed42a69c6f5f');\n",
              "          const dataTable =\n",
              "            await google.colab.kernel.invokeFunction('convertToInteractive',\n",
              "                                                     [key], {});\n",
              "          if (!dataTable) return;\n",
              "\n",
              "          const docLinkHtml = 'Like what you see? Visit the ' +\n",
              "            '<a target=\"_blank\" href=https://colab.research.google.com/notebooks/data_table.ipynb>data table notebook</a>'\n",
              "            + ' to learn more about interactive tables.';\n",
              "          element.innerHTML = '';\n",
              "          dataTable['output_type'] = 'display_data';\n",
              "          await google.colab.output.renderOutput(dataTable, element);\n",
              "          const docLink = document.createElement('div');\n",
              "          docLink.innerHTML = docLinkHtml;\n",
              "          element.appendChild(docLink);\n",
              "        }\n",
              "      </script>\n",
              "    </div>\n",
              "  </div>\n",
              "  "
            ]
          },
          "metadata": {},
          "execution_count": 76
        }
      ],
      "source": [
        "# Here's how to get the records as a dataframe\n",
        "pd.DataFrame(\n",
        "    d_wsh_names['qa_ready']['worksheet'].get_all_records()\n",
        ").iloc[:5, :15]"
      ]
    },
    {
      "cell_type": "markdown",
      "metadata": {
        "id": "RuRKHNPMgPT9"
      },
      "source": [
        "# Appendix\n"
      ]
    },
    {
      "cell_type": "markdown",
      "source": [
        "## Additional checks on cluster depth"
      ],
      "metadata": {
        "id": "FWgIxHLcYE7b"
      }
    },
    {
      "cell_type": "code",
      "execution_count": 74,
      "metadata": {
        "scrolled": false,
        "id": "kjGM2S_-gPT_",
        "colab": {
          "base_uri": "https://localhost:8080/",
          "height": 585
        },
        "outputId": "807480a0-63f2-4d28-b2e5-976b003626e3"
      },
      "outputs": [
        {
          "output_type": "stream",
          "name": "stdout",
          "text": [
            "17\n"
          ]
        },
        {
          "output_type": "display_data",
          "data": {
            "text/plain": [
              "<pandas.io.formats.style.Styler at 0x7fa7d5caecd0>"
            ],
            "text/html": [
              "<style type=\"text/css\">\n",
              "#T_edb7f_row0_col1, #T_edb7f_row9_col2 {\n",
              "  width: 10em;\n",
              "  height: 80%;\n",
              "  background: linear-gradient(90deg,#95cff5 100.0%, transparent 100.0%);\n",
              "}\n",
              "#T_edb7f_row0_col2, #T_edb7f_row6_col1, #T_edb7f_row7_col1, #T_edb7f_row8_col1, #T_edb7f_row9_col1 {\n",
              "  width: 10em;\n",
              "  height: 80%;\n",
              "}\n",
              "#T_edb7f_row1_col1 {\n",
              "  width: 10em;\n",
              "  height: 80%;\n",
              "  background: linear-gradient(90deg,#95cff5 50.0%, transparent 50.0%);\n",
              "}\n",
              "#T_edb7f_row1_col2 {\n",
              "  width: 10em;\n",
              "  height: 80%;\n",
              "  background: linear-gradient(90deg,#95cff5 17.0%, transparent 17.0%);\n",
              "}\n",
              "#T_edb7f_row2_col1, #T_edb7f_row3_col1, #T_edb7f_row4_col1, #T_edb7f_row5_col1 {\n",
              "  width: 10em;\n",
              "  height: 80%;\n",
              "  background: linear-gradient(90deg,#95cff5 12.5%, transparent 12.5%);\n",
              "}\n",
              "#T_edb7f_row2_col2 {\n",
              "  width: 10em;\n",
              "  height: 80%;\n",
              "  background: linear-gradient(90deg,#95cff5 28.3%, transparent 28.3%);\n",
              "}\n",
              "#T_edb7f_row3_col2 {\n",
              "  width: 10em;\n",
              "  height: 80%;\n",
              "  background: linear-gradient(90deg,#95cff5 39.6%, transparent 39.6%);\n",
              "}\n",
              "#T_edb7f_row4_col2 {\n",
              "  width: 10em;\n",
              "  height: 80%;\n",
              "  background: linear-gradient(90deg,#95cff5 50.9%, transparent 50.9%);\n",
              "}\n",
              "#T_edb7f_row5_col2 {\n",
              "  width: 10em;\n",
              "  height: 80%;\n",
              "  background: linear-gradient(90deg,#95cff5 62.3%, transparent 62.3%);\n",
              "}\n",
              "#T_edb7f_row6_col2 {\n",
              "  width: 10em;\n",
              "  height: 80%;\n",
              "  background: linear-gradient(90deg,#95cff5 71.7%, transparent 71.7%);\n",
              "}\n",
              "#T_edb7f_row7_col2 {\n",
              "  width: 10em;\n",
              "  height: 80%;\n",
              "  background: linear-gradient(90deg,#95cff5 81.1%, transparent 81.1%);\n",
              "}\n",
              "#T_edb7f_row8_col2 {\n",
              "  width: 10em;\n",
              "  height: 80%;\n",
              "  background: linear-gradient(90deg,#95cff5 90.6%, transparent 90.6%);\n",
              "}\n",
              "</style>\n",
              "<table id=\"T_edb7f_\" class=\"dataframe\">\n",
              "  <thead>\n",
              "    <tr>\n",
              "      <th class=\"blank level0\" >&nbsp;</th>\n",
              "      <th class=\"col_heading level0 col0\" >count</th>\n",
              "      <th class=\"col_heading level0 col1\" >percent</th>\n",
              "      <th class=\"col_heading level0 col2\" >cumulative_percent</th>\n",
              "    </tr>\n",
              "    <tr>\n",
              "      <th class=\"index_name level0\" >cluster_label</th>\n",
              "      <th class=\"blank col0\" >&nbsp;</th>\n",
              "      <th class=\"blank col1\" >&nbsp;</th>\n",
              "      <th class=\"blank col2\" >&nbsp;</th>\n",
              "    </tr>\n",
              "  </thead>\n",
              "  <tbody>\n",
              "    <tr>\n",
              "      <th id=\"T_edb7f_level0_row0\" class=\"row_heading level0 row0\" >0013-0023-0040-0058-0061-0077-0083-0114-0309-0633-0920-1026-1501-1775-2129-2269-2731-3031-3290-3572-3726-3788</th>\n",
              "      <td id=\"T_edb7f_row0_col0\" class=\"data row0 col0\" >13</td>\n",
              "      <td id=\"T_edb7f_row0_col1\" class=\"data row0 col1\" >15.7%</td>\n",
              "      <td id=\"T_edb7f_row0_col2\" class=\"data row0 col2\" >15.7%</td>\n",
              "    </tr>\n",
              "    <tr>\n",
              "      <th id=\"T_edb7f_level0_row1\" class=\"row_heading level0 row1\" >0006</th>\n",
              "      <td id=\"T_edb7f_row1_col0\" class=\"data row1 col0\" >9</td>\n",
              "      <td id=\"T_edb7f_row1_col1\" class=\"data row1 col1\" >10.8%</td>\n",
              "      <td id=\"T_edb7f_row1_col2\" class=\"data row1 col2\" >26.5%</td>\n",
              "    </tr>\n",
              "    <tr>\n",
              "      <th id=\"T_edb7f_level0_row2\" class=\"row_heading level0 row2\" >0011-0018-0033-0048-0051-0064-0068-0096</th>\n",
              "      <td id=\"T_edb7f_row2_col0\" class=\"data row2 col0\" >6</td>\n",
              "      <td id=\"T_edb7f_row2_col1\" class=\"data row2 col1\" >7.2%</td>\n",
              "      <td id=\"T_edb7f_row2_col2\" class=\"data row2 col2\" >33.7%</td>\n",
              "    </tr>\n",
              "    <tr>\n",
              "      <th id=\"T_edb7f_level0_row3\" class=\"row_heading level0 row3\" >0013</th>\n",
              "      <td id=\"T_edb7f_row3_col0\" class=\"data row3 col0\" >6</td>\n",
              "      <td id=\"T_edb7f_row3_col1\" class=\"data row3 col1\" >7.2%</td>\n",
              "      <td id=\"T_edb7f_row3_col2\" class=\"data row3 col2\" >41.0%</td>\n",
              "    </tr>\n",
              "    <tr>\n",
              "      <th id=\"T_edb7f_level0_row4\" class=\"row_heading level0 row4\" >0012</th>\n",
              "      <td id=\"T_edb7f_row4_col0\" class=\"data row4 col0\" >6</td>\n",
              "      <td id=\"T_edb7f_row4_col1\" class=\"data row4 col1\" >7.2%</td>\n",
              "      <td id=\"T_edb7f_row4_col2\" class=\"data row4 col2\" >48.2%</td>\n",
              "    </tr>\n",
              "    <tr>\n",
              "      <th id=\"T_edb7f_level0_row5\" class=\"row_heading level0 row5\" >0008-0013</th>\n",
              "      <td id=\"T_edb7f_row5_col0\" class=\"data row5 col0\" >6</td>\n",
              "      <td id=\"T_edb7f_row5_col1\" class=\"data row5 col1\" >7.2%</td>\n",
              "      <td id=\"T_edb7f_row5_col2\" class=\"data row5 col2\" >55.4%</td>\n",
              "    </tr>\n",
              "    <tr>\n",
              "      <th id=\"T_edb7f_level0_row6\" class=\"row_heading level0 row6\" >0009-0015-0028-0038-0040-0051-0054-0075-0211</th>\n",
              "      <td id=\"T_edb7f_row6_col0\" class=\"data row6 col0\" >5</td>\n",
              "      <td id=\"T_edb7f_row6_col1\" class=\"data row6 col1\" >6.0%</td>\n",
              "      <td id=\"T_edb7f_row6_col2\" class=\"data row6 col2\" >61.4%</td>\n",
              "    </tr>\n",
              "    <tr>\n",
              "      <th id=\"T_edb7f_level0_row7\" class=\"row_heading level0 row7\" >0011-0018-0032-0043-0046</th>\n",
              "      <td id=\"T_edb7f_row7_col0\" class=\"data row7 col0\" >5</td>\n",
              "      <td id=\"T_edb7f_row7_col1\" class=\"data row7 col1\" >6.0%</td>\n",
              "      <td id=\"T_edb7f_row7_col2\" class=\"data row7 col2\" >67.5%</td>\n",
              "    </tr>\n",
              "    <tr>\n",
              "      <th id=\"T_edb7f_level0_row8\" class=\"row_heading level0 row8\" >0011-0018-0033</th>\n",
              "      <td id=\"T_edb7f_row8_col0\" class=\"data row8 col0\" >5</td>\n",
              "      <td id=\"T_edb7f_row8_col1\" class=\"data row8 col1\" >6.0%</td>\n",
              "      <td id=\"T_edb7f_row8_col2\" class=\"data row8 col2\" >73.5%</td>\n",
              "    </tr>\n",
              "    <tr>\n",
              "      <th id=\"T_edb7f_level0_row9\" class=\"row_heading level0 row9\" >0006-0010-0018</th>\n",
              "      <td id=\"T_edb7f_row9_col0\" class=\"data row9 col0\" >5</td>\n",
              "      <td id=\"T_edb7f_row9_col1\" class=\"data row9 col1\" >6.0%</td>\n",
              "      <td id=\"T_edb7f_row9_col2\" class=\"data row9 col2\" >79.5%</td>\n",
              "    </tr>\n",
              "  </tbody>\n",
              "</table>\n"
            ]
          },
          "metadata": {}
        },
        {
          "output_type": "execute_result",
          "data": {
            "text/plain": [
              "count    17.000000\n",
              "mean      4.882353\n",
              "std       3.018326\n",
              "min       1.000000\n",
              "25%       3.000000\n",
              "50%       5.000000\n",
              "75%       6.000000\n",
              "max      13.000000\n",
              "Name: count, dtype: float64"
            ]
          },
          "metadata": {},
          "execution_count": 74
        }
      ],
      "source": [
        "print(df_labels_target_dynamic_raw['cluster_label'].nunique())\n",
        "display(\n",
        "    value_counts_and_pcts(\n",
        "        df_labels_target_dynamic_raw,\n",
        "        ['cluster_label'],\n",
        "        top_n=10,\n",
        "    )\n",
        ")\n",
        "value_counts_and_pcts(\n",
        "    df_labels_target_dynamic_raw,\n",
        "    ['cluster_label'],\n",
        "    top_n=None,\n",
        "    return_df=True\n",
        ")['count'].describe()"
      ]
    },
    {
      "cell_type": "markdown",
      "metadata": {
        "id": "zZ1h7PfrgPT_"
      },
      "source": [
        "### How deep are the clusters?\n",
        "\n"
      ]
    },
    {
      "cell_type": "code",
      "execution_count": 75,
      "metadata": {
        "scrolled": false,
        "id": "IU_gieM6gPT_",
        "colab": {
          "base_uri": "https://localhost:8080/",
          "height": 318
        },
        "outputId": "66f11e76-a3d7-447f-b1dc-25c42b7fa3a4"
      },
      "outputs": [
        {
          "output_type": "stream",
          "name": "stdout",
          "text": [
            "7\n"
          ]
        },
        {
          "output_type": "execute_result",
          "data": {
            "text/plain": [
              "<pandas.io.formats.style.Styler at 0x7fa7d58b46d0>"
            ],
            "text/html": [
              "<style type=\"text/css\">\n",
              "#T_36b4d_row0_col1, #T_36b4d_row6_col2 {\n",
              "  width: 10em;\n",
              "  height: 80%;\n",
              "  background: linear-gradient(90deg,#95cff5 100.0%, transparent 100.0%);\n",
              "}\n",
              "#T_36b4d_row0_col2, #T_36b4d_row3_col1, #T_36b4d_row5_col1 {\n",
              "  width: 10em;\n",
              "  height: 80%;\n",
              "}\n",
              "#T_36b4d_row1_col1 {\n",
              "  width: 10em;\n",
              "  height: 80%;\n",
              "  background: linear-gradient(90deg,#95cff5 3.6%, transparent 3.6%);\n",
              "}\n",
              "#T_36b4d_row1_col2 {\n",
              "  width: 10em;\n",
              "  height: 80%;\n",
              "  background: linear-gradient(90deg,#95cff5 12.0%, transparent 12.0%);\n",
              "}\n",
              "#T_36b4d_row2_col1 {\n",
              "  width: 10em;\n",
              "  height: 80%;\n",
              "  background: linear-gradient(90deg,#95cff5 17.9%, transparent 17.9%);\n",
              "}\n",
              "#T_36b4d_row2_col2 {\n",
              "  width: 10em;\n",
              "  height: 80%;\n",
              "  background: linear-gradient(90deg,#95cff5 32.0%, transparent 32.0%);\n",
              "}\n",
              "#T_36b4d_row3_col2 {\n",
              "  width: 10em;\n",
              "  height: 80%;\n",
              "  background: linear-gradient(90deg,#95cff5 42.0%, transparent 42.0%);\n",
              "}\n",
              "#T_36b4d_row4_col1 {\n",
              "  width: 10em;\n",
              "  height: 80%;\n",
              "  background: linear-gradient(90deg,#95cff5 21.4%, transparent 21.4%);\n",
              "}\n",
              "#T_36b4d_row4_col2 {\n",
              "  width: 10em;\n",
              "  height: 80%;\n",
              "  background: linear-gradient(90deg,#95cff5 64.0%, transparent 64.0%);\n",
              "}\n",
              "#T_36b4d_row5_col2 {\n",
              "  width: 10em;\n",
              "  height: 80%;\n",
              "  background: linear-gradient(90deg,#95cff5 74.0%, transparent 74.0%);\n",
              "}\n",
              "#T_36b4d_row6_col1 {\n",
              "  width: 10em;\n",
              "  height: 80%;\n",
              "  background: linear-gradient(90deg,#95cff5 28.6%, transparent 28.6%);\n",
              "}\n",
              "</style>\n",
              "<table id=\"T_36b4d_\" class=\"dataframe\">\n",
              "  <thead>\n",
              "    <tr>\n",
              "      <th class=\"blank level0\" >&nbsp;</th>\n",
              "      <th class=\"col_heading level0 col0\" >count</th>\n",
              "      <th class=\"col_heading level0 col1\" >percent</th>\n",
              "      <th class=\"col_heading level0 col2\" >cumulative_percent</th>\n",
              "    </tr>\n",
              "    <tr>\n",
              "      <th class=\"index_name level0\" >cluster_label_k</th>\n",
              "      <th class=\"blank col0\" >&nbsp;</th>\n",
              "      <th class=\"blank col1\" >&nbsp;</th>\n",
              "      <th class=\"blank col2\" >&nbsp;</th>\n",
              "    </tr>\n",
              "  </thead>\n",
              "  <tbody>\n",
              "    <tr>\n",
              "      <th id=\"T_36b4d_level0_row0\" class=\"row_heading level0 row0\" >k_0013_label</th>\n",
              "      <td id=\"T_36b4d_row0_col0\" class=\"data row0 col0\" >33</td>\n",
              "      <td id=\"T_36b4d_row0_col1\" class=\"data row0 col1\" >39.8%</td>\n",
              "      <td id=\"T_36b4d_row0_col2\" class=\"data row0 col2\" >39.8%</td>\n",
              "    </tr>\n",
              "    <tr>\n",
              "      <th id=\"T_36b4d_level0_row1\" class=\"row_heading level0 row1\" >k_0023_label</th>\n",
              "      <td id=\"T_36b4d_row1_col0\" class=\"data row1 col0\" >6</td>\n",
              "      <td id=\"T_36b4d_row1_col1\" class=\"data row1 col1\" >7.2%</td>\n",
              "      <td id=\"T_36b4d_row1_col2\" class=\"data row1 col2\" >47.0%</td>\n",
              "    </tr>\n",
              "    <tr>\n",
              "      <th id=\"T_36b4d_level0_row2\" class=\"row_heading level0 row2\" >k_0041_label</th>\n",
              "      <td id=\"T_36b4d_row2_col0\" class=\"data row2 col0\" >10</td>\n",
              "      <td id=\"T_36b4d_row2_col1\" class=\"data row2 col1\" >12.0%</td>\n",
              "      <td id=\"T_36b4d_row2_col2\" class=\"data row2 col2\" >59.0%</td>\n",
              "    </tr>\n",
              "    <tr>\n",
              "      <th id=\"T_36b4d_level0_row3\" class=\"row_heading level0 row3\" >k_0063_label</th>\n",
              "      <td id=\"T_36b4d_row3_col0\" class=\"data row3 col0\" >5</td>\n",
              "      <td id=\"T_36b4d_row3_col1\" class=\"data row3 col1\" >6.0%</td>\n",
              "      <td id=\"T_36b4d_row3_col2\" class=\"data row3 col2\" >65.1%</td>\n",
              "    </tr>\n",
              "    <tr>\n",
              "      <th id=\"T_36b4d_level0_row4\" class=\"row_heading level0 row4\" >k_0118_label</th>\n",
              "      <td id=\"T_36b4d_row4_col0\" class=\"data row4 col0\" >11</td>\n",
              "      <td id=\"T_36b4d_row4_col1\" class=\"data row4 col1\" >13.3%</td>\n",
              "      <td id=\"T_36b4d_row4_col2\" class=\"data row4 col2\" >78.3%</td>\n",
              "    </tr>\n",
              "    <tr>\n",
              "      <th id=\"T_36b4d_level0_row5\" class=\"row_heading level0 row5\" >k_0320_label</th>\n",
              "      <td id=\"T_36b4d_row5_col0\" class=\"data row5 col0\" >5</td>\n",
              "      <td id=\"T_36b4d_row5_col1\" class=\"data row5 col1\" >6.0%</td>\n",
              "      <td id=\"T_36b4d_row5_col2\" class=\"data row5 col2\" >84.3%</td>\n",
              "    </tr>\n",
              "    <tr>\n",
              "      <th id=\"T_36b4d_level0_row6\" class=\"row_heading level0 row6\" >k_3927_label</th>\n",
              "      <td id=\"T_36b4d_row6_col0\" class=\"data row6 col0\" >13</td>\n",
              "      <td id=\"T_36b4d_row6_col1\" class=\"data row6 col1\" >15.7%</td>\n",
              "      <td id=\"T_36b4d_row6_col2\" class=\"data row6 col2\" >100.0%</td>\n",
              "    </tr>\n",
              "  </tbody>\n",
              "</table>\n"
            ]
          },
          "metadata": {},
          "execution_count": 75
        }
      ],
      "source": [
        "print(df_labels_target_dynamic_raw[col_new_cluster_name].nunique())\n",
        "value_counts_and_pcts(\n",
        "    df_labels_target_dynamic_raw,\n",
        "    [col_new_cluster_name],\n",
        "    top_n=None,\n",
        "    sort_index=True,\n",
        ")"
      ]
    },
    {
      "cell_type": "code",
      "execution_count": null,
      "metadata": {
        "id": "pw3xaXaKNZhN"
      },
      "outputs": [],
      "source": [
        "# style_df_numeric(\n",
        "#     df_labels_target.tail(10),\n",
        "#     # rename_cols_for_display=True,\n",
        "#     l_bar_simple=[c for c in df_labels_target.columns if '_label' in c]\n",
        "# )"
      ]
    }
  ],
  "metadata": {
    "colab": {
      "collapsed_sections": [
        "a2Y4JbSWawcg",
        "_2Fiuvi36DBx",
        "tSv6LeEZWdTk",
        "z5okNIcHEKj-",
        "Zji-HUH0M1Qa",
        "FkTvPXPVODEf",
        "NIKRnACST_VQ"
      ],
      "name": "djb_topic_clusters-D11.0-2022-04-06-v0.4.1_Romania_subreddits_for_FPR_QA_colab_more_automation.ipynb",
      "provenance": []
    },
    "kernelspec": {
      "display_name": "Python 3 (ipykernel)",
      "language": "python",
      "name": "python3"
    },
    "language_info": {
      "codemirror_mode": {
        "name": "ipython",
        "version": 3
      },
      "file_extension": ".py",
      "mimetype": "text/x-python",
      "name": "python",
      "nbconvert_exporter": "python",
      "pygments_lexer": "ipython3",
      "version": "3.7.11"
    }
  },
  "nbformat": 4,
  "nbformat_minor": 0
}