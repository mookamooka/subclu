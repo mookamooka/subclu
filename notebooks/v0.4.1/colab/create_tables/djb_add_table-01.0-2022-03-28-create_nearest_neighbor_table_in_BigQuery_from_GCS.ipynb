{
  "nbformat": 4,
  "nbformat_minor": 0,
  "metadata": {
    "colab": {
      "name": "djb_add_table-01.0-2022-03-28-create_nearest_neighbor_table_in_BigQuery_from_GCS.ipynb",
      "provenance": [],
      "collapsed_sections": []
    },
    "kernelspec": {
      "name": "python3",
      "display_name": "Python 3"
    },
    "language_info": {
      "name": "python"
    }
  },
  "cells": [
    {
      "cell_type": "markdown",
      "metadata": {
        "id": "iVZuLSOgZVC8"
      },
      "source": [
        "# Purpose\n",
        "\n",
        "### 2022-03-28\n",
        "After using ANNOY to calculate the nearest neighbor distances, we need to upload them to bigQuery so that we can share this data & use it outside of python/notebooks."
      ]
    },
    {
      "cell_type": "markdown",
      "metadata": {
        "id": "c2qXnQ5IV9Z7"
      },
      "source": [
        "# Imports & notebook setup"
      ]
    },
    {
      "cell_type": "code",
      "metadata": {
        "id": "pCuWmkxaGYwm"
      },
      "source": [
        "%load_ext google.colab.data_table\n",
        "%load_ext autoreload\n",
        "%autoreload 2"
      ],
      "execution_count": null,
      "outputs": []
    },
    {
      "cell_type": "code",
      "metadata": {
        "colab": {
          "base_uri": "https://localhost:8080/"
        },
        "id": "tS4ktaPaGwbh",
        "outputId": "c3afa962-0d71-43d6-ef24-57f5eac0173d"
      },
      "source": [
        "# colab auth for BigQuery & google drive\n",
        "from google.colab import auth, files, drive\n",
        "import sys  # need sys for mounting gdrive path\n",
        "\n",
        "auth.authenticate_user()\n",
        "print('Authenticated')"
      ],
      "execution_count": null,
      "outputs": [
        {
          "output_type": "stream",
          "name": "stdout",
          "text": [
            "Authenticated\n"
          ]
        }
      ]
    },
    {
      "cell_type": "markdown",
      "source": [
        "### Install libraries\n",
        "\n",
        "These might be necessary to read from GCS"
      ],
      "metadata": {
        "id": "5S4vyQQrwLzC"
      }
    },
    {
      "cell_type": "code",
      "metadata": {
        "id": "Tpp8E6Njt7_C",
        "colab": {
          "base_uri": "https://localhost:8080/"
        },
        "outputId": "ae8be745-79ab-4252-97cc-34e100e3b954"
      },
      "source": [
        "# # install subclu & libraries needed to read parquet files from GCS & spreadsheets\n",
        "# #  make sure to use the [colab] `extra` because it includes colab-specific libraries\n",
        "# module_path = f\"{g_drive_root}/MyDrive/Colab Notebooks/subreddit_clustering_i18n/[colab]\"\n",
        "\n",
        "!pip install fsspec gcsfs"
      ],
      "execution_count": null,
      "outputs": [
        {
          "output_type": "stream",
          "name": "stdout",
          "text": [
            "Requirement already satisfied: fsspec in /usr/local/lib/python3.7/dist-packages (2022.2.0)\n",
            "Requirement already satisfied: gcsfs in /usr/local/lib/python3.7/dist-packages (2022.2.0)\n",
            "Requirement already satisfied: aiohttp<4 in /usr/local/lib/python3.7/dist-packages (from gcsfs) (3.8.1)\n",
            "Requirement already satisfied: google-auth>=1.2 in /usr/local/lib/python3.7/dist-packages (from gcsfs) (1.35.0)\n",
            "Requirement already satisfied: google-auth-oauthlib in /usr/local/lib/python3.7/dist-packages (from gcsfs) (0.4.6)\n",
            "Requirement already satisfied: google-cloud-storage in /usr/local/lib/python3.7/dist-packages (from gcsfs) (1.18.1)\n",
            "Requirement already satisfied: decorator>4.1.2 in /usr/local/lib/python3.7/dist-packages (from gcsfs) (4.4.2)\n",
            "Requirement already satisfied: requests in /usr/local/lib/python3.7/dist-packages (from gcsfs) (2.23.0)\n",
            "Requirement already satisfied: frozenlist>=1.1.1 in /usr/local/lib/python3.7/dist-packages (from aiohttp<4->gcsfs) (1.3.0)\n",
            "Requirement already satisfied: yarl<2.0,>=1.0 in /usr/local/lib/python3.7/dist-packages (from aiohttp<4->gcsfs) (1.7.2)\n",
            "Requirement already satisfied: async-timeout<5.0,>=4.0.0a3 in /usr/local/lib/python3.7/dist-packages (from aiohttp<4->gcsfs) (4.0.2)\n",
            "Requirement already satisfied: attrs>=17.3.0 in /usr/local/lib/python3.7/dist-packages (from aiohttp<4->gcsfs) (21.4.0)\n",
            "Requirement already satisfied: asynctest==0.13.0 in /usr/local/lib/python3.7/dist-packages (from aiohttp<4->gcsfs) (0.13.0)\n",
            "Requirement already satisfied: aiosignal>=1.1.2 in /usr/local/lib/python3.7/dist-packages (from aiohttp<4->gcsfs) (1.2.0)\n",
            "Requirement already satisfied: charset-normalizer<3.0,>=2.0 in /usr/local/lib/python3.7/dist-packages (from aiohttp<4->gcsfs) (2.0.12)\n",
            "Requirement already satisfied: typing-extensions>=3.7.4 in /usr/local/lib/python3.7/dist-packages (from aiohttp<4->gcsfs) (3.10.0.2)\n",
            "Requirement already satisfied: multidict<7.0,>=4.5 in /usr/local/lib/python3.7/dist-packages (from aiohttp<4->gcsfs) (6.0.2)\n",
            "Requirement already satisfied: setuptools>=40.3.0 in /usr/local/lib/python3.7/dist-packages (from google-auth>=1.2->gcsfs) (57.4.0)\n",
            "Requirement already satisfied: pyasn1-modules>=0.2.1 in /usr/local/lib/python3.7/dist-packages (from google-auth>=1.2->gcsfs) (0.2.8)\n",
            "Requirement already satisfied: six>=1.9.0 in /usr/local/lib/python3.7/dist-packages (from google-auth>=1.2->gcsfs) (1.15.0)\n",
            "Requirement already satisfied: rsa<5,>=3.1.4 in /usr/local/lib/python3.7/dist-packages (from google-auth>=1.2->gcsfs) (4.8)\n",
            "Requirement already satisfied: cachetools<5.0,>=2.0.0 in /usr/local/lib/python3.7/dist-packages (from google-auth>=1.2->gcsfs) (4.2.4)\n",
            "Requirement already satisfied: pyasn1<0.5.0,>=0.4.6 in /usr/local/lib/python3.7/dist-packages (from pyasn1-modules>=0.2.1->google-auth>=1.2->gcsfs) (0.4.8)\n",
            "Requirement already satisfied: idna>=2.0 in /usr/local/lib/python3.7/dist-packages (from yarl<2.0,>=1.0->aiohttp<4->gcsfs) (2.10)\n",
            "Requirement already satisfied: requests-oauthlib>=0.7.0 in /usr/local/lib/python3.7/dist-packages (from google-auth-oauthlib->gcsfs) (1.3.1)\n",
            "Requirement already satisfied: oauthlib>=3.0.0 in /usr/local/lib/python3.7/dist-packages (from requests-oauthlib>=0.7.0->google-auth-oauthlib->gcsfs) (3.2.0)\n",
            "Requirement already satisfied: urllib3!=1.25.0,!=1.25.1,<1.26,>=1.21.1 in /usr/local/lib/python3.7/dist-packages (from requests->gcsfs) (1.24.3)\n",
            "Requirement already satisfied: chardet<4,>=3.0.2 in /usr/local/lib/python3.7/dist-packages (from requests->gcsfs) (3.0.4)\n",
            "Requirement already satisfied: certifi>=2017.4.17 in /usr/local/lib/python3.7/dist-packages (from requests->gcsfs) (2021.10.8)\n",
            "Requirement already satisfied: google-resumable-media<0.5.0dev,>=0.3.1 in /usr/local/lib/python3.7/dist-packages (from google-cloud-storage->gcsfs) (0.4.1)\n",
            "Requirement already satisfied: google-cloud-core<2.0dev,>=1.0.0 in /usr/local/lib/python3.7/dist-packages (from google-cloud-storage->gcsfs) (1.0.3)\n",
            "Requirement already satisfied: google-api-core<2.0.0dev,>=1.14.0 in /usr/local/lib/python3.7/dist-packages (from google-cloud-core<2.0dev,>=1.0.0->google-cloud-storage->gcsfs) (1.26.3)\n",
            "Requirement already satisfied: pytz in /usr/local/lib/python3.7/dist-packages (from google-api-core<2.0.0dev,>=1.14.0->google-cloud-core<2.0dev,>=1.0.0->google-cloud-storage->gcsfs) (2018.9)\n",
            "Requirement already satisfied: protobuf>=3.12.0 in /usr/local/lib/python3.7/dist-packages (from google-api-core<2.0.0dev,>=1.14.0->google-cloud-core<2.0dev,>=1.0.0->google-cloud-storage->gcsfs) (3.17.3)\n",
            "Requirement already satisfied: packaging>=14.3 in /usr/local/lib/python3.7/dist-packages (from google-api-core<2.0.0dev,>=1.14.0->google-cloud-core<2.0dev,>=1.0.0->google-cloud-storage->gcsfs) (21.3)\n",
            "Requirement already satisfied: googleapis-common-protos<2.0dev,>=1.6.0 in /usr/local/lib/python3.7/dist-packages (from google-api-core<2.0.0dev,>=1.14.0->google-cloud-core<2.0dev,>=1.0.0->google-cloud-storage->gcsfs) (1.56.0)\n",
            "Requirement already satisfied: pyparsing!=3.0.5,>=2.0.2 in /usr/local/lib/python3.7/dist-packages (from packaging>=14.3->google-api-core<2.0.0dev,>=1.14.0->google-cloud-core<2.0dev,>=1.0.0->google-cloud-storage->gcsfs) (3.0.7)\n"
          ]
        }
      ]
    },
    {
      "cell_type": "markdown",
      "source": [
        "## General imports"
      ],
      "metadata": {
        "id": "KN2A7TI4wY6w"
      }
    },
    {
      "cell_type": "code",
      "metadata": {
        "id": "9TpWbXh5mzew"
      },
      "source": [
        "# Regular Imports\n",
        "import os\n",
        "from datetime import datetime\n",
        "\n",
        "from google.cloud import bigquery\n",
        "\n",
        "import matplotlib.pyplot as plt\n",
        "import pandas as pd\n",
        "import numpy as np\n",
        "import seaborn as sns\n",
        "from matplotlib_venn import venn2_unweighted, venn3_unweighted\n",
        "\n",
        "\n",
        "# Set env variable needed by some libraries to get datay from BigQuery\n",
        "# os.environ['GOOGLE_CLOUD_PROJECT'] = 'data-science-prod-218515'\n",
        "os.environ['GOOGLE_CLOUD_PROJECT'] = 'data-prod-165221'"
      ],
      "execution_count": null,
      "outputs": []
    },
    {
      "cell_type": "markdown",
      "source": [
        "# Load df top nearest neighbors\n"
      ],
      "metadata": {
        "id": "aP-I3R6MxTyE"
      }
    },
    {
      "cell_type": "code",
      "source": [
        "%%time\n",
        "gs_df_nn = 'gs://i18n-subreddit-clustering/data/models/nearest_neighbors/manual_model_2022-03-28_191331/df_nearest_neighbors_top-4906242_by_7.parquet'\n",
        "df_nn_top = pd.read_parquet(gs_df_nn)\n",
        "print(df_nn_top.shape)"
      ],
      "metadata": {
        "colab": {
          "base_uri": "https://localhost:8080/"
        },
        "id": "WIy7FW0axe-F",
        "outputId": "412927d4-4b85-4763-c4e6-0d9b8c48a131"
      },
      "execution_count": null,
      "outputs": [
        {
          "output_type": "stream",
          "name": "stdout",
          "text": [
            "(4906242, 7)\n",
            "CPU times: user 2.71 s, sys: 904 ms, total: 3.62 s\n",
            "Wall time: 3.54 s\n"
          ]
        }
      ]
    },
    {
      "cell_type": "code",
      "source": [
        "df_nn_top.info()"
      ],
      "metadata": {
        "colab": {
          "base_uri": "https://localhost:8080/"
        },
        "id": "NbBNNVYYxlqG",
        "outputId": "f65766cb-fbf8-49d8-cb01-763e71303c76"
      },
      "execution_count": null,
      "outputs": [
        {
          "output_type": "stream",
          "name": "stdout",
          "text": [
            "<class 'pandas.core.frame.DataFrame'>\n",
            "Int64Index: 4906242 entries, 1 to 4955799\n",
            "Data columns (total 7 columns):\n",
            " #   Column             Dtype  \n",
            "---  ------             -----  \n",
            " 0   subreddit_id_a     object \n",
            " 1   subreddit_name_a   object \n",
            " 2   distance_rank      int64  \n",
            " 3   subreddit_id_b     object \n",
            " 4   subreddit_name_b   object \n",
            " 5   distance           float64\n",
            " 6   cosine_similarity  float64\n",
            "dtypes: float64(2), int64(1), object(4)\n",
            "memory usage: 299.5+ MB\n"
          ]
        }
      ]
    },
    {
      "cell_type": "code",
      "source": [
        "df_nn_top.iloc[:5, :9]"
      ],
      "metadata": {
        "colab": {
          "base_uri": "https://localhost:8080/",
          "height": 197
        },
        "id": "WSIhyctvApRW",
        "outputId": "2ecac64e-3296-4e7b-8b3b-b87697f1184e"
      },
      "execution_count": null,
      "outputs": [
        {
          "output_type": "execute_result",
          "data": {
            "text/plain": [
              "  subreddit_id_a subreddit_name_a  distance_rank subreddit_id_b  \\\n",
              "1      t5_46wt4h     0hthaatsjaay              1      t5_5fweuy   \n",
              "2      t5_46wt4h     0hthaatsjaay              2      t5_4ph6vm   \n",
              "3      t5_46wt4h     0hthaatsjaay              3      t5_4p3c20   \n",
              "4      t5_46wt4h     0hthaatsjaay              4      t5_2kxm87   \n",
              "5      t5_46wt4h     0hthaatsjaay              5      t5_3ng2du   \n",
              "\n",
              "   subreddit_name_b  distance  cosine_similarity  \n",
              "1           bestpyt  0.505327           0.872322  \n",
              "2  babyfacejassbest  0.559713           0.843361  \n",
              "3    officialtootie  0.561146           0.842558  \n",
              "4     honeybthatsme  0.569104           0.838060  \n",
              "5       yungblasian  0.578581           0.832622  "
            ],
            "text/html": [
              "\n",
              "  <div id=\"df-9a6af6a0-7c1a-4ab5-a44c-4d26d083d148\">\n",
              "    <div class=\"colab-df-container\">\n",
              "      <div>\n",
              "<style scoped>\n",
              "    .dataframe tbody tr th:only-of-type {\n",
              "        vertical-align: middle;\n",
              "    }\n",
              "\n",
              "    .dataframe tbody tr th {\n",
              "        vertical-align: top;\n",
              "    }\n",
              "\n",
              "    .dataframe thead th {\n",
              "        text-align: right;\n",
              "    }\n",
              "</style>\n",
              "<table border=\"1\" class=\"dataframe\">\n",
              "  <thead>\n",
              "    <tr style=\"text-align: right;\">\n",
              "      <th></th>\n",
              "      <th>subreddit_id_a</th>\n",
              "      <th>subreddit_name_a</th>\n",
              "      <th>distance_rank</th>\n",
              "      <th>subreddit_id_b</th>\n",
              "      <th>subreddit_name_b</th>\n",
              "      <th>distance</th>\n",
              "      <th>cosine_similarity</th>\n",
              "    </tr>\n",
              "  </thead>\n",
              "  <tbody>\n",
              "    <tr>\n",
              "      <th>1</th>\n",
              "      <td>t5_46wt4h</td>\n",
              "      <td>0hthaatsjaay</td>\n",
              "      <td>1</td>\n",
              "      <td>t5_5fweuy</td>\n",
              "      <td>bestpyt</td>\n",
              "      <td>0.505327</td>\n",
              "      <td>0.872322</td>\n",
              "    </tr>\n",
              "    <tr>\n",
              "      <th>2</th>\n",
              "      <td>t5_46wt4h</td>\n",
              "      <td>0hthaatsjaay</td>\n",
              "      <td>2</td>\n",
              "      <td>t5_4ph6vm</td>\n",
              "      <td>babyfacejassbest</td>\n",
              "      <td>0.559713</td>\n",
              "      <td>0.843361</td>\n",
              "    </tr>\n",
              "    <tr>\n",
              "      <th>3</th>\n",
              "      <td>t5_46wt4h</td>\n",
              "      <td>0hthaatsjaay</td>\n",
              "      <td>3</td>\n",
              "      <td>t5_4p3c20</td>\n",
              "      <td>officialtootie</td>\n",
              "      <td>0.561146</td>\n",
              "      <td>0.842558</td>\n",
              "    </tr>\n",
              "    <tr>\n",
              "      <th>4</th>\n",
              "      <td>t5_46wt4h</td>\n",
              "      <td>0hthaatsjaay</td>\n",
              "      <td>4</td>\n",
              "      <td>t5_2kxm87</td>\n",
              "      <td>honeybthatsme</td>\n",
              "      <td>0.569104</td>\n",
              "      <td>0.838060</td>\n",
              "    </tr>\n",
              "    <tr>\n",
              "      <th>5</th>\n",
              "      <td>t5_46wt4h</td>\n",
              "      <td>0hthaatsjaay</td>\n",
              "      <td>5</td>\n",
              "      <td>t5_3ng2du</td>\n",
              "      <td>yungblasian</td>\n",
              "      <td>0.578581</td>\n",
              "      <td>0.832622</td>\n",
              "    </tr>\n",
              "  </tbody>\n",
              "</table>\n",
              "</div>\n",
              "      <button class=\"colab-df-convert\" onclick=\"convertToInteractive('df-9a6af6a0-7c1a-4ab5-a44c-4d26d083d148')\"\n",
              "              title=\"Convert this dataframe to an interactive table.\"\n",
              "              style=\"display:none;\">\n",
              "        \n",
              "  <svg xmlns=\"http://www.w3.org/2000/svg\" height=\"24px\"viewBox=\"0 0 24 24\"\n",
              "       width=\"24px\">\n",
              "    <path d=\"M0 0h24v24H0V0z\" fill=\"none\"/>\n",
              "    <path d=\"M18.56 5.44l.94 2.06.94-2.06 2.06-.94-2.06-.94-.94-2.06-.94 2.06-2.06.94zm-11 1L8.5 8.5l.94-2.06 2.06-.94-2.06-.94L8.5 2.5l-.94 2.06-2.06.94zm10 10l.94 2.06.94-2.06 2.06-.94-2.06-.94-.94-2.06-.94 2.06-2.06.94z\"/><path d=\"M17.41 7.96l-1.37-1.37c-.4-.4-.92-.59-1.43-.59-.52 0-1.04.2-1.43.59L10.3 9.45l-7.72 7.72c-.78.78-.78 2.05 0 2.83L4 21.41c.39.39.9.59 1.41.59.51 0 1.02-.2 1.41-.59l7.78-7.78 2.81-2.81c.8-.78.8-2.07 0-2.86zM5.41 20L4 18.59l7.72-7.72 1.47 1.35L5.41 20z\"/>\n",
              "  </svg>\n",
              "      </button>\n",
              "      \n",
              "  <style>\n",
              "    .colab-df-container {\n",
              "      display:flex;\n",
              "      flex-wrap:wrap;\n",
              "      gap: 12px;\n",
              "    }\n",
              "\n",
              "    .colab-df-convert {\n",
              "      background-color: #E8F0FE;\n",
              "      border: none;\n",
              "      border-radius: 50%;\n",
              "      cursor: pointer;\n",
              "      display: none;\n",
              "      fill: #1967D2;\n",
              "      height: 32px;\n",
              "      padding: 0 0 0 0;\n",
              "      width: 32px;\n",
              "    }\n",
              "\n",
              "    .colab-df-convert:hover {\n",
              "      background-color: #E2EBFA;\n",
              "      box-shadow: 0px 1px 2px rgba(60, 64, 67, 0.3), 0px 1px 3px 1px rgba(60, 64, 67, 0.15);\n",
              "      fill: #174EA6;\n",
              "    }\n",
              "\n",
              "    [theme=dark] .colab-df-convert {\n",
              "      background-color: #3B4455;\n",
              "      fill: #D2E3FC;\n",
              "    }\n",
              "\n",
              "    [theme=dark] .colab-df-convert:hover {\n",
              "      background-color: #434B5C;\n",
              "      box-shadow: 0px 1px 3px 1px rgba(0, 0, 0, 0.15);\n",
              "      filter: drop-shadow(0px 1px 2px rgba(0, 0, 0, 0.3));\n",
              "      fill: #FFFFFF;\n",
              "    }\n",
              "  </style>\n",
              "\n",
              "      <script>\n",
              "        const buttonEl =\n",
              "          document.querySelector('#df-9a6af6a0-7c1a-4ab5-a44c-4d26d083d148 button.colab-df-convert');\n",
              "        buttonEl.style.display =\n",
              "          google.colab.kernel.accessAllowed ? 'block' : 'none';\n",
              "\n",
              "        async function convertToInteractive(key) {\n",
              "          const element = document.querySelector('#df-9a6af6a0-7c1a-4ab5-a44c-4d26d083d148');\n",
              "          const dataTable =\n",
              "            await google.colab.kernel.invokeFunction('convertToInteractive',\n",
              "                                                     [key], {});\n",
              "          if (!dataTable) return;\n",
              "\n",
              "          const docLinkHtml = 'Like what you see? Visit the ' +\n",
              "            '<a target=\"_blank\" href=https://colab.research.google.com/notebooks/data_table.ipynb>data table notebook</a>'\n",
              "            + ' to learn more about interactive tables.';\n",
              "          element.innerHTML = '';\n",
              "          dataTable['output_type'] = 'display_data';\n",
              "          await google.colab.output.renderOutput(dataTable, element);\n",
              "          const docLink = document.createElement('div');\n",
              "          docLink.innerHTML = docLinkHtml;\n",
              "          element.appendChild(docLink);\n",
              "        }\n",
              "      </script>\n",
              "    </div>\n",
              "  </div>\n",
              "  "
            ],
            "application/vnd.google.colaboratory.module+javascript": "\n      import \"https://ssl.gstatic.com/colaboratory/data_table/81f25a011006ed3d/data_table.js\";\n\n      window.createDataTable({\n        data: [[{\n            'v': 1,\n            'f': \"1\",\n        },\n\"t5_46wt4h\",\n\"0hthaatsjaay\",\n{\n            'v': 1,\n            'f': \"1\",\n        },\n\"t5_5fweuy\",\n\"bestpyt\",\n{\n            'v': 0.5053268671035767,\n            'f': \"0.5053268671035767\",\n        },\n{\n            'v': 0.8723223786916421,\n            'f': \"0.8723223786916421\",\n        }],\n [{\n            'v': 2,\n            'f': \"2\",\n        },\n\"t5_46wt4h\",\n\"0hthaatsjaay\",\n{\n            'v': 2,\n            'f': \"2\",\n        },\n\"t5_4ph6vm\",\n\"babyfacejassbest\",\n{\n            'v': 0.5597130060195923,\n            'f': \"0.5597130060195923\",\n        },\n{\n            'v': 0.8433606754462559,\n            'f': \"0.8433606754462559\",\n        }],\n [{\n            'v': 3,\n            'f': \"3\",\n        },\n\"t5_46wt4h\",\n\"0hthaatsjaay\",\n{\n            'v': 3,\n            'f': \"3\",\n        },\n\"t5_4p3c20\",\n\"officialtootie\",\n{\n            'v': 0.5611461400985718,\n            'f': \"0.5611461400985718\",\n        },\n{\n            'v': 0.842557504726237,\n            'f': \"0.842557504726237\",\n        }],\n [{\n            'v': 4,\n            'f': \"4\",\n        },\n\"t5_46wt4h\",\n\"0hthaatsjaay\",\n{\n            'v': 4,\n            'f': \"4\",\n        },\n\"t5_2kxm87\",\n\"honeybthatsme\",\n{\n            'v': 0.5691044330596924,\n            'f': \"0.5691044330596924\",\n        },\n{\n            'v': 0.8380600721359031,\n            'f': \"0.8380600721359031\",\n        }],\n [{\n            'v': 5,\n            'f': \"5\",\n        },\n\"t5_46wt4h\",\n\"0hthaatsjaay\",\n{\n            'v': 5,\n            'f': \"5\",\n        },\n\"t5_3ng2du\",\n\"yungblasian\",\n{\n            'v': 0.5785808563232422,\n            'f': \"0.5785808563232422\",\n        },\n{\n            'v': 0.8326220963481319,\n            'f': \"0.8326220963481319\",\n        }]],\n        columns: [[\"number\", \"index\"], [\"string\", \"subreddit_id_a\"], [\"string\", \"subreddit_name_a\"], [\"number\", \"distance_rank\"], [\"string\", \"subreddit_id_b\"], [\"string\", \"subreddit_name_b\"], [\"number\", \"distance\"], [\"number\", \"cosine_similarity\"]],\n        columnOptions: [{\"width\": \"1px\", \"className\": \"index_column\"}],\n        rowsPerPage: 25,\n        helpUrl: \"https://colab.research.google.com/notebooks/data_table.ipynb\",\n        suppressOutputScrolling: true,\n        minimumWidth: undefined,\n      });\n    "
          },
          "metadata": {},
          "execution_count": 20
        }
      ]
    },
    {
      "cell_type": "code",
      "source": [
        "df_nn_top.columns.to_list()"
      ],
      "metadata": {
        "colab": {
          "base_uri": "https://localhost:8080/"
        },
        "id": "6mf12eS0BWxT",
        "outputId": "9bbad02f-79c6-4d3c-f747-04e1c3579f77"
      },
      "execution_count": null,
      "outputs": [
        {
          "output_type": "execute_result",
          "data": {
            "text/plain": [
              "['subreddit_id_a',\n",
              " 'subreddit_name_a',\n",
              " 'distance_rank',\n",
              " 'subreddit_id_b',\n",
              " 'subreddit_name_b',\n",
              " 'distance',\n",
              " 'cosine_similarity']"
            ]
          },
          "metadata": {},
          "execution_count": 21
        }
      ]
    },
    {
      "cell_type": "markdown",
      "metadata": {
        "id": "K0A2qrQ4nbFO"
      },
      "source": [
        "# Save table to BigQuery\n",
        "\n",
        "NOTE: Sorting is not guaranteed in the final BigQuery table.\n",
        "\n",
        "We can \"force\" sorting if we set `chunksize` to a number smaller than the full df size.\n",
        "\n",
        "ETA for \n",
        "batch = 10k\n",
        "- 490k sub pairs = 3:30 minutes (3.5)\n",
        "- 4.9 Million sub pairs = ~37 minutes"
      ]
    },
    {
      "cell_type": "code",
      "metadata": {
        "id": "RNncSE90nehX",
        "colab": {
          "base_uri": "https://localhost:8080/"
        },
        "outputId": "c1b56a72-10e1-4870-be20-b3673d830568"
      },
      "source": [
        "l_cols_for_bq = [\n",
        "    'subreddit_id_a',\n",
        "    'subreddit_name_a',\n",
        "    'distance_rank',\n",
        "    'subreddit_id_b',\n",
        "    'subreddit_name_b',\n",
        "    'cosine_similarity'\n",
        "]\n",
        "\n",
        "(\n",
        "    df_nn_top[l_cols_for_bq]\n",
        "    .assign(table_creation_date=pd.to_datetime(datetime.utcnow().date()))\n",
        "    .to_gbq(\n",
        "        destination_table='david_bermejo.subclu_v0041_subreddit_distances_c_top_100',\n",
        "        project_id='reddit-employee-datasets',\n",
        "        chunksize=10000,\n",
        "        if_exists='replace'\n",
        "    )\n",
        ")"
      ],
      "execution_count": null,
      "outputs": [
        {
          "output_type": "stream",
          "name": "stderr",
          "text": [
            "491it [36:27,  4.46s/it]\n"
          ]
        }
      ]
    },
    {
      "cell_type": "code",
      "source": [
        ""
      ],
      "metadata": {
        "id": "ROh7eGbPCRy-"
      },
      "execution_count": null,
      "outputs": []
    }
  ]
}