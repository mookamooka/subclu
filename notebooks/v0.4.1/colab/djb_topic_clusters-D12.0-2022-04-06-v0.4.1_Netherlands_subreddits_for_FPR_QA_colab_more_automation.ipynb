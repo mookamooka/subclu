{
  "cells": [
    {
      "cell_type": "markdown",
      "metadata": {
        "id": "iVZuLSOgZVC8"
      },
      "source": [
        "# Purpose\n",
        "\n",
        "### 2022-04-06\n",
        "In this notebook we'll get the subreddits relevant to a country so that we can do QA (check ratings & subreddit relevance) for an FPR in one Feed.\n",
        "\n",
        "---\n",
        "\n",
        "TODO: Haven't included place logic (e.g., add direction to: city, state, country subreddits.)\n",
        "\n",
        "\n",
        "### Updates\n",
        "2022-02-23:\n",
        "I'm going to automate more of the notebook process into functions:\n",
        "- automate \"optimal\" minimum number of subs to minimize number of orphans\n",
        "- move df_clean creation & column order to a function\n",
        "- update order of columns for cluster dfs\n",
        "\n",
        "2022-02-16: \n",
        "I [David] will update the QA sheet so that we have standardized columns/format. Otherwise it'll be more work for us to wait for country managers to format things and then standardize them after the fact\n",
        "\n"
      ]
    },
    {
      "cell_type": "markdown",
      "metadata": {
        "id": "c2qXnQ5IV9Z7"
      },
      "source": [
        "# Imports & notebook setup"
      ]
    },
    {
      "cell_type": "code",
      "execution_count": 1,
      "metadata": {
        "id": "FmbBk_1pnZtq"
      },
      "outputs": [],
      "source": [
        "%load_ext autoreload\n",
        "%autoreload 2\n",
        "\n",
        "# Register bigquery magic (only needed for laptop/local, not colab)\n",
        "# %load_ext google.cloud.bigquery"
      ]
    },
    {
      "cell_type": "code",
      "source": [
        "# colab auth for BigQuery, google drive, & google sheets (gspread)\n",
        "from google.colab import auth, files, drive\n",
        "from google.auth import default\n",
        "import sys  # need sys for mounting gdrive path\n",
        "\n",
        "auth.authenticate_user()\n",
        "print('Authenticated')"
      ],
      "metadata": {
        "colab": {
          "base_uri": "https://localhost:8080/"
        },
        "id": "SrO13wbPgWFV",
        "outputId": "dcf35c05-4fcb-4824-b06d-e49de71cfa58"
      },
      "execution_count": 2,
      "outputs": [
        {
          "output_type": "stream",
          "name": "stdout",
          "text": [
            "Authenticated\n"
          ]
        }
      ]
    },
    {
      "cell_type": "markdown",
      "source": [
        "## Install custom library"
      ],
      "metadata": {
        "id": "wmEXbiGagokZ"
      }
    },
    {
      "cell_type": "markdown",
      "source": [
        "### Append google drive path so we can install library from there"
      ],
      "metadata": {
        "id": "a2Y4JbSWawcg"
      }
    },
    {
      "cell_type": "code",
      "source": [
        "# Attach google drive & import my python utility functions\n",
        "# if drive.mount() fails, you can also:\n",
        "#   MANUALLY CLICK ON \"Mount Drive\"\n",
        "import sys\n",
        "\n",
        "\n",
        "g_drive_root = '/content/drive'\n",
        "\n",
        "try:\n",
        "    drive.mount(g_drive_root, force_remount=True)\n",
        "    print('   Authenticated & mounted Google Drive')\n",
        "    \n",
        "except Exception as e:\n",
        "    try:\n",
        "        drive._mount(g_drive_root, force_remount=True)\n",
        "        print('   Authenticated & mounted Google Drive')\n",
        "    except Exception as e:\n",
        "        print(e)\n",
        "        raise Exception('You might need to manually mount google drive to colab')\n",
        "\n",
        "l_paths_to_append = [\n",
        "    f'{g_drive_root}/MyDrive/Colab Notebooks',\n",
        "\n",
        "    # need to append the path to subclu so that colab can import things properly\n",
        "    f'{g_drive_root}/MyDrive/Colab Notebooks/subreddit_clustering_i18n'\n",
        "]\n",
        "for path_ in l_paths_to_append:\n",
        "    if path_ in sys.path:\n",
        "        sys.path.remove(path_)\n",
        "    print(f\" Appending path: {path_}\")\n",
        "    sys.path.append(path_)"
      ],
      "metadata": {
        "colab": {
          "base_uri": "https://localhost:8080/"
        },
        "id": "rRg2ZhSag0Tl",
        "outputId": "83166ce9-993c-4eca-f521-1dfcfac15a67"
      },
      "execution_count": 3,
      "outputs": [
        {
          "output_type": "stream",
          "name": "stdout",
          "text": [
            "Mounted at /content/drive\n",
            "   Authenticated & mounted Google Drive\n",
            " Appending path: /content/drive/MyDrive/Colab Notebooks\n",
            " Appending path: /content/drive/MyDrive/Colab Notebooks/subreddit_clustering_i18n\n"
          ]
        }
      ]
    },
    {
      "cell_type": "markdown",
      "source": [
        "### Install library"
      ],
      "metadata": {
        "id": "Dbe6b4s1a2Eg"
      }
    },
    {
      "cell_type": "code",
      "source": [
        "# install subclu & libraries needed to read parquet files from GCS & spreadsheets\n",
        "#  make sure to use the [colab] `extra` because it includes colab-specific libraries\n",
        "module_path = f\"{g_drive_root}/MyDrive/Colab Notebooks/subreddit_clustering_i18n/[colab]\"\n",
        "\n",
        "!pip install -e $\"$module_path\" --quiet"
      ],
      "metadata": {
        "id": "7fvxItkqhdPJ",
        "colab": {
          "base_uri": "https://localhost:8080/"
        },
        "outputId": "699ac6d6-c1c5-4bf6-9fe1-63cb5794d7e9"
      },
      "execution_count": 4,
      "outputs": [
        {
          "output_type": "stream",
          "name": "stdout",
          "text": [
            "\u001b[K     |████████████████████████████████| 10.1 MB 23.6 MB/s \n",
            "\u001b[K     |████████████████████████████████| 14.2 MB 46.6 MB/s \n",
            "\u001b[K     |████████████████████████████████| 965 kB 40.2 MB/s \n",
            "\u001b[K     |████████████████████████████████| 144 kB 56.7 MB/s \n",
            "\u001b[K     |████████████████████████████████| 76 kB 3.9 MB/s \n",
            "\u001b[K     |████████████████████████████████| 285 kB 47.5 MB/s \n",
            "\u001b[K     |████████████████████████████████| 13.2 MB 53.8 MB/s \n",
            "\u001b[K     |████████████████████████████████| 79.9 MB 108 kB/s \n",
            "\u001b[K     |████████████████████████████████| 136 kB 65.7 MB/s \n",
            "\u001b[K     |████████████████████████████████| 715 kB 58.4 MB/s \n",
            "\u001b[K     |████████████████████████████████| 112 kB 75.0 MB/s \n",
            "\u001b[K     |████████████████████████████████| 74 kB 2.6 MB/s \n",
            "\u001b[K     |████████████████████████████████| 62 kB 669 kB/s \n",
            "\u001b[K     |████████████████████████████████| 146 kB 45.8 MB/s \n",
            "\u001b[K     |████████████████████████████████| 1.1 MB 36.0 MB/s \n",
            "\u001b[K     |████████████████████████████████| 181 kB 71.0 MB/s \n",
            "\u001b[K     |████████████████████████████████| 79 kB 7.7 MB/s \n",
            "\u001b[K     |████████████████████████████████| 596 kB 58.9 MB/s \n",
            "\u001b[K     |████████████████████████████████| 78 kB 6.5 MB/s \n",
            "\u001b[K     |████████████████████████████████| 54 kB 2.5 MB/s \n",
            "\u001b[K     |████████████████████████████████| 1.1 MB 46.1 MB/s \n",
            "\u001b[K     |████████████████████████████████| 271 kB 50.3 MB/s \n",
            "\u001b[K     |████████████████████████████████| 94 kB 3.3 MB/s \n",
            "\u001b[K     |████████████████████████████████| 144 kB 77.8 MB/s \n",
            "\u001b[K     |████████████████████████████████| 63 kB 1.7 MB/s \n",
            "\u001b[?25h  Building wheel for antlr4-python3-runtime (setup.py) ... \u001b[?25l\u001b[?25hdone\n",
            "  Building wheel for alembic (setup.py) ... \u001b[?25l\u001b[?25hdone\n",
            "  Building wheel for databricks-cli (setup.py) ... \u001b[?25l\u001b[?25hdone\n",
            "  Building wheel for retrying (setup.py) ... \u001b[?25l\u001b[?25hdone\n",
            "\u001b[31mERROR: pip's dependency resolver does not currently take into account all the packages that are installed. This behaviour is the source of the following dependency conflicts.\n",
            "gym 0.17.3 requires cloudpickle<1.7.0,>=1.2.0, but you have cloudpickle 2.0.0 which is incompatible.\u001b[0m\n"
          ]
        }
      ]
    },
    {
      "cell_type": "markdown",
      "source": [
        "## Regular Imports"
      ],
      "metadata": {
        "id": "5Z4XllVxgiXa"
      }
    },
    {
      "cell_type": "code",
      "execution_count": 5,
      "metadata": {
        "id": "9TpWbXh5mzew"
      },
      "outputs": [],
      "source": [
        "import os\n",
        "from datetime import datetime\n",
        "\n",
        "from google.cloud import bigquery\n",
        "\n",
        "import matplotlib.pyplot as plt\n",
        "import pandas as pd\n",
        "import numpy as np\n",
        "import seaborn as sns\n",
        "from matplotlib_venn import venn2_unweighted, venn3_unweighted\n",
        "from tqdm import tqdm\n",
        "\n",
        "# auth for google sheets\n",
        "import gspread\n",
        "\n",
        "\n",
        "creds_, _ = default()\n",
        "gc = gspread.authorize(creds_)\n",
        "\n",
        "# os.environ['GOOGLE_CLOUD_PROJECT'] = 'data-science-prod-218515'\n",
        "os.environ['GOOGLE_CLOUD_PROJECT'] = 'data-prod-165221'"
      ]
    },
    {
      "cell_type": "markdown",
      "source": [
        "## Custom imports"
      ],
      "metadata": {
        "id": "Zvb0NK8waSE_"
      }
    },
    {
      "cell_type": "code",
      "execution_count": 6,
      "metadata": {
        "colab": {
          "base_uri": "https://localhost:8080/"
        },
        "id": "Cj_y2KtccJ8P",
        "outputId": "b6489943-d052-4922-9b9b-9cc4e08488ff"
      },
      "outputs": [
        {
          "output_type": "stream",
          "name": "stdout",
          "text": [
            "python\t\tv 3.7.13\n",
            "===\n",
            "gspread\t\tv: 4.0.1\n",
            "pandas\t\tv: 1.3.5\n",
            "numpy\t\tv: 1.21.5\n"
          ]
        }
      ],
      "source": [
        "# subclu imports\n",
        "import subclu\n",
        "from subclu.utils.eda import (\n",
        "    setup_logging, counts_describe, value_counts_and_pcts,\n",
        "    notebook_display_config, print_lib_versions,\n",
        "    style_df_numeric, reorder_array,\n",
        ")\n",
        "from subclu.models.clustering_utils import (\n",
        "    create_dynamic_clusters,\n",
        "    convert_distance_or_ab_to_list_for_fpr,\n",
        "    reshape_df_to_get_1_cluster_per_row,\n",
        "    get_primary_topic_mix_cols,\n",
        "    create_dynamic_clusters_clean,\n",
        ")\n",
        "\n",
        "from subclu.models.reshape_clusters_v041 import (\n",
        "    keep_only_target_labels,\n",
        "    get_table_for_optimal_dynamic_cluster_params,\n",
        "    get_dynamic_cluster_summary,\n",
        "    flag_mature_clusters_to_exclude_from_qa,\n",
        ")\n",
        "\n",
        "\n",
        "setup_logging()\n",
        "notebook_display_config()\n",
        "print_lib_versions([gspread, pd, np])"
      ]
    },
    {
      "cell_type": "markdown",
      "source": [
        "# Checklist to re-run for a country:\n",
        "\n",
        "- change country name for google sheet name\n",
        "- change country initial in google sheet\n",
        "    - add google sheet KEY (after created)\n",
        "- change country name in geo-relevance query"
      ],
      "metadata": {
        "id": "S1idpDdg_ABj"
      }
    },
    {
      "cell_type": "markdown",
      "source": [
        "## Create google sheet for country outputs\n"
      ],
      "metadata": {
        "id": "HDIXrEUcrjYf"
      }
    },
    {
      "cell_type": "code",
      "source": [
        "%%time\n",
        "\n",
        "country_name_sheet_ = 'Netherlands'\n",
        "target_abbrev_ = 'NL'\n",
        "GSHEET_KEY = '1KGFY2T-M61j-l-jsy2e9dDjoXMLXELpX1g85T5qZ87o'\n",
        "GSHEET_NAME = f'i18n {country_name_sheet_} subreddits and clusters - model v0.4.1'\n",
        "\n",
        "\n",
        "d_wsh_names = {\n",
        "    'qa_ready': {\n",
        "        'name': 'subs_need_to_be_rated',\n",
        "    },\n",
        "    'clusters_t2t_list_raw': {\n",
        "        'name': f'raw_clusters_list_{target_abbrev_}_{target_abbrev_}',\n",
        "    },\n",
        "    'clusters_t2t_fpr_after_qa': {\n",
        "        'name': f'fpr_clusters_after_qa_{target_abbrev_}_{target_abbrev_}',\n",
        "    },\n",
        "    'sub_raw': {\n",
        "        'name': 'raw_data_per_subreddit',\n",
        "    },\n",
        "    # 'clusters_t2t_fpr_raw': {\n",
        "    #     'name': f'raw_clusters_fpr_{target_abbrev_}_{target_abbrev_}',\n",
        "    # },\n",
        "}\n",
        "\n",
        "if GSHEET_KEY is not None:\n",
        "    sh = gc.open_by_key(GSHEET_KEY)\n",
        "    print(f\"Opening google worksheet: {GSHEET_NAME} ...\")\n",
        "else:\n",
        "    print(f\"** Creating google worksheet: {GSHEET_NAME} ...\")\n",
        "    sh = gc.create(GSHEET_NAME)\n",
        "\n",
        "# create worksheets:\n",
        "for _, d_ in d_wsh_names.items():\n",
        "    sh_name = d_['name']\n",
        "    try:\n",
        "        d_['worksheet'] = sh.worksheet(sh_name)\n",
        "        print(f\"  Opening tab/sheet: {sh_name} ...\")\n",
        "    except Exception as e:\n",
        "        print(f\"  ** Creating tab/sheet: {sh_name} ...\")\n",
        "        d_['worksheet'] = sh.add_worksheet(sh_name, rows=5, cols=5)\n",
        "\n",
        "if GSHEET_KEY is None:\n",
        "    print(f\"\\n*** New sheet ID (assign it to GSHEET_KEY variable): ***\\n{sh.id}\\n\")"
      ],
      "metadata": {
        "id": "FtpvngbKrBU3",
        "colab": {
          "base_uri": "https://localhost:8080/"
        },
        "outputId": "d7d75e9c-6ff0-4f34-897d-5aa2d8278d76"
      },
      "execution_count": 7,
      "outputs": [
        {
          "output_type": "stream",
          "name": "stdout",
          "text": [
            "** Creating google worksheet: i18n Netherlands subreddits and clusters - model v0.4.1 ...\n",
            "  ** Creating tab/sheet: subs_need_to_be_rated ...\n",
            "  ** Creating tab/sheet: raw_clusters_list_NL_NL ...\n",
            "  ** Creating tab/sheet: fpr_clusters_after_qa_NL_NL ...\n",
            "  ** Creating tab/sheet: raw_data_per_subreddit ...\n",
            "\n",
            "*** New sheet ID (assign it to GSHEET_KEY variable): ***\n",
            "1KGFY2T-M61j-l-jsy2e9dDjoXMLXELpX1g85T5qZ87o\n",
            "\n",
            "CPU times: user 99.9 ms, sys: 7.24 ms, total: 107 ms\n",
            "Wall time: 2.41 s\n"
          ]
        }
      ]
    },
    {
      "cell_type": "markdown",
      "source": [
        "# Load data from BigQuery"
      ],
      "metadata": {
        "id": "pL6PhLRiSdLM"
      }
    },
    {
      "cell_type": "markdown",
      "metadata": {
        "id": "VPakPmo0qYJl"
      },
      "source": [
        "## Load subreddit geo-relevance & cultural relevance metadata\n",
        "\n",
        "This data is already in bigQuery so read it straight from there. We'll use it to filter out geo-relevant (German) subs.\n",
        "\n",
        "Also add the latest ratings so that we can filter based on those.\n",
        "\n",
        "English-speaking countries don't have ambassador subs right now, so we should be able to create a standard template and replace the country name for these queries."
      ]
    },
    {
      "cell_type": "markdown",
      "metadata": {
        "id": "_2Fiuvi36DBx"
      },
      "source": [
        "### SQL geo & cultural"
      ]
    },
    {
      "cell_type": "code",
      "execution_count": 8,
      "metadata": {
        "code_folding": [
          8
        ],
        "colab": {
          "base_uri": "https://localhost:8080/"
        },
        "id": "5ol96QlxqpY4",
        "outputId": "8068e272-39e9-4758-e025-d22b787e3a78"
      },
      "outputs": [
        {
          "output_type": "stream",
          "name": "stdout",
          "text": [
            "CPU times: user 360 ms, sys: 26.1 ms, total: 386 ms\n",
            "Wall time: 11.5 s\n"
          ]
        }
      ],
      "source": [
        "%%time\n",
        "%%bigquery df_geo_and_lang --project data-science-prod-218515 \n",
        "\n",
        "-- Select geo+cultural subreddits for a target country\n",
        "--  And add latest rating & over_18 flags to exclude X-rated & over_18\n",
        "DECLARE TARGET_COUNTRY STRING DEFAULT 'Netherlands';\n",
        "DECLARE MIN_COUNTRY_STANDARDIZED_RELEVANCE NUMERIC DEFAULT 3.0;\n",
        "\n",
        "\n",
        "SELECT\n",
        "    s.* EXCEPT(over_18, pt, verdict) \n",
        "    , nt.rating_name\n",
        "    , nt.primary_topic\n",
        "    , nt.rating_short\n",
        "    , slo.over_18\n",
        "    , slo.allow_discovery\n",
        "    , CASE \n",
        "        WHEN(COALESCE(slo.over_18, 'f') = 't') THEN 'over_18_or_X_M_D_V'\n",
        "        WHEN(COALESCE(nt.rating_short, '') IN ('X', 'M', 'D', 'V')) THEN 'over_18_or_X_M_D_V'\n",
        "        ELSE 'unrated_or_E'\n",
        "    END AS grouped_rating\n",
        "\n",
        "FROM `reddit-employee-datasets.david_bermejo.subclu_v0041_subreddit_clusters_c_a` AS t\n",
        "    -- Inner join b/c we only want to keep subs that are geo-relevant AND in topic model\n",
        "    INNER JOIN (\n",
        "        SELECT *\n",
        "        FROM `reddit-employee-datasets.david_bermejo.subclu_subreddit_geo_score_standardized_20220212`\n",
        "        WHERE country_name = TARGET_COUNTRY\n",
        "    ) AS s\n",
        "        ON t.subreddit_id = s.subreddit_id\n",
        "\n",
        "    -- Add rating so we can get an estimate for how many we can actually use for recommendation\n",
        "    LEFT JOIN (\n",
        "        SELECT *\n",
        "        FROM `data-prod-165221.ds_v2_postgres_tables.subreddit_lookup`\n",
        "        -- Get latest partition\n",
        "        WHERE dt = DATE(CURRENT_DATE() - 2)\n",
        "    ) AS slo\n",
        "    ON s.subreddit_id = slo.subreddit_id\n",
        "    LEFT JOIN (\n",
        "        SELECT * FROM `data-prod-165221.cnc.shredded_crowdsource_topic_and_rating`\n",
        "        WHERE pt = DATE(CURRENT_DATE() - 2)\n",
        "    ) AS nt\n",
        "        ON s.subreddit_id = nt.subreddit_id\n",
        "\n",
        "    -- Exclude popular US subreddits\n",
        "    -- Can't query this table from local notebook because of errors getting google drive permissions. smh, excludefor now\n",
        "    LEFT JOIN `reddit-employee-datasets.david_bermejo.subclu_subreddits_top_us_to_exclude_from_relevance` tus\n",
        "        ON s.subreddit_name = LOWER(tus.subreddit_name)\n",
        "\n",
        "WHERE 1=1\n",
        "    AND s.subreddit_name != 'profile'\n",
        "    AND COALESCE(s.type, '') = 'public'\n",
        "    AND COALESCE(s.verdict, 'f') <> 'admin_removed'\n",
        "    AND COALESCE(slo.over_18, 'f') = 'f'\n",
        "    AND COALESCE(nt.rating_short, '') NOT IN ('X', 'D')\n",
        "\n",
        "    AND(\n",
        "        s.geo_relevance_default = TRUE\n",
        "        OR s.relevance_percent_by_subreddit = TRUE\n",
        "        OR s.e_users_percent_by_country_standardized >= MIN_COUNTRY_STANDARDIZED_RELEVANCE\n",
        "    )\n",
        "    AND country_name IN (\n",
        "            TARGET_COUNTRY\n",
        "        )\n",
        "\n",
        "    AND (\n",
        "         -- Exclude subs that are top in US but we want to exclude as culturally relevant\n",
        "         --  For simplicity, let's go with the English exclusion (more relaxed) than the non-English one\n",
        "         COALESCE(tus.english_exclude_from_relevance, '') <> 'exclude'\n",
        "    )\n",
        "\n",
        "ORDER BY e_users_percent_by_country_standardized DESC, users_l7 DESC, subreddit_name\n",
        ";"
      ]
    },
    {
      "cell_type": "markdown",
      "metadata": {
        "id": "BoF8BvPw6HNk"
      },
      "source": [
        "### Check df with geo + language information"
      ]
    },
    {
      "cell_type": "code",
      "source": [
        "print(df_geo_and_lang.shape)"
      ],
      "metadata": {
        "id": "wtS-3EivvIXG",
        "colab": {
          "base_uri": "https://localhost:8080/"
        },
        "outputId": "4c0247a5-b38d-42a8-a1fa-87a732e90e14"
      },
      "execution_count": 9,
      "outputs": [
        {
          "output_type": "stream",
          "name": "stdout",
          "text": [
            "(197, 26)\n"
          ]
        }
      ]
    },
    {
      "cell_type": "code",
      "execution_count": 10,
      "metadata": {
        "id": "w3z0gXGEAxCE",
        "colab": {
          "base_uri": "https://localhost:8080/",
          "height": 238
        },
        "outputId": "2a4e9920-7a77-445f-ed17-2f662d3f392e"
      },
      "outputs": [
        {
          "output_type": "execute_result",
          "data": {
            "text/plain": [
              "  subreddit_id  subreddit_name country_name  geo_relevance_default  b_users_percent_by_subreddit  e_users_percent_by_country_standardized  c_users_percent_by_country  d_users_percent_by_country_rank  relevance_percent_by_subreddit\n",
              "0     t5_30hrx  thenetherlands  Netherlands                  False                      0.613013                                10.658802                    0.028566                                2                            True\n",
              "1     t5_2r0ol     netherlands  Netherlands                  False                      0.398765                                10.534847                    0.018091                               13                            True\n",
              "2     t5_2r117       amsterdam  Netherlands                  False                      0.640630                                10.380873                    0.009853                               53                            True\n",
              "3     t5_39bxv          ik_ihe  Netherlands                  False                      0.570006                                10.117907                    0.010426                               49                            True"
            ],
            "text/html": [
              "\n",
              "  <div id=\"df-714f788a-e6ae-44ae-a241-9dea9d05e3db\">\n",
              "    <div class=\"colab-df-container\">\n",
              "      <div>\n",
              "<style scoped>\n",
              "    .dataframe tbody tr th:only-of-type {\n",
              "        vertical-align: middle;\n",
              "    }\n",
              "\n",
              "    .dataframe tbody tr th {\n",
              "        vertical-align: top;\n",
              "    }\n",
              "\n",
              "    .dataframe thead th {\n",
              "        text-align: right;\n",
              "    }\n",
              "</style>\n",
              "<table border=\"1\" class=\"dataframe\">\n",
              "  <thead>\n",
              "    <tr style=\"text-align: right;\">\n",
              "      <th></th>\n",
              "      <th>subreddit_id</th>\n",
              "      <th>subreddit_name</th>\n",
              "      <th>country_name</th>\n",
              "      <th>geo_relevance_default</th>\n",
              "      <th>b_users_percent_by_subreddit</th>\n",
              "      <th>e_users_percent_by_country_standardized</th>\n",
              "      <th>c_users_percent_by_country</th>\n",
              "      <th>d_users_percent_by_country_rank</th>\n",
              "      <th>relevance_percent_by_subreddit</th>\n",
              "    </tr>\n",
              "  </thead>\n",
              "  <tbody>\n",
              "    <tr>\n",
              "      <th>0</th>\n",
              "      <td>t5_30hrx</td>\n",
              "      <td>thenetherlands</td>\n",
              "      <td>Netherlands</td>\n",
              "      <td>False</td>\n",
              "      <td>0.613013</td>\n",
              "      <td>10.658802</td>\n",
              "      <td>0.028566</td>\n",
              "      <td>2</td>\n",
              "      <td>True</td>\n",
              "    </tr>\n",
              "    <tr>\n",
              "      <th>1</th>\n",
              "      <td>t5_2r0ol</td>\n",
              "      <td>netherlands</td>\n",
              "      <td>Netherlands</td>\n",
              "      <td>False</td>\n",
              "      <td>0.398765</td>\n",
              "      <td>10.534847</td>\n",
              "      <td>0.018091</td>\n",
              "      <td>13</td>\n",
              "      <td>True</td>\n",
              "    </tr>\n",
              "    <tr>\n",
              "      <th>2</th>\n",
              "      <td>t5_2r117</td>\n",
              "      <td>amsterdam</td>\n",
              "      <td>Netherlands</td>\n",
              "      <td>False</td>\n",
              "      <td>0.640630</td>\n",
              "      <td>10.380873</td>\n",
              "      <td>0.009853</td>\n",
              "      <td>53</td>\n",
              "      <td>True</td>\n",
              "    </tr>\n",
              "    <tr>\n",
              "      <th>3</th>\n",
              "      <td>t5_39bxv</td>\n",
              "      <td>ik_ihe</td>\n",
              "      <td>Netherlands</td>\n",
              "      <td>False</td>\n",
              "      <td>0.570006</td>\n",
              "      <td>10.117907</td>\n",
              "      <td>0.010426</td>\n",
              "      <td>49</td>\n",
              "      <td>True</td>\n",
              "    </tr>\n",
              "  </tbody>\n",
              "</table>\n",
              "</div>\n",
              "      <button class=\"colab-df-convert\" onclick=\"convertToInteractive('df-714f788a-e6ae-44ae-a241-9dea9d05e3db')\"\n",
              "              title=\"Convert this dataframe to an interactive table.\"\n",
              "              style=\"display:none;\">\n",
              "        \n",
              "  <svg xmlns=\"http://www.w3.org/2000/svg\" height=\"24px\"viewBox=\"0 0 24 24\"\n",
              "       width=\"24px\">\n",
              "    <path d=\"M0 0h24v24H0V0z\" fill=\"none\"/>\n",
              "    <path d=\"M18.56 5.44l.94 2.06.94-2.06 2.06-.94-2.06-.94-.94-2.06-.94 2.06-2.06.94zm-11 1L8.5 8.5l.94-2.06 2.06-.94-2.06-.94L8.5 2.5l-.94 2.06-2.06.94zm10 10l.94 2.06.94-2.06 2.06-.94-2.06-.94-.94-2.06-.94 2.06-2.06.94z\"/><path d=\"M17.41 7.96l-1.37-1.37c-.4-.4-.92-.59-1.43-.59-.52 0-1.04.2-1.43.59L10.3 9.45l-7.72 7.72c-.78.78-.78 2.05 0 2.83L4 21.41c.39.39.9.59 1.41.59.51 0 1.02-.2 1.41-.59l7.78-7.78 2.81-2.81c.8-.78.8-2.07 0-2.86zM5.41 20L4 18.59l7.72-7.72 1.47 1.35L5.41 20z\"/>\n",
              "  </svg>\n",
              "      </button>\n",
              "      \n",
              "  <style>\n",
              "    .colab-df-container {\n",
              "      display:flex;\n",
              "      flex-wrap:wrap;\n",
              "      gap: 12px;\n",
              "    }\n",
              "\n",
              "    .colab-df-convert {\n",
              "      background-color: #E8F0FE;\n",
              "      border: none;\n",
              "      border-radius: 50%;\n",
              "      cursor: pointer;\n",
              "      display: none;\n",
              "      fill: #1967D2;\n",
              "      height: 32px;\n",
              "      padding: 0 0 0 0;\n",
              "      width: 32px;\n",
              "    }\n",
              "\n",
              "    .colab-df-convert:hover {\n",
              "      background-color: #E2EBFA;\n",
              "      box-shadow: 0px 1px 2px rgba(60, 64, 67, 0.3), 0px 1px 3px 1px rgba(60, 64, 67, 0.15);\n",
              "      fill: #174EA6;\n",
              "    }\n",
              "\n",
              "    [theme=dark] .colab-df-convert {\n",
              "      background-color: #3B4455;\n",
              "      fill: #D2E3FC;\n",
              "    }\n",
              "\n",
              "    [theme=dark] .colab-df-convert:hover {\n",
              "      background-color: #434B5C;\n",
              "      box-shadow: 0px 1px 3px 1px rgba(0, 0, 0, 0.15);\n",
              "      filter: drop-shadow(0px 1px 2px rgba(0, 0, 0, 0.3));\n",
              "      fill: #FFFFFF;\n",
              "    }\n",
              "  </style>\n",
              "\n",
              "      <script>\n",
              "        const buttonEl =\n",
              "          document.querySelector('#df-714f788a-e6ae-44ae-a241-9dea9d05e3db button.colab-df-convert');\n",
              "        buttonEl.style.display =\n",
              "          google.colab.kernel.accessAllowed ? 'block' : 'none';\n",
              "\n",
              "        async function convertToInteractive(key) {\n",
              "          const element = document.querySelector('#df-714f788a-e6ae-44ae-a241-9dea9d05e3db');\n",
              "          const dataTable =\n",
              "            await google.colab.kernel.invokeFunction('convertToInteractive',\n",
              "                                                     [key], {});\n",
              "          if (!dataTable) return;\n",
              "\n",
              "          const docLinkHtml = 'Like what you see? Visit the ' +\n",
              "            '<a target=\"_blank\" href=https://colab.research.google.com/notebooks/data_table.ipynb>data table notebook</a>'\n",
              "            + ' to learn more about interactive tables.';\n",
              "          element.innerHTML = '';\n",
              "          dataTable['output_type'] = 'display_data';\n",
              "          await google.colab.output.renderOutput(dataTable, element);\n",
              "          const docLink = document.createElement('div');\n",
              "          docLink.innerHTML = docLinkHtml;\n",
              "          element.appendChild(docLink);\n",
              "        }\n",
              "      </script>\n",
              "    </div>\n",
              "  </div>\n",
              "  "
            ]
          },
          "metadata": {},
          "execution_count": 10
        }
      ],
      "source": [
        "df_geo_and_lang.iloc[:4, :9]"
      ]
    },
    {
      "cell_type": "markdown",
      "metadata": {
        "id": "fxGerF5qHVwY"
      },
      "source": [
        "## Load model labels (clusters)\n",
        "\n",
        "The clusters now live in a Big Query table and have standardized names, so pull the data from there."
      ]
    },
    {
      "cell_type": "markdown",
      "metadata": {
        "id": "tSv6LeEZWdTk"
      },
      "source": [
        "### SQL labels\n"
      ]
    },
    {
      "cell_type": "code",
      "execution_count": 11,
      "metadata": {
        "id": "NuuTkoAYWguD",
        "colab": {
          "base_uri": "https://localhost:8080/"
        },
        "outputId": "f3e1f096-22af-43c6-af44-9df0fa434d91"
      },
      "outputs": [
        {
          "output_type": "stream",
          "name": "stdout",
          "text": [
            "CPU times: user 8.29 s, sys: 481 ms, total: 8.77 s\n",
            "Wall time: 24.6 s\n"
          ]
        }
      ],
      "source": [
        "%%time\n",
        "%%bigquery df_labels --project data-science-prod-218515 \n",
        "\n",
        "-- select subreddit clusters from bigQuery\n",
        "\n",
        "SELECT\n",
        "    sc.subreddit_id\n",
        "    , sc.subreddit_name\n",
        "    , nt.primary_topic\n",
        "\n",
        "    , sc.* EXCEPT(subreddit_id, subreddit_name, primary_topic_1214)\n",
        "FROM `reddit-employee-datasets.david_bermejo.subclu_v0041_subreddit_clusters_c_a` sc\n",
        "    LEFT JOIN (\n",
        "        -- New view should be visible to all, but still comes from cnc_taxonomy_cassandra_sync\n",
        "        SELECT * FROM `data-prod-165221.cnc.shredded_crowdsource_topic_and_rating`\n",
        "        WHERE DATE(pt) = (CURRENT_DATE() - 2)\n",
        "    ) AS nt\n",
        "        ON sc.subreddit_id = nt.subreddit_id\n",
        ";"
      ]
    },
    {
      "cell_type": "markdown",
      "source": [
        "### Check label outputs"
      ],
      "metadata": {
        "id": "OaN0YJ7NS_Co"
      }
    },
    {
      "cell_type": "code",
      "execution_count": 12,
      "metadata": {
        "id": "ZEsStpOHXcaK",
        "colab": {
          "base_uri": "https://localhost:8080/",
          "height": 256
        },
        "outputId": "90d3a59f-5b3b-476e-d250-948321f58a58"
      },
      "outputs": [
        {
          "output_type": "stream",
          "name": "stdout",
          "text": [
            "(49558, 51)\n"
          ]
        },
        {
          "output_type": "execute_result",
          "data": {
            "text/plain": [
              "  subreddit_id   subreddit_name primary_topic  model_sort_order  posts_for_modeling_count  k_0013_label  k_0023_label  k_0041_label  k_0059_label\n",
              "0    t5_5a9iie       progonlydj          None             40079                      1000            12            19            34            49\n",
              "1     t5_2x9c7  googleplaymusic         Music             40080                        31            12            19            34            49\n",
              "2     t5_3jzsk           ravedj         Music             40081                      1000            12            19            34            49\n",
              "3     t5_2rgie    happyhardcore         Music             40082                       152            12            19            34            49"
            ],
            "text/html": [
              "\n",
              "  <div id=\"df-0d11ae14-429e-4bab-a8df-d2986ab85e16\">\n",
              "    <div class=\"colab-df-container\">\n",
              "      <div>\n",
              "<style scoped>\n",
              "    .dataframe tbody tr th:only-of-type {\n",
              "        vertical-align: middle;\n",
              "    }\n",
              "\n",
              "    .dataframe tbody tr th {\n",
              "        vertical-align: top;\n",
              "    }\n",
              "\n",
              "    .dataframe thead th {\n",
              "        text-align: right;\n",
              "    }\n",
              "</style>\n",
              "<table border=\"1\" class=\"dataframe\">\n",
              "  <thead>\n",
              "    <tr style=\"text-align: right;\">\n",
              "      <th></th>\n",
              "      <th>subreddit_id</th>\n",
              "      <th>subreddit_name</th>\n",
              "      <th>primary_topic</th>\n",
              "      <th>model_sort_order</th>\n",
              "      <th>posts_for_modeling_count</th>\n",
              "      <th>k_0013_label</th>\n",
              "      <th>k_0023_label</th>\n",
              "      <th>k_0041_label</th>\n",
              "      <th>k_0059_label</th>\n",
              "    </tr>\n",
              "  </thead>\n",
              "  <tbody>\n",
              "    <tr>\n",
              "      <th>0</th>\n",
              "      <td>t5_5a9iie</td>\n",
              "      <td>progonlydj</td>\n",
              "      <td>None</td>\n",
              "      <td>40079</td>\n",
              "      <td>1000</td>\n",
              "      <td>12</td>\n",
              "      <td>19</td>\n",
              "      <td>34</td>\n",
              "      <td>49</td>\n",
              "    </tr>\n",
              "    <tr>\n",
              "      <th>1</th>\n",
              "      <td>t5_2x9c7</td>\n",
              "      <td>googleplaymusic</td>\n",
              "      <td>Music</td>\n",
              "      <td>40080</td>\n",
              "      <td>31</td>\n",
              "      <td>12</td>\n",
              "      <td>19</td>\n",
              "      <td>34</td>\n",
              "      <td>49</td>\n",
              "    </tr>\n",
              "    <tr>\n",
              "      <th>2</th>\n",
              "      <td>t5_3jzsk</td>\n",
              "      <td>ravedj</td>\n",
              "      <td>Music</td>\n",
              "      <td>40081</td>\n",
              "      <td>1000</td>\n",
              "      <td>12</td>\n",
              "      <td>19</td>\n",
              "      <td>34</td>\n",
              "      <td>49</td>\n",
              "    </tr>\n",
              "    <tr>\n",
              "      <th>3</th>\n",
              "      <td>t5_2rgie</td>\n",
              "      <td>happyhardcore</td>\n",
              "      <td>Music</td>\n",
              "      <td>40082</td>\n",
              "      <td>152</td>\n",
              "      <td>12</td>\n",
              "      <td>19</td>\n",
              "      <td>34</td>\n",
              "      <td>49</td>\n",
              "    </tr>\n",
              "  </tbody>\n",
              "</table>\n",
              "</div>\n",
              "      <button class=\"colab-df-convert\" onclick=\"convertToInteractive('df-0d11ae14-429e-4bab-a8df-d2986ab85e16')\"\n",
              "              title=\"Convert this dataframe to an interactive table.\"\n",
              "              style=\"display:none;\">\n",
              "        \n",
              "  <svg xmlns=\"http://www.w3.org/2000/svg\" height=\"24px\"viewBox=\"0 0 24 24\"\n",
              "       width=\"24px\">\n",
              "    <path d=\"M0 0h24v24H0V0z\" fill=\"none\"/>\n",
              "    <path d=\"M18.56 5.44l.94 2.06.94-2.06 2.06-.94-2.06-.94-.94-2.06-.94 2.06-2.06.94zm-11 1L8.5 8.5l.94-2.06 2.06-.94-2.06-.94L8.5 2.5l-.94 2.06-2.06.94zm10 10l.94 2.06.94-2.06 2.06-.94-2.06-.94-.94-2.06-.94 2.06-2.06.94z\"/><path d=\"M17.41 7.96l-1.37-1.37c-.4-.4-.92-.59-1.43-.59-.52 0-1.04.2-1.43.59L10.3 9.45l-7.72 7.72c-.78.78-.78 2.05 0 2.83L4 21.41c.39.39.9.59 1.41.59.51 0 1.02-.2 1.41-.59l7.78-7.78 2.81-2.81c.8-.78.8-2.07 0-2.86zM5.41 20L4 18.59l7.72-7.72 1.47 1.35L5.41 20z\"/>\n",
              "  </svg>\n",
              "      </button>\n",
              "      \n",
              "  <style>\n",
              "    .colab-df-container {\n",
              "      display:flex;\n",
              "      flex-wrap:wrap;\n",
              "      gap: 12px;\n",
              "    }\n",
              "\n",
              "    .colab-df-convert {\n",
              "      background-color: #E8F0FE;\n",
              "      border: none;\n",
              "      border-radius: 50%;\n",
              "      cursor: pointer;\n",
              "      display: none;\n",
              "      fill: #1967D2;\n",
              "      height: 32px;\n",
              "      padding: 0 0 0 0;\n",
              "      width: 32px;\n",
              "    }\n",
              "\n",
              "    .colab-df-convert:hover {\n",
              "      background-color: #E2EBFA;\n",
              "      box-shadow: 0px 1px 2px rgba(60, 64, 67, 0.3), 0px 1px 3px 1px rgba(60, 64, 67, 0.15);\n",
              "      fill: #174EA6;\n",
              "    }\n",
              "\n",
              "    [theme=dark] .colab-df-convert {\n",
              "      background-color: #3B4455;\n",
              "      fill: #D2E3FC;\n",
              "    }\n",
              "\n",
              "    [theme=dark] .colab-df-convert:hover {\n",
              "      background-color: #434B5C;\n",
              "      box-shadow: 0px 1px 3px 1px rgba(0, 0, 0, 0.15);\n",
              "      filter: drop-shadow(0px 1px 2px rgba(0, 0, 0, 0.3));\n",
              "      fill: #FFFFFF;\n",
              "    }\n",
              "  </style>\n",
              "\n",
              "      <script>\n",
              "        const buttonEl =\n",
              "          document.querySelector('#df-0d11ae14-429e-4bab-a8df-d2986ab85e16 button.colab-df-convert');\n",
              "        buttonEl.style.display =\n",
              "          google.colab.kernel.accessAllowed ? 'block' : 'none';\n",
              "\n",
              "        async function convertToInteractive(key) {\n",
              "          const element = document.querySelector('#df-0d11ae14-429e-4bab-a8df-d2986ab85e16');\n",
              "          const dataTable =\n",
              "            await google.colab.kernel.invokeFunction('convertToInteractive',\n",
              "                                                     [key], {});\n",
              "          if (!dataTable) return;\n",
              "\n",
              "          const docLinkHtml = 'Like what you see? Visit the ' +\n",
              "            '<a target=\"_blank\" href=https://colab.research.google.com/notebooks/data_table.ipynb>data table notebook</a>'\n",
              "            + ' to learn more about interactive tables.';\n",
              "          element.innerHTML = '';\n",
              "          dataTable['output_type'] = 'display_data';\n",
              "          await google.colab.output.renderOutput(dataTable, element);\n",
              "          const docLink = document.createElement('div');\n",
              "          docLink.innerHTML = docLinkHtml;\n",
              "          element.appendChild(docLink);\n",
              "        }\n",
              "      </script>\n",
              "    </div>\n",
              "  </div>\n",
              "  "
            ]
          },
          "metadata": {},
          "execution_count": 12
        }
      ],
      "source": [
        "print(df_labels.shape)\n",
        "df_labels.iloc[:4, :9]"
      ]
    },
    {
      "cell_type": "code",
      "execution_count": 13,
      "metadata": {
        "id": "JqEYFP-uC4jv",
        "scrolled": true,
        "colab": {
          "base_uri": "https://localhost:8080/",
          "height": 331
        },
        "outputId": "e26e0da8-6458-4e09-d46b-908b864e23b2"
      },
      "outputs": [
        {
          "output_type": "execute_result",
          "data": {
            "text/plain": [
              "<pandas.io.formats.style.Styler at 0x7fc15fc6e950>"
            ],
            "text/html": [
              "<style type=\"text/css\">\n",
              "</style>\n",
              "<table id=\"T_48ee5_\" class=\"dataframe\">\n",
              "  <thead>\n",
              "    <tr>\n",
              "      <th class=\"blank level0\" >&nbsp;</th>\n",
              "      <th class=\"col_heading level0 col0\" >dtype</th>\n",
              "      <th class=\"col_heading level0 col1\" >count</th>\n",
              "      <th class=\"col_heading level0 col2\" >unique</th>\n",
              "      <th class=\"col_heading level0 col3\" >unique-percent</th>\n",
              "      <th class=\"col_heading level0 col4\" >null-count</th>\n",
              "      <th class=\"col_heading level0 col5\" >null-percent</th>\n",
              "    </tr>\n",
              "  </thead>\n",
              "  <tbody>\n",
              "    <tr>\n",
              "      <th id=\"T_48ee5_level0_row0\" class=\"row_heading level0 row0\" >subreddit_id</th>\n",
              "      <td id=\"T_48ee5_row0_col0\" class=\"data row0 col0\" >object</td>\n",
              "      <td id=\"T_48ee5_row0_col1\" class=\"data row0 col1\" >49,558</td>\n",
              "      <td id=\"T_48ee5_row0_col2\" class=\"data row0 col2\" >49,558</td>\n",
              "      <td id=\"T_48ee5_row0_col3\" class=\"data row0 col3\" >100.00%</td>\n",
              "      <td id=\"T_48ee5_row0_col4\" class=\"data row0 col4\" >0</td>\n",
              "      <td id=\"T_48ee5_row0_col5\" class=\"data row0 col5\" >0.00%</td>\n",
              "    </tr>\n",
              "    <tr>\n",
              "      <th id=\"T_48ee5_level0_row1\" class=\"row_heading level0 row1\" >subreddit_name</th>\n",
              "      <td id=\"T_48ee5_row1_col0\" class=\"data row1 col0\" >object</td>\n",
              "      <td id=\"T_48ee5_row1_col1\" class=\"data row1 col1\" >49,558</td>\n",
              "      <td id=\"T_48ee5_row1_col2\" class=\"data row1 col2\" >49,558</td>\n",
              "      <td id=\"T_48ee5_row1_col3\" class=\"data row1 col3\" >100.00%</td>\n",
              "      <td id=\"T_48ee5_row1_col4\" class=\"data row1 col4\" >0</td>\n",
              "      <td id=\"T_48ee5_row1_col5\" class=\"data row1 col5\" >0.00%</td>\n",
              "    </tr>\n",
              "    <tr>\n",
              "      <th id=\"T_48ee5_level0_row2\" class=\"row_heading level0 row2\" >primary_topic</th>\n",
              "      <td id=\"T_48ee5_row2_col0\" class=\"data row2 col0\" >object</td>\n",
              "      <td id=\"T_48ee5_row2_col1\" class=\"data row2 col1\" >41,366</td>\n",
              "      <td id=\"T_48ee5_row2_col2\" class=\"data row2 col2\" >52</td>\n",
              "      <td id=\"T_48ee5_row2_col3\" class=\"data row2 col3\" >0.13%</td>\n",
              "      <td id=\"T_48ee5_row2_col4\" class=\"data row2 col4\" >8,192</td>\n",
              "      <td id=\"T_48ee5_row2_col5\" class=\"data row2 col5\" >16.53%</td>\n",
              "    </tr>\n",
              "    <tr>\n",
              "      <th id=\"T_48ee5_level0_row3\" class=\"row_heading level0 row3\" >model_sort_order</th>\n",
              "      <td id=\"T_48ee5_row3_col0\" class=\"data row3 col0\" >int64</td>\n",
              "      <td id=\"T_48ee5_row3_col1\" class=\"data row3 col1\" >49,558</td>\n",
              "      <td id=\"T_48ee5_row3_col2\" class=\"data row3 col2\" >49,558</td>\n",
              "      <td id=\"T_48ee5_row3_col3\" class=\"data row3 col3\" >100.00%</td>\n",
              "      <td id=\"T_48ee5_row3_col4\" class=\"data row3 col4\" >0</td>\n",
              "      <td id=\"T_48ee5_row3_col5\" class=\"data row3 col5\" >0.00%</td>\n",
              "    </tr>\n",
              "    <tr>\n",
              "      <th id=\"T_48ee5_level0_row4\" class=\"row_heading level0 row4\" >posts_for_modeling_count</th>\n",
              "      <td id=\"T_48ee5_row4_col0\" class=\"data row4 col0\" >int64</td>\n",
              "      <td id=\"T_48ee5_row4_col1\" class=\"data row4 col1\" >49,558</td>\n",
              "      <td id=\"T_48ee5_row4_col2\" class=\"data row4 col2\" >999</td>\n",
              "      <td id=\"T_48ee5_row4_col3\" class=\"data row4 col3\" >2.02%</td>\n",
              "      <td id=\"T_48ee5_row4_col4\" class=\"data row4 col4\" >0</td>\n",
              "      <td id=\"T_48ee5_row4_col5\" class=\"data row4 col5\" >0.00%</td>\n",
              "    </tr>\n",
              "    <tr>\n",
              "      <th id=\"T_48ee5_level0_row5\" class=\"row_heading level0 row5\" >k_0013_label</th>\n",
              "      <td id=\"T_48ee5_row5_col0\" class=\"data row5 col0\" >int64</td>\n",
              "      <td id=\"T_48ee5_row5_col1\" class=\"data row5 col1\" >49,558</td>\n",
              "      <td id=\"T_48ee5_row5_col2\" class=\"data row5 col2\" >13</td>\n",
              "      <td id=\"T_48ee5_row5_col3\" class=\"data row5 col3\" >0.03%</td>\n",
              "      <td id=\"T_48ee5_row5_col4\" class=\"data row5 col4\" >0</td>\n",
              "      <td id=\"T_48ee5_row5_col5\" class=\"data row5 col5\" >0.00%</td>\n",
              "    </tr>\n",
              "    <tr>\n",
              "      <th id=\"T_48ee5_level0_row6\" class=\"row_heading level0 row6\" >k_0023_label</th>\n",
              "      <td id=\"T_48ee5_row6_col0\" class=\"data row6 col0\" >int64</td>\n",
              "      <td id=\"T_48ee5_row6_col1\" class=\"data row6 col1\" >49,558</td>\n",
              "      <td id=\"T_48ee5_row6_col2\" class=\"data row6 col2\" >23</td>\n",
              "      <td id=\"T_48ee5_row6_col3\" class=\"data row6 col3\" >0.05%</td>\n",
              "      <td id=\"T_48ee5_row6_col4\" class=\"data row6 col4\" >0</td>\n",
              "      <td id=\"T_48ee5_row6_col5\" class=\"data row6 col5\" >0.00%</td>\n",
              "    </tr>\n",
              "    <tr>\n",
              "      <th id=\"T_48ee5_level0_row7\" class=\"row_heading level0 row7\" >k_0041_label</th>\n",
              "      <td id=\"T_48ee5_row7_col0\" class=\"data row7 col0\" >int64</td>\n",
              "      <td id=\"T_48ee5_row7_col1\" class=\"data row7 col1\" >49,558</td>\n",
              "      <td id=\"T_48ee5_row7_col2\" class=\"data row7 col2\" >41</td>\n",
              "      <td id=\"T_48ee5_row7_col3\" class=\"data row7 col3\" >0.08%</td>\n",
              "      <td id=\"T_48ee5_row7_col4\" class=\"data row7 col4\" >0</td>\n",
              "      <td id=\"T_48ee5_row7_col5\" class=\"data row7 col5\" >0.00%</td>\n",
              "    </tr>\n",
              "    <tr>\n",
              "      <th id=\"T_48ee5_level0_row8\" class=\"row_heading level0 row8\" >k_0059_label</th>\n",
              "      <td id=\"T_48ee5_row8_col0\" class=\"data row8 col0\" >int64</td>\n",
              "      <td id=\"T_48ee5_row8_col1\" class=\"data row8 col1\" >49,558</td>\n",
              "      <td id=\"T_48ee5_row8_col2\" class=\"data row8 col2\" >59</td>\n",
              "      <td id=\"T_48ee5_row8_col3\" class=\"data row8 col3\" >0.12%</td>\n",
              "      <td id=\"T_48ee5_row8_col4\" class=\"data row8 col4\" >0</td>\n",
              "      <td id=\"T_48ee5_row8_col5\" class=\"data row8 col5\" >0.00%</td>\n",
              "    </tr>\n",
              "  </tbody>\n",
              "</table>\n"
            ]
          },
          "metadata": {},
          "execution_count": 13
        }
      ],
      "source": [
        "counts_describe(df_labels.iloc[:, :9])"
      ]
    },
    {
      "cell_type": "markdown",
      "source": [
        "# Reshape data\n",
        "Apply reshaping fxns so that we can export the data in a format that's good for QA."
      ],
      "metadata": {
        "id": "LIqEDyj3TFG8"
      }
    },
    {
      "cell_type": "markdown",
      "metadata": {
        "id": "z5okNIcHEKj-"
      },
      "source": [
        "## Keep only labels for Target subreddits\n"
      ]
    },
    {
      "cell_type": "code",
      "source": [
        "%%time\n",
        "df_labels_target = keep_only_target_labels(\n",
        "    df_labels=df_labels,\n",
        "    df_geo=df_geo_and_lang,\n",
        "    col_sort_order='model_sort_order',\n",
        "    l_ix_subs=['subreddit_id', 'subreddit_name'],\n",
        "    l_cols_to_front=None,\n",
        "    geo_cols_to_drop=None,\n",
        ")"
      ],
      "metadata": {
        "id": "ofe_NkI0TS1B",
        "colab": {
          "base_uri": "https://localhost:8080/"
        },
        "outputId": "28ff5ba0-590c-4fd2-b3a8-d7bfcec0067e"
      },
      "execution_count": 14,
      "outputs": [
        {
          "output_type": "stream",
          "name": "stdout",
          "text": [
            "0 <- subs to drop b/c they're not in model\n",
            "(197, 74) <- df_labels_target.shape\n",
            "CPU times: user 159 ms, sys: 3.77 ms, total: 163 ms\n",
            "Wall time: 167 ms\n"
          ]
        }
      ]
    },
    {
      "cell_type": "code",
      "source": [
        "counts_describe(df_labels_target.iloc[:, :15])"
      ],
      "metadata": {
        "id": "FWD1wSD7TSyu",
        "colab": {
          "base_uri": "https://localhost:8080/",
          "height": 0
        },
        "outputId": "c229f1c1-436c-4f92-eca4-8dd8553040fe"
      },
      "execution_count": 15,
      "outputs": [
        {
          "output_type": "execute_result",
          "data": {
            "text/plain": [
              "<pandas.io.formats.style.Styler at 0x7fc15fd82910>"
            ],
            "text/html": [
              "<style type=\"text/css\">\n",
              "</style>\n",
              "<table id=\"T_f0a20_\" class=\"dataframe\">\n",
              "  <thead>\n",
              "    <tr>\n",
              "      <th class=\"blank level0\" >&nbsp;</th>\n",
              "      <th class=\"col_heading level0 col0\" >dtype</th>\n",
              "      <th class=\"col_heading level0 col1\" >count</th>\n",
              "      <th class=\"col_heading level0 col2\" >unique</th>\n",
              "      <th class=\"col_heading level0 col3\" >unique-percent</th>\n",
              "      <th class=\"col_heading level0 col4\" >null-count</th>\n",
              "      <th class=\"col_heading level0 col5\" >null-percent</th>\n",
              "    </tr>\n",
              "  </thead>\n",
              "  <tbody>\n",
              "    <tr>\n",
              "      <th id=\"T_f0a20_level0_row0\" class=\"row_heading level0 row0\" >model_sort_order</th>\n",
              "      <td id=\"T_f0a20_row0_col0\" class=\"data row0 col0\" >int64</td>\n",
              "      <td id=\"T_f0a20_row0_col1\" class=\"data row0 col1\" >197</td>\n",
              "      <td id=\"T_f0a20_row0_col2\" class=\"data row0 col2\" >197</td>\n",
              "      <td id=\"T_f0a20_row0_col3\" class=\"data row0 col3\" >100.00%</td>\n",
              "      <td id=\"T_f0a20_row0_col4\" class=\"data row0 col4\" >0</td>\n",
              "      <td id=\"T_f0a20_row0_col5\" class=\"data row0 col5\" >0.00%</td>\n",
              "    </tr>\n",
              "    <tr>\n",
              "      <th id=\"T_f0a20_level0_row1\" class=\"row_heading level0 row1\" >subreddit_id</th>\n",
              "      <td id=\"T_f0a20_row1_col0\" class=\"data row1 col0\" >object</td>\n",
              "      <td id=\"T_f0a20_row1_col1\" class=\"data row1 col1\" >197</td>\n",
              "      <td id=\"T_f0a20_row1_col2\" class=\"data row1 col2\" >197</td>\n",
              "      <td id=\"T_f0a20_row1_col3\" class=\"data row1 col3\" >100.00%</td>\n",
              "      <td id=\"T_f0a20_row1_col4\" class=\"data row1 col4\" >0</td>\n",
              "      <td id=\"T_f0a20_row1_col5\" class=\"data row1 col5\" >0.00%</td>\n",
              "    </tr>\n",
              "    <tr>\n",
              "      <th id=\"T_f0a20_level0_row2\" class=\"row_heading level0 row2\" >subreddit_name</th>\n",
              "      <td id=\"T_f0a20_row2_col0\" class=\"data row2 col0\" >object</td>\n",
              "      <td id=\"T_f0a20_row2_col1\" class=\"data row2 col1\" >197</td>\n",
              "      <td id=\"T_f0a20_row2_col2\" class=\"data row2 col2\" >197</td>\n",
              "      <td id=\"T_f0a20_row2_col3\" class=\"data row2 col3\" >100.00%</td>\n",
              "      <td id=\"T_f0a20_row2_col4\" class=\"data row2 col4\" >0</td>\n",
              "      <td id=\"T_f0a20_row2_col5\" class=\"data row2 col5\" >0.00%</td>\n",
              "    </tr>\n",
              "    <tr>\n",
              "      <th id=\"T_f0a20_level0_row3\" class=\"row_heading level0 row3\" >primary_topic</th>\n",
              "      <td id=\"T_f0a20_row3_col0\" class=\"data row3 col0\" >object</td>\n",
              "      <td id=\"T_f0a20_row3_col1\" class=\"data row3 col1\" >174</td>\n",
              "      <td id=\"T_f0a20_row3_col2\" class=\"data row3 col2\" >39</td>\n",
              "      <td id=\"T_f0a20_row3_col3\" class=\"data row3 col3\" >22.41%</td>\n",
              "      <td id=\"T_f0a20_row3_col4\" class=\"data row3 col4\" >23</td>\n",
              "      <td id=\"T_f0a20_row3_col5\" class=\"data row3 col5\" >11.68%</td>\n",
              "    </tr>\n",
              "    <tr>\n",
              "      <th id=\"T_f0a20_level0_row4\" class=\"row_heading level0 row4\" >rating_short</th>\n",
              "      <td id=\"T_f0a20_row4_col0\" class=\"data row4 col0\" >object</td>\n",
              "      <td id=\"T_f0a20_row4_col1\" class=\"data row4 col1\" >191</td>\n",
              "      <td id=\"T_f0a20_row4_col2\" class=\"data row4 col2\" >2</td>\n",
              "      <td id=\"T_f0a20_row4_col3\" class=\"data row4 col3\" >1.05%</td>\n",
              "      <td id=\"T_f0a20_row4_col4\" class=\"data row4 col4\" >6</td>\n",
              "      <td id=\"T_f0a20_row4_col5\" class=\"data row4 col5\" >3.05%</td>\n",
              "    </tr>\n",
              "    <tr>\n",
              "      <th id=\"T_f0a20_level0_row5\" class=\"row_heading level0 row5\" >over_18</th>\n",
              "      <td id=\"T_f0a20_row5_col0\" class=\"data row5 col0\" >object</td>\n",
              "      <td id=\"T_f0a20_row5_col1\" class=\"data row5 col1\" >42</td>\n",
              "      <td id=\"T_f0a20_row5_col2\" class=\"data row5 col2\" >1</td>\n",
              "      <td id=\"T_f0a20_row5_col3\" class=\"data row5 col3\" >2.38%</td>\n",
              "      <td id=\"T_f0a20_row5_col4\" class=\"data row5 col4\" >155</td>\n",
              "      <td id=\"T_f0a20_row5_col5\" class=\"data row5 col5\" >78.68%</td>\n",
              "    </tr>\n",
              "    <tr>\n",
              "      <th id=\"T_f0a20_level0_row6\" class=\"row_heading level0 row6\" >rating_name</th>\n",
              "      <td id=\"T_f0a20_row6_col0\" class=\"data row6 col0\" >object</td>\n",
              "      <td id=\"T_f0a20_row6_col1\" class=\"data row6 col1\" >191</td>\n",
              "      <td id=\"T_f0a20_row6_col2\" class=\"data row6 col2\" >2</td>\n",
              "      <td id=\"T_f0a20_row6_col3\" class=\"data row6 col3\" >1.05%</td>\n",
              "      <td id=\"T_f0a20_row6_col4\" class=\"data row6 col4\" >6</td>\n",
              "      <td id=\"T_f0a20_row6_col5\" class=\"data row6 col5\" >3.05%</td>\n",
              "    </tr>\n",
              "    <tr>\n",
              "      <th id=\"T_f0a20_level0_row7\" class=\"row_heading level0 row7\" >posts_for_modeling_count</th>\n",
              "      <td id=\"T_f0a20_row7_col0\" class=\"data row7 col0\" >int64</td>\n",
              "      <td id=\"T_f0a20_row7_col1\" class=\"data row7 col1\" >197</td>\n",
              "      <td id=\"T_f0a20_row7_col2\" class=\"data row7 col2\" >140</td>\n",
              "      <td id=\"T_f0a20_row7_col3\" class=\"data row7 col3\" >71.07%</td>\n",
              "      <td id=\"T_f0a20_row7_col4\" class=\"data row7 col4\" >0</td>\n",
              "      <td id=\"T_f0a20_row7_col5\" class=\"data row7 col5\" >0.00%</td>\n",
              "    </tr>\n",
              "    <tr>\n",
              "      <th id=\"T_f0a20_level0_row8\" class=\"row_heading level0 row8\" >k_0013_label</th>\n",
              "      <td id=\"T_f0a20_row8_col0\" class=\"data row8 col0\" >int64</td>\n",
              "      <td id=\"T_f0a20_row8_col1\" class=\"data row8 col1\" >197</td>\n",
              "      <td id=\"T_f0a20_row8_col2\" class=\"data row8 col2\" >11</td>\n",
              "      <td id=\"T_f0a20_row8_col3\" class=\"data row8 col3\" >5.58%</td>\n",
              "      <td id=\"T_f0a20_row8_col4\" class=\"data row8 col4\" >0</td>\n",
              "      <td id=\"T_f0a20_row8_col5\" class=\"data row8 col5\" >0.00%</td>\n",
              "    </tr>\n",
              "    <tr>\n",
              "      <th id=\"T_f0a20_level0_row9\" class=\"row_heading level0 row9\" >k_0023_label</th>\n",
              "      <td id=\"T_f0a20_row9_col0\" class=\"data row9 col0\" >int64</td>\n",
              "      <td id=\"T_f0a20_row9_col1\" class=\"data row9 col1\" >197</td>\n",
              "      <td id=\"T_f0a20_row9_col2\" class=\"data row9 col2\" >19</td>\n",
              "      <td id=\"T_f0a20_row9_col3\" class=\"data row9 col3\" >9.64%</td>\n",
              "      <td id=\"T_f0a20_row9_col4\" class=\"data row9 col4\" >0</td>\n",
              "      <td id=\"T_f0a20_row9_col5\" class=\"data row9 col5\" >0.00%</td>\n",
              "    </tr>\n",
              "    <tr>\n",
              "      <th id=\"T_f0a20_level0_row10\" class=\"row_heading level0 row10\" >k_0041_label</th>\n",
              "      <td id=\"T_f0a20_row10_col0\" class=\"data row10 col0\" >int64</td>\n",
              "      <td id=\"T_f0a20_row10_col1\" class=\"data row10 col1\" >197</td>\n",
              "      <td id=\"T_f0a20_row10_col2\" class=\"data row10 col2\" >29</td>\n",
              "      <td id=\"T_f0a20_row10_col3\" class=\"data row10 col3\" >14.72%</td>\n",
              "      <td id=\"T_f0a20_row10_col4\" class=\"data row10 col4\" >0</td>\n",
              "      <td id=\"T_f0a20_row10_col5\" class=\"data row10 col5\" >0.00%</td>\n",
              "    </tr>\n",
              "    <tr>\n",
              "      <th id=\"T_f0a20_level0_row11\" class=\"row_heading level0 row11\" >k_0059_label</th>\n",
              "      <td id=\"T_f0a20_row11_col0\" class=\"data row11 col0\" >int64</td>\n",
              "      <td id=\"T_f0a20_row11_col1\" class=\"data row11 col1\" >197</td>\n",
              "      <td id=\"T_f0a20_row11_col2\" class=\"data row11 col2\" >38</td>\n",
              "      <td id=\"T_f0a20_row11_col3\" class=\"data row11 col3\" >19.29%</td>\n",
              "      <td id=\"T_f0a20_row11_col4\" class=\"data row11 col4\" >0</td>\n",
              "      <td id=\"T_f0a20_row11_col5\" class=\"data row11 col5\" >0.00%</td>\n",
              "    </tr>\n",
              "    <tr>\n",
              "      <th id=\"T_f0a20_level0_row12\" class=\"row_heading level0 row12\" >k_0063_label</th>\n",
              "      <td id=\"T_f0a20_row12_col0\" class=\"data row12 col0\" >int64</td>\n",
              "      <td id=\"T_f0a20_row12_col1\" class=\"data row12 col1\" >197</td>\n",
              "      <td id=\"T_f0a20_row12_col2\" class=\"data row12 col2\" >39</td>\n",
              "      <td id=\"T_f0a20_row12_col3\" class=\"data row12 col3\" >19.80%</td>\n",
              "      <td id=\"T_f0a20_row12_col4\" class=\"data row12 col4\" >0</td>\n",
              "      <td id=\"T_f0a20_row12_col5\" class=\"data row12 col5\" >0.00%</td>\n",
              "    </tr>\n",
              "    <tr>\n",
              "      <th id=\"T_f0a20_level0_row13\" class=\"row_heading level0 row13\" >k_0079_label</th>\n",
              "      <td id=\"T_f0a20_row13_col0\" class=\"data row13 col0\" >int64</td>\n",
              "      <td id=\"T_f0a20_row13_col1\" class=\"data row13 col1\" >197</td>\n",
              "      <td id=\"T_f0a20_row13_col2\" class=\"data row13 col2\" >46</td>\n",
              "      <td id=\"T_f0a20_row13_col3\" class=\"data row13 col3\" >23.35%</td>\n",
              "      <td id=\"T_f0a20_row13_col4\" class=\"data row13 col4\" >0</td>\n",
              "      <td id=\"T_f0a20_row13_col5\" class=\"data row13 col5\" >0.00%</td>\n",
              "    </tr>\n",
              "    <tr>\n",
              "      <th id=\"T_f0a20_level0_row14\" class=\"row_heading level0 row14\" >k_0085_label</th>\n",
              "      <td id=\"T_f0a20_row14_col0\" class=\"data row14 col0\" >int64</td>\n",
              "      <td id=\"T_f0a20_row14_col1\" class=\"data row14 col1\" >197</td>\n",
              "      <td id=\"T_f0a20_row14_col2\" class=\"data row14 col2\" >47</td>\n",
              "      <td id=\"T_f0a20_row14_col3\" class=\"data row14 col3\" >23.86%</td>\n",
              "      <td id=\"T_f0a20_row14_col4\" class=\"data row14 col4\" >0</td>\n",
              "      <td id=\"T_f0a20_row14_col5\" class=\"data row14 col5\" >0.00%</td>\n",
              "    </tr>\n",
              "  </tbody>\n",
              "</table>\n"
            ]
          },
          "metadata": {},
          "execution_count": 15
        }
      ]
    },
    {
      "cell_type": "markdown",
      "source": [
        "## Run loop to find \"optimal\" min_num of subreddits for dynamic clusters\n",
        "\n",
        "\n",
        "We want to balance two things:\n",
        "- prevent orphan subreddits\n",
        "- prevent clusters that are too large to be meaningful\n",
        "\n",
        "In order to do this at a country level, we'll be better off starting with smallest cluster size and roll up until we have at least N subreddits in one cluster.\n",
        "\n",
        "Find optimal `min_subreddits_in_cluster` based on:\n",
        "- `orphan count`, \n",
        "- `number of clusters`,\n",
        "- & other info\n",
        "\n",
        "number might be different for each country and even within a country it might differ by when we filter NSFW subs."
      ],
      "metadata": {
        "id": "UeV7utIJTgPm"
      }
    },
    {
      "cell_type": "code",
      "source": [
        "col_new_cluster_val = 'cluster_label'\n",
        "col_new_cluster_name = 'cluster_label_k'\n",
        "col_new_cluster_prim_topic = 'cluster_majority_primary_topic'\n",
        "col_new_cluster_topic_mix = 'cluster_topic_mix'"
      ],
      "metadata": {
        "id": "GvTMTmGyyum1"
      },
      "execution_count": 16,
      "outputs": []
    },
    {
      "cell_type": "markdown",
      "source": [
        "### Loop"
      ],
      "metadata": {
        "id": "Zji-HUH0M1Qa"
      }
    },
    {
      "cell_type": "code",
      "source": [
        "%%time\n",
        "\n",
        "df_optimal_min_check, n_min_subs_in_cluster_optimal = get_table_for_optimal_dynamic_cluster_params(\n",
        "        df_labels_target=df_labels_target,\n",
        "        col_new_cluster_val=col_new_cluster_val,\n",
        "        col_new_cluster_name=col_new_cluster_name,\n",
        "        col_new_cluster_prim_topic=col_new_cluster_prim_topic,\n",
        "        col_new_cluster_topic_mix=col_new_cluster_topic_mix,\n",
        "        min_subs_in_cluster_list=np.arange(3, 11),\n",
        "        verbose=False,\n",
        "        return_optimal_min_subs_in_cluster=True,\n",
        ")"
      ],
      "metadata": {
        "id": "6qx3HSwCTSwY",
        "colab": {
          "base_uri": "https://localhost:8080/"
        },
        "outputId": "05d2055d-4ee2-4132-a7da-0e1748e6a3fd"
      },
      "execution_count": 17,
      "outputs": [
        {
          "output_type": "stream",
          "name": "stderr",
          "text": [
            "  0%|          | 0/8 [00:00<?, ?it/s]\n",
            "  0%|          | 0/16 [00:00<?, ?it/s]\u001b[A\n",
            " 25%|██▌       | 4/16 [00:00<00:00, 39.10it/s]\u001b[A\n",
            " 56%|█████▋    | 9/16 [00:00<00:00, 38.66it/s]\u001b[A\n",
            "100%|██████████| 16/16 [00:00<00:00, 40.54it/s]\n",
            "\n",
            "  0%|          | 0/21 [00:00<?, ?it/s]\u001b[A\n",
            "100%|██████████| 21/21 [00:00<00:00, 171.25it/s]\n",
            " 12%|█▎        | 1/8 [00:00<00:05,  1.27it/s]\n",
            "  0%|          | 0/16 [00:00<?, ?it/s]\u001b[A\n",
            " 25%|██▌       | 4/16 [00:00<00:00, 39.39it/s]\u001b[A\n",
            " 50%|█████     | 8/16 [00:00<00:00, 35.47it/s]\u001b[A\n",
            "100%|██████████| 16/16 [00:00<00:00, 37.83it/s]\n",
            "\n",
            "  0%|          | 0/21 [00:00<?, ?it/s]\u001b[A\n",
            "100%|██████████| 21/21 [00:00<00:00, 145.95it/s]\n",
            " 25%|██▌       | 2/8 [00:01<00:04,  1.21it/s]\n",
            "  0%|          | 0/16 [00:00<?, ?it/s]\u001b[A\n",
            " 31%|███▏      | 5/16 [00:00<00:00, 44.18it/s]\u001b[A\n",
            " 62%|██████▎   | 10/16 [00:00<00:00, 42.02it/s]\u001b[A\n",
            "100%|██████████| 16/16 [00:00<00:00, 37.51it/s]\n",
            "\n",
            "  0%|          | 0/21 [00:00<?, ?it/s]\u001b[A\n",
            "100%|██████████| 21/21 [00:00<00:00, 150.61it/s]\n",
            " 38%|███▊      | 3/8 [00:02<00:04,  1.21it/s]\n",
            "  0%|          | 0/16 [00:00<?, ?it/s]\u001b[A\n",
            " 31%|███▏      | 5/16 [00:00<00:00, 41.56it/s]\u001b[A\n",
            " 62%|██████▎   | 10/16 [00:00<00:00, 40.91it/s]\u001b[A\n",
            "100%|██████████| 16/16 [00:00<00:00, 40.20it/s]\n",
            "\n",
            "  0%|          | 0/21 [00:00<?, ?it/s]\u001b[A\n",
            "100%|██████████| 21/21 [00:00<00:00, 145.48it/s]\n",
            " 50%|█████     | 4/8 [00:03<00:03,  1.22it/s]\n",
            "  0%|          | 0/16 [00:00<?, ?it/s]\u001b[A\n",
            " 25%|██▌       | 4/16 [00:00<00:00, 39.75it/s]\u001b[A\n",
            " 50%|█████     | 8/16 [00:00<00:00, 39.48it/s]\u001b[A\n",
            " 75%|███████▌  | 12/16 [00:00<00:00, 38.52it/s]\u001b[A\n",
            "100%|██████████| 16/16 [00:00<00:00, 36.34it/s]\n",
            "\n",
            "  0%|          | 0/21 [00:00<?, ?it/s]\u001b[A\n",
            "100%|██████████| 21/21 [00:00<00:00, 136.29it/s]\n",
            " 62%|██████▎   | 5/8 [00:04<00:02,  1.19it/s]\n",
            "  0%|          | 0/16 [00:00<?, ?it/s]\u001b[A\n",
            " 25%|██▌       | 4/16 [00:00<00:00, 39.52it/s]\u001b[A\n",
            " 56%|█████▋    | 9/16 [00:00<00:00, 41.74it/s]\u001b[A\n",
            "100%|██████████| 16/16 [00:00<00:00, 40.67it/s]\n",
            "\n",
            "  0%|          | 0/21 [00:00<?, ?it/s]\u001b[A\n",
            "100%|██████████| 21/21 [00:00<00:00, 158.86it/s]\n",
            " 75%|███████▌  | 6/8 [00:04<00:01,  1.22it/s]\n",
            "  0%|          | 0/16 [00:00<?, ?it/s]\u001b[A\n",
            " 31%|███▏      | 5/16 [00:00<00:00, 44.67it/s]\u001b[A\n",
            " 62%|██████▎   | 10/16 [00:00<00:00, 39.92it/s]\u001b[A\n",
            "100%|██████████| 16/16 [00:00<00:00, 36.78it/s]\n",
            "\n",
            "  0%|          | 0/21 [00:00<?, ?it/s]\u001b[A\n",
            "100%|██████████| 21/21 [00:00<00:00, 135.19it/s]\n",
            " 88%|████████▊ | 7/8 [00:05<00:00,  1.21it/s]\n",
            "  0%|          | 0/16 [00:00<?, ?it/s]\u001b[A\n",
            " 31%|███▏      | 5/16 [00:00<00:00, 45.36it/s]\u001b[A\n",
            " 62%|██████▎   | 10/16 [00:00<00:00, 41.79it/s]\u001b[A\n",
            "100%|██████████| 16/16 [00:00<00:00, 40.17it/s]\n",
            "\n",
            "  0%|          | 0/21 [00:00<?, ?it/s]\u001b[A\n",
            "100%|██████████| 21/21 [00:00<00:00, 181.80it/s]\n",
            "100%|██████████| 8/8 [00:06<00:00,  1.22it/s]\n"
          ]
        },
        {
          "output_type": "stream",
          "name": "stdout",
          "text": [
            "CPU times: user 6.35 s, sys: 174 ms, total: 6.53 s\n",
            "Wall time: 6.63 s\n"
          ]
        }
      ]
    },
    {
      "cell_type": "code",
      "source": [
        "assert (\n",
        "    n_min_subs_in_cluster_optimal == df_optimal_min_check.loc[\n",
        "        df_optimal_min_check['num_orphan_subreddits'] == df_optimal_min_check['num_orphan_subreddits'].min(),\n",
        "        'min_subreddits_in_cluster'\n",
        "    ].values[0]\n",
        ")"
      ],
      "metadata": {
        "id": "THR5ZdhDujgG"
      },
      "execution_count": 18,
      "outputs": []
    },
    {
      "cell_type": "code",
      "source": [
        "df_optimal_min_check"
      ],
      "metadata": {
        "colab": {
          "base_uri": "https://localhost:8080/",
          "height": 0
        },
        "id": "nDWKcPbwaIpv",
        "outputId": "7072b0ac-a69b-4c9a-8d36-a62b931d3a58"
      },
      "execution_count": 19,
      "outputs": [
        {
          "output_type": "execute_result",
          "data": {
            "text/plain": [
              "   subs_to_cluster_count  min_subreddits_in_cluster  cluster_count  num_orphan_subreddits  num_subreddits_per_cluster_min  num_subreddits_per_cluster_mean  num_subreddits_per_cluster_median  num_subreddits_per_cluster_max  num_clusters_with_mature_primary_topic cluster_ids_with_orphans\n",
              "0                    197                          3             48                      4                               1                         4.104167                                4.0                              11                                       7   0004, 0006, 0012, 0013\n",
              "1                    197                          4             37                      3                               1                         5.324324                                5.0                              11                                       6         0001, 0004, 0006\n",
              "2                    197                          5             31                      1                               1                         6.354839                                6.0                              12                                       5                     0004\n",
              "3                    197                          6             28                      2                               1                         7.035714                                7.0                              12                                       3               0004, 0006\n",
              "4                    197                          7             23                      2                               1                         8.565217                                9.0                              12                                       3               0004, 0013\n",
              "5                    197                          8             21                      1                               1                         9.380952                               10.0                              17                                       3                     0004\n",
              "6                    197                          9             19                      2                               1                        10.368421                               11.0                              21                                       3               0004, 0006\n",
              "7                    197                         10             19                      2                               1                        10.368421                               11.0                              21                                       3               0004, 0006"
            ],
            "text/html": [
              "\n",
              "  <div id=\"df-25ec1ec5-167a-4fc1-871a-7b74c66f1a30\">\n",
              "    <div class=\"colab-df-container\">\n",
              "      <div>\n",
              "<style scoped>\n",
              "    .dataframe tbody tr th:only-of-type {\n",
              "        vertical-align: middle;\n",
              "    }\n",
              "\n",
              "    .dataframe tbody tr th {\n",
              "        vertical-align: top;\n",
              "    }\n",
              "\n",
              "    .dataframe thead th {\n",
              "        text-align: right;\n",
              "    }\n",
              "</style>\n",
              "<table border=\"1\" class=\"dataframe\">\n",
              "  <thead>\n",
              "    <tr style=\"text-align: right;\">\n",
              "      <th></th>\n",
              "      <th>subs_to_cluster_count</th>\n",
              "      <th>min_subreddits_in_cluster</th>\n",
              "      <th>cluster_count</th>\n",
              "      <th>num_orphan_subreddits</th>\n",
              "      <th>num_subreddits_per_cluster_min</th>\n",
              "      <th>num_subreddits_per_cluster_mean</th>\n",
              "      <th>num_subreddits_per_cluster_median</th>\n",
              "      <th>num_subreddits_per_cluster_max</th>\n",
              "      <th>num_clusters_with_mature_primary_topic</th>\n",
              "      <th>cluster_ids_with_orphans</th>\n",
              "    </tr>\n",
              "  </thead>\n",
              "  <tbody>\n",
              "    <tr>\n",
              "      <th>0</th>\n",
              "      <td>197</td>\n",
              "      <td>3</td>\n",
              "      <td>48</td>\n",
              "      <td>4</td>\n",
              "      <td>1</td>\n",
              "      <td>4.104167</td>\n",
              "      <td>4.0</td>\n",
              "      <td>11</td>\n",
              "      <td>7</td>\n",
              "      <td>0004, 0006, 0012, 0013</td>\n",
              "    </tr>\n",
              "    <tr>\n",
              "      <th>1</th>\n",
              "      <td>197</td>\n",
              "      <td>4</td>\n",
              "      <td>37</td>\n",
              "      <td>3</td>\n",
              "      <td>1</td>\n",
              "      <td>5.324324</td>\n",
              "      <td>5.0</td>\n",
              "      <td>11</td>\n",
              "      <td>6</td>\n",
              "      <td>0001, 0004, 0006</td>\n",
              "    </tr>\n",
              "    <tr>\n",
              "      <th>2</th>\n",
              "      <td>197</td>\n",
              "      <td>5</td>\n",
              "      <td>31</td>\n",
              "      <td>1</td>\n",
              "      <td>1</td>\n",
              "      <td>6.354839</td>\n",
              "      <td>6.0</td>\n",
              "      <td>12</td>\n",
              "      <td>5</td>\n",
              "      <td>0004</td>\n",
              "    </tr>\n",
              "    <tr>\n",
              "      <th>3</th>\n",
              "      <td>197</td>\n",
              "      <td>6</td>\n",
              "      <td>28</td>\n",
              "      <td>2</td>\n",
              "      <td>1</td>\n",
              "      <td>7.035714</td>\n",
              "      <td>7.0</td>\n",
              "      <td>12</td>\n",
              "      <td>3</td>\n",
              "      <td>0004, 0006</td>\n",
              "    </tr>\n",
              "    <tr>\n",
              "      <th>4</th>\n",
              "      <td>197</td>\n",
              "      <td>7</td>\n",
              "      <td>23</td>\n",
              "      <td>2</td>\n",
              "      <td>1</td>\n",
              "      <td>8.565217</td>\n",
              "      <td>9.0</td>\n",
              "      <td>12</td>\n",
              "      <td>3</td>\n",
              "      <td>0004, 0013</td>\n",
              "    </tr>\n",
              "    <tr>\n",
              "      <th>5</th>\n",
              "      <td>197</td>\n",
              "      <td>8</td>\n",
              "      <td>21</td>\n",
              "      <td>1</td>\n",
              "      <td>1</td>\n",
              "      <td>9.380952</td>\n",
              "      <td>10.0</td>\n",
              "      <td>17</td>\n",
              "      <td>3</td>\n",
              "      <td>0004</td>\n",
              "    </tr>\n",
              "    <tr>\n",
              "      <th>6</th>\n",
              "      <td>197</td>\n",
              "      <td>9</td>\n",
              "      <td>19</td>\n",
              "      <td>2</td>\n",
              "      <td>1</td>\n",
              "      <td>10.368421</td>\n",
              "      <td>11.0</td>\n",
              "      <td>21</td>\n",
              "      <td>3</td>\n",
              "      <td>0004, 0006</td>\n",
              "    </tr>\n",
              "    <tr>\n",
              "      <th>7</th>\n",
              "      <td>197</td>\n",
              "      <td>10</td>\n",
              "      <td>19</td>\n",
              "      <td>2</td>\n",
              "      <td>1</td>\n",
              "      <td>10.368421</td>\n",
              "      <td>11.0</td>\n",
              "      <td>21</td>\n",
              "      <td>3</td>\n",
              "      <td>0004, 0006</td>\n",
              "    </tr>\n",
              "  </tbody>\n",
              "</table>\n",
              "</div>\n",
              "      <button class=\"colab-df-convert\" onclick=\"convertToInteractive('df-25ec1ec5-167a-4fc1-871a-7b74c66f1a30')\"\n",
              "              title=\"Convert this dataframe to an interactive table.\"\n",
              "              style=\"display:none;\">\n",
              "        \n",
              "  <svg xmlns=\"http://www.w3.org/2000/svg\" height=\"24px\"viewBox=\"0 0 24 24\"\n",
              "       width=\"24px\">\n",
              "    <path d=\"M0 0h24v24H0V0z\" fill=\"none\"/>\n",
              "    <path d=\"M18.56 5.44l.94 2.06.94-2.06 2.06-.94-2.06-.94-.94-2.06-.94 2.06-2.06.94zm-11 1L8.5 8.5l.94-2.06 2.06-.94-2.06-.94L8.5 2.5l-.94 2.06-2.06.94zm10 10l.94 2.06.94-2.06 2.06-.94-2.06-.94-.94-2.06-.94 2.06-2.06.94z\"/><path d=\"M17.41 7.96l-1.37-1.37c-.4-.4-.92-.59-1.43-.59-.52 0-1.04.2-1.43.59L10.3 9.45l-7.72 7.72c-.78.78-.78 2.05 0 2.83L4 21.41c.39.39.9.59 1.41.59.51 0 1.02-.2 1.41-.59l7.78-7.78 2.81-2.81c.8-.78.8-2.07 0-2.86zM5.41 20L4 18.59l7.72-7.72 1.47 1.35L5.41 20z\"/>\n",
              "  </svg>\n",
              "      </button>\n",
              "      \n",
              "  <style>\n",
              "    .colab-df-container {\n",
              "      display:flex;\n",
              "      flex-wrap:wrap;\n",
              "      gap: 12px;\n",
              "    }\n",
              "\n",
              "    .colab-df-convert {\n",
              "      background-color: #E8F0FE;\n",
              "      border: none;\n",
              "      border-radius: 50%;\n",
              "      cursor: pointer;\n",
              "      display: none;\n",
              "      fill: #1967D2;\n",
              "      height: 32px;\n",
              "      padding: 0 0 0 0;\n",
              "      width: 32px;\n",
              "    }\n",
              "\n",
              "    .colab-df-convert:hover {\n",
              "      background-color: #E2EBFA;\n",
              "      box-shadow: 0px 1px 2px rgba(60, 64, 67, 0.3), 0px 1px 3px 1px rgba(60, 64, 67, 0.15);\n",
              "      fill: #174EA6;\n",
              "    }\n",
              "\n",
              "    [theme=dark] .colab-df-convert {\n",
              "      background-color: #3B4455;\n",
              "      fill: #D2E3FC;\n",
              "    }\n",
              "\n",
              "    [theme=dark] .colab-df-convert:hover {\n",
              "      background-color: #434B5C;\n",
              "      box-shadow: 0px 1px 3px 1px rgba(0, 0, 0, 0.15);\n",
              "      filter: drop-shadow(0px 1px 2px rgba(0, 0, 0, 0.3));\n",
              "      fill: #FFFFFF;\n",
              "    }\n",
              "  </style>\n",
              "\n",
              "      <script>\n",
              "        const buttonEl =\n",
              "          document.querySelector('#df-25ec1ec5-167a-4fc1-871a-7b74c66f1a30 button.colab-df-convert');\n",
              "        buttonEl.style.display =\n",
              "          google.colab.kernel.accessAllowed ? 'block' : 'none';\n",
              "\n",
              "        async function convertToInteractive(key) {\n",
              "          const element = document.querySelector('#df-25ec1ec5-167a-4fc1-871a-7b74c66f1a30');\n",
              "          const dataTable =\n",
              "            await google.colab.kernel.invokeFunction('convertToInteractive',\n",
              "                                                     [key], {});\n",
              "          if (!dataTable) return;\n",
              "\n",
              "          const docLinkHtml = 'Like what you see? Visit the ' +\n",
              "            '<a target=\"_blank\" href=https://colab.research.google.com/notebooks/data_table.ipynb>data table notebook</a>'\n",
              "            + ' to learn more about interactive tables.';\n",
              "          element.innerHTML = '';\n",
              "          dataTable['output_type'] = 'display_data';\n",
              "          await google.colab.output.renderOutput(dataTable, element);\n",
              "          const docLink = document.createElement('div');\n",
              "          docLink.innerHTML = docLinkHtml;\n",
              "          element.appendChild(docLink);\n",
              "        }\n",
              "      </script>\n",
              "    </div>\n",
              "  </div>\n",
              "  "
            ]
          },
          "metadata": {},
          "execution_count": 19
        }
      ]
    },
    {
      "cell_type": "markdown",
      "source": [
        "### Display loop results"
      ],
      "metadata": {
        "id": "Bh_CMX92M3yJ"
      }
    },
    {
      "cell_type": "code",
      "source": [
        "def highlight_below_threshold(val, threshold=1):\n",
        "    if val <= threshold:\n",
        "        return \"color:purple; font-weight: bold; background-color:yellow;\"\n",
        "    else:\n",
        "        return ''\n",
        "print(n_min_subs_in_cluster_optimal)\n",
        "\n",
        "col_num_orph_subs = 'num_orphan_subreddits'\n",
        "# col_num_subs_mean = 'num_subreddits_per_cluster_mean'\n",
        "col_num_subs_median = 'num_subreddits_per_cluster_median'\n",
        "\n",
        "style_df_numeric(\n",
        "    df_optimal_min_check,\n",
        "    rename_cols_for_display=True,\n",
        "    l_bar_simple=[col_num_orph_subs,\n",
        "                  col_num_subs_median,]\n",
        ").applymap(highlight_below_threshold, subset=[col_num_orph_subs.replace('_', ' ')])\n"
      ],
      "metadata": {
        "id": "EU1NLVOyhuMj",
        "colab": {
          "base_uri": "https://localhost:8080/",
          "height": 612
        },
        "outputId": "1b2fcd83-8b68-4d66-8e39-1bb11936bd13"
      },
      "execution_count": 20,
      "outputs": [
        {
          "output_type": "stream",
          "name": "stdout",
          "text": [
            "5\n"
          ]
        },
        {
          "output_type": "execute_result",
          "data": {
            "text/plain": [
              "<pandas.io.formats.style.Styler at 0x7fc14a87bc50>"
            ],
            "text/html": [
              "<style type=\"text/css\">\n",
              "#T_e9769_row0_col3, #T_e9769_row6_col6, #T_e9769_row7_col6 {\n",
              "  width: 10em;\n",
              "  height: 80%;\n",
              "  background: linear-gradient(90deg,#95cff5 100.0%, transparent 100.0%);\n",
              "}\n",
              "#T_e9769_row0_col6 {\n",
              "  width: 10em;\n",
              "  height: 80%;\n",
              "  background: linear-gradient(90deg,#95cff5 36.4%, transparent 36.4%);\n",
              "}\n",
              "#T_e9769_row1_col3 {\n",
              "  width: 10em;\n",
              "  height: 80%;\n",
              "  background: linear-gradient(90deg,#95cff5 75.0%, transparent 75.0%);\n",
              "}\n",
              "#T_e9769_row1_col6 {\n",
              "  width: 10em;\n",
              "  height: 80%;\n",
              "  background: linear-gradient(90deg,#95cff5 45.5%, transparent 45.5%);\n",
              "}\n",
              "#T_e9769_row2_col3, #T_e9769_row5_col3 {\n",
              "  width: 10em;\n",
              "  height: 80%;\n",
              "  background: linear-gradient(90deg,#95cff5 25.0%, transparent 25.0%);\n",
              "  color: purple;\n",
              "  font-weight: bold;\n",
              "  background-color: yellow;\n",
              "}\n",
              "#T_e9769_row2_col6 {\n",
              "  width: 10em;\n",
              "  height: 80%;\n",
              "  background: linear-gradient(90deg,#95cff5 54.5%, transparent 54.5%);\n",
              "}\n",
              "#T_e9769_row3_col3, #T_e9769_row4_col3, #T_e9769_row6_col3, #T_e9769_row7_col3 {\n",
              "  width: 10em;\n",
              "  height: 80%;\n",
              "  background: linear-gradient(90deg,#95cff5 50.0%, transparent 50.0%);\n",
              "}\n",
              "#T_e9769_row3_col6 {\n",
              "  width: 10em;\n",
              "  height: 80%;\n",
              "  background: linear-gradient(90deg,#95cff5 63.6%, transparent 63.6%);\n",
              "}\n",
              "#T_e9769_row4_col6 {\n",
              "  width: 10em;\n",
              "  height: 80%;\n",
              "  background: linear-gradient(90deg,#95cff5 81.8%, transparent 81.8%);\n",
              "}\n",
              "#T_e9769_row5_col6 {\n",
              "  width: 10em;\n",
              "  height: 80%;\n",
              "  background: linear-gradient(90deg,#95cff5 90.9%, transparent 90.9%);\n",
              "}\n",
              "</style>\n",
              "<table id=\"T_e9769_\" class=\"dataframe\">\n",
              "  <thead>\n",
              "    <tr>\n",
              "      <th class=\"blank level0\" >&nbsp;</th>\n",
              "      <th class=\"col_heading level0 col0\" >subs to cluster count</th>\n",
              "      <th class=\"col_heading level0 col1\" >min subreddits in cluster</th>\n",
              "      <th class=\"col_heading level0 col2\" >cluster count</th>\n",
              "      <th class=\"col_heading level0 col3\" >num orphan subreddits</th>\n",
              "      <th class=\"col_heading level0 col4\" >num subreddits per cluster min</th>\n",
              "      <th class=\"col_heading level0 col5\" >num subreddits per cluster mean</th>\n",
              "      <th class=\"col_heading level0 col6\" >num subreddits per cluster median</th>\n",
              "      <th class=\"col_heading level0 col7\" >num subreddits per cluster max</th>\n",
              "      <th class=\"col_heading level0 col8\" >num clusters with mature primary topic</th>\n",
              "      <th class=\"col_heading level0 col9\" >cluster ids with orphans</th>\n",
              "    </tr>\n",
              "    <tr>\n",
              "      <th class=\"index_name level0\" ></th>\n",
              "      <th class=\"blank col0\" >&nbsp;</th>\n",
              "      <th class=\"blank col1\" >&nbsp;</th>\n",
              "      <th class=\"blank col2\" >&nbsp;</th>\n",
              "      <th class=\"blank col3\" >&nbsp;</th>\n",
              "      <th class=\"blank col4\" >&nbsp;</th>\n",
              "      <th class=\"blank col5\" >&nbsp;</th>\n",
              "      <th class=\"blank col6\" >&nbsp;</th>\n",
              "      <th class=\"blank col7\" >&nbsp;</th>\n",
              "      <th class=\"blank col8\" >&nbsp;</th>\n",
              "      <th class=\"blank col9\" >&nbsp;</th>\n",
              "    </tr>\n",
              "  </thead>\n",
              "  <tbody>\n",
              "    <tr>\n",
              "      <th id=\"T_e9769_level0_row0\" class=\"row_heading level0 row0\" >0</th>\n",
              "      <td id=\"T_e9769_row0_col0\" class=\"data row0 col0\" >197</td>\n",
              "      <td id=\"T_e9769_row0_col1\" class=\"data row0 col1\" >3</td>\n",
              "      <td id=\"T_e9769_row0_col2\" class=\"data row0 col2\" >48</td>\n",
              "      <td id=\"T_e9769_row0_col3\" class=\"data row0 col3\" >4</td>\n",
              "      <td id=\"T_e9769_row0_col4\" class=\"data row0 col4\" >1</td>\n",
              "      <td id=\"T_e9769_row0_col5\" class=\"data row0 col5\" >4.10</td>\n",
              "      <td id=\"T_e9769_row0_col6\" class=\"data row0 col6\" >4.00</td>\n",
              "      <td id=\"T_e9769_row0_col7\" class=\"data row0 col7\" >11</td>\n",
              "      <td id=\"T_e9769_row0_col8\" class=\"data row0 col8\" >7</td>\n",
              "      <td id=\"T_e9769_row0_col9\" class=\"data row0 col9\" >0004, 0006, 0012, 0013</td>\n",
              "    </tr>\n",
              "    <tr>\n",
              "      <th id=\"T_e9769_level0_row1\" class=\"row_heading level0 row1\" >1</th>\n",
              "      <td id=\"T_e9769_row1_col0\" class=\"data row1 col0\" >197</td>\n",
              "      <td id=\"T_e9769_row1_col1\" class=\"data row1 col1\" >4</td>\n",
              "      <td id=\"T_e9769_row1_col2\" class=\"data row1 col2\" >37</td>\n",
              "      <td id=\"T_e9769_row1_col3\" class=\"data row1 col3\" >3</td>\n",
              "      <td id=\"T_e9769_row1_col4\" class=\"data row1 col4\" >1</td>\n",
              "      <td id=\"T_e9769_row1_col5\" class=\"data row1 col5\" >5.32</td>\n",
              "      <td id=\"T_e9769_row1_col6\" class=\"data row1 col6\" >5.00</td>\n",
              "      <td id=\"T_e9769_row1_col7\" class=\"data row1 col7\" >11</td>\n",
              "      <td id=\"T_e9769_row1_col8\" class=\"data row1 col8\" >6</td>\n",
              "      <td id=\"T_e9769_row1_col9\" class=\"data row1 col9\" >0001, 0004, 0006</td>\n",
              "    </tr>\n",
              "    <tr>\n",
              "      <th id=\"T_e9769_level0_row2\" class=\"row_heading level0 row2\" >2</th>\n",
              "      <td id=\"T_e9769_row2_col0\" class=\"data row2 col0\" >197</td>\n",
              "      <td id=\"T_e9769_row2_col1\" class=\"data row2 col1\" >5</td>\n",
              "      <td id=\"T_e9769_row2_col2\" class=\"data row2 col2\" >31</td>\n",
              "      <td id=\"T_e9769_row2_col3\" class=\"data row2 col3\" >1</td>\n",
              "      <td id=\"T_e9769_row2_col4\" class=\"data row2 col4\" >1</td>\n",
              "      <td id=\"T_e9769_row2_col5\" class=\"data row2 col5\" >6.35</td>\n",
              "      <td id=\"T_e9769_row2_col6\" class=\"data row2 col6\" >6.00</td>\n",
              "      <td id=\"T_e9769_row2_col7\" class=\"data row2 col7\" >12</td>\n",
              "      <td id=\"T_e9769_row2_col8\" class=\"data row2 col8\" >5</td>\n",
              "      <td id=\"T_e9769_row2_col9\" class=\"data row2 col9\" >0004</td>\n",
              "    </tr>\n",
              "    <tr>\n",
              "      <th id=\"T_e9769_level0_row3\" class=\"row_heading level0 row3\" >3</th>\n",
              "      <td id=\"T_e9769_row3_col0\" class=\"data row3 col0\" >197</td>\n",
              "      <td id=\"T_e9769_row3_col1\" class=\"data row3 col1\" >6</td>\n",
              "      <td id=\"T_e9769_row3_col2\" class=\"data row3 col2\" >28</td>\n",
              "      <td id=\"T_e9769_row3_col3\" class=\"data row3 col3\" >2</td>\n",
              "      <td id=\"T_e9769_row3_col4\" class=\"data row3 col4\" >1</td>\n",
              "      <td id=\"T_e9769_row3_col5\" class=\"data row3 col5\" >7.04</td>\n",
              "      <td id=\"T_e9769_row3_col6\" class=\"data row3 col6\" >7.00</td>\n",
              "      <td id=\"T_e9769_row3_col7\" class=\"data row3 col7\" >12</td>\n",
              "      <td id=\"T_e9769_row3_col8\" class=\"data row3 col8\" >3</td>\n",
              "      <td id=\"T_e9769_row3_col9\" class=\"data row3 col9\" >0004, 0006</td>\n",
              "    </tr>\n",
              "    <tr>\n",
              "      <th id=\"T_e9769_level0_row4\" class=\"row_heading level0 row4\" >4</th>\n",
              "      <td id=\"T_e9769_row4_col0\" class=\"data row4 col0\" >197</td>\n",
              "      <td id=\"T_e9769_row4_col1\" class=\"data row4 col1\" >7</td>\n",
              "      <td id=\"T_e9769_row4_col2\" class=\"data row4 col2\" >23</td>\n",
              "      <td id=\"T_e9769_row4_col3\" class=\"data row4 col3\" >2</td>\n",
              "      <td id=\"T_e9769_row4_col4\" class=\"data row4 col4\" >1</td>\n",
              "      <td id=\"T_e9769_row4_col5\" class=\"data row4 col5\" >8.57</td>\n",
              "      <td id=\"T_e9769_row4_col6\" class=\"data row4 col6\" >9.00</td>\n",
              "      <td id=\"T_e9769_row4_col7\" class=\"data row4 col7\" >12</td>\n",
              "      <td id=\"T_e9769_row4_col8\" class=\"data row4 col8\" >3</td>\n",
              "      <td id=\"T_e9769_row4_col9\" class=\"data row4 col9\" >0004, 0013</td>\n",
              "    </tr>\n",
              "    <tr>\n",
              "      <th id=\"T_e9769_level0_row5\" class=\"row_heading level0 row5\" >5</th>\n",
              "      <td id=\"T_e9769_row5_col0\" class=\"data row5 col0\" >197</td>\n",
              "      <td id=\"T_e9769_row5_col1\" class=\"data row5 col1\" >8</td>\n",
              "      <td id=\"T_e9769_row5_col2\" class=\"data row5 col2\" >21</td>\n",
              "      <td id=\"T_e9769_row5_col3\" class=\"data row5 col3\" >1</td>\n",
              "      <td id=\"T_e9769_row5_col4\" class=\"data row5 col4\" >1</td>\n",
              "      <td id=\"T_e9769_row5_col5\" class=\"data row5 col5\" >9.38</td>\n",
              "      <td id=\"T_e9769_row5_col6\" class=\"data row5 col6\" >10.00</td>\n",
              "      <td id=\"T_e9769_row5_col7\" class=\"data row5 col7\" >17</td>\n",
              "      <td id=\"T_e9769_row5_col8\" class=\"data row5 col8\" >3</td>\n",
              "      <td id=\"T_e9769_row5_col9\" class=\"data row5 col9\" >0004</td>\n",
              "    </tr>\n",
              "    <tr>\n",
              "      <th id=\"T_e9769_level0_row6\" class=\"row_heading level0 row6\" >6</th>\n",
              "      <td id=\"T_e9769_row6_col0\" class=\"data row6 col0\" >197</td>\n",
              "      <td id=\"T_e9769_row6_col1\" class=\"data row6 col1\" >9</td>\n",
              "      <td id=\"T_e9769_row6_col2\" class=\"data row6 col2\" >19</td>\n",
              "      <td id=\"T_e9769_row6_col3\" class=\"data row6 col3\" >2</td>\n",
              "      <td id=\"T_e9769_row6_col4\" class=\"data row6 col4\" >1</td>\n",
              "      <td id=\"T_e9769_row6_col5\" class=\"data row6 col5\" >10.37</td>\n",
              "      <td id=\"T_e9769_row6_col6\" class=\"data row6 col6\" >11.00</td>\n",
              "      <td id=\"T_e9769_row6_col7\" class=\"data row6 col7\" >21</td>\n",
              "      <td id=\"T_e9769_row6_col8\" class=\"data row6 col8\" >3</td>\n",
              "      <td id=\"T_e9769_row6_col9\" class=\"data row6 col9\" >0004, 0006</td>\n",
              "    </tr>\n",
              "    <tr>\n",
              "      <th id=\"T_e9769_level0_row7\" class=\"row_heading level0 row7\" >7</th>\n",
              "      <td id=\"T_e9769_row7_col0\" class=\"data row7 col0\" >197</td>\n",
              "      <td id=\"T_e9769_row7_col1\" class=\"data row7 col1\" >10</td>\n",
              "      <td id=\"T_e9769_row7_col2\" class=\"data row7 col2\" >19</td>\n",
              "      <td id=\"T_e9769_row7_col3\" class=\"data row7 col3\" >2</td>\n",
              "      <td id=\"T_e9769_row7_col4\" class=\"data row7 col4\" >1</td>\n",
              "      <td id=\"T_e9769_row7_col5\" class=\"data row7 col5\" >10.37</td>\n",
              "      <td id=\"T_e9769_row7_col6\" class=\"data row7 col6\" >11.00</td>\n",
              "      <td id=\"T_e9769_row7_col7\" class=\"data row7 col7\" >21</td>\n",
              "      <td id=\"T_e9769_row7_col8\" class=\"data row7 col8\" >3</td>\n",
              "      <td id=\"T_e9769_row7_col9\" class=\"data row7 col9\" >0004, 0006</td>\n",
              "    </tr>\n",
              "  </tbody>\n",
              "</table>\n"
            ]
          },
          "metadata": {},
          "execution_count": 20
        }
      ]
    },
    {
      "cell_type": "markdown",
      "source": [
        "## Get dyanimc clusters (apply optimal num from above)\n",
        "\n",
        "side bar: about 57% of subreddits in Australia only had a single primary topic as their `topic_mix`, so combining `primary topic` might not give us as much info as we hoped.\n",
        "\n",
        "At the same time, for 43% of subs we might get additional detail by combining the primary topics.\n"
      ],
      "metadata": {
        "id": "sdA1sJHhTy40"
      }
    },
    {
      "cell_type": "code",
      "source": [
        "print(n_min_subs_in_cluster_optimal)\n",
        "\n",
        "n_mix_start = 4\n",
        "l_ix = ['subreddit_id', 'subreddit_name']\n",
        "col_new_cluster_topic_mix = 'cluster_topic_mix'\n",
        "col_subreddit_topic_mix = 'subreddit_full_topic_mix'\n",
        "col_full_depth_mix_count = 'subreddit_full_topic_mix_count'\n",
        "suffix_new_topic_mix = '_topic_mix_nested'\n",
        "col_new_cluster_val_int = 'cluster_label_int'\n",
        "\n",
        "df_labels_target_dynamic_raw = create_dynamic_clusters(\n",
        "    df_labels_target,\n",
        "    agg_strategy='aggregate_small_clusters',\n",
        "    min_subreddits_in_cluster=n_min_subs_in_cluster_optimal,\n",
        "    l_cols_labels_input=None,\n",
        "    col_new_cluster_val=col_new_cluster_val,\n",
        "    col_new_cluster_name=col_new_cluster_name,\n",
        "    col_new_cluster_prim_topic=col_new_cluster_prim_topic,\n",
        "    n_mix_start=n_mix_start,\n",
        "    col_new_cluster_topic_mix=col_new_cluster_topic_mix,\n",
        "    col_subreddit_topic_mix=col_subreddit_topic_mix,\n",
        "    col_full_depth_mix_count=col_full_depth_mix_count,\n",
        "    suffix_new_topic_mix=suffix_new_topic_mix,\n",
        "    l_ix=l_ix,\n",
        "    verbose=True,\n",
        ")"
      ],
      "metadata": {
        "id": "pDTDd44MTSqB",
        "colab": {
          "base_uri": "https://localhost:8080/"
        },
        "outputId": "4f5f355e-3aba-40e6-f81a-914b605fd50d"
      },
      "execution_count": 21,
      "outputs": [
        {
          "output_type": "stream",
          "name": "stderr",
          "text": [
            "02:08:35 | INFO | \"Concat'ing nested cluster labels...\"\n"
          ]
        },
        {
          "output_type": "stream",
          "name": "stdout",
          "text": [
            "5\n"
          ]
        },
        {
          "output_type": "stream",
          "name": "stderr",
          "text": [
            "02:08:35 | INFO | \"Getting topic mix at different depths...\"\n",
            "02:08:35 | INFO | \"  Assigning base topic mix cols\"\n",
            "02:08:35 | INFO | \"  Creating deepest base topic mix col...\"\n",
            "02:08:35 | INFO | \"  Iterating through additional subs with multiple topics...\"\n",
            "100%|██████████| 16/16 [00:00<00:00, 40.80it/s]\n",
            "02:08:36 | INFO | \"Initializing values for strategy: aggregate_small_clusters\"\n",
            "02:08:36 | INFO | \"  Looping to roll-up clusters from smallest to largest...\"\n",
            "100%|██████████| 21/21 [00:00<00:00, 201.07it/s]\n",
            "02:08:36 | INFO | \"(197, 125) <- output shape\"\n"
          ]
        }
      ]
    },
    {
      "cell_type": "code",
      "source": [
        "style_df_numeric(\n",
        "    get_dynamic_cluster_summary(\n",
        "        df_labels_target_dynamic_raw,\n",
        "        return_dict=False,\n",
        "    ),\n",
        "    rename_cols_for_display=True,\n",
        ")"
      ],
      "metadata": {
        "id": "37HCa0emTSnu",
        "colab": {
          "base_uri": "https://localhost:8080/",
          "height": 182
        },
        "outputId": "18002fcd-e163-4d5b-cc35-ac73ac7a483e"
      },
      "execution_count": 22,
      "outputs": [
        {
          "output_type": "execute_result",
          "data": {
            "text/plain": [
              "<pandas.io.formats.style.Styler at 0x7fc14ac08950>"
            ],
            "text/html": [
              "<style type=\"text/css\">\n",
              "</style>\n",
              "<table id=\"T_b56ef_\" class=\"dataframe\">\n",
              "  <thead>\n",
              "    <tr>\n",
              "      <th class=\"blank level0\" >&nbsp;</th>\n",
              "      <th class=\"col_heading level0 col0\" >cluster count</th>\n",
              "      <th class=\"col_heading level0 col1\" >num orphan subreddits</th>\n",
              "      <th class=\"col_heading level0 col2\" >num subreddits per cluster min</th>\n",
              "      <th class=\"col_heading level0 col3\" >num subreddits per cluster mean</th>\n",
              "      <th class=\"col_heading level0 col4\" >num subreddits per cluster median</th>\n",
              "      <th class=\"col_heading level0 col5\" >num subreddits per cluster max</th>\n",
              "      <th class=\"col_heading level0 col6\" >num clusters with mature primary topic</th>\n",
              "      <th class=\"col_heading level0 col7\" >cluster ids with orphans</th>\n",
              "    </tr>\n",
              "    <tr>\n",
              "      <th class=\"index_name level0\" ></th>\n",
              "      <th class=\"blank col0\" >&nbsp;</th>\n",
              "      <th class=\"blank col1\" >&nbsp;</th>\n",
              "      <th class=\"blank col2\" >&nbsp;</th>\n",
              "      <th class=\"blank col3\" >&nbsp;</th>\n",
              "      <th class=\"blank col4\" >&nbsp;</th>\n",
              "      <th class=\"blank col5\" >&nbsp;</th>\n",
              "      <th class=\"blank col6\" >&nbsp;</th>\n",
              "      <th class=\"blank col7\" >&nbsp;</th>\n",
              "    </tr>\n",
              "  </thead>\n",
              "  <tbody>\n",
              "    <tr>\n",
              "      <th id=\"T_b56ef_level0_row0\" class=\"row_heading level0 row0\" >0</th>\n",
              "      <td id=\"T_b56ef_row0_col0\" class=\"data row0 col0\" >31</td>\n",
              "      <td id=\"T_b56ef_row0_col1\" class=\"data row0 col1\" >1</td>\n",
              "      <td id=\"T_b56ef_row0_col2\" class=\"data row0 col2\" >1</td>\n",
              "      <td id=\"T_b56ef_row0_col3\" class=\"data row0 col3\" >6.35</td>\n",
              "      <td id=\"T_b56ef_row0_col4\" class=\"data row0 col4\" >6.00</td>\n",
              "      <td id=\"T_b56ef_row0_col5\" class=\"data row0 col5\" >12</td>\n",
              "      <td id=\"T_b56ef_row0_col6\" class=\"data row0 col6\" >5</td>\n",
              "      <td id=\"T_b56ef_row0_col7\" class=\"data row0 col7\" >0004</td>\n",
              "    </tr>\n",
              "  </tbody>\n",
              "</table>\n"
            ]
          },
          "metadata": {},
          "execution_count": 22
        }
      ]
    },
    {
      "cell_type": "code",
      "source": [
        "# # # check column order\n",
        "# style_df_numeric(\n",
        "#     df_labels_target_dynamic_raw.iloc[104:109, :15],\n",
        "#     rename_cols_for_display=True,\n",
        "#     int_labels=['total_users_in', 'num_of_countries_', 'users_in_subreddit_from_country_l28',\n",
        "#                     'by_country_rank',\n",
        "#                     ],\n",
        "#     pct_cols=['b_users_percent_by_subreddit',\n",
        "#                   'c_users_percent_by_country',\n",
        "#                   'users_percent_by_country_avg',\n",
        "#                   ],\n",
        "#     pct_labels='',\n",
        "# )"
      ],
      "metadata": {
        "id": "aCe7i9_Yr0F5"
      },
      "execution_count": null,
      "outputs": []
    },
    {
      "cell_type": "markdown",
      "source": [
        "### Minor QA checks"
      ],
      "metadata": {
        "id": "FkTvPXPVODEf"
      }
    },
    {
      "cell_type": "code",
      "source": [
        "# # check column order\n",
        "# style_df_numeric(\n",
        "#     df_labels_target_dynamic_raw.iloc[70:74, -22:],\n",
        "#     rename_cols_for_display=True,\n",
        "#     int_labels=['total_users_in', 'num_of_countries_', 'users_in_subreddit_from_country_l28',\n",
        "#                     'by_country_rank',\n",
        "#                     ],\n",
        "#     pct_cols=['b_users_percent_by_subreddit',\n",
        "#                   'c_users_percent_by_country',\n",
        "#                   'users_percent_by_country_avg',\n",
        "#                   ],\n",
        "#     pct_labels='',\n",
        "# )"
      ],
      "metadata": {
        "id": "ymVPMHol6VtS"
      },
      "execution_count": 23,
      "outputs": []
    },
    {
      "cell_type": "code",
      "source": [
        "value_counts_and_pcts(\n",
        "    df_labels_target_dynamic_raw[col_new_cluster_topic_mix],\n",
        "    top_n=9,\n",
        ")"
      ],
      "metadata": {
        "id": "1J7ewY65RK02",
        "colab": {
          "base_uri": "https://localhost:8080/",
          "height": 0
        },
        "outputId": "61412c92-81ff-4a9a-f43a-9a83e202b6d0"
      },
      "execution_count": 24,
      "outputs": [
        {
          "output_type": "execute_result",
          "data": {
            "text/plain": [
              "<pandas.io.formats.style.Styler at 0x7fc14ab27c50>"
            ],
            "text/html": [
              "<style type=\"text/css\">\n",
              "#T_d415f_row0_col1, #T_d415f_row8_col2 {\n",
              "  width: 10em;\n",
              "  height: 80%;\n",
              "  background: linear-gradient(90deg,#95cff5 100.0%, transparent 100.0%);\n",
              "}\n",
              "#T_d415f_row0_col2, #T_d415f_row8_col1 {\n",
              "  width: 10em;\n",
              "  height: 80%;\n",
              "}\n",
              "#T_d415f_row1_col1 {\n",
              "  width: 10em;\n",
              "  height: 80%;\n",
              "  background: linear-gradient(90deg,#95cff5 93.3%, transparent 93.3%);\n",
              "}\n",
              "#T_d415f_row1_col2 {\n",
              "  width: 10em;\n",
              "  height: 80%;\n",
              "  background: linear-gradient(90deg,#95cff5 17.8%, transparent 17.8%);\n",
              "}\n",
              "#T_d415f_row2_col1 {\n",
              "  width: 10em;\n",
              "  height: 80%;\n",
              "  background: linear-gradient(90deg,#95cff5 60.0%, transparent 60.0%);\n",
              "}\n",
              "#T_d415f_row2_col2 {\n",
              "  width: 10em;\n",
              "  height: 80%;\n",
              "  background: linear-gradient(90deg,#95cff5 31.8%, transparent 31.8%);\n",
              "}\n",
              "#T_d415f_row3_col1, #T_d415f_row4_col1 {\n",
              "  width: 10em;\n",
              "  height: 80%;\n",
              "  background: linear-gradient(90deg,#95cff5 53.3%, transparent 53.3%);\n",
              "}\n",
              "#T_d415f_row3_col2 {\n",
              "  width: 10em;\n",
              "  height: 80%;\n",
              "  background: linear-gradient(90deg,#95cff5 45.0%, transparent 45.0%);\n",
              "}\n",
              "#T_d415f_row4_col2 {\n",
              "  width: 10em;\n",
              "  height: 80%;\n",
              "  background: linear-gradient(90deg,#95cff5 58.1%, transparent 58.1%);\n",
              "}\n",
              "#T_d415f_row5_col1, #T_d415f_row6_col1, #T_d415f_row7_col1 {\n",
              "  width: 10em;\n",
              "  height: 80%;\n",
              "  background: linear-gradient(90deg,#95cff5 40.0%, transparent 40.0%);\n",
              "}\n",
              "#T_d415f_row5_col2 {\n",
              "  width: 10em;\n",
              "  height: 80%;\n",
              "  background: linear-gradient(90deg,#95cff5 69.8%, transparent 69.8%);\n",
              "}\n",
              "#T_d415f_row6_col2 {\n",
              "  width: 10em;\n",
              "  height: 80%;\n",
              "  background: linear-gradient(90deg,#95cff5 81.4%, transparent 81.4%);\n",
              "}\n",
              "#T_d415f_row7_col2 {\n",
              "  width: 10em;\n",
              "  height: 80%;\n",
              "  background: linear-gradient(90deg,#95cff5 93.0%, transparent 93.0%);\n",
              "}\n",
              "</style>\n",
              "<table id=\"T_d415f_\" class=\"dataframe\">\n",
              "  <thead>\n",
              "    <tr>\n",
              "      <th class=\"blank level0\" >&nbsp;</th>\n",
              "      <th class=\"col_heading level0 col0\" >cluster_topic_mix-count</th>\n",
              "      <th class=\"col_heading level0 col1\" >cluster_topic_mix-percent</th>\n",
              "      <th class=\"col_heading level0 col2\" >cluster_topic_mix-pct_cumulative_sum</th>\n",
              "    </tr>\n",
              "  </thead>\n",
              "  <tbody>\n",
              "    <tr>\n",
              "      <th id=\"T_d415f_level0_row0\" class=\"row_heading level0 row0\" >Mature Themes and Adult Content</th>\n",
              "      <td id=\"T_d415f_row0_col0\" class=\"data row0 col0\" >24</td>\n",
              "      <td id=\"T_d415f_row0_col1\" class=\"data row0 col1\" >12.2%</td>\n",
              "      <td id=\"T_d415f_row0_col2\" class=\"data row0 col2\" >12.2%</td>\n",
              "    </tr>\n",
              "    <tr>\n",
              "      <th id=\"T_d415f_level0_row1\" class=\"row_heading level0 row1\" >Technology</th>\n",
              "      <td id=\"T_d415f_row1_col0\" class=\"data row1 col0\" >23</td>\n",
              "      <td id=\"T_d415f_row1_col1\" class=\"data row1 col1\" >11.7%</td>\n",
              "      <td id=\"T_d415f_row1_col2\" class=\"data row1 col2\" >23.9%</td>\n",
              "    </tr>\n",
              "    <tr>\n",
              "      <th id=\"T_d415f_level0_row2\" class=\"row_heading level0 row2\" >Internet Culture and Memes</th>\n",
              "      <td id=\"T_d415f_row2_col0\" class=\"data row2 col0\" >18</td>\n",
              "      <td id=\"T_d415f_row2_col1\" class=\"data row2 col1\" >9.1%</td>\n",
              "      <td id=\"T_d415f_row2_col2\" class=\"data row2 col2\" >33.0%</td>\n",
              "    </tr>\n",
              "    <tr>\n",
              "      <th id=\"T_d415f_level0_row3\" class=\"row_heading level0 row3\" >Crypto</th>\n",
              "      <td id=\"T_d415f_row3_col0\" class=\"data row3 col0\" >17</td>\n",
              "      <td id=\"T_d415f_row3_col1\" class=\"data row3 col1\" >8.6%</td>\n",
              "      <td id=\"T_d415f_row3_col2\" class=\"data row3 col2\" >41.6%</td>\n",
              "    </tr>\n",
              "    <tr>\n",
              "      <th id=\"T_d415f_level0_row4\" class=\"row_heading level0 row4\" >Gaming</th>\n",
              "      <td id=\"T_d415f_row4_col0\" class=\"data row4 col0\" >17</td>\n",
              "      <td id=\"T_d415f_row4_col1\" class=\"data row4 col1\" >8.6%</td>\n",
              "      <td id=\"T_d415f_row4_col2\" class=\"data row4 col2\" >50.3%</td>\n",
              "    </tr>\n",
              "    <tr>\n",
              "      <th id=\"T_d415f_level0_row5\" class=\"row_heading level0 row5\" >Cars and Motor Vehicles | Sports</th>\n",
              "      <td id=\"T_d415f_row5_col0\" class=\"data row5 col0\" >15</td>\n",
              "      <td id=\"T_d415f_row5_col1\" class=\"data row5 col1\" >7.6%</td>\n",
              "      <td id=\"T_d415f_row5_col2\" class=\"data row5 col2\" >57.9%</td>\n",
              "    </tr>\n",
              "    <tr>\n",
              "      <th id=\"T_d415f_level0_row6\" class=\"row_heading level0 row6\" >Place</th>\n",
              "      <td id=\"T_d415f_row6_col0\" class=\"data row6 col0\" >15</td>\n",
              "      <td id=\"T_d415f_row6_col1\" class=\"data row6 col1\" >7.6%</td>\n",
              "      <td id=\"T_d415f_row6_col2\" class=\"data row6 col2\" >65.5%</td>\n",
              "    </tr>\n",
              "    <tr>\n",
              "      <th id=\"T_d415f_level0_row7\" class=\"row_heading level0 row7\" >Politics</th>\n",
              "      <td id=\"T_d415f_row7_col0\" class=\"data row7 col0\" >15</td>\n",
              "      <td id=\"T_d415f_row7_col1\" class=\"data row7 col1\" >7.6%</td>\n",
              "      <td id=\"T_d415f_row7_col2\" class=\"data row7 col2\" >73.1%</td>\n",
              "    </tr>\n",
              "    <tr>\n",
              "      <th id=\"T_d415f_level0_row8\" class=\"row_heading level0 row8\" >Hobbies</th>\n",
              "      <td id=\"T_d415f_row8_col0\" class=\"data row8 col0\" >9</td>\n",
              "      <td id=\"T_d415f_row8_col1\" class=\"data row8 col1\" >4.6%</td>\n",
              "      <td id=\"T_d415f_row8_col2\" class=\"data row8 col2\" >77.7%</td>\n",
              "    </tr>\n",
              "  </tbody>\n",
              "</table>\n"
            ]
          },
          "metadata": {},
          "execution_count": 24
        }
      ]
    },
    {
      "cell_type": "code",
      "source": [
        "# how many final clusters have multiple topics?\n",
        "value_counts_and_pcts(\n",
        "    df_labels_target_dynamic_raw[col_new_cluster_topic_mix].str.count('\\|')\n",
        ")"
      ],
      "metadata": {
        "id": "uiOJMuhwJUT9",
        "colab": {
          "base_uri": "https://localhost:8080/",
          "height": 0
        },
        "outputId": "20b8bc7b-54f5-4da5-d43e-ee5e4e36854f"
      },
      "execution_count": 25,
      "outputs": [
        {
          "output_type": "execute_result",
          "data": {
            "text/plain": [
              "<pandas.io.formats.style.Styler at 0x7fc14a9be850>"
            ],
            "text/html": [
              "<style type=\"text/css\">\n",
              "#T_c4571_row0_col1, #T_c4571_row1_col2 {\n",
              "  width: 10em;\n",
              "  height: 80%;\n",
              "  background: linear-gradient(90deg,#95cff5 100.0%, transparent 100.0%);\n",
              "}\n",
              "#T_c4571_row0_col2, #T_c4571_row1_col1 {\n",
              "  width: 10em;\n",
              "  height: 80%;\n",
              "}\n",
              "</style>\n",
              "<table id=\"T_c4571_\" class=\"dataframe\">\n",
              "  <thead>\n",
              "    <tr>\n",
              "      <th class=\"blank level0\" >&nbsp;</th>\n",
              "      <th class=\"col_heading level0 col0\" >cluster_topic_mix-count</th>\n",
              "      <th class=\"col_heading level0 col1\" >cluster_topic_mix-percent</th>\n",
              "      <th class=\"col_heading level0 col2\" >cluster_topic_mix-pct_cumulative_sum</th>\n",
              "    </tr>\n",
              "  </thead>\n",
              "  <tbody>\n",
              "    <tr>\n",
              "      <th id=\"T_c4571_level0_row0\" class=\"row_heading level0 row0\" >0</th>\n",
              "      <td id=\"T_c4571_row0_col0\" class=\"data row0 col0\" >176</td>\n",
              "      <td id=\"T_c4571_row0_col1\" class=\"data row0 col1\" >89.3%</td>\n",
              "      <td id=\"T_c4571_row0_col2\" class=\"data row0 col2\" >89.3%</td>\n",
              "    </tr>\n",
              "    <tr>\n",
              "      <th id=\"T_c4571_level0_row1\" class=\"row_heading level0 row1\" >1</th>\n",
              "      <td id=\"T_c4571_row1_col0\" class=\"data row1 col0\" >21</td>\n",
              "      <td id=\"T_c4571_row1_col1\" class=\"data row1 col1\" >10.7%</td>\n",
              "      <td id=\"T_c4571_row1_col2\" class=\"data row1 col2\" >100.0%</td>\n",
              "    </tr>\n",
              "  </tbody>\n",
              "</table>\n"
            ]
          },
          "metadata": {},
          "execution_count": 25
        }
      ]
    },
    {
      "cell_type": "code",
      "source": [
        "# how many SUBREDDITS have multiple topics? (when we check the deepest clusters)\n",
        "#  these two calls are equivalent\n",
        "\n",
        "# value_counts_and_pcts(\n",
        "#     df_labels_target_dynamic_raw[col_subreddit_topic_mix].str.count('\\|')\n",
        "# )\n",
        "\n",
        "value_counts_and_pcts(\n",
        "    df_labels_target_dynamic_raw[col_full_depth_mix_count]\n",
        ")"
      ],
      "metadata": {
        "id": "wAfDS7U5J_-6",
        "colab": {
          "base_uri": "https://localhost:8080/",
          "height": 0
        },
        "outputId": "e7f9547d-6e7a-4955-dc64-59cba3cd4523"
      },
      "execution_count": 26,
      "outputs": [
        {
          "output_type": "execute_result",
          "data": {
            "text/plain": [
              "<pandas.io.formats.style.Styler at 0x7fc15fdf1650>"
            ],
            "text/html": [
              "<style type=\"text/css\">\n",
              "#T_6ef8f_row0_col1, #T_6ef8f_row4_col2 {\n",
              "  width: 10em;\n",
              "  height: 80%;\n",
              "  background: linear-gradient(90deg,#95cff5 100.0%, transparent 100.0%);\n",
              "}\n",
              "#T_6ef8f_row0_col2, #T_6ef8f_row4_col1 {\n",
              "  width: 10em;\n",
              "  height: 80%;\n",
              "}\n",
              "#T_6ef8f_row1_col1 {\n",
              "  width: 10em;\n",
              "  height: 80%;\n",
              "  background: linear-gradient(90deg,#95cff5 68.8%, transparent 68.8%);\n",
              "}\n",
              "#T_6ef8f_row1_col2 {\n",
              "  width: 10em;\n",
              "  height: 80%;\n",
              "  background: linear-gradient(90deg,#95cff5 68.0%, transparent 68.0%);\n",
              "}\n",
              "#T_6ef8f_row2_col1 {\n",
              "  width: 10em;\n",
              "  height: 80%;\n",
              "  background: linear-gradient(90deg,#95cff5 17.2%, transparent 17.2%);\n",
              "}\n",
              "#T_6ef8f_row2_col2 {\n",
              "  width: 10em;\n",
              "  height: 80%;\n",
              "  background: linear-gradient(90deg,#95cff5 88.0%, transparent 88.0%);\n",
              "}\n",
              "#T_6ef8f_row3_col1 {\n",
              "  width: 10em;\n",
              "  height: 80%;\n",
              "  background: linear-gradient(90deg,#95cff5 4.3%, transparent 4.3%);\n",
              "}\n",
              "#T_6ef8f_row3_col2 {\n",
              "  width: 10em;\n",
              "  height: 80%;\n",
              "  background: linear-gradient(90deg,#95cff5 96.0%, transparent 96.0%);\n",
              "}\n",
              "</style>\n",
              "<table id=\"T_6ef8f_\" class=\"dataframe\">\n",
              "  <thead>\n",
              "    <tr>\n",
              "      <th class=\"blank level0\" >&nbsp;</th>\n",
              "      <th class=\"col_heading level0 col0\" >subreddit_full_topic_mix_count-count</th>\n",
              "      <th class=\"col_heading level0 col1\" >subreddit_full_topic_mix_count-percent</th>\n",
              "      <th class=\"col_heading level0 col2\" >subreddit_full_topic_mix_count-pct_cumulative_sum</th>\n",
              "    </tr>\n",
              "  </thead>\n",
              "  <tbody>\n",
              "    <tr>\n",
              "      <th id=\"T_6ef8f_level0_row0\" class=\"row_heading level0 row0\" >1</th>\n",
              "      <td id=\"T_6ef8f_row0_col0\" class=\"data row0 col0\" >97</td>\n",
              "      <td id=\"T_6ef8f_row0_col1\" class=\"data row0 col1\" >49.2%</td>\n",
              "      <td id=\"T_6ef8f_row0_col2\" class=\"data row0 col2\" >49.2%</td>\n",
              "    </tr>\n",
              "    <tr>\n",
              "      <th id=\"T_6ef8f_level0_row1\" class=\"row_heading level0 row1\" >2</th>\n",
              "      <td id=\"T_6ef8f_row1_col0\" class=\"data row1 col0\" >68</td>\n",
              "      <td id=\"T_6ef8f_row1_col1\" class=\"data row1 col1\" >34.5%</td>\n",
              "      <td id=\"T_6ef8f_row1_col2\" class=\"data row1 col2\" >83.8%</td>\n",
              "    </tr>\n",
              "    <tr>\n",
              "      <th id=\"T_6ef8f_level0_row2\" class=\"row_heading level0 row2\" >3</th>\n",
              "      <td id=\"T_6ef8f_row2_col0\" class=\"data row2 col0\" >20</td>\n",
              "      <td id=\"T_6ef8f_row2_col1\" class=\"data row2 col1\" >10.2%</td>\n",
              "      <td id=\"T_6ef8f_row2_col2\" class=\"data row2 col2\" >93.9%</td>\n",
              "    </tr>\n",
              "    <tr>\n",
              "      <th id=\"T_6ef8f_level0_row3\" class=\"row_heading level0 row3\" >4</th>\n",
              "      <td id=\"T_6ef8f_row3_col0\" class=\"data row3 col0\" >8</td>\n",
              "      <td id=\"T_6ef8f_row3_col1\" class=\"data row3 col1\" >4.1%</td>\n",
              "      <td id=\"T_6ef8f_row3_col2\" class=\"data row3 col2\" >98.0%</td>\n",
              "    </tr>\n",
              "    <tr>\n",
              "      <th id=\"T_6ef8f_level0_row4\" class=\"row_heading level0 row4\" >5</th>\n",
              "      <td id=\"T_6ef8f_row4_col0\" class=\"data row4 col0\" >4</td>\n",
              "      <td id=\"T_6ef8f_row4_col1\" class=\"data row4 col1\" >2.0%</td>\n",
              "      <td id=\"T_6ef8f_row4_col2\" class=\"data row4 col2\" >100.0%</td>\n",
              "    </tr>\n",
              "  </tbody>\n",
              "</table>\n"
            ]
          },
          "metadata": {},
          "execution_count": 26
        }
      ]
    },
    {
      "cell_type": "code",
      "source": [
        "style_df_numeric(\n",
        "    df_labels_target_dynamic_raw\n",
        "    [df_labels_target_dynamic_raw[col_full_depth_mix_count] >= 5]\n",
        "    .iloc[-5:, :9]\n",
        "    ,\n",
        "    rename_cols_for_display=True,\n",
        ")"
      ],
      "metadata": {
        "id": "y58ZASAoLeft",
        "colab": {
          "base_uri": "https://localhost:8080/",
          "height": 0
        },
        "outputId": "874fa1c7-f0dd-4220-e0bd-dd5fb7ac6d82"
      },
      "execution_count": 27,
      "outputs": [
        {
          "output_type": "execute_result",
          "data": {
            "text/plain": [
              "<pandas.io.formats.style.Styler at 0x7fc14a0d7e50>"
            ],
            "text/html": [
              "<style type=\"text/css\">\n",
              "</style>\n",
              "<table id=\"T_5ece6_\" class=\"dataframe\">\n",
              "  <thead>\n",
              "    <tr>\n",
              "      <th class=\"blank level0\" >&nbsp;</th>\n",
              "      <th class=\"col_heading level0 col0\" >subreddit id</th>\n",
              "      <th class=\"col_heading level0 col1\" >subreddit name</th>\n",
              "      <th class=\"col_heading level0 col2\" >cluster label int</th>\n",
              "      <th class=\"col_heading level0 col3\" >cluster topic mix</th>\n",
              "      <th class=\"col_heading level0 col4\" >primary topic</th>\n",
              "      <th class=\"col_heading level0 col5\" >rating short</th>\n",
              "      <th class=\"col_heading level0 col6\" >subreddit full topic mix</th>\n",
              "      <th class=\"col_heading level0 col7\" >rating name</th>\n",
              "      <th class=\"col_heading level0 col8\" >over 18</th>\n",
              "    </tr>\n",
              "    <tr>\n",
              "      <th class=\"index_name level0\" ></th>\n",
              "      <th class=\"blank col0\" >&nbsp;</th>\n",
              "      <th class=\"blank col1\" >&nbsp;</th>\n",
              "      <th class=\"blank col2\" >&nbsp;</th>\n",
              "      <th class=\"blank col3\" >&nbsp;</th>\n",
              "      <th class=\"blank col4\" >&nbsp;</th>\n",
              "      <th class=\"blank col5\" >&nbsp;</th>\n",
              "      <th class=\"blank col6\" >&nbsp;</th>\n",
              "      <th class=\"blank col7\" >&nbsp;</th>\n",
              "      <th class=\"blank col8\" >&nbsp;</th>\n",
              "    </tr>\n",
              "  </thead>\n",
              "  <tbody>\n",
              "    <tr>\n",
              "      <th id=\"T_5ece6_level0_row0\" class=\"row_heading level0 row0\" >98</th>\n",
              "      <td id=\"T_5ece6_row0_col0\" class=\"data row0 col0\" >t5_2qi1n</td>\n",
              "      <td id=\"T_5ece6_row0_col1\" class=\"data row0 col1\" >nederlands</td>\n",
              "      <td id=\"T_5ece6_row0_col2\" class=\"data row0 col2\" >8</td>\n",
              "      <td id=\"T_5ece6_row0_col3\" class=\"data row0 col3\" >Medical and Mental Health</td>\n",
              "      <td id=\"T_5ece6_row0_col4\" class=\"data row0 col4\" >Place</td>\n",
              "      <td id=\"T_5ece6_row0_col5\" class=\"data row0 col5\" >E</td>\n",
              "      <td id=\"T_5ece6_row0_col6\" class=\"data row0 col6\" >Meta/Reddit | Reading, Writing, and Literature | Funny/Humor | Internet Culture and Memes | Place</td>\n",
              "      <td id=\"T_5ece6_row0_col7\" class=\"data row0 col7\" >Everyone</td>\n",
              "      <td id=\"T_5ece6_row0_col8\" class=\"data row0 col8\" >f</td>\n",
              "    </tr>\n",
              "    <tr>\n",
              "      <th id=\"T_5ece6_level0_row1\" class=\"row_heading level0 row1\" >99</th>\n",
              "      <td id=\"T_5ece6_row1_col0\" class=\"data row1 col0\" >t5_2dm6a0</td>\n",
              "      <td id=\"T_5ece6_row1_col1\" class=\"data row1 col1\" >writestreak</td>\n",
              "      <td id=\"T_5ece6_row1_col2\" class=\"data row1 col2\" >8</td>\n",
              "      <td id=\"T_5ece6_row1_col3\" class=\"data row1 col3\" >Medical and Mental Health</td>\n",
              "      <td id=\"T_5ece6_row1_col4\" class=\"data row1 col4\" >Learning and Education</td>\n",
              "      <td id=\"T_5ece6_row1_col5\" class=\"data row1 col5\" >E</td>\n",
              "      <td id=\"T_5ece6_row1_col6\" class=\"data row1 col6\" >Meta/Reddit | Reading, Writing, and Literature | Funny/Humor | Internet Culture and Memes | Learning and Education</td>\n",
              "      <td id=\"T_5ece6_row1_col7\" class=\"data row1 col7\" >Everyone</td>\n",
              "      <td id=\"T_5ece6_row1_col8\" class=\"data row1 col8\" >-</td>\n",
              "    </tr>\n",
              "    <tr>\n",
              "      <th id=\"T_5ece6_level0_row2\" class=\"row_heading level0 row2\" >134</th>\n",
              "      <td id=\"T_5ece6_row2_col0\" class=\"data row2 col0\" >t5_287xxc</td>\n",
              "      <td id=\"T_5ece6_row2_col1\" class=\"data row2 col1\" >notjustbikes</td>\n",
              "      <td id=\"T_5ece6_row2_col2\" class=\"data row2 col2\" >17</td>\n",
              "      <td id=\"T_5ece6_row2_col3\" class=\"data row2 col3\" >Politics</td>\n",
              "      <td id=\"T_5ece6_row2_col4\" class=\"data row2 col4\" >Activism</td>\n",
              "      <td id=\"T_5ece6_row2_col5\" class=\"data row2 col5\" >E</td>\n",
              "      <td id=\"T_5ece6_row2_col6\" class=\"data row2 col6\" >Place | Cars and Motor Vehicles | Travel | Politics | Activism</td>\n",
              "      <td id=\"T_5ece6_row2_col7\" class=\"data row2 col7\" >Everyone</td>\n",
              "      <td id=\"T_5ece6_row2_col8\" class=\"data row2 col8\" >-</td>\n",
              "    </tr>\n",
              "    <tr>\n",
              "      <th id=\"T_5ece6_level0_row3\" class=\"row_heading level0 row3\" >196</th>\n",
              "      <td id=\"T_5ece6_row3_col0\" class=\"data row3 col0\" >t5_57m7gn</td>\n",
              "      <td id=\"T_5ece6_row3_col1\" class=\"data row3 col1\" >arjan</td>\n",
              "      <td id=\"T_5ece6_row3_col2\" class=\"data row3 col2\" >13</td>\n",
              "      <td id=\"T_5ece6_row3_col3\" class=\"data row3 col3\" >Animals and Pets</td>\n",
              "      <td id=\"T_5ece6_row3_col4\" class=\"data row3 col4\" >-</td>\n",
              "      <td id=\"T_5ece6_row3_col5\" class=\"data row3 col5\" >-</td>\n",
              "      <td id=\"T_5ece6_row3_col6\" class=\"data row3 col6\" >Music | Mature Themes and Adult Content | Internet Culture and Memes | Meta/Reddit | Learning and Education</td>\n",
              "      <td id=\"T_5ece6_row3_col7\" class=\"data row3 col7\" >-</td>\n",
              "      <td id=\"T_5ece6_row3_col8\" class=\"data row3 col8\" >-</td>\n",
              "    </tr>\n",
              "  </tbody>\n",
              "</table>\n"
            ]
          },
          "metadata": {},
          "execution_count": 27
        }
      ]
    },
    {
      "cell_type": "markdown",
      "source": [
        "## Re-assign orphan subreddits (optional)\n",
        "\n",
        "If there are subreddits that are orphan (see summary above), check them out to see if we can re-assign them w/o too much work. if we can't skip and move to the next country."
      ],
      "metadata": {
        "id": "NIKRnACST_VQ"
      }
    },
    {
      "cell_type": "code",
      "execution_count": 28,
      "metadata": {
        "scrolled": true,
        "id": "90f0rVFqgPT-"
      },
      "outputs": [],
      "source": [
        "# # check subs around orphan sub\n",
        "# # n_plus_minus_ = 5\n",
        "# ix_orphan_ = (\n",
        "#     df_labels_target_dynamic_raw\n",
        "#     [df_labels_target_dynamic_raw[col_new_cluster_val] == '0011']\n",
        "#     .index\n",
        "# )\n",
        "# df_labels_target_dynamic_raw.iloc[ix_orphan_, :9]"
      ]
    },
    {
      "cell_type": "code",
      "execution_count": 29,
      "metadata": {
        "id": "8La86XaygPT-"
      },
      "outputs": [],
      "source": [
        "# # check other subs that are in the same cluster as orphan sub (at broadest level)\n",
        "# l_cols_orphan_check = (\n",
        "#     [\n",
        "#         'subreddit_id',\n",
        "#         col_new_cluster_topic_mix, \n",
        "#         # col_new_cluster_val,  # this can be really long and makes comparing harder\n",
        "#         # col_subreddit_topic_mix,\n",
        "#         'subreddit_name', \n",
        "#         col_new_cluster_name\n",
        "#     ] +\n",
        "#     l_cols_labels[:-5]\n",
        "# )\n",
        "\n",
        "# style_df_numeric(\n",
        "#     df_labels_target_dynamic_raw\n",
        "#     [df_labels_target_dynamic_raw['k_0013_label'] == 11]\n",
        "#     [l_cols_orphan_check]\n",
        "#     .iloc[3:14, :50]\n",
        "#     ,\n",
        "#     l_bar_simple=[c for c in l_cols_orphan_check[4:] if c.endswith('_label')],\n",
        "#     rename_cols_for_display=True,\n",
        "\n",
        "# )"
      ]
    },
    {
      "cell_type": "code",
      "execution_count": 30,
      "metadata": {
        "id": "GQdjZwZHgPT-"
      },
      "outputs": [],
      "source": [
        "# label_k_to_reassign_ = 'k_0320_label'\n",
        "# label_val_to_reassign_ = '0011-0018-0032-0043-0046-0058-0062-0087-0244'\n",
        "# subreddit_id_orphan_ = 't5_2tt7r'\n",
        "\n",
        "# mask_orphan_and_new_group = (\n",
        "#     (df_labels_target_dynamic_raw['subreddit_id'] == subreddit_id_orphan_) |\n",
        "#     (\n",
        "#         (df_labels_target_dynamic_raw[col_new_cluster_name] == label_k_to_reassign_) &\n",
        "#         (df_labels_target_dynamic_raw[col_new_cluster_val] == label_val_to_reassign_)\n",
        "#     )\n",
        "# )\n",
        "\n",
        "# # assign is similar to what we do in the dynamic function\n",
        "# label_k_new_ = 'k_0118_label'\n",
        "# label_val_new_col_ = f\"{label_k_new_}_nested\"\n",
        "# new_prim_topic_col_ = label_k_new_.replace('_label', '_majority_primary_topic')\n",
        "# c_update_topic_mix_ = label_k_new_.replace('_label', suffix_new_topic_mix)\n",
        "\n",
        "# df_labels_target_dynamic_raw.loc[\n",
        "#     mask_orphan_and_new_group,\n",
        "#     col_new_cluster_name\n",
        "# ] = label_k_new_\n",
        "\n",
        "# df_labels_target_dynamic_raw.loc[\n",
        "#     mask_orphan_and_new_group,\n",
        "#     col_new_cluster_val\n",
        "# ] = df_labels_target_dynamic_raw[mask_orphan_and_new_group][label_val_new_col_]\n",
        "\n",
        "# df_labels_target_dynamic_raw.loc[\n",
        "#     mask_orphan_and_new_group,\n",
        "#     col_new_cluster_prim_topic\n",
        "# ] = df_labels_target_dynamic_raw[mask_orphan_and_new_group][new_prim_topic_col_]\n",
        "\n",
        "# df_labels_target_dynamic_raw.loc[\n",
        "#     mask_orphan_and_new_group,\n",
        "#     col_new_cluster_topic_mix\n",
        "# ] = df_labels_target_dynamic_raw[mask_orphan_and_new_group][c_update_topic_mix_]\n",
        "\n",
        "# del mask_orphan_and_new_group, label_k_to_reassign_, label_val_to_reassign_\n",
        "# del label_k_new_, label_val_new_col_, new_prim_topic_col_"
      ]
    },
    {
      "cell_type": "code",
      "source": [
        "# # check again, num of orphans should be lower than before\n",
        "# style_df_numeric(\n",
        "#     get_dynamic_cluster_summary(\n",
        "#         df_labels_target_dynamic_raw,\n",
        "#         return_dict=False,\n",
        "#     ),\n",
        "#     rename_cols_for_display=True,\n",
        "# )"
      ],
      "metadata": {
        "id": "1inAAtHzTSl2"
      },
      "execution_count": 31,
      "outputs": []
    },
    {
      "cell_type": "code",
      "execution_count": 32,
      "metadata": {
        "id": "wSkhAV5wkFIG",
        "scrolled": false
      },
      "outputs": [],
      "source": [
        "# value_counts_and_pcts(\n",
        "#     df_labels_target_dynamic_raw,\n",
        "#     ['cluster_label'],\n",
        "#     top_n=None,\n",
        "#     return_df=True\n",
        "# )['count'].describe()"
      ]
    },
    {
      "cell_type": "markdown",
      "source": [
        "## Get cluster for humans (list of subs in a cluster in a cell)\n",
        "Here we get 1 cluster per row. \n",
        "Use cases:\n",
        "- It makes it easier to quickly check NSFW clusters that we'll filter out\n",
        "- we'll append the list of subreddit names from here to the final table for QA (makes it easier to evaluate whether the cluster makes sense).\n"
      ],
      "metadata": {
        "id": "LduoDdr1YX4t"
      }
    },
    {
      "cell_type": "code",
      "source": [
        "col_subs_in_cluster_count = 'subs_in_cluster_count'\n",
        "col_list_cluster_names = 'list_cluster_subreddit_names'\n",
        "\n",
        "df_cluster_for_humans = reshape_df_to_get_1_cluster_per_row(\n",
        "    df_labels_target_dynamic_raw,\n",
        "    col_counterpart_count=col_subs_in_cluster_count,\n",
        "    col_list_cluster_names=col_list_cluster_names,\n",
        "    col_list_cluster_ids='list_cluster_subreddit_ids',\n",
        "    col_new_cluster_val=col_new_cluster_val,\n",
        "    col_new_cluster_name=col_new_cluster_name,\n",
        "    col_new_cluster_val_int=col_new_cluster_val_int,\n",
        "    col_new_cluster_topic=col_new_cluster_topic_mix,\n",
        "    verbose=False,\n",
        "    get_one_column_per_sub_id=False,\n",
        ")"
      ],
      "metadata": {
        "id": "H7Hc6UBkvUXO",
        "colab": {
          "base_uri": "https://localhost:8080/"
        },
        "outputId": "3588b32f-8554-4299-eb33-425f0f85d591"
      },
      "execution_count": 33,
      "outputs": [
        {
          "output_type": "stream",
          "name": "stdout",
          "text": [
            "(31, 7)\n"
          ]
        }
      ]
    },
    {
      "cell_type": "code",
      "source": [
        "df_cluster_for_humans.iloc[10:15, :-1] # .iloc[40:45, :]"
      ],
      "metadata": {
        "id": "qGvaKgatwCXi",
        "colab": {
          "base_uri": "https://localhost:8080/",
          "height": 513
        },
        "outputId": "55c3eb19-cefc-47c2-9ab0-b77b9d69245a"
      },
      "execution_count": 34,
      "outputs": [
        {
          "output_type": "execute_result",
          "data": {
            "text/plain": [
              "                                                                                                    cluster_label cluster_label_k       cluster_topic_mix  cluster_label_int  subs_in_cluster_count  \\\n",
              "10                                                                             0006-0010-0015-0021-0021-0028-0029    k_0085_label              Technology                 29                      6   \n",
              "11                                                    0006-0010-0017-0023-0023-0031-0032-0040-0115-0227-0331-0377    k_1065_label                  Gaming                377                      6   \n",
              "12                                                                                                           0007    k_0013_label                   Place                  7                      4   \n",
              "13  0007-0011-0019-0026-0026-0035-0036-0046-0132-0265-0393-0443-0642-0757-0911-0969-1172-1302-1402-1529-1597-1622    k_3927_label                   Place               1622                     11   \n",
              "14                                                                                                      0007-0012    k_0023_label  Learning and Education                 12                      6   \n",
              "\n",
              "                                                                                             list_cluster_subreddit_names  \n",
              "10                                                         klussers, fanatec, hue, photogrammetry, homeassistant, eufycam  \n",
              "11                                           citiesskylines, shittyskylines, openrct2, rct, themeparkitect, planetcoaster  \n",
              "12                                                                                       suriname, expats, aruba, curacao  \n",
              "13  maastricht, eindhoven, utrecht, enschede, groningen, nijmegen, thehague, rotterdam, amsterdam, netherlands, antwerpen  \n",
              "14                                        studyinthenetherlands, tudelft, dutchfire, geldzaken, beleggen, juridischadvies  "
            ],
            "text/html": [
              "\n",
              "  <div id=\"df-510f001b-5816-4ac4-9db8-cfee67fd1141\">\n",
              "    <div class=\"colab-df-container\">\n",
              "      <div>\n",
              "<style scoped>\n",
              "    .dataframe tbody tr th:only-of-type {\n",
              "        vertical-align: middle;\n",
              "    }\n",
              "\n",
              "    .dataframe tbody tr th {\n",
              "        vertical-align: top;\n",
              "    }\n",
              "\n",
              "    .dataframe thead th {\n",
              "        text-align: right;\n",
              "    }\n",
              "</style>\n",
              "<table border=\"1\" class=\"dataframe\">\n",
              "  <thead>\n",
              "    <tr style=\"text-align: right;\">\n",
              "      <th></th>\n",
              "      <th>cluster_label</th>\n",
              "      <th>cluster_label_k</th>\n",
              "      <th>cluster_topic_mix</th>\n",
              "      <th>cluster_label_int</th>\n",
              "      <th>subs_in_cluster_count</th>\n",
              "      <th>list_cluster_subreddit_names</th>\n",
              "    </tr>\n",
              "  </thead>\n",
              "  <tbody>\n",
              "    <tr>\n",
              "      <th>10</th>\n",
              "      <td>0006-0010-0015-0021-0021-0028-0029</td>\n",
              "      <td>k_0085_label</td>\n",
              "      <td>Technology</td>\n",
              "      <td>29</td>\n",
              "      <td>6</td>\n",
              "      <td>klussers, fanatec, hue, photogrammetry, homeassistant, eufycam</td>\n",
              "    </tr>\n",
              "    <tr>\n",
              "      <th>11</th>\n",
              "      <td>0006-0010-0017-0023-0023-0031-0032-0040-0115-0227-0331-0377</td>\n",
              "      <td>k_1065_label</td>\n",
              "      <td>Gaming</td>\n",
              "      <td>377</td>\n",
              "      <td>6</td>\n",
              "      <td>citiesskylines, shittyskylines, openrct2, rct, themeparkitect, planetcoaster</td>\n",
              "    </tr>\n",
              "    <tr>\n",
              "      <th>12</th>\n",
              "      <td>0007</td>\n",
              "      <td>k_0013_label</td>\n",
              "      <td>Place</td>\n",
              "      <td>7</td>\n",
              "      <td>4</td>\n",
              "      <td>suriname, expats, aruba, curacao</td>\n",
              "    </tr>\n",
              "    <tr>\n",
              "      <th>13</th>\n",
              "      <td>0007-0011-0019-0026-0026-0035-0036-0046-0132-0265-0393-0443-0642-0757-0911-0969-1172-1302-1402-1529-1597-1622</td>\n",
              "      <td>k_3927_label</td>\n",
              "      <td>Place</td>\n",
              "      <td>1622</td>\n",
              "      <td>11</td>\n",
              "      <td>maastricht, eindhoven, utrecht, enschede, groningen, nijmegen, thehague, rotterdam, amsterdam, netherlands, antwerpen</td>\n",
              "    </tr>\n",
              "    <tr>\n",
              "      <th>14</th>\n",
              "      <td>0007-0012</td>\n",
              "      <td>k_0023_label</td>\n",
              "      <td>Learning and Education</td>\n",
              "      <td>12</td>\n",
              "      <td>6</td>\n",
              "      <td>studyinthenetherlands, tudelft, dutchfire, geldzaken, beleggen, juridischadvies</td>\n",
              "    </tr>\n",
              "  </tbody>\n",
              "</table>\n",
              "</div>\n",
              "      <button class=\"colab-df-convert\" onclick=\"convertToInteractive('df-510f001b-5816-4ac4-9db8-cfee67fd1141')\"\n",
              "              title=\"Convert this dataframe to an interactive table.\"\n",
              "              style=\"display:none;\">\n",
              "        \n",
              "  <svg xmlns=\"http://www.w3.org/2000/svg\" height=\"24px\"viewBox=\"0 0 24 24\"\n",
              "       width=\"24px\">\n",
              "    <path d=\"M0 0h24v24H0V0z\" fill=\"none\"/>\n",
              "    <path d=\"M18.56 5.44l.94 2.06.94-2.06 2.06-.94-2.06-.94-.94-2.06-.94 2.06-2.06.94zm-11 1L8.5 8.5l.94-2.06 2.06-.94-2.06-.94L8.5 2.5l-.94 2.06-2.06.94zm10 10l.94 2.06.94-2.06 2.06-.94-2.06-.94-.94-2.06-.94 2.06-2.06.94z\"/><path d=\"M17.41 7.96l-1.37-1.37c-.4-.4-.92-.59-1.43-.59-.52 0-1.04.2-1.43.59L10.3 9.45l-7.72 7.72c-.78.78-.78 2.05 0 2.83L4 21.41c.39.39.9.59 1.41.59.51 0 1.02-.2 1.41-.59l7.78-7.78 2.81-2.81c.8-.78.8-2.07 0-2.86zM5.41 20L4 18.59l7.72-7.72 1.47 1.35L5.41 20z\"/>\n",
              "  </svg>\n",
              "      </button>\n",
              "      \n",
              "  <style>\n",
              "    .colab-df-container {\n",
              "      display:flex;\n",
              "      flex-wrap:wrap;\n",
              "      gap: 12px;\n",
              "    }\n",
              "\n",
              "    .colab-df-convert {\n",
              "      background-color: #E8F0FE;\n",
              "      border: none;\n",
              "      border-radius: 50%;\n",
              "      cursor: pointer;\n",
              "      display: none;\n",
              "      fill: #1967D2;\n",
              "      height: 32px;\n",
              "      padding: 0 0 0 0;\n",
              "      width: 32px;\n",
              "    }\n",
              "\n",
              "    .colab-df-convert:hover {\n",
              "      background-color: #E2EBFA;\n",
              "      box-shadow: 0px 1px 2px rgba(60, 64, 67, 0.3), 0px 1px 3px 1px rgba(60, 64, 67, 0.15);\n",
              "      fill: #174EA6;\n",
              "    }\n",
              "\n",
              "    [theme=dark] .colab-df-convert {\n",
              "      background-color: #3B4455;\n",
              "      fill: #D2E3FC;\n",
              "    }\n",
              "\n",
              "    [theme=dark] .colab-df-convert:hover {\n",
              "      background-color: #434B5C;\n",
              "      box-shadow: 0px 1px 3px 1px rgba(0, 0, 0, 0.15);\n",
              "      filter: drop-shadow(0px 1px 2px rgba(0, 0, 0, 0.3));\n",
              "      fill: #FFFFFF;\n",
              "    }\n",
              "  </style>\n",
              "\n",
              "      <script>\n",
              "        const buttonEl =\n",
              "          document.querySelector('#df-510f001b-5816-4ac4-9db8-cfee67fd1141 button.colab-df-convert');\n",
              "        buttonEl.style.display =\n",
              "          google.colab.kernel.accessAllowed ? 'block' : 'none';\n",
              "\n",
              "        async function convertToInteractive(key) {\n",
              "          const element = document.querySelector('#df-510f001b-5816-4ac4-9db8-cfee67fd1141');\n",
              "          const dataTable =\n",
              "            await google.colab.kernel.invokeFunction('convertToInteractive',\n",
              "                                                     [key], {});\n",
              "          if (!dataTable) return;\n",
              "\n",
              "          const docLinkHtml = 'Like what you see? Visit the ' +\n",
              "            '<a target=\"_blank\" href=https://colab.research.google.com/notebooks/data_table.ipynb>data table notebook</a>'\n",
              "            + ' to learn more about interactive tables.';\n",
              "          element.innerHTML = '';\n",
              "          dataTable['output_type'] = 'display_data';\n",
              "          await google.colab.output.renderOutput(dataTable, element);\n",
              "          const docLink = document.createElement('div');\n",
              "          docLink.innerHTML = docLinkHtml;\n",
              "          element.appendChild(docLink);\n",
              "        }\n",
              "      </script>\n",
              "    </div>\n",
              "  </div>\n",
              "  "
            ]
          },
          "metadata": {},
          "execution_count": 34
        }
      ]
    },
    {
      "cell_type": "code",
      "source": [
        "# df_cluster_for_humans.tail(9)"
      ],
      "metadata": {
        "id": "RMqkvKDYwro-"
      },
      "execution_count": null,
      "outputs": []
    },
    {
      "cell_type": "markdown",
      "source": [
        "### Check clusters that have mature topics\n",
        "\n",
        "Make a list of cluster IDs to exclude for clean df"
      ],
      "metadata": {
        "id": "WP54A2--e79X"
      }
    },
    {
      "cell_type": "code",
      "source": [
        "mask_mature_clusters_ = (\n",
        "    df_cluster_for_humans[col_new_cluster_topic_mix].str.lower()\n",
        "    .str.contains('mature')\n",
        ")\n",
        "print(f\"{mask_mature_clusters_.sum()} <- clusters with 'Mature' in topic mix\")"
      ],
      "metadata": {
        "id": "akSL1VXoTSjs",
        "colab": {
          "base_uri": "https://localhost:8080/"
        },
        "outputId": "19d56e36-3ca8-493b-eb03-380d54b0d44d"
      },
      "execution_count": 35,
      "outputs": [
        {
          "output_type": "stream",
          "name": "stdout",
          "text": [
            "5 <- clusters with 'Mature' in topic mix\n"
          ]
        }
      ]
    },
    {
      "cell_type": "code",
      "source": [
        "# check the first few clusters\n",
        "(\n",
        "    df_cluster_for_humans\n",
        "    [mask_mature_clusters_]\n",
        "    .iloc[:5, :-1]\n",
        ")"
      ],
      "metadata": {
        "id": "JR1tE0wyTShf",
        "colab": {
          "base_uri": "https://localhost:8080/",
          "height": 426
        },
        "outputId": "391061d2-9c04-491a-c631-dbcbbb77b119"
      },
      "execution_count": 36,
      "outputs": [
        {
          "output_type": "execute_result",
          "data": {
            "text/plain": [
              "                    cluster_label cluster_label_k                cluster_topic_mix  cluster_label_int  subs_in_cluster_count                                                                     list_cluster_subreddit_names\n",
              "0                            0001    k_0013_label  Mature Themes and Adult Content                  1                      5                                  deevanderzeeuw, quceehumor, lieszhara, lieszharax, nelphelanfan\n",
              "1   0001-0001-0003-0003-0003-0004    k_0079_label  Mature Themes and Adult Content                  4                      6           lingerielover, eotbdutch, exonthebeachtempafap, franciskweldam, jade_fap, chanelphelan\n",
              "2        0002-0002-0005-0005-0005    k_0063_label  Mature Themes and Adult Content                  5                      6  myronkoops_, myron_koops_sexy, myronkoops, jameciabakerfapnew, rosannavoorwald2, famkelouisefap\n",
              "3                            0004    k_0013_label  Mature Themes and Adult Content                  4                      1                                                                                        euro4euro\n",
              "16       0008-0014-0025-0034-0036    k_0063_label  Mature Themes and Adult Content                 36                      6               researchchemicalsnl, 2cb, researchchemicals, untappd, drinkinggames, amsterdaments"
            ],
            "text/html": [
              "\n",
              "  <div id=\"df-189dc070-9f0f-47b7-a20a-6159e8ce6159\">\n",
              "    <div class=\"colab-df-container\">\n",
              "      <div>\n",
              "<style scoped>\n",
              "    .dataframe tbody tr th:only-of-type {\n",
              "        vertical-align: middle;\n",
              "    }\n",
              "\n",
              "    .dataframe tbody tr th {\n",
              "        vertical-align: top;\n",
              "    }\n",
              "\n",
              "    .dataframe thead th {\n",
              "        text-align: right;\n",
              "    }\n",
              "</style>\n",
              "<table border=\"1\" class=\"dataframe\">\n",
              "  <thead>\n",
              "    <tr style=\"text-align: right;\">\n",
              "      <th></th>\n",
              "      <th>cluster_label</th>\n",
              "      <th>cluster_label_k</th>\n",
              "      <th>cluster_topic_mix</th>\n",
              "      <th>cluster_label_int</th>\n",
              "      <th>subs_in_cluster_count</th>\n",
              "      <th>list_cluster_subreddit_names</th>\n",
              "    </tr>\n",
              "  </thead>\n",
              "  <tbody>\n",
              "    <tr>\n",
              "      <th>0</th>\n",
              "      <td>0001</td>\n",
              "      <td>k_0013_label</td>\n",
              "      <td>Mature Themes and Adult Content</td>\n",
              "      <td>1</td>\n",
              "      <td>5</td>\n",
              "      <td>deevanderzeeuw, quceehumor, lieszhara, lieszharax, nelphelanfan</td>\n",
              "    </tr>\n",
              "    <tr>\n",
              "      <th>1</th>\n",
              "      <td>0001-0001-0003-0003-0003-0004</td>\n",
              "      <td>k_0079_label</td>\n",
              "      <td>Mature Themes and Adult Content</td>\n",
              "      <td>4</td>\n",
              "      <td>6</td>\n",
              "      <td>lingerielover, eotbdutch, exonthebeachtempafap, franciskweldam, jade_fap, chanelphelan</td>\n",
              "    </tr>\n",
              "    <tr>\n",
              "      <th>2</th>\n",
              "      <td>0002-0002-0005-0005-0005</td>\n",
              "      <td>k_0063_label</td>\n",
              "      <td>Mature Themes and Adult Content</td>\n",
              "      <td>5</td>\n",
              "      <td>6</td>\n",
              "      <td>myronkoops_, myron_koops_sexy, myronkoops, jameciabakerfapnew, rosannavoorwald2, famkelouisefap</td>\n",
              "    </tr>\n",
              "    <tr>\n",
              "      <th>3</th>\n",
              "      <td>0004</td>\n",
              "      <td>k_0013_label</td>\n",
              "      <td>Mature Themes and Adult Content</td>\n",
              "      <td>4</td>\n",
              "      <td>1</td>\n",
              "      <td>euro4euro</td>\n",
              "    </tr>\n",
              "    <tr>\n",
              "      <th>16</th>\n",
              "      <td>0008-0014-0025-0034-0036</td>\n",
              "      <td>k_0063_label</td>\n",
              "      <td>Mature Themes and Adult Content</td>\n",
              "      <td>36</td>\n",
              "      <td>6</td>\n",
              "      <td>researchchemicalsnl, 2cb, researchchemicals, untappd, drinkinggames, amsterdaments</td>\n",
              "    </tr>\n",
              "  </tbody>\n",
              "</table>\n",
              "</div>\n",
              "      <button class=\"colab-df-convert\" onclick=\"convertToInteractive('df-189dc070-9f0f-47b7-a20a-6159e8ce6159')\"\n",
              "              title=\"Convert this dataframe to an interactive table.\"\n",
              "              style=\"display:none;\">\n",
              "        \n",
              "  <svg xmlns=\"http://www.w3.org/2000/svg\" height=\"24px\"viewBox=\"0 0 24 24\"\n",
              "       width=\"24px\">\n",
              "    <path d=\"M0 0h24v24H0V0z\" fill=\"none\"/>\n",
              "    <path d=\"M18.56 5.44l.94 2.06.94-2.06 2.06-.94-2.06-.94-.94-2.06-.94 2.06-2.06.94zm-11 1L8.5 8.5l.94-2.06 2.06-.94-2.06-.94L8.5 2.5l-.94 2.06-2.06.94zm10 10l.94 2.06.94-2.06 2.06-.94-2.06-.94-.94-2.06-.94 2.06-2.06.94z\"/><path d=\"M17.41 7.96l-1.37-1.37c-.4-.4-.92-.59-1.43-.59-.52 0-1.04.2-1.43.59L10.3 9.45l-7.72 7.72c-.78.78-.78 2.05 0 2.83L4 21.41c.39.39.9.59 1.41.59.51 0 1.02-.2 1.41-.59l7.78-7.78 2.81-2.81c.8-.78.8-2.07 0-2.86zM5.41 20L4 18.59l7.72-7.72 1.47 1.35L5.41 20z\"/>\n",
              "  </svg>\n",
              "      </button>\n",
              "      \n",
              "  <style>\n",
              "    .colab-df-container {\n",
              "      display:flex;\n",
              "      flex-wrap:wrap;\n",
              "      gap: 12px;\n",
              "    }\n",
              "\n",
              "    .colab-df-convert {\n",
              "      background-color: #E8F0FE;\n",
              "      border: none;\n",
              "      border-radius: 50%;\n",
              "      cursor: pointer;\n",
              "      display: none;\n",
              "      fill: #1967D2;\n",
              "      height: 32px;\n",
              "      padding: 0 0 0 0;\n",
              "      width: 32px;\n",
              "    }\n",
              "\n",
              "    .colab-df-convert:hover {\n",
              "      background-color: #E2EBFA;\n",
              "      box-shadow: 0px 1px 2px rgba(60, 64, 67, 0.3), 0px 1px 3px 1px rgba(60, 64, 67, 0.15);\n",
              "      fill: #174EA6;\n",
              "    }\n",
              "\n",
              "    [theme=dark] .colab-df-convert {\n",
              "      background-color: #3B4455;\n",
              "      fill: #D2E3FC;\n",
              "    }\n",
              "\n",
              "    [theme=dark] .colab-df-convert:hover {\n",
              "      background-color: #434B5C;\n",
              "      box-shadow: 0px 1px 3px 1px rgba(0, 0, 0, 0.15);\n",
              "      filter: drop-shadow(0px 1px 2px rgba(0, 0, 0, 0.3));\n",
              "      fill: #FFFFFF;\n",
              "    }\n",
              "  </style>\n",
              "\n",
              "      <script>\n",
              "        const buttonEl =\n",
              "          document.querySelector('#df-189dc070-9f0f-47b7-a20a-6159e8ce6159 button.colab-df-convert');\n",
              "        buttonEl.style.display =\n",
              "          google.colab.kernel.accessAllowed ? 'block' : 'none';\n",
              "\n",
              "        async function convertToInteractive(key) {\n",
              "          const element = document.querySelector('#df-189dc070-9f0f-47b7-a20a-6159e8ce6159');\n",
              "          const dataTable =\n",
              "            await google.colab.kernel.invokeFunction('convertToInteractive',\n",
              "                                                     [key], {});\n",
              "          if (!dataTable) return;\n",
              "\n",
              "          const docLinkHtml = 'Like what you see? Visit the ' +\n",
              "            '<a target=\"_blank\" href=https://colab.research.google.com/notebooks/data_table.ipynb>data table notebook</a>'\n",
              "            + ' to learn more about interactive tables.';\n",
              "          element.innerHTML = '';\n",
              "          dataTable['output_type'] = 'display_data';\n",
              "          await google.colab.output.renderOutput(dataTable, element);\n",
              "          const docLink = document.createElement('div');\n",
              "          docLink.innerHTML = docLinkHtml;\n",
              "          element.appendChild(docLink);\n",
              "        }\n",
              "      </script>\n",
              "    </div>\n",
              "  </div>\n",
              "  "
            ]
          },
          "metadata": {},
          "execution_count": 36
        }
      ]
    },
    {
      "cell_type": "code",
      "source": [
        "# (\n",
        "#     df_cluster_for_humans\n",
        "#     [mask_mature_clusters_]\n",
        "#     .iloc[-12:, :]\n",
        "# )"
      ],
      "metadata": {
        "id": "QpbjWoLglRHv"
      },
      "execution_count": 37,
      "outputs": []
    },
    {
      "cell_type": "code",
      "source": [
        "# might need to re-import in order for updates to show up\n",
        "from subclu.models.reshape_clusters_v041 import _L_MATURE_CLUSTERS_TO_EXCLUDE_FROM_QA_, flag_mature_clusters_to_exclude_from_qa\n",
        "\n",
        "print(len(_L_MATURE_CLUSTERS_TO_EXCLUDE_FROM_QA_))\n",
        "_L_MATURE_CLUSTERS_TO_EXCLUDE_FROM_QA_[25:35]"
      ],
      "metadata": {
        "id": "5oSnItkCTSfT",
        "colab": {
          "base_uri": "https://localhost:8080/"
        },
        "outputId": "ded07801-335c-4da6-b086-a429e7c44faa"
      },
      "execution_count": 46,
      "outputs": [
        {
          "output_type": "stream",
          "name": "stdout",
          "text": [
            "72\n"
          ]
        },
        {
          "output_type": "execute_result",
          "data": {
            "text/plain": [
              "['0001-0001-0003-0003-0003-0004-0004-0004-0010-0019',\n",
              " '0001-0001-0003-0003-0003-0004-0005-0005',\n",
              " '0001-0001-0001-0001-0001-0002-0002-0002-0005-0009-0012-0014',\n",
              " '0001-0001-0002-0002-0002-0003-0003-0003-0009-0017',\n",
              " '0001-0001-0003-0003-0003-0004-0005-0005-0011-0020-0029',\n",
              " '0001-0001-0003-0003-0003-0004-0005-0005-0011-0020-0030',\n",
              " '0001-0001-0003-0003-0003-0004-0005-0005-0012',\n",
              " '0001-0001-0003-0003-0003-0004-0005-0005-0012-0022-0032',\n",
              " '0001-0001-0003-0003-0003-0004-0005-0005-0012-0023-0033',\n",
              " '0001-0001-0003-0003-0003-0004-0005-0005-0013']"
            ]
          },
          "metadata": {},
          "execution_count": 46
        }
      ]
    },
    {
      "cell_type": "code",
      "source": [
        "# sorted(_L_MATURE_CLUSTERS_TO_EXCLUDE_FROM_QA_)"
      ],
      "metadata": {
        "id": "3P87dpBgM0ab"
      },
      "execution_count": 47,
      "outputs": []
    },
    {
      "cell_type": "markdown",
      "source": [
        "### Add the flag to exclude from QA & the list of sub names to df-raw"
      ],
      "metadata": {
        "id": "jD5H2cNRsGnL"
      }
    },
    {
      "cell_type": "code",
      "source": [
        "val_exclude_from_qa = 'exclude from QA'\n",
        "col_exclude_from_qa = 'exclude_from_qa'\n",
        "\n",
        "\n",
        "df_cluster_for_humans[col_exclude_from_qa] = flag_mature_clusters_to_exclude_from_qa(\n",
        "    df_cluster_list=df_cluster_for_humans,\n",
        "    col_new_cluster_val=col_new_cluster_val,\n",
        "    col_exclude_from_qa=col_exclude_from_qa,\n",
        "    val_exclude_from_qa=val_exclude_from_qa,\n",
        "    list_known_nsfw_labels=_L_MATURE_CLUSTERS_TO_EXCLUDE_FROM_QA_,\n",
        "    depth_to_exclude=10,\n",
        "    verbose=True,\n",
        ")\n",
        "print(f\"{mask_mature_clusters_.sum()} <- clusters with 'Mature' in topic mix\")\n",
        "display(value_counts_and_pcts(df_cluster_for_humans[col_exclude_from_qa]))\n",
        "\n",
        "\n",
        "df_labels_target_dynamic_raw = (\n",
        "    df_labels_target_dynamic_raw\n",
        "    # drop in case we're re-assigning the values\n",
        "    .drop(\n",
        "        [c for c in [col_list_cluster_names, col_subs_in_cluster_count, col_exclude_from_qa] if c in df_labels_target_dynamic_raw.columns],\n",
        "        axis=1\n",
        "    )\n",
        "    .merge(\n",
        "        df_cluster_for_humans[[col_new_cluster_val, col_list_cluster_names, col_subs_in_cluster_count, col_exclude_from_qa]],\n",
        "        how='left',\n",
        "        on=[col_new_cluster_val],\n",
        "    )\n",
        ")\n",
        "\n",
        "df_labels_target_dynamic_raw.shape"
      ],
      "metadata": {
        "id": "dhabFk80TSdH",
        "colab": {
          "base_uri": "https://localhost:8080/",
          "height": 164
        },
        "outputId": "875266da-0ee8-4d9c-aecd-c257014acef1"
      },
      "execution_count": 48,
      "outputs": [
        {
          "output_type": "stream",
          "name": "stdout",
          "text": [
            "5 <- clusters with 'Mature' in topic mix\n"
          ]
        },
        {
          "output_type": "display_data",
          "data": {
            "text/plain": [
              "<pandas.io.formats.style.Styler at 0x7fc14aa77910>"
            ],
            "text/html": [
              "<style type=\"text/css\">\n",
              "#T_30725_row0_col1, #T_30725_row1_col2 {\n",
              "  width: 10em;\n",
              "  height: 80%;\n",
              "  background: linear-gradient(90deg,#95cff5 100.0%, transparent 100.0%);\n",
              "}\n",
              "#T_30725_row0_col2, #T_30725_row1_col1 {\n",
              "  width: 10em;\n",
              "  height: 80%;\n",
              "}\n",
              "</style>\n",
              "<table id=\"T_30725_\" class=\"dataframe\">\n",
              "  <thead>\n",
              "    <tr>\n",
              "      <th class=\"blank level0\" >&nbsp;</th>\n",
              "      <th class=\"col_heading level0 col0\" >exclude_from_qa-count</th>\n",
              "      <th class=\"col_heading level0 col1\" >exclude_from_qa-percent</th>\n",
              "      <th class=\"col_heading level0 col2\" >exclude_from_qa-pct_cumulative_sum</th>\n",
              "    </tr>\n",
              "  </thead>\n",
              "  <tbody>\n",
              "    <tr>\n",
              "      <th id=\"T_30725_level0_row0\" class=\"row_heading level0 row0\" >keep</th>\n",
              "      <td id=\"T_30725_row0_col0\" class=\"data row0 col0\" >27</td>\n",
              "      <td id=\"T_30725_row0_col1\" class=\"data row0 col1\" >87.1%</td>\n",
              "      <td id=\"T_30725_row0_col2\" class=\"data row0 col2\" >87.1%</td>\n",
              "    </tr>\n",
              "    <tr>\n",
              "      <th id=\"T_30725_level0_row1\" class=\"row_heading level0 row1\" >exclude from QA</th>\n",
              "      <td id=\"T_30725_row1_col0\" class=\"data row1 col0\" >4</td>\n",
              "      <td id=\"T_30725_row1_col1\" class=\"data row1 col1\" >12.9%</td>\n",
              "      <td id=\"T_30725_row1_col2\" class=\"data row1 col2\" >100.0%</td>\n",
              "    </tr>\n",
              "  </tbody>\n",
              "</table>\n"
            ]
          },
          "metadata": {}
        },
        {
          "output_type": "execute_result",
          "data": {
            "text/plain": [
              "(197, 128)"
            ]
          },
          "metadata": {},
          "execution_count": 48
        }
      ]
    },
    {
      "cell_type": "code",
      "source": [
        "mask_mature_clusters_ = (\n",
        "    df_cluster_for_humans[col_new_cluster_topic_mix].str.lower()\n",
        "    .str.contains('mature')\n",
        ")\n",
        "print(f\"{mask_mature_clusters_.sum()} <- clusters with 'Mature' in topic mix\")\n",
        "\n",
        "mask_keep_clusters = (\n",
        "    df_cluster_for_humans[col_exclude_from_qa] != val_exclude_from_qa\n",
        ")\n",
        "\n",
        "print(f\"\\nCluster IDs that are mature but kept:\")\n",
        "# get list of cluster-IDs to add to exclude to mature list\n",
        "(\n",
        "    df_cluster_for_humans\n",
        "    [mask_mature_clusters_ & mask_keep_clusters]\n",
        "    ['cluster_label']\n",
        "    .values\n",
        "    [:15]\n",
        ")"
      ],
      "metadata": {
        "colab": {
          "base_uri": "https://localhost:8080/"
        },
        "id": "SjMaD-Rc7dDH",
        "outputId": "5b788ec7-40bc-4232-ad05-81f2dcdcd0ac"
      },
      "execution_count": 49,
      "outputs": [
        {
          "output_type": "stream",
          "name": "stdout",
          "text": [
            "5 <- clusters with 'Mature' in topic mix\n",
            "\n",
            "Cluster IDs that are mature but kept:\n"
          ]
        },
        {
          "output_type": "execute_result",
          "data": {
            "text/plain": [
              "array(['0008-0014-0025-0034-0036'], dtype=object)"
            ]
          },
          "metadata": {},
          "execution_count": 49
        }
      ]
    },
    {
      "cell_type": "code",
      "source": [
        "(\n",
        "    df_cluster_for_humans\n",
        "    [mask_mature_clusters_ & mask_keep_clusters]\n",
        "    .iloc[:5, :]\n",
        ")"
      ],
      "metadata": {
        "colab": {
          "base_uri": "https://localhost:8080/",
          "height": 179
        },
        "id": "cpZtkJ57zA0h",
        "outputId": "5729a7a0-0734-4974-ff7a-6f1264f7c9f4"
      },
      "execution_count": 50,
      "outputs": [
        {
          "output_type": "execute_result",
          "data": {
            "text/plain": [
              "               cluster_label cluster_label_k                cluster_topic_mix  cluster_label_int  subs_in_cluster_count                                                        list_cluster_subreddit_names                                   list_cluster_subreddit_ids exclude_from_qa\n",
              "16  0008-0014-0025-0034-0036    k_0063_label  Mature Themes and Adult Content                 36                      6  researchchemicalsnl, 2cb, researchchemicals, untappd, drinkinggames, amsterdaments  t5_2hcwfn, t5_2xazx, t5_2rhqm, t5_2vnul, t5_2qmza, t5_2vnvc            keep"
            ],
            "text/html": [
              "\n",
              "  <div id=\"df-0471673e-ab61-4d84-a2d6-1feeb721a4a4\">\n",
              "    <div class=\"colab-df-container\">\n",
              "      <div>\n",
              "<style scoped>\n",
              "    .dataframe tbody tr th:only-of-type {\n",
              "        vertical-align: middle;\n",
              "    }\n",
              "\n",
              "    .dataframe tbody tr th {\n",
              "        vertical-align: top;\n",
              "    }\n",
              "\n",
              "    .dataframe thead th {\n",
              "        text-align: right;\n",
              "    }\n",
              "</style>\n",
              "<table border=\"1\" class=\"dataframe\">\n",
              "  <thead>\n",
              "    <tr style=\"text-align: right;\">\n",
              "      <th></th>\n",
              "      <th>cluster_label</th>\n",
              "      <th>cluster_label_k</th>\n",
              "      <th>cluster_topic_mix</th>\n",
              "      <th>cluster_label_int</th>\n",
              "      <th>subs_in_cluster_count</th>\n",
              "      <th>list_cluster_subreddit_names</th>\n",
              "      <th>list_cluster_subreddit_ids</th>\n",
              "      <th>exclude_from_qa</th>\n",
              "    </tr>\n",
              "  </thead>\n",
              "  <tbody>\n",
              "    <tr>\n",
              "      <th>16</th>\n",
              "      <td>0008-0014-0025-0034-0036</td>\n",
              "      <td>k_0063_label</td>\n",
              "      <td>Mature Themes and Adult Content</td>\n",
              "      <td>36</td>\n",
              "      <td>6</td>\n",
              "      <td>researchchemicalsnl, 2cb, researchchemicals, untappd, drinkinggames, amsterdaments</td>\n",
              "      <td>t5_2hcwfn, t5_2xazx, t5_2rhqm, t5_2vnul, t5_2qmza, t5_2vnvc</td>\n",
              "      <td>keep</td>\n",
              "    </tr>\n",
              "  </tbody>\n",
              "</table>\n",
              "</div>\n",
              "      <button class=\"colab-df-convert\" onclick=\"convertToInteractive('df-0471673e-ab61-4d84-a2d6-1feeb721a4a4')\"\n",
              "              title=\"Convert this dataframe to an interactive table.\"\n",
              "              style=\"display:none;\">\n",
              "        \n",
              "  <svg xmlns=\"http://www.w3.org/2000/svg\" height=\"24px\"viewBox=\"0 0 24 24\"\n",
              "       width=\"24px\">\n",
              "    <path d=\"M0 0h24v24H0V0z\" fill=\"none\"/>\n",
              "    <path d=\"M18.56 5.44l.94 2.06.94-2.06 2.06-.94-2.06-.94-.94-2.06-.94 2.06-2.06.94zm-11 1L8.5 8.5l.94-2.06 2.06-.94-2.06-.94L8.5 2.5l-.94 2.06-2.06.94zm10 10l.94 2.06.94-2.06 2.06-.94-2.06-.94-.94-2.06-.94 2.06-2.06.94z\"/><path d=\"M17.41 7.96l-1.37-1.37c-.4-.4-.92-.59-1.43-.59-.52 0-1.04.2-1.43.59L10.3 9.45l-7.72 7.72c-.78.78-.78 2.05 0 2.83L4 21.41c.39.39.9.59 1.41.59.51 0 1.02-.2 1.41-.59l7.78-7.78 2.81-2.81c.8-.78.8-2.07 0-2.86zM5.41 20L4 18.59l7.72-7.72 1.47 1.35L5.41 20z\"/>\n",
              "  </svg>\n",
              "      </button>\n",
              "      \n",
              "  <style>\n",
              "    .colab-df-container {\n",
              "      display:flex;\n",
              "      flex-wrap:wrap;\n",
              "      gap: 12px;\n",
              "    }\n",
              "\n",
              "    .colab-df-convert {\n",
              "      background-color: #E8F0FE;\n",
              "      border: none;\n",
              "      border-radius: 50%;\n",
              "      cursor: pointer;\n",
              "      display: none;\n",
              "      fill: #1967D2;\n",
              "      height: 32px;\n",
              "      padding: 0 0 0 0;\n",
              "      width: 32px;\n",
              "    }\n",
              "\n",
              "    .colab-df-convert:hover {\n",
              "      background-color: #E2EBFA;\n",
              "      box-shadow: 0px 1px 2px rgba(60, 64, 67, 0.3), 0px 1px 3px 1px rgba(60, 64, 67, 0.15);\n",
              "      fill: #174EA6;\n",
              "    }\n",
              "\n",
              "    [theme=dark] .colab-df-convert {\n",
              "      background-color: #3B4455;\n",
              "      fill: #D2E3FC;\n",
              "    }\n",
              "\n",
              "    [theme=dark] .colab-df-convert:hover {\n",
              "      background-color: #434B5C;\n",
              "      box-shadow: 0px 1px 3px 1px rgba(0, 0, 0, 0.15);\n",
              "      filter: drop-shadow(0px 1px 2px rgba(0, 0, 0, 0.3));\n",
              "      fill: #FFFFFF;\n",
              "    }\n",
              "  </style>\n",
              "\n",
              "      <script>\n",
              "        const buttonEl =\n",
              "          document.querySelector('#df-0471673e-ab61-4d84-a2d6-1feeb721a4a4 button.colab-df-convert');\n",
              "        buttonEl.style.display =\n",
              "          google.colab.kernel.accessAllowed ? 'block' : 'none';\n",
              "\n",
              "        async function convertToInteractive(key) {\n",
              "          const element = document.querySelector('#df-0471673e-ab61-4d84-a2d6-1feeb721a4a4');\n",
              "          const dataTable =\n",
              "            await google.colab.kernel.invokeFunction('convertToInteractive',\n",
              "                                                     [key], {});\n",
              "          if (!dataTable) return;\n",
              "\n",
              "          const docLinkHtml = 'Like what you see? Visit the ' +\n",
              "            '<a target=\"_blank\" href=https://colab.research.google.com/notebooks/data_table.ipynb>data table notebook</a>'\n",
              "            + ' to learn more about interactive tables.';\n",
              "          element.innerHTML = '';\n",
              "          dataTable['output_type'] = 'display_data';\n",
              "          await google.colab.output.renderOutput(dataTable, element);\n",
              "          const docLink = document.createElement('div');\n",
              "          docLink.innerHTML = docLinkHtml;\n",
              "          element.appendChild(docLink);\n",
              "        }\n",
              "      </script>\n",
              "    </div>\n",
              "  </div>\n",
              "  "
            ]
          },
          "metadata": {},
          "execution_count": 50
        }
      ]
    },
    {
      "cell_type": "markdown",
      "source": [
        "## Create new df_clean \n",
        "\n",
        "- Add list of subreddits to target-CLEAN, b/c we'll need it for rating final\n",
        "- Add new columns & update order\n"
      ],
      "metadata": {
        "id": "gnZ54MunsirK"
      }
    },
    {
      "cell_type": "markdown",
      "source": [
        "### Copy baseline cols for clean"
      ],
      "metadata": {
        "id": "FD0w863Gx5sN"
      }
    },
    {
      "cell_type": "code",
      "source": [
        "col_model_sort_order = 'model_sort_order'\n",
        "\n",
        "df_labels_target_dynamic_raw, df_labels_target_dynamic_clean = create_dynamic_clusters_clean(\n",
        "    df_dynamic_raw=df_labels_target_dynamic_raw,\n",
        "    col_new_cluster_val=col_new_cluster_val,\n",
        "    col_new_cluster_name=col_new_cluster_name,\n",
        "    col_new_cluster_prim_topic=col_new_cluster_prim_topic,\n",
        "    col_new_cluster_topic_mix=col_new_cluster_topic_mix,\n",
        "    col_subreddit_topic_mix=col_subreddit_topic_mix,\n",
        ")\n",
        "\n",
        "# check num of orphans for clean\n",
        "display(style_df_numeric(\n",
        "    get_dynamic_cluster_summary(\n",
        "        df_labels_target_dynamic_clean.rename(columns={c: c.replace(' ', '_') for c in df_labels_target_dynamic_clean.columns}),\n",
        "        return_dict=False,\n",
        "    ),\n",
        "    rename_cols_for_display=True,\n",
        ").set_caption(f\"Summary for df-CLEAN\"))\n",
        "\n",
        "\n",
        "# print(f\"{len(l_cols_clean_final_for_qa)} <- expected final col count\")\n",
        "print(f\"{df_labels_target_dynamic_raw.shape} <- df raw shape\")\n",
        "print(f\"{df_labels_target_dynamic_clean.shape} <- df clean shape\")"
      ],
      "metadata": {
        "colab": {
          "base_uri": "https://localhost:8080/",
          "height": 234
        },
        "id": "LbAqbw3f_dNS",
        "outputId": "9773f7e4-a24f-4f74-f9bd-1d73225beee9"
      },
      "execution_count": 51,
      "outputs": [
        {
          "output_type": "display_data",
          "data": {
            "text/plain": [
              "<pandas.io.formats.style.Styler at 0x7fc16f257210>"
            ],
            "text/html": [
              "<style type=\"text/css\">\n",
              "</style>\n",
              "<table id=\"T_46bbe_\" class=\"dataframe\">\n",
              "  <caption>Summary for df-CLEAN</caption>\n",
              "  <thead>\n",
              "    <tr>\n",
              "      <th class=\"blank level0\" >&nbsp;</th>\n",
              "      <th class=\"col_heading level0 col0\" >cluster count</th>\n",
              "      <th class=\"col_heading level0 col1\" >num orphan subreddits</th>\n",
              "      <th class=\"col_heading level0 col2\" >num subreddits per cluster min</th>\n",
              "      <th class=\"col_heading level0 col3\" >num subreddits per cluster mean</th>\n",
              "      <th class=\"col_heading level0 col4\" >num subreddits per cluster median</th>\n",
              "      <th class=\"col_heading level0 col5\" >num subreddits per cluster max</th>\n",
              "      <th class=\"col_heading level0 col6\" >num clusters with mature primary topic</th>\n",
              "      <th class=\"col_heading level0 col7\" >cluster ids with orphans</th>\n",
              "    </tr>\n",
              "    <tr>\n",
              "      <th class=\"index_name level0\" ></th>\n",
              "      <th class=\"blank col0\" >&nbsp;</th>\n",
              "      <th class=\"blank col1\" >&nbsp;</th>\n",
              "      <th class=\"blank col2\" >&nbsp;</th>\n",
              "      <th class=\"blank col3\" >&nbsp;</th>\n",
              "      <th class=\"blank col4\" >&nbsp;</th>\n",
              "      <th class=\"blank col5\" >&nbsp;</th>\n",
              "      <th class=\"blank col6\" >&nbsp;</th>\n",
              "      <th class=\"blank col7\" >&nbsp;</th>\n",
              "    </tr>\n",
              "  </thead>\n",
              "  <tbody>\n",
              "    <tr>\n",
              "      <th id=\"T_46bbe_level0_row0\" class=\"row_heading level0 row0\" >0</th>\n",
              "      <td id=\"T_46bbe_row0_col0\" class=\"data row0 col0\" >27</td>\n",
              "      <td id=\"T_46bbe_row0_col1\" class=\"data row0 col1\" >0</td>\n",
              "      <td id=\"T_46bbe_row0_col2\" class=\"data row0 col2\" >2</td>\n",
              "      <td id=\"T_46bbe_row0_col3\" class=\"data row0 col3\" >6.63</td>\n",
              "      <td id=\"T_46bbe_row0_col4\" class=\"data row0 col4\" >6.00</td>\n",
              "      <td id=\"T_46bbe_row0_col5\" class=\"data row0 col5\" >12</td>\n",
              "      <td id=\"T_46bbe_row0_col6\" class=\"data row0 col6\" >1</td>\n",
              "      <td id=\"T_46bbe_row0_col7\" class=\"data row0 col7\" ></td>\n",
              "    </tr>\n",
              "  </tbody>\n",
              "</table>\n"
            ]
          },
          "metadata": {}
        },
        {
          "output_type": "stream",
          "name": "stdout",
          "text": [
            "(197, 130) <- df raw shape\n",
            "(179, 33) <- df clean shape\n"
          ]
        }
      ]
    },
    {
      "cell_type": "code",
      "source": [
        "# [c for c in df_labels_target_dynamic_clean.columns if 'cluster' in c]"
      ],
      "metadata": {
        "id": "_Q2LndoMAZzI"
      },
      "execution_count": 52,
      "outputs": []
    },
    {
      "cell_type": "code",
      "source": [
        "# df_labels_target_dynamic_clean.iloc[:5, :29]"
      ],
      "metadata": {
        "id": "HghBNA7W4UkV"
      },
      "execution_count": 53,
      "outputs": []
    },
    {
      "cell_type": "code",
      "source": [
        "# df_labels_target_dynamic_clean.iloc[:5, -10:]"
      ],
      "metadata": {
        "id": "v14QI4qWA68_"
      },
      "execution_count": 54,
      "outputs": []
    },
    {
      "cell_type": "markdown",
      "source": [
        "## Create target to target list for FPR example"
      ],
      "metadata": {
        "id": "tCRkN1pE91ed"
      }
    },
    {
      "cell_type": "code",
      "source": [
        "%%time\n",
        "print(datetime.utcnow())\n",
        "\n",
        "df_target_to_target_list = convert_distance_or_ab_to_list_for_fpr(\n",
        "    df_labels_target_dynamic_clean.rename(columns={c: c.replace(' ', '_') for c in df_labels_target_dynamic_clean.columns}),\n",
        "    convert_to_ab=True,\n",
        "    col_counterpart_count='counterpart_count',\n",
        "    col_list_cluster_names='list_cluster_subreddit_names',\n",
        "    col_list_cluster_ids='list_cluster_subreddit_ids',\n",
        "    l_cols_for_seeds=None,\n",
        "    l_cols_for_clusters=None,\n",
        "    col_new_cluster_val=col_new_cluster_val,\n",
        "    col_new_cluster_name=col_new_cluster_name,\n",
        "    col_new_cluster_prim_topic=col_new_cluster_prim_topic,\n",
        "    verbose=False,\n",
        ")\n",
        "df_target_to_target_list.shape"
      ],
      "metadata": {
        "id": "MLD4V-Qi95D3",
        "colab": {
          "base_uri": "https://localhost:8080/"
        },
        "outputId": "c23f2a13-54f7-47d4-af4f-6c04860894d2"
      },
      "execution_count": 55,
      "outputs": [
        {
          "output_type": "stream",
          "name": "stdout",
          "text": [
            "2022-04-07 02:14:00.743182\n",
            "  (1146, 9) <- df_ab.shape after removing matches to self\n",
            "  (160, 9) <- df_a_to_b.shape\n",
            "CPU times: user 32.3 ms, sys: 54 µs, total: 32.4 ms\n",
            "Wall time: 31.4 ms\n"
          ]
        }
      ]
    },
    {
      "cell_type": "code",
      "source": [
        "df_target_to_target_list.drop('list_cluster_subreddit_ids', axis=1).iloc[:5, :11]"
      ],
      "metadata": {
        "id": "uS41Lu2B-NbZ",
        "colab": {
          "base_uri": "https://localhost:8080/",
          "height": 426
        },
        "outputId": "9e75810e-9d4e-4116-f80f-f04c4741a25f"
      },
      "execution_count": 56,
      "outputs": [
        {
          "output_type": "execute_result",
          "data": {
            "text/plain": [
              "  subreddit_id_seed subreddit_name_seed                            cluster_label cluster_label_k primary_topic cluster_majority_primary_topic  counterpart_count                                                                                list_cluster_subreddit_names\n",
              "0          t5_331vx           ti84hacks                                     0006    k_0013_label    Technology                     Technology                  4                                                              super73, vanmoofbicycle, cowboybikes, bikerace\n",
              "1         t5_45ae4t        tplink_omada  0006-0008-0013-0017-0017-0021-0022-0026    k_0118_label    Technology                     Technology                 11         googlehome, pihole, intune, usenet, radarr, unifi, protonvpn, lastpass, f1tv, logitechharmony, heos\n",
              "2          t5_2rfb1               unifi  0006-0008-0013-0017-0017-0021-0022-0026    k_0118_label    Technology                     Technology                 11  googlehome, pihole, intune, usenet, radarr, protonvpn, lastpass, f1tv, logitechharmony, tplink_omada, heos\n",
              "3          t5_3i1z1           protonvpn  0006-0008-0013-0017-0017-0021-0022-0026    k_0118_label    Technology                     Technology                 11      googlehome, pihole, intune, usenet, radarr, unifi, lastpass, f1tv, logitechharmony, tplink_omada, heos\n",
              "4          t5_39spl              pihole  0006-0008-0013-0017-0017-0021-0022-0026    k_0118_label    Technology                     Technology                 11   googlehome, intune, usenet, radarr, unifi, protonvpn, lastpass, f1tv, logitechharmony, tplink_omada, heos"
            ],
            "text/html": [
              "\n",
              "  <div id=\"df-b7bc2e19-4e07-4bfb-97ce-58d1d9e71b3d\">\n",
              "    <div class=\"colab-df-container\">\n",
              "      <div>\n",
              "<style scoped>\n",
              "    .dataframe tbody tr th:only-of-type {\n",
              "        vertical-align: middle;\n",
              "    }\n",
              "\n",
              "    .dataframe tbody tr th {\n",
              "        vertical-align: top;\n",
              "    }\n",
              "\n",
              "    .dataframe thead th {\n",
              "        text-align: right;\n",
              "    }\n",
              "</style>\n",
              "<table border=\"1\" class=\"dataframe\">\n",
              "  <thead>\n",
              "    <tr style=\"text-align: right;\">\n",
              "      <th></th>\n",
              "      <th>subreddit_id_seed</th>\n",
              "      <th>subreddit_name_seed</th>\n",
              "      <th>cluster_label</th>\n",
              "      <th>cluster_label_k</th>\n",
              "      <th>primary_topic</th>\n",
              "      <th>cluster_majority_primary_topic</th>\n",
              "      <th>counterpart_count</th>\n",
              "      <th>list_cluster_subreddit_names</th>\n",
              "    </tr>\n",
              "  </thead>\n",
              "  <tbody>\n",
              "    <tr>\n",
              "      <th>0</th>\n",
              "      <td>t5_331vx</td>\n",
              "      <td>ti84hacks</td>\n",
              "      <td>0006</td>\n",
              "      <td>k_0013_label</td>\n",
              "      <td>Technology</td>\n",
              "      <td>Technology</td>\n",
              "      <td>4</td>\n",
              "      <td>super73, vanmoofbicycle, cowboybikes, bikerace</td>\n",
              "    </tr>\n",
              "    <tr>\n",
              "      <th>1</th>\n",
              "      <td>t5_45ae4t</td>\n",
              "      <td>tplink_omada</td>\n",
              "      <td>0006-0008-0013-0017-0017-0021-0022-0026</td>\n",
              "      <td>k_0118_label</td>\n",
              "      <td>Technology</td>\n",
              "      <td>Technology</td>\n",
              "      <td>11</td>\n",
              "      <td>googlehome, pihole, intune, usenet, radarr, unifi, protonvpn, lastpass, f1tv, logitechharmony, heos</td>\n",
              "    </tr>\n",
              "    <tr>\n",
              "      <th>2</th>\n",
              "      <td>t5_2rfb1</td>\n",
              "      <td>unifi</td>\n",
              "      <td>0006-0008-0013-0017-0017-0021-0022-0026</td>\n",
              "      <td>k_0118_label</td>\n",
              "      <td>Technology</td>\n",
              "      <td>Technology</td>\n",
              "      <td>11</td>\n",
              "      <td>googlehome, pihole, intune, usenet, radarr, protonvpn, lastpass, f1tv, logitechharmony, tplink_omada, heos</td>\n",
              "    </tr>\n",
              "    <tr>\n",
              "      <th>3</th>\n",
              "      <td>t5_3i1z1</td>\n",
              "      <td>protonvpn</td>\n",
              "      <td>0006-0008-0013-0017-0017-0021-0022-0026</td>\n",
              "      <td>k_0118_label</td>\n",
              "      <td>Technology</td>\n",
              "      <td>Technology</td>\n",
              "      <td>11</td>\n",
              "      <td>googlehome, pihole, intune, usenet, radarr, unifi, lastpass, f1tv, logitechharmony, tplink_omada, heos</td>\n",
              "    </tr>\n",
              "    <tr>\n",
              "      <th>4</th>\n",
              "      <td>t5_39spl</td>\n",
              "      <td>pihole</td>\n",
              "      <td>0006-0008-0013-0017-0017-0021-0022-0026</td>\n",
              "      <td>k_0118_label</td>\n",
              "      <td>Technology</td>\n",
              "      <td>Technology</td>\n",
              "      <td>11</td>\n",
              "      <td>googlehome, intune, usenet, radarr, unifi, protonvpn, lastpass, f1tv, logitechharmony, tplink_omada, heos</td>\n",
              "    </tr>\n",
              "  </tbody>\n",
              "</table>\n",
              "</div>\n",
              "      <button class=\"colab-df-convert\" onclick=\"convertToInteractive('df-b7bc2e19-4e07-4bfb-97ce-58d1d9e71b3d')\"\n",
              "              title=\"Convert this dataframe to an interactive table.\"\n",
              "              style=\"display:none;\">\n",
              "        \n",
              "  <svg xmlns=\"http://www.w3.org/2000/svg\" height=\"24px\"viewBox=\"0 0 24 24\"\n",
              "       width=\"24px\">\n",
              "    <path d=\"M0 0h24v24H0V0z\" fill=\"none\"/>\n",
              "    <path d=\"M18.56 5.44l.94 2.06.94-2.06 2.06-.94-2.06-.94-.94-2.06-.94 2.06-2.06.94zm-11 1L8.5 8.5l.94-2.06 2.06-.94-2.06-.94L8.5 2.5l-.94 2.06-2.06.94zm10 10l.94 2.06.94-2.06 2.06-.94-2.06-.94-.94-2.06-.94 2.06-2.06.94z\"/><path d=\"M17.41 7.96l-1.37-1.37c-.4-.4-.92-.59-1.43-.59-.52 0-1.04.2-1.43.59L10.3 9.45l-7.72 7.72c-.78.78-.78 2.05 0 2.83L4 21.41c.39.39.9.59 1.41.59.51 0 1.02-.2 1.41-.59l7.78-7.78 2.81-2.81c.8-.78.8-2.07 0-2.86zM5.41 20L4 18.59l7.72-7.72 1.47 1.35L5.41 20z\"/>\n",
              "  </svg>\n",
              "      </button>\n",
              "      \n",
              "  <style>\n",
              "    .colab-df-container {\n",
              "      display:flex;\n",
              "      flex-wrap:wrap;\n",
              "      gap: 12px;\n",
              "    }\n",
              "\n",
              "    .colab-df-convert {\n",
              "      background-color: #E8F0FE;\n",
              "      border: none;\n",
              "      border-radius: 50%;\n",
              "      cursor: pointer;\n",
              "      display: none;\n",
              "      fill: #1967D2;\n",
              "      height: 32px;\n",
              "      padding: 0 0 0 0;\n",
              "      width: 32px;\n",
              "    }\n",
              "\n",
              "    .colab-df-convert:hover {\n",
              "      background-color: #E2EBFA;\n",
              "      box-shadow: 0px 1px 2px rgba(60, 64, 67, 0.3), 0px 1px 3px 1px rgba(60, 64, 67, 0.15);\n",
              "      fill: #174EA6;\n",
              "    }\n",
              "\n",
              "    [theme=dark] .colab-df-convert {\n",
              "      background-color: #3B4455;\n",
              "      fill: #D2E3FC;\n",
              "    }\n",
              "\n",
              "    [theme=dark] .colab-df-convert:hover {\n",
              "      background-color: #434B5C;\n",
              "      box-shadow: 0px 1px 3px 1px rgba(0, 0, 0, 0.15);\n",
              "      filter: drop-shadow(0px 1px 2px rgba(0, 0, 0, 0.3));\n",
              "      fill: #FFFFFF;\n",
              "    }\n",
              "  </style>\n",
              "\n",
              "      <script>\n",
              "        const buttonEl =\n",
              "          document.querySelector('#df-b7bc2e19-4e07-4bfb-97ce-58d1d9e71b3d button.colab-df-convert');\n",
              "        buttonEl.style.display =\n",
              "          google.colab.kernel.accessAllowed ? 'block' : 'none';\n",
              "\n",
              "        async function convertToInteractive(key) {\n",
              "          const element = document.querySelector('#df-b7bc2e19-4e07-4bfb-97ce-58d1d9e71b3d');\n",
              "          const dataTable =\n",
              "            await google.colab.kernel.invokeFunction('convertToInteractive',\n",
              "                                                     [key], {});\n",
              "          if (!dataTable) return;\n",
              "\n",
              "          const docLinkHtml = 'Like what you see? Visit the ' +\n",
              "            '<a target=\"_blank\" href=https://colab.research.google.com/notebooks/data_table.ipynb>data table notebook</a>'\n",
              "            + ' to learn more about interactive tables.';\n",
              "          element.innerHTML = '';\n",
              "          dataTable['output_type'] = 'display_data';\n",
              "          await google.colab.output.renderOutput(dataTable, element);\n",
              "          const docLink = document.createElement('div');\n",
              "          docLink.innerHTML = docLinkHtml;\n",
              "          element.appendChild(docLink);\n",
              "        }\n",
              "      </script>\n",
              "    </div>\n",
              "  </div>\n",
              "  "
            ]
          },
          "metadata": {},
          "execution_count": 56
        }
      ]
    },
    {
      "cell_type": "markdown",
      "source": [
        "# Export data\n",
        "\n",
        "Note that we have to use `fillna('')`\n",
        "\n",
        "Otherwise, we'll get errors because the gspread library doesn't know how to handle `pd.NaN` or `np.Nan` (nulls)."
      ],
      "metadata": {
        "id": "QonFJ94zsiPt"
      }
    },
    {
      "cell_type": "markdown",
      "source": [
        "## Define variables to create/access google sheet doc & worksheets\n",
        "\n",
        "Moved the defintion to the top of the sheet so it's easier to automate."
      ],
      "metadata": {
        "id": "CEZc0dvPvP90"
      }
    },
    {
      "cell_type": "markdown",
      "source": [
        "## Save: Clean sheet to rate"
      ],
      "metadata": {
        "id": "mVo2hYJGvKbT"
      }
    },
    {
      "cell_type": "code",
      "source": [
        "d_wsh_names.keys()"
      ],
      "metadata": {
        "id": "3IUGveAo7J8Y",
        "colab": {
          "base_uri": "https://localhost:8080/"
        },
        "outputId": "1613fadb-27a6-4491-a187-9d035636bcb6"
      },
      "execution_count": 57,
      "outputs": [
        {
          "output_type": "execute_result",
          "data": {
            "text/plain": [
              "dict_keys(['qa_ready', 'clusters_t2t_list_raw', 'clusters_t2t_fpr_after_qa', 'sub_raw'])"
            ]
          },
          "metadata": {},
          "execution_count": 57
        }
      ]
    },
    {
      "cell_type": "code",
      "source": [
        "%%time\n",
        "print(datetime.utcnow())\n",
        "(\n",
        "    d_wsh_names['qa_ready']['worksheet']\n",
        "    .update([df_labels_target_dynamic_clean.columns.values.tolist()] + \n",
        "             df_labels_target_dynamic_clean.fillna('').values.tolist())\n",
        ")"
      ],
      "metadata": {
        "id": "BQSfRQJ8shyI",
        "colab": {
          "base_uri": "https://localhost:8080/"
        },
        "outputId": "e3eb54a9-cc94-41cf-d84f-4417ee47ff68"
      },
      "execution_count": 58,
      "outputs": [
        {
          "output_type": "stream",
          "name": "stdout",
          "text": [
            "2022-04-07 02:14:24.553449\n",
            "CPU times: user 34.9 ms, sys: 0 ns, total: 34.9 ms\n",
            "Wall time: 363 ms\n"
          ]
        }
      ]
    },
    {
      "cell_type": "markdown",
      "source": [
        "## Save: df cluster for humans"
      ],
      "metadata": {
        "id": "aj6Hv9Vmvd48"
      }
    },
    {
      "cell_type": "code",
      "source": [
        "%%time\n",
        "print(datetime.utcnow())\n",
        "(\n",
        "    d_wsh_names['clusters_t2t_list_raw']['worksheet']\n",
        "    .update(\n",
        "        [df_cluster_for_humans.rename(columns={c: c.replace('_', ' ') for c in df_cluster_for_humans}).columns.values.tolist()] + \n",
        "        df_cluster_for_humans.fillna('').values.tolist()\n",
        "    )\n",
        ")"
      ],
      "metadata": {
        "id": "Lnuepoe7shr4",
        "colab": {
          "base_uri": "https://localhost:8080/"
        },
        "outputId": "5f9e4e40-179f-4993-d4fb-02b9e8ee7580"
      },
      "execution_count": 59,
      "outputs": [
        {
          "output_type": "stream",
          "name": "stdout",
          "text": [
            "2022-04-07 02:14:25.491047\n",
            "CPU times: user 7.42 ms, sys: 24 µs, total: 7.44 ms\n",
            "Wall time: 128 ms\n"
          ]
        }
      ]
    },
    {
      "cell_type": "markdown",
      "source": [
        "## Save: target raw dynamic\n"
      ],
      "metadata": {
        "id": "nxOoivVXviSa"
      }
    },
    {
      "cell_type": "code",
      "source": [
        "l_cols_to_drop = (\n",
        "    ['table_creation_date'] +\n",
        "    [c for c in df_labels_target_dynamic_raw.columns if c.endswith('_nested')]\n",
        ")\n",
        "print(len(l_cols_to_drop))\n",
        "# df_labels_target_dynamic_raw.columns.to_list()"
      ],
      "metadata": {
        "id": "Xfk3y1xDvjC6",
        "colab": {
          "base_uri": "https://localhost:8080/"
        },
        "outputId": "01edc3d1-6a25-4b5d-aabd-fb3f9d2fb023"
      },
      "execution_count": 60,
      "outputs": [
        {
          "output_type": "stream",
          "name": "stdout",
          "text": [
            "45\n"
          ]
        }
      ]
    },
    {
      "cell_type": "code",
      "execution_count": 61,
      "metadata": {
        "id": "GbiiAPqOrz9z",
        "scrolled": true,
        "colab": {
          "base_uri": "https://localhost:8080/"
        },
        "outputId": "d122b406-a38e-45b6-a24b-8a3ad277d20d"
      },
      "outputs": [
        {
          "output_type": "stream",
          "name": "stdout",
          "text": [
            "2022-04-07 02:14:26.757394\n",
            "CPU times: user 18.5 ms, sys: 1.86 ms, total: 20.4 ms\n",
            "Wall time: 300 ms\n"
          ]
        }
      ],
      "source": [
        "%%time\n",
        "print(datetime.utcnow())\n",
        "(\n",
        "    d_wsh_names['sub_raw']['worksheet']\n",
        "    .update([df_labels_target_dynamic_raw.drop(l_cols_to_drop, axis=1).columns.values.tolist()] + \n",
        "             df_labels_target_dynamic_raw.drop(l_cols_to_drop, axis=1).fillna('').values.tolist())\n",
        ")"
      ]
    },
    {
      "cell_type": "markdown",
      "source": [
        "## Save: FPR target-2-target as list\n",
        "\n",
        "Even though data isn't fully ready, want to have the output ready to make sure it's in the right format that we need.\n",
        "\n",
        "UPDATE: stop exporting this for now because it adds noise and could create confusion between it and the final QA sheet."
      ],
      "metadata": {
        "id": "B3kdN5F2vpA5"
      }
    },
    {
      "cell_type": "code",
      "source": [
        "df_target_to_target_list.iloc[:5, :5]"
      ],
      "metadata": {
        "id": "LlmLHKCH8JgX",
        "colab": {
          "base_uri": "https://localhost:8080/",
          "height": 319
        },
        "outputId": "8c6c807b-6514-4e9b-d7cd-56c3e6cc39c1"
      },
      "execution_count": 62,
      "outputs": [
        {
          "output_type": "execute_result",
          "data": {
            "text/plain": [
              "  subreddit_id_seed subreddit_name_seed                            cluster_label cluster_label_k primary_topic\n",
              "0          t5_331vx           ti84hacks                                     0006    k_0013_label    Technology\n",
              "1         t5_45ae4t        tplink_omada  0006-0008-0013-0017-0017-0021-0022-0026    k_0118_label    Technology\n",
              "2          t5_2rfb1               unifi  0006-0008-0013-0017-0017-0021-0022-0026    k_0118_label    Technology\n",
              "3          t5_3i1z1           protonvpn  0006-0008-0013-0017-0017-0021-0022-0026    k_0118_label    Technology\n",
              "4          t5_39spl              pihole  0006-0008-0013-0017-0017-0021-0022-0026    k_0118_label    Technology"
            ],
            "text/html": [
              "\n",
              "  <div id=\"df-a8d551f8-3717-4bf3-ba34-a394475d3c5d\">\n",
              "    <div class=\"colab-df-container\">\n",
              "      <div>\n",
              "<style scoped>\n",
              "    .dataframe tbody tr th:only-of-type {\n",
              "        vertical-align: middle;\n",
              "    }\n",
              "\n",
              "    .dataframe tbody tr th {\n",
              "        vertical-align: top;\n",
              "    }\n",
              "\n",
              "    .dataframe thead th {\n",
              "        text-align: right;\n",
              "    }\n",
              "</style>\n",
              "<table border=\"1\" class=\"dataframe\">\n",
              "  <thead>\n",
              "    <tr style=\"text-align: right;\">\n",
              "      <th></th>\n",
              "      <th>subreddit_id_seed</th>\n",
              "      <th>subreddit_name_seed</th>\n",
              "      <th>cluster_label</th>\n",
              "      <th>cluster_label_k</th>\n",
              "      <th>primary_topic</th>\n",
              "    </tr>\n",
              "  </thead>\n",
              "  <tbody>\n",
              "    <tr>\n",
              "      <th>0</th>\n",
              "      <td>t5_331vx</td>\n",
              "      <td>ti84hacks</td>\n",
              "      <td>0006</td>\n",
              "      <td>k_0013_label</td>\n",
              "      <td>Technology</td>\n",
              "    </tr>\n",
              "    <tr>\n",
              "      <th>1</th>\n",
              "      <td>t5_45ae4t</td>\n",
              "      <td>tplink_omada</td>\n",
              "      <td>0006-0008-0013-0017-0017-0021-0022-0026</td>\n",
              "      <td>k_0118_label</td>\n",
              "      <td>Technology</td>\n",
              "    </tr>\n",
              "    <tr>\n",
              "      <th>2</th>\n",
              "      <td>t5_2rfb1</td>\n",
              "      <td>unifi</td>\n",
              "      <td>0006-0008-0013-0017-0017-0021-0022-0026</td>\n",
              "      <td>k_0118_label</td>\n",
              "      <td>Technology</td>\n",
              "    </tr>\n",
              "    <tr>\n",
              "      <th>3</th>\n",
              "      <td>t5_3i1z1</td>\n",
              "      <td>protonvpn</td>\n",
              "      <td>0006-0008-0013-0017-0017-0021-0022-0026</td>\n",
              "      <td>k_0118_label</td>\n",
              "      <td>Technology</td>\n",
              "    </tr>\n",
              "    <tr>\n",
              "      <th>4</th>\n",
              "      <td>t5_39spl</td>\n",
              "      <td>pihole</td>\n",
              "      <td>0006-0008-0013-0017-0017-0021-0022-0026</td>\n",
              "      <td>k_0118_label</td>\n",
              "      <td>Technology</td>\n",
              "    </tr>\n",
              "  </tbody>\n",
              "</table>\n",
              "</div>\n",
              "      <button class=\"colab-df-convert\" onclick=\"convertToInteractive('df-a8d551f8-3717-4bf3-ba34-a394475d3c5d')\"\n",
              "              title=\"Convert this dataframe to an interactive table.\"\n",
              "              style=\"display:none;\">\n",
              "        \n",
              "  <svg xmlns=\"http://www.w3.org/2000/svg\" height=\"24px\"viewBox=\"0 0 24 24\"\n",
              "       width=\"24px\">\n",
              "    <path d=\"M0 0h24v24H0V0z\" fill=\"none\"/>\n",
              "    <path d=\"M18.56 5.44l.94 2.06.94-2.06 2.06-.94-2.06-.94-.94-2.06-.94 2.06-2.06.94zm-11 1L8.5 8.5l.94-2.06 2.06-.94-2.06-.94L8.5 2.5l-.94 2.06-2.06.94zm10 10l.94 2.06.94-2.06 2.06-.94-2.06-.94-.94-2.06-.94 2.06-2.06.94z\"/><path d=\"M17.41 7.96l-1.37-1.37c-.4-.4-.92-.59-1.43-.59-.52 0-1.04.2-1.43.59L10.3 9.45l-7.72 7.72c-.78.78-.78 2.05 0 2.83L4 21.41c.39.39.9.59 1.41.59.51 0 1.02-.2 1.41-.59l7.78-7.78 2.81-2.81c.8-.78.8-2.07 0-2.86zM5.41 20L4 18.59l7.72-7.72 1.47 1.35L5.41 20z\"/>\n",
              "  </svg>\n",
              "      </button>\n",
              "      \n",
              "  <style>\n",
              "    .colab-df-container {\n",
              "      display:flex;\n",
              "      flex-wrap:wrap;\n",
              "      gap: 12px;\n",
              "    }\n",
              "\n",
              "    .colab-df-convert {\n",
              "      background-color: #E8F0FE;\n",
              "      border: none;\n",
              "      border-radius: 50%;\n",
              "      cursor: pointer;\n",
              "      display: none;\n",
              "      fill: #1967D2;\n",
              "      height: 32px;\n",
              "      padding: 0 0 0 0;\n",
              "      width: 32px;\n",
              "    }\n",
              "\n",
              "    .colab-df-convert:hover {\n",
              "      background-color: #E2EBFA;\n",
              "      box-shadow: 0px 1px 2px rgba(60, 64, 67, 0.3), 0px 1px 3px 1px rgba(60, 64, 67, 0.15);\n",
              "      fill: #174EA6;\n",
              "    }\n",
              "\n",
              "    [theme=dark] .colab-df-convert {\n",
              "      background-color: #3B4455;\n",
              "      fill: #D2E3FC;\n",
              "    }\n",
              "\n",
              "    [theme=dark] .colab-df-convert:hover {\n",
              "      background-color: #434B5C;\n",
              "      box-shadow: 0px 1px 3px 1px rgba(0, 0, 0, 0.15);\n",
              "      filter: drop-shadow(0px 1px 2px rgba(0, 0, 0, 0.3));\n",
              "      fill: #FFFFFF;\n",
              "    }\n",
              "  </style>\n",
              "\n",
              "      <script>\n",
              "        const buttonEl =\n",
              "          document.querySelector('#df-a8d551f8-3717-4bf3-ba34-a394475d3c5d button.colab-df-convert');\n",
              "        buttonEl.style.display =\n",
              "          google.colab.kernel.accessAllowed ? 'block' : 'none';\n",
              "\n",
              "        async function convertToInteractive(key) {\n",
              "          const element = document.querySelector('#df-a8d551f8-3717-4bf3-ba34-a394475d3c5d');\n",
              "          const dataTable =\n",
              "            await google.colab.kernel.invokeFunction('convertToInteractive',\n",
              "                                                     [key], {});\n",
              "          if (!dataTable) return;\n",
              "\n",
              "          const docLinkHtml = 'Like what you see? Visit the ' +\n",
              "            '<a target=\"_blank\" href=https://colab.research.google.com/notebooks/data_table.ipynb>data table notebook</a>'\n",
              "            + ' to learn more about interactive tables.';\n",
              "          element.innerHTML = '';\n",
              "          dataTable['output_type'] = 'display_data';\n",
              "          await google.colab.output.renderOutput(dataTable, element);\n",
              "          const docLink = document.createElement('div');\n",
              "          docLink.innerHTML = docLinkHtml;\n",
              "          element.appendChild(docLink);\n",
              "        }\n",
              "      </script>\n",
              "    </div>\n",
              "  </div>\n",
              "  "
            ]
          },
          "metadata": {},
          "execution_count": 62
        }
      ]
    },
    {
      "cell_type": "code",
      "source": [
        "# %%time\n",
        "# print(datetime.utcnow())\n",
        "# (\n",
        "#     d_wsh_names['clusters_t2t_fpr_raw']['worksheet']\n",
        "#     .update(\n",
        "#         [df_target_to_target_list.columns.values.tolist()] + \n",
        "#         df_target_to_target_list.fillna('').values.tolist()\n",
        "#     )\n",
        "# )"
      ],
      "metadata": {
        "id": "lxly7vH08KOs"
      },
      "execution_count": 63,
      "outputs": []
    },
    {
      "cell_type": "markdown",
      "metadata": {
        "id": "0M3QDdpItIrj"
      },
      "source": [
        "### We can read the data back to confirm it's as expected"
      ]
    },
    {
      "cell_type": "code",
      "execution_count": 64,
      "metadata": {
        "id": "__dAS64PiUie",
        "colab": {
          "base_uri": "https://localhost:8080/",
          "height": 704
        },
        "outputId": "6ddc6646-09ab-459d-dfc9-9602082cfb50"
      },
      "outputs": [
        {
          "output_type": "execute_result",
          "data": {
            "text/plain": [
              "  subreddit id  subreddit name  cluster label int cluster topic mix not country relevant rated E relevant to cluster/ other subreddits in cluster safe to show in relation to cluster country relevance notes rating or cluster notes                      link to sub  subs in cluster count  \\\n",
              "0     t5_3fbpt         super73                  6        Technology                         TRUE                                                                                                                                              www.reddit.com/r/super73                      5   \n",
              "1     t5_vwvbb  vanmoofbicycle                  6        Technology                         TRUE                                                                                                                                       www.reddit.com/r/vanmoofbicycle                      5   \n",
              "2     t5_331vx       ti84hacks                  6        Technology                         TRUE                                                                                                                                            www.reddit.com/r/ti84hacks                      5   \n",
              "3    t5_10wzrv     cowboybikes                  6        Technology                         TRUE                                                                                                                                          www.reddit.com/r/cowboybikes                      5   \n",
              "4     t5_2vbm9        bikerace                  6        Technology                         TRUE                                                                                                                                             www.reddit.com/r/bikerace                      5   \n",
              "\n",
              "                                list cluster subreddit names  posts for modeling count  users l7  \n",
              "0  ti84hacks, super73, cowboybikes, vanmoofbicycle, bikerace                       516      5549  \n",
              "1  ti84hacks, super73, cowboybikes, vanmoofbicycle, bikerace                       293      4151  \n",
              "2  ti84hacks, super73, cowboybikes, vanmoofbicycle, bikerace                        64      1534  \n",
              "3  ti84hacks, super73, cowboybikes, vanmoofbicycle, bikerace                        90      1056  \n",
              "4  ti84hacks, super73, cowboybikes, vanmoofbicycle, bikerace                       211       584  "
            ],
            "text/html": [
              "\n",
              "  <div id=\"df-132bbdf8-13af-48f6-83bf-eebe80cea574\">\n",
              "    <div class=\"colab-df-container\">\n",
              "      <div>\n",
              "<style scoped>\n",
              "    .dataframe tbody tr th:only-of-type {\n",
              "        vertical-align: middle;\n",
              "    }\n",
              "\n",
              "    .dataframe tbody tr th {\n",
              "        vertical-align: top;\n",
              "    }\n",
              "\n",
              "    .dataframe thead th {\n",
              "        text-align: right;\n",
              "    }\n",
              "</style>\n",
              "<table border=\"1\" class=\"dataframe\">\n",
              "  <thead>\n",
              "    <tr style=\"text-align: right;\">\n",
              "      <th></th>\n",
              "      <th>subreddit id</th>\n",
              "      <th>subreddit name</th>\n",
              "      <th>cluster label int</th>\n",
              "      <th>cluster topic mix</th>\n",
              "      <th>not country relevant</th>\n",
              "      <th>rated E</th>\n",
              "      <th>relevant to cluster/ other subreddits in cluster</th>\n",
              "      <th>safe to show in relation to cluster</th>\n",
              "      <th>country relevance notes</th>\n",
              "      <th>rating or cluster notes</th>\n",
              "      <th>link to sub</th>\n",
              "      <th>subs in cluster count</th>\n",
              "      <th>list cluster subreddit names</th>\n",
              "      <th>posts for modeling count</th>\n",
              "      <th>users l7</th>\n",
              "    </tr>\n",
              "  </thead>\n",
              "  <tbody>\n",
              "    <tr>\n",
              "      <th>0</th>\n",
              "      <td>t5_3fbpt</td>\n",
              "      <td>super73</td>\n",
              "      <td>6</td>\n",
              "      <td>Technology</td>\n",
              "      <td></td>\n",
              "      <td>TRUE</td>\n",
              "      <td></td>\n",
              "      <td></td>\n",
              "      <td></td>\n",
              "      <td></td>\n",
              "      <td>www.reddit.com/r/super73</td>\n",
              "      <td>5</td>\n",
              "      <td>ti84hacks, super73, cowboybikes, vanmoofbicycle, bikerace</td>\n",
              "      <td>516</td>\n",
              "      <td>5549</td>\n",
              "    </tr>\n",
              "    <tr>\n",
              "      <th>1</th>\n",
              "      <td>t5_vwvbb</td>\n",
              "      <td>vanmoofbicycle</td>\n",
              "      <td>6</td>\n",
              "      <td>Technology</td>\n",
              "      <td></td>\n",
              "      <td>TRUE</td>\n",
              "      <td></td>\n",
              "      <td></td>\n",
              "      <td></td>\n",
              "      <td></td>\n",
              "      <td>www.reddit.com/r/vanmoofbicycle</td>\n",
              "      <td>5</td>\n",
              "      <td>ti84hacks, super73, cowboybikes, vanmoofbicycle, bikerace</td>\n",
              "      <td>293</td>\n",
              "      <td>4151</td>\n",
              "    </tr>\n",
              "    <tr>\n",
              "      <th>2</th>\n",
              "      <td>t5_331vx</td>\n",
              "      <td>ti84hacks</td>\n",
              "      <td>6</td>\n",
              "      <td>Technology</td>\n",
              "      <td></td>\n",
              "      <td>TRUE</td>\n",
              "      <td></td>\n",
              "      <td></td>\n",
              "      <td></td>\n",
              "      <td></td>\n",
              "      <td>www.reddit.com/r/ti84hacks</td>\n",
              "      <td>5</td>\n",
              "      <td>ti84hacks, super73, cowboybikes, vanmoofbicycle, bikerace</td>\n",
              "      <td>64</td>\n",
              "      <td>1534</td>\n",
              "    </tr>\n",
              "    <tr>\n",
              "      <th>3</th>\n",
              "      <td>t5_10wzrv</td>\n",
              "      <td>cowboybikes</td>\n",
              "      <td>6</td>\n",
              "      <td>Technology</td>\n",
              "      <td></td>\n",
              "      <td>TRUE</td>\n",
              "      <td></td>\n",
              "      <td></td>\n",
              "      <td></td>\n",
              "      <td></td>\n",
              "      <td>www.reddit.com/r/cowboybikes</td>\n",
              "      <td>5</td>\n",
              "      <td>ti84hacks, super73, cowboybikes, vanmoofbicycle, bikerace</td>\n",
              "      <td>90</td>\n",
              "      <td>1056</td>\n",
              "    </tr>\n",
              "    <tr>\n",
              "      <th>4</th>\n",
              "      <td>t5_2vbm9</td>\n",
              "      <td>bikerace</td>\n",
              "      <td>6</td>\n",
              "      <td>Technology</td>\n",
              "      <td></td>\n",
              "      <td>TRUE</td>\n",
              "      <td></td>\n",
              "      <td></td>\n",
              "      <td></td>\n",
              "      <td></td>\n",
              "      <td>www.reddit.com/r/bikerace</td>\n",
              "      <td>5</td>\n",
              "      <td>ti84hacks, super73, cowboybikes, vanmoofbicycle, bikerace</td>\n",
              "      <td>211</td>\n",
              "      <td>584</td>\n",
              "    </tr>\n",
              "  </tbody>\n",
              "</table>\n",
              "</div>\n",
              "      <button class=\"colab-df-convert\" onclick=\"convertToInteractive('df-132bbdf8-13af-48f6-83bf-eebe80cea574')\"\n",
              "              title=\"Convert this dataframe to an interactive table.\"\n",
              "              style=\"display:none;\">\n",
              "        \n",
              "  <svg xmlns=\"http://www.w3.org/2000/svg\" height=\"24px\"viewBox=\"0 0 24 24\"\n",
              "       width=\"24px\">\n",
              "    <path d=\"M0 0h24v24H0V0z\" fill=\"none\"/>\n",
              "    <path d=\"M18.56 5.44l.94 2.06.94-2.06 2.06-.94-2.06-.94-.94-2.06-.94 2.06-2.06.94zm-11 1L8.5 8.5l.94-2.06 2.06-.94-2.06-.94L8.5 2.5l-.94 2.06-2.06.94zm10 10l.94 2.06.94-2.06 2.06-.94-2.06-.94-.94-2.06-.94 2.06-2.06.94z\"/><path d=\"M17.41 7.96l-1.37-1.37c-.4-.4-.92-.59-1.43-.59-.52 0-1.04.2-1.43.59L10.3 9.45l-7.72 7.72c-.78.78-.78 2.05 0 2.83L4 21.41c.39.39.9.59 1.41.59.51 0 1.02-.2 1.41-.59l7.78-7.78 2.81-2.81c.8-.78.8-2.07 0-2.86zM5.41 20L4 18.59l7.72-7.72 1.47 1.35L5.41 20z\"/>\n",
              "  </svg>\n",
              "      </button>\n",
              "      \n",
              "  <style>\n",
              "    .colab-df-container {\n",
              "      display:flex;\n",
              "      flex-wrap:wrap;\n",
              "      gap: 12px;\n",
              "    }\n",
              "\n",
              "    .colab-df-convert {\n",
              "      background-color: #E8F0FE;\n",
              "      border: none;\n",
              "      border-radius: 50%;\n",
              "      cursor: pointer;\n",
              "      display: none;\n",
              "      fill: #1967D2;\n",
              "      height: 32px;\n",
              "      padding: 0 0 0 0;\n",
              "      width: 32px;\n",
              "    }\n",
              "\n",
              "    .colab-df-convert:hover {\n",
              "      background-color: #E2EBFA;\n",
              "      box-shadow: 0px 1px 2px rgba(60, 64, 67, 0.3), 0px 1px 3px 1px rgba(60, 64, 67, 0.15);\n",
              "      fill: #174EA6;\n",
              "    }\n",
              "\n",
              "    [theme=dark] .colab-df-convert {\n",
              "      background-color: #3B4455;\n",
              "      fill: #D2E3FC;\n",
              "    }\n",
              "\n",
              "    [theme=dark] .colab-df-convert:hover {\n",
              "      background-color: #434B5C;\n",
              "      box-shadow: 0px 1px 3px 1px rgba(0, 0, 0, 0.15);\n",
              "      filter: drop-shadow(0px 1px 2px rgba(0, 0, 0, 0.3));\n",
              "      fill: #FFFFFF;\n",
              "    }\n",
              "  </style>\n",
              "\n",
              "      <script>\n",
              "        const buttonEl =\n",
              "          document.querySelector('#df-132bbdf8-13af-48f6-83bf-eebe80cea574 button.colab-df-convert');\n",
              "        buttonEl.style.display =\n",
              "          google.colab.kernel.accessAllowed ? 'block' : 'none';\n",
              "\n",
              "        async function convertToInteractive(key) {\n",
              "          const element = document.querySelector('#df-132bbdf8-13af-48f6-83bf-eebe80cea574');\n",
              "          const dataTable =\n",
              "            await google.colab.kernel.invokeFunction('convertToInteractive',\n",
              "                                                     [key], {});\n",
              "          if (!dataTable) return;\n",
              "\n",
              "          const docLinkHtml = 'Like what you see? Visit the ' +\n",
              "            '<a target=\"_blank\" href=https://colab.research.google.com/notebooks/data_table.ipynb>data table notebook</a>'\n",
              "            + ' to learn more about interactive tables.';\n",
              "          element.innerHTML = '';\n",
              "          dataTable['output_type'] = 'display_data';\n",
              "          await google.colab.output.renderOutput(dataTable, element);\n",
              "          const docLink = document.createElement('div');\n",
              "          docLink.innerHTML = docLinkHtml;\n",
              "          element.appendChild(docLink);\n",
              "        }\n",
              "      </script>\n",
              "    </div>\n",
              "  </div>\n",
              "  "
            ]
          },
          "metadata": {},
          "execution_count": 64
        }
      ],
      "source": [
        "# Here's how to get the records as a dataframe\n",
        "pd.DataFrame(\n",
        "    d_wsh_names['qa_ready']['worksheet'].get_all_records()\n",
        ").iloc[:5, :15]"
      ]
    },
    {
      "cell_type": "markdown",
      "metadata": {
        "id": "RuRKHNPMgPT9"
      },
      "source": [
        "# Appendix\n"
      ]
    },
    {
      "cell_type": "markdown",
      "source": [
        "## Additional checks on cluster depth"
      ],
      "metadata": {
        "id": "FWgIxHLcYE7b"
      }
    },
    {
      "cell_type": "code",
      "execution_count": 70,
      "metadata": {
        "scrolled": false,
        "id": "kjGM2S_-gPT_",
        "colab": {
          "base_uri": "https://localhost:8080/",
          "height": 637
        },
        "outputId": "6ddf4a07-6faa-44f9-b6dc-810b1dddff48"
      },
      "outputs": [
        {
          "output_type": "stream",
          "name": "stdout",
          "text": [
            "31\n"
          ]
        },
        {
          "output_type": "display_data",
          "data": {
            "text/plain": [
              "<pandas.io.formats.style.Styler at 0x7fc14a83d1d0>"
            ],
            "text/html": [
              "<style type=\"text/css\">\n",
              "#T_a6f14_row0_col1, #T_a6f14_row9_col2 {\n",
              "  width: 10em;\n",
              "  height: 80%;\n",
              "  background: linear-gradient(90deg,#95cff5 100.0%, transparent 100.0%);\n",
              "}\n",
              "#T_a6f14_row0_col2, #T_a6f14_row9_col1 {\n",
              "  width: 10em;\n",
              "  height: 80%;\n",
              "}\n",
              "#T_a6f14_row1_col1 {\n",
              "  width: 10em;\n",
              "  height: 80%;\n",
              "  background: linear-gradient(90deg,#95cff5 80.0%, transparent 80.0%);\n",
              "}\n",
              "#T_a6f14_row1_col2 {\n",
              "  width: 10em;\n",
              "  height: 80%;\n",
              "  background: linear-gradient(90deg,#95cff5 14.3%, transparent 14.3%);\n",
              "}\n",
              "#T_a6f14_row2_col1 {\n",
              "  width: 10em;\n",
              "  height: 80%;\n",
              "  background: linear-gradient(90deg,#95cff5 60.0%, transparent 60.0%);\n",
              "}\n",
              "#T_a6f14_row2_col2 {\n",
              "  width: 10em;\n",
              "  height: 80%;\n",
              "  background: linear-gradient(90deg,#95cff5 27.3%, transparent 27.3%);\n",
              "}\n",
              "#T_a6f14_row3_col1 {\n",
              "  width: 10em;\n",
              "  height: 80%;\n",
              "  background: linear-gradient(90deg,#95cff5 40.0%, transparent 40.0%);\n",
              "}\n",
              "#T_a6f14_row3_col2 {\n",
              "  width: 10em;\n",
              "  height: 80%;\n",
              "  background: linear-gradient(90deg,#95cff5 39.0%, transparent 39.0%);\n",
              "}\n",
              "#T_a6f14_row4_col1, #T_a6f14_row5_col1, #T_a6f14_row6_col1, #T_a6f14_row7_col1, #T_a6f14_row8_col1 {\n",
              "  width: 10em;\n",
              "  height: 80%;\n",
              "  background: linear-gradient(90deg,#95cff5 20.0%, transparent 20.0%);\n",
              "}\n",
              "#T_a6f14_row4_col2 {\n",
              "  width: 10em;\n",
              "  height: 80%;\n",
              "  background: linear-gradient(90deg,#95cff5 49.4%, transparent 49.4%);\n",
              "}\n",
              "#T_a6f14_row5_col2 {\n",
              "  width: 10em;\n",
              "  height: 80%;\n",
              "  background: linear-gradient(90deg,#95cff5 59.7%, transparent 59.7%);\n",
              "}\n",
              "#T_a6f14_row6_col2 {\n",
              "  width: 10em;\n",
              "  height: 80%;\n",
              "  background: linear-gradient(90deg,#95cff5 70.1%, transparent 70.1%);\n",
              "}\n",
              "#T_a6f14_row7_col2 {\n",
              "  width: 10em;\n",
              "  height: 80%;\n",
              "  background: linear-gradient(90deg,#95cff5 80.5%, transparent 80.5%);\n",
              "}\n",
              "#T_a6f14_row8_col2 {\n",
              "  width: 10em;\n",
              "  height: 80%;\n",
              "  background: linear-gradient(90deg,#95cff5 90.9%, transparent 90.9%);\n",
              "}\n",
              "</style>\n",
              "<table id=\"T_a6f14_\" class=\"dataframe\">\n",
              "  <thead>\n",
              "    <tr>\n",
              "      <th class=\"blank level0\" >&nbsp;</th>\n",
              "      <th class=\"col_heading level0 col0\" >subreddit count</th>\n",
              "      <th class=\"col_heading level0 col1\" >percent of subreddit</th>\n",
              "      <th class=\"col_heading level0 col2\" >cumulative percent of subreddit</th>\n",
              "    </tr>\n",
              "    <tr>\n",
              "      <th class=\"index_name level0\" >cluster label</th>\n",
              "      <th class=\"blank col0\" >&nbsp;</th>\n",
              "      <th class=\"blank col1\" >&nbsp;</th>\n",
              "      <th class=\"blank col2\" >&nbsp;</th>\n",
              "    </tr>\n",
              "  </thead>\n",
              "  <tbody>\n",
              "    <tr>\n",
              "      <th id=\"T_a6f14_level0_row0\" class=\"row_heading level0 row0\" >0006-0008-0013-0017-0017-0021-0022-0026</th>\n",
              "      <td id=\"T_a6f14_row0_col0\" class=\"data row0 col0\" >12</td>\n",
              "      <td id=\"T_a6f14_row0_col1\" class=\"data row0 col1\" >6.1%</td>\n",
              "      <td id=\"T_a6f14_row0_col2\" class=\"data row0 col2\" >6.1%</td>\n",
              "    </tr>\n",
              "    <tr>\n",
              "      <th id=\"T_a6f14_level0_row1\" class=\"row_heading level0 row1\" >0007-0011-0019-0026-0026-0035-0036-0046-0132-0265-0393-0443-0642-0757-0911-0969-1172-1302-1402-1529-1597-1622</th>\n",
              "      <td id=\"T_a6f14_row1_col0\" class=\"data row1 col0\" >11</td>\n",
              "      <td id=\"T_a6f14_row1_col1\" class=\"data row1 col1\" >5.6%</td>\n",
              "      <td id=\"T_a6f14_row1_col2\" class=\"data row1 col2\" >11.7%</td>\n",
              "    </tr>\n",
              "    <tr>\n",
              "      <th id=\"T_a6f14_level0_row2\" class=\"row_heading level0 row2\" >0013-0022-0038-0055-0058-0073-0078-0108</th>\n",
              "      <td id=\"T_a6f14_row2_col0\" class=\"data row2 col0\" >10</td>\n",
              "      <td id=\"T_a6f14_row2_col1\" class=\"data row2 col1\" >5.1%</td>\n",
              "      <td id=\"T_a6f14_row2_col2\" class=\"data row2 col2\" >16.8%</td>\n",
              "    </tr>\n",
              "    <tr>\n",
              "      <th id=\"T_a6f14_level0_row3\" class=\"row_heading level0 row3\" >0006-0010</th>\n",
              "      <td id=\"T_a6f14_row3_col0\" class=\"data row3 col0\" >9</td>\n",
              "      <td id=\"T_a6f14_row3_col1\" class=\"data row3 col1\" >4.6%</td>\n",
              "      <td id=\"T_a6f14_row3_col2\" class=\"data row3 col2\" >21.3%</td>\n",
              "    </tr>\n",
              "    <tr>\n",
              "      <th id=\"T_a6f14_level0_row4\" class=\"row_heading level0 row4\" >0008</th>\n",
              "      <td id=\"T_a6f14_row4_col0\" class=\"data row4 col0\" >8</td>\n",
              "      <td id=\"T_a6f14_row4_col1\" class=\"data row4 col1\" >4.1%</td>\n",
              "      <td id=\"T_a6f14_row4_col2\" class=\"data row4 col2\" >25.4%</td>\n",
              "    </tr>\n",
              "    <tr>\n",
              "      <th id=\"T_a6f14_level0_row5\" class=\"row_heading level0 row5\" >0013-0022-0038-0055-0058-0074-0079</th>\n",
              "      <td id=\"T_a6f14_row5_col0\" class=\"data row5 col0\" >8</td>\n",
              "      <td id=\"T_a6f14_row5_col1\" class=\"data row5 col1\" >4.1%</td>\n",
              "      <td id=\"T_a6f14_row5_col2\" class=\"data row5 col2\" >29.4%</td>\n",
              "    </tr>\n",
              "    <tr>\n",
              "      <th id=\"T_a6f14_level0_row6\" class=\"row_heading level0 row6\" >0006-0009-0014-0018-0018-0025-0026-0031-0089-0174-0258-0295</th>\n",
              "      <td id=\"T_a6f14_row6_col0\" class=\"data row6 col0\" >8</td>\n",
              "      <td id=\"T_a6f14_row6_col1\" class=\"data row6 col1\" >4.1%</td>\n",
              "      <td id=\"T_a6f14_row6_col2\" class=\"data row6 col2\" >33.5%</td>\n",
              "    </tr>\n",
              "    <tr>\n",
              "      <th id=\"T_a6f14_level0_row7\" class=\"row_heading level0 row7\" >0010-0017-0030-0040-0043-0054-0057-0081-0226-0448-0647-0723-1045-1229</th>\n",
              "      <td id=\"T_a6f14_row7_col0\" class=\"data row7 col0\" >8</td>\n",
              "      <td id=\"T_a6f14_row7_col1\" class=\"data row7 col1\" >4.1%</td>\n",
              "      <td id=\"T_a6f14_row7_col2\" class=\"data row7 col2\" >37.6%</td>\n",
              "    </tr>\n",
              "    <tr>\n",
              "      <th id=\"T_a6f14_level0_row8\" class=\"row_heading level0 row8\" >0009-0015-0028-0038-0040-0051-0054</th>\n",
              "      <td id=\"T_a6f14_row8_col0\" class=\"data row8 col0\" >8</td>\n",
              "      <td id=\"T_a6f14_row8_col1\" class=\"data row8 col1\" >4.1%</td>\n",
              "      <td id=\"T_a6f14_row8_col2\" class=\"data row8 col2\" >41.6%</td>\n",
              "    </tr>\n",
              "    <tr>\n",
              "      <th id=\"T_a6f14_level0_row9\" class=\"row_heading level0 row9\" >0011-0018-0032-0043-0046</th>\n",
              "      <td id=\"T_a6f14_row9_col0\" class=\"data row9 col0\" >7</td>\n",
              "      <td id=\"T_a6f14_row9_col1\" class=\"data row9 col1\" >3.6%</td>\n",
              "      <td id=\"T_a6f14_row9_col2\" class=\"data row9 col2\" >45.2%</td>\n",
              "    </tr>\n",
              "  </tbody>\n",
              "</table>\n"
            ]
          },
          "metadata": {}
        },
        {
          "output_type": "execute_result",
          "data": {
            "text/plain": [
              "count    31.000000\n",
              "mean      6.354839\n",
              "std       2.388143\n",
              "min       1.000000\n",
              "25%       5.000000\n",
              "50%       6.000000\n",
              "75%       8.000000\n",
              "max      12.000000\n",
              "Name: count, dtype: float64"
            ]
          },
          "metadata": {},
          "execution_count": 70
        }
      ],
      "source": [
        "print(df_labels_target_dynamic_raw['cluster_label'].nunique())\n",
        "display(\n",
        "    value_counts_and_pcts(\n",
        "        df_labels_target_dynamic_raw,\n",
        "        ['cluster_label'],\n",
        "        top_n=10,\n",
        "        count_type='subreddit',\n",
        "        rename_cols_for_display=True,\n",
        "    )\n",
        ")\n",
        "value_counts_and_pcts(\n",
        "    df_labels_target_dynamic_raw,\n",
        "    ['cluster_label'],\n",
        "    top_n=None,\n",
        "    return_df=True,\n",
        ")['count'].describe()"
      ]
    },
    {
      "cell_type": "markdown",
      "metadata": {
        "id": "zZ1h7PfrgPT_"
      },
      "source": [
        "### How deep are the clusters?\n",
        "\n"
      ]
    },
    {
      "cell_type": "code",
      "execution_count": 69,
      "metadata": {
        "scrolled": false,
        "id": "IU_gieM6gPT_",
        "colab": {
          "base_uri": "https://localhost:8080/",
          "height": 509
        },
        "outputId": "4a4b51f9-b534-49bf-9050-2e9acb78e839"
      },
      "outputs": [
        {
          "output_type": "stream",
          "name": "stdout",
          "text": [
            "12\n"
          ]
        },
        {
          "output_type": "execute_result",
          "data": {
            "text/plain": [
              "<pandas.io.formats.style.Styler at 0x7fc14a996d50>"
            ],
            "text/html": [
              "<style type=\"text/css\">\n",
              "#T_c3c26_row0_col1, #T_c3c26_row11_col2 {\n",
              "  width: 10em;\n",
              "  height: 80%;\n",
              "  background: linear-gradient(90deg,#95cff5 100.0%, transparent 100.0%);\n",
              "}\n",
              "#T_c3c26_row0_col2, #T_c3c26_row2_col1, #T_c3c26_row4_col1, #T_c3c26_row7_col1 {\n",
              "  width: 10em;\n",
              "  height: 80%;\n",
              "}\n",
              "#T_c3c26_row1_col1, #T_c3c26_row5_col1 {\n",
              "  width: 10em;\n",
              "  height: 80%;\n",
              "  background: linear-gradient(90deg,#95cff5 45.7%, transparent 45.7%);\n",
              "}\n",
              "#T_c3c26_row1_col2 {\n",
              "  width: 10em;\n",
              "  height: 80%;\n",
              "  background: linear-gradient(90deg,#95cff5 14.1%, transparent 14.1%);\n",
              "}\n",
              "#T_c3c26_row2_col2 {\n",
              "  width: 10em;\n",
              "  height: 80%;\n",
              "  background: linear-gradient(90deg,#95cff5 17.9%, transparent 17.9%);\n",
              "}\n",
              "#T_c3c26_row3_col1 {\n",
              "  width: 10em;\n",
              "  height: 80%;\n",
              "  background: linear-gradient(90deg,#95cff5 37.1%, transparent 37.1%);\n",
              "}\n",
              "#T_c3c26_row3_col2 {\n",
              "  width: 10em;\n",
              "  height: 80%;\n",
              "  background: linear-gradient(90deg,#95cff5 30.1%, transparent 30.1%);\n",
              "}\n",
              "#T_c3c26_row4_col2 {\n",
              "  width: 10em;\n",
              "  height: 80%;\n",
              "  background: linear-gradient(90deg,#95cff5 34.0%, transparent 34.0%);\n",
              "}\n",
              "#T_c3c26_row5_col2 {\n",
              "  width: 10em;\n",
              "  height: 80%;\n",
              "  background: linear-gradient(90deg,#95cff5 48.1%, transparent 48.1%);\n",
              "}\n",
              "#T_c3c26_row6_col1 {\n",
              "  width: 10em;\n",
              "  height: 80%;\n",
              "  background: linear-gradient(90deg,#95cff5 62.9%, transparent 62.9%);\n",
              "}\n",
              "#T_c3c26_row6_col2 {\n",
              "  width: 10em;\n",
              "  height: 80%;\n",
              "  background: linear-gradient(90deg,#95cff5 66.0%, transparent 66.0%);\n",
              "}\n",
              "#T_c3c26_row7_col2 {\n",
              "  width: 10em;\n",
              "  height: 80%;\n",
              "  background: linear-gradient(90deg,#95cff5 69.9%, transparent 69.9%);\n",
              "}\n",
              "#T_c3c26_row8_col1 {\n",
              "  width: 10em;\n",
              "  height: 80%;\n",
              "  background: linear-gradient(90deg,#95cff5 22.9%, transparent 22.9%);\n",
              "}\n",
              "#T_c3c26_row8_col2 {\n",
              "  width: 10em;\n",
              "  height: 80%;\n",
              "  background: linear-gradient(90deg,#95cff5 78.8%, transparent 78.8%);\n",
              "}\n",
              "#T_c3c26_row9_col1 {\n",
              "  width: 10em;\n",
              "  height: 80%;\n",
              "  background: linear-gradient(90deg,#95cff5 5.7%, transparent 5.7%);\n",
              "}\n",
              "#T_c3c26_row9_col2 {\n",
              "  width: 10em;\n",
              "  height: 80%;\n",
              "  background: linear-gradient(90deg,#95cff5 84.0%, transparent 84.0%);\n",
              "}\n",
              "#T_c3c26_row10_col1 {\n",
              "  width: 10em;\n",
              "  height: 80%;\n",
              "  background: linear-gradient(90deg,#95cff5 2.9%, transparent 2.9%);\n",
              "}\n",
              "#T_c3c26_row10_col2 {\n",
              "  width: 10em;\n",
              "  height: 80%;\n",
              "  background: linear-gradient(90deg,#95cff5 88.5%, transparent 88.5%);\n",
              "}\n",
              "#T_c3c26_row11_col1 {\n",
              "  width: 10em;\n",
              "  height: 80%;\n",
              "  background: linear-gradient(90deg,#95cff5 34.3%, transparent 34.3%);\n",
              "}\n",
              "</style>\n",
              "<table id=\"T_c3c26_\" class=\"dataframe\">\n",
              "  <thead>\n",
              "    <tr>\n",
              "      <th class=\"blank level0\" >&nbsp;</th>\n",
              "      <th class=\"col_heading level0 col0\" >subreddit count</th>\n",
              "      <th class=\"col_heading level0 col1\" >percent of subreddit</th>\n",
              "      <th class=\"col_heading level0 col2\" >cumulative percent of subreddit</th>\n",
              "    </tr>\n",
              "    <tr>\n",
              "      <th class=\"index_name level0\" >cluster label k</th>\n",
              "      <th class=\"blank col0\" >&nbsp;</th>\n",
              "      <th class=\"blank col1\" >&nbsp;</th>\n",
              "      <th class=\"blank col2\" >&nbsp;</th>\n",
              "    </tr>\n",
              "  </thead>\n",
              "  <tbody>\n",
              "    <tr>\n",
              "      <th id=\"T_c3c26_level0_row0\" class=\"row_heading level0 row0\" >k_0013_label</th>\n",
              "      <td id=\"T_c3c26_row0_col0\" class=\"data row0 col0\" >41</td>\n",
              "      <td id=\"T_c3c26_row0_col1\" class=\"data row0 col1\" >20.8%</td>\n",
              "      <td id=\"T_c3c26_row0_col2\" class=\"data row0 col2\" >20.8%</td>\n",
              "    </tr>\n",
              "    <tr>\n",
              "      <th id=\"T_c3c26_level0_row1\" class=\"row_heading level0 row1\" >k_0023_label</th>\n",
              "      <td id=\"T_c3c26_row1_col0\" class=\"data row1 col0\" >22</td>\n",
              "      <td id=\"T_c3c26_row1_col1\" class=\"data row1 col1\" >11.2%</td>\n",
              "      <td id=\"T_c3c26_row1_col2\" class=\"data row1 col2\" >32.0%</td>\n",
              "    </tr>\n",
              "    <tr>\n",
              "      <th id=\"T_c3c26_level0_row2\" class=\"row_heading level0 row2\" >k_0041_label</th>\n",
              "      <td id=\"T_c3c26_row2_col0\" class=\"data row2 col0\" >6</td>\n",
              "      <td id=\"T_c3c26_row2_col1\" class=\"data row2 col1\" >3.0%</td>\n",
              "      <td id=\"T_c3c26_row2_col2\" class=\"data row2 col2\" >35.0%</td>\n",
              "    </tr>\n",
              "    <tr>\n",
              "      <th id=\"T_c3c26_level0_row3\" class=\"row_heading level0 row3\" >k_0063_label</th>\n",
              "      <td id=\"T_c3c26_row3_col0\" class=\"data row3 col0\" >19</td>\n",
              "      <td id=\"T_c3c26_row3_col1\" class=\"data row3 col1\" >9.6%</td>\n",
              "      <td id=\"T_c3c26_row3_col2\" class=\"data row3 col2\" >44.7%</td>\n",
              "    </tr>\n",
              "    <tr>\n",
              "      <th id=\"T_c3c26_level0_row4\" class=\"row_heading level0 row4\" >k_0079_label</th>\n",
              "      <td id=\"T_c3c26_row4_col0\" class=\"data row4 col0\" >6</td>\n",
              "      <td id=\"T_c3c26_row4_col1\" class=\"data row4 col1\" >3.0%</td>\n",
              "      <td id=\"T_c3c26_row4_col2\" class=\"data row4 col2\" >47.7%</td>\n",
              "    </tr>\n",
              "    <tr>\n",
              "      <th id=\"T_c3c26_level0_row5\" class=\"row_heading level0 row5\" >k_0085_label</th>\n",
              "      <td id=\"T_c3c26_row5_col0\" class=\"data row5 col0\" >22</td>\n",
              "      <td id=\"T_c3c26_row5_col1\" class=\"data row5 col1\" >11.2%</td>\n",
              "      <td id=\"T_c3c26_row5_col2\" class=\"data row5 col2\" >58.9%</td>\n",
              "    </tr>\n",
              "    <tr>\n",
              "      <th id=\"T_c3c26_level0_row6\" class=\"row_heading level0 row6\" >k_0118_label</th>\n",
              "      <td id=\"T_c3c26_row6_col0\" class=\"data row6 col0\" >28</td>\n",
              "      <td id=\"T_c3c26_row6_col1\" class=\"data row6 col1\" >14.2%</td>\n",
              "      <td id=\"T_c3c26_row6_col2\" class=\"data row6 col2\" >73.1%</td>\n",
              "    </tr>\n",
              "    <tr>\n",
              "      <th id=\"T_c3c26_level0_row7\" class=\"row_heading level0 row7\" >k_0320_label</th>\n",
              "      <td id=\"T_c3c26_row7_col0\" class=\"data row7 col0\" >6</td>\n",
              "      <td id=\"T_c3c26_row7_col1\" class=\"data row7 col1\" >3.0%</td>\n",
              "      <td id=\"T_c3c26_row7_col2\" class=\"data row7 col2\" >76.1%</td>\n",
              "    </tr>\n",
              "    <tr>\n",
              "      <th id=\"T_c3c26_level0_row8\" class=\"row_heading level0 row8\" >k_1065_label</th>\n",
              "      <td id=\"T_c3c26_row8_col0\" class=\"data row8 col0\" >14</td>\n",
              "      <td id=\"T_c3c26_row8_col1\" class=\"data row8 col1\" >7.1%</td>\n",
              "      <td id=\"T_c3c26_row8_col2\" class=\"data row8 col2\" >83.2%</td>\n",
              "    </tr>\n",
              "    <tr>\n",
              "      <th id=\"T_c3c26_level0_row9\" class=\"row_heading level0 row9\" >k_1840_label</th>\n",
              "      <td id=\"T_c3c26_row9_col0\" class=\"data row9 col0\" >8</td>\n",
              "      <td id=\"T_c3c26_row9_col1\" class=\"data row9 col1\" >4.1%</td>\n",
              "      <td id=\"T_c3c26_row9_col2\" class=\"data row9 col2\" >87.3%</td>\n",
              "    </tr>\n",
              "    <tr>\n",
              "      <th id=\"T_c3c26_level0_row10\" class=\"row_heading level0 row10\" >k_2351_label</th>\n",
              "      <td id=\"T_c3c26_row10_col0\" class=\"data row10 col0\" >7</td>\n",
              "      <td id=\"T_c3c26_row10_col1\" class=\"data row10 col1\" >3.6%</td>\n",
              "      <td id=\"T_c3c26_row10_col2\" class=\"data row10 col2\" >90.9%</td>\n",
              "    </tr>\n",
              "    <tr>\n",
              "      <th id=\"T_c3c26_level0_row11\" class=\"row_heading level0 row11\" >k_3927_label</th>\n",
              "      <td id=\"T_c3c26_row11_col0\" class=\"data row11 col0\" >18</td>\n",
              "      <td id=\"T_c3c26_row11_col1\" class=\"data row11 col1\" >9.1%</td>\n",
              "      <td id=\"T_c3c26_row11_col2\" class=\"data row11 col2\" >100.0%</td>\n",
              "    </tr>\n",
              "  </tbody>\n",
              "</table>\n"
            ]
          },
          "metadata": {},
          "execution_count": 69
        }
      ],
      "source": [
        "print(df_labels_target_dynamic_raw[col_new_cluster_name].nunique())\n",
        "value_counts_and_pcts(\n",
        "    df_labels_target_dynamic_raw,\n",
        "    [col_new_cluster_name],\n",
        "    top_n=None,\n",
        "    sort_index=True,\n",
        "    count_type='subreddit',\n",
        "    rename_cols_for_display=True,\n",
        ")"
      ]
    },
    {
      "cell_type": "code",
      "execution_count": null,
      "metadata": {
        "id": "pw3xaXaKNZhN"
      },
      "outputs": [],
      "source": [
        "# style_df_numeric(\n",
        "#     df_labels_target.tail(10),\n",
        "#     # rename_cols_for_display=True,\n",
        "#     l_bar_simple=[c for c in df_labels_target.columns if '_label' in c]\n",
        "# )"
      ]
    }
  ],
  "metadata": {
    "colab": {
      "collapsed_sections": [
        "a2Y4JbSWawcg",
        "tSv6LeEZWdTk",
        "z5okNIcHEKj-",
        "Zji-HUH0M1Qa",
        "FkTvPXPVODEf",
        "NIKRnACST_VQ"
      ],
      "name": "djb_topic_clusters-D12.0-2022-04-06-v0.4.1_Netherlands_subreddits_for_FPR_QA_colab_more_automation.ipynb",
      "provenance": []
    },
    "kernelspec": {
      "display_name": "Python 3 (ipykernel)",
      "language": "python",
      "name": "python3"
    },
    "language_info": {
      "codemirror_mode": {
        "name": "ipython",
        "version": 3
      },
      "file_extension": ".py",
      "mimetype": "text/x-python",
      "name": "python",
      "nbconvert_exporter": "python",
      "pygments_lexer": "ipython3",
      "version": "3.7.11"
    }
  },
  "nbformat": 4,
  "nbformat_minor": 0
}