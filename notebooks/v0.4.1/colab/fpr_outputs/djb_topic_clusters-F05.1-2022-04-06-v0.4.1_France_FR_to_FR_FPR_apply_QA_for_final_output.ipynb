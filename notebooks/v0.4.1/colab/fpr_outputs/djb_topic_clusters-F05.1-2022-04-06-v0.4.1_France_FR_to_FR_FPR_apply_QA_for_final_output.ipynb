{
  "nbformat": 4,
  "nbformat_minor": 0,
  "metadata": {
    "colab": {
      "name": "djb_topic_clusters-F05.1-2022-04-06-v0.4.1_France_FR_to_FR_FPR_apply_QA_for_final_output.ipynb",
      "provenance": [],
      "collapsed_sections": [
        "Y5QYz4t5qXgv",
        "ruXaYJdq8zL0",
        "dVXfcDlqWjPe"
      ]
    },
    "kernelspec": {
      "name": "python3",
      "display_name": "Python 3"
    },
    "language_info": {
      "name": "python"
    }
  },
  "cells": [
    {
      "cell_type": "markdown",
      "metadata": {
        "id": "iVZuLSOgZVC8"
      },
      "source": [
        "# Purpose\n",
        "\n",
        "### 2022-03-22\n",
        "- model version: 4.0.1\n",
        "\n",
        "In this notebook we apply the filters from the QA process to get the final output for Australia-relevant subs. The primary use case is geo-relevant FPRs [[i18n/ML] One Feed Experiment Spec: UK/CA/AU/IN](https://docs.google.com/document/d/10z0ZlZuYnPYzUjlKHLy5iKClCk1AvMsy6LSL1wRK7FE/edit#heading=h.uozl6p2gc9i3).\n",
        "\n",
        "\n",
        "### Inputs:\n",
        "- Values from the QA spreadsheet\n",
        "    - Cluster IDs\n",
        "        - Recommend subs with the same cluster ID\n",
        "    - Subreddits that are not country-relevant\n",
        "        - Remove them\n",
        "    - Subreddits that are NSFW\n",
        "        - Remove them\n",
        "    - Subreddits that don't belong to a cluster\n",
        "        - Remove them\n",
        "\n",
        "### Outputs\n",
        "- Write to a new tab in google sheets with format needed for FPRs\n",
        "    - Use `gspread` to write table outputs directly to google sheets\n",
        "\n",
        "\n",
        "### Reference\n",
        "[Notebook template for v0.4.0 model](https://colab.research.google.com/drive/19p3O5DGxiEXj57OeCFf2gVIagUgCLx9v?usp=sharing)"
      ]
    },
    {
      "cell_type": "markdown",
      "metadata": {
        "id": "c2qXnQ5IV9Z7"
      },
      "source": [
        "# Imports & notebook setup"
      ]
    },
    {
      "cell_type": "code",
      "metadata": {
        "id": "pCuWmkxaGYwm"
      },
      "source": [
        "%load_ext google.colab.data_table\n",
        "%load_ext autoreload\n",
        "%autoreload 2"
      ],
      "execution_count": 1,
      "outputs": []
    },
    {
      "cell_type": "code",
      "metadata": {
        "colab": {
          "base_uri": "https://localhost:8080/"
        },
        "id": "tS4ktaPaGwbh",
        "outputId": "ff0bb872-ffbc-47ee-d31e-b58b4caeb372"
      },
      "source": [
        "# colab auth for BigQuery, google drive, & google sheets (gspread)\n",
        "from google.colab import auth, files, drive\n",
        "from google.auth import default\n",
        "import sys  # need sys for mounting gdrive path\n",
        "\n",
        "auth.authenticate_user()\n",
        "print('Authenticated')"
      ],
      "execution_count": 8,
      "outputs": [
        {
          "output_type": "stream",
          "name": "stdout",
          "text": [
            "Authenticated\n"
          ]
        }
      ]
    },
    {
      "cell_type": "markdown",
      "source": [
        "### Append google-drive"
      ],
      "metadata": {
        "id": "Y5QYz4t5qXgv"
      }
    },
    {
      "cell_type": "code",
      "metadata": {
        "colab": {
          "base_uri": "https://localhost:8080/"
        },
        "id": "kuOoJT3noOPE",
        "outputId": "5f90a54a-2897-4297-ad20-807e18d1beae"
      },
      "source": [
        "# Attach google drive & import my python utility functions\n",
        "# if drive.mount() fails, you can also:\n",
        "#   MANUALLY CLICK ON \"Mount Drive\"\n",
        "g_drive_root = '/content/drive'\n",
        "\n",
        "try:\n",
        "    drive.mount(g_drive_root, force_remount=True)\n",
        "    print('   Authenticated & mounted Google Drive')\n",
        "except Exception as e:\n",
        "    print(e)\n",
        "    raise Exception('You might need to manually mount google drive to colab')\n",
        "\n",
        "l_paths_to_append = [\n",
        "    f'{g_drive_root}/MyDrive/Colab Notebooks',\n",
        "\n",
        "    # need to append the path to subclu so that colab can import things properly\n",
        "    f'{g_drive_root}/MyDrive/Colab Notebooks/subreddit_clustering_i18n'\n",
        "]\n",
        "for path_ in l_paths_to_append:\n",
        "    if path_ in sys.path:\n",
        "        sys.path.remove(path_)\n",
        "    print(f\" Appending path: {path_}\")\n",
        "    sys.path.append(path_)"
      ],
      "execution_count": 3,
      "outputs": [
        {
          "output_type": "stream",
          "name": "stdout",
          "text": [
            "Mounted at /content/drive\n",
            "   Authenticated & mounted Google Drive\n",
            " Appending path: /content/drive/MyDrive/Colab Notebooks\n",
            " Appending path: /content/drive/MyDrive/Colab Notebooks/subreddit_clustering_i18n\n"
          ]
        }
      ]
    },
    {
      "cell_type": "markdown",
      "metadata": {
        "id": "6jFbY64VRAGX"
      },
      "source": [
        "### Install custom libraries"
      ]
    },
    {
      "cell_type": "code",
      "metadata": {
        "id": "Kpey-jzFbiXu",
        "colab": {
          "base_uri": "https://localhost:8080/"
        },
        "outputId": "467c5ec8-86da-43a1-fe63-c59d9a7610d9"
      },
      "source": [
        "# install subclu & libraries needed to read parquet files from GCS & spreadsheets\n",
        "#  make sure to use the [colab] `extra` because it includes colab-specific libraries\n",
        "module_path = f\"{g_drive_root}/MyDrive/Colab Notebooks/subreddit_clustering_i18n/[colab]\"\n",
        "\n",
        "!pip install -e $\"$module_path\" --quiet"
      ],
      "execution_count": 4,
      "outputs": [
        {
          "output_type": "stream",
          "name": "stdout",
          "text": [
            "\u001b[K     |████████████████████████████████| 10.1 MB 8.7 MB/s \n",
            "\u001b[K     |████████████████████████████████| 14.2 MB 43.5 MB/s \n",
            "\u001b[K     |████████████████████████████████| 965 kB 50.5 MB/s \n",
            "\u001b[K     |████████████████████████████████| 144 kB 44.7 MB/s \n",
            "\u001b[K     |████████████████████████████████| 76 kB 3.2 MB/s \n",
            "\u001b[K     |████████████████████████████████| 285 kB 47.2 MB/s \n",
            "\u001b[K     |████████████████████████████████| 13.2 MB 37.2 MB/s \n",
            "\u001b[K     |████████████████████████████████| 79.9 MB 106 kB/s \n",
            "\u001b[K     |████████████████████████████████| 136 kB 60.7 MB/s \n",
            "\u001b[K     |████████████████████████████████| 715 kB 67.6 MB/s \n",
            "\u001b[K     |████████████████████████████████| 112 kB 49.7 MB/s \n",
            "\u001b[K     |████████████████████████████████| 74 kB 2.7 MB/s \n",
            "\u001b[K     |████████████████████████████████| 146 kB 46.9 MB/s \n",
            "\u001b[K     |████████████████████████████████| 181 kB 61.4 MB/s \n",
            "\u001b[K     |████████████████████████████████| 1.1 MB 54.9 MB/s \n",
            "\u001b[K     |████████████████████████████████| 79 kB 6.3 MB/s \n",
            "\u001b[K     |████████████████████████████████| 62 kB 558 kB/s \n",
            "\u001b[K     |████████████████████████████████| 596 kB 46.8 MB/s \n",
            "\u001b[K     |████████████████████████████████| 78 kB 4.3 MB/s \n",
            "\u001b[K     |████████████████████████████████| 54 kB 2.3 MB/s \n",
            "\u001b[K     |████████████████████████████████| 1.1 MB 40.1 MB/s \n",
            "\u001b[K     |████████████████████████████████| 144 kB 56.5 MB/s \n",
            "\u001b[K     |████████████████████████████████| 94 kB 2.7 MB/s \n",
            "\u001b[K     |████████████████████████████████| 271 kB 65.5 MB/s \n",
            "\u001b[K     |████████████████████████████████| 63 kB 1.5 MB/s \n",
            "\u001b[?25h  Building wheel for antlr4-python3-runtime (setup.py) ... \u001b[?25l\u001b[?25hdone\n",
            "  Building wheel for alembic (setup.py) ... \u001b[?25l\u001b[?25hdone\n",
            "  Building wheel for databricks-cli (setup.py) ... \u001b[?25l\u001b[?25hdone\n",
            "  Building wheel for retrying (setup.py) ... \u001b[?25l\u001b[?25hdone\n",
            "\u001b[31mERROR: pip's dependency resolver does not currently take into account all the packages that are installed. This behaviour is the source of the following dependency conflicts.\n",
            "gym 0.17.3 requires cloudpickle<1.7.0,>=1.2.0, but you have cloudpickle 2.0.0 which is incompatible.\u001b[0m\n"
          ]
        }
      ]
    },
    {
      "cell_type": "markdown",
      "metadata": {
        "id": "5TH350bzUsR9"
      },
      "source": [
        "### General Imports\n"
      ]
    },
    {
      "cell_type": "code",
      "metadata": {
        "id": "9TpWbXh5mzew"
      },
      "source": [
        "# Regular Imports\n",
        "import os\n",
        "from datetime import datetime\n",
        "\n",
        "from google.cloud import bigquery\n",
        "\n",
        "import matplotlib.pyplot as plt\n",
        "import pandas as pd\n",
        "import numpy as np\n",
        "import seaborn as sns\n",
        "from matplotlib_venn import venn2_unweighted, venn3_unweighted\n",
        "from tqdm import tqdm\n",
        "\n",
        "# auth for google sheets\n",
        "creds_, _ = default()\n",
        "import gspread\n",
        "# from oauth2client.client import GoogleCredentials\n",
        "gc = gspread.authorize(creds_)\n",
        "\n",
        "\n",
        "# Set env variable needed by some libraries to get datay from BigQuery\n",
        "# os.environ['GOOGLE_CLOUD_PROJECT'] = 'data-science-prod-218515'\n",
        "os.environ['GOOGLE_CLOUD_PROJECT'] = 'data-prod-165221'"
      ],
      "execution_count": 9,
      "outputs": []
    },
    {
      "cell_type": "markdown",
      "metadata": {
        "id": "BMQYoHOTcAlP"
      },
      "source": [
        "### `subclu` import (custom module)"
      ]
    },
    {
      "cell_type": "code",
      "metadata": {
        "colab": {
          "base_uri": "https://localhost:8080/"
        },
        "id": "Cj_y2KtccJ8P",
        "outputId": "9e1f88d7-f99a-448d-afa7-66097184d556"
      },
      "source": [
        "# subclu imports\n",
        "\n",
        "from subclu.utils.eda import (\n",
        "    setup_logging, counts_describe, value_counts_and_pcts,\n",
        "    notebook_display_config, print_lib_versions,\n",
        "    style_df_numeric, reorder_array,\n",
        ")\n",
        "from subclu.models.clustering_utils import (\n",
        "    create_dynamic_clusters,\n",
        "    convert_distance_or_ab_to_list_for_fpr\n",
        ")\n",
        "from subclu.models.reshape_clusters_v041 import (\n",
        "    get_subs_to_filter_as_df\n",
        ")\n",
        "\n",
        "\n",
        "setup_logging()\n",
        "print_lib_versions([gspread, pd, np])"
      ],
      "execution_count": 10,
      "outputs": [
        {
          "output_type": "stream",
          "name": "stdout",
          "text": [
            "python\t\tv 3.7.13\n",
            "===\n",
            "gspread\t\tv: 4.0.1\n",
            "pandas\t\tv: 1.3.5\n",
            "numpy\t\tv: 1.21.5\n"
          ]
        }
      ]
    },
    {
      "cell_type": "markdown",
      "source": [
        "# Checklist to re-run for a country:\n",
        "\n",
        "- Copy google sheet cell from 1st notebook so it matches:\n",
        "    - Google sheet KEY\n",
        "    - country name for google sheet name\n",
        "    - country initial in google sheet\n",
        "- Add new sheet to create: `clusters_t2t_fpr_after_qa`\n",
        "    - Here's where we'll save the clusters after QA\n"
      ],
      "metadata": {
        "id": "NcUyRqG1t2ul"
      }
    },
    {
      "cell_type": "markdown",
      "source": [
        "# Google sheet with country QA\n",
        "\n",
        "For now, copy the same cell from the QA notebook. \n",
        "\n",
        "In the future we might need to register QA sheets in a central location to reduce copy/pasta."
      ],
      "metadata": {
        "id": "xp9fRYijuYdT"
      }
    },
    {
      "cell_type": "code",
      "source": [
        "# # %%time\n",
        "os.environ['GOOGLE_CLOUD_PROJECT'] = 'data-prod-165221'\n",
        "\n",
        "country_name_sheet_ = 'France'\n",
        "target_abbrev_ = 'fr'\n",
        "GSHEET_KEY = '1RicLwjnVxArCiPqoVUPEIbFnruL5m7VBL89ZXBCix7c'\n",
        "GSHEET_NAME = f'i18n {country_name_sheet_} subreddits and clusters - model v0.4.1'\n",
        "\n",
        "\n",
        "d_wsh_names = {\n",
        "    'qa_ready': {\n",
        "        'name': 'subs_need_to_be_rated',\n",
        "    },\n",
        "    'clusters_t2t_list_raw': {\n",
        "        'name': f'raw_clusters_list_{target_abbrev_}_{target_abbrev_}',\n",
        "    },\n",
        "    'sub_raw': {\n",
        "        'name': 'raw_data_per_subreddit',\n",
        "    },\n",
        "    'clusters_t2t_fpr_raw': {\n",
        "        'name': f'raw_clusters_fpr_{target_abbrev_}_{target_abbrev_}',\n",
        "    },\n",
        "    'clusters_t2t_fpr_after_qa': {\n",
        "        'name': f'fpr_clusters_after_qa_{target_abbrev_}_{target_abbrev_}',\n",
        "    },\n",
        "}\n",
        "\n",
        "if GSHEET_KEY is not None:\n",
        "    sh = gc.open_by_key(GSHEET_KEY)\n",
        "    print(f\"Opening google worksheet: {GSHEET_NAME} ...\")\n",
        "else:\n",
        "    print(f\"** Creating google worksheet: {GSHEET_NAME} ...\")\n",
        "    sh = gc.create(GSHEET_NAME)\n",
        "\n",
        "# create worksheets:\n",
        "for _, d_ in d_wsh_names.items():\n",
        "    sh_name = d_['name']\n",
        "    try:\n",
        "        d_['worksheet'] = sh.worksheet(sh_name)\n",
        "        print(f\"  Opening tab/sheet: {sh_name} ...\")\n",
        "    except Exception as e:\n",
        "        print(f\"  ** Creating tab/sheet: {sh_name} ...\")\n",
        "        d_['worksheet'] = sh.add_worksheet(sh_name, rows=5, cols=5)\n",
        "\n",
        "if GSHEET_KEY is None:\n",
        "    print(f\"\\n*** New sheet ID (assign it to GSHEET_KEY variable): ***\\n{sh.id}\\n\")"
      ],
      "metadata": {
        "colab": {
          "base_uri": "https://localhost:8080/"
        },
        "id": "P2nVB2ehuWRf",
        "outputId": "be103569-29be-4ea6-c659-09ff49bf4a3b"
      },
      "execution_count": 11,
      "outputs": [
        {
          "output_type": "stream",
          "name": "stdout",
          "text": [
            "Opening google worksheet: i18n France subreddits and clusters - model v0.4.1 ...\n",
            "  Opening tab/sheet: subs_need_to_be_rated ...\n",
            "  Opening tab/sheet: raw_clusters_list_fr_fr ...\n",
            "  Opening tab/sheet: raw_data_per_subreddit ...\n",
            "  Opening tab/sheet: raw_clusters_fpr_fr_fr ...\n",
            "  Opening tab/sheet: fpr_clusters_after_qa_fr_fr ...\n"
          ]
        }
      ]
    },
    {
      "cell_type": "markdown",
      "source": [
        "# Get latest ratings & flags (e.g., `allow_discovery`)"
      ],
      "metadata": {
        "id": "c9r0nVpH4XRu"
      }
    },
    {
      "cell_type": "markdown",
      "source": [
        "## SQL"
      ],
      "metadata": {
        "id": "ruXaYJdq8zL0"
      }
    },
    {
      "cell_type": "code",
      "source": [
        "%%time\n",
        "%%bigquery df_latest_ratings --project data-science-prod-218515 \n",
        "\n",
        "-- Get ratings & other flags for all subs in the model\n",
        "--  we'll filter/match to country in python\n",
        "DECLARE PARTITION_DATE DATE DEFAULT (CURRENT_DATE() - 1);\n",
        "\n",
        "SELECT\n",
        "    t.subreddit_id\n",
        "    , t.subreddit_name\n",
        "    , CASE WHEN nt.rating_short = 'E' THEN True\n",
        "        ELSE False\n",
        "    END AS rated_e_latest\n",
        "    , slo.over_18\n",
        "    , slo.allow_discovery\n",
        "    , nt.rating_short\n",
        "    , slo.type\n",
        "    , nt.primary_topic\n",
        "    , nt.rating_name\n",
        "\n",
        "FROM `reddit-employee-datasets.david_bermejo.subclu_v0041_subreddit_clusters_c_a` AS t\n",
        "    -- Add rating so we can get filter out subs not rated as E\n",
        "    LEFT JOIN (\n",
        "        SELECT *\n",
        "        FROM `data-prod-165221.ds_v2_postgres_tables.subreddit_lookup`\n",
        "        -- Get latest partition\n",
        "        WHERE dt = PARTITION_DATE\n",
        "    ) AS slo\n",
        "        ON t.subreddit_id = slo.subreddit_id\n",
        "    LEFT JOIN (\n",
        "        SELECT * FROM `data-prod-165221.cnc.shredded_crowdsource_topic_and_rating`\n",
        "        WHERE pt = PARTITION_DATE\n",
        "    ) AS nt\n",
        "        ON t.subreddit_id = nt.subreddit_id\n",
        "\n",
        "WHERE 1=1\n",
        "    AND t.subreddit_name != 'profile'\n",
        "    -- For this query, we want to keep these values to know\n",
        "    --  if they have changed since last time\n",
        "    -- AND COALESCE(slo.type, '') = 'public'\n",
        "    -- AND COALESCE(slo.verdict, 'f') <> 'admin_removed'\n",
        "    -- AND COALESCE(slo.over_18, 'f') = 'f'\n",
        "    -- AND COALESCE(nt.rating_short, '') NOT IN ('X', 'D')\n",
        "\n",
        "ORDER BY subreddit_name\n",
        ";"
      ],
      "metadata": {
        "colab": {
          "base_uri": "https://localhost:8080/"
        },
        "id": "oxODoHWv4flO",
        "outputId": "ae465d16-4ea1-42ad-9fc2-ab0201b34744"
      },
      "execution_count": 12,
      "outputs": [
        {
          "output_type": "stream",
          "name": "stdout",
          "text": [
            "CPU times: user 1.39 s, sys: 116 ms, total: 1.5 s\n",
            "Wall time: 5.8 s\n"
          ]
        }
      ]
    },
    {
      "cell_type": "markdown",
      "source": [
        "## Inspect latest ratings"
      ],
      "metadata": {
        "id": "gdGAO1Ra8v-A"
      }
    },
    {
      "cell_type": "code",
      "source": [
        "print(df_latest_ratings.shape)\n",
        "df_latest_ratings.head()"
      ],
      "metadata": {
        "colab": {
          "base_uri": "https://localhost:8080/",
          "height": 215
        },
        "id": "5iPb4rqo8Nax",
        "outputId": "2256dc6f-cf18-4cdf-8b95-908e06bfa05f"
      },
      "execution_count": 13,
      "outputs": [
        {
          "output_type": "stream",
          "name": "stdout",
          "text": [
            "(49558, 9)\n"
          ]
        },
        {
          "output_type": "execute_result",
          "data": {
            "text/plain": [
              "  subreddit_id  subreddit_name  rated_e_latest over_18 allow_discovery  \\\n",
              "0    t5_46wt4h    0hthaatsjaay           False       t            None   \n",
              "1    t5_4byrct  0nlyfantastic0           False       t            None   \n",
              "2    t5_36f9u6       0nlyleaks           False       t            None   \n",
              "3    t5_2qlzfy    0sanitymemes           False    None            None   \n",
              "4    t5_2qgijx       0xpolygon            True    None            None   \n",
              "\n",
              "  rating_short    type                    primary_topic rating_name  \n",
              "0         None  public  Mature Themes and Adult Content        None  \n",
              "1         None  public                             None        None  \n",
              "2         None  public                             None        None  \n",
              "3            M  public       Internet Culture and Memes      Mature  \n",
              "4            E  public                           Crypto    Everyone  "
            ],
            "text/html": [
              "\n",
              "  <div id=\"df-bd9e48a7-1768-4803-ac1a-13dd453dd6c5\">\n",
              "    <div class=\"colab-df-container\">\n",
              "      <div>\n",
              "<style scoped>\n",
              "    .dataframe tbody tr th:only-of-type {\n",
              "        vertical-align: middle;\n",
              "    }\n",
              "\n",
              "    .dataframe tbody tr th {\n",
              "        vertical-align: top;\n",
              "    }\n",
              "\n",
              "    .dataframe thead th {\n",
              "        text-align: right;\n",
              "    }\n",
              "</style>\n",
              "<table border=\"1\" class=\"dataframe\">\n",
              "  <thead>\n",
              "    <tr style=\"text-align: right;\">\n",
              "      <th></th>\n",
              "      <th>subreddit_id</th>\n",
              "      <th>subreddit_name</th>\n",
              "      <th>rated_e_latest</th>\n",
              "      <th>over_18</th>\n",
              "      <th>allow_discovery</th>\n",
              "      <th>rating_short</th>\n",
              "      <th>type</th>\n",
              "      <th>primary_topic</th>\n",
              "      <th>rating_name</th>\n",
              "    </tr>\n",
              "  </thead>\n",
              "  <tbody>\n",
              "    <tr>\n",
              "      <th>0</th>\n",
              "      <td>t5_46wt4h</td>\n",
              "      <td>0hthaatsjaay</td>\n",
              "      <td>False</td>\n",
              "      <td>t</td>\n",
              "      <td>None</td>\n",
              "      <td>None</td>\n",
              "      <td>public</td>\n",
              "      <td>Mature Themes and Adult Content</td>\n",
              "      <td>None</td>\n",
              "    </tr>\n",
              "    <tr>\n",
              "      <th>1</th>\n",
              "      <td>t5_4byrct</td>\n",
              "      <td>0nlyfantastic0</td>\n",
              "      <td>False</td>\n",
              "      <td>t</td>\n",
              "      <td>None</td>\n",
              "      <td>None</td>\n",
              "      <td>public</td>\n",
              "      <td>None</td>\n",
              "      <td>None</td>\n",
              "    </tr>\n",
              "    <tr>\n",
              "      <th>2</th>\n",
              "      <td>t5_36f9u6</td>\n",
              "      <td>0nlyleaks</td>\n",
              "      <td>False</td>\n",
              "      <td>t</td>\n",
              "      <td>None</td>\n",
              "      <td>None</td>\n",
              "      <td>public</td>\n",
              "      <td>None</td>\n",
              "      <td>None</td>\n",
              "    </tr>\n",
              "    <tr>\n",
              "      <th>3</th>\n",
              "      <td>t5_2qlzfy</td>\n",
              "      <td>0sanitymemes</td>\n",
              "      <td>False</td>\n",
              "      <td>None</td>\n",
              "      <td>None</td>\n",
              "      <td>M</td>\n",
              "      <td>public</td>\n",
              "      <td>Internet Culture and Memes</td>\n",
              "      <td>Mature</td>\n",
              "    </tr>\n",
              "    <tr>\n",
              "      <th>4</th>\n",
              "      <td>t5_2qgijx</td>\n",
              "      <td>0xpolygon</td>\n",
              "      <td>True</td>\n",
              "      <td>None</td>\n",
              "      <td>None</td>\n",
              "      <td>E</td>\n",
              "      <td>public</td>\n",
              "      <td>Crypto</td>\n",
              "      <td>Everyone</td>\n",
              "    </tr>\n",
              "  </tbody>\n",
              "</table>\n",
              "</div>\n",
              "      <button class=\"colab-df-convert\" onclick=\"convertToInteractive('df-bd9e48a7-1768-4803-ac1a-13dd453dd6c5')\"\n",
              "              title=\"Convert this dataframe to an interactive table.\"\n",
              "              style=\"display:none;\">\n",
              "        \n",
              "  <svg xmlns=\"http://www.w3.org/2000/svg\" height=\"24px\"viewBox=\"0 0 24 24\"\n",
              "       width=\"24px\">\n",
              "    <path d=\"M0 0h24v24H0V0z\" fill=\"none\"/>\n",
              "    <path d=\"M18.56 5.44l.94 2.06.94-2.06 2.06-.94-2.06-.94-.94-2.06-.94 2.06-2.06.94zm-11 1L8.5 8.5l.94-2.06 2.06-.94-2.06-.94L8.5 2.5l-.94 2.06-2.06.94zm10 10l.94 2.06.94-2.06 2.06-.94-2.06-.94-.94-2.06-.94 2.06-2.06.94z\"/><path d=\"M17.41 7.96l-1.37-1.37c-.4-.4-.92-.59-1.43-.59-.52 0-1.04.2-1.43.59L10.3 9.45l-7.72 7.72c-.78.78-.78 2.05 0 2.83L4 21.41c.39.39.9.59 1.41.59.51 0 1.02-.2 1.41-.59l7.78-7.78 2.81-2.81c.8-.78.8-2.07 0-2.86zM5.41 20L4 18.59l7.72-7.72 1.47 1.35L5.41 20z\"/>\n",
              "  </svg>\n",
              "      </button>\n",
              "      \n",
              "  <style>\n",
              "    .colab-df-container {\n",
              "      display:flex;\n",
              "      flex-wrap:wrap;\n",
              "      gap: 12px;\n",
              "    }\n",
              "\n",
              "    .colab-df-convert {\n",
              "      background-color: #E8F0FE;\n",
              "      border: none;\n",
              "      border-radius: 50%;\n",
              "      cursor: pointer;\n",
              "      display: none;\n",
              "      fill: #1967D2;\n",
              "      height: 32px;\n",
              "      padding: 0 0 0 0;\n",
              "      width: 32px;\n",
              "    }\n",
              "\n",
              "    .colab-df-convert:hover {\n",
              "      background-color: #E2EBFA;\n",
              "      box-shadow: 0px 1px 2px rgba(60, 64, 67, 0.3), 0px 1px 3px 1px rgba(60, 64, 67, 0.15);\n",
              "      fill: #174EA6;\n",
              "    }\n",
              "\n",
              "    [theme=dark] .colab-df-convert {\n",
              "      background-color: #3B4455;\n",
              "      fill: #D2E3FC;\n",
              "    }\n",
              "\n",
              "    [theme=dark] .colab-df-convert:hover {\n",
              "      background-color: #434B5C;\n",
              "      box-shadow: 0px 1px 3px 1px rgba(0, 0, 0, 0.15);\n",
              "      filter: drop-shadow(0px 1px 2px rgba(0, 0, 0, 0.3));\n",
              "      fill: #FFFFFF;\n",
              "    }\n",
              "  </style>\n",
              "\n",
              "      <script>\n",
              "        const buttonEl =\n",
              "          document.querySelector('#df-bd9e48a7-1768-4803-ac1a-13dd453dd6c5 button.colab-df-convert');\n",
              "        buttonEl.style.display =\n",
              "          google.colab.kernel.accessAllowed ? 'block' : 'none';\n",
              "\n",
              "        async function convertToInteractive(key) {\n",
              "          const element = document.querySelector('#df-bd9e48a7-1768-4803-ac1a-13dd453dd6c5');\n",
              "          const dataTable =\n",
              "            await google.colab.kernel.invokeFunction('convertToInteractive',\n",
              "                                                     [key], {});\n",
              "          if (!dataTable) return;\n",
              "\n",
              "          const docLinkHtml = 'Like what you see? Visit the ' +\n",
              "            '<a target=\"_blank\" href=https://colab.research.google.com/notebooks/data_table.ipynb>data table notebook</a>'\n",
              "            + ' to learn more about interactive tables.';\n",
              "          element.innerHTML = '';\n",
              "          dataTable['output_type'] = 'display_data';\n",
              "          await google.colab.output.renderOutput(dataTable, element);\n",
              "          const docLink = document.createElement('div');\n",
              "          docLink.innerHTML = docLinkHtml;\n",
              "          element.appendChild(docLink);\n",
              "        }\n",
              "      </script>\n",
              "    </div>\n",
              "  </div>\n",
              "  "
            ],
            "application/vnd.google.colaboratory.module+javascript": "\n      import \"https://ssl.gstatic.com/colaboratory/data_table/81f25a011006ed3d/data_table.js\";\n\n      window.createDataTable({\n        data: [[{\n            'v': 0,\n            'f': \"0\",\n        },\n\"t5_46wt4h\",\n\"0hthaatsjaay\",\nfalse,\n\"t\",\n{\n            'v': null,\n            'f': \"null\",\n        },\nnull,\n\"public\",\n\"Mature Themes and Adult Content\",\nnull],\n [{\n            'v': 1,\n            'f': \"1\",\n        },\n\"t5_4byrct\",\n\"0nlyfantastic0\",\nfalse,\n\"t\",\n{\n            'v': null,\n            'f': \"null\",\n        },\nnull,\n\"public\",\nnull,\nnull],\n [{\n            'v': 2,\n            'f': \"2\",\n        },\n\"t5_36f9u6\",\n\"0nlyleaks\",\nfalse,\n\"t\",\n{\n            'v': null,\n            'f': \"null\",\n        },\nnull,\n\"public\",\nnull,\nnull],\n [{\n            'v': 3,\n            'f': \"3\",\n        },\n\"t5_2qlzfy\",\n\"0sanitymemes\",\nfalse,\nnull,\n{\n            'v': null,\n            'f': \"null\",\n        },\n\"M\",\n\"public\",\n\"Internet Culture and Memes\",\n\"Mature\"],\n [{\n            'v': 4,\n            'f': \"4\",\n        },\n\"t5_2qgijx\",\n\"0xpolygon\",\ntrue,\nnull,\n{\n            'v': null,\n            'f': \"null\",\n        },\n\"E\",\n\"public\",\n\"Crypto\",\n\"Everyone\"]],\n        columns: [[\"number\", \"index\"], [\"string\", \"subreddit_id\"], [\"string\", \"subreddit_name\"], [\"string\", \"rated_e_latest\"], [\"string\", \"over_18\"], [\"number\", \"allow_discovery\"], [\"string\", \"rating_short\"], [\"string\", \"type\"], [\"string\", \"primary_topic\"], [\"string\", \"rating_name\"]],\n        columnOptions: [{\"width\": \"1px\", \"className\": \"index_column\"}],\n        rowsPerPage: 25,\n        helpUrl: \"https://colab.research.google.com/notebooks/data_table.ipynb\",\n        suppressOutputScrolling: true,\n        minimumWidth: undefined,\n      });\n    "
          },
          "metadata": {},
          "execution_count": 13
        }
      ]
    },
    {
      "cell_type": "code",
      "source": [
        "df_latest_ratings[df_latest_ratings['subreddit_name'].str.contains('667')]"
      ],
      "metadata": {
        "colab": {
          "base_uri": "https://localhost:8080/",
          "height": 133
        },
        "id": "hwWBYEE7gmLh",
        "outputId": "61a58b5b-6bac-443a-a49f-4b48e3d8b7e0"
      },
      "execution_count": 14,
      "outputs": [
        {
          "output_type": "execute_result",
          "data": {
            "text/plain": [
              "      subreddit_id subreddit_name  rated_e_latest over_18 allow_discovery  \\\n",
              "308       t5_2ytof            667            True    None            None   \n",
              "25323    t5_2zcwdh  leakoeln50667           False    None            None   \n",
              "\n",
              "      rating_short    type primary_topic rating_name  \n",
              "308              E  public         Music    Everyone  \n",
              "25323         None  public          None        None  "
            ],
            "text/html": [
              "\n",
              "  <div id=\"df-6c32facb-6942-4cc7-a995-f0c75abaa349\">\n",
              "    <div class=\"colab-df-container\">\n",
              "      <div>\n",
              "<style scoped>\n",
              "    .dataframe tbody tr th:only-of-type {\n",
              "        vertical-align: middle;\n",
              "    }\n",
              "\n",
              "    .dataframe tbody tr th {\n",
              "        vertical-align: top;\n",
              "    }\n",
              "\n",
              "    .dataframe thead th {\n",
              "        text-align: right;\n",
              "    }\n",
              "</style>\n",
              "<table border=\"1\" class=\"dataframe\">\n",
              "  <thead>\n",
              "    <tr style=\"text-align: right;\">\n",
              "      <th></th>\n",
              "      <th>subreddit_id</th>\n",
              "      <th>subreddit_name</th>\n",
              "      <th>rated_e_latest</th>\n",
              "      <th>over_18</th>\n",
              "      <th>allow_discovery</th>\n",
              "      <th>rating_short</th>\n",
              "      <th>type</th>\n",
              "      <th>primary_topic</th>\n",
              "      <th>rating_name</th>\n",
              "    </tr>\n",
              "  </thead>\n",
              "  <tbody>\n",
              "    <tr>\n",
              "      <th>308</th>\n",
              "      <td>t5_2ytof</td>\n",
              "      <td>667</td>\n",
              "      <td>True</td>\n",
              "      <td>None</td>\n",
              "      <td>None</td>\n",
              "      <td>E</td>\n",
              "      <td>public</td>\n",
              "      <td>Music</td>\n",
              "      <td>Everyone</td>\n",
              "    </tr>\n",
              "    <tr>\n",
              "      <th>25323</th>\n",
              "      <td>t5_2zcwdh</td>\n",
              "      <td>leakoeln50667</td>\n",
              "      <td>False</td>\n",
              "      <td>None</td>\n",
              "      <td>None</td>\n",
              "      <td>None</td>\n",
              "      <td>public</td>\n",
              "      <td>None</td>\n",
              "      <td>None</td>\n",
              "    </tr>\n",
              "  </tbody>\n",
              "</table>\n",
              "</div>\n",
              "      <button class=\"colab-df-convert\" onclick=\"convertToInteractive('df-6c32facb-6942-4cc7-a995-f0c75abaa349')\"\n",
              "              title=\"Convert this dataframe to an interactive table.\"\n",
              "              style=\"display:none;\">\n",
              "        \n",
              "  <svg xmlns=\"http://www.w3.org/2000/svg\" height=\"24px\"viewBox=\"0 0 24 24\"\n",
              "       width=\"24px\">\n",
              "    <path d=\"M0 0h24v24H0V0z\" fill=\"none\"/>\n",
              "    <path d=\"M18.56 5.44l.94 2.06.94-2.06 2.06-.94-2.06-.94-.94-2.06-.94 2.06-2.06.94zm-11 1L8.5 8.5l.94-2.06 2.06-.94-2.06-.94L8.5 2.5l-.94 2.06-2.06.94zm10 10l.94 2.06.94-2.06 2.06-.94-2.06-.94-.94-2.06-.94 2.06-2.06.94z\"/><path d=\"M17.41 7.96l-1.37-1.37c-.4-.4-.92-.59-1.43-.59-.52 0-1.04.2-1.43.59L10.3 9.45l-7.72 7.72c-.78.78-.78 2.05 0 2.83L4 21.41c.39.39.9.59 1.41.59.51 0 1.02-.2 1.41-.59l7.78-7.78 2.81-2.81c.8-.78.8-2.07 0-2.86zM5.41 20L4 18.59l7.72-7.72 1.47 1.35L5.41 20z\"/>\n",
              "  </svg>\n",
              "      </button>\n",
              "      \n",
              "  <style>\n",
              "    .colab-df-container {\n",
              "      display:flex;\n",
              "      flex-wrap:wrap;\n",
              "      gap: 12px;\n",
              "    }\n",
              "\n",
              "    .colab-df-convert {\n",
              "      background-color: #E8F0FE;\n",
              "      border: none;\n",
              "      border-radius: 50%;\n",
              "      cursor: pointer;\n",
              "      display: none;\n",
              "      fill: #1967D2;\n",
              "      height: 32px;\n",
              "      padding: 0 0 0 0;\n",
              "      width: 32px;\n",
              "    }\n",
              "\n",
              "    .colab-df-convert:hover {\n",
              "      background-color: #E2EBFA;\n",
              "      box-shadow: 0px 1px 2px rgba(60, 64, 67, 0.3), 0px 1px 3px 1px rgba(60, 64, 67, 0.15);\n",
              "      fill: #174EA6;\n",
              "    }\n",
              "\n",
              "    [theme=dark] .colab-df-convert {\n",
              "      background-color: #3B4455;\n",
              "      fill: #D2E3FC;\n",
              "    }\n",
              "\n",
              "    [theme=dark] .colab-df-convert:hover {\n",
              "      background-color: #434B5C;\n",
              "      box-shadow: 0px 1px 3px 1px rgba(0, 0, 0, 0.15);\n",
              "      filter: drop-shadow(0px 1px 2px rgba(0, 0, 0, 0.3));\n",
              "      fill: #FFFFFF;\n",
              "    }\n",
              "  </style>\n",
              "\n",
              "      <script>\n",
              "        const buttonEl =\n",
              "          document.querySelector('#df-6c32facb-6942-4cc7-a995-f0c75abaa349 button.colab-df-convert');\n",
              "        buttonEl.style.display =\n",
              "          google.colab.kernel.accessAllowed ? 'block' : 'none';\n",
              "\n",
              "        async function convertToInteractive(key) {\n",
              "          const element = document.querySelector('#df-6c32facb-6942-4cc7-a995-f0c75abaa349');\n",
              "          const dataTable =\n",
              "            await google.colab.kernel.invokeFunction('convertToInteractive',\n",
              "                                                     [key], {});\n",
              "          if (!dataTable) return;\n",
              "\n",
              "          const docLinkHtml = 'Like what you see? Visit the ' +\n",
              "            '<a target=\"_blank\" href=https://colab.research.google.com/notebooks/data_table.ipynb>data table notebook</a>'\n",
              "            + ' to learn more about interactive tables.';\n",
              "          element.innerHTML = '';\n",
              "          dataTable['output_type'] = 'display_data';\n",
              "          await google.colab.output.renderOutput(dataTable, element);\n",
              "          const docLink = document.createElement('div');\n",
              "          docLink.innerHTML = docLinkHtml;\n",
              "          element.appendChild(docLink);\n",
              "        }\n",
              "      </script>\n",
              "    </div>\n",
              "  </div>\n",
              "  "
            ],
            "application/vnd.google.colaboratory.module+javascript": "\n      import \"https://ssl.gstatic.com/colaboratory/data_table/81f25a011006ed3d/data_table.js\";\n\n      window.createDataTable({\n        data: [[{\n            'v': 308,\n            'f': \"308\",\n        },\n\"t5_2ytof\",\n\"667\",\ntrue,\n{\n            'v': null,\n            'f': \"null\",\n        },\n{\n            'v': null,\n            'f': \"null\",\n        },\n\"E\",\n\"public\",\n\"Music\",\n\"Everyone\"],\n [{\n            'v': 25323,\n            'f': \"25323\",\n        },\n\"t5_2zcwdh\",\n\"leakoeln50667\",\nfalse,\n{\n            'v': null,\n            'f': \"null\",\n        },\n{\n            'v': null,\n            'f': \"null\",\n        },\nnull,\n\"public\",\nnull,\nnull]],\n        columns: [[\"number\", \"index\"], [\"string\", \"subreddit_id\"], [\"string\", \"subreddit_name\"], [\"string\", \"rated_e_latest\"], [\"number\", \"over_18\"], [\"number\", \"allow_discovery\"], [\"string\", \"rating_short\"], [\"string\", \"type\"], [\"string\", \"primary_topic\"], [\"string\", \"rating_name\"]],\n        columnOptions: [{\"width\": \"1px\", \"className\": \"index_column\"}],\n        rowsPerPage: 25,\n        helpUrl: \"https://colab.research.google.com/notebooks/data_table.ipynb\",\n        suppressOutputScrolling: true,\n        minimumWidth: undefined,\n      });\n    "
          },
          "metadata": {},
          "execution_count": 14
        }
      ]
    },
    {
      "cell_type": "markdown",
      "source": [
        "# Google sheet with subreddits to exclude\n",
        "Spiros created [this sheet](https://docs.google.com/spreadsheets/d/1JiDpiLa8RKRTC0ZxjLI0ISgtngAFWTEbsoYEoeeaVO8/edit#gid=733540374) for subs that are missing rating or have ratings that look wrong.\n",
        "\n",
        "To be safe, we'll be excluding all the subs in these sheets.\n"
      ],
      "metadata": {
        "id": "OiDPbwH1tApB"
      }
    },
    {
      "cell_type": "code",
      "source": [
        "# GSHEET_KEY_EXCLUDES = '1JiDpiLa8RKRTC0ZxjLI0ISgtngAFWTEbsoYEoeeaVO8'\n",
        "# sh_filter = gc.open_by_key(GSHEET_KEY_EXCLUDES)\n",
        "\n",
        "# df_subs_to_filter = get_subs_to_filter_as_df(sh_filter, cols_to_keep='core')\n",
        "\n",
        "# counts_describe(df_subs_to_filter)"
      ],
      "metadata": {
        "id": "A7bxTP2PtOlP"
      },
      "execution_count": 15,
      "outputs": []
    },
    {
      "cell_type": "code",
      "source": [
        "# df_subs_to_filter.tail()"
      ],
      "metadata": {
        "id": "2B07Vzwl0HL5"
      },
      "execution_count": 16,
      "outputs": []
    },
    {
      "cell_type": "markdown",
      "metadata": {
        "id": "DzFMkIHFdmQd"
      },
      "source": [
        "# Read QA results from sheet"
      ]
    },
    {
      "cell_type": "code",
      "metadata": {
        "colab": {
          "base_uri": "https://localhost:8080/"
        },
        "id": "jGP6NXGSboGu",
        "outputId": "e8d1e989-6b89-4531-9050-ee5e98c29ccb"
      },
      "source": [
        "%%time\n",
        "df_qa_raw = pd.DataFrame(\n",
        "    d_wsh_names['qa_ready']['worksheet'].get_all_records()\n",
        ")\n",
        "df_qa_raw = df_qa_raw.rename(columns={k: k.lower().strip().replace(' ', '_') for k in df_qa_raw.columns})\n",
        "\n",
        "print(df_qa_raw.shape)"
      ],
      "execution_count": 32,
      "outputs": [
        {
          "output_type": "stream",
          "name": "stdout",
          "text": [
            "(330, 36)\n",
            "CPU times: user 70 ms, sys: 0 ns, total: 70 ms\n",
            "Wall time: 573 ms\n"
          ]
        }
      ]
    },
    {
      "cell_type": "markdown",
      "source": [
        "# Reshape & filter data"
      ],
      "metadata": {
        "id": "Lu5ZLBzTEo7B"
      }
    },
    {
      "cell_type": "markdown",
      "metadata": {
        "id": "I_Q_ptCghuxM"
      },
      "source": [
        "## Add latest ratings to df with QA results\n",
        "\n",
        "We need the latest ratings & flags to make sure filters are up to date"
      ]
    },
    {
      "cell_type": "code",
      "source": [
        "latest_suffix = '_latest'\n",
        "\n",
        "col_rating_latest = f'rating_short{latest_suffix}'\n",
        "col_over_18_latest = f'over_18{latest_suffix}'\n",
        "col_rated_e_latest = 'rated_e_latest'\n",
        "col_allow_discovery_latest = 'allow_discovery_latest'\n",
        "col_primary_topic_latest = f\"primary_topic{latest_suffix}\"\n",
        "col_country_relevant = f'not_country_relevant'\n",
        "col_releveant_to_cluster = f'relevant_to_cluster/_other_subreddits_in_cluster'\n",
        "col_safe_to_show_in_cluster = f'safe_to_show_in_relation_to_cluster'\n",
        "\n",
        "col_new_cluster_val = 'cluster_label'\n",
        "col_new_cluster_name = 'cluster_label_k'\n",
        "col_model_sort_order = 'model_sort_order'\n",
        "\n",
        "l_cols_to_front = [\n",
        "    'subreddit_id',\n",
        "    'subreddit_name',\n",
        "    col_rated_e_latest,\n",
        "    col_over_18_latest,\n",
        "    col_allow_discovery_latest,\n",
        "    col_country_relevant,\n",
        "    col_releveant_to_cluster,\n",
        "    col_safe_to_show_in_cluster,\n",
        "\n",
        "    col_rating_latest,\n",
        "    'type',\n",
        "    col_primary_topic_latest,\n",
        "    col_new_cluster_val,\n",
        "    col_model_sort_order,\n",
        "    col_new_cluster_name,\n",
        "    'rating_short',\n",
        "    'over_18',\n",
        "\n",
        "]"
      ],
      "metadata": {
        "id": "JcIUKzb3E-o1"
      },
      "execution_count": 33,
      "outputs": []
    },
    {
      "cell_type": "code",
      "metadata": {
        "id": "rA5LyTuSiE6Q",
        "colab": {
          "base_uri": "https://localhost:8080/"
        },
        "outputId": "2737c500-6bbc-42b2-c638-24d397f8cd61"
      },
      "source": [
        "df_qa_latest = (\n",
        "    df_latest_ratings.drop(['subreddit_name'], axis=1)\n",
        "    .merge(\n",
        "        df_qa_raw,\n",
        "        how='right',\n",
        "        on=['subreddit_id', ],\n",
        "        suffixes=(latest_suffix, ''),\n",
        "    )\n",
        "    .sort_values(\n",
        "        by=[col_model_sort_order], ascending=True,\n",
        "    )\n",
        ")\n",
        "\n",
        "# make sure all objects in col are str so we can sort by it\n",
        "df_qa_latest[col_new_cluster_val] = df_qa_latest[col_new_cluster_val].astype(str)\n",
        "\n",
        "df_qa_latest = df_qa_latest[\n",
        "    reorder_array(\n",
        "        l_cols_to_front,\n",
        "        df_qa_latest.columns\n",
        "    )\n",
        "]\n",
        "print(df_qa_latest.shape)"
      ],
      "execution_count": 34,
      "outputs": [
        {
          "output_type": "stream",
          "name": "stdout",
          "text": [
            "(330, 43)\n"
          ]
        }
      ]
    },
    {
      "cell_type": "code",
      "source": [
        "# style_df_numeric(\n",
        "#     df_qa_latest.iloc[:5, :15],\n",
        "#     rename_cols_for_display=True,\n",
        "# )"
      ],
      "metadata": {
        "id": "0S34UsgJKUYY"
      },
      "execution_count": 35,
      "outputs": []
    },
    {
      "cell_type": "markdown",
      "source": [
        "## Drop sensitive subreddits\n",
        "\n",
        "These have been flagged as too sensitive or risky to show up in recommendations, so we're excluding them even if the crowd-sourced rating is `E` (people troll... it's reddit, after all)."
      ],
      "metadata": {
        "id": "TMVDT3E_OLeS"
      }
    },
    {
      "cell_type": "code",
      "source": [
        "# might need to re-import in order for live updates to show up\n",
        "from subclu.models.reshape_clusters_v041 import (\n",
        "    _L_MATURE_CLUSTERS_TO_EXCLUDE_FROM_QA_,\n",
        "    _L_SENSITIVE_SUBREDDITS_TO_EXCLUDE_FROM_FPRS_,\n",
        "    remove_sensitive_clusters_and_subs,\n",
        "    print_subreddit_name_qa_checks,\n",
        "    apply_qa_filters_for_fpr,\n",
        ")\n",
        "\n",
        "print(len(_L_SENSITIVE_SUBREDDITS_TO_EXCLUDE_FROM_FPRS_))\n",
        "_L_SENSITIVE_SUBREDDITS_TO_EXCLUDE_FROM_FPRS_[30:38]"
      ],
      "metadata": {
        "colab": {
          "base_uri": "https://localhost:8080/"
        },
        "id": "3jEaoD7LdGbY",
        "outputId": "5df91406-dd80-41ae-faac-328c7f75dadf"
      },
      "execution_count": 36,
      "outputs": [
        {
          "output_type": "stream",
          "name": "stdout",
          "text": [
            "96\n"
          ]
        },
        {
          "output_type": "execute_result",
          "data": {
            "text/plain": [
              "['askthe_donald',\n",
              " 'benshapiro',\n",
              " 'tucker_carlson',\n",
              " 'trueanon',\n",
              " 'beholdthemasterrace',\n",
              " 'globallockdown',\n",
              " 'nurembergtwo',\n",
              " 'covidiots']"
            ]
          },
          "metadata": {},
          "execution_count": 36
        }
      ]
    },
    {
      "cell_type": "code",
      "source": [
        "df_qa_clean = remove_sensitive_clusters_and_subs(\n",
        "    df_qa_latest,\n",
        "    additional_subs_to_filter=None,  # df_subs_to_filter['subreddit_name'],\n",
        "    col_new_cluster_val='cluster_label',\n",
        "    print_qa_check=True,\n",
        ")"
      ],
      "metadata": {
        "colab": {
          "base_uri": "https://localhost:8080/"
        },
        "id": "jJsjaUOIt4k6",
        "outputId": "1cdae967-6f9c-465f-8797-982502db861c"
      },
      "execution_count": 37,
      "outputs": [
        {
          "output_type": "stream",
          "name": "stdout",
          "text": [
            "(330, 43) <- Initial shape\n",
            "(330, 43) <- Shape AFTER dropping place-clusters\n",
            "(330, 43) <- Shape AFTER dropping covid-clusters\n",
            "(330, 43) <- Shape AFTER dropping sensitive clusters\n",
            "(330, 43) <- Shape AFTER dropping flagged subs B\n",
            "(329, 43) <- Shape AFTER dropping covid-related subs\n",
            "1 <- Total subreddits removed\n",
            "\n",
            "QA keyword subreddit checks:\n",
            "\n"
          ]
        }
      ]
    },
    {
      "cell_type": "markdown",
      "metadata": {
        "id": "UeRLdnYk8lOZ"
      },
      "source": [
        "# Apply filters based on QA + latest ratings\n",
        "\n",
        "Keep only subreddits that\n",
        "- Are rated as `E`\n",
        "    - Double check: `over_18` should be `f` or `NULL` \n",
        "- Relevant to country (`TRUE`)\n",
        "- Relevant to cluster (`TRUE`)\n",
        "- Safe to show in cluster (`TRUE`)\n",
        "- Have the `allow_discovery` flag to `t` or `NULL` (i.e., NOT `f`) \n"
      ]
    },
    {
      "cell_type": "code",
      "source": [
        "l_cols_qa = [\n",
        "    col_country_relevant,\n",
        "    col_releveant_to_cluster,\n",
        "    col_safe_to_show_in_cluster,\n",
        "    col_rated_e_latest,\n",
        "    col_allow_discovery_latest,\n",
        "    col_over_18_latest,\n",
        "]"
      ],
      "metadata": {
        "id": "E0PFAqkBTBlO"
      },
      "execution_count": 38,
      "outputs": []
    },
    {
      "cell_type": "markdown",
      "source": [
        "### Check each column individually"
      ],
      "metadata": {
        "id": "dVXfcDlqWjPe"
      }
    },
    {
      "cell_type": "code",
      "source": [
        "for c_ in l_cols_qa:\n",
        "    display(\n",
        "        value_counts_and_pcts(\n",
        "            df_qa_clean,\n",
        "            c_,\n",
        "            add_col_prefix=False,\n",
        "            reset_index=True,\n",
        "            sort_index=True, cumsum=False,\n",
        "            count_type='subreddits',\n",
        "            rename_cols_for_display=True,\n",
        "        )\n",
        "    )\n",
        "    print('')"
      ],
      "metadata": {
        "colab": {
          "base_uri": "https://localhost:8080/",
          "height": 0
        },
        "id": "dzZ-LgVgUP9e",
        "outputId": "b700e002-d148-4049-d851-0958f375d2be"
      },
      "execution_count": 39,
      "outputs": [
        {
          "output_type": "display_data",
          "data": {
            "text/plain": [
              "<pandas.io.formats.style.Styler at 0x7fc1552726d0>"
            ],
            "text/html": [
              "<style type=\"text/css\">\n",
              "#T_d6c63_row0_col2 {\n",
              "  width: 10em;\n",
              "  height: 80%;\n",
              "}\n",
              "</style>\n",
              "<table id=\"T_d6c63_\" class=\"dataframe\">\n",
              "  <thead>\n",
              "    <tr>\n",
              "      <th class=\"blank level0\" >&nbsp;</th>\n",
              "      <th class=\"col_heading level0 col0\" >not country relevant</th>\n",
              "      <th class=\"col_heading level0 col1\" >subreddits count</th>\n",
              "      <th class=\"col_heading level0 col2\" >percent of subreddits</th>\n",
              "    </tr>\n",
              "  </thead>\n",
              "  <tbody>\n",
              "    <tr>\n",
              "      <th id=\"T_d6c63_level0_row0\" class=\"row_heading level0 row0\" >0</th>\n",
              "      <td id=\"T_d6c63_row0_col0\" class=\"data row0 col0\" ></td>\n",
              "      <td id=\"T_d6c63_row0_col1\" class=\"data row0 col1\" >329</td>\n",
              "      <td id=\"T_d6c63_row0_col2\" class=\"data row0 col2\" >100.0%</td>\n",
              "    </tr>\n",
              "  </tbody>\n",
              "</table>\n"
            ]
          },
          "metadata": {}
        },
        {
          "output_type": "stream",
          "name": "stdout",
          "text": [
            "\n"
          ]
        },
        {
          "output_type": "display_data",
          "data": {
            "text/plain": [
              "<pandas.io.formats.style.Styler at 0x7fc15478f410>"
            ],
            "text/html": [
              "<style type=\"text/css\">\n",
              "#T_f942d_row0_col2 {\n",
              "  width: 10em;\n",
              "  height: 80%;\n",
              "}\n",
              "#T_f942d_row1_col2 {\n",
              "  width: 10em;\n",
              "  height: 80%;\n",
              "  background: linear-gradient(90deg,#95cff5 100.0%, transparent 100.0%);\n",
              "}\n",
              "</style>\n",
              "<table id=\"T_f942d_\" class=\"dataframe\">\n",
              "  <thead>\n",
              "    <tr>\n",
              "      <th class=\"blank level0\" >&nbsp;</th>\n",
              "      <th class=\"col_heading level0 col0\" >relevant to cluster/ other subreddits in cluster</th>\n",
              "      <th class=\"col_heading level0 col1\" >subreddits count</th>\n",
              "      <th class=\"col_heading level0 col2\" >percent of subreddits</th>\n",
              "    </tr>\n",
              "  </thead>\n",
              "  <tbody>\n",
              "    <tr>\n",
              "      <th id=\"T_f942d_level0_row0\" class=\"row_heading level0 row0\" >0</th>\n",
              "      <td id=\"T_f942d_row0_col0\" class=\"data row0 col0\" >FALSE</td>\n",
              "      <td id=\"T_f942d_row0_col1\" class=\"data row0 col1\" >118</td>\n",
              "      <td id=\"T_f942d_row0_col2\" class=\"data row0 col2\" >35.9%</td>\n",
              "    </tr>\n",
              "    <tr>\n",
              "      <th id=\"T_f942d_level0_row1\" class=\"row_heading level0 row1\" >1</th>\n",
              "      <td id=\"T_f942d_row1_col0\" class=\"data row1 col0\" >TRUE</td>\n",
              "      <td id=\"T_f942d_row1_col1\" class=\"data row1 col1\" >211</td>\n",
              "      <td id=\"T_f942d_row1_col2\" class=\"data row1 col2\" >64.1%</td>\n",
              "    </tr>\n",
              "  </tbody>\n",
              "</table>\n"
            ]
          },
          "metadata": {}
        },
        {
          "output_type": "stream",
          "name": "stdout",
          "text": [
            "\n"
          ]
        },
        {
          "output_type": "display_data",
          "data": {
            "text/plain": [
              "<pandas.io.formats.style.Styler at 0x7fc1545be110>"
            ],
            "text/html": [
              "<style type=\"text/css\">\n",
              "#T_6bcfc_row0_col2 {\n",
              "  width: 10em;\n",
              "  height: 80%;\n",
              "}\n",
              "#T_6bcfc_row1_col2 {\n",
              "  width: 10em;\n",
              "  height: 80%;\n",
              "  background: linear-gradient(90deg,#95cff5 100.0%, transparent 100.0%);\n",
              "}\n",
              "</style>\n",
              "<table id=\"T_6bcfc_\" class=\"dataframe\">\n",
              "  <thead>\n",
              "    <tr>\n",
              "      <th class=\"blank level0\" >&nbsp;</th>\n",
              "      <th class=\"col_heading level0 col0\" >safe to show in relation to cluster</th>\n",
              "      <th class=\"col_heading level0 col1\" >subreddits count</th>\n",
              "      <th class=\"col_heading level0 col2\" >percent of subreddits</th>\n",
              "    </tr>\n",
              "  </thead>\n",
              "  <tbody>\n",
              "    <tr>\n",
              "      <th id=\"T_6bcfc_level0_row0\" class=\"row_heading level0 row0\" >0</th>\n",
              "      <td id=\"T_6bcfc_row0_col0\" class=\"data row0 col0\" >FALSE</td>\n",
              "      <td id=\"T_6bcfc_row0_col1\" class=\"data row0 col1\" >151</td>\n",
              "      <td id=\"T_6bcfc_row0_col2\" class=\"data row0 col2\" >45.9%</td>\n",
              "    </tr>\n",
              "    <tr>\n",
              "      <th id=\"T_6bcfc_level0_row1\" class=\"row_heading level0 row1\" >1</th>\n",
              "      <td id=\"T_6bcfc_row1_col0\" class=\"data row1 col0\" >TRUE</td>\n",
              "      <td id=\"T_6bcfc_row1_col1\" class=\"data row1 col1\" >178</td>\n",
              "      <td id=\"T_6bcfc_row1_col2\" class=\"data row1 col2\" >54.1%</td>\n",
              "    </tr>\n",
              "  </tbody>\n",
              "</table>\n"
            ]
          },
          "metadata": {}
        },
        {
          "output_type": "stream",
          "name": "stdout",
          "text": [
            "\n"
          ]
        },
        {
          "output_type": "display_data",
          "data": {
            "text/plain": [
              "<pandas.io.formats.style.Styler at 0x7fc154f8a390>"
            ],
            "text/html": [
              "<style type=\"text/css\">\n",
              "#T_85d26_row0_col2 {\n",
              "  width: 10em;\n",
              "  height: 80%;\n",
              "}\n",
              "#T_85d26_row1_col2 {\n",
              "  width: 10em;\n",
              "  height: 80%;\n",
              "  background: linear-gradient(90deg,#95cff5 100.0%, transparent 100.0%);\n",
              "}\n",
              "</style>\n",
              "<table id=\"T_85d26_\" class=\"dataframe\">\n",
              "  <thead>\n",
              "    <tr>\n",
              "      <th class=\"blank level0\" >&nbsp;</th>\n",
              "      <th class=\"col_heading level0 col0\" >rated e latest</th>\n",
              "      <th class=\"col_heading level0 col1\" >subreddits count</th>\n",
              "      <th class=\"col_heading level0 col2\" >percent of subreddits</th>\n",
              "    </tr>\n",
              "  </thead>\n",
              "  <tbody>\n",
              "    <tr>\n",
              "      <th id=\"T_85d26_level0_row0\" class=\"row_heading level0 row0\" >0</th>\n",
              "      <td id=\"T_85d26_row0_col0\" class=\"data row0 col0\" >False</td>\n",
              "      <td id=\"T_85d26_row0_col1\" class=\"data row0 col1\" >19</td>\n",
              "      <td id=\"T_85d26_row0_col2\" class=\"data row0 col2\" >5.8%</td>\n",
              "    </tr>\n",
              "    <tr>\n",
              "      <th id=\"T_85d26_level0_row1\" class=\"row_heading level0 row1\" >1</th>\n",
              "      <td id=\"T_85d26_row1_col0\" class=\"data row1 col0\" >True</td>\n",
              "      <td id=\"T_85d26_row1_col1\" class=\"data row1 col1\" >310</td>\n",
              "      <td id=\"T_85d26_row1_col2\" class=\"data row1 col2\" >94.2%</td>\n",
              "    </tr>\n",
              "  </tbody>\n",
              "</table>\n"
            ]
          },
          "metadata": {}
        },
        {
          "output_type": "stream",
          "name": "stdout",
          "text": [
            "\n"
          ]
        },
        {
          "output_type": "display_data",
          "data": {
            "text/plain": [
              "<pandas.io.formats.style.Styler at 0x7fc154f80990>"
            ],
            "text/html": [
              "<style type=\"text/css\">\n",
              "#T_64436_row0_col2 {\n",
              "  width: 10em;\n",
              "  height: 80%;\n",
              "}\n",
              "#T_64436_row1_col2 {\n",
              "  width: 10em;\n",
              "  height: 80%;\n",
              "  background: linear-gradient(90deg,#95cff5 11.0%, transparent 11.0%);\n",
              "}\n",
              "#T_64436_row2_col2 {\n",
              "  width: 10em;\n",
              "  height: 80%;\n",
              "  background: linear-gradient(90deg,#95cff5 100.0%, transparent 100.0%);\n",
              "}\n",
              "</style>\n",
              "<table id=\"T_64436_\" class=\"dataframe\">\n",
              "  <thead>\n",
              "    <tr>\n",
              "      <th class=\"blank level0\" >&nbsp;</th>\n",
              "      <th class=\"col_heading level0 col0\" >allow discovery latest</th>\n",
              "      <th class=\"col_heading level0 col1\" >subreddits count</th>\n",
              "      <th class=\"col_heading level0 col2\" >percent of subreddits</th>\n",
              "    </tr>\n",
              "  </thead>\n",
              "  <tbody>\n",
              "    <tr>\n",
              "      <th id=\"T_64436_level0_row0\" class=\"row_heading level0 row0\" >0</th>\n",
              "      <td id=\"T_64436_row0_col0\" class=\"data row0 col0\" >f</td>\n",
              "      <td id=\"T_64436_row0_col1\" class=\"data row0 col1\" >2</td>\n",
              "      <td id=\"T_64436_row0_col2\" class=\"data row0 col2\" >0.6%</td>\n",
              "    </tr>\n",
              "    <tr>\n",
              "      <th id=\"T_64436_level0_row1\" class=\"row_heading level0 row1\" >1</th>\n",
              "      <td id=\"T_64436_row1_col0\" class=\"data row1 col0\" >t</td>\n",
              "      <td id=\"T_64436_row1_col1\" class=\"data row1 col1\" >34</td>\n",
              "      <td id=\"T_64436_row1_col2\" class=\"data row1 col2\" >10.3%</td>\n",
              "    </tr>\n",
              "    <tr>\n",
              "      <th id=\"T_64436_level0_row2\" class=\"row_heading level0 row2\" >2</th>\n",
              "      <td id=\"T_64436_row2_col0\" class=\"data row2 col0\" >nan</td>\n",
              "      <td id=\"T_64436_row2_col1\" class=\"data row2 col1\" >293</td>\n",
              "      <td id=\"T_64436_row2_col2\" class=\"data row2 col2\" >89.1%</td>\n",
              "    </tr>\n",
              "  </tbody>\n",
              "</table>\n"
            ]
          },
          "metadata": {}
        },
        {
          "output_type": "stream",
          "name": "stdout",
          "text": [
            "\n"
          ]
        },
        {
          "output_type": "display_data",
          "data": {
            "text/plain": [
              "<pandas.io.formats.style.Styler at 0x7fc15441c190>"
            ],
            "text/html": [
              "<style type=\"text/css\">\n",
              "#T_043ac_row0_col2 {\n",
              "  width: 10em;\n",
              "  height: 80%;\n",
              "}\n",
              "#T_043ac_row1_col2 {\n",
              "  width: 10em;\n",
              "  height: 80%;\n",
              "  background: linear-gradient(90deg,#95cff5 100.0%, transparent 100.0%);\n",
              "}\n",
              "</style>\n",
              "<table id=\"T_043ac_\" class=\"dataframe\">\n",
              "  <thead>\n",
              "    <tr>\n",
              "      <th class=\"blank level0\" >&nbsp;</th>\n",
              "      <th class=\"col_heading level0 col0\" >over 18 latest</th>\n",
              "      <th class=\"col_heading level0 col1\" >subreddits count</th>\n",
              "      <th class=\"col_heading level0 col2\" >percent of subreddits</th>\n",
              "    </tr>\n",
              "  </thead>\n",
              "  <tbody>\n",
              "    <tr>\n",
              "      <th id=\"T_043ac_level0_row0\" class=\"row_heading level0 row0\" >0</th>\n",
              "      <td id=\"T_043ac_row0_col0\" class=\"data row0 col0\" >f</td>\n",
              "      <td id=\"T_043ac_row0_col1\" class=\"data row0 col1\" >70</td>\n",
              "      <td id=\"T_043ac_row0_col2\" class=\"data row0 col2\" >21.3%</td>\n",
              "    </tr>\n",
              "    <tr>\n",
              "      <th id=\"T_043ac_level0_row1\" class=\"row_heading level0 row1\" >1</th>\n",
              "      <td id=\"T_043ac_row1_col0\" class=\"data row1 col0\" >nan</td>\n",
              "      <td id=\"T_043ac_row1_col1\" class=\"data row1 col1\" >259</td>\n",
              "      <td id=\"T_043ac_row1_col2\" class=\"data row1 col2\" >78.7%</td>\n",
              "    </tr>\n",
              "  </tbody>\n",
              "</table>\n"
            ]
          },
          "metadata": {}
        },
        {
          "output_type": "stream",
          "name": "stdout",
          "text": [
            "\n"
          ]
        }
      ]
    },
    {
      "cell_type": "markdown",
      "source": [
        "### Matrix of all conditions in one table\n",
        "\n"
      ],
      "metadata": {
        "id": "DnOsqEChXvbZ"
      }
    },
    {
      "cell_type": "code",
      "metadata": {
        "colab": {
          "base_uri": "https://localhost:8080/",
          "height": 366
        },
        "id": "wjJHp2vB86XO",
        "outputId": "b26be734-a28f-408f-86a0-975477608891"
      },
      "source": [
        "value_counts_and_pcts(\n",
        "    df_qa_clean.fillna(value={col_allow_discovery_latest: 't', col_over_18_latest: 'f'}),\n",
        "    l_cols_qa[:],\n",
        "    add_col_prefix=False,\n",
        "    # reset_index=True,\n",
        "    sort_index=True, cumsum=False,\n",
        "    count_type='subreddits',\n",
        "    rename_cols_for_display=True,\n",
        ")"
      ],
      "execution_count": 40,
      "outputs": [
        {
          "output_type": "execute_result",
          "data": {
            "text/plain": [
              "<pandas.io.formats.style.Styler at 0x7fc1545e4050>"
            ],
            "text/html": [
              "<style type=\"text/css\">\n",
              "#T_7c5da_row0_col1 {\n",
              "  width: 10em;\n",
              "  height: 80%;\n",
              "  background: linear-gradient(90deg,#95cff5 7.5%, transparent 7.5%);\n",
              "}\n",
              "#T_7c5da_row1_col1, #T_7c5da_row3_col1, #T_7c5da_row4_col1 {\n",
              "  width: 10em;\n",
              "  height: 80%;\n",
              "}\n",
              "#T_7c5da_row2_col1 {\n",
              "  width: 10em;\n",
              "  height: 80%;\n",
              "  background: linear-gradient(90deg,#95cff5 59.0%, transparent 59.0%);\n",
              "}\n",
              "#T_7c5da_row5_col1 {\n",
              "  width: 10em;\n",
              "  height: 80%;\n",
              "  background: linear-gradient(90deg,#95cff5 17.3%, transparent 17.3%);\n",
              "}\n",
              "#T_7c5da_row6_col1 {\n",
              "  width: 10em;\n",
              "  height: 80%;\n",
              "  background: linear-gradient(90deg,#95cff5 1.7%, transparent 1.7%);\n",
              "}\n",
              "#T_7c5da_row7_col1 {\n",
              "  width: 10em;\n",
              "  height: 80%;\n",
              "  background: linear-gradient(90deg,#95cff5 100.0%, transparent 100.0%);\n",
              "}\n",
              "</style>\n",
              "<table id=\"T_7c5da_\" class=\"dataframe\">\n",
              "  <thead>\n",
              "    <tr>\n",
              "      <th class=\"blank\" >&nbsp;</th>\n",
              "      <th class=\"blank\" >&nbsp;</th>\n",
              "      <th class=\"blank\" >&nbsp;</th>\n",
              "      <th class=\"blank\" >&nbsp;</th>\n",
              "      <th class=\"blank\" >&nbsp;</th>\n",
              "      <th class=\"blank level0\" >&nbsp;</th>\n",
              "      <th class=\"col_heading level0 col0\" >subreddits count</th>\n",
              "      <th class=\"col_heading level0 col1\" >percent of subreddits</th>\n",
              "    </tr>\n",
              "    <tr>\n",
              "      <th class=\"index_name level0\" >not country relevant</th>\n",
              "      <th class=\"index_name level1\" >relevant to cluster/ other subreddits in cluster</th>\n",
              "      <th class=\"index_name level2\" >safe to show in relation to cluster</th>\n",
              "      <th class=\"index_name level3\" >rated e latest</th>\n",
              "      <th class=\"index_name level4\" >allow discovery latest</th>\n",
              "      <th class=\"index_name level5\" >over 18 latest</th>\n",
              "      <th class=\"blank col0\" >&nbsp;</th>\n",
              "      <th class=\"blank col1\" >&nbsp;</th>\n",
              "    </tr>\n",
              "  </thead>\n",
              "  <tbody>\n",
              "    <tr>\n",
              "      <th id=\"T_7c5da_level0_row0\" class=\"row_heading level0 row0\" rowspan=\"8\"></th>\n",
              "      <th id=\"T_7c5da_level1_row0\" class=\"row_heading level1 row0\" rowspan=\"3\">FALSE</th>\n",
              "      <th id=\"T_7c5da_level2_row0\" class=\"row_heading level2 row0\" rowspan=\"3\">FALSE</th>\n",
              "      <th id=\"T_7c5da_level3_row0\" class=\"row_heading level3 row0\" >False</th>\n",
              "      <th id=\"T_7c5da_level4_row0\" class=\"row_heading level4 row0\" >t</th>\n",
              "      <th id=\"T_7c5da_level5_row0\" class=\"row_heading level5 row0\" >f</th>\n",
              "      <td id=\"T_7c5da_row0_col0\" class=\"data row0 col0\" >14</td>\n",
              "      <td id=\"T_7c5da_row0_col1\" class=\"data row0 col1\" >4.3%</td>\n",
              "    </tr>\n",
              "    <tr>\n",
              "      <th id=\"T_7c5da_level3_row1\" class=\"row_heading level3 row1\" rowspan=\"2\">True</th>\n",
              "      <th id=\"T_7c5da_level4_row1\" class=\"row_heading level4 row1\" >f</th>\n",
              "      <th id=\"T_7c5da_level5_row1\" class=\"row_heading level5 row1\" >f</th>\n",
              "      <td id=\"T_7c5da_row1_col0\" class=\"data row1 col0\" >1</td>\n",
              "      <td id=\"T_7c5da_row1_col1\" class=\"data row1 col1\" >0.3%</td>\n",
              "    </tr>\n",
              "    <tr>\n",
              "      <th id=\"T_7c5da_level4_row2\" class=\"row_heading level4 row2\" >t</th>\n",
              "      <th id=\"T_7c5da_level5_row2\" class=\"row_heading level5 row2\" >f</th>\n",
              "      <td id=\"T_7c5da_row2_col0\" class=\"data row2 col0\" >103</td>\n",
              "      <td id=\"T_7c5da_row2_col1\" class=\"data row2 col1\" >31.3%</td>\n",
              "    </tr>\n",
              "    <tr>\n",
              "      <th id=\"T_7c5da_level1_row3\" class=\"row_heading level1 row3\" rowspan=\"5\">TRUE</th>\n",
              "      <th id=\"T_7c5da_level2_row3\" class=\"row_heading level2 row3\" rowspan=\"3\">FALSE</th>\n",
              "      <th id=\"T_7c5da_level3_row3\" class=\"row_heading level3 row3\" >False</th>\n",
              "      <th id=\"T_7c5da_level4_row3\" class=\"row_heading level4 row3\" >t</th>\n",
              "      <th id=\"T_7c5da_level5_row3\" class=\"row_heading level5 row3\" >f</th>\n",
              "      <td id=\"T_7c5da_row3_col0\" class=\"data row3 col0\" >1</td>\n",
              "      <td id=\"T_7c5da_row3_col1\" class=\"data row3 col1\" >0.3%</td>\n",
              "    </tr>\n",
              "    <tr>\n",
              "      <th id=\"T_7c5da_level3_row4\" class=\"row_heading level3 row4\" rowspan=\"2\">True</th>\n",
              "      <th id=\"T_7c5da_level4_row4\" class=\"row_heading level4 row4\" >f</th>\n",
              "      <th id=\"T_7c5da_level5_row4\" class=\"row_heading level5 row4\" >f</th>\n",
              "      <td id=\"T_7c5da_row4_col0\" class=\"data row4 col0\" >1</td>\n",
              "      <td id=\"T_7c5da_row4_col1\" class=\"data row4 col1\" >0.3%</td>\n",
              "    </tr>\n",
              "    <tr>\n",
              "      <th id=\"T_7c5da_level4_row5\" class=\"row_heading level4 row5\" >t</th>\n",
              "      <th id=\"T_7c5da_level5_row5\" class=\"row_heading level5 row5\" >f</th>\n",
              "      <td id=\"T_7c5da_row5_col0\" class=\"data row5 col0\" >31</td>\n",
              "      <td id=\"T_7c5da_row5_col1\" class=\"data row5 col1\" >9.4%</td>\n",
              "    </tr>\n",
              "    <tr>\n",
              "      <th id=\"T_7c5da_level2_row6\" class=\"row_heading level2 row6\" rowspan=\"2\">TRUE</th>\n",
              "      <th id=\"T_7c5da_level3_row6\" class=\"row_heading level3 row6\" >False</th>\n",
              "      <th id=\"T_7c5da_level4_row6\" class=\"row_heading level4 row6\" >t</th>\n",
              "      <th id=\"T_7c5da_level5_row6\" class=\"row_heading level5 row6\" >f</th>\n",
              "      <td id=\"T_7c5da_row6_col0\" class=\"data row6 col0\" >4</td>\n",
              "      <td id=\"T_7c5da_row6_col1\" class=\"data row6 col1\" >1.2%</td>\n",
              "    </tr>\n",
              "    <tr>\n",
              "      <th id=\"T_7c5da_level3_row7\" class=\"row_heading level3 row7\" >True</th>\n",
              "      <th id=\"T_7c5da_level4_row7\" class=\"row_heading level4 row7\" >t</th>\n",
              "      <th id=\"T_7c5da_level5_row7\" class=\"row_heading level5 row7\" >f</th>\n",
              "      <td id=\"T_7c5da_row7_col0\" class=\"data row7 col0\" >174</td>\n",
              "      <td id=\"T_7c5da_row7_col1\" class=\"data row7 col1\" >52.9%</td>\n",
              "    </tr>\n",
              "  </tbody>\n",
              "</table>\n"
            ]
          },
          "metadata": {},
          "execution_count": 40
        }
      ]
    },
    {
      "cell_type": "code",
      "source": [
        "df_qa_clean[df_qa_clean['rated_e_latest'].isnull()].iloc[:5, :20]"
      ],
      "metadata": {
        "colab": {
          "base_uri": "https://localhost:8080/",
          "height": 90
        },
        "id": "5oimFsoB2Pfu",
        "outputId": "3efa0bfc-aceb-48a9-e766-4e909fc4fe1f"
      },
      "execution_count": 41,
      "outputs": [
        {
          "output_type": "execute_result",
          "data": {
            "text/plain": [
              "Empty DataFrame\n",
              "Columns: [subreddit_id, subreddit_name, rated_e_latest, over_18_latest, allow_discovery_latest, not_country_relevant, relevant_to_cluster/_other_subreddits_in_cluster, safe_to_show_in_relation_to_cluster, rating_short_latest, type, primary_topic_latest, cluster_label, model_sort_order, cluster_label_k, rating_short, over_18, rating_name_latest, cluster_label_int, cluster_topic_mix, rated_e]\n",
              "Index: []"
            ],
            "text/html": [
              "\n",
              "  <div id=\"df-b8a0ffa6-4de0-4b35-aac0-3e720174daab\">\n",
              "    <div class=\"colab-df-container\">\n",
              "      <div>\n",
              "<style scoped>\n",
              "    .dataframe tbody tr th:only-of-type {\n",
              "        vertical-align: middle;\n",
              "    }\n",
              "\n",
              "    .dataframe tbody tr th {\n",
              "        vertical-align: top;\n",
              "    }\n",
              "\n",
              "    .dataframe thead th {\n",
              "        text-align: right;\n",
              "    }\n",
              "</style>\n",
              "<table border=\"1\" class=\"dataframe\">\n",
              "  <thead>\n",
              "    <tr style=\"text-align: right;\">\n",
              "      <th></th>\n",
              "      <th>subreddit_id</th>\n",
              "      <th>subreddit_name</th>\n",
              "      <th>rated_e_latest</th>\n",
              "      <th>over_18_latest</th>\n",
              "      <th>allow_discovery_latest</th>\n",
              "      <th>not_country_relevant</th>\n",
              "      <th>relevant_to_cluster/_other_subreddits_in_cluster</th>\n",
              "      <th>safe_to_show_in_relation_to_cluster</th>\n",
              "      <th>rating_short_latest</th>\n",
              "      <th>type</th>\n",
              "      <th>primary_topic_latest</th>\n",
              "      <th>cluster_label</th>\n",
              "      <th>model_sort_order</th>\n",
              "      <th>cluster_label_k</th>\n",
              "      <th>rating_short</th>\n",
              "      <th>over_18</th>\n",
              "      <th>rating_name_latest</th>\n",
              "      <th>cluster_label_int</th>\n",
              "      <th>cluster_topic_mix</th>\n",
              "      <th>rated_e</th>\n",
              "    </tr>\n",
              "  </thead>\n",
              "  <tbody>\n",
              "  </tbody>\n",
              "</table>\n",
              "</div>\n",
              "      <button class=\"colab-df-convert\" onclick=\"convertToInteractive('df-b8a0ffa6-4de0-4b35-aac0-3e720174daab')\"\n",
              "              title=\"Convert this dataframe to an interactive table.\"\n",
              "              style=\"display:none;\">\n",
              "        \n",
              "  <svg xmlns=\"http://www.w3.org/2000/svg\" height=\"24px\"viewBox=\"0 0 24 24\"\n",
              "       width=\"24px\">\n",
              "    <path d=\"M0 0h24v24H0V0z\" fill=\"none\"/>\n",
              "    <path d=\"M18.56 5.44l.94 2.06.94-2.06 2.06-.94-2.06-.94-.94-2.06-.94 2.06-2.06.94zm-11 1L8.5 8.5l.94-2.06 2.06-.94-2.06-.94L8.5 2.5l-.94 2.06-2.06.94zm10 10l.94 2.06.94-2.06 2.06-.94-2.06-.94-.94-2.06-.94 2.06-2.06.94z\"/><path d=\"M17.41 7.96l-1.37-1.37c-.4-.4-.92-.59-1.43-.59-.52 0-1.04.2-1.43.59L10.3 9.45l-7.72 7.72c-.78.78-.78 2.05 0 2.83L4 21.41c.39.39.9.59 1.41.59.51 0 1.02-.2 1.41-.59l7.78-7.78 2.81-2.81c.8-.78.8-2.07 0-2.86zM5.41 20L4 18.59l7.72-7.72 1.47 1.35L5.41 20z\"/>\n",
              "  </svg>\n",
              "      </button>\n",
              "      \n",
              "  <style>\n",
              "    .colab-df-container {\n",
              "      display:flex;\n",
              "      flex-wrap:wrap;\n",
              "      gap: 12px;\n",
              "    }\n",
              "\n",
              "    .colab-df-convert {\n",
              "      background-color: #E8F0FE;\n",
              "      border: none;\n",
              "      border-radius: 50%;\n",
              "      cursor: pointer;\n",
              "      display: none;\n",
              "      fill: #1967D2;\n",
              "      height: 32px;\n",
              "      padding: 0 0 0 0;\n",
              "      width: 32px;\n",
              "    }\n",
              "\n",
              "    .colab-df-convert:hover {\n",
              "      background-color: #E2EBFA;\n",
              "      box-shadow: 0px 1px 2px rgba(60, 64, 67, 0.3), 0px 1px 3px 1px rgba(60, 64, 67, 0.15);\n",
              "      fill: #174EA6;\n",
              "    }\n",
              "\n",
              "    [theme=dark] .colab-df-convert {\n",
              "      background-color: #3B4455;\n",
              "      fill: #D2E3FC;\n",
              "    }\n",
              "\n",
              "    [theme=dark] .colab-df-convert:hover {\n",
              "      background-color: #434B5C;\n",
              "      box-shadow: 0px 1px 3px 1px rgba(0, 0, 0, 0.15);\n",
              "      filter: drop-shadow(0px 1px 2px rgba(0, 0, 0, 0.3));\n",
              "      fill: #FFFFFF;\n",
              "    }\n",
              "  </style>\n",
              "\n",
              "      <script>\n",
              "        const buttonEl =\n",
              "          document.querySelector('#df-b8a0ffa6-4de0-4b35-aac0-3e720174daab button.colab-df-convert');\n",
              "        buttonEl.style.display =\n",
              "          google.colab.kernel.accessAllowed ? 'block' : 'none';\n",
              "\n",
              "        async function convertToInteractive(key) {\n",
              "          const element = document.querySelector('#df-b8a0ffa6-4de0-4b35-aac0-3e720174daab');\n",
              "          const dataTable =\n",
              "            await google.colab.kernel.invokeFunction('convertToInteractive',\n",
              "                                                     [key], {});\n",
              "          if (!dataTable) return;\n",
              "\n",
              "          const docLinkHtml = 'Like what you see? Visit the ' +\n",
              "            '<a target=\"_blank\" href=https://colab.research.google.com/notebooks/data_table.ipynb>data table notebook</a>'\n",
              "            + ' to learn more about interactive tables.';\n",
              "          element.innerHTML = '';\n",
              "          dataTable['output_type'] = 'display_data';\n",
              "          await google.colab.output.renderOutput(dataTable, element);\n",
              "          const docLink = document.createElement('div');\n",
              "          docLink.innerHTML = docLinkHtml;\n",
              "          element.appendChild(docLink);\n",
              "        }\n",
              "      </script>\n",
              "    </div>\n",
              "  </div>\n",
              "  "
            ],
            "application/vnd.google.colaboratory.module+javascript": "\n      import \"https://ssl.gstatic.com/colaboratory/data_table/81f25a011006ed3d/data_table.js\";\n\n      window.createDataTable({\n        data: [],\n        columns: [[\"number\", \"index\"], [\"number\", \"subreddit_id\"], [\"number\", \"subreddit_name\"], [\"number\", \"rated_e_latest\"], [\"number\", \"over_18_latest\"], [\"number\", \"allow_discovery_latest\"], [\"number\", \"not_country_relevant\"], [\"number\", \"relevant_to_cluster/_other_subreddits_in_cluster\"], [\"number\", \"safe_to_show_in_relation_to_cluster\"], [\"number\", \"rating_short_latest\"], [\"number\", \"type\"], [\"number\", \"primary_topic_latest\"], [\"number\", \"cluster_label\"], [\"number\", \"model_sort_order\"], [\"number\", \"cluster_label_k\"], [\"number\", \"rating_short\"], [\"number\", \"over_18\"], [\"number\", \"rating_name_latest\"], [\"number\", \"cluster_label_int\"], [\"number\", \"cluster_topic_mix\"], [\"number\", \"rated_e\"]],\n        columnOptions: [{\"width\": \"1px\", \"className\": \"index_column\"}],\n        rowsPerPage: 25,\n        helpUrl: \"https://colab.research.google.com/notebooks/data_table.ipynb\",\n        suppressOutputScrolling: true,\n        minimumWidth: undefined,\n      });\n    "
          },
          "metadata": {},
          "execution_count": 41
        }
      ]
    },
    {
      "cell_type": "markdown",
      "source": [
        "### Create & apply masks\n",
        "\n",
        "NOTE: before ratings update France only had 117 eligible subreddits."
      ],
      "metadata": {
        "id": "MKfd8-H8ZIGd"
      }
    },
    {
      "cell_type": "code",
      "source": [
        "print(datetime.utcnow())\n",
        "df_qa_clean = apply_qa_filters_for_fpr(\n",
        "    df_qa_clean,\n",
        "    print_qa_check=True,\n",
        ")"
      ],
      "metadata": {
        "colab": {
          "base_uri": "https://localhost:8080/"
        },
        "id": "Nc-k22eh4or4",
        "outputId": "55037a67-4294-423c-bcf5-44621ef5eabb"
      },
      "execution_count": 42,
      "outputs": [
        {
          "output_type": "stream",
          "name": "stdout",
          "text": [
            "2022-04-06 17:53:00.758357\n",
            "\n",
            "QA keyword subreddit checks:\n",
            "\n",
            "329 <- Initial subreddit count\n",
            "174 <- Clean subreddits to use\n",
            "(174, 43) <- df subreddits to use for FPR\n"
          ]
        }
      ]
    },
    {
      "cell_type": "markdown",
      "metadata": {
        "id": "QvAwvmgzAHTy"
      },
      "source": [
        "# Reshape data for Subreddit seed -> Cluster list \n",
        "\n",
        "NOTE: previous run only had 113 subreddits.\n",
        "```\n",
        "(793, 8) <- df_ab.shape raw\n",
        "  (676, 8) <- df_ab.shape after removing matches to self\n",
        "  Groupby cols:\n",
        "    ['model_sort_order', 'subreddit_id_seed', 'subreddit_name_seed', 'cluster_label', 'cluster_label_k', 'rating_short_latest']\n",
        "  (113, 8) <- df_a_to_b.shape\n",
        "```"
      ]
    },
    {
      "cell_type": "code",
      "metadata": {
        "colab": {
          "base_uri": "https://localhost:8080/"
        },
        "id": "oJG3-nfTmiLg",
        "outputId": "0ef0ab64-2545-4bf2-d60f-b036e2d6621e"
      },
      "source": [
        "%%time\n",
        "# col_new_cluster_val = 'cluster_label'\n",
        "# col_new_cluster_name = 'cluster_label_k'\n",
        "# col_new_cluster_prim_topic = 'cluster_name'\n",
        "\n",
        "# make sure all objects in col are str so we can sort by it\n",
        "# df_qa_clean[col_new_cluster_val] = df_qa_clean[col_new_cluster_val].astype(str)\n",
        "\n",
        "l_cols_for_seeds = [\n",
        "    'subreddit_id', 'subreddit_name',\n",
        "    col_model_sort_order, col_rating_latest,\n",
        "    col_new_cluster_val, col_new_cluster_name,\n",
        "]\n",
        "\n",
        "print(datetime.utcnow())\n",
        "\n",
        "df_target_to_target_list = convert_distance_or_ab_to_list_for_fpr(\n",
        "    df_qa_clean,\n",
        "    convert_to_ab=True,\n",
        "    col_counterpart_count='subreddits_to_recommend_count',\n",
        "    col_list_cluster_names='list_cluster_subreddit_names',\n",
        "    col_list_cluster_ids='list_cluster_subreddit_ids',\n",
        "    l_cols_for_seeds=l_cols_for_seeds,\n",
        "    l_cols_for_clusters=None, \n",
        "    col_new_cluster_val=col_new_cluster_val,\n",
        "    col_new_cluster_name=col_new_cluster_name,\n",
        "    # col_new_cluster_prim_topic=col_new_cluster_prim_topic,\n",
        "    col_sort_by=col_new_cluster_val,\n",
        "    verbose=True,\n",
        ")"
      ],
      "execution_count": 44,
      "outputs": [
        {
          "output_type": "stream",
          "name": "stdout",
          "text": [
            "2022-04-06 17:54:34.035218\n",
            "['subreddit_id', 'subreddit_name', 'model_sort_order', 'rating_short_latest', 'cluster_label', 'cluster_label_k']\n",
            "['subreddit_id', 'subreddit_name', 'cluster_label']\n",
            "  (1132, 8) <- df_ab.shape raw\n",
            "  (958, 8) <- df_ab.shape after removing matches to self\n",
            "  Groupby cols:\n",
            "    ['model_sort_order', 'subreddit_id_seed', 'subreddit_name_seed', 'cluster_label', 'cluster_label_k', 'rating_short_latest']\n",
            "  (173, 8) <- df_a_to_b.shape\n",
            "CPU times: user 33.5 ms, sys: 804 µs, total: 34.3 ms\n",
            "Wall time: 34.4 ms\n"
          ]
        }
      ]
    },
    {
      "cell_type": "code",
      "source": [
        "# df_target_to_target_list.sort_values(by=['cluster_label', ], ascending=True).iloc[:9, :]"
      ],
      "metadata": {
        "id": "0iz76DZTin7w"
      },
      "execution_count": 45,
      "outputs": []
    },
    {
      "cell_type": "code",
      "metadata": {
        "colab": {
          "base_uri": "https://localhost:8080/",
          "height": 901
        },
        "id": "zDeaY5v3_YUS",
        "outputId": "001c80fe-9423-42d3-ae67-f1152146769e"
      },
      "source": [
        "df_target_to_target_list.head(10)"
      ],
      "execution_count": 48,
      "outputs": [
        {
          "output_type": "execute_result",
          "data": {
            "text/plain": [
              "   subreddit_id_seed subreddit_name_seed  \\\n",
              "0           t5_fucxb             traefik   \n",
              "1           t5_2x7n9             ansible   \n",
              "2           t5_2r358             symfony   \n",
              "3           t5_36dkt            airtable   \n",
              "4           t5_2qo1o          powershell   \n",
              "5           t5_2qi8f                 ada   \n",
              "6           t5_3fwdt            numworks   \n",
              "7           t5_2t5jj       programmation   \n",
              "22          t5_sl8v7            jellyfin   \n",
              "21          t5_2sqvk           seedboxes   \n",
              "\n",
              "                              cluster_label cluster_label_k  \\\n",
              "0   0006-0008-0013-0016-0016-0020-0021-0025    k_0118_label   \n",
              "1   0006-0008-0013-0016-0016-0020-0021-0025    k_0118_label   \n",
              "2   0006-0008-0013-0016-0016-0020-0021-0025    k_0118_label   \n",
              "3   0006-0008-0013-0016-0016-0020-0021-0025    k_0118_label   \n",
              "4   0006-0008-0013-0016-0016-0020-0021-0025    k_0118_label   \n",
              "5   0006-0008-0013-0016-0016-0020-0021-0025    k_0118_label   \n",
              "6   0006-0008-0013-0016-0016-0020-0021-0025    k_0118_label   \n",
              "7   0006-0008-0013-0016-0016-0020-0021-0025    k_0118_label   \n",
              "22  0006-0008-0013-0017-0017-0021-0022-0026    k_0118_label   \n",
              "21  0006-0008-0013-0017-0017-0021-0022-0026    k_0118_label   \n",
              "\n",
              "   rating_short_latest  subreddits_to_recommend_count  \\\n",
              "0                    E                              7   \n",
              "1                    E                              7   \n",
              "2                    E                              7   \n",
              "3                    E                              7   \n",
              "4                    E                              7   \n",
              "5                    E                              7   \n",
              "6                    E                              7   \n",
              "7                    E                              7   \n",
              "22                   E                             14   \n",
              "21                   E                             14   \n",
              "\n",
              "                         list_cluster_subreddit_names  \\\n",
              "0   ansible, symfony, airtable, powershell, ada, n...   \n",
              "1   traefik, symfony, airtable, powershell, ada, n...   \n",
              "2   traefik, ansible, airtable, powershell, ada, n...   \n",
              "3   traefik, ansible, symfony, powershell, ada, nu...   \n",
              "4   traefik, ansible, symfony, airtable, ada, numw...   \n",
              "5   traefik, ansible, symfony, airtable, powershel...   \n",
              "6   traefik, ansible, symfony, airtable, powershel...   \n",
              "7   traefik, ansible, symfony, airtable, powershel...   \n",
              "22  debian, linuxadmin, glpi, osint, proxmox, veea...   \n",
              "21  debian, linuxadmin, glpi, osint, proxmox, veea...   \n",
              "\n",
              "                           list_cluster_subreddit_ids  \n",
              "0   t5_2x7n9, t5_2r358, t5_36dkt, t5_2qo1o, t5_2qi...  \n",
              "1   t5_fucxb, t5_2r358, t5_36dkt, t5_2qo1o, t5_2qi...  \n",
              "2   t5_fucxb, t5_2x7n9, t5_36dkt, t5_2qo1o, t5_2qi...  \n",
              "3   t5_fucxb, t5_2x7n9, t5_2r358, t5_2qo1o, t5_2qi...  \n",
              "4   t5_fucxb, t5_2x7n9, t5_2r358, t5_36dkt, t5_2qi...  \n",
              "5   t5_fucxb, t5_2x7n9, t5_2r358, t5_36dkt, t5_2qo...  \n",
              "6   t5_fucxb, t5_2x7n9, t5_2r358, t5_36dkt, t5_2qo...  \n",
              "7   t5_fucxb, t5_2x7n9, t5_2r358, t5_36dkt, t5_2qo...  \n",
              "22  t5_2qhkk, t5_2r9lc, t5_2u3y6, t5_2qln3, t5_2w0...  \n",
              "21  t5_2qhkk, t5_2r9lc, t5_2u3y6, t5_2qln3, t5_2w0...  "
            ],
            "text/html": [
              "\n",
              "  <div id=\"df-2e5346fa-fb57-4004-8732-8df1b9909869\">\n",
              "    <div class=\"colab-df-container\">\n",
              "      <div>\n",
              "<style scoped>\n",
              "    .dataframe tbody tr th:only-of-type {\n",
              "        vertical-align: middle;\n",
              "    }\n",
              "\n",
              "    .dataframe tbody tr th {\n",
              "        vertical-align: top;\n",
              "    }\n",
              "\n",
              "    .dataframe thead th {\n",
              "        text-align: right;\n",
              "    }\n",
              "</style>\n",
              "<table border=\"1\" class=\"dataframe\">\n",
              "  <thead>\n",
              "    <tr style=\"text-align: right;\">\n",
              "      <th></th>\n",
              "      <th>subreddit_id_seed</th>\n",
              "      <th>subreddit_name_seed</th>\n",
              "      <th>cluster_label</th>\n",
              "      <th>cluster_label_k</th>\n",
              "      <th>rating_short_latest</th>\n",
              "      <th>subreddits_to_recommend_count</th>\n",
              "      <th>list_cluster_subreddit_names</th>\n",
              "      <th>list_cluster_subreddit_ids</th>\n",
              "    </tr>\n",
              "  </thead>\n",
              "  <tbody>\n",
              "    <tr>\n",
              "      <th>0</th>\n",
              "      <td>t5_fucxb</td>\n",
              "      <td>traefik</td>\n",
              "      <td>0006-0008-0013-0016-0016-0020-0021-0025</td>\n",
              "      <td>k_0118_label</td>\n",
              "      <td>E</td>\n",
              "      <td>7</td>\n",
              "      <td>ansible, symfony, airtable, powershell, ada, n...</td>\n",
              "      <td>t5_2x7n9, t5_2r358, t5_36dkt, t5_2qo1o, t5_2qi...</td>\n",
              "    </tr>\n",
              "    <tr>\n",
              "      <th>1</th>\n",
              "      <td>t5_2x7n9</td>\n",
              "      <td>ansible</td>\n",
              "      <td>0006-0008-0013-0016-0016-0020-0021-0025</td>\n",
              "      <td>k_0118_label</td>\n",
              "      <td>E</td>\n",
              "      <td>7</td>\n",
              "      <td>traefik, symfony, airtable, powershell, ada, n...</td>\n",
              "      <td>t5_fucxb, t5_2r358, t5_36dkt, t5_2qo1o, t5_2qi...</td>\n",
              "    </tr>\n",
              "    <tr>\n",
              "      <th>2</th>\n",
              "      <td>t5_2r358</td>\n",
              "      <td>symfony</td>\n",
              "      <td>0006-0008-0013-0016-0016-0020-0021-0025</td>\n",
              "      <td>k_0118_label</td>\n",
              "      <td>E</td>\n",
              "      <td>7</td>\n",
              "      <td>traefik, ansible, airtable, powershell, ada, n...</td>\n",
              "      <td>t5_fucxb, t5_2x7n9, t5_36dkt, t5_2qo1o, t5_2qi...</td>\n",
              "    </tr>\n",
              "    <tr>\n",
              "      <th>3</th>\n",
              "      <td>t5_36dkt</td>\n",
              "      <td>airtable</td>\n",
              "      <td>0006-0008-0013-0016-0016-0020-0021-0025</td>\n",
              "      <td>k_0118_label</td>\n",
              "      <td>E</td>\n",
              "      <td>7</td>\n",
              "      <td>traefik, ansible, symfony, powershell, ada, nu...</td>\n",
              "      <td>t5_fucxb, t5_2x7n9, t5_2r358, t5_2qo1o, t5_2qi...</td>\n",
              "    </tr>\n",
              "    <tr>\n",
              "      <th>4</th>\n",
              "      <td>t5_2qo1o</td>\n",
              "      <td>powershell</td>\n",
              "      <td>0006-0008-0013-0016-0016-0020-0021-0025</td>\n",
              "      <td>k_0118_label</td>\n",
              "      <td>E</td>\n",
              "      <td>7</td>\n",
              "      <td>traefik, ansible, symfony, airtable, ada, numw...</td>\n",
              "      <td>t5_fucxb, t5_2x7n9, t5_2r358, t5_36dkt, t5_2qi...</td>\n",
              "    </tr>\n",
              "    <tr>\n",
              "      <th>5</th>\n",
              "      <td>t5_2qi8f</td>\n",
              "      <td>ada</td>\n",
              "      <td>0006-0008-0013-0016-0016-0020-0021-0025</td>\n",
              "      <td>k_0118_label</td>\n",
              "      <td>E</td>\n",
              "      <td>7</td>\n",
              "      <td>traefik, ansible, symfony, airtable, powershel...</td>\n",
              "      <td>t5_fucxb, t5_2x7n9, t5_2r358, t5_36dkt, t5_2qo...</td>\n",
              "    </tr>\n",
              "    <tr>\n",
              "      <th>6</th>\n",
              "      <td>t5_3fwdt</td>\n",
              "      <td>numworks</td>\n",
              "      <td>0006-0008-0013-0016-0016-0020-0021-0025</td>\n",
              "      <td>k_0118_label</td>\n",
              "      <td>E</td>\n",
              "      <td>7</td>\n",
              "      <td>traefik, ansible, symfony, airtable, powershel...</td>\n",
              "      <td>t5_fucxb, t5_2x7n9, t5_2r358, t5_36dkt, t5_2qo...</td>\n",
              "    </tr>\n",
              "    <tr>\n",
              "      <th>7</th>\n",
              "      <td>t5_2t5jj</td>\n",
              "      <td>programmation</td>\n",
              "      <td>0006-0008-0013-0016-0016-0020-0021-0025</td>\n",
              "      <td>k_0118_label</td>\n",
              "      <td>E</td>\n",
              "      <td>7</td>\n",
              "      <td>traefik, ansible, symfony, airtable, powershel...</td>\n",
              "      <td>t5_fucxb, t5_2x7n9, t5_2r358, t5_36dkt, t5_2qo...</td>\n",
              "    </tr>\n",
              "    <tr>\n",
              "      <th>22</th>\n",
              "      <td>t5_sl8v7</td>\n",
              "      <td>jellyfin</td>\n",
              "      <td>0006-0008-0013-0017-0017-0021-0022-0026</td>\n",
              "      <td>k_0118_label</td>\n",
              "      <td>E</td>\n",
              "      <td>14</td>\n",
              "      <td>debian, linuxadmin, glpi, osint, proxmox, veea...</td>\n",
              "      <td>t5_2qhkk, t5_2r9lc, t5_2u3y6, t5_2qln3, t5_2w0...</td>\n",
              "    </tr>\n",
              "    <tr>\n",
              "      <th>21</th>\n",
              "      <td>t5_2sqvk</td>\n",
              "      <td>seedboxes</td>\n",
              "      <td>0006-0008-0013-0017-0017-0021-0022-0026</td>\n",
              "      <td>k_0118_label</td>\n",
              "      <td>E</td>\n",
              "      <td>14</td>\n",
              "      <td>debian, linuxadmin, glpi, osint, proxmox, veea...</td>\n",
              "      <td>t5_2qhkk, t5_2r9lc, t5_2u3y6, t5_2qln3, t5_2w0...</td>\n",
              "    </tr>\n",
              "  </tbody>\n",
              "</table>\n",
              "</div>\n",
              "      <button class=\"colab-df-convert\" onclick=\"convertToInteractive('df-2e5346fa-fb57-4004-8732-8df1b9909869')\"\n",
              "              title=\"Convert this dataframe to an interactive table.\"\n",
              "              style=\"display:none;\">\n",
              "        \n",
              "  <svg xmlns=\"http://www.w3.org/2000/svg\" height=\"24px\"viewBox=\"0 0 24 24\"\n",
              "       width=\"24px\">\n",
              "    <path d=\"M0 0h24v24H0V0z\" fill=\"none\"/>\n",
              "    <path d=\"M18.56 5.44l.94 2.06.94-2.06 2.06-.94-2.06-.94-.94-2.06-.94 2.06-2.06.94zm-11 1L8.5 8.5l.94-2.06 2.06-.94-2.06-.94L8.5 2.5l-.94 2.06-2.06.94zm10 10l.94 2.06.94-2.06 2.06-.94-2.06-.94-.94-2.06-.94 2.06-2.06.94z\"/><path d=\"M17.41 7.96l-1.37-1.37c-.4-.4-.92-.59-1.43-.59-.52 0-1.04.2-1.43.59L10.3 9.45l-7.72 7.72c-.78.78-.78 2.05 0 2.83L4 21.41c.39.39.9.59 1.41.59.51 0 1.02-.2 1.41-.59l7.78-7.78 2.81-2.81c.8-.78.8-2.07 0-2.86zM5.41 20L4 18.59l7.72-7.72 1.47 1.35L5.41 20z\"/>\n",
              "  </svg>\n",
              "      </button>\n",
              "      \n",
              "  <style>\n",
              "    .colab-df-container {\n",
              "      display:flex;\n",
              "      flex-wrap:wrap;\n",
              "      gap: 12px;\n",
              "    }\n",
              "\n",
              "    .colab-df-convert {\n",
              "      background-color: #E8F0FE;\n",
              "      border: none;\n",
              "      border-radius: 50%;\n",
              "      cursor: pointer;\n",
              "      display: none;\n",
              "      fill: #1967D2;\n",
              "      height: 32px;\n",
              "      padding: 0 0 0 0;\n",
              "      width: 32px;\n",
              "    }\n",
              "\n",
              "    .colab-df-convert:hover {\n",
              "      background-color: #E2EBFA;\n",
              "      box-shadow: 0px 1px 2px rgba(60, 64, 67, 0.3), 0px 1px 3px 1px rgba(60, 64, 67, 0.15);\n",
              "      fill: #174EA6;\n",
              "    }\n",
              "\n",
              "    [theme=dark] .colab-df-convert {\n",
              "      background-color: #3B4455;\n",
              "      fill: #D2E3FC;\n",
              "    }\n",
              "\n",
              "    [theme=dark] .colab-df-convert:hover {\n",
              "      background-color: #434B5C;\n",
              "      box-shadow: 0px 1px 3px 1px rgba(0, 0, 0, 0.15);\n",
              "      filter: drop-shadow(0px 1px 2px rgba(0, 0, 0, 0.3));\n",
              "      fill: #FFFFFF;\n",
              "    }\n",
              "  </style>\n",
              "\n",
              "      <script>\n",
              "        const buttonEl =\n",
              "          document.querySelector('#df-2e5346fa-fb57-4004-8732-8df1b9909869 button.colab-df-convert');\n",
              "        buttonEl.style.display =\n",
              "          google.colab.kernel.accessAllowed ? 'block' : 'none';\n",
              "\n",
              "        async function convertToInteractive(key) {\n",
              "          const element = document.querySelector('#df-2e5346fa-fb57-4004-8732-8df1b9909869');\n",
              "          const dataTable =\n",
              "            await google.colab.kernel.invokeFunction('convertToInteractive',\n",
              "                                                     [key], {});\n",
              "          if (!dataTable) return;\n",
              "\n",
              "          const docLinkHtml = 'Like what you see? Visit the ' +\n",
              "            '<a target=\"_blank\" href=https://colab.research.google.com/notebooks/data_table.ipynb>data table notebook</a>'\n",
              "            + ' to learn more about interactive tables.';\n",
              "          element.innerHTML = '';\n",
              "          dataTable['output_type'] = 'display_data';\n",
              "          await google.colab.output.renderOutput(dataTable, element);\n",
              "          const docLink = document.createElement('div');\n",
              "          docLink.innerHTML = docLinkHtml;\n",
              "          element.appendChild(docLink);\n",
              "        }\n",
              "      </script>\n",
              "    </div>\n",
              "  </div>\n",
              "  "
            ],
            "application/vnd.google.colaboratory.module+javascript": "\n      import \"https://ssl.gstatic.com/colaboratory/data_table/81f25a011006ed3d/data_table.js\";\n\n      window.createDataTable({\n        data: [[{\n            'v': 0,\n            'f': \"0\",\n        },\n\"t5_fucxb\",\n\"traefik\",\n\"0006-0008-0013-0016-0016-0020-0021-0025\",\n\"k_0118_label\",\n\"E\",\n{\n            'v': 7,\n            'f': \"7\",\n        },\n\"ansible, symfony, airtable, powershell, ada, numworks, programmation\",\n\"t5_2x7n9, t5_2r358, t5_36dkt, t5_2qo1o, t5_2qi8f, t5_3fwdt, t5_2t5jj\"],\n [{\n            'v': 1,\n            'f': \"1\",\n        },\n\"t5_2x7n9\",\n\"ansible\",\n\"0006-0008-0013-0016-0016-0020-0021-0025\",\n\"k_0118_label\",\n\"E\",\n{\n            'v': 7,\n            'f': \"7\",\n        },\n\"traefik, symfony, airtable, powershell, ada, numworks, programmation\",\n\"t5_fucxb, t5_2r358, t5_36dkt, t5_2qo1o, t5_2qi8f, t5_3fwdt, t5_2t5jj\"],\n [{\n            'v': 2,\n            'f': \"2\",\n        },\n\"t5_2r358\",\n\"symfony\",\n\"0006-0008-0013-0016-0016-0020-0021-0025\",\n\"k_0118_label\",\n\"E\",\n{\n            'v': 7,\n            'f': \"7\",\n        },\n\"traefik, ansible, airtable, powershell, ada, numworks, programmation\",\n\"t5_fucxb, t5_2x7n9, t5_36dkt, t5_2qo1o, t5_2qi8f, t5_3fwdt, t5_2t5jj\"],\n [{\n            'v': 3,\n            'f': \"3\",\n        },\n\"t5_36dkt\",\n\"airtable\",\n\"0006-0008-0013-0016-0016-0020-0021-0025\",\n\"k_0118_label\",\n\"E\",\n{\n            'v': 7,\n            'f': \"7\",\n        },\n\"traefik, ansible, symfony, powershell, ada, numworks, programmation\",\n\"t5_fucxb, t5_2x7n9, t5_2r358, t5_2qo1o, t5_2qi8f, t5_3fwdt, t5_2t5jj\"],\n [{\n            'v': 4,\n            'f': \"4\",\n        },\n\"t5_2qo1o\",\n\"powershell\",\n\"0006-0008-0013-0016-0016-0020-0021-0025\",\n\"k_0118_label\",\n\"E\",\n{\n            'v': 7,\n            'f': \"7\",\n        },\n\"traefik, ansible, symfony, airtable, ada, numworks, programmation\",\n\"t5_fucxb, t5_2x7n9, t5_2r358, t5_36dkt, t5_2qi8f, t5_3fwdt, t5_2t5jj\"],\n [{\n            'v': 5,\n            'f': \"5\",\n        },\n\"t5_2qi8f\",\n\"ada\",\n\"0006-0008-0013-0016-0016-0020-0021-0025\",\n\"k_0118_label\",\n\"E\",\n{\n            'v': 7,\n            'f': \"7\",\n        },\n\"traefik, ansible, symfony, airtable, powershell, numworks, programmation\",\n\"t5_fucxb, t5_2x7n9, t5_2r358, t5_36dkt, t5_2qo1o, t5_3fwdt, t5_2t5jj\"],\n [{\n            'v': 6,\n            'f': \"6\",\n        },\n\"t5_3fwdt\",\n\"numworks\",\n\"0006-0008-0013-0016-0016-0020-0021-0025\",\n\"k_0118_label\",\n\"E\",\n{\n            'v': 7,\n            'f': \"7\",\n        },\n\"traefik, ansible, symfony, airtable, powershell, ada, programmation\",\n\"t5_fucxb, t5_2x7n9, t5_2r358, t5_36dkt, t5_2qo1o, t5_2qi8f, t5_2t5jj\"],\n [{\n            'v': 7,\n            'f': \"7\",\n        },\n\"t5_2t5jj\",\n\"programmation\",\n\"0006-0008-0013-0016-0016-0020-0021-0025\",\n\"k_0118_label\",\n\"E\",\n{\n            'v': 7,\n            'f': \"7\",\n        },\n\"traefik, ansible, symfony, airtable, powershell, ada, numworks\",\n\"t5_fucxb, t5_2x7n9, t5_2r358, t5_36dkt, t5_2qo1o, t5_2qi8f, t5_3fwdt\"],\n [{\n            'v': 22,\n            'f': \"22\",\n        },\n\"t5_sl8v7\",\n\"jellyfin\",\n\"0006-0008-0013-0017-0017-0021-0022-0026\",\n\"k_0118_label\",\n\"E\",\n{\n            'v': 14,\n            'f': \"14\",\n        },\n\"debian, linuxadmin, glpi, osint, proxmox, veeam, mdt, dashlane, keepass, nextcloud, libreoffice, earnapp, shieldandroidtv, seedboxes\",\n\"t5_2qhkk, t5_2r9lc, t5_2u3y6, t5_2qln3, t5_2w0wn, t5_2ut1c, t5_2v3bh, t5_35wh1, t5_2tfg3, t5_3ev3e, t5_2s4nt, t5_58yq18, t5_38b73, t5_2sqvk\"],\n [{\n            'v': 21,\n            'f': \"21\",\n        },\n\"t5_2sqvk\",\n\"seedboxes\",\n\"0006-0008-0013-0017-0017-0021-0022-0026\",\n\"k_0118_label\",\n\"E\",\n{\n            'v': 14,\n            'f': \"14\",\n        },\n\"debian, linuxadmin, glpi, osint, proxmox, veeam, mdt, dashlane, keepass, nextcloud, libreoffice, earnapp, shieldandroidtv, jellyfin\",\n\"t5_2qhkk, t5_2r9lc, t5_2u3y6, t5_2qln3, t5_2w0wn, t5_2ut1c, t5_2v3bh, t5_35wh1, t5_2tfg3, t5_3ev3e, t5_2s4nt, t5_58yq18, t5_38b73, t5_sl8v7\"]],\n        columns: [[\"number\", \"index\"], [\"string\", \"subreddit_id_seed\"], [\"string\", \"subreddit_name_seed\"], [\"string\", \"cluster_label\"], [\"string\", \"cluster_label_k\"], [\"string\", \"rating_short_latest\"], [\"number\", \"subreddits_to_recommend_count\"], [\"string\", \"list_cluster_subreddit_names\"], [\"string\", \"list_cluster_subreddit_ids\"]],\n        columnOptions: [{\"width\": \"1px\", \"className\": \"index_column\"}],\n        rowsPerPage: 25,\n        helpUrl: \"https://colab.research.google.com/notebooks/data_table.ipynb\",\n        suppressOutputScrolling: true,\n        minimumWidth: undefined,\n      });\n    "
          },
          "metadata": {},
          "execution_count": 48
        }
      ]
    },
    {
      "cell_type": "code",
      "metadata": {
        "colab": {
          "base_uri": "https://localhost:8080/",
          "height": 405
        },
        "id": "xV4C7Tz7_YRu",
        "outputId": "1ce920cc-4d19-4c0c-9da6-c9d039478ef8"
      },
      "source": [
        "df_target_to_target_list.tail(10)"
      ],
      "execution_count": 47,
      "outputs": [
        {
          "output_type": "execute_result",
          "data": {
            "text/plain": [
              "    subreddit_id_seed subreddit_name_seed cluster_label cluster_label_k  \\\n",
              "154          t5_2tnz5     edbangerrecords            12    k_0013_label   \n",
              "152          t5_2qtn5            daftpunk            12    k_0013_label   \n",
              "54           t5_ypn5g     bellepatisserie             8    k_0013_label   \n",
              "52          t5_3dde7t         bonnebouffe             8    k_0013_label   \n",
              "53           t5_2qi01             cuisine             8    k_0013_label   \n",
              "55          t5_4exxej  wallstreetsilverfr             9    k_0013_label   \n",
              "62           t5_bxh1y            kryll_io             9    k_0013_label   \n",
              "63          t5_329ccd    assembleprotocol             9    k_0013_label   \n",
              "64           t5_zfhap              sorare             9    k_0013_label   \n",
              "65           t5_3pkge            getdelta             9    k_0013_label   \n",
              "\n",
              "    rating_short_latest  subreddits_to_recommend_count  \\\n",
              "154                   E                              2   \n",
              "152                   E                              2   \n",
              "54                    E                              2   \n",
              "52                    E                              2   \n",
              "53                    E                              2   \n",
              "55                    E                              4   \n",
              "62                    E                              4   \n",
              "63                    E                              4   \n",
              "64                    E                              4   \n",
              "65                    E                              4   \n",
              "\n",
              "                          list_cluster_subreddit_names  \\\n",
              "154                             daftpunk, justicemusic   \n",
              "152                      justicemusic, edbangerrecords   \n",
              "54                                bonnebouffe, cuisine   \n",
              "52                            cuisine, bellepatisserie   \n",
              "53                        bonnebouffe, bellepatisserie   \n",
              "55        kryll_io, assembleprotocol, sorare, getdelta   \n",
              "62   wallstreetsilverfr, assembleprotocol, sorare, ...   \n",
              "63      wallstreetsilverfr, kryll_io, sorare, getdelta   \n",
              "64   wallstreetsilverfr, kryll_io, assembleprotocol...   \n",
              "65   wallstreetsilverfr, kryll_io, assembleprotocol...   \n",
              "\n",
              "                   list_cluster_subreddit_ids  \n",
              "154                        t5_2qtn5, t5_2uab4  \n",
              "152                        t5_2uab4, t5_2tnz5  \n",
              "54                        t5_3dde7t, t5_2qi01  \n",
              "52                         t5_2qi01, t5_ypn5g  \n",
              "53                        t5_3dde7t, t5_ypn5g  \n",
              "55    t5_bxh1y, t5_329ccd, t5_zfhap, t5_3pkge  \n",
              "62   t5_4exxej, t5_329ccd, t5_zfhap, t5_3pkge  \n",
              "63    t5_4exxej, t5_bxh1y, t5_zfhap, t5_3pkge  \n",
              "64   t5_4exxej, t5_bxh1y, t5_329ccd, t5_3pkge  \n",
              "65   t5_4exxej, t5_bxh1y, t5_329ccd, t5_zfhap  "
            ],
            "text/html": [
              "\n",
              "  <div id=\"df-181e20e0-f881-48cb-992f-542ae73ebc7b\">\n",
              "    <div class=\"colab-df-container\">\n",
              "      <div>\n",
              "<style scoped>\n",
              "    .dataframe tbody tr th:only-of-type {\n",
              "        vertical-align: middle;\n",
              "    }\n",
              "\n",
              "    .dataframe tbody tr th {\n",
              "        vertical-align: top;\n",
              "    }\n",
              "\n",
              "    .dataframe thead th {\n",
              "        text-align: right;\n",
              "    }\n",
              "</style>\n",
              "<table border=\"1\" class=\"dataframe\">\n",
              "  <thead>\n",
              "    <tr style=\"text-align: right;\">\n",
              "      <th></th>\n",
              "      <th>subreddit_id_seed</th>\n",
              "      <th>subreddit_name_seed</th>\n",
              "      <th>cluster_label</th>\n",
              "      <th>cluster_label_k</th>\n",
              "      <th>rating_short_latest</th>\n",
              "      <th>subreddits_to_recommend_count</th>\n",
              "      <th>list_cluster_subreddit_names</th>\n",
              "      <th>list_cluster_subreddit_ids</th>\n",
              "    </tr>\n",
              "  </thead>\n",
              "  <tbody>\n",
              "    <tr>\n",
              "      <th>154</th>\n",
              "      <td>t5_2tnz5</td>\n",
              "      <td>edbangerrecords</td>\n",
              "      <td>12</td>\n",
              "      <td>k_0013_label</td>\n",
              "      <td>E</td>\n",
              "      <td>2</td>\n",
              "      <td>daftpunk, justicemusic</td>\n",
              "      <td>t5_2qtn5, t5_2uab4</td>\n",
              "    </tr>\n",
              "    <tr>\n",
              "      <th>152</th>\n",
              "      <td>t5_2qtn5</td>\n",
              "      <td>daftpunk</td>\n",
              "      <td>12</td>\n",
              "      <td>k_0013_label</td>\n",
              "      <td>E</td>\n",
              "      <td>2</td>\n",
              "      <td>justicemusic, edbangerrecords</td>\n",
              "      <td>t5_2uab4, t5_2tnz5</td>\n",
              "    </tr>\n",
              "    <tr>\n",
              "      <th>54</th>\n",
              "      <td>t5_ypn5g</td>\n",
              "      <td>bellepatisserie</td>\n",
              "      <td>8</td>\n",
              "      <td>k_0013_label</td>\n",
              "      <td>E</td>\n",
              "      <td>2</td>\n",
              "      <td>bonnebouffe, cuisine</td>\n",
              "      <td>t5_3dde7t, t5_2qi01</td>\n",
              "    </tr>\n",
              "    <tr>\n",
              "      <th>52</th>\n",
              "      <td>t5_3dde7t</td>\n",
              "      <td>bonnebouffe</td>\n",
              "      <td>8</td>\n",
              "      <td>k_0013_label</td>\n",
              "      <td>E</td>\n",
              "      <td>2</td>\n",
              "      <td>cuisine, bellepatisserie</td>\n",
              "      <td>t5_2qi01, t5_ypn5g</td>\n",
              "    </tr>\n",
              "    <tr>\n",
              "      <th>53</th>\n",
              "      <td>t5_2qi01</td>\n",
              "      <td>cuisine</td>\n",
              "      <td>8</td>\n",
              "      <td>k_0013_label</td>\n",
              "      <td>E</td>\n",
              "      <td>2</td>\n",
              "      <td>bonnebouffe, bellepatisserie</td>\n",
              "      <td>t5_3dde7t, t5_ypn5g</td>\n",
              "    </tr>\n",
              "    <tr>\n",
              "      <th>55</th>\n",
              "      <td>t5_4exxej</td>\n",
              "      <td>wallstreetsilverfr</td>\n",
              "      <td>9</td>\n",
              "      <td>k_0013_label</td>\n",
              "      <td>E</td>\n",
              "      <td>4</td>\n",
              "      <td>kryll_io, assembleprotocol, sorare, getdelta</td>\n",
              "      <td>t5_bxh1y, t5_329ccd, t5_zfhap, t5_3pkge</td>\n",
              "    </tr>\n",
              "    <tr>\n",
              "      <th>62</th>\n",
              "      <td>t5_bxh1y</td>\n",
              "      <td>kryll_io</td>\n",
              "      <td>9</td>\n",
              "      <td>k_0013_label</td>\n",
              "      <td>E</td>\n",
              "      <td>4</td>\n",
              "      <td>wallstreetsilverfr, assembleprotocol, sorare, ...</td>\n",
              "      <td>t5_4exxej, t5_329ccd, t5_zfhap, t5_3pkge</td>\n",
              "    </tr>\n",
              "    <tr>\n",
              "      <th>63</th>\n",
              "      <td>t5_329ccd</td>\n",
              "      <td>assembleprotocol</td>\n",
              "      <td>9</td>\n",
              "      <td>k_0013_label</td>\n",
              "      <td>E</td>\n",
              "      <td>4</td>\n",
              "      <td>wallstreetsilverfr, kryll_io, sorare, getdelta</td>\n",
              "      <td>t5_4exxej, t5_bxh1y, t5_zfhap, t5_3pkge</td>\n",
              "    </tr>\n",
              "    <tr>\n",
              "      <th>64</th>\n",
              "      <td>t5_zfhap</td>\n",
              "      <td>sorare</td>\n",
              "      <td>9</td>\n",
              "      <td>k_0013_label</td>\n",
              "      <td>E</td>\n",
              "      <td>4</td>\n",
              "      <td>wallstreetsilverfr, kryll_io, assembleprotocol...</td>\n",
              "      <td>t5_4exxej, t5_bxh1y, t5_329ccd, t5_3pkge</td>\n",
              "    </tr>\n",
              "    <tr>\n",
              "      <th>65</th>\n",
              "      <td>t5_3pkge</td>\n",
              "      <td>getdelta</td>\n",
              "      <td>9</td>\n",
              "      <td>k_0013_label</td>\n",
              "      <td>E</td>\n",
              "      <td>4</td>\n",
              "      <td>wallstreetsilverfr, kryll_io, assembleprotocol...</td>\n",
              "      <td>t5_4exxej, t5_bxh1y, t5_329ccd, t5_zfhap</td>\n",
              "    </tr>\n",
              "  </tbody>\n",
              "</table>\n",
              "</div>\n",
              "      <button class=\"colab-df-convert\" onclick=\"convertToInteractive('df-181e20e0-f881-48cb-992f-542ae73ebc7b')\"\n",
              "              title=\"Convert this dataframe to an interactive table.\"\n",
              "              style=\"display:none;\">\n",
              "        \n",
              "  <svg xmlns=\"http://www.w3.org/2000/svg\" height=\"24px\"viewBox=\"0 0 24 24\"\n",
              "       width=\"24px\">\n",
              "    <path d=\"M0 0h24v24H0V0z\" fill=\"none\"/>\n",
              "    <path d=\"M18.56 5.44l.94 2.06.94-2.06 2.06-.94-2.06-.94-.94-2.06-.94 2.06-2.06.94zm-11 1L8.5 8.5l.94-2.06 2.06-.94-2.06-.94L8.5 2.5l-.94 2.06-2.06.94zm10 10l.94 2.06.94-2.06 2.06-.94-2.06-.94-.94-2.06-.94 2.06-2.06.94z\"/><path d=\"M17.41 7.96l-1.37-1.37c-.4-.4-.92-.59-1.43-.59-.52 0-1.04.2-1.43.59L10.3 9.45l-7.72 7.72c-.78.78-.78 2.05 0 2.83L4 21.41c.39.39.9.59 1.41.59.51 0 1.02-.2 1.41-.59l7.78-7.78 2.81-2.81c.8-.78.8-2.07 0-2.86zM5.41 20L4 18.59l7.72-7.72 1.47 1.35L5.41 20z\"/>\n",
              "  </svg>\n",
              "      </button>\n",
              "      \n",
              "  <style>\n",
              "    .colab-df-container {\n",
              "      display:flex;\n",
              "      flex-wrap:wrap;\n",
              "      gap: 12px;\n",
              "    }\n",
              "\n",
              "    .colab-df-convert {\n",
              "      background-color: #E8F0FE;\n",
              "      border: none;\n",
              "      border-radius: 50%;\n",
              "      cursor: pointer;\n",
              "      display: none;\n",
              "      fill: #1967D2;\n",
              "      height: 32px;\n",
              "      padding: 0 0 0 0;\n",
              "      width: 32px;\n",
              "    }\n",
              "\n",
              "    .colab-df-convert:hover {\n",
              "      background-color: #E2EBFA;\n",
              "      box-shadow: 0px 1px 2px rgba(60, 64, 67, 0.3), 0px 1px 3px 1px rgba(60, 64, 67, 0.15);\n",
              "      fill: #174EA6;\n",
              "    }\n",
              "\n",
              "    [theme=dark] .colab-df-convert {\n",
              "      background-color: #3B4455;\n",
              "      fill: #D2E3FC;\n",
              "    }\n",
              "\n",
              "    [theme=dark] .colab-df-convert:hover {\n",
              "      background-color: #434B5C;\n",
              "      box-shadow: 0px 1px 3px 1px rgba(0, 0, 0, 0.15);\n",
              "      filter: drop-shadow(0px 1px 2px rgba(0, 0, 0, 0.3));\n",
              "      fill: #FFFFFF;\n",
              "    }\n",
              "  </style>\n",
              "\n",
              "      <script>\n",
              "        const buttonEl =\n",
              "          document.querySelector('#df-181e20e0-f881-48cb-992f-542ae73ebc7b button.colab-df-convert');\n",
              "        buttonEl.style.display =\n",
              "          google.colab.kernel.accessAllowed ? 'block' : 'none';\n",
              "\n",
              "        async function convertToInteractive(key) {\n",
              "          const element = document.querySelector('#df-181e20e0-f881-48cb-992f-542ae73ebc7b');\n",
              "          const dataTable =\n",
              "            await google.colab.kernel.invokeFunction('convertToInteractive',\n",
              "                                                     [key], {});\n",
              "          if (!dataTable) return;\n",
              "\n",
              "          const docLinkHtml = 'Like what you see? Visit the ' +\n",
              "            '<a target=\"_blank\" href=https://colab.research.google.com/notebooks/data_table.ipynb>data table notebook</a>'\n",
              "            + ' to learn more about interactive tables.';\n",
              "          element.innerHTML = '';\n",
              "          dataTable['output_type'] = 'display_data';\n",
              "          await google.colab.output.renderOutput(dataTable, element);\n",
              "          const docLink = document.createElement('div');\n",
              "          docLink.innerHTML = docLinkHtml;\n",
              "          element.appendChild(docLink);\n",
              "        }\n",
              "      </script>\n",
              "    </div>\n",
              "  </div>\n",
              "  "
            ],
            "application/vnd.google.colaboratory.module+javascript": "\n      import \"https://ssl.gstatic.com/colaboratory/data_table/81f25a011006ed3d/data_table.js\";\n\n      window.createDataTable({\n        data: [[{\n            'v': 154,\n            'f': \"154\",\n        },\n\"t5_2tnz5\",\n\"edbangerrecords\",\n\"12\",\n\"k_0013_label\",\n\"E\",\n{\n            'v': 2,\n            'f': \"2\",\n        },\n\"daftpunk, justicemusic\",\n\"t5_2qtn5, t5_2uab4\"],\n [{\n            'v': 152,\n            'f': \"152\",\n        },\n\"t5_2qtn5\",\n\"daftpunk\",\n\"12\",\n\"k_0013_label\",\n\"E\",\n{\n            'v': 2,\n            'f': \"2\",\n        },\n\"justicemusic, edbangerrecords\",\n\"t5_2uab4, t5_2tnz5\"],\n [{\n            'v': 54,\n            'f': \"54\",\n        },\n\"t5_ypn5g\",\n\"bellepatisserie\",\n\"8\",\n\"k_0013_label\",\n\"E\",\n{\n            'v': 2,\n            'f': \"2\",\n        },\n\"bonnebouffe, cuisine\",\n\"t5_3dde7t, t5_2qi01\"],\n [{\n            'v': 52,\n            'f': \"52\",\n        },\n\"t5_3dde7t\",\n\"bonnebouffe\",\n\"8\",\n\"k_0013_label\",\n\"E\",\n{\n            'v': 2,\n            'f': \"2\",\n        },\n\"cuisine, bellepatisserie\",\n\"t5_2qi01, t5_ypn5g\"],\n [{\n            'v': 53,\n            'f': \"53\",\n        },\n\"t5_2qi01\",\n\"cuisine\",\n\"8\",\n\"k_0013_label\",\n\"E\",\n{\n            'v': 2,\n            'f': \"2\",\n        },\n\"bonnebouffe, bellepatisserie\",\n\"t5_3dde7t, t5_ypn5g\"],\n [{\n            'v': 55,\n            'f': \"55\",\n        },\n\"t5_4exxej\",\n\"wallstreetsilverfr\",\n\"9\",\n\"k_0013_label\",\n\"E\",\n{\n            'v': 4,\n            'f': \"4\",\n        },\n\"kryll_io, assembleprotocol, sorare, getdelta\",\n\"t5_bxh1y, t5_329ccd, t5_zfhap, t5_3pkge\"],\n [{\n            'v': 62,\n            'f': \"62\",\n        },\n\"t5_bxh1y\",\n\"kryll_io\",\n\"9\",\n\"k_0013_label\",\n\"E\",\n{\n            'v': 4,\n            'f': \"4\",\n        },\n\"wallstreetsilverfr, assembleprotocol, sorare, getdelta\",\n\"t5_4exxej, t5_329ccd, t5_zfhap, t5_3pkge\"],\n [{\n            'v': 63,\n            'f': \"63\",\n        },\n\"t5_329ccd\",\n\"assembleprotocol\",\n\"9\",\n\"k_0013_label\",\n\"E\",\n{\n            'v': 4,\n            'f': \"4\",\n        },\n\"wallstreetsilverfr, kryll_io, sorare, getdelta\",\n\"t5_4exxej, t5_bxh1y, t5_zfhap, t5_3pkge\"],\n [{\n            'v': 64,\n            'f': \"64\",\n        },\n\"t5_zfhap\",\n\"sorare\",\n\"9\",\n\"k_0013_label\",\n\"E\",\n{\n            'v': 4,\n            'f': \"4\",\n        },\n\"wallstreetsilverfr, kryll_io, assembleprotocol, getdelta\",\n\"t5_4exxej, t5_bxh1y, t5_329ccd, t5_3pkge\"],\n [{\n            'v': 65,\n            'f': \"65\",\n        },\n\"t5_3pkge\",\n\"getdelta\",\n\"9\",\n\"k_0013_label\",\n\"E\",\n{\n            'v': 4,\n            'f': \"4\",\n        },\n\"wallstreetsilverfr, kryll_io, assembleprotocol, sorare\",\n\"t5_4exxej, t5_bxh1y, t5_329ccd, t5_zfhap\"]],\n        columns: [[\"number\", \"index\"], [\"string\", \"subreddit_id_seed\"], [\"string\", \"subreddit_name_seed\"], [\"string\", \"cluster_label\"], [\"string\", \"cluster_label_k\"], [\"string\", \"rating_short_latest\"], [\"number\", \"subreddits_to_recommend_count\"], [\"string\", \"list_cluster_subreddit_names\"], [\"string\", \"list_cluster_subreddit_ids\"]],\n        columnOptions: [{\"width\": \"1px\", \"className\": \"index_column\"}],\n        rowsPerPage: 25,\n        helpUrl: \"https://colab.research.google.com/notebooks/data_table.ipynb\",\n        suppressOutputScrolling: true,\n        minimumWidth: undefined,\n      });\n    "
          },
          "metadata": {},
          "execution_count": 47
        }
      ]
    },
    {
      "cell_type": "markdown",
      "metadata": {
        "id": "2VYDcXoXEHYl"
      },
      "source": [
        "## Save new output to google sheet"
      ]
    },
    {
      "cell_type": "code",
      "source": [
        "d_wsh_names['clusters_t2t_fpr_after_qa']['worksheet'].update(\n",
        "    [df_target_to_target_list.rename(columns={k: k.replace('_', ' ') for k in df_target_to_target_list.columns}).columns.values.tolist()] + \n",
        "    df_target_to_target_list.fillna('').values.tolist()\n",
        ")"
      ],
      "metadata": {
        "colab": {
          "base_uri": "https://localhost:8080/"
        },
        "id": "Om4VV6QVuWJs",
        "outputId": "13d523b4-e26e-4c43-d06f-d69287c657a0"
      },
      "execution_count": 49,
      "outputs": [
        {
          "output_type": "execute_result",
          "data": {
            "text/plain": [
              "{'spreadsheetId': '1RicLwjnVxArCiPqoVUPEIbFnruL5m7VBL89ZXBCix7c',\n",
              " 'updatedCells': 1392,\n",
              " 'updatedColumns': 8,\n",
              " 'updatedRange': 'fpr_clusters_after_qa_fr_fr!A1:H174',\n",
              " 'updatedRows': 174}"
            ]
          },
          "metadata": {},
          "execution_count": 49
        }
      ]
    },
    {
      "cell_type": "code",
      "source": [
        ""
      ],
      "metadata": {
        "id": "9qw8WcZvuWG6"
      },
      "execution_count": null,
      "outputs": []
    }
  ]
}