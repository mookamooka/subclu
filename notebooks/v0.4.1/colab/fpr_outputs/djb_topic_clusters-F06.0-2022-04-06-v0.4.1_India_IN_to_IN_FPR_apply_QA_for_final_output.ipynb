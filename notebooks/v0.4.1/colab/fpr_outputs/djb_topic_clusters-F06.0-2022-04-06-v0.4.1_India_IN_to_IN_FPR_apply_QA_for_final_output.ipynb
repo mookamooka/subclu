{
  "nbformat": 4,
  "nbformat_minor": 0,
  "metadata": {
    "colab": {
      "name": "djb_topic_clusters-F06.0-2022-04-06-v0.4.1_India_IN_to_IN_FPR_apply_QA_for_final_output.ipynb",
      "provenance": [],
      "collapsed_sections": [
        "Y5QYz4t5qXgv",
        "ruXaYJdq8zL0",
        "dVXfcDlqWjPe"
      ]
    },
    "kernelspec": {
      "name": "python3",
      "display_name": "Python 3"
    },
    "language_info": {
      "name": "python"
    }
  },
  "cells": [
    {
      "cell_type": "markdown",
      "metadata": {
        "id": "iVZuLSOgZVC8"
      },
      "source": [
        "# Purpose\n",
        "\n",
        "### 2022-04-06\n",
        "- model version: 4.0.1\n",
        "\n",
        "In this notebook we apply the filters from the QA process to get the final output for Australia-relevant subs. The primary use case is geo-relevant FPRs [[i18n/ML] One Feed Experiment Spec: UK/CA/AU/IN](https://docs.google.com/document/d/10z0ZlZuYnPYzUjlKHLy5iKClCk1AvMsy6LSL1wRK7FE/edit#heading=h.uozl6p2gc9i3).\n",
        "\n",
        "\n",
        "### Inputs:\n",
        "- Values from the QA spreadsheet\n",
        "    - Cluster IDs\n",
        "        - Recommend subs with the same cluster ID\n",
        "    - Subreddits that are not country-relevant\n",
        "        - Remove them\n",
        "    - Subreddits that are NSFW\n",
        "        - Remove them\n",
        "    - Subreddits that don't belong to a cluster\n",
        "        - Remove them\n",
        "\n",
        "### Outputs\n",
        "- Write to a new tab in google sheets with format needed for FPRs\n",
        "    - Use `gspread` to write table outputs directly to google sheets\n",
        "\n",
        "\n",
        "### Reference\n",
        "[Notebook template for v0.4.0 model](https://colab.research.google.com/drive/19p3O5DGxiEXj57OeCFf2gVIagUgCLx9v?usp=sharing)"
      ]
    },
    {
      "cell_type": "markdown",
      "metadata": {
        "id": "c2qXnQ5IV9Z7"
      },
      "source": [
        "# Imports & notebook setup"
      ]
    },
    {
      "cell_type": "code",
      "metadata": {
        "id": "pCuWmkxaGYwm"
      },
      "source": [
        "%load_ext google.colab.data_table\n",
        "%load_ext autoreload\n",
        "%autoreload 2"
      ],
      "execution_count": 1,
      "outputs": []
    },
    {
      "cell_type": "code",
      "metadata": {
        "colab": {
          "base_uri": "https://localhost:8080/"
        },
        "id": "tS4ktaPaGwbh",
        "outputId": "405a4a79-4eea-4a90-e490-41d838da8d31"
      },
      "source": [
        "# colab auth for BigQuery, google drive, & google sheets (gspread)\n",
        "from google.colab import auth, files, drive\n",
        "from google.auth import default\n",
        "import sys  # need sys for mounting gdrive path\n",
        "\n",
        "auth.authenticate_user()\n",
        "print('Authenticated')"
      ],
      "execution_count": 2,
      "outputs": [
        {
          "output_type": "stream",
          "name": "stdout",
          "text": [
            "Authenticated\n"
          ]
        }
      ]
    },
    {
      "cell_type": "markdown",
      "source": [
        "### Append google-drive"
      ],
      "metadata": {
        "id": "Y5QYz4t5qXgv"
      }
    },
    {
      "cell_type": "code",
      "metadata": {
        "colab": {
          "base_uri": "https://localhost:8080/"
        },
        "id": "kuOoJT3noOPE",
        "outputId": "436806d8-c03a-4629-ddd5-3c8037286de9"
      },
      "source": [
        "# Attach google drive & import my python utility functions\n",
        "# if drive.mount() fails, you can also:\n",
        "#   MANUALLY CLICK ON \"Mount Drive\"\n",
        "g_drive_root = '/content/drive'\n",
        "\n",
        "try:\n",
        "    drive.mount(g_drive_root, force_remount=True)\n",
        "    print('   Authenticated & mounted Google Drive')\n",
        "except Exception as e:\n",
        "    print(e)\n",
        "    raise Exception('You might need to manually mount google drive to colab')\n",
        "\n",
        "l_paths_to_append = [\n",
        "    f'{g_drive_root}/MyDrive/Colab Notebooks',\n",
        "\n",
        "    # need to append the path to subclu so that colab can import things properly\n",
        "    f'{g_drive_root}/MyDrive/Colab Notebooks/subreddit_clustering_i18n'\n",
        "]\n",
        "for path_ in l_paths_to_append:\n",
        "    if path_ in sys.path:\n",
        "        sys.path.remove(path_)\n",
        "    print(f\" Appending path: {path_}\")\n",
        "    sys.path.append(path_)"
      ],
      "execution_count": 3,
      "outputs": [
        {
          "output_type": "stream",
          "name": "stdout",
          "text": [
            "Mounted at /content/drive\n",
            "   Authenticated & mounted Google Drive\n",
            " Appending path: /content/drive/MyDrive/Colab Notebooks\n",
            " Appending path: /content/drive/MyDrive/Colab Notebooks/subreddit_clustering_i18n\n"
          ]
        }
      ]
    },
    {
      "cell_type": "markdown",
      "metadata": {
        "id": "6jFbY64VRAGX"
      },
      "source": [
        "### Install custom libraries"
      ]
    },
    {
      "cell_type": "code",
      "metadata": {
        "id": "Kpey-jzFbiXu",
        "colab": {
          "base_uri": "https://localhost:8080/"
        },
        "outputId": "deae6731-5ecf-4516-fd82-716335d7a9cb"
      },
      "source": [
        "# install subclu & libraries needed to read parquet files from GCS & spreadsheets\n",
        "#  make sure to use the [colab] `extra` because it includes colab-specific libraries\n",
        "module_path = f\"{g_drive_root}/MyDrive/Colab Notebooks/subreddit_clustering_i18n/[colab]\"\n",
        "\n",
        "!pip install -e $\"$module_path\" --quiet"
      ],
      "execution_count": 4,
      "outputs": [
        {
          "output_type": "stream",
          "name": "stdout",
          "text": [
            "\u001b[K     |████████████████████████████████| 10.1 MB 8.9 MB/s \n",
            "\u001b[K     |████████████████████████████████| 14.2 MB 36.3 MB/s \n",
            "\u001b[K     |████████████████████████████████| 965 kB 42.0 MB/s \n",
            "\u001b[K     |████████████████████████████████| 144 kB 12.0 MB/s \n",
            "\u001b[K     |████████████████████████████████| 76 kB 5.0 MB/s \n",
            "\u001b[K     |████████████████████████████████| 285 kB 58.6 MB/s \n",
            "\u001b[K     |████████████████████████████████| 13.2 MB 43.1 MB/s \n",
            "\u001b[K     |████████████████████████████████| 79.9 MB 130 kB/s \n",
            "\u001b[K     |████████████████████████████████| 136 kB 48.9 MB/s \n",
            "\u001b[K     |████████████████████████████████| 715 kB 60.1 MB/s \n",
            "\u001b[K     |████████████████████████████████| 112 kB 61.8 MB/s \n",
            "\u001b[K     |████████████████████████████████| 74 kB 3.6 MB/s \n",
            "\u001b[K     |████████████████████████████████| 1.1 MB 51.2 MB/s \n",
            "\u001b[K     |████████████████████████████████| 62 kB 858 kB/s \n",
            "\u001b[K     |████████████████████████████████| 181 kB 50.2 MB/s \n",
            "\u001b[K     |████████████████████████████████| 79 kB 8.9 MB/s \n",
            "\u001b[K     |████████████████████████████████| 146 kB 49.4 MB/s \n",
            "\u001b[K     |████████████████████████████████| 596 kB 57.6 MB/s \n",
            "\u001b[K     |████████████████████████████████| 78 kB 7.3 MB/s \n",
            "\u001b[K     |████████████████████████████████| 54 kB 3.1 MB/s \n",
            "\u001b[K     |████████████████████████████████| 1.1 MB 53.6 MB/s \n",
            "\u001b[K     |████████████████████████████████| 94 kB 3.8 MB/s \n",
            "\u001b[K     |████████████████████████████████| 271 kB 53.9 MB/s \n",
            "\u001b[K     |████████████████████████████████| 144 kB 57.4 MB/s \n",
            "\u001b[K     |████████████████████████████████| 63 kB 2.0 MB/s \n",
            "\u001b[?25h  Building wheel for antlr4-python3-runtime (setup.py) ... \u001b[?25l\u001b[?25hdone\n",
            "  Building wheel for alembic (setup.py) ... \u001b[?25l\u001b[?25hdone\n",
            "  Building wheel for databricks-cli (setup.py) ... \u001b[?25l\u001b[?25hdone\n",
            "  Building wheel for retrying (setup.py) ... \u001b[?25l\u001b[?25hdone\n",
            "\u001b[31mERROR: pip's dependency resolver does not currently take into account all the packages that are installed. This behaviour is the source of the following dependency conflicts.\n",
            "gym 0.17.3 requires cloudpickle<1.7.0,>=1.2.0, but you have cloudpickle 2.0.0 which is incompatible.\u001b[0m\n"
          ]
        }
      ]
    },
    {
      "cell_type": "markdown",
      "metadata": {
        "id": "5TH350bzUsR9"
      },
      "source": [
        "### General Imports\n"
      ]
    },
    {
      "cell_type": "code",
      "metadata": {
        "id": "9TpWbXh5mzew"
      },
      "source": [
        "# Regular Imports\n",
        "import os\n",
        "from datetime import datetime\n",
        "\n",
        "from google.cloud import bigquery\n",
        "\n",
        "import matplotlib.pyplot as plt\n",
        "import pandas as pd\n",
        "import numpy as np\n",
        "import seaborn as sns\n",
        "from matplotlib_venn import venn2_unweighted, venn3_unweighted\n",
        "from tqdm import tqdm\n",
        "\n",
        "# auth for google sheets\n",
        "creds_, _ = default()\n",
        "import gspread\n",
        "# from oauth2client.client import GoogleCredentials\n",
        "gc = gspread.authorize(creds_)\n",
        "\n",
        "\n",
        "# Set env variable needed by some libraries to get datay from BigQuery\n",
        "# os.environ['GOOGLE_CLOUD_PROJECT'] = 'data-science-prod-218515'\n",
        "os.environ['GOOGLE_CLOUD_PROJECT'] = 'data-prod-165221'"
      ],
      "execution_count": 5,
      "outputs": []
    },
    {
      "cell_type": "markdown",
      "metadata": {
        "id": "BMQYoHOTcAlP"
      },
      "source": [
        "### `subclu` import (custom module)"
      ]
    },
    {
      "cell_type": "code",
      "metadata": {
        "colab": {
          "base_uri": "https://localhost:8080/"
        },
        "id": "Cj_y2KtccJ8P",
        "outputId": "f2289a6a-96fb-474f-a7df-2c107ca75cbc"
      },
      "source": [
        "# subclu imports\n",
        "\n",
        "from subclu.utils.eda import (\n",
        "    setup_logging, counts_describe, value_counts_and_pcts,\n",
        "    notebook_display_config, print_lib_versions,\n",
        "    style_df_numeric, reorder_array,\n",
        ")\n",
        "from subclu.models.clustering_utils import (\n",
        "    create_dynamic_clusters,\n",
        "    convert_distance_or_ab_to_list_for_fpr\n",
        ")\n",
        "from subclu.models.reshape_clusters_v041 import (\n",
        "    get_subs_to_filter_as_df\n",
        ")\n",
        "\n",
        "\n",
        "setup_logging()\n",
        "print_lib_versions([gspread, pd, np])"
      ],
      "execution_count": 6,
      "outputs": [
        {
          "output_type": "stream",
          "name": "stdout",
          "text": [
            "python\t\tv 3.7.13\n",
            "===\n",
            "gspread\t\tv: 4.0.1\n",
            "pandas\t\tv: 1.3.5\n",
            "numpy\t\tv: 1.21.5\n"
          ]
        }
      ]
    },
    {
      "cell_type": "markdown",
      "source": [
        "# Checklist to re-run for a country:\n",
        "\n",
        "- Copy google sheet cell from 1st notebook so it matches:\n",
        "    - Google sheet KEY\n",
        "    - country name for google sheet name\n",
        "    - country initial in google sheet\n",
        "- Add new sheet to create: `clusters_t2t_fpr_after_qa`\n",
        "    - Here's where we'll save the clusters after QA\n"
      ],
      "metadata": {
        "id": "NcUyRqG1t2ul"
      }
    },
    {
      "cell_type": "markdown",
      "source": [
        "# Google sheet with country QA\n",
        "\n",
        "For now, copy the same cell from the QA notebook. \n",
        "\n",
        "In the future we might need to register QA sheets in a central location to reduce copy/pasta."
      ],
      "metadata": {
        "id": "xp9fRYijuYdT"
      }
    },
    {
      "cell_type": "code",
      "source": [
        "# # %%time\n",
        "os.environ['GOOGLE_CLOUD_PROJECT'] = 'data-prod-165221'\n",
        "\n",
        "country_name_sheet_ = 'India'\n",
        "target_abbrev_ = 'in'\n",
        "GSHEET_KEY = '1LgcrVG-1vhMoC0JifrZYCCgsalIVigk13Yy7-ZKzw1U'\n",
        "GSHEET_NAME = f'i18n {country_name_sheet_} subreddits and clusters - model v0.4.1'\n",
        "\n",
        "\n",
        "d_wsh_names = {\n",
        "    'qa_ready': {\n",
        "        'name': 'subs_need_to_be_rated',\n",
        "    },\n",
        "    'clusters_t2t_list_raw': {\n",
        "        'name': f'raw_clusters_list_{target_abbrev_}_{target_abbrev_}',\n",
        "    },\n",
        "    'sub_raw': {\n",
        "        'name': 'raw_data_per_subreddit',\n",
        "    },\n",
        "    'clusters_t2t_fpr_raw': {\n",
        "        'name': f'raw_clusters_fpr_{target_abbrev_}_{target_abbrev_}',\n",
        "    },\n",
        "    'clusters_t2t_fpr_after_qa': {\n",
        "        'name': f'fpr_clusters_after_qa_{target_abbrev_}_{target_abbrev_}',\n",
        "    },\n",
        "}\n",
        "\n",
        "if GSHEET_KEY is not None:\n",
        "    sh = gc.open_by_key(GSHEET_KEY)\n",
        "    print(f\"Opening google worksheet: {GSHEET_NAME} ...\")\n",
        "else:\n",
        "    print(f\"** Creating google worksheet: {GSHEET_NAME} ...\")\n",
        "    sh = gc.create(GSHEET_NAME)\n",
        "\n",
        "# create worksheets:\n",
        "for _, d_ in d_wsh_names.items():\n",
        "    sh_name = d_['name']\n",
        "    try:\n",
        "        d_['worksheet'] = sh.worksheet(sh_name)\n",
        "        print(f\"  Opening tab/sheet: {sh_name} ...\")\n",
        "    except Exception as e:\n",
        "        print(f\"  ** Creating tab/sheet: {sh_name} ...\")\n",
        "        d_['worksheet'] = sh.add_worksheet(sh_name, rows=5, cols=5)\n",
        "\n",
        "if GSHEET_KEY is None:\n",
        "    print(f\"\\n*** New sheet ID (assign it to GSHEET_KEY variable): ***\\n{sh.id}\\n\")"
      ],
      "metadata": {
        "colab": {
          "base_uri": "https://localhost:8080/"
        },
        "id": "P2nVB2ehuWRf",
        "outputId": "7398227a-709b-4ae2-b073-a04bfe431202"
      },
      "execution_count": 7,
      "outputs": [
        {
          "output_type": "stream",
          "name": "stdout",
          "text": [
            "Opening google worksheet: i18n India subreddits and clusters - model v0.4.1 ...\n",
            "  Opening tab/sheet: subs_need_to_be_rated ...\n",
            "  Opening tab/sheet: raw_clusters_list_in_in ...\n",
            "  Opening tab/sheet: raw_data_per_subreddit ...\n",
            "  Opening tab/sheet: raw_clusters_fpr_in_in ...\n",
            "  ** Creating tab/sheet: fpr_clusters_after_qa_in_in ...\n"
          ]
        }
      ]
    },
    {
      "cell_type": "markdown",
      "source": [
        "# Get latest ratings & flags (e.g., `allow_discovery`)"
      ],
      "metadata": {
        "id": "c9r0nVpH4XRu"
      }
    },
    {
      "cell_type": "markdown",
      "source": [
        "## SQL"
      ],
      "metadata": {
        "id": "ruXaYJdq8zL0"
      }
    },
    {
      "cell_type": "code",
      "source": [
        "%%time\n",
        "%%bigquery df_latest_ratings --project data-science-prod-218515 \n",
        "\n",
        "-- Get ratings & other flags for all subs in the model\n",
        "--  we'll filter/match to country in python\n",
        "DECLARE PARTITION_DATE DATE DEFAULT (CURRENT_DATE() - 1);\n",
        "\n",
        "SELECT\n",
        "    t.subreddit_id\n",
        "    , t.subreddit_name\n",
        "    , CASE WHEN nt.rating_short = 'E' THEN True\n",
        "        ELSE False\n",
        "    END AS rated_e_latest\n",
        "    , slo.over_18\n",
        "    , slo.allow_discovery\n",
        "    , nt.rating_short\n",
        "    , slo.type\n",
        "    , nt.primary_topic\n",
        "    , nt.rating_name\n",
        "\n",
        "FROM `reddit-employee-datasets.david_bermejo.subclu_v0041_subreddit_clusters_c_a` AS t\n",
        "    -- Add rating so we can get filter out subs not rated as E\n",
        "    LEFT JOIN (\n",
        "        SELECT *\n",
        "        FROM `data-prod-165221.ds_v2_postgres_tables.subreddit_lookup`\n",
        "        -- Get latest partition\n",
        "        WHERE dt = PARTITION_DATE\n",
        "    ) AS slo\n",
        "        ON t.subreddit_id = slo.subreddit_id\n",
        "    LEFT JOIN (\n",
        "        SELECT * FROM `data-prod-165221.cnc.shredded_crowdsource_topic_and_rating`\n",
        "        WHERE pt = PARTITION_DATE\n",
        "    ) AS nt\n",
        "        ON t.subreddit_id = nt.subreddit_id\n",
        "\n",
        "WHERE 1=1\n",
        "    AND t.subreddit_name != 'profile'\n",
        "    -- For this query, we want to keep these values to know\n",
        "    --  if they have changed since last time\n",
        "    -- AND COALESCE(slo.type, '') = 'public'\n",
        "    -- AND COALESCE(slo.verdict, 'f') <> 'admin_removed'\n",
        "    -- AND COALESCE(slo.over_18, 'f') = 'f'\n",
        "    -- AND COALESCE(nt.rating_short, '') NOT IN ('X', 'D')\n",
        "\n",
        "ORDER BY subreddit_name\n",
        ";"
      ],
      "metadata": {
        "colab": {
          "base_uri": "https://localhost:8080/"
        },
        "id": "oxODoHWv4flO",
        "outputId": "0c104369-cee2-469a-b201-7ab67939fc25"
      },
      "execution_count": 8,
      "outputs": [
        {
          "output_type": "stream",
          "name": "stdout",
          "text": [
            "CPU times: user 1.8 s, sys: 145 ms, total: 1.95 s\n",
            "Wall time: 6.41 s\n"
          ]
        }
      ]
    },
    {
      "cell_type": "markdown",
      "source": [
        "## Inspect latest ratings"
      ],
      "metadata": {
        "id": "gdGAO1Ra8v-A"
      }
    },
    {
      "cell_type": "code",
      "source": [
        "print(df_latest_ratings.shape)\n",
        "df_latest_ratings.head()"
      ],
      "metadata": {
        "colab": {
          "base_uri": "https://localhost:8080/",
          "height": 215
        },
        "id": "5iPb4rqo8Nax",
        "outputId": "70da027b-8cae-42cd-b1bf-8581eb6ad893"
      },
      "execution_count": 9,
      "outputs": [
        {
          "output_type": "stream",
          "name": "stdout",
          "text": [
            "(49558, 9)\n"
          ]
        },
        {
          "output_type": "execute_result",
          "data": {
            "text/plain": [
              "  subreddit_id  subreddit_name  rated_e_latest over_18 allow_discovery  \\\n",
              "0    t5_46wt4h    0hthaatsjaay           False       t            None   \n",
              "1    t5_4byrct  0nlyfantastic0           False       t            None   \n",
              "2    t5_36f9u6       0nlyleaks           False       t            None   \n",
              "3    t5_2qlzfy    0sanitymemes           False    None            None   \n",
              "4    t5_2qgijx       0xpolygon            True    None            None   \n",
              "\n",
              "  rating_short    type                    primary_topic rating_name  \n",
              "0         None  public  Mature Themes and Adult Content        None  \n",
              "1         None  public                             None        None  \n",
              "2         None  public                             None        None  \n",
              "3            M  public       Internet Culture and Memes      Mature  \n",
              "4            E  public                           Crypto    Everyone  "
            ],
            "text/html": [
              "\n",
              "  <div id=\"df-8ef660ac-69b6-4f88-9ec3-534b2a449ced\">\n",
              "    <div class=\"colab-df-container\">\n",
              "      <div>\n",
              "<style scoped>\n",
              "    .dataframe tbody tr th:only-of-type {\n",
              "        vertical-align: middle;\n",
              "    }\n",
              "\n",
              "    .dataframe tbody tr th {\n",
              "        vertical-align: top;\n",
              "    }\n",
              "\n",
              "    .dataframe thead th {\n",
              "        text-align: right;\n",
              "    }\n",
              "</style>\n",
              "<table border=\"1\" class=\"dataframe\">\n",
              "  <thead>\n",
              "    <tr style=\"text-align: right;\">\n",
              "      <th></th>\n",
              "      <th>subreddit_id</th>\n",
              "      <th>subreddit_name</th>\n",
              "      <th>rated_e_latest</th>\n",
              "      <th>over_18</th>\n",
              "      <th>allow_discovery</th>\n",
              "      <th>rating_short</th>\n",
              "      <th>type</th>\n",
              "      <th>primary_topic</th>\n",
              "      <th>rating_name</th>\n",
              "    </tr>\n",
              "  </thead>\n",
              "  <tbody>\n",
              "    <tr>\n",
              "      <th>0</th>\n",
              "      <td>t5_46wt4h</td>\n",
              "      <td>0hthaatsjaay</td>\n",
              "      <td>False</td>\n",
              "      <td>t</td>\n",
              "      <td>None</td>\n",
              "      <td>None</td>\n",
              "      <td>public</td>\n",
              "      <td>Mature Themes and Adult Content</td>\n",
              "      <td>None</td>\n",
              "    </tr>\n",
              "    <tr>\n",
              "      <th>1</th>\n",
              "      <td>t5_4byrct</td>\n",
              "      <td>0nlyfantastic0</td>\n",
              "      <td>False</td>\n",
              "      <td>t</td>\n",
              "      <td>None</td>\n",
              "      <td>None</td>\n",
              "      <td>public</td>\n",
              "      <td>None</td>\n",
              "      <td>None</td>\n",
              "    </tr>\n",
              "    <tr>\n",
              "      <th>2</th>\n",
              "      <td>t5_36f9u6</td>\n",
              "      <td>0nlyleaks</td>\n",
              "      <td>False</td>\n",
              "      <td>t</td>\n",
              "      <td>None</td>\n",
              "      <td>None</td>\n",
              "      <td>public</td>\n",
              "      <td>None</td>\n",
              "      <td>None</td>\n",
              "    </tr>\n",
              "    <tr>\n",
              "      <th>3</th>\n",
              "      <td>t5_2qlzfy</td>\n",
              "      <td>0sanitymemes</td>\n",
              "      <td>False</td>\n",
              "      <td>None</td>\n",
              "      <td>None</td>\n",
              "      <td>M</td>\n",
              "      <td>public</td>\n",
              "      <td>Internet Culture and Memes</td>\n",
              "      <td>Mature</td>\n",
              "    </tr>\n",
              "    <tr>\n",
              "      <th>4</th>\n",
              "      <td>t5_2qgijx</td>\n",
              "      <td>0xpolygon</td>\n",
              "      <td>True</td>\n",
              "      <td>None</td>\n",
              "      <td>None</td>\n",
              "      <td>E</td>\n",
              "      <td>public</td>\n",
              "      <td>Crypto</td>\n",
              "      <td>Everyone</td>\n",
              "    </tr>\n",
              "  </tbody>\n",
              "</table>\n",
              "</div>\n",
              "      <button class=\"colab-df-convert\" onclick=\"convertToInteractive('df-8ef660ac-69b6-4f88-9ec3-534b2a449ced')\"\n",
              "              title=\"Convert this dataframe to an interactive table.\"\n",
              "              style=\"display:none;\">\n",
              "        \n",
              "  <svg xmlns=\"http://www.w3.org/2000/svg\" height=\"24px\"viewBox=\"0 0 24 24\"\n",
              "       width=\"24px\">\n",
              "    <path d=\"M0 0h24v24H0V0z\" fill=\"none\"/>\n",
              "    <path d=\"M18.56 5.44l.94 2.06.94-2.06 2.06-.94-2.06-.94-.94-2.06-.94 2.06-2.06.94zm-11 1L8.5 8.5l.94-2.06 2.06-.94-2.06-.94L8.5 2.5l-.94 2.06-2.06.94zm10 10l.94 2.06.94-2.06 2.06-.94-2.06-.94-.94-2.06-.94 2.06-2.06.94z\"/><path d=\"M17.41 7.96l-1.37-1.37c-.4-.4-.92-.59-1.43-.59-.52 0-1.04.2-1.43.59L10.3 9.45l-7.72 7.72c-.78.78-.78 2.05 0 2.83L4 21.41c.39.39.9.59 1.41.59.51 0 1.02-.2 1.41-.59l7.78-7.78 2.81-2.81c.8-.78.8-2.07 0-2.86zM5.41 20L4 18.59l7.72-7.72 1.47 1.35L5.41 20z\"/>\n",
              "  </svg>\n",
              "      </button>\n",
              "      \n",
              "  <style>\n",
              "    .colab-df-container {\n",
              "      display:flex;\n",
              "      flex-wrap:wrap;\n",
              "      gap: 12px;\n",
              "    }\n",
              "\n",
              "    .colab-df-convert {\n",
              "      background-color: #E8F0FE;\n",
              "      border: none;\n",
              "      border-radius: 50%;\n",
              "      cursor: pointer;\n",
              "      display: none;\n",
              "      fill: #1967D2;\n",
              "      height: 32px;\n",
              "      padding: 0 0 0 0;\n",
              "      width: 32px;\n",
              "    }\n",
              "\n",
              "    .colab-df-convert:hover {\n",
              "      background-color: #E2EBFA;\n",
              "      box-shadow: 0px 1px 2px rgba(60, 64, 67, 0.3), 0px 1px 3px 1px rgba(60, 64, 67, 0.15);\n",
              "      fill: #174EA6;\n",
              "    }\n",
              "\n",
              "    [theme=dark] .colab-df-convert {\n",
              "      background-color: #3B4455;\n",
              "      fill: #D2E3FC;\n",
              "    }\n",
              "\n",
              "    [theme=dark] .colab-df-convert:hover {\n",
              "      background-color: #434B5C;\n",
              "      box-shadow: 0px 1px 3px 1px rgba(0, 0, 0, 0.15);\n",
              "      filter: drop-shadow(0px 1px 2px rgba(0, 0, 0, 0.3));\n",
              "      fill: #FFFFFF;\n",
              "    }\n",
              "  </style>\n",
              "\n",
              "      <script>\n",
              "        const buttonEl =\n",
              "          document.querySelector('#df-8ef660ac-69b6-4f88-9ec3-534b2a449ced button.colab-df-convert');\n",
              "        buttonEl.style.display =\n",
              "          google.colab.kernel.accessAllowed ? 'block' : 'none';\n",
              "\n",
              "        async function convertToInteractive(key) {\n",
              "          const element = document.querySelector('#df-8ef660ac-69b6-4f88-9ec3-534b2a449ced');\n",
              "          const dataTable =\n",
              "            await google.colab.kernel.invokeFunction('convertToInteractive',\n",
              "                                                     [key], {});\n",
              "          if (!dataTable) return;\n",
              "\n",
              "          const docLinkHtml = 'Like what you see? Visit the ' +\n",
              "            '<a target=\"_blank\" href=https://colab.research.google.com/notebooks/data_table.ipynb>data table notebook</a>'\n",
              "            + ' to learn more about interactive tables.';\n",
              "          element.innerHTML = '';\n",
              "          dataTable['output_type'] = 'display_data';\n",
              "          await google.colab.output.renderOutput(dataTable, element);\n",
              "          const docLink = document.createElement('div');\n",
              "          docLink.innerHTML = docLinkHtml;\n",
              "          element.appendChild(docLink);\n",
              "        }\n",
              "      </script>\n",
              "    </div>\n",
              "  </div>\n",
              "  "
            ],
            "application/vnd.google.colaboratory.module+javascript": "\n      import \"https://ssl.gstatic.com/colaboratory/data_table/81f25a011006ed3d/data_table.js\";\n\n      window.createDataTable({\n        data: [[{\n            'v': 0,\n            'f': \"0\",\n        },\n\"t5_46wt4h\",\n\"0hthaatsjaay\",\nfalse,\n\"t\",\n{\n            'v': null,\n            'f': \"null\",\n        },\nnull,\n\"public\",\n\"Mature Themes and Adult Content\",\nnull],\n [{\n            'v': 1,\n            'f': \"1\",\n        },\n\"t5_4byrct\",\n\"0nlyfantastic0\",\nfalse,\n\"t\",\n{\n            'v': null,\n            'f': \"null\",\n        },\nnull,\n\"public\",\nnull,\nnull],\n [{\n            'v': 2,\n            'f': \"2\",\n        },\n\"t5_36f9u6\",\n\"0nlyleaks\",\nfalse,\n\"t\",\n{\n            'v': null,\n            'f': \"null\",\n        },\nnull,\n\"public\",\nnull,\nnull],\n [{\n            'v': 3,\n            'f': \"3\",\n        },\n\"t5_2qlzfy\",\n\"0sanitymemes\",\nfalse,\nnull,\n{\n            'v': null,\n            'f': \"null\",\n        },\n\"M\",\n\"public\",\n\"Internet Culture and Memes\",\n\"Mature\"],\n [{\n            'v': 4,\n            'f': \"4\",\n        },\n\"t5_2qgijx\",\n\"0xpolygon\",\ntrue,\nnull,\n{\n            'v': null,\n            'f': \"null\",\n        },\n\"E\",\n\"public\",\n\"Crypto\",\n\"Everyone\"]],\n        columns: [[\"number\", \"index\"], [\"string\", \"subreddit_id\"], [\"string\", \"subreddit_name\"], [\"string\", \"rated_e_latest\"], [\"string\", \"over_18\"], [\"number\", \"allow_discovery\"], [\"string\", \"rating_short\"], [\"string\", \"type\"], [\"string\", \"primary_topic\"], [\"string\", \"rating_name\"]],\n        columnOptions: [{\"width\": \"1px\", \"className\": \"index_column\"}],\n        rowsPerPage: 25,\n        helpUrl: \"https://colab.research.google.com/notebooks/data_table.ipynb\",\n        suppressOutputScrolling: true,\n        minimumWidth: undefined,\n      });\n    "
          },
          "metadata": {},
          "execution_count": 9
        }
      ]
    },
    {
      "cell_type": "code",
      "source": [
        "df_latest_ratings[df_latest_ratings['subreddit_name'].str.contains('667')]"
      ],
      "metadata": {
        "colab": {
          "base_uri": "https://localhost:8080/",
          "height": 133
        },
        "id": "hwWBYEE7gmLh",
        "outputId": "676a0798-0dbf-46c5-ddb0-6b81b80e33c8"
      },
      "execution_count": 10,
      "outputs": [
        {
          "output_type": "execute_result",
          "data": {
            "text/plain": [
              "      subreddit_id subreddit_name  rated_e_latest over_18 allow_discovery  \\\n",
              "308       t5_2ytof            667            True    None            None   \n",
              "25323    t5_2zcwdh  leakoeln50667           False    None            None   \n",
              "\n",
              "      rating_short    type primary_topic rating_name  \n",
              "308              E  public         Music    Everyone  \n",
              "25323         None  public          None        None  "
            ],
            "text/html": [
              "\n",
              "  <div id=\"df-83ec4338-2f0a-4024-b41b-1fb0434031d3\">\n",
              "    <div class=\"colab-df-container\">\n",
              "      <div>\n",
              "<style scoped>\n",
              "    .dataframe tbody tr th:only-of-type {\n",
              "        vertical-align: middle;\n",
              "    }\n",
              "\n",
              "    .dataframe tbody tr th {\n",
              "        vertical-align: top;\n",
              "    }\n",
              "\n",
              "    .dataframe thead th {\n",
              "        text-align: right;\n",
              "    }\n",
              "</style>\n",
              "<table border=\"1\" class=\"dataframe\">\n",
              "  <thead>\n",
              "    <tr style=\"text-align: right;\">\n",
              "      <th></th>\n",
              "      <th>subreddit_id</th>\n",
              "      <th>subreddit_name</th>\n",
              "      <th>rated_e_latest</th>\n",
              "      <th>over_18</th>\n",
              "      <th>allow_discovery</th>\n",
              "      <th>rating_short</th>\n",
              "      <th>type</th>\n",
              "      <th>primary_topic</th>\n",
              "      <th>rating_name</th>\n",
              "    </tr>\n",
              "  </thead>\n",
              "  <tbody>\n",
              "    <tr>\n",
              "      <th>308</th>\n",
              "      <td>t5_2ytof</td>\n",
              "      <td>667</td>\n",
              "      <td>True</td>\n",
              "      <td>None</td>\n",
              "      <td>None</td>\n",
              "      <td>E</td>\n",
              "      <td>public</td>\n",
              "      <td>Music</td>\n",
              "      <td>Everyone</td>\n",
              "    </tr>\n",
              "    <tr>\n",
              "      <th>25323</th>\n",
              "      <td>t5_2zcwdh</td>\n",
              "      <td>leakoeln50667</td>\n",
              "      <td>False</td>\n",
              "      <td>None</td>\n",
              "      <td>None</td>\n",
              "      <td>None</td>\n",
              "      <td>public</td>\n",
              "      <td>None</td>\n",
              "      <td>None</td>\n",
              "    </tr>\n",
              "  </tbody>\n",
              "</table>\n",
              "</div>\n",
              "      <button class=\"colab-df-convert\" onclick=\"convertToInteractive('df-83ec4338-2f0a-4024-b41b-1fb0434031d3')\"\n",
              "              title=\"Convert this dataframe to an interactive table.\"\n",
              "              style=\"display:none;\">\n",
              "        \n",
              "  <svg xmlns=\"http://www.w3.org/2000/svg\" height=\"24px\"viewBox=\"0 0 24 24\"\n",
              "       width=\"24px\">\n",
              "    <path d=\"M0 0h24v24H0V0z\" fill=\"none\"/>\n",
              "    <path d=\"M18.56 5.44l.94 2.06.94-2.06 2.06-.94-2.06-.94-.94-2.06-.94 2.06-2.06.94zm-11 1L8.5 8.5l.94-2.06 2.06-.94-2.06-.94L8.5 2.5l-.94 2.06-2.06.94zm10 10l.94 2.06.94-2.06 2.06-.94-2.06-.94-.94-2.06-.94 2.06-2.06.94z\"/><path d=\"M17.41 7.96l-1.37-1.37c-.4-.4-.92-.59-1.43-.59-.52 0-1.04.2-1.43.59L10.3 9.45l-7.72 7.72c-.78.78-.78 2.05 0 2.83L4 21.41c.39.39.9.59 1.41.59.51 0 1.02-.2 1.41-.59l7.78-7.78 2.81-2.81c.8-.78.8-2.07 0-2.86zM5.41 20L4 18.59l7.72-7.72 1.47 1.35L5.41 20z\"/>\n",
              "  </svg>\n",
              "      </button>\n",
              "      \n",
              "  <style>\n",
              "    .colab-df-container {\n",
              "      display:flex;\n",
              "      flex-wrap:wrap;\n",
              "      gap: 12px;\n",
              "    }\n",
              "\n",
              "    .colab-df-convert {\n",
              "      background-color: #E8F0FE;\n",
              "      border: none;\n",
              "      border-radius: 50%;\n",
              "      cursor: pointer;\n",
              "      display: none;\n",
              "      fill: #1967D2;\n",
              "      height: 32px;\n",
              "      padding: 0 0 0 0;\n",
              "      width: 32px;\n",
              "    }\n",
              "\n",
              "    .colab-df-convert:hover {\n",
              "      background-color: #E2EBFA;\n",
              "      box-shadow: 0px 1px 2px rgba(60, 64, 67, 0.3), 0px 1px 3px 1px rgba(60, 64, 67, 0.15);\n",
              "      fill: #174EA6;\n",
              "    }\n",
              "\n",
              "    [theme=dark] .colab-df-convert {\n",
              "      background-color: #3B4455;\n",
              "      fill: #D2E3FC;\n",
              "    }\n",
              "\n",
              "    [theme=dark] .colab-df-convert:hover {\n",
              "      background-color: #434B5C;\n",
              "      box-shadow: 0px 1px 3px 1px rgba(0, 0, 0, 0.15);\n",
              "      filter: drop-shadow(0px 1px 2px rgba(0, 0, 0, 0.3));\n",
              "      fill: #FFFFFF;\n",
              "    }\n",
              "  </style>\n",
              "\n",
              "      <script>\n",
              "        const buttonEl =\n",
              "          document.querySelector('#df-83ec4338-2f0a-4024-b41b-1fb0434031d3 button.colab-df-convert');\n",
              "        buttonEl.style.display =\n",
              "          google.colab.kernel.accessAllowed ? 'block' : 'none';\n",
              "\n",
              "        async function convertToInteractive(key) {\n",
              "          const element = document.querySelector('#df-83ec4338-2f0a-4024-b41b-1fb0434031d3');\n",
              "          const dataTable =\n",
              "            await google.colab.kernel.invokeFunction('convertToInteractive',\n",
              "                                                     [key], {});\n",
              "          if (!dataTable) return;\n",
              "\n",
              "          const docLinkHtml = 'Like what you see? Visit the ' +\n",
              "            '<a target=\"_blank\" href=https://colab.research.google.com/notebooks/data_table.ipynb>data table notebook</a>'\n",
              "            + ' to learn more about interactive tables.';\n",
              "          element.innerHTML = '';\n",
              "          dataTable['output_type'] = 'display_data';\n",
              "          await google.colab.output.renderOutput(dataTable, element);\n",
              "          const docLink = document.createElement('div');\n",
              "          docLink.innerHTML = docLinkHtml;\n",
              "          element.appendChild(docLink);\n",
              "        }\n",
              "      </script>\n",
              "    </div>\n",
              "  </div>\n",
              "  "
            ],
            "application/vnd.google.colaboratory.module+javascript": "\n      import \"https://ssl.gstatic.com/colaboratory/data_table/81f25a011006ed3d/data_table.js\";\n\n      window.createDataTable({\n        data: [[{\n            'v': 308,\n            'f': \"308\",\n        },\n\"t5_2ytof\",\n\"667\",\ntrue,\n{\n            'v': null,\n            'f': \"null\",\n        },\n{\n            'v': null,\n            'f': \"null\",\n        },\n\"E\",\n\"public\",\n\"Music\",\n\"Everyone\"],\n [{\n            'v': 25323,\n            'f': \"25323\",\n        },\n\"t5_2zcwdh\",\n\"leakoeln50667\",\nfalse,\n{\n            'v': null,\n            'f': \"null\",\n        },\n{\n            'v': null,\n            'f': \"null\",\n        },\nnull,\n\"public\",\nnull,\nnull]],\n        columns: [[\"number\", \"index\"], [\"string\", \"subreddit_id\"], [\"string\", \"subreddit_name\"], [\"string\", \"rated_e_latest\"], [\"number\", \"over_18\"], [\"number\", \"allow_discovery\"], [\"string\", \"rating_short\"], [\"string\", \"type\"], [\"string\", \"primary_topic\"], [\"string\", \"rating_name\"]],\n        columnOptions: [{\"width\": \"1px\", \"className\": \"index_column\"}],\n        rowsPerPage: 25,\n        helpUrl: \"https://colab.research.google.com/notebooks/data_table.ipynb\",\n        suppressOutputScrolling: true,\n        minimumWidth: undefined,\n      });\n    "
          },
          "metadata": {},
          "execution_count": 10
        }
      ]
    },
    {
      "cell_type": "markdown",
      "source": [
        "# Google sheet with subreddits to exclude\n",
        "Spiros created [this sheet](https://docs.google.com/spreadsheets/d/1JiDpiLa8RKRTC0ZxjLI0ISgtngAFWTEbsoYEoeeaVO8/edit#gid=733540374) for subs that are missing rating or have ratings that look wrong.\n",
        "\n",
        "To be safe, we'll be excluding all the subs in these sheets.\n"
      ],
      "metadata": {
        "id": "OiDPbwH1tApB"
      }
    },
    {
      "cell_type": "code",
      "source": [
        "# GSHEET_KEY_EXCLUDES = '1JiDpiLa8RKRTC0ZxjLI0ISgtngAFWTEbsoYEoeeaVO8'\n",
        "# sh_filter = gc.open_by_key(GSHEET_KEY_EXCLUDES)\n",
        "\n",
        "# df_subs_to_filter = get_subs_to_filter_as_df(sh_filter, cols_to_keep='core')\n",
        "\n",
        "# counts_describe(df_subs_to_filter)"
      ],
      "metadata": {
        "id": "A7bxTP2PtOlP"
      },
      "execution_count": 11,
      "outputs": []
    },
    {
      "cell_type": "code",
      "source": [
        "# df_subs_to_filter.tail()"
      ],
      "metadata": {
        "id": "2B07Vzwl0HL5"
      },
      "execution_count": 12,
      "outputs": []
    },
    {
      "cell_type": "markdown",
      "metadata": {
        "id": "DzFMkIHFdmQd"
      },
      "source": [
        "# Read QA results from sheet"
      ]
    },
    {
      "cell_type": "code",
      "metadata": {
        "colab": {
          "base_uri": "https://localhost:8080/"
        },
        "id": "jGP6NXGSboGu",
        "outputId": "2b8fc4a8-1a8f-4027-e059-75cc64e26a06"
      },
      "source": [
        "%%time\n",
        "df_qa_raw = pd.DataFrame(\n",
        "    d_wsh_names['qa_ready']['worksheet'].get_all_records()\n",
        ")\n",
        "df_qa_raw = df_qa_raw.rename(columns={k: k.lower().strip().replace(' ', '_') for k in df_qa_raw.columns})\n",
        "\n",
        "print(df_qa_raw.shape)"
      ],
      "execution_count": 13,
      "outputs": [
        {
          "output_type": "stream",
          "name": "stdout",
          "text": [
            "(1160, 35)\n",
            "CPU times: user 146 ms, sys: 162 µs, total: 146 ms\n",
            "Wall time: 559 ms\n"
          ]
        }
      ]
    },
    {
      "cell_type": "markdown",
      "source": [
        "# Reshape & filter data"
      ],
      "metadata": {
        "id": "Lu5ZLBzTEo7B"
      }
    },
    {
      "cell_type": "markdown",
      "metadata": {
        "id": "I_Q_ptCghuxM"
      },
      "source": [
        "## Add latest ratings to df with QA results\n",
        "\n",
        "We need the latest ratings & flags to make sure filters are up to date"
      ]
    },
    {
      "cell_type": "code",
      "source": [
        "latest_suffix = '_latest'\n",
        "\n",
        "col_rating_latest = f'rating_short{latest_suffix}'\n",
        "col_over_18_latest = f'over_18{latest_suffix}'\n",
        "col_rated_e_latest = 'rated_e_latest'\n",
        "col_allow_discovery_latest = 'allow_discovery_latest'\n",
        "col_primary_topic_latest = f\"primary_topic{latest_suffix}\"\n",
        "col_country_relevant = f'not_country_relevant'\n",
        "col_releveant_to_cluster = f'relevant_to_cluster/_other_subreddits_in_cluster'\n",
        "col_safe_to_show_in_cluster = f'safe_to_show_in_relation_to_cluster'\n",
        "\n",
        "col_new_cluster_val = 'cluster_label'\n",
        "col_new_cluster_name = 'cluster_label_k'\n",
        "col_model_sort_order = 'model_sort_order'\n",
        "\n",
        "l_cols_to_front = [\n",
        "    'subreddit_id',\n",
        "    'subreddit_name',\n",
        "    col_rated_e_latest,\n",
        "    col_over_18_latest,\n",
        "    col_allow_discovery_latest,\n",
        "    col_country_relevant,\n",
        "    col_releveant_to_cluster,\n",
        "    col_safe_to_show_in_cluster,\n",
        "\n",
        "    col_rating_latest,\n",
        "    'type',\n",
        "    col_primary_topic_latest,\n",
        "    col_new_cluster_val,\n",
        "    col_model_sort_order,\n",
        "    col_new_cluster_name,\n",
        "    'rating_short',\n",
        "    'over_18',\n",
        "\n",
        "]"
      ],
      "metadata": {
        "id": "JcIUKzb3E-o1"
      },
      "execution_count": 14,
      "outputs": []
    },
    {
      "cell_type": "code",
      "metadata": {
        "id": "rA5LyTuSiE6Q",
        "colab": {
          "base_uri": "https://localhost:8080/"
        },
        "outputId": "46b76d99-b263-426a-a92c-0df1c31cbb64"
      },
      "source": [
        "df_qa_latest = (\n",
        "    df_latest_ratings.drop(['subreddit_name'], axis=1)\n",
        "    .merge(\n",
        "        df_qa_raw,\n",
        "        how='right',\n",
        "        on=['subreddit_id', ],\n",
        "        suffixes=(latest_suffix, ''),\n",
        "    )\n",
        "    .sort_values(\n",
        "        by=[col_model_sort_order], ascending=True,\n",
        "    )\n",
        ")\n",
        "\n",
        "# make sure all objects in col are str so we can sort by it\n",
        "df_qa_latest[col_new_cluster_val] = df_qa_latest[col_new_cluster_val].astype(str)\n",
        "\n",
        "df_qa_latest = df_qa_latest[\n",
        "    reorder_array(\n",
        "        l_cols_to_front,\n",
        "        df_qa_latest.columns\n",
        "    )\n",
        "]\n",
        "print(df_qa_latest.shape)"
      ],
      "execution_count": 15,
      "outputs": [
        {
          "output_type": "stream",
          "name": "stdout",
          "text": [
            "(1160, 42)\n"
          ]
        }
      ]
    },
    {
      "cell_type": "code",
      "source": [
        "# style_df_numeric(\n",
        "#     df_qa_latest.iloc[:5, :15],\n",
        "#     rename_cols_for_display=True,\n",
        "# )"
      ],
      "metadata": {
        "id": "0S34UsgJKUYY"
      },
      "execution_count": 16,
      "outputs": []
    },
    {
      "cell_type": "markdown",
      "source": [
        "## Drop sensitive subreddits\n",
        "\n",
        "These have been flagged as too sensitive or risky to show up in recommendations, so we're excluding them even if the crowd-sourced rating is `E` (people troll... it's reddit, after all)."
      ],
      "metadata": {
        "id": "TMVDT3E_OLeS"
      }
    },
    {
      "cell_type": "code",
      "source": [
        "# might need to re-import in order for live updates to show up\n",
        "from subclu.models.reshape_clusters_v041 import (\n",
        "    _L_MATURE_CLUSTERS_TO_EXCLUDE_FROM_QA_,\n",
        "    _L_SENSITIVE_SUBREDDITS_TO_EXCLUDE_FROM_FPRS_,\n",
        "    remove_sensitive_clusters_and_subs,\n",
        "    print_subreddit_name_qa_checks,\n",
        "    apply_qa_filters_for_fpr,\n",
        ")\n",
        "\n",
        "print(len(_L_SENSITIVE_SUBREDDITS_TO_EXCLUDE_FROM_FPRS_))\n",
        "_L_SENSITIVE_SUBREDDITS_TO_EXCLUDE_FROM_FPRS_[30:38]"
      ],
      "metadata": {
        "colab": {
          "base_uri": "https://localhost:8080/"
        },
        "id": "3jEaoD7LdGbY",
        "outputId": "fb355650-6ef3-45d0-f5be-28ee08ab859d"
      },
      "execution_count": 17,
      "outputs": [
        {
          "output_type": "stream",
          "name": "stdout",
          "text": [
            "96\n"
          ]
        },
        {
          "output_type": "execute_result",
          "data": {
            "text/plain": [
              "['askthe_donald',\n",
              " 'benshapiro',\n",
              " 'tucker_carlson',\n",
              " 'trueanon',\n",
              " 'beholdthemasterrace',\n",
              " 'globallockdown',\n",
              " 'nurembergtwo',\n",
              " 'covidiots']"
            ]
          },
          "metadata": {},
          "execution_count": 17
        }
      ]
    },
    {
      "cell_type": "code",
      "source": [
        "df_qa_clean = remove_sensitive_clusters_and_subs(\n",
        "    df_qa_latest,\n",
        "    additional_subs_to_filter=None,  # df_subs_to_filter['subreddit_name'],\n",
        "    col_new_cluster_val='cluster_label',\n",
        "    print_qa_check=True,\n",
        ")"
      ],
      "metadata": {
        "colab": {
          "base_uri": "https://localhost:8080/"
        },
        "id": "jJsjaUOIt4k6",
        "outputId": "6caf8c65-a4b4-4d53-921d-eed1d21c6739"
      },
      "execution_count": 18,
      "outputs": [
        {
          "output_type": "stream",
          "name": "stdout",
          "text": [
            "(1160, 42) <- Initial shape\n",
            "(1160, 42) <- Shape AFTER dropping place-clusters\n",
            "(1160, 42) <- Shape AFTER dropping covid-clusters\n",
            "(1142, 42) <- Shape AFTER dropping sensitive clusters\n",
            "(1142, 42) <- Shape AFTER dropping flagged subs B\n",
            "(1141, 42) <- Shape AFTER dropping covid-related subs\n",
            "19 <- Total subreddits removed\n",
            "\n",
            "QA keyword subreddit checks:\n",
            "  ['kritisanon', 'kritisanonlovers', 'indianonpolitical', 'anoncorporatechatind']\n",
            "  ['indiannsfwmeme']\n",
            "  ['onlyfans_hacked_x']\n",
            "  ['hinakhanfap', 'shirleysetiafap', 'raveenatandonfap', 'desifappedtoher', 'payalfappers', 'fapshaggers', 'nofapteens', 'nofap']\n",
            "  ['nofapteens', 'indianteenagers']\n",
            "  ['adhdindia']\n",
            "  ['radhikaseth', 'sadhguru', 'adhdindia']\n",
            "\n"
          ]
        }
      ]
    },
    {
      "cell_type": "markdown",
      "metadata": {
        "id": "UeRLdnYk8lOZ"
      },
      "source": [
        "# Apply filters based on QA + latest ratings\n",
        "\n",
        "Keep only subreddits that\n",
        "- Are rated as `E`\n",
        "    - Double check: `over_18` should be `f` or `NULL` \n",
        "- Relevant to country (`TRUE`)\n",
        "- Relevant to cluster (`TRUE`)\n",
        "- Safe to show in cluster (`TRUE`)\n",
        "- Have the `allow_discovery` flag to `t` or `NULL` (i.e., NOT `f`) \n"
      ]
    },
    {
      "cell_type": "code",
      "source": [
        "l_cols_qa = [\n",
        "    col_country_relevant,\n",
        "    col_releveant_to_cluster,\n",
        "    col_safe_to_show_in_cluster,\n",
        "    col_rated_e_latest,\n",
        "    col_allow_discovery_latest,\n",
        "    col_over_18_latest,\n",
        "]"
      ],
      "metadata": {
        "id": "E0PFAqkBTBlO"
      },
      "execution_count": 19,
      "outputs": []
    },
    {
      "cell_type": "markdown",
      "source": [
        "### Check each column individually"
      ],
      "metadata": {
        "id": "dVXfcDlqWjPe"
      }
    },
    {
      "cell_type": "code",
      "source": [
        "for c_ in l_cols_qa:\n",
        "    display(\n",
        "        value_counts_and_pcts(\n",
        "            df_qa_clean,\n",
        "            c_,\n",
        "            add_col_prefix=False,\n",
        "            reset_index=True,\n",
        "            sort_index=True, cumsum=False,\n",
        "            count_type='subreddits',\n",
        "            rename_cols_for_display=True,\n",
        "        )\n",
        "    )\n",
        "    print('')"
      ],
      "metadata": {
        "colab": {
          "base_uri": "https://localhost:8080/",
          "height": 0
        },
        "id": "dzZ-LgVgUP9e",
        "outputId": "ddea6716-33ab-4146-dfcf-01a9d883e9ce"
      },
      "execution_count": 20,
      "outputs": [
        {
          "output_type": "display_data",
          "data": {
            "text/plain": [
              "<pandas.io.formats.style.Styler at 0x7ff2437605d0>"
            ],
            "text/html": [
              "<style type=\"text/css\">\n",
              "#T_b52c0_row0_col2 {\n",
              "  width: 10em;\n",
              "  height: 80%;\n",
              "  background: linear-gradient(90deg,#95cff5 100.0%, transparent 100.0%);\n",
              "}\n",
              "#T_b52c0_row1_col2 {\n",
              "  width: 10em;\n",
              "  height: 80%;\n",
              "}\n",
              "</style>\n",
              "<table id=\"T_b52c0_\" class=\"dataframe\">\n",
              "  <thead>\n",
              "    <tr>\n",
              "      <th class=\"blank level0\" >&nbsp;</th>\n",
              "      <th class=\"col_heading level0 col0\" >not country relevant</th>\n",
              "      <th class=\"col_heading level0 col1\" >subreddits count</th>\n",
              "      <th class=\"col_heading level0 col2\" >percent of subreddits</th>\n",
              "    </tr>\n",
              "  </thead>\n",
              "  <tbody>\n",
              "    <tr>\n",
              "      <th id=\"T_b52c0_level0_row0\" class=\"row_heading level0 row0\" >0</th>\n",
              "      <td id=\"T_b52c0_row0_col0\" class=\"data row0 col0\" >FALSE</td>\n",
              "      <td id=\"T_b52c0_row0_col1\" class=\"data row0 col1\" >1,129</td>\n",
              "      <td id=\"T_b52c0_row0_col2\" class=\"data row0 col2\" >98.9%</td>\n",
              "    </tr>\n",
              "    <tr>\n",
              "      <th id=\"T_b52c0_level0_row1\" class=\"row_heading level0 row1\" >1</th>\n",
              "      <td id=\"T_b52c0_row1_col0\" class=\"data row1 col0\" >TRUE</td>\n",
              "      <td id=\"T_b52c0_row1_col1\" class=\"data row1 col1\" >12</td>\n",
              "      <td id=\"T_b52c0_row1_col2\" class=\"data row1 col2\" >1.1%</td>\n",
              "    </tr>\n",
              "  </tbody>\n",
              "</table>\n"
            ]
          },
          "metadata": {}
        },
        {
          "output_type": "stream",
          "name": "stdout",
          "text": [
            "\n"
          ]
        },
        {
          "output_type": "display_data",
          "data": {
            "text/plain": [
              "<pandas.io.formats.style.Styler at 0x7ff243b17110>"
            ],
            "text/html": [
              "<style type=\"text/css\">\n",
              "#T_8ce02_row0_col2 {\n",
              "  width: 10em;\n",
              "  height: 80%;\n",
              "}\n",
              "#T_8ce02_row1_col2 {\n",
              "  width: 10em;\n",
              "  height: 80%;\n",
              "  background: linear-gradient(90deg,#95cff5 100.0%, transparent 100.0%);\n",
              "}\n",
              "</style>\n",
              "<table id=\"T_8ce02_\" class=\"dataframe\">\n",
              "  <thead>\n",
              "    <tr>\n",
              "      <th class=\"blank level0\" >&nbsp;</th>\n",
              "      <th class=\"col_heading level0 col0\" >relevant to cluster/ other subreddits in cluster</th>\n",
              "      <th class=\"col_heading level0 col1\" >subreddits count</th>\n",
              "      <th class=\"col_heading level0 col2\" >percent of subreddits</th>\n",
              "    </tr>\n",
              "  </thead>\n",
              "  <tbody>\n",
              "    <tr>\n",
              "      <th id=\"T_8ce02_level0_row0\" class=\"row_heading level0 row0\" >0</th>\n",
              "      <td id=\"T_8ce02_row0_col0\" class=\"data row0 col0\" >FALSE</td>\n",
              "      <td id=\"T_8ce02_row0_col1\" class=\"data row0 col1\" >291</td>\n",
              "      <td id=\"T_8ce02_row0_col2\" class=\"data row0 col2\" >25.5%</td>\n",
              "    </tr>\n",
              "    <tr>\n",
              "      <th id=\"T_8ce02_level0_row1\" class=\"row_heading level0 row1\" >1</th>\n",
              "      <td id=\"T_8ce02_row1_col0\" class=\"data row1 col0\" >TRUE</td>\n",
              "      <td id=\"T_8ce02_row1_col1\" class=\"data row1 col1\" >850</td>\n",
              "      <td id=\"T_8ce02_row1_col2\" class=\"data row1 col2\" >74.5%</td>\n",
              "    </tr>\n",
              "  </tbody>\n",
              "</table>\n"
            ]
          },
          "metadata": {}
        },
        {
          "output_type": "stream",
          "name": "stdout",
          "text": [
            "\n"
          ]
        },
        {
          "output_type": "display_data",
          "data": {
            "text/plain": [
              "<pandas.io.formats.style.Styler at 0x7ff24395a410>"
            ],
            "text/html": [
              "<style type=\"text/css\">\n",
              "#T_5fa02_row0_col2 {\n",
              "  width: 10em;\n",
              "  height: 80%;\n",
              "}\n",
              "#T_5fa02_row1_col2 {\n",
              "  width: 10em;\n",
              "  height: 80%;\n",
              "  background: linear-gradient(90deg,#95cff5 100.0%, transparent 100.0%);\n",
              "}\n",
              "</style>\n",
              "<table id=\"T_5fa02_\" class=\"dataframe\">\n",
              "  <thead>\n",
              "    <tr>\n",
              "      <th class=\"blank level0\" >&nbsp;</th>\n",
              "      <th class=\"col_heading level0 col0\" >safe to show in relation to cluster</th>\n",
              "      <th class=\"col_heading level0 col1\" >subreddits count</th>\n",
              "      <th class=\"col_heading level0 col2\" >percent of subreddits</th>\n",
              "    </tr>\n",
              "  </thead>\n",
              "  <tbody>\n",
              "    <tr>\n",
              "      <th id=\"T_5fa02_level0_row0\" class=\"row_heading level0 row0\" >0</th>\n",
              "      <td id=\"T_5fa02_row0_col0\" class=\"data row0 col0\" >FALSE</td>\n",
              "      <td id=\"T_5fa02_row0_col1\" class=\"data row0 col1\" >273</td>\n",
              "      <td id=\"T_5fa02_row0_col2\" class=\"data row0 col2\" >23.9%</td>\n",
              "    </tr>\n",
              "    <tr>\n",
              "      <th id=\"T_5fa02_level0_row1\" class=\"row_heading level0 row1\" >1</th>\n",
              "      <td id=\"T_5fa02_row1_col0\" class=\"data row1 col0\" >TRUE</td>\n",
              "      <td id=\"T_5fa02_row1_col1\" class=\"data row1 col1\" >868</td>\n",
              "      <td id=\"T_5fa02_row1_col2\" class=\"data row1 col2\" >76.1%</td>\n",
              "    </tr>\n",
              "  </tbody>\n",
              "</table>\n"
            ]
          },
          "metadata": {}
        },
        {
          "output_type": "stream",
          "name": "stdout",
          "text": [
            "\n"
          ]
        },
        {
          "output_type": "display_data",
          "data": {
            "text/plain": [
              "<pandas.io.formats.style.Styler at 0x7ff243711dd0>"
            ],
            "text/html": [
              "<style type=\"text/css\">\n",
              "#T_24419_row0_col2 {\n",
              "  width: 10em;\n",
              "  height: 80%;\n",
              "}\n",
              "#T_24419_row1_col2 {\n",
              "  width: 10em;\n",
              "  height: 80%;\n",
              "  background: linear-gradient(90deg,#95cff5 100.0%, transparent 100.0%);\n",
              "}\n",
              "</style>\n",
              "<table id=\"T_24419_\" class=\"dataframe\">\n",
              "  <thead>\n",
              "    <tr>\n",
              "      <th class=\"blank level0\" >&nbsp;</th>\n",
              "      <th class=\"col_heading level0 col0\" >rated e latest</th>\n",
              "      <th class=\"col_heading level0 col1\" >subreddits count</th>\n",
              "      <th class=\"col_heading level0 col2\" >percent of subreddits</th>\n",
              "    </tr>\n",
              "  </thead>\n",
              "  <tbody>\n",
              "    <tr>\n",
              "      <th id=\"T_24419_level0_row0\" class=\"row_heading level0 row0\" >0</th>\n",
              "      <td id=\"T_24419_row0_col0\" class=\"data row0 col0\" >False</td>\n",
              "      <td id=\"T_24419_row0_col1\" class=\"data row0 col1\" >119</td>\n",
              "      <td id=\"T_24419_row0_col2\" class=\"data row0 col2\" >10.4%</td>\n",
              "    </tr>\n",
              "    <tr>\n",
              "      <th id=\"T_24419_level0_row1\" class=\"row_heading level0 row1\" >1</th>\n",
              "      <td id=\"T_24419_row1_col0\" class=\"data row1 col0\" >True</td>\n",
              "      <td id=\"T_24419_row1_col1\" class=\"data row1 col1\" >1,022</td>\n",
              "      <td id=\"T_24419_row1_col2\" class=\"data row1 col2\" >89.6%</td>\n",
              "    </tr>\n",
              "  </tbody>\n",
              "</table>\n"
            ]
          },
          "metadata": {}
        },
        {
          "output_type": "stream",
          "name": "stdout",
          "text": [
            "\n"
          ]
        },
        {
          "output_type": "display_data",
          "data": {
            "text/plain": [
              "<pandas.io.formats.style.Styler at 0x7ff243711150>"
            ],
            "text/html": [
              "<style type=\"text/css\">\n",
              "#T_b825f_row0_col2 {\n",
              "  width: 10em;\n",
              "  height: 80%;\n",
              "}\n",
              "#T_b825f_row1_col2 {\n",
              "  width: 10em;\n",
              "  height: 80%;\n",
              "  background: linear-gradient(90deg,#95cff5 8.0%, transparent 8.0%);\n",
              "}\n",
              "#T_b825f_row2_col2 {\n",
              "  width: 10em;\n",
              "  height: 80%;\n",
              "  background: linear-gradient(90deg,#95cff5 100.0%, transparent 100.0%);\n",
              "}\n",
              "</style>\n",
              "<table id=\"T_b825f_\" class=\"dataframe\">\n",
              "  <thead>\n",
              "    <tr>\n",
              "      <th class=\"blank level0\" >&nbsp;</th>\n",
              "      <th class=\"col_heading level0 col0\" >allow discovery latest</th>\n",
              "      <th class=\"col_heading level0 col1\" >subreddits count</th>\n",
              "      <th class=\"col_heading level0 col2\" >percent of subreddits</th>\n",
              "    </tr>\n",
              "  </thead>\n",
              "  <tbody>\n",
              "    <tr>\n",
              "      <th id=\"T_b825f_level0_row0\" class=\"row_heading level0 row0\" >0</th>\n",
              "      <td id=\"T_b825f_row0_col0\" class=\"data row0 col0\" >f</td>\n",
              "      <td id=\"T_b825f_row0_col1\" class=\"data row0 col1\" >8</td>\n",
              "      <td id=\"T_b825f_row0_col2\" class=\"data row0 col2\" >0.7%</td>\n",
              "    </tr>\n",
              "    <tr>\n",
              "      <th id=\"T_b825f_level0_row1\" class=\"row_heading level0 row1\" >1</th>\n",
              "      <td id=\"T_b825f_row1_col0\" class=\"data row1 col0\" >t</td>\n",
              "      <td id=\"T_b825f_row1_col1\" class=\"data row1 col1\" >91</td>\n",
              "      <td id=\"T_b825f_row1_col2\" class=\"data row1 col2\" >8.0%</td>\n",
              "    </tr>\n",
              "    <tr>\n",
              "      <th id=\"T_b825f_level0_row2\" class=\"row_heading level0 row2\" >2</th>\n",
              "      <td id=\"T_b825f_row2_col0\" class=\"data row2 col0\" >nan</td>\n",
              "      <td id=\"T_b825f_row2_col1\" class=\"data row2 col1\" >1,042</td>\n",
              "      <td id=\"T_b825f_row2_col2\" class=\"data row2 col2\" >91.3%</td>\n",
              "    </tr>\n",
              "  </tbody>\n",
              "</table>\n"
            ]
          },
          "metadata": {}
        },
        {
          "output_type": "stream",
          "name": "stdout",
          "text": [
            "\n"
          ]
        },
        {
          "output_type": "display_data",
          "data": {
            "text/plain": [
              "<pandas.io.formats.style.Styler at 0x7ff243675090>"
            ],
            "text/html": [
              "<style type=\"text/css\">\n",
              "#T_db4d9_row0_col2 {\n",
              "  width: 10em;\n",
              "  height: 80%;\n",
              "  background: linear-gradient(90deg,#95cff5 35.4%, transparent 35.4%);\n",
              "}\n",
              "#T_db4d9_row1_col2 {\n",
              "  width: 10em;\n",
              "  height: 80%;\n",
              "}\n",
              "#T_db4d9_row2_col2 {\n",
              "  width: 10em;\n",
              "  height: 80%;\n",
              "  background: linear-gradient(90deg,#95cff5 100.0%, transparent 100.0%);\n",
              "}\n",
              "</style>\n",
              "<table id=\"T_db4d9_\" class=\"dataframe\">\n",
              "  <thead>\n",
              "    <tr>\n",
              "      <th class=\"blank level0\" >&nbsp;</th>\n",
              "      <th class=\"col_heading level0 col0\" >over 18 latest</th>\n",
              "      <th class=\"col_heading level0 col1\" >subreddits count</th>\n",
              "      <th class=\"col_heading level0 col2\" >percent of subreddits</th>\n",
              "    </tr>\n",
              "  </thead>\n",
              "  <tbody>\n",
              "    <tr>\n",
              "      <th id=\"T_db4d9_level0_row0\" class=\"row_heading level0 row0\" >0</th>\n",
              "      <td id=\"T_db4d9_row0_col0\" class=\"data row0 col0\" >f</td>\n",
              "      <td id=\"T_db4d9_row0_col1\" class=\"data row0 col1\" >299</td>\n",
              "      <td id=\"T_db4d9_row0_col2\" class=\"data row0 col2\" >26.2%</td>\n",
              "    </tr>\n",
              "    <tr>\n",
              "      <th id=\"T_db4d9_level0_row1\" class=\"row_heading level0 row1\" >1</th>\n",
              "      <td id=\"T_db4d9_row1_col0\" class=\"data row1 col0\" >t</td>\n",
              "      <td id=\"T_db4d9_row1_col1\" class=\"data row1 col1\" >4</td>\n",
              "      <td id=\"T_db4d9_row1_col2\" class=\"data row1 col2\" >0.4%</td>\n",
              "    </tr>\n",
              "    <tr>\n",
              "      <th id=\"T_db4d9_level0_row2\" class=\"row_heading level0 row2\" >2</th>\n",
              "      <td id=\"T_db4d9_row2_col0\" class=\"data row2 col0\" >nan</td>\n",
              "      <td id=\"T_db4d9_row2_col1\" class=\"data row2 col1\" >838</td>\n",
              "      <td id=\"T_db4d9_row2_col2\" class=\"data row2 col2\" >73.4%</td>\n",
              "    </tr>\n",
              "  </tbody>\n",
              "</table>\n"
            ]
          },
          "metadata": {}
        },
        {
          "output_type": "stream",
          "name": "stdout",
          "text": [
            "\n"
          ]
        }
      ]
    },
    {
      "cell_type": "markdown",
      "source": [
        "### Matrix of all conditions in one table\n",
        "\n"
      ],
      "metadata": {
        "id": "DnOsqEChXvbZ"
      }
    },
    {
      "cell_type": "code",
      "metadata": {
        "colab": {
          "base_uri": "https://localhost:8080/",
          "height": 523
        },
        "id": "wjJHp2vB86XO",
        "outputId": "0315eb80-1dd6-4e35-e3b4-9a0443ac64c4"
      },
      "source": [
        "value_counts_and_pcts(\n",
        "    df_qa_clean.fillna(value={col_allow_discovery_latest: 't', col_over_18_latest: 'f'}),\n",
        "    l_cols_qa[:],\n",
        "    add_col_prefix=False,\n",
        "    # reset_index=True,\n",
        "    sort_index=True, cumsum=False,\n",
        "    count_type='subreddits',\n",
        "    rename_cols_for_display=True,\n",
        ")"
      ],
      "execution_count": 21,
      "outputs": [
        {
          "output_type": "execute_result",
          "data": {
            "text/plain": [
              "<pandas.io.formats.style.Styler at 0x7ff2438ee3d0>"
            ],
            "text/html": [
              "<style type=\"text/css\">\n",
              "#T_5d91b_row0_col1, #T_5d91b_row7_col1 {\n",
              "  width: 10em;\n",
              "  height: 80%;\n",
              "  background: linear-gradient(90deg,#95cff5 7.4%, transparent 7.4%);\n",
              "}\n",
              "#T_5d91b_row1_col1, #T_5d91b_row4_col1, #T_5d91b_row10_col1, #T_5d91b_row12_col1 {\n",
              "  width: 10em;\n",
              "  height: 80%;\n",
              "}\n",
              "#T_5d91b_row2_col1 {\n",
              "  width: 10em;\n",
              "  height: 80%;\n",
              "  background: linear-gradient(90deg,#95cff5 24.3%, transparent 24.3%);\n",
              "}\n",
              "#T_5d91b_row3_col1 {\n",
              "  width: 10em;\n",
              "  height: 80%;\n",
              "  background: linear-gradient(90deg,#95cff5 0.3%, transparent 0.3%);\n",
              "}\n",
              "#T_5d91b_row5_col1 {\n",
              "  width: 10em;\n",
              "  height: 80%;\n",
              "  background: linear-gradient(90deg,#95cff5 3.6%, transparent 3.6%);\n",
              "}\n",
              "#T_5d91b_row6_col1 {\n",
              "  width: 10em;\n",
              "  height: 80%;\n",
              "  background: linear-gradient(90deg,#95cff5 1.3%, transparent 1.3%);\n",
              "}\n",
              "#T_5d91b_row8_col1 {\n",
              "  width: 10em;\n",
              "  height: 80%;\n",
              "  background: linear-gradient(90deg,#95cff5 0.9%, transparent 0.9%);\n",
              "}\n",
              "#T_5d91b_row9_col1 {\n",
              "  width: 10em;\n",
              "  height: 80%;\n",
              "  background: linear-gradient(90deg,#95cff5 100.0%, transparent 100.0%);\n",
              "}\n",
              "#T_5d91b_row11_col1 {\n",
              "  width: 10em;\n",
              "  height: 80%;\n",
              "  background: linear-gradient(90deg,#95cff5 1.2%, transparent 1.2%);\n",
              "}\n",
              "</style>\n",
              "<table id=\"T_5d91b_\" class=\"dataframe\">\n",
              "  <thead>\n",
              "    <tr>\n",
              "      <th class=\"blank\" >&nbsp;</th>\n",
              "      <th class=\"blank\" >&nbsp;</th>\n",
              "      <th class=\"blank\" >&nbsp;</th>\n",
              "      <th class=\"blank\" >&nbsp;</th>\n",
              "      <th class=\"blank\" >&nbsp;</th>\n",
              "      <th class=\"blank level0\" >&nbsp;</th>\n",
              "      <th class=\"col_heading level0 col0\" >subreddits count</th>\n",
              "      <th class=\"col_heading level0 col1\" >percent of subreddits</th>\n",
              "    </tr>\n",
              "    <tr>\n",
              "      <th class=\"index_name level0\" >not country relevant</th>\n",
              "      <th class=\"index_name level1\" >relevant to cluster/ other subreddits in cluster</th>\n",
              "      <th class=\"index_name level2\" >safe to show in relation to cluster</th>\n",
              "      <th class=\"index_name level3\" >rated e latest</th>\n",
              "      <th class=\"index_name level4\" >allow discovery latest</th>\n",
              "      <th class=\"index_name level5\" >over 18 latest</th>\n",
              "      <th class=\"blank col0\" >&nbsp;</th>\n",
              "      <th class=\"blank col1\" >&nbsp;</th>\n",
              "    </tr>\n",
              "  </thead>\n",
              "  <tbody>\n",
              "    <tr>\n",
              "      <th id=\"T_5d91b_level0_row0\" class=\"row_heading level0 row0\" rowspan=\"10\">FALSE</th>\n",
              "      <th id=\"T_5d91b_level1_row0\" class=\"row_heading level1 row0\" rowspan=\"6\">FALSE</th>\n",
              "      <th id=\"T_5d91b_level2_row0\" class=\"row_heading level2 row0\" rowspan=\"4\">FALSE</th>\n",
              "      <th id=\"T_5d91b_level3_row0\" class=\"row_heading level3 row0\" rowspan=\"2\">False</th>\n",
              "      <th id=\"T_5d91b_level4_row0\" class=\"row_heading level4 row0\" rowspan=\"2\">t</th>\n",
              "      <th id=\"T_5d91b_level5_row0\" class=\"row_heading level5 row0\" >f</th>\n",
              "      <td id=\"T_5d91b_row0_col0\" class=\"data row0 col0\" >58</td>\n",
              "      <td id=\"T_5d91b_row0_col1\" class=\"data row0 col1\" >5.1%</td>\n",
              "    </tr>\n",
              "    <tr>\n",
              "      <th id=\"T_5d91b_level5_row1\" class=\"row_heading level5 row1\" >t</th>\n",
              "      <td id=\"T_5d91b_row1_col0\" class=\"data row1 col0\" >1</td>\n",
              "      <td id=\"T_5d91b_row1_col1\" class=\"data row1 col1\" >0.1%</td>\n",
              "    </tr>\n",
              "    <tr>\n",
              "      <th id=\"T_5d91b_level3_row2\" class=\"row_heading level3 row2\" rowspan=\"2\">True</th>\n",
              "      <th id=\"T_5d91b_level4_row2\" class=\"row_heading level4 row2\" rowspan=\"2\">t</th>\n",
              "      <th id=\"T_5d91b_level5_row2\" class=\"row_heading level5 row2\" >f</th>\n",
              "      <td id=\"T_5d91b_row2_col0\" class=\"data row2 col0\" >188</td>\n",
              "      <td id=\"T_5d91b_row2_col1\" class=\"data row2 col1\" >16.5%</td>\n",
              "    </tr>\n",
              "    <tr>\n",
              "      <th id=\"T_5d91b_level5_row3\" class=\"row_heading level5 row3\" >t</th>\n",
              "      <td id=\"T_5d91b_row3_col0\" class=\"data row3 col0\" >3</td>\n",
              "      <td id=\"T_5d91b_row3_col1\" class=\"data row3 col1\" >0.3%</td>\n",
              "    </tr>\n",
              "    <tr>\n",
              "      <th id=\"T_5d91b_level2_row4\" class=\"row_heading level2 row4\" rowspan=\"2\">TRUE</th>\n",
              "      <th id=\"T_5d91b_level3_row4\" class=\"row_heading level3 row4\" >False</th>\n",
              "      <th id=\"T_5d91b_level4_row4\" class=\"row_heading level4 row4\" >t</th>\n",
              "      <th id=\"T_5d91b_level5_row4\" class=\"row_heading level5 row4\" >f</th>\n",
              "      <td id=\"T_5d91b_row4_col0\" class=\"data row4 col0\" >1</td>\n",
              "      <td id=\"T_5d91b_row4_col1\" class=\"data row4 col1\" >0.1%</td>\n",
              "    </tr>\n",
              "    <tr>\n",
              "      <th id=\"T_5d91b_level3_row5\" class=\"row_heading level3 row5\" >True</th>\n",
              "      <th id=\"T_5d91b_level4_row5\" class=\"row_heading level4 row5\" >t</th>\n",
              "      <th id=\"T_5d91b_level5_row5\" class=\"row_heading level5 row5\" >f</th>\n",
              "      <td id=\"T_5d91b_row5_col0\" class=\"data row5 col0\" >29</td>\n",
              "      <td id=\"T_5d91b_row5_col1\" class=\"data row5 col1\" >2.5%</td>\n",
              "    </tr>\n",
              "    <tr>\n",
              "      <th id=\"T_5d91b_level1_row6\" class=\"row_heading level1 row6\" rowspan=\"4\">TRUE</th>\n",
              "      <th id=\"T_5d91b_level2_row6\" class=\"row_heading level2 row6\" >FALSE</th>\n",
              "      <th id=\"T_5d91b_level3_row6\" class=\"row_heading level3 row6\" >True</th>\n",
              "      <th id=\"T_5d91b_level4_row6\" class=\"row_heading level4 row6\" >t</th>\n",
              "      <th id=\"T_5d91b_level5_row6\" class=\"row_heading level5 row6\" >f</th>\n",
              "      <td id=\"T_5d91b_row6_col0\" class=\"data row6 col0\" >11</td>\n",
              "      <td id=\"T_5d91b_row6_col1\" class=\"data row6 col1\" >1.0%</td>\n",
              "    </tr>\n",
              "    <tr>\n",
              "      <th id=\"T_5d91b_level2_row7\" class=\"row_heading level2 row7\" rowspan=\"3\">TRUE</th>\n",
              "      <th id=\"T_5d91b_level3_row7\" class=\"row_heading level3 row7\" >False</th>\n",
              "      <th id=\"T_5d91b_level4_row7\" class=\"row_heading level4 row7\" >t</th>\n",
              "      <th id=\"T_5d91b_level5_row7\" class=\"row_heading level5 row7\" >f</th>\n",
              "      <td id=\"T_5d91b_row7_col0\" class=\"data row7 col0\" >58</td>\n",
              "      <td id=\"T_5d91b_row7_col1\" class=\"data row7 col1\" >5.1%</td>\n",
              "    </tr>\n",
              "    <tr>\n",
              "      <th id=\"T_5d91b_level3_row8\" class=\"row_heading level3 row8\" rowspan=\"2\">True</th>\n",
              "      <th id=\"T_5d91b_level4_row8\" class=\"row_heading level4 row8\" >f</th>\n",
              "      <th id=\"T_5d91b_level5_row8\" class=\"row_heading level5 row8\" >f</th>\n",
              "      <td id=\"T_5d91b_row8_col0\" class=\"data row8 col0\" >8</td>\n",
              "      <td id=\"T_5d91b_row8_col1\" class=\"data row8 col1\" >0.7%</td>\n",
              "    </tr>\n",
              "    <tr>\n",
              "      <th id=\"T_5d91b_level4_row9\" class=\"row_heading level4 row9\" >t</th>\n",
              "      <th id=\"T_5d91b_level5_row9\" class=\"row_heading level5 row9\" >f</th>\n",
              "      <td id=\"T_5d91b_row9_col0\" class=\"data row9 col0\" >772</td>\n",
              "      <td id=\"T_5d91b_row9_col1\" class=\"data row9 col1\" >67.7%</td>\n",
              "    </tr>\n",
              "    <tr>\n",
              "      <th id=\"T_5d91b_level0_row10\" class=\"row_heading level0 row10\" rowspan=\"3\">TRUE</th>\n",
              "      <th id=\"T_5d91b_level1_row10\" class=\"row_heading level1 row10\" rowspan=\"2\">FALSE</th>\n",
              "      <th id=\"T_5d91b_level2_row10\" class=\"row_heading level2 row10\" rowspan=\"2\">FALSE</th>\n",
              "      <th id=\"T_5d91b_level3_row10\" class=\"row_heading level3 row10\" >False</th>\n",
              "      <th id=\"T_5d91b_level4_row10\" class=\"row_heading level4 row10\" >t</th>\n",
              "      <th id=\"T_5d91b_level5_row10\" class=\"row_heading level5 row10\" >f</th>\n",
              "      <td id=\"T_5d91b_row10_col0\" class=\"data row10 col0\" >1</td>\n",
              "      <td id=\"T_5d91b_row10_col1\" class=\"data row10 col1\" >0.1%</td>\n",
              "    </tr>\n",
              "    <tr>\n",
              "      <th id=\"T_5d91b_level3_row11\" class=\"row_heading level3 row11\" >True</th>\n",
              "      <th id=\"T_5d91b_level4_row11\" class=\"row_heading level4 row11\" >t</th>\n",
              "      <th id=\"T_5d91b_level5_row11\" class=\"row_heading level5 row11\" >f</th>\n",
              "      <td id=\"T_5d91b_row11_col0\" class=\"data row11 col0\" >10</td>\n",
              "      <td id=\"T_5d91b_row11_col1\" class=\"data row11 col1\" >0.9%</td>\n",
              "    </tr>\n",
              "    <tr>\n",
              "      <th id=\"T_5d91b_level1_row12\" class=\"row_heading level1 row12\" >TRUE</th>\n",
              "      <th id=\"T_5d91b_level2_row12\" class=\"row_heading level2 row12\" >FALSE</th>\n",
              "      <th id=\"T_5d91b_level3_row12\" class=\"row_heading level3 row12\" >True</th>\n",
              "      <th id=\"T_5d91b_level4_row12\" class=\"row_heading level4 row12\" >t</th>\n",
              "      <th id=\"T_5d91b_level5_row12\" class=\"row_heading level5 row12\" >f</th>\n",
              "      <td id=\"T_5d91b_row12_col0\" class=\"data row12 col0\" >1</td>\n",
              "      <td id=\"T_5d91b_row12_col1\" class=\"data row12 col1\" >0.1%</td>\n",
              "    </tr>\n",
              "  </tbody>\n",
              "</table>\n"
            ]
          },
          "metadata": {},
          "execution_count": 21
        }
      ]
    },
    {
      "cell_type": "code",
      "source": [
        "df_qa_clean[df_qa_clean['rated_e_latest'].isnull()].iloc[:5, :20]"
      ],
      "metadata": {
        "colab": {
          "base_uri": "https://localhost:8080/",
          "height": 90
        },
        "id": "5oimFsoB2Pfu",
        "outputId": "499fa2d3-9b39-4efa-84cd-8c6a7fe91e47"
      },
      "execution_count": 22,
      "outputs": [
        {
          "output_type": "execute_result",
          "data": {
            "text/plain": [
              "Empty DataFrame\n",
              "Columns: [subreddit_id, subreddit_name, rated_e_latest, over_18_latest, allow_discovery_latest, not_country_relevant, relevant_to_cluster/_other_subreddits_in_cluster, safe_to_show_in_relation_to_cluster, rating_short_latest, type, primary_topic_latest, cluster_label, model_sort_order, cluster_label_k, rating_short, over_18, rating_name_latest, cluster_label_int, cluster_topic_mix, rated_e]\n",
              "Index: []"
            ],
            "text/html": [
              "\n",
              "  <div id=\"df-9dfa4209-6e6c-44ff-bccf-a066ca1e971a\">\n",
              "    <div class=\"colab-df-container\">\n",
              "      <div>\n",
              "<style scoped>\n",
              "    .dataframe tbody tr th:only-of-type {\n",
              "        vertical-align: middle;\n",
              "    }\n",
              "\n",
              "    .dataframe tbody tr th {\n",
              "        vertical-align: top;\n",
              "    }\n",
              "\n",
              "    .dataframe thead th {\n",
              "        text-align: right;\n",
              "    }\n",
              "</style>\n",
              "<table border=\"1\" class=\"dataframe\">\n",
              "  <thead>\n",
              "    <tr style=\"text-align: right;\">\n",
              "      <th></th>\n",
              "      <th>subreddit_id</th>\n",
              "      <th>subreddit_name</th>\n",
              "      <th>rated_e_latest</th>\n",
              "      <th>over_18_latest</th>\n",
              "      <th>allow_discovery_latest</th>\n",
              "      <th>not_country_relevant</th>\n",
              "      <th>relevant_to_cluster/_other_subreddits_in_cluster</th>\n",
              "      <th>safe_to_show_in_relation_to_cluster</th>\n",
              "      <th>rating_short_latest</th>\n",
              "      <th>type</th>\n",
              "      <th>primary_topic_latest</th>\n",
              "      <th>cluster_label</th>\n",
              "      <th>model_sort_order</th>\n",
              "      <th>cluster_label_k</th>\n",
              "      <th>rating_short</th>\n",
              "      <th>over_18</th>\n",
              "      <th>rating_name_latest</th>\n",
              "      <th>cluster_label_int</th>\n",
              "      <th>cluster_topic_mix</th>\n",
              "      <th>rated_e</th>\n",
              "    </tr>\n",
              "  </thead>\n",
              "  <tbody>\n",
              "  </tbody>\n",
              "</table>\n",
              "</div>\n",
              "      <button class=\"colab-df-convert\" onclick=\"convertToInteractive('df-9dfa4209-6e6c-44ff-bccf-a066ca1e971a')\"\n",
              "              title=\"Convert this dataframe to an interactive table.\"\n",
              "              style=\"display:none;\">\n",
              "        \n",
              "  <svg xmlns=\"http://www.w3.org/2000/svg\" height=\"24px\"viewBox=\"0 0 24 24\"\n",
              "       width=\"24px\">\n",
              "    <path d=\"M0 0h24v24H0V0z\" fill=\"none\"/>\n",
              "    <path d=\"M18.56 5.44l.94 2.06.94-2.06 2.06-.94-2.06-.94-.94-2.06-.94 2.06-2.06.94zm-11 1L8.5 8.5l.94-2.06 2.06-.94-2.06-.94L8.5 2.5l-.94 2.06-2.06.94zm10 10l.94 2.06.94-2.06 2.06-.94-2.06-.94-.94-2.06-.94 2.06-2.06.94z\"/><path d=\"M17.41 7.96l-1.37-1.37c-.4-.4-.92-.59-1.43-.59-.52 0-1.04.2-1.43.59L10.3 9.45l-7.72 7.72c-.78.78-.78 2.05 0 2.83L4 21.41c.39.39.9.59 1.41.59.51 0 1.02-.2 1.41-.59l7.78-7.78 2.81-2.81c.8-.78.8-2.07 0-2.86zM5.41 20L4 18.59l7.72-7.72 1.47 1.35L5.41 20z\"/>\n",
              "  </svg>\n",
              "      </button>\n",
              "      \n",
              "  <style>\n",
              "    .colab-df-container {\n",
              "      display:flex;\n",
              "      flex-wrap:wrap;\n",
              "      gap: 12px;\n",
              "    }\n",
              "\n",
              "    .colab-df-convert {\n",
              "      background-color: #E8F0FE;\n",
              "      border: none;\n",
              "      border-radius: 50%;\n",
              "      cursor: pointer;\n",
              "      display: none;\n",
              "      fill: #1967D2;\n",
              "      height: 32px;\n",
              "      padding: 0 0 0 0;\n",
              "      width: 32px;\n",
              "    }\n",
              "\n",
              "    .colab-df-convert:hover {\n",
              "      background-color: #E2EBFA;\n",
              "      box-shadow: 0px 1px 2px rgba(60, 64, 67, 0.3), 0px 1px 3px 1px rgba(60, 64, 67, 0.15);\n",
              "      fill: #174EA6;\n",
              "    }\n",
              "\n",
              "    [theme=dark] .colab-df-convert {\n",
              "      background-color: #3B4455;\n",
              "      fill: #D2E3FC;\n",
              "    }\n",
              "\n",
              "    [theme=dark] .colab-df-convert:hover {\n",
              "      background-color: #434B5C;\n",
              "      box-shadow: 0px 1px 3px 1px rgba(0, 0, 0, 0.15);\n",
              "      filter: drop-shadow(0px 1px 2px rgba(0, 0, 0, 0.3));\n",
              "      fill: #FFFFFF;\n",
              "    }\n",
              "  </style>\n",
              "\n",
              "      <script>\n",
              "        const buttonEl =\n",
              "          document.querySelector('#df-9dfa4209-6e6c-44ff-bccf-a066ca1e971a button.colab-df-convert');\n",
              "        buttonEl.style.display =\n",
              "          google.colab.kernel.accessAllowed ? 'block' : 'none';\n",
              "\n",
              "        async function convertToInteractive(key) {\n",
              "          const element = document.querySelector('#df-9dfa4209-6e6c-44ff-bccf-a066ca1e971a');\n",
              "          const dataTable =\n",
              "            await google.colab.kernel.invokeFunction('convertToInteractive',\n",
              "                                                     [key], {});\n",
              "          if (!dataTable) return;\n",
              "\n",
              "          const docLinkHtml = 'Like what you see? Visit the ' +\n",
              "            '<a target=\"_blank\" href=https://colab.research.google.com/notebooks/data_table.ipynb>data table notebook</a>'\n",
              "            + ' to learn more about interactive tables.';\n",
              "          element.innerHTML = '';\n",
              "          dataTable['output_type'] = 'display_data';\n",
              "          await google.colab.output.renderOutput(dataTable, element);\n",
              "          const docLink = document.createElement('div');\n",
              "          docLink.innerHTML = docLinkHtml;\n",
              "          element.appendChild(docLink);\n",
              "        }\n",
              "      </script>\n",
              "    </div>\n",
              "  </div>\n",
              "  "
            ],
            "application/vnd.google.colaboratory.module+javascript": "\n      import \"https://ssl.gstatic.com/colaboratory/data_table/81f25a011006ed3d/data_table.js\";\n\n      window.createDataTable({\n        data: [],\n        columns: [[\"number\", \"index\"], [\"number\", \"subreddit_id\"], [\"number\", \"subreddit_name\"], [\"number\", \"rated_e_latest\"], [\"number\", \"over_18_latest\"], [\"number\", \"allow_discovery_latest\"], [\"number\", \"not_country_relevant\"], [\"number\", \"relevant_to_cluster/_other_subreddits_in_cluster\"], [\"number\", \"safe_to_show_in_relation_to_cluster\"], [\"number\", \"rating_short_latest\"], [\"number\", \"type\"], [\"number\", \"primary_topic_latest\"], [\"number\", \"cluster_label\"], [\"number\", \"model_sort_order\"], [\"number\", \"cluster_label_k\"], [\"number\", \"rating_short\"], [\"number\", \"over_18\"], [\"number\", \"rating_name_latest\"], [\"number\", \"cluster_label_int\"], [\"number\", \"cluster_topic_mix\"], [\"number\", \"rated_e\"]],\n        columnOptions: [{\"width\": \"1px\", \"className\": \"index_column\"}],\n        rowsPerPage: 25,\n        helpUrl: \"https://colab.research.google.com/notebooks/data_table.ipynb\",\n        suppressOutputScrolling: true,\n        minimumWidth: undefined,\n      });\n    "
          },
          "metadata": {},
          "execution_count": 22
        }
      ]
    },
    {
      "cell_type": "markdown",
      "source": [
        "### Create & apply masks\n"
      ],
      "metadata": {
        "id": "MKfd8-H8ZIGd"
      }
    },
    {
      "cell_type": "code",
      "source": [
        "print(datetime.utcnow())\n",
        "df_qa_clean = apply_qa_filters_for_fpr(\n",
        "    df_qa_clean,\n",
        "    print_qa_check=True,\n",
        ")"
      ],
      "metadata": {
        "colab": {
          "base_uri": "https://localhost:8080/"
        },
        "id": "Nc-k22eh4or4",
        "outputId": "52f26c82-be06-4e14-96a0-a0c08481b818"
      },
      "execution_count": 23,
      "outputs": [
        {
          "output_type": "stream",
          "name": "stdout",
          "text": [
            "2022-04-06 18:37:15.122576\n",
            "\n",
            "QA keyword subreddit checks:\n",
            "  ['indianonpolitical', 'anoncorporatechatind']\n",
            "  ['indianteenagers']\n",
            "  ['adhdindia']\n",
            "  ['sadhguru', 'adhdindia']\n",
            "\n",
            "1,141 <- Initial subreddit count\n",
            "772 <- Clean subreddits to use\n",
            "(772, 42) <- df subreddits to use for FPR\n"
          ]
        }
      ]
    },
    {
      "cell_type": "markdown",
      "metadata": {
        "id": "QvAwvmgzAHTy"
      },
      "source": [
        "# Reshape data for Subreddit seed -> Cluster list "
      ]
    },
    {
      "cell_type": "code",
      "metadata": {
        "colab": {
          "base_uri": "https://localhost:8080/"
        },
        "id": "oJG3-nfTmiLg",
        "outputId": "8d32fcea-d593-4f2d-a5cc-5b0b66e68355"
      },
      "source": [
        "%%time\n",
        "# col_new_cluster_val = 'cluster_label'\n",
        "# col_new_cluster_name = 'cluster_label_k'\n",
        "# col_new_cluster_prim_topic = 'cluster_name'\n",
        "\n",
        "# make sure all objects in col are str so we can sort by it\n",
        "# df_qa_clean[col_new_cluster_val] = df_qa_clean[col_new_cluster_val].astype(str)\n",
        "\n",
        "l_cols_for_seeds = [\n",
        "    'subreddit_id', 'subreddit_name',\n",
        "    col_model_sort_order, col_rating_latest,\n",
        "    col_new_cluster_val, col_new_cluster_name,\n",
        "]\n",
        "\n",
        "print(datetime.utcnow())\n",
        "\n",
        "df_target_to_target_list = convert_distance_or_ab_to_list_for_fpr(\n",
        "    df_qa_clean,\n",
        "    convert_to_ab=True,\n",
        "    col_counterpart_count='subreddits_to_recommend_count',\n",
        "    col_list_cluster_names='list_cluster_subreddit_names',\n",
        "    col_list_cluster_ids='list_cluster_subreddit_ids',\n",
        "    l_cols_for_seeds=l_cols_for_seeds,\n",
        "    l_cols_for_clusters=None, \n",
        "    col_new_cluster_val=col_new_cluster_val,\n",
        "    col_new_cluster_name=col_new_cluster_name,\n",
        "    # col_new_cluster_prim_topic=col_new_cluster_prim_topic,\n",
        "    col_sort_by=col_new_cluster_val,\n",
        "    verbose=True,\n",
        ")"
      ],
      "execution_count": 24,
      "outputs": [
        {
          "output_type": "stream",
          "name": "stdout",
          "text": [
            "2022-04-06 18:37:16.117681\n",
            "['subreddit_id', 'subreddit_name', 'model_sort_order', 'rating_short_latest', 'cluster_label', 'cluster_label_k']\n",
            "['subreddit_id', 'subreddit_name', 'cluster_label']\n",
            "  (6278, 8) <- df_ab.shape raw\n",
            "  (5506, 8) <- df_ab.shape after removing matches to self\n",
            "  Groupby cols:\n",
            "    ['model_sort_order', 'subreddit_id_seed', 'subreddit_name_seed', 'cluster_label', 'cluster_label_k', 'rating_short_latest']\n",
            "  (768, 8) <- df_a_to_b.shape\n",
            "CPU times: user 97.3 ms, sys: 516 µs, total: 97.8 ms\n",
            "Wall time: 249 ms\n"
          ]
        }
      ]
    },
    {
      "cell_type": "code",
      "source": [
        "# df_target_to_target_list.sort_values(by=['cluster_label', ], ascending=True).iloc[:9, :]"
      ],
      "metadata": {
        "id": "0iz76DZTin7w"
      },
      "execution_count": 25,
      "outputs": []
    },
    {
      "cell_type": "code",
      "metadata": {
        "colab": {
          "base_uri": "https://localhost:8080/",
          "height": 603
        },
        "id": "zDeaY5v3_YUS",
        "outputId": "2e104d69-d20f-48a7-fcd7-32659e5502b9"
      },
      "source": [
        "(\n",
        "    df_target_to_target_list\n",
        "    .drop([col_new_cluster_val, 'list_cluster_subreddit_ids'], axis=1)\n",
        "    .head(10)\n",
        ")"
      ],
      "execution_count": 34,
      "outputs": [
        {
          "output_type": "execute_result",
          "data": {
            "text/plain": [
              "   subreddit_id_seed   subreddit_name_seed cluster_label_k  \\\n",
              "0          t5_3dpt3l      bolly_actress_hd    k_3927_label   \n",
              "1          t5_4c9b7z   classicdesibeauties    k_3927_label   \n",
              "2          t5_3mj6vk     southindianangels    k_3927_label   \n",
              "3          t5_3orvgc             justsaree    k_3927_label   \n",
              "17         t5_12ppxo        bollywoodmemes    k_3927_label   \n",
              "16          t5_fknyy    bollyblindsngossip    k_3927_label   \n",
              "15         t5_3p026j  ranbirkapooruniverse    k_3927_label   \n",
              "14         t5_4j6pz3     classicdesicelebs    k_3927_label   \n",
              "12          t5_2v3t9          shahrukhkhan    k_3927_label   \n",
              "11          t5_2t24o          indiancinema    k_3927_label   \n",
              "\n",
              "   rating_short_latest  subreddits_to_recommend_count  \\\n",
              "0                    E                              3   \n",
              "1                    E                              3   \n",
              "2                    E                              3   \n",
              "3                    E                              3   \n",
              "17                   E                             13   \n",
              "16                   E                             13   \n",
              "15                   E                             13   \n",
              "14                   E                             13   \n",
              "12                   E                             13   \n",
              "11                   E                             13   \n",
              "\n",
              "                         list_cluster_subreddit_names  \n",
              "0   classicdesibeauties, southindianangels, justsaree  \n",
              "1      bolly_actress_hd, southindianangels, justsaree  \n",
              "2    bolly_actress_hd, classicdesibeauties, justsaree  \n",
              "3   bolly_actress_hd, classicdesibeauties, southin...  \n",
              "17  saipallavi, kollywood, internetrabbithole, mal...  \n",
              "16  saipallavi, kollywood, internetrabbithole, mal...  \n",
              "15  saipallavi, kollywood, internetrabbithole, mal...  \n",
              "14  saipallavi, kollywood, internetrabbithole, mal...  \n",
              "12  saipallavi, kollywood, internetrabbithole, mal...  \n",
              "11  saipallavi, kollywood, internetrabbithole, mal...  "
            ],
            "text/html": [
              "\n",
              "  <div id=\"df-a28fc6cb-7646-46b9-bf10-208fa2a54e21\">\n",
              "    <div class=\"colab-df-container\">\n",
              "      <div>\n",
              "<style scoped>\n",
              "    .dataframe tbody tr th:only-of-type {\n",
              "        vertical-align: middle;\n",
              "    }\n",
              "\n",
              "    .dataframe tbody tr th {\n",
              "        vertical-align: top;\n",
              "    }\n",
              "\n",
              "    .dataframe thead th {\n",
              "        text-align: right;\n",
              "    }\n",
              "</style>\n",
              "<table border=\"1\" class=\"dataframe\">\n",
              "  <thead>\n",
              "    <tr style=\"text-align: right;\">\n",
              "      <th></th>\n",
              "      <th>subreddit_id_seed</th>\n",
              "      <th>subreddit_name_seed</th>\n",
              "      <th>cluster_label_k</th>\n",
              "      <th>rating_short_latest</th>\n",
              "      <th>subreddits_to_recommend_count</th>\n",
              "      <th>list_cluster_subreddit_names</th>\n",
              "    </tr>\n",
              "  </thead>\n",
              "  <tbody>\n",
              "    <tr>\n",
              "      <th>0</th>\n",
              "      <td>t5_3dpt3l</td>\n",
              "      <td>bolly_actress_hd</td>\n",
              "      <td>k_3927_label</td>\n",
              "      <td>E</td>\n",
              "      <td>3</td>\n",
              "      <td>classicdesibeauties, southindianangels, justsaree</td>\n",
              "    </tr>\n",
              "    <tr>\n",
              "      <th>1</th>\n",
              "      <td>t5_4c9b7z</td>\n",
              "      <td>classicdesibeauties</td>\n",
              "      <td>k_3927_label</td>\n",
              "      <td>E</td>\n",
              "      <td>3</td>\n",
              "      <td>bolly_actress_hd, southindianangels, justsaree</td>\n",
              "    </tr>\n",
              "    <tr>\n",
              "      <th>2</th>\n",
              "      <td>t5_3mj6vk</td>\n",
              "      <td>southindianangels</td>\n",
              "      <td>k_3927_label</td>\n",
              "      <td>E</td>\n",
              "      <td>3</td>\n",
              "      <td>bolly_actress_hd, classicdesibeauties, justsaree</td>\n",
              "    </tr>\n",
              "    <tr>\n",
              "      <th>3</th>\n",
              "      <td>t5_3orvgc</td>\n",
              "      <td>justsaree</td>\n",
              "      <td>k_3927_label</td>\n",
              "      <td>E</td>\n",
              "      <td>3</td>\n",
              "      <td>bolly_actress_hd, classicdesibeauties, southin...</td>\n",
              "    </tr>\n",
              "    <tr>\n",
              "      <th>17</th>\n",
              "      <td>t5_12ppxo</td>\n",
              "      <td>bollywoodmemes</td>\n",
              "      <td>k_3927_label</td>\n",
              "      <td>E</td>\n",
              "      <td>13</td>\n",
              "      <td>saipallavi, kollywood, internetrabbithole, mal...</td>\n",
              "    </tr>\n",
              "    <tr>\n",
              "      <th>16</th>\n",
              "      <td>t5_fknyy</td>\n",
              "      <td>bollyblindsngossip</td>\n",
              "      <td>k_3927_label</td>\n",
              "      <td>E</td>\n",
              "      <td>13</td>\n",
              "      <td>saipallavi, kollywood, internetrabbithole, mal...</td>\n",
              "    </tr>\n",
              "    <tr>\n",
              "      <th>15</th>\n",
              "      <td>t5_3p026j</td>\n",
              "      <td>ranbirkapooruniverse</td>\n",
              "      <td>k_3927_label</td>\n",
              "      <td>E</td>\n",
              "      <td>13</td>\n",
              "      <td>saipallavi, kollywood, internetrabbithole, mal...</td>\n",
              "    </tr>\n",
              "    <tr>\n",
              "      <th>14</th>\n",
              "      <td>t5_4j6pz3</td>\n",
              "      <td>classicdesicelebs</td>\n",
              "      <td>k_3927_label</td>\n",
              "      <td>E</td>\n",
              "      <td>13</td>\n",
              "      <td>saipallavi, kollywood, internetrabbithole, mal...</td>\n",
              "    </tr>\n",
              "    <tr>\n",
              "      <th>12</th>\n",
              "      <td>t5_2v3t9</td>\n",
              "      <td>shahrukhkhan</td>\n",
              "      <td>k_3927_label</td>\n",
              "      <td>E</td>\n",
              "      <td>13</td>\n",
              "      <td>saipallavi, kollywood, internetrabbithole, mal...</td>\n",
              "    </tr>\n",
              "    <tr>\n",
              "      <th>11</th>\n",
              "      <td>t5_2t24o</td>\n",
              "      <td>indiancinema</td>\n",
              "      <td>k_3927_label</td>\n",
              "      <td>E</td>\n",
              "      <td>13</td>\n",
              "      <td>saipallavi, kollywood, internetrabbithole, mal...</td>\n",
              "    </tr>\n",
              "  </tbody>\n",
              "</table>\n",
              "</div>\n",
              "      <button class=\"colab-df-convert\" onclick=\"convertToInteractive('df-a28fc6cb-7646-46b9-bf10-208fa2a54e21')\"\n",
              "              title=\"Convert this dataframe to an interactive table.\"\n",
              "              style=\"display:none;\">\n",
              "        \n",
              "  <svg xmlns=\"http://www.w3.org/2000/svg\" height=\"24px\"viewBox=\"0 0 24 24\"\n",
              "       width=\"24px\">\n",
              "    <path d=\"M0 0h24v24H0V0z\" fill=\"none\"/>\n",
              "    <path d=\"M18.56 5.44l.94 2.06.94-2.06 2.06-.94-2.06-.94-.94-2.06-.94 2.06-2.06.94zm-11 1L8.5 8.5l.94-2.06 2.06-.94-2.06-.94L8.5 2.5l-.94 2.06-2.06.94zm10 10l.94 2.06.94-2.06 2.06-.94-2.06-.94-.94-2.06-.94 2.06-2.06.94z\"/><path d=\"M17.41 7.96l-1.37-1.37c-.4-.4-.92-.59-1.43-.59-.52 0-1.04.2-1.43.59L10.3 9.45l-7.72 7.72c-.78.78-.78 2.05 0 2.83L4 21.41c.39.39.9.59 1.41.59.51 0 1.02-.2 1.41-.59l7.78-7.78 2.81-2.81c.8-.78.8-2.07 0-2.86zM5.41 20L4 18.59l7.72-7.72 1.47 1.35L5.41 20z\"/>\n",
              "  </svg>\n",
              "      </button>\n",
              "      \n",
              "  <style>\n",
              "    .colab-df-container {\n",
              "      display:flex;\n",
              "      flex-wrap:wrap;\n",
              "      gap: 12px;\n",
              "    }\n",
              "\n",
              "    .colab-df-convert {\n",
              "      background-color: #E8F0FE;\n",
              "      border: none;\n",
              "      border-radius: 50%;\n",
              "      cursor: pointer;\n",
              "      display: none;\n",
              "      fill: #1967D2;\n",
              "      height: 32px;\n",
              "      padding: 0 0 0 0;\n",
              "      width: 32px;\n",
              "    }\n",
              "\n",
              "    .colab-df-convert:hover {\n",
              "      background-color: #E2EBFA;\n",
              "      box-shadow: 0px 1px 2px rgba(60, 64, 67, 0.3), 0px 1px 3px 1px rgba(60, 64, 67, 0.15);\n",
              "      fill: #174EA6;\n",
              "    }\n",
              "\n",
              "    [theme=dark] .colab-df-convert {\n",
              "      background-color: #3B4455;\n",
              "      fill: #D2E3FC;\n",
              "    }\n",
              "\n",
              "    [theme=dark] .colab-df-convert:hover {\n",
              "      background-color: #434B5C;\n",
              "      box-shadow: 0px 1px 3px 1px rgba(0, 0, 0, 0.15);\n",
              "      filter: drop-shadow(0px 1px 2px rgba(0, 0, 0, 0.3));\n",
              "      fill: #FFFFFF;\n",
              "    }\n",
              "  </style>\n",
              "\n",
              "      <script>\n",
              "        const buttonEl =\n",
              "          document.querySelector('#df-a28fc6cb-7646-46b9-bf10-208fa2a54e21 button.colab-df-convert');\n",
              "        buttonEl.style.display =\n",
              "          google.colab.kernel.accessAllowed ? 'block' : 'none';\n",
              "\n",
              "        async function convertToInteractive(key) {\n",
              "          const element = document.querySelector('#df-a28fc6cb-7646-46b9-bf10-208fa2a54e21');\n",
              "          const dataTable =\n",
              "            await google.colab.kernel.invokeFunction('convertToInteractive',\n",
              "                                                     [key], {});\n",
              "          if (!dataTable) return;\n",
              "\n",
              "          const docLinkHtml = 'Like what you see? Visit the ' +\n",
              "            '<a target=\"_blank\" href=https://colab.research.google.com/notebooks/data_table.ipynb>data table notebook</a>'\n",
              "            + ' to learn more about interactive tables.';\n",
              "          element.innerHTML = '';\n",
              "          dataTable['output_type'] = 'display_data';\n",
              "          await google.colab.output.renderOutput(dataTable, element);\n",
              "          const docLink = document.createElement('div');\n",
              "          docLink.innerHTML = docLinkHtml;\n",
              "          element.appendChild(docLink);\n",
              "        }\n",
              "      </script>\n",
              "    </div>\n",
              "  </div>\n",
              "  "
            ],
            "application/vnd.google.colaboratory.module+javascript": "\n      import \"https://ssl.gstatic.com/colaboratory/data_table/81f25a011006ed3d/data_table.js\";\n\n      window.createDataTable({\n        data: [[{\n            'v': 0,\n            'f': \"0\",\n        },\n\"t5_3dpt3l\",\n\"bolly_actress_hd\",\n\"k_3927_label\",\n\"E\",\n{\n            'v': 3,\n            'f': \"3\",\n        },\n\"classicdesibeauties, southindianangels, justsaree\"],\n [{\n            'v': 1,\n            'f': \"1\",\n        },\n\"t5_4c9b7z\",\n\"classicdesibeauties\",\n\"k_3927_label\",\n\"E\",\n{\n            'v': 3,\n            'f': \"3\",\n        },\n\"bolly_actress_hd, southindianangels, justsaree\"],\n [{\n            'v': 2,\n            'f': \"2\",\n        },\n\"t5_3mj6vk\",\n\"southindianangels\",\n\"k_3927_label\",\n\"E\",\n{\n            'v': 3,\n            'f': \"3\",\n        },\n\"bolly_actress_hd, classicdesibeauties, justsaree\"],\n [{\n            'v': 3,\n            'f': \"3\",\n        },\n\"t5_3orvgc\",\n\"justsaree\",\n\"k_3927_label\",\n\"E\",\n{\n            'v': 3,\n            'f': \"3\",\n        },\n\"bolly_actress_hd, classicdesibeauties, southindianangels\"],\n [{\n            'v': 17,\n            'f': \"17\",\n        },\n\"t5_12ppxo\",\n\"bollywoodmemes\",\n\"k_3927_label\",\n\"E\",\n{\n            'v': 13,\n            'f': \"13\",\n        },\n\"saipallavi, kollywood, internetrabbithole, malayalammovies, tamizhpadam, indiancinemaregional, bollywood, indiancinema, shahrukhkhan, bollywoodfashion, classicdesicelebs, ranbirkapooruniverse, bollyblindsngossip\"],\n [{\n            'v': 16,\n            'f': \"16\",\n        },\n\"t5_fknyy\",\n\"bollyblindsngossip\",\n\"k_3927_label\",\n\"E\",\n{\n            'v': 13,\n            'f': \"13\",\n        },\n\"saipallavi, kollywood, internetrabbithole, malayalammovies, tamizhpadam, indiancinemaregional, bollywood, indiancinema, shahrukhkhan, bollywoodfashion, classicdesicelebs, ranbirkapooruniverse, bollywoodmemes\"],\n [{\n            'v': 15,\n            'f': \"15\",\n        },\n\"t5_3p026j\",\n\"ranbirkapooruniverse\",\n\"k_3927_label\",\n\"E\",\n{\n            'v': 13,\n            'f': \"13\",\n        },\n\"saipallavi, kollywood, internetrabbithole, malayalammovies, tamizhpadam, indiancinemaregional, bollywood, indiancinema, shahrukhkhan, bollywoodfashion, classicdesicelebs, bollyblindsngossip, bollywoodmemes\"],\n [{\n            'v': 14,\n            'f': \"14\",\n        },\n\"t5_4j6pz3\",\n\"classicdesicelebs\",\n\"k_3927_label\",\n\"E\",\n{\n            'v': 13,\n            'f': \"13\",\n        },\n\"saipallavi, kollywood, internetrabbithole, malayalammovies, tamizhpadam, indiancinemaregional, bollywood, indiancinema, shahrukhkhan, bollywoodfashion, ranbirkapooruniverse, bollyblindsngossip, bollywoodmemes\"],\n [{\n            'v': 12,\n            'f': \"12\",\n        },\n\"t5_2v3t9\",\n\"shahrukhkhan\",\n\"k_3927_label\",\n\"E\",\n{\n            'v': 13,\n            'f': \"13\",\n        },\n\"saipallavi, kollywood, internetrabbithole, malayalammovies, tamizhpadam, indiancinemaregional, bollywood, indiancinema, bollywoodfashion, classicdesicelebs, ranbirkapooruniverse, bollyblindsngossip, bollywoodmemes\"],\n [{\n            'v': 11,\n            'f': \"11\",\n        },\n\"t5_2t24o\",\n\"indiancinema\",\n\"k_3927_label\",\n\"E\",\n{\n            'v': 13,\n            'f': \"13\",\n        },\n\"saipallavi, kollywood, internetrabbithole, malayalammovies, tamizhpadam, indiancinemaregional, bollywood, shahrukhkhan, bollywoodfashion, classicdesicelebs, ranbirkapooruniverse, bollyblindsngossip, bollywoodmemes\"]],\n        columns: [[\"number\", \"index\"], [\"string\", \"subreddit_id_seed\"], [\"string\", \"subreddit_name_seed\"], [\"string\", \"cluster_label_k\"], [\"string\", \"rating_short_latest\"], [\"number\", \"subreddits_to_recommend_count\"], [\"string\", \"list_cluster_subreddit_names\"]],\n        columnOptions: [{\"width\": \"1px\", \"className\": \"index_column\"}],\n        rowsPerPage: 25,\n        helpUrl: \"https://colab.research.google.com/notebooks/data_table.ipynb\",\n        suppressOutputScrolling: true,\n        minimumWidth: undefined,\n      });\n    "
          },
          "metadata": {},
          "execution_count": 34
        }
      ]
    },
    {
      "cell_type": "code",
      "metadata": {
        "colab": {
          "base_uri": "https://localhost:8080/",
          "height": 306
        },
        "id": "xV4C7Tz7_YRu",
        "outputId": "e1c34e73-9df3-4e47-b856-fa3cba362e92"
      },
      "source": [
        "(\n",
        "    df_target_to_target_list\n",
        "    .drop([col_new_cluster_val, 'list_cluster_subreddit_ids'], axis=1)\n",
        "    .tail(10)\n",
        ")"
      ],
      "execution_count": 31,
      "outputs": [
        {
          "output_type": "execute_result",
          "data": {
            "text/plain": [
              "    subreddit_id_seed    subreddit_name_seed cluster_label_k  \\\n",
              "489          t5_30jzq    clashofclansrecruit    k_0013_label   \n",
              "483          t5_o6oqi                wattles    k_0013_label   \n",
              "554          t5_3kc7e               mcumemes    k_0013_label   \n",
              "553         t5_40jv5m     spidermannowayhome    k_0013_label   \n",
              "552         t5_2ck6uk              nowayhome    k_0013_label   \n",
              "595          t5_2uhb6            hardcoreaww    k_0013_label   \n",
              "596         t5_5f9130         dailydoseofaww    k_0013_label   \n",
              "98          t5_4gwjlz  acerpredatorhelios300    k_0013_label   \n",
              "99          t5_4gr4gi               hpvictus    k_0013_label   \n",
              "105          t5_2ux78             reeltoreel    k_0013_label   \n",
              "\n",
              "    rating_short_latest  subreddits_to_recommend_count  \\\n",
              "489                   E                              3   \n",
              "483                   E                              3   \n",
              "554                   E                              2   \n",
              "553                   E                              2   \n",
              "552                   E                              2   \n",
              "595                   E                              1   \n",
              "596                   E                              1   \n",
              "98                    E                              2   \n",
              "99                    E                              2   \n",
              "105                   E                              2   \n",
              "\n",
              "                          list_cluster_subreddit_names  \n",
              "489  wattles, contestofchampionslfg, saiyanpeopletw...  \n",
              "483  clashofclansrecruit, contestofchampionslfg, sa...  \n",
              "554                      nowayhome, spidermannowayhome  \n",
              "553                                nowayhome, mcumemes  \n",
              "552                       spidermannowayhome, mcumemes  \n",
              "595                                     dailydoseofaww  \n",
              "596                                        hardcoreaww  \n",
              "98                                hpvictus, reeltoreel  \n",
              "99                   acerpredatorhelios300, reeltoreel  \n",
              "105                    acerpredatorhelios300, hpvictus  "
            ],
            "text/html": [
              "\n",
              "  <div id=\"df-fc180dab-3646-4ac8-9952-cfaf794f6212\">\n",
              "    <div class=\"colab-df-container\">\n",
              "      <div>\n",
              "<style scoped>\n",
              "    .dataframe tbody tr th:only-of-type {\n",
              "        vertical-align: middle;\n",
              "    }\n",
              "\n",
              "    .dataframe tbody tr th {\n",
              "        vertical-align: top;\n",
              "    }\n",
              "\n",
              "    .dataframe thead th {\n",
              "        text-align: right;\n",
              "    }\n",
              "</style>\n",
              "<table border=\"1\" class=\"dataframe\">\n",
              "  <thead>\n",
              "    <tr style=\"text-align: right;\">\n",
              "      <th></th>\n",
              "      <th>subreddit_id_seed</th>\n",
              "      <th>subreddit_name_seed</th>\n",
              "      <th>cluster_label_k</th>\n",
              "      <th>rating_short_latest</th>\n",
              "      <th>subreddits_to_recommend_count</th>\n",
              "      <th>list_cluster_subreddit_names</th>\n",
              "    </tr>\n",
              "  </thead>\n",
              "  <tbody>\n",
              "    <tr>\n",
              "      <th>489</th>\n",
              "      <td>t5_30jzq</td>\n",
              "      <td>clashofclansrecruit</td>\n",
              "      <td>k_0013_label</td>\n",
              "      <td>E</td>\n",
              "      <td>3</td>\n",
              "      <td>wattles, contestofchampionslfg, saiyanpeopletw...</td>\n",
              "    </tr>\n",
              "    <tr>\n",
              "      <th>483</th>\n",
              "      <td>t5_o6oqi</td>\n",
              "      <td>wattles</td>\n",
              "      <td>k_0013_label</td>\n",
              "      <td>E</td>\n",
              "      <td>3</td>\n",
              "      <td>clashofclansrecruit, contestofchampionslfg, sa...</td>\n",
              "    </tr>\n",
              "    <tr>\n",
              "      <th>554</th>\n",
              "      <td>t5_3kc7e</td>\n",
              "      <td>mcumemes</td>\n",
              "      <td>k_0013_label</td>\n",
              "      <td>E</td>\n",
              "      <td>2</td>\n",
              "      <td>nowayhome, spidermannowayhome</td>\n",
              "    </tr>\n",
              "    <tr>\n",
              "      <th>553</th>\n",
              "      <td>t5_40jv5m</td>\n",
              "      <td>spidermannowayhome</td>\n",
              "      <td>k_0013_label</td>\n",
              "      <td>E</td>\n",
              "      <td>2</td>\n",
              "      <td>nowayhome, mcumemes</td>\n",
              "    </tr>\n",
              "    <tr>\n",
              "      <th>552</th>\n",
              "      <td>t5_2ck6uk</td>\n",
              "      <td>nowayhome</td>\n",
              "      <td>k_0013_label</td>\n",
              "      <td>E</td>\n",
              "      <td>2</td>\n",
              "      <td>spidermannowayhome, mcumemes</td>\n",
              "    </tr>\n",
              "    <tr>\n",
              "      <th>595</th>\n",
              "      <td>t5_2uhb6</td>\n",
              "      <td>hardcoreaww</td>\n",
              "      <td>k_0013_label</td>\n",
              "      <td>E</td>\n",
              "      <td>1</td>\n",
              "      <td>dailydoseofaww</td>\n",
              "    </tr>\n",
              "    <tr>\n",
              "      <th>596</th>\n",
              "      <td>t5_5f9130</td>\n",
              "      <td>dailydoseofaww</td>\n",
              "      <td>k_0013_label</td>\n",
              "      <td>E</td>\n",
              "      <td>1</td>\n",
              "      <td>hardcoreaww</td>\n",
              "    </tr>\n",
              "    <tr>\n",
              "      <th>98</th>\n",
              "      <td>t5_4gwjlz</td>\n",
              "      <td>acerpredatorhelios300</td>\n",
              "      <td>k_0013_label</td>\n",
              "      <td>E</td>\n",
              "      <td>2</td>\n",
              "      <td>hpvictus, reeltoreel</td>\n",
              "    </tr>\n",
              "    <tr>\n",
              "      <th>99</th>\n",
              "      <td>t5_4gr4gi</td>\n",
              "      <td>hpvictus</td>\n",
              "      <td>k_0013_label</td>\n",
              "      <td>E</td>\n",
              "      <td>2</td>\n",
              "      <td>acerpredatorhelios300, reeltoreel</td>\n",
              "    </tr>\n",
              "    <tr>\n",
              "      <th>105</th>\n",
              "      <td>t5_2ux78</td>\n",
              "      <td>reeltoreel</td>\n",
              "      <td>k_0013_label</td>\n",
              "      <td>E</td>\n",
              "      <td>2</td>\n",
              "      <td>acerpredatorhelios300, hpvictus</td>\n",
              "    </tr>\n",
              "  </tbody>\n",
              "</table>\n",
              "</div>\n",
              "      <button class=\"colab-df-convert\" onclick=\"convertToInteractive('df-fc180dab-3646-4ac8-9952-cfaf794f6212')\"\n",
              "              title=\"Convert this dataframe to an interactive table.\"\n",
              "              style=\"display:none;\">\n",
              "        \n",
              "  <svg xmlns=\"http://www.w3.org/2000/svg\" height=\"24px\"viewBox=\"0 0 24 24\"\n",
              "       width=\"24px\">\n",
              "    <path d=\"M0 0h24v24H0V0z\" fill=\"none\"/>\n",
              "    <path d=\"M18.56 5.44l.94 2.06.94-2.06 2.06-.94-2.06-.94-.94-2.06-.94 2.06-2.06.94zm-11 1L8.5 8.5l.94-2.06 2.06-.94-2.06-.94L8.5 2.5l-.94 2.06-2.06.94zm10 10l.94 2.06.94-2.06 2.06-.94-2.06-.94-.94-2.06-.94 2.06-2.06.94z\"/><path d=\"M17.41 7.96l-1.37-1.37c-.4-.4-.92-.59-1.43-.59-.52 0-1.04.2-1.43.59L10.3 9.45l-7.72 7.72c-.78.78-.78 2.05 0 2.83L4 21.41c.39.39.9.59 1.41.59.51 0 1.02-.2 1.41-.59l7.78-7.78 2.81-2.81c.8-.78.8-2.07 0-2.86zM5.41 20L4 18.59l7.72-7.72 1.47 1.35L5.41 20z\"/>\n",
              "  </svg>\n",
              "      </button>\n",
              "      \n",
              "  <style>\n",
              "    .colab-df-container {\n",
              "      display:flex;\n",
              "      flex-wrap:wrap;\n",
              "      gap: 12px;\n",
              "    }\n",
              "\n",
              "    .colab-df-convert {\n",
              "      background-color: #E8F0FE;\n",
              "      border: none;\n",
              "      border-radius: 50%;\n",
              "      cursor: pointer;\n",
              "      display: none;\n",
              "      fill: #1967D2;\n",
              "      height: 32px;\n",
              "      padding: 0 0 0 0;\n",
              "      width: 32px;\n",
              "    }\n",
              "\n",
              "    .colab-df-convert:hover {\n",
              "      background-color: #E2EBFA;\n",
              "      box-shadow: 0px 1px 2px rgba(60, 64, 67, 0.3), 0px 1px 3px 1px rgba(60, 64, 67, 0.15);\n",
              "      fill: #174EA6;\n",
              "    }\n",
              "\n",
              "    [theme=dark] .colab-df-convert {\n",
              "      background-color: #3B4455;\n",
              "      fill: #D2E3FC;\n",
              "    }\n",
              "\n",
              "    [theme=dark] .colab-df-convert:hover {\n",
              "      background-color: #434B5C;\n",
              "      box-shadow: 0px 1px 3px 1px rgba(0, 0, 0, 0.15);\n",
              "      filter: drop-shadow(0px 1px 2px rgba(0, 0, 0, 0.3));\n",
              "      fill: #FFFFFF;\n",
              "    }\n",
              "  </style>\n",
              "\n",
              "      <script>\n",
              "        const buttonEl =\n",
              "          document.querySelector('#df-fc180dab-3646-4ac8-9952-cfaf794f6212 button.colab-df-convert');\n",
              "        buttonEl.style.display =\n",
              "          google.colab.kernel.accessAllowed ? 'block' : 'none';\n",
              "\n",
              "        async function convertToInteractive(key) {\n",
              "          const element = document.querySelector('#df-fc180dab-3646-4ac8-9952-cfaf794f6212');\n",
              "          const dataTable =\n",
              "            await google.colab.kernel.invokeFunction('convertToInteractive',\n",
              "                                                     [key], {});\n",
              "          if (!dataTable) return;\n",
              "\n",
              "          const docLinkHtml = 'Like what you see? Visit the ' +\n",
              "            '<a target=\"_blank\" href=https://colab.research.google.com/notebooks/data_table.ipynb>data table notebook</a>'\n",
              "            + ' to learn more about interactive tables.';\n",
              "          element.innerHTML = '';\n",
              "          dataTable['output_type'] = 'display_data';\n",
              "          await google.colab.output.renderOutput(dataTable, element);\n",
              "          const docLink = document.createElement('div');\n",
              "          docLink.innerHTML = docLinkHtml;\n",
              "          element.appendChild(docLink);\n",
              "        }\n",
              "      </script>\n",
              "    </div>\n",
              "  </div>\n",
              "  "
            ],
            "application/vnd.google.colaboratory.module+javascript": "\n      import \"https://ssl.gstatic.com/colaboratory/data_table/81f25a011006ed3d/data_table.js\";\n\n      window.createDataTable({\n        data: [[{\n            'v': 489,\n            'f': \"489\",\n        },\n\"t5_30jzq\",\n\"clashofclansrecruit\",\n\"k_0013_label\",\n\"E\",\n{\n            'v': 3,\n            'f': \"3\",\n        },\n\"wattles, contestofchampionslfg, saiyanpeopletwitter\"],\n [{\n            'v': 483,\n            'f': \"483\",\n        },\n\"t5_o6oqi\",\n\"wattles\",\n\"k_0013_label\",\n\"E\",\n{\n            'v': 3,\n            'f': \"3\",\n        },\n\"clashofclansrecruit, contestofchampionslfg, saiyanpeopletwitter\"],\n [{\n            'v': 554,\n            'f': \"554\",\n        },\n\"t5_3kc7e\",\n\"mcumemes\",\n\"k_0013_label\",\n\"E\",\n{\n            'v': 2,\n            'f': \"2\",\n        },\n\"nowayhome, spidermannowayhome\"],\n [{\n            'v': 553,\n            'f': \"553\",\n        },\n\"t5_40jv5m\",\n\"spidermannowayhome\",\n\"k_0013_label\",\n\"E\",\n{\n            'v': 2,\n            'f': \"2\",\n        },\n\"nowayhome, mcumemes\"],\n [{\n            'v': 552,\n            'f': \"552\",\n        },\n\"t5_2ck6uk\",\n\"nowayhome\",\n\"k_0013_label\",\n\"E\",\n{\n            'v': 2,\n            'f': \"2\",\n        },\n\"spidermannowayhome, mcumemes\"],\n [{\n            'v': 595,\n            'f': \"595\",\n        },\n\"t5_2uhb6\",\n\"hardcoreaww\",\n\"k_0013_label\",\n\"E\",\n{\n            'v': 1,\n            'f': \"1\",\n        },\n\"dailydoseofaww\"],\n [{\n            'v': 596,\n            'f': \"596\",\n        },\n\"t5_5f9130\",\n\"dailydoseofaww\",\n\"k_0013_label\",\n\"E\",\n{\n            'v': 1,\n            'f': \"1\",\n        },\n\"hardcoreaww\"],\n [{\n            'v': 98,\n            'f': \"98\",\n        },\n\"t5_4gwjlz\",\n\"acerpredatorhelios300\",\n\"k_0013_label\",\n\"E\",\n{\n            'v': 2,\n            'f': \"2\",\n        },\n\"hpvictus, reeltoreel\"],\n [{\n            'v': 99,\n            'f': \"99\",\n        },\n\"t5_4gr4gi\",\n\"hpvictus\",\n\"k_0013_label\",\n\"E\",\n{\n            'v': 2,\n            'f': \"2\",\n        },\n\"acerpredatorhelios300, reeltoreel\"],\n [{\n            'v': 105,\n            'f': \"105\",\n        },\n\"t5_2ux78\",\n\"reeltoreel\",\n\"k_0013_label\",\n\"E\",\n{\n            'v': 2,\n            'f': \"2\",\n        },\n\"acerpredatorhelios300, hpvictus\"]],\n        columns: [[\"number\", \"index\"], [\"string\", \"subreddit_id_seed\"], [\"string\", \"subreddit_name_seed\"], [\"string\", \"cluster_label_k\"], [\"string\", \"rating_short_latest\"], [\"number\", \"subreddits_to_recommend_count\"], [\"string\", \"list_cluster_subreddit_names\"]],\n        columnOptions: [{\"width\": \"1px\", \"className\": \"index_column\"}],\n        rowsPerPage: 25,\n        helpUrl: \"https://colab.research.google.com/notebooks/data_table.ipynb\",\n        suppressOutputScrolling: true,\n        minimumWidth: undefined,\n      });\n    "
          },
          "metadata": {},
          "execution_count": 31
        }
      ]
    },
    {
      "cell_type": "markdown",
      "metadata": {
        "id": "2VYDcXoXEHYl"
      },
      "source": [
        "## Save new output to google sheet"
      ]
    },
    {
      "cell_type": "code",
      "source": [
        "d_wsh_names['clusters_t2t_fpr_after_qa']['worksheet'].update(\n",
        "    [df_target_to_target_list.rename(columns={k: k.replace('_', ' ') for k in df_target_to_target_list.columns}).columns.values.tolist()] + \n",
        "    df_target_to_target_list.fillna('').values.tolist()\n",
        ")"
      ],
      "metadata": {
        "colab": {
          "base_uri": "https://localhost:8080/"
        },
        "id": "Om4VV6QVuWJs",
        "outputId": "5c53bc43-0e1e-4485-a305-7eb63380e9b0"
      },
      "execution_count": 35,
      "outputs": [
        {
          "output_type": "execute_result",
          "data": {
            "text/plain": [
              "{'spreadsheetId': '1LgcrVG-1vhMoC0JifrZYCCgsalIVigk13Yy7-ZKzw1U',\n",
              " 'updatedCells': 6152,\n",
              " 'updatedColumns': 8,\n",
              " 'updatedRange': 'fpr_clusters_after_qa_in_in!A1:H769',\n",
              " 'updatedRows': 769}"
            ]
          },
          "metadata": {},
          "execution_count": 35
        }
      ]
    },
    {
      "cell_type": "code",
      "source": [
        ""
      ],
      "metadata": {
        "id": "9qw8WcZvuWG6"
      },
      "execution_count": null,
      "outputs": []
    }
  ]
}