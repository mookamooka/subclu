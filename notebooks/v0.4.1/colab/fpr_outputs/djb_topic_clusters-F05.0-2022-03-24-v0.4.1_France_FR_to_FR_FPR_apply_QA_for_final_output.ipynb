{
  "nbformat": 4,
  "nbformat_minor": 0,
  "metadata": {
    "colab": {
      "name": "djb_topic_clusters-F05.1-2022-04-06-v0.4.1_France_FR_to_FR_FPR_apply_QA_for_final_output.ipynb",
      "provenance": [],
      "collapsed_sections": [
        "Y5QYz4t5qXgv",
        "5TH350bzUsR9",
        "dVXfcDlqWjPe"
      ]
    },
    "kernelspec": {
      "name": "python3",
      "display_name": "Python 3"
    },
    "language_info": {
      "name": "python"
    }
  },
  "cells": [
    {
      "cell_type": "markdown",
      "metadata": {
        "id": "iVZuLSOgZVC8"
      },
      "source": [
        "# Purpose\n",
        "\n",
        "### 2022-03-22\n",
        "- model version: 4.0.1\n",
        "\n",
        "In this notebook we apply the filters from the QA process to get the final output for Australia-relevant subs. The primary use case is geo-relevant FPRs [[i18n/ML] One Feed Experiment Spec: UK/CA/AU/IN](https://docs.google.com/document/d/10z0ZlZuYnPYzUjlKHLy5iKClCk1AvMsy6LSL1wRK7FE/edit#heading=h.uozl6p2gc9i3).\n",
        "\n",
        "\n",
        "### Inputs:\n",
        "- Values from the QA spreadsheet\n",
        "    - Cluster IDs\n",
        "        - Recommend subs with the same cluster ID\n",
        "    - Subreddits that are not country-relevant\n",
        "        - Remove them\n",
        "    - Subreddits that are NSFW\n",
        "        - Remove them\n",
        "    - Subreddits that don't belong to a cluster\n",
        "        - Remove them\n",
        "\n",
        "### Outputs\n",
        "- Write to a new tab in google sheets with format needed for FPRs\n",
        "    - Use `gspread` to write table outputs directly to google sheets\n",
        "\n",
        "\n",
        "### Reference\n",
        "[Notebook template for v0.4.0 model](https://colab.research.google.com/drive/19p3O5DGxiEXj57OeCFf2gVIagUgCLx9v?usp=sharing)"
      ]
    },
    {
      "cell_type": "markdown",
      "metadata": {
        "id": "c2qXnQ5IV9Z7"
      },
      "source": [
        "# Imports & notebook setup"
      ]
    },
    {
      "cell_type": "code",
      "metadata": {
        "id": "pCuWmkxaGYwm",
        "colab": {
          "base_uri": "https://localhost:8080/"
        },
        "outputId": "5cf24f85-4f35-473a-8b46-a0a854740916"
      },
      "source": [
        "%load_ext google.colab.data_table\n",
        "%load_ext autoreload\n",
        "%autoreload 2"
      ],
      "execution_count": null,
      "outputs": [
        {
          "output_type": "stream",
          "name": "stdout",
          "text": [
            "The google.colab.data_table extension is already loaded. To reload it, use:\n",
            "  %reload_ext google.colab.data_table\n",
            "The autoreload extension is already loaded. To reload it, use:\n",
            "  %reload_ext autoreload\n"
          ]
        }
      ]
    },
    {
      "cell_type": "code",
      "metadata": {
        "colab": {
          "base_uri": "https://localhost:8080/"
        },
        "id": "tS4ktaPaGwbh",
        "outputId": "85d82118-5bb4-470f-ab06-4c6de8ec18e3"
      },
      "source": [
        "# colab auth for BigQuery & google drive\n",
        "from google.colab import auth, files, drive\n",
        "import sys  # need sys for mounting gdrive path\n",
        "\n",
        "auth.authenticate_user()\n",
        "print('Authenticated')"
      ],
      "execution_count": null,
      "outputs": [
        {
          "output_type": "stream",
          "name": "stdout",
          "text": [
            "Authenticated\n"
          ]
        }
      ]
    },
    {
      "cell_type": "markdown",
      "source": [
        "### Append google-drive"
      ],
      "metadata": {
        "id": "Y5QYz4t5qXgv"
      }
    },
    {
      "cell_type": "code",
      "metadata": {
        "colab": {
          "base_uri": "https://localhost:8080/"
        },
        "id": "kuOoJT3noOPE",
        "outputId": "6aa412ae-6108-44ac-e69e-a4047b8ef8b0"
      },
      "source": [
        "# Attach google drive & import my python utility functions\n",
        "# if drive.mount() fails, you can also:\n",
        "#   MANUALLY CLICK ON \"Mount Drive\"\n",
        "g_drive_root = '/content/drive'\n",
        "\n",
        "try:\n",
        "    drive.mount(g_drive_root, force_remount=True)\n",
        "    print('   Authenticated & mounted Google Drive')\n",
        "except Exception as e:\n",
        "    print(e)\n",
        "    raise Exception('You might need to manually mount google drive to colab')\n",
        "\n",
        "l_paths_to_append = [\n",
        "    f'{g_drive_root}/MyDrive/Colab Notebooks',\n",
        "\n",
        "    # need to append the path to subclu so that colab can import things properly\n",
        "    f'{g_drive_root}/MyDrive/Colab Notebooks/subreddit_clustering_i18n'\n",
        "]\n",
        "for path_ in l_paths_to_append:\n",
        "    if path_ in sys.path:\n",
        "        sys.path.remove(path_)\n",
        "    print(f\" Appending path: {path_}\")\n",
        "    sys.path.append(path_)"
      ],
      "execution_count": null,
      "outputs": [
        {
          "output_type": "stream",
          "name": "stdout",
          "text": [
            "Mounted at /content/drive\n",
            "   Authenticated & mounted Google Drive\n",
            " Appending path: /content/drive/MyDrive/Colab Notebooks\n",
            " Appending path: /content/drive/MyDrive/Colab Notebooks/subreddit_clustering_i18n\n"
          ]
        }
      ]
    },
    {
      "cell_type": "markdown",
      "metadata": {
        "id": "6jFbY64VRAGX"
      },
      "source": [
        "### Install custom libraries"
      ]
    },
    {
      "cell_type": "code",
      "metadata": {
        "id": "Kpey-jzFbiXu",
        "colab": {
          "base_uri": "https://localhost:8080/"
        },
        "outputId": "a479848a-7942-439d-d457-7826730197ee"
      },
      "source": [
        "# install subclu & libraries needed to read parquet files from GCS & spreadsheets\n",
        "#  make sure to use the [colab] `extra` because it includes colab-specific libraries\n",
        "module_path = f\"{g_drive_root}/MyDrive/Colab Notebooks/subreddit_clustering_i18n/[colab]\"\n",
        "\n",
        "!pip install -e $\"$module_path\" --quiet"
      ],
      "execution_count": null,
      "outputs": [
        {
          "output_type": "stream",
          "name": "stdout",
          "text": [
            "\u001b[K     |████████████████████████████████| 10.1 MB 3.7 MB/s \n",
            "\u001b[K     |████████████████████████████████| 14.2 MB 22.5 MB/s \n",
            "\u001b[K     |████████████████████████████████| 965 kB 56.9 MB/s \n",
            "\u001b[K     |████████████████████████████████| 144 kB 51.3 MB/s \n",
            "\u001b[K     |████████████████████████████████| 76 kB 3.6 MB/s \n",
            "\u001b[K     |████████████████████████████████| 285 kB 48.6 MB/s \n",
            "\u001b[K     |████████████████████████████████| 13.2 MB 34.0 MB/s \n",
            "\u001b[K     |████████████████████████████████| 79.9 MB 122 kB/s \n",
            "\u001b[K     |████████████████████████████████| 134 kB 33.3 MB/s \n",
            "\u001b[K     |████████████████████████████████| 715 kB 32.8 MB/s \n",
            "\u001b[K     |████████████████████████████████| 112 kB 49.2 MB/s \n",
            "\u001b[K     |████████████████████████████████| 74 kB 3.0 MB/s \n",
            "\u001b[K     |████████████████████████████████| 79 kB 7.2 MB/s \n",
            "\u001b[K     |████████████████████████████████| 146 kB 36.3 MB/s \n",
            "\u001b[K     |████████████████████████████████| 181 kB 43.0 MB/s \n",
            "\u001b[K     |████████████████████████████████| 1.1 MB 49.5 MB/s \n",
            "\u001b[K     |████████████████████████████████| 58 kB 4.7 MB/s \n",
            "\u001b[K     |████████████████████████████████| 596 kB 41.3 MB/s \n",
            "\u001b[K     |████████████████████████████████| 78 kB 6.0 MB/s \n",
            "\u001b[K     |████████████████████████████████| 54 kB 1.6 MB/s \n",
            "\u001b[K     |████████████████████████████████| 1.1 MB 57.5 MB/s \n",
            "\u001b[K     |████████████████████████████████| 94 kB 2.2 MB/s \n",
            "\u001b[K     |████████████████████████████████| 144 kB 38.9 MB/s \n",
            "\u001b[K     |████████████████████████████████| 271 kB 49.0 MB/s \n",
            "\u001b[K     |████████████████████████████████| 63 kB 1.2 MB/s \n",
            "\u001b[?25h  Building wheel for antlr4-python3-runtime (setup.py) ... \u001b[?25l\u001b[?25hdone\n",
            "  Building wheel for alembic (setup.py) ... \u001b[?25l\u001b[?25hdone\n",
            "  Building wheel for databricks-cli (setup.py) ... \u001b[?25l\u001b[?25hdone\n",
            "  Building wheel for retrying (setup.py) ... \u001b[?25l\u001b[?25hdone\n",
            "\u001b[31mERROR: pip's dependency resolver does not currently take into account all the packages that are installed. This behaviour is the source of the following dependency conflicts.\n",
            "gym 0.17.3 requires cloudpickle<1.7.0,>=1.2.0, but you have cloudpickle 2.0.0 which is incompatible.\u001b[0m\n"
          ]
        }
      ]
    },
    {
      "cell_type": "markdown",
      "metadata": {
        "id": "5TH350bzUsR9"
      },
      "source": [
        "### General Imports\n"
      ]
    },
    {
      "cell_type": "code",
      "metadata": {
        "id": "9TpWbXh5mzew"
      },
      "source": [
        "# Regular Imports\n",
        "import os\n",
        "from datetime import datetime\n",
        "\n",
        "from google.cloud import bigquery\n",
        "\n",
        "import matplotlib.pyplot as plt\n",
        "import pandas as pd\n",
        "import numpy as np\n",
        "import seaborn as sns\n",
        "from matplotlib_venn import venn2_unweighted, venn3_unweighted\n",
        "from tqdm import tqdm\n",
        "\n",
        "# auth for google sheets\n",
        "import gspread\n",
        "from oauth2client.client import GoogleCredentials\n",
        "gc = gspread.authorize(GoogleCredentials.get_application_default())\n",
        "\n",
        "\n",
        "# Set env variable needed by some libraries to get datay from BigQuery\n",
        "# os.environ['GOOGLE_CLOUD_PROJECT'] = 'data-science-prod-218515'\n",
        "os.environ['GOOGLE_CLOUD_PROJECT'] = 'data-prod-165221'"
      ],
      "execution_count": null,
      "outputs": []
    },
    {
      "cell_type": "markdown",
      "metadata": {
        "id": "BMQYoHOTcAlP"
      },
      "source": [
        "### `subclu` import (custom module)"
      ]
    },
    {
      "cell_type": "code",
      "metadata": {
        "colab": {
          "base_uri": "https://localhost:8080/"
        },
        "id": "Cj_y2KtccJ8P",
        "outputId": "a8aa0341-1577-42df-a7dc-9317b42091d8"
      },
      "source": [
        "# subclu imports\n",
        "\n",
        "from subclu.utils.eda import (\n",
        "    setup_logging, counts_describe, value_counts_and_pcts,\n",
        "    notebook_display_config, print_lib_versions,\n",
        "    style_df_numeric, reorder_array,\n",
        ")\n",
        "from subclu.models.clustering_utils import (\n",
        "    create_dynamic_clusters,\n",
        "    convert_distance_or_ab_to_list_for_fpr\n",
        ")\n",
        "from subclu.models.reshape_clusters_v041 import (\n",
        "    get_subs_to_filter_as_df\n",
        ")\n",
        "\n",
        "\n",
        "setup_logging()\n",
        "print_lib_versions([gspread, pd, np])"
      ],
      "execution_count": null,
      "outputs": [
        {
          "output_type": "stream",
          "name": "stdout",
          "text": [
            "python\t\tv 3.7.13\n",
            "===\n",
            "gspread\t\tv: 4.0.1\n",
            "pandas\t\tv: 1.3.5\n",
            "numpy\t\tv: 1.21.5\n"
          ]
        }
      ]
    },
    {
      "cell_type": "markdown",
      "source": [
        "# Checklist to re-run for a country:\n",
        "\n",
        "- Copy google sheet cell from 1st notebook so it matches:\n",
        "    - Google sheet KEY\n",
        "    - country name for google sheet name\n",
        "    - country initial in google sheet\n",
        "- Add new sheet to create: `clusters_t2t_fpr_after_qa`\n",
        "    - Here's where we'll save the clusters after QA\n"
      ],
      "metadata": {
        "id": "NcUyRqG1t2ul"
      }
    },
    {
      "cell_type": "markdown",
      "source": [
        "# Google sheet with country QA\n",
        "\n",
        "For now, copy the same cell from the QA notebook. \n",
        "\n",
        "In the future we might need to register QA sheets in a central location to reduce copy/pasta."
      ],
      "metadata": {
        "id": "xp9fRYijuYdT"
      }
    },
    {
      "cell_type": "code",
      "source": [
        "# # %%time\n",
        "os.environ['GOOGLE_CLOUD_PROJECT'] = 'data-prod-165221'\n",
        "\n",
        "country_name_sheet_ = 'France'\n",
        "target_abbrev_ = 'fr'\n",
        "GSHEET_KEY = '1RicLwjnVxArCiPqoVUPEIbFnruL5m7VBL89ZXBCix7c'\n",
        "GSHEET_NAME = f'i18n {country_name_sheet_} subreddits and clusters - model v0.4.1'\n",
        "\n",
        "\n",
        "d_wsh_names = {\n",
        "    'qa_ready': {\n",
        "        'name': 'subs_need_to_be_rated',\n",
        "    },\n",
        "    'clusters_t2t_list_raw': {\n",
        "        'name': f'raw_clusters_list_{target_abbrev_}_{target_abbrev_}',\n",
        "    },\n",
        "    'sub_raw': {\n",
        "        'name': 'raw_data_per_subreddit',\n",
        "    },\n",
        "    'clusters_t2t_fpr_raw': {\n",
        "        'name': f'raw_clusters_fpr_{target_abbrev_}_{target_abbrev_}',\n",
        "    },\n",
        "    'clusters_t2t_fpr_after_qa': {\n",
        "        'name': f'fpr_clusters_after_qa_{target_abbrev_}_{target_abbrev_}',\n",
        "    },\n",
        "}\n",
        "\n",
        "if GSHEET_KEY is not None:\n",
        "    sh = gc.open_by_key(GSHEET_KEY)\n",
        "    print(f\"Opening google worksheet: {GSHEET_NAME} ...\")\n",
        "else:\n",
        "    print(f\"** Creating google worksheet: {GSHEET_NAME} ...\")\n",
        "    sh = gc.create(GSHEET_NAME)\n",
        "\n",
        "# create worksheets:\n",
        "for _, d_ in d_wsh_names.items():\n",
        "    sh_name = d_['name']\n",
        "    try:\n",
        "        d_['worksheet'] = sh.worksheet(sh_name)\n",
        "        print(f\"  Opening tab/sheet: {sh_name} ...\")\n",
        "    except Exception as e:\n",
        "        print(f\"  ** Creating tab/sheet: {sh_name} ...\")\n",
        "        d_['worksheet'] = sh.add_worksheet(sh_name, rows=5, cols=5)\n",
        "\n",
        "if GSHEET_KEY is None:\n",
        "    print(f\"\\n*** New sheet ID (assign it to GSHEET_KEY variable): ***\\n{sh.id}\\n\")"
      ],
      "metadata": {
        "colab": {
          "base_uri": "https://localhost:8080/"
        },
        "id": "P2nVB2ehuWRf",
        "outputId": "17a391c7-1aa7-4beb-9877-10197ac54cfb"
      },
      "execution_count": null,
      "outputs": [
        {
          "output_type": "stream",
          "name": "stdout",
          "text": [
            "Opening google worksheet: i18n France subreddits and clusters - model v0.4.1 ...\n",
            "  Opening tab/sheet: subs_need_to_be_rated ...\n",
            "  Opening tab/sheet: raw_clusters_list_fr_fr ...\n",
            "  Opening tab/sheet: raw_data_per_subreddit ...\n",
            "  Opening tab/sheet: raw_clusters_fpr_fr_fr ...\n",
            "  ** Creating tab/sheet: fpr_clusters_after_qa_fr_fr ...\n"
          ]
        }
      ]
    },
    {
      "cell_type": "markdown",
      "source": [
        "# Get latest ratings & flags (e.g., `allow_discovery`)"
      ],
      "metadata": {
        "id": "c9r0nVpH4XRu"
      }
    },
    {
      "cell_type": "markdown",
      "source": [
        "## SQL"
      ],
      "metadata": {
        "id": "ruXaYJdq8zL0"
      }
    },
    {
      "cell_type": "code",
      "source": [
        "%%time\n",
        "%%bigquery df_latest_ratings --project data-science-prod-218515 \n",
        "\n",
        "-- Get ratings & other flags for all subs in the model\n",
        "--  we'll filter/match to country in python\n",
        "DECLARE PARTITION_DATE DATE DEFAULT (CURRENT_DATE() - 1);\n",
        "\n",
        "SELECT\n",
        "    t.subreddit_id\n",
        "    , t.subreddit_name\n",
        "    , CASE WHEN nt.rating_short = 'E' THEN True\n",
        "        ELSE False\n",
        "    END AS rated_e_latest\n",
        "    , slo.over_18\n",
        "    , slo.allow_discovery\n",
        "    , nt.rating_short\n",
        "    , slo.type\n",
        "    , nt.primary_topic\n",
        "    , nt.rating_name\n",
        "\n",
        "FROM `reddit-employee-datasets.david_bermejo.subclu_v0041_subreddit_clusters_c_a` AS t\n",
        "    -- Add rating so we can get filter out subs not rated as E\n",
        "    LEFT JOIN (\n",
        "        SELECT *\n",
        "        FROM `data-prod-165221.ds_v2_postgres_tables.subreddit_lookup`\n",
        "        -- Get latest partition\n",
        "        WHERE dt = PARTITION_DATE\n",
        "    ) AS slo\n",
        "        ON t.subreddit_id = slo.subreddit_id\n",
        "    LEFT JOIN (\n",
        "        SELECT * FROM `data-prod-165221.cnc.shredded_crowdsource_topic_and_rating`\n",
        "        WHERE pt = PARTITION_DATE\n",
        "    ) AS nt\n",
        "        ON t.subreddit_id = nt.subreddit_id\n",
        "\n",
        "WHERE 1=1\n",
        "    AND t.subreddit_name != 'profile'\n",
        "    -- For this query, we want to keep these values to know\n",
        "    --  if they have changed since last time\n",
        "    -- AND COALESCE(slo.type, '') = 'public'\n",
        "    -- AND COALESCE(slo.verdict, 'f') <> 'admin_removed'\n",
        "    -- AND COALESCE(slo.over_18, 'f') = 'f'\n",
        "    -- AND COALESCE(nt.rating_short, '') NOT IN ('X', 'D')\n",
        "\n",
        "ORDER BY subreddit_name\n",
        ";"
      ],
      "metadata": {
        "colab": {
          "base_uri": "https://localhost:8080/"
        },
        "id": "oxODoHWv4flO",
        "outputId": "f77f909b-dfb5-4414-feea-723b989f55d8"
      },
      "execution_count": null,
      "outputs": [
        {
          "output_type": "stream",
          "name": "stdout",
          "text": [
            "CPU times: user 2.39 s, sys: 498 ms, total: 2.89 s\n",
            "Wall time: 12.1 s\n"
          ]
        }
      ]
    },
    {
      "cell_type": "markdown",
      "source": [
        "## Inspect latest ratings"
      ],
      "metadata": {
        "id": "gdGAO1Ra8v-A"
      }
    },
    {
      "cell_type": "code",
      "source": [
        "print(df_latest_ratings.shape)\n",
        "df_latest_ratings.head()"
      ],
      "metadata": {
        "colab": {
          "base_uri": "https://localhost:8080/",
          "height": 215
        },
        "id": "5iPb4rqo8Nax",
        "outputId": "523174c0-aefa-486b-c21f-2a943d27dd0f"
      },
      "execution_count": null,
      "outputs": [
        {
          "output_type": "stream",
          "name": "stdout",
          "text": [
            "(49558, 9)\n"
          ]
        },
        {
          "output_type": "execute_result",
          "data": {
            "text/plain": [
              "  subreddit_id  subreddit_name  rated_e_latest over_18 allow_discovery  \\\n",
              "0    t5_46wt4h    0hthaatsjaay           False    None            None   \n",
              "1    t5_4byrct  0nlyfantastic0           False    None            None   \n",
              "2    t5_36f9u6       0nlyleaks           False    None            None   \n",
              "3    t5_2qlzfy    0sanitymemes           False    None            None   \n",
              "4    t5_2qgijx       0xpolygon            True    None            None   \n",
              "\n",
              "  rating_short  type                    primary_topic rating_name  \n",
              "0         None  None  Mature Themes and Adult Content        None  \n",
              "1         None  None                             None        None  \n",
              "2         None  None                             None        None  \n",
              "3            M  None       Internet Culture and Memes      Mature  \n",
              "4            E  None                           Crypto    Everyone  "
            ],
            "text/html": [
              "\n",
              "  <div id=\"df-cf12153e-89ba-4f80-b888-361c1914f9ad\">\n",
              "    <div class=\"colab-df-container\">\n",
              "      <div>\n",
              "<style scoped>\n",
              "    .dataframe tbody tr th:only-of-type {\n",
              "        vertical-align: middle;\n",
              "    }\n",
              "\n",
              "    .dataframe tbody tr th {\n",
              "        vertical-align: top;\n",
              "    }\n",
              "\n",
              "    .dataframe thead th {\n",
              "        text-align: right;\n",
              "    }\n",
              "</style>\n",
              "<table border=\"1\" class=\"dataframe\">\n",
              "  <thead>\n",
              "    <tr style=\"text-align: right;\">\n",
              "      <th></th>\n",
              "      <th>subreddit_id</th>\n",
              "      <th>subreddit_name</th>\n",
              "      <th>rated_e_latest</th>\n",
              "      <th>over_18</th>\n",
              "      <th>allow_discovery</th>\n",
              "      <th>rating_short</th>\n",
              "      <th>type</th>\n",
              "      <th>primary_topic</th>\n",
              "      <th>rating_name</th>\n",
              "    </tr>\n",
              "  </thead>\n",
              "  <tbody>\n",
              "    <tr>\n",
              "      <th>0</th>\n",
              "      <td>t5_46wt4h</td>\n",
              "      <td>0hthaatsjaay</td>\n",
              "      <td>False</td>\n",
              "      <td>None</td>\n",
              "      <td>None</td>\n",
              "      <td>None</td>\n",
              "      <td>None</td>\n",
              "      <td>Mature Themes and Adult Content</td>\n",
              "      <td>None</td>\n",
              "    </tr>\n",
              "    <tr>\n",
              "      <th>1</th>\n",
              "      <td>t5_4byrct</td>\n",
              "      <td>0nlyfantastic0</td>\n",
              "      <td>False</td>\n",
              "      <td>None</td>\n",
              "      <td>None</td>\n",
              "      <td>None</td>\n",
              "      <td>None</td>\n",
              "      <td>None</td>\n",
              "      <td>None</td>\n",
              "    </tr>\n",
              "    <tr>\n",
              "      <th>2</th>\n",
              "      <td>t5_36f9u6</td>\n",
              "      <td>0nlyleaks</td>\n",
              "      <td>False</td>\n",
              "      <td>None</td>\n",
              "      <td>None</td>\n",
              "      <td>None</td>\n",
              "      <td>None</td>\n",
              "      <td>None</td>\n",
              "      <td>None</td>\n",
              "    </tr>\n",
              "    <tr>\n",
              "      <th>3</th>\n",
              "      <td>t5_2qlzfy</td>\n",
              "      <td>0sanitymemes</td>\n",
              "      <td>False</td>\n",
              "      <td>None</td>\n",
              "      <td>None</td>\n",
              "      <td>M</td>\n",
              "      <td>None</td>\n",
              "      <td>Internet Culture and Memes</td>\n",
              "      <td>Mature</td>\n",
              "    </tr>\n",
              "    <tr>\n",
              "      <th>4</th>\n",
              "      <td>t5_2qgijx</td>\n",
              "      <td>0xpolygon</td>\n",
              "      <td>True</td>\n",
              "      <td>None</td>\n",
              "      <td>None</td>\n",
              "      <td>E</td>\n",
              "      <td>None</td>\n",
              "      <td>Crypto</td>\n",
              "      <td>Everyone</td>\n",
              "    </tr>\n",
              "  </tbody>\n",
              "</table>\n",
              "</div>\n",
              "      <button class=\"colab-df-convert\" onclick=\"convertToInteractive('df-cf12153e-89ba-4f80-b888-361c1914f9ad')\"\n",
              "              title=\"Convert this dataframe to an interactive table.\"\n",
              "              style=\"display:none;\">\n",
              "        \n",
              "  <svg xmlns=\"http://www.w3.org/2000/svg\" height=\"24px\"viewBox=\"0 0 24 24\"\n",
              "       width=\"24px\">\n",
              "    <path d=\"M0 0h24v24H0V0z\" fill=\"none\"/>\n",
              "    <path d=\"M18.56 5.44l.94 2.06.94-2.06 2.06-.94-2.06-.94-.94-2.06-.94 2.06-2.06.94zm-11 1L8.5 8.5l.94-2.06 2.06-.94-2.06-.94L8.5 2.5l-.94 2.06-2.06.94zm10 10l.94 2.06.94-2.06 2.06-.94-2.06-.94-.94-2.06-.94 2.06-2.06.94z\"/><path d=\"M17.41 7.96l-1.37-1.37c-.4-.4-.92-.59-1.43-.59-.52 0-1.04.2-1.43.59L10.3 9.45l-7.72 7.72c-.78.78-.78 2.05 0 2.83L4 21.41c.39.39.9.59 1.41.59.51 0 1.02-.2 1.41-.59l7.78-7.78 2.81-2.81c.8-.78.8-2.07 0-2.86zM5.41 20L4 18.59l7.72-7.72 1.47 1.35L5.41 20z\"/>\n",
              "  </svg>\n",
              "      </button>\n",
              "      \n",
              "  <style>\n",
              "    .colab-df-container {\n",
              "      display:flex;\n",
              "      flex-wrap:wrap;\n",
              "      gap: 12px;\n",
              "    }\n",
              "\n",
              "    .colab-df-convert {\n",
              "      background-color: #E8F0FE;\n",
              "      border: none;\n",
              "      border-radius: 50%;\n",
              "      cursor: pointer;\n",
              "      display: none;\n",
              "      fill: #1967D2;\n",
              "      height: 32px;\n",
              "      padding: 0 0 0 0;\n",
              "      width: 32px;\n",
              "    }\n",
              "\n",
              "    .colab-df-convert:hover {\n",
              "      background-color: #E2EBFA;\n",
              "      box-shadow: 0px 1px 2px rgba(60, 64, 67, 0.3), 0px 1px 3px 1px rgba(60, 64, 67, 0.15);\n",
              "      fill: #174EA6;\n",
              "    }\n",
              "\n",
              "    [theme=dark] .colab-df-convert {\n",
              "      background-color: #3B4455;\n",
              "      fill: #D2E3FC;\n",
              "    }\n",
              "\n",
              "    [theme=dark] .colab-df-convert:hover {\n",
              "      background-color: #434B5C;\n",
              "      box-shadow: 0px 1px 3px 1px rgba(0, 0, 0, 0.15);\n",
              "      filter: drop-shadow(0px 1px 2px rgba(0, 0, 0, 0.3));\n",
              "      fill: #FFFFFF;\n",
              "    }\n",
              "  </style>\n",
              "\n",
              "      <script>\n",
              "        const buttonEl =\n",
              "          document.querySelector('#df-cf12153e-89ba-4f80-b888-361c1914f9ad button.colab-df-convert');\n",
              "        buttonEl.style.display =\n",
              "          google.colab.kernel.accessAllowed ? 'block' : 'none';\n",
              "\n",
              "        async function convertToInteractive(key) {\n",
              "          const element = document.querySelector('#df-cf12153e-89ba-4f80-b888-361c1914f9ad');\n",
              "          const dataTable =\n",
              "            await google.colab.kernel.invokeFunction('convertToInteractive',\n",
              "                                                     [key], {});\n",
              "          if (!dataTable) return;\n",
              "\n",
              "          const docLinkHtml = 'Like what you see? Visit the ' +\n",
              "            '<a target=\"_blank\" href=https://colab.research.google.com/notebooks/data_table.ipynb>data table notebook</a>'\n",
              "            + ' to learn more about interactive tables.';\n",
              "          element.innerHTML = '';\n",
              "          dataTable['output_type'] = 'display_data';\n",
              "          await google.colab.output.renderOutput(dataTable, element);\n",
              "          const docLink = document.createElement('div');\n",
              "          docLink.innerHTML = docLinkHtml;\n",
              "          element.appendChild(docLink);\n",
              "        }\n",
              "      </script>\n",
              "    </div>\n",
              "  </div>\n",
              "  "
            ],
            "application/vnd.google.colaboratory.module+javascript": "\n      import \"https://ssl.gstatic.com/colaboratory/data_table/81f25a011006ed3d/data_table.js\";\n\n      window.createDataTable({\n        data: [[{\n            'v': 0,\n            'f': \"0\",\n        },\n\"t5_46wt4h\",\n\"0hthaatsjaay\",\nfalse,\n{\n            'v': null,\n            'f': \"null\",\n        },\n{\n            'v': null,\n            'f': \"null\",\n        },\nnull,\n{\n            'v': null,\n            'f': \"null\",\n        },\n\"Mature Themes and Adult Content\",\nnull],\n [{\n            'v': 1,\n            'f': \"1\",\n        },\n\"t5_4byrct\",\n\"0nlyfantastic0\",\nfalse,\n{\n            'v': null,\n            'f': \"null\",\n        },\n{\n            'v': null,\n            'f': \"null\",\n        },\nnull,\n{\n            'v': null,\n            'f': \"null\",\n        },\nnull,\nnull],\n [{\n            'v': 2,\n            'f': \"2\",\n        },\n\"t5_36f9u6\",\n\"0nlyleaks\",\nfalse,\n{\n            'v': null,\n            'f': \"null\",\n        },\n{\n            'v': null,\n            'f': \"null\",\n        },\nnull,\n{\n            'v': null,\n            'f': \"null\",\n        },\nnull,\nnull],\n [{\n            'v': 3,\n            'f': \"3\",\n        },\n\"t5_2qlzfy\",\n\"0sanitymemes\",\nfalse,\n{\n            'v': null,\n            'f': \"null\",\n        },\n{\n            'v': null,\n            'f': \"null\",\n        },\n\"M\",\n{\n            'v': null,\n            'f': \"null\",\n        },\n\"Internet Culture and Memes\",\n\"Mature\"],\n [{\n            'v': 4,\n            'f': \"4\",\n        },\n\"t5_2qgijx\",\n\"0xpolygon\",\ntrue,\n{\n            'v': null,\n            'f': \"null\",\n        },\n{\n            'v': null,\n            'f': \"null\",\n        },\n\"E\",\n{\n            'v': null,\n            'f': \"null\",\n        },\n\"Crypto\",\n\"Everyone\"]],\n        columns: [[\"number\", \"index\"], [\"string\", \"subreddit_id\"], [\"string\", \"subreddit_name\"], [\"string\", \"rated_e_latest\"], [\"number\", \"over_18\"], [\"number\", \"allow_discovery\"], [\"string\", \"rating_short\"], [\"number\", \"type\"], [\"string\", \"primary_topic\"], [\"string\", \"rating_name\"]],\n        columnOptions: [{\"width\": \"1px\", \"className\": \"index_column\"}],\n        rowsPerPage: 25,\n        helpUrl: \"https://colab.research.google.com/notebooks/data_table.ipynb\",\n        suppressOutputScrolling: true,\n        minimumWidth: undefined,\n      });\n    "
          },
          "metadata": {},
          "execution_count": 12
        }
      ]
    },
    {
      "cell_type": "code",
      "source": [
        "df_latest_ratings[df_latest_ratings['subreddit_name'].str.contains('667')]"
      ],
      "metadata": {
        "colab": {
          "base_uri": "https://localhost:8080/",
          "height": 133
        },
        "id": "hwWBYEE7gmLh",
        "outputId": "69ab6ed2-c6f1-488a-ed2f-0d3cee08e10f"
      },
      "execution_count": null,
      "outputs": [
        {
          "output_type": "execute_result",
          "data": {
            "text/plain": [
              "      subreddit_id subreddit_name  rated_e_latest over_18 allow_discovery  \\\n",
              "308       t5_2ytof            667            True    None            None   \n",
              "25323    t5_2zcwdh  leakoeln50667           False    None            None   \n",
              "\n",
              "      rating_short  type primary_topic rating_name  \n",
              "308              E  None         Music    Everyone  \n",
              "25323         None  None          None        None  "
            ],
            "text/html": [
              "\n",
              "  <div id=\"df-a282cfdc-e992-47cb-8d1a-e896629d97ac\">\n",
              "    <div class=\"colab-df-container\">\n",
              "      <div>\n",
              "<style scoped>\n",
              "    .dataframe tbody tr th:only-of-type {\n",
              "        vertical-align: middle;\n",
              "    }\n",
              "\n",
              "    .dataframe tbody tr th {\n",
              "        vertical-align: top;\n",
              "    }\n",
              "\n",
              "    .dataframe thead th {\n",
              "        text-align: right;\n",
              "    }\n",
              "</style>\n",
              "<table border=\"1\" class=\"dataframe\">\n",
              "  <thead>\n",
              "    <tr style=\"text-align: right;\">\n",
              "      <th></th>\n",
              "      <th>subreddit_id</th>\n",
              "      <th>subreddit_name</th>\n",
              "      <th>rated_e_latest</th>\n",
              "      <th>over_18</th>\n",
              "      <th>allow_discovery</th>\n",
              "      <th>rating_short</th>\n",
              "      <th>type</th>\n",
              "      <th>primary_topic</th>\n",
              "      <th>rating_name</th>\n",
              "    </tr>\n",
              "  </thead>\n",
              "  <tbody>\n",
              "    <tr>\n",
              "      <th>308</th>\n",
              "      <td>t5_2ytof</td>\n",
              "      <td>667</td>\n",
              "      <td>True</td>\n",
              "      <td>None</td>\n",
              "      <td>None</td>\n",
              "      <td>E</td>\n",
              "      <td>None</td>\n",
              "      <td>Music</td>\n",
              "      <td>Everyone</td>\n",
              "    </tr>\n",
              "    <tr>\n",
              "      <th>25323</th>\n",
              "      <td>t5_2zcwdh</td>\n",
              "      <td>leakoeln50667</td>\n",
              "      <td>False</td>\n",
              "      <td>None</td>\n",
              "      <td>None</td>\n",
              "      <td>None</td>\n",
              "      <td>None</td>\n",
              "      <td>None</td>\n",
              "      <td>None</td>\n",
              "    </tr>\n",
              "  </tbody>\n",
              "</table>\n",
              "</div>\n",
              "      <button class=\"colab-df-convert\" onclick=\"convertToInteractive('df-a282cfdc-e992-47cb-8d1a-e896629d97ac')\"\n",
              "              title=\"Convert this dataframe to an interactive table.\"\n",
              "              style=\"display:none;\">\n",
              "        \n",
              "  <svg xmlns=\"http://www.w3.org/2000/svg\" height=\"24px\"viewBox=\"0 0 24 24\"\n",
              "       width=\"24px\">\n",
              "    <path d=\"M0 0h24v24H0V0z\" fill=\"none\"/>\n",
              "    <path d=\"M18.56 5.44l.94 2.06.94-2.06 2.06-.94-2.06-.94-.94-2.06-.94 2.06-2.06.94zm-11 1L8.5 8.5l.94-2.06 2.06-.94-2.06-.94L8.5 2.5l-.94 2.06-2.06.94zm10 10l.94 2.06.94-2.06 2.06-.94-2.06-.94-.94-2.06-.94 2.06-2.06.94z\"/><path d=\"M17.41 7.96l-1.37-1.37c-.4-.4-.92-.59-1.43-.59-.52 0-1.04.2-1.43.59L10.3 9.45l-7.72 7.72c-.78.78-.78 2.05 0 2.83L4 21.41c.39.39.9.59 1.41.59.51 0 1.02-.2 1.41-.59l7.78-7.78 2.81-2.81c.8-.78.8-2.07 0-2.86zM5.41 20L4 18.59l7.72-7.72 1.47 1.35L5.41 20z\"/>\n",
              "  </svg>\n",
              "      </button>\n",
              "      \n",
              "  <style>\n",
              "    .colab-df-container {\n",
              "      display:flex;\n",
              "      flex-wrap:wrap;\n",
              "      gap: 12px;\n",
              "    }\n",
              "\n",
              "    .colab-df-convert {\n",
              "      background-color: #E8F0FE;\n",
              "      border: none;\n",
              "      border-radius: 50%;\n",
              "      cursor: pointer;\n",
              "      display: none;\n",
              "      fill: #1967D2;\n",
              "      height: 32px;\n",
              "      padding: 0 0 0 0;\n",
              "      width: 32px;\n",
              "    }\n",
              "\n",
              "    .colab-df-convert:hover {\n",
              "      background-color: #E2EBFA;\n",
              "      box-shadow: 0px 1px 2px rgba(60, 64, 67, 0.3), 0px 1px 3px 1px rgba(60, 64, 67, 0.15);\n",
              "      fill: #174EA6;\n",
              "    }\n",
              "\n",
              "    [theme=dark] .colab-df-convert {\n",
              "      background-color: #3B4455;\n",
              "      fill: #D2E3FC;\n",
              "    }\n",
              "\n",
              "    [theme=dark] .colab-df-convert:hover {\n",
              "      background-color: #434B5C;\n",
              "      box-shadow: 0px 1px 3px 1px rgba(0, 0, 0, 0.15);\n",
              "      filter: drop-shadow(0px 1px 2px rgba(0, 0, 0, 0.3));\n",
              "      fill: #FFFFFF;\n",
              "    }\n",
              "  </style>\n",
              "\n",
              "      <script>\n",
              "        const buttonEl =\n",
              "          document.querySelector('#df-a282cfdc-e992-47cb-8d1a-e896629d97ac button.colab-df-convert');\n",
              "        buttonEl.style.display =\n",
              "          google.colab.kernel.accessAllowed ? 'block' : 'none';\n",
              "\n",
              "        async function convertToInteractive(key) {\n",
              "          const element = document.querySelector('#df-a282cfdc-e992-47cb-8d1a-e896629d97ac');\n",
              "          const dataTable =\n",
              "            await google.colab.kernel.invokeFunction('convertToInteractive',\n",
              "                                                     [key], {});\n",
              "          if (!dataTable) return;\n",
              "\n",
              "          const docLinkHtml = 'Like what you see? Visit the ' +\n",
              "            '<a target=\"_blank\" href=https://colab.research.google.com/notebooks/data_table.ipynb>data table notebook</a>'\n",
              "            + ' to learn more about interactive tables.';\n",
              "          element.innerHTML = '';\n",
              "          dataTable['output_type'] = 'display_data';\n",
              "          await google.colab.output.renderOutput(dataTable, element);\n",
              "          const docLink = document.createElement('div');\n",
              "          docLink.innerHTML = docLinkHtml;\n",
              "          element.appendChild(docLink);\n",
              "        }\n",
              "      </script>\n",
              "    </div>\n",
              "  </div>\n",
              "  "
            ],
            "application/vnd.google.colaboratory.module+javascript": "\n      import \"https://ssl.gstatic.com/colaboratory/data_table/81f25a011006ed3d/data_table.js\";\n\n      window.createDataTable({\n        data: [[{\n            'v': 308,\n            'f': \"308\",\n        },\n\"t5_2ytof\",\n\"667\",\ntrue,\n{\n            'v': null,\n            'f': \"null\",\n        },\n{\n            'v': null,\n            'f': \"null\",\n        },\n\"E\",\n{\n            'v': null,\n            'f': \"null\",\n        },\n\"Music\",\n\"Everyone\"],\n [{\n            'v': 25323,\n            'f': \"25323\",\n        },\n\"t5_2zcwdh\",\n\"leakoeln50667\",\nfalse,\n{\n            'v': null,\n            'f': \"null\",\n        },\n{\n            'v': null,\n            'f': \"null\",\n        },\nnull,\n{\n            'v': null,\n            'f': \"null\",\n        },\nnull,\nnull]],\n        columns: [[\"number\", \"index\"], [\"string\", \"subreddit_id\"], [\"string\", \"subreddit_name\"], [\"string\", \"rated_e_latest\"], [\"number\", \"over_18\"], [\"number\", \"allow_discovery\"], [\"string\", \"rating_short\"], [\"number\", \"type\"], [\"string\", \"primary_topic\"], [\"string\", \"rating_name\"]],\n        columnOptions: [{\"width\": \"1px\", \"className\": \"index_column\"}],\n        rowsPerPage: 25,\n        helpUrl: \"https://colab.research.google.com/notebooks/data_table.ipynb\",\n        suppressOutputScrolling: true,\n        minimumWidth: undefined,\n      });\n    "
          },
          "metadata": {},
          "execution_count": 40
        }
      ]
    },
    {
      "cell_type": "markdown",
      "source": [
        "# Google sheet with subreddits to exclude\n",
        "Spiros created [this sheet](https://docs.google.com/spreadsheets/d/1JiDpiLa8RKRTC0ZxjLI0ISgtngAFWTEbsoYEoeeaVO8/edit#gid=733540374) for subs that are missing rating or have ratings that look wrong.\n",
        "\n",
        "To be safe, we'll be excluding all the subs in these sheets.\n"
      ],
      "metadata": {
        "id": "OiDPbwH1tApB"
      }
    },
    {
      "cell_type": "code",
      "source": [
        "GSHEET_KEY_EXCLUDES = '1JiDpiLa8RKRTC0ZxjLI0ISgtngAFWTEbsoYEoeeaVO8'\n",
        "sh_filter = gc.open_by_key(GSHEET_KEY_EXCLUDES)\n",
        "\n",
        "df_subs_to_filter = get_subs_to_filter_as_df(sh_filter, cols_to_keep='core')"
      ],
      "metadata": {
        "colab": {
          "base_uri": "https://localhost:8080/"
        },
        "id": "A7bxTP2PtOlP",
        "outputId": "7f561417-d39a-4e7b-af95-b58231113f08"
      },
      "execution_count": null,
      "outputs": [
        {
          "output_type": "stream",
          "name": "stderr",
          "text": [
            "100%|██████████| 8/8 [00:09<00:00,  1.14s/it]"
          ]
        },
        {
          "output_type": "stream",
          "name": "stdout",
          "text": [
            "\n",
            "(1374, 3) <- df_subs to filter shape\n"
          ]
        },
        {
          "output_type": "stream",
          "name": "stderr",
          "text": [
            "\n"
          ]
        }
      ]
    },
    {
      "cell_type": "code",
      "source": [
        "counts_describe(df_subs_to_filter)"
      ],
      "metadata": {
        "colab": {
          "base_uri": "https://localhost:8080/",
          "height": 144
        },
        "id": "EpAlf4ewtOex",
        "outputId": "08cadde6-c706-47eb-cf5a-bc112cf34ce7"
      },
      "execution_count": null,
      "outputs": [
        {
          "output_type": "execute_result",
          "data": {
            "text/plain": [
              "<pandas.io.formats.style.Styler at 0x7fd9bd6a28d0>"
            ],
            "text/html": [
              "<style type=\"text/css\">\n",
              "</style>\n",
              "<table id=\"T_c87bc_\" class=\"dataframe\">\n",
              "  <thead>\n",
              "    <tr>\n",
              "      <th class=\"blank level0\" >&nbsp;</th>\n",
              "      <th class=\"col_heading level0 col0\" >dtype</th>\n",
              "      <th class=\"col_heading level0 col1\" >count</th>\n",
              "      <th class=\"col_heading level0 col2\" >unique</th>\n",
              "      <th class=\"col_heading level0 col3\" >unique-percent</th>\n",
              "      <th class=\"col_heading level0 col4\" >null-count</th>\n",
              "      <th class=\"col_heading level0 col5\" >null-percent</th>\n",
              "    </tr>\n",
              "  </thead>\n",
              "  <tbody>\n",
              "    <tr>\n",
              "      <th id=\"T_c87bc_level0_row0\" class=\"row_heading level0 row0\" >subreddit_name</th>\n",
              "      <td id=\"T_c87bc_row0_col0\" class=\"data row0 col0\" >object</td>\n",
              "      <td id=\"T_c87bc_row0_col1\" class=\"data row0 col1\" >1,373</td>\n",
              "      <td id=\"T_c87bc_row0_col2\" class=\"data row0 col2\" >1,373</td>\n",
              "      <td id=\"T_c87bc_row0_col3\" class=\"data row0 col3\" >100.00%</td>\n",
              "      <td id=\"T_c87bc_row0_col4\" class=\"data row0 col4\" >1</td>\n",
              "      <td id=\"T_c87bc_row0_col5\" class=\"data row0 col5\" >0.07%</td>\n",
              "    </tr>\n",
              "    <tr>\n",
              "      <th id=\"T_c87bc_level0_row1\" class=\"row_heading level0 row1\" >category</th>\n",
              "      <td id=\"T_c87bc_row1_col0\" class=\"data row1 col0\" >object</td>\n",
              "      <td id=\"T_c87bc_row1_col1\" class=\"data row1 col1\" >1,374</td>\n",
              "      <td id=\"T_c87bc_row1_col2\" class=\"data row1 col2\" >88</td>\n",
              "      <td id=\"T_c87bc_row1_col3\" class=\"data row1 col3\" >6.40%</td>\n",
              "      <td id=\"T_c87bc_row1_col4\" class=\"data row1 col4\" >0</td>\n",
              "      <td id=\"T_c87bc_row1_col5\" class=\"data row1 col5\" >0.00%</td>\n",
              "    </tr>\n",
              "    <tr>\n",
              "      <th id=\"T_c87bc_level0_row2\" class=\"row_heading level0 row2\" >request_type</th>\n",
              "      <td id=\"T_c87bc_row2_col0\" class=\"data row2 col0\" >object</td>\n",
              "      <td id=\"T_c87bc_row2_col1\" class=\"data row2 col1\" >1,374</td>\n",
              "      <td id=\"T_c87bc_row2_col2\" class=\"data row2 col2\" >9</td>\n",
              "      <td id=\"T_c87bc_row2_col3\" class=\"data row2 col3\" >0.66%</td>\n",
              "      <td id=\"T_c87bc_row2_col4\" class=\"data row2 col4\" >0</td>\n",
              "      <td id=\"T_c87bc_row2_col5\" class=\"data row2 col5\" >0.00%</td>\n",
              "    </tr>\n",
              "  </tbody>\n",
              "</table>\n"
            ]
          },
          "metadata": {},
          "execution_count": 14
        }
      ]
    },
    {
      "cell_type": "code",
      "source": [
        "df_subs_to_filter.tail()"
      ],
      "metadata": {
        "colab": {
          "base_uri": "https://localhost:8080/",
          "height": 197
        },
        "id": "2B07Vzwl0HL5",
        "outputId": "e2ff9633-4ed3-4a32-9a89-2f576edf96b5"
      },
      "execution_count": null,
      "outputs": [
        {
          "output_type": "execute_result",
          "data": {
            "text/plain": [
              "     subreddit_name                   category    request_type\n",
              "648     liraglutide  Medical and Mental Health  Recheck Rating\n",
              "650  b12_deficiency  Medical and Mental Health  Recheck Rating\n",
              "652        epilepsy  Medical and Mental Health  Recheck Rating\n",
              "654             iih  Medical and Mental Health  Recheck Rating\n",
              "659       tourettes  Medical and Mental Health  Recheck Rating"
            ],
            "text/html": [
              "\n",
              "  <div id=\"df-119352a7-e155-4139-b2aa-8d3c217c16cd\">\n",
              "    <div class=\"colab-df-container\">\n",
              "      <div>\n",
              "<style scoped>\n",
              "    .dataframe tbody tr th:only-of-type {\n",
              "        vertical-align: middle;\n",
              "    }\n",
              "\n",
              "    .dataframe tbody tr th {\n",
              "        vertical-align: top;\n",
              "    }\n",
              "\n",
              "    .dataframe thead th {\n",
              "        text-align: right;\n",
              "    }\n",
              "</style>\n",
              "<table border=\"1\" class=\"dataframe\">\n",
              "  <thead>\n",
              "    <tr style=\"text-align: right;\">\n",
              "      <th></th>\n",
              "      <th>subreddit_name</th>\n",
              "      <th>category</th>\n",
              "      <th>request_type</th>\n",
              "    </tr>\n",
              "  </thead>\n",
              "  <tbody>\n",
              "    <tr>\n",
              "      <th>648</th>\n",
              "      <td>liraglutide</td>\n",
              "      <td>Medical and Mental Health</td>\n",
              "      <td>Recheck Rating</td>\n",
              "    </tr>\n",
              "    <tr>\n",
              "      <th>650</th>\n",
              "      <td>b12_deficiency</td>\n",
              "      <td>Medical and Mental Health</td>\n",
              "      <td>Recheck Rating</td>\n",
              "    </tr>\n",
              "    <tr>\n",
              "      <th>652</th>\n",
              "      <td>epilepsy</td>\n",
              "      <td>Medical and Mental Health</td>\n",
              "      <td>Recheck Rating</td>\n",
              "    </tr>\n",
              "    <tr>\n",
              "      <th>654</th>\n",
              "      <td>iih</td>\n",
              "      <td>Medical and Mental Health</td>\n",
              "      <td>Recheck Rating</td>\n",
              "    </tr>\n",
              "    <tr>\n",
              "      <th>659</th>\n",
              "      <td>tourettes</td>\n",
              "      <td>Medical and Mental Health</td>\n",
              "      <td>Recheck Rating</td>\n",
              "    </tr>\n",
              "  </tbody>\n",
              "</table>\n",
              "</div>\n",
              "      <button class=\"colab-df-convert\" onclick=\"convertToInteractive('df-119352a7-e155-4139-b2aa-8d3c217c16cd')\"\n",
              "              title=\"Convert this dataframe to an interactive table.\"\n",
              "              style=\"display:none;\">\n",
              "        \n",
              "  <svg xmlns=\"http://www.w3.org/2000/svg\" height=\"24px\"viewBox=\"0 0 24 24\"\n",
              "       width=\"24px\">\n",
              "    <path d=\"M0 0h24v24H0V0z\" fill=\"none\"/>\n",
              "    <path d=\"M18.56 5.44l.94 2.06.94-2.06 2.06-.94-2.06-.94-.94-2.06-.94 2.06-2.06.94zm-11 1L8.5 8.5l.94-2.06 2.06-.94-2.06-.94L8.5 2.5l-.94 2.06-2.06.94zm10 10l.94 2.06.94-2.06 2.06-.94-2.06-.94-.94-2.06-.94 2.06-2.06.94z\"/><path d=\"M17.41 7.96l-1.37-1.37c-.4-.4-.92-.59-1.43-.59-.52 0-1.04.2-1.43.59L10.3 9.45l-7.72 7.72c-.78.78-.78 2.05 0 2.83L4 21.41c.39.39.9.59 1.41.59.51 0 1.02-.2 1.41-.59l7.78-7.78 2.81-2.81c.8-.78.8-2.07 0-2.86zM5.41 20L4 18.59l7.72-7.72 1.47 1.35L5.41 20z\"/>\n",
              "  </svg>\n",
              "      </button>\n",
              "      \n",
              "  <style>\n",
              "    .colab-df-container {\n",
              "      display:flex;\n",
              "      flex-wrap:wrap;\n",
              "      gap: 12px;\n",
              "    }\n",
              "\n",
              "    .colab-df-convert {\n",
              "      background-color: #E8F0FE;\n",
              "      border: none;\n",
              "      border-radius: 50%;\n",
              "      cursor: pointer;\n",
              "      display: none;\n",
              "      fill: #1967D2;\n",
              "      height: 32px;\n",
              "      padding: 0 0 0 0;\n",
              "      width: 32px;\n",
              "    }\n",
              "\n",
              "    .colab-df-convert:hover {\n",
              "      background-color: #E2EBFA;\n",
              "      box-shadow: 0px 1px 2px rgba(60, 64, 67, 0.3), 0px 1px 3px 1px rgba(60, 64, 67, 0.15);\n",
              "      fill: #174EA6;\n",
              "    }\n",
              "\n",
              "    [theme=dark] .colab-df-convert {\n",
              "      background-color: #3B4455;\n",
              "      fill: #D2E3FC;\n",
              "    }\n",
              "\n",
              "    [theme=dark] .colab-df-convert:hover {\n",
              "      background-color: #434B5C;\n",
              "      box-shadow: 0px 1px 3px 1px rgba(0, 0, 0, 0.15);\n",
              "      filter: drop-shadow(0px 1px 2px rgba(0, 0, 0, 0.3));\n",
              "      fill: #FFFFFF;\n",
              "    }\n",
              "  </style>\n",
              "\n",
              "      <script>\n",
              "        const buttonEl =\n",
              "          document.querySelector('#df-119352a7-e155-4139-b2aa-8d3c217c16cd button.colab-df-convert');\n",
              "        buttonEl.style.display =\n",
              "          google.colab.kernel.accessAllowed ? 'block' : 'none';\n",
              "\n",
              "        async function convertToInteractive(key) {\n",
              "          const element = document.querySelector('#df-119352a7-e155-4139-b2aa-8d3c217c16cd');\n",
              "          const dataTable =\n",
              "            await google.colab.kernel.invokeFunction('convertToInteractive',\n",
              "                                                     [key], {});\n",
              "          if (!dataTable) return;\n",
              "\n",
              "          const docLinkHtml = 'Like what you see? Visit the ' +\n",
              "            '<a target=\"_blank\" href=https://colab.research.google.com/notebooks/data_table.ipynb>data table notebook</a>'\n",
              "            + ' to learn more about interactive tables.';\n",
              "          element.innerHTML = '';\n",
              "          dataTable['output_type'] = 'display_data';\n",
              "          await google.colab.output.renderOutput(dataTable, element);\n",
              "          const docLink = document.createElement('div');\n",
              "          docLink.innerHTML = docLinkHtml;\n",
              "          element.appendChild(docLink);\n",
              "        }\n",
              "      </script>\n",
              "    </div>\n",
              "  </div>\n",
              "  "
            ],
            "application/vnd.google.colaboratory.module+javascript": "\n      import \"https://ssl.gstatic.com/colaboratory/data_table/81f25a011006ed3d/data_table.js\";\n\n      window.createDataTable({\n        data: [[{\n            'v': 648,\n            'f': \"648\",\n        },\n\"liraglutide\",\n\"Medical and Mental Health\",\n\"Recheck Rating\"],\n [{\n            'v': 650,\n            'f': \"650\",\n        },\n\"b12_deficiency\",\n\"Medical and Mental Health\",\n\"Recheck Rating\"],\n [{\n            'v': 652,\n            'f': \"652\",\n        },\n\"epilepsy\",\n\"Medical and Mental Health\",\n\"Recheck Rating\"],\n [{\n            'v': 654,\n            'f': \"654\",\n        },\n\"iih\",\n\"Medical and Mental Health\",\n\"Recheck Rating\"],\n [{\n            'v': 659,\n            'f': \"659\",\n        },\n\"tourettes\",\n\"Medical and Mental Health\",\n\"Recheck Rating\"]],\n        columns: [[\"number\", \"index\"], [\"string\", \"subreddit_name\"], [\"string\", \"category\"], [\"string\", \"request_type\"]],\n        columnOptions: [{\"width\": \"1px\", \"className\": \"index_column\"}],\n        rowsPerPage: 25,\n        helpUrl: \"https://colab.research.google.com/notebooks/data_table.ipynb\",\n        suppressOutputScrolling: true,\n        minimumWidth: undefined,\n      });\n    "
          },
          "metadata": {},
          "execution_count": 15
        }
      ]
    },
    {
      "cell_type": "markdown",
      "metadata": {
        "id": "DzFMkIHFdmQd"
      },
      "source": [
        "# Read QA results from sheet"
      ]
    },
    {
      "cell_type": "code",
      "metadata": {
        "colab": {
          "base_uri": "https://localhost:8080/"
        },
        "id": "jGP6NXGSboGu",
        "outputId": "65a9f7c2-17f4-4820-cb63-edde0b4a1c65"
      },
      "source": [
        "%%time\n",
        "df_qa_raw = pd.DataFrame(\n",
        "    d_wsh_names['qa_ready']['worksheet'].get_all_records()\n",
        ")\n",
        "df_qa_raw = df_qa_raw.rename(columns={k: k.lower().strip().replace(' ', '_') for k in df_qa_raw.columns})\n",
        "\n",
        "print(df_qa_raw.shape)"
      ],
      "execution_count": null,
      "outputs": [
        {
          "output_type": "stream",
          "name": "stdout",
          "text": [
            "(330, 36)\n",
            "CPU times: user 50.5 ms, sys: 389 µs, total: 50.9 ms\n",
            "Wall time: 644 ms\n"
          ]
        }
      ]
    },
    {
      "cell_type": "markdown",
      "source": [
        "# Reshape & filter data"
      ],
      "metadata": {
        "id": "Lu5ZLBzTEo7B"
      }
    },
    {
      "cell_type": "markdown",
      "metadata": {
        "id": "I_Q_ptCghuxM"
      },
      "source": [
        "## Add latest ratings to df with QA results\n",
        "\n",
        "We need the latest ratings & flags to make sure filters are up to date"
      ]
    },
    {
      "cell_type": "code",
      "source": [
        "latest_suffix = '_latest'\n",
        "\n",
        "col_rating_latest = f'rating_short{latest_suffix}'\n",
        "col_over_18_latest = f'over_18{latest_suffix}'\n",
        "col_rated_e_latest = 'rated_e_latest'\n",
        "col_allow_discovery_latest = 'allow_discovery_latest'\n",
        "col_primary_topic_latest = f\"primary_topic{latest_suffix}\"\n",
        "col_country_relevant = f'not_country_relevant'\n",
        "col_releveant_to_cluster = f'relevant_to_cluster/_other_subreddits_in_cluster'\n",
        "col_safe_to_show_in_cluster = f'safe_to_show_in_relation_to_cluster'\n",
        "\n",
        "col_new_cluster_val = 'cluster_label'\n",
        "col_new_cluster_name = 'cluster_label_k'\n",
        "col_model_sort_order = 'model_sort_order'\n",
        "\n",
        "l_cols_to_front = [\n",
        "    'subreddit_id',\n",
        "    'subreddit_name',\n",
        "    col_rated_e_latest,\n",
        "    col_over_18_latest,\n",
        "    col_allow_discovery_latest,\n",
        "    col_country_relevant,\n",
        "    col_releveant_to_cluster,\n",
        "    col_safe_to_show_in_cluster,\n",
        "\n",
        "    col_rating_latest,\n",
        "    'type',\n",
        "    col_primary_topic_latest,\n",
        "    col_new_cluster_val,\n",
        "    col_model_sort_order,\n",
        "    col_new_cluster_name,\n",
        "    'rating_short',\n",
        "    'over_18',\n",
        "\n",
        "]"
      ],
      "metadata": {
        "id": "JcIUKzb3E-o1"
      },
      "execution_count": null,
      "outputs": []
    },
    {
      "cell_type": "code",
      "metadata": {
        "id": "rA5LyTuSiE6Q",
        "colab": {
          "base_uri": "https://localhost:8080/"
        },
        "outputId": "0c99114d-4dd4-4382-a6d3-66fac1c4cf34"
      },
      "source": [
        "df_qa_latest = (\n",
        "    df_latest_ratings.drop(['subreddit_name'], axis=1)\n",
        "    .merge(\n",
        "        df_qa_raw,\n",
        "        how='right',\n",
        "        on=['subreddit_id', ],\n",
        "        suffixes=(latest_suffix, ''),\n",
        "    )\n",
        "    .sort_values(\n",
        "        by=[col_model_sort_order], ascending=True,\n",
        "    )\n",
        ")\n",
        "\n",
        "# make sure all objects in col are str so we can sort by it\n",
        "df_qa_latest[col_new_cluster_val] = df_qa_latest[col_new_cluster_val].astype(str)\n",
        "\n",
        "df_qa_latest = df_qa_latest[\n",
        "    reorder_array(\n",
        "        l_cols_to_front,\n",
        "        df_qa_latest.columns\n",
        "    )\n",
        "]\n",
        "print(df_qa_latest.shape)"
      ],
      "execution_count": null,
      "outputs": [
        {
          "output_type": "stream",
          "name": "stdout",
          "text": [
            "(330, 43)\n"
          ]
        }
      ]
    },
    {
      "cell_type": "code",
      "source": [
        "# style_df_numeric(\n",
        "#     df_qa_latest.iloc[:5, :15],\n",
        "#     rename_cols_for_display=True,\n",
        "# )"
      ],
      "metadata": {
        "id": "0S34UsgJKUYY"
      },
      "execution_count": null,
      "outputs": []
    },
    {
      "cell_type": "markdown",
      "source": [
        "## Drop sensitive subreddits\n",
        "\n",
        "These have been flagged as too sensitive or risky to show up in recommendations, so we're excluding them even if the crowd-sourced rating is `E` (people troll... it's reddit, after all)."
      ],
      "metadata": {
        "id": "TMVDT3E_OLeS"
      }
    },
    {
      "cell_type": "code",
      "source": [
        "# might need to re-import in order for live updates to show up\n",
        "from subclu.models.reshape_clusters_v041 import (\n",
        "    _L_MATURE_CLUSTERS_TO_EXCLUDE_FROM_QA_,\n",
        "    _L_SENSITIVE_SUBREDDITS_TO_EXCLUDE_FROM_FPRS_,\n",
        "    remove_sensitive_clusters_and_subs,\n",
        "    print_subreddit_name_qa_checks,\n",
        "    apply_qa_filters_for_fpr,\n",
        ")\n",
        "\n",
        "print(len(_L_SENSITIVE_SUBREDDITS_TO_EXCLUDE_FROM_FPRS_))\n",
        "_L_SENSITIVE_SUBREDDITS_TO_EXCLUDE_FROM_FPRS_[30:38]"
      ],
      "metadata": {
        "colab": {
          "base_uri": "https://localhost:8080/"
        },
        "id": "3jEaoD7LdGbY",
        "outputId": "fbcd941c-a8f1-431b-d195-becaae247862"
      },
      "execution_count": null,
      "outputs": [
        {
          "output_type": "stream",
          "name": "stdout",
          "text": [
            "88\n"
          ]
        },
        {
          "output_type": "execute_result",
          "data": {
            "text/plain": [
              "['askthe_donald',\n",
              " 'benshapiro',\n",
              " 'tucker_carlson',\n",
              " 'trueanon',\n",
              " 'beholdthemasterrace',\n",
              " 'globallockdown',\n",
              " 'nurembergtwo',\n",
              " 'covidiots']"
            ]
          },
          "metadata": {},
          "execution_count": 43
        }
      ]
    },
    {
      "cell_type": "code",
      "source": [
        "df_qa_clean = remove_sensitive_clusters_and_subs(\n",
        "    df_qa_latest,\n",
        "    additional_subs_to_filter=df_subs_to_filter['subreddit_name'],\n",
        "    col_new_cluster_val='cluster_label',\n",
        "    print_qa_check=True,\n",
        ")"
      ],
      "metadata": {
        "colab": {
          "base_uri": "https://localhost:8080/"
        },
        "id": "jJsjaUOIt4k6",
        "outputId": "b5e9f161-d6bd-4686-ce46-05ed5a46c3b3"
      },
      "execution_count": null,
      "outputs": [
        {
          "output_type": "stream",
          "name": "stdout",
          "text": [
            "(330, 43) <- Initial shape\n",
            "(330, 43) <- Shape AFTER dropping place-clusters\n",
            "(330, 43) <- Shape AFTER dropping covid-clusters\n",
            "(330, 43) <- Shape AFTER dropping sensitive clusters\n",
            "(209, 43) <- Shape AFTER dropping flagged subs A\n",
            "(209, 43) <- Shape AFTER dropping flagged subs B\n",
            "(208, 43) <- Shape AFTER dropping covid-related subs\n",
            "122 <- Total subreddits removed\n",
            "\n",
            "QA keyword subreddit checks:\n",
            "\n"
          ]
        }
      ]
    },
    {
      "cell_type": "markdown",
      "metadata": {
        "id": "UeRLdnYk8lOZ"
      },
      "source": [
        "# Apply filters based on QA + latest ratings\n",
        "\n",
        "Keep only subreddits that\n",
        "- Are rated as `E`\n",
        "    - Double check: `over_18` should be `f` or `NULL` \n",
        "- Relevant to country (`TRUE`)\n",
        "- Relevant to cluster (`TRUE`)\n",
        "- Safe to show in cluster (`TRUE`)\n",
        "- Have the `allow_discovery` flag to `t` or `NULL` (i.e., NOT `f`) \n"
      ]
    },
    {
      "cell_type": "code",
      "source": [
        "l_cols_qa = [\n",
        "    col_country_relevant,\n",
        "    col_releveant_to_cluster,\n",
        "    col_safe_to_show_in_cluster,\n",
        "    col_rated_e_latest,\n",
        "    col_allow_discovery_latest,\n",
        "    col_over_18_latest,\n",
        "]"
      ],
      "metadata": {
        "id": "E0PFAqkBTBlO"
      },
      "execution_count": null,
      "outputs": []
    },
    {
      "cell_type": "markdown",
      "source": [
        "### Check each column individually"
      ],
      "metadata": {
        "id": "dVXfcDlqWjPe"
      }
    },
    {
      "cell_type": "code",
      "source": [
        "for c_ in l_cols_qa:\n",
        "    display(\n",
        "        value_counts_and_pcts(\n",
        "            df_qa_clean,\n",
        "            c_,\n",
        "            add_col_prefix=False,\n",
        "            reset_index=True,\n",
        "            sort_index=True, cumsum=False,\n",
        "            count_type='subreddits',\n",
        "            rename_cols_for_display=True,\n",
        "        )\n",
        "    )\n",
        "    print('')"
      ],
      "metadata": {
        "colab": {
          "base_uri": "https://localhost:8080/",
          "height": 701
        },
        "id": "dzZ-LgVgUP9e",
        "outputId": "f8d1b004-091c-4ed8-ddf3-74b360b5dc88"
      },
      "execution_count": null,
      "outputs": [
        {
          "output_type": "display_data",
          "data": {
            "text/plain": [
              "<pandas.io.formats.style.Styler at 0x7fd9bd161c50>"
            ],
            "text/html": [
              "<style type=\"text/css\">\n",
              "#T_9fd66_row0_col2 {\n",
              "  width: 10em;\n",
              "  height: 80%;\n",
              "}\n",
              "</style>\n",
              "<table id=\"T_9fd66_\" class=\"dataframe\">\n",
              "  <thead>\n",
              "    <tr>\n",
              "      <th class=\"blank level0\" >&nbsp;</th>\n",
              "      <th class=\"col_heading level0 col0\" >not country relevant</th>\n",
              "      <th class=\"col_heading level0 col1\" >subreddits count</th>\n",
              "      <th class=\"col_heading level0 col2\" >percent of subreddits</th>\n",
              "    </tr>\n",
              "  </thead>\n",
              "  <tbody>\n",
              "    <tr>\n",
              "      <th id=\"T_9fd66_level0_row0\" class=\"row_heading level0 row0\" >0</th>\n",
              "      <td id=\"T_9fd66_row0_col0\" class=\"data row0 col0\" ></td>\n",
              "      <td id=\"T_9fd66_row0_col1\" class=\"data row0 col1\" >208</td>\n",
              "      <td id=\"T_9fd66_row0_col2\" class=\"data row0 col2\" >100.0%</td>\n",
              "    </tr>\n",
              "  </tbody>\n",
              "</table>\n"
            ]
          },
          "metadata": {}
        },
        {
          "output_type": "stream",
          "name": "stdout",
          "text": [
            "\n"
          ]
        },
        {
          "output_type": "display_data",
          "data": {
            "text/plain": [
              "<pandas.io.formats.style.Styler at 0x7fd9bb5f3510>"
            ],
            "text/html": [
              "<style type=\"text/css\">\n",
              "#T_44c1d_row0_col2 {\n",
              "  width: 10em;\n",
              "  height: 80%;\n",
              "}\n",
              "#T_44c1d_row1_col2 {\n",
              "  width: 10em;\n",
              "  height: 80%;\n",
              "  background: linear-gradient(90deg,#95cff5 100.0%, transparent 100.0%);\n",
              "}\n",
              "</style>\n",
              "<table id=\"T_44c1d_\" class=\"dataframe\">\n",
              "  <thead>\n",
              "    <tr>\n",
              "      <th class=\"blank level0\" >&nbsp;</th>\n",
              "      <th class=\"col_heading level0 col0\" >relevant to cluster/ other subreddits in cluster</th>\n",
              "      <th class=\"col_heading level0 col1\" >subreddits count</th>\n",
              "      <th class=\"col_heading level0 col2\" >percent of subreddits</th>\n",
              "    </tr>\n",
              "  </thead>\n",
              "  <tbody>\n",
              "    <tr>\n",
              "      <th id=\"T_44c1d_level0_row0\" class=\"row_heading level0 row0\" >0</th>\n",
              "      <td id=\"T_44c1d_row0_col0\" class=\"data row0 col0\" >FALSE</td>\n",
              "      <td id=\"T_44c1d_row0_col1\" class=\"data row0 col1\" >73</td>\n",
              "      <td id=\"T_44c1d_row0_col2\" class=\"data row0 col2\" >35.1%</td>\n",
              "    </tr>\n",
              "    <tr>\n",
              "      <th id=\"T_44c1d_level0_row1\" class=\"row_heading level0 row1\" >1</th>\n",
              "      <td id=\"T_44c1d_row1_col0\" class=\"data row1 col0\" >TRUE</td>\n",
              "      <td id=\"T_44c1d_row1_col1\" class=\"data row1 col1\" >135</td>\n",
              "      <td id=\"T_44c1d_row1_col2\" class=\"data row1 col2\" >64.9%</td>\n",
              "    </tr>\n",
              "  </tbody>\n",
              "</table>\n"
            ]
          },
          "metadata": {}
        },
        {
          "output_type": "stream",
          "name": "stdout",
          "text": [
            "\n"
          ]
        },
        {
          "output_type": "display_data",
          "data": {
            "text/plain": [
              "<pandas.io.formats.style.Styler at 0x7fd9bb48b0d0>"
            ],
            "text/html": [
              "<style type=\"text/css\">\n",
              "#T_16068_row0_col2 {\n",
              "  width: 10em;\n",
              "  height: 80%;\n",
              "}\n",
              "#T_16068_row1_col2 {\n",
              "  width: 10em;\n",
              "  height: 80%;\n",
              "  background: linear-gradient(90deg,#95cff5 100.0%, transparent 100.0%);\n",
              "}\n",
              "</style>\n",
              "<table id=\"T_16068_\" class=\"dataframe\">\n",
              "  <thead>\n",
              "    <tr>\n",
              "      <th class=\"blank level0\" >&nbsp;</th>\n",
              "      <th class=\"col_heading level0 col0\" >safe to show in relation to cluster</th>\n",
              "      <th class=\"col_heading level0 col1\" >subreddits count</th>\n",
              "      <th class=\"col_heading level0 col2\" >percent of subreddits</th>\n",
              "    </tr>\n",
              "  </thead>\n",
              "  <tbody>\n",
              "    <tr>\n",
              "      <th id=\"T_16068_level0_row0\" class=\"row_heading level0 row0\" >0</th>\n",
              "      <td id=\"T_16068_row0_col0\" class=\"data row0 col0\" >FALSE</td>\n",
              "      <td id=\"T_16068_row0_col1\" class=\"data row0 col1\" >89</td>\n",
              "      <td id=\"T_16068_row0_col2\" class=\"data row0 col2\" >42.8%</td>\n",
              "    </tr>\n",
              "    <tr>\n",
              "      <th id=\"T_16068_level0_row1\" class=\"row_heading level0 row1\" >1</th>\n",
              "      <td id=\"T_16068_row1_col0\" class=\"data row1 col0\" >TRUE</td>\n",
              "      <td id=\"T_16068_row1_col1\" class=\"data row1 col1\" >119</td>\n",
              "      <td id=\"T_16068_row1_col2\" class=\"data row1 col2\" >57.2%</td>\n",
              "    </tr>\n",
              "  </tbody>\n",
              "</table>\n"
            ]
          },
          "metadata": {}
        },
        {
          "output_type": "stream",
          "name": "stdout",
          "text": [
            "\n"
          ]
        },
        {
          "output_type": "display_data",
          "data": {
            "text/plain": [
              "<pandas.io.formats.style.Styler at 0x7fd9bb4f2550>"
            ],
            "text/html": [
              "<style type=\"text/css\">\n",
              "#T_3f0da_row0_col2 {\n",
              "  width: 10em;\n",
              "  height: 80%;\n",
              "}\n",
              "#T_3f0da_row1_col2 {\n",
              "  width: 10em;\n",
              "  height: 80%;\n",
              "  background: linear-gradient(90deg,#95cff5 100.0%, transparent 100.0%);\n",
              "}\n",
              "</style>\n",
              "<table id=\"T_3f0da_\" class=\"dataframe\">\n",
              "  <thead>\n",
              "    <tr>\n",
              "      <th class=\"blank level0\" >&nbsp;</th>\n",
              "      <th class=\"col_heading level0 col0\" >rated e latest</th>\n",
              "      <th class=\"col_heading level0 col1\" >subreddits count</th>\n",
              "      <th class=\"col_heading level0 col2\" >percent of subreddits</th>\n",
              "    </tr>\n",
              "  </thead>\n",
              "  <tbody>\n",
              "    <tr>\n",
              "      <th id=\"T_3f0da_level0_row0\" class=\"row_heading level0 row0\" >0</th>\n",
              "      <td id=\"T_3f0da_row0_col0\" class=\"data row0 col0\" >False</td>\n",
              "      <td id=\"T_3f0da_row0_col1\" class=\"data row0 col1\" >3</td>\n",
              "      <td id=\"T_3f0da_row0_col2\" class=\"data row0 col2\" >1.4%</td>\n",
              "    </tr>\n",
              "    <tr>\n",
              "      <th id=\"T_3f0da_level0_row1\" class=\"row_heading level0 row1\" >1</th>\n",
              "      <td id=\"T_3f0da_row1_col0\" class=\"data row1 col0\" >True</td>\n",
              "      <td id=\"T_3f0da_row1_col1\" class=\"data row1 col1\" >205</td>\n",
              "      <td id=\"T_3f0da_row1_col2\" class=\"data row1 col2\" >98.6%</td>\n",
              "    </tr>\n",
              "  </tbody>\n",
              "</table>\n"
            ]
          },
          "metadata": {}
        },
        {
          "output_type": "stream",
          "name": "stdout",
          "text": [
            "\n"
          ]
        },
        {
          "output_type": "display_data",
          "data": {
            "text/plain": [
              "<pandas.io.formats.style.Styler at 0x7fd9bda69ad0>"
            ],
            "text/html": [
              "<style type=\"text/css\">\n",
              "#T_34322_row0_col2 {\n",
              "  width: 10em;\n",
              "  height: 80%;\n",
              "}\n",
              "</style>\n",
              "<table id=\"T_34322_\" class=\"dataframe\">\n",
              "  <thead>\n",
              "    <tr>\n",
              "      <th class=\"blank level0\" >&nbsp;</th>\n",
              "      <th class=\"col_heading level0 col0\" >allow discovery latest</th>\n",
              "      <th class=\"col_heading level0 col1\" >subreddits count</th>\n",
              "      <th class=\"col_heading level0 col2\" >percent of subreddits</th>\n",
              "    </tr>\n",
              "  </thead>\n",
              "  <tbody>\n",
              "    <tr>\n",
              "      <th id=\"T_34322_level0_row0\" class=\"row_heading level0 row0\" >0</th>\n",
              "      <td id=\"T_34322_row0_col0\" class=\"data row0 col0\" >nan</td>\n",
              "      <td id=\"T_34322_row0_col1\" class=\"data row0 col1\" >208</td>\n",
              "      <td id=\"T_34322_row0_col2\" class=\"data row0 col2\" >100.0%</td>\n",
              "    </tr>\n",
              "  </tbody>\n",
              "</table>\n"
            ]
          },
          "metadata": {}
        },
        {
          "output_type": "stream",
          "name": "stdout",
          "text": [
            "\n"
          ]
        },
        {
          "output_type": "display_data",
          "data": {
            "text/plain": [
              "<pandas.io.formats.style.Styler at 0x7fd9bc436390>"
            ],
            "text/html": [
              "<style type=\"text/css\">\n",
              "#T_9984d_row0_col2 {\n",
              "  width: 10em;\n",
              "  height: 80%;\n",
              "}\n",
              "</style>\n",
              "<table id=\"T_9984d_\" class=\"dataframe\">\n",
              "  <thead>\n",
              "    <tr>\n",
              "      <th class=\"blank level0\" >&nbsp;</th>\n",
              "      <th class=\"col_heading level0 col0\" >over 18 latest</th>\n",
              "      <th class=\"col_heading level0 col1\" >subreddits count</th>\n",
              "      <th class=\"col_heading level0 col2\" >percent of subreddits</th>\n",
              "    </tr>\n",
              "  </thead>\n",
              "  <tbody>\n",
              "    <tr>\n",
              "      <th id=\"T_9984d_level0_row0\" class=\"row_heading level0 row0\" >0</th>\n",
              "      <td id=\"T_9984d_row0_col0\" class=\"data row0 col0\" >nan</td>\n",
              "      <td id=\"T_9984d_row0_col1\" class=\"data row0 col1\" >208</td>\n",
              "      <td id=\"T_9984d_row0_col2\" class=\"data row0 col2\" >100.0%</td>\n",
              "    </tr>\n",
              "  </tbody>\n",
              "</table>\n"
            ]
          },
          "metadata": {}
        },
        {
          "output_type": "stream",
          "name": "stdout",
          "text": [
            "\n"
          ]
        }
      ]
    },
    {
      "cell_type": "markdown",
      "source": [
        "### Matrix of all conditions in one table\n",
        "\n"
      ],
      "metadata": {
        "id": "DnOsqEChXvbZ"
      }
    },
    {
      "cell_type": "code",
      "metadata": {
        "colab": {
          "base_uri": "https://localhost:8080/",
          "height": 289
        },
        "id": "wjJHp2vB86XO",
        "outputId": "e695870c-e047-4493-8684-9727152477c7"
      },
      "source": [
        "value_counts_and_pcts(\n",
        "    df_qa_clean.fillna(value={col_allow_discovery_latest: 't', col_over_18_latest: 'f'}),\n",
        "    l_cols_qa[:],\n",
        "    add_col_prefix=False,\n",
        "    # reset_index=True,\n",
        "    sort_index=True, cumsum=False,\n",
        "    count_type='subreddits',\n",
        "    rename_cols_for_display=True,\n",
        ")"
      ],
      "execution_count": null,
      "outputs": [
        {
          "output_type": "execute_result",
          "data": {
            "text/plain": [
              "<pandas.io.formats.style.Styler at 0x7fd9bd5890d0>"
            ],
            "text/html": [
              "<style type=\"text/css\">\n",
              "#T_4870d_row0_col1 {\n",
              "  width: 10em;\n",
              "  height: 80%;\n",
              "  background: linear-gradient(90deg,#95cff5 0.9%, transparent 0.9%);\n",
              "}\n",
              "#T_4870d_row1_col1 {\n",
              "  width: 10em;\n",
              "  height: 80%;\n",
              "  background: linear-gradient(90deg,#95cff5 59.8%, transparent 59.8%);\n",
              "}\n",
              "#T_4870d_row2_col1 {\n",
              "  width: 10em;\n",
              "  height: 80%;\n",
              "  background: linear-gradient(90deg,#95cff5 12.8%, transparent 12.8%);\n",
              "}\n",
              "#T_4870d_row3_col1 {\n",
              "  width: 10em;\n",
              "  height: 80%;\n",
              "}\n",
              "#T_4870d_row4_col1 {\n",
              "  width: 10em;\n",
              "  height: 80%;\n",
              "  background: linear-gradient(90deg,#95cff5 100.0%, transparent 100.0%);\n",
              "}\n",
              "</style>\n",
              "<table id=\"T_4870d_\" class=\"dataframe\">\n",
              "  <thead>\n",
              "    <tr>\n",
              "      <th class=\"blank\" >&nbsp;</th>\n",
              "      <th class=\"blank\" >&nbsp;</th>\n",
              "      <th class=\"blank\" >&nbsp;</th>\n",
              "      <th class=\"blank\" >&nbsp;</th>\n",
              "      <th class=\"blank\" >&nbsp;</th>\n",
              "      <th class=\"blank level0\" >&nbsp;</th>\n",
              "      <th class=\"col_heading level0 col0\" >subreddits count</th>\n",
              "      <th class=\"col_heading level0 col1\" >percent of subreddits</th>\n",
              "    </tr>\n",
              "    <tr>\n",
              "      <th class=\"index_name level0\" >not country relevant</th>\n",
              "      <th class=\"index_name level1\" >relevant to cluster/ other subreddits in cluster</th>\n",
              "      <th class=\"index_name level2\" >safe to show in relation to cluster</th>\n",
              "      <th class=\"index_name level3\" >rated e latest</th>\n",
              "      <th class=\"index_name level4\" >allow discovery latest</th>\n",
              "      <th class=\"index_name level5\" >over 18 latest</th>\n",
              "      <th class=\"blank col0\" >&nbsp;</th>\n",
              "      <th class=\"blank col1\" >&nbsp;</th>\n",
              "    </tr>\n",
              "  </thead>\n",
              "  <tbody>\n",
              "    <tr>\n",
              "      <th id=\"T_4870d_level0_row0\" class=\"row_heading level0 row0\" rowspan=\"5\"></th>\n",
              "      <th id=\"T_4870d_level1_row0\" class=\"row_heading level1 row0\" rowspan=\"2\">FALSE</th>\n",
              "      <th id=\"T_4870d_level2_row0\" class=\"row_heading level2 row0\" rowspan=\"2\">FALSE</th>\n",
              "      <th id=\"T_4870d_level3_row0\" class=\"row_heading level3 row0\" >False</th>\n",
              "      <th id=\"T_4870d_level4_row0\" class=\"row_heading level4 row0\" >t</th>\n",
              "      <th id=\"T_4870d_level5_row0\" class=\"row_heading level5 row0\" >f</th>\n",
              "      <td id=\"T_4870d_row0_col0\" class=\"data row0 col0\" >2</td>\n",
              "      <td id=\"T_4870d_row0_col1\" class=\"data row0 col1\" >1.0%</td>\n",
              "    </tr>\n",
              "    <tr>\n",
              "      <th id=\"T_4870d_level3_row1\" class=\"row_heading level3 row1\" >True</th>\n",
              "      <th id=\"T_4870d_level4_row1\" class=\"row_heading level4 row1\" >t</th>\n",
              "      <th id=\"T_4870d_level5_row1\" class=\"row_heading level5 row1\" >f</th>\n",
              "      <td id=\"T_4870d_row1_col0\" class=\"data row1 col0\" >71</td>\n",
              "      <td id=\"T_4870d_row1_col1\" class=\"data row1 col1\" >34.1%</td>\n",
              "    </tr>\n",
              "    <tr>\n",
              "      <th id=\"T_4870d_level1_row2\" class=\"row_heading level1 row2\" rowspan=\"3\">TRUE</th>\n",
              "      <th id=\"T_4870d_level2_row2\" class=\"row_heading level2 row2\" >FALSE</th>\n",
              "      <th id=\"T_4870d_level3_row2\" class=\"row_heading level3 row2\" >True</th>\n",
              "      <th id=\"T_4870d_level4_row2\" class=\"row_heading level4 row2\" >t</th>\n",
              "      <th id=\"T_4870d_level5_row2\" class=\"row_heading level5 row2\" >f</th>\n",
              "      <td id=\"T_4870d_row2_col0\" class=\"data row2 col0\" >16</td>\n",
              "      <td id=\"T_4870d_row2_col1\" class=\"data row2 col1\" >7.7%</td>\n",
              "    </tr>\n",
              "    <tr>\n",
              "      <th id=\"T_4870d_level2_row3\" class=\"row_heading level2 row3\" rowspan=\"2\">TRUE</th>\n",
              "      <th id=\"T_4870d_level3_row3\" class=\"row_heading level3 row3\" >False</th>\n",
              "      <th id=\"T_4870d_level4_row3\" class=\"row_heading level4 row3\" >t</th>\n",
              "      <th id=\"T_4870d_level5_row3\" class=\"row_heading level5 row3\" >f</th>\n",
              "      <td id=\"T_4870d_row3_col0\" class=\"data row3 col0\" >1</td>\n",
              "      <td id=\"T_4870d_row3_col1\" class=\"data row3 col1\" >0.5%</td>\n",
              "    </tr>\n",
              "    <tr>\n",
              "      <th id=\"T_4870d_level3_row4\" class=\"row_heading level3 row4\" >True</th>\n",
              "      <th id=\"T_4870d_level4_row4\" class=\"row_heading level4 row4\" >t</th>\n",
              "      <th id=\"T_4870d_level5_row4\" class=\"row_heading level5 row4\" >f</th>\n",
              "      <td id=\"T_4870d_row4_col0\" class=\"data row4 col0\" >118</td>\n",
              "      <td id=\"T_4870d_row4_col1\" class=\"data row4 col1\" >56.7%</td>\n",
              "    </tr>\n",
              "  </tbody>\n",
              "</table>\n"
            ]
          },
          "metadata": {},
          "execution_count": 47
        }
      ]
    },
    {
      "cell_type": "code",
      "source": [
        "df_qa_clean[df_qa_clean['rated_e_latest'].isnull()].iloc[:5, :20]"
      ],
      "metadata": {
        "colab": {
          "base_uri": "https://localhost:8080/",
          "height": 89
        },
        "id": "5oimFsoB2Pfu",
        "outputId": "011833a7-626b-433d-9695-680a3f36b516"
      },
      "execution_count": null,
      "outputs": [
        {
          "output_type": "execute_result",
          "data": {
            "text/plain": [
              "Empty DataFrame\n",
              "Columns: [subreddit_id, subreddit_name, rated_e_latest, over_18_latest, allow_discovery_latest, not_country_relevant, relevant_to_cluster/_other_subreddits_in_cluster, safe_to_show_in_relation_to_cluster, rating_short_latest, type, primary_topic_latest, cluster_label, model_sort_order, cluster_label_k, rating_short, over_18, rating_name_latest, cluster_label_int, cluster_topic_mix, rated_e]\n",
              "Index: []"
            ],
            "text/html": [
              "\n",
              "  <div id=\"df-9bbe7c74-b8f7-4d64-9493-e0a50490def6\">\n",
              "    <div class=\"colab-df-container\">\n",
              "      <div>\n",
              "<style scoped>\n",
              "    .dataframe tbody tr th:only-of-type {\n",
              "        vertical-align: middle;\n",
              "    }\n",
              "\n",
              "    .dataframe tbody tr th {\n",
              "        vertical-align: top;\n",
              "    }\n",
              "\n",
              "    .dataframe thead th {\n",
              "        text-align: right;\n",
              "    }\n",
              "</style>\n",
              "<table border=\"1\" class=\"dataframe\">\n",
              "  <thead>\n",
              "    <tr style=\"text-align: right;\">\n",
              "      <th></th>\n",
              "      <th>subreddit_id</th>\n",
              "      <th>subreddit_name</th>\n",
              "      <th>rated_e_latest</th>\n",
              "      <th>over_18_latest</th>\n",
              "      <th>allow_discovery_latest</th>\n",
              "      <th>not_country_relevant</th>\n",
              "      <th>relevant_to_cluster/_other_subreddits_in_cluster</th>\n",
              "      <th>safe_to_show_in_relation_to_cluster</th>\n",
              "      <th>rating_short_latest</th>\n",
              "      <th>type</th>\n",
              "      <th>primary_topic_latest</th>\n",
              "      <th>cluster_label</th>\n",
              "      <th>model_sort_order</th>\n",
              "      <th>cluster_label_k</th>\n",
              "      <th>rating_short</th>\n",
              "      <th>over_18</th>\n",
              "      <th>rating_name_latest</th>\n",
              "      <th>cluster_label_int</th>\n",
              "      <th>cluster_topic_mix</th>\n",
              "      <th>rated_e</th>\n",
              "    </tr>\n",
              "  </thead>\n",
              "  <tbody>\n",
              "  </tbody>\n",
              "</table>\n",
              "</div>\n",
              "      <button class=\"colab-df-convert\" onclick=\"convertToInteractive('df-9bbe7c74-b8f7-4d64-9493-e0a50490def6')\"\n",
              "              title=\"Convert this dataframe to an interactive table.\"\n",
              "              style=\"display:none;\">\n",
              "        \n",
              "  <svg xmlns=\"http://www.w3.org/2000/svg\" height=\"24px\"viewBox=\"0 0 24 24\"\n",
              "       width=\"24px\">\n",
              "    <path d=\"M0 0h24v24H0V0z\" fill=\"none\"/>\n",
              "    <path d=\"M18.56 5.44l.94 2.06.94-2.06 2.06-.94-2.06-.94-.94-2.06-.94 2.06-2.06.94zm-11 1L8.5 8.5l.94-2.06 2.06-.94-2.06-.94L8.5 2.5l-.94 2.06-2.06.94zm10 10l.94 2.06.94-2.06 2.06-.94-2.06-.94-.94-2.06-.94 2.06-2.06.94z\"/><path d=\"M17.41 7.96l-1.37-1.37c-.4-.4-.92-.59-1.43-.59-.52 0-1.04.2-1.43.59L10.3 9.45l-7.72 7.72c-.78.78-.78 2.05 0 2.83L4 21.41c.39.39.9.59 1.41.59.51 0 1.02-.2 1.41-.59l7.78-7.78 2.81-2.81c.8-.78.8-2.07 0-2.86zM5.41 20L4 18.59l7.72-7.72 1.47 1.35L5.41 20z\"/>\n",
              "  </svg>\n",
              "      </button>\n",
              "      \n",
              "  <style>\n",
              "    .colab-df-container {\n",
              "      display:flex;\n",
              "      flex-wrap:wrap;\n",
              "      gap: 12px;\n",
              "    }\n",
              "\n",
              "    .colab-df-convert {\n",
              "      background-color: #E8F0FE;\n",
              "      border: none;\n",
              "      border-radius: 50%;\n",
              "      cursor: pointer;\n",
              "      display: none;\n",
              "      fill: #1967D2;\n",
              "      height: 32px;\n",
              "      padding: 0 0 0 0;\n",
              "      width: 32px;\n",
              "    }\n",
              "\n",
              "    .colab-df-convert:hover {\n",
              "      background-color: #E2EBFA;\n",
              "      box-shadow: 0px 1px 2px rgba(60, 64, 67, 0.3), 0px 1px 3px 1px rgba(60, 64, 67, 0.15);\n",
              "      fill: #174EA6;\n",
              "    }\n",
              "\n",
              "    [theme=dark] .colab-df-convert {\n",
              "      background-color: #3B4455;\n",
              "      fill: #D2E3FC;\n",
              "    }\n",
              "\n",
              "    [theme=dark] .colab-df-convert:hover {\n",
              "      background-color: #434B5C;\n",
              "      box-shadow: 0px 1px 3px 1px rgba(0, 0, 0, 0.15);\n",
              "      filter: drop-shadow(0px 1px 2px rgba(0, 0, 0, 0.3));\n",
              "      fill: #FFFFFF;\n",
              "    }\n",
              "  </style>\n",
              "\n",
              "      <script>\n",
              "        const buttonEl =\n",
              "          document.querySelector('#df-9bbe7c74-b8f7-4d64-9493-e0a50490def6 button.colab-df-convert');\n",
              "        buttonEl.style.display =\n",
              "          google.colab.kernel.accessAllowed ? 'block' : 'none';\n",
              "\n",
              "        async function convertToInteractive(key) {\n",
              "          const element = document.querySelector('#df-9bbe7c74-b8f7-4d64-9493-e0a50490def6');\n",
              "          const dataTable =\n",
              "            await google.colab.kernel.invokeFunction('convertToInteractive',\n",
              "                                                     [key], {});\n",
              "          if (!dataTable) return;\n",
              "\n",
              "          const docLinkHtml = 'Like what you see? Visit the ' +\n",
              "            '<a target=\"_blank\" href=https://colab.research.google.com/notebooks/data_table.ipynb>data table notebook</a>'\n",
              "            + ' to learn more about interactive tables.';\n",
              "          element.innerHTML = '';\n",
              "          dataTable['output_type'] = 'display_data';\n",
              "          await google.colab.output.renderOutput(dataTable, element);\n",
              "          const docLink = document.createElement('div');\n",
              "          docLink.innerHTML = docLinkHtml;\n",
              "          element.appendChild(docLink);\n",
              "        }\n",
              "      </script>\n",
              "    </div>\n",
              "  </div>\n",
              "  "
            ],
            "application/vnd.google.colaboratory.module+javascript": "\n      import \"https://ssl.gstatic.com/colaboratory/data_table/81f25a011006ed3d/data_table.js\";\n\n      window.createDataTable({\n        data: [],\n        columns: [[\"number\", \"index\"], [\"number\", \"subreddit_id\"], [\"number\", \"subreddit_name\"], [\"number\", \"rated_e_latest\"], [\"number\", \"over_18_latest\"], [\"number\", \"allow_discovery_latest\"], [\"number\", \"not_country_relevant\"], [\"number\", \"relevant_to_cluster/_other_subreddits_in_cluster\"], [\"number\", \"safe_to_show_in_relation_to_cluster\"], [\"number\", \"rating_short_latest\"], [\"number\", \"type\"], [\"number\", \"primary_topic_latest\"], [\"number\", \"cluster_label\"], [\"number\", \"model_sort_order\"], [\"number\", \"cluster_label_k\"], [\"number\", \"rating_short\"], [\"number\", \"over_18\"], [\"number\", \"rating_name_latest\"], [\"number\", \"cluster_label_int\"], [\"number\", \"cluster_topic_mix\"], [\"number\", \"rated_e\"]],\n        columnOptions: [{\"width\": \"1px\", \"className\": \"index_column\"}],\n        rowsPerPage: 25,\n        helpUrl: \"https://colab.research.google.com/notebooks/data_table.ipynb\",\n        suppressOutputScrolling: true,\n        minimumWidth: undefined,\n      });\n    "
          },
          "metadata": {},
          "execution_count": 48
        }
      ]
    },
    {
      "cell_type": "markdown",
      "source": [
        "### Create & apply masks"
      ],
      "metadata": {
        "id": "MKfd8-H8ZIGd"
      }
    },
    {
      "cell_type": "code",
      "source": [
        "df_qa_clean = apply_qa_filters_for_fpr(\n",
        "    df_qa_clean,\n",
        "    print_qa_check=True,\n",
        ")"
      ],
      "metadata": {
        "colab": {
          "base_uri": "https://localhost:8080/"
        },
        "id": "Nc-k22eh4or4",
        "outputId": "324d0a5e-7930-4b10-8b5a-f777d7605c63"
      },
      "execution_count": null,
      "outputs": [
        {
          "output_type": "stream",
          "name": "stdout",
          "text": [
            "\n",
            "QA keyword subreddit checks:\n",
            "\n",
            "117 <- Initial subreddit count\n",
            "117 <- Clean subreddits to use\n",
            "(117, 43) <- df subreddits to use for FPR\n"
          ]
        }
      ]
    },
    {
      "cell_type": "markdown",
      "metadata": {
        "id": "QvAwvmgzAHTy"
      },
      "source": [
        "# Reshape data for Subreddit seed -> Cluster list "
      ]
    },
    {
      "cell_type": "code",
      "metadata": {
        "colab": {
          "base_uri": "https://localhost:8080/"
        },
        "id": "oJG3-nfTmiLg",
        "outputId": "81aa2407-0cc3-48bd-deec-8d580f9e07f9"
      },
      "source": [
        "%%time\n",
        "# col_new_cluster_val = 'cluster_label'\n",
        "# col_new_cluster_name = 'cluster_label_k'\n",
        "# col_new_cluster_prim_topic = 'cluster_name'\n",
        "\n",
        "# make sure all objects in col are str so we can sort by it\n",
        "# df_qa_clean[col_new_cluster_val] = df_qa_clean[col_new_cluster_val].astype(str)\n",
        "\n",
        "l_cols_for_seeds = [\n",
        "    'subreddit_id', 'subreddit_name',\n",
        "    col_model_sort_order, col_rating_latest,\n",
        "    col_new_cluster_val, col_new_cluster_name,\n",
        "]\n",
        "\n",
        "\n",
        "df_target_to_target_list = convert_distance_or_ab_to_list_for_fpr(\n",
        "    df_qa_clean,\n",
        "    convert_to_ab=True,\n",
        "    col_counterpart_count='subreddits_to_recommend_count',\n",
        "    col_list_cluster_names='list_cluster_subreddit_names',\n",
        "    col_list_cluster_ids='list_cluster_subreddit_ids',\n",
        "    l_cols_for_seeds=l_cols_for_seeds,\n",
        "    l_cols_for_clusters=None, \n",
        "    col_new_cluster_val=col_new_cluster_val,\n",
        "    col_new_cluster_name=col_new_cluster_name,\n",
        "    # col_new_cluster_prim_topic=col_new_cluster_prim_topic,\n",
        "    col_sort_by=col_new_cluster_val,\n",
        "    verbose=True,\n",
        ")"
      ],
      "execution_count": null,
      "outputs": [
        {
          "output_type": "stream",
          "name": "stdout",
          "text": [
            "['subreddit_id', 'subreddit_name', 'model_sort_order', 'rating_short_latest', 'cluster_label', 'cluster_label_k']\n",
            "['subreddit_id', 'subreddit_name', 'cluster_label']\n",
            "  (793, 8) <- df_ab.shape raw\n",
            "  (676, 8) <- df_ab.shape after removing matches to self\n",
            "  Groupby cols:\n",
            "    ['model_sort_order', 'subreddit_id_seed', 'subreddit_name_seed', 'cluster_label', 'cluster_label_k', 'rating_short_latest']\n",
            "  (113, 8) <- df_a_to_b.shape\n",
            "CPU times: user 33.5 ms, sys: 672 µs, total: 34.1 ms\n",
            "Wall time: 34.2 ms\n"
          ]
        }
      ]
    },
    {
      "cell_type": "code",
      "source": [
        "# df_target_to_target_list.sort_values(by=['cluster_label', ], ascending=True).iloc[:9, :]"
      ],
      "metadata": {
        "id": "0iz76DZTin7w"
      },
      "execution_count": null,
      "outputs": []
    },
    {
      "cell_type": "code",
      "metadata": {
        "colab": {
          "base_uri": "https://localhost:8080/",
          "height": 445
        },
        "id": "zDeaY5v3_YUS",
        "outputId": "0e67a395-5aa6-4c38-d8ef-9aa156d8f463"
      },
      "source": [
        "df_target_to_target_list.head()"
      ],
      "execution_count": null,
      "outputs": [
        {
          "output_type": "execute_result",
          "data": {
            "text/plain": [
              "  subreddit_id_seed subreddit_name_seed  \\\n",
              "0          t5_fucxb             traefik   \n",
              "1          t5_2x7n9             ansible   \n",
              "2          t5_2r358             symfony   \n",
              "3          t5_36dkt            airtable   \n",
              "4          t5_2qo1o          powershell   \n",
              "\n",
              "                             cluster_label cluster_label_k  \\\n",
              "0  0006-0008-0013-0016-0016-0020-0021-0025    k_0118_label   \n",
              "1  0006-0008-0013-0016-0016-0020-0021-0025    k_0118_label   \n",
              "2  0006-0008-0013-0016-0016-0020-0021-0025    k_0118_label   \n",
              "3  0006-0008-0013-0016-0016-0020-0021-0025    k_0118_label   \n",
              "4  0006-0008-0013-0016-0016-0020-0021-0025    k_0118_label   \n",
              "\n",
              "  rating_short_latest  subreddits_to_recommend_count  \\\n",
              "0                   E                              6   \n",
              "1                   E                              6   \n",
              "2                   E                              6   \n",
              "3                   E                              6   \n",
              "4                   E                              6   \n",
              "\n",
              "                        list_cluster_subreddit_names  \\\n",
              "0  ansible, symfony, airtable, powershell, ada, n...   \n",
              "1  traefik, symfony, airtable, powershell, ada, n...   \n",
              "2  traefik, ansible, airtable, powershell, ada, n...   \n",
              "3  traefik, ansible, symfony, powershell, ada, nu...   \n",
              "4  traefik, ansible, symfony, airtable, ada, numw...   \n",
              "\n",
              "                          list_cluster_subreddit_ids  \n",
              "0  t5_2x7n9, t5_2r358, t5_36dkt, t5_2qo1o, t5_2qi...  \n",
              "1  t5_fucxb, t5_2r358, t5_36dkt, t5_2qo1o, t5_2qi...  \n",
              "2  t5_fucxb, t5_2x7n9, t5_36dkt, t5_2qo1o, t5_2qi...  \n",
              "3  t5_fucxb, t5_2x7n9, t5_2r358, t5_2qo1o, t5_2qi...  \n",
              "4  t5_fucxb, t5_2x7n9, t5_2r358, t5_36dkt, t5_2qi...  "
            ],
            "text/html": [
              "\n",
              "  <div id=\"df-52747b24-7e8d-4140-a28b-54837d6c595b\">\n",
              "    <div class=\"colab-df-container\">\n",
              "      <div>\n",
              "<style scoped>\n",
              "    .dataframe tbody tr th:only-of-type {\n",
              "        vertical-align: middle;\n",
              "    }\n",
              "\n",
              "    .dataframe tbody tr th {\n",
              "        vertical-align: top;\n",
              "    }\n",
              "\n",
              "    .dataframe thead th {\n",
              "        text-align: right;\n",
              "    }\n",
              "</style>\n",
              "<table border=\"1\" class=\"dataframe\">\n",
              "  <thead>\n",
              "    <tr style=\"text-align: right;\">\n",
              "      <th></th>\n",
              "      <th>subreddit_id_seed</th>\n",
              "      <th>subreddit_name_seed</th>\n",
              "      <th>cluster_label</th>\n",
              "      <th>cluster_label_k</th>\n",
              "      <th>rating_short_latest</th>\n",
              "      <th>subreddits_to_recommend_count</th>\n",
              "      <th>list_cluster_subreddit_names</th>\n",
              "      <th>list_cluster_subreddit_ids</th>\n",
              "    </tr>\n",
              "  </thead>\n",
              "  <tbody>\n",
              "    <tr>\n",
              "      <th>0</th>\n",
              "      <td>t5_fucxb</td>\n",
              "      <td>traefik</td>\n",
              "      <td>0006-0008-0013-0016-0016-0020-0021-0025</td>\n",
              "      <td>k_0118_label</td>\n",
              "      <td>E</td>\n",
              "      <td>6</td>\n",
              "      <td>ansible, symfony, airtable, powershell, ada, n...</td>\n",
              "      <td>t5_2x7n9, t5_2r358, t5_36dkt, t5_2qo1o, t5_2qi...</td>\n",
              "    </tr>\n",
              "    <tr>\n",
              "      <th>1</th>\n",
              "      <td>t5_2x7n9</td>\n",
              "      <td>ansible</td>\n",
              "      <td>0006-0008-0013-0016-0016-0020-0021-0025</td>\n",
              "      <td>k_0118_label</td>\n",
              "      <td>E</td>\n",
              "      <td>6</td>\n",
              "      <td>traefik, symfony, airtable, powershell, ada, n...</td>\n",
              "      <td>t5_fucxb, t5_2r358, t5_36dkt, t5_2qo1o, t5_2qi...</td>\n",
              "    </tr>\n",
              "    <tr>\n",
              "      <th>2</th>\n",
              "      <td>t5_2r358</td>\n",
              "      <td>symfony</td>\n",
              "      <td>0006-0008-0013-0016-0016-0020-0021-0025</td>\n",
              "      <td>k_0118_label</td>\n",
              "      <td>E</td>\n",
              "      <td>6</td>\n",
              "      <td>traefik, ansible, airtable, powershell, ada, n...</td>\n",
              "      <td>t5_fucxb, t5_2x7n9, t5_36dkt, t5_2qo1o, t5_2qi...</td>\n",
              "    </tr>\n",
              "    <tr>\n",
              "      <th>3</th>\n",
              "      <td>t5_36dkt</td>\n",
              "      <td>airtable</td>\n",
              "      <td>0006-0008-0013-0016-0016-0020-0021-0025</td>\n",
              "      <td>k_0118_label</td>\n",
              "      <td>E</td>\n",
              "      <td>6</td>\n",
              "      <td>traefik, ansible, symfony, powershell, ada, nu...</td>\n",
              "      <td>t5_fucxb, t5_2x7n9, t5_2r358, t5_2qo1o, t5_2qi...</td>\n",
              "    </tr>\n",
              "    <tr>\n",
              "      <th>4</th>\n",
              "      <td>t5_2qo1o</td>\n",
              "      <td>powershell</td>\n",
              "      <td>0006-0008-0013-0016-0016-0020-0021-0025</td>\n",
              "      <td>k_0118_label</td>\n",
              "      <td>E</td>\n",
              "      <td>6</td>\n",
              "      <td>traefik, ansible, symfony, airtable, ada, numw...</td>\n",
              "      <td>t5_fucxb, t5_2x7n9, t5_2r358, t5_36dkt, t5_2qi...</td>\n",
              "    </tr>\n",
              "  </tbody>\n",
              "</table>\n",
              "</div>\n",
              "      <button class=\"colab-df-convert\" onclick=\"convertToInteractive('df-52747b24-7e8d-4140-a28b-54837d6c595b')\"\n",
              "              title=\"Convert this dataframe to an interactive table.\"\n",
              "              style=\"display:none;\">\n",
              "        \n",
              "  <svg xmlns=\"http://www.w3.org/2000/svg\" height=\"24px\"viewBox=\"0 0 24 24\"\n",
              "       width=\"24px\">\n",
              "    <path d=\"M0 0h24v24H0V0z\" fill=\"none\"/>\n",
              "    <path d=\"M18.56 5.44l.94 2.06.94-2.06 2.06-.94-2.06-.94-.94-2.06-.94 2.06-2.06.94zm-11 1L8.5 8.5l.94-2.06 2.06-.94-2.06-.94L8.5 2.5l-.94 2.06-2.06.94zm10 10l.94 2.06.94-2.06 2.06-.94-2.06-.94-.94-2.06-.94 2.06-2.06.94z\"/><path d=\"M17.41 7.96l-1.37-1.37c-.4-.4-.92-.59-1.43-.59-.52 0-1.04.2-1.43.59L10.3 9.45l-7.72 7.72c-.78.78-.78 2.05 0 2.83L4 21.41c.39.39.9.59 1.41.59.51 0 1.02-.2 1.41-.59l7.78-7.78 2.81-2.81c.8-.78.8-2.07 0-2.86zM5.41 20L4 18.59l7.72-7.72 1.47 1.35L5.41 20z\"/>\n",
              "  </svg>\n",
              "      </button>\n",
              "      \n",
              "  <style>\n",
              "    .colab-df-container {\n",
              "      display:flex;\n",
              "      flex-wrap:wrap;\n",
              "      gap: 12px;\n",
              "    }\n",
              "\n",
              "    .colab-df-convert {\n",
              "      background-color: #E8F0FE;\n",
              "      border: none;\n",
              "      border-radius: 50%;\n",
              "      cursor: pointer;\n",
              "      display: none;\n",
              "      fill: #1967D2;\n",
              "      height: 32px;\n",
              "      padding: 0 0 0 0;\n",
              "      width: 32px;\n",
              "    }\n",
              "\n",
              "    .colab-df-convert:hover {\n",
              "      background-color: #E2EBFA;\n",
              "      box-shadow: 0px 1px 2px rgba(60, 64, 67, 0.3), 0px 1px 3px 1px rgba(60, 64, 67, 0.15);\n",
              "      fill: #174EA6;\n",
              "    }\n",
              "\n",
              "    [theme=dark] .colab-df-convert {\n",
              "      background-color: #3B4455;\n",
              "      fill: #D2E3FC;\n",
              "    }\n",
              "\n",
              "    [theme=dark] .colab-df-convert:hover {\n",
              "      background-color: #434B5C;\n",
              "      box-shadow: 0px 1px 3px 1px rgba(0, 0, 0, 0.15);\n",
              "      filter: drop-shadow(0px 1px 2px rgba(0, 0, 0, 0.3));\n",
              "      fill: #FFFFFF;\n",
              "    }\n",
              "  </style>\n",
              "\n",
              "      <script>\n",
              "        const buttonEl =\n",
              "          document.querySelector('#df-52747b24-7e8d-4140-a28b-54837d6c595b button.colab-df-convert');\n",
              "        buttonEl.style.display =\n",
              "          google.colab.kernel.accessAllowed ? 'block' : 'none';\n",
              "\n",
              "        async function convertToInteractive(key) {\n",
              "          const element = document.querySelector('#df-52747b24-7e8d-4140-a28b-54837d6c595b');\n",
              "          const dataTable =\n",
              "            await google.colab.kernel.invokeFunction('convertToInteractive',\n",
              "                                                     [key], {});\n",
              "          if (!dataTable) return;\n",
              "\n",
              "          const docLinkHtml = 'Like what you see? Visit the ' +\n",
              "            '<a target=\"_blank\" href=https://colab.research.google.com/notebooks/data_table.ipynb>data table notebook</a>'\n",
              "            + ' to learn more about interactive tables.';\n",
              "          element.innerHTML = '';\n",
              "          dataTable['output_type'] = 'display_data';\n",
              "          await google.colab.output.renderOutput(dataTable, element);\n",
              "          const docLink = document.createElement('div');\n",
              "          docLink.innerHTML = docLinkHtml;\n",
              "          element.appendChild(docLink);\n",
              "        }\n",
              "      </script>\n",
              "    </div>\n",
              "  </div>\n",
              "  "
            ],
            "application/vnd.google.colaboratory.module+javascript": "\n      import \"https://ssl.gstatic.com/colaboratory/data_table/81f25a011006ed3d/data_table.js\";\n\n      window.createDataTable({\n        data: [[{\n            'v': 0,\n            'f': \"0\",\n        },\n\"t5_fucxb\",\n\"traefik\",\n\"0006-0008-0013-0016-0016-0020-0021-0025\",\n\"k_0118_label\",\n\"E\",\n{\n            'v': 6,\n            'f': \"6\",\n        },\n\"ansible, symfony, airtable, powershell, ada, numworks\",\n\"t5_2x7n9, t5_2r358, t5_36dkt, t5_2qo1o, t5_2qi8f, t5_3fwdt\"],\n [{\n            'v': 1,\n            'f': \"1\",\n        },\n\"t5_2x7n9\",\n\"ansible\",\n\"0006-0008-0013-0016-0016-0020-0021-0025\",\n\"k_0118_label\",\n\"E\",\n{\n            'v': 6,\n            'f': \"6\",\n        },\n\"traefik, symfony, airtable, powershell, ada, numworks\",\n\"t5_fucxb, t5_2r358, t5_36dkt, t5_2qo1o, t5_2qi8f, t5_3fwdt\"],\n [{\n            'v': 2,\n            'f': \"2\",\n        },\n\"t5_2r358\",\n\"symfony\",\n\"0006-0008-0013-0016-0016-0020-0021-0025\",\n\"k_0118_label\",\n\"E\",\n{\n            'v': 6,\n            'f': \"6\",\n        },\n\"traefik, ansible, airtable, powershell, ada, numworks\",\n\"t5_fucxb, t5_2x7n9, t5_36dkt, t5_2qo1o, t5_2qi8f, t5_3fwdt\"],\n [{\n            'v': 3,\n            'f': \"3\",\n        },\n\"t5_36dkt\",\n\"airtable\",\n\"0006-0008-0013-0016-0016-0020-0021-0025\",\n\"k_0118_label\",\n\"E\",\n{\n            'v': 6,\n            'f': \"6\",\n        },\n\"traefik, ansible, symfony, powershell, ada, numworks\",\n\"t5_fucxb, t5_2x7n9, t5_2r358, t5_2qo1o, t5_2qi8f, t5_3fwdt\"],\n [{\n            'v': 4,\n            'f': \"4\",\n        },\n\"t5_2qo1o\",\n\"powershell\",\n\"0006-0008-0013-0016-0016-0020-0021-0025\",\n\"k_0118_label\",\n\"E\",\n{\n            'v': 6,\n            'f': \"6\",\n        },\n\"traefik, ansible, symfony, airtable, ada, numworks\",\n\"t5_fucxb, t5_2x7n9, t5_2r358, t5_36dkt, t5_2qi8f, t5_3fwdt\"]],\n        columns: [[\"number\", \"index\"], [\"string\", \"subreddit_id_seed\"], [\"string\", \"subreddit_name_seed\"], [\"string\", \"cluster_label\"], [\"string\", \"cluster_label_k\"], [\"string\", \"rating_short_latest\"], [\"number\", \"subreddits_to_recommend_count\"], [\"string\", \"list_cluster_subreddit_names\"], [\"string\", \"list_cluster_subreddit_ids\"]],\n        columnOptions: [{\"width\": \"1px\", \"className\": \"index_column\"}],\n        rowsPerPage: 25,\n        helpUrl: \"https://colab.research.google.com/notebooks/data_table.ipynb\",\n        suppressOutputScrolling: true,\n        minimumWidth: undefined,\n      });\n    "
          },
          "metadata": {},
          "execution_count": 37
        }
      ]
    },
    {
      "cell_type": "code",
      "metadata": {
        "colab": {
          "base_uri": "https://localhost:8080/",
          "height": 470
        },
        "id": "xV4C7Tz7_YRu",
        "outputId": "604c7761-4b05-4185-e665-f085e2c2dd85"
      },
      "source": [
        "df_target_to_target_list.tail(10)"
      ],
      "execution_count": null,
      "outputs": [
        {
          "output_type": "execute_result",
          "data": {
            "text/plain": [
              "    subreddit_id_seed subreddit_name_seed cluster_label cluster_label_k  \\\n",
              "82           t5_2z47n          svexchange            11    k_0013_label   \n",
              "97           t5_30409              velkoz            11    k_0013_label   \n",
              "102          t5_2qtn5            daftpunk            12    k_0013_label   \n",
              "103          t5_2uab4        justicemusic            12    k_0013_label   \n",
              "104          t5_2tnz5     edbangerrecords            12    k_0013_label   \n",
              "47           t5_3pkge            getdelta             9    k_0013_label   \n",
              "46           t5_zfhap              sorare             9    k_0013_label   \n",
              "45          t5_329ccd    assembleprotocol             9    k_0013_label   \n",
              "44           t5_bxh1y            kryll_io             9    k_0013_label   \n",
              "40          t5_4exxej  wallstreetsilverfr             9    k_0013_label   \n",
              "\n",
              "    rating_short_latest  subreddits_to_recommend_count  \\\n",
              "82                    E                              4   \n",
              "97                    E                              4   \n",
              "102                   E                              2   \n",
              "103                   E                              2   \n",
              "104                   E                              2   \n",
              "47                    E                              4   \n",
              "46                    E                              4   \n",
              "45                    E                              4   \n",
              "44                    E                              4   \n",
              "40                    E                              4   \n",
              "\n",
              "                          list_cluster_subreddit_names  \\\n",
              "82   themoddingofisaac, pokemonclover, cassiopeiama...   \n",
              "97   themoddingofisaac, svexchange, pokemonclover, ...   \n",
              "102                      justicemusic, edbangerrecords   \n",
              "103                          daftpunk, edbangerrecords   \n",
              "104                             daftpunk, justicemusic   \n",
              "47   wallstreetsilverfr, kryll_io, assembleprotocol...   \n",
              "46   wallstreetsilverfr, kryll_io, assembleprotocol...   \n",
              "45      wallstreetsilverfr, kryll_io, sorare, getdelta   \n",
              "44   wallstreetsilverfr, assembleprotocol, sorare, ...   \n",
              "40        kryll_io, assembleprotocol, sorare, getdelta   \n",
              "\n",
              "                   list_cluster_subreddit_ids  \n",
              "82    t5_34xs3, t5_2klvx3, t5_37itl, t5_30409  \n",
              "97    t5_34xs3, t5_2z47n, t5_2klvx3, t5_37itl  \n",
              "102                        t5_2uab4, t5_2tnz5  \n",
              "103                        t5_2qtn5, t5_2tnz5  \n",
              "104                        t5_2qtn5, t5_2uab4  \n",
              "47   t5_4exxej, t5_bxh1y, t5_329ccd, t5_zfhap  \n",
              "46   t5_4exxej, t5_bxh1y, t5_329ccd, t5_3pkge  \n",
              "45    t5_4exxej, t5_bxh1y, t5_zfhap, t5_3pkge  \n",
              "44   t5_4exxej, t5_329ccd, t5_zfhap, t5_3pkge  \n",
              "40    t5_bxh1y, t5_329ccd, t5_zfhap, t5_3pkge  "
            ],
            "text/html": [
              "\n",
              "  <div id=\"df-07655595-5c8a-4f30-9ba2-48b635de46dc\">\n",
              "    <div class=\"colab-df-container\">\n",
              "      <div>\n",
              "<style scoped>\n",
              "    .dataframe tbody tr th:only-of-type {\n",
              "        vertical-align: middle;\n",
              "    }\n",
              "\n",
              "    .dataframe tbody tr th {\n",
              "        vertical-align: top;\n",
              "    }\n",
              "\n",
              "    .dataframe thead th {\n",
              "        text-align: right;\n",
              "    }\n",
              "</style>\n",
              "<table border=\"1\" class=\"dataframe\">\n",
              "  <thead>\n",
              "    <tr style=\"text-align: right;\">\n",
              "      <th></th>\n",
              "      <th>subreddit_id_seed</th>\n",
              "      <th>subreddit_name_seed</th>\n",
              "      <th>cluster_label</th>\n",
              "      <th>cluster_label_k</th>\n",
              "      <th>rating_short_latest</th>\n",
              "      <th>subreddits_to_recommend_count</th>\n",
              "      <th>list_cluster_subreddit_names</th>\n",
              "      <th>list_cluster_subreddit_ids</th>\n",
              "    </tr>\n",
              "  </thead>\n",
              "  <tbody>\n",
              "    <tr>\n",
              "      <th>82</th>\n",
              "      <td>t5_2z47n</td>\n",
              "      <td>svexchange</td>\n",
              "      <td>11</td>\n",
              "      <td>k_0013_label</td>\n",
              "      <td>E</td>\n",
              "      <td>4</td>\n",
              "      <td>themoddingofisaac, pokemonclover, cassiopeiama...</td>\n",
              "      <td>t5_34xs3, t5_2klvx3, t5_37itl, t5_30409</td>\n",
              "    </tr>\n",
              "    <tr>\n",
              "      <th>97</th>\n",
              "      <td>t5_30409</td>\n",
              "      <td>velkoz</td>\n",
              "      <td>11</td>\n",
              "      <td>k_0013_label</td>\n",
              "      <td>E</td>\n",
              "      <td>4</td>\n",
              "      <td>themoddingofisaac, svexchange, pokemonclover, ...</td>\n",
              "      <td>t5_34xs3, t5_2z47n, t5_2klvx3, t5_37itl</td>\n",
              "    </tr>\n",
              "    <tr>\n",
              "      <th>102</th>\n",
              "      <td>t5_2qtn5</td>\n",
              "      <td>daftpunk</td>\n",
              "      <td>12</td>\n",
              "      <td>k_0013_label</td>\n",
              "      <td>E</td>\n",
              "      <td>2</td>\n",
              "      <td>justicemusic, edbangerrecords</td>\n",
              "      <td>t5_2uab4, t5_2tnz5</td>\n",
              "    </tr>\n",
              "    <tr>\n",
              "      <th>103</th>\n",
              "      <td>t5_2uab4</td>\n",
              "      <td>justicemusic</td>\n",
              "      <td>12</td>\n",
              "      <td>k_0013_label</td>\n",
              "      <td>E</td>\n",
              "      <td>2</td>\n",
              "      <td>daftpunk, edbangerrecords</td>\n",
              "      <td>t5_2qtn5, t5_2tnz5</td>\n",
              "    </tr>\n",
              "    <tr>\n",
              "      <th>104</th>\n",
              "      <td>t5_2tnz5</td>\n",
              "      <td>edbangerrecords</td>\n",
              "      <td>12</td>\n",
              "      <td>k_0013_label</td>\n",
              "      <td>E</td>\n",
              "      <td>2</td>\n",
              "      <td>daftpunk, justicemusic</td>\n",
              "      <td>t5_2qtn5, t5_2uab4</td>\n",
              "    </tr>\n",
              "    <tr>\n",
              "      <th>47</th>\n",
              "      <td>t5_3pkge</td>\n",
              "      <td>getdelta</td>\n",
              "      <td>9</td>\n",
              "      <td>k_0013_label</td>\n",
              "      <td>E</td>\n",
              "      <td>4</td>\n",
              "      <td>wallstreetsilverfr, kryll_io, assembleprotocol...</td>\n",
              "      <td>t5_4exxej, t5_bxh1y, t5_329ccd, t5_zfhap</td>\n",
              "    </tr>\n",
              "    <tr>\n",
              "      <th>46</th>\n",
              "      <td>t5_zfhap</td>\n",
              "      <td>sorare</td>\n",
              "      <td>9</td>\n",
              "      <td>k_0013_label</td>\n",
              "      <td>E</td>\n",
              "      <td>4</td>\n",
              "      <td>wallstreetsilverfr, kryll_io, assembleprotocol...</td>\n",
              "      <td>t5_4exxej, t5_bxh1y, t5_329ccd, t5_3pkge</td>\n",
              "    </tr>\n",
              "    <tr>\n",
              "      <th>45</th>\n",
              "      <td>t5_329ccd</td>\n",
              "      <td>assembleprotocol</td>\n",
              "      <td>9</td>\n",
              "      <td>k_0013_label</td>\n",
              "      <td>E</td>\n",
              "      <td>4</td>\n",
              "      <td>wallstreetsilverfr, kryll_io, sorare, getdelta</td>\n",
              "      <td>t5_4exxej, t5_bxh1y, t5_zfhap, t5_3pkge</td>\n",
              "    </tr>\n",
              "    <tr>\n",
              "      <th>44</th>\n",
              "      <td>t5_bxh1y</td>\n",
              "      <td>kryll_io</td>\n",
              "      <td>9</td>\n",
              "      <td>k_0013_label</td>\n",
              "      <td>E</td>\n",
              "      <td>4</td>\n",
              "      <td>wallstreetsilverfr, assembleprotocol, sorare, ...</td>\n",
              "      <td>t5_4exxej, t5_329ccd, t5_zfhap, t5_3pkge</td>\n",
              "    </tr>\n",
              "    <tr>\n",
              "      <th>40</th>\n",
              "      <td>t5_4exxej</td>\n",
              "      <td>wallstreetsilverfr</td>\n",
              "      <td>9</td>\n",
              "      <td>k_0013_label</td>\n",
              "      <td>E</td>\n",
              "      <td>4</td>\n",
              "      <td>kryll_io, assembleprotocol, sorare, getdelta</td>\n",
              "      <td>t5_bxh1y, t5_329ccd, t5_zfhap, t5_3pkge</td>\n",
              "    </tr>\n",
              "  </tbody>\n",
              "</table>\n",
              "</div>\n",
              "      <button class=\"colab-df-convert\" onclick=\"convertToInteractive('df-07655595-5c8a-4f30-9ba2-48b635de46dc')\"\n",
              "              title=\"Convert this dataframe to an interactive table.\"\n",
              "              style=\"display:none;\">\n",
              "        \n",
              "  <svg xmlns=\"http://www.w3.org/2000/svg\" height=\"24px\"viewBox=\"0 0 24 24\"\n",
              "       width=\"24px\">\n",
              "    <path d=\"M0 0h24v24H0V0z\" fill=\"none\"/>\n",
              "    <path d=\"M18.56 5.44l.94 2.06.94-2.06 2.06-.94-2.06-.94-.94-2.06-.94 2.06-2.06.94zm-11 1L8.5 8.5l.94-2.06 2.06-.94-2.06-.94L8.5 2.5l-.94 2.06-2.06.94zm10 10l.94 2.06.94-2.06 2.06-.94-2.06-.94-.94-2.06-.94 2.06-2.06.94z\"/><path d=\"M17.41 7.96l-1.37-1.37c-.4-.4-.92-.59-1.43-.59-.52 0-1.04.2-1.43.59L10.3 9.45l-7.72 7.72c-.78.78-.78 2.05 0 2.83L4 21.41c.39.39.9.59 1.41.59.51 0 1.02-.2 1.41-.59l7.78-7.78 2.81-2.81c.8-.78.8-2.07 0-2.86zM5.41 20L4 18.59l7.72-7.72 1.47 1.35L5.41 20z\"/>\n",
              "  </svg>\n",
              "      </button>\n",
              "      \n",
              "  <style>\n",
              "    .colab-df-container {\n",
              "      display:flex;\n",
              "      flex-wrap:wrap;\n",
              "      gap: 12px;\n",
              "    }\n",
              "\n",
              "    .colab-df-convert {\n",
              "      background-color: #E8F0FE;\n",
              "      border: none;\n",
              "      border-radius: 50%;\n",
              "      cursor: pointer;\n",
              "      display: none;\n",
              "      fill: #1967D2;\n",
              "      height: 32px;\n",
              "      padding: 0 0 0 0;\n",
              "      width: 32px;\n",
              "    }\n",
              "\n",
              "    .colab-df-convert:hover {\n",
              "      background-color: #E2EBFA;\n",
              "      box-shadow: 0px 1px 2px rgba(60, 64, 67, 0.3), 0px 1px 3px 1px rgba(60, 64, 67, 0.15);\n",
              "      fill: #174EA6;\n",
              "    }\n",
              "\n",
              "    [theme=dark] .colab-df-convert {\n",
              "      background-color: #3B4455;\n",
              "      fill: #D2E3FC;\n",
              "    }\n",
              "\n",
              "    [theme=dark] .colab-df-convert:hover {\n",
              "      background-color: #434B5C;\n",
              "      box-shadow: 0px 1px 3px 1px rgba(0, 0, 0, 0.15);\n",
              "      filter: drop-shadow(0px 1px 2px rgba(0, 0, 0, 0.3));\n",
              "      fill: #FFFFFF;\n",
              "    }\n",
              "  </style>\n",
              "\n",
              "      <script>\n",
              "        const buttonEl =\n",
              "          document.querySelector('#df-07655595-5c8a-4f30-9ba2-48b635de46dc button.colab-df-convert');\n",
              "        buttonEl.style.display =\n",
              "          google.colab.kernel.accessAllowed ? 'block' : 'none';\n",
              "\n",
              "        async function convertToInteractive(key) {\n",
              "          const element = document.querySelector('#df-07655595-5c8a-4f30-9ba2-48b635de46dc');\n",
              "          const dataTable =\n",
              "            await google.colab.kernel.invokeFunction('convertToInteractive',\n",
              "                                                     [key], {});\n",
              "          if (!dataTable) return;\n",
              "\n",
              "          const docLinkHtml = 'Like what you see? Visit the ' +\n",
              "            '<a target=\"_blank\" href=https://colab.research.google.com/notebooks/data_table.ipynb>data table notebook</a>'\n",
              "            + ' to learn more about interactive tables.';\n",
              "          element.innerHTML = '';\n",
              "          dataTable['output_type'] = 'display_data';\n",
              "          await google.colab.output.renderOutput(dataTable, element);\n",
              "          const docLink = document.createElement('div');\n",
              "          docLink.innerHTML = docLinkHtml;\n",
              "          element.appendChild(docLink);\n",
              "        }\n",
              "      </script>\n",
              "    </div>\n",
              "  </div>\n",
              "  "
            ],
            "application/vnd.google.colaboratory.module+javascript": "\n      import \"https://ssl.gstatic.com/colaboratory/data_table/81f25a011006ed3d/data_table.js\";\n\n      window.createDataTable({\n        data: [[{\n            'v': 82,\n            'f': \"82\",\n        },\n\"t5_2z47n\",\n\"svexchange\",\n\"11\",\n\"k_0013_label\",\n\"E\",\n{\n            'v': 4,\n            'f': \"4\",\n        },\n\"themoddingofisaac, pokemonclover, cassiopeiamains, velkoz\",\n\"t5_34xs3, t5_2klvx3, t5_37itl, t5_30409\"],\n [{\n            'v': 97,\n            'f': \"97\",\n        },\n\"t5_30409\",\n\"velkoz\",\n\"11\",\n\"k_0013_label\",\n\"E\",\n{\n            'v': 4,\n            'f': \"4\",\n        },\n\"themoddingofisaac, svexchange, pokemonclover, cassiopeiamains\",\n\"t5_34xs3, t5_2z47n, t5_2klvx3, t5_37itl\"],\n [{\n            'v': 102,\n            'f': \"102\",\n        },\n\"t5_2qtn5\",\n\"daftpunk\",\n\"12\",\n\"k_0013_label\",\n\"E\",\n{\n            'v': 2,\n            'f': \"2\",\n        },\n\"justicemusic, edbangerrecords\",\n\"t5_2uab4, t5_2tnz5\"],\n [{\n            'v': 103,\n            'f': \"103\",\n        },\n\"t5_2uab4\",\n\"justicemusic\",\n\"12\",\n\"k_0013_label\",\n\"E\",\n{\n            'v': 2,\n            'f': \"2\",\n        },\n\"daftpunk, edbangerrecords\",\n\"t5_2qtn5, t5_2tnz5\"],\n [{\n            'v': 104,\n            'f': \"104\",\n        },\n\"t5_2tnz5\",\n\"edbangerrecords\",\n\"12\",\n\"k_0013_label\",\n\"E\",\n{\n            'v': 2,\n            'f': \"2\",\n        },\n\"daftpunk, justicemusic\",\n\"t5_2qtn5, t5_2uab4\"],\n [{\n            'v': 47,\n            'f': \"47\",\n        },\n\"t5_3pkge\",\n\"getdelta\",\n\"9\",\n\"k_0013_label\",\n\"E\",\n{\n            'v': 4,\n            'f': \"4\",\n        },\n\"wallstreetsilverfr, kryll_io, assembleprotocol, sorare\",\n\"t5_4exxej, t5_bxh1y, t5_329ccd, t5_zfhap\"],\n [{\n            'v': 46,\n            'f': \"46\",\n        },\n\"t5_zfhap\",\n\"sorare\",\n\"9\",\n\"k_0013_label\",\n\"E\",\n{\n            'v': 4,\n            'f': \"4\",\n        },\n\"wallstreetsilverfr, kryll_io, assembleprotocol, getdelta\",\n\"t5_4exxej, t5_bxh1y, t5_329ccd, t5_3pkge\"],\n [{\n            'v': 45,\n            'f': \"45\",\n        },\n\"t5_329ccd\",\n\"assembleprotocol\",\n\"9\",\n\"k_0013_label\",\n\"E\",\n{\n            'v': 4,\n            'f': \"4\",\n        },\n\"wallstreetsilverfr, kryll_io, sorare, getdelta\",\n\"t5_4exxej, t5_bxh1y, t5_zfhap, t5_3pkge\"],\n [{\n            'v': 44,\n            'f': \"44\",\n        },\n\"t5_bxh1y\",\n\"kryll_io\",\n\"9\",\n\"k_0013_label\",\n\"E\",\n{\n            'v': 4,\n            'f': \"4\",\n        },\n\"wallstreetsilverfr, assembleprotocol, sorare, getdelta\",\n\"t5_4exxej, t5_329ccd, t5_zfhap, t5_3pkge\"],\n [{\n            'v': 40,\n            'f': \"40\",\n        },\n\"t5_4exxej\",\n\"wallstreetsilverfr\",\n\"9\",\n\"k_0013_label\",\n\"E\",\n{\n            'v': 4,\n            'f': \"4\",\n        },\n\"kryll_io, assembleprotocol, sorare, getdelta\",\n\"t5_bxh1y, t5_329ccd, t5_zfhap, t5_3pkge\"]],\n        columns: [[\"number\", \"index\"], [\"string\", \"subreddit_id_seed\"], [\"string\", \"subreddit_name_seed\"], [\"string\", \"cluster_label\"], [\"string\", \"cluster_label_k\"], [\"string\", \"rating_short_latest\"], [\"number\", \"subreddits_to_recommend_count\"], [\"string\", \"list_cluster_subreddit_names\"], [\"string\", \"list_cluster_subreddit_ids\"]],\n        columnOptions: [{\"width\": \"1px\", \"className\": \"index_column\"}],\n        rowsPerPage: 25,\n        helpUrl: \"https://colab.research.google.com/notebooks/data_table.ipynb\",\n        suppressOutputScrolling: true,\n        minimumWidth: undefined,\n      });\n    "
          },
          "metadata": {},
          "execution_count": 38
        }
      ]
    },
    {
      "cell_type": "markdown",
      "metadata": {
        "id": "2VYDcXoXEHYl"
      },
      "source": [
        "## Save new output to google sheet"
      ]
    },
    {
      "cell_type": "code",
      "source": [
        "d_wsh_names['clusters_t2t_fpr_after_qa']['worksheet'].update(\n",
        "    [df_target_to_target_list.rename(columns={k: k.replace('_', ' ') for k in df_target_to_target_list.columns}).columns.values.tolist()] + \n",
        "    df_target_to_target_list.fillna('').values.tolist()\n",
        ")"
      ],
      "metadata": {
        "colab": {
          "base_uri": "https://localhost:8080/"
        },
        "id": "Om4VV6QVuWJs",
        "outputId": "46ddcb74-011d-4c61-899a-b9f15e0c7aab"
      },
      "execution_count": null,
      "outputs": [
        {
          "output_type": "execute_result",
          "data": {
            "text/plain": [
              "{'spreadsheetId': '1RicLwjnVxArCiPqoVUPEIbFnruL5m7VBL89ZXBCix7c',\n",
              " 'updatedCells': 912,\n",
              " 'updatedColumns': 8,\n",
              " 'updatedRange': 'fpr_clusters_after_qa_fr_fr!A1:H114',\n",
              " 'updatedRows': 114}"
            ]
          },
          "metadata": {},
          "execution_count": 39
        }
      ]
    },
    {
      "cell_type": "code",
      "source": [
        ""
      ],
      "metadata": {
        "id": "9qw8WcZvuWG6"
      },
      "execution_count": null,
      "outputs": []
    }
  ]
}