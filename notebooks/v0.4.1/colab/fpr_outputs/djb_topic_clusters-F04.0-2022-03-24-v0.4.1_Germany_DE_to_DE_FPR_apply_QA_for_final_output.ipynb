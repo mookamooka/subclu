{
  "nbformat": 4,
  "nbformat_minor": 0,
  "metadata": {
    "colab": {
      "name": "djb_topic_clusters-F04.1-2022-04-06-v0.4.1_Germany_DE_to_DE_FPR_apply_QA_for_final_output.ipynb",
      "provenance": [],
      "collapsed_sections": [
        "Y5QYz4t5qXgv",
        "5TH350bzUsR9",
        "ruXaYJdq8zL0",
        "dVXfcDlqWjPe"
      ]
    },
    "kernelspec": {
      "name": "python3",
      "display_name": "Python 3"
    },
    "language_info": {
      "name": "python"
    }
  },
  "cells": [
    {
      "cell_type": "markdown",
      "metadata": {
        "id": "iVZuLSOgZVC8"
      },
      "source": [
        "# Purpose\n",
        "\n",
        "### 2022-03-22\n",
        "- model version: 4.0.1\n",
        "\n",
        "In this notebook we apply the filters from the QA process to get the final output for Australia-relevant subs. The primary use case is geo-relevant FPRs [[i18n/ML] One Feed Experiment Spec: UK/CA/AU/IN](https://docs.google.com/document/d/10z0ZlZuYnPYzUjlKHLy5iKClCk1AvMsy6LSL1wRK7FE/edit#heading=h.uozl6p2gc9i3).\n",
        "\n",
        "\n",
        "### Inputs:\n",
        "- Values from the QA spreadsheet\n",
        "    - Cluster IDs\n",
        "        - Recommend subs with the same cluster ID\n",
        "    - Subreddits that are not country-relevant\n",
        "        - Remove them\n",
        "    - Subreddits that are NSFW\n",
        "        - Remove them\n",
        "    - Subreddits that don't belong to a cluster\n",
        "        - Remove them\n",
        "\n",
        "### Outputs\n",
        "- Write to a new tab in google sheets with format needed for FPRs\n",
        "    - Use `gspread` to write table outputs directly to google sheets\n",
        "\n",
        "\n",
        "### Reference\n",
        "[Notebook template for v0.4.0 model](https://colab.research.google.com/drive/19p3O5DGxiEXj57OeCFf2gVIagUgCLx9v?usp=sharing)"
      ]
    },
    {
      "cell_type": "markdown",
      "metadata": {
        "id": "c2qXnQ5IV9Z7"
      },
      "source": [
        "# Imports & notebook setup"
      ]
    },
    {
      "cell_type": "code",
      "metadata": {
        "id": "pCuWmkxaGYwm",
        "colab": {
          "base_uri": "https://localhost:8080/"
        },
        "outputId": "2f5f24e4-7a71-41a3-dea4-83d8788a179e"
      },
      "source": [
        "%load_ext google.colab.data_table\n",
        "%load_ext autoreload\n",
        "%autoreload 2"
      ],
      "execution_count": null,
      "outputs": [
        {
          "output_type": "stream",
          "name": "stdout",
          "text": [
            "The google.colab.data_table extension is already loaded. To reload it, use:\n",
            "  %reload_ext google.colab.data_table\n",
            "The autoreload extension is already loaded. To reload it, use:\n",
            "  %reload_ext autoreload\n"
          ]
        }
      ]
    },
    {
      "cell_type": "code",
      "metadata": {
        "colab": {
          "base_uri": "https://localhost:8080/"
        },
        "id": "tS4ktaPaGwbh",
        "outputId": "b935fc54-6efa-44ad-f412-cbe07c94dbd3"
      },
      "source": [
        "# colab auth for BigQuery & google drive\n",
        "from google.colab import auth, files, drive\n",
        "import sys  # need sys for mounting gdrive path\n",
        "\n",
        "auth.authenticate_user()\n",
        "print('Authenticated')"
      ],
      "execution_count": null,
      "outputs": [
        {
          "output_type": "stream",
          "name": "stdout",
          "text": [
            "Authenticated\n"
          ]
        }
      ]
    },
    {
      "cell_type": "markdown",
      "source": [
        "### Append google-drive"
      ],
      "metadata": {
        "id": "Y5QYz4t5qXgv"
      }
    },
    {
      "cell_type": "code",
      "metadata": {
        "colab": {
          "base_uri": "https://localhost:8080/"
        },
        "id": "kuOoJT3noOPE",
        "outputId": "2f0494bd-0398-4fb9-fee7-dfcfafa9bcd9"
      },
      "source": [
        "# Attach google drive & import my python utility functions\n",
        "# if drive.mount() fails, you can also:\n",
        "#   MANUALLY CLICK ON \"Mount Drive\"\n",
        "g_drive_root = '/content/drive'\n",
        "\n",
        "try:\n",
        "    drive.mount(g_drive_root, force_remount=True)\n",
        "    print('   Authenticated & mounted Google Drive')\n",
        "except Exception as e:\n",
        "    print(e)\n",
        "    raise Exception('You might need to manually mount google drive to colab')\n",
        "\n",
        "l_paths_to_append = [\n",
        "    f'{g_drive_root}/MyDrive/Colab Notebooks',\n",
        "\n",
        "    # need to append the path to subclu so that colab can import things properly\n",
        "    f'{g_drive_root}/MyDrive/Colab Notebooks/subreddit_clustering_i18n'\n",
        "]\n",
        "for path_ in l_paths_to_append:\n",
        "    if path_ in sys.path:\n",
        "        sys.path.remove(path_)\n",
        "    print(f\" Appending path: {path_}\")\n",
        "    sys.path.append(path_)"
      ],
      "execution_count": null,
      "outputs": [
        {
          "output_type": "stream",
          "name": "stdout",
          "text": [
            "Mounted at /content/drive\n",
            "   Authenticated & mounted Google Drive\n",
            " Appending path: /content/drive/MyDrive/Colab Notebooks\n",
            " Appending path: /content/drive/MyDrive/Colab Notebooks/subreddit_clustering_i18n\n"
          ]
        }
      ]
    },
    {
      "cell_type": "markdown",
      "metadata": {
        "id": "6jFbY64VRAGX"
      },
      "source": [
        "### Install custom libraries"
      ]
    },
    {
      "cell_type": "code",
      "metadata": {
        "id": "Kpey-jzFbiXu"
      },
      "source": [
        "# install subclu & libraries needed to read parquet files from GCS & spreadsheets\n",
        "#  make sure to use the [colab] `extra` because it includes colab-specific libraries\n",
        "module_path = f\"{g_drive_root}/MyDrive/Colab Notebooks/subreddit_clustering_i18n/[colab]\"\n",
        "\n",
        "!pip install -e $\"$module_path\" --quiet"
      ],
      "execution_count": null,
      "outputs": []
    },
    {
      "cell_type": "markdown",
      "metadata": {
        "id": "5TH350bzUsR9"
      },
      "source": [
        "### General Imports\n"
      ]
    },
    {
      "cell_type": "code",
      "metadata": {
        "id": "9TpWbXh5mzew"
      },
      "source": [
        "# Regular Imports\n",
        "import os\n",
        "from datetime import datetime\n",
        "\n",
        "from google.cloud import bigquery\n",
        "\n",
        "import matplotlib.pyplot as plt\n",
        "import pandas as pd\n",
        "import numpy as np\n",
        "import seaborn as sns\n",
        "from matplotlib_venn import venn2_unweighted, venn3_unweighted\n",
        "from tqdm import tqdm\n",
        "\n",
        "# auth for google sheets\n",
        "import gspread\n",
        "from oauth2client.client import GoogleCredentials\n",
        "gc = gspread.authorize(GoogleCredentials.get_application_default())\n",
        "\n",
        "\n",
        "# Set env variable needed by some libraries to get datay from BigQuery\n",
        "# os.environ['GOOGLE_CLOUD_PROJECT'] = 'data-science-prod-218515'\n",
        "os.environ['GOOGLE_CLOUD_PROJECT'] = 'data-prod-165221'"
      ],
      "execution_count": null,
      "outputs": []
    },
    {
      "cell_type": "markdown",
      "metadata": {
        "id": "BMQYoHOTcAlP"
      },
      "source": [
        "### `subclu` import (custom module)"
      ]
    },
    {
      "cell_type": "code",
      "metadata": {
        "colab": {
          "base_uri": "https://localhost:8080/"
        },
        "id": "Cj_y2KtccJ8P",
        "outputId": "4645ee2b-b602-46e0-f8ed-ff7379005774"
      },
      "source": [
        "# subclu imports\n",
        "\n",
        "from subclu.utils.eda import (\n",
        "    setup_logging, counts_describe, value_counts_and_pcts,\n",
        "    notebook_display_config, print_lib_versions,\n",
        "    style_df_numeric, reorder_array,\n",
        ")\n",
        "from subclu.models.clustering_utils import (\n",
        "    create_dynamic_clusters,\n",
        "    convert_distance_or_ab_to_list_for_fpr\n",
        ")\n",
        "from subclu.models.reshape_clusters_v041 import (\n",
        "    get_subs_to_filter_as_df\n",
        ")\n",
        "\n",
        "\n",
        "setup_logging()\n",
        "print_lib_versions([gspread, pd, np])"
      ],
      "execution_count": null,
      "outputs": [
        {
          "output_type": "stream",
          "name": "stdout",
          "text": [
            "python\t\tv 3.7.13\n",
            "===\n",
            "gspread\t\tv: 4.0.1\n",
            "pandas\t\tv: 1.3.5\n",
            "numpy\t\tv: 1.21.5\n"
          ]
        }
      ]
    },
    {
      "cell_type": "markdown",
      "source": [
        "# Checklist to re-run for a country:\n",
        "\n",
        "- Copy google sheet cell from 1st notebook so it matches:\n",
        "    - Google sheet KEY\n",
        "    - country name for google sheet name\n",
        "    - country initial in google sheet\n",
        "- Add new sheet to create: `clusters_t2t_fpr_after_qa`\n",
        "    - Here's where we'll save the clusters after QA\n"
      ],
      "metadata": {
        "id": "NcUyRqG1t2ul"
      }
    },
    {
      "cell_type": "markdown",
      "source": [
        "# Google sheet with country QA\n",
        "\n",
        "For now, copy the same cell from the QA notebook. \n",
        "\n",
        "In the future we might need to register QA sheets in a central location to reduce copy/pasta."
      ],
      "metadata": {
        "id": "xp9fRYijuYdT"
      }
    },
    {
      "cell_type": "code",
      "source": [
        "# # %%time\n",
        "os.environ['GOOGLE_CLOUD_PROJECT'] = 'data-prod-165221'\n",
        "\n",
        "country_name_sheet_ = 'Germany'\n",
        "target_abbrev_ = 'DE'\n",
        "GSHEET_KEY = '1K0GPk-ud_UNPun_5EaODxY4CoywTEUbMyF8NNsk2q-8'\n",
        "GSHEET_NAME = f'i18n {country_name_sheet_} subreddits and clusters - model v0.4.1'\n",
        "\n",
        "\n",
        "d_wsh_names = {\n",
        "    'qa_ready': {\n",
        "        'name': 'subs_need_to_be_rated',\n",
        "    },\n",
        "    'clusters_t2t_list_raw': {\n",
        "        'name': f'raw_clusters_list_{target_abbrev_}_{target_abbrev_}',\n",
        "    },\n",
        "    'sub_raw': {\n",
        "        'name': 'raw_data_per_subreddit',\n",
        "    },\n",
        "    'clusters_t2t_fpr_raw': {\n",
        "        'name': f'raw_clusters_fpr_{target_abbrev_}_{target_abbrev_}',\n",
        "    },\n",
        "    'clusters_t2t_fpr_after_qa': {\n",
        "        'name': f'fpr_clusters_after_qa_{target_abbrev_}_{target_abbrev_}',\n",
        "    },\n",
        "}\n",
        "\n",
        "if GSHEET_KEY is not None:\n",
        "    sh = gc.open_by_key(GSHEET_KEY)\n",
        "    print(f\"Opening google worksheet: {GSHEET_NAME} ...\")\n",
        "else:\n",
        "    print(f\"** Creating google worksheet: {GSHEET_NAME} ...\")\n",
        "    sh = gc.create(GSHEET_NAME)\n",
        "\n",
        "# create worksheets:\n",
        "for _, d_ in d_wsh_names.items():\n",
        "    sh_name = d_['name']\n",
        "    try:\n",
        "        d_['worksheet'] = sh.worksheet(sh_name)\n",
        "        print(f\"  Opening tab/sheet: {sh_name} ...\")\n",
        "    except Exception as e:\n",
        "        print(f\"  ** Creating tab/sheet: {sh_name} ...\")\n",
        "        d_['worksheet'] = sh.add_worksheet(sh_name, rows=5, cols=5)\n",
        "\n",
        "if GSHEET_KEY is None:\n",
        "    print(f\"\\n*** New sheet ID (assign it to GSHEET_KEY variable): ***\\n{sh.id}\\n\")"
      ],
      "metadata": {
        "colab": {
          "base_uri": "https://localhost:8080/"
        },
        "id": "P2nVB2ehuWRf",
        "outputId": "54fb3d75-ec18-4aca-ce74-e7a71d302a5c"
      },
      "execution_count": null,
      "outputs": [
        {
          "output_type": "stream",
          "name": "stdout",
          "text": [
            "Opening google worksheet: i18n Germany subreddits and clusters - model v0.4.1 ...\n",
            "  Opening tab/sheet: subs_need_to_be_rated ...\n",
            "  Opening tab/sheet: raw_clusters_list_DE_DE ...\n",
            "  Opening tab/sheet: raw_data_per_subreddit ...\n",
            "  Opening tab/sheet: raw_clusters_fpr_DE_DE ...\n",
            "  Opening tab/sheet: fpr_clusters_after_qa_DE_DE ...\n"
          ]
        }
      ]
    },
    {
      "cell_type": "markdown",
      "source": [
        "# Get latest ratings & flags (e.g., `allow_discovery`)"
      ],
      "metadata": {
        "id": "c9r0nVpH4XRu"
      }
    },
    {
      "cell_type": "markdown",
      "source": [
        "## SQL"
      ],
      "metadata": {
        "id": "ruXaYJdq8zL0"
      }
    },
    {
      "cell_type": "code",
      "source": [
        "%%time\n",
        "%%bigquery df_latest_ratings --project data-science-prod-218515 \n",
        "\n",
        "-- Get ratings & other flags for all subs in the model\n",
        "--  we'll filter/match to country in python\n",
        "DECLARE PARTITION_DATE DATE DEFAULT (CURRENT_DATE() - 1);\n",
        "\n",
        "SELECT\n",
        "    t.subreddit_id\n",
        "    , t.subreddit_name\n",
        "    , CASE WHEN nt.rating_short = 'E' THEN True\n",
        "        ELSE False\n",
        "    END AS rated_e_latest\n",
        "    , slo.over_18\n",
        "    , slo.allow_discovery\n",
        "    , nt.rating_short\n",
        "    , slo.type\n",
        "    , nt.primary_topic\n",
        "    , nt.rating_name\n",
        "\n",
        "FROM `reddit-employee-datasets.david_bermejo.subclu_v0041_subreddit_clusters_c_a` AS t\n",
        "    -- Add rating so we can get filter out subs not rated as E\n",
        "    LEFT JOIN (\n",
        "        SELECT *\n",
        "        FROM `data-prod-165221.ds_v2_postgres_tables.subreddit_lookup`\n",
        "        -- Get latest partition\n",
        "        WHERE dt = PARTITION_DATE\n",
        "    ) AS slo\n",
        "        ON t.subreddit_id = slo.subreddit_id\n",
        "    LEFT JOIN (\n",
        "        SELECT * FROM `data-prod-165221.cnc.shredded_crowdsource_topic_and_rating`\n",
        "        WHERE pt = PARTITION_DATE\n",
        "    ) AS nt\n",
        "        ON t.subreddit_id = nt.subreddit_id\n",
        "\n",
        "WHERE 1=1\n",
        "    AND t.subreddit_name != 'profile'\n",
        "    -- For this query, we want to keep these values to know\n",
        "    --  if they have changed since last time\n",
        "    -- AND COALESCE(slo.type, '') = 'public'\n",
        "    -- AND COALESCE(slo.verdict, 'f') <> 'admin_removed'\n",
        "    -- AND COALESCE(slo.over_18, 'f') = 'f'\n",
        "    -- AND COALESCE(nt.rating_short, '') NOT IN ('X', 'D')\n",
        "\n",
        "ORDER BY subreddit_name\n",
        ";"
      ],
      "metadata": {
        "colab": {
          "base_uri": "https://localhost:8080/"
        },
        "id": "oxODoHWv4flO",
        "outputId": "c16aa2e5-7798-47f8-9327-ea27e1db750d"
      },
      "execution_count": null,
      "outputs": [
        {
          "output_type": "stream",
          "name": "stdout",
          "text": [
            "CPU times: user 2.06 s, sys: 172 ms, total: 2.23 s\n",
            "Wall time: 10.2 s\n"
          ]
        }
      ]
    },
    {
      "cell_type": "markdown",
      "source": [
        "## Inspect latest ratings"
      ],
      "metadata": {
        "id": "gdGAO1Ra8v-A"
      }
    },
    {
      "cell_type": "code",
      "source": [
        "print(df_latest_ratings.shape)\n",
        "df_latest_ratings.head()"
      ],
      "metadata": {
        "colab": {
          "base_uri": "https://localhost:8080/",
          "height": 215
        },
        "id": "5iPb4rqo8Nax",
        "outputId": "56c2d974-34d7-4a95-827d-71ace4b9f886"
      },
      "execution_count": null,
      "outputs": [
        {
          "output_type": "stream",
          "name": "stdout",
          "text": [
            "(49558, 9)\n"
          ]
        },
        {
          "output_type": "execute_result",
          "data": {
            "text/plain": [
              "  subreddit_id  subreddit_name  rated_e_latest over_18 allow_discovery  \\\n",
              "0    t5_46wt4h    0hthaatsjaay           False    None            None   \n",
              "1    t5_4byrct  0nlyfantastic0           False    None            None   \n",
              "2    t5_36f9u6       0nlyleaks           False    None            None   \n",
              "3    t5_2qlzfy    0sanitymemes           False    None            None   \n",
              "4    t5_2qgijx       0xpolygon            True    None            None   \n",
              "\n",
              "  rating_short  type                    primary_topic rating_name  \n",
              "0         None  None  Mature Themes and Adult Content        None  \n",
              "1         None  None                             None        None  \n",
              "2         None  None                             None        None  \n",
              "3            M  None       Internet Culture and Memes      Mature  \n",
              "4            E  None                           Crypto    Everyone  "
            ],
            "text/html": [
              "\n",
              "  <div id=\"df-6b4e8f21-003f-4d31-bcb7-4cbc221ff3c4\">\n",
              "    <div class=\"colab-df-container\">\n",
              "      <div>\n",
              "<style scoped>\n",
              "    .dataframe tbody tr th:only-of-type {\n",
              "        vertical-align: middle;\n",
              "    }\n",
              "\n",
              "    .dataframe tbody tr th {\n",
              "        vertical-align: top;\n",
              "    }\n",
              "\n",
              "    .dataframe thead th {\n",
              "        text-align: right;\n",
              "    }\n",
              "</style>\n",
              "<table border=\"1\" class=\"dataframe\">\n",
              "  <thead>\n",
              "    <tr style=\"text-align: right;\">\n",
              "      <th></th>\n",
              "      <th>subreddit_id</th>\n",
              "      <th>subreddit_name</th>\n",
              "      <th>rated_e_latest</th>\n",
              "      <th>over_18</th>\n",
              "      <th>allow_discovery</th>\n",
              "      <th>rating_short</th>\n",
              "      <th>type</th>\n",
              "      <th>primary_topic</th>\n",
              "      <th>rating_name</th>\n",
              "    </tr>\n",
              "  </thead>\n",
              "  <tbody>\n",
              "    <tr>\n",
              "      <th>0</th>\n",
              "      <td>t5_46wt4h</td>\n",
              "      <td>0hthaatsjaay</td>\n",
              "      <td>False</td>\n",
              "      <td>None</td>\n",
              "      <td>None</td>\n",
              "      <td>None</td>\n",
              "      <td>None</td>\n",
              "      <td>Mature Themes and Adult Content</td>\n",
              "      <td>None</td>\n",
              "    </tr>\n",
              "    <tr>\n",
              "      <th>1</th>\n",
              "      <td>t5_4byrct</td>\n",
              "      <td>0nlyfantastic0</td>\n",
              "      <td>False</td>\n",
              "      <td>None</td>\n",
              "      <td>None</td>\n",
              "      <td>None</td>\n",
              "      <td>None</td>\n",
              "      <td>None</td>\n",
              "      <td>None</td>\n",
              "    </tr>\n",
              "    <tr>\n",
              "      <th>2</th>\n",
              "      <td>t5_36f9u6</td>\n",
              "      <td>0nlyleaks</td>\n",
              "      <td>False</td>\n",
              "      <td>None</td>\n",
              "      <td>None</td>\n",
              "      <td>None</td>\n",
              "      <td>None</td>\n",
              "      <td>None</td>\n",
              "      <td>None</td>\n",
              "    </tr>\n",
              "    <tr>\n",
              "      <th>3</th>\n",
              "      <td>t5_2qlzfy</td>\n",
              "      <td>0sanitymemes</td>\n",
              "      <td>False</td>\n",
              "      <td>None</td>\n",
              "      <td>None</td>\n",
              "      <td>M</td>\n",
              "      <td>None</td>\n",
              "      <td>Internet Culture and Memes</td>\n",
              "      <td>Mature</td>\n",
              "    </tr>\n",
              "    <tr>\n",
              "      <th>4</th>\n",
              "      <td>t5_2qgijx</td>\n",
              "      <td>0xpolygon</td>\n",
              "      <td>True</td>\n",
              "      <td>None</td>\n",
              "      <td>None</td>\n",
              "      <td>E</td>\n",
              "      <td>None</td>\n",
              "      <td>Crypto</td>\n",
              "      <td>Everyone</td>\n",
              "    </tr>\n",
              "  </tbody>\n",
              "</table>\n",
              "</div>\n",
              "      <button class=\"colab-df-convert\" onclick=\"convertToInteractive('df-6b4e8f21-003f-4d31-bcb7-4cbc221ff3c4')\"\n",
              "              title=\"Convert this dataframe to an interactive table.\"\n",
              "              style=\"display:none;\">\n",
              "        \n",
              "  <svg xmlns=\"http://www.w3.org/2000/svg\" height=\"24px\"viewBox=\"0 0 24 24\"\n",
              "       width=\"24px\">\n",
              "    <path d=\"M0 0h24v24H0V0z\" fill=\"none\"/>\n",
              "    <path d=\"M18.56 5.44l.94 2.06.94-2.06 2.06-.94-2.06-.94-.94-2.06-.94 2.06-2.06.94zm-11 1L8.5 8.5l.94-2.06 2.06-.94-2.06-.94L8.5 2.5l-.94 2.06-2.06.94zm10 10l.94 2.06.94-2.06 2.06-.94-2.06-.94-.94-2.06-.94 2.06-2.06.94z\"/><path d=\"M17.41 7.96l-1.37-1.37c-.4-.4-.92-.59-1.43-.59-.52 0-1.04.2-1.43.59L10.3 9.45l-7.72 7.72c-.78.78-.78 2.05 0 2.83L4 21.41c.39.39.9.59 1.41.59.51 0 1.02-.2 1.41-.59l7.78-7.78 2.81-2.81c.8-.78.8-2.07 0-2.86zM5.41 20L4 18.59l7.72-7.72 1.47 1.35L5.41 20z\"/>\n",
              "  </svg>\n",
              "      </button>\n",
              "      \n",
              "  <style>\n",
              "    .colab-df-container {\n",
              "      display:flex;\n",
              "      flex-wrap:wrap;\n",
              "      gap: 12px;\n",
              "    }\n",
              "\n",
              "    .colab-df-convert {\n",
              "      background-color: #E8F0FE;\n",
              "      border: none;\n",
              "      border-radius: 50%;\n",
              "      cursor: pointer;\n",
              "      display: none;\n",
              "      fill: #1967D2;\n",
              "      height: 32px;\n",
              "      padding: 0 0 0 0;\n",
              "      width: 32px;\n",
              "    }\n",
              "\n",
              "    .colab-df-convert:hover {\n",
              "      background-color: #E2EBFA;\n",
              "      box-shadow: 0px 1px 2px rgba(60, 64, 67, 0.3), 0px 1px 3px 1px rgba(60, 64, 67, 0.15);\n",
              "      fill: #174EA6;\n",
              "    }\n",
              "\n",
              "    [theme=dark] .colab-df-convert {\n",
              "      background-color: #3B4455;\n",
              "      fill: #D2E3FC;\n",
              "    }\n",
              "\n",
              "    [theme=dark] .colab-df-convert:hover {\n",
              "      background-color: #434B5C;\n",
              "      box-shadow: 0px 1px 3px 1px rgba(0, 0, 0, 0.15);\n",
              "      filter: drop-shadow(0px 1px 2px rgba(0, 0, 0, 0.3));\n",
              "      fill: #FFFFFF;\n",
              "    }\n",
              "  </style>\n",
              "\n",
              "      <script>\n",
              "        const buttonEl =\n",
              "          document.querySelector('#df-6b4e8f21-003f-4d31-bcb7-4cbc221ff3c4 button.colab-df-convert');\n",
              "        buttonEl.style.display =\n",
              "          google.colab.kernel.accessAllowed ? 'block' : 'none';\n",
              "\n",
              "        async function convertToInteractive(key) {\n",
              "          const element = document.querySelector('#df-6b4e8f21-003f-4d31-bcb7-4cbc221ff3c4');\n",
              "          const dataTable =\n",
              "            await google.colab.kernel.invokeFunction('convertToInteractive',\n",
              "                                                     [key], {});\n",
              "          if (!dataTable) return;\n",
              "\n",
              "          const docLinkHtml = 'Like what you see? Visit the ' +\n",
              "            '<a target=\"_blank\" href=https://colab.research.google.com/notebooks/data_table.ipynb>data table notebook</a>'\n",
              "            + ' to learn more about interactive tables.';\n",
              "          element.innerHTML = '';\n",
              "          dataTable['output_type'] = 'display_data';\n",
              "          await google.colab.output.renderOutput(dataTable, element);\n",
              "          const docLink = document.createElement('div');\n",
              "          docLink.innerHTML = docLinkHtml;\n",
              "          element.appendChild(docLink);\n",
              "        }\n",
              "      </script>\n",
              "    </div>\n",
              "  </div>\n",
              "  "
            ],
            "application/vnd.google.colaboratory.module+javascript": "\n      import \"https://ssl.gstatic.com/colaboratory/data_table/81f25a011006ed3d/data_table.js\";\n\n      window.createDataTable({\n        data: [[{\n            'v': 0,\n            'f': \"0\",\n        },\n\"t5_46wt4h\",\n\"0hthaatsjaay\",\nfalse,\n{\n            'v': null,\n            'f': \"null\",\n        },\n{\n            'v': null,\n            'f': \"null\",\n        },\nnull,\n{\n            'v': null,\n            'f': \"null\",\n        },\n\"Mature Themes and Adult Content\",\nnull],\n [{\n            'v': 1,\n            'f': \"1\",\n        },\n\"t5_4byrct\",\n\"0nlyfantastic0\",\nfalse,\n{\n            'v': null,\n            'f': \"null\",\n        },\n{\n            'v': null,\n            'f': \"null\",\n        },\nnull,\n{\n            'v': null,\n            'f': \"null\",\n        },\nnull,\nnull],\n [{\n            'v': 2,\n            'f': \"2\",\n        },\n\"t5_36f9u6\",\n\"0nlyleaks\",\nfalse,\n{\n            'v': null,\n            'f': \"null\",\n        },\n{\n            'v': null,\n            'f': \"null\",\n        },\nnull,\n{\n            'v': null,\n            'f': \"null\",\n        },\nnull,\nnull],\n [{\n            'v': 3,\n            'f': \"3\",\n        },\n\"t5_2qlzfy\",\n\"0sanitymemes\",\nfalse,\n{\n            'v': null,\n            'f': \"null\",\n        },\n{\n            'v': null,\n            'f': \"null\",\n        },\n\"M\",\n{\n            'v': null,\n            'f': \"null\",\n        },\n\"Internet Culture and Memes\",\n\"Mature\"],\n [{\n            'v': 4,\n            'f': \"4\",\n        },\n\"t5_2qgijx\",\n\"0xpolygon\",\ntrue,\n{\n            'v': null,\n            'f': \"null\",\n        },\n{\n            'v': null,\n            'f': \"null\",\n        },\n\"E\",\n{\n            'v': null,\n            'f': \"null\",\n        },\n\"Crypto\",\n\"Everyone\"]],\n        columns: [[\"number\", \"index\"], [\"string\", \"subreddit_id\"], [\"string\", \"subreddit_name\"], [\"string\", \"rated_e_latest\"], [\"number\", \"over_18\"], [\"number\", \"allow_discovery\"], [\"string\", \"rating_short\"], [\"number\", \"type\"], [\"string\", \"primary_topic\"], [\"string\", \"rating_name\"]],\n        columnOptions: [{\"width\": \"1px\", \"className\": \"index_column\"}],\n        rowsPerPage: 25,\n        helpUrl: \"https://colab.research.google.com/notebooks/data_table.ipynb\",\n        suppressOutputScrolling: true,\n        minimumWidth: undefined,\n      });\n    "
          },
          "metadata": {},
          "execution_count": 16
        }
      ]
    },
    {
      "cell_type": "markdown",
      "source": [
        "# Google sheet with subreddits to exclude\n",
        "Spiros created [this sheet](https://docs.google.com/spreadsheets/d/1JiDpiLa8RKRTC0ZxjLI0ISgtngAFWTEbsoYEoeeaVO8/edit#gid=733540374) for subs that are missing rating or have ratings that look wrong.\n",
        "\n",
        "To be safe, we'll be excluding all the subs in these sheets.\n"
      ],
      "metadata": {
        "id": "OiDPbwH1tApB"
      }
    },
    {
      "cell_type": "code",
      "source": [
        "GSHEET_KEY_EXCLUDES = '1JiDpiLa8RKRTC0ZxjLI0ISgtngAFWTEbsoYEoeeaVO8'\n",
        "sh_filter = gc.open_by_key(GSHEET_KEY_EXCLUDES)\n",
        "\n",
        "df_subs_to_filter = get_subs_to_filter_as_df(sh_filter, cols_to_keep='core')"
      ],
      "metadata": {
        "colab": {
          "base_uri": "https://localhost:8080/"
        },
        "id": "A7bxTP2PtOlP",
        "outputId": "05853910-dceb-41cb-f7d9-71353b266a4a"
      },
      "execution_count": null,
      "outputs": [
        {
          "output_type": "stream",
          "name": "stderr",
          "text": [
            "100%|██████████| 8/8 [00:04<00:00,  1.93it/s]"
          ]
        },
        {
          "output_type": "stream",
          "name": "stdout",
          "text": [
            "\n",
            "(1374, 3) <- df_subs to filter shape\n"
          ]
        },
        {
          "output_type": "stream",
          "name": "stderr",
          "text": [
            "\n"
          ]
        }
      ]
    },
    {
      "cell_type": "code",
      "source": [
        "counts_describe(df_subs_to_filter)"
      ],
      "metadata": {
        "colab": {
          "base_uri": "https://localhost:8080/",
          "height": 144
        },
        "id": "EpAlf4ewtOex",
        "outputId": "511ef0d3-cb0e-4119-f525-a7d258e5739b"
      },
      "execution_count": null,
      "outputs": [
        {
          "output_type": "execute_result",
          "data": {
            "text/plain": [
              "<pandas.io.formats.style.Styler at 0x7f29b9209390>"
            ],
            "text/html": [
              "<style type=\"text/css\">\n",
              "</style>\n",
              "<table id=\"T_965d4_\" class=\"dataframe\">\n",
              "  <thead>\n",
              "    <tr>\n",
              "      <th class=\"blank level0\" >&nbsp;</th>\n",
              "      <th class=\"col_heading level0 col0\" >dtype</th>\n",
              "      <th class=\"col_heading level0 col1\" >count</th>\n",
              "      <th class=\"col_heading level0 col2\" >unique</th>\n",
              "      <th class=\"col_heading level0 col3\" >unique-percent</th>\n",
              "      <th class=\"col_heading level0 col4\" >null-count</th>\n",
              "      <th class=\"col_heading level0 col5\" >null-percent</th>\n",
              "    </tr>\n",
              "  </thead>\n",
              "  <tbody>\n",
              "    <tr>\n",
              "      <th id=\"T_965d4_level0_row0\" class=\"row_heading level0 row0\" >subreddit_name</th>\n",
              "      <td id=\"T_965d4_row0_col0\" class=\"data row0 col0\" >object</td>\n",
              "      <td id=\"T_965d4_row0_col1\" class=\"data row0 col1\" >1,373</td>\n",
              "      <td id=\"T_965d4_row0_col2\" class=\"data row0 col2\" >1,373</td>\n",
              "      <td id=\"T_965d4_row0_col3\" class=\"data row0 col3\" >100.00%</td>\n",
              "      <td id=\"T_965d4_row0_col4\" class=\"data row0 col4\" >1</td>\n",
              "      <td id=\"T_965d4_row0_col5\" class=\"data row0 col5\" >0.07%</td>\n",
              "    </tr>\n",
              "    <tr>\n",
              "      <th id=\"T_965d4_level0_row1\" class=\"row_heading level0 row1\" >category</th>\n",
              "      <td id=\"T_965d4_row1_col0\" class=\"data row1 col0\" >object</td>\n",
              "      <td id=\"T_965d4_row1_col1\" class=\"data row1 col1\" >1,374</td>\n",
              "      <td id=\"T_965d4_row1_col2\" class=\"data row1 col2\" >88</td>\n",
              "      <td id=\"T_965d4_row1_col3\" class=\"data row1 col3\" >6.40%</td>\n",
              "      <td id=\"T_965d4_row1_col4\" class=\"data row1 col4\" >0</td>\n",
              "      <td id=\"T_965d4_row1_col5\" class=\"data row1 col5\" >0.00%</td>\n",
              "    </tr>\n",
              "    <tr>\n",
              "      <th id=\"T_965d4_level0_row2\" class=\"row_heading level0 row2\" >request_type</th>\n",
              "      <td id=\"T_965d4_row2_col0\" class=\"data row2 col0\" >object</td>\n",
              "      <td id=\"T_965d4_row2_col1\" class=\"data row2 col1\" >1,374</td>\n",
              "      <td id=\"T_965d4_row2_col2\" class=\"data row2 col2\" >9</td>\n",
              "      <td id=\"T_965d4_row2_col3\" class=\"data row2 col3\" >0.66%</td>\n",
              "      <td id=\"T_965d4_row2_col4\" class=\"data row2 col4\" >0</td>\n",
              "      <td id=\"T_965d4_row2_col5\" class=\"data row2 col5\" >0.00%</td>\n",
              "    </tr>\n",
              "  </tbody>\n",
              "</table>\n"
            ]
          },
          "metadata": {},
          "execution_count": 18
        }
      ]
    },
    {
      "cell_type": "code",
      "source": [
        "df_subs_to_filter.tail()"
      ],
      "metadata": {
        "colab": {
          "base_uri": "https://localhost:8080/",
          "height": 197
        },
        "id": "2B07Vzwl0HL5",
        "outputId": "1ec65cd1-b557-4bf0-839f-1ef5acc8350c"
      },
      "execution_count": null,
      "outputs": [
        {
          "output_type": "execute_result",
          "data": {
            "text/plain": [
              "     subreddit_name                   category    request_type\n",
              "648     liraglutide  Medical and Mental Health  Recheck Rating\n",
              "650  b12_deficiency  Medical and Mental Health  Recheck Rating\n",
              "652        epilepsy  Medical and Mental Health  Recheck Rating\n",
              "654             iih  Medical and Mental Health  Recheck Rating\n",
              "659       tourettes  Medical and Mental Health  Recheck Rating"
            ],
            "text/html": [
              "\n",
              "  <div id=\"df-11c8b759-853b-451f-8e9d-9e61b9517f85\">\n",
              "    <div class=\"colab-df-container\">\n",
              "      <div>\n",
              "<style scoped>\n",
              "    .dataframe tbody tr th:only-of-type {\n",
              "        vertical-align: middle;\n",
              "    }\n",
              "\n",
              "    .dataframe tbody tr th {\n",
              "        vertical-align: top;\n",
              "    }\n",
              "\n",
              "    .dataframe thead th {\n",
              "        text-align: right;\n",
              "    }\n",
              "</style>\n",
              "<table border=\"1\" class=\"dataframe\">\n",
              "  <thead>\n",
              "    <tr style=\"text-align: right;\">\n",
              "      <th></th>\n",
              "      <th>subreddit_name</th>\n",
              "      <th>category</th>\n",
              "      <th>request_type</th>\n",
              "    </tr>\n",
              "  </thead>\n",
              "  <tbody>\n",
              "    <tr>\n",
              "      <th>648</th>\n",
              "      <td>liraglutide</td>\n",
              "      <td>Medical and Mental Health</td>\n",
              "      <td>Recheck Rating</td>\n",
              "    </tr>\n",
              "    <tr>\n",
              "      <th>650</th>\n",
              "      <td>b12_deficiency</td>\n",
              "      <td>Medical and Mental Health</td>\n",
              "      <td>Recheck Rating</td>\n",
              "    </tr>\n",
              "    <tr>\n",
              "      <th>652</th>\n",
              "      <td>epilepsy</td>\n",
              "      <td>Medical and Mental Health</td>\n",
              "      <td>Recheck Rating</td>\n",
              "    </tr>\n",
              "    <tr>\n",
              "      <th>654</th>\n",
              "      <td>iih</td>\n",
              "      <td>Medical and Mental Health</td>\n",
              "      <td>Recheck Rating</td>\n",
              "    </tr>\n",
              "    <tr>\n",
              "      <th>659</th>\n",
              "      <td>tourettes</td>\n",
              "      <td>Medical and Mental Health</td>\n",
              "      <td>Recheck Rating</td>\n",
              "    </tr>\n",
              "  </tbody>\n",
              "</table>\n",
              "</div>\n",
              "      <button class=\"colab-df-convert\" onclick=\"convertToInteractive('df-11c8b759-853b-451f-8e9d-9e61b9517f85')\"\n",
              "              title=\"Convert this dataframe to an interactive table.\"\n",
              "              style=\"display:none;\">\n",
              "        \n",
              "  <svg xmlns=\"http://www.w3.org/2000/svg\" height=\"24px\"viewBox=\"0 0 24 24\"\n",
              "       width=\"24px\">\n",
              "    <path d=\"M0 0h24v24H0V0z\" fill=\"none\"/>\n",
              "    <path d=\"M18.56 5.44l.94 2.06.94-2.06 2.06-.94-2.06-.94-.94-2.06-.94 2.06-2.06.94zm-11 1L8.5 8.5l.94-2.06 2.06-.94-2.06-.94L8.5 2.5l-.94 2.06-2.06.94zm10 10l.94 2.06.94-2.06 2.06-.94-2.06-.94-.94-2.06-.94 2.06-2.06.94z\"/><path d=\"M17.41 7.96l-1.37-1.37c-.4-.4-.92-.59-1.43-.59-.52 0-1.04.2-1.43.59L10.3 9.45l-7.72 7.72c-.78.78-.78 2.05 0 2.83L4 21.41c.39.39.9.59 1.41.59.51 0 1.02-.2 1.41-.59l7.78-7.78 2.81-2.81c.8-.78.8-2.07 0-2.86zM5.41 20L4 18.59l7.72-7.72 1.47 1.35L5.41 20z\"/>\n",
              "  </svg>\n",
              "      </button>\n",
              "      \n",
              "  <style>\n",
              "    .colab-df-container {\n",
              "      display:flex;\n",
              "      flex-wrap:wrap;\n",
              "      gap: 12px;\n",
              "    }\n",
              "\n",
              "    .colab-df-convert {\n",
              "      background-color: #E8F0FE;\n",
              "      border: none;\n",
              "      border-radius: 50%;\n",
              "      cursor: pointer;\n",
              "      display: none;\n",
              "      fill: #1967D2;\n",
              "      height: 32px;\n",
              "      padding: 0 0 0 0;\n",
              "      width: 32px;\n",
              "    }\n",
              "\n",
              "    .colab-df-convert:hover {\n",
              "      background-color: #E2EBFA;\n",
              "      box-shadow: 0px 1px 2px rgba(60, 64, 67, 0.3), 0px 1px 3px 1px rgba(60, 64, 67, 0.15);\n",
              "      fill: #174EA6;\n",
              "    }\n",
              "\n",
              "    [theme=dark] .colab-df-convert {\n",
              "      background-color: #3B4455;\n",
              "      fill: #D2E3FC;\n",
              "    }\n",
              "\n",
              "    [theme=dark] .colab-df-convert:hover {\n",
              "      background-color: #434B5C;\n",
              "      box-shadow: 0px 1px 3px 1px rgba(0, 0, 0, 0.15);\n",
              "      filter: drop-shadow(0px 1px 2px rgba(0, 0, 0, 0.3));\n",
              "      fill: #FFFFFF;\n",
              "    }\n",
              "  </style>\n",
              "\n",
              "      <script>\n",
              "        const buttonEl =\n",
              "          document.querySelector('#df-11c8b759-853b-451f-8e9d-9e61b9517f85 button.colab-df-convert');\n",
              "        buttonEl.style.display =\n",
              "          google.colab.kernel.accessAllowed ? 'block' : 'none';\n",
              "\n",
              "        async function convertToInteractive(key) {\n",
              "          const element = document.querySelector('#df-11c8b759-853b-451f-8e9d-9e61b9517f85');\n",
              "          const dataTable =\n",
              "            await google.colab.kernel.invokeFunction('convertToInteractive',\n",
              "                                                     [key], {});\n",
              "          if (!dataTable) return;\n",
              "\n",
              "          const docLinkHtml = 'Like what you see? Visit the ' +\n",
              "            '<a target=\"_blank\" href=https://colab.research.google.com/notebooks/data_table.ipynb>data table notebook</a>'\n",
              "            + ' to learn more about interactive tables.';\n",
              "          element.innerHTML = '';\n",
              "          dataTable['output_type'] = 'display_data';\n",
              "          await google.colab.output.renderOutput(dataTable, element);\n",
              "          const docLink = document.createElement('div');\n",
              "          docLink.innerHTML = docLinkHtml;\n",
              "          element.appendChild(docLink);\n",
              "        }\n",
              "      </script>\n",
              "    </div>\n",
              "  </div>\n",
              "  "
            ],
            "application/vnd.google.colaboratory.module+javascript": "\n      import \"https://ssl.gstatic.com/colaboratory/data_table/81f25a011006ed3d/data_table.js\";\n\n      window.createDataTable({\n        data: [[{\n            'v': 648,\n            'f': \"648\",\n        },\n\"liraglutide\",\n\"Medical and Mental Health\",\n\"Recheck Rating\"],\n [{\n            'v': 650,\n            'f': \"650\",\n        },\n\"b12_deficiency\",\n\"Medical and Mental Health\",\n\"Recheck Rating\"],\n [{\n            'v': 652,\n            'f': \"652\",\n        },\n\"epilepsy\",\n\"Medical and Mental Health\",\n\"Recheck Rating\"],\n [{\n            'v': 654,\n            'f': \"654\",\n        },\n\"iih\",\n\"Medical and Mental Health\",\n\"Recheck Rating\"],\n [{\n            'v': 659,\n            'f': \"659\",\n        },\n\"tourettes\",\n\"Medical and Mental Health\",\n\"Recheck Rating\"]],\n        columns: [[\"number\", \"index\"], [\"string\", \"subreddit_name\"], [\"string\", \"category\"], [\"string\", \"request_type\"]],\n        columnOptions: [{\"width\": \"1px\", \"className\": \"index_column\"}],\n        rowsPerPage: 25,\n        helpUrl: \"https://colab.research.google.com/notebooks/data_table.ipynb\",\n        suppressOutputScrolling: true,\n        minimumWidth: undefined,\n      });\n    "
          },
          "metadata": {},
          "execution_count": 19
        }
      ]
    },
    {
      "cell_type": "markdown",
      "metadata": {
        "id": "DzFMkIHFdmQd"
      },
      "source": [
        "# Read QA results from sheet"
      ]
    },
    {
      "cell_type": "code",
      "metadata": {
        "colab": {
          "base_uri": "https://localhost:8080/"
        },
        "id": "jGP6NXGSboGu",
        "outputId": "2350e94f-6d97-4da3-cfa1-2e178f0184b8"
      },
      "source": [
        "%%time\n",
        "df_qa_raw = pd.DataFrame(\n",
        "    d_wsh_names['qa_ready']['worksheet'].get_all_records()\n",
        ")\n",
        "df_qa_raw = df_qa_raw.rename(columns={k: k.lower().strip().replace(' ', '_') for k in df_qa_raw.columns})\n",
        "\n",
        "df_qa_raw = df_qa_raw.dropna(subset=['subreddit_id', 'subreddit_name'])\n",
        "\n",
        "print(df_qa_raw.shape)"
      ],
      "execution_count": null,
      "outputs": [
        {
          "output_type": "stream",
          "name": "stdout",
          "text": [
            "(730, 35)\n",
            "CPU times: user 96.4 ms, sys: 249 µs, total: 96.7 ms\n",
            "Wall time: 908 ms\n"
          ]
        }
      ]
    },
    {
      "cell_type": "markdown",
      "source": [
        "# Reshape & filter data"
      ],
      "metadata": {
        "id": "Lu5ZLBzTEo7B"
      }
    },
    {
      "cell_type": "markdown",
      "metadata": {
        "id": "I_Q_ptCghuxM"
      },
      "source": [
        "## Add latest ratings to df with QA results\n",
        "\n",
        "We need the latest ratings & flags to make sure filters are up to date"
      ]
    },
    {
      "cell_type": "code",
      "source": [
        "latest_suffix = '_latest'\n",
        "\n",
        "col_rating_latest = f'rating_short{latest_suffix}'\n",
        "col_over_18_latest = f'over_18{latest_suffix}'\n",
        "col_rated_e_latest = 'rated_e_latest'\n",
        "col_allow_discovery_latest = 'allow_discovery_latest'\n",
        "col_primary_topic_latest = f\"primary_topic{latest_suffix}\"\n",
        "col_country_relevant = f'not_country_relevant'\n",
        "col_releveant_to_cluster = f'relevant_to_cluster/_other_subreddits_in_cluster'\n",
        "col_safe_to_show_in_cluster = f'safe_to_show_in_relation_to_cluster'\n",
        "\n",
        "col_new_cluster_val = 'cluster_label'\n",
        "col_new_cluster_name = 'cluster_label_k'\n",
        "col_model_sort_order = 'model_sort_order'\n",
        "\n",
        "l_cols_to_front = [\n",
        "    'subreddit_id',\n",
        "    'subreddit_name',\n",
        "    col_rated_e_latest,\n",
        "    col_over_18_latest,\n",
        "    col_allow_discovery_latest,\n",
        "    col_country_relevant,\n",
        "    col_releveant_to_cluster,\n",
        "    col_safe_to_show_in_cluster,\n",
        "\n",
        "    col_rating_latest,\n",
        "    'type',\n",
        "    col_primary_topic_latest,\n",
        "    col_new_cluster_val,\n",
        "    col_model_sort_order,\n",
        "    col_new_cluster_name,\n",
        "    'rating_short',\n",
        "    'over_18',\n",
        "]\n",
        "\n",
        "\n",
        "# Set some dtypes to prevent errors downstream\n",
        "df_qa_raw[col_model_sort_order] = df_qa_raw[col_model_sort_order].astype(int)\n",
        "\n"
      ],
      "metadata": {
        "id": "JcIUKzb3E-o1"
      },
      "execution_count": null,
      "outputs": []
    },
    {
      "cell_type": "code",
      "metadata": {
        "id": "rA5LyTuSiE6Q",
        "colab": {
          "base_uri": "https://localhost:8080/"
        },
        "outputId": "86a9f837-d24c-436d-8e5a-e228663b2dd5"
      },
      "source": [
        "df_qa_latest = (\n",
        "    df_latest_ratings.drop(['subreddit_name'], axis=1)\n",
        "    .merge(\n",
        "        df_qa_raw,\n",
        "        how='right',\n",
        "        on=['subreddit_id', ],\n",
        "        suffixes=(latest_suffix, ''),\n",
        "    )\n",
        "    .sort_values(\n",
        "        by=[col_model_sort_order], ascending=True,\n",
        "    )\n",
        ")\n",
        "\n",
        "# make sure all objects in col are str so we can sort by it\n",
        "df_qa_latest[col_new_cluster_val] = df_qa_latest[col_new_cluster_val].astype(str)\n",
        "\n",
        "df_qa_latest = df_qa_latest[\n",
        "    reorder_array(\n",
        "        l_cols_to_front,\n",
        "        df_qa_latest.columns\n",
        "    )\n",
        "]\n",
        "print(df_qa_latest.shape)"
      ],
      "execution_count": null,
      "outputs": [
        {
          "output_type": "stream",
          "name": "stdout",
          "text": [
            "(730, 42)\n"
          ]
        }
      ]
    },
    {
      "cell_type": "code",
      "source": [
        "# style_df_numeric(\n",
        "#     df_qa_latest.iloc[:5, :15],\n",
        "#     rename_cols_for_display=True,\n",
        "# )"
      ],
      "metadata": {
        "id": "0S34UsgJKUYY"
      },
      "execution_count": null,
      "outputs": []
    },
    {
      "cell_type": "markdown",
      "source": [
        "## Drop sensitive subreddits\n",
        "\n",
        "These have been flagged as too sensitive or risky to show up in recommendations, so we're excluding them even if the crowd-sourced rating is `E` (people troll... it's reddit, after all)."
      ],
      "metadata": {
        "id": "TMVDT3E_OLeS"
      }
    },
    {
      "cell_type": "code",
      "source": [
        "# might need to re-import in order for live updates to show up\n",
        "from subclu.models.reshape_clusters_v041 import (\n",
        "    _L_MATURE_CLUSTERS_TO_EXCLUDE_FROM_QA_,\n",
        "    _L_SENSITIVE_SUBREDDITS_TO_EXCLUDE_FROM_FPRS_,\n",
        "    remove_sensitive_clusters_and_subs,\n",
        "    print_subreddit_name_qa_checks,\n",
        "    apply_qa_filters_for_fpr,\n",
        ")\n",
        "\n",
        "print(len(_L_SENSITIVE_SUBREDDITS_TO_EXCLUDE_FROM_FPRS_))\n",
        "_L_SENSITIVE_SUBREDDITS_TO_EXCLUDE_FROM_FPRS_[30:38]"
      ],
      "metadata": {
        "colab": {
          "base_uri": "https://localhost:8080/"
        },
        "id": "3jEaoD7LdGbY",
        "outputId": "fd4e757f-ad87-4bcd-ae76-4e1f17fcf5cb"
      },
      "execution_count": null,
      "outputs": [
        {
          "output_type": "stream",
          "name": "stdout",
          "text": [
            "88\n"
          ]
        },
        {
          "output_type": "execute_result",
          "data": {
            "text/plain": [
              "['askthe_donald',\n",
              " 'benshapiro',\n",
              " 'tucker_carlson',\n",
              " 'trueanon',\n",
              " 'beholdthemasterrace',\n",
              " 'globallockdown',\n",
              " 'nurembergtwo',\n",
              " 'covidiots']"
            ]
          },
          "metadata": {},
          "execution_count": 67
        }
      ]
    },
    {
      "cell_type": "code",
      "source": [
        "df_qa_clean = remove_sensitive_clusters_and_subs(\n",
        "    df_qa_latest,\n",
        "    additional_subs_to_filter=df_subs_to_filter['subreddit_name'],\n",
        "    col_new_cluster_val='cluster_label',\n",
        "    print_qa_check=True,\n",
        ")"
      ],
      "metadata": {
        "colab": {
          "base_uri": "https://localhost:8080/"
        },
        "id": "jJsjaUOIt4k6",
        "outputId": "8f7c2bb6-4b76-4ebf-8bee-4b3e83a8e1b3"
      },
      "execution_count": null,
      "outputs": [
        {
          "output_type": "stream",
          "name": "stdout",
          "text": [
            "(730, 42) <- Initial shape\n",
            "(720, 42) <- Shape AFTER dropping place-clusters\n",
            "(720, 42) <- Shape AFTER dropping covid-clusters\n",
            "(711, 42) <- Shape AFTER dropping sensitive clusters\n",
            "(672, 42) <- Shape AFTER dropping flagged subs A\n",
            "(668, 42) <- Shape AFTER dropping flagged subs B\n",
            "(666, 42) <- Shape AFTER dropping covid-related subs\n",
            "64 <- Total subreddits removed\n",
            "\n",
            "QA keyword subreddit checks:\n",
            "  ['corona']\n",
            "  ['nichtdietagespresse']\n",
            "  ['tuebingen']\n",
            "\n"
          ]
        }
      ]
    },
    {
      "cell_type": "markdown",
      "metadata": {
        "id": "UeRLdnYk8lOZ"
      },
      "source": [
        "# Apply filters based on QA + latest ratings\n",
        "\n",
        "Keep only subreddits that\n",
        "- Are rated as `E`\n",
        "    - Double check: `over_18` should be `f` or `NULL` \n",
        "- Relevant to country (`TRUE`)\n",
        "- Relevant to cluster (`TRUE`)\n",
        "- Safe to show in cluster (`TRUE`)\n",
        "- Have the `allow_discovery` flag to `t` or `NULL` (i.e., NOT `f`) \n"
      ]
    },
    {
      "cell_type": "code",
      "source": [
        "l_cols_qa = [\n",
        "    col_country_relevant,\n",
        "    col_releveant_to_cluster,\n",
        "    col_safe_to_show_in_cluster,\n",
        "    col_rated_e_latest,\n",
        "    col_allow_discovery_latest,\n",
        "    col_over_18_latest,\n",
        "]"
      ],
      "metadata": {
        "id": "E0PFAqkBTBlO"
      },
      "execution_count": null,
      "outputs": []
    },
    {
      "cell_type": "markdown",
      "source": [
        "### Check each column individually"
      ],
      "metadata": {
        "id": "dVXfcDlqWjPe"
      }
    },
    {
      "cell_type": "code",
      "source": [
        "for c_ in l_cols_qa:\n",
        "    display(\n",
        "        value_counts_and_pcts(\n",
        "            df_qa_clean,\n",
        "            c_,\n",
        "            add_col_prefix=False,\n",
        "            reset_index=True,\n",
        "            sort_index=True, cumsum=False,\n",
        "            count_type='subreddits',\n",
        "            rename_cols_for_display=True,\n",
        "        )\n",
        "    )\n",
        "    print('')"
      ],
      "metadata": {
        "colab": {
          "base_uri": "https://localhost:8080/"
        },
        "id": "dzZ-LgVgUP9e",
        "outputId": "42ed5c71-6ac7-48fe-fa67-24be4324701e"
      },
      "execution_count": null,
      "outputs": [
        {
          "output_type": "display_data",
          "data": {
            "text/plain": [
              "<pandas.io.formats.style.Styler at 0x7f29b57a7dd0>"
            ],
            "text/html": [
              "<style type=\"text/css\">\n",
              "#T_c369a_row0_col2 {\n",
              "  width: 10em;\n",
              "  height: 80%;\n",
              "  background: linear-gradient(90deg,#95cff5 100.0%, transparent 100.0%);\n",
              "}\n",
              "#T_c369a_row1_col2 {\n",
              "  width: 10em;\n",
              "  height: 80%;\n",
              "}\n",
              "</style>\n",
              "<table id=\"T_c369a_\" class=\"dataframe\">\n",
              "  <thead>\n",
              "    <tr>\n",
              "      <th class=\"blank level0\" >&nbsp;</th>\n",
              "      <th class=\"col_heading level0 col0\" >not country relevant</th>\n",
              "      <th class=\"col_heading level0 col1\" >subreddits count</th>\n",
              "      <th class=\"col_heading level0 col2\" >percent of subreddits</th>\n",
              "    </tr>\n",
              "  </thead>\n",
              "  <tbody>\n",
              "    <tr>\n",
              "      <th id=\"T_c369a_level0_row0\" class=\"row_heading level0 row0\" >0</th>\n",
              "      <td id=\"T_c369a_row0_col0\" class=\"data row0 col0\" >FALSE</td>\n",
              "      <td id=\"T_c369a_row0_col1\" class=\"data row0 col1\" >665</td>\n",
              "      <td id=\"T_c369a_row0_col2\" class=\"data row0 col2\" >99.8%</td>\n",
              "    </tr>\n",
              "    <tr>\n",
              "      <th id=\"T_c369a_level0_row1\" class=\"row_heading level0 row1\" >1</th>\n",
              "      <td id=\"T_c369a_row1_col0\" class=\"data row1 col0\" >TRUE</td>\n",
              "      <td id=\"T_c369a_row1_col1\" class=\"data row1 col1\" >1</td>\n",
              "      <td id=\"T_c369a_row1_col2\" class=\"data row1 col2\" >0.2%</td>\n",
              "    </tr>\n",
              "  </tbody>\n",
              "</table>\n"
            ]
          },
          "metadata": {}
        },
        {
          "output_type": "stream",
          "name": "stdout",
          "text": [
            "\n"
          ]
        },
        {
          "output_type": "display_data",
          "data": {
            "text/plain": [
              "<pandas.io.formats.style.Styler at 0x7f29b6057090>"
            ],
            "text/html": [
              "<style type=\"text/css\">\n",
              "#T_f02fa_row0_col2 {\n",
              "  width: 10em;\n",
              "  height: 80%;\n",
              "}\n",
              "#T_f02fa_row1_col2 {\n",
              "  width: 10em;\n",
              "  height: 80%;\n",
              "  background: linear-gradient(90deg,#95cff5 20.4%, transparent 20.4%);\n",
              "}\n",
              "#T_f02fa_row2_col2 {\n",
              "  width: 10em;\n",
              "  height: 80%;\n",
              "  background: linear-gradient(90deg,#95cff5 100.0%, transparent 100.0%);\n",
              "}\n",
              "</style>\n",
              "<table id=\"T_f02fa_\" class=\"dataframe\">\n",
              "  <thead>\n",
              "    <tr>\n",
              "      <th class=\"blank level0\" >&nbsp;</th>\n",
              "      <th class=\"col_heading level0 col0\" >relevant to cluster/ other subreddits in cluster</th>\n",
              "      <th class=\"col_heading level0 col1\" >subreddits count</th>\n",
              "      <th class=\"col_heading level0 col2\" >percent of subreddits</th>\n",
              "    </tr>\n",
              "  </thead>\n",
              "  <tbody>\n",
              "    <tr>\n",
              "      <th id=\"T_f02fa_level0_row0\" class=\"row_heading level0 row0\" >0</th>\n",
              "      <td id=\"T_f02fa_row0_col0\" class=\"data row0 col0\" ></td>\n",
              "      <td id=\"T_f02fa_row0_col1\" class=\"data row0 col1\" >45</td>\n",
              "      <td id=\"T_f02fa_row0_col2\" class=\"data row0 col2\" >6.8%</td>\n",
              "    </tr>\n",
              "    <tr>\n",
              "      <th id=\"T_f02fa_level0_row1\" class=\"row_heading level0 row1\" >1</th>\n",
              "      <td id=\"T_f02fa_row1_col0\" class=\"data row1 col0\" >NO</td>\n",
              "      <td id=\"T_f02fa_row1_col1\" class=\"data row1 col1\" >135</td>\n",
              "      <td id=\"T_f02fa_row1_col2\" class=\"data row1 col2\" >20.3%</td>\n",
              "    </tr>\n",
              "    <tr>\n",
              "      <th id=\"T_f02fa_level0_row2\" class=\"row_heading level0 row2\" >2</th>\n",
              "      <td id=\"T_f02fa_row2_col0\" class=\"data row2 col0\" >TRUE</td>\n",
              "      <td id=\"T_f02fa_row2_col1\" class=\"data row2 col1\" >486</td>\n",
              "      <td id=\"T_f02fa_row2_col2\" class=\"data row2 col2\" >73.0%</td>\n",
              "    </tr>\n",
              "  </tbody>\n",
              "</table>\n"
            ]
          },
          "metadata": {}
        },
        {
          "output_type": "stream",
          "name": "stdout",
          "text": [
            "\n"
          ]
        },
        {
          "output_type": "display_data",
          "data": {
            "text/plain": [
              "<pandas.io.formats.style.Styler at 0x7f29b5a83c50>"
            ],
            "text/html": [
              "<style type=\"text/css\">\n",
              "#T_67d32_row0_col2 {\n",
              "  width: 10em;\n",
              "  height: 80%;\n",
              "}\n",
              "#T_67d32_row1_col2 {\n",
              "  width: 10em;\n",
              "  height: 80%;\n",
              "  background: linear-gradient(90deg,#95cff5 100.0%, transparent 100.0%);\n",
              "}\n",
              "</style>\n",
              "<table id=\"T_67d32_\" class=\"dataframe\">\n",
              "  <thead>\n",
              "    <tr>\n",
              "      <th class=\"blank level0\" >&nbsp;</th>\n",
              "      <th class=\"col_heading level0 col0\" >safe to show in relation to cluster</th>\n",
              "      <th class=\"col_heading level0 col1\" >subreddits count</th>\n",
              "      <th class=\"col_heading level0 col2\" >percent of subreddits</th>\n",
              "    </tr>\n",
              "  </thead>\n",
              "  <tbody>\n",
              "    <tr>\n",
              "      <th id=\"T_67d32_level0_row0\" class=\"row_heading level0 row0\" >0</th>\n",
              "      <td id=\"T_67d32_row0_col0\" class=\"data row0 col0\" ></td>\n",
              "      <td id=\"T_67d32_row0_col1\" class=\"data row0 col1\" >180</td>\n",
              "      <td id=\"T_67d32_row0_col2\" class=\"data row0 col2\" >27.0%</td>\n",
              "    </tr>\n",
              "    <tr>\n",
              "      <th id=\"T_67d32_level0_row1\" class=\"row_heading level0 row1\" >1</th>\n",
              "      <td id=\"T_67d32_row1_col0\" class=\"data row1 col0\" >TRUE</td>\n",
              "      <td id=\"T_67d32_row1_col1\" class=\"data row1 col1\" >486</td>\n",
              "      <td id=\"T_67d32_row1_col2\" class=\"data row1 col2\" >73.0%</td>\n",
              "    </tr>\n",
              "  </tbody>\n",
              "</table>\n"
            ]
          },
          "metadata": {}
        },
        {
          "output_type": "stream",
          "name": "stdout",
          "text": [
            "\n"
          ]
        },
        {
          "output_type": "display_data",
          "data": {
            "text/plain": [
              "<pandas.io.formats.style.Styler at 0x7f29b5e87150>"
            ],
            "text/html": [
              "<style type=\"text/css\">\n",
              "#T_472ea_row0_col2 {\n",
              "  width: 10em;\n",
              "  height: 80%;\n",
              "}\n",
              "#T_472ea_row1_col2 {\n",
              "  width: 10em;\n",
              "  height: 80%;\n",
              "  background: linear-gradient(90deg,#95cff5 100.0%, transparent 100.0%);\n",
              "}\n",
              "</style>\n",
              "<table id=\"T_472ea_\" class=\"dataframe\">\n",
              "  <thead>\n",
              "    <tr>\n",
              "      <th class=\"blank level0\" >&nbsp;</th>\n",
              "      <th class=\"col_heading level0 col0\" >rated e latest</th>\n",
              "      <th class=\"col_heading level0 col1\" >subreddits count</th>\n",
              "      <th class=\"col_heading level0 col2\" >percent of subreddits</th>\n",
              "    </tr>\n",
              "  </thead>\n",
              "  <tbody>\n",
              "    <tr>\n",
              "      <th id=\"T_472ea_level0_row0\" class=\"row_heading level0 row0\" >0</th>\n",
              "      <td id=\"T_472ea_row0_col0\" class=\"data row0 col0\" >False</td>\n",
              "      <td id=\"T_472ea_row0_col1\" class=\"data row0 col1\" >32</td>\n",
              "      <td id=\"T_472ea_row0_col2\" class=\"data row0 col2\" >4.8%</td>\n",
              "    </tr>\n",
              "    <tr>\n",
              "      <th id=\"T_472ea_level0_row1\" class=\"row_heading level0 row1\" >1</th>\n",
              "      <td id=\"T_472ea_row1_col0\" class=\"data row1 col0\" >True</td>\n",
              "      <td id=\"T_472ea_row1_col1\" class=\"data row1 col1\" >634</td>\n",
              "      <td id=\"T_472ea_row1_col2\" class=\"data row1 col2\" >95.2%</td>\n",
              "    </tr>\n",
              "  </tbody>\n",
              "</table>\n"
            ]
          },
          "metadata": {}
        },
        {
          "output_type": "stream",
          "name": "stdout",
          "text": [
            "\n"
          ]
        },
        {
          "output_type": "display_data",
          "data": {
            "text/plain": [
              "<pandas.io.formats.style.Styler at 0x7f29b6747750>"
            ],
            "text/html": [
              "<style type=\"text/css\">\n",
              "#T_dd821_row0_col2 {\n",
              "  width: 10em;\n",
              "  height: 80%;\n",
              "}\n",
              "</style>\n",
              "<table id=\"T_dd821_\" class=\"dataframe\">\n",
              "  <thead>\n",
              "    <tr>\n",
              "      <th class=\"blank level0\" >&nbsp;</th>\n",
              "      <th class=\"col_heading level0 col0\" >allow discovery latest</th>\n",
              "      <th class=\"col_heading level0 col1\" >subreddits count</th>\n",
              "      <th class=\"col_heading level0 col2\" >percent of subreddits</th>\n",
              "    </tr>\n",
              "  </thead>\n",
              "  <tbody>\n",
              "    <tr>\n",
              "      <th id=\"T_dd821_level0_row0\" class=\"row_heading level0 row0\" >0</th>\n",
              "      <td id=\"T_dd821_row0_col0\" class=\"data row0 col0\" >nan</td>\n",
              "      <td id=\"T_dd821_row0_col1\" class=\"data row0 col1\" >666</td>\n",
              "      <td id=\"T_dd821_row0_col2\" class=\"data row0 col2\" >100.0%</td>\n",
              "    </tr>\n",
              "  </tbody>\n",
              "</table>\n"
            ]
          },
          "metadata": {}
        },
        {
          "output_type": "stream",
          "name": "stdout",
          "text": [
            "\n"
          ]
        },
        {
          "output_type": "display_data",
          "data": {
            "text/plain": [
              "<pandas.io.formats.style.Styler at 0x7f29b67f3450>"
            ],
            "text/html": [
              "<style type=\"text/css\">\n",
              "#T_2d303_row0_col2 {\n",
              "  width: 10em;\n",
              "  height: 80%;\n",
              "}\n",
              "</style>\n",
              "<table id=\"T_2d303_\" class=\"dataframe\">\n",
              "  <thead>\n",
              "    <tr>\n",
              "      <th class=\"blank level0\" >&nbsp;</th>\n",
              "      <th class=\"col_heading level0 col0\" >over 18 latest</th>\n",
              "      <th class=\"col_heading level0 col1\" >subreddits count</th>\n",
              "      <th class=\"col_heading level0 col2\" >percent of subreddits</th>\n",
              "    </tr>\n",
              "  </thead>\n",
              "  <tbody>\n",
              "    <tr>\n",
              "      <th id=\"T_2d303_level0_row0\" class=\"row_heading level0 row0\" >0</th>\n",
              "      <td id=\"T_2d303_row0_col0\" class=\"data row0 col0\" >nan</td>\n",
              "      <td id=\"T_2d303_row0_col1\" class=\"data row0 col1\" >666</td>\n",
              "      <td id=\"T_2d303_row0_col2\" class=\"data row0 col2\" >100.0%</td>\n",
              "    </tr>\n",
              "  </tbody>\n",
              "</table>\n"
            ]
          },
          "metadata": {}
        },
        {
          "output_type": "stream",
          "name": "stdout",
          "text": [
            "\n"
          ]
        }
      ]
    },
    {
      "cell_type": "markdown",
      "source": [
        "### Matrix of all conditions in one table\n",
        "\n"
      ],
      "metadata": {
        "id": "DnOsqEChXvbZ"
      }
    },
    {
      "cell_type": "code",
      "metadata": {
        "colab": {
          "base_uri": "https://localhost:8080/",
          "height": 289
        },
        "id": "wjJHp2vB86XO",
        "outputId": "a90fabbc-193d-4559-af6f-032b118e3a41"
      },
      "source": [
        "value_counts_and_pcts(\n",
        "    df_qa_clean\n",
        "    .fillna(\n",
        "        value={\n",
        "            col_allow_discovery_latest: 't', \n",
        "            col_over_18_latest: 'f',\n",
        "            col_country_relevant: 'FALSE',\n",
        "            col_releveant_to_cluster: 'FALSE',\n",
        "            col_safe_to_show_in_cluster: 'FALSE',\n",
        "        }\n",
        "    )\n",
        "    # Germany QA had other values\n",
        "    .replace(\n",
        "        {\n",
        "            col_releveant_to_cluster: {'': 'NO'},\n",
        "            col_safe_to_show_in_cluster: {'': 'FALSE'},\n",
        "        }\n",
        "    )\n",
        "    ,\n",
        "    l_cols_qa[:],\n",
        "    add_col_prefix=False,\n",
        "    # reset_index=True,\n",
        "    sort_index=True, cumsum=False,\n",
        "    count_type='subreddits',\n",
        "    rename_cols_for_display=True,\n",
        ")"
      ],
      "execution_count": null,
      "outputs": [
        {
          "output_type": "execute_result",
          "data": {
            "text/plain": [
              "<pandas.io.formats.style.Styler at 0x7f29b646d110>"
            ],
            "text/html": [
              "<style type=\"text/css\">\n",
              "#T_20089_row0_col1 {\n",
              "  width: 10em;\n",
              "  height: 80%;\n",
              "  background: linear-gradient(90deg,#95cff5 1.5%, transparent 1.5%);\n",
              "}\n",
              "#T_20089_row1_col1 {\n",
              "  width: 10em;\n",
              "  height: 80%;\n",
              "  background: linear-gradient(90deg,#95cff5 36.9%, transparent 36.9%);\n",
              "}\n",
              "#T_20089_row2_col1 {\n",
              "  width: 10em;\n",
              "  height: 80%;\n",
              "  background: linear-gradient(90deg,#95cff5 5.0%, transparent 5.0%);\n",
              "}\n",
              "#T_20089_row3_col1 {\n",
              "  width: 10em;\n",
              "  height: 80%;\n",
              "  background: linear-gradient(90deg,#95cff5 100.0%, transparent 100.0%);\n",
              "}\n",
              "#T_20089_row4_col1 {\n",
              "  width: 10em;\n",
              "  height: 80%;\n",
              "}\n",
              "</style>\n",
              "<table id=\"T_20089_\" class=\"dataframe\">\n",
              "  <thead>\n",
              "    <tr>\n",
              "      <th class=\"blank\" >&nbsp;</th>\n",
              "      <th class=\"blank\" >&nbsp;</th>\n",
              "      <th class=\"blank\" >&nbsp;</th>\n",
              "      <th class=\"blank\" >&nbsp;</th>\n",
              "      <th class=\"blank\" >&nbsp;</th>\n",
              "      <th class=\"blank level0\" >&nbsp;</th>\n",
              "      <th class=\"col_heading level0 col0\" >subreddits count</th>\n",
              "      <th class=\"col_heading level0 col1\" >percent of subreddits</th>\n",
              "    </tr>\n",
              "    <tr>\n",
              "      <th class=\"index_name level0\" >not country relevant</th>\n",
              "      <th class=\"index_name level1\" >relevant to cluster/ other subreddits in cluster</th>\n",
              "      <th class=\"index_name level2\" >safe to show in relation to cluster</th>\n",
              "      <th class=\"index_name level3\" >rated e latest</th>\n",
              "      <th class=\"index_name level4\" >allow discovery latest</th>\n",
              "      <th class=\"index_name level5\" >over 18 latest</th>\n",
              "      <th class=\"blank col0\" >&nbsp;</th>\n",
              "      <th class=\"blank col1\" >&nbsp;</th>\n",
              "    </tr>\n",
              "  </thead>\n",
              "  <tbody>\n",
              "    <tr>\n",
              "      <th id=\"T_20089_level0_row0\" class=\"row_heading level0 row0\" rowspan=\"4\">FALSE</th>\n",
              "      <th id=\"T_20089_level1_row0\" class=\"row_heading level1 row0\" rowspan=\"2\">NO</th>\n",
              "      <th id=\"T_20089_level2_row0\" class=\"row_heading level2 row0\" rowspan=\"2\">FALSE</th>\n",
              "      <th id=\"T_20089_level3_row0\" class=\"row_heading level3 row0\" >False</th>\n",
              "      <th id=\"T_20089_level4_row0\" class=\"row_heading level4 row0\" >t</th>\n",
              "      <th id=\"T_20089_level5_row0\" class=\"row_heading level5 row0\" >f</th>\n",
              "      <td id=\"T_20089_row0_col0\" class=\"data row0 col0\" >8</td>\n",
              "      <td id=\"T_20089_row0_col1\" class=\"data row0 col1\" >1.2%</td>\n",
              "    </tr>\n",
              "    <tr>\n",
              "      <th id=\"T_20089_level3_row1\" class=\"row_heading level3 row1\" >True</th>\n",
              "      <th id=\"T_20089_level4_row1\" class=\"row_heading level4 row1\" >t</th>\n",
              "      <th id=\"T_20089_level5_row1\" class=\"row_heading level5 row1\" >f</th>\n",
              "      <td id=\"T_20089_row1_col0\" class=\"data row1 col0\" >171</td>\n",
              "      <td id=\"T_20089_row1_col1\" class=\"data row1 col1\" >25.7%</td>\n",
              "    </tr>\n",
              "    <tr>\n",
              "      <th id=\"T_20089_level1_row2\" class=\"row_heading level1 row2\" rowspan=\"2\">TRUE</th>\n",
              "      <th id=\"T_20089_level2_row2\" class=\"row_heading level2 row2\" rowspan=\"2\">TRUE</th>\n",
              "      <th id=\"T_20089_level3_row2\" class=\"row_heading level3 row2\" >False</th>\n",
              "      <th id=\"T_20089_level4_row2\" class=\"row_heading level4 row2\" >t</th>\n",
              "      <th id=\"T_20089_level5_row2\" class=\"row_heading level5 row2\" >f</th>\n",
              "      <td id=\"T_20089_row2_col0\" class=\"data row2 col0\" >24</td>\n",
              "      <td id=\"T_20089_row2_col1\" class=\"data row2 col1\" >3.6%</td>\n",
              "    </tr>\n",
              "    <tr>\n",
              "      <th id=\"T_20089_level3_row3\" class=\"row_heading level3 row3\" >True</th>\n",
              "      <th id=\"T_20089_level4_row3\" class=\"row_heading level4 row3\" >t</th>\n",
              "      <th id=\"T_20089_level5_row3\" class=\"row_heading level5 row3\" >f</th>\n",
              "      <td id=\"T_20089_row3_col0\" class=\"data row3 col0\" >462</td>\n",
              "      <td id=\"T_20089_row3_col1\" class=\"data row3 col1\" >69.4%</td>\n",
              "    </tr>\n",
              "    <tr>\n",
              "      <th id=\"T_20089_level0_row4\" class=\"row_heading level0 row4\" >TRUE</th>\n",
              "      <th id=\"T_20089_level1_row4\" class=\"row_heading level1 row4\" >NO</th>\n",
              "      <th id=\"T_20089_level2_row4\" class=\"row_heading level2 row4\" >FALSE</th>\n",
              "      <th id=\"T_20089_level3_row4\" class=\"row_heading level3 row4\" >True</th>\n",
              "      <th id=\"T_20089_level4_row4\" class=\"row_heading level4 row4\" >t</th>\n",
              "      <th id=\"T_20089_level5_row4\" class=\"row_heading level5 row4\" >f</th>\n",
              "      <td id=\"T_20089_row4_col0\" class=\"data row4 col0\" >1</td>\n",
              "      <td id=\"T_20089_row4_col1\" class=\"data row4 col1\" >0.2%</td>\n",
              "    </tr>\n",
              "  </tbody>\n",
              "</table>\n"
            ]
          },
          "metadata": {},
          "execution_count": 71
        }
      ]
    },
    {
      "cell_type": "code",
      "source": [
        "# df_qa_clean[df_qa_clean['rated_e_latest'].isnull()].iloc[:5, :20]"
      ],
      "metadata": {
        "id": "5oimFsoB2Pfu"
      },
      "execution_count": null,
      "outputs": []
    },
    {
      "cell_type": "markdown",
      "source": [
        "### Create & apply masks"
      ],
      "metadata": {
        "id": "MKfd8-H8ZIGd"
      }
    },
    {
      "cell_type": "code",
      "source": [
        "df_qa_clean = apply_qa_filters_for_fpr(\n",
        "    df_qa_clean,\n",
        "    print_qa_check=True,\n",
        ")"
      ],
      "metadata": {
        "colab": {
          "base_uri": "https://localhost:8080/"
        },
        "id": "Nc-k22eh4or4",
        "outputId": "e2904ac1-9b60-4a9a-bc80-c5821be143c0"
      },
      "execution_count": null,
      "outputs": [
        {
          "output_type": "stream",
          "name": "stdout",
          "text": [
            "\n",
            "QA keyword subreddit checks:\n",
            "  ['nichtdietagespresse']\n",
            "\n",
            "666 <- Initial subreddit count\n",
            "462 <- Clean subreddits to use\n",
            "(462, 42) <- df subreddits to use for FPR\n"
          ]
        }
      ]
    },
    {
      "cell_type": "markdown",
      "metadata": {
        "id": "QvAwvmgzAHTy"
      },
      "source": [
        "# Reshape data for Subreddit seed -> Cluster list "
      ]
    },
    {
      "cell_type": "code",
      "metadata": {
        "colab": {
          "base_uri": "https://localhost:8080/"
        },
        "id": "oJG3-nfTmiLg",
        "outputId": "379fc429-c61d-42a2-acdd-ae8cf91c4c92"
      },
      "source": [
        "%%time\n",
        "# col_new_cluster_val = 'cluster_label'\n",
        "# col_new_cluster_name = 'cluster_label_k'\n",
        "# col_new_cluster_prim_topic = 'cluster_name'\n",
        "\n",
        "# make sure all objects in col are str so we can sort by it\n",
        "# df_qa_clean[col_new_cluster_val] = df_qa_clean[col_new_cluster_val].astype(str)\n",
        "\n",
        "l_cols_for_seeds = [\n",
        "    'subreddit_id', 'subreddit_name',\n",
        "    col_model_sort_order, col_rating_latest,\n",
        "    col_new_cluster_val, col_new_cluster_name,\n",
        "]\n",
        "\n",
        "\n",
        "df_target_to_target_list = convert_distance_or_ab_to_list_for_fpr(\n",
        "    df_qa_clean,\n",
        "    convert_to_ab=True,\n",
        "    col_counterpart_count='subreddits_to_recommend_count',\n",
        "    col_list_cluster_names='list_cluster_subreddit_names',\n",
        "    col_list_cluster_ids='list_cluster_subreddit_ids',\n",
        "    l_cols_for_seeds=l_cols_for_seeds,\n",
        "    l_cols_for_clusters=None, \n",
        "    col_new_cluster_val=col_new_cluster_val,\n",
        "    col_new_cluster_name=col_new_cluster_name,\n",
        "    # col_new_cluster_prim_topic=col_new_cluster_prim_topic,\n",
        "    col_sort_by=col_new_cluster_val,\n",
        "    verbose=True,\n",
        ")"
      ],
      "execution_count": null,
      "outputs": [
        {
          "output_type": "stream",
          "name": "stdout",
          "text": [
            "['subreddit_id', 'subreddit_name', 'model_sort_order', 'rating_short_latest', 'cluster_label', 'cluster_label_k']\n",
            "['subreddit_id', 'subreddit_name', 'cluster_label']\n",
            "  (3448, 8) <- df_ab.shape raw\n",
            "  (2986, 8) <- df_ab.shape after removing matches to self\n",
            "  Groupby cols:\n",
            "    ['model_sort_order', 'subreddit_id_seed', 'subreddit_name_seed', 'cluster_label', 'cluster_label_k', 'rating_short_latest']\n",
            "  (459, 8) <- df_a_to_b.shape\n",
            "CPU times: user 38 ms, sys: 0 ns, total: 38 ms\n",
            "Wall time: 38.1 ms\n"
          ]
        }
      ]
    },
    {
      "cell_type": "code",
      "source": [
        "# df_target_to_target_list.sort_values(by=['cluster_label', ], ascending=True).iloc[:9, :]"
      ],
      "metadata": {
        "id": "0iz76DZTin7w"
      },
      "execution_count": null,
      "outputs": []
    },
    {
      "cell_type": "code",
      "metadata": {
        "colab": {
          "base_uri": "https://localhost:8080/",
          "height": 445
        },
        "id": "zDeaY5v3_YUS",
        "outputId": "72763be1-f152-4175-a1ce-2aa359bd2c51"
      },
      "source": [
        "df_target_to_target_list.head()"
      ],
      "execution_count": null,
      "outputs": [
        {
          "output_type": "execute_result",
          "data": {
            "text/plain": [
              "  subreddit_id_seed subreddit_name_seed  \\\n",
              "0          t5_2veux                 wix   \n",
              "1          t5_wx7rh               gitea   \n",
              "2          t5_fucxb             traefik   \n",
              "3          t5_3jabm           portainer   \n",
              "4          t5_2seit                abap   \n",
              "\n",
              "                             cluster_label cluster_label_k  \\\n",
              "0  0006-0008-0013-0016-0016-0020-0021-0025    k_0118_label   \n",
              "1  0006-0008-0013-0016-0016-0020-0021-0025    k_0118_label   \n",
              "2  0006-0008-0013-0016-0016-0020-0021-0025    k_0118_label   \n",
              "3  0006-0008-0013-0016-0016-0020-0021-0025    k_0118_label   \n",
              "4  0006-0008-0013-0016-0016-0020-0021-0025    k_0118_label   \n",
              "\n",
              "  rating_short_latest  subreddits_to_recommend_count  \\\n",
              "0                   E                              6   \n",
              "1                   E                              6   \n",
              "2                   E                              6   \n",
              "3                   E                              6   \n",
              "4                   E                              6   \n",
              "\n",
              "                        list_cluster_subreddit_names  \\\n",
              "0  gitea, traefik, portainer, abap, scriptable, l...   \n",
              "1   wix, traefik, portainer, abap, scriptable, latex   \n",
              "2     wix, gitea, portainer, abap, scriptable, latex   \n",
              "3       wix, gitea, traefik, abap, scriptable, latex   \n",
              "4  wix, gitea, traefik, portainer, scriptable, latex   \n",
              "\n",
              "                          list_cluster_subreddit_ids  \n",
              "0  t5_wx7rh, t5_fucxb, t5_3jabm, t5_2seit, t5_nti...  \n",
              "1  t5_2veux, t5_fucxb, t5_3jabm, t5_2seit, t5_nti...  \n",
              "2  t5_2veux, t5_wx7rh, t5_3jabm, t5_2seit, t5_nti...  \n",
              "3  t5_2veux, t5_wx7rh, t5_fucxb, t5_2seit, t5_nti...  \n",
              "4  t5_2veux, t5_wx7rh, t5_fucxb, t5_3jabm, t5_nti...  "
            ],
            "text/html": [
              "\n",
              "  <div id=\"df-15c63f8c-0f7f-45be-bdb7-97cd416427b9\">\n",
              "    <div class=\"colab-df-container\">\n",
              "      <div>\n",
              "<style scoped>\n",
              "    .dataframe tbody tr th:only-of-type {\n",
              "        vertical-align: middle;\n",
              "    }\n",
              "\n",
              "    .dataframe tbody tr th {\n",
              "        vertical-align: top;\n",
              "    }\n",
              "\n",
              "    .dataframe thead th {\n",
              "        text-align: right;\n",
              "    }\n",
              "</style>\n",
              "<table border=\"1\" class=\"dataframe\">\n",
              "  <thead>\n",
              "    <tr style=\"text-align: right;\">\n",
              "      <th></th>\n",
              "      <th>subreddit_id_seed</th>\n",
              "      <th>subreddit_name_seed</th>\n",
              "      <th>cluster_label</th>\n",
              "      <th>cluster_label_k</th>\n",
              "      <th>rating_short_latest</th>\n",
              "      <th>subreddits_to_recommend_count</th>\n",
              "      <th>list_cluster_subreddit_names</th>\n",
              "      <th>list_cluster_subreddit_ids</th>\n",
              "    </tr>\n",
              "  </thead>\n",
              "  <tbody>\n",
              "    <tr>\n",
              "      <th>0</th>\n",
              "      <td>t5_2veux</td>\n",
              "      <td>wix</td>\n",
              "      <td>0006-0008-0013-0016-0016-0020-0021-0025</td>\n",
              "      <td>k_0118_label</td>\n",
              "      <td>E</td>\n",
              "      <td>6</td>\n",
              "      <td>gitea, traefik, portainer, abap, scriptable, l...</td>\n",
              "      <td>t5_wx7rh, t5_fucxb, t5_3jabm, t5_2seit, t5_nti...</td>\n",
              "    </tr>\n",
              "    <tr>\n",
              "      <th>1</th>\n",
              "      <td>t5_wx7rh</td>\n",
              "      <td>gitea</td>\n",
              "      <td>0006-0008-0013-0016-0016-0020-0021-0025</td>\n",
              "      <td>k_0118_label</td>\n",
              "      <td>E</td>\n",
              "      <td>6</td>\n",
              "      <td>wix, traefik, portainer, abap, scriptable, latex</td>\n",
              "      <td>t5_2veux, t5_fucxb, t5_3jabm, t5_2seit, t5_nti...</td>\n",
              "    </tr>\n",
              "    <tr>\n",
              "      <th>2</th>\n",
              "      <td>t5_fucxb</td>\n",
              "      <td>traefik</td>\n",
              "      <td>0006-0008-0013-0016-0016-0020-0021-0025</td>\n",
              "      <td>k_0118_label</td>\n",
              "      <td>E</td>\n",
              "      <td>6</td>\n",
              "      <td>wix, gitea, portainer, abap, scriptable, latex</td>\n",
              "      <td>t5_2veux, t5_wx7rh, t5_3jabm, t5_2seit, t5_nti...</td>\n",
              "    </tr>\n",
              "    <tr>\n",
              "      <th>3</th>\n",
              "      <td>t5_3jabm</td>\n",
              "      <td>portainer</td>\n",
              "      <td>0006-0008-0013-0016-0016-0020-0021-0025</td>\n",
              "      <td>k_0118_label</td>\n",
              "      <td>E</td>\n",
              "      <td>6</td>\n",
              "      <td>wix, gitea, traefik, abap, scriptable, latex</td>\n",
              "      <td>t5_2veux, t5_wx7rh, t5_fucxb, t5_2seit, t5_nti...</td>\n",
              "    </tr>\n",
              "    <tr>\n",
              "      <th>4</th>\n",
              "      <td>t5_2seit</td>\n",
              "      <td>abap</td>\n",
              "      <td>0006-0008-0013-0016-0016-0020-0021-0025</td>\n",
              "      <td>k_0118_label</td>\n",
              "      <td>E</td>\n",
              "      <td>6</td>\n",
              "      <td>wix, gitea, traefik, portainer, scriptable, latex</td>\n",
              "      <td>t5_2veux, t5_wx7rh, t5_fucxb, t5_3jabm, t5_nti...</td>\n",
              "    </tr>\n",
              "  </tbody>\n",
              "</table>\n",
              "</div>\n",
              "      <button class=\"colab-df-convert\" onclick=\"convertToInteractive('df-15c63f8c-0f7f-45be-bdb7-97cd416427b9')\"\n",
              "              title=\"Convert this dataframe to an interactive table.\"\n",
              "              style=\"display:none;\">\n",
              "        \n",
              "  <svg xmlns=\"http://www.w3.org/2000/svg\" height=\"24px\"viewBox=\"0 0 24 24\"\n",
              "       width=\"24px\">\n",
              "    <path d=\"M0 0h24v24H0V0z\" fill=\"none\"/>\n",
              "    <path d=\"M18.56 5.44l.94 2.06.94-2.06 2.06-.94-2.06-.94-.94-2.06-.94 2.06-2.06.94zm-11 1L8.5 8.5l.94-2.06 2.06-.94-2.06-.94L8.5 2.5l-.94 2.06-2.06.94zm10 10l.94 2.06.94-2.06 2.06-.94-2.06-.94-.94-2.06-.94 2.06-2.06.94z\"/><path d=\"M17.41 7.96l-1.37-1.37c-.4-.4-.92-.59-1.43-.59-.52 0-1.04.2-1.43.59L10.3 9.45l-7.72 7.72c-.78.78-.78 2.05 0 2.83L4 21.41c.39.39.9.59 1.41.59.51 0 1.02-.2 1.41-.59l7.78-7.78 2.81-2.81c.8-.78.8-2.07 0-2.86zM5.41 20L4 18.59l7.72-7.72 1.47 1.35L5.41 20z\"/>\n",
              "  </svg>\n",
              "      </button>\n",
              "      \n",
              "  <style>\n",
              "    .colab-df-container {\n",
              "      display:flex;\n",
              "      flex-wrap:wrap;\n",
              "      gap: 12px;\n",
              "    }\n",
              "\n",
              "    .colab-df-convert {\n",
              "      background-color: #E8F0FE;\n",
              "      border: none;\n",
              "      border-radius: 50%;\n",
              "      cursor: pointer;\n",
              "      display: none;\n",
              "      fill: #1967D2;\n",
              "      height: 32px;\n",
              "      padding: 0 0 0 0;\n",
              "      width: 32px;\n",
              "    }\n",
              "\n",
              "    .colab-df-convert:hover {\n",
              "      background-color: #E2EBFA;\n",
              "      box-shadow: 0px 1px 2px rgba(60, 64, 67, 0.3), 0px 1px 3px 1px rgba(60, 64, 67, 0.15);\n",
              "      fill: #174EA6;\n",
              "    }\n",
              "\n",
              "    [theme=dark] .colab-df-convert {\n",
              "      background-color: #3B4455;\n",
              "      fill: #D2E3FC;\n",
              "    }\n",
              "\n",
              "    [theme=dark] .colab-df-convert:hover {\n",
              "      background-color: #434B5C;\n",
              "      box-shadow: 0px 1px 3px 1px rgba(0, 0, 0, 0.15);\n",
              "      filter: drop-shadow(0px 1px 2px rgba(0, 0, 0, 0.3));\n",
              "      fill: #FFFFFF;\n",
              "    }\n",
              "  </style>\n",
              "\n",
              "      <script>\n",
              "        const buttonEl =\n",
              "          document.querySelector('#df-15c63f8c-0f7f-45be-bdb7-97cd416427b9 button.colab-df-convert');\n",
              "        buttonEl.style.display =\n",
              "          google.colab.kernel.accessAllowed ? 'block' : 'none';\n",
              "\n",
              "        async function convertToInteractive(key) {\n",
              "          const element = document.querySelector('#df-15c63f8c-0f7f-45be-bdb7-97cd416427b9');\n",
              "          const dataTable =\n",
              "            await google.colab.kernel.invokeFunction('convertToInteractive',\n",
              "                                                     [key], {});\n",
              "          if (!dataTable) return;\n",
              "\n",
              "          const docLinkHtml = 'Like what you see? Visit the ' +\n",
              "            '<a target=\"_blank\" href=https://colab.research.google.com/notebooks/data_table.ipynb>data table notebook</a>'\n",
              "            + ' to learn more about interactive tables.';\n",
              "          element.innerHTML = '';\n",
              "          dataTable['output_type'] = 'display_data';\n",
              "          await google.colab.output.renderOutput(dataTable, element);\n",
              "          const docLink = document.createElement('div');\n",
              "          docLink.innerHTML = docLinkHtml;\n",
              "          element.appendChild(docLink);\n",
              "        }\n",
              "      </script>\n",
              "    </div>\n",
              "  </div>\n",
              "  "
            ],
            "application/vnd.google.colaboratory.module+javascript": "\n      import \"https://ssl.gstatic.com/colaboratory/data_table/81f25a011006ed3d/data_table.js\";\n\n      window.createDataTable({\n        data: [[{\n            'v': 0,\n            'f': \"0\",\n        },\n\"t5_2veux\",\n\"wix\",\n\"0006-0008-0013-0016-0016-0020-0021-0025\",\n\"k_0118_label\",\n\"E\",\n{\n            'v': 6,\n            'f': \"6\",\n        },\n\"gitea, traefik, portainer, abap, scriptable, latex\",\n\"t5_wx7rh, t5_fucxb, t5_3jabm, t5_2seit, t5_ntiup, t5_2qhbn\"],\n [{\n            'v': 1,\n            'f': \"1\",\n        },\n\"t5_wx7rh\",\n\"gitea\",\n\"0006-0008-0013-0016-0016-0020-0021-0025\",\n\"k_0118_label\",\n\"E\",\n{\n            'v': 6,\n            'f': \"6\",\n        },\n\"wix, traefik, portainer, abap, scriptable, latex\",\n\"t5_2veux, t5_fucxb, t5_3jabm, t5_2seit, t5_ntiup, t5_2qhbn\"],\n [{\n            'v': 2,\n            'f': \"2\",\n        },\n\"t5_fucxb\",\n\"traefik\",\n\"0006-0008-0013-0016-0016-0020-0021-0025\",\n\"k_0118_label\",\n\"E\",\n{\n            'v': 6,\n            'f': \"6\",\n        },\n\"wix, gitea, portainer, abap, scriptable, latex\",\n\"t5_2veux, t5_wx7rh, t5_3jabm, t5_2seit, t5_ntiup, t5_2qhbn\"],\n [{\n            'v': 3,\n            'f': \"3\",\n        },\n\"t5_3jabm\",\n\"portainer\",\n\"0006-0008-0013-0016-0016-0020-0021-0025\",\n\"k_0118_label\",\n\"E\",\n{\n            'v': 6,\n            'f': \"6\",\n        },\n\"wix, gitea, traefik, abap, scriptable, latex\",\n\"t5_2veux, t5_wx7rh, t5_fucxb, t5_2seit, t5_ntiup, t5_2qhbn\"],\n [{\n            'v': 4,\n            'f': \"4\",\n        },\n\"t5_2seit\",\n\"abap\",\n\"0006-0008-0013-0016-0016-0020-0021-0025\",\n\"k_0118_label\",\n\"E\",\n{\n            'v': 6,\n            'f': \"6\",\n        },\n\"wix, gitea, traefik, portainer, scriptable, latex\",\n\"t5_2veux, t5_wx7rh, t5_fucxb, t5_3jabm, t5_ntiup, t5_2qhbn\"]],\n        columns: [[\"number\", \"index\"], [\"string\", \"subreddit_id_seed\"], [\"string\", \"subreddit_name_seed\"], [\"string\", \"cluster_label\"], [\"string\", \"cluster_label_k\"], [\"string\", \"rating_short_latest\"], [\"number\", \"subreddits_to_recommend_count\"], [\"string\", \"list_cluster_subreddit_names\"], [\"string\", \"list_cluster_subreddit_ids\"]],\n        columnOptions: [{\"width\": \"1px\", \"className\": \"index_column\"}],\n        rowsPerPage: 25,\n        helpUrl: \"https://colab.research.google.com/notebooks/data_table.ipynb\",\n        suppressOutputScrolling: true,\n        minimumWidth: undefined,\n      });\n    "
          },
          "metadata": {},
          "execution_count": 77
        }
      ]
    },
    {
      "cell_type": "code",
      "metadata": {
        "colab": {
          "base_uri": "https://localhost:8080/",
          "height": 1098
        },
        "id": "xV4C7Tz7_YRu",
        "outputId": "fbb913be-9aae-4575-b706-adc4c7cfb4de"
      },
      "source": [
        "df_target_to_target_list.tail(10)"
      ],
      "execution_count": null,
      "outputs": [
        {
          "output_type": "execute_result",
          "data": {
            "text/plain": [
              "    subreddit_id_seed subreddit_name_seed  \\\n",
              "451          t5_2qi34               shqip   \n",
              "452          t5_yqrtm             gametwo   \n",
              "455          t5_33xyp           mediathek   \n",
              "456         t5_4cmjcc            streamen   \n",
              "458          t5_3pjos          stoizismus   \n",
              "457         t5_30efup      mirellativegal   \n",
              "231          t5_31x7o   american_football   \n",
              "232          t5_2skuk                 elf   \n",
              "264         t5_2h02ye            almancis   \n",
              "265         t5_51lqnd           valnevase   \n",
              "\n",
              "                                         cluster_label cluster_label_k  \\\n",
              "451                                          0013-0023    k_0023_label   \n",
              "452                                          0013-0023    k_0023_label   \n",
              "455  0013-0023-0041-0059-0062-0078-0084-0115-0310-0...    k_3927_label   \n",
              "456  0013-0023-0041-0059-0062-0078-0084-0115-0310-0...    k_3927_label   \n",
              "458  0013-0023-0041-0059-0062-0078-0084-0115-0310-0...    k_3927_label   \n",
              "457  0013-0023-0041-0059-0062-0078-0084-0115-0310-0...    k_3927_label   \n",
              "231                                                 10    k_0013_label   \n",
              "232                                                 10    k_0013_label   \n",
              "264                                                 10    k_0013_label   \n",
              "265                                                 10    k_0013_label   \n",
              "\n",
              "    rating_short_latest  subreddits_to_recommend_count  \\\n",
              "451                   E                              5   \n",
              "452                   E                              5   \n",
              "455                   E                              3   \n",
              "456                   E                              3   \n",
              "458                   E                              3   \n",
              "457                   E                              3   \n",
              "231                   E                              3   \n",
              "232                   E                              3   \n",
              "264                   E                              3   \n",
              "265                   E                              3   \n",
              "\n",
              "                          list_cluster_subreddit_names  \\\n",
              "451  ueber8000, mangade, gametwo, ytpromo, selfpromote   \n",
              "452    ueber8000, mangade, shqip, ytpromo, selfpromote   \n",
              "455               streamen, mirellativegal, stoizismus   \n",
              "456              mediathek, mirellativegal, stoizismus   \n",
              "458                mediathek, streamen, mirellativegal   \n",
              "457                    mediathek, streamen, stoizismus   \n",
              "231                           elf, almancis, valnevase   \n",
              "232             american_football, almancis, valnevase   \n",
              "264                  american_football, elf, valnevase   \n",
              "265                   american_football, elf, almancis   \n",
              "\n",
              "                            list_cluster_subreddit_ids  \n",
              "451  t5_4sfk6d, t5_4thzyd, t5_yqrtm, t5_33gd5, t5_2...  \n",
              "452  t5_4sfk6d, t5_4thzyd, t5_2qi34, t5_33gd5, t5_2...  \n",
              "455                     t5_4cmjcc, t5_30efup, t5_3pjos  \n",
              "456                      t5_33xyp, t5_30efup, t5_3pjos  \n",
              "458                     t5_33xyp, t5_4cmjcc, t5_30efup  \n",
              "457                      t5_33xyp, t5_4cmjcc, t5_3pjos  \n",
              "231                     t5_2skuk, t5_2h02ye, t5_51lqnd  \n",
              "232                     t5_31x7o, t5_2h02ye, t5_51lqnd  \n",
              "264                      t5_31x7o, t5_2skuk, t5_51lqnd  \n",
              "265                      t5_31x7o, t5_2skuk, t5_2h02ye  "
            ],
            "text/html": [
              "\n",
              "  <div id=\"df-2e2fd3d1-ff93-4b43-b0a9-38566d2fa4a1\">\n",
              "    <div class=\"colab-df-container\">\n",
              "      <div>\n",
              "<style scoped>\n",
              "    .dataframe tbody tr th:only-of-type {\n",
              "        vertical-align: middle;\n",
              "    }\n",
              "\n",
              "    .dataframe tbody tr th {\n",
              "        vertical-align: top;\n",
              "    }\n",
              "\n",
              "    .dataframe thead th {\n",
              "        text-align: right;\n",
              "    }\n",
              "</style>\n",
              "<table border=\"1\" class=\"dataframe\">\n",
              "  <thead>\n",
              "    <tr style=\"text-align: right;\">\n",
              "      <th></th>\n",
              "      <th>subreddit_id_seed</th>\n",
              "      <th>subreddit_name_seed</th>\n",
              "      <th>cluster_label</th>\n",
              "      <th>cluster_label_k</th>\n",
              "      <th>rating_short_latest</th>\n",
              "      <th>subreddits_to_recommend_count</th>\n",
              "      <th>list_cluster_subreddit_names</th>\n",
              "      <th>list_cluster_subreddit_ids</th>\n",
              "    </tr>\n",
              "  </thead>\n",
              "  <tbody>\n",
              "    <tr>\n",
              "      <th>451</th>\n",
              "      <td>t5_2qi34</td>\n",
              "      <td>shqip</td>\n",
              "      <td>0013-0023</td>\n",
              "      <td>k_0023_label</td>\n",
              "      <td>E</td>\n",
              "      <td>5</td>\n",
              "      <td>ueber8000, mangade, gametwo, ytpromo, selfpromote</td>\n",
              "      <td>t5_4sfk6d, t5_4thzyd, t5_yqrtm, t5_33gd5, t5_2...</td>\n",
              "    </tr>\n",
              "    <tr>\n",
              "      <th>452</th>\n",
              "      <td>t5_yqrtm</td>\n",
              "      <td>gametwo</td>\n",
              "      <td>0013-0023</td>\n",
              "      <td>k_0023_label</td>\n",
              "      <td>E</td>\n",
              "      <td>5</td>\n",
              "      <td>ueber8000, mangade, shqip, ytpromo, selfpromote</td>\n",
              "      <td>t5_4sfk6d, t5_4thzyd, t5_2qi34, t5_33gd5, t5_2...</td>\n",
              "    </tr>\n",
              "    <tr>\n",
              "      <th>455</th>\n",
              "      <td>t5_33xyp</td>\n",
              "      <td>mediathek</td>\n",
              "      <td>0013-0023-0041-0059-0062-0078-0084-0115-0310-0...</td>\n",
              "      <td>k_3927_label</td>\n",
              "      <td>E</td>\n",
              "      <td>3</td>\n",
              "      <td>streamen, mirellativegal, stoizismus</td>\n",
              "      <td>t5_4cmjcc, t5_30efup, t5_3pjos</td>\n",
              "    </tr>\n",
              "    <tr>\n",
              "      <th>456</th>\n",
              "      <td>t5_4cmjcc</td>\n",
              "      <td>streamen</td>\n",
              "      <td>0013-0023-0041-0059-0062-0078-0084-0115-0310-0...</td>\n",
              "      <td>k_3927_label</td>\n",
              "      <td>E</td>\n",
              "      <td>3</td>\n",
              "      <td>mediathek, mirellativegal, stoizismus</td>\n",
              "      <td>t5_33xyp, t5_30efup, t5_3pjos</td>\n",
              "    </tr>\n",
              "    <tr>\n",
              "      <th>458</th>\n",
              "      <td>t5_3pjos</td>\n",
              "      <td>stoizismus</td>\n",
              "      <td>0013-0023-0041-0059-0062-0078-0084-0115-0310-0...</td>\n",
              "      <td>k_3927_label</td>\n",
              "      <td>E</td>\n",
              "      <td>3</td>\n",
              "      <td>mediathek, streamen, mirellativegal</td>\n",
              "      <td>t5_33xyp, t5_4cmjcc, t5_30efup</td>\n",
              "    </tr>\n",
              "    <tr>\n",
              "      <th>457</th>\n",
              "      <td>t5_30efup</td>\n",
              "      <td>mirellativegal</td>\n",
              "      <td>0013-0023-0041-0059-0062-0078-0084-0115-0310-0...</td>\n",
              "      <td>k_3927_label</td>\n",
              "      <td>E</td>\n",
              "      <td>3</td>\n",
              "      <td>mediathek, streamen, stoizismus</td>\n",
              "      <td>t5_33xyp, t5_4cmjcc, t5_3pjos</td>\n",
              "    </tr>\n",
              "    <tr>\n",
              "      <th>231</th>\n",
              "      <td>t5_31x7o</td>\n",
              "      <td>american_football</td>\n",
              "      <td>10</td>\n",
              "      <td>k_0013_label</td>\n",
              "      <td>E</td>\n",
              "      <td>3</td>\n",
              "      <td>elf, almancis, valnevase</td>\n",
              "      <td>t5_2skuk, t5_2h02ye, t5_51lqnd</td>\n",
              "    </tr>\n",
              "    <tr>\n",
              "      <th>232</th>\n",
              "      <td>t5_2skuk</td>\n",
              "      <td>elf</td>\n",
              "      <td>10</td>\n",
              "      <td>k_0013_label</td>\n",
              "      <td>E</td>\n",
              "      <td>3</td>\n",
              "      <td>american_football, almancis, valnevase</td>\n",
              "      <td>t5_31x7o, t5_2h02ye, t5_51lqnd</td>\n",
              "    </tr>\n",
              "    <tr>\n",
              "      <th>264</th>\n",
              "      <td>t5_2h02ye</td>\n",
              "      <td>almancis</td>\n",
              "      <td>10</td>\n",
              "      <td>k_0013_label</td>\n",
              "      <td>E</td>\n",
              "      <td>3</td>\n",
              "      <td>american_football, elf, valnevase</td>\n",
              "      <td>t5_31x7o, t5_2skuk, t5_51lqnd</td>\n",
              "    </tr>\n",
              "    <tr>\n",
              "      <th>265</th>\n",
              "      <td>t5_51lqnd</td>\n",
              "      <td>valnevase</td>\n",
              "      <td>10</td>\n",
              "      <td>k_0013_label</td>\n",
              "      <td>E</td>\n",
              "      <td>3</td>\n",
              "      <td>american_football, elf, almancis</td>\n",
              "      <td>t5_31x7o, t5_2skuk, t5_2h02ye</td>\n",
              "    </tr>\n",
              "  </tbody>\n",
              "</table>\n",
              "</div>\n",
              "      <button class=\"colab-df-convert\" onclick=\"convertToInteractive('df-2e2fd3d1-ff93-4b43-b0a9-38566d2fa4a1')\"\n",
              "              title=\"Convert this dataframe to an interactive table.\"\n",
              "              style=\"display:none;\">\n",
              "        \n",
              "  <svg xmlns=\"http://www.w3.org/2000/svg\" height=\"24px\"viewBox=\"0 0 24 24\"\n",
              "       width=\"24px\">\n",
              "    <path d=\"M0 0h24v24H0V0z\" fill=\"none\"/>\n",
              "    <path d=\"M18.56 5.44l.94 2.06.94-2.06 2.06-.94-2.06-.94-.94-2.06-.94 2.06-2.06.94zm-11 1L8.5 8.5l.94-2.06 2.06-.94-2.06-.94L8.5 2.5l-.94 2.06-2.06.94zm10 10l.94 2.06.94-2.06 2.06-.94-2.06-.94-.94-2.06-.94 2.06-2.06.94z\"/><path d=\"M17.41 7.96l-1.37-1.37c-.4-.4-.92-.59-1.43-.59-.52 0-1.04.2-1.43.59L10.3 9.45l-7.72 7.72c-.78.78-.78 2.05 0 2.83L4 21.41c.39.39.9.59 1.41.59.51 0 1.02-.2 1.41-.59l7.78-7.78 2.81-2.81c.8-.78.8-2.07 0-2.86zM5.41 20L4 18.59l7.72-7.72 1.47 1.35L5.41 20z\"/>\n",
              "  </svg>\n",
              "      </button>\n",
              "      \n",
              "  <style>\n",
              "    .colab-df-container {\n",
              "      display:flex;\n",
              "      flex-wrap:wrap;\n",
              "      gap: 12px;\n",
              "    }\n",
              "\n",
              "    .colab-df-convert {\n",
              "      background-color: #E8F0FE;\n",
              "      border: none;\n",
              "      border-radius: 50%;\n",
              "      cursor: pointer;\n",
              "      display: none;\n",
              "      fill: #1967D2;\n",
              "      height: 32px;\n",
              "      padding: 0 0 0 0;\n",
              "      width: 32px;\n",
              "    }\n",
              "\n",
              "    .colab-df-convert:hover {\n",
              "      background-color: #E2EBFA;\n",
              "      box-shadow: 0px 1px 2px rgba(60, 64, 67, 0.3), 0px 1px 3px 1px rgba(60, 64, 67, 0.15);\n",
              "      fill: #174EA6;\n",
              "    }\n",
              "\n",
              "    [theme=dark] .colab-df-convert {\n",
              "      background-color: #3B4455;\n",
              "      fill: #D2E3FC;\n",
              "    }\n",
              "\n",
              "    [theme=dark] .colab-df-convert:hover {\n",
              "      background-color: #434B5C;\n",
              "      box-shadow: 0px 1px 3px 1px rgba(0, 0, 0, 0.15);\n",
              "      filter: drop-shadow(0px 1px 2px rgba(0, 0, 0, 0.3));\n",
              "      fill: #FFFFFF;\n",
              "    }\n",
              "  </style>\n",
              "\n",
              "      <script>\n",
              "        const buttonEl =\n",
              "          document.querySelector('#df-2e2fd3d1-ff93-4b43-b0a9-38566d2fa4a1 button.colab-df-convert');\n",
              "        buttonEl.style.display =\n",
              "          google.colab.kernel.accessAllowed ? 'block' : 'none';\n",
              "\n",
              "        async function convertToInteractive(key) {\n",
              "          const element = document.querySelector('#df-2e2fd3d1-ff93-4b43-b0a9-38566d2fa4a1');\n",
              "          const dataTable =\n",
              "            await google.colab.kernel.invokeFunction('convertToInteractive',\n",
              "                                                     [key], {});\n",
              "          if (!dataTable) return;\n",
              "\n",
              "          const docLinkHtml = 'Like what you see? Visit the ' +\n",
              "            '<a target=\"_blank\" href=https://colab.research.google.com/notebooks/data_table.ipynb>data table notebook</a>'\n",
              "            + ' to learn more about interactive tables.';\n",
              "          element.innerHTML = '';\n",
              "          dataTable['output_type'] = 'display_data';\n",
              "          await google.colab.output.renderOutput(dataTable, element);\n",
              "          const docLink = document.createElement('div');\n",
              "          docLink.innerHTML = docLinkHtml;\n",
              "          element.appendChild(docLink);\n",
              "        }\n",
              "      </script>\n",
              "    </div>\n",
              "  </div>\n",
              "  "
            ],
            "application/vnd.google.colaboratory.module+javascript": "\n      import \"https://ssl.gstatic.com/colaboratory/data_table/81f25a011006ed3d/data_table.js\";\n\n      window.createDataTable({\n        data: [[{\n            'v': 451,\n            'f': \"451\",\n        },\n\"t5_2qi34\",\n\"shqip\",\n\"0013-0023\",\n\"k_0023_label\",\n\"E\",\n{\n            'v': 5,\n            'f': \"5\",\n        },\n\"ueber8000, mangade, gametwo, ytpromo, selfpromote\",\n\"t5_4sfk6d, t5_4thzyd, t5_yqrtm, t5_33gd5, t5_2yd8f\"],\n [{\n            'v': 452,\n            'f': \"452\",\n        },\n\"t5_yqrtm\",\n\"gametwo\",\n\"0013-0023\",\n\"k_0023_label\",\n\"E\",\n{\n            'v': 5,\n            'f': \"5\",\n        },\n\"ueber8000, mangade, shqip, ytpromo, selfpromote\",\n\"t5_4sfk6d, t5_4thzyd, t5_2qi34, t5_33gd5, t5_2yd8f\"],\n [{\n            'v': 455,\n            'f': \"455\",\n        },\n\"t5_33xyp\",\n\"mediathek\",\n\"0013-0023-0041-0059-0062-0078-0084-0115-0310-0635-0925-1031-1508-1782-2138-2278-2742-3043-3303-3586-3740-3802\",\n\"k_3927_label\",\n\"E\",\n{\n            'v': 3,\n            'f': \"3\",\n        },\n\"streamen, mirellativegal, stoizismus\",\n\"t5_4cmjcc, t5_30efup, t5_3pjos\"],\n [{\n            'v': 456,\n            'f': \"456\",\n        },\n\"t5_4cmjcc\",\n\"streamen\",\n\"0013-0023-0041-0059-0062-0078-0084-0115-0310-0635-0925-1031-1508-1782-2138-2278-2742-3043-3303-3586-3740-3802\",\n\"k_3927_label\",\n\"E\",\n{\n            'v': 3,\n            'f': \"3\",\n        },\n\"mediathek, mirellativegal, stoizismus\",\n\"t5_33xyp, t5_30efup, t5_3pjos\"],\n [{\n            'v': 458,\n            'f': \"458\",\n        },\n\"t5_3pjos\",\n\"stoizismus\",\n\"0013-0023-0041-0059-0062-0078-0084-0115-0310-0635-0925-1031-1508-1782-2138-2278-2742-3043-3303-3586-3740-3802\",\n\"k_3927_label\",\n\"E\",\n{\n            'v': 3,\n            'f': \"3\",\n        },\n\"mediathek, streamen, mirellativegal\",\n\"t5_33xyp, t5_4cmjcc, t5_30efup\"],\n [{\n            'v': 457,\n            'f': \"457\",\n        },\n\"t5_30efup\",\n\"mirellativegal\",\n\"0013-0023-0041-0059-0062-0078-0084-0115-0310-0635-0925-1031-1508-1782-2138-2278-2742-3043-3303-3586-3740-3802\",\n\"k_3927_label\",\n\"E\",\n{\n            'v': 3,\n            'f': \"3\",\n        },\n\"mediathek, streamen, stoizismus\",\n\"t5_33xyp, t5_4cmjcc, t5_3pjos\"],\n [{\n            'v': 231,\n            'f': \"231\",\n        },\n\"t5_31x7o\",\n\"american_football\",\n\"10\",\n\"k_0013_label\",\n\"E\",\n{\n            'v': 3,\n            'f': \"3\",\n        },\n\"elf, almancis, valnevase\",\n\"t5_2skuk, t5_2h02ye, t5_51lqnd\"],\n [{\n            'v': 232,\n            'f': \"232\",\n        },\n\"t5_2skuk\",\n\"elf\",\n\"10\",\n\"k_0013_label\",\n\"E\",\n{\n            'v': 3,\n            'f': \"3\",\n        },\n\"american_football, almancis, valnevase\",\n\"t5_31x7o, t5_2h02ye, t5_51lqnd\"],\n [{\n            'v': 264,\n            'f': \"264\",\n        },\n\"t5_2h02ye\",\n\"almancis\",\n\"10\",\n\"k_0013_label\",\n\"E\",\n{\n            'v': 3,\n            'f': \"3\",\n        },\n\"american_football, elf, valnevase\",\n\"t5_31x7o, t5_2skuk, t5_51lqnd\"],\n [{\n            'v': 265,\n            'f': \"265\",\n        },\n\"t5_51lqnd\",\n\"valnevase\",\n\"10\",\n\"k_0013_label\",\n\"E\",\n{\n            'v': 3,\n            'f': \"3\",\n        },\n\"american_football, elf, almancis\",\n\"t5_31x7o, t5_2skuk, t5_2h02ye\"]],\n        columns: [[\"number\", \"index\"], [\"string\", \"subreddit_id_seed\"], [\"string\", \"subreddit_name_seed\"], [\"string\", \"cluster_label\"], [\"string\", \"cluster_label_k\"], [\"string\", \"rating_short_latest\"], [\"number\", \"subreddits_to_recommend_count\"], [\"string\", \"list_cluster_subreddit_names\"], [\"string\", \"list_cluster_subreddit_ids\"]],\n        columnOptions: [{\"width\": \"1px\", \"className\": \"index_column\"}],\n        rowsPerPage: 25,\n        helpUrl: \"https://colab.research.google.com/notebooks/data_table.ipynb\",\n        suppressOutputScrolling: true,\n        minimumWidth: undefined,\n      });\n    "
          },
          "metadata": {},
          "execution_count": 78
        }
      ]
    },
    {
      "cell_type": "markdown",
      "metadata": {
        "id": "2VYDcXoXEHYl"
      },
      "source": [
        "## Save new output to google sheet"
      ]
    },
    {
      "cell_type": "code",
      "source": [
        "d_wsh_names['clusters_t2t_fpr_after_qa']['worksheet'].update(\n",
        "    [df_target_to_target_list.rename(columns={k: k.replace('_', ' ') for k in df_target_to_target_list.columns}).columns.values.tolist()] + \n",
        "    df_target_to_target_list.fillna('').values.tolist()\n",
        ")"
      ],
      "metadata": {
        "colab": {
          "base_uri": "https://localhost:8080/"
        },
        "id": "Om4VV6QVuWJs",
        "outputId": "64259d85-cdba-4489-cc00-5f68b2f9eaa4"
      },
      "execution_count": null,
      "outputs": [
        {
          "output_type": "execute_result",
          "data": {
            "text/plain": [
              "{'spreadsheetId': '1K0GPk-ud_UNPun_5EaODxY4CoywTEUbMyF8NNsk2q-8',\n",
              " 'updatedCells': 3680,\n",
              " 'updatedColumns': 8,\n",
              " 'updatedRange': 'fpr_clusters_after_qa_DE_DE!A1:H460',\n",
              " 'updatedRows': 460}"
            ]
          },
          "metadata": {},
          "execution_count": 80
        }
      ]
    },
    {
      "cell_type": "code",
      "source": [
        ""
      ],
      "metadata": {
        "id": "9qw8WcZvuWG6"
      },
      "execution_count": null,
      "outputs": []
    }
  ]
}