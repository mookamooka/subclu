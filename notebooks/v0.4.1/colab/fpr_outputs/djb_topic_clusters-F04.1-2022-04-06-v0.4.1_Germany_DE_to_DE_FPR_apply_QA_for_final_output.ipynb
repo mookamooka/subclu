{
  "nbformat": 4,
  "nbformat_minor": 0,
  "metadata": {
    "colab": {
      "name": "djb_topic_clusters-F04.1-2022-04-06-v0.4.1_Germany_DE_to_DE_FPR_apply_QA_for_final_output.ipynb",
      "provenance": [],
      "collapsed_sections": [
        "Y5QYz4t5qXgv",
        "ruXaYJdq8zL0",
        "dVXfcDlqWjPe"
      ]
    },
    "kernelspec": {
      "name": "python3",
      "display_name": "Python 3"
    },
    "language_info": {
      "name": "python"
    }
  },
  "cells": [
    {
      "cell_type": "markdown",
      "metadata": {
        "id": "iVZuLSOgZVC8"
      },
      "source": [
        "# Purpose\n",
        "\n",
        "### 2022-04-05\n",
        "Re-run again now that we expect some ratings to have been updated by the taxonomy team.\n",
        "\n",
        "### 2022-03-22\n",
        "- model version: 4.0.1\n",
        "\n",
        "In this notebook we apply the filters from the QA process to get the final output for Australia-relevant subs. The primary use case is geo-relevant FPRs [[i18n/ML] One Feed Experiment Spec: UK/CA/AU/IN](https://docs.google.com/document/d/10z0ZlZuYnPYzUjlKHLy5iKClCk1AvMsy6LSL1wRK7FE/edit#heading=h.uozl6p2gc9i3).\n",
        "\n",
        "\n",
        "### Inputs:\n",
        "- Values from the QA spreadsheet\n",
        "    - Cluster IDs\n",
        "        - Recommend subs with the same cluster ID\n",
        "    - Subreddits that are not country-relevant\n",
        "        - Remove them\n",
        "    - Subreddits that are NSFW\n",
        "        - Remove them\n",
        "    - Subreddits that don't belong to a cluster\n",
        "        - Remove them\n",
        "\n",
        "### Outputs\n",
        "- Write to a new tab in google sheets with format needed for FPRs\n",
        "    - Use `gspread` to write table outputs directly to google sheets\n",
        "\n",
        "\n",
        "### Reference\n",
        "[Notebook template for v0.4.0 model](https://colab.research.google.com/drive/19p3O5DGxiEXj57OeCFf2gVIagUgCLx9v?usp=sharing)"
      ]
    },
    {
      "cell_type": "markdown",
      "metadata": {
        "id": "c2qXnQ5IV9Z7"
      },
      "source": [
        "# Imports & notebook setup"
      ]
    },
    {
      "cell_type": "code",
      "metadata": {
        "id": "pCuWmkxaGYwm"
      },
      "source": [
        "%load_ext google.colab.data_table\n",
        "%load_ext autoreload\n",
        "%autoreload 2"
      ],
      "execution_count": 4,
      "outputs": []
    },
    {
      "cell_type": "code",
      "metadata": {
        "colab": {
          "base_uri": "https://localhost:8080/"
        },
        "id": "tS4ktaPaGwbh",
        "outputId": "37cf40c6-b4da-40bd-e3f8-6669bd2ed3d0"
      },
      "source": [
        "# colab auth for BigQuery & google drive\n",
        "from google.colab import auth, files, drive\n",
        "from google.auth import default\n",
        "import sys  # need sys for mounting gdrive path\n",
        "\n",
        "auth.authenticate_user()\n",
        "print('Authenticated')"
      ],
      "execution_count": 5,
      "outputs": [
        {
          "output_type": "stream",
          "name": "stdout",
          "text": [
            "Authenticated\n"
          ]
        }
      ]
    },
    {
      "cell_type": "markdown",
      "source": [
        "### Append google-drive"
      ],
      "metadata": {
        "id": "Y5QYz4t5qXgv"
      }
    },
    {
      "cell_type": "code",
      "metadata": {
        "colab": {
          "base_uri": "https://localhost:8080/"
        },
        "id": "kuOoJT3noOPE",
        "outputId": "3ec0509c-2bf7-4750-d6e7-8475571bcbf4"
      },
      "source": [
        "# Attach google drive & import my python utility functions\n",
        "# if drive.mount() fails, you can also:\n",
        "#   MANUALLY CLICK ON \"Mount Drive\"\n",
        "g_drive_root = '/content/drive'\n",
        "\n",
        "try:\n",
        "    drive.mount(g_drive_root, force_remount=True)\n",
        "    print('   Authenticated & mounted Google Drive')\n",
        "except Exception as e:\n",
        "    print(e)\n",
        "    raise Exception('You might need to manually mount google drive to colab')\n",
        "\n",
        "l_paths_to_append = [\n",
        "    f'{g_drive_root}/MyDrive/Colab Notebooks',\n",
        "\n",
        "    # need to append the path to subclu so that colab can import things properly\n",
        "    f'{g_drive_root}/MyDrive/Colab Notebooks/subreddit_clustering_i18n'\n",
        "]\n",
        "for path_ in l_paths_to_append:\n",
        "    if path_ in sys.path:\n",
        "        sys.path.remove(path_)\n",
        "    print(f\" Appending path: {path_}\")\n",
        "    sys.path.append(path_)"
      ],
      "execution_count": 6,
      "outputs": [
        {
          "output_type": "stream",
          "name": "stdout",
          "text": [
            "Mounted at /content/drive\n",
            "   Authenticated & mounted Google Drive\n",
            " Appending path: /content/drive/MyDrive/Colab Notebooks\n",
            " Appending path: /content/drive/MyDrive/Colab Notebooks/subreddit_clustering_i18n\n"
          ]
        }
      ]
    },
    {
      "cell_type": "markdown",
      "metadata": {
        "id": "6jFbY64VRAGX"
      },
      "source": [
        "### Install custom libraries"
      ]
    },
    {
      "cell_type": "code",
      "metadata": {
        "id": "Kpey-jzFbiXu",
        "colab": {
          "base_uri": "https://localhost:8080/"
        },
        "outputId": "1e265aa0-b18b-4e8d-ce0e-07b23fc0dc66"
      },
      "source": [
        "# install subclu & libraries needed to read parquet files from GCS & spreadsheets\n",
        "#  make sure to use the [colab] `extra` because it includes colab-specific libraries\n",
        "module_path = f\"{g_drive_root}/MyDrive/Colab Notebooks/subreddit_clustering_i18n/[colab]\"\n",
        "\n",
        "!pip install -e $\"$module_path\" --quiet"
      ],
      "execution_count": 7,
      "outputs": [
        {
          "output_type": "stream",
          "name": "stdout",
          "text": [
            "\u001b[K     |████████████████████████████████| 10.1 MB 3.8 MB/s \n",
            "\u001b[K     |████████████████████████████████| 14.2 MB 34.7 MB/s \n",
            "\u001b[K     |████████████████████████████████| 965 kB 51.2 MB/s \n",
            "\u001b[K     |████████████████████████████████| 144 kB 58.9 MB/s \n",
            "\u001b[K     |████████████████████████████████| 76 kB 3.0 MB/s \n",
            "\u001b[K     |████████████████████████████████| 285 kB 71.7 MB/s \n",
            "\u001b[K     |████████████████████████████████| 13.2 MB 30.9 MB/s \n",
            "\u001b[K     |████████████████████████████████| 79.9 MB 101 kB/s \n",
            "\u001b[K     |████████████████████████████████| 136 kB 72.8 MB/s \n",
            "\u001b[K     |████████████████████████████████| 715 kB 58.6 MB/s \n",
            "\u001b[K     |████████████████████████████████| 74 kB 2.4 MB/s \n",
            "\u001b[K     |████████████████████████████████| 112 kB 58.4 MB/s \n",
            "\u001b[K     |████████████████████████████████| 79 kB 6.2 MB/s \n",
            "\u001b[K     |████████████████████████████████| 1.1 MB 56.3 MB/s \n",
            "\u001b[K     |████████████████████████████████| 146 kB 53.2 MB/s \n",
            "\u001b[K     |████████████████████████████████| 181 kB 56.7 MB/s \n",
            "\u001b[K     |████████████████████████████████| 62 kB 618 kB/s \n",
            "\u001b[K     |████████████████████████████████| 596 kB 64.4 MB/s \n",
            "\u001b[K     |████████████████████████████████| 78 kB 5.3 MB/s \n",
            "\u001b[K     |████████████████████████████████| 54 kB 2.1 MB/s \n",
            "\u001b[K     |████████████████████████████████| 1.1 MB 42.2 MB/s \n",
            "\u001b[K     |████████████████████████████████| 94 kB 2.5 MB/s \n",
            "\u001b[K     |████████████████████████████████| 271 kB 61.0 MB/s \n",
            "\u001b[K     |████████████████████████████████| 144 kB 58.1 MB/s \n",
            "\u001b[K     |████████████████████████████████| 63 kB 1.4 MB/s \n",
            "\u001b[?25h  Building wheel for antlr4-python3-runtime (setup.py) ... \u001b[?25l\u001b[?25hdone\n",
            "  Building wheel for alembic (setup.py) ... \u001b[?25l\u001b[?25hdone\n",
            "  Building wheel for databricks-cli (setup.py) ... \u001b[?25l\u001b[?25hdone\n",
            "  Building wheel for retrying (setup.py) ... \u001b[?25l\u001b[?25hdone\n",
            "\u001b[31mERROR: pip's dependency resolver does not currently take into account all the packages that are installed. This behaviour is the source of the following dependency conflicts.\n",
            "gym 0.17.3 requires cloudpickle<1.7.0,>=1.2.0, but you have cloudpickle 2.0.0 which is incompatible.\u001b[0m\n"
          ]
        }
      ]
    },
    {
      "cell_type": "markdown",
      "metadata": {
        "id": "5TH350bzUsR9"
      },
      "source": [
        "### General Imports\n"
      ]
    },
    {
      "cell_type": "code",
      "metadata": {
        "id": "9TpWbXh5mzew"
      },
      "source": [
        "# Regular Imports\n",
        "import os\n",
        "from datetime import datetime\n",
        "\n",
        "from google.cloud import bigquery\n",
        "\n",
        "import matplotlib.pyplot as plt\n",
        "import pandas as pd\n",
        "import numpy as np\n",
        "import seaborn as sns\n",
        "from matplotlib_venn import venn2_unweighted, venn3_unweighted\n",
        "from tqdm import tqdm\n",
        "\n",
        "# auth for google sheets\n",
        "creds_, _ = default()\n",
        "import gspread\n",
        "# from oauth2client.client import GoogleCredentials\n",
        "gc = gspread.authorize(creds_)\n",
        "\n",
        "\n",
        "# Set env variable needed by some libraries to get datay from BigQuery\n",
        "# os.environ['GOOGLE_CLOUD_PROJECT'] = 'data-science-prod-218515'\n",
        "os.environ['GOOGLE_CLOUD_PROJECT'] = 'data-prod-165221'"
      ],
      "execution_count": 8,
      "outputs": []
    },
    {
      "cell_type": "markdown",
      "metadata": {
        "id": "BMQYoHOTcAlP"
      },
      "source": [
        "### `subclu` import (custom module)"
      ]
    },
    {
      "cell_type": "code",
      "metadata": {
        "colab": {
          "base_uri": "https://localhost:8080/"
        },
        "id": "Cj_y2KtccJ8P",
        "outputId": "6f9bc040-7d4f-4e1a-cd91-04c03629884b"
      },
      "source": [
        "# subclu imports\n",
        "\n",
        "from subclu.utils.eda import (\n",
        "    setup_logging, counts_describe, value_counts_and_pcts,\n",
        "    notebook_display_config, print_lib_versions,\n",
        "    style_df_numeric, reorder_array,\n",
        ")\n",
        "from subclu.models.clustering_utils import (\n",
        "    create_dynamic_clusters,\n",
        "    convert_distance_or_ab_to_list_for_fpr\n",
        ")\n",
        "from subclu.models.reshape_clusters_v041 import (\n",
        "    get_subs_to_filter_as_df\n",
        ")\n",
        "\n",
        "\n",
        "setup_logging()\n",
        "print_lib_versions([gspread, pd, np])"
      ],
      "execution_count": 9,
      "outputs": [
        {
          "output_type": "stream",
          "name": "stdout",
          "text": [
            "python\t\tv 3.7.13\n",
            "===\n",
            "gspread\t\tv: 4.0.1\n",
            "pandas\t\tv: 1.3.5\n",
            "numpy\t\tv: 1.21.5\n"
          ]
        }
      ]
    },
    {
      "cell_type": "markdown",
      "source": [
        "# Checklist to re-run for a country:\n",
        "\n",
        "- Copy google sheet cell from 1st notebook so it matches:\n",
        "    - Google sheet KEY\n",
        "    - country name for google sheet name\n",
        "    - country initial in google sheet\n",
        "- Add new sheet to create: `clusters_t2t_fpr_after_qa`\n",
        "    - Here's where we'll save the clusters after QA\n"
      ],
      "metadata": {
        "id": "NcUyRqG1t2ul"
      }
    },
    {
      "cell_type": "markdown",
      "source": [
        "# Google sheet with country QA\n",
        "\n",
        "For now, copy the same cell from the QA notebook. \n",
        "\n",
        "In the future we might need to register QA sheets in a central location to reduce copy/pasta."
      ],
      "metadata": {
        "id": "xp9fRYijuYdT"
      }
    },
    {
      "cell_type": "code",
      "source": [
        "# # %%time\n",
        "os.environ['GOOGLE_CLOUD_PROJECT'] = 'data-prod-165221'\n",
        "\n",
        "country_name_sheet_ = 'Germany'\n",
        "target_abbrev_ = 'DE'\n",
        "GSHEET_KEY = '1K0GPk-ud_UNPun_5EaODxY4CoywTEUbMyF8NNsk2q-8'\n",
        "GSHEET_NAME = f'i18n {country_name_sheet_} subreddits and clusters - model v0.4.1'\n",
        "\n",
        "\n",
        "d_wsh_names = {\n",
        "    'qa_ready': {\n",
        "        'name': 'subs_need_to_be_rated',\n",
        "    },\n",
        "    'clusters_t2t_list_raw': {\n",
        "        'name': f'raw_clusters_list_{target_abbrev_}_{target_abbrev_}',\n",
        "    },\n",
        "    'sub_raw': {\n",
        "        'name': 'raw_data_per_subreddit',\n",
        "    },\n",
        "    'clusters_t2t_fpr_raw': {\n",
        "        'name': f'raw_clusters_fpr_{target_abbrev_}_{target_abbrev_}',\n",
        "    },\n",
        "    'clusters_t2t_fpr_after_qa': {\n",
        "        'name': f'fpr_clusters_after_qa_{target_abbrev_}_{target_abbrev_}',\n",
        "    },\n",
        "}\n",
        "\n",
        "if GSHEET_KEY is not None:\n",
        "    sh = gc.open_by_key(GSHEET_KEY)\n",
        "    print(f\"Opening google worksheet: {GSHEET_NAME} ...\")\n",
        "else:\n",
        "    print(f\"** Creating google worksheet: {GSHEET_NAME} ...\")\n",
        "    sh = gc.create(GSHEET_NAME)\n",
        "\n",
        "# create worksheets:\n",
        "for _, d_ in d_wsh_names.items():\n",
        "    sh_name = d_['name']\n",
        "    try:\n",
        "        d_['worksheet'] = sh.worksheet(sh_name)\n",
        "        print(f\"  Opening tab/sheet: {sh_name} ...\")\n",
        "    except Exception as e:\n",
        "        print(f\"  ** Creating tab/sheet: {sh_name} ...\")\n",
        "        d_['worksheet'] = sh.add_worksheet(sh_name, rows=5, cols=5)\n",
        "\n",
        "if GSHEET_KEY is None:\n",
        "    print(f\"\\n*** New sheet ID (assign it to GSHEET_KEY variable): ***\\n{sh.id}\\n\")"
      ],
      "metadata": {
        "colab": {
          "base_uri": "https://localhost:8080/"
        },
        "id": "P2nVB2ehuWRf",
        "outputId": "d5bb722a-946f-436d-ba7b-5cda1e95dc92"
      },
      "execution_count": 10,
      "outputs": [
        {
          "output_type": "stream",
          "name": "stdout",
          "text": [
            "Opening google worksheet: i18n Germany subreddits and clusters - model v0.4.1 ...\n",
            "  Opening tab/sheet: subs_need_to_be_rated ...\n",
            "  Opening tab/sheet: raw_clusters_list_DE_DE ...\n",
            "  Opening tab/sheet: raw_data_per_subreddit ...\n",
            "  Opening tab/sheet: raw_clusters_fpr_DE_DE ...\n",
            "  Opening tab/sheet: fpr_clusters_after_qa_DE_DE ...\n"
          ]
        }
      ]
    },
    {
      "cell_type": "markdown",
      "source": [
        "# Get latest ratings & flags (e.g., `allow_discovery`)"
      ],
      "metadata": {
        "id": "c9r0nVpH4XRu"
      }
    },
    {
      "cell_type": "markdown",
      "source": [
        "## SQL"
      ],
      "metadata": {
        "id": "ruXaYJdq8zL0"
      }
    },
    {
      "cell_type": "code",
      "source": [
        "%%time\n",
        "%%bigquery df_latest_ratings --project data-science-prod-218515 \n",
        "\n",
        "-- Get ratings & other flags for all subs in the model\n",
        "--  we'll filter/match to country in python\n",
        "DECLARE PARTITION_DATE DATE DEFAULT (CURRENT_DATE() - 1);\n",
        "\n",
        "SELECT\n",
        "    t.subreddit_id\n",
        "    , t.subreddit_name\n",
        "    , CASE WHEN nt.rating_short = 'E' THEN True\n",
        "        ELSE False\n",
        "    END AS rated_e_latest\n",
        "    , slo.over_18\n",
        "    , slo.allow_discovery\n",
        "    , nt.rating_short\n",
        "    , slo.type\n",
        "    , nt.primary_topic\n",
        "    , nt.rating_name\n",
        "\n",
        "FROM `reddit-employee-datasets.david_bermejo.subclu_v0041_subreddit_clusters_c_a` AS t\n",
        "    -- Add rating so we can get filter out subs not rated as E\n",
        "    LEFT JOIN (\n",
        "        SELECT *\n",
        "        FROM `data-prod-165221.ds_v2_postgres_tables.subreddit_lookup`\n",
        "        -- Get latest partition\n",
        "        WHERE dt = PARTITION_DATE\n",
        "    ) AS slo\n",
        "        ON t.subreddit_id = slo.subreddit_id\n",
        "    LEFT JOIN (\n",
        "        SELECT * FROM `data-prod-165221.cnc.shredded_crowdsource_topic_and_rating`\n",
        "        WHERE pt = PARTITION_DATE\n",
        "    ) AS nt\n",
        "        ON t.subreddit_id = nt.subreddit_id\n",
        "\n",
        "WHERE 1=1\n",
        "    AND t.subreddit_name != 'profile'\n",
        "    -- For this query, we want to keep these values to know\n",
        "    --  if they have changed since last time\n",
        "    -- AND COALESCE(slo.type, '') = 'public'\n",
        "    -- AND COALESCE(slo.verdict, 'f') <> 'admin_removed'\n",
        "    -- AND COALESCE(slo.over_18, 'f') = 'f'\n",
        "    -- AND COALESCE(nt.rating_short, '') NOT IN ('X', 'D')\n",
        "\n",
        "ORDER BY subreddit_name\n",
        ";"
      ],
      "metadata": {
        "colab": {
          "base_uri": "https://localhost:8080/"
        },
        "id": "oxODoHWv4flO",
        "outputId": "c786d95f-9ff7-49b9-e460-80e12cf688ea"
      },
      "execution_count": 11,
      "outputs": [
        {
          "output_type": "stream",
          "name": "stdout",
          "text": [
            "CPU times: user 1.65 s, sys: 142 ms, total: 1.8 s\n",
            "Wall time: 24.6 s\n"
          ]
        }
      ]
    },
    {
      "cell_type": "markdown",
      "source": [
        "## Inspect latest ratings"
      ],
      "metadata": {
        "id": "gdGAO1Ra8v-A"
      }
    },
    {
      "cell_type": "code",
      "source": [
        "print(df_latest_ratings.shape)\n",
        "df_latest_ratings.head()"
      ],
      "metadata": {
        "colab": {
          "base_uri": "https://localhost:8080/",
          "height": 215
        },
        "id": "5iPb4rqo8Nax",
        "outputId": "39aa8d31-b39f-4bf3-ff03-ba017b803765"
      },
      "execution_count": 12,
      "outputs": [
        {
          "output_type": "stream",
          "name": "stdout",
          "text": [
            "(49558, 9)\n"
          ]
        },
        {
          "output_type": "execute_result",
          "data": {
            "text/plain": [
              "  subreddit_id  subreddit_name  rated_e_latest over_18 allow_discovery  \\\n",
              "0    t5_46wt4h    0hthaatsjaay           False       t            None   \n",
              "1    t5_4byrct  0nlyfantastic0           False       t            None   \n",
              "2    t5_36f9u6       0nlyleaks           False       t            None   \n",
              "3    t5_2qlzfy    0sanitymemes           False    None            None   \n",
              "4    t5_2qgijx       0xpolygon            True    None            None   \n",
              "\n",
              "  rating_short    type                    primary_topic rating_name  \n",
              "0         None  public  Mature Themes and Adult Content        None  \n",
              "1         None  public                             None        None  \n",
              "2         None  public                             None        None  \n",
              "3            M  public       Internet Culture and Memes      Mature  \n",
              "4            E  public                           Crypto    Everyone  "
            ],
            "text/html": [
              "\n",
              "  <div id=\"df-a7a75d36-cdbb-4e96-8c2e-4a083c53eda9\">\n",
              "    <div class=\"colab-df-container\">\n",
              "      <div>\n",
              "<style scoped>\n",
              "    .dataframe tbody tr th:only-of-type {\n",
              "        vertical-align: middle;\n",
              "    }\n",
              "\n",
              "    .dataframe tbody tr th {\n",
              "        vertical-align: top;\n",
              "    }\n",
              "\n",
              "    .dataframe thead th {\n",
              "        text-align: right;\n",
              "    }\n",
              "</style>\n",
              "<table border=\"1\" class=\"dataframe\">\n",
              "  <thead>\n",
              "    <tr style=\"text-align: right;\">\n",
              "      <th></th>\n",
              "      <th>subreddit_id</th>\n",
              "      <th>subreddit_name</th>\n",
              "      <th>rated_e_latest</th>\n",
              "      <th>over_18</th>\n",
              "      <th>allow_discovery</th>\n",
              "      <th>rating_short</th>\n",
              "      <th>type</th>\n",
              "      <th>primary_topic</th>\n",
              "      <th>rating_name</th>\n",
              "    </tr>\n",
              "  </thead>\n",
              "  <tbody>\n",
              "    <tr>\n",
              "      <th>0</th>\n",
              "      <td>t5_46wt4h</td>\n",
              "      <td>0hthaatsjaay</td>\n",
              "      <td>False</td>\n",
              "      <td>t</td>\n",
              "      <td>None</td>\n",
              "      <td>None</td>\n",
              "      <td>public</td>\n",
              "      <td>Mature Themes and Adult Content</td>\n",
              "      <td>None</td>\n",
              "    </tr>\n",
              "    <tr>\n",
              "      <th>1</th>\n",
              "      <td>t5_4byrct</td>\n",
              "      <td>0nlyfantastic0</td>\n",
              "      <td>False</td>\n",
              "      <td>t</td>\n",
              "      <td>None</td>\n",
              "      <td>None</td>\n",
              "      <td>public</td>\n",
              "      <td>None</td>\n",
              "      <td>None</td>\n",
              "    </tr>\n",
              "    <tr>\n",
              "      <th>2</th>\n",
              "      <td>t5_36f9u6</td>\n",
              "      <td>0nlyleaks</td>\n",
              "      <td>False</td>\n",
              "      <td>t</td>\n",
              "      <td>None</td>\n",
              "      <td>None</td>\n",
              "      <td>public</td>\n",
              "      <td>None</td>\n",
              "      <td>None</td>\n",
              "    </tr>\n",
              "    <tr>\n",
              "      <th>3</th>\n",
              "      <td>t5_2qlzfy</td>\n",
              "      <td>0sanitymemes</td>\n",
              "      <td>False</td>\n",
              "      <td>None</td>\n",
              "      <td>None</td>\n",
              "      <td>M</td>\n",
              "      <td>public</td>\n",
              "      <td>Internet Culture and Memes</td>\n",
              "      <td>Mature</td>\n",
              "    </tr>\n",
              "    <tr>\n",
              "      <th>4</th>\n",
              "      <td>t5_2qgijx</td>\n",
              "      <td>0xpolygon</td>\n",
              "      <td>True</td>\n",
              "      <td>None</td>\n",
              "      <td>None</td>\n",
              "      <td>E</td>\n",
              "      <td>public</td>\n",
              "      <td>Crypto</td>\n",
              "      <td>Everyone</td>\n",
              "    </tr>\n",
              "  </tbody>\n",
              "</table>\n",
              "</div>\n",
              "      <button class=\"colab-df-convert\" onclick=\"convertToInteractive('df-a7a75d36-cdbb-4e96-8c2e-4a083c53eda9')\"\n",
              "              title=\"Convert this dataframe to an interactive table.\"\n",
              "              style=\"display:none;\">\n",
              "        \n",
              "  <svg xmlns=\"http://www.w3.org/2000/svg\" height=\"24px\"viewBox=\"0 0 24 24\"\n",
              "       width=\"24px\">\n",
              "    <path d=\"M0 0h24v24H0V0z\" fill=\"none\"/>\n",
              "    <path d=\"M18.56 5.44l.94 2.06.94-2.06 2.06-.94-2.06-.94-.94-2.06-.94 2.06-2.06.94zm-11 1L8.5 8.5l.94-2.06 2.06-.94-2.06-.94L8.5 2.5l-.94 2.06-2.06.94zm10 10l.94 2.06.94-2.06 2.06-.94-2.06-.94-.94-2.06-.94 2.06-2.06.94z\"/><path d=\"M17.41 7.96l-1.37-1.37c-.4-.4-.92-.59-1.43-.59-.52 0-1.04.2-1.43.59L10.3 9.45l-7.72 7.72c-.78.78-.78 2.05 0 2.83L4 21.41c.39.39.9.59 1.41.59.51 0 1.02-.2 1.41-.59l7.78-7.78 2.81-2.81c.8-.78.8-2.07 0-2.86zM5.41 20L4 18.59l7.72-7.72 1.47 1.35L5.41 20z\"/>\n",
              "  </svg>\n",
              "      </button>\n",
              "      \n",
              "  <style>\n",
              "    .colab-df-container {\n",
              "      display:flex;\n",
              "      flex-wrap:wrap;\n",
              "      gap: 12px;\n",
              "    }\n",
              "\n",
              "    .colab-df-convert {\n",
              "      background-color: #E8F0FE;\n",
              "      border: none;\n",
              "      border-radius: 50%;\n",
              "      cursor: pointer;\n",
              "      display: none;\n",
              "      fill: #1967D2;\n",
              "      height: 32px;\n",
              "      padding: 0 0 0 0;\n",
              "      width: 32px;\n",
              "    }\n",
              "\n",
              "    .colab-df-convert:hover {\n",
              "      background-color: #E2EBFA;\n",
              "      box-shadow: 0px 1px 2px rgba(60, 64, 67, 0.3), 0px 1px 3px 1px rgba(60, 64, 67, 0.15);\n",
              "      fill: #174EA6;\n",
              "    }\n",
              "\n",
              "    [theme=dark] .colab-df-convert {\n",
              "      background-color: #3B4455;\n",
              "      fill: #D2E3FC;\n",
              "    }\n",
              "\n",
              "    [theme=dark] .colab-df-convert:hover {\n",
              "      background-color: #434B5C;\n",
              "      box-shadow: 0px 1px 3px 1px rgba(0, 0, 0, 0.15);\n",
              "      filter: drop-shadow(0px 1px 2px rgba(0, 0, 0, 0.3));\n",
              "      fill: #FFFFFF;\n",
              "    }\n",
              "  </style>\n",
              "\n",
              "      <script>\n",
              "        const buttonEl =\n",
              "          document.querySelector('#df-a7a75d36-cdbb-4e96-8c2e-4a083c53eda9 button.colab-df-convert');\n",
              "        buttonEl.style.display =\n",
              "          google.colab.kernel.accessAllowed ? 'block' : 'none';\n",
              "\n",
              "        async function convertToInteractive(key) {\n",
              "          const element = document.querySelector('#df-a7a75d36-cdbb-4e96-8c2e-4a083c53eda9');\n",
              "          const dataTable =\n",
              "            await google.colab.kernel.invokeFunction('convertToInteractive',\n",
              "                                                     [key], {});\n",
              "          if (!dataTable) return;\n",
              "\n",
              "          const docLinkHtml = 'Like what you see? Visit the ' +\n",
              "            '<a target=\"_blank\" href=https://colab.research.google.com/notebooks/data_table.ipynb>data table notebook</a>'\n",
              "            + ' to learn more about interactive tables.';\n",
              "          element.innerHTML = '';\n",
              "          dataTable['output_type'] = 'display_data';\n",
              "          await google.colab.output.renderOutput(dataTable, element);\n",
              "          const docLink = document.createElement('div');\n",
              "          docLink.innerHTML = docLinkHtml;\n",
              "          element.appendChild(docLink);\n",
              "        }\n",
              "      </script>\n",
              "    </div>\n",
              "  </div>\n",
              "  "
            ],
            "application/vnd.google.colaboratory.module+javascript": "\n      import \"https://ssl.gstatic.com/colaboratory/data_table/81f25a011006ed3d/data_table.js\";\n\n      window.createDataTable({\n        data: [[{\n            'v': 0,\n            'f': \"0\",\n        },\n\"t5_46wt4h\",\n\"0hthaatsjaay\",\nfalse,\n\"t\",\n{\n            'v': null,\n            'f': \"null\",\n        },\nnull,\n\"public\",\n\"Mature Themes and Adult Content\",\nnull],\n [{\n            'v': 1,\n            'f': \"1\",\n        },\n\"t5_4byrct\",\n\"0nlyfantastic0\",\nfalse,\n\"t\",\n{\n            'v': null,\n            'f': \"null\",\n        },\nnull,\n\"public\",\nnull,\nnull],\n [{\n            'v': 2,\n            'f': \"2\",\n        },\n\"t5_36f9u6\",\n\"0nlyleaks\",\nfalse,\n\"t\",\n{\n            'v': null,\n            'f': \"null\",\n        },\nnull,\n\"public\",\nnull,\nnull],\n [{\n            'v': 3,\n            'f': \"3\",\n        },\n\"t5_2qlzfy\",\n\"0sanitymemes\",\nfalse,\nnull,\n{\n            'v': null,\n            'f': \"null\",\n        },\n\"M\",\n\"public\",\n\"Internet Culture and Memes\",\n\"Mature\"],\n [{\n            'v': 4,\n            'f': \"4\",\n        },\n\"t5_2qgijx\",\n\"0xpolygon\",\ntrue,\nnull,\n{\n            'v': null,\n            'f': \"null\",\n        },\n\"E\",\n\"public\",\n\"Crypto\",\n\"Everyone\"]],\n        columns: [[\"number\", \"index\"], [\"string\", \"subreddit_id\"], [\"string\", \"subreddit_name\"], [\"string\", \"rated_e_latest\"], [\"string\", \"over_18\"], [\"number\", \"allow_discovery\"], [\"string\", \"rating_short\"], [\"string\", \"type\"], [\"string\", \"primary_topic\"], [\"string\", \"rating_name\"]],\n        columnOptions: [{\"width\": \"1px\", \"className\": \"index_column\"}],\n        rowsPerPage: 25,\n        helpUrl: \"https://colab.research.google.com/notebooks/data_table.ipynb\",\n        suppressOutputScrolling: true,\n        minimumWidth: undefined,\n      });\n    "
          },
          "metadata": {},
          "execution_count": 12
        }
      ]
    },
    {
      "cell_type": "markdown",
      "source": [
        "# Google sheet with subreddits to exclude\n",
        "Spiros created [this sheet](https://docs.google.com/spreadsheets/d/1JiDpiLa8RKRTC0ZxjLI0ISgtngAFWTEbsoYEoeeaVO8/edit#gid=733540374) for subs that are missing rating or have ratings that look wrong.\n",
        "\n",
        "To be safe, we'll be excluding all the subs in these sheets.\n",
        "\n",
        "### update 2022-04-06\n",
        "Taxonomy team has reviewed these and ratings should be updated. So we're no longer excluding these.\n"
      ],
      "metadata": {
        "id": "OiDPbwH1tApB"
      }
    },
    {
      "cell_type": "code",
      "source": [
        "# GSHEET_KEY_EXCLUDES = '1JiDpiLa8RKRTC0ZxjLI0ISgtngAFWTEbsoYEoeeaVO8'\n",
        "# sh_filter = gc.open_by_key(GSHEET_KEY_EXCLUDES)\n",
        "\n",
        "# df_subs_to_filter = get_subs_to_filter_as_df(sh_filter, cols_to_keep='core')"
      ],
      "metadata": {
        "id": "A7bxTP2PtOlP"
      },
      "execution_count": 13,
      "outputs": []
    },
    {
      "cell_type": "code",
      "source": [
        "# counts_describe(df_subs_to_filter)"
      ],
      "metadata": {
        "id": "EpAlf4ewtOex"
      },
      "execution_count": 14,
      "outputs": []
    },
    {
      "cell_type": "code",
      "source": [
        "# df_subs_to_filter.tail()"
      ],
      "metadata": {
        "id": "2B07Vzwl0HL5"
      },
      "execution_count": 15,
      "outputs": []
    },
    {
      "cell_type": "markdown",
      "metadata": {
        "id": "DzFMkIHFdmQd"
      },
      "source": [
        "# Read QA results from sheet"
      ]
    },
    {
      "cell_type": "code",
      "metadata": {
        "colab": {
          "base_uri": "https://localhost:8080/"
        },
        "id": "jGP6NXGSboGu",
        "outputId": "d894e37f-c157-4e27-9b48-9a521d0e6fa1"
      },
      "source": [
        "%%time\n",
        "df_qa_raw = pd.DataFrame(\n",
        "    d_wsh_names['qa_ready']['worksheet'].get_all_records()\n",
        ")\n",
        "df_qa_raw = df_qa_raw.rename(columns={k: k.lower().strip().replace(' ', '_') for k in df_qa_raw.columns})\n",
        "\n",
        "df_qa_raw = df_qa_raw.dropna(subset=['subreddit_id', 'subreddit_name'])\n",
        "\n",
        "print(df_qa_raw.shape)"
      ],
      "execution_count": 35,
      "outputs": [
        {
          "output_type": "stream",
          "name": "stdout",
          "text": [
            "(730, 35)\n",
            "CPU times: user 135 ms, sys: 1.77 ms, total: 137 ms\n",
            "Wall time: 1.86 s\n"
          ]
        }
      ]
    },
    {
      "cell_type": "markdown",
      "source": [
        "# Reshape & filter data"
      ],
      "metadata": {
        "id": "Lu5ZLBzTEo7B"
      }
    },
    {
      "cell_type": "markdown",
      "metadata": {
        "id": "I_Q_ptCghuxM"
      },
      "source": [
        "## Add latest ratings to df with QA results\n",
        "\n",
        "We need the latest ratings & flags to make sure filters are up to date"
      ]
    },
    {
      "cell_type": "code",
      "source": [
        "latest_suffix = '_latest'\n",
        "\n",
        "col_rating_latest = f'rating_short{latest_suffix}'\n",
        "col_over_18_latest = f'over_18{latest_suffix}'\n",
        "col_rated_e_latest = 'rated_e_latest'\n",
        "col_allow_discovery_latest = 'allow_discovery_latest'\n",
        "col_primary_topic_latest = f\"primary_topic{latest_suffix}\"\n",
        "col_country_relevant = f'not_country_relevant'\n",
        "col_releveant_to_cluster = f'relevant_to_cluster/_other_subreddits_in_cluster'\n",
        "col_safe_to_show_in_cluster = f'safe_to_show_in_relation_to_cluster'\n",
        "\n",
        "col_new_cluster_val = 'cluster_label'\n",
        "col_new_cluster_name = 'cluster_label_k'\n",
        "col_model_sort_order = 'model_sort_order'\n",
        "\n",
        "l_cols_to_front = [\n",
        "    'subreddit_id',\n",
        "    'subreddit_name',\n",
        "    col_rated_e_latest,\n",
        "    col_over_18_latest,\n",
        "    col_allow_discovery_latest,\n",
        "    col_country_relevant,\n",
        "    col_releveant_to_cluster,\n",
        "    col_safe_to_show_in_cluster,\n",
        "\n",
        "    col_rating_latest,\n",
        "    'type',\n",
        "    col_primary_topic_latest,\n",
        "    col_new_cluster_val,\n",
        "    col_model_sort_order,\n",
        "    col_new_cluster_name,\n",
        "    'rating_short',\n",
        "    'over_18',\n",
        "]\n",
        "\n",
        "\n",
        "# Set some dtypes to prevent errors downstream\n",
        "df_qa_raw[col_model_sort_order] = df_qa_raw[col_model_sort_order].astype(int)\n",
        "\n"
      ],
      "metadata": {
        "id": "JcIUKzb3E-o1"
      },
      "execution_count": 36,
      "outputs": []
    },
    {
      "cell_type": "code",
      "metadata": {
        "id": "rA5LyTuSiE6Q",
        "colab": {
          "base_uri": "https://localhost:8080/"
        },
        "outputId": "675b4251-4b2e-42a1-bed6-de6bae0ccc92"
      },
      "source": [
        "df_qa_latest = (\n",
        "    df_latest_ratings.drop(['subreddit_name'], axis=1)\n",
        "    .merge(\n",
        "        df_qa_raw,\n",
        "        how='right',\n",
        "        on=['subreddit_id', ],\n",
        "        suffixes=(latest_suffix, ''),\n",
        "    )\n",
        "    .sort_values(\n",
        "        by=[col_model_sort_order], ascending=True,\n",
        "    )\n",
        ")\n",
        "\n",
        "# make sure all objects in col are str so we can sort by it\n",
        "df_qa_latest[col_new_cluster_val] = df_qa_latest[col_new_cluster_val].astype(str)\n",
        "\n",
        "df_qa_latest = df_qa_latest[\n",
        "    reorder_array(\n",
        "        l_cols_to_front,\n",
        "        df_qa_latest.columns\n",
        "    )\n",
        "]\n",
        "print(df_qa_latest.shape)"
      ],
      "execution_count": 37,
      "outputs": [
        {
          "output_type": "stream",
          "name": "stdout",
          "text": [
            "(730, 42)\n"
          ]
        }
      ]
    },
    {
      "cell_type": "code",
      "source": [
        "# style_df_numeric(\n",
        "#     df_qa_latest.iloc[:5, :15],\n",
        "#     rename_cols_for_display=True,\n",
        "# )"
      ],
      "metadata": {
        "id": "0S34UsgJKUYY"
      },
      "execution_count": 38,
      "outputs": []
    },
    {
      "cell_type": "markdown",
      "source": [
        "## Drop sensitive subreddits\n",
        "\n",
        "These have been flagged as too sensitive or risky to show up in recommendations, so we're excluding them even if the crowd-sourced rating is `E` (people troll... it's reddit, after all)."
      ],
      "metadata": {
        "id": "TMVDT3E_OLeS"
      }
    },
    {
      "cell_type": "code",
      "source": [
        "# might need to re-import in order for live updates to show up\n",
        "from subclu.models.reshape_clusters_v041 import (\n",
        "    _L_MATURE_CLUSTERS_TO_EXCLUDE_FROM_QA_,\n",
        "    _L_SENSITIVE_SUBREDDITS_TO_EXCLUDE_FROM_FPRS_,\n",
        "    remove_sensitive_clusters_and_subs,\n",
        "    print_subreddit_name_qa_checks,\n",
        "    apply_qa_filters_for_fpr,\n",
        ")\n",
        "\n",
        "print(len(_L_SENSITIVE_SUBREDDITS_TO_EXCLUDE_FROM_FPRS_))\n",
        "_L_SENSITIVE_SUBREDDITS_TO_EXCLUDE_FROM_FPRS_[30:38]"
      ],
      "metadata": {
        "colab": {
          "base_uri": "https://localhost:8080/"
        },
        "id": "3jEaoD7LdGbY",
        "outputId": "b94d4138-b1eb-4462-da26-186869cc4dfb"
      },
      "execution_count": 39,
      "outputs": [
        {
          "output_type": "stream",
          "name": "stdout",
          "text": [
            "96\n"
          ]
        },
        {
          "output_type": "execute_result",
          "data": {
            "text/plain": [
              "['askthe_donald',\n",
              " 'benshapiro',\n",
              " 'tucker_carlson',\n",
              " 'trueanon',\n",
              " 'beholdthemasterrace',\n",
              " 'globallockdown',\n",
              " 'nurembergtwo',\n",
              " 'covidiots']"
            ]
          },
          "metadata": {},
          "execution_count": 39
        }
      ]
    },
    {
      "cell_type": "code",
      "source": [
        "df_qa_clean = remove_sensitive_clusters_and_subs(\n",
        "    df_qa_latest,\n",
        "    additional_subs_to_filter=None,  #df_subs_to_filter['subreddit_name'],\n",
        "    col_new_cluster_val='cluster_label',\n",
        "    print_qa_check=True,\n",
        ")"
      ],
      "metadata": {
        "colab": {
          "base_uri": "https://localhost:8080/"
        },
        "id": "jJsjaUOIt4k6",
        "outputId": "a52408af-f6e4-4971-a82e-5a116a8a5e5e"
      },
      "execution_count": 42,
      "outputs": [
        {
          "output_type": "stream",
          "name": "stdout",
          "text": [
            "(730, 42) <- Initial shape\n",
            "(720, 42) <- Shape AFTER dropping place-clusters\n",
            "(720, 42) <- Shape AFTER dropping covid-clusters\n",
            "(711, 42) <- Shape AFTER dropping sensitive clusters\n",
            "(707, 42) <- Shape AFTER dropping flagged subs B\n",
            "(705, 42) <- Shape AFTER dropping covid-related subs\n",
            "25 <- Total subreddits removed\n",
            "\n",
            "QA keyword subreddit checks:\n",
            "  ['corona']\n",
            "  ['nichtdietagespresse']\n",
            "  ['tuebingen']\n",
            "  ['troubledteens', 'teengirlswholikegirls']\n",
            "  ['adhs']\n",
            "\n"
          ]
        }
      ]
    },
    {
      "cell_type": "markdown",
      "metadata": {
        "id": "UeRLdnYk8lOZ"
      },
      "source": [
        "# Apply filters based on QA + latest ratings\n",
        "\n",
        "Keep only subreddits that\n",
        "- Are rated as `E`\n",
        "    - Double check: `over_18` should be `f` or `NULL` \n",
        "- Relevant to country (`TRUE`)\n",
        "- Relevant to cluster (`TRUE`)\n",
        "- Safe to show in cluster (`TRUE`)\n",
        "- Have the `allow_discovery` flag to `t` or `NULL` (i.e., NOT `f`) \n"
      ]
    },
    {
      "cell_type": "code",
      "source": [
        "l_cols_qa = [\n",
        "    col_country_relevant,\n",
        "    col_releveant_to_cluster,\n",
        "    col_safe_to_show_in_cluster,\n",
        "    col_rated_e_latest,\n",
        "    col_allow_discovery_latest,\n",
        "    col_over_18_latest,\n",
        "]"
      ],
      "metadata": {
        "id": "E0PFAqkBTBlO"
      },
      "execution_count": 43,
      "outputs": []
    },
    {
      "cell_type": "markdown",
      "source": [
        "### Check each column individually"
      ],
      "metadata": {
        "id": "dVXfcDlqWjPe"
      }
    },
    {
      "cell_type": "code",
      "source": [
        "for c_ in l_cols_qa:\n",
        "    display(\n",
        "        value_counts_and_pcts(\n",
        "            df_qa_clean,\n",
        "            c_,\n",
        "            add_col_prefix=False,\n",
        "            reset_index=True,\n",
        "            sort_index=True, cumsum=False,\n",
        "            count_type='subreddits',\n",
        "            rename_cols_for_display=True,\n",
        "        )\n",
        "    )\n",
        "    print('')"
      ],
      "metadata": {
        "colab": {
          "base_uri": "https://localhost:8080/",
          "height": 890
        },
        "id": "dzZ-LgVgUP9e",
        "outputId": "a7c432f0-103f-43b1-bd12-782f00a4fc97"
      },
      "execution_count": 44,
      "outputs": [
        {
          "output_type": "display_data",
          "data": {
            "text/plain": [
              "<pandas.io.formats.style.Styler at 0x7fda907f6290>"
            ],
            "text/html": [
              "<style type=\"text/css\">\n",
              "#T_cd370_row0_col2 {\n",
              "  width: 10em;\n",
              "  height: 80%;\n",
              "  background: linear-gradient(90deg,#95cff5 100.0%, transparent 100.0%);\n",
              "}\n",
              "#T_cd370_row1_col2 {\n",
              "  width: 10em;\n",
              "  height: 80%;\n",
              "}\n",
              "</style>\n",
              "<table id=\"T_cd370_\" class=\"dataframe\">\n",
              "  <thead>\n",
              "    <tr>\n",
              "      <th class=\"blank level0\" >&nbsp;</th>\n",
              "      <th class=\"col_heading level0 col0\" >not country relevant</th>\n",
              "      <th class=\"col_heading level0 col1\" >subreddits count</th>\n",
              "      <th class=\"col_heading level0 col2\" >percent of subreddits</th>\n",
              "    </tr>\n",
              "  </thead>\n",
              "  <tbody>\n",
              "    <tr>\n",
              "      <th id=\"T_cd370_level0_row0\" class=\"row_heading level0 row0\" >0</th>\n",
              "      <td id=\"T_cd370_row0_col0\" class=\"data row0 col0\" >FALSE</td>\n",
              "      <td id=\"T_cd370_row0_col1\" class=\"data row0 col1\" >703</td>\n",
              "      <td id=\"T_cd370_row0_col2\" class=\"data row0 col2\" >99.7%</td>\n",
              "    </tr>\n",
              "    <tr>\n",
              "      <th id=\"T_cd370_level0_row1\" class=\"row_heading level0 row1\" >1</th>\n",
              "      <td id=\"T_cd370_row1_col0\" class=\"data row1 col0\" >TRUE</td>\n",
              "      <td id=\"T_cd370_row1_col1\" class=\"data row1 col1\" >2</td>\n",
              "      <td id=\"T_cd370_row1_col2\" class=\"data row1 col2\" >0.3%</td>\n",
              "    </tr>\n",
              "  </tbody>\n",
              "</table>\n"
            ]
          },
          "metadata": {}
        },
        {
          "output_type": "stream",
          "name": "stdout",
          "text": [
            "\n"
          ]
        },
        {
          "output_type": "display_data",
          "data": {
            "text/plain": [
              "<pandas.io.formats.style.Styler at 0x7fda90610cd0>"
            ],
            "text/html": [
              "<style type=\"text/css\">\n",
              "#T_ca96e_row0_col2 {\n",
              "  width: 10em;\n",
              "  height: 80%;\n",
              "}\n",
              "#T_ca96e_row1_col2 {\n",
              "  width: 10em;\n",
              "  height: 80%;\n",
              "  background: linear-gradient(90deg,#95cff5 17.2%, transparent 17.2%);\n",
              "}\n",
              "#T_ca96e_row2_col2 {\n",
              "  width: 10em;\n",
              "  height: 80%;\n",
              "  background: linear-gradient(90deg,#95cff5 100.0%, transparent 100.0%);\n",
              "}\n",
              "</style>\n",
              "<table id=\"T_ca96e_\" class=\"dataframe\">\n",
              "  <thead>\n",
              "    <tr>\n",
              "      <th class=\"blank level0\" >&nbsp;</th>\n",
              "      <th class=\"col_heading level0 col0\" >relevant to cluster/ other subreddits in cluster</th>\n",
              "      <th class=\"col_heading level0 col1\" >subreddits count</th>\n",
              "      <th class=\"col_heading level0 col2\" >percent of subreddits</th>\n",
              "    </tr>\n",
              "  </thead>\n",
              "  <tbody>\n",
              "    <tr>\n",
              "      <th id=\"T_ca96e_level0_row0\" class=\"row_heading level0 row0\" >0</th>\n",
              "      <td id=\"T_ca96e_row0_col0\" class=\"data row0 col0\" ></td>\n",
              "      <td id=\"T_ca96e_row0_col1\" class=\"data row0 col1\" >56</td>\n",
              "      <td id=\"T_ca96e_row0_col2\" class=\"data row0 col2\" >7.9%</td>\n",
              "    </tr>\n",
              "    <tr>\n",
              "      <th id=\"T_ca96e_level0_row1\" class=\"row_heading level0 row1\" >1</th>\n",
              "      <td id=\"T_ca96e_row1_col0\" class=\"data row1 col0\" >NO</td>\n",
              "      <td id=\"T_ca96e_row1_col1\" class=\"data row1 col1\" >135</td>\n",
              "      <td id=\"T_ca96e_row1_col2\" class=\"data row1 col2\" >19.1%</td>\n",
              "    </tr>\n",
              "    <tr>\n",
              "      <th id=\"T_ca96e_level0_row2\" class=\"row_heading level0 row2\" >2</th>\n",
              "      <td id=\"T_ca96e_row2_col0\" class=\"data row2 col0\" >TRUE</td>\n",
              "      <td id=\"T_ca96e_row2_col1\" class=\"data row2 col1\" >514</td>\n",
              "      <td id=\"T_ca96e_row2_col2\" class=\"data row2 col2\" >72.9%</td>\n",
              "    </tr>\n",
              "  </tbody>\n",
              "</table>\n"
            ]
          },
          "metadata": {}
        },
        {
          "output_type": "stream",
          "name": "stdout",
          "text": [
            "\n"
          ]
        },
        {
          "output_type": "display_data",
          "data": {
            "text/plain": [
              "<pandas.io.formats.style.Styler at 0x7fda904ff9d0>"
            ],
            "text/html": [
              "<style type=\"text/css\">\n",
              "#T_b7fc6_row0_col2 {\n",
              "  width: 10em;\n",
              "  height: 80%;\n",
              "  background: linear-gradient(90deg,#95cff5 35.5%, transparent 35.5%);\n",
              "}\n",
              "#T_b7fc6_row1_col2 {\n",
              "  width: 10em;\n",
              "  height: 80%;\n",
              "}\n",
              "#T_b7fc6_row2_col2 {\n",
              "  width: 10em;\n",
              "  height: 80%;\n",
              "  background: linear-gradient(90deg,#95cff5 100.0%, transparent 100.0%);\n",
              "}\n",
              "</style>\n",
              "<table id=\"T_b7fc6_\" class=\"dataframe\">\n",
              "  <thead>\n",
              "    <tr>\n",
              "      <th class=\"blank level0\" >&nbsp;</th>\n",
              "      <th class=\"col_heading level0 col0\" >safe to show in relation to cluster</th>\n",
              "      <th class=\"col_heading level0 col1\" >subreddits count</th>\n",
              "      <th class=\"col_heading level0 col2\" >percent of subreddits</th>\n",
              "    </tr>\n",
              "  </thead>\n",
              "  <tbody>\n",
              "    <tr>\n",
              "      <th id=\"T_b7fc6_level0_row0\" class=\"row_heading level0 row0\" >0</th>\n",
              "      <td id=\"T_b7fc6_row0_col0\" class=\"data row0 col0\" ></td>\n",
              "      <td id=\"T_b7fc6_row0_col1\" class=\"data row0 col1\" >186</td>\n",
              "      <td id=\"T_b7fc6_row0_col2\" class=\"data row0 col2\" >26.4%</td>\n",
              "    </tr>\n",
              "    <tr>\n",
              "      <th id=\"T_b7fc6_level0_row1\" class=\"row_heading level0 row1\" >1</th>\n",
              "      <td id=\"T_b7fc6_row1_col0\" class=\"data row1 col0\" >FALSE</td>\n",
              "      <td id=\"T_b7fc6_row1_col1\" class=\"data row1 col1\" >6</td>\n",
              "      <td id=\"T_b7fc6_row1_col2\" class=\"data row1 col2\" >0.9%</td>\n",
              "    </tr>\n",
              "    <tr>\n",
              "      <th id=\"T_b7fc6_level0_row2\" class=\"row_heading level0 row2\" >2</th>\n",
              "      <td id=\"T_b7fc6_row2_col0\" class=\"data row2 col0\" >TRUE</td>\n",
              "      <td id=\"T_b7fc6_row2_col1\" class=\"data row2 col1\" >513</td>\n",
              "      <td id=\"T_b7fc6_row2_col2\" class=\"data row2 col2\" >72.8%</td>\n",
              "    </tr>\n",
              "  </tbody>\n",
              "</table>\n"
            ]
          },
          "metadata": {}
        },
        {
          "output_type": "stream",
          "name": "stdout",
          "text": [
            "\n"
          ]
        },
        {
          "output_type": "display_data",
          "data": {
            "text/plain": [
              "<pandas.io.formats.style.Styler at 0x7fda906dff50>"
            ],
            "text/html": [
              "<style type=\"text/css\">\n",
              "#T_1abb6_row0_col2 {\n",
              "  width: 10em;\n",
              "  height: 80%;\n",
              "}\n",
              "#T_1abb6_row1_col2 {\n",
              "  width: 10em;\n",
              "  height: 80%;\n",
              "  background: linear-gradient(90deg,#95cff5 100.0%, transparent 100.0%);\n",
              "}\n",
              "</style>\n",
              "<table id=\"T_1abb6_\" class=\"dataframe\">\n",
              "  <thead>\n",
              "    <tr>\n",
              "      <th class=\"blank level0\" >&nbsp;</th>\n",
              "      <th class=\"col_heading level0 col0\" >rated e latest</th>\n",
              "      <th class=\"col_heading level0 col1\" >subreddits count</th>\n",
              "      <th class=\"col_heading level0 col2\" >percent of subreddits</th>\n",
              "    </tr>\n",
              "  </thead>\n",
              "  <tbody>\n",
              "    <tr>\n",
              "      <th id=\"T_1abb6_level0_row0\" class=\"row_heading level0 row0\" >0</th>\n",
              "      <td id=\"T_1abb6_row0_col0\" class=\"data row0 col0\" >False</td>\n",
              "      <td id=\"T_1abb6_row0_col1\" class=\"data row0 col1\" >42</td>\n",
              "      <td id=\"T_1abb6_row0_col2\" class=\"data row0 col2\" >6.0%</td>\n",
              "    </tr>\n",
              "    <tr>\n",
              "      <th id=\"T_1abb6_level0_row1\" class=\"row_heading level0 row1\" >1</th>\n",
              "      <td id=\"T_1abb6_row1_col0\" class=\"data row1 col0\" >True</td>\n",
              "      <td id=\"T_1abb6_row1_col1\" class=\"data row1 col1\" >663</td>\n",
              "      <td id=\"T_1abb6_row1_col2\" class=\"data row1 col2\" >94.0%</td>\n",
              "    </tr>\n",
              "  </tbody>\n",
              "</table>\n"
            ]
          },
          "metadata": {}
        },
        {
          "output_type": "stream",
          "name": "stdout",
          "text": [
            "\n"
          ]
        },
        {
          "output_type": "display_data",
          "data": {
            "text/plain": [
              "<pandas.io.formats.style.Styler at 0x7fda9051d7d0>"
            ],
            "text/html": [
              "<style type=\"text/css\">\n",
              "#T_3cee7_row0_col2 {\n",
              "  width: 10em;\n",
              "  height: 80%;\n",
              "}\n",
              "#T_3cee7_row1_col2 {\n",
              "  width: 10em;\n",
              "  height: 80%;\n",
              "  background: linear-gradient(90deg,#95cff5 7.0%, transparent 7.0%);\n",
              "}\n",
              "#T_3cee7_row2_col2 {\n",
              "  width: 10em;\n",
              "  height: 80%;\n",
              "  background: linear-gradient(90deg,#95cff5 100.0%, transparent 100.0%);\n",
              "}\n",
              "</style>\n",
              "<table id=\"T_3cee7_\" class=\"dataframe\">\n",
              "  <thead>\n",
              "    <tr>\n",
              "      <th class=\"blank level0\" >&nbsp;</th>\n",
              "      <th class=\"col_heading level0 col0\" >allow discovery latest</th>\n",
              "      <th class=\"col_heading level0 col1\" >subreddits count</th>\n",
              "      <th class=\"col_heading level0 col2\" >percent of subreddits</th>\n",
              "    </tr>\n",
              "  </thead>\n",
              "  <tbody>\n",
              "    <tr>\n",
              "      <th id=\"T_3cee7_level0_row0\" class=\"row_heading level0 row0\" >0</th>\n",
              "      <td id=\"T_3cee7_row0_col0\" class=\"data row0 col0\" >f</td>\n",
              "      <td id=\"T_3cee7_row0_col1\" class=\"data row0 col1\" >12</td>\n",
              "      <td id=\"T_3cee7_row0_col2\" class=\"data row0 col2\" >1.7%</td>\n",
              "    </tr>\n",
              "    <tr>\n",
              "      <th id=\"T_3cee7_level0_row1\" class=\"row_heading level0 row1\" >1</th>\n",
              "      <td id=\"T_3cee7_row1_col0\" class=\"data row1 col0\" >t</td>\n",
              "      <td id=\"T_3cee7_row1_col1\" class=\"data row1 col1\" >56</td>\n",
              "      <td id=\"T_3cee7_row1_col2\" class=\"data row1 col2\" >7.9%</td>\n",
              "    </tr>\n",
              "    <tr>\n",
              "      <th id=\"T_3cee7_level0_row2\" class=\"row_heading level0 row2\" >2</th>\n",
              "      <td id=\"T_3cee7_row2_col0\" class=\"data row2 col0\" >nan</td>\n",
              "      <td id=\"T_3cee7_row2_col1\" class=\"data row2 col1\" >637</td>\n",
              "      <td id=\"T_3cee7_row2_col2\" class=\"data row2 col2\" >90.4%</td>\n",
              "    </tr>\n",
              "  </tbody>\n",
              "</table>\n"
            ]
          },
          "metadata": {}
        },
        {
          "output_type": "stream",
          "name": "stdout",
          "text": [
            "\n"
          ]
        },
        {
          "output_type": "display_data",
          "data": {
            "text/plain": [
              "<pandas.io.formats.style.Styler at 0x7fda90adaf10>"
            ],
            "text/html": [
              "<style type=\"text/css\">\n",
              "#T_dd260_row0_col2 {\n",
              "  width: 10em;\n",
              "  height: 80%;\n",
              "}\n",
              "#T_dd260_row1_col2 {\n",
              "  width: 10em;\n",
              "  height: 80%;\n",
              "  background: linear-gradient(90deg,#95cff5 100.0%, transparent 100.0%);\n",
              "}\n",
              "</style>\n",
              "<table id=\"T_dd260_\" class=\"dataframe\">\n",
              "  <thead>\n",
              "    <tr>\n",
              "      <th class=\"blank level0\" >&nbsp;</th>\n",
              "      <th class=\"col_heading level0 col0\" >over 18 latest</th>\n",
              "      <th class=\"col_heading level0 col1\" >subreddits count</th>\n",
              "      <th class=\"col_heading level0 col2\" >percent of subreddits</th>\n",
              "    </tr>\n",
              "  </thead>\n",
              "  <tbody>\n",
              "    <tr>\n",
              "      <th id=\"T_dd260_level0_row0\" class=\"row_heading level0 row0\" >0</th>\n",
              "      <td id=\"T_dd260_row0_col0\" class=\"data row0 col0\" >f</td>\n",
              "      <td id=\"T_dd260_row0_col1\" class=\"data row0 col1\" >117</td>\n",
              "      <td id=\"T_dd260_row0_col2\" class=\"data row0 col2\" >16.6%</td>\n",
              "    </tr>\n",
              "    <tr>\n",
              "      <th id=\"T_dd260_level0_row1\" class=\"row_heading level0 row1\" >1</th>\n",
              "      <td id=\"T_dd260_row1_col0\" class=\"data row1 col0\" >nan</td>\n",
              "      <td id=\"T_dd260_row1_col1\" class=\"data row1 col1\" >588</td>\n",
              "      <td id=\"T_dd260_row1_col2\" class=\"data row1 col2\" >83.4%</td>\n",
              "    </tr>\n",
              "  </tbody>\n",
              "</table>\n"
            ]
          },
          "metadata": {}
        },
        {
          "output_type": "stream",
          "name": "stdout",
          "text": [
            "\n"
          ]
        }
      ]
    },
    {
      "cell_type": "markdown",
      "source": [
        "### Matrix of all conditions in one table\n",
        "\n"
      ],
      "metadata": {
        "id": "DnOsqEChXvbZ"
      }
    },
    {
      "cell_type": "code",
      "metadata": {
        "colab": {
          "base_uri": "https://localhost:8080/",
          "height": 446
        },
        "id": "wjJHp2vB86XO",
        "outputId": "7f53bfdb-4d23-4c91-f449-18878188f408"
      },
      "source": [
        "value_counts_and_pcts(\n",
        "    df_qa_clean\n",
        "    .fillna(\n",
        "        value={\n",
        "            col_allow_discovery_latest: 't', \n",
        "            col_over_18_latest: 'f',\n",
        "            col_country_relevant: 'FALSE',\n",
        "            col_releveant_to_cluster: 'FALSE',\n",
        "            col_safe_to_show_in_cluster: 'FALSE',\n",
        "        }\n",
        "    )\n",
        "    # Germany QA had other values\n",
        "    .replace(\n",
        "        {\n",
        "            col_releveant_to_cluster: {'': 'NO'},\n",
        "            col_safe_to_show_in_cluster: {'': 'FALSE'},\n",
        "        }\n",
        "    )\n",
        "    ,\n",
        "    l_cols_qa[:],\n",
        "    add_col_prefix=False,\n",
        "    # reset_index=True,\n",
        "    sort_index=True, cumsum=False,\n",
        "    count_type='subreddits',\n",
        "    rename_cols_for_display=True,\n",
        ")"
      ],
      "execution_count": 45,
      "outputs": [
        {
          "output_type": "execute_result",
          "data": {
            "text/plain": [
              "<pandas.io.formats.style.Styler at 0x7fda90b29b90>"
            ],
            "text/html": [
              "<style type=\"text/css\">\n",
              "#T_e6a28_row0_col1, #T_e6a28_row6_col1 {\n",
              "  width: 10em;\n",
              "  height: 80%;\n",
              "  background: linear-gradient(90deg,#95cff5 1.7%, transparent 1.7%);\n",
              "}\n",
              "#T_e6a28_row1_col1, #T_e6a28_row3_col1, #T_e6a28_row4_col1, #T_e6a28_row8_col1, #T_e6a28_row9_col1 {\n",
              "  width: 10em;\n",
              "  height: 80%;\n",
              "}\n",
              "#T_e6a28_row2_col1 {\n",
              "  width: 10em;\n",
              "  height: 80%;\n",
              "  background: linear-gradient(90deg,#95cff5 38.1%, transparent 38.1%);\n",
              "}\n",
              "#T_e6a28_row5_col1 {\n",
              "  width: 10em;\n",
              "  height: 80%;\n",
              "  background: linear-gradient(90deg,#95cff5 6.4%, transparent 6.4%);\n",
              "}\n",
              "#T_e6a28_row7_col1 {\n",
              "  width: 10em;\n",
              "  height: 80%;\n",
              "  background: linear-gradient(90deg,#95cff5 100.0%, transparent 100.0%);\n",
              "}\n",
              "</style>\n",
              "<table id=\"T_e6a28_\" class=\"dataframe\">\n",
              "  <thead>\n",
              "    <tr>\n",
              "      <th class=\"blank\" >&nbsp;</th>\n",
              "      <th class=\"blank\" >&nbsp;</th>\n",
              "      <th class=\"blank\" >&nbsp;</th>\n",
              "      <th class=\"blank\" >&nbsp;</th>\n",
              "      <th class=\"blank\" >&nbsp;</th>\n",
              "      <th class=\"blank level0\" >&nbsp;</th>\n",
              "      <th class=\"col_heading level0 col0\" >subreddits count</th>\n",
              "      <th class=\"col_heading level0 col1\" >percent of subreddits</th>\n",
              "    </tr>\n",
              "    <tr>\n",
              "      <th class=\"index_name level0\" >not country relevant</th>\n",
              "      <th class=\"index_name level1\" >relevant to cluster/ other subreddits in cluster</th>\n",
              "      <th class=\"index_name level2\" >safe to show in relation to cluster</th>\n",
              "      <th class=\"index_name level3\" >rated e latest</th>\n",
              "      <th class=\"index_name level4\" >allow discovery latest</th>\n",
              "      <th class=\"index_name level5\" >over 18 latest</th>\n",
              "      <th class=\"blank col0\" >&nbsp;</th>\n",
              "      <th class=\"blank col1\" >&nbsp;</th>\n",
              "    </tr>\n",
              "  </thead>\n",
              "  <tbody>\n",
              "    <tr>\n",
              "      <th id=\"T_e6a28_level0_row0\" class=\"row_heading level0 row0\" rowspan=\"8\">FALSE</th>\n",
              "      <th id=\"T_e6a28_level1_row0\" class=\"row_heading level1 row0\" rowspan=\"3\">NO</th>\n",
              "      <th id=\"T_e6a28_level2_row0\" class=\"row_heading level2 row0\" rowspan=\"3\">FALSE</th>\n",
              "      <th id=\"T_e6a28_level3_row0\" class=\"row_heading level3 row0\" >False</th>\n",
              "      <th id=\"T_e6a28_level4_row0\" class=\"row_heading level4 row0\" >t</th>\n",
              "      <th id=\"T_e6a28_level5_row0\" class=\"row_heading level5 row0\" >f</th>\n",
              "      <td id=\"T_e6a28_row0_col0\" class=\"data row0 col0\" >9</td>\n",
              "      <td id=\"T_e6a28_row0_col1\" class=\"data row0 col1\" >1.3%</td>\n",
              "    </tr>\n",
              "    <tr>\n",
              "      <th id=\"T_e6a28_level3_row1\" class=\"row_heading level3 row1\" rowspan=\"2\">True</th>\n",
              "      <th id=\"T_e6a28_level4_row1\" class=\"row_heading level4 row1\" >f</th>\n",
              "      <th id=\"T_e6a28_level5_row1\" class=\"row_heading level5 row1\" >f</th>\n",
              "      <td id=\"T_e6a28_row1_col0\" class=\"data row1 col0\" >1</td>\n",
              "      <td id=\"T_e6a28_row1_col1\" class=\"data row1 col1\" >0.1%</td>\n",
              "    </tr>\n",
              "    <tr>\n",
              "      <th id=\"T_e6a28_level4_row2\" class=\"row_heading level4 row2\" >t</th>\n",
              "      <th id=\"T_e6a28_level5_row2\" class=\"row_heading level5 row2\" >f</th>\n",
              "      <td id=\"T_e6a28_row2_col0\" class=\"data row2 col0\" >180</td>\n",
              "      <td id=\"T_e6a28_row2_col1\" class=\"data row2 col1\" >25.5%</td>\n",
              "    </tr>\n",
              "    <tr>\n",
              "      <th id=\"T_e6a28_level1_row3\" class=\"row_heading level1 row3\" rowspan=\"5\">TRUE</th>\n",
              "      <th id=\"T_e6a28_level2_row3\" class=\"row_heading level2 row3\" >FALSE</th>\n",
              "      <th id=\"T_e6a28_level3_row3\" class=\"row_heading level3 row3\" >True</th>\n",
              "      <th id=\"T_e6a28_level4_row3\" class=\"row_heading level4 row3\" >t</th>\n",
              "      <th id=\"T_e6a28_level5_row3\" class=\"row_heading level5 row3\" >f</th>\n",
              "      <td id=\"T_e6a28_row3_col0\" class=\"data row3 col0\" >1</td>\n",
              "      <td id=\"T_e6a28_row3_col1\" class=\"data row3 col1\" >0.1%</td>\n",
              "    </tr>\n",
              "    <tr>\n",
              "      <th id=\"T_e6a28_level2_row4\" class=\"row_heading level2 row4\" rowspan=\"4\">TRUE</th>\n",
              "      <th id=\"T_e6a28_level3_row4\" class=\"row_heading level3 row4\" rowspan=\"2\">False</th>\n",
              "      <th id=\"T_e6a28_level4_row4\" class=\"row_heading level4 row4\" >f</th>\n",
              "      <th id=\"T_e6a28_level5_row4\" class=\"row_heading level5 row4\" >f</th>\n",
              "      <td id=\"T_e6a28_row4_col0\" class=\"data row4 col0\" >1</td>\n",
              "      <td id=\"T_e6a28_row4_col1\" class=\"data row4 col1\" >0.1%</td>\n",
              "    </tr>\n",
              "    <tr>\n",
              "      <th id=\"T_e6a28_level4_row5\" class=\"row_heading level4 row5\" >t</th>\n",
              "      <th id=\"T_e6a28_level5_row5\" class=\"row_heading level5 row5\" >f</th>\n",
              "      <td id=\"T_e6a28_row5_col0\" class=\"data row5 col0\" >31</td>\n",
              "      <td id=\"T_e6a28_row5_col1\" class=\"data row5 col1\" >4.4%</td>\n",
              "    </tr>\n",
              "    <tr>\n",
              "      <th id=\"T_e6a28_level3_row6\" class=\"row_heading level3 row6\" rowspan=\"2\">True</th>\n",
              "      <th id=\"T_e6a28_level4_row6\" class=\"row_heading level4 row6\" >f</th>\n",
              "      <th id=\"T_e6a28_level5_row6\" class=\"row_heading level5 row6\" >f</th>\n",
              "      <td id=\"T_e6a28_row6_col0\" class=\"data row6 col0\" >9</td>\n",
              "      <td id=\"T_e6a28_row6_col1\" class=\"data row6 col1\" >1.3%</td>\n",
              "    </tr>\n",
              "    <tr>\n",
              "      <th id=\"T_e6a28_level4_row7\" class=\"row_heading level4 row7\" >t</th>\n",
              "      <th id=\"T_e6a28_level5_row7\" class=\"row_heading level5 row7\" >f</th>\n",
              "      <td id=\"T_e6a28_row7_col0\" class=\"data row7 col0\" >471</td>\n",
              "      <td id=\"T_e6a28_row7_col1\" class=\"data row7 col1\" >66.8%</td>\n",
              "    </tr>\n",
              "    <tr>\n",
              "      <th id=\"T_e6a28_level0_row8\" class=\"row_heading level0 row8\" rowspan=\"2\">TRUE</th>\n",
              "      <th id=\"T_e6a28_level1_row8\" class=\"row_heading level1 row8\" >NO</th>\n",
              "      <th id=\"T_e6a28_level2_row8\" class=\"row_heading level2 row8\" >FALSE</th>\n",
              "      <th id=\"T_e6a28_level3_row8\" class=\"row_heading level3 row8\" >True</th>\n",
              "      <th id=\"T_e6a28_level4_row8\" class=\"row_heading level4 row8\" >f</th>\n",
              "      <th id=\"T_e6a28_level5_row8\" class=\"row_heading level5 row8\" >f</th>\n",
              "      <td id=\"T_e6a28_row8_col0\" class=\"data row8 col0\" >1</td>\n",
              "      <td id=\"T_e6a28_row8_col1\" class=\"data row8 col1\" >0.1%</td>\n",
              "    </tr>\n",
              "    <tr>\n",
              "      <th id=\"T_e6a28_level1_row9\" class=\"row_heading level1 row9\" >TRUE</th>\n",
              "      <th id=\"T_e6a28_level2_row9\" class=\"row_heading level2 row9\" >TRUE</th>\n",
              "      <th id=\"T_e6a28_level3_row9\" class=\"row_heading level3 row9\" >False</th>\n",
              "      <th id=\"T_e6a28_level4_row9\" class=\"row_heading level4 row9\" >t</th>\n",
              "      <th id=\"T_e6a28_level5_row9\" class=\"row_heading level5 row9\" >f</th>\n",
              "      <td id=\"T_e6a28_row9_col0\" class=\"data row9 col0\" >1</td>\n",
              "      <td id=\"T_e6a28_row9_col1\" class=\"data row9 col1\" >0.1%</td>\n",
              "    </tr>\n",
              "  </tbody>\n",
              "</table>\n"
            ]
          },
          "metadata": {},
          "execution_count": 45
        }
      ]
    },
    {
      "cell_type": "code",
      "source": [
        "# df_qa_clean[df_qa_clean['rated_e_latest'].isnull()].iloc[:5, :20]"
      ],
      "metadata": {
        "id": "5oimFsoB2Pfu"
      },
      "execution_count": 46,
      "outputs": []
    },
    {
      "cell_type": "markdown",
      "source": [
        "### Create & apply masks\n",
        "\n",
        "NOTE: In previous run, we only had 459 subreddits in FPR"
      ],
      "metadata": {
        "id": "MKfd8-H8ZIGd"
      }
    },
    {
      "cell_type": "code",
      "source": [
        "df_qa_clean = apply_qa_filters_for_fpr(\n",
        "    df_qa_clean,\n",
        "    print_qa_check=True,\n",
        ")"
      ],
      "metadata": {
        "colab": {
          "base_uri": "https://localhost:8080/"
        },
        "id": "Nc-k22eh4or4",
        "outputId": "2c91d370-f90a-42e7-ddbb-d97bf5725440"
      },
      "execution_count": 48,
      "outputs": [
        {
          "output_type": "stream",
          "name": "stdout",
          "text": [
            "\n",
            "QA keyword subreddit checks:\n",
            "  ['nichtdietagespresse']\n",
            "  ['troubledteens']\n",
            "\n",
            "471 <- Initial subreddit count\n",
            "471 <- Clean subreddits to use\n",
            "(471, 42) <- df subreddits to use for FPR\n"
          ]
        }
      ]
    },
    {
      "cell_type": "markdown",
      "metadata": {
        "id": "QvAwvmgzAHTy"
      },
      "source": [
        "# Reshape data for Subreddit seed -> Cluster list \n",
        "\n",
        "reference:\n",
        "```\n",
        "# run on: 2022-03-25\n",
        "  (3448, 8) <- df_ab.shape raw\n",
        "  (2986, 8) <- df_ab.shape after removing matches to self\n",
        "  Groupby cols:\n",
        "    ['model_sort_order', 'subreddit_id_seed', 'subreddit_name_seed', 'cluster_label', 'cluster_label_k', 'rating_short_latest']\n",
        "  (459, 8) <- df_a_to_b.shape\n",
        "```"
      ]
    },
    {
      "cell_type": "code",
      "metadata": {
        "colab": {
          "base_uri": "https://localhost:8080/"
        },
        "id": "oJG3-nfTmiLg",
        "outputId": "bfbf06fd-df33-4a94-89f0-43e226902c18"
      },
      "source": [
        "%%time\n",
        "# col_new_cluster_val = 'cluster_label'\n",
        "# col_new_cluster_name = 'cluster_label_k'\n",
        "# col_new_cluster_prim_topic = 'cluster_name'\n",
        "\n",
        "# make sure all objects in col are str so we can sort by it\n",
        "# df_qa_clean[col_new_cluster_val] = df_qa_clean[col_new_cluster_val].astype(str)\n",
        "\n",
        "l_cols_for_seeds = [\n",
        "    'subreddit_id', 'subreddit_name',\n",
        "    col_model_sort_order, col_rating_latest,\n",
        "    col_new_cluster_val, col_new_cluster_name,\n",
        "]\n",
        "\n",
        "print(datetime.utcnow())\n",
        "\n",
        "df_target_to_target_list = convert_distance_or_ab_to_list_for_fpr(\n",
        "    df_qa_clean,\n",
        "    convert_to_ab=True,\n",
        "    col_counterpart_count='subreddits_to_recommend_count',\n",
        "    col_list_cluster_names='list_cluster_subreddit_names',\n",
        "    col_list_cluster_ids='list_cluster_subreddit_ids',\n",
        "    l_cols_for_seeds=l_cols_for_seeds,\n",
        "    l_cols_for_clusters=None, \n",
        "    col_new_cluster_val=col_new_cluster_val,\n",
        "    col_new_cluster_name=col_new_cluster_name,\n",
        "    # col_new_cluster_prim_topic=col_new_cluster_prim_topic,\n",
        "    col_sort_by=col_new_cluster_val,\n",
        "    verbose=True,\n",
        ")"
      ],
      "execution_count": 50,
      "outputs": [
        {
          "output_type": "stream",
          "name": "stdout",
          "text": [
            "2022-04-06 16:49:29.424482\n",
            "['subreddit_id', 'subreddit_name', 'model_sort_order', 'rating_short_latest', 'cluster_label', 'cluster_label_k']\n",
            "['subreddit_id', 'subreddit_name', 'cluster_label']\n",
            "  (3483, 8) <- df_ab.shape raw\n",
            "  (3012, 8) <- df_ab.shape after removing matches to self\n",
            "  Groupby cols:\n",
            "    ['model_sort_order', 'subreddit_id_seed', 'subreddit_name_seed', 'cluster_label', 'cluster_label_k', 'rating_short_latest']\n",
            "  (469, 8) <- df_a_to_b.shape\n",
            "CPU times: user 45 ms, sys: 2.73 ms, total: 47.8 ms\n",
            "Wall time: 45.7 ms\n"
          ]
        }
      ]
    },
    {
      "cell_type": "code",
      "source": [
        "# df_target_to_target_list.sort_values(by=['cluster_label', ], ascending=True).iloc[:9, :]"
      ],
      "metadata": {
        "id": "0iz76DZTin7w"
      },
      "execution_count": 51,
      "outputs": []
    },
    {
      "cell_type": "code",
      "metadata": {
        "colab": {
          "base_uri": "https://localhost:8080/",
          "height": 446
        },
        "id": "zDeaY5v3_YUS",
        "outputId": "c67fe308-6f8a-4b12-c138-f3115a266065"
      },
      "source": [
        "df_target_to_target_list.head()"
      ],
      "execution_count": 52,
      "outputs": [
        {
          "output_type": "execute_result",
          "data": {
            "text/plain": [
              "  subreddit_id_seed subreddit_name_seed  \\\n",
              "0          t5_2veux                 wix   \n",
              "1          t5_wx7rh               gitea   \n",
              "2          t5_fucxb             traefik   \n",
              "3          t5_3jabm           portainer   \n",
              "4          t5_2seit                abap   \n",
              "\n",
              "                             cluster_label cluster_label_k  \\\n",
              "0  0006-0008-0013-0016-0016-0020-0021-0025    k_0118_label   \n",
              "1  0006-0008-0013-0016-0016-0020-0021-0025    k_0118_label   \n",
              "2  0006-0008-0013-0016-0016-0020-0021-0025    k_0118_label   \n",
              "3  0006-0008-0013-0016-0016-0020-0021-0025    k_0118_label   \n",
              "4  0006-0008-0013-0016-0016-0020-0021-0025    k_0118_label   \n",
              "\n",
              "  rating_short_latest  subreddits_to_recommend_count  \\\n",
              "0                   E                              7   \n",
              "1                   E                              7   \n",
              "2                   E                              7   \n",
              "3                   E                              7   \n",
              "4                   E                              7   \n",
              "\n",
              "                        list_cluster_subreddit_names  \\\n",
              "0  gitea, traefik, portainer, abap, scriptable, l...   \n",
              "1  wix, traefik, portainer, abap, scriptable, lat...   \n",
              "2  wix, gitea, portainer, abap, scriptable, latex...   \n",
              "3  wix, gitea, traefik, abap, scriptable, latex, ...   \n",
              "4  wix, gitea, traefik, portainer, scriptable, la...   \n",
              "\n",
              "                          list_cluster_subreddit_ids  \n",
              "0  t5_wx7rh, t5_fucxb, t5_3jabm, t5_2seit, t5_nti...  \n",
              "1  t5_2veux, t5_fucxb, t5_3jabm, t5_2seit, t5_nti...  \n",
              "2  t5_2veux, t5_wx7rh, t5_3jabm, t5_2seit, t5_nti...  \n",
              "3  t5_2veux, t5_wx7rh, t5_fucxb, t5_2seit, t5_nti...  \n",
              "4  t5_2veux, t5_wx7rh, t5_fucxb, t5_3jabm, t5_nti...  "
            ],
            "text/html": [
              "\n",
              "  <div id=\"df-f4058371-2dce-45d3-8105-9efa5dabb062\">\n",
              "    <div class=\"colab-df-container\">\n",
              "      <div>\n",
              "<style scoped>\n",
              "    .dataframe tbody tr th:only-of-type {\n",
              "        vertical-align: middle;\n",
              "    }\n",
              "\n",
              "    .dataframe tbody tr th {\n",
              "        vertical-align: top;\n",
              "    }\n",
              "\n",
              "    .dataframe thead th {\n",
              "        text-align: right;\n",
              "    }\n",
              "</style>\n",
              "<table border=\"1\" class=\"dataframe\">\n",
              "  <thead>\n",
              "    <tr style=\"text-align: right;\">\n",
              "      <th></th>\n",
              "      <th>subreddit_id_seed</th>\n",
              "      <th>subreddit_name_seed</th>\n",
              "      <th>cluster_label</th>\n",
              "      <th>cluster_label_k</th>\n",
              "      <th>rating_short_latest</th>\n",
              "      <th>subreddits_to_recommend_count</th>\n",
              "      <th>list_cluster_subreddit_names</th>\n",
              "      <th>list_cluster_subreddit_ids</th>\n",
              "    </tr>\n",
              "  </thead>\n",
              "  <tbody>\n",
              "    <tr>\n",
              "      <th>0</th>\n",
              "      <td>t5_2veux</td>\n",
              "      <td>wix</td>\n",
              "      <td>0006-0008-0013-0016-0016-0020-0021-0025</td>\n",
              "      <td>k_0118_label</td>\n",
              "      <td>E</td>\n",
              "      <td>7</td>\n",
              "      <td>gitea, traefik, portainer, abap, scriptable, l...</td>\n",
              "      <td>t5_wx7rh, t5_fucxb, t5_3jabm, t5_2seit, t5_nti...</td>\n",
              "    </tr>\n",
              "    <tr>\n",
              "      <th>1</th>\n",
              "      <td>t5_wx7rh</td>\n",
              "      <td>gitea</td>\n",
              "      <td>0006-0008-0013-0016-0016-0020-0021-0025</td>\n",
              "      <td>k_0118_label</td>\n",
              "      <td>E</td>\n",
              "      <td>7</td>\n",
              "      <td>wix, traefik, portainer, abap, scriptable, lat...</td>\n",
              "      <td>t5_2veux, t5_fucxb, t5_3jabm, t5_2seit, t5_nti...</td>\n",
              "    </tr>\n",
              "    <tr>\n",
              "      <th>2</th>\n",
              "      <td>t5_fucxb</td>\n",
              "      <td>traefik</td>\n",
              "      <td>0006-0008-0013-0016-0016-0020-0021-0025</td>\n",
              "      <td>k_0118_label</td>\n",
              "      <td>E</td>\n",
              "      <td>7</td>\n",
              "      <td>wix, gitea, portainer, abap, scriptable, latex...</td>\n",
              "      <td>t5_2veux, t5_wx7rh, t5_3jabm, t5_2seit, t5_nti...</td>\n",
              "    </tr>\n",
              "    <tr>\n",
              "      <th>3</th>\n",
              "      <td>t5_3jabm</td>\n",
              "      <td>portainer</td>\n",
              "      <td>0006-0008-0013-0016-0016-0020-0021-0025</td>\n",
              "      <td>k_0118_label</td>\n",
              "      <td>E</td>\n",
              "      <td>7</td>\n",
              "      <td>wix, gitea, traefik, abap, scriptable, latex, ...</td>\n",
              "      <td>t5_2veux, t5_wx7rh, t5_fucxb, t5_2seit, t5_nti...</td>\n",
              "    </tr>\n",
              "    <tr>\n",
              "      <th>4</th>\n",
              "      <td>t5_2seit</td>\n",
              "      <td>abap</td>\n",
              "      <td>0006-0008-0013-0016-0016-0020-0021-0025</td>\n",
              "      <td>k_0118_label</td>\n",
              "      <td>E</td>\n",
              "      <td>7</td>\n",
              "      <td>wix, gitea, traefik, portainer, scriptable, la...</td>\n",
              "      <td>t5_2veux, t5_wx7rh, t5_fucxb, t5_3jabm, t5_nti...</td>\n",
              "    </tr>\n",
              "  </tbody>\n",
              "</table>\n",
              "</div>\n",
              "      <button class=\"colab-df-convert\" onclick=\"convertToInteractive('df-f4058371-2dce-45d3-8105-9efa5dabb062')\"\n",
              "              title=\"Convert this dataframe to an interactive table.\"\n",
              "              style=\"display:none;\">\n",
              "        \n",
              "  <svg xmlns=\"http://www.w3.org/2000/svg\" height=\"24px\"viewBox=\"0 0 24 24\"\n",
              "       width=\"24px\">\n",
              "    <path d=\"M0 0h24v24H0V0z\" fill=\"none\"/>\n",
              "    <path d=\"M18.56 5.44l.94 2.06.94-2.06 2.06-.94-2.06-.94-.94-2.06-.94 2.06-2.06.94zm-11 1L8.5 8.5l.94-2.06 2.06-.94-2.06-.94L8.5 2.5l-.94 2.06-2.06.94zm10 10l.94 2.06.94-2.06 2.06-.94-2.06-.94-.94-2.06-.94 2.06-2.06.94z\"/><path d=\"M17.41 7.96l-1.37-1.37c-.4-.4-.92-.59-1.43-.59-.52 0-1.04.2-1.43.59L10.3 9.45l-7.72 7.72c-.78.78-.78 2.05 0 2.83L4 21.41c.39.39.9.59 1.41.59.51 0 1.02-.2 1.41-.59l7.78-7.78 2.81-2.81c.8-.78.8-2.07 0-2.86zM5.41 20L4 18.59l7.72-7.72 1.47 1.35L5.41 20z\"/>\n",
              "  </svg>\n",
              "      </button>\n",
              "      \n",
              "  <style>\n",
              "    .colab-df-container {\n",
              "      display:flex;\n",
              "      flex-wrap:wrap;\n",
              "      gap: 12px;\n",
              "    }\n",
              "\n",
              "    .colab-df-convert {\n",
              "      background-color: #E8F0FE;\n",
              "      border: none;\n",
              "      border-radius: 50%;\n",
              "      cursor: pointer;\n",
              "      display: none;\n",
              "      fill: #1967D2;\n",
              "      height: 32px;\n",
              "      padding: 0 0 0 0;\n",
              "      width: 32px;\n",
              "    }\n",
              "\n",
              "    .colab-df-convert:hover {\n",
              "      background-color: #E2EBFA;\n",
              "      box-shadow: 0px 1px 2px rgba(60, 64, 67, 0.3), 0px 1px 3px 1px rgba(60, 64, 67, 0.15);\n",
              "      fill: #174EA6;\n",
              "    }\n",
              "\n",
              "    [theme=dark] .colab-df-convert {\n",
              "      background-color: #3B4455;\n",
              "      fill: #D2E3FC;\n",
              "    }\n",
              "\n",
              "    [theme=dark] .colab-df-convert:hover {\n",
              "      background-color: #434B5C;\n",
              "      box-shadow: 0px 1px 3px 1px rgba(0, 0, 0, 0.15);\n",
              "      filter: drop-shadow(0px 1px 2px rgba(0, 0, 0, 0.3));\n",
              "      fill: #FFFFFF;\n",
              "    }\n",
              "  </style>\n",
              "\n",
              "      <script>\n",
              "        const buttonEl =\n",
              "          document.querySelector('#df-f4058371-2dce-45d3-8105-9efa5dabb062 button.colab-df-convert');\n",
              "        buttonEl.style.display =\n",
              "          google.colab.kernel.accessAllowed ? 'block' : 'none';\n",
              "\n",
              "        async function convertToInteractive(key) {\n",
              "          const element = document.querySelector('#df-f4058371-2dce-45d3-8105-9efa5dabb062');\n",
              "          const dataTable =\n",
              "            await google.colab.kernel.invokeFunction('convertToInteractive',\n",
              "                                                     [key], {});\n",
              "          if (!dataTable) return;\n",
              "\n",
              "          const docLinkHtml = 'Like what you see? Visit the ' +\n",
              "            '<a target=\"_blank\" href=https://colab.research.google.com/notebooks/data_table.ipynb>data table notebook</a>'\n",
              "            + ' to learn more about interactive tables.';\n",
              "          element.innerHTML = '';\n",
              "          dataTable['output_type'] = 'display_data';\n",
              "          await google.colab.output.renderOutput(dataTable, element);\n",
              "          const docLink = document.createElement('div');\n",
              "          docLink.innerHTML = docLinkHtml;\n",
              "          element.appendChild(docLink);\n",
              "        }\n",
              "      </script>\n",
              "    </div>\n",
              "  </div>\n",
              "  "
            ],
            "application/vnd.google.colaboratory.module+javascript": "\n      import \"https://ssl.gstatic.com/colaboratory/data_table/81f25a011006ed3d/data_table.js\";\n\n      window.createDataTable({\n        data: [[{\n            'v': 0,\n            'f': \"0\",\n        },\n\"t5_2veux\",\n\"wix\",\n\"0006-0008-0013-0016-0016-0020-0021-0025\",\n\"k_0118_label\",\n\"E\",\n{\n            'v': 7,\n            'f': \"7\",\n        },\n\"gitea, traefik, portainer, abap, scriptable, latex, informatik\",\n\"t5_wx7rh, t5_fucxb, t5_3jabm, t5_2seit, t5_ntiup, t5_2qhbn, t5_38yld\"],\n [{\n            'v': 1,\n            'f': \"1\",\n        },\n\"t5_wx7rh\",\n\"gitea\",\n\"0006-0008-0013-0016-0016-0020-0021-0025\",\n\"k_0118_label\",\n\"E\",\n{\n            'v': 7,\n            'f': \"7\",\n        },\n\"wix, traefik, portainer, abap, scriptable, latex, informatik\",\n\"t5_2veux, t5_fucxb, t5_3jabm, t5_2seit, t5_ntiup, t5_2qhbn, t5_38yld\"],\n [{\n            'v': 2,\n            'f': \"2\",\n        },\n\"t5_fucxb\",\n\"traefik\",\n\"0006-0008-0013-0016-0016-0020-0021-0025\",\n\"k_0118_label\",\n\"E\",\n{\n            'v': 7,\n            'f': \"7\",\n        },\n\"wix, gitea, portainer, abap, scriptable, latex, informatik\",\n\"t5_2veux, t5_wx7rh, t5_3jabm, t5_2seit, t5_ntiup, t5_2qhbn, t5_38yld\"],\n [{\n            'v': 3,\n            'f': \"3\",\n        },\n\"t5_3jabm\",\n\"portainer\",\n\"0006-0008-0013-0016-0016-0020-0021-0025\",\n\"k_0118_label\",\n\"E\",\n{\n            'v': 7,\n            'f': \"7\",\n        },\n\"wix, gitea, traefik, abap, scriptable, latex, informatik\",\n\"t5_2veux, t5_wx7rh, t5_fucxb, t5_2seit, t5_ntiup, t5_2qhbn, t5_38yld\"],\n [{\n            'v': 4,\n            'f': \"4\",\n        },\n\"t5_2seit\",\n\"abap\",\n\"0006-0008-0013-0016-0016-0020-0021-0025\",\n\"k_0118_label\",\n\"E\",\n{\n            'v': 7,\n            'f': \"7\",\n        },\n\"wix, gitea, traefik, portainer, scriptable, latex, informatik\",\n\"t5_2veux, t5_wx7rh, t5_fucxb, t5_3jabm, t5_ntiup, t5_2qhbn, t5_38yld\"]],\n        columns: [[\"number\", \"index\"], [\"string\", \"subreddit_id_seed\"], [\"string\", \"subreddit_name_seed\"], [\"string\", \"cluster_label\"], [\"string\", \"cluster_label_k\"], [\"string\", \"rating_short_latest\"], [\"number\", \"subreddits_to_recommend_count\"], [\"string\", \"list_cluster_subreddit_names\"], [\"string\", \"list_cluster_subreddit_ids\"]],\n        columnOptions: [{\"width\": \"1px\", \"className\": \"index_column\"}],\n        rowsPerPage: 25,\n        helpUrl: \"https://colab.research.google.com/notebooks/data_table.ipynb\",\n        suppressOutputScrolling: true,\n        minimumWidth: undefined,\n      });\n    "
          },
          "metadata": {},
          "execution_count": 52
        }
      ]
    },
    {
      "cell_type": "code",
      "metadata": {
        "colab": {
          "base_uri": "https://localhost:8080/",
          "height": 1033
        },
        "id": "xV4C7Tz7_YRu",
        "outputId": "22c490bf-6cd0-4371-e66f-d802acf27c10"
      },
      "source": [
        "df_target_to_target_list.tail(10)"
      ],
      "execution_count": 53,
      "outputs": [
        {
          "output_type": "execute_result",
          "data": {
            "text/plain": [
              "    subreddit_id_seed subreddit_name_seed  \\\n",
              "464          t5_33xyp           mediathek   \n",
              "466         t5_30efup      mirellativegal   \n",
              "468          t5_3pjos          stoizismus   \n",
              "467          t5_i7ciq           youtubede   \n",
              "239          t5_31x7o   american_football   \n",
              "240          t5_2skuk                 elf   \n",
              "271         t5_2h02ye            almancis   \n",
              "272         t5_51lqnd           valnevase   \n",
              "180          t5_2r2pu              shisha   \n",
              "179         t5_2uxdql          mellowcorn   \n",
              "\n",
              "                                         cluster_label cluster_label_k  \\\n",
              "464  0013-0023-0041-0059-0062-0078-0084-0115-0310-0...    k_3927_label   \n",
              "466  0013-0023-0041-0059-0062-0078-0084-0115-0310-0...    k_3927_label   \n",
              "468  0013-0023-0041-0059-0062-0078-0084-0115-0310-0...    k_3927_label   \n",
              "467  0013-0023-0041-0059-0062-0078-0084-0115-0310-0...    k_3927_label   \n",
              "239                                                 10    k_0013_label   \n",
              "240                                                 10    k_0013_label   \n",
              "271                                                 10    k_0013_label   \n",
              "272                                                 10    k_0013_label   \n",
              "180                                                  8    k_0013_label   \n",
              "179                                                  8    k_0013_label   \n",
              "\n",
              "    rating_short_latest  subreddits_to_recommend_count  \\\n",
              "464                   E                              4   \n",
              "466                   E                              4   \n",
              "468                   E                              4   \n",
              "467                   E                              4   \n",
              "239                   E                              3   \n",
              "240                   E                              3   \n",
              "271                   E                              3   \n",
              "272                   E                              3   \n",
              "180                   E                              1   \n",
              "179                   E                              1   \n",
              "\n",
              "                        list_cluster_subreddit_names  \\\n",
              "464  streamen, mirellativegal, youtubede, stoizismus   \n",
              "466       mediathek, streamen, youtubede, stoizismus   \n",
              "468   mediathek, streamen, mirellativegal, youtubede   \n",
              "467  mediathek, streamen, mirellativegal, stoizismus   \n",
              "239                         elf, almancis, valnevase   \n",
              "240           american_football, almancis, valnevase   \n",
              "271                american_football, elf, valnevase   \n",
              "272                 american_football, elf, almancis   \n",
              "180                                       mellowcorn   \n",
              "179                                           shisha   \n",
              "\n",
              "                   list_cluster_subreddit_ids  \n",
              "464  t5_4cmjcc, t5_30efup, t5_i7ciq, t5_3pjos  \n",
              "466   t5_33xyp, t5_4cmjcc, t5_i7ciq, t5_3pjos  \n",
              "468  t5_33xyp, t5_4cmjcc, t5_30efup, t5_i7ciq  \n",
              "467  t5_33xyp, t5_4cmjcc, t5_30efup, t5_3pjos  \n",
              "239            t5_2skuk, t5_2h02ye, t5_51lqnd  \n",
              "240            t5_31x7o, t5_2h02ye, t5_51lqnd  \n",
              "271             t5_31x7o, t5_2skuk, t5_51lqnd  \n",
              "272             t5_31x7o, t5_2skuk, t5_2h02ye  \n",
              "180                                 t5_2uxdql  \n",
              "179                                  t5_2r2pu  "
            ],
            "text/html": [
              "\n",
              "  <div id=\"df-37e1c556-b98e-4064-8727-4111a79aaf8c\">\n",
              "    <div class=\"colab-df-container\">\n",
              "      <div>\n",
              "<style scoped>\n",
              "    .dataframe tbody tr th:only-of-type {\n",
              "        vertical-align: middle;\n",
              "    }\n",
              "\n",
              "    .dataframe tbody tr th {\n",
              "        vertical-align: top;\n",
              "    }\n",
              "\n",
              "    .dataframe thead th {\n",
              "        text-align: right;\n",
              "    }\n",
              "</style>\n",
              "<table border=\"1\" class=\"dataframe\">\n",
              "  <thead>\n",
              "    <tr style=\"text-align: right;\">\n",
              "      <th></th>\n",
              "      <th>subreddit_id_seed</th>\n",
              "      <th>subreddit_name_seed</th>\n",
              "      <th>cluster_label</th>\n",
              "      <th>cluster_label_k</th>\n",
              "      <th>rating_short_latest</th>\n",
              "      <th>subreddits_to_recommend_count</th>\n",
              "      <th>list_cluster_subreddit_names</th>\n",
              "      <th>list_cluster_subreddit_ids</th>\n",
              "    </tr>\n",
              "  </thead>\n",
              "  <tbody>\n",
              "    <tr>\n",
              "      <th>464</th>\n",
              "      <td>t5_33xyp</td>\n",
              "      <td>mediathek</td>\n",
              "      <td>0013-0023-0041-0059-0062-0078-0084-0115-0310-0...</td>\n",
              "      <td>k_3927_label</td>\n",
              "      <td>E</td>\n",
              "      <td>4</td>\n",
              "      <td>streamen, mirellativegal, youtubede, stoizismus</td>\n",
              "      <td>t5_4cmjcc, t5_30efup, t5_i7ciq, t5_3pjos</td>\n",
              "    </tr>\n",
              "    <tr>\n",
              "      <th>466</th>\n",
              "      <td>t5_30efup</td>\n",
              "      <td>mirellativegal</td>\n",
              "      <td>0013-0023-0041-0059-0062-0078-0084-0115-0310-0...</td>\n",
              "      <td>k_3927_label</td>\n",
              "      <td>E</td>\n",
              "      <td>4</td>\n",
              "      <td>mediathek, streamen, youtubede, stoizismus</td>\n",
              "      <td>t5_33xyp, t5_4cmjcc, t5_i7ciq, t5_3pjos</td>\n",
              "    </tr>\n",
              "    <tr>\n",
              "      <th>468</th>\n",
              "      <td>t5_3pjos</td>\n",
              "      <td>stoizismus</td>\n",
              "      <td>0013-0023-0041-0059-0062-0078-0084-0115-0310-0...</td>\n",
              "      <td>k_3927_label</td>\n",
              "      <td>E</td>\n",
              "      <td>4</td>\n",
              "      <td>mediathek, streamen, mirellativegal, youtubede</td>\n",
              "      <td>t5_33xyp, t5_4cmjcc, t5_30efup, t5_i7ciq</td>\n",
              "    </tr>\n",
              "    <tr>\n",
              "      <th>467</th>\n",
              "      <td>t5_i7ciq</td>\n",
              "      <td>youtubede</td>\n",
              "      <td>0013-0023-0041-0059-0062-0078-0084-0115-0310-0...</td>\n",
              "      <td>k_3927_label</td>\n",
              "      <td>E</td>\n",
              "      <td>4</td>\n",
              "      <td>mediathek, streamen, mirellativegal, stoizismus</td>\n",
              "      <td>t5_33xyp, t5_4cmjcc, t5_30efup, t5_3pjos</td>\n",
              "    </tr>\n",
              "    <tr>\n",
              "      <th>239</th>\n",
              "      <td>t5_31x7o</td>\n",
              "      <td>american_football</td>\n",
              "      <td>10</td>\n",
              "      <td>k_0013_label</td>\n",
              "      <td>E</td>\n",
              "      <td>3</td>\n",
              "      <td>elf, almancis, valnevase</td>\n",
              "      <td>t5_2skuk, t5_2h02ye, t5_51lqnd</td>\n",
              "    </tr>\n",
              "    <tr>\n",
              "      <th>240</th>\n",
              "      <td>t5_2skuk</td>\n",
              "      <td>elf</td>\n",
              "      <td>10</td>\n",
              "      <td>k_0013_label</td>\n",
              "      <td>E</td>\n",
              "      <td>3</td>\n",
              "      <td>american_football, almancis, valnevase</td>\n",
              "      <td>t5_31x7o, t5_2h02ye, t5_51lqnd</td>\n",
              "    </tr>\n",
              "    <tr>\n",
              "      <th>271</th>\n",
              "      <td>t5_2h02ye</td>\n",
              "      <td>almancis</td>\n",
              "      <td>10</td>\n",
              "      <td>k_0013_label</td>\n",
              "      <td>E</td>\n",
              "      <td>3</td>\n",
              "      <td>american_football, elf, valnevase</td>\n",
              "      <td>t5_31x7o, t5_2skuk, t5_51lqnd</td>\n",
              "    </tr>\n",
              "    <tr>\n",
              "      <th>272</th>\n",
              "      <td>t5_51lqnd</td>\n",
              "      <td>valnevase</td>\n",
              "      <td>10</td>\n",
              "      <td>k_0013_label</td>\n",
              "      <td>E</td>\n",
              "      <td>3</td>\n",
              "      <td>american_football, elf, almancis</td>\n",
              "      <td>t5_31x7o, t5_2skuk, t5_2h02ye</td>\n",
              "    </tr>\n",
              "    <tr>\n",
              "      <th>180</th>\n",
              "      <td>t5_2r2pu</td>\n",
              "      <td>shisha</td>\n",
              "      <td>8</td>\n",
              "      <td>k_0013_label</td>\n",
              "      <td>E</td>\n",
              "      <td>1</td>\n",
              "      <td>mellowcorn</td>\n",
              "      <td>t5_2uxdql</td>\n",
              "    </tr>\n",
              "    <tr>\n",
              "      <th>179</th>\n",
              "      <td>t5_2uxdql</td>\n",
              "      <td>mellowcorn</td>\n",
              "      <td>8</td>\n",
              "      <td>k_0013_label</td>\n",
              "      <td>E</td>\n",
              "      <td>1</td>\n",
              "      <td>shisha</td>\n",
              "      <td>t5_2r2pu</td>\n",
              "    </tr>\n",
              "  </tbody>\n",
              "</table>\n",
              "</div>\n",
              "      <button class=\"colab-df-convert\" onclick=\"convertToInteractive('df-37e1c556-b98e-4064-8727-4111a79aaf8c')\"\n",
              "              title=\"Convert this dataframe to an interactive table.\"\n",
              "              style=\"display:none;\">\n",
              "        \n",
              "  <svg xmlns=\"http://www.w3.org/2000/svg\" height=\"24px\"viewBox=\"0 0 24 24\"\n",
              "       width=\"24px\">\n",
              "    <path d=\"M0 0h24v24H0V0z\" fill=\"none\"/>\n",
              "    <path d=\"M18.56 5.44l.94 2.06.94-2.06 2.06-.94-2.06-.94-.94-2.06-.94 2.06-2.06.94zm-11 1L8.5 8.5l.94-2.06 2.06-.94-2.06-.94L8.5 2.5l-.94 2.06-2.06.94zm10 10l.94 2.06.94-2.06 2.06-.94-2.06-.94-.94-2.06-.94 2.06-2.06.94z\"/><path d=\"M17.41 7.96l-1.37-1.37c-.4-.4-.92-.59-1.43-.59-.52 0-1.04.2-1.43.59L10.3 9.45l-7.72 7.72c-.78.78-.78 2.05 0 2.83L4 21.41c.39.39.9.59 1.41.59.51 0 1.02-.2 1.41-.59l7.78-7.78 2.81-2.81c.8-.78.8-2.07 0-2.86zM5.41 20L4 18.59l7.72-7.72 1.47 1.35L5.41 20z\"/>\n",
              "  </svg>\n",
              "      </button>\n",
              "      \n",
              "  <style>\n",
              "    .colab-df-container {\n",
              "      display:flex;\n",
              "      flex-wrap:wrap;\n",
              "      gap: 12px;\n",
              "    }\n",
              "\n",
              "    .colab-df-convert {\n",
              "      background-color: #E8F0FE;\n",
              "      border: none;\n",
              "      border-radius: 50%;\n",
              "      cursor: pointer;\n",
              "      display: none;\n",
              "      fill: #1967D2;\n",
              "      height: 32px;\n",
              "      padding: 0 0 0 0;\n",
              "      width: 32px;\n",
              "    }\n",
              "\n",
              "    .colab-df-convert:hover {\n",
              "      background-color: #E2EBFA;\n",
              "      box-shadow: 0px 1px 2px rgba(60, 64, 67, 0.3), 0px 1px 3px 1px rgba(60, 64, 67, 0.15);\n",
              "      fill: #174EA6;\n",
              "    }\n",
              "\n",
              "    [theme=dark] .colab-df-convert {\n",
              "      background-color: #3B4455;\n",
              "      fill: #D2E3FC;\n",
              "    }\n",
              "\n",
              "    [theme=dark] .colab-df-convert:hover {\n",
              "      background-color: #434B5C;\n",
              "      box-shadow: 0px 1px 3px 1px rgba(0, 0, 0, 0.15);\n",
              "      filter: drop-shadow(0px 1px 2px rgba(0, 0, 0, 0.3));\n",
              "      fill: #FFFFFF;\n",
              "    }\n",
              "  </style>\n",
              "\n",
              "      <script>\n",
              "        const buttonEl =\n",
              "          document.querySelector('#df-37e1c556-b98e-4064-8727-4111a79aaf8c button.colab-df-convert');\n",
              "        buttonEl.style.display =\n",
              "          google.colab.kernel.accessAllowed ? 'block' : 'none';\n",
              "\n",
              "        async function convertToInteractive(key) {\n",
              "          const element = document.querySelector('#df-37e1c556-b98e-4064-8727-4111a79aaf8c');\n",
              "          const dataTable =\n",
              "            await google.colab.kernel.invokeFunction('convertToInteractive',\n",
              "                                                     [key], {});\n",
              "          if (!dataTable) return;\n",
              "\n",
              "          const docLinkHtml = 'Like what you see? Visit the ' +\n",
              "            '<a target=\"_blank\" href=https://colab.research.google.com/notebooks/data_table.ipynb>data table notebook</a>'\n",
              "            + ' to learn more about interactive tables.';\n",
              "          element.innerHTML = '';\n",
              "          dataTable['output_type'] = 'display_data';\n",
              "          await google.colab.output.renderOutput(dataTable, element);\n",
              "          const docLink = document.createElement('div');\n",
              "          docLink.innerHTML = docLinkHtml;\n",
              "          element.appendChild(docLink);\n",
              "        }\n",
              "      </script>\n",
              "    </div>\n",
              "  </div>\n",
              "  "
            ],
            "application/vnd.google.colaboratory.module+javascript": "\n      import \"https://ssl.gstatic.com/colaboratory/data_table/81f25a011006ed3d/data_table.js\";\n\n      window.createDataTable({\n        data: [[{\n            'v': 464,\n            'f': \"464\",\n        },\n\"t5_33xyp\",\n\"mediathek\",\n\"0013-0023-0041-0059-0062-0078-0084-0115-0310-0635-0925-1031-1508-1782-2138-2278-2742-3043-3303-3586-3740-3802\",\n\"k_3927_label\",\n\"E\",\n{\n            'v': 4,\n            'f': \"4\",\n        },\n\"streamen, mirellativegal, youtubede, stoizismus\",\n\"t5_4cmjcc, t5_30efup, t5_i7ciq, t5_3pjos\"],\n [{\n            'v': 466,\n            'f': \"466\",\n        },\n\"t5_30efup\",\n\"mirellativegal\",\n\"0013-0023-0041-0059-0062-0078-0084-0115-0310-0635-0925-1031-1508-1782-2138-2278-2742-3043-3303-3586-3740-3802\",\n\"k_3927_label\",\n\"E\",\n{\n            'v': 4,\n            'f': \"4\",\n        },\n\"mediathek, streamen, youtubede, stoizismus\",\n\"t5_33xyp, t5_4cmjcc, t5_i7ciq, t5_3pjos\"],\n [{\n            'v': 468,\n            'f': \"468\",\n        },\n\"t5_3pjos\",\n\"stoizismus\",\n\"0013-0023-0041-0059-0062-0078-0084-0115-0310-0635-0925-1031-1508-1782-2138-2278-2742-3043-3303-3586-3740-3802\",\n\"k_3927_label\",\n\"E\",\n{\n            'v': 4,\n            'f': \"4\",\n        },\n\"mediathek, streamen, mirellativegal, youtubede\",\n\"t5_33xyp, t5_4cmjcc, t5_30efup, t5_i7ciq\"],\n [{\n            'v': 467,\n            'f': \"467\",\n        },\n\"t5_i7ciq\",\n\"youtubede\",\n\"0013-0023-0041-0059-0062-0078-0084-0115-0310-0635-0925-1031-1508-1782-2138-2278-2742-3043-3303-3586-3740-3802\",\n\"k_3927_label\",\n\"E\",\n{\n            'v': 4,\n            'f': \"4\",\n        },\n\"mediathek, streamen, mirellativegal, stoizismus\",\n\"t5_33xyp, t5_4cmjcc, t5_30efup, t5_3pjos\"],\n [{\n            'v': 239,\n            'f': \"239\",\n        },\n\"t5_31x7o\",\n\"american_football\",\n\"10\",\n\"k_0013_label\",\n\"E\",\n{\n            'v': 3,\n            'f': \"3\",\n        },\n\"elf, almancis, valnevase\",\n\"t5_2skuk, t5_2h02ye, t5_51lqnd\"],\n [{\n            'v': 240,\n            'f': \"240\",\n        },\n\"t5_2skuk\",\n\"elf\",\n\"10\",\n\"k_0013_label\",\n\"E\",\n{\n            'v': 3,\n            'f': \"3\",\n        },\n\"american_football, almancis, valnevase\",\n\"t5_31x7o, t5_2h02ye, t5_51lqnd\"],\n [{\n            'v': 271,\n            'f': \"271\",\n        },\n\"t5_2h02ye\",\n\"almancis\",\n\"10\",\n\"k_0013_label\",\n\"E\",\n{\n            'v': 3,\n            'f': \"3\",\n        },\n\"american_football, elf, valnevase\",\n\"t5_31x7o, t5_2skuk, t5_51lqnd\"],\n [{\n            'v': 272,\n            'f': \"272\",\n        },\n\"t5_51lqnd\",\n\"valnevase\",\n\"10\",\n\"k_0013_label\",\n\"E\",\n{\n            'v': 3,\n            'f': \"3\",\n        },\n\"american_football, elf, almancis\",\n\"t5_31x7o, t5_2skuk, t5_2h02ye\"],\n [{\n            'v': 180,\n            'f': \"180\",\n        },\n\"t5_2r2pu\",\n\"shisha\",\n\"8\",\n\"k_0013_label\",\n\"E\",\n{\n            'v': 1,\n            'f': \"1\",\n        },\n\"mellowcorn\",\n\"t5_2uxdql\"],\n [{\n            'v': 179,\n            'f': \"179\",\n        },\n\"t5_2uxdql\",\n\"mellowcorn\",\n\"8\",\n\"k_0013_label\",\n\"E\",\n{\n            'v': 1,\n            'f': \"1\",\n        },\n\"shisha\",\n\"t5_2r2pu\"]],\n        columns: [[\"number\", \"index\"], [\"string\", \"subreddit_id_seed\"], [\"string\", \"subreddit_name_seed\"], [\"string\", \"cluster_label\"], [\"string\", \"cluster_label_k\"], [\"string\", \"rating_short_latest\"], [\"number\", \"subreddits_to_recommend_count\"], [\"string\", \"list_cluster_subreddit_names\"], [\"string\", \"list_cluster_subreddit_ids\"]],\n        columnOptions: [{\"width\": \"1px\", \"className\": \"index_column\"}],\n        rowsPerPage: 25,\n        helpUrl: \"https://colab.research.google.com/notebooks/data_table.ipynb\",\n        suppressOutputScrolling: true,\n        minimumWidth: undefined,\n      });\n    "
          },
          "metadata": {},
          "execution_count": 53
        }
      ]
    },
    {
      "cell_type": "markdown",
      "metadata": {
        "id": "2VYDcXoXEHYl"
      },
      "source": [
        "## Save new output to google sheet"
      ]
    },
    {
      "cell_type": "code",
      "source": [
        "d_wsh_names['clusters_t2t_fpr_after_qa']['worksheet'].update(\n",
        "    [df_target_to_target_list.rename(columns={k: k.replace('_', ' ') for k in df_target_to_target_list.columns}).columns.values.tolist()] + \n",
        "    df_target_to_target_list.fillna('').values.tolist()\n",
        ")"
      ],
      "metadata": {
        "colab": {
          "base_uri": "https://localhost:8080/"
        },
        "id": "Om4VV6QVuWJs",
        "outputId": "03ea690d-0a08-42f4-b436-1221cbd861c2"
      },
      "execution_count": 54,
      "outputs": [
        {
          "output_type": "execute_result",
          "data": {
            "text/plain": [
              "{'spreadsheetId': '1K0GPk-ud_UNPun_5EaODxY4CoywTEUbMyF8NNsk2q-8',\n",
              " 'updatedCells': 3760,\n",
              " 'updatedColumns': 8,\n",
              " 'updatedRange': 'fpr_clusters_after_qa_DE_DE!A1:H470',\n",
              " 'updatedRows': 470}"
            ]
          },
          "metadata": {},
          "execution_count": 54
        }
      ]
    },
    {
      "cell_type": "code",
      "source": [
        ""
      ],
      "metadata": {
        "id": "9qw8WcZvuWG6"
      },
      "execution_count": null,
      "outputs": []
    }
  ]
}