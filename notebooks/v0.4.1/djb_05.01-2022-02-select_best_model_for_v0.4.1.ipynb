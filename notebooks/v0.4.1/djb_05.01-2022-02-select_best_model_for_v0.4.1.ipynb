{
 "cells": [
  {
   "cell_type": "markdown",
   "id": "ddd0c460",
   "metadata": {},
   "source": [
    "# Purpose\n",
    "\n",
    "2022-02\n",
    "After fixing the parallel jobs, we need to pick the best model to share on bigQuery and to use for new FPRs.\n"
   ]
  },
  {
   "cell_type": "markdown",
   "id": "1744cb56",
   "metadata": {},
   "source": [
    "# Imports & Setup"
   ]
  },
  {
   "cell_type": "code",
   "execution_count": 1,
   "id": "56e1cfc5",
   "metadata": {},
   "outputs": [],
   "source": [
    "%load_ext autoreload\n",
    "%autoreload 2"
   ]
  },
  {
   "cell_type": "code",
   "execution_count": 2,
   "id": "d0d266e8",
   "metadata": {},
   "outputs": [
    {
     "name": "stdout",
     "output_type": "stream",
     "text": [
      "python\t\tv 3.7.11\n",
      "===\n",
      "hydra\t\tv: 1.1.0\n",
      "numpy\t\tv: 1.19.5\n",
      "pandas\t\tv: 1.2.4\n",
      "plotly\t\tv: 4.14.3\n",
      "seaborn\t\tv: 0.11.1\n",
      "subclu\t\tv: 0.4.1\n"
     ]
    }
   ],
   "source": [
    "from datetime import datetime\n",
    "import logging\n",
    "import os\n",
    "from pathlib import Path\n",
    "\n",
    "import numpy as np\n",
    "import pandas as pd\n",
    "import plotly\n",
    "import plotly.express as px\n",
    "import seaborn as sns\n",
    "\n",
    "import mlflow\n",
    "import hydra\n",
    "\n",
    "import subclu\n",
    "from subclu.eda.aggregates import compare_raw_v_weighted_language\n",
    "from subclu.utils import set_working_directory, get_project_subfolder\n",
    "from subclu.utils.eda import (\n",
    "    setup_logging, counts_describe, value_counts_and_pcts,\n",
    "    notebook_display_config, print_lib_versions,\n",
    "    style_df_numeric, reorder_array,\n",
    ")\n",
    "from subclu.utils.mlflow_logger import MlflowLogger\n",
    "from subclu.utils.hydra_config_loader import LoadHydraConfig\n",
    "from subclu.utils.data_irl_style import (\n",
    "    get_colormap, theme_dirl, \n",
    "    get_color_dict, base_colors_for_manual_labels,\n",
    "    check_colors_used,\n",
    ")\n",
    "from subclu.data.data_loaders import LoadPosts, LoadSubreddits, create_sub_level_aggregates\n",
    "\n",
    "\n",
    "# ===\n",
    "# imports specific to this notebook\n",
    "\n",
    "\n",
    "\n",
    "print_lib_versions([hydra, np, pd, plotly, sns, subclu])"
   ]
  },
  {
   "cell_type": "code",
   "execution_count": 3,
   "id": "b1965241",
   "metadata": {},
   "outputs": [],
   "source": [
    "# plotting\n",
    "import matplotlib.pyplot as plt\n",
    "import matplotlib.ticker as mtick\n",
    "import matplotlib.dates as mdates\n",
    "plt.style.use('default')\n",
    "\n",
    "setup_logging()\n",
    "notebook_display_config()"
   ]
  },
  {
   "cell_type": "markdown",
   "id": "3c5871ed",
   "metadata": {},
   "source": [
    "# Set sqlite database as MLflow URI"
   ]
  },
  {
   "cell_type": "code",
   "execution_count": 5,
   "id": "dbda1949",
   "metadata": {},
   "outputs": [
    {
     "data": {
      "text/plain": [
       "'sqlite:////Users/david.bermejo/repos/subreddit_clustering_i18n/mlflow_sync/C02FD08QMD6V/mlruns.db'"
      ]
     },
     "execution_count": 5,
     "metadata": {},
     "output_type": "execute_result"
    }
   ],
   "source": [
    "# use new class to initialize mlflow\n",
    "mlf = MlflowLogger(tracking_uri='sqlite')\n",
    "mlflow.get_tracking_uri()"
   ]
  },
  {
   "cell_type": "markdown",
   "id": "6c8a9ec5",
   "metadata": {},
   "source": [
    "## Get list of experiments with new function"
   ]
  },
  {
   "cell_type": "code",
   "execution_count": 6,
   "id": "d232b292",
   "metadata": {},
   "outputs": [
    {
     "data": {
      "text/html": [
       "<div>\n",
       "<style scoped>\n",
       "    .dataframe tbody tr th:only-of-type {\n",
       "        vertical-align: middle;\n",
       "    }\n",
       "\n",
       "    .dataframe tbody tr th {\n",
       "        vertical-align: top;\n",
       "    }\n",
       "\n",
       "    .dataframe thead th {\n",
       "        text-align: right;\n",
       "    }\n",
       "</style>\n",
       "<table border=\"1\" class=\"dataframe\">\n",
       "  <thead>\n",
       "    <tr style=\"text-align: right;\">\n",
       "      <th></th>\n",
       "      <th>experiment_id</th>\n",
       "      <th>name</th>\n",
       "      <th>artifact_location</th>\n",
       "      <th>lifecycle_stage</th>\n",
       "    </tr>\n",
       "  </thead>\n",
       "  <tbody>\n",
       "    <tr>\n",
       "      <th>17</th>\n",
       "      <td>17</td>\n",
       "      <td>v0.4.0_use_multi_clustering_test</td>\n",
       "      <td>gs://i18n-subreddit-clustering/mlflow/mlruns/17</td>\n",
       "      <td>active</td>\n",
       "    </tr>\n",
       "    <tr>\n",
       "      <th>18</th>\n",
       "      <td>18</td>\n",
       "      <td>v0.4.0_use_multi_clustering</td>\n",
       "      <td>gs://i18n-subreddit-clustering/mlflow/mlruns/18</td>\n",
       "      <td>active</td>\n",
       "    </tr>\n",
       "    <tr>\n",
       "      <th>19</th>\n",
       "      <td>19</td>\n",
       "      <td>v0.4.1_mUSE_inference_test</td>\n",
       "      <td>gs://i18n-subreddit-clustering/mlflow/mlruns/19</td>\n",
       "      <td>active</td>\n",
       "    </tr>\n",
       "    <tr>\n",
       "      <th>20</th>\n",
       "      <td>20</td>\n",
       "      <td>v0.4.1_mUSE_inference</td>\n",
       "      <td>gs://i18n-subreddit-clustering/mlflow/mlruns/20</td>\n",
       "      <td>active</td>\n",
       "    </tr>\n",
       "    <tr>\n",
       "      <th>21</th>\n",
       "      <td>21</td>\n",
       "      <td>v0.4.1_mUSE_aggregates_test</td>\n",
       "      <td>gs://i18n-subreddit-clustering/mlflow/mlruns/21</td>\n",
       "      <td>active</td>\n",
       "    </tr>\n",
       "    <tr>\n",
       "      <th>22</th>\n",
       "      <td>22</td>\n",
       "      <td>v0.4.1_mUSE_aggregates</td>\n",
       "      <td>gs://i18n-subreddit-clustering/mlflow/mlruns/22</td>\n",
       "      <td>active</td>\n",
       "    </tr>\n",
       "    <tr>\n",
       "      <th>23</th>\n",
       "      <td>23</td>\n",
       "      <td>v0.4.1_mUSE_clustering_test</td>\n",
       "      <td>gs://i18n-subreddit-clustering/mlflow/mlruns/23</td>\n",
       "      <td>active</td>\n",
       "    </tr>\n",
       "    <tr>\n",
       "      <th>24</th>\n",
       "      <td>24</td>\n",
       "      <td>v0.4.1_mUSE_clustering</td>\n",
       "      <td>gs://i18n-subreddit-clustering/mlflow/mlruns/24</td>\n",
       "      <td>active</td>\n",
       "    </tr>\n",
       "    <tr>\n",
       "      <th>25</th>\n",
       "      <td>25</td>\n",
       "      <td>v0.4.1_mUSE_clustering_new_metrics</td>\n",
       "      <td>gs://i18n-subreddit-clustering/mlflow/mlruns/25</td>\n",
       "      <td>active</td>\n",
       "    </tr>\n",
       "  </tbody>\n",
       "</table>\n",
       "</div>"
      ],
      "text/plain": [
       "   experiment_id                                name                                artifact_location lifecycle_stage\n",
       "17            17    v0.4.0_use_multi_clustering_test  gs://i18n-subreddit-clustering/mlflow/mlruns/17          active\n",
       "18            18         v0.4.0_use_multi_clustering  gs://i18n-subreddit-clustering/mlflow/mlruns/18          active\n",
       "19            19          v0.4.1_mUSE_inference_test  gs://i18n-subreddit-clustering/mlflow/mlruns/19          active\n",
       "20            20               v0.4.1_mUSE_inference  gs://i18n-subreddit-clustering/mlflow/mlruns/20          active\n",
       "21            21         v0.4.1_mUSE_aggregates_test  gs://i18n-subreddit-clustering/mlflow/mlruns/21          active\n",
       "22            22              v0.4.1_mUSE_aggregates  gs://i18n-subreddit-clustering/mlflow/mlruns/22          active\n",
       "23            23         v0.4.1_mUSE_clustering_test  gs://i18n-subreddit-clustering/mlflow/mlruns/23          active\n",
       "24            24              v0.4.1_mUSE_clustering  gs://i18n-subreddit-clustering/mlflow/mlruns/24          active\n",
       "25            25  v0.4.1_mUSE_clustering_new_metrics  gs://i18n-subreddit-clustering/mlflow/mlruns/25          active"
      ]
     },
     "execution_count": 6,
     "metadata": {},
     "output_type": "execute_result"
    }
   ],
   "source": [
    "mlf.list_experiment_meta(output_format='pandas').tail(9)"
   ]
  },
  {
   "cell_type": "markdown",
   "id": "89dad204",
   "metadata": {},
   "source": [
    "## Get experiment ID's for models to check\n",
    "\n",
    "experiment ID 25 as the latest runs"
   ]
  },
  {
   "cell_type": "code",
   "execution_count": 7,
   "id": "bdb027e2",
   "metadata": {},
   "outputs": [
    {
     "name": "stdout",
     "output_type": "stream",
     "text": [
      "CPU times: user 1.32 s, sys: 46.4 ms, total: 1.37 s\n",
      "Wall time: 1.37 s\n"
     ]
    },
    {
     "data": {
      "text/plain": [
       "(132, 273)"
      ]
     },
     "execution_count": 7,
     "metadata": {},
     "output_type": "execute_result"
    }
   ],
   "source": [
    "%%time\n",
    "\n",
    "df_mlf = mlf.search_all_runs(experiment_ids=[25])\n",
    "df_mlf.shape"
   ]
  },
  {
   "cell_type": "code",
   "execution_count": 8,
   "id": "aa2cc415",
   "metadata": {},
   "outputs": [
    {
     "data": {
      "text/html": [
       "<div>\n",
       "<style scoped>\n",
       "    .dataframe tbody tr th:only-of-type {\n",
       "        vertical-align: middle;\n",
       "    }\n",
       "\n",
       "    .dataframe tbody tr th {\n",
       "        vertical-align: top;\n",
       "    }\n",
       "\n",
       "    .dataframe thead th {\n",
       "        text-align: right;\n",
       "    }\n",
       "</style>\n",
       "<table border=\"1\" class=\"dataframe\">\n",
       "  <thead>\n",
       "    <tr style=\"text-align: right;\">\n",
       "      <th></th>\n",
       "      <th>run_id</th>\n",
       "      <th>experiment_id</th>\n",
       "      <th>status</th>\n",
       "      <th>artifact_uri</th>\n",
       "      <th>start_time</th>\n",
       "      <th>end_time</th>\n",
       "      <th>metrics.primary_topic-0020_to_0040-precision-weighted_avg</th>\n",
       "      <th>metrics.primary_topic-1700_to_2000-recall-weighted_avg</th>\n",
       "      <th>metrics.primary_topic-0750_to_1000-adjusted_mutual_info_score</th>\n",
       "      <th>metrics.primary_topic-0040_to_0050-adjusted_rand_score</th>\n",
       "    </tr>\n",
       "  </thead>\n",
       "  <tbody>\n",
       "    <tr>\n",
       "      <th>0</th>\n",
       "      <td>a6ee2f75491d4449a05fad502d7b80c3</td>\n",
       "      <td>25</td>\n",
       "      <td>FINISHED</td>\n",
       "      <td>gs://i18n-subreddit-clustering/mlflow/mlruns/25/a6ee2f75491d4449a05fad502d7b80c3/artifacts</td>\n",
       "      <td>2022-01-20 19:50:19.553000+00:00</td>\n",
       "      <td>2022-01-20 19:54:40.237000+00:00</td>\n",
       "      <td>0.223732</td>\n",
       "      <td>0.422591</td>\n",
       "      <td>0.264373</td>\n",
       "      <td>0.270185</td>\n",
       "    </tr>\n",
       "    <tr>\n",
       "      <th>1</th>\n",
       "      <td>4b246da72d254bf9888962d483ed49a3</td>\n",
       "      <td>25</td>\n",
       "      <td>FINISHED</td>\n",
       "      <td>gs://i18n-subreddit-clustering/mlflow/mlruns/25/4b246da72d254bf9888962d483ed49a3/artifacts</td>\n",
       "      <td>2022-01-20 19:49:26.745000+00:00</td>\n",
       "      <td>2022-01-20 20:02:40.384000+00:00</td>\n",
       "      <td>0.193544</td>\n",
       "      <td>0.542342</td>\n",
       "      <td>0.141097</td>\n",
       "      <td>0.000166</td>\n",
       "    </tr>\n",
       "    <tr>\n",
       "      <th>2</th>\n",
       "      <td>619e29db458a43e6ac726eac7145db89</td>\n",
       "      <td>25</td>\n",
       "      <td>FINISHED</td>\n",
       "      <td>gs://i18n-subreddit-clustering/mlflow/mlruns/25/619e29db458a43e6ac726eac7145db89/artifacts</td>\n",
       "      <td>2022-01-20 19:49:09.043000+00:00</td>\n",
       "      <td>2022-01-20 19:53:31.024000+00:00</td>\n",
       "      <td>0.239758</td>\n",
       "      <td>0.421829</td>\n",
       "      <td>0.264794</td>\n",
       "      <td>0.336417</td>\n",
       "    </tr>\n",
       "    <tr>\n",
       "      <th>3</th>\n",
       "      <td>25c5dfaa03d34da88fdfb3a1850d7d44</td>\n",
       "      <td>25</td>\n",
       "      <td>FINISHED</td>\n",
       "      <td>gs://i18n-subreddit-clustering/mlflow/mlruns/25/25c5dfaa03d34da88fdfb3a1850d7d44/artifacts</td>\n",
       "      <td>2022-01-20 19:48:44.509000+00:00</td>\n",
       "      <td>2022-01-20 20:02:25.618000+00:00</td>\n",
       "      <td>0.193851</td>\n",
       "      <td>0.526495</td>\n",
       "      <td>0.067688</td>\n",
       "      <td>0.000171</td>\n",
       "    </tr>\n",
       "    <tr>\n",
       "      <th>4</th>\n",
       "      <td>b29776a461994e00b00139ec1bb6270b</td>\n",
       "      <td>25</td>\n",
       "      <td>FINISHED</td>\n",
       "      <td>gs://i18n-subreddit-clustering/mlflow/mlruns/25/b29776a461994e00b00139ec1bb6270b/artifacts</td>\n",
       "      <td>2022-01-20 19:46:49.578000+00:00</td>\n",
       "      <td>2022-01-20 19:51:15.689000+00:00</td>\n",
       "      <td>0.246098</td>\n",
       "      <td>0.419423</td>\n",
       "      <td>0.265473</td>\n",
       "      <td>0.351944</td>\n",
       "    </tr>\n",
       "  </tbody>\n",
       "</table>\n",
       "</div>"
      ],
      "text/plain": [
       "                             run_id experiment_id    status                                                                                artifact_uri                       start_time                         end_time  metrics.primary_topic-0020_to_0040-precision-weighted_avg  \\\n",
       "0  a6ee2f75491d4449a05fad502d7b80c3            25  FINISHED  gs://i18n-subreddit-clustering/mlflow/mlruns/25/a6ee2f75491d4449a05fad502d7b80c3/artifacts 2022-01-20 19:50:19.553000+00:00 2022-01-20 19:54:40.237000+00:00                                                   0.223732   \n",
       "1  4b246da72d254bf9888962d483ed49a3            25  FINISHED  gs://i18n-subreddit-clustering/mlflow/mlruns/25/4b246da72d254bf9888962d483ed49a3/artifacts 2022-01-20 19:49:26.745000+00:00 2022-01-20 20:02:40.384000+00:00                                                   0.193544   \n",
       "2  619e29db458a43e6ac726eac7145db89            25  FINISHED  gs://i18n-subreddit-clustering/mlflow/mlruns/25/619e29db458a43e6ac726eac7145db89/artifacts 2022-01-20 19:49:09.043000+00:00 2022-01-20 19:53:31.024000+00:00                                                   0.239758   \n",
       "3  25c5dfaa03d34da88fdfb3a1850d7d44            25  FINISHED  gs://i18n-subreddit-clustering/mlflow/mlruns/25/25c5dfaa03d34da88fdfb3a1850d7d44/artifacts 2022-01-20 19:48:44.509000+00:00 2022-01-20 20:02:25.618000+00:00                                                   0.193851   \n",
       "4  b29776a461994e00b00139ec1bb6270b            25  FINISHED  gs://i18n-subreddit-clustering/mlflow/mlruns/25/b29776a461994e00b00139ec1bb6270b/artifacts 2022-01-20 19:46:49.578000+00:00 2022-01-20 19:51:15.689000+00:00                                                   0.246098   \n",
       "\n",
       "   metrics.primary_topic-1700_to_2000-recall-weighted_avg  metrics.primary_topic-0750_to_1000-adjusted_mutual_info_score  metrics.primary_topic-0040_to_0050-adjusted_rand_score  \n",
       "0                                                0.422591                                                       0.264373                                                0.270185  \n",
       "1                                                0.542342                                                       0.141097                                                0.000166  \n",
       "2                                                0.421829                                                       0.264794                                                0.336417  \n",
       "3                                                0.526495                                                       0.067688                                                0.000171  \n",
       "4                                                0.419423                                                       0.265473                                                0.351944  "
      ]
     },
     "execution_count": 8,
     "metadata": {},
     "output_type": "execute_result"
    }
   ],
   "source": [
    "df_mlf.iloc[:5, :10]"
   ]
  },
  {
   "cell_type": "code",
   "execution_count": 9,
   "id": "16a91494",
   "metadata": {},
   "outputs": [
    {
     "data": {
      "text/plain": [
       "(132, 273)"
      ]
     },
     "execution_count": 9,
     "metadata": {},
     "output_type": "execute_result"
    }
   ],
   "source": [
    "mask_finished = df_mlf['status'] == 'FINISHED'\n",
    "mask_df_similarity_complete = ~df_mlf['metrics.primary_topic-2350_to_2700-f1_score-weighted_avg'].isnull()\n",
    "\n",
    "df_mlf_clustering_candidates = df_mlf[mask_finished & mask_df_similarity_complete]\n",
    "df_mlf_clustering_candidates.shape"
   ]
  },
  {
   "cell_type": "code",
   "execution_count": 10,
   "id": "f6703dff",
   "metadata": {},
   "outputs": [
    {
     "name": "stdout",
     "output_type": "stream",
     "text": [
      "interesting cols: 244\n"
     ]
    },
    {
     "data": {
      "text/html": [
       "<div>\n",
       "<style scoped>\n",
       "    .dataframe tbody tr th:only-of-type {\n",
       "        vertical-align: middle;\n",
       "    }\n",
       "\n",
       "    .dataframe tbody tr th {\n",
       "        vertical-align: top;\n",
       "    }\n",
       "\n",
       "    .dataframe thead th {\n",
       "        text-align: right;\n",
       "    }\n",
       "</style>\n",
       "<table border=\"1\" class=\"dataframe\">\n",
       "  <thead>\n",
       "    <tr style=\"text-align: right;\">\n",
       "      <th></th>\n",
       "      <th>run_id</th>\n",
       "      <th>artifact_uri</th>\n",
       "      <th>start_time</th>\n",
       "      <th>end_time</th>\n",
       "      <th>metrics.primary_topic-0020_to_0040-precision-weighted_avg</th>\n",
       "      <th>metrics.primary_topic-1700_to_2000-recall-weighted_avg</th>\n",
       "      <th>metrics.primary_topic-0750_to_1000-adjusted_mutual_info_score</th>\n",
       "      <th>metrics.primary_topic-0040_to_0050-adjusted_rand_score</th>\n",
       "      <th>metrics.primary_topic-1000_to_1350-homogeneity_score</th>\n",
       "      <th>metrics.primary_topic-2000_to_2350-adjusted_rand_score</th>\n",
       "    </tr>\n",
       "  </thead>\n",
       "  <tbody>\n",
       "    <tr>\n",
       "      <th>0</th>\n",
       "      <td>a6ee2f75491d4449a05fad502d7b80c3</td>\n",
       "      <td>gs://i18n-subreddit-clustering/mlflow/mlruns/25/a6ee2f75491d4449a05fad502d7b80c3/artifacts</td>\n",
       "      <td>2022-01-20 19:50:19.553000+00:00</td>\n",
       "      <td>2022-01-20 19:54:40.237000+00:00</td>\n",
       "      <td>0.223732</td>\n",
       "      <td>0.422591</td>\n",
       "      <td>0.264373</td>\n",
       "      <td>0.270185</td>\n",
       "      <td>0.228267</td>\n",
       "      <td>0.408543</td>\n",
       "    </tr>\n",
       "    <tr>\n",
       "      <th>1</th>\n",
       "      <td>4b246da72d254bf9888962d483ed49a3</td>\n",
       "      <td>gs://i18n-subreddit-clustering/mlflow/mlruns/25/4b246da72d254bf9888962d483ed49a3/artifacts</td>\n",
       "      <td>2022-01-20 19:49:26.745000+00:00</td>\n",
       "      <td>2022-01-20 20:02:40.384000+00:00</td>\n",
       "      <td>0.193544</td>\n",
       "      <td>0.542342</td>\n",
       "      <td>0.141097</td>\n",
       "      <td>0.000166</td>\n",
       "      <td>0.135006</td>\n",
       "      <td>0.443376</td>\n",
       "    </tr>\n",
       "    <tr>\n",
       "      <th>2</th>\n",
       "      <td>619e29db458a43e6ac726eac7145db89</td>\n",
       "      <td>gs://i18n-subreddit-clustering/mlflow/mlruns/25/619e29db458a43e6ac726eac7145db89/artifacts</td>\n",
       "      <td>2022-01-20 19:49:09.043000+00:00</td>\n",
       "      <td>2022-01-20 19:53:31.024000+00:00</td>\n",
       "      <td>0.239758</td>\n",
       "      <td>0.421829</td>\n",
       "      <td>0.264794</td>\n",
       "      <td>0.336417</td>\n",
       "      <td>0.226166</td>\n",
       "      <td>0.396787</td>\n",
       "    </tr>\n",
       "    <tr>\n",
       "      <th>3</th>\n",
       "      <td>25c5dfaa03d34da88fdfb3a1850d7d44</td>\n",
       "      <td>gs://i18n-subreddit-clustering/mlflow/mlruns/25/25c5dfaa03d34da88fdfb3a1850d7d44/artifacts</td>\n",
       "      <td>2022-01-20 19:48:44.509000+00:00</td>\n",
       "      <td>2022-01-20 20:02:25.618000+00:00</td>\n",
       "      <td>0.193851</td>\n",
       "      <td>0.526495</td>\n",
       "      <td>0.067688</td>\n",
       "      <td>0.000171</td>\n",
       "      <td>0.173688</td>\n",
       "      <td>0.350438</td>\n",
       "    </tr>\n",
       "    <tr>\n",
       "      <th>4</th>\n",
       "      <td>b29776a461994e00b00139ec1bb6270b</td>\n",
       "      <td>gs://i18n-subreddit-clustering/mlflow/mlruns/25/b29776a461994e00b00139ec1bb6270b/artifacts</td>\n",
       "      <td>2022-01-20 19:46:49.578000+00:00</td>\n",
       "      <td>2022-01-20 19:51:15.689000+00:00</td>\n",
       "      <td>0.246098</td>\n",
       "      <td>0.419423</td>\n",
       "      <td>0.265473</td>\n",
       "      <td>0.351944</td>\n",
       "      <td>0.228004</td>\n",
       "      <td>0.400253</td>\n",
       "    </tr>\n",
       "  </tbody>\n",
       "</table>\n",
       "</div>"
      ],
      "text/plain": [
       "                             run_id                                                                                artifact_uri                       start_time                         end_time  metrics.primary_topic-0020_to_0040-precision-weighted_avg  \\\n",
       "0  a6ee2f75491d4449a05fad502d7b80c3  gs://i18n-subreddit-clustering/mlflow/mlruns/25/a6ee2f75491d4449a05fad502d7b80c3/artifacts 2022-01-20 19:50:19.553000+00:00 2022-01-20 19:54:40.237000+00:00                                                   0.223732   \n",
       "1  4b246da72d254bf9888962d483ed49a3  gs://i18n-subreddit-clustering/mlflow/mlruns/25/4b246da72d254bf9888962d483ed49a3/artifacts 2022-01-20 19:49:26.745000+00:00 2022-01-20 20:02:40.384000+00:00                                                   0.193544   \n",
       "2  619e29db458a43e6ac726eac7145db89  gs://i18n-subreddit-clustering/mlflow/mlruns/25/619e29db458a43e6ac726eac7145db89/artifacts 2022-01-20 19:49:09.043000+00:00 2022-01-20 19:53:31.024000+00:00                                                   0.239758   \n",
       "3  25c5dfaa03d34da88fdfb3a1850d7d44  gs://i18n-subreddit-clustering/mlflow/mlruns/25/25c5dfaa03d34da88fdfb3a1850d7d44/artifacts 2022-01-20 19:48:44.509000+00:00 2022-01-20 20:02:25.618000+00:00                                                   0.193851   \n",
       "4  b29776a461994e00b00139ec1bb6270b  gs://i18n-subreddit-clustering/mlflow/mlruns/25/b29776a461994e00b00139ec1bb6270b/artifacts 2022-01-20 19:46:49.578000+00:00 2022-01-20 19:51:15.689000+00:00                                                   0.246098   \n",
       "\n",
       "   metrics.primary_topic-1700_to_2000-recall-weighted_avg  metrics.primary_topic-0750_to_1000-adjusted_mutual_info_score  metrics.primary_topic-0040_to_0050-adjusted_rand_score  metrics.primary_topic-1000_to_1350-homogeneity_score  metrics.primary_topic-2000_to_2350-adjusted_rand_score  \n",
       "0                                                0.422591                                                       0.264373                                                0.270185                                              0.228267                                                0.408543  \n",
       "1                                                0.542342                                                       0.141097                                                0.000166                                              0.135006                                                0.443376  \n",
       "2                                                0.421829                                                       0.264794                                                0.336417                                              0.226166                                                0.396787  \n",
       "3                                                0.526495                                                       0.067688                                                0.000171                                              0.173688                                                0.350438  \n",
       "4                                                0.419423                                                       0.265473                                                0.351944                                              0.228004                                                0.400253  "
      ]
     },
     "execution_count": 10,
     "metadata": {},
     "output_type": "execute_result"
    }
   ],
   "source": [
    "cols_with_multiple_vals = df_mlf_clustering_candidates.columns[df_mlf_clustering_candidates.nunique(dropna=False) > 1]\n",
    "print(f\"interesting cols: {len(cols_with_multiple_vals)}\")\n",
    "df_mlf_clustering_candidates[cols_with_multiple_vals].iloc[:5, :10]"
   ]
  },
  {
   "cell_type": "code",
   "execution_count": null,
   "id": "6f9563c6",
   "metadata": {},
   "outputs": [],
   "source": []
  },
  {
   "cell_type": "markdown",
   "id": "17ebd948",
   "metadata": {},
   "source": [
    "# Pick primary metric cols for evaluation & visualize in parallel coordinates plot\n",
    "\n",
    "We want to keep the model that:\n",
    "- has the highest metric scores\n",
    "- covers the largest number of subreddits (rows)\n",
    "\n",
    "One hyperparameter while creating clusters is filtering out subreddits with too few posts (min posts). Sometimes these can add noise and impact clustering upstream.\n",
    "\n",
    "params:\n",
    "- linkage type\n",
    "- number of subreddits (rows) after filtering\n",
    " \n",
    "metrics:\n",
    "- Optimal clusters to check:\n",
    "    - @ 3000 to 3200\n",
    "    - @ 3900 to 4000\n",
    "- metrics\n",
    "    - f1 weighted\n",
    "    - adjusted mutual info\n",
    "    - adjusted rand score\n",
    "    - homogeneity"
   ]
  },
  {
   "cell_type": "code",
   "execution_count": 80,
   "id": "47e3c7cc",
   "metadata": {},
   "outputs": [],
   "source": [
    "def rename_col_for_display(\n",
    "    col_name: str,\n",
    ") -> str:\n",
    "    \"\"\"\n",
    "    Remove prefixes & other extra characters to columns so \n",
    "    that it's easier to read/display them in plots & tables\n",
    "    \"\"\"\n",
    "    return (\n",
    "        col_name\n",
    "        .replace('metrics.primary_topic-', '')\n",
    "        .replace('00-', '00<br>')  # split cols into 2 rows after num of clusters (k)\n",
    "        .replace('filtered_embeddings-n_rows', 'subreddits')  # subreddits clustered\n",
    "        .replace('score', 'score<br>') # add an extra break after avg & score to improve look of plots\n",
    "        .replace('_avg', '_avg<br>')\n",
    "        .replace('metrics.', '')\n",
    "        .replace('params.', '')\n",
    "        .replace('_pipe-', '')\n",
    "        .replace('__', '_')\n",
    "        .replace('_', ' ')\n",
    "    )"
   ]
  },
  {
   "cell_type": "code",
   "execution_count": 81,
   "id": "bf5438e9",
   "metadata": {},
   "outputs": [
    {
     "data": {
      "text/plain": [
       "['params._pipe-cluster__linkage']"
      ]
     },
     "execution_count": 81,
     "metadata": {},
     "output_type": "execute_result"
    }
   ],
   "source": [
    "sorted([c for c in df_mlf_clustering_candidates.columns if 'link' in c])"
   ]
  },
  {
   "cell_type": "code",
   "execution_count": 82,
   "id": "0c1a9e1c",
   "metadata": {},
   "outputs": [
    {
     "data": {
      "text/plain": [
       "['metrics.filtered_embeddings-n_rows',\n",
       " 'metrics.input_embeddings-n_rows',\n",
       " 'params.n_sample_embedding_rows']"
      ]
     },
     "execution_count": 82,
     "metadata": {},
     "output_type": "execute_result"
    }
   ],
   "source": [
    "sorted([c for c in df_mlf_clustering_candidates.columns if 'row' in c])"
   ]
  },
  {
   "cell_type": "code",
   "execution_count": 83,
   "id": "a1b67de0",
   "metadata": {},
   "outputs": [],
   "source": [
    "# sorted([c for c in df_mlf_clustering_candidates.columns if '3000' in c])"
   ]
  },
  {
   "cell_type": "code",
   "execution_count": 84,
   "id": "a1a46aa4",
   "metadata": {},
   "outputs": [],
   "source": [
    "# sorted([c for c in df_mlf_clustering_candidates.columns if '4000' in c])"
   ]
  },
  {
   "cell_type": "code",
   "execution_count": 85,
   "id": "9fea199f",
   "metadata": {},
   "outputs": [
    {
     "data": {
      "text/plain": [
       "['3900 to 4000<br>adjusted mutual info score<br>',\n",
       " '3900 to 4000<br>adjusted rand score<br>',\n",
       " '3900 to 4000<br>f1 score<br>-macro avg<br>',\n",
       " '3900 to 4000<br>f1 score<br>-weighted avg<br>',\n",
       " '3900 to 4000<br>homogeneity score<br>',\n",
       " '3900 to 4000<br>precision-macro avg<br>',\n",
       " '3900 to 4000<br>precision-weighted avg<br>',\n",
       " '3900 to 4000<br>recall-macro avg<br>',\n",
       " '3900 to 4000<br>recall-weighted avg<br>',\n",
       " 'optimal k-3900 to 4000']"
      ]
     },
     "execution_count": 85,
     "metadata": {},
     "output_type": "execute_result"
    }
   ],
   "source": [
    "sorted([rename_col_for_display(c) for c in df_mlf_clustering_candidates.columns if '4000' in c])"
   ]
  },
  {
   "cell_type": "code",
   "execution_count": 86,
   "id": "bf631051",
   "metadata": {},
   "outputs": [],
   "source": [
    "# [c for c in df_mlf_clustering_candidates.columns if 'metric' in c][-15:]"
   ]
  },
  {
   "cell_type": "markdown",
   "id": "762a4b1a",
   "metadata": {},
   "source": [
    "For now forget linkage type, there's some weird thing where you can't show text or category dtypes in a parallel coordinate plot (unless you convert the values to numbers).\n",
    "- https://github.com/plotly/plotly.py/issues/2494\n",
    "\n",
    "Looks like you could use the lower-level `go.Parcoords` to do it, but at this point that's too much for me (maybe this is what mlflow uses under the hood?).\n",
    "- https://plotly.com/python/parallel-coordinates-plot/#parallel-coordinates-chart-with-goparcoords\n",
    "\n",
    "\n",
    "---\n",
    "NOTE: plotly uses a df's index, so make sure to reset index b/c otherwise we can end up with weird results!"
   ]
  },
  {
   "cell_type": "code",
   "execution_count": 87,
   "id": "548cbc27",
   "metadata": {},
   "outputs": [],
   "source": [
    "\n",
    "l_parallel_params = [\n",
    "    'metrics.filtered_embeddings-n_rows',\n",
    "    'params._pipe-cluster__linkage',\n",
    "]\n",
    "\n",
    "l_parallel_metrics_3k = [\n",
    "    'metrics.primary_topic-3000_to_3200-homogeneity_score',\n",
    "    'metrics.primary_topic-3000_to_3200-adjusted_mutual_info_score',\n",
    "    'metrics.primary_topic-3000_to_3200-adjusted_rand_score',\n",
    "    'metrics.primary_topic-3000_to_3200-f1_score-weighted_avg',\n",
    "]\n",
    "l_parallel_metrics_4k = [\n",
    "    'metrics.primary_topic-3900_to_4000-homogeneity_score',\n",
    "    'metrics.primary_topic-3900_to_4000-adjusted_mutual_info_score',\n",
    "    'metrics.primary_topic-3900_to_4000-adjusted_rand_score',\n",
    "    'metrics.primary_topic-3900_to_4000-f1_score-weighted_avg',\n",
    "]\n",
    "\n",
    "l_parallel_metrics_all = l_parallel_metrics_3k + l_parallel_metrics_4k"
   ]
  },
  {
   "cell_type": "code",
   "execution_count": 88,
   "id": "c5d7fe0f",
   "metadata": {},
   "outputs": [
    {
     "data": {
      "text/plain": [
       "ward        36\n",
       "single      32\n",
       "average     32\n",
       "complete    32\n",
       "Name: params._pipe-cluster__linkage, dtype: int64"
      ]
     },
     "execution_count": 88,
     "metadata": {},
     "output_type": "execute_result"
    }
   ],
   "source": [
    "df_mlf_clustering_candidates['params._pipe-cluster__linkage'].value_counts()"
   ]
  },
  {
   "cell_type": "code",
   "execution_count": 89,
   "id": "ba6e565b",
   "metadata": {},
   "outputs": [
    {
     "data": {
      "text/plain": [
       "{4: 'ward', 3: 'average', 2: 'complete', 1: 'single'}"
      ]
     },
     "execution_count": 89,
     "metadata": {},
     "output_type": "execute_result"
    }
   ],
   "source": [
    "d_linkage_to_num = {\n",
    "    'ward': 4,\n",
    "    'average': 3,\n",
    "    'complete': 2,\n",
    "    'single': 1,\n",
    "}\n",
    "d_num_to_linkage = {v: k for k, v in d_linkage_to_num.items()}\n",
    "d_num_to_linkage"
   ]
  },
  {
   "cell_type": "code",
   "execution_count": 90,
   "id": "b3f2aee0",
   "metadata": {},
   "outputs": [
    {
     "name": "stdout",
     "output_type": "stream",
     "text": [
      "Linkage names:\n",
      " {4: 'ward', 3: 'average', 2: 'complete', 1: 'single'}\n"
     ]
    },
    {
     "data": {
      "application/vnd.plotly.v1+json": {
       "config": {
        "plotlyServerURL": "https://plot.ly"
       },
       "data": [
        {
         "dimensions": [
          {
           "label": "subreddits",
           "values": [
            47175,
            47175,
            47550,
            47550,
            47909,
            47909,
            48310,
            48310,
            48675,
            48675,
            48996,
            48996,
            49326,
            49326,
            49454,
            49454,
            47175,
            47175,
            47550,
            47550,
            47909,
            47909,
            48310,
            48310,
            48675,
            48675,
            48996,
            48996,
            49326,
            49326,
            49454,
            49454,
            47175,
            47175,
            47550,
            47550,
            47909,
            47909,
            48310,
            48310,
            48675,
            48675,
            48996,
            49326,
            48996,
            49326,
            49454,
            49454,
            47550,
            47175,
            47175,
            47550,
            47909,
            47909,
            48310,
            48310,
            48675,
            48675,
            48996,
            48996,
            49326,
            49326,
            49454,
            49454,
            47175,
            47175,
            47550,
            47550,
            47909,
            47909,
            48310,
            48310,
            48675,
            48675,
            48996,
            48996,
            49326,
            49326,
            49454,
            49454,
            47175,
            47175,
            47550,
            47550,
            47909,
            47909,
            48996,
            48310,
            48675,
            48310,
            48675,
            48996,
            49454,
            49326,
            49454,
            49326,
            47175,
            47175,
            47175,
            47175,
            47550,
            47550,
            47550,
            47550,
            47909,
            47909,
            47909,
            47909,
            48310,
            48310,
            48310,
            48310,
            48675,
            48675,
            48675,
            48675,
            48996,
            48996,
            48996,
            48996,
            49326,
            49326,
            49326,
            49326,
            49454,
            49454,
            49454,
            49558,
            49454,
            49558,
            49558,
            49558
           ]
          },
          {
           "label": "cluster linkage",
           "values": [
            3,
            3,
            3,
            3,
            3,
            3,
            3,
            3,
            3,
            3,
            3,
            3,
            3,
            3,
            3,
            3,
            3,
            3,
            3,
            3,
            3,
            3,
            3,
            3,
            3,
            3,
            3,
            3,
            3,
            3,
            3,
            3,
            2,
            2,
            2,
            2,
            2,
            2,
            2,
            2,
            2,
            2,
            2,
            2,
            2,
            2,
            2,
            2,
            2,
            2,
            2,
            2,
            2,
            2,
            2,
            2,
            2,
            2,
            2,
            2,
            2,
            2,
            2,
            2,
            1,
            1,
            1,
            1,
            1,
            1,
            1,
            1,
            1,
            1,
            1,
            1,
            1,
            1,
            1,
            1,
            1,
            1,
            1,
            1,
            1,
            1,
            1,
            1,
            1,
            1,
            1,
            1,
            1,
            1,
            1,
            1,
            4,
            4,
            4,
            4,
            4,
            4,
            4,
            4,
            4,
            4,
            4,
            4,
            4,
            4,
            4,
            4,
            4,
            4,
            4,
            4,
            4,
            4,
            4,
            4,
            4,
            4,
            4,
            4,
            4,
            4,
            4,
            4,
            4,
            4,
            4,
            4
           ]
          },
          {
           "label": "3000 to 3200<br>homogeneity score<br>",
           "values": [
            0.24167595797625768,
            0.5201896989708117,
            0.24249013077516454,
            0.5152656509044439,
            0.24084626959847302,
            0.5190628127545466,
            0.24135212740312723,
            0.5140459301176976,
            0.2401503842338645,
            0.49114586987999515,
            0.23945608936970864,
            0.48081922423843804,
            0.23950522935958543,
            0.4656961593312563,
            0.23904295232995568,
            0.4619781370318991,
            0.1765874986538815,
            0.6272074359307351,
            0.1761964333737801,
            0.6182390480522872,
            0.17682862626087043,
            0.623992925076174,
            0.17904964784624786,
            0.6232299641199455,
            0.1761408619971811,
            0.6163650588759536,
            0.17738454394786546,
            0.6109534583443104,
            0.1758326268832714,
            0.6097862078053293,
            0.17638982854641524,
            0.6077270968583474,
            0.24195539843058708,
            0.6195958522964076,
            0.24213582535940803,
            0.6159517124895214,
            0.24088846558987784,
            0.6190870638115854,
            0.2387314272773969,
            0.6117659386745536,
            0.23980339779326873,
            0.6123694025507117,
            0.24055461930454283,
            0.23989732489471555,
            0.6101051094575842,
            0.6094240836824114,
            0.24096736474010783,
            0.6071990106610244,
            0.1778013360469369,
            0.17581733390009557,
            0.6395865552277794,
            0.6381368957897745,
            0.1772121220429962,
            0.636360089535463,
            0.17815421900636288,
            0.6357550706364029,
            0.17850015921752693,
            0.6334082740623542,
            0.17830059483342298,
            0.6342115679666206,
            0.1759773371102899,
            0.6324563400046893,
            0.17850566233267637,
            0.6317642710135438,
            0.05789808219797283,
            0.05448652343734845,
            0.05800218260142527,
            0.051751923658475946,
            0.058686012331257045,
            0.05230574360691536,
            0.0583190390682531,
            0.0491665660604042,
            0.05841392945875318,
            0.04642606027962205,
            0.05604572126621841,
            0.04150733752182521,
            0.05561359339681244,
            0.03985255391102874,
            0.05765488046640158,
            0.03967769473291397,
            0.17758190708818164,
            0.05844838375470907,
            0.1775015510344495,
            0.05507022306404948,
            0.17930510202798577,
            0.055799717920657625,
            0.1799059309629366,
            0.17813887769737066,
            0.17790016832050112,
            0.053375925422504286,
            0.04887998746778362,
            0.048171150291987146,
            0.04223337326992797,
            0.17946741377765146,
            0.17955628564320453,
            0.04586048276262229,
            0.20962934502940933,
            0.6469475139302634,
            0.24204777076334527,
            0.6432487900539898,
            0.20873183841237736,
            0.6460961940479195,
            0.24222368496469882,
            0.6450784467436365,
            0.20877342048760514,
            0.6454160792368675,
            0.24159088173949037,
            0.6435250552148682,
            0.20820272804365644,
            0.6456316769788224,
            0.23931414615275978,
            0.6437087936767876,
            0.2085783146168126,
            0.6450304864537302,
            0.23845299759252858,
            0.6423028688735776,
            0.20821351002134664,
            0.6454490885187117,
            0.24221957861093313,
            0.6422185877025897,
            0.20842776396552173,
            0.6447854936568662,
            0.6409863149451844,
            0.2423842831719021,
            0.6440977582145574,
            0.2420806620090514,
            0.2084694528295876,
            0.2083550950631399,
            0.6412372632732054,
            0.6443054508723303,
            0.24250666494335868,
            0.6415652919527471
           ]
          },
          {
           "label": "3000 to 3200<br>adjusted mutual info score<br>",
           "values": [
            0.27090719668109364,
            0.5676739490142605,
            0.2704797352299801,
            0.5640129405385736,
            0.2692862975160349,
            0.5657455337384845,
            0.2704665013133737,
            0.5622462110788901,
            0.26957334547571327,
            0.5449768957759111,
            0.2680589013716895,
            0.5377630286209716,
            0.2690731016158911,
            0.525601615406606,
            0.26883410496278093,
            0.5238246368653019,
            0.20521601348269908,
            0.6386189883398862,
            0.20636010822031112,
            0.6325062093219527,
            0.20707057322051048,
            0.6363988913748846,
            0.20738346216430523,
            0.6350295102931351,
            0.20532609727869738,
            0.6288622044290672,
            0.20727770095458564,
            0.6250005917006515,
            0.20739704524730593,
            0.624066715193699,
            0.20579869002216522,
            0.6221220755183569,
            0.26831151147977184,
            0.629422504436156,
            0.26940580678616455,
            0.6285908115493102,
            0.2680732760421715,
            0.6296611706613926,
            0.2677331007972894,
            0.6233752464646506,
            0.2668817167758951,
            0.6238387217526548,
            0.2685842695340771,
            0.2681349145845382,
            0.6212631430720703,
            0.6199056297507831,
            0.26801201931382596,
            0.6180494116840081,
            0.2063333493978079,
            0.20408121740883906,
            0.6452345553426918,
            0.6440038593973748,
            0.205920709049385,
            0.6428600261726735,
            0.20666590148119296,
            0.6416251325822762,
            0.20696729271649425,
            0.6402642205488067,
            0.20735719247702422,
            0.6401261958491646,
            0.20517513071065488,
            0.6388635008118061,
            0.2074750249298335,
            0.6384657595439904,
            0.08681515480469587,
            0.08614788955682835,
            0.08686839886386195,
            0.08175003550359473,
            0.0880281747219323,
            0.08267188323946842,
            0.08753742364806126,
            0.07766048491917213,
            0.08765476625831374,
            0.0732502027019538,
            0.08425682668353753,
            0.06515394298595376,
            0.0836118961985454,
            0.06242940323383516,
            0.08663379303619481,
            0.06211241913001243,
            0.21492165563486357,
            0.09239546684617483,
            0.21578213760559387,
            0.08709533630575153,
            0.216248019898385,
            0.08833613026319664,
            0.21673316666064657,
            0.21591347771819713,
            0.21660690599548035,
            0.08450000257641387,
            0.07727017930106701,
            0.07613798323245811,
            0.06648203442462168,
            0.21681031683693316,
            0.2162423931851927,
            0.0723817656988114,
            0.23014495098758025,
            0.6532901371821169,
            0.26649384928970604,
            0.6503207836435021,
            0.22906520281184728,
            0.6517089693209352,
            0.2670707821641661,
            0.6523205941125904,
            0.2295310068896422,
            0.6515904483222337,
            0.2671555101109478,
            0.6508508749346232,
            0.22881227438028068,
            0.652115335308161,
            0.2649022614300578,
            0.6514580918998858,
            0.22856121192999687,
            0.6513128032330641,
            0.26487067381208373,
            0.6499499442546296,
            0.2287662261429334,
            0.6513509567603858,
            0.2664965240641243,
            0.6492339675661631,
            0.2284405612125653,
            0.6506248861996471,
            0.6479255958325969,
            0.2662913005072093,
            0.6498268631114018,
            0.2674960661623775,
            0.22902169592936053,
            0.22889514285943433,
            0.6481596499635638,
            0.650072356719098,
            0.2675957950500224,
            0.6484884800255595
           ]
          },
          {
           "label": "3000 to 3200<br>adjusted rand score<br>",
           "values": [
            0.4174716157962809,
            0.5072837265618262,
            0.4180210761525899,
            0.5052783618574846,
            0.4172747576365605,
            0.5066516340642326,
            0.4141318864335591,
            0.5032617886235329,
            0.41222063479635973,
            0.4890737489920649,
            0.41426434033335346,
            0.4737721838153557,
            0.41540895282765306,
            0.465339849489236,
            0.4154641152661646,
            0.4653131101741538,
            0.29812761496695445,
            0.7283759050177914,
            0.29533911573213706,
            0.7158204660101433,
            0.2930367097664523,
            0.7260179596751406,
            0.3041336586203136,
            0.7256380454955048,
            0.2991278616873084,
            0.7193650627531386,
            0.295554366507313,
            0.7159821949121642,
            0.29110304831835615,
            0.7132203694909401,
            0.2965695313478374,
            0.711376681186633,
            0.42635972572604447,
            0.7281597410423615,
            0.4217077251725658,
            0.7218940039418571,
            0.4222465439913131,
            0.7269049477539032,
            0.41271198775469486,
            0.7200525970565272,
            0.4193099389633112,
            0.7188261175590113,
            0.4172392680812861,
            0.4146970975378618,
            0.7165525140548717,
            0.7164128487162725,
            0.42029581525851123,
            0.7145598779025646,
            0.30139795306907835,
            0.29904554888393675,
            0.7405424514941856,
            0.7397703008649169,
            0.3000459440993966,
            0.7383495968464932,
            0.3008861510220405,
            0.7366795155099256,
            0.30578967676075397,
            0.7356175285711133,
            0.30118687196755023,
            0.7335841135862818,
            0.2967317782582348,
            0.7336091449546744,
            0.29874466248006476,
            0.733098521269545,
            0.022168281114275556,
            0.013679722426823155,
            0.0219680358576979,
            0.012980913271205858,
            0.022820359767815355,
            0.013129995743187857,
            0.02287849322382025,
            0.01226765268730688,
            0.022417327147564958,
            0.011519352743981628,
            0.02162063380018857,
            0.010200137763745553,
            0.021611240914013837,
            0.009742827452427633,
            0.022475437157581667,
            0.009699978431080157,
            0.26906024778307724,
            0.015690685758671635,
            0.2640157464409665,
            0.014709088724870525,
            0.26492905267894445,
            0.014933273358415058,
            0.27017252736641256,
            0.2614363962745958,
            0.2597120532025968,
            0.014226451669638027,
            0.012834011253387193,
            0.012606171339880458,
            0.010968344786024929,
            0.2688965714830326,
            0.2655199689388968,
            0.011932387519949052,
            0.38120560156651995,
            0.7511992692326551,
            0.43306062280841073,
            0.7492285219457914,
            0.3762695383344935,
            0.7507295049850802,
            0.42989800799429545,
            0.7519071422208939,
            0.37520919978008827,
            0.7493572910965898,
            0.4258457984216128,
            0.7504045176768359,
            0.37623872959458415,
            0.7495566063718528,
            0.4230090707077243,
            0.7497879369426959,
            0.3767365468764973,
            0.7483491553324784,
            0.4202518517522251,
            0.7492619184275714,
            0.3750610915914867,
            0.7485324240970315,
            0.43085913197758957,
            0.7481067019359517,
            0.3755842238189969,
            0.7483598627352621,
            0.7480207092189443,
            0.43343637067939794,
            0.7473963783975132,
            0.42880672151532173,
            0.37470220767916124,
            0.3751036454028609,
            0.7479784224673314,
            0.7478322510106703,
            0.42950933406809677,
            0.74829828017451
           ]
          },
          {
           "label": "3000 to 3200<br>f1 score<br>-weighted avg<br>",
           "values": [
            0.37927774223077754,
            0.6133292222806814,
            0.38053208256235127,
            0.6098436553151175,
            0.38017318129569444,
            0.6137889116971884,
            0.3794478383706221,
            0.6065273696262268,
            0.3780260546198556,
            0.5676191730769918,
            0.37901164509772084,
            0.5602845129006454,
            0.37847355594046206,
            0.5348857321946544,
            0.37760156339221806,
            0.5306138202446653,
            0.3241368746591036,
            0.730494541779344,
            0.3214255727020664,
            0.7214544120602233,
            0.32048758425366225,
            0.725556636085051,
            0.32531886836996465,
            0.7249211624166071,
            0.3220570567403893,
            0.715255694835949,
            0.32229779688896043,
            0.7085820618910346,
            0.3192165837973842,
            0.7084606906628248,
            0.32055376429922733,
            0.7063960566472511,
            0.38314385054716316,
            0.7282615792239646,
            0.38149075780329095,
            0.7286430250317925,
            0.38119069673980976,
            0.7318176274173599,
            0.37801545092834915,
            0.7236898026016652,
            0.3791609147841759,
            0.725077263744611,
            0.3807770125519531,
            0.3792274888498239,
            0.7217420081230227,
            0.7216652378912037,
            0.3813451469652891,
            0.7193452713740002,
            0.3249069618844746,
            0.3241324695774977,
            0.7509465034164096,
            0.749416813094163,
            0.32237325340044476,
            0.7481302729930648,
            0.3256130297616703,
            0.7468058422051993,
            0.32474725521061115,
            0.7437678084800002,
            0.32399611682085655,
            0.7449362225800179,
            0.3223941673939606,
            0.7439417791361779,
            0.32356745635583933,
            0.7437764579556466,
            0.19988013642456823,
            0.1965767635602283,
            0.20034060517740626,
            0.19248783787026827,
            0.20086753454665252,
            0.1934583420079946,
            0.20017224439498973,
            0.18888978719068295,
            0.20046815364502996,
            0.18497903266783536,
            0.19728428817300656,
            0.17757119239301886,
            0.19632416414282725,
            0.17523589872350873,
            0.1994075491144677,
            0.17505318005179513,
            0.3211966285907769,
            0.202184576389544,
            0.3198488700563774,
            0.19742408907450526,
            0.3220445999670154,
            0.1986396412940342,
            0.3228601792353133,
            0.3219041872286938,
            0.32171108638388984,
            0.1949475786364508,
            0.18814664953721214,
            0.18707646858204907,
            0.17838747988368198,
            0.3216138353290821,
            0.32312462575985795,
            0.18367130141861185,
            0.36448843025081057,
            0.760001780285447,
            0.3853341779017943,
            0.7543324026977014,
            0.36543762313886724,
            0.7594601305592238,
            0.38526113820246816,
            0.7553990544568949,
            0.3632890193302339,
            0.7585043238640025,
            0.3844403432272022,
            0.7546088943715833,
            0.3646250205723391,
            0.7589286984077995,
            0.3825539076599163,
            0.7546220806574023,
            0.3649575260691861,
            0.7580634517660593,
            0.3816142233128481,
            0.7526805568762028,
            0.3632534559107431,
            0.7589693139521114,
            0.38590129722444705,
            0.7527475917991702,
            0.3636655172674646,
            0.7580784545960724,
            0.7518419388049679,
            0.38626887388835673,
            0.7579415205615722,
            0.38508802623818733,
            0.3627945453007402,
            0.36293120230685455,
            0.751848609443138,
            0.7584200901441419,
            0.3862071776705289,
            0.7521416771946603
           ]
          }
         ],
         "domain": {
          "x": [
           0,
           1
          ],
          "y": [
           0,
           1
          ]
         },
         "line": {
          "color": [
           0.37927774223077754,
           0.6133292222806814,
           0.38053208256235127,
           0.6098436553151175,
           0.38017318129569444,
           0.6137889116971884,
           0.3794478383706221,
           0.6065273696262268,
           0.3780260546198556,
           0.5676191730769918,
           0.37901164509772084,
           0.5602845129006454,
           0.37847355594046206,
           0.5348857321946544,
           0.37760156339221806,
           0.5306138202446653,
           0.3241368746591036,
           0.730494541779344,
           0.3214255727020664,
           0.7214544120602233,
           0.32048758425366225,
           0.725556636085051,
           0.32531886836996465,
           0.7249211624166071,
           0.3220570567403893,
           0.715255694835949,
           0.32229779688896043,
           0.7085820618910346,
           0.3192165837973842,
           0.7084606906628248,
           0.32055376429922733,
           0.7063960566472511,
           0.38314385054716316,
           0.7282615792239646,
           0.38149075780329095,
           0.7286430250317925,
           0.38119069673980976,
           0.7318176274173599,
           0.37801545092834915,
           0.7236898026016652,
           0.3791609147841759,
           0.725077263744611,
           0.3807770125519531,
           0.3792274888498239,
           0.7217420081230227,
           0.7216652378912037,
           0.3813451469652891,
           0.7193452713740002,
           0.3249069618844746,
           0.3241324695774977,
           0.7509465034164096,
           0.749416813094163,
           0.32237325340044476,
           0.7481302729930648,
           0.3256130297616703,
           0.7468058422051993,
           0.32474725521061115,
           0.7437678084800002,
           0.32399611682085655,
           0.7449362225800179,
           0.3223941673939606,
           0.7439417791361779,
           0.32356745635583933,
           0.7437764579556466,
           0.19988013642456823,
           0.1965767635602283,
           0.20034060517740626,
           0.19248783787026827,
           0.20086753454665252,
           0.1934583420079946,
           0.20017224439498973,
           0.18888978719068295,
           0.20046815364502996,
           0.18497903266783536,
           0.19728428817300656,
           0.17757119239301886,
           0.19632416414282725,
           0.17523589872350873,
           0.1994075491144677,
           0.17505318005179513,
           0.3211966285907769,
           0.202184576389544,
           0.3198488700563774,
           0.19742408907450526,
           0.3220445999670154,
           0.1986396412940342,
           0.3228601792353133,
           0.3219041872286938,
           0.32171108638388984,
           0.1949475786364508,
           0.18814664953721214,
           0.18707646858204907,
           0.17838747988368198,
           0.3216138353290821,
           0.32312462575985795,
           0.18367130141861185,
           0.36448843025081057,
           0.760001780285447,
           0.3853341779017943,
           0.7543324026977014,
           0.36543762313886724,
           0.7594601305592238,
           0.38526113820246816,
           0.7553990544568949,
           0.3632890193302339,
           0.7585043238640025,
           0.3844403432272022,
           0.7546088943715833,
           0.3646250205723391,
           0.7589286984077995,
           0.3825539076599163,
           0.7546220806574023,
           0.3649575260691861,
           0.7580634517660593,
           0.3816142233128481,
           0.7526805568762028,
           0.3632534559107431,
           0.7589693139521114,
           0.38590129722444705,
           0.7527475917991702,
           0.3636655172674646,
           0.7580784545960724,
           0.7518419388049679,
           0.38626887388835673,
           0.7579415205615722,
           0.38508802623818733,
           0.3627945453007402,
           0.36293120230685455,
           0.751848609443138,
           0.7584200901441419,
           0.3862071776705289,
           0.7521416771946603
          ],
          "coloraxis": "coloraxis"
         },
         "name": "",
         "type": "parcoords"
        }
       ],
       "layout": {
        "coloraxis": {
         "colorbar": {
          "title": {
           "text": "3000 to 3200<br>f1 score<br>-weighted avg<br>"
          }
         },
         "colorscale": [
          [
           0,
           "#0d0887"
          ],
          [
           0.1111111111111111,
           "#46039f"
          ],
          [
           0.2222222222222222,
           "#7201a8"
          ],
          [
           0.3333333333333333,
           "#9c179e"
          ],
          [
           0.4444444444444444,
           "#bd3786"
          ],
          [
           0.5555555555555556,
           "#d8576b"
          ],
          [
           0.6666666666666666,
           "#ed7953"
          ],
          [
           0.7777777777777778,
           "#fb9f3a"
          ],
          [
           0.8888888888888888,
           "#fdca26"
          ],
          [
           1,
           "#f0f921"
          ]
         ]
        },
        "legend": {
         "tracegroupgap": 0
        },
        "margin": {
         "t": 60
        },
        "template": {
         "data": {
          "bar": [
           {
            "error_x": {
             "color": "#2a3f5f"
            },
            "error_y": {
             "color": "#2a3f5f"
            },
            "marker": {
             "line": {
              "color": "#E5ECF6",
              "width": 0.5
             }
            },
            "type": "bar"
           }
          ],
          "barpolar": [
           {
            "marker": {
             "line": {
              "color": "#E5ECF6",
              "width": 0.5
             }
            },
            "type": "barpolar"
           }
          ],
          "carpet": [
           {
            "aaxis": {
             "endlinecolor": "#2a3f5f",
             "gridcolor": "white",
             "linecolor": "white",
             "minorgridcolor": "white",
             "startlinecolor": "#2a3f5f"
            },
            "baxis": {
             "endlinecolor": "#2a3f5f",
             "gridcolor": "white",
             "linecolor": "white",
             "minorgridcolor": "white",
             "startlinecolor": "#2a3f5f"
            },
            "type": "carpet"
           }
          ],
          "choropleth": [
           {
            "colorbar": {
             "outlinewidth": 0,
             "ticks": ""
            },
            "type": "choropleth"
           }
          ],
          "contour": [
           {
            "colorbar": {
             "outlinewidth": 0,
             "ticks": ""
            },
            "colorscale": [
             [
              0,
              "#0d0887"
             ],
             [
              0.1111111111111111,
              "#46039f"
             ],
             [
              0.2222222222222222,
              "#7201a8"
             ],
             [
              0.3333333333333333,
              "#9c179e"
             ],
             [
              0.4444444444444444,
              "#bd3786"
             ],
             [
              0.5555555555555556,
              "#d8576b"
             ],
             [
              0.6666666666666666,
              "#ed7953"
             ],
             [
              0.7777777777777778,
              "#fb9f3a"
             ],
             [
              0.8888888888888888,
              "#fdca26"
             ],
             [
              1,
              "#f0f921"
             ]
            ],
            "type": "contour"
           }
          ],
          "contourcarpet": [
           {
            "colorbar": {
             "outlinewidth": 0,
             "ticks": ""
            },
            "type": "contourcarpet"
           }
          ],
          "heatmap": [
           {
            "colorbar": {
             "outlinewidth": 0,
             "ticks": ""
            },
            "colorscale": [
             [
              0,
              "#0d0887"
             ],
             [
              0.1111111111111111,
              "#46039f"
             ],
             [
              0.2222222222222222,
              "#7201a8"
             ],
             [
              0.3333333333333333,
              "#9c179e"
             ],
             [
              0.4444444444444444,
              "#bd3786"
             ],
             [
              0.5555555555555556,
              "#d8576b"
             ],
             [
              0.6666666666666666,
              "#ed7953"
             ],
             [
              0.7777777777777778,
              "#fb9f3a"
             ],
             [
              0.8888888888888888,
              "#fdca26"
             ],
             [
              1,
              "#f0f921"
             ]
            ],
            "type": "heatmap"
           }
          ],
          "heatmapgl": [
           {
            "colorbar": {
             "outlinewidth": 0,
             "ticks": ""
            },
            "colorscale": [
             [
              0,
              "#0d0887"
             ],
             [
              0.1111111111111111,
              "#46039f"
             ],
             [
              0.2222222222222222,
              "#7201a8"
             ],
             [
              0.3333333333333333,
              "#9c179e"
             ],
             [
              0.4444444444444444,
              "#bd3786"
             ],
             [
              0.5555555555555556,
              "#d8576b"
             ],
             [
              0.6666666666666666,
              "#ed7953"
             ],
             [
              0.7777777777777778,
              "#fb9f3a"
             ],
             [
              0.8888888888888888,
              "#fdca26"
             ],
             [
              1,
              "#f0f921"
             ]
            ],
            "type": "heatmapgl"
           }
          ],
          "histogram": [
           {
            "marker": {
             "colorbar": {
              "outlinewidth": 0,
              "ticks": ""
             }
            },
            "type": "histogram"
           }
          ],
          "histogram2d": [
           {
            "colorbar": {
             "outlinewidth": 0,
             "ticks": ""
            },
            "colorscale": [
             [
              0,
              "#0d0887"
             ],
             [
              0.1111111111111111,
              "#46039f"
             ],
             [
              0.2222222222222222,
              "#7201a8"
             ],
             [
              0.3333333333333333,
              "#9c179e"
             ],
             [
              0.4444444444444444,
              "#bd3786"
             ],
             [
              0.5555555555555556,
              "#d8576b"
             ],
             [
              0.6666666666666666,
              "#ed7953"
             ],
             [
              0.7777777777777778,
              "#fb9f3a"
             ],
             [
              0.8888888888888888,
              "#fdca26"
             ],
             [
              1,
              "#f0f921"
             ]
            ],
            "type": "histogram2d"
           }
          ],
          "histogram2dcontour": [
           {
            "colorbar": {
             "outlinewidth": 0,
             "ticks": ""
            },
            "colorscale": [
             [
              0,
              "#0d0887"
             ],
             [
              0.1111111111111111,
              "#46039f"
             ],
             [
              0.2222222222222222,
              "#7201a8"
             ],
             [
              0.3333333333333333,
              "#9c179e"
             ],
             [
              0.4444444444444444,
              "#bd3786"
             ],
             [
              0.5555555555555556,
              "#d8576b"
             ],
             [
              0.6666666666666666,
              "#ed7953"
             ],
             [
              0.7777777777777778,
              "#fb9f3a"
             ],
             [
              0.8888888888888888,
              "#fdca26"
             ],
             [
              1,
              "#f0f921"
             ]
            ],
            "type": "histogram2dcontour"
           }
          ],
          "mesh3d": [
           {
            "colorbar": {
             "outlinewidth": 0,
             "ticks": ""
            },
            "type": "mesh3d"
           }
          ],
          "parcoords": [
           {
            "line": {
             "colorbar": {
              "outlinewidth": 0,
              "ticks": ""
             }
            },
            "type": "parcoords"
           }
          ],
          "pie": [
           {
            "automargin": true,
            "type": "pie"
           }
          ],
          "scatter": [
           {
            "marker": {
             "colorbar": {
              "outlinewidth": 0,
              "ticks": ""
             }
            },
            "type": "scatter"
           }
          ],
          "scatter3d": [
           {
            "line": {
             "colorbar": {
              "outlinewidth": 0,
              "ticks": ""
             }
            },
            "marker": {
             "colorbar": {
              "outlinewidth": 0,
              "ticks": ""
             }
            },
            "type": "scatter3d"
           }
          ],
          "scattercarpet": [
           {
            "marker": {
             "colorbar": {
              "outlinewidth": 0,
              "ticks": ""
             }
            },
            "type": "scattercarpet"
           }
          ],
          "scattergeo": [
           {
            "marker": {
             "colorbar": {
              "outlinewidth": 0,
              "ticks": ""
             }
            },
            "type": "scattergeo"
           }
          ],
          "scattergl": [
           {
            "marker": {
             "colorbar": {
              "outlinewidth": 0,
              "ticks": ""
             }
            },
            "type": "scattergl"
           }
          ],
          "scattermapbox": [
           {
            "marker": {
             "colorbar": {
              "outlinewidth": 0,
              "ticks": ""
             }
            },
            "type": "scattermapbox"
           }
          ],
          "scatterpolar": [
           {
            "marker": {
             "colorbar": {
              "outlinewidth": 0,
              "ticks": ""
             }
            },
            "type": "scatterpolar"
           }
          ],
          "scatterpolargl": [
           {
            "marker": {
             "colorbar": {
              "outlinewidth": 0,
              "ticks": ""
             }
            },
            "type": "scatterpolargl"
           }
          ],
          "scatterternary": [
           {
            "marker": {
             "colorbar": {
              "outlinewidth": 0,
              "ticks": ""
             }
            },
            "type": "scatterternary"
           }
          ],
          "surface": [
           {
            "colorbar": {
             "outlinewidth": 0,
             "ticks": ""
            },
            "colorscale": [
             [
              0,
              "#0d0887"
             ],
             [
              0.1111111111111111,
              "#46039f"
             ],
             [
              0.2222222222222222,
              "#7201a8"
             ],
             [
              0.3333333333333333,
              "#9c179e"
             ],
             [
              0.4444444444444444,
              "#bd3786"
             ],
             [
              0.5555555555555556,
              "#d8576b"
             ],
             [
              0.6666666666666666,
              "#ed7953"
             ],
             [
              0.7777777777777778,
              "#fb9f3a"
             ],
             [
              0.8888888888888888,
              "#fdca26"
             ],
             [
              1,
              "#f0f921"
             ]
            ],
            "type": "surface"
           }
          ],
          "table": [
           {
            "cells": {
             "fill": {
              "color": "#EBF0F8"
             },
             "line": {
              "color": "white"
             }
            },
            "header": {
             "fill": {
              "color": "#C8D4E3"
             },
             "line": {
              "color": "white"
             }
            },
            "type": "table"
           }
          ]
         },
         "layout": {
          "annotationdefaults": {
           "arrowcolor": "#2a3f5f",
           "arrowhead": 0,
           "arrowwidth": 1
          },
          "autotypenumbers": "strict",
          "coloraxis": {
           "colorbar": {
            "outlinewidth": 0,
            "ticks": ""
           }
          },
          "colorscale": {
           "diverging": [
            [
             0,
             "#8e0152"
            ],
            [
             0.1,
             "#c51b7d"
            ],
            [
             0.2,
             "#de77ae"
            ],
            [
             0.3,
             "#f1b6da"
            ],
            [
             0.4,
             "#fde0ef"
            ],
            [
             0.5,
             "#f7f7f7"
            ],
            [
             0.6,
             "#e6f5d0"
            ],
            [
             0.7,
             "#b8e186"
            ],
            [
             0.8,
             "#7fbc41"
            ],
            [
             0.9,
             "#4d9221"
            ],
            [
             1,
             "#276419"
            ]
           ],
           "sequential": [
            [
             0,
             "#0d0887"
            ],
            [
             0.1111111111111111,
             "#46039f"
            ],
            [
             0.2222222222222222,
             "#7201a8"
            ],
            [
             0.3333333333333333,
             "#9c179e"
            ],
            [
             0.4444444444444444,
             "#bd3786"
            ],
            [
             0.5555555555555556,
             "#d8576b"
            ],
            [
             0.6666666666666666,
             "#ed7953"
            ],
            [
             0.7777777777777778,
             "#fb9f3a"
            ],
            [
             0.8888888888888888,
             "#fdca26"
            ],
            [
             1,
             "#f0f921"
            ]
           ],
           "sequentialminus": [
            [
             0,
             "#0d0887"
            ],
            [
             0.1111111111111111,
             "#46039f"
            ],
            [
             0.2222222222222222,
             "#7201a8"
            ],
            [
             0.3333333333333333,
             "#9c179e"
            ],
            [
             0.4444444444444444,
             "#bd3786"
            ],
            [
             0.5555555555555556,
             "#d8576b"
            ],
            [
             0.6666666666666666,
             "#ed7953"
            ],
            [
             0.7777777777777778,
             "#fb9f3a"
            ],
            [
             0.8888888888888888,
             "#fdca26"
            ],
            [
             1,
             "#f0f921"
            ]
           ]
          },
          "colorway": [
           "#636efa",
           "#EF553B",
           "#00cc96",
           "#ab63fa",
           "#FFA15A",
           "#19d3f3",
           "#FF6692",
           "#B6E880",
           "#FF97FF",
           "#FECB52"
          ],
          "font": {
           "color": "#2a3f5f"
          },
          "geo": {
           "bgcolor": "white",
           "lakecolor": "white",
           "landcolor": "#E5ECF6",
           "showlakes": true,
           "showland": true,
           "subunitcolor": "white"
          },
          "hoverlabel": {
           "align": "left"
          },
          "hovermode": "closest",
          "mapbox": {
           "style": "light"
          },
          "paper_bgcolor": "white",
          "plot_bgcolor": "#E5ECF6",
          "polar": {
           "angularaxis": {
            "gridcolor": "white",
            "linecolor": "white",
            "ticks": ""
           },
           "bgcolor": "#E5ECF6",
           "radialaxis": {
            "gridcolor": "white",
            "linecolor": "white",
            "ticks": ""
           }
          },
          "scene": {
           "xaxis": {
            "backgroundcolor": "#E5ECF6",
            "gridcolor": "white",
            "gridwidth": 2,
            "linecolor": "white",
            "showbackground": true,
            "ticks": "",
            "zerolinecolor": "white"
           },
           "yaxis": {
            "backgroundcolor": "#E5ECF6",
            "gridcolor": "white",
            "gridwidth": 2,
            "linecolor": "white",
            "showbackground": true,
            "ticks": "",
            "zerolinecolor": "white"
           },
           "zaxis": {
            "backgroundcolor": "#E5ECF6",
            "gridcolor": "white",
            "gridwidth": 2,
            "linecolor": "white",
            "showbackground": true,
            "ticks": "",
            "zerolinecolor": "white"
           }
          },
          "shapedefaults": {
           "line": {
            "color": "#2a3f5f"
           }
          },
          "ternary": {
           "aaxis": {
            "gridcolor": "white",
            "linecolor": "white",
            "ticks": ""
           },
           "baxis": {
            "gridcolor": "white",
            "linecolor": "white",
            "ticks": ""
           },
           "bgcolor": "#E5ECF6",
           "caxis": {
            "gridcolor": "white",
            "linecolor": "white",
            "ticks": ""
           }
          },
          "title": {
           "x": 0.05
          },
          "xaxis": {
           "automargin": true,
           "gridcolor": "white",
           "linecolor": "white",
           "ticks": "",
           "title": {
            "standoff": 15
           },
           "zerolinecolor": "white",
           "zerolinewidth": 2
          },
          "yaxis": {
           "automargin": true,
           "gridcolor": "white",
           "linecolor": "white",
           "ticks": "",
           "title": {
            "standoff": 15
           },
           "zerolinecolor": "white",
           "zerolinewidth": 2
          }
         }
        }
       }
      },
      "text/html": [
       "<div>                            <div id=\"69ec1f7c-58cf-4c6e-bbc8-63ee14165473\" class=\"plotly-graph-div\" style=\"height:525px; width:100%;\"></div>            <script type=\"text/javascript\">                require([\"plotly\"], function(Plotly) {                    window.PLOTLYENV=window.PLOTLYENV || {};                                    if (document.getElementById(\"69ec1f7c-58cf-4c6e-bbc8-63ee14165473\")) {                    Plotly.newPlot(                        \"69ec1f7c-58cf-4c6e-bbc8-63ee14165473\",                        [{\"dimensions\": [{\"label\": \"subreddits\", \"values\": [47175.0, 47175.0, 47550.0, 47550.0, 47909.0, 47909.0, 48310.0, 48310.0, 48675.0, 48675.0, 48996.0, 48996.0, 49326.0, 49326.0, 49454.0, 49454.0, 47175.0, 47175.0, 47550.0, 47550.0, 47909.0, 47909.0, 48310.0, 48310.0, 48675.0, 48675.0, 48996.0, 48996.0, 49326.0, 49326.0, 49454.0, 49454.0, 47175.0, 47175.0, 47550.0, 47550.0, 47909.0, 47909.0, 48310.0, 48310.0, 48675.0, 48675.0, 48996.0, 49326.0, 48996.0, 49326.0, 49454.0, 49454.0, 47550.0, 47175.0, 47175.0, 47550.0, 47909.0, 47909.0, 48310.0, 48310.0, 48675.0, 48675.0, 48996.0, 48996.0, 49326.0, 49326.0, 49454.0, 49454.0, 47175.0, 47175.0, 47550.0, 47550.0, 47909.0, 47909.0, 48310.0, 48310.0, 48675.0, 48675.0, 48996.0, 48996.0, 49326.0, 49326.0, 49454.0, 49454.0, 47175.0, 47175.0, 47550.0, 47550.0, 47909.0, 47909.0, 48996.0, 48310.0, 48675.0, 48310.0, 48675.0, 48996.0, 49454.0, 49326.0, 49454.0, 49326.0, 47175.0, 47175.0, 47175.0, 47175.0, 47550.0, 47550.0, 47550.0, 47550.0, 47909.0, 47909.0, 47909.0, 47909.0, 48310.0, 48310.0, 48310.0, 48310.0, 48675.0, 48675.0, 48675.0, 48675.0, 48996.0, 48996.0, 48996.0, 48996.0, 49326.0, 49326.0, 49326.0, 49326.0, 49454.0, 49454.0, 49454.0, 49558.0, 49454.0, 49558.0, 49558.0, 49558.0]}, {\"label\": \"cluster linkage\", \"values\": [3, 3, 3, 3, 3, 3, 3, 3, 3, 3, 3, 3, 3, 3, 3, 3, 3, 3, 3, 3, 3, 3, 3, 3, 3, 3, 3, 3, 3, 3, 3, 3, 2, 2, 2, 2, 2, 2, 2, 2, 2, 2, 2, 2, 2, 2, 2, 2, 2, 2, 2, 2, 2, 2, 2, 2, 2, 2, 2, 2, 2, 2, 2, 2, 1, 1, 1, 1, 1, 1, 1, 1, 1, 1, 1, 1, 1, 1, 1, 1, 1, 1, 1, 1, 1, 1, 1, 1, 1, 1, 1, 1, 1, 1, 1, 1, 4, 4, 4, 4, 4, 4, 4, 4, 4, 4, 4, 4, 4, 4, 4, 4, 4, 4, 4, 4, 4, 4, 4, 4, 4, 4, 4, 4, 4, 4, 4, 4, 4, 4, 4, 4]}, {\"label\": \"3000 to 3200<br>homogeneity score<br>\", \"values\": [0.24167595797625768, 0.5201896989708117, 0.24249013077516454, 0.5152656509044439, 0.24084626959847302, 0.5190628127545466, 0.24135212740312723, 0.5140459301176976, 0.2401503842338645, 0.49114586987999515, 0.23945608936970864, 0.48081922423843804, 0.23950522935958543, 0.4656961593312563, 0.23904295232995568, 0.4619781370318991, 0.1765874986538815, 0.6272074359307351, 0.1761964333737801, 0.6182390480522872, 0.17682862626087043, 0.623992925076174, 0.17904964784624786, 0.6232299641199455, 0.1761408619971811, 0.6163650588759536, 0.17738454394786546, 0.6109534583443104, 0.1758326268832714, 0.6097862078053293, 0.17638982854641524, 0.6077270968583474, 0.24195539843058708, 0.6195958522964076, 0.24213582535940803, 0.6159517124895214, 0.24088846558987784, 0.6190870638115854, 0.2387314272773969, 0.6117659386745536, 0.23980339779326873, 0.6123694025507117, 0.24055461930454283, 0.23989732489471555, 0.6101051094575842, 0.6094240836824114, 0.24096736474010783, 0.6071990106610244, 0.1778013360469369, 0.17581733390009557, 0.6395865552277794, 0.6381368957897745, 0.1772121220429962, 0.636360089535463, 0.17815421900636288, 0.6357550706364029, 0.17850015921752693, 0.6334082740623542, 0.17830059483342298, 0.6342115679666206, 0.1759773371102899, 0.6324563400046893, 0.17850566233267637, 0.6317642710135438, 0.05789808219797283, 0.05448652343734845, 0.05800218260142527, 0.051751923658475946, 0.058686012331257045, 0.05230574360691536, 0.0583190390682531, 0.0491665660604042, 0.05841392945875318, 0.04642606027962205, 0.05604572126621841, 0.04150733752182521, 0.05561359339681244, 0.03985255391102874, 0.05765488046640158, 0.03967769473291397, 0.17758190708818164, 0.05844838375470907, 0.1775015510344495, 0.05507022306404948, 0.17930510202798577, 0.055799717920657625, 0.1799059309629366, 0.17813887769737066, 0.17790016832050112, 0.053375925422504286, 0.04887998746778362, 0.048171150291987146, 0.04223337326992797, 0.17946741377765146, 0.17955628564320453, 0.04586048276262229, 0.20962934502940933, 0.6469475139302634, 0.24204777076334527, 0.6432487900539898, 0.20873183841237736, 0.6460961940479195, 0.24222368496469882, 0.6450784467436365, 0.20877342048760514, 0.6454160792368675, 0.24159088173949037, 0.6435250552148682, 0.20820272804365644, 0.6456316769788224, 0.23931414615275978, 0.6437087936767876, 0.2085783146168126, 0.6450304864537302, 0.23845299759252858, 0.6423028688735776, 0.20821351002134664, 0.6454490885187117, 0.24221957861093313, 0.6422185877025897, 0.20842776396552173, 0.6447854936568662, 0.6409863149451844, 0.2423842831719021, 0.6440977582145574, 0.2420806620090514, 0.2084694528295876, 0.2083550950631399, 0.6412372632732054, 0.6443054508723303, 0.24250666494335868, 0.6415652919527471]}, {\"label\": \"3000 to 3200<br>adjusted mutual info score<br>\", \"values\": [0.27090719668109364, 0.5676739490142605, 0.2704797352299801, 0.5640129405385736, 0.2692862975160349, 0.5657455337384845, 0.2704665013133737, 0.5622462110788901, 0.26957334547571327, 0.5449768957759111, 0.2680589013716895, 0.5377630286209716, 0.2690731016158911, 0.525601615406606, 0.26883410496278093, 0.5238246368653019, 0.20521601348269908, 0.6386189883398862, 0.20636010822031112, 0.6325062093219527, 0.20707057322051048, 0.6363988913748846, 0.20738346216430523, 0.6350295102931351, 0.20532609727869738, 0.6288622044290672, 0.20727770095458564, 0.6250005917006515, 0.20739704524730593, 0.624066715193699, 0.20579869002216522, 0.6221220755183569, 0.26831151147977184, 0.629422504436156, 0.26940580678616455, 0.6285908115493102, 0.2680732760421715, 0.6296611706613926, 0.2677331007972894, 0.6233752464646506, 0.2668817167758951, 0.6238387217526548, 0.2685842695340771, 0.2681349145845382, 0.6212631430720703, 0.6199056297507831, 0.26801201931382596, 0.6180494116840081, 0.2063333493978079, 0.20408121740883906, 0.6452345553426918, 0.6440038593973748, 0.205920709049385, 0.6428600261726735, 0.20666590148119296, 0.6416251325822762, 0.20696729271649425, 0.6402642205488067, 0.20735719247702422, 0.6401261958491646, 0.20517513071065488, 0.6388635008118061, 0.2074750249298335, 0.6384657595439904, 0.08681515480469587, 0.08614788955682835, 0.08686839886386195, 0.08175003550359473, 0.0880281747219323, 0.08267188323946842, 0.08753742364806126, 0.07766048491917213, 0.08765476625831374, 0.0732502027019538, 0.08425682668353753, 0.06515394298595376, 0.0836118961985454, 0.06242940323383516, 0.08663379303619481, 0.06211241913001243, 0.21492165563486357, 0.09239546684617483, 0.21578213760559387, 0.08709533630575153, 0.216248019898385, 0.08833613026319664, 0.21673316666064657, 0.21591347771819713, 0.21660690599548035, 0.08450000257641387, 0.07727017930106701, 0.07613798323245811, 0.06648203442462168, 0.21681031683693316, 0.2162423931851927, 0.0723817656988114, 0.23014495098758025, 0.6532901371821169, 0.26649384928970604, 0.6503207836435021, 0.22906520281184728, 0.6517089693209352, 0.2670707821641661, 0.6523205941125904, 0.2295310068896422, 0.6515904483222337, 0.2671555101109478, 0.6508508749346232, 0.22881227438028068, 0.652115335308161, 0.2649022614300578, 0.6514580918998858, 0.22856121192999687, 0.6513128032330641, 0.26487067381208373, 0.6499499442546296, 0.2287662261429334, 0.6513509567603858, 0.2664965240641243, 0.6492339675661631, 0.2284405612125653, 0.6506248861996471, 0.6479255958325969, 0.2662913005072093, 0.6498268631114018, 0.2674960661623775, 0.22902169592936053, 0.22889514285943433, 0.6481596499635638, 0.650072356719098, 0.2675957950500224, 0.6484884800255595]}, {\"label\": \"3000 to 3200<br>adjusted rand score<br>\", \"values\": [0.4174716157962809, 0.5072837265618262, 0.4180210761525899, 0.5052783618574846, 0.4172747576365605, 0.5066516340642326, 0.4141318864335591, 0.5032617886235329, 0.41222063479635973, 0.4890737489920649, 0.41426434033335346, 0.4737721838153557, 0.41540895282765306, 0.465339849489236, 0.4154641152661646, 0.4653131101741538, 0.29812761496695445, 0.7283759050177914, 0.29533911573213706, 0.7158204660101433, 0.2930367097664523, 0.7260179596751406, 0.3041336586203136, 0.7256380454955048, 0.2991278616873084, 0.7193650627531386, 0.295554366507313, 0.7159821949121642, 0.29110304831835615, 0.7132203694909401, 0.2965695313478374, 0.711376681186633, 0.42635972572604447, 0.7281597410423615, 0.4217077251725658, 0.7218940039418571, 0.4222465439913131, 0.7269049477539032, 0.41271198775469486, 0.7200525970565272, 0.4193099389633112, 0.7188261175590113, 0.4172392680812861, 0.4146970975378618, 0.7165525140548717, 0.7164128487162725, 0.42029581525851123, 0.7145598779025646, 0.30139795306907835, 0.29904554888393675, 0.7405424514941856, 0.7397703008649169, 0.3000459440993966, 0.7383495968464932, 0.3008861510220405, 0.7366795155099256, 0.30578967676075397, 0.7356175285711133, 0.30118687196755023, 0.7335841135862818, 0.2967317782582348, 0.7336091449546744, 0.29874466248006476, 0.733098521269545, 0.022168281114275556, 0.013679722426823155, 0.0219680358576979, 0.012980913271205858, 0.022820359767815355, 0.013129995743187857, 0.02287849322382025, 0.01226765268730688, 0.022417327147564958, 0.011519352743981628, 0.02162063380018857, 0.010200137763745553, 0.021611240914013837, 0.009742827452427633, 0.022475437157581667, 0.009699978431080157, 0.26906024778307724, 0.015690685758671635, 0.2640157464409665, 0.014709088724870525, 0.26492905267894445, 0.014933273358415058, 0.27017252736641256, 0.2614363962745958, 0.2597120532025968, 0.014226451669638027, 0.012834011253387193, 0.012606171339880458, 0.010968344786024929, 0.2688965714830326, 0.2655199689388968, 0.011932387519949052, 0.38120560156651995, 0.7511992692326551, 0.43306062280841073, 0.7492285219457914, 0.3762695383344935, 0.7507295049850802, 0.42989800799429545, 0.7519071422208939, 0.37520919978008827, 0.7493572910965898, 0.4258457984216128, 0.7504045176768359, 0.37623872959458415, 0.7495566063718528, 0.4230090707077243, 0.7497879369426959, 0.3767365468764973, 0.7483491553324784, 0.4202518517522251, 0.7492619184275714, 0.3750610915914867, 0.7485324240970315, 0.43085913197758957, 0.7481067019359517, 0.3755842238189969, 0.7483598627352621, 0.7480207092189443, 0.43343637067939794, 0.7473963783975132, 0.42880672151532173, 0.37470220767916124, 0.3751036454028609, 0.7479784224673314, 0.7478322510106703, 0.42950933406809677, 0.74829828017451]}, {\"label\": \"3000 to 3200<br>f1 score<br>-weighted avg<br>\", \"values\": [0.37927774223077754, 0.6133292222806814, 0.38053208256235127, 0.6098436553151175, 0.38017318129569444, 0.6137889116971884, 0.3794478383706221, 0.6065273696262268, 0.3780260546198556, 0.5676191730769918, 0.37901164509772084, 0.5602845129006454, 0.37847355594046206, 0.5348857321946544, 0.37760156339221806, 0.5306138202446653, 0.3241368746591036, 0.730494541779344, 0.3214255727020664, 0.7214544120602233, 0.32048758425366225, 0.725556636085051, 0.32531886836996465, 0.7249211624166071, 0.3220570567403893, 0.715255694835949, 0.32229779688896043, 0.7085820618910346, 0.3192165837973842, 0.7084606906628248, 0.32055376429922733, 0.7063960566472511, 0.38314385054716316, 0.7282615792239646, 0.38149075780329095, 0.7286430250317925, 0.38119069673980976, 0.7318176274173599, 0.37801545092834915, 0.7236898026016652, 0.3791609147841759, 0.725077263744611, 0.3807770125519531, 0.3792274888498239, 0.7217420081230227, 0.7216652378912037, 0.3813451469652891, 0.7193452713740002, 0.3249069618844746, 0.3241324695774977, 0.7509465034164096, 0.749416813094163, 0.32237325340044476, 0.7481302729930648, 0.3256130297616703, 0.7468058422051993, 0.32474725521061115, 0.7437678084800002, 0.32399611682085655, 0.7449362225800179, 0.3223941673939606, 0.7439417791361779, 0.32356745635583933, 0.7437764579556466, 0.19988013642456823, 0.1965767635602283, 0.20034060517740626, 0.19248783787026827, 0.20086753454665252, 0.1934583420079946, 0.20017224439498973, 0.18888978719068295, 0.20046815364502996, 0.18497903266783536, 0.19728428817300656, 0.17757119239301886, 0.19632416414282725, 0.17523589872350873, 0.1994075491144677, 0.17505318005179513, 0.3211966285907769, 0.202184576389544, 0.3198488700563774, 0.19742408907450526, 0.3220445999670154, 0.1986396412940342, 0.3228601792353133, 0.3219041872286938, 0.32171108638388984, 0.1949475786364508, 0.18814664953721214, 0.18707646858204907, 0.17838747988368198, 0.3216138353290821, 0.32312462575985795, 0.18367130141861185, 0.36448843025081057, 0.760001780285447, 0.3853341779017943, 0.7543324026977014, 0.36543762313886724, 0.7594601305592238, 0.38526113820246816, 0.7553990544568949, 0.3632890193302339, 0.7585043238640025, 0.3844403432272022, 0.7546088943715833, 0.3646250205723391, 0.7589286984077995, 0.3825539076599163, 0.7546220806574023, 0.3649575260691861, 0.7580634517660593, 0.3816142233128481, 0.7526805568762028, 0.3632534559107431, 0.7589693139521114, 0.38590129722444705, 0.7527475917991702, 0.3636655172674646, 0.7580784545960724, 0.7518419388049679, 0.38626887388835673, 0.7579415205615722, 0.38508802623818733, 0.3627945453007402, 0.36293120230685455, 0.751848609443138, 0.7584200901441419, 0.3862071776705289, 0.7521416771946603]}], \"domain\": {\"x\": [0.0, 1.0], \"y\": [0.0, 1.0]}, \"line\": {\"color\": [0.37927774223077754, 0.6133292222806814, 0.38053208256235127, 0.6098436553151175, 0.38017318129569444, 0.6137889116971884, 0.3794478383706221, 0.6065273696262268, 0.3780260546198556, 0.5676191730769918, 0.37901164509772084, 0.5602845129006454, 0.37847355594046206, 0.5348857321946544, 0.37760156339221806, 0.5306138202446653, 0.3241368746591036, 0.730494541779344, 0.3214255727020664, 0.7214544120602233, 0.32048758425366225, 0.725556636085051, 0.32531886836996465, 0.7249211624166071, 0.3220570567403893, 0.715255694835949, 0.32229779688896043, 0.7085820618910346, 0.3192165837973842, 0.7084606906628248, 0.32055376429922733, 0.7063960566472511, 0.38314385054716316, 0.7282615792239646, 0.38149075780329095, 0.7286430250317925, 0.38119069673980976, 0.7318176274173599, 0.37801545092834915, 0.7236898026016652, 0.3791609147841759, 0.725077263744611, 0.3807770125519531, 0.3792274888498239, 0.7217420081230227, 0.7216652378912037, 0.3813451469652891, 0.7193452713740002, 0.3249069618844746, 0.3241324695774977, 0.7509465034164096, 0.749416813094163, 0.32237325340044476, 0.7481302729930648, 0.3256130297616703, 0.7468058422051993, 0.32474725521061115, 0.7437678084800002, 0.32399611682085655, 0.7449362225800179, 0.3223941673939606, 0.7439417791361779, 0.32356745635583933, 0.7437764579556466, 0.19988013642456823, 0.1965767635602283, 0.20034060517740626, 0.19248783787026827, 0.20086753454665252, 0.1934583420079946, 0.20017224439498973, 0.18888978719068295, 0.20046815364502996, 0.18497903266783536, 0.19728428817300656, 0.17757119239301886, 0.19632416414282725, 0.17523589872350873, 0.1994075491144677, 0.17505318005179513, 0.3211966285907769, 0.202184576389544, 0.3198488700563774, 0.19742408907450526, 0.3220445999670154, 0.1986396412940342, 0.3228601792353133, 0.3219041872286938, 0.32171108638388984, 0.1949475786364508, 0.18814664953721214, 0.18707646858204907, 0.17838747988368198, 0.3216138353290821, 0.32312462575985795, 0.18367130141861185, 0.36448843025081057, 0.760001780285447, 0.3853341779017943, 0.7543324026977014, 0.36543762313886724, 0.7594601305592238, 0.38526113820246816, 0.7553990544568949, 0.3632890193302339, 0.7585043238640025, 0.3844403432272022, 0.7546088943715833, 0.3646250205723391, 0.7589286984077995, 0.3825539076599163, 0.7546220806574023, 0.3649575260691861, 0.7580634517660593, 0.3816142233128481, 0.7526805568762028, 0.3632534559107431, 0.7589693139521114, 0.38590129722444705, 0.7527475917991702, 0.3636655172674646, 0.7580784545960724, 0.7518419388049679, 0.38626887388835673, 0.7579415205615722, 0.38508802623818733, 0.3627945453007402, 0.36293120230685455, 0.751848609443138, 0.7584200901441419, 0.3862071776705289, 0.7521416771946603], \"coloraxis\": \"coloraxis\"}, \"name\": \"\", \"type\": \"parcoords\"}],                        {\"coloraxis\": {\"colorbar\": {\"title\": {\"text\": \"3000 to 3200<br>f1 score<br>-weighted avg<br>\"}}, \"colorscale\": [[0.0, \"#0d0887\"], [0.1111111111111111, \"#46039f\"], [0.2222222222222222, \"#7201a8\"], [0.3333333333333333, \"#9c179e\"], [0.4444444444444444, \"#bd3786\"], [0.5555555555555556, \"#d8576b\"], [0.6666666666666666, \"#ed7953\"], [0.7777777777777778, \"#fb9f3a\"], [0.8888888888888888, \"#fdca26\"], [1.0, \"#f0f921\"]]}, \"legend\": {\"tracegroupgap\": 0}, \"margin\": {\"t\": 60}, \"template\": {\"data\": {\"bar\": [{\"error_x\": {\"color\": \"#2a3f5f\"}, \"error_y\": {\"color\": \"#2a3f5f\"}, \"marker\": {\"line\": {\"color\": \"#E5ECF6\", \"width\": 0.5}}, \"type\": \"bar\"}], \"barpolar\": [{\"marker\": {\"line\": {\"color\": \"#E5ECF6\", \"width\": 0.5}}, \"type\": \"barpolar\"}], \"carpet\": [{\"aaxis\": {\"endlinecolor\": \"#2a3f5f\", \"gridcolor\": \"white\", \"linecolor\": \"white\", \"minorgridcolor\": \"white\", \"startlinecolor\": \"#2a3f5f\"}, \"baxis\": {\"endlinecolor\": \"#2a3f5f\", \"gridcolor\": \"white\", \"linecolor\": \"white\", \"minorgridcolor\": \"white\", \"startlinecolor\": \"#2a3f5f\"}, \"type\": \"carpet\"}], \"choropleth\": [{\"colorbar\": {\"outlinewidth\": 0, \"ticks\": \"\"}, \"type\": \"choropleth\"}], \"contour\": [{\"colorbar\": {\"outlinewidth\": 0, \"ticks\": \"\"}, \"colorscale\": [[0.0, \"#0d0887\"], [0.1111111111111111, \"#46039f\"], [0.2222222222222222, \"#7201a8\"], [0.3333333333333333, \"#9c179e\"], [0.4444444444444444, \"#bd3786\"], [0.5555555555555556, \"#d8576b\"], [0.6666666666666666, \"#ed7953\"], [0.7777777777777778, \"#fb9f3a\"], [0.8888888888888888, \"#fdca26\"], [1.0, \"#f0f921\"]], \"type\": \"contour\"}], \"contourcarpet\": [{\"colorbar\": {\"outlinewidth\": 0, \"ticks\": \"\"}, \"type\": \"contourcarpet\"}], \"heatmap\": [{\"colorbar\": {\"outlinewidth\": 0, \"ticks\": \"\"}, \"colorscale\": [[0.0, \"#0d0887\"], [0.1111111111111111, \"#46039f\"], [0.2222222222222222, \"#7201a8\"], [0.3333333333333333, \"#9c179e\"], [0.4444444444444444, \"#bd3786\"], [0.5555555555555556, \"#d8576b\"], [0.6666666666666666, \"#ed7953\"], [0.7777777777777778, \"#fb9f3a\"], [0.8888888888888888, \"#fdca26\"], [1.0, \"#f0f921\"]], \"type\": \"heatmap\"}], \"heatmapgl\": [{\"colorbar\": {\"outlinewidth\": 0, \"ticks\": \"\"}, \"colorscale\": [[0.0, \"#0d0887\"], [0.1111111111111111, \"#46039f\"], [0.2222222222222222, \"#7201a8\"], [0.3333333333333333, \"#9c179e\"], [0.4444444444444444, \"#bd3786\"], [0.5555555555555556, \"#d8576b\"], [0.6666666666666666, \"#ed7953\"], [0.7777777777777778, \"#fb9f3a\"], [0.8888888888888888, \"#fdca26\"], [1.0, \"#f0f921\"]], \"type\": \"heatmapgl\"}], \"histogram\": [{\"marker\": {\"colorbar\": {\"outlinewidth\": 0, \"ticks\": \"\"}}, \"type\": \"histogram\"}], \"histogram2d\": [{\"colorbar\": {\"outlinewidth\": 0, \"ticks\": \"\"}, \"colorscale\": [[0.0, \"#0d0887\"], [0.1111111111111111, \"#46039f\"], [0.2222222222222222, \"#7201a8\"], [0.3333333333333333, \"#9c179e\"], [0.4444444444444444, \"#bd3786\"], [0.5555555555555556, \"#d8576b\"], [0.6666666666666666, \"#ed7953\"], [0.7777777777777778, \"#fb9f3a\"], [0.8888888888888888, \"#fdca26\"], [1.0, \"#f0f921\"]], \"type\": \"histogram2d\"}], \"histogram2dcontour\": [{\"colorbar\": {\"outlinewidth\": 0, \"ticks\": \"\"}, \"colorscale\": [[0.0, \"#0d0887\"], [0.1111111111111111, \"#46039f\"], [0.2222222222222222, \"#7201a8\"], [0.3333333333333333, \"#9c179e\"], [0.4444444444444444, \"#bd3786\"], [0.5555555555555556, \"#d8576b\"], [0.6666666666666666, \"#ed7953\"], [0.7777777777777778, \"#fb9f3a\"], [0.8888888888888888, \"#fdca26\"], [1.0, \"#f0f921\"]], \"type\": \"histogram2dcontour\"}], \"mesh3d\": [{\"colorbar\": {\"outlinewidth\": 0, \"ticks\": \"\"}, \"type\": \"mesh3d\"}], \"parcoords\": [{\"line\": {\"colorbar\": {\"outlinewidth\": 0, \"ticks\": \"\"}}, \"type\": \"parcoords\"}], \"pie\": [{\"automargin\": true, \"type\": \"pie\"}], \"scatter\": [{\"marker\": {\"colorbar\": {\"outlinewidth\": 0, \"ticks\": \"\"}}, \"type\": \"scatter\"}], \"scatter3d\": [{\"line\": {\"colorbar\": {\"outlinewidth\": 0, \"ticks\": \"\"}}, \"marker\": {\"colorbar\": {\"outlinewidth\": 0, \"ticks\": \"\"}}, \"type\": \"scatter3d\"}], \"scattercarpet\": [{\"marker\": {\"colorbar\": {\"outlinewidth\": 0, \"ticks\": \"\"}}, \"type\": \"scattercarpet\"}], \"scattergeo\": [{\"marker\": {\"colorbar\": {\"outlinewidth\": 0, \"ticks\": \"\"}}, \"type\": \"scattergeo\"}], \"scattergl\": [{\"marker\": {\"colorbar\": {\"outlinewidth\": 0, \"ticks\": \"\"}}, \"type\": \"scattergl\"}], \"scattermapbox\": [{\"marker\": {\"colorbar\": {\"outlinewidth\": 0, \"ticks\": \"\"}}, \"type\": \"scattermapbox\"}], \"scatterpolar\": [{\"marker\": {\"colorbar\": {\"outlinewidth\": 0, \"ticks\": \"\"}}, \"type\": \"scatterpolar\"}], \"scatterpolargl\": [{\"marker\": {\"colorbar\": {\"outlinewidth\": 0, \"ticks\": \"\"}}, \"type\": \"scatterpolargl\"}], \"scatterternary\": [{\"marker\": {\"colorbar\": {\"outlinewidth\": 0, \"ticks\": \"\"}}, \"type\": \"scatterternary\"}], \"surface\": [{\"colorbar\": {\"outlinewidth\": 0, \"ticks\": \"\"}, \"colorscale\": [[0.0, \"#0d0887\"], [0.1111111111111111, \"#46039f\"], [0.2222222222222222, \"#7201a8\"], [0.3333333333333333, \"#9c179e\"], [0.4444444444444444, \"#bd3786\"], [0.5555555555555556, \"#d8576b\"], [0.6666666666666666, \"#ed7953\"], [0.7777777777777778, \"#fb9f3a\"], [0.8888888888888888, \"#fdca26\"], [1.0, \"#f0f921\"]], \"type\": \"surface\"}], \"table\": [{\"cells\": {\"fill\": {\"color\": \"#EBF0F8\"}, \"line\": {\"color\": \"white\"}}, \"header\": {\"fill\": {\"color\": \"#C8D4E3\"}, \"line\": {\"color\": \"white\"}}, \"type\": \"table\"}]}, \"layout\": {\"annotationdefaults\": {\"arrowcolor\": \"#2a3f5f\", \"arrowhead\": 0, \"arrowwidth\": 1}, \"autotypenumbers\": \"strict\", \"coloraxis\": {\"colorbar\": {\"outlinewidth\": 0, \"ticks\": \"\"}}, \"colorscale\": {\"diverging\": [[0, \"#8e0152\"], [0.1, \"#c51b7d\"], [0.2, \"#de77ae\"], [0.3, \"#f1b6da\"], [0.4, \"#fde0ef\"], [0.5, \"#f7f7f7\"], [0.6, \"#e6f5d0\"], [0.7, \"#b8e186\"], [0.8, \"#7fbc41\"], [0.9, \"#4d9221\"], [1, \"#276419\"]], \"sequential\": [[0.0, \"#0d0887\"], [0.1111111111111111, \"#46039f\"], [0.2222222222222222, \"#7201a8\"], [0.3333333333333333, \"#9c179e\"], [0.4444444444444444, \"#bd3786\"], [0.5555555555555556, \"#d8576b\"], [0.6666666666666666, \"#ed7953\"], [0.7777777777777778, \"#fb9f3a\"], [0.8888888888888888, \"#fdca26\"], [1.0, \"#f0f921\"]], \"sequentialminus\": [[0.0, \"#0d0887\"], [0.1111111111111111, \"#46039f\"], [0.2222222222222222, \"#7201a8\"], [0.3333333333333333, \"#9c179e\"], [0.4444444444444444, \"#bd3786\"], [0.5555555555555556, \"#d8576b\"], [0.6666666666666666, \"#ed7953\"], [0.7777777777777778, \"#fb9f3a\"], [0.8888888888888888, \"#fdca26\"], [1.0, \"#f0f921\"]]}, \"colorway\": [\"#636efa\", \"#EF553B\", \"#00cc96\", \"#ab63fa\", \"#FFA15A\", \"#19d3f3\", \"#FF6692\", \"#B6E880\", \"#FF97FF\", \"#FECB52\"], \"font\": {\"color\": \"#2a3f5f\"}, \"geo\": {\"bgcolor\": \"white\", \"lakecolor\": \"white\", \"landcolor\": \"#E5ECF6\", \"showlakes\": true, \"showland\": true, \"subunitcolor\": \"white\"}, \"hoverlabel\": {\"align\": \"left\"}, \"hovermode\": \"closest\", \"mapbox\": {\"style\": \"light\"}, \"paper_bgcolor\": \"white\", \"plot_bgcolor\": \"#E5ECF6\", \"polar\": {\"angularaxis\": {\"gridcolor\": \"white\", \"linecolor\": \"white\", \"ticks\": \"\"}, \"bgcolor\": \"#E5ECF6\", \"radialaxis\": {\"gridcolor\": \"white\", \"linecolor\": \"white\", \"ticks\": \"\"}}, \"scene\": {\"xaxis\": {\"backgroundcolor\": \"#E5ECF6\", \"gridcolor\": \"white\", \"gridwidth\": 2, \"linecolor\": \"white\", \"showbackground\": true, \"ticks\": \"\", \"zerolinecolor\": \"white\"}, \"yaxis\": {\"backgroundcolor\": \"#E5ECF6\", \"gridcolor\": \"white\", \"gridwidth\": 2, \"linecolor\": \"white\", \"showbackground\": true, \"ticks\": \"\", \"zerolinecolor\": \"white\"}, \"zaxis\": {\"backgroundcolor\": \"#E5ECF6\", \"gridcolor\": \"white\", \"gridwidth\": 2, \"linecolor\": \"white\", \"showbackground\": true, \"ticks\": \"\", \"zerolinecolor\": \"white\"}}, \"shapedefaults\": {\"line\": {\"color\": \"#2a3f5f\"}}, \"ternary\": {\"aaxis\": {\"gridcolor\": \"white\", \"linecolor\": \"white\", \"ticks\": \"\"}, \"baxis\": {\"gridcolor\": \"white\", \"linecolor\": \"white\", \"ticks\": \"\"}, \"bgcolor\": \"#E5ECF6\", \"caxis\": {\"gridcolor\": \"white\", \"linecolor\": \"white\", \"ticks\": \"\"}}, \"title\": {\"x\": 0.05}, \"xaxis\": {\"automargin\": true, \"gridcolor\": \"white\", \"linecolor\": \"white\", \"ticks\": \"\", \"title\": {\"standoff\": 15}, \"zerolinecolor\": \"white\", \"zerolinewidth\": 2}, \"yaxis\": {\"automargin\": true, \"gridcolor\": \"white\", \"linecolor\": \"white\", \"ticks\": \"\", \"title\": {\"standoff\": 15}, \"zerolinecolor\": \"white\", \"zerolinewidth\": 2}}}},                        {\"responsive\": true}                    ).then(function(){\n",
       "                            \n",
       "var gd = document.getElementById('69ec1f7c-58cf-4c6e-bbc8-63ee14165473');\n",
       "var x = new MutationObserver(function (mutations, observer) {{\n",
       "        var display = window.getComputedStyle(gd).display;\n",
       "        if (!display || display === 'none') {{\n",
       "            console.log([gd, 'removed!']);\n",
       "            Plotly.purge(gd);\n",
       "            observer.disconnect();\n",
       "        }}\n",
       "}});\n",
       "\n",
       "// Listen for the removal of the full notebook cells\n",
       "var notebookContainer = gd.closest('#notebook-container');\n",
       "if (notebookContainer) {{\n",
       "    x.observe(notebookContainer, {childList: true});\n",
       "}}\n",
       "\n",
       "// Listen for the clearing of the current output cell\n",
       "var outputEl = gd.closest('.output');\n",
       "if (outputEl) {{\n",
       "    x.observe(outputEl, {childList: true});\n",
       "}}\n",
       "\n",
       "                        })                };                });            </script>        </div>"
      ]
     },
     "metadata": {},
     "output_type": "display_data"
    }
   ],
   "source": [
    "l_cols_plot_raw_ = l_parallel_params + l_parallel_metrics_3k\n",
    "l_cols_plot_clean_ = [rename_col_for_display(c) for c in l_cols_plot_raw_]\n",
    "df_plot_ = (\n",
    "    df_mlf_clustering_candidates[l_cols_plot_raw_]\n",
    "    .rename(columns={c: rename_col_for_display(c) for c in l_cols_plot_raw_})\n",
    "    .reset_index(drop=True)\n",
    ")\n",
    "# remap cluster linkage so it shows up in plot\n",
    "col_linkage_clean = ['cluster linkage']\n",
    "df_plot_[col_linkage_clean] = df_plot_[col_linkage_clean].replace(d_linkage_to_num)\n",
    "print(f\"Linkage names:\\n {d_num_to_linkage}\")\n",
    "\n",
    "fig = px.parallel_coordinates(\n",
    "    df_plot_,\n",
    "    color=l_cols_plot_clean_[-1],\n",
    "    # dimensions=l_cols_plot_clean_,\n",
    "    # labels={},\n",
    "    # color_continuous_scale=px.colors.diverging.Tealrose,\n",
    "    # color_continuous_midpoint=2\n",
    ")\n",
    "fig.show()"
   ]
  },
  {
   "cell_type": "markdown",
   "id": "8518e2a9",
   "metadata": {},
   "source": [
    "Plot one w/o subreddits to we can show it in slides"
   ]
  },
  {
   "cell_type": "code",
   "execution_count": 97,
   "id": "cffdcb9f",
   "metadata": {},
   "outputs": [
    {
     "name": "stdout",
     "output_type": "stream",
     "text": [
      "Linkage names:\n",
      " {4: 'ward', 3: 'average', 2: 'complete', 1: 'single'}\n"
     ]
    },
    {
     "data": {
      "application/vnd.plotly.v1+json": {
       "config": {
        "plotlyServerURL": "https://plot.ly"
       },
       "data": [
        {
         "dimensions": [
          {
           "label": "cluster linkage",
           "values": [
            3,
            3,
            3,
            3,
            3,
            3,
            3,
            3,
            3,
            3,
            3,
            3,
            3,
            3,
            3,
            3,
            3,
            3,
            3,
            3,
            3,
            3,
            3,
            3,
            3,
            3,
            3,
            3,
            3,
            3,
            3,
            3,
            2,
            2,
            2,
            2,
            2,
            2,
            2,
            2,
            2,
            2,
            2,
            2,
            2,
            2,
            2,
            2,
            2,
            2,
            2,
            2,
            2,
            2,
            2,
            2,
            2,
            2,
            2,
            2,
            2,
            2,
            2,
            2,
            1,
            1,
            1,
            1,
            1,
            1,
            1,
            1,
            1,
            1,
            1,
            1,
            1,
            1,
            1,
            1,
            1,
            1,
            1,
            1,
            1,
            1,
            1,
            1,
            1,
            1,
            1,
            1,
            1,
            1,
            1,
            1,
            4,
            4,
            4,
            4,
            4,
            4,
            4,
            4,
            4,
            4,
            4,
            4,
            4,
            4,
            4,
            4,
            4,
            4,
            4,
            4,
            4,
            4,
            4,
            4,
            4,
            4,
            4,
            4,
            4,
            4,
            4,
            4,
            4,
            4,
            4,
            4
           ]
          },
          {
           "label": "3000 to 3200<br>homogeneity score<br>",
           "values": [
            0.24167595797625768,
            0.5201896989708117,
            0.24249013077516454,
            0.5152656509044439,
            0.24084626959847302,
            0.5190628127545466,
            0.24135212740312723,
            0.5140459301176976,
            0.2401503842338645,
            0.49114586987999515,
            0.23945608936970864,
            0.48081922423843804,
            0.23950522935958543,
            0.4656961593312563,
            0.23904295232995568,
            0.4619781370318991,
            0.1765874986538815,
            0.6272074359307351,
            0.1761964333737801,
            0.6182390480522872,
            0.17682862626087043,
            0.623992925076174,
            0.17904964784624786,
            0.6232299641199455,
            0.1761408619971811,
            0.6163650588759536,
            0.17738454394786546,
            0.6109534583443104,
            0.1758326268832714,
            0.6097862078053293,
            0.17638982854641524,
            0.6077270968583474,
            0.24195539843058708,
            0.6195958522964076,
            0.24213582535940803,
            0.6159517124895214,
            0.24088846558987784,
            0.6190870638115854,
            0.2387314272773969,
            0.6117659386745536,
            0.23980339779326873,
            0.6123694025507117,
            0.24055461930454283,
            0.23989732489471555,
            0.6101051094575842,
            0.6094240836824114,
            0.24096736474010783,
            0.6071990106610244,
            0.1778013360469369,
            0.17581733390009557,
            0.6395865552277794,
            0.6381368957897745,
            0.1772121220429962,
            0.636360089535463,
            0.17815421900636288,
            0.6357550706364029,
            0.17850015921752693,
            0.6334082740623542,
            0.17830059483342298,
            0.6342115679666206,
            0.1759773371102899,
            0.6324563400046893,
            0.17850566233267637,
            0.6317642710135438,
            0.05789808219797283,
            0.05448652343734845,
            0.05800218260142527,
            0.051751923658475946,
            0.058686012331257045,
            0.05230574360691536,
            0.0583190390682531,
            0.0491665660604042,
            0.05841392945875318,
            0.04642606027962205,
            0.05604572126621841,
            0.04150733752182521,
            0.05561359339681244,
            0.03985255391102874,
            0.05765488046640158,
            0.03967769473291397,
            0.17758190708818164,
            0.05844838375470907,
            0.1775015510344495,
            0.05507022306404948,
            0.17930510202798577,
            0.055799717920657625,
            0.1799059309629366,
            0.17813887769737066,
            0.17790016832050112,
            0.053375925422504286,
            0.04887998746778362,
            0.048171150291987146,
            0.04223337326992797,
            0.17946741377765146,
            0.17955628564320453,
            0.04586048276262229,
            0.20962934502940933,
            0.6469475139302634,
            0.24204777076334527,
            0.6432487900539898,
            0.20873183841237736,
            0.6460961940479195,
            0.24222368496469882,
            0.6450784467436365,
            0.20877342048760514,
            0.6454160792368675,
            0.24159088173949037,
            0.6435250552148682,
            0.20820272804365644,
            0.6456316769788224,
            0.23931414615275978,
            0.6437087936767876,
            0.2085783146168126,
            0.6450304864537302,
            0.23845299759252858,
            0.6423028688735776,
            0.20821351002134664,
            0.6454490885187117,
            0.24221957861093313,
            0.6422185877025897,
            0.20842776396552173,
            0.6447854936568662,
            0.6409863149451844,
            0.2423842831719021,
            0.6440977582145574,
            0.2420806620090514,
            0.2084694528295876,
            0.2083550950631399,
            0.6412372632732054,
            0.6443054508723303,
            0.24250666494335868,
            0.6415652919527471
           ]
          },
          {
           "label": "3000 to 3200<br>adjusted mutual info score<br>",
           "values": [
            0.27090719668109364,
            0.5676739490142605,
            0.2704797352299801,
            0.5640129405385736,
            0.2692862975160349,
            0.5657455337384845,
            0.2704665013133737,
            0.5622462110788901,
            0.26957334547571327,
            0.5449768957759111,
            0.2680589013716895,
            0.5377630286209716,
            0.2690731016158911,
            0.525601615406606,
            0.26883410496278093,
            0.5238246368653019,
            0.20521601348269908,
            0.6386189883398862,
            0.20636010822031112,
            0.6325062093219527,
            0.20707057322051048,
            0.6363988913748846,
            0.20738346216430523,
            0.6350295102931351,
            0.20532609727869738,
            0.6288622044290672,
            0.20727770095458564,
            0.6250005917006515,
            0.20739704524730593,
            0.624066715193699,
            0.20579869002216522,
            0.6221220755183569,
            0.26831151147977184,
            0.629422504436156,
            0.26940580678616455,
            0.6285908115493102,
            0.2680732760421715,
            0.6296611706613926,
            0.2677331007972894,
            0.6233752464646506,
            0.2668817167758951,
            0.6238387217526548,
            0.2685842695340771,
            0.2681349145845382,
            0.6212631430720703,
            0.6199056297507831,
            0.26801201931382596,
            0.6180494116840081,
            0.2063333493978079,
            0.20408121740883906,
            0.6452345553426918,
            0.6440038593973748,
            0.205920709049385,
            0.6428600261726735,
            0.20666590148119296,
            0.6416251325822762,
            0.20696729271649425,
            0.6402642205488067,
            0.20735719247702422,
            0.6401261958491646,
            0.20517513071065488,
            0.6388635008118061,
            0.2074750249298335,
            0.6384657595439904,
            0.08681515480469587,
            0.08614788955682835,
            0.08686839886386195,
            0.08175003550359473,
            0.0880281747219323,
            0.08267188323946842,
            0.08753742364806126,
            0.07766048491917213,
            0.08765476625831374,
            0.0732502027019538,
            0.08425682668353753,
            0.06515394298595376,
            0.0836118961985454,
            0.06242940323383516,
            0.08663379303619481,
            0.06211241913001243,
            0.21492165563486357,
            0.09239546684617483,
            0.21578213760559387,
            0.08709533630575153,
            0.216248019898385,
            0.08833613026319664,
            0.21673316666064657,
            0.21591347771819713,
            0.21660690599548035,
            0.08450000257641387,
            0.07727017930106701,
            0.07613798323245811,
            0.06648203442462168,
            0.21681031683693316,
            0.2162423931851927,
            0.0723817656988114,
            0.23014495098758025,
            0.6532901371821169,
            0.26649384928970604,
            0.6503207836435021,
            0.22906520281184728,
            0.6517089693209352,
            0.2670707821641661,
            0.6523205941125904,
            0.2295310068896422,
            0.6515904483222337,
            0.2671555101109478,
            0.6508508749346232,
            0.22881227438028068,
            0.652115335308161,
            0.2649022614300578,
            0.6514580918998858,
            0.22856121192999687,
            0.6513128032330641,
            0.26487067381208373,
            0.6499499442546296,
            0.2287662261429334,
            0.6513509567603858,
            0.2664965240641243,
            0.6492339675661631,
            0.2284405612125653,
            0.6506248861996471,
            0.6479255958325969,
            0.2662913005072093,
            0.6498268631114018,
            0.2674960661623775,
            0.22902169592936053,
            0.22889514285943433,
            0.6481596499635638,
            0.650072356719098,
            0.2675957950500224,
            0.6484884800255595
           ]
          },
          {
           "label": "3000 to 3200<br>adjusted rand score<br>",
           "values": [
            0.4174716157962809,
            0.5072837265618262,
            0.4180210761525899,
            0.5052783618574846,
            0.4172747576365605,
            0.5066516340642326,
            0.4141318864335591,
            0.5032617886235329,
            0.41222063479635973,
            0.4890737489920649,
            0.41426434033335346,
            0.4737721838153557,
            0.41540895282765306,
            0.465339849489236,
            0.4154641152661646,
            0.4653131101741538,
            0.29812761496695445,
            0.7283759050177914,
            0.29533911573213706,
            0.7158204660101433,
            0.2930367097664523,
            0.7260179596751406,
            0.3041336586203136,
            0.7256380454955048,
            0.2991278616873084,
            0.7193650627531386,
            0.295554366507313,
            0.7159821949121642,
            0.29110304831835615,
            0.7132203694909401,
            0.2965695313478374,
            0.711376681186633,
            0.42635972572604447,
            0.7281597410423615,
            0.4217077251725658,
            0.7218940039418571,
            0.4222465439913131,
            0.7269049477539032,
            0.41271198775469486,
            0.7200525970565272,
            0.4193099389633112,
            0.7188261175590113,
            0.4172392680812861,
            0.4146970975378618,
            0.7165525140548717,
            0.7164128487162725,
            0.42029581525851123,
            0.7145598779025646,
            0.30139795306907835,
            0.29904554888393675,
            0.7405424514941856,
            0.7397703008649169,
            0.3000459440993966,
            0.7383495968464932,
            0.3008861510220405,
            0.7366795155099256,
            0.30578967676075397,
            0.7356175285711133,
            0.30118687196755023,
            0.7335841135862818,
            0.2967317782582348,
            0.7336091449546744,
            0.29874466248006476,
            0.733098521269545,
            0.022168281114275556,
            0.013679722426823155,
            0.0219680358576979,
            0.012980913271205858,
            0.022820359767815355,
            0.013129995743187857,
            0.02287849322382025,
            0.01226765268730688,
            0.022417327147564958,
            0.011519352743981628,
            0.02162063380018857,
            0.010200137763745553,
            0.021611240914013837,
            0.009742827452427633,
            0.022475437157581667,
            0.009699978431080157,
            0.26906024778307724,
            0.015690685758671635,
            0.2640157464409665,
            0.014709088724870525,
            0.26492905267894445,
            0.014933273358415058,
            0.27017252736641256,
            0.2614363962745958,
            0.2597120532025968,
            0.014226451669638027,
            0.012834011253387193,
            0.012606171339880458,
            0.010968344786024929,
            0.2688965714830326,
            0.2655199689388968,
            0.011932387519949052,
            0.38120560156651995,
            0.7511992692326551,
            0.43306062280841073,
            0.7492285219457914,
            0.3762695383344935,
            0.7507295049850802,
            0.42989800799429545,
            0.7519071422208939,
            0.37520919978008827,
            0.7493572910965898,
            0.4258457984216128,
            0.7504045176768359,
            0.37623872959458415,
            0.7495566063718528,
            0.4230090707077243,
            0.7497879369426959,
            0.3767365468764973,
            0.7483491553324784,
            0.4202518517522251,
            0.7492619184275714,
            0.3750610915914867,
            0.7485324240970315,
            0.43085913197758957,
            0.7481067019359517,
            0.3755842238189969,
            0.7483598627352621,
            0.7480207092189443,
            0.43343637067939794,
            0.7473963783975132,
            0.42880672151532173,
            0.37470220767916124,
            0.3751036454028609,
            0.7479784224673314,
            0.7478322510106703,
            0.42950933406809677,
            0.74829828017451
           ]
          },
          {
           "label": "3000 to 3200<br>f1 score<br>-weighted avg<br>",
           "values": [
            0.37927774223077754,
            0.6133292222806814,
            0.38053208256235127,
            0.6098436553151175,
            0.38017318129569444,
            0.6137889116971884,
            0.3794478383706221,
            0.6065273696262268,
            0.3780260546198556,
            0.5676191730769918,
            0.37901164509772084,
            0.5602845129006454,
            0.37847355594046206,
            0.5348857321946544,
            0.37760156339221806,
            0.5306138202446653,
            0.3241368746591036,
            0.730494541779344,
            0.3214255727020664,
            0.7214544120602233,
            0.32048758425366225,
            0.725556636085051,
            0.32531886836996465,
            0.7249211624166071,
            0.3220570567403893,
            0.715255694835949,
            0.32229779688896043,
            0.7085820618910346,
            0.3192165837973842,
            0.7084606906628248,
            0.32055376429922733,
            0.7063960566472511,
            0.38314385054716316,
            0.7282615792239646,
            0.38149075780329095,
            0.7286430250317925,
            0.38119069673980976,
            0.7318176274173599,
            0.37801545092834915,
            0.7236898026016652,
            0.3791609147841759,
            0.725077263744611,
            0.3807770125519531,
            0.3792274888498239,
            0.7217420081230227,
            0.7216652378912037,
            0.3813451469652891,
            0.7193452713740002,
            0.3249069618844746,
            0.3241324695774977,
            0.7509465034164096,
            0.749416813094163,
            0.32237325340044476,
            0.7481302729930648,
            0.3256130297616703,
            0.7468058422051993,
            0.32474725521061115,
            0.7437678084800002,
            0.32399611682085655,
            0.7449362225800179,
            0.3223941673939606,
            0.7439417791361779,
            0.32356745635583933,
            0.7437764579556466,
            0.19988013642456823,
            0.1965767635602283,
            0.20034060517740626,
            0.19248783787026827,
            0.20086753454665252,
            0.1934583420079946,
            0.20017224439498973,
            0.18888978719068295,
            0.20046815364502996,
            0.18497903266783536,
            0.19728428817300656,
            0.17757119239301886,
            0.19632416414282725,
            0.17523589872350873,
            0.1994075491144677,
            0.17505318005179513,
            0.3211966285907769,
            0.202184576389544,
            0.3198488700563774,
            0.19742408907450526,
            0.3220445999670154,
            0.1986396412940342,
            0.3228601792353133,
            0.3219041872286938,
            0.32171108638388984,
            0.1949475786364508,
            0.18814664953721214,
            0.18707646858204907,
            0.17838747988368198,
            0.3216138353290821,
            0.32312462575985795,
            0.18367130141861185,
            0.36448843025081057,
            0.760001780285447,
            0.3853341779017943,
            0.7543324026977014,
            0.36543762313886724,
            0.7594601305592238,
            0.38526113820246816,
            0.7553990544568949,
            0.3632890193302339,
            0.7585043238640025,
            0.3844403432272022,
            0.7546088943715833,
            0.3646250205723391,
            0.7589286984077995,
            0.3825539076599163,
            0.7546220806574023,
            0.3649575260691861,
            0.7580634517660593,
            0.3816142233128481,
            0.7526805568762028,
            0.3632534559107431,
            0.7589693139521114,
            0.38590129722444705,
            0.7527475917991702,
            0.3636655172674646,
            0.7580784545960724,
            0.7518419388049679,
            0.38626887388835673,
            0.7579415205615722,
            0.38508802623818733,
            0.3627945453007402,
            0.36293120230685455,
            0.751848609443138,
            0.7584200901441419,
            0.3862071776705289,
            0.7521416771946603
           ]
          }
         ],
         "domain": {
          "x": [
           0,
           1
          ],
          "y": [
           0,
           1
          ]
         },
         "line": {
          "color": [
           0.37927774223077754,
           0.6133292222806814,
           0.38053208256235127,
           0.6098436553151175,
           0.38017318129569444,
           0.6137889116971884,
           0.3794478383706221,
           0.6065273696262268,
           0.3780260546198556,
           0.5676191730769918,
           0.37901164509772084,
           0.5602845129006454,
           0.37847355594046206,
           0.5348857321946544,
           0.37760156339221806,
           0.5306138202446653,
           0.3241368746591036,
           0.730494541779344,
           0.3214255727020664,
           0.7214544120602233,
           0.32048758425366225,
           0.725556636085051,
           0.32531886836996465,
           0.7249211624166071,
           0.3220570567403893,
           0.715255694835949,
           0.32229779688896043,
           0.7085820618910346,
           0.3192165837973842,
           0.7084606906628248,
           0.32055376429922733,
           0.7063960566472511,
           0.38314385054716316,
           0.7282615792239646,
           0.38149075780329095,
           0.7286430250317925,
           0.38119069673980976,
           0.7318176274173599,
           0.37801545092834915,
           0.7236898026016652,
           0.3791609147841759,
           0.725077263744611,
           0.3807770125519531,
           0.3792274888498239,
           0.7217420081230227,
           0.7216652378912037,
           0.3813451469652891,
           0.7193452713740002,
           0.3249069618844746,
           0.3241324695774977,
           0.7509465034164096,
           0.749416813094163,
           0.32237325340044476,
           0.7481302729930648,
           0.3256130297616703,
           0.7468058422051993,
           0.32474725521061115,
           0.7437678084800002,
           0.32399611682085655,
           0.7449362225800179,
           0.3223941673939606,
           0.7439417791361779,
           0.32356745635583933,
           0.7437764579556466,
           0.19988013642456823,
           0.1965767635602283,
           0.20034060517740626,
           0.19248783787026827,
           0.20086753454665252,
           0.1934583420079946,
           0.20017224439498973,
           0.18888978719068295,
           0.20046815364502996,
           0.18497903266783536,
           0.19728428817300656,
           0.17757119239301886,
           0.19632416414282725,
           0.17523589872350873,
           0.1994075491144677,
           0.17505318005179513,
           0.3211966285907769,
           0.202184576389544,
           0.3198488700563774,
           0.19742408907450526,
           0.3220445999670154,
           0.1986396412940342,
           0.3228601792353133,
           0.3219041872286938,
           0.32171108638388984,
           0.1949475786364508,
           0.18814664953721214,
           0.18707646858204907,
           0.17838747988368198,
           0.3216138353290821,
           0.32312462575985795,
           0.18367130141861185,
           0.36448843025081057,
           0.760001780285447,
           0.3853341779017943,
           0.7543324026977014,
           0.36543762313886724,
           0.7594601305592238,
           0.38526113820246816,
           0.7553990544568949,
           0.3632890193302339,
           0.7585043238640025,
           0.3844403432272022,
           0.7546088943715833,
           0.3646250205723391,
           0.7589286984077995,
           0.3825539076599163,
           0.7546220806574023,
           0.3649575260691861,
           0.7580634517660593,
           0.3816142233128481,
           0.7526805568762028,
           0.3632534559107431,
           0.7589693139521114,
           0.38590129722444705,
           0.7527475917991702,
           0.3636655172674646,
           0.7580784545960724,
           0.7518419388049679,
           0.38626887388835673,
           0.7579415205615722,
           0.38508802623818733,
           0.3627945453007402,
           0.36293120230685455,
           0.751848609443138,
           0.7584200901441419,
           0.3862071776705289,
           0.7521416771946603
          ],
          "coloraxis": "coloraxis"
         },
         "name": "",
         "type": "parcoords"
        }
       ],
       "layout": {
        "coloraxis": {
         "colorbar": {
          "title": {
           "text": "3000 to 3200<br>f1 score<br>-weighted avg<br>"
          }
         },
         "colorscale": [
          [
           0,
           "#0d0887"
          ],
          [
           0.1111111111111111,
           "#46039f"
          ],
          [
           0.2222222222222222,
           "#7201a8"
          ],
          [
           0.3333333333333333,
           "#9c179e"
          ],
          [
           0.4444444444444444,
           "#bd3786"
          ],
          [
           0.5555555555555556,
           "#d8576b"
          ],
          [
           0.6666666666666666,
           "#ed7953"
          ],
          [
           0.7777777777777778,
           "#fb9f3a"
          ],
          [
           0.8888888888888888,
           "#fdca26"
          ],
          [
           1,
           "#f0f921"
          ]
         ]
        },
        "legend": {
         "tracegroupgap": 0
        },
        "margin": {
         "t": 60
        },
        "template": {
         "data": {
          "bar": [
           {
            "error_x": {
             "color": "#2a3f5f"
            },
            "error_y": {
             "color": "#2a3f5f"
            },
            "marker": {
             "line": {
              "color": "#E5ECF6",
              "width": 0.5
             }
            },
            "type": "bar"
           }
          ],
          "barpolar": [
           {
            "marker": {
             "line": {
              "color": "#E5ECF6",
              "width": 0.5
             }
            },
            "type": "barpolar"
           }
          ],
          "carpet": [
           {
            "aaxis": {
             "endlinecolor": "#2a3f5f",
             "gridcolor": "white",
             "linecolor": "white",
             "minorgridcolor": "white",
             "startlinecolor": "#2a3f5f"
            },
            "baxis": {
             "endlinecolor": "#2a3f5f",
             "gridcolor": "white",
             "linecolor": "white",
             "minorgridcolor": "white",
             "startlinecolor": "#2a3f5f"
            },
            "type": "carpet"
           }
          ],
          "choropleth": [
           {
            "colorbar": {
             "outlinewidth": 0,
             "ticks": ""
            },
            "type": "choropleth"
           }
          ],
          "contour": [
           {
            "colorbar": {
             "outlinewidth": 0,
             "ticks": ""
            },
            "colorscale": [
             [
              0,
              "#0d0887"
             ],
             [
              0.1111111111111111,
              "#46039f"
             ],
             [
              0.2222222222222222,
              "#7201a8"
             ],
             [
              0.3333333333333333,
              "#9c179e"
             ],
             [
              0.4444444444444444,
              "#bd3786"
             ],
             [
              0.5555555555555556,
              "#d8576b"
             ],
             [
              0.6666666666666666,
              "#ed7953"
             ],
             [
              0.7777777777777778,
              "#fb9f3a"
             ],
             [
              0.8888888888888888,
              "#fdca26"
             ],
             [
              1,
              "#f0f921"
             ]
            ],
            "type": "contour"
           }
          ],
          "contourcarpet": [
           {
            "colorbar": {
             "outlinewidth": 0,
             "ticks": ""
            },
            "type": "contourcarpet"
           }
          ],
          "heatmap": [
           {
            "colorbar": {
             "outlinewidth": 0,
             "ticks": ""
            },
            "colorscale": [
             [
              0,
              "#0d0887"
             ],
             [
              0.1111111111111111,
              "#46039f"
             ],
             [
              0.2222222222222222,
              "#7201a8"
             ],
             [
              0.3333333333333333,
              "#9c179e"
             ],
             [
              0.4444444444444444,
              "#bd3786"
             ],
             [
              0.5555555555555556,
              "#d8576b"
             ],
             [
              0.6666666666666666,
              "#ed7953"
             ],
             [
              0.7777777777777778,
              "#fb9f3a"
             ],
             [
              0.8888888888888888,
              "#fdca26"
             ],
             [
              1,
              "#f0f921"
             ]
            ],
            "type": "heatmap"
           }
          ],
          "heatmapgl": [
           {
            "colorbar": {
             "outlinewidth": 0,
             "ticks": ""
            },
            "colorscale": [
             [
              0,
              "#0d0887"
             ],
             [
              0.1111111111111111,
              "#46039f"
             ],
             [
              0.2222222222222222,
              "#7201a8"
             ],
             [
              0.3333333333333333,
              "#9c179e"
             ],
             [
              0.4444444444444444,
              "#bd3786"
             ],
             [
              0.5555555555555556,
              "#d8576b"
             ],
             [
              0.6666666666666666,
              "#ed7953"
             ],
             [
              0.7777777777777778,
              "#fb9f3a"
             ],
             [
              0.8888888888888888,
              "#fdca26"
             ],
             [
              1,
              "#f0f921"
             ]
            ],
            "type": "heatmapgl"
           }
          ],
          "histogram": [
           {
            "marker": {
             "colorbar": {
              "outlinewidth": 0,
              "ticks": ""
             }
            },
            "type": "histogram"
           }
          ],
          "histogram2d": [
           {
            "colorbar": {
             "outlinewidth": 0,
             "ticks": ""
            },
            "colorscale": [
             [
              0,
              "#0d0887"
             ],
             [
              0.1111111111111111,
              "#46039f"
             ],
             [
              0.2222222222222222,
              "#7201a8"
             ],
             [
              0.3333333333333333,
              "#9c179e"
             ],
             [
              0.4444444444444444,
              "#bd3786"
             ],
             [
              0.5555555555555556,
              "#d8576b"
             ],
             [
              0.6666666666666666,
              "#ed7953"
             ],
             [
              0.7777777777777778,
              "#fb9f3a"
             ],
             [
              0.8888888888888888,
              "#fdca26"
             ],
             [
              1,
              "#f0f921"
             ]
            ],
            "type": "histogram2d"
           }
          ],
          "histogram2dcontour": [
           {
            "colorbar": {
             "outlinewidth": 0,
             "ticks": ""
            },
            "colorscale": [
             [
              0,
              "#0d0887"
             ],
             [
              0.1111111111111111,
              "#46039f"
             ],
             [
              0.2222222222222222,
              "#7201a8"
             ],
             [
              0.3333333333333333,
              "#9c179e"
             ],
             [
              0.4444444444444444,
              "#bd3786"
             ],
             [
              0.5555555555555556,
              "#d8576b"
             ],
             [
              0.6666666666666666,
              "#ed7953"
             ],
             [
              0.7777777777777778,
              "#fb9f3a"
             ],
             [
              0.8888888888888888,
              "#fdca26"
             ],
             [
              1,
              "#f0f921"
             ]
            ],
            "type": "histogram2dcontour"
           }
          ],
          "mesh3d": [
           {
            "colorbar": {
             "outlinewidth": 0,
             "ticks": ""
            },
            "type": "mesh3d"
           }
          ],
          "parcoords": [
           {
            "line": {
             "colorbar": {
              "outlinewidth": 0,
              "ticks": ""
             }
            },
            "type": "parcoords"
           }
          ],
          "pie": [
           {
            "automargin": true,
            "type": "pie"
           }
          ],
          "scatter": [
           {
            "marker": {
             "colorbar": {
              "outlinewidth": 0,
              "ticks": ""
             }
            },
            "type": "scatter"
           }
          ],
          "scatter3d": [
           {
            "line": {
             "colorbar": {
              "outlinewidth": 0,
              "ticks": ""
             }
            },
            "marker": {
             "colorbar": {
              "outlinewidth": 0,
              "ticks": ""
             }
            },
            "type": "scatter3d"
           }
          ],
          "scattercarpet": [
           {
            "marker": {
             "colorbar": {
              "outlinewidth": 0,
              "ticks": ""
             }
            },
            "type": "scattercarpet"
           }
          ],
          "scattergeo": [
           {
            "marker": {
             "colorbar": {
              "outlinewidth": 0,
              "ticks": ""
             }
            },
            "type": "scattergeo"
           }
          ],
          "scattergl": [
           {
            "marker": {
             "colorbar": {
              "outlinewidth": 0,
              "ticks": ""
             }
            },
            "type": "scattergl"
           }
          ],
          "scattermapbox": [
           {
            "marker": {
             "colorbar": {
              "outlinewidth": 0,
              "ticks": ""
             }
            },
            "type": "scattermapbox"
           }
          ],
          "scatterpolar": [
           {
            "marker": {
             "colorbar": {
              "outlinewidth": 0,
              "ticks": ""
             }
            },
            "type": "scatterpolar"
           }
          ],
          "scatterpolargl": [
           {
            "marker": {
             "colorbar": {
              "outlinewidth": 0,
              "ticks": ""
             }
            },
            "type": "scatterpolargl"
           }
          ],
          "scatterternary": [
           {
            "marker": {
             "colorbar": {
              "outlinewidth": 0,
              "ticks": ""
             }
            },
            "type": "scatterternary"
           }
          ],
          "surface": [
           {
            "colorbar": {
             "outlinewidth": 0,
             "ticks": ""
            },
            "colorscale": [
             [
              0,
              "#0d0887"
             ],
             [
              0.1111111111111111,
              "#46039f"
             ],
             [
              0.2222222222222222,
              "#7201a8"
             ],
             [
              0.3333333333333333,
              "#9c179e"
             ],
             [
              0.4444444444444444,
              "#bd3786"
             ],
             [
              0.5555555555555556,
              "#d8576b"
             ],
             [
              0.6666666666666666,
              "#ed7953"
             ],
             [
              0.7777777777777778,
              "#fb9f3a"
             ],
             [
              0.8888888888888888,
              "#fdca26"
             ],
             [
              1,
              "#f0f921"
             ]
            ],
            "type": "surface"
           }
          ],
          "table": [
           {
            "cells": {
             "fill": {
              "color": "#EBF0F8"
             },
             "line": {
              "color": "white"
             }
            },
            "header": {
             "fill": {
              "color": "#C8D4E3"
             },
             "line": {
              "color": "white"
             }
            },
            "type": "table"
           }
          ]
         },
         "layout": {
          "annotationdefaults": {
           "arrowcolor": "#2a3f5f",
           "arrowhead": 0,
           "arrowwidth": 1
          },
          "autotypenumbers": "strict",
          "coloraxis": {
           "colorbar": {
            "outlinewidth": 0,
            "ticks": ""
           }
          },
          "colorscale": {
           "diverging": [
            [
             0,
             "#8e0152"
            ],
            [
             0.1,
             "#c51b7d"
            ],
            [
             0.2,
             "#de77ae"
            ],
            [
             0.3,
             "#f1b6da"
            ],
            [
             0.4,
             "#fde0ef"
            ],
            [
             0.5,
             "#f7f7f7"
            ],
            [
             0.6,
             "#e6f5d0"
            ],
            [
             0.7,
             "#b8e186"
            ],
            [
             0.8,
             "#7fbc41"
            ],
            [
             0.9,
             "#4d9221"
            ],
            [
             1,
             "#276419"
            ]
           ],
           "sequential": [
            [
             0,
             "#0d0887"
            ],
            [
             0.1111111111111111,
             "#46039f"
            ],
            [
             0.2222222222222222,
             "#7201a8"
            ],
            [
             0.3333333333333333,
             "#9c179e"
            ],
            [
             0.4444444444444444,
             "#bd3786"
            ],
            [
             0.5555555555555556,
             "#d8576b"
            ],
            [
             0.6666666666666666,
             "#ed7953"
            ],
            [
             0.7777777777777778,
             "#fb9f3a"
            ],
            [
             0.8888888888888888,
             "#fdca26"
            ],
            [
             1,
             "#f0f921"
            ]
           ],
           "sequentialminus": [
            [
             0,
             "#0d0887"
            ],
            [
             0.1111111111111111,
             "#46039f"
            ],
            [
             0.2222222222222222,
             "#7201a8"
            ],
            [
             0.3333333333333333,
             "#9c179e"
            ],
            [
             0.4444444444444444,
             "#bd3786"
            ],
            [
             0.5555555555555556,
             "#d8576b"
            ],
            [
             0.6666666666666666,
             "#ed7953"
            ],
            [
             0.7777777777777778,
             "#fb9f3a"
            ],
            [
             0.8888888888888888,
             "#fdca26"
            ],
            [
             1,
             "#f0f921"
            ]
           ]
          },
          "colorway": [
           "#636efa",
           "#EF553B",
           "#00cc96",
           "#ab63fa",
           "#FFA15A",
           "#19d3f3",
           "#FF6692",
           "#B6E880",
           "#FF97FF",
           "#FECB52"
          ],
          "font": {
           "color": "#2a3f5f"
          },
          "geo": {
           "bgcolor": "white",
           "lakecolor": "white",
           "landcolor": "#E5ECF6",
           "showlakes": true,
           "showland": true,
           "subunitcolor": "white"
          },
          "hoverlabel": {
           "align": "left"
          },
          "hovermode": "closest",
          "mapbox": {
           "style": "light"
          },
          "paper_bgcolor": "white",
          "plot_bgcolor": "#E5ECF6",
          "polar": {
           "angularaxis": {
            "gridcolor": "white",
            "linecolor": "white",
            "ticks": ""
           },
           "bgcolor": "#E5ECF6",
           "radialaxis": {
            "gridcolor": "white",
            "linecolor": "white",
            "ticks": ""
           }
          },
          "scene": {
           "xaxis": {
            "backgroundcolor": "#E5ECF6",
            "gridcolor": "white",
            "gridwidth": 2,
            "linecolor": "white",
            "showbackground": true,
            "ticks": "",
            "zerolinecolor": "white"
           },
           "yaxis": {
            "backgroundcolor": "#E5ECF6",
            "gridcolor": "white",
            "gridwidth": 2,
            "linecolor": "white",
            "showbackground": true,
            "ticks": "",
            "zerolinecolor": "white"
           },
           "zaxis": {
            "backgroundcolor": "#E5ECF6",
            "gridcolor": "white",
            "gridwidth": 2,
            "linecolor": "white",
            "showbackground": true,
            "ticks": "",
            "zerolinecolor": "white"
           }
          },
          "shapedefaults": {
           "line": {
            "color": "#2a3f5f"
           }
          },
          "ternary": {
           "aaxis": {
            "gridcolor": "white",
            "linecolor": "white",
            "ticks": ""
           },
           "baxis": {
            "gridcolor": "white",
            "linecolor": "white",
            "ticks": ""
           },
           "bgcolor": "#E5ECF6",
           "caxis": {
            "gridcolor": "white",
            "linecolor": "white",
            "ticks": ""
           }
          },
          "title": {
           "x": 0.05
          },
          "xaxis": {
           "automargin": true,
           "gridcolor": "white",
           "linecolor": "white",
           "ticks": "",
           "title": {
            "standoff": 15
           },
           "zerolinecolor": "white",
           "zerolinewidth": 2
          },
          "yaxis": {
           "automargin": true,
           "gridcolor": "white",
           "linecolor": "white",
           "ticks": "",
           "title": {
            "standoff": 15
           },
           "zerolinecolor": "white",
           "zerolinewidth": 2
          }
         }
        }
       }
      },
      "text/html": [
       "<div>                            <div id=\"1066f479-113a-4227-a1ee-d44a9115a37a\" class=\"plotly-graph-div\" style=\"height:525px; width:100%;\"></div>            <script type=\"text/javascript\">                require([\"plotly\"], function(Plotly) {                    window.PLOTLYENV=window.PLOTLYENV || {};                                    if (document.getElementById(\"1066f479-113a-4227-a1ee-d44a9115a37a\")) {                    Plotly.newPlot(                        \"1066f479-113a-4227-a1ee-d44a9115a37a\",                        [{\"dimensions\": [{\"label\": \"cluster linkage\", \"values\": [3, 3, 3, 3, 3, 3, 3, 3, 3, 3, 3, 3, 3, 3, 3, 3, 3, 3, 3, 3, 3, 3, 3, 3, 3, 3, 3, 3, 3, 3, 3, 3, 2, 2, 2, 2, 2, 2, 2, 2, 2, 2, 2, 2, 2, 2, 2, 2, 2, 2, 2, 2, 2, 2, 2, 2, 2, 2, 2, 2, 2, 2, 2, 2, 1, 1, 1, 1, 1, 1, 1, 1, 1, 1, 1, 1, 1, 1, 1, 1, 1, 1, 1, 1, 1, 1, 1, 1, 1, 1, 1, 1, 1, 1, 1, 1, 4, 4, 4, 4, 4, 4, 4, 4, 4, 4, 4, 4, 4, 4, 4, 4, 4, 4, 4, 4, 4, 4, 4, 4, 4, 4, 4, 4, 4, 4, 4, 4, 4, 4, 4, 4]}, {\"label\": \"3000 to 3200<br>homogeneity score<br>\", \"values\": [0.24167595797625768, 0.5201896989708117, 0.24249013077516454, 0.5152656509044439, 0.24084626959847302, 0.5190628127545466, 0.24135212740312723, 0.5140459301176976, 0.2401503842338645, 0.49114586987999515, 0.23945608936970864, 0.48081922423843804, 0.23950522935958543, 0.4656961593312563, 0.23904295232995568, 0.4619781370318991, 0.1765874986538815, 0.6272074359307351, 0.1761964333737801, 0.6182390480522872, 0.17682862626087043, 0.623992925076174, 0.17904964784624786, 0.6232299641199455, 0.1761408619971811, 0.6163650588759536, 0.17738454394786546, 0.6109534583443104, 0.1758326268832714, 0.6097862078053293, 0.17638982854641524, 0.6077270968583474, 0.24195539843058708, 0.6195958522964076, 0.24213582535940803, 0.6159517124895214, 0.24088846558987784, 0.6190870638115854, 0.2387314272773969, 0.6117659386745536, 0.23980339779326873, 0.6123694025507117, 0.24055461930454283, 0.23989732489471555, 0.6101051094575842, 0.6094240836824114, 0.24096736474010783, 0.6071990106610244, 0.1778013360469369, 0.17581733390009557, 0.6395865552277794, 0.6381368957897745, 0.1772121220429962, 0.636360089535463, 0.17815421900636288, 0.6357550706364029, 0.17850015921752693, 0.6334082740623542, 0.17830059483342298, 0.6342115679666206, 0.1759773371102899, 0.6324563400046893, 0.17850566233267637, 0.6317642710135438, 0.05789808219797283, 0.05448652343734845, 0.05800218260142527, 0.051751923658475946, 0.058686012331257045, 0.05230574360691536, 0.0583190390682531, 0.0491665660604042, 0.05841392945875318, 0.04642606027962205, 0.05604572126621841, 0.04150733752182521, 0.05561359339681244, 0.03985255391102874, 0.05765488046640158, 0.03967769473291397, 0.17758190708818164, 0.05844838375470907, 0.1775015510344495, 0.05507022306404948, 0.17930510202798577, 0.055799717920657625, 0.1799059309629366, 0.17813887769737066, 0.17790016832050112, 0.053375925422504286, 0.04887998746778362, 0.048171150291987146, 0.04223337326992797, 0.17946741377765146, 0.17955628564320453, 0.04586048276262229, 0.20962934502940933, 0.6469475139302634, 0.24204777076334527, 0.6432487900539898, 0.20873183841237736, 0.6460961940479195, 0.24222368496469882, 0.6450784467436365, 0.20877342048760514, 0.6454160792368675, 0.24159088173949037, 0.6435250552148682, 0.20820272804365644, 0.6456316769788224, 0.23931414615275978, 0.6437087936767876, 0.2085783146168126, 0.6450304864537302, 0.23845299759252858, 0.6423028688735776, 0.20821351002134664, 0.6454490885187117, 0.24221957861093313, 0.6422185877025897, 0.20842776396552173, 0.6447854936568662, 0.6409863149451844, 0.2423842831719021, 0.6440977582145574, 0.2420806620090514, 0.2084694528295876, 0.2083550950631399, 0.6412372632732054, 0.6443054508723303, 0.24250666494335868, 0.6415652919527471]}, {\"label\": \"3000 to 3200<br>adjusted mutual info score<br>\", \"values\": [0.27090719668109364, 0.5676739490142605, 0.2704797352299801, 0.5640129405385736, 0.2692862975160349, 0.5657455337384845, 0.2704665013133737, 0.5622462110788901, 0.26957334547571327, 0.5449768957759111, 0.2680589013716895, 0.5377630286209716, 0.2690731016158911, 0.525601615406606, 0.26883410496278093, 0.5238246368653019, 0.20521601348269908, 0.6386189883398862, 0.20636010822031112, 0.6325062093219527, 0.20707057322051048, 0.6363988913748846, 0.20738346216430523, 0.6350295102931351, 0.20532609727869738, 0.6288622044290672, 0.20727770095458564, 0.6250005917006515, 0.20739704524730593, 0.624066715193699, 0.20579869002216522, 0.6221220755183569, 0.26831151147977184, 0.629422504436156, 0.26940580678616455, 0.6285908115493102, 0.2680732760421715, 0.6296611706613926, 0.2677331007972894, 0.6233752464646506, 0.2668817167758951, 0.6238387217526548, 0.2685842695340771, 0.2681349145845382, 0.6212631430720703, 0.6199056297507831, 0.26801201931382596, 0.6180494116840081, 0.2063333493978079, 0.20408121740883906, 0.6452345553426918, 0.6440038593973748, 0.205920709049385, 0.6428600261726735, 0.20666590148119296, 0.6416251325822762, 0.20696729271649425, 0.6402642205488067, 0.20735719247702422, 0.6401261958491646, 0.20517513071065488, 0.6388635008118061, 0.2074750249298335, 0.6384657595439904, 0.08681515480469587, 0.08614788955682835, 0.08686839886386195, 0.08175003550359473, 0.0880281747219323, 0.08267188323946842, 0.08753742364806126, 0.07766048491917213, 0.08765476625831374, 0.0732502027019538, 0.08425682668353753, 0.06515394298595376, 0.0836118961985454, 0.06242940323383516, 0.08663379303619481, 0.06211241913001243, 0.21492165563486357, 0.09239546684617483, 0.21578213760559387, 0.08709533630575153, 0.216248019898385, 0.08833613026319664, 0.21673316666064657, 0.21591347771819713, 0.21660690599548035, 0.08450000257641387, 0.07727017930106701, 0.07613798323245811, 0.06648203442462168, 0.21681031683693316, 0.2162423931851927, 0.0723817656988114, 0.23014495098758025, 0.6532901371821169, 0.26649384928970604, 0.6503207836435021, 0.22906520281184728, 0.6517089693209352, 0.2670707821641661, 0.6523205941125904, 0.2295310068896422, 0.6515904483222337, 0.2671555101109478, 0.6508508749346232, 0.22881227438028068, 0.652115335308161, 0.2649022614300578, 0.6514580918998858, 0.22856121192999687, 0.6513128032330641, 0.26487067381208373, 0.6499499442546296, 0.2287662261429334, 0.6513509567603858, 0.2664965240641243, 0.6492339675661631, 0.2284405612125653, 0.6506248861996471, 0.6479255958325969, 0.2662913005072093, 0.6498268631114018, 0.2674960661623775, 0.22902169592936053, 0.22889514285943433, 0.6481596499635638, 0.650072356719098, 0.2675957950500224, 0.6484884800255595]}, {\"label\": \"3000 to 3200<br>adjusted rand score<br>\", \"values\": [0.4174716157962809, 0.5072837265618262, 0.4180210761525899, 0.5052783618574846, 0.4172747576365605, 0.5066516340642326, 0.4141318864335591, 0.5032617886235329, 0.41222063479635973, 0.4890737489920649, 0.41426434033335346, 0.4737721838153557, 0.41540895282765306, 0.465339849489236, 0.4154641152661646, 0.4653131101741538, 0.29812761496695445, 0.7283759050177914, 0.29533911573213706, 0.7158204660101433, 0.2930367097664523, 0.7260179596751406, 0.3041336586203136, 0.7256380454955048, 0.2991278616873084, 0.7193650627531386, 0.295554366507313, 0.7159821949121642, 0.29110304831835615, 0.7132203694909401, 0.2965695313478374, 0.711376681186633, 0.42635972572604447, 0.7281597410423615, 0.4217077251725658, 0.7218940039418571, 0.4222465439913131, 0.7269049477539032, 0.41271198775469486, 0.7200525970565272, 0.4193099389633112, 0.7188261175590113, 0.4172392680812861, 0.4146970975378618, 0.7165525140548717, 0.7164128487162725, 0.42029581525851123, 0.7145598779025646, 0.30139795306907835, 0.29904554888393675, 0.7405424514941856, 0.7397703008649169, 0.3000459440993966, 0.7383495968464932, 0.3008861510220405, 0.7366795155099256, 0.30578967676075397, 0.7356175285711133, 0.30118687196755023, 0.7335841135862818, 0.2967317782582348, 0.7336091449546744, 0.29874466248006476, 0.733098521269545, 0.022168281114275556, 0.013679722426823155, 0.0219680358576979, 0.012980913271205858, 0.022820359767815355, 0.013129995743187857, 0.02287849322382025, 0.01226765268730688, 0.022417327147564958, 0.011519352743981628, 0.02162063380018857, 0.010200137763745553, 0.021611240914013837, 0.009742827452427633, 0.022475437157581667, 0.009699978431080157, 0.26906024778307724, 0.015690685758671635, 0.2640157464409665, 0.014709088724870525, 0.26492905267894445, 0.014933273358415058, 0.27017252736641256, 0.2614363962745958, 0.2597120532025968, 0.014226451669638027, 0.012834011253387193, 0.012606171339880458, 0.010968344786024929, 0.2688965714830326, 0.2655199689388968, 0.011932387519949052, 0.38120560156651995, 0.7511992692326551, 0.43306062280841073, 0.7492285219457914, 0.3762695383344935, 0.7507295049850802, 0.42989800799429545, 0.7519071422208939, 0.37520919978008827, 0.7493572910965898, 0.4258457984216128, 0.7504045176768359, 0.37623872959458415, 0.7495566063718528, 0.4230090707077243, 0.7497879369426959, 0.3767365468764973, 0.7483491553324784, 0.4202518517522251, 0.7492619184275714, 0.3750610915914867, 0.7485324240970315, 0.43085913197758957, 0.7481067019359517, 0.3755842238189969, 0.7483598627352621, 0.7480207092189443, 0.43343637067939794, 0.7473963783975132, 0.42880672151532173, 0.37470220767916124, 0.3751036454028609, 0.7479784224673314, 0.7478322510106703, 0.42950933406809677, 0.74829828017451]}, {\"label\": \"3000 to 3200<br>f1 score<br>-weighted avg<br>\", \"values\": [0.37927774223077754, 0.6133292222806814, 0.38053208256235127, 0.6098436553151175, 0.38017318129569444, 0.6137889116971884, 0.3794478383706221, 0.6065273696262268, 0.3780260546198556, 0.5676191730769918, 0.37901164509772084, 0.5602845129006454, 0.37847355594046206, 0.5348857321946544, 0.37760156339221806, 0.5306138202446653, 0.3241368746591036, 0.730494541779344, 0.3214255727020664, 0.7214544120602233, 0.32048758425366225, 0.725556636085051, 0.32531886836996465, 0.7249211624166071, 0.3220570567403893, 0.715255694835949, 0.32229779688896043, 0.7085820618910346, 0.3192165837973842, 0.7084606906628248, 0.32055376429922733, 0.7063960566472511, 0.38314385054716316, 0.7282615792239646, 0.38149075780329095, 0.7286430250317925, 0.38119069673980976, 0.7318176274173599, 0.37801545092834915, 0.7236898026016652, 0.3791609147841759, 0.725077263744611, 0.3807770125519531, 0.3792274888498239, 0.7217420081230227, 0.7216652378912037, 0.3813451469652891, 0.7193452713740002, 0.3249069618844746, 0.3241324695774977, 0.7509465034164096, 0.749416813094163, 0.32237325340044476, 0.7481302729930648, 0.3256130297616703, 0.7468058422051993, 0.32474725521061115, 0.7437678084800002, 0.32399611682085655, 0.7449362225800179, 0.3223941673939606, 0.7439417791361779, 0.32356745635583933, 0.7437764579556466, 0.19988013642456823, 0.1965767635602283, 0.20034060517740626, 0.19248783787026827, 0.20086753454665252, 0.1934583420079946, 0.20017224439498973, 0.18888978719068295, 0.20046815364502996, 0.18497903266783536, 0.19728428817300656, 0.17757119239301886, 0.19632416414282725, 0.17523589872350873, 0.1994075491144677, 0.17505318005179513, 0.3211966285907769, 0.202184576389544, 0.3198488700563774, 0.19742408907450526, 0.3220445999670154, 0.1986396412940342, 0.3228601792353133, 0.3219041872286938, 0.32171108638388984, 0.1949475786364508, 0.18814664953721214, 0.18707646858204907, 0.17838747988368198, 0.3216138353290821, 0.32312462575985795, 0.18367130141861185, 0.36448843025081057, 0.760001780285447, 0.3853341779017943, 0.7543324026977014, 0.36543762313886724, 0.7594601305592238, 0.38526113820246816, 0.7553990544568949, 0.3632890193302339, 0.7585043238640025, 0.3844403432272022, 0.7546088943715833, 0.3646250205723391, 0.7589286984077995, 0.3825539076599163, 0.7546220806574023, 0.3649575260691861, 0.7580634517660593, 0.3816142233128481, 0.7526805568762028, 0.3632534559107431, 0.7589693139521114, 0.38590129722444705, 0.7527475917991702, 0.3636655172674646, 0.7580784545960724, 0.7518419388049679, 0.38626887388835673, 0.7579415205615722, 0.38508802623818733, 0.3627945453007402, 0.36293120230685455, 0.751848609443138, 0.7584200901441419, 0.3862071776705289, 0.7521416771946603]}], \"domain\": {\"x\": [0.0, 1.0], \"y\": [0.0, 1.0]}, \"line\": {\"color\": [0.37927774223077754, 0.6133292222806814, 0.38053208256235127, 0.6098436553151175, 0.38017318129569444, 0.6137889116971884, 0.3794478383706221, 0.6065273696262268, 0.3780260546198556, 0.5676191730769918, 0.37901164509772084, 0.5602845129006454, 0.37847355594046206, 0.5348857321946544, 0.37760156339221806, 0.5306138202446653, 0.3241368746591036, 0.730494541779344, 0.3214255727020664, 0.7214544120602233, 0.32048758425366225, 0.725556636085051, 0.32531886836996465, 0.7249211624166071, 0.3220570567403893, 0.715255694835949, 0.32229779688896043, 0.7085820618910346, 0.3192165837973842, 0.7084606906628248, 0.32055376429922733, 0.7063960566472511, 0.38314385054716316, 0.7282615792239646, 0.38149075780329095, 0.7286430250317925, 0.38119069673980976, 0.7318176274173599, 0.37801545092834915, 0.7236898026016652, 0.3791609147841759, 0.725077263744611, 0.3807770125519531, 0.3792274888498239, 0.7217420081230227, 0.7216652378912037, 0.3813451469652891, 0.7193452713740002, 0.3249069618844746, 0.3241324695774977, 0.7509465034164096, 0.749416813094163, 0.32237325340044476, 0.7481302729930648, 0.3256130297616703, 0.7468058422051993, 0.32474725521061115, 0.7437678084800002, 0.32399611682085655, 0.7449362225800179, 0.3223941673939606, 0.7439417791361779, 0.32356745635583933, 0.7437764579556466, 0.19988013642456823, 0.1965767635602283, 0.20034060517740626, 0.19248783787026827, 0.20086753454665252, 0.1934583420079946, 0.20017224439498973, 0.18888978719068295, 0.20046815364502996, 0.18497903266783536, 0.19728428817300656, 0.17757119239301886, 0.19632416414282725, 0.17523589872350873, 0.1994075491144677, 0.17505318005179513, 0.3211966285907769, 0.202184576389544, 0.3198488700563774, 0.19742408907450526, 0.3220445999670154, 0.1986396412940342, 0.3228601792353133, 0.3219041872286938, 0.32171108638388984, 0.1949475786364508, 0.18814664953721214, 0.18707646858204907, 0.17838747988368198, 0.3216138353290821, 0.32312462575985795, 0.18367130141861185, 0.36448843025081057, 0.760001780285447, 0.3853341779017943, 0.7543324026977014, 0.36543762313886724, 0.7594601305592238, 0.38526113820246816, 0.7553990544568949, 0.3632890193302339, 0.7585043238640025, 0.3844403432272022, 0.7546088943715833, 0.3646250205723391, 0.7589286984077995, 0.3825539076599163, 0.7546220806574023, 0.3649575260691861, 0.7580634517660593, 0.3816142233128481, 0.7526805568762028, 0.3632534559107431, 0.7589693139521114, 0.38590129722444705, 0.7527475917991702, 0.3636655172674646, 0.7580784545960724, 0.7518419388049679, 0.38626887388835673, 0.7579415205615722, 0.38508802623818733, 0.3627945453007402, 0.36293120230685455, 0.751848609443138, 0.7584200901441419, 0.3862071776705289, 0.7521416771946603], \"coloraxis\": \"coloraxis\"}, \"name\": \"\", \"type\": \"parcoords\"}],                        {\"coloraxis\": {\"colorbar\": {\"title\": {\"text\": \"3000 to 3200<br>f1 score<br>-weighted avg<br>\"}}, \"colorscale\": [[0.0, \"#0d0887\"], [0.1111111111111111, \"#46039f\"], [0.2222222222222222, \"#7201a8\"], [0.3333333333333333, \"#9c179e\"], [0.4444444444444444, \"#bd3786\"], [0.5555555555555556, \"#d8576b\"], [0.6666666666666666, \"#ed7953\"], [0.7777777777777778, \"#fb9f3a\"], [0.8888888888888888, \"#fdca26\"], [1.0, \"#f0f921\"]]}, \"legend\": {\"tracegroupgap\": 0}, \"margin\": {\"t\": 60}, \"template\": {\"data\": {\"bar\": [{\"error_x\": {\"color\": \"#2a3f5f\"}, \"error_y\": {\"color\": \"#2a3f5f\"}, \"marker\": {\"line\": {\"color\": \"#E5ECF6\", \"width\": 0.5}}, \"type\": \"bar\"}], \"barpolar\": [{\"marker\": {\"line\": {\"color\": \"#E5ECF6\", \"width\": 0.5}}, \"type\": \"barpolar\"}], \"carpet\": [{\"aaxis\": {\"endlinecolor\": \"#2a3f5f\", \"gridcolor\": \"white\", \"linecolor\": \"white\", \"minorgridcolor\": \"white\", \"startlinecolor\": \"#2a3f5f\"}, \"baxis\": {\"endlinecolor\": \"#2a3f5f\", \"gridcolor\": \"white\", \"linecolor\": \"white\", \"minorgridcolor\": \"white\", \"startlinecolor\": \"#2a3f5f\"}, \"type\": \"carpet\"}], \"choropleth\": [{\"colorbar\": {\"outlinewidth\": 0, \"ticks\": \"\"}, \"type\": \"choropleth\"}], \"contour\": [{\"colorbar\": {\"outlinewidth\": 0, \"ticks\": \"\"}, \"colorscale\": [[0.0, \"#0d0887\"], [0.1111111111111111, \"#46039f\"], [0.2222222222222222, \"#7201a8\"], [0.3333333333333333, \"#9c179e\"], [0.4444444444444444, \"#bd3786\"], [0.5555555555555556, \"#d8576b\"], [0.6666666666666666, \"#ed7953\"], [0.7777777777777778, \"#fb9f3a\"], [0.8888888888888888, \"#fdca26\"], [1.0, \"#f0f921\"]], \"type\": \"contour\"}], \"contourcarpet\": [{\"colorbar\": {\"outlinewidth\": 0, \"ticks\": \"\"}, \"type\": \"contourcarpet\"}], \"heatmap\": [{\"colorbar\": {\"outlinewidth\": 0, \"ticks\": \"\"}, \"colorscale\": [[0.0, \"#0d0887\"], [0.1111111111111111, \"#46039f\"], [0.2222222222222222, \"#7201a8\"], [0.3333333333333333, \"#9c179e\"], [0.4444444444444444, \"#bd3786\"], [0.5555555555555556, \"#d8576b\"], [0.6666666666666666, \"#ed7953\"], [0.7777777777777778, \"#fb9f3a\"], [0.8888888888888888, \"#fdca26\"], [1.0, \"#f0f921\"]], \"type\": \"heatmap\"}], \"heatmapgl\": [{\"colorbar\": {\"outlinewidth\": 0, \"ticks\": \"\"}, \"colorscale\": [[0.0, \"#0d0887\"], [0.1111111111111111, \"#46039f\"], [0.2222222222222222, \"#7201a8\"], [0.3333333333333333, \"#9c179e\"], [0.4444444444444444, \"#bd3786\"], [0.5555555555555556, \"#d8576b\"], [0.6666666666666666, \"#ed7953\"], [0.7777777777777778, \"#fb9f3a\"], [0.8888888888888888, \"#fdca26\"], [1.0, \"#f0f921\"]], \"type\": \"heatmapgl\"}], \"histogram\": [{\"marker\": {\"colorbar\": {\"outlinewidth\": 0, \"ticks\": \"\"}}, \"type\": \"histogram\"}], \"histogram2d\": [{\"colorbar\": {\"outlinewidth\": 0, \"ticks\": \"\"}, \"colorscale\": [[0.0, \"#0d0887\"], [0.1111111111111111, \"#46039f\"], [0.2222222222222222, \"#7201a8\"], [0.3333333333333333, \"#9c179e\"], [0.4444444444444444, \"#bd3786\"], [0.5555555555555556, \"#d8576b\"], [0.6666666666666666, \"#ed7953\"], [0.7777777777777778, \"#fb9f3a\"], [0.8888888888888888, \"#fdca26\"], [1.0, \"#f0f921\"]], \"type\": \"histogram2d\"}], \"histogram2dcontour\": [{\"colorbar\": {\"outlinewidth\": 0, \"ticks\": \"\"}, \"colorscale\": [[0.0, \"#0d0887\"], [0.1111111111111111, \"#46039f\"], [0.2222222222222222, \"#7201a8\"], [0.3333333333333333, \"#9c179e\"], [0.4444444444444444, \"#bd3786\"], [0.5555555555555556, \"#d8576b\"], [0.6666666666666666, \"#ed7953\"], [0.7777777777777778, \"#fb9f3a\"], [0.8888888888888888, \"#fdca26\"], [1.0, \"#f0f921\"]], \"type\": \"histogram2dcontour\"}], \"mesh3d\": [{\"colorbar\": {\"outlinewidth\": 0, \"ticks\": \"\"}, \"type\": \"mesh3d\"}], \"parcoords\": [{\"line\": {\"colorbar\": {\"outlinewidth\": 0, \"ticks\": \"\"}}, \"type\": \"parcoords\"}], \"pie\": [{\"automargin\": true, \"type\": \"pie\"}], \"scatter\": [{\"marker\": {\"colorbar\": {\"outlinewidth\": 0, \"ticks\": \"\"}}, \"type\": \"scatter\"}], \"scatter3d\": [{\"line\": {\"colorbar\": {\"outlinewidth\": 0, \"ticks\": \"\"}}, \"marker\": {\"colorbar\": {\"outlinewidth\": 0, \"ticks\": \"\"}}, \"type\": \"scatter3d\"}], \"scattercarpet\": [{\"marker\": {\"colorbar\": {\"outlinewidth\": 0, \"ticks\": \"\"}}, \"type\": \"scattercarpet\"}], \"scattergeo\": [{\"marker\": {\"colorbar\": {\"outlinewidth\": 0, \"ticks\": \"\"}}, \"type\": \"scattergeo\"}], \"scattergl\": [{\"marker\": {\"colorbar\": {\"outlinewidth\": 0, \"ticks\": \"\"}}, \"type\": \"scattergl\"}], \"scattermapbox\": [{\"marker\": {\"colorbar\": {\"outlinewidth\": 0, \"ticks\": \"\"}}, \"type\": \"scattermapbox\"}], \"scatterpolar\": [{\"marker\": {\"colorbar\": {\"outlinewidth\": 0, \"ticks\": \"\"}}, \"type\": \"scatterpolar\"}], \"scatterpolargl\": [{\"marker\": {\"colorbar\": {\"outlinewidth\": 0, \"ticks\": \"\"}}, \"type\": \"scatterpolargl\"}], \"scatterternary\": [{\"marker\": {\"colorbar\": {\"outlinewidth\": 0, \"ticks\": \"\"}}, \"type\": \"scatterternary\"}], \"surface\": [{\"colorbar\": {\"outlinewidth\": 0, \"ticks\": \"\"}, \"colorscale\": [[0.0, \"#0d0887\"], [0.1111111111111111, \"#46039f\"], [0.2222222222222222, \"#7201a8\"], [0.3333333333333333, \"#9c179e\"], [0.4444444444444444, \"#bd3786\"], [0.5555555555555556, \"#d8576b\"], [0.6666666666666666, \"#ed7953\"], [0.7777777777777778, \"#fb9f3a\"], [0.8888888888888888, \"#fdca26\"], [1.0, \"#f0f921\"]], \"type\": \"surface\"}], \"table\": [{\"cells\": {\"fill\": {\"color\": \"#EBF0F8\"}, \"line\": {\"color\": \"white\"}}, \"header\": {\"fill\": {\"color\": \"#C8D4E3\"}, \"line\": {\"color\": \"white\"}}, \"type\": \"table\"}]}, \"layout\": {\"annotationdefaults\": {\"arrowcolor\": \"#2a3f5f\", \"arrowhead\": 0, \"arrowwidth\": 1}, \"autotypenumbers\": \"strict\", \"coloraxis\": {\"colorbar\": {\"outlinewidth\": 0, \"ticks\": \"\"}}, \"colorscale\": {\"diverging\": [[0, \"#8e0152\"], [0.1, \"#c51b7d\"], [0.2, \"#de77ae\"], [0.3, \"#f1b6da\"], [0.4, \"#fde0ef\"], [0.5, \"#f7f7f7\"], [0.6, \"#e6f5d0\"], [0.7, \"#b8e186\"], [0.8, \"#7fbc41\"], [0.9, \"#4d9221\"], [1, \"#276419\"]], \"sequential\": [[0.0, \"#0d0887\"], [0.1111111111111111, \"#46039f\"], [0.2222222222222222, \"#7201a8\"], [0.3333333333333333, \"#9c179e\"], [0.4444444444444444, \"#bd3786\"], [0.5555555555555556, \"#d8576b\"], [0.6666666666666666, \"#ed7953\"], [0.7777777777777778, \"#fb9f3a\"], [0.8888888888888888, \"#fdca26\"], [1.0, \"#f0f921\"]], \"sequentialminus\": [[0.0, \"#0d0887\"], [0.1111111111111111, \"#46039f\"], [0.2222222222222222, \"#7201a8\"], [0.3333333333333333, \"#9c179e\"], [0.4444444444444444, \"#bd3786\"], [0.5555555555555556, \"#d8576b\"], [0.6666666666666666, \"#ed7953\"], [0.7777777777777778, \"#fb9f3a\"], [0.8888888888888888, \"#fdca26\"], [1.0, \"#f0f921\"]]}, \"colorway\": [\"#636efa\", \"#EF553B\", \"#00cc96\", \"#ab63fa\", \"#FFA15A\", \"#19d3f3\", \"#FF6692\", \"#B6E880\", \"#FF97FF\", \"#FECB52\"], \"font\": {\"color\": \"#2a3f5f\"}, \"geo\": {\"bgcolor\": \"white\", \"lakecolor\": \"white\", \"landcolor\": \"#E5ECF6\", \"showlakes\": true, \"showland\": true, \"subunitcolor\": \"white\"}, \"hoverlabel\": {\"align\": \"left\"}, \"hovermode\": \"closest\", \"mapbox\": {\"style\": \"light\"}, \"paper_bgcolor\": \"white\", \"plot_bgcolor\": \"#E5ECF6\", \"polar\": {\"angularaxis\": {\"gridcolor\": \"white\", \"linecolor\": \"white\", \"ticks\": \"\"}, \"bgcolor\": \"#E5ECF6\", \"radialaxis\": {\"gridcolor\": \"white\", \"linecolor\": \"white\", \"ticks\": \"\"}}, \"scene\": {\"xaxis\": {\"backgroundcolor\": \"#E5ECF6\", \"gridcolor\": \"white\", \"gridwidth\": 2, \"linecolor\": \"white\", \"showbackground\": true, \"ticks\": \"\", \"zerolinecolor\": \"white\"}, \"yaxis\": {\"backgroundcolor\": \"#E5ECF6\", \"gridcolor\": \"white\", \"gridwidth\": 2, \"linecolor\": \"white\", \"showbackground\": true, \"ticks\": \"\", \"zerolinecolor\": \"white\"}, \"zaxis\": {\"backgroundcolor\": \"#E5ECF6\", \"gridcolor\": \"white\", \"gridwidth\": 2, \"linecolor\": \"white\", \"showbackground\": true, \"ticks\": \"\", \"zerolinecolor\": \"white\"}}, \"shapedefaults\": {\"line\": {\"color\": \"#2a3f5f\"}}, \"ternary\": {\"aaxis\": {\"gridcolor\": \"white\", \"linecolor\": \"white\", \"ticks\": \"\"}, \"baxis\": {\"gridcolor\": \"white\", \"linecolor\": \"white\", \"ticks\": \"\"}, \"bgcolor\": \"#E5ECF6\", \"caxis\": {\"gridcolor\": \"white\", \"linecolor\": \"white\", \"ticks\": \"\"}}, \"title\": {\"x\": 0.05}, \"xaxis\": {\"automargin\": true, \"gridcolor\": \"white\", \"linecolor\": \"white\", \"ticks\": \"\", \"title\": {\"standoff\": 15}, \"zerolinecolor\": \"white\", \"zerolinewidth\": 2}, \"yaxis\": {\"automargin\": true, \"gridcolor\": \"white\", \"linecolor\": \"white\", \"ticks\": \"\", \"title\": {\"standoff\": 15}, \"zerolinecolor\": \"white\", \"zerolinewidth\": 2}}}},                        {\"responsive\": true}                    ).then(function(){\n",
       "                            \n",
       "var gd = document.getElementById('1066f479-113a-4227-a1ee-d44a9115a37a');\n",
       "var x = new MutationObserver(function (mutations, observer) {{\n",
       "        var display = window.getComputedStyle(gd).display;\n",
       "        if (!display || display === 'none') {{\n",
       "            console.log([gd, 'removed!']);\n",
       "            Plotly.purge(gd);\n",
       "            observer.disconnect();\n",
       "        }}\n",
       "}});\n",
       "\n",
       "// Listen for the removal of the full notebook cells\n",
       "var notebookContainer = gd.closest('#notebook-container');\n",
       "if (notebookContainer) {{\n",
       "    x.observe(notebookContainer, {childList: true});\n",
       "}}\n",
       "\n",
       "// Listen for the clearing of the current output cell\n",
       "var outputEl = gd.closest('.output');\n",
       "if (outputEl) {{\n",
       "    x.observe(outputEl, {childList: true});\n",
       "}}\n",
       "\n",
       "                        })                };                });            </script>        </div>"
      ]
     },
     "metadata": {},
     "output_type": "display_data"
    }
   ],
   "source": [
    "l_cols_plot_raw_ = l_parallel_params + l_parallel_metrics_3k\n",
    "l_cols_plot_clean_ = [rename_col_for_display(c) for c in l_cols_plot_raw_]\n",
    "df_plot_ = (\n",
    "    df_mlf_clustering_candidates[l_cols_plot_raw_]\n",
    "    .rename(columns={c: rename_col_for_display(c) for c in l_cols_plot_raw_})\n",
    "    .reset_index(drop=True)\n",
    ")\n",
    "# remap cluster linkage so it shows up in plot\n",
    "col_linkage_clean = ['cluster linkage']\n",
    "df_plot_[col_linkage_clean] = df_plot_[col_linkage_clean].replace(d_linkage_to_num)\n",
    "print(f\"Linkage names:\\n {d_num_to_linkage}\")\n",
    "\n",
    "df_plot_ = df_plot_.drop('subreddits', axis=1)\n",
    "fig = px.parallel_coordinates(\n",
    "    df_plot_,\n",
    "    color=l_cols_plot_clean_[-1],\n",
    "    # dimensions=l_cols_plot_clean_,\n",
    "    # labels={},\n",
    "    # color_continuous_scale=px.colors.diverging.Tealrose,\n",
    "    # color_continuous_midpoint=2\n",
    ")\n",
    "fig.show()"
   ]
  },
  {
   "cell_type": "code",
   "execution_count": 100,
   "id": "5610cf51",
   "metadata": {},
   "outputs": [
    {
     "name": "stdout",
     "output_type": "stream",
     "text": [
      "Linkage names:\n",
      " {4: 'ward', 3: 'average', 2: 'complete', 1: 'single'}\n"
     ]
    },
    {
     "data": {
      "image/svg+xml": [
       "<svg class=\"main-svg\" xmlns=\"http://www.w3.org/2000/svg\" xmlns:xlink=\"http://www.w3.org/1999/xlink\" width=\"700\" height=\"450\" style=\"\" viewBox=\"0 0 700 450\"><rect x=\"0\" y=\"0\" width=\"700\" height=\"450\" style=\"fill: rgb(255, 255, 255); fill-opacity: 1;\"/><defs id=\"defs-10d465\"><g class=\"clips\"/><g class=\"gradients\"><linearGradient x1=\"0\" x2=\"0\" y1=\"1\" y2=\"0\" id=\"g10d465-cbcoloraxis\"><stop offset=\"0%\" stop-color=\"rgb(13, 8, 135)\" stop-opacity=\"1\"/><stop offset=\"11.11111111111111%\" stop-color=\"rgb(70, 3, 159)\" stop-opacity=\"1\"/><stop offset=\"22.22222222222222%\" stop-color=\"rgb(114, 1, 168)\" stop-opacity=\"1\"/><stop offset=\"33.33333333333333%\" stop-color=\"rgb(156, 23, 158)\" stop-opacity=\"1\"/><stop offset=\"44.44444444444444%\" stop-color=\"rgb(189, 55, 134)\" stop-opacity=\"1\"/><stop offset=\"55.55555555555556%\" stop-color=\"rgb(216, 87, 107)\" stop-opacity=\"1\"/><stop offset=\"66.66666666666666%\" stop-color=\"rgb(237, 121, 83)\" stop-opacity=\"1\"/><stop offset=\"77.77777777777779%\" stop-color=\"rgb(251, 159, 58)\" stop-opacity=\"1\"/><stop offset=\"88.88888888888889%\" stop-color=\"rgb(253, 202, 38)\" stop-opacity=\"1\"/><stop offset=\"100%\" stop-color=\"rgb(240, 249, 33)\" stop-opacity=\"1\"/></linearGradient></g></defs><g class=\"bglayer\"/><g class=\"layer-below\"><g class=\"imagelayer\"/><g class=\"shapelayer\"/></g><g class=\"cartesianlayer\"/><g class=\"polarlayer\"/><g class=\"ternarylayer\"/><g class=\"geolayer\"/><g class=\"funnelarealayer\"/><g class=\"pielayer\"/><g class=\"treemaplayer\"/><g class=\"sunburstlayer\"/><g class=\"glimages\"><image xmlns=\"http://www.w3.org/2000/svg\" xlink:href=\"data:image/png;base64,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\" preserveAspectRatio=\"none\" x=\"0\" y=\"0\" width=\"700\" height=\"450\"/><image xmlns=\"http://www.w3.org/2000/svg\" xlink:href=\"data:image/png;base64,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\" preserveAspectRatio=\"none\" x=\"0\" y=\"0\" width=\"700\" height=\"450\"/></g><defs id=\"topdefs-10d465\"><g class=\"clips\"/></defs><g class=\"layer-above\"><g class=\"imagelayer\"/><g class=\"shapelayer\"/></g><g class=\"infolayer\"><g class=\"cbcoloraxis colorbar\" transform=\"translate(80,60)\"><rect class=\"cbbg\" x=\"502\" y=\"0\" width=\"105.984375\" height=\"310\" style=\"fill: rgb(0, 0, 0); fill-opacity: 0; stroke: rgb(68, 68, 68); stroke-opacity: 1; stroke-width: 0;\"/><g class=\"cbfills\" transform=\"translate(0,61)\"><rect class=\"cbfill\" x=\"512\" width=\"30\" y=\"0\" height=\"239\" style=\"fill: url('#g10d465-cbcoloraxis');\"/></g><g class=\"cblines\" transform=\"translate(0,61)\"/><g class=\"cbaxis crisp\" transform=\"translate(0,-60)\"><g class=\"ycbcoloraxistick\"><text text-anchor=\"start\" x=\"544.9\" y=\"4.199999999999999\" transform=\"translate(0,349.79312500000003)\" style=\"font-family: 'Open Sans', verdana, arial, sans-serif; font-size: 12px; fill: rgb(42, 63, 95); fill-opacity: 1; white-space: pre;\">0.2</text></g><g class=\"ycbcoloraxistick\"><text text-anchor=\"start\" x=\"544.9\" y=\"4.199999999999999\" transform=\"translate(0,308.883125)\" style=\"font-family: 'Open Sans', verdana, arial, sans-serif; font-size: 12px; fill: rgb(42, 63, 95); fill-opacity: 1; white-space: pre;\">0.3</text></g><g class=\"ycbcoloraxistick\"><text text-anchor=\"start\" x=\"544.9\" y=\"4.199999999999999\" transform=\"translate(0,267.973125)\" style=\"font-family: 'Open Sans', verdana, arial, sans-serif; font-size: 12px; fill: rgb(42, 63, 95); fill-opacity: 1; white-space: pre;\">0.4</text></g><g class=\"ycbcoloraxistick\"><text text-anchor=\"start\" x=\"544.9\" y=\"4.199999999999999\" transform=\"translate(0,227.063125)\" style=\"font-family: 'Open Sans', verdana, arial, sans-serif; font-size: 12px; fill: rgb(42, 63, 95); fill-opacity: 1; white-space: pre;\">0.5</text></g><g class=\"ycbcoloraxistick\"><text text-anchor=\"start\" x=\"544.9\" y=\"4.199999999999999\" transform=\"translate(0,186.16312499999998)\" style=\"font-family: 'Open Sans', verdana, arial, sans-serif; font-size: 12px; fill: rgb(42, 63, 95); fill-opacity: 1; white-space: pre;\">0.6</text></g><g class=\"ycbcoloraxistick\"><text text-anchor=\"start\" x=\"544.9\" y=\"4.199999999999999\" transform=\"translate(0,145.253125)\" style=\"font-family: 'Open Sans', verdana, arial, sans-serif; font-size: 12px; fill: rgb(42, 63, 95); fill-opacity: 1; white-space: pre;\">0.7</text></g></g><g class=\"cbtitleunshift\" transform=\"translate(-80,-60)\"><g class=\"cbtitle\" transform=\"\"><text class=\"ycbcoloraxistitle\" x=\"591.8399999999999\" y=\"81.99999999999999\" text-anchor=\"start\" style=\"font-family: 'Open Sans', verdana, arial, sans-serif; font-size: 12px; fill: rgb(42, 63, 95); opacity: 1; font-weight: normal; white-space: pre;\"><tspan class=\"line\" dy=\"0em\" x=\"591.8399999999999\" y=\"81.99999999999999\">3000 to 3200</tspan><tspan class=\"line\" dy=\"1.3em\" x=\"591.8399999999999\" y=\"81.99999999999999\">f1 score</tspan><tspan class=\"line\" dy=\"2.6em\" x=\"591.8399999999999\" y=\"81.99999999999999\">-weighted avg</tspan><tspan class=\"line\" dy=\"3.9000000000000004em\" x=\"591.8399999999999\" y=\"81.99999999999999\"></tspan></text></g></g><rect class=\"cboutline\" x=\"512\" y=\"60.703125\" width=\"30\" height=\"239.296875\" style=\"stroke: rgb(68, 68, 68); stroke-opacity: 1; fill: none; stroke-width: 0;\"/></g><g class=\"g-gtitle\"/></g><g class=\"parcoords\" transform=\"\" style=\"shape-rendering: crispedges; pointer-events: none;\"><g class=\"parcoords-control-view\" transform=\"translate(80,60)\"><g class=\"y-axis\" transform=\"\"><g class=\"axis-overlays\"><g class=\"axis\"><g class=\"tick\" transform=\"translate(0,308)\" style=\"opacity: 1;\"><line x2=\"-4\" y2=\"0\" fill=\"none\" stroke=\"black\" stroke-opacity=\"0.25\" stroke-width=\"1px\"/><text dy=\".32em\" x=\"-7\" y=\"0\" style=\"text-anchor: end; font-family: 'Open Sans', verdana, arial, sans-serif; font-size: 10px; fill: rgb(42, 63, 95); fill-opacity: 1; text-shadow: rgb(255, 255, 255) 1px 1px 1px, rgb(255, 255, 255) -1px -1px 1px, rgb(255, 255, 255) 1px -1px 1px, rgb(255, 255, 255) -1px 1px 1px; cursor: default;\">1</text></g><g class=\"tick\" transform=\"translate(0,257)\" style=\"opacity: 1;\"><line x2=\"-4\" y2=\"0\" fill=\"none\" stroke=\"black\" stroke-opacity=\"0.25\" stroke-width=\"1px\"/><text dy=\".32em\" x=\"-7\" y=\"0\" style=\"text-anchor: end; font-family: 'Open Sans', verdana, arial, sans-serif; font-size: 10px; fill: rgb(42, 63, 95); fill-opacity: 1; text-shadow: rgb(255, 255, 255) 1px 1px 1px, rgb(255, 255, 255) -1px -1px 1px, rgb(255, 255, 255) 1px -1px 1px, rgb(255, 255, 255) -1px 1px 1px; cursor: default;\">1.5</text></g><g class=\"tick\" transform=\"translate(0,206)\" style=\"opacity: 1;\"><line x2=\"-4\" y2=\"0\" fill=\"none\" stroke=\"black\" stroke-opacity=\"0.25\" stroke-width=\"1px\"/><text dy=\".32em\" x=\"-7\" y=\"0\" style=\"text-anchor: end; font-family: 'Open Sans', verdana, arial, sans-serif; font-size: 10px; fill: rgb(42, 63, 95); fill-opacity: 1; text-shadow: rgb(255, 255, 255) 1px 1px 1px, rgb(255, 255, 255) -1px -1px 1px, rgb(255, 255, 255) 1px -1px 1px, rgb(255, 255, 255) -1px 1px 1px; cursor: default;\">2</text></g><g class=\"tick\" transform=\"translate(0,155)\" style=\"opacity: 1;\"><line x2=\"-4\" y2=\"0\" fill=\"none\" stroke=\"black\" stroke-opacity=\"0.25\" stroke-width=\"1px\"/><text dy=\".32em\" x=\"-7\" y=\"0\" style=\"text-anchor: end; font-family: 'Open Sans', verdana, arial, sans-serif; font-size: 10px; fill: rgb(42, 63, 95); fill-opacity: 1; text-shadow: rgb(255, 255, 255) 1px 1px 1px, rgb(255, 255, 255) -1px -1px 1px, rgb(255, 255, 255) 1px -1px 1px, rgb(255, 255, 255) -1px 1px 1px; cursor: default;\">2.5</text></g><g class=\"tick\" transform=\"translate(0,104)\" style=\"opacity: 1;\"><line x2=\"-4\" y2=\"0\" fill=\"none\" stroke=\"black\" stroke-opacity=\"0.25\" stroke-width=\"1px\"/><text dy=\".32em\" x=\"-7\" y=\"0\" style=\"text-anchor: end; font-family: 'Open Sans', verdana, arial, sans-serif; font-size: 10px; fill: rgb(42, 63, 95); fill-opacity: 1; text-shadow: rgb(255, 255, 255) 1px 1px 1px, rgb(255, 255, 255) -1px -1px 1px, rgb(255, 255, 255) 1px -1px 1px, rgb(255, 255, 255) -1px 1px 1px; cursor: default;\">3</text></g><g class=\"tick\" transform=\"translate(0,52.999999999999986)\" style=\"opacity: 1;\"><line x2=\"-4\" y2=\"0\" fill=\"none\" stroke=\"black\" stroke-opacity=\"0.25\" stroke-width=\"1px\"/><text dy=\".32em\" x=\"-7\" y=\"0\" style=\"text-anchor: end; font-family: 'Open Sans', verdana, arial, sans-serif; font-size: 10px; fill: rgb(42, 63, 95); fill-opacity: 1; text-shadow: rgb(255, 255, 255) 1px 1px 1px, rgb(255, 255, 255) -1px -1px 1px, rgb(255, 255, 255) 1px -1px 1px, rgb(255, 255, 255) -1px 1px 1px; cursor: default;\">3.5</text></g><g class=\"tick\" transform=\"translate(0,2)\" style=\"opacity: 1;\"><line x2=\"-4\" y2=\"0\" fill=\"none\" stroke=\"black\" stroke-opacity=\"0.25\" stroke-width=\"1px\"/><text dy=\".32em\" x=\"-7\" y=\"0\" style=\"text-anchor: end; font-family: 'Open Sans', verdana, arial, sans-serif; font-size: 10px; fill: rgb(42, 63, 95); fill-opacity: 1; text-shadow: rgb(255, 255, 255) 1px 1px 1px, rgb(255, 255, 255) -1px -1px 1px, rgb(255, 255, 255) 1px -1px 1px, rgb(255, 255, 255) -1px 1px 1px; cursor: default;\">4</text></g><path class=\"domain\" d=\"M-2,2H0V308H-2\" fill=\"none\" stroke=\"black\" stroke-opacity=\"0.25\" stroke-width=\"1px\"/></g><g class=\"axis-heading\"><text class=\"axis-title\" text-anchor=\"middle\" x=\"0\" y=\"0\" transform=\"translate(0,-28)\" style=\"cursor: ew-resize; pointer-events: auto; font-family: 'Open Sans', verdana, arial, sans-serif; font-size: 10px; fill: rgb(42, 63, 95); fill-opacity: 1; white-space: pre;\">cluster linkage</text></g><g class=\"axis-extent\"><g class=\"axis-extent-top\" transform=\"translate(0,-10)\"><text class=\"axis-extent-top-text axis-extent-text\" text-anchor=\"middle\" style=\"cursor: default; font-family: 'Open Sans', verdana, arial, sans-serif; font-size: 10px; fill: rgb(42, 63, 95); fill-opacity: 1;\">4</text></g><g class=\"axis-extent-bottom\" transform=\"translate(0,320)\"><text class=\"axis-extent-bottom-text axis-extent-text\" dy=\"0.75em\" text-anchor=\"middle\" style=\"cursor: default; font-family: 'Open Sans', verdana, arial, sans-serif; font-size: 10px; fill: rgb(42, 63, 95); fill-opacity: 1;\">1</text></g></g><g class=\"axis-brush\"><rect class=\"background\" x=\"-5\" width=\"10\" visibility=\"visible\" fill=\"yellow\" opacity=\"0\" transform=\"translate(0,2)\" height=\"308\" style=\"visibility: visible; pointer-events: auto;\"/><line class=\"highlight-shadow\" x=\"-2\" stroke-width=\"5\" stroke=\"white\" opacity=\"1\" stroke-linecap=\"butt\" y1=\"310\" stroke-dasharray=\"0,310\"/><line class=\"highlight\" x=\"-2\" stroke-width=\"3\" stroke=\"magenta\" opacity=\"1\" stroke-linecap=\"butt\" y1=\"310\" stroke-dasharray=\"0,310\"/></g></g></g><g class=\"y-axis\" transform=\"translate(123,0)\"><g class=\"axis-overlays\"><g class=\"axis\"><g class=\"tick\" transform=\"translate(0,277.60391439158667)\" style=\"opacity: 1;\"><line x2=\"-4\" y2=\"0\" fill=\"none\" stroke=\"black\" stroke-opacity=\"0.25\" stroke-width=\"1px\"/><text dy=\".32em\" x=\"-7\" y=\"0\" style=\"text-anchor: end; font-family: 'Open Sans', verdana, arial, sans-serif; font-size: 10px; fill: rgb(42, 63, 95); fill-opacity: 1; text-shadow: rgb(255, 255, 255) 1px 1px 1px, rgb(255, 255, 255) -1px -1px 1px, rgb(255, 255, 255) 1px -1px 1px, rgb(255, 255, 255) -1px 1px 1px; cursor: default;\">0.1</text></g><g class=\"tick\" transform=\"translate(0,227.21445153231738)\" style=\"opacity: 1;\"><line x2=\"-4\" y2=\"0\" fill=\"none\" stroke=\"black\" stroke-opacity=\"0.25\" stroke-width=\"1px\"/><text dy=\".32em\" x=\"-7\" y=\"0\" style=\"text-anchor: end; font-family: 'Open Sans', verdana, arial, sans-serif; font-size: 10px; fill: rgb(42, 63, 95); fill-opacity: 1; text-shadow: rgb(255, 255, 255) 1px 1px 1px, rgb(255, 255, 255) -1px -1px 1px, rgb(255, 255, 255) 1px -1px 1px, rgb(255, 255, 255) -1px 1px 1px; cursor: default;\">0.2</text></g><g class=\"tick\" transform=\"translate(0,176.82498867304818)\" style=\"opacity: 1;\"><line x2=\"-4\" y2=\"0\" fill=\"none\" stroke=\"black\" stroke-opacity=\"0.25\" stroke-width=\"1px\"/><text dy=\".32em\" x=\"-7\" y=\"0\" style=\"text-anchor: end; font-family: 'Open Sans', verdana, arial, sans-serif; font-size: 10px; fill: rgb(42, 63, 95); fill-opacity: 1; text-shadow: rgb(255, 255, 255) 1px 1px 1px, rgb(255, 255, 255) -1px -1px 1px, rgb(255, 255, 255) 1px -1px 1px, rgb(255, 255, 255) -1px 1px 1px; cursor: default;\">0.3</text></g><g class=\"tick\" transform=\"translate(0,126.43552581377887)\" style=\"opacity: 1;\"><line x2=\"-4\" y2=\"0\" fill=\"none\" stroke=\"black\" stroke-opacity=\"0.25\" stroke-width=\"1px\"/><text dy=\".32em\" x=\"-7\" y=\"0\" style=\"text-anchor: end; font-family: 'Open Sans', verdana, arial, sans-serif; font-size: 10px; fill: rgb(42, 63, 95); fill-opacity: 1; text-shadow: rgb(255, 255, 255) 1px 1px 1px, rgb(255, 255, 255) -1px -1px 1px, rgb(255, 255, 255) 1px -1px 1px, rgb(255, 255, 255) -1px 1px 1px; cursor: default;\">0.4</text></g><g class=\"tick\" transform=\"translate(0,76.04606295450964)\" style=\"opacity: 1;\"><line x2=\"-4\" y2=\"0\" fill=\"none\" stroke=\"black\" stroke-opacity=\"0.25\" stroke-width=\"1px\"/><text dy=\".32em\" x=\"-7\" y=\"0\" style=\"text-anchor: end; font-family: 'Open Sans', verdana, arial, sans-serif; font-size: 10px; fill: rgb(42, 63, 95); fill-opacity: 1; text-shadow: rgb(255, 255, 255) 1px 1px 1px, rgb(255, 255, 255) -1px -1px 1px, rgb(255, 255, 255) 1px -1px 1px, rgb(255, 255, 255) -1px 1px 1px; cursor: default;\">0.5</text></g><g class=\"tick\" transform=\"translate(0,25.656600095240343)\" style=\"opacity: 1;\"><line x2=\"-4\" y2=\"0\" fill=\"none\" stroke=\"black\" stroke-opacity=\"0.25\" stroke-width=\"1px\"/><text dy=\".32em\" x=\"-7\" y=\"0\" style=\"text-anchor: end; font-family: 'Open Sans', verdana, arial, sans-serif; font-size: 10px; fill: rgb(42, 63, 95); fill-opacity: 1; text-shadow: rgb(255, 255, 255) 1px 1px 1px, rgb(255, 255, 255) -1px -1px 1px, rgb(255, 255, 255) 1px -1px 1px, rgb(255, 255, 255) -1px 1px 1px; cursor: default;\">0.6</text></g><path class=\"domain\" d=\"M-2,2H0V308H-2\" fill=\"none\" stroke=\"black\" stroke-opacity=\"0.25\" stroke-width=\"1px\"/></g><g class=\"axis-heading\"><text class=\"axis-title\" text-anchor=\"middle\" x=\"0\" y=\"0\" transform=\"translate(0,-28)\" style=\"cursor: ew-resize; pointer-events: auto; font-family: 'Open Sans', verdana, arial, sans-serif; font-size: 10px; fill: rgb(42, 63, 95); fill-opacity: 1; white-space: pre;\"><tspan class=\"line\" dy=\"0em\" x=\"0\" y=\"0\">3000 to 3200</tspan><tspan class=\"line\" dy=\"1.3em\" x=\"0\" y=\"0\">homogeneity score</tspan><tspan class=\"line\" dy=\"2.6em\" x=\"0\" y=\"0\"></tspan></text></g><g class=\"axis-extent\"><g class=\"axis-extent-top\" transform=\"translate(0,-10)\"><text class=\"axis-extent-top-text axis-extent-text\" text-anchor=\"middle\" style=\"cursor: default; font-family: 'Open Sans', verdana, arial, sans-serif; font-size: 10px; fill: rgb(42, 63, 95); fill-opacity: 1;\">0.64695</text></g><g class=\"axis-extent-bottom\" transform=\"translate(0,320)\"><text class=\"axis-extent-bottom-text axis-extent-text\" dy=\"0.75em\" text-anchor=\"middle\" style=\"cursor: default; font-family: 'Open Sans', verdana, arial, sans-serif; font-size: 10px; fill: rgb(42, 63, 95); fill-opacity: 1;\">0.03968</text></g></g><g class=\"axis-brush\"><rect class=\"background\" x=\"-5\" width=\"10\" visibility=\"visible\" fill=\"yellow\" opacity=\"0\" transform=\"translate(0,2)\" height=\"308\" style=\"visibility: visible; pointer-events: auto;\"/><line class=\"highlight-shadow\" x=\"-2\" stroke-width=\"5\" stroke=\"white\" opacity=\"1\" stroke-linecap=\"butt\" y1=\"310\" stroke-dasharray=\"0,310\"/><line class=\"highlight\" x=\"-2\" stroke-width=\"3\" stroke=\"magenta\" opacity=\"1\" stroke-linecap=\"butt\" y1=\"310\" stroke-dasharray=\"0,310\"/></g></g></g><g class=\"y-axis\" transform=\"translate(246,0)\"><g class=\"axis-overlays\"><g class=\"axis\"><g class=\"tick\" transform=\"translate(0,288.38897713463155)\" style=\"opacity: 1;\"><line x2=\"-4\" y2=\"0\" fill=\"none\" stroke=\"black\" stroke-opacity=\"0.25\" stroke-width=\"1px\"/><text dy=\".32em\" x=\"-7\" y=\"0\" style=\"text-anchor: end; font-family: 'Open Sans', verdana, arial, sans-serif; font-size: 10px; fill: rgb(42, 63, 95); fill-opacity: 1; text-shadow: rgb(255, 255, 255) 1px 1px 1px, rgb(255, 255, 255) -1px -1px 1px, rgb(255, 255, 255) 1px -1px 1px, rgb(255, 255, 255) -1px 1px 1px; cursor: default;\">0.1</text></g><g class=\"tick\" transform=\"translate(0,236.62789232780693)\" style=\"opacity: 1;\"><line x2=\"-4\" y2=\"0\" fill=\"none\" stroke=\"black\" stroke-opacity=\"0.25\" stroke-width=\"1px\"/><text dy=\".32em\" x=\"-7\" y=\"0\" style=\"text-anchor: end; font-family: 'Open Sans', verdana, arial, sans-serif; font-size: 10px; fill: rgb(42, 63, 95); fill-opacity: 1; text-shadow: rgb(255, 255, 255) 1px 1px 1px, rgb(255, 255, 255) -1px -1px 1px, rgb(255, 255, 255) 1px -1px 1px, rgb(255, 255, 255) -1px 1px 1px; cursor: default;\">0.2</text></g><g class=\"tick\" transform=\"translate(0,184.8668075209824)\" style=\"opacity: 1;\"><line x2=\"-4\" y2=\"0\" fill=\"none\" stroke=\"black\" stroke-opacity=\"0.25\" stroke-width=\"1px\"/><text dy=\".32em\" x=\"-7\" y=\"0\" style=\"text-anchor: end; font-family: 'Open Sans', verdana, arial, sans-serif; font-size: 10px; fill: rgb(42, 63, 95); fill-opacity: 1; text-shadow: rgb(255, 255, 255) 1px 1px 1px, rgb(255, 255, 255) -1px -1px 1px, rgb(255, 255, 255) 1px -1px 1px, rgb(255, 255, 255) -1px 1px 1px; cursor: default;\">0.3</text></g><g class=\"tick\" transform=\"translate(0,133.1057227141578)\" style=\"opacity: 1;\"><line x2=\"-4\" y2=\"0\" fill=\"none\" stroke=\"black\" stroke-opacity=\"0.25\" stroke-width=\"1px\"/><text dy=\".32em\" x=\"-7\" y=\"0\" style=\"text-anchor: end; font-family: 'Open Sans', verdana, arial, sans-serif; font-size: 10px; fill: rgb(42, 63, 95); fill-opacity: 1; text-shadow: rgb(255, 255, 255) 1px 1px 1px, rgb(255, 255, 255) -1px -1px 1px, rgb(255, 255, 255) 1px -1px 1px, rgb(255, 255, 255) -1px 1px 1px; cursor: default;\">0.4</text></g><g class=\"tick\" transform=\"translate(0,81.34463790733327)\" style=\"opacity: 1;\"><line x2=\"-4\" y2=\"0\" fill=\"none\" stroke=\"black\" stroke-opacity=\"0.25\" stroke-width=\"1px\"/><text dy=\".32em\" x=\"-7\" y=\"0\" style=\"text-anchor: end; font-family: 'Open Sans', verdana, arial, sans-serif; font-size: 10px; fill: rgb(42, 63, 95); fill-opacity: 1; text-shadow: rgb(255, 255, 255) 1px 1px 1px, rgb(255, 255, 255) -1px -1px 1px, rgb(255, 255, 255) 1px -1px 1px, rgb(255, 255, 255) -1px 1px 1px; cursor: default;\">0.5</text></g><g class=\"tick\" transform=\"translate(0,29.58355310050869)\" style=\"opacity: 1;\"><line x2=\"-4\" y2=\"0\" fill=\"none\" stroke=\"black\" stroke-opacity=\"0.25\" stroke-width=\"1px\"/><text dy=\".32em\" x=\"-7\" y=\"0\" style=\"text-anchor: end; font-family: 'Open Sans', verdana, arial, sans-serif; font-size: 10px; fill: rgb(42, 63, 95); fill-opacity: 1; text-shadow: rgb(255, 255, 255) 1px 1px 1px, rgb(255, 255, 255) -1px -1px 1px, rgb(255, 255, 255) 1px -1px 1px, rgb(255, 255, 255) -1px 1px 1px; cursor: default;\">0.6</text></g><path class=\"domain\" d=\"M-2,2H0V308H-2\" fill=\"none\" stroke=\"black\" stroke-opacity=\"0.25\" stroke-width=\"1px\"/></g><g class=\"axis-heading\"><text class=\"axis-title\" text-anchor=\"middle\" x=\"0\" y=\"0\" transform=\"translate(0,-28)\" style=\"cursor: ew-resize; pointer-events: auto; font-family: 'Open Sans', verdana, arial, sans-serif; font-size: 10px; fill: rgb(42, 63, 95); fill-opacity: 1; white-space: pre;\"><tspan class=\"line\" dy=\"0em\" x=\"0\" y=\"0\">3000 to 3200</tspan><tspan class=\"line\" dy=\"1.3em\" x=\"0\" y=\"0\">adjusted mutual info score</tspan><tspan class=\"line\" dy=\"2.6em\" x=\"0\" y=\"0\"></tspan></text></g><g class=\"axis-extent\"><g class=\"axis-extent-top\" transform=\"translate(0,-10)\"><text class=\"axis-extent-top-text axis-extent-text\" text-anchor=\"middle\" style=\"cursor: default; font-family: 'Open Sans', verdana, arial, sans-serif; font-size: 10px; fill: rgb(42, 63, 95); fill-opacity: 1;\">0.65329</text></g><g class=\"axis-extent-bottom\" transform=\"translate(0,320)\"><text class=\"axis-extent-bottom-text axis-extent-text\" dy=\"0.75em\" text-anchor=\"middle\" style=\"cursor: default; font-family: 'Open Sans', verdana, arial, sans-serif; font-size: 10px; fill: rgb(42, 63, 95); fill-opacity: 1;\">0.06211</text></g></g><g class=\"axis-brush\"><rect class=\"background\" x=\"-5\" width=\"10\" visibility=\"visible\" fill=\"yellow\" opacity=\"0\" transform=\"translate(0,2)\" height=\"308\" style=\"visibility: visible; pointer-events: auto;\"/><line class=\"highlight-shadow\" x=\"-2\" stroke-width=\"5\" stroke=\"white\" opacity=\"1\" stroke-linecap=\"butt\" y1=\"310\" stroke-dasharray=\"0,310\"/><line class=\"highlight\" x=\"-2\" stroke-width=\"3\" stroke=\"magenta\" opacity=\"1\" stroke-linecap=\"butt\" y1=\"310\" stroke-dasharray=\"0,310\"/></g></g></g><g class=\"y-axis\" transform=\"translate(369,0)\"><g class=\"axis-overlays\"><g class=\"axis\"><g class=\"tick\" transform=\"translate(0,270.77076273557157)\" style=\"opacity: 1;\"><line x2=\"-4\" y2=\"0\" fill=\"none\" stroke=\"black\" stroke-opacity=\"0.25\" stroke-width=\"1px\"/><text dy=\".32em\" x=\"-7\" y=\"0\" style=\"text-anchor: end; font-family: 'Open Sans', verdana, arial, sans-serif; font-size: 10px; fill: rgb(42, 63, 95); fill-opacity: 1; text-shadow: rgb(255, 255, 255) 1px 1px 1px, rgb(255, 255, 255) -1px -1px 1px, rgb(255, 255, 255) 1px -1px 1px, rgb(255, 255, 255) -1px 1px 1px; cursor: default;\">0.1</text></g><g class=\"tick\" transform=\"translate(0,229.54238137132802)\" style=\"opacity: 1;\"><line x2=\"-4\" y2=\"0\" fill=\"none\" stroke=\"black\" stroke-opacity=\"0.25\" stroke-width=\"1px\"/><text dy=\".32em\" x=\"-7\" y=\"0\" style=\"text-anchor: end; font-family: 'Open Sans', verdana, arial, sans-serif; font-size: 10px; fill: rgb(42, 63, 95); fill-opacity: 1; text-shadow: rgb(255, 255, 255) 1px 1px 1px, rgb(255, 255, 255) -1px -1px 1px, rgb(255, 255, 255) 1px -1px 1px, rgb(255, 255, 255) -1px 1px 1px; cursor: default;\">0.2</text></g><g class=\"tick\" transform=\"translate(0,188.31400000708453)\" style=\"opacity: 1;\"><line x2=\"-4\" y2=\"0\" fill=\"none\" stroke=\"black\" stroke-opacity=\"0.25\" stroke-width=\"1px\"/><text dy=\".32em\" x=\"-7\" y=\"0\" style=\"text-anchor: end; font-family: 'Open Sans', verdana, arial, sans-serif; font-size: 10px; fill: rgb(42, 63, 95); fill-opacity: 1; text-shadow: rgb(255, 255, 255) 1px 1px 1px, rgb(255, 255, 255) -1px -1px 1px, rgb(255, 255, 255) 1px -1px 1px, rgb(255, 255, 255) -1px 1px 1px; cursor: default;\">0.3</text></g><g class=\"tick\" transform=\"translate(0,147.08561864284098)\" style=\"opacity: 1;\"><line x2=\"-4\" y2=\"0\" fill=\"none\" stroke=\"black\" stroke-opacity=\"0.25\" stroke-width=\"1px\"/><text dy=\".32em\" x=\"-7\" y=\"0\" style=\"text-anchor: end; font-family: 'Open Sans', verdana, arial, sans-serif; font-size: 10px; fill: rgb(42, 63, 95); fill-opacity: 1; text-shadow: rgb(255, 255, 255) 1px 1px 1px, rgb(255, 255, 255) -1px -1px 1px, rgb(255, 255, 255) 1px -1px 1px, rgb(255, 255, 255) -1px 1px 1px; cursor: default;\">0.4</text></g><g class=\"tick\" transform=\"translate(0,105.85723727859745)\" style=\"opacity: 1;\"><line x2=\"-4\" y2=\"0\" fill=\"none\" stroke=\"black\" stroke-opacity=\"0.25\" stroke-width=\"1px\"/><text dy=\".32em\" x=\"-7\" y=\"0\" style=\"text-anchor: end; font-family: 'Open Sans', verdana, arial, sans-serif; font-size: 10px; fill: rgb(42, 63, 95); fill-opacity: 1; text-shadow: rgb(255, 255, 255) 1px 1px 1px, rgb(255, 255, 255) -1px -1px 1px, rgb(255, 255, 255) 1px -1px 1px, rgb(255, 255, 255) -1px 1px 1px; cursor: default;\">0.5</text></g><g class=\"tick\" transform=\"translate(0,64.62885591435396)\" style=\"opacity: 1;\"><line x2=\"-4\" y2=\"0\" fill=\"none\" stroke=\"black\" stroke-opacity=\"0.25\" stroke-width=\"1px\"/><text dy=\".32em\" x=\"-7\" y=\"0\" style=\"text-anchor: end; font-family: 'Open Sans', verdana, arial, sans-serif; font-size: 10px; fill: rgb(42, 63, 95); fill-opacity: 1; text-shadow: rgb(255, 255, 255) 1px 1px 1px, rgb(255, 255, 255) -1px -1px 1px, rgb(255, 255, 255) 1px -1px 1px, rgb(255, 255, 255) -1px 1px 1px; cursor: default;\">0.6</text></g><g class=\"tick\" transform=\"translate(0,23.400474550110445)\" style=\"opacity: 1;\"><line x2=\"-4\" y2=\"0\" fill=\"none\" stroke=\"black\" stroke-opacity=\"0.25\" stroke-width=\"1px\"/><text dy=\".32em\" x=\"-7\" y=\"0\" style=\"text-anchor: end; font-family: 'Open Sans', verdana, arial, sans-serif; font-size: 10px; fill: rgb(42, 63, 95); fill-opacity: 1; text-shadow: rgb(255, 255, 255) 1px 1px 1px, rgb(255, 255, 255) -1px -1px 1px, rgb(255, 255, 255) 1px -1px 1px, rgb(255, 255, 255) -1px 1px 1px; cursor: default;\">0.7</text></g><path class=\"domain\" d=\"M-2,2H0V308H-2\" fill=\"none\" stroke=\"black\" stroke-opacity=\"0.25\" stroke-width=\"1px\"/></g><g class=\"axis-heading\"><text class=\"axis-title\" text-anchor=\"middle\" x=\"0\" y=\"0\" transform=\"translate(0,-28)\" style=\"cursor: ew-resize; pointer-events: auto; font-family: 'Open Sans', verdana, arial, sans-serif; font-size: 10px; fill: rgb(42, 63, 95); fill-opacity: 1; white-space: pre;\"><tspan class=\"line\" dy=\"0em\" x=\"0\" y=\"0\">3000 to 3200</tspan><tspan class=\"line\" dy=\"1.3em\" x=\"0\" y=\"0\">adjusted rand score</tspan><tspan class=\"line\" dy=\"2.6em\" x=\"0\" y=\"0\"></tspan></text></g><g class=\"axis-extent\"><g class=\"axis-extent-top\" transform=\"translate(0,-10)\"><text class=\"axis-extent-top-text axis-extent-text\" text-anchor=\"middle\" style=\"cursor: default; font-family: 'Open Sans', verdana, arial, sans-serif; font-size: 10px; fill: rgb(42, 63, 95); fill-opacity: 1;\">0.75191</text></g><g class=\"axis-extent-bottom\" transform=\"translate(0,320)\"><text class=\"axis-extent-bottom-text axis-extent-text\" dy=\"0.75em\" text-anchor=\"middle\" style=\"cursor: default; font-family: 'Open Sans', verdana, arial, sans-serif; font-size: 10px; fill: rgb(42, 63, 95); fill-opacity: 1;\">0.0097</text></g></g><g class=\"axis-brush\"><rect class=\"background\" x=\"-5\" width=\"10\" visibility=\"visible\" fill=\"yellow\" opacity=\"0\" transform=\"translate(0,2)\" height=\"308\" style=\"visibility: visible; pointer-events: auto;\"/><line class=\"highlight-shadow\" x=\"-2\" stroke-width=\"5\" stroke=\"white\" opacity=\"1\" stroke-linecap=\"butt\" y1=\"310\" stroke-dasharray=\"0,310\"/><line class=\"highlight\" x=\"-2\" stroke-width=\"3\" stroke=\"magenta\" opacity=\"1\" stroke-linecap=\"butt\" y1=\"310\" stroke-dasharray=\"0,310\"/></g></g></g><g class=\"y-axis\" transform=\"translate(492,0)\"><g class=\"axis-overlays\"><g class=\"axis\"><g class=\"tick\" transform=\"translate(0,294.9497475485855)\" style=\"opacity: 1;\"><line x2=\"-4\" y2=\"0\" fill=\"none\" stroke=\"black\" stroke-opacity=\"0.25\" stroke-width=\"1px\"/><text dy=\".32em\" x=\"-7\" y=\"0\" style=\"text-anchor: end; font-family: 'Open Sans', verdana, arial, sans-serif; font-size: 10px; fill: rgb(42, 63, 95); fill-opacity: 1; text-shadow: rgb(255, 255, 255) 1px 1px 1px, rgb(255, 255, 255) -1px -1px 1px, rgb(255, 255, 255) 1px -1px 1px, rgb(255, 255, 255) -1px 1px 1px; cursor: default;\">0.2</text></g><g class=\"tick\" transform=\"translate(0,242.63745893420617)\" style=\"opacity: 1;\"><line x2=\"-4\" y2=\"0\" fill=\"none\" stroke=\"black\" stroke-opacity=\"0.25\" stroke-width=\"1px\"/><text dy=\".32em\" x=\"-7\" y=\"0\" style=\"text-anchor: end; font-family: 'Open Sans', verdana, arial, sans-serif; font-size: 10px; fill: rgb(42, 63, 95); fill-opacity: 1; text-shadow: rgb(255, 255, 255) 1px 1px 1px, rgb(255, 255, 255) -1px -1px 1px, rgb(255, 255, 255) 1px -1px 1px, rgb(255, 255, 255) -1px 1px 1px; cursor: default;\">0.3</text></g><g class=\"tick\" transform=\"translate(0,190.32517031982678)\" style=\"opacity: 1;\"><line x2=\"-4\" y2=\"0\" fill=\"none\" stroke=\"black\" stroke-opacity=\"0.25\" stroke-width=\"1px\"/><text dy=\".32em\" x=\"-7\" y=\"0\" style=\"text-anchor: end; font-family: 'Open Sans', verdana, arial, sans-serif; font-size: 10px; fill: rgb(42, 63, 95); fill-opacity: 1; text-shadow: rgb(255, 255, 255) 1px 1px 1px, rgb(255, 255, 255) -1px -1px 1px, rgb(255, 255, 255) 1px -1px 1px, rgb(255, 255, 255) -1px 1px 1px; cursor: default;\">0.4</text></g><g class=\"tick\" transform=\"translate(0,138.01288170544746)\" style=\"opacity: 1;\"><line x2=\"-4\" y2=\"0\" fill=\"none\" stroke=\"black\" stroke-opacity=\"0.25\" stroke-width=\"1px\"/><text dy=\".32em\" x=\"-7\" y=\"0\" style=\"text-anchor: end; font-family: 'Open Sans', verdana, arial, sans-serif; font-size: 10px; fill: rgb(42, 63, 95); fill-opacity: 1; text-shadow: rgb(255, 255, 255) 1px 1px 1px, rgb(255, 255, 255) -1px -1px 1px, rgb(255, 255, 255) 1px -1px 1px, rgb(255, 255, 255) -1px 1px 1px; cursor: default;\">0.5</text></g><g class=\"tick\" transform=\"translate(0,85.70059309106816)\" style=\"opacity: 1;\"><line x2=\"-4\" y2=\"0\" fill=\"none\" stroke=\"black\" stroke-opacity=\"0.25\" stroke-width=\"1px\"/><text dy=\".32em\" x=\"-7\" y=\"0\" style=\"text-anchor: end; font-family: 'Open Sans', verdana, arial, sans-serif; font-size: 10px; fill: rgb(42, 63, 95); fill-opacity: 1; text-shadow: rgb(255, 255, 255) 1px 1px 1px, rgb(255, 255, 255) -1px -1px 1px, rgb(255, 255, 255) 1px -1px 1px, rgb(255, 255, 255) -1px 1px 1px; cursor: default;\">0.6</text></g><g class=\"tick\" transform=\"translate(0,33.388304476688816)\" style=\"opacity: 1;\"><line x2=\"-4\" y2=\"0\" fill=\"none\" stroke=\"black\" stroke-opacity=\"0.25\" stroke-width=\"1px\"/><text dy=\".32em\" x=\"-7\" y=\"0\" style=\"text-anchor: end; font-family: 'Open Sans', verdana, arial, sans-serif; font-size: 10px; fill: rgb(42, 63, 95); fill-opacity: 1; text-shadow: rgb(255, 255, 255) 1px 1px 1px, rgb(255, 255, 255) -1px -1px 1px, rgb(255, 255, 255) 1px -1px 1px, rgb(255, 255, 255) -1px 1px 1px; cursor: default;\">0.7</text></g><path class=\"domain\" d=\"M-2,2H0V308H-2\" fill=\"none\" stroke=\"black\" stroke-opacity=\"0.25\" stroke-width=\"1px\"/></g><g class=\"axis-heading\"><text class=\"axis-title\" text-anchor=\"middle\" x=\"0\" y=\"0\" transform=\"translate(0,-28)\" style=\"cursor: ew-resize; pointer-events: auto; font-family: 'Open Sans', verdana, arial, sans-serif; font-size: 10px; fill: rgb(42, 63, 95); fill-opacity: 1; white-space: pre;\"><tspan class=\"line\" dy=\"0em\" x=\"0\" y=\"0\">3000 to 3200</tspan><tspan class=\"line\" dy=\"1.3em\" x=\"0\" y=\"0\">f1 score</tspan><tspan class=\"line\" dy=\"2.6em\" x=\"0\" y=\"0\">-weighted avg</tspan><tspan class=\"line\" dy=\"3.9000000000000004em\" x=\"0\" y=\"0\"></tspan></text></g><g class=\"axis-extent\"><g class=\"axis-extent-top\" transform=\"translate(0,-10)\"><text class=\"axis-extent-top-text axis-extent-text\" text-anchor=\"middle\" style=\"cursor: default; font-family: 'Open Sans', verdana, arial, sans-serif; font-size: 10px; fill: rgb(42, 63, 95); fill-opacity: 1;\">0.76</text></g><g class=\"axis-extent-bottom\" transform=\"translate(0,320)\"><text class=\"axis-extent-bottom-text axis-extent-text\" dy=\"0.75em\" text-anchor=\"middle\" style=\"cursor: default; font-family: 'Open Sans', verdana, arial, sans-serif; font-size: 10px; fill: rgb(42, 63, 95); fill-opacity: 1;\">0.17505</text></g></g><g class=\"axis-brush\"><rect class=\"background\" x=\"-5\" width=\"10\" visibility=\"visible\" fill=\"yellow\" opacity=\"0\" transform=\"translate(0,2)\" height=\"308\" style=\"visibility: visible; pointer-events: auto;\"/><line class=\"highlight-shadow\" x=\"-2\" stroke-width=\"5\" stroke=\"white\" opacity=\"1\" stroke-linecap=\"butt\" y1=\"310\" stroke-dasharray=\"0,310\"/><line class=\"highlight\" x=\"-2\" stroke-width=\"3\" stroke=\"magenta\" opacity=\"1\" stroke-linecap=\"butt\" y1=\"310\" stroke-dasharray=\"0,310\"/></g></g></g></g></g></svg>"
      ]
     },
     "metadata": {},
     "output_type": "display_data"
    }
   ],
   "source": [
    "l_cols_plot_raw_ = l_parallel_params + l_parallel_metrics_3k\n",
    "l_cols_plot_clean_ = [rename_col_for_display(c) for c in l_cols_plot_raw_]\n",
    "df_plot_ = (\n",
    "    df_mlf_clustering_candidates[l_cols_plot_raw_]\n",
    "    .rename(columns={c: rename_col_for_display(c) for c in l_cols_plot_raw_})\n",
    "    .reset_index(drop=True)\n",
    ")\n",
    "# remap cluster linkage so it shows up in plot\n",
    "col_linkage_clean = ['cluster linkage']\n",
    "df_plot_[col_linkage_clean] = df_plot_[col_linkage_clean].replace(d_linkage_to_num)\n",
    "print(f\"Linkage names:\\n {d_num_to_linkage}\")\n",
    "\n",
    "df_plot_ = df_plot_.drop('subreddits', axis=1)\n",
    "fig = px.parallel_coordinates(\n",
    "    df_plot_,\n",
    "    color=l_cols_plot_clean_[-1],\n",
    "    # dimensions=l_cols_plot_clean_,\n",
    "    # labels={},\n",
    "    # color_continuous_scale=px.colors.diverging.Tealrose,\n",
    "    # color_continuous_midpoint=2\n",
    ")\n",
    "fig.show(renderer='svg')"
   ]
  },
  {
   "cell_type": "code",
   "execution_count": null,
   "id": "73bcaf42",
   "metadata": {},
   "outputs": [],
   "source": [
    "# l_cols_plot_raw_ = l_parallel_params + l_parallel_metrics_4k\n",
    "# l_cols_plot_clean_ = [rename_col_for_display(c) for c in l_cols_plot_raw_]\n",
    "# (\n",
    "#     df_mlf_clustering_candidates[l_cols_plot_raw_]\n",
    "#     .rename(columns={c: rename_col_for_display(c) for c in l_cols_plot_raw_})\n",
    "#     .reset_index(drop=True)\n",
    "# )\n",
    "# # remap cluster linkage so it shows up in plot\n",
    "# col_linkage_clean = ['cluster linkage']\n",
    "# df_plot_[col_linkage_clean] = df_plot_[col_linkage_clean].replace(d_linkage_to_num)\n",
    "# print(f\"Linkage names:\\n {d_num_to_linkage}\")\n",
    "\n",
    "# fig = px.parallel_coordinates(\n",
    "#     df_plot_,\n",
    "#     color=l_cols_plot_clean_[-1],\n",
    "#     # dimensions=l_cols_plot_clean_,\n",
    "#     # labels={},\n",
    "#     # color_continuous_scale=px.colors.diverging.Tealrose,\n",
    "#     # color_continuous_midpoint=2\n",
    "# )\n",
    "# fig.show()"
   ]
  },
  {
   "cell_type": "code",
   "execution_count": 91,
   "id": "9de8fadf",
   "metadata": {},
   "outputs": [
    {
     "name": "stdout",
     "output_type": "stream",
     "text": [
      "Linkage names:\n",
      " {4: 'ward', 3: 'average', 2: 'complete', 1: 'single'}\n"
     ]
    },
    {
     "data": {
      "application/vnd.plotly.v1+json": {
       "config": {
        "plotlyServerURL": "https://plot.ly"
       },
       "data": [
        {
         "dimensions": [
          {
           "label": "subreddits",
           "values": [
            47175,
            47175,
            47550,
            47550,
            47909,
            47909,
            48310,
            48310,
            48675,
            48675,
            48996,
            48996,
            49326,
            49326,
            49454,
            49454,
            47175,
            47175,
            47550,
            47550,
            47909,
            47909,
            48310,
            48310,
            48675,
            48675,
            48996,
            48996,
            49326,
            49326,
            49454,
            49454,
            47175,
            47175,
            47550,
            47550,
            47909,
            47909,
            48310,
            48310,
            48675,
            48675,
            48996,
            49326,
            48996,
            49326,
            49454,
            49454,
            47550,
            47175,
            47175,
            47550,
            47909,
            47909,
            48310,
            48310,
            48675,
            48675,
            48996,
            48996,
            49326,
            49326,
            49454,
            49454,
            47175,
            47175,
            47550,
            47550,
            47909,
            47909,
            48310,
            48310,
            48675,
            48675,
            48996,
            48996,
            49326,
            49326,
            49454,
            49454,
            47175,
            47175,
            47550,
            47550,
            47909,
            47909,
            48996,
            48310,
            48675,
            48310,
            48675,
            48996,
            49454,
            49326,
            49454,
            49326,
            47175,
            47175,
            47175,
            47175,
            47550,
            47550,
            47550,
            47550,
            47909,
            47909,
            47909,
            47909,
            48310,
            48310,
            48310,
            48310,
            48675,
            48675,
            48675,
            48675,
            48996,
            48996,
            48996,
            48996,
            49326,
            49326,
            49326,
            49326,
            49454,
            49454,
            49454,
            49558,
            49454,
            49558,
            49558,
            49558
           ]
          },
          {
           "label": "cluster linkage",
           "values": [
            3,
            3,
            3,
            3,
            3,
            3,
            3,
            3,
            3,
            3,
            3,
            3,
            3,
            3,
            3,
            3,
            3,
            3,
            3,
            3,
            3,
            3,
            3,
            3,
            3,
            3,
            3,
            3,
            3,
            3,
            3,
            3,
            2,
            2,
            2,
            2,
            2,
            2,
            2,
            2,
            2,
            2,
            2,
            2,
            2,
            2,
            2,
            2,
            2,
            2,
            2,
            2,
            2,
            2,
            2,
            2,
            2,
            2,
            2,
            2,
            2,
            2,
            2,
            2,
            1,
            1,
            1,
            1,
            1,
            1,
            1,
            1,
            1,
            1,
            1,
            1,
            1,
            1,
            1,
            1,
            1,
            1,
            1,
            1,
            1,
            1,
            1,
            1,
            1,
            1,
            1,
            1,
            1,
            1,
            1,
            1,
            4,
            4,
            4,
            4,
            4,
            4,
            4,
            4,
            4,
            4,
            4,
            4,
            4,
            4,
            4,
            4,
            4,
            4,
            4,
            4,
            4,
            4,
            4,
            4,
            4,
            4,
            4,
            4,
            4,
            4,
            4,
            4,
            4,
            4,
            4,
            4
           ]
          },
          {
           "label": "3000 to 3200<br>homogeneity score<br>",
           "values": [
            0.24167595797625768,
            0.5201896989708117,
            0.24249013077516454,
            0.5152656509044439,
            0.24084626959847302,
            0.5190628127545466,
            0.24135212740312723,
            0.5140459301176976,
            0.2401503842338645,
            0.49114586987999515,
            0.23945608936970864,
            0.48081922423843804,
            0.23950522935958543,
            0.4656961593312563,
            0.23904295232995568,
            0.4619781370318991,
            0.1765874986538815,
            0.6272074359307351,
            0.1761964333737801,
            0.6182390480522872,
            0.17682862626087043,
            0.623992925076174,
            0.17904964784624786,
            0.6232299641199455,
            0.1761408619971811,
            0.6163650588759536,
            0.17738454394786546,
            0.6109534583443104,
            0.1758326268832714,
            0.6097862078053293,
            0.17638982854641524,
            0.6077270968583474,
            0.24195539843058708,
            0.6195958522964076,
            0.24213582535940803,
            0.6159517124895214,
            0.24088846558987784,
            0.6190870638115854,
            0.2387314272773969,
            0.6117659386745536,
            0.23980339779326873,
            0.6123694025507117,
            0.24055461930454283,
            0.23989732489471555,
            0.6101051094575842,
            0.6094240836824114,
            0.24096736474010783,
            0.6071990106610244,
            0.1778013360469369,
            0.17581733390009557,
            0.6395865552277794,
            0.6381368957897745,
            0.1772121220429962,
            0.636360089535463,
            0.17815421900636288,
            0.6357550706364029,
            0.17850015921752693,
            0.6334082740623542,
            0.17830059483342298,
            0.6342115679666206,
            0.1759773371102899,
            0.6324563400046893,
            0.17850566233267637,
            0.6317642710135438,
            0.05789808219797283,
            0.05448652343734845,
            0.05800218260142527,
            0.051751923658475946,
            0.058686012331257045,
            0.05230574360691536,
            0.0583190390682531,
            0.0491665660604042,
            0.05841392945875318,
            0.04642606027962205,
            0.05604572126621841,
            0.04150733752182521,
            0.05561359339681244,
            0.03985255391102874,
            0.05765488046640158,
            0.03967769473291397,
            0.17758190708818164,
            0.05844838375470907,
            0.1775015510344495,
            0.05507022306404948,
            0.17930510202798577,
            0.055799717920657625,
            0.1799059309629366,
            0.17813887769737066,
            0.17790016832050112,
            0.053375925422504286,
            0.04887998746778362,
            0.048171150291987146,
            0.04223337326992797,
            0.17946741377765146,
            0.17955628564320453,
            0.04586048276262229,
            0.20962934502940933,
            0.6469475139302634,
            0.24204777076334527,
            0.6432487900539898,
            0.20873183841237736,
            0.6460961940479195,
            0.24222368496469882,
            0.6450784467436365,
            0.20877342048760514,
            0.6454160792368675,
            0.24159088173949037,
            0.6435250552148682,
            0.20820272804365644,
            0.6456316769788224,
            0.23931414615275978,
            0.6437087936767876,
            0.2085783146168126,
            0.6450304864537302,
            0.23845299759252858,
            0.6423028688735776,
            0.20821351002134664,
            0.6454490885187117,
            0.24221957861093313,
            0.6422185877025897,
            0.20842776396552173,
            0.6447854936568662,
            0.6409863149451844,
            0.2423842831719021,
            0.6440977582145574,
            0.2420806620090514,
            0.2084694528295876,
            0.2083550950631399,
            0.6412372632732054,
            0.6443054508723303,
            0.24250666494335868,
            0.6415652919527471
           ]
          },
          {
           "label": "3000 to 3200<br>adjusted mutual info score<br>",
           "values": [
            0.27090719668109364,
            0.5676739490142605,
            0.2704797352299801,
            0.5640129405385736,
            0.2692862975160349,
            0.5657455337384845,
            0.2704665013133737,
            0.5622462110788901,
            0.26957334547571327,
            0.5449768957759111,
            0.2680589013716895,
            0.5377630286209716,
            0.2690731016158911,
            0.525601615406606,
            0.26883410496278093,
            0.5238246368653019,
            0.20521601348269908,
            0.6386189883398862,
            0.20636010822031112,
            0.6325062093219527,
            0.20707057322051048,
            0.6363988913748846,
            0.20738346216430523,
            0.6350295102931351,
            0.20532609727869738,
            0.6288622044290672,
            0.20727770095458564,
            0.6250005917006515,
            0.20739704524730593,
            0.624066715193699,
            0.20579869002216522,
            0.6221220755183569,
            0.26831151147977184,
            0.629422504436156,
            0.26940580678616455,
            0.6285908115493102,
            0.2680732760421715,
            0.6296611706613926,
            0.2677331007972894,
            0.6233752464646506,
            0.2668817167758951,
            0.6238387217526548,
            0.2685842695340771,
            0.2681349145845382,
            0.6212631430720703,
            0.6199056297507831,
            0.26801201931382596,
            0.6180494116840081,
            0.2063333493978079,
            0.20408121740883906,
            0.6452345553426918,
            0.6440038593973748,
            0.205920709049385,
            0.6428600261726735,
            0.20666590148119296,
            0.6416251325822762,
            0.20696729271649425,
            0.6402642205488067,
            0.20735719247702422,
            0.6401261958491646,
            0.20517513071065488,
            0.6388635008118061,
            0.2074750249298335,
            0.6384657595439904,
            0.08681515480469587,
            0.08614788955682835,
            0.08686839886386195,
            0.08175003550359473,
            0.0880281747219323,
            0.08267188323946842,
            0.08753742364806126,
            0.07766048491917213,
            0.08765476625831374,
            0.0732502027019538,
            0.08425682668353753,
            0.06515394298595376,
            0.0836118961985454,
            0.06242940323383516,
            0.08663379303619481,
            0.06211241913001243,
            0.21492165563486357,
            0.09239546684617483,
            0.21578213760559387,
            0.08709533630575153,
            0.216248019898385,
            0.08833613026319664,
            0.21673316666064657,
            0.21591347771819713,
            0.21660690599548035,
            0.08450000257641387,
            0.07727017930106701,
            0.07613798323245811,
            0.06648203442462168,
            0.21681031683693316,
            0.2162423931851927,
            0.0723817656988114,
            0.23014495098758025,
            0.6532901371821169,
            0.26649384928970604,
            0.6503207836435021,
            0.22906520281184728,
            0.6517089693209352,
            0.2670707821641661,
            0.6523205941125904,
            0.2295310068896422,
            0.6515904483222337,
            0.2671555101109478,
            0.6508508749346232,
            0.22881227438028068,
            0.652115335308161,
            0.2649022614300578,
            0.6514580918998858,
            0.22856121192999687,
            0.6513128032330641,
            0.26487067381208373,
            0.6499499442546296,
            0.2287662261429334,
            0.6513509567603858,
            0.2664965240641243,
            0.6492339675661631,
            0.2284405612125653,
            0.6506248861996471,
            0.6479255958325969,
            0.2662913005072093,
            0.6498268631114018,
            0.2674960661623775,
            0.22902169592936053,
            0.22889514285943433,
            0.6481596499635638,
            0.650072356719098,
            0.2675957950500224,
            0.6484884800255595
           ]
          },
          {
           "label": "3000 to 3200<br>adjusted rand score<br>",
           "values": [
            0.4174716157962809,
            0.5072837265618262,
            0.4180210761525899,
            0.5052783618574846,
            0.4172747576365605,
            0.5066516340642326,
            0.4141318864335591,
            0.5032617886235329,
            0.41222063479635973,
            0.4890737489920649,
            0.41426434033335346,
            0.4737721838153557,
            0.41540895282765306,
            0.465339849489236,
            0.4154641152661646,
            0.4653131101741538,
            0.29812761496695445,
            0.7283759050177914,
            0.29533911573213706,
            0.7158204660101433,
            0.2930367097664523,
            0.7260179596751406,
            0.3041336586203136,
            0.7256380454955048,
            0.2991278616873084,
            0.7193650627531386,
            0.295554366507313,
            0.7159821949121642,
            0.29110304831835615,
            0.7132203694909401,
            0.2965695313478374,
            0.711376681186633,
            0.42635972572604447,
            0.7281597410423615,
            0.4217077251725658,
            0.7218940039418571,
            0.4222465439913131,
            0.7269049477539032,
            0.41271198775469486,
            0.7200525970565272,
            0.4193099389633112,
            0.7188261175590113,
            0.4172392680812861,
            0.4146970975378618,
            0.7165525140548717,
            0.7164128487162725,
            0.42029581525851123,
            0.7145598779025646,
            0.30139795306907835,
            0.29904554888393675,
            0.7405424514941856,
            0.7397703008649169,
            0.3000459440993966,
            0.7383495968464932,
            0.3008861510220405,
            0.7366795155099256,
            0.30578967676075397,
            0.7356175285711133,
            0.30118687196755023,
            0.7335841135862818,
            0.2967317782582348,
            0.7336091449546744,
            0.29874466248006476,
            0.733098521269545,
            0.022168281114275556,
            0.013679722426823155,
            0.0219680358576979,
            0.012980913271205858,
            0.022820359767815355,
            0.013129995743187857,
            0.02287849322382025,
            0.01226765268730688,
            0.022417327147564958,
            0.011519352743981628,
            0.02162063380018857,
            0.010200137763745553,
            0.021611240914013837,
            0.009742827452427633,
            0.022475437157581667,
            0.009699978431080157,
            0.26906024778307724,
            0.015690685758671635,
            0.2640157464409665,
            0.014709088724870525,
            0.26492905267894445,
            0.014933273358415058,
            0.27017252736641256,
            0.2614363962745958,
            0.2597120532025968,
            0.014226451669638027,
            0.012834011253387193,
            0.012606171339880458,
            0.010968344786024929,
            0.2688965714830326,
            0.2655199689388968,
            0.011932387519949052,
            0.38120560156651995,
            0.7511992692326551,
            0.43306062280841073,
            0.7492285219457914,
            0.3762695383344935,
            0.7507295049850802,
            0.42989800799429545,
            0.7519071422208939,
            0.37520919978008827,
            0.7493572910965898,
            0.4258457984216128,
            0.7504045176768359,
            0.37623872959458415,
            0.7495566063718528,
            0.4230090707077243,
            0.7497879369426959,
            0.3767365468764973,
            0.7483491553324784,
            0.4202518517522251,
            0.7492619184275714,
            0.3750610915914867,
            0.7485324240970315,
            0.43085913197758957,
            0.7481067019359517,
            0.3755842238189969,
            0.7483598627352621,
            0.7480207092189443,
            0.43343637067939794,
            0.7473963783975132,
            0.42880672151532173,
            0.37470220767916124,
            0.3751036454028609,
            0.7479784224673314,
            0.7478322510106703,
            0.42950933406809677,
            0.74829828017451
           ]
          },
          {
           "label": "3000 to 3200<br>f1 score<br>-weighted avg<br>",
           "values": [
            0.37927774223077754,
            0.6133292222806814,
            0.38053208256235127,
            0.6098436553151175,
            0.38017318129569444,
            0.6137889116971884,
            0.3794478383706221,
            0.6065273696262268,
            0.3780260546198556,
            0.5676191730769918,
            0.37901164509772084,
            0.5602845129006454,
            0.37847355594046206,
            0.5348857321946544,
            0.37760156339221806,
            0.5306138202446653,
            0.3241368746591036,
            0.730494541779344,
            0.3214255727020664,
            0.7214544120602233,
            0.32048758425366225,
            0.725556636085051,
            0.32531886836996465,
            0.7249211624166071,
            0.3220570567403893,
            0.715255694835949,
            0.32229779688896043,
            0.7085820618910346,
            0.3192165837973842,
            0.7084606906628248,
            0.32055376429922733,
            0.7063960566472511,
            0.38314385054716316,
            0.7282615792239646,
            0.38149075780329095,
            0.7286430250317925,
            0.38119069673980976,
            0.7318176274173599,
            0.37801545092834915,
            0.7236898026016652,
            0.3791609147841759,
            0.725077263744611,
            0.3807770125519531,
            0.3792274888498239,
            0.7217420081230227,
            0.7216652378912037,
            0.3813451469652891,
            0.7193452713740002,
            0.3249069618844746,
            0.3241324695774977,
            0.7509465034164096,
            0.749416813094163,
            0.32237325340044476,
            0.7481302729930648,
            0.3256130297616703,
            0.7468058422051993,
            0.32474725521061115,
            0.7437678084800002,
            0.32399611682085655,
            0.7449362225800179,
            0.3223941673939606,
            0.7439417791361779,
            0.32356745635583933,
            0.7437764579556466,
            0.19988013642456823,
            0.1965767635602283,
            0.20034060517740626,
            0.19248783787026827,
            0.20086753454665252,
            0.1934583420079946,
            0.20017224439498973,
            0.18888978719068295,
            0.20046815364502996,
            0.18497903266783536,
            0.19728428817300656,
            0.17757119239301886,
            0.19632416414282725,
            0.17523589872350873,
            0.1994075491144677,
            0.17505318005179513,
            0.3211966285907769,
            0.202184576389544,
            0.3198488700563774,
            0.19742408907450526,
            0.3220445999670154,
            0.1986396412940342,
            0.3228601792353133,
            0.3219041872286938,
            0.32171108638388984,
            0.1949475786364508,
            0.18814664953721214,
            0.18707646858204907,
            0.17838747988368198,
            0.3216138353290821,
            0.32312462575985795,
            0.18367130141861185,
            0.36448843025081057,
            0.760001780285447,
            0.3853341779017943,
            0.7543324026977014,
            0.36543762313886724,
            0.7594601305592238,
            0.38526113820246816,
            0.7553990544568949,
            0.3632890193302339,
            0.7585043238640025,
            0.3844403432272022,
            0.7546088943715833,
            0.3646250205723391,
            0.7589286984077995,
            0.3825539076599163,
            0.7546220806574023,
            0.3649575260691861,
            0.7580634517660593,
            0.3816142233128481,
            0.7526805568762028,
            0.3632534559107431,
            0.7589693139521114,
            0.38590129722444705,
            0.7527475917991702,
            0.3636655172674646,
            0.7580784545960724,
            0.7518419388049679,
            0.38626887388835673,
            0.7579415205615722,
            0.38508802623818733,
            0.3627945453007402,
            0.36293120230685455,
            0.751848609443138,
            0.7584200901441419,
            0.3862071776705289,
            0.7521416771946603
           ]
          },
          {
           "label": "3900 to 4000<br>homogeneity score<br>",
           "values": [
            0.24834282581174585,
            0.5614756639653314,
            0.24869635126629283,
            0.561119949203508,
            0.2455423738431295,
            0.5479788371501902,
            0.24693914582330964,
            0.5426397123187889,
            0.24563265940536202,
            0.540944165247608,
            0.24646879535160282,
            0.5260644834966044,
            0.24605608783264132,
            0.5211383605854057,
            0.24667733802692474,
            0.5203358940447786,
            0.1860665288128181,
            0.6410646056708019,
            0.18668460767152387,
            0.6373383149393482,
            0.18621542279716963,
            0.6422460413348081,
            0.18674168816152328,
            0.638374832204596,
            0.18682027962413914,
            0.6336715489692667,
            0.18674849352987433,
            0.632489481352398,
            0.1852946495623356,
            0.6270084311732138,
            0.18497246156207223,
            0.6271440950783288,
            0.24764669938033376,
            0.6303132575324437,
            0.2478532244513065,
            0.6286444639330624,
            0.24819475543874564,
            0.6311511945934823,
            0.24617281898092191,
            0.6274828500616315,
            0.24569829341918345,
            0.6264536551941521,
            0.24846323900336564,
            0.2467427267430883,
            0.6264823555719989,
            0.6237928243414926,
            0.24706063482697999,
            0.6233219199561623,
            0.1881881429487575,
            0.18648290803479914,
            0.6521318656908341,
            0.6509685145552163,
            0.18742195010263954,
            0.6496520929279762,
            0.1870370375847293,
            0.6474429469425009,
            0.1877989215328967,
            0.6482591110954967,
            0.18727432875802977,
            0.6444713463681702,
            0.18518141209791122,
            0.6442292711922228,
            0.18630570322258866,
            0.6437430909207312,
            0.07317324168330379,
            0.07201766533271955,
            0.07320854678705756,
            0.07036114978295177,
            0.0729275582604764,
            0.0698610633628698,
            0.0734081723780163,
            0.0665385289514452,
            0.07432781300941518,
            0.06285741028275424,
            0.0723334592100441,
            0.05932382889443488,
            0.07204170563439757,
            0.05466258342007931,
            0.07128999551153732,
            0.05278305314856703,
            0.1865052393504412,
            0.0761463592171055,
            0.18833601449969198,
            0.075128424506904,
            0.1876584205441165,
            0.07229281551267668,
            0.18775667320016565,
            0.18897984587358874,
            0.18792441109959138,
            0.07137394124002958,
            0.06835113853794146,
            0.06465505289078508,
            0.06022000333943829,
            0.18876544183599164,
            0.1882438291974901,
            0.06103257096580802,
            0.2189905360514475,
            0.6582417913303917,
            0.24980721138912132,
            0.6529998480729223,
            0.21721375316212688,
            0.657733433872173,
            0.24987703899532562,
            0.6532782086624909,
            0.21761760992726908,
            0.6576896395623302,
            0.2503702360871317,
            0.6522898011721807,
            0.2158704859051681,
            0.6574593534609772,
            0.24809930337075592,
            0.6520325761235151,
            0.2162115601013339,
            0.6567283532859106,
            0.2467728186332594,
            0.6508684355933759,
            0.21657190777387011,
            0.6555858683553244,
            0.2479803822063802,
            0.650081111156329,
            0.21780189994166974,
            0.6537914896597816,
            0.6495561896791289,
            0.2496434632677086,
            0.6542974428671341,
            0.2493657052764808,
            0.21706394840765517,
            0.21642949394040054,
            0.6496366298622297,
            0.6539799138252621,
            0.24975328586251408,
            0.6491918299479127
           ]
          },
          {
           "label": "3900 to 4000<br>adjusted mutual info score<br>",
           "values": [
            0.2735723379115827,
            0.5939761926140208,
            0.2736083356129223,
            0.5933728797841465,
            0.2713807968281219,
            0.5844124486217694,
            0.2726246402493362,
            0.5790871853470803,
            0.2719273039494345,
            0.5775422343953674,
            0.2724159610460626,
            0.5708783937900278,
            0.27290686816499826,
            0.5671720634496826,
            0.2732402551242966,
            0.5665094451164862,
            0.21011798838058296,
            0.651656619122856,
            0.21099108376840983,
            0.6486066109687963,
            0.21142213121789571,
            0.6515286784974905,
            0.21173107597956145,
            0.6483633980355495,
            0.2114900054190513,
            0.6446183632862102,
            0.21193523691463237,
            0.6429725222503542,
            0.2109177005472364,
            0.6386222017967699,
            0.2101015118112532,
            0.6387885282722089,
            0.2712385520062974,
            0.641721717327606,
            0.27242384223803484,
            0.6394276255533946,
            0.27176217404668745,
            0.6403212224683457,
            0.27145045556946706,
            0.6383234223633667,
            0.27012528557171733,
            0.6367748811331715,
            0.2725457671133756,
            0.27093604661452975,
            0.6366375123660097,
            0.63389241504335,
            0.2708576186527936,
            0.6338193215721617,
            0.21142344243583702,
            0.20953498662199985,
            0.6582583776719778,
            0.6570632970301757,
            0.21115115855324543,
            0.6557994568130595,
            0.2111765224301631,
            0.6538325511888097,
            0.2123396360400407,
            0.654408357553567,
            0.21214583443580373,
            0.6507602849597688,
            0.21070372644474983,
            0.6502038141817678,
            0.2106492804773749,
            0.6498697437021731,
            0.10835093970395415,
            0.11395264422998815,
            0.10818105833170248,
            0.11140930373089288,
            0.10805891085272236,
            0.11066923595349892,
            0.10880538064533823,
            0.10548266179113913,
            0.11002831841167292,
            0.09964236915113855,
            0.10757077701660381,
            0.09408447486154727,
            0.10702084020270938,
            0.08663172308080441,
            0.10599064009190076,
            0.08364028326965262,
            0.21957225246801063,
            0.12014115616101309,
            0.22152415737166864,
            0.11866270078508269,
            0.2205925699173772,
            0.11430505103082604,
            0.22122131234889186,
            0.2206974162606541,
            0.22178691383396013,
            0.11294762065321634,
            0.10824386272305694,
            0.1025018267708261,
            0.09557095051812367,
            0.22227872504787352,
            0.2213163151800523,
            0.09683122600709097,
            0.23654887696422983,
            0.6635319573936318,
            0.27116125069639335,
            0.6599349400722098,
            0.23522915860831933,
            0.6630066584590572,
            0.27070104294067604,
            0.6601799681801388,
            0.23486596892375158,
            0.6632011275302856,
            0.2728627580216601,
            0.6593053569020612,
            0.23377520492511708,
            0.6633171967187489,
            0.27033193368696296,
            0.6588799951811661,
            0.23426909451774577,
            0.6623829921144196,
            0.26912937655706276,
            0.6579081386925397,
            0.2350667613178501,
            0.6613625986676607,
            0.2698709661616747,
            0.657408802347055,
            0.23551188235088477,
            0.6595674514602187,
            0.6568298893000851,
            0.2709756698995166,
            0.6599015103347617,
            0.27171496884057733,
            0.23507596803296732,
            0.23464571491847389,
            0.6567351994937581,
            0.6596576666724636,
            0.2722454366689149,
            0.6564213198143868
           ]
          },
          {
           "label": "3900 to 4000<br>adjusted rand score<br>",
           "values": [
            0.4355722085103629,
            0.5527317216783273,
            0.4318989206649218,
            0.5541402876810612,
            0.427042568832447,
            0.5331999765441823,
            0.4262887994480827,
            0.5348226339104586,
            0.4265166941154241,
            0.534050354830158,
            0.4283972368857143,
            0.5198837661075072,
            0.42843743683353497,
            0.5137228218894266,
            0.42968247616704197,
            0.5136408140967511,
            0.3241191779248922,
            0.7377335813798163,
            0.32388599069553153,
            0.7305753754007671,
            0.31740976976509433,
            0.7386613981516171,
            0.32254987009802255,
            0.7356765706895784,
            0.32528881407010346,
            0.7330303004711743,
            0.32145857504146647,
            0.7322644216876887,
            0.31771599581796883,
            0.7277119374697694,
            0.3179790051360894,
            0.7274140270989843,
            0.4361036065309937,
            0.7386599688266039,
            0.4334247458807727,
            0.7350065268851023,
            0.4386180505546809,
            0.7364807703455157,
            0.4275036967335406,
            0.7340881147989446,
            0.4308256607106024,
            0.7308251331757135,
            0.43357597240482376,
            0.4312131482640452,
            0.7307062143534677,
            0.7290870051498088,
            0.4335846695413856,
            0.7280652702447191,
            0.32720084519117487,
            0.3267006665716529,
            0.7504706564426021,
            0.7500177581168205,
            0.32469219125299514,
            0.7483182589532463,
            0.3235803680086179,
            0.7465207409917304,
            0.32848618166022303,
            0.7468397687679578,
            0.3212038876520879,
            0.7430433022307901,
            0.31915813734421133,
            0.7441826670009122,
            0.32322695101834664,
            0.7443127715243925,
            0.03056814298687779,
            0.01870901247829856,
            0.03123547369397167,
            0.018188349179994814,
            0.029972558588783612,
            0.018046853262972888,
            0.030594502683011306,
            0.01704604931985647,
            0.030435870900180722,
            0.016054316610994476,
            0.029723114935411517,
            0.01500490096144278,
            0.030079526387627245,
            0.013823063160231713,
            0.029754477986731438,
            0.013282008892741889,
            0.2869074482588346,
            0.021021651612965715,
            0.28733607297892483,
            0.02064638107893731,
            0.2862287771921952,
            0.01980879759328334,
            0.28733214682991703,
            0.2902930644462119,
            0.28318384219510156,
            0.019460146733921012,
            0.018584937767002846,
            0.01751546988995666,
            0.016240587124162514,
            0.287766862466334,
            0.2849075903474645,
            0.016474331435150324,
            0.3979705761121929,
            0.7598824045513518,
            0.4461287471993106,
            0.757215217095424,
            0.3908704877568945,
            0.7600040579950498,
            0.4446429721436074,
            0.757597587014836,
            0.39348412153126355,
            0.7599097538348516,
            0.44230404191872297,
            0.7572822918287139,
            0.3915817094029402,
            0.7589153708224199,
            0.4404953464440912,
            0.7568457432881103,
            0.390409169202454,
            0.7578389518896896,
            0.43942165882984785,
            0.7561801314880747,
            0.38922761075601325,
            0.7576019935407091,
            0.44166065938069754,
            0.7555109438439557,
            0.39383499721735565,
            0.7552438270925181,
            0.7550328938182939,
            0.44554454257207343,
            0.7556741067231862,
            0.44216132726300994,
            0.38933276455882393,
            0.3896209382989643,
            0.75480351508216,
            0.7559905561589295,
            0.440600099034981,
            0.7545935562915856
           ]
          },
          {
           "label": "3900 to 4000<br>f1 score<br>-weighted avg<br>",
           "values": [
            0.3945283908386214,
            0.6606054719114985,
            0.39536031675545835,
            0.6616760145513259,
            0.3915923180744175,
            0.6491108911780226,
            0.39249113893408616,
            0.6336498861774538,
            0.39164309023935573,
            0.633559292746481,
            0.3921992158341797,
            0.6207514749198272,
            0.3914430117203256,
            0.615867683003281,
            0.39202984564906107,
            0.6146569216490689,
            0.34218102828392943,
            0.7448814788995862,
            0.34304909428385394,
            0.7423261514638868,
            0.339239746741792,
            0.7456990451498118,
            0.3424789376502158,
            0.7424451193758909,
            0.34200832997601904,
            0.7364876588705972,
            0.3408895799733981,
            0.7350683883504897,
            0.3395229163485092,
            0.7299106625304723,
            0.33986457856946806,
            0.7298399520889739,
            0.39698852170911875,
            0.7426637386062246,
            0.395409664878746,
            0.7417760355933781,
            0.39568233879041564,
            0.7446038518826706,
            0.39309948109764836,
            0.7402516909743371,
            0.39283614573325976,
            0.7393015147006321,
            0.3966186761660592,
            0.3953652961123814,
            0.7374010138960378,
            0.7354945842985525,
            0.39523677697318044,
            0.7346692696955492,
            0.34656304450392533,
            0.34397945354669,
            0.762747966031975,
            0.7613760934122068,
            0.3418113624346635,
            0.7608177345719435,
            0.34349327098032595,
            0.758313355020715,
            0.34242568050696887,
            0.7589336769153987,
            0.34268229740222894,
            0.7547311691364443,
            0.3396542404029277,
            0.7552925053659607,
            0.3416376973977164,
            0.7550123270061387,
            0.22025189071508525,
            0.22181986181033406,
            0.22078437636725548,
            0.21956379832785772,
            0.22090895828272125,
            0.21900617764368308,
            0.22225917241854892,
            0.2145348666806253,
            0.22313651247587588,
            0.20939352131381425,
            0.22120081899207955,
            0.20443242386233423,
            0.22074545303524337,
            0.19736575131094553,
            0.2205960270991103,
            0.19485823747506298,
            0.33939445009172525,
            0.22837004826351523,
            0.3412853541297059,
            0.2272969361553573,
            0.3399026826139606,
            0.2230605833479571,
            0.33913502830926023,
            0.3431174965479061,
            0.3408634188176926,
            0.2218951364551186,
            0.21761951986157574,
            0.21196936154198856,
            0.20570267798329273,
            0.340294200218914,
            0.3404471434121058,
            0.20675980935815477,
            0.38126183182255746,
            0.7701567741885421,
            0.40270951175331204,
            0.7628524111675912,
            0.3812928276901408,
            0.7696036038255606,
            0.4017780037902858,
            0.7626392690964383,
            0.38081982210442133,
            0.7696629028091468,
            0.40022591533059904,
            0.762513934282444,
            0.3801821947227318,
            0.7690314147624431,
            0.398318983150019,
            0.7620641480317938,
            0.37932276345013893,
            0.768551599152266,
            0.39781619185758443,
            0.7614641893064995,
            0.37977060111666044,
            0.768507997638746,
            0.39856407774583386,
            0.7605208213696585,
            0.38087603962908095,
            0.7667402044490722,
            0.7600429315544927,
            0.400828462544285,
            0.7673757564796407,
            0.4002982017700881,
            0.3803593037096964,
            0.379292423970984,
            0.7600483790159931,
            0.7671692104308456,
            0.40023290323840055,
            0.7596991312454519
           ]
          }
         ],
         "domain": {
          "x": [
           0,
           1
          ],
          "y": [
           0,
           1
          ]
         },
         "line": {
          "color": [
           0.3945283908386214,
           0.6606054719114985,
           0.39536031675545835,
           0.6616760145513259,
           0.3915923180744175,
           0.6491108911780226,
           0.39249113893408616,
           0.6336498861774538,
           0.39164309023935573,
           0.633559292746481,
           0.3921992158341797,
           0.6207514749198272,
           0.3914430117203256,
           0.615867683003281,
           0.39202984564906107,
           0.6146569216490689,
           0.34218102828392943,
           0.7448814788995862,
           0.34304909428385394,
           0.7423261514638868,
           0.339239746741792,
           0.7456990451498118,
           0.3424789376502158,
           0.7424451193758909,
           0.34200832997601904,
           0.7364876588705972,
           0.3408895799733981,
           0.7350683883504897,
           0.3395229163485092,
           0.7299106625304723,
           0.33986457856946806,
           0.7298399520889739,
           0.39698852170911875,
           0.7426637386062246,
           0.395409664878746,
           0.7417760355933781,
           0.39568233879041564,
           0.7446038518826706,
           0.39309948109764836,
           0.7402516909743371,
           0.39283614573325976,
           0.7393015147006321,
           0.3966186761660592,
           0.3953652961123814,
           0.7374010138960378,
           0.7354945842985525,
           0.39523677697318044,
           0.7346692696955492,
           0.34656304450392533,
           0.34397945354669,
           0.762747966031975,
           0.7613760934122068,
           0.3418113624346635,
           0.7608177345719435,
           0.34349327098032595,
           0.758313355020715,
           0.34242568050696887,
           0.7589336769153987,
           0.34268229740222894,
           0.7547311691364443,
           0.3396542404029277,
           0.7552925053659607,
           0.3416376973977164,
           0.7550123270061387,
           0.22025189071508525,
           0.22181986181033406,
           0.22078437636725548,
           0.21956379832785772,
           0.22090895828272125,
           0.21900617764368308,
           0.22225917241854892,
           0.2145348666806253,
           0.22313651247587588,
           0.20939352131381425,
           0.22120081899207955,
           0.20443242386233423,
           0.22074545303524337,
           0.19736575131094553,
           0.2205960270991103,
           0.19485823747506298,
           0.33939445009172525,
           0.22837004826351523,
           0.3412853541297059,
           0.2272969361553573,
           0.3399026826139606,
           0.2230605833479571,
           0.33913502830926023,
           0.3431174965479061,
           0.3408634188176926,
           0.2218951364551186,
           0.21761951986157574,
           0.21196936154198856,
           0.20570267798329273,
           0.340294200218914,
           0.3404471434121058,
           0.20675980935815477,
           0.38126183182255746,
           0.7701567741885421,
           0.40270951175331204,
           0.7628524111675912,
           0.3812928276901408,
           0.7696036038255606,
           0.4017780037902858,
           0.7626392690964383,
           0.38081982210442133,
           0.7696629028091468,
           0.40022591533059904,
           0.762513934282444,
           0.3801821947227318,
           0.7690314147624431,
           0.398318983150019,
           0.7620641480317938,
           0.37932276345013893,
           0.768551599152266,
           0.39781619185758443,
           0.7614641893064995,
           0.37977060111666044,
           0.768507997638746,
           0.39856407774583386,
           0.7605208213696585,
           0.38087603962908095,
           0.7667402044490722,
           0.7600429315544927,
           0.400828462544285,
           0.7673757564796407,
           0.4002982017700881,
           0.3803593037096964,
           0.379292423970984,
           0.7600483790159931,
           0.7671692104308456,
           0.40023290323840055,
           0.7596991312454519
          ],
          "coloraxis": "coloraxis"
         },
         "name": "",
         "type": "parcoords"
        }
       ],
       "layout": {
        "coloraxis": {
         "colorbar": {
          "title": {
           "text": "3900 to 4000<br>f1 score<br>-weighted avg<br>"
          }
         },
         "colorscale": [
          [
           0,
           "#0d0887"
          ],
          [
           0.1111111111111111,
           "#46039f"
          ],
          [
           0.2222222222222222,
           "#7201a8"
          ],
          [
           0.3333333333333333,
           "#9c179e"
          ],
          [
           0.4444444444444444,
           "#bd3786"
          ],
          [
           0.5555555555555556,
           "#d8576b"
          ],
          [
           0.6666666666666666,
           "#ed7953"
          ],
          [
           0.7777777777777778,
           "#fb9f3a"
          ],
          [
           0.8888888888888888,
           "#fdca26"
          ],
          [
           1,
           "#f0f921"
          ]
         ]
        },
        "legend": {
         "tracegroupgap": 0
        },
        "margin": {
         "t": 60
        },
        "template": {
         "data": {
          "bar": [
           {
            "error_x": {
             "color": "#2a3f5f"
            },
            "error_y": {
             "color": "#2a3f5f"
            },
            "marker": {
             "line": {
              "color": "#E5ECF6",
              "width": 0.5
             }
            },
            "type": "bar"
           }
          ],
          "barpolar": [
           {
            "marker": {
             "line": {
              "color": "#E5ECF6",
              "width": 0.5
             }
            },
            "type": "barpolar"
           }
          ],
          "carpet": [
           {
            "aaxis": {
             "endlinecolor": "#2a3f5f",
             "gridcolor": "white",
             "linecolor": "white",
             "minorgridcolor": "white",
             "startlinecolor": "#2a3f5f"
            },
            "baxis": {
             "endlinecolor": "#2a3f5f",
             "gridcolor": "white",
             "linecolor": "white",
             "minorgridcolor": "white",
             "startlinecolor": "#2a3f5f"
            },
            "type": "carpet"
           }
          ],
          "choropleth": [
           {
            "colorbar": {
             "outlinewidth": 0,
             "ticks": ""
            },
            "type": "choropleth"
           }
          ],
          "contour": [
           {
            "colorbar": {
             "outlinewidth": 0,
             "ticks": ""
            },
            "colorscale": [
             [
              0,
              "#0d0887"
             ],
             [
              0.1111111111111111,
              "#46039f"
             ],
             [
              0.2222222222222222,
              "#7201a8"
             ],
             [
              0.3333333333333333,
              "#9c179e"
             ],
             [
              0.4444444444444444,
              "#bd3786"
             ],
             [
              0.5555555555555556,
              "#d8576b"
             ],
             [
              0.6666666666666666,
              "#ed7953"
             ],
             [
              0.7777777777777778,
              "#fb9f3a"
             ],
             [
              0.8888888888888888,
              "#fdca26"
             ],
             [
              1,
              "#f0f921"
             ]
            ],
            "type": "contour"
           }
          ],
          "contourcarpet": [
           {
            "colorbar": {
             "outlinewidth": 0,
             "ticks": ""
            },
            "type": "contourcarpet"
           }
          ],
          "heatmap": [
           {
            "colorbar": {
             "outlinewidth": 0,
             "ticks": ""
            },
            "colorscale": [
             [
              0,
              "#0d0887"
             ],
             [
              0.1111111111111111,
              "#46039f"
             ],
             [
              0.2222222222222222,
              "#7201a8"
             ],
             [
              0.3333333333333333,
              "#9c179e"
             ],
             [
              0.4444444444444444,
              "#bd3786"
             ],
             [
              0.5555555555555556,
              "#d8576b"
             ],
             [
              0.6666666666666666,
              "#ed7953"
             ],
             [
              0.7777777777777778,
              "#fb9f3a"
             ],
             [
              0.8888888888888888,
              "#fdca26"
             ],
             [
              1,
              "#f0f921"
             ]
            ],
            "type": "heatmap"
           }
          ],
          "heatmapgl": [
           {
            "colorbar": {
             "outlinewidth": 0,
             "ticks": ""
            },
            "colorscale": [
             [
              0,
              "#0d0887"
             ],
             [
              0.1111111111111111,
              "#46039f"
             ],
             [
              0.2222222222222222,
              "#7201a8"
             ],
             [
              0.3333333333333333,
              "#9c179e"
             ],
             [
              0.4444444444444444,
              "#bd3786"
             ],
             [
              0.5555555555555556,
              "#d8576b"
             ],
             [
              0.6666666666666666,
              "#ed7953"
             ],
             [
              0.7777777777777778,
              "#fb9f3a"
             ],
             [
              0.8888888888888888,
              "#fdca26"
             ],
             [
              1,
              "#f0f921"
             ]
            ],
            "type": "heatmapgl"
           }
          ],
          "histogram": [
           {
            "marker": {
             "colorbar": {
              "outlinewidth": 0,
              "ticks": ""
             }
            },
            "type": "histogram"
           }
          ],
          "histogram2d": [
           {
            "colorbar": {
             "outlinewidth": 0,
             "ticks": ""
            },
            "colorscale": [
             [
              0,
              "#0d0887"
             ],
             [
              0.1111111111111111,
              "#46039f"
             ],
             [
              0.2222222222222222,
              "#7201a8"
             ],
             [
              0.3333333333333333,
              "#9c179e"
             ],
             [
              0.4444444444444444,
              "#bd3786"
             ],
             [
              0.5555555555555556,
              "#d8576b"
             ],
             [
              0.6666666666666666,
              "#ed7953"
             ],
             [
              0.7777777777777778,
              "#fb9f3a"
             ],
             [
              0.8888888888888888,
              "#fdca26"
             ],
             [
              1,
              "#f0f921"
             ]
            ],
            "type": "histogram2d"
           }
          ],
          "histogram2dcontour": [
           {
            "colorbar": {
             "outlinewidth": 0,
             "ticks": ""
            },
            "colorscale": [
             [
              0,
              "#0d0887"
             ],
             [
              0.1111111111111111,
              "#46039f"
             ],
             [
              0.2222222222222222,
              "#7201a8"
             ],
             [
              0.3333333333333333,
              "#9c179e"
             ],
             [
              0.4444444444444444,
              "#bd3786"
             ],
             [
              0.5555555555555556,
              "#d8576b"
             ],
             [
              0.6666666666666666,
              "#ed7953"
             ],
             [
              0.7777777777777778,
              "#fb9f3a"
             ],
             [
              0.8888888888888888,
              "#fdca26"
             ],
             [
              1,
              "#f0f921"
             ]
            ],
            "type": "histogram2dcontour"
           }
          ],
          "mesh3d": [
           {
            "colorbar": {
             "outlinewidth": 0,
             "ticks": ""
            },
            "type": "mesh3d"
           }
          ],
          "parcoords": [
           {
            "line": {
             "colorbar": {
              "outlinewidth": 0,
              "ticks": ""
             }
            },
            "type": "parcoords"
           }
          ],
          "pie": [
           {
            "automargin": true,
            "type": "pie"
           }
          ],
          "scatter": [
           {
            "marker": {
             "colorbar": {
              "outlinewidth": 0,
              "ticks": ""
             }
            },
            "type": "scatter"
           }
          ],
          "scatter3d": [
           {
            "line": {
             "colorbar": {
              "outlinewidth": 0,
              "ticks": ""
             }
            },
            "marker": {
             "colorbar": {
              "outlinewidth": 0,
              "ticks": ""
             }
            },
            "type": "scatter3d"
           }
          ],
          "scattercarpet": [
           {
            "marker": {
             "colorbar": {
              "outlinewidth": 0,
              "ticks": ""
             }
            },
            "type": "scattercarpet"
           }
          ],
          "scattergeo": [
           {
            "marker": {
             "colorbar": {
              "outlinewidth": 0,
              "ticks": ""
             }
            },
            "type": "scattergeo"
           }
          ],
          "scattergl": [
           {
            "marker": {
             "colorbar": {
              "outlinewidth": 0,
              "ticks": ""
             }
            },
            "type": "scattergl"
           }
          ],
          "scattermapbox": [
           {
            "marker": {
             "colorbar": {
              "outlinewidth": 0,
              "ticks": ""
             }
            },
            "type": "scattermapbox"
           }
          ],
          "scatterpolar": [
           {
            "marker": {
             "colorbar": {
              "outlinewidth": 0,
              "ticks": ""
             }
            },
            "type": "scatterpolar"
           }
          ],
          "scatterpolargl": [
           {
            "marker": {
             "colorbar": {
              "outlinewidth": 0,
              "ticks": ""
             }
            },
            "type": "scatterpolargl"
           }
          ],
          "scatterternary": [
           {
            "marker": {
             "colorbar": {
              "outlinewidth": 0,
              "ticks": ""
             }
            },
            "type": "scatterternary"
           }
          ],
          "surface": [
           {
            "colorbar": {
             "outlinewidth": 0,
             "ticks": ""
            },
            "colorscale": [
             [
              0,
              "#0d0887"
             ],
             [
              0.1111111111111111,
              "#46039f"
             ],
             [
              0.2222222222222222,
              "#7201a8"
             ],
             [
              0.3333333333333333,
              "#9c179e"
             ],
             [
              0.4444444444444444,
              "#bd3786"
             ],
             [
              0.5555555555555556,
              "#d8576b"
             ],
             [
              0.6666666666666666,
              "#ed7953"
             ],
             [
              0.7777777777777778,
              "#fb9f3a"
             ],
             [
              0.8888888888888888,
              "#fdca26"
             ],
             [
              1,
              "#f0f921"
             ]
            ],
            "type": "surface"
           }
          ],
          "table": [
           {
            "cells": {
             "fill": {
              "color": "#EBF0F8"
             },
             "line": {
              "color": "white"
             }
            },
            "header": {
             "fill": {
              "color": "#C8D4E3"
             },
             "line": {
              "color": "white"
             }
            },
            "type": "table"
           }
          ]
         },
         "layout": {
          "annotationdefaults": {
           "arrowcolor": "#2a3f5f",
           "arrowhead": 0,
           "arrowwidth": 1
          },
          "autotypenumbers": "strict",
          "coloraxis": {
           "colorbar": {
            "outlinewidth": 0,
            "ticks": ""
           }
          },
          "colorscale": {
           "diverging": [
            [
             0,
             "#8e0152"
            ],
            [
             0.1,
             "#c51b7d"
            ],
            [
             0.2,
             "#de77ae"
            ],
            [
             0.3,
             "#f1b6da"
            ],
            [
             0.4,
             "#fde0ef"
            ],
            [
             0.5,
             "#f7f7f7"
            ],
            [
             0.6,
             "#e6f5d0"
            ],
            [
             0.7,
             "#b8e186"
            ],
            [
             0.8,
             "#7fbc41"
            ],
            [
             0.9,
             "#4d9221"
            ],
            [
             1,
             "#276419"
            ]
           ],
           "sequential": [
            [
             0,
             "#0d0887"
            ],
            [
             0.1111111111111111,
             "#46039f"
            ],
            [
             0.2222222222222222,
             "#7201a8"
            ],
            [
             0.3333333333333333,
             "#9c179e"
            ],
            [
             0.4444444444444444,
             "#bd3786"
            ],
            [
             0.5555555555555556,
             "#d8576b"
            ],
            [
             0.6666666666666666,
             "#ed7953"
            ],
            [
             0.7777777777777778,
             "#fb9f3a"
            ],
            [
             0.8888888888888888,
             "#fdca26"
            ],
            [
             1,
             "#f0f921"
            ]
           ],
           "sequentialminus": [
            [
             0,
             "#0d0887"
            ],
            [
             0.1111111111111111,
             "#46039f"
            ],
            [
             0.2222222222222222,
             "#7201a8"
            ],
            [
             0.3333333333333333,
             "#9c179e"
            ],
            [
             0.4444444444444444,
             "#bd3786"
            ],
            [
             0.5555555555555556,
             "#d8576b"
            ],
            [
             0.6666666666666666,
             "#ed7953"
            ],
            [
             0.7777777777777778,
             "#fb9f3a"
            ],
            [
             0.8888888888888888,
             "#fdca26"
            ],
            [
             1,
             "#f0f921"
            ]
           ]
          },
          "colorway": [
           "#636efa",
           "#EF553B",
           "#00cc96",
           "#ab63fa",
           "#FFA15A",
           "#19d3f3",
           "#FF6692",
           "#B6E880",
           "#FF97FF",
           "#FECB52"
          ],
          "font": {
           "color": "#2a3f5f"
          },
          "geo": {
           "bgcolor": "white",
           "lakecolor": "white",
           "landcolor": "#E5ECF6",
           "showlakes": true,
           "showland": true,
           "subunitcolor": "white"
          },
          "hoverlabel": {
           "align": "left"
          },
          "hovermode": "closest",
          "mapbox": {
           "style": "light"
          },
          "paper_bgcolor": "white",
          "plot_bgcolor": "#E5ECF6",
          "polar": {
           "angularaxis": {
            "gridcolor": "white",
            "linecolor": "white",
            "ticks": ""
           },
           "bgcolor": "#E5ECF6",
           "radialaxis": {
            "gridcolor": "white",
            "linecolor": "white",
            "ticks": ""
           }
          },
          "scene": {
           "xaxis": {
            "backgroundcolor": "#E5ECF6",
            "gridcolor": "white",
            "gridwidth": 2,
            "linecolor": "white",
            "showbackground": true,
            "ticks": "",
            "zerolinecolor": "white"
           },
           "yaxis": {
            "backgroundcolor": "#E5ECF6",
            "gridcolor": "white",
            "gridwidth": 2,
            "linecolor": "white",
            "showbackground": true,
            "ticks": "",
            "zerolinecolor": "white"
           },
           "zaxis": {
            "backgroundcolor": "#E5ECF6",
            "gridcolor": "white",
            "gridwidth": 2,
            "linecolor": "white",
            "showbackground": true,
            "ticks": "",
            "zerolinecolor": "white"
           }
          },
          "shapedefaults": {
           "line": {
            "color": "#2a3f5f"
           }
          },
          "ternary": {
           "aaxis": {
            "gridcolor": "white",
            "linecolor": "white",
            "ticks": ""
           },
           "baxis": {
            "gridcolor": "white",
            "linecolor": "white",
            "ticks": ""
           },
           "bgcolor": "#E5ECF6",
           "caxis": {
            "gridcolor": "white",
            "linecolor": "white",
            "ticks": ""
           }
          },
          "title": {
           "x": 0.05
          },
          "xaxis": {
           "automargin": true,
           "gridcolor": "white",
           "linecolor": "white",
           "ticks": "",
           "title": {
            "standoff": 15
           },
           "zerolinecolor": "white",
           "zerolinewidth": 2
          },
          "yaxis": {
           "automargin": true,
           "gridcolor": "white",
           "linecolor": "white",
           "ticks": "",
           "title": {
            "standoff": 15
           },
           "zerolinecolor": "white",
           "zerolinewidth": 2
          }
         }
        }
       }
      },
      "text/html": [
       "<div>                            <div id=\"0921a62c-f5bc-4c83-9431-8a1056fa9074\" class=\"plotly-graph-div\" style=\"height:525px; width:100%;\"></div>            <script type=\"text/javascript\">                require([\"plotly\"], function(Plotly) {                    window.PLOTLYENV=window.PLOTLYENV || {};                                    if (document.getElementById(\"0921a62c-f5bc-4c83-9431-8a1056fa9074\")) {                    Plotly.newPlot(                        \"0921a62c-f5bc-4c83-9431-8a1056fa9074\",                        [{\"dimensions\": [{\"label\": \"subreddits\", \"values\": [47175.0, 47175.0, 47550.0, 47550.0, 47909.0, 47909.0, 48310.0, 48310.0, 48675.0, 48675.0, 48996.0, 48996.0, 49326.0, 49326.0, 49454.0, 49454.0, 47175.0, 47175.0, 47550.0, 47550.0, 47909.0, 47909.0, 48310.0, 48310.0, 48675.0, 48675.0, 48996.0, 48996.0, 49326.0, 49326.0, 49454.0, 49454.0, 47175.0, 47175.0, 47550.0, 47550.0, 47909.0, 47909.0, 48310.0, 48310.0, 48675.0, 48675.0, 48996.0, 49326.0, 48996.0, 49326.0, 49454.0, 49454.0, 47550.0, 47175.0, 47175.0, 47550.0, 47909.0, 47909.0, 48310.0, 48310.0, 48675.0, 48675.0, 48996.0, 48996.0, 49326.0, 49326.0, 49454.0, 49454.0, 47175.0, 47175.0, 47550.0, 47550.0, 47909.0, 47909.0, 48310.0, 48310.0, 48675.0, 48675.0, 48996.0, 48996.0, 49326.0, 49326.0, 49454.0, 49454.0, 47175.0, 47175.0, 47550.0, 47550.0, 47909.0, 47909.0, 48996.0, 48310.0, 48675.0, 48310.0, 48675.0, 48996.0, 49454.0, 49326.0, 49454.0, 49326.0, 47175.0, 47175.0, 47175.0, 47175.0, 47550.0, 47550.0, 47550.0, 47550.0, 47909.0, 47909.0, 47909.0, 47909.0, 48310.0, 48310.0, 48310.0, 48310.0, 48675.0, 48675.0, 48675.0, 48675.0, 48996.0, 48996.0, 48996.0, 48996.0, 49326.0, 49326.0, 49326.0, 49326.0, 49454.0, 49454.0, 49454.0, 49558.0, 49454.0, 49558.0, 49558.0, 49558.0]}, {\"label\": \"cluster linkage\", \"values\": [3, 3, 3, 3, 3, 3, 3, 3, 3, 3, 3, 3, 3, 3, 3, 3, 3, 3, 3, 3, 3, 3, 3, 3, 3, 3, 3, 3, 3, 3, 3, 3, 2, 2, 2, 2, 2, 2, 2, 2, 2, 2, 2, 2, 2, 2, 2, 2, 2, 2, 2, 2, 2, 2, 2, 2, 2, 2, 2, 2, 2, 2, 2, 2, 1, 1, 1, 1, 1, 1, 1, 1, 1, 1, 1, 1, 1, 1, 1, 1, 1, 1, 1, 1, 1, 1, 1, 1, 1, 1, 1, 1, 1, 1, 1, 1, 4, 4, 4, 4, 4, 4, 4, 4, 4, 4, 4, 4, 4, 4, 4, 4, 4, 4, 4, 4, 4, 4, 4, 4, 4, 4, 4, 4, 4, 4, 4, 4, 4, 4, 4, 4]}, {\"label\": \"3000 to 3200<br>homogeneity score<br>\", \"values\": [0.24167595797625768, 0.5201896989708117, 0.24249013077516454, 0.5152656509044439, 0.24084626959847302, 0.5190628127545466, 0.24135212740312723, 0.5140459301176976, 0.2401503842338645, 0.49114586987999515, 0.23945608936970864, 0.48081922423843804, 0.23950522935958543, 0.4656961593312563, 0.23904295232995568, 0.4619781370318991, 0.1765874986538815, 0.6272074359307351, 0.1761964333737801, 0.6182390480522872, 0.17682862626087043, 0.623992925076174, 0.17904964784624786, 0.6232299641199455, 0.1761408619971811, 0.6163650588759536, 0.17738454394786546, 0.6109534583443104, 0.1758326268832714, 0.6097862078053293, 0.17638982854641524, 0.6077270968583474, 0.24195539843058708, 0.6195958522964076, 0.24213582535940803, 0.6159517124895214, 0.24088846558987784, 0.6190870638115854, 0.2387314272773969, 0.6117659386745536, 0.23980339779326873, 0.6123694025507117, 0.24055461930454283, 0.23989732489471555, 0.6101051094575842, 0.6094240836824114, 0.24096736474010783, 0.6071990106610244, 0.1778013360469369, 0.17581733390009557, 0.6395865552277794, 0.6381368957897745, 0.1772121220429962, 0.636360089535463, 0.17815421900636288, 0.6357550706364029, 0.17850015921752693, 0.6334082740623542, 0.17830059483342298, 0.6342115679666206, 0.1759773371102899, 0.6324563400046893, 0.17850566233267637, 0.6317642710135438, 0.05789808219797283, 0.05448652343734845, 0.05800218260142527, 0.051751923658475946, 0.058686012331257045, 0.05230574360691536, 0.0583190390682531, 0.0491665660604042, 0.05841392945875318, 0.04642606027962205, 0.05604572126621841, 0.04150733752182521, 0.05561359339681244, 0.03985255391102874, 0.05765488046640158, 0.03967769473291397, 0.17758190708818164, 0.05844838375470907, 0.1775015510344495, 0.05507022306404948, 0.17930510202798577, 0.055799717920657625, 0.1799059309629366, 0.17813887769737066, 0.17790016832050112, 0.053375925422504286, 0.04887998746778362, 0.048171150291987146, 0.04223337326992797, 0.17946741377765146, 0.17955628564320453, 0.04586048276262229, 0.20962934502940933, 0.6469475139302634, 0.24204777076334527, 0.6432487900539898, 0.20873183841237736, 0.6460961940479195, 0.24222368496469882, 0.6450784467436365, 0.20877342048760514, 0.6454160792368675, 0.24159088173949037, 0.6435250552148682, 0.20820272804365644, 0.6456316769788224, 0.23931414615275978, 0.6437087936767876, 0.2085783146168126, 0.6450304864537302, 0.23845299759252858, 0.6423028688735776, 0.20821351002134664, 0.6454490885187117, 0.24221957861093313, 0.6422185877025897, 0.20842776396552173, 0.6447854936568662, 0.6409863149451844, 0.2423842831719021, 0.6440977582145574, 0.2420806620090514, 0.2084694528295876, 0.2083550950631399, 0.6412372632732054, 0.6443054508723303, 0.24250666494335868, 0.6415652919527471]}, {\"label\": \"3000 to 3200<br>adjusted mutual info score<br>\", \"values\": [0.27090719668109364, 0.5676739490142605, 0.2704797352299801, 0.5640129405385736, 0.2692862975160349, 0.5657455337384845, 0.2704665013133737, 0.5622462110788901, 0.26957334547571327, 0.5449768957759111, 0.2680589013716895, 0.5377630286209716, 0.2690731016158911, 0.525601615406606, 0.26883410496278093, 0.5238246368653019, 0.20521601348269908, 0.6386189883398862, 0.20636010822031112, 0.6325062093219527, 0.20707057322051048, 0.6363988913748846, 0.20738346216430523, 0.6350295102931351, 0.20532609727869738, 0.6288622044290672, 0.20727770095458564, 0.6250005917006515, 0.20739704524730593, 0.624066715193699, 0.20579869002216522, 0.6221220755183569, 0.26831151147977184, 0.629422504436156, 0.26940580678616455, 0.6285908115493102, 0.2680732760421715, 0.6296611706613926, 0.2677331007972894, 0.6233752464646506, 0.2668817167758951, 0.6238387217526548, 0.2685842695340771, 0.2681349145845382, 0.6212631430720703, 0.6199056297507831, 0.26801201931382596, 0.6180494116840081, 0.2063333493978079, 0.20408121740883906, 0.6452345553426918, 0.6440038593973748, 0.205920709049385, 0.6428600261726735, 0.20666590148119296, 0.6416251325822762, 0.20696729271649425, 0.6402642205488067, 0.20735719247702422, 0.6401261958491646, 0.20517513071065488, 0.6388635008118061, 0.2074750249298335, 0.6384657595439904, 0.08681515480469587, 0.08614788955682835, 0.08686839886386195, 0.08175003550359473, 0.0880281747219323, 0.08267188323946842, 0.08753742364806126, 0.07766048491917213, 0.08765476625831374, 0.0732502027019538, 0.08425682668353753, 0.06515394298595376, 0.0836118961985454, 0.06242940323383516, 0.08663379303619481, 0.06211241913001243, 0.21492165563486357, 0.09239546684617483, 0.21578213760559387, 0.08709533630575153, 0.216248019898385, 0.08833613026319664, 0.21673316666064657, 0.21591347771819713, 0.21660690599548035, 0.08450000257641387, 0.07727017930106701, 0.07613798323245811, 0.06648203442462168, 0.21681031683693316, 0.2162423931851927, 0.0723817656988114, 0.23014495098758025, 0.6532901371821169, 0.26649384928970604, 0.6503207836435021, 0.22906520281184728, 0.6517089693209352, 0.2670707821641661, 0.6523205941125904, 0.2295310068896422, 0.6515904483222337, 0.2671555101109478, 0.6508508749346232, 0.22881227438028068, 0.652115335308161, 0.2649022614300578, 0.6514580918998858, 0.22856121192999687, 0.6513128032330641, 0.26487067381208373, 0.6499499442546296, 0.2287662261429334, 0.6513509567603858, 0.2664965240641243, 0.6492339675661631, 0.2284405612125653, 0.6506248861996471, 0.6479255958325969, 0.2662913005072093, 0.6498268631114018, 0.2674960661623775, 0.22902169592936053, 0.22889514285943433, 0.6481596499635638, 0.650072356719098, 0.2675957950500224, 0.6484884800255595]}, {\"label\": \"3000 to 3200<br>adjusted rand score<br>\", \"values\": [0.4174716157962809, 0.5072837265618262, 0.4180210761525899, 0.5052783618574846, 0.4172747576365605, 0.5066516340642326, 0.4141318864335591, 0.5032617886235329, 0.41222063479635973, 0.4890737489920649, 0.41426434033335346, 0.4737721838153557, 0.41540895282765306, 0.465339849489236, 0.4154641152661646, 0.4653131101741538, 0.29812761496695445, 0.7283759050177914, 0.29533911573213706, 0.7158204660101433, 0.2930367097664523, 0.7260179596751406, 0.3041336586203136, 0.7256380454955048, 0.2991278616873084, 0.7193650627531386, 0.295554366507313, 0.7159821949121642, 0.29110304831835615, 0.7132203694909401, 0.2965695313478374, 0.711376681186633, 0.42635972572604447, 0.7281597410423615, 0.4217077251725658, 0.7218940039418571, 0.4222465439913131, 0.7269049477539032, 0.41271198775469486, 0.7200525970565272, 0.4193099389633112, 0.7188261175590113, 0.4172392680812861, 0.4146970975378618, 0.7165525140548717, 0.7164128487162725, 0.42029581525851123, 0.7145598779025646, 0.30139795306907835, 0.29904554888393675, 0.7405424514941856, 0.7397703008649169, 0.3000459440993966, 0.7383495968464932, 0.3008861510220405, 0.7366795155099256, 0.30578967676075397, 0.7356175285711133, 0.30118687196755023, 0.7335841135862818, 0.2967317782582348, 0.7336091449546744, 0.29874466248006476, 0.733098521269545, 0.022168281114275556, 0.013679722426823155, 0.0219680358576979, 0.012980913271205858, 0.022820359767815355, 0.013129995743187857, 0.02287849322382025, 0.01226765268730688, 0.022417327147564958, 0.011519352743981628, 0.02162063380018857, 0.010200137763745553, 0.021611240914013837, 0.009742827452427633, 0.022475437157581667, 0.009699978431080157, 0.26906024778307724, 0.015690685758671635, 0.2640157464409665, 0.014709088724870525, 0.26492905267894445, 0.014933273358415058, 0.27017252736641256, 0.2614363962745958, 0.2597120532025968, 0.014226451669638027, 0.012834011253387193, 0.012606171339880458, 0.010968344786024929, 0.2688965714830326, 0.2655199689388968, 0.011932387519949052, 0.38120560156651995, 0.7511992692326551, 0.43306062280841073, 0.7492285219457914, 0.3762695383344935, 0.7507295049850802, 0.42989800799429545, 0.7519071422208939, 0.37520919978008827, 0.7493572910965898, 0.4258457984216128, 0.7504045176768359, 0.37623872959458415, 0.7495566063718528, 0.4230090707077243, 0.7497879369426959, 0.3767365468764973, 0.7483491553324784, 0.4202518517522251, 0.7492619184275714, 0.3750610915914867, 0.7485324240970315, 0.43085913197758957, 0.7481067019359517, 0.3755842238189969, 0.7483598627352621, 0.7480207092189443, 0.43343637067939794, 0.7473963783975132, 0.42880672151532173, 0.37470220767916124, 0.3751036454028609, 0.7479784224673314, 0.7478322510106703, 0.42950933406809677, 0.74829828017451]}, {\"label\": \"3000 to 3200<br>f1 score<br>-weighted avg<br>\", \"values\": [0.37927774223077754, 0.6133292222806814, 0.38053208256235127, 0.6098436553151175, 0.38017318129569444, 0.6137889116971884, 0.3794478383706221, 0.6065273696262268, 0.3780260546198556, 0.5676191730769918, 0.37901164509772084, 0.5602845129006454, 0.37847355594046206, 0.5348857321946544, 0.37760156339221806, 0.5306138202446653, 0.3241368746591036, 0.730494541779344, 0.3214255727020664, 0.7214544120602233, 0.32048758425366225, 0.725556636085051, 0.32531886836996465, 0.7249211624166071, 0.3220570567403893, 0.715255694835949, 0.32229779688896043, 0.7085820618910346, 0.3192165837973842, 0.7084606906628248, 0.32055376429922733, 0.7063960566472511, 0.38314385054716316, 0.7282615792239646, 0.38149075780329095, 0.7286430250317925, 0.38119069673980976, 0.7318176274173599, 0.37801545092834915, 0.7236898026016652, 0.3791609147841759, 0.725077263744611, 0.3807770125519531, 0.3792274888498239, 0.7217420081230227, 0.7216652378912037, 0.3813451469652891, 0.7193452713740002, 0.3249069618844746, 0.3241324695774977, 0.7509465034164096, 0.749416813094163, 0.32237325340044476, 0.7481302729930648, 0.3256130297616703, 0.7468058422051993, 0.32474725521061115, 0.7437678084800002, 0.32399611682085655, 0.7449362225800179, 0.3223941673939606, 0.7439417791361779, 0.32356745635583933, 0.7437764579556466, 0.19988013642456823, 0.1965767635602283, 0.20034060517740626, 0.19248783787026827, 0.20086753454665252, 0.1934583420079946, 0.20017224439498973, 0.18888978719068295, 0.20046815364502996, 0.18497903266783536, 0.19728428817300656, 0.17757119239301886, 0.19632416414282725, 0.17523589872350873, 0.1994075491144677, 0.17505318005179513, 0.3211966285907769, 0.202184576389544, 0.3198488700563774, 0.19742408907450526, 0.3220445999670154, 0.1986396412940342, 0.3228601792353133, 0.3219041872286938, 0.32171108638388984, 0.1949475786364508, 0.18814664953721214, 0.18707646858204907, 0.17838747988368198, 0.3216138353290821, 0.32312462575985795, 0.18367130141861185, 0.36448843025081057, 0.760001780285447, 0.3853341779017943, 0.7543324026977014, 0.36543762313886724, 0.7594601305592238, 0.38526113820246816, 0.7553990544568949, 0.3632890193302339, 0.7585043238640025, 0.3844403432272022, 0.7546088943715833, 0.3646250205723391, 0.7589286984077995, 0.3825539076599163, 0.7546220806574023, 0.3649575260691861, 0.7580634517660593, 0.3816142233128481, 0.7526805568762028, 0.3632534559107431, 0.7589693139521114, 0.38590129722444705, 0.7527475917991702, 0.3636655172674646, 0.7580784545960724, 0.7518419388049679, 0.38626887388835673, 0.7579415205615722, 0.38508802623818733, 0.3627945453007402, 0.36293120230685455, 0.751848609443138, 0.7584200901441419, 0.3862071776705289, 0.7521416771946603]}, {\"label\": \"3900 to 4000<br>homogeneity score<br>\", \"values\": [0.24834282581174585, 0.5614756639653314, 0.24869635126629283, 0.561119949203508, 0.2455423738431295, 0.5479788371501902, 0.24693914582330964, 0.5426397123187889, 0.24563265940536202, 0.540944165247608, 0.24646879535160282, 0.5260644834966044, 0.24605608783264132, 0.5211383605854057, 0.24667733802692474, 0.5203358940447786, 0.1860665288128181, 0.6410646056708019, 0.18668460767152387, 0.6373383149393482, 0.18621542279716963, 0.6422460413348081, 0.18674168816152328, 0.638374832204596, 0.18682027962413914, 0.6336715489692667, 0.18674849352987433, 0.632489481352398, 0.1852946495623356, 0.6270084311732138, 0.18497246156207223, 0.6271440950783288, 0.24764669938033376, 0.6303132575324437, 0.2478532244513065, 0.6286444639330624, 0.24819475543874564, 0.6311511945934823, 0.24617281898092191, 0.6274828500616315, 0.24569829341918345, 0.6264536551941521, 0.24846323900336564, 0.2467427267430883, 0.6264823555719989, 0.6237928243414926, 0.24706063482697999, 0.6233219199561623, 0.1881881429487575, 0.18648290803479914, 0.6521318656908341, 0.6509685145552163, 0.18742195010263954, 0.6496520929279762, 0.1870370375847293, 0.6474429469425009, 0.1877989215328967, 0.6482591110954967, 0.18727432875802977, 0.6444713463681702, 0.18518141209791122, 0.6442292711922228, 0.18630570322258866, 0.6437430909207312, 0.07317324168330379, 0.07201766533271955, 0.07320854678705756, 0.07036114978295177, 0.0729275582604764, 0.0698610633628698, 0.0734081723780163, 0.0665385289514452, 0.07432781300941518, 0.06285741028275424, 0.0723334592100441, 0.05932382889443488, 0.07204170563439757, 0.05466258342007931, 0.07128999551153732, 0.05278305314856703, 0.1865052393504412, 0.0761463592171055, 0.18833601449969198, 0.075128424506904, 0.1876584205441165, 0.07229281551267668, 0.18775667320016565, 0.18897984587358874, 0.18792441109959138, 0.07137394124002958, 0.06835113853794146, 0.06465505289078508, 0.06022000333943829, 0.18876544183599164, 0.1882438291974901, 0.06103257096580802, 0.2189905360514475, 0.6582417913303917, 0.24980721138912132, 0.6529998480729223, 0.21721375316212688, 0.657733433872173, 0.24987703899532562, 0.6532782086624909, 0.21761760992726908, 0.6576896395623302, 0.2503702360871317, 0.6522898011721807, 0.2158704859051681, 0.6574593534609772, 0.24809930337075592, 0.6520325761235151, 0.2162115601013339, 0.6567283532859106, 0.2467728186332594, 0.6508684355933759, 0.21657190777387011, 0.6555858683553244, 0.2479803822063802, 0.650081111156329, 0.21780189994166974, 0.6537914896597816, 0.6495561896791289, 0.2496434632677086, 0.6542974428671341, 0.2493657052764808, 0.21706394840765517, 0.21642949394040054, 0.6496366298622297, 0.6539799138252621, 0.24975328586251408, 0.6491918299479127]}, {\"label\": \"3900 to 4000<br>adjusted mutual info score<br>\", \"values\": [0.2735723379115827, 0.5939761926140208, 0.2736083356129223, 0.5933728797841465, 0.2713807968281219, 0.5844124486217694, 0.2726246402493362, 0.5790871853470803, 0.2719273039494345, 0.5775422343953674, 0.2724159610460626, 0.5708783937900278, 0.27290686816499826, 0.5671720634496826, 0.2732402551242966, 0.5665094451164862, 0.21011798838058296, 0.651656619122856, 0.21099108376840983, 0.6486066109687963, 0.21142213121789571, 0.6515286784974905, 0.21173107597956145, 0.6483633980355495, 0.2114900054190513, 0.6446183632862102, 0.21193523691463237, 0.6429725222503542, 0.2109177005472364, 0.6386222017967699, 0.2101015118112532, 0.6387885282722089, 0.2712385520062974, 0.641721717327606, 0.27242384223803484, 0.6394276255533946, 0.27176217404668745, 0.6403212224683457, 0.27145045556946706, 0.6383234223633667, 0.27012528557171733, 0.6367748811331715, 0.2725457671133756, 0.27093604661452975, 0.6366375123660097, 0.63389241504335, 0.2708576186527936, 0.6338193215721617, 0.21142344243583702, 0.20953498662199985, 0.6582583776719778, 0.6570632970301757, 0.21115115855324543, 0.6557994568130595, 0.2111765224301631, 0.6538325511888097, 0.2123396360400407, 0.654408357553567, 0.21214583443580373, 0.6507602849597688, 0.21070372644474983, 0.6502038141817678, 0.2106492804773749, 0.6498697437021731, 0.10835093970395415, 0.11395264422998815, 0.10818105833170248, 0.11140930373089288, 0.10805891085272236, 0.11066923595349892, 0.10880538064533823, 0.10548266179113913, 0.11002831841167292, 0.09964236915113855, 0.10757077701660381, 0.09408447486154727, 0.10702084020270938, 0.08663172308080441, 0.10599064009190076, 0.08364028326965262, 0.21957225246801063, 0.12014115616101309, 0.22152415737166864, 0.11866270078508269, 0.2205925699173772, 0.11430505103082604, 0.22122131234889186, 0.2206974162606541, 0.22178691383396013, 0.11294762065321634, 0.10824386272305694, 0.1025018267708261, 0.09557095051812367, 0.22227872504787352, 0.2213163151800523, 0.09683122600709097, 0.23654887696422983, 0.6635319573936318, 0.27116125069639335, 0.6599349400722098, 0.23522915860831933, 0.6630066584590572, 0.27070104294067604, 0.6601799681801388, 0.23486596892375158, 0.6632011275302856, 0.2728627580216601, 0.6593053569020612, 0.23377520492511708, 0.6633171967187489, 0.27033193368696296, 0.6588799951811661, 0.23426909451774577, 0.6623829921144196, 0.26912937655706276, 0.6579081386925397, 0.2350667613178501, 0.6613625986676607, 0.2698709661616747, 0.657408802347055, 0.23551188235088477, 0.6595674514602187, 0.6568298893000851, 0.2709756698995166, 0.6599015103347617, 0.27171496884057733, 0.23507596803296732, 0.23464571491847389, 0.6567351994937581, 0.6596576666724636, 0.2722454366689149, 0.6564213198143868]}, {\"label\": \"3900 to 4000<br>adjusted rand score<br>\", \"values\": [0.4355722085103629, 0.5527317216783273, 0.4318989206649218, 0.5541402876810612, 0.427042568832447, 0.5331999765441823, 0.4262887994480827, 0.5348226339104586, 0.4265166941154241, 0.534050354830158, 0.4283972368857143, 0.5198837661075072, 0.42843743683353497, 0.5137228218894266, 0.42968247616704197, 0.5136408140967511, 0.3241191779248922, 0.7377335813798163, 0.32388599069553153, 0.7305753754007671, 0.31740976976509433, 0.7386613981516171, 0.32254987009802255, 0.7356765706895784, 0.32528881407010346, 0.7330303004711743, 0.32145857504146647, 0.7322644216876887, 0.31771599581796883, 0.7277119374697694, 0.3179790051360894, 0.7274140270989843, 0.4361036065309937, 0.7386599688266039, 0.4334247458807727, 0.7350065268851023, 0.4386180505546809, 0.7364807703455157, 0.4275036967335406, 0.7340881147989446, 0.4308256607106024, 0.7308251331757135, 0.43357597240482376, 0.4312131482640452, 0.7307062143534677, 0.7290870051498088, 0.4335846695413856, 0.7280652702447191, 0.32720084519117487, 0.3267006665716529, 0.7504706564426021, 0.7500177581168205, 0.32469219125299514, 0.7483182589532463, 0.3235803680086179, 0.7465207409917304, 0.32848618166022303, 0.7468397687679578, 0.3212038876520879, 0.7430433022307901, 0.31915813734421133, 0.7441826670009122, 0.32322695101834664, 0.7443127715243925, 0.03056814298687779, 0.01870901247829856, 0.03123547369397167, 0.018188349179994814, 0.029972558588783612, 0.018046853262972888, 0.030594502683011306, 0.01704604931985647, 0.030435870900180722, 0.016054316610994476, 0.029723114935411517, 0.01500490096144278, 0.030079526387627245, 0.013823063160231713, 0.029754477986731438, 0.013282008892741889, 0.2869074482588346, 0.021021651612965715, 0.28733607297892483, 0.02064638107893731, 0.2862287771921952, 0.01980879759328334, 0.28733214682991703, 0.2902930644462119, 0.28318384219510156, 0.019460146733921012, 0.018584937767002846, 0.01751546988995666, 0.016240587124162514, 0.287766862466334, 0.2849075903474645, 0.016474331435150324, 0.3979705761121929, 0.7598824045513518, 0.4461287471993106, 0.757215217095424, 0.3908704877568945, 0.7600040579950498, 0.4446429721436074, 0.757597587014836, 0.39348412153126355, 0.7599097538348516, 0.44230404191872297, 0.7572822918287139, 0.3915817094029402, 0.7589153708224199, 0.4404953464440912, 0.7568457432881103, 0.390409169202454, 0.7578389518896896, 0.43942165882984785, 0.7561801314880747, 0.38922761075601325, 0.7576019935407091, 0.44166065938069754, 0.7555109438439557, 0.39383499721735565, 0.7552438270925181, 0.7550328938182939, 0.44554454257207343, 0.7556741067231862, 0.44216132726300994, 0.38933276455882393, 0.3896209382989643, 0.75480351508216, 0.7559905561589295, 0.440600099034981, 0.7545935562915856]}, {\"label\": \"3900 to 4000<br>f1 score<br>-weighted avg<br>\", \"values\": [0.3945283908386214, 0.6606054719114985, 0.39536031675545835, 0.6616760145513259, 0.3915923180744175, 0.6491108911780226, 0.39249113893408616, 0.6336498861774538, 0.39164309023935573, 0.633559292746481, 0.3921992158341797, 0.6207514749198272, 0.3914430117203256, 0.615867683003281, 0.39202984564906107, 0.6146569216490689, 0.34218102828392943, 0.7448814788995862, 0.34304909428385394, 0.7423261514638868, 0.339239746741792, 0.7456990451498118, 0.3424789376502158, 0.7424451193758909, 0.34200832997601904, 0.7364876588705972, 0.3408895799733981, 0.7350683883504897, 0.3395229163485092, 0.7299106625304723, 0.33986457856946806, 0.7298399520889739, 0.39698852170911875, 0.7426637386062246, 0.395409664878746, 0.7417760355933781, 0.39568233879041564, 0.7446038518826706, 0.39309948109764836, 0.7402516909743371, 0.39283614573325976, 0.7393015147006321, 0.3966186761660592, 0.3953652961123814, 0.7374010138960378, 0.7354945842985525, 0.39523677697318044, 0.7346692696955492, 0.34656304450392533, 0.34397945354669, 0.762747966031975, 0.7613760934122068, 0.3418113624346635, 0.7608177345719435, 0.34349327098032595, 0.758313355020715, 0.34242568050696887, 0.7589336769153987, 0.34268229740222894, 0.7547311691364443, 0.3396542404029277, 0.7552925053659607, 0.3416376973977164, 0.7550123270061387, 0.22025189071508525, 0.22181986181033406, 0.22078437636725548, 0.21956379832785772, 0.22090895828272125, 0.21900617764368308, 0.22225917241854892, 0.2145348666806253, 0.22313651247587588, 0.20939352131381425, 0.22120081899207955, 0.20443242386233423, 0.22074545303524337, 0.19736575131094553, 0.2205960270991103, 0.19485823747506298, 0.33939445009172525, 0.22837004826351523, 0.3412853541297059, 0.2272969361553573, 0.3399026826139606, 0.2230605833479571, 0.33913502830926023, 0.3431174965479061, 0.3408634188176926, 0.2218951364551186, 0.21761951986157574, 0.21196936154198856, 0.20570267798329273, 0.340294200218914, 0.3404471434121058, 0.20675980935815477, 0.38126183182255746, 0.7701567741885421, 0.40270951175331204, 0.7628524111675912, 0.3812928276901408, 0.7696036038255606, 0.4017780037902858, 0.7626392690964383, 0.38081982210442133, 0.7696629028091468, 0.40022591533059904, 0.762513934282444, 0.3801821947227318, 0.7690314147624431, 0.398318983150019, 0.7620641480317938, 0.37932276345013893, 0.768551599152266, 0.39781619185758443, 0.7614641893064995, 0.37977060111666044, 0.768507997638746, 0.39856407774583386, 0.7605208213696585, 0.38087603962908095, 0.7667402044490722, 0.7600429315544927, 0.400828462544285, 0.7673757564796407, 0.4002982017700881, 0.3803593037096964, 0.379292423970984, 0.7600483790159931, 0.7671692104308456, 0.40023290323840055, 0.7596991312454519]}], \"domain\": {\"x\": [0.0, 1.0], \"y\": [0.0, 1.0]}, \"line\": {\"color\": [0.3945283908386214, 0.6606054719114985, 0.39536031675545835, 0.6616760145513259, 0.3915923180744175, 0.6491108911780226, 0.39249113893408616, 0.6336498861774538, 0.39164309023935573, 0.633559292746481, 0.3921992158341797, 0.6207514749198272, 0.3914430117203256, 0.615867683003281, 0.39202984564906107, 0.6146569216490689, 0.34218102828392943, 0.7448814788995862, 0.34304909428385394, 0.7423261514638868, 0.339239746741792, 0.7456990451498118, 0.3424789376502158, 0.7424451193758909, 0.34200832997601904, 0.7364876588705972, 0.3408895799733981, 0.7350683883504897, 0.3395229163485092, 0.7299106625304723, 0.33986457856946806, 0.7298399520889739, 0.39698852170911875, 0.7426637386062246, 0.395409664878746, 0.7417760355933781, 0.39568233879041564, 0.7446038518826706, 0.39309948109764836, 0.7402516909743371, 0.39283614573325976, 0.7393015147006321, 0.3966186761660592, 0.3953652961123814, 0.7374010138960378, 0.7354945842985525, 0.39523677697318044, 0.7346692696955492, 0.34656304450392533, 0.34397945354669, 0.762747966031975, 0.7613760934122068, 0.3418113624346635, 0.7608177345719435, 0.34349327098032595, 0.758313355020715, 0.34242568050696887, 0.7589336769153987, 0.34268229740222894, 0.7547311691364443, 0.3396542404029277, 0.7552925053659607, 0.3416376973977164, 0.7550123270061387, 0.22025189071508525, 0.22181986181033406, 0.22078437636725548, 0.21956379832785772, 0.22090895828272125, 0.21900617764368308, 0.22225917241854892, 0.2145348666806253, 0.22313651247587588, 0.20939352131381425, 0.22120081899207955, 0.20443242386233423, 0.22074545303524337, 0.19736575131094553, 0.2205960270991103, 0.19485823747506298, 0.33939445009172525, 0.22837004826351523, 0.3412853541297059, 0.2272969361553573, 0.3399026826139606, 0.2230605833479571, 0.33913502830926023, 0.3431174965479061, 0.3408634188176926, 0.2218951364551186, 0.21761951986157574, 0.21196936154198856, 0.20570267798329273, 0.340294200218914, 0.3404471434121058, 0.20675980935815477, 0.38126183182255746, 0.7701567741885421, 0.40270951175331204, 0.7628524111675912, 0.3812928276901408, 0.7696036038255606, 0.4017780037902858, 0.7626392690964383, 0.38081982210442133, 0.7696629028091468, 0.40022591533059904, 0.762513934282444, 0.3801821947227318, 0.7690314147624431, 0.398318983150019, 0.7620641480317938, 0.37932276345013893, 0.768551599152266, 0.39781619185758443, 0.7614641893064995, 0.37977060111666044, 0.768507997638746, 0.39856407774583386, 0.7605208213696585, 0.38087603962908095, 0.7667402044490722, 0.7600429315544927, 0.400828462544285, 0.7673757564796407, 0.4002982017700881, 0.3803593037096964, 0.379292423970984, 0.7600483790159931, 0.7671692104308456, 0.40023290323840055, 0.7596991312454519], \"coloraxis\": \"coloraxis\"}, \"name\": \"\", \"type\": \"parcoords\"}],                        {\"coloraxis\": {\"colorbar\": {\"title\": {\"text\": \"3900 to 4000<br>f1 score<br>-weighted avg<br>\"}}, \"colorscale\": [[0.0, \"#0d0887\"], [0.1111111111111111, \"#46039f\"], [0.2222222222222222, \"#7201a8\"], [0.3333333333333333, \"#9c179e\"], [0.4444444444444444, \"#bd3786\"], [0.5555555555555556, \"#d8576b\"], [0.6666666666666666, \"#ed7953\"], [0.7777777777777778, \"#fb9f3a\"], [0.8888888888888888, \"#fdca26\"], [1.0, \"#f0f921\"]]}, \"legend\": {\"tracegroupgap\": 0}, \"margin\": {\"t\": 60}, \"template\": {\"data\": {\"bar\": [{\"error_x\": {\"color\": \"#2a3f5f\"}, \"error_y\": {\"color\": \"#2a3f5f\"}, \"marker\": {\"line\": {\"color\": \"#E5ECF6\", \"width\": 0.5}}, \"type\": \"bar\"}], \"barpolar\": [{\"marker\": {\"line\": {\"color\": \"#E5ECF6\", \"width\": 0.5}}, \"type\": \"barpolar\"}], \"carpet\": [{\"aaxis\": {\"endlinecolor\": \"#2a3f5f\", \"gridcolor\": \"white\", \"linecolor\": \"white\", \"minorgridcolor\": \"white\", \"startlinecolor\": \"#2a3f5f\"}, \"baxis\": {\"endlinecolor\": \"#2a3f5f\", \"gridcolor\": \"white\", \"linecolor\": \"white\", \"minorgridcolor\": \"white\", \"startlinecolor\": \"#2a3f5f\"}, \"type\": \"carpet\"}], \"choropleth\": [{\"colorbar\": {\"outlinewidth\": 0, \"ticks\": \"\"}, \"type\": \"choropleth\"}], \"contour\": [{\"colorbar\": {\"outlinewidth\": 0, \"ticks\": \"\"}, \"colorscale\": [[0.0, \"#0d0887\"], [0.1111111111111111, \"#46039f\"], [0.2222222222222222, \"#7201a8\"], [0.3333333333333333, \"#9c179e\"], [0.4444444444444444, \"#bd3786\"], [0.5555555555555556, \"#d8576b\"], [0.6666666666666666, \"#ed7953\"], [0.7777777777777778, \"#fb9f3a\"], [0.8888888888888888, \"#fdca26\"], [1.0, \"#f0f921\"]], \"type\": \"contour\"}], \"contourcarpet\": [{\"colorbar\": {\"outlinewidth\": 0, \"ticks\": \"\"}, \"type\": \"contourcarpet\"}], \"heatmap\": [{\"colorbar\": {\"outlinewidth\": 0, \"ticks\": \"\"}, \"colorscale\": [[0.0, \"#0d0887\"], [0.1111111111111111, \"#46039f\"], [0.2222222222222222, \"#7201a8\"], [0.3333333333333333, \"#9c179e\"], [0.4444444444444444, \"#bd3786\"], [0.5555555555555556, \"#d8576b\"], [0.6666666666666666, \"#ed7953\"], [0.7777777777777778, \"#fb9f3a\"], [0.8888888888888888, \"#fdca26\"], [1.0, \"#f0f921\"]], \"type\": \"heatmap\"}], \"heatmapgl\": [{\"colorbar\": {\"outlinewidth\": 0, \"ticks\": \"\"}, \"colorscale\": [[0.0, \"#0d0887\"], [0.1111111111111111, \"#46039f\"], [0.2222222222222222, \"#7201a8\"], [0.3333333333333333, \"#9c179e\"], [0.4444444444444444, \"#bd3786\"], [0.5555555555555556, \"#d8576b\"], [0.6666666666666666, \"#ed7953\"], [0.7777777777777778, \"#fb9f3a\"], [0.8888888888888888, \"#fdca26\"], [1.0, \"#f0f921\"]], \"type\": \"heatmapgl\"}], \"histogram\": [{\"marker\": {\"colorbar\": {\"outlinewidth\": 0, \"ticks\": \"\"}}, \"type\": \"histogram\"}], \"histogram2d\": [{\"colorbar\": {\"outlinewidth\": 0, \"ticks\": \"\"}, \"colorscale\": [[0.0, \"#0d0887\"], [0.1111111111111111, \"#46039f\"], [0.2222222222222222, \"#7201a8\"], [0.3333333333333333, \"#9c179e\"], [0.4444444444444444, \"#bd3786\"], [0.5555555555555556, \"#d8576b\"], [0.6666666666666666, \"#ed7953\"], [0.7777777777777778, \"#fb9f3a\"], [0.8888888888888888, \"#fdca26\"], [1.0, \"#f0f921\"]], \"type\": \"histogram2d\"}], \"histogram2dcontour\": [{\"colorbar\": {\"outlinewidth\": 0, \"ticks\": \"\"}, \"colorscale\": [[0.0, \"#0d0887\"], [0.1111111111111111, \"#46039f\"], [0.2222222222222222, \"#7201a8\"], [0.3333333333333333, \"#9c179e\"], [0.4444444444444444, \"#bd3786\"], [0.5555555555555556, \"#d8576b\"], [0.6666666666666666, \"#ed7953\"], [0.7777777777777778, \"#fb9f3a\"], [0.8888888888888888, \"#fdca26\"], [1.0, \"#f0f921\"]], \"type\": \"histogram2dcontour\"}], \"mesh3d\": [{\"colorbar\": {\"outlinewidth\": 0, \"ticks\": \"\"}, \"type\": \"mesh3d\"}], \"parcoords\": [{\"line\": {\"colorbar\": {\"outlinewidth\": 0, \"ticks\": \"\"}}, \"type\": \"parcoords\"}], \"pie\": [{\"automargin\": true, \"type\": \"pie\"}], \"scatter\": [{\"marker\": {\"colorbar\": {\"outlinewidth\": 0, \"ticks\": \"\"}}, \"type\": \"scatter\"}], \"scatter3d\": [{\"line\": {\"colorbar\": {\"outlinewidth\": 0, \"ticks\": \"\"}}, \"marker\": {\"colorbar\": {\"outlinewidth\": 0, \"ticks\": \"\"}}, \"type\": \"scatter3d\"}], \"scattercarpet\": [{\"marker\": {\"colorbar\": {\"outlinewidth\": 0, \"ticks\": \"\"}}, \"type\": \"scattercarpet\"}], \"scattergeo\": [{\"marker\": {\"colorbar\": {\"outlinewidth\": 0, \"ticks\": \"\"}}, \"type\": \"scattergeo\"}], \"scattergl\": [{\"marker\": {\"colorbar\": {\"outlinewidth\": 0, \"ticks\": \"\"}}, \"type\": \"scattergl\"}], \"scattermapbox\": [{\"marker\": {\"colorbar\": {\"outlinewidth\": 0, \"ticks\": \"\"}}, \"type\": \"scattermapbox\"}], \"scatterpolar\": [{\"marker\": {\"colorbar\": {\"outlinewidth\": 0, \"ticks\": \"\"}}, \"type\": \"scatterpolar\"}], \"scatterpolargl\": [{\"marker\": {\"colorbar\": {\"outlinewidth\": 0, \"ticks\": \"\"}}, \"type\": \"scatterpolargl\"}], \"scatterternary\": [{\"marker\": {\"colorbar\": {\"outlinewidth\": 0, \"ticks\": \"\"}}, \"type\": \"scatterternary\"}], \"surface\": [{\"colorbar\": {\"outlinewidth\": 0, \"ticks\": \"\"}, \"colorscale\": [[0.0, \"#0d0887\"], [0.1111111111111111, \"#46039f\"], [0.2222222222222222, \"#7201a8\"], [0.3333333333333333, \"#9c179e\"], [0.4444444444444444, \"#bd3786\"], [0.5555555555555556, \"#d8576b\"], [0.6666666666666666, \"#ed7953\"], [0.7777777777777778, \"#fb9f3a\"], [0.8888888888888888, \"#fdca26\"], [1.0, \"#f0f921\"]], \"type\": \"surface\"}], \"table\": [{\"cells\": {\"fill\": {\"color\": \"#EBF0F8\"}, \"line\": {\"color\": \"white\"}}, \"header\": {\"fill\": {\"color\": \"#C8D4E3\"}, \"line\": {\"color\": \"white\"}}, \"type\": \"table\"}]}, \"layout\": {\"annotationdefaults\": {\"arrowcolor\": \"#2a3f5f\", \"arrowhead\": 0, \"arrowwidth\": 1}, \"autotypenumbers\": \"strict\", \"coloraxis\": {\"colorbar\": {\"outlinewidth\": 0, \"ticks\": \"\"}}, \"colorscale\": {\"diverging\": [[0, \"#8e0152\"], [0.1, \"#c51b7d\"], [0.2, \"#de77ae\"], [0.3, \"#f1b6da\"], [0.4, \"#fde0ef\"], [0.5, \"#f7f7f7\"], [0.6, \"#e6f5d0\"], [0.7, \"#b8e186\"], [0.8, \"#7fbc41\"], [0.9, \"#4d9221\"], [1, \"#276419\"]], \"sequential\": [[0.0, \"#0d0887\"], [0.1111111111111111, \"#46039f\"], [0.2222222222222222, \"#7201a8\"], [0.3333333333333333, \"#9c179e\"], [0.4444444444444444, \"#bd3786\"], [0.5555555555555556, \"#d8576b\"], [0.6666666666666666, \"#ed7953\"], [0.7777777777777778, \"#fb9f3a\"], [0.8888888888888888, \"#fdca26\"], [1.0, \"#f0f921\"]], \"sequentialminus\": [[0.0, \"#0d0887\"], [0.1111111111111111, \"#46039f\"], [0.2222222222222222, \"#7201a8\"], [0.3333333333333333, \"#9c179e\"], [0.4444444444444444, \"#bd3786\"], [0.5555555555555556, \"#d8576b\"], [0.6666666666666666, \"#ed7953\"], [0.7777777777777778, \"#fb9f3a\"], [0.8888888888888888, \"#fdca26\"], [1.0, \"#f0f921\"]]}, \"colorway\": [\"#636efa\", \"#EF553B\", \"#00cc96\", \"#ab63fa\", \"#FFA15A\", \"#19d3f3\", \"#FF6692\", \"#B6E880\", \"#FF97FF\", \"#FECB52\"], \"font\": {\"color\": \"#2a3f5f\"}, \"geo\": {\"bgcolor\": \"white\", \"lakecolor\": \"white\", \"landcolor\": \"#E5ECF6\", \"showlakes\": true, \"showland\": true, \"subunitcolor\": \"white\"}, \"hoverlabel\": {\"align\": \"left\"}, \"hovermode\": \"closest\", \"mapbox\": {\"style\": \"light\"}, \"paper_bgcolor\": \"white\", \"plot_bgcolor\": \"#E5ECF6\", \"polar\": {\"angularaxis\": {\"gridcolor\": \"white\", \"linecolor\": \"white\", \"ticks\": \"\"}, \"bgcolor\": \"#E5ECF6\", \"radialaxis\": {\"gridcolor\": \"white\", \"linecolor\": \"white\", \"ticks\": \"\"}}, \"scene\": {\"xaxis\": {\"backgroundcolor\": \"#E5ECF6\", \"gridcolor\": \"white\", \"gridwidth\": 2, \"linecolor\": \"white\", \"showbackground\": true, \"ticks\": \"\", \"zerolinecolor\": \"white\"}, \"yaxis\": {\"backgroundcolor\": \"#E5ECF6\", \"gridcolor\": \"white\", \"gridwidth\": 2, \"linecolor\": \"white\", \"showbackground\": true, \"ticks\": \"\", \"zerolinecolor\": \"white\"}, \"zaxis\": {\"backgroundcolor\": \"#E5ECF6\", \"gridcolor\": \"white\", \"gridwidth\": 2, \"linecolor\": \"white\", \"showbackground\": true, \"ticks\": \"\", \"zerolinecolor\": \"white\"}}, \"shapedefaults\": {\"line\": {\"color\": \"#2a3f5f\"}}, \"ternary\": {\"aaxis\": {\"gridcolor\": \"white\", \"linecolor\": \"white\", \"ticks\": \"\"}, \"baxis\": {\"gridcolor\": \"white\", \"linecolor\": \"white\", \"ticks\": \"\"}, \"bgcolor\": \"#E5ECF6\", \"caxis\": {\"gridcolor\": \"white\", \"linecolor\": \"white\", \"ticks\": \"\"}}, \"title\": {\"x\": 0.05}, \"xaxis\": {\"automargin\": true, \"gridcolor\": \"white\", \"linecolor\": \"white\", \"ticks\": \"\", \"title\": {\"standoff\": 15}, \"zerolinecolor\": \"white\", \"zerolinewidth\": 2}, \"yaxis\": {\"automargin\": true, \"gridcolor\": \"white\", \"linecolor\": \"white\", \"ticks\": \"\", \"title\": {\"standoff\": 15}, \"zerolinecolor\": \"white\", \"zerolinewidth\": 2}}}},                        {\"responsive\": true}                    ).then(function(){\n",
       "                            \n",
       "var gd = document.getElementById('0921a62c-f5bc-4c83-9431-8a1056fa9074');\n",
       "var x = new MutationObserver(function (mutations, observer) {{\n",
       "        var display = window.getComputedStyle(gd).display;\n",
       "        if (!display || display === 'none') {{\n",
       "            console.log([gd, 'removed!']);\n",
       "            Plotly.purge(gd);\n",
       "            observer.disconnect();\n",
       "        }}\n",
       "}});\n",
       "\n",
       "// Listen for the removal of the full notebook cells\n",
       "var notebookContainer = gd.closest('#notebook-container');\n",
       "if (notebookContainer) {{\n",
       "    x.observe(notebookContainer, {childList: true});\n",
       "}}\n",
       "\n",
       "// Listen for the clearing of the current output cell\n",
       "var outputEl = gd.closest('.output');\n",
       "if (outputEl) {{\n",
       "    x.observe(outputEl, {childList: true});\n",
       "}}\n",
       "\n",
       "                        })                };                });            </script>        </div>"
      ]
     },
     "metadata": {},
     "output_type": "display_data"
    }
   ],
   "source": [
    "l_cols_plot_raw_ = l_parallel_params + l_parallel_metrics_3k + l_parallel_metrics_4k\n",
    "l_cols_plot_clean_ = [rename_col_for_display(c) for c in l_cols_plot_raw_]\n",
    "df_plot_ = (\n",
    "    df_mlf_clustering_candidates[l_cols_plot_raw_]\n",
    "    .rename(columns={c: rename_col_for_display(c) for c in l_cols_plot_raw_})\n",
    "    .reset_index(drop=True)\n",
    ")\n",
    "# remap cluster linkage so it shows up in plot\n",
    "col_linkage_clean = ['cluster linkage']\n",
    "df_plot_[col_linkage_clean] = df_plot_[col_linkage_clean].replace(d_linkage_to_num)\n",
    "print(f\"Linkage names:\\n {d_num_to_linkage}\")\n",
    "\n",
    "\n",
    "fig = px.parallel_coordinates(\n",
    "    df_plot_,\n",
    "    color=l_cols_plot_clean_[-1],\n",
    "    # dimensions=l_cols_plot_clean_,\n",
    "    # labels={},\n",
    "    # color_continuous_scale=px.colors.diverging.Tealrose,\n",
    "    # color_continuous_midpoint=2\n",
    ")\n",
    "fig.show()"
   ]
  },
  {
   "cell_type": "markdown",
   "id": "c78300e9",
   "metadata": {},
   "source": [
    "### Filter to only runs with over 49k rows\n",
    "\n",
    "Since these are the ones we'll care about the most"
   ]
  },
  {
   "cell_type": "code",
   "execution_count": 92,
   "id": "40318916",
   "metadata": {},
   "outputs": [
    {
     "name": "stdout",
     "output_type": "stream",
     "text": [
      "(36, 10)\n",
      "Linkage names:\n",
      " {4: 'ward', 3: 'average', 2: 'complete', 1: 'single'}\n"
     ]
    },
    {
     "data": {
      "application/vnd.plotly.v1+json": {
       "config": {
        "plotlyServerURL": "https://plot.ly"
       },
       "data": [
        {
         "dimensions": [
          {
           "label": "subreddits",
           "values": [
            49326,
            49326,
            49454,
            49454,
            49326,
            49326,
            49454,
            49454,
            49326,
            49326,
            49454,
            49454,
            49326,
            49326,
            49454,
            49454,
            49326,
            49326,
            49454,
            49454,
            49454,
            49326,
            49454,
            49326,
            49326,
            49326,
            49326,
            49326,
            49454,
            49454,
            49454,
            49558,
            49454,
            49558,
            49558,
            49558
           ]
          },
          {
           "label": "cluster linkage",
           "values": [
            3,
            3,
            3,
            3,
            3,
            3,
            3,
            3,
            2,
            2,
            2,
            2,
            2,
            2,
            2,
            2,
            1,
            1,
            1,
            1,
            1,
            1,
            1,
            1,
            4,
            4,
            4,
            4,
            4,
            4,
            4,
            4,
            4,
            4,
            4,
            4
           ]
          },
          {
           "label": "3000 to 3200<br>homogeneity score<br>",
           "values": [
            0.23950522935958543,
            0.4656961593312563,
            0.23904295232995568,
            0.4619781370318991,
            0.1758326268832714,
            0.6097862078053293,
            0.17638982854641524,
            0.6077270968583474,
            0.23989732489471555,
            0.6094240836824114,
            0.24096736474010783,
            0.6071990106610244,
            0.1759773371102899,
            0.6324563400046893,
            0.17850566233267637,
            0.6317642710135438,
            0.05561359339681244,
            0.03985255391102874,
            0.05765488046640158,
            0.03967769473291397,
            0.04223337326992797,
            0.17946741377765146,
            0.17955628564320453,
            0.04586048276262229,
            0.20842776396552173,
            0.6447854936568662,
            0.6409863149451844,
            0.2423842831719021,
            0.6440977582145574,
            0.2420806620090514,
            0.2084694528295876,
            0.2083550950631399,
            0.6412372632732054,
            0.6443054508723303,
            0.24250666494335868,
            0.6415652919527471
           ]
          },
          {
           "label": "3000 to 3200<br>adjusted mutual info score<br>",
           "values": [
            0.2690731016158911,
            0.525601615406606,
            0.26883410496278093,
            0.5238246368653019,
            0.20739704524730593,
            0.624066715193699,
            0.20579869002216522,
            0.6221220755183569,
            0.2681349145845382,
            0.6199056297507831,
            0.26801201931382596,
            0.6180494116840081,
            0.20517513071065488,
            0.6388635008118061,
            0.2074750249298335,
            0.6384657595439904,
            0.0836118961985454,
            0.06242940323383516,
            0.08663379303619481,
            0.06211241913001243,
            0.06648203442462168,
            0.21681031683693316,
            0.2162423931851927,
            0.0723817656988114,
            0.2284405612125653,
            0.6506248861996471,
            0.6479255958325969,
            0.2662913005072093,
            0.6498268631114018,
            0.2674960661623775,
            0.22902169592936053,
            0.22889514285943433,
            0.6481596499635638,
            0.650072356719098,
            0.2675957950500224,
            0.6484884800255595
           ]
          },
          {
           "label": "3000 to 3200<br>adjusted rand score<br>",
           "values": [
            0.41540895282765306,
            0.465339849489236,
            0.4154641152661646,
            0.4653131101741538,
            0.29110304831835615,
            0.7132203694909401,
            0.2965695313478374,
            0.711376681186633,
            0.4146970975378618,
            0.7164128487162725,
            0.42029581525851123,
            0.7145598779025646,
            0.2967317782582348,
            0.7336091449546744,
            0.29874466248006476,
            0.733098521269545,
            0.021611240914013837,
            0.009742827452427633,
            0.022475437157581667,
            0.009699978431080157,
            0.010968344786024929,
            0.2688965714830326,
            0.2655199689388968,
            0.011932387519949052,
            0.3755842238189969,
            0.7483598627352621,
            0.7480207092189443,
            0.43343637067939794,
            0.7473963783975132,
            0.42880672151532173,
            0.37470220767916124,
            0.3751036454028609,
            0.7479784224673314,
            0.7478322510106703,
            0.42950933406809677,
            0.74829828017451
           ]
          },
          {
           "label": "3000 to 3200<br>f1 score<br>-weighted avg<br>",
           "values": [
            0.37847355594046206,
            0.5348857321946544,
            0.37760156339221806,
            0.5306138202446653,
            0.3192165837973842,
            0.7084606906628248,
            0.32055376429922733,
            0.7063960566472511,
            0.3792274888498239,
            0.7216652378912037,
            0.3813451469652891,
            0.7193452713740002,
            0.3223941673939606,
            0.7439417791361779,
            0.32356745635583933,
            0.7437764579556466,
            0.19632416414282725,
            0.17523589872350873,
            0.1994075491144677,
            0.17505318005179513,
            0.17838747988368198,
            0.3216138353290821,
            0.32312462575985795,
            0.18367130141861185,
            0.3636655172674646,
            0.7580784545960724,
            0.7518419388049679,
            0.38626887388835673,
            0.7579415205615722,
            0.38508802623818733,
            0.3627945453007402,
            0.36293120230685455,
            0.751848609443138,
            0.7584200901441419,
            0.3862071776705289,
            0.7521416771946603
           ]
          },
          {
           "label": "3900 to 4000<br>homogeneity score<br>",
           "values": [
            0.24605608783264132,
            0.5211383605854057,
            0.24667733802692474,
            0.5203358940447786,
            0.1852946495623356,
            0.6270084311732138,
            0.18497246156207223,
            0.6271440950783288,
            0.2467427267430883,
            0.6237928243414926,
            0.24706063482697999,
            0.6233219199561623,
            0.18518141209791122,
            0.6442292711922228,
            0.18630570322258866,
            0.6437430909207312,
            0.07204170563439757,
            0.05466258342007931,
            0.07128999551153732,
            0.05278305314856703,
            0.06022000333943829,
            0.18876544183599164,
            0.1882438291974901,
            0.06103257096580802,
            0.21780189994166974,
            0.6537914896597816,
            0.6495561896791289,
            0.2496434632677086,
            0.6542974428671341,
            0.2493657052764808,
            0.21706394840765517,
            0.21642949394040054,
            0.6496366298622297,
            0.6539799138252621,
            0.24975328586251408,
            0.6491918299479127
           ]
          },
          {
           "label": "3900 to 4000<br>adjusted mutual info score<br>",
           "values": [
            0.27290686816499826,
            0.5671720634496826,
            0.2732402551242966,
            0.5665094451164862,
            0.2109177005472364,
            0.6386222017967699,
            0.2101015118112532,
            0.6387885282722089,
            0.27093604661452975,
            0.63389241504335,
            0.2708576186527936,
            0.6338193215721617,
            0.21070372644474983,
            0.6502038141817678,
            0.2106492804773749,
            0.6498697437021731,
            0.10702084020270938,
            0.08663172308080441,
            0.10599064009190076,
            0.08364028326965262,
            0.09557095051812367,
            0.22227872504787352,
            0.2213163151800523,
            0.09683122600709097,
            0.23551188235088477,
            0.6595674514602187,
            0.6568298893000851,
            0.2709756698995166,
            0.6599015103347617,
            0.27171496884057733,
            0.23507596803296732,
            0.23464571491847389,
            0.6567351994937581,
            0.6596576666724636,
            0.2722454366689149,
            0.6564213198143868
           ]
          },
          {
           "label": "3900 to 4000<br>adjusted rand score<br>",
           "values": [
            0.42843743683353497,
            0.5137228218894266,
            0.42968247616704197,
            0.5136408140967511,
            0.31771599581796883,
            0.7277119374697694,
            0.3179790051360894,
            0.7274140270989843,
            0.4312131482640452,
            0.7290870051498088,
            0.4335846695413856,
            0.7280652702447191,
            0.31915813734421133,
            0.7441826670009122,
            0.32322695101834664,
            0.7443127715243925,
            0.030079526387627245,
            0.013823063160231713,
            0.029754477986731438,
            0.013282008892741889,
            0.016240587124162514,
            0.287766862466334,
            0.2849075903474645,
            0.016474331435150324,
            0.39383499721735565,
            0.7552438270925181,
            0.7550328938182939,
            0.44554454257207343,
            0.7556741067231862,
            0.44216132726300994,
            0.38933276455882393,
            0.3896209382989643,
            0.75480351508216,
            0.7559905561589295,
            0.440600099034981,
            0.7545935562915856
           ]
          },
          {
           "label": "3900 to 4000<br>f1 score<br>-weighted avg<br>",
           "values": [
            0.3914430117203256,
            0.615867683003281,
            0.39202984564906107,
            0.6146569216490689,
            0.3395229163485092,
            0.7299106625304723,
            0.33986457856946806,
            0.7298399520889739,
            0.3953652961123814,
            0.7354945842985525,
            0.39523677697318044,
            0.7346692696955492,
            0.3396542404029277,
            0.7552925053659607,
            0.3416376973977164,
            0.7550123270061387,
            0.22074545303524337,
            0.19736575131094553,
            0.2205960270991103,
            0.19485823747506298,
            0.20570267798329273,
            0.340294200218914,
            0.3404471434121058,
            0.20675980935815477,
            0.38087603962908095,
            0.7667402044490722,
            0.7600429315544927,
            0.400828462544285,
            0.7673757564796407,
            0.4002982017700881,
            0.3803593037096964,
            0.379292423970984,
            0.7600483790159931,
            0.7671692104308456,
            0.40023290323840055,
            0.7596991312454519
           ]
          }
         ],
         "domain": {
          "x": [
           0,
           1
          ],
          "y": [
           0,
           1
          ]
         },
         "line": {
          "color": [
           0.3914430117203256,
           0.615867683003281,
           0.39202984564906107,
           0.6146569216490689,
           0.3395229163485092,
           0.7299106625304723,
           0.33986457856946806,
           0.7298399520889739,
           0.3953652961123814,
           0.7354945842985525,
           0.39523677697318044,
           0.7346692696955492,
           0.3396542404029277,
           0.7552925053659607,
           0.3416376973977164,
           0.7550123270061387,
           0.22074545303524337,
           0.19736575131094553,
           0.2205960270991103,
           0.19485823747506298,
           0.20570267798329273,
           0.340294200218914,
           0.3404471434121058,
           0.20675980935815477,
           0.38087603962908095,
           0.7667402044490722,
           0.7600429315544927,
           0.400828462544285,
           0.7673757564796407,
           0.4002982017700881,
           0.3803593037096964,
           0.379292423970984,
           0.7600483790159931,
           0.7671692104308456,
           0.40023290323840055,
           0.7596991312454519
          ],
          "coloraxis": "coloraxis"
         },
         "name": "",
         "type": "parcoords"
        }
       ],
       "layout": {
        "coloraxis": {
         "colorbar": {
          "title": {
           "text": "3900 to 4000<br>f1 score<br>-weighted avg<br>"
          }
         },
         "colorscale": [
          [
           0,
           "#0d0887"
          ],
          [
           0.1111111111111111,
           "#46039f"
          ],
          [
           0.2222222222222222,
           "#7201a8"
          ],
          [
           0.3333333333333333,
           "#9c179e"
          ],
          [
           0.4444444444444444,
           "#bd3786"
          ],
          [
           0.5555555555555556,
           "#d8576b"
          ],
          [
           0.6666666666666666,
           "#ed7953"
          ],
          [
           0.7777777777777778,
           "#fb9f3a"
          ],
          [
           0.8888888888888888,
           "#fdca26"
          ],
          [
           1,
           "#f0f921"
          ]
         ]
        },
        "legend": {
         "tracegroupgap": 0
        },
        "margin": {
         "t": 60
        },
        "template": {
         "data": {
          "bar": [
           {
            "error_x": {
             "color": "#2a3f5f"
            },
            "error_y": {
             "color": "#2a3f5f"
            },
            "marker": {
             "line": {
              "color": "#E5ECF6",
              "width": 0.5
             }
            },
            "type": "bar"
           }
          ],
          "barpolar": [
           {
            "marker": {
             "line": {
              "color": "#E5ECF6",
              "width": 0.5
             }
            },
            "type": "barpolar"
           }
          ],
          "carpet": [
           {
            "aaxis": {
             "endlinecolor": "#2a3f5f",
             "gridcolor": "white",
             "linecolor": "white",
             "minorgridcolor": "white",
             "startlinecolor": "#2a3f5f"
            },
            "baxis": {
             "endlinecolor": "#2a3f5f",
             "gridcolor": "white",
             "linecolor": "white",
             "minorgridcolor": "white",
             "startlinecolor": "#2a3f5f"
            },
            "type": "carpet"
           }
          ],
          "choropleth": [
           {
            "colorbar": {
             "outlinewidth": 0,
             "ticks": ""
            },
            "type": "choropleth"
           }
          ],
          "contour": [
           {
            "colorbar": {
             "outlinewidth": 0,
             "ticks": ""
            },
            "colorscale": [
             [
              0,
              "#0d0887"
             ],
             [
              0.1111111111111111,
              "#46039f"
             ],
             [
              0.2222222222222222,
              "#7201a8"
             ],
             [
              0.3333333333333333,
              "#9c179e"
             ],
             [
              0.4444444444444444,
              "#bd3786"
             ],
             [
              0.5555555555555556,
              "#d8576b"
             ],
             [
              0.6666666666666666,
              "#ed7953"
             ],
             [
              0.7777777777777778,
              "#fb9f3a"
             ],
             [
              0.8888888888888888,
              "#fdca26"
             ],
             [
              1,
              "#f0f921"
             ]
            ],
            "type": "contour"
           }
          ],
          "contourcarpet": [
           {
            "colorbar": {
             "outlinewidth": 0,
             "ticks": ""
            },
            "type": "contourcarpet"
           }
          ],
          "heatmap": [
           {
            "colorbar": {
             "outlinewidth": 0,
             "ticks": ""
            },
            "colorscale": [
             [
              0,
              "#0d0887"
             ],
             [
              0.1111111111111111,
              "#46039f"
             ],
             [
              0.2222222222222222,
              "#7201a8"
             ],
             [
              0.3333333333333333,
              "#9c179e"
             ],
             [
              0.4444444444444444,
              "#bd3786"
             ],
             [
              0.5555555555555556,
              "#d8576b"
             ],
             [
              0.6666666666666666,
              "#ed7953"
             ],
             [
              0.7777777777777778,
              "#fb9f3a"
             ],
             [
              0.8888888888888888,
              "#fdca26"
             ],
             [
              1,
              "#f0f921"
             ]
            ],
            "type": "heatmap"
           }
          ],
          "heatmapgl": [
           {
            "colorbar": {
             "outlinewidth": 0,
             "ticks": ""
            },
            "colorscale": [
             [
              0,
              "#0d0887"
             ],
             [
              0.1111111111111111,
              "#46039f"
             ],
             [
              0.2222222222222222,
              "#7201a8"
             ],
             [
              0.3333333333333333,
              "#9c179e"
             ],
             [
              0.4444444444444444,
              "#bd3786"
             ],
             [
              0.5555555555555556,
              "#d8576b"
             ],
             [
              0.6666666666666666,
              "#ed7953"
             ],
             [
              0.7777777777777778,
              "#fb9f3a"
             ],
             [
              0.8888888888888888,
              "#fdca26"
             ],
             [
              1,
              "#f0f921"
             ]
            ],
            "type": "heatmapgl"
           }
          ],
          "histogram": [
           {
            "marker": {
             "colorbar": {
              "outlinewidth": 0,
              "ticks": ""
             }
            },
            "type": "histogram"
           }
          ],
          "histogram2d": [
           {
            "colorbar": {
             "outlinewidth": 0,
             "ticks": ""
            },
            "colorscale": [
             [
              0,
              "#0d0887"
             ],
             [
              0.1111111111111111,
              "#46039f"
             ],
             [
              0.2222222222222222,
              "#7201a8"
             ],
             [
              0.3333333333333333,
              "#9c179e"
             ],
             [
              0.4444444444444444,
              "#bd3786"
             ],
             [
              0.5555555555555556,
              "#d8576b"
             ],
             [
              0.6666666666666666,
              "#ed7953"
             ],
             [
              0.7777777777777778,
              "#fb9f3a"
             ],
             [
              0.8888888888888888,
              "#fdca26"
             ],
             [
              1,
              "#f0f921"
             ]
            ],
            "type": "histogram2d"
           }
          ],
          "histogram2dcontour": [
           {
            "colorbar": {
             "outlinewidth": 0,
             "ticks": ""
            },
            "colorscale": [
             [
              0,
              "#0d0887"
             ],
             [
              0.1111111111111111,
              "#46039f"
             ],
             [
              0.2222222222222222,
              "#7201a8"
             ],
             [
              0.3333333333333333,
              "#9c179e"
             ],
             [
              0.4444444444444444,
              "#bd3786"
             ],
             [
              0.5555555555555556,
              "#d8576b"
             ],
             [
              0.6666666666666666,
              "#ed7953"
             ],
             [
              0.7777777777777778,
              "#fb9f3a"
             ],
             [
              0.8888888888888888,
              "#fdca26"
             ],
             [
              1,
              "#f0f921"
             ]
            ],
            "type": "histogram2dcontour"
           }
          ],
          "mesh3d": [
           {
            "colorbar": {
             "outlinewidth": 0,
             "ticks": ""
            },
            "type": "mesh3d"
           }
          ],
          "parcoords": [
           {
            "line": {
             "colorbar": {
              "outlinewidth": 0,
              "ticks": ""
             }
            },
            "type": "parcoords"
           }
          ],
          "pie": [
           {
            "automargin": true,
            "type": "pie"
           }
          ],
          "scatter": [
           {
            "marker": {
             "colorbar": {
              "outlinewidth": 0,
              "ticks": ""
             }
            },
            "type": "scatter"
           }
          ],
          "scatter3d": [
           {
            "line": {
             "colorbar": {
              "outlinewidth": 0,
              "ticks": ""
             }
            },
            "marker": {
             "colorbar": {
              "outlinewidth": 0,
              "ticks": ""
             }
            },
            "type": "scatter3d"
           }
          ],
          "scattercarpet": [
           {
            "marker": {
             "colorbar": {
              "outlinewidth": 0,
              "ticks": ""
             }
            },
            "type": "scattercarpet"
           }
          ],
          "scattergeo": [
           {
            "marker": {
             "colorbar": {
              "outlinewidth": 0,
              "ticks": ""
             }
            },
            "type": "scattergeo"
           }
          ],
          "scattergl": [
           {
            "marker": {
             "colorbar": {
              "outlinewidth": 0,
              "ticks": ""
             }
            },
            "type": "scattergl"
           }
          ],
          "scattermapbox": [
           {
            "marker": {
             "colorbar": {
              "outlinewidth": 0,
              "ticks": ""
             }
            },
            "type": "scattermapbox"
           }
          ],
          "scatterpolar": [
           {
            "marker": {
             "colorbar": {
              "outlinewidth": 0,
              "ticks": ""
             }
            },
            "type": "scatterpolar"
           }
          ],
          "scatterpolargl": [
           {
            "marker": {
             "colorbar": {
              "outlinewidth": 0,
              "ticks": ""
             }
            },
            "type": "scatterpolargl"
           }
          ],
          "scatterternary": [
           {
            "marker": {
             "colorbar": {
              "outlinewidth": 0,
              "ticks": ""
             }
            },
            "type": "scatterternary"
           }
          ],
          "surface": [
           {
            "colorbar": {
             "outlinewidth": 0,
             "ticks": ""
            },
            "colorscale": [
             [
              0,
              "#0d0887"
             ],
             [
              0.1111111111111111,
              "#46039f"
             ],
             [
              0.2222222222222222,
              "#7201a8"
             ],
             [
              0.3333333333333333,
              "#9c179e"
             ],
             [
              0.4444444444444444,
              "#bd3786"
             ],
             [
              0.5555555555555556,
              "#d8576b"
             ],
             [
              0.6666666666666666,
              "#ed7953"
             ],
             [
              0.7777777777777778,
              "#fb9f3a"
             ],
             [
              0.8888888888888888,
              "#fdca26"
             ],
             [
              1,
              "#f0f921"
             ]
            ],
            "type": "surface"
           }
          ],
          "table": [
           {
            "cells": {
             "fill": {
              "color": "#EBF0F8"
             },
             "line": {
              "color": "white"
             }
            },
            "header": {
             "fill": {
              "color": "#C8D4E3"
             },
             "line": {
              "color": "white"
             }
            },
            "type": "table"
           }
          ]
         },
         "layout": {
          "annotationdefaults": {
           "arrowcolor": "#2a3f5f",
           "arrowhead": 0,
           "arrowwidth": 1
          },
          "autotypenumbers": "strict",
          "coloraxis": {
           "colorbar": {
            "outlinewidth": 0,
            "ticks": ""
           }
          },
          "colorscale": {
           "diverging": [
            [
             0,
             "#8e0152"
            ],
            [
             0.1,
             "#c51b7d"
            ],
            [
             0.2,
             "#de77ae"
            ],
            [
             0.3,
             "#f1b6da"
            ],
            [
             0.4,
             "#fde0ef"
            ],
            [
             0.5,
             "#f7f7f7"
            ],
            [
             0.6,
             "#e6f5d0"
            ],
            [
             0.7,
             "#b8e186"
            ],
            [
             0.8,
             "#7fbc41"
            ],
            [
             0.9,
             "#4d9221"
            ],
            [
             1,
             "#276419"
            ]
           ],
           "sequential": [
            [
             0,
             "#0d0887"
            ],
            [
             0.1111111111111111,
             "#46039f"
            ],
            [
             0.2222222222222222,
             "#7201a8"
            ],
            [
             0.3333333333333333,
             "#9c179e"
            ],
            [
             0.4444444444444444,
             "#bd3786"
            ],
            [
             0.5555555555555556,
             "#d8576b"
            ],
            [
             0.6666666666666666,
             "#ed7953"
            ],
            [
             0.7777777777777778,
             "#fb9f3a"
            ],
            [
             0.8888888888888888,
             "#fdca26"
            ],
            [
             1,
             "#f0f921"
            ]
           ],
           "sequentialminus": [
            [
             0,
             "#0d0887"
            ],
            [
             0.1111111111111111,
             "#46039f"
            ],
            [
             0.2222222222222222,
             "#7201a8"
            ],
            [
             0.3333333333333333,
             "#9c179e"
            ],
            [
             0.4444444444444444,
             "#bd3786"
            ],
            [
             0.5555555555555556,
             "#d8576b"
            ],
            [
             0.6666666666666666,
             "#ed7953"
            ],
            [
             0.7777777777777778,
             "#fb9f3a"
            ],
            [
             0.8888888888888888,
             "#fdca26"
            ],
            [
             1,
             "#f0f921"
            ]
           ]
          },
          "colorway": [
           "#636efa",
           "#EF553B",
           "#00cc96",
           "#ab63fa",
           "#FFA15A",
           "#19d3f3",
           "#FF6692",
           "#B6E880",
           "#FF97FF",
           "#FECB52"
          ],
          "font": {
           "color": "#2a3f5f"
          },
          "geo": {
           "bgcolor": "white",
           "lakecolor": "white",
           "landcolor": "#E5ECF6",
           "showlakes": true,
           "showland": true,
           "subunitcolor": "white"
          },
          "hoverlabel": {
           "align": "left"
          },
          "hovermode": "closest",
          "mapbox": {
           "style": "light"
          },
          "paper_bgcolor": "white",
          "plot_bgcolor": "#E5ECF6",
          "polar": {
           "angularaxis": {
            "gridcolor": "white",
            "linecolor": "white",
            "ticks": ""
           },
           "bgcolor": "#E5ECF6",
           "radialaxis": {
            "gridcolor": "white",
            "linecolor": "white",
            "ticks": ""
           }
          },
          "scene": {
           "xaxis": {
            "backgroundcolor": "#E5ECF6",
            "gridcolor": "white",
            "gridwidth": 2,
            "linecolor": "white",
            "showbackground": true,
            "ticks": "",
            "zerolinecolor": "white"
           },
           "yaxis": {
            "backgroundcolor": "#E5ECF6",
            "gridcolor": "white",
            "gridwidth": 2,
            "linecolor": "white",
            "showbackground": true,
            "ticks": "",
            "zerolinecolor": "white"
           },
           "zaxis": {
            "backgroundcolor": "#E5ECF6",
            "gridcolor": "white",
            "gridwidth": 2,
            "linecolor": "white",
            "showbackground": true,
            "ticks": "",
            "zerolinecolor": "white"
           }
          },
          "shapedefaults": {
           "line": {
            "color": "#2a3f5f"
           }
          },
          "ternary": {
           "aaxis": {
            "gridcolor": "white",
            "linecolor": "white",
            "ticks": ""
           },
           "baxis": {
            "gridcolor": "white",
            "linecolor": "white",
            "ticks": ""
           },
           "bgcolor": "#E5ECF6",
           "caxis": {
            "gridcolor": "white",
            "linecolor": "white",
            "ticks": ""
           }
          },
          "title": {
           "x": 0.05
          },
          "xaxis": {
           "automargin": true,
           "gridcolor": "white",
           "linecolor": "white",
           "ticks": "",
           "title": {
            "standoff": 15
           },
           "zerolinecolor": "white",
           "zerolinewidth": 2
          },
          "yaxis": {
           "automargin": true,
           "gridcolor": "white",
           "linecolor": "white",
           "ticks": "",
           "title": {
            "standoff": 15
           },
           "zerolinecolor": "white",
           "zerolinewidth": 2
          }
         }
        }
       }
      },
      "text/html": [
       "<div>                            <div id=\"4f9959a1-02dd-4103-a034-6dbe90c3c417\" class=\"plotly-graph-div\" style=\"height:525px; width:100%;\"></div>            <script type=\"text/javascript\">                require([\"plotly\"], function(Plotly) {                    window.PLOTLYENV=window.PLOTLYENV || {};                                    if (document.getElementById(\"4f9959a1-02dd-4103-a034-6dbe90c3c417\")) {                    Plotly.newPlot(                        \"4f9959a1-02dd-4103-a034-6dbe90c3c417\",                        [{\"dimensions\": [{\"label\": \"subreddits\", \"values\": [49326.0, 49326.0, 49454.0, 49454.0, 49326.0, 49326.0, 49454.0, 49454.0, 49326.0, 49326.0, 49454.0, 49454.0, 49326.0, 49326.0, 49454.0, 49454.0, 49326.0, 49326.0, 49454.0, 49454.0, 49454.0, 49326.0, 49454.0, 49326.0, 49326.0, 49326.0, 49326.0, 49326.0, 49454.0, 49454.0, 49454.0, 49558.0, 49454.0, 49558.0, 49558.0, 49558.0]}, {\"label\": \"cluster linkage\", \"values\": [3, 3, 3, 3, 3, 3, 3, 3, 2, 2, 2, 2, 2, 2, 2, 2, 1, 1, 1, 1, 1, 1, 1, 1, 4, 4, 4, 4, 4, 4, 4, 4, 4, 4, 4, 4]}, {\"label\": \"3000 to 3200<br>homogeneity score<br>\", \"values\": [0.23950522935958543, 0.4656961593312563, 0.23904295232995568, 0.4619781370318991, 0.1758326268832714, 0.6097862078053293, 0.17638982854641524, 0.6077270968583474, 0.23989732489471555, 0.6094240836824114, 0.24096736474010783, 0.6071990106610244, 0.1759773371102899, 0.6324563400046893, 0.17850566233267637, 0.6317642710135438, 0.05561359339681244, 0.03985255391102874, 0.05765488046640158, 0.03967769473291397, 0.04223337326992797, 0.17946741377765146, 0.17955628564320453, 0.04586048276262229, 0.20842776396552173, 0.6447854936568662, 0.6409863149451844, 0.2423842831719021, 0.6440977582145574, 0.2420806620090514, 0.2084694528295876, 0.2083550950631399, 0.6412372632732054, 0.6443054508723303, 0.24250666494335868, 0.6415652919527471]}, {\"label\": \"3000 to 3200<br>adjusted mutual info score<br>\", \"values\": [0.2690731016158911, 0.525601615406606, 0.26883410496278093, 0.5238246368653019, 0.20739704524730593, 0.624066715193699, 0.20579869002216522, 0.6221220755183569, 0.2681349145845382, 0.6199056297507831, 0.26801201931382596, 0.6180494116840081, 0.20517513071065488, 0.6388635008118061, 0.2074750249298335, 0.6384657595439904, 0.0836118961985454, 0.06242940323383516, 0.08663379303619481, 0.06211241913001243, 0.06648203442462168, 0.21681031683693316, 0.2162423931851927, 0.0723817656988114, 0.2284405612125653, 0.6506248861996471, 0.6479255958325969, 0.2662913005072093, 0.6498268631114018, 0.2674960661623775, 0.22902169592936053, 0.22889514285943433, 0.6481596499635638, 0.650072356719098, 0.2675957950500224, 0.6484884800255595]}, {\"label\": \"3000 to 3200<br>adjusted rand score<br>\", \"values\": [0.41540895282765306, 0.465339849489236, 0.4154641152661646, 0.4653131101741538, 0.29110304831835615, 0.7132203694909401, 0.2965695313478374, 0.711376681186633, 0.4146970975378618, 0.7164128487162725, 0.42029581525851123, 0.7145598779025646, 0.2967317782582348, 0.7336091449546744, 0.29874466248006476, 0.733098521269545, 0.021611240914013837, 0.009742827452427633, 0.022475437157581667, 0.009699978431080157, 0.010968344786024929, 0.2688965714830326, 0.2655199689388968, 0.011932387519949052, 0.3755842238189969, 0.7483598627352621, 0.7480207092189443, 0.43343637067939794, 0.7473963783975132, 0.42880672151532173, 0.37470220767916124, 0.3751036454028609, 0.7479784224673314, 0.7478322510106703, 0.42950933406809677, 0.74829828017451]}, {\"label\": \"3000 to 3200<br>f1 score<br>-weighted avg<br>\", \"values\": [0.37847355594046206, 0.5348857321946544, 0.37760156339221806, 0.5306138202446653, 0.3192165837973842, 0.7084606906628248, 0.32055376429922733, 0.7063960566472511, 0.3792274888498239, 0.7216652378912037, 0.3813451469652891, 0.7193452713740002, 0.3223941673939606, 0.7439417791361779, 0.32356745635583933, 0.7437764579556466, 0.19632416414282725, 0.17523589872350873, 0.1994075491144677, 0.17505318005179513, 0.17838747988368198, 0.3216138353290821, 0.32312462575985795, 0.18367130141861185, 0.3636655172674646, 0.7580784545960724, 0.7518419388049679, 0.38626887388835673, 0.7579415205615722, 0.38508802623818733, 0.3627945453007402, 0.36293120230685455, 0.751848609443138, 0.7584200901441419, 0.3862071776705289, 0.7521416771946603]}, {\"label\": \"3900 to 4000<br>homogeneity score<br>\", \"values\": [0.24605608783264132, 0.5211383605854057, 0.24667733802692474, 0.5203358940447786, 0.1852946495623356, 0.6270084311732138, 0.18497246156207223, 0.6271440950783288, 0.2467427267430883, 0.6237928243414926, 0.24706063482697999, 0.6233219199561623, 0.18518141209791122, 0.6442292711922228, 0.18630570322258866, 0.6437430909207312, 0.07204170563439757, 0.05466258342007931, 0.07128999551153732, 0.05278305314856703, 0.06022000333943829, 0.18876544183599164, 0.1882438291974901, 0.06103257096580802, 0.21780189994166974, 0.6537914896597816, 0.6495561896791289, 0.2496434632677086, 0.6542974428671341, 0.2493657052764808, 0.21706394840765517, 0.21642949394040054, 0.6496366298622297, 0.6539799138252621, 0.24975328586251408, 0.6491918299479127]}, {\"label\": \"3900 to 4000<br>adjusted mutual info score<br>\", \"values\": [0.27290686816499826, 0.5671720634496826, 0.2732402551242966, 0.5665094451164862, 0.2109177005472364, 0.6386222017967699, 0.2101015118112532, 0.6387885282722089, 0.27093604661452975, 0.63389241504335, 0.2708576186527936, 0.6338193215721617, 0.21070372644474983, 0.6502038141817678, 0.2106492804773749, 0.6498697437021731, 0.10702084020270938, 0.08663172308080441, 0.10599064009190076, 0.08364028326965262, 0.09557095051812367, 0.22227872504787352, 0.2213163151800523, 0.09683122600709097, 0.23551188235088477, 0.6595674514602187, 0.6568298893000851, 0.2709756698995166, 0.6599015103347617, 0.27171496884057733, 0.23507596803296732, 0.23464571491847389, 0.6567351994937581, 0.6596576666724636, 0.2722454366689149, 0.6564213198143868]}, {\"label\": \"3900 to 4000<br>adjusted rand score<br>\", \"values\": [0.42843743683353497, 0.5137228218894266, 0.42968247616704197, 0.5136408140967511, 0.31771599581796883, 0.7277119374697694, 0.3179790051360894, 0.7274140270989843, 0.4312131482640452, 0.7290870051498088, 0.4335846695413856, 0.7280652702447191, 0.31915813734421133, 0.7441826670009122, 0.32322695101834664, 0.7443127715243925, 0.030079526387627245, 0.013823063160231713, 0.029754477986731438, 0.013282008892741889, 0.016240587124162514, 0.287766862466334, 0.2849075903474645, 0.016474331435150324, 0.39383499721735565, 0.7552438270925181, 0.7550328938182939, 0.44554454257207343, 0.7556741067231862, 0.44216132726300994, 0.38933276455882393, 0.3896209382989643, 0.75480351508216, 0.7559905561589295, 0.440600099034981, 0.7545935562915856]}, {\"label\": \"3900 to 4000<br>f1 score<br>-weighted avg<br>\", \"values\": [0.3914430117203256, 0.615867683003281, 0.39202984564906107, 0.6146569216490689, 0.3395229163485092, 0.7299106625304723, 0.33986457856946806, 0.7298399520889739, 0.3953652961123814, 0.7354945842985525, 0.39523677697318044, 0.7346692696955492, 0.3396542404029277, 0.7552925053659607, 0.3416376973977164, 0.7550123270061387, 0.22074545303524337, 0.19736575131094553, 0.2205960270991103, 0.19485823747506298, 0.20570267798329273, 0.340294200218914, 0.3404471434121058, 0.20675980935815477, 0.38087603962908095, 0.7667402044490722, 0.7600429315544927, 0.400828462544285, 0.7673757564796407, 0.4002982017700881, 0.3803593037096964, 0.379292423970984, 0.7600483790159931, 0.7671692104308456, 0.40023290323840055, 0.7596991312454519]}], \"domain\": {\"x\": [0.0, 1.0], \"y\": [0.0, 1.0]}, \"line\": {\"color\": [0.3914430117203256, 0.615867683003281, 0.39202984564906107, 0.6146569216490689, 0.3395229163485092, 0.7299106625304723, 0.33986457856946806, 0.7298399520889739, 0.3953652961123814, 0.7354945842985525, 0.39523677697318044, 0.7346692696955492, 0.3396542404029277, 0.7552925053659607, 0.3416376973977164, 0.7550123270061387, 0.22074545303524337, 0.19736575131094553, 0.2205960270991103, 0.19485823747506298, 0.20570267798329273, 0.340294200218914, 0.3404471434121058, 0.20675980935815477, 0.38087603962908095, 0.7667402044490722, 0.7600429315544927, 0.400828462544285, 0.7673757564796407, 0.4002982017700881, 0.3803593037096964, 0.379292423970984, 0.7600483790159931, 0.7671692104308456, 0.40023290323840055, 0.7596991312454519], \"coloraxis\": \"coloraxis\"}, \"name\": \"\", \"type\": \"parcoords\"}],                        {\"coloraxis\": {\"colorbar\": {\"title\": {\"text\": \"3900 to 4000<br>f1 score<br>-weighted avg<br>\"}}, \"colorscale\": [[0.0, \"#0d0887\"], [0.1111111111111111, \"#46039f\"], [0.2222222222222222, \"#7201a8\"], [0.3333333333333333, \"#9c179e\"], [0.4444444444444444, \"#bd3786\"], [0.5555555555555556, \"#d8576b\"], [0.6666666666666666, \"#ed7953\"], [0.7777777777777778, \"#fb9f3a\"], [0.8888888888888888, \"#fdca26\"], [1.0, \"#f0f921\"]]}, \"legend\": {\"tracegroupgap\": 0}, \"margin\": {\"t\": 60}, \"template\": {\"data\": {\"bar\": [{\"error_x\": {\"color\": \"#2a3f5f\"}, \"error_y\": {\"color\": \"#2a3f5f\"}, \"marker\": {\"line\": {\"color\": \"#E5ECF6\", \"width\": 0.5}}, \"type\": \"bar\"}], \"barpolar\": [{\"marker\": {\"line\": {\"color\": \"#E5ECF6\", \"width\": 0.5}}, \"type\": \"barpolar\"}], \"carpet\": [{\"aaxis\": {\"endlinecolor\": \"#2a3f5f\", \"gridcolor\": \"white\", \"linecolor\": \"white\", \"minorgridcolor\": \"white\", \"startlinecolor\": \"#2a3f5f\"}, \"baxis\": {\"endlinecolor\": \"#2a3f5f\", \"gridcolor\": \"white\", \"linecolor\": \"white\", \"minorgridcolor\": \"white\", \"startlinecolor\": \"#2a3f5f\"}, \"type\": \"carpet\"}], \"choropleth\": [{\"colorbar\": {\"outlinewidth\": 0, \"ticks\": \"\"}, \"type\": \"choropleth\"}], \"contour\": [{\"colorbar\": {\"outlinewidth\": 0, \"ticks\": \"\"}, \"colorscale\": [[0.0, \"#0d0887\"], [0.1111111111111111, \"#46039f\"], [0.2222222222222222, \"#7201a8\"], [0.3333333333333333, \"#9c179e\"], [0.4444444444444444, \"#bd3786\"], [0.5555555555555556, \"#d8576b\"], [0.6666666666666666, \"#ed7953\"], [0.7777777777777778, \"#fb9f3a\"], [0.8888888888888888, \"#fdca26\"], [1.0, \"#f0f921\"]], \"type\": \"contour\"}], \"contourcarpet\": [{\"colorbar\": {\"outlinewidth\": 0, \"ticks\": \"\"}, \"type\": \"contourcarpet\"}], \"heatmap\": [{\"colorbar\": {\"outlinewidth\": 0, \"ticks\": \"\"}, \"colorscale\": [[0.0, \"#0d0887\"], [0.1111111111111111, \"#46039f\"], [0.2222222222222222, \"#7201a8\"], [0.3333333333333333, \"#9c179e\"], [0.4444444444444444, \"#bd3786\"], [0.5555555555555556, \"#d8576b\"], [0.6666666666666666, \"#ed7953\"], [0.7777777777777778, \"#fb9f3a\"], [0.8888888888888888, \"#fdca26\"], [1.0, \"#f0f921\"]], \"type\": \"heatmap\"}], \"heatmapgl\": [{\"colorbar\": {\"outlinewidth\": 0, \"ticks\": \"\"}, \"colorscale\": [[0.0, \"#0d0887\"], [0.1111111111111111, \"#46039f\"], [0.2222222222222222, \"#7201a8\"], [0.3333333333333333, \"#9c179e\"], [0.4444444444444444, \"#bd3786\"], [0.5555555555555556, \"#d8576b\"], [0.6666666666666666, \"#ed7953\"], [0.7777777777777778, \"#fb9f3a\"], [0.8888888888888888, \"#fdca26\"], [1.0, \"#f0f921\"]], \"type\": \"heatmapgl\"}], \"histogram\": [{\"marker\": {\"colorbar\": {\"outlinewidth\": 0, \"ticks\": \"\"}}, \"type\": \"histogram\"}], \"histogram2d\": [{\"colorbar\": {\"outlinewidth\": 0, \"ticks\": \"\"}, \"colorscale\": [[0.0, \"#0d0887\"], [0.1111111111111111, \"#46039f\"], [0.2222222222222222, \"#7201a8\"], [0.3333333333333333, \"#9c179e\"], [0.4444444444444444, \"#bd3786\"], [0.5555555555555556, \"#d8576b\"], [0.6666666666666666, \"#ed7953\"], [0.7777777777777778, \"#fb9f3a\"], [0.8888888888888888, \"#fdca26\"], [1.0, \"#f0f921\"]], \"type\": \"histogram2d\"}], \"histogram2dcontour\": [{\"colorbar\": {\"outlinewidth\": 0, \"ticks\": \"\"}, \"colorscale\": [[0.0, \"#0d0887\"], [0.1111111111111111, \"#46039f\"], [0.2222222222222222, \"#7201a8\"], [0.3333333333333333, \"#9c179e\"], [0.4444444444444444, \"#bd3786\"], [0.5555555555555556, \"#d8576b\"], [0.6666666666666666, \"#ed7953\"], [0.7777777777777778, \"#fb9f3a\"], [0.8888888888888888, \"#fdca26\"], [1.0, \"#f0f921\"]], \"type\": \"histogram2dcontour\"}], \"mesh3d\": [{\"colorbar\": {\"outlinewidth\": 0, \"ticks\": \"\"}, \"type\": \"mesh3d\"}], \"parcoords\": [{\"line\": {\"colorbar\": {\"outlinewidth\": 0, \"ticks\": \"\"}}, \"type\": \"parcoords\"}], \"pie\": [{\"automargin\": true, \"type\": \"pie\"}], \"scatter\": [{\"marker\": {\"colorbar\": {\"outlinewidth\": 0, \"ticks\": \"\"}}, \"type\": \"scatter\"}], \"scatter3d\": [{\"line\": {\"colorbar\": {\"outlinewidth\": 0, \"ticks\": \"\"}}, \"marker\": {\"colorbar\": {\"outlinewidth\": 0, \"ticks\": \"\"}}, \"type\": \"scatter3d\"}], \"scattercarpet\": [{\"marker\": {\"colorbar\": {\"outlinewidth\": 0, \"ticks\": \"\"}}, \"type\": \"scattercarpet\"}], \"scattergeo\": [{\"marker\": {\"colorbar\": {\"outlinewidth\": 0, \"ticks\": \"\"}}, \"type\": \"scattergeo\"}], \"scattergl\": [{\"marker\": {\"colorbar\": {\"outlinewidth\": 0, \"ticks\": \"\"}}, \"type\": \"scattergl\"}], \"scattermapbox\": [{\"marker\": {\"colorbar\": {\"outlinewidth\": 0, \"ticks\": \"\"}}, \"type\": \"scattermapbox\"}], \"scatterpolar\": [{\"marker\": {\"colorbar\": {\"outlinewidth\": 0, \"ticks\": \"\"}}, \"type\": \"scatterpolar\"}], \"scatterpolargl\": [{\"marker\": {\"colorbar\": {\"outlinewidth\": 0, \"ticks\": \"\"}}, \"type\": \"scatterpolargl\"}], \"scatterternary\": [{\"marker\": {\"colorbar\": {\"outlinewidth\": 0, \"ticks\": \"\"}}, \"type\": \"scatterternary\"}], \"surface\": [{\"colorbar\": {\"outlinewidth\": 0, \"ticks\": \"\"}, \"colorscale\": [[0.0, \"#0d0887\"], [0.1111111111111111, \"#46039f\"], [0.2222222222222222, \"#7201a8\"], [0.3333333333333333, \"#9c179e\"], [0.4444444444444444, \"#bd3786\"], [0.5555555555555556, \"#d8576b\"], [0.6666666666666666, \"#ed7953\"], [0.7777777777777778, \"#fb9f3a\"], [0.8888888888888888, \"#fdca26\"], [1.0, \"#f0f921\"]], \"type\": \"surface\"}], \"table\": [{\"cells\": {\"fill\": {\"color\": \"#EBF0F8\"}, \"line\": {\"color\": \"white\"}}, \"header\": {\"fill\": {\"color\": \"#C8D4E3\"}, \"line\": {\"color\": \"white\"}}, \"type\": \"table\"}]}, \"layout\": {\"annotationdefaults\": {\"arrowcolor\": \"#2a3f5f\", \"arrowhead\": 0, \"arrowwidth\": 1}, \"autotypenumbers\": \"strict\", \"coloraxis\": {\"colorbar\": {\"outlinewidth\": 0, \"ticks\": \"\"}}, \"colorscale\": {\"diverging\": [[0, \"#8e0152\"], [0.1, \"#c51b7d\"], [0.2, \"#de77ae\"], [0.3, \"#f1b6da\"], [0.4, \"#fde0ef\"], [0.5, \"#f7f7f7\"], [0.6, \"#e6f5d0\"], [0.7, \"#b8e186\"], [0.8, \"#7fbc41\"], [0.9, \"#4d9221\"], [1, \"#276419\"]], \"sequential\": [[0.0, \"#0d0887\"], [0.1111111111111111, \"#46039f\"], [0.2222222222222222, \"#7201a8\"], [0.3333333333333333, \"#9c179e\"], [0.4444444444444444, \"#bd3786\"], [0.5555555555555556, \"#d8576b\"], [0.6666666666666666, \"#ed7953\"], [0.7777777777777778, \"#fb9f3a\"], [0.8888888888888888, \"#fdca26\"], [1.0, \"#f0f921\"]], \"sequentialminus\": [[0.0, \"#0d0887\"], [0.1111111111111111, \"#46039f\"], [0.2222222222222222, \"#7201a8\"], [0.3333333333333333, \"#9c179e\"], [0.4444444444444444, \"#bd3786\"], [0.5555555555555556, \"#d8576b\"], [0.6666666666666666, \"#ed7953\"], [0.7777777777777778, \"#fb9f3a\"], [0.8888888888888888, \"#fdca26\"], [1.0, \"#f0f921\"]]}, \"colorway\": [\"#636efa\", \"#EF553B\", \"#00cc96\", \"#ab63fa\", \"#FFA15A\", \"#19d3f3\", \"#FF6692\", \"#B6E880\", \"#FF97FF\", \"#FECB52\"], \"font\": {\"color\": \"#2a3f5f\"}, \"geo\": {\"bgcolor\": \"white\", \"lakecolor\": \"white\", \"landcolor\": \"#E5ECF6\", \"showlakes\": true, \"showland\": true, \"subunitcolor\": \"white\"}, \"hoverlabel\": {\"align\": \"left\"}, \"hovermode\": \"closest\", \"mapbox\": {\"style\": \"light\"}, \"paper_bgcolor\": \"white\", \"plot_bgcolor\": \"#E5ECF6\", \"polar\": {\"angularaxis\": {\"gridcolor\": \"white\", \"linecolor\": \"white\", \"ticks\": \"\"}, \"bgcolor\": \"#E5ECF6\", \"radialaxis\": {\"gridcolor\": \"white\", \"linecolor\": \"white\", \"ticks\": \"\"}}, \"scene\": {\"xaxis\": {\"backgroundcolor\": \"#E5ECF6\", \"gridcolor\": \"white\", \"gridwidth\": 2, \"linecolor\": \"white\", \"showbackground\": true, \"ticks\": \"\", \"zerolinecolor\": \"white\"}, \"yaxis\": {\"backgroundcolor\": \"#E5ECF6\", \"gridcolor\": \"white\", \"gridwidth\": 2, \"linecolor\": \"white\", \"showbackground\": true, \"ticks\": \"\", \"zerolinecolor\": \"white\"}, \"zaxis\": {\"backgroundcolor\": \"#E5ECF6\", \"gridcolor\": \"white\", \"gridwidth\": 2, \"linecolor\": \"white\", \"showbackground\": true, \"ticks\": \"\", \"zerolinecolor\": \"white\"}}, \"shapedefaults\": {\"line\": {\"color\": \"#2a3f5f\"}}, \"ternary\": {\"aaxis\": {\"gridcolor\": \"white\", \"linecolor\": \"white\", \"ticks\": \"\"}, \"baxis\": {\"gridcolor\": \"white\", \"linecolor\": \"white\", \"ticks\": \"\"}, \"bgcolor\": \"#E5ECF6\", \"caxis\": {\"gridcolor\": \"white\", \"linecolor\": \"white\", \"ticks\": \"\"}}, \"title\": {\"x\": 0.05}, \"xaxis\": {\"automargin\": true, \"gridcolor\": \"white\", \"linecolor\": \"white\", \"ticks\": \"\", \"title\": {\"standoff\": 15}, \"zerolinecolor\": \"white\", \"zerolinewidth\": 2}, \"yaxis\": {\"automargin\": true, \"gridcolor\": \"white\", \"linecolor\": \"white\", \"ticks\": \"\", \"title\": {\"standoff\": 15}, \"zerolinecolor\": \"white\", \"zerolinewidth\": 2}}}},                        {\"responsive\": true}                    ).then(function(){\n",
       "                            \n",
       "var gd = document.getElementById('4f9959a1-02dd-4103-a034-6dbe90c3c417');\n",
       "var x = new MutationObserver(function (mutations, observer) {{\n",
       "        var display = window.getComputedStyle(gd).display;\n",
       "        if (!display || display === 'none') {{\n",
       "            console.log([gd, 'removed!']);\n",
       "            Plotly.purge(gd);\n",
       "            observer.disconnect();\n",
       "        }}\n",
       "}});\n",
       "\n",
       "// Listen for the removal of the full notebook cells\n",
       "var notebookContainer = gd.closest('#notebook-container');\n",
       "if (notebookContainer) {{\n",
       "    x.observe(notebookContainer, {childList: true});\n",
       "}}\n",
       "\n",
       "// Listen for the clearing of the current output cell\n",
       "var outputEl = gd.closest('.output');\n",
       "if (outputEl) {{\n",
       "    x.observe(outputEl, {childList: true});\n",
       "}}\n",
       "\n",
       "                        })                };                });            </script>        </div>"
      ]
     },
     "metadata": {},
     "output_type": "display_data"
    }
   ],
   "source": [
    "l_cols_plot_raw_ = l_parallel_params + l_parallel_metrics_3k + l_parallel_metrics_4k\n",
    "l_cols_plot_clean_ = [rename_col_for_display(c) for c in l_cols_plot_raw_]\n",
    "df_plot_ = (\n",
    "    df_mlf_clustering_candidates\n",
    "    [df_mlf_clustering_candidates['metrics.filtered_embeddings-n_rows'] >= 49000]\n",
    "    [l_cols_plot_raw_]\n",
    "    .rename(columns={c: rename_col_for_display(c) for c in l_cols_plot_raw_})\n",
    "    .reset_index(drop=True)\n",
    ")\n",
    "print(df_plot_.shape)\n",
    "# remap cluster linkage so it shows up in plot\n",
    "col_linkage_clean = ['cluster linkage']\n",
    "df_plot_[col_linkage_clean] = df_plot_[col_linkage_clean].replace(d_linkage_to_num)\n",
    "print(f\"Linkage names:\\n {d_num_to_linkage}\")\n",
    "\n",
    "\n",
    "fig = px.parallel_coordinates(\n",
    "    df_plot_,\n",
    "    color=l_cols_plot_clean_[-1],\n",
    "    # dimensions=l_cols_plot_clean_,\n",
    "    # labels={},\n",
    "    # color_continuous_scale=px.colors.diverging.Tealrose,\n",
    "    # color_continuous_midpoint=2\n",
    ")\n",
    "fig.show()"
   ]
  },
  {
   "cell_type": "code",
   "execution_count": 99,
   "id": "b287f56e",
   "metadata": {},
   "outputs": [
    {
     "name": "stdout",
     "output_type": "stream",
     "text": [
      "(4, 10)\n",
      "Linkage names:\n",
      " {4: 'ward', 3: 'average', 2: 'complete', 1: 'single'}\n"
     ]
    },
    {
     "data": {
      "application/vnd.plotly.v1+json": {
       "config": {
        "plotlyServerURL": "https://plot.ly"
       },
       "data": [
        {
         "dimensions": [
          {
           "label": "subreddits",
           "values": [
            49558,
            49558,
            49558,
            49558
           ]
          },
          {
           "label": "cluster linkage",
           "values": [
            4,
            4,
            4,
            4
           ]
          },
          {
           "label": "3000 to 3200<br>homogeneity score<br>",
           "values": [
            0.2083550950631399,
            0.6443054508723303,
            0.24250666494335868,
            0.6415652919527471
           ]
          },
          {
           "label": "3000 to 3200<br>adjusted mutual info score<br>",
           "values": [
            0.22889514285943433,
            0.650072356719098,
            0.2675957950500224,
            0.6484884800255595
           ]
          },
          {
           "label": "3000 to 3200<br>adjusted rand score<br>",
           "values": [
            0.3751036454028609,
            0.7478322510106703,
            0.42950933406809677,
            0.74829828017451
           ]
          },
          {
           "label": "3000 to 3200<br>f1 score<br>-weighted avg<br>",
           "values": [
            0.36293120230685455,
            0.7584200901441419,
            0.3862071776705289,
            0.7521416771946603
           ]
          },
          {
           "label": "3900 to 4000<br>homogeneity score<br>",
           "values": [
            0.21642949394040054,
            0.6539799138252621,
            0.24975328586251408,
            0.6491918299479127
           ]
          },
          {
           "label": "3900 to 4000<br>adjusted mutual info score<br>",
           "values": [
            0.23464571491847389,
            0.6596576666724636,
            0.2722454366689149,
            0.6564213198143868
           ]
          },
          {
           "label": "3900 to 4000<br>adjusted rand score<br>",
           "values": [
            0.3896209382989643,
            0.7559905561589295,
            0.440600099034981,
            0.7545935562915856
           ]
          },
          {
           "label": "3900 to 4000<br>f1 score<br>-weighted avg<br>",
           "values": [
            0.379292423970984,
            0.7671692104308456,
            0.40023290323840055,
            0.7596991312454519
           ]
          }
         ],
         "domain": {
          "x": [
           0,
           1
          ],
          "y": [
           0,
           1
          ]
         },
         "line": {
          "color": [
           0.379292423970984,
           0.7671692104308456,
           0.40023290323840055,
           0.7596991312454519
          ],
          "coloraxis": "coloraxis"
         },
         "name": "",
         "type": "parcoords"
        }
       ],
       "layout": {
        "coloraxis": {
         "colorbar": {
          "title": {
           "text": "3900 to 4000<br>f1 score<br>-weighted avg<br>"
          }
         },
         "colorscale": [
          [
           0,
           "#0d0887"
          ],
          [
           0.1111111111111111,
           "#46039f"
          ],
          [
           0.2222222222222222,
           "#7201a8"
          ],
          [
           0.3333333333333333,
           "#9c179e"
          ],
          [
           0.4444444444444444,
           "#bd3786"
          ],
          [
           0.5555555555555556,
           "#d8576b"
          ],
          [
           0.6666666666666666,
           "#ed7953"
          ],
          [
           0.7777777777777778,
           "#fb9f3a"
          ],
          [
           0.8888888888888888,
           "#fdca26"
          ],
          [
           1,
           "#f0f921"
          ]
         ]
        },
        "legend": {
         "tracegroupgap": 0
        },
        "margin": {
         "t": 60
        },
        "template": {
         "data": {
          "bar": [
           {
            "error_x": {
             "color": "#2a3f5f"
            },
            "error_y": {
             "color": "#2a3f5f"
            },
            "marker": {
             "line": {
              "color": "#E5ECF6",
              "width": 0.5
             }
            },
            "type": "bar"
           }
          ],
          "barpolar": [
           {
            "marker": {
             "line": {
              "color": "#E5ECF6",
              "width": 0.5
             }
            },
            "type": "barpolar"
           }
          ],
          "carpet": [
           {
            "aaxis": {
             "endlinecolor": "#2a3f5f",
             "gridcolor": "white",
             "linecolor": "white",
             "minorgridcolor": "white",
             "startlinecolor": "#2a3f5f"
            },
            "baxis": {
             "endlinecolor": "#2a3f5f",
             "gridcolor": "white",
             "linecolor": "white",
             "minorgridcolor": "white",
             "startlinecolor": "#2a3f5f"
            },
            "type": "carpet"
           }
          ],
          "choropleth": [
           {
            "colorbar": {
             "outlinewidth": 0,
             "ticks": ""
            },
            "type": "choropleth"
           }
          ],
          "contour": [
           {
            "colorbar": {
             "outlinewidth": 0,
             "ticks": ""
            },
            "colorscale": [
             [
              0,
              "#0d0887"
             ],
             [
              0.1111111111111111,
              "#46039f"
             ],
             [
              0.2222222222222222,
              "#7201a8"
             ],
             [
              0.3333333333333333,
              "#9c179e"
             ],
             [
              0.4444444444444444,
              "#bd3786"
             ],
             [
              0.5555555555555556,
              "#d8576b"
             ],
             [
              0.6666666666666666,
              "#ed7953"
             ],
             [
              0.7777777777777778,
              "#fb9f3a"
             ],
             [
              0.8888888888888888,
              "#fdca26"
             ],
             [
              1,
              "#f0f921"
             ]
            ],
            "type": "contour"
           }
          ],
          "contourcarpet": [
           {
            "colorbar": {
             "outlinewidth": 0,
             "ticks": ""
            },
            "type": "contourcarpet"
           }
          ],
          "heatmap": [
           {
            "colorbar": {
             "outlinewidth": 0,
             "ticks": ""
            },
            "colorscale": [
             [
              0,
              "#0d0887"
             ],
             [
              0.1111111111111111,
              "#46039f"
             ],
             [
              0.2222222222222222,
              "#7201a8"
             ],
             [
              0.3333333333333333,
              "#9c179e"
             ],
             [
              0.4444444444444444,
              "#bd3786"
             ],
             [
              0.5555555555555556,
              "#d8576b"
             ],
             [
              0.6666666666666666,
              "#ed7953"
             ],
             [
              0.7777777777777778,
              "#fb9f3a"
             ],
             [
              0.8888888888888888,
              "#fdca26"
             ],
             [
              1,
              "#f0f921"
             ]
            ],
            "type": "heatmap"
           }
          ],
          "heatmapgl": [
           {
            "colorbar": {
             "outlinewidth": 0,
             "ticks": ""
            },
            "colorscale": [
             [
              0,
              "#0d0887"
             ],
             [
              0.1111111111111111,
              "#46039f"
             ],
             [
              0.2222222222222222,
              "#7201a8"
             ],
             [
              0.3333333333333333,
              "#9c179e"
             ],
             [
              0.4444444444444444,
              "#bd3786"
             ],
             [
              0.5555555555555556,
              "#d8576b"
             ],
             [
              0.6666666666666666,
              "#ed7953"
             ],
             [
              0.7777777777777778,
              "#fb9f3a"
             ],
             [
              0.8888888888888888,
              "#fdca26"
             ],
             [
              1,
              "#f0f921"
             ]
            ],
            "type": "heatmapgl"
           }
          ],
          "histogram": [
           {
            "marker": {
             "colorbar": {
              "outlinewidth": 0,
              "ticks": ""
             }
            },
            "type": "histogram"
           }
          ],
          "histogram2d": [
           {
            "colorbar": {
             "outlinewidth": 0,
             "ticks": ""
            },
            "colorscale": [
             [
              0,
              "#0d0887"
             ],
             [
              0.1111111111111111,
              "#46039f"
             ],
             [
              0.2222222222222222,
              "#7201a8"
             ],
             [
              0.3333333333333333,
              "#9c179e"
             ],
             [
              0.4444444444444444,
              "#bd3786"
             ],
             [
              0.5555555555555556,
              "#d8576b"
             ],
             [
              0.6666666666666666,
              "#ed7953"
             ],
             [
              0.7777777777777778,
              "#fb9f3a"
             ],
             [
              0.8888888888888888,
              "#fdca26"
             ],
             [
              1,
              "#f0f921"
             ]
            ],
            "type": "histogram2d"
           }
          ],
          "histogram2dcontour": [
           {
            "colorbar": {
             "outlinewidth": 0,
             "ticks": ""
            },
            "colorscale": [
             [
              0,
              "#0d0887"
             ],
             [
              0.1111111111111111,
              "#46039f"
             ],
             [
              0.2222222222222222,
              "#7201a8"
             ],
             [
              0.3333333333333333,
              "#9c179e"
             ],
             [
              0.4444444444444444,
              "#bd3786"
             ],
             [
              0.5555555555555556,
              "#d8576b"
             ],
             [
              0.6666666666666666,
              "#ed7953"
             ],
             [
              0.7777777777777778,
              "#fb9f3a"
             ],
             [
              0.8888888888888888,
              "#fdca26"
             ],
             [
              1,
              "#f0f921"
             ]
            ],
            "type": "histogram2dcontour"
           }
          ],
          "mesh3d": [
           {
            "colorbar": {
             "outlinewidth": 0,
             "ticks": ""
            },
            "type": "mesh3d"
           }
          ],
          "parcoords": [
           {
            "line": {
             "colorbar": {
              "outlinewidth": 0,
              "ticks": ""
             }
            },
            "type": "parcoords"
           }
          ],
          "pie": [
           {
            "automargin": true,
            "type": "pie"
           }
          ],
          "scatter": [
           {
            "marker": {
             "colorbar": {
              "outlinewidth": 0,
              "ticks": ""
             }
            },
            "type": "scatter"
           }
          ],
          "scatter3d": [
           {
            "line": {
             "colorbar": {
              "outlinewidth": 0,
              "ticks": ""
             }
            },
            "marker": {
             "colorbar": {
              "outlinewidth": 0,
              "ticks": ""
             }
            },
            "type": "scatter3d"
           }
          ],
          "scattercarpet": [
           {
            "marker": {
             "colorbar": {
              "outlinewidth": 0,
              "ticks": ""
             }
            },
            "type": "scattercarpet"
           }
          ],
          "scattergeo": [
           {
            "marker": {
             "colorbar": {
              "outlinewidth": 0,
              "ticks": ""
             }
            },
            "type": "scattergeo"
           }
          ],
          "scattergl": [
           {
            "marker": {
             "colorbar": {
              "outlinewidth": 0,
              "ticks": ""
             }
            },
            "type": "scattergl"
           }
          ],
          "scattermapbox": [
           {
            "marker": {
             "colorbar": {
              "outlinewidth": 0,
              "ticks": ""
             }
            },
            "type": "scattermapbox"
           }
          ],
          "scatterpolar": [
           {
            "marker": {
             "colorbar": {
              "outlinewidth": 0,
              "ticks": ""
             }
            },
            "type": "scatterpolar"
           }
          ],
          "scatterpolargl": [
           {
            "marker": {
             "colorbar": {
              "outlinewidth": 0,
              "ticks": ""
             }
            },
            "type": "scatterpolargl"
           }
          ],
          "scatterternary": [
           {
            "marker": {
             "colorbar": {
              "outlinewidth": 0,
              "ticks": ""
             }
            },
            "type": "scatterternary"
           }
          ],
          "surface": [
           {
            "colorbar": {
             "outlinewidth": 0,
             "ticks": ""
            },
            "colorscale": [
             [
              0,
              "#0d0887"
             ],
             [
              0.1111111111111111,
              "#46039f"
             ],
             [
              0.2222222222222222,
              "#7201a8"
             ],
             [
              0.3333333333333333,
              "#9c179e"
             ],
             [
              0.4444444444444444,
              "#bd3786"
             ],
             [
              0.5555555555555556,
              "#d8576b"
             ],
             [
              0.6666666666666666,
              "#ed7953"
             ],
             [
              0.7777777777777778,
              "#fb9f3a"
             ],
             [
              0.8888888888888888,
              "#fdca26"
             ],
             [
              1,
              "#f0f921"
             ]
            ],
            "type": "surface"
           }
          ],
          "table": [
           {
            "cells": {
             "fill": {
              "color": "#EBF0F8"
             },
             "line": {
              "color": "white"
             }
            },
            "header": {
             "fill": {
              "color": "#C8D4E3"
             },
             "line": {
              "color": "white"
             }
            },
            "type": "table"
           }
          ]
         },
         "layout": {
          "annotationdefaults": {
           "arrowcolor": "#2a3f5f",
           "arrowhead": 0,
           "arrowwidth": 1
          },
          "autotypenumbers": "strict",
          "coloraxis": {
           "colorbar": {
            "outlinewidth": 0,
            "ticks": ""
           }
          },
          "colorscale": {
           "diverging": [
            [
             0,
             "#8e0152"
            ],
            [
             0.1,
             "#c51b7d"
            ],
            [
             0.2,
             "#de77ae"
            ],
            [
             0.3,
             "#f1b6da"
            ],
            [
             0.4,
             "#fde0ef"
            ],
            [
             0.5,
             "#f7f7f7"
            ],
            [
             0.6,
             "#e6f5d0"
            ],
            [
             0.7,
             "#b8e186"
            ],
            [
             0.8,
             "#7fbc41"
            ],
            [
             0.9,
             "#4d9221"
            ],
            [
             1,
             "#276419"
            ]
           ],
           "sequential": [
            [
             0,
             "#0d0887"
            ],
            [
             0.1111111111111111,
             "#46039f"
            ],
            [
             0.2222222222222222,
             "#7201a8"
            ],
            [
             0.3333333333333333,
             "#9c179e"
            ],
            [
             0.4444444444444444,
             "#bd3786"
            ],
            [
             0.5555555555555556,
             "#d8576b"
            ],
            [
             0.6666666666666666,
             "#ed7953"
            ],
            [
             0.7777777777777778,
             "#fb9f3a"
            ],
            [
             0.8888888888888888,
             "#fdca26"
            ],
            [
             1,
             "#f0f921"
            ]
           ],
           "sequentialminus": [
            [
             0,
             "#0d0887"
            ],
            [
             0.1111111111111111,
             "#46039f"
            ],
            [
             0.2222222222222222,
             "#7201a8"
            ],
            [
             0.3333333333333333,
             "#9c179e"
            ],
            [
             0.4444444444444444,
             "#bd3786"
            ],
            [
             0.5555555555555556,
             "#d8576b"
            ],
            [
             0.6666666666666666,
             "#ed7953"
            ],
            [
             0.7777777777777778,
             "#fb9f3a"
            ],
            [
             0.8888888888888888,
             "#fdca26"
            ],
            [
             1,
             "#f0f921"
            ]
           ]
          },
          "colorway": [
           "#636efa",
           "#EF553B",
           "#00cc96",
           "#ab63fa",
           "#FFA15A",
           "#19d3f3",
           "#FF6692",
           "#B6E880",
           "#FF97FF",
           "#FECB52"
          ],
          "font": {
           "color": "#2a3f5f"
          },
          "geo": {
           "bgcolor": "white",
           "lakecolor": "white",
           "landcolor": "#E5ECF6",
           "showlakes": true,
           "showland": true,
           "subunitcolor": "white"
          },
          "hoverlabel": {
           "align": "left"
          },
          "hovermode": "closest",
          "mapbox": {
           "style": "light"
          },
          "paper_bgcolor": "white",
          "plot_bgcolor": "#E5ECF6",
          "polar": {
           "angularaxis": {
            "gridcolor": "white",
            "linecolor": "white",
            "ticks": ""
           },
           "bgcolor": "#E5ECF6",
           "radialaxis": {
            "gridcolor": "white",
            "linecolor": "white",
            "ticks": ""
           }
          },
          "scene": {
           "xaxis": {
            "backgroundcolor": "#E5ECF6",
            "gridcolor": "white",
            "gridwidth": 2,
            "linecolor": "white",
            "showbackground": true,
            "ticks": "",
            "zerolinecolor": "white"
           },
           "yaxis": {
            "backgroundcolor": "#E5ECF6",
            "gridcolor": "white",
            "gridwidth": 2,
            "linecolor": "white",
            "showbackground": true,
            "ticks": "",
            "zerolinecolor": "white"
           },
           "zaxis": {
            "backgroundcolor": "#E5ECF6",
            "gridcolor": "white",
            "gridwidth": 2,
            "linecolor": "white",
            "showbackground": true,
            "ticks": "",
            "zerolinecolor": "white"
           }
          },
          "shapedefaults": {
           "line": {
            "color": "#2a3f5f"
           }
          },
          "ternary": {
           "aaxis": {
            "gridcolor": "white",
            "linecolor": "white",
            "ticks": ""
           },
           "baxis": {
            "gridcolor": "white",
            "linecolor": "white",
            "ticks": ""
           },
           "bgcolor": "#E5ECF6",
           "caxis": {
            "gridcolor": "white",
            "linecolor": "white",
            "ticks": ""
           }
          },
          "title": {
           "x": 0.05
          },
          "xaxis": {
           "automargin": true,
           "gridcolor": "white",
           "linecolor": "white",
           "ticks": "",
           "title": {
            "standoff": 15
           },
           "zerolinecolor": "white",
           "zerolinewidth": 2
          },
          "yaxis": {
           "automargin": true,
           "gridcolor": "white",
           "linecolor": "white",
           "ticks": "",
           "title": {
            "standoff": 15
           },
           "zerolinecolor": "white",
           "zerolinewidth": 2
          }
         }
        }
       }
      },
      "text/html": [
       "<div>                            <div id=\"ecfdca18-c0ad-47ed-90e7-b8036a90bb8e\" class=\"plotly-graph-div\" style=\"height:525px; width:100%;\"></div>            <script type=\"text/javascript\">                require([\"plotly\"], function(Plotly) {                    window.PLOTLYENV=window.PLOTLYENV || {};                                    if (document.getElementById(\"ecfdca18-c0ad-47ed-90e7-b8036a90bb8e\")) {                    Plotly.newPlot(                        \"ecfdca18-c0ad-47ed-90e7-b8036a90bb8e\",                        [{\"dimensions\": [{\"label\": \"subreddits\", \"values\": [49558.0, 49558.0, 49558.0, 49558.0]}, {\"label\": \"cluster linkage\", \"values\": [4, 4, 4, 4]}, {\"label\": \"3000 to 3200<br>homogeneity score<br>\", \"values\": [0.2083550950631399, 0.6443054508723303, 0.24250666494335868, 0.6415652919527471]}, {\"label\": \"3000 to 3200<br>adjusted mutual info score<br>\", \"values\": [0.22889514285943433, 0.650072356719098, 0.2675957950500224, 0.6484884800255595]}, {\"label\": \"3000 to 3200<br>adjusted rand score<br>\", \"values\": [0.3751036454028609, 0.7478322510106703, 0.42950933406809677, 0.74829828017451]}, {\"label\": \"3000 to 3200<br>f1 score<br>-weighted avg<br>\", \"values\": [0.36293120230685455, 0.7584200901441419, 0.3862071776705289, 0.7521416771946603]}, {\"label\": \"3900 to 4000<br>homogeneity score<br>\", \"values\": [0.21642949394040054, 0.6539799138252621, 0.24975328586251408, 0.6491918299479127]}, {\"label\": \"3900 to 4000<br>adjusted mutual info score<br>\", \"values\": [0.23464571491847389, 0.6596576666724636, 0.2722454366689149, 0.6564213198143868]}, {\"label\": \"3900 to 4000<br>adjusted rand score<br>\", \"values\": [0.3896209382989643, 0.7559905561589295, 0.440600099034981, 0.7545935562915856]}, {\"label\": \"3900 to 4000<br>f1 score<br>-weighted avg<br>\", \"values\": [0.379292423970984, 0.7671692104308456, 0.40023290323840055, 0.7596991312454519]}], \"domain\": {\"x\": [0.0, 1.0], \"y\": [0.0, 1.0]}, \"line\": {\"color\": [0.379292423970984, 0.7671692104308456, 0.40023290323840055, 0.7596991312454519], \"coloraxis\": \"coloraxis\"}, \"name\": \"\", \"type\": \"parcoords\"}],                        {\"coloraxis\": {\"colorbar\": {\"title\": {\"text\": \"3900 to 4000<br>f1 score<br>-weighted avg<br>\"}}, \"colorscale\": [[0.0, \"#0d0887\"], [0.1111111111111111, \"#46039f\"], [0.2222222222222222, \"#7201a8\"], [0.3333333333333333, \"#9c179e\"], [0.4444444444444444, \"#bd3786\"], [0.5555555555555556, \"#d8576b\"], [0.6666666666666666, \"#ed7953\"], [0.7777777777777778, \"#fb9f3a\"], [0.8888888888888888, \"#fdca26\"], [1.0, \"#f0f921\"]]}, \"legend\": {\"tracegroupgap\": 0}, \"margin\": {\"t\": 60}, \"template\": {\"data\": {\"bar\": [{\"error_x\": {\"color\": \"#2a3f5f\"}, \"error_y\": {\"color\": \"#2a3f5f\"}, \"marker\": {\"line\": {\"color\": \"#E5ECF6\", \"width\": 0.5}}, \"type\": \"bar\"}], \"barpolar\": [{\"marker\": {\"line\": {\"color\": \"#E5ECF6\", \"width\": 0.5}}, \"type\": \"barpolar\"}], \"carpet\": [{\"aaxis\": {\"endlinecolor\": \"#2a3f5f\", \"gridcolor\": \"white\", \"linecolor\": \"white\", \"minorgridcolor\": \"white\", \"startlinecolor\": \"#2a3f5f\"}, \"baxis\": {\"endlinecolor\": \"#2a3f5f\", \"gridcolor\": \"white\", \"linecolor\": \"white\", \"minorgridcolor\": \"white\", \"startlinecolor\": \"#2a3f5f\"}, \"type\": \"carpet\"}], \"choropleth\": [{\"colorbar\": {\"outlinewidth\": 0, \"ticks\": \"\"}, \"type\": \"choropleth\"}], \"contour\": [{\"colorbar\": {\"outlinewidth\": 0, \"ticks\": \"\"}, \"colorscale\": [[0.0, \"#0d0887\"], [0.1111111111111111, \"#46039f\"], [0.2222222222222222, \"#7201a8\"], [0.3333333333333333, \"#9c179e\"], [0.4444444444444444, \"#bd3786\"], [0.5555555555555556, \"#d8576b\"], [0.6666666666666666, \"#ed7953\"], [0.7777777777777778, \"#fb9f3a\"], [0.8888888888888888, \"#fdca26\"], [1.0, \"#f0f921\"]], \"type\": \"contour\"}], \"contourcarpet\": [{\"colorbar\": {\"outlinewidth\": 0, \"ticks\": \"\"}, \"type\": \"contourcarpet\"}], \"heatmap\": [{\"colorbar\": {\"outlinewidth\": 0, \"ticks\": \"\"}, \"colorscale\": [[0.0, \"#0d0887\"], [0.1111111111111111, \"#46039f\"], [0.2222222222222222, \"#7201a8\"], [0.3333333333333333, \"#9c179e\"], [0.4444444444444444, \"#bd3786\"], [0.5555555555555556, \"#d8576b\"], [0.6666666666666666, \"#ed7953\"], [0.7777777777777778, \"#fb9f3a\"], [0.8888888888888888, \"#fdca26\"], [1.0, \"#f0f921\"]], \"type\": \"heatmap\"}], \"heatmapgl\": [{\"colorbar\": {\"outlinewidth\": 0, \"ticks\": \"\"}, \"colorscale\": [[0.0, \"#0d0887\"], [0.1111111111111111, \"#46039f\"], [0.2222222222222222, \"#7201a8\"], [0.3333333333333333, \"#9c179e\"], [0.4444444444444444, \"#bd3786\"], [0.5555555555555556, \"#d8576b\"], [0.6666666666666666, \"#ed7953\"], [0.7777777777777778, \"#fb9f3a\"], [0.8888888888888888, \"#fdca26\"], [1.0, \"#f0f921\"]], \"type\": \"heatmapgl\"}], \"histogram\": [{\"marker\": {\"colorbar\": {\"outlinewidth\": 0, \"ticks\": \"\"}}, \"type\": \"histogram\"}], \"histogram2d\": [{\"colorbar\": {\"outlinewidth\": 0, \"ticks\": \"\"}, \"colorscale\": [[0.0, \"#0d0887\"], [0.1111111111111111, \"#46039f\"], [0.2222222222222222, \"#7201a8\"], [0.3333333333333333, \"#9c179e\"], [0.4444444444444444, \"#bd3786\"], [0.5555555555555556, \"#d8576b\"], [0.6666666666666666, \"#ed7953\"], [0.7777777777777778, \"#fb9f3a\"], [0.8888888888888888, \"#fdca26\"], [1.0, \"#f0f921\"]], \"type\": \"histogram2d\"}], \"histogram2dcontour\": [{\"colorbar\": {\"outlinewidth\": 0, \"ticks\": \"\"}, \"colorscale\": [[0.0, \"#0d0887\"], [0.1111111111111111, \"#46039f\"], [0.2222222222222222, \"#7201a8\"], [0.3333333333333333, \"#9c179e\"], [0.4444444444444444, \"#bd3786\"], [0.5555555555555556, \"#d8576b\"], [0.6666666666666666, \"#ed7953\"], [0.7777777777777778, \"#fb9f3a\"], [0.8888888888888888, \"#fdca26\"], [1.0, \"#f0f921\"]], \"type\": \"histogram2dcontour\"}], \"mesh3d\": [{\"colorbar\": {\"outlinewidth\": 0, \"ticks\": \"\"}, \"type\": \"mesh3d\"}], \"parcoords\": [{\"line\": {\"colorbar\": {\"outlinewidth\": 0, \"ticks\": \"\"}}, \"type\": \"parcoords\"}], \"pie\": [{\"automargin\": true, \"type\": \"pie\"}], \"scatter\": [{\"marker\": {\"colorbar\": {\"outlinewidth\": 0, \"ticks\": \"\"}}, \"type\": \"scatter\"}], \"scatter3d\": [{\"line\": {\"colorbar\": {\"outlinewidth\": 0, \"ticks\": \"\"}}, \"marker\": {\"colorbar\": {\"outlinewidth\": 0, \"ticks\": \"\"}}, \"type\": \"scatter3d\"}], \"scattercarpet\": [{\"marker\": {\"colorbar\": {\"outlinewidth\": 0, \"ticks\": \"\"}}, \"type\": \"scattercarpet\"}], \"scattergeo\": [{\"marker\": {\"colorbar\": {\"outlinewidth\": 0, \"ticks\": \"\"}}, \"type\": \"scattergeo\"}], \"scattergl\": [{\"marker\": {\"colorbar\": {\"outlinewidth\": 0, \"ticks\": \"\"}}, \"type\": \"scattergl\"}], \"scattermapbox\": [{\"marker\": {\"colorbar\": {\"outlinewidth\": 0, \"ticks\": \"\"}}, \"type\": \"scattermapbox\"}], \"scatterpolar\": [{\"marker\": {\"colorbar\": {\"outlinewidth\": 0, \"ticks\": \"\"}}, \"type\": \"scatterpolar\"}], \"scatterpolargl\": [{\"marker\": {\"colorbar\": {\"outlinewidth\": 0, \"ticks\": \"\"}}, \"type\": \"scatterpolargl\"}], \"scatterternary\": [{\"marker\": {\"colorbar\": {\"outlinewidth\": 0, \"ticks\": \"\"}}, \"type\": \"scatterternary\"}], \"surface\": [{\"colorbar\": {\"outlinewidth\": 0, \"ticks\": \"\"}, \"colorscale\": [[0.0, \"#0d0887\"], [0.1111111111111111, \"#46039f\"], [0.2222222222222222, \"#7201a8\"], [0.3333333333333333, \"#9c179e\"], [0.4444444444444444, \"#bd3786\"], [0.5555555555555556, \"#d8576b\"], [0.6666666666666666, \"#ed7953\"], [0.7777777777777778, \"#fb9f3a\"], [0.8888888888888888, \"#fdca26\"], [1.0, \"#f0f921\"]], \"type\": \"surface\"}], \"table\": [{\"cells\": {\"fill\": {\"color\": \"#EBF0F8\"}, \"line\": {\"color\": \"white\"}}, \"header\": {\"fill\": {\"color\": \"#C8D4E3\"}, \"line\": {\"color\": \"white\"}}, \"type\": \"table\"}]}, \"layout\": {\"annotationdefaults\": {\"arrowcolor\": \"#2a3f5f\", \"arrowhead\": 0, \"arrowwidth\": 1}, \"autotypenumbers\": \"strict\", \"coloraxis\": {\"colorbar\": {\"outlinewidth\": 0, \"ticks\": \"\"}}, \"colorscale\": {\"diverging\": [[0, \"#8e0152\"], [0.1, \"#c51b7d\"], [0.2, \"#de77ae\"], [0.3, \"#f1b6da\"], [0.4, \"#fde0ef\"], [0.5, \"#f7f7f7\"], [0.6, \"#e6f5d0\"], [0.7, \"#b8e186\"], [0.8, \"#7fbc41\"], [0.9, \"#4d9221\"], [1, \"#276419\"]], \"sequential\": [[0.0, \"#0d0887\"], [0.1111111111111111, \"#46039f\"], [0.2222222222222222, \"#7201a8\"], [0.3333333333333333, \"#9c179e\"], [0.4444444444444444, \"#bd3786\"], [0.5555555555555556, \"#d8576b\"], [0.6666666666666666, \"#ed7953\"], [0.7777777777777778, \"#fb9f3a\"], [0.8888888888888888, \"#fdca26\"], [1.0, \"#f0f921\"]], \"sequentialminus\": [[0.0, \"#0d0887\"], [0.1111111111111111, \"#46039f\"], [0.2222222222222222, \"#7201a8\"], [0.3333333333333333, \"#9c179e\"], [0.4444444444444444, \"#bd3786\"], [0.5555555555555556, \"#d8576b\"], [0.6666666666666666, \"#ed7953\"], [0.7777777777777778, \"#fb9f3a\"], [0.8888888888888888, \"#fdca26\"], [1.0, \"#f0f921\"]]}, \"colorway\": [\"#636efa\", \"#EF553B\", \"#00cc96\", \"#ab63fa\", \"#FFA15A\", \"#19d3f3\", \"#FF6692\", \"#B6E880\", \"#FF97FF\", \"#FECB52\"], \"font\": {\"color\": \"#2a3f5f\"}, \"geo\": {\"bgcolor\": \"white\", \"lakecolor\": \"white\", \"landcolor\": \"#E5ECF6\", \"showlakes\": true, \"showland\": true, \"subunitcolor\": \"white\"}, \"hoverlabel\": {\"align\": \"left\"}, \"hovermode\": \"closest\", \"mapbox\": {\"style\": \"light\"}, \"paper_bgcolor\": \"white\", \"plot_bgcolor\": \"#E5ECF6\", \"polar\": {\"angularaxis\": {\"gridcolor\": \"white\", \"linecolor\": \"white\", \"ticks\": \"\"}, \"bgcolor\": \"#E5ECF6\", \"radialaxis\": {\"gridcolor\": \"white\", \"linecolor\": \"white\", \"ticks\": \"\"}}, \"scene\": {\"xaxis\": {\"backgroundcolor\": \"#E5ECF6\", \"gridcolor\": \"white\", \"gridwidth\": 2, \"linecolor\": \"white\", \"showbackground\": true, \"ticks\": \"\", \"zerolinecolor\": \"white\"}, \"yaxis\": {\"backgroundcolor\": \"#E5ECF6\", \"gridcolor\": \"white\", \"gridwidth\": 2, \"linecolor\": \"white\", \"showbackground\": true, \"ticks\": \"\", \"zerolinecolor\": \"white\"}, \"zaxis\": {\"backgroundcolor\": \"#E5ECF6\", \"gridcolor\": \"white\", \"gridwidth\": 2, \"linecolor\": \"white\", \"showbackground\": true, \"ticks\": \"\", \"zerolinecolor\": \"white\"}}, \"shapedefaults\": {\"line\": {\"color\": \"#2a3f5f\"}}, \"ternary\": {\"aaxis\": {\"gridcolor\": \"white\", \"linecolor\": \"white\", \"ticks\": \"\"}, \"baxis\": {\"gridcolor\": \"white\", \"linecolor\": \"white\", \"ticks\": \"\"}, \"bgcolor\": \"#E5ECF6\", \"caxis\": {\"gridcolor\": \"white\", \"linecolor\": \"white\", \"ticks\": \"\"}}, \"title\": {\"x\": 0.05}, \"xaxis\": {\"automargin\": true, \"gridcolor\": \"white\", \"linecolor\": \"white\", \"ticks\": \"\", \"title\": {\"standoff\": 15}, \"zerolinecolor\": \"white\", \"zerolinewidth\": 2}, \"yaxis\": {\"automargin\": true, \"gridcolor\": \"white\", \"linecolor\": \"white\", \"ticks\": \"\", \"title\": {\"standoff\": 15}, \"zerolinecolor\": \"white\", \"zerolinewidth\": 2}}}},                        {\"responsive\": true}                    ).then(function(){\n",
       "                            \n",
       "var gd = document.getElementById('ecfdca18-c0ad-47ed-90e7-b8036a90bb8e');\n",
       "var x = new MutationObserver(function (mutations, observer) {{\n",
       "        var display = window.getComputedStyle(gd).display;\n",
       "        if (!display || display === 'none') {{\n",
       "            console.log([gd, 'removed!']);\n",
       "            Plotly.purge(gd);\n",
       "            observer.disconnect();\n",
       "        }}\n",
       "}});\n",
       "\n",
       "// Listen for the removal of the full notebook cells\n",
       "var notebookContainer = gd.closest('#notebook-container');\n",
       "if (notebookContainer) {{\n",
       "    x.observe(notebookContainer, {childList: true});\n",
       "}}\n",
       "\n",
       "// Listen for the clearing of the current output cell\n",
       "var outputEl = gd.closest('.output');\n",
       "if (outputEl) {{\n",
       "    x.observe(outputEl, {childList: true});\n",
       "}}\n",
       "\n",
       "                        })                };                });            </script>        </div>"
      ]
     },
     "metadata": {},
     "output_type": "display_data"
    }
   ],
   "source": [
    "l_cols_plot_raw_ = l_parallel_params + l_parallel_metrics_3k + l_parallel_metrics_4k\n",
    "l_cols_plot_clean_ = [rename_col_for_display(c) for c in l_cols_plot_raw_]\n",
    "df_plot_ = (\n",
    "    df_mlf_clustering_candidates\n",
    "    [df_mlf_clustering_candidates['metrics.filtered_embeddings-n_rows'] >= 49500]\n",
    "    [l_cols_plot_raw_]\n",
    "    .rename(columns={c: rename_col_for_display(c) for c in l_cols_plot_raw_})\n",
    "    .reset_index(drop=True)\n",
    ")\n",
    "print(df_plot_.shape)\n",
    "# remap cluster linkage so it shows up in plot\n",
    "col_linkage_clean = ['cluster linkage']\n",
    "df_plot_[col_linkage_clean] = df_plot_[col_linkage_clean].replace(d_linkage_to_num)\n",
    "print(f\"Linkage names:\\n {d_num_to_linkage}\")\n",
    "\n",
    "\n",
    "fig = px.parallel_coordinates(\n",
    "    df_plot_,\n",
    "    color=l_cols_plot_clean_[-1],\n",
    "    # dimensions=l_cols_plot_clean_,\n",
    "    # labels={},\n",
    "    # color_continuous_scale=px.colors.diverging.Tealrose,\n",
    "    # color_continuous_midpoint=2\n",
    ")\n",
    "fig.show()"
   ]
  },
  {
   "cell_type": "markdown",
   "id": "cf6e14a0",
   "metadata": {},
   "source": [
    "## Create masks to find top runs"
   ]
  },
  {
   "cell_type": "code",
   "execution_count": 94,
   "id": "9c2963a6",
   "metadata": {},
   "outputs": [
    {
     "name": "stdout",
     "output_type": "stream",
     "text": [
      "4\n"
     ]
    }
   ],
   "source": [
    "mask_max_subreddits = (\n",
    "    df_mlf_clustering_candidates['metrics.filtered_embeddings-n_rows'] >= 49400\n",
    ")\n",
    "\n",
    "mask_top_metrics = (\n",
    "    (df_mlf_clustering_candidates['metrics.primary_topic-3000_to_3200-f1_score-weighted_avg'] >= 0.745) &\n",
    "    (df_mlf_clustering_candidates['metrics.primary_topic-3900_to_4000-f1_score-weighted_avg'] >= 0.745) \n",
    ")\n",
    "\n",
    "print((mask_max_subreddits & mask_top_metrics).sum())"
   ]
  },
  {
   "cell_type": "code",
   "execution_count": 95,
   "id": "7ccd387b",
   "metadata": {},
   "outputs": [],
   "source": [
    "l_cols_to_drop = [\n",
    "    'artifact_uri',\n",
    "    'start_time',\n",
    "    'end_time',\n",
    "]\n",
    "\n",
    "l_cols_to_drop = (\n",
    "    l_cols_to_drop + \n",
    "    [c for c in cols_with_multiple_vals if 'metrics.memory_' in c] +\n",
    "    [c for c in cols_with_multiple_vals if 'metrics.model_fit' in c] +\n",
    "    [c for c in cols_with_multiple_vals if 'metrics.optimal_k' in c]\n",
    ")"
   ]
  },
  {
   "cell_type": "code",
   "execution_count": 96,
   "id": "cd685924",
   "metadata": {},
   "outputs": [
    {
     "data": {
      "text/html": [
       "<div>\n",
       "<style scoped>\n",
       "    .dataframe tbody tr th:only-of-type {\n",
       "        vertical-align: middle;\n",
       "    }\n",
       "\n",
       "    .dataframe tbody tr th {\n",
       "        vertical-align: top;\n",
       "    }\n",
       "\n",
       "    .dataframe thead th {\n",
       "        text-align: right;\n",
       "    }\n",
       "</style>\n",
       "<table border=\"1\" class=\"dataframe\">\n",
       "  <thead>\n",
       "    <tr style=\"text-align: right;\">\n",
       "      <th></th>\n",
       "      <th>metrics.filtered_embeddings-n_rows</th>\n",
       "      <th>metrics.primary_topic-0010_to_0020-adjusted_mutual_info_score</th>\n",
       "      <th>metrics.primary_topic-0010_to_0020-adjusted_rand_score</th>\n",
       "      <th>metrics.primary_topic-0010_to_0020-f1_score-macro_avg</th>\n",
       "      <th>metrics.primary_topic-0010_to_0020-f1_score-weighted_avg</th>\n",
       "      <th>metrics.primary_topic-0010_to_0020-homogeneity_score</th>\n",
       "      <th>metrics.primary_topic-0010_to_0020-precision-macro_avg</th>\n",
       "      <th>metrics.primary_topic-0010_to_0020-precision-weighted_avg</th>\n",
       "      <th>metrics.primary_topic-0010_to_0020-recall-macro_avg</th>\n",
       "      <th>metrics.primary_topic-0010_to_0020-recall-weighted_avg</th>\n",
       "      <th>metrics.primary_topic-0020_to_0040-adjusted_mutual_info_score</th>\n",
       "      <th>metrics.primary_topic-0020_to_0040-adjusted_rand_score</th>\n",
       "      <th>metrics.primary_topic-0020_to_0040-f1_score-macro_avg</th>\n",
       "      <th>metrics.primary_topic-0020_to_0040-f1_score-weighted_avg</th>\n",
       "      <th>metrics.primary_topic-0020_to_0040-homogeneity_score</th>\n",
       "      <th>metrics.primary_topic-0020_to_0040-precision-macro_avg</th>\n",
       "      <th>metrics.primary_topic-0020_to_0040-precision-weighted_avg</th>\n",
       "      <th>metrics.primary_topic-0020_to_0040-recall-macro_avg</th>\n",
       "      <th>metrics.primary_topic-0020_to_0040-recall-weighted_avg</th>\n",
       "      <th>metrics.primary_topic-0040_to_0050-adjusted_mutual_info_score</th>\n",
       "      <th>metrics.primary_topic-0040_to_0050-adjusted_rand_score</th>\n",
       "      <th>metrics.primary_topic-0040_to_0050-f1_score-macro_avg</th>\n",
       "      <th>metrics.primary_topic-0040_to_0050-f1_score-weighted_avg</th>\n",
       "      <th>metrics.primary_topic-0040_to_0050-homogeneity_score</th>\n",
       "      <th>metrics.primary_topic-0040_to_0050-precision-macro_avg</th>\n",
       "      <th>metrics.primary_topic-0040_to_0050-precision-weighted_avg</th>\n",
       "      <th>metrics.primary_topic-0040_to_0050-recall-macro_avg</th>\n",
       "      <th>metrics.primary_topic-0040_to_0050-recall-weighted_avg</th>\n",
       "      <th>metrics.primary_topic-0050_to_0060-adjusted_mutual_info_score</th>\n",
       "      <th>metrics.primary_topic-0050_to_0060-adjusted_rand_score</th>\n",
       "      <th>...</th>\n",
       "      <th>metrics.primary_topic-3800_to_3900-homogeneity_score</th>\n",
       "      <th>metrics.primary_topic-3800_to_3900-precision-macro_avg</th>\n",
       "      <th>metrics.primary_topic-3800_to_3900-precision-weighted_avg</th>\n",
       "      <th>metrics.primary_topic-3800_to_3900-recall-macro_avg</th>\n",
       "      <th>metrics.primary_topic-3800_to_3900-recall-weighted_avg</th>\n",
       "      <th>metrics.primary_topic-3900_to_4000-adjusted_mutual_info_score</th>\n",
       "      <th>metrics.primary_topic-3900_to_4000-adjusted_rand_score</th>\n",
       "      <th>metrics.primary_topic-3900_to_4000-f1_score-macro_avg</th>\n",
       "      <th>metrics.primary_topic-3900_to_4000-f1_score-weighted_avg</th>\n",
       "      <th>metrics.primary_topic-3900_to_4000-homogeneity_score</th>\n",
       "      <th>metrics.primary_topic-3900_to_4000-precision-macro_avg</th>\n",
       "      <th>metrics.primary_topic-3900_to_4000-precision-weighted_avg</th>\n",
       "      <th>metrics.primary_topic-3900_to_4000-recall-macro_avg</th>\n",
       "      <th>metrics.primary_topic-3900_to_4000-recall-weighted_avg</th>\n",
       "      <th>metrics.vectorizing_time_minutes</th>\n",
       "      <th>params._pipe-cluster__affinity</th>\n",
       "      <th>params._pipe-cluster__linkage</th>\n",
       "      <th>params._pipe-normalize__copy</th>\n",
       "      <th>params._pipe-normalize__norm</th>\n",
       "      <th>params._pipe-reduce__algorithm</th>\n",
       "      <th>params._pipe-reduce__n_components</th>\n",
       "      <th>params._pipe-reduce__n_iter</th>\n",
       "      <th>params._pipe-reduce__random_state</th>\n",
       "      <th>params._pipe-reduce__tol</th>\n",
       "      <th>params.mlflow_run_name</th>\n",
       "      <th>params.pipe-normalize_name</th>\n",
       "      <th>params.pipe-reduce_name</th>\n",
       "      <th>run_id</th>\n",
       "      <th>tags.mlflow.log-model.history</th>\n",
       "      <th>tags.mlflow.runName</th>\n",
       "    </tr>\n",
       "  </thead>\n",
       "  <tbody>\n",
       "    <tr>\n",
       "      <th>124</th>\n",
       "      <td>49454.0</td>\n",
       "      <td>0.463728</td>\n",
       "      <td>0.524028</td>\n",
       "      <td>0.084401</td>\n",
       "      <td>0.384096</td>\n",
       "      <td>0.382274</td>\n",
       "      <td>0.066782</td>\n",
       "      <td>0.349601</td>\n",
       "      <td>0.140222</td>\n",
       "      <td>0.472178</td>\n",
       "      <td>0.498269</td>\n",
       "      <td>0.548653</td>\n",
       "      <td>0.138183</td>\n",
       "      <td>0.447655</td>\n",
       "      <td>0.426271</td>\n",
       "      <td>0.121542</td>\n",
       "      <td>0.411013</td>\n",
       "      <td>0.193624</td>\n",
       "      <td>0.527187</td>\n",
       "      <td>0.533186</td>\n",
       "      <td>0.592106</td>\n",
       "      <td>0.259093</td>\n",
       "      <td>0.553975</td>\n",
       "      <td>0.485014</td>\n",
       "      <td>0.241849</td>\n",
       "      <td>0.515308</td>\n",
       "      <td>0.295974</td>\n",
       "      <td>0.613359</td>\n",
       "      <td>0.535281</td>\n",
       "      <td>0.593545</td>\n",
       "      <td>...</td>\n",
       "      <td>0.653380</td>\n",
       "      <td>0.687258</td>\n",
       "      <td>0.765764</td>\n",
       "      <td>0.639540</td>\n",
       "      <td>0.774044</td>\n",
       "      <td>0.659902</td>\n",
       "      <td>0.755674</td>\n",
       "      <td>0.653922</td>\n",
       "      <td>0.767376</td>\n",
       "      <td>0.654297</td>\n",
       "      <td>0.687626</td>\n",
       "      <td>0.766735</td>\n",
       "      <td>0.641229</td>\n",
       "      <td>0.774806</td>\n",
       "      <td>14.671037</td>\n",
       "      <td>euclidean</td>\n",
       "      <td>ward</td>\n",
       "      <td>True</td>\n",
       "      <td>l2</td>\n",
       "      <td>None</td>\n",
       "      <td>None</td>\n",
       "      <td>None</td>\n",
       "      <td>None</td>\n",
       "      <td>None</td>\n",
       "      <td>embedding_clustering-2022-01-20_175719</td>\n",
       "      <td>Normalizer</td>\n",
       "      <td>None</td>\n",
       "      <td>249eec63aee440f987a03b2ff2a57dd2</td>\n",
       "      <td>[{\"run_id\": \"249eec63aee440f987a03b2ff2a57dd2\", \"artifact_path\": \"clustering_model\", \"utc_time_created\": \"2022-01-20 18:09:44.811400\", \"flavors\": {\"sklearn\": {\"pickled_model\": \"model.pkl\", \"sklearn_version\": \"0.24.1\", \"serialization_for...</td>\n",
       "      <td>embedding_clustering-2022-01-20_175719</td>\n",
       "    </tr>\n",
       "    <tr>\n",
       "      <th>129</th>\n",
       "      <td>49558.0</td>\n",
       "      <td>0.459938</td>\n",
       "      <td>0.518641</td>\n",
       "      <td>0.085034</td>\n",
       "      <td>0.386845</td>\n",
       "      <td>0.378517</td>\n",
       "      <td>0.068479</td>\n",
       "      <td>0.354222</td>\n",
       "      <td>0.138425</td>\n",
       "      <td>0.468487</td>\n",
       "      <td>0.499691</td>\n",
       "      <td>0.528209</td>\n",
       "      <td>0.174373</td>\n",
       "      <td>0.479838</td>\n",
       "      <td>0.435214</td>\n",
       "      <td>0.161460</td>\n",
       "      <td>0.449619</td>\n",
       "      <td>0.217004</td>\n",
       "      <td>0.548209</td>\n",
       "      <td>0.521521</td>\n",
       "      <td>0.595022</td>\n",
       "      <td>0.227309</td>\n",
       "      <td>0.519748</td>\n",
       "      <td>0.466728</td>\n",
       "      <td>0.204623</td>\n",
       "      <td>0.469250</td>\n",
       "      <td>0.275388</td>\n",
       "      <td>0.596976</td>\n",
       "      <td>0.542495</td>\n",
       "      <td>0.628259</td>\n",
       "      <td>...</td>\n",
       "      <td>0.653202</td>\n",
       "      <td>0.687701</td>\n",
       "      <td>0.765835</td>\n",
       "      <td>0.638555</td>\n",
       "      <td>0.773952</td>\n",
       "      <td>0.659658</td>\n",
       "      <td>0.755991</td>\n",
       "      <td>0.653132</td>\n",
       "      <td>0.767169</td>\n",
       "      <td>0.653980</td>\n",
       "      <td>0.687489</td>\n",
       "      <td>0.766537</td>\n",
       "      <td>0.639955</td>\n",
       "      <td>0.774612</td>\n",
       "      <td>14.813520</td>\n",
       "      <td>euclidean</td>\n",
       "      <td>ward</td>\n",
       "      <td>True</td>\n",
       "      <td>l2</td>\n",
       "      <td>None</td>\n",
       "      <td>None</td>\n",
       "      <td>None</td>\n",
       "      <td>None</td>\n",
       "      <td>None</td>\n",
       "      <td>embedding_clustering-2022-01-20_175718</td>\n",
       "      <td>Normalizer</td>\n",
       "      <td>None</td>\n",
       "      <td>e37b0a2c3af54c588818e7efdde15df5</td>\n",
       "      <td>[{\"run_id\": \"e37b0a2c3af54c588818e7efdde15df5\", \"artifact_path\": \"clustering_model\", \"utc_time_created\": \"2022-01-20 18:09:49.722114\", \"flavors\": {\"sklearn\": {\"pickled_model\": \"model.pkl\", \"sklearn_version\": \"0.24.1\", \"serialization_for...</td>\n",
       "      <td>embedding_clustering-2022-01-20_175718</td>\n",
       "    </tr>\n",
       "    <tr>\n",
       "      <th>128</th>\n",
       "      <td>49454.0</td>\n",
       "      <td>0.495347</td>\n",
       "      <td>0.537901</td>\n",
       "      <td>0.139789</td>\n",
       "      <td>0.450079</td>\n",
       "      <td>0.426794</td>\n",
       "      <td>0.123528</td>\n",
       "      <td>0.425698</td>\n",
       "      <td>0.195383</td>\n",
       "      <td>0.516876</td>\n",
       "      <td>0.530586</td>\n",
       "      <td>0.594201</td>\n",
       "      <td>0.216867</td>\n",
       "      <td>0.518394</td>\n",
       "      <td>0.485101</td>\n",
       "      <td>0.194372</td>\n",
       "      <td>0.491729</td>\n",
       "      <td>0.270760</td>\n",
       "      <td>0.572038</td>\n",
       "      <td>0.539926</td>\n",
       "      <td>0.610377</td>\n",
       "      <td>0.271753</td>\n",
       "      <td>0.562414</td>\n",
       "      <td>0.502969</td>\n",
       "      <td>0.267413</td>\n",
       "      <td>0.548254</td>\n",
       "      <td>0.310701</td>\n",
       "      <td>0.603581</td>\n",
       "      <td>0.544403</td>\n",
       "      <td>0.621975</td>\n",
       "      <td>...</td>\n",
       "      <td>0.647631</td>\n",
       "      <td>0.684776</td>\n",
       "      <td>0.758620</td>\n",
       "      <td>0.624922</td>\n",
       "      <td>0.767263</td>\n",
       "      <td>0.656735</td>\n",
       "      <td>0.754804</td>\n",
       "      <td>0.645281</td>\n",
       "      <td>0.760048</td>\n",
       "      <td>0.649637</td>\n",
       "      <td>0.686169</td>\n",
       "      <td>0.760085</td>\n",
       "      <td>0.627302</td>\n",
       "      <td>0.768686</td>\n",
       "      <td>14.751122</td>\n",
       "      <td>euclidean</td>\n",
       "      <td>ward</td>\n",
       "      <td>None</td>\n",
       "      <td>None</td>\n",
       "      <td>None</td>\n",
       "      <td>None</td>\n",
       "      <td>None</td>\n",
       "      <td>None</td>\n",
       "      <td>None</td>\n",
       "      <td>embedding_clustering-2022-01-20_175718</td>\n",
       "      <td>None</td>\n",
       "      <td>None</td>\n",
       "      <td>7bd3d85f969643648ae90b7d8751dec5</td>\n",
       "      <td>[{\"run_id\": \"7bd3d85f969643648ae90b7d8751dec5\", \"artifact_path\": \"clustering_model\", \"utc_time_created\": \"2022-01-20 18:09:49.082945\", \"flavors\": {\"sklearn\": {\"pickled_model\": \"model.pkl\", \"sklearn_version\": \"0.24.1\", \"serialization_for...</td>\n",
       "      <td>embedding_clustering-2022-01-20_175718</td>\n",
       "    </tr>\n",
       "    <tr>\n",
       "      <th>131</th>\n",
       "      <td>49558.0</td>\n",
       "      <td>0.456939</td>\n",
       "      <td>0.493848</td>\n",
       "      <td>0.085914</td>\n",
       "      <td>0.384920</td>\n",
       "      <td>0.378037</td>\n",
       "      <td>0.068558</td>\n",
       "      <td>0.355521</td>\n",
       "      <td>0.141514</td>\n",
       "      <td>0.464681</td>\n",
       "      <td>0.513513</td>\n",
       "      <td>0.543485</td>\n",
       "      <td>0.183893</td>\n",
       "      <td>0.486359</td>\n",
       "      <td>0.451865</td>\n",
       "      <td>0.158553</td>\n",
       "      <td>0.439374</td>\n",
       "      <td>0.238318</td>\n",
       "      <td>0.565818</td>\n",
       "      <td>0.547702</td>\n",
       "      <td>0.618558</td>\n",
       "      <td>0.267093</td>\n",
       "      <td>0.565110</td>\n",
       "      <td>0.511276</td>\n",
       "      <td>0.253628</td>\n",
       "      <td>0.547228</td>\n",
       "      <td>0.312851</td>\n",
       "      <td>0.608622</td>\n",
       "      <td>0.550847</td>\n",
       "      <td>0.631327</td>\n",
       "      <td>...</td>\n",
       "      <td>0.647762</td>\n",
       "      <td>0.685013</td>\n",
       "      <td>0.758838</td>\n",
       "      <td>0.624935</td>\n",
       "      <td>0.767431</td>\n",
       "      <td>0.656421</td>\n",
       "      <td>0.754594</td>\n",
       "      <td>0.644865</td>\n",
       "      <td>0.759699</td>\n",
       "      <td>0.649192</td>\n",
       "      <td>0.686166</td>\n",
       "      <td>0.759768</td>\n",
       "      <td>0.626625</td>\n",
       "      <td>0.768395</td>\n",
       "      <td>14.809365</td>\n",
       "      <td>euclidean</td>\n",
       "      <td>ward</td>\n",
       "      <td>None</td>\n",
       "      <td>None</td>\n",
       "      <td>None</td>\n",
       "      <td>None</td>\n",
       "      <td>None</td>\n",
       "      <td>None</td>\n",
       "      <td>None</td>\n",
       "      <td>embedding_clustering-2022-01-20_175718</td>\n",
       "      <td>None</td>\n",
       "      <td>None</td>\n",
       "      <td>b1aab026682044cf8c1d25a501be7d49</td>\n",
       "      <td>[{\"run_id\": \"b1aab026682044cf8c1d25a501be7d49\", \"artifact_path\": \"clustering_model\", \"utc_time_created\": \"2022-01-20 18:09:50.812450\", \"flavors\": {\"sklearn\": {\"pickled_model\": \"model.pkl\", \"sklearn_version\": \"0.24.1\", \"serialization_for...</td>\n",
       "      <td>embedding_clustering-2022-01-20_175718</td>\n",
       "    </tr>\n",
       "  </tbody>\n",
       "</table>\n",
       "<p>4 rows × 215 columns</p>\n",
       "</div>"
      ],
      "text/plain": [
       "     metrics.filtered_embeddings-n_rows  metrics.primary_topic-0010_to_0020-adjusted_mutual_info_score  metrics.primary_topic-0010_to_0020-adjusted_rand_score  metrics.primary_topic-0010_to_0020-f1_score-macro_avg  metrics.primary_topic-0010_to_0020-f1_score-weighted_avg  \\\n",
       "124                             49454.0                                                       0.463728                                                0.524028                                               0.084401                                                  0.384096   \n",
       "129                             49558.0                                                       0.459938                                                0.518641                                               0.085034                                                  0.386845   \n",
       "128                             49454.0                                                       0.495347                                                0.537901                                               0.139789                                                  0.450079   \n",
       "131                             49558.0                                                       0.456939                                                0.493848                                               0.085914                                                  0.384920   \n",
       "\n",
       "     metrics.primary_topic-0010_to_0020-homogeneity_score  metrics.primary_topic-0010_to_0020-precision-macro_avg  metrics.primary_topic-0010_to_0020-precision-weighted_avg  metrics.primary_topic-0010_to_0020-recall-macro_avg  metrics.primary_topic-0010_to_0020-recall-weighted_avg  \\\n",
       "124                                              0.382274                                                0.066782                                                   0.349601                                             0.140222                                                0.472178   \n",
       "129                                              0.378517                                                0.068479                                                   0.354222                                             0.138425                                                0.468487   \n",
       "128                                              0.426794                                                0.123528                                                   0.425698                                             0.195383                                                0.516876   \n",
       "131                                              0.378037                                                0.068558                                                   0.355521                                             0.141514                                                0.464681   \n",
       "\n",
       "     metrics.primary_topic-0020_to_0040-adjusted_mutual_info_score  metrics.primary_topic-0020_to_0040-adjusted_rand_score  metrics.primary_topic-0020_to_0040-f1_score-macro_avg  metrics.primary_topic-0020_to_0040-f1_score-weighted_avg  metrics.primary_topic-0020_to_0040-homogeneity_score  \\\n",
       "124                                                       0.498269                                                0.548653                                               0.138183                                                  0.447655                                              0.426271   \n",
       "129                                                       0.499691                                                0.528209                                               0.174373                                                  0.479838                                              0.435214   \n",
       "128                                                       0.530586                                                0.594201                                               0.216867                                                  0.518394                                              0.485101   \n",
       "131                                                       0.513513                                                0.543485                                               0.183893                                                  0.486359                                              0.451865   \n",
       "\n",
       "     metrics.primary_topic-0020_to_0040-precision-macro_avg  metrics.primary_topic-0020_to_0040-precision-weighted_avg  metrics.primary_topic-0020_to_0040-recall-macro_avg  metrics.primary_topic-0020_to_0040-recall-weighted_avg  metrics.primary_topic-0040_to_0050-adjusted_mutual_info_score  \\\n",
       "124                                                0.121542                                                   0.411013                                             0.193624                                                0.527187                                                       0.533186   \n",
       "129                                                0.161460                                                   0.449619                                             0.217004                                                0.548209                                                       0.521521   \n",
       "128                                                0.194372                                                   0.491729                                             0.270760                                                0.572038                                                       0.539926   \n",
       "131                                                0.158553                                                   0.439374                                             0.238318                                                0.565818                                                       0.547702   \n",
       "\n",
       "     metrics.primary_topic-0040_to_0050-adjusted_rand_score  metrics.primary_topic-0040_to_0050-f1_score-macro_avg  metrics.primary_topic-0040_to_0050-f1_score-weighted_avg  metrics.primary_topic-0040_to_0050-homogeneity_score  metrics.primary_topic-0040_to_0050-precision-macro_avg  \\\n",
       "124                                                0.592106                                               0.259093                                                  0.553975                                              0.485014                                                0.241849   \n",
       "129                                                0.595022                                               0.227309                                                  0.519748                                              0.466728                                                0.204623   \n",
       "128                                                0.610377                                               0.271753                                                  0.562414                                              0.502969                                                0.267413   \n",
       "131                                                0.618558                                               0.267093                                                  0.565110                                              0.511276                                                0.253628   \n",
       "\n",
       "     metrics.primary_topic-0040_to_0050-precision-weighted_avg  metrics.primary_topic-0040_to_0050-recall-macro_avg  metrics.primary_topic-0040_to_0050-recall-weighted_avg  metrics.primary_topic-0050_to_0060-adjusted_mutual_info_score  metrics.primary_topic-0050_to_0060-adjusted_rand_score  ...  \\\n",
       "124                                                   0.515308                                             0.295974                                                0.613359                                                       0.535281                                                0.593545  ...   \n",
       "129                                                   0.469250                                             0.275388                                                0.596976                                                       0.542495                                                0.628259  ...   \n",
       "128                                                   0.548254                                             0.310701                                                0.603581                                                       0.544403                                                0.621975  ...   \n",
       "131                                                   0.547228                                             0.312851                                                0.608622                                                       0.550847                                                0.631327  ...   \n",
       "\n",
       "     metrics.primary_topic-3800_to_3900-homogeneity_score  metrics.primary_topic-3800_to_3900-precision-macro_avg  metrics.primary_topic-3800_to_3900-precision-weighted_avg  metrics.primary_topic-3800_to_3900-recall-macro_avg  metrics.primary_topic-3800_to_3900-recall-weighted_avg  \\\n",
       "124                                              0.653380                                                0.687258                                                   0.765764                                             0.639540                                                0.774044   \n",
       "129                                              0.653202                                                0.687701                                                   0.765835                                             0.638555                                                0.773952   \n",
       "128                                              0.647631                                                0.684776                                                   0.758620                                             0.624922                                                0.767263   \n",
       "131                                              0.647762                                                0.685013                                                   0.758838                                             0.624935                                                0.767431   \n",
       "\n",
       "     metrics.primary_topic-3900_to_4000-adjusted_mutual_info_score  metrics.primary_topic-3900_to_4000-adjusted_rand_score  metrics.primary_topic-3900_to_4000-f1_score-macro_avg  metrics.primary_topic-3900_to_4000-f1_score-weighted_avg  metrics.primary_topic-3900_to_4000-homogeneity_score  \\\n",
       "124                                                       0.659902                                                0.755674                                               0.653922                                                  0.767376                                              0.654297   \n",
       "129                                                       0.659658                                                0.755991                                               0.653132                                                  0.767169                                              0.653980   \n",
       "128                                                       0.656735                                                0.754804                                               0.645281                                                  0.760048                                              0.649637   \n",
       "131                                                       0.656421                                                0.754594                                               0.644865                                                  0.759699                                              0.649192   \n",
       "\n",
       "     metrics.primary_topic-3900_to_4000-precision-macro_avg  metrics.primary_topic-3900_to_4000-precision-weighted_avg  metrics.primary_topic-3900_to_4000-recall-macro_avg  metrics.primary_topic-3900_to_4000-recall-weighted_avg  metrics.vectorizing_time_minutes  params._pipe-cluster__affinity  \\\n",
       "124                                                0.687626                                                   0.766735                                             0.641229                                                0.774806                         14.671037                       euclidean   \n",
       "129                                                0.687489                                                   0.766537                                             0.639955                                                0.774612                         14.813520                       euclidean   \n",
       "128                                                0.686169                                                   0.760085                                             0.627302                                                0.768686                         14.751122                       euclidean   \n",
       "131                                                0.686166                                                   0.759768                                             0.626625                                                0.768395                         14.809365                       euclidean   \n",
       "\n",
       "     params._pipe-cluster__linkage  params._pipe-normalize__copy  params._pipe-normalize__norm  params._pipe-reduce__algorithm  params._pipe-reduce__n_components  params._pipe-reduce__n_iter  params._pipe-reduce__random_state  params._pipe-reduce__tol                  params.mlflow_run_name  \\\n",
       "124                           ward                          True                            l2                            None                               None                         None                               None                      None  embedding_clustering-2022-01-20_175719   \n",
       "129                           ward                          True                            l2                            None                               None                         None                               None                      None  embedding_clustering-2022-01-20_175718   \n",
       "128                           ward                          None                          None                            None                               None                         None                               None                      None  embedding_clustering-2022-01-20_175718   \n",
       "131                           ward                          None                          None                            None                               None                         None                               None                      None  embedding_clustering-2022-01-20_175718   \n",
       "\n",
       "     params.pipe-normalize_name  params.pipe-reduce_name                            run_id  \\\n",
       "124                  Normalizer                     None  249eec63aee440f987a03b2ff2a57dd2   \n",
       "129                  Normalizer                     None  e37b0a2c3af54c588818e7efdde15df5   \n",
       "128                        None                     None  7bd3d85f969643648ae90b7d8751dec5   \n",
       "131                        None                     None  b1aab026682044cf8c1d25a501be7d49   \n",
       "\n",
       "                                                                                                                                                                                                                       tags.mlflow.log-model.history                     tags.mlflow.runName  \n",
       "124  [{\"run_id\": \"249eec63aee440f987a03b2ff2a57dd2\", \"artifact_path\": \"clustering_model\", \"utc_time_created\": \"2022-01-20 18:09:44.811400\", \"flavors\": {\"sklearn\": {\"pickled_model\": \"model.pkl\", \"sklearn_version\": \"0.24.1\", \"serialization_for...  embedding_clustering-2022-01-20_175719  \n",
       "129  [{\"run_id\": \"e37b0a2c3af54c588818e7efdde15df5\", \"artifact_path\": \"clustering_model\", \"utc_time_created\": \"2022-01-20 18:09:49.722114\", \"flavors\": {\"sklearn\": {\"pickled_model\": \"model.pkl\", \"sklearn_version\": \"0.24.1\", \"serialization_for...  embedding_clustering-2022-01-20_175718  \n",
       "128  [{\"run_id\": \"7bd3d85f969643648ae90b7d8751dec5\", \"artifact_path\": \"clustering_model\", \"utc_time_created\": \"2022-01-20 18:09:49.082945\", \"flavors\": {\"sklearn\": {\"pickled_model\": \"model.pkl\", \"sklearn_version\": \"0.24.1\", \"serialization_for...  embedding_clustering-2022-01-20_175718  \n",
       "131  [{\"run_id\": \"b1aab026682044cf8c1d25a501be7d49\", \"artifact_path\": \"clustering_model\", \"utc_time_created\": \"2022-01-20 18:09:50.812450\", \"flavors\": {\"sklearn\": {\"pickled_model\": \"model.pkl\", \"sklearn_version\": \"0.24.1\", \"serialization_for...  embedding_clustering-2022-01-20_175718  \n",
       "\n",
       "[4 rows x 215 columns]"
      ]
     },
     "execution_count": 96,
     "metadata": {},
     "output_type": "execute_result"
    }
   ],
   "source": [
    "(\n",
    "    df_mlf_clustering_candidates\n",
    "    [mask_max_subreddits & mask_top_metrics]\n",
    "    .sort_values(by=l_cols_plot_raw_[::-1][:-2], ascending=False)\n",
    "    [sorted(cols_with_multiple_vals)]\n",
    "    .drop(l_cols_to_drop, axis=1)\n",
    ")"
   ]
  },
  {
   "cell_type": "markdown",
   "id": "12724264",
   "metadata": {},
   "source": [
    "## Final notes\n",
    "\n",
    "Even though this run has slightly lower performance, it includes an additional 4 subreddits, so we'll go with it because we want to cover as many subreddits as possible.\n",
    "\n",
    "Selected run UUID:\n",
    "`e37b0a2c3af54c588818e7efdde15df5`\n"
   ]
  },
  {
   "cell_type": "code",
   "execution_count": null,
   "id": "a3d3bf91",
   "metadata": {},
   "outputs": [],
   "source": []
  }
 ],
 "metadata": {
  "environment": {
   "name": "common-cpu.m65",
   "type": "gcloud",
   "uri": "gcr.io/deeplearning-platform-release/base-cpu:m65"
  },
  "kernelspec": {
   "display_name": "Python 3 (ipykernel)",
   "language": "python",
   "name": "python3"
  },
  "language_info": {
   "codemirror_mode": {
    "name": "ipython",
    "version": 3
   },
   "file_extension": ".py",
   "mimetype": "text/x-python",
   "name": "python",
   "nbconvert_exporter": "python",
   "pygments_lexer": "ipython3",
   "version": "3.7.11"
  }
 },
 "nbformat": 4,
 "nbformat_minor": 5
}
