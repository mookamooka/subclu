{
 "cells": [
  {
   "cell_type": "markdown",
   "metadata": {
    "id": "iVZuLSOgZVC8"
   },
   "source": [
    "# Purpose\n",
    "\n",
    "### 2022-03-08 post-snoosweek\n",
    "Visualize the embeddings for the i18n project that includes:\n",
    "- primary language\n",
    "- manually curated cluster names\n",
    "    - high level: ~15 groups\n",
    "    - sub level: ~50 groups(?)\n",
    "- Add rating (short and name)\n",
    "\n",
    "Stretch:\n",
    "- relevant country\n",
    "    - this can be trickier because a sub can be relevant to multiple countries\n"
   ]
  },
  {
   "cell_type": "markdown",
   "metadata": {
    "id": "c2qXnQ5IV9Z7"
   },
   "source": [
    "# Imports & notebook setup"
   ]
  },
  {
   "cell_type": "code",
   "execution_count": 1,
   "metadata": {
    "id": "FmbBk_1pnZtq"
   },
   "outputs": [],
   "source": [
    "%load_ext autoreload\n",
    "%autoreload 2\n",
    "\n",
    "# Register bigquery magic (only needed for laptop/local, not colab)\n",
    "# %load_ext google.cloud.bigquery"
   ]
  },
  {
   "cell_type": "code",
   "execution_count": 2,
   "metadata": {
    "colab": {
     "base_uri": "https://localhost:8080/"
    },
    "id": "SrO13wbPgWFV",
    "outputId": "8b77a3de-a6f4-4c25-b47f-3922bc03fdab"
   },
   "outputs": [],
   "source": [
    "# # colab auth for BigQuery\n",
    "# from google.colab import auth, files, drive\n",
    "# auth.authenticate_user()\n",
    "# print('Authenticated')"
   ]
  },
  {
   "cell_type": "code",
   "execution_count": 3,
   "metadata": {
    "colab": {
     "base_uri": "https://localhost:8080/"
    },
    "id": "NeB4T-r9sRc5",
    "outputId": "14f5c052-7042-460b-ae7d-0adb228542e2"
   },
   "outputs": [],
   "source": [
    "# colab notebook installs (not needed in local/laptop)\n",
    "# !pip install plotly fsspec gcsfs"
   ]
  },
  {
   "cell_type": "markdown",
   "metadata": {
    "heading_collapsed": true,
    "id": "wmEXbiGagokZ"
   },
   "source": [
    "## Install custom library [not needed for local]"
   ]
  },
  {
   "cell_type": "markdown",
   "metadata": {
    "heading_collapsed": true,
    "hidden": true,
    "id": "a2Y4JbSWawcg"
   },
   "source": [
    "### Append google drive path so we can install library from there"
   ]
  },
  {
   "cell_type": "code",
   "execution_count": 4,
   "metadata": {
    "colab": {
     "base_uri": "https://localhost:8080/"
    },
    "hidden": true,
    "id": "rRg2ZhSag0Tl",
    "outputId": "e8ae5807-5fda-4c1b-d3b2-68e6dced91bb"
   },
   "outputs": [],
   "source": [
    "# # Attach google drive & import my python utility functions\n",
    "# # if drive.mount() fails, you can also:\n",
    "# #   MANUALLY CLICK ON \"Mount Drive\"\n",
    "# import sys\n",
    "\n",
    "\n",
    "# g_drive_root = '/content/drive'\n",
    "\n",
    "# try:\n",
    "#     drive.mount(g_drive_root, force_remount=True)\n",
    "#     print('   Authenticated & mounted Google Drive')\n",
    "    \n",
    "# except Exception as e:\n",
    "#     try:\n",
    "#         drive._mount(g_drive_root, force_remount=True)\n",
    "#         print('   Authenticated & mounted Google Drive')\n",
    "#     except Exception as e:\n",
    "#         print(e)\n",
    "#         raise Exception('You might need to manually mount google drive to colab')\n",
    "\n",
    "# l_paths_to_append = [\n",
    "#     f'{g_drive_root}/MyDrive/Colab Notebooks',\n",
    "\n",
    "#     # need to append the path to subclu so that colab can import things properly\n",
    "#     f'{g_drive_root}/MyDrive/Colab Notebooks/subreddit_clustering_i18n'\n",
    "# ]\n",
    "# for path_ in l_paths_to_append:\n",
    "#     if path_ in sys.path:\n",
    "#         sys.path.remove(path_)\n",
    "#     print(f\" Appending path: {path_}\")\n",
    "#     sys.path.append(path_)"
   ]
  },
  {
   "cell_type": "markdown",
   "metadata": {
    "hidden": true,
    "id": "Dbe6b4s1a2Eg"
   },
   "source": [
    "### Install library"
   ]
  },
  {
   "cell_type": "code",
   "execution_count": 5,
   "metadata": {
    "colab": {
     "base_uri": "https://localhost:8080/"
    },
    "hidden": true,
    "id": "7fvxItkqhdPJ",
    "outputId": "03b969d5-301b-41d6-9e7a-5346f60bcb89"
   },
   "outputs": [],
   "source": [
    "# # install subclu & libraries needed to read parquet files from GCS & spreadsheets\n",
    "# #  make sure to use the [colab] `extra` because it includes colab-specific libraries\n",
    "# module_path = f\"{g_drive_root}/MyDrive/Colab Notebooks/subreddit_clustering_i18n/[colab]\"\n",
    "\n",
    "# !pip install -e $\"$module_path\" --quiet"
   ]
  },
  {
   "cell_type": "markdown",
   "metadata": {
    "id": "5Z4XllVxgiXa"
   },
   "source": [
    "## Regular Imports"
   ]
  },
  {
   "cell_type": "code",
   "execution_count": 6,
   "metadata": {
    "id": "9TpWbXh5mzew"
   },
   "outputs": [
    {
     "data": {
      "text/html": [
       "<style>.container { width:98% !important; }</style>"
      ],
      "text/plain": [
       "<IPython.core.display.HTML object>"
      ]
     },
     "metadata": {},
     "output_type": "display_data"
    }
   ],
   "source": [
    "import os\n",
    "from datetime import datetime\n",
    "\n",
    "from google.cloud import bigquery\n",
    "\n",
    "import plotly.express as px\n",
    "import plotly.graph_objects as go\n",
    "import matplotlib.pyplot as plt\n",
    "import pandas as pd\n",
    "import numpy as np\n",
    "import seaborn as sns\n",
    "from matplotlib_venn import venn2_unweighted, venn3_unweighted\n",
    "from tqdm import tqdm\n",
    "\n",
    "# increase cell/notebook display width\n",
    "from IPython.core.display import display, HTML\n",
    "display(HTML(\"<style>.container { width:98% !important; }</style>\"))\n",
    "\n",
    "# auth for google sheets\n",
    "import gspread\n",
    "from oauth2client.client import GoogleCredentials\n",
    "\n",
    "\n",
    "gc = gspread.authorize(GoogleCredentials.get_application_default())\n",
    "\n",
    "# os.environ['GOOGLE_CLOUD_PROJECT'] = 'data-science-prod-218515'\n",
    "os.environ['GOOGLE_CLOUD_PROJECT'] = 'data-prod-165221'"
   ]
  },
  {
   "cell_type": "markdown",
   "metadata": {
    "id": "Zvb0NK8waSE_"
   },
   "source": [
    "## Custom imports"
   ]
  },
  {
   "cell_type": "code",
   "execution_count": 7,
   "metadata": {
    "id": "Cj_y2KtccJ8P"
   },
   "outputs": [
    {
     "name": "stdout",
     "output_type": "stream",
     "text": [
      "python\t\tv 3.7.11\n",
      "===\n",
      "gspread\t\tv: 5.0.0\n",
      "pandas\t\tv: 1.2.4\n",
      "numpy\t\tv: 1.19.5\n"
     ]
    }
   ],
   "source": [
    "# subclu imports\n",
    "import subclu\n",
    "from subclu.utils.eda import (\n",
    "    setup_logging, counts_describe, value_counts_and_pcts,\n",
    "    notebook_display_config, print_lib_versions,\n",
    "    style_df_numeric, reorder_array,\n",
    ")\n",
    "from subclu.models.clustering_utils import (\n",
    "    create_dynamic_clusters,\n",
    "    convert_distance_or_ab_to_list_for_fpr,\n",
    "    reshape_df_to_get_1_cluster_per_row,\n",
    "    get_primary_topic_mix_cols,\n",
    "    create_dynamic_clusters_clean,\n",
    ")\n",
    "\n",
    "from subclu.models.reshape_clusters_v041 import (\n",
    "    keep_only_target_labels,\n",
    "    get_table_for_optimal_dynamic_cluster_params,\n",
    "    get_dynamic_cluster_summary,\n",
    "    flag_mature_clusters_to_exclude_from_qa,\n",
    ")\n",
    "\n",
    "\n",
    "setup_logging()\n",
    "notebook_display_config()\n",
    "print_lib_versions([gspread, pd, np])"
   ]
  },
  {
   "cell_type": "markdown",
   "metadata": {
    "heading_collapsed": true
   },
   "source": [
    "# Test interactive example - Dropdowns\n",
    "\n",
    "Example from:\n",
    "- https://plotly.com/python/dropdowns/"
   ]
  },
  {
   "cell_type": "code",
   "execution_count": 8,
   "metadata": {
    "hidden": true
   },
   "outputs": [],
   "source": [
    "# %%time\n",
    "\n",
    "# # load dataset\n",
    "# df = pd.read_csv(\"https://raw.githubusercontent.com/plotly/datasets/master/volcano.csv\")\n",
    "\n",
    "# # Create figure\n",
    "# fig = go.Figure()\n",
    "\n",
    "# # Add surface trace\n",
    "# fig.add_trace(go.Heatmap(z=df.values.tolist(), colorscale=\"Viridis\"))\n",
    "\n",
    "# # Update plot sizing\n",
    "# fig.update_layout(\n",
    "#     width=800,\n",
    "#     height=900,\n",
    "#     autosize=False,\n",
    "#     margin=dict(t=100, b=0, l=0, r=0),\n",
    "# )\n",
    "\n",
    "# # Update 3D scene options\n",
    "# fig.update_scenes(\n",
    "#     aspectratio=dict(x=1, y=1, z=0.7),\n",
    "#     aspectmode=\"manual\"\n",
    "# )\n",
    "\n",
    "# # Add dropdowns\n",
    "# button_layer_1_height = 1.08\n",
    "# fig.update_layout(\n",
    "#     updatemenus=[\n",
    "#         dict(\n",
    "#             buttons=list([\n",
    "#                 dict(\n",
    "#                     args=[\"colorscale\", \"Viridis\"],\n",
    "#                     label=\"Viridis\",\n",
    "#                     method=\"restyle\"\n",
    "#                 ),\n",
    "#                 dict(\n",
    "#                     args=[\"colorscale\", \"Cividis\"],\n",
    "#                     label=\"Cividis\",\n",
    "#                     method=\"restyle\"\n",
    "#                 ),\n",
    "#                 dict(\n",
    "#                     args=[\"colorscale\", \"Blues\"],\n",
    "#                     label=\"Blues\",\n",
    "#                     method=\"restyle\"\n",
    "#                 ),\n",
    "#                 dict(\n",
    "#                     args=[\"colorscale\", \"Greens\"],\n",
    "#                     label=\"Greens\",\n",
    "#                     method=\"restyle\"\n",
    "#                 ),\n",
    "#             ]),\n",
    "#             direction=\"down\",\n",
    "#             pad={\"r\": 10, \"t\": 10},\n",
    "#             showactive=True,\n",
    "#             x=0.1,\n",
    "#             xanchor=\"left\",\n",
    "#             y=button_layer_1_height,\n",
    "#             yanchor=\"top\"\n",
    "#         ),\n",
    "#         dict(\n",
    "#             buttons=list([\n",
    "#                 dict(\n",
    "#                     args=[\"reversescale\", False],\n",
    "#                     label=\"False\",\n",
    "#                     method=\"restyle\"\n",
    "#                 ),\n",
    "#                 dict(\n",
    "#                     args=[\"reversescale\", True],\n",
    "#                     label=\"True\",\n",
    "#                     method=\"restyle\"\n",
    "#                 )\n",
    "#             ]),\n",
    "#             direction=\"down\",\n",
    "#             pad={\"r\": 10, \"t\": 10},\n",
    "#             showactive=True,\n",
    "#             x=0.37,\n",
    "#             xanchor=\"left\",\n",
    "#             y=button_layer_1_height,\n",
    "#             yanchor=\"top\"\n",
    "#         ),\n",
    "#         dict(\n",
    "#             buttons=list([\n",
    "#                 dict(\n",
    "#                     args=[{\"contours.showlines\": False, \"type\": \"contour\"}],\n",
    "#                     label=\"Hide lines\",\n",
    "#                     method=\"restyle\"\n",
    "#                 ),\n",
    "#                 dict(\n",
    "#                     args=[{\"contours.showlines\": True, \"type\": \"contour\"}],\n",
    "#                     label=\"Show lines\",\n",
    "#                     method=\"restyle\"\n",
    "#                 ),\n",
    "#             ]),\n",
    "#             direction=\"down\",\n",
    "#             pad={\"r\": 10, \"t\": 10},\n",
    "#             showactive=True,\n",
    "#             x=0.58,\n",
    "#             xanchor=\"left\",\n",
    "#             y=button_layer_1_height,\n",
    "#             yanchor=\"top\"\n",
    "#         ),\n",
    "#     ]\n",
    "# )\n",
    "\n",
    "# fig.update_layout(\n",
    "#     annotations=[\n",
    "#         dict(text=\"colorscale\", x=0, xref=\"paper\", y=1.06, yref=\"paper\",\n",
    "#                              align=\"left\", showarrow=False),\n",
    "#         dict(text=\"Reverse<br>Colorscale\", x=0.25, xref=\"paper\", y=1.07,\n",
    "#                              yref=\"paper\", showarrow=False),\n",
    "#         dict(text=\"Lines\", x=0.54, xref=\"paper\", y=1.06, yref=\"paper\",\n",
    "#                              showarrow=False)\n",
    "#     ])\n",
    "\n",
    "# fig.show()"
   ]
  },
  {
   "cell_type": "markdown",
   "metadata": {
    "id": "GGizA0uUsms2"
   },
   "source": [
    "# Load & transform projections from GCS"
   ]
  },
  {
   "cell_type": "markdown",
   "metadata": {
    "heading_collapsed": true
   },
   "source": [
    "## Load"
   ]
  },
  {
   "cell_type": "code",
   "execution_count": 9,
   "metadata": {
    "colab": {
     "base_uri": "https://localhost:8080/"
    },
    "hidden": true,
    "id": "mn5EHhjqsmBu",
    "outputId": "51ac4268-ad9a-4feb-a2d5-cdd3df68f44d"
   },
   "outputs": [
    {
     "name": "stdout",
     "output_type": "stream",
     "text": [
      "(49558, 186)\n",
      "CPU times: user 1.38 s, sys: 535 ms, total: 1.92 s\n",
      "Wall time: 7.79 s\n"
     ]
    }
   ],
   "source": [
    "%%time\n",
    "\n",
    "df_tsne_and_meta = pd.read_parquet(\n",
    "    'gs://i18n-subreddit-clustering/data/models/clustering/manual_v041_2022-03-02_21_09/manual_v041_2022-03-02_21_09/'\n",
    "    'df_emb_svd2_meta-49558_by_186.parquet'\n",
    ")\n",
    "print(df_tsne_and_meta.shape)"
   ]
  },
  {
   "cell_type": "code",
   "execution_count": 10,
   "metadata": {
    "colab": {
     "base_uri": "https://localhost:8080/",
     "height": 206
    },
    "hidden": true,
    "id": "G9fDq7P3sl_G",
    "outputId": "b66238d1-9e7e-421d-8a8a-dd736a517a6a"
   },
   "outputs": [
    {
     "data": {
      "text/html": [
       "<div>\n",
       "<style scoped>\n",
       "    .dataframe tbody tr th:only-of-type {\n",
       "        vertical-align: middle;\n",
       "    }\n",
       "\n",
       "    .dataframe tbody tr th {\n",
       "        vertical-align: top;\n",
       "    }\n",
       "\n",
       "    .dataframe thead th {\n",
       "        text-align: right;\n",
       "    }\n",
       "</style>\n",
       "<table border=\"1\" class=\"dataframe\">\n",
       "  <thead>\n",
       "    <tr style=\"text-align: right;\">\n",
       "      <th></th>\n",
       "      <th>subreddit_name</th>\n",
       "      <th>subreddit_id</th>\n",
       "      <th>tsne_0</th>\n",
       "      <th>tsne_1</th>\n",
       "      <th>pt_date</th>\n",
       "      <th>geo_relevant_subreddit_all</th>\n",
       "      <th>geo_relevant_countries_all</th>\n",
       "      <th>ambassador_or_default_any</th>\n",
       "    </tr>\n",
       "  </thead>\n",
       "  <tbody>\n",
       "    <tr>\n",
       "      <th>0</th>\n",
       "      <td>0hthaatsjaay</td>\n",
       "      <td>t5_46wt4h</td>\n",
       "      <td>14.944990</td>\n",
       "      <td>2.259010</td>\n",
       "      <td>2021-12-14</td>\n",
       "      <td>None</td>\n",
       "      <td>None</td>\n",
       "      <td>None</td>\n",
       "    </tr>\n",
       "    <tr>\n",
       "      <th>1</th>\n",
       "      <td>0nlyfantastic0</td>\n",
       "      <td>t5_4byrct</td>\n",
       "      <td>14.796744</td>\n",
       "      <td>0.838811</td>\n",
       "      <td>2021-12-14</td>\n",
       "      <td>True</td>\n",
       "      <td>Spain</td>\n",
       "      <td>False</td>\n",
       "    </tr>\n",
       "    <tr>\n",
       "      <th>2</th>\n",
       "      <td>0nlyleaks</td>\n",
       "      <td>t5_36f9u6</td>\n",
       "      <td>16.551882</td>\n",
       "      <td>3.293167</td>\n",
       "      <td>2021-12-14</td>\n",
       "      <td>True</td>\n",
       "      <td>France</td>\n",
       "      <td>False</td>\n",
       "    </tr>\n",
       "    <tr>\n",
       "      <th>3</th>\n",
       "      <td>0sanitymemes</td>\n",
       "      <td>t5_2qlzfy</td>\n",
       "      <td>0.434304</td>\n",
       "      <td>1.306796</td>\n",
       "      <td>2021-12-14</td>\n",
       "      <td>None</td>\n",
       "      <td>None</td>\n",
       "      <td>None</td>\n",
       "    </tr>\n",
       "    <tr>\n",
       "      <th>4</th>\n",
       "      <td>0xpolygon</td>\n",
       "      <td>t5_2qgijx</td>\n",
       "      <td>-18.975726</td>\n",
       "      <td>-0.046309</td>\n",
       "      <td>2021-12-14</td>\n",
       "      <td>None</td>\n",
       "      <td>None</td>\n",
       "      <td>None</td>\n",
       "    </tr>\n",
       "  </tbody>\n",
       "</table>\n",
       "</div>"
      ],
      "text/plain": [
       "   subreddit_name subreddit_id     tsne_0    tsne_1     pt_date geo_relevant_subreddit_all geo_relevant_countries_all ambassador_or_default_any\n",
       "0    0hthaatsjaay    t5_46wt4h  14.944990  2.259010  2021-12-14                       None                       None                      None\n",
       "1  0nlyfantastic0    t5_4byrct  14.796744  0.838811  2021-12-14                       True                      Spain                     False\n",
       "2       0nlyleaks    t5_36f9u6  16.551882  3.293167  2021-12-14                       True                     France                     False\n",
       "3    0sanitymemes    t5_2qlzfy   0.434304  1.306796  2021-12-14                       None                       None                      None\n",
       "4       0xpolygon    t5_2qgijx -18.975726 -0.046309  2021-12-14                       None                       None                      None"
      ]
     },
     "execution_count": 10,
     "metadata": {},
     "output_type": "execute_result"
    }
   ],
   "source": [
    "df_tsne_and_meta.iloc[:5, :8]"
   ]
  },
  {
   "cell_type": "markdown",
   "metadata": {
    "id": "ag_cQXY73UJY"
   },
   "source": [
    "## Create multiple cluster seed columns\n",
    "Create multiple ones so that it's easier to change the number of subreddit names we see by changing a column name"
   ]
  },
  {
   "cell_type": "code",
   "execution_count": 74,
   "metadata": {
    "colab": {
     "base_uri": "https://localhost:8080/"
    },
    "id": "tjbOJD6A3sU-",
    "outputId": "c2059c18-a3c9-4958-fe18-3f8ee7fa0e47"
   },
   "outputs": [
    {
     "data": {
      "text/plain": [
       "['k_0320_label',\n",
       " 'k_0400_label',\n",
       " 'k_0500_label',\n",
       " 'k_0600_label',\n",
       " 'k_0657_label',\n",
       " 'k_0700_label',\n",
       " 'k_0800_label',\n",
       " 'k_0900_label',\n",
       " 'k_0958_label',\n",
       " 'k_1000_label',\n",
       " 'k_1065_label',\n",
       " 'k_1250_label',\n",
       " 'k_1500_label',\n",
       " 'k_1560_label',\n",
       " 'k_1750_label',\n",
       " 'k_1840_label',\n",
       " 'k_2000_label',\n",
       " 'k_2207_label',\n",
       " 'k_2250_label',\n",
       " 'k_2351_label',\n",
       " 'k_2500_label',\n",
       " 'k_2750_label',\n",
       " 'k_2830_label',\n",
       " 'k_3000_label',\n",
       " 'k_3145_label',\n",
       " 'k_3200_label',\n",
       " 'k_3400_label',\n",
       " 'k_3411_label',\n",
       " 'k_3600_label',\n",
       " 'k_3706_label',\n",
       " 'k_3800_label',\n",
       " 'k_3864_label',\n",
       " 'k_3927_label',\n",
       " 'k_4000_label']"
      ]
     },
     "execution_count": 74,
     "metadata": {},
     "output_type": "execute_result"
    }
   ],
   "source": [
    "[c for c in df_tsne_and_meta.columns if c.endswith('_label')][-34:]"
   ]
  },
  {
   "cell_type": "code",
   "execution_count": 13,
   "metadata": {
    "colab": {
     "base_uri": "https://localhost:8080/"
    },
    "id": "8QQPDG25sl81",
    "outputId": "867f52ad-6fd3-4316-f7d6-d8c8935ac8dc"
   },
   "outputs": [
    {
     "name": "stderr",
     "output_type": "stream",
     "text": [
      "/Users/david.bermejo/repos/subreddit_clustering_i18n/.venv/lib/python3.7/site-packages/ipykernel_launcher.py:19: UserWarning: Boolean Series key will be reindexed to match DataFrame index.\n"
     ]
    }
   ],
   "source": [
    "mask_ukraine_or_russia_ = (\n",
    "    (df_tsne_and_meta['subreddit_name'] == 'russia') |\n",
    "    df_tsne_and_meta['subreddit_name'].str.contains('ukraine')  # |\n",
    "    # df_tsne_and_meta['subreddit_name'].str.contains('eldenrin')\n",
    ")\n",
    "\n",
    "for k_label in [c for c in df_tsne_and_meta.columns if c.endswith('_label')]:\n",
    "    col_new_seed_names_ = f\"subreddit_name_seeds_{k_label.replace('_label', '')}\"\n",
    "    # this pandas version is different from the version I have on my laptop\n",
    "    mask_top_sub_names_ = ~(\n",
    "        df_tsne_and_meta\n",
    "        .sort_values(by=['users_l28'], ascending=False)\n",
    "        .duplicated(subset=[k_label], keep='first')\n",
    "    )\n",
    "    # we might get a name for nulls (subs that were not in the final output b/c of too few posts)\n",
    "    df_tsne_and_meta[col_new_seed_names_] = ''\n",
    "    df_tsne_and_meta.loc[\n",
    "        mask_top_sub_names_, col_new_seed_names_\n",
    "    ] = df_tsne_and_meta[mask_top_sub_names_]['subreddit_name']\n",
    "\n",
    "    # fill ukraine\n",
    "    df_tsne_and_meta.loc[\n",
    "        mask_ukraine_or_russia_, col_new_seed_names_\n",
    "    ] = df_tsne_and_meta[mask_ukraine_or_russia_]['subreddit_name']\n",
    "    \n",
    "\n",
    "del mask_top_sub_names_, col_new_seed_names_"
   ]
  },
  {
   "cell_type": "code",
   "execution_count": 15,
   "metadata": {
    "id": "2GxVsC0V71wd"
   },
   "outputs": [],
   "source": [
    "# (\n",
    "#     df_tsne_and_meta\n",
    "#     .sort_values(by=['users_l28'], ascending=True)\n",
    "#     .duplicated(subset=['k_0023_label'], keep='last')\n",
    "# )"
   ]
  },
  {
   "cell_type": "code",
   "execution_count": 16,
   "metadata": {
    "id": "LVtvO7VL6aKK"
   },
   "outputs": [],
   "source": [
    "# (\n",
    "#     df_tsne_and_meta[\n",
    "#         ~(\n",
    "#             df_tsne_and_meta\n",
    "#             .sort_values(by=['users_l28'], ascending=False)\n",
    "#             .duplicated(subset=['k_0023_label'], keep='first')\n",
    "#         )\n",
    "#     ]\n",
    "#     [['subreddit_name', 'tsne_0', 'tsne_1', 'posts_l28', 'users_l28']]\n",
    "# )"
   ]
  },
  {
   "cell_type": "code",
   "execution_count": 17,
   "metadata": {
    "id": "hVvbB32zMrxV"
   },
   "outputs": [],
   "source": [
    "# df_tsne_and_meta[\n",
    "#     df_tsne_and_meta['subreddit_name_seeds_k_0013'] != ''\n",
    "# ][['subreddit_name', 'tsne_0', 'tsne_1', 'posts_l28', 'users_l28']]"
   ]
  },
  {
   "cell_type": "markdown",
   "metadata": {},
   "source": [
    "## Create columns to highlight DE & India subreddits\n",
    "want to color by this column to show whether a sub is relevant to these countries"
   ]
  },
  {
   "cell_type": "code",
   "execution_count": 20,
   "metadata": {},
   "outputs": [],
   "source": [
    "# df_tsne_and_meta.head()"
   ]
  },
  {
   "cell_type": "code",
   "execution_count": 21,
   "metadata": {
    "id": "wT9xDGeZ5uK_"
   },
   "outputs": [
    {
     "data": {
      "text/plain": [
       "India                                         1712\n",
       "Canada, India                                   22\n",
       "India, United Kingdom                           14\n",
       "Australia, India                                 8\n",
       "Australia, India, United Kingdom                 5\n",
       "Germany, India                                   4\n",
       "India, Mexico                                    2\n",
       "Canada, India, Spain                             1\n",
       "India, Trinidad and Tobago, United Kingdom       1\n",
       "India, Spain                                     1\n",
       "Canada, India, United Kingdom                    1\n",
       "Brazil, Germany, India                           1\n",
       "Australia, India, Peru                           1\n",
       "France, India                                    1\n",
       "Name: geo_relevant_countries_all, dtype: int64"
      ]
     },
     "execution_count": 21,
     "metadata": {},
     "output_type": "execute_result"
    }
   ],
   "source": [
    "mask_india_ = (\n",
    "    (df_tsne_and_meta['geo_relevant_countries_all'].fillna('').str.contains('India'))  #  Germany|India |\n",
    "#     df_tsne_and_meta['subreddit_name'].str.contains('ukraine') |\n",
    "#     df_tsne_and_meta['subreddit_name'].str.contains('eldenring')\n",
    ")\n",
    "df_tsne_and_meta[mask_india_]['geo_relevant_countries_all'].value_counts()"
   ]
  },
  {
   "cell_type": "code",
   "execution_count": 49,
   "metadata": {},
   "outputs": [],
   "source": [
    "# col_country_india_relevant_ = 'geo_relevant_india'\n",
    "# val_not_india = 'None/Other'\n",
    "# df_tsne_and_meta[col_country_india_relevant_] = np.where(\n",
    "#     mask_india_,\n",
    "#     df_tsne_and_meta['geo_relevant_countries_all'],\n",
    "#     val_not_india,\n",
    "# )\n",
    "# df_tsne_and_meta[col_country_india_relevant_].value_counts()"
   ]
  },
  {
   "cell_type": "markdown",
   "metadata": {},
   "source": [
    "### Create seeds that also include india relevant subs"
   ]
  },
  {
   "cell_type": "code",
   "execution_count": 23,
   "metadata": {},
   "outputs": [],
   "source": [
    "\n",
    "for k_label in [c for c in df_tsne_and_meta.columns if c.endswith('_label')]:\n",
    "    col_new_seed_names_ = f\"subreddit_name_seeds_india_{k_label.replace('_label', '')}\"\n",
    "    # this pandas version is different from the version I have on my laptop\n",
    "    mask_top_sub_names_ = ~(\n",
    "        df_tsne_and_meta\n",
    "        .sort_values(by=['users_l28'], ascending=False)\n",
    "        .duplicated(subset=[k_label], keep='first')\n",
    "    )\n",
    "    sub_names_top_subs_india = (\n",
    "        df_tsne_and_meta[mask_india_]\n",
    "        .sort_values(by=['users_l28'], ascending=False)\n",
    "        .drop_duplicates(subset=[k_label], keep='first')\n",
    "        ['subreddit_name']\n",
    "    )\n",
    "    \n",
    "    # we might get a name for nulls (subs that were not in the final output b/c of too few posts)\n",
    "    df_tsne_and_meta[col_new_seed_names_] = ''\n",
    "    df_tsne_and_meta.loc[\n",
    "        mask_top_sub_names_ | (df_tsne_and_meta['subreddit_name'].isin(sub_names_top_subs_india))\n",
    "        , col_new_seed_names_\n",
    "    ] = df_tsne_and_meta[\n",
    "        mask_top_sub_names_ | (df_tsne_and_meta['subreddit_name'].isin(sub_names_top_subs_india))\n",
    "    ]['subreddit_name']\n",
    "\n",
    "\n",
    "del mask_top_sub_names_, col_new_seed_names_"
   ]
  },
  {
   "cell_type": "code",
   "execution_count": 45,
   "metadata": {},
   "outputs": [],
   "source": [
    "# [c for c in df_tsne_and_meta.columns if 'india' in c][-25:]"
   ]
  },
  {
   "cell_type": "code",
   "execution_count": 25,
   "metadata": {},
   "outputs": [],
   "source": [
    "# df_tsne_and_meta['subreddit_name_seeds_india_k_0050'].value_counts()"
   ]
  },
  {
   "cell_type": "code",
   "execution_count": 26,
   "metadata": {},
   "outputs": [],
   "source": [
    "# df_tsne_and_meta['subreddit_name_seeds_k_0050'].value_counts()"
   ]
  },
  {
   "cell_type": "markdown",
   "metadata": {
    "id": "F9X6lzia2OOg"
   },
   "source": [
    "# Static plots"
   ]
  },
  {
   "cell_type": "markdown",
   "metadata": {},
   "source": [
    "## high level plot"
   ]
  },
  {
   "cell_type": "code",
   "execution_count": 71,
   "metadata": {
    "colab": {
     "base_uri": "https://localhost:8080/",
     "height": 667
    },
    "id": "S1MhyyJ5sl4Q",
    "outputId": "d76b4326-9999-410e-960e-e5ecbd79df2d"
   },
   "outputs": [],
   "source": [
    "# k_clusters_to_plot_ = 'k_0030_label'\n",
    "# col_sub_names_cluster_seeds = 'subreddit_name_seeds_k_0090'\n",
    "\n",
    "# df_plot_ = (\n",
    "#     df_tsne_and_meta\n",
    "#     .sort_values(by=k_clusters_to_plot_, ascending=True)\n",
    "# )\n",
    "\n",
    "# l_custom_text_ = [\n",
    "#     'subreddit_name',\n",
    "#     k_clusters_to_plot_,\n",
    "# ]\n",
    "# fig = px.scatter(\n",
    "#     data_frame=df_plot_,\n",
    "#     x='tsne_0',\n",
    "#     y='tsne_1',\n",
    "#     color=df_plot_[k_clusters_to_plot_].map(lambda x: f\"{x:02,.0f}\"),\n",
    "#     opacity=0.6,\n",
    "#     size_max=11,\n",
    "#     size=(df_plot_['users_l28'] / 1e6) + np.log(10 + df_plot_['users_l28']),\n",
    "#     # hover_name='subreddit_name',\n",
    "#     # hover_data=[k_clusters_to_plot_],\n",
    "#     # text='subreddit_name',  # using full text is uselss because you can't read any of them\n",
    "#     text=col_sub_names_cluster_seeds,\n",
    "#     custom_data=l_custom_text_,\n",
    "# )\n",
    "# sub_hovertemplate = \"<br>\".join(\n",
    "#     [\n",
    "#         \"<b>%{customdata[0]}</b>\",\n",
    "#         \"cluster ID:%{customdata[1]}\"\n",
    "#     ]\n",
    "# )\n",
    "# fig.update_layout(\n",
    "#     width=1200,\n",
    "#     height=650,\n",
    "#     autosize=False,\n",
    "#     yaxis=dict(showgrid=False, zeroline=False,),\n",
    "#     xaxis=dict(showgrid=False, zeroline=False),\n",
    "#     plot_bgcolor='#040404',  # dark-gray: '#1a1a1a' '#fcfcfc'\n",
    "# )\n",
    "# fig.update_traces(\n",
    "#     hovertemplate=sub_hovertemplate,\n",
    "#     marker=dict(\n",
    "#         # size=(df_tsne_and_meta['users_l28'] / 1e6) + np.log(10 + df_tsne_and_meta['users_l28']),  # np.log(1000 + df_tsne_and_meta['users_l28']),\n",
    "#         # sizeref is weird, can't get it to behave as expected, so log is good enough for now\n",
    "#         sizemin=.5,\n",
    "#         line=dict(\n",
    "#             width=0,\n",
    "#         ),\n",
    "#     ),\n",
    "#     textfont=dict(\n",
    "#         color='#fcfcfc',  # '#fcfcfc' '#1a1a1a'\n",
    "#         size=14,\n",
    "#         # bgcolor='#ababab',\n",
    "#         # opacity=0.2,\n",
    "#     ),\n",
    "# )\n",
    "\n",
    "# fig.show(\n",
    "#     # renderer='png',\n",
    "#     width=1100,\n",
    "#     height=650,\n",
    "# )"
   ]
  },
  {
   "cell_type": "markdown",
   "metadata": {
    "id": "22D-bXMPjIQ7"
   },
   "source": [
    "## Plot with more subreddit seed names"
   ]
  },
  {
   "cell_type": "code",
   "execution_count": 80,
   "metadata": {
    "colab": {
     "base_uri": "https://localhost:8080/",
     "height": 667
    },
    "id": "3gTkxGPTQVte",
    "outputId": "2e2f7bb2-4b90-4d81-9e81-270a4bcb7ea1",
    "scrolled": false
   },
   "outputs": [],
   "source": [
    "# k_clusters_to_plot_ = 'k_0090_label'\n",
    "# col_sub_names_cluster_seeds = 'subreddit_name_seeds_k_0500'  # subreddit_name_seeds_india_k_0500\n",
    "\n",
    "# df_plot_ = (\n",
    "#     df_tsne_and_meta\n",
    "#     .sort_values(by=k_clusters_to_plot_, ascending=True)\n",
    "# )\n",
    "\n",
    "# l_custom_text_ = [\n",
    "#     'subreddit_name',\n",
    "#     k_clusters_to_plot_,\n",
    "# ]\n",
    "# fig = px.scatter(\n",
    "#     data_frame=df_plot_,\n",
    "#     x='tsne_0',\n",
    "#     y='tsne_1',\n",
    "#     color=df_plot_[k_clusters_to_plot_].map(lambda x: f\"{x:02,.0f}\"),\n",
    "#     opacity=0.6,\n",
    "#     size_max=11,\n",
    "#     size=(df_plot_['users_l28'] / 1e6) + np.log(10 + df_plot_['users_l28']),\n",
    "#     # hover_name='subreddit_name',\n",
    "#     # hover_data=[k_clusters_to_plot_],\n",
    "#     # text='subreddit_name',  # using full text is uselss because you can't read any of them\n",
    "#     text=col_sub_names_cluster_seeds,\n",
    "#     custom_data=l_custom_text_,\n",
    "# )\n",
    "# fig.update_layout(\n",
    "#     width=1200,\n",
    "#     height=650,\n",
    "#     autosize=False,\n",
    "#     yaxis=dict(showgrid=False, zeroline=False,),\n",
    "#     xaxis=dict(showgrid=False, zeroline=False),\n",
    "#     plot_bgcolor='#040404',  # dark-gray: '#1a1a1a' '#fcfcfc'\n",
    "# )\n",
    "# fig.update_traces(\n",
    "#     hovertemplate=sub_hovertemplate,\n",
    "#     marker=dict(\n",
    "#         size=(df_plot_['users_l28'] / 1e6) + np.log(10 + df_plot_['users_l28']),  # np.log(1000 + df_tsne_and_meta['users_l28']),\n",
    "#         # sizeref is weird, can't get it to behave as expected, so log is good enough for now\n",
    "#         sizemin=.5,\n",
    "#         # sizeref=(2 * max(np.log(df_tsne_and_meta['users_l28'])) / (5 ** 2)),\n",
    "#         line=dict(\n",
    "#             width=0,\n",
    "#         ),\n",
    "#     ),\n",
    "#     textfont=dict(\n",
    "#         color='#fcfcfc',  # '#fcfcfc' '#1a1a1a'\n",
    "#         size=14,\n",
    "#         # bgcolor='#ababab',\n",
    "#         # opacity=0.2,\n",
    "#     ),\n",
    "# )\n",
    "\n",
    "# fig.show(\n",
    "#     # renderer='png',\n",
    "#     width=1200,\n",
    "#     height=650,\n",
    "# )"
   ]
  },
  {
   "cell_type": "markdown",
   "metadata": {},
   "source": [
    "## Plot India subreddits\n",
    "\n",
    "Try color & shape"
   ]
  },
  {
   "cell_type": "markdown",
   "metadata": {
    "heading_collapsed": true
   },
   "source": [
    "### India high level"
   ]
  },
  {
   "cell_type": "code",
   "execution_count": 29,
   "metadata": {
    "code_folding": [
     35
    ],
    "hidden": true
   },
   "outputs": [],
   "source": [
    "\n",
    "# col_sub_names_cluster_seeds = 'subreddit_name_seeds_india_k_0050'\n",
    "\n",
    "# l_custom_text_ = [\n",
    "#     'subreddit_name',\n",
    "#     'users_l28',\n",
    "# ]\n",
    "# sub_hovertemplate = \"<br>\".join(\n",
    "#     [\n",
    "#         \"<b>%{customdata[0]}</b>\",\n",
    "#         \"Users L28:%{customdata[1]}\"\n",
    "#     ]\n",
    "# )\n",
    "# fig = px.scatter(\n",
    "#     data_frame=df_tsne_and_meta,\n",
    "#     x='tsne_0',\n",
    "#     y='tsne_1',\n",
    "#     color=col_country_india_relevant_,\n",
    "#     opacity=0.6,\n",
    "#     size_max=11,\n",
    "#     size=(df_tsne_and_meta['users_l28'] / 1e6) + np.log(10 + df_tsne_and_meta['users_l28']),\n",
    "#     # hover_name='subreddit_name',\n",
    "#     # hover_data=[k_clusters_to_plot_],\n",
    "#     # text='subreddit_name',  # using full text is uselss because you can't read any of them\n",
    "#     text=col_sub_names_cluster_seeds,\n",
    "#     custom_data=l_custom_text_,\n",
    "# )\n",
    "\n",
    "# fig.update_layout(\n",
    "#     width=1600,\n",
    "#     height=850,\n",
    "#     autosize=False,\n",
    "#     yaxis=dict(showgrid=False, zeroline=False,),\n",
    "#     xaxis=dict(showgrid=False, zeroline=False),\n",
    "#     plot_bgcolor='#040404',  # dark-gray: '#1a1a1a' '#fcfcfc'\n",
    "# )\n",
    "# fig.update_traces(\n",
    "#     hovertemplate=sub_hovertemplate,\n",
    "#     marker=dict(\n",
    "#         # size=(df_tsne_and_meta['users_l28'] / 1e6) + np.log(10 + df_tsne_and_meta['users_l28']),  # np.log(1000 + df_tsne_and_meta['users_l28']),\n",
    "#         # sizeref is weird, can't get it to behave as expected, so log is good enough for now\n",
    "#         sizemin=.5,\n",
    "#         line=dict(\n",
    "#             width=0,\n",
    "#         ),\n",
    "#     ),\n",
    "#     textfont=dict(\n",
    "#         color='#fcfcfc',  # '#fcfcfc' '#1a1a1a'\n",
    "#         size=14,\n",
    "#         # bgcolor='#ababab',\n",
    "#         # opacity=0.2,\n",
    "#     ),\n",
    "# )\n",
    "\n",
    "# fig.show(\n",
    "#     # renderer='png',\n",
    "# )"
   ]
  },
  {
   "cell_type": "markdown",
   "metadata": {},
   "source": [
    "### India detailed"
   ]
  },
  {
   "cell_type": "code",
   "execution_count": 37,
   "metadata": {},
   "outputs": [],
   "source": [
    "# k_clusters_to_plot_ = 'k_0050_label'\n",
    "# col_sub_names_cluster_seeds = 'subreddit_name_seeds_india_k_0500'\n",
    "\n",
    "# l_custom_text_ = [\n",
    "#     'subreddit_name',\n",
    "#     'users_l28',\n",
    "# ]\n",
    "# sub_hovertemplate = \"<br>\".join(\n",
    "#     [\n",
    "#         \"<b>%{customdata[0]}</b>\",\n",
    "#         \"Users L28: %{customdata[1]:,.0f}\"\n",
    "#     ]\n",
    "# )\n",
    "# fig = px.scatter(\n",
    "#     data_frame=df_tsne_and_meta,\n",
    "#     x='tsne_0',\n",
    "#     y='tsne_1',\n",
    "#     color=col_country_india_relevant_,\n",
    "#     opacity=0.6,\n",
    "#     size_max=11,\n",
    "#     size=(df_tsne_and_meta['users_l28'] / 1e6) + np.log(10 + df_tsne_and_meta['users_l28']),\n",
    "#     # hover_name='subreddit_name',\n",
    "#     # hover_data=[k_clusters_to_plot_],\n",
    "#     # text='subreddit_name',  # using full text is uselss because you can't read any of them\n",
    "#     text=col_sub_names_cluster_seeds,\n",
    "#     custom_data=l_custom_text_,\n",
    "# )\n",
    "\n",
    "# fig.update_layout(\n",
    "#     width=1600,\n",
    "#     height=850,\n",
    "#     autosize=False,\n",
    "#     yaxis=dict(showgrid=False, zeroline=False,),\n",
    "#     xaxis=dict(showgrid=False, zeroline=False),\n",
    "#     plot_bgcolor='#040404',  # dark-gray: '#1a1a1a' '#fcfcfc'\n",
    "# )\n",
    "# fig.update_traces(\n",
    "#     hovertemplate=sub_hovertemplate,\n",
    "#     marker=dict(\n",
    "#         # size=(df_tsne_and_meta['users_l28'] / 1e6) + np.log(10 + df_tsne_and_meta['users_l28']),  # np.log(1000 + df_tsne_and_meta['users_l28']),\n",
    "#         # sizeref is weird, can't get it to behave as expected, so log is good enough for now\n",
    "#         sizemin=.5,\n",
    "#         line=dict(\n",
    "#             width=0,\n",
    "#         ),\n",
    "#     ),\n",
    "#     textfont=dict(\n",
    "#         color='#fcfcfc',  # '#fcfcfc' '#1a1a1a'\n",
    "#         size=16,\n",
    "#         # bgcolor='#ababab',\n",
    "#         # opacity=0.2,\n",
    "#     ),\n",
    "# )\n",
    "\n",
    "# fig.show(\n",
    "#     # renderer='png',\n",
    "# #     width=1200,\n",
    "# #     height=750,\n",
    "# )"
   ]
  },
  {
   "cell_type": "markdown",
   "metadata": {
    "id": "4uK-r_oT8KDP"
   },
   "source": [
    "# Interactive plot\n",
    "\n",
    "It might not actually work unless I use dash?\n",
    "- https://community.plotly.com/t/restyle-color-in-plotly-express/47835/7"
   ]
  },
  {
   "cell_type": "code",
   "execution_count": 31,
   "metadata": {
    "code_folding": [
     43,
     97
    ]
   },
   "outputs": [],
   "source": [
    "# # define base columns to plot\n",
    "# k_clusters_to_plot_ = 'k_0050_label'\n",
    "# col_sub_names_cluster_seeds = 'subreddit_name_seeds_k_0050'\n",
    "# df_plot_ = df_tsne_and_meta.sample(n=1000)\n",
    "\n",
    "# # Create figure\n",
    "# # fig = go.Figure()\n",
    "\n",
    "\n",
    "# # Add scatter trace\n",
    "# l_custom_text_ = [\n",
    "#     'subreddit_name',\n",
    "#     k_clusters_to_plot_,\n",
    "# ]\n",
    "# fig = px.scatter(\n",
    "#     data_frame=df_plot_,\n",
    "#     x='tsne_0',\n",
    "#     y='tsne_1',\n",
    "#     # color=k_clusters_to_plot_,\n",
    "#     opacity=0.6,\n",
    "#     size_max=11,\n",
    "#     size=(df_plot_['users_l28'] / 1e6) + np.log(10 + df_plot_['users_l28']),\n",
    "#     # hover_name='subreddit_name',\n",
    "#     # hover_data=[k_clusters_to_plot_],\n",
    "#     # text='subreddit_name',  # using full text is uselss because you can't read any of them\n",
    "#     text=col_sub_names_cluster_seeds,\n",
    "#     custom_data=l_custom_text_,\n",
    "# )\n",
    "\n",
    "# sub_hovertemplate = \"<br>\".join(\n",
    "#     [\n",
    "#         \"<b>%{customdata[0]}</b>\",\n",
    "#         \"cluster ID:%{customdata[1]}\"\n",
    "#     ]\n",
    "# )\n",
    "# # fig.update_layout(\n",
    "# #     width=1200,\n",
    "# #     height=650,\n",
    "# #     autosize=False,\n",
    "# #     yaxis=dict(showgrid=False, zeroline=False,),\n",
    "# #     xaxis=dict(showgrid=False, zeroline=False),\n",
    "# #     plot_bgcolor='#040404',  # dark-gray: '#1a1a1a' '#fcfcfc'\n",
    "# # )\n",
    "# fig.update_traces(\n",
    "#     hovertemplate=sub_hovertemplate,\n",
    "#     marker=dict(\n",
    "#         # size=(df_tsne_and_meta['users_l28'] / 1e6) + np.log(10 + df_tsne_and_meta['users_l28']),  # np.log(1000 + df_tsne_and_meta['users_l28']),\n",
    "#         # sizeref is weird, can't get it to behave as expected, so log is good enough for now\n",
    "#         sizemin=.5,\n",
    "#         line=dict(\n",
    "#             width=0,\n",
    "#         ),\n",
    "#     ),\n",
    "#     textfont=dict(\n",
    "#         color='#fcfcfc',  # '#fcfcfc' '#1a1a1a'\n",
    "#         size=14,\n",
    "#         # bgcolor='#ababab',\n",
    "#         # opacity=0.2,\n",
    "#     ),\n",
    "# )\n",
    "\n",
    "\n",
    "# # Add dropdowns\n",
    "# button_layer_1_height = 1.08\n",
    "# fig.update_layout(\n",
    "#     updatemenus=[\n",
    "#         dict(\n",
    "#             buttons=list([\n",
    "#                 dict(\n",
    "#                     args=[{\"color\": \"k_0010_label\"}],\n",
    "#                     label=\"10 clusters\",\n",
    "#                     method=\"restyle\"\n",
    "#                 ),\n",
    "#                 dict(\n",
    "#                     args=[{\"color\": df_tsne_and_meta[col_country_india_relevant_].to_list()}],\n",
    "#                     label=\"India Relevant\",\n",
    "#                     method=\"restyle\"\n",
    "#                 ),\n",
    "#                 dict(\n",
    "#                     args=[{\"color\": \"k_0060_label\"}],\n",
    "#                     label=\"60 clusters\",\n",
    "#                     method=\"relayout\"\n",
    "#                 ),\n",
    "#                 dict(\n",
    "#                     args=[{\"color\": \"k_0100_label\"}],\n",
    "#                     label=\"100 clusters\",\n",
    "#                     method=\"restyle\"\n",
    "#                 ),\n",
    "#             ]),\n",
    "#             direction=\"down\",\n",
    "#             pad={\"r\": 10, \"t\": 10},\n",
    "#             showactive=True,\n",
    "#             x=0.1,\n",
    "#             xanchor=\"left\",\n",
    "#             y=button_layer_1_height,\n",
    "#             yanchor=\"top\"\n",
    "#         ),\n",
    "# #         dict(\n",
    "# #             buttons=list([\n",
    "# #                 dict(\n",
    "# #                     args=[{\"contours.showlines\": False, \"type\": \"contour\"}],\n",
    "# #                     label=\"Hide lines\",\n",
    "# #                     method=\"restyle\"\n",
    "# #                 ),\n",
    "# #                 dict(\n",
    "# #                     args=[{\"contours.showlines\": True, \"type\": \"contour\"}],\n",
    "# #                     label=\"Show lines\",\n",
    "# #                     method=\"restyle\"\n",
    "# #                 ),\n",
    "# #             ]),\n",
    "# #             direction=\"down\",\n",
    "# #             pad={\"r\": 10, \"t\": 10},\n",
    "# #             showactive=True,\n",
    "# #             x=0.58,\n",
    "# #             xanchor=\"left\",\n",
    "# #             y=button_layer_1_height,\n",
    "# #             yanchor=\"top\"\n",
    "# #         ),\n",
    "#     ]\n",
    "# )\n",
    "# fig.update_layout(\n",
    "#     annotations=[\n",
    "#         dict(text=\"Color by:\", x=0, xref=\"paper\", y=1.06, yref=\"paper\",\n",
    "#                              align=\"left\", showarrow=False),\n",
    "# #         dict(text=\"Reverse<br>Colorscale\", x=0.25, xref=\"paper\", y=1.07,\n",
    "# #                              yref=\"paper\", showarrow=False),\n",
    "# #         dict(text=\"Lines\", x=0.54, xref=\"paper\", y=1.06, yref=\"paper\",\n",
    "# #                              showarrow=False)\n",
    "#     ]\n",
    "# )\n",
    "\n",
    "# fig.show(\n",
    "#     # renderer='png',\n",
    "#     width=1100,\n",
    "#     height=650,\n",
    "# )"
   ]
  },
  {
   "cell_type": "code",
   "execution_count": null,
   "metadata": {},
   "outputs": [],
   "source": []
  }
 ],
 "metadata": {
  "colab": {
   "collapsed_sections": [
    "wmEXbiGagokZ",
    "a2Y4JbSWawcg",
    "Dbe6b4s1a2Eg",
    "Zvb0NK8waSE_"
   ],
   "name": "djb-visualize_clusters-1.0-model_v0.4.1_plotly.ipynb",
   "provenance": []
  },
  "kernelspec": {
   "display_name": "Python 3 (ipykernel)",
   "language": "python",
   "name": "python3"
  },
  "language_info": {
   "codemirror_mode": {
    "name": "ipython",
    "version": 3
   },
   "file_extension": ".py",
   "mimetype": "text/x-python",
   "name": "python",
   "nbconvert_exporter": "python",
   "pygments_lexer": "ipython3",
   "version": "3.7.11"
  }
 },
 "nbformat": 4,
 "nbformat_minor": 1
}
