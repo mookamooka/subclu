{
 "cells": [
  {
   "cell_type": "markdown",
   "id": "4d7a72ca",
   "metadata": {},
   "source": [
    "# Purpose\n",
    "\n",
    "2021-10-15: Use this notebook to test & check logs for running new clustering script. Use this as a way to document different options for running the script with hydra.\n",
    "\n",
    "Focus:\n",
    "- clustering algos at **subreddit-level.**\n"
   ]
  },
  {
   "cell_type": "markdown",
   "id": "917707ee",
   "metadata": {},
   "source": [
    "# Imports & Setup"
   ]
  },
  {
   "cell_type": "code",
   "execution_count": 1,
   "id": "fca45eee",
   "metadata": {},
   "outputs": [],
   "source": [
    "%load_ext autoreload\n",
    "%autoreload 2"
   ]
  },
  {
   "cell_type": "code",
   "execution_count": 2,
   "id": "ef8af4e8",
   "metadata": {},
   "outputs": [
    {
     "name": "stdout",
     "output_type": "stream",
     "text": [
      "python\t\tv 3.7.10\n",
      "===\n",
      "hydra\t\tv: 1.1.0\n",
      "numpy\t\tv: 1.19.5\n",
      "pandas\t\tv: 1.2.4\n",
      "plotly\t\tv: 4.14.3\n",
      "sklearn\t\tv: 0.24.1\n",
      "seaborn\t\tv: 0.11.1\n",
      "subclu\t\tv: 0.4.0\n"
     ]
    }
   ],
   "source": [
    "from datetime import datetime\n",
    "import logging\n",
    "import os\n",
    "from pathlib import Path\n",
    "\n",
    "import numpy as np\n",
    "import pandas as pd\n",
    "import plotly\n",
    "import seaborn as sns\n",
    "\n",
    "import mlflow\n",
    "import hydra\n",
    "\n",
    "import subclu\n",
    "from subclu.eda.aggregates import compare_raw_v_weighted_language\n",
    "from subclu.utils import set_working_directory, get_project_subfolder\n",
    "from subclu.utils.eda import (\n",
    "    setup_logging, counts_describe, value_counts_and_pcts,\n",
    "    notebook_display_config, print_lib_versions,\n",
    "    style_df_numeric, reorder_array,\n",
    ")\n",
    "from subclu.utils.mlflow_logger import MlflowLogger\n",
    "from subclu.utils.hydra_config_loader import LoadHydraConfig\n",
    "from subclu.utils.data_irl_style import (\n",
    "    get_colormap, theme_dirl, \n",
    "    get_color_dict, base_colors_for_manual_labels,\n",
    "    check_colors_used,\n",
    ")\n",
    "from subclu.data.data_loaders import LoadPosts, LoadSubreddits, create_sub_level_aggregates\n",
    "\n",
    "\n",
    "# ===\n",
    "# imports specific to this notebook\n",
    "from collections import Counter\n",
    "# import umap\n",
    "# import openTSNE\n",
    "# from openTSNE import TSNE\n",
    "\n",
    "# import hdbscan\n",
    "\n",
    "import sklearn\n",
    "from sklearn.decomposition import TruncatedSVD\n",
    "from sklearn.metrics.pairwise import cosine_similarity\n",
    "from sklearn.preprocessing import normalize  # if we normalize the data, euclidean distance is approx of cosine\n",
    "\n",
    "from sklearn.cluster import KMeans, DBSCAN, OPTICS, AgglomerativeClustering\n",
    "\n",
    "print_lib_versions([hydra, np, pd, plotly, sklearn, sns, subclu])"
   ]
  },
  {
   "cell_type": "code",
   "execution_count": 3,
   "id": "61a104fd",
   "metadata": {},
   "outputs": [],
   "source": [
    "# plotting\n",
    "import matplotlib.pyplot as plt\n",
    "import matplotlib.ticker as mtick\n",
    "import matplotlib.dates as mdates\n",
    "plt.style.use('default')\n",
    "\n",
    "setup_logging()\n",
    "notebook_display_config()"
   ]
  },
  {
   "cell_type": "markdown",
   "id": "e3841714",
   "metadata": {},
   "source": [
    "# Set sqlite database as MLflow URI"
   ]
  },
  {
   "cell_type": "code",
   "execution_count": 4,
   "id": "5d5a30f2",
   "metadata": {},
   "outputs": [
    {
     "data": {
      "text/plain": [
       "'sqlite:////home/jupyter/subreddit_clustering_i18n/mlflow_sync/djb-100-2021-04-28-djb-eda-german-subs/mlruns.db'"
      ]
     },
     "execution_count": 4,
     "metadata": {},
     "output_type": "execute_result"
    }
   ],
   "source": [
    "# use new class to initialize mlflow\n",
    "mlf = MlflowLogger(tracking_uri='sqlite')\n",
    "mlflow.get_tracking_uri()"
   ]
  },
  {
   "cell_type": "markdown",
   "id": "9f7a5001",
   "metadata": {},
   "source": [
    "## Get list of experiments with new function"
   ]
  },
  {
   "cell_type": "code",
   "execution_count": 5,
   "id": "ff303312",
   "metadata": {},
   "outputs": [
    {
     "data": {
      "text/html": [
       "<div>\n",
       "<style scoped>\n",
       "    .dataframe tbody tr th:only-of-type {\n",
       "        vertical-align: middle;\n",
       "    }\n",
       "\n",
       "    .dataframe tbody tr th {\n",
       "        vertical-align: top;\n",
       "    }\n",
       "\n",
       "    .dataframe thead th {\n",
       "        text-align: right;\n",
       "    }\n",
       "</style>\n",
       "<table border=\"1\" class=\"dataframe\">\n",
       "  <thead>\n",
       "    <tr style=\"text-align: right;\">\n",
       "      <th></th>\n",
       "      <th>experiment_id</th>\n",
       "      <th>name</th>\n",
       "      <th>artifact_location</th>\n",
       "      <th>lifecycle_stage</th>\n",
       "    </tr>\n",
       "  </thead>\n",
       "  <tbody>\n",
       "    <tr>\n",
       "      <th>0</th>\n",
       "      <td>0</td>\n",
       "      <td>Default</td>\n",
       "      <td>./mlruns/0</td>\n",
       "      <td>active</td>\n",
       "    </tr>\n",
       "    <tr>\n",
       "      <th>1</th>\n",
       "      <td>1</td>\n",
       "      <td>fse_v1</td>\n",
       "      <td>gs://i18n-subreddit-clustering/mlflow/mlruns/1</td>\n",
       "      <td>active</td>\n",
       "    </tr>\n",
       "    <tr>\n",
       "      <th>2</th>\n",
       "      <td>2</td>\n",
       "      <td>fse_vectorize_v1</td>\n",
       "      <td>gs://i18n-subreddit-clustering/mlflow/mlruns/2</td>\n",
       "      <td>active</td>\n",
       "    </tr>\n",
       "    <tr>\n",
       "      <th>3</th>\n",
       "      <td>3</td>\n",
       "      <td>subreddit_description_v1</td>\n",
       "      <td>gs://i18n-subreddit-clustering/mlflow/mlruns/3</td>\n",
       "      <td>active</td>\n",
       "    </tr>\n",
       "    <tr>\n",
       "      <th>4</th>\n",
       "      <td>4</td>\n",
       "      <td>fse_vectorize_v1.1</td>\n",
       "      <td>gs://i18n-subreddit-clustering/mlflow/mlruns/4</td>\n",
       "      <td>active</td>\n",
       "    </tr>\n",
       "    <tr>\n",
       "      <th>5</th>\n",
       "      <td>5</td>\n",
       "      <td>use_multilingual_v0.1_test</td>\n",
       "      <td>gs://i18n-subreddit-clustering/mlflow/mlruns/5</td>\n",
       "      <td>active</td>\n",
       "    </tr>\n",
       "    <tr>\n",
       "      <th>6</th>\n",
       "      <td>6</td>\n",
       "      <td>use_multilingual_v1</td>\n",
       "      <td>gs://i18n-subreddit-clustering/mlflow/mlruns/6</td>\n",
       "      <td>active</td>\n",
       "    </tr>\n",
       "    <tr>\n",
       "      <th>7</th>\n",
       "      <td>7</td>\n",
       "      <td>use_multilingual_v1_aggregates_test</td>\n",
       "      <td>gs://i18n-subreddit-clustering/mlflow/mlruns/7</td>\n",
       "      <td>active</td>\n",
       "    </tr>\n",
       "    <tr>\n",
       "      <th>8</th>\n",
       "      <td>8</td>\n",
       "      <td>use_multilingual_v1_aggregates</td>\n",
       "      <td>gs://i18n-subreddit-clustering/mlflow/mlruns/8</td>\n",
       "      <td>active</td>\n",
       "    </tr>\n",
       "    <tr>\n",
       "      <th>9</th>\n",
       "      <td>9</td>\n",
       "      <td>v0.3.2_use_multi_inference_test</td>\n",
       "      <td>gs://i18n-subreddit-clustering/mlflow/mlruns/9</td>\n",
       "      <td>active</td>\n",
       "    </tr>\n",
       "    <tr>\n",
       "      <th>10</th>\n",
       "      <td>10</td>\n",
       "      <td>v0.3.2_use_multi_inference</td>\n",
       "      <td>gs://i18n-subreddit-clustering/mlflow/mlruns/10</td>\n",
       "      <td>active</td>\n",
       "    </tr>\n",
       "    <tr>\n",
       "      <th>11</th>\n",
       "      <td>11</td>\n",
       "      <td>v0.3.2_use_multi_aggregates_test</td>\n",
       "      <td>gs://i18n-subreddit-clustering/mlflow/mlruns/11</td>\n",
       "      <td>active</td>\n",
       "    </tr>\n",
       "    <tr>\n",
       "      <th>12</th>\n",
       "      <td>12</td>\n",
       "      <td>v0.3.2_use_multi_aggregates</td>\n",
       "      <td>gs://i18n-subreddit-clustering/mlflow/mlruns/12</td>\n",
       "      <td>active</td>\n",
       "    </tr>\n",
       "    <tr>\n",
       "      <th>13</th>\n",
       "      <td>13</td>\n",
       "      <td>v0.4.0_use_multi_inference_test</td>\n",
       "      <td>gs://i18n-subreddit-clustering/mlflow/mlruns/13</td>\n",
       "      <td>active</td>\n",
       "    </tr>\n",
       "    <tr>\n",
       "      <th>14</th>\n",
       "      <td>14</td>\n",
       "      <td>v0.4.0_use_multi_inference</td>\n",
       "      <td>gs://i18n-subreddit-clustering/mlflow/mlruns/14</td>\n",
       "      <td>active</td>\n",
       "    </tr>\n",
       "    <tr>\n",
       "      <th>15</th>\n",
       "      <td>15</td>\n",
       "      <td>v0.4.0_use_multi_aggregates_test</td>\n",
       "      <td>gs://i18n-subreddit-clustering/mlflow/mlruns/15</td>\n",
       "      <td>active</td>\n",
       "    </tr>\n",
       "    <tr>\n",
       "      <th>16</th>\n",
       "      <td>16</td>\n",
       "      <td>v0.4.0_use_multi_aggregates</td>\n",
       "      <td>gs://i18n-subreddit-clustering/mlflow/mlruns/16</td>\n",
       "      <td>active</td>\n",
       "    </tr>\n",
       "    <tr>\n",
       "      <th>17</th>\n",
       "      <td>17</td>\n",
       "      <td>v0.4.0_use_multi_clustering_test</td>\n",
       "      <td>gs://i18n-subreddit-clustering/mlflow/mlruns/17</td>\n",
       "      <td>active</td>\n",
       "    </tr>\n",
       "    <tr>\n",
       "      <th>18</th>\n",
       "      <td>18</td>\n",
       "      <td>v0.4.0_use_multi_clustering</td>\n",
       "      <td>gs://i18n-subreddit-clustering/mlflow/mlruns/18</td>\n",
       "      <td>active</td>\n",
       "    </tr>\n",
       "  </tbody>\n",
       "</table>\n",
       "</div>"
      ],
      "text/plain": [
       "   experiment_id                                 name                                artifact_location lifecycle_stage\n",
       "0              0                              Default                                       ./mlruns/0          active\n",
       "1              1                               fse_v1   gs://i18n-subreddit-clustering/mlflow/mlruns/1          active\n",
       "2              2                     fse_vectorize_v1   gs://i18n-subreddit-clustering/mlflow/mlruns/2          active\n",
       "3              3             subreddit_description_v1   gs://i18n-subreddit-clustering/mlflow/mlruns/3          active\n",
       "4              4                   fse_vectorize_v1.1   gs://i18n-subreddit-clustering/mlflow/mlruns/4          active\n",
       "5              5           use_multilingual_v0.1_test   gs://i18n-subreddit-clustering/mlflow/mlruns/5          active\n",
       "6              6                  use_multilingual_v1   gs://i18n-subreddit-clustering/mlflow/mlruns/6          active\n",
       "7              7  use_multilingual_v1_aggregates_test   gs://i18n-subreddit-clustering/mlflow/mlruns/7          active\n",
       "8              8       use_multilingual_v1_aggregates   gs://i18n-subreddit-clustering/mlflow/mlruns/8          active\n",
       "9              9      v0.3.2_use_multi_inference_test   gs://i18n-subreddit-clustering/mlflow/mlruns/9          active\n",
       "10            10           v0.3.2_use_multi_inference  gs://i18n-subreddit-clustering/mlflow/mlruns/10          active\n",
       "11            11     v0.3.2_use_multi_aggregates_test  gs://i18n-subreddit-clustering/mlflow/mlruns/11          active\n",
       "12            12          v0.3.2_use_multi_aggregates  gs://i18n-subreddit-clustering/mlflow/mlruns/12          active\n",
       "13            13      v0.4.0_use_multi_inference_test  gs://i18n-subreddit-clustering/mlflow/mlruns/13          active\n",
       "14            14           v0.4.0_use_multi_inference  gs://i18n-subreddit-clustering/mlflow/mlruns/14          active\n",
       "15            15     v0.4.0_use_multi_aggregates_test  gs://i18n-subreddit-clustering/mlflow/mlruns/15          active\n",
       "16            16          v0.4.0_use_multi_aggregates  gs://i18n-subreddit-clustering/mlflow/mlruns/16          active\n",
       "17            17     v0.4.0_use_multi_clustering_test  gs://i18n-subreddit-clustering/mlflow/mlruns/17          active\n",
       "18            18          v0.4.0_use_multi_clustering  gs://i18n-subreddit-clustering/mlflow/mlruns/18          active"
      ]
     },
     "execution_count": 5,
     "metadata": {},
     "output_type": "execute_result"
    }
   ],
   "source": [
    "mlf.list_experiment_meta(output_format='pandas')"
   ]
  },
  {
   "cell_type": "markdown",
   "id": "755dbb7e",
   "metadata": {},
   "source": [
    "## Get experiment IDs to use for clustering\n",
    "\n",
    "There are two runs that completed and they both have the same parameters, so we should be able to use either one. For now, let's select:<br>\n",
    "`0591fdae9b7d4da7ae3839767b8aab66`"
   ]
  },
  {
   "cell_type": "code",
   "execution_count": 6,
   "id": "ef9bced4",
   "metadata": {},
   "outputs": [
    {
     "name": "stdout",
     "output_type": "stream",
     "text": [
      "CPU times: user 49.6 ms, sys: 13.7 ms, total: 63.2 ms\n",
      "Wall time: 62.4 ms\n"
     ]
    },
    {
     "data": {
      "text/plain": [
       "(13, 86)"
      ]
     },
     "execution_count": 6,
     "metadata": {},
     "output_type": "execute_result"
    }
   ],
   "source": [
    "%%time\n",
    "\n",
    "df_mlf = mlf.search_all_runs(experiment_ids=[16])\n",
    "df_mlf.shape"
   ]
  },
  {
   "cell_type": "code",
   "execution_count": 7,
   "id": "43aab046",
   "metadata": {},
   "outputs": [
    {
     "data": {
      "text/plain": [
       "(2, 86)"
      ]
     },
     "execution_count": 7,
     "metadata": {},
     "output_type": "execute_result"
    }
   ],
   "source": [
    "mask_finished = df_mlf['status'] == 'FINISHED'\n",
    "mask_df_similarity_complete = ~df_mlf['metrics.df_sub_level_agg_a_post_only_similarity-rows'].isnull()\n",
    "\n",
    "df_mlf_clustering_candidates = df_mlf[mask_finished & mask_df_similarity_complete]\n",
    "df_mlf_clustering_candidates.shape"
   ]
  },
  {
   "cell_type": "code",
   "execution_count": 8,
   "id": "1e73cb11",
   "metadata": {},
   "outputs": [
    {
     "data": {
      "text/html": [
       "<div>\n",
       "<style scoped>\n",
       "    .dataframe tbody tr th:only-of-type {\n",
       "        vertical-align: middle;\n",
       "    }\n",
       "\n",
       "    .dataframe tbody tr th {\n",
       "        vertical-align: top;\n",
       "    }\n",
       "\n",
       "    .dataframe thead th {\n",
       "        text-align: right;\n",
       "    }\n",
       "</style>\n",
       "<table border=\"1\" class=\"dataframe\">\n",
       "  <thead>\n",
       "    <tr style=\"text-align: right;\">\n",
       "      <th></th>\n",
       "      <th>run_id</th>\n",
       "      <th>artifact_uri</th>\n",
       "      <th>start_time</th>\n",
       "      <th>end_time</th>\n",
       "      <th>metrics.memory_used</th>\n",
       "      <th>metrics.vectorizing_time_minutes</th>\n",
       "      <th>metrics.memory_free</th>\n",
       "      <th>metrics.memory_used_percent</th>\n",
       "      <th>params.memory_used</th>\n",
       "      <th>params.f_log_file</th>\n",
       "      <th>params.memory_free</th>\n",
       "      <th>params.memory_used_percent</th>\n",
       "      <th>params.run_name</th>\n",
       "      <th>tags.mlflow.runName</th>\n",
       "    </tr>\n",
       "  </thead>\n",
       "  <tbody>\n",
       "    <tr>\n",
       "      <th>0</th>\n",
       "      <td>cbb12818e82345dda96928bfdab8b16b</td>\n",
       "      <td>gs://i18n-subreddit-clustering/mlflow/mlruns/16/cbb12818e82345dda96928bfdab8b16b/artifacts</td>\n",
       "      <td>2021-10-12 10:46:05.235000+00:00</td>\n",
       "      <td>2021-10-12 16:41:33.492000+00:00</td>\n",
       "      <td>702999.0</td>\n",
       "      <td>355.468028</td>\n",
       "      <td>3465918.0</td>\n",
       "      <td>0.181436</td>\n",
       "      <td>278514</td>\n",
       "      <td>logs/AggregateEmbeddings/2021-10-12_10-46-05_agg_full_lc_false_pd-2021-10-12_104604.log</td>\n",
       "      <td>3465918</td>\n",
       "      <td>0.07188136995649137</td>\n",
       "      <td>agg_full_lc_false_pd-2021-10-12_104604</td>\n",
       "      <td>agg_full_lc_false_pd-2021-10-12_104604</td>\n",
       "    </tr>\n",
       "    <tr>\n",
       "      <th>1</th>\n",
       "      <td>0591fdae9b7d4da7ae3839767b8aab66</td>\n",
       "      <td>gs://i18n-subreddit-clustering/mlflow/mlruns/16/0591fdae9b7d4da7ae3839767b8aab66/artifacts</td>\n",
       "      <td>2021-10-12 10:27:33.324000+00:00</td>\n",
       "      <td>2021-10-12 16:40:41.501000+00:00</td>\n",
       "      <td>703208.0</td>\n",
       "      <td>373.134208</td>\n",
       "      <td>3681161.0</td>\n",
       "      <td>0.181490</td>\n",
       "      <td>64759</td>\n",
       "      <td>logs/AggregateEmbeddings/2021-10-12_10-27-33_agg_full_lc_false-2021-10-12_102732.log</td>\n",
       "      <td>3681161</td>\n",
       "      <td>0.016713578624458464</td>\n",
       "      <td>agg_full_lc_false-2021-10-12_102732</td>\n",
       "      <td>agg_full_lc_false-2021-10-12_102732</td>\n",
       "    </tr>\n",
       "  </tbody>\n",
       "</table>\n",
       "</div>"
      ],
      "text/plain": [
       "                             run_id                                                                                artifact_uri                       start_time                         end_time  metrics.memory_used  metrics.vectorizing_time_minutes  metrics.memory_free  \\\n",
       "0  cbb12818e82345dda96928bfdab8b16b  gs://i18n-subreddit-clustering/mlflow/mlruns/16/cbb12818e82345dda96928bfdab8b16b/artifacts 2021-10-12 10:46:05.235000+00:00 2021-10-12 16:41:33.492000+00:00             702999.0                        355.468028            3465918.0   \n",
       "1  0591fdae9b7d4da7ae3839767b8aab66  gs://i18n-subreddit-clustering/mlflow/mlruns/16/0591fdae9b7d4da7ae3839767b8aab66/artifacts 2021-10-12 10:27:33.324000+00:00 2021-10-12 16:40:41.501000+00:00             703208.0                        373.134208            3681161.0   \n",
       "\n",
       "   metrics.memory_used_percent params.memory_used                                                                        params.f_log_file params.memory_free params.memory_used_percent                         params.run_name                     tags.mlflow.runName  \n",
       "0                     0.181436             278514  logs/AggregateEmbeddings/2021-10-12_10-46-05_agg_full_lc_false_pd-2021-10-12_104604.log            3465918        0.07188136995649137  agg_full_lc_false_pd-2021-10-12_104604  agg_full_lc_false_pd-2021-10-12_104604  \n",
       "1                     0.181490              64759     logs/AggregateEmbeddings/2021-10-12_10-27-33_agg_full_lc_false-2021-10-12_102732.log            3681161       0.016713578624458464     agg_full_lc_false-2021-10-12_102732     agg_full_lc_false-2021-10-12_102732  "
      ]
     },
     "execution_count": 8,
     "metadata": {},
     "output_type": "execute_result"
    }
   ],
   "source": [
    "cols_with_multiple_vals = df_mlf_clustering_candidates.columns[df_mlf_clustering_candidates.nunique(dropna=False) > 1]\n",
    "\n",
    "df_mlf_clustering_candidates[cols_with_multiple_vals]"
   ]
  },
  {
   "cell_type": "markdown",
   "id": "437ff0ba",
   "metadata": {},
   "source": [
    "# Inspect config for clustering job\n",
    "\n",
    "This config should include:\n",
    "- data to load for clustering\n",
    "- parameters for clustering algo\n",
    "- hydra overrides to run jobs in parallel"
   ]
  },
  {
   "cell_type": "code",
   "execution_count": 9,
   "id": "1f4962b5",
   "metadata": {},
   "outputs": [
    {
     "name": "stdout",
     "output_type": "stream",
     "text": [
      "['data_text_and_metadata', 'data_embeddings_to_cluster', 'clustering_algo', 'embeddings_to_cluster', 'mlflow_tracking_uri', 'mlflow_experiment_name', 'pipeline']\n"
     ]
    }
   ],
   "source": [
    "test_experiment = 'v0.4.0_use_multi_clustering_test'\n",
    "\n",
    "cfg_cluster_test_v040 = LoadHydraConfig(\n",
    "    config_name='clustering_v0.4.0_base',\n",
    "    config_path=\"../config\",\n",
    "    overrides=[\n",
    "        f\"mlflow_experiment_name={test_experiment}\"\n",
    "#         f\"data_text_and_metadata=top_subreddits_2021_07_16\",\n",
    "#         f\"data_embeddings_to_cluster=top_subs-2021_07_16-use_multi_lower_case_false_00\",\n",
    "    ],\n",
    ")\n",
    "\n",
    "print([k for k in cfg_cluster_test_v040.config_dict.keys()])"
   ]
  },
  {
   "cell_type": "code",
   "execution_count": 10,
   "id": "21614bb8",
   "metadata": {},
   "outputs": [
    {
     "data": {
      "text/plain": [
       "{'run_uuid': '0591fdae9b7d4da7ae3839767b8aab66',\n",
       " 'l_ix_sub': ['subreddit_name', 'subreddit_id'],\n",
       " 'l_ix_post': ['subreddit_name', 'post_id'],\n",
       " 'df_post_level_agg_b_post_and_comments': None,\n",
       " 'df_post_level_agg_c_post_comments_sub_desc': 'df_post_level_agg_c_post_comments_sub_desc',\n",
       " 'df_sub_level_agg_a_post_only': 'df_sub_level_agg_a_post_only',\n",
       " 'df_sub_level_agg_a_post_only_similarity': 'df_sub_level_agg_a_post_only_similarity',\n",
       " 'df_sub_level_agg_a_post_only_similarity_pair': 'df_sub_level_agg_a_post_only_similarity_pair',\n",
       " 'df_sub_level_agg_a_post_only_similarity_top_pair': 'df_sub_level_agg_a_post_only_similarity_top_pair',\n",
       " 'df_sub_level_agg_b_post_and_comments': None,\n",
       " 'df_sub_level_agg_b_post_and_comments_similarity': None,\n",
       " 'df_sub_level_agg_b_post_and_comments_similarity_pair': None,\n",
       " 'df_sub_level_agg_c_post_comments_and_sub_desc': 'df_sub_level_agg_c_post_comments_and_sub_desc',\n",
       " 'df_sub_level_agg_c_post_comments_and_sub_desc_similarity': 'df_sub_level_agg_c_post_comments_and_sub_desc_similarity',\n",
       " 'df_sub_level_agg_c_post_comments_and_sub_desc_similarity_pair': 'df_sub_level_agg_c_post_comments_and_sub_desc_similarity_pair',\n",
       " 'df_sub_level_agg_c_post_comments_and_sub_desc_similarity_top_pair': 'df_sub_level_agg_c_post_comments_and_sub_desc_similarity_top_pair'}"
      ]
     },
     "execution_count": 10,
     "metadata": {},
     "output_type": "execute_result"
    }
   ],
   "source": [
    "# data with embeddings\n",
    "cfg_cluster_test_v040.config_dict['data_embeddings_to_cluster']"
   ]
  },
  {
   "cell_type": "code",
   "execution_count": 11,
   "id": "0ec52589",
   "metadata": {},
   "outputs": [
    {
     "data": {
      "text/plain": [
       "{'model_name': 'AgglomerativeClustering',\n",
       " 'model_kwargs': {'n_clusters': 100,\n",
       "  'affinity': 'euclidean',\n",
       "  'linkage': 'ward',\n",
       "  'connectivity': False}}"
      ]
     },
     "execution_count": 11,
     "metadata": {},
     "output_type": "execute_result"
    }
   ],
   "source": [
    "# clustering algo\n",
    "cfg_cluster_test_v040.config_dict['clustering_algo']"
   ]
  },
  {
   "cell_type": "markdown",
   "id": "d6b6fd2c",
   "metadata": {},
   "source": [
    "# Run commmand line fxn\n",
    "\n",
    "The clustering fxn is in `subclu.models.conlustering.py`\n",
    "\n",
    "Notes:\n",
    "- We need to use the `-m` flag to run as a submodule (and allow relative imports)\n",
    "- When using the `-m` flag, REMOVE the `.py` ending of the file!\n",
    "- In the command line for hydra we can override w/o having to use the `+` sign.\n",
    "    - https://hydra.cc/docs/tutorials/basic/your_first_app/config_file"
   ]
  },
  {
   "cell_type": "markdown",
   "id": "67126d0a",
   "metadata": {},
   "source": [
    "## Check & set paths"
   ]
  },
  {
   "cell_type": "code",
   "execution_count": 12,
   "id": "b6a65449",
   "metadata": {},
   "outputs": [
    {
     "data": {
      "text/plain": [
       "'v0.4.0_use_multi_clustering_test'"
      ]
     },
     "execution_count": 12,
     "metadata": {},
     "output_type": "execute_result"
    }
   ],
   "source": [
    "test_experiment"
   ]
  },
  {
   "cell_type": "code",
   "execution_count": 13,
   "id": "d20c846d",
   "metadata": {},
   "outputs": [
    {
     "data": {
      "text/plain": [
       "'/home/jupyter/subreddit_clustering_i18n/notebooks/v0.4.0'"
      ]
     },
     "execution_count": 13,
     "metadata": {},
     "output_type": "execute_result"
    }
   ],
   "source": [
    "os.getcwd()"
   ]
  },
  {
   "cell_type": "code",
   "execution_count": 14,
   "id": "64441ced",
   "metadata": {},
   "outputs": [],
   "source": [
    "path_djb_repo = '/home/david.bermejo/repos/subreddit_clustering_i18n/' \n",
    "path_djb_models = '/home/david.bermejo/repos/subreddit_clustering_i18n/subclu/models' \n",
    "file_clustering_py = 'subclu.models.clustering'"
   ]
  },
  {
   "cell_type": "code",
   "execution_count": 15,
   "id": "1e3ca8ef",
   "metadata": {},
   "outputs": [],
   "source": [
    "# !ls"
   ]
  },
  {
   "cell_type": "code",
   "execution_count": 16,
   "id": "c11bc98a",
   "metadata": {},
   "outputs": [],
   "source": [
    "# !cd $path_djb_repo && ls"
   ]
  },
  {
   "cell_type": "code",
   "execution_count": 17,
   "id": "15f38813",
   "metadata": {},
   "outputs": [],
   "source": [
    "# !cd $path_djb_models && ls"
   ]
  },
  {
   "cell_type": "markdown",
   "id": "d69bc1ab",
   "metadata": {},
   "source": [
    "## Run clustering from CLI"
   ]
  },
  {
   "cell_type": "code",
   "execution_count": 30,
   "id": "b0dbe2ec",
   "metadata": {},
   "outputs": [
    {
     "name": "stdout",
     "output_type": "stream",
     "text": [
      "CFG keys: dict_keys(['data_text_and_metadata', 'data_embeddings_to_cluster', 'clustering_algo', 'embeddings_to_cluster', 'n_sample_embedding_rows', 'filter_embeddings', 'mlflow_tracking_uri', 'mlflow_experiment_name', 'pipeline'])\n",
      "`2021-10-25 19:32:46,278` | `INFO` | `Define cluster class...`\n",
      "`2021-10-25 19:32:46,988` | `INFO` | `== Start run_aggregation() method ==`\n",
      "`2021-10-25 19:32:46,989` | `INFO` | `MLflow tracking URI: sqlite:////home/jupyter/subreddit_clustering_i18n/mlflow_sync/djb-100-2021-04-28-djb-eda-german-subs/mlruns.db`\n",
      "`2021-10-25 19:32:47,131` | `INFO` | `=== START CLUSTERING - Process ID 81470`\n",
      "`2021-10-25 19:32:47,230` | `INFO` | `host_name: djb-100-2021-04-28-djb-eda-german-subs`\n",
      "`2021-10-25 19:32:47,230` | `INFO` | `cpu_count: 96`\n",
      "`2021-10-25 19:32:47,302` | `INFO` | `RAM stats:\n",
      "{'memory_used_percent': '0.89%', 'memory_total': '628,888', 'memory_used': '5,627', 'memory_free': '620,388'}`\n",
      "`2021-10-25 19:32:47,396` | `INFO` | `Using hydra's path`\n",
      "  Current working directory : /home/jupyter/subreddit_clustering_i18n/hydra_runs/outputs/2021-10-25/19-32-46\n",
      "  Orig working directory    : /home/david.bermejo/repos/subreddit_clustering_i18n\n",
      "`2021-10-25 19:32:47,561` | `INFO` | `  Saving config to local path...`\n",
      "`2021-10-25 19:32:47,570` | `INFO` | `  Logging config to mlflow with joblib...`\n",
      "`2021-10-25 19:32:47,782` | `WARNING` | `  Could not save config to JSON. \n",
      "Object of type DictConfig is not JSON serializable`\n",
      "`2021-10-25 19:32:47,782` | `INFO` | `  Logging config to mlflow with YAML...`\n",
      "`2021-10-25 19:32:48,006` | `INFO` | `Creating pipeline...`\n",
      "`2021-10-25 19:32:48,007` | `INFO` | `Checking custom pipeline config...\n",
      "  {'normalize': {'add_step': True, 'name': 'Normalizer', 'kwargs': {'norm': 'l2'}}, 'reduce': {'add_step': False, 'name': 'TruncatedSVD', 'kwargs': {'n_components': 50}}}`\n",
      "`2021-10-25 19:32:48,007` | `INFO` | `  Adding step: normalize`\n",
      "`2021-10-25 19:32:48,010` | `INFO` | `  Pipeline to train:\n",
      "  Pipeline(steps=[('normalize', Normalizer()),\n",
      "                ('cluster',\n",
      "                 AgglomerativeClustering(compute_distances=True,\n",
      "                                         compute_full_tree=True,\n",
      "                                         n_clusters=65))])`\n",
      "`2021-10-25 19:32:48,010` | `INFO` | `Loading embeddings...`\n",
      "`2021-10-25 19:32:48,743` | `INFO` | `Local folder to download artifact(s):\n",
      "  /home/jupyter/subreddit_clustering_i18n/data/local_cache/mlflow/mlruns/16/0591fdae9b7d4da7ae3839767b8aab66/artifacts/df_sub_level_agg_c_post_comments_and_sub_desc`\n",
      "100%|##################################| 2176/2176 [00:00<00:00, 1120953.76it/s]\n",
      "`2021-10-25 19:32:49,141` | `INFO` | `  Parquet files found:     3`\n",
      "`2021-10-25 19:32:49,141` | `INFO` | `  Parquet files to use:     3`\n",
      "`2021-10-25 19:32:49,390` | `INFO` | `  SAMPLING n_rows: 4000`\n",
      "`2021-10-25 19:32:49,412` | `INFO` | `    4,000 |   515 <- df_embeddings SHAPE`\n",
      "`2021-10-25 19:32:49,459` | `WARNING` | `** Loading metadata NOT IMPLEMENTED! **`\n",
      "`2021-10-25 19:32:49,459` | `WARNING` | `** Filtering NOT IMPLEMENTED! **`\n",
      "`2021-10-25 19:32:49,459` | `INFO` | `-- Training clustering model --`\n",
      "`2021-10-25 19:32:52,754` | `INFO` | `  0:00:03.294683 <- Model fit() time time elapsed`\n",
      "`2021-10-25 19:32:52,787` | `INFO` | `Logging pipeline params...`\n",
      "`2021-10-25 19:32:52,788` | `INFO` | `  Saving pipeline params to: /home/jupyter/subreddit_clustering_i18n/hydra_runs/outputs/2021-10-25/19-32-46/pipeline_params`\n",
      "`2021-10-25 19:32:52,790` | `INFO` | `  Logging pipeline params to mlflow...`\n",
      "`2021-10-25 19:32:53,339` | `INFO` | `  normalize__copy: True`\n",
      "`2021-10-25 19:32:53,365` | `INFO` | `  normalize__norm: l2`\n",
      "`2021-10-25 19:32:53,390` | `INFO` | `  cluster__affinity: euclidean`\n",
      "`2021-10-25 19:32:53,416` | `INFO` | `  cluster__compute_distances: True`\n",
      "`2021-10-25 19:32:53,446` | `INFO` | `  cluster__compute_full_tree: True`\n",
      "`2021-10-25 19:32:53,475` | `INFO` | `  cluster__connectivity: None`\n",
      "`2021-10-25 19:32:53,502` | `INFO` | `  cluster__distance_threshold: None`\n",
      "`2021-10-25 19:32:53,528` | `INFO` | `  cluster__linkage: ward`\n",
      "`2021-10-25 19:32:53,555` | `INFO` | `  cluster__memory: None`\n",
      "`2021-10-25 19:32:53,585` | `INFO` | `  cluster__n_clusters: 65`\n",
      "`2021-10-25 19:32:53,585` | `INFO` | `Getting model signature...`\n",
      "`2021-10-25 19:32:53,585` | `WARNING` | ` Model-SCHEMA is currently null`\n",
      "`2021-10-25 19:32:53,585` | `INFO` | `  Logging model to mlflow...`\n",
      "`2021-10-25 19:32:54,115` | `INFO` | `-- Get linkage matrix for model --`\n",
      "`2021-10-25 19:32:54,126` | `INFO` | `  Creating dendrogram...`\n",
      "Figure(1400x800)\n",
      "Figure(1400x800)\n",
      "`2021-10-25 19:32:55,346` | `INFO` | `-- Get optimal k-values --`\n",
      "Figure(1400x800)\n",
      "Figure(1400x800)\n",
      "`2021-10-25 19:32:56,452` | `INFO` | `Converting pandas to dask...`\n",
      "`2021-10-25 19:32:56,454` | `INFO` | `     0.0 MB <- Memory usage`\n",
      "`2021-10-25 19:32:56,454` | `INFO` | `       1\t<- target Dask partitions\t   50.0 <- target MB partition size`\n",
      "`2021-10-25 19:32:57,514` | `INFO` | `  0:00:10.525364 <- Total Clustering fxn time time elapsed`\n",
      "`2021-10-25 19:32:57,550` | `INFO` | `=== END clustering ===`\n"
     ]
    }
   ],
   "source": [
    "!cd $path_djb_repo && python -m $file_clustering_py mlflow_experiment_name=$test_experiment n_sample_embedding_rows=4000"
   ]
  },
  {
   "cell_type": "code",
   "execution_count": 87,
   "id": "3592f2a1",
   "metadata": {},
   "outputs": [],
   "source": [
    "# os.getcwd()"
   ]
  },
  {
   "cell_type": "code",
   "execution_count": null,
   "id": "9a953181",
   "metadata": {},
   "outputs": [],
   "source": []
  },
  {
   "cell_type": "markdown",
   "id": "e61cb56f",
   "metadata": {},
   "source": [
    "# Test creating pipeline & removing steps\n",
    "\n",
    "how easy is it to start with a full pipeline and remove steps v. start with base pipeline and append steps? appending steps could be tricky b/c we'd have to add them in the correct sequence."
   ]
  },
  {
   "cell_type": "code",
   "execution_count": 24,
   "id": "d06e5c4b",
   "metadata": {},
   "outputs": [
    {
     "data": {
      "text/plain": [
       "Pipeline(steps=[('normalize', Normalizer()),\n",
       "                ('reduce', TruncatedSVD(n_components=50)),\n",
       "                ('cluster',\n",
       "                 AgglomerativeClustering(connectivity=False, n_clusters=30))])"
      ]
     },
     "execution_count": 24,
     "metadata": {},
     "output_type": "execute_result"
    }
   ],
   "source": [
    "from sklearn.pipeline import Pipeline\n",
    "from sklearn.preprocessing import Normalizer\n",
    "\n",
    "\n",
    "pipe_full = Pipeline([\n",
    "    ('normalize', Normalizer(norm='l2')),\n",
    "    ('reduce', TruncatedSVD(n_components=50)),\n",
    "    ('cluster', AgglomerativeClustering(n_clusters=30, affinity='euclidean', connectivity=False)),\n",
    "])\n",
    "pipe_full"
   ]
  },
  {
   "cell_type": "code",
   "execution_count": 25,
   "id": "a52d8198",
   "metadata": {},
   "outputs": [
    {
     "data": {
      "text/plain": [
       "('cluster', AgglomerativeClustering(connectivity=False, n_clusters=30))"
      ]
     },
     "execution_count": 25,
     "metadata": {},
     "output_type": "execute_result"
    }
   ],
   "source": [
    "pipe_full.steps[-1]"
   ]
  },
  {
   "cell_type": "code",
   "execution_count": 26,
   "id": "6741db9d",
   "metadata": {},
   "outputs": [
    {
     "data": {
      "text/plain": [
       "'AgglomerativeClustering'"
      ]
     },
     "execution_count": 26,
     "metadata": {},
     "output_type": "execute_result"
    }
   ],
   "source": [
    "type(pipe_full.steps[-1][1]).__name__"
   ]
  },
  {
   "cell_type": "code",
   "execution_count": 49,
   "id": "fa4a6cbd",
   "metadata": {},
   "outputs": [
    {
     "name": "stdout",
     "output_type": "stream",
     "text": [
      "reduce error: list.remove(x): x not in list\n",
      "normalize error: list.remove(x): x not in list\n"
     ]
    }
   ],
   "source": [
    "# we can't remove by name\n",
    "pipe_reduce = False\n",
    "pipe_normalize = False\n",
    "\n",
    "if not pipe_reduce:\n",
    "    try:\n",
    "        pipe_full.steps.remove('reduce')\n",
    "    except Exception as e:\n",
    "        print(f'reduce error: {e}')\n",
    "        \n",
    "if not pipe_normalize:\n",
    "    try:\n",
    "        pipe_full.steps.remove('normalize')\n",
    "    except Exception as e:\n",
    "        print(f'normalize error: {e}')"
   ]
  },
  {
   "cell_type": "markdown",
   "id": "289f4d4f",
   "metadata": {},
   "source": [
    "Instead, it looks like the safest way to remove a step is to iterate and remove only if we find the expected name.\n",
    "\n",
    "Note that for each step we want to remove we need a separate for-loop - because the index will change when we remove a step."
   ]
  },
  {
   "cell_type": "code",
   "execution_count": 51,
   "id": "b0b88001",
   "metadata": {},
   "outputs": [
    {
     "name": "stdout",
     "output_type": "stream",
     "text": [
      "removing reduce\n",
      "removing normalize\n"
     ]
    },
    {
     "data": {
      "text/plain": [
       "Pipeline(steps=[('cluster',\n",
       "                 AgglomerativeClustering(connectivity=False, n_clusters=30))])"
      ]
     },
     "execution_count": 51,
     "metadata": {},
     "output_type": "execute_result"
    }
   ],
   "source": [
    "d_pipe_steps_check = {\n",
    "    'reduce': pipe_reduce,\n",
    "    'normalize': pipe_normalize,\n",
    "}\n",
    "\n",
    "for name_, keep_ in d_pipe_steps_check.items():\n",
    "    if not keep_:\n",
    "        for i, tup_ in enumerate(pipe_full.steps):\n",
    "            if tup_[0] == name_:\n",
    "                print(f'removing {name_}')\n",
    "                pipe_full.steps.pop(i)\n",
    "\n",
    "pipe_full"
   ]
  },
  {
   "cell_type": "code",
   "execution_count": 52,
   "id": "5ab191a2",
   "metadata": {},
   "outputs": [
    {
     "data": {
      "text/plain": [
       "Pipeline(steps=[('reduce', TruncatedSVD(n_components=50)),\n",
       "                ('cluster',\n",
       "                 AgglomerativeClustering(connectivity=False, n_clusters=30))])"
      ]
     },
     "execution_count": 52,
     "metadata": {},
     "output_type": "execute_result"
    }
   ],
   "source": [
    "# test inserting a step back into pipeline:\n",
    "pipe_full.steps.insert(0, ('reduce', TruncatedSVD(n_components=50)))\n",
    "pipe_full"
   ]
  },
  {
   "cell_type": "code",
   "execution_count": 53,
   "id": "4ffd940f",
   "metadata": {},
   "outputs": [
    {
     "name": "stdout",
     "output_type": "stream",
     "text": [
      "('reduce', TruncatedSVD(n_components=50))\n",
      "('cluster', AgglomerativeClustering(connectivity=False, n_clusters=30))\n"
     ]
    }
   ],
   "source": [
    "# iterate over steps (so we can get the name for each transformer)\n",
    "for tup_ in pipe_full.steps:\n",
    "    print(tup_)"
   ]
  },
  {
   "cell_type": "markdown",
   "id": "e79c1f11",
   "metadata": {},
   "source": [
    "# Test saving yaml"
   ]
  },
  {
   "cell_type": "code",
   "execution_count": 31,
   "id": "d1c15297",
   "metadata": {},
   "outputs": [
    {
     "data": {
      "text/plain": [
       "{'data_text_and_metadata': {'dataset_name': 'v0.4.0 inputs - Top Subreddits (no Geo) + Geo-relevant subs, comments: TBD',\n",
       "  'bucket_name': 'i18n-subreddit-clustering',\n",
       "  'folder_subreddits_text_and_meta': 'subreddits/top/2021-09-24',\n",
       "  'folder_posts_text_and_meta': 'posts/top/2021-09-27',\n",
       "  'folder_comments_text_and_meta': 'comments/top/2021-10-04',\n",
       "  'comments_vectorized_mlflow_uuids': ['5f10cd75334142168a6ebb787e477c1f',\n",
       "   '2fcfefc3d5af43328168d3478b4fdeb6'],\n",
       "  'comments_vectorized_gcs': ['gs://i18n-subreddit-clustering/mlflow/mlruns/14/5f10cd75334142168a6ebb787e477c1f/artifacts/df_vect_comments/*.parquet',\n",
       "   'gs://i18n-subreddit-clustering/mlflow/mlruns/14/2fcfefc3d5af43328168d3478b4fdeb6/artifacts/df_vect_comments/*.parquet'],\n",
       "  'comments_vectorized_mlflow_uuids_lowercase': None,\n",
       "  'posts_vectorized_mlflow_uuids': ['8eef951842a34a6e81d176b15ae74afd'],\n",
       "  'posts_vectorized_mlflow_uuids_lowercase': ['537514ab3c724b10903000501802de0e'],\n",
       "  'subreddit_meta_vectorized_mlflow_uuids': ['8eef951842a34a6e81d176b15ae74afd'],\n",
       "  'subreddit_meta_vectorized_mlflow_uuids_lowercase': ['537514ab3c724b10903000501802de0e']},\n",
       " 'data_embeddings_to_cluster': {'run_uuid': '0591fdae9b7d4da7ae3839767b8aab66',\n",
       "  'l_ix_sub': ['subreddit_name', 'subreddit_id'],\n",
       "  'l_ix_post': ['subreddit_name', 'post_id'],\n",
       "  'df_post_level_agg_b_post_and_comments': None,\n",
       "  'df_post_level_agg_c_post_comments_sub_desc': 'df_post_level_agg_c_post_comments_sub_desc',\n",
       "  'df_sub_level_agg_a_post_only': 'df_sub_level_agg_a_post_only',\n",
       "  'df_sub_level_agg_a_post_only_similarity': 'df_sub_level_agg_a_post_only_similarity',\n",
       "  'df_sub_level_agg_a_post_only_similarity_pair': 'df_sub_level_agg_a_post_only_similarity_pair',\n",
       "  'df_sub_level_agg_a_post_only_similarity_top_pair': 'df_sub_level_agg_a_post_only_similarity_top_pair',\n",
       "  'df_sub_level_agg_b_post_and_comments': None,\n",
       "  'df_sub_level_agg_b_post_and_comments_similarity': None,\n",
       "  'df_sub_level_agg_b_post_and_comments_similarity_pair': None,\n",
       "  'df_sub_level_agg_c_post_comments_and_sub_desc': 'df_sub_level_agg_c_post_comments_and_sub_desc',\n",
       "  'df_sub_level_agg_c_post_comments_and_sub_desc_similarity': 'df_sub_level_agg_c_post_comments_and_sub_desc_similarity',\n",
       "  'df_sub_level_agg_c_post_comments_and_sub_desc_similarity_pair': 'df_sub_level_agg_c_post_comments_and_sub_desc_similarity_pair',\n",
       "  'df_sub_level_agg_c_post_comments_and_sub_desc_similarity_top_pair': 'df_sub_level_agg_c_post_comments_and_sub_desc_similarity_top_pair'},\n",
       " 'clustering_algo': {'model_key': 'AgglomerativeClustering',\n",
       "  'model_kwargs': {'n_clusters': 100,\n",
       "   'affinity': 'euclidean',\n",
       "   'linkage': 'ward',\n",
       "   'connectivity': False}},\n",
       " 'mlflow_tracking_uri': 'sqlite',\n",
       " 'mlflow_experiment_name': 'v0.4.0_use_multi_clustering_test',\n",
       " 'pipeline': {'normalize_inputs_for_cosine_distance': True,\n",
       "  'apply_svd': False,\n",
       "  'svd_dimensions': 50}}"
      ]
     },
     "execution_count": 31,
     "metadata": {},
     "output_type": "execute_result"
    }
   ],
   "source": [
    "cfg_cluster_test_v040.config_dict"
   ]
  },
  {
   "cell_type": "code",
   "execution_count": 32,
   "id": "af8197c8",
   "metadata": {},
   "outputs": [],
   "source": [
    "import yaml\n",
    "\n",
    "with open('djb_test.yaml', 'w') as f:\n",
    "    yaml.dump(cfg_cluster_test_v040.config_dict, f)"
   ]
  },
  {
   "cell_type": "code",
   "execution_count": 33,
   "id": "d512cb3a",
   "metadata": {},
   "outputs": [],
   "source": [
    "with open('djb_test.yaml', 'w') as f:\n",
    "    yaml.dump(cfg_cluster_test_v040.config_dict, f, default_flow_style=False, allow_unicode=True)"
   ]
  },
  {
   "cell_type": "code",
   "execution_count": null,
   "id": "8b7d3593",
   "metadata": {},
   "outputs": [],
   "source": []
  }
 ],
 "metadata": {
  "environment": {
   "name": "common-cpu.m65",
   "type": "gcloud",
   "uri": "gcr.io/deeplearning-platform-release/base-cpu:m65"
  },
  "kernelspec": {
   "display_name": "Python 3",
   "language": "python",
   "name": "python3"
  },
  "language_info": {
   "codemirror_mode": {
    "name": "ipython",
    "version": 3
   },
   "file_extension": ".py",
   "mimetype": "text/x-python",
   "name": "python",
   "nbconvert_exporter": "python",
   "pygments_lexer": "ipython3",
   "version": "3.7.10"
  }
 },
 "nbformat": 4,
 "nbformat_minor": 5
}
