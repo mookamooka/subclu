{
 "cells": [
  {
   "cell_type": "markdown",
   "id": "78b91d29",
   "metadata": {},
   "source": [
    "# Purpose\n",
    "\n",
    "2021-10-15: Use this notebook to test & check logs for running new clustering script. Use this as a way to document different options for running the script with hydra.\n",
    "\n",
    "Focus:\n",
    "- clustering algos at **subreddit-level.**\n"
   ]
  },
  {
   "cell_type": "markdown",
   "id": "824cdc4b",
   "metadata": {},
   "source": [
    "# Imports & Setup"
   ]
  },
  {
   "cell_type": "code",
   "execution_count": 1,
   "id": "4bd8eb48",
   "metadata": {},
   "outputs": [],
   "source": [
    "%load_ext autoreload\n",
    "%autoreload 2"
   ]
  },
  {
   "cell_type": "code",
   "execution_count": 2,
   "id": "3a2e81e4",
   "metadata": {},
   "outputs": [
    {
     "name": "stdout",
     "output_type": "stream",
     "text": [
      "python\t\tv 3.7.10\n",
      "===\n",
      "hydra\t\tv: 1.1.0\n",
      "numpy\t\tv: 1.19.5\n",
      "pandas\t\tv: 1.2.4\n",
      "plotly\t\tv: 4.14.3\n",
      "sklearn\t\tv: 0.24.1\n",
      "seaborn\t\tv: 0.11.1\n",
      "subclu\t\tv: 0.4.0\n"
     ]
    }
   ],
   "source": [
    "from datetime import datetime\n",
    "import logging\n",
    "import os\n",
    "from pathlib import Path\n",
    "\n",
    "import numpy as np\n",
    "import pandas as pd\n",
    "import plotly\n",
    "import seaborn as sns\n",
    "\n",
    "import mlflow\n",
    "import hydra\n",
    "\n",
    "import subclu\n",
    "from subclu.eda.aggregates import compare_raw_v_weighted_language\n",
    "from subclu.utils import set_working_directory, get_project_subfolder\n",
    "from subclu.utils.eda import (\n",
    "    setup_logging, counts_describe, value_counts_and_pcts,\n",
    "    notebook_display_config, print_lib_versions,\n",
    "    style_df_numeric, reorder_array,\n",
    ")\n",
    "from subclu.utils.mlflow_logger import MlflowLogger\n",
    "from subclu.utils.hydra_config_loader import LoadHydraConfig\n",
    "from subclu.utils.data_irl_style import (\n",
    "    get_colormap, theme_dirl, \n",
    "    get_color_dict, base_colors_for_manual_labels,\n",
    "    check_colors_used,\n",
    ")\n",
    "from subclu.data.data_loaders import LoadPosts, LoadSubreddits, create_sub_level_aggregates\n",
    "\n",
    "\n",
    "# ===\n",
    "# imports specific to this notebook\n",
    "from collections import Counter\n",
    "# import umap\n",
    "# import openTSNE\n",
    "# from openTSNE import TSNE\n",
    "\n",
    "# import hdbscan\n",
    "\n",
    "import sklearn\n",
    "from sklearn.decomposition import TruncatedSVD\n",
    "from sklearn.metrics.pairwise import cosine_similarity\n",
    "from sklearn.preprocessing import normalize  # if we normalize the data, euclidean distance is approx of cosine\n",
    "\n",
    "from sklearn.cluster import KMeans, DBSCAN, OPTICS, AgglomerativeClustering\n",
    "\n",
    "print_lib_versions([hydra, np, pd, plotly, sklearn, sns, subclu])"
   ]
  },
  {
   "cell_type": "code",
   "execution_count": 3,
   "id": "3695b595",
   "metadata": {},
   "outputs": [],
   "source": [
    "# plotting\n",
    "import matplotlib.pyplot as plt\n",
    "import matplotlib.ticker as mtick\n",
    "import matplotlib.dates as mdates\n",
    "plt.style.use('default')\n",
    "\n",
    "setup_logging()\n",
    "notebook_display_config()"
   ]
  },
  {
   "cell_type": "markdown",
   "id": "1d003b79",
   "metadata": {},
   "source": [
    "# Set sqlite database as MLflow URI"
   ]
  },
  {
   "cell_type": "code",
   "execution_count": 4,
   "id": "e1594c91",
   "metadata": {},
   "outputs": [
    {
     "data": {
      "text/plain": [
       "'sqlite:////home/jupyter/subreddit_clustering_i18n/mlflow_sync/djb-100-2021-04-28-djb-eda-german-subs/mlruns.db'"
      ]
     },
     "execution_count": 4,
     "metadata": {},
     "output_type": "execute_result"
    }
   ],
   "source": [
    "# use new class to initialize mlflow\n",
    "mlf = MlflowLogger(tracking_uri='sqlite')\n",
    "mlflow.get_tracking_uri()"
   ]
  },
  {
   "cell_type": "markdown",
   "id": "c1d6a1a3",
   "metadata": {},
   "source": [
    "## Get list of experiments with new function"
   ]
  },
  {
   "cell_type": "code",
   "execution_count": 5,
   "id": "a877ecd1",
   "metadata": {},
   "outputs": [
    {
     "data": {
      "text/html": [
       "<div>\n",
       "<style scoped>\n",
       "    .dataframe tbody tr th:only-of-type {\n",
       "        vertical-align: middle;\n",
       "    }\n",
       "\n",
       "    .dataframe tbody tr th {\n",
       "        vertical-align: top;\n",
       "    }\n",
       "\n",
       "    .dataframe thead th {\n",
       "        text-align: right;\n",
       "    }\n",
       "</style>\n",
       "<table border=\"1\" class=\"dataframe\">\n",
       "  <thead>\n",
       "    <tr style=\"text-align: right;\">\n",
       "      <th></th>\n",
       "      <th>experiment_id</th>\n",
       "      <th>name</th>\n",
       "      <th>artifact_location</th>\n",
       "      <th>lifecycle_stage</th>\n",
       "    </tr>\n",
       "  </thead>\n",
       "  <tbody>\n",
       "    <tr>\n",
       "      <th>0</th>\n",
       "      <td>0</td>\n",
       "      <td>Default</td>\n",
       "      <td>./mlruns/0</td>\n",
       "      <td>active</td>\n",
       "    </tr>\n",
       "    <tr>\n",
       "      <th>1</th>\n",
       "      <td>1</td>\n",
       "      <td>fse_v1</td>\n",
       "      <td>gs://i18n-subreddit-clustering/mlflow/mlruns/1</td>\n",
       "      <td>active</td>\n",
       "    </tr>\n",
       "    <tr>\n",
       "      <th>2</th>\n",
       "      <td>2</td>\n",
       "      <td>fse_vectorize_v1</td>\n",
       "      <td>gs://i18n-subreddit-clustering/mlflow/mlruns/2</td>\n",
       "      <td>active</td>\n",
       "    </tr>\n",
       "    <tr>\n",
       "      <th>3</th>\n",
       "      <td>3</td>\n",
       "      <td>subreddit_description_v1</td>\n",
       "      <td>gs://i18n-subreddit-clustering/mlflow/mlruns/3</td>\n",
       "      <td>active</td>\n",
       "    </tr>\n",
       "    <tr>\n",
       "      <th>4</th>\n",
       "      <td>4</td>\n",
       "      <td>fse_vectorize_v1.1</td>\n",
       "      <td>gs://i18n-subreddit-clustering/mlflow/mlruns/4</td>\n",
       "      <td>active</td>\n",
       "    </tr>\n",
       "    <tr>\n",
       "      <th>5</th>\n",
       "      <td>5</td>\n",
       "      <td>use_multilingual_v0.1_test</td>\n",
       "      <td>gs://i18n-subreddit-clustering/mlflow/mlruns/5</td>\n",
       "      <td>active</td>\n",
       "    </tr>\n",
       "    <tr>\n",
       "      <th>6</th>\n",
       "      <td>6</td>\n",
       "      <td>use_multilingual_v1</td>\n",
       "      <td>gs://i18n-subreddit-clustering/mlflow/mlruns/6</td>\n",
       "      <td>active</td>\n",
       "    </tr>\n",
       "    <tr>\n",
       "      <th>7</th>\n",
       "      <td>7</td>\n",
       "      <td>use_multilingual_v1_aggregates_test</td>\n",
       "      <td>gs://i18n-subreddit-clustering/mlflow/mlruns/7</td>\n",
       "      <td>active</td>\n",
       "    </tr>\n",
       "    <tr>\n",
       "      <th>8</th>\n",
       "      <td>8</td>\n",
       "      <td>use_multilingual_v1_aggregates</td>\n",
       "      <td>gs://i18n-subreddit-clustering/mlflow/mlruns/8</td>\n",
       "      <td>active</td>\n",
       "    </tr>\n",
       "    <tr>\n",
       "      <th>9</th>\n",
       "      <td>9</td>\n",
       "      <td>v0.3.2_use_multi_inference_test</td>\n",
       "      <td>gs://i18n-subreddit-clustering/mlflow/mlruns/9</td>\n",
       "      <td>active</td>\n",
       "    </tr>\n",
       "    <tr>\n",
       "      <th>10</th>\n",
       "      <td>10</td>\n",
       "      <td>v0.3.2_use_multi_inference</td>\n",
       "      <td>gs://i18n-subreddit-clustering/mlflow/mlruns/10</td>\n",
       "      <td>active</td>\n",
       "    </tr>\n",
       "    <tr>\n",
       "      <th>11</th>\n",
       "      <td>11</td>\n",
       "      <td>v0.3.2_use_multi_aggregates_test</td>\n",
       "      <td>gs://i18n-subreddit-clustering/mlflow/mlruns/11</td>\n",
       "      <td>active</td>\n",
       "    </tr>\n",
       "    <tr>\n",
       "      <th>12</th>\n",
       "      <td>12</td>\n",
       "      <td>v0.3.2_use_multi_aggregates</td>\n",
       "      <td>gs://i18n-subreddit-clustering/mlflow/mlruns/12</td>\n",
       "      <td>active</td>\n",
       "    </tr>\n",
       "    <tr>\n",
       "      <th>13</th>\n",
       "      <td>13</td>\n",
       "      <td>v0.4.0_use_multi_inference_test</td>\n",
       "      <td>gs://i18n-subreddit-clustering/mlflow/mlruns/13</td>\n",
       "      <td>active</td>\n",
       "    </tr>\n",
       "    <tr>\n",
       "      <th>14</th>\n",
       "      <td>14</td>\n",
       "      <td>v0.4.0_use_multi_inference</td>\n",
       "      <td>gs://i18n-subreddit-clustering/mlflow/mlruns/14</td>\n",
       "      <td>active</td>\n",
       "    </tr>\n",
       "    <tr>\n",
       "      <th>15</th>\n",
       "      <td>15</td>\n",
       "      <td>v0.4.0_use_multi_aggregates_test</td>\n",
       "      <td>gs://i18n-subreddit-clustering/mlflow/mlruns/15</td>\n",
       "      <td>active</td>\n",
       "    </tr>\n",
       "    <tr>\n",
       "      <th>16</th>\n",
       "      <td>16</td>\n",
       "      <td>v0.4.0_use_multi_aggregates</td>\n",
       "      <td>gs://i18n-subreddit-clustering/mlflow/mlruns/16</td>\n",
       "      <td>active</td>\n",
       "    </tr>\n",
       "    <tr>\n",
       "      <th>17</th>\n",
       "      <td>17</td>\n",
       "      <td>v0.4.0_use_multi_clustering_test</td>\n",
       "      <td>gs://i18n-subreddit-clustering/mlflow/mlruns/17</td>\n",
       "      <td>active</td>\n",
       "    </tr>\n",
       "    <tr>\n",
       "      <th>18</th>\n",
       "      <td>18</td>\n",
       "      <td>v0.4.0_use_multi_clustering</td>\n",
       "      <td>gs://i18n-subreddit-clustering/mlflow/mlruns/18</td>\n",
       "      <td>active</td>\n",
       "    </tr>\n",
       "  </tbody>\n",
       "</table>\n",
       "</div>"
      ],
      "text/plain": [
       "   experiment_id                                 name                                artifact_location lifecycle_stage\n",
       "0              0                              Default                                       ./mlruns/0          active\n",
       "1              1                               fse_v1   gs://i18n-subreddit-clustering/mlflow/mlruns/1          active\n",
       "2              2                     fse_vectorize_v1   gs://i18n-subreddit-clustering/mlflow/mlruns/2          active\n",
       "3              3             subreddit_description_v1   gs://i18n-subreddit-clustering/mlflow/mlruns/3          active\n",
       "4              4                   fse_vectorize_v1.1   gs://i18n-subreddit-clustering/mlflow/mlruns/4          active\n",
       "5              5           use_multilingual_v0.1_test   gs://i18n-subreddit-clustering/mlflow/mlruns/5          active\n",
       "6              6                  use_multilingual_v1   gs://i18n-subreddit-clustering/mlflow/mlruns/6          active\n",
       "7              7  use_multilingual_v1_aggregates_test   gs://i18n-subreddit-clustering/mlflow/mlruns/7          active\n",
       "8              8       use_multilingual_v1_aggregates   gs://i18n-subreddit-clustering/mlflow/mlruns/8          active\n",
       "9              9      v0.3.2_use_multi_inference_test   gs://i18n-subreddit-clustering/mlflow/mlruns/9          active\n",
       "10            10           v0.3.2_use_multi_inference  gs://i18n-subreddit-clustering/mlflow/mlruns/10          active\n",
       "11            11     v0.3.2_use_multi_aggregates_test  gs://i18n-subreddit-clustering/mlflow/mlruns/11          active\n",
       "12            12          v0.3.2_use_multi_aggregates  gs://i18n-subreddit-clustering/mlflow/mlruns/12          active\n",
       "13            13      v0.4.0_use_multi_inference_test  gs://i18n-subreddit-clustering/mlflow/mlruns/13          active\n",
       "14            14           v0.4.0_use_multi_inference  gs://i18n-subreddit-clustering/mlflow/mlruns/14          active\n",
       "15            15     v0.4.0_use_multi_aggregates_test  gs://i18n-subreddit-clustering/mlflow/mlruns/15          active\n",
       "16            16          v0.4.0_use_multi_aggregates  gs://i18n-subreddit-clustering/mlflow/mlruns/16          active\n",
       "17            17     v0.4.0_use_multi_clustering_test  gs://i18n-subreddit-clustering/mlflow/mlruns/17          active\n",
       "18            18          v0.4.0_use_multi_clustering  gs://i18n-subreddit-clustering/mlflow/mlruns/18          active"
      ]
     },
     "execution_count": 5,
     "metadata": {},
     "output_type": "execute_result"
    }
   ],
   "source": [
    "mlf.list_experiment_meta(output_format='pandas')"
   ]
  },
  {
   "cell_type": "markdown",
   "id": "5553c45f",
   "metadata": {},
   "source": [
    "## Get experiment IDs to use for clustering\n",
    "\n",
    "There are two runs that completed and they both have the same parameters, so we should be able to use either one. For now, let's select:<br>\n",
    "`0591fdae9b7d4da7ae3839767b8aab66`"
   ]
  },
  {
   "cell_type": "code",
   "execution_count": 6,
   "id": "3400ed40",
   "metadata": {},
   "outputs": [
    {
     "name": "stdout",
     "output_type": "stream",
     "text": [
      "CPU times: user 49.6 ms, sys: 13.7 ms, total: 63.2 ms\n",
      "Wall time: 62.4 ms\n"
     ]
    },
    {
     "data": {
      "text/plain": [
       "(13, 86)"
      ]
     },
     "execution_count": 6,
     "metadata": {},
     "output_type": "execute_result"
    }
   ],
   "source": [
    "%%time\n",
    "\n",
    "df_mlf = mlf.search_all_runs(experiment_ids=[16])\n",
    "df_mlf.shape"
   ]
  },
  {
   "cell_type": "code",
   "execution_count": 7,
   "id": "ac00ce13",
   "metadata": {},
   "outputs": [
    {
     "data": {
      "text/plain": [
       "(2, 86)"
      ]
     },
     "execution_count": 7,
     "metadata": {},
     "output_type": "execute_result"
    }
   ],
   "source": [
    "mask_finished = df_mlf['status'] == 'FINISHED'\n",
    "mask_df_similarity_complete = ~df_mlf['metrics.df_sub_level_agg_a_post_only_similarity-rows'].isnull()\n",
    "\n",
    "df_mlf_clustering_candidates = df_mlf[mask_finished & mask_df_similarity_complete]\n",
    "df_mlf_clustering_candidates.shape"
   ]
  },
  {
   "cell_type": "code",
   "execution_count": 8,
   "id": "329d222c",
   "metadata": {},
   "outputs": [
    {
     "data": {
      "text/html": [
       "<div>\n",
       "<style scoped>\n",
       "    .dataframe tbody tr th:only-of-type {\n",
       "        vertical-align: middle;\n",
       "    }\n",
       "\n",
       "    .dataframe tbody tr th {\n",
       "        vertical-align: top;\n",
       "    }\n",
       "\n",
       "    .dataframe thead th {\n",
       "        text-align: right;\n",
       "    }\n",
       "</style>\n",
       "<table border=\"1\" class=\"dataframe\">\n",
       "  <thead>\n",
       "    <tr style=\"text-align: right;\">\n",
       "      <th></th>\n",
       "      <th>run_id</th>\n",
       "      <th>artifact_uri</th>\n",
       "      <th>start_time</th>\n",
       "      <th>end_time</th>\n",
       "      <th>metrics.memory_used</th>\n",
       "      <th>metrics.vectorizing_time_minutes</th>\n",
       "      <th>metrics.memory_free</th>\n",
       "      <th>metrics.memory_used_percent</th>\n",
       "      <th>params.memory_used</th>\n",
       "      <th>params.f_log_file</th>\n",
       "      <th>params.memory_free</th>\n",
       "      <th>params.memory_used_percent</th>\n",
       "      <th>params.run_name</th>\n",
       "      <th>tags.mlflow.runName</th>\n",
       "    </tr>\n",
       "  </thead>\n",
       "  <tbody>\n",
       "    <tr>\n",
       "      <th>0</th>\n",
       "      <td>cbb12818e82345dda96928bfdab8b16b</td>\n",
       "      <td>gs://i18n-subreddit-clustering/mlflow/mlruns/16/cbb12818e82345dda96928bfdab8b16b/artifacts</td>\n",
       "      <td>2021-10-12 10:46:05.235000+00:00</td>\n",
       "      <td>2021-10-12 16:41:33.492000+00:00</td>\n",
       "      <td>702999.0</td>\n",
       "      <td>355.468028</td>\n",
       "      <td>3465918.0</td>\n",
       "      <td>0.181436</td>\n",
       "      <td>278514</td>\n",
       "      <td>logs/AggregateEmbeddings/2021-10-12_10-46-05_agg_full_lc_false_pd-2021-10-12_104604.log</td>\n",
       "      <td>3465918</td>\n",
       "      <td>0.07188136995649137</td>\n",
       "      <td>agg_full_lc_false_pd-2021-10-12_104604</td>\n",
       "      <td>agg_full_lc_false_pd-2021-10-12_104604</td>\n",
       "    </tr>\n",
       "    <tr>\n",
       "      <th>1</th>\n",
       "      <td>0591fdae9b7d4da7ae3839767b8aab66</td>\n",
       "      <td>gs://i18n-subreddit-clustering/mlflow/mlruns/16/0591fdae9b7d4da7ae3839767b8aab66/artifacts</td>\n",
       "      <td>2021-10-12 10:27:33.324000+00:00</td>\n",
       "      <td>2021-10-12 16:40:41.501000+00:00</td>\n",
       "      <td>703208.0</td>\n",
       "      <td>373.134208</td>\n",
       "      <td>3681161.0</td>\n",
       "      <td>0.181490</td>\n",
       "      <td>64759</td>\n",
       "      <td>logs/AggregateEmbeddings/2021-10-12_10-27-33_agg_full_lc_false-2021-10-12_102732.log</td>\n",
       "      <td>3681161</td>\n",
       "      <td>0.016713578624458464</td>\n",
       "      <td>agg_full_lc_false-2021-10-12_102732</td>\n",
       "      <td>agg_full_lc_false-2021-10-12_102732</td>\n",
       "    </tr>\n",
       "  </tbody>\n",
       "</table>\n",
       "</div>"
      ],
      "text/plain": [
       "                             run_id                                                                                artifact_uri                       start_time                         end_time  metrics.memory_used  metrics.vectorizing_time_minutes  metrics.memory_free  \\\n",
       "0  cbb12818e82345dda96928bfdab8b16b  gs://i18n-subreddit-clustering/mlflow/mlruns/16/cbb12818e82345dda96928bfdab8b16b/artifacts 2021-10-12 10:46:05.235000+00:00 2021-10-12 16:41:33.492000+00:00             702999.0                        355.468028            3465918.0   \n",
       "1  0591fdae9b7d4da7ae3839767b8aab66  gs://i18n-subreddit-clustering/mlflow/mlruns/16/0591fdae9b7d4da7ae3839767b8aab66/artifacts 2021-10-12 10:27:33.324000+00:00 2021-10-12 16:40:41.501000+00:00             703208.0                        373.134208            3681161.0   \n",
       "\n",
       "   metrics.memory_used_percent params.memory_used                                                                        params.f_log_file params.memory_free params.memory_used_percent                         params.run_name                     tags.mlflow.runName  \n",
       "0                     0.181436             278514  logs/AggregateEmbeddings/2021-10-12_10-46-05_agg_full_lc_false_pd-2021-10-12_104604.log            3465918        0.07188136995649137  agg_full_lc_false_pd-2021-10-12_104604  agg_full_lc_false_pd-2021-10-12_104604  \n",
       "1                     0.181490              64759     logs/AggregateEmbeddings/2021-10-12_10-27-33_agg_full_lc_false-2021-10-12_102732.log            3681161       0.016713578624458464     agg_full_lc_false-2021-10-12_102732     agg_full_lc_false-2021-10-12_102732  "
      ]
     },
     "execution_count": 8,
     "metadata": {},
     "output_type": "execute_result"
    }
   ],
   "source": [
    "cols_with_multiple_vals = df_mlf_clustering_candidates.columns[df_mlf_clustering_candidates.nunique(dropna=False) > 1]\n",
    "\n",
    "df_mlf_clustering_candidates[cols_with_multiple_vals]"
   ]
  },
  {
   "cell_type": "markdown",
   "id": "07e8a46e",
   "metadata": {},
   "source": [
    "# Inspect config for clustering job\n",
    "\n",
    "This config should include:\n",
    "- data to load for clustering\n",
    "- parameters for clustering algo\n",
    "- hydra overrides to run jobs in parallel"
   ]
  },
  {
   "cell_type": "code",
   "execution_count": 9,
   "id": "6e2eba17",
   "metadata": {},
   "outputs": [
    {
     "name": "stdout",
     "output_type": "stream",
     "text": [
      "['data_text_and_metadata', 'data_embeddings_to_cluster', 'clustering_algo', 'embeddings_to_cluster', 'mlflow_tracking_uri', 'mlflow_experiment_name', 'pipeline']\n"
     ]
    }
   ],
   "source": [
    "test_experiment = 'v0.4.0_use_multi_clustering_test'\n",
    "\n",
    "cfg_cluster_test_v040 = LoadHydraConfig(\n",
    "    config_name='clustering_v0.4.0_base',\n",
    "    config_path=\"../config\",\n",
    "    overrides=[\n",
    "        f\"mlflow_experiment_name={test_experiment}\"\n",
    "#         f\"data_text_and_metadata=top_subreddits_2021_07_16\",\n",
    "#         f\"data_embeddings_to_cluster=top_subs-2021_07_16-use_multi_lower_case_false_00\",\n",
    "    ],\n",
    ")\n",
    "\n",
    "print([k for k in cfg_cluster_test_v040.config_dict.keys()])"
   ]
  },
  {
   "cell_type": "code",
   "execution_count": 10,
   "id": "e0f3a923",
   "metadata": {},
   "outputs": [
    {
     "data": {
      "text/plain": [
       "{'run_uuid': '0591fdae9b7d4da7ae3839767b8aab66',\n",
       " 'l_ix_sub': ['subreddit_name', 'subreddit_id'],\n",
       " 'l_ix_post': ['subreddit_name', 'post_id'],\n",
       " 'df_post_level_agg_b_post_and_comments': None,\n",
       " 'df_post_level_agg_c_post_comments_sub_desc': 'df_post_level_agg_c_post_comments_sub_desc',\n",
       " 'df_sub_level_agg_a_post_only': 'df_sub_level_agg_a_post_only',\n",
       " 'df_sub_level_agg_a_post_only_similarity': 'df_sub_level_agg_a_post_only_similarity',\n",
       " 'df_sub_level_agg_a_post_only_similarity_pair': 'df_sub_level_agg_a_post_only_similarity_pair',\n",
       " 'df_sub_level_agg_a_post_only_similarity_top_pair': 'df_sub_level_agg_a_post_only_similarity_top_pair',\n",
       " 'df_sub_level_agg_b_post_and_comments': None,\n",
       " 'df_sub_level_agg_b_post_and_comments_similarity': None,\n",
       " 'df_sub_level_agg_b_post_and_comments_similarity_pair': None,\n",
       " 'df_sub_level_agg_c_post_comments_and_sub_desc': 'df_sub_level_agg_c_post_comments_and_sub_desc',\n",
       " 'df_sub_level_agg_c_post_comments_and_sub_desc_similarity': 'df_sub_level_agg_c_post_comments_and_sub_desc_similarity',\n",
       " 'df_sub_level_agg_c_post_comments_and_sub_desc_similarity_pair': 'df_sub_level_agg_c_post_comments_and_sub_desc_similarity_pair',\n",
       " 'df_sub_level_agg_c_post_comments_and_sub_desc_similarity_top_pair': 'df_sub_level_agg_c_post_comments_and_sub_desc_similarity_top_pair'}"
      ]
     },
     "execution_count": 10,
     "metadata": {},
     "output_type": "execute_result"
    }
   ],
   "source": [
    "# data with embeddings\n",
    "cfg_cluster_test_v040.config_dict['data_embeddings_to_cluster']"
   ]
  },
  {
   "cell_type": "code",
   "execution_count": 11,
   "id": "0356cae7",
   "metadata": {},
   "outputs": [
    {
     "data": {
      "text/plain": [
       "{'model_name': 'AgglomerativeClustering',\n",
       " 'model_kwargs': {'n_clusters': 100,\n",
       "  'affinity': 'euclidean',\n",
       "  'linkage': 'ward',\n",
       "  'connectivity': False}}"
      ]
     },
     "execution_count": 11,
     "metadata": {},
     "output_type": "execute_result"
    }
   ],
   "source": [
    "# clustering algo\n",
    "cfg_cluster_test_v040.config_dict['clustering_algo']"
   ]
  },
  {
   "cell_type": "markdown",
   "id": "54bf0811",
   "metadata": {},
   "source": [
    "# Run commmand line fxn\n",
    "\n",
    "The clustering fxn is in `subclu.models.conlustering.py`\n",
    "\n",
    "Notes:\n",
    "- We need to use the `-m` flag to run as a submodule (and allow relative imports)\n",
    "- When using the `-m` flag, REMOVE the `.py` ending of the file!\n",
    "- In the command line for hydra we can override w/o having to use the `+` sign.\n",
    "    - https://hydra.cc/docs/tutorials/basic/your_first_app/config_file"
   ]
  },
  {
   "cell_type": "markdown",
   "id": "75aa7c02",
   "metadata": {},
   "source": [
    "## Check & set paths"
   ]
  },
  {
   "cell_type": "code",
   "execution_count": 12,
   "id": "33e8d276",
   "metadata": {},
   "outputs": [
    {
     "data": {
      "text/plain": [
       "'v0.4.0_use_multi_clustering_test'"
      ]
     },
     "execution_count": 12,
     "metadata": {},
     "output_type": "execute_result"
    }
   ],
   "source": [
    "test_experiment"
   ]
  },
  {
   "cell_type": "code",
   "execution_count": 13,
   "id": "6657348f",
   "metadata": {},
   "outputs": [
    {
     "data": {
      "text/plain": [
       "'/home/jupyter/subreddit_clustering_i18n/notebooks/v0.4.0'"
      ]
     },
     "execution_count": 13,
     "metadata": {},
     "output_type": "execute_result"
    }
   ],
   "source": [
    "os.getcwd()"
   ]
  },
  {
   "cell_type": "code",
   "execution_count": 14,
   "id": "86626df6",
   "metadata": {},
   "outputs": [],
   "source": [
    "path_djb_repo = '/home/david.bermejo/repos/subreddit_clustering_i18n/' \n",
    "path_djb_models = '/home/david.bermejo/repos/subreddit_clustering_i18n/subclu/models' \n",
    "file_clustering_py = 'subclu.models.clustering'"
   ]
  },
  {
   "cell_type": "code",
   "execution_count": 15,
   "id": "433ce6e9",
   "metadata": {},
   "outputs": [],
   "source": [
    "# !ls"
   ]
  },
  {
   "cell_type": "code",
   "execution_count": 16,
   "id": "c83b3976",
   "metadata": {},
   "outputs": [],
   "source": [
    "# !cd $path_djb_repo && ls"
   ]
  },
  {
   "cell_type": "code",
   "execution_count": 17,
   "id": "9f36f956",
   "metadata": {},
   "outputs": [],
   "source": [
    "# !cd $path_djb_models && ls"
   ]
  },
  {
   "cell_type": "markdown",
   "id": "cfa0b79d",
   "metadata": {},
   "source": [
    "## Run clustering from CLI\n",
    "\n",
    "```bash\n",
    "!cd $path_djb_repo && python -m $file_clustering_py mlflow_experiment_name=$test_experiment n_sample_embedding_rows=4000\n",
    "```"
   ]
  },
  {
   "cell_type": "code",
   "execution_count": 54,
   "id": "3208a423",
   "metadata": {},
   "outputs": [
    {
     "data": {
      "text/plain": [
       "'subclu.models.clustering'"
      ]
     },
     "execution_count": 54,
     "metadata": {},
     "output_type": "execute_result"
    }
   ],
   "source": [
    "file_clustering_py"
   ]
  },
  {
   "cell_type": "code",
   "execution_count": 66,
   "id": "6d52fcfb",
   "metadata": {},
   "outputs": [
    {
     "name": "stdout",
     "output_type": "stream",
     "text": [
      "CFG keys: dict_keys(['data_text_and_metadata', 'data_embeddings_to_cluster', 'clustering_algo', 'embeddings_to_cluster', 'n_sample_embedding_rows', 'filter_embeddings', 'mlflow_tracking_uri', 'mlflow_experiment_name', 'pipeline'])\n",
      "`2021-10-26 06:17:15,096` | `INFO` | `Define cluster class...`\n",
      "`2021-10-26 06:17:15,795` | `INFO` | `== Start run_aggregation() method ==`\n",
      "`2021-10-26 06:17:15,795` | `INFO` | `MLflow tracking URI: sqlite:////home/jupyter/subreddit_clustering_i18n/mlflow_sync/djb-100-2021-04-28-djb-eda-german-subs/mlruns.db`\n",
      "`2021-10-26 06:17:15,948` | `INFO` | `=== START CLUSTERING - Process ID 45575`\n",
      "`2021-10-26 06:17:16,047` | `INFO` | `host_name: djb-100-2021-04-28-djb-eda-german-subs`\n",
      "`2021-10-26 06:17:16,047` | `INFO` | `cpu_count: 96`\n",
      "`2021-10-26 06:17:16,116` | `INFO` | `RAM stats:\n",
      "{'memory_used_percent': '0.93%', 'memory_total': '628,888', 'memory_used': '5,852', 'memory_free': '619,916'}`\n",
      "`2021-10-26 06:17:16,209` | `INFO` | `Using hydra's path`\n",
      "  Current working directory : /home/jupyter/subreddit_clustering_i18n/hydra_runs/outputs/2021-10-26/06-17-15\n",
      "  Orig working directory    : /home/david.bermejo/repos/subreddit_clustering_i18n\n",
      "`2021-10-26 06:17:16,424` | `INFO` | `  Saving config to local path...`\n",
      "`2021-10-26 06:17:16,436` | `INFO` | `  Logging config to mlflow with joblib...`\n",
      "`2021-10-26 06:17:16,624` | `WARNING` | `  Could not save config to JSON. \n",
      "Object of type DictConfig is not JSON serializable`\n",
      "`2021-10-26 06:17:16,624` | `INFO` | `  Logging config to mlflow with YAML...`\n",
      "`2021-10-26 06:17:16,820` | `INFO` | `Creating pipeline...`\n",
      "`2021-10-26 06:17:16,821` | `INFO` | `Checking custom pipeline config...\n",
      "  {'normalize': {'add_step': True, 'name': 'Normalizer', 'kwargs': {'norm': 'l2'}}, 'reduce': {'add_step': False, 'name': 'TruncatedSVD', 'kwargs': {'n_components': 50}}}`\n",
      "`2021-10-26 06:17:16,821` | `INFO` | `  Adding step: normalize`\n",
      "`2021-10-26 06:17:16,824` | `INFO` | `  Pipeline to train:\n",
      "  Pipeline(steps=[('normalize', Normalizer()),\n",
      "                ('cluster',\n",
      "                 AgglomerativeClustering(compute_distances=True,\n",
      "                                         compute_full_tree=True,\n",
      "                                         n_clusters=65))])`\n",
      "`2021-10-26 06:17:16,824` | `INFO` | `Loading embeddings...`\n",
      "`2021-10-26 06:17:17,620` | `INFO` | `Local folder to download artifact(s):\n",
      "  /home/jupyter/subreddit_clustering_i18n/data/local_cache/mlflow/mlruns/16/0591fdae9b7d4da7ae3839767b8aab66/artifacts/df_sub_level_agg_c_post_comments_and_sub_desc`\n",
      "100%|##################################| 2176/2176 [00:00<00:00, 1178412.59it/s]\n",
      "`2021-10-26 06:17:17,991` | `INFO` | `  Parquet files found:     3`\n",
      "`2021-10-26 06:17:17,991` | `INFO` | `  Parquet files to use:     3`\n",
      "`2021-10-26 06:17:18,230` | `INFO` | `  SAMPLING n_rows: 4000`\n",
      "`2021-10-26 06:17:18,253` | `INFO` | `    4,000 |   515 <- df_embeddings SHAPE`\n",
      "`2021-10-26 06:17:18,319` | `INFO` | `RAM stats:\n",
      "{'memory_used_percent': '1.01%', 'memory_used': '6,372'}`\n",
      "`2021-10-26 06:17:18,374` | `INFO` | `-- Loading data to filter SUBREDDITS`\n",
      "`2021-10-26 06:17:18,374` | `WARNING` | `** Loading metadata **`\n",
      "`2021-10-26 06:17:18,374` | `INFO` | `Loading df_posts from: posts/top/2021-09-27`\n",
      "`2021-10-26 06:17:18,374` | `INFO` | `Reading raw data...`\n",
      "`2021-10-26 06:17:18,379` | `INFO` | `  Local folder to download artifact(s):\n",
      "  /home/jupyter/subreddit_clustering_i18n/data/local_cache/posts/top/2021-09-27`\n",
      "100%|##############################| 27/27 [00:00<00:00, 73632.12it/s]\n",
      "`2021-10-26 06:17:18,536` | `INFO` | `  Applying transformations...`\n",
      "`2021-10-26 06:17:18,541` | `ERROR` | `Error creating manual topic... 'combined_topic_and_rating'`\n",
      "`2021-10-26 06:17:22,065` | `INFO` | `  reading sub-level data & merging with aggregates...`\n",
      "`2021-10-26 06:17:22,065` | `INFO` | `Reading raw data...`\n",
      "`2021-10-26 06:17:22,070` | `INFO` | `  Local folder to download artifact(s):\n",
      "  /home/jupyter/subreddit_clustering_i18n/data/local_cache/subreddits/top/2021-09-24`\n",
      "100%|################################| 1/1 [00:00<00:00, 10180.35it/s]\n",
      "`2021-10-26 06:17:22,458` | `INFO` | `  Applying transformations...`\n",
      "`2021-10-26 06:17:29,797` | `INFO` | `** Applying filters... **`\n",
      "`2021-10-26 06:17:29,798` | `INFO` | `  posts_for_modeling_count >= 9`\n",
      "`2021-10-26 06:17:29,828` | `INFO` | `  Subreddits to drop: 53`\n",
      "`2021-10-26 06:17:29,839` | `INFO` | `    3,947 |   516 <- df_embeddings SHAPE FILTERED`\n",
      "`2021-10-26 06:17:29,927` | `INFO` | `RAM stats:\n",
      "{'memory_used_percent': '1.07%', 'memory_used': '6,721'}`\n",
      "`2021-10-26 06:17:29,986` | `INFO` | `-- Training clustering model --`\n",
      "`2021-10-26 06:17:33,162` | `INFO` | `  0:00:03.175424 <- Model fit() time time elapsed`\n",
      "`2021-10-26 06:17:33,239` | `INFO` | `RAM stats:\n",
      "{'memory_used_percent': '1.07%', 'memory_used': '6,715'}`\n",
      "`2021-10-26 06:17:33,293` | `INFO` | `Logging pipeline params...`\n",
      "`2021-10-26 06:17:33,293` | `INFO` | `  Saving pipeline params to: /home/jupyter/subreddit_clustering_i18n/hydra_runs/outputs/2021-10-26/06-17-15/pipeline_params`\n",
      "`2021-10-26 06:17:33,297` | `INFO` | `  Logging pipeline params to mlflow...`\n",
      "`2021-10-26 06:17:33,807` | `INFO` | `  normalize__copy: True`\n",
      "`2021-10-26 06:17:33,831` | `INFO` | `  normalize__norm: l2`\n",
      "`2021-10-26 06:17:33,856` | `INFO` | `  cluster__affinity: euclidean`\n",
      "`2021-10-26 06:17:33,880` | `INFO` | `  cluster__compute_distances: True`\n",
      "`2021-10-26 06:17:33,904` | `INFO` | `  cluster__compute_full_tree: True`\n",
      "`2021-10-26 06:17:33,933` | `INFO` | `  cluster__connectivity: None`\n",
      "`2021-10-26 06:17:33,958` | `INFO` | `  cluster__distance_threshold: None`\n",
      "`2021-10-26 06:17:33,985` | `INFO` | `  cluster__linkage: ward`\n",
      "`2021-10-26 06:17:34,010` | `INFO` | `  cluster__memory: None`\n",
      "`2021-10-26 06:17:34,035` | `INFO` | `  cluster__n_clusters: 65`\n",
      "`2021-10-26 06:17:34,036` | `INFO` | `Getting model signature...`\n",
      "`2021-10-26 06:17:34,036` | `WARNING` | ` Model-SCHEMA is currently null`\n",
      "`2021-10-26 06:17:34,036` | `INFO` | `  Logging model to mlflow...`\n",
      "`2021-10-26 06:17:34,539` | `INFO` | `-- Get linkage matrix for model --`\n",
      "`2021-10-26 06:17:34,965` | `INFO` | `-- Get optimal k-values --`\n",
      "Figure(1400x800)\n",
      "Figure(1400x800)\n",
      "`2021-10-26 06:17:36,820` | `INFO` | `  Creating dendrograms...`\n",
      "`2021-10-26 06:17:36,820` | `INFO` | `  40`\n",
      "Figure(1400x800)\n",
      "Figure(1400x800)\n",
      "`2021-10-26 06:17:37,769` | `INFO` | `progress:  33%|######6             | 1/3 [00:00<00:01,  1.05it/s]`\n",
      "`2021-10-26 06:17:37,770` | `INFO` | `  64`\n",
      "Figure(1400x800)\n",
      "Figure(1400x800)\n",
      "`2021-10-26 06:17:39,901` | `INFO` | `progress:  67%|#############3      | 2/3 [00:03<00:01,  1.64s/it]`\n",
      "`2021-10-26 06:17:39,902` | `INFO` | `  108`\n",
      "Figure(1400x800)\n",
      "Figure(1400x800)\n",
      "`2021-10-26 06:17:42,912` | `INFO` | `progress: 100%|####################| 3/3 [00:06<00:00,  2.27s/it]`\n",
      "`2021-10-26 06:17:42,913` | `INFO` | `progress: 100%|####################| 3/3 [00:06<00:00,  2.03s/it]`\n",
      "\n",
      "`2021-10-26 06:17:43,784` | `INFO` | `RAM stats:\n",
      "{'memory_used_percent': '1.07%', 'memory_used': '6,758'}`\n",
      "`2021-10-26 06:17:43,850` | `INFO` | `  Add the model's sort order (distances) to df_labels`\n",
      "`2021-10-26 06:17:43,861` | `INFO` | `Get cluster IDs for each designated k...`\n",
      "`2021-10-26 06:17:44,160` | `INFO` | `progress: 100%|#################| 32/32 [00:00<00:00, 107.30it/s]`\n",
      "\n",
      "`2021-10-26 06:17:44,160` | `INFO` | `(3947, 37)`\n",
      "`2021-10-26 06:17:44,160` | `INFO` | `-- Get true labels & metrics --`\n",
      "`2021-10-26 06:17:44,160` | `INFO` | `  k: 010_k`\n",
      "`2021-10-26 06:17:44,237` | `INFO` | `  k: 016_k`\n",
      "`2021-10-26 06:17:44,418` | `INFO` | `  k: 020_k`\n",
      "`2021-10-26 06:17:44,499` | `INFO` | `  k: 030_k`\n",
      "`2021-10-26 06:17:44,582` | `INFO` | `  k: 033_k`\n",
      "`2021-10-26 06:17:44,766` | `INFO` | `  k: 040_k`\n",
      "`2021-10-26 06:17:44,848` | `INFO` | `  k: 050_k`\n",
      "`2021-10-26 06:17:44,934` | `INFO` | `  k: 060_k`\n",
      "`2021-10-26 06:17:45,021` | `INFO` | `progress:  25%|####7              | 8/32 [00:00<00:02,  9.29it/s]`\n",
      "`2021-10-26 06:17:45,021` | `INFO` | `  k: 063_k`\n",
      "`2021-10-26 06:17:45,208` | `INFO` | `  k: 070_k`\n",
      "`2021-10-26 06:17:45,297` | `INFO` | `  k: 080_k`\n",
      "`2021-10-26 06:17:45,387` | `INFO` | `  k: 090_k`\n",
      "`2021-10-26 06:17:45,476` | `INFO` | `  k: 100_k`\n",
      "`2021-10-26 06:17:45,573` | `INFO` | `  k: 107_k`\n",
      "`2021-10-26 06:17:45,773` | `INFO` | `  k: 110_k`\n",
      "`2021-10-26 06:17:45,866` | `INFO` | `  k: 120_k`\n",
      "`2021-10-26 06:17:46,128` | `INFO` | `progress:  50%|#########         | 16/32 [00:01<00:02,  7.96it/s]`\n",
      "`2021-10-26 06:17:46,128` | `INFO` | `  k: 130_k`\n",
      "`2021-10-26 06:17:46,222` | `INFO` | `  k: 140_k`\n",
      "`2021-10-26 06:17:46,316` | `INFO` | `  k: 150_k`\n",
      "`2021-10-26 06:17:46,407` | `INFO` | `  k: 160_k`\n",
      "`2021-10-26 06:17:46,500` | `INFO` | `  k: 170_k`\n",
      "`2021-10-26 06:17:46,598` | `INFO` | `  k: 180_k`\n",
      "`2021-10-26 06:17:46,698` | `INFO` | `  k: 190_k`\n",
      "`2021-10-26 06:17:46,796` | `INFO` | `  k: 200_k`\n",
      "`2021-10-26 06:17:46,894` | `INFO` | `  k: 210_k`\n",
      "`2021-10-26 06:17:46,992` | `INFO` | `progress:  78%|##############    | 25/32 [00:02<00:00,  8.99it/s]`\n",
      "`2021-10-26 06:17:46,992` | `INFO` | `  k: 220_k`\n",
      "`2021-10-26 06:17:47,095` | `INFO` | `  k: 228_k`\n",
      "`2021-10-26 06:17:47,295` | `INFO` | `  k: 230_k`\n",
      "`2021-10-26 06:17:47,400` | `INFO` | `  k: 240_k`\n",
      "`2021-10-26 06:17:47,508` | `INFO` | `  k: 250_k`\n",
      "`2021-10-26 06:17:47,614` | `INFO` | `  k: 306_k`\n",
      "`2021-10-26 06:17:47,826` | `INFO` | `  k: 408_k`\n",
      "`2021-10-26 06:17:48,033` | `INFO` | `progress: 100%|##################| 32/32 [00:03<00:00,  8.26it/s]`\n",
      "\n",
      "`2021-10-26 06:17:48,034` | `INFO` | `(32, 6) <- df_supervised metrics shape`\n",
      "`2021-10-26 06:17:48,035` | `INFO` | `  Saving df_supervised_metrics...`\n",
      "`2021-10-26 06:17:48,348` | `INFO` | `  Plotting supervised metrics...`\n",
      "`2021-10-26 06:17:50,642` | `INFO` | `  0:00:34.846670 <- Total Clustering fxn time time elapsed`\n",
      "`2021-10-26 06:17:50,677` | `INFO` | `=== END clustering ===`\n",
      "`2021-10-26 06:17:50,677` | `INFO` | `  Uploading logs to mlflow...`\n"
     ]
    }
   ],
   "source": [
    "# run on sample data, test experiment\n",
    "\n",
    "!cd $path_djb_repo && python -m $file_clustering_py mlflow_experiment_name=$test_experiment n_sample_embedding_rows=4000 filter_embeddings.filter_subreddits.minimum_column_value=9"
   ]
  },
  {
   "cell_type": "markdown",
   "id": "84a3c08b",
   "metadata": {},
   "source": [
    "## Test multirun\n",
    "\n",
    "Jobs can run in parallel with `--multirun` flag!"
   ]
  },
  {
   "cell_type": "code",
   "execution_count": null,
   "id": "1ed330ac",
   "metadata": {},
   "outputs": [],
   "source": [
    "# run on sample data, multi-run\n",
    "\n",
    "!cd $path_djb_repo && python -m $file_clustering_py --multirun \\\n",
    "    \"filter_embeddings.filter_subreddits.minimum_column_value=range(2, 10, 1)\" \\\n",
    "    mlflow_experiment_name=$test_experiment \\\n",
    "    n_sample_embedding_rows=4000"
   ]
  },
  {
   "cell_type": "markdown",
   "id": "87bd2a5f",
   "metadata": {},
   "source": [
    "## Run on full data (one job)"
   ]
  },
  {
   "cell_type": "code",
   "execution_count": 40,
   "id": "e205405b",
   "metadata": {},
   "outputs": [],
   "source": [
    "# # run on full data, still a test\n",
    "\n",
    "# !cd $path_djb_repo && python -m $file_clustering_py mlflow_experiment_name=$test_experiment"
   ]
  },
  {
   "cell_type": "code",
   "execution_count": 56,
   "id": "736cc562",
   "metadata": {},
   "outputs": [],
   "source": [
    "# # # run on full data, no longer a test\n",
    "\n",
    "# !cd $path_djb_repo && python -m $file_clustering_py"
   ]
  },
  {
   "cell_type": "markdown",
   "id": "d57d2b4b",
   "metadata": {},
   "source": [
    "## Run on full data (multijob)"
   ]
  },
  {
   "cell_type": "code",
   "execution_count": 76,
   "id": "9a695b3f",
   "metadata": {},
   "outputs": [],
   "source": [
    "# ward-related jobs\n",
    "!cd $path_djb_repo && python -m $file_clustering_py --multirun \\\n",
    "    \"filter_embeddings.filter_subreddits.minimum_column_value=range(2, 10, 1)\" \\\n",
    "    \"pipeline.normalize.add_step=choice(false, true)\" \\\n",
    "    \"pipeline.reduce.add_step=choice(false, true)\""
   ]
  },
  {
   "cell_type": "code",
   "execution_count": 75,
   "id": "42ef82e6",
   "metadata": {},
   "outputs": [],
   "source": [
    "# non-ward linkages\n",
    "\n",
    "!cd $path_djb_repo && python -m $file_clustering_py --multirun \\\n",
    "    \"clustering_algo.model_kwargs.linkage=choice('complete', 'average')\" \\\n",
    "    \"clustering_algo.model_kwargs.affinity=choice('cosine', 'euclidean')\" \\\n",
    "    \"filter_embeddings.filter_subreddits.minimum_column_value=range(2, 10, 1)\" \\\n",
    "    \"pipeline.reduce.add_step=choice(false, true)\" \\\n",
    "    \"pipeline.normalize.add_step=false\""
   ]
  },
  {
   "cell_type": "code",
   "execution_count": null,
   "id": "ae95c293",
   "metadata": {},
   "outputs": [],
   "source": []
  }
 ],
 "metadata": {
  "environment": {
   "name": "common-cpu.m65",
   "type": "gcloud",
   "uri": "gcr.io/deeplearning-platform-release/base-cpu:m65"
  },
  "kernelspec": {
   "display_name": "Python 3",
   "language": "python",
   "name": "python3"
  },
  "language_info": {
   "codemirror_mode": {
    "name": "ipython",
    "version": 3
   },
   "file_extension": ".py",
   "mimetype": "text/x-python",
   "name": "python",
   "nbconvert_exporter": "python",
   "pygments_lexer": "ipython3",
   "version": "3.7.10"
  }
 },
 "nbformat": 4,
 "nbformat_minor": 5
}
