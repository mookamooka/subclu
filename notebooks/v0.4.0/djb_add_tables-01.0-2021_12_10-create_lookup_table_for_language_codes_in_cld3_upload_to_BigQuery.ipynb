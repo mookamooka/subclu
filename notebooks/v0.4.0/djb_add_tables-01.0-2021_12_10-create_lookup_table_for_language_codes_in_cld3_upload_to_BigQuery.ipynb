{
  "nbformat": 4,
  "nbformat_minor": 0,
  "metadata": {
    "colab": {
      "name": "djb_add_tables-01.0-2021_12_10-create_lookup_table_for_language_codes_in_cld3_upload_to_BigQuery.ipynb",
      "provenance": [],
      "collapsed_sections": []
    },
    "kernelspec": {
      "name": "python3",
      "display_name": "Python 3"
    },
    "language_info": {
      "name": "python"
    }
  },
  "cells": [
    {
      "cell_type": "markdown",
      "metadata": {
        "id": "iVZuLSOgZVC8"
      },
      "source": [
        "# Purpose\n",
        "\n",
        "### 2021-12-10\n",
        "The CLD3 language codes are not the same as the georelevant codes, so we need a table to make it easier to investigate detected language.\n",
        "\n",
        "In this table I also\n",
        "- flag whether a language is included in USE-multilingual (the model used for initial round of topic models)\n",
        "- Group languages that are not common at reddit as `\"Other_language\"`\n"
      ]
    },
    {
      "cell_type": "markdown",
      "metadata": {
        "id": "c2qXnQ5IV9Z7"
      },
      "source": [
        "# Imports & notebook setup"
      ]
    },
    {
      "cell_type": "code",
      "metadata": {
        "id": "pCuWmkxaGYwm"
      },
      "source": [
        "%load_ext google.colab.data_table\n",
        "%load_ext autoreload\n",
        "%autoreload 2"
      ],
      "execution_count": 1,
      "outputs": []
    },
    {
      "cell_type": "code",
      "metadata": {
        "colab": {
          "base_uri": "https://localhost:8080/"
        },
        "id": "tS4ktaPaGwbh",
        "outputId": "9f3ceaf3-eda5-4a64-ec19-4ce09653ceb0"
      },
      "source": [
        "# colab auth for BigQuery & google drive\n",
        "from google.colab import auth, files, drive\n",
        "import sys  # need sys for mounting gdrive path\n",
        "\n",
        "auth.authenticate_user()\n",
        "print('Authenticated')"
      ],
      "execution_count": 2,
      "outputs": [
        {
          "output_type": "stream",
          "name": "stdout",
          "text": [
            "Authenticated\n"
          ]
        }
      ]
    },
    {
      "cell_type": "markdown",
      "metadata": {
        "id": "WmpqyhUJs0D6"
      },
      "source": [
        "### attach up my drive + install my code"
      ]
    },
    {
      "cell_type": "code",
      "metadata": {
        "colab": {
          "base_uri": "https://localhost:8080/"
        },
        "id": "kuOoJT3noOPE",
        "outputId": "2c87b480-dc40-4cb0-feb1-9136b3638c9d"
      },
      "source": [
        "# Attach google drive & import my python utility functions\n",
        "# if drive.mount() fails, you can also:\n",
        "#   MANUALLY CLICK ON \"Mount Drive\"\n",
        "g_drive_root = '/content/drive'\n",
        "\n",
        "try:\n",
        "    drive._mount(g_drive_root, force_remount=True)\n",
        "    print('   Authenticated & mounted Google Drive')\n",
        "    \n",
        "except Exception as e:\n",
        "    try:\n",
        "        drive.mount(g_drive_root, force_remount=True)\n",
        "        print('   Authenticated & mounted Google Drive')\n",
        "    except Exception as e:\n",
        "        print(e)\n",
        "        raise Exception('You might need to manually mount google drive to colab')\n",
        "\n",
        "l_paths_to_append = [\n",
        "    f'{g_drive_root}/MyDrive/Colab Notebooks',\n",
        "\n",
        "    # need to append the path to subclu so that colab can import things properly\n",
        "    f'{g_drive_root}/MyDrive/Colab Notebooks/subreddit_clustering_i18n'\n",
        "]\n",
        "for path_ in l_paths_to_append:\n",
        "    if path_ in sys.path:\n",
        "        sys.path.remove(path_)\n",
        "    print(f\" Appending path: {path_}\")\n",
        "    sys.path.append(path_)"
      ],
      "execution_count": 4,
      "outputs": [
        {
          "output_type": "stream",
          "name": "stdout",
          "text": [
            "Mounted at /content/drive\n",
            "   Authenticated & mounted Google Drive\n",
            " Appending path: /content/drive/MyDrive/Colab Notebooks\n",
            " Appending path: /content/drive/MyDrive/Colab Notebooks/subreddit_clustering_i18n\n"
          ]
        }
      ]
    },
    {
      "cell_type": "markdown",
      "source": [
        "### Install libraries"
      ],
      "metadata": {
        "id": "5S4vyQQrwLzC"
      }
    },
    {
      "cell_type": "code",
      "metadata": {
        "id": "Tpp8E6Njt7_C",
        "colab": {
          "base_uri": "https://localhost:8080/"
        },
        "outputId": "7b4d5816-1ffe-4db0-d45d-e22c10e8f221"
      },
      "source": [
        "# install subclu & libraries needed to read parquet files from GCS & spreadsheets\n",
        "#  make sure to use the [colab] `extra` because it includes colab-specific libraries\n",
        "module_path = f\"{g_drive_root}/MyDrive/Colab Notebooks/subreddit_clustering_i18n/[colab]\"\n",
        "\n",
        "!pip install -e $\"$module_path\" --quiet"
      ],
      "execution_count": 6,
      "outputs": [
        {
          "output_type": "stream",
          "name": "stdout",
          "text": [
            "\u001b[K     |████████████████████████████████| 10.1 MB 4.3 MB/s \n",
            "\u001b[K     |████████████████████████████████| 14.2 MB 25.8 MB/s \n",
            "\u001b[K     |████████████████████████████████| 965 kB 65.5 MB/s \n",
            "\u001b[K     |████████████████████████████████| 144 kB 56.9 MB/s \n",
            "\u001b[K     |████████████████████████████████| 285 kB 49.6 MB/s \n",
            "\u001b[K     |████████████████████████████████| 13.2 MB 14.4 MB/s \n",
            "\u001b[K     |████████████████████████████████| 79.9 MB 118 kB/s \n",
            "\u001b[K     |████████████████████████████████| 132 kB 57.2 MB/s \n",
            "\u001b[K     |████████████████████████████████| 715 kB 22.8 MB/s \n",
            "\u001b[K     |████████████████████████████████| 112 kB 49.4 MB/s \n",
            "\u001b[K     |████████████████████████████████| 74 kB 2.7 MB/s \n",
            "\u001b[K     |████████████████████████████████| 79 kB 5.2 MB/s \n",
            "\u001b[K     |████████████████████████████████| 146 kB 56.9 MB/s \n",
            "\u001b[K     |████████████████████████████████| 58 kB 4.9 MB/s \n",
            "\u001b[K     |████████████████████████████████| 180 kB 60.8 MB/s \n",
            "\u001b[K     |████████████████████████████████| 1.1 MB 62.4 MB/s \n",
            "\u001b[K     |████████████████████████████████| 596 kB 63.4 MB/s \n",
            "\u001b[K     |████████████████████████████████| 75 kB 4.1 MB/s \n",
            "\u001b[K     |████████████████████████████████| 53 kB 1.6 MB/s \n",
            "\u001b[K     |████████████████████████████████| 1.1 MB 49.3 MB/s \n",
            "\u001b[K     |████████████████████████████████| 160 kB 52.8 MB/s \n",
            "\u001b[K     |████████████████████████████████| 192 kB 53.9 MB/s \n",
            "\u001b[K     |████████████████████████████████| 271 kB 54.7 MB/s \n",
            "\u001b[K     |████████████████████████████████| 63 kB 1.5 MB/s \n",
            "\u001b[?25h  Building wheel for antlr4-python3-runtime (setup.py) ... \u001b[?25l\u001b[?25hdone\n",
            "  Building wheel for alembic (setup.py) ... \u001b[?25l\u001b[?25hdone\n",
            "  Building wheel for databricks-cli (setup.py) ... \u001b[?25l\u001b[?25hdone\n",
            "\u001b[31mERROR: pip's dependency resolver does not currently take into account all the packages that are installed. This behaviour is the source of the following dependency conflicts.\n",
            "gym 0.17.3 requires cloudpickle<1.7.0,>=1.2.0, but you have cloudpickle 2.0.0 which is incompatible.\u001b[0m\n"
          ]
        }
      ]
    },
    {
      "cell_type": "markdown",
      "source": [
        "## General imports"
      ],
      "metadata": {
        "id": "KN2A7TI4wY6w"
      }
    },
    {
      "cell_type": "code",
      "metadata": {
        "id": "9TpWbXh5mzew"
      },
      "source": [
        "# Regular Imports\n",
        "import os\n",
        "from datetime import datetime\n",
        "\n",
        "from google.cloud import bigquery\n",
        "\n",
        "import matplotlib.pyplot as plt\n",
        "import pandas as pd\n",
        "import numpy as np\n",
        "import seaborn as sns\n",
        "from matplotlib_venn import venn2_unweighted, venn3_unweighted\n",
        "\n",
        "\n",
        "# Set env variable needed by some libraries to get datay from BigQuery\n",
        "# os.environ['GOOGLE_CLOUD_PROJECT'] = 'data-science-prod-218515'\n",
        "os.environ['GOOGLE_CLOUD_PROJECT'] = 'data-prod-165221'"
      ],
      "execution_count": 10,
      "outputs": []
    },
    {
      "cell_type": "markdown",
      "source": [
        "### `subclu` imports (custom module)"
      ],
      "metadata": {
        "id": "fs3GEKZ6wnl0"
      }
    },
    {
      "cell_type": "code",
      "metadata": {
        "id": "lcpwywCqux1s",
        "colab": {
          "base_uri": "https://localhost:8080/"
        },
        "outputId": "b2b2b663-648e-4d71-8e48-a737cf26ef3d"
      },
      "source": [
        "# subclu imports\n",
        "\n",
        "# For reloading, need to force-delete some imported items\n",
        "try:\n",
        "    del LoadPosts, LoadSubreddits\n",
        "    del (\n",
        "        L_CLD3_CODES_FOR_TOP_LANGUAGES_USED_AT_REDDIT,\n",
        "        L_CLD3_CODES_FOR_TOP_LANGUAGES_AND_USE_MULTILINGUAL,\n",
        "        D_CLD3_CODE_TO_LANGUAGE_NAME,\n",
        "    )\n",
        "except Exception:\n",
        "    pass\n",
        "\n",
        "from subclu.utils.hydra_config_loader import LoadHydraConfig\n",
        "from subclu.data.data_loaders import LoadPosts, LoadSubreddits\n",
        "from subclu.utils.eda import (\n",
        "    setup_logging, counts_describe, value_counts_and_pcts,\n",
        "    notebook_display_config, print_lib_versions,\n",
        "    style_df_numeric, reorder_array,\n",
        ")\n",
        "from subclu.utils.language_code_mapping import (\n",
        "    DF_LANGUAGE_MAPPING,\n",
        "    L_CLD3_CODES_FOR_TOP_LANGUAGES_USED_AT_REDDIT,\n",
        "    L_CLD3_CODES_FOR_TOP_LANGUAGES_AND_USE_MULTILINGUAL,\n",
        "    D_CLD3_CODE_TO_LANGUAGE_NAME,\n",
        ")\n",
        "\n",
        "setup_logging()\n",
        "print_lib_versions([pd, np])"
      ],
      "execution_count": 17,
      "outputs": [
        {
          "output_type": "stream",
          "name": "stdout",
          "text": [
            "python\t\tv 3.7.12\n",
            "===\n",
            "pandas\t\tv: 1.1.5\n",
            "numpy\t\tv: 1.19.5\n"
          ]
        }
      ]
    },
    {
      "cell_type": "markdown",
      "source": [
        "# Load df with codes & languages\n",
        "\n",
        "- `language_name` = default name\n",
        "- `language_name_top_only` = only show names of top ~40 languages and group other languages as `Other_language`.\n",
        "\n",
        "Reference article (external analysis) on comments for on week:\n",
        "- https://towardsdatascience.com/the-most-popular-languages-on-reddit-analyzed-with-snowflake-and-a-java-udtf-4e58c8ba473c"
      ],
      "metadata": {
        "id": "aP-I3R6MxTyE"
      }
    },
    {
      "cell_type": "code",
      "source": [
        "DF_LANGUAGE_MAPPING.shape"
      ],
      "metadata": {
        "colab": {
          "base_uri": "https://localhost:8080/"
        },
        "id": "WIy7FW0axe-F",
        "outputId": "0bafb4fa-0554-4298-e5eb-0c2682e8fc78"
      },
      "execution_count": 18,
      "outputs": [
        {
          "output_type": "execute_result",
          "data": {
            "text/plain": [
              "(112, 4)"
            ]
          },
          "metadata": {},
          "execution_count": 18
        }
      ]
    },
    {
      "cell_type": "code",
      "source": [
        "counts_describe(DF_LANGUAGE_MAPPING)"
      ],
      "metadata": {
        "colab": {
          "base_uri": "https://localhost:8080/",
          "height": 175
        },
        "id": "NbBNNVYYxlqG",
        "outputId": "13c1050b-09b9-4a72-e974-c9a5ca29ba5d"
      },
      "execution_count": 20,
      "outputs": [
        {
          "output_type": "execute_result",
          "data": {
            "text/html": [
              "<style  type=\"text/css\" >\n",
              "</style><table id=\"T_aac9b334_59ed_11ec_a7be_0242ac1c0002\" class=\"dataframe\"><thead>    <tr>        <th class=\"blank level0\" ></th>        <th class=\"col_heading level0 col0\" >dtype</th>        <th class=\"col_heading level0 col1\" >count</th>        <th class=\"col_heading level0 col2\" >unique</th>        <th class=\"col_heading level0 col3\" >unique-percent</th>        <th class=\"col_heading level0 col4\" >null-count</th>        <th class=\"col_heading level0 col5\" >null-percent</th>    </tr></thead><tbody>\n",
              "                <tr>\n",
              "                        <th id=\"T_aac9b334_59ed_11ec_a7be_0242ac1c0002level0_row0\" class=\"row_heading level0 row0\" >language_code</th>\n",
              "                        <td id=\"T_aac9b334_59ed_11ec_a7be_0242ac1c0002row0_col0\" class=\"data row0 col0\" >object</td>\n",
              "                        <td id=\"T_aac9b334_59ed_11ec_a7be_0242ac1c0002row0_col1\" class=\"data row0 col1\" >112</td>\n",
              "                        <td id=\"T_aac9b334_59ed_11ec_a7be_0242ac1c0002row0_col2\" class=\"data row0 col2\" >112</td>\n",
              "                        <td id=\"T_aac9b334_59ed_11ec_a7be_0242ac1c0002row0_col3\" class=\"data row0 col3\" >100.00%</td>\n",
              "                        <td id=\"T_aac9b334_59ed_11ec_a7be_0242ac1c0002row0_col4\" class=\"data row0 col4\" >0</td>\n",
              "                        <td id=\"T_aac9b334_59ed_11ec_a7be_0242ac1c0002row0_col5\" class=\"data row0 col5\" >0.00%</td>\n",
              "            </tr>\n",
              "            <tr>\n",
              "                        <th id=\"T_aac9b334_59ed_11ec_a7be_0242ac1c0002level0_row1\" class=\"row_heading level0 row1\" >language_name</th>\n",
              "                        <td id=\"T_aac9b334_59ed_11ec_a7be_0242ac1c0002row1_col0\" class=\"data row1 col0\" >object</td>\n",
              "                        <td id=\"T_aac9b334_59ed_11ec_a7be_0242ac1c0002row1_col1\" class=\"data row1 col1\" >112</td>\n",
              "                        <td id=\"T_aac9b334_59ed_11ec_a7be_0242ac1c0002row1_col2\" class=\"data row1 col2\" >103</td>\n",
              "                        <td id=\"T_aac9b334_59ed_11ec_a7be_0242ac1c0002row1_col3\" class=\"data row1 col3\" >91.96%</td>\n",
              "                        <td id=\"T_aac9b334_59ed_11ec_a7be_0242ac1c0002row1_col4\" class=\"data row1 col4\" >0</td>\n",
              "                        <td id=\"T_aac9b334_59ed_11ec_a7be_0242ac1c0002row1_col5\" class=\"data row1 col5\" >0.00%</td>\n",
              "            </tr>\n",
              "            <tr>\n",
              "                        <th id=\"T_aac9b334_59ed_11ec_a7be_0242ac1c0002level0_row2\" class=\"row_heading level0 row2\" >language_name_top_only</th>\n",
              "                        <td id=\"T_aac9b334_59ed_11ec_a7be_0242ac1c0002row2_col0\" class=\"data row2 col0\" >object</td>\n",
              "                        <td id=\"T_aac9b334_59ed_11ec_a7be_0242ac1c0002row2_col1\" class=\"data row2 col1\" >112</td>\n",
              "                        <td id=\"T_aac9b334_59ed_11ec_a7be_0242ac1c0002row2_col2\" class=\"data row2 col2\" >48</td>\n",
              "                        <td id=\"T_aac9b334_59ed_11ec_a7be_0242ac1c0002row2_col3\" class=\"data row2 col3\" >42.86%</td>\n",
              "                        <td id=\"T_aac9b334_59ed_11ec_a7be_0242ac1c0002row2_col4\" class=\"data row2 col4\" >0</td>\n",
              "                        <td id=\"T_aac9b334_59ed_11ec_a7be_0242ac1c0002row2_col5\" class=\"data row2 col5\" >0.00%</td>\n",
              "            </tr>\n",
              "            <tr>\n",
              "                        <th id=\"T_aac9b334_59ed_11ec_a7be_0242ac1c0002level0_row3\" class=\"row_heading level0 row3\" >language_in_use_multilingual</th>\n",
              "                        <td id=\"T_aac9b334_59ed_11ec_a7be_0242ac1c0002row3_col0\" class=\"data row3 col0\" >bool</td>\n",
              "                        <td id=\"T_aac9b334_59ed_11ec_a7be_0242ac1c0002row3_col1\" class=\"data row3 col1\" >112</td>\n",
              "                        <td id=\"T_aac9b334_59ed_11ec_a7be_0242ac1c0002row3_col2\" class=\"data row3 col2\" >2</td>\n",
              "                        <td id=\"T_aac9b334_59ed_11ec_a7be_0242ac1c0002row3_col3\" class=\"data row3 col3\" >1.79%</td>\n",
              "                        <td id=\"T_aac9b334_59ed_11ec_a7be_0242ac1c0002row3_col4\" class=\"data row3 col4\" >0</td>\n",
              "                        <td id=\"T_aac9b334_59ed_11ec_a7be_0242ac1c0002row3_col5\" class=\"data row3 col5\" >0.00%</td>\n",
              "            </tr>\n",
              "    </tbody></table>"
            ],
            "text/plain": [
              "<pandas.io.formats.style.Styler at 0x7f166d673d90>"
            ]
          },
          "metadata": {},
          "execution_count": 20
        }
      ]
    },
    {
      "cell_type": "markdown",
      "source": [
        "### There should only be 16* languages for USE-multilingual\n",
        "\n",
        "*15 when we collapse Chinese + Chinese (Taiwan)\n",
        "\n",
        "We see 20 rows because some codes map to a single language."
      ],
      "metadata": {
        "id": "Lw_7VxxXxxae"
      }
    },
    {
      "cell_type": "code",
      "source": [
        "value_counts_and_pcts(DF_LANGUAGE_MAPPING['language_in_use_multilingual'])"
      ],
      "metadata": {
        "colab": {
          "base_uri": "https://localhost:8080/",
          "height": 129
        },
        "id": "LSKo4WaYx2PV",
        "outputId": "8cb569c2-0897-41de-bc15-5791b1fed00b"
      },
      "execution_count": 21,
      "outputs": [
        {
          "output_type": "execute_result",
          "data": {
            "text/html": [
              "<style  type=\"text/css\" >\n",
              "#T_e5fe9d66_59ed_11ec_a7be_0242ac1c0002row0_col1,#T_e5fe9d66_59ed_11ec_a7be_0242ac1c0002row1_col2{\n",
              "            width:  10em;\n",
              "             height:  80%;\n",
              "            background:  linear-gradient(90deg,#95cff5 100.0%, transparent 100.0%);\n",
              "        }#T_e5fe9d66_59ed_11ec_a7be_0242ac1c0002row0_col2,#T_e5fe9d66_59ed_11ec_a7be_0242ac1c0002row1_col1{\n",
              "            width:  10em;\n",
              "             height:  80%;\n",
              "        }</style><table id=\"T_e5fe9d66_59ed_11ec_a7be_0242ac1c0002\" class=\"dataframe\"><thead>    <tr>        <th class=\"blank level0\" ></th>        <th class=\"col_heading level0 col0\" >language_in_use_multilingual-count</th>        <th class=\"col_heading level0 col1\" >language_in_use_multilingual-percent</th>        <th class=\"col_heading level0 col2\" >language_in_use_multilingual-pct_cumulative_sum</th>    </tr></thead><tbody>\n",
              "                <tr>\n",
              "                        <th id=\"T_e5fe9d66_59ed_11ec_a7be_0242ac1c0002level0_row0\" class=\"row_heading level0 row0\" >False</th>\n",
              "                        <td id=\"T_e5fe9d66_59ed_11ec_a7be_0242ac1c0002row0_col0\" class=\"data row0 col0\" >92</td>\n",
              "                        <td id=\"T_e5fe9d66_59ed_11ec_a7be_0242ac1c0002row0_col1\" class=\"data row0 col1\" >82.1%</td>\n",
              "                        <td id=\"T_e5fe9d66_59ed_11ec_a7be_0242ac1c0002row0_col2\" class=\"data row0 col2\" >82.1%</td>\n",
              "            </tr>\n",
              "            <tr>\n",
              "                        <th id=\"T_e5fe9d66_59ed_11ec_a7be_0242ac1c0002level0_row1\" class=\"row_heading level0 row1\" >True</th>\n",
              "                        <td id=\"T_e5fe9d66_59ed_11ec_a7be_0242ac1c0002row1_col0\" class=\"data row1 col0\" >20</td>\n",
              "                        <td id=\"T_e5fe9d66_59ed_11ec_a7be_0242ac1c0002row1_col1\" class=\"data row1 col1\" >17.9%</td>\n",
              "                        <td id=\"T_e5fe9d66_59ed_11ec_a7be_0242ac1c0002row1_col2\" class=\"data row1 col2\" >100.0%</td>\n",
              "            </tr>\n",
              "    </tbody></table>"
            ],
            "text/plain": [
              "<pandas.io.formats.style.Styler at 0x7f166d62f050>"
            ]
          },
          "metadata": {},
          "execution_count": 21
        }
      ]
    },
    {
      "cell_type": "code",
      "source": [
        "value_counts_and_pcts(\n",
        "    DF_LANGUAGE_MAPPING[DF_LANGUAGE_MAPPING['language_in_use_multilingual'] == True],\n",
        "    ['language_in_use_multilingual', 'language_name_top_only'],\n",
        "    # sort_index=True,\n",
        "    cumsum=False, top_n=None,\n",
        ")"
      ],
      "metadata": {
        "colab": {
          "base_uri": "https://localhost:8080/",
          "height": 551
        },
        "id": "Wkl0fEx2yKXX",
        "outputId": "3fa072c0-5626-48b9-90e8-0e84d1fc001a"
      },
      "execution_count": 28,
      "outputs": [
        {
          "output_type": "execute_result",
          "data": {
            "text/html": [
              "<style  type=\"text/css\" >\n",
              "#T_5207ff2a_59ee_11ec_a7be_0242ac1c0002row0_col1{\n",
              "            width:  10em;\n",
              "             height:  80%;\n",
              "            background:  linear-gradient(90deg,#95cff5 100.0%, transparent 100.0%);\n",
              "        }#T_5207ff2a_59ee_11ec_a7be_0242ac1c0002row1_col1,#T_5207ff2a_59ee_11ec_a7be_0242ac1c0002row2_col1{\n",
              "            width:  10em;\n",
              "             height:  80%;\n",
              "            background:  linear-gradient(90deg,#95cff5 33.3%, transparent 33.3%);\n",
              "        }#T_5207ff2a_59ee_11ec_a7be_0242ac1c0002row3_col1,#T_5207ff2a_59ee_11ec_a7be_0242ac1c0002row4_col1,#T_5207ff2a_59ee_11ec_a7be_0242ac1c0002row5_col1,#T_5207ff2a_59ee_11ec_a7be_0242ac1c0002row6_col1,#T_5207ff2a_59ee_11ec_a7be_0242ac1c0002row7_col1,#T_5207ff2a_59ee_11ec_a7be_0242ac1c0002row8_col1,#T_5207ff2a_59ee_11ec_a7be_0242ac1c0002row9_col1,#T_5207ff2a_59ee_11ec_a7be_0242ac1c0002row10_col1,#T_5207ff2a_59ee_11ec_a7be_0242ac1c0002row11_col1,#T_5207ff2a_59ee_11ec_a7be_0242ac1c0002row12_col1,#T_5207ff2a_59ee_11ec_a7be_0242ac1c0002row13_col1,#T_5207ff2a_59ee_11ec_a7be_0242ac1c0002row14_col1{\n",
              "            width:  10em;\n",
              "             height:  80%;\n",
              "        }</style><table id=\"T_5207ff2a_59ee_11ec_a7be_0242ac1c0002\" class=\"dataframe\"><thead>    <tr>        <th class=\"blank\" ></th>        <th class=\"blank level0\" ></th>        <th class=\"col_heading level0 col0\" >count</th>        <th class=\"col_heading level0 col1\" >percent</th>    </tr>    <tr>        <th class=\"index_name level0\" >language_in_use_multilingual</th>        <th class=\"index_name level1\" >language_name_top_only</th>        <th class=\"blank\" ></th>        <th class=\"blank\" ></th>    </tr></thead><tbody>\n",
              "                <tr>\n",
              "                        <th id=\"T_5207ff2a_59ee_11ec_a7be_0242ac1c0002level0_row0\" class=\"row_heading level0 row0\" rowspan=15>True</th>\n",
              "                        <th id=\"T_5207ff2a_59ee_11ec_a7be_0242ac1c0002level1_row0\" class=\"row_heading level1 row0\" >Chinese</th>\n",
              "                        <td id=\"T_5207ff2a_59ee_11ec_a7be_0242ac1c0002row0_col0\" class=\"data row0 col0\" >4</td>\n",
              "                        <td id=\"T_5207ff2a_59ee_11ec_a7be_0242ac1c0002row0_col1\" class=\"data row0 col1\" >20.0%</td>\n",
              "            </tr>\n",
              "            <tr>\n",
              "                                <th id=\"T_5207ff2a_59ee_11ec_a7be_0242ac1c0002level1_row1\" class=\"row_heading level1 row1\" >Japanese</th>\n",
              "                        <td id=\"T_5207ff2a_59ee_11ec_a7be_0242ac1c0002row1_col0\" class=\"data row1 col0\" >2</td>\n",
              "                        <td id=\"T_5207ff2a_59ee_11ec_a7be_0242ac1c0002row1_col1\" class=\"data row1 col1\" >10.0%</td>\n",
              "            </tr>\n",
              "            <tr>\n",
              "                                <th id=\"T_5207ff2a_59ee_11ec_a7be_0242ac1c0002level1_row2\" class=\"row_heading level1 row2\" >Russian</th>\n",
              "                        <td id=\"T_5207ff2a_59ee_11ec_a7be_0242ac1c0002row2_col0\" class=\"data row2 col0\" >2</td>\n",
              "                        <td id=\"T_5207ff2a_59ee_11ec_a7be_0242ac1c0002row2_col1\" class=\"data row2 col1\" >10.0%</td>\n",
              "            </tr>\n",
              "            <tr>\n",
              "                                <th id=\"T_5207ff2a_59ee_11ec_a7be_0242ac1c0002level1_row3\" class=\"row_heading level1 row3\" >Arabic</th>\n",
              "                        <td id=\"T_5207ff2a_59ee_11ec_a7be_0242ac1c0002row3_col0\" class=\"data row3 col0\" >1</td>\n",
              "                        <td id=\"T_5207ff2a_59ee_11ec_a7be_0242ac1c0002row3_col1\" class=\"data row3 col1\" >5.0%</td>\n",
              "            </tr>\n",
              "            <tr>\n",
              "                                <th id=\"T_5207ff2a_59ee_11ec_a7be_0242ac1c0002level1_row4\" class=\"row_heading level1 row4\" >Dutch</th>\n",
              "                        <td id=\"T_5207ff2a_59ee_11ec_a7be_0242ac1c0002row4_col0\" class=\"data row4 col0\" >1</td>\n",
              "                        <td id=\"T_5207ff2a_59ee_11ec_a7be_0242ac1c0002row4_col1\" class=\"data row4 col1\" >5.0%</td>\n",
              "            </tr>\n",
              "            <tr>\n",
              "                                <th id=\"T_5207ff2a_59ee_11ec_a7be_0242ac1c0002level1_row5\" class=\"row_heading level1 row5\" >English</th>\n",
              "                        <td id=\"T_5207ff2a_59ee_11ec_a7be_0242ac1c0002row5_col0\" class=\"data row5 col0\" >1</td>\n",
              "                        <td id=\"T_5207ff2a_59ee_11ec_a7be_0242ac1c0002row5_col1\" class=\"data row5 col1\" >5.0%</td>\n",
              "            </tr>\n",
              "            <tr>\n",
              "                                <th id=\"T_5207ff2a_59ee_11ec_a7be_0242ac1c0002level1_row6\" class=\"row_heading level1 row6\" >French</th>\n",
              "                        <td id=\"T_5207ff2a_59ee_11ec_a7be_0242ac1c0002row6_col0\" class=\"data row6 col0\" >1</td>\n",
              "                        <td id=\"T_5207ff2a_59ee_11ec_a7be_0242ac1c0002row6_col1\" class=\"data row6 col1\" >5.0%</td>\n",
              "            </tr>\n",
              "            <tr>\n",
              "                                <th id=\"T_5207ff2a_59ee_11ec_a7be_0242ac1c0002level1_row7\" class=\"row_heading level1 row7\" >German</th>\n",
              "                        <td id=\"T_5207ff2a_59ee_11ec_a7be_0242ac1c0002row7_col0\" class=\"data row7 col0\" >1</td>\n",
              "                        <td id=\"T_5207ff2a_59ee_11ec_a7be_0242ac1c0002row7_col1\" class=\"data row7 col1\" >5.0%</td>\n",
              "            </tr>\n",
              "            <tr>\n",
              "                                <th id=\"T_5207ff2a_59ee_11ec_a7be_0242ac1c0002level1_row8\" class=\"row_heading level1 row8\" >Italian</th>\n",
              "                        <td id=\"T_5207ff2a_59ee_11ec_a7be_0242ac1c0002row8_col0\" class=\"data row8 col0\" >1</td>\n",
              "                        <td id=\"T_5207ff2a_59ee_11ec_a7be_0242ac1c0002row8_col1\" class=\"data row8 col1\" >5.0%</td>\n",
              "            </tr>\n",
              "            <tr>\n",
              "                                <th id=\"T_5207ff2a_59ee_11ec_a7be_0242ac1c0002level1_row9\" class=\"row_heading level1 row9\" >Korean</th>\n",
              "                        <td id=\"T_5207ff2a_59ee_11ec_a7be_0242ac1c0002row9_col0\" class=\"data row9 col0\" >1</td>\n",
              "                        <td id=\"T_5207ff2a_59ee_11ec_a7be_0242ac1c0002row9_col1\" class=\"data row9 col1\" >5.0%</td>\n",
              "            </tr>\n",
              "            <tr>\n",
              "                                <th id=\"T_5207ff2a_59ee_11ec_a7be_0242ac1c0002level1_row10\" class=\"row_heading level1 row10\" >Polish</th>\n",
              "                        <td id=\"T_5207ff2a_59ee_11ec_a7be_0242ac1c0002row10_col0\" class=\"data row10 col0\" >1</td>\n",
              "                        <td id=\"T_5207ff2a_59ee_11ec_a7be_0242ac1c0002row10_col1\" class=\"data row10 col1\" >5.0%</td>\n",
              "            </tr>\n",
              "            <tr>\n",
              "                                <th id=\"T_5207ff2a_59ee_11ec_a7be_0242ac1c0002level1_row11\" class=\"row_heading level1 row11\" >Portuguese</th>\n",
              "                        <td id=\"T_5207ff2a_59ee_11ec_a7be_0242ac1c0002row11_col0\" class=\"data row11 col0\" >1</td>\n",
              "                        <td id=\"T_5207ff2a_59ee_11ec_a7be_0242ac1c0002row11_col1\" class=\"data row11 col1\" >5.0%</td>\n",
              "            </tr>\n",
              "            <tr>\n",
              "                                <th id=\"T_5207ff2a_59ee_11ec_a7be_0242ac1c0002level1_row12\" class=\"row_heading level1 row12\" >Spanish</th>\n",
              "                        <td id=\"T_5207ff2a_59ee_11ec_a7be_0242ac1c0002row12_col0\" class=\"data row12 col0\" >1</td>\n",
              "                        <td id=\"T_5207ff2a_59ee_11ec_a7be_0242ac1c0002row12_col1\" class=\"data row12 col1\" >5.0%</td>\n",
              "            </tr>\n",
              "            <tr>\n",
              "                                <th id=\"T_5207ff2a_59ee_11ec_a7be_0242ac1c0002level1_row13\" class=\"row_heading level1 row13\" >Thai</th>\n",
              "                        <td id=\"T_5207ff2a_59ee_11ec_a7be_0242ac1c0002row13_col0\" class=\"data row13 col0\" >1</td>\n",
              "                        <td id=\"T_5207ff2a_59ee_11ec_a7be_0242ac1c0002row13_col1\" class=\"data row13 col1\" >5.0%</td>\n",
              "            </tr>\n",
              "            <tr>\n",
              "                                <th id=\"T_5207ff2a_59ee_11ec_a7be_0242ac1c0002level1_row14\" class=\"row_heading level1 row14\" >Turkish</th>\n",
              "                        <td id=\"T_5207ff2a_59ee_11ec_a7be_0242ac1c0002row14_col0\" class=\"data row14 col0\" >1</td>\n",
              "                        <td id=\"T_5207ff2a_59ee_11ec_a7be_0242ac1c0002row14_col1\" class=\"data row14 col1\" >5.0%</td>\n",
              "            </tr>\n",
              "    </tbody></table>"
            ],
            "text/plain": [
              "<pandas.io.formats.style.Styler at 0x7f166d0729d0>"
            ]
          },
          "metadata": {},
          "execution_count": 28
        }
      ]
    },
    {
      "cell_type": "code",
      "source": [
        "DF_LANGUAGE_MAPPING[DF_LANGUAGE_MAPPING['language_in_use_multilingual'] == True]"
      ],
      "metadata": {
        "colab": {
          "base_uri": "https://localhost:8080/",
          "height": 519
        },
        "id": "KUmcTgSWxg1Z",
        "outputId": "5e9f5b4e-b268-4685-84dd-99aab951f6f4"
      },
      "execution_count": 30,
      "outputs": [
        {
          "output_type": "execute_result",
          "data": {
            "application/vnd.google.colaboratory.module+javascript": "\n      import \"https://ssl.gstatic.com/colaboratory/data_table/a6224c040fa35dcf/data_table.js\";\n\n      window.createDataTable({\n        data: [[{\n            'v': 5,\n            'f': \"5\",\n        },\n\"ar\",\n\"Arabic\",\n\"Arabic\",\ntrue],\n [{\n            'v': 107,\n            'f': \"107\",\n        },\n\"zh\",\n\"Chinese\",\n\"Chinese\",\ntrue],\n [{\n            'v': 110,\n            'f': \"110\",\n        },\n\"zh-tw\",\n\"Chinese\",\n\"Chinese\",\ntrue],\n [{\n            'v': 109,\n            'f': \"109\",\n        },\n\"zh-Latn\",\n\"Chinese\",\n\"Chinese\",\ntrue],\n [{\n            'v': 108,\n            'f': \"108\",\n        },\n\"zh-cn\",\n\"Chinese\",\n\"Chinese\",\ntrue],\n [{\n            'v': 72,\n            'f': \"72\",\n        },\n\"nl\",\n\"Dutch\",\n\"Dutch\",\ntrue],\n [{\n            'v': 19,\n            'f': \"19\",\n        },\n\"en\",\n\"English\",\n\"English\",\ntrue],\n [{\n            'v': 27,\n            'f': \"27\",\n        },\n\"fr\",\n\"French\",\n\"French\",\ntrue],\n [{\n            'v': 16,\n            'f': \"16\",\n        },\n\"de\",\n\"German\",\n\"German\",\ntrue],\n [{\n            'v': 45,\n            'f': \"45\",\n        },\n\"it\",\n\"Italian\",\n\"Italian\",\ntrue],\n [{\n            'v': 47,\n            'f': \"47\",\n        },\n\"ja\",\n\"Japanese\",\n\"Japanese\",\ntrue],\n [{\n            'v': 48,\n            'f': \"48\",\n        },\n\"ja-Latn\",\n\"Japanese\",\n\"Japanese\",\ntrue],\n [{\n            'v': 54,\n            'f': \"54\",\n        },\n\"ko\",\n\"Korean\",\n\"Korean\",\ntrue],\n [{\n            'v': 76,\n            'f': \"76\",\n        },\n\"pl\",\n\"Polish\",\n\"Polish\",\ntrue],\n [{\n            'v': 78,\n            'f': \"78\",\n        },\n\"pt\",\n\"Portuguese\",\n\"Portuguese\",\ntrue],\n [{\n            'v': 80,\n            'f': \"80\",\n        },\n\"ru\",\n\"Russian\",\n\"Russian\",\ntrue],\n [{\n            'v': 81,\n            'f': \"81\",\n        },\n\"ru-Latn\",\n\"Russian\",\n\"Russian\",\ntrue],\n [{\n            'v': 21,\n            'f': \"21\",\n        },\n\"es\",\n\"Spanish\",\n\"Spanish\",\ntrue],\n [{\n            'v': 98,\n            'f': \"98\",\n        },\n\"th\",\n\"Thai\",\n\"Thai\",\ntrue],\n [{\n            'v': 99,\n            'f': \"99\",\n        },\n\"tr\",\n\"Turkish\",\n\"Turkish\",\ntrue]],\n        columns: [[\"number\", \"index\"], [\"string\", \"language_code\"], [\"string\", \"language_name\"], [\"string\", \"language_name_top_only\"], [\"string\", \"language_in_use_multilingual\"]],\n        columnOptions: [{\"width\": \"1px\", \"className\": \"index_column\"}],\n        rowsPerPage: 25,\n        helpUrl: \"https://colab.research.google.com/notebooks/data_table.ipynb\",\n        suppressOutputScrolling: true,\n        minimumWidth: undefined,\n      });\n    ",
            "text/html": [
              "<div>\n",
              "<style scoped>\n",
              "    .dataframe tbody tr th:only-of-type {\n",
              "        vertical-align: middle;\n",
              "    }\n",
              "\n",
              "    .dataframe tbody tr th {\n",
              "        vertical-align: top;\n",
              "    }\n",
              "\n",
              "    .dataframe thead th {\n",
              "        text-align: right;\n",
              "    }\n",
              "</style>\n",
              "<table border=\"1\" class=\"dataframe\">\n",
              "  <thead>\n",
              "    <tr style=\"text-align: right;\">\n",
              "      <th></th>\n",
              "      <th>language_code</th>\n",
              "      <th>language_name</th>\n",
              "      <th>language_name_top_only</th>\n",
              "      <th>language_in_use_multilingual</th>\n",
              "    </tr>\n",
              "  </thead>\n",
              "  <tbody>\n",
              "    <tr>\n",
              "      <th>5</th>\n",
              "      <td>ar</td>\n",
              "      <td>Arabic</td>\n",
              "      <td>Arabic</td>\n",
              "      <td>True</td>\n",
              "    </tr>\n",
              "    <tr>\n",
              "      <th>107</th>\n",
              "      <td>zh</td>\n",
              "      <td>Chinese</td>\n",
              "      <td>Chinese</td>\n",
              "      <td>True</td>\n",
              "    </tr>\n",
              "    <tr>\n",
              "      <th>110</th>\n",
              "      <td>zh-tw</td>\n",
              "      <td>Chinese</td>\n",
              "      <td>Chinese</td>\n",
              "      <td>True</td>\n",
              "    </tr>\n",
              "    <tr>\n",
              "      <th>109</th>\n",
              "      <td>zh-Latn</td>\n",
              "      <td>Chinese</td>\n",
              "      <td>Chinese</td>\n",
              "      <td>True</td>\n",
              "    </tr>\n",
              "    <tr>\n",
              "      <th>108</th>\n",
              "      <td>zh-cn</td>\n",
              "      <td>Chinese</td>\n",
              "      <td>Chinese</td>\n",
              "      <td>True</td>\n",
              "    </tr>\n",
              "    <tr>\n",
              "      <th>72</th>\n",
              "      <td>nl</td>\n",
              "      <td>Dutch</td>\n",
              "      <td>Dutch</td>\n",
              "      <td>True</td>\n",
              "    </tr>\n",
              "    <tr>\n",
              "      <th>19</th>\n",
              "      <td>en</td>\n",
              "      <td>English</td>\n",
              "      <td>English</td>\n",
              "      <td>True</td>\n",
              "    </tr>\n",
              "    <tr>\n",
              "      <th>27</th>\n",
              "      <td>fr</td>\n",
              "      <td>French</td>\n",
              "      <td>French</td>\n",
              "      <td>True</td>\n",
              "    </tr>\n",
              "    <tr>\n",
              "      <th>16</th>\n",
              "      <td>de</td>\n",
              "      <td>German</td>\n",
              "      <td>German</td>\n",
              "      <td>True</td>\n",
              "    </tr>\n",
              "    <tr>\n",
              "      <th>45</th>\n",
              "      <td>it</td>\n",
              "      <td>Italian</td>\n",
              "      <td>Italian</td>\n",
              "      <td>True</td>\n",
              "    </tr>\n",
              "    <tr>\n",
              "      <th>47</th>\n",
              "      <td>ja</td>\n",
              "      <td>Japanese</td>\n",
              "      <td>Japanese</td>\n",
              "      <td>True</td>\n",
              "    </tr>\n",
              "    <tr>\n",
              "      <th>48</th>\n",
              "      <td>ja-Latn</td>\n",
              "      <td>Japanese</td>\n",
              "      <td>Japanese</td>\n",
              "      <td>True</td>\n",
              "    </tr>\n",
              "    <tr>\n",
              "      <th>54</th>\n",
              "      <td>ko</td>\n",
              "      <td>Korean</td>\n",
              "      <td>Korean</td>\n",
              "      <td>True</td>\n",
              "    </tr>\n",
              "    <tr>\n",
              "      <th>76</th>\n",
              "      <td>pl</td>\n",
              "      <td>Polish</td>\n",
              "      <td>Polish</td>\n",
              "      <td>True</td>\n",
              "    </tr>\n",
              "    <tr>\n",
              "      <th>78</th>\n",
              "      <td>pt</td>\n",
              "      <td>Portuguese</td>\n",
              "      <td>Portuguese</td>\n",
              "      <td>True</td>\n",
              "    </tr>\n",
              "    <tr>\n",
              "      <th>80</th>\n",
              "      <td>ru</td>\n",
              "      <td>Russian</td>\n",
              "      <td>Russian</td>\n",
              "      <td>True</td>\n",
              "    </tr>\n",
              "    <tr>\n",
              "      <th>81</th>\n",
              "      <td>ru-Latn</td>\n",
              "      <td>Russian</td>\n",
              "      <td>Russian</td>\n",
              "      <td>True</td>\n",
              "    </tr>\n",
              "    <tr>\n",
              "      <th>21</th>\n",
              "      <td>es</td>\n",
              "      <td>Spanish</td>\n",
              "      <td>Spanish</td>\n",
              "      <td>True</td>\n",
              "    </tr>\n",
              "    <tr>\n",
              "      <th>98</th>\n",
              "      <td>th</td>\n",
              "      <td>Thai</td>\n",
              "      <td>Thai</td>\n",
              "      <td>True</td>\n",
              "    </tr>\n",
              "    <tr>\n",
              "      <th>99</th>\n",
              "      <td>tr</td>\n",
              "      <td>Turkish</td>\n",
              "      <td>Turkish</td>\n",
              "      <td>True</td>\n",
              "    </tr>\n",
              "  </tbody>\n",
              "</table>\n",
              "</div>"
            ],
            "text/plain": [
              "    language_code  ... language_in_use_multilingual\n",
              "5              ar  ...                         True\n",
              "107            zh  ...                         True\n",
              "110         zh-tw  ...                         True\n",
              "109       zh-Latn  ...                         True\n",
              "108         zh-cn  ...                         True\n",
              "72             nl  ...                         True\n",
              "19             en  ...                         True\n",
              "27             fr  ...                         True\n",
              "16             de  ...                         True\n",
              "45             it  ...                         True\n",
              "47             ja  ...                         True\n",
              "48        ja-Latn  ...                         True\n",
              "54             ko  ...                         True\n",
              "76             pl  ...                         True\n",
              "78             pt  ...                         True\n",
              "80             ru  ...                         True\n",
              "81        ru-Latn  ...                         True\n",
              "21             es  ...                         True\n",
              "98             th  ...                         True\n",
              "99             tr  ...                         True\n",
              "\n",
              "[20 rows x 4 columns]"
            ]
          },
          "metadata": {},
          "execution_count": 30
        }
      ]
    },
    {
      "cell_type": "markdown",
      "metadata": {
        "id": "K0A2qrQ4nbFO"
      },
      "source": [
        "# Save table to BigQuery\n",
        "\n",
        "NOTE: Sorting is not guaranteed in the final BigQuery table.\n",
        "\n",
        "We can \"force\" sorting if we set `chunksize` to a number smaller than the full df size."
      ]
    },
    {
      "cell_type": "code",
      "metadata": {
        "id": "RNncSE90nehX",
        "colab": {
          "base_uri": "https://localhost:8080/"
        },
        "outputId": "55aa631b-4f92-4ebf-b275-4088b5ff9fbb"
      },
      "source": [
        "(\n",
        "    DF_LANGUAGE_MAPPING\n",
        "    .assign(table_creation_date=pd.to_datetime(datetime.utcnow().date()))\n",
        "    .to_gbq(\n",
        "        destination_table='david_bermejo.language_detection_code_to_name_lookup_cld3',\n",
        "        project_id='reddit-employee-datasets',\n",
        "        chunksize=10,\n",
        "        if_exists='replace'\n",
        "    )\n",
        ")"
      ],
      "execution_count": 35,
      "outputs": [
        {
          "output_type": "stream",
          "name": "stderr",
          "text": [
            "10 out of 112 rows loaded.\"\n",
            "20 out of 112 rows loaded.\"\n",
            "30 out of 112 rows loaded.\"\n",
            "40 out of 112 rows loaded.\"\n",
            "50 out of 112 rows loaded.\"\n",
            "60 out of 112 rows loaded.\"\n",
            "70 out of 112 rows loaded.\"\n",
            "80 out of 112 rows loaded.\"\n",
            "90 out of 112 rows loaded.\"\n",
            "100 out of 112 rows loaded.\"\n",
            "110 out of 112 rows loaded.\"\n",
            "112 out of 112 rows loaded.\"\n",
            "12it [00:43,  3.65s/it]\n"
          ]
        }
      ]
    }
  ]
}