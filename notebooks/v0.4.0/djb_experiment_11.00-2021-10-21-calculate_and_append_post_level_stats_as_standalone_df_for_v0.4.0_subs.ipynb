{
 "cells": [
  {
   "cell_type": "markdown",
   "id": "9483cf7c",
   "metadata": {},
   "source": [
    "# Purpose\n",
    "\n",
    "2021-10-21: If/when we need to get post-level aggregates it'll be better if we compute them once and save them to a df instead of having to calculate them each time.\n",
    "\n",
    "We should always have the option to calculate on demand, but some stats will stay constant, like:\n",
    "- primary language\n",
    "- post counts used for modeling\n",
    "\n",
    "So let's calculate and cache them to speed up other jobs.\n",
    "\n"
   ]
  },
  {
   "cell_type": "markdown",
   "id": "2f8d1a5a",
   "metadata": {},
   "source": [
    "# Imports & Setup"
   ]
  },
  {
   "cell_type": "code",
   "execution_count": 1,
   "id": "0ca5d0f4",
   "metadata": {},
   "outputs": [],
   "source": [
    "%load_ext autoreload\n",
    "%autoreload 2"
   ]
  },
  {
   "cell_type": "code",
   "execution_count": 2,
   "id": "4962cb79",
   "metadata": {},
   "outputs": [
    {
     "name": "stdout",
     "output_type": "stream",
     "text": [
      "python\t\tv 3.7.10\n",
      "===\n",
      "hydra\t\tv: 1.1.0\n",
      "numpy\t\tv: 1.19.5\n",
      "pandas\t\tv: 1.2.4\n",
      "plotly\t\tv: 4.14.3\n",
      "sklearn\t\tv: 0.24.1\n",
      "seaborn\t\tv: 0.11.1\n",
      "subclu\t\tv: 0.4.0\n"
     ]
    }
   ],
   "source": [
    "from datetime import datetime\n",
    "import logging\n",
    "import os\n",
    "from pathlib import Path\n",
    "\n",
    "import numpy as np\n",
    "import pandas as pd\n",
    "import plotly\n",
    "import seaborn as sns\n",
    "\n",
    "import mlflow\n",
    "import hydra\n",
    "\n",
    "import subclu\n",
    "from subclu.eda.aggregates import compare_raw_v_weighted_language\n",
    "from subclu.utils import set_working_directory, get_project_subfolder\n",
    "from subclu.utils.eda import (\n",
    "    setup_logging, counts_describe, value_counts_and_pcts,\n",
    "    notebook_display_config, print_lib_versions,\n",
    "    style_df_numeric, reorder_array,\n",
    ")\n",
    "from subclu.utils.mlflow_logger import MlflowLogger\n",
    "from subclu.utils.hydra_config_loader import LoadHydraConfig\n",
    "from subclu.utils.data_irl_style import (\n",
    "    get_colormap, theme_dirl, \n",
    "    get_color_dict, base_colors_for_manual_labels,\n",
    "    check_colors_used,\n",
    ")\n",
    "from subclu.data.data_loaders import LoadPosts, LoadSubreddits, create_sub_level_aggregates\n",
    "\n",
    "\n",
    "# ===\n",
    "# imports specific to this notebook\n",
    "from collections import Counter\n",
    "# import umap\n",
    "# import openTSNE\n",
    "# from openTSNE import TSNE\n",
    "\n",
    "# import hdbscan\n",
    "\n",
    "import sklearn\n",
    "from sklearn.decomposition import TruncatedSVD\n",
    "from sklearn.metrics.pairwise import cosine_similarity\n",
    "from sklearn.preprocessing import normalize  # if we normalize the data, euclidean distance is approx of cosine\n",
    "\n",
    "from sklearn.cluster import KMeans, DBSCAN, OPTICS, AgglomerativeClustering\n",
    "\n",
    "print_lib_versions([hydra, np, pd, plotly, sklearn, sns, subclu])"
   ]
  },
  {
   "cell_type": "code",
   "execution_count": 3,
   "id": "90a7a40b",
   "metadata": {},
   "outputs": [],
   "source": [
    "# plotting\n",
    "import matplotlib.pyplot as plt\n",
    "import matplotlib.ticker as mtick\n",
    "import matplotlib.dates as mdates\n",
    "plt.style.use('default')\n",
    "\n",
    "setup_logging()\n",
    "notebook_display_config()"
   ]
  },
  {
   "cell_type": "markdown",
   "id": "09b62cd6",
   "metadata": {},
   "source": [
    "# Set sqlite database as MLflow URI"
   ]
  },
  {
   "cell_type": "code",
   "execution_count": 4,
   "id": "f1b7b44a",
   "metadata": {},
   "outputs": [
    {
     "data": {
      "text/plain": [
       "'sqlite:////home/jupyter/subreddit_clustering_i18n/mlflow_sync/djb-100-2021-04-28-djb-eda-german-subs/mlruns.db'"
      ]
     },
     "execution_count": 4,
     "metadata": {},
     "output_type": "execute_result"
    }
   ],
   "source": [
    "# use new class to initialize mlflow\n",
    "mlf = MlflowLogger(tracking_uri='sqlite')\n",
    "mlflow.get_tracking_uri()"
   ]
  },
  {
   "cell_type": "markdown",
   "id": "4486a4b6",
   "metadata": {},
   "source": [
    "## Get list of experiments with new function"
   ]
  },
  {
   "cell_type": "code",
   "execution_count": 5,
   "id": "4363af98",
   "metadata": {},
   "outputs": [
    {
     "data": {
      "text/html": [
       "<div>\n",
       "<style scoped>\n",
       "    .dataframe tbody tr th:only-of-type {\n",
       "        vertical-align: middle;\n",
       "    }\n",
       "\n",
       "    .dataframe tbody tr th {\n",
       "        vertical-align: top;\n",
       "    }\n",
       "\n",
       "    .dataframe thead th {\n",
       "        text-align: right;\n",
       "    }\n",
       "</style>\n",
       "<table border=\"1\" class=\"dataframe\">\n",
       "  <thead>\n",
       "    <tr style=\"text-align: right;\">\n",
       "      <th></th>\n",
       "      <th>experiment_id</th>\n",
       "      <th>name</th>\n",
       "      <th>artifact_location</th>\n",
       "      <th>lifecycle_stage</th>\n",
       "    </tr>\n",
       "  </thead>\n",
       "  <tbody>\n",
       "    <tr>\n",
       "      <th>0</th>\n",
       "      <td>0</td>\n",
       "      <td>Default</td>\n",
       "      <td>./mlruns/0</td>\n",
       "      <td>active</td>\n",
       "    </tr>\n",
       "    <tr>\n",
       "      <th>1</th>\n",
       "      <td>1</td>\n",
       "      <td>fse_v1</td>\n",
       "      <td>gs://i18n-subreddit-clustering/mlflow/mlruns/1</td>\n",
       "      <td>active</td>\n",
       "    </tr>\n",
       "    <tr>\n",
       "      <th>2</th>\n",
       "      <td>2</td>\n",
       "      <td>fse_vectorize_v1</td>\n",
       "      <td>gs://i18n-subreddit-clustering/mlflow/mlruns/2</td>\n",
       "      <td>active</td>\n",
       "    </tr>\n",
       "    <tr>\n",
       "      <th>3</th>\n",
       "      <td>3</td>\n",
       "      <td>subreddit_description_v1</td>\n",
       "      <td>gs://i18n-subreddit-clustering/mlflow/mlruns/3</td>\n",
       "      <td>active</td>\n",
       "    </tr>\n",
       "    <tr>\n",
       "      <th>4</th>\n",
       "      <td>4</td>\n",
       "      <td>fse_vectorize_v1.1</td>\n",
       "      <td>gs://i18n-subreddit-clustering/mlflow/mlruns/4</td>\n",
       "      <td>active</td>\n",
       "    </tr>\n",
       "    <tr>\n",
       "      <th>5</th>\n",
       "      <td>5</td>\n",
       "      <td>use_multilingual_v0.1_test</td>\n",
       "      <td>gs://i18n-subreddit-clustering/mlflow/mlruns/5</td>\n",
       "      <td>active</td>\n",
       "    </tr>\n",
       "    <tr>\n",
       "      <th>6</th>\n",
       "      <td>6</td>\n",
       "      <td>use_multilingual_v1</td>\n",
       "      <td>gs://i18n-subreddit-clustering/mlflow/mlruns/6</td>\n",
       "      <td>active</td>\n",
       "    </tr>\n",
       "    <tr>\n",
       "      <th>7</th>\n",
       "      <td>7</td>\n",
       "      <td>use_multilingual_v1_aggregates_test</td>\n",
       "      <td>gs://i18n-subreddit-clustering/mlflow/mlruns/7</td>\n",
       "      <td>active</td>\n",
       "    </tr>\n",
       "    <tr>\n",
       "      <th>8</th>\n",
       "      <td>8</td>\n",
       "      <td>use_multilingual_v1_aggregates</td>\n",
       "      <td>gs://i18n-subreddit-clustering/mlflow/mlruns/8</td>\n",
       "      <td>active</td>\n",
       "    </tr>\n",
       "    <tr>\n",
       "      <th>9</th>\n",
       "      <td>9</td>\n",
       "      <td>v0.3.2_use_multi_inference_test</td>\n",
       "      <td>gs://i18n-subreddit-clustering/mlflow/mlruns/9</td>\n",
       "      <td>active</td>\n",
       "    </tr>\n",
       "    <tr>\n",
       "      <th>10</th>\n",
       "      <td>10</td>\n",
       "      <td>v0.3.2_use_multi_inference</td>\n",
       "      <td>gs://i18n-subreddit-clustering/mlflow/mlruns/10</td>\n",
       "      <td>active</td>\n",
       "    </tr>\n",
       "    <tr>\n",
       "      <th>11</th>\n",
       "      <td>11</td>\n",
       "      <td>v0.3.2_use_multi_aggregates_test</td>\n",
       "      <td>gs://i18n-subreddit-clustering/mlflow/mlruns/11</td>\n",
       "      <td>active</td>\n",
       "    </tr>\n",
       "    <tr>\n",
       "      <th>12</th>\n",
       "      <td>12</td>\n",
       "      <td>v0.3.2_use_multi_aggregates</td>\n",
       "      <td>gs://i18n-subreddit-clustering/mlflow/mlruns/12</td>\n",
       "      <td>active</td>\n",
       "    </tr>\n",
       "    <tr>\n",
       "      <th>13</th>\n",
       "      <td>13</td>\n",
       "      <td>v0.4.0_use_multi_inference_test</td>\n",
       "      <td>gs://i18n-subreddit-clustering/mlflow/mlruns/13</td>\n",
       "      <td>active</td>\n",
       "    </tr>\n",
       "    <tr>\n",
       "      <th>14</th>\n",
       "      <td>14</td>\n",
       "      <td>v0.4.0_use_multi_inference</td>\n",
       "      <td>gs://i18n-subreddit-clustering/mlflow/mlruns/14</td>\n",
       "      <td>active</td>\n",
       "    </tr>\n",
       "    <tr>\n",
       "      <th>15</th>\n",
       "      <td>15</td>\n",
       "      <td>v0.4.0_use_multi_aggregates_test</td>\n",
       "      <td>gs://i18n-subreddit-clustering/mlflow/mlruns/15</td>\n",
       "      <td>active</td>\n",
       "    </tr>\n",
       "    <tr>\n",
       "      <th>16</th>\n",
       "      <td>16</td>\n",
       "      <td>v0.4.0_use_multi_aggregates</td>\n",
       "      <td>gs://i18n-subreddit-clustering/mlflow/mlruns/16</td>\n",
       "      <td>active</td>\n",
       "    </tr>\n",
       "    <tr>\n",
       "      <th>17</th>\n",
       "      <td>17</td>\n",
       "      <td>v0.4.0_use_multi_clustering_test</td>\n",
       "      <td>gs://i18n-subreddit-clustering/mlflow/mlruns/17</td>\n",
       "      <td>active</td>\n",
       "    </tr>\n",
       "    <tr>\n",
       "      <th>18</th>\n",
       "      <td>18</td>\n",
       "      <td>v0.4.0_use_multi_clustering</td>\n",
       "      <td>gs://i18n-subreddit-clustering/mlflow/mlruns/18</td>\n",
       "      <td>active</td>\n",
       "    </tr>\n",
       "  </tbody>\n",
       "</table>\n",
       "</div>"
      ],
      "text/plain": [
       "   experiment_id                                 name                                artifact_location lifecycle_stage\n",
       "0              0                              Default                                       ./mlruns/0          active\n",
       "1              1                               fse_v1   gs://i18n-subreddit-clustering/mlflow/mlruns/1          active\n",
       "2              2                     fse_vectorize_v1   gs://i18n-subreddit-clustering/mlflow/mlruns/2          active\n",
       "3              3             subreddit_description_v1   gs://i18n-subreddit-clustering/mlflow/mlruns/3          active\n",
       "4              4                   fse_vectorize_v1.1   gs://i18n-subreddit-clustering/mlflow/mlruns/4          active\n",
       "5              5           use_multilingual_v0.1_test   gs://i18n-subreddit-clustering/mlflow/mlruns/5          active\n",
       "6              6                  use_multilingual_v1   gs://i18n-subreddit-clustering/mlflow/mlruns/6          active\n",
       "7              7  use_multilingual_v1_aggregates_test   gs://i18n-subreddit-clustering/mlflow/mlruns/7          active\n",
       "8              8       use_multilingual_v1_aggregates   gs://i18n-subreddit-clustering/mlflow/mlruns/8          active\n",
       "9              9      v0.3.2_use_multi_inference_test   gs://i18n-subreddit-clustering/mlflow/mlruns/9          active\n",
       "10            10           v0.3.2_use_multi_inference  gs://i18n-subreddit-clustering/mlflow/mlruns/10          active\n",
       "11            11     v0.3.2_use_multi_aggregates_test  gs://i18n-subreddit-clustering/mlflow/mlruns/11          active\n",
       "12            12          v0.3.2_use_multi_aggregates  gs://i18n-subreddit-clustering/mlflow/mlruns/12          active\n",
       "13            13      v0.4.0_use_multi_inference_test  gs://i18n-subreddit-clustering/mlflow/mlruns/13          active\n",
       "14            14           v0.4.0_use_multi_inference  gs://i18n-subreddit-clustering/mlflow/mlruns/14          active\n",
       "15            15     v0.4.0_use_multi_aggregates_test  gs://i18n-subreddit-clustering/mlflow/mlruns/15          active\n",
       "16            16          v0.4.0_use_multi_aggregates  gs://i18n-subreddit-clustering/mlflow/mlruns/16          active\n",
       "17            17     v0.4.0_use_multi_clustering_test  gs://i18n-subreddit-clustering/mlflow/mlruns/17          active\n",
       "18            18          v0.4.0_use_multi_clustering  gs://i18n-subreddit-clustering/mlflow/mlruns/18          active"
      ]
     },
     "execution_count": 5,
     "metadata": {},
     "output_type": "execute_result"
    }
   ],
   "source": [
    "mlf.list_experiment_meta(output_format='pandas')"
   ]
  },
  {
   "cell_type": "markdown",
   "id": "4bbf1c73",
   "metadata": {},
   "source": [
    "## Get experiment IDs to use for clustering\n",
    "\n",
    "There are two runs that completed and they both have the same parameters, so we should be able to use either one. For now, let's select:<br>\n",
    "`0591fdae9b7d4da7ae3839767b8aab66`"
   ]
  },
  {
   "cell_type": "code",
   "execution_count": 6,
   "id": "30897dde",
   "metadata": {},
   "outputs": [
    {
     "name": "stdout",
     "output_type": "stream",
     "text": [
      "CPU times: user 57.4 ms, sys: 13.6 ms, total: 71 ms\n",
      "Wall time: 1.04 s\n"
     ]
    },
    {
     "data": {
      "text/plain": [
       "(13, 86)"
      ]
     },
     "execution_count": 6,
     "metadata": {},
     "output_type": "execute_result"
    }
   ],
   "source": [
    "%%time\n",
    "\n",
    "df_mlf = mlf.search_all_runs(experiment_ids=[16])\n",
    "df_mlf.shape"
   ]
  },
  {
   "cell_type": "code",
   "execution_count": 7,
   "id": "5ac252ae",
   "metadata": {},
   "outputs": [
    {
     "data": {
      "text/plain": [
       "(2, 86)"
      ]
     },
     "execution_count": 7,
     "metadata": {},
     "output_type": "execute_result"
    }
   ],
   "source": [
    "mask_finished = df_mlf['status'] == 'FINISHED'\n",
    "mask_df_similarity_complete = ~df_mlf['metrics.df_sub_level_agg_a_post_only_similarity-rows'].isnull()\n",
    "\n",
    "df_mlf_clustering_candidates = df_mlf[mask_finished & mask_df_similarity_complete]\n",
    "df_mlf_clustering_candidates.shape"
   ]
  },
  {
   "cell_type": "code",
   "execution_count": 8,
   "id": "ac65efd9",
   "metadata": {},
   "outputs": [
    {
     "data": {
      "text/html": [
       "<div>\n",
       "<style scoped>\n",
       "    .dataframe tbody tr th:only-of-type {\n",
       "        vertical-align: middle;\n",
       "    }\n",
       "\n",
       "    .dataframe tbody tr th {\n",
       "        vertical-align: top;\n",
       "    }\n",
       "\n",
       "    .dataframe thead th {\n",
       "        text-align: right;\n",
       "    }\n",
       "</style>\n",
       "<table border=\"1\" class=\"dataframe\">\n",
       "  <thead>\n",
       "    <tr style=\"text-align: right;\">\n",
       "      <th></th>\n",
       "      <th>run_id</th>\n",
       "      <th>artifact_uri</th>\n",
       "      <th>start_time</th>\n",
       "      <th>end_time</th>\n",
       "      <th>metrics.memory_free</th>\n",
       "      <th>metrics.memory_used</th>\n",
       "      <th>metrics.vectorizing_time_minutes</th>\n",
       "      <th>metrics.memory_used_percent</th>\n",
       "      <th>params.memory_free</th>\n",
       "      <th>params.f_log_file</th>\n",
       "      <th>params.memory_used</th>\n",
       "      <th>params.memory_used_percent</th>\n",
       "      <th>params.run_name</th>\n",
       "      <th>tags.mlflow.runName</th>\n",
       "    </tr>\n",
       "  </thead>\n",
       "  <tbody>\n",
       "    <tr>\n",
       "      <th>0</th>\n",
       "      <td>cbb12818e82345dda96928bfdab8b16b</td>\n",
       "      <td>gs://i18n-subreddit-clustering/mlflow/mlruns/16/cbb12818e82345dda96928bfdab8b16b/artifacts</td>\n",
       "      <td>2021-10-12 10:46:05.235000+00:00</td>\n",
       "      <td>2021-10-12 16:41:33.492000+00:00</td>\n",
       "      <td>3465918.0</td>\n",
       "      <td>702999.0</td>\n",
       "      <td>355.468028</td>\n",
       "      <td>0.181436</td>\n",
       "      <td>3465918</td>\n",
       "      <td>logs/AggregateEmbeddings/2021-10-12_10-46-05_agg_full_lc_false_pd-2021-10-12_104604.log</td>\n",
       "      <td>278514</td>\n",
       "      <td>0.07188136995649137</td>\n",
       "      <td>agg_full_lc_false_pd-2021-10-12_104604</td>\n",
       "      <td>agg_full_lc_false_pd-2021-10-12_104604</td>\n",
       "    </tr>\n",
       "    <tr>\n",
       "      <th>1</th>\n",
       "      <td>0591fdae9b7d4da7ae3839767b8aab66</td>\n",
       "      <td>gs://i18n-subreddit-clustering/mlflow/mlruns/16/0591fdae9b7d4da7ae3839767b8aab66/artifacts</td>\n",
       "      <td>2021-10-12 10:27:33.324000+00:00</td>\n",
       "      <td>2021-10-12 16:40:41.501000+00:00</td>\n",
       "      <td>3681161.0</td>\n",
       "      <td>703208.0</td>\n",
       "      <td>373.134208</td>\n",
       "      <td>0.181490</td>\n",
       "      <td>3681161</td>\n",
       "      <td>logs/AggregateEmbeddings/2021-10-12_10-27-33_agg_full_lc_false-2021-10-12_102732.log</td>\n",
       "      <td>64759</td>\n",
       "      <td>0.016713578624458464</td>\n",
       "      <td>agg_full_lc_false-2021-10-12_102732</td>\n",
       "      <td>agg_full_lc_false-2021-10-12_102732</td>\n",
       "    </tr>\n",
       "  </tbody>\n",
       "</table>\n",
       "</div>"
      ],
      "text/plain": [
       "                             run_id                                                                                artifact_uri                       start_time                         end_time  metrics.memory_free  metrics.memory_used  metrics.vectorizing_time_minutes  \\\n",
       "0  cbb12818e82345dda96928bfdab8b16b  gs://i18n-subreddit-clustering/mlflow/mlruns/16/cbb12818e82345dda96928bfdab8b16b/artifacts 2021-10-12 10:46:05.235000+00:00 2021-10-12 16:41:33.492000+00:00            3465918.0             702999.0                        355.468028   \n",
       "1  0591fdae9b7d4da7ae3839767b8aab66  gs://i18n-subreddit-clustering/mlflow/mlruns/16/0591fdae9b7d4da7ae3839767b8aab66/artifacts 2021-10-12 10:27:33.324000+00:00 2021-10-12 16:40:41.501000+00:00            3681161.0             703208.0                        373.134208   \n",
       "\n",
       "   metrics.memory_used_percent params.memory_free                                                                        params.f_log_file params.memory_used params.memory_used_percent                         params.run_name                     tags.mlflow.runName  \n",
       "0                     0.181436            3465918  logs/AggregateEmbeddings/2021-10-12_10-46-05_agg_full_lc_false_pd-2021-10-12_104604.log             278514        0.07188136995649137  agg_full_lc_false_pd-2021-10-12_104604  agg_full_lc_false_pd-2021-10-12_104604  \n",
       "1                     0.181490            3681161     logs/AggregateEmbeddings/2021-10-12_10-27-33_agg_full_lc_false-2021-10-12_102732.log              64759       0.016713578624458464     agg_full_lc_false-2021-10-12_102732     agg_full_lc_false-2021-10-12_102732  "
      ]
     },
     "execution_count": 8,
     "metadata": {},
     "output_type": "execute_result"
    }
   ],
   "source": [
    "cols_with_multiple_vals = df_mlf_clustering_candidates.columns[df_mlf_clustering_candidates.nunique(dropna=False) > 1]\n",
    "\n",
    "df_mlf_clustering_candidates[cols_with_multiple_vals]"
   ]
  },
  {
   "cell_type": "markdown",
   "id": "a6eadbac",
   "metadata": {},
   "source": [
    "# Inspect config for clustering job\n",
    "\n",
    "This config should include:\n",
    "- metadata needed to filter  (e.g., exclude subreddits with fewer than 3 posts)\n",
    "- data to load for clustering\n",
    "- parameters for clustering algo\n",
    "- hydra overrides to run jobs in parallel"
   ]
  },
  {
   "cell_type": "code",
   "execution_count": 9,
   "id": "e8b2ba83",
   "metadata": {},
   "outputs": [
    {
     "name": "stdout",
     "output_type": "stream",
     "text": [
      "['data_text_and_metadata', 'data_embeddings_to_cluster', 'clustering_algo', 'embeddings_to_cluster', 'mlflow_tracking_uri', 'mlflow_experiment_name', 'pipeline']\n"
     ]
    }
   ],
   "source": [
    "test_experiment = 'v0.4.0_use_multi_clustering_test'\n",
    "\n",
    "cfg_cluster_test_v040 = LoadHydraConfig(\n",
    "    config_name='clustering_v0.4.0_base',\n",
    "    config_path=\"../config\",\n",
    "    overrides=[\n",
    "        f\"mlflow_experiment_name={test_experiment}\"\n",
    "#         f\"data_text_and_metadata=top_subreddits_2021_07_16\",\n",
    "#         f\"data_embeddings_to_cluster=top_subs-2021_07_16-use_multi_lower_case_false_00\",\n",
    "    ],\n",
    ")\n",
    "\n",
    "print([k for k in cfg_cluster_test_v040.config_dict.keys()])"
   ]
  },
  {
   "cell_type": "code",
   "execution_count": 10,
   "id": "1ce8adb9",
   "metadata": {},
   "outputs": [],
   "source": [
    "# data with embeddings\n",
    "# cfg_cluster_test_v040.config_dict['data_embeddings_to_cluster']"
   ]
  },
  {
   "cell_type": "code",
   "execution_count": 11,
   "id": "f8597d56",
   "metadata": {},
   "outputs": [
    {
     "data": {
      "text/plain": [
       "{'model_name': 'AgglomerativeClustering',\n",
       " 'model_kwargs': {'n_clusters': 100,\n",
       "  'affinity': 'euclidean',\n",
       "  'linkage': 'ward',\n",
       "  'connectivity': False}}"
      ]
     },
     "execution_count": 11,
     "metadata": {},
     "output_type": "execute_result"
    }
   ],
   "source": [
    "# clustering algo\n",
    "cfg_cluster_test_v040.config_dict['clustering_algo']"
   ]
  },
  {
   "cell_type": "code",
   "execution_count": 12,
   "id": "0abedadc",
   "metadata": {},
   "outputs": [
    {
     "data": {
      "text/plain": [
       "{'dataset_name': 'v0.4.0 inputs - Top Subreddits (no Geo) + Geo-relevant subs, comments: TBD',\n",
       " 'bucket_name': 'i18n-subreddit-clustering',\n",
       " 'folder_subreddits_text_and_meta': 'subreddits/top/2021-09-24',\n",
       " 'folder_posts_text_and_meta': 'posts/top/2021-09-27',\n",
       " 'folder_comments_text_and_meta': 'comments/top/2021-10-04',\n",
       " 'comments_vectorized_mlflow_uuids': ['5f10cd75334142168a6ebb787e477c1f',\n",
       "  '2fcfefc3d5af43328168d3478b4fdeb6'],\n",
       " 'comments_vectorized_gcs': ['gs://i18n-subreddit-clustering/mlflow/mlruns/14/5f10cd75334142168a6ebb787e477c1f/artifacts/df_vect_comments/*.parquet',\n",
       "  'gs://i18n-subreddit-clustering/mlflow/mlruns/14/2fcfefc3d5af43328168d3478b4fdeb6/artifacts/df_vect_comments/*.parquet'],\n",
       " 'comments_vectorized_mlflow_uuids_lowercase': None,\n",
       " 'posts_vectorized_mlflow_uuids': ['8eef951842a34a6e81d176b15ae74afd'],\n",
       " 'posts_vectorized_mlflow_uuids_lowercase': ['537514ab3c724b10903000501802de0e'],\n",
       " 'subreddit_meta_vectorized_mlflow_uuids': ['8eef951842a34a6e81d176b15ae74afd'],\n",
       " 'subreddit_meta_vectorized_mlflow_uuids_lowercase': ['537514ab3c724b10903000501802de0e']}"
      ]
     },
     "execution_count": 12,
     "metadata": {},
     "output_type": "execute_result"
    }
   ],
   "source": [
    "# data with raw text & metadata\n",
    "d_config_text_and_meta = cfg_cluster_test_v040.config_dict['data_text_and_metadata']\n",
    "d_config_text_and_meta"
   ]
  },
  {
   "cell_type": "markdown",
   "id": "49e6f32b",
   "metadata": {},
   "source": [
    "# Load post & sub data \n",
    "\n",
    "Ok, the takeaways seem to be that it's faster to use `dask` for both:\n",
    "- load data\n",
    "- compute aggregates at post-level \n",
    "- the gain from loading as daks was mostly because in pandas I was force-checking unique values\n",
    "    - Once we remove the uniqueness check, the time between pandas & dask is almost the same\n",
    "\n",
    "Otherwise, loading the data with `dask` only saves a few seconds (1 to 3).\n",
    "\n",
    "\n",
    "So when we call `df_posts` inside the LoadSubreddits() class:\n",
    "- change to computing everything in dask up until we need to merge the data\n",
    "- turn-off check for unique post IDs"
   ]
  },
  {
   "cell_type": "markdown",
   "id": "5d022862",
   "metadata": {},
   "source": [
    "## Baselines\n",
    "\n",
    "How long does the basline actually take to load & compute?\n",
    "\n",
    "if it's less than ~2 minutes maybe it's not worth all the additional overhead\n",
    "\n",
    "**Subreddits only**\n",
    "```bash\n",
    "# Subreddits only, pandas reader (old/deprecated)\n",
    "CPU times: user 192 ms, sys: 181 ms, total: 372 ms\n",
    "Wall time: 1.2 s\n",
    "(19262, 37)\n",
    "\n",
    "\n",
    "# Subreddits only, dask reader\n",
    "CPU times: user 193 ms, sys: 94.9 ms, total: 288 ms\n",
    "Wall time: 417 ms\n",
    "(19262, 37)\n",
    "```\n",
    "\n",
    "**POSTS only**\n",
    "```bash\n",
    "\n",
    "```\n",
    "\n",
    "\n",
    "**Subreddits with implicit POSTS**\n",
    "```bash\n",
    "# Count only, when loading as dask then converting to pandas\n",
    "# ** THIS IS THE NEW FORMAT TO USE WHEN RUNNING CLUSTERING EMBEDDINGS AT SUBREDDIT LEVEL **\n",
    "CPU times: user 11.3 s, sys: 1.98 s, total: 13.3 s\n",
    "Wall time: 11.4 s\n",
    "\n",
    "# Counts only, when loading as pandas (and with unique check)\n",
    "CPU times: user 19.8 s, sys: 2.53 s, total: 22.3 s\n",
    "Wall time: 22.5 s\n",
    "(19262, 38)\n",
    "\n",
    "\n",
    "# All aggs, loading as pandas (old/deprecated) (with unique check)\n",
    "CPU times: user 57.4 s, sys: 7.82 s, total: 1min 5s\n",
    "Wall time: 1min 1s\n",
    "(19262, 94)\n",
    "\n",
    "\n",
    "# All aggs, loading as dask w/o unique check\n",
    "\n",
    "\n",
    "```\n"
   ]
  },
  {
   "cell_type": "markdown",
   "id": "3968ee0d",
   "metadata": {},
   "source": [
    "### Subs only (no post aggregates) - `1 second`\n",
    "Only load subreddit data, no dependency on posts. \n",
    "But this data isn't good for filtering b/c it doesn't include how many posts were used in the model."
   ]
  },
  {
   "cell_type": "code",
   "execution_count": 78,
   "id": "f1473e55",
   "metadata": {},
   "outputs": [
    {
     "name": "stderr",
     "output_type": "stream",
     "text": [
      "21:34:51 | INFO | \"Reading raw data...\"\n",
      "21:34:51 | INFO | \"  Local folder to download artifact(s):\n",
      "  /home/jupyter/subreddit_clustering_i18n/data/local_cache/subreddits/top/2021-09-24\"\n",
      "100%|#################################| 1/1 [00:00<00:00, 7108.99it/s]\n",
      "21:34:52 | INFO | \"  Applying transformations...\"\n"
     ]
    },
    {
     "name": "stdout",
     "output_type": "stream",
     "text": [
      "CPU times: user 194 ms, sys: 108 ms, total: 302 ms\n",
      "Wall time: 453 ms\n"
     ]
    },
    {
     "data": {
      "text/plain": [
       "(19262, 37)"
      ]
     },
     "execution_count": 78,
     "metadata": {},
     "output_type": "execute_result"
    }
   ],
   "source": [
    "%%time\n",
    "# pandas reader\n",
    "col_manual_labels = 'manual_topic_and_rating'\n",
    "\n",
    "df_subs = LoadSubreddits(\n",
    "    bucket_name=d_config_text_and_meta['bucket_name'],\n",
    "    folder_path=d_config_text_and_meta['folder_subreddits_text_and_meta'],\n",
    "    folder_posts=d_config_text_and_meta['folder_posts_text_and_meta'],\n",
    "    columns=None,\n",
    "    col_new_manual_topic=col_manual_labels,\n",
    "    read_fxn='pandas',\n",
    "    df_format='pandas',\n",
    "    unique_check=True,\n",
    ").read_and_apply_transformations()\n",
    "\n",
    "df_subs.shape"
   ]
  },
  {
   "cell_type": "code",
   "execution_count": 81,
   "id": "be8cfa82",
   "metadata": {},
   "outputs": [
    {
     "name": "stderr",
     "output_type": "stream",
     "text": [
      "21:36:04 | INFO | \"Reading raw data...\"\n",
      "21:36:04 | INFO | \"  Local folder to download artifact(s):\n",
      "  /home/jupyter/subreddit_clustering_i18n/data/local_cache/subreddits/top/2021-09-24\"\n",
      "100%|#################################| 1/1 [00:00<00:00, 7025.63it/s]\n",
      "21:36:05 | INFO | \"  Applying transformations...\"\n"
     ]
    },
    {
     "name": "stdout",
     "output_type": "stream",
     "text": [
      "CPU times: user 169 ms, sys: 114 ms, total: 283 ms\n",
      "Wall time: 415 ms\n"
     ]
    },
    {
     "data": {
      "text/plain": [
       "(19262, 37)"
      ]
     },
     "execution_count": 81,
     "metadata": {},
     "output_type": "execute_result"
    }
   ],
   "source": [
    "%%time\n",
    "# pandas reader\n",
    "col_manual_labels = 'manual_topic_and_rating'\n",
    "\n",
    "df_subs = LoadSubreddits(\n",
    "    bucket_name=d_config_text_and_meta['bucket_name'],\n",
    "    folder_path=d_config_text_and_meta['folder_subreddits_text_and_meta'],\n",
    "    folder_posts=d_config_text_and_meta['folder_posts_text_and_meta'],\n",
    "    columns=None,\n",
    "    col_new_manual_topic=col_manual_labels,\n",
    "    read_fxn='pandas',\n",
    "    df_format='pandas',\n",
    "    unique_check=False,\n",
    ").read_and_apply_transformations()\n",
    "\n",
    "df_subs.shape"
   ]
  },
  {
   "cell_type": "code",
   "execution_count": 79,
   "id": "b503f180",
   "metadata": {},
   "outputs": [
    {
     "name": "stderr",
     "output_type": "stream",
     "text": [
      "21:35:12 | INFO | \"Reading raw data...\"\n",
      "21:35:12 | INFO | \"  Local folder to download artifact(s):\n",
      "  /home/jupyter/subreddit_clustering_i18n/data/local_cache/subreddits/top/2021-09-24\"\n",
      "100%|#################################| 1/1 [00:00<00:00, 7449.92it/s]\n",
      "21:35:12 | INFO | \"  Read fxn: <function read_parquet at 0x7fd5c5c29b00>\"\n",
      "21:35:12 | INFO | \"  df format: pandas\"\n",
      "21:35:12 | INFO | \"  Reading with dask and converting to pandas...\"\n",
      "21:35:13 | INFO | \"  Checking ID uniqueness...\"\n",
      "21:35:13 | INFO | \"  Applying transformations...\"\n"
     ]
    },
    {
     "name": "stdout",
     "output_type": "stream",
     "text": [
      "CPU times: user 219 ms, sys: 53.1 ms, total: 272 ms\n",
      "Wall time: 402 ms\n"
     ]
    },
    {
     "data": {
      "text/plain": [
       "(19262, 37)"
      ]
     },
     "execution_count": 79,
     "metadata": {},
     "output_type": "execute_result"
    }
   ],
   "source": [
    "%%time\n",
    "# pandas reader\n",
    "col_manual_labels = 'manual_topic_and_rating'\n",
    "\n",
    "df_subs = LoadSubreddits(\n",
    "    bucket_name=d_config_text_and_meta['bucket_name'],\n",
    "    folder_path=d_config_text_and_meta['folder_subreddits_text_and_meta'],\n",
    "    folder_posts=d_config_text_and_meta['folder_posts_text_and_meta'],\n",
    "    columns=None,\n",
    "    col_new_manual_topic=col_manual_labels,\n",
    "    read_fxn='dask',\n",
    "    df_format='pandas',\n",
    "    unique_check=True,\n",
    "    verbose=True,\n",
    ").read_and_apply_transformations()\n",
    "\n",
    "df_subs.shape"
   ]
  },
  {
   "cell_type": "code",
   "execution_count": 80,
   "id": "bd42796d",
   "metadata": {},
   "outputs": [
    {
     "name": "stderr",
     "output_type": "stream",
     "text": [
      "21:35:53 | INFO | \"Reading raw data...\"\n",
      "21:35:53 | INFO | \"  Local folder to download artifact(s):\n",
      "  /home/jupyter/subreddit_clustering_i18n/data/local_cache/subreddits/top/2021-09-24\"\n",
      "100%|#################################| 1/1 [00:00<00:00, 6393.76it/s]\n",
      "21:35:54 | INFO | \"  Read fxn: <function read_parquet at 0x7fd5c5c29b00>\"\n",
      "21:35:54 | INFO | \"  df format: pandas\"\n",
      "21:35:54 | INFO | \"  Reading with dask and converting to pandas...\"\n",
      "21:35:54 | INFO | \"  Applying transformations...\"\n"
     ]
    },
    {
     "name": "stdout",
     "output_type": "stream",
     "text": [
      "CPU times: user 214 ms, sys: 81.6 ms, total: 296 ms\n",
      "Wall time: 460 ms\n"
     ]
    },
    {
     "data": {
      "text/plain": [
       "(19262, 37)"
      ]
     },
     "execution_count": 80,
     "metadata": {},
     "output_type": "execute_result"
    }
   ],
   "source": [
    "%%time\n",
    "# pandas reader\n",
    "col_manual_labels = 'manual_topic_and_rating'\n",
    "\n",
    "df_subs = LoadSubreddits(\n",
    "    bucket_name=d_config_text_and_meta['bucket_name'],\n",
    "    folder_path=d_config_text_and_meta['folder_subreddits_text_and_meta'],\n",
    "    folder_posts=d_config_text_and_meta['folder_posts_text_and_meta'],\n",
    "    columns=None,\n",
    "    col_new_manual_topic=col_manual_labels,\n",
    "    read_fxn='dask',\n",
    "    df_format='pandas',\n",
    "    unique_check=False,\n",
    "    verbose=True,\n",
    ").read_and_apply_transformations()\n",
    "\n",
    "df_subs.shape"
   ]
  },
  {
   "cell_type": "markdown",
   "id": "97b0bdb9",
   "metadata": {},
   "source": [
    "### Subs + post aggregates (only counts) - down to `11 seconds` from `22 seconds` (mostly bc/ of unique check & pandas loading times)\n",
    "This one calculates:\n",
    "- post counts (how many posts are in the training data)\n",
    "\n",
    "It includes only the bare minimum number of columns to get post-counts.  It took a bunch of refactoring the aggregate function, but it should work and it's relatively fast."
   ]
  },
  {
   "cell_type": "markdown",
   "id": "c6c648a9",
   "metadata": {},
   "source": [
    "#### ** THIS IS THE NEW FORMAT TO USE WHEN RUNNING CLUSTERING EMBEDDINGS AT SUBREDDIT LEVEL **"
   ]
  },
  {
   "cell_type": "code",
   "execution_count": 98,
   "id": "14b80e42",
   "metadata": {},
   "outputs": [
    {
     "name": "stderr",
     "output_type": "stream",
     "text": [
      "21:56:47 | INFO | \"Loading df_posts from: posts/top/2021-09-27\"\n",
      "21:56:47 | INFO | \"Reading raw data...\"\n",
      "21:56:47 | INFO | \"  Local folder to download artifact(s):\n",
      "  /home/jupyter/subreddit_clustering_i18n/data/local_cache/posts/top/2021-09-27\"\n",
      "100%|##############################| 27/27 [00:00<00:00, 43273.29it/s]\n",
      "21:56:47 | INFO | \"  Applying transformations...\"\n",
      "21:56:47 | ERROR | \"Error creating manual topic... 'combined_topic_and_rating'\"\n",
      "21:56:51 | INFO | \"  reading sub-level data & merging with aggregates...\"\n",
      "21:56:51 | INFO | \"Reading raw data...\"\n",
      "21:56:51 | INFO | \"  Local folder to download artifact(s):\n",
      "  /home/jupyter/subreddit_clustering_i18n/data/local_cache/subreddits/top/2021-09-24\"\n",
      "100%|#################################| 1/1 [00:00<00:00, 6887.20it/s]\n",
      "21:56:51 | INFO | \"  Applying transformations...\"\n"
     ]
    },
    {
     "name": "stdout",
     "output_type": "stream",
     "text": [
      "CPU times: user 11.3 s, sys: 2.12 s, total: 13.4 s\n",
      "Wall time: 11.4 s\n"
     ]
    },
    {
     "data": {
      "text/plain": [
       "(19262, 38)"
      ]
     },
     "execution_count": 98,
     "metadata": {},
     "output_type": "execute_result"
    }
   ],
   "source": [
    "%%time\n",
    "col_manual_labels = 'manual_topic_and_rating'\n",
    "\n",
    "df_subs_count_dd = LoadSubreddits(\n",
    "    bucket_name=d_config_text_and_meta['bucket_name'],\n",
    "    folder_path=d_config_text_and_meta['folder_subreddits_text_and_meta'],\n",
    "    folder_posts=d_config_text_and_meta['folder_posts_text_and_meta'],\n",
    "    columns=None,\n",
    "    col_new_manual_topic=col_manual_labels,\n",
    ").read_apply_transformations_and_merge_post_aggs(\n",
    "    cols_post='post_count_only_',\n",
    "    df_format='dask',\n",
    "    read_fxn='dask',\n",
    "    unique_check=False,\n",
    ")\n",
    "\n",
    "df_subs_count_dd.shape"
   ]
  },
  {
   "cell_type": "markdown",
   "id": "dcf0a4c9",
   "metadata": {},
   "source": [
    "#### Other slow calls"
   ]
  },
  {
   "cell_type": "code",
   "execution_count": 97,
   "id": "988828ae",
   "metadata": {},
   "outputs": [
    {
     "name": "stderr",
     "output_type": "stream",
     "text": [
      "21:56:22 | INFO | \"Loading df_posts from: posts/top/2021-09-27\"\n",
      "21:56:22 | INFO | \"Reading raw data...\"\n",
      "21:56:22 | INFO | \"  Local folder to download artifact(s):\n",
      "  /home/jupyter/subreddit_clustering_i18n/data/local_cache/posts/top/2021-09-27\"\n",
      "100%|##############################| 27/27 [00:00<00:00, 48437.21it/s]\n",
      "21:56:25 | INFO | \"  Applying transformations...\"\n",
      "21:56:31 | ERROR | \"Error creating manual topic... 'combined_topic_and_rating'\"\n",
      "21:56:31 | INFO | \"Reading raw data...\"\n",
      "21:56:31 | INFO | \"  Local folder to download artifact(s):\n",
      "  /home/jupyter/subreddit_clustering_i18n/data/local_cache/posts/top/2021-09-27\"\n",
      "100%|##############################| 27/27 [00:00<00:00, 50220.05it/s]\n",
      "21:56:34 | INFO | \"  Applying transformations...\"\n",
      "21:56:39 | ERROR | \"Error creating manual topic... 'combined_topic_and_rating'\"\n",
      "21:56:39 | INFO | \"  reading sub-level data & merging with aggregates...\"\n",
      "21:56:39 | INFO | \"Reading raw data...\"\n",
      "21:56:39 | INFO | \"  Local folder to download artifact(s):\n",
      "  /home/jupyter/subreddit_clustering_i18n/data/local_cache/subreddits/top/2021-09-24\"\n",
      "100%|#################################| 1/1 [00:00<00:00, 7371.36it/s]\n",
      "21:56:40 | INFO | \"  Applying transformations...\"\n"
     ]
    },
    {
     "name": "stdout",
     "output_type": "stream",
     "text": [
      "CPU times: user 24.5 s, sys: 4.13 s, total: 28.7 s\n",
      "Wall time: 24.5 s\n"
     ]
    },
    {
     "data": {
      "text/plain": [
       "(19262, 38)"
      ]
     },
     "execution_count": 97,
     "metadata": {},
     "output_type": "execute_result"
    }
   ],
   "source": [
    "%%time\n",
    "\n",
    "df_subs_count = LoadSubreddits(\n",
    "    bucket_name=d_config_text_and_meta['bucket_name'],\n",
    "    folder_path=d_config_text_and_meta['folder_subreddits_text_and_meta'],\n",
    "    folder_posts=d_config_text_and_meta['folder_posts_text_and_meta'],\n",
    "    columns=None,\n",
    "    col_new_manual_topic=col_manual_labels,\n",
    ").read_apply_transformations_and_merge_post_aggs(\n",
    "    cols_post='post_count_only_',\n",
    "    df_format='pandas',\n",
    "    read_fxn='pandas',\n",
    "    unique_check=False,\n",
    ")\n",
    "\n",
    "df_subs_count.shape"
   ]
  },
  {
   "cell_type": "code",
   "execution_count": 96,
   "id": "52d8babf",
   "metadata": {},
   "outputs": [
    {
     "name": "stderr",
     "output_type": "stream",
     "text": [
      "21:55:27 | INFO | \"Loading df_posts from: posts/top/2021-09-27\"\n",
      "21:55:27 | INFO | \"Reading raw data...\"\n",
      "21:55:27 | INFO | \"  Local folder to download artifact(s):\n",
      "  /home/jupyter/subreddit_clustering_i18n/data/local_cache/posts/top/2021-09-27\"\n",
      "100%|##############################| 27/27 [00:00<00:00, 51900.19it/s]\n",
      "21:55:35 | INFO | \"  Applying transformations...\"\n",
      "21:55:41 | ERROR | \"Error creating manual topic... 'combined_topic_and_rating'\"\n",
      "21:55:41 | INFO | \"Reading raw data...\"\n",
      "21:55:41 | INFO | \"  Local folder to download artifact(s):\n",
      "  /home/jupyter/subreddit_clustering_i18n/data/local_cache/posts/top/2021-09-27\"\n",
      "100%|##############################| 27/27 [00:00<00:00, 48375.14it/s]\n",
      "21:55:50 | INFO | \"  Applying transformations...\"\n",
      "21:55:56 | ERROR | \"Error creating manual topic... 'combined_topic_and_rating'\"\n",
      "21:55:56 | INFO | \"  reading sub-level data & merging with aggregates...\"\n",
      "21:55:56 | INFO | \"Reading raw data...\"\n",
      "21:55:56 | INFO | \"  Local folder to download artifact(s):\n",
      "  /home/jupyter/subreddit_clustering_i18n/data/local_cache/subreddits/top/2021-09-24\"\n",
      "100%|#################################| 1/1 [00:00<00:00, 5675.65it/s]\n",
      "21:55:57 | INFO | \"  Applying transformations...\"\n"
     ]
    },
    {
     "name": "stdout",
     "output_type": "stream",
     "text": [
      "CPU times: user 37.3 s, sys: 4.84 s, total: 42.1 s\n",
      "Wall time: 38 s\n"
     ]
    },
    {
     "data": {
      "text/plain": [
       "(19262, 38)"
      ]
     },
     "execution_count": 96,
     "metadata": {},
     "output_type": "execute_result"
    }
   ],
   "source": [
    "%%time\n",
    "\n",
    "df_subs_count = LoadSubreddits(\n",
    "    bucket_name=d_config_text_and_meta['bucket_name'],\n",
    "    folder_path=d_config_text_and_meta['folder_subreddits_text_and_meta'],\n",
    "    folder_posts=d_config_text_and_meta['folder_posts_text_and_meta'],\n",
    "    columns=None,\n",
    "    col_new_manual_topic=col_manual_labels,\n",
    ").read_apply_transformations_and_merge_post_aggs(\n",
    "    cols_post='post_count_only_',\n",
    "    df_format='pandas',\n",
    "    read_fxn='pandas',\n",
    "    unique_check=True,\n",
    ")\n",
    "\n",
    "df_subs_count.shape"
   ]
  },
  {
   "cell_type": "markdown",
   "id": "a2c811f5",
   "metadata": {},
   "source": [
    "### Subs + post aggregates (old/default) - `60 seconds`\n",
    "This one calculates:\n",
    "- language info (primary, secondary, top N language percent)\n",
    "- post type (primary & percent per post type)\n",
    "- post counts (how many posts are in the training data)\n",
    "\n",
    "Each of those steps take a long longer when we have over 8 million posts.\n",
    "\n",
    "fastest setting is:\n",
    "```bash\n",
    "# Old timing (pandas and with time check)\n",
    "CPU times: user 57.4 s, sys: 7.82 s, total: 1min 5s\n",
    "Wall time: 1min 1s\n",
    "(19262, 94)\n",
    "\n",
    "\n",
    "# Fastest new setting\n",
    ".read_apply_transformations_and_merge_post_aggs(\n",
    "    read_fxn='pandas',\n",
    "    df_format='pandas',\n",
    "    unique_check=False,\n",
    ")\n",
    "CPU times: user 48.9 s, sys: 6.74 s, total: 55.7 s\n",
    "Wall time: 51.3 s\n",
    "(19262, 94)\n",
    "\n",
    "# pandas and dask are slower in this case\n",
    ".read_apply_transformations_and_merge_post_aggs(\n",
    "    read_fxn='dask',\n",
    "    df_format='pandas',\n",
    "    unique_check=False,\n",
    ")\n",
    "CPU times: user 50.9 s, sys: 6.9 s, total: 57.9 s\n",
    "Wall time: 53.5 s\n",
    "(19262, 94)\n",
    "```"
   ]
  },
  {
   "cell_type": "code",
   "execution_count": 60,
   "id": "87732360",
   "metadata": {},
   "outputs": [
    {
     "name": "stderr",
     "output_type": "stream",
     "text": [
      "20:55:00 | INFO | \"Loading df_posts from: posts/top/2021-09-27\"\n",
      "20:55:00 | INFO | \"Reading raw data...\"\n",
      "20:55:00 | INFO | \"Local folder to download artifact(s):\n",
      "  /home/jupyter/subreddit_clustering_i18n/data/local_cache/posts/top/2021-09-27\"\n",
      "100%|##############################| 27/27 [00:00<00:00, 48624.39it/s]\n",
      "20:55:10 | INFO | \"  Applying transformations...\"\n",
      "20:55:46 | INFO | \"  reading sub-level data & merging with aggregates...\"\n",
      "20:55:46 | INFO | \"Reading raw data...\"\n",
      "20:55:46 | INFO | \"Local folder to download artifact(s):\n",
      "  /home/jupyter/subreddit_clustering_i18n/data/local_cache/subreddits/top/2021-09-24\"\n",
      "100%|#################################| 1/1 [00:00<00:00, 6017.65it/s]\n",
      "20:55:47 | INFO | \"  Applying transformations...\"\n"
     ]
    },
    {
     "name": "stdout",
     "output_type": "stream",
     "text": [
      "CPU times: user 57.4 s, sys: 7.82 s, total: 1min 5s\n",
      "Wall time: 1min 1s\n"
     ]
    },
    {
     "data": {
      "text/plain": [
       "(19262, 94)"
      ]
     },
     "execution_count": 60,
     "metadata": {},
     "output_type": "execute_result"
    }
   ],
   "source": [
    "%%time\n",
    "col_manual_labels = 'manual_topic_and_rating'\n",
    "\n",
    "df_subs_agg = LoadSubreddits(\n",
    "    bucket_name=d_config_text_and_meta['bucket_name'],\n",
    "    folder_path=d_config_text_and_meta['folder_subreddits_text_and_meta'],\n",
    "    folder_posts=d_config_text_and_meta['folder_posts_text_and_meta'],\n",
    "    columns=None,\n",
    "    read_fxn='pandas',\n",
    "    col_new_manual_topic=col_manual_labels,\n",
    ").read_apply_transformations_and_merge_post_aggs()\n",
    "\n",
    "df_subs_agg.shape"
   ]
  },
  {
   "cell_type": "code",
   "execution_count": 181,
   "id": "4c24f543",
   "metadata": {},
   "outputs": [
    {
     "name": "stderr",
     "output_type": "stream",
     "text": [
      "03:04:10 | INFO | \"Loading df_posts from: posts/top/2021-09-27\"\n",
      "03:04:10 | INFO | \"Reading raw data...\"\n",
      "03:04:10 | INFO | \"  Local folder to download artifact(s):\n",
      "  /home/jupyter/subreddit_clustering_i18n/data/local_cache/posts/top/2021-09-27\"\n",
      "100%|##############################| 27/27 [00:00<00:00, 57281.85it/s]\n",
      "03:04:14 | INFO | \"  Applying transformations...\"\n",
      "03:04:47 | INFO | \"  reading sub-level data & merging with aggregates...\"\n",
      "03:04:47 | INFO | \"Reading raw data...\"\n",
      "03:04:47 | INFO | \"  Local folder to download artifact(s):\n",
      "  /home/jupyter/subreddit_clustering_i18n/data/local_cache/subreddits/top/2021-09-24\"\n",
      "100%|#################################| 1/1 [00:00<00:00, 8665.92it/s]\n",
      "03:04:47 | INFO | \"  Applying transformations...\"\n"
     ]
    },
    {
     "name": "stdout",
     "output_type": "stream",
     "text": [
      "CPU times: user 48.9 s, sys: 6.74 s, total: 55.7 s\n",
      "Wall time: 51.3 s\n"
     ]
    },
    {
     "data": {
      "text/plain": [
       "(19262, 94)"
      ]
     },
     "execution_count": 181,
     "metadata": {},
     "output_type": "execute_result"
    }
   ],
   "source": [
    "%%time\n",
    "\n",
    "df_subs_agg = LoadSubreddits(\n",
    "    bucket_name=d_config_text_and_meta['bucket_name'],\n",
    "    folder_path=d_config_text_and_meta['folder_subreddits_text_and_meta'],\n",
    "    folder_posts=d_config_text_and_meta['folder_posts_text_and_meta'],\n",
    "    columns=None,\n",
    "    read_fxn='dask',\n",
    "    col_new_manual_topic=col_manual_labels,\n",
    ").read_apply_transformations_and_merge_post_aggs(\n",
    "    read_fxn='pandas',\n",
    "    df_format='pandas',\n",
    "    unique_check=False,\n",
    ")\n",
    "\n",
    "df_subs_agg.shape"
   ]
  },
  {
   "cell_type": "code",
   "execution_count": 182,
   "id": "0613749e",
   "metadata": {},
   "outputs": [
    {
     "name": "stderr",
     "output_type": "stream",
     "text": [
      "03:07:45 | INFO | \"Loading df_posts from: posts/top/2021-09-27\"\n",
      "03:07:45 | INFO | \"Reading raw data...\"\n",
      "03:07:45 | INFO | \"  Local folder to download artifact(s):\n",
      "  /home/jupyter/subreddit_clustering_i18n/data/local_cache/posts/top/2021-09-27\"\n",
      "100%|##############################| 27/27 [00:00<00:00, 49409.34it/s]\n",
      "03:07:50 | INFO | \"  Applying transformations...\"\n",
      "03:08:23 | INFO | \"  reading sub-level data & merging with aggregates...\"\n",
      "03:08:23 | INFO | \"Reading raw data...\"\n",
      "03:08:23 | INFO | \"  Local folder to download artifact(s):\n",
      "  /home/jupyter/subreddit_clustering_i18n/data/local_cache/subreddits/top/2021-09-24\"\n",
      "100%|#################################| 1/1 [00:00<00:00, 7244.05it/s]\n",
      "03:08:24 | INFO | \"  Applying transformations...\"\n"
     ]
    },
    {
     "name": "stdout",
     "output_type": "stream",
     "text": [
      "CPU times: user 50.9 s, sys: 6.9 s, total: 57.9 s\n",
      "Wall time: 53.5 s\n"
     ]
    },
    {
     "data": {
      "text/plain": [
       "(19262, 94)"
      ]
     },
     "execution_count": 182,
     "metadata": {},
     "output_type": "execute_result"
    }
   ],
   "source": [
    "%%time\n",
    "\n",
    "df_subs_agg = LoadSubreddits(\n",
    "    bucket_name=d_config_text_and_meta['bucket_name'],\n",
    "    folder_path=d_config_text_and_meta['folder_subreddits_text_and_meta'],\n",
    "    folder_posts=d_config_text_and_meta['folder_posts_text_and_meta'],\n",
    "    columns=None,\n",
    "    read_fxn='pandas',\n",
    "    col_new_manual_topic=col_manual_labels,\n",
    ").read_apply_transformations_and_merge_post_aggs(\n",
    "    read_fxn='dask',\n",
    "    df_format='pandas',\n",
    "    unique_check=False,\n",
    ")\n",
    "\n",
    "df_subs_agg.shape"
   ]
  },
  {
   "cell_type": "code",
   "execution_count": 183,
   "id": "14b82785",
   "metadata": {},
   "outputs": [
    {
     "name": "stderr",
     "output_type": "stream",
     "text": [
      "03:08:39 | INFO | \"Loading df_posts from: posts/top/2021-09-27\"\n",
      "03:08:39 | INFO | \"Reading raw data...\"\n",
      "03:08:39 | INFO | \"  Local folder to download artifact(s):\n",
      "  /home/jupyter/subreddit_clustering_i18n/data/local_cache/posts/top/2021-09-27\"\n",
      "100%|##############################| 27/27 [00:00<00:00, 46873.43it/s]\n",
      "03:08:39 | INFO | \"  Applying transformations...\"\n",
      "03:08:39 | WARNING | \"  CONVERTING dask df to pandas\"\n",
      "03:09:17 | INFO | \"  reading sub-level data & merging with aggregates...\"\n",
      "03:09:17 | INFO | \"Reading raw data...\"\n",
      "03:09:17 | INFO | \"  Local folder to download artifact(s):\n",
      "  /home/jupyter/subreddit_clustering_i18n/data/local_cache/subreddits/top/2021-09-24\"\n",
      "100%|#################################| 1/1 [00:00<00:00, 7358.43it/s]\n",
      "03:09:17 | INFO | \"  Applying transformations...\"\n"
     ]
    },
    {
     "name": "stdout",
     "output_type": "stream",
     "text": [
      "CPU times: user 50.6 s, sys: 7.1 s, total: 57.7 s\n",
      "Wall time: 53.3 s\n"
     ]
    },
    {
     "data": {
      "text/plain": [
       "(19262, 94)"
      ]
     },
     "execution_count": 183,
     "metadata": {},
     "output_type": "execute_result"
    }
   ],
   "source": [
    "%%time\n",
    "\n",
    "df_subs_agg = LoadSubreddits(\n",
    "    bucket_name=d_config_text_and_meta['bucket_name'],\n",
    "    folder_path=d_config_text_and_meta['folder_subreddits_text_and_meta'],\n",
    "    folder_posts=d_config_text_and_meta['folder_posts_text_and_meta'],\n",
    "    columns=None,\n",
    "    read_fxn='pandas',\n",
    "    col_new_manual_topic=col_manual_labels,\n",
    ").read_apply_transformations_and_merge_post_aggs(\n",
    "    read_fxn='dask',\n",
    "    df_format='dask',\n",
    "    unique_check=False,\n",
    ")\n",
    "\n",
    "df_subs_agg.shape"
   ]
  },
  {
   "cell_type": "code",
   "execution_count": 16,
   "id": "423cf15b",
   "metadata": {},
   "outputs": [],
   "source": [
    "# df_subs.head()"
   ]
  },
  {
   "cell_type": "code",
   "execution_count": 17,
   "id": "85ee4f55",
   "metadata": {},
   "outputs": [],
   "source": [
    "# df_subs['posts_for_modeling_count'].describe()"
   ]
  },
  {
   "cell_type": "markdown",
   "id": "9182f25b",
   "metadata": {},
   "source": [
    "## Read posts - with pandas v. dask"
   ]
  },
  {
   "cell_type": "markdown",
   "id": "b183ce23",
   "metadata": {},
   "source": [
    "#### Pandas"
   ]
  },
  {
   "cell_type": "code",
   "execution_count": 83,
   "id": "da9fcb7f",
   "metadata": {},
   "outputs": [
    {
     "name": "stderr",
     "output_type": "stream",
     "text": [
      "21:37:18 | INFO | \"Reading raw data...\"\n",
      "21:37:18 | INFO | \"  Local folder to download artifact(s):\n",
      "  /home/jupyter/subreddit_clustering_i18n/data/local_cache/posts/top/2021-09-27\"\n",
      "100%|##############################| 27/27 [00:00<00:00, 53645.76it/s]\n",
      "21:37:18 | INFO | \"  Read fxn: <function read_parquet at 0x7fd5cec41d40>\"\n",
      "21:37:18 | INFO | \"  df format: pandas\"\n",
      "21:37:18 | INFO | \"  Reading without .compute(): <function read_parquet at 0x7fd5cec41d40>\"\n",
      "21:37:21 | INFO | \"  Checking ID uniqueness...\"\n",
      "21:37:26 | INFO | \"  Applying transformations...\"\n",
      "21:37:32 | ERROR | \"Error creating manual topic... 'combined_topic_and_rating'\"\n"
     ]
    },
    {
     "name": "stdout",
     "output_type": "stream",
     "text": [
      "CPU times: user 13.9 s, sys: 2.04 s, total: 15.9 s\n",
      "Wall time: 13.9 s\n"
     ]
    },
    {
     "data": {
      "text/plain": [
       "(8439672, 3)"
      ]
     },
     "execution_count": 83,
     "metadata": {},
     "output_type": "execute_result"
    }
   ],
   "source": [
    "%%time\n",
    "\n",
    "df_posts_pd = LoadPosts(\n",
    "    bucket_name=d_config_text_and_meta['bucket_name'],\n",
    "    folder_path=d_config_text_and_meta['folder_posts_text_and_meta'],\n",
    "    columns=cols_post_count,\n",
    "    col_new_manual_topic=col_manual_labels,\n",
    "    verbose=True,\n",
    "    df_format='pandas',\n",
    "    read_fxn='pandas',\n",
    "    unique_check=True,\n",
    ").read_and_apply_transformations()\n",
    "\n",
    "df_posts_pd.shape"
   ]
  },
  {
   "cell_type": "code",
   "execution_count": 84,
   "id": "a39d9308",
   "metadata": {},
   "outputs": [
    {
     "name": "stderr",
     "output_type": "stream",
     "text": [
      "21:37:48 | INFO | \"Reading raw data...\"\n",
      "21:37:48 | INFO | \"  Local folder to download artifact(s):\n",
      "  /home/jupyter/subreddit_clustering_i18n/data/local_cache/posts/top/2021-09-27\"\n",
      "100%|##############################| 27/27 [00:00<00:00, 56425.61it/s]\n",
      "21:37:48 | INFO | \"  Read fxn: <function read_parquet at 0x7fd5cec41d40>\"\n",
      "21:37:48 | INFO | \"  df format: pandas\"\n",
      "21:37:48 | INFO | \"  Reading without .compute(): <function read_parquet at 0x7fd5cec41d40>\"\n",
      "21:37:51 | INFO | \"  Applying transformations...\"\n",
      "21:37:56 | ERROR | \"Error creating manual topic... 'combined_topic_and_rating'\"\n"
     ]
    },
    {
     "name": "stdout",
     "output_type": "stream",
     "text": [
      "CPU times: user 8.67 s, sys: 2.21 s, total: 10.9 s\n",
      "Wall time: 8.66 s\n"
     ]
    },
    {
     "data": {
      "text/plain": [
       "(8439672, 3)"
      ]
     },
     "execution_count": 84,
     "metadata": {},
     "output_type": "execute_result"
    }
   ],
   "source": [
    "%%time\n",
    "\n",
    "df_posts_pd = LoadPosts(\n",
    "    bucket_name=d_config_text_and_meta['bucket_name'],\n",
    "    folder_path=d_config_text_and_meta['folder_posts_text_and_meta'],\n",
    "    columns=cols_post_count,\n",
    "    col_new_manual_topic=col_manual_labels,\n",
    "    verbose=True,\n",
    "    df_format='pandas',\n",
    "    read_fxn='pandas',\n",
    "    unique_check=False,\n",
    ").read_and_apply_transformations()\n",
    "\n",
    "df_posts_pd.shape"
   ]
  },
  {
   "cell_type": "markdown",
   "id": "07b9b24f",
   "metadata": {},
   "source": [
    "#### Read as dask & convert to pandas"
   ]
  },
  {
   "cell_type": "code",
   "execution_count": 85,
   "id": "cbdf5279",
   "metadata": {},
   "outputs": [
    {
     "name": "stderr",
     "output_type": "stream",
     "text": [
      "21:39:27 | INFO | \"Reading raw data...\"\n",
      "21:39:27 | INFO | \"  Local folder to download artifact(s):\n",
      "  /home/jupyter/subreddit_clustering_i18n/data/local_cache/posts/top/2021-09-27\"\n",
      "100%|##############################| 27/27 [00:00<00:00, 56201.59it/s]\n",
      "21:39:27 | INFO | \"  Read fxn: <function read_parquet at 0x7fd5c5c29b00>\"\n",
      "21:39:27 | INFO | \"  df format: pandas\"\n",
      "21:39:27 | INFO | \"  Reading with dask and converting to pandas...\"\n",
      "21:39:31 | INFO | \"  Checking ID uniqueness...\"\n",
      "21:39:36 | INFO | \"  Applying transformations...\"\n",
      "21:39:42 | ERROR | \"Error creating manual topic... 'combined_topic_and_rating'\"\n"
     ]
    },
    {
     "name": "stdout",
     "output_type": "stream",
     "text": [
      "CPU times: user 14.4 s, sys: 2.38 s, total: 16.7 s\n",
      "Wall time: 14.8 s\n"
     ]
    },
    {
     "data": {
      "text/plain": [
       "(8439672, 3)"
      ]
     },
     "execution_count": 85,
     "metadata": {},
     "output_type": "execute_result"
    }
   ],
   "source": [
    "%%time\n",
    "\n",
    "df_posts_dd_to_pd_internal = LoadPosts(\n",
    "    bucket_name=d_config_text_and_meta['bucket_name'],\n",
    "    folder_path=d_config_text_and_meta['folder_posts_text_and_meta'],\n",
    "    columns=cols_post_count,\n",
    "    col_new_manual_topic=col_manual_labels,\n",
    "    verbose=True,\n",
    "    read_fxn='dask',\n",
    "    df_format='pandas',\n",
    "    unique_check=True,\n",
    ").read_and_apply_transformations()\n",
    "\n",
    "df_posts_dd_to_pd_internal.shape"
   ]
  },
  {
   "cell_type": "code",
   "execution_count": 86,
   "id": "b8718bb3",
   "metadata": {},
   "outputs": [
    {
     "name": "stderr",
     "output_type": "stream",
     "text": [
      "21:39:42 | INFO | \"Reading raw data...\"\n",
      "21:39:42 | INFO | \"  Local folder to download artifact(s):\n",
      "  /home/jupyter/subreddit_clustering_i18n/data/local_cache/posts/top/2021-09-27\"\n",
      "100%|##############################| 27/27 [00:00<00:00, 50376.43it/s]\n",
      "21:39:42 | INFO | \"  Read fxn: <function read_parquet at 0x7fd5c5c29b00>\"\n",
      "21:39:42 | INFO | \"  df format: pandas\"\n",
      "21:39:42 | INFO | \"  Reading with dask and converting to pandas...\"\n",
      "21:39:45 | INFO | \"  Applying transformations...\"\n",
      "21:39:51 | ERROR | \"Error creating manual topic... 'combined_topic_and_rating'\"\n"
     ]
    },
    {
     "name": "stdout",
     "output_type": "stream",
     "text": [
      "CPU times: user 9.52 s, sys: 2.2 s, total: 11.7 s\n",
      "Wall time: 9.64 s\n"
     ]
    },
    {
     "data": {
      "text/plain": [
       "(8439672, 3)"
      ]
     },
     "execution_count": 86,
     "metadata": {},
     "output_type": "execute_result"
    }
   ],
   "source": [
    "%%time\n",
    "\n",
    "df_posts_dd_to_pd_internal = LoadPosts(\n",
    "    bucket_name=d_config_text_and_meta['bucket_name'],\n",
    "    folder_path=d_config_text_and_meta['folder_posts_text_and_meta'],\n",
    "    columns=cols_post_count,\n",
    "    col_new_manual_topic=col_manual_labels,\n",
    "    verbose=True,\n",
    "    read_fxn='dask',\n",
    "    df_format='pandas',\n",
    "    unique_check=False,\n",
    ").read_and_apply_transformations()\n",
    "\n",
    "df_posts_dd_to_pd_internal.shape"
   ]
  },
  {
   "cell_type": "code",
   "execution_count": 72,
   "id": "892d4147",
   "metadata": {},
   "outputs": [
    {
     "name": "stderr",
     "output_type": "stream",
     "text": [
      "21:17:55 | INFO | \"Reading raw data...\"\n",
      "21:17:55 | INFO | \"  Local folder to download artifact(s):\n",
      "  /home/jupyter/subreddit_clustering_i18n/data/local_cache/posts/top/2021-09-27\"\n",
      "100%|##############################| 27/27 [00:00<00:00, 56062.48it/s]\n",
      "21:17:55 | INFO | \"  Read fxn: <function read_parquet at 0x7fd5c5c29b00>\"\n",
      "21:17:55 | INFO | \"  df format: dask\"\n",
      "21:17:55 | INFO | \"  Applying transformations...\"\n",
      "21:17:55 | ERROR | \"Error creating manual topic... 'combined_topic_and_rating'\"\n"
     ]
    },
    {
     "name": "stdout",
     "output_type": "stream",
     "text": [
      "CPU times: user 4.28 s, sys: 1.58 s, total: 5.86 s\n",
      "Wall time: 3.9 s\n"
     ]
    },
    {
     "data": {
      "text/plain": [
       "(8439672, 3)"
      ]
     },
     "execution_count": 72,
     "metadata": {},
     "output_type": "execute_result"
    }
   ],
   "source": [
    "%%time\n",
    "\n",
    "df_posts_dd_to_pd = LoadPosts(\n",
    "    bucket_name=d_config_text_and_meta['bucket_name'],\n",
    "    folder_path=d_config_text_and_meta['folder_posts_text_and_meta'],\n",
    "    columns=cols_post_count,\n",
    "    col_new_manual_topic=col_manual_labels,\n",
    "    verbose=True,\n",
    "    df_format='dask',\n",
    "    read_fxn='dask',\n",
    "    unique_check=False,\n",
    ").read_and_apply_transformations().compute()\n",
    "\n",
    "df_posts_dd_to_pd.shape"
   ]
  },
  {
   "cell_type": "code",
   "execution_count": null,
   "id": "400e362b",
   "metadata": {},
   "outputs": [],
   "source": []
  },
  {
   "cell_type": "code",
   "execution_count": null,
   "id": "3966e8aa",
   "metadata": {},
   "outputs": [],
   "source": []
  },
  {
   "cell_type": "markdown",
   "id": "cabd2ee5",
   "metadata": {},
   "source": [
    "# Can we speed up loading if we read with `dask` and then conver to `pandas`?\n",
    "\n",
    "Given that there are `27` files for post-level data (8 million posts), is it \n",
    "- faster to load them with `dask` (which is supposed to load them in parallel)?\n",
    "- or does dask add too much overhead and it's faster to load them straight into pandas?\n",
    "\n",
    "### **Finding:** \n",
    "Loading as dask can shave off 10 seconds of loading time! (from 13 seconds down to 3)\n",
    "```bash\n",
    "# pandas\n",
    "13.7 s ± 109 ms per loop (mean ± std. dev. of 7 runs, 1 loop each)\n",
    "\n",
    "# read dask, then convert to pandas with .compute()\n",
    "3.58 s ± 37.9 ms per loop (mean ± std. dev. of 7 runs, 1 loop each)\n",
    "\n",
    "```\n",
    "\n",
    "### What to do:\n",
    "Change behavior: always use dask to load raw data and only convert to pandas (with `.compute()`) if `df_format='pandas'`"
   ]
  },
  {
   "cell_type": "markdown",
   "id": "9c38c57d",
   "metadata": {},
   "source": [
    "## Load straight to pandas\n",
    "\n",
    "only with columns needed for post counts"
   ]
  },
  {
   "cell_type": "code",
   "execution_count": 19,
   "id": "0c5f33e1",
   "metadata": {},
   "outputs": [],
   "source": [
    "col_manual_labels = 'manual_topic_and_rating'\n",
    "\n",
    "cols_post_count = [\n",
    "    'subreddit_name',\n",
    "    'subreddit_id',\n",
    "    'post_id',\n",
    "]"
   ]
  },
  {
   "cell_type": "code",
   "execution_count": 25,
   "id": "d974bf26",
   "metadata": {
    "collapsed": true,
    "jupyter": {
     "outputs_hidden": true
    }
   },
   "outputs": [
    {
     "name": "stderr",
     "output_type": "stream",
     "text": [
      "20:07:34 | INFO | \"Reading raw data...\"\n",
      "20:07:34 | INFO | \"Local folder to download artifact(s):\n",
      "  /home/jupyter/subreddit_clustering_i18n/data/local_cache/posts/top/2021-09-27\"\n",
      "100%|##############################| 27/27 [00:00<00:00, 50108.94it/s]\n",
      "20:07:42 | INFO | \"  Applying transformations...\"\n",
      "20:07:48 | ERROR | \"Error creating manual topic... 'combined_topic_and_rating'\"\n",
      "20:07:48 | INFO | \"Reading raw data...\"\n",
      "20:07:48 | INFO | \"Local folder to download artifact(s):\n",
      "  /home/jupyter/subreddit_clustering_i18n/data/local_cache/posts/top/2021-09-27\"\n",
      "100%|##############################| 27/27 [00:00<00:00, 33644.15it/s]\n",
      "20:07:57 | INFO | \"  Applying transformations...\"\n",
      "20:08:02 | ERROR | \"Error creating manual topic... 'combined_topic_and_rating'\"\n",
      "20:08:03 | INFO | \"Reading raw data...\"\n",
      "20:08:03 | INFO | \"Local folder to download artifact(s):\n",
      "  /home/jupyter/subreddit_clustering_i18n/data/local_cache/posts/top/2021-09-27\"\n",
      "100%|##############################| 27/27 [00:00<00:00, 46091.25it/s]\n",
      "20:08:11 | INFO | \"  Applying transformations...\"\n",
      "20:08:16 | ERROR | \"Error creating manual topic... 'combined_topic_and_rating'\"\n",
      "20:08:17 | INFO | \"Reading raw data...\"\n",
      "20:08:17 | INFO | \"Local folder to download artifact(s):\n",
      "  /home/jupyter/subreddit_clustering_i18n/data/local_cache/posts/top/2021-09-27\"\n",
      "100%|##############################| 27/27 [00:00<00:00, 39889.47it/s]\n",
      "20:08:25 | INFO | \"  Applying transformations...\"\n",
      "20:08:30 | ERROR | \"Error creating manual topic... 'combined_topic_and_rating'\"\n",
      "20:08:30 | INFO | \"Reading raw data...\"\n",
      "20:08:30 | INFO | \"Local folder to download artifact(s):\n",
      "  /home/jupyter/subreddit_clustering_i18n/data/local_cache/posts/top/2021-09-27\"\n",
      "100%|##############################| 27/27 [00:00<00:00, 42977.69it/s]\n",
      "20:08:39 | INFO | \"  Applying transformations...\"\n",
      "20:08:44 | ERROR | \"Error creating manual topic... 'combined_topic_and_rating'\"\n",
      "20:08:44 | INFO | \"Reading raw data...\"\n",
      "20:08:44 | INFO | \"Local folder to download artifact(s):\n",
      "  /home/jupyter/subreddit_clustering_i18n/data/local_cache/posts/top/2021-09-27\"\n",
      "100%|##############################| 27/27 [00:00<00:00, 59666.07it/s]\n",
      "20:08:53 | INFO | \"  Applying transformations...\"\n",
      "20:08:58 | ERROR | \"Error creating manual topic... 'combined_topic_and_rating'\"\n",
      "20:08:58 | INFO | \"Reading raw data...\"\n",
      "20:08:58 | INFO | \"Local folder to download artifact(s):\n",
      "  /home/jupyter/subreddit_clustering_i18n/data/local_cache/posts/top/2021-09-27\"\n",
      "100%|##############################| 27/27 [00:00<00:00, 49495.72it/s]\n",
      "20:09:06 | INFO | \"  Applying transformations...\"\n",
      "20:09:12 | ERROR | \"Error creating manual topic... 'combined_topic_and_rating'\"\n",
      "20:09:12 | INFO | \"Reading raw data...\"\n",
      "20:09:12 | INFO | \"Local folder to download artifact(s):\n",
      "  /home/jupyter/subreddit_clustering_i18n/data/local_cache/posts/top/2021-09-27\"\n",
      "100%|##############################| 27/27 [00:00<00:00, 47904.49it/s]\n",
      "20:09:20 | INFO | \"  Applying transformations...\"\n",
      "20:09:26 | ERROR | \"Error creating manual topic... 'combined_topic_and_rating'\"\n"
     ]
    },
    {
     "name": "stdout",
     "output_type": "stream",
     "text": [
      "13.7 s ± 109 ms per loop (mean ± std. dev. of 7 runs, 1 loop each)\n"
     ]
    }
   ],
   "source": [
    "%%timeit\n",
    "\n",
    "df_posts = LoadPosts(\n",
    "    bucket_name=d_config_text_and_meta['bucket_name'],\n",
    "    folder_path=d_config_text_and_meta['folder_posts_text_and_meta'],\n",
    "    columns=cols_post_count,\n",
    "    df_format='pandas',\n",
    "    col_new_manual_topic=col_manual_labels,\n",
    ").read_and_apply_transformations()\n",
    "\n",
    "# df_posts.shape"
   ]
  },
  {
   "cell_type": "code",
   "execution_count": 87,
   "id": "a302b8e4",
   "metadata": {},
   "outputs": [
    {
     "name": "stderr",
     "output_type": "stream",
     "text": [
      "21:40:57 | INFO | \"Reading raw data...\"\n",
      "21:40:57 | INFO | \"  Local folder to download artifact(s):\n",
      "  /home/jupyter/subreddit_clustering_i18n/data/local_cache/posts/top/2021-09-27\"\n",
      "100%|##############################| 27/27 [00:00<00:00, 33239.27it/s]\n",
      "21:41:05 | INFO | \"  Applying transformations...\"\n",
      "21:41:11 | ERROR | \"Error creating manual topic... 'combined_topic_and_rating'\"\n"
     ]
    },
    {
     "name": "stdout",
     "output_type": "stream",
     "text": [
      "CPU times: user 13.8 s, sys: 2.03 s, total: 15.8 s\n",
      "Wall time: 13.6 s\n"
     ]
    },
    {
     "data": {
      "text/plain": [
       "(8439672, 3)"
      ]
     },
     "execution_count": 87,
     "metadata": {},
     "output_type": "execute_result"
    }
   ],
   "source": [
    "%%time\n",
    "\n",
    "df_posts_pd = LoadPosts(\n",
    "    bucket_name=d_config_text_and_meta['bucket_name'],\n",
    "    folder_path=d_config_text_and_meta['folder_posts_text_and_meta'],\n",
    "    columns=cols_post_count,\n",
    "    col_new_manual_topic=col_manual_labels,\n",
    "    read_fxn='pandas',\n",
    "    df_format='pandas',\n",
    "    unique_check=True,\n",
    ").read_and_apply_transformations()\n",
    "\n",
    "df_posts_pd.shape"
   ]
  },
  {
   "cell_type": "code",
   "execution_count": 88,
   "id": "68d9f15a",
   "metadata": {},
   "outputs": [
    {
     "name": "stderr",
     "output_type": "stream",
     "text": [
      "21:41:11 | INFO | \"Reading raw data...\"\n",
      "21:41:11 | INFO | \"  Local folder to download artifact(s):\n",
      "  /home/jupyter/subreddit_clustering_i18n/data/local_cache/posts/top/2021-09-27\"\n",
      "100%|##############################| 27/27 [00:00<00:00, 50443.75it/s]\n",
      "21:41:14 | INFO | \"  Applying transformations...\"\n",
      "21:41:19 | ERROR | \"Error creating manual topic... 'combined_topic_and_rating'\"\n"
     ]
    },
    {
     "name": "stdout",
     "output_type": "stream",
     "text": [
      "CPU times: user 8.49 s, sys: 2.28 s, total: 10.8 s\n",
      "Wall time: 8.67 s\n"
     ]
    },
    {
     "data": {
      "text/plain": [
       "(8439672, 3)"
      ]
     },
     "execution_count": 88,
     "metadata": {},
     "output_type": "execute_result"
    }
   ],
   "source": [
    "%%time\n",
    "\n",
    "df_posts_pd = LoadPosts(\n",
    "    bucket_name=d_config_text_and_meta['bucket_name'],\n",
    "    folder_path=d_config_text_and_meta['folder_posts_text_and_meta'],\n",
    "    columns=cols_post_count,\n",
    "    col_new_manual_topic=col_manual_labels,\n",
    "    read_fxn='pandas',\n",
    "    df_format='pandas',\n",
    "    unique_check=False,\n",
    ").read_and_apply_transformations()\n",
    "\n",
    "df_posts_pd.shape"
   ]
  },
  {
   "cell_type": "markdown",
   "id": "7bc732db",
   "metadata": {},
   "source": [
    "## Load as parquet and covert to pandas INTERNALLY"
   ]
  },
  {
   "cell_type": "code",
   "execution_count": 92,
   "id": "44a57e21",
   "metadata": {},
   "outputs": [
    {
     "name": "stderr",
     "output_type": "stream",
     "text": [
      "21:44:09 | INFO | \"Reading raw data...\"\n",
      "21:44:09 | INFO | \"  Local folder to download artifact(s):\n",
      "  /home/jupyter/subreddit_clustering_i18n/data/local_cache/posts/top/2021-09-27\"\n",
      "100%|##############################| 27/27 [00:00<00:00, 56369.44it/s]\n",
      "21:44:10 | INFO | \"  Read fxn: <function read_parquet at 0x7fd5c5c29b00>\"\n",
      "21:44:10 | INFO | \"  df format: pandas\"\n",
      "21:44:10 | INFO | \"  Reading with dask and converting to pandas...\"\n",
      "21:44:13 | INFO | \"  Applying transformations...\"\n",
      "21:44:19 | ERROR | \"Error creating manual topic... 'combined_topic_and_rating'\"\n"
     ]
    },
    {
     "name": "stdout",
     "output_type": "stream",
     "text": [
      "CPU times: user 9.76 s, sys: 2.29 s, total: 12.1 s\n",
      "Wall time: 9.95 s\n"
     ]
    },
    {
     "data": {
      "text/plain": [
       "(8439672, 3)"
      ]
     },
     "execution_count": 92,
     "metadata": {},
     "output_type": "execute_result"
    }
   ],
   "source": [
    "%%time\n",
    "\n",
    "df_posts_dd_to_pd_internal = LoadPosts(\n",
    "    bucket_name=d_config_text_and_meta['bucket_name'],\n",
    "    folder_path=d_config_text_and_meta['folder_posts_text_and_meta'],\n",
    "    columns=cols_post_count,\n",
    "    col_new_manual_topic=col_manual_labels,\n",
    "    read_fxn='dask',\n",
    "    df_format='pandas',\n",
    "    unique_check=False,\n",
    "    verbose=True,\n",
    ").read_and_apply_transformations()\n",
    "\n",
    "df_posts_dd_to_pd_internal.shape"
   ]
  },
  {
   "cell_type": "markdown",
   "id": "e4f32659",
   "metadata": {},
   "source": [
    "## Load as parquet AND convert to pandas EXTERNALLY\n",
    "\n",
    "only with columns needed for post counts"
   ]
  },
  {
   "cell_type": "code",
   "execution_count": 24,
   "id": "da83f470",
   "metadata": {
    "collapsed": true,
    "jupyter": {
     "outputs_hidden": true
    }
   },
   "outputs": [
    {
     "name": "stderr",
     "output_type": "stream",
     "text": [
      "20:07:04 | INFO | \"Reading raw data...\"\n",
      "20:07:04 | INFO | \"Local folder to download artifact(s):\n",
      "  /home/jupyter/subreddit_clustering_i18n/data/local_cache/posts/top/2021-09-27\"\n",
      "100%|##############################| 27/27 [00:00<00:00, 44445.14it/s]\n",
      "20:07:04 | INFO | \"  Applying transformations...\"\n",
      "20:07:04 | ERROR | \"Error creating manual topic... 'combined_topic_and_rating'\"\n",
      "20:07:07 | INFO | \"Reading raw data...\"\n",
      "20:07:07 | INFO | \"Local folder to download artifact(s):\n",
      "  /home/jupyter/subreddit_clustering_i18n/data/local_cache/posts/top/2021-09-27\"\n",
      "100%|##############################| 27/27 [00:00<00:00, 49647.61it/s]\n",
      "20:07:08 | INFO | \"  Applying transformations...\"\n",
      "20:07:08 | ERROR | \"Error creating manual topic... 'combined_topic_and_rating'\"\n",
      "20:07:11 | INFO | \"Reading raw data...\"\n",
      "20:07:11 | INFO | \"Local folder to download artifact(s):\n",
      "  /home/jupyter/subreddit_clustering_i18n/data/local_cache/posts/top/2021-09-27\"\n",
      "100%|##############################| 27/27 [00:00<00:00, 36554.62it/s]\n",
      "20:07:11 | INFO | \"  Applying transformations...\"\n",
      "20:07:11 | ERROR | \"Error creating manual topic... 'combined_topic_and_rating'\"\n",
      "20:07:15 | INFO | \"Reading raw data...\"\n",
      "20:07:15 | INFO | \"Local folder to download artifact(s):\n",
      "  /home/jupyter/subreddit_clustering_i18n/data/local_cache/posts/top/2021-09-27\"\n",
      "100%|##############################| 27/27 [00:00<00:00, 45498.68it/s]\n",
      "20:07:15 | INFO | \"  Applying transformations...\"\n",
      "20:07:15 | ERROR | \"Error creating manual topic... 'combined_topic_and_rating'\"\n",
      "20:07:19 | INFO | \"Reading raw data...\"\n",
      "20:07:19 | INFO | \"Local folder to download artifact(s):\n",
      "  /home/jupyter/subreddit_clustering_i18n/data/local_cache/posts/top/2021-09-27\"\n",
      "100%|##############################| 27/27 [00:00<00:00, 52943.53it/s]\n",
      "20:07:19 | INFO | \"  Applying transformations...\"\n",
      "20:07:19 | ERROR | \"Error creating manual topic... 'combined_topic_and_rating'\"\n",
      "20:07:22 | INFO | \"Reading raw data...\"\n",
      "20:07:22 | INFO | \"Local folder to download artifact(s):\n",
      "  /home/jupyter/subreddit_clustering_i18n/data/local_cache/posts/top/2021-09-27\"\n",
      "100%|##############################| 27/27 [00:00<00:00, 51196.30it/s]\n",
      "20:07:23 | INFO | \"  Applying transformations...\"\n",
      "20:07:23 | ERROR | \"Error creating manual topic... 'combined_topic_and_rating'\"\n",
      "20:07:26 | INFO | \"Reading raw data...\"\n",
      "20:07:26 | INFO | \"Local folder to download artifact(s):\n",
      "  /home/jupyter/subreddit_clustering_i18n/data/local_cache/posts/top/2021-09-27\"\n",
      "100%|##############################| 27/27 [00:00<00:00, 49539.02it/s]\n",
      "20:07:26 | INFO | \"  Applying transformations...\"\n",
      "20:07:26 | ERROR | \"Error creating manual topic... 'combined_topic_and_rating'\"\n",
      "20:07:30 | INFO | \"Reading raw data...\"\n",
      "20:07:30 | INFO | \"Local folder to download artifact(s):\n",
      "  /home/jupyter/subreddit_clustering_i18n/data/local_cache/posts/top/2021-09-27\"\n",
      "100%|##############################| 27/27 [00:00<00:00, 55703.99it/s]\n",
      "20:07:30 | INFO | \"  Applying transformations...\"\n",
      "20:07:30 | ERROR | \"Error creating manual topic... 'combined_topic_and_rating'\"\n"
     ]
    },
    {
     "name": "stdout",
     "output_type": "stream",
     "text": [
      "3.58 s ± 37.9 ms per loop (mean ± std. dev. of 7 runs, 1 loop each)\n"
     ]
    }
   ],
   "source": [
    "%%timeit\n",
    "\n",
    "df_posts = LoadPosts(\n",
    "    bucket_name=d_config_text_and_meta['bucket_name'],\n",
    "    folder_path=d_config_text_and_meta['folder_posts_text_and_meta'],\n",
    "    columns=cols_post_count,\n",
    "    df_format='dask',\n",
    "    col_new_manual_topic=col_manual_labels,\n",
    ").read_and_apply_transformations().compute()\n",
    "\n",
    "# df_posts.shape"
   ]
  },
  {
   "cell_type": "code",
   "execution_count": 90,
   "id": "bd96d151",
   "metadata": {},
   "outputs": [
    {
     "name": "stderr",
     "output_type": "stream",
     "text": [
      "21:42:27 | INFO | \"Reading raw data...\"\n",
      "21:42:27 | INFO | \"  Local folder to download artifact(s):\n",
      "  /home/jupyter/subreddit_clustering_i18n/data/local_cache/posts/top/2021-09-27\"\n",
      "100%|##############################| 27/27 [00:00<00:00, 46545.91it/s]\n",
      "21:42:28 | INFO | \"  Applying transformations...\"\n",
      "21:42:28 | ERROR | \"Error creating manual topic... 'combined_topic_and_rating'\"\n"
     ]
    },
    {
     "name": "stdout",
     "output_type": "stream",
     "text": [
      "CPU times: user 4.1 s, sys: 1.59 s, total: 5.68 s\n",
      "Wall time: 3.67 s\n"
     ]
    },
    {
     "data": {
      "text/plain": [
       "(8439672, 3)"
      ]
     },
     "execution_count": 90,
     "metadata": {},
     "output_type": "execute_result"
    }
   ],
   "source": [
    "%%time\n",
    "\n",
    "df_posts_dd_to_pd = LoadPosts(\n",
    "    bucket_name=d_config_text_and_meta['bucket_name'],\n",
    "    folder_path=d_config_text_and_meta['folder_posts_text_and_meta'],\n",
    "    columns=cols_post_count,\n",
    "    col_new_manual_topic=col_manual_labels,\n",
    "    read_fxn='dask',\n",
    "    df_format='dask',\n",
    ").read_and_apply_transformations().compute()\n",
    "\n",
    "df_posts_dd_to_pd.shape"
   ]
  },
  {
   "cell_type": "markdown",
   "id": "b576c08a",
   "metadata": {},
   "source": [
    "## CAVEAT - DATAFRAMES not equal if we include index in check\n",
    "\n",
    "Because dask loads in parallel, there's no guarantee that output df will have the same `index` (if index is not part of dataframe!!).\n",
    "\n",
    "If we ignore the index, we might expect the dfs to be the same.\n",
    "\n",
    "But to be sure, we would need to sort (which can be expensive)."
   ]
  },
  {
   "cell_type": "code",
   "execution_count": 35,
   "id": "4992f742",
   "metadata": {},
   "outputs": [
    {
     "data": {
      "text/plain": [
       "pandas.core.frame.DataFrame"
      ]
     },
     "execution_count": 35,
     "metadata": {},
     "output_type": "execute_result"
    }
   ],
   "source": [
    "type(df_posts_pd)"
   ]
  },
  {
   "cell_type": "code",
   "execution_count": 36,
   "id": "9d3b776f",
   "metadata": {},
   "outputs": [
    {
     "data": {
      "text/plain": [
       "pandas.core.frame.DataFrame"
      ]
     },
     "execution_count": 36,
     "metadata": {},
     "output_type": "execute_result"
    }
   ],
   "source": [
    "type(df_posts_dd_to_pd)"
   ]
  },
  {
   "cell_type": "code",
   "execution_count": 46,
   "id": "f645afc3",
   "metadata": {},
   "outputs": [
    {
     "name": "stdout",
     "output_type": "stream",
     "text": [
      "CPU times: user 14.5 ms, sys: 0 ns, total: 14.5 ms\n",
      "Wall time: 13.5 ms\n"
     ]
    },
    {
     "data": {
      "text/plain": [
       "False"
      ]
     },
     "execution_count": 46,
     "metadata": {},
     "output_type": "execute_result"
    }
   ],
   "source": [
    "%%time\n",
    "\n",
    "df_posts_pd.equals(df_posts_dd_to_pd)"
   ]
  },
  {
   "cell_type": "code",
   "execution_count": 47,
   "id": "9f519cbb",
   "metadata": {},
   "outputs": [
    {
     "name": "stdout",
     "output_type": "stream",
     "text": [
      "CPU times: user 14.2 ms, sys: 283 µs, total: 14.5 ms\n",
      "Wall time: 13.5 ms\n"
     ]
    },
    {
     "data": {
      "text/plain": [
       "False"
      ]
     },
     "execution_count": 47,
     "metadata": {},
     "output_type": "execute_result"
    }
   ],
   "source": [
    "%%time\n",
    "\n",
    "df_posts_dd_to_pd.equals(df_posts_pd)"
   ]
  },
  {
   "cell_type": "markdown",
   "id": "329df672",
   "metadata": {},
   "source": [
    "#### `.equals()` also checks the index! \n",
    "so we need to drop it before checking equality"
   ]
  },
  {
   "cell_type": "code",
   "execution_count": 45,
   "id": "8379e7c0",
   "metadata": {},
   "outputs": [
    {
     "name": "stdout",
     "output_type": "stream",
     "text": [
      "CPU times: user 1.94 s, sys: 91.9 ms, total: 2.03 s\n",
      "Wall time: 2.01 s\n"
     ]
    },
    {
     "data": {
      "text/plain": [
       "True"
      ]
     },
     "execution_count": 45,
     "metadata": {},
     "output_type": "execute_result"
    }
   ],
   "source": [
    "%%time\n",
    "\n",
    "(\n",
    "    df_posts_pd.reset_index(drop=True)\n",
    "    .equals(\n",
    "        df_posts_dd_to_pd.reset_index(drop=True)\n",
    "    )\n",
    ")"
   ]
  },
  {
   "cell_type": "code",
   "execution_count": 48,
   "id": "c4ddcaa1",
   "metadata": {},
   "outputs": [
    {
     "name": "stdout",
     "output_type": "stream",
     "text": [
      "CPU times: user 1min 17s, sys: 1.47 s, total: 1min 18s\n",
      "Wall time: 1min 18s\n"
     ]
    }
   ],
   "source": [
    "%%time\n",
    "cols_to_sort = ['subreddit_id', 'post_id']\n",
    "\n",
    "df_posts_pd_sorted = df_posts_pd.sort_values(by=cols_to_sort)\n",
    "\n",
    "df_posts_dd_to_pd_sorted = df_posts_dd_to_pd.sort_values(by=cols_to_sort)"
   ]
  },
  {
   "cell_type": "code",
   "execution_count": 49,
   "id": "e461ac72",
   "metadata": {},
   "outputs": [
    {
     "data": {
      "text/plain": [
       "False"
      ]
     },
     "execution_count": 49,
     "metadata": {},
     "output_type": "execute_result"
    }
   ],
   "source": [
    "df_posts_pd_sorted.equals(df_posts_dd_to_pd_sorted)"
   ]
  },
  {
   "cell_type": "code",
   "execution_count": 50,
   "id": "eaa79cc7",
   "metadata": {},
   "outputs": [
    {
     "name": "stdout",
     "output_type": "stream",
     "text": [
      "CPU times: user 2.26 s, sys: 169 ms, total: 2.43 s\n",
      "Wall time: 2.42 s\n"
     ]
    },
    {
     "data": {
      "text/plain": [
       "True"
      ]
     },
     "execution_count": 50,
     "metadata": {},
     "output_type": "execute_result"
    }
   ],
   "source": [
    "%%time\n",
    "\n",
    "(\n",
    "    df_posts_pd_sorted.reset_index(drop=True)\n",
    "    .equals(\n",
    "        df_posts_dd_to_pd_sorted.reset_index(drop=True)\n",
    "    )\n",
    ")"
   ]
  },
  {
   "cell_type": "markdown",
   "id": "2f8e5f9a",
   "metadata": {},
   "source": [
    "# How to create a new dask column"
   ]
  },
  {
   "cell_type": "code",
   "execution_count": 126,
   "id": "63522503",
   "metadata": {},
   "outputs": [],
   "source": [
    "import dask.array as da\n"
   ]
  },
  {
   "cell_type": "code",
   "execution_count": 147,
   "id": "e3d2e79f",
   "metadata": {},
   "outputs": [
    {
     "name": "stderr",
     "output_type": "stream",
     "text": [
      "01:50:01 | INFO | \"Reading raw data...\"\n",
      "01:50:01 | INFO | \"  Local folder to download artifact(s):\n",
      "  /home/jupyter/subreddit_clustering_i18n/data/local_cache/posts/top/2021-09-27\"\n",
      "100%|##############################| 27/27 [00:00<00:00, 54392.99it/s]\n",
      "01:50:01 | INFO | \"  Read fxn: <function read_parquet at 0x7fd5c5c29b00>\"\n",
      "01:50:01 | INFO | \"  df format: dask\"\n",
      "01:50:01 | INFO | \"  Reading without .compute(): <function read_parquet at 0x7fd5c5c29b00>\"\n",
      "01:50:01 | INFO | \"  Applying transformations...\"\n",
      "01:50:01 | ERROR | \"Error creating manual topic... 'combined_topic_and_rating'\"\n"
     ]
    },
    {
     "name": "stdout",
     "output_type": "stream",
     "text": [
      "CPU times: user 50.8 ms, sys: 0 ns, total: 50.8 ms\n",
      "Wall time: 253 ms\n"
     ]
    },
    {
     "data": {
      "text/plain": [
       "(Delayed('int-c94c27a3-06ad-456e-bc51-efd0094db53d'), 3)"
      ]
     },
     "execution_count": 147,
     "metadata": {},
     "output_type": "execute_result"
    }
   ],
   "source": [
    "%%time\n",
    "\n",
    "ddf_posts = LoadPosts(\n",
    "    bucket_name=d_config_text_and_meta['bucket_name'],\n",
    "    folder_path=d_config_text_and_meta['folder_posts_text_and_meta'],\n",
    "    columns=cols_post_count,\n",
    "    df_format='dask',\n",
    "    read_fxn='dask',\n",
    "    verbose=True,\n",
    "    unique_check=False,\n",
    "    col_new_manual_topic=col_manual_labels,\n",
    ").read_and_apply_transformations()\n",
    "\n",
    "ddf_posts.shape"
   ]
  },
  {
   "cell_type": "code",
   "execution_count": 148,
   "id": "6d5323a8",
   "metadata": {},
   "outputs": [
    {
     "data": {
      "text/plain": [
       "(Delayed('int-8eacdf8b-d193-4148-9ab6-dfc706c813f4'), 3)"
      ]
     },
     "execution_count": 148,
     "metadata": {},
     "output_type": "execute_result"
    }
   ],
   "source": [
    "ddf_posts.shape"
   ]
  },
  {
   "cell_type": "code",
   "execution_count": 169,
   "id": "afff7b28",
   "metadata": {},
   "outputs": [],
   "source": [
    "# ddf_posts.index"
   ]
  },
  {
   "cell_type": "code",
   "execution_count": 150,
   "id": "dcca53a3",
   "metadata": {},
   "outputs": [
    {
     "name": "stdout",
     "output_type": "stream",
     "text": [
      "CPU times: user 3.98 s, sys: 1.49 s, total: 5.47 s\n",
      "Wall time: 3.27 s\n"
     ]
    },
    {
     "data": {
      "text/plain": [
       "Int64Index([     0,      1,      2,      3,      4,      5,      6,      7,      8,      9,\n",
       "            ...\n",
       "            361944, 361945, 361946, 361947, 361948, 361949, 361950, 361951, 361952, 361953], dtype='int64', length=8439672)"
      ]
     },
     "execution_count": 150,
     "metadata": {},
     "output_type": "execute_result"
    }
   ],
   "source": [
    "%%time\n",
    "\n",
    "ddf_posts.index.compute()"
   ]
  },
  {
   "cell_type": "code",
   "execution_count": 164,
   "id": "8a9f1fc7",
   "metadata": {},
   "outputs": [
    {
     "name": "stdout",
     "output_type": "stream",
     "text": [
      "CPU times: user 4.14 s, sys: 1.46 s, total: 5.6 s\n",
      "Wall time: 3.45 s\n"
     ]
    },
    {
     "data": {
      "text/plain": [
       "409991"
      ]
     },
     "execution_count": 164,
     "metadata": {},
     "output_type": "execute_result"
    }
   ],
   "source": [
    "%%time\n",
    "\n",
    "ddf_posts.index.compute().nunique()"
   ]
  },
  {
   "cell_type": "code",
   "execution_count": 165,
   "id": "2b5ab098",
   "metadata": {},
   "outputs": [
    {
     "name": "stdout",
     "output_type": "stream",
     "text": [
      "CPU times: user 831 ms, sys: 260 ms, total: 1.09 s\n",
      "Wall time: 408 ms\n"
     ]
    },
    {
     "data": {
      "text/plain": [
       "8439672"
      ]
     },
     "execution_count": 165,
     "metadata": {},
     "output_type": "execute_result"
    }
   ],
   "source": [
    "%%time\n",
    "\n",
    "len(ddf_posts)"
   ]
  },
  {
   "cell_type": "code",
   "execution_count": 168,
   "id": "def75012",
   "metadata": {},
   "outputs": [
    {
     "name": "stdout",
     "output_type": "stream",
     "text": [
      "CPU times: user 3.24 ms, sys: 0 ns, total: 3.24 ms\n",
      "Wall time: 3.17 ms\n"
     ]
    }
   ],
   "source": [
    "%%time\n",
    "\n",
    "ddf_posts = ddf_posts.reset_index(drop=True)"
   ]
  },
  {
   "cell_type": "markdown",
   "id": "36244f40",
   "metadata": {},
   "source": [
    "#### Reset index\n",
    "lol... reset_index doesn't do what we'd expect it to do... freaking dask...\n",
    "\n",
    "https://github.com/dask/dask/issues/3788\n",
    "> ddf has three partitions and thus the reset_index builds 3 [0,1,3] indexes for each partition.\n",
    "> \n",
    "> I'm going to close for now as this is quite a bit old but feel free to reopen if you are still having trouble\n",
    "\n",
    "\n"
   ]
  },
  {
   "cell_type": "code",
   "execution_count": 170,
   "id": "bb43f416",
   "metadata": {},
   "outputs": [
    {
     "name": "stdout",
     "output_type": "stream",
     "text": [
      "CPU times: user 4.61 s, sys: 1.61 s, total: 6.22 s\n",
      "Wall time: 3.9 s\n"
     ]
    },
    {
     "data": {
      "text/plain": [
       "409991"
      ]
     },
     "execution_count": 170,
     "metadata": {},
     "output_type": "execute_result"
    }
   ],
   "source": [
    "%%time\n",
    "\n",
    "ddf_posts.index.compute().nunique()"
   ]
  },
  {
   "cell_type": "code",
   "execution_count": 171,
   "id": "83e33fa2",
   "metadata": {},
   "outputs": [
    {
     "name": "stdout",
     "output_type": "stream",
     "text": [
      "CPU times: user 4.25 s, sys: 1.59 s, total: 5.84 s\n",
      "Wall time: 3.69 s\n"
     ]
    },
    {
     "data": {
      "text/plain": [
       "8439672"
      ]
     },
     "execution_count": 171,
     "metadata": {},
     "output_type": "execute_result"
    }
   ],
   "source": [
    "%%time\n",
    "\n",
    "len(ddf_posts)"
   ]
  },
  {
   "cell_type": "markdown",
   "id": "b6d5a8a4",
   "metadata": {},
   "source": [
    "Reset index with a range"
   ]
  },
  {
   "cell_type": "code",
   "execution_count": 174,
   "id": "5079181a",
   "metadata": {},
   "outputs": [
    {
     "ename": "AttributeError",
     "evalue": "'Array' object has no attribute 'divisions'",
     "output_type": "error",
     "traceback": [
      "\u001b[0;31m---------------------------------------------------------------------------\u001b[0m",
      "\u001b[0;31mAttributeError\u001b[0m                            Traceback (most recent call last)",
      "\u001b[0;32m<timed exec>\u001b[0m in \u001b[0;36m<module>\u001b[0;34m\u001b[0m\n",
      "\u001b[0;32m/opt/conda/lib/python3.7/site-packages/dask/dataframe/core.py\u001b[0m in \u001b[0;36m__setattr__\u001b[0;34m(self, key, value)\u001b[0m\n\u001b[1;32m   3971\u001b[0m             \u001b[0mself\u001b[0m\u001b[0;34m[\u001b[0m\u001b[0mkey\u001b[0m\u001b[0;34m]\u001b[0m \u001b[0;34m=\u001b[0m \u001b[0mvalue\u001b[0m\u001b[0;34m\u001b[0m\u001b[0;34m\u001b[0m\u001b[0m\n\u001b[1;32m   3972\u001b[0m         \u001b[0;32melse\u001b[0m\u001b[0;34m:\u001b[0m\u001b[0;34m\u001b[0m\u001b[0;34m\u001b[0m\u001b[0m\n\u001b[0;32m-> 3973\u001b[0;31m             \u001b[0mobject\u001b[0m\u001b[0;34m.\u001b[0m\u001b[0m__setattr__\u001b[0m\u001b[0;34m(\u001b[0m\u001b[0mself\u001b[0m\u001b[0;34m,\u001b[0m \u001b[0mkey\u001b[0m\u001b[0;34m,\u001b[0m \u001b[0mvalue\u001b[0m\u001b[0;34m)\u001b[0m\u001b[0;34m\u001b[0m\u001b[0;34m\u001b[0m\u001b[0m\n\u001b[0m\u001b[1;32m   3974\u001b[0m \u001b[0;34m\u001b[0m\u001b[0m\n\u001b[1;32m   3975\u001b[0m     \u001b[0;32mdef\u001b[0m \u001b[0m__getattr__\u001b[0m\u001b[0;34m(\u001b[0m\u001b[0mself\u001b[0m\u001b[0;34m,\u001b[0m \u001b[0mkey\u001b[0m\u001b[0;34m)\u001b[0m\u001b[0;34m:\u001b[0m\u001b[0;34m\u001b[0m\u001b[0;34m\u001b[0m\u001b[0m\n",
      "\u001b[0;32m/opt/conda/lib/python3.7/site-packages/dask/dataframe/core.py\u001b[0m in \u001b[0;36mindex\u001b[0;34m(self, value)\u001b[0m\n\u001b[1;32m    475\u001b[0m     \u001b[0;34m@\u001b[0m\u001b[0mindex\u001b[0m\u001b[0;34m.\u001b[0m\u001b[0msetter\u001b[0m\u001b[0;34m\u001b[0m\u001b[0;34m\u001b[0m\u001b[0m\n\u001b[1;32m    476\u001b[0m     \u001b[0;32mdef\u001b[0m \u001b[0mindex\u001b[0m\u001b[0;34m(\u001b[0m\u001b[0mself\u001b[0m\u001b[0;34m,\u001b[0m \u001b[0mvalue\u001b[0m\u001b[0;34m)\u001b[0m\u001b[0;34m:\u001b[0m\u001b[0;34m\u001b[0m\u001b[0;34m\u001b[0m\u001b[0m\n\u001b[0;32m--> 477\u001b[0;31m         \u001b[0mself\u001b[0m\u001b[0;34m.\u001b[0m\u001b[0mdivisions\u001b[0m \u001b[0;34m=\u001b[0m \u001b[0mvalue\u001b[0m\u001b[0;34m.\u001b[0m\u001b[0mdivisions\u001b[0m\u001b[0;34m\u001b[0m\u001b[0;34m\u001b[0m\u001b[0m\n\u001b[0m\u001b[1;32m    478\u001b[0m         result = map_partitions(\n\u001b[1;32m    479\u001b[0m             \u001b[0mmethods\u001b[0m\u001b[0;34m.\u001b[0m\u001b[0massign_index\u001b[0m\u001b[0;34m,\u001b[0m \u001b[0mself\u001b[0m\u001b[0;34m,\u001b[0m \u001b[0mvalue\u001b[0m\u001b[0;34m,\u001b[0m \u001b[0menforce_metadata\u001b[0m\u001b[0;34m=\u001b[0m\u001b[0;32mFalse\u001b[0m\u001b[0;34m\u001b[0m\u001b[0;34m\u001b[0m\u001b[0m\n",
      "\u001b[0;31mAttributeError\u001b[0m: 'Array' object has no attribute 'divisions'"
     ]
    }
   ],
   "source": [
    "%%time\n",
    "ddf_posts.index = da.from_array(len(ddf_posts))"
   ]
  },
  {
   "cell_type": "code",
   "execution_count": null,
   "id": "bcce7d8a",
   "metadata": {},
   "outputs": [],
   "source": []
  },
  {
   "cell_type": "code",
   "execution_count": 151,
   "id": "573187be",
   "metadata": {},
   "outputs": [
    {
     "data": {
      "text/html": [
       "<div>\n",
       "<style scoped>\n",
       "    .dataframe tbody tr th:only-of-type {\n",
       "        vertical-align: middle;\n",
       "    }\n",
       "\n",
       "    .dataframe tbody tr th {\n",
       "        vertical-align: top;\n",
       "    }\n",
       "\n",
       "    .dataframe thead th {\n",
       "        text-align: right;\n",
       "    }\n",
       "</style>\n",
       "<table border=\"1\" class=\"dataframe\">\n",
       "  <thead>\n",
       "    <tr style=\"text-align: right;\">\n",
       "      <th></th>\n",
       "      <th>subreddit_name</th>\n",
       "      <th>subreddit_id</th>\n",
       "      <th>post_id</th>\n",
       "    </tr>\n",
       "  </thead>\n",
       "  <tbody>\n",
       "    <tr>\n",
       "      <th>361949</th>\n",
       "      <td>memesenespanol</td>\n",
       "      <td>t5_1009a3</td>\n",
       "      <td>t3_p0b1v4</td>\n",
       "    </tr>\n",
       "    <tr>\n",
       "      <th>361950</th>\n",
       "      <td>memesenespanol</td>\n",
       "      <td>t5_1009a3</td>\n",
       "      <td>t3_pgurz7</td>\n",
       "    </tr>\n",
       "    <tr>\n",
       "      <th>361951</th>\n",
       "      <td>memesenespanol</td>\n",
       "      <td>t5_1009a3</td>\n",
       "      <td>t3_psau1m</td>\n",
       "    </tr>\n",
       "    <tr>\n",
       "      <th>361952</th>\n",
       "      <td>memesenespanol</td>\n",
       "      <td>t5_1009a3</td>\n",
       "      <td>t3_peuwnu</td>\n",
       "    </tr>\n",
       "    <tr>\n",
       "      <th>361953</th>\n",
       "      <td>memesenespanol</td>\n",
       "      <td>t5_1009a3</td>\n",
       "      <td>t3_p74s9j</td>\n",
       "    </tr>\n",
       "  </tbody>\n",
       "</table>\n",
       "</div>"
      ],
      "text/plain": [
       "        subreddit_name subreddit_id    post_id\n",
       "361949  memesenespanol    t5_1009a3  t3_p0b1v4\n",
       "361950  memesenespanol    t5_1009a3  t3_pgurz7\n",
       "361951  memesenespanol    t5_1009a3  t3_psau1m\n",
       "361952  memesenespanol    t5_1009a3  t3_peuwnu\n",
       "361953  memesenespanol    t5_1009a3  t3_p74s9j"
      ]
     },
     "execution_count": 151,
     "metadata": {},
     "output_type": "execute_result"
    }
   ],
   "source": [
    "ddf_posts.tail()"
   ]
  },
  {
   "cell_type": "code",
   "execution_count": 152,
   "id": "66412b6d",
   "metadata": {},
   "outputs": [
    {
     "data": {
      "text/html": [
       "<div>\n",
       "<style scoped>\n",
       "    .dataframe tbody tr th:only-of-type {\n",
       "        vertical-align: middle;\n",
       "    }\n",
       "\n",
       "    .dataframe tbody tr th {\n",
       "        vertical-align: top;\n",
       "    }\n",
       "\n",
       "    .dataframe thead th {\n",
       "        text-align: right;\n",
       "    }\n",
       "</style>\n",
       "<table border=\"1\" class=\"dataframe\">\n",
       "  <thead>\n",
       "    <tr style=\"text-align: right;\">\n",
       "      <th></th>\n",
       "      <th>subreddit_name</th>\n",
       "      <th>subreddit_id</th>\n",
       "      <th>post_id</th>\n",
       "    </tr>\n",
       "  </thead>\n",
       "  <tbody>\n",
       "    <tr>\n",
       "      <th>0</th>\n",
       "      <td>NaN</td>\n",
       "      <td>NaN</td>\n",
       "      <td>NaN</td>\n",
       "    </tr>\n",
       "    <tr>\n",
       "      <th>1</th>\n",
       "      <td>NaN</td>\n",
       "      <td>NaN</td>\n",
       "      <td>NaN</td>\n",
       "    </tr>\n",
       "    <tr>\n",
       "      <th>2</th>\n",
       "      <td>NaN</td>\n",
       "      <td>NaN</td>\n",
       "      <td>NaN</td>\n",
       "    </tr>\n",
       "    <tr>\n",
       "      <th>3</th>\n",
       "      <td>NaN</td>\n",
       "      <td>NaN</td>\n",
       "      <td>NaN</td>\n",
       "    </tr>\n",
       "    <tr>\n",
       "      <th>4</th>\n",
       "      <td>NaN</td>\n",
       "      <td>NaN</td>\n",
       "      <td>NaN</td>\n",
       "    </tr>\n",
       "    <tr>\n",
       "      <th>...</th>\n",
       "      <td>...</td>\n",
       "      <td>...</td>\n",
       "      <td>...</td>\n",
       "    </tr>\n",
       "    <tr>\n",
       "      <th>361949</th>\n",
       "      <td>memesenespanol</td>\n",
       "      <td>t5_1009a3</td>\n",
       "      <td>t3_p0b1v4</td>\n",
       "    </tr>\n",
       "    <tr>\n",
       "      <th>361950</th>\n",
       "      <td>memesenespanol</td>\n",
       "      <td>t5_1009a3</td>\n",
       "      <td>t3_pgurz7</td>\n",
       "    </tr>\n",
       "    <tr>\n",
       "      <th>361951</th>\n",
       "      <td>memesenespanol</td>\n",
       "      <td>t5_1009a3</td>\n",
       "      <td>t3_psau1m</td>\n",
       "    </tr>\n",
       "    <tr>\n",
       "      <th>361952</th>\n",
       "      <td>memesenespanol</td>\n",
       "      <td>t5_1009a3</td>\n",
       "      <td>t3_peuwnu</td>\n",
       "    </tr>\n",
       "    <tr>\n",
       "      <th>361953</th>\n",
       "      <td>memesenespanol</td>\n",
       "      <td>t5_1009a3</td>\n",
       "      <td>t3_p74s9j</td>\n",
       "    </tr>\n",
       "  </tbody>\n",
       "</table>\n",
       "<p>8439672 rows × 3 columns</p>\n",
       "</div>"
      ],
      "text/plain": [
       "        subreddit_name subreddit_id    post_id\n",
       "0                  NaN          NaN        NaN\n",
       "1                  NaN          NaN        NaN\n",
       "2                  NaN          NaN        NaN\n",
       "3                  NaN          NaN        NaN\n",
       "4                  NaN          NaN        NaN\n",
       "...                ...          ...        ...\n",
       "361949  memesenespanol    t5_1009a3  t3_p0b1v4\n",
       "361950  memesenespanol    t5_1009a3  t3_pgurz7\n",
       "361951  memesenespanol    t5_1009a3  t3_psau1m\n",
       "361952  memesenespanol    t5_1009a3  t3_peuwnu\n",
       "361953  memesenespanol    t5_1009a3  t3_p74s9j\n",
       "\n",
       "[8439672 rows x 3 columns]"
      ]
     },
     "execution_count": 152,
     "metadata": {},
     "output_type": "execute_result"
    }
   ],
   "source": [
    "ddf_posts.where(ddf_posts['subreddit_name'] == 'memesenespanol').compute()"
   ]
  },
  {
   "cell_type": "code",
   "execution_count": 153,
   "id": "49a2f480",
   "metadata": {},
   "outputs": [
    {
     "name": "stdout",
     "output_type": "stream",
     "text": [
      "CPU times: user 2.51 s, sys: 568 ms, total: 3.08 s\n",
      "Wall time: 1.7 s\n"
     ]
    },
    {
     "data": {
      "text/html": [
       "<table>\n",
       "<tr>\n",
       "<td>\n",
       "<table>\n",
       "  <thead>\n",
       "    <tr><td> </td><th> Array </th><th> Chunk </th></tr>\n",
       "  </thead>\n",
       "  <tbody>\n",
       "    <tr><th> Bytes </th><td> 12 B </td> <td> 12.0 B </td></tr>\n",
       "    <tr><th> Shape </th><td> () </td> <td> () </td></tr>\n",
       "    <tr><th> Count </th><td> 83 Tasks </td><td> 1 Chunks </td></tr>\n",
       "    <tr><th> Type </th><td> <U3 </td><td> numpy.ndarray </td></tr>\n",
       "  </tbody>\n",
       "</table>\n",
       "</td>\n",
       "<td>\n",
       "\n",
       "</td>\n",
       "</tr>\n",
       "</table>"
      ],
      "text/plain": [
       "dask.array<where, shape=(), dtype=<U3, chunksize=(), chunktype=numpy.ndarray>"
      ]
     },
     "execution_count": 153,
     "metadata": {},
     "output_type": "execute_result"
    }
   ],
   "source": [
    "%%time\n",
    "\n",
    "da.where(ddf_posts['subreddit_name'] == 'memesenespanol', 'yay', 'nay')"
   ]
  },
  {
   "cell_type": "code",
   "execution_count": 154,
   "id": "00c9b6fd",
   "metadata": {},
   "outputs": [
    {
     "name": "stdout",
     "output_type": "stream",
     "text": [
      "CPU times: user 6.87 s, sys: 2.18 s, total: 9.05 s\n",
      "Wall time: 5.45 s\n"
     ]
    },
    {
     "data": {
      "text/plain": [
       "array(['nay', 'nay', 'nay', ..., 'yay', 'yay', 'yay'], dtype='<U3')"
      ]
     },
     "execution_count": 154,
     "metadata": {},
     "output_type": "execute_result"
    }
   ],
   "source": [
    "%%time\n",
    "\n",
    "da.where(ddf_posts['subreddit_name'] == 'memesenespanol', 'yay', 'nay').compute()"
   ]
  },
  {
   "cell_type": "code",
   "execution_count": 156,
   "id": "973823f7",
   "metadata": {},
   "outputs": [
    {
     "ename": "ValueError",
     "evalue": "Number of partitions do not match (1 != 27)",
     "output_type": "error",
     "traceback": [
      "\u001b[0;31m---------------------------------------------------------------------------\u001b[0m",
      "\u001b[0;31mValueError\u001b[0m                                Traceback (most recent call last)",
      "\u001b[0;32m<timed exec>\u001b[0m in \u001b[0;36m<module>\u001b[0;34m\u001b[0m\n",
      "\u001b[0;32m/opt/conda/lib/python3.7/site-packages/dask/dataframe/core.py\u001b[0m in \u001b[0;36m__setitem__\u001b[0;34m(self, key, value)\u001b[0m\n\u001b[1;32m   3948\u001b[0m             \u001b[0;32mraise\u001b[0m \u001b[0mNotImplementedError\u001b[0m\u001b[0;34m(\u001b[0m\u001b[0;34mf\"Item assignment with {type(key)} not supported\"\u001b[0m\u001b[0;34m)\u001b[0m\u001b[0;34m\u001b[0m\u001b[0;34m\u001b[0m\u001b[0m\n\u001b[1;32m   3949\u001b[0m         \u001b[0;32melse\u001b[0m\u001b[0;34m:\u001b[0m\u001b[0;34m\u001b[0m\u001b[0;34m\u001b[0m\u001b[0m\n\u001b[0;32m-> 3950\u001b[0;31m             \u001b[0mdf\u001b[0m \u001b[0;34m=\u001b[0m \u001b[0mself\u001b[0m\u001b[0;34m.\u001b[0m\u001b[0massign\u001b[0m\u001b[0;34m(\u001b[0m\u001b[0;34m**\u001b[0m\u001b[0;34m{\u001b[0m\u001b[0mkey\u001b[0m\u001b[0;34m:\u001b[0m \u001b[0mvalue\u001b[0m\u001b[0;34m}\u001b[0m\u001b[0;34m)\u001b[0m\u001b[0;34m\u001b[0m\u001b[0;34m\u001b[0m\u001b[0m\n\u001b[0m\u001b[1;32m   3951\u001b[0m \u001b[0;34m\u001b[0m\u001b[0m\n\u001b[1;32m   3952\u001b[0m         \u001b[0mself\u001b[0m\u001b[0;34m.\u001b[0m\u001b[0mdask\u001b[0m \u001b[0;34m=\u001b[0m \u001b[0mdf\u001b[0m\u001b[0;34m.\u001b[0m\u001b[0mdask\u001b[0m\u001b[0;34m\u001b[0m\u001b[0;34m\u001b[0m\u001b[0m\n",
      "\u001b[0;32m/opt/conda/lib/python3.7/site-packages/dask/dataframe/core.py\u001b[0m in \u001b[0;36massign\u001b[0;34m(self, **kwargs)\u001b[0m\n\u001b[1;32m   4252\u001b[0m                     raise ValueError(\n\u001b[1;32m   4253\u001b[0m                         \"Number of partitions do not match ({0} != {1})\".format(\n\u001b[0;32m-> 4254\u001b[0;31m                             \u001b[0mv\u001b[0m\u001b[0;34m.\u001b[0m\u001b[0mnpartitions\u001b[0m\u001b[0;34m,\u001b[0m \u001b[0mself\u001b[0m\u001b[0;34m.\u001b[0m\u001b[0mnpartitions\u001b[0m\u001b[0;34m\u001b[0m\u001b[0;34m\u001b[0m\u001b[0m\n\u001b[0m\u001b[1;32m   4255\u001b[0m                         )\n\u001b[1;32m   4256\u001b[0m                     )\n",
      "\u001b[0;31mValueError\u001b[0m: Number of partitions do not match (1 != 27)"
     ]
    }
   ],
   "source": [
    "%%time\n",
    "\n",
    "ddf_posts['test_col'] = da.where(ddf_posts['subreddit_name'] == 'memesenespanol', 'yay', 'nay')"
   ]
  },
  {
   "cell_type": "code",
   "execution_count": 157,
   "id": "69533d31",
   "metadata": {},
   "outputs": [
    {
     "ename": "TypeError",
     "evalue": "Column assignment doesn't support type numpy.ndarray",
     "output_type": "error",
     "traceback": [
      "\u001b[0;31m---------------------------------------------------------------------------\u001b[0m",
      "\u001b[0;31mTypeError\u001b[0m                                 Traceback (most recent call last)",
      "\u001b[0;32m<timed exec>\u001b[0m in \u001b[0;36m<module>\u001b[0;34m\u001b[0m\n",
      "\u001b[0;32m/opt/conda/lib/python3.7/site-packages/dask/dataframe/core.py\u001b[0m in \u001b[0;36m__setitem__\u001b[0;34m(self, key, value)\u001b[0m\n\u001b[1;32m   3948\u001b[0m             \u001b[0;32mraise\u001b[0m \u001b[0mNotImplementedError\u001b[0m\u001b[0;34m(\u001b[0m\u001b[0;34mf\"Item assignment with {type(key)} not supported\"\u001b[0m\u001b[0;34m)\u001b[0m\u001b[0;34m\u001b[0m\u001b[0;34m\u001b[0m\u001b[0m\n\u001b[1;32m   3949\u001b[0m         \u001b[0;32melse\u001b[0m\u001b[0;34m:\u001b[0m\u001b[0;34m\u001b[0m\u001b[0;34m\u001b[0m\u001b[0m\n\u001b[0;32m-> 3950\u001b[0;31m             \u001b[0mdf\u001b[0m \u001b[0;34m=\u001b[0m \u001b[0mself\u001b[0m\u001b[0;34m.\u001b[0m\u001b[0massign\u001b[0m\u001b[0;34m(\u001b[0m\u001b[0;34m**\u001b[0m\u001b[0;34m{\u001b[0m\u001b[0mkey\u001b[0m\u001b[0;34m:\u001b[0m \u001b[0mvalue\u001b[0m\u001b[0;34m}\u001b[0m\u001b[0;34m)\u001b[0m\u001b[0;34m\u001b[0m\u001b[0;34m\u001b[0m\u001b[0m\n\u001b[0m\u001b[1;32m   3951\u001b[0m \u001b[0;34m\u001b[0m\u001b[0m\n\u001b[1;32m   3952\u001b[0m         \u001b[0mself\u001b[0m\u001b[0;34m.\u001b[0m\u001b[0mdask\u001b[0m \u001b[0;34m=\u001b[0m \u001b[0mdf\u001b[0m\u001b[0;34m.\u001b[0m\u001b[0mdask\u001b[0m\u001b[0;34m\u001b[0m\u001b[0;34m\u001b[0m\u001b[0m\n",
      "\u001b[0;32m/opt/conda/lib/python3.7/site-packages/dask/dataframe/core.py\u001b[0m in \u001b[0;36massign\u001b[0;34m(self, **kwargs)\u001b[0m\n\u001b[1;32m   4239\u001b[0m                 raise TypeError(\n\u001b[1;32m   4240\u001b[0m                     \u001b[0;34m\"Column assignment doesn't support type \"\u001b[0m\u001b[0;34m\u001b[0m\u001b[0;34m\u001b[0m\u001b[0m\n\u001b[0;32m-> 4241\u001b[0;31m                     \u001b[0;34m\"{0}\"\u001b[0m\u001b[0;34m.\u001b[0m\u001b[0mformat\u001b[0m\u001b[0;34m(\u001b[0m\u001b[0mtypename\u001b[0m\u001b[0;34m(\u001b[0m\u001b[0mtype\u001b[0m\u001b[0;34m(\u001b[0m\u001b[0mv\u001b[0m\u001b[0;34m)\u001b[0m\u001b[0;34m)\u001b[0m\u001b[0;34m)\u001b[0m\u001b[0;34m\u001b[0m\u001b[0;34m\u001b[0m\u001b[0m\n\u001b[0m\u001b[1;32m   4242\u001b[0m                 )\n\u001b[1;32m   4243\u001b[0m             \u001b[0;32mif\u001b[0m \u001b[0mcallable\u001b[0m\u001b[0;34m(\u001b[0m\u001b[0mv\u001b[0m\u001b[0;34m)\u001b[0m\u001b[0;34m:\u001b[0m\u001b[0;34m\u001b[0m\u001b[0;34m\u001b[0m\u001b[0m\n",
      "\u001b[0;31mTypeError\u001b[0m: Column assignment doesn't support type numpy.ndarray"
     ]
    }
   ],
   "source": [
    "%%time\n",
    "\n",
    "ddf_posts['test_col'] = np.where(ddf_posts['subreddit_name'] == 'memesenespanol', 'yay', 'nay')"
   ]
  },
  {
   "cell_type": "code",
   "execution_count": 158,
   "id": "6c4a956c",
   "metadata": {},
   "outputs": [
    {
     "ename": "ValueError",
     "evalue": "Number of partitions do not match (1 != 27)",
     "output_type": "error",
     "traceback": [
      "\u001b[0;31m---------------------------------------------------------------------------\u001b[0m",
      "\u001b[0;31mValueError\u001b[0m                                Traceback (most recent call last)",
      "\u001b[0;32m<timed eval>\u001b[0m in \u001b[0;36m<module>\u001b[0;34m\u001b[0m\n",
      "\u001b[0;32m/opt/conda/lib/python3.7/site-packages/dask/dataframe/core.py\u001b[0m in \u001b[0;36massign\u001b[0;34m(self, **kwargs)\u001b[0m\n\u001b[1;32m   4252\u001b[0m                     raise ValueError(\n\u001b[1;32m   4253\u001b[0m                         \"Number of partitions do not match ({0} != {1})\".format(\n\u001b[0;32m-> 4254\u001b[0;31m                             \u001b[0mv\u001b[0m\u001b[0;34m.\u001b[0m\u001b[0mnpartitions\u001b[0m\u001b[0;34m,\u001b[0m \u001b[0mself\u001b[0m\u001b[0;34m.\u001b[0m\u001b[0mnpartitions\u001b[0m\u001b[0;34m\u001b[0m\u001b[0;34m\u001b[0m\u001b[0m\n\u001b[0m\u001b[1;32m   4255\u001b[0m                         )\n\u001b[1;32m   4256\u001b[0m                     )\n",
      "\u001b[0;31mValueError\u001b[0m: Number of partitions do not match (1 != 27)"
     ]
    }
   ],
   "source": [
    "%%time\n",
    "\n",
    "ddf_posts.assign(test_col=da.where(ddf_posts['subreddit_name'] == 'memesenespanol', 'yay', 'nay'))"
   ]
  },
  {
   "cell_type": "code",
   "execution_count": 159,
   "id": "50606cb1",
   "metadata": {},
   "outputs": [
    {
     "data": {
      "text/plain": [
       "array(['nay', 'nay', 'nay', ..., 'yay', 'yay', 'yay'], dtype='<U3')"
      ]
     },
     "execution_count": 159,
     "metadata": {},
     "output_type": "execute_result"
    }
   ],
   "source": [
    "np.where(ddf_posts['subreddit_name'] == 'memesenespanol', 'yay', 'nay')"
   ]
  },
  {
   "cell_type": "markdown",
   "id": "6f1c49a1",
   "metadata": {},
   "source": [
    "### `.assign()` doesn't seem to work  either"
   ]
  },
  {
   "cell_type": "code",
   "execution_count": 139,
   "id": "d18666a5",
   "metadata": {},
   "outputs": [
    {
     "ename": "ValueError",
     "evalue": "Length of values (8439672) does not match length of index (2)",
     "output_type": "error",
     "traceback": [
      "\u001b[0;31m---------------------------------------------------------------------------\u001b[0m",
      "\u001b[0;31mValueError\u001b[0m                                Traceback (most recent call last)",
      "\u001b[0;32m<timed eval>\u001b[0m in \u001b[0;36m<module>\u001b[0;34m\u001b[0m\n",
      "\u001b[0;32m/opt/conda/lib/python3.7/site-packages/dask/dataframe/core.py\u001b[0m in \u001b[0;36massign\u001b[0;34m(self, **kwargs)\u001b[0m\n\u001b[1;32m   4260\u001b[0m \u001b[0;34m\u001b[0m\u001b[0m\n\u001b[1;32m   4261\u001b[0m         \u001b[0;31m# Figure out columns of the output\u001b[0m\u001b[0;34m\u001b[0m\u001b[0;34m\u001b[0m\u001b[0;34m\u001b[0m\u001b[0m\n\u001b[0;32m-> 4262\u001b[0;31m         \u001b[0mdf2\u001b[0m \u001b[0;34m=\u001b[0m \u001b[0mself\u001b[0m\u001b[0;34m.\u001b[0m\u001b[0m_meta_nonempty\u001b[0m\u001b[0;34m.\u001b[0m\u001b[0massign\u001b[0m\u001b[0;34m(\u001b[0m\u001b[0;34m**\u001b[0m\u001b[0m_extract_meta\u001b[0m\u001b[0;34m(\u001b[0m\u001b[0mkwargs\u001b[0m\u001b[0;34m,\u001b[0m \u001b[0mnonempty\u001b[0m\u001b[0;34m=\u001b[0m\u001b[0;32mTrue\u001b[0m\u001b[0;34m)\u001b[0m\u001b[0;34m)\u001b[0m\u001b[0;34m\u001b[0m\u001b[0;34m\u001b[0m\u001b[0m\n\u001b[0m\u001b[1;32m   4263\u001b[0m         \u001b[0;32mreturn\u001b[0m \u001b[0melemwise\u001b[0m\u001b[0;34m(\u001b[0m\u001b[0mmethods\u001b[0m\u001b[0;34m.\u001b[0m\u001b[0massign\u001b[0m\u001b[0;34m,\u001b[0m \u001b[0mself\u001b[0m\u001b[0;34m,\u001b[0m \u001b[0;34m*\u001b[0m\u001b[0mpairs\u001b[0m\u001b[0;34m,\u001b[0m \u001b[0mmeta\u001b[0m\u001b[0;34m=\u001b[0m\u001b[0mdf2\u001b[0m\u001b[0;34m)\u001b[0m\u001b[0;34m\u001b[0m\u001b[0;34m\u001b[0m\u001b[0m\n\u001b[1;32m   4264\u001b[0m \u001b[0;34m\u001b[0m\u001b[0m\n",
      "\u001b[0;32m/opt/conda/lib/python3.7/site-packages/pandas/core/frame.py\u001b[0m in \u001b[0;36massign\u001b[0;34m(self, **kwargs)\u001b[0m\n\u001b[1;32m   3828\u001b[0m \u001b[0;34m\u001b[0m\u001b[0m\n\u001b[1;32m   3829\u001b[0m         \u001b[0;32mfor\u001b[0m \u001b[0mk\u001b[0m\u001b[0;34m,\u001b[0m \u001b[0mv\u001b[0m \u001b[0;32min\u001b[0m \u001b[0mkwargs\u001b[0m\u001b[0;34m.\u001b[0m\u001b[0mitems\u001b[0m\u001b[0;34m(\u001b[0m\u001b[0;34m)\u001b[0m\u001b[0;34m:\u001b[0m\u001b[0;34m\u001b[0m\u001b[0;34m\u001b[0m\u001b[0m\n\u001b[0;32m-> 3830\u001b[0;31m             \u001b[0mdata\u001b[0m\u001b[0;34m[\u001b[0m\u001b[0mk\u001b[0m\u001b[0;34m]\u001b[0m \u001b[0;34m=\u001b[0m \u001b[0mcom\u001b[0m\u001b[0;34m.\u001b[0m\u001b[0mapply_if_callable\u001b[0m\u001b[0;34m(\u001b[0m\u001b[0mv\u001b[0m\u001b[0;34m,\u001b[0m \u001b[0mdata\u001b[0m\u001b[0;34m)\u001b[0m\u001b[0;34m\u001b[0m\u001b[0;34m\u001b[0m\u001b[0m\n\u001b[0m\u001b[1;32m   3831\u001b[0m         \u001b[0;32mreturn\u001b[0m \u001b[0mdata\u001b[0m\u001b[0;34m\u001b[0m\u001b[0;34m\u001b[0m\u001b[0m\n\u001b[1;32m   3832\u001b[0m \u001b[0;34m\u001b[0m\u001b[0m\n",
      "\u001b[0;32m/opt/conda/lib/python3.7/site-packages/pandas/core/frame.py\u001b[0m in \u001b[0;36m__setitem__\u001b[0;34m(self, key, value)\u001b[0m\n\u001b[1;32m   3161\u001b[0m         \u001b[0;32melse\u001b[0m\u001b[0;34m:\u001b[0m\u001b[0;34m\u001b[0m\u001b[0;34m\u001b[0m\u001b[0m\n\u001b[1;32m   3162\u001b[0m             \u001b[0;31m# set column\u001b[0m\u001b[0;34m\u001b[0m\u001b[0;34m\u001b[0m\u001b[0;34m\u001b[0m\u001b[0m\n\u001b[0;32m-> 3163\u001b[0;31m             \u001b[0mself\u001b[0m\u001b[0;34m.\u001b[0m\u001b[0m_set_item\u001b[0m\u001b[0;34m(\u001b[0m\u001b[0mkey\u001b[0m\u001b[0;34m,\u001b[0m \u001b[0mvalue\u001b[0m\u001b[0;34m)\u001b[0m\u001b[0;34m\u001b[0m\u001b[0;34m\u001b[0m\u001b[0m\n\u001b[0m\u001b[1;32m   3164\u001b[0m \u001b[0;34m\u001b[0m\u001b[0m\n\u001b[1;32m   3165\u001b[0m     \u001b[0;32mdef\u001b[0m \u001b[0m_setitem_slice\u001b[0m\u001b[0;34m(\u001b[0m\u001b[0mself\u001b[0m\u001b[0;34m,\u001b[0m \u001b[0mkey\u001b[0m\u001b[0;34m:\u001b[0m \u001b[0mslice\u001b[0m\u001b[0;34m,\u001b[0m \u001b[0mvalue\u001b[0m\u001b[0;34m)\u001b[0m\u001b[0;34m:\u001b[0m\u001b[0;34m\u001b[0m\u001b[0;34m\u001b[0m\u001b[0m\n",
      "\u001b[0;32m/opt/conda/lib/python3.7/site-packages/pandas/core/frame.py\u001b[0m in \u001b[0;36m_set_item\u001b[0;34m(self, key, value)\u001b[0m\n\u001b[1;32m   3240\u001b[0m         \"\"\"\n\u001b[1;32m   3241\u001b[0m         \u001b[0mself\u001b[0m\u001b[0;34m.\u001b[0m\u001b[0m_ensure_valid_index\u001b[0m\u001b[0;34m(\u001b[0m\u001b[0mvalue\u001b[0m\u001b[0;34m)\u001b[0m\u001b[0;34m\u001b[0m\u001b[0;34m\u001b[0m\u001b[0m\n\u001b[0;32m-> 3242\u001b[0;31m         \u001b[0mvalue\u001b[0m \u001b[0;34m=\u001b[0m \u001b[0mself\u001b[0m\u001b[0;34m.\u001b[0m\u001b[0m_sanitize_column\u001b[0m\u001b[0;34m(\u001b[0m\u001b[0mkey\u001b[0m\u001b[0;34m,\u001b[0m \u001b[0mvalue\u001b[0m\u001b[0;34m)\u001b[0m\u001b[0;34m\u001b[0m\u001b[0;34m\u001b[0m\u001b[0m\n\u001b[0m\u001b[1;32m   3243\u001b[0m         \u001b[0mNDFrame\u001b[0m\u001b[0;34m.\u001b[0m\u001b[0m_set_item\u001b[0m\u001b[0;34m(\u001b[0m\u001b[0mself\u001b[0m\u001b[0;34m,\u001b[0m \u001b[0mkey\u001b[0m\u001b[0;34m,\u001b[0m \u001b[0mvalue\u001b[0m\u001b[0;34m)\u001b[0m\u001b[0;34m\u001b[0m\u001b[0;34m\u001b[0m\u001b[0m\n\u001b[1;32m   3244\u001b[0m \u001b[0;34m\u001b[0m\u001b[0m\n",
      "\u001b[0;32m/opt/conda/lib/python3.7/site-packages/pandas/core/frame.py\u001b[0m in \u001b[0;36m_sanitize_column\u001b[0;34m(self, key, value, broadcast)\u001b[0m\n\u001b[1;32m   3897\u001b[0m \u001b[0;34m\u001b[0m\u001b[0m\n\u001b[1;32m   3898\u001b[0m             \u001b[0;31m# turn me into an ndarray\u001b[0m\u001b[0;34m\u001b[0m\u001b[0;34m\u001b[0m\u001b[0;34m\u001b[0m\u001b[0m\n\u001b[0;32m-> 3899\u001b[0;31m             \u001b[0mvalue\u001b[0m \u001b[0;34m=\u001b[0m \u001b[0msanitize_index\u001b[0m\u001b[0;34m(\u001b[0m\u001b[0mvalue\u001b[0m\u001b[0;34m,\u001b[0m \u001b[0mself\u001b[0m\u001b[0;34m.\u001b[0m\u001b[0mindex\u001b[0m\u001b[0;34m)\u001b[0m\u001b[0;34m\u001b[0m\u001b[0;34m\u001b[0m\u001b[0m\n\u001b[0m\u001b[1;32m   3900\u001b[0m             \u001b[0;32mif\u001b[0m \u001b[0;32mnot\u001b[0m \u001b[0misinstance\u001b[0m\u001b[0;34m(\u001b[0m\u001b[0mvalue\u001b[0m\u001b[0;34m,\u001b[0m \u001b[0;34m(\u001b[0m\u001b[0mnp\u001b[0m\u001b[0;34m.\u001b[0m\u001b[0mndarray\u001b[0m\u001b[0;34m,\u001b[0m \u001b[0mIndex\u001b[0m\u001b[0;34m)\u001b[0m\u001b[0;34m)\u001b[0m\u001b[0;34m:\u001b[0m\u001b[0;34m\u001b[0m\u001b[0;34m\u001b[0m\u001b[0m\n\u001b[1;32m   3901\u001b[0m                 \u001b[0;32mif\u001b[0m \u001b[0misinstance\u001b[0m\u001b[0;34m(\u001b[0m\u001b[0mvalue\u001b[0m\u001b[0;34m,\u001b[0m \u001b[0mlist\u001b[0m\u001b[0;34m)\u001b[0m \u001b[0;32mand\u001b[0m \u001b[0mlen\u001b[0m\u001b[0;34m(\u001b[0m\u001b[0mvalue\u001b[0m\u001b[0;34m)\u001b[0m \u001b[0;34m>\u001b[0m \u001b[0;36m0\u001b[0m\u001b[0;34m:\u001b[0m\u001b[0;34m\u001b[0m\u001b[0;34m\u001b[0m\u001b[0m\n",
      "\u001b[0;32m/opt/conda/lib/python3.7/site-packages/pandas/core/internals/construction.py\u001b[0m in \u001b[0;36msanitize_index\u001b[0;34m(data, index)\u001b[0m\n\u001b[1;32m    750\u001b[0m     \u001b[0;32mif\u001b[0m \u001b[0mlen\u001b[0m\u001b[0;34m(\u001b[0m\u001b[0mdata\u001b[0m\u001b[0;34m)\u001b[0m \u001b[0;34m!=\u001b[0m \u001b[0mlen\u001b[0m\u001b[0;34m(\u001b[0m\u001b[0mindex\u001b[0m\u001b[0;34m)\u001b[0m\u001b[0;34m:\u001b[0m\u001b[0;34m\u001b[0m\u001b[0;34m\u001b[0m\u001b[0m\n\u001b[1;32m    751\u001b[0m         raise ValueError(\n\u001b[0;32m--> 752\u001b[0;31m             \u001b[0;34m\"Length of values \"\u001b[0m\u001b[0;34m\u001b[0m\u001b[0;34m\u001b[0m\u001b[0m\n\u001b[0m\u001b[1;32m    753\u001b[0m             \u001b[0;34mf\"({len(data)}) \"\u001b[0m\u001b[0;34m\u001b[0m\u001b[0;34m\u001b[0m\u001b[0m\n\u001b[1;32m    754\u001b[0m             \u001b[0;34m\"does not match length of index \"\u001b[0m\u001b[0;34m\u001b[0m\u001b[0;34m\u001b[0m\u001b[0m\n",
      "\u001b[0;31mValueError\u001b[0m: Length of values (8439672) does not match length of index (2)"
     ]
    }
   ],
   "source": [
    "%%time\n",
    "\n",
    "ddf_posts.assign(\n",
    "    test_col=lambda x: np.where(x['subreddit_name'] == 'memesenespanol', 'yay', 'nay')\n",
    ")"
   ]
  },
  {
   "cell_type": "code",
   "execution_count": 161,
   "id": "c484f107",
   "metadata": {},
   "outputs": [
    {
     "ename": "ValueError",
     "evalue": "cannot reindex from a duplicate axis",
     "output_type": "error",
     "traceback": [
      "\u001b[0;31m---------------------------------------------------------------------------\u001b[0m",
      "\u001b[0;31mValueError\u001b[0m                                Traceback (most recent call last)",
      "\u001b[0;32m<timed eval>\u001b[0m in \u001b[0;36m<module>\u001b[0;34m\u001b[0m\n",
      "\u001b[0;32m/opt/conda/lib/python3.7/site-packages/dask/dataframe/core.py\u001b[0m in \u001b[0;36massign\u001b[0;34m(self, **kwargs)\u001b[0m\n\u001b[1;32m   4260\u001b[0m \u001b[0;34m\u001b[0m\u001b[0m\n\u001b[1;32m   4261\u001b[0m         \u001b[0;31m# Figure out columns of the output\u001b[0m\u001b[0;34m\u001b[0m\u001b[0;34m\u001b[0m\u001b[0;34m\u001b[0m\u001b[0m\n\u001b[0;32m-> 4262\u001b[0;31m         \u001b[0mdf2\u001b[0m \u001b[0;34m=\u001b[0m \u001b[0mself\u001b[0m\u001b[0;34m.\u001b[0m\u001b[0m_meta_nonempty\u001b[0m\u001b[0;34m.\u001b[0m\u001b[0massign\u001b[0m\u001b[0;34m(\u001b[0m\u001b[0;34m**\u001b[0m\u001b[0m_extract_meta\u001b[0m\u001b[0;34m(\u001b[0m\u001b[0mkwargs\u001b[0m\u001b[0;34m,\u001b[0m \u001b[0mnonempty\u001b[0m\u001b[0;34m=\u001b[0m\u001b[0;32mTrue\u001b[0m\u001b[0;34m)\u001b[0m\u001b[0;34m)\u001b[0m\u001b[0;34m\u001b[0m\u001b[0;34m\u001b[0m\u001b[0m\n\u001b[0m\u001b[1;32m   4263\u001b[0m         \u001b[0;32mreturn\u001b[0m \u001b[0melemwise\u001b[0m\u001b[0;34m(\u001b[0m\u001b[0mmethods\u001b[0m\u001b[0;34m.\u001b[0m\u001b[0massign\u001b[0m\u001b[0;34m,\u001b[0m \u001b[0mself\u001b[0m\u001b[0;34m,\u001b[0m \u001b[0;34m*\u001b[0m\u001b[0mpairs\u001b[0m\u001b[0;34m,\u001b[0m \u001b[0mmeta\u001b[0m\u001b[0;34m=\u001b[0m\u001b[0mdf2\u001b[0m\u001b[0;34m)\u001b[0m\u001b[0;34m\u001b[0m\u001b[0;34m\u001b[0m\u001b[0m\n\u001b[1;32m   4264\u001b[0m \u001b[0;34m\u001b[0m\u001b[0m\n",
      "\u001b[0;32m/opt/conda/lib/python3.7/site-packages/pandas/core/frame.py\u001b[0m in \u001b[0;36massign\u001b[0;34m(self, **kwargs)\u001b[0m\n\u001b[1;32m   3828\u001b[0m \u001b[0;34m\u001b[0m\u001b[0m\n\u001b[1;32m   3829\u001b[0m         \u001b[0;32mfor\u001b[0m \u001b[0mk\u001b[0m\u001b[0;34m,\u001b[0m \u001b[0mv\u001b[0m \u001b[0;32min\u001b[0m \u001b[0mkwargs\u001b[0m\u001b[0;34m.\u001b[0m\u001b[0mitems\u001b[0m\u001b[0;34m(\u001b[0m\u001b[0;34m)\u001b[0m\u001b[0;34m:\u001b[0m\u001b[0;34m\u001b[0m\u001b[0;34m\u001b[0m\u001b[0m\n\u001b[0;32m-> 3830\u001b[0;31m             \u001b[0mdata\u001b[0m\u001b[0;34m[\u001b[0m\u001b[0mk\u001b[0m\u001b[0;34m]\u001b[0m \u001b[0;34m=\u001b[0m \u001b[0mcom\u001b[0m\u001b[0;34m.\u001b[0m\u001b[0mapply_if_callable\u001b[0m\u001b[0;34m(\u001b[0m\u001b[0mv\u001b[0m\u001b[0;34m,\u001b[0m \u001b[0mdata\u001b[0m\u001b[0;34m)\u001b[0m\u001b[0;34m\u001b[0m\u001b[0;34m\u001b[0m\u001b[0m\n\u001b[0m\u001b[1;32m   3831\u001b[0m         \u001b[0;32mreturn\u001b[0m \u001b[0mdata\u001b[0m\u001b[0;34m\u001b[0m\u001b[0;34m\u001b[0m\u001b[0m\n\u001b[1;32m   3832\u001b[0m \u001b[0;34m\u001b[0m\u001b[0m\n",
      "\u001b[0;32m/opt/conda/lib/python3.7/site-packages/pandas/core/frame.py\u001b[0m in \u001b[0;36m__setitem__\u001b[0;34m(self, key, value)\u001b[0m\n\u001b[1;32m   3161\u001b[0m         \u001b[0;32melse\u001b[0m\u001b[0;34m:\u001b[0m\u001b[0;34m\u001b[0m\u001b[0;34m\u001b[0m\u001b[0m\n\u001b[1;32m   3162\u001b[0m             \u001b[0;31m# set column\u001b[0m\u001b[0;34m\u001b[0m\u001b[0;34m\u001b[0m\u001b[0;34m\u001b[0m\u001b[0m\n\u001b[0;32m-> 3163\u001b[0;31m             \u001b[0mself\u001b[0m\u001b[0;34m.\u001b[0m\u001b[0m_set_item\u001b[0m\u001b[0;34m(\u001b[0m\u001b[0mkey\u001b[0m\u001b[0;34m,\u001b[0m \u001b[0mvalue\u001b[0m\u001b[0;34m)\u001b[0m\u001b[0;34m\u001b[0m\u001b[0;34m\u001b[0m\u001b[0m\n\u001b[0m\u001b[1;32m   3164\u001b[0m \u001b[0;34m\u001b[0m\u001b[0m\n\u001b[1;32m   3165\u001b[0m     \u001b[0;32mdef\u001b[0m \u001b[0m_setitem_slice\u001b[0m\u001b[0;34m(\u001b[0m\u001b[0mself\u001b[0m\u001b[0;34m,\u001b[0m \u001b[0mkey\u001b[0m\u001b[0;34m:\u001b[0m \u001b[0mslice\u001b[0m\u001b[0;34m,\u001b[0m \u001b[0mvalue\u001b[0m\u001b[0;34m)\u001b[0m\u001b[0;34m:\u001b[0m\u001b[0;34m\u001b[0m\u001b[0;34m\u001b[0m\u001b[0m\n",
      "\u001b[0;32m/opt/conda/lib/python3.7/site-packages/pandas/core/frame.py\u001b[0m in \u001b[0;36m_set_item\u001b[0;34m(self, key, value)\u001b[0m\n\u001b[1;32m   3240\u001b[0m         \"\"\"\n\u001b[1;32m   3241\u001b[0m         \u001b[0mself\u001b[0m\u001b[0;34m.\u001b[0m\u001b[0m_ensure_valid_index\u001b[0m\u001b[0;34m(\u001b[0m\u001b[0mvalue\u001b[0m\u001b[0;34m)\u001b[0m\u001b[0;34m\u001b[0m\u001b[0;34m\u001b[0m\u001b[0m\n\u001b[0;32m-> 3242\u001b[0;31m         \u001b[0mvalue\u001b[0m \u001b[0;34m=\u001b[0m \u001b[0mself\u001b[0m\u001b[0;34m.\u001b[0m\u001b[0m_sanitize_column\u001b[0m\u001b[0;34m(\u001b[0m\u001b[0mkey\u001b[0m\u001b[0;34m,\u001b[0m \u001b[0mvalue\u001b[0m\u001b[0;34m)\u001b[0m\u001b[0;34m\u001b[0m\u001b[0;34m\u001b[0m\u001b[0m\n\u001b[0m\u001b[1;32m   3243\u001b[0m         \u001b[0mNDFrame\u001b[0m\u001b[0;34m.\u001b[0m\u001b[0m_set_item\u001b[0m\u001b[0;34m(\u001b[0m\u001b[0mself\u001b[0m\u001b[0;34m,\u001b[0m \u001b[0mkey\u001b[0m\u001b[0;34m,\u001b[0m \u001b[0mvalue\u001b[0m\u001b[0;34m)\u001b[0m\u001b[0;34m\u001b[0m\u001b[0;34m\u001b[0m\u001b[0m\n\u001b[1;32m   3244\u001b[0m \u001b[0;34m\u001b[0m\u001b[0m\n",
      "\u001b[0;32m/opt/conda/lib/python3.7/site-packages/pandas/core/frame.py\u001b[0m in \u001b[0;36m_sanitize_column\u001b[0;34m(self, key, value, broadcast)\u001b[0m\n\u001b[1;32m   3874\u001b[0m \u001b[0;34m\u001b[0m\u001b[0m\n\u001b[1;32m   3875\u001b[0m         \u001b[0;32mif\u001b[0m \u001b[0misinstance\u001b[0m\u001b[0;34m(\u001b[0m\u001b[0mvalue\u001b[0m\u001b[0;34m,\u001b[0m \u001b[0mSeries\u001b[0m\u001b[0;34m)\u001b[0m\u001b[0;34m:\u001b[0m\u001b[0;34m\u001b[0m\u001b[0;34m\u001b[0m\u001b[0m\n\u001b[0;32m-> 3876\u001b[0;31m             \u001b[0mvalue\u001b[0m \u001b[0;34m=\u001b[0m \u001b[0mreindexer\u001b[0m\u001b[0;34m(\u001b[0m\u001b[0mvalue\u001b[0m\u001b[0;34m)\u001b[0m\u001b[0;34m\u001b[0m\u001b[0;34m\u001b[0m\u001b[0m\n\u001b[0m\u001b[1;32m   3877\u001b[0m \u001b[0;34m\u001b[0m\u001b[0m\n\u001b[1;32m   3878\u001b[0m         \u001b[0;32melif\u001b[0m \u001b[0misinstance\u001b[0m\u001b[0;34m(\u001b[0m\u001b[0mvalue\u001b[0m\u001b[0;34m,\u001b[0m \u001b[0mDataFrame\u001b[0m\u001b[0;34m)\u001b[0m\u001b[0;34m:\u001b[0m\u001b[0;34m\u001b[0m\u001b[0;34m\u001b[0m\u001b[0m\n",
      "\u001b[0;32m/opt/conda/lib/python3.7/site-packages/pandas/core/frame.py\u001b[0m in \u001b[0;36mreindexer\u001b[0;34m(value)\u001b[0m\n\u001b[1;32m   3865\u001b[0m                     \u001b[0;32mif\u001b[0m \u001b[0;32mnot\u001b[0m \u001b[0mvalue\u001b[0m\u001b[0;34m.\u001b[0m\u001b[0mindex\u001b[0m\u001b[0;34m.\u001b[0m\u001b[0mis_unique\u001b[0m\u001b[0;34m:\u001b[0m\u001b[0;34m\u001b[0m\u001b[0;34m\u001b[0m\u001b[0m\n\u001b[1;32m   3866\u001b[0m                         \u001b[0;31m# duplicate axis\u001b[0m\u001b[0;34m\u001b[0m\u001b[0;34m\u001b[0m\u001b[0;34m\u001b[0m\u001b[0m\n\u001b[0;32m-> 3867\u001b[0;31m                         \u001b[0;32mraise\u001b[0m \u001b[0merr\u001b[0m\u001b[0;34m\u001b[0m\u001b[0;34m\u001b[0m\u001b[0m\n\u001b[0m\u001b[1;32m   3868\u001b[0m \u001b[0;34m\u001b[0m\u001b[0m\n\u001b[1;32m   3869\u001b[0m                     \u001b[0;31m# other\u001b[0m\u001b[0;34m\u001b[0m\u001b[0;34m\u001b[0m\u001b[0;34m\u001b[0m\u001b[0m\n",
      "\u001b[0;32m/opt/conda/lib/python3.7/site-packages/pandas/core/frame.py\u001b[0m in \u001b[0;36mreindexer\u001b[0;34m(value)\u001b[0m\n\u001b[1;32m   3860\u001b[0m                 \u001b[0;31m# GH 4107\u001b[0m\u001b[0;34m\u001b[0m\u001b[0;34m\u001b[0m\u001b[0;34m\u001b[0m\u001b[0m\n\u001b[1;32m   3861\u001b[0m                 \u001b[0;32mtry\u001b[0m\u001b[0;34m:\u001b[0m\u001b[0;34m\u001b[0m\u001b[0;34m\u001b[0m\u001b[0m\n\u001b[0;32m-> 3862\u001b[0;31m                     \u001b[0mvalue\u001b[0m \u001b[0;34m=\u001b[0m \u001b[0mvalue\u001b[0m\u001b[0;34m.\u001b[0m\u001b[0mreindex\u001b[0m\u001b[0;34m(\u001b[0m\u001b[0mself\u001b[0m\u001b[0;34m.\u001b[0m\u001b[0mindex\u001b[0m\u001b[0;34m)\u001b[0m\u001b[0;34m.\u001b[0m\u001b[0m_values\u001b[0m\u001b[0;34m\u001b[0m\u001b[0;34m\u001b[0m\u001b[0m\n\u001b[0m\u001b[1;32m   3863\u001b[0m                 \u001b[0;32mexcept\u001b[0m \u001b[0mValueError\u001b[0m \u001b[0;32mas\u001b[0m \u001b[0merr\u001b[0m\u001b[0;34m:\u001b[0m\u001b[0;34m\u001b[0m\u001b[0;34m\u001b[0m\u001b[0m\n\u001b[1;32m   3864\u001b[0m                     \u001b[0;31m# raised in MultiIndex.from_tuples, see test_insert_error_msmgs\u001b[0m\u001b[0;34m\u001b[0m\u001b[0;34m\u001b[0m\u001b[0;34m\u001b[0m\u001b[0m\n",
      "\u001b[0;32m/opt/conda/lib/python3.7/site-packages/pandas/core/series.py\u001b[0m in \u001b[0;36mreindex\u001b[0;34m(self, index, **kwargs)\u001b[0m\n\u001b[1;32m   4343\u001b[0m     )\n\u001b[1;32m   4344\u001b[0m     \u001b[0;32mdef\u001b[0m \u001b[0mreindex\u001b[0m\u001b[0;34m(\u001b[0m\u001b[0mself\u001b[0m\u001b[0;34m,\u001b[0m \u001b[0mindex\u001b[0m\u001b[0;34m=\u001b[0m\u001b[0;32mNone\u001b[0m\u001b[0;34m,\u001b[0m \u001b[0;34m**\u001b[0m\u001b[0mkwargs\u001b[0m\u001b[0;34m)\u001b[0m\u001b[0;34m:\u001b[0m\u001b[0;34m\u001b[0m\u001b[0;34m\u001b[0m\u001b[0m\n\u001b[0;32m-> 4345\u001b[0;31m         \u001b[0;32mreturn\u001b[0m \u001b[0msuper\u001b[0m\u001b[0;34m(\u001b[0m\u001b[0;34m)\u001b[0m\u001b[0;34m.\u001b[0m\u001b[0mreindex\u001b[0m\u001b[0;34m(\u001b[0m\u001b[0mindex\u001b[0m\u001b[0;34m=\u001b[0m\u001b[0mindex\u001b[0m\u001b[0;34m,\u001b[0m \u001b[0;34m**\u001b[0m\u001b[0mkwargs\u001b[0m\u001b[0;34m)\u001b[0m\u001b[0;34m\u001b[0m\u001b[0;34m\u001b[0m\u001b[0m\n\u001b[0m\u001b[1;32m   4346\u001b[0m \u001b[0;34m\u001b[0m\u001b[0m\n\u001b[1;32m   4347\u001b[0m     def drop(\n",
      "\u001b[0;32m/opt/conda/lib/python3.7/site-packages/pandas/core/generic.py\u001b[0m in \u001b[0;36mreindex\u001b[0;34m(self, *args, **kwargs)\u001b[0m\n\u001b[1;32m   4810\u001b[0m         \u001b[0;31m# perform the reindex on the axes\u001b[0m\u001b[0;34m\u001b[0m\u001b[0;34m\u001b[0m\u001b[0;34m\u001b[0m\u001b[0m\n\u001b[1;32m   4811\u001b[0m         return self._reindex_axes(\n\u001b[0;32m-> 4812\u001b[0;31m             \u001b[0maxes\u001b[0m\u001b[0;34m,\u001b[0m \u001b[0mlevel\u001b[0m\u001b[0;34m,\u001b[0m \u001b[0mlimit\u001b[0m\u001b[0;34m,\u001b[0m \u001b[0mtolerance\u001b[0m\u001b[0;34m,\u001b[0m \u001b[0mmethod\u001b[0m\u001b[0;34m,\u001b[0m \u001b[0mfill_value\u001b[0m\u001b[0;34m,\u001b[0m \u001b[0mcopy\u001b[0m\u001b[0;34m\u001b[0m\u001b[0;34m\u001b[0m\u001b[0m\n\u001b[0m\u001b[1;32m   4813\u001b[0m         ).__finalize__(self, method=\"reindex\")\n\u001b[1;32m   4814\u001b[0m \u001b[0;34m\u001b[0m\u001b[0m\n",
      "\u001b[0;32m/opt/conda/lib/python3.7/site-packages/pandas/core/generic.py\u001b[0m in \u001b[0;36m_reindex_axes\u001b[0;34m(self, axes, level, limit, tolerance, method, fill_value, copy)\u001b[0m\n\u001b[1;32m   4834\u001b[0m                 \u001b[0mfill_value\u001b[0m\u001b[0;34m=\u001b[0m\u001b[0mfill_value\u001b[0m\u001b[0;34m,\u001b[0m\u001b[0;34m\u001b[0m\u001b[0;34m\u001b[0m\u001b[0m\n\u001b[1;32m   4835\u001b[0m                 \u001b[0mcopy\u001b[0m\u001b[0;34m=\u001b[0m\u001b[0mcopy\u001b[0m\u001b[0;34m,\u001b[0m\u001b[0;34m\u001b[0m\u001b[0;34m\u001b[0m\u001b[0m\n\u001b[0;32m-> 4836\u001b[0;31m                 \u001b[0mallow_dups\u001b[0m\u001b[0;34m=\u001b[0m\u001b[0;32mFalse\u001b[0m\u001b[0;34m,\u001b[0m\u001b[0;34m\u001b[0m\u001b[0;34m\u001b[0m\u001b[0m\n\u001b[0m\u001b[1;32m   4837\u001b[0m             )\n\u001b[1;32m   4838\u001b[0m \u001b[0;34m\u001b[0m\u001b[0m\n",
      "\u001b[0;32m/opt/conda/lib/python3.7/site-packages/pandas/core/generic.py\u001b[0m in \u001b[0;36m_reindex_with_indexers\u001b[0;34m(self, reindexers, fill_value, copy, allow_dups)\u001b[0m\n\u001b[1;32m   4881\u001b[0m                 \u001b[0mfill_value\u001b[0m\u001b[0;34m=\u001b[0m\u001b[0mfill_value\u001b[0m\u001b[0;34m,\u001b[0m\u001b[0;34m\u001b[0m\u001b[0;34m\u001b[0m\u001b[0m\n\u001b[1;32m   4882\u001b[0m                 \u001b[0mallow_dups\u001b[0m\u001b[0;34m=\u001b[0m\u001b[0mallow_dups\u001b[0m\u001b[0;34m,\u001b[0m\u001b[0;34m\u001b[0m\u001b[0;34m\u001b[0m\u001b[0m\n\u001b[0;32m-> 4883\u001b[0;31m                 \u001b[0mcopy\u001b[0m\u001b[0;34m=\u001b[0m\u001b[0mcopy\u001b[0m\u001b[0;34m,\u001b[0m\u001b[0;34m\u001b[0m\u001b[0;34m\u001b[0m\u001b[0m\n\u001b[0m\u001b[1;32m   4884\u001b[0m             )\n\u001b[1;32m   4885\u001b[0m             \u001b[0;31m# If we've made a copy once, no need to make another one\u001b[0m\u001b[0;34m\u001b[0m\u001b[0;34m\u001b[0m\u001b[0;34m\u001b[0m\u001b[0m\n",
      "\u001b[0;32m/opt/conda/lib/python3.7/site-packages/pandas/core/internals/managers.py\u001b[0m in \u001b[0;36mreindex_indexer\u001b[0;34m(self, new_axis, indexer, axis, fill_value, allow_dups, copy, consolidate, only_slice)\u001b[0m\n\u001b[1;32m   1299\u001b[0m         \u001b[0;31m# some axes don't allow reindexing with dups\u001b[0m\u001b[0;34m\u001b[0m\u001b[0;34m\u001b[0m\u001b[0;34m\u001b[0m\u001b[0m\n\u001b[1;32m   1300\u001b[0m         \u001b[0;32mif\u001b[0m \u001b[0;32mnot\u001b[0m \u001b[0mallow_dups\u001b[0m\u001b[0;34m:\u001b[0m\u001b[0;34m\u001b[0m\u001b[0;34m\u001b[0m\u001b[0m\n\u001b[0;32m-> 1301\u001b[0;31m             \u001b[0mself\u001b[0m\u001b[0;34m.\u001b[0m\u001b[0maxes\u001b[0m\u001b[0;34m[\u001b[0m\u001b[0maxis\u001b[0m\u001b[0;34m]\u001b[0m\u001b[0;34m.\u001b[0m\u001b[0m_can_reindex\u001b[0m\u001b[0;34m(\u001b[0m\u001b[0mindexer\u001b[0m\u001b[0;34m)\u001b[0m\u001b[0;34m\u001b[0m\u001b[0;34m\u001b[0m\u001b[0m\n\u001b[0m\u001b[1;32m   1302\u001b[0m \u001b[0;34m\u001b[0m\u001b[0m\n\u001b[1;32m   1303\u001b[0m         \u001b[0;32mif\u001b[0m \u001b[0maxis\u001b[0m \u001b[0;34m>=\u001b[0m \u001b[0mself\u001b[0m\u001b[0;34m.\u001b[0m\u001b[0mndim\u001b[0m\u001b[0;34m:\u001b[0m\u001b[0;34m\u001b[0m\u001b[0;34m\u001b[0m\u001b[0m\n",
      "\u001b[0;32m/opt/conda/lib/python3.7/site-packages/pandas/core/indexes/base.py\u001b[0m in \u001b[0;36m_can_reindex\u001b[0;34m(self, indexer)\u001b[0m\n\u001b[1;32m   3474\u001b[0m         \u001b[0;31m# trying to reindex on an axis with duplicates\u001b[0m\u001b[0;34m\u001b[0m\u001b[0;34m\u001b[0m\u001b[0;34m\u001b[0m\u001b[0m\n\u001b[1;32m   3475\u001b[0m         \u001b[0;32mif\u001b[0m \u001b[0;32mnot\u001b[0m \u001b[0mself\u001b[0m\u001b[0;34m.\u001b[0m\u001b[0m_index_as_unique\u001b[0m \u001b[0;32mand\u001b[0m \u001b[0mlen\u001b[0m\u001b[0;34m(\u001b[0m\u001b[0mindexer\u001b[0m\u001b[0;34m)\u001b[0m\u001b[0;34m:\u001b[0m\u001b[0;34m\u001b[0m\u001b[0;34m\u001b[0m\u001b[0m\n\u001b[0;32m-> 3476\u001b[0;31m             \u001b[0;32mraise\u001b[0m \u001b[0mValueError\u001b[0m\u001b[0;34m(\u001b[0m\u001b[0;34m\"cannot reindex from a duplicate axis\"\u001b[0m\u001b[0;34m)\u001b[0m\u001b[0;34m\u001b[0m\u001b[0;34m\u001b[0m\u001b[0m\n\u001b[0m\u001b[1;32m   3477\u001b[0m \u001b[0;34m\u001b[0m\u001b[0m\n\u001b[1;32m   3478\u001b[0m     \u001b[0;32mdef\u001b[0m \u001b[0mreindex\u001b[0m\u001b[0;34m(\u001b[0m\u001b[0mself\u001b[0m\u001b[0;34m,\u001b[0m \u001b[0mtarget\u001b[0m\u001b[0;34m,\u001b[0m \u001b[0mmethod\u001b[0m\u001b[0;34m=\u001b[0m\u001b[0;32mNone\u001b[0m\u001b[0;34m,\u001b[0m \u001b[0mlevel\u001b[0m\u001b[0;34m=\u001b[0m\u001b[0;32mNone\u001b[0m\u001b[0;34m,\u001b[0m \u001b[0mlimit\u001b[0m\u001b[0;34m=\u001b[0m\u001b[0;32mNone\u001b[0m\u001b[0;34m,\u001b[0m \u001b[0mtolerance\u001b[0m\u001b[0;34m=\u001b[0m\u001b[0;32mNone\u001b[0m\u001b[0;34m)\u001b[0m\u001b[0;34m:\u001b[0m\u001b[0;34m\u001b[0m\u001b[0;34m\u001b[0m\u001b[0m\n",
      "\u001b[0;31mValueError\u001b[0m: cannot reindex from a duplicate axis"
     ]
    }
   ],
   "source": [
    "%%time\n",
    "\n",
    "ddf_posts.assign(\n",
    "    test_col=lambda x: pd.Series(np.where(x['subreddit_name'] == 'memesenespanol', 'yay', 'nay'), index=x.index.compute())\n",
    ")"
   ]
  },
  {
   "cell_type": "code",
   "execution_count": 144,
   "id": "5cd2fb6a",
   "metadata": {},
   "outputs": [
    {
     "name": "stdout",
     "output_type": "stream",
     "text": [
      "CPU times: user 2.53 s, sys: 594 ms, total: 3.12 s\n",
      "Wall time: 1.69 s\n"
     ]
    }
   ],
   "source": [
    "%%time\n",
    "\n",
    "ddf_posts_new = ddf_posts.assign(\n",
    "    test_col=lambda x: da.where(x['subreddit_name'] == 'memesenespanol', \n",
    "                                'yay', \n",
    "                                'nay')\n",
    ")"
   ]
  },
  {
   "cell_type": "code",
   "execution_count": 145,
   "id": "fc7f420c",
   "metadata": {},
   "outputs": [
    {
     "ename": "ValueError",
     "evalue": "Length of values (8439672) does not match length of index (292752)",
     "output_type": "error",
     "traceback": [
      "\u001b[0;31m---------------------------------------------------------------------------\u001b[0m",
      "\u001b[0;31mValueError\u001b[0m                                Traceback (most recent call last)",
      "\u001b[0;32m<ipython-input-145-19a95bb9c92f>\u001b[0m in \u001b[0;36m<module>\u001b[0;34m\u001b[0m\n\u001b[0;32m----> 1\u001b[0;31m \u001b[0mddf_posts\u001b[0m\u001b[0;34m.\u001b[0m\u001b[0mhead\u001b[0m\u001b[0;34m(\u001b[0m\u001b[0;34m)\u001b[0m\u001b[0;34m\u001b[0m\u001b[0;34m\u001b[0m\u001b[0m\n\u001b[0m",
      "\u001b[0;32m/opt/conda/lib/python3.7/site-packages/dask/dataframe/core.py\u001b[0m in \u001b[0;36mhead\u001b[0;34m(self, n, npartitions, compute)\u001b[0m\n\u001b[1;32m   1053\u001b[0m             \u001b[0mWhether\u001b[0m \u001b[0mto\u001b[0m \u001b[0mcompute\u001b[0m \u001b[0mthe\u001b[0m \u001b[0mresult\u001b[0m\u001b[0;34m,\u001b[0m \u001b[0mdefault\u001b[0m \u001b[0;32mis\u001b[0m \u001b[0;32mTrue\u001b[0m\u001b[0;34m.\u001b[0m\u001b[0;34m\u001b[0m\u001b[0;34m\u001b[0m\u001b[0m\n\u001b[1;32m   1054\u001b[0m         \"\"\"\n\u001b[0;32m-> 1055\u001b[0;31m         \u001b[0;32mreturn\u001b[0m \u001b[0mself\u001b[0m\u001b[0;34m.\u001b[0m\u001b[0m_head\u001b[0m\u001b[0;34m(\u001b[0m\u001b[0mn\u001b[0m\u001b[0;34m=\u001b[0m\u001b[0mn\u001b[0m\u001b[0;34m,\u001b[0m \u001b[0mnpartitions\u001b[0m\u001b[0;34m=\u001b[0m\u001b[0mnpartitions\u001b[0m\u001b[0;34m,\u001b[0m \u001b[0mcompute\u001b[0m\u001b[0;34m=\u001b[0m\u001b[0mcompute\u001b[0m\u001b[0;34m,\u001b[0m \u001b[0msafe\u001b[0m\u001b[0;34m=\u001b[0m\u001b[0;32mTrue\u001b[0m\u001b[0;34m)\u001b[0m\u001b[0;34m\u001b[0m\u001b[0;34m\u001b[0m\u001b[0m\n\u001b[0m\u001b[1;32m   1056\u001b[0m \u001b[0;34m\u001b[0m\u001b[0m\n\u001b[1;32m   1057\u001b[0m     \u001b[0;32mdef\u001b[0m \u001b[0m_head\u001b[0m\u001b[0;34m(\u001b[0m\u001b[0mself\u001b[0m\u001b[0;34m,\u001b[0m \u001b[0mn\u001b[0m\u001b[0;34m,\u001b[0m \u001b[0mnpartitions\u001b[0m\u001b[0;34m,\u001b[0m \u001b[0mcompute\u001b[0m\u001b[0;34m,\u001b[0m \u001b[0msafe\u001b[0m\u001b[0;34m)\u001b[0m\u001b[0;34m:\u001b[0m\u001b[0;34m\u001b[0m\u001b[0;34m\u001b[0m\u001b[0m\n",
      "\u001b[0;32m/opt/conda/lib/python3.7/site-packages/dask/dataframe/core.py\u001b[0m in \u001b[0;36m_head\u001b[0;34m(self, n, npartitions, compute, safe)\u001b[0m\n\u001b[1;32m   1086\u001b[0m \u001b[0;34m\u001b[0m\u001b[0m\n\u001b[1;32m   1087\u001b[0m         \u001b[0;32mif\u001b[0m \u001b[0mcompute\u001b[0m\u001b[0;34m:\u001b[0m\u001b[0;34m\u001b[0m\u001b[0;34m\u001b[0m\u001b[0m\n\u001b[0;32m-> 1088\u001b[0;31m             \u001b[0mresult\u001b[0m \u001b[0;34m=\u001b[0m \u001b[0mresult\u001b[0m\u001b[0;34m.\u001b[0m\u001b[0mcompute\u001b[0m\u001b[0;34m(\u001b[0m\u001b[0;34m)\u001b[0m\u001b[0;34m\u001b[0m\u001b[0;34m\u001b[0m\u001b[0m\n\u001b[0m\u001b[1;32m   1089\u001b[0m         \u001b[0;32mreturn\u001b[0m \u001b[0mresult\u001b[0m\u001b[0;34m\u001b[0m\u001b[0;34m\u001b[0m\u001b[0m\n\u001b[1;32m   1090\u001b[0m \u001b[0;34m\u001b[0m\u001b[0m\n",
      "\u001b[0;32m/opt/conda/lib/python3.7/site-packages/dask/base.py\u001b[0m in \u001b[0;36mcompute\u001b[0;34m(self, **kwargs)\u001b[0m\n\u001b[1;32m    283\u001b[0m         \u001b[0mdask\u001b[0m\u001b[0;34m.\u001b[0m\u001b[0mbase\u001b[0m\u001b[0;34m.\u001b[0m\u001b[0mcompute\u001b[0m\u001b[0;34m\u001b[0m\u001b[0;34m\u001b[0m\u001b[0m\n\u001b[1;32m    284\u001b[0m         \"\"\"\n\u001b[0;32m--> 285\u001b[0;31m         \u001b[0;34m(\u001b[0m\u001b[0mresult\u001b[0m\u001b[0;34m,\u001b[0m\u001b[0;34m)\u001b[0m \u001b[0;34m=\u001b[0m \u001b[0mcompute\u001b[0m\u001b[0;34m(\u001b[0m\u001b[0mself\u001b[0m\u001b[0;34m,\u001b[0m \u001b[0mtraverse\u001b[0m\u001b[0;34m=\u001b[0m\u001b[0;32mFalse\u001b[0m\u001b[0;34m,\u001b[0m \u001b[0;34m**\u001b[0m\u001b[0mkwargs\u001b[0m\u001b[0;34m)\u001b[0m\u001b[0;34m\u001b[0m\u001b[0;34m\u001b[0m\u001b[0m\n\u001b[0m\u001b[1;32m    286\u001b[0m         \u001b[0;32mreturn\u001b[0m \u001b[0mresult\u001b[0m\u001b[0;34m\u001b[0m\u001b[0;34m\u001b[0m\u001b[0m\n\u001b[1;32m    287\u001b[0m \u001b[0;34m\u001b[0m\u001b[0m\n",
      "\u001b[0;32m/opt/conda/lib/python3.7/site-packages/dask/base.py\u001b[0m in \u001b[0;36mcompute\u001b[0;34m(*args, **kwargs)\u001b[0m\n\u001b[1;32m    565\u001b[0m         \u001b[0mpostcomputes\u001b[0m\u001b[0;34m.\u001b[0m\u001b[0mappend\u001b[0m\u001b[0;34m(\u001b[0m\u001b[0mx\u001b[0m\u001b[0;34m.\u001b[0m\u001b[0m__dask_postcompute__\u001b[0m\u001b[0;34m(\u001b[0m\u001b[0;34m)\u001b[0m\u001b[0;34m)\u001b[0m\u001b[0;34m\u001b[0m\u001b[0;34m\u001b[0m\u001b[0m\n\u001b[1;32m    566\u001b[0m \u001b[0;34m\u001b[0m\u001b[0m\n\u001b[0;32m--> 567\u001b[0;31m     \u001b[0mresults\u001b[0m \u001b[0;34m=\u001b[0m \u001b[0mschedule\u001b[0m\u001b[0;34m(\u001b[0m\u001b[0mdsk\u001b[0m\u001b[0;34m,\u001b[0m \u001b[0mkeys\u001b[0m\u001b[0;34m,\u001b[0m \u001b[0;34m**\u001b[0m\u001b[0mkwargs\u001b[0m\u001b[0;34m)\u001b[0m\u001b[0;34m\u001b[0m\u001b[0;34m\u001b[0m\u001b[0m\n\u001b[0m\u001b[1;32m    568\u001b[0m     \u001b[0;32mreturn\u001b[0m \u001b[0mrepack\u001b[0m\u001b[0;34m(\u001b[0m\u001b[0;34m[\u001b[0m\u001b[0mf\u001b[0m\u001b[0;34m(\u001b[0m\u001b[0mr\u001b[0m\u001b[0;34m,\u001b[0m \u001b[0;34m*\u001b[0m\u001b[0ma\u001b[0m\u001b[0;34m)\u001b[0m \u001b[0;32mfor\u001b[0m \u001b[0mr\u001b[0m\u001b[0;34m,\u001b[0m \u001b[0;34m(\u001b[0m\u001b[0mf\u001b[0m\u001b[0;34m,\u001b[0m \u001b[0ma\u001b[0m\u001b[0;34m)\u001b[0m \u001b[0;32min\u001b[0m \u001b[0mzip\u001b[0m\u001b[0;34m(\u001b[0m\u001b[0mresults\u001b[0m\u001b[0;34m,\u001b[0m \u001b[0mpostcomputes\u001b[0m\u001b[0;34m)\u001b[0m\u001b[0;34m]\u001b[0m\u001b[0;34m)\u001b[0m\u001b[0;34m\u001b[0m\u001b[0;34m\u001b[0m\u001b[0m\n\u001b[1;32m    569\u001b[0m \u001b[0;34m\u001b[0m\u001b[0m\n",
      "\u001b[0;32m/opt/conda/lib/python3.7/site-packages/dask/threaded.py\u001b[0m in \u001b[0;36mget\u001b[0;34m(dsk, result, cache, num_workers, pool, **kwargs)\u001b[0m\n\u001b[1;32m     85\u001b[0m         \u001b[0mget_id\u001b[0m\u001b[0;34m=\u001b[0m\u001b[0m_thread_get_id\u001b[0m\u001b[0;34m,\u001b[0m\u001b[0;34m\u001b[0m\u001b[0;34m\u001b[0m\u001b[0m\n\u001b[1;32m     86\u001b[0m         \u001b[0mpack_exception\u001b[0m\u001b[0;34m=\u001b[0m\u001b[0mpack_exception\u001b[0m\u001b[0;34m,\u001b[0m\u001b[0;34m\u001b[0m\u001b[0;34m\u001b[0m\u001b[0m\n\u001b[0;32m---> 87\u001b[0;31m         \u001b[0;34m**\u001b[0m\u001b[0mkwargs\u001b[0m\u001b[0;34m\u001b[0m\u001b[0;34m\u001b[0m\u001b[0m\n\u001b[0m\u001b[1;32m     88\u001b[0m     )\n\u001b[1;32m     89\u001b[0m \u001b[0;34m\u001b[0m\u001b[0m\n",
      "\u001b[0;32m/opt/conda/lib/python3.7/site-packages/dask/local.py\u001b[0m in \u001b[0;36mget_async\u001b[0;34m(submit, num_workers, dsk, result, cache, get_id, rerun_exceptions_locally, pack_exception, raise_exception, callbacks, dumps, loads, chunksize, **kwargs)\u001b[0m\n\u001b[1;32m    512\u001b[0m                             \u001b[0m_execute_task\u001b[0m\u001b[0;34m(\u001b[0m\u001b[0mtask\u001b[0m\u001b[0;34m,\u001b[0m \u001b[0mdata\u001b[0m\u001b[0;34m)\u001b[0m  \u001b[0;31m# Re-execute locally\u001b[0m\u001b[0;34m\u001b[0m\u001b[0;34m\u001b[0m\u001b[0m\n\u001b[1;32m    513\u001b[0m                         \u001b[0;32melse\u001b[0m\u001b[0;34m:\u001b[0m\u001b[0;34m\u001b[0m\u001b[0;34m\u001b[0m\u001b[0m\n\u001b[0;32m--> 514\u001b[0;31m                             \u001b[0mraise_exception\u001b[0m\u001b[0;34m(\u001b[0m\u001b[0mexc\u001b[0m\u001b[0;34m,\u001b[0m \u001b[0mtb\u001b[0m\u001b[0;34m)\u001b[0m\u001b[0;34m\u001b[0m\u001b[0;34m\u001b[0m\u001b[0m\n\u001b[0m\u001b[1;32m    515\u001b[0m                     \u001b[0mres\u001b[0m\u001b[0;34m,\u001b[0m \u001b[0mworker_id\u001b[0m \u001b[0;34m=\u001b[0m \u001b[0mloads\u001b[0m\u001b[0;34m(\u001b[0m\u001b[0mres_info\u001b[0m\u001b[0;34m)\u001b[0m\u001b[0;34m\u001b[0m\u001b[0;34m\u001b[0m\u001b[0m\n\u001b[1;32m    516\u001b[0m                     \u001b[0mstate\u001b[0m\u001b[0;34m[\u001b[0m\u001b[0;34m\"cache\"\u001b[0m\u001b[0;34m]\u001b[0m\u001b[0;34m[\u001b[0m\u001b[0mkey\u001b[0m\u001b[0;34m]\u001b[0m \u001b[0;34m=\u001b[0m \u001b[0mres\u001b[0m\u001b[0;34m\u001b[0m\u001b[0;34m\u001b[0m\u001b[0m\n",
      "\u001b[0;32m/opt/conda/lib/python3.7/site-packages/dask/local.py\u001b[0m in \u001b[0;36mreraise\u001b[0;34m(exc, tb)\u001b[0m\n\u001b[1;32m    323\u001b[0m     \u001b[0;32mif\u001b[0m \u001b[0mexc\u001b[0m\u001b[0;34m.\u001b[0m\u001b[0m__traceback__\u001b[0m \u001b[0;32mis\u001b[0m \u001b[0;32mnot\u001b[0m \u001b[0mtb\u001b[0m\u001b[0;34m:\u001b[0m\u001b[0;34m\u001b[0m\u001b[0;34m\u001b[0m\u001b[0m\n\u001b[1;32m    324\u001b[0m         \u001b[0;32mraise\u001b[0m \u001b[0mexc\u001b[0m\u001b[0;34m.\u001b[0m\u001b[0mwith_traceback\u001b[0m\u001b[0;34m(\u001b[0m\u001b[0mtb\u001b[0m\u001b[0;34m)\u001b[0m\u001b[0;34m\u001b[0m\u001b[0;34m\u001b[0m\u001b[0m\n\u001b[0;32m--> 325\u001b[0;31m     \u001b[0;32mraise\u001b[0m \u001b[0mexc\u001b[0m\u001b[0;34m\u001b[0m\u001b[0;34m\u001b[0m\u001b[0m\n\u001b[0m\u001b[1;32m    326\u001b[0m \u001b[0;34m\u001b[0m\u001b[0m\n\u001b[1;32m    327\u001b[0m \u001b[0;34m\u001b[0m\u001b[0m\n",
      "\u001b[0;32m/opt/conda/lib/python3.7/site-packages/dask/local.py\u001b[0m in \u001b[0;36mexecute_task\u001b[0;34m(key, task_info, dumps, loads, get_id, pack_exception)\u001b[0m\n\u001b[1;32m    221\u001b[0m     \u001b[0;32mtry\u001b[0m\u001b[0;34m:\u001b[0m\u001b[0;34m\u001b[0m\u001b[0;34m\u001b[0m\u001b[0m\n\u001b[1;32m    222\u001b[0m         \u001b[0mtask\u001b[0m\u001b[0;34m,\u001b[0m \u001b[0mdata\u001b[0m \u001b[0;34m=\u001b[0m \u001b[0mloads\u001b[0m\u001b[0;34m(\u001b[0m\u001b[0mtask_info\u001b[0m\u001b[0;34m)\u001b[0m\u001b[0;34m\u001b[0m\u001b[0;34m\u001b[0m\u001b[0m\n\u001b[0;32m--> 223\u001b[0;31m         \u001b[0mresult\u001b[0m \u001b[0;34m=\u001b[0m \u001b[0m_execute_task\u001b[0m\u001b[0;34m(\u001b[0m\u001b[0mtask\u001b[0m\u001b[0;34m,\u001b[0m \u001b[0mdata\u001b[0m\u001b[0;34m)\u001b[0m\u001b[0;34m\u001b[0m\u001b[0;34m\u001b[0m\u001b[0m\n\u001b[0m\u001b[1;32m    224\u001b[0m         \u001b[0mid\u001b[0m \u001b[0;34m=\u001b[0m \u001b[0mget_id\u001b[0m\u001b[0;34m(\u001b[0m\u001b[0;34m)\u001b[0m\u001b[0;34m\u001b[0m\u001b[0;34m\u001b[0m\u001b[0m\n\u001b[1;32m    225\u001b[0m         \u001b[0mresult\u001b[0m \u001b[0;34m=\u001b[0m \u001b[0mdumps\u001b[0m\u001b[0;34m(\u001b[0m\u001b[0;34m(\u001b[0m\u001b[0mresult\u001b[0m\u001b[0;34m,\u001b[0m \u001b[0mid\u001b[0m\u001b[0;34m)\u001b[0m\u001b[0;34m)\u001b[0m\u001b[0;34m\u001b[0m\u001b[0;34m\u001b[0m\u001b[0m\n",
      "\u001b[0;32m/opt/conda/lib/python3.7/site-packages/dask/core.py\u001b[0m in \u001b[0;36m_execute_task\u001b[0;34m(arg, cache, dsk)\u001b[0m\n\u001b[1;32m    119\u001b[0m         \u001b[0;31m# temporaries by their reference count and can execute certain\u001b[0m\u001b[0;34m\u001b[0m\u001b[0;34m\u001b[0m\u001b[0;34m\u001b[0m\u001b[0m\n\u001b[1;32m    120\u001b[0m         \u001b[0;31m# operations in-place.\u001b[0m\u001b[0;34m\u001b[0m\u001b[0;34m\u001b[0m\u001b[0;34m\u001b[0m\u001b[0m\n\u001b[0;32m--> 121\u001b[0;31m         \u001b[0;32mreturn\u001b[0m \u001b[0mfunc\u001b[0m\u001b[0;34m(\u001b[0m\u001b[0;34m*\u001b[0m\u001b[0;34m(\u001b[0m\u001b[0m_execute_task\u001b[0m\u001b[0;34m(\u001b[0m\u001b[0ma\u001b[0m\u001b[0;34m,\u001b[0m \u001b[0mcache\u001b[0m\u001b[0;34m)\u001b[0m \u001b[0;32mfor\u001b[0m \u001b[0ma\u001b[0m \u001b[0;32min\u001b[0m \u001b[0margs\u001b[0m\u001b[0;34m)\u001b[0m\u001b[0;34m)\u001b[0m\u001b[0;34m\u001b[0m\u001b[0;34m\u001b[0m\u001b[0m\n\u001b[0m\u001b[1;32m    122\u001b[0m     \u001b[0;32melif\u001b[0m \u001b[0;32mnot\u001b[0m \u001b[0mishashable\u001b[0m\u001b[0;34m(\u001b[0m\u001b[0marg\u001b[0m\u001b[0;34m)\u001b[0m\u001b[0;34m:\u001b[0m\u001b[0;34m\u001b[0m\u001b[0;34m\u001b[0m\u001b[0m\n\u001b[1;32m    123\u001b[0m         \u001b[0;32mreturn\u001b[0m \u001b[0marg\u001b[0m\u001b[0;34m\u001b[0m\u001b[0;34m\u001b[0m\u001b[0m\n",
      "\u001b[0;32m/opt/conda/lib/python3.7/site-packages/dask/optimization.py\u001b[0m in \u001b[0;36m__call__\u001b[0;34m(self, *args)\u001b[0m\n\u001b[1;32m    964\u001b[0m         \u001b[0;32mif\u001b[0m \u001b[0;32mnot\u001b[0m \u001b[0mlen\u001b[0m\u001b[0;34m(\u001b[0m\u001b[0margs\u001b[0m\u001b[0;34m)\u001b[0m \u001b[0;34m==\u001b[0m \u001b[0mlen\u001b[0m\u001b[0;34m(\u001b[0m\u001b[0mself\u001b[0m\u001b[0;34m.\u001b[0m\u001b[0minkeys\u001b[0m\u001b[0;34m)\u001b[0m\u001b[0;34m:\u001b[0m\u001b[0;34m\u001b[0m\u001b[0;34m\u001b[0m\u001b[0m\n\u001b[1;32m    965\u001b[0m             \u001b[0;32mraise\u001b[0m \u001b[0mValueError\u001b[0m\u001b[0;34m(\u001b[0m\u001b[0;34m\"Expected %d args, got %d\"\u001b[0m \u001b[0;34m%\u001b[0m \u001b[0;34m(\u001b[0m\u001b[0mlen\u001b[0m\u001b[0;34m(\u001b[0m\u001b[0mself\u001b[0m\u001b[0;34m.\u001b[0m\u001b[0minkeys\u001b[0m\u001b[0;34m)\u001b[0m\u001b[0;34m,\u001b[0m \u001b[0mlen\u001b[0m\u001b[0;34m(\u001b[0m\u001b[0margs\u001b[0m\u001b[0;34m)\u001b[0m\u001b[0;34m)\u001b[0m\u001b[0;34m)\u001b[0m\u001b[0;34m\u001b[0m\u001b[0;34m\u001b[0m\u001b[0m\n\u001b[0;32m--> 966\u001b[0;31m         \u001b[0;32mreturn\u001b[0m \u001b[0mcore\u001b[0m\u001b[0;34m.\u001b[0m\u001b[0mget\u001b[0m\u001b[0;34m(\u001b[0m\u001b[0mself\u001b[0m\u001b[0;34m.\u001b[0m\u001b[0mdsk\u001b[0m\u001b[0;34m,\u001b[0m \u001b[0mself\u001b[0m\u001b[0;34m.\u001b[0m\u001b[0moutkey\u001b[0m\u001b[0;34m,\u001b[0m \u001b[0mdict\u001b[0m\u001b[0;34m(\u001b[0m\u001b[0mzip\u001b[0m\u001b[0;34m(\u001b[0m\u001b[0mself\u001b[0m\u001b[0;34m.\u001b[0m\u001b[0minkeys\u001b[0m\u001b[0;34m,\u001b[0m \u001b[0margs\u001b[0m\u001b[0;34m)\u001b[0m\u001b[0;34m)\u001b[0m\u001b[0;34m)\u001b[0m\u001b[0;34m\u001b[0m\u001b[0;34m\u001b[0m\u001b[0m\n\u001b[0m\u001b[1;32m    967\u001b[0m \u001b[0;34m\u001b[0m\u001b[0m\n\u001b[1;32m    968\u001b[0m     \u001b[0;32mdef\u001b[0m \u001b[0m__reduce__\u001b[0m\u001b[0;34m(\u001b[0m\u001b[0mself\u001b[0m\u001b[0;34m)\u001b[0m\u001b[0;34m:\u001b[0m\u001b[0;34m\u001b[0m\u001b[0;34m\u001b[0m\u001b[0m\n",
      "\u001b[0;32m/opt/conda/lib/python3.7/site-packages/dask/core.py\u001b[0m in \u001b[0;36mget\u001b[0;34m(dsk, out, cache)\u001b[0m\n\u001b[1;32m    149\u001b[0m     \u001b[0;32mfor\u001b[0m \u001b[0mkey\u001b[0m \u001b[0;32min\u001b[0m \u001b[0mtoposort\u001b[0m\u001b[0;34m(\u001b[0m\u001b[0mdsk\u001b[0m\u001b[0;34m)\u001b[0m\u001b[0;34m:\u001b[0m\u001b[0;34m\u001b[0m\u001b[0;34m\u001b[0m\u001b[0m\n\u001b[1;32m    150\u001b[0m         \u001b[0mtask\u001b[0m \u001b[0;34m=\u001b[0m \u001b[0mdsk\u001b[0m\u001b[0;34m[\u001b[0m\u001b[0mkey\u001b[0m\u001b[0;34m]\u001b[0m\u001b[0;34m\u001b[0m\u001b[0;34m\u001b[0m\u001b[0m\n\u001b[0;32m--> 151\u001b[0;31m         \u001b[0mresult\u001b[0m \u001b[0;34m=\u001b[0m \u001b[0m_execute_task\u001b[0m\u001b[0;34m(\u001b[0m\u001b[0mtask\u001b[0m\u001b[0;34m,\u001b[0m \u001b[0mcache\u001b[0m\u001b[0;34m)\u001b[0m\u001b[0;34m\u001b[0m\u001b[0;34m\u001b[0m\u001b[0m\n\u001b[0m\u001b[1;32m    152\u001b[0m         \u001b[0mcache\u001b[0m\u001b[0;34m[\u001b[0m\u001b[0mkey\u001b[0m\u001b[0;34m]\u001b[0m \u001b[0;34m=\u001b[0m \u001b[0mresult\u001b[0m\u001b[0;34m\u001b[0m\u001b[0;34m\u001b[0m\u001b[0m\n\u001b[1;32m    153\u001b[0m     \u001b[0mresult\u001b[0m \u001b[0;34m=\u001b[0m \u001b[0m_execute_task\u001b[0m\u001b[0;34m(\u001b[0m\u001b[0mout\u001b[0m\u001b[0;34m,\u001b[0m \u001b[0mcache\u001b[0m\u001b[0;34m)\u001b[0m\u001b[0;34m\u001b[0m\u001b[0;34m\u001b[0m\u001b[0m\n",
      "\u001b[0;32m/opt/conda/lib/python3.7/site-packages/dask/core.py\u001b[0m in \u001b[0;36m_execute_task\u001b[0;34m(arg, cache, dsk)\u001b[0m\n\u001b[1;32m    119\u001b[0m         \u001b[0;31m# temporaries by their reference count and can execute certain\u001b[0m\u001b[0;34m\u001b[0m\u001b[0;34m\u001b[0m\u001b[0;34m\u001b[0m\u001b[0m\n\u001b[1;32m    120\u001b[0m         \u001b[0;31m# operations in-place.\u001b[0m\u001b[0;34m\u001b[0m\u001b[0;34m\u001b[0m\u001b[0;34m\u001b[0m\u001b[0m\n\u001b[0;32m--> 121\u001b[0;31m         \u001b[0;32mreturn\u001b[0m \u001b[0mfunc\u001b[0m\u001b[0;34m(\u001b[0m\u001b[0;34m*\u001b[0m\u001b[0;34m(\u001b[0m\u001b[0m_execute_task\u001b[0m\u001b[0;34m(\u001b[0m\u001b[0ma\u001b[0m\u001b[0;34m,\u001b[0m \u001b[0mcache\u001b[0m\u001b[0;34m)\u001b[0m \u001b[0;32mfor\u001b[0m \u001b[0ma\u001b[0m \u001b[0;32min\u001b[0m \u001b[0margs\u001b[0m\u001b[0;34m)\u001b[0m\u001b[0;34m)\u001b[0m\u001b[0;34m\u001b[0m\u001b[0;34m\u001b[0m\u001b[0m\n\u001b[0m\u001b[1;32m    122\u001b[0m     \u001b[0;32melif\u001b[0m \u001b[0;32mnot\u001b[0m \u001b[0mishashable\u001b[0m\u001b[0;34m(\u001b[0m\u001b[0marg\u001b[0m\u001b[0;34m)\u001b[0m\u001b[0;34m:\u001b[0m\u001b[0;34m\u001b[0m\u001b[0;34m\u001b[0m\u001b[0m\n\u001b[1;32m    123\u001b[0m         \u001b[0;32mreturn\u001b[0m \u001b[0marg\u001b[0m\u001b[0;34m\u001b[0m\u001b[0;34m\u001b[0m\u001b[0m\n",
      "\u001b[0;32m/opt/conda/lib/python3.7/site-packages/dask/dataframe/methods.py\u001b[0m in \u001b[0;36massign\u001b[0;34m(df, *pairs)\u001b[0m\n\u001b[1;32m    307\u001b[0m     \u001b[0mdf\u001b[0m \u001b[0;34m=\u001b[0m \u001b[0mdf\u001b[0m\u001b[0;34m.\u001b[0m\u001b[0mcopy\u001b[0m\u001b[0;34m(\u001b[0m\u001b[0mdeep\u001b[0m\u001b[0;34m=\u001b[0m\u001b[0mbool\u001b[0m\u001b[0;34m(\u001b[0m\u001b[0mdeep\u001b[0m\u001b[0;34m)\u001b[0m\u001b[0;34m)\u001b[0m\u001b[0;34m\u001b[0m\u001b[0;34m\u001b[0m\u001b[0m\n\u001b[1;32m    308\u001b[0m     \u001b[0;32mfor\u001b[0m \u001b[0mname\u001b[0m\u001b[0;34m,\u001b[0m \u001b[0mval\u001b[0m \u001b[0;32min\u001b[0m \u001b[0mpairs\u001b[0m\u001b[0;34m.\u001b[0m\u001b[0mitems\u001b[0m\u001b[0;34m(\u001b[0m\u001b[0;34m)\u001b[0m\u001b[0;34m:\u001b[0m\u001b[0;34m\u001b[0m\u001b[0;34m\u001b[0m\u001b[0m\n\u001b[0;32m--> 309\u001b[0;31m         \u001b[0mdf\u001b[0m\u001b[0;34m[\u001b[0m\u001b[0mname\u001b[0m\u001b[0;34m]\u001b[0m \u001b[0;34m=\u001b[0m \u001b[0mval\u001b[0m\u001b[0;34m\u001b[0m\u001b[0;34m\u001b[0m\u001b[0m\n\u001b[0m\u001b[1;32m    310\u001b[0m     \u001b[0;32mreturn\u001b[0m \u001b[0mdf\u001b[0m\u001b[0;34m\u001b[0m\u001b[0;34m\u001b[0m\u001b[0m\n\u001b[1;32m    311\u001b[0m \u001b[0;34m\u001b[0m\u001b[0m\n",
      "\u001b[0;32m/opt/conda/lib/python3.7/site-packages/pandas/core/frame.py\u001b[0m in \u001b[0;36m__setitem__\u001b[0;34m(self, key, value)\u001b[0m\n\u001b[1;32m   3161\u001b[0m         \u001b[0;32melse\u001b[0m\u001b[0;34m:\u001b[0m\u001b[0;34m\u001b[0m\u001b[0;34m\u001b[0m\u001b[0m\n\u001b[1;32m   3162\u001b[0m             \u001b[0;31m# set column\u001b[0m\u001b[0;34m\u001b[0m\u001b[0;34m\u001b[0m\u001b[0;34m\u001b[0m\u001b[0m\n\u001b[0;32m-> 3163\u001b[0;31m             \u001b[0mself\u001b[0m\u001b[0;34m.\u001b[0m\u001b[0m_set_item\u001b[0m\u001b[0;34m(\u001b[0m\u001b[0mkey\u001b[0m\u001b[0;34m,\u001b[0m \u001b[0mvalue\u001b[0m\u001b[0;34m)\u001b[0m\u001b[0;34m\u001b[0m\u001b[0;34m\u001b[0m\u001b[0m\n\u001b[0m\u001b[1;32m   3164\u001b[0m \u001b[0;34m\u001b[0m\u001b[0m\n\u001b[1;32m   3165\u001b[0m     \u001b[0;32mdef\u001b[0m \u001b[0m_setitem_slice\u001b[0m\u001b[0;34m(\u001b[0m\u001b[0mself\u001b[0m\u001b[0;34m,\u001b[0m \u001b[0mkey\u001b[0m\u001b[0;34m:\u001b[0m \u001b[0mslice\u001b[0m\u001b[0;34m,\u001b[0m \u001b[0mvalue\u001b[0m\u001b[0;34m)\u001b[0m\u001b[0;34m:\u001b[0m\u001b[0;34m\u001b[0m\u001b[0;34m\u001b[0m\u001b[0m\n",
      "\u001b[0;32m/opt/conda/lib/python3.7/site-packages/pandas/core/frame.py\u001b[0m in \u001b[0;36m_set_item\u001b[0;34m(self, key, value)\u001b[0m\n\u001b[1;32m   3240\u001b[0m         \"\"\"\n\u001b[1;32m   3241\u001b[0m         \u001b[0mself\u001b[0m\u001b[0;34m.\u001b[0m\u001b[0m_ensure_valid_index\u001b[0m\u001b[0;34m(\u001b[0m\u001b[0mvalue\u001b[0m\u001b[0;34m)\u001b[0m\u001b[0;34m\u001b[0m\u001b[0;34m\u001b[0m\u001b[0m\n\u001b[0;32m-> 3242\u001b[0;31m         \u001b[0mvalue\u001b[0m \u001b[0;34m=\u001b[0m \u001b[0mself\u001b[0m\u001b[0;34m.\u001b[0m\u001b[0m_sanitize_column\u001b[0m\u001b[0;34m(\u001b[0m\u001b[0mkey\u001b[0m\u001b[0;34m,\u001b[0m \u001b[0mvalue\u001b[0m\u001b[0;34m)\u001b[0m\u001b[0;34m\u001b[0m\u001b[0;34m\u001b[0m\u001b[0m\n\u001b[0m\u001b[1;32m   3243\u001b[0m         \u001b[0mNDFrame\u001b[0m\u001b[0;34m.\u001b[0m\u001b[0m_set_item\u001b[0m\u001b[0;34m(\u001b[0m\u001b[0mself\u001b[0m\u001b[0;34m,\u001b[0m \u001b[0mkey\u001b[0m\u001b[0;34m,\u001b[0m \u001b[0mvalue\u001b[0m\u001b[0;34m)\u001b[0m\u001b[0;34m\u001b[0m\u001b[0;34m\u001b[0m\u001b[0m\n\u001b[1;32m   3244\u001b[0m \u001b[0;34m\u001b[0m\u001b[0m\n",
      "\u001b[0;32m/opt/conda/lib/python3.7/site-packages/pandas/core/frame.py\u001b[0m in \u001b[0;36m_sanitize_column\u001b[0;34m(self, key, value, broadcast)\u001b[0m\n\u001b[1;32m   3897\u001b[0m \u001b[0;34m\u001b[0m\u001b[0m\n\u001b[1;32m   3898\u001b[0m             \u001b[0;31m# turn me into an ndarray\u001b[0m\u001b[0;34m\u001b[0m\u001b[0;34m\u001b[0m\u001b[0;34m\u001b[0m\u001b[0m\n\u001b[0;32m-> 3899\u001b[0;31m             \u001b[0mvalue\u001b[0m \u001b[0;34m=\u001b[0m \u001b[0msanitize_index\u001b[0m\u001b[0;34m(\u001b[0m\u001b[0mvalue\u001b[0m\u001b[0;34m,\u001b[0m \u001b[0mself\u001b[0m\u001b[0;34m.\u001b[0m\u001b[0mindex\u001b[0m\u001b[0;34m)\u001b[0m\u001b[0;34m\u001b[0m\u001b[0;34m\u001b[0m\u001b[0m\n\u001b[0m\u001b[1;32m   3900\u001b[0m             \u001b[0;32mif\u001b[0m \u001b[0;32mnot\u001b[0m \u001b[0misinstance\u001b[0m\u001b[0;34m(\u001b[0m\u001b[0mvalue\u001b[0m\u001b[0;34m,\u001b[0m \u001b[0;34m(\u001b[0m\u001b[0mnp\u001b[0m\u001b[0;34m.\u001b[0m\u001b[0mndarray\u001b[0m\u001b[0;34m,\u001b[0m \u001b[0mIndex\u001b[0m\u001b[0;34m)\u001b[0m\u001b[0;34m)\u001b[0m\u001b[0;34m:\u001b[0m\u001b[0;34m\u001b[0m\u001b[0;34m\u001b[0m\u001b[0m\n\u001b[1;32m   3901\u001b[0m                 \u001b[0;32mif\u001b[0m \u001b[0misinstance\u001b[0m\u001b[0;34m(\u001b[0m\u001b[0mvalue\u001b[0m\u001b[0;34m,\u001b[0m \u001b[0mlist\u001b[0m\u001b[0;34m)\u001b[0m \u001b[0;32mand\u001b[0m \u001b[0mlen\u001b[0m\u001b[0;34m(\u001b[0m\u001b[0mvalue\u001b[0m\u001b[0;34m)\u001b[0m \u001b[0;34m>\u001b[0m \u001b[0;36m0\u001b[0m\u001b[0;34m:\u001b[0m\u001b[0;34m\u001b[0m\u001b[0;34m\u001b[0m\u001b[0m\n",
      "\u001b[0;32m/opt/conda/lib/python3.7/site-packages/pandas/core/internals/construction.py\u001b[0m in \u001b[0;36msanitize_index\u001b[0;34m(data, index)\u001b[0m\n\u001b[1;32m    750\u001b[0m     \u001b[0;32mif\u001b[0m \u001b[0mlen\u001b[0m\u001b[0;34m(\u001b[0m\u001b[0mdata\u001b[0m\u001b[0;34m)\u001b[0m \u001b[0;34m!=\u001b[0m \u001b[0mlen\u001b[0m\u001b[0;34m(\u001b[0m\u001b[0mindex\u001b[0m\u001b[0;34m)\u001b[0m\u001b[0;34m:\u001b[0m\u001b[0;34m\u001b[0m\u001b[0;34m\u001b[0m\u001b[0m\n\u001b[1;32m    751\u001b[0m         raise ValueError(\n\u001b[0;32m--> 752\u001b[0;31m             \u001b[0;34m\"Length of values \"\u001b[0m\u001b[0;34m\u001b[0m\u001b[0;34m\u001b[0m\u001b[0m\n\u001b[0m\u001b[1;32m    753\u001b[0m             \u001b[0;34mf\"({len(data)}) \"\u001b[0m\u001b[0;34m\u001b[0m\u001b[0;34m\u001b[0m\u001b[0m\n\u001b[1;32m    754\u001b[0m             \u001b[0;34m\"does not match length of index \"\u001b[0m\u001b[0;34m\u001b[0m\u001b[0;34m\u001b[0m\u001b[0m\n",
      "\u001b[0;31mValueError\u001b[0m: Length of values (8439672) does not match length of index (292752)"
     ]
    }
   ],
   "source": [
    "ddf_posts_new.head()"
   ]
  },
  {
   "cell_type": "code",
   "execution_count": 146,
   "id": "f8941a49",
   "metadata": {},
   "outputs": [
    {
     "ename": "ValueError",
     "evalue": "Length of values (8439672) does not match length of index (361954)",
     "output_type": "error",
     "traceback": [
      "\u001b[0;31m---------------------------------------------------------------------------\u001b[0m",
      "\u001b[0;31mValueError\u001b[0m                                Traceback (most recent call last)",
      "\u001b[0;32m<ipython-input-146-15a6652410f3>\u001b[0m in \u001b[0;36m<module>\u001b[0;34m\u001b[0m\n\u001b[0;32m----> 1\u001b[0;31m \u001b[0mddf_posts\u001b[0m\u001b[0;34m.\u001b[0m\u001b[0mtail\u001b[0m\u001b[0;34m(\u001b[0m\u001b[0;34m)\u001b[0m\u001b[0;34m\u001b[0m\u001b[0;34m\u001b[0m\u001b[0m\n\u001b[0m",
      "\u001b[0;32m/opt/conda/lib/python3.7/site-packages/dask/dataframe/core.py\u001b[0m in \u001b[0;36mtail\u001b[0;34m(self, n, compute)\u001b[0m\n\u001b[1;32m   1101\u001b[0m \u001b[0;34m\u001b[0m\u001b[0m\n\u001b[1;32m   1102\u001b[0m         \u001b[0;32mif\u001b[0m \u001b[0mcompute\u001b[0m\u001b[0;34m:\u001b[0m\u001b[0;34m\u001b[0m\u001b[0;34m\u001b[0m\u001b[0m\n\u001b[0;32m-> 1103\u001b[0;31m             \u001b[0mresult\u001b[0m \u001b[0;34m=\u001b[0m \u001b[0mresult\u001b[0m\u001b[0;34m.\u001b[0m\u001b[0mcompute\u001b[0m\u001b[0;34m(\u001b[0m\u001b[0;34m)\u001b[0m\u001b[0;34m\u001b[0m\u001b[0;34m\u001b[0m\u001b[0m\n\u001b[0m\u001b[1;32m   1104\u001b[0m         \u001b[0;32mreturn\u001b[0m \u001b[0mresult\u001b[0m\u001b[0;34m\u001b[0m\u001b[0;34m\u001b[0m\u001b[0m\n\u001b[1;32m   1105\u001b[0m \u001b[0;34m\u001b[0m\u001b[0m\n",
      "\u001b[0;32m/opt/conda/lib/python3.7/site-packages/dask/base.py\u001b[0m in \u001b[0;36mcompute\u001b[0;34m(self, **kwargs)\u001b[0m\n\u001b[1;32m    283\u001b[0m         \u001b[0mdask\u001b[0m\u001b[0;34m.\u001b[0m\u001b[0mbase\u001b[0m\u001b[0;34m.\u001b[0m\u001b[0mcompute\u001b[0m\u001b[0;34m\u001b[0m\u001b[0;34m\u001b[0m\u001b[0m\n\u001b[1;32m    284\u001b[0m         \"\"\"\n\u001b[0;32m--> 285\u001b[0;31m         \u001b[0;34m(\u001b[0m\u001b[0mresult\u001b[0m\u001b[0;34m,\u001b[0m\u001b[0;34m)\u001b[0m \u001b[0;34m=\u001b[0m \u001b[0mcompute\u001b[0m\u001b[0;34m(\u001b[0m\u001b[0mself\u001b[0m\u001b[0;34m,\u001b[0m \u001b[0mtraverse\u001b[0m\u001b[0;34m=\u001b[0m\u001b[0;32mFalse\u001b[0m\u001b[0;34m,\u001b[0m \u001b[0;34m**\u001b[0m\u001b[0mkwargs\u001b[0m\u001b[0;34m)\u001b[0m\u001b[0;34m\u001b[0m\u001b[0;34m\u001b[0m\u001b[0m\n\u001b[0m\u001b[1;32m    286\u001b[0m         \u001b[0;32mreturn\u001b[0m \u001b[0mresult\u001b[0m\u001b[0;34m\u001b[0m\u001b[0;34m\u001b[0m\u001b[0m\n\u001b[1;32m    287\u001b[0m \u001b[0;34m\u001b[0m\u001b[0m\n",
      "\u001b[0;32m/opt/conda/lib/python3.7/site-packages/dask/base.py\u001b[0m in \u001b[0;36mcompute\u001b[0;34m(*args, **kwargs)\u001b[0m\n\u001b[1;32m    565\u001b[0m         \u001b[0mpostcomputes\u001b[0m\u001b[0;34m.\u001b[0m\u001b[0mappend\u001b[0m\u001b[0;34m(\u001b[0m\u001b[0mx\u001b[0m\u001b[0;34m.\u001b[0m\u001b[0m__dask_postcompute__\u001b[0m\u001b[0;34m(\u001b[0m\u001b[0;34m)\u001b[0m\u001b[0;34m)\u001b[0m\u001b[0;34m\u001b[0m\u001b[0;34m\u001b[0m\u001b[0m\n\u001b[1;32m    566\u001b[0m \u001b[0;34m\u001b[0m\u001b[0m\n\u001b[0;32m--> 567\u001b[0;31m     \u001b[0mresults\u001b[0m \u001b[0;34m=\u001b[0m \u001b[0mschedule\u001b[0m\u001b[0;34m(\u001b[0m\u001b[0mdsk\u001b[0m\u001b[0;34m,\u001b[0m \u001b[0mkeys\u001b[0m\u001b[0;34m,\u001b[0m \u001b[0;34m**\u001b[0m\u001b[0mkwargs\u001b[0m\u001b[0;34m)\u001b[0m\u001b[0;34m\u001b[0m\u001b[0;34m\u001b[0m\u001b[0m\n\u001b[0m\u001b[1;32m    568\u001b[0m     \u001b[0;32mreturn\u001b[0m \u001b[0mrepack\u001b[0m\u001b[0;34m(\u001b[0m\u001b[0;34m[\u001b[0m\u001b[0mf\u001b[0m\u001b[0;34m(\u001b[0m\u001b[0mr\u001b[0m\u001b[0;34m,\u001b[0m \u001b[0;34m*\u001b[0m\u001b[0ma\u001b[0m\u001b[0;34m)\u001b[0m \u001b[0;32mfor\u001b[0m \u001b[0mr\u001b[0m\u001b[0;34m,\u001b[0m \u001b[0;34m(\u001b[0m\u001b[0mf\u001b[0m\u001b[0;34m,\u001b[0m \u001b[0ma\u001b[0m\u001b[0;34m)\u001b[0m \u001b[0;32min\u001b[0m \u001b[0mzip\u001b[0m\u001b[0;34m(\u001b[0m\u001b[0mresults\u001b[0m\u001b[0;34m,\u001b[0m \u001b[0mpostcomputes\u001b[0m\u001b[0;34m)\u001b[0m\u001b[0;34m]\u001b[0m\u001b[0;34m)\u001b[0m\u001b[0;34m\u001b[0m\u001b[0;34m\u001b[0m\u001b[0m\n\u001b[1;32m    569\u001b[0m \u001b[0;34m\u001b[0m\u001b[0m\n",
      "\u001b[0;32m/opt/conda/lib/python3.7/site-packages/dask/threaded.py\u001b[0m in \u001b[0;36mget\u001b[0;34m(dsk, result, cache, num_workers, pool, **kwargs)\u001b[0m\n\u001b[1;32m     85\u001b[0m         \u001b[0mget_id\u001b[0m\u001b[0;34m=\u001b[0m\u001b[0m_thread_get_id\u001b[0m\u001b[0;34m,\u001b[0m\u001b[0;34m\u001b[0m\u001b[0;34m\u001b[0m\u001b[0m\n\u001b[1;32m     86\u001b[0m         \u001b[0mpack_exception\u001b[0m\u001b[0;34m=\u001b[0m\u001b[0mpack_exception\u001b[0m\u001b[0;34m,\u001b[0m\u001b[0;34m\u001b[0m\u001b[0;34m\u001b[0m\u001b[0m\n\u001b[0;32m---> 87\u001b[0;31m         \u001b[0;34m**\u001b[0m\u001b[0mkwargs\u001b[0m\u001b[0;34m\u001b[0m\u001b[0;34m\u001b[0m\u001b[0m\n\u001b[0m\u001b[1;32m     88\u001b[0m     )\n\u001b[1;32m     89\u001b[0m \u001b[0;34m\u001b[0m\u001b[0m\n",
      "\u001b[0;32m/opt/conda/lib/python3.7/site-packages/dask/local.py\u001b[0m in \u001b[0;36mget_async\u001b[0;34m(submit, num_workers, dsk, result, cache, get_id, rerun_exceptions_locally, pack_exception, raise_exception, callbacks, dumps, loads, chunksize, **kwargs)\u001b[0m\n\u001b[1;32m    512\u001b[0m                             \u001b[0m_execute_task\u001b[0m\u001b[0;34m(\u001b[0m\u001b[0mtask\u001b[0m\u001b[0;34m,\u001b[0m \u001b[0mdata\u001b[0m\u001b[0;34m)\u001b[0m  \u001b[0;31m# Re-execute locally\u001b[0m\u001b[0;34m\u001b[0m\u001b[0;34m\u001b[0m\u001b[0m\n\u001b[1;32m    513\u001b[0m                         \u001b[0;32melse\u001b[0m\u001b[0;34m:\u001b[0m\u001b[0;34m\u001b[0m\u001b[0;34m\u001b[0m\u001b[0m\n\u001b[0;32m--> 514\u001b[0;31m                             \u001b[0mraise_exception\u001b[0m\u001b[0;34m(\u001b[0m\u001b[0mexc\u001b[0m\u001b[0;34m,\u001b[0m \u001b[0mtb\u001b[0m\u001b[0;34m)\u001b[0m\u001b[0;34m\u001b[0m\u001b[0;34m\u001b[0m\u001b[0m\n\u001b[0m\u001b[1;32m    515\u001b[0m                     \u001b[0mres\u001b[0m\u001b[0;34m,\u001b[0m \u001b[0mworker_id\u001b[0m \u001b[0;34m=\u001b[0m \u001b[0mloads\u001b[0m\u001b[0;34m(\u001b[0m\u001b[0mres_info\u001b[0m\u001b[0;34m)\u001b[0m\u001b[0;34m\u001b[0m\u001b[0;34m\u001b[0m\u001b[0m\n\u001b[1;32m    516\u001b[0m                     \u001b[0mstate\u001b[0m\u001b[0;34m[\u001b[0m\u001b[0;34m\"cache\"\u001b[0m\u001b[0;34m]\u001b[0m\u001b[0;34m[\u001b[0m\u001b[0mkey\u001b[0m\u001b[0;34m]\u001b[0m \u001b[0;34m=\u001b[0m \u001b[0mres\u001b[0m\u001b[0;34m\u001b[0m\u001b[0;34m\u001b[0m\u001b[0m\n",
      "\u001b[0;32m/opt/conda/lib/python3.7/site-packages/dask/local.py\u001b[0m in \u001b[0;36mreraise\u001b[0;34m(exc, tb)\u001b[0m\n\u001b[1;32m    323\u001b[0m     \u001b[0;32mif\u001b[0m \u001b[0mexc\u001b[0m\u001b[0;34m.\u001b[0m\u001b[0m__traceback__\u001b[0m \u001b[0;32mis\u001b[0m \u001b[0;32mnot\u001b[0m \u001b[0mtb\u001b[0m\u001b[0;34m:\u001b[0m\u001b[0;34m\u001b[0m\u001b[0;34m\u001b[0m\u001b[0m\n\u001b[1;32m    324\u001b[0m         \u001b[0;32mraise\u001b[0m \u001b[0mexc\u001b[0m\u001b[0;34m.\u001b[0m\u001b[0mwith_traceback\u001b[0m\u001b[0;34m(\u001b[0m\u001b[0mtb\u001b[0m\u001b[0;34m)\u001b[0m\u001b[0;34m\u001b[0m\u001b[0;34m\u001b[0m\u001b[0m\n\u001b[0;32m--> 325\u001b[0;31m     \u001b[0;32mraise\u001b[0m \u001b[0mexc\u001b[0m\u001b[0;34m\u001b[0m\u001b[0;34m\u001b[0m\u001b[0m\n\u001b[0m\u001b[1;32m    326\u001b[0m \u001b[0;34m\u001b[0m\u001b[0m\n\u001b[1;32m    327\u001b[0m \u001b[0;34m\u001b[0m\u001b[0m\n",
      "\u001b[0;32m/opt/conda/lib/python3.7/site-packages/dask/local.py\u001b[0m in \u001b[0;36mexecute_task\u001b[0;34m(key, task_info, dumps, loads, get_id, pack_exception)\u001b[0m\n\u001b[1;32m    221\u001b[0m     \u001b[0;32mtry\u001b[0m\u001b[0;34m:\u001b[0m\u001b[0;34m\u001b[0m\u001b[0;34m\u001b[0m\u001b[0m\n\u001b[1;32m    222\u001b[0m         \u001b[0mtask\u001b[0m\u001b[0;34m,\u001b[0m \u001b[0mdata\u001b[0m \u001b[0;34m=\u001b[0m \u001b[0mloads\u001b[0m\u001b[0;34m(\u001b[0m\u001b[0mtask_info\u001b[0m\u001b[0;34m)\u001b[0m\u001b[0;34m\u001b[0m\u001b[0;34m\u001b[0m\u001b[0m\n\u001b[0;32m--> 223\u001b[0;31m         \u001b[0mresult\u001b[0m \u001b[0;34m=\u001b[0m \u001b[0m_execute_task\u001b[0m\u001b[0;34m(\u001b[0m\u001b[0mtask\u001b[0m\u001b[0;34m,\u001b[0m \u001b[0mdata\u001b[0m\u001b[0;34m)\u001b[0m\u001b[0;34m\u001b[0m\u001b[0;34m\u001b[0m\u001b[0m\n\u001b[0m\u001b[1;32m    224\u001b[0m         \u001b[0mid\u001b[0m \u001b[0;34m=\u001b[0m \u001b[0mget_id\u001b[0m\u001b[0;34m(\u001b[0m\u001b[0;34m)\u001b[0m\u001b[0;34m\u001b[0m\u001b[0;34m\u001b[0m\u001b[0m\n\u001b[1;32m    225\u001b[0m         \u001b[0mresult\u001b[0m \u001b[0;34m=\u001b[0m \u001b[0mdumps\u001b[0m\u001b[0;34m(\u001b[0m\u001b[0;34m(\u001b[0m\u001b[0mresult\u001b[0m\u001b[0;34m,\u001b[0m \u001b[0mid\u001b[0m\u001b[0;34m)\u001b[0m\u001b[0;34m)\u001b[0m\u001b[0;34m\u001b[0m\u001b[0;34m\u001b[0m\u001b[0m\n",
      "\u001b[0;32m/opt/conda/lib/python3.7/site-packages/dask/core.py\u001b[0m in \u001b[0;36m_execute_task\u001b[0;34m(arg, cache, dsk)\u001b[0m\n\u001b[1;32m    119\u001b[0m         \u001b[0;31m# temporaries by their reference count and can execute certain\u001b[0m\u001b[0;34m\u001b[0m\u001b[0;34m\u001b[0m\u001b[0;34m\u001b[0m\u001b[0m\n\u001b[1;32m    120\u001b[0m         \u001b[0;31m# operations in-place.\u001b[0m\u001b[0;34m\u001b[0m\u001b[0;34m\u001b[0m\u001b[0;34m\u001b[0m\u001b[0m\n\u001b[0;32m--> 121\u001b[0;31m         \u001b[0;32mreturn\u001b[0m \u001b[0mfunc\u001b[0m\u001b[0;34m(\u001b[0m\u001b[0;34m*\u001b[0m\u001b[0;34m(\u001b[0m\u001b[0m_execute_task\u001b[0m\u001b[0;34m(\u001b[0m\u001b[0ma\u001b[0m\u001b[0;34m,\u001b[0m \u001b[0mcache\u001b[0m\u001b[0;34m)\u001b[0m \u001b[0;32mfor\u001b[0m \u001b[0ma\u001b[0m \u001b[0;32min\u001b[0m \u001b[0margs\u001b[0m\u001b[0;34m)\u001b[0m\u001b[0;34m)\u001b[0m\u001b[0;34m\u001b[0m\u001b[0;34m\u001b[0m\u001b[0m\n\u001b[0m\u001b[1;32m    122\u001b[0m     \u001b[0;32melif\u001b[0m \u001b[0;32mnot\u001b[0m \u001b[0mishashable\u001b[0m\u001b[0;34m(\u001b[0m\u001b[0marg\u001b[0m\u001b[0;34m)\u001b[0m\u001b[0;34m:\u001b[0m\u001b[0;34m\u001b[0m\u001b[0;34m\u001b[0m\u001b[0m\n\u001b[1;32m    123\u001b[0m         \u001b[0;32mreturn\u001b[0m \u001b[0marg\u001b[0m\u001b[0;34m\u001b[0m\u001b[0;34m\u001b[0m\u001b[0m\n",
      "\u001b[0;32m/opt/conda/lib/python3.7/site-packages/dask/optimization.py\u001b[0m in \u001b[0;36m__call__\u001b[0;34m(self, *args)\u001b[0m\n\u001b[1;32m    964\u001b[0m         \u001b[0;32mif\u001b[0m \u001b[0;32mnot\u001b[0m \u001b[0mlen\u001b[0m\u001b[0;34m(\u001b[0m\u001b[0margs\u001b[0m\u001b[0;34m)\u001b[0m \u001b[0;34m==\u001b[0m \u001b[0mlen\u001b[0m\u001b[0;34m(\u001b[0m\u001b[0mself\u001b[0m\u001b[0;34m.\u001b[0m\u001b[0minkeys\u001b[0m\u001b[0;34m)\u001b[0m\u001b[0;34m:\u001b[0m\u001b[0;34m\u001b[0m\u001b[0;34m\u001b[0m\u001b[0m\n\u001b[1;32m    965\u001b[0m             \u001b[0;32mraise\u001b[0m \u001b[0mValueError\u001b[0m\u001b[0;34m(\u001b[0m\u001b[0;34m\"Expected %d args, got %d\"\u001b[0m \u001b[0;34m%\u001b[0m \u001b[0;34m(\u001b[0m\u001b[0mlen\u001b[0m\u001b[0;34m(\u001b[0m\u001b[0mself\u001b[0m\u001b[0;34m.\u001b[0m\u001b[0minkeys\u001b[0m\u001b[0;34m)\u001b[0m\u001b[0;34m,\u001b[0m \u001b[0mlen\u001b[0m\u001b[0;34m(\u001b[0m\u001b[0margs\u001b[0m\u001b[0;34m)\u001b[0m\u001b[0;34m)\u001b[0m\u001b[0;34m)\u001b[0m\u001b[0;34m\u001b[0m\u001b[0;34m\u001b[0m\u001b[0m\n\u001b[0;32m--> 966\u001b[0;31m         \u001b[0;32mreturn\u001b[0m \u001b[0mcore\u001b[0m\u001b[0;34m.\u001b[0m\u001b[0mget\u001b[0m\u001b[0;34m(\u001b[0m\u001b[0mself\u001b[0m\u001b[0;34m.\u001b[0m\u001b[0mdsk\u001b[0m\u001b[0;34m,\u001b[0m \u001b[0mself\u001b[0m\u001b[0;34m.\u001b[0m\u001b[0moutkey\u001b[0m\u001b[0;34m,\u001b[0m \u001b[0mdict\u001b[0m\u001b[0;34m(\u001b[0m\u001b[0mzip\u001b[0m\u001b[0;34m(\u001b[0m\u001b[0mself\u001b[0m\u001b[0;34m.\u001b[0m\u001b[0minkeys\u001b[0m\u001b[0;34m,\u001b[0m \u001b[0margs\u001b[0m\u001b[0;34m)\u001b[0m\u001b[0;34m)\u001b[0m\u001b[0;34m)\u001b[0m\u001b[0;34m\u001b[0m\u001b[0;34m\u001b[0m\u001b[0m\n\u001b[0m\u001b[1;32m    967\u001b[0m \u001b[0;34m\u001b[0m\u001b[0m\n\u001b[1;32m    968\u001b[0m     \u001b[0;32mdef\u001b[0m \u001b[0m__reduce__\u001b[0m\u001b[0;34m(\u001b[0m\u001b[0mself\u001b[0m\u001b[0;34m)\u001b[0m\u001b[0;34m:\u001b[0m\u001b[0;34m\u001b[0m\u001b[0;34m\u001b[0m\u001b[0m\n",
      "\u001b[0;32m/opt/conda/lib/python3.7/site-packages/dask/core.py\u001b[0m in \u001b[0;36mget\u001b[0;34m(dsk, out, cache)\u001b[0m\n\u001b[1;32m    149\u001b[0m     \u001b[0;32mfor\u001b[0m \u001b[0mkey\u001b[0m \u001b[0;32min\u001b[0m \u001b[0mtoposort\u001b[0m\u001b[0;34m(\u001b[0m\u001b[0mdsk\u001b[0m\u001b[0;34m)\u001b[0m\u001b[0;34m:\u001b[0m\u001b[0;34m\u001b[0m\u001b[0;34m\u001b[0m\u001b[0m\n\u001b[1;32m    150\u001b[0m         \u001b[0mtask\u001b[0m \u001b[0;34m=\u001b[0m \u001b[0mdsk\u001b[0m\u001b[0;34m[\u001b[0m\u001b[0mkey\u001b[0m\u001b[0;34m]\u001b[0m\u001b[0;34m\u001b[0m\u001b[0;34m\u001b[0m\u001b[0m\n\u001b[0;32m--> 151\u001b[0;31m         \u001b[0mresult\u001b[0m \u001b[0;34m=\u001b[0m \u001b[0m_execute_task\u001b[0m\u001b[0;34m(\u001b[0m\u001b[0mtask\u001b[0m\u001b[0;34m,\u001b[0m \u001b[0mcache\u001b[0m\u001b[0;34m)\u001b[0m\u001b[0;34m\u001b[0m\u001b[0;34m\u001b[0m\u001b[0m\n\u001b[0m\u001b[1;32m    152\u001b[0m         \u001b[0mcache\u001b[0m\u001b[0;34m[\u001b[0m\u001b[0mkey\u001b[0m\u001b[0;34m]\u001b[0m \u001b[0;34m=\u001b[0m \u001b[0mresult\u001b[0m\u001b[0;34m\u001b[0m\u001b[0;34m\u001b[0m\u001b[0m\n\u001b[1;32m    153\u001b[0m     \u001b[0mresult\u001b[0m \u001b[0;34m=\u001b[0m \u001b[0m_execute_task\u001b[0m\u001b[0;34m(\u001b[0m\u001b[0mout\u001b[0m\u001b[0;34m,\u001b[0m \u001b[0mcache\u001b[0m\u001b[0;34m)\u001b[0m\u001b[0;34m\u001b[0m\u001b[0;34m\u001b[0m\u001b[0m\n",
      "\u001b[0;32m/opt/conda/lib/python3.7/site-packages/dask/core.py\u001b[0m in \u001b[0;36m_execute_task\u001b[0;34m(arg, cache, dsk)\u001b[0m\n\u001b[1;32m    119\u001b[0m         \u001b[0;31m# temporaries by their reference count and can execute certain\u001b[0m\u001b[0;34m\u001b[0m\u001b[0;34m\u001b[0m\u001b[0;34m\u001b[0m\u001b[0m\n\u001b[1;32m    120\u001b[0m         \u001b[0;31m# operations in-place.\u001b[0m\u001b[0;34m\u001b[0m\u001b[0;34m\u001b[0m\u001b[0;34m\u001b[0m\u001b[0m\n\u001b[0;32m--> 121\u001b[0;31m         \u001b[0;32mreturn\u001b[0m \u001b[0mfunc\u001b[0m\u001b[0;34m(\u001b[0m\u001b[0;34m*\u001b[0m\u001b[0;34m(\u001b[0m\u001b[0m_execute_task\u001b[0m\u001b[0;34m(\u001b[0m\u001b[0ma\u001b[0m\u001b[0;34m,\u001b[0m \u001b[0mcache\u001b[0m\u001b[0;34m)\u001b[0m \u001b[0;32mfor\u001b[0m \u001b[0ma\u001b[0m \u001b[0;32min\u001b[0m \u001b[0margs\u001b[0m\u001b[0;34m)\u001b[0m\u001b[0;34m)\u001b[0m\u001b[0;34m\u001b[0m\u001b[0;34m\u001b[0m\u001b[0m\n\u001b[0m\u001b[1;32m    122\u001b[0m     \u001b[0;32melif\u001b[0m \u001b[0;32mnot\u001b[0m \u001b[0mishashable\u001b[0m\u001b[0;34m(\u001b[0m\u001b[0marg\u001b[0m\u001b[0;34m)\u001b[0m\u001b[0;34m:\u001b[0m\u001b[0;34m\u001b[0m\u001b[0;34m\u001b[0m\u001b[0m\n\u001b[1;32m    123\u001b[0m         \u001b[0;32mreturn\u001b[0m \u001b[0marg\u001b[0m\u001b[0;34m\u001b[0m\u001b[0;34m\u001b[0m\u001b[0m\n",
      "\u001b[0;32m/opt/conda/lib/python3.7/site-packages/dask/dataframe/methods.py\u001b[0m in \u001b[0;36massign\u001b[0;34m(df, *pairs)\u001b[0m\n\u001b[1;32m    307\u001b[0m     \u001b[0mdf\u001b[0m \u001b[0;34m=\u001b[0m \u001b[0mdf\u001b[0m\u001b[0;34m.\u001b[0m\u001b[0mcopy\u001b[0m\u001b[0;34m(\u001b[0m\u001b[0mdeep\u001b[0m\u001b[0;34m=\u001b[0m\u001b[0mbool\u001b[0m\u001b[0;34m(\u001b[0m\u001b[0mdeep\u001b[0m\u001b[0;34m)\u001b[0m\u001b[0;34m)\u001b[0m\u001b[0;34m\u001b[0m\u001b[0;34m\u001b[0m\u001b[0m\n\u001b[1;32m    308\u001b[0m     \u001b[0;32mfor\u001b[0m \u001b[0mname\u001b[0m\u001b[0;34m,\u001b[0m \u001b[0mval\u001b[0m \u001b[0;32min\u001b[0m \u001b[0mpairs\u001b[0m\u001b[0;34m.\u001b[0m\u001b[0mitems\u001b[0m\u001b[0;34m(\u001b[0m\u001b[0;34m)\u001b[0m\u001b[0;34m:\u001b[0m\u001b[0;34m\u001b[0m\u001b[0;34m\u001b[0m\u001b[0m\n\u001b[0;32m--> 309\u001b[0;31m         \u001b[0mdf\u001b[0m\u001b[0;34m[\u001b[0m\u001b[0mname\u001b[0m\u001b[0;34m]\u001b[0m \u001b[0;34m=\u001b[0m \u001b[0mval\u001b[0m\u001b[0;34m\u001b[0m\u001b[0;34m\u001b[0m\u001b[0m\n\u001b[0m\u001b[1;32m    310\u001b[0m     \u001b[0;32mreturn\u001b[0m \u001b[0mdf\u001b[0m\u001b[0;34m\u001b[0m\u001b[0;34m\u001b[0m\u001b[0m\n\u001b[1;32m    311\u001b[0m \u001b[0;34m\u001b[0m\u001b[0m\n",
      "\u001b[0;32m/opt/conda/lib/python3.7/site-packages/pandas/core/frame.py\u001b[0m in \u001b[0;36m__setitem__\u001b[0;34m(self, key, value)\u001b[0m\n\u001b[1;32m   3161\u001b[0m         \u001b[0;32melse\u001b[0m\u001b[0;34m:\u001b[0m\u001b[0;34m\u001b[0m\u001b[0;34m\u001b[0m\u001b[0m\n\u001b[1;32m   3162\u001b[0m             \u001b[0;31m# set column\u001b[0m\u001b[0;34m\u001b[0m\u001b[0;34m\u001b[0m\u001b[0;34m\u001b[0m\u001b[0m\n\u001b[0;32m-> 3163\u001b[0;31m             \u001b[0mself\u001b[0m\u001b[0;34m.\u001b[0m\u001b[0m_set_item\u001b[0m\u001b[0;34m(\u001b[0m\u001b[0mkey\u001b[0m\u001b[0;34m,\u001b[0m \u001b[0mvalue\u001b[0m\u001b[0;34m)\u001b[0m\u001b[0;34m\u001b[0m\u001b[0;34m\u001b[0m\u001b[0m\n\u001b[0m\u001b[1;32m   3164\u001b[0m \u001b[0;34m\u001b[0m\u001b[0m\n\u001b[1;32m   3165\u001b[0m     \u001b[0;32mdef\u001b[0m \u001b[0m_setitem_slice\u001b[0m\u001b[0;34m(\u001b[0m\u001b[0mself\u001b[0m\u001b[0;34m,\u001b[0m \u001b[0mkey\u001b[0m\u001b[0;34m:\u001b[0m \u001b[0mslice\u001b[0m\u001b[0;34m,\u001b[0m \u001b[0mvalue\u001b[0m\u001b[0;34m)\u001b[0m\u001b[0;34m:\u001b[0m\u001b[0;34m\u001b[0m\u001b[0;34m\u001b[0m\u001b[0m\n",
      "\u001b[0;32m/opt/conda/lib/python3.7/site-packages/pandas/core/frame.py\u001b[0m in \u001b[0;36m_set_item\u001b[0;34m(self, key, value)\u001b[0m\n\u001b[1;32m   3240\u001b[0m         \"\"\"\n\u001b[1;32m   3241\u001b[0m         \u001b[0mself\u001b[0m\u001b[0;34m.\u001b[0m\u001b[0m_ensure_valid_index\u001b[0m\u001b[0;34m(\u001b[0m\u001b[0mvalue\u001b[0m\u001b[0;34m)\u001b[0m\u001b[0;34m\u001b[0m\u001b[0;34m\u001b[0m\u001b[0m\n\u001b[0;32m-> 3242\u001b[0;31m         \u001b[0mvalue\u001b[0m \u001b[0;34m=\u001b[0m \u001b[0mself\u001b[0m\u001b[0;34m.\u001b[0m\u001b[0m_sanitize_column\u001b[0m\u001b[0;34m(\u001b[0m\u001b[0mkey\u001b[0m\u001b[0;34m,\u001b[0m \u001b[0mvalue\u001b[0m\u001b[0;34m)\u001b[0m\u001b[0;34m\u001b[0m\u001b[0;34m\u001b[0m\u001b[0m\n\u001b[0m\u001b[1;32m   3243\u001b[0m         \u001b[0mNDFrame\u001b[0m\u001b[0;34m.\u001b[0m\u001b[0m_set_item\u001b[0m\u001b[0;34m(\u001b[0m\u001b[0mself\u001b[0m\u001b[0;34m,\u001b[0m \u001b[0mkey\u001b[0m\u001b[0;34m,\u001b[0m \u001b[0mvalue\u001b[0m\u001b[0;34m)\u001b[0m\u001b[0;34m\u001b[0m\u001b[0;34m\u001b[0m\u001b[0m\n\u001b[1;32m   3244\u001b[0m \u001b[0;34m\u001b[0m\u001b[0m\n",
      "\u001b[0;32m/opt/conda/lib/python3.7/site-packages/pandas/core/frame.py\u001b[0m in \u001b[0;36m_sanitize_column\u001b[0;34m(self, key, value, broadcast)\u001b[0m\n\u001b[1;32m   3897\u001b[0m \u001b[0;34m\u001b[0m\u001b[0m\n\u001b[1;32m   3898\u001b[0m             \u001b[0;31m# turn me into an ndarray\u001b[0m\u001b[0;34m\u001b[0m\u001b[0;34m\u001b[0m\u001b[0;34m\u001b[0m\u001b[0m\n\u001b[0;32m-> 3899\u001b[0;31m             \u001b[0mvalue\u001b[0m \u001b[0;34m=\u001b[0m \u001b[0msanitize_index\u001b[0m\u001b[0;34m(\u001b[0m\u001b[0mvalue\u001b[0m\u001b[0;34m,\u001b[0m \u001b[0mself\u001b[0m\u001b[0;34m.\u001b[0m\u001b[0mindex\u001b[0m\u001b[0;34m)\u001b[0m\u001b[0;34m\u001b[0m\u001b[0;34m\u001b[0m\u001b[0m\n\u001b[0m\u001b[1;32m   3900\u001b[0m             \u001b[0;32mif\u001b[0m \u001b[0;32mnot\u001b[0m \u001b[0misinstance\u001b[0m\u001b[0;34m(\u001b[0m\u001b[0mvalue\u001b[0m\u001b[0;34m,\u001b[0m \u001b[0;34m(\u001b[0m\u001b[0mnp\u001b[0m\u001b[0;34m.\u001b[0m\u001b[0mndarray\u001b[0m\u001b[0;34m,\u001b[0m \u001b[0mIndex\u001b[0m\u001b[0;34m)\u001b[0m\u001b[0;34m)\u001b[0m\u001b[0;34m:\u001b[0m\u001b[0;34m\u001b[0m\u001b[0;34m\u001b[0m\u001b[0m\n\u001b[1;32m   3901\u001b[0m                 \u001b[0;32mif\u001b[0m \u001b[0misinstance\u001b[0m\u001b[0;34m(\u001b[0m\u001b[0mvalue\u001b[0m\u001b[0;34m,\u001b[0m \u001b[0mlist\u001b[0m\u001b[0;34m)\u001b[0m \u001b[0;32mand\u001b[0m \u001b[0mlen\u001b[0m\u001b[0;34m(\u001b[0m\u001b[0mvalue\u001b[0m\u001b[0;34m)\u001b[0m \u001b[0;34m>\u001b[0m \u001b[0;36m0\u001b[0m\u001b[0;34m:\u001b[0m\u001b[0;34m\u001b[0m\u001b[0;34m\u001b[0m\u001b[0m\n",
      "\u001b[0;32m/opt/conda/lib/python3.7/site-packages/pandas/core/internals/construction.py\u001b[0m in \u001b[0;36msanitize_index\u001b[0;34m(data, index)\u001b[0m\n\u001b[1;32m    750\u001b[0m     \u001b[0;32mif\u001b[0m \u001b[0mlen\u001b[0m\u001b[0;34m(\u001b[0m\u001b[0mdata\u001b[0m\u001b[0;34m)\u001b[0m \u001b[0;34m!=\u001b[0m \u001b[0mlen\u001b[0m\u001b[0;34m(\u001b[0m\u001b[0mindex\u001b[0m\u001b[0;34m)\u001b[0m\u001b[0;34m:\u001b[0m\u001b[0;34m\u001b[0m\u001b[0;34m\u001b[0m\u001b[0m\n\u001b[1;32m    751\u001b[0m         raise ValueError(\n\u001b[0;32m--> 752\u001b[0;31m             \u001b[0;34m\"Length of values \"\u001b[0m\u001b[0;34m\u001b[0m\u001b[0;34m\u001b[0m\u001b[0m\n\u001b[0m\u001b[1;32m    753\u001b[0m             \u001b[0;34mf\"({len(data)}) \"\u001b[0m\u001b[0;34m\u001b[0m\u001b[0;34m\u001b[0m\u001b[0m\n\u001b[1;32m    754\u001b[0m             \u001b[0;34m\"does not match length of index \"\u001b[0m\u001b[0;34m\u001b[0m\u001b[0;34m\u001b[0m\u001b[0m\n",
      "\u001b[0;31mValueError\u001b[0m: Length of values (8439672) does not match length of index (361954)"
     ]
    }
   ],
   "source": [
    "ddf_posts.tail()"
   ]
  },
  {
   "cell_type": "markdown",
   "id": "0f5e0ffa",
   "metadata": {},
   "source": [
    "Try using a `mask` instead of `np.where` or `da.where`"
   ]
  },
  {
   "cell_type": "code",
   "execution_count": 137,
   "id": "67fd3474",
   "metadata": {},
   "outputs": [
    {
     "ename": "ValueError",
     "evalue": "Number of partitions do not match (1 != 27)",
     "output_type": "error",
     "traceback": [
      "\u001b[0;31m---------------------------------------------------------------------------\u001b[0m",
      "\u001b[0;31mValueError\u001b[0m                                Traceback (most recent call last)",
      "\u001b[0;32m<timed eval>\u001b[0m in \u001b[0;36m<module>\u001b[0;34m\u001b[0m\n",
      "\u001b[0;32m/opt/conda/lib/python3.7/site-packages/dask/dataframe/core.py\u001b[0m in \u001b[0;36massign\u001b[0;34m(self, **kwargs)\u001b[0m\n\u001b[1;32m   4252\u001b[0m                     raise ValueError(\n\u001b[1;32m   4253\u001b[0m                         \"Number of partitions do not match ({0} != {1})\".format(\n\u001b[0;32m-> 4254\u001b[0;31m                             \u001b[0mv\u001b[0m\u001b[0;34m.\u001b[0m\u001b[0mnpartitions\u001b[0m\u001b[0;34m,\u001b[0m \u001b[0mself\u001b[0m\u001b[0;34m.\u001b[0m\u001b[0mnpartitions\u001b[0m\u001b[0;34m\u001b[0m\u001b[0;34m\u001b[0m\u001b[0m\n\u001b[0m\u001b[1;32m   4255\u001b[0m                         )\n\u001b[1;32m   4256\u001b[0m                     )\n",
      "\u001b[0;31mValueError\u001b[0m: Number of partitions do not match (1 != 27)"
     ]
    }
   ],
   "source": [
    "%%time\n",
    "\n",
    "ddf_posts['test_col_'] = (\n",
    "    ddf_posts['subreddit_name'] == 'memesenespanol', 'yay', 'nay')\n",
    ")"
   ]
  },
  {
   "cell_type": "code",
   "execution_count": null,
   "id": "3110c03a",
   "metadata": {},
   "outputs": [],
   "source": []
  },
  {
   "cell_type": "code",
   "execution_count": null,
   "id": "8a1ebb70",
   "metadata": {},
   "outputs": [],
   "source": []
  },
  {
   "cell_type": "code",
   "execution_count": null,
   "id": "a519cb85",
   "metadata": {},
   "outputs": [],
   "source": []
  },
  {
   "cell_type": "markdown",
   "id": "faef6ab4",
   "metadata": {},
   "source": [
    "# Other generic stats"
   ]
  },
  {
   "cell_type": "code",
   "execution_count": 18,
   "id": "edb5958b",
   "metadata": {},
   "outputs": [
    {
     "data": {
      "text/html": [
       "<style  type=\"text/css\" >\n",
       "#T_55dc9_row0_col1,#T_55dc9_row24_col2{\n",
       "            width:  10em;\n",
       "             height:  80%;\n",
       "            background:  linear-gradient(90deg,#95cff5 100.0%, transparent 100.0%);\n",
       "        }#T_55dc9_row0_col2,#T_55dc9_row24_col1{\n",
       "            width:  10em;\n",
       "             height:  80%;\n",
       "        }#T_55dc9_row1_col1{\n",
       "            width:  10em;\n",
       "             height:  80%;\n",
       "            background:  linear-gradient(90deg,#95cff5 6.4%, transparent 6.4%);\n",
       "        }#T_55dc9_row1_col2{\n",
       "            width:  10em;\n",
       "             height:  80%;\n",
       "            background:  linear-gradient(90deg,#95cff5 23.7%, transparent 23.7%);\n",
       "        }#T_55dc9_row2_col1{\n",
       "            width:  10em;\n",
       "             height:  80%;\n",
       "            background:  linear-gradient(90deg,#95cff5 5.2%, transparent 5.2%);\n",
       "        }#T_55dc9_row2_col2{\n",
       "            width:  10em;\n",
       "             height:  80%;\n",
       "            background:  linear-gradient(90deg,#95cff5 42.9%, transparent 42.9%);\n",
       "        }#T_55dc9_row3_col1,#T_55dc9_row4_col1{\n",
       "            width:  10em;\n",
       "             height:  80%;\n",
       "            background:  linear-gradient(90deg,#95cff5 2.6%, transparent 2.6%);\n",
       "        }#T_55dc9_row3_col2{\n",
       "            width:  10em;\n",
       "             height:  80%;\n",
       "            background:  linear-gradient(90deg,#95cff5 52.7%, transparent 52.7%);\n",
       "        }#T_55dc9_row4_col2{\n",
       "            width:  10em;\n",
       "             height:  80%;\n",
       "            background:  linear-gradient(90deg,#95cff5 62.2%, transparent 62.2%);\n",
       "        }#T_55dc9_row5_col1{\n",
       "            width:  10em;\n",
       "             height:  80%;\n",
       "            background:  linear-gradient(90deg,#95cff5 2.5%, transparent 2.5%);\n",
       "        }#T_55dc9_row5_col2{\n",
       "            width:  10em;\n",
       "             height:  80%;\n",
       "            background:  linear-gradient(90deg,#95cff5 71.5%, transparent 71.5%);\n",
       "        }#T_55dc9_row6_col1{\n",
       "            width:  10em;\n",
       "             height:  80%;\n",
       "            background:  linear-gradient(90deg,#95cff5 1.5%, transparent 1.5%);\n",
       "        }#T_55dc9_row6_col2{\n",
       "            width:  10em;\n",
       "             height:  80%;\n",
       "            background:  linear-gradient(90deg,#95cff5 77.3%, transparent 77.3%);\n",
       "        }#T_55dc9_row7_col1{\n",
       "            width:  10em;\n",
       "             height:  80%;\n",
       "            background:  linear-gradient(90deg,#95cff5 1.4%, transparent 1.4%);\n",
       "        }#T_55dc9_row7_col2{\n",
       "            width:  10em;\n",
       "             height:  80%;\n",
       "            background:  linear-gradient(90deg,#95cff5 82.5%, transparent 82.5%);\n",
       "        }#T_55dc9_row8_col1{\n",
       "            width:  10em;\n",
       "             height:  80%;\n",
       "            background:  linear-gradient(90deg,#95cff5 1.1%, transparent 1.1%);\n",
       "        }#T_55dc9_row8_col2{\n",
       "            width:  10em;\n",
       "             height:  80%;\n",
       "            background:  linear-gradient(90deg,#95cff5 86.8%, transparent 86.8%);\n",
       "        }#T_55dc9_row9_col1{\n",
       "            width:  10em;\n",
       "             height:  80%;\n",
       "            background:  linear-gradient(90deg,#95cff5 0.6%, transparent 0.6%);\n",
       "        }#T_55dc9_row9_col2{\n",
       "            width:  10em;\n",
       "             height:  80%;\n",
       "            background:  linear-gradient(90deg,#95cff5 89.3%, transparent 89.3%);\n",
       "        }#T_55dc9_row10_col1{\n",
       "            width:  10em;\n",
       "             height:  80%;\n",
       "            background:  linear-gradient(90deg,#95cff5 0.5%, transparent 0.5%);\n",
       "        }#T_55dc9_row10_col2{\n",
       "            width:  10em;\n",
       "             height:  80%;\n",
       "            background:  linear-gradient(90deg,#95cff5 91.4%, transparent 91.4%);\n",
       "        }#T_55dc9_row11_col1,#T_55dc9_row12_col1{\n",
       "            width:  10em;\n",
       "             height:  80%;\n",
       "            background:  linear-gradient(90deg,#95cff5 0.4%, transparent 0.4%);\n",
       "        }#T_55dc9_row11_col2{\n",
       "            width:  10em;\n",
       "             height:  80%;\n",
       "            background:  linear-gradient(90deg,#95cff5 93.2%, transparent 93.2%);\n",
       "        }#T_55dc9_row12_col2{\n",
       "            width:  10em;\n",
       "             height:  80%;\n",
       "            background:  linear-gradient(90deg,#95cff5 94.8%, transparent 94.8%);\n",
       "        }#T_55dc9_row13_col1,#T_55dc9_row14_col1,#T_55dc9_row15_col1,#T_55dc9_row16_col1,#T_55dc9_row17_col1,#T_55dc9_row18_col1,#T_55dc9_row19_col1{\n",
       "            width:  10em;\n",
       "             height:  80%;\n",
       "            background:  linear-gradient(90deg,#95cff5 0.1%, transparent 0.1%);\n",
       "        }#T_55dc9_row13_col2{\n",
       "            width:  10em;\n",
       "             height:  80%;\n",
       "            background:  linear-gradient(90deg,#95cff5 95.5%, transparent 95.5%);\n",
       "        }#T_55dc9_row14_col2{\n",
       "            width:  10em;\n",
       "             height:  80%;\n",
       "            background:  linear-gradient(90deg,#95cff5 96.2%, transparent 96.2%);\n",
       "        }#T_55dc9_row15_col2{\n",
       "            width:  10em;\n",
       "             height:  80%;\n",
       "            background:  linear-gradient(90deg,#95cff5 96.8%, transparent 96.8%);\n",
       "        }#T_55dc9_row16_col2{\n",
       "            width:  10em;\n",
       "             height:  80%;\n",
       "            background:  linear-gradient(90deg,#95cff5 97.3%, transparent 97.3%);\n",
       "        }#T_55dc9_row17_col2{\n",
       "            width:  10em;\n",
       "             height:  80%;\n",
       "            background:  linear-gradient(90deg,#95cff5 97.8%, transparent 97.8%);\n",
       "        }#T_55dc9_row18_col2{\n",
       "            width:  10em;\n",
       "             height:  80%;\n",
       "            background:  linear-gradient(90deg,#95cff5 98.3%, transparent 98.3%);\n",
       "        }#T_55dc9_row19_col2{\n",
       "            width:  10em;\n",
       "             height:  80%;\n",
       "            background:  linear-gradient(90deg,#95cff5 98.7%, transparent 98.7%);\n",
       "        }#T_55dc9_row20_col1,#T_55dc9_row21_col1,#T_55dc9_row22_col1,#T_55dc9_row23_col1{\n",
       "            width:  10em;\n",
       "             height:  80%;\n",
       "            background:  linear-gradient(90deg,#95cff5 0.0%, transparent 0.0%);\n",
       "        }#T_55dc9_row20_col2{\n",
       "            width:  10em;\n",
       "             height:  80%;\n",
       "            background:  linear-gradient(90deg,#95cff5 99.0%, transparent 99.0%);\n",
       "        }#T_55dc9_row21_col2{\n",
       "            width:  10em;\n",
       "             height:  80%;\n",
       "            background:  linear-gradient(90deg,#95cff5 99.4%, transparent 99.4%);\n",
       "        }#T_55dc9_row22_col2{\n",
       "            width:  10em;\n",
       "             height:  80%;\n",
       "            background:  linear-gradient(90deg,#95cff5 99.6%, transparent 99.6%);\n",
       "        }#T_55dc9_row23_col2{\n",
       "            width:  10em;\n",
       "             height:  80%;\n",
       "            background:  linear-gradient(90deg,#95cff5 99.8%, transparent 99.8%);\n",
       "        }</style><table id=\"T_55dc9_\" ><thead>    <tr>        <th class=\"blank level0\" ></th>        <th class=\"col_heading level0 col0\" >geo_relevant_countries-count</th>        <th class=\"col_heading level0 col1\" >geo_relevant_countries-percent</th>        <th class=\"col_heading level0 col2\" >geo_relevant_countries-pct_cumulative_sum</th>    </tr></thead><tbody>\n",
       "                <tr>\n",
       "                        <th id=\"T_55dc9_level0_row0\" class=\"row_heading level0 row0\" >nan</th>\n",
       "                        <td id=\"T_55dc9_row0_col0\" class=\"data row0 col0\" >15,050</td>\n",
       "                        <td id=\"T_55dc9_row0_col1\" class=\"data row0 col1\" >78.1%</td>\n",
       "                        <td id=\"T_55dc9_row0_col2\" class=\"data row0 col2\" >78.1%</td>\n",
       "            </tr>\n",
       "            <tr>\n",
       "                        <th id=\"T_55dc9_level0_row1\" class=\"row_heading level0 row1\" >India</th>\n",
       "                        <td id=\"T_55dc9_row1_col0\" class=\"data row1 col0\" >970</td>\n",
       "                        <td id=\"T_55dc9_row1_col1\" class=\"data row1 col1\" >5.0%</td>\n",
       "                        <td id=\"T_55dc9_row1_col2\" class=\"data row1 col2\" >83.2%</td>\n",
       "            </tr>\n",
       "            <tr>\n",
       "                        <th id=\"T_55dc9_level0_row2\" class=\"row_heading level0 row2\" >Germany</th>\n",
       "                        <td id=\"T_55dc9_row2_col0\" class=\"data row2 col0\" >787</td>\n",
       "                        <td id=\"T_55dc9_row2_col1\" class=\"data row2 col1\" >4.1%</td>\n",
       "                        <td id=\"T_55dc9_row2_col2\" class=\"data row2 col2\" >87.3%</td>\n",
       "            </tr>\n",
       "            <tr>\n",
       "                        <th id=\"T_55dc9_level0_row3\" class=\"row_heading level0 row3\" >Mexico</th>\n",
       "                        <td id=\"T_55dc9_row3_col0\" class=\"data row3 col0\" >400</td>\n",
       "                        <td id=\"T_55dc9_row3_col1\" class=\"data row3 col1\" >2.1%</td>\n",
       "                        <td id=\"T_55dc9_row3_col2\" class=\"data row3 col2\" >89.3%</td>\n",
       "            </tr>\n",
       "            <tr>\n",
       "                        <th id=\"T_55dc9_level0_row4\" class=\"row_heading level0 row4\" >United Kingdom</th>\n",
       "                        <td id=\"T_55dc9_row4_col0\" class=\"data row4 col0\" >392</td>\n",
       "                        <td id=\"T_55dc9_row4_col1\" class=\"data row4 col1\" >2.0%</td>\n",
       "                        <td id=\"T_55dc9_row4_col2\" class=\"data row4 col2\" >91.4%</td>\n",
       "            </tr>\n",
       "            <tr>\n",
       "                        <th id=\"T_55dc9_level0_row5\" class=\"row_heading level0 row5\" >Brazil</th>\n",
       "                        <td id=\"T_55dc9_row5_col0\" class=\"data row5 col0\" >381</td>\n",
       "                        <td id=\"T_55dc9_row5_col1\" class=\"data row5 col1\" >2.0%</td>\n",
       "                        <td id=\"T_55dc9_row5_col2\" class=\"data row5 col2\" >93.3%</td>\n",
       "            </tr>\n",
       "            <tr>\n",
       "                        <th id=\"T_55dc9_level0_row6\" class=\"row_heading level0 row6\" >Canada</th>\n",
       "                        <td id=\"T_55dc9_row6_col0\" class=\"data row6 col0\" >235</td>\n",
       "                        <td id=\"T_55dc9_row6_col1\" class=\"data row6 col1\" >1.2%</td>\n",
       "                        <td id=\"T_55dc9_row6_col2\" class=\"data row6 col2\" >94.6%</td>\n",
       "            </tr>\n",
       "            <tr>\n",
       "                        <th id=\"T_55dc9_level0_row7\" class=\"row_heading level0 row7\" >France</th>\n",
       "                        <td id=\"T_55dc9_row7_col0\" class=\"data row7 col0\" >213</td>\n",
       "                        <td id=\"T_55dc9_row7_col1\" class=\"data row7 col1\" >1.1%</td>\n",
       "                        <td id=\"T_55dc9_row7_col2\" class=\"data row7 col2\" >95.7%</td>\n",
       "            </tr>\n",
       "            <tr>\n",
       "                        <th id=\"T_55dc9_level0_row8\" class=\"row_heading level0 row8\" >Italy</th>\n",
       "                        <td id=\"T_55dc9_row8_col0\" class=\"data row8 col0\" >178</td>\n",
       "                        <td id=\"T_55dc9_row8_col1\" class=\"data row8 col1\" >0.9%</td>\n",
       "                        <td id=\"T_55dc9_row8_col2\" class=\"data row8 col2\" >96.6%</td>\n",
       "            </tr>\n",
       "            <tr>\n",
       "                        <th id=\"T_55dc9_level0_row9\" class=\"row_heading level0 row9\" >Spain</th>\n",
       "                        <td id=\"T_55dc9_row9_col0\" class=\"data row9 col0\" >100</td>\n",
       "                        <td id=\"T_55dc9_row9_col1\" class=\"data row9 col1\" >0.5%</td>\n",
       "                        <td id=\"T_55dc9_row9_col2\" class=\"data row9 col2\" >97.1%</td>\n",
       "            </tr>\n",
       "            <tr>\n",
       "                        <th id=\"T_55dc9_level0_row10\" class=\"row_heading level0 row10\" >Argentina</th>\n",
       "                        <td id=\"T_55dc9_row10_col0\" class=\"data row10 col0\" >86</td>\n",
       "                        <td id=\"T_55dc9_row10_col1\" class=\"data row10 col1\" >0.4%</td>\n",
       "                        <td id=\"T_55dc9_row10_col2\" class=\"data row10 col2\" >97.6%</td>\n",
       "            </tr>\n",
       "            <tr>\n",
       "                        <th id=\"T_55dc9_level0_row11\" class=\"row_heading level0 row11\" >Australia</th>\n",
       "                        <td id=\"T_55dc9_row11_col0\" class=\"data row11 col0\" >74</td>\n",
       "                        <td id=\"T_55dc9_row11_col1\" class=\"data row11 col1\" >0.4%</td>\n",
       "                        <td id=\"T_55dc9_row11_col2\" class=\"data row11 col2\" >97.9%</td>\n",
       "            </tr>\n",
       "            <tr>\n",
       "                        <th id=\"T_55dc9_level0_row12\" class=\"row_heading level0 row12\" >Portugal</th>\n",
       "                        <td id=\"T_55dc9_row12_col0\" class=\"data row12 col0\" >65</td>\n",
       "                        <td id=\"T_55dc9_row12_col1\" class=\"data row12 col1\" >0.3%</td>\n",
       "                        <td id=\"T_55dc9_row12_col2\" class=\"data row12 col2\" >98.3%</td>\n",
       "            </tr>\n",
       "            <tr>\n",
       "                        <th id=\"T_55dc9_level0_row13\" class=\"row_heading level0 row13\" >Mexico, Spain</th>\n",
       "                        <td id=\"T_55dc9_row13_col0\" class=\"data row13 col0\" >30</td>\n",
       "                        <td id=\"T_55dc9_row13_col1\" class=\"data row13 col1\" >0.2%</td>\n",
       "                        <td id=\"T_55dc9_row13_col2\" class=\"data row13 col2\" >98.4%</td>\n",
       "            </tr>\n",
       "            <tr>\n",
       "                        <th id=\"T_55dc9_level0_row14\" class=\"row_heading level0 row14\" >Chile</th>\n",
       "                        <td id=\"T_55dc9_row14_col0\" class=\"data row14 col0\" >28</td>\n",
       "                        <td id=\"T_55dc9_row14_col1\" class=\"data row14 col1\" >0.1%</td>\n",
       "                        <td id=\"T_55dc9_row14_col2\" class=\"data row14 col2\" >98.6%</td>\n",
       "            </tr>\n",
       "            <tr>\n",
       "                        <th id=\"T_55dc9_level0_row15\" class=\"row_heading level0 row15\" >Colombia</th>\n",
       "                        <td id=\"T_55dc9_row15_col0\" class=\"data row15 col0\" >24</td>\n",
       "                        <td id=\"T_55dc9_row15_col1\" class=\"data row15 col1\" >0.1%</td>\n",
       "                        <td id=\"T_55dc9_row15_col2\" class=\"data row15 col2\" >98.7%</td>\n",
       "            </tr>\n",
       "            <tr>\n",
       "                        <th id=\"T_55dc9_level0_row16\" class=\"row_heading level0 row16\" >Switzerland</th>\n",
       "                        <td id=\"T_55dc9_row16_col0\" class=\"data row16 col0\" >23</td>\n",
       "                        <td id=\"T_55dc9_row16_col1\" class=\"data row16 col1\" >0.1%</td>\n",
       "                        <td id=\"T_55dc9_row16_col2\" class=\"data row16 col2\" >98.8%</td>\n",
       "            </tr>\n",
       "            <tr>\n",
       "                        <th id=\"T_55dc9_level0_row17\" class=\"row_heading level0 row17\" >Argentina, Mexico</th>\n",
       "                        <td id=\"T_55dc9_row17_col0\" class=\"data row17 col0\" >20</td>\n",
       "                        <td id=\"T_55dc9_row17_col1\" class=\"data row17 col1\" >0.1%</td>\n",
       "                        <td id=\"T_55dc9_row17_col2\" class=\"data row17 col2\" >98.9%</td>\n",
       "            </tr>\n",
       "            <tr>\n",
       "                        <th id=\"T_55dc9_level0_row18\" class=\"row_heading level0 row18\" >Austria</th>\n",
       "                        <td id=\"T_55dc9_row18_col0\" class=\"data row18 col0\" >20</td>\n",
       "                        <td id=\"T_55dc9_row18_col1\" class=\"data row18 col1\" >0.1%</td>\n",
       "                        <td id=\"T_55dc9_row18_col2\" class=\"data row18 col2\" >99.0%</td>\n",
       "            </tr>\n",
       "            <tr>\n",
       "                        <th id=\"T_55dc9_level0_row19\" class=\"row_heading level0 row19\" >Chile, Mexico</th>\n",
       "                        <td id=\"T_55dc9_row19_col0\" class=\"data row19 col0\" >17</td>\n",
       "                        <td id=\"T_55dc9_row19_col1\" class=\"data row19 col1\" >0.1%</td>\n",
       "                        <td id=\"T_55dc9_row19_col2\" class=\"data row19 col2\" >99.1%</td>\n",
       "            </tr>\n",
       "            <tr>\n",
       "                        <th id=\"T_55dc9_level0_row20\" class=\"row_heading level0 row20\" >Dominican Republic</th>\n",
       "                        <td id=\"T_55dc9_row20_col0\" class=\"data row20 col0\" >14</td>\n",
       "                        <td id=\"T_55dc9_row20_col1\" class=\"data row20 col1\" >0.1%</td>\n",
       "                        <td id=\"T_55dc9_row20_col2\" class=\"data row20 col2\" >99.2%</td>\n",
       "            </tr>\n",
       "            <tr>\n",
       "                        <th id=\"T_55dc9_level0_row21\" class=\"row_heading level0 row21\" >Austria, Germany</th>\n",
       "                        <td id=\"T_55dc9_row21_col0\" class=\"data row21 col0\" >13</td>\n",
       "                        <td id=\"T_55dc9_row21_col1\" class=\"data row21 col1\" >0.1%</td>\n",
       "                        <td id=\"T_55dc9_row21_col2\" class=\"data row21 col2\" >99.3%</td>\n",
       "            </tr>\n",
       "            <tr>\n",
       "                        <th id=\"T_55dc9_level0_row22\" class=\"row_heading level0 row22\" >Mexico, Peru</th>\n",
       "                        <td id=\"T_55dc9_row22_col0\" class=\"data row22 col0\" >9</td>\n",
       "                        <td id=\"T_55dc9_row22_col1\" class=\"data row22 col1\" >0.0%</td>\n",
       "                        <td id=\"T_55dc9_row22_col2\" class=\"data row22 col2\" >99.3%</td>\n",
       "            </tr>\n",
       "            <tr>\n",
       "                        <th id=\"T_55dc9_level0_row23\" class=\"row_heading level0 row23\" >Argentina, Spain</th>\n",
       "                        <td id=\"T_55dc9_row23_col0\" class=\"data row23 col0\" >9</td>\n",
       "                        <td id=\"T_55dc9_row23_col1\" class=\"data row23 col1\" >0.0%</td>\n",
       "                        <td id=\"T_55dc9_row23_col2\" class=\"data row23 col2\" >99.4%</td>\n",
       "            </tr>\n",
       "            <tr>\n",
       "                        <th id=\"T_55dc9_level0_row24\" class=\"row_heading level0 row24\" >Colombia, Mexico</th>\n",
       "                        <td id=\"T_55dc9_row24_col0\" class=\"data row24 col0\" >8</td>\n",
       "                        <td id=\"T_55dc9_row24_col1\" class=\"data row24 col1\" >0.0%</td>\n",
       "                        <td id=\"T_55dc9_row24_col2\" class=\"data row24 col2\" >99.4%</td>\n",
       "            </tr>\n",
       "    </tbody></table>"
      ],
      "text/plain": [
       "<pandas.io.formats.style.Styler at 0x7fd3135addd0>"
      ]
     },
     "execution_count": 18,
     "metadata": {},
     "output_type": "execute_result"
    }
   ],
   "source": [
    "value_counts_and_pcts(\n",
    "    df_subs['geo_relevant_countries'],\n",
    "    top_n=25,\n",
    "    # reset_index=True,\n",
    ")"
   ]
  },
  {
   "cell_type": "code",
   "execution_count": null,
   "id": "75cd2fbd",
   "metadata": {},
   "outputs": [],
   "source": []
  }
 ],
 "metadata": {
  "environment": {
   "name": "common-cpu.m65",
   "type": "gcloud",
   "uri": "gcr.io/deeplearning-platform-release/base-cpu:m65"
  },
  "kernelspec": {
   "display_name": "Python 3",
   "language": "python",
   "name": "python3"
  },
  "language_info": {
   "codemirror_mode": {
    "name": "ipython",
    "version": 3
   },
   "file_extension": ".py",
   "mimetype": "text/x-python",
   "name": "python",
   "nbconvert_exporter": "python",
   "pygments_lexer": "ipython3",
   "version": "3.7.10"
  }
 },
 "nbformat": 4,
 "nbformat_minor": 5
}
