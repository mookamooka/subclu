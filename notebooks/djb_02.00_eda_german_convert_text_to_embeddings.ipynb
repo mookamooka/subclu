{
 "cells": [
  {
   "cell_type": "markdown",
   "id": "e413d4a7",
   "metadata": {},
   "source": [
    "# Purpose\n",
    "This notebook tests loading fastText embeddings and converting the German-language POSTS.\n"
   ]
  },
  {
   "cell_type": "markdown",
   "id": "e14d0a14",
   "metadata": {},
   "source": [
    "# Notebook setup"
   ]
  },
  {
   "cell_type": "code",
   "execution_count": 1,
   "id": "c7a3cf9f",
   "metadata": {},
   "outputs": [],
   "source": [
    "%load_ext autoreload\n",
    "%autoreload 2"
   ]
  },
  {
   "cell_type": "code",
   "execution_count": 155,
   "id": "baff63a3",
   "metadata": {},
   "outputs": [
    {
     "name": "stdout",
     "output_type": "stream",
     "text": [
      "python\t\tv 3.7.10\n",
      "===\n",
      "fse\t\tv: 0.1.15\n",
      "gensim\t\tv: 3.8.3\n",
      "numpy\t\tv: 1.19.5\n",
      "pandas\t\tv: 1.2.4\n",
      "plotly\t\tv: 4.14.3\n"
     ]
    }
   ],
   "source": [
    "import gc\n",
    "import os\n",
    "\n",
    "import fse\n",
    "from fse.models import uSIF\n",
    "import gensim\n",
    "from gensim.models.fasttext import FastText, load_facebook_vectors\n",
    "\n",
    "import numpy as np\n",
    "import pandas as pd\n",
    "import plotly\n",
    "import plotly.express as px\n",
    "\n",
    "from subclu.data.fasttext import (\n",
    "    download_ft_pretrained_model,\n",
    "    get_df_for_most_similar\n",
    ")\n",
    "from subclu.utils import set_working_directory\n",
    "from subclu.utils.eda import (\n",
    "    setup_logging, counts_describe, value_counts_and_pcts,\n",
    "    notebook_display_config, print_lib_versions,\n",
    "    style_df_numeric\n",
    ")\n",
    "from subclu.eda.aggregates import (\n",
    "    compare_raw_v_weighted_language\n",
    ")\n",
    "from subclu.utils.data_irl_style import (\n",
    "    get_colormap, theme_dirl\n",
    ")\n",
    "\n",
    "\n",
    "print_lib_versions([fse, gensim, np, pd, plotly])"
   ]
  },
  {
   "cell_type": "code",
   "execution_count": 30,
   "id": "88f057b4",
   "metadata": {},
   "outputs": [],
   "source": [
    "# plotting\n",
    "import matplotlib.pyplot as plt\n",
    "import matplotlib.ticker as mtick\n",
    "import matplotlib.dates as mdates\n",
    "plt.style.use('default')\n",
    "\n",
    "setup_logging()\n",
    "notebook_display_config()"
   ]
  },
  {
   "cell_type": "markdown",
   "id": "7552fbdc",
   "metadata": {},
   "source": [
    "# Load posts"
   ]
  },
  {
   "cell_type": "code",
   "execution_count": 31,
   "id": "ee59ad5f",
   "metadata": {},
   "outputs": [
    {
     "name": "stdout",
     "output_type": "stream",
     "text": [
      "CPU times: user 522 ms, sys: 89.4 ms, total: 611 ms\n",
      "Wall time: 6.63 s\n"
     ]
    }
   ],
   "source": [
    "%%time\n",
    "\n",
    "project_id='data-science-prod'\n",
    "bucket_name = 'i18n-subreddit-clustering'\n",
    "folder_posts = 'posts/2021-05-10'\n",
    "\n",
    "l_cols_load = [\n",
    "    # IDs\n",
    "    'subreddit_name',\n",
    "    'subreddit_id',\n",
    "    'post_id',\n",
    "#     'user_id',\n",
    "    'thing_type',\n",
    "    \n",
    "    # Meta\n",
    "#     'submit_date',\n",
    "#     'removed',\n",
    "#     'upvotes',\n",
    "#     'successful',\n",
    "#     'app_name',\n",
    "    'post_type',\n",
    "    'post_nsfw',\n",
    "    'geolocation_country_code',\n",
    "    \n",
    "    # Language & text content\n",
    "    'post_url',\n",
    "    'language',\n",
    "    'probability',\n",
    "    'weighted_language',\n",
    "    'weighted_language_probability',\n",
    "    'text_len',\n",
    "    'text_word_count_estimate',\n",
    "    'text'\n",
    "]\n",
    "\n",
    "df_posts = pd.read_parquet(path=f\"gs://{bucket_name}/{folder_posts}\",\n",
    "                           columns=l_cols_load)"
   ]
  },
  {
   "cell_type": "code",
   "execution_count": 11,
   "id": "64900d04",
   "metadata": {},
   "outputs": [
    {
     "data": {
      "text/plain": [
       "(26567, 15)"
      ]
     },
     "execution_count": 11,
     "metadata": {},
     "output_type": "execute_result"
    }
   ],
   "source": [
    "df_posts.shape"
   ]
  },
  {
   "cell_type": "code",
   "execution_count": 32,
   "id": "c26aa7d2",
   "metadata": {},
   "outputs": [],
   "source": [
    "# df_posts.info(memory_usage='deep')"
   ]
  },
  {
   "cell_type": "code",
   "execution_count": 34,
   "id": "2dd0ba65",
   "metadata": {},
   "outputs": [
    {
     "data": {
      "text/html": [
       "<style  type=\"text/css\" >\n",
       "</style><table id=\"T_f1b3b_\" ><thead>    <tr>        <th class=\"blank level0\" ></th>        <th class=\"col_heading level0 col0\" >dtype</th>        <th class=\"col_heading level0 col1\" >count</th>        <th class=\"col_heading level0 col2\" >unique</th>        <th class=\"col_heading level0 col3\" >unique-percent</th>        <th class=\"col_heading level0 col4\" >null-count</th>        <th class=\"col_heading level0 col5\" >null-percent</th>    </tr></thead><tbody>\n",
       "                <tr>\n",
       "                        <th id=\"T_f1b3b_level0_row0\" class=\"row_heading level0 row0\" >subreddit_name</th>\n",
       "                        <td id=\"T_f1b3b_row0_col0\" class=\"data row0 col0\" >object</td>\n",
       "                        <td id=\"T_f1b3b_row0_col1\" class=\"data row0 col1\" >26,567</td>\n",
       "                        <td id=\"T_f1b3b_row0_col2\" class=\"data row0 col2\" >84</td>\n",
       "                        <td id=\"T_f1b3b_row0_col3\" class=\"data row0 col3\" >0.32%</td>\n",
       "                        <td id=\"T_f1b3b_row0_col4\" class=\"data row0 col4\" >0</td>\n",
       "                        <td id=\"T_f1b3b_row0_col5\" class=\"data row0 col5\" >0.00%</td>\n",
       "            </tr>\n",
       "            <tr>\n",
       "                        <th id=\"T_f1b3b_level0_row1\" class=\"row_heading level0 row1\" >subreddit_id</th>\n",
       "                        <td id=\"T_f1b3b_row1_col0\" class=\"data row1 col0\" >object</td>\n",
       "                        <td id=\"T_f1b3b_row1_col1\" class=\"data row1 col1\" >26,567</td>\n",
       "                        <td id=\"T_f1b3b_row1_col2\" class=\"data row1 col2\" >84</td>\n",
       "                        <td id=\"T_f1b3b_row1_col3\" class=\"data row1 col3\" >0.32%</td>\n",
       "                        <td id=\"T_f1b3b_row1_col4\" class=\"data row1 col4\" >0</td>\n",
       "                        <td id=\"T_f1b3b_row1_col5\" class=\"data row1 col5\" >0.00%</td>\n",
       "            </tr>\n",
       "            <tr>\n",
       "                        <th id=\"T_f1b3b_level0_row2\" class=\"row_heading level0 row2\" >post_id</th>\n",
       "                        <td id=\"T_f1b3b_row2_col0\" class=\"data row2 col0\" >object</td>\n",
       "                        <td id=\"T_f1b3b_row2_col1\" class=\"data row2 col1\" >26,567</td>\n",
       "                        <td id=\"T_f1b3b_row2_col2\" class=\"data row2 col2\" >26,567</td>\n",
       "                        <td id=\"T_f1b3b_row2_col3\" class=\"data row2 col3\" >100.00%</td>\n",
       "                        <td id=\"T_f1b3b_row2_col4\" class=\"data row2 col4\" >0</td>\n",
       "                        <td id=\"T_f1b3b_row2_col5\" class=\"data row2 col5\" >0.00%</td>\n",
       "            </tr>\n",
       "            <tr>\n",
       "                        <th id=\"T_f1b3b_level0_row3\" class=\"row_heading level0 row3\" >thing_type</th>\n",
       "                        <td id=\"T_f1b3b_row3_col0\" class=\"data row3 col0\" >object</td>\n",
       "                        <td id=\"T_f1b3b_row3_col1\" class=\"data row3 col1\" >26,567</td>\n",
       "                        <td id=\"T_f1b3b_row3_col2\" class=\"data row3 col2\" >1</td>\n",
       "                        <td id=\"T_f1b3b_row3_col3\" class=\"data row3 col3\" >0.00%</td>\n",
       "                        <td id=\"T_f1b3b_row3_col4\" class=\"data row3 col4\" >0</td>\n",
       "                        <td id=\"T_f1b3b_row3_col5\" class=\"data row3 col5\" >0.00%</td>\n",
       "            </tr>\n",
       "            <tr>\n",
       "                        <th id=\"T_f1b3b_level0_row4\" class=\"row_heading level0 row4\" >post_type</th>\n",
       "                        <td id=\"T_f1b3b_row4_col0\" class=\"data row4 col0\" >object</td>\n",
       "                        <td id=\"T_f1b3b_row4_col1\" class=\"data row4 col1\" >26,567</td>\n",
       "                        <td id=\"T_f1b3b_row4_col2\" class=\"data row4 col2\" >9</td>\n",
       "                        <td id=\"T_f1b3b_row4_col3\" class=\"data row4 col3\" >0.03%</td>\n",
       "                        <td id=\"T_f1b3b_row4_col4\" class=\"data row4 col4\" >0</td>\n",
       "                        <td id=\"T_f1b3b_row4_col5\" class=\"data row4 col5\" >0.00%</td>\n",
       "            </tr>\n",
       "            <tr>\n",
       "                        <th id=\"T_f1b3b_level0_row5\" class=\"row_heading level0 row5\" >post_nsfw</th>\n",
       "                        <td id=\"T_f1b3b_row5_col0\" class=\"data row5 col0\" >object</td>\n",
       "                        <td id=\"T_f1b3b_row5_col1\" class=\"data row5 col1\" >26,366</td>\n",
       "                        <td id=\"T_f1b3b_row5_col2\" class=\"data row5 col2\" >2</td>\n",
       "                        <td id=\"T_f1b3b_row5_col3\" class=\"data row5 col3\" >0.01%</td>\n",
       "                        <td id=\"T_f1b3b_row5_col4\" class=\"data row5 col4\" >201</td>\n",
       "                        <td id=\"T_f1b3b_row5_col5\" class=\"data row5 col5\" >0.76%</td>\n",
       "            </tr>\n",
       "            <tr>\n",
       "                        <th id=\"T_f1b3b_level0_row6\" class=\"row_heading level0 row6\" >geolocation_country_code</th>\n",
       "                        <td id=\"T_f1b3b_row6_col0\" class=\"data row6 col0\" >object</td>\n",
       "                        <td id=\"T_f1b3b_row6_col1\" class=\"data row6 col1\" >26,567</td>\n",
       "                        <td id=\"T_f1b3b_row6_col2\" class=\"data row6 col2\" >108</td>\n",
       "                        <td id=\"T_f1b3b_row6_col3\" class=\"data row6 col3\" >0.41%</td>\n",
       "                        <td id=\"T_f1b3b_row6_col4\" class=\"data row6 col4\" >0</td>\n",
       "                        <td id=\"T_f1b3b_row6_col5\" class=\"data row6 col5\" >0.00%</td>\n",
       "            </tr>\n",
       "            <tr>\n",
       "                        <th id=\"T_f1b3b_level0_row7\" class=\"row_heading level0 row7\" >post_url</th>\n",
       "                        <td id=\"T_f1b3b_row7_col0\" class=\"data row7 col0\" >object</td>\n",
       "                        <td id=\"T_f1b3b_row7_col1\" class=\"data row7 col1\" >26,055</td>\n",
       "                        <td id=\"T_f1b3b_row7_col2\" class=\"data row7 col2\" >25,646</td>\n",
       "                        <td id=\"T_f1b3b_row7_col3\" class=\"data row7 col3\" >98.43%</td>\n",
       "                        <td id=\"T_f1b3b_row7_col4\" class=\"data row7 col4\" >512</td>\n",
       "                        <td id=\"T_f1b3b_row7_col5\" class=\"data row7 col5\" >1.93%</td>\n",
       "            </tr>\n",
       "            <tr>\n",
       "                        <th id=\"T_f1b3b_level0_row8\" class=\"row_heading level0 row8\" >language</th>\n",
       "                        <td id=\"T_f1b3b_row8_col0\" class=\"data row8 col0\" >object</td>\n",
       "                        <td id=\"T_f1b3b_row8_col1\" class=\"data row8 col1\" >26,567</td>\n",
       "                        <td id=\"T_f1b3b_row8_col2\" class=\"data row8 col2\" >72</td>\n",
       "                        <td id=\"T_f1b3b_row8_col3\" class=\"data row8 col3\" >0.27%</td>\n",
       "                        <td id=\"T_f1b3b_row8_col4\" class=\"data row8 col4\" >0</td>\n",
       "                        <td id=\"T_f1b3b_row8_col5\" class=\"data row8 col5\" >0.00%</td>\n",
       "            </tr>\n",
       "            <tr>\n",
       "                        <th id=\"T_f1b3b_level0_row9\" class=\"row_heading level0 row9\" >probability</th>\n",
       "                        <td id=\"T_f1b3b_row9_col0\" class=\"data row9 col0\" >float64</td>\n",
       "                        <td id=\"T_f1b3b_row9_col1\" class=\"data row9 col1\" >26,567</td>\n",
       "                        <td id=\"T_f1b3b_row9_col2\" class=\"data row9 col2\" >22,145</td>\n",
       "                        <td id=\"T_f1b3b_row9_col3\" class=\"data row9 col3\" >83.36%</td>\n",
       "                        <td id=\"T_f1b3b_row9_col4\" class=\"data row9 col4\" >0</td>\n",
       "                        <td id=\"T_f1b3b_row9_col5\" class=\"data row9 col5\" >0.00%</td>\n",
       "            </tr>\n",
       "            <tr>\n",
       "                        <th id=\"T_f1b3b_level0_row10\" class=\"row_heading level0 row10\" >weighted_language</th>\n",
       "                        <td id=\"T_f1b3b_row10_col0\" class=\"data row10 col0\" >object</td>\n",
       "                        <td id=\"T_f1b3b_row10_col1\" class=\"data row10 col1\" >26,567</td>\n",
       "                        <td id=\"T_f1b3b_row10_col2\" class=\"data row10 col2\" >73</td>\n",
       "                        <td id=\"T_f1b3b_row10_col3\" class=\"data row10 col3\" >0.27%</td>\n",
       "                        <td id=\"T_f1b3b_row10_col4\" class=\"data row10 col4\" >0</td>\n",
       "                        <td id=\"T_f1b3b_row10_col5\" class=\"data row10 col5\" >0.00%</td>\n",
       "            </tr>\n",
       "            <tr>\n",
       "                        <th id=\"T_f1b3b_level0_row11\" class=\"row_heading level0 row11\" >weighted_language_probability</th>\n",
       "                        <td id=\"T_f1b3b_row11_col0\" class=\"data row11 col0\" >float64</td>\n",
       "                        <td id=\"T_f1b3b_row11_col1\" class=\"data row11 col1\" >26,567</td>\n",
       "                        <td id=\"T_f1b3b_row11_col2\" class=\"data row11 col2\" >23,697</td>\n",
       "                        <td id=\"T_f1b3b_row11_col3\" class=\"data row11 col3\" >89.20%</td>\n",
       "                        <td id=\"T_f1b3b_row11_col4\" class=\"data row11 col4\" >0</td>\n",
       "                        <td id=\"T_f1b3b_row11_col5\" class=\"data row11 col5\" >0.00%</td>\n",
       "            </tr>\n",
       "            <tr>\n",
       "                        <th id=\"T_f1b3b_level0_row12\" class=\"row_heading level0 row12\" >text_len</th>\n",
       "                        <td id=\"T_f1b3b_row12_col0\" class=\"data row12 col0\" >int64</td>\n",
       "                        <td id=\"T_f1b3b_row12_col1\" class=\"data row12 col1\" >26,567</td>\n",
       "                        <td id=\"T_f1b3b_row12_col2\" class=\"data row12 col2\" >1,950</td>\n",
       "                        <td id=\"T_f1b3b_row12_col3\" class=\"data row12 col3\" >7.34%</td>\n",
       "                        <td id=\"T_f1b3b_row12_col4\" class=\"data row12 col4\" >0</td>\n",
       "                        <td id=\"T_f1b3b_row12_col5\" class=\"data row12 col5\" >0.00%</td>\n",
       "            </tr>\n",
       "            <tr>\n",
       "                        <th id=\"T_f1b3b_level0_row13\" class=\"row_heading level0 row13\" >text_word_count_estimate</th>\n",
       "                        <td id=\"T_f1b3b_row13_col0\" class=\"data row13 col0\" >int64</td>\n",
       "                        <td id=\"T_f1b3b_row13_col1\" class=\"data row13 col1\" >26,567</td>\n",
       "                        <td id=\"T_f1b3b_row13_col2\" class=\"data row13 col2\" >632</td>\n",
       "                        <td id=\"T_f1b3b_row13_col3\" class=\"data row13 col3\" >2.38%</td>\n",
       "                        <td id=\"T_f1b3b_row13_col4\" class=\"data row13 col4\" >0</td>\n",
       "                        <td id=\"T_f1b3b_row13_col5\" class=\"data row13 col5\" >0.00%</td>\n",
       "            </tr>\n",
       "            <tr>\n",
       "                        <th id=\"T_f1b3b_level0_row14\" class=\"row_heading level0 row14\" >text</th>\n",
       "                        <td id=\"T_f1b3b_row14_col0\" class=\"data row14 col0\" >object</td>\n",
       "                        <td id=\"T_f1b3b_row14_col1\" class=\"data row14 col1\" >26,567</td>\n",
       "                        <td id=\"T_f1b3b_row14_col2\" class=\"data row14 col2\" >19,143</td>\n",
       "                        <td id=\"T_f1b3b_row14_col3\" class=\"data row14 col3\" >72.06%</td>\n",
       "                        <td id=\"T_f1b3b_row14_col4\" class=\"data row14 col4\" >0</td>\n",
       "                        <td id=\"T_f1b3b_row14_col5\" class=\"data row14 col5\" >0.00%</td>\n",
       "            </tr>\n",
       "    </tbody></table>"
      ],
      "text/plain": [
       "<pandas.io.formats.style.Styler at 0x7f435d7d8cd0>"
      ]
     },
     "execution_count": 34,
     "metadata": {},
     "output_type": "execute_result"
    }
   ],
   "source": [
    "counts_describe(df_posts)"
   ]
  },
  {
   "cell_type": "markdown",
   "id": "66924bf6",
   "metadata": {},
   "source": [
    "# Download pre-trained model\n",
    "\n",
    "**WARNING** If this is the first time running the notebook, **it can take 10+ minutes to download** the pretrained fastText model.\n",
    "\n",
    "fastText documentation:\n",
    "- https://fasttext.cc/docs/en/crawl-vectors.html\n",
    "- https://github.com/facebookresearch/fastText/blob/master/docs/crawl-vectors.md\n",
    "> We distribute pre-trained word vectors for 157 languages, trained on Common Crawl and Wikipedia using fastText. These models were trained using CBOW with position-weights, in dimension 300, with character n-grams of length 5, a window of size 5 and 10 negatives.\n"
   ]
  },
  {
   "cell_type": "code",
   "execution_count": 35,
   "id": "54e5970a",
   "metadata": {},
   "outputs": [
    {
     "name": "stdout",
     "output_type": "stream",
     "text": [
      "Saving embeddings to:\n",
      "  /home/jupyter/subreddit_clustering_i18n/data/embeddings/fasttext\n"
     ]
    },
    {
     "data": {
      "text/plain": [
       "PosixPath('/home/jupyter/subreddit_clustering_i18n/data/embeddings/fasttext/cc.de.300.bin')"
      ]
     },
     "execution_count": 35,
     "metadata": {},
     "output_type": "execute_result"
    }
   ],
   "source": [
    "%%time\n",
    "\n",
    "f_ft_model_de = download_ft_pretrained_model(lang_id='de', if_exists='ignore')\n",
    "f_ft_model_de"
   ]
  },
  {
   "cell_type": "markdown",
   "id": "951005e5",
   "metadata": {},
   "source": [
    "# Load embeddings\n",
    "\n",
    "ETA for loading model on instance: `N1-standard, 16 CPUs 60GB RAM`:\n",
    "\n",
    "| Language | Function | Time  | RAM  |\n",
    "|---|---|---|---|\n",
    "| German (de)  | `load_facebook_vectors` | 1min 30s | ~12GB  |\n",
    "| English (en) | `load_facebook_vectors` |  ?? | ??  |\n",
    "\n",
    "\n",
    "---\n",
    "### Reference / Docs:\n",
    "- `gensim` fasttext API reference: https://radimrehurek.com/gensim/models/fasttext.html\n",
    "- `gensim` fasttext Tutorial/training new model: https://radimrehurek.com/gensim/auto_examples/tutorials/run_fasttext.html\n",
    "- `fse` tutorial: https://towardsdatascience.com/vis-amz-83dea6fcb059\n",
    "- `fse` github: https://github.com/oborchers/Fast_Sentence_Embeddings\n",
    "\n",
    "**Note**: `load_fasttext_format` is deprecated. When using fse+gensim, best to go with `load_facebook_vectors` to reduce required RAM unless/until we fine-tune existing model(s).\n",
    "\n",
    "> DeprecationWarning: Call to deprecated `load_fasttext_format`. Instead, use: \n",
    "> - `load_facebook_vectors` (to use pretrained embeddings) or \n",
    "> - `load_facebook_model` (to continue training with the loaded full model, more RAM)."
   ]
  },
  {
   "cell_type": "code",
   "execution_count": 45,
   "id": "80256637",
   "metadata": {},
   "outputs": [
    {
     "name": "stdout",
     "output_type": "stream",
     "text": [
      "CPU times: user 1min 22s, sys: 8.04 s, total: 1min 30s\n",
      "Wall time: 1min 30s\n"
     ]
    }
   ],
   "source": [
    "%%time\n",
    "\n",
    "ft_de = load_facebook_vectors(str(f_ft_model_de))"
   ]
  },
  {
   "cell_type": "code",
   "execution_count": 196,
   "id": "674cc578",
   "metadata": {},
   "outputs": [
    {
     "data": {
      "text/plain": [
       "6989"
      ]
     },
     "execution_count": 196,
     "metadata": {},
     "output_type": "execute_result"
    }
   ],
   "source": [
    "gc.collect()"
   ]
  },
  {
   "cell_type": "markdown",
   "id": "8d016f3d",
   "metadata": {},
   "source": [
    "# Basic checks\n",
    "- vocab size\n",
    "- any difference between upper case & lower case?\n",
    "- how do emojis get handled? \n",
    "  - i.e., do we need to filter them out before embeddings?"
   ]
  },
  {
   "cell_type": "markdown",
   "id": "ae1a8953",
   "metadata": {},
   "source": [
    "## This model has 2,000,000 words in its vocabulary"
   ]
  },
  {
   "cell_type": "code",
   "execution_count": 211,
   "id": "a64fecc4",
   "metadata": {},
   "outputs": [
    {
     "data": {
      "text/plain": [
       "'2,000,000'"
      ]
     },
     "execution_count": 211,
     "metadata": {},
     "output_type": "execute_result"
    }
   ],
   "source": [
    "f\"{len(ft_de.vocab):,.0f}\""
   ]
  },
  {
   "cell_type": "markdown",
   "id": "89b3ab23",
   "metadata": {},
   "source": [
    "## Check generic words & compare case\n",
    "This FastText model includes case information so `Hallo` and `hallo` have slightly different meanings but they're still closely related."
   ]
  },
  {
   "cell_type": "code",
   "execution_count": 204,
   "id": "41454245",
   "metadata": {},
   "outputs": [
    {
     "data": {
      "text/plain": [
       "0.8284326"
      ]
     },
     "execution_count": 204,
     "metadata": {},
     "output_type": "execute_result"
    }
   ],
   "source": [
    "ft_de.similarity('hallo', 'Hallo')"
   ]
  },
  {
   "cell_type": "code",
   "execution_count": 210,
   "id": "7e98b749",
   "metadata": {},
   "outputs": [
    {
     "name": "stdout",
     "output_type": "stream",
     "text": [
      "True -> Hallo in vocabulary?\n",
      "True -> hallo in vocabulary?\n"
     ]
    },
    {
     "data": {
      "text/html": [
       "<div>\n",
       "<style scoped>\n",
       "    .dataframe tbody tr th:only-of-type {\n",
       "        vertical-align: middle;\n",
       "    }\n",
       "\n",
       "    .dataframe tbody tr th {\n",
       "        vertical-align: top;\n",
       "    }\n",
       "\n",
       "    .dataframe thead th {\n",
       "        text-align: right;\n",
       "    }\n",
       "</style>\n",
       "<table border=\"1\" class=\"dataframe\">\n",
       "  <thead>\n",
       "    <tr style=\"text-align: right;\">\n",
       "      <th></th>\n",
       "      <th>'Hallo' similar_words</th>\n",
       "      <th>'Hallo' similarity_score</th>\n",
       "      <th></th>\n",
       "      <th>'hallo' similar_words</th>\n",
       "      <th>'hallo' similarity_score</th>\n",
       "    </tr>\n",
       "  </thead>\n",
       "  <tbody>\n",
       "    <tr>\n",
       "      <th>0</th>\n",
       "      <td>Hallöchen</td>\n",
       "      <td>0.829399</td>\n",
       "      <td>|</td>\n",
       "      <td>Hallo</td>\n",
       "      <td>0.828433</td>\n",
       "    </tr>\n",
       "    <tr>\n",
       "      <th>1</th>\n",
       "      <td>hallo</td>\n",
       "      <td>0.828433</td>\n",
       "      <td>|</td>\n",
       "      <td>hallöchen</td>\n",
       "      <td>0.779361</td>\n",
       "    </tr>\n",
       "    <tr>\n",
       "      <th>2</th>\n",
       "      <td>Moin</td>\n",
       "      <td>0.814899</td>\n",
       "      <td>|</td>\n",
       "      <td>hallo.</td>\n",
       "      <td>0.731166</td>\n",
       "    </tr>\n",
       "    <tr>\n",
       "      <th>3</th>\n",
       "      <td>Huhu</td>\n",
       "      <td>0.768263</td>\n",
       "      <td>|</td>\n",
       "      <td>Hallöchen</td>\n",
       "      <td>0.723373</td>\n",
       "    </tr>\n",
       "    <tr>\n",
       "      <th>4</th>\n",
       "      <td>Hallihallo</td>\n",
       "      <td>0.760667</td>\n",
       "      <td>|</td>\n",
       "      <td>hallöle</td>\n",
       "      <td>0.723245</td>\n",
       "    </tr>\n",
       "    <tr>\n",
       "      <th>5</th>\n",
       "      <td>Hey</td>\n",
       "      <td>0.748436</td>\n",
       "      <td>|</td>\n",
       "      <td>Hey</td>\n",
       "      <td>0.707068</td>\n",
       "    </tr>\n",
       "    <tr>\n",
       "      <th>6</th>\n",
       "      <td>.Hallo</td>\n",
       "      <td>0.736457</td>\n",
       "      <td>|</td>\n",
       "      <td>huhu</td>\n",
       "      <td>0.703696</td>\n",
       "    </tr>\n",
       "    <tr>\n",
       "      <th>7</th>\n",
       "      <td>Hallöle</td>\n",
       "      <td>0.728758</td>\n",
       "      <td>|</td>\n",
       "      <td>hallihallo</td>\n",
       "      <td>0.696369</td>\n",
       "    </tr>\n",
       "    <tr>\n",
       "      <th>8</th>\n",
       "      <td>Hallo.</td>\n",
       "      <td>0.718392</td>\n",
       "      <td>|</td>\n",
       "      <td>moin</td>\n",
       "      <td>0.688673</td>\n",
       "    </tr>\n",
       "    <tr>\n",
       "      <th>9</th>\n",
       "      <td>hallöchen</td>\n",
       "      <td>0.713206</td>\n",
       "      <td>|</td>\n",
       "      <td>halloich</td>\n",
       "      <td>0.685797</td>\n",
       "    </tr>\n",
       "  </tbody>\n",
       "</table>\n",
       "</div>"
      ],
      "text/plain": [
       "  'Hallo' similar_words  'Hallo' similarity_score    'hallo' similar_words  'hallo' similarity_score\n",
       "0             Hallöchen                  0.829399  |                 Hallo                  0.828433\n",
       "1                 hallo                  0.828433  |             hallöchen                  0.779361\n",
       "2                  Moin                  0.814899  |                hallo.                  0.731166\n",
       "3                  Huhu                  0.768263  |             Hallöchen                  0.723373\n",
       "4            Hallihallo                  0.760667  |               hallöle                  0.723245\n",
       "5                   Hey                  0.748436  |                   Hey                  0.707068\n",
       "6                .Hallo                  0.736457  |                  huhu                  0.703696\n",
       "7               Hallöle                  0.728758  |            hallihallo                  0.696369\n",
       "8                Hallo.                  0.718392  |                  moin                  0.688673\n",
       "9             hallöchen                  0.713206  |              halloich                  0.685797"
      ]
     },
     "execution_count": 210,
     "metadata": {},
     "output_type": "execute_result"
    }
   ],
   "source": [
    "get_df_for_most_similar(ft_de, ['Hallo', 'hallo'], print_oov_check=True)"
   ]
  },
  {
   "cell_type": "markdown",
   "id": "d28b88b9",
   "metadata": {},
   "source": [
    "### `Halo` v `Hallo`\n",
    "We see that `Halo` is associated with other videogames. Even in lower case (`halo`) is still mostly associated with videogames -- one of the known drawbacks of static embeddings."
   ]
  },
  {
   "cell_type": "code",
   "execution_count": 206,
   "id": "abfded2d",
   "metadata": {},
   "outputs": [
    {
     "data": {
      "text/plain": [
       "0.21595238"
      ]
     },
     "execution_count": 206,
     "metadata": {},
     "output_type": "execute_result"
    }
   ],
   "source": [
    "ft_de.similarity('Hallo', 'Halo')"
   ]
  },
  {
   "cell_type": "code",
   "execution_count": 209,
   "id": "97565a35",
   "metadata": {},
   "outputs": [
    {
     "name": "stdout",
     "output_type": "stream",
     "text": [
      "True -> Halo in vocabulary?\n",
      "True -> halo in vocabulary?\n"
     ]
    },
    {
     "data": {
      "text/html": [
       "<div>\n",
       "<style scoped>\n",
       "    .dataframe tbody tr th:only-of-type {\n",
       "        vertical-align: middle;\n",
       "    }\n",
       "\n",
       "    .dataframe tbody tr th {\n",
       "        vertical-align: top;\n",
       "    }\n",
       "\n",
       "    .dataframe thead th {\n",
       "        text-align: right;\n",
       "    }\n",
       "</style>\n",
       "<table border=\"1\" class=\"dataframe\">\n",
       "  <thead>\n",
       "    <tr style=\"text-align: right;\">\n",
       "      <th></th>\n",
       "      <th>'Halo' similar_words</th>\n",
       "      <th>'Halo' similarity_score</th>\n",
       "      <th></th>\n",
       "      <th>'halo' similar_words</th>\n",
       "      <th>'halo' similarity_score</th>\n",
       "    </tr>\n",
       "  </thead>\n",
       "  <tbody>\n",
       "    <tr>\n",
       "      <th>0</th>\n",
       "      <td>Halo-Serie</td>\n",
       "      <td>0.655669</td>\n",
       "      <td>|</td>\n",
       "      <td>halos</td>\n",
       "      <td>0.573554</td>\n",
       "    </tr>\n",
       "    <tr>\n",
       "      <th>1</th>\n",
       "      <td>Halo-Universum</td>\n",
       "      <td>0.650042</td>\n",
       "      <td>|</td>\n",
       "      <td>Halo</td>\n",
       "      <td>0.571563</td>\n",
       "    </tr>\n",
       "    <tr>\n",
       "      <th>2</th>\n",
       "      <td>Halo3</td>\n",
       "      <td>0.637668</td>\n",
       "      <td>|</td>\n",
       "      <td>xbox360</td>\n",
       "      <td>0.526770</td>\n",
       "    </tr>\n",
       "    <tr>\n",
       "      <th>3</th>\n",
       "      <td>Halo-Reihe</td>\n",
       "      <td>0.636786</td>\n",
       "      <td>|</td>\n",
       "      <td>xbox</td>\n",
       "      <td>0.525676</td>\n",
       "    </tr>\n",
       "    <tr>\n",
       "      <th>4</th>\n",
       "      <td>Killzone</td>\n",
       "      <td>0.605346</td>\n",
       "      <td>|</td>\n",
       "      <td>Halo3</td>\n",
       "      <td>0.519317</td>\n",
       "    </tr>\n",
       "    <tr>\n",
       "      <th>5</th>\n",
       "      <td>Halo2</td>\n",
       "      <td>0.601156</td>\n",
       "      <td>|</td>\n",
       "      <td>farcry</td>\n",
       "      <td>0.510365</td>\n",
       "    </tr>\n",
       "    <tr>\n",
       "      <th>6</th>\n",
       "      <td>Battlefront</td>\n",
       "      <td>0.595721</td>\n",
       "      <td>|</td>\n",
       "      <td>bioshock</td>\n",
       "      <td>0.507828</td>\n",
       "    </tr>\n",
       "    <tr>\n",
       "      <th>7</th>\n",
       "      <td>Gears</td>\n",
       "      <td>0.587074</td>\n",
       "      <td>|</td>\n",
       "      <td>fallout</td>\n",
       "      <td>0.498994</td>\n",
       "    </tr>\n",
       "    <tr>\n",
       "      <th>8</th>\n",
       "      <td>TMCC</td>\n",
       "      <td>0.580518</td>\n",
       "      <td>|</td>\n",
       "      <td>tekken</td>\n",
       "      <td>0.496574</td>\n",
       "    </tr>\n",
       "    <tr>\n",
       "      <th>9</th>\n",
       "      <td>ODST</td>\n",
       "      <td>0.580247</td>\n",
       "      <td>|</td>\n",
       "      <td>skyrim</td>\n",
       "      <td>0.493982</td>\n",
       "    </tr>\n",
       "  </tbody>\n",
       "</table>\n",
       "</div>"
      ],
      "text/plain": [
       "  'Halo' similar_words  'Halo' similarity_score    'halo' similar_words  'halo' similarity_score\n",
       "0           Halo-Serie                 0.655669  |                halos                 0.573554\n",
       "1       Halo-Universum                 0.650042  |                 Halo                 0.571563\n",
       "2                Halo3                 0.637668  |              xbox360                 0.526770\n",
       "3           Halo-Reihe                 0.636786  |                 xbox                 0.525676\n",
       "4             Killzone                 0.605346  |                Halo3                 0.519317\n",
       "5                Halo2                 0.601156  |               farcry                 0.510365\n",
       "6          Battlefront                 0.595721  |             bioshock                 0.507828\n",
       "7                Gears                 0.587074  |              fallout                 0.498994\n",
       "8                 TMCC                 0.580518  |               tekken                 0.496574\n",
       "9                 ODST                 0.580247  |               skyrim                 0.493982"
      ]
     },
     "execution_count": 209,
     "metadata": {},
     "output_type": "execute_result"
    }
   ],
   "source": [
    "get_df_for_most_similar(ft_de, ['Halo', 'halo'], print_oov_check=True)"
   ]
  },
  {
   "cell_type": "markdown",
   "id": "bd42bdfc",
   "metadata": {},
   "source": [
    "## The model includes names of some political figures"
   ]
  },
  {
   "cell_type": "markdown",
   "id": "23b25df6",
   "metadata": {},
   "source": [
    "### Countries & political figures"
   ]
  },
  {
   "cell_type": "code",
   "execution_count": 230,
   "id": "962d8104",
   "metadata": {},
   "outputs": [
    {
     "name": "stdout",
     "output_type": "stream",
     "text": [
      "True -> Merkel in vocabulary?\n",
      "True -> Biden in vocabulary?\n",
      "True -> Trump in vocabulary?\n"
     ]
    },
    {
     "data": {
      "text/html": [
       "<div>\n",
       "<style scoped>\n",
       "    .dataframe tbody tr th:only-of-type {\n",
       "        vertical-align: middle;\n",
       "    }\n",
       "\n",
       "    .dataframe tbody tr th {\n",
       "        vertical-align: top;\n",
       "    }\n",
       "\n",
       "    .dataframe thead th {\n",
       "        text-align: right;\n",
       "    }\n",
       "</style>\n",
       "<table border=\"1\" class=\"dataframe\">\n",
       "  <thead>\n",
       "    <tr style=\"text-align: right;\">\n",
       "      <th></th>\n",
       "      <th>'Merkel' similar_words</th>\n",
       "      <th>'Merkel' similarity_score</th>\n",
       "      <th></th>\n",
       "      <th>'Biden' similar_words</th>\n",
       "      <th>'Biden' similarity_score</th>\n",
       "      <th></th>\n",
       "      <th>'Trump' similar_words</th>\n",
       "      <th>'Trump' similarity_score</th>\n",
       "    </tr>\n",
       "  </thead>\n",
       "  <tbody>\n",
       "    <tr>\n",
       "      <th>0</th>\n",
       "      <td>Kanzlerin</td>\n",
       "      <td>0.823135</td>\n",
       "      <td>|</td>\n",
       "      <td>Bidens</td>\n",
       "      <td>0.643363</td>\n",
       "      <td>|</td>\n",
       "      <td>Trumps</td>\n",
       "      <td>0.834379</td>\n",
       "    </tr>\n",
       "    <tr>\n",
       "      <th>1</th>\n",
       "      <td>Merkels</td>\n",
       "      <td>0.773008</td>\n",
       "      <td>|</td>\n",
       "      <td>Obama</td>\n",
       "      <td>0.590702</td>\n",
       "      <td>|</td>\n",
       "      <td>Obama</td>\n",
       "      <td>0.769192</td>\n",
       "    </tr>\n",
       "    <tr>\n",
       "      <th>2</th>\n",
       "      <td>Bundeskanzlerin</td>\n",
       "      <td>0.760590</td>\n",
       "      <td>|</td>\n",
       "      <td>Clinton</td>\n",
       "      <td>0.577105</td>\n",
       "      <td>|</td>\n",
       "      <td>Clinton</td>\n",
       "      <td>0.710054</td>\n",
       "    </tr>\n",
       "    <tr>\n",
       "      <th>3</th>\n",
       "      <td>Steinmeier</td>\n",
       "      <td>0.747596</td>\n",
       "      <td>|</td>\n",
       "      <td>McCain</td>\n",
       "      <td>0.557189</td>\n",
       "      <td>|</td>\n",
       "      <td>Trump-</td>\n",
       "      <td>0.702948</td>\n",
       "    </tr>\n",
       "    <tr>\n",
       "      <th>4</th>\n",
       "      <td>Schäuble</td>\n",
       "      <td>0.740701</td>\n",
       "      <td>|</td>\n",
       "      <td>Bush</td>\n",
       "      <td>0.548116</td>\n",
       "      <td>|</td>\n",
       "      <td>Anti-Trump</td>\n",
       "      <td>0.691796</td>\n",
       "    </tr>\n",
       "    <tr>\n",
       "      <th>5</th>\n",
       "      <td>Gauck</td>\n",
       "      <td>0.707773</td>\n",
       "      <td>|</td>\n",
       "      <td>Poroschenko</td>\n",
       "      <td>0.519384</td>\n",
       "      <td>|</td>\n",
       "      <td>Trump-Regierung</td>\n",
       "      <td>0.690300</td>\n",
       "    </tr>\n",
       "    <tr>\n",
       "      <th>6</th>\n",
       "      <td>Seehofer</td>\n",
       "      <td>0.703044</td>\n",
       "      <td>|</td>\n",
       "      <td>Cheney</td>\n",
       "      <td>0.514759</td>\n",
       "      <td>|</td>\n",
       "      <td>Trump-Lager</td>\n",
       "      <td>0.686202</td>\n",
       "    </tr>\n",
       "    <tr>\n",
       "      <th>7</th>\n",
       "      <td>.Merkel</td>\n",
       "      <td>0.696072</td>\n",
       "      <td>|</td>\n",
       "      <td>US-Vizepräsident</td>\n",
       "      <td>0.509718</td>\n",
       "      <td>|</td>\n",
       "      <td>Obamas</td>\n",
       "      <td>0.672440</td>\n",
       "    </tr>\n",
       "    <tr>\n",
       "      <th>8</th>\n",
       "      <td>Westerwelle</td>\n",
       "      <td>0.673326</td>\n",
       "      <td>|</td>\n",
       "      <td>Donilon</td>\n",
       "      <td>0.509373</td>\n",
       "      <td>|</td>\n",
       "      <td>US-Präsident</td>\n",
       "      <td>0.672200</td>\n",
       "    </tr>\n",
       "    <tr>\n",
       "      <th>9</th>\n",
       "      <td>Putin</td>\n",
       "      <td>0.671824</td>\n",
       "      <td>|</td>\n",
       "      <td>US-Vize</td>\n",
       "      <td>0.506996</td>\n",
       "      <td>|</td>\n",
       "      <td>Trump.</td>\n",
       "      <td>0.669235</td>\n",
       "    </tr>\n",
       "  </tbody>\n",
       "</table>\n",
       "</div>"
      ],
      "text/plain": [
       "  'Merkel' similar_words  'Merkel' similarity_score    'Biden' similar_words  'Biden' similarity_score    'Trump' similar_words  'Trump' similarity_score\n",
       "0              Kanzlerin                   0.823135  |                Bidens                  0.643363  |                Trumps                  0.834379\n",
       "1                Merkels                   0.773008  |                 Obama                  0.590702  |                 Obama                  0.769192\n",
       "2        Bundeskanzlerin                   0.760590  |               Clinton                  0.577105  |               Clinton                  0.710054\n",
       "3             Steinmeier                   0.747596  |                McCain                  0.557189  |                Trump-                  0.702948\n",
       "4               Schäuble                   0.740701  |                  Bush                  0.548116  |            Anti-Trump                  0.691796\n",
       "5                  Gauck                   0.707773  |           Poroschenko                  0.519384  |       Trump-Regierung                  0.690300\n",
       "6               Seehofer                   0.703044  |                Cheney                  0.514759  |           Trump-Lager                  0.686202\n",
       "7                .Merkel                   0.696072  |      US-Vizepräsident                  0.509718  |                Obamas                  0.672440\n",
       "8            Westerwelle                   0.673326  |               Donilon                  0.509373  |          US-Präsident                  0.672200\n",
       "9                  Putin                   0.671824  |               US-Vize                  0.506996  |                Trump.                  0.669235"
      ]
     },
     "execution_count": 230,
     "metadata": {},
     "output_type": "execute_result"
    }
   ],
   "source": [
    "get_df_for_most_similar(ft_de, ['Merkel', 'Biden', 'Trump'], print_oov_check=True)"
   ]
  },
  {
   "cell_type": "code",
   "execution_count": 177,
   "id": "73b2fe61",
   "metadata": {},
   "outputs": [
    {
     "data": {
      "text/plain": [
       "0.5478157"
      ]
     },
     "execution_count": 177,
     "metadata": {},
     "output_type": "execute_result"
    }
   ],
   "source": [
    "ft_de.similarity('Deutschland', 'Germany')"
   ]
  },
  {
   "cell_type": "code",
   "execution_count": 189,
   "id": "b5292624",
   "metadata": {},
   "outputs": [
    {
     "name": "stdout",
     "output_type": "stream",
     "text": [
      "True -> Deutschland in vocabulary?\n",
      "True -> Germany in vocabulary?\n"
     ]
    },
    {
     "data": {
      "text/html": [
       "<style  type=\"text/css\" >\n",
       "</style><table id=\"T_85752_\" ><thead>    <tr>        <th class=\"blank level0\" ></th>        <th class=\"col_heading level0 col0\" >Deutschland \n",
       " similar_words</th>        <th class=\"col_heading level0 col1\" >similarity_score-Deutschland</th>        <th class=\"col_heading level0 col2\" > </th>        <th class=\"col_heading level0 col3\" >Germany \n",
       " similar_words</th>        <th class=\"col_heading level0 col4\" >similarity_score-Germany</th>    </tr></thead><tbody>\n",
       "                <tr>\n",
       "                        <th id=\"T_85752_level0_row0\" class=\"row_heading level0 row0\" >0</th>\n",
       "                        <td id=\"T_85752_row0_col0\" class=\"data row0 col0\" >Österreich</td>\n",
       "                        <td id=\"T_85752_row0_col1\" class=\"data row0 col1\" >0.74</td>\n",
       "                        <td id=\"T_85752_row0_col2\" class=\"data row0 col2\" >|</td>\n",
       "                        <td id=\"T_85752_row0_col3\" class=\"data row0 col3\" >Germany-</td>\n",
       "                        <td id=\"T_85752_row0_col4\" class=\"data row0 col4\" >0.72</td>\n",
       "            </tr>\n",
       "            <tr>\n",
       "                        <th id=\"T_85752_level0_row1\" class=\"row_heading level0 row1\" >1</th>\n",
       "                        <td id=\"T_85752_row1_col0\" class=\"data row1 col0\" >Europa</td>\n",
       "                        <td id=\"T_85752_row1_col1\" class=\"data row1 col1\" >0.74</td>\n",
       "                        <td id=\"T_85752_row1_col2\" class=\"data row1 col2\" >|</td>\n",
       "                        <td id=\"T_85752_row1_col3\" class=\"data row1 col3\" >germany</td>\n",
       "                        <td id=\"T_85752_row1_col4\" class=\"data row1 col4\" >0.68</td>\n",
       "            </tr>\n",
       "            <tr>\n",
       "                        <th id=\"T_85752_level0_row2\" class=\"row_heading level0 row2\" >2</th>\n",
       "                        <td id=\"T_85752_row2_col0\" class=\"data row2 col0\" >Bundesrepublik</td>\n",
       "                        <td id=\"T_85752_row2_col1\" class=\"data row2 col1\" >0.71</td>\n",
       "                        <td id=\"T_85752_row2_col2\" class=\"data row2 col2\" >|</td>\n",
       "                        <td id=\"T_85752_row2_col3\" class=\"data row2 col3\" >Germany.</td>\n",
       "                        <td id=\"T_85752_row2_col4\" class=\"data row2 col4\" >0.65</td>\n",
       "            </tr>\n",
       "            <tr>\n",
       "                        <th id=\"T_85752_level0_row3\" class=\"row_heading level0 row3\" >3</th>\n",
       "                        <td id=\"T_85752_row3_col0\" class=\"data row3 col0\" >Schweiz</td>\n",
       "                        <td id=\"T_85752_row3_col1\" class=\"data row3 col1\" >0.70</td>\n",
       "                        <td id=\"T_85752_row3_col2\" class=\"data row3 col2\" >|</td>\n",
       "                        <td id=\"T_85752_row3_col3\" class=\"data row3 col3\" >GERMANY</td>\n",
       "                        <td id=\"T_85752_row3_col4\" class=\"data row3 col4\" >0.63</td>\n",
       "            </tr>\n",
       "            <tr>\n",
       "                        <th id=\"T_85752_level0_row4\" class=\"row_heading level0 row4\" >4</th>\n",
       "                        <td id=\"T_85752_row4_col0\" class=\"data row4 col0\" >Frankreich</td>\n",
       "                        <td id=\"T_85752_row4_col1\" class=\"data row4 col1\" >0.67</td>\n",
       "                        <td id=\"T_85752_row4_col2\" class=\"data row4 col2\" >|</td>\n",
       "                        <td id=\"T_85752_row4_col3\" class=\"data row4 col3\" >Europe</td>\n",
       "                        <td id=\"T_85752_row4_col4\" class=\"data row4 col4\" >0.62</td>\n",
       "            </tr>\n",
       "            <tr>\n",
       "                        <th id=\"T_85752_level0_row5\" class=\"row_heading level0 row5\" >5</th>\n",
       "                        <td id=\"T_85752_row5_col0\" class=\"data row5 col0\" >Deuschland</td>\n",
       "                        <td id=\"T_85752_row5_col1\" class=\"data row5 col1\" >0.65</td>\n",
       "                        <td id=\"T_85752_row5_col2\" class=\"data row5 col2\" >|</td>\n",
       "                        <td id=\"T_85752_row5_col3\" class=\"data row5 col3\" >Gemany</td>\n",
       "                        <td id=\"T_85752_row5_col4\" class=\"data row5 col4\" >0.62</td>\n",
       "            </tr>\n",
       "            <tr>\n",
       "                        <th id=\"T_85752_level0_row6\" class=\"row_heading level0 row6\" >6</th>\n",
       "                        <td id=\"T_85752_row6_col0\" class=\"data row6 col0\" >Großbritannien</td>\n",
       "                        <td id=\"T_85752_row6_col1\" class=\"data row6 col1\" >0.65</td>\n",
       "                        <td id=\"T_85752_row6_col2\" class=\"data row6 col2\" >|</td>\n",
       "                        <td id=\"T_85752_row6_col3\" class=\"data row6 col3\" >Switzerland</td>\n",
       "                        <td id=\"T_85752_row6_col4\" class=\"data row6 col4\" >0.61</td>\n",
       "            </tr>\n",
       "            <tr>\n",
       "                        <th id=\"T_85752_level0_row7\" class=\"row_heading level0 row7\" >7</th>\n",
       "                        <td id=\"T_85752_row7_col0\" class=\"data row7 col0\" >Süddeutschland</td>\n",
       "                        <td id=\"T_85752_row7_col1\" class=\"data row7 col1\" >0.63</td>\n",
       "                        <td id=\"T_85752_row7_col2\" class=\"data row7 col2\" >|</td>\n",
       "                        <td id=\"T_85752_row7_col3\" class=\"data row7 col3\" >West-Germany</td>\n",
       "                        <td id=\"T_85752_row7_col4\" class=\"data row7 col4\" >0.60</td>\n",
       "            </tr>\n",
       "            <tr>\n",
       "                        <th id=\"T_85752_level0_row8\" class=\"row_heading level0 row8\" >8</th>\n",
       "                        <td id=\"T_85752_row8_col0\" class=\"data row8 col0\" >Italien</td>\n",
       "                        <td id=\"T_85752_row8_col1\" class=\"data row8 col1\" >0.63</td>\n",
       "                        <td id=\"T_85752_row8_col2\" class=\"data row8 col2\" >|</td>\n",
       "                        <td id=\"T_85752_row8_col3\" class=\"data row8 col3\" >Germany4</td>\n",
       "                        <td id=\"T_85752_row8_col4\" class=\"data row8 col4\" >0.59</td>\n",
       "            </tr>\n",
       "            <tr>\n",
       "                        <th id=\"T_85752_level0_row9\" class=\"row_heading level0 row9\" >9</th>\n",
       "                        <td id=\"T_85752_row9_col0\" class=\"data row9 col0\" >Amerika</td>\n",
       "                        <td id=\"T_85752_row9_col1\" class=\"data row9 col1\" >0.63</td>\n",
       "                        <td id=\"T_85752_row9_col2\" class=\"data row9 col2\" >|</td>\n",
       "                        <td id=\"T_85752_row9_col3\" class=\"data row9 col3\" >Germany2</td>\n",
       "                        <td id=\"T_85752_row9_col4\" class=\"data row9 col4\" >0.59</td>\n",
       "            </tr>\n",
       "    </tbody></table>"
      ],
      "text/plain": [
       "<pandas.io.formats.style.Styler at 0x7f42fa5a4dd0>"
      ]
     },
     "execution_count": 189,
     "metadata": {},
     "output_type": "execute_result"
    }
   ],
   "source": [
    "style_df_numeric(get_df_for_most_similar(ft_de, ['Deutschland', 'Germany'], print_oov_check=True))"
   ]
  },
  {
   "cell_type": "markdown",
   "id": "29696255",
   "metadata": {},
   "source": [
    "## The model also includes _some_ English words\n",
    "\n",
    "### Sample English v. German sport terms"
   ]
  },
  {
   "cell_type": "code",
   "execution_count": 178,
   "id": "cbbad81f",
   "metadata": {},
   "outputs": [
    {
     "data": {
      "text/plain": [
       "0.43577126"
      ]
     },
     "execution_count": 178,
     "metadata": {},
     "output_type": "execute_result"
    }
   ],
   "source": [
    "ft_de.similarity('soccer', 'Fußball')"
   ]
  },
  {
   "cell_type": "code",
   "execution_count": 212,
   "id": "78549b93",
   "metadata": {},
   "outputs": [
    {
     "name": "stdout",
     "output_type": "stream",
     "text": [
      "True -> soccer in vocabulary?\n",
      "True -> Fußball in vocabulary?\n",
      "True -> fußball in vocabulary?\n"
     ]
    },
    {
     "data": {
      "text/html": [
       "<style  type=\"text/css\" >\n",
       "</style><table id=\"T_ccdf9_\" ><thead>    <tr>        <th class=\"blank level0\" ></th>        <th class=\"col_heading level0 col0\" >'soccer' similar_words</th>        <th class=\"col_heading level0 col1\" >'soccer' similarity_score</th>        <th class=\"col_heading level0 col2\" > </th>        <th class=\"col_heading level0 col3\" >'Fußball' similar_words</th>        <th class=\"col_heading level0 col4\" >'Fußball' similarity_score</th>        <th class=\"col_heading level0 col5\" >  </th>        <th class=\"col_heading level0 col6\" >'fußball' similar_words</th>        <th class=\"col_heading level0 col7\" >'fußball' similarity_score</th>    </tr></thead><tbody>\n",
       "                <tr>\n",
       "                        <th id=\"T_ccdf9_level0_row0\" class=\"row_heading level0 row0\" >0</th>\n",
       "                        <td id=\"T_ccdf9_row0_col0\" class=\"data row0 col0\" >football</td>\n",
       "                        <td id=\"T_ccdf9_row0_col1\" class=\"data row0 col1\" >0.65</td>\n",
       "                        <td id=\"T_ccdf9_row0_col2\" class=\"data row0 col2\" >|</td>\n",
       "                        <td id=\"T_ccdf9_row0_col3\" class=\"data row0 col3\" >Fussball</td>\n",
       "                        <td id=\"T_ccdf9_row0_col4\" class=\"data row0 col4\" >0.82</td>\n",
       "                        <td id=\"T_ccdf9_row0_col5\" class=\"data row0 col5\" >|</td>\n",
       "                        <td id=\"T_ccdf9_row0_col6\" class=\"data row0 col6\" >fußballer</td>\n",
       "                        <td id=\"T_ccdf9_row0_col7\" class=\"data row0 col7\" >0.70</td>\n",
       "            </tr>\n",
       "            <tr>\n",
       "                        <th id=\"T_ccdf9_level0_row1\" class=\"row_heading level0 row1\" >1</th>\n",
       "                        <td id=\"T_ccdf9_row1_col0\" class=\"data row1 col0\" >Soccer</td>\n",
       "                        <td id=\"T_ccdf9_row1_col1\" class=\"data row1 col1\" >0.61</td>\n",
       "                        <td id=\"T_ccdf9_row1_col2\" class=\"data row1 col2\" >|</td>\n",
       "                        <td id=\"T_ccdf9_row1_col3\" class=\"data row1 col3\" >Fußballs</td>\n",
       "                        <td id=\"T_ccdf9_row1_col4\" class=\"data row1 col4\" >0.69</td>\n",
       "                        <td id=\"T_ccdf9_row1_col5\" class=\"data row1 col5\" >|</td>\n",
       "                        <td id=\"T_ccdf9_row1_col6\" class=\"data row1 col6\" >Fußball</td>\n",
       "                        <td id=\"T_ccdf9_row1_col7\" class=\"data row1 col7\" >0.65</td>\n",
       "            </tr>\n",
       "            <tr>\n",
       "                        <th id=\"T_ccdf9_level0_row2\" class=\"row_heading level0 row2\" >2</th>\n",
       "                        <td id=\"T_ccdf9_row2_col0\" class=\"data row2 col0\" >footballer</td>\n",
       "                        <td id=\"T_ccdf9_row2_col1\" class=\"data row2 col1\" >0.58</td>\n",
       "                        <td id=\"T_ccdf9_row2_col2\" class=\"data row2 col2\" >|</td>\n",
       "                        <td id=\"T_ccdf9_row2_col3\" class=\"data row2 col3\" >Fußbal</td>\n",
       "                        <td id=\"T_ccdf9_row2_col4\" class=\"data row2 col4\" >0.69</td>\n",
       "                        <td id=\"T_ccdf9_row2_col5\" class=\"data row2 col5\" >|</td>\n",
       "                        <td id=\"T_ccdf9_row2_col6\" class=\"data row2 col6\" >fussball</td>\n",
       "                        <td id=\"T_ccdf9_row2_col7\" class=\"data row2 col7\" >0.65</td>\n",
       "            </tr>\n",
       "            <tr>\n",
       "                        <th id=\"T_ccdf9_level0_row3\" class=\"row_heading level0 row3\" >3</th>\n",
       "                        <td id=\"T_ccdf9_row3_col0\" class=\"data row3 col0\" >rugby</td>\n",
       "                        <td id=\"T_ccdf9_row3_col1\" class=\"data row3 col1\" >0.58</td>\n",
       "                        <td id=\"T_ccdf9_row3_col2\" class=\"data row3 col2\" >|</td>\n",
       "                        <td id=\"T_ccdf9_row3_col3\" class=\"data row3 col3\" >Fußballsport</td>\n",
       "                        <td id=\"T_ccdf9_row3_col4\" class=\"data row3 col4\" >0.68</td>\n",
       "                        <td id=\"T_ccdf9_row3_col5\" class=\"data row3 col5\" >|</td>\n",
       "                        <td id=\"T_ccdf9_row3_col6\" class=\"data row3 col6\" >fußballspiel</td>\n",
       "                        <td id=\"T_ccdf9_row3_col7\" class=\"data row3 col7\" >0.64</td>\n",
       "            </tr>\n",
       "            <tr>\n",
       "                        <th id=\"T_ccdf9_level0_row4\" class=\"row_heading level0 row4\" >4</th>\n",
       "                        <td id=\"T_ccdf9_row4_col0\" class=\"data row4 col0\" >soccer.at</td>\n",
       "                        <td id=\"T_ccdf9_row4_col1\" class=\"data row4 col1\" >0.54</td>\n",
       "                        <td id=\"T_ccdf9_row4_col2\" class=\"data row4 col2\" >|</td>\n",
       "                        <td id=\"T_ccdf9_row4_col3\" class=\"data row4 col3\" >FußballFußball</td>\n",
       "                        <td id=\"T_ccdf9_row4_col4\" class=\"data row4 col4\" >0.66</td>\n",
       "                        <td id=\"T_ccdf9_row4_col5\" class=\"data row4 col5\" >|</td>\n",
       "                        <td id=\"T_ccdf9_row4_col6\" class=\"data row4 col6\" >fußballverein</td>\n",
       "                        <td id=\"T_ccdf9_row4_col7\" class=\"data row4 col7\" >0.63</td>\n",
       "            </tr>\n",
       "            <tr>\n",
       "                        <th id=\"T_ccdf9_level0_row5\" class=\"row_heading level0 row5\" >5</th>\n",
       "                        <td id=\"T_ccdf9_row5_col0\" class=\"data row5 col0\" >Streetsoccer</td>\n",
       "                        <td id=\"T_ccdf9_row5_col1\" class=\"data row5 col1\" >0.53</td>\n",
       "                        <td id=\"T_ccdf9_row5_col2\" class=\"data row5 col2\" >|</td>\n",
       "                        <td id=\"T_ccdf9_row5_col3\" class=\"data row5 col3\" >fußball</td>\n",
       "                        <td id=\"T_ccdf9_row5_col4\" class=\"data row5 col4\" >0.65</td>\n",
       "                        <td id=\"T_ccdf9_row5_col5\" class=\"data row5 col5\" >|</td>\n",
       "                        <td id=\"T_ccdf9_row5_col6\" class=\"data row5 col6\" >ballsport</td>\n",
       "                        <td id=\"T_ccdf9_row5_col7\" class=\"data row5 col7\" >0.63</td>\n",
       "            </tr>\n",
       "            <tr>\n",
       "                        <th id=\"T_ccdf9_level0_row6\" class=\"row_heading level0 row6\" >6</th>\n",
       "                        <td id=\"T_ccdf9_row6_col0\" class=\"data row6 col0\" >athletic</td>\n",
       "                        <td id=\"T_ccdf9_row6_col1\" class=\"data row6 col1\" >0.52</td>\n",
       "                        <td id=\"T_ccdf9_row6_col2\" class=\"data row6 col2\" >|</td>\n",
       "                        <td id=\"T_ccdf9_row6_col3\" class=\"data row6 col3\" >Fußballer</td>\n",
       "                        <td id=\"T_ccdf9_row6_col4\" class=\"data row6 col4\" >0.65</td>\n",
       "                        <td id=\"T_ccdf9_row6_col5\" class=\"data row6 col5\" >|</td>\n",
       "                        <td id=\"T_ccdf9_row6_col6\" class=\"data row6 col6\" >fußballspieler</td>\n",
       "                        <td id=\"T_ccdf9_row6_col7\" class=\"data row6 col7\" >0.63</td>\n",
       "            </tr>\n",
       "            <tr>\n",
       "                        <th id=\"T_ccdf9_level0_row7\" class=\"row_heading level0 row7\" >7</th>\n",
       "                        <td id=\"T_ccdf9_row7_col0\" class=\"data row7 col0\" >sporting</td>\n",
       "                        <td id=\"T_ccdf9_row7_col1\" class=\"data row7 col1\" >0.52</td>\n",
       "                        <td id=\"T_ccdf9_row7_col2\" class=\"data row7 col2\" >|</td>\n",
       "                        <td id=\"T_ccdf9_row7_col3\" class=\"data row7 col3\" >Handball</td>\n",
       "                        <td id=\"T_ccdf9_row7_col4\" class=\"data row7 col4\" >0.65</td>\n",
       "                        <td id=\"T_ccdf9_row7_col5\" class=\"data row7 col5\" >|</td>\n",
       "                        <td id=\"T_ccdf9_row7_col6\" class=\"data row7 col6\" >fußballspielen</td>\n",
       "                        <td id=\"T_ccdf9_row7_col7\" class=\"data row7 col7\" >0.62</td>\n",
       "            </tr>\n",
       "            <tr>\n",
       "                        <th id=\"T_ccdf9_level0_row8\" class=\"row_heading level0 row8\" >8</th>\n",
       "                        <td id=\"T_ccdf9_row8_col0\" class=\"data row8 col0\" >sports</td>\n",
       "                        <td id=\"T_ccdf9_row8_col1\" class=\"data row8 col1\" >0.52</td>\n",
       "                        <td id=\"T_ccdf9_row8_col2\" class=\"data row8 col2\" >|</td>\n",
       "                        <td id=\"T_ccdf9_row8_col3\" class=\"data row8 col3\" >Fußball.</td>\n",
       "                        <td id=\"T_ccdf9_row8_col4\" class=\"data row8 col4\" >0.64</td>\n",
       "                        <td id=\"T_ccdf9_row8_col5\" class=\"data row8 col5\" >|</td>\n",
       "                        <td id=\"T_ccdf9_row8_col6\" class=\"data row8 col6\" >Fussball</td>\n",
       "                        <td id=\"T_ccdf9_row8_col7\" class=\"data row8 col7\" >0.61</td>\n",
       "            </tr>\n",
       "            <tr>\n",
       "                        <th id=\"T_ccdf9_level0_row9\" class=\"row_heading level0 row9\" >9</th>\n",
       "                        <td id=\"T_ccdf9_row9_col0\" class=\"data row9 col0\" >Football</td>\n",
       "                        <td id=\"T_ccdf9_row9_col1\" class=\"data row9 col1\" >0.52</td>\n",
       "                        <td id=\"T_ccdf9_row9_col2\" class=\"data row9 col2\" >|</td>\n",
       "                        <td id=\"T_ccdf9_row9_col3\" class=\"data row9 col3\" >Fußballspiel</td>\n",
       "                        <td id=\"T_ccdf9_row9_col4\" class=\"data row9 col4\" >0.64</td>\n",
       "                        <td id=\"T_ccdf9_row9_col5\" class=\"data row9 col5\" >|</td>\n",
       "                        <td id=\"T_ccdf9_row9_col6\" class=\"data row9 col6\" >handball</td>\n",
       "                        <td id=\"T_ccdf9_row9_col7\" class=\"data row9 col7\" >0.61</td>\n",
       "            </tr>\n",
       "    </tbody></table>"
      ],
      "text/plain": [
       "<pandas.io.formats.style.Styler at 0x7f42fa58dd10>"
      ]
     },
     "execution_count": 212,
     "metadata": {},
     "output_type": "execute_result"
    }
   ],
   "source": [
    "style_df_numeric(get_df_for_most_similar(ft_de, ['soccer', 'Fußball', 'fußball'], print_oov_check=True))"
   ]
  },
  {
   "cell_type": "markdown",
   "id": "ec331501",
   "metadata": {},
   "source": [
    "### Some more recent terms are not part of the vocabulary\n",
    "\n",
    "`Corona` & `coronavirus` have been around for a while, but `COVID` was not in the training data and shows up as \"similar\" to long and odd strings of text."
   ]
  },
  {
   "cell_type": "code",
   "execution_count": 226,
   "id": "9d4786c9",
   "metadata": {},
   "outputs": [
    {
     "name": "stdout",
     "output_type": "stream",
     "text": [
      "True -> corona in vocabulary?\n",
      "True -> coronavirus in vocabulary?\n",
      "True -> covid in vocabulary?\n"
     ]
    },
    {
     "data": {
      "text/html": [
       "<div>\n",
       "<style scoped>\n",
       "    .dataframe tbody tr th:only-of-type {\n",
       "        vertical-align: middle;\n",
       "    }\n",
       "\n",
       "    .dataframe tbody tr th {\n",
       "        vertical-align: top;\n",
       "    }\n",
       "\n",
       "    .dataframe thead th {\n",
       "        text-align: right;\n",
       "    }\n",
       "</style>\n",
       "<table border=\"1\" class=\"dataframe\">\n",
       "  <thead>\n",
       "    <tr style=\"text-align: right;\">\n",
       "      <th></th>\n",
       "      <th>'corona' similar_words</th>\n",
       "      <th>'corona' similarity_score</th>\n",
       "      <th></th>\n",
       "      <th>'coronavirus' similar_words</th>\n",
       "      <th>'coronavirus' similarity_score</th>\n",
       "      <th></th>\n",
       "      <th>'covid' similar_words</th>\n",
       "      <th>'covid' similarity_score</th>\n",
       "    </tr>\n",
       "  </thead>\n",
       "  <tbody>\n",
       "    <tr>\n",
       "      <th>0</th>\n",
       "      <td>coronae</td>\n",
       "      <td>0.699097</td>\n",
       "      <td>|</td>\n",
       "      <td>Coronavirus</td>\n",
       "      <td>0.755018</td>\n",
       "      <td>|</td>\n",
       "      <td>sehensw</td>\n",
       "      <td>0.476563</td>\n",
       "    </tr>\n",
       "    <tr>\n",
       "      <th>1</th>\n",
       "      <td>coronata</td>\n",
       "      <td>0.670230</td>\n",
       "      <td>|</td>\n",
       "      <td>Coronaviren</td>\n",
       "      <td>0.701213</td>\n",
       "      <td>|</td>\n",
       "      <td>2270800024h</td>\n",
       "      <td>0.452691</td>\n",
       "    </tr>\n",
       "    <tr>\n",
       "      <th>2</th>\n",
       "      <td>corone</td>\n",
       "      <td>0.651416</td>\n",
       "      <td>|</td>\n",
       "      <td>Alphavirus</td>\n",
       "      <td>0.689634</td>\n",
       "      <td>|</td>\n",
       "      <td>20171Sa2So3Mo4Di5Mi6Do7Fr8Sa9So10Mo11Di12Mi13D...</td>\n",
       "      <td>0.452116</td>\n",
       "    </tr>\n",
       "    <tr>\n",
       "      <th>3</th>\n",
       "      <td>coronaria</td>\n",
       "      <td>0.635078</td>\n",
       "      <td>|</td>\n",
       "      <td>Coronaviridae</td>\n",
       "      <td>0.685821</td>\n",
       "      <td>|</td>\n",
       "      <td>STANDARDJUNKERSKALDEWEIKERAMAGKEUCOLAUFENOVENT...</td>\n",
       "      <td>0.444858</td>\n",
       "    </tr>\n",
       "    <tr>\n",
       "      <th>4</th>\n",
       "      <td>coronation</td>\n",
       "      <td>0.633618</td>\n",
       "      <td>|</td>\n",
       "      <td>Bocavirus</td>\n",
       "      <td>0.657691</td>\n",
       "      <td>|</td>\n",
       "      <td>20171Di2Mi3Do4Fr5Sa6So7Mo8Di9Mi10Do11Fr12Sa13S...</td>\n",
       "      <td>0.442462</td>\n",
       "    </tr>\n",
       "    <tr>\n",
       "      <th>5</th>\n",
       "      <td>coronatus</td>\n",
       "      <td>0.610565</td>\n",
       "      <td>|</td>\n",
       "      <td>Parainfluenzavirus</td>\n",
       "      <td>0.655467</td>\n",
       "      <td>|</td>\n",
       "      <td>2RgYT2iGt9hGht0RHc3xiDib3o8</td>\n",
       "      <td>0.441883</td>\n",
       "    </tr>\n",
       "    <tr>\n",
       "      <th>6</th>\n",
       "      <td>coronare</td>\n",
       "      <td>0.606693</td>\n",
       "      <td>|</td>\n",
       "      <td>Bornavirus</td>\n",
       "      <td>0.649085</td>\n",
       "      <td>|</td>\n",
       "      <td>e34de00e-f716-4448-abfb-5d911c3859c6</td>\n",
       "      <td>0.439386</td>\n",
       "    </tr>\n",
       "    <tr>\n",
       "      <th>7</th>\n",
       "      <td>coronarium</td>\n",
       "      <td>0.585234</td>\n",
       "      <td>|</td>\n",
       "      <td>Cytomegalovirus</td>\n",
       "      <td>0.648879</td>\n",
       "      <td>|</td>\n",
       "      <td>ARIArieteArrowheadAthenaBeruBMWBoschBuzettiCha...</td>\n",
       "      <td>0.429309</td>\n",
       "    </tr>\n",
       "    <tr>\n",
       "      <th>8</th>\n",
       "      <td>bronce</td>\n",
       "      <td>0.541351</td>\n",
       "      <td>|</td>\n",
       "      <td>Arenaviren</td>\n",
       "      <td>0.647243</td>\n",
       "      <td>|</td>\n",
       "      <td>ROMEO5ARO8AUDI9AUSTIN12AUTOBIANCHI18BMW22CADIL...</td>\n",
       "      <td>0.427667</td>\n",
       "    </tr>\n",
       "    <tr>\n",
       "      <th>9</th>\n",
       "      <td>coronary</td>\n",
       "      <td>0.540825</td>\n",
       "      <td>|</td>\n",
       "      <td>Papillomavirus</td>\n",
       "      <td>0.642728</td>\n",
       "      <td>|</td>\n",
       "      <td>20181Do2Fr3Sa4So5Mo6Di7Mi8Do9Fr10Sa11So12Mo13D...</td>\n",
       "      <td>0.427303</td>\n",
       "    </tr>\n",
       "  </tbody>\n",
       "</table>\n",
       "</div>"
      ],
      "text/plain": [
       "  'corona' similar_words  'corona' similarity_score    'coronavirus' similar_words  'coronavirus' similarity_score                                 'covid' similar_words  'covid' similarity_score\n",
       "0                coronae                   0.699097  |                 Coronavirus                        0.755018  |                                            sehensw                  0.476563\n",
       "1               coronata                   0.670230  |                 Coronaviren                        0.701213  |                                        2270800024h                  0.452691\n",
       "2                 corone                   0.651416  |                  Alphavirus                        0.689634  |  20171Sa2So3Mo4Di5Mi6Do7Fr8Sa9So10Mo11Di12Mi13D...                  0.452116\n",
       "3              coronaria                   0.635078  |               Coronaviridae                        0.685821  |  STANDARDJUNKERSKALDEWEIKERAMAGKEUCOLAUFENOVENT...                  0.444858\n",
       "4             coronation                   0.633618  |                   Bocavirus                        0.657691  |  20171Di2Mi3Do4Fr5Sa6So7Mo8Di9Mi10Do11Fr12Sa13S...                  0.442462\n",
       "5              coronatus                   0.610565  |          Parainfluenzavirus                        0.655467  |                        2RgYT2iGt9hGht0RHc3xiDib3o8                  0.441883\n",
       "6               coronare                   0.606693  |                  Bornavirus                        0.649085  |               e34de00e-f716-4448-abfb-5d911c3859c6                  0.439386\n",
       "7             coronarium                   0.585234  |             Cytomegalovirus                        0.648879  |  ARIArieteArrowheadAthenaBeruBMWBoschBuzettiCha...                  0.429309\n",
       "8                 bronce                   0.541351  |                  Arenaviren                        0.647243  |  ROMEO5ARO8AUDI9AUSTIN12AUTOBIANCHI18BMW22CADIL...                  0.427667\n",
       "9               coronary                   0.540825  |              Papillomavirus                        0.642728  |  20181Do2Fr3Sa4So5Mo6Di7Mi8Do9Fr10Sa11So12Mo13D...                  0.427303"
      ]
     },
     "metadata": {},
     "output_type": "display_data"
    }
   ],
   "source": [
    "pd.set_option('display.max_colwidth', 50)\n",
    "display(get_df_for_most_similar(ft_de, ['corona', 'coronavirus', 'covid'], print_oov_check=True))\n",
    "pd.set_option('display.max_colwidth', 240)"
   ]
  },
  {
   "cell_type": "markdown",
   "id": "c598b887",
   "metadata": {},
   "source": [
    "### Emoji"
   ]
  },
  {
   "cell_type": "code",
   "execution_count": 227,
   "id": "0d93a841",
   "metadata": {},
   "outputs": [
    {
     "data": {
      "text/plain": [
       "[('Methodenauswahl', 0.0),\n",
       " ('US-Notenbankchefin', 0.0),\n",
       " ('Johann-Friedrich-Danneil-Museum', 0.0),\n",
       " ('Klaus-Harms-Schule', 0.0),\n",
       " ('Issole', 0.0),\n",
       " ('Zwischenschalten', 0.0),\n",
       " ('entkoppelter', 0.0),\n",
       " ('Emmily', 0.0),\n",
       " ('Zeitschriftenausgaben', 0.0),\n",
       " ('Junqueiro', 0.0)]"
      ]
     },
     "execution_count": 227,
     "metadata": {},
     "output_type": "execute_result"
    }
   ],
   "source": [
    "ft_de.most_similar(\"🇩🇪\")"
   ]
  },
  {
   "cell_type": "code",
   "execution_count": 195,
   "id": "5ee68208",
   "metadata": {},
   "outputs": [
    {
     "data": {
      "text/plain": [
       "[('Methodenauswahl', 0.0),\n",
       " ('US-Notenbankchefin', 0.0),\n",
       " ('Johann-Friedrich-Danneil-Museum', 0.0),\n",
       " ('Klaus-Harms-Schule', 0.0),\n",
       " ('Issole', 0.0),\n",
       " ('Zwischenschalten', 0.0),\n",
       " ('entkoppelter', 0.0),\n",
       " ('Emmily', 0.0),\n",
       " ('Zeitschriftenausgaben', 0.0),\n",
       " ('Junqueiro', 0.0)]"
      ]
     },
     "execution_count": 195,
     "metadata": {},
     "output_type": "execute_result"
    }
   ],
   "source": [
    "ft_de.most_similar(\"🐸\")"
   ]
  },
  {
   "cell_type": "code",
   "execution_count": 228,
   "id": "f195b4ae",
   "metadata": {},
   "outputs": [
    {
     "data": {
      "text/plain": [
       "[('081', 0.5792489051818848),\n",
       " ('041', 0.5722817182540894),\n",
       " ('071', 0.5150038003921509),\n",
       " ('079', 0.5042275190353394),\n",
       " ('062', 0.4915590286254883),\n",
       " ('Schnebli', 0.48472845554351807),\n",
       " ('044', 0.4835275411605835),\n",
       " ('055', 0.4824221432209015),\n",
       " ('CH-1712', 0.4817127585411072),\n",
       " ('Schäfli', 0.48153847455978394)]"
      ]
     },
     "execution_count": 228,
     "metadata": {},
     "output_type": "execute_result"
    }
   ],
   "source": [
    "ft_de.most_similar(\"ich🇩🇪iel\")"
   ]
  },
  {
   "cell_type": "code",
   "execution_count": 92,
   "id": "bfbc8500",
   "metadata": {},
   "outputs": [
    {
     "data": {
      "text/plain": [
       "[('HelmRitterhelm', 0.5055542588233948),\n",
       " ('Halbschalenhelm', 0.4618237316608429),\n",
       " ('Dachhelm', 0.45038658380508423),\n",
       " ('Sporthelm', 0.44350433349609375),\n",
       " ('KaplaKaspar', 0.44235432147979736),\n",
       " ('AccessWissenstransferKarl', 0.4404061436653137),\n",
       " ('Kammhelm', 0.44026464223861694),\n",
       " ('mattReflektor', 0.43612435460090637),\n",
       " ('Lampin', 0.4357553720474243),\n",
       " ('volkmar', 0.4348251223564148)]"
      ]
     },
     "execution_count": 92,
     "metadata": {},
     "output_type": "execute_result"
    }
   ],
   "source": [
    "ft_de.most_similar(\"ich🐸iel\")"
   ]
  },
  {
   "cell_type": "code",
   "execution_count": 68,
   "id": "d9e1bfe7",
   "metadata": {},
   "outputs": [
    {
     "data": {
      "text/plain": [
       "[('v', 0.4977104663848877),\n",
       " ('rn', 0.48465555906295776),\n",
       " ('nd', 0.4633084535598755),\n",
       " ('wn', 0.45827677845954895),\n",
       " ('iele', 0.45819616317749023),\n",
       " ('ar', 0.45698654651641846),\n",
       " ('ebt', 0.455821692943573),\n",
       " ('z', 0.4551096558570862),\n",
       " ('eiß', 0.4541691541671753),\n",
       " ('ery', 0.45227232575416565)]"
      ]
     },
     "execution_count": 68,
     "metadata": {},
     "output_type": "execute_result"
    }
   ],
   "source": [
    "ft_de.most_similar(\"iel\")"
   ]
  },
  {
   "cell_type": "code",
   "execution_count": 69,
   "id": "b8a79e32",
   "metadata": {},
   "outputs": [
    {
     "data": {
      "text/plain": [
       "[('OML', 0.5013827085494995),\n",
       " ('JEL', 0.4898484945297241),\n",
       " ('CIAA', 0.479758083820343),\n",
       " ('NHE', 0.4766197204589844),\n",
       " ('IEW', 0.46671175956726074),\n",
       " ('IDI', 0.4656735956668854),\n",
       " ('ACPA', 0.4605969786643982),\n",
       " ('CIFE', 0.45994144678115845),\n",
       " ('CEPE', 0.4564463794231415),\n",
       " ('IAL', 0.4564042091369629)]"
      ]
     },
     "execution_count": 69,
     "metadata": {},
     "output_type": "execute_result"
    }
   ],
   "source": [
    "ft_de.most_similar(\"IEL\")"
   ]
  },
  {
   "cell_type": "code",
   "execution_count": 71,
   "id": "38336fe5",
   "metadata": {},
   "outputs": [
    {
     "data": {
      "text/plain": [
       "[('queen', 0.5639194846153259),\n",
       " ('women', 0.5232468843460083),\n",
       " ('lady', 0.5213222503662109),\n",
       " ('kings', 0.5168982744216919),\n",
       " ('clad', 0.5126449465751648),\n",
       " ('wives', 0.510648250579834),\n",
       " ('eyed', 0.5080440044403076),\n",
       " ('fiery', 0.4963497221469879),\n",
       " ('crown', 0.4944778084754944),\n",
       " ('masterpiece', 0.49412137269973755)]"
      ]
     },
     "execution_count": 71,
     "metadata": {},
     "output_type": "execute_result"
    }
   ],
   "source": [
    "ft_de.most_similar(positive=['woman', 'king'], negative=['man'])"
   ]
  },
  {
   "cell_type": "code",
   "execution_count": 72,
   "id": "3e89f811",
   "metadata": {},
   "outputs": [
    {
     "data": {
      "text/plain": [
       "[('Königin', 0.6669619679450989),\n",
       " ('Königs', 0.606950044631958),\n",
       " ('Elisabeth', 0.5830625295639038),\n",
       " ('Prinzessin', 0.5826852321624756),\n",
       " ('Beatrix', 0.5708266496658325),\n",
       " ('Katharina', 0.5664329528808594),\n",
       " ('Margarete', 0.5610044002532959),\n",
       " ('Ludwig', 0.557565450668335),\n",
       " ('Heinrich', 0.5511189699172974),\n",
       " ('Kaiserin', 0.548440158367157)]"
      ]
     },
     "execution_count": 72,
     "metadata": {},
     "output_type": "execute_result"
    }
   ],
   "source": [
    "ft_de.most_similar(positive=['Frau', 'König'], negative=['Mann'])"
   ]
  },
  {
   "cell_type": "markdown",
   "id": "d5baeaa5",
   "metadata": {},
   "source": [
    "# Prepare text for embedding conversion\n",
    "\n",
    "> If you import the FAST_VERSION variable as follows you can ensure, that the compiliation of the cython routines worked correctly:\n",
    ">\n",
    "> `print(FAST_VERSION) == 1 -> The fast version works`\n",
    "\n"
   ]
  },
  {
   "cell_type": "code",
   "execution_count": null,
   "id": "92f5e164",
   "metadata": {},
   "outputs": [],
   "source": [
    "TODO"
   ]
  },
  {
   "cell_type": "code",
   "execution_count": 234,
   "id": "dd5e8c7d",
   "metadata": {},
   "outputs": [
    {
     "name": "stdout",
     "output_type": "stream",
     "text": [
      "10000\n",
      "1\n"
     ]
    }
   ],
   "source": [
    "from fse.models.average import FAST_VERSION, MAX_WORDS_IN_BATCH\n",
    "from fse import SplitCIndexedList\n",
    "\n",
    "print(MAX_WORDS_IN_BATCH)\n",
    "print(FAST_VERSION)\n",
    "# 1 -> The fast version works"
   ]
  },
  {
   "cell_type": "code",
   "execution_count": 233,
   "id": "c613b784",
   "metadata": {},
   "outputs": [],
   "source": [
    "fse_usif = uSIF(ft_de, workers=4, length=11, lang_freq=\"en\")"
   ]
  },
  {
   "cell_type": "markdown",
   "id": "3a3ecaa1",
   "metadata": {},
   "source": [
    "## Convert the sentences to the fse expected format"
   ]
  },
  {
   "cell_type": "code",
   "execution_count": 248,
   "id": "1a27baae",
   "metadata": {},
   "outputs": [],
   "source": [
    "# df_posts.head()"
   ]
  },
  {
   "cell_type": "markdown",
   "id": "28b5706c",
   "metadata": {},
   "source": [
    "By default, `SplitCIndexedList` only splits by spaces. Consider a better tokenizer, like the one used in the STS benchmarks: https://github.com/oborchers/Fast_Sentence_Embeddings/blob/master/notebooks/STS-Benchmarks.ipynb"
   ]
  },
  {
   "cell_type": "code",
   "execution_count": 241,
   "id": "d082f6bc",
   "metadata": {},
   "outputs": [],
   "source": [
    "n_sample = 30\n",
    "d_post_id_to_ix = {\n",
    "    post_id: ix for ix, post_id in enumerate(df_posts['post_id'].head(n_sample))\n",
    "}\n",
    "\n",
    "\n",
    "indexed_posts = SplitCIndexedList(\n",
    "    df_posts['text'].head(n_sample).values,\n",
    "    custom_index=[d_post_id_to_ix[post_id] for post_id in df_posts['post_id'].head(n_sample)]\n",
    ")"
   ]
  },
  {
   "cell_type": "code",
   "execution_count": 242,
   "id": "3688ce67",
   "metadata": {},
   "outputs": [
    {
     "data": {
      "text/plain": [
       "(['ich🍺iel'], 1)"
      ]
     },
     "execution_count": 242,
     "metadata": {},
     "output_type": "execute_result"
    }
   ],
   "source": [
    "indexed_posts[1]"
   ]
  },
  {
   "cell_type": "code",
   "execution_count": 243,
   "id": "b1055492",
   "metadata": {},
   "outputs": [
    {
     "data": {
      "text/plain": [
       "(['ich\\U0001f971💤iel'], 3)"
      ]
     },
     "execution_count": 243,
     "metadata": {},
     "output_type": "execute_result"
    }
   ],
   "source": [
    "indexed_posts[3]"
   ]
  },
  {
   "cell_type": "code",
   "execution_count": 247,
   "id": "5ca6bd28",
   "metadata": {},
   "outputs": [
    {
     "data": {
      "text/plain": [
       "(['VOR',\n",
       "  'EU-TREFFEN',\n",
       "  'MIT',\n",
       "  'ERDOGAN',\n",
       "  'Manfred',\n",
       "  'Weber',\n",
       "  'nennt',\n",
       "  'türkischen',\n",
       "  'EU-Beitritt',\n",
       "  '„Illusion'],\n",
       " 28)"
      ]
     },
     "execution_count": 247,
     "metadata": {},
     "output_type": "execute_result"
    }
   ],
   "source": [
    "indexed_posts[-2]"
   ]
  },
  {
   "cell_type": "code",
   "execution_count": 246,
   "id": "b311a05c",
   "metadata": {},
   "outputs": [
    {
     "data": {
      "text/plain": [
       "'VOR EU-TREFFEN MIT ERDOGAN Manfred Weber nennt türkischen EU-Beitritt „Illusion '"
      ]
     },
     "execution_count": 246,
     "metadata": {},
     "output_type": "execute_result"
    }
   ],
   "source": [
    "indexed_posts.items[-2]"
   ]
  },
  {
   "cell_type": "markdown",
   "id": "d16d8071",
   "metadata": {},
   "source": [
    "## Train on a sample of posts"
   ]
  },
  {
   "cell_type": "code",
   "execution_count": 249,
   "id": "8848c8f9",
   "metadata": {},
   "outputs": [
    {
     "name": "stdout",
     "output_type": "stream",
     "text": [
      "CPU times: user 8.64 s, sys: 324 ms, total: 8.97 s\n",
      "Wall time: 8.44 s\n"
     ]
    },
    {
     "data": {
      "text/plain": [
       "(30, 410)"
      ]
     },
     "execution_count": 249,
     "metadata": {},
     "output_type": "execute_result"
    }
   ],
   "source": [
    "%%time\n",
    "\n",
    "fse_usif.train(indexed_posts)"
   ]
  },
  {
   "cell_type": "code",
   "execution_count": 251,
   "id": "6a2ba404",
   "metadata": {},
   "outputs": [
    {
     "name": "stdout",
     "output_type": "stream",
     "text": [
      "CPU times: user 33.3 ms, sys: 560 µs, total: 33.8 ms\n",
      "Wall time: 31.6 ms\n"
     ]
    }
   ],
   "source": [
    "%%time\n",
    "\n",
    "vectorized_posts = fse_usif.infer(indexed_posts)"
   ]
  },
  {
   "cell_type": "code",
   "execution_count": 252,
   "id": "968f825c",
   "metadata": {},
   "outputs": [
    {
     "data": {
      "text/plain": [
       "(30, 300)"
      ]
     },
     "execution_count": 252,
     "metadata": {},
     "output_type": "execute_result"
    }
   ],
   "source": [
    "vectorized_posts.shape"
   ]
  },
  {
   "cell_type": "code",
   "execution_count": null,
   "id": "0c5dca5a",
   "metadata": {},
   "outputs": [],
   "source": []
  }
 ],
 "metadata": {
  "environment": {
   "name": "common-cpu.m65",
   "type": "gcloud",
   "uri": "gcr.io/deeplearning-platform-release/base-cpu:m65"
  },
  "kernelspec": {
   "display_name": "Python 3",
   "language": "python",
   "name": "python3"
  },
  "language_info": {
   "codemirror_mode": {
    "name": "ipython",
    "version": 3
   },
   "file_extension": ".py",
   "mimetype": "text/x-python",
   "name": "python",
   "nbconvert_exporter": "python",
   "pygments_lexer": "ipython3",
   "version": "3.7.10"
  }
 },
 "nbformat": 4,
 "nbformat_minor": 5
}
