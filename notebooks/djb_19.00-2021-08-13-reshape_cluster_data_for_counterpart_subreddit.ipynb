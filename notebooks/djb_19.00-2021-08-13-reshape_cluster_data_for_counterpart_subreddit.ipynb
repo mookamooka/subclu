{
 "cells": [
  {
   "cell_type": "markdown",
   "id": "ab3096ee",
   "metadata": {},
   "source": [
    "# Purpose\n",
    "\n",
    "This one demos output for `v0.3.2` that includes top subreddits (no Geo) AND German-relevant subreddits! Should be helpful to check for subreddit counterparts.\n",
    "\n",
    "Use this notebook to present the outputs for the final output (or close to it). \n",
    "\n",
    "We need this notebook to show some clear examples on how to use the data and where/how we can use it."
   ]
  },
  {
   "cell_type": "markdown",
   "id": "e94bc94b",
   "metadata": {},
   "source": [
    "# Imports & Setup"
   ]
  },
  {
   "cell_type": "code",
   "execution_count": 1,
   "id": "07ca5528",
   "metadata": {},
   "outputs": [],
   "source": [
    "%load_ext autoreload\n",
    "%autoreload 2"
   ]
  },
  {
   "cell_type": "code",
   "execution_count": 116,
   "id": "47ceaf8e",
   "metadata": {},
   "outputs": [
    {
     "name": "stdout",
     "output_type": "stream",
     "text": [
      "python\t\tv 3.7.10\n",
      "===\n",
      "numpy\t\tv: 1.19.5\n",
      "pandas\t\tv: 1.2.4\n",
      "plotly\t\tv: 4.14.3\n",
      "seaborn\t\tv: 0.11.1\n",
      "subclu\t\tv: 0.3.2\n"
     ]
    }
   ],
   "source": [
    "from datetime import datetime\n",
    "import logging\n",
    "from pprint import pprint\n",
    "\n",
    "import numpy as np\n",
    "import pandas as pd\n",
    "import plotly\n",
    "import plotly.express as px\n",
    "import seaborn as sns\n",
    "\n",
    "import mlflow\n",
    "\n",
    "import omegaconf\n",
    "from omegaconf import OmegaConf\n",
    "from subclu.utils.hydra_config_loader import LoadHydraConfig\n",
    "\n",
    "import subclu\n",
    "from subclu.data.data_loaders import LoadSubreddits, LoadPosts\n",
    "from subclu.utils import set_working_directory\n",
    "from subclu.utils.eda import (\n",
    "    setup_logging, counts_describe, value_counts_and_pcts,\n",
    "    notebook_display_config, print_lib_versions,\n",
    "    style_df_numeric, reorder_array,\n",
    ")\n",
    "\n",
    "from subclu.utils.mlflow_logger import MlflowLogger\n",
    "from subclu.eda.aggregates import compare_raw_v_weighted_language\n",
    "from subclu.utils.data_irl_style import (\n",
    "    get_colormap, theme_dirl\n",
    ")\n",
    "\n",
    "# ---\n",
    "from tqdm.auto import tqdm\n",
    "from subclu.data.counterpart_loaders import (\n",
    "    LoadCounterpartSeeds,\n",
    "    combine_reshaped_seeds\n",
    ")\n",
    "from subclu.data.prepare_subreddit_clusters_for_qa import (\n",
    "    reshape_for_distance_qa\n",
    ")\n",
    "\n",
    "\n",
    "print_lib_versions([np, pd, plotly, sns, subclu])"
   ]
  },
  {
   "cell_type": "code",
   "execution_count": 3,
   "id": "e4dca947",
   "metadata": {},
   "outputs": [],
   "source": [
    "# plotting\n",
    "import matplotlib.pyplot as plt\n",
    "import matplotlib.ticker as mtick\n",
    "import matplotlib.dates as mdates\n",
    "plt.style.use('default')\n",
    "\n",
    "setup_logging()\n",
    "notebook_display_config()"
   ]
  },
  {
   "cell_type": "markdown",
   "id": "e2a040eb",
   "metadata": {},
   "source": [
    "# Load configs\n",
    "\n",
    "Use Hydra configs to make it easier to replicate the run.\n",
    "\n",
    "Copy the config to the model folder so it's easier to trace it back"
   ]
  },
  {
   "cell_type": "code",
   "execution_count": 141,
   "id": "a54d8db8",
   "metadata": {},
   "outputs": [
    {
     "name": "stdout",
     "output_type": "stream",
     "text": [
      "{'bucket_name': 'i18n-subreddit-clustering',\n",
      " 'dataset_name': 'German subreddit seeds for counterparts',\n",
      " 'f_seeds1': 'Criteria for default subs - [OLD]default '\n",
      "             'subs-2021-08-13_15-17.csv',\n",
      " 'f_seeds2': 'Criteria for default subs - [final] '\n",
      "             'autosub+counterpart-2021-08-18.csv',\n",
      " 'f_skiprows1': 3,\n",
      " 'f_skiprows2': 1,\n",
      " 'folder_data_prefix': 'data/subreddit_counterparts'}\n"
     ]
    }
   ],
   "source": [
    "config_clustering_v032a = LoadHydraConfig(\n",
    "    config_name='cluster_output',\n",
    "    config_path=\"../config\",\n",
    "    overrides=[\n",
    "        f\"data_text_and_metadata=top_subreddits_2021_07_16\",\n",
    "        f\"data_embeddings_to_cluster=top_subs-2021_07_16-use_multi_lower_case_false_00\",\n",
    "        f\"data_cluster_outputs=top_subreddits_v0.3.2a\",\n",
    "    ],\n",
    ")\n",
    "config_seeds = LoadHydraConfig(\n",
    "    config_name='seed_counterparts_germany_2021-08-17',\n",
    "    config_path=\"../config/data_subreddit_counterparts\",\n",
    ")\n",
    "\n",
    "# pprint(config_clustering_v032a.config_dict, indent=2)\n",
    "pprint(config_seeds.config_dict)"
   ]
  },
  {
   "cell_type": "code",
   "execution_count": 142,
   "id": "7c8e02c7",
   "metadata": {},
   "outputs": [],
   "source": [
    "# Extract CLUSTERING keys into easier to call\n",
    "d_embeddings = config_clustering_v032a.config_dict['data_embeddings_to_cluster']\n",
    "d_conf_meta = config_clustering_v032a.config_dict['data_text_and_metadata']\n",
    "d_clusters = config_clustering_v032a.config_dict['data_cluster_outputs']\n",
    "\n",
    "# embedding data\n",
    "run_uuid = d_embeddings['run_uuid']\n",
    "\n",
    "f_embeddings_sub_level = d_embeddings['df_sub_level_agg_c_post_comments_and_sub_desc']\n",
    "f_embeddings_post_level = d_embeddings['df_post_level_agg_c_post_comments_sub_desc']\n",
    "\n",
    "f_sub_distance_c = d_embeddings['df_sub_level_agg_c_post_comments_and_sub_desc_similarity']\n",
    "f_sub_dist_pair_c = d_embeddings['df_sub_level_agg_c_post_comments_and_sub_desc_similarity_pair']\n",
    "\n",
    "l_ix_sub = d_embeddings['l_ix_sub']  # 'subreddit_id',  b/c of dask's multi-index, I'm only using name\n",
    "l_ix_post = d_embeddings['l_ix_post']\n",
    "\n",
    "# cluster output data\n",
    "bucket_and_folder_prefix = f\"gs://{d_clusters['bucket_name']}/{d_clusters['folder_model_outputs']}\"\n",
    "f_subs_c_cluster_labels = d_clusters['f_subs_agg_c_cluster_labels']\n",
    "f_subs_c_similarity_pair = d_clusters['f_subs_agg_c_similarity_pair']\n",
    "col_best_clusters_a = d_clusters['col_best_clusters_a']\n",
    "# NEW cluster-QA file (2021-08-19)\n",
    "f_cluster_summary_qa = d_clusters['f_cluster_summary_qa']"
   ]
  },
  {
   "cell_type": "code",
   "execution_count": 143,
   "id": "69a85d65",
   "metadata": {},
   "outputs": [
    {
     "data": {
      "text/plain": [
       "'gs://i18n-subreddit-clustering/data/subreddit_counterparts/Criteria for default subs - [OLD]default subs-2021-08-13_15-17.csv'"
      ]
     },
     "execution_count": 143,
     "metadata": {},
     "output_type": "execute_result"
    }
   ],
   "source": [
    "# Extract seed configs\n",
    "gcs_seeds_path = (\n",
    "    f\"gs://{config_seeds.config_dict['bucket_name']}/\"\n",
    "    f\"{config_seeds.config_dict['folder_data_prefix']}/\"\n",
    "    f\"{config_seeds.config_dict['f_seeds1']}\"\n",
    ")\n",
    "gcs_seeds_path"
   ]
  },
  {
   "cell_type": "markdown",
   "id": "a390f89c",
   "metadata": {},
   "source": [
    "# Load German geo-relevant & Ambassador subreddits\n",
    "\n",
    "Need to export them from BigQuery first (sigh).\n",
    "\n",
    "Use them to create flags to make it easier to find counterparts."
   ]
  },
  {
   "cell_type": "code",
   "execution_count": 6,
   "id": "035e895b",
   "metadata": {},
   "outputs": [],
   "source": [
    "config_geo_relevant = LoadHydraConfig(\n",
    "    config_name='geo_relevant_subs_2021-08-18',\n",
    "    config_path=\"../config/data_geo_relevant_subreddits\",\n",
    ")\n",
    "config_ambassador = LoadHydraConfig(\n",
    "    config_name='de_ambassador_subs_2021-08-18',\n",
    "    config_path=\"../config/data_ambassador_subreddits\",\n",
    ")"
   ]
  },
  {
   "cell_type": "code",
   "execution_count": 7,
   "id": "54582d2f",
   "metadata": {},
   "outputs": [
    {
     "name": "stdout",
     "output_type": "stream",
     "text": [
      "(8115, 6)\n",
      "CPU times: user 256 ms, sys: 30.4 ms, total: 287 ms\n",
      "Wall time: 1.3 s\n"
     ]
    }
   ],
   "source": [
    "%%time\n",
    "\n",
    "df_geo = pd.read_parquet(\n",
    "    f\"gs://{config_geo_relevant.config_dict['bucket_name']}/\"\n",
    "    f\"{config_geo_relevant.config_dict['folder_data_prefix']}/\"\n",
    ")\n",
    "print(df_geo.shape)"
   ]
  },
  {
   "cell_type": "code",
   "execution_count": 8,
   "id": "51a675bd",
   "metadata": {},
   "outputs": [
    {
     "name": "stdout",
     "output_type": "stream",
     "text": [
      "(171, 3)\n",
      "CPU times: user 9.07 ms, sys: 10.2 ms, total: 19.2 ms\n",
      "Wall time: 630 ms\n"
     ]
    }
   ],
   "source": [
    "%%time\n",
    "\n",
    "df_ambassador = pd.read_parquet(\n",
    "    f\"gs://{config_ambassador.config_dict['bucket_name']}/\"\n",
    "    f\"{config_ambassador.config_dict['folder_data_prefix']}/\"\n",
    ")\n",
    "print(df_ambassador.shape)"
   ]
  },
  {
   "cell_type": "markdown",
   "id": "2d2b71f3",
   "metadata": {},
   "source": [
    "# Load Seeds\n",
    "\n",
    "This class takes care of renaming and cleaning up a lot of columns"
   ]
  },
  {
   "cell_type": "markdown",
   "id": "1844e005",
   "metadata": {},
   "source": [
    "### Original format (wide, counterparts are in columns)\n",
    "\n",
    "No need to load in this shape except for QA... see section below that gets us the shape we need."
   ]
  },
  {
   "cell_type": "code",
   "execution_count": 9,
   "id": "2d8a0bd6",
   "metadata": {},
   "outputs": [],
   "source": [
    "# %%time\n",
    "# df_sub_seeds_old = LoadCounterpartSeeds(\n",
    "#     bucket_name=config_seeds.config_dict['bucket_name'],\n",
    "#     folder_path=config_seeds.config_dict['folder_data_prefix'],\n",
    "#     file_name=config_seeds.config_dict['f_seeds1'],\n",
    "#     skiprows=config_seeds.config_dict['f_skiprows1'],\n",
    "#     columns='core_columns',\n",
    "#     df_format='pandas_csv',\n",
    "# ).read_and_transform()\n",
    "# print(df_sub_seeds.shape)"
   ]
  },
  {
   "cell_type": "code",
   "execution_count": 10,
   "id": "9d8d5533",
   "metadata": {},
   "outputs": [],
   "source": [
    "# %%time\n",
    "# df_sub_seeds_new = LoadCounterpartSeeds(\n",
    "#     bucket_name=config_seeds.config_dict['bucket_name'],\n",
    "#     folder_path=config_seeds.config_dict['folder_data_prefix'],\n",
    "#     file_name=config_seeds.config_dict['f_seeds2'],\n",
    "#     skiprows=config_seeds.config_dict['f_skiprows2'],\n",
    "#     columns='core_columns',\n",
    "#     df_format='pandas_csv',\n",
    "# ).read_and_transform()\n",
    "# print(df_sub_seeds_new.shape)"
   ]
  },
  {
   "cell_type": "code",
   "execution_count": 11,
   "id": "3a302d86",
   "metadata": {},
   "outputs": [],
   "source": [
    "# counts_describe(df_sub_seeds_old)"
   ]
  },
  {
   "cell_type": "code",
   "execution_count": 12,
   "id": "3cbeec11",
   "metadata": {},
   "outputs": [],
   "source": [
    "# counts_describe(df_sub_seeds_new)"
   ]
  },
  {
   "cell_type": "code",
   "execution_count": 13,
   "id": "53320cea",
   "metadata": {},
   "outputs": [],
   "source": [
    "# df_sub_seeds_new.head()"
   ]
  },
  {
   "cell_type": "code",
   "execution_count": 14,
   "id": "c94813da",
   "metadata": {},
   "outputs": [],
   "source": [
    "# df_sub_seeds_old.head()"
   ]
  },
  {
   "cell_type": "code",
   "execution_count": 15,
   "id": "d7a2d00c",
   "metadata": {},
   "outputs": [],
   "source": [
    "# del df_sub_seeds_new, df_sub_seeds_old"
   ]
  },
  {
   "cell_type": "markdown",
   "id": "53649563",
   "metadata": {},
   "source": [
    "### Load reshaped format (long - each counterpart is a row)"
   ]
  },
  {
   "cell_type": "code",
   "execution_count": 17,
   "id": "5efefccc",
   "metadata": {},
   "outputs": [
    {
     "name": "stderr",
     "output_type": "stream",
     "text": [
      "15:22:31 | INFO | \"Reading raw data...\"\n",
      "15:22:31 | INFO | \"Local folder to download artifact(s):\n",
      "  /home/jupyter/subreddit_clustering_i18n/data/local_cache/data/subreddit_counterparts\"\n"
     ]
    },
    {
     "data": {
      "application/vnd.jupyter.widget-view+json": {
       "model_id": "cddf8dc206b1482685a39bf8d49d8271",
       "version_major": 2,
       "version_minor": 0
      },
      "text/plain": [
       "  0%|          | 0/1 [00:00<?, ?it/s]"
      ]
     },
     "metadata": {},
     "output_type": "display_data"
    },
    {
     "name": "stderr",
     "output_type": "stream",
     "text": [
      "15:22:32 | INFO | \"  Applying transformations...\"\n"
     ]
    },
    {
     "name": "stdout",
     "output_type": "stream",
     "text": [
      "(80, 9)\n"
     ]
    }
   ],
   "source": [
    "df_sub_seeds_reshape_old = LoadCounterpartSeeds(\n",
    "    bucket_name=config_seeds.config_dict['bucket_name'],\n",
    "    folder_path=config_seeds.config_dict['folder_data_prefix'],\n",
    "    file_name=config_seeds.config_dict['f_seeds1'],\n",
    "    skiprows=config_seeds.config_dict['f_skiprows1'],\n",
    "    columns='core_columns',\n",
    "    df_format='pandas_csv',\n",
    ").read_and_reshape_to_rows()\n",
    "print(df_sub_seeds_reshape_old.shape)"
   ]
  },
  {
   "cell_type": "code",
   "execution_count": 18,
   "id": "a4ddc4b2",
   "metadata": {},
   "outputs": [
    {
     "name": "stderr",
     "output_type": "stream",
     "text": [
      "15:22:32 | INFO | \"Reading raw data...\"\n",
      "15:22:32 | INFO | \"Local folder to download artifact(s):\n",
      "  /home/jupyter/subreddit_clustering_i18n/data/local_cache/data/subreddit_counterparts\"\n"
     ]
    },
    {
     "data": {
      "application/vnd.jupyter.widget-view+json": {
       "model_id": "fff5cbc0a45f47d5ade9d421b34a284d",
       "version_major": 2,
       "version_minor": 0
      },
      "text/plain": [
       "  0%|          | 0/1 [00:00<?, ?it/s]"
      ]
     },
     "metadata": {},
     "output_type": "display_data"
    },
    {
     "name": "stderr",
     "output_type": "stream",
     "text": [
      "15:22:33 | INFO | \"  Applying transformations...\"\n"
     ]
    },
    {
     "name": "stdout",
     "output_type": "stream",
     "text": [
      "(74, 13)\n"
     ]
    }
   ],
   "source": [
    "df_sub_seeds_reshape_new = LoadCounterpartSeeds(\n",
    "    bucket_name=config_seeds.config_dict['bucket_name'],\n",
    "    folder_path=config_seeds.config_dict['folder_data_prefix'],\n",
    "    file_name=config_seeds.config_dict['f_seeds2'],\n",
    "    skiprows=config_seeds.config_dict['f_skiprows2'],\n",
    "    columns='core_columns',\n",
    "    df_format='pandas_csv',\n",
    ").read_and_reshape_to_rows()\n",
    "print(df_sub_seeds_reshape_new.shape)"
   ]
  },
  {
   "cell_type": "code",
   "execution_count": 19,
   "id": "32d8f18a",
   "metadata": {},
   "outputs": [
    {
     "data": {
      "text/html": [
       "<style  type=\"text/css\" >\n",
       "</style><table id=\"T_71e01_\" ><thead>    <tr>        <th class=\"blank level0\" ></th>        <th class=\"col_heading level0 col0\" >dtype</th>        <th class=\"col_heading level0 col1\" >count</th>        <th class=\"col_heading level0 col2\" >unique</th>        <th class=\"col_heading level0 col3\" >unique-percent</th>        <th class=\"col_heading level0 col4\" >null-count</th>        <th class=\"col_heading level0 col5\" >null-percent</th>    </tr></thead><tbody>\n",
       "                <tr>\n",
       "                        <th id=\"T_71e01_level0_row0\" class=\"row_heading level0 row0\" >subreddit_name</th>\n",
       "                        <td id=\"T_71e01_row0_col0\" class=\"data row0 col0\" >object</td>\n",
       "                        <td id=\"T_71e01_row0_col1\" class=\"data row0 col1\" >80</td>\n",
       "                        <td id=\"T_71e01_row0_col2\" class=\"data row0 col2\" >62</td>\n",
       "                        <td id=\"T_71e01_row0_col3\" class=\"data row0 col3\" >77.50%</td>\n",
       "                        <td id=\"T_71e01_row0_col4\" class=\"data row0 col4\" >0</td>\n",
       "                        <td id=\"T_71e01_row0_col5\" class=\"data row0 col5\" >0.00%</td>\n",
       "            </tr>\n",
       "            <tr>\n",
       "                        <th id=\"T_71e01_level0_row1\" class=\"row_heading level0 row1\" >manual_counterpart</th>\n",
       "                        <td id=\"T_71e01_row1_col0\" class=\"data row1 col0\" >object</td>\n",
       "                        <td id=\"T_71e01_row1_col1\" class=\"data row1 col1\" >71</td>\n",
       "                        <td id=\"T_71e01_row1_col2\" class=\"data row1 col2\" >2</td>\n",
       "                        <td id=\"T_71e01_row1_col3\" class=\"data row1 col3\" >2.82%</td>\n",
       "                        <td id=\"T_71e01_row1_col4\" class=\"data row1 col4\" >9</td>\n",
       "                        <td id=\"T_71e01_row1_col5\" class=\"data row1 col5\" >11.25%</td>\n",
       "            </tr>\n",
       "            <tr>\n",
       "                        <th id=\"T_71e01_level0_row2\" class=\"row_heading level0 row2\" >counterpart_name</th>\n",
       "                        <td id=\"T_71e01_row2_col0\" class=\"data row2 col0\" >object</td>\n",
       "                        <td id=\"T_71e01_row2_col1\" class=\"data row2 col1\" >71</td>\n",
       "                        <td id=\"T_71e01_row2_col2\" class=\"data row2 col2\" >69</td>\n",
       "                        <td id=\"T_71e01_row2_col3\" class=\"data row2 col3\" >97.18%</td>\n",
       "                        <td id=\"T_71e01_row2_col4\" class=\"data row2 col4\" >9</td>\n",
       "                        <td id=\"T_71e01_row2_col5\" class=\"data row2 col5\" >11.25%</td>\n",
       "            </tr>\n",
       "            <tr>\n",
       "                        <th id=\"T_71e01_level0_row3\" class=\"row_heading level0 row3\" >counterpart_priority</th>\n",
       "                        <td id=\"T_71e01_row3_col0\" class=\"data row3 col0\" >float64</td>\n",
       "                        <td id=\"T_71e01_row3_col1\" class=\"data row3 col1\" >57</td>\n",
       "                        <td id=\"T_71e01_row3_col2\" class=\"data row3 col2\" >5</td>\n",
       "                        <td id=\"T_71e01_row3_col3\" class=\"data row3 col3\" >8.77%</td>\n",
       "                        <td id=\"T_71e01_row3_col4\" class=\"data row3 col4\" >23</td>\n",
       "                        <td id=\"T_71e01_row3_col5\" class=\"data row3 col5\" >28.75%</td>\n",
       "            </tr>\n",
       "            <tr>\n",
       "                        <th id=\"T_71e01_level0_row4\" class=\"row_heading level0 row4\" >topic_seed</th>\n",
       "                        <td id=\"T_71e01_row4_col0\" class=\"data row4 col0\" >object</td>\n",
       "                        <td id=\"T_71e01_row4_col1\" class=\"data row4 col1\" >79</td>\n",
       "                        <td id=\"T_71e01_row4_col2\" class=\"data row4 col2\" >22</td>\n",
       "                        <td id=\"T_71e01_row4_col3\" class=\"data row4 col3\" >27.85%</td>\n",
       "                        <td id=\"T_71e01_row4_col4\" class=\"data row4 col4\" >1</td>\n",
       "                        <td id=\"T_71e01_row4_col5\" class=\"data row4 col5\" >1.25%</td>\n",
       "            </tr>\n",
       "            <tr>\n",
       "                        <th id=\"T_71e01_level0_row5\" class=\"row_heading level0 row5\" >pod</th>\n",
       "                        <td id=\"T_71e01_row5_col0\" class=\"data row5 col0\" >object</td>\n",
       "                        <td id=\"T_71e01_row5_col1\" class=\"data row5 col1\" >47</td>\n",
       "                        <td id=\"T_71e01_row5_col2\" class=\"data row5 col2\" >5</td>\n",
       "                        <td id=\"T_71e01_row5_col3\" class=\"data row5 col3\" >10.64%</td>\n",
       "                        <td id=\"T_71e01_row5_col4\" class=\"data row5 col4\" >33</td>\n",
       "                        <td id=\"T_71e01_row5_col5\" class=\"data row5 col5\" >41.25%</td>\n",
       "            </tr>\n",
       "            <tr>\n",
       "                        <th id=\"T_71e01_level0_row6\" class=\"row_heading level0 row6\" >german</th>\n",
       "                        <td id=\"T_71e01_row6_col0\" class=\"data row6 col0\" >object</td>\n",
       "                        <td id=\"T_71e01_row6_col1\" class=\"data row6 col1\" >79</td>\n",
       "                        <td id=\"T_71e01_row6_col2\" class=\"data row6 col2\" >2</td>\n",
       "                        <td id=\"T_71e01_row6_col3\" class=\"data row6 col3\" >2.53%</td>\n",
       "                        <td id=\"T_71e01_row6_col4\" class=\"data row6 col4\" >1</td>\n",
       "                        <td id=\"T_71e01_row6_col5\" class=\"data row6 col5\" >1.25%</td>\n",
       "            </tr>\n",
       "            <tr>\n",
       "                        <th id=\"T_71e01_level0_row7\" class=\"row_heading level0 row7\" >ambassador_sub</th>\n",
       "                        <td id=\"T_71e01_row7_col0\" class=\"data row7 col0\" >object</td>\n",
       "                        <td id=\"T_71e01_row7_col1\" class=\"data row7 col1\" >79</td>\n",
       "                        <td id=\"T_71e01_row7_col2\" class=\"data row7 col2\" >3</td>\n",
       "                        <td id=\"T_71e01_row7_col3\" class=\"data row7 col3\" >3.80%</td>\n",
       "                        <td id=\"T_71e01_row7_col4\" class=\"data row7 col4\" >1</td>\n",
       "                        <td id=\"T_71e01_row7_col5\" class=\"data row7 col5\" >1.25%</td>\n",
       "            </tr>\n",
       "            <tr>\n",
       "                        <th id=\"T_71e01_level0_row8\" class=\"row_heading level0 row8\" >type_of_content_seed</th>\n",
       "                        <td id=\"T_71e01_row8_col0\" class=\"data row8 col0\" >object</td>\n",
       "                        <td id=\"T_71e01_row8_col1\" class=\"data row8 col1\" >79</td>\n",
       "                        <td id=\"T_71e01_row8_col2\" class=\"data row8 col2\" >11</td>\n",
       "                        <td id=\"T_71e01_row8_col3\" class=\"data row8 col3\" >13.92%</td>\n",
       "                        <td id=\"T_71e01_row8_col4\" class=\"data row8 col4\" >1</td>\n",
       "                        <td id=\"T_71e01_row8_col5\" class=\"data row8 col5\" >1.25%</td>\n",
       "            </tr>\n",
       "    </tbody></table>"
      ],
      "text/plain": [
       "<pandas.io.formats.style.Styler at 0x7f8a044c79d0>"
      ]
     },
     "execution_count": 19,
     "metadata": {},
     "output_type": "execute_result"
    }
   ],
   "source": [
    "counts_describe(df_sub_seeds_reshape_old)"
   ]
  },
  {
   "cell_type": "code",
   "execution_count": 20,
   "id": "7b2804e0",
   "metadata": {},
   "outputs": [
    {
     "data": {
      "text/html": [
       "<style  type=\"text/css\" >\n",
       "</style><table id=\"T_d3cd4_\" ><thead>    <tr>        <th class=\"blank level0\" ></th>        <th class=\"col_heading level0 col0\" >dtype</th>        <th class=\"col_heading level0 col1\" >count</th>        <th class=\"col_heading level0 col2\" >unique</th>        <th class=\"col_heading level0 col3\" >unique-percent</th>        <th class=\"col_heading level0 col4\" >null-count</th>        <th class=\"col_heading level0 col5\" >null-percent</th>    </tr></thead><tbody>\n",
       "                <tr>\n",
       "                        <th id=\"T_d3cd4_level0_row0\" class=\"row_heading level0 row0\" >subreddit_name</th>\n",
       "                        <td id=\"T_d3cd4_row0_col0\" class=\"data row0 col0\" >object</td>\n",
       "                        <td id=\"T_d3cd4_row0_col1\" class=\"data row0 col1\" >74</td>\n",
       "                        <td id=\"T_d3cd4_row0_col2\" class=\"data row0 col2\" >40</td>\n",
       "                        <td id=\"T_d3cd4_row0_col3\" class=\"data row0 col3\" >54.05%</td>\n",
       "                        <td id=\"T_d3cd4_row0_col4\" class=\"data row0 col4\" >0</td>\n",
       "                        <td id=\"T_d3cd4_row0_col5\" class=\"data row0 col5\" >0.00%</td>\n",
       "            </tr>\n",
       "            <tr>\n",
       "                        <th id=\"T_d3cd4_level0_row1\" class=\"row_heading level0 row1\" >manual_counterpart</th>\n",
       "                        <td id=\"T_d3cd4_row1_col0\" class=\"data row1 col0\" >object</td>\n",
       "                        <td id=\"T_d3cd4_row1_col1\" class=\"data row1 col1\" >73</td>\n",
       "                        <td id=\"T_d3cd4_row1_col2\" class=\"data row1 col2\" >2</td>\n",
       "                        <td id=\"T_d3cd4_row1_col3\" class=\"data row1 col3\" >2.74%</td>\n",
       "                        <td id=\"T_d3cd4_row1_col4\" class=\"data row1 col4\" >1</td>\n",
       "                        <td id=\"T_d3cd4_row1_col5\" class=\"data row1 col5\" >1.35%</td>\n",
       "            </tr>\n",
       "            <tr>\n",
       "                        <th id=\"T_d3cd4_level0_row2\" class=\"row_heading level0 row2\" >counterpart_name</th>\n",
       "                        <td id=\"T_d3cd4_row2_col0\" class=\"data row2 col0\" >object</td>\n",
       "                        <td id=\"T_d3cd4_row2_col1\" class=\"data row2 col1\" >73</td>\n",
       "                        <td id=\"T_d3cd4_row2_col2\" class=\"data row2 col2\" >71</td>\n",
       "                        <td id=\"T_d3cd4_row2_col3\" class=\"data row2 col3\" >97.26%</td>\n",
       "                        <td id=\"T_d3cd4_row2_col4\" class=\"data row2 col4\" >1</td>\n",
       "                        <td id=\"T_d3cd4_row2_col5\" class=\"data row2 col5\" >1.35%</td>\n",
       "            </tr>\n",
       "            <tr>\n",
       "                        <th id=\"T_d3cd4_level0_row3\" class=\"row_heading level0 row3\" >counterpart_priority</th>\n",
       "                        <td id=\"T_d3cd4_row3_col0\" class=\"data row3 col0\" >float64</td>\n",
       "                        <td id=\"T_d3cd4_row3_col1\" class=\"data row3 col1\" >47</td>\n",
       "                        <td id=\"T_d3cd4_row3_col2\" class=\"data row3 col2\" >4</td>\n",
       "                        <td id=\"T_d3cd4_row3_col3\" class=\"data row3 col3\" >8.51%</td>\n",
       "                        <td id=\"T_d3cd4_row3_col4\" class=\"data row3 col4\" >27</td>\n",
       "                        <td id=\"T_d3cd4_row3_col5\" class=\"data row3 col5\" >36.49%</td>\n",
       "            </tr>\n",
       "            <tr>\n",
       "                        <th id=\"T_d3cd4_level0_row4\" class=\"row_heading level0 row4\" >topic_seed</th>\n",
       "                        <td id=\"T_d3cd4_row4_col0\" class=\"data row4 col0\" >object</td>\n",
       "                        <td id=\"T_d3cd4_row4_col1\" class=\"data row4 col1\" >74</td>\n",
       "                        <td id=\"T_d3cd4_row4_col2\" class=\"data row4 col2\" >15</td>\n",
       "                        <td id=\"T_d3cd4_row4_col3\" class=\"data row4 col3\" >20.27%</td>\n",
       "                        <td id=\"T_d3cd4_row4_col4\" class=\"data row4 col4\" >0</td>\n",
       "                        <td id=\"T_d3cd4_row4_col5\" class=\"data row4 col5\" >0.00%</td>\n",
       "            </tr>\n",
       "            <tr>\n",
       "                        <th id=\"T_d3cd4_level0_row5\" class=\"row_heading level0 row5\" >pod</th>\n",
       "                        <td id=\"T_d3cd4_row5_col0\" class=\"data row5 col0\" >object</td>\n",
       "                        <td id=\"T_d3cd4_row5_col1\" class=\"data row5 col1\" >53</td>\n",
       "                        <td id=\"T_d3cd4_row5_col2\" class=\"data row5 col2\" >5</td>\n",
       "                        <td id=\"T_d3cd4_row5_col3\" class=\"data row5 col3\" >9.43%</td>\n",
       "                        <td id=\"T_d3cd4_row5_col4\" class=\"data row5 col4\" >21</td>\n",
       "                        <td id=\"T_d3cd4_row5_col5\" class=\"data row5 col5\" >28.38%</td>\n",
       "            </tr>\n",
       "            <tr>\n",
       "                        <th id=\"T_d3cd4_level0_row6\" class=\"row_heading level0 row6\" >german</th>\n",
       "                        <td id=\"T_d3cd4_row6_col0\" class=\"data row6 col0\" >object</td>\n",
       "                        <td id=\"T_d3cd4_row6_col1\" class=\"data row6 col1\" >62</td>\n",
       "                        <td id=\"T_d3cd4_row6_col2\" class=\"data row6 col2\" >2</td>\n",
       "                        <td id=\"T_d3cd4_row6_col3\" class=\"data row6 col3\" >3.23%</td>\n",
       "                        <td id=\"T_d3cd4_row6_col4\" class=\"data row6 col4\" >12</td>\n",
       "                        <td id=\"T_d3cd4_row6_col5\" class=\"data row6 col5\" >16.22%</td>\n",
       "            </tr>\n",
       "            <tr>\n",
       "                        <th id=\"T_d3cd4_level0_row7\" class=\"row_heading level0 row7\" >ambassador_sub</th>\n",
       "                        <td id=\"T_d3cd4_row7_col0\" class=\"data row7 col0\" >object</td>\n",
       "                        <td id=\"T_d3cd4_row7_col1\" class=\"data row7 col1\" >74</td>\n",
       "                        <td id=\"T_d3cd4_row7_col2\" class=\"data row7 col2\" >2</td>\n",
       "                        <td id=\"T_d3cd4_row7_col3\" class=\"data row7 col3\" >2.70%</td>\n",
       "                        <td id=\"T_d3cd4_row7_col4\" class=\"data row7 col4\" >0</td>\n",
       "                        <td id=\"T_d3cd4_row7_col5\" class=\"data row7 col5\" >0.00%</td>\n",
       "            </tr>\n",
       "            <tr>\n",
       "                        <th id=\"T_d3cd4_level0_row8\" class=\"row_heading level0 row8\" >type_of_content_seed</th>\n",
       "                        <td id=\"T_d3cd4_row8_col0\" class=\"data row8 col0\" >object</td>\n",
       "                        <td id=\"T_d3cd4_row8_col1\" class=\"data row8 col1\" >74</td>\n",
       "                        <td id=\"T_d3cd4_row8_col2\" class=\"data row8 col2\" >9</td>\n",
       "                        <td id=\"T_d3cd4_row8_col3\" class=\"data row8 col3\" >12.16%</td>\n",
       "                        <td id=\"T_d3cd4_row8_col4\" class=\"data row8 col4\" >0</td>\n",
       "                        <td id=\"T_d3cd4_row8_col5\" class=\"data row8 col5\" >0.00%</td>\n",
       "            </tr>\n",
       "            <tr>\n",
       "                        <th id=\"T_d3cd4_level0_row9\" class=\"row_heading level0 row9\" >counterpart_3</th>\n",
       "                        <td id=\"T_d3cd4_row9_col0\" class=\"data row9 col0\" >object</td>\n",
       "                        <td id=\"T_d3cd4_row9_col1\" class=\"data row9 col1\" >30</td>\n",
       "                        <td id=\"T_d3cd4_row9_col2\" class=\"data row9 col2\" >15</td>\n",
       "                        <td id=\"T_d3cd4_row9_col3\" class=\"data row9 col3\" >50.00%</td>\n",
       "                        <td id=\"T_d3cd4_row9_col4\" class=\"data row9 col4\" >44</td>\n",
       "                        <td id=\"T_d3cd4_row9_col5\" class=\"data row9 col5\" >59.46%</td>\n",
       "            </tr>\n",
       "            <tr>\n",
       "                        <th id=\"T_d3cd4_level0_row10\" class=\"row_heading level0 row10\" >counterpart_4</th>\n",
       "                        <td id=\"T_d3cd4_row10_col0\" class=\"data row10 col0\" >object</td>\n",
       "                        <td id=\"T_d3cd4_row10_col1\" class=\"data row10 col1\" >14</td>\n",
       "                        <td id=\"T_d3cd4_row10_col2\" class=\"data row10 col2\" >7</td>\n",
       "                        <td id=\"T_d3cd4_row10_col3\" class=\"data row10 col3\" >50.00%</td>\n",
       "                        <td id=\"T_d3cd4_row10_col4\" class=\"data row10 col4\" >60</td>\n",
       "                        <td id=\"T_d3cd4_row10_col5\" class=\"data row10 col5\" >81.08%</td>\n",
       "            </tr>\n",
       "            <tr>\n",
       "                        <th id=\"T_d3cd4_level0_row11\" class=\"row_heading level0 row11\" >counterpart_5</th>\n",
       "                        <td id=\"T_d3cd4_row11_col0\" class=\"data row11 col0\" >object</td>\n",
       "                        <td id=\"T_d3cd4_row11_col1\" class=\"data row11 col1\" >4</td>\n",
       "                        <td id=\"T_d3cd4_row11_col2\" class=\"data row11 col2\" >2</td>\n",
       "                        <td id=\"T_d3cd4_row11_col3\" class=\"data row11 col3\" >50.00%</td>\n",
       "                        <td id=\"T_d3cd4_row11_col4\" class=\"data row11 col4\" >70</td>\n",
       "                        <td id=\"T_d3cd4_row11_col5\" class=\"data row11 col5\" >94.59%</td>\n",
       "            </tr>\n",
       "            <tr>\n",
       "                        <th id=\"T_d3cd4_level0_row12\" class=\"row_heading level0 row12\" >counterpart_6</th>\n",
       "                        <td id=\"T_d3cd4_row12_col0\" class=\"data row12 col0\" >object</td>\n",
       "                        <td id=\"T_d3cd4_row12_col1\" class=\"data row12 col1\" >2</td>\n",
       "                        <td id=\"T_d3cd4_row12_col2\" class=\"data row12 col2\" >1</td>\n",
       "                        <td id=\"T_d3cd4_row12_col3\" class=\"data row12 col3\" >50.00%</td>\n",
       "                        <td id=\"T_d3cd4_row12_col4\" class=\"data row12 col4\" >72</td>\n",
       "                        <td id=\"T_d3cd4_row12_col5\" class=\"data row12 col5\" >97.30%</td>\n",
       "            </tr>\n",
       "    </tbody></table>"
      ],
      "text/plain": [
       "<pandas.io.formats.style.Styler at 0x7f8a0c6d7990>"
      ]
     },
     "execution_count": 20,
     "metadata": {},
     "output_type": "execute_result"
    }
   ],
   "source": [
    "counts_describe(df_sub_seeds_reshape_new)"
   ]
  },
  {
   "cell_type": "code",
   "execution_count": 21,
   "id": "4ed2e0d7",
   "metadata": {},
   "outputs": [],
   "source": [
    "# df_sub_seeds_reshape_new.head()"
   ]
  },
  {
   "cell_type": "code",
   "execution_count": 22,
   "id": "90890df6",
   "metadata": {},
   "outputs": [],
   "source": [
    "# df_sub_seeds_reshape_new.tail()"
   ]
  },
  {
   "cell_type": "code",
   "execution_count": 23,
   "id": "dc3cbcb8",
   "metadata": {},
   "outputs": [],
   "source": [
    "# df_sub_seeds_reshape_old.head()"
   ]
  },
  {
   "cell_type": "code",
   "execution_count": 24,
   "id": "913e379b",
   "metadata": {},
   "outputs": [
    {
     "data": {
      "text/html": [
       "<div>\n",
       "<style scoped>\n",
       "    .dataframe tbody tr th:only-of-type {\n",
       "        vertical-align: middle;\n",
       "    }\n",
       "\n",
       "    .dataframe tbody tr th {\n",
       "        vertical-align: top;\n",
       "    }\n",
       "\n",
       "    .dataframe thead th {\n",
       "        text-align: right;\n",
       "    }\n",
       "</style>\n",
       "<table border=\"1\" class=\"dataframe\">\n",
       "  <thead>\n",
       "    <tr style=\"text-align: right;\">\n",
       "      <th></th>\n",
       "      <th>subreddit_name</th>\n",
       "      <th>manual_counterpart</th>\n",
       "      <th>counterpart_name</th>\n",
       "      <th>counterpart_priority</th>\n",
       "      <th>topic_seed</th>\n",
       "      <th>pod</th>\n",
       "      <th>german</th>\n",
       "      <th>ambassador_sub</th>\n",
       "      <th>type_of_content_seed</th>\n",
       "    </tr>\n",
       "  </thead>\n",
       "  <tbody>\n",
       "    <tr>\n",
       "      <th>75</th>\n",
       "      <td>germusic</td>\n",
       "      <td>NaN</td>\n",
       "      <td>NaN</td>\n",
       "      <td>NaN</td>\n",
       "      <td>music</td>\n",
       "      <td>NaN</td>\n",
       "      <td>NaN</td>\n",
       "      <td>NaN</td>\n",
       "      <td>NaN</td>\n",
       "    </tr>\n",
       "    <tr>\n",
       "      <th>76</th>\n",
       "      <td>rocketbeans</td>\n",
       "      <td>NaN</td>\n",
       "      <td>NaN</td>\n",
       "      <td>3.0</td>\n",
       "      <td>tv</td>\n",
       "      <td>NaN</td>\n",
       "      <td>yes</td>\n",
       "      <td>no</td>\n",
       "      <td>video</td>\n",
       "    </tr>\n",
       "    <tr>\n",
       "      <th>77</th>\n",
       "      <td>smalllebowsky</td>\n",
       "      <td>NaN</td>\n",
       "      <td>NaN</td>\n",
       "      <td>2.0</td>\n",
       "      <td>art</td>\n",
       "      <td>NaN</td>\n",
       "      <td>yes</td>\n",
       "      <td>no</td>\n",
       "      <td>photos</td>\n",
       "    </tr>\n",
       "    <tr>\n",
       "      <th>78</th>\n",
       "      <td>de_events</td>\n",
       "      <td>NaN</td>\n",
       "      <td>NaN</td>\n",
       "      <td>NaN</td>\n",
       "      <td>culture/society</td>\n",
       "      <td>culture + entertainment</td>\n",
       "      <td>yes</td>\n",
       "      <td>yes</td>\n",
       "      <td>links and text</td>\n",
       "    </tr>\n",
       "    <tr>\n",
       "      <th>79</th>\n",
       "      <td>mediathek</td>\n",
       "      <td>NaN</td>\n",
       "      <td>NaN</td>\n",
       "      <td>NaN</td>\n",
       "      <td>tv</td>\n",
       "      <td>culture + entertainment</td>\n",
       "      <td>yes</td>\n",
       "      <td>yes</td>\n",
       "      <td>links and text</td>\n",
       "    </tr>\n",
       "  </tbody>\n",
       "</table>\n",
       "</div>"
      ],
      "text/plain": [
       "   subreddit_name manual_counterpart counterpart_name  counterpart_priority       topic_seed                      pod german ambassador_sub type_of_content_seed\n",
       "75       germusic                NaN              NaN                   NaN            music                      NaN    NaN            NaN                  NaN\n",
       "76    rocketbeans                NaN              NaN                   3.0               tv                      NaN    yes             no                video\n",
       "77  smalllebowsky                NaN              NaN                   2.0              art                      NaN    yes             no               photos\n",
       "78      de_events                NaN              NaN                   NaN  culture/society  culture + entertainment    yes            yes       links and text\n",
       "79      mediathek                NaN              NaN                   NaN               tv  culture + entertainment    yes            yes       links and text"
      ]
     },
     "execution_count": 24,
     "metadata": {},
     "output_type": "execute_result"
    }
   ],
   "source": [
    "df_sub_seeds_reshape_old.tail()"
   ]
  },
  {
   "cell_type": "markdown",
   "id": "2f586a47",
   "metadata": {},
   "source": [
    "## Combine reshaped seeds into single df"
   ]
  },
  {
   "cell_type": "code",
   "execution_count": 25,
   "id": "042cc1bf",
   "metadata": {},
   "outputs": [
    {
     "name": "stderr",
     "output_type": "stream",
     "text": [
      "15:22:46 | INFO | \"(109, 6) <- Shape before removing dupes\"\n",
      "15:22:46 | INFO | \"(108, 6) <- Shape AFTER removing dupes\"\n"
     ]
    }
   ],
   "source": [
    "df_sub_seeds_combined = combine_reshaped_seeds(\n",
    "    df_new=df_sub_seeds_reshape_new,\n",
    "    df_old=df_sub_seeds_reshape_old,\n",
    "    cols_combine=None,\n",
    ")"
   ]
  },
  {
   "cell_type": "code",
   "execution_count": 26,
   "id": "aff5ed61",
   "metadata": {},
   "outputs": [
    {
     "data": {
      "text/html": [
       "<div>\n",
       "<style scoped>\n",
       "    .dataframe tbody tr th:only-of-type {\n",
       "        vertical-align: middle;\n",
       "    }\n",
       "\n",
       "    .dataframe tbody tr th {\n",
       "        vertical-align: top;\n",
       "    }\n",
       "\n",
       "    .dataframe thead th {\n",
       "        text-align: right;\n",
       "    }\n",
       "</style>\n",
       "<table border=\"1\" class=\"dataframe\">\n",
       "  <thead>\n",
       "    <tr style=\"text-align: right;\">\n",
       "      <th></th>\n",
       "      <th>subreddit_name</th>\n",
       "      <th>manual_counterpart</th>\n",
       "      <th>counterpart_name</th>\n",
       "      <th>ambassador_sub</th>\n",
       "      <th>type_of_content_seed</th>\n",
       "      <th>counterpart_priority</th>\n",
       "    </tr>\n",
       "  </thead>\n",
       "  <tbody>\n",
       "    <tr>\n",
       "      <th>25</th>\n",
       "      <td>binichdasarschloch</td>\n",
       "      <td>counterpart_1</td>\n",
       "      <td>amitheasshole</td>\n",
       "      <td>yes</td>\n",
       "      <td>text</td>\n",
       "      <td>5.0</td>\n",
       "    </tr>\n",
       "    <tr>\n",
       "      <th>26</th>\n",
       "      <td>binichdasarschloch</td>\n",
       "      <td>counterpart_2</td>\n",
       "      <td>assholetax</td>\n",
       "      <td>yes</td>\n",
       "      <td>text</td>\n",
       "      <td>5.0</td>\n",
       "    </tr>\n",
       "    <tr>\n",
       "      <th>53</th>\n",
       "      <td>dachgaming</td>\n",
       "      <td>counterpart_1</td>\n",
       "      <td>gaming</td>\n",
       "      <td>yes</td>\n",
       "      <td>all</td>\n",
       "      <td>5.0</td>\n",
       "    </tr>\n",
       "    <tr>\n",
       "      <th>54</th>\n",
       "      <td>dachgaming</td>\n",
       "      <td>counterpart_2</td>\n",
       "      <td>games</td>\n",
       "      <td>yes</td>\n",
       "      <td>all</td>\n",
       "      <td>5.0</td>\n",
       "    </tr>\n",
       "    <tr>\n",
       "      <th>73</th>\n",
       "      <td>de</td>\n",
       "      <td>NaN</td>\n",
       "      <td>NaN</td>\n",
       "      <td>no</td>\n",
       "      <td>links and text</td>\n",
       "      <td>5.0</td>\n",
       "    </tr>\n",
       "    <tr>\n",
       "      <th>2</th>\n",
       "      <td>finanzen</td>\n",
       "      <td>counterpart_1</td>\n",
       "      <td>finance</td>\n",
       "      <td>no</td>\n",
       "      <td>text</td>\n",
       "      <td>5.0</td>\n",
       "    </tr>\n",
       "    <tr>\n",
       "      <th>3</th>\n",
       "      <td>finanzen</td>\n",
       "      <td>counterpart_2</td>\n",
       "      <td>financialindependence</td>\n",
       "      <td>no</td>\n",
       "      <td>text</td>\n",
       "      <td>5.0</td>\n",
       "    </tr>\n",
       "    <tr>\n",
       "      <th>4</th>\n",
       "      <td>fragreddit</td>\n",
       "      <td>counterpart_1</td>\n",
       "      <td>askreddit</td>\n",
       "      <td>no</td>\n",
       "      <td>text</td>\n",
       "      <td>5.0</td>\n",
       "    </tr>\n",
       "    <tr>\n",
       "      <th>5</th>\n",
       "      <td>fragreddit</td>\n",
       "      <td>counterpart_2</td>\n",
       "      <td>ask</td>\n",
       "      <td>no</td>\n",
       "      <td>text</td>\n",
       "      <td>5.0</td>\n",
       "    </tr>\n",
       "    <tr>\n",
       "      <th>59</th>\n",
       "      <td>fussball</td>\n",
       "      <td>counterpart_1</td>\n",
       "      <td>soccer</td>\n",
       "      <td>yes</td>\n",
       "      <td>links, text, screenshots</td>\n",
       "      <td>5.0</td>\n",
       "    </tr>\n",
       "    <tr>\n",
       "      <th>60</th>\n",
       "      <td>fussball</td>\n",
       "      <td>counterpart_2</td>\n",
       "      <td>football</td>\n",
       "      <td>yes</td>\n",
       "      <td>links, text, screenshots</td>\n",
       "      <td>5.0</td>\n",
       "    </tr>\n",
       "    <tr>\n",
       "      <th>0</th>\n",
       "      <td>ich_iel</td>\n",
       "      <td>counterpart_1</td>\n",
       "      <td>memes</td>\n",
       "      <td>no</td>\n",
       "      <td>photos</td>\n",
       "      <td>5.0</td>\n",
       "    </tr>\n",
       "    <tr>\n",
       "      <th>22</th>\n",
       "      <td>lustig</td>\n",
       "      <td>counterpart_1</td>\n",
       "      <td>funny</td>\n",
       "      <td>yes</td>\n",
       "      <td>text, links, photos</td>\n",
       "      <td>5.0</td>\n",
       "    </tr>\n",
       "    <tr>\n",
       "      <th>23</th>\n",
       "      <td>lustig</td>\n",
       "      <td>counterpart_2</td>\n",
       "      <td>humor</td>\n",
       "      <td>yes</td>\n",
       "      <td>text, links, photos</td>\n",
       "      <td>5.0</td>\n",
       "    </tr>\n",
       "    <tr>\n",
       "      <th>1</th>\n",
       "      <td>mauerstrassenwetten</td>\n",
       "      <td>counterpart_1</td>\n",
       "      <td>wallstreetbets</td>\n",
       "      <td>no</td>\n",
       "      <td>text, photos</td>\n",
       "      <td>5.0</td>\n",
       "    </tr>\n",
       "  </tbody>\n",
       "</table>\n",
       "</div>"
      ],
      "text/plain": [
       "         subreddit_name manual_counterpart       counterpart_name ambassador_sub      type_of_content_seed  counterpart_priority\n",
       "25   binichdasarschloch      counterpart_1          amitheasshole            yes                      text                   5.0\n",
       "26   binichdasarschloch      counterpart_2             assholetax            yes                      text                   5.0\n",
       "53           dachgaming      counterpart_1                 gaming            yes                       all                   5.0\n",
       "54           dachgaming      counterpart_2                  games            yes                       all                   5.0\n",
       "73                   de                NaN                    NaN             no            links and text                   5.0\n",
       "2              finanzen      counterpart_1                finance             no                      text                   5.0\n",
       "3              finanzen      counterpart_2  financialindependence             no                      text                   5.0\n",
       "4            fragreddit      counterpart_1              askreddit             no                      text                   5.0\n",
       "5            fragreddit      counterpart_2                    ask             no                      text                   5.0\n",
       "59             fussball      counterpart_1                 soccer            yes  links, text, screenshots                   5.0\n",
       "60             fussball      counterpart_2               football            yes  links, text, screenshots                   5.0\n",
       "0               ich_iel      counterpart_1                  memes             no                    photos                   5.0\n",
       "22               lustig      counterpart_1                  funny            yes       text, links, photos                   5.0\n",
       "23               lustig      counterpart_2                  humor            yes       text, links, photos                   5.0\n",
       "1   mauerstrassenwetten      counterpart_1         wallstreetbets             no              text, photos                   5.0"
      ]
     },
     "execution_count": 26,
     "metadata": {},
     "output_type": "execute_result"
    }
   ],
   "source": [
    "df_sub_seeds_combined.head(15)"
   ]
  },
  {
   "cell_type": "code",
   "execution_count": 27,
   "id": "9a9afcc5",
   "metadata": {},
   "outputs": [],
   "source": [
    "# df_sub_seeds_combined.tail(15)"
   ]
  },
  {
   "cell_type": "code",
   "execution_count": 28,
   "id": "b4e991d5",
   "metadata": {},
   "outputs": [],
   "source": [
    "# delete the raw dfs to clean up name space\n",
    "del df_sub_seeds_reshape_new, df_sub_seeds_reshape_old"
   ]
  },
  {
   "cell_type": "markdown",
   "id": "ece8f5ab",
   "metadata": {},
   "source": [
    "# Load Distances & Clusters (cluster IDs)\n",
    "\n",
    "These should be the same files that feed the bigquery tables:\n",
    "- `reddit-employee-datasets.david_bermejo.subclu_subreddit_distance_v0032_c_posts_and_comments_and_meta`\n",
    "- `reddit-employee-datasets.david_bermejo.subclu_subreddit_cluster_labels_v032_a`\n"
   ]
  },
  {
   "cell_type": "code",
   "execution_count": 29,
   "id": "23978005",
   "metadata": {},
   "outputs": [
    {
     "name": "stdout",
     "output_type": "stream",
     "text": [
      "gs://i18n-subreddit-clustering/data/models/clustering/manual_2021-08-11_04_45\n",
      "df_subs_only-meta_and_multiple_clustering_algos-2021-08-13_022453-3767_by_58.parquet\n",
      "df_sub_level_agg_c_similarity_pair-2021-08-13_021828-14186522_by_18.parquet\n",
      "cluster_id_agg_ward_cosine_200\n"
     ]
    }
   ],
   "source": [
    "print(bucket_and_folder_prefix)\n",
    "print(f_subs_c_cluster_labels)\n",
    "print(f_subs_c_similarity_pair)\n",
    "print(col_best_clusters_a)"
   ]
  },
  {
   "cell_type": "code",
   "execution_count": 137,
   "id": "10e59682",
   "metadata": {},
   "outputs": [
    {
     "name": "stdout",
     "output_type": "stream",
     "text": [
      "gs://i18n-subreddit-clustering/data/models/clustering/manual_2021-08-11_04_45/df_posts_meta_and_svd-1651709_by_72.parquet\n",
      "gs://i18n-subreddit-clustering/data/models/clustering/manual_2021-08-11_04_45/df_sub_level_agg_c_similarity_pair-2021-08-13_003946-14186522_by_18.parquet\n",
      "gs://i18n-subreddit-clustering/data/models/clustering/manual_2021-08-11_04_45/df_sub_level_agg_c_similarity_pair-2021-08-13_021828-14186522_by_18.parquet\n",
      "gs://i18n-subreddit-clustering/data/models/clustering/manual_2021-08-11_04_45/df_subs_meta_and_svd-3767_by_88.parquet\n",
      "gs://i18n-subreddit-clustering/data/models/clustering/manual_2021-08-11_04_45/df_subs_only-cluster_level_pivot_for_qa-2021-08-19_0623-200_by_7.csv\n",
      "gs://i18n-subreddit-clustering/data/models/clustering/manual_2021-08-11_04_45/df_subs_only-meta_and_clustering_for_qa-2021-08-18_2339-3768_by_37.csv\n",
      "gs://i18n-subreddit-clustering/data/models/clustering/manual_2021-08-11_04_45/df_subs_only-meta_and_multiple_clustering_algos-2021-08-13_022453-3767_by_58.parquet\n",
      "gs://i18n-subreddit-clustering/data/models/clustering/manual_2021-08-11_04_45/df_subs_only-multiple_clustering_algos-3767_by_56.parquet\n",
      "gs://i18n-subreddit-clustering/data/models/clustering/manual_2021-08-11_04_45/df_svd_posts_and_subs-1655476_by_50.parquet\n",
      "gs://i18n-subreddit-clustering/data/models/clustering/manual_2021-08-11_04_45/hydra_config-2021-08-12_232812.yaml\n",
      "gs://i18n-subreddit-clustering/data/models/clustering/manual_2021-08-11_04_45/hydra_config.yaml\n",
      "gs://i18n-subreddit-clustering/data/models/clustering/manual_2021-08-11_04_45/manual_2021-08-11_04_45/\n",
      "gs://i18n-subreddit-clustering/data/models/clustering/manual_2021-08-11_04_45/qa_files/\n"
     ]
    }
   ],
   "source": [
    "# !gsutil ls -r $bucket_and_folder_prefix\n",
    "!gsutil ls $bucket_and_folder_prefix"
   ]
  },
  {
   "cell_type": "code",
   "execution_count": 31,
   "id": "3aefdafb",
   "metadata": {},
   "outputs": [
    {
     "name": "stdout",
     "output_type": "stream",
     "text": [
      "(3767, 58)\n",
      "CPU times: user 88.5 ms, sys: 54.2 ms, total: 143 ms\n",
      "Wall time: 825 ms\n"
     ]
    }
   ],
   "source": [
    "%%time\n",
    "df_subs_cluster = pd.read_parquet(f\"{bucket_and_folder_prefix}/{f_subs_c_cluster_labels}\")\n",
    "\n",
    "print(df_subs_cluster.shape)"
   ]
  },
  {
   "cell_type": "code",
   "execution_count": 32,
   "id": "a0c6fb3b",
   "metadata": {},
   "outputs": [
    {
     "name": "stdout",
     "output_type": "stream",
     "text": [
      "(14186522, 18)\n",
      "CPU times: user 13.9 s, sys: 2.4 s, total: 16.3 s\n",
      "Wall time: 8.86 s\n"
     ]
    }
   ],
   "source": [
    "%%time\n",
    "# this one will take a while (over 15 seconds) because it's over 14 million rows...\n",
    "df_subs_distance = pd.read_parquet(f\"{bucket_and_folder_prefix}/{f_subs_c_similarity_pair}\")\n",
    "\n",
    "print(df_subs_distance.shape)"
   ]
  },
  {
   "cell_type": "code",
   "execution_count": 33,
   "id": "6740a12a",
   "metadata": {},
   "outputs": [
    {
     "data": {
      "text/html": [
       "<div>\n",
       "<style scoped>\n",
       "    .dataframe tbody tr th:only-of-type {\n",
       "        vertical-align: middle;\n",
       "    }\n",
       "\n",
       "    .dataframe tbody tr th {\n",
       "        vertical-align: top;\n",
       "    }\n",
       "\n",
       "    .dataframe thead th {\n",
       "        text-align: right;\n",
       "    }\n",
       "</style>\n",
       "<table border=\"1\" class=\"dataframe\">\n",
       "  <thead>\n",
       "    <tr style=\"text-align: right;\">\n",
       "      <th></th>\n",
       "      <th>subreddit_name</th>\n",
       "      <th>cluster_id_agg_ward_cosine_200</th>\n",
       "      <th>subreddit_title</th>\n",
       "      <th>rating</th>\n",
       "      <th>topic</th>\n",
       "      <th>over_18</th>\n",
       "      <th>subreddit_language</th>\n",
       "      <th>primary_post_language</th>\n",
       "      <th>primary_post_language_percent</th>\n",
       "      <th>primary_post_type</th>\n",
       "      <th>primary_post_type_percent</th>\n",
       "      <th>posts_for_modeling_count</th>\n",
       "      <th>post_median_word_count</th>\n",
       "      <th>primary_post_language_in_use_multilingual</th>\n",
       "    </tr>\n",
       "  </thead>\n",
       "  <tbody>\n",
       "    <tr>\n",
       "      <th>0</th>\n",
       "      <td>natureismetal</td>\n",
       "      <td>0</td>\n",
       "      <td>Nature is Metal</td>\n",
       "      <td>pg13</td>\n",
       "      <td>None</td>\n",
       "      <td>f</td>\n",
       "      <td>en</td>\n",
       "      <td>English</td>\n",
       "      <td>0.918333</td>\n",
       "      <td>image</td>\n",
       "      <td>0.566667</td>\n",
       "      <td>1200</td>\n",
       "      <td>9.0</td>\n",
       "      <td>True</td>\n",
       "    </tr>\n",
       "    <tr>\n",
       "      <th>1</th>\n",
       "      <td>ape</td>\n",
       "      <td>0</td>\n",
       "      <td>ape</td>\n",
       "      <td>not_shown_in_theaters</td>\n",
       "      <td>None</td>\n",
       "      <td>f</td>\n",
       "      <td>en</td>\n",
       "      <td>English</td>\n",
       "      <td>0.569423</td>\n",
       "      <td>image</td>\n",
       "      <td>0.329173</td>\n",
       "      <td>641</td>\n",
       "      <td>5.0</td>\n",
       "      <td>True</td>\n",
       "    </tr>\n",
       "    <tr>\n",
       "      <th>2</th>\n",
       "      <td>flyfishing</td>\n",
       "      <td>0</td>\n",
       "      <td>flyfishing</td>\n",
       "      <td>g</td>\n",
       "      <td>None</td>\n",
       "      <td>f</td>\n",
       "      <td>en</td>\n",
       "      <td>English</td>\n",
       "      <td>0.940833</td>\n",
       "      <td>image</td>\n",
       "      <td>0.495000</td>\n",
       "      <td>1200</td>\n",
       "      <td>9.0</td>\n",
       "      <td>True</td>\n",
       "    </tr>\n",
       "    <tr>\n",
       "      <th>3</th>\n",
       "      <td>birding</td>\n",
       "      <td>0</td>\n",
       "      <td>a place for birders to be</td>\n",
       "      <td>pg13</td>\n",
       "      <td>None</td>\n",
       "      <td>f</td>\n",
       "      <td>en</td>\n",
       "      <td>English</td>\n",
       "      <td>0.917500</td>\n",
       "      <td>image</td>\n",
       "      <td>0.653333</td>\n",
       "      <td>1200</td>\n",
       "      <td>8.0</td>\n",
       "      <td>True</td>\n",
       "    </tr>\n",
       "    <tr>\n",
       "      <th>4</th>\n",
       "      <td>bassfishing</td>\n",
       "      <td>0</td>\n",
       "      <td>Bass Fishing at its Finest</td>\n",
       "      <td>pg</td>\n",
       "      <td>None</td>\n",
       "      <td>f</td>\n",
       "      <td>en</td>\n",
       "      <td>English</td>\n",
       "      <td>0.920833</td>\n",
       "      <td>image</td>\n",
       "      <td>0.437500</td>\n",
       "      <td>1200</td>\n",
       "      <td>12.0</td>\n",
       "      <td>True</td>\n",
       "    </tr>\n",
       "    <tr>\n",
       "      <th>5</th>\n",
       "      <td>beach</td>\n",
       "      <td>0</td>\n",
       "      <td>Welcome to Beach Reddit!</td>\n",
       "      <td>pg</td>\n",
       "      <td>None</td>\n",
       "      <td>f</td>\n",
       "      <td>en</td>\n",
       "      <td>English</td>\n",
       "      <td>0.715789</td>\n",
       "      <td>link</td>\n",
       "      <td>0.463158</td>\n",
       "      <td>475</td>\n",
       "      <td>6.0</td>\n",
       "      <td>True</td>\n",
       "    </tr>\n",
       "  </tbody>\n",
       "</table>\n",
       "</div>"
      ],
      "text/plain": [
       "  subreddit_name  cluster_id_agg_ward_cosine_200              subreddit_title                 rating topic over_18 subreddit_language primary_post_language  primary_post_language_percent primary_post_type  primary_post_type_percent  posts_for_modeling_count  post_median_word_count  \\\n",
       "0  natureismetal                               0              Nature is Metal                   pg13  None       f                 en               English                       0.918333             image                   0.566667                      1200                     9.0   \n",
       "1            ape                               0                          ape  not_shown_in_theaters  None       f                 en               English                       0.569423             image                   0.329173                       641                     5.0   \n",
       "2     flyfishing                               0                   flyfishing                      g  None       f                 en               English                       0.940833             image                   0.495000                      1200                     9.0   \n",
       "3        birding                               0    a place for birders to be                   pg13  None       f                 en               English                       0.917500             image                   0.653333                      1200                     8.0   \n",
       "4    bassfishing                               0  Bass Fishing at its Finest                      pg  None       f                 en               English                       0.920833             image                   0.437500                      1200                    12.0   \n",
       "5          beach                               0     Welcome to Beach Reddit!                     pg  None       f                 en               English                       0.715789              link                   0.463158                       475                     6.0   \n",
       "\n",
       "   primary_post_language_in_use_multilingual  \n",
       "0                                       True  \n",
       "1                                       True  \n",
       "2                                       True  \n",
       "3                                       True  \n",
       "4                                       True  \n",
       "5                                       True  "
      ]
     },
     "execution_count": 33,
     "metadata": {},
     "output_type": "execute_result"
    }
   ],
   "source": [
    "df_subs_cluster[[c for c in df_subs_cluster.columns if 'description' not in c]].iloc[:6, :14]"
   ]
  },
  {
   "cell_type": "code",
   "execution_count": 34,
   "id": "e1d55297",
   "metadata": {},
   "outputs": [
    {
     "data": {
      "text/html": [
       "<div>\n",
       "<style scoped>\n",
       "    .dataframe tbody tr th:only-of-type {\n",
       "        vertical-align: middle;\n",
       "    }\n",
       "\n",
       "    .dataframe tbody tr th {\n",
       "        vertical-align: top;\n",
       "    }\n",
       "\n",
       "    .dataframe thead th {\n",
       "        text-align: right;\n",
       "    }\n",
       "</style>\n",
       "<table border=\"1\" class=\"dataframe\">\n",
       "  <thead>\n",
       "    <tr style=\"text-align: right;\">\n",
       "      <th></th>\n",
       "      <th>cosine_distance</th>\n",
       "      <th>subreddit_name_a</th>\n",
       "      <th>subreddit_name_b</th>\n",
       "      <th>rating_b</th>\n",
       "      <th>topic_b</th>\n",
       "      <th>primary_post_language_b</th>\n",
       "      <th>primary_post_language_percent_b</th>\n",
       "      <th>post_median_word_count_b</th>\n",
       "      <th>post_median_word_count_a</th>\n",
       "      <th>rating_a</th>\n",
       "      <th>topic_a</th>\n",
       "      <th>primary_post_language_a</th>\n",
       "      <th>primary_post_language_percent_a</th>\n",
       "      <th>subreddit_id_a</th>\n",
       "    </tr>\n",
       "  </thead>\n",
       "  <tbody>\n",
       "    <tr>\n",
       "      <th>0</th>\n",
       "      <td>0.719657</td>\n",
       "      <td>1071</td>\n",
       "      <td>tamamahbapengelli</td>\n",
       "      <td>None</td>\n",
       "      <td>None</td>\n",
       "      <td>Turkish</td>\n",
       "      <td>0.677419</td>\n",
       "      <td>4.0</td>\n",
       "      <td>9.0</td>\n",
       "      <td>None</td>\n",
       "      <td>None</td>\n",
       "      <td>Turkish</td>\n",
       "      <td>0.845133</td>\n",
       "      <td>t5_4ppr4q</td>\n",
       "    </tr>\n",
       "    <tr>\n",
       "      <th>1</th>\n",
       "      <td>0.708699</td>\n",
       "      <td>1071</td>\n",
       "      <td>nonakanal</td>\n",
       "      <td>None</td>\n",
       "      <td>None</td>\n",
       "      <td>German</td>\n",
       "      <td>0.712589</td>\n",
       "      <td>6.0</td>\n",
       "      <td>9.0</td>\n",
       "      <td>None</td>\n",
       "      <td>None</td>\n",
       "      <td>Turkish</td>\n",
       "      <td>0.845133</td>\n",
       "      <td>t5_4ppr4q</td>\n",
       "    </tr>\n",
       "    <tr>\n",
       "      <th>2</th>\n",
       "      <td>0.706756</td>\n",
       "      <td>1071</td>\n",
       "      <td>okemakkermaloot</td>\n",
       "      <td>None</td>\n",
       "      <td>None</td>\n",
       "      <td>Dutch</td>\n",
       "      <td>0.358974</td>\n",
       "      <td>3.0</td>\n",
       "      <td>9.0</td>\n",
       "      <td>None</td>\n",
       "      <td>None</td>\n",
       "      <td>Turkish</td>\n",
       "      <td>0.845133</td>\n",
       "      <td>t5_4ppr4q</td>\n",
       "    </tr>\n",
       "    <tr>\n",
       "      <th>3</th>\n",
       "      <td>0.706363</td>\n",
       "      <td>1071</td>\n",
       "      <td>kudurdum</td>\n",
       "      <td>None</td>\n",
       "      <td>None</td>\n",
       "      <td>Turkish</td>\n",
       "      <td>0.544170</td>\n",
       "      <td>7.0</td>\n",
       "      <td>9.0</td>\n",
       "      <td>None</td>\n",
       "      <td>None</td>\n",
       "      <td>Turkish</td>\n",
       "      <td>0.845133</td>\n",
       "      <td>t5_4ppr4q</td>\n",
       "    </tr>\n",
       "    <tr>\n",
       "      <th>4</th>\n",
       "      <td>0.698231</td>\n",
       "      <td>1071</td>\n",
       "      <td>okbrudimongo</td>\n",
       "      <td>r</td>\n",
       "      <td>Internet Culture and Memes</td>\n",
       "      <td>German</td>\n",
       "      <td>0.651042</td>\n",
       "      <td>4.0</td>\n",
       "      <td>9.0</td>\n",
       "      <td>None</td>\n",
       "      <td>None</td>\n",
       "      <td>Turkish</td>\n",
       "      <td>0.845133</td>\n",
       "      <td>t5_4ppr4q</td>\n",
       "    </tr>\n",
       "    <tr>\n",
       "      <th>5</th>\n",
       "      <td>0.695058</td>\n",
       "      <td>1071</td>\n",
       "      <td>playboicartihentai</td>\n",
       "      <td>None</td>\n",
       "      <td>None</td>\n",
       "      <td>English</td>\n",
       "      <td>0.592391</td>\n",
       "      <td>5.0</td>\n",
       "      <td>9.0</td>\n",
       "      <td>None</td>\n",
       "      <td>None</td>\n",
       "      <td>Turkish</td>\n",
       "      <td>0.845133</td>\n",
       "      <td>t5_4ppr4q</td>\n",
       "    </tr>\n",
       "  </tbody>\n",
       "</table>\n",
       "</div>"
      ],
      "text/plain": [
       "   cosine_distance subreddit_name_a    subreddit_name_b rating_b                     topic_b primary_post_language_b  primary_post_language_percent_b  post_median_word_count_b  post_median_word_count_a rating_a topic_a primary_post_language_a  primary_post_language_percent_a subreddit_id_a\n",
       "0         0.719657             1071   tamamahbapengelli     None                        None                 Turkish                         0.677419                       4.0                       9.0     None    None                 Turkish                         0.845133      t5_4ppr4q\n",
       "1         0.708699             1071           nonakanal     None                        None                  German                         0.712589                       6.0                       9.0     None    None                 Turkish                         0.845133      t5_4ppr4q\n",
       "2         0.706756             1071     okemakkermaloot     None                        None                   Dutch                         0.358974                       3.0                       9.0     None    None                 Turkish                         0.845133      t5_4ppr4q\n",
       "3         0.706363             1071            kudurdum     None                        None                 Turkish                         0.544170                       7.0                       9.0     None    None                 Turkish                         0.845133      t5_4ppr4q\n",
       "4         0.698231             1071        okbrudimongo        r  Internet Culture and Memes                  German                         0.651042                       4.0                       9.0     None    None                 Turkish                         0.845133      t5_4ppr4q\n",
       "5         0.695058             1071  playboicartihentai     None                        None                 English                         0.592391                       5.0                       9.0     None    None                 Turkish                         0.845133      t5_4ppr4q"
      ]
     },
     "execution_count": 34,
     "metadata": {},
     "output_type": "execute_result"
    }
   ],
   "source": [
    "df_subs_distance.iloc[:6, :14]"
   ]
  },
  {
   "cell_type": "markdown",
   "id": "73b8909e",
   "metadata": {},
   "source": [
    "## Load new cluster summary\n",
    "\n",
    "Use it to filter out or down-rank subs that are in NSFW clusters. Doesn't make sense to waste time ranking these b/c we won't use them yet."
   ]
  },
  {
   "cell_type": "code",
   "execution_count": 90,
   "id": "89594c9f",
   "metadata": {},
   "outputs": [
    {
     "name": "stdout",
     "output_type": "stream",
     "text": [
      "(200, 15)\n",
      "CPU times: user 10.7 ms, sys: 7.79 ms, total: 18.5 ms\n",
      "Wall time: 174 ms\n"
     ]
    }
   ],
   "source": [
    "%%time\n",
    "df_cluster_level_qa = pd.read_csv(\n",
    "    f\"{bucket_and_folder_prefix}/{f_cluster_summary_qa}\",\n",
    "    skiprows=d_clusters['f_skiprows_cluster_summary_qa'],   \n",
    ")\n",
    "\n",
    "print(df_cluster_level_qa.shape)"
   ]
  },
  {
   "cell_type": "code",
   "execution_count": 91,
   "id": "9c5f4cd9",
   "metadata": {},
   "outputs": [],
   "source": [
    "df_cluster_level_qa = (\n",
    "    df_cluster_level_qa\n",
    "    .rename(columns={'cluster ID\\n(ward cosine 200)': col_best_clusters_a})\n",
    "    .rename(\n",
    "        columns={c: (c\n",
    "                     .lower().replace(' ', '_')\n",
    "                     .replace('.', '')\n",
    "                     .replace('\\n', '_')\n",
    "                     .replace('(', '')\n",
    "                     .replace(')', '')\n",
    "                    ) for c in df_cluster_level_qa.columns}\n",
    "    )\n",
    ")\n",
    "\n",
    "df_cluster_level_qa = df_cluster_level_qa[[c for c in df_cluster_level_qa.columns if not c.endswith('cumul_sum')]]"
   ]
  },
  {
   "cell_type": "markdown",
   "id": "57c5d91a",
   "metadata": {},
   "source": [
    "### Create new column to set priority to label at cluster-level\n",
    "\n",
    "Main ideas: \n",
    "- move NSFW clusters to the bottom\n",
    "- keep clusters that have similar/shared topics at the top\n",
    "- keep clusters with a lot of German subs at the top"
   ]
  },
  {
   "cell_type": "code",
   "execution_count": 92,
   "id": "7e9cf125",
   "metadata": {},
   "outputs": [],
   "source": [
    "# sort col ascending=False to see German subreddits first\n",
    "df_cluster_level_qa['cluster_has_german_subs_and_mostly_sfw'] = np.where(\n",
    "    (\n",
    "        (df_cluster_level_qa['qa_topic_tier_1'].isin(['Mature Themes and Adult Content'])) |\n",
    "        (df_cluster_level_qa['german_subs_in_cluster_count'] < 1)\n",
    "    ),\n",
    "    'no',\n",
    "    'yes'\n",
    ")"
   ]
  },
  {
   "cell_type": "code",
   "execution_count": 97,
   "id": "bf0bc200",
   "metadata": {},
   "outputs": [],
   "source": [
    "df_cluster_level_qa = (\n",
    "    df_cluster_level_qa\n",
    "    .sort_values(\n",
    "        by=['cluster_has_german_subs_and_mostly_sfw', 'primary_topics_in_cluster', ],\n",
    "        ascending=[False, False, ],\n",
    "    )\n",
    ")\n",
    "# df_cluster_level_qa.head()"
   ]
  },
  {
   "cell_type": "markdown",
   "id": "9db08a95",
   "metadata": {},
   "source": [
    "## Load subreddit-level QA df\n",
    "It already contains a lot of URLs and aggregates that we don't need to recreate"
   ]
  },
  {
   "cell_type": "code",
   "execution_count": 144,
   "id": "d27e668b",
   "metadata": {},
   "outputs": [
    {
     "name": "stdout",
     "output_type": "stream",
     "text": [
      "(3768, 37)\n",
      "CPU times: user 66 ms, sys: 3.46 ms, total: 69.4 ms\n",
      "Wall time: 297 ms\n"
     ]
    }
   ],
   "source": [
    "%%time\n",
    "df_sub_cluster_qa = pd.read_csv(\n",
    "    f\"{bucket_and_folder_prefix}/{d_clusters['f_sub_level_cluster_qa_raw']}\",\n",
    "    skiprows=d_clusters['f_skiprows_sub_level_cluster_qa_raw'],   \n",
    ")\n",
    "\n",
    "print(df_sub_cluster_qa.shape)"
   ]
  },
  {
   "cell_type": "code",
   "execution_count": 148,
   "id": "0f50a3d9",
   "metadata": {},
   "outputs": [],
   "source": [
    "# counts_describe(df_sub_cluster_qa)"
   ]
  },
  {
   "cell_type": "code",
   "execution_count": 156,
   "id": "04babf99",
   "metadata": {},
   "outputs": [],
   "source": [
    "# df_sub_cluster_qa[[c for c in df_sub_cluster_qa.columns if not c.endswith('_description')]].head()"
   ]
  },
  {
   "cell_type": "markdown",
   "id": "88055eee",
   "metadata": {},
   "source": [
    "### add newly created cluster-level column to help sort final output"
   ]
  },
  {
   "cell_type": "code",
   "execution_count": 154,
   "id": "7bf49824",
   "metadata": {},
   "outputs": [
    {
     "data": {
      "text/plain": [
       "(3768, 38)"
      ]
     },
     "execution_count": 154,
     "metadata": {},
     "output_type": "execute_result"
    }
   ],
   "source": [
    "df_sub_cluster_qa = df_sub_cluster_qa.merge(\n",
    "    df_cluster_level_qa[[col_best_clusters_a, 'cluster_has_german_subs_and_mostly_sfw']],\n",
    "    how='left',\n",
    "    on=col_best_clusters_a\n",
    ")\n",
    "df_sub_cluster_qa.shape"
   ]
  },
  {
   "cell_type": "code",
   "execution_count": 155,
   "id": "6da421e8",
   "metadata": {},
   "outputs": [
    {
     "data": {
      "text/html": [
       "<div>\n",
       "<style scoped>\n",
       "    .dataframe tbody tr th:only-of-type {\n",
       "        vertical-align: middle;\n",
       "    }\n",
       "\n",
       "    .dataframe tbody tr th {\n",
       "        vertical-align: top;\n",
       "    }\n",
       "\n",
       "    .dataframe thead th {\n",
       "        text-align: right;\n",
       "    }\n",
       "</style>\n",
       "<table border=\"1\" class=\"dataframe\">\n",
       "  <thead>\n",
       "    <tr style=\"text-align: right;\">\n",
       "      <th></th>\n",
       "      <th>cluster_id_agg_ward_cosine_200</th>\n",
       "      <th>german_subs_in_cluster</th>\n",
       "      <th>primary_topics_in_cluster</th>\n",
       "      <th>subreddit_name</th>\n",
       "      <th>subreddit_id</th>\n",
       "      <th>subreddit_title</th>\n",
       "      <th>subreddit_url</th>\n",
       "      <th>subreddit_url_with_google_translate</th>\n",
       "      <th>german_or_ambassador_sub</th>\n",
       "      <th>geo_country_code</th>\n",
       "      <th>ambassador_sub</th>\n",
       "      <th>over_18</th>\n",
       "      <th>rating</th>\n",
       "      <th>topic</th>\n",
       "      <th>rating_version</th>\n",
       "      <th>topic_version</th>\n",
       "      <th>subreddit_language</th>\n",
       "      <th>primary_post_language</th>\n",
       "      <th>primary_post_language_percent</th>\n",
       "      <th>English_posts_percent</th>\n",
       "      <th>German_posts_percent</th>\n",
       "      <th>primary_post_type</th>\n",
       "      <th>primary_post_type_percent</th>\n",
       "      <th>posts_for_modeling_count</th>\n",
       "      <th>post_median_word_count</th>\n",
       "      <th>subscribers</th>\n",
       "      <th>users_l28</th>\n",
       "      <th>posts_l28</th>\n",
       "      <th>comments_l28</th>\n",
       "      <th>image_post_type_percent</th>\n",
       "      <th>text_post_type_percent</th>\n",
       "      <th>link_post_type_percent</th>\n",
       "      <th>mlflow_aggregation_run_uuid</th>\n",
       "      <th>manual_topic_and_rating</th>\n",
       "      <th>pt</th>\n",
       "      <th>users_l28_for_cluster</th>\n",
       "      <th>cluster_has_german_subs_and_mostly_sfw</th>\n",
       "    </tr>\n",
       "  </thead>\n",
       "  <tbody>\n",
       "    <tr>\n",
       "      <th>0</th>\n",
       "      <td>79</td>\n",
       "      <td>0</td>\n",
       "      <td>world news, over18_nsfw, podcasts and streamers, uncategorized</td>\n",
       "      <td>conspiracy</td>\n",
       "      <td>t5_2qh4r</td>\n",
       "      <td>conspiracy</td>\n",
       "      <td>https://www.reddit.com/r/conspiracy</td>\n",
       "      <td>https://translate.google.com/translate?hl=&amp;sl=auto&amp;tl=en&amp;u=https://www.reddit.com/r/conspiracy</td>\n",
       "      <td>no</td>\n",
       "      <td>NaN</td>\n",
       "      <td>no</td>\n",
       "      <td>f</td>\n",
       "      <td>r</td>\n",
       "      <td>NaN</td>\n",
       "      <td>v1</td>\n",
       "      <td>NaN</td>\n",
       "      <td>en</td>\n",
       "      <td>English</td>\n",
       "      <td>0.959167</td>\n",
       "      <td>0.959167</td>\n",
       "      <td>0.001667</td>\n",
       "      <td>image</td>\n",
       "      <td>0.454167</td>\n",
       "      <td>1200</td>\n",
       "      <td>19.0</td>\n",
       "      <td>1539186</td>\n",
       "      <td>1526551</td>\n",
       "      <td>14329</td>\n",
       "      <td>425993</td>\n",
       "      <td>0.454167</td>\n",
       "      <td>0.225833</td>\n",
       "      <td>0.280000</td>\n",
       "      <td>99158c385c5442b1bf5ff96fc44af7da</td>\n",
       "      <td>uncategorized</td>\n",
       "      <td>2021-07-16</td>\n",
       "      <td>2555559</td>\n",
       "      <td>no</td>\n",
       "    </tr>\n",
       "    <tr>\n",
       "      <th>1</th>\n",
       "      <td>79</td>\n",
       "      <td>0</td>\n",
       "      <td>world news, over18_nsfw, podcasts and streamers, uncategorized</td>\n",
       "      <td>worldnewsvideo</td>\n",
       "      <td>t5_31m0v</td>\n",
       "      <td>r/WorldNewsVideo: An Accurate Representation of the World</td>\n",
       "      <td>https://www.reddit.com/r/worldnewsvideo</td>\n",
       "      <td>https://translate.google.com/translate?hl=&amp;sl=auto&amp;tl=en&amp;u=https://www.reddit.com/r/worldnewsvideo</td>\n",
       "      <td>no</td>\n",
       "      <td>NaN</td>\n",
       "      <td>no</td>\n",
       "      <td>f</td>\n",
       "      <td>NaN</td>\n",
       "      <td>NaN</td>\n",
       "      <td>NaN</td>\n",
       "      <td>NaN</td>\n",
       "      <td>en</td>\n",
       "      <td>English</td>\n",
       "      <td>0.938838</td>\n",
       "      <td>0.938838</td>\n",
       "      <td>0.007136</td>\n",
       "      <td>video</td>\n",
       "      <td>0.712538</td>\n",
       "      <td>981</td>\n",
       "      <td>9.0</td>\n",
       "      <td>61916</td>\n",
       "      <td>373190</td>\n",
       "      <td>708</td>\n",
       "      <td>9047</td>\n",
       "      <td>0.002039</td>\n",
       "      <td>0.002039</td>\n",
       "      <td>0.079511</td>\n",
       "      <td>99158c385c5442b1bf5ff96fc44af7da</td>\n",
       "      <td>uncategorized</td>\n",
       "      <td>2021-07-16</td>\n",
       "      <td>2555559</td>\n",
       "      <td>no</td>\n",
       "    </tr>\n",
       "    <tr>\n",
       "      <th>2</th>\n",
       "      <td>79</td>\n",
       "      <td>0</td>\n",
       "      <td>world news, over18_nsfw, podcasts and streamers, uncategorized</td>\n",
       "      <td>lostgeneration</td>\n",
       "      <td>t5_2r40j</td>\n",
       "      <td>For those who did everything our parents told us to do... now what?</td>\n",
       "      <td>https://www.reddit.com/r/lostgeneration</td>\n",
       "      <td>https://translate.google.com/translate?hl=&amp;sl=auto&amp;tl=en&amp;u=https://www.reddit.com/r/lostgeneration</td>\n",
       "      <td>no</td>\n",
       "      <td>NaN</td>\n",
       "      <td>no</td>\n",
       "      <td>f</td>\n",
       "      <td>pg</td>\n",
       "      <td>NaN</td>\n",
       "      <td>v1</td>\n",
       "      <td>NaN</td>\n",
       "      <td>en</td>\n",
       "      <td>English</td>\n",
       "      <td>0.933142</td>\n",
       "      <td>0.933142</td>\n",
       "      <td>0.007641</td>\n",
       "      <td>crosspost</td>\n",
       "      <td>0.369628</td>\n",
       "      <td>1047</td>\n",
       "      <td>10.0</td>\n",
       "      <td>205284</td>\n",
       "      <td>173041</td>\n",
       "      <td>805</td>\n",
       "      <td>13751</td>\n",
       "      <td>0.235912</td>\n",
       "      <td>0.081184</td>\n",
       "      <td>0.299904</td>\n",
       "      <td>99158c385c5442b1bf5ff96fc44af7da</td>\n",
       "      <td>uncategorized</td>\n",
       "      <td>2021-07-16</td>\n",
       "      <td>2555559</td>\n",
       "      <td>no</td>\n",
       "    </tr>\n",
       "    <tr>\n",
       "      <th>3</th>\n",
       "      <td>79</td>\n",
       "      <td>0</td>\n",
       "      <td>world news, over18_nsfw, podcasts and streamers, uncategorized</td>\n",
       "      <td>transgender</td>\n",
       "      <td>t5_2qxpm</td>\n",
       "      <td>Transgender news, issues, and discussion</td>\n",
       "      <td>https://www.reddit.com/r/transgender</td>\n",
       "      <td>https://translate.google.com/translate?hl=&amp;sl=auto&amp;tl=en&amp;u=https://www.reddit.com/r/transgender</td>\n",
       "      <td>no</td>\n",
       "      <td>NaN</td>\n",
       "      <td>no</td>\n",
       "      <td>f</td>\n",
       "      <td>pg13</td>\n",
       "      <td>NaN</td>\n",
       "      <td>v2</td>\n",
       "      <td>NaN</td>\n",
       "      <td>en</td>\n",
       "      <td>English</td>\n",
       "      <td>0.960094</td>\n",
       "      <td>0.960094</td>\n",
       "      <td>0.014085</td>\n",
       "      <td>link</td>\n",
       "      <td>0.978873</td>\n",
       "      <td>426</td>\n",
       "      <td>12.0</td>\n",
       "      <td>129410</td>\n",
       "      <td>140606</td>\n",
       "      <td>361</td>\n",
       "      <td>4540</td>\n",
       "      <td>0.000000</td>\n",
       "      <td>0.000000</td>\n",
       "      <td>0.978873</td>\n",
       "      <td>99158c385c5442b1bf5ff96fc44af7da</td>\n",
       "      <td>uncategorized</td>\n",
       "      <td>2021-07-16</td>\n",
       "      <td>2555559</td>\n",
       "      <td>no</td>\n",
       "    </tr>\n",
       "    <tr>\n",
       "      <th>4</th>\n",
       "      <td>79</td>\n",
       "      <td>0</td>\n",
       "      <td>world news, over18_nsfw, podcasts and streamers, uncategorized</td>\n",
       "      <td>skeptic</td>\n",
       "      <td>t5_2qj8f</td>\n",
       "      <td>skeptic</td>\n",
       "      <td>https://www.reddit.com/r/skeptic</td>\n",
       "      <td>https://translate.google.com/translate?hl=&amp;sl=auto&amp;tl=en&amp;u=https://www.reddit.com/r/skeptic</td>\n",
       "      <td>no</td>\n",
       "      <td>NaN</td>\n",
       "      <td>no</td>\n",
       "      <td>f</td>\n",
       "      <td>r</td>\n",
       "      <td>NaN</td>\n",
       "      <td>v2</td>\n",
       "      <td>NaN</td>\n",
       "      <td>en</td>\n",
       "      <td>English</td>\n",
       "      <td>0.969889</td>\n",
       "      <td>0.969889</td>\n",
       "      <td>0.003170</td>\n",
       "      <td>link</td>\n",
       "      <td>0.789223</td>\n",
       "      <td>631</td>\n",
       "      <td>13.0</td>\n",
       "      <td>154789</td>\n",
       "      <td>75255</td>\n",
       "      <td>455</td>\n",
       "      <td>12044</td>\n",
       "      <td>0.017433</td>\n",
       "      <td>0.187005</td>\n",
       "      <td>0.789223</td>\n",
       "      <td>99158c385c5442b1bf5ff96fc44af7da</td>\n",
       "      <td>uncategorized</td>\n",
       "      <td>2021-07-16</td>\n",
       "      <td>2555559</td>\n",
       "      <td>no</td>\n",
       "    </tr>\n",
       "  </tbody>\n",
       "</table>\n",
       "</div>"
      ],
      "text/plain": [
       "   cluster_id_agg_ward_cosine_200  german_subs_in_cluster                                       primary_topics_in_cluster  subreddit_name subreddit_id                                                      subreddit_title                            subreddit_url  \\\n",
       "0                              79                       0  world news, over18_nsfw, podcasts and streamers, uncategorized      conspiracy     t5_2qh4r                                                           conspiracy      https://www.reddit.com/r/conspiracy   \n",
       "1                              79                       0  world news, over18_nsfw, podcasts and streamers, uncategorized  worldnewsvideo     t5_31m0v            r/WorldNewsVideo: An Accurate Representation of the World  https://www.reddit.com/r/worldnewsvideo   \n",
       "2                              79                       0  world news, over18_nsfw, podcasts and streamers, uncategorized  lostgeneration     t5_2r40j  For those who did everything our parents told us to do... now what?  https://www.reddit.com/r/lostgeneration   \n",
       "3                              79                       0  world news, over18_nsfw, podcasts and streamers, uncategorized     transgender     t5_2qxpm                             Transgender news, issues, and discussion     https://www.reddit.com/r/transgender   \n",
       "4                              79                       0  world news, over18_nsfw, podcasts and streamers, uncategorized         skeptic     t5_2qj8f                                                              skeptic         https://www.reddit.com/r/skeptic   \n",
       "\n",
       "                                                                  subreddit_url_with_google_translate german_or_ambassador_sub geo_country_code ambassador_sub over_18 rating topic rating_version topic_version subreddit_language primary_post_language  primary_post_language_percent  \\\n",
       "0      https://translate.google.com/translate?hl=&sl=auto&tl=en&u=https://www.reddit.com/r/conspiracy                       no              NaN             no       f      r   NaN             v1           NaN                 en               English                       0.959167   \n",
       "1  https://translate.google.com/translate?hl=&sl=auto&tl=en&u=https://www.reddit.com/r/worldnewsvideo                       no              NaN             no       f    NaN   NaN            NaN           NaN                 en               English                       0.938838   \n",
       "2  https://translate.google.com/translate?hl=&sl=auto&tl=en&u=https://www.reddit.com/r/lostgeneration                       no              NaN             no       f     pg   NaN             v1           NaN                 en               English                       0.933142   \n",
       "3     https://translate.google.com/translate?hl=&sl=auto&tl=en&u=https://www.reddit.com/r/transgender                       no              NaN             no       f   pg13   NaN             v2           NaN                 en               English                       0.960094   \n",
       "4         https://translate.google.com/translate?hl=&sl=auto&tl=en&u=https://www.reddit.com/r/skeptic                       no              NaN             no       f      r   NaN             v2           NaN                 en               English                       0.969889   \n",
       "\n",
       "   English_posts_percent  German_posts_percent primary_post_type  primary_post_type_percent  posts_for_modeling_count  post_median_word_count  subscribers  users_l28  posts_l28  comments_l28  image_post_type_percent  text_post_type_percent  link_post_type_percent       mlflow_aggregation_run_uuid  \\\n",
       "0               0.959167              0.001667             image                   0.454167                      1200                    19.0      1539186    1526551      14329        425993                 0.454167                0.225833                0.280000  99158c385c5442b1bf5ff96fc44af7da   \n",
       "1               0.938838              0.007136             video                   0.712538                       981                     9.0        61916     373190        708          9047                 0.002039                0.002039                0.079511  99158c385c5442b1bf5ff96fc44af7da   \n",
       "2               0.933142              0.007641         crosspost                   0.369628                      1047                    10.0       205284     173041        805         13751                 0.235912                0.081184                0.299904  99158c385c5442b1bf5ff96fc44af7da   \n",
       "3               0.960094              0.014085              link                   0.978873                       426                    12.0       129410     140606        361          4540                 0.000000                0.000000                0.978873  99158c385c5442b1bf5ff96fc44af7da   \n",
       "4               0.969889              0.003170              link                   0.789223                       631                    13.0       154789      75255        455         12044                 0.017433                0.187005                0.789223  99158c385c5442b1bf5ff96fc44af7da   \n",
       "\n",
       "  manual_topic_and_rating          pt  users_l28_for_cluster cluster_has_german_subs_and_mostly_sfw  \n",
       "0           uncategorized  2021-07-16                2555559                                     no  \n",
       "1           uncategorized  2021-07-16                2555559                                     no  \n",
       "2           uncategorized  2021-07-16                2555559                                     no  \n",
       "3           uncategorized  2021-07-16                2555559                                     no  \n",
       "4           uncategorized  2021-07-16                2555559                                     no  "
      ]
     },
     "execution_count": 155,
     "metadata": {},
     "output_type": "execute_result"
    }
   ],
   "source": [
    "df_sub_cluster_qa[[c for c in df_sub_cluster_qa.columns if not c.endswith('_description')]].head()"
   ]
  },
  {
   "cell_type": "markdown",
   "id": "e92a6ce9",
   "metadata": {},
   "source": [
    "# Append Ambassador & German-geo-relevant flags\n",
    "\n",
    "Need to use them to limit which subreddits to use as sub-a (seeds)."
   ]
  },
  {
   "cell_type": "code",
   "execution_count": 187,
   "id": "592df4ef",
   "metadata": {},
   "outputs": [
    {
     "data": {
      "text/plain": [
       "(108, 6)"
      ]
     },
     "execution_count": 187,
     "metadata": {},
     "output_type": "execute_result"
    }
   ],
   "source": [
    "df_sub_seeds_combined.shape"
   ]
  },
  {
   "cell_type": "code",
   "execution_count": 193,
   "id": "2ff5c7b6",
   "metadata": {},
   "outputs": [],
   "source": [
    "# df_sub_seeds_combined.head(10)"
   ]
  },
  {
   "cell_type": "code",
   "execution_count": 192,
   "id": "cade86eb",
   "metadata": {},
   "outputs": [],
   "source": [
    "# (\n",
    "#     df_sub_seeds_combined.head(20)\n",
    "#     .rename(columns={'subreddit_name': 'subreddit_name_a',\n",
    "#                      'counterpart_name': 'subreddit_name_b',\n",
    "#                     })\n",
    "# )"
   ]
  },
  {
   "cell_type": "code",
   "execution_count": 263,
   "id": "ca8dc511",
   "metadata": {},
   "outputs": [
    {
     "name": "stderr",
     "output_type": "stream",
     "text": [
      "22:04:06 | INFO | \"(14186522, 18)  <- Original df_distance shape\"\n",
      "22:04:06 | INFO | \"Append geo-country code + ambassador flags to sub-A\"\n"
     ]
    },
    {
     "data": {
      "application/vnd.jupyter.widget-view+json": {
       "model_id": "4cbc37c1152b49a68decf89306d6586a",
       "version_major": 2,
       "version_minor": 0
      },
      "text/plain": [
       "  0%|          | 0/1 [00:00<?, ?it/s]"
      ]
     },
     "metadata": {},
     "output_type": "display_data"
    },
    {
     "name": "stderr",
     "output_type": "stream",
     "text": [
      "22:04:20 | INFO | \"Keep only subs-A that are German relevant\"\n",
      "22:04:26 | INFO | \"(2210642, 21)  <- Shape after keeping only German-relevant sub-a\"\n",
      "22:04:26 | INFO | \"Keep only top N subs by distance\"\n",
      "22:04:29 | INFO | \"(102725, 21)  <- Shape after keeping only top 175 per sub-a\"\n",
      "22:04:29 | INFO | \"Append German-relevant columns to sub-B\"\n"
     ]
    },
    {
     "data": {
      "application/vnd.jupyter.widget-view+json": {
       "model_id": "a60504a059914b36b113cacf9c77f6d1",
       "version_major": 2,
       "version_minor": 0
      },
      "text/plain": [
       "  0%|          | 0/1 [00:00<?, ?it/s]"
      ]
     },
     "metadata": {},
     "output_type": "display_data"
    },
    {
     "name": "stderr",
     "output_type": "stream",
     "text": [
      "22:04:29 | INFO | \"Append cluster-metadata to both subs-A & B\"\n"
     ]
    },
    {
     "data": {
      "application/vnd.jupyter.widget-view+json": {
       "model_id": "2dc5efd9d84f4027a4f0be2a8c4b7d12",
       "version_major": 2,
       "version_minor": 0
      },
      "text/plain": [
       "  0%|          | 0/2 [00:00<?, ?it/s]"
      ]
     },
     "metadata": {},
     "output_type": "display_data"
    },
    {
     "name": "stderr",
     "output_type": "stream",
     "text": [
      "22:04:29 | INFO | \"Create new col to check whether sub-a & sub-b are in same cluster\"\n",
      "22:04:29 | INFO | \"Move sub-B's in same cluster higher up / append them\"\n",
      "22:04:29 | INFO | \"Sort rows before output\"\n",
      "22:04:30 | INFO | \"(12914, 45)  <- Shape after keeping only top 10 by distance and 20 subs in cluster per sub-a\"\n",
      "22:04:30 | INFO | \"Add seed counterpart subs...\"\n"
     ]
    },
    {
     "name": "stdout",
     "output_type": "stream",
     "text": [
      "CPU times: user 20.8 s, sys: 4.44 s, total: 25.2 s\n",
      "Wall time: 25.2 s\n"
     ]
    }
   ],
   "source": [
    "%%time\n",
    "# run process with fxn, so it's easier to repeat & change\n",
    "\n",
    "df_subs_distance_qa_top = reshape_for_distance_qa(\n",
    "    df_subs_distance=df_subs_distance,  # .head(390000),\n",
    "    df_geo=df_geo,\n",
    "    df_ambassador=df_ambassador,\n",
    "    df_subs_cluster=df_sub_cluster_qa,\n",
    "    df_counterpart_seeds=df_sub_seeds_combined,\n",
    "    \n",
    "    top_n_subs_by_distance=10,\n",
    "    top_n_subs_in_cluster=20,\n",
    "    top_n_subs_not_german=5,\n",
    "\n",
    "    col_cluster_id=col_best_clusters_a,\n",
    "    col_manual_topic='manual_topic_and_rating',\n",
    "    col_ger_subs_count='german_subs_in_cluster',\n",
    "    col_ger_or_ambassador='german_or_ambassador_sub',\n",
    "    col_cluster_users_l28_sum='users_l28_for_cluster',\n",
    "    col_cluster_primary_topics='primary_topics_in_cluster',\n",
    ")"
   ]
  },
  {
   "cell_type": "code",
   "execution_count": 263,
   "id": "cc98ae7f",
   "metadata": {},
   "outputs": [
    {
     "name": "stderr",
     "output_type": "stream",
     "text": [
      "22:04:06 | INFO | \"(14186522, 18)  <- Original df_distance shape\"\n",
      "22:04:06 | INFO | \"Append geo-country code + ambassador flags to sub-A\"\n"
     ]
    },
    {
     "data": {
      "application/vnd.jupyter.widget-view+json": {
       "model_id": "4cbc37c1152b49a68decf89306d6586a",
       "version_major": 2,
       "version_minor": 0
      },
      "text/plain": [
       "  0%|          | 0/1 [00:00<?, ?it/s]"
      ]
     },
     "metadata": {},
     "output_type": "display_data"
    },
    {
     "name": "stderr",
     "output_type": "stream",
     "text": [
      "22:04:20 | INFO | \"Keep only subs-A that are German relevant\"\n",
      "22:04:26 | INFO | \"(2210642, 21)  <- Shape after keeping only German-relevant sub-a\"\n",
      "22:04:26 | INFO | \"Keep only top N subs by distance\"\n",
      "22:04:29 | INFO | \"(102725, 21)  <- Shape after keeping only top 175 per sub-a\"\n",
      "22:04:29 | INFO | \"Append German-relevant columns to sub-B\"\n"
     ]
    },
    {
     "data": {
      "application/vnd.jupyter.widget-view+json": {
       "model_id": "a60504a059914b36b113cacf9c77f6d1",
       "version_major": 2,
       "version_minor": 0
      },
      "text/plain": [
       "  0%|          | 0/1 [00:00<?, ?it/s]"
      ]
     },
     "metadata": {},
     "output_type": "display_data"
    },
    {
     "name": "stderr",
     "output_type": "stream",
     "text": [
      "22:04:29 | INFO | \"Append cluster-metadata to both subs-A & B\"\n"
     ]
    },
    {
     "data": {
      "application/vnd.jupyter.widget-view+json": {
       "model_id": "2dc5efd9d84f4027a4f0be2a8c4b7d12",
       "version_major": 2,
       "version_minor": 0
      },
      "text/plain": [
       "  0%|          | 0/2 [00:00<?, ?it/s]"
      ]
     },
     "metadata": {},
     "output_type": "display_data"
    },
    {
     "name": "stderr",
     "output_type": "stream",
     "text": [
      "22:04:29 | INFO | \"Create new col to check whether sub-a & sub-b are in same cluster\"\n",
      "22:04:29 | INFO | \"Move sub-B's in same cluster higher up / append them\"\n",
      "22:04:29 | INFO | \"Sort rows before output\"\n",
      "22:04:30 | INFO | \"(12914, 45)  <- Shape after keeping only top 10 by distance and 20 subs in cluster per sub-a\"\n",
      "22:04:30 | INFO | \"Add seed counterpart subs...\"\n"
     ]
    },
    {
     "name": "stdout",
     "output_type": "stream",
     "text": [
      "CPU times: user 20.8 s, sys: 4.44 s, total: 25.2 s\n",
      "Wall time: 25.2 s\n"
     ]
    }
   ],
   "source": [
    "%%time\n",
    "# run process with fxn, so it's easier to repeat & change\n",
    "\n",
    "df_subs_distance_qa_top = reshape_for_distance_qa(\n",
    "    df_subs_distance=df_subs_distance,\n",
    "    df_geo=df_geo,\n",
    "    df_ambassador=df_ambassador,\n",
    "    df_subs_cluster=df_sub_cluster_qa,\n",
    "    df_counterpart_seeds=df_sub_seeds_combined,\n",
    "    \n",
    "    top_n_subs_by_distance=10,\n",
    "    top_n_subs_in_cluster=20,\n",
    "    top_n_subs_not_german=5,\n",
    ")"
   ]
  },
  {
   "cell_type": "code",
   "execution_count": 264,
   "id": "87254526",
   "metadata": {},
   "outputs": [],
   "source": [
    "# list(df_sub_cluster_qa.columns)"
   ]
  },
  {
   "cell_type": "code",
   "execution_count": 265,
   "id": "d2761377",
   "metadata": {},
   "outputs": [],
   "source": [
    "# df_sub_cluster_qa.head()"
   ]
  },
  {
   "cell_type": "code",
   "execution_count": 266,
   "id": "6c96aaf4",
   "metadata": {},
   "outputs": [
    {
     "data": {
      "application/vnd.jupyter.widget-view+json": {
       "model_id": "86df79b410fb4c31bf5ea2d9d8d74931",
       "version_major": 2,
       "version_minor": 0
      },
      "text/plain": [
       "  0%|          | 0/3 [00:00<?, ?it/s]"
      ]
     },
     "metadata": {},
     "output_type": "display_data"
    },
    {
     "name": "stdout",
     "output_type": "stream",
     "text": [
      "(19, 45)\n"
     ]
    },
    {
     "data": {
      "text/html": [
       "<style  type=\"text/css\" >\n",
       "</style><table id=\"T_78307_\" ><thead>    <tr>        <th class=\"blank level0\" ></th>        <th class=\"col_heading level0 col0\" >cosine_distance</th>        <th class=\"col_heading level0 col1\" >subreddit_name_a</th>        <th class=\"col_heading level0 col2\" >subreddit_name_b</th>        <th class=\"col_heading level0 col3\" >subreddit_a_and_b_in_same_cluster</th>        <th class=\"col_heading level0 col4\" >german_or_ambassador_sub_a</th>        <th class=\"col_heading level0 col5\" >german_or_ambassador_sub_b</th>        <th class=\"col_heading level0 col6\" >rating_b</th>        <th class=\"col_heading level0 col7\" >topic_b</th>        <th class=\"col_heading level0 col8\" >subreddit_title_a</th>        <th class=\"col_heading level0 col9\" >subreddit_title_b</th>        <th class=\"col_heading level0 col10\" >primary_post_language_b</th>        <th class=\"col_heading level0 col11\" >primary_post_language_percent_b</th>        <th class=\"col_heading level0 col12\" >German_posts_percent_b</th>        <th class=\"col_heading level0 col13\" >primary_post_language_a</th>        <th class=\"col_heading level0 col14\" >primary_post_language_percent_a</th>        <th class=\"col_heading level0 col15\" >German_posts_percent_a</th>        <th class=\"col_heading level0 col16\" >german_subs_in_cluster_a</th>        <th class=\"col_heading level0 col17\" >subreddit_url_a</th>        <th class=\"col_heading level0 col18\" >subreddit_url_with_google_translate_a</th>        <th class=\"col_heading level0 col19\" >subreddit_url_b</th>        <th class=\"col_heading level0 col20\" >subreddit_url_with_google_translate_b</th>        <th class=\"col_heading level0 col21\" >post_median_word_count_b</th>        <th class=\"col_heading level0 col22\" >post_median_word_count_a</th>        <th class=\"col_heading level0 col23\" >rating_a</th>        <th class=\"col_heading level0 col24\" >topic_a</th>        <th class=\"col_heading level0 col25\" >subreddit_id_a</th>        <th class=\"col_heading level0 col26\" >subreddit_id_b</th>        <th class=\"col_heading level0 col27\" >manual_topic_and_rating_a</th>        <th class=\"col_heading level0 col28\" >manual_topic_and_rating_b</th>        <th class=\"col_heading level0 col29\" >mlflow_aggregation_run_uuid</th>        <th class=\"col_heading level0 col30\" >geo_country_code_a</th>        <th class=\"col_heading level0 col31\" >ambassador_sub_a</th>        <th class=\"col_heading level0 col32\" >geo_country_code_b</th>        <th class=\"col_heading level0 col33\" >ambassador_sub_b</th>        <th class=\"col_heading level0 col34\" >cluster_id_agg_ward_cosine_200_a</th>        <th class=\"col_heading level0 col35\" >cluster_has_german_subs_and_mostly_sfw_a</th>        <th class=\"col_heading level0 col36\" >users_l28_a</th>        <th class=\"col_heading level0 col37\" >posts_l28_a</th>        <th class=\"col_heading level0 col38\" >cluster_id_agg_ward_cosine_200_b</th>        <th class=\"col_heading level0 col39\" >german_subs_in_cluster_b</th>        <th class=\"col_heading level0 col40\" >cluster_has_german_subs_and_mostly_sfw_b</th>        <th class=\"col_heading level0 col41\" >users_l28_b</th>        <th class=\"col_heading level0 col42\" >posts_l28_b</th>    </tr></thead><tbody>\n",
       "                <tr>\n",
       "                        <th id=\"T_78307_level0_row0\" class=\"row_heading level0 row0\" >0</th>\n",
       "                        <td id=\"T_78307_row0_col0\" class=\"data row0 col0\" >0.7877</td>\n",
       "                        <td id=\"T_78307_row0_col1\" class=\"data row0 col1\" >de</td>\n",
       "                        <td id=\"T_78307_row0_col2\" class=\"data row0 col2\" >satire_de_en</td>\n",
       "                        <td id=\"T_78307_row0_col3\" class=\"data row0 col3\" >False</td>\n",
       "                        <td id=\"T_78307_row0_col4\" class=\"data row0 col4\" >yes</td>\n",
       "                        <td id=\"T_78307_row0_col5\" class=\"data row0 col5\" >no</td>\n",
       "                        <td id=\"T_78307_row0_col6\" class=\"data row0 col6\" >pg</td>\n",
       "                        <td id=\"T_78307_row0_col7\" class=\"data row0 col7\" >Funny/Humor</td>\n",
       "                        <td id=\"T_78307_row0_col8\" class=\"data row0 col8\" >r/de – Extraordinär gut!</td>\n",
       "                        <td id=\"T_78307_row0_col9\" class=\"data row0 col9\" >Satire-Nachrichten auf deutsch und englisch - - - - - - - - Satirical News in English and German</td>\n",
       "                        <td id=\"T_78307_row0_col10\" class=\"data row0 col10\" >German</td>\n",
       "                        <td id=\"T_78307_row0_col11\" class=\"data row0 col11\" >96.61%</td>\n",
       "                        <td id=\"T_78307_row0_col12\" class=\"data row0 col12\" >96.61%</td>\n",
       "                        <td id=\"T_78307_row0_col13\" class=\"data row0 col13\" >German</td>\n",
       "                        <td id=\"T_78307_row0_col14\" class=\"data row0 col14\" >95.83%</td>\n",
       "                        <td id=\"T_78307_row0_col15\" class=\"data row0 col15\" >95.83%</td>\n",
       "                        <td id=\"T_78307_row0_col16\" class=\"data row0 col16\" >1</td>\n",
       "                        <td id=\"T_78307_row0_col17\" class=\"data row0 col17\" >https://www.reddit.com/r/de</td>\n",
       "                        <td id=\"T_78307_row0_col18\" class=\"data row0 col18\" >https://translate.google.com/translate?hl=&sl=auto&tl=en&u=https://www.reddit.com/r/de</td>\n",
       "                        <td id=\"T_78307_row0_col19\" class=\"data row0 col19\" >https://www.reddit.com/r/satire_de_en</td>\n",
       "                        <td id=\"T_78307_row0_col20\" class=\"data row0 col20\" >https://translate.google.com/translate?hl=&sl=auto&tl=en&u=https://www.reddit.com/r/satire_de_en</td>\n",
       "                        <td id=\"T_78307_row0_col21\" class=\"data row0 col21\" >11</td>\n",
       "                        <td id=\"T_78307_row0_col22\" class=\"data row0 col22\" >11</td>\n",
       "                        <td id=\"T_78307_row0_col23\" class=\"data row0 col23\" >pg13</td>\n",
       "                        <td id=\"T_78307_row0_col24\" class=\"data row0 col24\" >None</td>\n",
       "                        <td id=\"T_78307_row0_col25\" class=\"data row0 col25\" >t5_22i0</td>\n",
       "                        <td id=\"T_78307_row0_col26\" class=\"data row0 col26\" >t5_9k044</td>\n",
       "                        <td id=\"T_78307_row0_col27\" class=\"data row0 col27\" >place/culture</td>\n",
       "                        <td id=\"T_78307_row0_col28\" class=\"data row0 col28\" >funny/humor</td>\n",
       "                        <td id=\"T_78307_row0_col29\" class=\"data row0 col29\" >99158c385c5442b1bf5ff96fc44af7da</td>\n",
       "                        <td id=\"T_78307_row0_col30\" class=\"data row0 col30\" >DE</td>\n",
       "                        <td id=\"T_78307_row0_col31\" class=\"data row0 col31\" >no</td>\n",
       "                        <td id=\"T_78307_row0_col32\" class=\"data row0 col32\" >AT</td>\n",
       "                        <td id=\"T_78307_row0_col33\" class=\"data row0 col33\" >no</td>\n",
       "                        <td id=\"T_78307_row0_col34\" class=\"data row0 col34\" >114</td>\n",
       "                        <td id=\"T_78307_row0_col35\" class=\"data row0 col35\" >yes</td>\n",
       "                        <td id=\"T_78307_row0_col36\" class=\"data row0 col36\" >1,377,721</td>\n",
       "                        <td id=\"T_78307_row0_col37\" class=\"data row0 col37\" >5,755</td>\n",
       "                        <td id=\"T_78307_row0_col38\" class=\"data row0 col38\" >86</td>\n",
       "                        <td id=\"T_78307_row0_col39\" class=\"data row0 col39\" >17</td>\n",
       "                        <td id=\"T_78307_row0_col40\" class=\"data row0 col40\" >yes</td>\n",
       "                        <td id=\"T_78307_row0_col41\" class=\"data row0 col41\" >1,042</td>\n",
       "                        <td id=\"T_78307_row0_col42\" class=\"data row0 col42\" >82</td>\n",
       "            </tr>\n",
       "            <tr>\n",
       "                        <th id=\"T_78307_level0_row1\" class=\"row_heading level0 row1\" >1</th>\n",
       "                        <td id=\"T_78307_row1_col0\" class=\"data row1 col0\" >0.8094</td>\n",
       "                        <td id=\"T_78307_row1_col1\" class=\"data row1 col1\" >de</td>\n",
       "                        <td id=\"T_78307_row1_col2\" class=\"data row1 col2\" >dachschaden</td>\n",
       "                        <td id=\"T_78307_row1_col3\" class=\"data row1 col3\" >False</td>\n",
       "                        <td id=\"T_78307_row1_col4\" class=\"data row1 col4\" >yes</td>\n",
       "                        <td id=\"T_78307_row1_col5\" class=\"data row1 col5\" >yes</td>\n",
       "                        <td id=\"T_78307_row1_col6\" class=\"data row1 col6\" >r</td>\n",
       "                        <td id=\"T_78307_row1_col7\" class=\"data row1 col7\" >Culture, Race, and Ethnicity</td>\n",
       "                        <td id=\"T_78307_row1_col8\" class=\"data row1 col8\" >r/de – Extraordinär gut!</td>\n",
       "                        <td id=\"T_78307_row1_col9\" class=\"data row1 col9\" >DACHschaden</td>\n",
       "                        <td id=\"T_78307_row1_col10\" class=\"data row1 col10\" >German</td>\n",
       "                        <td id=\"T_78307_row1_col11\" class=\"data row1 col11\" >85.19%</td>\n",
       "                        <td id=\"T_78307_row1_col12\" class=\"data row1 col12\" >85.19%</td>\n",
       "                        <td id=\"T_78307_row1_col13\" class=\"data row1 col13\" >German</td>\n",
       "                        <td id=\"T_78307_row1_col14\" class=\"data row1 col14\" >95.83%</td>\n",
       "                        <td id=\"T_78307_row1_col15\" class=\"data row1 col15\" >95.83%</td>\n",
       "                        <td id=\"T_78307_row1_col16\" class=\"data row1 col16\" >1</td>\n",
       "                        <td id=\"T_78307_row1_col17\" class=\"data row1 col17\" >https://www.reddit.com/r/de</td>\n",
       "                        <td id=\"T_78307_row1_col18\" class=\"data row1 col18\" >https://translate.google.com/translate?hl=&sl=auto&tl=en&u=https://www.reddit.com/r/de</td>\n",
       "                        <td id=\"T_78307_row1_col19\" class=\"data row1 col19\" >https://www.reddit.com/r/dachschaden</td>\n",
       "                        <td id=\"T_78307_row1_col20\" class=\"data row1 col20\" >https://translate.google.com/translate?hl=&sl=auto&tl=en&u=https://www.reddit.com/r/dachschaden</td>\n",
       "                        <td id=\"T_78307_row1_col21\" class=\"data row1 col21\" >11</td>\n",
       "                        <td id=\"T_78307_row1_col22\" class=\"data row1 col22\" >11</td>\n",
       "                        <td id=\"T_78307_row1_col23\" class=\"data row1 col23\" >pg13</td>\n",
       "                        <td id=\"T_78307_row1_col24\" class=\"data row1 col24\" >None</td>\n",
       "                        <td id=\"T_78307_row1_col25\" class=\"data row1 col25\" >t5_22i0</td>\n",
       "                        <td id=\"T_78307_row1_col26\" class=\"data row1 col26\" >t5_irnzx</td>\n",
       "                        <td id=\"T_78307_row1_col27\" class=\"data row1 col27\" >place/culture</td>\n",
       "                        <td id=\"T_78307_row1_col28\" class=\"data row1 col28\" >culture, race, and ethnicity</td>\n",
       "                        <td id=\"T_78307_row1_col29\" class=\"data row1 col29\" >99158c385c5442b1bf5ff96fc44af7da</td>\n",
       "                        <td id=\"T_78307_row1_col30\" class=\"data row1 col30\" >DE</td>\n",
       "                        <td id=\"T_78307_row1_col31\" class=\"data row1 col31\" >no</td>\n",
       "                        <td id=\"T_78307_row1_col32\" class=\"data row1 col32\" >DE</td>\n",
       "                        <td id=\"T_78307_row1_col33\" class=\"data row1 col33\" >no</td>\n",
       "                        <td id=\"T_78307_row1_col34\" class=\"data row1 col34\" >114</td>\n",
       "                        <td id=\"T_78307_row1_col35\" class=\"data row1 col35\" >yes</td>\n",
       "                        <td id=\"T_78307_row1_col36\" class=\"data row1 col36\" >1,377,721</td>\n",
       "                        <td id=\"T_78307_row1_col37\" class=\"data row1 col37\" >5,755</td>\n",
       "                        <td id=\"T_78307_row1_col38\" class=\"data row1 col38\" >86</td>\n",
       "                        <td id=\"T_78307_row1_col39\" class=\"data row1 col39\" >17</td>\n",
       "                        <td id=\"T_78307_row1_col40\" class=\"data row1 col40\" >yes</td>\n",
       "                        <td id=\"T_78307_row1_col41\" class=\"data row1 col41\" >16,681</td>\n",
       "                        <td id=\"T_78307_row1_col42\" class=\"data row1 col42\" >191</td>\n",
       "            </tr>\n",
       "            <tr>\n",
       "                        <th id=\"T_78307_level0_row2\" class=\"row_heading level0 row2\" >2</th>\n",
       "                        <td id=\"T_78307_row2_col0\" class=\"data row2 col0\" >0.8074</td>\n",
       "                        <td id=\"T_78307_row2_col1\" class=\"data row2 col1\" >de</td>\n",
       "                        <td id=\"T_78307_row2_col2\" class=\"data row2 col2\" >derwachsen</td>\n",
       "                        <td id=\"T_78307_row2_col3\" class=\"data row2 col3\" >False</td>\n",
       "                        <td id=\"T_78307_row2_col4\" class=\"data row2 col4\" >yes</td>\n",
       "                        <td id=\"T_78307_row2_col5\" class=\"data row2 col5\" >yes</td>\n",
       "                        <td id=\"T_78307_row2_col6\" class=\"data row2 col6\" >None</td>\n",
       "                        <td id=\"T_78307_row2_col7\" class=\"data row2 col7\" >None</td>\n",
       "                        <td id=\"T_78307_row2_col8\" class=\"data row2 col8\" >r/de – Extraordinär gut!</td>\n",
       "                        <td id=\"T_78307_row2_col9\" class=\"data row2 col9\" >DErwachsen</td>\n",
       "                        <td id=\"T_78307_row2_col10\" class=\"data row2 col10\" >German</td>\n",
       "                        <td id=\"T_78307_row2_col11\" class=\"data row2 col11\" >92.88%</td>\n",
       "                        <td id=\"T_78307_row2_col12\" class=\"data row2 col12\" >92.88%</td>\n",
       "                        <td id=\"T_78307_row2_col13\" class=\"data row2 col13\" >German</td>\n",
       "                        <td id=\"T_78307_row2_col14\" class=\"data row2 col14\" >95.83%</td>\n",
       "                        <td id=\"T_78307_row2_col15\" class=\"data row2 col15\" >95.83%</td>\n",
       "                        <td id=\"T_78307_row2_col16\" class=\"data row2 col16\" >1</td>\n",
       "                        <td id=\"T_78307_row2_col17\" class=\"data row2 col17\" >https://www.reddit.com/r/de</td>\n",
       "                        <td id=\"T_78307_row2_col18\" class=\"data row2 col18\" >https://translate.google.com/translate?hl=&sl=auto&tl=en&u=https://www.reddit.com/r/de</td>\n",
       "                        <td id=\"T_78307_row2_col19\" class=\"data row2 col19\" >https://www.reddit.com/r/derwachsen</td>\n",
       "                        <td id=\"T_78307_row2_col20\" class=\"data row2 col20\" >https://translate.google.com/translate?hl=&sl=auto&tl=en&u=https://www.reddit.com/r/derwachsen</td>\n",
       "                        <td id=\"T_78307_row2_col21\" class=\"data row2 col21\" >10</td>\n",
       "                        <td id=\"T_78307_row2_col22\" class=\"data row2 col22\" >11</td>\n",
       "                        <td id=\"T_78307_row2_col23\" class=\"data row2 col23\" >pg13</td>\n",
       "                        <td id=\"T_78307_row2_col24\" class=\"data row2 col24\" >None</td>\n",
       "                        <td id=\"T_78307_row2_col25\" class=\"data row2 col25\" >t5_22i0</td>\n",
       "                        <td id=\"T_78307_row2_col26\" class=\"data row2 col26\" >t5_3c39m</td>\n",
       "                        <td id=\"T_78307_row2_col27\" class=\"data row2 col27\" >place/culture</td>\n",
       "                        <td id=\"T_78307_row2_col28\" class=\"data row2 col28\" >uncategorized</td>\n",
       "                        <td id=\"T_78307_row2_col29\" class=\"data row2 col29\" >99158c385c5442b1bf5ff96fc44af7da</td>\n",
       "                        <td id=\"T_78307_row2_col30\" class=\"data row2 col30\" >DE</td>\n",
       "                        <td id=\"T_78307_row2_col31\" class=\"data row2 col31\" >no</td>\n",
       "                        <td id=\"T_78307_row2_col32\" class=\"data row2 col32\" >DE</td>\n",
       "                        <td id=\"T_78307_row2_col33\" class=\"data row2 col33\" >no</td>\n",
       "                        <td id=\"T_78307_row2_col34\" class=\"data row2 col34\" >114</td>\n",
       "                        <td id=\"T_78307_row2_col35\" class=\"data row2 col35\" >yes</td>\n",
       "                        <td id=\"T_78307_row2_col36\" class=\"data row2 col36\" >1,377,721</td>\n",
       "                        <td id=\"T_78307_row2_col37\" class=\"data row2 col37\" >5,755</td>\n",
       "                        <td id=\"T_78307_row2_col38\" class=\"data row2 col38\" >86</td>\n",
       "                        <td id=\"T_78307_row2_col39\" class=\"data row2 col39\" >17</td>\n",
       "                        <td id=\"T_78307_row2_col40\" class=\"data row2 col40\" >yes</td>\n",
       "                        <td id=\"T_78307_row2_col41\" class=\"data row2 col41\" >1,343</td>\n",
       "                        <td id=\"T_78307_row2_col42\" class=\"data row2 col42\" >225</td>\n",
       "            </tr>\n",
       "            <tr>\n",
       "                        <th id=\"T_78307_level0_row3\" class=\"row_heading level0 row3\" >3</th>\n",
       "                        <td id=\"T_78307_row3_col0\" class=\"data row3 col0\" >0.7789</td>\n",
       "                        <td id=\"T_78307_row3_col1\" class=\"data row3 col1\" >de</td>\n",
       "                        <td id=\"T_78307_row3_col2\" class=\"data row3 col2\" >asozialesnetzwerk</td>\n",
       "                        <td id=\"T_78307_row3_col3\" class=\"data row3 col3\" >False</td>\n",
       "                        <td id=\"T_78307_row3_col4\" class=\"data row3 col4\" >yes</td>\n",
       "                        <td id=\"T_78307_row3_col5\" class=\"data row3 col5\" >yes</td>\n",
       "                        <td id=\"T_78307_row3_col6\" class=\"data row3 col6\" >None</td>\n",
       "                        <td id=\"T_78307_row3_col7\" class=\"data row3 col7\" >None</td>\n",
       "                        <td id=\"T_78307_row3_col8\" class=\"data row3 col8\" >r/de – Extraordinär gut!</td>\n",
       "                        <td id=\"T_78307_row3_col9\" class=\"data row3 col9\" >AN Sektion Reddit</td>\n",
       "                        <td id=\"T_78307_row3_col10\" class=\"data row3 col10\" >German</td>\n",
       "                        <td id=\"T_78307_row3_col11\" class=\"data row3 col11\" >83.27%</td>\n",
       "                        <td id=\"T_78307_row3_col12\" class=\"data row3 col12\" >83.27%</td>\n",
       "                        <td id=\"T_78307_row3_col13\" class=\"data row3 col13\" >German</td>\n",
       "                        <td id=\"T_78307_row3_col14\" class=\"data row3 col14\" >95.83%</td>\n",
       "                        <td id=\"T_78307_row3_col15\" class=\"data row3 col15\" >95.83%</td>\n",
       "                        <td id=\"T_78307_row3_col16\" class=\"data row3 col16\" >1</td>\n",
       "                        <td id=\"T_78307_row3_col17\" class=\"data row3 col17\" >https://www.reddit.com/r/de</td>\n",
       "                        <td id=\"T_78307_row3_col18\" class=\"data row3 col18\" >https://translate.google.com/translate?hl=&sl=auto&tl=en&u=https://www.reddit.com/r/de</td>\n",
       "                        <td id=\"T_78307_row3_col19\" class=\"data row3 col19\" >https://www.reddit.com/r/asozialesnetzwerk</td>\n",
       "                        <td id=\"T_78307_row3_col20\" class=\"data row3 col20\" >https://translate.google.com/translate?hl=&sl=auto&tl=en&u=https://www.reddit.com/r/asozialesnetzwerk</td>\n",
       "                        <td id=\"T_78307_row3_col21\" class=\"data row3 col21\" >8</td>\n",
       "                        <td id=\"T_78307_row3_col22\" class=\"data row3 col22\" >11</td>\n",
       "                        <td id=\"T_78307_row3_col23\" class=\"data row3 col23\" >pg13</td>\n",
       "                        <td id=\"T_78307_row3_col24\" class=\"data row3 col24\" >None</td>\n",
       "                        <td id=\"T_78307_row3_col25\" class=\"data row3 col25\" >t5_22i0</td>\n",
       "                        <td id=\"T_78307_row3_col26\" class=\"data row3 col26\" >t5_392ha</td>\n",
       "                        <td id=\"T_78307_row3_col27\" class=\"data row3 col27\" >place/culture</td>\n",
       "                        <td id=\"T_78307_row3_col28\" class=\"data row3 col28\" >uncategorized</td>\n",
       "                        <td id=\"T_78307_row3_col29\" class=\"data row3 col29\" >99158c385c5442b1bf5ff96fc44af7da</td>\n",
       "                        <td id=\"T_78307_row3_col30\" class=\"data row3 col30\" >DE</td>\n",
       "                        <td id=\"T_78307_row3_col31\" class=\"data row3 col31\" >no</td>\n",
       "                        <td id=\"T_78307_row3_col32\" class=\"data row3 col32\" >DE</td>\n",
       "                        <td id=\"T_78307_row3_col33\" class=\"data row3 col33\" >no</td>\n",
       "                        <td id=\"T_78307_row3_col34\" class=\"data row3 col34\" >114</td>\n",
       "                        <td id=\"T_78307_row3_col35\" class=\"data row3 col35\" >yes</td>\n",
       "                        <td id=\"T_78307_row3_col36\" class=\"data row3 col36\" >1,377,721</td>\n",
       "                        <td id=\"T_78307_row3_col37\" class=\"data row3 col37\" >5,755</td>\n",
       "                        <td id=\"T_78307_row3_col38\" class=\"data row3 col38\" >86</td>\n",
       "                        <td id=\"T_78307_row3_col39\" class=\"data row3 col39\" >17</td>\n",
       "                        <td id=\"T_78307_row3_col40\" class=\"data row3 col40\" >yes</td>\n",
       "                        <td id=\"T_78307_row3_col41\" class=\"data row3 col41\" >18,089</td>\n",
       "                        <td id=\"T_78307_row3_col42\" class=\"data row3 col42\" >162</td>\n",
       "            </tr>\n",
       "            <tr>\n",
       "                        <th id=\"T_78307_level0_row4\" class=\"row_heading level0 row4\" >4</th>\n",
       "                        <td id=\"T_78307_row4_col0\" class=\"data row4 col0\" >0.7578</td>\n",
       "                        <td id=\"T_78307_row4_col1\" class=\"data row4 col1\" >de</td>\n",
       "                        <td id=\"T_78307_row4_col2\" class=\"data row4 col2\" >gutenachrichten</td>\n",
       "                        <td id=\"T_78307_row4_col3\" class=\"data row4 col3\" >False</td>\n",
       "                        <td id=\"T_78307_row4_col4\" class=\"data row4 col4\" >yes</td>\n",
       "                        <td id=\"T_78307_row4_col5\" class=\"data row4 col5\" >yes</td>\n",
       "                        <td id=\"T_78307_row4_col6\" class=\"data row4 col6\" >None</td>\n",
       "                        <td id=\"T_78307_row4_col7\" class=\"data row4 col7\" >None</td>\n",
       "                        <td id=\"T_78307_row4_col8\" class=\"data row4 col8\" >r/de – Extraordinär gut!</td>\n",
       "                        <td id=\"T_78307_row4_col9\" class=\"data row4 col9\" >GuteNachrichten</td>\n",
       "                        <td id=\"T_78307_row4_col10\" class=\"data row4 col10\" >German</td>\n",
       "                        <td id=\"T_78307_row4_col11\" class=\"data row4 col11\" >97.44%</td>\n",
       "                        <td id=\"T_78307_row4_col12\" class=\"data row4 col12\" >97.44%</td>\n",
       "                        <td id=\"T_78307_row4_col13\" class=\"data row4 col13\" >German</td>\n",
       "                        <td id=\"T_78307_row4_col14\" class=\"data row4 col14\" >95.83%</td>\n",
       "                        <td id=\"T_78307_row4_col15\" class=\"data row4 col15\" >95.83%</td>\n",
       "                        <td id=\"T_78307_row4_col16\" class=\"data row4 col16\" >1</td>\n",
       "                        <td id=\"T_78307_row4_col17\" class=\"data row4 col17\" >https://www.reddit.com/r/de</td>\n",
       "                        <td id=\"T_78307_row4_col18\" class=\"data row4 col18\" >https://translate.google.com/translate?hl=&sl=auto&tl=en&u=https://www.reddit.com/r/de</td>\n",
       "                        <td id=\"T_78307_row4_col19\" class=\"data row4 col19\" >https://www.reddit.com/r/gutenachrichten</td>\n",
       "                        <td id=\"T_78307_row4_col20\" class=\"data row4 col20\" >https://translate.google.com/translate?hl=&sl=auto&tl=en&u=https://www.reddit.com/r/gutenachrichten</td>\n",
       "                        <td id=\"T_78307_row4_col21\" class=\"data row4 col21\" >10</td>\n",
       "                        <td id=\"T_78307_row4_col22\" class=\"data row4 col22\" >11</td>\n",
       "                        <td id=\"T_78307_row4_col23\" class=\"data row4 col23\" >pg13</td>\n",
       "                        <td id=\"T_78307_row4_col24\" class=\"data row4 col24\" >None</td>\n",
       "                        <td id=\"T_78307_row4_col25\" class=\"data row4 col25\" >t5_22i0</td>\n",
       "                        <td id=\"T_78307_row4_col26\" class=\"data row4 col26\" >t5_4e6q9m</td>\n",
       "                        <td id=\"T_78307_row4_col27\" class=\"data row4 col27\" >place/culture</td>\n",
       "                        <td id=\"T_78307_row4_col28\" class=\"data row4 col28\" >uncategorized</td>\n",
       "                        <td id=\"T_78307_row4_col29\" class=\"data row4 col29\" >99158c385c5442b1bf5ff96fc44af7da</td>\n",
       "                        <td id=\"T_78307_row4_col30\" class=\"data row4 col30\" >DE</td>\n",
       "                        <td id=\"T_78307_row4_col31\" class=\"data row4 col31\" >no</td>\n",
       "                        <td id=\"T_78307_row4_col32\" class=\"data row4 col32\" >nan</td>\n",
       "                        <td id=\"T_78307_row4_col33\" class=\"data row4 col33\" >yes</td>\n",
       "                        <td id=\"T_78307_row4_col34\" class=\"data row4 col34\" >114</td>\n",
       "                        <td id=\"T_78307_row4_col35\" class=\"data row4 col35\" >yes</td>\n",
       "                        <td id=\"T_78307_row4_col36\" class=\"data row4 col36\" >1,377,721</td>\n",
       "                        <td id=\"T_78307_row4_col37\" class=\"data row4 col37\" >5,755</td>\n",
       "                        <td id=\"T_78307_row4_col38\" class=\"data row4 col38\" >86</td>\n",
       "                        <td id=\"T_78307_row4_col39\" class=\"data row4 col39\" >17</td>\n",
       "                        <td id=\"T_78307_row4_col40\" class=\"data row4 col40\" >yes</td>\n",
       "                        <td id=\"T_78307_row4_col41\" class=\"data row4 col41\" >946</td>\n",
       "                        <td id=\"T_78307_row4_col42\" class=\"data row4 col42\" >47</td>\n",
       "            </tr>\n",
       "            <tr>\n",
       "                        <th id=\"T_78307_level0_row5\" class=\"row_heading level0 row5\" >5</th>\n",
       "                        <td id=\"T_78307_row5_col0\" class=\"data row5 col0\" >0.7574</td>\n",
       "                        <td id=\"T_78307_row5_col1\" class=\"data row5 col1\" >de</td>\n",
       "                        <td id=\"T_78307_row5_col2\" class=\"data row5 col2\" >coronakritiker</td>\n",
       "                        <td id=\"T_78307_row5_col3\" class=\"data row5 col3\" >False</td>\n",
       "                        <td id=\"T_78307_row5_col4\" class=\"data row5 col4\" >yes</td>\n",
       "                        <td id=\"T_78307_row5_col5\" class=\"data row5 col5\" >yes</td>\n",
       "                        <td id=\"T_78307_row5_col6\" class=\"data row5 col6\" >None</td>\n",
       "                        <td id=\"T_78307_row5_col7\" class=\"data row5 col7\" >None</td>\n",
       "                        <td id=\"T_78307_row5_col8\" class=\"data row5 col8\" >r/de – Extraordinär gut!</td>\n",
       "                        <td id=\"T_78307_row5_col9\" class=\"data row5 col9\" >Kritiker der Corona-Maßnahmen</td>\n",
       "                        <td id=\"T_78307_row5_col10\" class=\"data row5 col10\" >German</td>\n",
       "                        <td id=\"T_78307_row5_col11\" class=\"data row5 col11\" >80.95%</td>\n",
       "                        <td id=\"T_78307_row5_col12\" class=\"data row5 col12\" >80.95%</td>\n",
       "                        <td id=\"T_78307_row5_col13\" class=\"data row5 col13\" >German</td>\n",
       "                        <td id=\"T_78307_row5_col14\" class=\"data row5 col14\" >95.83%</td>\n",
       "                        <td id=\"T_78307_row5_col15\" class=\"data row5 col15\" >95.83%</td>\n",
       "                        <td id=\"T_78307_row5_col16\" class=\"data row5 col16\" >1</td>\n",
       "                        <td id=\"T_78307_row5_col17\" class=\"data row5 col17\" >https://www.reddit.com/r/de</td>\n",
       "                        <td id=\"T_78307_row5_col18\" class=\"data row5 col18\" >https://translate.google.com/translate?hl=&sl=auto&tl=en&u=https://www.reddit.com/r/de</td>\n",
       "                        <td id=\"T_78307_row5_col19\" class=\"data row5 col19\" >https://www.reddit.com/r/coronakritiker</td>\n",
       "                        <td id=\"T_78307_row5_col20\" class=\"data row5 col20\" >https://translate.google.com/translate?hl=&sl=auto&tl=en&u=https://www.reddit.com/r/coronakritiker</td>\n",
       "                        <td id=\"T_78307_row5_col21\" class=\"data row5 col21\" >11</td>\n",
       "                        <td id=\"T_78307_row5_col22\" class=\"data row5 col22\" >11</td>\n",
       "                        <td id=\"T_78307_row5_col23\" class=\"data row5 col23\" >pg13</td>\n",
       "                        <td id=\"T_78307_row5_col24\" class=\"data row5 col24\" >None</td>\n",
       "                        <td id=\"T_78307_row5_col25\" class=\"data row5 col25\" >t5_22i0</td>\n",
       "                        <td id=\"T_78307_row5_col26\" class=\"data row5 col26\" >t5_3bqlk2</td>\n",
       "                        <td id=\"T_78307_row5_col27\" class=\"data row5 col27\" >place/culture</td>\n",
       "                        <td id=\"T_78307_row5_col28\" class=\"data row5 col28\" >uncategorized</td>\n",
       "                        <td id=\"T_78307_row5_col29\" class=\"data row5 col29\" >99158c385c5442b1bf5ff96fc44af7da</td>\n",
       "                        <td id=\"T_78307_row5_col30\" class=\"data row5 col30\" >DE</td>\n",
       "                        <td id=\"T_78307_row5_col31\" class=\"data row5 col31\" >no</td>\n",
       "                        <td id=\"T_78307_row5_col32\" class=\"data row5 col32\" >DE</td>\n",
       "                        <td id=\"T_78307_row5_col33\" class=\"data row5 col33\" >no</td>\n",
       "                        <td id=\"T_78307_row5_col34\" class=\"data row5 col34\" >114</td>\n",
       "                        <td id=\"T_78307_row5_col35\" class=\"data row5 col35\" >yes</td>\n",
       "                        <td id=\"T_78307_row5_col36\" class=\"data row5 col36\" >1,377,721</td>\n",
       "                        <td id=\"T_78307_row5_col37\" class=\"data row5 col37\" >5,755</td>\n",
       "                        <td id=\"T_78307_row5_col38\" class=\"data row5 col38\" >86</td>\n",
       "                        <td id=\"T_78307_row5_col39\" class=\"data row5 col39\" >17</td>\n",
       "                        <td id=\"T_78307_row5_col40\" class=\"data row5 col40\" >yes</td>\n",
       "                        <td id=\"T_78307_row5_col41\" class=\"data row5 col41\" >560</td>\n",
       "                        <td id=\"T_78307_row5_col42\" class=\"data row5 col42\" >33</td>\n",
       "            </tr>\n",
       "            <tr>\n",
       "                        <th id=\"T_78307_level0_row6\" class=\"row_heading level0 row6\" >6</th>\n",
       "                        <td id=\"T_78307_row6_col0\" class=\"data row6 col0\" >0.7555</td>\n",
       "                        <td id=\"T_78307_row6_col1\" class=\"data row6 col1\" >de</td>\n",
       "                        <td id=\"T_78307_row6_col2\" class=\"data row6 col2\" >nachrichten</td>\n",
       "                        <td id=\"T_78307_row6_col3\" class=\"data row6 col3\" >False</td>\n",
       "                        <td id=\"T_78307_row6_col4\" class=\"data row6 col4\" >yes</td>\n",
       "                        <td id=\"T_78307_row6_col5\" class=\"data row6 col5\" >yes</td>\n",
       "                        <td id=\"T_78307_row6_col6\" class=\"data row6 col6\" >pg</td>\n",
       "                        <td id=\"T_78307_row6_col7\" class=\"data row6 col7\" >World News</td>\n",
       "                        <td id=\"T_78307_row6_col8\" class=\"data row6 col8\" >r/de – Extraordinär gut!</td>\n",
       "                        <td id=\"T_78307_row6_col9\" class=\"data row6 col9\" >Nachrichten</td>\n",
       "                        <td id=\"T_78307_row6_col10\" class=\"data row6 col10\" >German</td>\n",
       "                        <td id=\"T_78307_row6_col11\" class=\"data row6 col11\" >98.93%</td>\n",
       "                        <td id=\"T_78307_row6_col12\" class=\"data row6 col12\" >98.93%</td>\n",
       "                        <td id=\"T_78307_row6_col13\" class=\"data row6 col13\" >German</td>\n",
       "                        <td id=\"T_78307_row6_col14\" class=\"data row6 col14\" >95.83%</td>\n",
       "                        <td id=\"T_78307_row6_col15\" class=\"data row6 col15\" >95.83%</td>\n",
       "                        <td id=\"T_78307_row6_col16\" class=\"data row6 col16\" >1</td>\n",
       "                        <td id=\"T_78307_row6_col17\" class=\"data row6 col17\" >https://www.reddit.com/r/de</td>\n",
       "                        <td id=\"T_78307_row6_col18\" class=\"data row6 col18\" >https://translate.google.com/translate?hl=&sl=auto&tl=en&u=https://www.reddit.com/r/de</td>\n",
       "                        <td id=\"T_78307_row6_col19\" class=\"data row6 col19\" >https://www.reddit.com/r/nachrichten</td>\n",
       "                        <td id=\"T_78307_row6_col20\" class=\"data row6 col20\" >https://translate.google.com/translate?hl=&sl=auto&tl=en&u=https://www.reddit.com/r/nachrichten</td>\n",
       "                        <td id=\"T_78307_row6_col21\" class=\"data row6 col21\" >10</td>\n",
       "                        <td id=\"T_78307_row6_col22\" class=\"data row6 col22\" >11</td>\n",
       "                        <td id=\"T_78307_row6_col23\" class=\"data row6 col23\" >pg13</td>\n",
       "                        <td id=\"T_78307_row6_col24\" class=\"data row6 col24\" >None</td>\n",
       "                        <td id=\"T_78307_row6_col25\" class=\"data row6 col25\" >t5_22i0</td>\n",
       "                        <td id=\"T_78307_row6_col26\" class=\"data row6 col26\" >t5_2vk0m</td>\n",
       "                        <td id=\"T_78307_row6_col27\" class=\"data row6 col27\" >place/culture</td>\n",
       "                        <td id=\"T_78307_row6_col28\" class=\"data row6 col28\" >world news</td>\n",
       "                        <td id=\"T_78307_row6_col29\" class=\"data row6 col29\" >99158c385c5442b1bf5ff96fc44af7da</td>\n",
       "                        <td id=\"T_78307_row6_col30\" class=\"data row6 col30\" >DE</td>\n",
       "                        <td id=\"T_78307_row6_col31\" class=\"data row6 col31\" >no</td>\n",
       "                        <td id=\"T_78307_row6_col32\" class=\"data row6 col32\" >DE</td>\n",
       "                        <td id=\"T_78307_row6_col33\" class=\"data row6 col33\" >no</td>\n",
       "                        <td id=\"T_78307_row6_col34\" class=\"data row6 col34\" >114</td>\n",
       "                        <td id=\"T_78307_row6_col35\" class=\"data row6 col35\" >yes</td>\n",
       "                        <td id=\"T_78307_row6_col36\" class=\"data row6 col36\" >1,377,721</td>\n",
       "                        <td id=\"T_78307_row6_col37\" class=\"data row6 col37\" >5,755</td>\n",
       "                        <td id=\"T_78307_row6_col38\" class=\"data row6 col38\" >86</td>\n",
       "                        <td id=\"T_78307_row6_col39\" class=\"data row6 col39\" >17</td>\n",
       "                        <td id=\"T_78307_row6_col40\" class=\"data row6 col40\" >yes</td>\n",
       "                        <td id=\"T_78307_row6_col41\" class=\"data row6 col41\" >1,584</td>\n",
       "                        <td id=\"T_78307_row6_col42\" class=\"data row6 col42\" >125</td>\n",
       "            </tr>\n",
       "            <tr>\n",
       "                        <th id=\"T_78307_level0_row7\" class=\"row_heading level0 row7\" >7</th>\n",
       "                        <td id=\"T_78307_row7_col0\" class=\"data row7 col0\" >0.8268</td>\n",
       "                        <td id=\"T_78307_row7_col1\" class=\"data row7 col1\" >de</td>\n",
       "                        <td id=\"T_78307_row7_col2\" class=\"data row7 col2\" >austria</td>\n",
       "                        <td id=\"T_78307_row7_col3\" class=\"data row7 col3\" >True</td>\n",
       "                        <td id=\"T_78307_row7_col4\" class=\"data row7 col4\" >yes</td>\n",
       "                        <td id=\"T_78307_row7_col5\" class=\"data row7 col5\" >no</td>\n",
       "                        <td id=\"T_78307_row7_col6\" class=\"data row7 col6\" >pg</td>\n",
       "                        <td id=\"T_78307_row7_col7\" class=\"data row7 col7\" >Place</td>\n",
       "                        <td id=\"T_78307_row7_col8\" class=\"data row7 col8\" >r/de – Extraordinär gut!</td>\n",
       "                        <td id=\"T_78307_row7_col9\" class=\"data row7 col9\" >reddit Rot-Weiß-Rot</td>\n",
       "                        <td id=\"T_78307_row7_col10\" class=\"data row7 col10\" >German</td>\n",
       "                        <td id=\"T_78307_row7_col11\" class=\"data row7 col11\" >87.50%</td>\n",
       "                        <td id=\"T_78307_row7_col12\" class=\"data row7 col12\" >87.50%</td>\n",
       "                        <td id=\"T_78307_row7_col13\" class=\"data row7 col13\" >German</td>\n",
       "                        <td id=\"T_78307_row7_col14\" class=\"data row7 col14\" >95.83%</td>\n",
       "                        <td id=\"T_78307_row7_col15\" class=\"data row7 col15\" >95.83%</td>\n",
       "                        <td id=\"T_78307_row7_col16\" class=\"data row7 col16\" >1</td>\n",
       "                        <td id=\"T_78307_row7_col17\" class=\"data row7 col17\" >https://www.reddit.com/r/de</td>\n",
       "                        <td id=\"T_78307_row7_col18\" class=\"data row7 col18\" >https://translate.google.com/translate?hl=&sl=auto&tl=en&u=https://www.reddit.com/r/de</td>\n",
       "                        <td id=\"T_78307_row7_col19\" class=\"data row7 col19\" >https://www.reddit.com/r/austria</td>\n",
       "                        <td id=\"T_78307_row7_col20\" class=\"data row7 col20\" >https://translate.google.com/translate?hl=&sl=auto&tl=en&u=https://www.reddit.com/r/austria</td>\n",
       "                        <td id=\"T_78307_row7_col21\" class=\"data row7 col21\" >9</td>\n",
       "                        <td id=\"T_78307_row7_col22\" class=\"data row7 col22\" >11</td>\n",
       "                        <td id=\"T_78307_row7_col23\" class=\"data row7 col23\" >pg13</td>\n",
       "                        <td id=\"T_78307_row7_col24\" class=\"data row7 col24\" >None</td>\n",
       "                        <td id=\"T_78307_row7_col25\" class=\"data row7 col25\" >t5_22i0</td>\n",
       "                        <td id=\"T_78307_row7_col26\" class=\"data row7 col26\" >t5_2qo9i</td>\n",
       "                        <td id=\"T_78307_row7_col27\" class=\"data row7 col27\" >place/culture</td>\n",
       "                        <td id=\"T_78307_row7_col28\" class=\"data row7 col28\" >place/culture</td>\n",
       "                        <td id=\"T_78307_row7_col29\" class=\"data row7 col29\" >99158c385c5442b1bf5ff96fc44af7da</td>\n",
       "                        <td id=\"T_78307_row7_col30\" class=\"data row7 col30\" >DE</td>\n",
       "                        <td id=\"T_78307_row7_col31\" class=\"data row7 col31\" >no</td>\n",
       "                        <td id=\"T_78307_row7_col32\" class=\"data row7 col32\" >AT</td>\n",
       "                        <td id=\"T_78307_row7_col33\" class=\"data row7 col33\" >no</td>\n",
       "                        <td id=\"T_78307_row7_col34\" class=\"data row7 col34\" >114</td>\n",
       "                        <td id=\"T_78307_row7_col35\" class=\"data row7 col35\" >yes</td>\n",
       "                        <td id=\"T_78307_row7_col36\" class=\"data row7 col36\" >1,377,721</td>\n",
       "                        <td id=\"T_78307_row7_col37\" class=\"data row7 col37\" >5,755</td>\n",
       "                        <td id=\"T_78307_row7_col38\" class=\"data row7 col38\" >114</td>\n",
       "                        <td id=\"T_78307_row7_col39\" class=\"data row7 col39\" >1</td>\n",
       "                        <td id=\"T_78307_row7_col40\" class=\"data row7 col40\" >yes</td>\n",
       "                        <td id=\"T_78307_row7_col41\" class=\"data row7 col41\" >190,568</td>\n",
       "                        <td id=\"T_78307_row7_col42\" class=\"data row7 col42\" >2,242</td>\n",
       "            </tr>\n",
       "            <tr>\n",
       "                        <th id=\"T_78307_level0_row8\" class=\"row_heading level0 row8\" >8</th>\n",
       "                        <td id=\"T_78307_row8_col0\" class=\"data row8 col0\" >0.8210</td>\n",
       "                        <td id=\"T_78307_row8_col1\" class=\"data row8 col1\" >de</td>\n",
       "                        <td id=\"T_78307_row8_col2\" class=\"data row8 col2\" >france</td>\n",
       "                        <td id=\"T_78307_row8_col3\" class=\"data row8 col3\" >True</td>\n",
       "                        <td id=\"T_78307_row8_col4\" class=\"data row8 col4\" >yes</td>\n",
       "                        <td id=\"T_78307_row8_col5\" class=\"data row8 col5\" >no</td>\n",
       "                        <td id=\"T_78307_row8_col6\" class=\"data row8 col6\" >pg13</td>\n",
       "                        <td id=\"T_78307_row8_col7\" class=\"data row8 col7\" >None</td>\n",
       "                        <td id=\"T_78307_row8_col8\" class=\"data row8 col8\" >r/de – Extraordinär gut!</td>\n",
       "                        <td id=\"T_78307_row8_col9\" class=\"data row8 col9\" >France</td>\n",
       "                        <td id=\"T_78307_row8_col10\" class=\"data row8 col10\" >French</td>\n",
       "                        <td id=\"T_78307_row8_col11\" class=\"data row8 col11\" >90.83%</td>\n",
       "                        <td id=\"T_78307_row8_col12\" class=\"data row8 col12\" >0.25%</td>\n",
       "                        <td id=\"T_78307_row8_col13\" class=\"data row8 col13\" >German</td>\n",
       "                        <td id=\"T_78307_row8_col14\" class=\"data row8 col14\" >95.83%</td>\n",
       "                        <td id=\"T_78307_row8_col15\" class=\"data row8 col15\" >95.83%</td>\n",
       "                        <td id=\"T_78307_row8_col16\" class=\"data row8 col16\" >1</td>\n",
       "                        <td id=\"T_78307_row8_col17\" class=\"data row8 col17\" >https://www.reddit.com/r/de</td>\n",
       "                        <td id=\"T_78307_row8_col18\" class=\"data row8 col18\" >https://translate.google.com/translate?hl=&sl=auto&tl=en&u=https://www.reddit.com/r/de</td>\n",
       "                        <td id=\"T_78307_row8_col19\" class=\"data row8 col19\" >https://www.reddit.com/r/france</td>\n",
       "                        <td id=\"T_78307_row8_col20\" class=\"data row8 col20\" >https://translate.google.com/translate?hl=&sl=auto&tl=en&u=https://www.reddit.com/r/france</td>\n",
       "                        <td id=\"T_78307_row8_col21\" class=\"data row8 col21\" >15</td>\n",
       "                        <td id=\"T_78307_row8_col22\" class=\"data row8 col22\" >11</td>\n",
       "                        <td id=\"T_78307_row8_col23\" class=\"data row8 col23\" >pg13</td>\n",
       "                        <td id=\"T_78307_row8_col24\" class=\"data row8 col24\" >None</td>\n",
       "                        <td id=\"T_78307_row8_col25\" class=\"data row8 col25\" >t5_22i0</td>\n",
       "                        <td id=\"T_78307_row8_col26\" class=\"data row8 col26\" >t5_2qhjz</td>\n",
       "                        <td id=\"T_78307_row8_col27\" class=\"data row8 col27\" >place/culture</td>\n",
       "                        <td id=\"T_78307_row8_col28\" class=\"data row8 col28\" >uncategorized</td>\n",
       "                        <td id=\"T_78307_row8_col29\" class=\"data row8 col29\" >99158c385c5442b1bf5ff96fc44af7da</td>\n",
       "                        <td id=\"T_78307_row8_col30\" class=\"data row8 col30\" >DE</td>\n",
       "                        <td id=\"T_78307_row8_col31\" class=\"data row8 col31\" >no</td>\n",
       "                        <td id=\"T_78307_row8_col32\" class=\"data row8 col32\" >FR</td>\n",
       "                        <td id=\"T_78307_row8_col33\" class=\"data row8 col33\" >no</td>\n",
       "                        <td id=\"T_78307_row8_col34\" class=\"data row8 col34\" >114</td>\n",
       "                        <td id=\"T_78307_row8_col35\" class=\"data row8 col35\" >yes</td>\n",
       "                        <td id=\"T_78307_row8_col36\" class=\"data row8 col36\" >1,377,721</td>\n",
       "                        <td id=\"T_78307_row8_col37\" class=\"data row8 col37\" >5,755</td>\n",
       "                        <td id=\"T_78307_row8_col38\" class=\"data row8 col38\" >114</td>\n",
       "                        <td id=\"T_78307_row8_col39\" class=\"data row8 col39\" >1</td>\n",
       "                        <td id=\"T_78307_row8_col40\" class=\"data row8 col40\" >yes</td>\n",
       "                        <td id=\"T_78307_row8_col41\" class=\"data row8 col41\" >583,568</td>\n",
       "                        <td id=\"T_78307_row8_col42\" class=\"data row8 col42\" >4,229</td>\n",
       "            </tr>\n",
       "            <tr>\n",
       "                        <th id=\"T_78307_level0_row9\" class=\"row_heading level0 row9\" >9</th>\n",
       "                        <td id=\"T_78307_row9_col0\" class=\"data row9 col0\" >0.7548</td>\n",
       "                        <td id=\"T_78307_row9_col1\" class=\"data row9 col1\" >de</td>\n",
       "                        <td id=\"T_78307_row9_col2\" class=\"data row9 col2\" >italy</td>\n",
       "                        <td id=\"T_78307_row9_col3\" class=\"data row9 col3\" >True</td>\n",
       "                        <td id=\"T_78307_row9_col4\" class=\"data row9 col4\" >yes</td>\n",
       "                        <td id=\"T_78307_row9_col5\" class=\"data row9 col5\" >no</td>\n",
       "                        <td id=\"T_78307_row9_col6\" class=\"data row9 col6\" >pg13</td>\n",
       "                        <td id=\"T_78307_row9_col7\" class=\"data row9 col7\" >Place</td>\n",
       "                        <td id=\"T_78307_row9_col8\" class=\"data row9 col8\" >r/de – Extraordinär gut!</td>\n",
       "                        <td id=\"T_78307_row9_col9\" class=\"data row9 col9\" >Reddit Italy</td>\n",
       "                        <td id=\"T_78307_row9_col10\" class=\"data row9 col10\" >Italian</td>\n",
       "                        <td id=\"T_78307_row9_col11\" class=\"data row9 col11\" >84.00%</td>\n",
       "                        <td id=\"T_78307_row9_col12\" class=\"data row9 col12\" >0.08%</td>\n",
       "                        <td id=\"T_78307_row9_col13\" class=\"data row9 col13\" >German</td>\n",
       "                        <td id=\"T_78307_row9_col14\" class=\"data row9 col14\" >95.83%</td>\n",
       "                        <td id=\"T_78307_row9_col15\" class=\"data row9 col15\" >95.83%</td>\n",
       "                        <td id=\"T_78307_row9_col16\" class=\"data row9 col16\" >1</td>\n",
       "                        <td id=\"T_78307_row9_col17\" class=\"data row9 col17\" >https://www.reddit.com/r/de</td>\n",
       "                        <td id=\"T_78307_row9_col18\" class=\"data row9 col18\" >https://translate.google.com/translate?hl=&sl=auto&tl=en&u=https://www.reddit.com/r/de</td>\n",
       "                        <td id=\"T_78307_row9_col19\" class=\"data row9 col19\" >https://www.reddit.com/r/italy</td>\n",
       "                        <td id=\"T_78307_row9_col20\" class=\"data row9 col20\" >https://translate.google.com/translate?hl=&sl=auto&tl=en&u=https://www.reddit.com/r/italy</td>\n",
       "                        <td id=\"T_78307_row9_col21\" class=\"data row9 col21\" >18</td>\n",
       "                        <td id=\"T_78307_row9_col22\" class=\"data row9 col22\" >11</td>\n",
       "                        <td id=\"T_78307_row9_col23\" class=\"data row9 col23\" >pg13</td>\n",
       "                        <td id=\"T_78307_row9_col24\" class=\"data row9 col24\" >None</td>\n",
       "                        <td id=\"T_78307_row9_col25\" class=\"data row9 col25\" >t5_22i0</td>\n",
       "                        <td id=\"T_78307_row9_col26\" class=\"data row9 col26\" >t5_2qkhk</td>\n",
       "                        <td id=\"T_78307_row9_col27\" class=\"data row9 col27\" >place/culture</td>\n",
       "                        <td id=\"T_78307_row9_col28\" class=\"data row9 col28\" >place/culture</td>\n",
       "                        <td id=\"T_78307_row9_col29\" class=\"data row9 col29\" >99158c385c5442b1bf5ff96fc44af7da</td>\n",
       "                        <td id=\"T_78307_row9_col30\" class=\"data row9 col30\" >DE</td>\n",
       "                        <td id=\"T_78307_row9_col31\" class=\"data row9 col31\" >no</td>\n",
       "                        <td id=\"T_78307_row9_col32\" class=\"data row9 col32\" >IT</td>\n",
       "                        <td id=\"T_78307_row9_col33\" class=\"data row9 col33\" >no</td>\n",
       "                        <td id=\"T_78307_row9_col34\" class=\"data row9 col34\" >114</td>\n",
       "                        <td id=\"T_78307_row9_col35\" class=\"data row9 col35\" >yes</td>\n",
       "                        <td id=\"T_78307_row9_col36\" class=\"data row9 col36\" >1,377,721</td>\n",
       "                        <td id=\"T_78307_row9_col37\" class=\"data row9 col37\" >5,755</td>\n",
       "                        <td id=\"T_78307_row9_col38\" class=\"data row9 col38\" >114</td>\n",
       "                        <td id=\"T_78307_row9_col39\" class=\"data row9 col39\" >1</td>\n",
       "                        <td id=\"T_78307_row9_col40\" class=\"data row9 col40\" >yes</td>\n",
       "                        <td id=\"T_78307_row9_col41\" class=\"data row9 col41\" >461,905</td>\n",
       "                        <td id=\"T_78307_row9_col42\" class=\"data row9 col42\" >3,021</td>\n",
       "            </tr>\n",
       "            <tr>\n",
       "                        <th id=\"T_78307_level0_row10\" class=\"row_heading level0 row10\" >10</th>\n",
       "                        <td id=\"T_78307_row10_col0\" class=\"data row10 col0\" >0.7432</td>\n",
       "                        <td id=\"T_78307_row10_col1\" class=\"data row10 col1\" >de</td>\n",
       "                        <td id=\"T_78307_row10_col2\" class=\"data row10 col2\" >brasil</td>\n",
       "                        <td id=\"T_78307_row10_col3\" class=\"data row10 col3\" >True</td>\n",
       "                        <td id=\"T_78307_row10_col4\" class=\"data row10 col4\" >yes</td>\n",
       "                        <td id=\"T_78307_row10_col5\" class=\"data row10 col5\" >no</td>\n",
       "                        <td id=\"T_78307_row10_col6\" class=\"data row10 col6\" >None</td>\n",
       "                        <td id=\"T_78307_row10_col7\" class=\"data row10 col7\" >None</td>\n",
       "                        <td id=\"T_78307_row10_col8\" class=\"data row10 col8\" >r/de – Extraordinär gut!</td>\n",
       "                        <td id=\"T_78307_row10_col9\" class=\"data row10 col9\" >r/Brasil</td>\n",
       "                        <td id=\"T_78307_row10_col10\" class=\"data row10 col10\" >Portuguese</td>\n",
       "                        <td id=\"T_78307_row10_col11\" class=\"data row10 col11\" >89.25%</td>\n",
       "                        <td id=\"T_78307_row10_col12\" class=\"data row10 col12\" >0.83%</td>\n",
       "                        <td id=\"T_78307_row10_col13\" class=\"data row10 col13\" >German</td>\n",
       "                        <td id=\"T_78307_row10_col14\" class=\"data row10 col14\" >95.83%</td>\n",
       "                        <td id=\"T_78307_row10_col15\" class=\"data row10 col15\" >95.83%</td>\n",
       "                        <td id=\"T_78307_row10_col16\" class=\"data row10 col16\" >1</td>\n",
       "                        <td id=\"T_78307_row10_col17\" class=\"data row10 col17\" >https://www.reddit.com/r/de</td>\n",
       "                        <td id=\"T_78307_row10_col18\" class=\"data row10 col18\" >https://translate.google.com/translate?hl=&sl=auto&tl=en&u=https://www.reddit.com/r/de</td>\n",
       "                        <td id=\"T_78307_row10_col19\" class=\"data row10 col19\" >https://www.reddit.com/r/brasil</td>\n",
       "                        <td id=\"T_78307_row10_col20\" class=\"data row10 col20\" >https://translate.google.com/translate?hl=&sl=auto&tl=en&u=https://www.reddit.com/r/brasil</td>\n",
       "                        <td id=\"T_78307_row10_col21\" class=\"data row10 col21\" >12</td>\n",
       "                        <td id=\"T_78307_row10_col22\" class=\"data row10 col22\" >11</td>\n",
       "                        <td id=\"T_78307_row10_col23\" class=\"data row10 col23\" >pg13</td>\n",
       "                        <td id=\"T_78307_row10_col24\" class=\"data row10 col24\" >None</td>\n",
       "                        <td id=\"T_78307_row10_col25\" class=\"data row10 col25\" >t5_22i0</td>\n",
       "                        <td id=\"T_78307_row10_col26\" class=\"data row10 col26\" >t5_2qh9i</td>\n",
       "                        <td id=\"T_78307_row10_col27\" class=\"data row10 col27\" >place/culture</td>\n",
       "                        <td id=\"T_78307_row10_col28\" class=\"data row10 col28\" >uncategorized</td>\n",
       "                        <td id=\"T_78307_row10_col29\" class=\"data row10 col29\" >99158c385c5442b1bf5ff96fc44af7da</td>\n",
       "                        <td id=\"T_78307_row10_col30\" class=\"data row10 col30\" >DE</td>\n",
       "                        <td id=\"T_78307_row10_col31\" class=\"data row10 col31\" >no</td>\n",
       "                        <td id=\"T_78307_row10_col32\" class=\"data row10 col32\" >BR</td>\n",
       "                        <td id=\"T_78307_row10_col33\" class=\"data row10 col33\" >no</td>\n",
       "                        <td id=\"T_78307_row10_col34\" class=\"data row10 col34\" >114</td>\n",
       "                        <td id=\"T_78307_row10_col35\" class=\"data row10 col35\" >yes</td>\n",
       "                        <td id=\"T_78307_row10_col36\" class=\"data row10 col36\" >1,377,721</td>\n",
       "                        <td id=\"T_78307_row10_col37\" class=\"data row10 col37\" >5,755</td>\n",
       "                        <td id=\"T_78307_row10_col38\" class=\"data row10 col38\" >114</td>\n",
       "                        <td id=\"T_78307_row10_col39\" class=\"data row10 col39\" >1</td>\n",
       "                        <td id=\"T_78307_row10_col40\" class=\"data row10 col40\" >yes</td>\n",
       "                        <td id=\"T_78307_row10_col41\" class=\"data row10 col41\" >593,546</td>\n",
       "                        <td id=\"T_78307_row10_col42\" class=\"data row10 col42\" >6,721</td>\n",
       "            </tr>\n",
       "            <tr>\n",
       "                        <th id=\"T_78307_level0_row11\" class=\"row_heading level0 row11\" >11</th>\n",
       "                        <td id=\"T_78307_row11_col0\" class=\"data row11 col0\" >0.7126</td>\n",
       "                        <td id=\"T_78307_row11_col1\" class=\"data row11 col1\" >de</td>\n",
       "                        <td id=\"T_78307_row11_col2\" class=\"data row11 col2\" >portugal</td>\n",
       "                        <td id=\"T_78307_row11_col3\" class=\"data row11 col3\" >True</td>\n",
       "                        <td id=\"T_78307_row11_col4\" class=\"data row11 col4\" >yes</td>\n",
       "                        <td id=\"T_78307_row11_col5\" class=\"data row11 col5\" >no</td>\n",
       "                        <td id=\"T_78307_row11_col6\" class=\"data row11 col6\" >g</td>\n",
       "                        <td id=\"T_78307_row11_col7\" class=\"data row11 col7\" >None</td>\n",
       "                        <td id=\"T_78307_row11_col8\" class=\"data row11 col8\" >r/de – Extraordinär gut!</td>\n",
       "                        <td id=\"T_78307_row11_col9\" class=\"data row11 col9\" >Portugal</td>\n",
       "                        <td id=\"T_78307_row11_col10\" class=\"data row11 col10\" >Portuguese</td>\n",
       "                        <td id=\"T_78307_row11_col11\" class=\"data row11 col11\" >90.58%</td>\n",
       "                        <td id=\"T_78307_row11_col12\" class=\"data row11 col12\" >0.08%</td>\n",
       "                        <td id=\"T_78307_row11_col13\" class=\"data row11 col13\" >German</td>\n",
       "                        <td id=\"T_78307_row11_col14\" class=\"data row11 col14\" >95.83%</td>\n",
       "                        <td id=\"T_78307_row11_col15\" class=\"data row11 col15\" >95.83%</td>\n",
       "                        <td id=\"T_78307_row11_col16\" class=\"data row11 col16\" >1</td>\n",
       "                        <td id=\"T_78307_row11_col17\" class=\"data row11 col17\" >https://www.reddit.com/r/de</td>\n",
       "                        <td id=\"T_78307_row11_col18\" class=\"data row11 col18\" >https://translate.google.com/translate?hl=&sl=auto&tl=en&u=https://www.reddit.com/r/de</td>\n",
       "                        <td id=\"T_78307_row11_col19\" class=\"data row11 col19\" >https://www.reddit.com/r/portugal</td>\n",
       "                        <td id=\"T_78307_row11_col20\" class=\"data row11 col20\" >https://translate.google.com/translate?hl=&sl=auto&tl=en&u=https://www.reddit.com/r/portugal</td>\n",
       "                        <td id=\"T_78307_row11_col21\" class=\"data row11 col21\" >14</td>\n",
       "                        <td id=\"T_78307_row11_col22\" class=\"data row11 col22\" >11</td>\n",
       "                        <td id=\"T_78307_row11_col23\" class=\"data row11 col23\" >pg13</td>\n",
       "                        <td id=\"T_78307_row11_col24\" class=\"data row11 col24\" >None</td>\n",
       "                        <td id=\"T_78307_row11_col25\" class=\"data row11 col25\" >t5_22i0</td>\n",
       "                        <td id=\"T_78307_row11_col26\" class=\"data row11 col26\" >t5_2qmie</td>\n",
       "                        <td id=\"T_78307_row11_col27\" class=\"data row11 col27\" >place/culture</td>\n",
       "                        <td id=\"T_78307_row11_col28\" class=\"data row11 col28\" >uncategorized</td>\n",
       "                        <td id=\"T_78307_row11_col29\" class=\"data row11 col29\" >99158c385c5442b1bf5ff96fc44af7da</td>\n",
       "                        <td id=\"T_78307_row11_col30\" class=\"data row11 col30\" >DE</td>\n",
       "                        <td id=\"T_78307_row11_col31\" class=\"data row11 col31\" >no</td>\n",
       "                        <td id=\"T_78307_row11_col32\" class=\"data row11 col32\" >PT</td>\n",
       "                        <td id=\"T_78307_row11_col33\" class=\"data row11 col33\" >no</td>\n",
       "                        <td id=\"T_78307_row11_col34\" class=\"data row11 col34\" >114</td>\n",
       "                        <td id=\"T_78307_row11_col35\" class=\"data row11 col35\" >yes</td>\n",
       "                        <td id=\"T_78307_row11_col36\" class=\"data row11 col36\" >1,377,721</td>\n",
       "                        <td id=\"T_78307_row11_col37\" class=\"data row11 col37\" >5,755</td>\n",
       "                        <td id=\"T_78307_row11_col38\" class=\"data row11 col38\" >114</td>\n",
       "                        <td id=\"T_78307_row11_col39\" class=\"data row11 col39\" >1</td>\n",
       "                        <td id=\"T_78307_row11_col40\" class=\"data row11 col40\" >yes</td>\n",
       "                        <td id=\"T_78307_row11_col41\" class=\"data row11 col41\" >407,714</td>\n",
       "                        <td id=\"T_78307_row11_col42\" class=\"data row11 col42\" >2,778</td>\n",
       "            </tr>\n",
       "    </tbody></table>"
      ],
      "text/plain": [
       "<pandas.io.formats.style.Styler at 0x7f84c8f7a810>"
      ]
     },
     "metadata": {},
     "output_type": "display_data"
    },
    {
     "name": "stdout",
     "output_type": "stream",
     "text": [
      "(27, 45)\n"
     ]
    },
    {
     "data": {
      "text/html": [
       "<style  type=\"text/css\" >\n",
       "</style><table id=\"T_13772_\" ><thead>    <tr>        <th class=\"blank level0\" ></th>        <th class=\"col_heading level0 col0\" >cosine_distance</th>        <th class=\"col_heading level0 col1\" >subreddit_name_a</th>        <th class=\"col_heading level0 col2\" >subreddit_name_b</th>        <th class=\"col_heading level0 col3\" >subreddit_a_and_b_in_same_cluster</th>        <th class=\"col_heading level0 col4\" >german_or_ambassador_sub_a</th>        <th class=\"col_heading level0 col5\" >german_or_ambassador_sub_b</th>        <th class=\"col_heading level0 col6\" >rating_b</th>        <th class=\"col_heading level0 col7\" >topic_b</th>        <th class=\"col_heading level0 col8\" >subreddit_title_a</th>        <th class=\"col_heading level0 col9\" >subreddit_title_b</th>        <th class=\"col_heading level0 col10\" >primary_post_language_b</th>        <th class=\"col_heading level0 col11\" >primary_post_language_percent_b</th>        <th class=\"col_heading level0 col12\" >German_posts_percent_b</th>        <th class=\"col_heading level0 col13\" >primary_post_language_a</th>        <th class=\"col_heading level0 col14\" >primary_post_language_percent_a</th>        <th class=\"col_heading level0 col15\" >German_posts_percent_a</th>        <th class=\"col_heading level0 col16\" >german_subs_in_cluster_a</th>        <th class=\"col_heading level0 col17\" >subreddit_url_a</th>        <th class=\"col_heading level0 col18\" >subreddit_url_with_google_translate_a</th>        <th class=\"col_heading level0 col19\" >subreddit_url_b</th>        <th class=\"col_heading level0 col20\" >subreddit_url_with_google_translate_b</th>        <th class=\"col_heading level0 col21\" >post_median_word_count_b</th>        <th class=\"col_heading level0 col22\" >post_median_word_count_a</th>        <th class=\"col_heading level0 col23\" >rating_a</th>        <th class=\"col_heading level0 col24\" >topic_a</th>        <th class=\"col_heading level0 col25\" >subreddit_id_a</th>        <th class=\"col_heading level0 col26\" >subreddit_id_b</th>        <th class=\"col_heading level0 col27\" >manual_topic_and_rating_a</th>        <th class=\"col_heading level0 col28\" >manual_topic_and_rating_b</th>        <th class=\"col_heading level0 col29\" >mlflow_aggregation_run_uuid</th>        <th class=\"col_heading level0 col30\" >geo_country_code_a</th>        <th class=\"col_heading level0 col31\" >ambassador_sub_a</th>        <th class=\"col_heading level0 col32\" >geo_country_code_b</th>        <th class=\"col_heading level0 col33\" >ambassador_sub_b</th>        <th class=\"col_heading level0 col34\" >cluster_id_agg_ward_cosine_200_a</th>        <th class=\"col_heading level0 col35\" >cluster_has_german_subs_and_mostly_sfw_a</th>        <th class=\"col_heading level0 col36\" >users_l28_a</th>        <th class=\"col_heading level0 col37\" >posts_l28_a</th>        <th class=\"col_heading level0 col38\" >cluster_id_agg_ward_cosine_200_b</th>        <th class=\"col_heading level0 col39\" >german_subs_in_cluster_b</th>        <th class=\"col_heading level0 col40\" >cluster_has_german_subs_and_mostly_sfw_b</th>        <th class=\"col_heading level0 col41\" >users_l28_b</th>        <th class=\"col_heading level0 col42\" >posts_l28_b</th>    </tr></thead><tbody>\n",
       "                <tr>\n",
       "                        <th id=\"T_13772_level0_row0\" class=\"row_heading level0 row0\" >19</th>\n",
       "                        <td id=\"T_13772_row0_col0\" class=\"data row0 col0\" >0.7058</td>\n",
       "                        <td id=\"T_13772_row0_col1\" class=\"data row0 col1\" >ich_iel</td>\n",
       "                        <td id=\"T_13772_row0_col2\" class=\"data row0 col2\" >malluhorny</td>\n",
       "                        <td id=\"T_13772_row0_col3\" class=\"data row0 col3\" >False</td>\n",
       "                        <td id=\"T_13772_row0_col4\" class=\"data row0 col4\" >yes</td>\n",
       "                        <td id=\"T_13772_row0_col5\" class=\"data row0 col5\" >no</td>\n",
       "                        <td id=\"T_13772_row0_col6\" class=\"data row0 col6\" >None</td>\n",
       "                        <td id=\"T_13772_row0_col7\" class=\"data row0 col7\" >None</td>\n",
       "                        <td id=\"T_13772_row0_col8\" class=\"data row0 col8\" >ich iel - selbsties der seele</td>\n",
       "                        <td id=\"T_13772_row0_col9\" class=\"data row0 col9\" >malluhorny</td>\n",
       "                        <td id=\"T_13772_row0_col10\" class=\"data row0 col10\" >Other language</td>\n",
       "                        <td id=\"T_13772_row0_col11\" class=\"data row0 col11\" >31.15%</td>\n",
       "                        <td id=\"T_13772_row0_col12\" class=\"data row0 col12\" >0.00%</td>\n",
       "                        <td id=\"T_13772_row0_col13\" class=\"data row0 col13\" >German</td>\n",
       "                        <td id=\"T_13772_row0_col14\" class=\"data row0 col14\" >99.92%</td>\n",
       "                        <td id=\"T_13772_row0_col15\" class=\"data row0 col15\" >99.92%</td>\n",
       "                        <td id=\"T_13772_row0_col16\" class=\"data row0 col16\" >7</td>\n",
       "                        <td id=\"T_13772_row0_col17\" class=\"data row0 col17\" >https://www.reddit.com/r/ich_iel</td>\n",
       "                        <td id=\"T_13772_row0_col18\" class=\"data row0 col18\" >https://translate.google.com/translate?hl=&sl=auto&tl=en&u=https://www.reddit.com/r/ich_iel</td>\n",
       "                        <td id=\"T_13772_row0_col19\" class=\"data row0 col19\" >https://www.reddit.com/r/malluhorny</td>\n",
       "                        <td id=\"T_13772_row0_col20\" class=\"data row0 col20\" >https://translate.google.com/translate?hl=&sl=auto&tl=en&u=https://www.reddit.com/r/malluhorny</td>\n",
       "                        <td id=\"T_13772_row0_col21\" class=\"data row0 col21\" >1</td>\n",
       "                        <td id=\"T_13772_row0_col22\" class=\"data row0 col22\" >2</td>\n",
       "                        <td id=\"T_13772_row0_col23\" class=\"data row0 col23\" >pg13</td>\n",
       "                        <td id=\"T_13772_row0_col24\" class=\"data row0 col24\" >Internet Culture and Memes</td>\n",
       "                        <td id=\"T_13772_row0_col25\" class=\"data row0 col25\" >t5_37k29</td>\n",
       "                        <td id=\"T_13772_row0_col26\" class=\"data row0 col26\" >t5_4dflob</td>\n",
       "                        <td id=\"T_13772_row0_col27\" class=\"data row0 col27\" >internet culture and memes</td>\n",
       "                        <td id=\"T_13772_row0_col28\" class=\"data row0 col28\" >uncategorized</td>\n",
       "                        <td id=\"T_13772_row0_col29\" class=\"data row0 col29\" >99158c385c5442b1bf5ff96fc44af7da</td>\n",
       "                        <td id=\"T_13772_row0_col30\" class=\"data row0 col30\" >DE</td>\n",
       "                        <td id=\"T_13772_row0_col31\" class=\"data row0 col31\" >no</td>\n",
       "                        <td id=\"T_13772_row0_col32\" class=\"data row0 col32\" >nan</td>\n",
       "                        <td id=\"T_13772_row0_col33\" class=\"data row0 col33\" >no</td>\n",
       "                        <td id=\"T_13772_row0_col34\" class=\"data row0 col34\" >4</td>\n",
       "                        <td id=\"T_13772_row0_col35\" class=\"data row0 col35\" >yes</td>\n",
       "                        <td id=\"T_13772_row0_col36\" class=\"data row0 col36\" >847,483</td>\n",
       "                        <td id=\"T_13772_row0_col37\" class=\"data row0 col37\" >6,805</td>\n",
       "                        <td id=\"T_13772_row0_col38\" class=\"data row0 col38\" >163</td>\n",
       "                        <td id=\"T_13772_row0_col39\" class=\"data row0 col39\" >7</td>\n",
       "                        <td id=\"T_13772_row0_col40\" class=\"data row0 col40\" >no</td>\n",
       "                        <td id=\"T_13772_row0_col41\" class=\"data row0 col41\" >2,242</td>\n",
       "                        <td id=\"T_13772_row0_col42\" class=\"data row0 col42\" >77</td>\n",
       "            </tr>\n",
       "            <tr>\n",
       "                        <th id=\"T_13772_level0_row1\" class=\"row_heading level0 row1\" >20</th>\n",
       "                        <td id=\"T_13772_row1_col0\" class=\"data row1 col0\" >0.6669</td>\n",
       "                        <td id=\"T_13772_row1_col1\" class=\"data row1 col1\" >ich_iel</td>\n",
       "                        <td id=\"T_13772_row1_col2\" class=\"data row1 col2\" >barbiegamers</td>\n",
       "                        <td id=\"T_13772_row1_col3\" class=\"data row1 col3\" >False</td>\n",
       "                        <td id=\"T_13772_row1_col4\" class=\"data row1 col4\" >yes</td>\n",
       "                        <td id=\"T_13772_row1_col5\" class=\"data row1 col5\" >no</td>\n",
       "                        <td id=\"T_13772_row1_col6\" class=\"data row1 col6\" >None</td>\n",
       "                        <td id=\"T_13772_row1_col7\" class=\"data row1 col7\" >None</td>\n",
       "                        <td id=\"T_13772_row1_col8\" class=\"data row1 col8\" >ich iel - selbsties der seele</td>\n",
       "                        <td id=\"T_13772_row1_col9\" class=\"data row1 col9\" >barbiegamers</td>\n",
       "                        <td id=\"T_13772_row1_col10\" class=\"data row1 col10\" >UNKNOWN</td>\n",
       "                        <td id=\"T_13772_row1_col11\" class=\"data row1 col11\" >63.44%</td>\n",
       "                        <td id=\"T_13772_row1_col12\" class=\"data row1 col12\" >2.15%</td>\n",
       "                        <td id=\"T_13772_row1_col13\" class=\"data row1 col13\" >German</td>\n",
       "                        <td id=\"T_13772_row1_col14\" class=\"data row1 col14\" >99.92%</td>\n",
       "                        <td id=\"T_13772_row1_col15\" class=\"data row1 col15\" >99.92%</td>\n",
       "                        <td id=\"T_13772_row1_col16\" class=\"data row1 col16\" >7</td>\n",
       "                        <td id=\"T_13772_row1_col17\" class=\"data row1 col17\" >https://www.reddit.com/r/ich_iel</td>\n",
       "                        <td id=\"T_13772_row1_col18\" class=\"data row1 col18\" >https://translate.google.com/translate?hl=&sl=auto&tl=en&u=https://www.reddit.com/r/ich_iel</td>\n",
       "                        <td id=\"T_13772_row1_col19\" class=\"data row1 col19\" >https://www.reddit.com/r/barbiegamers</td>\n",
       "                        <td id=\"T_13772_row1_col20\" class=\"data row1 col20\" >https://translate.google.com/translate?hl=&sl=auto&tl=en&u=https://www.reddit.com/r/barbiegamers</td>\n",
       "                        <td id=\"T_13772_row1_col21\" class=\"data row1 col21\" >0</td>\n",
       "                        <td id=\"T_13772_row1_col22\" class=\"data row1 col22\" >2</td>\n",
       "                        <td id=\"T_13772_row1_col23\" class=\"data row1 col23\" >pg13</td>\n",
       "                        <td id=\"T_13772_row1_col24\" class=\"data row1 col24\" >Internet Culture and Memes</td>\n",
       "                        <td id=\"T_13772_row1_col25\" class=\"data row1 col25\" >t5_37k29</td>\n",
       "                        <td id=\"T_13772_row1_col26\" class=\"data row1 col26\" >t5_49am6g</td>\n",
       "                        <td id=\"T_13772_row1_col27\" class=\"data row1 col27\" >internet culture and memes</td>\n",
       "                        <td id=\"T_13772_row1_col28\" class=\"data row1 col28\" >uncategorized</td>\n",
       "                        <td id=\"T_13772_row1_col29\" class=\"data row1 col29\" >99158c385c5442b1bf5ff96fc44af7da</td>\n",
       "                        <td id=\"T_13772_row1_col30\" class=\"data row1 col30\" >DE</td>\n",
       "                        <td id=\"T_13772_row1_col31\" class=\"data row1 col31\" >no</td>\n",
       "                        <td id=\"T_13772_row1_col32\" class=\"data row1 col32\" >nan</td>\n",
       "                        <td id=\"T_13772_row1_col33\" class=\"data row1 col33\" >no</td>\n",
       "                        <td id=\"T_13772_row1_col34\" class=\"data row1 col34\" >4</td>\n",
       "                        <td id=\"T_13772_row1_col35\" class=\"data row1 col35\" >yes</td>\n",
       "                        <td id=\"T_13772_row1_col36\" class=\"data row1 col36\" >847,483</td>\n",
       "                        <td id=\"T_13772_row1_col37\" class=\"data row1 col37\" >6,805</td>\n",
       "                        <td id=\"T_13772_row1_col38\" class=\"data row1 col38\" >23</td>\n",
       "                        <td id=\"T_13772_row1_col39\" class=\"data row1 col39\" >36</td>\n",
       "                        <td id=\"T_13772_row1_col40\" class=\"data row1 col40\" >no</td>\n",
       "                        <td id=\"T_13772_row1_col41\" class=\"data row1 col41\" >16,942</td>\n",
       "                        <td id=\"T_13772_row1_col42\" class=\"data row1 col42\" >61</td>\n",
       "            </tr>\n",
       "            <tr>\n",
       "                        <th id=\"T_13772_level0_row2\" class=\"row_heading level0 row2\" >21</th>\n",
       "                        <td id=\"T_13772_row2_col0\" class=\"data row2 col0\" >0.6631</td>\n",
       "                        <td id=\"T_13772_row2_col1\" class=\"data row2 col1\" >ich_iel</td>\n",
       "                        <td id=\"T_13772_row2_col2\" class=\"data row2 col2\" >yo_ctm</td>\n",
       "                        <td id=\"T_13772_row2_col3\" class=\"data row2 col3\" >False</td>\n",
       "                        <td id=\"T_13772_row2_col4\" class=\"data row2 col4\" >yes</td>\n",
       "                        <td id=\"T_13772_row2_col5\" class=\"data row2 col5\" >no</td>\n",
       "                        <td id=\"T_13772_row2_col6\" class=\"data row2 col6\" >None</td>\n",
       "                        <td id=\"T_13772_row2_col7\" class=\"data row2 col7\" >None</td>\n",
       "                        <td id=\"T_13772_row2_col8\" class=\"data row2 col8\" >ich iel - selbsties der seele</td>\n",
       "                        <td id=\"T_13772_row2_col9\" class=\"data row2 col9\" >el único sub weno</td>\n",
       "                        <td id=\"T_13772_row2_col10\" class=\"data row2 col10\" >Other language</td>\n",
       "                        <td id=\"T_13772_row2_col11\" class=\"data row2 col11\" >58.44%</td>\n",
       "                        <td id=\"T_13772_row2_col12\" class=\"data row2 col12\" >1.30%</td>\n",
       "                        <td id=\"T_13772_row2_col13\" class=\"data row2 col13\" >German</td>\n",
       "                        <td id=\"T_13772_row2_col14\" class=\"data row2 col14\" >99.92%</td>\n",
       "                        <td id=\"T_13772_row2_col15\" class=\"data row2 col15\" >99.92%</td>\n",
       "                        <td id=\"T_13772_row2_col16\" class=\"data row2 col16\" >7</td>\n",
       "                        <td id=\"T_13772_row2_col17\" class=\"data row2 col17\" >https://www.reddit.com/r/ich_iel</td>\n",
       "                        <td id=\"T_13772_row2_col18\" class=\"data row2 col18\" >https://translate.google.com/translate?hl=&sl=auto&tl=en&u=https://www.reddit.com/r/ich_iel</td>\n",
       "                        <td id=\"T_13772_row2_col19\" class=\"data row2 col19\" >https://www.reddit.com/r/yo_ctm</td>\n",
       "                        <td id=\"T_13772_row2_col20\" class=\"data row2 col20\" >https://translate.google.com/translate?hl=&sl=auto&tl=en&u=https://www.reddit.com/r/yo_ctm</td>\n",
       "                        <td id=\"T_13772_row2_col21\" class=\"data row2 col21\" >1</td>\n",
       "                        <td id=\"T_13772_row2_col22\" class=\"data row2 col22\" >2</td>\n",
       "                        <td id=\"T_13772_row2_col23\" class=\"data row2 col23\" >pg13</td>\n",
       "                        <td id=\"T_13772_row2_col24\" class=\"data row2 col24\" >Internet Culture and Memes</td>\n",
       "                        <td id=\"T_13772_row2_col25\" class=\"data row2 col25\" >t5_37k29</td>\n",
       "                        <td id=\"T_13772_row2_col26\" class=\"data row2 col26\" >t5_jhy39</td>\n",
       "                        <td id=\"T_13772_row2_col27\" class=\"data row2 col27\" >internet culture and memes</td>\n",
       "                        <td id=\"T_13772_row2_col28\" class=\"data row2 col28\" >uncategorized</td>\n",
       "                        <td id=\"T_13772_row2_col29\" class=\"data row2 col29\" >99158c385c5442b1bf5ff96fc44af7da</td>\n",
       "                        <td id=\"T_13772_row2_col30\" class=\"data row2 col30\" >DE</td>\n",
       "                        <td id=\"T_13772_row2_col31\" class=\"data row2 col31\" >no</td>\n",
       "                        <td id=\"T_13772_row2_col32\" class=\"data row2 col32\" >CL</td>\n",
       "                        <td id=\"T_13772_row2_col33\" class=\"data row2 col33\" >no</td>\n",
       "                        <td id=\"T_13772_row2_col34\" class=\"data row2 col34\" >4</td>\n",
       "                        <td id=\"T_13772_row2_col35\" class=\"data row2 col35\" >yes</td>\n",
       "                        <td id=\"T_13772_row2_col36\" class=\"data row2 col36\" >847,483</td>\n",
       "                        <td id=\"T_13772_row2_col37\" class=\"data row2 col37\" >6,805</td>\n",
       "                        <td id=\"T_13772_row2_col38\" class=\"data row2 col38\" >31</td>\n",
       "                        <td id=\"T_13772_row2_col39\" class=\"data row2 col39\" >1</td>\n",
       "                        <td id=\"T_13772_row2_col40\" class=\"data row2 col40\" >yes</td>\n",
       "                        <td id=\"T_13772_row2_col41\" class=\"data row2 col41\" >9,015</td>\n",
       "                        <td id=\"T_13772_row2_col42\" class=\"data row2 col42\" >64</td>\n",
       "            </tr>\n",
       "            <tr>\n",
       "                        <th id=\"T_13772_level0_row3\" class=\"row_heading level0 row3\" >22</th>\n",
       "                        <td id=\"T_13772_row3_col0\" class=\"data row3 col0\" >0.6607</td>\n",
       "                        <td id=\"T_13772_row3_col1\" class=\"data row3 col1\" >ich_iel</td>\n",
       "                        <td id=\"T_13772_row3_col2\" class=\"data row3 col2\" >dianaelizon</td>\n",
       "                        <td id=\"T_13772_row3_col3\" class=\"data row3 col3\" >False</td>\n",
       "                        <td id=\"T_13772_row3_col4\" class=\"data row3 col4\" >yes</td>\n",
       "                        <td id=\"T_13772_row3_col5\" class=\"data row3 col5\" >no</td>\n",
       "                        <td id=\"T_13772_row3_col6\" class=\"data row3 col6\" >None</td>\n",
       "                        <td id=\"T_13772_row3_col7\" class=\"data row3 col7\" >None</td>\n",
       "                        <td id=\"T_13772_row3_col8\" class=\"data row3 col8\" >ich iel - selbsties der seele</td>\n",
       "                        <td id=\"T_13772_row3_col9\" class=\"data row3 col9\" >dianaelizon</td>\n",
       "                        <td id=\"T_13772_row3_col10\" class=\"data row3 col10\" >UNKNOWN</td>\n",
       "                        <td id=\"T_13772_row3_col11\" class=\"data row3 col11\" >81.94%</td>\n",
       "                        <td id=\"T_13772_row3_col12\" class=\"data row3 col12\" >0.00%</td>\n",
       "                        <td id=\"T_13772_row3_col13\" class=\"data row3 col13\" >German</td>\n",
       "                        <td id=\"T_13772_row3_col14\" class=\"data row3 col14\" >99.92%</td>\n",
       "                        <td id=\"T_13772_row3_col15\" class=\"data row3 col15\" >99.92%</td>\n",
       "                        <td id=\"T_13772_row3_col16\" class=\"data row3 col16\" >7</td>\n",
       "                        <td id=\"T_13772_row3_col17\" class=\"data row3 col17\" >https://www.reddit.com/r/ich_iel</td>\n",
       "                        <td id=\"T_13772_row3_col18\" class=\"data row3 col18\" >https://translate.google.com/translate?hl=&sl=auto&tl=en&u=https://www.reddit.com/r/ich_iel</td>\n",
       "                        <td id=\"T_13772_row3_col19\" class=\"data row3 col19\" >https://www.reddit.com/r/dianaelizon</td>\n",
       "                        <td id=\"T_13772_row3_col20\" class=\"data row3 col20\" >https://translate.google.com/translate?hl=&sl=auto&tl=en&u=https://www.reddit.com/r/dianaelizon</td>\n",
       "                        <td id=\"T_13772_row3_col21\" class=\"data row3 col21\" >0</td>\n",
       "                        <td id=\"T_13772_row3_col22\" class=\"data row3 col22\" >2</td>\n",
       "                        <td id=\"T_13772_row3_col23\" class=\"data row3 col23\" >pg13</td>\n",
       "                        <td id=\"T_13772_row3_col24\" class=\"data row3 col24\" >Internet Culture and Memes</td>\n",
       "                        <td id=\"T_13772_row3_col25\" class=\"data row3 col25\" >t5_37k29</td>\n",
       "                        <td id=\"T_13772_row3_col26\" class=\"data row3 col26\" >t5_4dx6ek</td>\n",
       "                        <td id=\"T_13772_row3_col27\" class=\"data row3 col27\" >internet culture and memes</td>\n",
       "                        <td id=\"T_13772_row3_col28\" class=\"data row3 col28\" >uncategorized</td>\n",
       "                        <td id=\"T_13772_row3_col29\" class=\"data row3 col29\" >99158c385c5442b1bf5ff96fc44af7da</td>\n",
       "                        <td id=\"T_13772_row3_col30\" class=\"data row3 col30\" >DE</td>\n",
       "                        <td id=\"T_13772_row3_col31\" class=\"data row3 col31\" >no</td>\n",
       "                        <td id=\"T_13772_row3_col32\" class=\"data row3 col32\" >nan</td>\n",
       "                        <td id=\"T_13772_row3_col33\" class=\"data row3 col33\" >no</td>\n",
       "                        <td id=\"T_13772_row3_col34\" class=\"data row3 col34\" >4</td>\n",
       "                        <td id=\"T_13772_row3_col35\" class=\"data row3 col35\" >yes</td>\n",
       "                        <td id=\"T_13772_row3_col36\" class=\"data row3 col36\" >847,483</td>\n",
       "                        <td id=\"T_13772_row3_col37\" class=\"data row3 col37\" >6,805</td>\n",
       "                        <td id=\"T_13772_row3_col38\" class=\"data row3 col38\" >23</td>\n",
       "                        <td id=\"T_13772_row3_col39\" class=\"data row3 col39\" >36</td>\n",
       "                        <td id=\"T_13772_row3_col40\" class=\"data row3 col40\" >no</td>\n",
       "                        <td id=\"T_13772_row3_col41\" class=\"data row3 col41\" >4,162</td>\n",
       "                        <td id=\"T_13772_row3_col42\" class=\"data row3 col42\" >45</td>\n",
       "            </tr>\n",
       "            <tr>\n",
       "                        <th id=\"T_13772_level0_row4\" class=\"row_heading level0 row4\" >23</th>\n",
       "                        <td id=\"T_13772_row4_col0\" class=\"data row4 col0\" >0.6570</td>\n",
       "                        <td id=\"T_13772_row4_col1\" class=\"data row4 col1\" >ich_iel</td>\n",
       "                        <td id=\"T_13772_row4_col2\" class=\"data row4 col2\" >janiameshellfeet</td>\n",
       "                        <td id=\"T_13772_row4_col3\" class=\"data row4 col3\" >False</td>\n",
       "                        <td id=\"T_13772_row4_col4\" class=\"data row4 col4\" >yes</td>\n",
       "                        <td id=\"T_13772_row4_col5\" class=\"data row4 col5\" >no</td>\n",
       "                        <td id=\"T_13772_row4_col6\" class=\"data row4 col6\" >None</td>\n",
       "                        <td id=\"T_13772_row4_col7\" class=\"data row4 col7\" >None</td>\n",
       "                        <td id=\"T_13772_row4_col8\" class=\"data row4 col8\" >ich iel - selbsties der seele</td>\n",
       "                        <td id=\"T_13772_row4_col9\" class=\"data row4 col9\" >janiameshellfeet</td>\n",
       "                        <td id=\"T_13772_row4_col10\" class=\"data row4 col10\" >UNKNOWN</td>\n",
       "                        <td id=\"T_13772_row4_col11\" class=\"data row4 col11\" >47.85%</td>\n",
       "                        <td id=\"T_13772_row4_col12\" class=\"data row4 col12\" >4.29%</td>\n",
       "                        <td id=\"T_13772_row4_col13\" class=\"data row4 col13\" >German</td>\n",
       "                        <td id=\"T_13772_row4_col14\" class=\"data row4 col14\" >99.92%</td>\n",
       "                        <td id=\"T_13772_row4_col15\" class=\"data row4 col15\" >99.92%</td>\n",
       "                        <td id=\"T_13772_row4_col16\" class=\"data row4 col16\" >7</td>\n",
       "                        <td id=\"T_13772_row4_col17\" class=\"data row4 col17\" >https://www.reddit.com/r/ich_iel</td>\n",
       "                        <td id=\"T_13772_row4_col18\" class=\"data row4 col18\" >https://translate.google.com/translate?hl=&sl=auto&tl=en&u=https://www.reddit.com/r/ich_iel</td>\n",
       "                        <td id=\"T_13772_row4_col19\" class=\"data row4 col19\" >https://www.reddit.com/r/janiameshellfeet</td>\n",
       "                        <td id=\"T_13772_row4_col20\" class=\"data row4 col20\" >https://translate.google.com/translate?hl=&sl=auto&tl=en&u=https://www.reddit.com/r/janiameshellfeet</td>\n",
       "                        <td id=\"T_13772_row4_col21\" class=\"data row4 col21\" >1</td>\n",
       "                        <td id=\"T_13772_row4_col22\" class=\"data row4 col22\" >2</td>\n",
       "                        <td id=\"T_13772_row4_col23\" class=\"data row4 col23\" >pg13</td>\n",
       "                        <td id=\"T_13772_row4_col24\" class=\"data row4 col24\" >Internet Culture and Memes</td>\n",
       "                        <td id=\"T_13772_row4_col25\" class=\"data row4 col25\" >t5_37k29</td>\n",
       "                        <td id=\"T_13772_row4_col26\" class=\"data row4 col26\" >t5_4b5xeb</td>\n",
       "                        <td id=\"T_13772_row4_col27\" class=\"data row4 col27\" >internet culture and memes</td>\n",
       "                        <td id=\"T_13772_row4_col28\" class=\"data row4 col28\" >uncategorized</td>\n",
       "                        <td id=\"T_13772_row4_col29\" class=\"data row4 col29\" >99158c385c5442b1bf5ff96fc44af7da</td>\n",
       "                        <td id=\"T_13772_row4_col30\" class=\"data row4 col30\" >DE</td>\n",
       "                        <td id=\"T_13772_row4_col31\" class=\"data row4 col31\" >no</td>\n",
       "                        <td id=\"T_13772_row4_col32\" class=\"data row4 col32\" >nan</td>\n",
       "                        <td id=\"T_13772_row4_col33\" class=\"data row4 col33\" >no</td>\n",
       "                        <td id=\"T_13772_row4_col34\" class=\"data row4 col34\" >4</td>\n",
       "                        <td id=\"T_13772_row4_col35\" class=\"data row4 col35\" >yes</td>\n",
       "                        <td id=\"T_13772_row4_col36\" class=\"data row4 col36\" >847,483</td>\n",
       "                        <td id=\"T_13772_row4_col37\" class=\"data row4 col37\" >6,805</td>\n",
       "                        <td id=\"T_13772_row4_col38\" class=\"data row4 col38\" >23</td>\n",
       "                        <td id=\"T_13772_row4_col39\" class=\"data row4 col39\" >36</td>\n",
       "                        <td id=\"T_13772_row4_col40\" class=\"data row4 col40\" >no</td>\n",
       "                        <td id=\"T_13772_row4_col41\" class=\"data row4 col41\" >9,736</td>\n",
       "                        <td id=\"T_13772_row4_col42\" class=\"data row4 col42\" >81</td>\n",
       "            </tr>\n",
       "            <tr>\n",
       "                        <th id=\"T_13772_level0_row5\" class=\"row_heading level0 row5\" >24</th>\n",
       "                        <td id=\"T_13772_row5_col0\" class=\"data row5 col0\" >0.6468</td>\n",
       "                        <td id=\"T_13772_row5_col1\" class=\"data row5 col1\" >ich_iel</td>\n",
       "                        <td id=\"T_13772_row5_col2\" class=\"data row5 col2\" >bustyisraeligirls</td>\n",
       "                        <td id=\"T_13772_row5_col3\" class=\"data row5 col3\" >False</td>\n",
       "                        <td id=\"T_13772_row5_col4\" class=\"data row5 col4\" >yes</td>\n",
       "                        <td id=\"T_13772_row5_col5\" class=\"data row5 col5\" >no</td>\n",
       "                        <td id=\"T_13772_row5_col6\" class=\"data row5 col6\" >nc17</td>\n",
       "                        <td id=\"T_13772_row5_col7\" class=\"data row5 col7\" >None</td>\n",
       "                        <td id=\"T_13772_row5_col8\" class=\"data row5 col8\" >ich iel - selbsties der seele</td>\n",
       "                        <td id=\"T_13772_row5_col9\" class=\"data row5 col9\" >Busty Israeli Girls</td>\n",
       "                        <td id=\"T_13772_row5_col10\" class=\"data row5 col10\" >English</td>\n",
       "                        <td id=\"T_13772_row5_col11\" class=\"data row5 col11\" >20.40%</td>\n",
       "                        <td id=\"T_13772_row5_col12\" class=\"data row5 col12\" >5.47%</td>\n",
       "                        <td id=\"T_13772_row5_col13\" class=\"data row5 col13\" >German</td>\n",
       "                        <td id=\"T_13772_row5_col14\" class=\"data row5 col14\" >99.92%</td>\n",
       "                        <td id=\"T_13772_row5_col15\" class=\"data row5 col15\" >99.92%</td>\n",
       "                        <td id=\"T_13772_row5_col16\" class=\"data row5 col16\" >7</td>\n",
       "                        <td id=\"T_13772_row5_col17\" class=\"data row5 col17\" >https://www.reddit.com/r/ich_iel</td>\n",
       "                        <td id=\"T_13772_row5_col18\" class=\"data row5 col18\" >https://translate.google.com/translate?hl=&sl=auto&tl=en&u=https://www.reddit.com/r/ich_iel</td>\n",
       "                        <td id=\"T_13772_row5_col19\" class=\"data row5 col19\" >https://www.reddit.com/r/bustyisraeligirls</td>\n",
       "                        <td id=\"T_13772_row5_col20\" class=\"data row5 col20\" >https://translate.google.com/translate?hl=&sl=auto&tl=en&u=https://www.reddit.com/r/bustyisraeligirls</td>\n",
       "                        <td id=\"T_13772_row5_col21\" class=\"data row5 col21\" >2</td>\n",
       "                        <td id=\"T_13772_row5_col22\" class=\"data row5 col22\" >2</td>\n",
       "                        <td id=\"T_13772_row5_col23\" class=\"data row5 col23\" >pg13</td>\n",
       "                        <td id=\"T_13772_row5_col24\" class=\"data row5 col24\" >Internet Culture and Memes</td>\n",
       "                        <td id=\"T_13772_row5_col25\" class=\"data row5 col25\" >t5_37k29</td>\n",
       "                        <td id=\"T_13772_row5_col26\" class=\"data row5 col26\" >t5_quwen</td>\n",
       "                        <td id=\"T_13772_row5_col27\" class=\"data row5 col27\" >internet culture and memes</td>\n",
       "                        <td id=\"T_13772_row5_col28\" class=\"data row5 col28\" >over18_nsfw</td>\n",
       "                        <td id=\"T_13772_row5_col29\" class=\"data row5 col29\" >99158c385c5442b1bf5ff96fc44af7da</td>\n",
       "                        <td id=\"T_13772_row5_col30\" class=\"data row5 col30\" >DE</td>\n",
       "                        <td id=\"T_13772_row5_col31\" class=\"data row5 col31\" >no</td>\n",
       "                        <td id=\"T_13772_row5_col32\" class=\"data row5 col32\" >nan</td>\n",
       "                        <td id=\"T_13772_row5_col33\" class=\"data row5 col33\" >no</td>\n",
       "                        <td id=\"T_13772_row5_col34\" class=\"data row5 col34\" >4</td>\n",
       "                        <td id=\"T_13772_row5_col35\" class=\"data row5 col35\" >yes</td>\n",
       "                        <td id=\"T_13772_row5_col36\" class=\"data row5 col36\" >847,483</td>\n",
       "                        <td id=\"T_13772_row5_col37\" class=\"data row5 col37\" >6,805</td>\n",
       "                        <td id=\"T_13772_row5_col38\" class=\"data row5 col38\" >163</td>\n",
       "                        <td id=\"T_13772_row5_col39\" class=\"data row5 col39\" >7</td>\n",
       "                        <td id=\"T_13772_row5_col40\" class=\"data row5 col40\" >no</td>\n",
       "                        <td id=\"T_13772_row5_col41\" class=\"data row5 col41\" >63,345</td>\n",
       "                        <td id=\"T_13772_row5_col42\" class=\"data row5 col42\" >152</td>\n",
       "            </tr>\n",
       "            <tr>\n",
       "                        <th id=\"T_13772_level0_row6\" class=\"row_heading level0 row6\" >25</th>\n",
       "                        <td id=\"T_13772_row6_col0\" class=\"data row6 col0\" >0.6635</td>\n",
       "                        <td id=\"T_13772_row6_col1\" class=\"data row6 col1\" >ich_iel</td>\n",
       "                        <td id=\"T_13772_row6_col2\" class=\"data row6 col2\" >mrsbella</td>\n",
       "                        <td id=\"T_13772_row6_col3\" class=\"data row6 col3\" >False</td>\n",
       "                        <td id=\"T_13772_row6_col4\" class=\"data row6 col4\" >yes</td>\n",
       "                        <td id=\"T_13772_row6_col5\" class=\"data row6 col5\" >yes</td>\n",
       "                        <td id=\"T_13772_row6_col6\" class=\"data row6 col6\" >None</td>\n",
       "                        <td id=\"T_13772_row6_col7\" class=\"data row6 col7\" >None</td>\n",
       "                        <td id=\"T_13772_row6_col8\" class=\"data row6 col8\" >ich iel - selbsties der seele</td>\n",
       "                        <td id=\"T_13772_row6_col9\" class=\"data row6 col9\" >MrsBella</td>\n",
       "                        <td id=\"T_13772_row6_col10\" class=\"data row6 col10\" >UNKNOWN</td>\n",
       "                        <td id=\"T_13772_row6_col11\" class=\"data row6 col11\" >58.70%</td>\n",
       "                        <td id=\"T_13772_row6_col12\" class=\"data row6 col12\" >17.39%</td>\n",
       "                        <td id=\"T_13772_row6_col13\" class=\"data row6 col13\" >German</td>\n",
       "                        <td id=\"T_13772_row6_col14\" class=\"data row6 col14\" >99.92%</td>\n",
       "                        <td id=\"T_13772_row6_col15\" class=\"data row6 col15\" >99.92%</td>\n",
       "                        <td id=\"T_13772_row6_col16\" class=\"data row6 col16\" >7</td>\n",
       "                        <td id=\"T_13772_row6_col17\" class=\"data row6 col17\" >https://www.reddit.com/r/ich_iel</td>\n",
       "                        <td id=\"T_13772_row6_col18\" class=\"data row6 col18\" >https://translate.google.com/translate?hl=&sl=auto&tl=en&u=https://www.reddit.com/r/ich_iel</td>\n",
       "                        <td id=\"T_13772_row6_col19\" class=\"data row6 col19\" >https://www.reddit.com/r/mrsbella</td>\n",
       "                        <td id=\"T_13772_row6_col20\" class=\"data row6 col20\" >https://translate.google.com/translate?hl=&sl=auto&tl=en&u=https://www.reddit.com/r/mrsbella</td>\n",
       "                        <td id=\"T_13772_row6_col21\" class=\"data row6 col21\" >0</td>\n",
       "                        <td id=\"T_13772_row6_col22\" class=\"data row6 col22\" >2</td>\n",
       "                        <td id=\"T_13772_row6_col23\" class=\"data row6 col23\" >pg13</td>\n",
       "                        <td id=\"T_13772_row6_col24\" class=\"data row6 col24\" >Internet Culture and Memes</td>\n",
       "                        <td id=\"T_13772_row6_col25\" class=\"data row6 col25\" >t5_37k29</td>\n",
       "                        <td id=\"T_13772_row6_col26\" class=\"data row6 col26\" >t5_23o43o</td>\n",
       "                        <td id=\"T_13772_row6_col27\" class=\"data row6 col27\" >internet culture and memes</td>\n",
       "                        <td id=\"T_13772_row6_col28\" class=\"data row6 col28\" >uncategorized</td>\n",
       "                        <td id=\"T_13772_row6_col29\" class=\"data row6 col29\" >99158c385c5442b1bf5ff96fc44af7da</td>\n",
       "                        <td id=\"T_13772_row6_col30\" class=\"data row6 col30\" >DE</td>\n",
       "                        <td id=\"T_13772_row6_col31\" class=\"data row6 col31\" >no</td>\n",
       "                        <td id=\"T_13772_row6_col32\" class=\"data row6 col32\" >DE</td>\n",
       "                        <td id=\"T_13772_row6_col33\" class=\"data row6 col33\" >no</td>\n",
       "                        <td id=\"T_13772_row6_col34\" class=\"data row6 col34\" >4</td>\n",
       "                        <td id=\"T_13772_row6_col35\" class=\"data row6 col35\" >yes</td>\n",
       "                        <td id=\"T_13772_row6_col36\" class=\"data row6 col36\" >847,483</td>\n",
       "                        <td id=\"T_13772_row6_col37\" class=\"data row6 col37\" >6,805</td>\n",
       "                        <td id=\"T_13772_row6_col38\" class=\"data row6 col38\" >23</td>\n",
       "                        <td id=\"T_13772_row6_col39\" class=\"data row6 col39\" >36</td>\n",
       "                        <td id=\"T_13772_row6_col40\" class=\"data row6 col40\" >no</td>\n",
       "                        <td id=\"T_13772_row6_col41\" class=\"data row6 col41\" >13,231</td>\n",
       "                        <td id=\"T_13772_row6_col42\" class=\"data row6 col42\" >54</td>\n",
       "            </tr>\n",
       "            <tr>\n",
       "                        <th id=\"T_13772_level0_row7\" class=\"row_heading level0 row7\" >26</th>\n",
       "                        <td id=\"T_13772_row7_col0\" class=\"data row7 col0\" >0.6874</td>\n",
       "                        <td id=\"T_13772_row7_col1\" class=\"data row7 col1\" >ich_iel</td>\n",
       "                        <td id=\"T_13772_row7_col2\" class=\"data row7 col2\" >ahorasinllorar</td>\n",
       "                        <td id=\"T_13772_row7_col3\" class=\"data row7 col3\" >True</td>\n",
       "                        <td id=\"T_13772_row7_col4\" class=\"data row7 col4\" >yes</td>\n",
       "                        <td id=\"T_13772_row7_col5\" class=\"data row7 col5\" >no</td>\n",
       "                        <td id=\"T_13772_row7_col6\" class=\"data row7 col6\" >None</td>\n",
       "                        <td id=\"T_13772_row7_col7\" class=\"data row7 col7\" >None</td>\n",
       "                        <td id=\"T_13772_row7_col8\" class=\"data row7 col8\" >ich iel - selbsties der seele</td>\n",
       "                        <td id=\"T_13772_row7_col9\" class=\"data row7 col9\" >ahorasinllorar</td>\n",
       "                        <td id=\"T_13772_row7_col10\" class=\"data row7 col10\" >Spanish</td>\n",
       "                        <td id=\"T_13772_row7_col11\" class=\"data row7 col11\" >38.42%</td>\n",
       "                        <td id=\"T_13772_row7_col12\" class=\"data row7 col12\" >1.05%</td>\n",
       "                        <td id=\"T_13772_row7_col13\" class=\"data row7 col13\" >German</td>\n",
       "                        <td id=\"T_13772_row7_col14\" class=\"data row7 col14\" >99.92%</td>\n",
       "                        <td id=\"T_13772_row7_col15\" class=\"data row7 col15\" >99.92%</td>\n",
       "                        <td id=\"T_13772_row7_col16\" class=\"data row7 col16\" >7</td>\n",
       "                        <td id=\"T_13772_row7_col17\" class=\"data row7 col17\" >https://www.reddit.com/r/ich_iel</td>\n",
       "                        <td id=\"T_13772_row7_col18\" class=\"data row7 col18\" >https://translate.google.com/translate?hl=&sl=auto&tl=en&u=https://www.reddit.com/r/ich_iel</td>\n",
       "                        <td id=\"T_13772_row7_col19\" class=\"data row7 col19\" >https://www.reddit.com/r/ahorasinllorar</td>\n",
       "                        <td id=\"T_13772_row7_col20\" class=\"data row7 col20\" >https://translate.google.com/translate?hl=&sl=auto&tl=en&u=https://www.reddit.com/r/ahorasinllorar</td>\n",
       "                        <td id=\"T_13772_row7_col21\" class=\"data row7 col21\" >2</td>\n",
       "                        <td id=\"T_13772_row7_col22\" class=\"data row7 col22\" >2</td>\n",
       "                        <td id=\"T_13772_row7_col23\" class=\"data row7 col23\" >pg13</td>\n",
       "                        <td id=\"T_13772_row7_col24\" class=\"data row7 col24\" >Internet Culture and Memes</td>\n",
       "                        <td id=\"T_13772_row7_col25\" class=\"data row7 col25\" >t5_37k29</td>\n",
       "                        <td id=\"T_13772_row7_col26\" class=\"data row7 col26\" >t5_3akebf</td>\n",
       "                        <td id=\"T_13772_row7_col27\" class=\"data row7 col27\" >internet culture and memes</td>\n",
       "                        <td id=\"T_13772_row7_col28\" class=\"data row7 col28\" >uncategorized</td>\n",
       "                        <td id=\"T_13772_row7_col29\" class=\"data row7 col29\" >99158c385c5442b1bf5ff96fc44af7da</td>\n",
       "                        <td id=\"T_13772_row7_col30\" class=\"data row7 col30\" >DE</td>\n",
       "                        <td id=\"T_13772_row7_col31\" class=\"data row7 col31\" >no</td>\n",
       "                        <td id=\"T_13772_row7_col32\" class=\"data row7 col32\" >ES</td>\n",
       "                        <td id=\"T_13772_row7_col33\" class=\"data row7 col33\" >no</td>\n",
       "                        <td id=\"T_13772_row7_col34\" class=\"data row7 col34\" >4</td>\n",
       "                        <td id=\"T_13772_row7_col35\" class=\"data row7 col35\" >yes</td>\n",
       "                        <td id=\"T_13772_row7_col36\" class=\"data row7 col36\" >847,483</td>\n",
       "                        <td id=\"T_13772_row7_col37\" class=\"data row7 col37\" >6,805</td>\n",
       "                        <td id=\"T_13772_row7_col38\" class=\"data row7 col38\" >4</td>\n",
       "                        <td id=\"T_13772_row7_col39\" class=\"data row7 col39\" >7</td>\n",
       "                        <td id=\"T_13772_row7_col40\" class=\"data row7 col40\" >yes</td>\n",
       "                        <td id=\"T_13772_row7_col41\" class=\"data row7 col41\" >2,853</td>\n",
       "                        <td id=\"T_13772_row7_col42\" class=\"data row7 col42\" >131</td>\n",
       "            </tr>\n",
       "            <tr>\n",
       "                        <th id=\"T_13772_level0_row8\" class=\"row_heading level0 row8\" >27</th>\n",
       "                        <td id=\"T_13772_row8_col0\" class=\"data row8 col0\" >0.6871</td>\n",
       "                        <td id=\"T_13772_row8_col1\" class=\"data row8 col1\" >ich_iel</td>\n",
       "                        <td id=\"T_13772_row8_col2\" class=\"data row8 col2\" >angelgirls</td>\n",
       "                        <td id=\"T_13772_row8_col3\" class=\"data row8 col3\" >True</td>\n",
       "                        <td id=\"T_13772_row8_col4\" class=\"data row8 col4\" >yes</td>\n",
       "                        <td id=\"T_13772_row8_col5\" class=\"data row8 col5\" >no</td>\n",
       "                        <td id=\"T_13772_row8_col6\" class=\"data row8 col6\" >None</td>\n",
       "                        <td id=\"T_13772_row8_col7\" class=\"data row8 col7\" >None</td>\n",
       "                        <td id=\"T_13772_row8_col8\" class=\"data row8 col8\" >ich iel - selbsties der seele</td>\n",
       "                        <td id=\"T_13772_row8_col9\" class=\"data row8 col9\" >angelgirls</td>\n",
       "                        <td id=\"T_13772_row8_col10\" class=\"data row8 col10\" >Luxembourgish</td>\n",
       "                        <td id=\"T_13772_row8_col11\" class=\"data row8 col11\" >44.88%</td>\n",
       "                        <td id=\"T_13772_row8_col12\" class=\"data row8 col12\" >1.95%</td>\n",
       "                        <td id=\"T_13772_row8_col13\" class=\"data row8 col13\" >German</td>\n",
       "                        <td id=\"T_13772_row8_col14\" class=\"data row8 col14\" >99.92%</td>\n",
       "                        <td id=\"T_13772_row8_col15\" class=\"data row8 col15\" >99.92%</td>\n",
       "                        <td id=\"T_13772_row8_col16\" class=\"data row8 col16\" >7</td>\n",
       "                        <td id=\"T_13772_row8_col17\" class=\"data row8 col17\" >https://www.reddit.com/r/ich_iel</td>\n",
       "                        <td id=\"T_13772_row8_col18\" class=\"data row8 col18\" >https://translate.google.com/translate?hl=&sl=auto&tl=en&u=https://www.reddit.com/r/ich_iel</td>\n",
       "                        <td id=\"T_13772_row8_col19\" class=\"data row8 col19\" >https://www.reddit.com/r/angelgirls</td>\n",
       "                        <td id=\"T_13772_row8_col20\" class=\"data row8 col20\" >https://translate.google.com/translate?hl=&sl=auto&tl=en&u=https://www.reddit.com/r/angelgirls</td>\n",
       "                        <td id=\"T_13772_row8_col21\" class=\"data row8 col21\" >1</td>\n",
       "                        <td id=\"T_13772_row8_col22\" class=\"data row8 col22\" >2</td>\n",
       "                        <td id=\"T_13772_row8_col23\" class=\"data row8 col23\" >pg13</td>\n",
       "                        <td id=\"T_13772_row8_col24\" class=\"data row8 col24\" >Internet Culture and Memes</td>\n",
       "                        <td id=\"T_13772_row8_col25\" class=\"data row8 col25\" >t5_37k29</td>\n",
       "                        <td id=\"T_13772_row8_col26\" class=\"data row8 col26\" >t5_445wac</td>\n",
       "                        <td id=\"T_13772_row8_col27\" class=\"data row8 col27\" >internet culture and memes</td>\n",
       "                        <td id=\"T_13772_row8_col28\" class=\"data row8 col28\" >uncategorized</td>\n",
       "                        <td id=\"T_13772_row8_col29\" class=\"data row8 col29\" >99158c385c5442b1bf5ff96fc44af7da</td>\n",
       "                        <td id=\"T_13772_row8_col30\" class=\"data row8 col30\" >DE</td>\n",
       "                        <td id=\"T_13772_row8_col31\" class=\"data row8 col31\" >no</td>\n",
       "                        <td id=\"T_13772_row8_col32\" class=\"data row8 col32\" >nan</td>\n",
       "                        <td id=\"T_13772_row8_col33\" class=\"data row8 col33\" >no</td>\n",
       "                        <td id=\"T_13772_row8_col34\" class=\"data row8 col34\" >4</td>\n",
       "                        <td id=\"T_13772_row8_col35\" class=\"data row8 col35\" >yes</td>\n",
       "                        <td id=\"T_13772_row8_col36\" class=\"data row8 col36\" >847,483</td>\n",
       "                        <td id=\"T_13772_row8_col37\" class=\"data row8 col37\" >6,805</td>\n",
       "                        <td id=\"T_13772_row8_col38\" class=\"data row8 col38\" >4</td>\n",
       "                        <td id=\"T_13772_row8_col39\" class=\"data row8 col39\" >7</td>\n",
       "                        <td id=\"T_13772_row8_col40\" class=\"data row8 col40\" >yes</td>\n",
       "                        <td id=\"T_13772_row8_col41\" class=\"data row8 col41\" >4,452</td>\n",
       "                        <td id=\"T_13772_row8_col42\" class=\"data row8 col42\" >168</td>\n",
       "            </tr>\n",
       "            <tr>\n",
       "                        <th id=\"T_13772_level0_row9\" class=\"row_heading level0 row9\" >28</th>\n",
       "                        <td id=\"T_13772_row9_col0\" class=\"data row9 col0\" >0.6553</td>\n",
       "                        <td id=\"T_13772_row9_col1\" class=\"data row9 col1\" >ich_iel</td>\n",
       "                        <td id=\"T_13772_row9_col2\" class=\"data row9 col2\" >ontheledgeandshit</td>\n",
       "                        <td id=\"T_13772_row9_col3\" class=\"data row9 col3\" >True</td>\n",
       "                        <td id=\"T_13772_row9_col4\" class=\"data row9 col4\" >yes</td>\n",
       "                        <td id=\"T_13772_row9_col5\" class=\"data row9 col5\" >no</td>\n",
       "                        <td id=\"T_13772_row9_col6\" class=\"data row9 col6\" >r</td>\n",
       "                        <td id=\"T_13772_row9_col7\" class=\"data row9 col7\" >None</td>\n",
       "                        <td id=\"T_13772_row9_col8\" class=\"data row9 col8\" >ich iel - selbsties der seele</td>\n",
       "                        <td id=\"T_13772_row9_col9\" class=\"data row9 col9\" >My man Kevin on the ledge and shit</td>\n",
       "                        <td id=\"T_13772_row9_col10\" class=\"data row9 col10\" >English</td>\n",
       "                        <td id=\"T_13772_row9_col11\" class=\"data row9 col11\" >46.89%</td>\n",
       "                        <td id=\"T_13772_row9_col12\" class=\"data row9 col12\" >4.87%</td>\n",
       "                        <td id=\"T_13772_row9_col13\" class=\"data row9 col13\" >German</td>\n",
       "                        <td id=\"T_13772_row9_col14\" class=\"data row9 col14\" >99.92%</td>\n",
       "                        <td id=\"T_13772_row9_col15\" class=\"data row9 col15\" >99.92%</td>\n",
       "                        <td id=\"T_13772_row9_col16\" class=\"data row9 col16\" >7</td>\n",
       "                        <td id=\"T_13772_row9_col17\" class=\"data row9 col17\" >https://www.reddit.com/r/ich_iel</td>\n",
       "                        <td id=\"T_13772_row9_col18\" class=\"data row9 col18\" >https://translate.google.com/translate?hl=&sl=auto&tl=en&u=https://www.reddit.com/r/ich_iel</td>\n",
       "                        <td id=\"T_13772_row9_col19\" class=\"data row9 col19\" >https://www.reddit.com/r/ontheledgeandshit</td>\n",
       "                        <td id=\"T_13772_row9_col20\" class=\"data row9 col20\" >https://translate.google.com/translate?hl=&sl=auto&tl=en&u=https://www.reddit.com/r/ontheledgeandshit</td>\n",
       "                        <td id=\"T_13772_row9_col21\" class=\"data row9 col21\" >2</td>\n",
       "                        <td id=\"T_13772_row9_col22\" class=\"data row9 col22\" >2</td>\n",
       "                        <td id=\"T_13772_row9_col23\" class=\"data row9 col23\" >pg13</td>\n",
       "                        <td id=\"T_13772_row9_col24\" class=\"data row9 col24\" >Internet Culture and Memes</td>\n",
       "                        <td id=\"T_13772_row9_col25\" class=\"data row9 col25\" >t5_37k29</td>\n",
       "                        <td id=\"T_13772_row9_col26\" class=\"data row9 col26\" >t5_r85yy</td>\n",
       "                        <td id=\"T_13772_row9_col27\" class=\"data row9 col27\" >internet culture and memes</td>\n",
       "                        <td id=\"T_13772_row9_col28\" class=\"data row9 col28\" >uncategorized</td>\n",
       "                        <td id=\"T_13772_row9_col29\" class=\"data row9 col29\" >99158c385c5442b1bf5ff96fc44af7da</td>\n",
       "                        <td id=\"T_13772_row9_col30\" class=\"data row9 col30\" >DE</td>\n",
       "                        <td id=\"T_13772_row9_col31\" class=\"data row9 col31\" >no</td>\n",
       "                        <td id=\"T_13772_row9_col32\" class=\"data row9 col32\" >nan</td>\n",
       "                        <td id=\"T_13772_row9_col33\" class=\"data row9 col33\" >no</td>\n",
       "                        <td id=\"T_13772_row9_col34\" class=\"data row9 col34\" >4</td>\n",
       "                        <td id=\"T_13772_row9_col35\" class=\"data row9 col35\" >yes</td>\n",
       "                        <td id=\"T_13772_row9_col36\" class=\"data row9 col36\" >847,483</td>\n",
       "                        <td id=\"T_13772_row9_col37\" class=\"data row9 col37\" >6,805</td>\n",
       "                        <td id=\"T_13772_row9_col38\" class=\"data row9 col38\" >4</td>\n",
       "                        <td id=\"T_13772_row9_col39\" class=\"data row9 col39\" >7</td>\n",
       "                        <td id=\"T_13772_row9_col40\" class=\"data row9 col40\" >yes</td>\n",
       "                        <td id=\"T_13772_row9_col41\" class=\"data row9 col41\" >39,393</td>\n",
       "                        <td id=\"T_13772_row9_col42\" class=\"data row9 col42\" >405</td>\n",
       "            </tr>\n",
       "            <tr>\n",
       "                        <th id=\"T_13772_level0_row10\" class=\"row_heading level0 row10\" >29</th>\n",
       "                        <td id=\"T_13772_row10_col0\" class=\"data row10 col0\" >0.6402</td>\n",
       "                        <td id=\"T_13772_row10_col1\" class=\"data row10 col1\" >ich_iel</td>\n",
       "                        <td id=\"T_13772_row10_col2\" class=\"data row10 col2\" >retard</td>\n",
       "                        <td id=\"T_13772_row10_col3\" class=\"data row10 col3\" >True</td>\n",
       "                        <td id=\"T_13772_row10_col4\" class=\"data row10 col4\" >yes</td>\n",
       "                        <td id=\"T_13772_row10_col5\" class=\"data row10 col5\" >no</td>\n",
       "                        <td id=\"T_13772_row10_col6\" class=\"data row10 col6\" >None</td>\n",
       "                        <td id=\"T_13772_row10_col7\" class=\"data row10 col7\" >None</td>\n",
       "                        <td id=\"T_13772_row10_col8\" class=\"data row10 col8\" >ich iel - selbsties der seele</td>\n",
       "                        <td id=\"T_13772_row10_col9\" class=\"data row10 col9\" >Retard</td>\n",
       "                        <td id=\"T_13772_row10_col10\" class=\"data row10 col10\" >English</td>\n",
       "                        <td id=\"T_13772_row10_col11\" class=\"data row10 col11\" >37.60%</td>\n",
       "                        <td id=\"T_13772_row10_col12\" class=\"data row10 col12\" >6.40%</td>\n",
       "                        <td id=\"T_13772_row10_col13\" class=\"data row10 col13\" >German</td>\n",
       "                        <td id=\"T_13772_row10_col14\" class=\"data row10 col14\" >99.92%</td>\n",
       "                        <td id=\"T_13772_row10_col15\" class=\"data row10 col15\" >99.92%</td>\n",
       "                        <td id=\"T_13772_row10_col16\" class=\"data row10 col16\" >7</td>\n",
       "                        <td id=\"T_13772_row10_col17\" class=\"data row10 col17\" >https://www.reddit.com/r/ich_iel</td>\n",
       "                        <td id=\"T_13772_row10_col18\" class=\"data row10 col18\" >https://translate.google.com/translate?hl=&sl=auto&tl=en&u=https://www.reddit.com/r/ich_iel</td>\n",
       "                        <td id=\"T_13772_row10_col19\" class=\"data row10 col19\" >https://www.reddit.com/r/retard</td>\n",
       "                        <td id=\"T_13772_row10_col20\" class=\"data row10 col20\" >https://translate.google.com/translate?hl=&sl=auto&tl=en&u=https://www.reddit.com/r/retard</td>\n",
       "                        <td id=\"T_13772_row10_col21\" class=\"data row10 col21\" >2</td>\n",
       "                        <td id=\"T_13772_row10_col22\" class=\"data row10 col22\" >2</td>\n",
       "                        <td id=\"T_13772_row10_col23\" class=\"data row10 col23\" >pg13</td>\n",
       "                        <td id=\"T_13772_row10_col24\" class=\"data row10 col24\" >Internet Culture and Memes</td>\n",
       "                        <td id=\"T_13772_row10_col25\" class=\"data row10 col25\" >t5_37k29</td>\n",
       "                        <td id=\"T_13772_row10_col26\" class=\"data row10 col26\" >t5_2qmml</td>\n",
       "                        <td id=\"T_13772_row10_col27\" class=\"data row10 col27\" >internet culture and memes</td>\n",
       "                        <td id=\"T_13772_row10_col28\" class=\"data row10 col28\" >uncategorized</td>\n",
       "                        <td id=\"T_13772_row10_col29\" class=\"data row10 col29\" >99158c385c5442b1bf5ff96fc44af7da</td>\n",
       "                        <td id=\"T_13772_row10_col30\" class=\"data row10 col30\" >DE</td>\n",
       "                        <td id=\"T_13772_row10_col31\" class=\"data row10 col31\" >no</td>\n",
       "                        <td id=\"T_13772_row10_col32\" class=\"data row10 col32\" >nan</td>\n",
       "                        <td id=\"T_13772_row10_col33\" class=\"data row10 col33\" >no</td>\n",
       "                        <td id=\"T_13772_row10_col34\" class=\"data row10 col34\" >4</td>\n",
       "                        <td id=\"T_13772_row10_col35\" class=\"data row10 col35\" >yes</td>\n",
       "                        <td id=\"T_13772_row10_col36\" class=\"data row10 col36\" >847,483</td>\n",
       "                        <td id=\"T_13772_row10_col37\" class=\"data row10 col37\" >6,805</td>\n",
       "                        <td id=\"T_13772_row10_col38\" class=\"data row10 col38\" >4</td>\n",
       "                        <td id=\"T_13772_row10_col39\" class=\"data row10 col39\" >7</td>\n",
       "                        <td id=\"T_13772_row10_col40\" class=\"data row10 col40\" >yes</td>\n",
       "                        <td id=\"T_13772_row10_col41\" class=\"data row10 col41\" >3,942</td>\n",
       "                        <td id=\"T_13772_row10_col42\" class=\"data row10 col42\" >77</td>\n",
       "            </tr>\n",
       "            <tr>\n",
       "                        <th id=\"T_13772_level0_row11\" class=\"row_heading level0 row11\" >30</th>\n",
       "                        <td id=\"T_13772_row11_col0\" class=\"data row11 col0\" >0.6366</td>\n",
       "                        <td id=\"T_13772_row11_col1\" class=\"data row11 col1\" >ich_iel</td>\n",
       "                        <td id=\"T_13772_row11_col2\" class=\"data row11 col2\" >jhowrj1</td>\n",
       "                        <td id=\"T_13772_row11_col3\" class=\"data row11 col3\" >True</td>\n",
       "                        <td id=\"T_13772_row11_col4\" class=\"data row11 col4\" >yes</td>\n",
       "                        <td id=\"T_13772_row11_col5\" class=\"data row11 col5\" >no</td>\n",
       "                        <td id=\"T_13772_row11_col6\" class=\"data row11 col6\" >None</td>\n",
       "                        <td id=\"T_13772_row11_col7\" class=\"data row11 col7\" >None</td>\n",
       "                        <td id=\"T_13772_row11_col8\" class=\"data row11 col8\" >ich iel - selbsties der seele</td>\n",
       "                        <td id=\"T_13772_row11_col9\" class=\"data row11 col9\" >jhowrj1</td>\n",
       "                        <td id=\"T_13772_row11_col10\" class=\"data row11 col10\" >Portuguese</td>\n",
       "                        <td id=\"T_13772_row11_col11\" class=\"data row11 col11\" >30.95%</td>\n",
       "                        <td id=\"T_13772_row11_col12\" class=\"data row11 col12\" >2.50%</td>\n",
       "                        <td id=\"T_13772_row11_col13\" class=\"data row11 col13\" >German</td>\n",
       "                        <td id=\"T_13772_row11_col14\" class=\"data row11 col14\" >99.92%</td>\n",
       "                        <td id=\"T_13772_row11_col15\" class=\"data row11 col15\" >99.92%</td>\n",
       "                        <td id=\"T_13772_row11_col16\" class=\"data row11 col16\" >7</td>\n",
       "                        <td id=\"T_13772_row11_col17\" class=\"data row11 col17\" >https://www.reddit.com/r/ich_iel</td>\n",
       "                        <td id=\"T_13772_row11_col18\" class=\"data row11 col18\" >https://translate.google.com/translate?hl=&sl=auto&tl=en&u=https://www.reddit.com/r/ich_iel</td>\n",
       "                        <td id=\"T_13772_row11_col19\" class=\"data row11 col19\" >https://www.reddit.com/r/jhowrj1</td>\n",
       "                        <td id=\"T_13772_row11_col20\" class=\"data row11 col20\" >https://translate.google.com/translate?hl=&sl=auto&tl=en&u=https://www.reddit.com/r/jhowrj1</td>\n",
       "                        <td id=\"T_13772_row11_col21\" class=\"data row11 col21\" >2</td>\n",
       "                        <td id=\"T_13772_row11_col22\" class=\"data row11 col22\" >2</td>\n",
       "                        <td id=\"T_13772_row11_col23\" class=\"data row11 col23\" >pg13</td>\n",
       "                        <td id=\"T_13772_row11_col24\" class=\"data row11 col24\" >Internet Culture and Memes</td>\n",
       "                        <td id=\"T_13772_row11_col25\" class=\"data row11 col25\" >t5_37k29</td>\n",
       "                        <td id=\"T_13772_row11_col26\" class=\"data row11 col26\" >t5_4eacsf</td>\n",
       "                        <td id=\"T_13772_row11_col27\" class=\"data row11 col27\" >internet culture and memes</td>\n",
       "                        <td id=\"T_13772_row11_col28\" class=\"data row11 col28\" >uncategorized</td>\n",
       "                        <td id=\"T_13772_row11_col29\" class=\"data row11 col29\" >99158c385c5442b1bf5ff96fc44af7da</td>\n",
       "                        <td id=\"T_13772_row11_col30\" class=\"data row11 col30\" >DE</td>\n",
       "                        <td id=\"T_13772_row11_col31\" class=\"data row11 col31\" >no</td>\n",
       "                        <td id=\"T_13772_row11_col32\" class=\"data row11 col32\" >nan</td>\n",
       "                        <td id=\"T_13772_row11_col33\" class=\"data row11 col33\" >no</td>\n",
       "                        <td id=\"T_13772_row11_col34\" class=\"data row11 col34\" >4</td>\n",
       "                        <td id=\"T_13772_row11_col35\" class=\"data row11 col35\" >yes</td>\n",
       "                        <td id=\"T_13772_row11_col36\" class=\"data row11 col36\" >847,483</td>\n",
       "                        <td id=\"T_13772_row11_col37\" class=\"data row11 col37\" >6,805</td>\n",
       "                        <td id=\"T_13772_row11_col38\" class=\"data row11 col38\" >4</td>\n",
       "                        <td id=\"T_13772_row11_col39\" class=\"data row11 col39\" >7</td>\n",
       "                        <td id=\"T_13772_row11_col40\" class=\"data row11 col40\" >yes</td>\n",
       "                        <td id=\"T_13772_row11_col41\" class=\"data row11 col41\" >1,729</td>\n",
       "                        <td id=\"T_13772_row11_col42\" class=\"data row11 col42\" >719</td>\n",
       "            </tr>\n",
       "    </tbody></table>"
      ],
      "text/plain": [
       "<pandas.io.formats.style.Styler at 0x7f84c8f36590>"
      ]
     },
     "metadata": {},
     "output_type": "display_data"
    },
    {
     "name": "stdout",
     "output_type": "stream",
     "text": [
      "(20, 45)\n"
     ]
    },
    {
     "data": {
      "text/html": [
       "<style  type=\"text/css\" >\n",
       "</style><table id=\"T_e2a58_\" ><thead>    <tr>        <th class=\"blank level0\" ></th>        <th class=\"col_heading level0 col0\" >cosine_distance</th>        <th class=\"col_heading level0 col1\" >subreddit_name_a</th>        <th class=\"col_heading level0 col2\" >subreddit_name_b</th>        <th class=\"col_heading level0 col3\" >subreddit_a_and_b_in_same_cluster</th>        <th class=\"col_heading level0 col4\" >german_or_ambassador_sub_a</th>        <th class=\"col_heading level0 col5\" >german_or_ambassador_sub_b</th>        <th class=\"col_heading level0 col6\" >rating_b</th>        <th class=\"col_heading level0 col7\" >topic_b</th>        <th class=\"col_heading level0 col8\" >subreddit_title_a</th>        <th class=\"col_heading level0 col9\" >subreddit_title_b</th>        <th class=\"col_heading level0 col10\" >primary_post_language_b</th>        <th class=\"col_heading level0 col11\" >primary_post_language_percent_b</th>        <th class=\"col_heading level0 col12\" >German_posts_percent_b</th>        <th class=\"col_heading level0 col13\" >primary_post_language_a</th>        <th class=\"col_heading level0 col14\" >primary_post_language_percent_a</th>        <th class=\"col_heading level0 col15\" >German_posts_percent_a</th>        <th class=\"col_heading level0 col16\" >german_subs_in_cluster_a</th>        <th class=\"col_heading level0 col17\" >subreddit_url_a</th>        <th class=\"col_heading level0 col18\" >subreddit_url_with_google_translate_a</th>        <th class=\"col_heading level0 col19\" >subreddit_url_b</th>        <th class=\"col_heading level0 col20\" >subreddit_url_with_google_translate_b</th>        <th class=\"col_heading level0 col21\" >post_median_word_count_b</th>        <th class=\"col_heading level0 col22\" >post_median_word_count_a</th>        <th class=\"col_heading level0 col23\" >rating_a</th>        <th class=\"col_heading level0 col24\" >topic_a</th>        <th class=\"col_heading level0 col25\" >subreddit_id_a</th>        <th class=\"col_heading level0 col26\" >subreddit_id_b</th>        <th class=\"col_heading level0 col27\" >manual_topic_and_rating_a</th>        <th class=\"col_heading level0 col28\" >manual_topic_and_rating_b</th>        <th class=\"col_heading level0 col29\" >mlflow_aggregation_run_uuid</th>        <th class=\"col_heading level0 col30\" >geo_country_code_a</th>        <th class=\"col_heading level0 col31\" >ambassador_sub_a</th>        <th class=\"col_heading level0 col32\" >geo_country_code_b</th>        <th class=\"col_heading level0 col33\" >ambassador_sub_b</th>        <th class=\"col_heading level0 col34\" >cluster_id_agg_ward_cosine_200_a</th>        <th class=\"col_heading level0 col35\" >cluster_has_german_subs_and_mostly_sfw_a</th>        <th class=\"col_heading level0 col36\" >users_l28_a</th>        <th class=\"col_heading level0 col37\" >posts_l28_a</th>        <th class=\"col_heading level0 col38\" >cluster_id_agg_ward_cosine_200_b</th>        <th class=\"col_heading level0 col39\" >german_subs_in_cluster_b</th>        <th class=\"col_heading level0 col40\" >cluster_has_german_subs_and_mostly_sfw_b</th>        <th class=\"col_heading level0 col41\" >users_l28_b</th>        <th class=\"col_heading level0 col42\" >posts_l28_b</th>    </tr></thead><tbody>\n",
       "                <tr>\n",
       "                        <th id=\"T_e2a58_level0_row0\" class=\"row_heading level0 row0\" >46</th>\n",
       "                        <td id=\"T_e2a58_row0_col0\" class=\"data row0 col0\" >0.8104</td>\n",
       "                        <td id=\"T_e2a58_row0_col1\" class=\"data row0 col1\" >germany</td>\n",
       "                        <td id=\"T_e2a58_row0_col2\" class=\"data row0 col2\" >berlin</td>\n",
       "                        <td id=\"T_e2a58_row0_col3\" class=\"data row0 col3\" >False</td>\n",
       "                        <td id=\"T_e2a58_row0_col4\" class=\"data row0 col4\" >yes</td>\n",
       "                        <td id=\"T_e2a58_row0_col5\" class=\"data row0 col5\" >yes</td>\n",
       "                        <td id=\"T_e2a58_row0_col6\" class=\"data row0 col6\" >pg</td>\n",
       "                        <td id=\"T_e2a58_row0_col7\" class=\"data row0 col7\" >Place</td>\n",
       "                        <td id=\"T_e2a58_row0_col8\" class=\"data row0 col8\" >Germany</td>\n",
       "                        <td id=\"T_e2a58_row0_col9\" class=\"data row0 col9\" >Neues Aus Berlin</td>\n",
       "                        <td id=\"T_e2a58_row0_col10\" class=\"data row0 col10\" >English</td>\n",
       "                        <td id=\"T_e2a58_row0_col11\" class=\"data row0 col11\" >78.67%</td>\n",
       "                        <td id=\"T_e2a58_row0_col12\" class=\"data row0 col12\" >18.75%</td>\n",
       "                        <td id=\"T_e2a58_row0_col13\" class=\"data row0 col13\" >English</td>\n",
       "                        <td id=\"T_e2a58_row0_col14\" class=\"data row0 col14\" >93.75%</td>\n",
       "                        <td id=\"T_e2a58_row0_col15\" class=\"data row0 col15\" >4.50%</td>\n",
       "                        <td id=\"T_e2a58_row0_col16\" class=\"data row0 col16\" >3</td>\n",
       "                        <td id=\"T_e2a58_row0_col17\" class=\"data row0 col17\" >https://www.reddit.com/r/germany</td>\n",
       "                        <td id=\"T_e2a58_row0_col18\" class=\"data row0 col18\" >https://translate.google.com/translate?hl=&sl=auto&tl=en&u=https://www.reddit.com/r/germany</td>\n",
       "                        <td id=\"T_e2a58_row0_col19\" class=\"data row0 col19\" >https://www.reddit.com/r/berlin</td>\n",
       "                        <td id=\"T_e2a58_row0_col20\" class=\"data row0 col20\" >https://translate.google.com/translate?hl=&sl=auto&tl=en&u=https://www.reddit.com/r/berlin</td>\n",
       "                        <td id=\"T_e2a58_row0_col21\" class=\"data row0 col21\" >36</td>\n",
       "                        <td id=\"T_e2a58_row0_col22\" class=\"data row0 col22\" >54</td>\n",
       "                        <td id=\"T_e2a58_row0_col23\" class=\"data row0 col23\" >pg</td>\n",
       "                        <td id=\"T_e2a58_row0_col24\" class=\"data row0 col24\" >Place</td>\n",
       "                        <td id=\"T_e2a58_row0_col25\" class=\"data row0 col25\" >t5_2qi4z</td>\n",
       "                        <td id=\"T_e2a58_row0_col26\" class=\"data row0 col26\" >t5_2qt49</td>\n",
       "                        <td id=\"T_e2a58_row0_col27\" class=\"data row0 col27\" >place/culture</td>\n",
       "                        <td id=\"T_e2a58_row0_col28\" class=\"data row0 col28\" >place/culture</td>\n",
       "                        <td id=\"T_e2a58_row0_col29\" class=\"data row0 col29\" >99158c385c5442b1bf5ff96fc44af7da</td>\n",
       "                        <td id=\"T_e2a58_row0_col30\" class=\"data row0 col30\" >DE</td>\n",
       "                        <td id=\"T_e2a58_row0_col31\" class=\"data row0 col31\" >no</td>\n",
       "                        <td id=\"T_e2a58_row0_col32\" class=\"data row0 col32\" >DE</td>\n",
       "                        <td id=\"T_e2a58_row0_col33\" class=\"data row0 col33\" >no</td>\n",
       "                        <td id=\"T_e2a58_row0_col34\" class=\"data row0 col34\" >152</td>\n",
       "                        <td id=\"T_e2a58_row0_col35\" class=\"data row0 col35\" >yes</td>\n",
       "                        <td id=\"T_e2a58_row0_col36\" class=\"data row0 col36\" >456,390</td>\n",
       "                        <td id=\"T_e2a58_row0_col37\" class=\"data row0 col37\" >2,056</td>\n",
       "                        <td id=\"T_e2a58_row0_col38\" class=\"data row0 col38\" >127</td>\n",
       "                        <td id=\"T_e2a58_row0_col39\" class=\"data row0 col39\" >38</td>\n",
       "                        <td id=\"T_e2a58_row0_col40\" class=\"data row0 col40\" >yes</td>\n",
       "                        <td id=\"T_e2a58_row0_col41\" class=\"data row0 col41\" >194,110</td>\n",
       "                        <td id=\"T_e2a58_row0_col42\" class=\"data row0 col42\" >1,099</td>\n",
       "            </tr>\n",
       "            <tr>\n",
       "                        <th id=\"T_e2a58_level0_row1\" class=\"row_heading level0 row1\" >47</th>\n",
       "                        <td id=\"T_e2a58_row1_col0\" class=\"data row1 col0\" >0.7941</td>\n",
       "                        <td id=\"T_e2a58_row1_col1\" class=\"data row1 col1\" >germany</td>\n",
       "                        <td id=\"T_e2a58_row1_col2\" class=\"data row1 col2\" >munich</td>\n",
       "                        <td id=\"T_e2a58_row1_col3\" class=\"data row1 col3\" >False</td>\n",
       "                        <td id=\"T_e2a58_row1_col4\" class=\"data row1 col4\" >yes</td>\n",
       "                        <td id=\"T_e2a58_row1_col5\" class=\"data row1 col5\" >yes</td>\n",
       "                        <td id=\"T_e2a58_row1_col6\" class=\"data row1 col6\" >pg</td>\n",
       "                        <td id=\"T_e2a58_row1_col7\" class=\"data row1 col7\" >Place</td>\n",
       "                        <td id=\"T_e2a58_row1_col8\" class=\"data row1 col8\" >Germany</td>\n",
       "                        <td id=\"T_e2a58_row1_col9\" class=\"data row1 col9\" >Subreddit für München</td>\n",
       "                        <td id=\"T_e2a58_row1_col10\" class=\"data row1 col10\" >English</td>\n",
       "                        <td id=\"T_e2a58_row1_col11\" class=\"data row1 col11\" >80.29%</td>\n",
       "                        <td id=\"T_e2a58_row1_col12\" class=\"data row1 col12\" >15.30%</td>\n",
       "                        <td id=\"T_e2a58_row1_col13\" class=\"data row1 col13\" >English</td>\n",
       "                        <td id=\"T_e2a58_row1_col14\" class=\"data row1 col14\" >93.75%</td>\n",
       "                        <td id=\"T_e2a58_row1_col15\" class=\"data row1 col15\" >4.50%</td>\n",
       "                        <td id=\"T_e2a58_row1_col16\" class=\"data row1 col16\" >3</td>\n",
       "                        <td id=\"T_e2a58_row1_col17\" class=\"data row1 col17\" >https://www.reddit.com/r/germany</td>\n",
       "                        <td id=\"T_e2a58_row1_col18\" class=\"data row1 col18\" >https://translate.google.com/translate?hl=&sl=auto&tl=en&u=https://www.reddit.com/r/germany</td>\n",
       "                        <td id=\"T_e2a58_row1_col19\" class=\"data row1 col19\" >https://www.reddit.com/r/munich</td>\n",
       "                        <td id=\"T_e2a58_row1_col20\" class=\"data row1 col20\" >https://translate.google.com/translate?hl=&sl=auto&tl=en&u=https://www.reddit.com/r/munich</td>\n",
       "                        <td id=\"T_e2a58_row1_col21\" class=\"data row1 col21\" >54</td>\n",
       "                        <td id=\"T_e2a58_row1_col22\" class=\"data row1 col22\" >54</td>\n",
       "                        <td id=\"T_e2a58_row1_col23\" class=\"data row1 col23\" >pg</td>\n",
       "                        <td id=\"T_e2a58_row1_col24\" class=\"data row1 col24\" >Place</td>\n",
       "                        <td id=\"T_e2a58_row1_col25\" class=\"data row1 col25\" >t5_2qi4z</td>\n",
       "                        <td id=\"T_e2a58_row1_col26\" class=\"data row1 col26\" >t5_2s6s2</td>\n",
       "                        <td id=\"T_e2a58_row1_col27\" class=\"data row1 col27\" >place/culture</td>\n",
       "                        <td id=\"T_e2a58_row1_col28\" class=\"data row1 col28\" >place/culture</td>\n",
       "                        <td id=\"T_e2a58_row1_col29\" class=\"data row1 col29\" >99158c385c5442b1bf5ff96fc44af7da</td>\n",
       "                        <td id=\"T_e2a58_row1_col30\" class=\"data row1 col30\" >DE</td>\n",
       "                        <td id=\"T_e2a58_row1_col31\" class=\"data row1 col31\" >no</td>\n",
       "                        <td id=\"T_e2a58_row1_col32\" class=\"data row1 col32\" >DE</td>\n",
       "                        <td id=\"T_e2a58_row1_col33\" class=\"data row1 col33\" >no</td>\n",
       "                        <td id=\"T_e2a58_row1_col34\" class=\"data row1 col34\" >152</td>\n",
       "                        <td id=\"T_e2a58_row1_col35\" class=\"data row1 col35\" >yes</td>\n",
       "                        <td id=\"T_e2a58_row1_col36\" class=\"data row1 col36\" >456,390</td>\n",
       "                        <td id=\"T_e2a58_row1_col37\" class=\"data row1 col37\" >2,056</td>\n",
       "                        <td id=\"T_e2a58_row1_col38\" class=\"data row1 col38\" >127</td>\n",
       "                        <td id=\"T_e2a58_row1_col39\" class=\"data row1 col39\" >38</td>\n",
       "                        <td id=\"T_e2a58_row1_col40\" class=\"data row1 col40\" >yes</td>\n",
       "                        <td id=\"T_e2a58_row1_col41\" class=\"data row1 col41\" >39,298</td>\n",
       "                        <td id=\"T_e2a58_row1_col42\" class=\"data row1 col42\" >371</td>\n",
       "            </tr>\n",
       "            <tr>\n",
       "                        <th id=\"T_e2a58_level0_row2\" class=\"row_heading level0 row2\" >48</th>\n",
       "                        <td id=\"T_e2a58_row2_col0\" class=\"data row2 col0\" >0.7518</td>\n",
       "                        <td id=\"T_e2a58_row2_col1\" class=\"data row2 col1\" >germany</td>\n",
       "                        <td id=\"T_e2a58_row2_col2\" class=\"data row2 col2\" >bremen</td>\n",
       "                        <td id=\"T_e2a58_row2_col3\" class=\"data row2 col3\" >False</td>\n",
       "                        <td id=\"T_e2a58_row2_col4\" class=\"data row2 col4\" >yes</td>\n",
       "                        <td id=\"T_e2a58_row2_col5\" class=\"data row2 col5\" >yes</td>\n",
       "                        <td id=\"T_e2a58_row2_col6\" class=\"data row2 col6\" >None</td>\n",
       "                        <td id=\"T_e2a58_row2_col7\" class=\"data row2 col7\" >None</td>\n",
       "                        <td id=\"T_e2a58_row2_col8\" class=\"data row2 col8\" >Germany</td>\n",
       "                        <td id=\"T_e2a58_row2_col9\" class=\"data row2 col9\" >Hansestadt Bremen</td>\n",
       "                        <td id=\"T_e2a58_row2_col10\" class=\"data row2 col10\" >German</td>\n",
       "                        <td id=\"T_e2a58_row2_col11\" class=\"data row2 col11\" >56.52%</td>\n",
       "                        <td id=\"T_e2a58_row2_col12\" class=\"data row2 col12\" >56.52%</td>\n",
       "                        <td id=\"T_e2a58_row2_col13\" class=\"data row2 col13\" >English</td>\n",
       "                        <td id=\"T_e2a58_row2_col14\" class=\"data row2 col14\" >93.75%</td>\n",
       "                        <td id=\"T_e2a58_row2_col15\" class=\"data row2 col15\" >4.50%</td>\n",
       "                        <td id=\"T_e2a58_row2_col16\" class=\"data row2 col16\" >3</td>\n",
       "                        <td id=\"T_e2a58_row2_col17\" class=\"data row2 col17\" >https://www.reddit.com/r/germany</td>\n",
       "                        <td id=\"T_e2a58_row2_col18\" class=\"data row2 col18\" >https://translate.google.com/translate?hl=&sl=auto&tl=en&u=https://www.reddit.com/r/germany</td>\n",
       "                        <td id=\"T_e2a58_row2_col19\" class=\"data row2 col19\" >https://www.reddit.com/r/bremen</td>\n",
       "                        <td id=\"T_e2a58_row2_col20\" class=\"data row2 col20\" >https://translate.google.com/translate?hl=&sl=auto&tl=en&u=https://www.reddit.com/r/bremen</td>\n",
       "                        <td id=\"T_e2a58_row2_col21\" class=\"data row2 col21\" >38</td>\n",
       "                        <td id=\"T_e2a58_row2_col22\" class=\"data row2 col22\" >54</td>\n",
       "                        <td id=\"T_e2a58_row2_col23\" class=\"data row2 col23\" >pg</td>\n",
       "                        <td id=\"T_e2a58_row2_col24\" class=\"data row2 col24\" >Place</td>\n",
       "                        <td id=\"T_e2a58_row2_col25\" class=\"data row2 col25\" >t5_2qi4z</td>\n",
       "                        <td id=\"T_e2a58_row2_col26\" class=\"data row2 col26\" >t5_2roms</td>\n",
       "                        <td id=\"T_e2a58_row2_col27\" class=\"data row2 col27\" >place/culture</td>\n",
       "                        <td id=\"T_e2a58_row2_col28\" class=\"data row2 col28\" >uncategorized</td>\n",
       "                        <td id=\"T_e2a58_row2_col29\" class=\"data row2 col29\" >99158c385c5442b1bf5ff96fc44af7da</td>\n",
       "                        <td id=\"T_e2a58_row2_col30\" class=\"data row2 col30\" >DE</td>\n",
       "                        <td id=\"T_e2a58_row2_col31\" class=\"data row2 col31\" >no</td>\n",
       "                        <td id=\"T_e2a58_row2_col32\" class=\"data row2 col32\" >DE</td>\n",
       "                        <td id=\"T_e2a58_row2_col33\" class=\"data row2 col33\" >no</td>\n",
       "                        <td id=\"T_e2a58_row2_col34\" class=\"data row2 col34\" >152</td>\n",
       "                        <td id=\"T_e2a58_row2_col35\" class=\"data row2 col35\" >yes</td>\n",
       "                        <td id=\"T_e2a58_row2_col36\" class=\"data row2 col36\" >456,390</td>\n",
       "                        <td id=\"T_e2a58_row2_col37\" class=\"data row2 col37\" >2,056</td>\n",
       "                        <td id=\"T_e2a58_row2_col38\" class=\"data row2 col38\" >127</td>\n",
       "                        <td id=\"T_e2a58_row2_col39\" class=\"data row2 col39\" >38</td>\n",
       "                        <td id=\"T_e2a58_row2_col40\" class=\"data row2 col40\" >yes</td>\n",
       "                        <td id=\"T_e2a58_row2_col41\" class=\"data row2 col41\" >4,233</td>\n",
       "                        <td id=\"T_e2a58_row2_col42\" class=\"data row2 col42\" >40</td>\n",
       "            </tr>\n",
       "            <tr>\n",
       "                        <th id=\"T_e2a58_level0_row3\" class=\"row_heading level0 row3\" >49</th>\n",
       "                        <td id=\"T_e2a58_row3_col0\" class=\"data row3 col0\" >0.7266</td>\n",
       "                        <td id=\"T_e2a58_row3_col1\" class=\"data row3 col1\" >germany</td>\n",
       "                        <td id=\"T_e2a58_row3_col2\" class=\"data row3 col2\" >dresden</td>\n",
       "                        <td id=\"T_e2a58_row3_col3\" class=\"data row3 col3\" >False</td>\n",
       "                        <td id=\"T_e2a58_row3_col4\" class=\"data row3 col4\" >yes</td>\n",
       "                        <td id=\"T_e2a58_row3_col5\" class=\"data row3 col5\" >yes</td>\n",
       "                        <td id=\"T_e2a58_row3_col6\" class=\"data row3 col6\" >None</td>\n",
       "                        <td id=\"T_e2a58_row3_col7\" class=\"data row3 col7\" >None</td>\n",
       "                        <td id=\"T_e2a58_row3_col8\" class=\"data row3 col8\" >Germany</td>\n",
       "                        <td id=\"T_e2a58_row3_col9\" class=\"data row3 col9\" >Dresden</td>\n",
       "                        <td id=\"T_e2a58_row3_col10\" class=\"data row3 col10\" >German</td>\n",
       "                        <td id=\"T_e2a58_row3_col11\" class=\"data row3 col11\" >72.12%</td>\n",
       "                        <td id=\"T_e2a58_row3_col12\" class=\"data row3 col12\" >72.12%</td>\n",
       "                        <td id=\"T_e2a58_row3_col13\" class=\"data row3 col13\" >English</td>\n",
       "                        <td id=\"T_e2a58_row3_col14\" class=\"data row3 col14\" >93.75%</td>\n",
       "                        <td id=\"T_e2a58_row3_col15\" class=\"data row3 col15\" >4.50%</td>\n",
       "                        <td id=\"T_e2a58_row3_col16\" class=\"data row3 col16\" >3</td>\n",
       "                        <td id=\"T_e2a58_row3_col17\" class=\"data row3 col17\" >https://www.reddit.com/r/germany</td>\n",
       "                        <td id=\"T_e2a58_row3_col18\" class=\"data row3 col18\" >https://translate.google.com/translate?hl=&sl=auto&tl=en&u=https://www.reddit.com/r/germany</td>\n",
       "                        <td id=\"T_e2a58_row3_col19\" class=\"data row3 col19\" >https://www.reddit.com/r/dresden</td>\n",
       "                        <td id=\"T_e2a58_row3_col20\" class=\"data row3 col20\" >https://translate.google.com/translate?hl=&sl=auto&tl=en&u=https://www.reddit.com/r/dresden</td>\n",
       "                        <td id=\"T_e2a58_row3_col21\" class=\"data row3 col21\" >34</td>\n",
       "                        <td id=\"T_e2a58_row3_col22\" class=\"data row3 col22\" >54</td>\n",
       "                        <td id=\"T_e2a58_row3_col23\" class=\"data row3 col23\" >pg</td>\n",
       "                        <td id=\"T_e2a58_row3_col24\" class=\"data row3 col24\" >Place</td>\n",
       "                        <td id=\"T_e2a58_row3_col25\" class=\"data row3 col25\" >t5_2qi4z</td>\n",
       "                        <td id=\"T_e2a58_row3_col26\" class=\"data row3 col26\" >t5_2svu4</td>\n",
       "                        <td id=\"T_e2a58_row3_col27\" class=\"data row3 col27\" >place/culture</td>\n",
       "                        <td id=\"T_e2a58_row3_col28\" class=\"data row3 col28\" >uncategorized</td>\n",
       "                        <td id=\"T_e2a58_row3_col29\" class=\"data row3 col29\" >99158c385c5442b1bf5ff96fc44af7da</td>\n",
       "                        <td id=\"T_e2a58_row3_col30\" class=\"data row3 col30\" >DE</td>\n",
       "                        <td id=\"T_e2a58_row3_col31\" class=\"data row3 col31\" >no</td>\n",
       "                        <td id=\"T_e2a58_row3_col32\" class=\"data row3 col32\" >DE</td>\n",
       "                        <td id=\"T_e2a58_row3_col33\" class=\"data row3 col33\" >no</td>\n",
       "                        <td id=\"T_e2a58_row3_col34\" class=\"data row3 col34\" >152</td>\n",
       "                        <td id=\"T_e2a58_row3_col35\" class=\"data row3 col35\" >yes</td>\n",
       "                        <td id=\"T_e2a58_row3_col36\" class=\"data row3 col36\" >456,390</td>\n",
       "                        <td id=\"T_e2a58_row3_col37\" class=\"data row3 col37\" >2,056</td>\n",
       "                        <td id=\"T_e2a58_row3_col38\" class=\"data row3 col38\" >127</td>\n",
       "                        <td id=\"T_e2a58_row3_col39\" class=\"data row3 col39\" >38</td>\n",
       "                        <td id=\"T_e2a58_row3_col40\" class=\"data row3 col40\" >yes</td>\n",
       "                        <td id=\"T_e2a58_row3_col41\" class=\"data row3 col41\" >4,993</td>\n",
       "                        <td id=\"T_e2a58_row3_col42\" class=\"data row3 col42\" >72</td>\n",
       "            </tr>\n",
       "            <tr>\n",
       "                        <th id=\"T_e2a58_level0_row4\" class=\"row_heading level0 row4\" >50</th>\n",
       "                        <td id=\"T_e2a58_row4_col0\" class=\"data row4 col0\" >0.7216</td>\n",
       "                        <td id=\"T_e2a58_row4_col1\" class=\"data row4 col1\" >germany</td>\n",
       "                        <td id=\"T_e2a58_row4_col2\" class=\"data row4 col2\" >hamburg</td>\n",
       "                        <td id=\"T_e2a58_row4_col3\" class=\"data row4 col3\" >False</td>\n",
       "                        <td id=\"T_e2a58_row4_col4\" class=\"data row4 col4\" >yes</td>\n",
       "                        <td id=\"T_e2a58_row4_col5\" class=\"data row4 col5\" >yes</td>\n",
       "                        <td id=\"T_e2a58_row4_col6\" class=\"data row4 col6\" >pg</td>\n",
       "                        <td id=\"T_e2a58_row4_col7\" class=\"data row4 col7\" >Place</td>\n",
       "                        <td id=\"T_e2a58_row4_col8\" class=\"data row4 col8\" >Germany</td>\n",
       "                        <td id=\"T_e2a58_row4_col9\" class=\"data row4 col9\" >Hansestadt Hamburg</td>\n",
       "                        <td id=\"T_e2a58_row4_col10\" class=\"data row4 col10\" >German</td>\n",
       "                        <td id=\"T_e2a58_row4_col11\" class=\"data row4 col11\" >72.26%</td>\n",
       "                        <td id=\"T_e2a58_row4_col12\" class=\"data row4 col12\" >72.26%</td>\n",
       "                        <td id=\"T_e2a58_row4_col13\" class=\"data row4 col13\" >English</td>\n",
       "                        <td id=\"T_e2a58_row4_col14\" class=\"data row4 col14\" >93.75%</td>\n",
       "                        <td id=\"T_e2a58_row4_col15\" class=\"data row4 col15\" >4.50%</td>\n",
       "                        <td id=\"T_e2a58_row4_col16\" class=\"data row4 col16\" >3</td>\n",
       "                        <td id=\"T_e2a58_row4_col17\" class=\"data row4 col17\" >https://www.reddit.com/r/germany</td>\n",
       "                        <td id=\"T_e2a58_row4_col18\" class=\"data row4 col18\" >https://translate.google.com/translate?hl=&sl=auto&tl=en&u=https://www.reddit.com/r/germany</td>\n",
       "                        <td id=\"T_e2a58_row4_col19\" class=\"data row4 col19\" >https://www.reddit.com/r/hamburg</td>\n",
       "                        <td id=\"T_e2a58_row4_col20\" class=\"data row4 col20\" >https://translate.google.com/translate?hl=&sl=auto&tl=en&u=https://www.reddit.com/r/hamburg</td>\n",
       "                        <td id=\"T_e2a58_row4_col21\" class=\"data row4 col21\" >26</td>\n",
       "                        <td id=\"T_e2a58_row4_col22\" class=\"data row4 col22\" >54</td>\n",
       "                        <td id=\"T_e2a58_row4_col23\" class=\"data row4 col23\" >pg</td>\n",
       "                        <td id=\"T_e2a58_row4_col24\" class=\"data row4 col24\" >Place</td>\n",
       "                        <td id=\"T_e2a58_row4_col25\" class=\"data row4 col25\" >t5_2qi4z</td>\n",
       "                        <td id=\"T_e2a58_row4_col26\" class=\"data row4 col26\" >t5_2r4mj</td>\n",
       "                        <td id=\"T_e2a58_row4_col27\" class=\"data row4 col27\" >place/culture</td>\n",
       "                        <td id=\"T_e2a58_row4_col28\" class=\"data row4 col28\" >place/culture</td>\n",
       "                        <td id=\"T_e2a58_row4_col29\" class=\"data row4 col29\" >99158c385c5442b1bf5ff96fc44af7da</td>\n",
       "                        <td id=\"T_e2a58_row4_col30\" class=\"data row4 col30\" >DE</td>\n",
       "                        <td id=\"T_e2a58_row4_col31\" class=\"data row4 col31\" >no</td>\n",
       "                        <td id=\"T_e2a58_row4_col32\" class=\"data row4 col32\" >DE</td>\n",
       "                        <td id=\"T_e2a58_row4_col33\" class=\"data row4 col33\" >no</td>\n",
       "                        <td id=\"T_e2a58_row4_col34\" class=\"data row4 col34\" >152</td>\n",
       "                        <td id=\"T_e2a58_row4_col35\" class=\"data row4 col35\" >yes</td>\n",
       "                        <td id=\"T_e2a58_row4_col36\" class=\"data row4 col36\" >456,390</td>\n",
       "                        <td id=\"T_e2a58_row4_col37\" class=\"data row4 col37\" >2,056</td>\n",
       "                        <td id=\"T_e2a58_row4_col38\" class=\"data row4 col38\" >127</td>\n",
       "                        <td id=\"T_e2a58_row4_col39\" class=\"data row4 col39\" >38</td>\n",
       "                        <td id=\"T_e2a58_row4_col40\" class=\"data row4 col40\" >yes</td>\n",
       "                        <td id=\"T_e2a58_row4_col41\" class=\"data row4 col41\" >17,084</td>\n",
       "                        <td id=\"T_e2a58_row4_col42\" class=\"data row4 col42\" >191</td>\n",
       "            </tr>\n",
       "            <tr>\n",
       "                        <th id=\"T_e2a58_level0_row5\" class=\"row_heading level0 row5\" >51</th>\n",
       "                        <td id=\"T_e2a58_row5_col0\" class=\"data row5 col0\" >0.7102</td>\n",
       "                        <td id=\"T_e2a58_row5_col1\" class=\"data row5 col1\" >germany</td>\n",
       "                        <td id=\"T_e2a58_row5_col2\" class=\"data row5 col2\" >darmstadt</td>\n",
       "                        <td id=\"T_e2a58_row5_col3\" class=\"data row5 col3\" >False</td>\n",
       "                        <td id=\"T_e2a58_row5_col4\" class=\"data row5 col4\" >yes</td>\n",
       "                        <td id=\"T_e2a58_row5_col5\" class=\"data row5 col5\" >yes</td>\n",
       "                        <td id=\"T_e2a58_row5_col6\" class=\"data row5 col6\" >None</td>\n",
       "                        <td id=\"T_e2a58_row5_col7\" class=\"data row5 col7\" >None</td>\n",
       "                        <td id=\"T_e2a58_row5_col8\" class=\"data row5 col8\" >Germany</td>\n",
       "                        <td id=\"T_e2a58_row5_col9\" class=\"data row5 col9\" >Für Heiner und andere Menschen</td>\n",
       "                        <td id=\"T_e2a58_row5_col10\" class=\"data row5 col10\" >German</td>\n",
       "                        <td id=\"T_e2a58_row5_col11\" class=\"data row5 col11\" >52.38%</td>\n",
       "                        <td id=\"T_e2a58_row5_col12\" class=\"data row5 col12\" >52.38%</td>\n",
       "                        <td id=\"T_e2a58_row5_col13\" class=\"data row5 col13\" >English</td>\n",
       "                        <td id=\"T_e2a58_row5_col14\" class=\"data row5 col14\" >93.75%</td>\n",
       "                        <td id=\"T_e2a58_row5_col15\" class=\"data row5 col15\" >4.50%</td>\n",
       "                        <td id=\"T_e2a58_row5_col16\" class=\"data row5 col16\" >3</td>\n",
       "                        <td id=\"T_e2a58_row5_col17\" class=\"data row5 col17\" >https://www.reddit.com/r/germany</td>\n",
       "                        <td id=\"T_e2a58_row5_col18\" class=\"data row5 col18\" >https://translate.google.com/translate?hl=&sl=auto&tl=en&u=https://www.reddit.com/r/germany</td>\n",
       "                        <td id=\"T_e2a58_row5_col19\" class=\"data row5 col19\" >https://www.reddit.com/r/darmstadt</td>\n",
       "                        <td id=\"T_e2a58_row5_col20\" class=\"data row5 col20\" >https://translate.google.com/translate?hl=&sl=auto&tl=en&u=https://www.reddit.com/r/darmstadt</td>\n",
       "                        <td id=\"T_e2a58_row5_col21\" class=\"data row5 col21\" >38</td>\n",
       "                        <td id=\"T_e2a58_row5_col22\" class=\"data row5 col22\" >54</td>\n",
       "                        <td id=\"T_e2a58_row5_col23\" class=\"data row5 col23\" >pg</td>\n",
       "                        <td id=\"T_e2a58_row5_col24\" class=\"data row5 col24\" >Place</td>\n",
       "                        <td id=\"T_e2a58_row5_col25\" class=\"data row5 col25\" >t5_2qi4z</td>\n",
       "                        <td id=\"T_e2a58_row5_col26\" class=\"data row5 col26\" >t5_2sfmj</td>\n",
       "                        <td id=\"T_e2a58_row5_col27\" class=\"data row5 col27\" >place/culture</td>\n",
       "                        <td id=\"T_e2a58_row5_col28\" class=\"data row5 col28\" >uncategorized</td>\n",
       "                        <td id=\"T_e2a58_row5_col29\" class=\"data row5 col29\" >99158c385c5442b1bf5ff96fc44af7da</td>\n",
       "                        <td id=\"T_e2a58_row5_col30\" class=\"data row5 col30\" >DE</td>\n",
       "                        <td id=\"T_e2a58_row5_col31\" class=\"data row5 col31\" >no</td>\n",
       "                        <td id=\"T_e2a58_row5_col32\" class=\"data row5 col32\" >DE</td>\n",
       "                        <td id=\"T_e2a58_row5_col33\" class=\"data row5 col33\" >no</td>\n",
       "                        <td id=\"T_e2a58_row5_col34\" class=\"data row5 col34\" >152</td>\n",
       "                        <td id=\"T_e2a58_row5_col35\" class=\"data row5 col35\" >yes</td>\n",
       "                        <td id=\"T_e2a58_row5_col36\" class=\"data row5 col36\" >456,390</td>\n",
       "                        <td id=\"T_e2a58_row5_col37\" class=\"data row5 col37\" >2,056</td>\n",
       "                        <td id=\"T_e2a58_row5_col38\" class=\"data row5 col38\" >127</td>\n",
       "                        <td id=\"T_e2a58_row5_col39\" class=\"data row5 col39\" >38</td>\n",
       "                        <td id=\"T_e2a58_row5_col40\" class=\"data row5 col40\" >yes</td>\n",
       "                        <td id=\"T_e2a58_row5_col41\" class=\"data row5 col41\" >3,297</td>\n",
       "                        <td id=\"T_e2a58_row5_col42\" class=\"data row5 col42\" >26</td>\n",
       "            </tr>\n",
       "            <tr>\n",
       "                        <th id=\"T_e2a58_level0_row6\" class=\"row_heading level0 row6\" >52</th>\n",
       "                        <td id=\"T_e2a58_row6_col0\" class=\"data row6 col0\" >0.7074</td>\n",
       "                        <td id=\"T_e2a58_row6_col1\" class=\"data row6 col1\" >germany</td>\n",
       "                        <td id=\"T_e2a58_row6_col2\" class=\"data row6 col2\" >stuttgart</td>\n",
       "                        <td id=\"T_e2a58_row6_col3\" class=\"data row6 col3\" >False</td>\n",
       "                        <td id=\"T_e2a58_row6_col4\" class=\"data row6 col4\" >yes</td>\n",
       "                        <td id=\"T_e2a58_row6_col5\" class=\"data row6 col5\" >yes</td>\n",
       "                        <td id=\"T_e2a58_row6_col6\" class=\"data row6 col6\" >pg13</td>\n",
       "                        <td id=\"T_e2a58_row6_col7\" class=\"data row6 col7\" >None</td>\n",
       "                        <td id=\"T_e2a58_row6_col8\" class=\"data row6 col8\" >Germany</td>\n",
       "                        <td id=\"T_e2a58_row6_col9\" class=\"data row6 col9\" >Stuttgart</td>\n",
       "                        <td id=\"T_e2a58_row6_col10\" class=\"data row6 col10\" >English</td>\n",
       "                        <td id=\"T_e2a58_row6_col11\" class=\"data row6 col11\" >47.67%</td>\n",
       "                        <td id=\"T_e2a58_row6_col12\" class=\"data row6 col12\" >45.35%</td>\n",
       "                        <td id=\"T_e2a58_row6_col13\" class=\"data row6 col13\" >English</td>\n",
       "                        <td id=\"T_e2a58_row6_col14\" class=\"data row6 col14\" >93.75%</td>\n",
       "                        <td id=\"T_e2a58_row6_col15\" class=\"data row6 col15\" >4.50%</td>\n",
       "                        <td id=\"T_e2a58_row6_col16\" class=\"data row6 col16\" >3</td>\n",
       "                        <td id=\"T_e2a58_row6_col17\" class=\"data row6 col17\" >https://www.reddit.com/r/germany</td>\n",
       "                        <td id=\"T_e2a58_row6_col18\" class=\"data row6 col18\" >https://translate.google.com/translate?hl=&sl=auto&tl=en&u=https://www.reddit.com/r/germany</td>\n",
       "                        <td id=\"T_e2a58_row6_col19\" class=\"data row6 col19\" >https://www.reddit.com/r/stuttgart</td>\n",
       "                        <td id=\"T_e2a58_row6_col20\" class=\"data row6 col20\" >https://translate.google.com/translate?hl=&sl=auto&tl=en&u=https://www.reddit.com/r/stuttgart</td>\n",
       "                        <td id=\"T_e2a58_row6_col21\" class=\"data row6 col21\" >22</td>\n",
       "                        <td id=\"T_e2a58_row6_col22\" class=\"data row6 col22\" >54</td>\n",
       "                        <td id=\"T_e2a58_row6_col23\" class=\"data row6 col23\" >pg</td>\n",
       "                        <td id=\"T_e2a58_row6_col24\" class=\"data row6 col24\" >Place</td>\n",
       "                        <td id=\"T_e2a58_row6_col25\" class=\"data row6 col25\" >t5_2qi4z</td>\n",
       "                        <td id=\"T_e2a58_row6_col26\" class=\"data row6 col26\" >t5_2syna</td>\n",
       "                        <td id=\"T_e2a58_row6_col27\" class=\"data row6 col27\" >place/culture</td>\n",
       "                        <td id=\"T_e2a58_row6_col28\" class=\"data row6 col28\" >uncategorized</td>\n",
       "                        <td id=\"T_e2a58_row6_col29\" class=\"data row6 col29\" >99158c385c5442b1bf5ff96fc44af7da</td>\n",
       "                        <td id=\"T_e2a58_row6_col30\" class=\"data row6 col30\" >DE</td>\n",
       "                        <td id=\"T_e2a58_row6_col31\" class=\"data row6 col31\" >no</td>\n",
       "                        <td id=\"T_e2a58_row6_col32\" class=\"data row6 col32\" >DE</td>\n",
       "                        <td id=\"T_e2a58_row6_col33\" class=\"data row6 col33\" >no</td>\n",
       "                        <td id=\"T_e2a58_row6_col34\" class=\"data row6 col34\" >152</td>\n",
       "                        <td id=\"T_e2a58_row6_col35\" class=\"data row6 col35\" >yes</td>\n",
       "                        <td id=\"T_e2a58_row6_col36\" class=\"data row6 col36\" >456,390</td>\n",
       "                        <td id=\"T_e2a58_row6_col37\" class=\"data row6 col37\" >2,056</td>\n",
       "                        <td id=\"T_e2a58_row6_col38\" class=\"data row6 col38\" >127</td>\n",
       "                        <td id=\"T_e2a58_row6_col39\" class=\"data row6 col39\" >38</td>\n",
       "                        <td id=\"T_e2a58_row6_col40\" class=\"data row6 col40\" >yes</td>\n",
       "                        <td id=\"T_e2a58_row6_col41\" class=\"data row6 col41\" >12,634</td>\n",
       "                        <td id=\"T_e2a58_row6_col42\" class=\"data row6 col42\" >119</td>\n",
       "            </tr>\n",
       "            <tr>\n",
       "                        <th id=\"T_e2a58_level0_row7\" class=\"row_heading level0 row7\" >53</th>\n",
       "                        <td id=\"T_e2a58_row7_col0\" class=\"data row7 col0\" >0.7342</td>\n",
       "                        <td id=\"T_e2a58_row7_col1\" class=\"data row7 col1\" >germany</td>\n",
       "                        <td id=\"T_e2a58_row7_col2\" class=\"data row7 col2\" >askswitzerland</td>\n",
       "                        <td id=\"T_e2a58_row7_col3\" class=\"data row7 col3\" >True</td>\n",
       "                        <td id=\"T_e2a58_row7_col4\" class=\"data row7 col4\" >yes</td>\n",
       "                        <td id=\"T_e2a58_row7_col5\" class=\"data row7 col5\" >no</td>\n",
       "                        <td id=\"T_e2a58_row7_col6\" class=\"data row7 col6\" >pg</td>\n",
       "                        <td id=\"T_e2a58_row7_col7\" class=\"data row7 col7\" >None</td>\n",
       "                        <td id=\"T_e2a58_row7_col8\" class=\"data row7 col8\" >Germany</td>\n",
       "                        <td id=\"T_e2a58_row7_col9\" class=\"data row7 col9\" >Question about Switzerland? Get your answer here!</td>\n",
       "                        <td id=\"T_e2a58_row7_col10\" class=\"data row7 col10\" >English</td>\n",
       "                        <td id=\"T_e2a58_row7_col11\" class=\"data row7 col11\" >97.67%</td>\n",
       "                        <td id=\"T_e2a58_row7_col12\" class=\"data row7 col12\" >1.63%</td>\n",
       "                        <td id=\"T_e2a58_row7_col13\" class=\"data row7 col13\" >English</td>\n",
       "                        <td id=\"T_e2a58_row7_col14\" class=\"data row7 col14\" >93.75%</td>\n",
       "                        <td id=\"T_e2a58_row7_col15\" class=\"data row7 col15\" >4.50%</td>\n",
       "                        <td id=\"T_e2a58_row7_col16\" class=\"data row7 col16\" >3</td>\n",
       "                        <td id=\"T_e2a58_row7_col17\" class=\"data row7 col17\" >https://www.reddit.com/r/germany</td>\n",
       "                        <td id=\"T_e2a58_row7_col18\" class=\"data row7 col18\" >https://translate.google.com/translate?hl=&sl=auto&tl=en&u=https://www.reddit.com/r/germany</td>\n",
       "                        <td id=\"T_e2a58_row7_col19\" class=\"data row7 col19\" >https://www.reddit.com/r/askswitzerland</td>\n",
       "                        <td id=\"T_e2a58_row7_col20\" class=\"data row7 col20\" >https://translate.google.com/translate?hl=&sl=auto&tl=en&u=https://www.reddit.com/r/askswitzerland</td>\n",
       "                        <td id=\"T_e2a58_row7_col21\" class=\"data row7 col21\" >82</td>\n",
       "                        <td id=\"T_e2a58_row7_col22\" class=\"data row7 col22\" >54</td>\n",
       "                        <td id=\"T_e2a58_row7_col23\" class=\"data row7 col23\" >pg</td>\n",
       "                        <td id=\"T_e2a58_row7_col24\" class=\"data row7 col24\" >Place</td>\n",
       "                        <td id=\"T_e2a58_row7_col25\" class=\"data row7 col25\" >t5_2qi4z</td>\n",
       "                        <td id=\"T_e2a58_row7_col26\" class=\"data row7 col26\" >t5_2tob7</td>\n",
       "                        <td id=\"T_e2a58_row7_col27\" class=\"data row7 col27\" >place/culture</td>\n",
       "                        <td id=\"T_e2a58_row7_col28\" class=\"data row7 col28\" >reddit institutions</td>\n",
       "                        <td id=\"T_e2a58_row7_col29\" class=\"data row7 col29\" >99158c385c5442b1bf5ff96fc44af7da</td>\n",
       "                        <td id=\"T_e2a58_row7_col30\" class=\"data row7 col30\" >DE</td>\n",
       "                        <td id=\"T_e2a58_row7_col31\" class=\"data row7 col31\" >no</td>\n",
       "                        <td id=\"T_e2a58_row7_col32\" class=\"data row7 col32\" >CH</td>\n",
       "                        <td id=\"T_e2a58_row7_col33\" class=\"data row7 col33\" >no</td>\n",
       "                        <td id=\"T_e2a58_row7_col34\" class=\"data row7 col34\" >152</td>\n",
       "                        <td id=\"T_e2a58_row7_col35\" class=\"data row7 col35\" >yes</td>\n",
       "                        <td id=\"T_e2a58_row7_col36\" class=\"data row7 col36\" >456,390</td>\n",
       "                        <td id=\"T_e2a58_row7_col37\" class=\"data row7 col37\" >2,056</td>\n",
       "                        <td id=\"T_e2a58_row7_col38\" class=\"data row7 col38\" >152</td>\n",
       "                        <td id=\"T_e2a58_row7_col39\" class=\"data row7 col39\" >3</td>\n",
       "                        <td id=\"T_e2a58_row7_col40\" class=\"data row7 col40\" >yes</td>\n",
       "                        <td id=\"T_e2a58_row7_col41\" class=\"data row7 col41\" >36,136</td>\n",
       "                        <td id=\"T_e2a58_row7_col42\" class=\"data row7 col42\" >301</td>\n",
       "            </tr>\n",
       "            <tr>\n",
       "                        <th id=\"T_e2a58_level0_row8\" class=\"row_heading level0 row8\" >54</th>\n",
       "                        <td id=\"T_e2a58_row8_col0\" class=\"data row8 col0\" >0.7230</td>\n",
       "                        <td id=\"T_e2a58_row8_col1\" class=\"data row8 col1\" >germany</td>\n",
       "                        <td id=\"T_e2a58_row8_col2\" class=\"data row8 col2\" >basel</td>\n",
       "                        <td id=\"T_e2a58_row8_col3\" class=\"data row8 col3\" >True</td>\n",
       "                        <td id=\"T_e2a58_row8_col4\" class=\"data row8 col4\" >yes</td>\n",
       "                        <td id=\"T_e2a58_row8_col5\" class=\"data row8 col5\" >no</td>\n",
       "                        <td id=\"T_e2a58_row8_col6\" class=\"data row8 col6\" >None</td>\n",
       "                        <td id=\"T_e2a58_row8_col7\" class=\"data row8 col7\" >None</td>\n",
       "                        <td id=\"T_e2a58_row8_col8\" class=\"data row8 col8\" >Germany</td>\n",
       "                        <td id=\"T_e2a58_row8_col9\" class=\"data row8 col9\" >basel, switzerland</td>\n",
       "                        <td id=\"T_e2a58_row8_col10\" class=\"data row8 col10\" >English</td>\n",
       "                        <td id=\"T_e2a58_row8_col11\" class=\"data row8 col11\" >93.18%</td>\n",
       "                        <td id=\"T_e2a58_row8_col12\" class=\"data row8 col12\" >6.82%</td>\n",
       "                        <td id=\"T_e2a58_row8_col13\" class=\"data row8 col13\" >English</td>\n",
       "                        <td id=\"T_e2a58_row8_col14\" class=\"data row8 col14\" >93.75%</td>\n",
       "                        <td id=\"T_e2a58_row8_col15\" class=\"data row8 col15\" >4.50%</td>\n",
       "                        <td id=\"T_e2a58_row8_col16\" class=\"data row8 col16\" >3</td>\n",
       "                        <td id=\"T_e2a58_row8_col17\" class=\"data row8 col17\" >https://www.reddit.com/r/germany</td>\n",
       "                        <td id=\"T_e2a58_row8_col18\" class=\"data row8 col18\" >https://translate.google.com/translate?hl=&sl=auto&tl=en&u=https://www.reddit.com/r/germany</td>\n",
       "                        <td id=\"T_e2a58_row8_col19\" class=\"data row8 col19\" >https://www.reddit.com/r/basel</td>\n",
       "                        <td id=\"T_e2a58_row8_col20\" class=\"data row8 col20\" >https://translate.google.com/translate?hl=&sl=auto&tl=en&u=https://www.reddit.com/r/basel</td>\n",
       "                        <td id=\"T_e2a58_row8_col21\" class=\"data row8 col21\" >60</td>\n",
       "                        <td id=\"T_e2a58_row8_col22\" class=\"data row8 col22\" >54</td>\n",
       "                        <td id=\"T_e2a58_row8_col23\" class=\"data row8 col23\" >pg</td>\n",
       "                        <td id=\"T_e2a58_row8_col24\" class=\"data row8 col24\" >Place</td>\n",
       "                        <td id=\"T_e2a58_row8_col25\" class=\"data row8 col25\" >t5_2qi4z</td>\n",
       "                        <td id=\"T_e2a58_row8_col26\" class=\"data row8 col26\" >t5_2scrn</td>\n",
       "                        <td id=\"T_e2a58_row8_col27\" class=\"data row8 col27\" >place/culture</td>\n",
       "                        <td id=\"T_e2a58_row8_col28\" class=\"data row8 col28\" >uncategorized</td>\n",
       "                        <td id=\"T_e2a58_row8_col29\" class=\"data row8 col29\" >99158c385c5442b1bf5ff96fc44af7da</td>\n",
       "                        <td id=\"T_e2a58_row8_col30\" class=\"data row8 col30\" >DE</td>\n",
       "                        <td id=\"T_e2a58_row8_col31\" class=\"data row8 col31\" >no</td>\n",
       "                        <td id=\"T_e2a58_row8_col32\" class=\"data row8 col32\" >CH</td>\n",
       "                        <td id=\"T_e2a58_row8_col33\" class=\"data row8 col33\" >no</td>\n",
       "                        <td id=\"T_e2a58_row8_col34\" class=\"data row8 col34\" >152</td>\n",
       "                        <td id=\"T_e2a58_row8_col35\" class=\"data row8 col35\" >yes</td>\n",
       "                        <td id=\"T_e2a58_row8_col36\" class=\"data row8 col36\" >456,390</td>\n",
       "                        <td id=\"T_e2a58_row8_col37\" class=\"data row8 col37\" >2,056</td>\n",
       "                        <td id=\"T_e2a58_row8_col38\" class=\"data row8 col38\" >152</td>\n",
       "                        <td id=\"T_e2a58_row8_col39\" class=\"data row8 col39\" >3</td>\n",
       "                        <td id=\"T_e2a58_row8_col40\" class=\"data row8 col40\" >yes</td>\n",
       "                        <td id=\"T_e2a58_row8_col41\" class=\"data row8 col41\" >2,475</td>\n",
       "                        <td id=\"T_e2a58_row8_col42\" class=\"data row8 col42\" >35</td>\n",
       "            </tr>\n",
       "            <tr>\n",
       "                        <th id=\"T_e2a58_level0_row9\" class=\"row_heading level0 row9\" >55</th>\n",
       "                        <td id=\"T_e2a58_row9_col0\" class=\"data row9 col0\" >0.6973</td>\n",
       "                        <td id=\"T_e2a58_row9_col1\" class=\"data row9 col1\" >germany</td>\n",
       "                        <td id=\"T_e2a58_row9_col2\" class=\"data row9 col2\" >zurich</td>\n",
       "                        <td id=\"T_e2a58_row9_col3\" class=\"data row9 col3\" >True</td>\n",
       "                        <td id=\"T_e2a58_row9_col4\" class=\"data row9 col4\" >yes</td>\n",
       "                        <td id=\"T_e2a58_row9_col5\" class=\"data row9 col5\" >no</td>\n",
       "                        <td id=\"T_e2a58_row9_col6\" class=\"data row9 col6\" >pg</td>\n",
       "                        <td id=\"T_e2a58_row9_col7\" class=\"data row9 col7\" >None</td>\n",
       "                        <td id=\"T_e2a58_row9_col8\" class=\"data row9 col8\" >Germany</td>\n",
       "                        <td id=\"T_e2a58_row9_col9\" class=\"data row9 col9\" >Zürich</td>\n",
       "                        <td id=\"T_e2a58_row9_col10\" class=\"data row9 col10\" >English</td>\n",
       "                        <td id=\"T_e2a58_row9_col11\" class=\"data row9 col11\" >91.35%</td>\n",
       "                        <td id=\"T_e2a58_row9_col12\" class=\"data row9 col12\" >5.95%</td>\n",
       "                        <td id=\"T_e2a58_row9_col13\" class=\"data row9 col13\" >English</td>\n",
       "                        <td id=\"T_e2a58_row9_col14\" class=\"data row9 col14\" >93.75%</td>\n",
       "                        <td id=\"T_e2a58_row9_col15\" class=\"data row9 col15\" >4.50%</td>\n",
       "                        <td id=\"T_e2a58_row9_col16\" class=\"data row9 col16\" >3</td>\n",
       "                        <td id=\"T_e2a58_row9_col17\" class=\"data row9 col17\" >https://www.reddit.com/r/germany</td>\n",
       "                        <td id=\"T_e2a58_row9_col18\" class=\"data row9 col18\" >https://translate.google.com/translate?hl=&sl=auto&tl=en&u=https://www.reddit.com/r/germany</td>\n",
       "                        <td id=\"T_e2a58_row9_col19\" class=\"data row9 col19\" >https://www.reddit.com/r/zurich</td>\n",
       "                        <td id=\"T_e2a58_row9_col20\" class=\"data row9 col20\" >https://translate.google.com/translate?hl=&sl=auto&tl=en&u=https://www.reddit.com/r/zurich</td>\n",
       "                        <td id=\"T_e2a58_row9_col21\" class=\"data row9 col21\" >52</td>\n",
       "                        <td id=\"T_e2a58_row9_col22\" class=\"data row9 col22\" >54</td>\n",
       "                        <td id=\"T_e2a58_row9_col23\" class=\"data row9 col23\" >pg</td>\n",
       "                        <td id=\"T_e2a58_row9_col24\" class=\"data row9 col24\" >Place</td>\n",
       "                        <td id=\"T_e2a58_row9_col25\" class=\"data row9 col25\" >t5_2qi4z</td>\n",
       "                        <td id=\"T_e2a58_row9_col26\" class=\"data row9 col26\" >t5_2s7k8</td>\n",
       "                        <td id=\"T_e2a58_row9_col27\" class=\"data row9 col27\" >place/culture</td>\n",
       "                        <td id=\"T_e2a58_row9_col28\" class=\"data row9 col28\" >place/culture</td>\n",
       "                        <td id=\"T_e2a58_row9_col29\" class=\"data row9 col29\" >99158c385c5442b1bf5ff96fc44af7da</td>\n",
       "                        <td id=\"T_e2a58_row9_col30\" class=\"data row9 col30\" >DE</td>\n",
       "                        <td id=\"T_e2a58_row9_col31\" class=\"data row9 col31\" >no</td>\n",
       "                        <td id=\"T_e2a58_row9_col32\" class=\"data row9 col32\" >CH</td>\n",
       "                        <td id=\"T_e2a58_row9_col33\" class=\"data row9 col33\" >no</td>\n",
       "                        <td id=\"T_e2a58_row9_col34\" class=\"data row9 col34\" >152</td>\n",
       "                        <td id=\"T_e2a58_row9_col35\" class=\"data row9 col35\" >yes</td>\n",
       "                        <td id=\"T_e2a58_row9_col36\" class=\"data row9 col36\" >456,390</td>\n",
       "                        <td id=\"T_e2a58_row9_col37\" class=\"data row9 col37\" >2,056</td>\n",
       "                        <td id=\"T_e2a58_row9_col38\" class=\"data row9 col38\" >152</td>\n",
       "                        <td id=\"T_e2a58_row9_col39\" class=\"data row9 col39\" >3</td>\n",
       "                        <td id=\"T_e2a58_row9_col40\" class=\"data row9 col40\" >yes</td>\n",
       "                        <td id=\"T_e2a58_row9_col41\" class=\"data row9 col41\" >20,866</td>\n",
       "                        <td id=\"T_e2a58_row9_col42\" class=\"data row9 col42\" >133</td>\n",
       "            </tr>\n",
       "            <tr>\n",
       "                        <th id=\"T_e2a58_level0_row10\" class=\"row_heading level0 row10\" >56</th>\n",
       "                        <td id=\"T_e2a58_row10_col0\" class=\"data row10 col0\" >0.6963</td>\n",
       "                        <td id=\"T_e2a58_row10_col1\" class=\"data row10 col1\" >germany</td>\n",
       "                        <td id=\"T_e2a58_row10_col2\" class=\"data row10 col2\" >poland</td>\n",
       "                        <td id=\"T_e2a58_row10_col3\" class=\"data row10 col3\" >True</td>\n",
       "                        <td id=\"T_e2a58_row10_col4\" class=\"data row10 col4\" >yes</td>\n",
       "                        <td id=\"T_e2a58_row10_col5\" class=\"data row10 col5\" >no</td>\n",
       "                        <td id=\"T_e2a58_row10_col6\" class=\"data row10 col6\" >pg</td>\n",
       "                        <td id=\"T_e2a58_row10_col7\" class=\"data row10 col7\" >None</td>\n",
       "                        <td id=\"T_e2a58_row10_col8\" class=\"data row10 col8\" >Germany</td>\n",
       "                        <td id=\"T_e2a58_row10_col9\" class=\"data row10 col9\" >The Polish reddit</td>\n",
       "                        <td id=\"T_e2a58_row10_col10\" class=\"data row10 col10\" >English</td>\n",
       "                        <td id=\"T_e2a58_row10_col11\" class=\"data row10 col11\" >91.11%</td>\n",
       "                        <td id=\"T_e2a58_row10_col12\" class=\"data row10 col12\" >0.24%</td>\n",
       "                        <td id=\"T_e2a58_row10_col13\" class=\"data row10 col13\" >English</td>\n",
       "                        <td id=\"T_e2a58_row10_col14\" class=\"data row10 col14\" >93.75%</td>\n",
       "                        <td id=\"T_e2a58_row10_col15\" class=\"data row10 col15\" >4.50%</td>\n",
       "                        <td id=\"T_e2a58_row10_col16\" class=\"data row10 col16\" >3</td>\n",
       "                        <td id=\"T_e2a58_row10_col17\" class=\"data row10 col17\" >https://www.reddit.com/r/germany</td>\n",
       "                        <td id=\"T_e2a58_row10_col18\" class=\"data row10 col18\" >https://translate.google.com/translate?hl=&sl=auto&tl=en&u=https://www.reddit.com/r/germany</td>\n",
       "                        <td id=\"T_e2a58_row10_col19\" class=\"data row10 col19\" >https://www.reddit.com/r/poland</td>\n",
       "                        <td id=\"T_e2a58_row10_col20\" class=\"data row10 col20\" >https://translate.google.com/translate?hl=&sl=auto&tl=en&u=https://www.reddit.com/r/poland</td>\n",
       "                        <td id=\"T_e2a58_row10_col21\" class=\"data row10 col21\" >33</td>\n",
       "                        <td id=\"T_e2a58_row10_col22\" class=\"data row10 col22\" >54</td>\n",
       "                        <td id=\"T_e2a58_row10_col23\" class=\"data row10 col23\" >pg</td>\n",
       "                        <td id=\"T_e2a58_row10_col24\" class=\"data row10 col24\" >Place</td>\n",
       "                        <td id=\"T_e2a58_row10_col25\" class=\"data row10 col25\" >t5_2qi4z</td>\n",
       "                        <td id=\"T_e2a58_row10_col26\" class=\"data row10 col26\" >t5_2qkmn</td>\n",
       "                        <td id=\"T_e2a58_row10_col27\" class=\"data row10 col27\" >place/culture</td>\n",
       "                        <td id=\"T_e2a58_row10_col28\" class=\"data row10 col28\" >uncategorized</td>\n",
       "                        <td id=\"T_e2a58_row10_col29\" class=\"data row10 col29\" >99158c385c5442b1bf5ff96fc44af7da</td>\n",
       "                        <td id=\"T_e2a58_row10_col30\" class=\"data row10 col30\" >DE</td>\n",
       "                        <td id=\"T_e2a58_row10_col31\" class=\"data row10 col31\" >no</td>\n",
       "                        <td id=\"T_e2a58_row10_col32\" class=\"data row10 col32\" >PL</td>\n",
       "                        <td id=\"T_e2a58_row10_col33\" class=\"data row10 col33\" >no</td>\n",
       "                        <td id=\"T_e2a58_row10_col34\" class=\"data row10 col34\" >152</td>\n",
       "                        <td id=\"T_e2a58_row10_col35\" class=\"data row10 col35\" >yes</td>\n",
       "                        <td id=\"T_e2a58_row10_col36\" class=\"data row10 col36\" >456,390</td>\n",
       "                        <td id=\"T_e2a58_row10_col37\" class=\"data row10 col37\" >2,056</td>\n",
       "                        <td id=\"T_e2a58_row10_col38\" class=\"data row10 col38\" >152</td>\n",
       "                        <td id=\"T_e2a58_row10_col39\" class=\"data row10 col39\" >3</td>\n",
       "                        <td id=\"T_e2a58_row10_col40\" class=\"data row10 col40\" >yes</td>\n",
       "                        <td id=\"T_e2a58_row10_col41\" class=\"data row10 col41\" >137,386</td>\n",
       "                        <td id=\"T_e2a58_row10_col42\" class=\"data row10 col42\" >782</td>\n",
       "            </tr>\n",
       "            <tr>\n",
       "                        <th id=\"T_e2a58_level0_row11\" class=\"row_heading level0 row11\" >57</th>\n",
       "                        <td id=\"T_e2a58_row11_col0\" class=\"data row11 col0\" >0.6861</td>\n",
       "                        <td id=\"T_e2a58_row11_col1\" class=\"data row11 col1\" >germany</td>\n",
       "                        <td id=\"T_e2a58_row11_col2\" class=\"data row11 col2\" >switzerland</td>\n",
       "                        <td id=\"T_e2a58_row11_col3\" class=\"data row11 col3\" >True</td>\n",
       "                        <td id=\"T_e2a58_row11_col4\" class=\"data row11 col4\" >yes</td>\n",
       "                        <td id=\"T_e2a58_row11_col5\" class=\"data row11 col5\" >no</td>\n",
       "                        <td id=\"T_e2a58_row11_col6\" class=\"data row11 col6\" >pg13</td>\n",
       "                        <td id=\"T_e2a58_row11_col7\" class=\"data row11 col7\" >None</td>\n",
       "                        <td id=\"T_e2a58_row11_col8\" class=\"data row11 col8\" >Germany</td>\n",
       "                        <td id=\"T_e2a58_row11_col9\" class=\"data row11 col9\" >Switzerland</td>\n",
       "                        <td id=\"T_e2a58_row11_col10\" class=\"data row11 col10\" >English</td>\n",
       "                        <td id=\"T_e2a58_row11_col11\" class=\"data row11 col11\" >85.19%</td>\n",
       "                        <td id=\"T_e2a58_row11_col12\" class=\"data row11 col12\" >9.16%</td>\n",
       "                        <td id=\"T_e2a58_row11_col13\" class=\"data row11 col13\" >English</td>\n",
       "                        <td id=\"T_e2a58_row11_col14\" class=\"data row11 col14\" >93.75%</td>\n",
       "                        <td id=\"T_e2a58_row11_col15\" class=\"data row11 col15\" >4.50%</td>\n",
       "                        <td id=\"T_e2a58_row11_col16\" class=\"data row11 col16\" >3</td>\n",
       "                        <td id=\"T_e2a58_row11_col17\" class=\"data row11 col17\" >https://www.reddit.com/r/germany</td>\n",
       "                        <td id=\"T_e2a58_row11_col18\" class=\"data row11 col18\" >https://translate.google.com/translate?hl=&sl=auto&tl=en&u=https://www.reddit.com/r/germany</td>\n",
       "                        <td id=\"T_e2a58_row11_col19\" class=\"data row11 col19\" >https://www.reddit.com/r/switzerland</td>\n",
       "                        <td id=\"T_e2a58_row11_col20\" class=\"data row11 col20\" >https://translate.google.com/translate?hl=&sl=auto&tl=en&u=https://www.reddit.com/r/switzerland</td>\n",
       "                        <td id=\"T_e2a58_row11_col21\" class=\"data row11 col21\" >19</td>\n",
       "                        <td id=\"T_e2a58_row11_col22\" class=\"data row11 col22\" >54</td>\n",
       "                        <td id=\"T_e2a58_row11_col23\" class=\"data row11 col23\" >pg</td>\n",
       "                        <td id=\"T_e2a58_row11_col24\" class=\"data row11 col24\" >Place</td>\n",
       "                        <td id=\"T_e2a58_row11_col25\" class=\"data row11 col25\" >t5_2qi4z</td>\n",
       "                        <td id=\"T_e2a58_row11_col26\" class=\"data row11 col26\" >t5_2qhp6</td>\n",
       "                        <td id=\"T_e2a58_row11_col27\" class=\"data row11 col27\" >place/culture</td>\n",
       "                        <td id=\"T_e2a58_row11_col28\" class=\"data row11 col28\" >place/culture</td>\n",
       "                        <td id=\"T_e2a58_row11_col29\" class=\"data row11 col29\" >99158c385c5442b1bf5ff96fc44af7da</td>\n",
       "                        <td id=\"T_e2a58_row11_col30\" class=\"data row11 col30\" >DE</td>\n",
       "                        <td id=\"T_e2a58_row11_col31\" class=\"data row11 col31\" >no</td>\n",
       "                        <td id=\"T_e2a58_row11_col32\" class=\"data row11 col32\" >CH</td>\n",
       "                        <td id=\"T_e2a58_row11_col33\" class=\"data row11 col33\" >no</td>\n",
       "                        <td id=\"T_e2a58_row11_col34\" class=\"data row11 col34\" >152</td>\n",
       "                        <td id=\"T_e2a58_row11_col35\" class=\"data row11 col35\" >yes</td>\n",
       "                        <td id=\"T_e2a58_row11_col36\" class=\"data row11 col36\" >456,390</td>\n",
       "                        <td id=\"T_e2a58_row11_col37\" class=\"data row11 col37\" >2,056</td>\n",
       "                        <td id=\"T_e2a58_row11_col38\" class=\"data row11 col38\" >152</td>\n",
       "                        <td id=\"T_e2a58_row11_col39\" class=\"data row11 col39\" >3</td>\n",
       "                        <td id=\"T_e2a58_row11_col40\" class=\"data row11 col40\" >yes</td>\n",
       "                        <td id=\"T_e2a58_row11_col41\" class=\"data row11 col41\" >90,234</td>\n",
       "                        <td id=\"T_e2a58_row11_col42\" class=\"data row11 col42\" >783</td>\n",
       "            </tr>\n",
       "    </tbody></table>"
      ],
      "text/plain": [
       "<pandas.io.formats.style.Styler at 0x7f848c10e210>"
      ]
     },
     "metadata": {},
     "output_type": "display_data"
    }
   ],
   "source": [
    "for sub_a in tqdm(list(df_subs_distance_qa_top['subreddit_name_a'].unique())[:3]):\n",
    "    df_this_sub_ = df_subs_distance_qa_top[df_subs_distance_qa_top['subreddit_name_a'] == sub_a]\n",
    "    print(df_this_sub_.shape)\n",
    "    display(style_df_numeric(\n",
    "        df_this_sub_\n",
    "        [[c for c in df_subs_distance_qa_top.columns if '_description' not in c]].head(12),\n",
    "        # rename_cols_for_display=True,\n",
    "        float_round=4,\n",
    "    ))"
   ]
  },
  {
   "cell_type": "code",
   "execution_count": 262,
   "id": "df5cc1af",
   "metadata": {},
   "outputs": [],
   "source": [
    "# df_subs_distance_qa_top.tail(15)"
   ]
  },
  {
   "cell_type": "code",
   "execution_count": 268,
   "id": "3e15cd27",
   "metadata": {},
   "outputs": [],
   "source": [
    "# list(df_subs_distance_qa_top.columns)"
   ]
  },
  {
   "cell_type": "code",
   "execution_count": null,
   "id": "f9a01b94",
   "metadata": {},
   "outputs": [],
   "source": []
  },
  {
   "cell_type": "code",
   "execution_count": null,
   "id": "b225e369",
   "metadata": {},
   "outputs": [],
   "source": [
    "TODO: pick better columns. Missing:\n",
    "    - ratings so that we can filter out NSFW (we don't want to waste QA time on NSFW subs)\n",
    "    - pull new ratings data so that we can have the latest info (current parquet files have old data)"
   ]
  },
  {
   "cell_type": "code",
   "execution_count": 267,
   "id": "3aaf5b9b",
   "metadata": {},
   "outputs": [],
   "source": [
    "l_cols_to_export = [\n",
    "    'cosine_distance',\n",
    "    'subreddit_name_a',\n",
    "    'subreddit_name_b',\n",
    "    'subreddit_a_and_b_in_same_cluster',\n",
    "    'german_or_ambassador_sub_a',\n",
    "    'german_or_ambassador_sub_b',\n",
    "    'rating_b',\n",
    "    'topic_b',\n",
    "    'subreddit_title_a',\n",
    "    'subreddit_public_description_a',\n",
    "    'subreddit_title_b',\n",
    "    'subreddit_public_description_b',\n",
    "    'primary_post_language_b',\n",
    "    'primary_post_language_percent_b',\n",
    "    'German_posts_percent_b',\n",
    "    'primary_post_language_a',\n",
    "    'primary_post_language_percent_a',\n",
    "    'German_posts_percent_a',\n",
    "    'german_subs_in_cluster_a',\n",
    "    'subreddit_url_a',\n",
    "    'subreddit_url_with_google_translate_a',\n",
    "    'subreddit_url_b',\n",
    "    'subreddit_url_with_google_translate_b',\n",
    "]"
   ]
  },
  {
   "cell_type": "code",
   "execution_count": 270,
   "id": "0e89dbc9",
   "metadata": {},
   "outputs": [],
   "source": [
    "(\n",
    "    df_subs_distance_qa_top[l_cols_to_export]\n",
    "    .rename(columns={c: c.replace('_', ' ') for c in df_subs_distance_qa_top.columns})\n",
    "    .to_csv('djb_qa_ignore.csv')\n",
    ")"
   ]
  },
  {
   "cell_type": "code",
   "execution_count": null,
   "id": "f6e53b64",
   "metadata": {},
   "outputs": [],
   "source": [
    "%%time\n",
    "# Add cluster ID columns so we can maybe sort by it...\n",
    "#. need a 2nd column to check whether sub-a's cluster is same as sub-b's cluster\n",
    "\n",
    "\n"
   ]
  },
  {
   "cell_type": "code",
   "execution_count": 115,
   "id": "e9b634af",
   "metadata": {},
   "outputs": [
    {
     "data": {
      "text/html": [
       "<div>\n",
       "<style scoped>\n",
       "    .dataframe tbody tr th:only-of-type {\n",
       "        vertical-align: middle;\n",
       "    }\n",
       "\n",
       "    .dataframe tbody tr th {\n",
       "        vertical-align: top;\n",
       "    }\n",
       "\n",
       "    .dataframe thead th {\n",
       "        text-align: right;\n",
       "    }\n",
       "</style>\n",
       "<table border=\"1\" class=\"dataframe\">\n",
       "  <thead>\n",
       "    <tr style=\"text-align: right;\">\n",
       "      <th></th>\n",
       "      <th>cosine_distance</th>\n",
       "      <th>subreddit_name_a</th>\n",
       "      <th>subreddit_name_b</th>\n",
       "      <th>rating_b</th>\n",
       "      <th>topic_b</th>\n",
       "      <th>primary_post_language_b</th>\n",
       "      <th>primary_post_language_percent_b</th>\n",
       "      <th>post_median_word_count_b</th>\n",
       "      <th>post_median_word_count_a</th>\n",
       "      <th>rating_a</th>\n",
       "      <th>topic_a</th>\n",
       "      <th>primary_post_language_a</th>\n",
       "      <th>primary_post_language_percent_a</th>\n",
       "      <th>subreddit_id_a</th>\n",
       "      <th>subreddit_id_b</th>\n",
       "      <th>manual_topic_and_rating_a</th>\n",
       "      <th>manual_topic_and_rating_b</th>\n",
       "      <th>mlflow_aggregation_run_uuid</th>\n",
       "      <th>geo_country_code_a</th>\n",
       "      <th>ambassador_sub_a</th>\n",
       "      <th>german_or_ambassador_sub_a</th>\n",
       "      <th>geo_country_code_b</th>\n",
       "      <th>ambassador_sub_b</th>\n",
       "      <th>german_or_ambassador_sub_b</th>\n",
       "    </tr>\n",
       "  </thead>\n",
       "  <tbody>\n",
       "    <tr>\n",
       "      <th>29330</th>\n",
       "      <td>0.455227</td>\n",
       "      <td>zombey</td>\n",
       "      <td>survivio</td>\n",
       "      <td>pg13</td>\n",
       "      <td>None</td>\n",
       "      <td>English</td>\n",
       "      <td>0.854489</td>\n",
       "      <td>12.0</td>\n",
       "      <td>9.0</td>\n",
       "      <td>None</td>\n",
       "      <td>None</td>\n",
       "      <td>German</td>\n",
       "      <td>0.576271</td>\n",
       "      <td>t5_333uz</td>\n",
       "      <td>t5_3p4g3</td>\n",
       "      <td>uncategorized</td>\n",
       "      <td>uncategorized</td>\n",
       "      <td>99158c385c5442b1bf5ff96fc44af7da</td>\n",
       "      <td>DE</td>\n",
       "      <td>no</td>\n",
       "      <td>yes</td>\n",
       "      <td>NaN</td>\n",
       "      <td>no</td>\n",
       "      <td>no</td>\n",
       "    </tr>\n",
       "    <tr>\n",
       "      <th>29331</th>\n",
       "      <td>0.455191</td>\n",
       "      <td>zombey</td>\n",
       "      <td>gronkh</td>\n",
       "      <td>None</td>\n",
       "      <td>None</td>\n",
       "      <td>German</td>\n",
       "      <td>0.900000</td>\n",
       "      <td>48.5</td>\n",
       "      <td>9.0</td>\n",
       "      <td>None</td>\n",
       "      <td>None</td>\n",
       "      <td>German</td>\n",
       "      <td>0.576271</td>\n",
       "      <td>t5_333uz</td>\n",
       "      <td>t5_2tuy6</td>\n",
       "      <td>uncategorized</td>\n",
       "      <td>uncategorized</td>\n",
       "      <td>99158c385c5442b1bf5ff96fc44af7da</td>\n",
       "      <td>DE</td>\n",
       "      <td>no</td>\n",
       "      <td>yes</td>\n",
       "      <td>DE</td>\n",
       "      <td>no</td>\n",
       "      <td>yes</td>\n",
       "    </tr>\n",
       "    <tr>\n",
       "      <th>29332</th>\n",
       "      <td>0.454853</td>\n",
       "      <td>zombey</td>\n",
       "      <td>promote</td>\n",
       "      <td>pg</td>\n",
       "      <td>None</td>\n",
       "      <td>English</td>\n",
       "      <td>0.890833</td>\n",
       "      <td>11.0</td>\n",
       "      <td>9.0</td>\n",
       "      <td>None</td>\n",
       "      <td>None</td>\n",
       "      <td>German</td>\n",
       "      <td>0.576271</td>\n",
       "      <td>t5_333uz</td>\n",
       "      <td>t5_2rda3</td>\n",
       "      <td>uncategorized</td>\n",
       "      <td>uncategorized</td>\n",
       "      <td>99158c385c5442b1bf5ff96fc44af7da</td>\n",
       "      <td>DE</td>\n",
       "      <td>no</td>\n",
       "      <td>yes</td>\n",
       "      <td>NaN</td>\n",
       "      <td>no</td>\n",
       "      <td>no</td>\n",
       "    </tr>\n",
       "    <tr>\n",
       "      <th>29333</th>\n",
       "      <td>0.454067</td>\n",
       "      <td>zombey</td>\n",
       "      <td>skeppy</td>\n",
       "      <td>pg</td>\n",
       "      <td>None</td>\n",
       "      <td>English</td>\n",
       "      <td>0.754717</td>\n",
       "      <td>8.5</td>\n",
       "      <td>9.0</td>\n",
       "      <td>None</td>\n",
       "      <td>None</td>\n",
       "      <td>German</td>\n",
       "      <td>0.576271</td>\n",
       "      <td>t5_333uz</td>\n",
       "      <td>t5_ncpee</td>\n",
       "      <td>uncategorized</td>\n",
       "      <td>uncategorized</td>\n",
       "      <td>99158c385c5442b1bf5ff96fc44af7da</td>\n",
       "      <td>DE</td>\n",
       "      <td>no</td>\n",
       "      <td>yes</td>\n",
       "      <td>NaN</td>\n",
       "      <td>no</td>\n",
       "      <td>no</td>\n",
       "    </tr>\n",
       "    <tr>\n",
       "      <th>29334</th>\n",
       "      <td>0.453718</td>\n",
       "      <td>zombey</td>\n",
       "      <td>papaplatte</td>\n",
       "      <td>pg</td>\n",
       "      <td>Podcasts and Streamers</td>\n",
       "      <td>German</td>\n",
       "      <td>0.632035</td>\n",
       "      <td>5.0</td>\n",
       "      <td>9.0</td>\n",
       "      <td>None</td>\n",
       "      <td>None</td>\n",
       "      <td>German</td>\n",
       "      <td>0.576271</td>\n",
       "      <td>t5_333uz</td>\n",
       "      <td>t5_xwqca</td>\n",
       "      <td>uncategorized</td>\n",
       "      <td>podcasts and streamers</td>\n",
       "      <td>99158c385c5442b1bf5ff96fc44af7da</td>\n",
       "      <td>DE</td>\n",
       "      <td>no</td>\n",
       "      <td>yes</td>\n",
       "      <td>DE</td>\n",
       "      <td>no</td>\n",
       "      <td>yes</td>\n",
       "    </tr>\n",
       "    <tr>\n",
       "      <th>29335</th>\n",
       "      <td>0.453580</td>\n",
       "      <td>zombey</td>\n",
       "      <td>l4d2</td>\n",
       "      <td>r</td>\n",
       "      <td>None</td>\n",
       "      <td>English</td>\n",
       "      <td>0.865217</td>\n",
       "      <td>13.0</td>\n",
       "      <td>9.0</td>\n",
       "      <td>None</td>\n",
       "      <td>None</td>\n",
       "      <td>German</td>\n",
       "      <td>0.576271</td>\n",
       "      <td>t5_333uz</td>\n",
       "      <td>t5_2qzox</td>\n",
       "      <td>uncategorized</td>\n",
       "      <td>uncategorized</td>\n",
       "      <td>99158c385c5442b1bf5ff96fc44af7da</td>\n",
       "      <td>DE</td>\n",
       "      <td>no</td>\n",
       "      <td>yes</td>\n",
       "      <td>NaN</td>\n",
       "      <td>no</td>\n",
       "      <td>no</td>\n",
       "    </tr>\n",
       "    <tr>\n",
       "      <th>29336</th>\n",
       "      <td>0.452996</td>\n",
       "      <td>zombey</td>\n",
       "      <td>drillshitpost</td>\n",
       "      <td>r</td>\n",
       "      <td>Internet Culture and Memes</td>\n",
       "      <td>English</td>\n",
       "      <td>0.788321</td>\n",
       "      <td>8.0</td>\n",
       "      <td>9.0</td>\n",
       "      <td>None</td>\n",
       "      <td>None</td>\n",
       "      <td>German</td>\n",
       "      <td>0.576271</td>\n",
       "      <td>t5_333uz</td>\n",
       "      <td>t5_2br5lh</td>\n",
       "      <td>uncategorized</td>\n",
       "      <td>internet culture and memes</td>\n",
       "      <td>99158c385c5442b1bf5ff96fc44af7da</td>\n",
       "      <td>DE</td>\n",
       "      <td>no</td>\n",
       "      <td>yes</td>\n",
       "      <td>GB</td>\n",
       "      <td>no</td>\n",
       "      <td>no</td>\n",
       "    </tr>\n",
       "    <tr>\n",
       "      <th>29337</th>\n",
       "      <td>0.452186</td>\n",
       "      <td>zombey</td>\n",
       "      <td>rbtv_cj</td>\n",
       "      <td>pg</td>\n",
       "      <td>Internet Culture and Memes</td>\n",
       "      <td>German</td>\n",
       "      <td>0.873134</td>\n",
       "      <td>8.0</td>\n",
       "      <td>9.0</td>\n",
       "      <td>None</td>\n",
       "      <td>None</td>\n",
       "      <td>German</td>\n",
       "      <td>0.576271</td>\n",
       "      <td>t5_333uz</td>\n",
       "      <td>t5_k3zhu</td>\n",
       "      <td>uncategorized</td>\n",
       "      <td>internet culture and memes</td>\n",
       "      <td>99158c385c5442b1bf5ff96fc44af7da</td>\n",
       "      <td>DE</td>\n",
       "      <td>no</td>\n",
       "      <td>yes</td>\n",
       "      <td>DE</td>\n",
       "      <td>no</td>\n",
       "      <td>yes</td>\n",
       "    </tr>\n",
       "    <tr>\n",
       "      <th>29338</th>\n",
       "      <td>0.449786</td>\n",
       "      <td>zombey</td>\n",
       "      <td>furry</td>\n",
       "      <td>pg13</td>\n",
       "      <td>None</td>\n",
       "      <td>English</td>\n",
       "      <td>0.857500</td>\n",
       "      <td>7.0</td>\n",
       "      <td>9.0</td>\n",
       "      <td>None</td>\n",
       "      <td>None</td>\n",
       "      <td>German</td>\n",
       "      <td>0.576271</td>\n",
       "      <td>t5_333uz</td>\n",
       "      <td>t5_2qi2h</td>\n",
       "      <td>uncategorized</td>\n",
       "      <td>uncategorized</td>\n",
       "      <td>99158c385c5442b1bf5ff96fc44af7da</td>\n",
       "      <td>DE</td>\n",
       "      <td>no</td>\n",
       "      <td>yes</td>\n",
       "      <td>NaN</td>\n",
       "      <td>no</td>\n",
       "      <td>no</td>\n",
       "    </tr>\n",
       "    <tr>\n",
       "      <th>29339</th>\n",
       "      <td>0.449021</td>\n",
       "      <td>zombey</td>\n",
       "      <td>anything</td>\n",
       "      <td>r</td>\n",
       "      <td>None</td>\n",
       "      <td>English</td>\n",
       "      <td>0.782500</td>\n",
       "      <td>8.0</td>\n",
       "      <td>9.0</td>\n",
       "      <td>None</td>\n",
       "      <td>None</td>\n",
       "      <td>German</td>\n",
       "      <td>0.576271</td>\n",
       "      <td>t5_333uz</td>\n",
       "      <td>t5_2qne4</td>\n",
       "      <td>uncategorized</td>\n",
       "      <td>uncategorized</td>\n",
       "      <td>99158c385c5442b1bf5ff96fc44af7da</td>\n",
       "      <td>DE</td>\n",
       "      <td>no</td>\n",
       "      <td>yes</td>\n",
       "      <td>NaN</td>\n",
       "      <td>no</td>\n",
       "      <td>no</td>\n",
       "    </tr>\n",
       "    <tr>\n",
       "      <th>29340</th>\n",
       "      <td>0.448451</td>\n",
       "      <td>zombey</td>\n",
       "      <td>fortniter34_2</td>\n",
       "      <td>None</td>\n",
       "      <td>None</td>\n",
       "      <td>English</td>\n",
       "      <td>0.620853</td>\n",
       "      <td>4.0</td>\n",
       "      <td>9.0</td>\n",
       "      <td>None</td>\n",
       "      <td>None</td>\n",
       "      <td>German</td>\n",
       "      <td>0.576271</td>\n",
       "      <td>t5_333uz</td>\n",
       "      <td>t5_3q1dzn</td>\n",
       "      <td>uncategorized</td>\n",
       "      <td>uncategorized</td>\n",
       "      <td>99158c385c5442b1bf5ff96fc44af7da</td>\n",
       "      <td>DE</td>\n",
       "      <td>no</td>\n",
       "      <td>yes</td>\n",
       "      <td>NaN</td>\n",
       "      <td>no</td>\n",
       "      <td>no</td>\n",
       "    </tr>\n",
       "    <tr>\n",
       "      <th>29341</th>\n",
       "      <td>0.447524</td>\n",
       "      <td>zombey</td>\n",
       "      <td>huebi</td>\n",
       "      <td>None</td>\n",
       "      <td>None</td>\n",
       "      <td>German</td>\n",
       "      <td>0.798333</td>\n",
       "      <td>5.0</td>\n",
       "      <td>9.0</td>\n",
       "      <td>None</td>\n",
       "      <td>None</td>\n",
       "      <td>German</td>\n",
       "      <td>0.576271</td>\n",
       "      <td>t5_333uz</td>\n",
       "      <td>t5_29zucx</td>\n",
       "      <td>uncategorized</td>\n",
       "      <td>uncategorized</td>\n",
       "      <td>99158c385c5442b1bf5ff96fc44af7da</td>\n",
       "      <td>DE</td>\n",
       "      <td>no</td>\n",
       "      <td>yes</td>\n",
       "      <td>DE</td>\n",
       "      <td>no</td>\n",
       "      <td>yes</td>\n",
       "    </tr>\n",
       "    <tr>\n",
       "      <th>29342</th>\n",
       "      <td>0.447470</td>\n",
       "      <td>zombey</td>\n",
       "      <td>deeeepioskins</td>\n",
       "      <td>pg13</td>\n",
       "      <td>None</td>\n",
       "      <td>English</td>\n",
       "      <td>0.638989</td>\n",
       "      <td>5.0</td>\n",
       "      <td>9.0</td>\n",
       "      <td>None</td>\n",
       "      <td>None</td>\n",
       "      <td>German</td>\n",
       "      <td>0.576271</td>\n",
       "      <td>t5_333uz</td>\n",
       "      <td>t5_taec4</td>\n",
       "      <td>uncategorized</td>\n",
       "      <td>uncategorized</td>\n",
       "      <td>99158c385c5442b1bf5ff96fc44af7da</td>\n",
       "      <td>DE</td>\n",
       "      <td>no</td>\n",
       "      <td>yes</td>\n",
       "      <td>NaN</td>\n",
       "      <td>no</td>\n",
       "      <td>no</td>\n",
       "    </tr>\n",
       "    <tr>\n",
       "      <th>29343</th>\n",
       "      <td>0.446681</td>\n",
       "      <td>zombey</td>\n",
       "      <td>entrypoint</td>\n",
       "      <td>pg13</td>\n",
       "      <td>None</td>\n",
       "      <td>English</td>\n",
       "      <td>0.860406</td>\n",
       "      <td>10.0</td>\n",
       "      <td>9.0</td>\n",
       "      <td>None</td>\n",
       "      <td>None</td>\n",
       "      <td>German</td>\n",
       "      <td>0.576271</td>\n",
       "      <td>t5_333uz</td>\n",
       "      <td>t5_qbuyg</td>\n",
       "      <td>uncategorized</td>\n",
       "      <td>uncategorized</td>\n",
       "      <td>99158c385c5442b1bf5ff96fc44af7da</td>\n",
       "      <td>DE</td>\n",
       "      <td>no</td>\n",
       "      <td>yes</td>\n",
       "      <td>NaN</td>\n",
       "      <td>no</td>\n",
       "      <td>no</td>\n",
       "    </tr>\n",
       "    <tr>\n",
       "      <th>29344</th>\n",
       "      <td>0.445224</td>\n",
       "      <td>zombey</td>\n",
       "      <td>nsfwanimegifs</td>\n",
       "      <td>nc17</td>\n",
       "      <td>None</td>\n",
       "      <td>English</td>\n",
       "      <td>0.531250</td>\n",
       "      <td>5.0</td>\n",
       "      <td>9.0</td>\n",
       "      <td>None</td>\n",
       "      <td>None</td>\n",
       "      <td>German</td>\n",
       "      <td>0.576271</td>\n",
       "      <td>t5_333uz</td>\n",
       "      <td>t5_2tspw</td>\n",
       "      <td>uncategorized</td>\n",
       "      <td>over18_nsfw</td>\n",
       "      <td>99158c385c5442b1bf5ff96fc44af7da</td>\n",
       "      <td>DE</td>\n",
       "      <td>no</td>\n",
       "      <td>yes</td>\n",
       "      <td>NaN</td>\n",
       "      <td>no</td>\n",
       "      <td>no</td>\n",
       "    </tr>\n",
       "    <tr>\n",
       "      <th>29345</th>\n",
       "      <td>0.444105</td>\n",
       "      <td>zombey</td>\n",
       "      <td>fnki</td>\n",
       "      <td>pg13</td>\n",
       "      <td>None</td>\n",
       "      <td>English</td>\n",
       "      <td>0.842801</td>\n",
       "      <td>6.0</td>\n",
       "      <td>9.0</td>\n",
       "      <td>None</td>\n",
       "      <td>None</td>\n",
       "      <td>German</td>\n",
       "      <td>0.576271</td>\n",
       "      <td>t5_333uz</td>\n",
       "      <td>t5_3oudr</td>\n",
       "      <td>uncategorized</td>\n",
       "      <td>uncategorized</td>\n",
       "      <td>99158c385c5442b1bf5ff96fc44af7da</td>\n",
       "      <td>DE</td>\n",
       "      <td>no</td>\n",
       "      <td>yes</td>\n",
       "      <td>NaN</td>\n",
       "      <td>no</td>\n",
       "      <td>no</td>\n",
       "    </tr>\n",
       "    <tr>\n",
       "      <th>29346</th>\n",
       "      <td>0.443813</td>\n",
       "      <td>zombey</td>\n",
       "      <td>salty</td>\n",
       "      <td>nc17</td>\n",
       "      <td>None</td>\n",
       "      <td>English</td>\n",
       "      <td>0.584922</td>\n",
       "      <td>6.0</td>\n",
       "      <td>9.0</td>\n",
       "      <td>None</td>\n",
       "      <td>None</td>\n",
       "      <td>German</td>\n",
       "      <td>0.576271</td>\n",
       "      <td>t5_333uz</td>\n",
       "      <td>t5_2un3b</td>\n",
       "      <td>uncategorized</td>\n",
       "      <td>over18_nsfw</td>\n",
       "      <td>99158c385c5442b1bf5ff96fc44af7da</td>\n",
       "      <td>DE</td>\n",
       "      <td>no</td>\n",
       "      <td>yes</td>\n",
       "      <td>NaN</td>\n",
       "      <td>no</td>\n",
       "      <td>no</td>\n",
       "    </tr>\n",
       "    <tr>\n",
       "      <th>29347</th>\n",
       "      <td>0.443804</td>\n",
       "      <td>zombey</td>\n",
       "      <td>pchaltv</td>\n",
       "      <td>None</td>\n",
       "      <td>None</td>\n",
       "      <td>English</td>\n",
       "      <td>0.873239</td>\n",
       "      <td>8.0</td>\n",
       "      <td>9.0</td>\n",
       "      <td>None</td>\n",
       "      <td>None</td>\n",
       "      <td>German</td>\n",
       "      <td>0.576271</td>\n",
       "      <td>t5_333uz</td>\n",
       "      <td>t5_22gqcd</td>\n",
       "      <td>uncategorized</td>\n",
       "      <td>uncategorized</td>\n",
       "      <td>99158c385c5442b1bf5ff96fc44af7da</td>\n",
       "      <td>DE</td>\n",
       "      <td>no</td>\n",
       "      <td>yes</td>\n",
       "      <td>NaN</td>\n",
       "      <td>no</td>\n",
       "      <td>no</td>\n",
       "    </tr>\n",
       "    <tr>\n",
       "      <th>29348</th>\n",
       "      <td>0.443231</td>\n",
       "      <td>zombey</td>\n",
       "      <td>freegames</td>\n",
       "      <td>pg</td>\n",
       "      <td>None</td>\n",
       "      <td>English</td>\n",
       "      <td>0.798780</td>\n",
       "      <td>7.0</td>\n",
       "      <td>9.0</td>\n",
       "      <td>None</td>\n",
       "      <td>None</td>\n",
       "      <td>German</td>\n",
       "      <td>0.576271</td>\n",
       "      <td>t5_333uz</td>\n",
       "      <td>t5_2r32q</td>\n",
       "      <td>uncategorized</td>\n",
       "      <td>uncategorized</td>\n",
       "      <td>99158c385c5442b1bf5ff96fc44af7da</td>\n",
       "      <td>DE</td>\n",
       "      <td>no</td>\n",
       "      <td>yes</td>\n",
       "      <td>NaN</td>\n",
       "      <td>no</td>\n",
       "      <td>no</td>\n",
       "    </tr>\n",
       "    <tr>\n",
       "      <th>29349</th>\n",
       "      <td>0.442478</td>\n",
       "      <td>zombey</td>\n",
       "      <td>dreifragezeichen</td>\n",
       "      <td>None</td>\n",
       "      <td>None</td>\n",
       "      <td>German</td>\n",
       "      <td>0.947368</td>\n",
       "      <td>12.0</td>\n",
       "      <td>9.0</td>\n",
       "      <td>None</td>\n",
       "      <td>None</td>\n",
       "      <td>German</td>\n",
       "      <td>0.576271</td>\n",
       "      <td>t5_333uz</td>\n",
       "      <td>t5_35z0s</td>\n",
       "      <td>uncategorized</td>\n",
       "      <td>uncategorized</td>\n",
       "      <td>99158c385c5442b1bf5ff96fc44af7da</td>\n",
       "      <td>DE</td>\n",
       "      <td>no</td>\n",
       "      <td>yes</td>\n",
       "      <td>DE</td>\n",
       "      <td>no</td>\n",
       "      <td>yes</td>\n",
       "    </tr>\n",
       "  </tbody>\n",
       "</table>\n",
       "</div>"
      ],
      "text/plain": [
       "       cosine_distance subreddit_name_a  subreddit_name_b rating_b                     topic_b primary_post_language_b  primary_post_language_percent_b  post_median_word_count_b  post_median_word_count_a rating_a topic_a primary_post_language_a  primary_post_language_percent_a subreddit_id_a  \\\n",
       "29330         0.455227           zombey          survivio     pg13                        None                 English                         0.854489                      12.0                       9.0     None    None                  German                         0.576271       t5_333uz   \n",
       "29331         0.455191           zombey            gronkh     None                        None                  German                         0.900000                      48.5                       9.0     None    None                  German                         0.576271       t5_333uz   \n",
       "29332         0.454853           zombey           promote       pg                        None                 English                         0.890833                      11.0                       9.0     None    None                  German                         0.576271       t5_333uz   \n",
       "29333         0.454067           zombey            skeppy       pg                        None                 English                         0.754717                       8.5                       9.0     None    None                  German                         0.576271       t5_333uz   \n",
       "29334         0.453718           zombey        papaplatte       pg      Podcasts and Streamers                  German                         0.632035                       5.0                       9.0     None    None                  German                         0.576271       t5_333uz   \n",
       "29335         0.453580           zombey              l4d2        r                        None                 English                         0.865217                      13.0                       9.0     None    None                  German                         0.576271       t5_333uz   \n",
       "29336         0.452996           zombey     drillshitpost        r  Internet Culture and Memes                 English                         0.788321                       8.0                       9.0     None    None                  German                         0.576271       t5_333uz   \n",
       "29337         0.452186           zombey           rbtv_cj       pg  Internet Culture and Memes                  German                         0.873134                       8.0                       9.0     None    None                  German                         0.576271       t5_333uz   \n",
       "29338         0.449786           zombey             furry     pg13                        None                 English                         0.857500                       7.0                       9.0     None    None                  German                         0.576271       t5_333uz   \n",
       "29339         0.449021           zombey          anything        r                        None                 English                         0.782500                       8.0                       9.0     None    None                  German                         0.576271       t5_333uz   \n",
       "29340         0.448451           zombey     fortniter34_2     None                        None                 English                         0.620853                       4.0                       9.0     None    None                  German                         0.576271       t5_333uz   \n",
       "29341         0.447524           zombey             huebi     None                        None                  German                         0.798333                       5.0                       9.0     None    None                  German                         0.576271       t5_333uz   \n",
       "29342         0.447470           zombey     deeeepioskins     pg13                        None                 English                         0.638989                       5.0                       9.0     None    None                  German                         0.576271       t5_333uz   \n",
       "29343         0.446681           zombey        entrypoint     pg13                        None                 English                         0.860406                      10.0                       9.0     None    None                  German                         0.576271       t5_333uz   \n",
       "29344         0.445224           zombey     nsfwanimegifs     nc17                        None                 English                         0.531250                       5.0                       9.0     None    None                  German                         0.576271       t5_333uz   \n",
       "29345         0.444105           zombey              fnki     pg13                        None                 English                         0.842801                       6.0                       9.0     None    None                  German                         0.576271       t5_333uz   \n",
       "29346         0.443813           zombey             salty     nc17                        None                 English                         0.584922                       6.0                       9.0     None    None                  German                         0.576271       t5_333uz   \n",
       "29347         0.443804           zombey           pchaltv     None                        None                 English                         0.873239                       8.0                       9.0     None    None                  German                         0.576271       t5_333uz   \n",
       "29348         0.443231           zombey         freegames       pg                        None                 English                         0.798780                       7.0                       9.0     None    None                  German                         0.576271       t5_333uz   \n",
       "29349         0.442478           zombey  dreifragezeichen     None                        None                  German                         0.947368                      12.0                       9.0     None    None                  German                         0.576271       t5_333uz   \n",
       "\n",
       "      subreddit_id_b manual_topic_and_rating_a   manual_topic_and_rating_b       mlflow_aggregation_run_uuid geo_country_code_a ambassador_sub_a german_or_ambassador_sub_a geo_country_code_b ambassador_sub_b german_or_ambassador_sub_b  \n",
       "29330       t5_3p4g3             uncategorized               uncategorized  99158c385c5442b1bf5ff96fc44af7da                 DE               no                        yes                NaN               no                         no  \n",
       "29331       t5_2tuy6             uncategorized               uncategorized  99158c385c5442b1bf5ff96fc44af7da                 DE               no                        yes                 DE               no                        yes  \n",
       "29332       t5_2rda3             uncategorized               uncategorized  99158c385c5442b1bf5ff96fc44af7da                 DE               no                        yes                NaN               no                         no  \n",
       "29333       t5_ncpee             uncategorized               uncategorized  99158c385c5442b1bf5ff96fc44af7da                 DE               no                        yes                NaN               no                         no  \n",
       "29334       t5_xwqca             uncategorized      podcasts and streamers  99158c385c5442b1bf5ff96fc44af7da                 DE               no                        yes                 DE               no                        yes  \n",
       "29335       t5_2qzox             uncategorized               uncategorized  99158c385c5442b1bf5ff96fc44af7da                 DE               no                        yes                NaN               no                         no  \n",
       "29336      t5_2br5lh             uncategorized  internet culture and memes  99158c385c5442b1bf5ff96fc44af7da                 DE               no                        yes                 GB               no                         no  \n",
       "29337       t5_k3zhu             uncategorized  internet culture and memes  99158c385c5442b1bf5ff96fc44af7da                 DE               no                        yes                 DE               no                        yes  \n",
       "29338       t5_2qi2h             uncategorized               uncategorized  99158c385c5442b1bf5ff96fc44af7da                 DE               no                        yes                NaN               no                         no  \n",
       "29339       t5_2qne4             uncategorized               uncategorized  99158c385c5442b1bf5ff96fc44af7da                 DE               no                        yes                NaN               no                         no  \n",
       "29340      t5_3q1dzn             uncategorized               uncategorized  99158c385c5442b1bf5ff96fc44af7da                 DE               no                        yes                NaN               no                         no  \n",
       "29341      t5_29zucx             uncategorized               uncategorized  99158c385c5442b1bf5ff96fc44af7da                 DE               no                        yes                 DE               no                        yes  \n",
       "29342       t5_taec4             uncategorized               uncategorized  99158c385c5442b1bf5ff96fc44af7da                 DE               no                        yes                NaN               no                         no  \n",
       "29343       t5_qbuyg             uncategorized               uncategorized  99158c385c5442b1bf5ff96fc44af7da                 DE               no                        yes                NaN               no                         no  \n",
       "29344       t5_2tspw             uncategorized                 over18_nsfw  99158c385c5442b1bf5ff96fc44af7da                 DE               no                        yes                NaN               no                         no  \n",
       "29345       t5_3oudr             uncategorized               uncategorized  99158c385c5442b1bf5ff96fc44af7da                 DE               no                        yes                NaN               no                         no  \n",
       "29346       t5_2un3b             uncategorized                 over18_nsfw  99158c385c5442b1bf5ff96fc44af7da                 DE               no                        yes                NaN               no                         no  \n",
       "29347      t5_22gqcd             uncategorized               uncategorized  99158c385c5442b1bf5ff96fc44af7da                 DE               no                        yes                NaN               no                         no  \n",
       "29348       t5_2r32q             uncategorized               uncategorized  99158c385c5442b1bf5ff96fc44af7da                 DE               no                        yes                NaN               no                         no  \n",
       "29349       t5_35z0s             uncategorized               uncategorized  99158c385c5442b1bf5ff96fc44af7da                 DE               no                        yes                 DE               no                        yes  "
      ]
     },
     "execution_count": 115,
     "metadata": {},
     "output_type": "execute_result"
    }
   ],
   "source": [
    "df_subs_distance_qa_top.tail(20)"
   ]
  },
  {
   "cell_type": "code",
   "execution_count": null,
   "id": "15f7a225",
   "metadata": {},
   "outputs": [],
   "source": []
  },
  {
   "cell_type": "markdown",
   "id": "2cada5d2",
   "metadata": {},
   "source": [
    "# Export cluster data to CSV so that it's easy to edit and share\n",
    "\n",
    "Need to have a central place to do QA.\n",
    "\n",
    "To be useful:\n",
    "- add column with geo-relevant column\n",
    "- add column to show whether a subreddit is an ambassador sub"
   ]
  },
  {
   "cell_type": "code",
   "execution_count": 157,
   "id": "7c2236dc",
   "metadata": {},
   "outputs": [
    {
     "data": {
      "text/plain": [
       "(3767, 58)"
      ]
     },
     "execution_count": 157,
     "metadata": {},
     "output_type": "execute_result"
    }
   ],
   "source": [
    "df_subs_cluster.shape\n",
    "l_cluster_cols_for_qa = [\n",
    "    'subreddit_name',\n",
    "    'subreddit_id',\n",
    "    'cluster_id_agg_ward_cosine_200',\n",
    "    'subreddit_title',\n",
    "    'over_18',\n",
    "    'rating',\n",
    "    'topic',\n",
    "    'rating_version',\n",
    "    'topic_version',\n",
    "    \n",
    "    'subreddit_language',\n",
    "    'primary_post_language',\n",
    "    'primary_post_language_percent',\n",
    "    'English_posts_percent',\n",
    "    'German_posts_percent',\n",
    "    \n",
    "    'primary_post_type',\n",
    "    'primary_post_type_percent',\n",
    "    'posts_for_modeling_count',\n",
    "    'post_median_word_count',\n",
    "    \n",
    "    'subscribers',\n",
    "    'users_l28',\n",
    "    'posts_l28',\n",
    "    'comments_l28',\n",
    "    \n",
    "    'image_post_type_percent',\n",
    "    'text_post_type_percent',\n",
    "    'link_post_type_percent',\n",
    "    \n",
    "    # hide these in spreadsheet\n",
    "    'mlflow_aggregation_run_uuid',\n",
    "    'pt',\n",
    "    \n",
    "]"
   ]
  },
  {
   "cell_type": "code",
   "execution_count": 172,
   "id": "1ce3bdcb",
   "metadata": {},
   "outputs": [],
   "source": [
    "# list(df_subs_cluster.columns)"
   ]
  },
  {
   "cell_type": "code",
   "execution_count": 158,
   "id": "d1116fe3",
   "metadata": {},
   "outputs": [
    {
     "data": {
      "text/html": [
       "<div>\n",
       "<style scoped>\n",
       "    .dataframe tbody tr th:only-of-type {\n",
       "        vertical-align: middle;\n",
       "    }\n",
       "\n",
       "    .dataframe tbody tr th {\n",
       "        vertical-align: top;\n",
       "    }\n",
       "\n",
       "    .dataframe thead th {\n",
       "        text-align: right;\n",
       "    }\n",
       "</style>\n",
       "<table border=\"1\" class=\"dataframe\">\n",
       "  <thead>\n",
       "    <tr style=\"text-align: right;\">\n",
       "      <th></th>\n",
       "      <th>subreddit_name</th>\n",
       "      <th>cluster_id_agg_ward_cosine_200</th>\n",
       "      <th>subreddit_title</th>\n",
       "      <th>rating</th>\n",
       "      <th>topic</th>\n",
       "      <th>over_18</th>\n",
       "      <th>subreddit_language</th>\n",
       "      <th>primary_post_language</th>\n",
       "      <th>primary_post_language_percent</th>\n",
       "      <th>primary_post_type</th>\n",
       "      <th>primary_post_type_percent</th>\n",
       "      <th>posts_for_modeling_count</th>\n",
       "      <th>post_median_word_count</th>\n",
       "      <th>primary_post_language_in_use_multilingual</th>\n",
       "      <th>subscribers</th>\n",
       "      <th>users_l28</th>\n",
       "      <th>posts_l28</th>\n",
       "      <th>comments_l28</th>\n",
       "      <th>pt</th>\n",
       "      <th>manual_topic_and_rating</th>\n",
       "      <th>rating_version</th>\n",
       "      <th>topic_version</th>\n",
       "      <th>allow_top</th>\n",
       "      <th>video_whitelisted</th>\n",
       "      <th>whitelist_status</th>\n",
       "      <th>image_post_type_percent</th>\n",
       "      <th>text_post_type_percent</th>\n",
       "      <th>link_post_type_percent</th>\n",
       "      <th>cluster_id_hdbscan_euclidean</th>\n",
       "      <th>cluster_id_hdbscan_cosine</th>\n",
       "      <th>cluster_id_hdbscan_cosine_soft</th>\n",
       "      <th>cluster_id_kmeans_25</th>\n",
       "      <th>cluster_id_kmeans_50</th>\n",
       "      <th>cluster_id_kmeans_75</th>\n",
       "      <th>cluster_id_kmeans_100</th>\n",
       "      <th>cluster_id_kmeans_200</th>\n",
       "      <th>cluster_id_dbscan_euclidean</th>\n",
       "      <th>cluster_id_agg_ward_euclidean_100</th>\n",
       "      <th>cluster_id_agg_ward_cosine_100</th>\n",
       "      <th>cluster_id_agg_ward_cosine_120</th>\n",
       "      <th>cluster_id_agg_avg_cosine_100</th>\n",
       "      <th>cluster_id_agg_complete_cosine_100</th>\n",
       "      <th>svd_0</th>\n",
       "      <th>svd_1</th>\n",
       "      <th>svd_2</th>\n",
       "      <th>subreddit_id</th>\n",
       "      <th>combined_topic</th>\n",
       "      <th>combined_topic_and_rating</th>\n",
       "      <th>first_screenview_date</th>\n",
       "      <th>last_screenview_date</th>\n",
       "      <th>users_l7</th>\n",
       "      <th>posts_l7</th>\n",
       "      <th>comments_l7</th>\n",
       "      <th>subreddit_public_description</th>\n",
       "      <th>subreddit_description</th>\n",
       "      <th>German_posts_percent</th>\n",
       "      <th>English_posts_percent</th>\n",
       "      <th>mlflow_aggregation_run_uuid</th>\n",
       "    </tr>\n",
       "  </thead>\n",
       "  <tbody>\n",
       "    <tr>\n",
       "      <th>0</th>\n",
       "      <td>natureismetal</td>\n",
       "      <td>0</td>\n",
       "      <td>Nature is Metal</td>\n",
       "      <td>pg13</td>\n",
       "      <td>None</td>\n",
       "      <td>f</td>\n",
       "      <td>en</td>\n",
       "      <td>English</td>\n",
       "      <td>0.918333</td>\n",
       "      <td>image</td>\n",
       "      <td>0.566667</td>\n",
       "      <td>1200</td>\n",
       "      <td>9.0</td>\n",
       "      <td>True</td>\n",
       "      <td>1997142</td>\n",
       "      <td>2696838</td>\n",
       "      <td>1473</td>\n",
       "      <td>64760</td>\n",
       "      <td>2021-07-16</td>\n",
       "      <td>uncategorized</td>\n",
       "      <td>v1</td>\n",
       "      <td>None</td>\n",
       "      <td>t</td>\n",
       "      <td>None</td>\n",
       "      <td>no_ads</td>\n",
       "      <td>0.566667</td>\n",
       "      <td>0.000000</td>\n",
       "      <td>0.356667</td>\n",
       "      <td>-1</td>\n",
       "      <td>-1</td>\n",
       "      <td>84</td>\n",
       "      <td>10</td>\n",
       "      <td>33</td>\n",
       "      <td>11</td>\n",
       "      <td>35</td>\n",
       "      <td>35</td>\n",
       "      <td>0</td>\n",
       "      <td>46</td>\n",
       "      <td>35</td>\n",
       "      <td>17</td>\n",
       "      <td>2</td>\n",
       "      <td>59</td>\n",
       "      <td>0.152259</td>\n",
       "      <td>0.167971</td>\n",
       "      <td>-0.050044</td>\n",
       "      <td>t5_324zi</td>\n",
       "      <td>uncategorized</td>\n",
       "      <td>uncategorized</td>\n",
       "      <td>2020-08-24</td>\n",
       "      <td>2021-07-13</td>\n",
       "      <td>940960</td>\n",
       "      <td>412</td>\n",
       "      <td>17176</td>\n",
       "      <td>Badass pictures, gifs and videos of the awesome true brutality of nature</td>\n",
       "      <td>###[WARNING: ANIMAL GORE](/r/NatureIsMetal) \\n\\n#####**This subreddit contains graphic material that involves animals engaging in violence and other brutal conduct in their natural environments.**\\n\\n\\n---  \\nWe do not condone animal vi...</td>\n",
       "      <td>0.010833</td>\n",
       "      <td>0.918333</td>\n",
       "      <td>99158c385c5442b1bf5ff96fc44af7da</td>\n",
       "    </tr>\n",
       "    <tr>\n",
       "      <th>1</th>\n",
       "      <td>ape</td>\n",
       "      <td>0</td>\n",
       "      <td>ape</td>\n",
       "      <td>not_shown_in_theaters</td>\n",
       "      <td>None</td>\n",
       "      <td>f</td>\n",
       "      <td>en</td>\n",
       "      <td>English</td>\n",
       "      <td>0.569423</td>\n",
       "      <td>image</td>\n",
       "      <td>0.329173</td>\n",
       "      <td>641</td>\n",
       "      <td>5.0</td>\n",
       "      <td>True</td>\n",
       "      <td>125188</td>\n",
       "      <td>73186</td>\n",
       "      <td>405</td>\n",
       "      <td>2475</td>\n",
       "      <td>2021-07-16</td>\n",
       "      <td>uncategorized</td>\n",
       "      <td>v2</td>\n",
       "      <td>None</td>\n",
       "      <td>t</td>\n",
       "      <td>None</td>\n",
       "      <td>no_ads</td>\n",
       "      <td>0.329173</td>\n",
       "      <td>0.068643</td>\n",
       "      <td>0.180967</td>\n",
       "      <td>-1</td>\n",
       "      <td>-1</td>\n",
       "      <td>84</td>\n",
       "      <td>10</td>\n",
       "      <td>32</td>\n",
       "      <td>5</td>\n",
       "      <td>35</td>\n",
       "      <td>116</td>\n",
       "      <td>0</td>\n",
       "      <td>46</td>\n",
       "      <td>35</td>\n",
       "      <td>17</td>\n",
       "      <td>44</td>\n",
       "      <td>59</td>\n",
       "      <td>0.187885</td>\n",
       "      <td>0.221127</td>\n",
       "      <td>0.065263</td>\n",
       "      <td>t5_2qzwo</td>\n",
       "      <td>uncategorized</td>\n",
       "      <td>uncategorized</td>\n",
       "      <td>2020-08-24</td>\n",
       "      <td>2021-07-13</td>\n",
       "      <td>21263</td>\n",
       "      <td>82</td>\n",
       "      <td>595</td>\n",
       "      <td>A subreddit for discussion and pictures of primates. NO HUMANS!!!</td>\n",
       "      <td>Apes (Hominoidea) are a branch of Old World tailless simians native to Africa and Southeast Asia. They are the sister group of the Old World monkeys, together forming the catarrhine clade. They are distinguished from other primates by a...</td>\n",
       "      <td>0.029641</td>\n",
       "      <td>0.569423</td>\n",
       "      <td>99158c385c5442b1bf5ff96fc44af7da</td>\n",
       "    </tr>\n",
       "    <tr>\n",
       "      <th>2</th>\n",
       "      <td>flyfishing</td>\n",
       "      <td>0</td>\n",
       "      <td>flyfishing</td>\n",
       "      <td>g</td>\n",
       "      <td>None</td>\n",
       "      <td>f</td>\n",
       "      <td>en</td>\n",
       "      <td>English</td>\n",
       "      <td>0.940833</td>\n",
       "      <td>image</td>\n",
       "      <td>0.495000</td>\n",
       "      <td>1200</td>\n",
       "      <td>9.0</td>\n",
       "      <td>True</td>\n",
       "      <td>118101</td>\n",
       "      <td>63371</td>\n",
       "      <td>1042</td>\n",
       "      <td>11136</td>\n",
       "      <td>2021-07-16</td>\n",
       "      <td>uncategorized</td>\n",
       "      <td>v1</td>\n",
       "      <td>None</td>\n",
       "      <td>t</td>\n",
       "      <td>f</td>\n",
       "      <td>all_ads</td>\n",
       "      <td>0.495000</td>\n",
       "      <td>0.050833</td>\n",
       "      <td>0.046667</td>\n",
       "      <td>-1</td>\n",
       "      <td>-1</td>\n",
       "      <td>10</td>\n",
       "      <td>12</td>\n",
       "      <td>28</td>\n",
       "      <td>37</td>\n",
       "      <td>35</td>\n",
       "      <td>166</td>\n",
       "      <td>-1</td>\n",
       "      <td>46</td>\n",
       "      <td>35</td>\n",
       "      <td>17</td>\n",
       "      <td>9</td>\n",
       "      <td>59</td>\n",
       "      <td>0.211777</td>\n",
       "      <td>0.107906</td>\n",
       "      <td>-0.012751</td>\n",
       "      <td>t5_2qoeg</td>\n",
       "      <td>uncategorized</td>\n",
       "      <td>uncategorized</td>\n",
       "      <td>2020-08-24</td>\n",
       "      <td>2021-07-13</td>\n",
       "      <td>23135</td>\n",
       "      <td>250</td>\n",
       "      <td>2688</td>\n",
       "      <td>This is a subreddit for anglers who pursue, or wish to pursue, their favorite fish on fly rods.  Whether you fly fish a 2wt on small creeks for brook trout, a 14' 9wt for Steelhead or Atlantic Salmon, or Tarpon on a 12wt; your contribut...</td>\n",
       "      <td>######/r/flyfishing  Thanks for making us over ~~25~~ ~~30~~ **50 THOUSAND STRONG!**\\n\\n\\n\\n###Please read the side bar before posting!\\n\\n###[Questions about anything from starting out to progressing? Check here first!](http://www.redd...</td>\n",
       "      <td>0.005000</td>\n",
       "      <td>0.940833</td>\n",
       "      <td>99158c385c5442b1bf5ff96fc44af7da</td>\n",
       "    </tr>\n",
       "    <tr>\n",
       "      <th>3</th>\n",
       "      <td>birding</td>\n",
       "      <td>0</td>\n",
       "      <td>a place for birders to be</td>\n",
       "      <td>pg13</td>\n",
       "      <td>None</td>\n",
       "      <td>f</td>\n",
       "      <td>en</td>\n",
       "      <td>English</td>\n",
       "      <td>0.917500</td>\n",
       "      <td>image</td>\n",
       "      <td>0.653333</td>\n",
       "      <td>1200</td>\n",
       "      <td>8.0</td>\n",
       "      <td>True</td>\n",
       "      <td>194908</td>\n",
       "      <td>53397</td>\n",
       "      <td>1857</td>\n",
       "      <td>7880</td>\n",
       "      <td>2021-07-16</td>\n",
       "      <td>uncategorized</td>\n",
       "      <td>v2</td>\n",
       "      <td>None</td>\n",
       "      <td>t</td>\n",
       "      <td>None</td>\n",
       "      <td>all_ads</td>\n",
       "      <td>0.653333</td>\n",
       "      <td>0.002500</td>\n",
       "      <td>0.071667</td>\n",
       "      <td>-1</td>\n",
       "      <td>-1</td>\n",
       "      <td>89</td>\n",
       "      <td>12</td>\n",
       "      <td>33</td>\n",
       "      <td>11</td>\n",
       "      <td>35</td>\n",
       "      <td>35</td>\n",
       "      <td>0</td>\n",
       "      <td>46</td>\n",
       "      <td>35</td>\n",
       "      <td>17</td>\n",
       "      <td>2</td>\n",
       "      <td>59</td>\n",
       "      <td>0.192289</td>\n",
       "      <td>0.142273</td>\n",
       "      <td>-0.025287</td>\n",
       "      <td>t5_2qliv</td>\n",
       "      <td>uncategorized</td>\n",
       "      <td>uncategorized</td>\n",
       "      <td>2020-08-24</td>\n",
       "      <td>2021-07-13</td>\n",
       "      <td>17557</td>\n",
       "      <td>445</td>\n",
       "      <td>1838</td>\n",
       "      <td>birding. birdwatching. twitching. listing. whatever you want to call it, if you are looking at or listening to birds, this is where you should be.</td>\n",
       "      <td>birding. birdwatching. twitching. listing. whatever you want to call it, if you are looking at or listening to birds you should be frequenting /r/birding.\\n\\nView recommended optics, books and apps on the [/r/rbirding wiki](https://www....</td>\n",
       "      <td>0.006667</td>\n",
       "      <td>0.917500</td>\n",
       "      <td>99158c385c5442b1bf5ff96fc44af7da</td>\n",
       "    </tr>\n",
       "    <tr>\n",
       "      <th>4</th>\n",
       "      <td>bassfishing</td>\n",
       "      <td>0</td>\n",
       "      <td>Bass Fishing at its Finest</td>\n",
       "      <td>pg</td>\n",
       "      <td>None</td>\n",
       "      <td>f</td>\n",
       "      <td>en</td>\n",
       "      <td>English</td>\n",
       "      <td>0.920833</td>\n",
       "      <td>image</td>\n",
       "      <td>0.437500</td>\n",
       "      <td>1200</td>\n",
       "      <td>12.0</td>\n",
       "      <td>True</td>\n",
       "      <td>114707</td>\n",
       "      <td>51886</td>\n",
       "      <td>758</td>\n",
       "      <td>5872</td>\n",
       "      <td>2021-07-16</td>\n",
       "      <td>uncategorized</td>\n",
       "      <td>v1</td>\n",
       "      <td>None</td>\n",
       "      <td>t</td>\n",
       "      <td>None</td>\n",
       "      <td>all_ads</td>\n",
       "      <td>0.437500</td>\n",
       "      <td>0.180833</td>\n",
       "      <td>0.060000</td>\n",
       "      <td>-1</td>\n",
       "      <td>-1</td>\n",
       "      <td>50</td>\n",
       "      <td>5</td>\n",
       "      <td>28</td>\n",
       "      <td>37</td>\n",
       "      <td>74</td>\n",
       "      <td>166</td>\n",
       "      <td>-1</td>\n",
       "      <td>46</td>\n",
       "      <td>35</td>\n",
       "      <td>17</td>\n",
       "      <td>9</td>\n",
       "      <td>59</td>\n",
       "      <td>0.239923</td>\n",
       "      <td>0.079238</td>\n",
       "      <td>-0.007387</td>\n",
       "      <td>t5_2quue</td>\n",
       "      <td>uncategorized</td>\n",
       "      <td>uncategorized</td>\n",
       "      <td>2020-08-24</td>\n",
       "      <td>2021-07-13</td>\n",
       "      <td>18056</td>\n",
       "      <td>196</td>\n",
       "      <td>1177</td>\n",
       "      <td>A community for bass anglers from all around the globe to meet and exchange tricks, tips, techniques, and tackle!</td>\n",
       "      <td>##### **[Hall of Hawgs Double-Digit Club](https://www.reddit.com/r/bassfishing/wiki/index#wiki_hall_of_hawgs)** | **[Trophy Fish Club](https://www.reddit.com/r/bassfishing/wiki/index#wiki_trophy_fish_club)**\\n\\n\\n\"Man can learn a lot fr...</td>\n",
       "      <td>0.007500</td>\n",
       "      <td>0.920833</td>\n",
       "      <td>99158c385c5442b1bf5ff96fc44af7da</td>\n",
       "    </tr>\n",
       "  </tbody>\n",
       "</table>\n",
       "</div>"
      ],
      "text/plain": [
       "  subreddit_name  cluster_id_agg_ward_cosine_200              subreddit_title                 rating topic over_18 subreddit_language primary_post_language  primary_post_language_percent primary_post_type  primary_post_type_percent  posts_for_modeling_count  post_median_word_count  \\\n",
       "0  natureismetal                               0              Nature is Metal                   pg13  None       f                 en               English                       0.918333             image                   0.566667                      1200                     9.0   \n",
       "1            ape                               0                          ape  not_shown_in_theaters  None       f                 en               English                       0.569423             image                   0.329173                       641                     5.0   \n",
       "2     flyfishing                               0                   flyfishing                      g  None       f                 en               English                       0.940833             image                   0.495000                      1200                     9.0   \n",
       "3        birding                               0    a place for birders to be                   pg13  None       f                 en               English                       0.917500             image                   0.653333                      1200                     8.0   \n",
       "4    bassfishing                               0  Bass Fishing at its Finest                      pg  None       f                 en               English                       0.920833             image                   0.437500                      1200                    12.0   \n",
       "\n",
       "   primary_post_language_in_use_multilingual  subscribers  users_l28  posts_l28  comments_l28          pt manual_topic_and_rating rating_version topic_version allow_top video_whitelisted whitelist_status  image_post_type_percent  text_post_type_percent  link_post_type_percent  \\\n",
       "0                                       True      1997142    2696838       1473         64760  2021-07-16           uncategorized             v1          None         t              None           no_ads                 0.566667                0.000000                0.356667   \n",
       "1                                       True       125188      73186        405          2475  2021-07-16           uncategorized             v2          None         t              None           no_ads                 0.329173                0.068643                0.180967   \n",
       "2                                       True       118101      63371       1042         11136  2021-07-16           uncategorized             v1          None         t                 f          all_ads                 0.495000                0.050833                0.046667   \n",
       "3                                       True       194908      53397       1857          7880  2021-07-16           uncategorized             v2          None         t              None          all_ads                 0.653333                0.002500                0.071667   \n",
       "4                                       True       114707      51886        758          5872  2021-07-16           uncategorized             v1          None         t              None          all_ads                 0.437500                0.180833                0.060000   \n",
       "\n",
       "  cluster_id_hdbscan_euclidean cluster_id_hdbscan_cosine cluster_id_hdbscan_cosine_soft cluster_id_kmeans_25 cluster_id_kmeans_50 cluster_id_kmeans_75 cluster_id_kmeans_100 cluster_id_kmeans_200 cluster_id_dbscan_euclidean cluster_id_agg_ward_euclidean_100 cluster_id_agg_ward_cosine_100  \\\n",
       "0                           -1                        -1                             84                   10                   33                   11                    35                    35                           0                                46                             35   \n",
       "1                           -1                        -1                             84                   10                   32                    5                    35                   116                           0                                46                             35   \n",
       "2                           -1                        -1                             10                   12                   28                   37                    35                   166                          -1                                46                             35   \n",
       "3                           -1                        -1                             89                   12                   33                   11                    35                    35                           0                                46                             35   \n",
       "4                           -1                        -1                             50                    5                   28                   37                    74                   166                          -1                                46                             35   \n",
       "\n",
       "  cluster_id_agg_ward_cosine_120 cluster_id_agg_avg_cosine_100 cluster_id_agg_complete_cosine_100     svd_0     svd_1     svd_2 subreddit_id combined_topic combined_topic_and_rating first_screenview_date last_screenview_date  users_l7  posts_l7  comments_l7  \\\n",
       "0                             17                             2                                 59  0.152259  0.167971 -0.050044     t5_324zi  uncategorized             uncategorized            2020-08-24           2021-07-13    940960       412        17176   \n",
       "1                             17                            44                                 59  0.187885  0.221127  0.065263     t5_2qzwo  uncategorized             uncategorized            2020-08-24           2021-07-13     21263        82          595   \n",
       "2                             17                             9                                 59  0.211777  0.107906 -0.012751     t5_2qoeg  uncategorized             uncategorized            2020-08-24           2021-07-13     23135       250         2688   \n",
       "3                             17                             2                                 59  0.192289  0.142273 -0.025287     t5_2qliv  uncategorized             uncategorized            2020-08-24           2021-07-13     17557       445         1838   \n",
       "4                             17                             9                                 59  0.239923  0.079238 -0.007387     t5_2quue  uncategorized             uncategorized            2020-08-24           2021-07-13     18056       196         1177   \n",
       "\n",
       "                                                                                                                                                                                                                      subreddit_public_description  \\\n",
       "0                                                                                                                                                                         Badass pictures, gifs and videos of the awesome true brutality of nature   \n",
       "1                                                                                                                                                                                A subreddit for discussion and pictures of primates. NO HUMANS!!!   \n",
       "2  This is a subreddit for anglers who pursue, or wish to pursue, their favorite fish on fly rods.  Whether you fly fish a 2wt on small creeks for brook trout, a 14' 9wt for Steelhead or Atlantic Salmon, or Tarpon on a 12wt; your contribut...   \n",
       "3                                                                                               birding. birdwatching. twitching. listing. whatever you want to call it, if you are looking at or listening to birds, this is where you should be.   \n",
       "4                                                                                                                                A community for bass anglers from all around the globe to meet and exchange tricks, tips, techniques, and tackle!   \n",
       "\n",
       "                                                                                                                                                                                                                             subreddit_description  German_posts_percent  English_posts_percent  \\\n",
       "0  ###[WARNING: ANIMAL GORE](/r/NatureIsMetal) \\n\\n#####**This subreddit contains graphic material that involves animals engaging in violence and other brutal conduct in their natural environments.**\\n\\n\\n---  \\nWe do not condone animal vi...              0.010833               0.918333   \n",
       "1  Apes (Hominoidea) are a branch of Old World tailless simians native to Africa and Southeast Asia. They are the sister group of the Old World monkeys, together forming the catarrhine clade. They are distinguished from other primates by a...              0.029641               0.569423   \n",
       "2  ######/r/flyfishing  Thanks for making us over ~~25~~ ~~30~~ **50 THOUSAND STRONG!**\\n\\n\\n\\n###Please read the side bar before posting!\\n\\n###[Questions about anything from starting out to progressing? Check here first!](http://www.redd...              0.005000               0.940833   \n",
       "3  birding. birdwatching. twitching. listing. whatever you want to call it, if you are looking at or listening to birds you should be frequenting /r/birding.\\n\\nView recommended optics, books and apps on the [/r/rbirding wiki](https://www....              0.006667               0.917500   \n",
       "4  ##### **[Hall of Hawgs Double-Digit Club](https://www.reddit.com/r/bassfishing/wiki/index#wiki_hall_of_hawgs)** | **[Trophy Fish Club](https://www.reddit.com/r/bassfishing/wiki/index#wiki_trophy_fish_club)**\\n\\n\\n\"Man can learn a lot fr...              0.007500               0.920833   \n",
       "\n",
       "        mlflow_aggregation_run_uuid  \n",
       "0  99158c385c5442b1bf5ff96fc44af7da  \n",
       "1  99158c385c5442b1bf5ff96fc44af7da  \n",
       "2  99158c385c5442b1bf5ff96fc44af7da  \n",
       "3  99158c385c5442b1bf5ff96fc44af7da  \n",
       "4  99158c385c5442b1bf5ff96fc44af7da  "
      ]
     },
     "execution_count": 158,
     "metadata": {},
     "output_type": "execute_result"
    }
   ],
   "source": [
    "df_subs_cluster.head()"
   ]
  },
  {
   "cell_type": "markdown",
   "id": "6ef37723",
   "metadata": {},
   "source": [
    "# Check how many of the seeds are in cluster"
   ]
  },
  {
   "cell_type": "code",
   "execution_count": 154,
   "id": "df84927a",
   "metadata": {},
   "outputs": [
    {
     "name": "stdout",
     "output_type": "stream",
     "text": [
      "65\n",
      "3767\n"
     ]
    }
   ],
   "source": [
    "set_sub_names_in_seed = set(df_sub_seeds_combined['subreddit_name'])\n",
    "set_sub_names_in_cluster = set(df_subs_cluster['subreddit_name'])\n",
    "\n",
    "print(len(set_sub_names_in_seed))\n",
    "print(len(set_sub_names_in_cluster))"
   ]
  },
  {
   "cell_type": "code",
   "execution_count": 156,
   "id": "d188fc4b",
   "metadata": {},
   "outputs": [
    {
     "name": "stdout",
     "output_type": "stream",
     "text": [
      "25\n"
     ]
    },
    {
     "data": {
      "text/plain": [
       "{'apfel',\n",
       " 'augenbleiche',\n",
       " 'brot',\n",
       " 'dachgaming',\n",
       " 'datingde',\n",
       " 'de_events',\n",
       " 'fotografie',\n",
       " 'fragnefrau',\n",
       " 'fragnenmann',\n",
       " 'futurologie',\n",
       " 'hundeschule',\n",
       " 'kpopde',\n",
       " 'mangade',\n",
       " 'natureisfuckinglit',\n",
       " 'nostalgie',\n",
       " 'oldtimer',\n",
       " 'pcgamingde',\n",
       " 'reisende',\n",
       " 'smalllebowsky',\n",
       " 'spielstopp',\n",
       " 'technologie',\n",
       " 'twitch_de',\n",
       " 'ueber8000',\n",
       " 'vor100jahren',\n",
       " 'youtubede'}"
      ]
     },
     "execution_count": 156,
     "metadata": {},
     "output_type": "execute_result"
    }
   ],
   "source": [
    "# Subs missing in cluster data:\n",
    "set_subs_missing_in_cluster = set_sub_names_in_seed - set_sub_names_in_cluster\n",
    "print(len(set_subs_missing_in_cluster))\n",
    "set_subs_missing_in_cluster"
   ]
  },
  {
   "cell_type": "markdown",
   "id": "2a23ec89",
   "metadata": {},
   "source": [
    "# Explore values for seed columns"
   ]
  },
  {
   "cell_type": "code",
   "execution_count": 29,
   "id": "19256d91",
   "metadata": {},
   "outputs": [],
   "source": [
    "# value_counts_and_pcts(df_sub_seeds['type_of_content_seed'])"
   ]
  },
  {
   "cell_type": "code",
   "execution_count": 18,
   "id": "754689f3",
   "metadata": {},
   "outputs": [
    {
     "data": {
      "text/html": [
       "<style  type=\"text/css\" >\n",
       "#T_efce3_row0_col1,#T_efce3_row4_col2{\n",
       "            width:  10em;\n",
       "             height:  80%;\n",
       "            background:  linear-gradient(90deg,#95cff5 100.0%, transparent 100.0%);\n",
       "        }#T_efce3_row0_col2,#T_efce3_row4_col1{\n",
       "            width:  10em;\n",
       "             height:  80%;\n",
       "        }#T_efce3_row1_col1{\n",
       "            width:  10em;\n",
       "             height:  80%;\n",
       "            background:  linear-gradient(90deg,#95cff5 92.9%, transparent 92.9%);\n",
       "        }#T_efce3_row1_col2{\n",
       "            width:  10em;\n",
       "             height:  80%;\n",
       "            background:  linear-gradient(90deg,#95cff5 45.2%, transparent 45.2%);\n",
       "        }#T_efce3_row2_col1{\n",
       "            width:  10em;\n",
       "             height:  80%;\n",
       "            background:  linear-gradient(90deg,#95cff5 85.7%, transparent 85.7%);\n",
       "        }#T_efce3_row2_col2{\n",
       "            width:  10em;\n",
       "             height:  80%;\n",
       "            background:  linear-gradient(90deg,#95cff5 87.1%, transparent 87.1%);\n",
       "        }#T_efce3_row3_col1{\n",
       "            width:  10em;\n",
       "             height:  80%;\n",
       "            background:  linear-gradient(90deg,#95cff5 14.3%, transparent 14.3%);\n",
       "        }#T_efce3_row3_col2{\n",
       "            width:  10em;\n",
       "             height:  80%;\n",
       "            background:  linear-gradient(90deg,#95cff5 96.8%, transparent 96.8%);\n",
       "        }</style><table id=\"T_efce3_\" ><thead>    <tr>        <th class=\"blank level0\" ></th>        <th class=\"col_heading level0 col0\" >counterpart_priority-count</th>        <th class=\"col_heading level0 col1\" >counterpart_priority-percent</th>        <th class=\"col_heading level0 col2\" >counterpart_priority-pct_cumulative_sum</th>    </tr></thead><tbody>\n",
       "                <tr>\n",
       "                        <th id=\"T_efce3_level0_row0\" class=\"row_heading level0 row0\" >5.0</th>\n",
       "                        <td id=\"T_efce3_row0_col0\" class=\"data row0 col0\" >15</td>\n",
       "                        <td id=\"T_efce3_row0_col1\" class=\"data row0 col1\" >32.6%</td>\n",
       "                        <td id=\"T_efce3_row0_col2\" class=\"data row0 col2\" >32.6%</td>\n",
       "            </tr>\n",
       "            <tr>\n",
       "                        <th id=\"T_efce3_level0_row1\" class=\"row_heading level0 row1\" >4.0</th>\n",
       "                        <td id=\"T_efce3_row1_col0\" class=\"data row1 col0\" >14</td>\n",
       "                        <td id=\"T_efce3_row1_col1\" class=\"data row1 col1\" >30.4%</td>\n",
       "                        <td id=\"T_efce3_row1_col2\" class=\"data row1 col2\" >63.0%</td>\n",
       "            </tr>\n",
       "            <tr>\n",
       "                        <th id=\"T_efce3_level0_row2\" class=\"row_heading level0 row2\" >3.0</th>\n",
       "                        <td id=\"T_efce3_row2_col0\" class=\"data row2 col0\" >13</td>\n",
       "                        <td id=\"T_efce3_row2_col1\" class=\"data row2 col1\" >28.3%</td>\n",
       "                        <td id=\"T_efce3_row2_col2\" class=\"data row2 col2\" >91.3%</td>\n",
       "            </tr>\n",
       "            <tr>\n",
       "                        <th id=\"T_efce3_level0_row3\" class=\"row_heading level0 row3\" >2.0</th>\n",
       "                        <td id=\"T_efce3_row3_col0\" class=\"data row3 col0\" >3</td>\n",
       "                        <td id=\"T_efce3_row3_col1\" class=\"data row3 col1\" >6.5%</td>\n",
       "                        <td id=\"T_efce3_row3_col2\" class=\"data row3 col2\" >97.8%</td>\n",
       "            </tr>\n",
       "            <tr>\n",
       "                        <th id=\"T_efce3_level0_row4\" class=\"row_heading level0 row4\" >1.0</th>\n",
       "                        <td id=\"T_efce3_row4_col0\" class=\"data row4 col0\" >1</td>\n",
       "                        <td id=\"T_efce3_row4_col1\" class=\"data row4 col1\" >2.2%</td>\n",
       "                        <td id=\"T_efce3_row4_col2\" class=\"data row4 col2\" >100.0%</td>\n",
       "            </tr>\n",
       "    </tbody></table>"
      ],
      "text/plain": [
       "<pandas.io.formats.style.Styler at 0x7f85dabf9fd0>"
      ]
     },
     "execution_count": 18,
     "metadata": {},
     "output_type": "execute_result"
    }
   ],
   "source": [
    "value_counts_and_pcts(df_sub_seeds['counterpart_priority'].dropna())"
   ]
  },
  {
   "cell_type": "code",
   "execution_count": 30,
   "id": "f53e9b59",
   "metadata": {},
   "outputs": [],
   "source": [
    "# value_counts_and_pcts(df_sub_seeds['ambassador_sub'])"
   ]
  },
  {
   "cell_type": "code",
   "execution_count": 31,
   "id": "905226bd",
   "metadata": {},
   "outputs": [],
   "source": [
    "# value_counts_and_pcts(df_sub_seeds['topic_seed'])"
   ]
  },
  {
   "cell_type": "code",
   "execution_count": 32,
   "id": "4540d3a4",
   "metadata": {},
   "outputs": [],
   "source": [
    "# value_counts_and_pcts(df_sub_seeds['pod'])"
   ]
  },
  {
   "cell_type": "code",
   "execution_count": 33,
   "id": "7b980c4b",
   "metadata": {},
   "outputs": [],
   "source": [
    "# value_counts_and_pcts(df_sub_seeds['german'])"
   ]
  },
  {
   "cell_type": "code",
   "execution_count": null,
   "id": "a8e8b7e7",
   "metadata": {},
   "outputs": [],
   "source": [
    "LEGACY"
   ]
  },
  {
   "cell_type": "markdown",
   "id": "fd782f8d",
   "metadata": {},
   "source": [
    "# List & load artifacts from selected run\n",
    "\n",
    "This is a run-ID for a process that outputs post-level and subreddit artifacts (after aggregation)."
   ]
  },
  {
   "cell_type": "code",
   "execution_count": 8,
   "id": "e24d936f",
   "metadata": {},
   "outputs": [],
   "source": [
    "# %%time\n",
    "\n",
    "# d_dfs_mlflow = mlf.read_run_artifact(\n",
    "#     run_id=run_uuid,\n",
    "#     artifact_folder='d_logged_dfs_subfolders/d_logged_dfs_subfolders.json',\n",
    "#     read_function='json',\n",
    "# )\n",
    "\n",
    "# pprint(list(d_dfs_mlflow.keys()))"
   ]
  },
  {
   "cell_type": "markdown",
   "id": "88f459dd",
   "metadata": {},
   "source": [
    "## Load distances"
   ]
  },
  {
   "cell_type": "code",
   "execution_count": 9,
   "id": "bf3c62c0",
   "metadata": {},
   "outputs": [
    {
     "name": "stderr",
     "output_type": "stream",
     "text": [
      "21:24:52 | INFO | \"Local folder to download artifact(s):\n",
      "  /home/jupyter/subreddit_clustering_i18n/data/local_cache/mlflow/mlruns/12/99158c385c5442b1bf5ff96fc44af7da/artifacts/df_sub_level_agg_c_post_comments_and_sub_desc_similarity_pair\"\n"
     ]
    },
    {
     "data": {
      "application/vnd.jupyter.widget-view+json": {
       "model_id": "4c403e8f65cf4c76900dfaab336ed565",
       "version_major": 2,
       "version_minor": 0
      },
      "text/plain": [
       "  0%|          | 0/36 [00:00<?, ?it/s]"
      ]
     },
     "metadata": {},
     "output_type": "display_data"
    },
    {
     "name": "stderr",
     "output_type": "stream",
     "text": [
      "21:24:53 | INFO | \"  Parquet files found: 34\"\n"
     ]
    },
    {
     "name": "stdout",
     "output_type": "stream",
     "text": [
      "(14186522, 3)\n",
      "CPU times: user 3.01 s, sys: 899 ms, total: 3.91 s\n",
      "Wall time: 5.18 s\n"
     ]
    }
   ],
   "source": [
    "%%time\n",
    "\n",
    "df_sub_d_pair_raw = mlf.read_run_artifact(\n",
    "    run_id=run_uuid,\n",
    "    artifact_folder=f_sub_dist_pair,\n",
    "    read_function='pd_parquet',\n",
    ")\n",
    "try:\n",
    "    df_sub_d_pair_raw = df_sub_d_pair_raw.drop(['index'], axis=1)\n",
    "except KeyError:\n",
    "    pass\n",
    "\n",
    "print(df_sub_d_pair_raw.shape)"
   ]
  },
  {
   "cell_type": "code",
   "execution_count": 10,
   "id": "e5640096",
   "metadata": {},
   "outputs": [
    {
     "data": {
      "text/html": [
       "<div>\n",
       "<style scoped>\n",
       "    .dataframe tbody tr th:only-of-type {\n",
       "        vertical-align: middle;\n",
       "    }\n",
       "\n",
       "    .dataframe tbody tr th {\n",
       "        vertical-align: top;\n",
       "    }\n",
       "\n",
       "    .dataframe thead th {\n",
       "        text-align: right;\n",
       "    }\n",
       "</style>\n",
       "<table border=\"1\" class=\"dataframe\">\n",
       "  <thead>\n",
       "    <tr style=\"text-align: right;\">\n",
       "      <th></th>\n",
       "      <th>cosine_distance</th>\n",
       "      <th>subreddit_name_a</th>\n",
       "      <th>subreddit_name_b</th>\n",
       "    </tr>\n",
       "  </thead>\n",
       "  <tbody>\n",
       "    <tr>\n",
       "      <th>0</th>\n",
       "      <td>0.719657</td>\n",
       "      <td>1071</td>\n",
       "      <td>tamamahbapengelli</td>\n",
       "    </tr>\n",
       "    <tr>\n",
       "      <th>1</th>\n",
       "      <td>0.708699</td>\n",
       "      <td>1071</td>\n",
       "      <td>nonakanal</td>\n",
       "    </tr>\n",
       "    <tr>\n",
       "      <th>2</th>\n",
       "      <td>0.706756</td>\n",
       "      <td>1071</td>\n",
       "      <td>okemakkermaloot</td>\n",
       "    </tr>\n",
       "    <tr>\n",
       "      <th>3</th>\n",
       "      <td>0.706363</td>\n",
       "      <td>1071</td>\n",
       "      <td>kudurdum</td>\n",
       "    </tr>\n",
       "    <tr>\n",
       "      <th>4</th>\n",
       "      <td>0.698231</td>\n",
       "      <td>1071</td>\n",
       "      <td>okbrudimongo</td>\n",
       "    </tr>\n",
       "  </tbody>\n",
       "</table>\n",
       "</div>"
      ],
      "text/plain": [
       "   cosine_distance subreddit_name_a   subreddit_name_b\n",
       "0         0.719657             1071  tamamahbapengelli\n",
       "1         0.708699             1071          nonakanal\n",
       "2         0.706756             1071    okemakkermaloot\n",
       "3         0.706363             1071           kudurdum\n",
       "4         0.698231             1071       okbrudimongo"
      ]
     },
     "execution_count": 10,
     "metadata": {},
     "output_type": "execute_result"
    }
   ],
   "source": [
    "df_sub_d_pair_raw.head()"
   ]
  },
  {
   "cell_type": "markdown",
   "id": "8853f703",
   "metadata": {},
   "source": [
    "## Load metadata\n",
    "\n",
    "This run of pair distances didn't have the metadata attached... so let's attach it"
   ]
  },
  {
   "cell_type": "code",
   "execution_count": 18,
   "id": "d008792b",
   "metadata": {},
   "outputs": [
    {
     "name": "stderr",
     "output_type": "stream",
     "text": [
      "19:00:59 | INFO | \"Loading df_posts from: posts/top/2021-07-16\"\n",
      "19:00:59 | INFO | \"Reading raw data...\"\n",
      "19:00:59 | INFO | \"Local folder to download artifact(s):\n",
      "  /home/jupyter/subreddit_clustering_i18n/data/local_cache/posts/top/2021-07-16\"\n"
     ]
    },
    {
     "data": {
      "application/vnd.jupyter.widget-view+json": {
       "model_id": "5c03c3411f8048b1812556ce63d8728b",
       "version_major": 2,
       "version_minor": 0
      },
      "text/plain": [
       "  0%|          | 0/43 [00:00<?, ?it/s]"
      ]
     },
     "metadata": {},
     "output_type": "display_data"
    },
    {
     "name": "stderr",
     "output_type": "stream",
     "text": [
      "19:01:01 | INFO | \"  Applying transformations...\"\n",
      "19:01:08 | INFO | \"  reading sub-level data & merging with aggregates...\"\n",
      "19:01:08 | INFO | \"Reading raw data...\"\n",
      "19:01:08 | INFO | \"Local folder to download artifact(s):\n",
      "  /home/jupyter/subreddit_clustering_i18n/data/local_cache/subreddits/top/2021-07-16\"\n"
     ]
    },
    {
     "data": {
      "application/vnd.jupyter.widget-view+json": {
       "model_id": "74dd853d54d94ad1a903f47983146394",
       "version_major": 2,
       "version_minor": 0
      },
      "text/plain": [
       "  0%|          | 0/1 [00:00<?, ?it/s]"
      ]
     },
     "metadata": {},
     "output_type": "display_data"
    },
    {
     "name": "stderr",
     "output_type": "stream",
     "text": [
      "19:01:09 | INFO | \"  Applying transformations...\"\n"
     ]
    },
    {
     "name": "stdout",
     "output_type": "stream",
     "text": [
      "CPU times: user 11.4 s, sys: 811 ms, total: 12.2 s\n",
      "Wall time: 11.8 s\n"
     ]
    }
   ],
   "source": [
    "%%time\n",
    "df_sub_meta = LoadSubreddits(\n",
    "    bucket_name=d_conf_meta['bucket_name'],\n",
    "    folder_path=d_conf_meta['folder_subreddits_text_and_meta'],\n",
    "    folder_posts=d_conf_meta['folder_posts_text_and_meta'],\n",
    "    columns=None,\n",
    ").read_apply_transformations_and_merge_post_aggs()"
   ]
  },
  {
   "cell_type": "code",
   "execution_count": 19,
   "id": "60daec9e",
   "metadata": {},
   "outputs": [],
   "source": [
    "# [c for c in df_sub_meta.columns if 'lang' in c]"
   ]
  },
  {
   "cell_type": "code",
   "execution_count": 20,
   "id": "8e5128d7",
   "metadata": {},
   "outputs": [],
   "source": [
    "l_cols_inspect_meta = [\n",
    "    'subreddit_name',\n",
    "    'combined_topic_and_rating',\n",
    "    'rating',\n",
    "    'topic',\n",
    "    'over_18',\n",
    "    \n",
    "    'subreddit_title',\n",
    "    \n",
    "    'primary_post_language',\n",
    "    'primary_post_language_percent',\n",
    "    'primary_post_language_in_use_multilingual',\n",
    "\n",
    "]\n",
    "l_cols_language_percent = [c for c in df_sub_meta.columns if c.endswith('_posts_percent')]\n",
    "\n",
    "# df_sub_meta[l_cols_inspect_meta + l_cols_language_percent].head()"
   ]
  },
  {
   "cell_type": "code",
   "execution_count": 21,
   "id": "f10c23ad",
   "metadata": {},
   "outputs": [],
   "source": [
    "# df_sub_meta[l_cols_inspect_meta + l_cols_language_percent].tail()"
   ]
  },
  {
   "cell_type": "code",
   "execution_count": 22,
   "id": "810ccd85",
   "metadata": {},
   "outputs": [],
   "source": [
    "# df_sub_meta[[c for c in df_sub_meta.columns if c.endswith('_posts_percent')]].head()"
   ]
  },
  {
   "cell_type": "code",
   "execution_count": 23,
   "id": "8fc2b03d",
   "metadata": {},
   "outputs": [],
   "source": [
    "# pprint(list(df_sub_meta.columns))"
   ]
  },
  {
   "cell_type": "markdown",
   "id": "ef604193",
   "metadata": {},
   "source": [
    "### Merge meta with distance\n",
    "see `transform_distance_data_for_bq` for function"
   ]
  },
  {
   "cell_type": "code",
   "execution_count": 25,
   "id": "5b7f72fc",
   "metadata": {},
   "outputs": [
    {
     "name": "stdout",
     "output_type": "stream",
     "text": [
      "CPU times: user 24.2 s, sys: 2.72 s, total: 26.9 s\n",
      "Wall time: 26.9 s\n"
     ]
    }
   ],
   "source": [
    "%%time\n",
    "\n",
    "col_new_manual_topic = 'manual_topic_and_rating'\n",
    "\n",
    "l_meta_basic = [\n",
    "    'subreddit_name',\n",
    "    'subreddit_id',\n",
    "    # col_new_manual_topic,\n",
    "    'rating',\n",
    "    'topic',\n",
    "    'primary_post_language',\n",
    "    'primary_post_language_percent',\n",
    "    'post_median_word_count',\n",
    "]\n",
    "df_sub_d_pair = (\n",
    "    df_sub_d_pair_raw\n",
    "    .merge(\n",
    "        df_sub_meta[l_meta_basic].set_index('subreddit_name'),\n",
    "        left_on=['subreddit_name_a'],\n",
    "        right_index=True,\n",
    "    )\n",
    "    .merge(\n",
    "        df_sub_meta[l_meta_basic].set_index('subreddit_name'),\n",
    "        left_on=['subreddit_name_b'],\n",
    "        right_index=True,\n",
    "        suffixes=('_a', '_b')\n",
    "    )\n",
    "    .sort_values(by=['subreddit_name_a', 'cosine_distance'], ascending=[True, False])\n",
    ")"
   ]
  },
  {
   "cell_type": "code",
   "execution_count": 26,
   "id": "adc3dbbe",
   "metadata": {},
   "outputs": [
    {
     "data": {
      "text/html": [
       "<div>\n",
       "<style scoped>\n",
       "    .dataframe tbody tr th:only-of-type {\n",
       "        vertical-align: middle;\n",
       "    }\n",
       "\n",
       "    .dataframe tbody tr th {\n",
       "        vertical-align: top;\n",
       "    }\n",
       "\n",
       "    .dataframe thead th {\n",
       "        text-align: right;\n",
       "    }\n",
       "</style>\n",
       "<table border=\"1\" class=\"dataframe\">\n",
       "  <thead>\n",
       "    <tr style=\"text-align: right;\">\n",
       "      <th></th>\n",
       "      <th>cosine_distance</th>\n",
       "      <th>subreddit_name_a</th>\n",
       "      <th>subreddit_name_b</th>\n",
       "      <th>subreddit_id_a</th>\n",
       "      <th>rating_a</th>\n",
       "      <th>topic_a</th>\n",
       "      <th>primary_post_language_a</th>\n",
       "      <th>primary_post_language_percent_a</th>\n",
       "      <th>post_median_word_count_a</th>\n",
       "      <th>subreddit_id_b</th>\n",
       "      <th>rating_b</th>\n",
       "      <th>topic_b</th>\n",
       "      <th>primary_post_language_b</th>\n",
       "      <th>primary_post_language_percent_b</th>\n",
       "      <th>post_median_word_count_b</th>\n",
       "    </tr>\n",
       "  </thead>\n",
       "  <tbody>\n",
       "    <tr>\n",
       "      <th>0</th>\n",
       "      <td>0.719657</td>\n",
       "      <td>1071</td>\n",
       "      <td>tamamahbapengelli</td>\n",
       "      <td>t5_4ppr4q</td>\n",
       "      <td>None</td>\n",
       "      <td>None</td>\n",
       "      <td>Turkish</td>\n",
       "      <td>0.845133</td>\n",
       "      <td>9.0</td>\n",
       "      <td>t5_pwwzi</td>\n",
       "      <td>None</td>\n",
       "      <td>None</td>\n",
       "      <td>Turkish</td>\n",
       "      <td>0.677419</td>\n",
       "      <td>4.0</td>\n",
       "    </tr>\n",
       "    <tr>\n",
       "      <th>1</th>\n",
       "      <td>0.708699</td>\n",
       "      <td>1071</td>\n",
       "      <td>nonakanal</td>\n",
       "      <td>t5_4ppr4q</td>\n",
       "      <td>None</td>\n",
       "      <td>None</td>\n",
       "      <td>Turkish</td>\n",
       "      <td>0.845133</td>\n",
       "      <td>9.0</td>\n",
       "      <td>t5_2ltn31</td>\n",
       "      <td>None</td>\n",
       "      <td>None</td>\n",
       "      <td>German</td>\n",
       "      <td>0.712589</td>\n",
       "      <td>6.0</td>\n",
       "    </tr>\n",
       "    <tr>\n",
       "      <th>2</th>\n",
       "      <td>0.706756</td>\n",
       "      <td>1071</td>\n",
       "      <td>okemakkermaloot</td>\n",
       "      <td>t5_4ppr4q</td>\n",
       "      <td>None</td>\n",
       "      <td>None</td>\n",
       "      <td>Turkish</td>\n",
       "      <td>0.845133</td>\n",
       "      <td>9.0</td>\n",
       "      <td>t5_pa6tc</td>\n",
       "      <td>None</td>\n",
       "      <td>None</td>\n",
       "      <td>Dutch</td>\n",
       "      <td>0.358974</td>\n",
       "      <td>3.0</td>\n",
       "    </tr>\n",
       "    <tr>\n",
       "      <th>3</th>\n",
       "      <td>0.706363</td>\n",
       "      <td>1071</td>\n",
       "      <td>kudurdum</td>\n",
       "      <td>t5_4ppr4q</td>\n",
       "      <td>None</td>\n",
       "      <td>None</td>\n",
       "      <td>Turkish</td>\n",
       "      <td>0.845133</td>\n",
       "      <td>9.0</td>\n",
       "      <td>t5_2pn1vr</td>\n",
       "      <td>None</td>\n",
       "      <td>None</td>\n",
       "      <td>Turkish</td>\n",
       "      <td>0.544170</td>\n",
       "      <td>7.0</td>\n",
       "    </tr>\n",
       "    <tr>\n",
       "      <th>4</th>\n",
       "      <td>0.698231</td>\n",
       "      <td>1071</td>\n",
       "      <td>okbrudimongo</td>\n",
       "      <td>t5_4ppr4q</td>\n",
       "      <td>None</td>\n",
       "      <td>None</td>\n",
       "      <td>Turkish</td>\n",
       "      <td>0.845133</td>\n",
       "      <td>9.0</td>\n",
       "      <td>t5_ofkj1</td>\n",
       "      <td>r</td>\n",
       "      <td>Internet Culture and Memes</td>\n",
       "      <td>German</td>\n",
       "      <td>0.651042</td>\n",
       "      <td>4.0</td>\n",
       "    </tr>\n",
       "  </tbody>\n",
       "</table>\n",
       "</div>"
      ],
      "text/plain": [
       "   cosine_distance subreddit_name_a   subreddit_name_b subreddit_id_a rating_a topic_a primary_post_language_a  primary_post_language_percent_a  post_median_word_count_a subreddit_id_b rating_b                     topic_b primary_post_language_b  primary_post_language_percent_b  \\\n",
       "0         0.719657             1071  tamamahbapengelli      t5_4ppr4q     None    None                 Turkish                         0.845133                       9.0       t5_pwwzi     None                        None                 Turkish                         0.677419   \n",
       "1         0.708699             1071          nonakanal      t5_4ppr4q     None    None                 Turkish                         0.845133                       9.0      t5_2ltn31     None                        None                  German                         0.712589   \n",
       "2         0.706756             1071    okemakkermaloot      t5_4ppr4q     None    None                 Turkish                         0.845133                       9.0       t5_pa6tc     None                        None                   Dutch                         0.358974   \n",
       "3         0.706363             1071           kudurdum      t5_4ppr4q     None    None                 Turkish                         0.845133                       9.0      t5_2pn1vr     None                        None                 Turkish                         0.544170   \n",
       "4         0.698231             1071       okbrudimongo      t5_4ppr4q     None    None                 Turkish                         0.845133                       9.0       t5_ofkj1        r  Internet Culture and Memes                  German                         0.651042   \n",
       "\n",
       "   post_median_word_count_b  \n",
       "0                       4.0  \n",
       "1                       6.0  \n",
       "2                       3.0  \n",
       "3                       7.0  \n",
       "4                       4.0  "
      ]
     },
     "execution_count": 26,
     "metadata": {},
     "output_type": "execute_result"
    }
   ],
   "source": [
    "df_sub_d_pair.head()"
   ]
  },
  {
   "cell_type": "code",
   "execution_count": null,
   "id": "9e70effb",
   "metadata": {},
   "outputs": [],
   "source": []
  },
  {
   "cell_type": "code",
   "execution_count": null,
   "id": "b3731bd3",
   "metadata": {},
   "outputs": [],
   "source": []
  },
  {
   "cell_type": "code",
   "execution_count": null,
   "id": "ab4de480",
   "metadata": {},
   "outputs": [],
   "source": []
  },
  {
   "cell_type": "code",
   "execution_count": null,
   "id": "d313d1af",
   "metadata": {},
   "outputs": [],
   "source": []
  },
  {
   "cell_type": "code",
   "execution_count": null,
   "id": "bddff789",
   "metadata": {},
   "outputs": [],
   "source": []
  },
  {
   "cell_type": "markdown",
   "id": "1580c7e5",
   "metadata": {},
   "source": [
    "# Examples\n",
    "\n",
    "For a given subreddit, show:\n",
    "- closest subreddits (pair)\n",
    "- cluster assigned by Machine Learning model"
   ]
  },
  {
   "cell_type": "code",
   "execution_count": 114,
   "id": "a6c26b6f",
   "metadata": {},
   "outputs": [
    {
     "data": {
      "text/plain": [
       "['personalfinance',\n",
       " 'povertyfinance',\n",
       " 'finanzen',\n",
       " 'finance',\n",
       " 'ethfinance',\n",
       " 'financial']"
      ]
     },
     "execution_count": 114,
     "metadata": {},
     "output_type": "execute_result"
    }
   ],
   "source": [
    "[c for c in df_sub_meta['subreddit_name'] if 'finan' in c]"
   ]
  },
  {
   "cell_type": "code",
   "execution_count": 115,
   "id": "abbb2572",
   "metadata": {},
   "outputs": [
    {
     "data": {
      "text/html": [
       "<style  type=\"text/css\" >\n",
       "#T_136ce_row0_col0,#T_136ce_row11_col6,#T_136ce_row19_col6{\n",
       "            width:  10em;\n",
       "             height:  80%;\n",
       "            background:  linear-gradient(90deg,#95cff5 100.0%, transparent 100.0%);\n",
       "        }#T_136ce_row0_col6{\n",
       "            width:  10em;\n",
       "             height:  80%;\n",
       "            background:  linear-gradient(90deg,#95cff5 65.0%, transparent 65.0%);\n",
       "        }#T_136ce_row1_col0,#T_136ce_row7_col6{\n",
       "            width:  10em;\n",
       "             height:  80%;\n",
       "            background:  linear-gradient(90deg,#95cff5 99.9%, transparent 99.9%);\n",
       "        }#T_136ce_row1_col6{\n",
       "            width:  10em;\n",
       "             height:  80%;\n",
       "            background:  linear-gradient(90deg,#95cff5 95.1%, transparent 95.1%);\n",
       "        }#T_136ce_row2_col0{\n",
       "            width:  10em;\n",
       "             height:  80%;\n",
       "            background:  linear-gradient(90deg,#95cff5 98.9%, transparent 98.9%);\n",
       "        }#T_136ce_row2_col6{\n",
       "            width:  10em;\n",
       "             height:  80%;\n",
       "            background:  linear-gradient(90deg,#95cff5 93.5%, transparent 93.5%);\n",
       "        }#T_136ce_row3_col0{\n",
       "            width:  10em;\n",
       "             height:  80%;\n",
       "            background:  linear-gradient(90deg,#95cff5 98.4%, transparent 98.4%);\n",
       "        }#T_136ce_row3_col6{\n",
       "            width:  10em;\n",
       "             height:  80%;\n",
       "            background:  linear-gradient(90deg,#95cff5 75.8%, transparent 75.8%);\n",
       "        }#T_136ce_row4_col0{\n",
       "            width:  10em;\n",
       "             height:  80%;\n",
       "            background:  linear-gradient(90deg,#95cff5 95.7%, transparent 95.7%);\n",
       "        }#T_136ce_row4_col6{\n",
       "            width:  10em;\n",
       "             height:  80%;\n",
       "            background:  linear-gradient(90deg,#95cff5 90.1%, transparent 90.1%);\n",
       "        }#T_136ce_row5_col0{\n",
       "            width:  10em;\n",
       "             height:  80%;\n",
       "            background:  linear-gradient(90deg,#95cff5 95.2%, transparent 95.2%);\n",
       "        }#T_136ce_row5_col6{\n",
       "            width:  10em;\n",
       "             height:  80%;\n",
       "            background:  linear-gradient(90deg,#95cff5 91.1%, transparent 91.1%);\n",
       "        }#T_136ce_row6_col0{\n",
       "            width:  10em;\n",
       "             height:  80%;\n",
       "            background:  linear-gradient(90deg,#95cff5 94.6%, transparent 94.6%);\n",
       "        }#T_136ce_row6_col6{\n",
       "            width:  10em;\n",
       "             height:  80%;\n",
       "            background:  linear-gradient(90deg,#95cff5 97.6%, transparent 97.6%);\n",
       "        }#T_136ce_row7_col0{\n",
       "            width:  10em;\n",
       "             height:  80%;\n",
       "            background:  linear-gradient(90deg,#95cff5 93.8%, transparent 93.8%);\n",
       "        }#T_136ce_row8_col0{\n",
       "            width:  10em;\n",
       "             height:  80%;\n",
       "            background:  linear-gradient(90deg,#95cff5 93.0%, transparent 93.0%);\n",
       "        }#T_136ce_row8_col6{\n",
       "            width:  10em;\n",
       "             height:  80%;\n",
       "            background:  linear-gradient(90deg,#95cff5 65.1%, transparent 65.1%);\n",
       "        }#T_136ce_row9_col0{\n",
       "            width:  10em;\n",
       "             height:  80%;\n",
       "            background:  linear-gradient(90deg,#95cff5 92.5%, transparent 92.5%);\n",
       "        }#T_136ce_row9_col6{\n",
       "            width:  10em;\n",
       "             height:  80%;\n",
       "            background:  linear-gradient(90deg,#95cff5 81.5%, transparent 81.5%);\n",
       "        }#T_136ce_row10_col0{\n",
       "            width:  10em;\n",
       "             height:  80%;\n",
       "            background:  linear-gradient(90deg,#95cff5 89.8%, transparent 89.8%);\n",
       "        }#T_136ce_row10_col6{\n",
       "            width:  10em;\n",
       "             height:  80%;\n",
       "            background:  linear-gradient(90deg,#95cff5 77.3%, transparent 77.3%);\n",
       "        }#T_136ce_row11_col0{\n",
       "            width:  10em;\n",
       "             height:  80%;\n",
       "            background:  linear-gradient(90deg,#95cff5 89.3%, transparent 89.3%);\n",
       "        }#T_136ce_row12_col0{\n",
       "            width:  10em;\n",
       "             height:  80%;\n",
       "            background:  linear-gradient(90deg,#95cff5 88.3%, transparent 88.3%);\n",
       "        }#T_136ce_row12_col6{\n",
       "            width:  10em;\n",
       "             height:  80%;\n",
       "            background:  linear-gradient(90deg,#95cff5 80.5%, transparent 80.5%);\n",
       "        }#T_136ce_row13_col0{\n",
       "            width:  10em;\n",
       "             height:  80%;\n",
       "            background:  linear-gradient(90deg,#95cff5 88.2%, transparent 88.2%);\n",
       "        }#T_136ce_row13_col6{\n",
       "            width:  10em;\n",
       "             height:  80%;\n",
       "            background:  linear-gradient(90deg,#95cff5 61.9%, transparent 61.9%);\n",
       "        }#T_136ce_row14_col0{\n",
       "            width:  10em;\n",
       "             height:  80%;\n",
       "            background:  linear-gradient(90deg,#95cff5 84.9%, transparent 84.9%);\n",
       "        }#T_136ce_row14_col6{\n",
       "            width:  10em;\n",
       "             height:  80%;\n",
       "            background:  linear-gradient(90deg,#95cff5 85.8%, transparent 85.8%);\n",
       "        }#T_136ce_row15_col0{\n",
       "            width:  10em;\n",
       "             height:  80%;\n",
       "            background:  linear-gradient(90deg,#95cff5 83.6%, transparent 83.6%);\n",
       "        }#T_136ce_row15_col6{\n",
       "            width:  10em;\n",
       "             height:  80%;\n",
       "            background:  linear-gradient(90deg,#95cff5 88.0%, transparent 88.0%);\n",
       "        }#T_136ce_row16_col0{\n",
       "            width:  10em;\n",
       "             height:  80%;\n",
       "            background:  linear-gradient(90deg,#95cff5 83.3%, transparent 83.3%);\n",
       "        }#T_136ce_row16_col6{\n",
       "            width:  10em;\n",
       "             height:  80%;\n",
       "            background:  linear-gradient(90deg,#95cff5 96.0%, transparent 96.0%);\n",
       "        }#T_136ce_row17_col0{\n",
       "            width:  10em;\n",
       "             height:  80%;\n",
       "            background:  linear-gradient(90deg,#95cff5 82.6%, transparent 82.6%);\n",
       "        }#T_136ce_row17_col6{\n",
       "            width:  10em;\n",
       "             height:  80%;\n",
       "            background:  linear-gradient(90deg,#95cff5 84.3%, transparent 84.3%);\n",
       "        }#T_136ce_row18_col0,#T_136ce_row19_col0{\n",
       "            width:  10em;\n",
       "             height:  80%;\n",
       "            background:  linear-gradient(90deg,#95cff5 81.4%, transparent 81.4%);\n",
       "        }#T_136ce_row18_col6{\n",
       "            width:  10em;\n",
       "             height:  80%;\n",
       "            background:  linear-gradient(90deg,#95cff5 96.5%, transparent 96.5%);\n",
       "        }</style><table id=\"T_136ce_\" ><thead>    <tr>        <th class=\"blank level0\" ></th>        <th class=\"col_heading level0 col0\" >cosine distance</th>        <th class=\"col_heading level0 col1\" >subreddit name a</th>        <th class=\"col_heading level0 col2\" >subreddit name b</th>        <th class=\"col_heading level0 col3\" >rating b</th>        <th class=\"col_heading level0 col4\" >topic b</th>        <th class=\"col_heading level0 col5\" >primary post language b</th>        <th class=\"col_heading level0 col6\" >primary post language percent b</th>        <th class=\"col_heading level0 col7\" >post median word count b</th>        <th class=\"col_heading level0 col8\" >rating a</th>        <th class=\"col_heading level0 col9\" >topic a</th>        <th class=\"col_heading level0 col10\" >primary post language a</th>        <th class=\"col_heading level0 col11\" >primary post language percent a</th>        <th class=\"col_heading level0 col12\" >post median word count a</th>    </tr></thead><tbody>\n",
       "                <tr>\n",
       "                        <th id=\"T_136ce_level0_row0\" class=\"row_heading level0 row0\" >0</th>\n",
       "                        <td id=\"T_136ce_row0_col0\" class=\"data row0 col0\" >0.8761</td>\n",
       "                        <td id=\"T_136ce_row0_col1\" class=\"data row0 col1\" >bundesliga</td>\n",
       "                        <td id=\"T_136ce_row0_col2\" class=\"data row0 col2\" >fussball</td>\n",
       "                        <td id=\"T_136ce_row0_col3\" class=\"data row0 col3\" >None</td>\n",
       "                        <td id=\"T_136ce_row0_col4\" class=\"data row0 col4\" >None</td>\n",
       "                        <td id=\"T_136ce_row0_col5\" class=\"data row0 col5\" >German</td>\n",
       "                        <td id=\"T_136ce_row0_col6\" class=\"data row0 col6\" >62.40%</td>\n",
       "                        <td id=\"T_136ce_row0_col7\" class=\"data row0 col7\" >14</td>\n",
       "                        <td id=\"T_136ce_row0_col8\" class=\"data row0 col8\" >pg13</td>\n",
       "                        <td id=\"T_136ce_row0_col9\" class=\"data row0 col9\" >Sports</td>\n",
       "                        <td id=\"T_136ce_row0_col10\" class=\"data row0 col10\" >English</td>\n",
       "                        <td id=\"T_136ce_row0_col11\" class=\"data row0 col11\" >61.15%</td>\n",
       "                        <td id=\"T_136ce_row0_col12\" class=\"data row0 col12\" >12</td>\n",
       "            </tr>\n",
       "            <tr>\n",
       "                        <th id=\"T_136ce_level0_row1\" class=\"row_heading level0 row1\" >1</th>\n",
       "                        <td id=\"T_136ce_row1_col0\" class=\"data row1 col0\" >0.8750</td>\n",
       "                        <td id=\"T_136ce_row1_col1\" class=\"data row1 col1\" >bundesliga</td>\n",
       "                        <td id=\"T_136ce_row1_col2\" class=\"data row1 col2\" >fohlenelf</td>\n",
       "                        <td id=\"T_136ce_row1_col3\" class=\"data row1 col3\" >pg13</td>\n",
       "                        <td id=\"T_136ce_row1_col4\" class=\"data row1 col4\" >None</td>\n",
       "                        <td id=\"T_136ce_row1_col5\" class=\"data row1 col5\" >English</td>\n",
       "                        <td id=\"T_136ce_row1_col6\" class=\"data row1 col6\" >91.30%</td>\n",
       "                        <td id=\"T_136ce_row1_col7\" class=\"data row1 col7\" >10</td>\n",
       "                        <td id=\"T_136ce_row1_col8\" class=\"data row1 col8\" >pg13</td>\n",
       "                        <td id=\"T_136ce_row1_col9\" class=\"data row1 col9\" >Sports</td>\n",
       "                        <td id=\"T_136ce_row1_col10\" class=\"data row1 col10\" >English</td>\n",
       "                        <td id=\"T_136ce_row1_col11\" class=\"data row1 col11\" >61.15%</td>\n",
       "                        <td id=\"T_136ce_row1_col12\" class=\"data row1 col12\" >12</td>\n",
       "            </tr>\n",
       "            <tr>\n",
       "                        <th id=\"T_136ce_level0_row2\" class=\"row_heading level0 row2\" >2</th>\n",
       "                        <td id=\"T_136ce_row2_col0\" class=\"data row2 col0\" >0.8664</td>\n",
       "                        <td id=\"T_136ce_row2_col1\" class=\"data row2 col1\" >bundesliga</td>\n",
       "                        <td id=\"T_136ce_row2_col2\" class=\"data row2 col2\" >borussiadortmund</td>\n",
       "                        <td id=\"T_136ce_row2_col3\" class=\"data row2 col3\" >pg13</td>\n",
       "                        <td id=\"T_136ce_row2_col4\" class=\"data row2 col4\" >None</td>\n",
       "                        <td id=\"T_136ce_row2_col5\" class=\"data row2 col5\" >English</td>\n",
       "                        <td id=\"T_136ce_row2_col6\" class=\"data row2 col6\" >89.76%</td>\n",
       "                        <td id=\"T_136ce_row2_col7\" class=\"data row2 col7\" >16</td>\n",
       "                        <td id=\"T_136ce_row2_col8\" class=\"data row2 col8\" >pg13</td>\n",
       "                        <td id=\"T_136ce_row2_col9\" class=\"data row2 col9\" >Sports</td>\n",
       "                        <td id=\"T_136ce_row2_col10\" class=\"data row2 col10\" >English</td>\n",
       "                        <td id=\"T_136ce_row2_col11\" class=\"data row2 col11\" >61.15%</td>\n",
       "                        <td id=\"T_136ce_row2_col12\" class=\"data row2 col12\" >12</td>\n",
       "            </tr>\n",
       "            <tr>\n",
       "                        <th id=\"T_136ce_level0_row3\" class=\"row_heading level0 row3\" >3</th>\n",
       "                        <td id=\"T_136ce_row3_col0\" class=\"data row3 col0\" >0.8618</td>\n",
       "                        <td id=\"T_136ce_row3_col1\" class=\"data row3 col1\" >bundesliga</td>\n",
       "                        <td id=\"T_136ce_row3_col2\" class=\"data row3 col2\" >schalke04</td>\n",
       "                        <td id=\"T_136ce_row3_col3\" class=\"data row3 col3\" >pg</td>\n",
       "                        <td id=\"T_136ce_row3_col4\" class=\"data row3 col4\" >None</td>\n",
       "                        <td id=\"T_136ce_row3_col5\" class=\"data row3 col5\" >English</td>\n",
       "                        <td id=\"T_136ce_row3_col6\" class=\"data row3 col6\" >72.82%</td>\n",
       "                        <td id=\"T_136ce_row3_col7\" class=\"data row3 col7\" >12</td>\n",
       "                        <td id=\"T_136ce_row3_col8\" class=\"data row3 col8\" >pg13</td>\n",
       "                        <td id=\"T_136ce_row3_col9\" class=\"data row3 col9\" >Sports</td>\n",
       "                        <td id=\"T_136ce_row3_col10\" class=\"data row3 col10\" >English</td>\n",
       "                        <td id=\"T_136ce_row3_col11\" class=\"data row3 col11\" >61.15%</td>\n",
       "                        <td id=\"T_136ce_row3_col12\" class=\"data row3 col12\" >12</td>\n",
       "            </tr>\n",
       "            <tr>\n",
       "                        <th id=\"T_136ce_level0_row4\" class=\"row_heading level0 row4\" >4</th>\n",
       "                        <td id=\"T_136ce_row4_col0\" class=\"data row4 col0\" >0.8386</td>\n",
       "                        <td id=\"T_136ce_row4_col1\" class=\"data row4 col1\" >bundesliga</td>\n",
       "                        <td id=\"T_136ce_row4_col2\" class=\"data row4 col2\" >vfbstuttgart</td>\n",
       "                        <td id=\"T_136ce_row4_col3\" class=\"data row4 col3\" >pg</td>\n",
       "                        <td id=\"T_136ce_row4_col4\" class=\"data row4 col4\" >None</td>\n",
       "                        <td id=\"T_136ce_row4_col5\" class=\"data row4 col5\" >English</td>\n",
       "                        <td id=\"T_136ce_row4_col6\" class=\"data row4 col6\" >86.54%</td>\n",
       "                        <td id=\"T_136ce_row4_col7\" class=\"data row4 col7\" >12</td>\n",
       "                        <td id=\"T_136ce_row4_col8\" class=\"data row4 col8\" >pg13</td>\n",
       "                        <td id=\"T_136ce_row4_col9\" class=\"data row4 col9\" >Sports</td>\n",
       "                        <td id=\"T_136ce_row4_col10\" class=\"data row4 col10\" >English</td>\n",
       "                        <td id=\"T_136ce_row4_col11\" class=\"data row4 col11\" >61.15%</td>\n",
       "                        <td id=\"T_136ce_row4_col12\" class=\"data row4 col12\" >12</td>\n",
       "            </tr>\n",
       "            <tr>\n",
       "                        <th id=\"T_136ce_level0_row5\" class=\"row_heading level0 row5\" >5</th>\n",
       "                        <td id=\"T_136ce_row5_col0\" class=\"data row5 col0\" >0.8338</td>\n",
       "                        <td id=\"T_136ce_row5_col1\" class=\"data row5 col1\" >bundesliga</td>\n",
       "                        <td id=\"T_136ce_row5_col2\" class=\"data row5 col2\" >soccer</td>\n",
       "                        <td id=\"T_136ce_row5_col3\" class=\"data row5 col3\" >pg13</td>\n",
       "                        <td id=\"T_136ce_row5_col4\" class=\"data row5 col4\" >None</td>\n",
       "                        <td id=\"T_136ce_row5_col5\" class=\"data row5 col5\" >English</td>\n",
       "                        <td id=\"T_136ce_row5_col6\" class=\"data row5 col6\" >87.50%</td>\n",
       "                        <td id=\"T_136ce_row5_col7\" class=\"data row5 col7\" >18</td>\n",
       "                        <td id=\"T_136ce_row5_col8\" class=\"data row5 col8\" >pg13</td>\n",
       "                        <td id=\"T_136ce_row5_col9\" class=\"data row5 col9\" >Sports</td>\n",
       "                        <td id=\"T_136ce_row5_col10\" class=\"data row5 col10\" >English</td>\n",
       "                        <td id=\"T_136ce_row5_col11\" class=\"data row5 col11\" >61.15%</td>\n",
       "                        <td id=\"T_136ce_row5_col12\" class=\"data row5 col12\" >12</td>\n",
       "            </tr>\n",
       "            <tr>\n",
       "                        <th id=\"T_136ce_level0_row6\" class=\"row_heading level0 row6\" >6</th>\n",
       "                        <td id=\"T_136ce_row6_col0\" class=\"data row6 col0\" >0.8288</td>\n",
       "                        <td id=\"T_136ce_row6_col1\" class=\"data row6 col1\" >bundesliga</td>\n",
       "                        <td id=\"T_136ce_row6_col2\" class=\"data row6 col2\" >effzeh</td>\n",
       "                        <td id=\"T_136ce_row6_col3\" class=\"data row6 col3\" >pg</td>\n",
       "                        <td id=\"T_136ce_row6_col4\" class=\"data row6 col4\" >None</td>\n",
       "                        <td id=\"T_136ce_row6_col5\" class=\"data row6 col5\" >English</td>\n",
       "                        <td id=\"T_136ce_row6_col6\" class=\"data row6 col6\" >93.65%</td>\n",
       "                        <td id=\"T_136ce_row6_col7\" class=\"data row6 col7\" >14</td>\n",
       "                        <td id=\"T_136ce_row6_col8\" class=\"data row6 col8\" >pg13</td>\n",
       "                        <td id=\"T_136ce_row6_col9\" class=\"data row6 col9\" >Sports</td>\n",
       "                        <td id=\"T_136ce_row6_col10\" class=\"data row6 col10\" >English</td>\n",
       "                        <td id=\"T_136ce_row6_col11\" class=\"data row6 col11\" >61.15%</td>\n",
       "                        <td id=\"T_136ce_row6_col12\" class=\"data row6 col12\" >12</td>\n",
       "            </tr>\n",
       "            <tr>\n",
       "                        <th id=\"T_136ce_level0_row7\" class=\"row_heading level0 row7\" >7</th>\n",
       "                        <td id=\"T_136ce_row7_col0\" class=\"data row7 col0\" >0.8215</td>\n",
       "                        <td id=\"T_136ce_row7_col1\" class=\"data row7 col1\" >bundesliga</td>\n",
       "                        <td id=\"T_136ce_row7_col2\" class=\"data row7 col2\" >elf</td>\n",
       "                        <td id=\"T_136ce_row7_col3\" class=\"data row7 col3\" >None</td>\n",
       "                        <td id=\"T_136ce_row7_col4\" class=\"data row7 col4\" >None</td>\n",
       "                        <td id=\"T_136ce_row7_col5\" class=\"data row7 col5\" >English</td>\n",
       "                        <td id=\"T_136ce_row7_col6\" class=\"data row7 col6\" >95.86%</td>\n",
       "                        <td id=\"T_136ce_row7_col7\" class=\"data row7 col7\" >21</td>\n",
       "                        <td id=\"T_136ce_row7_col8\" class=\"data row7 col8\" >pg13</td>\n",
       "                        <td id=\"T_136ce_row7_col9\" class=\"data row7 col9\" >Sports</td>\n",
       "                        <td id=\"T_136ce_row7_col10\" class=\"data row7 col10\" >English</td>\n",
       "                        <td id=\"T_136ce_row7_col11\" class=\"data row7 col11\" >61.15%</td>\n",
       "                        <td id=\"T_136ce_row7_col12\" class=\"data row7 col12\" >12</td>\n",
       "            </tr>\n",
       "            <tr>\n",
       "                        <th id=\"T_136ce_level0_row8\" class=\"row_heading level0 row8\" >8</th>\n",
       "                        <td id=\"T_136ce_row8_col0\" class=\"data row8 col0\" >0.8147</td>\n",
       "                        <td id=\"T_136ce_row8_col1\" class=\"data row8 col1\" >bundesliga</td>\n",
       "                        <td id=\"T_136ce_row8_col2\" class=\"data row8 col2\" >eintracht</td>\n",
       "                        <td id=\"T_136ce_row8_col3\" class=\"data row8 col3\" >pg</td>\n",
       "                        <td id=\"T_136ce_row8_col4\" class=\"data row8 col4\" >None</td>\n",
       "                        <td id=\"T_136ce_row8_col5\" class=\"data row8 col5\" >English</td>\n",
       "                        <td id=\"T_136ce_row8_col6\" class=\"data row8 col6\" >62.50%</td>\n",
       "                        <td id=\"T_136ce_row8_col7\" class=\"data row8 col7\" >9</td>\n",
       "                        <td id=\"T_136ce_row8_col8\" class=\"data row8 col8\" >pg13</td>\n",
       "                        <td id=\"T_136ce_row8_col9\" class=\"data row8 col9\" >Sports</td>\n",
       "                        <td id=\"T_136ce_row8_col10\" class=\"data row8 col10\" >English</td>\n",
       "                        <td id=\"T_136ce_row8_col11\" class=\"data row8 col11\" >61.15%</td>\n",
       "                        <td id=\"T_136ce_row8_col12\" class=\"data row8 col12\" >12</td>\n",
       "            </tr>\n",
       "            <tr>\n",
       "                        <th id=\"T_136ce_level0_row9\" class=\"row_heading level0 row9\" >9</th>\n",
       "                        <td id=\"T_136ce_row9_col0\" class=\"data row9 col0\" >0.8107</td>\n",
       "                        <td id=\"T_136ce_row9_col1\" class=\"data row9 col1\" >bundesliga</td>\n",
       "                        <td id=\"T_136ce_row9_col2\" class=\"data row9 col2\" >svw</td>\n",
       "                        <td id=\"T_136ce_row9_col3\" class=\"data row9 col3\" >None</td>\n",
       "                        <td id=\"T_136ce_row9_col4\" class=\"data row9 col4\" >None</td>\n",
       "                        <td id=\"T_136ce_row9_col5\" class=\"data row9 col5\" >English</td>\n",
       "                        <td id=\"T_136ce_row9_col6\" class=\"data row9 col6\" >78.26%</td>\n",
       "                        <td id=\"T_136ce_row9_col7\" class=\"data row9 col7\" >17</td>\n",
       "                        <td id=\"T_136ce_row9_col8\" class=\"data row9 col8\" >pg13</td>\n",
       "                        <td id=\"T_136ce_row9_col9\" class=\"data row9 col9\" >Sports</td>\n",
       "                        <td id=\"T_136ce_row9_col10\" class=\"data row9 col10\" >English</td>\n",
       "                        <td id=\"T_136ce_row9_col11\" class=\"data row9 col11\" >61.15%</td>\n",
       "                        <td id=\"T_136ce_row9_col12\" class=\"data row9 col12\" >12</td>\n",
       "            </tr>\n",
       "            <tr>\n",
       "                        <th id=\"T_136ce_level0_row10\" class=\"row_heading level0 row10\" >10</th>\n",
       "                        <td id=\"T_136ce_row10_col0\" class=\"data row10 col0\" >0.7871</td>\n",
       "                        <td id=\"T_136ce_row10_col1\" class=\"data row10 col1\" >bundesliga</td>\n",
       "                        <td id=\"T_136ce_row10_col2\" class=\"data row10 col2\" >football</td>\n",
       "                        <td id=\"T_136ce_row10_col3\" class=\"data row10 col3\" >pg13</td>\n",
       "                        <td id=\"T_136ce_row10_col4\" class=\"data row10 col4\" >None</td>\n",
       "                        <td id=\"T_136ce_row10_col5\" class=\"data row10 col5\" >English</td>\n",
       "                        <td id=\"T_136ce_row10_col6\" class=\"data row10 col6\" >74.25%</td>\n",
       "                        <td id=\"T_136ce_row10_col7\" class=\"data row10 col7\" >14</td>\n",
       "                        <td id=\"T_136ce_row10_col8\" class=\"data row10 col8\" >pg13</td>\n",
       "                        <td id=\"T_136ce_row10_col9\" class=\"data row10 col9\" >Sports</td>\n",
       "                        <td id=\"T_136ce_row10_col10\" class=\"data row10 col10\" >English</td>\n",
       "                        <td id=\"T_136ce_row10_col11\" class=\"data row10 col11\" >61.15%</td>\n",
       "                        <td id=\"T_136ce_row10_col12\" class=\"data row10 col12\" >12</td>\n",
       "            </tr>\n",
       "            <tr>\n",
       "                        <th id=\"T_136ce_level0_row11\" class=\"row_heading level0 row11\" >11</th>\n",
       "                        <td id=\"T_136ce_row11_col0\" class=\"data row11 col0\" >0.7822</td>\n",
       "                        <td id=\"T_136ce_row11_col1\" class=\"data row11 col1\" >bundesliga</td>\n",
       "                        <td id=\"T_136ce_row11_col2\" class=\"data row11 col2\" >championsleague</td>\n",
       "                        <td id=\"T_136ce_row11_col3\" class=\"data row11 col3\" >pg</td>\n",
       "                        <td id=\"T_136ce_row11_col4\" class=\"data row11 col4\" >Sports</td>\n",
       "                        <td id=\"T_136ce_row11_col5\" class=\"data row11 col5\" >English</td>\n",
       "                        <td id=\"T_136ce_row11_col6\" class=\"data row11 col6\" >96.00%</td>\n",
       "                        <td id=\"T_136ce_row11_col7\" class=\"data row11 col7\" >10</td>\n",
       "                        <td id=\"T_136ce_row11_col8\" class=\"data row11 col8\" >pg13</td>\n",
       "                        <td id=\"T_136ce_row11_col9\" class=\"data row11 col9\" >Sports</td>\n",
       "                        <td id=\"T_136ce_row11_col10\" class=\"data row11 col10\" >English</td>\n",
       "                        <td id=\"T_136ce_row11_col11\" class=\"data row11 col11\" >61.15%</td>\n",
       "                        <td id=\"T_136ce_row11_col12\" class=\"data row11 col12\" >12</td>\n",
       "            </tr>\n",
       "            <tr>\n",
       "                        <th id=\"T_136ce_level0_row12\" class=\"row_heading level0 row12\" >12</th>\n",
       "                        <td id=\"T_136ce_row12_col0\" class=\"data row12 col0\" >0.7737</td>\n",
       "                        <td id=\"T_136ce_row12_col1\" class=\"data row12 col1\" >bundesliga</td>\n",
       "                        <td id=\"T_136ce_row12_col2\" class=\"data row12 col2\" >american_football</td>\n",
       "                        <td id=\"T_136ce_row12_col3\" class=\"data row12 col3\" >None</td>\n",
       "                        <td id=\"T_136ce_row12_col4\" class=\"data row12 col4\" >None</td>\n",
       "                        <td id=\"T_136ce_row12_col5\" class=\"data row12 col5\" >German</td>\n",
       "                        <td id=\"T_136ce_row12_col6\" class=\"data row12 col6\" >77.26%</td>\n",
       "                        <td id=\"T_136ce_row12_col7\" class=\"data row12 col7\" >8</td>\n",
       "                        <td id=\"T_136ce_row12_col8\" class=\"data row12 col8\" >pg13</td>\n",
       "                        <td id=\"T_136ce_row12_col9\" class=\"data row12 col9\" >Sports</td>\n",
       "                        <td id=\"T_136ce_row12_col10\" class=\"data row12 col10\" >English</td>\n",
       "                        <td id=\"T_136ce_row12_col11\" class=\"data row12 col11\" >61.15%</td>\n",
       "                        <td id=\"T_136ce_row12_col12\" class=\"data row12 col12\" >12</td>\n",
       "            </tr>\n",
       "            <tr>\n",
       "                        <th id=\"T_136ce_level0_row13\" class=\"row_heading level0 row13\" >13</th>\n",
       "                        <td id=\"T_136ce_row13_col0\" class=\"data row13 col0\" >0.7726</td>\n",
       "                        <td id=\"T_136ce_row13_col1\" class=\"data row13 col1\" >bundesliga</td>\n",
       "                        <td id=\"T_136ce_row13_col2\" class=\"data row13 col2\" >herthabsc</td>\n",
       "                        <td id=\"T_136ce_row13_col3\" class=\"data row13 col3\" >pg</td>\n",
       "                        <td id=\"T_136ce_row13_col4\" class=\"data row13 col4\" >Sports</td>\n",
       "                        <td id=\"T_136ce_row13_col5\" class=\"data row13 col5\" >English</td>\n",
       "                        <td id=\"T_136ce_row13_col6\" class=\"data row13 col6\" >59.46%</td>\n",
       "                        <td id=\"T_136ce_row13_col7\" class=\"data row13 col7\" >14</td>\n",
       "                        <td id=\"T_136ce_row13_col8\" class=\"data row13 col8\" >pg13</td>\n",
       "                        <td id=\"T_136ce_row13_col9\" class=\"data row13 col9\" >Sports</td>\n",
       "                        <td id=\"T_136ce_row13_col10\" class=\"data row13 col10\" >English</td>\n",
       "                        <td id=\"T_136ce_row13_col11\" class=\"data row13 col11\" >61.15%</td>\n",
       "                        <td id=\"T_136ce_row13_col12\" class=\"data row13 col12\" >12</td>\n",
       "            </tr>\n",
       "            <tr>\n",
       "                        <th id=\"T_136ce_level0_row14\" class=\"row_heading level0 row14\" >14</th>\n",
       "                        <td id=\"T_136ce_row14_col0\" class=\"data row14 col0\" >0.7435</td>\n",
       "                        <td id=\"T_136ce_row14_col1\" class=\"data row14 col1\" >bundesliga</td>\n",
       "                        <td id=\"T_136ce_row14_col2\" class=\"data row14 col2\" >1fcnuernberg</td>\n",
       "                        <td id=\"T_136ce_row14_col3\" class=\"data row14 col3\" >None</td>\n",
       "                        <td id=\"T_136ce_row14_col4\" class=\"data row14 col4\" >None</td>\n",
       "                        <td id=\"T_136ce_row14_col5\" class=\"data row14 col5\" >German</td>\n",
       "                        <td id=\"T_136ce_row14_col6\" class=\"data row14 col6\" >82.35%</td>\n",
       "                        <td id=\"T_136ce_row14_col7\" class=\"data row14 col7\" >8</td>\n",
       "                        <td id=\"T_136ce_row14_col8\" class=\"data row14 col8\" >pg13</td>\n",
       "                        <td id=\"T_136ce_row14_col9\" class=\"data row14 col9\" >Sports</td>\n",
       "                        <td id=\"T_136ce_row14_col10\" class=\"data row14 col10\" >English</td>\n",
       "                        <td id=\"T_136ce_row14_col11\" class=\"data row14 col11\" >61.15%</td>\n",
       "                        <td id=\"T_136ce_row14_col12\" class=\"data row14 col12\" >12</td>\n",
       "            </tr>\n",
       "            <tr>\n",
       "                        <th id=\"T_136ce_level0_row15\" class=\"row_heading level0 row15\" >15</th>\n",
       "                        <td id=\"T_136ce_row15_col0\" class=\"data row15 col0\" >0.7323</td>\n",
       "                        <td id=\"T_136ce_row15_col1\" class=\"data row15 col1\" >bundesliga</td>\n",
       "                        <td id=\"T_136ce_row15_col2\" class=\"data row15 col2\" >fiorentina</td>\n",
       "                        <td id=\"T_136ce_row15_col3\" class=\"data row15 col3\" >pg</td>\n",
       "                        <td id=\"T_136ce_row15_col4\" class=\"data row15 col4\" >Sports</td>\n",
       "                        <td id=\"T_136ce_row15_col5\" class=\"data row15 col5\" >English</td>\n",
       "                        <td id=\"T_136ce_row15_col6\" class=\"data row15 col6\" >84.51%</td>\n",
       "                        <td id=\"T_136ce_row15_col7\" class=\"data row15 col7\" >18</td>\n",
       "                        <td id=\"T_136ce_row15_col8\" class=\"data row15 col8\" >pg13</td>\n",
       "                        <td id=\"T_136ce_row15_col9\" class=\"data row15 col9\" >Sports</td>\n",
       "                        <td id=\"T_136ce_row15_col10\" class=\"data row15 col10\" >English</td>\n",
       "                        <td id=\"T_136ce_row15_col11\" class=\"data row15 col11\" >61.15%</td>\n",
       "                        <td id=\"T_136ce_row15_col12\" class=\"data row15 col12\" >12</td>\n",
       "            </tr>\n",
       "            <tr>\n",
       "                        <th id=\"T_136ce_level0_row16\" class=\"row_heading level0 row16\" >16</th>\n",
       "                        <td id=\"T_136ce_row16_col0\" class=\"data row16 col0\" >0.7302</td>\n",
       "                        <td id=\"T_136ce_row16_col1\" class=\"data row16 col1\" >bundesliga</td>\n",
       "                        <td id=\"T_136ce_row16_col2\" class=\"data row16 col2\" >sports</td>\n",
       "                        <td id=\"T_136ce_row16_col3\" class=\"data row16 col3\" >pg13</td>\n",
       "                        <td id=\"T_136ce_row16_col4\" class=\"data row16 col4\" >None</td>\n",
       "                        <td id=\"T_136ce_row16_col5\" class=\"data row16 col5\" >English</td>\n",
       "                        <td id=\"T_136ce_row16_col6\" class=\"data row16 col6\" >92.15%</td>\n",
       "                        <td id=\"T_136ce_row16_col7\" class=\"data row16 col7\" >11</td>\n",
       "                        <td id=\"T_136ce_row16_col8\" class=\"data row16 col8\" >pg13</td>\n",
       "                        <td id=\"T_136ce_row16_col9\" class=\"data row16 col9\" >Sports</td>\n",
       "                        <td id=\"T_136ce_row16_col10\" class=\"data row16 col10\" >English</td>\n",
       "                        <td id=\"T_136ce_row16_col11\" class=\"data row16 col11\" >61.15%</td>\n",
       "                        <td id=\"T_136ce_row16_col12\" class=\"data row16 col12\" >12</td>\n",
       "            </tr>\n",
       "            <tr>\n",
       "                        <th id=\"T_136ce_level0_row17\" class=\"row_heading level0 row17\" >17</th>\n",
       "                        <td id=\"T_136ce_row17_col0\" class=\"data row17 col0\" >0.7235</td>\n",
       "                        <td id=\"T_136ce_row17_col1\" class=\"data row17 col1\" >bundesliga</td>\n",
       "                        <td id=\"T_136ce_row17_col2\" class=\"data row17 col2\" >euro</td>\n",
       "                        <td id=\"T_136ce_row17_col3\" class=\"data row17 col3\" >None</td>\n",
       "                        <td id=\"T_136ce_row17_col4\" class=\"data row17 col4\" >None</td>\n",
       "                        <td id=\"T_136ce_row17_col5\" class=\"data row17 col5\" >English</td>\n",
       "                        <td id=\"T_136ce_row17_col6\" class=\"data row17 col6\" >80.91%</td>\n",
       "                        <td id=\"T_136ce_row17_col7\" class=\"data row17 col7\" >8</td>\n",
       "                        <td id=\"T_136ce_row17_col8\" class=\"data row17 col8\" >pg13</td>\n",
       "                        <td id=\"T_136ce_row17_col9\" class=\"data row17 col9\" >Sports</td>\n",
       "                        <td id=\"T_136ce_row17_col10\" class=\"data row17 col10\" >English</td>\n",
       "                        <td id=\"T_136ce_row17_col11\" class=\"data row17 col11\" >61.15%</td>\n",
       "                        <td id=\"T_136ce_row17_col12\" class=\"data row17 col12\" >12</td>\n",
       "            </tr>\n",
       "            <tr>\n",
       "                        <th id=\"T_136ce_level0_row18\" class=\"row_heading level0 row18\" >18</th>\n",
       "                        <td id=\"T_136ce_row18_col0\" class=\"data row18 col0\" >0.7132</td>\n",
       "                        <td id=\"T_136ce_row18_col1\" class=\"data row18 col1\" >bundesliga</td>\n",
       "                        <td id=\"T_136ce_row18_col2\" class=\"data row18 col2\" >fifa_de</td>\n",
       "                        <td id=\"T_136ce_row18_col3\" class=\"data row18 col3\" >None</td>\n",
       "                        <td id=\"T_136ce_row18_col4\" class=\"data row18 col4\" >None</td>\n",
       "                        <td id=\"T_136ce_row18_col5\" class=\"data row18 col5\" >German</td>\n",
       "                        <td id=\"T_136ce_row18_col6\" class=\"data row18 col6\" >92.65%</td>\n",
       "                        <td id=\"T_136ce_row18_col7\" class=\"data row18 col7\" >11</td>\n",
       "                        <td id=\"T_136ce_row18_col8\" class=\"data row18 col8\" >pg13</td>\n",
       "                        <td id=\"T_136ce_row18_col9\" class=\"data row18 col9\" >Sports</td>\n",
       "                        <td id=\"T_136ce_row18_col10\" class=\"data row18 col10\" >English</td>\n",
       "                        <td id=\"T_136ce_row18_col11\" class=\"data row18 col11\" >61.15%</td>\n",
       "                        <td id=\"T_136ce_row18_col12\" class=\"data row18 col12\" >12</td>\n",
       "            </tr>\n",
       "            <tr>\n",
       "                        <th id=\"T_136ce_level0_row19\" class=\"row_heading level0 row19\" >19</th>\n",
       "                        <td id=\"T_136ce_row19_col0\" class=\"data row19 col0\" >0.7129</td>\n",
       "                        <td id=\"T_136ce_row19_col1\" class=\"data row19 col1\" >bundesliga</td>\n",
       "                        <td id=\"T_136ce_row19_col2\" class=\"data row19 col2\" >worldcup</td>\n",
       "                        <td id=\"T_136ce_row19_col3\" class=\"data row19 col3\" >pg</td>\n",
       "                        <td id=\"T_136ce_row19_col4\" class=\"data row19 col4\" >None</td>\n",
       "                        <td id=\"T_136ce_row19_col5\" class=\"data row19 col5\" >English</td>\n",
       "                        <td id=\"T_136ce_row19_col6\" class=\"data row19 col6\" >96.00%</td>\n",
       "                        <td id=\"T_136ce_row19_col7\" class=\"data row19 col7\" >22</td>\n",
       "                        <td id=\"T_136ce_row19_col8\" class=\"data row19 col8\" >pg13</td>\n",
       "                        <td id=\"T_136ce_row19_col9\" class=\"data row19 col9\" >Sports</td>\n",
       "                        <td id=\"T_136ce_row19_col10\" class=\"data row19 col10\" >English</td>\n",
       "                        <td id=\"T_136ce_row19_col11\" class=\"data row19 col11\" >61.15%</td>\n",
       "                        <td id=\"T_136ce_row19_col12\" class=\"data row19 col12\" >12</td>\n",
       "            </tr>\n",
       "    </tbody></table>"
      ],
      "text/plain": [
       "<pandas.io.formats.style.Styler at 0x7f2be46e9290>"
      ]
     },
     "metadata": {},
     "output_type": "display_data"
    },
    {
     "name": "stdout",
     "output_type": "stream",
     "text": [
      "\n",
      "Cluster ID: 81\n",
      "  21 Subreddit count in group\n"
     ]
    },
    {
     "data": {
      "text/html": [
       "<style  type=\"text/css\" >\n",
       "#T_40b0a_row0_col2{\n",
       "            width:  10em;\n",
       "             height:  80%;\n",
       "            background:  linear-gradient(90deg,#95cff5 100.0%, transparent 100.0%);\n",
       "        }#T_40b0a_row1_col2{\n",
       "            width:  10em;\n",
       "             height:  80%;\n",
       "        }</style><table id=\"T_40b0a_\" ><thead>    <tr>        <th class=\"col_heading level0 col0\" >manual_topic_and_rating</th>        <th class=\"col_heading level0 col1\" >count</th>        <th class=\"col_heading level0 col2\" >percent</th>    </tr></thead><tbody>\n",
       "                <tr>\n",
       "                                <td id=\"T_40b0a_row0_col0\" class=\"data row0 col0\" >uncategorized</td>\n",
       "                        <td id=\"T_40b0a_row0_col1\" class=\"data row0 col1\" >17</td>\n",
       "                        <td id=\"T_40b0a_row0_col2\" class=\"data row0 col2\" >81.0%</td>\n",
       "            </tr>\n",
       "            <tr>\n",
       "                                <td id=\"T_40b0a_row1_col0\" class=\"data row1 col0\" >sports</td>\n",
       "                        <td id=\"T_40b0a_row1_col1\" class=\"data row1 col1\" >4</td>\n",
       "                        <td id=\"T_40b0a_row1_col2\" class=\"data row1 col2\" >19.0%</td>\n",
       "            </tr>\n",
       "    </tbody></table>"
      ],
      "text/plain": [
       "<pandas.io.formats.style.Styler at 0x7f2be46e9110>"
      ]
     },
     "metadata": {},
     "output_type": "display_data"
    },
    {
     "data": {
      "text/html": [
       "<style  type=\"text/css\" >\n",
       "#T_a16c1_row0_col2,#T_a16c1_row1_col2,#T_a16c1_row2_col2,#T_a16c1_row3_col2,#T_a16c1_row4_col2,#T_a16c1_row5_col2,#T_a16c1_row6_col2,#T_a16c1_row7_col2,#T_a16c1_row8_col2,#T_a16c1_row9_col2,#T_a16c1_row10_col2,#T_a16c1_row11_col2,#T_a16c1_row12_col2,#T_a16c1_row13_col2,#T_a16c1_row14_col2{\n",
       "            width:  120px;\n",
       "        }#T_a16c1_row0_col5{\n",
       "            width:  10em;\n",
       "             height:  80%;\n",
       "            background:  linear-gradient(90deg,#95cff5 91.1%, transparent 91.1%);\n",
       "        }#T_a16c1_row0_col8,#T_a16c1_row2_col5,#T_a16c1_row5_col5{\n",
       "            width:  10em;\n",
       "             height:  80%;\n",
       "            background:  linear-gradient(90deg,#95cff5 100.0%, transparent 100.0%);\n",
       "        }#T_a16c1_row1_col5{\n",
       "            width:  10em;\n",
       "             height:  80%;\n",
       "            background:  linear-gradient(90deg,#95cff5 77.3%, transparent 77.3%);\n",
       "        }#T_a16c1_row1_col8{\n",
       "            width:  10em;\n",
       "             height:  80%;\n",
       "            background:  linear-gradient(90deg,#95cff5 10.1%, transparent 10.1%);\n",
       "        }#T_a16c1_row2_col8{\n",
       "            width:  10em;\n",
       "             height:  80%;\n",
       "            background:  linear-gradient(90deg,#95cff5 1.3%, transparent 1.3%);\n",
       "        }#T_a16c1_row3_col5{\n",
       "            width:  10em;\n",
       "             height:  80%;\n",
       "            background:  linear-gradient(90deg,#95cff5 63.7%, transparent 63.7%);\n",
       "        }#T_a16c1_row3_col8{\n",
       "            width:  10em;\n",
       "             height:  80%;\n",
       "            background:  linear-gradient(90deg,#95cff5 0.8%, transparent 0.8%);\n",
       "        }#T_a16c1_row4_col5{\n",
       "            width:  10em;\n",
       "             height:  80%;\n",
       "            background:  linear-gradient(90deg,#95cff5 93.5%, transparent 93.5%);\n",
       "        }#T_a16c1_row4_col8{\n",
       "            width:  10em;\n",
       "             height:  80%;\n",
       "            background:  linear-gradient(90deg,#95cff5 0.7%, transparent 0.7%);\n",
       "        }#T_a16c1_row5_col8,#T_a16c1_row6_col8,#T_a16c1_row7_col8{\n",
       "            width:  10em;\n",
       "             height:  80%;\n",
       "            background:  linear-gradient(90deg,#95cff5 0.2%, transparent 0.2%);\n",
       "        }#T_a16c1_row6_col5{\n",
       "            width:  10em;\n",
       "             height:  80%;\n",
       "            background:  linear-gradient(90deg,#95cff5 84.3%, transparent 84.3%);\n",
       "        }#T_a16c1_row7_col5{\n",
       "            width:  10em;\n",
       "             height:  80%;\n",
       "            background:  linear-gradient(90deg,#95cff5 87.3%, transparent 87.3%);\n",
       "        }#T_a16c1_row8_col5{\n",
       "            width:  10em;\n",
       "             height:  80%;\n",
       "            background:  linear-gradient(90deg,#95cff5 65.0%, transparent 65.0%);\n",
       "        }#T_a16c1_row8_col8,#T_a16c1_row9_col8,#T_a16c1_row10_col8,#T_a16c1_row11_col8{\n",
       "            width:  10em;\n",
       "             height:  80%;\n",
       "            background:  linear-gradient(90deg,#95cff5 0.1%, transparent 0.1%);\n",
       "        }#T_a16c1_row9_col5{\n",
       "            width:  10em;\n",
       "             height:  80%;\n",
       "            background:  linear-gradient(90deg,#95cff5 75.8%, transparent 75.8%);\n",
       "        }#T_a16c1_row10_col5{\n",
       "            width:  10em;\n",
       "             height:  80%;\n",
       "            background:  linear-gradient(90deg,#95cff5 90.1%, transparent 90.1%);\n",
       "        }#T_a16c1_row11_col5{\n",
       "            width:  10em;\n",
       "             height:  80%;\n",
       "            background:  linear-gradient(90deg,#95cff5 65.1%, transparent 65.1%);\n",
       "        }#T_a16c1_row12_col5{\n",
       "            width:  10em;\n",
       "             height:  80%;\n",
       "            background:  linear-gradient(90deg,#95cff5 97.6%, transparent 97.6%);\n",
       "        }#T_a16c1_row12_col8,#T_a16c1_row13_col8,#T_a16c1_row14_col8{\n",
       "            width:  10em;\n",
       "             height:  80%;\n",
       "            background:  linear-gradient(90deg,#95cff5 0.0%, transparent 0.0%);\n",
       "        }#T_a16c1_row13_col5{\n",
       "            width:  10em;\n",
       "             height:  80%;\n",
       "            background:  linear-gradient(90deg,#95cff5 61.9%, transparent 61.9%);\n",
       "        }#T_a16c1_row14_col5{\n",
       "            width:  10em;\n",
       "             height:  80%;\n",
       "            background:  linear-gradient(90deg,#95cff5 56.8%, transparent 56.8%);\n",
       "        }</style><table id=\"T_a16c1_\" ><thead>    <tr>        <th class=\"col_heading level0 col0\" >subreddit name</th>        <th class=\"col_heading level0 col1\" >rating</th>        <th class=\"col_heading level0 col2\" >topic</th>        <th class=\"col_heading level0 col3\" >subreddit title</th>        <th class=\"col_heading level0 col4\" >primary post language</th>        <th class=\"col_heading level0 col5\" >primary post language percent</th>        <th class=\"col_heading level0 col6\" >primary post type</th>        <th class=\"col_heading level0 col7\" >primary post type percent</th>        <th class=\"col_heading level0 col8\" >users l28</th>        <th class=\"col_heading level0 col9\" >posts l28</th>        <th class=\"col_heading level0 col10\" >comments l28</th>        <th class=\"col_heading level0 col11\" >post median word count</th>        <th class=\"col_heading level0 col12\" >primary post language in use multilingual</th>        <th class=\"col_heading level0 col13\" >manual topic and rating</th>        <th class=\"col_heading level0 col14\" >rating version</th>        <th class=\"col_heading level0 col15\" >over 18</th>    </tr></thead><tbody>\n",
       "                <tr>\n",
       "                                <td id=\"T_a16c1_row0_col0\" class=\"data row0 col0\" >soccer</td>\n",
       "                        <td id=\"T_a16c1_row0_col1\" class=\"data row0 col1\" >pg13</td>\n",
       "                        <td id=\"T_a16c1_row0_col2\" class=\"data row0 col2\" >None</td>\n",
       "                        <td id=\"T_a16c1_row0_col3\" class=\"data row0 col3\" >The back page of the internet </td>\n",
       "                        <td id=\"T_a16c1_row0_col4\" class=\"data row0 col4\" >English</td>\n",
       "                        <td id=\"T_a16c1_row0_col5\" class=\"data row0 col5\" >87.50%</td>\n",
       "                        <td id=\"T_a16c1_row0_col6\" class=\"data row0 col6\" >link</td>\n",
       "                        <td id=\"T_a16c1_row0_col7\" class=\"data row0 col7\" >80.25%</td>\n",
       "                        <td id=\"T_a16c1_row0_col8\" class=\"data row0 col8\" >3,689,781</td>\n",
       "                        <td id=\"T_a16c1_row0_col9\" class=\"data row0 col9\" >16,443</td>\n",
       "                        <td id=\"T_a16c1_row0_col10\" class=\"data row0 col10\" >1,817,884</td>\n",
       "                        <td id=\"T_a16c1_row0_col11\" class=\"data row0 col11\" >18</td>\n",
       "                        <td id=\"T_a16c1_row0_col12\" class=\"data row0 col12\" >True</td>\n",
       "                        <td id=\"T_a16c1_row0_col13\" class=\"data row0 col13\" >uncategorized</td>\n",
       "                        <td id=\"T_a16c1_row0_col14\" class=\"data row0 col14\" >v2</td>\n",
       "                        <td id=\"T_a16c1_row0_col15\" class=\"data row0 col15\" >f</td>\n",
       "            </tr>\n",
       "            <tr>\n",
       "                                <td id=\"T_a16c1_row1_col0\" class=\"data row1 col0\" >football</td>\n",
       "                        <td id=\"T_a16c1_row1_col1\" class=\"data row1 col1\" >pg13</td>\n",
       "                        <td id=\"T_a16c1_row1_col2\" class=\"data row1 col2\" >None</td>\n",
       "                        <td id=\"T_a16c1_row1_col3\" class=\"data row1 col3\" >Football - The People's Sport</td>\n",
       "                        <td id=\"T_a16c1_row1_col4\" class=\"data row1 col4\" >English</td>\n",
       "                        <td id=\"T_a16c1_row1_col5\" class=\"data row1 col5\" >74.25%</td>\n",
       "                        <td id=\"T_a16c1_row1_col6\" class=\"data row1 col6\" >link</td>\n",
       "                        <td id=\"T_a16c1_row1_col7\" class=\"data row1 col7\" >51.75%</td>\n",
       "                        <td id=\"T_a16c1_row1_col8\" class=\"data row1 col8\" >372,114</td>\n",
       "                        <td id=\"T_a16c1_row1_col9\" class=\"data row1 col9\" >2,332</td>\n",
       "                        <td id=\"T_a16c1_row1_col10\" class=\"data row1 col10\" >18,850</td>\n",
       "                        <td id=\"T_a16c1_row1_col11\" class=\"data row1 col11\" >14</td>\n",
       "                        <td id=\"T_a16c1_row1_col12\" class=\"data row1 col12\" >True</td>\n",
       "                        <td id=\"T_a16c1_row1_col13\" class=\"data row1 col13\" >uncategorized</td>\n",
       "                        <td id=\"T_a16c1_row1_col14\" class=\"data row1 col14\" >v2</td>\n",
       "                        <td id=\"T_a16c1_row1_col15\" class=\"data row1 col15\" >f</td>\n",
       "            </tr>\n",
       "            <tr>\n",
       "                                <td id=\"T_a16c1_row2_col0\" class=\"data row2 col0\" >worldcup</td>\n",
       "                        <td id=\"T_a16c1_row2_col1\" class=\"data row2 col1\" >pg</td>\n",
       "                        <td id=\"T_a16c1_row2_col2\" class=\"data row2 col2\" >None</td>\n",
       "                        <td id=\"T_a16c1_row2_col3\" class=\"data row2 col3\" >World Cup</td>\n",
       "                        <td id=\"T_a16c1_row2_col4\" class=\"data row2 col4\" >English</td>\n",
       "                        <td id=\"T_a16c1_row2_col5\" class=\"data row2 col5\" >96.00%</td>\n",
       "                        <td id=\"T_a16c1_row2_col6\" class=\"data row2 col6\" >link</td>\n",
       "                        <td id=\"T_a16c1_row2_col7\" class=\"data row2 col7\" >49.14%</td>\n",
       "                        <td id=\"T_a16c1_row2_col8\" class=\"data row2 col8\" >49,226</td>\n",
       "                        <td id=\"T_a16c1_row2_col9\" class=\"data row2 col9\" >148</td>\n",
       "                        <td id=\"T_a16c1_row2_col10\" class=\"data row2 col10\" >1,071</td>\n",
       "                        <td id=\"T_a16c1_row2_col11\" class=\"data row2 col11\" >22</td>\n",
       "                        <td id=\"T_a16c1_row2_col12\" class=\"data row2 col12\" >True</td>\n",
       "                        <td id=\"T_a16c1_row2_col13\" class=\"data row2 col13\" >uncategorized</td>\n",
       "                        <td id=\"T_a16c1_row2_col14\" class=\"data row2 col14\" >v1</td>\n",
       "                        <td id=\"T_a16c1_row2_col15\" class=\"data row2 col15\" >f</td>\n",
       "            </tr>\n",
       "            <tr>\n",
       "                                <td id=\"T_a16c1_row3_col0\" class=\"data row3 col0\" >bundesliga</td>\n",
       "                        <td id=\"T_a16c1_row3_col1\" class=\"data row3 col1\" >pg13</td>\n",
       "                        <td id=\"T_a16c1_row3_col2\" class=\"data row3 col2\" >Sports</td>\n",
       "                        <td id=\"T_a16c1_row3_col3\" class=\"data row3 col3\" >German Bundesliga: News & Highlights</td>\n",
       "                        <td id=\"T_a16c1_row3_col4\" class=\"data row3 col4\" >English</td>\n",
       "                        <td id=\"T_a16c1_row3_col5\" class=\"data row3 col5\" >61.15%</td>\n",
       "                        <td id=\"T_a16c1_row3_col6\" class=\"data row3 col6\" >link</td>\n",
       "                        <td id=\"T_a16c1_row3_col7\" class=\"data row3 col7\" >59.71%</td>\n",
       "                        <td id=\"T_a16c1_row3_col8\" class=\"data row3 col8\" >27,771</td>\n",
       "                        <td id=\"T_a16c1_row3_col9\" class=\"data row3 col9\" >122</td>\n",
       "                        <td id=\"T_a16c1_row3_col10\" class=\"data row3 col10\" >1,537</td>\n",
       "                        <td id=\"T_a16c1_row3_col11\" class=\"data row3 col11\" >12</td>\n",
       "                        <td id=\"T_a16c1_row3_col12\" class=\"data row3 col12\" >True</td>\n",
       "                        <td id=\"T_a16c1_row3_col13\" class=\"data row3 col13\" >sports</td>\n",
       "                        <td id=\"T_a16c1_row3_col14\" class=\"data row3 col14\" >v1</td>\n",
       "                        <td id=\"T_a16c1_row3_col15\" class=\"data row3 col15\" >None</td>\n",
       "            </tr>\n",
       "            <tr>\n",
       "                                <td id=\"T_a16c1_row4_col0\" class=\"data row4 col0\" >borussiadortmund</td>\n",
       "                        <td id=\"T_a16c1_row4_col1\" class=\"data row4 col1\" >pg13</td>\n",
       "                        <td id=\"T_a16c1_row4_col2\" class=\"data row4 col2\" >None</td>\n",
       "                        <td id=\"T_a16c1_row4_col3\" class=\"data row4 col3\" >Borussia Dortmund</td>\n",
       "                        <td id=\"T_a16c1_row4_col4\" class=\"data row4 col4\" >English</td>\n",
       "                        <td id=\"T_a16c1_row4_col5\" class=\"data row4 col5\" >89.76%</td>\n",
       "                        <td id=\"T_a16c1_row4_col6\" class=\"data row4 col6\" >text</td>\n",
       "                        <td id=\"T_a16c1_row4_col7\" class=\"data row4 col7\" >40.00%</td>\n",
       "                        <td id=\"T_a16c1_row4_col8\" class=\"data row4 col8\" >27,412</td>\n",
       "                        <td id=\"T_a16c1_row4_col9\" class=\"data row4 col9\" >152</td>\n",
       "                        <td id=\"T_a16c1_row4_col10\" class=\"data row4 col10\" >4,064</td>\n",
       "                        <td id=\"T_a16c1_row4_col11\" class=\"data row4 col11\" >16</td>\n",
       "                        <td id=\"T_a16c1_row4_col12\" class=\"data row4 col12\" >True</td>\n",
       "                        <td id=\"T_a16c1_row4_col13\" class=\"data row4 col13\" >uncategorized</td>\n",
       "                        <td id=\"T_a16c1_row4_col14\" class=\"data row4 col14\" >v2</td>\n",
       "                        <td id=\"T_a16c1_row4_col15\" class=\"data row4 col15\" >f</td>\n",
       "            </tr>\n",
       "            <tr>\n",
       "                                <td id=\"T_a16c1_row5_col0\" class=\"data row5 col0\" >championsleague</td>\n",
       "                        <td id=\"T_a16c1_row5_col1\" class=\"data row5 col1\" >pg</td>\n",
       "                        <td id=\"T_a16c1_row5_col2\" class=\"data row5 col2\" >Sports</td>\n",
       "                        <td id=\"T_a16c1_row5_col3\" class=\"data row5 col3\" >UEFA Champions League</td>\n",
       "                        <td id=\"T_a16c1_row5_col4\" class=\"data row5 col4\" >English</td>\n",
       "                        <td id=\"T_a16c1_row5_col5\" class=\"data row5 col5\" >96.00%</td>\n",
       "                        <td id=\"T_a16c1_row5_col6\" class=\"data row5 col6\" >link</td>\n",
       "                        <td id=\"T_a16c1_row5_col7\" class=\"data row5 col7\" >56.00%</td>\n",
       "                        <td id=\"T_a16c1_row5_col8\" class=\"data row5 col8\" >8,972</td>\n",
       "                        <td id=\"T_a16c1_row5_col9\" class=\"data row5 col9\" >40</td>\n",
       "                        <td id=\"T_a16c1_row5_col10\" class=\"data row5 col10\" >109</td>\n",
       "                        <td id=\"T_a16c1_row5_col11\" class=\"data row5 col11\" >10</td>\n",
       "                        <td id=\"T_a16c1_row5_col12\" class=\"data row5 col12\" >True</td>\n",
       "                        <td id=\"T_a16c1_row5_col13\" class=\"data row5 col13\" >sports</td>\n",
       "                        <td id=\"T_a16c1_row5_col14\" class=\"data row5 col14\" >v3</td>\n",
       "                        <td id=\"T_a16c1_row5_col15\" class=\"data row5 col15\" >f</td>\n",
       "            </tr>\n",
       "            <tr>\n",
       "                                <td id=\"T_a16c1_row6_col0\" class=\"data row6 col0\" >euro</td>\n",
       "                        <td id=\"T_a16c1_row6_col1\" class=\"data row6 col1\" >None</td>\n",
       "                        <td id=\"T_a16c1_row6_col2\" class=\"data row6 col2\" >None</td>\n",
       "                        <td id=\"T_a16c1_row6_col3\" class=\"data row6 col3\" >Strictly Euro news</td>\n",
       "                        <td id=\"T_a16c1_row6_col4\" class=\"data row6 col4\" >English</td>\n",
       "                        <td id=\"T_a16c1_row6_col5\" class=\"data row6 col5\" >80.91%</td>\n",
       "                        <td id=\"T_a16c1_row6_col6\" class=\"data row6 col6\" >link</td>\n",
       "                        <td id=\"T_a16c1_row6_col7\" class=\"data row6 col7\" >56.36%</td>\n",
       "                        <td id=\"T_a16c1_row6_col8\" class=\"data row6 col8\" >8,883</td>\n",
       "                        <td id=\"T_a16c1_row6_col9\" class=\"data row6 col9\" >96</td>\n",
       "                        <td id=\"T_a16c1_row6_col10\" class=\"data row6 col10\" >89</td>\n",
       "                        <td id=\"T_a16c1_row6_col11\" class=\"data row6 col11\" >8</td>\n",
       "                        <td id=\"T_a16c1_row6_col12\" class=\"data row6 col12\" >True</td>\n",
       "                        <td id=\"T_a16c1_row6_col13\" class=\"data row6 col13\" >uncategorized</td>\n",
       "                        <td id=\"T_a16c1_row6_col14\" class=\"data row6 col14\" >None</td>\n",
       "                        <td id=\"T_a16c1_row6_col15\" class=\"data row6 col15\" >f</td>\n",
       "            </tr>\n",
       "            <tr>\n",
       "                                <td id=\"T_a16c1_row7_col0\" class=\"data row7 col0\" >futbol</td>\n",
       "                        <td id=\"T_a16c1_row7_col1\" class=\"data row7 col1\" >None</td>\n",
       "                        <td id=\"T_a16c1_row7_col2\" class=\"data row7 col2\" >None</td>\n",
       "                        <td id=\"T_a16c1_row7_col3\" class=\"data row7 col3\" >Todo sobre el fútbol mundial</td>\n",
       "                        <td id=\"T_a16c1_row7_col4\" class=\"data row7 col4\" >Turkish</td>\n",
       "                        <td id=\"T_a16c1_row7_col5\" class=\"data row7 col5\" >83.83%</td>\n",
       "                        <td id=\"T_a16c1_row7_col6\" class=\"data row7 col6\" >link</td>\n",
       "                        <td id=\"T_a16c1_row7_col7\" class=\"data row7 col7\" >92.25%</td>\n",
       "                        <td id=\"T_a16c1_row7_col8\" class=\"data row7 col8\" >6,656</td>\n",
       "                        <td id=\"T_a16c1_row7_col9\" class=\"data row7 col9\" >1,047</td>\n",
       "                        <td id=\"T_a16c1_row7_col10\" class=\"data row7 col10\" >79</td>\n",
       "                        <td id=\"T_a16c1_row7_col11\" class=\"data row7 col11\" >19</td>\n",
       "                        <td id=\"T_a16c1_row7_col12\" class=\"data row7 col12\" >True</td>\n",
       "                        <td id=\"T_a16c1_row7_col13\" class=\"data row7 col13\" >uncategorized</td>\n",
       "                        <td id=\"T_a16c1_row7_col14\" class=\"data row7 col14\" >None</td>\n",
       "                        <td id=\"T_a16c1_row7_col15\" class=\"data row7 col15\" >f</td>\n",
       "            </tr>\n",
       "            <tr>\n",
       "                                <td id=\"T_a16c1_row8_col0\" class=\"data row8 col0\" >fussball</td>\n",
       "                        <td id=\"T_a16c1_row8_col1\" class=\"data row8 col1\" >None</td>\n",
       "                        <td id=\"T_a16c1_row8_col2\" class=\"data row8 col2\" >None</td>\n",
       "                        <td id=\"T_a16c1_row8_col3\" class=\"data row8 col3\" >/r/fussball - Das deutschsprachige subreddit rund ums Thema Fußball</td>\n",
       "                        <td id=\"T_a16c1_row8_col4\" class=\"data row8 col4\" >German</td>\n",
       "                        <td id=\"T_a16c1_row8_col5\" class=\"data row8 col5\" >62.40%</td>\n",
       "                        <td id=\"T_a16c1_row8_col6\" class=\"data row8 col6\" >link</td>\n",
       "                        <td id=\"T_a16c1_row8_col7\" class=\"data row8 col7\" >47.57%</td>\n",
       "                        <td id=\"T_a16c1_row8_col8\" class=\"data row8 col8\" >4,180</td>\n",
       "                        <td id=\"T_a16c1_row8_col9\" class=\"data row8 col9\" >272</td>\n",
       "                        <td id=\"T_a16c1_row8_col10\" class=\"data row8 col10\" >527</td>\n",
       "                        <td id=\"T_a16c1_row8_col11\" class=\"data row8 col11\" >14</td>\n",
       "                        <td id=\"T_a16c1_row8_col12\" class=\"data row8 col12\" >True</td>\n",
       "                        <td id=\"T_a16c1_row8_col13\" class=\"data row8 col13\" >uncategorized</td>\n",
       "                        <td id=\"T_a16c1_row8_col14\" class=\"data row8 col14\" >None</td>\n",
       "                        <td id=\"T_a16c1_row8_col15\" class=\"data row8 col15\" >None</td>\n",
       "            </tr>\n",
       "            <tr>\n",
       "                                <td id=\"T_a16c1_row9_col0\" class=\"data row9 col0\" >schalke04</td>\n",
       "                        <td id=\"T_a16c1_row9_col1\" class=\"data row9 col1\" >pg</td>\n",
       "                        <td id=\"T_a16c1_row9_col2\" class=\"data row9 col2\" >None</td>\n",
       "                        <td id=\"T_a16c1_row9_col3\" class=\"data row9 col3\" >FC Schalke 04</td>\n",
       "                        <td id=\"T_a16c1_row9_col4\" class=\"data row9 col4\" >English</td>\n",
       "                        <td id=\"T_a16c1_row9_col5\" class=\"data row9 col5\" >72.82%</td>\n",
       "                        <td id=\"T_a16c1_row9_col6\" class=\"data row9 col6\" >link</td>\n",
       "                        <td id=\"T_a16c1_row9_col7\" class=\"data row9 col7\" >50.49%</td>\n",
       "                        <td id=\"T_a16c1_row9_col8\" class=\"data row9 col8\" >3,238</td>\n",
       "                        <td id=\"T_a16c1_row9_col9\" class=\"data row9 col9\" >66</td>\n",
       "                        <td id=\"T_a16c1_row9_col10\" class=\"data row9 col10\" >433</td>\n",
       "                        <td id=\"T_a16c1_row9_col11\" class=\"data row9 col11\" >12</td>\n",
       "                        <td id=\"T_a16c1_row9_col12\" class=\"data row9 col12\" >True</td>\n",
       "                        <td id=\"T_a16c1_row9_col13\" class=\"data row9 col13\" >uncategorized</td>\n",
       "                        <td id=\"T_a16c1_row9_col14\" class=\"data row9 col14\" >v1</td>\n",
       "                        <td id=\"T_a16c1_row9_col15\" class=\"data row9 col15\" >None</td>\n",
       "            </tr>\n",
       "            <tr>\n",
       "                                <td id=\"T_a16c1_row10_col0\" class=\"data row10 col0\" >vfbstuttgart</td>\n",
       "                        <td id=\"T_a16c1_row10_col1\" class=\"data row10 col1\" >pg</td>\n",
       "                        <td id=\"T_a16c1_row10_col2\" class=\"data row10 col2\" >None</td>\n",
       "                        <td id=\"T_a16c1_row10_col3\" class=\"data row10 col3\" >VfB Stuttgart</td>\n",
       "                        <td id=\"T_a16c1_row10_col4\" class=\"data row10 col4\" >English</td>\n",
       "                        <td id=\"T_a16c1_row10_col5\" class=\"data row10 col5\" >86.54%</td>\n",
       "                        <td id=\"T_a16c1_row10_col6\" class=\"data row10 col6\" >link</td>\n",
       "                        <td id=\"T_a16c1_row10_col7\" class=\"data row10 col7\" >59.62%</td>\n",
       "                        <td id=\"T_a16c1_row10_col8\" class=\"data row10 col8\" >2,834</td>\n",
       "                        <td id=\"T_a16c1_row10_col9\" class=\"data row10 col9\" >35</td>\n",
       "                        <td id=\"T_a16c1_row10_col10\" class=\"data row10 col10\" >200</td>\n",
       "                        <td id=\"T_a16c1_row10_col11\" class=\"data row10 col11\" >12</td>\n",
       "                        <td id=\"T_a16c1_row10_col12\" class=\"data row10 col12\" >True</td>\n",
       "                        <td id=\"T_a16c1_row10_col13\" class=\"data row10 col13\" >uncategorized</td>\n",
       "                        <td id=\"T_a16c1_row10_col14\" class=\"data row10 col14\" >v1</td>\n",
       "                        <td id=\"T_a16c1_row10_col15\" class=\"data row10 col15\" >None</td>\n",
       "            </tr>\n",
       "            <tr>\n",
       "                                <td id=\"T_a16c1_row11_col0\" class=\"data row11 col0\" >eintracht</td>\n",
       "                        <td id=\"T_a16c1_row11_col1\" class=\"data row11 col1\" >pg</td>\n",
       "                        <td id=\"T_a16c1_row11_col2\" class=\"data row11 col2\" >None</td>\n",
       "                        <td id=\"T_a16c1_row11_col3\" class=\"data row11 col3\" >Eintracht Frankfurt</td>\n",
       "                        <td id=\"T_a16c1_row11_col4\" class=\"data row11 col4\" >English</td>\n",
       "                        <td id=\"T_a16c1_row11_col5\" class=\"data row11 col5\" >62.50%</td>\n",
       "                        <td id=\"T_a16c1_row11_col6\" class=\"data row11 col6\" >link</td>\n",
       "                        <td id=\"T_a16c1_row11_col7\" class=\"data row11 col7\" >56.25%</td>\n",
       "                        <td id=\"T_a16c1_row11_col8\" class=\"data row11 col8\" >2,263</td>\n",
       "                        <td id=\"T_a16c1_row11_col9\" class=\"data row11 col9\" >28</td>\n",
       "                        <td id=\"T_a16c1_row11_col10\" class=\"data row11 col10\" >141</td>\n",
       "                        <td id=\"T_a16c1_row11_col11\" class=\"data row11 col11\" >9</td>\n",
       "                        <td id=\"T_a16c1_row11_col12\" class=\"data row11 col12\" >True</td>\n",
       "                        <td id=\"T_a16c1_row11_col13\" class=\"data row11 col13\" >uncategorized</td>\n",
       "                        <td id=\"T_a16c1_row11_col14\" class=\"data row11 col14\" >v2</td>\n",
       "                        <td id=\"T_a16c1_row11_col15\" class=\"data row11 col15\" >None</td>\n",
       "            </tr>\n",
       "            <tr>\n",
       "                                <td id=\"T_a16c1_row12_col0\" class=\"data row12 col0\" >effzeh</td>\n",
       "                        <td id=\"T_a16c1_row12_col1\" class=\"data row12 col1\" >pg</td>\n",
       "                        <td id=\"T_a16c1_row12_col2\" class=\"data row12 col2\" >None</td>\n",
       "                        <td id=\"T_a16c1_row12_col3\" class=\"data row12 col3\" >Üvverall jitt et Fans vum FC Kölle</td>\n",
       "                        <td id=\"T_a16c1_row12_col4\" class=\"data row12 col4\" >English</td>\n",
       "                        <td id=\"T_a16c1_row12_col5\" class=\"data row12 col5\" >93.65%</td>\n",
       "                        <td id=\"T_a16c1_row12_col6\" class=\"data row12 col6\" >link</td>\n",
       "                        <td id=\"T_a16c1_row12_col7\" class=\"data row12 col7\" >73.02%</td>\n",
       "                        <td id=\"T_a16c1_row12_col8\" class=\"data row12 col8\" >1,822</td>\n",
       "                        <td id=\"T_a16c1_row12_col9\" class=\"data row12 col9\" >44</td>\n",
       "                        <td id=\"T_a16c1_row12_col10\" class=\"data row12 col10\" >219</td>\n",
       "                        <td id=\"T_a16c1_row12_col11\" class=\"data row12 col11\" >14</td>\n",
       "                        <td id=\"T_a16c1_row12_col12\" class=\"data row12 col12\" >True</td>\n",
       "                        <td id=\"T_a16c1_row12_col13\" class=\"data row12 col13\" >uncategorized</td>\n",
       "                        <td id=\"T_a16c1_row12_col14\" class=\"data row12 col14\" >v1</td>\n",
       "                        <td id=\"T_a16c1_row12_col15\" class=\"data row12 col15\" >None</td>\n",
       "            </tr>\n",
       "            <tr>\n",
       "                                <td id=\"T_a16c1_row13_col0\" class=\"data row13 col0\" >herthabsc</td>\n",
       "                        <td id=\"T_a16c1_row13_col1\" class=\"data row13 col1\" >pg</td>\n",
       "                        <td id=\"T_a16c1_row13_col2\" class=\"data row13 col2\" >Sports</td>\n",
       "                        <td id=\"T_a16c1_row13_col3\" class=\"data row13 col3\" >Hertha BSC</td>\n",
       "                        <td id=\"T_a16c1_row13_col4\" class=\"data row13 col4\" >English</td>\n",
       "                        <td id=\"T_a16c1_row13_col5\" class=\"data row13 col5\" >59.46%</td>\n",
       "                        <td id=\"T_a16c1_row13_col6\" class=\"data row13 col6\" >link</td>\n",
       "                        <td id=\"T_a16c1_row13_col7\" class=\"data row13 col7\" >70.27%</td>\n",
       "                        <td id=\"T_a16c1_row13_col8\" class=\"data row13 col8\" >1,793</td>\n",
       "                        <td id=\"T_a16c1_row13_col9\" class=\"data row13 col9\" >25</td>\n",
       "                        <td id=\"T_a16c1_row13_col10\" class=\"data row13 col10\" >138</td>\n",
       "                        <td id=\"T_a16c1_row13_col11\" class=\"data row13 col11\" >14</td>\n",
       "                        <td id=\"T_a16c1_row13_col12\" class=\"data row13 col12\" >True</td>\n",
       "                        <td id=\"T_a16c1_row13_col13\" class=\"data row13 col13\" >sports</td>\n",
       "                        <td id=\"T_a16c1_row13_col14\" class=\"data row13 col14\" >v3</td>\n",
       "                        <td id=\"T_a16c1_row13_col15\" class=\"data row13 col15\" >None</td>\n",
       "            </tr>\n",
       "            <tr>\n",
       "                                <td id=\"T_a16c1_row14_col0\" class=\"data row14 col0\" >hsv</td>\n",
       "                        <td id=\"T_a16c1_row14_col1\" class=\"data row14 col1\" >pg</td>\n",
       "                        <td id=\"T_a16c1_row14_col2\" class=\"data row14 col2\" >None</td>\n",
       "                        <td id=\"T_a16c1_row14_col3\" class=\"data row14 col3\" >Hamburger SV - der Dino</td>\n",
       "                        <td id=\"T_a16c1_row14_col4\" class=\"data row14 col4\" >English</td>\n",
       "                        <td id=\"T_a16c1_row14_col5\" class=\"data row14 col5\" >54.55%</td>\n",
       "                        <td id=\"T_a16c1_row14_col6\" class=\"data row14 col6\" >link</td>\n",
       "                        <td id=\"T_a16c1_row14_col7\" class=\"data row14 col7\" >63.64%</td>\n",
       "                        <td id=\"T_a16c1_row14_col8\" class=\"data row14 col8\" >1,731</td>\n",
       "                        <td id=\"T_a16c1_row14_col9\" class=\"data row14 col9\" >15</td>\n",
       "                        <td id=\"T_a16c1_row14_col10\" class=\"data row14 col10\" >46</td>\n",
       "                        <td id=\"T_a16c1_row14_col11\" class=\"data row14 col11\" >10</td>\n",
       "                        <td id=\"T_a16c1_row14_col12\" class=\"data row14 col12\" >True</td>\n",
       "                        <td id=\"T_a16c1_row14_col13\" class=\"data row14 col13\" >uncategorized</td>\n",
       "                        <td id=\"T_a16c1_row14_col14\" class=\"data row14 col14\" >v2</td>\n",
       "                        <td id=\"T_a16c1_row14_col15\" class=\"data row14 col15\" >f</td>\n",
       "            </tr>\n",
       "    </tbody></table>"
      ],
      "text/plain": [
       "<pandas.io.formats.style.Styler at 0x7f2be48c49d0>"
      ]
     },
     "metadata": {},
     "output_type": "display_data"
    },
    {
     "name": "stderr",
     "output_type": "stream",
     "text": [
      "/opt/conda/lib/python3.7/site-packages/ipykernel_launcher.py:65: SettingWithCopyWarning:\n",
      "\n",
      "\n",
      "A value is trying to be set on a copy of a slice from a DataFrame.\n",
      "Try using .loc[row_indexer,col_indexer] = value instead\n",
      "\n",
      "See the caveats in the documentation: https://pandas.pydata.org/pandas-docs/stable/user_guide/indexing.html#returning-a-view-versus-a-copy\n",
      "\n"
     ]
    },
    {
     "data": {
      "application/vnd.plotly.v1+json": {
       "config": {
        "plotlyServerURL": "https://plot.ly"
       },
       "data": [
        {
         "customdata": [
          [
           "american_football",
           "uncategorized"
          ],
          [
           "elf",
           "uncategorized"
          ],
          [
           "sports",
           "uncategorized"
          ]
         ],
         "hovertemplate": "subreddit name: %{customdata[0]}<br>subreddit manual label: %{customdata[1]}",
         "legendgroup": "13",
         "marker": {
          "color": "#636efa",
          "size": [
           1098.8684686772165,
           1199.964773652837,
           2142.3899150747543
          ],
          "sizemode": "area",
          "sizeref": 5.453776037675523,
          "symbol": "circle"
         },
         "mode": "markers+text",
         "name": "13",
         "scene": "scene",
         "showlegend": true,
         "text": [
          "",
          "",
          ""
         ],
         "type": "scatter3d",
         "x": [
          0.11774338826970787,
          0.012323139946631007,
          0.10414959667312279
         ],
         "y": [
          0.18558960325725765,
          0.2373386973335156,
          0.1563084254357785
         ],
         "z": [
          -0.23513861145102094,
          -0.1639774972931096,
          -0.1664282588598927
         ]
        },
        {
         "customdata": [
          [
           "football",
           "uncategorized"
          ],
          [
           "fussball",
           "uncategorized"
          ],
          [
           "futbol",
           "uncategorized"
          ],
          [
           "soccer",
           "uncategorized"
          ],
          [
           "worldcup",
           "uncategorized"
          ],
          [
           "effzeh",
           "uncategorized"
          ],
          [
           "euro",
           "uncategorized"
          ],
          [
           "fifa_de",
           "uncategorized"
          ],
          [
           "fohlenelf",
           "uncategorized"
          ],
          [
           "borussiadortmund",
           "uncategorized"
          ],
          [
           "vfbstuttgart",
           "uncategorized"
          ],
          [
           "herthabsc",
           "sports"
          ],
          [
           "svw",
           "uncategorized"
          ],
          [
           "1fcnuernberg",
           "uncategorized"
          ],
          [
           "fiorentina",
           "sports"
          ],
          [
           "bundesliga",
           "sports"
          ],
          [
           "eintracht",
           "uncategorized"
          ],
          [
           "schalke04",
           "uncategorized"
          ],
          [
           "hsv",
           "uncategorized"
          ],
          [
           "championsleague",
           "sports"
          ],
          [
           "kickbasemanager",
           "uncategorized"
          ]
         ],
         "hovertemplate": "subreddit name: %{customdata[0]}<br>subreddit manual label: %{customdata[1]}",
         "legendgroup": "81",
         "marker": {
          "color": "#EF553B",
          "size": [
           1850.5389021281694,
           1202.9632328044138,
           1270.0656452918167,
           2181.510415070209,
           1558.7162200840667,
           1083.2098846039135,
           1311.6993677546982,
           882.9722735086058,
           1048.1799431665752,
           1474.2572600755364,
           1146.9133019829592,
           1080.896417491926,
           956.4149489985732,
           1015.4818109052105,
           1000.1408194392809,
           1476.1343456100649,
           1114.4658242831883,
           1166.1332752795186,
           1075.8223214726725,
           1313.137469584051,
           1005.1208940914765
          ],
          "sizemode": "area",
          "sizeref": 5.453776037675523,
          "symbol": "circle"
         },
         "mode": "markers+text",
         "name": "81",
         "scene": "scene",
         "showlegend": true,
         "text": [
          "",
          "fussball",
          "",
          "",
          "worldcup",
          "",
          "euro",
          "fifa_de",
          "fohlenelf",
          "borussiadortmund",
          "",
          "",
          "",
          "",
          "",
          "bundesliga",
          "",
          "",
          "",
          "",
          ""
         ],
         "type": "scatter3d",
         "x": [
          0.020662139611610206,
          0.04685426627047581,
          0.0013851844719071256,
          0.04549106920386397,
          0.009935484447356051,
          0.046519109604014806,
          0.08565135674827991,
          0.0354399223828629,
          0.08859349341135933,
          0.04650504913849672,
          0.05979955859363552,
          0.0286663378007666,
          0.01703749072243469,
          0.0987126202758912,
          0.049657574712908145,
          0.03590269266389566,
          0.07029951025399306,
          0.06032903760096241,
          0.043651888162633476,
          0.10028231153011885,
          -0.0835083760641299
         ],
         "y": [
          0.20409133524374407,
          0.18811370044537312,
          0.11667431010869966,
          0.19159499089896997,
          0.18839967617005848,
          0.17244813148877752,
          0.1669487841791329,
          0.23885399466798513,
          0.17716854718019448,
          0.23209820963362612,
          0.18171579304966035,
          0.2126510597988852,
          0.19169809651658354,
          0.17127373466213094,
          0.17721445831230226,
          0.20883073644707484,
          0.18782346811898867,
          0.21438896561692705,
          0.17818449410503262,
          0.2176859356429224,
          0.2813313659311435
         ],
         "z": [
          -0.13380553568939507,
          -0.1658327642853209,
          -0.1220839812335936,
          -0.14595747635464246,
          -0.1471508946921924,
          -0.17045389088256105,
          -0.1172040061487943,
          -0.07814966220557307,
          -0.1586101079522621,
          -0.08949133816282534,
          -0.15005692936046283,
          -0.14597329233587447,
          -0.12546633790578832,
          -0.13590017574775523,
          -0.10769911847428812,
          -0.16535618840246386,
          -0.09831547619380838,
          -0.13984000225523666,
          -0.12307383242945841,
          -0.13875472021176846,
          -0.0334158584617488
         ]
        }
       ],
       "layout": {
        "height": 600,
        "legend": {
         "itemsizing": "constant",
         "title": {
          "text": "cluster_id_agg_ward_cosine_200"
         },
         "tracegroupgap": 0
        },
        "margin": {
         "t": 60
        },
        "scene": {
         "aspectmode": "auto",
         "aspectratio": {
          "x": 1.0683528680229,
          "y": 0.8740884255618789,
          "z": 1.0708531297349158
         },
         "domain": {
          "x": [
           0,
           1
          ],
          "y": [
           0,
           1
          ]
         },
         "xaxis": {
          "title": {
           "text": "svd_1"
          },
          "type": "linear"
         },
         "yaxis": {
          "title": {
           "text": "svd_0"
          },
          "type": "linear"
         },
         "zaxis": {
          "title": {
           "text": "svd_2"
          },
          "type": "linear"
         }
        },
        "template": {
         "data": {
          "bar": [
           {
            "error_x": {
             "color": "#2a3f5f"
            },
            "error_y": {
             "color": "#2a3f5f"
            },
            "marker": {
             "line": {
              "color": "#E5ECF6",
              "width": 0.5
             }
            },
            "type": "bar"
           }
          ],
          "barpolar": [
           {
            "marker": {
             "line": {
              "color": "#E5ECF6",
              "width": 0.5
             }
            },
            "type": "barpolar"
           }
          ],
          "carpet": [
           {
            "aaxis": {
             "endlinecolor": "#2a3f5f",
             "gridcolor": "white",
             "linecolor": "white",
             "minorgridcolor": "white",
             "startlinecolor": "#2a3f5f"
            },
            "baxis": {
             "endlinecolor": "#2a3f5f",
             "gridcolor": "white",
             "linecolor": "white",
             "minorgridcolor": "white",
             "startlinecolor": "#2a3f5f"
            },
            "type": "carpet"
           }
          ],
          "choropleth": [
           {
            "colorbar": {
             "outlinewidth": 0,
             "ticks": ""
            },
            "type": "choropleth"
           }
          ],
          "contour": [
           {
            "colorbar": {
             "outlinewidth": 0,
             "ticks": ""
            },
            "colorscale": [
             [
              0,
              "#0d0887"
             ],
             [
              0.1111111111111111,
              "#46039f"
             ],
             [
              0.2222222222222222,
              "#7201a8"
             ],
             [
              0.3333333333333333,
              "#9c179e"
             ],
             [
              0.4444444444444444,
              "#bd3786"
             ],
             [
              0.5555555555555556,
              "#d8576b"
             ],
             [
              0.6666666666666666,
              "#ed7953"
             ],
             [
              0.7777777777777778,
              "#fb9f3a"
             ],
             [
              0.8888888888888888,
              "#fdca26"
             ],
             [
              1,
              "#f0f921"
             ]
            ],
            "type": "contour"
           }
          ],
          "contourcarpet": [
           {
            "colorbar": {
             "outlinewidth": 0,
             "ticks": ""
            },
            "type": "contourcarpet"
           }
          ],
          "heatmap": [
           {
            "colorbar": {
             "outlinewidth": 0,
             "ticks": ""
            },
            "colorscale": [
             [
              0,
              "#0d0887"
             ],
             [
              0.1111111111111111,
              "#46039f"
             ],
             [
              0.2222222222222222,
              "#7201a8"
             ],
             [
              0.3333333333333333,
              "#9c179e"
             ],
             [
              0.4444444444444444,
              "#bd3786"
             ],
             [
              0.5555555555555556,
              "#d8576b"
             ],
             [
              0.6666666666666666,
              "#ed7953"
             ],
             [
              0.7777777777777778,
              "#fb9f3a"
             ],
             [
              0.8888888888888888,
              "#fdca26"
             ],
             [
              1,
              "#f0f921"
             ]
            ],
            "type": "heatmap"
           }
          ],
          "heatmapgl": [
           {
            "colorbar": {
             "outlinewidth": 0,
             "ticks": ""
            },
            "colorscale": [
             [
              0,
              "#0d0887"
             ],
             [
              0.1111111111111111,
              "#46039f"
             ],
             [
              0.2222222222222222,
              "#7201a8"
             ],
             [
              0.3333333333333333,
              "#9c179e"
             ],
             [
              0.4444444444444444,
              "#bd3786"
             ],
             [
              0.5555555555555556,
              "#d8576b"
             ],
             [
              0.6666666666666666,
              "#ed7953"
             ],
             [
              0.7777777777777778,
              "#fb9f3a"
             ],
             [
              0.8888888888888888,
              "#fdca26"
             ],
             [
              1,
              "#f0f921"
             ]
            ],
            "type": "heatmapgl"
           }
          ],
          "histogram": [
           {
            "marker": {
             "colorbar": {
              "outlinewidth": 0,
              "ticks": ""
             }
            },
            "type": "histogram"
           }
          ],
          "histogram2d": [
           {
            "colorbar": {
             "outlinewidth": 0,
             "ticks": ""
            },
            "colorscale": [
             [
              0,
              "#0d0887"
             ],
             [
              0.1111111111111111,
              "#46039f"
             ],
             [
              0.2222222222222222,
              "#7201a8"
             ],
             [
              0.3333333333333333,
              "#9c179e"
             ],
             [
              0.4444444444444444,
              "#bd3786"
             ],
             [
              0.5555555555555556,
              "#d8576b"
             ],
             [
              0.6666666666666666,
              "#ed7953"
             ],
             [
              0.7777777777777778,
              "#fb9f3a"
             ],
             [
              0.8888888888888888,
              "#fdca26"
             ],
             [
              1,
              "#f0f921"
             ]
            ],
            "type": "histogram2d"
           }
          ],
          "histogram2dcontour": [
           {
            "colorbar": {
             "outlinewidth": 0,
             "ticks": ""
            },
            "colorscale": [
             [
              0,
              "#0d0887"
             ],
             [
              0.1111111111111111,
              "#46039f"
             ],
             [
              0.2222222222222222,
              "#7201a8"
             ],
             [
              0.3333333333333333,
              "#9c179e"
             ],
             [
              0.4444444444444444,
              "#bd3786"
             ],
             [
              0.5555555555555556,
              "#d8576b"
             ],
             [
              0.6666666666666666,
              "#ed7953"
             ],
             [
              0.7777777777777778,
              "#fb9f3a"
             ],
             [
              0.8888888888888888,
              "#fdca26"
             ],
             [
              1,
              "#f0f921"
             ]
            ],
            "type": "histogram2dcontour"
           }
          ],
          "mesh3d": [
           {
            "colorbar": {
             "outlinewidth": 0,
             "ticks": ""
            },
            "type": "mesh3d"
           }
          ],
          "parcoords": [
           {
            "line": {
             "colorbar": {
              "outlinewidth": 0,
              "ticks": ""
             }
            },
            "type": "parcoords"
           }
          ],
          "pie": [
           {
            "automargin": true,
            "type": "pie"
           }
          ],
          "scatter": [
           {
            "marker": {
             "colorbar": {
              "outlinewidth": 0,
              "ticks": ""
             }
            },
            "type": "scatter"
           }
          ],
          "scatter3d": [
           {
            "line": {
             "colorbar": {
              "outlinewidth": 0,
              "ticks": ""
             }
            },
            "marker": {
             "colorbar": {
              "outlinewidth": 0,
              "ticks": ""
             }
            },
            "type": "scatter3d"
           }
          ],
          "scattercarpet": [
           {
            "marker": {
             "colorbar": {
              "outlinewidth": 0,
              "ticks": ""
             }
            },
            "type": "scattercarpet"
           }
          ],
          "scattergeo": [
           {
            "marker": {
             "colorbar": {
              "outlinewidth": 0,
              "ticks": ""
             }
            },
            "type": "scattergeo"
           }
          ],
          "scattergl": [
           {
            "marker": {
             "colorbar": {
              "outlinewidth": 0,
              "ticks": ""
             }
            },
            "type": "scattergl"
           }
          ],
          "scattermapbox": [
           {
            "marker": {
             "colorbar": {
              "outlinewidth": 0,
              "ticks": ""
             }
            },
            "type": "scattermapbox"
           }
          ],
          "scatterpolar": [
           {
            "marker": {
             "colorbar": {
              "outlinewidth": 0,
              "ticks": ""
             }
            },
            "type": "scatterpolar"
           }
          ],
          "scatterpolargl": [
           {
            "marker": {
             "colorbar": {
              "outlinewidth": 0,
              "ticks": ""
             }
            },
            "type": "scatterpolargl"
           }
          ],
          "scatterternary": [
           {
            "marker": {
             "colorbar": {
              "outlinewidth": 0,
              "ticks": ""
             }
            },
            "type": "scatterternary"
           }
          ],
          "surface": [
           {
            "colorbar": {
             "outlinewidth": 0,
             "ticks": ""
            },
            "colorscale": [
             [
              0,
              "#0d0887"
             ],
             [
              0.1111111111111111,
              "#46039f"
             ],
             [
              0.2222222222222222,
              "#7201a8"
             ],
             [
              0.3333333333333333,
              "#9c179e"
             ],
             [
              0.4444444444444444,
              "#bd3786"
             ],
             [
              0.5555555555555556,
              "#d8576b"
             ],
             [
              0.6666666666666666,
              "#ed7953"
             ],
             [
              0.7777777777777778,
              "#fb9f3a"
             ],
             [
              0.8888888888888888,
              "#fdca26"
             ],
             [
              1,
              "#f0f921"
             ]
            ],
            "type": "surface"
           }
          ],
          "table": [
           {
            "cells": {
             "fill": {
              "color": "#EBF0F8"
             },
             "line": {
              "color": "white"
             }
            },
            "header": {
             "fill": {
              "color": "#C8D4E3"
             },
             "line": {
              "color": "white"
             }
            },
            "type": "table"
           }
          ]
         },
         "layout": {
          "annotationdefaults": {
           "arrowcolor": "#2a3f5f",
           "arrowhead": 0,
           "arrowwidth": 1
          },
          "autotypenumbers": "strict",
          "coloraxis": {
           "colorbar": {
            "outlinewidth": 0,
            "ticks": ""
           }
          },
          "colorscale": {
           "diverging": [
            [
             0,
             "#8e0152"
            ],
            [
             0.1,
             "#c51b7d"
            ],
            [
             0.2,
             "#de77ae"
            ],
            [
             0.3,
             "#f1b6da"
            ],
            [
             0.4,
             "#fde0ef"
            ],
            [
             0.5,
             "#f7f7f7"
            ],
            [
             0.6,
             "#e6f5d0"
            ],
            [
             0.7,
             "#b8e186"
            ],
            [
             0.8,
             "#7fbc41"
            ],
            [
             0.9,
             "#4d9221"
            ],
            [
             1,
             "#276419"
            ]
           ],
           "sequential": [
            [
             0,
             "#0d0887"
            ],
            [
             0.1111111111111111,
             "#46039f"
            ],
            [
             0.2222222222222222,
             "#7201a8"
            ],
            [
             0.3333333333333333,
             "#9c179e"
            ],
            [
             0.4444444444444444,
             "#bd3786"
            ],
            [
             0.5555555555555556,
             "#d8576b"
            ],
            [
             0.6666666666666666,
             "#ed7953"
            ],
            [
             0.7777777777777778,
             "#fb9f3a"
            ],
            [
             0.8888888888888888,
             "#fdca26"
            ],
            [
             1,
             "#f0f921"
            ]
           ],
           "sequentialminus": [
            [
             0,
             "#0d0887"
            ],
            [
             0.1111111111111111,
             "#46039f"
            ],
            [
             0.2222222222222222,
             "#7201a8"
            ],
            [
             0.3333333333333333,
             "#9c179e"
            ],
            [
             0.4444444444444444,
             "#bd3786"
            ],
            [
             0.5555555555555556,
             "#d8576b"
            ],
            [
             0.6666666666666666,
             "#ed7953"
            ],
            [
             0.7777777777777778,
             "#fb9f3a"
            ],
            [
             0.8888888888888888,
             "#fdca26"
            ],
            [
             1,
             "#f0f921"
            ]
           ]
          },
          "colorway": [
           "#636efa",
           "#EF553B",
           "#00cc96",
           "#ab63fa",
           "#FFA15A",
           "#19d3f3",
           "#FF6692",
           "#B6E880",
           "#FF97FF",
           "#FECB52"
          ],
          "font": {
           "color": "#2a3f5f"
          },
          "geo": {
           "bgcolor": "white",
           "lakecolor": "white",
           "landcolor": "#E5ECF6",
           "showlakes": true,
           "showland": true,
           "subunitcolor": "white"
          },
          "hoverlabel": {
           "align": "left"
          },
          "hovermode": "closest",
          "mapbox": {
           "style": "light"
          },
          "paper_bgcolor": "white",
          "plot_bgcolor": "#E5ECF6",
          "polar": {
           "angularaxis": {
            "gridcolor": "white",
            "linecolor": "white",
            "ticks": ""
           },
           "bgcolor": "#E5ECF6",
           "radialaxis": {
            "gridcolor": "white",
            "linecolor": "white",
            "ticks": ""
           }
          },
          "scene": {
           "xaxis": {
            "backgroundcolor": "#E5ECF6",
            "gridcolor": "white",
            "gridwidth": 2,
            "linecolor": "white",
            "showbackground": true,
            "ticks": "",
            "zerolinecolor": "white"
           },
           "yaxis": {
            "backgroundcolor": "#E5ECF6",
            "gridcolor": "white",
            "gridwidth": 2,
            "linecolor": "white",
            "showbackground": true,
            "ticks": "",
            "zerolinecolor": "white"
           },
           "zaxis": {
            "backgroundcolor": "#E5ECF6",
            "gridcolor": "white",
            "gridwidth": 2,
            "linecolor": "white",
            "showbackground": true,
            "ticks": "",
            "zerolinecolor": "white"
           }
          },
          "shapedefaults": {
           "line": {
            "color": "#2a3f5f"
           }
          },
          "ternary": {
           "aaxis": {
            "gridcolor": "white",
            "linecolor": "white",
            "ticks": ""
           },
           "baxis": {
            "gridcolor": "white",
            "linecolor": "white",
            "ticks": ""
           },
           "bgcolor": "#E5ECF6",
           "caxis": {
            "gridcolor": "white",
            "linecolor": "white",
            "ticks": ""
           }
          },
          "title": {
           "x": 0.05
          },
          "xaxis": {
           "automargin": true,
           "gridcolor": "white",
           "linecolor": "white",
           "ticks": "",
           "title": {
            "standoff": 15
           },
           "zerolinecolor": "white",
           "zerolinewidth": 2
          },
          "yaxis": {
           "automargin": true,
           "gridcolor": "white",
           "linecolor": "white",
           "ticks": "",
           "title": {
            "standoff": 15
           },
           "zerolinecolor": "white",
           "zerolinewidth": 2
          }
         }
        },
        "title": {
         "text": "Most similar subreddits to <i>r/bundesliga</i><br>From 3,767 subreddits",
         "x": 0.5
        },
        "width": 800
       }
      },
      "image/png": "[encoded data removed]",
      "text/html": [
       "<div>                            <div id=\"cc5c9e9b-c6eb-4df6-a5ce-f63d1185f2de\" class=\"plotly-graph-div\" style=\"height:600px; width:800px;\"></div>            <script type=\"text/javascript\">                require([\"plotly\"], function(Plotly) {                    window.PLOTLYENV=window.PLOTLYENV || {};                                    if (document.getElementById(\"cc5c9e9b-c6eb-4df6-a5ce-f63d1185f2de\")) {                    Plotly.newPlot(                        \"cc5c9e9b-c6eb-4df6-a5ce-f63d1185f2de\",                        [{\"customdata\": [[\"american_football\", \"uncategorized\"], [\"elf\", \"uncategorized\"], [\"sports\", \"uncategorized\"]], \"hovertemplate\": \"subreddit name: %{customdata[0]}<br>subreddit manual label: %{customdata[1]}\", \"legendgroup\": \"13\", \"marker\": {\"color\": \"#636efa\", \"size\": [1098.8684686772165, 1199.964773652837, 2142.3899150747543], \"sizemode\": \"area\", \"sizeref\": 5.453776037675523, \"symbol\": \"circle\"}, \"mode\": \"markers+text\", \"name\": \"13\", \"scene\": \"scene\", \"showlegend\": true, \"text\": [\"\", \"\", \"\"], \"type\": \"scatter3d\", \"x\": [0.11774338826970787, 0.012323139946631007, 0.10414959667312279], \"y\": [0.18558960325725765, 0.2373386973335156, 0.1563084254357785], \"z\": [-0.23513861145102094, -0.1639774972931096, -0.1664282588598927]}, {\"customdata\": [[\"football\", \"uncategorized\"], [\"fussball\", \"uncategorized\"], [\"futbol\", \"uncategorized\"], [\"soccer\", \"uncategorized\"], [\"worldcup\", \"uncategorized\"], [\"effzeh\", \"uncategorized\"], [\"euro\", \"uncategorized\"], [\"fifa_de\", \"uncategorized\"], [\"fohlenelf\", \"uncategorized\"], [\"borussiadortmund\", \"uncategorized\"], [\"vfbstuttgart\", \"uncategorized\"], [\"herthabsc\", \"sports\"], [\"svw\", \"uncategorized\"], [\"1fcnuernberg\", \"uncategorized\"], [\"fiorentina\", \"sports\"], [\"bundesliga\", \"sports\"], [\"eintracht\", \"uncategorized\"], [\"schalke04\", \"uncategorized\"], [\"hsv\", \"uncategorized\"], [\"championsleague\", \"sports\"], [\"kickbasemanager\", \"uncategorized\"]], \"hovertemplate\": \"subreddit name: %{customdata[0]}<br>subreddit manual label: %{customdata[1]}\", \"legendgroup\": \"81\", \"marker\": {\"color\": \"#EF553B\", \"size\": [1850.5389021281694, 1202.9632328044138, 1270.0656452918167, 2181.510415070209, 1558.7162200840667, 1083.2098846039135, 1311.6993677546982, 882.9722735086058, 1048.1799431665752, 1474.2572600755364, 1146.9133019829592, 1080.896417491926, 956.4149489985732, 1015.4818109052105, 1000.1408194392809, 1476.1343456100649, 1114.4658242831883, 1166.1332752795186, 1075.8223214726725, 1313.137469584051, 1005.1208940914765], \"sizemode\": \"area\", \"sizeref\": 5.453776037675523, \"symbol\": \"circle\"}, \"mode\": \"markers+text\", \"name\": \"81\", \"scene\": \"scene\", \"showlegend\": true, \"text\": [\"\", \"fussball\", \"\", \"\", \"worldcup\", \"\", \"euro\", \"fifa_de\", \"fohlenelf\", \"borussiadortmund\", \"\", \"\", \"\", \"\", \"\", \"bundesliga\", \"\", \"\", \"\", \"\", \"\"], \"type\": \"scatter3d\", \"x\": [0.020662139611610206, 0.04685426627047581, 0.0013851844719071256, 0.04549106920386397, 0.009935484447356051, 0.046519109604014806, 0.08565135674827991, 0.0354399223828629, 0.08859349341135933, 0.04650504913849672, 0.05979955859363552, 0.0286663378007666, 0.01703749072243469, 0.0987126202758912, 0.049657574712908145, 0.03590269266389566, 0.07029951025399306, 0.06032903760096241, 0.043651888162633476, 0.10028231153011885, -0.0835083760641299], \"y\": [0.20409133524374407, 0.18811370044537312, 0.11667431010869966, 0.19159499089896997, 0.18839967617005848, 0.17244813148877752, 0.1669487841791329, 0.23885399466798513, 0.17716854718019448, 0.23209820963362612, 0.18171579304966035, 0.2126510597988852, 0.19169809651658354, 0.17127373466213094, 0.17721445831230226, 0.20883073644707484, 0.18782346811898867, 0.21438896561692705, 0.17818449410503262, 0.2176859356429224, 0.2813313659311435], \"z\": [-0.13380553568939507, -0.1658327642853209, -0.1220839812335936, -0.14595747635464246, -0.1471508946921924, -0.17045389088256105, -0.1172040061487943, -0.07814966220557307, -0.1586101079522621, -0.08949133816282534, -0.15005692936046283, -0.14597329233587447, -0.12546633790578832, -0.13590017574775523, -0.10769911847428812, -0.16535618840246386, -0.09831547619380838, -0.13984000225523666, -0.12307383242945841, -0.13875472021176846, -0.0334158584617488]}],                        {\"height\": 600, \"legend\": {\"itemsizing\": \"constant\", \"title\": {\"text\": \"cluster_id_agg_ward_cosine_200\"}, \"tracegroupgap\": 0}, \"margin\": {\"t\": 60}, \"scene\": {\"domain\": {\"x\": [0.0, 1.0], \"y\": [0.0, 1.0]}, \"xaxis\": {\"title\": {\"text\": \"svd_1\"}}, \"yaxis\": {\"title\": {\"text\": \"svd_0\"}}, \"zaxis\": {\"title\": {\"text\": \"svd_2\"}}}, \"template\": {\"data\": {\"bar\": [{\"error_x\": {\"color\": \"#2a3f5f\"}, \"error_y\": {\"color\": \"#2a3f5f\"}, \"marker\": {\"line\": {\"color\": \"#E5ECF6\", \"width\": 0.5}}, \"type\": \"bar\"}], \"barpolar\": [{\"marker\": {\"line\": {\"color\": \"#E5ECF6\", \"width\": 0.5}}, \"type\": \"barpolar\"}], \"carpet\": [{\"aaxis\": {\"endlinecolor\": \"#2a3f5f\", \"gridcolor\": \"white\", \"linecolor\": \"white\", \"minorgridcolor\": \"white\", \"startlinecolor\": \"#2a3f5f\"}, \"baxis\": {\"endlinecolor\": \"#2a3f5f\", \"gridcolor\": \"white\", \"linecolor\": \"white\", \"minorgridcolor\": \"white\", \"startlinecolor\": \"#2a3f5f\"}, \"type\": \"carpet\"}], \"choropleth\": [{\"colorbar\": {\"outlinewidth\": 0, \"ticks\": \"\"}, \"type\": \"choropleth\"}], \"contour\": [{\"colorbar\": {\"outlinewidth\": 0, \"ticks\": \"\"}, \"colorscale\": [[0.0, \"#0d0887\"], [0.1111111111111111, \"#46039f\"], [0.2222222222222222, \"#7201a8\"], [0.3333333333333333, \"#9c179e\"], [0.4444444444444444, \"#bd3786\"], [0.5555555555555556, \"#d8576b\"], [0.6666666666666666, \"#ed7953\"], [0.7777777777777778, \"#fb9f3a\"], [0.8888888888888888, \"#fdca26\"], [1.0, \"#f0f921\"]], \"type\": \"contour\"}], \"contourcarpet\": [{\"colorbar\": {\"outlinewidth\": 0, \"ticks\": \"\"}, \"type\": \"contourcarpet\"}], \"heatmap\": [{\"colorbar\": {\"outlinewidth\": 0, \"ticks\": \"\"}, \"colorscale\": [[0.0, \"#0d0887\"], [0.1111111111111111, \"#46039f\"], [0.2222222222222222, \"#7201a8\"], [0.3333333333333333, \"#9c179e\"], [0.4444444444444444, \"#bd3786\"], [0.5555555555555556, \"#d8576b\"], [0.6666666666666666, \"#ed7953\"], [0.7777777777777778, \"#fb9f3a\"], [0.8888888888888888, \"#fdca26\"], [1.0, \"#f0f921\"]], \"type\": \"heatmap\"}], \"heatmapgl\": [{\"colorbar\": {\"outlinewidth\": 0, \"ticks\": \"\"}, \"colorscale\": [[0.0, \"#0d0887\"], [0.1111111111111111, \"#46039f\"], [0.2222222222222222, \"#7201a8\"], [0.3333333333333333, \"#9c179e\"], [0.4444444444444444, \"#bd3786\"], [0.5555555555555556, \"#d8576b\"], [0.6666666666666666, \"#ed7953\"], [0.7777777777777778, \"#fb9f3a\"], [0.8888888888888888, \"#fdca26\"], [1.0, \"#f0f921\"]], \"type\": \"heatmapgl\"}], \"histogram\": [{\"marker\": {\"colorbar\": {\"outlinewidth\": 0, \"ticks\": \"\"}}, \"type\": \"histogram\"}], \"histogram2d\": [{\"colorbar\": {\"outlinewidth\": 0, \"ticks\": \"\"}, \"colorscale\": [[0.0, \"#0d0887\"], [0.1111111111111111, \"#46039f\"], [0.2222222222222222, \"#7201a8\"], [0.3333333333333333, \"#9c179e\"], [0.4444444444444444, \"#bd3786\"], [0.5555555555555556, \"#d8576b\"], [0.6666666666666666, \"#ed7953\"], [0.7777777777777778, \"#fb9f3a\"], [0.8888888888888888, \"#fdca26\"], [1.0, \"#f0f921\"]], \"type\": \"histogram2d\"}], \"histogram2dcontour\": [{\"colorbar\": {\"outlinewidth\": 0, \"ticks\": \"\"}, \"colorscale\": [[0.0, \"#0d0887\"], [0.1111111111111111, \"#46039f\"], [0.2222222222222222, \"#7201a8\"], [0.3333333333333333, \"#9c179e\"], [0.4444444444444444, \"#bd3786\"], [0.5555555555555556, \"#d8576b\"], [0.6666666666666666, \"#ed7953\"], [0.7777777777777778, \"#fb9f3a\"], [0.8888888888888888, \"#fdca26\"], [1.0, \"#f0f921\"]], \"type\": \"histogram2dcontour\"}], \"mesh3d\": [{\"colorbar\": {\"outlinewidth\": 0, \"ticks\": \"\"}, \"type\": \"mesh3d\"}], \"parcoords\": [{\"line\": {\"colorbar\": {\"outlinewidth\": 0, \"ticks\": \"\"}}, \"type\": \"parcoords\"}], \"pie\": [{\"automargin\": true, \"type\": \"pie\"}], \"scatter\": [{\"marker\": {\"colorbar\": {\"outlinewidth\": 0, \"ticks\": \"\"}}, \"type\": \"scatter\"}], \"scatter3d\": [{\"line\": {\"colorbar\": {\"outlinewidth\": 0, \"ticks\": \"\"}}, \"marker\": {\"colorbar\": {\"outlinewidth\": 0, \"ticks\": \"\"}}, \"type\": \"scatter3d\"}], \"scattercarpet\": [{\"marker\": {\"colorbar\": {\"outlinewidth\": 0, \"ticks\": \"\"}}, \"type\": \"scattercarpet\"}], \"scattergeo\": [{\"marker\": {\"colorbar\": {\"outlinewidth\": 0, \"ticks\": \"\"}}, \"type\": \"scattergeo\"}], \"scattergl\": [{\"marker\": {\"colorbar\": {\"outlinewidth\": 0, \"ticks\": \"\"}}, \"type\": \"scattergl\"}], \"scattermapbox\": [{\"marker\": {\"colorbar\": {\"outlinewidth\": 0, \"ticks\": \"\"}}, \"type\": \"scattermapbox\"}], \"scatterpolar\": [{\"marker\": {\"colorbar\": {\"outlinewidth\": 0, \"ticks\": \"\"}}, \"type\": \"scatterpolar\"}], \"scatterpolargl\": [{\"marker\": {\"colorbar\": {\"outlinewidth\": 0, \"ticks\": \"\"}}, \"type\": \"scatterpolargl\"}], \"scatterternary\": [{\"marker\": {\"colorbar\": {\"outlinewidth\": 0, \"ticks\": \"\"}}, \"type\": \"scatterternary\"}], \"surface\": [{\"colorbar\": {\"outlinewidth\": 0, \"ticks\": \"\"}, \"colorscale\": [[0.0, \"#0d0887\"], [0.1111111111111111, \"#46039f\"], [0.2222222222222222, \"#7201a8\"], [0.3333333333333333, \"#9c179e\"], [0.4444444444444444, \"#bd3786\"], [0.5555555555555556, \"#d8576b\"], [0.6666666666666666, \"#ed7953\"], [0.7777777777777778, \"#fb9f3a\"], [0.8888888888888888, \"#fdca26\"], [1.0, \"#f0f921\"]], \"type\": \"surface\"}], \"table\": [{\"cells\": {\"fill\": {\"color\": \"#EBF0F8\"}, \"line\": {\"color\": \"white\"}}, \"header\": {\"fill\": {\"color\": \"#C8D4E3\"}, \"line\": {\"color\": \"white\"}}, \"type\": \"table\"}]}, \"layout\": {\"annotationdefaults\": {\"arrowcolor\": \"#2a3f5f\", \"arrowhead\": 0, \"arrowwidth\": 1}, \"autotypenumbers\": \"strict\", \"coloraxis\": {\"colorbar\": {\"outlinewidth\": 0, \"ticks\": \"\"}}, \"colorscale\": {\"diverging\": [[0, \"#8e0152\"], [0.1, \"#c51b7d\"], [0.2, \"#de77ae\"], [0.3, \"#f1b6da\"], [0.4, \"#fde0ef\"], [0.5, \"#f7f7f7\"], [0.6, \"#e6f5d0\"], [0.7, \"#b8e186\"], [0.8, \"#7fbc41\"], [0.9, \"#4d9221\"], [1, \"#276419\"]], \"sequential\": [[0.0, \"#0d0887\"], [0.1111111111111111, \"#46039f\"], [0.2222222222222222, \"#7201a8\"], [0.3333333333333333, \"#9c179e\"], [0.4444444444444444, \"#bd3786\"], [0.5555555555555556, \"#d8576b\"], [0.6666666666666666, \"#ed7953\"], [0.7777777777777778, \"#fb9f3a\"], [0.8888888888888888, \"#fdca26\"], [1.0, \"#f0f921\"]], \"sequentialminus\": [[0.0, \"#0d0887\"], [0.1111111111111111, \"#46039f\"], [0.2222222222222222, \"#7201a8\"], [0.3333333333333333, \"#9c179e\"], [0.4444444444444444, \"#bd3786\"], [0.5555555555555556, \"#d8576b\"], [0.6666666666666666, \"#ed7953\"], [0.7777777777777778, \"#fb9f3a\"], [0.8888888888888888, \"#fdca26\"], [1.0, \"#f0f921\"]]}, \"colorway\": [\"#636efa\", \"#EF553B\", \"#00cc96\", \"#ab63fa\", \"#FFA15A\", \"#19d3f3\", \"#FF6692\", \"#B6E880\", \"#FF97FF\", \"#FECB52\"], \"font\": {\"color\": \"#2a3f5f\"}, \"geo\": {\"bgcolor\": \"white\", \"lakecolor\": \"white\", \"landcolor\": \"#E5ECF6\", \"showlakes\": true, \"showland\": true, \"subunitcolor\": \"white\"}, \"hoverlabel\": {\"align\": \"left\"}, \"hovermode\": \"closest\", \"mapbox\": {\"style\": \"light\"}, \"paper_bgcolor\": \"white\", \"plot_bgcolor\": \"#E5ECF6\", \"polar\": {\"angularaxis\": {\"gridcolor\": \"white\", \"linecolor\": \"white\", \"ticks\": \"\"}, \"bgcolor\": \"#E5ECF6\", \"radialaxis\": {\"gridcolor\": \"white\", \"linecolor\": \"white\", \"ticks\": \"\"}}, \"scene\": {\"xaxis\": {\"backgroundcolor\": \"#E5ECF6\", \"gridcolor\": \"white\", \"gridwidth\": 2, \"linecolor\": \"white\", \"showbackground\": true, \"ticks\": \"\", \"zerolinecolor\": \"white\"}, \"yaxis\": {\"backgroundcolor\": \"#E5ECF6\", \"gridcolor\": \"white\", \"gridwidth\": 2, \"linecolor\": \"white\", \"showbackground\": true, \"ticks\": \"\", \"zerolinecolor\": \"white\"}, \"zaxis\": {\"backgroundcolor\": \"#E5ECF6\", \"gridcolor\": \"white\", \"gridwidth\": 2, \"linecolor\": \"white\", \"showbackground\": true, \"ticks\": \"\", \"zerolinecolor\": \"white\"}}, \"shapedefaults\": {\"line\": {\"color\": \"#2a3f5f\"}}, \"ternary\": {\"aaxis\": {\"gridcolor\": \"white\", \"linecolor\": \"white\", \"ticks\": \"\"}, \"baxis\": {\"gridcolor\": \"white\", \"linecolor\": \"white\", \"ticks\": \"\"}, \"bgcolor\": \"#E5ECF6\", \"caxis\": {\"gridcolor\": \"white\", \"linecolor\": \"white\", \"ticks\": \"\"}}, \"title\": {\"x\": 0.05}, \"xaxis\": {\"automargin\": true, \"gridcolor\": \"white\", \"linecolor\": \"white\", \"ticks\": \"\", \"title\": {\"standoff\": 15}, \"zerolinecolor\": \"white\", \"zerolinewidth\": 2}, \"yaxis\": {\"automargin\": true, \"gridcolor\": \"white\", \"linecolor\": \"white\", \"ticks\": \"\", \"title\": {\"standoff\": 15}, \"zerolinecolor\": \"white\", \"zerolinewidth\": 2}}}, \"title\": {\"text\": \"Most similar subreddits to <i>r/bundesliga</i><br>From 3,767 subreddits\", \"x\": 0.5}, \"width\": 800},                        {\"responsive\": true}                    ).then(function(){\n",
       "                            \n",
       "var gd = document.getElementById('cc5c9e9b-c6eb-4df6-a5ce-f63d1185f2de');\n",
       "var x = new MutationObserver(function (mutations, observer) {{\n",
       "        var display = window.getComputedStyle(gd).display;\n",
       "        if (!display || display === 'none') {{\n",
       "            console.log([gd, 'removed!']);\n",
       "            Plotly.purge(gd);\n",
       "            observer.disconnect();\n",
       "        }}\n",
       "}});\n",
       "\n",
       "// Listen for the removal of the full notebook cells\n",
       "var notebookContainer = gd.closest('#notebook-container');\n",
       "if (notebookContainer) {{\n",
       "    x.observe(notebookContainer, {childList: true});\n",
       "}}\n",
       "\n",
       "// Listen for the clearing of the current output cell\n",
       "var outputEl = gd.closest('.output');\n",
       "if (outputEl) {{\n",
       "    x.observe(outputEl, {childList: true});\n",
       "}}\n",
       "\n",
       "                        })                };                });            </script>        </div>"
      ]
     },
     "metadata": {},
     "output_type": "display_data"
    },
    {
     "data": {
      "text/html": [
       "<style  type=\"text/css\" >\n",
       "#T_3fbde_row0_col0,#T_3fbde_row14_col6,#T_3fbde_row17_col6{\n",
       "            width:  10em;\n",
       "             height:  80%;\n",
       "            background:  linear-gradient(90deg,#95cff5 100.0%, transparent 100.0%);\n",
       "        }#T_3fbde_row0_col6{\n",
       "            width:  10em;\n",
       "             height:  80%;\n",
       "            background:  linear-gradient(90deg,#95cff5 88.0%, transparent 88.0%);\n",
       "        }#T_3fbde_row1_col0{\n",
       "            width:  10em;\n",
       "             height:  80%;\n",
       "            background:  linear-gradient(90deg,#95cff5 93.5%, transparent 93.5%);\n",
       "        }#T_3fbde_row1_col6{\n",
       "            width:  10em;\n",
       "             height:  80%;\n",
       "            background:  linear-gradient(90deg,#95cff5 70.9%, transparent 70.9%);\n",
       "        }#T_3fbde_row2_col0,#T_3fbde_row19_col6{\n",
       "            width:  10em;\n",
       "             height:  80%;\n",
       "            background:  linear-gradient(90deg,#95cff5 89.2%, transparent 89.2%);\n",
       "        }#T_3fbde_row2_col6{\n",
       "            width:  10em;\n",
       "             height:  80%;\n",
       "            background:  linear-gradient(90deg,#95cff5 84.5%, transparent 84.5%);\n",
       "        }#T_3fbde_row3_col0{\n",
       "            width:  10em;\n",
       "             height:  80%;\n",
       "            background:  linear-gradient(90deg,#95cff5 89.1%, transparent 89.1%);\n",
       "        }#T_3fbde_row3_col6{\n",
       "            width:  10em;\n",
       "             height:  80%;\n",
       "            background:  linear-gradient(90deg,#95cff5 90.8%, transparent 90.8%);\n",
       "        }#T_3fbde_row4_col0{\n",
       "            width:  10em;\n",
       "             height:  80%;\n",
       "            background:  linear-gradient(90deg,#95cff5 88.2%, transparent 88.2%);\n",
       "        }#T_3fbde_row4_col6{\n",
       "            width:  10em;\n",
       "             height:  80%;\n",
       "            background:  linear-gradient(90deg,#95cff5 96.7%, transparent 96.7%);\n",
       "        }#T_3fbde_row5_col0{\n",
       "            width:  10em;\n",
       "             height:  80%;\n",
       "            background:  linear-gradient(90deg,#95cff5 81.5%, transparent 81.5%);\n",
       "        }#T_3fbde_row5_col6{\n",
       "            width:  10em;\n",
       "             height:  80%;\n",
       "            background:  linear-gradient(90deg,#95cff5 94.5%, transparent 94.5%);\n",
       "        }#T_3fbde_row6_col0{\n",
       "            width:  10em;\n",
       "             height:  80%;\n",
       "            background:  linear-gradient(90deg,#95cff5 81.2%, transparent 81.2%);\n",
       "        }#T_3fbde_row6_col6{\n",
       "            width:  10em;\n",
       "             height:  80%;\n",
       "            background:  linear-gradient(90deg,#95cff5 88.7%, transparent 88.7%);\n",
       "        }#T_3fbde_row7_col0{\n",
       "            width:  10em;\n",
       "             height:  80%;\n",
       "            background:  linear-gradient(90deg,#95cff5 80.8%, transparent 80.8%);\n",
       "        }#T_3fbde_row7_col6{\n",
       "            width:  10em;\n",
       "             height:  80%;\n",
       "            background:  linear-gradient(90deg,#95cff5 83.3%, transparent 83.3%);\n",
       "        }#T_3fbde_row8_col0,#T_3fbde_row9_col0{\n",
       "            width:  10em;\n",
       "             height:  80%;\n",
       "            background:  linear-gradient(90deg,#95cff5 80.3%, transparent 80.3%);\n",
       "        }#T_3fbde_row8_col6{\n",
       "            width:  10em;\n",
       "             height:  80%;\n",
       "            background:  linear-gradient(90deg,#95cff5 96.1%, transparent 96.1%);\n",
       "        }#T_3fbde_row9_col6,#T_3fbde_row12_col6{\n",
       "            width:  10em;\n",
       "             height:  80%;\n",
       "            background:  linear-gradient(90deg,#95cff5 93.2%, transparent 93.2%);\n",
       "        }#T_3fbde_row10_col0,#T_3fbde_row15_col6{\n",
       "            width:  10em;\n",
       "             height:  80%;\n",
       "            background:  linear-gradient(90deg,#95cff5 80.2%, transparent 80.2%);\n",
       "        }#T_3fbde_row10_col6{\n",
       "            width:  10em;\n",
       "             height:  80%;\n",
       "            background:  linear-gradient(90deg,#95cff5 91.2%, transparent 91.2%);\n",
       "        }#T_3fbde_row11_col0{\n",
       "            width:  10em;\n",
       "             height:  80%;\n",
       "            background:  linear-gradient(90deg,#95cff5 78.7%, transparent 78.7%);\n",
       "        }#T_3fbde_row11_col6{\n",
       "            width:  10em;\n",
       "             height:  80%;\n",
       "            background:  linear-gradient(90deg,#95cff5 85.3%, transparent 85.3%);\n",
       "        }#T_3fbde_row12_col0{\n",
       "            width:  10em;\n",
       "             height:  80%;\n",
       "            background:  linear-gradient(90deg,#95cff5 78.6%, transparent 78.6%);\n",
       "        }#T_3fbde_row13_col0{\n",
       "            width:  10em;\n",
       "             height:  80%;\n",
       "            background:  linear-gradient(90deg,#95cff5 78.1%, transparent 78.1%);\n",
       "        }#T_3fbde_row13_col6{\n",
       "            width:  10em;\n",
       "             height:  80%;\n",
       "            background:  linear-gradient(90deg,#95cff5 91.3%, transparent 91.3%);\n",
       "        }#T_3fbde_row14_col0{\n",
       "            width:  10em;\n",
       "             height:  80%;\n",
       "            background:  linear-gradient(90deg,#95cff5 76.9%, transparent 76.9%);\n",
       "        }#T_3fbde_row15_col0{\n",
       "            width:  10em;\n",
       "             height:  80%;\n",
       "            background:  linear-gradient(90deg,#95cff5 75.8%, transparent 75.8%);\n",
       "        }#T_3fbde_row16_col0{\n",
       "            width:  10em;\n",
       "             height:  80%;\n",
       "            background:  linear-gradient(90deg,#95cff5 75.3%, transparent 75.3%);\n",
       "        }#T_3fbde_row16_col6{\n",
       "            width:  10em;\n",
       "             height:  80%;\n",
       "            background:  linear-gradient(90deg,#95cff5 96.5%, transparent 96.5%);\n",
       "        }#T_3fbde_row17_col0{\n",
       "            width:  10em;\n",
       "             height:  80%;\n",
       "            background:  linear-gradient(90deg,#95cff5 75.2%, transparent 75.2%);\n",
       "        }#T_3fbde_row18_col0{\n",
       "            width:  10em;\n",
       "             height:  80%;\n",
       "            background:  linear-gradient(90deg,#95cff5 74.6%, transparent 74.6%);\n",
       "        }#T_3fbde_row18_col6{\n",
       "            width:  10em;\n",
       "             height:  80%;\n",
       "            background:  linear-gradient(90deg,#95cff5 95.5%, transparent 95.5%);\n",
       "        }#T_3fbde_row19_col0{\n",
       "            width:  10em;\n",
       "             height:  80%;\n",
       "            background:  linear-gradient(90deg,#95cff5 74.3%, transparent 74.3%);\n",
       "        }</style><table id=\"T_3fbde_\" ><thead>    <tr>        <th class=\"blank level0\" ></th>        <th class=\"col_heading level0 col0\" >cosine distance</th>        <th class=\"col_heading level0 col1\" >subreddit name a</th>        <th class=\"col_heading level0 col2\" >subreddit name b</th>        <th class=\"col_heading level0 col3\" >rating b</th>        <th class=\"col_heading level0 col4\" >topic b</th>        <th class=\"col_heading level0 col5\" >primary post language b</th>        <th class=\"col_heading level0 col6\" >primary post language percent b</th>        <th class=\"col_heading level0 col7\" >post median word count b</th>        <th class=\"col_heading level0 col8\" >rating a</th>        <th class=\"col_heading level0 col9\" >topic a</th>        <th class=\"col_heading level0 col10\" >primary post language a</th>        <th class=\"col_heading level0 col11\" >primary post language percent a</th>        <th class=\"col_heading level0 col12\" >post median word count a</th>    </tr></thead><tbody>\n",
       "                <tr>\n",
       "                        <th id=\"T_3fbde_level0_row0\" class=\"row_heading level0 row0\" >0</th>\n",
       "                        <td id=\"T_3fbde_row0_col0\" class=\"data row0 col0\" >0.8693</td>\n",
       "                        <td id=\"T_3fbde_row0_col1\" class=\"data row0 col1\" >ameisenstrassenwetten</td>\n",
       "                        <td id=\"T_3fbde_row0_col2\" class=\"data row0 col2\" >mauerstrassenwetten</td>\n",
       "                        <td id=\"T_3fbde_row0_col3\" class=\"data row0 col3\" >r</td>\n",
       "                        <td id=\"T_3fbde_row0_col4\" class=\"data row0 col4\" >Internet Culture and Memes</td>\n",
       "                        <td id=\"T_3fbde_row0_col5\" class=\"data row0 col5\" >German</td>\n",
       "                        <td id=\"T_3fbde_row0_col6\" class=\"data row0 col6\" >87.96%</td>\n",
       "                        <td id=\"T_3fbde_row0_col7\" class=\"data row0 col7\" >9</td>\n",
       "                        <td id=\"T_3fbde_row0_col8\" class=\"data row0 col8\" >None</td>\n",
       "                        <td id=\"T_3fbde_row0_col9\" class=\"data row0 col9\" >None</td>\n",
       "                        <td id=\"T_3fbde_row0_col10\" class=\"data row0 col10\" >German</td>\n",
       "                        <td id=\"T_3fbde_row0_col11\" class=\"data row0 col11\" >88.37%</td>\n",
       "                        <td id=\"T_3fbde_row0_col12\" class=\"data row0 col12\" >12</td>\n",
       "            </tr>\n",
       "            <tr>\n",
       "                        <th id=\"T_3fbde_level0_row1\" class=\"row_heading level0 row1\" >1</th>\n",
       "                        <td id=\"T_3fbde_row1_col0\" class=\"data row1 col0\" >0.8126</td>\n",
       "                        <td id=\"T_3fbde_row1_col1\" class=\"data row1 col1\" >ameisenstrassenwetten</td>\n",
       "                        <td id=\"T_3fbde_row1_col2\" class=\"data row1 col2\" >farialimabets</td>\n",
       "                        <td id=\"T_3fbde_row1_col3\" class=\"data row1 col3\" >None</td>\n",
       "                        <td id=\"T_3fbde_row1_col4\" class=\"data row1 col4\" >None</td>\n",
       "                        <td id=\"T_3fbde_row1_col5\" class=\"data row1 col5\" >Portuguese</td>\n",
       "                        <td id=\"T_3fbde_row1_col6\" class=\"data row1 col6\" >70.94%</td>\n",
       "                        <td id=\"T_3fbde_row1_col7\" class=\"data row1 col7\" >9</td>\n",
       "                        <td id=\"T_3fbde_row1_col8\" class=\"data row1 col8\" >None</td>\n",
       "                        <td id=\"T_3fbde_row1_col9\" class=\"data row1 col9\" >None</td>\n",
       "                        <td id=\"T_3fbde_row1_col10\" class=\"data row1 col10\" >German</td>\n",
       "                        <td id=\"T_3fbde_row1_col11\" class=\"data row1 col11\" >88.37%</td>\n",
       "                        <td id=\"T_3fbde_row1_col12\" class=\"data row1 col12\" >12</td>\n",
       "            </tr>\n",
       "            <tr>\n",
       "                        <th id=\"T_3fbde_level0_row2\" class=\"row_heading level0 row2\" >2</th>\n",
       "                        <td id=\"T_3fbde_row2_col0\" class=\"data row2 col0\" >0.7751</td>\n",
       "                        <td id=\"T_3fbde_row2_col1\" class=\"data row2 col1\" >ameisenstrassenwetten</td>\n",
       "                        <td id=\"T_3fbde_row2_col2\" class=\"data row2 col2\" >dalalstreetbets</td>\n",
       "                        <td id=\"T_3fbde_row2_col3\" class=\"data row2 col3\" >not_shown_in_theaters</td>\n",
       "                        <td id=\"T_3fbde_row2_col4\" class=\"data row2 col4\" >Business, Economics, and Finance</td>\n",
       "                        <td id=\"T_3fbde_row2_col5\" class=\"data row2 col5\" >English</td>\n",
       "                        <td id=\"T_3fbde_row2_col6\" class=\"data row2 col6\" >84.47%</td>\n",
       "                        <td id=\"T_3fbde_row2_col7\" class=\"data row2 col7\" >12</td>\n",
       "                        <td id=\"T_3fbde_row2_col8\" class=\"data row2 col8\" >None</td>\n",
       "                        <td id=\"T_3fbde_row2_col9\" class=\"data row2 col9\" >None</td>\n",
       "                        <td id=\"T_3fbde_row2_col10\" class=\"data row2 col10\" >German</td>\n",
       "                        <td id=\"T_3fbde_row2_col11\" class=\"data row2 col11\" >88.37%</td>\n",
       "                        <td id=\"T_3fbde_row2_col12\" class=\"data row2 col12\" >12</td>\n",
       "            </tr>\n",
       "            <tr>\n",
       "                        <th id=\"T_3fbde_level0_row3\" class=\"row_heading level0 row3\" >3</th>\n",
       "                        <td id=\"T_3fbde_row3_col0\" class=\"data row3 col0\" >0.7745</td>\n",
       "                        <td id=\"T_3fbde_row3_col1\" class=\"data row3 col1\" >ameisenstrassenwetten</td>\n",
       "                        <td id=\"T_3fbde_row3_col2\" class=\"data row3 col2\" >wallstreetbets</td>\n",
       "                        <td id=\"T_3fbde_row3_col3\" class=\"data row3 col3\" >r</td>\n",
       "                        <td id=\"T_3fbde_row3_col4\" class=\"data row3 col4\" >None</td>\n",
       "                        <td id=\"T_3fbde_row3_col5\" class=\"data row3 col5\" >English</td>\n",
       "                        <td id=\"T_3fbde_row3_col6\" class=\"data row3 col6\" >90.83%</td>\n",
       "                        <td id=\"T_3fbde_row3_col7\" class=\"data row3 col7\" >14</td>\n",
       "                        <td id=\"T_3fbde_row3_col8\" class=\"data row3 col8\" >None</td>\n",
       "                        <td id=\"T_3fbde_row3_col9\" class=\"data row3 col9\" >None</td>\n",
       "                        <td id=\"T_3fbde_row3_col10\" class=\"data row3 col10\" >German</td>\n",
       "                        <td id=\"T_3fbde_row3_col11\" class=\"data row3 col11\" >88.37%</td>\n",
       "                        <td id=\"T_3fbde_row3_col12\" class=\"data row3 col12\" >12</td>\n",
       "            </tr>\n",
       "            <tr>\n",
       "                        <th id=\"T_3fbde_level0_row4\" class=\"row_heading level0 row4\" >4</th>\n",
       "                        <td id=\"T_3fbde_row4_col0\" class=\"data row4 col0\" >0.7664</td>\n",
       "                        <td id=\"T_3fbde_row4_col1\" class=\"data row4 col1\" >ameisenstrassenwetten</td>\n",
       "                        <td id=\"T_3fbde_row4_col2\" class=\"data row4 col2\" >aktien</td>\n",
       "                        <td id=\"T_3fbde_row4_col3\" class=\"data row4 col3\" >None</td>\n",
       "                        <td id=\"T_3fbde_row4_col4\" class=\"data row4 col4\" >None</td>\n",
       "                        <td id=\"T_3fbde_row4_col5\" class=\"data row4 col5\" >German</td>\n",
       "                        <td id=\"T_3fbde_row4_col6\" class=\"data row4 col6\" >96.74%</td>\n",
       "                        <td id=\"T_3fbde_row4_col7\" class=\"data row4 col7\" >38</td>\n",
       "                        <td id=\"T_3fbde_row4_col8\" class=\"data row4 col8\" >None</td>\n",
       "                        <td id=\"T_3fbde_row4_col9\" class=\"data row4 col9\" >None</td>\n",
       "                        <td id=\"T_3fbde_row4_col10\" class=\"data row4 col10\" >German</td>\n",
       "                        <td id=\"T_3fbde_row4_col11\" class=\"data row4 col11\" >88.37%</td>\n",
       "                        <td id=\"T_3fbde_row4_col12\" class=\"data row4 col12\" >12</td>\n",
       "            </tr>\n",
       "            <tr>\n",
       "                        <th id=\"T_3fbde_level0_row5\" class=\"row_heading level0 row5\" >5</th>\n",
       "                        <td id=\"T_3fbde_row5_col0\" class=\"data row5 col0\" >0.7089</td>\n",
       "                        <td id=\"T_3fbde_row5_col1\" class=\"data row5 col1\" >ameisenstrassenwetten</td>\n",
       "                        <td id=\"T_3fbde_row5_col2\" class=\"data row5 col2\" >stockstobuytoday</td>\n",
       "                        <td id=\"T_3fbde_row5_col3\" class=\"data row5 col3\" >None</td>\n",
       "                        <td id=\"T_3fbde_row5_col4\" class=\"data row5 col4\" >None</td>\n",
       "                        <td id=\"T_3fbde_row5_col5\" class=\"data row5 col5\" >English</td>\n",
       "                        <td id=\"T_3fbde_row5_col6\" class=\"data row5 col6\" >94.52%</td>\n",
       "                        <td id=\"T_3fbde_row5_col7\" class=\"data row5 col7\" >16</td>\n",
       "                        <td id=\"T_3fbde_row5_col8\" class=\"data row5 col8\" >None</td>\n",
       "                        <td id=\"T_3fbde_row5_col9\" class=\"data row5 col9\" >None</td>\n",
       "                        <td id=\"T_3fbde_row5_col10\" class=\"data row5 col10\" >German</td>\n",
       "                        <td id=\"T_3fbde_row5_col11\" class=\"data row5 col11\" >88.37%</td>\n",
       "                        <td id=\"T_3fbde_row5_col12\" class=\"data row5 col12\" >12</td>\n",
       "            </tr>\n",
       "            <tr>\n",
       "                        <th id=\"T_3fbde_level0_row6\" class=\"row_heading level0 row6\" >6</th>\n",
       "                        <td id=\"T_3fbde_row6_col0\" class=\"data row6 col0\" >0.7056</td>\n",
       "                        <td id=\"T_3fbde_row6_col1\" class=\"data row6 col1\" >ameisenstrassenwetten</td>\n",
       "                        <td id=\"T_3fbde_row6_col2\" class=\"data row6 col2\" >amcstock</td>\n",
       "                        <td id=\"T_3fbde_row6_col3\" class=\"data row6 col3\" >None</td>\n",
       "                        <td id=\"T_3fbde_row6_col4\" class=\"data row6 col4\" >None</td>\n",
       "                        <td id=\"T_3fbde_row6_col5\" class=\"data row6 col5\" >English</td>\n",
       "                        <td id=\"T_3fbde_row6_col6\" class=\"data row6 col6\" >88.67%</td>\n",
       "                        <td id=\"T_3fbde_row6_col7\" class=\"data row6 col7\" >12</td>\n",
       "                        <td id=\"T_3fbde_row6_col8\" class=\"data row6 col8\" >None</td>\n",
       "                        <td id=\"T_3fbde_row6_col9\" class=\"data row6 col9\" >None</td>\n",
       "                        <td id=\"T_3fbde_row6_col10\" class=\"data row6 col10\" >German</td>\n",
       "                        <td id=\"T_3fbde_row6_col11\" class=\"data row6 col11\" >88.37%</td>\n",
       "                        <td id=\"T_3fbde_row6_col12\" class=\"data row6 col12\" >12</td>\n",
       "            </tr>\n",
       "            <tr>\n",
       "                        <th id=\"T_3fbde_level0_row7\" class=\"row_heading level0 row7\" >7</th>\n",
       "                        <td id=\"T_3fbde_row7_col0\" class=\"data row7 col0\" >0.7025</td>\n",
       "                        <td id=\"T_3fbde_row7_col1\" class=\"data row7 col1\" >ameisenstrassenwetten</td>\n",
       "                        <td id=\"T_3fbde_row7_col2\" class=\"data row7 col2\" >stock</td>\n",
       "                        <td id=\"T_3fbde_row7_col3\" class=\"data row7 col3\" >None</td>\n",
       "                        <td id=\"T_3fbde_row7_col4\" class=\"data row7 col4\" >None</td>\n",
       "                        <td id=\"T_3fbde_row7_col5\" class=\"data row7 col5\" >English</td>\n",
       "                        <td id=\"T_3fbde_row7_col6\" class=\"data row7 col6\" >83.33%</td>\n",
       "                        <td id=\"T_3fbde_row7_col7\" class=\"data row7 col7\" >20</td>\n",
       "                        <td id=\"T_3fbde_row7_col8\" class=\"data row7 col8\" >None</td>\n",
       "                        <td id=\"T_3fbde_row7_col9\" class=\"data row7 col9\" >None</td>\n",
       "                        <td id=\"T_3fbde_row7_col10\" class=\"data row7 col10\" >German</td>\n",
       "                        <td id=\"T_3fbde_row7_col11\" class=\"data row7 col11\" >88.37%</td>\n",
       "                        <td id=\"T_3fbde_row7_col12\" class=\"data row7 col12\" >12</td>\n",
       "            </tr>\n",
       "            <tr>\n",
       "                        <th id=\"T_3fbde_level0_row8\" class=\"row_heading level0 row8\" >8</th>\n",
       "                        <td id=\"T_3fbde_row8_col0\" class=\"data row8 col0\" >0.6983</td>\n",
       "                        <td id=\"T_3fbde_row8_col1\" class=\"data row8 col1\" >ameisenstrassenwetten</td>\n",
       "                        <td id=\"T_3fbde_row8_col2\" class=\"data row8 col2\" >etc</td>\n",
       "                        <td id=\"T_3fbde_row8_col3\" class=\"data row8 col3\" >None</td>\n",
       "                        <td id=\"T_3fbde_row8_col4\" class=\"data row8 col4\" >None</td>\n",
       "                        <td id=\"T_3fbde_row8_col5\" class=\"data row8 col5\" >English</td>\n",
       "                        <td id=\"T_3fbde_row8_col6\" class=\"data row8 col6\" >96.10%</td>\n",
       "                        <td id=\"T_3fbde_row8_col7\" class=\"data row8 col7\" >18</td>\n",
       "                        <td id=\"T_3fbde_row8_col8\" class=\"data row8 col8\" >None</td>\n",
       "                        <td id=\"T_3fbde_row8_col9\" class=\"data row8 col9\" >None</td>\n",
       "                        <td id=\"T_3fbde_row8_col10\" class=\"data row8 col10\" >German</td>\n",
       "                        <td id=\"T_3fbde_row8_col11\" class=\"data row8 col11\" >88.37%</td>\n",
       "                        <td id=\"T_3fbde_row8_col12\" class=\"data row8 col12\" >12</td>\n",
       "            </tr>\n",
       "            <tr>\n",
       "                        <th id=\"T_3fbde_level0_row9\" class=\"row_heading level0 row9\" >9</th>\n",
       "                        <td id=\"T_3fbde_row9_col0\" class=\"data row9 col0\" >0.6981</td>\n",
       "                        <td id=\"T_3fbde_row9_col1\" class=\"data row9 col1\" >ameisenstrassenwetten</td>\n",
       "                        <td id=\"T_3fbde_row9_col2\" class=\"data row9 col2\" >ecomi</td>\n",
       "                        <td id=\"T_3fbde_row9_col3\" class=\"data row9 col3\" >None</td>\n",
       "                        <td id=\"T_3fbde_row9_col4\" class=\"data row9 col4\" >None</td>\n",
       "                        <td id=\"T_3fbde_row9_col5\" class=\"data row9 col5\" >English</td>\n",
       "                        <td id=\"T_3fbde_row9_col6\" class=\"data row9 col6\" >93.25%</td>\n",
       "                        <td id=\"T_3fbde_row9_col7\" class=\"data row9 col7\" >21</td>\n",
       "                        <td id=\"T_3fbde_row9_col8\" class=\"data row9 col8\" >None</td>\n",
       "                        <td id=\"T_3fbde_row9_col9\" class=\"data row9 col9\" >None</td>\n",
       "                        <td id=\"T_3fbde_row9_col10\" class=\"data row9 col10\" >German</td>\n",
       "                        <td id=\"T_3fbde_row9_col11\" class=\"data row9 col11\" >88.37%</td>\n",
       "                        <td id=\"T_3fbde_row9_col12\" class=\"data row9 col12\" >12</td>\n",
       "            </tr>\n",
       "            <tr>\n",
       "                        <th id=\"T_3fbde_level0_row10\" class=\"row_heading level0 row10\" >10</th>\n",
       "                        <td id=\"T_3fbde_row10_col0\" class=\"data row10 col0\" >0.6973</td>\n",
       "                        <td id=\"T_3fbde_row10_col1\" class=\"data row10 col1\" >ameisenstrassenwetten</td>\n",
       "                        <td id=\"T_3fbde_row10_col2\" class=\"data row10 col2\" >tilray</td>\n",
       "                        <td id=\"T_3fbde_row10_col3\" class=\"data row10 col3\" >None</td>\n",
       "                        <td id=\"T_3fbde_row10_col4\" class=\"data row10 col4\" >None</td>\n",
       "                        <td id=\"T_3fbde_row10_col5\" class=\"data row10 col5\" >English</td>\n",
       "                        <td id=\"T_3fbde_row10_col6\" class=\"data row10 col6\" >91.20%</td>\n",
       "                        <td id=\"T_3fbde_row10_col7\" class=\"data row10 col7\" >13</td>\n",
       "                        <td id=\"T_3fbde_row10_col8\" class=\"data row10 col8\" >None</td>\n",
       "                        <td id=\"T_3fbde_row10_col9\" class=\"data row10 col9\" >None</td>\n",
       "                        <td id=\"T_3fbde_row10_col10\" class=\"data row10 col10\" >German</td>\n",
       "                        <td id=\"T_3fbde_row10_col11\" class=\"data row10 col11\" >88.37%</td>\n",
       "                        <td id=\"T_3fbde_row10_col12\" class=\"data row10 col12\" >12</td>\n",
       "            </tr>\n",
       "            <tr>\n",
       "                        <th id=\"T_3fbde_level0_row11\" class=\"row_heading level0 row11\" >11</th>\n",
       "                        <td id=\"T_3fbde_row11_col0\" class=\"data row11 col0\" >0.6843</td>\n",
       "                        <td id=\"T_3fbde_row11_col1\" class=\"data row11 col1\" >ameisenstrassenwetten</td>\n",
       "                        <td id=\"T_3fbde_row11_col2\" class=\"data row11 col2\" >ratioatblessons</td>\n",
       "                        <td id=\"T_3fbde_row11_col3\" class=\"data row11 col3\" >None</td>\n",
       "                        <td id=\"T_3fbde_row11_col4\" class=\"data row11 col4\" >None</td>\n",
       "                        <td id=\"T_3fbde_row11_col5\" class=\"data row11 col5\" >English</td>\n",
       "                        <td id=\"T_3fbde_row11_col6\" class=\"data row11 col6\" >85.25%</td>\n",
       "                        <td id=\"T_3fbde_row11_col7\" class=\"data row11 col7\" >11</td>\n",
       "                        <td id=\"T_3fbde_row11_col8\" class=\"data row11 col8\" >None</td>\n",
       "                        <td id=\"T_3fbde_row11_col9\" class=\"data row11 col9\" >None</td>\n",
       "                        <td id=\"T_3fbde_row11_col10\" class=\"data row11 col10\" >German</td>\n",
       "                        <td id=\"T_3fbde_row11_col11\" class=\"data row11 col11\" >88.37%</td>\n",
       "                        <td id=\"T_3fbde_row11_col12\" class=\"data row11 col12\" >12</td>\n",
       "            </tr>\n",
       "            <tr>\n",
       "                        <th id=\"T_3fbde_level0_row12\" class=\"row_heading level0 row12\" >12</th>\n",
       "                        <td id=\"T_3fbde_row12_col0\" class=\"data row12 col0\" >0.6834</td>\n",
       "                        <td id=\"T_3fbde_row12_col1\" class=\"data row12 col1\" >ameisenstrassenwetten</td>\n",
       "                        <td id=\"T_3fbde_row12_col2\" class=\"data row12 col2\" >body</td>\n",
       "                        <td id=\"T_3fbde_row12_col3\" class=\"data row12 col3\" >nc17</td>\n",
       "                        <td id=\"T_3fbde_row12_col4\" class=\"data row12 col4\" >Mature Themes and Adult Content</td>\n",
       "                        <td id=\"T_3fbde_row12_col5\" class=\"data row12 col5\" >English</td>\n",
       "                        <td id=\"T_3fbde_row12_col6\" class=\"data row12 col6\" >93.24%</td>\n",
       "                        <td id=\"T_3fbde_row12_col7\" class=\"data row12 col7\" >16</td>\n",
       "                        <td id=\"T_3fbde_row12_col8\" class=\"data row12 col8\" >None</td>\n",
       "                        <td id=\"T_3fbde_row12_col9\" class=\"data row12 col9\" >None</td>\n",
       "                        <td id=\"T_3fbde_row12_col10\" class=\"data row12 col10\" >German</td>\n",
       "                        <td id=\"T_3fbde_row12_col11\" class=\"data row12 col11\" >88.37%</td>\n",
       "                        <td id=\"T_3fbde_row12_col12\" class=\"data row12 col12\" >12</td>\n",
       "            </tr>\n",
       "            <tr>\n",
       "                        <th id=\"T_3fbde_level0_row13\" class=\"row_heading level0 row13\" >13</th>\n",
       "                        <td id=\"T_3fbde_row13_col0\" class=\"data row13 col0\" >0.6789</td>\n",
       "                        <td id=\"T_3fbde_row13_col1\" class=\"data row13 col1\" >ameisenstrassenwetten</td>\n",
       "                        <td id=\"T_3fbde_row13_col2\" class=\"data row13 col2\" >nanotrade</td>\n",
       "                        <td id=\"T_3fbde_row13_col3\" class=\"data row13 col3\" >r</td>\n",
       "                        <td id=\"T_3fbde_row13_col4\" class=\"data row13 col4\" >None</td>\n",
       "                        <td id=\"T_3fbde_row13_col5\" class=\"data row13 col5\" >English</td>\n",
       "                        <td id=\"T_3fbde_row13_col6\" class=\"data row13 col6\" >91.33%</td>\n",
       "                        <td id=\"T_3fbde_row13_col7\" class=\"data row13 col7\" >11</td>\n",
       "                        <td id=\"T_3fbde_row13_col8\" class=\"data row13 col8\" >None</td>\n",
       "                        <td id=\"T_3fbde_row13_col9\" class=\"data row13 col9\" >None</td>\n",
       "                        <td id=\"T_3fbde_row13_col10\" class=\"data row13 col10\" >German</td>\n",
       "                        <td id=\"T_3fbde_row13_col11\" class=\"data row13 col11\" >88.37%</td>\n",
       "                        <td id=\"T_3fbde_row13_col12\" class=\"data row13 col12\" >12</td>\n",
       "            </tr>\n",
       "            <tr>\n",
       "                        <th id=\"T_3fbde_level0_row14\" class=\"row_heading level0 row14\" >14</th>\n",
       "                        <td id=\"T_3fbde_row14_col0\" class=\"data row14 col0\" >0.6687</td>\n",
       "                        <td id=\"T_3fbde_row14_col1\" class=\"data row14 col1\" >ameisenstrassenwetten</td>\n",
       "                        <td id=\"T_3fbde_row14_col2\" class=\"data row14 col2\" >options</td>\n",
       "                        <td id=\"T_3fbde_row14_col3\" class=\"data row14 col3\" >pg13</td>\n",
       "                        <td id=\"T_3fbde_row14_col4\" class=\"data row14 col4\" >None</td>\n",
       "                        <td id=\"T_3fbde_row14_col5\" class=\"data row14 col5\" >English</td>\n",
       "                        <td id=\"T_3fbde_row14_col6\" class=\"data row14 col6\" >100.00%</td>\n",
       "                        <td id=\"T_3fbde_row14_col7\" class=\"data row14 col7\" >94</td>\n",
       "                        <td id=\"T_3fbde_row14_col8\" class=\"data row14 col8\" >None</td>\n",
       "                        <td id=\"T_3fbde_row14_col9\" class=\"data row14 col9\" >None</td>\n",
       "                        <td id=\"T_3fbde_row14_col10\" class=\"data row14 col10\" >German</td>\n",
       "                        <td id=\"T_3fbde_row14_col11\" class=\"data row14 col11\" >88.37%</td>\n",
       "                        <td id=\"T_3fbde_row14_col12\" class=\"data row14 col12\" >12</td>\n",
       "            </tr>\n",
       "            <tr>\n",
       "                        <th id=\"T_3fbde_level0_row15\" class=\"row_heading level0 row15\" >15</th>\n",
       "                        <td id=\"T_3fbde_row15_col0\" class=\"data row15 col0\" >0.6589</td>\n",
       "                        <td id=\"T_3fbde_row15_col1\" class=\"data row15 col1\" >ameisenstrassenwetten</td>\n",
       "                        <td id=\"T_3fbde_row15_col2\" class=\"data row15 col2\" >cryptocurrencymemes</td>\n",
       "                        <td id=\"T_3fbde_row15_col3\" class=\"data row15 col3\" >pg13</td>\n",
       "                        <td id=\"T_3fbde_row15_col4\" class=\"data row15 col4\" >None</td>\n",
       "                        <td id=\"T_3fbde_row15_col5\" class=\"data row15 col5\" >English</td>\n",
       "                        <td id=\"T_3fbde_row15_col6\" class=\"data row15 col6\" >80.17%</td>\n",
       "                        <td id=\"T_3fbde_row15_col7\" class=\"data row15 col7\" >5</td>\n",
       "                        <td id=\"T_3fbde_row15_col8\" class=\"data row15 col8\" >None</td>\n",
       "                        <td id=\"T_3fbde_row15_col9\" class=\"data row15 col9\" >None</td>\n",
       "                        <td id=\"T_3fbde_row15_col10\" class=\"data row15 col10\" >German</td>\n",
       "                        <td id=\"T_3fbde_row15_col11\" class=\"data row15 col11\" >88.37%</td>\n",
       "                        <td id=\"T_3fbde_row15_col12\" class=\"data row15 col12\" >12</td>\n",
       "            </tr>\n",
       "            <tr>\n",
       "                        <th id=\"T_3fbde_level0_row16\" class=\"row_heading level0 row16\" >16</th>\n",
       "                        <td id=\"T_3fbde_row16_col0\" class=\"data row16 col0\" >0.6544</td>\n",
       "                        <td id=\"T_3fbde_row16_col1\" class=\"data row16 col1\" >ameisenstrassenwetten</td>\n",
       "                        <td id=\"T_3fbde_row16_col2\" class=\"data row16 col2\" >etorotraders</td>\n",
       "                        <td id=\"T_3fbde_row16_col3\" class=\"data row16 col3\" >None</td>\n",
       "                        <td id=\"T_3fbde_row16_col4\" class=\"data row16 col4\" >None</td>\n",
       "                        <td id=\"T_3fbde_row16_col5\" class=\"data row16 col5\" >English</td>\n",
       "                        <td id=\"T_3fbde_row16_col6\" class=\"data row16 col6\" >96.47%</td>\n",
       "                        <td id=\"T_3fbde_row16_col7\" class=\"data row16 col7\" >16</td>\n",
       "                        <td id=\"T_3fbde_row16_col8\" class=\"data row16 col8\" >None</td>\n",
       "                        <td id=\"T_3fbde_row16_col9\" class=\"data row16 col9\" >None</td>\n",
       "                        <td id=\"T_3fbde_row16_col10\" class=\"data row16 col10\" >German</td>\n",
       "                        <td id=\"T_3fbde_row16_col11\" class=\"data row16 col11\" >88.37%</td>\n",
       "                        <td id=\"T_3fbde_row16_col12\" class=\"data row16 col12\" >12</td>\n",
       "            </tr>\n",
       "            <tr>\n",
       "                        <th id=\"T_3fbde_level0_row17\" class=\"row_heading level0 row17\" >17</th>\n",
       "                        <td id=\"T_3fbde_row17_col0\" class=\"data row17 col0\" >0.6541</td>\n",
       "                        <td id=\"T_3fbde_row17_col1\" class=\"data row17 col1\" >ameisenstrassenwetten</td>\n",
       "                        <td id=\"T_3fbde_row17_col2\" class=\"data row17 col2\" >stocks</td>\n",
       "                        <td id=\"T_3fbde_row17_col3\" class=\"data row17 col3\" >not_shown_in_theaters</td>\n",
       "                        <td id=\"T_3fbde_row17_col4\" class=\"data row17 col4\" >None</td>\n",
       "                        <td id=\"T_3fbde_row17_col5\" class=\"data row17 col5\" >English</td>\n",
       "                        <td id=\"T_3fbde_row17_col6\" class=\"data row17 col6\" >100.00%</td>\n",
       "                        <td id=\"T_3fbde_row17_col7\" class=\"data row17 col7\" >117</td>\n",
       "                        <td id=\"T_3fbde_row17_col8\" class=\"data row17 col8\" >None</td>\n",
       "                        <td id=\"T_3fbde_row17_col9\" class=\"data row17 col9\" >None</td>\n",
       "                        <td id=\"T_3fbde_row17_col10\" class=\"data row17 col10\" >German</td>\n",
       "                        <td id=\"T_3fbde_row17_col11\" class=\"data row17 col11\" >88.37%</td>\n",
       "                        <td id=\"T_3fbde_row17_col12\" class=\"data row17 col12\" >12</td>\n",
       "            </tr>\n",
       "            <tr>\n",
       "                        <th id=\"T_3fbde_level0_row18\" class=\"row_heading level0 row18\" >18</th>\n",
       "                        <td id=\"T_3fbde_row18_col0\" class=\"data row18 col0\" >0.6483</td>\n",
       "                        <td id=\"T_3fbde_row18_col1\" class=\"data row18 col1\" >ameisenstrassenwetten</td>\n",
       "                        <td id=\"T_3fbde_row18_col2\" class=\"data row18 col2\" >stashinvest</td>\n",
       "                        <td id=\"T_3fbde_row18_col3\" class=\"data row18 col3\" >pg13</td>\n",
       "                        <td id=\"T_3fbde_row18_col4\" class=\"data row18 col4\" >Business, Economics, and Finance</td>\n",
       "                        <td id=\"T_3fbde_row18_col5\" class=\"data row18 col5\" >English</td>\n",
       "                        <td id=\"T_3fbde_row18_col6\" class=\"data row18 col6\" >95.51%</td>\n",
       "                        <td id=\"T_3fbde_row18_col7\" class=\"data row18 col7\" >21</td>\n",
       "                        <td id=\"T_3fbde_row18_col8\" class=\"data row18 col8\" >None</td>\n",
       "                        <td id=\"T_3fbde_row18_col9\" class=\"data row18 col9\" >None</td>\n",
       "                        <td id=\"T_3fbde_row18_col10\" class=\"data row18 col10\" >German</td>\n",
       "                        <td id=\"T_3fbde_row18_col11\" class=\"data row18 col11\" >88.37%</td>\n",
       "                        <td id=\"T_3fbde_row18_col12\" class=\"data row18 col12\" >12</td>\n",
       "            </tr>\n",
       "            <tr>\n",
       "                        <th id=\"T_3fbde_level0_row19\" class=\"row_heading level0 row19\" >19</th>\n",
       "                        <td id=\"T_3fbde_row19_col0\" class=\"data row19 col0\" >0.6457</td>\n",
       "                        <td id=\"T_3fbde_row19_col1\" class=\"data row19 col1\" >ameisenstrassenwetten</td>\n",
       "                        <td id=\"T_3fbde_row19_col2\" class=\"data row19 col2\" >trustwalletcommunity</td>\n",
       "                        <td id=\"T_3fbde_row19_col3\" class=\"data row19 col3\" >None</td>\n",
       "                        <td id=\"T_3fbde_row19_col4\" class=\"data row19 col4\" >None</td>\n",
       "                        <td id=\"T_3fbde_row19_col5\" class=\"data row19 col5\" >English</td>\n",
       "                        <td id=\"T_3fbde_row19_col6\" class=\"data row19 col6\" >89.17%</td>\n",
       "                        <td id=\"T_3fbde_row19_col7\" class=\"data row19 col7\" >12</td>\n",
       "                        <td id=\"T_3fbde_row19_col8\" class=\"data row19 col8\" >None</td>\n",
       "                        <td id=\"T_3fbde_row19_col9\" class=\"data row19 col9\" >None</td>\n",
       "                        <td id=\"T_3fbde_row19_col10\" class=\"data row19 col10\" >German</td>\n",
       "                        <td id=\"T_3fbde_row19_col11\" class=\"data row19 col11\" >88.37%</td>\n",
       "                        <td id=\"T_3fbde_row19_col12\" class=\"data row19 col12\" >12</td>\n",
       "            </tr>\n",
       "    </tbody></table>"
      ],
      "text/plain": [
       "<pandas.io.formats.style.Styler at 0x7f2bb1918850>"
      ]
     },
     "metadata": {},
     "output_type": "display_data"
    },
    {
     "name": "stdout",
     "output_type": "stream",
     "text": [
      "\n",
      "Cluster ID: 22\n",
      "  28 Subreddit count in group\n"
     ]
    },
    {
     "data": {
      "text/html": [
       "<style  type=\"text/css\" >\n",
       "#T_2efe5_row0_col2{\n",
       "            width:  10em;\n",
       "             height:  80%;\n",
       "            background:  linear-gradient(90deg,#95cff5 100.0%, transparent 100.0%);\n",
       "        }#T_2efe5_row1_col2{\n",
       "            width:  10em;\n",
       "             height:  80%;\n",
       "            background:  linear-gradient(90deg,#95cff5 14.3%, transparent 14.3%);\n",
       "        }#T_2efe5_row2_col2,#T_2efe5_row3_col2{\n",
       "            width:  10em;\n",
       "             height:  80%;\n",
       "        }</style><table id=\"T_2efe5_\" ><thead>    <tr>        <th class=\"col_heading level0 col0\" >manual_topic_and_rating</th>        <th class=\"col_heading level0 col1\" >count</th>        <th class=\"col_heading level0 col2\" >percent</th>    </tr></thead><tbody>\n",
       "                <tr>\n",
       "                                <td id=\"T_2efe5_row0_col0\" class=\"data row0 col0\" >uncategorized</td>\n",
       "                        <td id=\"T_2efe5_row0_col1\" class=\"data row0 col1\" >22</td>\n",
       "                        <td id=\"T_2efe5_row0_col2\" class=\"data row0 col2\" >78.6%</td>\n",
       "            </tr>\n",
       "            <tr>\n",
       "                                <td id=\"T_2efe5_row1_col0\" class=\"data row1 col0\" >business, economics, and finance</td>\n",
       "                        <td id=\"T_2efe5_row1_col1\" class=\"data row1 col1\" >4</td>\n",
       "                        <td id=\"T_2efe5_row1_col2\" class=\"data row1 col2\" >14.3%</td>\n",
       "            </tr>\n",
       "            <tr>\n",
       "                                <td id=\"T_2efe5_row2_col0\" class=\"data row2 col0\" >over18_nsfw</td>\n",
       "                        <td id=\"T_2efe5_row2_col1\" class=\"data row2 col1\" >1</td>\n",
       "                        <td id=\"T_2efe5_row2_col2\" class=\"data row2 col2\" >3.6%</td>\n",
       "            </tr>\n",
       "            <tr>\n",
       "                                <td id=\"T_2efe5_row3_col0\" class=\"data row3 col0\" >internet culture and memes</td>\n",
       "                        <td id=\"T_2efe5_row3_col1\" class=\"data row3 col1\" >1</td>\n",
       "                        <td id=\"T_2efe5_row3_col2\" class=\"data row3 col2\" >3.6%</td>\n",
       "            </tr>\n",
       "    </tbody></table>"
      ],
      "text/plain": [
       "<pandas.io.formats.style.Styler at 0x7f2a2d2c6490>"
      ]
     },
     "metadata": {},
     "output_type": "display_data"
    },
    {
     "data": {
      "text/html": [
       "<style  type=\"text/css\" >\n",
       "#T_14d18_row0_col2,#T_14d18_row1_col2,#T_14d18_row2_col2,#T_14d18_row3_col2,#T_14d18_row4_col2,#T_14d18_row5_col2,#T_14d18_row6_col2,#T_14d18_row7_col2,#T_14d18_row8_col2,#T_14d18_row9_col2,#T_14d18_row10_col2,#T_14d18_row11_col2,#T_14d18_row12_col2,#T_14d18_row13_col2,#T_14d18_row14_col2{\n",
       "            width:  120px;\n",
       "        }#T_14d18_row0_col5{\n",
       "            width:  10em;\n",
       "             height:  80%;\n",
       "            background:  linear-gradient(90deg,#95cff5 90.8%, transparent 90.8%);\n",
       "        }#T_14d18_row0_col8,#T_14d18_row2_col5,#T_14d18_row5_col5{\n",
       "            width:  10em;\n",
       "             height:  80%;\n",
       "            background:  linear-gradient(90deg,#95cff5 100.0%, transparent 100.0%);\n",
       "        }#T_14d18_row1_col5{\n",
       "            width:  10em;\n",
       "             height:  80%;\n",
       "            background:  linear-gradient(90deg,#95cff5 88.7%, transparent 88.7%);\n",
       "        }#T_14d18_row1_col8{\n",
       "            width:  10em;\n",
       "             height:  80%;\n",
       "            background:  linear-gradient(90deg,#95cff5 24.4%, transparent 24.4%);\n",
       "        }#T_14d18_row2_col8{\n",
       "            width:  10em;\n",
       "             height:  80%;\n",
       "            background:  linear-gradient(90deg,#95cff5 24.1%, transparent 24.1%);\n",
       "        }#T_14d18_row3_col5{\n",
       "            width:  10em;\n",
       "             height:  80%;\n",
       "            background:  linear-gradient(90deg,#95cff5 99.5%, transparent 99.5%);\n",
       "        }#T_14d18_row3_col8{\n",
       "            width:  10em;\n",
       "             height:  80%;\n",
       "            background:  linear-gradient(90deg,#95cff5 16.8%, transparent 16.8%);\n",
       "        }#T_14d18_row4_col5{\n",
       "            width:  10em;\n",
       "             height:  80%;\n",
       "            background:  linear-gradient(90deg,#95cff5 98.7%, transparent 98.7%);\n",
       "        }#T_14d18_row4_col8{\n",
       "            width:  10em;\n",
       "             height:  80%;\n",
       "            background:  linear-gradient(90deg,#95cff5 9.0%, transparent 9.0%);\n",
       "        }#T_14d18_row5_col8{\n",
       "            width:  10em;\n",
       "             height:  80%;\n",
       "            background:  linear-gradient(90deg,#95cff5 7.8%, transparent 7.8%);\n",
       "        }#T_14d18_row6_col5{\n",
       "            width:  10em;\n",
       "             height:  80%;\n",
       "            background:  linear-gradient(90deg,#95cff5 96.0%, transparent 96.0%);\n",
       "        }#T_14d18_row6_col8{\n",
       "            width:  10em;\n",
       "             height:  80%;\n",
       "            background:  linear-gradient(90deg,#95cff5 3.1%, transparent 3.1%);\n",
       "        }#T_14d18_row7_col5{\n",
       "            width:  10em;\n",
       "             height:  80%;\n",
       "            background:  linear-gradient(90deg,#95cff5 99.7%, transparent 99.7%);\n",
       "        }#T_14d18_row7_col8{\n",
       "            width:  10em;\n",
       "             height:  80%;\n",
       "            background:  linear-gradient(90deg,#95cff5 2.2%, transparent 2.2%);\n",
       "        }#T_14d18_row8_col5{\n",
       "            width:  10em;\n",
       "             height:  80%;\n",
       "            background:  linear-gradient(90deg,#95cff5 88.0%, transparent 88.0%);\n",
       "        }#T_14d18_row8_col8{\n",
       "            width:  10em;\n",
       "             height:  80%;\n",
       "            background:  linear-gradient(90deg,#95cff5 1.8%, transparent 1.8%);\n",
       "        }#T_14d18_row9_col5{\n",
       "            width:  10em;\n",
       "             height:  80%;\n",
       "            background:  linear-gradient(90deg,#95cff5 96.7%, transparent 96.7%);\n",
       "        }#T_14d18_row9_col8,#T_14d18_row10_col8{\n",
       "            width:  10em;\n",
       "             height:  80%;\n",
       "            background:  linear-gradient(90deg,#95cff5 0.3%, transparent 0.3%);\n",
       "        }#T_14d18_row10_col5{\n",
       "            width:  10em;\n",
       "             height:  80%;\n",
       "            background:  linear-gradient(90deg,#95cff5 70.9%, transparent 70.9%);\n",
       "        }#T_14d18_row11_col5{\n",
       "            width:  10em;\n",
       "             height:  80%;\n",
       "            background:  linear-gradient(90deg,#95cff5 97.7%, transparent 97.7%);\n",
       "        }#T_14d18_row11_col8,#T_14d18_row12_col8{\n",
       "            width:  10em;\n",
       "             height:  80%;\n",
       "            background:  linear-gradient(90deg,#95cff5 0.2%, transparent 0.2%);\n",
       "        }#T_14d18_row12_col5{\n",
       "            width:  10em;\n",
       "             height:  80%;\n",
       "            background:  linear-gradient(90deg,#95cff5 83.3%, transparent 83.3%);\n",
       "        }#T_14d18_row13_col5{\n",
       "            width:  10em;\n",
       "             height:  80%;\n",
       "            background:  linear-gradient(90deg,#95cff5 91.2%, transparent 91.2%);\n",
       "        }#T_14d18_row13_col8,#T_14d18_row14_col8{\n",
       "            width:  10em;\n",
       "             height:  80%;\n",
       "            background:  linear-gradient(90deg,#95cff5 0.1%, transparent 0.1%);\n",
       "        }#T_14d18_row14_col5{\n",
       "            width:  10em;\n",
       "             height:  80%;\n",
       "            background:  linear-gradient(90deg,#95cff5 94.5%, transparent 94.5%);\n",
       "        }</style><table id=\"T_14d18_\" ><thead>    <tr>        <th class=\"col_heading level0 col0\" >subreddit name</th>        <th class=\"col_heading level0 col1\" >rating</th>        <th class=\"col_heading level0 col2\" >topic</th>        <th class=\"col_heading level0 col3\" >subreddit title</th>        <th class=\"col_heading level0 col4\" >primary post language</th>        <th class=\"col_heading level0 col5\" >primary post language percent</th>        <th class=\"col_heading level0 col6\" >primary post type</th>        <th class=\"col_heading level0 col7\" >primary post type percent</th>        <th class=\"col_heading level0 col8\" >users l28</th>        <th class=\"col_heading level0 col9\" >posts l28</th>        <th class=\"col_heading level0 col10\" >comments l28</th>        <th class=\"col_heading level0 col11\" >post median word count</th>        <th class=\"col_heading level0 col12\" >primary post language in use multilingual</th>        <th class=\"col_heading level0 col13\" >manual topic and rating</th>        <th class=\"col_heading level0 col14\" >rating version</th>        <th class=\"col_heading level0 col15\" >over 18</th>    </tr></thead><tbody>\n",
       "                <tr>\n",
       "                                <td id=\"T_14d18_row0_col0\" class=\"data row0 col0\" >wallstreetbets</td>\n",
       "                        <td id=\"T_14d18_row0_col1\" class=\"data row0 col1\" >r</td>\n",
       "                        <td id=\"T_14d18_row0_col2\" class=\"data row0 col2\" >None</td>\n",
       "                        <td id=\"T_14d18_row0_col3\" class=\"data row0 col3\" >wallstreetbets</td>\n",
       "                        <td id=\"T_14d18_row0_col4\" class=\"data row0 col4\" >English</td>\n",
       "                        <td id=\"T_14d18_row0_col5\" class=\"data row0 col5\" >90.83%</td>\n",
       "                        <td id=\"T_14d18_row0_col6\" class=\"data row0 col6\" >image</td>\n",
       "                        <td id=\"T_14d18_row0_col7\" class=\"data row0 col7\" >35.67%</td>\n",
       "                        <td id=\"T_14d18_row0_col8\" class=\"data row0 col8\" >7,636,762</td>\n",
       "                        <td id=\"T_14d18_row0_col9\" class=\"data row0 col9\" >43,615</td>\n",
       "                        <td id=\"T_14d18_row0_col10\" class=\"data row0 col10\" >1,187,212</td>\n",
       "                        <td id=\"T_14d18_row0_col11\" class=\"data row0 col11\" >14</td>\n",
       "                        <td id=\"T_14d18_row0_col12\" class=\"data row0 col12\" >True</td>\n",
       "                        <td id=\"T_14d18_row0_col13\" class=\"data row0 col13\" >uncategorized</td>\n",
       "                        <td id=\"T_14d18_row0_col14\" class=\"data row0 col14\" >v2</td>\n",
       "                        <td id=\"T_14d18_row0_col15\" class=\"data row0 col15\" >f</td>\n",
       "            </tr>\n",
       "            <tr>\n",
       "                                <td id=\"T_14d18_row1_col0\" class=\"data row1 col0\" >amcstock</td>\n",
       "                        <td id=\"T_14d18_row1_col1\" class=\"data row1 col1\" >None</td>\n",
       "                        <td id=\"T_14d18_row1_col2\" class=\"data row1 col2\" >None</td>\n",
       "                        <td id=\"T_14d18_row1_col3\" class=\"data row1 col3\" >amcstock</td>\n",
       "                        <td id=\"T_14d18_row1_col4\" class=\"data row1 col4\" >English</td>\n",
       "                        <td id=\"T_14d18_row1_col5\" class=\"data row1 col5\" >88.67%</td>\n",
       "                        <td id=\"T_14d18_row1_col6\" class=\"data row1 col6\" >image</td>\n",
       "                        <td id=\"T_14d18_row1_col7\" class=\"data row1 col7\" >65.42%</td>\n",
       "                        <td id=\"T_14d18_row1_col8\" class=\"data row1 col8\" >1,864,135</td>\n",
       "                        <td id=\"T_14d18_row1_col9\" class=\"data row1 col9\" >46,778</td>\n",
       "                        <td id=\"T_14d18_row1_col10\" class=\"data row1 col10\" >980,536</td>\n",
       "                        <td id=\"T_14d18_row1_col11\" class=\"data row1 col11\" >12</td>\n",
       "                        <td id=\"T_14d18_row1_col12\" class=\"data row1 col12\" >True</td>\n",
       "                        <td id=\"T_14d18_row1_col13\" class=\"data row1 col13\" >uncategorized</td>\n",
       "                        <td id=\"T_14d18_row1_col14\" class=\"data row1 col14\" >None</td>\n",
       "                        <td id=\"T_14d18_row1_col15\" class=\"data row1 col15\" >f</td>\n",
       "            </tr>\n",
       "            <tr>\n",
       "                                <td id=\"T_14d18_row2_col0\" class=\"data row2 col0\" >stocks</td>\n",
       "                        <td id=\"T_14d18_row2_col1\" class=\"data row2 col1\" >not_shown_in_theaters</td>\n",
       "                        <td id=\"T_14d18_row2_col2\" class=\"data row2 col2\" >None</td>\n",
       "                        <td id=\"T_14d18_row2_col3\" class=\"data row2 col3\" >Stocks - Investing and trading for all</td>\n",
       "                        <td id=\"T_14d18_row2_col4\" class=\"data row2 col4\" >English</td>\n",
       "                        <td id=\"T_14d18_row2_col5\" class=\"data row2 col5\" >100.00%</td>\n",
       "                        <td id=\"T_14d18_row2_col6\" class=\"data row2 col6\" >text</td>\n",
       "                        <td id=\"T_14d18_row2_col7\" class=\"data row2 col7\" >99.92%</td>\n",
       "                        <td id=\"T_14d18_row2_col8\" class=\"data row2 col8\" >1,842,886</td>\n",
       "                        <td id=\"T_14d18_row2_col9\" class=\"data row2 col9\" >5,356</td>\n",
       "                        <td id=\"T_14d18_row2_col10\" class=\"data row2 col10\" >99,648</td>\n",
       "                        <td id=\"T_14d18_row2_col11\" class=\"data row2 col11\" >117</td>\n",
       "                        <td id=\"T_14d18_row2_col12\" class=\"data row2 col12\" >True</td>\n",
       "                        <td id=\"T_14d18_row2_col13\" class=\"data row2 col13\" >uncategorized</td>\n",
       "                        <td id=\"T_14d18_row2_col14\" class=\"data row2 col14\" >v2</td>\n",
       "                        <td id=\"T_14d18_row2_col15\" class=\"data row2 col15\" >f</td>\n",
       "            </tr>\n",
       "            <tr>\n",
       "                                <td id=\"T_14d18_row3_col0\" class=\"data row3 col0\" >investing</td>\n",
       "                        <td id=\"T_14d18_row3_col1\" class=\"data row3 col1\" >pg13</td>\n",
       "                        <td id=\"T_14d18_row3_col2\" class=\"data row3 col2\" >None</td>\n",
       "                        <td id=\"T_14d18_row3_col3\" class=\"data row3 col3\" >Lose money with friends!</td>\n",
       "                        <td id=\"T_14d18_row3_col4\" class=\"data row3 col4\" >English</td>\n",
       "                        <td id=\"T_14d18_row3_col5\" class=\"data row3 col5\" >99.50%</td>\n",
       "                        <td id=\"T_14d18_row3_col6\" class=\"data row3 col6\" >text</td>\n",
       "                        <td id=\"T_14d18_row3_col7\" class=\"data row3 col7\" >100.00%</td>\n",
       "                        <td id=\"T_14d18_row3_col8\" class=\"data row3 col8\" >1,284,784</td>\n",
       "                        <td id=\"T_14d18_row3_col9\" class=\"data row3 col9\" >3,641</td>\n",
       "                        <td id=\"T_14d18_row3_col10\" class=\"data row3 col10\" >55,567</td>\n",
       "                        <td id=\"T_14d18_row3_col11\" class=\"data row3 col11\" >140</td>\n",
       "                        <td id=\"T_14d18_row3_col12\" class=\"data row3 col12\" >True</td>\n",
       "                        <td id=\"T_14d18_row3_col13\" class=\"data row3 col13\" >uncategorized</td>\n",
       "                        <td id=\"T_14d18_row3_col14\" class=\"data row3 col14\" >v1</td>\n",
       "                        <td id=\"T_14d18_row3_col15\" class=\"data row3 col15\" >f</td>\n",
       "            </tr>\n",
       "            <tr>\n",
       "                                <td id=\"T_14d18_row4_col0\" class=\"data row4 col0\" >pennystocks</td>\n",
       "                        <td id=\"T_14d18_row4_col1\" class=\"data row4 col1\" >r</td>\n",
       "                        <td id=\"T_14d18_row4_col2\" class=\"data row4 col2\" >None</td>\n",
       "                        <td id=\"T_14d18_row4_col3\" class=\"data row4 col3\" >Welcome to /r/pennystocks</td>\n",
       "                        <td id=\"T_14d18_row4_col4\" class=\"data row4 col4\" >English</td>\n",
       "                        <td id=\"T_14d18_row4_col5\" class=\"data row4 col5\" >98.67%</td>\n",
       "                        <td id=\"T_14d18_row4_col6\" class=\"data row4 col6\" >text</td>\n",
       "                        <td id=\"T_14d18_row4_col7\" class=\"data row4 col7\" >73.17%</td>\n",
       "                        <td id=\"T_14d18_row4_col8\" class=\"data row4 col8\" >689,835</td>\n",
       "                        <td id=\"T_14d18_row4_col9\" class=\"data row4 col9\" >3,388</td>\n",
       "                        <td id=\"T_14d18_row4_col10\" class=\"data row4 col10\" >41,325</td>\n",
       "                        <td id=\"T_14d18_row4_col11\" class=\"data row4 col11\" >191</td>\n",
       "                        <td id=\"T_14d18_row4_col12\" class=\"data row4 col12\" >True</td>\n",
       "                        <td id=\"T_14d18_row4_col13\" class=\"data row4 col13\" >uncategorized</td>\n",
       "                        <td id=\"T_14d18_row4_col14\" class=\"data row4 col14\" >v1</td>\n",
       "                        <td id=\"T_14d18_row4_col15\" class=\"data row4 col15\" >f</td>\n",
       "            </tr>\n",
       "            <tr>\n",
       "                                <td id=\"T_14d18_row5_col0\" class=\"data row5 col0\" >options</td>\n",
       "                        <td id=\"T_14d18_row5_col1\" class=\"data row5 col1\" >pg13</td>\n",
       "                        <td id=\"T_14d18_row5_col2\" class=\"data row5 col2\" >None</td>\n",
       "                        <td id=\"T_14d18_row5_col3\" class=\"data row5 col3\" >/r/Options </td>\n",
       "                        <td id=\"T_14d18_row5_col4\" class=\"data row5 col4\" >English</td>\n",
       "                        <td id=\"T_14d18_row5_col5\" class=\"data row5 col5\" >100.00%</td>\n",
       "                        <td id=\"T_14d18_row5_col6\" class=\"data row5 col6\" >text</td>\n",
       "                        <td id=\"T_14d18_row5_col7\" class=\"data row5 col7\" >92.67%</td>\n",
       "                        <td id=\"T_14d18_row5_col8\" class=\"data row5 col8\" >593,598</td>\n",
       "                        <td id=\"T_14d18_row5_col9\" class=\"data row5 col9\" >2,453</td>\n",
       "                        <td id=\"T_14d18_row5_col10\" class=\"data row5 col10\" >33,751</td>\n",
       "                        <td id=\"T_14d18_row5_col11\" class=\"data row5 col11\" >94</td>\n",
       "                        <td id=\"T_14d18_row5_col12\" class=\"data row5 col12\" >True</td>\n",
       "                        <td id=\"T_14d18_row5_col13\" class=\"data row5 col13\" >uncategorized</td>\n",
       "                        <td id=\"T_14d18_row5_col14\" class=\"data row5 col14\" >v2</td>\n",
       "                        <td id=\"T_14d18_row5_col15\" class=\"data row5 col15\" >f</td>\n",
       "            </tr>\n",
       "            <tr>\n",
       "                                <td id=\"T_14d18_row6_col0\" class=\"data row6 col0\" >finanzen</td>\n",
       "                        <td id=\"T_14d18_row6_col1\" class=\"data row6 col1\" >pg</td>\n",
       "                        <td id=\"T_14d18_row6_col2\" class=\"data row6 col2\" >Business, Economics, and Finance</td>\n",
       "                        <td id=\"T_14d18_row6_col3\" class=\"data row6 col3\" >Fragen und Antworten zu Finanzen</td>\n",
       "                        <td id=\"T_14d18_row6_col4\" class=\"data row6 col4\" >German</td>\n",
       "                        <td id=\"T_14d18_row6_col5\" class=\"data row6 col5\" >96.00%</td>\n",
       "                        <td id=\"T_14d18_row6_col6\" class=\"data row6 col6\" >text</td>\n",
       "                        <td id=\"T_14d18_row6_col7\" class=\"data row6 col7\" >82.00%</td>\n",
       "                        <td id=\"T_14d18_row6_col8\" class=\"data row6 col8\" >233,475</td>\n",
       "                        <td id=\"T_14d18_row6_col9\" class=\"data row6 col9\" >1,096</td>\n",
       "                        <td id=\"T_14d18_row6_col10\" class=\"data row6 col10\" >29,755</td>\n",
       "                        <td id=\"T_14d18_row6_col11\" class=\"data row6 col11\" >103</td>\n",
       "                        <td id=\"T_14d18_row6_col12\" class=\"data row6 col12\" >True</td>\n",
       "                        <td id=\"T_14d18_row6_col13\" class=\"data row6 col13\" >business, economics, and finance</td>\n",
       "                        <td id=\"T_14d18_row6_col14\" class=\"data row6 col14\" >v1</td>\n",
       "                        <td id=\"T_14d18_row6_col15\" class=\"data row6 col15\" >None</td>\n",
       "            </tr>\n",
       "            <tr>\n",
       "                                <td id=\"T_14d18_row7_col0\" class=\"data row7 col0\" >dividends</td>\n",
       "                        <td id=\"T_14d18_row7_col1\" class=\"data row7 col1\" >pg13</td>\n",
       "                        <td id=\"T_14d18_row7_col2\" class=\"data row7 col2\" >None</td>\n",
       "                        <td id=\"T_14d18_row7_col3\" class=\"data row7 col3\" >Dividend Investing</td>\n",
       "                        <td id=\"T_14d18_row7_col4\" class=\"data row7 col4\" >English</td>\n",
       "                        <td id=\"T_14d18_row7_col5\" class=\"data row7 col5\" >99.69%</td>\n",
       "                        <td id=\"T_14d18_row7_col6\" class=\"data row7 col6\" >text</td>\n",
       "                        <td id=\"T_14d18_row7_col7\" class=\"data row7 col7\" >92.86%</td>\n",
       "                        <td id=\"T_14d18_row7_col8\" class=\"data row7 col8\" >164,369</td>\n",
       "                        <td id=\"T_14d18_row7_col9\" class=\"data row7 col9\" >746</td>\n",
       "                        <td id=\"T_14d18_row7_col10\" class=\"data row7 col10\" >15,064</td>\n",
       "                        <td id=\"T_14d18_row7_col11\" class=\"data row7 col11\" >75</td>\n",
       "                        <td id=\"T_14d18_row7_col12\" class=\"data row7 col12\" >True</td>\n",
       "                        <td id=\"T_14d18_row7_col13\" class=\"data row7 col13\" >uncategorized</td>\n",
       "                        <td id=\"T_14d18_row7_col14\" class=\"data row7 col14\" >v2</td>\n",
       "                        <td id=\"T_14d18_row7_col15\" class=\"data row7 col15\" >f</td>\n",
       "            </tr>\n",
       "            <tr>\n",
       "                                <td id=\"T_14d18_row8_col0\" class=\"data row8 col0\" >mauerstrassenwetten</td>\n",
       "                        <td id=\"T_14d18_row8_col1\" class=\"data row8 col1\" >r</td>\n",
       "                        <td id=\"T_14d18_row8_col2\" class=\"data row8 col2\" >Internet Culture and Memes</td>\n",
       "                        <td id=\"T_14d18_row8_col3\" class=\"data row8 col3\" >mauerstrassenwetten</td>\n",
       "                        <td id=\"T_14d18_row8_col4\" class=\"data row8 col4\" >German</td>\n",
       "                        <td id=\"T_14d18_row8_col5\" class=\"data row8 col5\" >87.96%</td>\n",
       "                        <td id=\"T_14d18_row8_col6\" class=\"data row8 col6\" >image</td>\n",
       "                        <td id=\"T_14d18_row8_col7\" class=\"data row8 col7\" >53.98%</td>\n",
       "                        <td id=\"T_14d18_row8_col8\" class=\"data row8 col8\" >133,744</td>\n",
       "                        <td id=\"T_14d18_row8_col9\" class=\"data row8 col9\" >653</td>\n",
       "                        <td id=\"T_14d18_row8_col10\" class=\"data row8 col10\" >56,007</td>\n",
       "                        <td id=\"T_14d18_row8_col11\" class=\"data row8 col11\" >9</td>\n",
       "                        <td id=\"T_14d18_row8_col12\" class=\"data row8 col12\" >True</td>\n",
       "                        <td id=\"T_14d18_row8_col13\" class=\"data row8 col13\" >internet culture and memes</td>\n",
       "                        <td id=\"T_14d18_row8_col14\" class=\"data row8 col14\" >None</td>\n",
       "                        <td id=\"T_14d18_row8_col15\" class=\"data row8 col15\" >None</td>\n",
       "            </tr>\n",
       "            <tr>\n",
       "                                <td id=\"T_14d18_row9_col0\" class=\"data row9 col0\" >aktien</td>\n",
       "                        <td id=\"T_14d18_row9_col1\" class=\"data row9 col1\" >None</td>\n",
       "                        <td id=\"T_14d18_row9_col2\" class=\"data row9 col2\" >None</td>\n",
       "                        <td id=\"T_14d18_row9_col3\" class=\"data row9 col3\" >Aktien, Handel und Investmentstrategien</td>\n",
       "                        <td id=\"T_14d18_row9_col4\" class=\"data row9 col4\" >German</td>\n",
       "                        <td id=\"T_14d18_row9_col5\" class=\"data row9 col5\" >96.74%</td>\n",
       "                        <td id=\"T_14d18_row9_col6\" class=\"data row9 col6\" >text</td>\n",
       "                        <td id=\"T_14d18_row9_col7\" class=\"data row9 col7\" >84.57%</td>\n",
       "                        <td id=\"T_14d18_row9_col8\" class=\"data row9 col8\" >22,071</td>\n",
       "                        <td id=\"T_14d18_row9_col9\" class=\"data row9 col9\" >306</td>\n",
       "                        <td id=\"T_14d18_row9_col10\" class=\"data row9 col10\" >2,023</td>\n",
       "                        <td id=\"T_14d18_row9_col11\" class=\"data row9 col11\" >38</td>\n",
       "                        <td id=\"T_14d18_row9_col12\" class=\"data row9 col12\" >True</td>\n",
       "                        <td id=\"T_14d18_row9_col13\" class=\"data row9 col13\" >uncategorized</td>\n",
       "                        <td id=\"T_14d18_row9_col14\" class=\"data row9 col14\" >None</td>\n",
       "                        <td id=\"T_14d18_row9_col15\" class=\"data row9 col15\" >f</td>\n",
       "            </tr>\n",
       "            <tr>\n",
       "                                <td id=\"T_14d18_row10_col0\" class=\"data row10 col0\" >farialimabets</td>\n",
       "                        <td id=\"T_14d18_row10_col1\" class=\"data row10 col1\" >None</td>\n",
       "                        <td id=\"T_14d18_row10_col2\" class=\"data row10 col2\" >None</td>\n",
       "                        <td id=\"T_14d18_row10_col3\" class=\"data row10 col3\" >Subdesenvolvimento, agora também no mercado financeiro.</td>\n",
       "                        <td id=\"T_14d18_row10_col4\" class=\"data row10 col4\" >Portuguese</td>\n",
       "                        <td id=\"T_14d18_row10_col5\" class=\"data row10 col5\" >70.94%</td>\n",
       "                        <td id=\"T_14d18_row10_col6\" class=\"data row10 col6\" >image</td>\n",
       "                        <td id=\"T_14d18_row10_col7\" class=\"data row10 col7\" >51.28%</td>\n",
       "                        <td id=\"T_14d18_row10_col8\" class=\"data row10 col8\" >19,428</td>\n",
       "                        <td id=\"T_14d18_row10_col9\" class=\"data row10 col9\" >277</td>\n",
       "                        <td id=\"T_14d18_row10_col10\" class=\"data row10 col10\" >3,899</td>\n",
       "                        <td id=\"T_14d18_row10_col11\" class=\"data row10 col11\" >9</td>\n",
       "                        <td id=\"T_14d18_row10_col12\" class=\"data row10 col12\" >True</td>\n",
       "                        <td id=\"T_14d18_row10_col13\" class=\"data row10 col13\" >uncategorized</td>\n",
       "                        <td id=\"T_14d18_row10_col14\" class=\"data row10 col14\" >None</td>\n",
       "                        <td id=\"T_14d18_row10_col15\" class=\"data row10 col15\" >f</td>\n",
       "            </tr>\n",
       "            <tr>\n",
       "                                <td id=\"T_14d18_row11_col0\" class=\"data row11 col0\" >portfolios</td>\n",
       "                        <td id=\"T_14d18_row11_col1\" class=\"data row11 col1\" >pg13</td>\n",
       "                        <td id=\"T_14d18_row11_col2\" class=\"data row11 col2\" >None</td>\n",
       "                        <td id=\"T_14d18_row11_col3\" class=\"data row11 col3\" >Share, Compare & Improve Long-Term Investment Portfolio Strategies</td>\n",
       "                        <td id=\"T_14d18_row11_col4\" class=\"data row11 col4\" >English</td>\n",
       "                        <td id=\"T_14d18_row11_col5\" class=\"data row11 col5\" >97.74%</td>\n",
       "                        <td id=\"T_14d18_row11_col6\" class=\"data row11 col6\" >text</td>\n",
       "                        <td id=\"T_14d18_row11_col7\" class=\"data row11 col7\" >70.06%</td>\n",
       "                        <td id=\"T_14d18_row11_col8\" class=\"data row11 col8\" >14,484</td>\n",
       "                        <td id=\"T_14d18_row11_col9\" class=\"data row11 col9\" >113</td>\n",
       "                        <td id=\"T_14d18_row11_col10\" class=\"data row11 col10\" >889</td>\n",
       "                        <td id=\"T_14d18_row11_col11\" class=\"data row11 col11\" >87</td>\n",
       "                        <td id=\"T_14d18_row11_col12\" class=\"data row11 col12\" >True</td>\n",
       "                        <td id=\"T_14d18_row11_col13\" class=\"data row11 col13\" >uncategorized</td>\n",
       "                        <td id=\"T_14d18_row11_col14\" class=\"data row11 col14\" >v1</td>\n",
       "                        <td id=\"T_14d18_row11_col15\" class=\"data row11 col15\" >f</td>\n",
       "            </tr>\n",
       "            <tr>\n",
       "                                <td id=\"T_14d18_row12_col0\" class=\"data row12 col0\" >stock</td>\n",
       "                        <td id=\"T_14d18_row12_col1\" class=\"data row12 col1\" >None</td>\n",
       "                        <td id=\"T_14d18_row12_col2\" class=\"data row12 col2\" >None</td>\n",
       "                        <td id=\"T_14d18_row12_col3\" class=\"data row12 col3\" >Soup stock? Viva la Soup!</td>\n",
       "                        <td id=\"T_14d18_row12_col4\" class=\"data row12 col4\" >English</td>\n",
       "                        <td id=\"T_14d18_row12_col5\" class=\"data row12 col5\" >83.33%</td>\n",
       "                        <td id=\"T_14d18_row12_col6\" class=\"data row12 col6\" >text</td>\n",
       "                        <td id=\"T_14d18_row12_col7\" class=\"data row12 col7\" >52.56%</td>\n",
       "                        <td id=\"T_14d18_row12_col8\" class=\"data row12 col8\" >12,029</td>\n",
       "                        <td id=\"T_14d18_row12_col9\" class=\"data row12 col9\" >97</td>\n",
       "                        <td id=\"T_14d18_row12_col10\" class=\"data row12 col10\" >89</td>\n",
       "                        <td id=\"T_14d18_row12_col11\" class=\"data row12 col11\" >20</td>\n",
       "                        <td id=\"T_14d18_row12_col12\" class=\"data row12 col12\" >True</td>\n",
       "                        <td id=\"T_14d18_row12_col13\" class=\"data row12 col13\" >uncategorized</td>\n",
       "                        <td id=\"T_14d18_row12_col14\" class=\"data row12 col14\" >None</td>\n",
       "                        <td id=\"T_14d18_row12_col15\" class=\"data row12 col15\" >f</td>\n",
       "            </tr>\n",
       "            <tr>\n",
       "                                <td id=\"T_14d18_row13_col0\" class=\"data row13 col0\" >tilray</td>\n",
       "                        <td id=\"T_14d18_row13_col1\" class=\"data row13 col1\" >None</td>\n",
       "                        <td id=\"T_14d18_row13_col2\" class=\"data row13 col2\" >None</td>\n",
       "                        <td id=\"T_14d18_row13_col3\" class=\"data row13 col3\" >Tilray</td>\n",
       "                        <td id=\"T_14d18_row13_col4\" class=\"data row13 col4\" >English</td>\n",
       "                        <td id=\"T_14d18_row13_col5\" class=\"data row13 col5\" >91.20%</td>\n",
       "                        <td id=\"T_14d18_row13_col6\" class=\"data row13 col6\" >text</td>\n",
       "                        <td id=\"T_14d18_row13_col7\" class=\"data row13 col7\" >47.20%</td>\n",
       "                        <td id=\"T_14d18_row13_col8\" class=\"data row13 col8\" >10,305</td>\n",
       "                        <td id=\"T_14d18_row13_col9\" class=\"data row13 col9\" >171</td>\n",
       "                        <td id=\"T_14d18_row13_col10\" class=\"data row13 col10\" >1,571</td>\n",
       "                        <td id=\"T_14d18_row13_col11\" class=\"data row13 col11\" >13</td>\n",
       "                        <td id=\"T_14d18_row13_col12\" class=\"data row13 col12\" >True</td>\n",
       "                        <td id=\"T_14d18_row13_col13\" class=\"data row13 col13\" >uncategorized</td>\n",
       "                        <td id=\"T_14d18_row13_col14\" class=\"data row13 col14\" >None</td>\n",
       "                        <td id=\"T_14d18_row13_col15\" class=\"data row13 col15\" >f</td>\n",
       "            </tr>\n",
       "            <tr>\n",
       "                                <td id=\"T_14d18_row14_col0\" class=\"data row14 col0\" >stockstobuytoday</td>\n",
       "                        <td id=\"T_14d18_row14_col1\" class=\"data row14 col1\" >None</td>\n",
       "                        <td id=\"T_14d18_row14_col2\" class=\"data row14 col2\" >None</td>\n",
       "                        <td id=\"T_14d18_row14_col3\" class=\"data row14 col3\" >stockstobuytoday</td>\n",
       "                        <td id=\"T_14d18_row14_col4\" class=\"data row14 col4\" >English</td>\n",
       "                        <td id=\"T_14d18_row14_col5\" class=\"data row14 col5\" >94.52%</td>\n",
       "                        <td id=\"T_14d18_row14_col6\" class=\"data row14 col6\" >text</td>\n",
       "                        <td id=\"T_14d18_row14_col7\" class=\"data row14 col7\" >50.68%</td>\n",
       "                        <td id=\"T_14d18_row14_col8\" class=\"data row14 col8\" >7,873</td>\n",
       "                        <td id=\"T_14d18_row14_col9\" class=\"data row14 col9\" >121</td>\n",
       "                        <td id=\"T_14d18_row14_col10\" class=\"data row14 col10\" >217</td>\n",
       "                        <td id=\"T_14d18_row14_col11\" class=\"data row14 col11\" >16</td>\n",
       "                        <td id=\"T_14d18_row14_col12\" class=\"data row14 col12\" >True</td>\n",
       "                        <td id=\"T_14d18_row14_col13\" class=\"data row14 col13\" >uncategorized</td>\n",
       "                        <td id=\"T_14d18_row14_col14\" class=\"data row14 col14\" >None</td>\n",
       "                        <td id=\"T_14d18_row14_col15\" class=\"data row14 col15\" >f</td>\n",
       "            </tr>\n",
       "    </tbody></table>"
      ],
      "text/plain": [
       "<pandas.io.formats.style.Styler at 0x7f2bb1909a50>"
      ]
     },
     "metadata": {},
     "output_type": "display_data"
    },
    {
     "data": {
      "application/vnd.plotly.v1+json": {
       "config": {
        "plotlyServerURL": "https://plot.ly"
       },
       "data": [
        {
         "customdata": [
          [
           "aktien",
           "uncategorized"
          ],
          [
           "amcstock",
           "uncategorized"
          ],
          [
           "binaryoptions",
           "uncategorized"
          ],
          [
           "dividends",
           "uncategorized"
          ],
          [
           "farialimabets",
           "uncategorized"
          ],
          [
           "finanzen",
           "business, economics, and finance"
          ],
          [
           "investing",
           "uncategorized"
          ],
          [
           "mauerstrassenwetten",
           "internet culture and memes"
          ],
          [
           "options",
           "uncategorized"
          ],
          [
           "pennystocks",
           "uncategorized"
          ],
          [
           "ratioatblessons",
           "uncategorized"
          ],
          [
           "stocks",
           "uncategorized"
          ],
          [
           "tilray",
           "uncategorized"
          ],
          [
           "wallstreetbets",
           "uncategorized"
          ],
          [
           "ameisenstrassenwetten",
           "uncategorized"
          ],
          [
           "auxlycannabis",
           "uncategorized"
          ],
          [
           "dalalstreetbets",
           "business, economics, and finance"
          ],
          [
           "investingforbeginners",
           "business, economics, and finance"
          ],
          [
           "portfolios",
           "uncategorized"
          ],
          [
           "doctorstock",
           "uncategorized"
          ],
          [
           "cvm",
           "uncategorized"
          ],
          [
           "etorotraders",
           "uncategorized"
          ],
          [
           "investment",
           "business, economics, and finance"
          ],
          [
           "stockstobuytoday",
           "uncategorized"
          ],
          [
           "body",
           "over18_nsfw"
          ],
          [
           "spac",
           "uncategorized"
          ],
          [
           "stock",
           "uncategorized"
          ],
          [
           "pfennigaktien",
           "uncategorized"
          ]
         ],
         "hovertemplate": "subreddit name: %{customdata[0]}<br>subreddit manual label: %{customdata[1]}",
         "legendgroup": "22",
         "marker": {
          "color": "#636efa",
          "size": [
           1442.9929741353274,
           2083.0075686488126,
           1146.4035152189913,
           1732.6587483914498,
           1424.592402765914,
           1783.2914731178898,
           2029.3095523774027,
           1702.9125432417593,
           1917.9129135977305,
           1939.5893894140545,
           1170.7359132080883,
           2081.3536181509517,
           1333.119687715303,
           2286.452982100844,
           1279.5024983961387,
           1133.2596057789215,
           1247.243700005133,
           1291.0830081296574,
           1382.2272064157764,
           1283.9597483021175,
           1255.6266543582992,
           991.7372079476842,
           1219.936561685798,
           1294.288099715904,
           1225.089053572334,
           1136.577563532627,
           1355.4349022063438,
           984.0777923595053
          ],
          "sizemode": "area",
          "sizeref": 5.716132455252111,
          "symbol": "circle"
         },
         "mode": "markers+text",
         "name": "22",
         "scene": "scene",
         "showlegend": true,
         "text": [
          "",
          "",
          "",
          "",
          "farialimabets",
          "",
          "",
          "mauerstrassenwetten",
          "",
          "",
          "",
          "stocks",
          "",
          "",
          "ameisenstrassenwetten",
          "",
          "dalalstreetbets",
          "",
          "",
          "",
          "",
          "",
          "",
          "",
          "",
          "",
          "",
          ""
         ],
         "type": "scatter3d",
         "x": [
          -0.13088672275131258,
          0.10389833763340993,
          -0.10714270708011253,
          -0.18299548351203745,
          0.045535768368409876,
          -0.18870923136074802,
          -0.19411376202176417,
          0.046364922445066084,
          -0.17827925787490934,
          -0.09615936510373695,
          0.061830984081135826,
          -0.16343483672233602,
          0.06346545611389674,
          0.02653064794747516,
          0.0332047865178441,
          -0.017671975184319164,
          0.02515324446883226,
          -0.20133667190072152,
          -0.18800228352209286,
          -0.08181862621900755,
          -0.06995221521737546,
          -0.05777671376889099,
          -0.10613776409668796,
          -0.022536473857165115,
          0.024833363717681755,
          -0.024807849958399332,
          -0.031048931505294065,
          -0.11065212331743526
         ],
         "y": [
          0.252663223888287,
          0.21344983150143237,
          0.23925168257695606,
          0.29257037571130506,
          0.19432161906998696,
          0.2668360566367983,
          0.2779586207525392,
          0.20683825840686837,
          0.29531525557054406,
          0.2563120828115212,
          0.223891208902892,
          0.2785722951902836,
          0.22208965257005014,
          0.24748534588898988,
          0.21624851119004407,
          0.202962285028358,
          0.20450982857315386,
          0.2833212033308811,
          0.2903301428748042,
          0.21029467163171364,
          0.21501255201467329,
          0.20638838966332373,
          0.19025159827411886,
          0.20768216993398464,
          0.22931546203620393,
          0.19492951746922255,
          0.21887808241470685,
          0.24730449308678426
         ],
         "z": [
          -0.05985951552155175,
          -0.03279399496366725,
          -0.04682119363305968,
          -0.06043145557695499,
          -0.018594296170070662,
          -0.03734005509165825,
          -0.06396836541654013,
          -0.04572070993332812,
          -0.06164740667778238,
          -0.09383761421690223,
          -0.03268215014407601,
          -0.06727312687517153,
          -0.06416716034908851,
          -0.07473002170722341,
          -0.03342043269246307,
          -0.10313801714979101,
          -0.04907154806689214,
          -0.037816757920140234,
          -0.04440186208966009,
          -0.10028699087039986,
          -0.06414824673823838,
          -0.11687208682148144,
          -0.08827005606828284,
          -0.11965710988121211,
          -0.04790544523209879,
          -0.16204811074742895,
          -0.06439587214410057,
          -0.09079265139494172
         ]
        },
        {
         "customdata": [
          [
           "cryptocurrencymemes",
           "uncategorized"
          ]
         ],
         "hovertemplate": "subreddit name: %{customdata[0]}<br>subreddit manual label: %{customdata[1]}",
         "legendgroup": "156",
         "marker": {
          "color": "#EF553B",
          "size": [
           1508.605327099567
          ],
          "sizemode": "area",
          "sizeref": 5.716132455252111,
          "symbol": "circle"
         },
         "mode": "markers+text",
         "name": "156",
         "scene": "scene",
         "showlegend": true,
         "text": [
          ""
         ],
         "type": "scatter3d",
         "x": [
          0.15595777234023764
         ],
         "y": [
          0.18413995487966017
         ],
         "z": [
          0.022297956813171954
         ]
        },
        {
         "customdata": [
          [
           "ecomi",
           "uncategorized"
          ],
          [
           "nanotrade",
           "uncategorized"
          ],
          [
           "trustwalletcommunity",
           "uncategorized"
          ],
          [
           "etc",
           "uncategorized"
          ]
         ],
         "hovertemplate": "subreddit name: %{customdata[0]}<br>subreddit manual label: %{customdata[1]}",
         "legendgroup": "85",
         "marker": {
          "color": "#00cc96",
          "size": [
           1504.379628804688,
           1353.624721568813,
           1288.7220615468384,
           1224.3769031961851
          ],
          "sizemode": "area",
          "sizeref": 5.716132455252111,
          "symbol": "circle"
         },
         "mode": "markers+text",
         "name": "85",
         "scene": "scene",
         "showlegend": true,
         "text": [
          "",
          "",
          "trustwalletcommunity",
          ""
         ],
         "type": "scatter3d",
         "x": [
          -0.010554670595090705,
          0.028077148245159767,
          0.03186858237615549,
          0.007921950226902882
         ],
         "y": [
          0.23871389732814097,
          0.21490529500147876,
          0.21871032790756,
          0.24264671696183132
         ],
         "z": [
          -0.05844812402908584,
          -0.05214402235195895,
          -0.06895435545219619,
          -0.04734183097109535
         ]
        },
        {
         "customdata": [
          [
           "stashinvest",
           "business, economics, and finance"
          ]
         ],
         "hovertemplate": "subreddit name: %{customdata[0]}<br>subreddit manual label: %{customdata[1]}",
         "legendgroup": "119",
         "marker": {
          "color": "#ab63fa",
          "size": [
           1326.4882379239577
          ],
          "sizemode": "area",
          "sizeref": 5.716132455252111,
          "symbol": "circle"
         },
         "mode": "markers+text",
         "name": "119",
         "scene": "scene",
         "showlegend": true,
         "text": [
          "stashinvest"
         ],
         "type": "scatter3d",
         "x": [
          -0.04854309924916261
         ],
         "y": [
          0.2513144142450144
         ],
         "z": [
          -0.04327289324228109
         ]
        }
       ],
       "layout": {
        "height": 600,
        "legend": {
         "itemsizing": "constant",
         "title": {
          "text": "cluster_id_agg_ward_cosine_200"
         },
         "tracegroupgap": 0
        },
        "margin": {
         "t": 60
        },
        "scene": {
         "aspectmode": "auto",
         "aspectratio": {
          "x": 1.8399390861251743,
          "y": 0.5725131875124375,
          "z": 0.9493165666171826
         },
         "domain": {
          "x": [
           0,
           1
          ],
          "y": [
           0,
           1
          ]
         },
         "xaxis": {
          "title": {
           "text": "svd_1"
          },
          "type": "linear"
         },
         "yaxis": {
          "title": {
           "text": "svd_0"
          },
          "type": "linear"
         },
         "zaxis": {
          "title": {
           "text": "svd_2"
          },
          "type": "linear"
         }
        },
        "template": {
         "data": {
          "bar": [
           {
            "error_x": {
             "color": "#2a3f5f"
            },
            "error_y": {
             "color": "#2a3f5f"
            },
            "marker": {
             "line": {
              "color": "#E5ECF6",
              "width": 0.5
             }
            },
            "type": "bar"
           }
          ],
          "barpolar": [
           {
            "marker": {
             "line": {
              "color": "#E5ECF6",
              "width": 0.5
             }
            },
            "type": "barpolar"
           }
          ],
          "carpet": [
           {
            "aaxis": {
             "endlinecolor": "#2a3f5f",
             "gridcolor": "white",
             "linecolor": "white",
             "minorgridcolor": "white",
             "startlinecolor": "#2a3f5f"
            },
            "baxis": {
             "endlinecolor": "#2a3f5f",
             "gridcolor": "white",
             "linecolor": "white",
             "minorgridcolor": "white",
             "startlinecolor": "#2a3f5f"
            },
            "type": "carpet"
           }
          ],
          "choropleth": [
           {
            "colorbar": {
             "outlinewidth": 0,
             "ticks": ""
            },
            "type": "choropleth"
           }
          ],
          "contour": [
           {
            "colorbar": {
             "outlinewidth": 0,
             "ticks": ""
            },
            "colorscale": [
             [
              0,
              "#0d0887"
             ],
             [
              0.1111111111111111,
              "#46039f"
             ],
             [
              0.2222222222222222,
              "#7201a8"
             ],
             [
              0.3333333333333333,
              "#9c179e"
             ],
             [
              0.4444444444444444,
              "#bd3786"
             ],
             [
              0.5555555555555556,
              "#d8576b"
             ],
             [
              0.6666666666666666,
              "#ed7953"
             ],
             [
              0.7777777777777778,
              "#fb9f3a"
             ],
             [
              0.8888888888888888,
              "#fdca26"
             ],
             [
              1,
              "#f0f921"
             ]
            ],
            "type": "contour"
           }
          ],
          "contourcarpet": [
           {
            "colorbar": {
             "outlinewidth": 0,
             "ticks": ""
            },
            "type": "contourcarpet"
           }
          ],
          "heatmap": [
           {
            "colorbar": {
             "outlinewidth": 0,
             "ticks": ""
            },
            "colorscale": [
             [
              0,
              "#0d0887"
             ],
             [
              0.1111111111111111,
              "#46039f"
             ],
             [
              0.2222222222222222,
              "#7201a8"
             ],
             [
              0.3333333333333333,
              "#9c179e"
             ],
             [
              0.4444444444444444,
              "#bd3786"
             ],
             [
              0.5555555555555556,
              "#d8576b"
             ],
             [
              0.6666666666666666,
              "#ed7953"
             ],
             [
              0.7777777777777778,
              "#fb9f3a"
             ],
             [
              0.8888888888888888,
              "#fdca26"
             ],
             [
              1,
              "#f0f921"
             ]
            ],
            "type": "heatmap"
           }
          ],
          "heatmapgl": [
           {
            "colorbar": {
             "outlinewidth": 0,
             "ticks": ""
            },
            "colorscale": [
             [
              0,
              "#0d0887"
             ],
             [
              0.1111111111111111,
              "#46039f"
             ],
             [
              0.2222222222222222,
              "#7201a8"
             ],
             [
              0.3333333333333333,
              "#9c179e"
             ],
             [
              0.4444444444444444,
              "#bd3786"
             ],
             [
              0.5555555555555556,
              "#d8576b"
             ],
             [
              0.6666666666666666,
              "#ed7953"
             ],
             [
              0.7777777777777778,
              "#fb9f3a"
             ],
             [
              0.8888888888888888,
              "#fdca26"
             ],
             [
              1,
              "#f0f921"
             ]
            ],
            "type": "heatmapgl"
           }
          ],
          "histogram": [
           {
            "marker": {
             "colorbar": {
              "outlinewidth": 0,
              "ticks": ""
             }
            },
            "type": "histogram"
           }
          ],
          "histogram2d": [
           {
            "colorbar": {
             "outlinewidth": 0,
             "ticks": ""
            },
            "colorscale": [
             [
              0,
              "#0d0887"
             ],
             [
              0.1111111111111111,
              "#46039f"
             ],
             [
              0.2222222222222222,
              "#7201a8"
             ],
             [
              0.3333333333333333,
              "#9c179e"
             ],
             [
              0.4444444444444444,
              "#bd3786"
             ],
             [
              0.5555555555555556,
              "#d8576b"
             ],
             [
              0.6666666666666666,
              "#ed7953"
             ],
             [
              0.7777777777777778,
              "#fb9f3a"
             ],
             [
              0.8888888888888888,
              "#fdca26"
             ],
             [
              1,
              "#f0f921"
             ]
            ],
            "type": "histogram2d"
           }
          ],
          "histogram2dcontour": [
           {
            "colorbar": {
             "outlinewidth": 0,
             "ticks": ""
            },
            "colorscale": [
             [
              0,
              "#0d0887"
             ],
             [
              0.1111111111111111,
              "#46039f"
             ],
             [
              0.2222222222222222,
              "#7201a8"
             ],
             [
              0.3333333333333333,
              "#9c179e"
             ],
             [
              0.4444444444444444,
              "#bd3786"
             ],
             [
              0.5555555555555556,
              "#d8576b"
             ],
             [
              0.6666666666666666,
              "#ed7953"
             ],
             [
              0.7777777777777778,
              "#fb9f3a"
             ],
             [
              0.8888888888888888,
              "#fdca26"
             ],
             [
              1,
              "#f0f921"
             ]
            ],
            "type": "histogram2dcontour"
           }
          ],
          "mesh3d": [
           {
            "colorbar": {
             "outlinewidth": 0,
             "ticks": ""
            },
            "type": "mesh3d"
           }
          ],
          "parcoords": [
           {
            "line": {
             "colorbar": {
              "outlinewidth": 0,
              "ticks": ""
             }
            },
            "type": "parcoords"
           }
          ],
          "pie": [
           {
            "automargin": true,
            "type": "pie"
           }
          ],
          "scatter": [
           {
            "marker": {
             "colorbar": {
              "outlinewidth": 0,
              "ticks": ""
             }
            },
            "type": "scatter"
           }
          ],
          "scatter3d": [
           {
            "line": {
             "colorbar": {
              "outlinewidth": 0,
              "ticks": ""
             }
            },
            "marker": {
             "colorbar": {
              "outlinewidth": 0,
              "ticks": ""
             }
            },
            "type": "scatter3d"
           }
          ],
          "scattercarpet": [
           {
            "marker": {
             "colorbar": {
              "outlinewidth": 0,
              "ticks": ""
             }
            },
            "type": "scattercarpet"
           }
          ],
          "scattergeo": [
           {
            "marker": {
             "colorbar": {
              "outlinewidth": 0,
              "ticks": ""
             }
            },
            "type": "scattergeo"
           }
          ],
          "scattergl": [
           {
            "marker": {
             "colorbar": {
              "outlinewidth": 0,
              "ticks": ""
             }
            },
            "type": "scattergl"
           }
          ],
          "scattermapbox": [
           {
            "marker": {
             "colorbar": {
              "outlinewidth": 0,
              "ticks": ""
             }
            },
            "type": "scattermapbox"
           }
          ],
          "scatterpolar": [
           {
            "marker": {
             "colorbar": {
              "outlinewidth": 0,
              "ticks": ""
             }
            },
            "type": "scatterpolar"
           }
          ],
          "scatterpolargl": [
           {
            "marker": {
             "colorbar": {
              "outlinewidth": 0,
              "ticks": ""
             }
            },
            "type": "scatterpolargl"
           }
          ],
          "scatterternary": [
           {
            "marker": {
             "colorbar": {
              "outlinewidth": 0,
              "ticks": ""
             }
            },
            "type": "scatterternary"
           }
          ],
          "surface": [
           {
            "colorbar": {
             "outlinewidth": 0,
             "ticks": ""
            },
            "colorscale": [
             [
              0,
              "#0d0887"
             ],
             [
              0.1111111111111111,
              "#46039f"
             ],
             [
              0.2222222222222222,
              "#7201a8"
             ],
             [
              0.3333333333333333,
              "#9c179e"
             ],
             [
              0.4444444444444444,
              "#bd3786"
             ],
             [
              0.5555555555555556,
              "#d8576b"
             ],
             [
              0.6666666666666666,
              "#ed7953"
             ],
             [
              0.7777777777777778,
              "#fb9f3a"
             ],
             [
              0.8888888888888888,
              "#fdca26"
             ],
             [
              1,
              "#f0f921"
             ]
            ],
            "type": "surface"
           }
          ],
          "table": [
           {
            "cells": {
             "fill": {
              "color": "#EBF0F8"
             },
             "line": {
              "color": "white"
             }
            },
            "header": {
             "fill": {
              "color": "#C8D4E3"
             },
             "line": {
              "color": "white"
             }
            },
            "type": "table"
           }
          ]
         },
         "layout": {
          "annotationdefaults": {
           "arrowcolor": "#2a3f5f",
           "arrowhead": 0,
           "arrowwidth": 1
          },
          "autotypenumbers": "strict",
          "coloraxis": {
           "colorbar": {
            "outlinewidth": 0,
            "ticks": ""
           }
          },
          "colorscale": {
           "diverging": [
            [
             0,
             "#8e0152"
            ],
            [
             0.1,
             "#c51b7d"
            ],
            [
             0.2,
             "#de77ae"
            ],
            [
             0.3,
             "#f1b6da"
            ],
            [
             0.4,
             "#fde0ef"
            ],
            [
             0.5,
             "#f7f7f7"
            ],
            [
             0.6,
             "#e6f5d0"
            ],
            [
             0.7,
             "#b8e186"
            ],
            [
             0.8,
             "#7fbc41"
            ],
            [
             0.9,
             "#4d9221"
            ],
            [
             1,
             "#276419"
            ]
           ],
           "sequential": [
            [
             0,
             "#0d0887"
            ],
            [
             0.1111111111111111,
             "#46039f"
            ],
            [
             0.2222222222222222,
             "#7201a8"
            ],
            [
             0.3333333333333333,
             "#9c179e"
            ],
            [
             0.4444444444444444,
             "#bd3786"
            ],
            [
             0.5555555555555556,
             "#d8576b"
            ],
            [
             0.6666666666666666,
             "#ed7953"
            ],
            [
             0.7777777777777778,
             "#fb9f3a"
            ],
            [
             0.8888888888888888,
             "#fdca26"
            ],
            [
             1,
             "#f0f921"
            ]
           ],
           "sequentialminus": [
            [
             0,
             "#0d0887"
            ],
            [
             0.1111111111111111,
             "#46039f"
            ],
            [
             0.2222222222222222,
             "#7201a8"
            ],
            [
             0.3333333333333333,
             "#9c179e"
            ],
            [
             0.4444444444444444,
             "#bd3786"
            ],
            [
             0.5555555555555556,
             "#d8576b"
            ],
            [
             0.6666666666666666,
             "#ed7953"
            ],
            [
             0.7777777777777778,
             "#fb9f3a"
            ],
            [
             0.8888888888888888,
             "#fdca26"
            ],
            [
             1,
             "#f0f921"
            ]
           ]
          },
          "colorway": [
           "#636efa",
           "#EF553B",
           "#00cc96",
           "#ab63fa",
           "#FFA15A",
           "#19d3f3",
           "#FF6692",
           "#B6E880",
           "#FF97FF",
           "#FECB52"
          ],
          "font": {
           "color": "#2a3f5f"
          },
          "geo": {
           "bgcolor": "white",
           "lakecolor": "white",
           "landcolor": "#E5ECF6",
           "showlakes": true,
           "showland": true,
           "subunitcolor": "white"
          },
          "hoverlabel": {
           "align": "left"
          },
          "hovermode": "closest",
          "mapbox": {
           "style": "light"
          },
          "paper_bgcolor": "white",
          "plot_bgcolor": "#E5ECF6",
          "polar": {
           "angularaxis": {
            "gridcolor": "white",
            "linecolor": "white",
            "ticks": ""
           },
           "bgcolor": "#E5ECF6",
           "radialaxis": {
            "gridcolor": "white",
            "linecolor": "white",
            "ticks": ""
           }
          },
          "scene": {
           "xaxis": {
            "backgroundcolor": "#E5ECF6",
            "gridcolor": "white",
            "gridwidth": 2,
            "linecolor": "white",
            "showbackground": true,
            "ticks": "",
            "zerolinecolor": "white"
           },
           "yaxis": {
            "backgroundcolor": "#E5ECF6",
            "gridcolor": "white",
            "gridwidth": 2,
            "linecolor": "white",
            "showbackground": true,
            "ticks": "",
            "zerolinecolor": "white"
           },
           "zaxis": {
            "backgroundcolor": "#E5ECF6",
            "gridcolor": "white",
            "gridwidth": 2,
            "linecolor": "white",
            "showbackground": true,
            "ticks": "",
            "zerolinecolor": "white"
           }
          },
          "shapedefaults": {
           "line": {
            "color": "#2a3f5f"
           }
          },
          "ternary": {
           "aaxis": {
            "gridcolor": "white",
            "linecolor": "white",
            "ticks": ""
           },
           "baxis": {
            "gridcolor": "white",
            "linecolor": "white",
            "ticks": ""
           },
           "bgcolor": "#E5ECF6",
           "caxis": {
            "gridcolor": "white",
            "linecolor": "white",
            "ticks": ""
           }
          },
          "title": {
           "x": 0.05
          },
          "xaxis": {
           "automargin": true,
           "gridcolor": "white",
           "linecolor": "white",
           "ticks": "",
           "title": {
            "standoff": 15
           },
           "zerolinecolor": "white",
           "zerolinewidth": 2
          },
          "yaxis": {
           "automargin": true,
           "gridcolor": "white",
           "linecolor": "white",
           "ticks": "",
           "title": {
            "standoff": 15
           },
           "zerolinecolor": "white",
           "zerolinewidth": 2
          }
         }
        },
        "title": {
         "text": "Most similar subreddits to <i>r/ameisenstrassenwetten</i><br>From 3,767 subreddits",
         "x": 0.5
        },
        "width": 800
       }
      },
      "image/png": "[encoded data removed]",
      "text/html": [
       "<div>                            <div id=\"9228ffb6-1526-4cec-bf37-a710cbbae232\" class=\"plotly-graph-div\" style=\"height:600px; width:800px;\"></div>            <script type=\"text/javascript\">                require([\"plotly\"], function(Plotly) {                    window.PLOTLYENV=window.PLOTLYENV || {};                                    if (document.getElementById(\"9228ffb6-1526-4cec-bf37-a710cbbae232\")) {                    Plotly.newPlot(                        \"9228ffb6-1526-4cec-bf37-a710cbbae232\",                        [{\"customdata\": [[\"aktien\", \"uncategorized\"], [\"amcstock\", \"uncategorized\"], [\"binaryoptions\", \"uncategorized\"], [\"dividends\", \"uncategorized\"], [\"farialimabets\", \"uncategorized\"], [\"finanzen\", \"business, economics, and finance\"], [\"investing\", \"uncategorized\"], [\"mauerstrassenwetten\", \"internet culture and memes\"], [\"options\", \"uncategorized\"], [\"pennystocks\", \"uncategorized\"], [\"ratioatblessons\", \"uncategorized\"], [\"stocks\", \"uncategorized\"], [\"tilray\", \"uncategorized\"], [\"wallstreetbets\", \"uncategorized\"], [\"ameisenstrassenwetten\", \"uncategorized\"], [\"auxlycannabis\", \"uncategorized\"], [\"dalalstreetbets\", \"business, economics, and finance\"], [\"investingforbeginners\", \"business, economics, and finance\"], [\"portfolios\", \"uncategorized\"], [\"doctorstock\", \"uncategorized\"], [\"cvm\", \"uncategorized\"], [\"etorotraders\", \"uncategorized\"], [\"investment\", \"business, economics, and finance\"], [\"stockstobuytoday\", \"uncategorized\"], [\"body\", \"over18_nsfw\"], [\"spac\", \"uncategorized\"], [\"stock\", \"uncategorized\"], [\"pfennigaktien\", \"uncategorized\"]], \"hovertemplate\": \"subreddit name: %{customdata[0]}<br>subreddit manual label: %{customdata[1]}\", \"legendgroup\": \"22\", \"marker\": {\"color\": \"#636efa\", \"size\": [1442.9929741353274, 2083.0075686488126, 1146.4035152189913, 1732.6587483914498, 1424.592402765914, 1783.2914731178898, 2029.3095523774027, 1702.9125432417593, 1917.9129135977305, 1939.5893894140545, 1170.7359132080883, 2081.3536181509517, 1333.119687715303, 2286.452982100844, 1279.5024983961387, 1133.2596057789215, 1247.243700005133, 1291.0830081296574, 1382.2272064157764, 1283.9597483021175, 1255.6266543582992, 991.7372079476842, 1219.936561685798, 1294.288099715904, 1225.089053572334, 1136.577563532627, 1355.4349022063438, 984.0777923595053], \"sizemode\": \"area\", \"sizeref\": 5.716132455252111, \"symbol\": \"circle\"}, \"mode\": \"markers+text\", \"name\": \"22\", \"scene\": \"scene\", \"showlegend\": true, \"text\": [\"\", \"\", \"\", \"\", \"farialimabets\", \"\", \"\", \"mauerstrassenwetten\", \"\", \"\", \"\", \"stocks\", \"\", \"\", \"ameisenstrassenwetten\", \"\", \"dalalstreetbets\", \"\", \"\", \"\", \"\", \"\", \"\", \"\", \"\", \"\", \"\", \"\"], \"type\": \"scatter3d\", \"x\": [-0.13088672275131258, 0.10389833763340993, -0.10714270708011253, -0.18299548351203745, 0.045535768368409876, -0.18870923136074802, -0.19411376202176417, 0.046364922445066084, -0.17827925787490934, -0.09615936510373695, 0.061830984081135826, -0.16343483672233602, 0.06346545611389674, 0.02653064794747516, 0.0332047865178441, -0.017671975184319164, 0.02515324446883226, -0.20133667190072152, -0.18800228352209286, -0.08181862621900755, -0.06995221521737546, -0.05777671376889099, -0.10613776409668796, -0.022536473857165115, 0.024833363717681755, -0.024807849958399332, -0.031048931505294065, -0.11065212331743526], \"y\": [0.252663223888287, 0.21344983150143237, 0.23925168257695606, 0.29257037571130506, 0.19432161906998696, 0.2668360566367983, 0.2779586207525392, 0.20683825840686837, 0.29531525557054406, 0.2563120828115212, 0.223891208902892, 0.2785722951902836, 0.22208965257005014, 0.24748534588898988, 0.21624851119004407, 0.202962285028358, 0.20450982857315386, 0.2833212033308811, 0.2903301428748042, 0.21029467163171364, 0.21501255201467329, 0.20638838966332373, 0.19025159827411886, 0.20768216993398464, 0.22931546203620393, 0.19492951746922255, 0.21887808241470685, 0.24730449308678426], \"z\": [-0.05985951552155175, -0.03279399496366725, -0.04682119363305968, -0.06043145557695499, -0.018594296170070662, -0.03734005509165825, -0.06396836541654013, -0.04572070993332812, -0.06164740667778238, -0.09383761421690223, -0.03268215014407601, -0.06727312687517153, -0.06416716034908851, -0.07473002170722341, -0.03342043269246307, -0.10313801714979101, -0.04907154806689214, -0.037816757920140234, -0.04440186208966009, -0.10028699087039986, -0.06414824673823838, -0.11687208682148144, -0.08827005606828284, -0.11965710988121211, -0.04790544523209879, -0.16204811074742895, -0.06439587214410057, -0.09079265139494172]}, {\"customdata\": [[\"cryptocurrencymemes\", \"uncategorized\"]], \"hovertemplate\": \"subreddit name: %{customdata[0]}<br>subreddit manual label: %{customdata[1]}\", \"legendgroup\": \"156\", \"marker\": {\"color\": \"#EF553B\", \"size\": [1508.605327099567], \"sizemode\": \"area\", \"sizeref\": 5.716132455252111, \"symbol\": \"circle\"}, \"mode\": \"markers+text\", \"name\": \"156\", \"scene\": \"scene\", \"showlegend\": true, \"text\": [\"\"], \"type\": \"scatter3d\", \"x\": [0.15595777234023764], \"y\": [0.18413995487966017], \"z\": [0.022297956813171954]}, {\"customdata\": [[\"ecomi\", \"uncategorized\"], [\"nanotrade\", \"uncategorized\"], [\"trustwalletcommunity\", \"uncategorized\"], [\"etc\", \"uncategorized\"]], \"hovertemplate\": \"subreddit name: %{customdata[0]}<br>subreddit manual label: %{customdata[1]}\", \"legendgroup\": \"85\", \"marker\": {\"color\": \"#00cc96\", \"size\": [1504.379628804688, 1353.624721568813, 1288.7220615468384, 1224.3769031961851], \"sizemode\": \"area\", \"sizeref\": 5.716132455252111, \"symbol\": \"circle\"}, \"mode\": \"markers+text\", \"name\": \"85\", \"scene\": \"scene\", \"showlegend\": true, \"text\": [\"\", \"\", \"trustwalletcommunity\", \"\"], \"type\": \"scatter3d\", \"x\": [-0.010554670595090705, 0.028077148245159767, 0.03186858237615549, 0.007921950226902882], \"y\": [0.23871389732814097, 0.21490529500147876, 0.21871032790756, 0.24264671696183132], \"z\": [-0.05844812402908584, -0.05214402235195895, -0.06895435545219619, -0.04734183097109535]}, {\"customdata\": [[\"stashinvest\", \"business, economics, and finance\"]], \"hovertemplate\": \"subreddit name: %{customdata[0]}<br>subreddit manual label: %{customdata[1]}\", \"legendgroup\": \"119\", \"marker\": {\"color\": \"#ab63fa\", \"size\": [1326.4882379239577], \"sizemode\": \"area\", \"sizeref\": 5.716132455252111, \"symbol\": \"circle\"}, \"mode\": \"markers+text\", \"name\": \"119\", \"scene\": \"scene\", \"showlegend\": true, \"text\": [\"stashinvest\"], \"type\": \"scatter3d\", \"x\": [-0.04854309924916261], \"y\": [0.2513144142450144], \"z\": [-0.04327289324228109]}],                        {\"height\": 600, \"legend\": {\"itemsizing\": \"constant\", \"title\": {\"text\": \"cluster_id_agg_ward_cosine_200\"}, \"tracegroupgap\": 0}, \"margin\": {\"t\": 60}, \"scene\": {\"domain\": {\"x\": [0.0, 1.0], \"y\": [0.0, 1.0]}, \"xaxis\": {\"title\": {\"text\": \"svd_1\"}}, \"yaxis\": {\"title\": {\"text\": \"svd_0\"}}, \"zaxis\": {\"title\": {\"text\": \"svd_2\"}}}, \"template\": {\"data\": {\"bar\": [{\"error_x\": {\"color\": \"#2a3f5f\"}, \"error_y\": {\"color\": \"#2a3f5f\"}, \"marker\": {\"line\": {\"color\": \"#E5ECF6\", \"width\": 0.5}}, \"type\": \"bar\"}], \"barpolar\": [{\"marker\": {\"line\": {\"color\": \"#E5ECF6\", \"width\": 0.5}}, \"type\": \"barpolar\"}], \"carpet\": [{\"aaxis\": {\"endlinecolor\": \"#2a3f5f\", \"gridcolor\": \"white\", \"linecolor\": \"white\", \"minorgridcolor\": \"white\", \"startlinecolor\": \"#2a3f5f\"}, \"baxis\": {\"endlinecolor\": \"#2a3f5f\", \"gridcolor\": \"white\", \"linecolor\": \"white\", \"minorgridcolor\": \"white\", \"startlinecolor\": \"#2a3f5f\"}, \"type\": \"carpet\"}], \"choropleth\": [{\"colorbar\": {\"outlinewidth\": 0, \"ticks\": \"\"}, \"type\": \"choropleth\"}], \"contour\": [{\"colorbar\": {\"outlinewidth\": 0, \"ticks\": \"\"}, \"colorscale\": [[0.0, \"#0d0887\"], [0.1111111111111111, \"#46039f\"], [0.2222222222222222, \"#7201a8\"], [0.3333333333333333, \"#9c179e\"], [0.4444444444444444, \"#bd3786\"], [0.5555555555555556, \"#d8576b\"], [0.6666666666666666, \"#ed7953\"], [0.7777777777777778, \"#fb9f3a\"], [0.8888888888888888, \"#fdca26\"], [1.0, \"#f0f921\"]], \"type\": \"contour\"}], \"contourcarpet\": [{\"colorbar\": {\"outlinewidth\": 0, \"ticks\": \"\"}, \"type\": \"contourcarpet\"}], \"heatmap\": [{\"colorbar\": {\"outlinewidth\": 0, \"ticks\": \"\"}, \"colorscale\": [[0.0, \"#0d0887\"], [0.1111111111111111, \"#46039f\"], [0.2222222222222222, \"#7201a8\"], [0.3333333333333333, \"#9c179e\"], [0.4444444444444444, \"#bd3786\"], [0.5555555555555556, \"#d8576b\"], [0.6666666666666666, \"#ed7953\"], [0.7777777777777778, \"#fb9f3a\"], [0.8888888888888888, \"#fdca26\"], [1.0, \"#f0f921\"]], \"type\": \"heatmap\"}], \"heatmapgl\": [{\"colorbar\": {\"outlinewidth\": 0, \"ticks\": \"\"}, \"colorscale\": [[0.0, \"#0d0887\"], [0.1111111111111111, \"#46039f\"], [0.2222222222222222, \"#7201a8\"], [0.3333333333333333, \"#9c179e\"], [0.4444444444444444, \"#bd3786\"], [0.5555555555555556, \"#d8576b\"], [0.6666666666666666, \"#ed7953\"], [0.7777777777777778, \"#fb9f3a\"], [0.8888888888888888, \"#fdca26\"], [1.0, \"#f0f921\"]], \"type\": \"heatmapgl\"}], \"histogram\": [{\"marker\": {\"colorbar\": {\"outlinewidth\": 0, \"ticks\": \"\"}}, \"type\": \"histogram\"}], \"histogram2d\": [{\"colorbar\": {\"outlinewidth\": 0, \"ticks\": \"\"}, \"colorscale\": [[0.0, \"#0d0887\"], [0.1111111111111111, \"#46039f\"], [0.2222222222222222, \"#7201a8\"], [0.3333333333333333, \"#9c179e\"], [0.4444444444444444, \"#bd3786\"], [0.5555555555555556, \"#d8576b\"], [0.6666666666666666, \"#ed7953\"], [0.7777777777777778, \"#fb9f3a\"], [0.8888888888888888, \"#fdca26\"], [1.0, \"#f0f921\"]], \"type\": \"histogram2d\"}], \"histogram2dcontour\": [{\"colorbar\": {\"outlinewidth\": 0, \"ticks\": \"\"}, \"colorscale\": [[0.0, \"#0d0887\"], [0.1111111111111111, \"#46039f\"], [0.2222222222222222, \"#7201a8\"], [0.3333333333333333, \"#9c179e\"], [0.4444444444444444, \"#bd3786\"], [0.5555555555555556, \"#d8576b\"], [0.6666666666666666, \"#ed7953\"], [0.7777777777777778, \"#fb9f3a\"], [0.8888888888888888, \"#fdca26\"], [1.0, \"#f0f921\"]], \"type\": \"histogram2dcontour\"}], \"mesh3d\": [{\"colorbar\": {\"outlinewidth\": 0, \"ticks\": \"\"}, \"type\": \"mesh3d\"}], \"parcoords\": [{\"line\": {\"colorbar\": {\"outlinewidth\": 0, \"ticks\": \"\"}}, \"type\": \"parcoords\"}], \"pie\": [{\"automargin\": true, \"type\": \"pie\"}], \"scatter\": [{\"marker\": {\"colorbar\": {\"outlinewidth\": 0, \"ticks\": \"\"}}, \"type\": \"scatter\"}], \"scatter3d\": [{\"line\": {\"colorbar\": {\"outlinewidth\": 0, \"ticks\": \"\"}}, \"marker\": {\"colorbar\": {\"outlinewidth\": 0, \"ticks\": \"\"}}, \"type\": \"scatter3d\"}], \"scattercarpet\": [{\"marker\": {\"colorbar\": {\"outlinewidth\": 0, \"ticks\": \"\"}}, \"type\": \"scattercarpet\"}], \"scattergeo\": [{\"marker\": {\"colorbar\": {\"outlinewidth\": 0, \"ticks\": \"\"}}, \"type\": \"scattergeo\"}], \"scattergl\": [{\"marker\": {\"colorbar\": {\"outlinewidth\": 0, \"ticks\": \"\"}}, \"type\": \"scattergl\"}], \"scattermapbox\": [{\"marker\": {\"colorbar\": {\"outlinewidth\": 0, \"ticks\": \"\"}}, \"type\": \"scattermapbox\"}], \"scatterpolar\": [{\"marker\": {\"colorbar\": {\"outlinewidth\": 0, \"ticks\": \"\"}}, \"type\": \"scatterpolar\"}], \"scatterpolargl\": [{\"marker\": {\"colorbar\": {\"outlinewidth\": 0, \"ticks\": \"\"}}, \"type\": \"scatterpolargl\"}], \"scatterternary\": [{\"marker\": {\"colorbar\": {\"outlinewidth\": 0, \"ticks\": \"\"}}, \"type\": \"scatterternary\"}], \"surface\": [{\"colorbar\": {\"outlinewidth\": 0, \"ticks\": \"\"}, \"colorscale\": [[0.0, \"#0d0887\"], [0.1111111111111111, \"#46039f\"], [0.2222222222222222, \"#7201a8\"], [0.3333333333333333, \"#9c179e\"], [0.4444444444444444, \"#bd3786\"], [0.5555555555555556, \"#d8576b\"], [0.6666666666666666, \"#ed7953\"], [0.7777777777777778, \"#fb9f3a\"], [0.8888888888888888, \"#fdca26\"], [1.0, \"#f0f921\"]], \"type\": \"surface\"}], \"table\": [{\"cells\": {\"fill\": {\"color\": \"#EBF0F8\"}, \"line\": {\"color\": \"white\"}}, \"header\": {\"fill\": {\"color\": \"#C8D4E3\"}, \"line\": {\"color\": \"white\"}}, \"type\": \"table\"}]}, \"layout\": {\"annotationdefaults\": {\"arrowcolor\": \"#2a3f5f\", \"arrowhead\": 0, \"arrowwidth\": 1}, \"autotypenumbers\": \"strict\", \"coloraxis\": {\"colorbar\": {\"outlinewidth\": 0, \"ticks\": \"\"}}, \"colorscale\": {\"diverging\": [[0, \"#8e0152\"], [0.1, \"#c51b7d\"], [0.2, \"#de77ae\"], [0.3, \"#f1b6da\"], [0.4, \"#fde0ef\"], [0.5, \"#f7f7f7\"], [0.6, \"#e6f5d0\"], [0.7, \"#b8e186\"], [0.8, \"#7fbc41\"], [0.9, \"#4d9221\"], [1, \"#276419\"]], \"sequential\": [[0.0, \"#0d0887\"], [0.1111111111111111, \"#46039f\"], [0.2222222222222222, \"#7201a8\"], [0.3333333333333333, \"#9c179e\"], [0.4444444444444444, \"#bd3786\"], [0.5555555555555556, \"#d8576b\"], [0.6666666666666666, \"#ed7953\"], [0.7777777777777778, \"#fb9f3a\"], [0.8888888888888888, \"#fdca26\"], [1.0, \"#f0f921\"]], \"sequentialminus\": [[0.0, \"#0d0887\"], [0.1111111111111111, \"#46039f\"], [0.2222222222222222, \"#7201a8\"], [0.3333333333333333, \"#9c179e\"], [0.4444444444444444, \"#bd3786\"], [0.5555555555555556, \"#d8576b\"], [0.6666666666666666, \"#ed7953\"], [0.7777777777777778, \"#fb9f3a\"], [0.8888888888888888, \"#fdca26\"], [1.0, \"#f0f921\"]]}, \"colorway\": [\"#636efa\", \"#EF553B\", \"#00cc96\", \"#ab63fa\", \"#FFA15A\", \"#19d3f3\", \"#FF6692\", \"#B6E880\", \"#FF97FF\", \"#FECB52\"], \"font\": {\"color\": \"#2a3f5f\"}, \"geo\": {\"bgcolor\": \"white\", \"lakecolor\": \"white\", \"landcolor\": \"#E5ECF6\", \"showlakes\": true, \"showland\": true, \"subunitcolor\": \"white\"}, \"hoverlabel\": {\"align\": \"left\"}, \"hovermode\": \"closest\", \"mapbox\": {\"style\": \"light\"}, \"paper_bgcolor\": \"white\", \"plot_bgcolor\": \"#E5ECF6\", \"polar\": {\"angularaxis\": {\"gridcolor\": \"white\", \"linecolor\": \"white\", \"ticks\": \"\"}, \"bgcolor\": \"#E5ECF6\", \"radialaxis\": {\"gridcolor\": \"white\", \"linecolor\": \"white\", \"ticks\": \"\"}}, \"scene\": {\"xaxis\": {\"backgroundcolor\": \"#E5ECF6\", \"gridcolor\": \"white\", \"gridwidth\": 2, \"linecolor\": \"white\", \"showbackground\": true, \"ticks\": \"\", \"zerolinecolor\": \"white\"}, \"yaxis\": {\"backgroundcolor\": \"#E5ECF6\", \"gridcolor\": \"white\", \"gridwidth\": 2, \"linecolor\": \"white\", \"showbackground\": true, \"ticks\": \"\", \"zerolinecolor\": \"white\"}, \"zaxis\": {\"backgroundcolor\": \"#E5ECF6\", \"gridcolor\": \"white\", \"gridwidth\": 2, \"linecolor\": \"white\", \"showbackground\": true, \"ticks\": \"\", \"zerolinecolor\": \"white\"}}, \"shapedefaults\": {\"line\": {\"color\": \"#2a3f5f\"}}, \"ternary\": {\"aaxis\": {\"gridcolor\": \"white\", \"linecolor\": \"white\", \"ticks\": \"\"}, \"baxis\": {\"gridcolor\": \"white\", \"linecolor\": \"white\", \"ticks\": \"\"}, \"bgcolor\": \"#E5ECF6\", \"caxis\": {\"gridcolor\": \"white\", \"linecolor\": \"white\", \"ticks\": \"\"}}, \"title\": {\"x\": 0.05}, \"xaxis\": {\"automargin\": true, \"gridcolor\": \"white\", \"linecolor\": \"white\", \"ticks\": \"\", \"title\": {\"standoff\": 15}, \"zerolinecolor\": \"white\", \"zerolinewidth\": 2}, \"yaxis\": {\"automargin\": true, \"gridcolor\": \"white\", \"linecolor\": \"white\", \"ticks\": \"\", \"title\": {\"standoff\": 15}, \"zerolinecolor\": \"white\", \"zerolinewidth\": 2}}}, \"title\": {\"text\": \"Most similar subreddits to <i>r/ameisenstrassenwetten</i><br>From 3,767 subreddits\", \"x\": 0.5}, \"width\": 800},                        {\"responsive\": true}                    ).then(function(){\n",
       "                            \n",
       "var gd = document.getElementById('9228ffb6-1526-4cec-bf37-a710cbbae232');\n",
       "var x = new MutationObserver(function (mutations, observer) {{\n",
       "        var display = window.getComputedStyle(gd).display;\n",
       "        if (!display || display === 'none') {{\n",
       "            console.log([gd, 'removed!']);\n",
       "            Plotly.purge(gd);\n",
       "            observer.disconnect();\n",
       "        }}\n",
       "}});\n",
       "\n",
       "// Listen for the removal of the full notebook cells\n",
       "var notebookContainer = gd.closest('#notebook-container');\n",
       "if (notebookContainer) {{\n",
       "    x.observe(notebookContainer, {childList: true});\n",
       "}}\n",
       "\n",
       "// Listen for the clearing of the current output cell\n",
       "var outputEl = gd.closest('.output');\n",
       "if (outputEl) {{\n",
       "    x.observe(outputEl, {childList: true});\n",
       "}}\n",
       "\n",
       "                        })                };                });            </script>        </div>"
      ]
     },
     "metadata": {},
     "output_type": "display_data"
    },
    {
     "name": "stdout",
     "output_type": "stream",
     "text": [
      "CPU times: user 1.83 s, sys: 11.7 ms, total: 1.84 s\n",
      "Wall time: 1.81 s\n"
     ]
    }
   ],
   "source": [
    "%%time\n",
    "\n",
    "display_plot_png = False\n",
    "display_plot_js = True\n",
    "\n",
    "for sub_ in ['bundesliga', 'ameisenstrassenwetten']:\n",
    "# for sub_ in ['american_football', 'nfl', 'raiders',]:  # 'baseball',\n",
    "# for sub_ in ['american_football', 'futbol', 'bundesliga', 'finanzen', 'finance']:\n",
    "# for sub_ in ['hamburg', 'germanrap', 'de_iama', 'bundesliga', 'finanzen', 'vegande', 'ich_iel']:\n",
    "    # closest subs\n",
    "    df_closest_subs_ = (\n",
    "        df_sub_d_pair[df_sub_d_pair['subreddit_name_a'] == sub_]\n",
    "        .sort_values(by='cosine_distance', ascending=False)\n",
    "        .drop(['subreddit_id_a', 'subreddit_id_b'], axis=1)\n",
    "        .reset_index(drop=True)\n",
    "        .head(20)\n",
    "    )\n",
    "    l_closest_subs = [sub_] + list(df_closest_subs_['subreddit_name_b'])\n",
    "\n",
    "    display(\n",
    "        style_df_numeric(\n",
    "            df_closest_subs_,\n",
    "            rename_cols_for_display=True,\n",
    "            l_bar_simple=['cosine_distance', 'primary_post_language_percent_b'],\n",
    "            float_round=4,\n",
    "        )  #.hide_index()\n",
    "    )\n",
    "\n",
    "    # cluster assigned by ML\n",
    "    sub_id = df_subs_meta_plot.loc[df_subs_meta_plot['subreddit_name'] == sub_,\n",
    "                                   col_clustering].values[0]\n",
    "    l_subs_in_cluster = list(\n",
    "        df_subs_meta_plot[df_subs_meta_plot[col_clustering] == sub_id]\n",
    "        ['subreddit_name']\n",
    "    )\n",
    "\n",
    "    display_items_for_cluster_id(\n",
    "        df_subs_meta_plot=df_subs_meta_plot,\n",
    "        id_=sub_id,\n",
    "    )\n",
    "\n",
    "    set_subs_all_similar = set(l_closest_subs) | set(l_subs_in_cluster)\n",
    "    # print(set_subs_all_similar)\n",
    "    \n",
    "    \n",
    "    if (display_plot_png | display_plot_js):\n",
    "        # display overlap between closest subs and subs that are part of the selected cluster\n",
    "        # options:\n",
    "        #  - Could display in SVD or t-sne space as dots\n",
    "        #  - Could display as a table with flags for cluster IDs & distances\n",
    "        #. - or venn diagram?\n",
    "        # works with recent plotly (custom data)\n",
    "        df_plot_ = (\n",
    "            df_subs_meta_plot[df_subs_meta_plot['subreddit_name'].isin(set_subs_all_similar)]\n",
    "        )\n",
    "        \n",
    "        # Select subs to display: self + 3 closest & 3 furthest away\n",
    "        # assumes closest subs has already been sorted\n",
    "        l_names_to_show = (\n",
    "            [sub_] + \n",
    "            list(df_closest_subs_['subreddit_name_b'].head(3)) + \n",
    "            list(df_closest_subs_['subreddit_name_b'].tail(3))\n",
    "        )\n",
    "        df_plot_['subreddit_name_sparse'] = np.where(\n",
    "            df_plot_['subreddit_name'].isin(l_names_to_show),\n",
    "            df_plot_['subreddit_name'],\n",
    "            ''\n",
    "        )\n",
    "        \n",
    "\n",
    "        l_custom_data_subs = [\n",
    "          'subreddit_name', \n",
    "          col_manual_labels,\n",
    "          # 'text_1',\n",
    "          # 'text_2',\n",
    "        ]\n",
    "        sub_hover_data = \"<br>\".join([\n",
    "            \"subreddit name: %{customdata[0]}\",\n",
    "            \"subreddit manual label: %{customdata[1]}\",\n",
    "            # \"post text: %{customdata[2]}\",\n",
    "            # \"  %{customdata[3]}\"\n",
    "        ])\n",
    "\n",
    "        fig = px.scatter_3d(\n",
    "            df_plot_,\n",
    "            y='svd_0', x='svd_1', z='svd_2',\n",
    "            color=col_clustering,  # color=col_manual_labels,\n",
    "            custom_data=l_custom_data_subs,\n",
    "            size=100 * np.log2(1 + df_plot_['users_l28']),\n",
    "            text='subreddit_name_sparse',\n",
    "            # hoverinfo='text',\n",
    "        )\n",
    "\n",
    "        fig.update_traces(hovertemplate=sub_hover_data)\n",
    "        fig.update_layout(\n",
    "            title_text=(\n",
    "                f\"Most similar subreddits to <i>r/{sub_}</i>\"\n",
    "                f\"<br>From {len(df_subs_meta_plot):,.0f} subreddits\"\n",
    "                # f\"<br>Clustering algo: {c_name.replace('cluster_id', '').replace('_', ' ')}\"\n",
    "                # f\"<br>Using posts from 04-01-2021 to 05-08-2021\"\n",
    "            ),\n",
    "            title_x=0.5,\n",
    "            width=800,\n",
    "            height=600,\n",
    "        #     uniformtext_minsize=8, uniformtext_mode='hide'\n",
    "        )\n",
    "        if display_plot_png:\n",
    "            fig.show(renderer='png')\n",
    "        if display_plot_js:\n",
    "            fig.show()"
   ]
  },
  {
   "cell_type": "markdown",
   "id": "122a2a9f",
   "metadata": {},
   "source": [
    "# Loop through clusters that have at least one German Subreddit\n",
    "\n",
    "In reality, these will be the primary use case to find recommendations.\n",
    "Subs that are:\n",
    "- Germany geo-relevant\n",
    "- From German ambassador program\n",
    "- Primarily in German"
   ]
  },
  {
   "cell_type": "markdown",
   "id": "788ee703",
   "metadata": {},
   "source": [
    "### Get subreddit IDs for Germany-relevant subs\n",
    "\n",
    "Need to load the data from a separate dataframe that has the geo-relevant ranks!"
   ]
  },
  {
   "cell_type": "code",
   "execution_count": 58,
   "id": "53a6f210",
   "metadata": {},
   "outputs": [
    {
     "data": {
      "text/plain": [
       "(3767, 74)"
      ]
     },
     "execution_count": 58,
     "metadata": {},
     "output_type": "execute_result"
    }
   ],
   "source": [
    "df_sub_meta.shape"
   ]
  },
  {
   "cell_type": "code",
   "execution_count": 61,
   "id": "f871ea57",
   "metadata": {},
   "outputs": [
    {
     "data": {
      "text/plain": [
       "['subreddit_clean_description_word_count',\n",
       " 'subreddit_name_title_and_clean_descriptions_word_count',\n",
       " 'post_median_word_count']"
      ]
     },
     "execution_count": 61,
     "metadata": {},
     "output_type": "execute_result"
    }
   ],
   "source": [
    "[c for c in df_sub_meta.columns if 'count' in c]"
   ]
  },
  {
   "cell_type": "code",
   "execution_count": 62,
   "id": "cf3f9f09",
   "metadata": {},
   "outputs": [
    {
     "data": {
      "text/plain": [
       "['subreddit_language',\n",
       " 'Other language_posts_percent',\n",
       " 'primary_post_language',\n",
       " 'primary_post_language_percent',\n",
       " 'primary_post_language_in_use_multilingual']"
      ]
     },
     "execution_count": 62,
     "metadata": {},
     "output_type": "execute_result"
    }
   ],
   "source": [
    "[c for c in df_sub_meta.columns if 'lang' in c]"
   ]
  },
  {
   "cell_type": "code",
   "execution_count": 78,
   "id": "984c3ce2",
   "metadata": {},
   "outputs": [],
   "source": [
    "# df_sub_meta.iloc[:5, :25]"
   ]
  },
  {
   "cell_type": "code",
   "execution_count": 71,
   "id": "06ac34fb",
   "metadata": {},
   "outputs": [],
   "source": [
    "# find subs that are germany re\n",
    "# df_subs_meta_plot.head()"
   ]
  }
 ],
 "metadata": {
  "environment": {
   "name": "common-cpu.m65",
   "type": "gcloud",
   "uri": "gcr.io/deeplearning-platform-release/base-cpu:m65"
  },
  "kernelspec": {
   "display_name": "Python 3",
   "language": "python",
   "name": "python3"
  },
  "language_info": {
   "codemirror_mode": {
    "name": "ipython",
    "version": 3
   },
   "file_extension": ".py",
   "mimetype": "text/x-python",
   "name": "python",
   "nbconvert_exporter": "python",
   "pygments_lexer": "ipython3",
   "version": "3.7.10"
  }
 },
 "nbformat": 4,
 "nbformat_minor": 5
}
