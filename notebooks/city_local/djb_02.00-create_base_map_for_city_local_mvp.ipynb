{
 "cells": [
  {
   "cell_type": "markdown",
   "id": "8207dd63",
   "metadata": {},
   "source": [
    "# Purpose\n",
    "\n",
    "2023-03-07. In this notebook we'll  \n",
    "- pull the data for the top ~900 cities at Reddit (by DAU)\n",
    "- get the lat & long coordinates for those cities\n",
    "- Create a base plot to test whether we can add city-popular subreddits to a map\n",
    "\n",
    "The main idea is that by making the MVP ti'll be more tangible and easier to get buy-in to add a map to the discovery tab (or something like it)."
   ]
  },
  {
   "cell_type": "markdown",
   "id": "9864305c",
   "metadata": {},
   "source": [
    "# Imports & Setup"
   ]
  },
  {
   "cell_type": "code",
   "execution_count": 1,
   "id": "9a1bcdcf",
   "metadata": {},
   "outputs": [],
   "source": [
    "%load_ext autoreload\n",
    "%autoreload 2"
   ]
  },
  {
   "cell_type": "code",
   "execution_count": 2,
   "id": "1ec91153",
   "metadata": {},
   "outputs": [],
   "source": [
    "# Register bigquery magic (only needed for laptop/local, not colab)\n",
    "%load_ext google.cloud.bigquery"
   ]
  },
  {
   "cell_type": "code",
   "execution_count": 3,
   "id": "9230e6f3",
   "metadata": {},
   "outputs": [
    {
     "data": {
      "text/html": [
       "<style>.container { width:98% !important; }</style>"
      ],
      "text/plain": [
       "<IPython.core.display.HTML object>"
      ]
     },
     "metadata": {},
     "output_type": "display_data"
    }
   ],
   "source": [
    "# increase display width of cells\n",
    "from IPython.display import display, HTML\n",
    "display(HTML(\"<style>.container { width:98% !important; }</style>\"))"
   ]
  },
  {
   "cell_type": "code",
   "execution_count": 4,
   "id": "a601e266",
   "metadata": {},
   "outputs": [
    {
     "name": "stdout",
     "output_type": "stream",
     "text": [
      "python\t\tv 3.7.11\n",
      "===\n",
      "geopy\t\tv: 2.3.0\n",
      "numpy\t\tv: 1.19.5\n",
      "pandas\t\tv: 1.2.4\n",
      "plotly\t\tv: 5.11.0\n",
      "subclu\t\tv: 0.6.1\n"
     ]
    }
   ],
   "source": [
    "import time\n",
    "\n",
    "import geopy\n",
    "from geopy.geocoders import Nominatim\n",
    "from geopy.extra.rate_limiter import RateLimiter\n",
    "\n",
    "from tqdm import tqdm\n",
    "\n",
    "import numpy as np\n",
    "import pandas as pd\n",
    "import plotly\n",
    "import plotly.express as px\n",
    "import subclu\n",
    "\n",
    "# from subclu.utils import set_working_directory\n",
    "from subclu.utils.eda import (\n",
    "    setup_logging, counts_describe, value_counts_and_pcts,\n",
    "    notebook_display_config, print_lib_versions,\n",
    "    style_df_numeric\n",
    ")\n",
    "from subclu.utils.data_irl_style import (\n",
    "    get_colormap, theme_dirl\n",
    ")\n",
    "\n",
    "\n",
    "setup_logging()\n",
    "notebook_display_config()\n",
    "print_lib_versions([geopy, np, pd, plotly, subclu])"
   ]
  },
  {
   "cell_type": "code",
   "execution_count": 5,
   "id": "2f6f68f0",
   "metadata": {},
   "outputs": [],
   "source": [
    "# plotting defaults\n",
    "import matplotlib.pyplot as plt\n",
    "import matplotlib.ticker as mtick\n",
    "import matplotlib.dates as mdates\n",
    "plt.style.use('default')\n"
   ]
  },
  {
   "cell_type": "markdown",
   "id": "8037a4a1",
   "metadata": {},
   "source": [
    "# Load data with location info"
   ]
  },
  {
   "cell_type": "code",
   "execution_count": 6,
   "id": "2d6bd5ca",
   "metadata": {},
   "outputs": [
    {
     "data": {
      "text/plain": [
       "(964, 14)"
      ]
     },
     "execution_count": 6,
     "metadata": {},
     "output_type": "execute_result"
    }
   ],
   "source": [
    "df_city_and_loc_test = pd.read_csv(\n",
    "    f\"djb-df_top_cities_loc_old-2023-03-08_160858.csv\",\n",
    ")\n",
    "df_city_and_loc_test.shape"
   ]
  },
  {
   "cell_type": "code",
   "execution_count": 8,
   "id": "ba7219dc",
   "metadata": {},
   "outputs": [
    {
     "data": {
      "text/html": [
       "<div>\n",
       "<style scoped>\n",
       "    .dataframe tbody tr th:only-of-type {\n",
       "        vertical-align: middle;\n",
       "    }\n",
       "\n",
       "    .dataframe tbody tr th {\n",
       "        vertical-align: top;\n",
       "    }\n",
       "\n",
       "    .dataframe thead th {\n",
       "        text-align: right;\n",
       "    }\n",
       "</style>\n",
       "<table border=\"1\" class=\"dataframe\">\n",
       "  <thead>\n",
       "    <tr style=\"text-align: right;\">\n",
       "      <th></th>\n",
       "      <th>city_to_encode</th>\n",
       "      <th>city_users_l7_ln</th>\n",
       "      <th>pt</th>\n",
       "      <th>geo_country_code</th>\n",
       "      <th>geo_region</th>\n",
       "      <th>geo_city</th>\n",
       "      <th>city_users_l7</th>\n",
       "      <th>city_rank_country</th>\n",
       "      <th>city_rank_world</th>\n",
       "      <th>country_name</th>\n",
       "      <th>city_to_encode_short</th>\n",
       "      <th>geopy_location</th>\n",
       "      <th>latitude</th>\n",
       "      <th>longitude</th>\n",
       "    </tr>\n",
       "  </thead>\n",
       "  <tbody>\n",
       "    <tr>\n",
       "      <th>0</th>\n",
       "      <td>London, ENG United Kingdom</td>\n",
       "      <td>15.124056</td>\n",
       "      <td>2023-03-01</td>\n",
       "      <td>GB</td>\n",
       "      <td>ENG</td>\n",
       "      <td>London</td>\n",
       "      <td>3700775</td>\n",
       "      <td>1</td>\n",
       "      <td>1</td>\n",
       "      <td>United Kingdom</td>\n",
       "      <td>London, ENG GB</td>\n",
       "      <td>London, Greater London, England, United Kingdom</td>\n",
       "      <td>51.507336</td>\n",
       "      <td>-0.127650</td>\n",
       "    </tr>\n",
       "    <tr>\n",
       "      <th>1</th>\n",
       "      <td>Los Angeles, CA United States</td>\n",
       "      <td>14.813316</td>\n",
       "      <td>2023-03-01</td>\n",
       "      <td>US</td>\n",
       "      <td>CA</td>\n",
       "      <td>Los Angeles</td>\n",
       "      <td>2712314</td>\n",
       "      <td>1</td>\n",
       "      <td>2</td>\n",
       "      <td>United States</td>\n",
       "      <td>Los Angeles, CA US</td>\n",
       "      <td>Los Angeles, Los Angeles County, CAL Fire Contract Counties, California, United States</td>\n",
       "      <td>34.053691</td>\n",
       "      <td>-118.242766</td>\n",
       "    </tr>\n",
       "    <tr>\n",
       "      <th>2</th>\n",
       "      <td>New York, NY United States</td>\n",
       "      <td>14.723372</td>\n",
       "      <td>2023-03-01</td>\n",
       "      <td>US</td>\n",
       "      <td>NY</td>\n",
       "      <td>New York</td>\n",
       "      <td>2479005</td>\n",
       "      <td>2</td>\n",
       "      <td>3</td>\n",
       "      <td>United States</td>\n",
       "      <td>New York, NY US</td>\n",
       "      <td>City of New York, New York, United States</td>\n",
       "      <td>40.712728</td>\n",
       "      <td>-74.006015</td>\n",
       "    </tr>\n",
       "    <tr>\n",
       "      <th>3</th>\n",
       "      <td>Chicago, IL United States</td>\n",
       "      <td>14.617279</td>\n",
       "      <td>2023-03-01</td>\n",
       "      <td>US</td>\n",
       "      <td>IL</td>\n",
       "      <td>Chicago</td>\n",
       "      <td>2229471</td>\n",
       "      <td>3</td>\n",
       "      <td>4</td>\n",
       "      <td>United States</td>\n",
       "      <td>Chicago, IL US</td>\n",
       "      <td>Chicago, Cook County, Illinois, United States</td>\n",
       "      <td>41.875562</td>\n",
       "      <td>-87.624421</td>\n",
       "    </tr>\n",
       "    <tr>\n",
       "      <th>4</th>\n",
       "      <td>Sydney, NSW Australia</td>\n",
       "      <td>14.560106</td>\n",
       "      <td>2023-03-01</td>\n",
       "      <td>AU</td>\n",
       "      <td>NSW</td>\n",
       "      <td>Sydney</td>\n",
       "      <td>2105579</td>\n",
       "      <td>1</td>\n",
       "      <td>5</td>\n",
       "      <td>Australia</td>\n",
       "      <td>Sydney, NSW AU</td>\n",
       "      <td>Sydney, Council of the City of Sydney, New South Wales, Australia</td>\n",
       "      <td>-33.869844</td>\n",
       "      <td>151.208285</td>\n",
       "    </tr>\n",
       "  </tbody>\n",
       "</table>\n",
       "</div>"
      ],
      "text/plain": [
       "                  city_to_encode  city_users_l7_ln          pt geo_country_code geo_region     geo_city  city_users_l7  city_rank_country  city_rank_world    country_name city_to_encode_short                                                                          geopy_location   latitude  \\\n",
       "0     London, ENG United Kingdom         15.124056  2023-03-01               GB        ENG       London        3700775                  1                1  United Kingdom       London, ENG GB                                         London, Greater London, England, United Kingdom  51.507336   \n",
       "1  Los Angeles, CA United States         14.813316  2023-03-01               US         CA  Los Angeles        2712314                  1                2   United States   Los Angeles, CA US  Los Angeles, Los Angeles County, CAL Fire Contract Counties, California, United States  34.053691   \n",
       "2     New York, NY United States         14.723372  2023-03-01               US         NY     New York        2479005                  2                3   United States      New York, NY US                                               City of New York, New York, United States  40.712728   \n",
       "3      Chicago, IL United States         14.617279  2023-03-01               US         IL      Chicago        2229471                  3                4   United States       Chicago, IL US                                           Chicago, Cook County, Illinois, United States  41.875562   \n",
       "4          Sydney, NSW Australia         14.560106  2023-03-01               AU        NSW       Sydney        2105579                  1                5       Australia       Sydney, NSW AU                       Sydney, Council of the City of Sydney, New South Wales, Australia -33.869844   \n",
       "\n",
       "    longitude  \n",
       "0   -0.127650  \n",
       "1 -118.242766  \n",
       "2  -74.006015  \n",
       "3  -87.624421  \n",
       "4  151.208285  "
      ]
     },
     "execution_count": 8,
     "metadata": {},
     "output_type": "execute_result"
    }
   ],
   "source": [
    "df_city_and_loc_test.head()"
   ]
  },
  {
   "cell_type": "code",
   "execution_count": null,
   "id": "d5379c6f",
   "metadata": {},
   "outputs": [],
   "source": []
  },
  {
   "cell_type": "code",
   "execution_count": null,
   "id": "0ec7a587",
   "metadata": {},
   "outputs": [],
   "source": []
  },
  {
   "cell_type": "code",
   "execution_count": null,
   "id": "33a94976",
   "metadata": {},
   "outputs": [],
   "source": []
  }
 ],
 "metadata": {
  "kernelspec": {
   "display_name": "Python 3 (ipykernel)",
   "language": "python",
   "name": "python3"
  },
  "language_info": {
   "codemirror_mode": {
    "name": "ipython",
    "version": 3
   },
   "file_extension": ".py",
   "mimetype": "text/x-python",
   "name": "python",
   "nbconvert_exporter": "python",
   "pygments_lexer": "ipython3",
   "version": "3.7.11"
  }
 },
 "nbformat": 4,
 "nbformat_minor": 5
}
