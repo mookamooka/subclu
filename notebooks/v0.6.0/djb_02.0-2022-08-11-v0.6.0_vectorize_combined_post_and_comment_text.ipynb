{
 "cells": [
  {
   "cell_type": "markdown",
   "id": "e185aaf8",
   "metadata": {},
   "source": [
    "# Purpose\n",
    "\n",
    "Use this notebook to vectorize the text of combined Post + Comments."
   ]
  },
  {
   "cell_type": "markdown",
   "id": "d3215a88",
   "metadata": {},
   "source": [
    "# Imports & Setup"
   ]
  },
  {
   "cell_type": "code",
   "execution_count": 1,
   "id": "ca9c847b",
   "metadata": {},
   "outputs": [],
   "source": [
    "%load_ext autoreload\n",
    "%autoreload 2"
   ]
  },
  {
   "cell_type": "code",
   "execution_count": 2,
   "id": "9dac5065",
   "metadata": {},
   "outputs": [
    {
     "name": "stdout",
     "output_type": "stream",
     "text": [
      "python\t\tv 3.7.10\n",
      "===\n",
      "numpy\t\tv: 1.18.5\n",
      "pandas\t\tv: 1.2.5\n",
      "subclu\t\tv: 0.6.0\n"
     ]
    }
   ],
   "source": [
    "from datetime import datetime\n",
    "import logging\n",
    "from pathlib import Path\n",
    "\n",
    "import numpy as np\n",
    "import pandas as pd\n",
    "\n",
    "from tqdm import tqdm\n",
    "\n",
    "import subclu\n",
    "from subclu.utils.eda import (\n",
    "    setup_logging, counts_describe, value_counts_and_pcts,\n",
    "    notebook_display_config, print_lib_versions,\n",
    "    style_df_numeric\n",
    ")\n",
    "\n",
    "\n",
    "print_lib_versions([np, pd, subclu])"
   ]
  },
  {
   "cell_type": "code",
   "execution_count": 5,
   "id": "5ffd6009",
   "metadata": {},
   "outputs": [
    {
     "name": "stderr",
     "output_type": "stream",
     "text": [
      "08:42:12 | INFO | \"loggging ready\"\n"
     ]
    }
   ],
   "source": [
    "# plotting\n",
    "import matplotlib.pyplot as plt\n",
    "import matplotlib.ticker as mtick\n",
    "import matplotlib.dates as mdates\n",
    "plt.style.use('default')\n",
    "\n",
    "setup_logging()\n",
    "notebook_display_config()\n",
    "logging.info('loggging ready')"
   ]
  },
  {
   "cell_type": "markdown",
   "id": "619c23f6",
   "metadata": {},
   "source": [
    "# Auth note\n",
    "This notebook assumes you have authenticated using the gcloud CLI. Example</br>\n",
    "```bash\n",
    "gcloud auth application-default login\n",
    "```"
   ]
  },
  {
   "cell_type": "markdown",
   "id": "5dace7a6",
   "metadata": {},
   "source": [
    "# Load data AND Vectorize \n",
    "\n",
    "When we call the vectorizing function, it calls the data loader under the hood.\n",
    "See the configs in:\n",
    "- `subclu2/config`"
   ]
  },
  {
   "cell_type": "code",
   "execution_count": 6,
   "id": "bc89d1c0",
   "metadata": {},
   "outputs": [
    {
     "name": "stdout",
     "output_type": "stream",
     "text": [
      "/home/david.bermejo/repos/subreddit_clustering_i18n/\n",
      "subclu.i18n_topic_model_batch.subclu2.get_embeddings.vectorize_text_tf\n",
      "vectorize_post_and_comments_combined_seed_v0.6.0\n"
     ]
    }
   ],
   "source": [
    "path_djb_repo = '/home/david.bermejo/repos/subreddit_clustering_i18n/' \n",
    "path_djb_models = '/home/david.bermejo/repos/subreddit_clustering_i18n/subclu/models' \n",
    "file_vectorize_py = 'subclu.i18n_topic_model_batch.subclu2.get_embeddings.vectorize_text_tf'\n",
    "\n",
    "config_vectorize = 'vectorize_post_and_comments_combined_seed_v0.6.0'\n",
    "\n",
    "print(path_djb_repo)\n",
    "print(file_vectorize_py)\n",
    "print(config_vectorize)"
   ]
  },
  {
   "cell_type": "markdown",
   "id": "168efd7c",
   "metadata": {},
   "source": [
    "## Run in bucket owned by i18n\n",
    "This bucket retains data longer than the gazette temp bucket"
   ]
  },
  {
   "cell_type": "code",
   "execution_count": null,
   "id": "cd88e9a8",
   "metadata": {},
   "outputs": [
    {
     "name": "stdout",
     "output_type": "stream",
     "text": [
      "CFG keys:\n",
      "  dict_keys(['data_text_and_metadata', 'config_description', 'local_cache_path', 'local_model_path', 'output_bucket', 'gcs_path_text_key', 'data_loader_name', 'data_loader_kwargs', 'n_sample_files', 'n_files_slice_start', 'n_files_slice_end', 'process_individual_files', 'col_text_for_embeddings', 'model_name', 'batch_inference_rows', 'limit_first_n_chars', 'limit_first_n_chars_retry', 'get_embeddings_verbose', 'cols_index'])\n",
      "Data Loader kwags:\n",
      "  columns: ['subreddit_id', 'subreddit_name', 'post_id', 'post_and_comment_text_clean']\n",
      "  df_format: pandas\n",
      "  unique_check: False\n",
      "  verbose: True\n",
      "  bucket_name: i18n-subreddit-clustering\n",
      "  gcs_path: i18n_topic_model_batch/runs/20220811/post_and_comment_text_combined/text_all\n",
      "  local_cache_path: /home/jupyter/subreddit_clustering_i18n/data/local_cache/\n",
      "  n_sample_files: None\n",
      "  n_files_slice_start: None\n",
      "  n_files_slice_end: None\n",
      "`2022-08-11 08:42:18,382` | `INFO` | `Using hydra's path`\n",
      "`2022-08-11 08:42:18,382` | `INFO` | `  Log file created at: /home/jupyter/subreddit_clustering_i18n/hydra_runs/outputs/2022-08-11/08-42-18/logs/2022-08-11_08-42-18_vectorize_text.log`\n",
      "`2022-08-11 08:42:18,382` | `INFO` | `Start vectorize function`\n",
      "`2022-08-11 08:42:18,382` | `INFO` | `Loading model: use_multilingual_3`\n",
      "`2022-08-11 08:42:19,997` | `INFO` | `Using /tmp/tfhub_modules to cache modules.`\n",
      "`2022-08-11 08:42:24,405` | `INFO` | `Model loaded`\n",
      "`2022-08-11 08:42:24,405` | `INFO` | `  Loading & Processing each file independently`\n",
      "`2022-08-11 08:42:25,737` | `INFO` | `  Local folder to download artifact(s):\n",
      "  /home/jupyter/subreddit_clustering_i18n/data/local_cache/i18n-subreddit-clustering/i18n_topic_model_batch/runs/20220811/post_and_comment_text_combined/text_all`\n",
      "`2022-08-11 08:42:25,819` | `INFO` | `  193 <- Files matching prefix`\n",
      "`2022-08-11 08:42:25,820` | `INFO` | `  193 <- Files to check`\n",
      "`2022-08-11 08:45:59,441` | `INFO` | `  Files already cached: 0`\n",
      "`2022-08-11 08:45:59,441` | `INFO` | `0:03:35.035499  <- Downloading files elapsed time`\n",
      "`2022-08-11 08:45:59,443` | `INFO` | `  Files already downloaded.`\n",
      "`2022-08-11 08:46:00,204` | `INFO` | `  Processing: 000000000000.parquet`\n",
      "`2022-08-11 08:46:00,204` | `INFO` | `Vectorizing column: post_and_comment_text_clean`\n",
      "`2022-08-11 08:46:00,411` | `INFO` | `Getting embeddings in batches of size: 1350`\n",
      "`2022-08-11 08:46:12,905` | `INFO` | `  Vectorizing:   9%|##3                        | 17/196 [00:12<02:11,  1.36it/s]`\n",
      "`2022-08-11 08:46:25,360` | `INFO` | `  Vectorizing:  17%|####6                      | 34/196 [00:24<01:58,  1.36it/s]`\n",
      "`2022-08-11 08:46:37,765` | `INFO` | `  Vectorizing:  28%|#######4                   | 54/196 [00:37<01:36,  1.48it/s]`\n",
      "`2022-08-11 08:46:49,621` | `INFO` | `  Vectorizing:  28%|#######4                   | 54/196 [00:49<01:36,  1.48it/s]`\n",
      "`2022-08-11 08:46:50,493` | `INFO` | `  Vectorizing:  37%|##########                 | 73/196 [00:50<01:22,  1.48it/s]`\n",
      "`2022-08-11 08:47:02,953` | `INFO` | `  Vectorizing:  47%|############8              | 93/196 [01:02<01:07,  1.53it/s]`\n",
      "`2022-08-11 08:47:16,017` | `INFO` | `  Vectorizing:  58%|##############9           | 113/196 [01:15<00:54,  1.53it/s]`\n",
      "`2022-08-11 08:47:28,570` | `INFO` | `  Vectorizing:  67%|#################5        | 132/196 [01:28<00:42,  1.52it/s]`\n",
      "`2022-08-11 08:47:39,750` | `INFO` | `  Vectorizing:  67%|#################5        | 132/196 [01:39<00:42,  1.52it/s]`\n",
      "`2022-08-11 08:47:41,238` | `INFO` | `  Vectorizing:  81%|####################9     | 158/196 [01:40<00:22,  1.69it/s]`\n",
      "`2022-08-11 08:47:53,361` | `INFO` | `  Vectorizing:  93%|########################2 | 183/196 [01:52<00:07,  1.80it/s]`\n",
      "`2022-08-11 08:48:00,839` | `INFO` | `  Vectorizing: 100%|##########################| 196/196 [02:00<00:00,  1.63it/s]`\n",
      "\n",
      "`2022-08-11 08:48:01,928` | `INFO` | `Saving df_embeddings to: gcs://i18n-subreddit-clustering/i18n_topic_model_batch/runs/20220811/post_and_comment_text_combined/text_all/embedding/2022-08-11_084218/000000000000-264431_by_515.parquet`\n",
      "`2022-08-11 08:48:22,791` | `INFO` | `Files in batch:   1%|              | 1/193 [02:23<7:38:42, 143.35s/it]`\n",
      "`2022-08-11 08:48:23,669` | `INFO` | `  Processing: 000000000001.parquet`\n",
      "`2022-08-11 08:48:23,670` | `INFO` | `Vectorizing column: post_and_comment_text_clean`\n",
      "`2022-08-11 08:48:23,891` | `INFO` | `Getting embeddings in batches of size: 1350`\n",
      "`2022-08-11 08:48:36,241` | `INFO` | `  Vectorizing:  13%|###5                       | 24/185 [00:12<01:22,  1.94it/s]`\n",
      "`2022-08-11 08:48:49,981` | `INFO` | `  Vectorizing:  13%|###5                       | 24/185 [00:26<01:22,  1.94it/s]`\n",
      "`2022-08-11 08:48:51,278` | `INFO` | `  Vectorizing:  26%|#######                    | 48/185 [00:27<01:19,  1.72it/s]`\n",
      "`2022-08-11 08:49:08,746` | `INFO` | `  Vectorizing:  37%|#########9                 | 68/185 [00:44<01:22,  1.43it/s]`\n",
      "`2022-08-11 08:49:19,985` | `INFO` | `  Vectorizing:  37%|#########9                 | 68/185 [00:56<01:22,  1.43it/s]`\n",
      "`2022-08-11 08:49:21,488` | `INFO` | `  Vectorizing:  46%|############4              | 85/185 [00:57<01:11,  1.39it/s]`\n",
      "`2022-08-11 08:49:33,665` | `INFO` | `  Vectorizing:  56%|##############6           | 104/185 [01:09<00:55,  1.45it/s]`\n",
      "`2022-08-11 08:49:46,180` | `INFO` | `  Vectorizing:  67%|#################4        | 124/185 [01:22<00:40,  1.50it/s]`\n",
      "`2022-08-11 08:50:00,085` | `INFO` | `  Vectorizing:  67%|#################4        | 124/185 [01:36<00:40,  1.50it/s]`\n",
      "`2022-08-11 08:50:00,514` | `INFO` | `  Vectorizing:  77%|####################      | 143/185 [01:36<00:29,  1.44it/s]`\n",
      "`2022-08-11 08:50:13,194` | `INFO` | `  Vectorizing:  88%|######################9   | 163/185 [01:49<00:14,  1.48it/s]`\n",
      "`2022-08-11 08:50:26,073` | `INFO` | `  Vectorizing:  98%|#########################5| 182/185 [02:02<00:02,  1.48it/s]`\n",
      "`2022-08-11 08:50:28,885` | `INFO` | `  Vectorizing: 100%|##########################| 185/185 [02:04<00:00,  1.48it/s]`\n",
      "\n",
      "`2022-08-11 08:50:29,936` | `INFO` | `Saving df_embeddings to: gcs://i18n-subreddit-clustering/i18n_topic_model_batch/runs/20220811/post_and_comment_text_combined/text_all/embedding/2022-08-11_084218/000000000001-249532_by_515.parquet`\n",
      "`2022-08-11 08:50:50,792` | `INFO` | `Files in batch:   1%|1             | 2/193 [04:51<7:45:02, 146.09s/it]`\n",
      "`2022-08-11 08:50:51,691` | `INFO` | `  Processing: 000000000002.parquet`\n",
      "`2022-08-11 08:50:51,692` | `INFO` | `Vectorizing column: post_and_comment_text_clean`\n",
      "`2022-08-11 08:50:51,944` | `INFO` | `Getting embeddings in batches of size: 1350`\n",
      "`2022-08-11 08:51:04,392` | `INFO` | `  Vectorizing:   7%|#8                         | 16/229 [00:12<02:45,  1.29it/s]`\n",
      "`2022-08-11 08:51:16,536` | `INFO` | `  Vectorizing:  17%|####4                      | 38/229 [00:24<01:59,  1.59it/s]`\n",
      "`2022-08-11 08:51:29,273` | `INFO` | `  Vectorizing:  26%|#######                    | 60/229 [00:37<01:42,  1.65it/s]`\n",
      "`2022-08-11 08:51:40,247` | `INFO` | `  Vectorizing:  26%|#######                    | 60/229 [00:48<01:42,  1.65it/s]`\n",
      "`2022-08-11 08:51:42,119` | `INFO` | `  Vectorizing:  35%|#########4                 | 80/229 [00:50<01:32,  1.62it/s]`\n",
      "`2022-08-11 08:51:56,096` | `INFO` | `  Vectorizing:  43%|###########6               | 99/229 [01:04<01:25,  1.52it/s]`\n",
      "`2022-08-11 08:52:08,145` | `INFO` | `  Vectorizing:  53%|#############7            | 121/229 [01:16<01:06,  1.62it/s]`\n",
      "`2022-08-11 08:52:20,474` | `INFO` | `  Vectorizing:  53%|#############7            | 121/229 [01:28<01:06,  1.62it/s]`\n",
      "`2022-08-11 08:52:20,475` | `INFO` | `  Vectorizing:  63%|################4         | 145/229 [01:28<00:48,  1.72it/s]`\n",
      "`2022-08-11 08:52:30,475` | `INFO` | `  Vectorizing:  63%|################4         | 145/229 [01:38<00:48,  1.72it/s]`\n",
      "`2022-08-11 08:52:32,892` | `INFO` | `  Vectorizing:  75%|###################4      | 171/229 [01:40<00:31,  1.84it/s]`\n",
      "`2022-08-11 08:52:50,546` | `INFO` | `  Vectorizing:  75%|###################4      | 171/229 [01:58<00:31,  1.84it/s]`\n",
      "`2022-08-11 08:52:50,547` | `INFO` | `  Vectorizing:  85%|######################    | 194/229 [01:58<00:21,  1.63it/s]`\n",
      "`2022-08-11 08:53:00,547` | `INFO` | `  Vectorizing:  85%|######################    | 194/229 [02:08<00:21,  1.63it/s]`\n",
      "`2022-08-11 08:53:03,109` | `INFO` | `  Vectorizing:  92%|#######################9  | 211/229 [02:11<00:11,  1.55it/s]`\n",
      "`2022-08-11 08:53:12,903` | `INFO` | `  Vectorizing: 100%|##########################| 229/229 [02:20<00:00,  1.62it/s]`\n",
      "\n",
      "`2022-08-11 08:53:14,156` | `INFO` | `Saving df_embeddings to: gcs://i18n-subreddit-clustering/i18n_topic_model_batch/runs/20220811/post_and_comment_text_combined/text_all/embedding/2022-08-11_084218/000000000002-308094_by_515.parquet`\n",
      "`2022-08-11 08:53:40,154` | `INFO` | `Files in batch:   2%|2             | 3/193 [07:40<8:16:15, 156.71s/it]`\n",
      "`2022-08-11 08:53:41,040` | `INFO` | `  Processing: 000000000003.parquet`\n",
      "`2022-08-11 08:53:41,041` | `INFO` | `Vectorizing column: post_and_comment_text_clean`\n",
      "`2022-08-11 08:53:41,271` | `INFO` | `Getting embeddings in batches of size: 1350`\n",
      "`2022-08-11 08:53:53,595` | `INFO` | `  Vectorizing:   9%|##3                        | 21/246 [00:12<02:12,  1.70it/s]`\n",
      "`2022-08-11 08:54:10,973` | `INFO` | `  Vectorizing:   9%|##3                        | 21/246 [00:29<02:12,  1.70it/s]`\n",
      "`2022-08-11 08:54:11,229` | `INFO` | `  Vectorizing:  17%|####6                      | 42/246 [00:29<02:30,  1.36it/s]`\n",
      "`2022-08-11 08:54:24,392` | `INFO` | `  Vectorizing:  24%|######4                    | 59/246 [00:43<02:20,  1.33it/s]`\n",
      "`2022-08-11 08:54:36,735` | `INFO` | `  Vectorizing:  33%|########7                  | 80/246 [00:55<01:53,  1.46it/s]`\n",
      "`2022-08-11 08:54:49,729` | `INFO` | `  Vectorizing:  41%|##########6               | 101/246 [01:08<01:35,  1.52it/s]`\n",
      "`2022-08-11 08:55:01,017` | `INFO` | `  Vectorizing:  41%|##########6               | 101/246 [01:19<01:35,  1.52it/s]`\n",
      "`2022-08-11 08:55:02,067` | `INFO` | `  Vectorizing:  51%|#############2            | 125/246 [01:20<01:13,  1.66it/s]`\n",
      "`2022-08-11 08:55:14,528` | `INFO` | `  Vectorizing:  61%|###############7          | 149/246 [01:33<00:55,  1.74it/s]`\n",
      "`2022-08-11 08:55:28,366` | `INFO` | `  Vectorizing:  70%|##################2       | 173/246 [01:47<00:41,  1.74it/s]`\n",
      "`2022-08-11 08:55:41,074` | `INFO` | `  Vectorizing:  70%|##################2       | 173/246 [01:59<00:41,  1.74it/s]`\n",
      "`2022-08-11 08:55:41,353` | `INFO` | `  Vectorizing:  78%|####################2     | 192/246 [02:00<00:32,  1.65it/s]`\n",
      "`2022-08-11 08:55:53,675` | `INFO` | `  Vectorizing:  86%|######################3   | 211/246 [02:12<00:21,  1.62it/s]`\n",
      "`2022-08-11 08:56:06,396` | `INFO` | `  Vectorizing:  97%|#########################2| 239/246 [02:25<00:03,  1.80it/s]`\n",
      "`2022-08-11 08:56:09,620` | `INFO` | `  Vectorizing: 100%|##########################| 246/246 [02:28<00:00,  1.66it/s]`\n",
      "\n",
      "`2022-08-11 08:56:10,955` | `INFO` | `Saving df_embeddings to: gcs://i18n-subreddit-clustering/i18n_topic_model_batch/runs/20220811/post_and_comment_text_combined/text_all/embedding/2022-08-11_084218/000000000003-331082_by_515.parquet`\n",
      "`2022-08-11 08:56:34,201` | `INFO` | `Files in batch:   2%|2             | 4/193 [10:34<8:35:12, 163.56s/it]`\n",
      "`2022-08-11 08:56:34,982` | `INFO` | `  Processing: 000000000004.parquet`\n",
      "`2022-08-11 08:56:34,982` | `INFO` | `Vectorizing column: post_and_comment_text_clean`\n",
      "`2022-08-11 08:56:35,228` | `INFO` | `Getting embeddings in batches of size: 1350`\n",
      "`2022-08-11 08:56:47,351` | `INFO` | `  Vectorizing:   6%|#6                         | 16/265 [00:12<03:08,  1.32it/s]`\n",
      "`2022-08-11 08:56:59,411` | `INFO` | `  Vectorizing:  15%|###9                       | 39/265 [00:24<02:15,  1.66it/s]`\n",
      "`2022-08-11 08:57:11,247` | `INFO` | `  Vectorizing:  15%|###9                       | 39/265 [00:36<02:15,  1.66it/s]`\n",
      "`2022-08-11 08:57:11,452` | `INFO` | `  Vectorizing:  24%|######5                    | 64/265 [00:36<01:48,  1.85it/s]`\n",
      "`2022-08-11 08:57:26,815` | `INFO` | `  Vectorizing:  34%|#########                  | 89/265 [00:51<01:40,  1.75it/s]`\n"
     ]
    }
   ],
   "source": [
    "# run on full data\n",
    "\n",
    "!cd $path_djb_repo && python -m $file_vectorize_py \\\n",
    "    --config-name $config_vectorize"
   ]
  },
  {
   "cell_type": "code",
   "execution_count": null,
   "id": "aa7bc393",
   "metadata": {},
   "outputs": [],
   "source": []
  }
 ],
 "metadata": {
  "environment": {
   "name": "tf2-gpu.2-3.m74",
   "type": "gcloud",
   "uri": "gcr.io/deeplearning-platform-release/tf2-gpu.2-3:m74"
  },
  "kernelspec": {
   "display_name": "Python 3",
   "language": "python",
   "name": "python3"
  },
  "language_info": {
   "codemirror_mode": {
    "name": "ipython",
    "version": 3
   },
   "file_extension": ".py",
   "mimetype": "text/x-python",
   "name": "python",
   "nbconvert_exporter": "python",
   "pygments_lexer": "ipython3",
   "version": "3.7.10"
  }
 },
 "nbformat": 4,
 "nbformat_minor": 5
}
