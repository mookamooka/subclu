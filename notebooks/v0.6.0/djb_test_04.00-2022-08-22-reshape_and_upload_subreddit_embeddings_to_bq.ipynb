{
 "cells": [
  {
   "cell_type": "markdown",
   "id": "a03f8928",
   "metadata": {},
   "source": [
    "# Purpose\n",
    "\n",
    "**2022-08-22: v0.6.0**\n",
    "The default parquet embedding format for my embeddings (1 row per column) is not favored for bigquery & other steam standards.\n",
    "\n",
    "The preferred format is: 1 column that has repeated records. For example:\n",
    "- `data-prod-165221.ml_content.subreddit_embeddings_ft2` \n",
    "    - [console link](https://console.cloud.google.com/bigquery?project=data-science-prod-218515&ws=!1m10!1m4!4m3!1sdata-prod-165221!2sml_content!3ssimilar_subreddit_ft2!1m4!4m3!1sdata-prod-165221!2sml_content!3ssubreddit_embeddings_ft2)\n",
    "    - github link\n",
    "        - https://github.snooguts.net/reddit/gazette-models/blob/master/similar_subreddit/embeddings/__main__.py#L105-L112\n",
    "\n",
    "In python (each record as a dictionary. it gets turned into JSON):\n",
    "```python\n",
    "sr_embedding_dict = {\n",
    "    \"pt\": date_today,\n",
    "    \"model_name\": MODEL_NAME,\n",
    "    \"model_version\": MODEL_VERSION,\n",
    "    \"subreddit_id\": sr_dict[\"subreddit_id\"],\n",
    "    \"subreddit_name\": subreddit_name_lowercase,\n",
    "    \"embedding\": sr_embedding.tolist(),\n",
    "}\n",
    "```\n",
    "\n",
    "In BQ:\n",
    "```\n",
    "Field name\t\tType\tMode\t\tDescription\n",
    "model_name  \tSTRING\tNULLABLE\t\tModel name\t\n",
    "model_version\tSTRING\tNULLABLE\t\tModel version\t\n",
    "subreddit_id\tSTRING\tNULLABLE\t\tSubreddit id\t\n",
    "subreddit_name\tSTRING\tNULLABLE\t\tLower case subreddit name\t\n",
    "**embedding\t\tFLOAT\tREPEATED\t\tSubreddit embeddings\n",
    "```"
   ]
  },
  {
   "cell_type": "markdown",
   "id": "83b6a99c",
   "metadata": {},
   "source": [
    "# Notebook setup"
   ]
  },
  {
   "cell_type": "code",
   "execution_count": 1,
   "id": "49c210fe",
   "metadata": {},
   "outputs": [],
   "source": [
    "%load_ext autoreload\n",
    "%autoreload 2"
   ]
  },
  {
   "cell_type": "code",
   "execution_count": 2,
   "id": "1a05e415",
   "metadata": {},
   "outputs": [
    {
     "name": "stdout",
     "output_type": "stream",
     "text": [
      "python\t\tv 3.7.10\n",
      "===\n",
      "hydra\t\tv: 1.1.0\n",
      "mlflow\t\tv: 1.16.0\n",
      "numpy\t\tv: 1.19.5\n",
      "pandas\t\tv: 1.2.4\n",
      "subclu\t\tv: 0.6.0\n"
     ]
    }
   ],
   "source": [
    "from collections import defaultdict\n",
    "from datetime import datetime, timedelta\n",
    "import gc\n",
    "import os\n",
    "import json\n",
    "import logging\n",
    "from logging import info\n",
    "from pathlib import Path\n",
    "from pprint import pprint\n",
    "\n",
    "import numpy as np\n",
    "import pandas as pd\n",
    "from tqdm.auto import tqdm\n",
    "\n",
    "import mlflow\n",
    "import hydra\n",
    "\n",
    "import subclu\n",
    "from subclu.utils.hydra_config_loader import LoadHydraConfig\n",
    "from subclu.utils import set_working_directory, get_project_subfolder\n",
    "from subclu.utils.eda import (\n",
    "    setup_logging, counts_describe, value_counts_and_pcts,\n",
    "    notebook_display_config, print_lib_versions,\n",
    "    style_df_numeric,\n",
    "    elapsed_time,\n",
    ")\n",
    "\n",
    "from subclu.utils.mlflow_logger import MlflowLogger\n",
    "from subclu.models.bq_embedding_schemas import embeddings_schema\n",
    "from subclu.models.reshape_embeddings_for_bq import reshape_embeddings_to_ndjson, reshape_embeddings_and_upload_to_bq\n",
    "from subclu.utils.big_query_utils import load_data_to_bq_table\n",
    "\n",
    "print_lib_versions([hydra, mlflow, np, pd, subclu])"
   ]
  },
  {
   "cell_type": "code",
   "execution_count": 3,
   "id": "8af457db",
   "metadata": {},
   "outputs": [],
   "source": [
    "# plotting\n",
    "import matplotlib.pyplot as plt\n",
    "import matplotlib.ticker as mtick\n",
    "import matplotlib.dates as mdates\n",
    "plt.style.use('default')\n",
    "\n",
    "setup_logging()\n",
    "notebook_display_config()"
   ]
  },
  {
   "cell_type": "markdown",
   "id": "a91b31e2",
   "metadata": {},
   "source": [
    "# Set Local model path (for saving)"
   ]
  },
  {
   "cell_type": "code",
   "execution_count": 56,
   "id": "5b403072",
   "metadata": {},
   "outputs": [
    {
     "data": {
      "text/plain": [
       "PosixPath('/home/jupyter/subreddit_clustering_i18n/data/models/aggregate_embeddings/manual_v060_2022-08-31_030238')"
      ]
     },
     "execution_count": 56,
     "metadata": {},
     "output_type": "execute_result"
    }
   ],
   "source": [
    "manual_model_timestamp = datetime.utcnow().strftime('%Y-%m-%d_%H%M%S')\n",
    "path_this_model = get_project_subfolder(\n",
    "    f\"data/models/aggregate_embeddings/manual_v060_{manual_model_timestamp}\"\n",
    ")\n",
    "Path.mkdir(path_this_model, parents=True, exist_ok=True)\n",
    "path_this_model"
   ]
  },
  {
   "cell_type": "markdown",
   "id": "2a229f16",
   "metadata": {},
   "source": [
    "# Load config for embeddings to reshape and where to save them\n",
    "\n",
    "The embedding aggregation should've been logged to `mlflow` so we should be able to\n",
    "- make calls to mlflow to get the embeddings\n",
    "- add the new embeddings format to the original job\n",
    "\n"
   ]
  },
  {
   "cell_type": "code",
   "execution_count": 57,
   "id": "d4884a22",
   "metadata": {},
   "outputs": [],
   "source": [
    "cfg_reshape_embeddings = LoadHydraConfig(\n",
    "    config_name='reshape_embeddings_for_bq-subreddit-v0.6.0.yaml',\n",
    "    config_path=\"../config\",\n",
    "#     overrides=[\n",
    "#         f\"mlflow_experiment=v0.6.0_mUSE_aggregates_test\",\n",
    "#         f\"n_sample_posts_files=2\",\n",
    "#         f\"n_parallel_jobs=4\",\n",
    "#     ],\n",
    ")\n",
    "# print(cfg_reshape_embeddings.config_dict.keys())"
   ]
  },
  {
   "cell_type": "code",
   "execution_count": 58,
   "id": "ad8df030",
   "metadata": {},
   "outputs": [
    {
     "name": "stdout",
     "output_type": "stream",
     "text": [
      "data_text_and_metadata:\n",
      "data_embeddings_to_aggregate:\n",
      "aggregate_params:\n",
      "description: Use this config to reshape embeddings and upload them to BigQuery\n",
      "bucket_output: i18n-subreddit-clustering\n",
      "mlflow_tracking_uri: sqlite\n",
      "mlflow_run_id: badc44b0e5ac467da14f710da0b410c6\n",
      "embeddings_artifact_path: df_subs_agg_c1_unweighted\n",
      "bq_project: reddit-employee-datasets\n",
      "bq_dataset: david_bermejo\n",
      "bq_table: cau_subreddit_embeddings\n",
      "bq_table_description: Subreddit-level embeddings. See the wiki for more details. https://reddit.atlassian.net/wiki/spaces/DataScience/pages/2404220935/\n",
      "update_table_description: True,\n",
      "pt: 2022-08-11\n",
      "model_version: v0.6.0\n",
      "model_name: cau-text-mUSE-embeddings\n",
      "embeddings_config: aggregate_embeddings_v0.6.0\n"
     ]
    }
   ],
   "source": [
    "for k_, v_ in cfg_reshape_embeddings.config_dict.items():\n",
    "    if isinstance(v_, dict):\n",
    "        print(f\"{k_}:\")\n",
    "        for k2_, v2_ in v_.items():\n",
    "            pass\n",
    "            # print(f\"    {k2_}: {v2_}\")\n",
    "    else:\n",
    "        print(f\"{k_}: {v_}\")"
   ]
  },
  {
   "cell_type": "markdown",
   "id": "1577896d",
   "metadata": {},
   "source": [
    "# Start MLflow & Load subreddit embeddings"
   ]
  },
  {
   "cell_type": "code",
   "execution_count": 8,
   "id": "a2667fbd",
   "metadata": {},
   "outputs": [],
   "source": [
    "mlf = MlflowLogger(tracking_uri=cfg_reshape_embeddings.config_dict['mlflow_tracking_uri'])"
   ]
  },
  {
   "cell_type": "code",
   "execution_count": 9,
   "id": "e56440e8",
   "metadata": {},
   "outputs": [
    {
     "name": "stderr",
     "output_type": "stream",
     "text": [
      "02:05:21 | INFO | \"Local folder to download artifact(s):\n",
      "  /home/jupyter/subreddit_clustering_i18n/data/local_cache/mlflow/mlruns/35/badc44b0e5ac467da14f710da0b410c6/artifacts/df_subs_agg_c1_unweighted\"\n",
      "100%|##########################################| 6/6 [00:00<00:00, 15857.48it/s]\n",
      "02:05:22 | INFO | \"  Parquet files found:     4\"\n",
      "02:05:22 | INFO | \"  Parquet files to use:     4\"\n"
     ]
    },
    {
     "name": "stdout",
     "output_type": "stream",
     "text": [
      "(771760, 515)\n",
      "CPU times: user 8.79 s, sys: 4.22 s, total: 13 s\n",
      "Wall time: 7.38 s\n"
     ]
    }
   ],
   "source": [
    "%%time\n",
    "\n",
    "df_agg_sub_c = mlf.read_run_artifact(\n",
    "    run_id=cfg_reshape_embeddings.config_dict['mlflow_run_id'],\n",
    "    artifact_folder=cfg_reshape_embeddings.config_dict['embeddings_artifact_path'],\n",
    "    read_function='pd_parquet',\n",
    "    verbose=False,\n",
    ")\n",
    "print(df_agg_sub_c.shape)"
   ]
  },
  {
   "cell_type": "markdown",
   "id": "377838f7",
   "metadata": {},
   "source": [
    "# Check distribution of posts for embeddings\n",
    "We'd expect ~340k subs with 3+ posts"
   ]
  },
  {
   "cell_type": "code",
   "execution_count": 10,
   "id": "686d0ae9",
   "metadata": {},
   "outputs": [
    {
     "data": {
      "text/plain": [
       "count    771760.000000\n",
       "mean         67.257111\n",
       "std         479.863049\n",
       "min           0.000000\n",
       "25%           1.000000\n",
       "50%           2.000000\n",
       "75%           8.000000\n",
       "max        8400.000000\n",
       "Name: posts_for_embeddings_count, dtype: float64"
      ]
     },
     "execution_count": 10,
     "metadata": {},
     "output_type": "execute_result"
    }
   ],
   "source": [
    "df_agg_sub_c['posts_for_embeddings_count'].describe()"
   ]
  },
  {
   "cell_type": "code",
   "execution_count": 11,
   "id": "6b183221",
   "metadata": {},
   "outputs": [
    {
     "data": {
      "text/html": [
       "<style  type=\"text/css\" >\n",
       "#T_e9361_row0_col1{\n",
       "            width:  10em;\n",
       "             height:  80%;\n",
       "            background:  linear-gradient(90deg,#95cff5 25.7%, transparent 25.7%);\n",
       "        }#T_e9361_row0_col2,#T_e9361_row14_col1{\n",
       "            width:  10em;\n",
       "             height:  80%;\n",
       "        }#T_e9361_row1_col1,#T_e9361_row14_col2{\n",
       "            width:  10em;\n",
       "             height:  80%;\n",
       "            background:  linear-gradient(90deg,#95cff5 100.0%, transparent 100.0%);\n",
       "        }#T_e9361_row1_col2{\n",
       "            width:  10em;\n",
       "             height:  80%;\n",
       "            background:  linear-gradient(90deg,#95cff5 42.2%, transparent 42.2%);\n",
       "        }#T_e9361_row2_col1{\n",
       "            width:  10em;\n",
       "             height:  80%;\n",
       "            background:  linear-gradient(90deg,#95cff5 50.9%, transparent 50.9%);\n",
       "        }#T_e9361_row2_col2{\n",
       "            width:  10em;\n",
       "             height:  80%;\n",
       "            background:  linear-gradient(90deg,#95cff5 64.1%, transparent 64.1%);\n",
       "        }#T_e9361_row3_col1{\n",
       "            width:  10em;\n",
       "             height:  80%;\n",
       "            background:  linear-gradient(90deg,#95cff5 21.9%, transparent 21.9%);\n",
       "        }#T_e9361_row3_col2{\n",
       "            width:  10em;\n",
       "             height:  80%;\n",
       "            background:  linear-gradient(90deg,#95cff5 74.1%, transparent 74.1%);\n",
       "        }#T_e9361_row4_col1{\n",
       "            width:  10em;\n",
       "             height:  80%;\n",
       "            background:  linear-gradient(90deg,#95cff5 11.8%, transparent 11.8%);\n",
       "        }#T_e9361_row4_col2{\n",
       "            width:  10em;\n",
       "             height:  80%;\n",
       "            background:  linear-gradient(90deg,#95cff5 79.9%, transparent 79.9%);\n",
       "        }#T_e9361_row5_col1{\n",
       "            width:  10em;\n",
       "             height:  80%;\n",
       "            background:  linear-gradient(90deg,#95cff5 7.6%, transparent 7.6%);\n",
       "        }#T_e9361_row5_col2{\n",
       "            width:  10em;\n",
       "             height:  80%;\n",
       "            background:  linear-gradient(90deg,#95cff5 84.0%, transparent 84.0%);\n",
       "        }#T_e9361_row6_col1{\n",
       "            width:  10em;\n",
       "             height:  80%;\n",
       "            background:  linear-gradient(90deg,#95cff5 5.2%, transparent 5.2%);\n",
       "        }#T_e9361_row6_col2{\n",
       "            width:  10em;\n",
       "             height:  80%;\n",
       "            background:  linear-gradient(90deg,#95cff5 87.1%, transparent 87.1%);\n",
       "        }#T_e9361_row7_col1{\n",
       "            width:  10em;\n",
       "             height:  80%;\n",
       "            background:  linear-gradient(90deg,#95cff5 3.6%, transparent 3.6%);\n",
       "        }#T_e9361_row7_col2{\n",
       "            width:  10em;\n",
       "             height:  80%;\n",
       "            background:  linear-gradient(90deg,#95cff5 89.5%, transparent 89.5%);\n",
       "        }#T_e9361_row8_col1{\n",
       "            width:  10em;\n",
       "             height:  80%;\n",
       "            background:  linear-gradient(90deg,#95cff5 2.5%, transparent 2.5%);\n",
       "        }#T_e9361_row8_col2{\n",
       "            width:  10em;\n",
       "             height:  80%;\n",
       "            background:  linear-gradient(90deg,#95cff5 91.4%, transparent 91.4%);\n",
       "        }#T_e9361_row9_col1{\n",
       "            width:  10em;\n",
       "             height:  80%;\n",
       "            background:  linear-gradient(90deg,#95cff5 1.8%, transparent 1.8%);\n",
       "        }#T_e9361_row9_col2{\n",
       "            width:  10em;\n",
       "             height:  80%;\n",
       "            background:  linear-gradient(90deg,#95cff5 93.1%, transparent 93.1%);\n",
       "        }#T_e9361_row10_col1{\n",
       "            width:  10em;\n",
       "             height:  80%;\n",
       "            background:  linear-gradient(90deg,#95cff5 1.3%, transparent 1.3%);\n",
       "        }#T_e9361_row10_col2{\n",
       "            width:  10em;\n",
       "             height:  80%;\n",
       "            background:  linear-gradient(90deg,#95cff5 94.6%, transparent 94.6%);\n",
       "        }#T_e9361_row11_col1,#T_e9361_row12_col1{\n",
       "            width:  10em;\n",
       "             height:  80%;\n",
       "            background:  linear-gradient(90deg,#95cff5 0.8%, transparent 0.8%);\n",
       "        }#T_e9361_row11_col2{\n",
       "            width:  10em;\n",
       "             height:  80%;\n",
       "            background:  linear-gradient(90deg,#95cff5 95.9%, transparent 95.9%);\n",
       "        }#T_e9361_row12_col2{\n",
       "            width:  10em;\n",
       "             height:  80%;\n",
       "            background:  linear-gradient(90deg,#95cff5 97.2%, transparent 97.2%);\n",
       "        }#T_e9361_row13_col1{\n",
       "            width:  10em;\n",
       "             height:  80%;\n",
       "            background:  linear-gradient(90deg,#95cff5 2.2%, transparent 2.2%);\n",
       "        }#T_e9361_row13_col2{\n",
       "            width:  10em;\n",
       "             height:  80%;\n",
       "            background:  linear-gradient(90deg,#95cff5 99.0%, transparent 99.0%);\n",
       "        }</style><table id=\"T_e9361_\" ><thead>    <tr>        <th class=\"blank level0\" ></th>        <th class=\"col_heading level0 col0\" >posts_for_embeddings_count-count</th>        <th class=\"col_heading level0 col1\" >posts_for_embeddings_count-percent</th>        <th class=\"col_heading level0 col2\" >posts_for_embeddings_count-pct_cumulative_sum</th>    </tr></thead><tbody>\n",
       "                <tr>\n",
       "                        <th id=\"T_e9361_level0_row0\" class=\"row_heading level0 row0\" >0</th>\n",
       "                        <td id=\"T_e9361_row0_col0\" class=\"data row0 col0\" >65,797</td>\n",
       "                        <td id=\"T_e9361_row0_col1\" class=\"data row0 col1\" >8.5%</td>\n",
       "                        <td id=\"T_e9361_row0_col2\" class=\"data row0 col2\" >8.5%</td>\n",
       "            </tr>\n",
       "            <tr>\n",
       "                        <th id=\"T_e9361_level0_row1\" class=\"row_heading level0 row1\" >1</th>\n",
       "                        <td id=\"T_e9361_row1_col0\" class=\"data row1 col0\" >240,338</td>\n",
       "                        <td id=\"T_e9361_row1_col1\" class=\"data row1 col1\" >31.1%</td>\n",
       "                        <td id=\"T_e9361_row1_col2\" class=\"data row1 col2\" >39.7%</td>\n",
       "            </tr>\n",
       "            <tr>\n",
       "                        <th id=\"T_e9361_level0_row2\" class=\"row_heading level0 row2\" >2</th>\n",
       "                        <td id=\"T_e9361_row2_col0\" class=\"data row2 col0\" >125,070</td>\n",
       "                        <td id=\"T_e9361_row2_col1\" class=\"data row2 col1\" >16.2%</td>\n",
       "                        <td id=\"T_e9361_row2_col2\" class=\"data row2 col2\" >55.9%</td>\n",
       "            </tr>\n",
       "            <tr>\n",
       "                        <th id=\"T_e9361_level0_row3\" class=\"row_heading level0 row3\" >3</th>\n",
       "                        <td id=\"T_e9361_row3_col0\" class=\"data row3 col0\" >56,898</td>\n",
       "                        <td id=\"T_e9361_row3_col1\" class=\"data row3 col1\" >7.4%</td>\n",
       "                        <td id=\"T_e9361_row3_col2\" class=\"data row3 col2\" >63.2%</td>\n",
       "            </tr>\n",
       "            <tr>\n",
       "                        <th id=\"T_e9361_level0_row4\" class=\"row_heading level0 row4\" >4</th>\n",
       "                        <td id=\"T_e9361_row4_col0\" class=\"data row4 col0\" >33,084</td>\n",
       "                        <td id=\"T_e9361_row4_col1\" class=\"data row4 col1\" >4.3%</td>\n",
       "                        <td id=\"T_e9361_row4_col2\" class=\"data row4 col2\" >67.5%</td>\n",
       "            </tr>\n",
       "            <tr>\n",
       "                        <th id=\"T_e9361_level0_row5\" class=\"row_heading level0 row5\" >5</th>\n",
       "                        <td id=\"T_e9361_row5_col0\" class=\"data row5 col0\" >23,205</td>\n",
       "                        <td id=\"T_e9361_row5_col1\" class=\"data row5 col1\" >3.0%</td>\n",
       "                        <td id=\"T_e9361_row5_col2\" class=\"data row5 col2\" >70.5%</td>\n",
       "            </tr>\n",
       "            <tr>\n",
       "                        <th id=\"T_e9361_level0_row6\" class=\"row_heading level0 row6\" >6</th>\n",
       "                        <td id=\"T_e9361_row6_col0\" class=\"data row6 col0\" >17,701</td>\n",
       "                        <td id=\"T_e9361_row6_col1\" class=\"data row6 col1\" >2.3%</td>\n",
       "                        <td id=\"T_e9361_row6_col2\" class=\"data row6 col2\" >72.8%</td>\n",
       "            </tr>\n",
       "            <tr>\n",
       "                        <th id=\"T_e9361_level0_row7\" class=\"row_heading level0 row7\" >7</th>\n",
       "                        <td id=\"T_e9361_row7_col0\" class=\"data row7 col0\" >13,792</td>\n",
       "                        <td id=\"T_e9361_row7_col1\" class=\"data row7 col1\" >1.8%</td>\n",
       "                        <td id=\"T_e9361_row7_col2\" class=\"data row7 col2\" >74.6%</td>\n",
       "            </tr>\n",
       "            <tr>\n",
       "                        <th id=\"T_e9361_level0_row8\" class=\"row_heading level0 row8\" >8</th>\n",
       "                        <td id=\"T_e9361_row8_col0\" class=\"data row8 col0\" >11,189</td>\n",
       "                        <td id=\"T_e9361_row8_col1\" class=\"data row8 col1\" >1.4%</td>\n",
       "                        <td id=\"T_e9361_row8_col2\" class=\"data row8 col2\" >76.1%</td>\n",
       "            </tr>\n",
       "            <tr>\n",
       "                        <th id=\"T_e9361_level0_row9\" class=\"row_heading level0 row9\" >9</th>\n",
       "                        <td id=\"T_e9361_row9_col0\" class=\"data row9 col0\" >9,664</td>\n",
       "                        <td id=\"T_e9361_row9_col1\" class=\"data row9 col1\" >1.3%</td>\n",
       "                        <td id=\"T_e9361_row9_col2\" class=\"data row9 col2\" >77.3%</td>\n",
       "            </tr>\n",
       "            <tr>\n",
       "                        <th id=\"T_e9361_level0_row10\" class=\"row_heading level0 row10\" >10</th>\n",
       "                        <td id=\"T_e9361_row10_col0\" class=\"data row10 col0\" >8,497</td>\n",
       "                        <td id=\"T_e9361_row10_col1\" class=\"data row10 col1\" >1.1%</td>\n",
       "                        <td id=\"T_e9361_row10_col2\" class=\"data row10 col2\" >78.4%</td>\n",
       "            </tr>\n",
       "            <tr>\n",
       "                        <th id=\"T_e9361_level0_row11\" class=\"row_heading level0 row11\" >11</th>\n",
       "                        <td id=\"T_e9361_row11_col0\" class=\"data row11 col0\" >7,225</td>\n",
       "                        <td id=\"T_e9361_row11_col1\" class=\"data row11 col1\" >0.9%</td>\n",
       "                        <td id=\"T_e9361_row11_col2\" class=\"data row11 col2\" >79.4%</td>\n",
       "            </tr>\n",
       "            <tr>\n",
       "                        <th id=\"T_e9361_level0_row12\" class=\"row_heading level0 row12\" >12</th>\n",
       "                        <td id=\"T_e9361_row12_col0\" class=\"data row12 col0\" >7,336</td>\n",
       "                        <td id=\"T_e9361_row12_col1\" class=\"data row12 col1\" >1.0%</td>\n",
       "                        <td id=\"T_e9361_row12_col2\" class=\"data row12 col2\" >80.3%</td>\n",
       "            </tr>\n",
       "            <tr>\n",
       "                        <th id=\"T_e9361_level0_row13\" class=\"row_heading level0 row13\" >13</th>\n",
       "                        <td id=\"T_e9361_row13_col0\" class=\"data row13 col0\" >10,642</td>\n",
       "                        <td id=\"T_e9361_row13_col1\" class=\"data row13 col1\" >1.4%</td>\n",
       "                        <td id=\"T_e9361_row13_col2\" class=\"data row13 col2\" >81.7%</td>\n",
       "            </tr>\n",
       "            <tr>\n",
       "                        <th id=\"T_e9361_level0_row14\" class=\"row_heading level0 row14\" >14</th>\n",
       "                        <td id=\"T_e9361_row14_col0\" class=\"data row14 col0\" >5,420</td>\n",
       "                        <td id=\"T_e9361_row14_col1\" class=\"data row14 col1\" >0.7%</td>\n",
       "                        <td id=\"T_e9361_row14_col2\" class=\"data row14 col2\" >82.4%</td>\n",
       "            </tr>\n",
       "    </tbody></table>"
      ],
      "text/plain": [
       "<pandas.io.formats.style.Styler at 0x7f0c03a7d890>"
      ]
     },
     "execution_count": 11,
     "metadata": {},
     "output_type": "execute_result"
    }
   ],
   "source": [
    "value_counts_and_pcts(\n",
    "    df_agg_sub_c['posts_for_embeddings_count'],\n",
    "    sort_index=True,\n",
    "    sort_index_ascending=True,\n",
    ")"
   ]
  },
  {
   "cell_type": "code",
   "execution_count": 31,
   "id": "358daac1",
   "metadata": {},
   "outputs": [
    {
     "data": {
      "text/html": [
       "<style  type=\"text/css\" >\n",
       "#T_9d0d2_row0_col1,#T_9d0d2_row4_col3{\n",
       "            width:  10em;\n",
       "             height:  80%;\n",
       "            background:  linear-gradient(90deg,#95cff5 100.0%, transparent 100.0%);\n",
       "        }#T_9d0d2_row0_col3,#T_9d0d2_row1_col1{\n",
       "            width:  10em;\n",
       "             height:  80%;\n",
       "        }#T_9d0d2_row1_col3{\n",
       "            width:  10em;\n",
       "             height:  80%;\n",
       "            background:  linear-gradient(90deg,#95cff5 11.7%, transparent 11.7%);\n",
       "        }#T_9d0d2_row2_col1{\n",
       "            width:  10em;\n",
       "             height:  80%;\n",
       "            background:  linear-gradient(90deg,#95cff5 30.1%, transparent 30.1%);\n",
       "        }#T_9d0d2_row2_col3{\n",
       "            width:  10em;\n",
       "             height:  80%;\n",
       "            background:  linear-gradient(90deg,#95cff5 37.3%, transparent 37.3%);\n",
       "        }#T_9d0d2_row3_col1{\n",
       "            width:  10em;\n",
       "             height:  80%;\n",
       "            background:  linear-gradient(90deg,#95cff5 80.9%, transparent 80.9%);\n",
       "        }#T_9d0d2_row3_col3{\n",
       "            width:  10em;\n",
       "             height:  80%;\n",
       "            background:  linear-gradient(90deg,#95cff5 86.5%, transparent 86.5%);\n",
       "        }#T_9d0d2_row4_col1{\n",
       "            width:  10em;\n",
       "             height:  80%;\n",
       "            background:  linear-gradient(90deg,#95cff5 3.9%, transparent 3.9%);\n",
       "        }</style><table id=\"T_9d0d2_\" ><thead>    <tr>        <th class=\"blank level0\" ></th>        <th class=\"col_heading level0 col0\" >posts_for_embeddings_count-count</th>        <th class=\"col_heading level0 col1\" >posts_for_embeddings_count-percent</th>        <th class=\"col_heading level0 col2\" >posts_for_embeddings_count-cumulative_sum</th>        <th class=\"col_heading level0 col3\" >posts_for_embeddings_count-pct_cumulative_sum</th>    </tr></thead><tbody>\n",
       "                <tr>\n",
       "                        <th id=\"T_9d0d2_level0_row0\" class=\"row_heading level0 row0\" >4+ posts</th>\n",
       "                        <td id=\"T_9d0d2_row0_col0\" class=\"data row0 col0\" >283,657</td>\n",
       "                        <td id=\"T_9d0d2_row0_col1\" class=\"data row0 col1\" >36.8%</td>\n",
       "                        <td id=\"T_9d0d2_row0_col2\" class=\"data row0 col2\" >283,657</td>\n",
       "                        <td id=\"T_9d0d2_row0_col3\" class=\"data row0 col3\" >36.8%</td>\n",
       "            </tr>\n",
       "            <tr>\n",
       "                        <th id=\"T_9d0d2_level0_row1\" class=\"row_heading level0 row1\" >3 posts</th>\n",
       "                        <td id=\"T_9d0d2_row1_col0\" class=\"data row1 col0\" >56,898</td>\n",
       "                        <td id=\"T_9d0d2_row1_col1\" class=\"data row1 col1\" >7.4%</td>\n",
       "                        <td id=\"T_9d0d2_row1_col2\" class=\"data row1 col2\" >340,555</td>\n",
       "                        <td id=\"T_9d0d2_row1_col3\" class=\"data row1 col3\" >44.1%</td>\n",
       "            </tr>\n",
       "            <tr>\n",
       "                        <th id=\"T_9d0d2_level0_row2\" class=\"row_heading level0 row2\" >2 posts</th>\n",
       "                        <td id=\"T_9d0d2_row2_col0\" class=\"data row2 col0\" >125,070</td>\n",
       "                        <td id=\"T_9d0d2_row2_col1\" class=\"data row2 col1\" >16.2%</td>\n",
       "                        <td id=\"T_9d0d2_row2_col2\" class=\"data row2 col2\" >465,625</td>\n",
       "                        <td id=\"T_9d0d2_row2_col3\" class=\"data row2 col3\" >60.3%</td>\n",
       "            </tr>\n",
       "            <tr>\n",
       "                        <th id=\"T_9d0d2_level0_row3\" class=\"row_heading level0 row3\" >1 post</th>\n",
       "                        <td id=\"T_9d0d2_row3_col0\" class=\"data row3 col0\" >240,338</td>\n",
       "                        <td id=\"T_9d0d2_row3_col1\" class=\"data row3 col1\" >31.1%</td>\n",
       "                        <td id=\"T_9d0d2_row3_col2\" class=\"data row3 col2\" >705,963</td>\n",
       "                        <td id=\"T_9d0d2_row3_col3\" class=\"data row3 col3\" >91.5%</td>\n",
       "            </tr>\n",
       "            <tr>\n",
       "                        <th id=\"T_9d0d2_level0_row4\" class=\"row_heading level0 row4\" >0 posts</th>\n",
       "                        <td id=\"T_9d0d2_row4_col0\" class=\"data row4 col0\" >65,797</td>\n",
       "                        <td id=\"T_9d0d2_row4_col1\" class=\"data row4 col1\" >8.5%</td>\n",
       "                        <td id=\"T_9d0d2_row4_col2\" class=\"data row4 col2\" >771,760</td>\n",
       "                        <td id=\"T_9d0d2_row4_col3\" class=\"data row4 col3\" >100.0%</td>\n",
       "            </tr>\n",
       "    </tbody></table>"
      ],
      "text/plain": [
       "<pandas.io.formats.style.Styler at 0x7f09cc148a90>"
      ]
     },
     "execution_count": 31,
     "metadata": {},
     "output_type": "execute_result"
    }
   ],
   "source": [
    "value_counts_and_pcts(\n",
    "    pd.cut(\n",
    "        df_agg_sub_c['posts_for_embeddings_count'],\n",
    "        bins=[-1, 0, 1, 2, 3, np.inf],\n",
    "        labels=[\"0 posts\", \"1 post\", '2 posts', '3 posts', '4+ posts']\n",
    "    ),\n",
    "    sort_index=True,\n",
    "    sort_index_ascending=False,\n",
    "    cumsum_count=True,\n",
    ")"
   ]
  },
  {
   "cell_type": "code",
   "execution_count": 59,
   "id": "f7b22920",
   "metadata": {},
   "outputs": [],
   "source": [
    "# value_counts_and_pcts(\n",
    "#     pd.cut(\n",
    "#         df_agg_sub_c['posts_for_embeddings_count'],\n",
    "#         bins=[-1, 0, 1, 2, np.inf],\n",
    "#         labels=[\"0 posts\", \"1 post\", '2 posts', '3+ posts']\n",
    "#     ),\n",
    "#     sort_index=True,\n",
    "#     sort_index_ascending=True,\n",
    "# )"
   ]
  },
  {
   "cell_type": "markdown",
   "id": "c833d09c",
   "metadata": {},
   "source": [
    "# Test new function that reshapes & uploads to BQ in a single call\n",
    "\n",
    "**NOTE**: For testing load a new config that has a different mlflow_run_id & different target BQ table.\n",
    "This way we can save data to a test run & a test table that won't affect the final target MLflow run(artifacts) & target table."
   ]
  },
  {
   "cell_type": "code",
   "execution_count": 62,
   "id": "25ef19e9",
   "metadata": {},
   "outputs": [
    {
     "name": "stdout",
     "output_type": "stream",
     "text": [
      "data_text_and_metadata:\n",
      "data_embeddings_to_aggregate:\n",
      "aggregate_params:\n",
      "description: Use this config to TEST reshaping embeddings and upload them to BigQuery\n",
      "bucket_output: i18n-subreddit-clustering\n",
      "mlflow_tracking_uri: sqlite\n",
      "mlflow_run_id: ca79765b72c5428395b02926612d85fd\n",
      "embeddings_artifact_path: df_subs_agg_c1_unweighted\n",
      "bq_project: reddit-employee-datasets\n",
      "bq_dataset: david_bermejo\n",
      "bq_table: cau_subreddit_embeddings_test\n",
      "bq_table_description: Subreddit-level embeddings. See the wiki for more details. https://reddit.atlassian.net/wiki/spaces/DataScience/pages/2404220935/\n",
      "update_table_description: True,\n",
      "pt: 2022-08-10\n",
      "model_version: v0.6.0\n",
      "model_name: cau-text-mUSE\n",
      "embeddings_config: aggregate_embeddings_v0.6.0\n"
     ]
    }
   ],
   "source": [
    "cfg_reshape_emb_test = LoadHydraConfig(\n",
    "    config_name='reshape_embeddings_for_bq_test-subreddit-v0.6.0.yaml',\n",
    "    config_path=\"../config\",\n",
    ")\n",
    "for k_, v_ in cfg_reshape_emb_test.config_dict.items():\n",
    "    if isinstance(v_, dict):\n",
    "        print(f\"{k_}:\")\n",
    "        # for k2_, v2_ in v_.items():\n",
    "        #    print(f\"    {k2_}: {v2_}\")\n",
    "    else:\n",
    "        print(f\"{k_}: {v_}\")"
   ]
  },
  {
   "cell_type": "code",
   "execution_count": 63,
   "id": "5c152496",
   "metadata": {},
   "outputs": [],
   "source": [
    "# (\n",
    "#     df_agg_sub_c\n",
    "#     .sort_values(by=['posts_for_embeddings_count', 'subreddit_name'], ascending=[False, True])\n",
    "#     .iloc[:22, :10]\n",
    "# )"
   ]
  },
  {
   "cell_type": "code",
   "execution_count": 64,
   "id": "7ab7a92d",
   "metadata": {},
   "outputs": [
    {
     "name": "stderr",
     "output_type": "stream",
     "text": [
      "03:13:22 | INFO | \"512 <- # embedding columns found\"\n",
      "03:13:22 | INFO | \"(10000, 515) <- Shape of input df\"\n",
      "03:13:22 | INFO | \"Metadata cols to add:\n",
      "  {'mlflow_run_id': 'ca79765b72c5428395b02926612d85fd', 'pt': '2022-08-10', 'model_version': 'v0.6.0', 'model_name': 'cau-text-mUSE'}\"\n",
      "03:13:22 | INFO | \"Converting embeddings to repeated format...\"\n",
      "03:13:23 | INFO | \"(10000, 8) <- Shape of new df before converting to JSON\"\n",
      "03:13:23 | INFO | \"df output cols:\n",
      "  ['pt', 'mlflow_run_id', 'model_name', 'model_version', 'subreddit_id', 'subreddit_name', 'posts_for_embeddings_count', 'embeddings']\"\n",
      "03:13:23 | INFO | \"Converting embeddings to JSON...\"\n",
      "03:13:24 | INFO | \"Saving file to:\n",
      "  /home/jupyter/subreddit_clustering_i18n/data/models/aggregate_embeddings/manual_v060_2022-08-31_030238/df_subs_agg_c1_unweighted_ndjson/subreddit_embeddings_2022-08-31_031322.json\"\n",
      "03:13:24 | INFO | \"Logging to run ID: ca79765b72c5428395b02926612d85fd, artifact:\n",
      "  df_subs_agg_c1_unweighted_ndjson\"\n",
      "03:13:27 | INFO | \"Logging artifact complete!\"\n",
      "03:13:27 | INFO | \"Creating table from file:\n",
      "gs://i18n-subreddit-clustering/mlflow/mlruns/35/ca79765b72c5428395b02926612d85fd/artifacts/df_subs_agg_c1_unweighted_ndjson/subreddit_embeddings_2022-08-31_031322.json\"\n"
     ]
    },
    {
     "name": "stdout",
     "output_type": "stream",
     "text": [
      "CPU times: user 1.58 s, sys: 611 ms, total: 2.19 s\n",
      "Wall time: 21.3 s\n"
     ]
    }
   ],
   "source": [
    "%%time\n",
    "\n",
    "reshape_embeddings_and_upload_to_bq(\n",
    "    df_agg_sub_c.head(10000),\n",
    "    dict_reshape_config=cfg_reshape_emb_test.config_dict,\n",
    "    save_path_local_root=path_this_model,\n",
    "    f_name_prefix='subreddit_embeddings',\n",
    "    embedding_col_prefix='embeddings_',\n",
    ")"
   ]
  },
  {
   "cell_type": "markdown",
   "id": "02acd99b",
   "metadata": {},
   "source": [
    "# Test new function to convert to JSON format\n",
    "\n",
    "With a single call, this function does:\n",
    "- the conversion\n",
    "- saving the file to JSON\n",
    "- Logging to the file to mlflow\n",
    "\n",
    "Then we can add a function on top of that to go one step further and also create the BQ table (TODO)"
   ]
  },
  {
   "cell_type": "code",
   "execution_count": null,
   "id": "f973e543",
   "metadata": {},
   "outputs": [],
   "source": [
    "BREAK"
   ]
  },
  {
   "cell_type": "code",
   "execution_count": 11,
   "id": "0de0f3c9",
   "metadata": {},
   "outputs": [
    {
     "name": "stdout",
     "output_type": "stream",
     "text": [
      "512\n"
     ]
    }
   ],
   "source": [
    "l_embedding_cols = [c for c in df_agg_sub_c.columns if c.startswith('embeddings_')]\n",
    "print(len(l_embedding_cols))"
   ]
  },
  {
   "cell_type": "code",
   "execution_count": 21,
   "id": "fd4f66b5",
   "metadata": {},
   "outputs": [],
   "source": [
    "# this is the test ID to open & log artifacts to\n",
    "mlflow_test_run_id = 'ca79765b72c5428395b02926612d85fd'"
   ]
  },
  {
   "cell_type": "code",
   "execution_count": 28,
   "id": "01428ff2",
   "metadata": {},
   "outputs": [
    {
     "name": "stderr",
     "output_type": "stream",
     "text": [
      "01:29:53 | INFO | \"(700, 515) <- Shape of input df\"\n",
      "01:29:53 | INFO | \"(700, 8) <- Shape of new df before converting to JSON\"\n",
      "01:29:53 | INFO | \"df output cols:\n",
      "  ['pt', 'mlflow_run_id', 'model_version', 'model_name', 'subreddit_id', 'subreddit_name', 'posts_for_embeddings_count', 'embeddings']\"\n",
      "01:29:54 | INFO | \"Saving file to:\n",
      "  /home/jupyter/subreddit_clustering_i18n/data/models/aggregate_embeddings/manual_v060_2022-08-30_223816/df_subs_agg_c1_unweighted_ndjson/subreddit_embeddings_2022-08-31_012953.json\"\n",
      "01:29:54 | INFO | \"Logging to run ID: ca79765b72c5428395b02926612d85fd, artifact:\n",
      "  df_subs_agg_c1_unweighted_ndjson\"\n"
     ]
    },
    {
     "name": "stdout",
     "output_type": "stream",
     "text": [
      "{'f_local': PosixPath('/home/jupyter/subreddit_clustering_i18n/data/models/aggregate_embeddings/manual_v060_2022-08-30_223816/df_subs_agg_c1_unweighted_ndjson/subreddit_embeddings_2022-08-31_012953.json'), 'mlflow_path': None, 'mlflow_artifact_path': 'gs://i18n-subreddit-clustering/mlflow/mlruns/35/ca79765b72c5428395b02926612d85fd/artifacts/df_subs_agg_c1_unweighted_ndjson/subreddit_embeddings_2022-08-31_012953.json'}\n",
      "CPU times: user 357 ms, sys: 117 ms, total: 474 ms\n",
      "Wall time: 6.6 s\n"
     ]
    }
   ],
   "source": [
    "%%time\n",
    "\n",
    "# set values needed for JSON function\n",
    "bq_col_keys = [\n",
    "    'pt', \n",
    "    'model_version',\n",
    "    'model_name',\n",
    "    'mlflow_run_id'\n",
    "]\n",
    "d_cols_to_add = {k: v for k, v in cfg_reshape_embeddings.config_dict.items() if k in bq_col_keys}\n",
    "\n",
    "\n",
    "path_local_json = (\n",
    "    path_this_model / f\"{cfg_reshape_embeddings.config_dict['embeddings_artifact_path']}_ndjson\"\n",
    ")\n",
    "\n",
    "d_paths = reshape_embeddings_to_ndjson(\n",
    "    df_agg_sub_c.head(700),\n",
    "    embedding_cols=l_embedding_cols,\n",
    "    columns_to_add=d_cols_to_add,\n",
    "    f_name_prefix='subreddit_embeddings',\n",
    "    save_path_local=path_local_json,\n",
    "    log_to_mlflow=True,\n",
    "    mlflow_run_id=mlflow_test_run_id,\n",
    ")\n",
    "print(d_paths)"
   ]
  },
  {
   "cell_type": "code",
   "execution_count": null,
   "id": "61818cca",
   "metadata": {},
   "outputs": [],
   "source": []
  },
  {
   "cell_type": "code",
   "execution_count": null,
   "id": "2fc5394e",
   "metadata": {},
   "outputs": [],
   "source": []
  },
  {
   "cell_type": "markdown",
   "id": "4910cfcb",
   "metadata": {},
   "source": [
    "# Test JSON format on a subset of columns (manual)"
   ]
  },
  {
   "cell_type": "code",
   "execution_count": null,
   "id": "18ca23a5",
   "metadata": {},
   "outputs": [],
   "source": [
    "BREAK"
   ]
  },
  {
   "cell_type": "code",
   "execution_count": 140,
   "id": "bc794059",
   "metadata": {},
   "outputs": [
    {
     "name": "stdout",
     "output_type": "stream",
     "text": [
      "CPU times: user 861 µs, sys: 4.56 ms, total: 5.43 ms\n",
      "Wall time: 4.85 ms\n"
     ]
    },
    {
     "data": {
      "text/html": [
       "<div>\n",
       "<style scoped>\n",
       "    .dataframe tbody tr th:only-of-type {\n",
       "        vertical-align: middle;\n",
       "    }\n",
       "\n",
       "    .dataframe tbody tr th {\n",
       "        vertical-align: top;\n",
       "    }\n",
       "\n",
       "    .dataframe thead th {\n",
       "        text-align: right;\n",
       "    }\n",
       "</style>\n",
       "<table border=\"1\" class=\"dataframe\">\n",
       "  <thead>\n",
       "    <tr style=\"text-align: right;\">\n",
       "      <th></th>\n",
       "      <th>subreddit_id</th>\n",
       "      <th>subreddit_name</th>\n",
       "      <th>posts_for_embeddings_count</th>\n",
       "      <th>pt</th>\n",
       "      <th>embeddings</th>\n",
       "    </tr>\n",
       "  </thead>\n",
       "  <tbody>\n",
       "    <tr>\n",
       "      <th>0</th>\n",
       "      <td>t5_1001tl</td>\n",
       "      <td>jewel_xo</td>\n",
       "      <td>1</td>\n",
       "      <td>2022-08-11</td>\n",
       "      <td>[-0.011266076937317848, 0.0012464923784136772, 0.035281483083963394, 0.04045214131474495, -0.06590830534696579, 0.009003894403576851, -0.0008995584212243557, -0.01666421815752983, -0.07016290724277496, 0.04436667636036873, 0.06609217822...</td>\n",
       "    </tr>\n",
       "    <tr>\n",
       "      <th>1</th>\n",
       "      <td>t5_10029e</td>\n",
       "      <td>milkyhentai</td>\n",
       "      <td>1</td>\n",
       "      <td>2022-08-11</td>\n",
       "      <td>[-0.0394916906952858, 0.007736351806670427, 0.03830709680914879, 0.045457467436790466, -0.027101224288344383, 0.033553291112184525, 0.040518589317798615, 0.009468913078308105, -0.011264792643487453, 0.030157815665006638, 0.0654373615980...</td>\n",
       "    </tr>\n",
       "    <tr>\n",
       "      <th>2</th>\n",
       "      <td>t5_1006k8</td>\n",
       "      <td>badwouldyourather</td>\n",
       "      <td>1</td>\n",
       "      <td>2022-08-11</td>\n",
       "      <td>[-0.008159023709595203, 0.03525131568312645, -0.0009117084555327892, 0.036374252289533615, 0.046087976545095444, 0.031007394194602966, 0.0035368474200367928, -0.0012258067727088928, -0.0403834730386734, 0.0007534259930253029, 0.05662947...</td>\n",
       "    </tr>\n",
       "    <tr>\n",
       "      <th>3</th>\n",
       "      <td>t5_100806</td>\n",
       "      <td>jojojosiah</td>\n",
       "      <td>2</td>\n",
       "      <td>2022-08-11</td>\n",
       "      <td>[-0.0031079817563295364, 0.022202856838703156, 0.03846222162246704, 0.015268548391759396, 0.009758785367012024, 0.02192338928580284, 0.008807502686977386, -0.036922186613082886, -0.007005440071225166, 0.07199138402938843, -0.00258467532...</td>\n",
       "    </tr>\n",
       "    <tr>\n",
       "      <th>4</th>\n",
       "      <td>t5_1009a3</td>\n",
       "      <td>memesenespanol</td>\n",
       "      <td>380</td>\n",
       "      <td>2022-08-11</td>\n",
       "      <td>[0.0037306491285562515, -0.013876136392354965, -0.003986774943768978, 0.0026833100710064173, -0.010201744735240936, 0.038551658391952515, 0.012758726254105568, 0.016535189002752304, -0.056692514568567276, 0.0011827077250927687, 0.009329...</td>\n",
       "    </tr>\n",
       "  </tbody>\n",
       "</table>\n",
       "</div>"
      ],
      "text/plain": [
       "  subreddit_id     subreddit_name  posts_for_embeddings_count          pt  \\\n",
       "0    t5_1001tl           jewel_xo                           1  2022-08-11   \n",
       "1    t5_10029e        milkyhentai                           1  2022-08-11   \n",
       "2    t5_1006k8  badwouldyourather                           1  2022-08-11   \n",
       "3    t5_100806         jojojosiah                           2  2022-08-11   \n",
       "4    t5_1009a3     memesenespanol                         380  2022-08-11   \n",
       "\n",
       "                                                                                                                                                                                                                                        embeddings  \n",
       "0  [-0.011266076937317848, 0.0012464923784136772, 0.035281483083963394, 0.04045214131474495, -0.06590830534696579, 0.009003894403576851, -0.0008995584212243557, -0.01666421815752983, -0.07016290724277496, 0.04436667636036873, 0.06609217822...  \n",
       "1  [-0.0394916906952858, 0.007736351806670427, 0.03830709680914879, 0.045457467436790466, -0.027101224288344383, 0.033553291112184525, 0.040518589317798615, 0.009468913078308105, -0.011264792643487453, 0.030157815665006638, 0.0654373615980...  \n",
       "2  [-0.008159023709595203, 0.03525131568312645, -0.0009117084555327892, 0.036374252289533615, 0.046087976545095444, 0.031007394194602966, 0.0035368474200367928, -0.0012258067727088928, -0.0403834730386734, 0.0007534259930253029, 0.05662947...  \n",
       "3  [-0.0031079817563295364, 0.022202856838703156, 0.03846222162246704, 0.015268548391759396, 0.009758785367012024, 0.02192338928580284, 0.008807502686977386, -0.036922186613082886, -0.007005440071225166, 0.07199138402938843, -0.00258467532...  \n",
       "4  [0.0037306491285562515, -0.013876136392354965, -0.003986774943768978, 0.0026833100710064173, -0.010201744735240936, 0.038551658391952515, 0.012758726254105568, 0.016535189002752304, -0.056692514568567276, 0.0011827077250927687, 0.009329...  "
      ]
     },
     "execution_count": 140,
     "metadata": {},
     "output_type": "execute_result"
    }
   ],
   "source": [
    "%%time\n",
    "\n",
    "df_test = df_agg_sub_c.head(100).copy()\n",
    "\n",
    "bq_col_keys = [\n",
    "    'pt', \n",
    "#     'model_version', 'model_name'\n",
    "]\n",
    "for c_ in bq_col_keys:\n",
    "    df_test[c_] = str(cfg_reshape_embeddings.config_dict[c_]).strip()\n",
    "\n",
    "df_test['embeddings'] = df_test[l_embedding_cols[:90]].values.tolist()\n",
    "df_test.drop(l_embedding_cols, axis=1).iloc[:5, :15]"
   ]
  },
  {
   "cell_type": "code",
   "execution_count": 141,
   "id": "f0013f05",
   "metadata": {},
   "outputs": [],
   "source": [
    "# df_test.drop(l_embedding_cols, axis=1)"
   ]
  },
  {
   "cell_type": "code",
   "execution_count": 142,
   "id": "8c764b33",
   "metadata": {},
   "outputs": [
    {
     "name": "stdout",
     "output_type": "stream",
     "text": [
      "<class 'str'>\n",
      "CPU times: user 4.18 ms, sys: 98 µs, total: 4.27 ms\n",
      "Wall time: 3.63 ms\n"
     ]
    }
   ],
   "source": [
    "%%time\n",
    "\n",
    "# Option A: pandas converts to JSON & to text in one step\n",
    "#. Then we just save the file w/o having to iterate\n",
    "df_json_txt = df_test.drop(l_embedding_cols, axis=1).to_json(orient='records', lines=True)\n",
    "print(type(df_json_txt))\n",
    "\n",
    "f_json_test = 'json_test-json_text.json'\n",
    "with open(f_json_test, 'w') as f:\n",
    "    f.write(df_json_txt)"
   ]
  },
  {
   "cell_type": "code",
   "execution_count": 143,
   "id": "0f60cf34",
   "metadata": {},
   "outputs": [
    {
     "name": "stdout",
     "output_type": "stream",
     "text": [
      "CPU times: user 8.43 ms, sys: 2.77 ms, total: 11.2 ms\n",
      "Wall time: 11.5 ms\n"
     ]
    }
   ],
   "source": [
    "%%time\n",
    "# Option B:convert to dict and from dict to JSON\n",
    "#  This requires iterating over a dictionary to save the data\n",
    "df_dict = df_test.drop(l_embedding_cols, axis=1).to_dict(orient='records')\n",
    "\n",
    "# print(len(df_dict))\n",
    "type(df_dict)\n",
    "\n",
    "f_json_dict_test = 'json_test-dict_per_line.json'\n",
    "with open(f_json_dict_test, 'w') as f:\n",
    "    for sub_ in df_dict:\n",
    "        f.write(json.dumps(sub_) + \"\\n\")"
   ]
  },
  {
   "cell_type": "code",
   "execution_count": 128,
   "id": "c4de3558",
   "metadata": {},
   "outputs": [],
   "source": [
    "# print(df_dict)"
   ]
  },
  {
   "cell_type": "code",
   "execution_count": 129,
   "id": "e9b2cb36",
   "metadata": {},
   "outputs": [],
   "source": [
    "# f_json_dict_test1 = 'json_test-dict_json_dump.json'\n",
    "# with open(f_json_dict_test1, 'w') as f:\n",
    "#     json.dump(df_dict, f)"
   ]
  },
  {
   "cell_type": "markdown",
   "id": "f0015d39",
   "metadata": {},
   "source": [
    "## Upload file to GCS"
   ]
  },
  {
   "cell_type": "code",
   "execution_count": 144,
   "id": "2ed6f932",
   "metadata": {},
   "outputs": [
    {
     "name": "stdout",
     "output_type": "stream",
     "text": [
      "CPU times: user 15.8 ms, sys: 48.1 ms, total: 63.8 ms\n",
      "Wall time: 1.41 s\n"
     ]
    }
   ],
   "source": [
    "%%time\n",
    "\n",
    "from google.cloud import storage\n",
    "\n",
    "\n",
    "test_blob = f'test/embeddings/{f_json_test}'\n",
    "\n",
    "client = storage.Client()\n",
    "bucket = client.get_bucket(cfg_reshape_embeddings.config_dict['bucket_output'])\n",
    "blob = bucket.blob(test_blob)\n",
    "blob.upload_from_filename(f_json_test)"
   ]
  },
  {
   "cell_type": "code",
   "execution_count": 145,
   "id": "54ddb127",
   "metadata": {},
   "outputs": [
    {
     "name": "stdout",
     "output_type": "stream",
     "text": [
      "CPU times: user 21.8 ms, sys: 42.8 ms, total: 64.6 ms\n",
      "Wall time: 1.42 s\n"
     ]
    }
   ],
   "source": [
    "%%time\n",
    "test_blob2 = f'test/embeddings/{f_json_test}'\n",
    "\n",
    "client = storage.Client()\n",
    "bucket = client.get_bucket(cfg_reshape_embeddings.config_dict['bucket_output'])\n",
    "blob = bucket.blob(test_blob2)\n",
    "blob.upload_from_filename(f_json_dict_test)"
   ]
  },
  {
   "cell_type": "markdown",
   "id": "cee88d42",
   "metadata": {},
   "source": [
    "## Create table from GCS file"
   ]
  },
  {
   "cell_type": "code",
   "execution_count": 132,
   "id": "a4dc4484",
   "metadata": {},
   "outputs": [],
   "source": [
    "# cfg_reshape_embeddings.config_dict"
   ]
  },
  {
   "cell_type": "code",
   "execution_count": 155,
   "id": "4301b2a3",
   "metadata": {},
   "outputs": [
    {
     "name": "stderr",
     "output_type": "stream",
     "text": [
      "21:48:06 | INFO | \"Loading data to table:\n",
      "  reddit-employee-datasets.david_bermejo.cau_subreddit_embeddings_test\"\n",
      "21:48:06 | INFO | \"Table reddit-employee-datasets.david_bermejo.cau_subreddit_embeddings_test already exist\"\n",
      "21:48:06 | INFO | \"  100 rows in table BEFORE addig data\"\n",
      "21:48:11 | INFO | \"  200 rows in table AFTER adding data\"\n"
     ]
    },
    {
     "name": "stdout",
     "output_type": "stream",
     "text": [
      "CPU times: user 38.6 ms, sys: 45.8 ms, total: 84.3 ms\n",
      "Wall time: 6.33 s\n"
     ]
    }
   ],
   "source": [
    "%%time\n",
    "# bq_table_test = (\n",
    "#     f\"{cfg_reshape_embeddings.config_dict['bq_project']}.\"\n",
    "#     f\"{cfg_reshape_embeddings.config_dict['bq_dataset']}.\"\n",
    "#     f\"{cfg_reshape_embeddings.config_dict['bq_table']}_test\"\n",
    "# )\n",
    "\n",
    "load_data_to_bq_table(\n",
    "    uri=f\"gs://{cfg_reshape_embeddings.config_dict['bucket_output']}/{test_blob}\",\n",
    "    bq_project=cfg_reshape_embeddings.config_dict['bq_project'],\n",
    "    bq_dataset=cfg_reshape_embeddings.config_dict['bq_dataset'],\n",
    "    bq_table_name=f\"{cfg_reshape_embeddings.config_dict['bq_table']}_test\",\n",
    "    schema=embeddings_schema(),\n",
    "    partition_column='pt',\n",
    "    table_description=cfg_reshape_embeddings.config_dict['bq_table_description'],\n",
    "    update_table_description=True,\n",
    ")"
   ]
  },
  {
   "cell_type": "code",
   "execution_count": 159,
   "id": "149ad5c0",
   "metadata": {},
   "outputs": [
    {
     "name": "stderr",
     "output_type": "stream",
     "text": [
      "21:51:38 | INFO | \"Loading data to table:\n",
      "  reddit-employee-datasets.david_bermejo.cau_subreddit_embeddings_test2\"\n",
      "21:51:39 | INFO | \"Table reddit-employee-datasets.david_bermejo.cau_subreddit_embeddings_test2 already exist\"\n",
      "21:51:39 | INFO | \"  200 rows in table BEFORE addig data\"\n",
      "21:51:42 | INFO | \"Updating subreddit description from:\n",
      "  Content-based embeddings created from text in posts & comments in a subreddit. See the wiki for more details. https://reddit.atlassian.net/wiki/spaces/DataScience/pages/2404220935/\n",
      "to:\n",
      "  Subreddit-level embeddings. See the wiki for more details. https://reddit.atlassian.net/wiki/spaces/DataScience/pages/2404220935/\"\n",
      "21:51:42 | INFO | \"  300 rows in table AFTER adding data\"\n"
     ]
    },
    {
     "name": "stdout",
     "output_type": "stream",
     "text": [
      "CPU times: user 39.4 ms, sys: 49.3 ms, total: 88.7 ms\n",
      "Wall time: 5.02 s\n"
     ]
    }
   ],
   "source": [
    "%%time\n",
    "\n",
    "load_data_to_bq_table(\n",
    "    uri=f\"gs://{cfg_reshape_embeddings.config_dict['bucket_output']}/{test_blob2}\",\n",
    "    bq_project=cfg_reshape_embeddings.config_dict['bq_project'],\n",
    "    bq_dataset=cfg_reshape_embeddings.config_dict['bq_dataset'],\n",
    "    bq_table_name=f\"{cfg_reshape_embeddings.config_dict['bq_table']}_test2\",\n",
    "    schema=embeddings_schema(),\n",
    "    partition_column='pt',\n",
    "    table_description=cfg_reshape_embeddings.config_dict['bq_table_description'],\n",
    "    update_table_description=True,\n",
    ")"
   ]
  },
  {
   "cell_type": "code",
   "execution_count": null,
   "id": "58e47647",
   "metadata": {},
   "outputs": [],
   "source": []
  },
  {
   "cell_type": "code",
   "execution_count": null,
   "id": "7da7ac65",
   "metadata": {},
   "outputs": [],
   "source": []
  },
  {
   "cell_type": "code",
   "execution_count": null,
   "id": "2580d60d",
   "metadata": {},
   "outputs": [],
   "source": []
  },
  {
   "cell_type": "code",
   "execution_count": null,
   "id": "3fd064cf",
   "metadata": {},
   "outputs": [],
   "source": []
  },
  {
   "cell_type": "code",
   "execution_count": null,
   "id": "35abe323",
   "metadata": {},
   "outputs": [],
   "source": []
  },
  {
   "cell_type": "code",
   "execution_count": null,
   "id": "6e695612",
   "metadata": {},
   "outputs": [],
   "source": []
  },
  {
   "cell_type": "code",
   "execution_count": null,
   "id": "8784fabf",
   "metadata": {},
   "outputs": [],
   "source": []
  },
  {
   "cell_type": "code",
   "execution_count": null,
   "id": "2cbeff4b",
   "metadata": {},
   "outputs": [],
   "source": []
  },
  {
   "cell_type": "code",
   "execution_count": null,
   "id": "6344f543",
   "metadata": {},
   "outputs": [],
   "source": [
    "LEGACY"
   ]
  },
  {
   "cell_type": "code",
   "execution_count": 74,
   "id": "64a7a0d5",
   "metadata": {},
   "outputs": [
    {
     "name": "stderr",
     "output_type": "stream",
     "text": [
      "04:32:42 | INFO | \"== Start run_aggregation() method ==\"\n",
      "04:32:42 | INFO | \"MLflow tracking URI: sqlite:////home/jupyter/subreddit_clustering_i18n/mlflow_sync/djb-100-2021-04-28-djb-eda-german-subs/mlruns.db\"\n",
      "04:32:42 | INFO | \"host_name: djb-100-2021-04-28-djb-eda-german-subs\"\n",
      "04:32:42 | INFO | \"cpu_count: 96\"\n",
      "04:32:43 | INFO | \"RAM stats:\n",
      "{'memory_used_percent': '2.03%', 'memory_total': '1,444,961', 'memory_used': '29,348', 'memory_free': '1,407,217'}\"\n"
     ]
    },
    {
     "data": {
      "text/plain": [
       "{'memory_total': 1444961,\n",
       " 'memory_used_percent': 0.020310582776974603,\n",
       " 'memory_used': 29348,\n",
       " 'memory_free': 1407217}"
      ]
     },
     "execution_count": 74,
     "metadata": {},
     "output_type": "execute_result"
    }
   ],
   "source": [
    "mlflow.end_run(\"FAILED\")\n",
    "#TODO(djb): uncomment\n",
    "mlflow_experiment = cfg_reshape_embeddings.config_dict['mlflow_experiment']\n",
    "# 'v0.6.0_mUSE_aggregates', 'v0.6.0_mUSE_aggregates_test'\n",
    "\n",
    "\n",
    "t_start_agg_embed = datetime.utcnow()\n",
    "info(f\"== Start run_aggregation() method ==\")\n",
    "\n",
    "\n",
    "\n",
    "info(f\"MLflow tracking URI: {mlflow.get_tracking_uri()}\")\n",
    "mlf.set_experiment(mlflow_experiment)\n",
    "mlflow.start_run()\n",
    "mlf.add_git_hash_to_active_run()\n",
    "mlf.set_tag_hostname(key='host_name')\n",
    "mlf.log_param_hostname(key='host_name')\n",
    "mlf.log_cpu_count()\n",
    "mlf.log_ram_stats(param=True, only_memory_used=False)"
   ]
  },
  {
   "cell_type": "code",
   "execution_count": 75,
   "id": "bbbc82f8",
   "metadata": {},
   "outputs": [
    {
     "name": "stdout",
     "output_type": "stream",
     "text": [
      "1.0\n",
      "i18n_topic_model_batch/runs/20220811/subreddits/text/embedding/2022-08-11_082859\n",
      "i18n_topic_model_batch/runs/20220811/post_and_comment_text_combined/text_all/embedding/2022-08-11_084218\n"
     ]
    }
   ],
   "source": [
    "# set weights\n",
    "# Normalize them by dividing by 100\n",
    "WEIGHT_POST_COMMENT = (\n",
    "    cfg_reshape_embeddings.config_dict['aggregate_params']['agg_post_post_and_comment_weight'] / 100\n",
    ")\n",
    "WEIGHT_SUB_META = (\n",
    "    cfg_reshape_embeddings.config_dict['aggregate_params']['agg_post_subreddit_desc_weight'] / 100\n",
    ")\n",
    "print(WEIGHT_POST_COMMENT + WEIGHT_SUB_META)\n",
    "assert(1.0 == WEIGHT_POST_COMMENT + WEIGHT_SUB_META)\n",
    "\n",
    "\n",
    "gcs_sub_embeddings = cfg_reshape_embeddings.config_dict['data_embeddings_to_aggregate']['subreddit_desc_folder_embeddings']\n",
    "print(gcs_sub_embeddings)\n",
    "gcs_post_comment_embeddings = cfg_reshape_embeddings.config_dict['data_embeddings_to_aggregate']['post_and_comments_folder_embeddings']\n",
    "print(gcs_post_comment_embeddings)\n",
    "\n",
    "#TODO(djb): uncomment\n",
    "# mlflow.log_params(\n",
    "#     {\n",
    "#         'embeddings_bucket': BUCKET_NAME,\n",
    "#         'embeddings_subreddit_path': gcs_sub_embeddings,\n",
    "#         'embeddings_post_and_comments_path': gcs_post_comment_embeddings,\n",
    "#         'weight_post_and_comments': WEIGHT_POST_COMMENT,\n",
    "#         'weight_subreddit_meta': WEIGHT_SUB_META,\n",
    "#     }\n",
    "# )"
   ]
  },
  {
   "cell_type": "markdown",
   "id": "c9be190f",
   "metadata": {},
   "source": [
    "# Load data"
   ]
  },
  {
   "cell_type": "code",
   "execution_count": 76,
   "id": "8b586936",
   "metadata": {},
   "outputs": [
    {
     "name": "stderr",
     "output_type": "stream",
     "text": [
      "04:32:46 | INFO | \"  Local folder to download artifact(s):\n",
      "  /home/jupyter/subreddit_clustering_i18n/data/local_cache/i18n-subreddit-clustering/i18n_topic_model_batch/runs/20220811/subreddits/text/embedding/2022-08-11_082859\"\n",
      "04:32:47 | INFO | \"  7 <- Files matching prefix\"\n",
      "04:32:47 | INFO | \"  7 <- Files to check\"\n",
      "04:32:47 | INFO | \"    000000000000-131971_by_514.parquet <- File already exists, not downloading\"\n",
      "04:32:47 | INFO | \"    000000000001-198630_by_514.parquet <- File already exists, not downloading\"\n",
      "04:32:47 | INFO | \"    000000000002-441159_by_514.parquet <- File already exists, not downloading\"\n",
      "04:32:47 | INFO | \"    2022-08-11_08-28-59_vectorize_text.log <- File already exists, not downloading\"\n",
      "04:32:47 | INFO | \"  Files already cached: 4\"\n",
      "04:32:47 | INFO | \"  Files already downloaded.\"\n",
      "04:32:47 | INFO | \"  df format: pandas\"\n",
      "04:32:51 | INFO | \"  Checking ID uniqueness...\"\n"
     ]
    },
    {
     "name": "stdout",
     "output_type": "stream",
     "text": [
      "771,760 rows, 514 cols\n",
      "CPU times: user 4.23 s, sys: 4.75 s, total: 8.98 s\n",
      "Wall time: 6.68 s\n"
     ]
    }
   ],
   "source": [
    "%%time\n",
    "t_start_data_load_ = datetime.utcnow()\n",
    "\n",
    "subs_v = LoadSubredditsGCS(\n",
    "    bucket_name=cfg_reshape_embeddings.config_dict['data_embeddings_to_aggregate']['bucket_embeddings'],\n",
    "    gcs_path=gcs_sub_embeddings,\n",
    "    local_cache_path=\"/home/jupyter/subreddit_clustering_i18n/data/local_cache/\",\n",
    "    columns=None,\n",
    "    col_unique_check='subreddit_id',\n",
    "    df_format='pandas',\n",
    "    unique_check=True,\n",
    "    verbose= True,\n",
    "    \n",
    "    n_sample_files=None,\n",
    "    n_files_slice_start=None,\n",
    "    n_files_slice_end=None,\n",
    ")\n",
    "subs_v.local_cache()\n",
    "\n",
    "df_v_subs = subs_v.read_as_one_df()\n",
    "r_subs, c_subs = df_v_subs.shape\n",
    "mlflow.log_metrics(\n",
    "    {\n",
    "        f\"df_v_subs-rows\": r_subs,\n",
    "        f\"df_v_subs-cols\": c_subs,\n",
    "    }\n",
    ")\n",
    "print(f\"{r_subs:,.0f} rows, {c_subs:,.0f} cols\")"
   ]
  },
  {
   "cell_type": "code",
   "execution_count": null,
   "id": "3c36f0d6",
   "metadata": {},
   "outputs": [],
   "source": []
  },
  {
   "cell_type": "code",
   "execution_count": 132,
   "id": "5a55adf0",
   "metadata": {},
   "outputs": [],
   "source": [
    "mlflow.end_run(\"FAILED\")"
   ]
  }
 ],
 "metadata": {
  "environment": {
   "name": "common-cpu.m65",
   "type": "gcloud",
   "uri": "gcr.io/deeplearning-platform-release/base-cpu:m65"
  },
  "kernelspec": {
   "display_name": "Python [conda env:root] *",
   "language": "python",
   "name": "conda-root-py"
  },
  "language_info": {
   "codemirror_mode": {
    "name": "ipython",
    "version": 3
   },
   "file_extension": ".py",
   "mimetype": "text/x-python",
   "name": "python",
   "nbconvert_exporter": "python",
   "pygments_lexer": "ipython3",
   "version": "3.7.10"
  }
 },
 "nbformat": 4,
 "nbformat_minor": 5
}
