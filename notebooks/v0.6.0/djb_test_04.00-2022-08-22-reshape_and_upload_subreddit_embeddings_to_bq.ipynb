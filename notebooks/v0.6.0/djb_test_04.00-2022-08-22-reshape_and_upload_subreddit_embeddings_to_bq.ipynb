{
 "cells": [
  {
   "cell_type": "markdown",
   "id": "89a1e155",
   "metadata": {},
   "source": [
    "# Purpose\n",
    "\n",
    "**2022-08-22: v0.6.0**\n",
    "The default parquet embedding format for my embeddings (1 row per column) is not favored for bigquery & other steam standards.\n",
    "\n",
    "The preferred format is: 1 column that has repeated records. For example:\n",
    "- `data-prod-165221.ml_content.subreddit_embeddings_ft2` \n",
    "    - [console link](https://console.cloud.google.com/bigquery?project=data-science-prod-218515&ws=!1m10!1m4!4m3!1sdata-prod-165221!2sml_content!3ssimilar_subreddit_ft2!1m4!4m3!1sdata-prod-165221!2sml_content!3ssubreddit_embeddings_ft2)\n",
    "    - github link\n",
    "\n",
    "\t\n",
    "\n",
    "```\n",
    "Field name\t\tType\tMode\t\tDescription\n",
    "model_name  \tSTRING\tNULLABLE\t\tModel name\t\n",
    "model_version\tSTRING\tNULLABLE\t\tModel version\t\n",
    "subreddit_id\tSTRING\tNULLABLE\t\tSubreddit id\t\n",
    "subreddit_name\tSTRING\tNULLABLE\t\tLower case subreddit name\t\n",
    "**embedding\t\tFLOAT\tREPEATED\t\tSubreddit embeddings\n",
    "```"
   ]
  },
  {
   "cell_type": "markdown",
   "id": "fe45695c",
   "metadata": {},
   "source": [
    "# Notebook setup"
   ]
  },
  {
   "cell_type": "code",
   "execution_count": 1,
   "id": "86146e3e",
   "metadata": {},
   "outputs": [],
   "source": [
    "%load_ext autoreload\n",
    "%autoreload 2"
   ]
  },
  {
   "cell_type": "code",
   "execution_count": 2,
   "id": "3f9eef5b",
   "metadata": {},
   "outputs": [
    {
     "name": "stdout",
     "output_type": "stream",
     "text": [
      "python\t\tv 3.7.10\n",
      "===\n",
      "dask\t\tv: 2021.06.0\n",
      "hydra\t\tv: 1.1.0\n",
      "mlflow\t\tv: 1.16.0\n",
      "numpy\t\tv: 1.19.5\n",
      "pandas\t\tv: 1.2.4\n",
      "plotly\t\tv: 4.14.3\n",
      "seaborn\t\tv: 0.11.1\n",
      "subclu\t\tv: 0.6.0\n"
     ]
    }
   ],
   "source": [
    "from collections import defaultdict\n",
    "from datetime import datetime, timedelta\n",
    "import gc\n",
    "import os\n",
    "import logging\n",
    "from logging import info\n",
    "from pathlib import Path\n",
    "from pprint import pprint\n",
    "\n",
    "import numpy as np\n",
    "import pandas as pd\n",
    "import plotly\n",
    "import plotly.express as px\n",
    "import seaborn as sns\n",
    "\n",
    "import dask\n",
    "from dask import dataframe as dd\n",
    "from tqdm.auto import tqdm\n",
    "\n",
    "import mlflow\n",
    "import hydra\n",
    "\n",
    "import subclu\n",
    "from subclu.utils.hydra_config_loader import LoadHydraConfig\n",
    "from subclu.models.aggregate_embeddings import (\n",
    "    AggregateEmbeddings, AggregateEmbeddingsConfig,\n",
    "    load_config_agg_jupyter, get_dask_df_shape,\n",
    ")\n",
    "from subclu.models import aggregate_embeddings_pd\n",
    "\n",
    "from subclu.utils import set_working_directory, get_project_subfolder\n",
    "from subclu.utils.eda import (\n",
    "    setup_logging, counts_describe, value_counts_and_pcts,\n",
    "    notebook_display_config, print_lib_versions,\n",
    "    style_df_numeric,\n",
    "    elapsed_time,\n",
    ")\n",
    "from subclu.utils.mlflow_logger import MlflowLogger, save_pd_df_to_parquet_in_chunks\n",
    "from subclu.eda.aggregates import (\n",
    "    compare_raw_v_weighted_language\n",
    ")\n",
    "from subclu.utils.data_irl_style import (\n",
    "    get_colormap, theme_dirl\n",
    ")\n",
    "\n",
    "from subclu.i18n_topic_model_batch.subclu2.utils.data_loaders_gcs import LoadSubredditsGCS\n",
    "\n",
    "\n",
    "print_lib_versions([dask, hydra, mlflow, np, pd, plotly, sns, subclu])"
   ]
  },
  {
   "cell_type": "code",
   "execution_count": 3,
   "id": "be60c1bc",
   "metadata": {},
   "outputs": [],
   "source": [
    "# plotting\n",
    "import matplotlib.pyplot as plt\n",
    "import matplotlib.ticker as mtick\n",
    "import matplotlib.dates as mdates\n",
    "plt.style.use('default')\n",
    "\n",
    "setup_logging()\n",
    "notebook_display_config()"
   ]
  },
  {
   "cell_type": "markdown",
   "id": "7604b72c",
   "metadata": {},
   "source": [
    "# Set Local model paths"
   ]
  },
  {
   "cell_type": "code",
   "execution_count": 9,
   "id": "54cd0621",
   "metadata": {},
   "outputs": [
    {
     "data": {
      "text/plain": [
       "PosixPath('/home/jupyter/subreddit_clustering_i18n/data/models/aggregate_embeddings/manual_v060_2022-08-22_222333')"
      ]
     },
     "execution_count": 9,
     "metadata": {},
     "output_type": "execute_result"
    }
   ],
   "source": [
    "manual_model_timestamp = datetime.utcnow().strftime('%Y-%m-%d_%H%M%S')\n",
    "path_this_model = get_project_subfolder(\n",
    "    f\"data/models/aggregate_embeddings/manual_v060_{manual_model_timestamp}\"\n",
    ")\n",
    "Path.mkdir(path_this_model, parents=True, exist_ok=True)\n",
    "path_this_model"
   ]
  },
  {
   "cell_type": "markdown",
   "id": "0e5f1878",
   "metadata": {},
   "source": [
    "# Load config for embeddings to reshape and where to save them\n",
    "\n",
    "The embedding aggregation should've been logged to `mlflow` so we should be able to\n",
    "- make calls to mlflow to get the embeddings\n",
    "- add the new embeddings format to the original job\n",
    "\n"
   ]
  },
  {
   "cell_type": "code",
   "execution_count": 24,
   "id": "09333677",
   "metadata": {},
   "outputs": [],
   "source": [
    "cfg_reshape_embeddings = LoadHydraConfig(\n",
    "    config_name='reshape_embeddings_for_bq-subreddit-v0.6.0.yaml',\n",
    "    config_path=\"../config\",\n",
    "#     overrides=[\n",
    "#         f\"mlflow_experiment=v0.6.0_mUSE_aggregates_test\",\n",
    "#         f\"n_sample_posts_files=2\",\n",
    "#         f\"n_parallel_jobs=4\",\n",
    "#     ],\n",
    ")\n",
    "# print(cfg_reshape_embeddings.config_dict.keys())"
   ]
  },
  {
   "cell_type": "code",
   "execution_count": 25,
   "id": "9e99e0df",
   "metadata": {},
   "outputs": [
    {
     "name": "stdout",
     "output_type": "stream",
     "text": [
      "data_text_and_metadata:\n",
      "    dataset_name: v0.6.0 inputs. ~110k seed subreddits, ~340k with 3+ posts, ~700k total subreddits\n",
      "    bucket_name: i18n-subreddit-clustering\n",
      "    folder_subreddits_text_and_meta: i18n_topic_model_batch/runs/20220811/subreddits/text\n",
      "    folder_posts_text_and_meta: i18n_topic_model_batch/runs/20220811/posts\n",
      "    folder_comments_text_and_meta: i18n_topic_model_batch/runs/20220811/comments\n",
      "    folder_post_and_comment_text_and_meta: i18n_topic_model_batch/runs/20220811/post_and_comment_text_combined/text_all\n",
      "data_embeddings_to_aggregate:\n",
      "    bucket_embeddings: i18n-subreddit-clustering\n",
      "    post_and_comments_folder_embeddings: i18n_topic_model_batch/runs/20220811/post_and_comment_text_combined/text_all/embedding/2022-08-11_084218\n",
      "    subreddit_desc_folder_embeddings: i18n_topic_model_batch/runs/20220811/subreddits/text/embedding/2022-08-11_082859\n",
      "    col_subreddit_id: subreddit_id\n",
      "aggregate_params:\n",
      "    min_post_and_comment_text_len: 3\n",
      "    agg_post_post_and_comment_weight: 85\n",
      "    agg_post_subreddit_desc_weight: 15\n",
      "description: Use this config to reshape embeddings and upload them to BigQuery\n",
      "bucket_output: i18n-subreddit-clustering\n",
      "mlflow_tracking_uri: sqlite\n",
      "mlflow_run_id: badc44b0e5ac467da14f710da0b410c6\n",
      "embeddings_artifact_path: df_subs_agg_c1_unweighted\n",
      "bq_project: reddit-employee-datasets\n",
      "bq_dataset: david_bermejo\n",
      "bq_table: cau_subreddit_embeddings\n",
      "pt: 2022-08-11\n",
      "model_version: v0.6.0\n",
      "model_name: cau-text-mUSE-embeddings\n",
      "embeddings_config: aggregate_embeddings_v0.6.0\n"
     ]
    }
   ],
   "source": [
    "for k_, v_ in cfg_reshape_embeddings.config_dict.items():\n",
    "    if isinstance(v_, dict):\n",
    "        print(f\"{k_}:\")\n",
    "        for k2_, v2_ in v_.items():\n",
    "            print(f\"    {k2_}: {v2_}\")\n",
    "    else:\n",
    "        print(f\"{k_}: {v_}\")"
   ]
  },
  {
   "cell_type": "code",
   "execution_count": 72,
   "id": "d8a8d9e3",
   "metadata": {},
   "outputs": [],
   "source": [
    "# RUN_DATE = '20220629'\n",
    "\n",
    "# BUCKET_NAME = 'i18n-subreddit-clustering'\n",
    "# EMBEDDINGS_SUB_ID = '2022-06-29_084555'\n",
    "# EMBEDDINGS_POST_COMMENT_ID = '2022-06-29_091925'"
   ]
  },
  {
   "cell_type": "markdown",
   "id": "bdcec6d2",
   "metadata": {},
   "source": [
    "# Start MLflow & Load subreddit embeddings"
   ]
  },
  {
   "cell_type": "code",
   "execution_count": 26,
   "id": "1edc42c7",
   "metadata": {},
   "outputs": [],
   "source": [
    "mlf = MlflowLogger(tracking_uri=cfg_reshape_embeddings.config_dict['mlflow_tracking_uri'])"
   ]
  },
  {
   "cell_type": "code",
   "execution_count": 27,
   "id": "29f5cba9",
   "metadata": {},
   "outputs": [
    {
     "name": "stderr",
     "output_type": "stream",
     "text": [
      "22:49:00 | INFO | \"Local folder to download artifact(s):\n",
      "  /home/jupyter/subreddit_clustering_i18n/data/local_cache/mlflow/mlruns/35/badc44b0e5ac467da14f710da0b410c6/artifacts/df_subs_agg_c1_unweighted\"\n",
      "100%|#############################################| 6/6 [00:17<00:00,  2.85s/it]\n",
      "22:49:18 | INFO | \"  Parquet files found:     4\"\n",
      "22:49:18 | INFO | \"  Parquet files to use:     4\"\n"
     ]
    },
    {
     "name": "stdout",
     "output_type": "stream",
     "text": [
      "(771760, 515)\n",
      "CPU times: user 19.4 s, sys: 8.54 s, total: 28 s\n",
      "Wall time: 25.1 s\n"
     ]
    }
   ],
   "source": [
    "%%time\n",
    "\n",
    "df_agg_sub_c = mlf.read_run_artifact(\n",
    "    run_id=cfg_reshape_embeddings.config_dict['mlflow_run_id'],\n",
    "    artifact_folder=cfg_reshape_embeddings.config_dict['embeddings_artifact_path'],\n",
    "    read_function='pd_parquet',\n",
    "    verbose=False,\n",
    ")\n",
    "print(df_agg_sub_c.shape)"
   ]
  },
  {
   "cell_type": "markdown",
   "id": "18bbbf93",
   "metadata": {},
   "source": [
    "# Check distribution of posts for embeddings\n",
    "We'd expect ~340k subs with 3+ posts"
   ]
  },
  {
   "cell_type": "code",
   "execution_count": 31,
   "id": "d327ae70",
   "metadata": {},
   "outputs": [
    {
     "data": {
      "text/plain": [
       "count    771760.000000\n",
       "mean         67.257111\n",
       "std         479.863049\n",
       "min           0.000000\n",
       "25%           1.000000\n",
       "50%           2.000000\n",
       "75%           8.000000\n",
       "max        8400.000000\n",
       "Name: posts_for_embeddings_count, dtype: float64"
      ]
     },
     "execution_count": 31,
     "metadata": {},
     "output_type": "execute_result"
    }
   ],
   "source": [
    "df_agg_sub_c['posts_for_embeddings_count'].describe()"
   ]
  },
  {
   "cell_type": "code",
   "execution_count": 34,
   "id": "c821f7f7",
   "metadata": {},
   "outputs": [
    {
     "data": {
      "text/html": [
       "<style  type=\"text/css\" >\n",
       "#T_5712f_row0_col1{\n",
       "            width:  10em;\n",
       "             height:  80%;\n",
       "            background:  linear-gradient(90deg,#95cff5 25.7%, transparent 25.7%);\n",
       "        }#T_5712f_row0_col2,#T_5712f_row14_col1{\n",
       "            width:  10em;\n",
       "             height:  80%;\n",
       "        }#T_5712f_row1_col1,#T_5712f_row14_col2{\n",
       "            width:  10em;\n",
       "             height:  80%;\n",
       "            background:  linear-gradient(90deg,#95cff5 100.0%, transparent 100.0%);\n",
       "        }#T_5712f_row1_col2{\n",
       "            width:  10em;\n",
       "             height:  80%;\n",
       "            background:  linear-gradient(90deg,#95cff5 42.2%, transparent 42.2%);\n",
       "        }#T_5712f_row2_col1{\n",
       "            width:  10em;\n",
       "             height:  80%;\n",
       "            background:  linear-gradient(90deg,#95cff5 50.9%, transparent 50.9%);\n",
       "        }#T_5712f_row2_col2{\n",
       "            width:  10em;\n",
       "             height:  80%;\n",
       "            background:  linear-gradient(90deg,#95cff5 64.1%, transparent 64.1%);\n",
       "        }#T_5712f_row3_col1{\n",
       "            width:  10em;\n",
       "             height:  80%;\n",
       "            background:  linear-gradient(90deg,#95cff5 21.9%, transparent 21.9%);\n",
       "        }#T_5712f_row3_col2{\n",
       "            width:  10em;\n",
       "             height:  80%;\n",
       "            background:  linear-gradient(90deg,#95cff5 74.1%, transparent 74.1%);\n",
       "        }#T_5712f_row4_col1{\n",
       "            width:  10em;\n",
       "             height:  80%;\n",
       "            background:  linear-gradient(90deg,#95cff5 11.8%, transparent 11.8%);\n",
       "        }#T_5712f_row4_col2{\n",
       "            width:  10em;\n",
       "             height:  80%;\n",
       "            background:  linear-gradient(90deg,#95cff5 79.9%, transparent 79.9%);\n",
       "        }#T_5712f_row5_col1{\n",
       "            width:  10em;\n",
       "             height:  80%;\n",
       "            background:  linear-gradient(90deg,#95cff5 7.6%, transparent 7.6%);\n",
       "        }#T_5712f_row5_col2{\n",
       "            width:  10em;\n",
       "             height:  80%;\n",
       "            background:  linear-gradient(90deg,#95cff5 84.0%, transparent 84.0%);\n",
       "        }#T_5712f_row6_col1{\n",
       "            width:  10em;\n",
       "             height:  80%;\n",
       "            background:  linear-gradient(90deg,#95cff5 5.2%, transparent 5.2%);\n",
       "        }#T_5712f_row6_col2{\n",
       "            width:  10em;\n",
       "             height:  80%;\n",
       "            background:  linear-gradient(90deg,#95cff5 87.1%, transparent 87.1%);\n",
       "        }#T_5712f_row7_col1{\n",
       "            width:  10em;\n",
       "             height:  80%;\n",
       "            background:  linear-gradient(90deg,#95cff5 3.6%, transparent 3.6%);\n",
       "        }#T_5712f_row7_col2{\n",
       "            width:  10em;\n",
       "             height:  80%;\n",
       "            background:  linear-gradient(90deg,#95cff5 89.5%, transparent 89.5%);\n",
       "        }#T_5712f_row8_col1{\n",
       "            width:  10em;\n",
       "             height:  80%;\n",
       "            background:  linear-gradient(90deg,#95cff5 2.5%, transparent 2.5%);\n",
       "        }#T_5712f_row8_col2{\n",
       "            width:  10em;\n",
       "             height:  80%;\n",
       "            background:  linear-gradient(90deg,#95cff5 91.4%, transparent 91.4%);\n",
       "        }#T_5712f_row9_col1{\n",
       "            width:  10em;\n",
       "             height:  80%;\n",
       "            background:  linear-gradient(90deg,#95cff5 1.8%, transparent 1.8%);\n",
       "        }#T_5712f_row9_col2{\n",
       "            width:  10em;\n",
       "             height:  80%;\n",
       "            background:  linear-gradient(90deg,#95cff5 93.1%, transparent 93.1%);\n",
       "        }#T_5712f_row10_col1{\n",
       "            width:  10em;\n",
       "             height:  80%;\n",
       "            background:  linear-gradient(90deg,#95cff5 1.3%, transparent 1.3%);\n",
       "        }#T_5712f_row10_col2{\n",
       "            width:  10em;\n",
       "             height:  80%;\n",
       "            background:  linear-gradient(90deg,#95cff5 94.6%, transparent 94.6%);\n",
       "        }#T_5712f_row11_col1,#T_5712f_row12_col1{\n",
       "            width:  10em;\n",
       "             height:  80%;\n",
       "            background:  linear-gradient(90deg,#95cff5 0.8%, transparent 0.8%);\n",
       "        }#T_5712f_row11_col2{\n",
       "            width:  10em;\n",
       "             height:  80%;\n",
       "            background:  linear-gradient(90deg,#95cff5 95.9%, transparent 95.9%);\n",
       "        }#T_5712f_row12_col2{\n",
       "            width:  10em;\n",
       "             height:  80%;\n",
       "            background:  linear-gradient(90deg,#95cff5 97.2%, transparent 97.2%);\n",
       "        }#T_5712f_row13_col1{\n",
       "            width:  10em;\n",
       "             height:  80%;\n",
       "            background:  linear-gradient(90deg,#95cff5 2.2%, transparent 2.2%);\n",
       "        }#T_5712f_row13_col2{\n",
       "            width:  10em;\n",
       "             height:  80%;\n",
       "            background:  linear-gradient(90deg,#95cff5 99.0%, transparent 99.0%);\n",
       "        }</style><table id=\"T_5712f_\" ><thead>    <tr>        <th class=\"blank level0\" ></th>        <th class=\"col_heading level0 col0\" >posts_for_embeddings_count-count</th>        <th class=\"col_heading level0 col1\" >posts_for_embeddings_count-percent</th>        <th class=\"col_heading level0 col2\" >posts_for_embeddings_count-pct_cumulative_sum</th>    </tr></thead><tbody>\n",
       "                <tr>\n",
       "                        <th id=\"T_5712f_level0_row0\" class=\"row_heading level0 row0\" >0</th>\n",
       "                        <td id=\"T_5712f_row0_col0\" class=\"data row0 col0\" >65,797</td>\n",
       "                        <td id=\"T_5712f_row0_col1\" class=\"data row0 col1\" >8.5%</td>\n",
       "                        <td id=\"T_5712f_row0_col2\" class=\"data row0 col2\" >8.5%</td>\n",
       "            </tr>\n",
       "            <tr>\n",
       "                        <th id=\"T_5712f_level0_row1\" class=\"row_heading level0 row1\" >1</th>\n",
       "                        <td id=\"T_5712f_row1_col0\" class=\"data row1 col0\" >240,338</td>\n",
       "                        <td id=\"T_5712f_row1_col1\" class=\"data row1 col1\" >31.1%</td>\n",
       "                        <td id=\"T_5712f_row1_col2\" class=\"data row1 col2\" >39.7%</td>\n",
       "            </tr>\n",
       "            <tr>\n",
       "                        <th id=\"T_5712f_level0_row2\" class=\"row_heading level0 row2\" >2</th>\n",
       "                        <td id=\"T_5712f_row2_col0\" class=\"data row2 col0\" >125,070</td>\n",
       "                        <td id=\"T_5712f_row2_col1\" class=\"data row2 col1\" >16.2%</td>\n",
       "                        <td id=\"T_5712f_row2_col2\" class=\"data row2 col2\" >55.9%</td>\n",
       "            </tr>\n",
       "            <tr>\n",
       "                        <th id=\"T_5712f_level0_row3\" class=\"row_heading level0 row3\" >3</th>\n",
       "                        <td id=\"T_5712f_row3_col0\" class=\"data row3 col0\" >56,898</td>\n",
       "                        <td id=\"T_5712f_row3_col1\" class=\"data row3 col1\" >7.4%</td>\n",
       "                        <td id=\"T_5712f_row3_col2\" class=\"data row3 col2\" >63.2%</td>\n",
       "            </tr>\n",
       "            <tr>\n",
       "                        <th id=\"T_5712f_level0_row4\" class=\"row_heading level0 row4\" >4</th>\n",
       "                        <td id=\"T_5712f_row4_col0\" class=\"data row4 col0\" >33,084</td>\n",
       "                        <td id=\"T_5712f_row4_col1\" class=\"data row4 col1\" >4.3%</td>\n",
       "                        <td id=\"T_5712f_row4_col2\" class=\"data row4 col2\" >67.5%</td>\n",
       "            </tr>\n",
       "            <tr>\n",
       "                        <th id=\"T_5712f_level0_row5\" class=\"row_heading level0 row5\" >5</th>\n",
       "                        <td id=\"T_5712f_row5_col0\" class=\"data row5 col0\" >23,205</td>\n",
       "                        <td id=\"T_5712f_row5_col1\" class=\"data row5 col1\" >3.0%</td>\n",
       "                        <td id=\"T_5712f_row5_col2\" class=\"data row5 col2\" >70.5%</td>\n",
       "            </tr>\n",
       "            <tr>\n",
       "                        <th id=\"T_5712f_level0_row6\" class=\"row_heading level0 row6\" >6</th>\n",
       "                        <td id=\"T_5712f_row6_col0\" class=\"data row6 col0\" >17,701</td>\n",
       "                        <td id=\"T_5712f_row6_col1\" class=\"data row6 col1\" >2.3%</td>\n",
       "                        <td id=\"T_5712f_row6_col2\" class=\"data row6 col2\" >72.8%</td>\n",
       "            </tr>\n",
       "            <tr>\n",
       "                        <th id=\"T_5712f_level0_row7\" class=\"row_heading level0 row7\" >7</th>\n",
       "                        <td id=\"T_5712f_row7_col0\" class=\"data row7 col0\" >13,792</td>\n",
       "                        <td id=\"T_5712f_row7_col1\" class=\"data row7 col1\" >1.8%</td>\n",
       "                        <td id=\"T_5712f_row7_col2\" class=\"data row7 col2\" >74.6%</td>\n",
       "            </tr>\n",
       "            <tr>\n",
       "                        <th id=\"T_5712f_level0_row8\" class=\"row_heading level0 row8\" >8</th>\n",
       "                        <td id=\"T_5712f_row8_col0\" class=\"data row8 col0\" >11,189</td>\n",
       "                        <td id=\"T_5712f_row8_col1\" class=\"data row8 col1\" >1.4%</td>\n",
       "                        <td id=\"T_5712f_row8_col2\" class=\"data row8 col2\" >76.1%</td>\n",
       "            </tr>\n",
       "            <tr>\n",
       "                        <th id=\"T_5712f_level0_row9\" class=\"row_heading level0 row9\" >9</th>\n",
       "                        <td id=\"T_5712f_row9_col0\" class=\"data row9 col0\" >9,664</td>\n",
       "                        <td id=\"T_5712f_row9_col1\" class=\"data row9 col1\" >1.3%</td>\n",
       "                        <td id=\"T_5712f_row9_col2\" class=\"data row9 col2\" >77.3%</td>\n",
       "            </tr>\n",
       "            <tr>\n",
       "                        <th id=\"T_5712f_level0_row10\" class=\"row_heading level0 row10\" >10</th>\n",
       "                        <td id=\"T_5712f_row10_col0\" class=\"data row10 col0\" >8,497</td>\n",
       "                        <td id=\"T_5712f_row10_col1\" class=\"data row10 col1\" >1.1%</td>\n",
       "                        <td id=\"T_5712f_row10_col2\" class=\"data row10 col2\" >78.4%</td>\n",
       "            </tr>\n",
       "            <tr>\n",
       "                        <th id=\"T_5712f_level0_row11\" class=\"row_heading level0 row11\" >11</th>\n",
       "                        <td id=\"T_5712f_row11_col0\" class=\"data row11 col0\" >7,225</td>\n",
       "                        <td id=\"T_5712f_row11_col1\" class=\"data row11 col1\" >0.9%</td>\n",
       "                        <td id=\"T_5712f_row11_col2\" class=\"data row11 col2\" >79.4%</td>\n",
       "            </tr>\n",
       "            <tr>\n",
       "                        <th id=\"T_5712f_level0_row12\" class=\"row_heading level0 row12\" >12</th>\n",
       "                        <td id=\"T_5712f_row12_col0\" class=\"data row12 col0\" >7,336</td>\n",
       "                        <td id=\"T_5712f_row12_col1\" class=\"data row12 col1\" >1.0%</td>\n",
       "                        <td id=\"T_5712f_row12_col2\" class=\"data row12 col2\" >80.3%</td>\n",
       "            </tr>\n",
       "            <tr>\n",
       "                        <th id=\"T_5712f_level0_row13\" class=\"row_heading level0 row13\" >13</th>\n",
       "                        <td id=\"T_5712f_row13_col0\" class=\"data row13 col0\" >10,642</td>\n",
       "                        <td id=\"T_5712f_row13_col1\" class=\"data row13 col1\" >1.4%</td>\n",
       "                        <td id=\"T_5712f_row13_col2\" class=\"data row13 col2\" >81.7%</td>\n",
       "            </tr>\n",
       "            <tr>\n",
       "                        <th id=\"T_5712f_level0_row14\" class=\"row_heading level0 row14\" >14</th>\n",
       "                        <td id=\"T_5712f_row14_col0\" class=\"data row14 col0\" >5,420</td>\n",
       "                        <td id=\"T_5712f_row14_col1\" class=\"data row14 col1\" >0.7%</td>\n",
       "                        <td id=\"T_5712f_row14_col2\" class=\"data row14 col2\" >82.4%</td>\n",
       "            </tr>\n",
       "    </tbody></table>"
      ],
      "text/plain": [
       "<pandas.io.formats.style.Styler at 0x7f796e542690>"
      ]
     },
     "execution_count": 34,
     "metadata": {},
     "output_type": "execute_result"
    }
   ],
   "source": [
    "value_counts_and_pcts(\n",
    "    df_agg_sub_c['posts_for_embeddings_count'],\n",
    "    sort_index=True,\n",
    "    sort_index_ascending=True,\n",
    ")"
   ]
  },
  {
   "cell_type": "markdown",
   "id": "3a033919",
   "metadata": {},
   "source": [
    "# Reshape embeddings to JSON format\n",
    "\n",
    "We want a format similar to this:\n",
    "```\n",
    "{\n",
    "    \"pt\": date_today,\n",
    "    \"model_name\": MODEL_NAME,\n",
    "    \"model_version\": MODEL_VERSION,\n",
    "    \"subreddit_id\": sr_dict[\"subreddit_id\"],\n",
    "    \"subreddit_name\": subreddit_name_lowercase,\n",
    "    \"embedding\": sr_embedding.tolist(),\n",
    "}\n",
    "```"
   ]
  },
  {
   "cell_type": "code",
   "execution_count": 29,
   "id": "f87819a4",
   "metadata": {},
   "outputs": [
    {
     "name": "stdout",
     "output_type": "stream",
     "text": [
      "512\n"
     ]
    }
   ],
   "source": [
    "l_embedding_cols = [c for c in df_agg_sub_c.columns if c.startswith('embeddings_')]\n",
    "print(len(l_embedding_cols))"
   ]
  },
  {
   "cell_type": "code",
   "execution_count": 30,
   "id": "993f13aa",
   "metadata": {},
   "outputs": [
    {
     "data": {
      "text/html": [
       "<div>\n",
       "<style scoped>\n",
       "    .dataframe tbody tr th:only-of-type {\n",
       "        vertical-align: middle;\n",
       "    }\n",
       "\n",
       "    .dataframe tbody tr th {\n",
       "        vertical-align: top;\n",
       "    }\n",
       "\n",
       "    .dataframe thead th {\n",
       "        text-align: right;\n",
       "    }\n",
       "</style>\n",
       "<table border=\"1\" class=\"dataframe\">\n",
       "  <thead>\n",
       "    <tr style=\"text-align: right;\">\n",
       "      <th></th>\n",
       "      <th>subreddit_id</th>\n",
       "      <th>subreddit_name</th>\n",
       "      <th>posts_for_embeddings_count</th>\n",
       "      <th>embeddings_0</th>\n",
       "      <th>embeddings_1</th>\n",
       "      <th>embeddings_2</th>\n",
       "      <th>embeddings_3</th>\n",
       "      <th>embeddings_4</th>\n",
       "      <th>embeddings_5</th>\n",
       "      <th>embeddings_6</th>\n",
       "      <th>embeddings_7</th>\n",
       "      <th>embeddings_8</th>\n",
       "      <th>embeddings_9</th>\n",
       "      <th>embeddings_10</th>\n",
       "      <th>embeddings_11</th>\n",
       "    </tr>\n",
       "  </thead>\n",
       "  <tbody>\n",
       "    <tr>\n",
       "      <th>0</th>\n",
       "      <td>t5_1001tl</td>\n",
       "      <td>jewel_xo</td>\n",
       "      <td>1</td>\n",
       "      <td>-0.011266</td>\n",
       "      <td>0.001246</td>\n",
       "      <td>0.035281</td>\n",
       "      <td>0.040452</td>\n",
       "      <td>-0.065908</td>\n",
       "      <td>0.009004</td>\n",
       "      <td>-0.000900</td>\n",
       "      <td>-0.016664</td>\n",
       "      <td>-0.070163</td>\n",
       "      <td>0.044367</td>\n",
       "      <td>0.066092</td>\n",
       "      <td>0.078938</td>\n",
       "    </tr>\n",
       "    <tr>\n",
       "      <th>1</th>\n",
       "      <td>t5_10029e</td>\n",
       "      <td>milkyhentai</td>\n",
       "      <td>1</td>\n",
       "      <td>-0.039492</td>\n",
       "      <td>0.007736</td>\n",
       "      <td>0.038307</td>\n",
       "      <td>0.045457</td>\n",
       "      <td>-0.027101</td>\n",
       "      <td>0.033553</td>\n",
       "      <td>0.040519</td>\n",
       "      <td>0.009469</td>\n",
       "      <td>-0.011265</td>\n",
       "      <td>0.030158</td>\n",
       "      <td>0.065437</td>\n",
       "      <td>0.085503</td>\n",
       "    </tr>\n",
       "    <tr>\n",
       "      <th>2</th>\n",
       "      <td>t5_1006k8</td>\n",
       "      <td>badwouldyourather</td>\n",
       "      <td>1</td>\n",
       "      <td>-0.008159</td>\n",
       "      <td>0.035251</td>\n",
       "      <td>-0.000912</td>\n",
       "      <td>0.036374</td>\n",
       "      <td>0.046088</td>\n",
       "      <td>0.031007</td>\n",
       "      <td>0.003537</td>\n",
       "      <td>-0.001226</td>\n",
       "      <td>-0.040383</td>\n",
       "      <td>0.000753</td>\n",
       "      <td>0.056629</td>\n",
       "      <td>0.074083</td>\n",
       "    </tr>\n",
       "    <tr>\n",
       "      <th>3</th>\n",
       "      <td>t5_100806</td>\n",
       "      <td>jojojosiah</td>\n",
       "      <td>2</td>\n",
       "      <td>-0.003108</td>\n",
       "      <td>0.022203</td>\n",
       "      <td>0.038462</td>\n",
       "      <td>0.015269</td>\n",
       "      <td>0.009759</td>\n",
       "      <td>0.021923</td>\n",
       "      <td>0.008808</td>\n",
       "      <td>-0.036922</td>\n",
       "      <td>-0.007005</td>\n",
       "      <td>0.071991</td>\n",
       "      <td>-0.002585</td>\n",
       "      <td>0.033449</td>\n",
       "    </tr>\n",
       "    <tr>\n",
       "      <th>4</th>\n",
       "      <td>t5_1009a3</td>\n",
       "      <td>memesenespanol</td>\n",
       "      <td>380</td>\n",
       "      <td>0.003731</td>\n",
       "      <td>-0.013876</td>\n",
       "      <td>-0.003987</td>\n",
       "      <td>0.002683</td>\n",
       "      <td>-0.010202</td>\n",
       "      <td>0.038552</td>\n",
       "      <td>0.012759</td>\n",
       "      <td>0.016535</td>\n",
       "      <td>-0.056693</td>\n",
       "      <td>0.001183</td>\n",
       "      <td>0.009329</td>\n",
       "      <td>-0.005247</td>\n",
       "    </tr>\n",
       "  </tbody>\n",
       "</table>\n",
       "</div>"
      ],
      "text/plain": [
       "  subreddit_id     subreddit_name  posts_for_embeddings_count  embeddings_0  embeddings_1  embeddings_2  embeddings_3  embeddings_4  embeddings_5  embeddings_6  embeddings_7  embeddings_8  embeddings_9  embeddings_10  embeddings_11\n",
       "0    t5_1001tl           jewel_xo                           1     -0.011266      0.001246      0.035281      0.040452     -0.065908      0.009004     -0.000900     -0.016664     -0.070163      0.044367       0.066092       0.078938\n",
       "1    t5_10029e        milkyhentai                           1     -0.039492      0.007736      0.038307      0.045457     -0.027101      0.033553      0.040519      0.009469     -0.011265      0.030158       0.065437       0.085503\n",
       "2    t5_1006k8  badwouldyourather                           1     -0.008159      0.035251     -0.000912      0.036374      0.046088      0.031007      0.003537     -0.001226     -0.040383      0.000753       0.056629       0.074083\n",
       "3    t5_100806         jojojosiah                           2     -0.003108      0.022203      0.038462      0.015269      0.009759      0.021923      0.008808     -0.036922     -0.007005      0.071991      -0.002585       0.033449\n",
       "4    t5_1009a3     memesenespanol                         380      0.003731     -0.013876     -0.003987      0.002683     -0.010202      0.038552      0.012759      0.016535     -0.056693      0.001183       0.009329      -0.005247"
      ]
     },
     "execution_count": 30,
     "metadata": {},
     "output_type": "execute_result"
    }
   ],
   "source": [
    "df_test = df_agg_sub_c.head().copy()\n",
    "df_test.iloc[:, :15]"
   ]
  },
  {
   "cell_type": "code",
   "execution_count": null,
   "id": "0615953f",
   "metadata": {},
   "outputs": [],
   "source": []
  },
  {
   "cell_type": "code",
   "execution_count": null,
   "id": "800817f1",
   "metadata": {},
   "outputs": [],
   "source": [
    "LEGACY"
   ]
  },
  {
   "cell_type": "code",
   "execution_count": 74,
   "id": "410ef974",
   "metadata": {},
   "outputs": [
    {
     "name": "stderr",
     "output_type": "stream",
     "text": [
      "04:32:42 | INFO | \"== Start run_aggregation() method ==\"\n",
      "04:32:42 | INFO | \"MLflow tracking URI: sqlite:////home/jupyter/subreddit_clustering_i18n/mlflow_sync/djb-100-2021-04-28-djb-eda-german-subs/mlruns.db\"\n",
      "04:32:42 | INFO | \"host_name: djb-100-2021-04-28-djb-eda-german-subs\"\n",
      "04:32:42 | INFO | \"cpu_count: 96\"\n",
      "04:32:43 | INFO | \"RAM stats:\n",
      "{'memory_used_percent': '2.03%', 'memory_total': '1,444,961', 'memory_used': '29,348', 'memory_free': '1,407,217'}\"\n"
     ]
    },
    {
     "data": {
      "text/plain": [
       "{'memory_total': 1444961,\n",
       " 'memory_used_percent': 0.020310582776974603,\n",
       " 'memory_used': 29348,\n",
       " 'memory_free': 1407217}"
      ]
     },
     "execution_count": 74,
     "metadata": {},
     "output_type": "execute_result"
    }
   ],
   "source": [
    "mlflow.end_run(\"FAILED\")\n",
    "#TODO(djb): uncomment\n",
    "mlflow_experiment = cfg_reshape_embeddings.config_dict['mlflow_experiment']\n",
    "# 'v0.6.0_mUSE_aggregates', 'v0.6.0_mUSE_aggregates_test'\n",
    "\n",
    "\n",
    "t_start_agg_embed = datetime.utcnow()\n",
    "info(f\"== Start run_aggregation() method ==\")\n",
    "\n",
    "\n",
    "\n",
    "info(f\"MLflow tracking URI: {mlflow.get_tracking_uri()}\")\n",
    "mlf.set_experiment(mlflow_experiment)\n",
    "mlflow.start_run()\n",
    "mlf.add_git_hash_to_active_run()\n",
    "mlf.set_tag_hostname(key='host_name')\n",
    "mlf.log_param_hostname(key='host_name')\n",
    "mlf.log_cpu_count()\n",
    "mlf.log_ram_stats(param=True, only_memory_used=False)"
   ]
  },
  {
   "cell_type": "code",
   "execution_count": 75,
   "id": "5a9e0339",
   "metadata": {},
   "outputs": [
    {
     "name": "stdout",
     "output_type": "stream",
     "text": [
      "1.0\n",
      "i18n_topic_model_batch/runs/20220811/subreddits/text/embedding/2022-08-11_082859\n",
      "i18n_topic_model_batch/runs/20220811/post_and_comment_text_combined/text_all/embedding/2022-08-11_084218\n"
     ]
    }
   ],
   "source": [
    "# set weights\n",
    "# Normalize them by dividing by 100\n",
    "WEIGHT_POST_COMMENT = (\n",
    "    cfg_reshape_embeddings.config_dict['aggregate_params']['agg_post_post_and_comment_weight'] / 100\n",
    ")\n",
    "WEIGHT_SUB_META = (\n",
    "    cfg_reshape_embeddings.config_dict['aggregate_params']['agg_post_subreddit_desc_weight'] / 100\n",
    ")\n",
    "print(WEIGHT_POST_COMMENT + WEIGHT_SUB_META)\n",
    "assert(1.0 == WEIGHT_POST_COMMENT + WEIGHT_SUB_META)\n",
    "\n",
    "\n",
    "gcs_sub_embeddings = cfg_reshape_embeddings.config_dict['data_embeddings_to_aggregate']['subreddit_desc_folder_embeddings']\n",
    "print(gcs_sub_embeddings)\n",
    "gcs_post_comment_embeddings = cfg_reshape_embeddings.config_dict['data_embeddings_to_aggregate']['post_and_comments_folder_embeddings']\n",
    "print(gcs_post_comment_embeddings)\n",
    "\n",
    "#TODO(djb): uncomment\n",
    "# mlflow.log_params(\n",
    "#     {\n",
    "#         'embeddings_bucket': BUCKET_NAME,\n",
    "#         'embeddings_subreddit_path': gcs_sub_embeddings,\n",
    "#         'embeddings_post_and_comments_path': gcs_post_comment_embeddings,\n",
    "#         'weight_post_and_comments': WEIGHT_POST_COMMENT,\n",
    "#         'weight_subreddit_meta': WEIGHT_SUB_META,\n",
    "#     }\n",
    "# )"
   ]
  },
  {
   "cell_type": "markdown",
   "id": "574c6304",
   "metadata": {},
   "source": [
    "# Load data"
   ]
  },
  {
   "cell_type": "code",
   "execution_count": 76,
   "id": "5040e1a1",
   "metadata": {},
   "outputs": [
    {
     "name": "stderr",
     "output_type": "stream",
     "text": [
      "04:32:46 | INFO | \"  Local folder to download artifact(s):\n",
      "  /home/jupyter/subreddit_clustering_i18n/data/local_cache/i18n-subreddit-clustering/i18n_topic_model_batch/runs/20220811/subreddits/text/embedding/2022-08-11_082859\"\n",
      "04:32:47 | INFO | \"  7 <- Files matching prefix\"\n",
      "04:32:47 | INFO | \"  7 <- Files to check\"\n",
      "04:32:47 | INFO | \"    000000000000-131971_by_514.parquet <- File already exists, not downloading\"\n",
      "04:32:47 | INFO | \"    000000000001-198630_by_514.parquet <- File already exists, not downloading\"\n",
      "04:32:47 | INFO | \"    000000000002-441159_by_514.parquet <- File already exists, not downloading\"\n",
      "04:32:47 | INFO | \"    2022-08-11_08-28-59_vectorize_text.log <- File already exists, not downloading\"\n",
      "04:32:47 | INFO | \"  Files already cached: 4\"\n",
      "04:32:47 | INFO | \"  Files already downloaded.\"\n",
      "04:32:47 | INFO | \"  df format: pandas\"\n",
      "04:32:51 | INFO | \"  Checking ID uniqueness...\"\n"
     ]
    },
    {
     "name": "stdout",
     "output_type": "stream",
     "text": [
      "771,760 rows, 514 cols\n",
      "CPU times: user 4.23 s, sys: 4.75 s, total: 8.98 s\n",
      "Wall time: 6.68 s\n"
     ]
    }
   ],
   "source": [
    "%%time\n",
    "t_start_data_load_ = datetime.utcnow()\n",
    "\n",
    "subs_v = LoadSubredditsGCS(\n",
    "    bucket_name=cfg_reshape_embeddings.config_dict['data_embeddings_to_aggregate']['bucket_embeddings'],\n",
    "    gcs_path=gcs_sub_embeddings,\n",
    "    local_cache_path=\"/home/jupyter/subreddit_clustering_i18n/data/local_cache/\",\n",
    "    columns=None,\n",
    "    col_unique_check='subreddit_id',\n",
    "    df_format='pandas',\n",
    "    unique_check=True,\n",
    "    verbose= True,\n",
    "    \n",
    "    n_sample_files=None,\n",
    "    n_files_slice_start=None,\n",
    "    n_files_slice_end=None,\n",
    ")\n",
    "subs_v.local_cache()\n",
    "\n",
    "df_v_subs = subs_v.read_as_one_df()\n",
    "r_subs, c_subs = df_v_subs.shape\n",
    "mlflow.log_metrics(\n",
    "    {\n",
    "        f\"df_v_subs-rows\": r_subs,\n",
    "        f\"df_v_subs-cols\": c_subs,\n",
    "    }\n",
    ")\n",
    "print(f\"{r_subs:,.0f} rows, {c_subs:,.0f} cols\")"
   ]
  },
  {
   "cell_type": "code",
   "execution_count": 77,
   "id": "91269646",
   "metadata": {},
   "outputs": [
    {
     "name": "stderr",
     "output_type": "stream",
     "text": [
      "04:32:53 | INFO | \"  Local folder to download artifact(s):\n",
      "  /home/jupyter/subreddit_clustering_i18n/data/local_cache/i18n-subreddit-clustering/i18n_topic_model_batch/runs/20220811/post_and_comment_text_combined/text_all/embedding/2022-08-11_084218\"\n",
      "04:32:53 | INFO | \"  2 <- Files matching prefix\"\n",
      "04:32:53 | INFO | \"  2 <- Files to check\"\n",
      "04:32:53 | INFO | \"    000000000000-264431_by_515.parquet <- File already exists, not downloading\"\n",
      "04:32:53 | INFO | \"    000000000001-249532_by_515.parquet <- File already exists, not downloading\"\n",
      "04:32:53 | INFO | \"  Files already cached: 2\"\n",
      "04:32:53 | INFO | \"  Files already downloaded.\"\n",
      "04:32:53 | INFO | \"  df format: pandas\"\n",
      "04:32:57 | INFO | \"  0:00:12.369568 <- Data Loading Time time elapsed\"\n"
     ]
    },
    {
     "name": "stdout",
     "output_type": "stream",
     "text": [
      "513,963 rows, 515 cols\n"
     ]
    },
    {
     "name": "stderr",
     "output_type": "stream",
     "text": [
      "04:32:57 | INFO | \"RAM stats:\n",
      "{'memory_used_percent': '2.44%', 'memory_used': '35,188'}\"\n"
     ]
    },
    {
     "name": "stdout",
     "output_type": "stream",
     "text": [
      "CPU times: user 3.45 s, sys: 4.16 s, total: 7.61 s\n",
      "Wall time: 6.75 s\n"
     ]
    },
    {
     "data": {
      "text/plain": [
       "{'memory_used_percent': 0.024352214350421914, 'memory_used': 35188}"
      ]
     },
     "execution_count": 77,
     "metadata": {},
     "output_type": "execute_result"
    }
   ],
   "source": [
    "%%time\n",
    "\n",
    "pc_v = LoadSubredditsGCS(\n",
    "    bucket_name=cfg_reshape_embeddings.config_dict['data_embeddings_to_aggregate']['bucket_embeddings'],\n",
    "    gcs_path=gcs_post_comment_embeddings,\n",
    "    local_cache_path=\"/home/jupyter/subreddit_clustering_i18n/data/local_cache/\",\n",
    "    columns=None,\n",
    "    col_unique_check='post_id',\n",
    "    df_format='pandas',\n",
    "    unique_check=False,\n",
    "    verbose= True,\n",
    "    \n",
    "    n_sample_files=cfg_reshape_embeddings.config_dict['n_sample_posts_files'],\n",
    "    n_files_slice_start=None,\n",
    "    n_files_slice_end=None,\n",
    ")\n",
    "pc_v.local_cache()\n",
    "\n",
    "df_v_pc = pc_v.read_as_one_df()\n",
    "r_pc, c_pc = df_v_pc.shape\n",
    "mlflow.log_metrics(\n",
    "    {\n",
    "        f\"df_v_post_comments-rows\": r_pc,\n",
    "        f\"df_v_post_comments-cols\": c_pc,\n",
    "    }\n",
    ")\n",
    "print(f\"{r_pc:,.0f} rows, {c_pc:,.0f} cols\")\n",
    "\n",
    "t_data_load = elapsed_time(start_time=t_start_data_load_, log_label='Data Loading Time', verbose=True)\n",
    "mlflow.log_metric('time_fxn-data_loading_time',\n",
    "                  t_data_load / timedelta(minutes=1)\n",
    "                  )\n",
    "mlf.log_ram_stats(only_memory_used=True)"
   ]
  },
  {
   "cell_type": "markdown",
   "id": "9d589bf4",
   "metadata": {},
   "source": [
    "# Set weights & create copy dfs for new weights"
   ]
  },
  {
   "cell_type": "code",
   "execution_count": 78,
   "id": "c487fbca",
   "metadata": {},
   "outputs": [
    {
     "name": "stdout",
     "output_type": "stream",
     "text": [
      "512\n"
     ]
    }
   ],
   "source": [
    "l_ix_sub_level = ['subreddit_id', 'subreddit_name']\n",
    "l_ix_post_level = l_ix_sub_level + ['post_id']\n",
    "\n",
    "l_embedding_cols = [c for c in df_v_pc if c.startswith('embeddings_')]\n",
    "print(len(l_embedding_cols))"
   ]
  },
  {
   "cell_type": "code",
   "execution_count": 110,
   "id": "3c5b34b3",
   "metadata": {},
   "outputs": [
    {
     "name": "stdout",
     "output_type": "stream",
     "text": [
      "True\n",
      "True\n",
      "CPU times: user 534 ms, sys: 459 ms, total: 993 ms\n",
      "Wall time: 992 ms\n"
     ]
    }
   ],
   "source": [
    "%%time\n",
    "#### UPDATE TO RESET TEST\n",
    "df_v_pc_weighted = df_v_pc.copy()\n",
    "\n",
    "df_v_subs_weighted = df_v_subs.copy()\n",
    "\n",
    "# should be True b/c they're copies\n",
    "print(np.allclose(df_v_pc_weighted.iloc[:1000,3:515], df_v_pc.iloc[:1000,3:515]))\n",
    "\n",
    "print(np.allclose(df_v_subs_weighted.iloc[:1000,2:515], df_v_subs.iloc[:1000,2:515]))"
   ]
  },
  {
   "cell_type": "code",
   "execution_count": 111,
   "id": "493b359c",
   "metadata": {},
   "outputs": [
    {
     "data": {
      "text/html": [
       "<style  type=\"text/css\" >\n",
       "</style><table id=\"T_5708f_\" ><thead>    <tr>        <th class=\"blank level0\" ></th>        <th class=\"col_heading level0 col0\" >dtype</th>        <th class=\"col_heading level0 col1\" >count</th>        <th class=\"col_heading level0 col2\" >unique</th>        <th class=\"col_heading level0 col3\" >unique-percent</th>        <th class=\"col_heading level0 col4\" >null-count</th>        <th class=\"col_heading level0 col5\" >null-percent</th>    </tr></thead><tbody>\n",
       "                <tr>\n",
       "                        <th id=\"T_5708f_level0_row0\" class=\"row_heading level0 row0\" >subreddit_id</th>\n",
       "                        <td id=\"T_5708f_row0_col0\" class=\"data row0 col0\" >object</td>\n",
       "                        <td id=\"T_5708f_row0_col1\" class=\"data row0 col1\" >513,963</td>\n",
       "                        <td id=\"T_5708f_row0_col2\" class=\"data row0 col2\" >3,467</td>\n",
       "                        <td id=\"T_5708f_row0_col3\" class=\"data row0 col3\" >0.67%</td>\n",
       "                        <td id=\"T_5708f_row0_col4\" class=\"data row0 col4\" >0</td>\n",
       "                        <td id=\"T_5708f_row0_col5\" class=\"data row0 col5\" >0.00%</td>\n",
       "            </tr>\n",
       "            <tr>\n",
       "                        <th id=\"T_5708f_level0_row1\" class=\"row_heading level0 row1\" >subreddit_name</th>\n",
       "                        <td id=\"T_5708f_row1_col0\" class=\"data row1 col0\" >object</td>\n",
       "                        <td id=\"T_5708f_row1_col1\" class=\"data row1 col1\" >513,963</td>\n",
       "                        <td id=\"T_5708f_row1_col2\" class=\"data row1 col2\" >3,467</td>\n",
       "                        <td id=\"T_5708f_row1_col3\" class=\"data row1 col3\" >0.67%</td>\n",
       "                        <td id=\"T_5708f_row1_col4\" class=\"data row1 col4\" >0</td>\n",
       "                        <td id=\"T_5708f_row1_col5\" class=\"data row1 col5\" >0.00%</td>\n",
       "            </tr>\n",
       "            <tr>\n",
       "                        <th id=\"T_5708f_level0_row2\" class=\"row_heading level0 row2\" >post_id</th>\n",
       "                        <td id=\"T_5708f_row2_col0\" class=\"data row2 col0\" >object</td>\n",
       "                        <td id=\"T_5708f_row2_col1\" class=\"data row2 col1\" >513,963</td>\n",
       "                        <td id=\"T_5708f_row2_col2\" class=\"data row2 col2\" >513,963</td>\n",
       "                        <td id=\"T_5708f_row2_col3\" class=\"data row2 col3\" >100.00%</td>\n",
       "                        <td id=\"T_5708f_row2_col4\" class=\"data row2 col4\" >0</td>\n",
       "                        <td id=\"T_5708f_row2_col5\" class=\"data row2 col5\" >0.00%</td>\n",
       "            </tr>\n",
       "    </tbody></table>"
      ],
      "text/plain": [
       "<pandas.io.formats.style.Styler at 0x7fcc02955f90>"
      ]
     },
     "execution_count": 111,
     "metadata": {},
     "output_type": "execute_result"
    }
   ],
   "source": [
    "counts_describe(df_v_pc[l_ix_post_level])"
   ]
  },
  {
   "cell_type": "code",
   "execution_count": 112,
   "id": "d5059e69",
   "metadata": {},
   "outputs": [
    {
     "name": "stdout",
     "output_type": "stream",
     "text": [
      "CPU times: user 910 ms, sys: 548 ms, total: 1.46 s\n",
      "Wall time: 1.45 s\n"
     ]
    }
   ],
   "source": [
    "%%time\n",
    "# apply weight to all posts & subreddit meta at once (vectorized)\n",
    "df_v_subs_weighted[l_embedding_cols] = df_v_subs_weighted[l_embedding_cols] * WEIGHT_SUB_META"
   ]
  },
  {
   "cell_type": "code",
   "execution_count": 113,
   "id": "a1b03cb7",
   "metadata": {},
   "outputs": [
    {
     "name": "stdout",
     "output_type": "stream",
     "text": [
      "CPU times: user 624 ms, sys: 366 ms, total: 990 ms\n",
      "Wall time: 988 ms\n"
     ]
    }
   ],
   "source": [
    "%%time\n",
    "# apply weight to all posts & subreddit meta at once (vectorized)\n",
    "df_v_pc_weighted[l_embedding_cols] = df_v_pc_weighted[l_embedding_cols] * WEIGHT_POST_COMMENT"
   ]
  },
  {
   "cell_type": "code",
   "execution_count": 114,
   "id": "8e3fd83f",
   "metadata": {},
   "outputs": [
    {
     "name": "stdout",
     "output_type": "stream",
     "text": [
      "False\n",
      "False\n"
     ]
    }
   ],
   "source": [
    "# NOW they shouldn't be equal (Should be False)\n",
    "print(np.allclose(df_v_pc_weighted.iloc[:1000,3:515], df_v_pc.iloc[:1000,3:515]))\n",
    "\n",
    "print(np.allclose(df_v_subs_weighted.iloc[:1000,2:515], df_v_subs.iloc[:1000,2:515]))"
   ]
  },
  {
   "cell_type": "markdown",
   "id": "700ad2da",
   "metadata": {},
   "source": [
    "# Aggregate to Post-Level: Post&Comments + Subreddit Meta\n",
    "\n",
    "It's better to let pandas handle the interations with `.groupby('subreddit_id')`. Otherwise we have to create masks for each subreddit that can take much longer (17+ hours).\n",
    "\n",
    "- ETA with masks: +17.6 hours\n",
    "- ETA with groupby ~2.5 hours\n",
    "\n",
    "```\n",
    "# mask:\n",
    "0%  329/81973 [04:18<17:42:36, 1.28it/s]\n",
    "\n",
    "# .groupby()\n",
    "6% 4751/81973 [09:56<2:35:06, 8.30it/s]\n",
    "```\n",
    "\n",
    "---\n",
    "\n",
    "Updates using `dask.delayed`:\n",
    "By combining .groupby() + `dask.delayed` we can process things ~3x faster:\n",
    "\n",
    "\n",
    "```\n",
    "# .groupby(), no dask delayed\n",
    "100% 3467/3467 [08:20<00:00, 6.97it/s]\n",
    "  0:08:21.661816 <- Total Agg fxn time time elapsed\n",
    "\n",
    "\n",
    "# .groupby() + dask.delayed(....to_numpy())\n",
    "100% 3467/3467 [02:31<00:00, 23.08it/s]\n",
    "  Wall time: 2min 38s\n",
    "\n",
    "\n",
    "# masks with dask.delayed():\n",
    "#  This is 2x faster than serial processing, but .groupby() + dask.delayed() is much faster\n",
    "100% 3467/3467 [00:11<00:00, 299.85it/s]\n",
    "05:44:20 | INFO | \"Define new C1 df DAG in dask\"\n",
    "05:44:20 | INFO | \"COMPUTE new C1 df START\"\n",
    "05:48:20 | INFO | \"COMPUTE new C1 df DONE\"\n",
    "05:48:20 | INFO | \"  0:04:11.393036 <- Total Agg fxn time time elapsed\"\n",
    "CPU times: user 4min 33s, sys: 24.3 s, total: 4min 57s\n",
    "Wall time: 4min 12s\n",
    "\n",
    "\n",
    "```\n"
   ]
  },
  {
   "cell_type": "code",
   "execution_count": 93,
   "id": "6847e049",
   "metadata": {},
   "outputs": [
    {
     "name": "stderr",
     "output_type": "stream",
     "text": [
      "05:01:58 | INFO | \"Start C1 - posts + comments + sub descriptions\"\n"
     ]
    },
    {
     "data": {
      "application/vnd.jupyter.widget-view+json": {
       "model_id": "3ab05b339e1348c4b070598205344f48",
       "version_major": 2,
       "version_minor": 0
      },
      "text/plain": [
       "  0%|          | 0/3467 [00:00<?, ?it/s]"
      ]
     },
     "metadata": {},
     "output_type": "display_data"
    },
    {
     "name": "stderr",
     "output_type": "stream",
     "text": [
      "05:10:18 | INFO | \"Create new C1 df\"\n",
      "05:10:19 | INFO | \"  0:08:21.661816 <- Total Agg fxn time time elapsed\"\n",
      "05:10:19 | INFO | \"C1 - post level complete\"\n"
     ]
    },
    {
     "name": "stdout",
     "output_type": "stream",
     "text": [
      "513,963 rows, 515 cols\n"
     ]
    }
   ],
   "source": [
    "%%time\n",
    "\n",
    "info(f\"Start C1 - posts + comments + sub descriptions\")\n",
    "t_start_agg_post_c1 = datetime.utcnow()\n",
    "\n",
    "l_df_c1_weights_no_delay_ = list()\n",
    "\n",
    "for s_id, df_ in tqdm(\n",
    "    df_v_pc_weighted.groupby('subreddit_id'),\n",
    "    ascii=True, mininterval=5,\n",
    "):\n",
    "    df_.loc[:, l_embedding_cols] = np.add(\n",
    "        df_v_subs_weighted[df_v_subs_weighted['subreddit_id'] == s_id][l_embedding_cols].to_numpy(),\n",
    "        df_[l_embedding_cols]\n",
    "    )\n",
    "    l_df_c1_weights_no_delay_.append(df_)\n",
    "    del df_\n",
    "\n",
    "\n",
    "info(f\"Create new C1 df\")\n",
    "df_posts_agg_c1 = pd.concat(l_df_c1_weights_no_delay_, ignore_index=True)\n",
    "\n",
    "r_, c_ = df_posts_agg_c1.shape\n",
    "mlflow.log_metrics(\n",
    "    {\n",
    "        f\"df_posts_agg_c1-rows\": r_,\n",
    "        f\"df_posts_agg_c1-cols\": c_,\n",
    "    }\n",
    ")\n",
    "print(f\"{r_:,.0f} rows, {c_:,.0f} cols\")\n",
    "del r_, c_\n",
    "\n",
    "t_agg_pc_c1 = elapsed_time(start_time=t_start_agg_post_c1, log_label='Total Agg fxn time', verbose=True)\n",
    "mlflow.log_metric('time_fxn-df_posts_agg_c1_no_delay',\n",
    "                  t_agg_pc_c1 / timedelta(minutes=1)\n",
    "                  )\n",
    "info(f\"C1 - post level complete\")"
   ]
  },
  {
   "cell_type": "code",
   "execution_count": 94,
   "id": "1d2b4daa",
   "metadata": {},
   "outputs": [
    {
     "name": "stdout",
     "output_type": "stream",
     "text": [
      "<class 'pandas.core.frame.DataFrame'>\n",
      "RangeIndex: 513963 entries, 0 to 513962\n",
      "Columns: 515 entries, subreddit_id to embeddings_511\n",
      "dtypes: float32(512), object(3)\n",
      "memory usage: 1015.6+ MB\n"
     ]
    }
   ],
   "source": [
    "df_posts_agg_c1.info()"
   ]
  },
  {
   "cell_type": "code",
   "execution_count": 95,
   "id": "0143e389",
   "metadata": {},
   "outputs": [
    {
     "data": {
      "text/html": [
       "<div>\n",
       "<style scoped>\n",
       "    .dataframe tbody tr th:only-of-type {\n",
       "        vertical-align: middle;\n",
       "    }\n",
       "\n",
       "    .dataframe tbody tr th {\n",
       "        vertical-align: top;\n",
       "    }\n",
       "\n",
       "    .dataframe thead th {\n",
       "        text-align: right;\n",
       "    }\n",
       "</style>\n",
       "<table border=\"1\" class=\"dataframe\">\n",
       "  <thead>\n",
       "    <tr style=\"text-align: right;\">\n",
       "      <th></th>\n",
       "      <th>subreddit_id</th>\n",
       "      <th>subreddit_name</th>\n",
       "      <th>post_id</th>\n",
       "      <th>embeddings_0</th>\n",
       "      <th>embeddings_1</th>\n",
       "      <th>embeddings_2</th>\n",
       "      <th>embeddings_3</th>\n",
       "      <th>embeddings_4</th>\n",
       "      <th>embeddings_5</th>\n",
       "      <th>embeddings_6</th>\n",
       "    </tr>\n",
       "  </thead>\n",
       "  <tbody>\n",
       "    <tr>\n",
       "      <th>0</th>\n",
       "      <td>t5_1001tl</td>\n",
       "      <td>jewel_xo</td>\n",
       "      <td>t3_w6lnkt</td>\n",
       "      <td>-0.026750</td>\n",
       "      <td>-0.036190</td>\n",
       "      <td>0.093885</td>\n",
       "      <td>0.095756</td>\n",
       "      <td>-0.029146</td>\n",
       "      <td>0.069554</td>\n",
       "      <td>-0.029806</td>\n",
       "    </tr>\n",
       "    <tr>\n",
       "      <th>1</th>\n",
       "      <td>t5_10029e</td>\n",
       "      <td>milkyhentai</td>\n",
       "      <td>t3_wacyh8</td>\n",
       "      <td>-0.052194</td>\n",
       "      <td>-0.001679</td>\n",
       "      <td>0.066130</td>\n",
       "      <td>-0.001884</td>\n",
       "      <td>-0.048534</td>\n",
       "      <td>0.063257</td>\n",
       "      <td>0.087531</td>\n",
       "    </tr>\n",
       "    <tr>\n",
       "      <th>2</th>\n",
       "      <td>t5_1006k8</td>\n",
       "      <td>badwouldyourather</td>\n",
       "      <td>t3_v9i9a9</td>\n",
       "      <td>-0.056388</td>\n",
       "      <td>0.053583</td>\n",
       "      <td>-0.036472</td>\n",
       "      <td>0.077083</td>\n",
       "      <td>0.103991</td>\n",
       "      <td>0.072819</td>\n",
       "      <td>0.060729</td>\n",
       "    </tr>\n",
       "    <tr>\n",
       "      <th>3</th>\n",
       "      <td>t5_100806</td>\n",
       "      <td>jojojosiah</td>\n",
       "      <td>t3_v49gii</td>\n",
       "      <td>0.050979</td>\n",
       "      <td>-0.019090</td>\n",
       "      <td>0.066897</td>\n",
       "      <td>0.010666</td>\n",
       "      <td>-0.003617</td>\n",
       "      <td>0.106058</td>\n",
       "      <td>-0.079753</td>\n",
       "    </tr>\n",
       "    <tr>\n",
       "      <th>4</th>\n",
       "      <td>t5_100806</td>\n",
       "      <td>jojojosiah</td>\n",
       "      <td>t3_v49tw9</td>\n",
       "      <td>-0.024774</td>\n",
       "      <td>0.023409</td>\n",
       "      <td>0.084235</td>\n",
       "      <td>0.091530</td>\n",
       "      <td>0.115938</td>\n",
       "      <td>0.019496</td>\n",
       "      <td>0.011256</td>\n",
       "    </tr>\n",
       "  </tbody>\n",
       "</table>\n",
       "</div>"
      ],
      "text/plain": [
       "  subreddit_id     subreddit_name    post_id  embeddings_0  embeddings_1  embeddings_2  embeddings_3  embeddings_4  embeddings_5  embeddings_6\n",
       "0    t5_1001tl           jewel_xo  t3_w6lnkt     -0.026750     -0.036190      0.093885      0.095756     -0.029146      0.069554     -0.029806\n",
       "1    t5_10029e        milkyhentai  t3_wacyh8     -0.052194     -0.001679      0.066130     -0.001884     -0.048534      0.063257      0.087531\n",
       "2    t5_1006k8  badwouldyourather  t3_v9i9a9     -0.056388      0.053583     -0.036472      0.077083      0.103991      0.072819      0.060729\n",
       "3    t5_100806         jojojosiah  t3_v49gii      0.050979     -0.019090      0.066897      0.010666     -0.003617      0.106058     -0.079753\n",
       "4    t5_100806         jojojosiah  t3_v49tw9     -0.024774      0.023409      0.084235      0.091530      0.115938      0.019496      0.011256"
      ]
     },
     "execution_count": 95,
     "metadata": {},
     "output_type": "execute_result"
    }
   ],
   "source": [
    "df_posts_agg_c1.iloc[:5, :10]"
   ]
  },
  {
   "cell_type": "code",
   "execution_count": 96,
   "id": "35fc628a",
   "metadata": {},
   "outputs": [
    {
     "name": "stderr",
     "output_type": "stream",
     "text": [
      "05:18:56 | INFO | \"Start C1 - posts + comments + sub descriptions\"\n"
     ]
    },
    {
     "data": {
      "application/vnd.jupyter.widget-view+json": {
       "model_id": "a6f099e9de82449d98a476ef5e15e367",
       "version_major": 2,
       "version_minor": 0
      },
      "text/plain": [
       "  0%|          | 0/3467 [00:00<?, ?it/s]"
      ]
     },
     "metadata": {},
     "output_type": "display_data"
    },
    {
     "name": "stderr",
     "output_type": "stream",
     "text": [
      "05:21:28 | INFO | \"Define new C1 df DAG in dask\"\n",
      "05:21:28 | INFO | \"COMPUTE new C1 df START\"\n",
      "05:21:34 | INFO | \"COMPUTE new C1 df DONE\"\n",
      "05:21:34 | INFO | \"  0:02:37.885677 <- Total Agg fxn time time elapsed\"\n",
      "05:21:34 | INFO | \"C1 - post level complete\"\n"
     ]
    },
    {
     "name": "stdout",
     "output_type": "stream",
     "text": [
      "513,963 rows, 515 cols\n"
     ]
    },
    {
     "name": "stderr",
     "output_type": "stream",
     "text": [
      "05:21:35 | INFO | \"RAM stats:\n",
      "{'memory_used_percent': '2.48%', 'memory_used': '35,872'}\"\n"
     ]
    },
    {
     "name": "stdout",
     "output_type": "stream",
     "text": [
      "CPU times: user 2min 37s, sys: 2.71 s, total: 2min 39s\n",
      "Wall time: 2min 38s\n"
     ]
    },
    {
     "data": {
      "text/plain": [
       "{'memory_used_percent': 0.02482558352785992, 'memory_used': 35872}"
      ]
     },
     "execution_count": 96,
     "metadata": {},
     "output_type": "execute_result"
    }
   ],
   "source": [
    "%%time\n",
    "info(f\"Start C1 - posts + comments + sub descriptions\")\n",
    "t_start_agg_post_c1 = datetime.utcnow()\n",
    "\n",
    "l_df_c1_weights = list()\n",
    "\n",
    "for s_id, df_ in tqdm(\n",
    "    df_v_pc_weighted.groupby('subreddit_id'),\n",
    "    ascii=True, mininterval=5,\n",
    "):\n",
    "    df_pc_embeddings_ = dask.delayed(np.add)(\n",
    "        # df_v_subs_weighted[df_v_subs_weighted['subreddit_id'] == s_id][l_embedding_cols].to_numpy(),\n",
    "        dask.delayed(df_v_subs_weighted[df_v_subs_weighted['subreddit_id'] == s_id][l_embedding_cols].to_numpy()),\n",
    "        dask.delayed(df_[l_embedding_cols])\n",
    "    )\n",
    "    l_df_c1_weights.append(\n",
    "        dask.delayed(pd.concat)([dask.delayed(df_[l_ix_post_level]), df_pc_embeddings_], ignore_index=False, axis=1)\n",
    "    )\n",
    "\n",
    "info(f\"Define new C1 df DAG in dask\")\n",
    "df_posts_agg_c1_delayed = dask.delayed(pd.concat)(l_df_c1_weights, ignore_index=True)\n",
    "\n",
    "info(f\"COMPUTE new C1 df START\")\n",
    "df_posts_agg_c1_dd = df_posts_agg_c1_delayed.compute()\n",
    "info(f\"COMPUTE new C1 df DONE\")\n",
    "\n",
    "r_, c_ = df_posts_agg_c1_dd.shape\n",
    "mlflow.log_metrics(\n",
    "    {\n",
    "        f\"df_posts_agg_c1-rows\": r_,\n",
    "        f\"df_posts_agg_c1-cols\": c_,\n",
    "    }\n",
    ")\n",
    "print(f\"{r_:,.0f} rows, {c_:,.0f} cols\")\n",
    "del r_, c_\n",
    "\n",
    "t_agg_pc_c1 = elapsed_time(start_time=t_start_agg_post_c1, log_label='Total Agg fxn time', verbose=True)\n",
    "mlflow.log_metric('time_fxn-df_posts_agg_c1_dask_delayed',\n",
    "                  t_agg_pc_c1 / timedelta(minutes=1)\n",
    "                  )\n",
    "info(f\"C1 - post level complete\")\n",
    "mlf.log_ram_stats(only_memory_used=True)"
   ]
  },
  {
   "cell_type": "code",
   "execution_count": 97,
   "id": "67dd1d50",
   "metadata": {},
   "outputs": [
    {
     "data": {
      "text/html": [
       "<div>\n",
       "<style scoped>\n",
       "    .dataframe tbody tr th:only-of-type {\n",
       "        vertical-align: middle;\n",
       "    }\n",
       "\n",
       "    .dataframe tbody tr th {\n",
       "        vertical-align: top;\n",
       "    }\n",
       "\n",
       "    .dataframe thead th {\n",
       "        text-align: right;\n",
       "    }\n",
       "</style>\n",
       "<table border=\"1\" class=\"dataframe\">\n",
       "  <thead>\n",
       "    <tr style=\"text-align: right;\">\n",
       "      <th></th>\n",
       "      <th>subreddit_id</th>\n",
       "      <th>subreddit_name</th>\n",
       "      <th>post_id</th>\n",
       "    </tr>\n",
       "  </thead>\n",
       "  <tbody>\n",
       "    <tr>\n",
       "      <th>247128</th>\n",
       "      <td>t5_1387r9</td>\n",
       "      <td>amazonfc</td>\n",
       "      <td>t3_umx0ug</td>\n",
       "    </tr>\n",
       "    <tr>\n",
       "      <th>247129</th>\n",
       "      <td>t5_1387r9</td>\n",
       "      <td>amazonfc</td>\n",
       "      <td>t3_umx2v1</td>\n",
       "    </tr>\n",
       "    <tr>\n",
       "      <th>247130</th>\n",
       "      <td>t5_1387r9</td>\n",
       "      <td>amazonfc</td>\n",
       "      <td>t3_umxauu</td>\n",
       "    </tr>\n",
       "    <tr>\n",
       "      <th>247131</th>\n",
       "      <td>t5_1387r9</td>\n",
       "      <td>amazonfc</td>\n",
       "      <td>t3_umxiur</td>\n",
       "    </tr>\n",
       "    <tr>\n",
       "      <th>247132</th>\n",
       "      <td>t5_1387r9</td>\n",
       "      <td>amazonfc</td>\n",
       "      <td>t3_umxsr4</td>\n",
       "    </tr>\n",
       "  </tbody>\n",
       "</table>\n",
       "</div>"
      ],
      "text/plain": [
       "       subreddit_id subreddit_name    post_id\n",
       "247128    t5_1387r9       amazonfc  t3_umx0ug\n",
       "247129    t5_1387r9       amazonfc  t3_umx2v1\n",
       "247130    t5_1387r9       amazonfc  t3_umxauu\n",
       "247131    t5_1387r9       amazonfc  t3_umxiur\n",
       "247132    t5_1387r9       amazonfc  t3_umxsr4"
      ]
     },
     "execution_count": 97,
     "metadata": {},
     "output_type": "execute_result"
    }
   ],
   "source": [
    "df_[l_ix_post_level].head()"
   ]
  },
  {
   "cell_type": "code",
   "execution_count": 100,
   "id": "48e3d816",
   "metadata": {
    "scrolled": true
   },
   "outputs": [],
   "source": [
    "# df_posts_agg_c1_delayed.visualize(filename='posts_agg_test', format='svg', optimize_graph=True)"
   ]
  },
  {
   "cell_type": "code",
   "execution_count": 89,
   "id": "826c7f31",
   "metadata": {},
   "outputs": [
    {
     "name": "stdout",
     "output_type": "stream",
     "text": [
      "<class 'pandas.core.frame.DataFrame'>\n",
      "RangeIndex: 513963 entries, 0 to 513962\n",
      "Columns: 515 entries, 0 to 514\n",
      "dtypes: float32(512), object(3)\n",
      "memory usage: 1015.6+ MB\n"
     ]
    }
   ],
   "source": [
    "df_posts_agg_c1.info()"
   ]
  },
  {
   "cell_type": "code",
   "execution_count": 101,
   "id": "cf4ab471",
   "metadata": {},
   "outputs": [
    {
     "name": "stdout",
     "output_type": "stream",
     "text": [
      "<class 'pandas.core.frame.DataFrame'>\n",
      "RangeIndex: 513963 entries, 0 to 513962\n",
      "Columns: 515 entries, subreddit_id to embeddings_511\n",
      "dtypes: float32(512), object(3)\n",
      "memory usage: 1015.6+ MB\n"
     ]
    }
   ],
   "source": [
    "df_posts_agg_c1_dd.info()"
   ]
  },
  {
   "cell_type": "code",
   "execution_count": 102,
   "id": "088967dc",
   "metadata": {},
   "outputs": [
    {
     "data": {
      "text/html": [
       "<div>\n",
       "<style scoped>\n",
       "    .dataframe tbody tr th:only-of-type {\n",
       "        vertical-align: middle;\n",
       "    }\n",
       "\n",
       "    .dataframe tbody tr th {\n",
       "        vertical-align: top;\n",
       "    }\n",
       "\n",
       "    .dataframe thead th {\n",
       "        text-align: right;\n",
       "    }\n",
       "</style>\n",
       "<table border=\"1\" class=\"dataframe\">\n",
       "  <thead>\n",
       "    <tr style=\"text-align: right;\">\n",
       "      <th></th>\n",
       "      <th>subreddit_id</th>\n",
       "      <th>subreddit_name</th>\n",
       "      <th>post_id</th>\n",
       "      <th>embeddings_0</th>\n",
       "      <th>embeddings_1</th>\n",
       "      <th>embeddings_2</th>\n",
       "      <th>embeddings_3</th>\n",
       "      <th>embeddings_4</th>\n",
       "      <th>embeddings_5</th>\n",
       "      <th>embeddings_6</th>\n",
       "    </tr>\n",
       "  </thead>\n",
       "  <tbody>\n",
       "    <tr>\n",
       "      <th>0</th>\n",
       "      <td>t5_1001tl</td>\n",
       "      <td>jewel_xo</td>\n",
       "      <td>t3_w6lnkt</td>\n",
       "      <td>-0.026750</td>\n",
       "      <td>-0.036190</td>\n",
       "      <td>0.093885</td>\n",
       "      <td>0.095756</td>\n",
       "      <td>-0.029146</td>\n",
       "      <td>0.069554</td>\n",
       "      <td>-0.029806</td>\n",
       "    </tr>\n",
       "    <tr>\n",
       "      <th>1</th>\n",
       "      <td>t5_10029e</td>\n",
       "      <td>milkyhentai</td>\n",
       "      <td>t3_wacyh8</td>\n",
       "      <td>-0.052194</td>\n",
       "      <td>-0.001679</td>\n",
       "      <td>0.066130</td>\n",
       "      <td>-0.001884</td>\n",
       "      <td>-0.048534</td>\n",
       "      <td>0.063257</td>\n",
       "      <td>0.087531</td>\n",
       "    </tr>\n",
       "    <tr>\n",
       "      <th>2</th>\n",
       "      <td>t5_1006k8</td>\n",
       "      <td>badwouldyourather</td>\n",
       "      <td>t3_v9i9a9</td>\n",
       "      <td>-0.056388</td>\n",
       "      <td>0.053583</td>\n",
       "      <td>-0.036472</td>\n",
       "      <td>0.077083</td>\n",
       "      <td>0.103991</td>\n",
       "      <td>0.072819</td>\n",
       "      <td>0.060729</td>\n",
       "    </tr>\n",
       "    <tr>\n",
       "      <th>3</th>\n",
       "      <td>t5_100806</td>\n",
       "      <td>jojojosiah</td>\n",
       "      <td>t3_v49gii</td>\n",
       "      <td>0.050979</td>\n",
       "      <td>-0.019090</td>\n",
       "      <td>0.066897</td>\n",
       "      <td>0.010666</td>\n",
       "      <td>-0.003617</td>\n",
       "      <td>0.106058</td>\n",
       "      <td>-0.079753</td>\n",
       "    </tr>\n",
       "    <tr>\n",
       "      <th>4</th>\n",
       "      <td>t5_100806</td>\n",
       "      <td>jojojosiah</td>\n",
       "      <td>t3_v49tw9</td>\n",
       "      <td>-0.024774</td>\n",
       "      <td>0.023409</td>\n",
       "      <td>0.084235</td>\n",
       "      <td>0.091530</td>\n",
       "      <td>0.115938</td>\n",
       "      <td>0.019496</td>\n",
       "      <td>0.011256</td>\n",
       "    </tr>\n",
       "  </tbody>\n",
       "</table>\n",
       "</div>"
      ],
      "text/plain": [
       "  subreddit_id     subreddit_name    post_id  embeddings_0  embeddings_1  embeddings_2  embeddings_3  embeddings_4  embeddings_5  embeddings_6\n",
       "0    t5_1001tl           jewel_xo  t3_w6lnkt     -0.026750     -0.036190      0.093885      0.095756     -0.029146      0.069554     -0.029806\n",
       "1    t5_10029e        milkyhentai  t3_wacyh8     -0.052194     -0.001679      0.066130     -0.001884     -0.048534      0.063257      0.087531\n",
       "2    t5_1006k8  badwouldyourather  t3_v9i9a9     -0.056388      0.053583     -0.036472      0.077083      0.103991      0.072819      0.060729\n",
       "3    t5_100806         jojojosiah  t3_v49gii      0.050979     -0.019090      0.066897      0.010666     -0.003617      0.106058     -0.079753\n",
       "4    t5_100806         jojojosiah  t3_v49tw9     -0.024774      0.023409      0.084235      0.091530      0.115938      0.019496      0.011256"
      ]
     },
     "execution_count": 102,
     "metadata": {},
     "output_type": "execute_result"
    }
   ],
   "source": [
    "df_posts_agg_c1_dd.iloc[:5, :10]"
   ]
  },
  {
   "cell_type": "code",
   "execution_count": 116,
   "id": "0f48c7cf",
   "metadata": {},
   "outputs": [
    {
     "name": "stderr",
     "output_type": "stream",
     "text": [
      "05:44:08 | INFO | \"Start C1 - posts + comments + sub descriptions\"\n"
     ]
    },
    {
     "data": {
      "application/vnd.jupyter.widget-view+json": {
       "model_id": "c90f67e366c04dc4a38aa1c37c4b5960",
       "version_major": 2,
       "version_minor": 0
      },
      "text/plain": [
       "  0%|          | 0/3467 [00:00<?, ?it/s]"
      ]
     },
     "metadata": {},
     "output_type": "display_data"
    },
    {
     "name": "stderr",
     "output_type": "stream",
     "text": [
      "05:44:20 | INFO | \"Define new C1 df DAG in dask\"\n",
      "05:44:20 | INFO | \"COMPUTE new C1 df START\"\n",
      "05:48:20 | INFO | \"COMPUTE new C1 df DONE\"\n",
      "05:48:20 | INFO | \"  0:04:11.393036 <- Total Agg fxn time time elapsed\"\n",
      "05:48:20 | INFO | \"C1 - post level complete\"\n"
     ]
    },
    {
     "name": "stdout",
     "output_type": "stream",
     "text": [
      "513,963 rows, 515 cols\n"
     ]
    },
    {
     "name": "stderr",
     "output_type": "stream",
     "text": [
      "05:48:20 | INFO | \"RAM stats:\n",
      "{'memory_used_percent': '2.63%', 'memory_used': '37,949'}\"\n"
     ]
    },
    {
     "name": "stdout",
     "output_type": "stream",
     "text": [
      "CPU times: user 4min 33s, sys: 24.3 s, total: 4min 57s\n",
      "Wall time: 4min 12s\n"
     ]
    },
    {
     "data": {
      "text/plain": [
       "{'memory_used_percent': 0.026262992565197263, 'memory_used': 37949}"
      ]
     },
     "execution_count": 116,
     "metadata": {},
     "output_type": "execute_result"
    }
   ],
   "source": [
    "%%time\n",
    "info(f\"Start C1 - posts + comments + sub descriptions\")\n",
    "t_start_agg_post_c1 = datetime.utcnow()\n",
    "\n",
    "l_df_c1_weights_dd = list()\n",
    "\n",
    "# instead of groupby, try running list of subreddit IDs to try to run df masks in parallel\n",
    "l_subreddits_in_pc_ = df_v_pc_weighted['subreddit_id'].unique()\n",
    "\n",
    "df_v_subs_weighted_dd = dask.delayed(df_v_subs_weighted)\n",
    "df_v_pc_weighted_dd = dask.delayed(df_v_pc_weighted)\n",
    "\n",
    "for s_id in tqdm(\n",
    "    l_subreddits_in_pc_,\n",
    "    ascii=True, mininterval=5,\n",
    "):\n",
    "    df_ = dask.delayed(df_v_pc_weighted_dd[df_v_pc_weighted_dd['subreddit_id'] == s_id])\n",
    "    df_pc_embeddings_ = dask.delayed(np.add)(\n",
    "        dask.delayed(df_v_subs_weighted_dd[df_v_subs_weighted_dd['subreddit_id'] == s_id][l_embedding_cols].to_numpy()),\n",
    "        dask.delayed(df_[l_embedding_cols])\n",
    "    )\n",
    "    l_df_c1_weights_dd.append(\n",
    "        dask.delayed(pd.concat)([dask.delayed(df_[l_ix_post_level]), df_pc_embeddings_], ignore_index=False, axis=1)\n",
    "    )\n",
    "\n",
    "info(f\"Define new C1 df DAG in dask\")\n",
    "df_posts_agg_c1_delayed2 = dask.delayed(pd.concat)(l_df_c1_weights_dd, ignore_index=True)\n",
    "\n",
    "info(f\"COMPUTE new C1 df START\")\n",
    "df_posts_agg_c1_dd2 = df_posts_agg_c1_delayed2.compute()\n",
    "info(f\"COMPUTE new C1 df DONE\")\n",
    "\n",
    "r_, c_ = df_posts_agg_c1_dd2.shape\n",
    "mlflow.log_metrics(\n",
    "    {\n",
    "        f\"df_posts_agg_c1-rows\": r_,\n",
    "        f\"df_posts_agg_c1-cols\": c_,\n",
    "    }\n",
    ")\n",
    "print(f\"{r_:,.0f} rows, {c_:,.0f} cols\")\n",
    "del r_, c_\n",
    "\n",
    "t_agg_pc_c1 = elapsed_time(start_time=t_start_agg_post_c1, log_label='Total Agg fxn time', verbose=True)\n",
    "mlflow.log_metric('time_fxn-df_posts_agg_c1_dask_delayed',\n",
    "                  t_agg_pc_c1 / timedelta(minutes=1)\n",
    "                  )\n",
    "info(f\"C1 - post level complete\")\n",
    "mlf.log_ram_stats(only_memory_used=True)"
   ]
  },
  {
   "cell_type": "markdown",
   "id": "f71436fa",
   "metadata": {},
   "source": [
    "### Check that delayed & sequential outputs are the same"
   ]
  },
  {
   "cell_type": "code",
   "execution_count": 103,
   "id": "569bf1a7",
   "metadata": {},
   "outputs": [
    {
     "data": {
      "text/plain": [
       "True"
      ]
     },
     "execution_count": 103,
     "metadata": {},
     "output_type": "execute_result"
    }
   ],
   "source": [
    "np.allclose(df_posts_agg_c1_dd[l_embedding_cols], df_posts_agg_c1[l_embedding_cols])"
   ]
  },
  {
   "cell_type": "code",
   "execution_count": 117,
   "id": "56286cea",
   "metadata": {},
   "outputs": [
    {
     "data": {
      "text/plain": [
       "False"
      ]
     },
     "execution_count": 117,
     "metadata": {},
     "output_type": "execute_result"
    }
   ],
   "source": [
    "np.allclose(df_posts_agg_c1_dd2[l_embedding_cols], df_posts_agg_c1[l_embedding_cols])"
   ]
  },
  {
   "cell_type": "code",
   "execution_count": 118,
   "id": "b6786ca0",
   "metadata": {},
   "outputs": [
    {
     "data": {
      "text/plain": [
       "False"
      ]
     },
     "execution_count": 118,
     "metadata": {},
     "output_type": "execute_result"
    }
   ],
   "source": [
    "np.allclose(df_posts_agg_c1_dd[l_embedding_cols], df_posts_agg_c1_dd2[l_embedding_cols])"
   ]
  },
  {
   "cell_type": "markdown",
   "id": "5e065119",
   "metadata": {},
   "source": [
    "### Save post-level"
   ]
  },
  {
   "cell_type": "code",
   "execution_count": 19,
   "id": "46f2083d",
   "metadata": {},
   "outputs": [],
   "source": [
    "d_dfs_to_save = defaultdict(dict)"
   ]
  },
  {
   "cell_type": "code",
   "execution_count": 19,
   "id": "74c16b79",
   "metadata": {},
   "outputs": [],
   "source": [
    "# %%time\n",
    "# d_dfs_to_save['df_posts_agg_c1']['local'] = (\n",
    "#     path_this_model / f\"df_posts_agg_c1_{datetime.utcnow().strftime('%Y-%m-%d_%H%M')}\"\n",
    "# )\n",
    "\n",
    "# save_pd_df_to_parquet_in_chunks(\n",
    "#     df_posts_agg_c1,\n",
    "#     d_dfs_to_save['df_posts_agg_c1']['local'],\n",
    "#     write_index=False\n",
    "# )\n",
    "\n",
    "# info(f\"  Logging df to mlflow...\")\n",
    "# mlflow.log_artifacts(d_dfs_to_save['df_posts_agg_c1']['local'], artifact_path='df_posts_agg_c1')"
   ]
  },
  {
   "cell_type": "markdown",
   "id": "29a10632",
   "metadata": {},
   "source": [
    "# Aggregate to Subreddit Level"
   ]
  },
  {
   "cell_type": "code",
   "execution_count": 126,
   "id": "a9af873f",
   "metadata": {},
   "outputs": [],
   "source": [
    "# first, figure out how many posts each subreddit has\n",
    "c_post_embedding_count = 'posts_for_embeddings_count'\n",
    "\n",
    "df_posts_for_embeddings = (\n",
    "    df_posts_agg_c1\n",
    "    .groupby(l_ix_sub_level, as_index=False)\n",
    "    .agg(**{c_post_embedding_count: ('post_id', 'nunique')})\n",
    ")\n",
    "# fill subs that have no posts\n",
    "df_posts_for_embeddings = pd.concat(\n",
    "    [\n",
    "        df_posts_for_embeddings, \n",
    "        df_v_subs[l_ix_sub_level].assign(**{c_post_embedding_count: 0})\n",
    "    ],\n",
    "    axis=0\n",
    ")\n",
    "\n",
    "# then, apply rules based on # of posts\n",
    "# 3+ posts: simple mean()\n",
    "\n",
    "# 1-2 posts: 1) append subreddit_desc, 2) apply mean of posts + subreddit_desc\n",
    "\n",
    "# 0 posts: fill in subreddit_desc\n"
   ]
  },
  {
   "cell_type": "code",
   "execution_count": 127,
   "id": "b971701d",
   "metadata": {},
   "outputs": [
    {
     "name": "stdout",
     "output_type": "stream",
     "text": [
      "<class 'pandas.core.frame.DataFrame'>\n",
      "Int64Index: 775227 entries, 0 to 441158\n",
      "Data columns (total 3 columns):\n",
      " #   Column                      Non-Null Count   Dtype \n",
      "---  ------                      --------------   ----- \n",
      " 0   subreddit_id                775227 non-null  object\n",
      " 1   subreddit_name              775227 non-null  object\n",
      " 2   posts_for_embeddings_count  775227 non-null  int64 \n",
      "dtypes: int64(1), object(2)\n",
      "memory usage: 23.7+ MB\n"
     ]
    }
   ],
   "source": [
    "df_posts_for_embeddings.info()"
   ]
  },
  {
   "cell_type": "code",
   "execution_count": 130,
   "id": "f0458c47",
   "metadata": {},
   "outputs": [
    {
     "data": {
      "text/plain": [
       "count    3467.000000\n",
       "mean      148.244303\n",
       "std       743.004199\n",
       "min         1.000000\n",
       "25%         1.000000\n",
       "50%         5.000000\n",
       "75%        29.000000\n",
       "max      8400.000000\n",
       "Name: posts_for_embeddings_count, dtype: float64"
      ]
     },
     "execution_count": 130,
     "metadata": {},
     "output_type": "execute_result"
    }
   ],
   "source": [
    "df_posts_for_embeddings[df_posts_for_embeddings[c_post_embedding_count] >= 1][c_post_embedding_count].describe()"
   ]
  },
  {
   "cell_type": "code",
   "execution_count": 128,
   "id": "770953a2",
   "metadata": {},
   "outputs": [
    {
     "data": {
      "text/html": [
       "<div>\n",
       "<style scoped>\n",
       "    .dataframe tbody tr th:only-of-type {\n",
       "        vertical-align: middle;\n",
       "    }\n",
       "\n",
       "    .dataframe tbody tr th {\n",
       "        vertical-align: top;\n",
       "    }\n",
       "\n",
       "    .dataframe thead th {\n",
       "        text-align: right;\n",
       "    }\n",
       "</style>\n",
       "<table border=\"1\" class=\"dataframe\">\n",
       "  <thead>\n",
       "    <tr style=\"text-align: right;\">\n",
       "      <th></th>\n",
       "      <th>subreddit_id</th>\n",
       "      <th>subreddit_name</th>\n",
       "      <th>posts_for_embeddings_count</th>\n",
       "    </tr>\n",
       "  </thead>\n",
       "  <tbody>\n",
       "    <tr>\n",
       "      <th>0</th>\n",
       "      <td>t5_1001tl</td>\n",
       "      <td>jewel_xo</td>\n",
       "      <td>1</td>\n",
       "    </tr>\n",
       "    <tr>\n",
       "      <th>1</th>\n",
       "      <td>t5_10029e</td>\n",
       "      <td>milkyhentai</td>\n",
       "      <td>1</td>\n",
       "    </tr>\n",
       "    <tr>\n",
       "      <th>2</th>\n",
       "      <td>t5_1006k8</td>\n",
       "      <td>badwouldyourather</td>\n",
       "      <td>1</td>\n",
       "    </tr>\n",
       "    <tr>\n",
       "      <th>3</th>\n",
       "      <td>t5_100806</td>\n",
       "      <td>jojojosiah</td>\n",
       "      <td>2</td>\n",
       "    </tr>\n",
       "    <tr>\n",
       "      <th>4</th>\n",
       "      <td>t5_1009a3</td>\n",
       "      <td>memesenespanol</td>\n",
       "      <td>380</td>\n",
       "    </tr>\n",
       "  </tbody>\n",
       "</table>\n",
       "</div>"
      ],
      "text/plain": [
       "  subreddit_id     subreddit_name  posts_for_embeddings_count\n",
       "0    t5_1001tl           jewel_xo                           1\n",
       "1    t5_10029e        milkyhentai                           1\n",
       "2    t5_1006k8  badwouldyourather                           1\n",
       "3    t5_100806         jojojosiah                           2\n",
       "4    t5_1009a3     memesenespanol                         380"
      ]
     },
     "execution_count": 128,
     "metadata": {},
     "output_type": "execute_result"
    }
   ],
   "source": [
    "df_posts_for_embeddings.head()"
   ]
  },
  {
   "cell_type": "code",
   "execution_count": 129,
   "id": "f7d87a63",
   "metadata": {},
   "outputs": [
    {
     "data": {
      "text/html": [
       "<div>\n",
       "<style scoped>\n",
       "    .dataframe tbody tr th:only-of-type {\n",
       "        vertical-align: middle;\n",
       "    }\n",
       "\n",
       "    .dataframe tbody tr th {\n",
       "        vertical-align: top;\n",
       "    }\n",
       "\n",
       "    .dataframe thead th {\n",
       "        text-align: right;\n",
       "    }\n",
       "</style>\n",
       "<table border=\"1\" class=\"dataframe\">\n",
       "  <thead>\n",
       "    <tr style=\"text-align: right;\">\n",
       "      <th></th>\n",
       "      <th>subreddit_id</th>\n",
       "      <th>subreddit_name</th>\n",
       "      <th>posts_for_embeddings_count</th>\n",
       "    </tr>\n",
       "  </thead>\n",
       "  <tbody>\n",
       "    <tr>\n",
       "      <th>441154</th>\n",
       "      <td>t5_6rmvt7</td>\n",
       "      <td>shaunthebuilder</td>\n",
       "      <td>0</td>\n",
       "    </tr>\n",
       "    <tr>\n",
       "      <th>441155</th>\n",
       "      <td>t5_6e6udp</td>\n",
       "      <td>thedepthsoftokyo</td>\n",
       "      <td>0</td>\n",
       "    </tr>\n",
       "    <tr>\n",
       "      <th>441156</th>\n",
       "      <td>t5_4la7jo</td>\n",
       "      <td>spongebobcringememes</td>\n",
       "      <td>0</td>\n",
       "    </tr>\n",
       "    <tr>\n",
       "      <th>441157</th>\n",
       "      <td>t5_6gghfe</td>\n",
       "      <td>hardddd</td>\n",
       "      <td>0</td>\n",
       "    </tr>\n",
       "    <tr>\n",
       "      <th>441158</th>\n",
       "      <td>t5_6dn0c7</td>\n",
       "      <td>minecraft_heroes</td>\n",
       "      <td>0</td>\n",
       "    </tr>\n",
       "  </tbody>\n",
       "</table>\n",
       "</div>"
      ],
      "text/plain": [
       "       subreddit_id        subreddit_name  posts_for_embeddings_count\n",
       "441154    t5_6rmvt7       shaunthebuilder                           0\n",
       "441155    t5_6e6udp      thedepthsoftokyo                           0\n",
       "441156    t5_4la7jo  spongebobcringememes                           0\n",
       "441157    t5_6gghfe               hardddd                           0\n",
       "441158    t5_6dn0c7      minecraft_heroes                           0"
      ]
     },
     "execution_count": 129,
     "metadata": {},
     "output_type": "execute_result"
    }
   ],
   "source": [
    "df_posts_for_embeddings.tail()"
   ]
  },
  {
   "cell_type": "code",
   "execution_count": 134,
   "id": "f9a8da82",
   "metadata": {},
   "outputs": [
    {
     "data": {
      "text/html": [
       "<div>\n",
       "<style scoped>\n",
       "    .dataframe tbody tr th:only-of-type {\n",
       "        vertical-align: middle;\n",
       "    }\n",
       "\n",
       "    .dataframe tbody tr th {\n",
       "        vertical-align: top;\n",
       "    }\n",
       "\n",
       "    .dataframe thead th {\n",
       "        text-align: right;\n",
       "    }\n",
       "</style>\n",
       "<table border=\"1\" class=\"dataframe\">\n",
       "  <thead>\n",
       "    <tr style=\"text-align: right;\">\n",
       "      <th></th>\n",
       "      <th>subreddit_id</th>\n",
       "      <th>subreddit_name</th>\n",
       "      <th>embeddings_0</th>\n",
       "      <th>embeddings_1</th>\n",
       "      <th>embeddings_2</th>\n",
       "      <th>embeddings_3</th>\n",
       "      <th>embeddings_4</th>\n",
       "      <th>embeddings_5</th>\n",
       "      <th>embeddings_6</th>\n",
       "      <th>embeddings_7</th>\n",
       "      <th>embeddings_8</th>\n",
       "      <th>embeddings_9</th>\n",
       "      <th>embeddings_10</th>\n",
       "      <th>embeddings_11</th>\n",
       "      <th>embeddings_12</th>\n",
       "      <th>embeddings_13</th>\n",
       "      <th>embeddings_14</th>\n",
       "      <th>embeddings_15</th>\n",
       "      <th>embeddings_16</th>\n",
       "      <th>embeddings_17</th>\n",
       "      <th>embeddings_18</th>\n",
       "      <th>embeddings_19</th>\n",
       "      <th>embeddings_20</th>\n",
       "      <th>embeddings_21</th>\n",
       "      <th>embeddings_22</th>\n",
       "      <th>embeddings_23</th>\n",
       "      <th>embeddings_24</th>\n",
       "      <th>embeddings_25</th>\n",
       "      <th>embeddings_26</th>\n",
       "      <th>embeddings_27</th>\n",
       "      <th>...</th>\n",
       "      <th>embeddings_482</th>\n",
       "      <th>embeddings_483</th>\n",
       "      <th>embeddings_484</th>\n",
       "      <th>embeddings_485</th>\n",
       "      <th>embeddings_486</th>\n",
       "      <th>embeddings_487</th>\n",
       "      <th>embeddings_488</th>\n",
       "      <th>embeddings_489</th>\n",
       "      <th>embeddings_490</th>\n",
       "      <th>embeddings_491</th>\n",
       "      <th>embeddings_492</th>\n",
       "      <th>embeddings_493</th>\n",
       "      <th>embeddings_494</th>\n",
       "      <th>embeddings_495</th>\n",
       "      <th>embeddings_496</th>\n",
       "      <th>embeddings_497</th>\n",
       "      <th>embeddings_498</th>\n",
       "      <th>embeddings_499</th>\n",
       "      <th>embeddings_500</th>\n",
       "      <th>embeddings_501</th>\n",
       "      <th>embeddings_502</th>\n",
       "      <th>embeddings_503</th>\n",
       "      <th>embeddings_504</th>\n",
       "      <th>embeddings_505</th>\n",
       "      <th>embeddings_506</th>\n",
       "      <th>embeddings_507</th>\n",
       "      <th>embeddings_508</th>\n",
       "      <th>embeddings_509</th>\n",
       "      <th>embeddings_510</th>\n",
       "      <th>embeddings_511</th>\n",
       "    </tr>\n",
       "  </thead>\n",
       "  <tbody>\n",
       "    <tr>\n",
       "      <th>0</th>\n",
       "      <td>t5_2qh1i</td>\n",
       "      <td>askreddit</td>\n",
       "      <td>0.022789</td>\n",
       "      <td>-0.059892</td>\n",
       "      <td>-0.001451</td>\n",
       "      <td>0.046439</td>\n",
       "      <td>0.066976</td>\n",
       "      <td>0.064597</td>\n",
       "      <td>0.057965</td>\n",
       "      <td>-0.013464</td>\n",
       "      <td>-0.046748</td>\n",
       "      <td>-0.044211</td>\n",
       "      <td>-0.014546</td>\n",
       "      <td>-0.037996</td>\n",
       "      <td>0.028808</td>\n",
       "      <td>-0.060112</td>\n",
       "      <td>0.013253</td>\n",
       "      <td>-0.026466</td>\n",
       "      <td>0.061427</td>\n",
       "      <td>-0.066526</td>\n",
       "      <td>0.031853</td>\n",
       "      <td>0.000255</td>\n",
       "      <td>-0.061490</td>\n",
       "      <td>-0.054536</td>\n",
       "      <td>0.033710</td>\n",
       "      <td>-0.045710</td>\n",
       "      <td>-0.010254</td>\n",
       "      <td>-0.002935</td>\n",
       "      <td>-0.012825</td>\n",
       "      <td>-0.014563</td>\n",
       "      <td>...</td>\n",
       "      <td>-0.052940</td>\n",
       "      <td>0.060304</td>\n",
       "      <td>-0.012639</td>\n",
       "      <td>-0.054029</td>\n",
       "      <td>-0.065171</td>\n",
       "      <td>-0.065921</td>\n",
       "      <td>-0.029465</td>\n",
       "      <td>0.024692</td>\n",
       "      <td>0.021926</td>\n",
       "      <td>-0.041012</td>\n",
       "      <td>-0.061232</td>\n",
       "      <td>0.044805</td>\n",
       "      <td>-0.033858</td>\n",
       "      <td>-0.023948</td>\n",
       "      <td>-0.009575</td>\n",
       "      <td>0.058824</td>\n",
       "      <td>-0.057304</td>\n",
       "      <td>0.012438</td>\n",
       "      <td>-0.040396</td>\n",
       "      <td>0.054599</td>\n",
       "      <td>0.045959</td>\n",
       "      <td>-0.010542</td>\n",
       "      <td>0.034910</td>\n",
       "      <td>0.038669</td>\n",
       "      <td>0.001640</td>\n",
       "      <td>0.064855</td>\n",
       "      <td>0.017133</td>\n",
       "      <td>0.043527</td>\n",
       "      <td>-0.023271</td>\n",
       "      <td>0.065759</td>\n",
       "    </tr>\n",
       "    <tr>\n",
       "      <th>1</th>\n",
       "      <td>t5_2ubgg</td>\n",
       "      <td>mildlyinfuriating</td>\n",
       "      <td>0.035654</td>\n",
       "      <td>0.031603</td>\n",
       "      <td>0.068379</td>\n",
       "      <td>0.057360</td>\n",
       "      <td>0.037998</td>\n",
       "      <td>0.048036</td>\n",
       "      <td>0.031026</td>\n",
       "      <td>0.002395</td>\n",
       "      <td>0.017303</td>\n",
       "      <td>0.044306</td>\n",
       "      <td>0.021372</td>\n",
       "      <td>-0.012552</td>\n",
       "      <td>-0.012714</td>\n",
       "      <td>0.045416</td>\n",
       "      <td>-0.066230</td>\n",
       "      <td>-0.001657</td>\n",
       "      <td>0.011504</td>\n",
       "      <td>-0.039013</td>\n",
       "      <td>0.054168</td>\n",
       "      <td>-0.017587</td>\n",
       "      <td>-0.068444</td>\n",
       "      <td>-0.074627</td>\n",
       "      <td>0.018681</td>\n",
       "      <td>0.063553</td>\n",
       "      <td>0.003351</td>\n",
       "      <td>-0.014084</td>\n",
       "      <td>0.027576</td>\n",
       "      <td>-0.071292</td>\n",
       "      <td>...</td>\n",
       "      <td>-0.050256</td>\n",
       "      <td>-0.036606</td>\n",
       "      <td>-0.060719</td>\n",
       "      <td>-0.071781</td>\n",
       "      <td>-0.030471</td>\n",
       "      <td>-0.074615</td>\n",
       "      <td>0.062072</td>\n",
       "      <td>-0.050490</td>\n",
       "      <td>-0.010802</td>\n",
       "      <td>0.025156</td>\n",
       "      <td>0.045255</td>\n",
       "      <td>0.046165</td>\n",
       "      <td>0.042267</td>\n",
       "      <td>-0.020638</td>\n",
       "      <td>-0.059023</td>\n",
       "      <td>-0.029685</td>\n",
       "      <td>-0.021343</td>\n",
       "      <td>-0.041109</td>\n",
       "      <td>-0.010315</td>\n",
       "      <td>0.013957</td>\n",
       "      <td>-0.000502</td>\n",
       "      <td>0.023802</td>\n",
       "      <td>-0.068301</td>\n",
       "      <td>0.004283</td>\n",
       "      <td>-0.024348</td>\n",
       "      <td>0.004078</td>\n",
       "      <td>-0.009777</td>\n",
       "      <td>-0.038842</td>\n",
       "      <td>0.042836</td>\n",
       "      <td>0.052957</td>\n",
       "    </tr>\n",
       "    <tr>\n",
       "      <th>2</th>\n",
       "      <td>t5_2qh33</td>\n",
       "      <td>funny</td>\n",
       "      <td>0.062798</td>\n",
       "      <td>-0.063764</td>\n",
       "      <td>-0.011798</td>\n",
       "      <td>-0.017510</td>\n",
       "      <td>0.066221</td>\n",
       "      <td>0.052268</td>\n",
       "      <td>0.023606</td>\n",
       "      <td>0.062803</td>\n",
       "      <td>-0.056540</td>\n",
       "      <td>-0.014388</td>\n",
       "      <td>-0.061934</td>\n",
       "      <td>-0.040253</td>\n",
       "      <td>0.021859</td>\n",
       "      <td>-0.032234</td>\n",
       "      <td>-0.054955</td>\n",
       "      <td>0.000749</td>\n",
       "      <td>-0.029629</td>\n",
       "      <td>-0.064663</td>\n",
       "      <td>0.062429</td>\n",
       "      <td>-0.059817</td>\n",
       "      <td>-0.058802</td>\n",
       "      <td>-0.061951</td>\n",
       "      <td>0.044884</td>\n",
       "      <td>0.048427</td>\n",
       "      <td>-0.050783</td>\n",
       "      <td>-0.030948</td>\n",
       "      <td>-0.000821</td>\n",
       "      <td>0.006162</td>\n",
       "      <td>...</td>\n",
       "      <td>0.004339</td>\n",
       "      <td>0.020120</td>\n",
       "      <td>-0.066478</td>\n",
       "      <td>-0.034199</td>\n",
       "      <td>0.034718</td>\n",
       "      <td>-0.065102</td>\n",
       "      <td>-0.028542</td>\n",
       "      <td>0.052982</td>\n",
       "      <td>0.034749</td>\n",
       "      <td>-0.029207</td>\n",
       "      <td>0.045916</td>\n",
       "      <td>-0.005312</td>\n",
       "      <td>-0.048881</td>\n",
       "      <td>-0.031554</td>\n",
       "      <td>0.004063</td>\n",
       "      <td>0.051525</td>\n",
       "      <td>0.001364</td>\n",
       "      <td>0.026816</td>\n",
       "      <td>-0.013560</td>\n",
       "      <td>-0.004556</td>\n",
       "      <td>-0.029917</td>\n",
       "      <td>-0.011541</td>\n",
       "      <td>-0.062910</td>\n",
       "      <td>0.025208</td>\n",
       "      <td>0.030484</td>\n",
       "      <td>0.030693</td>\n",
       "      <td>0.018124</td>\n",
       "      <td>-0.060697</td>\n",
       "      <td>0.033602</td>\n",
       "      <td>0.054727</td>\n",
       "    </tr>\n",
       "    <tr>\n",
       "      <th>3</th>\n",
       "      <td>t5_2y77d</td>\n",
       "      <td>antiwork</td>\n",
       "      <td>-0.036583</td>\n",
       "      <td>0.056425</td>\n",
       "      <td>0.052511</td>\n",
       "      <td>0.001249</td>\n",
       "      <td>0.033096</td>\n",
       "      <td>0.015373</td>\n",
       "      <td>0.028894</td>\n",
       "      <td>-0.038881</td>\n",
       "      <td>0.050351</td>\n",
       "      <td>-0.014261</td>\n",
       "      <td>0.035479</td>\n",
       "      <td>0.001364</td>\n",
       "      <td>-0.035047</td>\n",
       "      <td>-0.025128</td>\n",
       "      <td>-0.067778</td>\n",
       "      <td>0.050507</td>\n",
       "      <td>0.061732</td>\n",
       "      <td>-0.045989</td>\n",
       "      <td>-0.062415</td>\n",
       "      <td>0.044178</td>\n",
       "      <td>0.062185</td>\n",
       "      <td>-0.063504</td>\n",
       "      <td>0.065321</td>\n",
       "      <td>-0.047625</td>\n",
       "      <td>-0.052710</td>\n",
       "      <td>0.003137</td>\n",
       "      <td>-0.039466</td>\n",
       "      <td>-0.067172</td>\n",
       "      <td>...</td>\n",
       "      <td>-0.043989</td>\n",
       "      <td>-0.012928</td>\n",
       "      <td>-0.064315</td>\n",
       "      <td>-0.044713</td>\n",
       "      <td>-0.036838</td>\n",
       "      <td>-0.068507</td>\n",
       "      <td>0.015802</td>\n",
       "      <td>-0.026234</td>\n",
       "      <td>-0.006225</td>\n",
       "      <td>0.060826</td>\n",
       "      <td>0.053683</td>\n",
       "      <td>-0.034692</td>\n",
       "      <td>0.032022</td>\n",
       "      <td>0.020280</td>\n",
       "      <td>-0.019914</td>\n",
       "      <td>0.020297</td>\n",
       "      <td>-0.016520</td>\n",
       "      <td>-0.021231</td>\n",
       "      <td>0.032348</td>\n",
       "      <td>-0.019186</td>\n",
       "      <td>-0.025301</td>\n",
       "      <td>0.033985</td>\n",
       "      <td>-0.054834</td>\n",
       "      <td>0.010192</td>\n",
       "      <td>-0.022206</td>\n",
       "      <td>-0.014984</td>\n",
       "      <td>-0.052996</td>\n",
       "      <td>-0.029742</td>\n",
       "      <td>-0.032605</td>\n",
       "      <td>0.062173</td>\n",
       "    </tr>\n",
       "    <tr>\n",
       "      <th>4</th>\n",
       "      <td>t5_2qh3l</td>\n",
       "      <td>news</td>\n",
       "      <td>-0.048809</td>\n",
       "      <td>0.061595</td>\n",
       "      <td>0.045624</td>\n",
       "      <td>0.007804</td>\n",
       "      <td>0.072698</td>\n",
       "      <td>0.035929</td>\n",
       "      <td>0.063459</td>\n",
       "      <td>0.054612</td>\n",
       "      <td>-0.011245</td>\n",
       "      <td>0.070547</td>\n",
       "      <td>-0.031765</td>\n",
       "      <td>-0.057275</td>\n",
       "      <td>0.055175</td>\n",
       "      <td>-0.003909</td>\n",
       "      <td>-0.047737</td>\n",
       "      <td>0.011671</td>\n",
       "      <td>0.017775</td>\n",
       "      <td>-0.047829</td>\n",
       "      <td>-0.044221</td>\n",
       "      <td>-0.007286</td>\n",
       "      <td>0.016210</td>\n",
       "      <td>0.017299</td>\n",
       "      <td>0.011912</td>\n",
       "      <td>0.053568</td>\n",
       "      <td>-0.057371</td>\n",
       "      <td>0.036779</td>\n",
       "      <td>0.059203</td>\n",
       "      <td>-0.058659</td>\n",
       "      <td>...</td>\n",
       "      <td>0.033511</td>\n",
       "      <td>-0.008072</td>\n",
       "      <td>-0.040351</td>\n",
       "      <td>-0.041777</td>\n",
       "      <td>0.000349</td>\n",
       "      <td>-0.074678</td>\n",
       "      <td>-0.014992</td>\n",
       "      <td>0.069233</td>\n",
       "      <td>0.013040</td>\n",
       "      <td>-0.053166</td>\n",
       "      <td>0.044095</td>\n",
       "      <td>0.015649</td>\n",
       "      <td>-0.066042</td>\n",
       "      <td>0.037967</td>\n",
       "      <td>0.050074</td>\n",
       "      <td>0.058147</td>\n",
       "      <td>-0.062874</td>\n",
       "      <td>-0.009892</td>\n",
       "      <td>-0.015297</td>\n",
       "      <td>0.029885</td>\n",
       "      <td>0.013304</td>\n",
       "      <td>-0.042156</td>\n",
       "      <td>-0.036750</td>\n",
       "      <td>-0.030743</td>\n",
       "      <td>0.064008</td>\n",
       "      <td>0.018819</td>\n",
       "      <td>0.036405</td>\n",
       "      <td>-0.073308</td>\n",
       "      <td>-0.042354</td>\n",
       "      <td>0.074897</td>\n",
       "    </tr>\n",
       "  </tbody>\n",
       "</table>\n",
       "<p>5 rows × 514 columns</p>\n",
       "</div>"
      ],
      "text/plain": [
       "  subreddit_id     subreddit_name  embeddings_0  embeddings_1  embeddings_2  embeddings_3  embeddings_4  embeddings_5  embeddings_6  embeddings_7  embeddings_8  embeddings_9  embeddings_10  embeddings_11  embeddings_12  embeddings_13  embeddings_14  embeddings_15  embeddings_16  embeddings_17  \\\n",
       "0     t5_2qh1i          askreddit      0.022789     -0.059892     -0.001451      0.046439      0.066976      0.064597      0.057965     -0.013464     -0.046748     -0.044211      -0.014546      -0.037996       0.028808      -0.060112       0.013253      -0.026466       0.061427      -0.066526   \n",
       "1     t5_2ubgg  mildlyinfuriating      0.035654      0.031603      0.068379      0.057360      0.037998      0.048036      0.031026      0.002395      0.017303      0.044306       0.021372      -0.012552      -0.012714       0.045416      -0.066230      -0.001657       0.011504      -0.039013   \n",
       "2     t5_2qh33              funny      0.062798     -0.063764     -0.011798     -0.017510      0.066221      0.052268      0.023606      0.062803     -0.056540     -0.014388      -0.061934      -0.040253       0.021859      -0.032234      -0.054955       0.000749      -0.029629      -0.064663   \n",
       "3     t5_2y77d           antiwork     -0.036583      0.056425      0.052511      0.001249      0.033096      0.015373      0.028894     -0.038881      0.050351     -0.014261       0.035479       0.001364      -0.035047      -0.025128      -0.067778       0.050507       0.061732      -0.045989   \n",
       "4     t5_2qh3l               news     -0.048809      0.061595      0.045624      0.007804      0.072698      0.035929      0.063459      0.054612     -0.011245      0.070547      -0.031765      -0.057275       0.055175      -0.003909      -0.047737       0.011671       0.017775      -0.047829   \n",
       "\n",
       "   embeddings_18  embeddings_19  embeddings_20  embeddings_21  embeddings_22  embeddings_23  embeddings_24  embeddings_25  embeddings_26  embeddings_27  ...  embeddings_482  embeddings_483  embeddings_484  embeddings_485  embeddings_486  embeddings_487  embeddings_488  embeddings_489  \\\n",
       "0       0.031853       0.000255      -0.061490      -0.054536       0.033710      -0.045710      -0.010254      -0.002935      -0.012825      -0.014563  ...       -0.052940        0.060304       -0.012639       -0.054029       -0.065171       -0.065921       -0.029465        0.024692   \n",
       "1       0.054168      -0.017587      -0.068444      -0.074627       0.018681       0.063553       0.003351      -0.014084       0.027576      -0.071292  ...       -0.050256       -0.036606       -0.060719       -0.071781       -0.030471       -0.074615        0.062072       -0.050490   \n",
       "2       0.062429      -0.059817      -0.058802      -0.061951       0.044884       0.048427      -0.050783      -0.030948      -0.000821       0.006162  ...        0.004339        0.020120       -0.066478       -0.034199        0.034718       -0.065102       -0.028542        0.052982   \n",
       "3      -0.062415       0.044178       0.062185      -0.063504       0.065321      -0.047625      -0.052710       0.003137      -0.039466      -0.067172  ...       -0.043989       -0.012928       -0.064315       -0.044713       -0.036838       -0.068507        0.015802       -0.026234   \n",
       "4      -0.044221      -0.007286       0.016210       0.017299       0.011912       0.053568      -0.057371       0.036779       0.059203      -0.058659  ...        0.033511       -0.008072       -0.040351       -0.041777        0.000349       -0.074678       -0.014992        0.069233   \n",
       "\n",
       "   embeddings_490  embeddings_491  embeddings_492  embeddings_493  embeddings_494  embeddings_495  embeddings_496  embeddings_497  embeddings_498  embeddings_499  embeddings_500  embeddings_501  embeddings_502  embeddings_503  embeddings_504  embeddings_505  embeddings_506  embeddings_507  \\\n",
       "0        0.021926       -0.041012       -0.061232        0.044805       -0.033858       -0.023948       -0.009575        0.058824       -0.057304        0.012438       -0.040396        0.054599        0.045959       -0.010542        0.034910        0.038669        0.001640        0.064855   \n",
       "1       -0.010802        0.025156        0.045255        0.046165        0.042267       -0.020638       -0.059023       -0.029685       -0.021343       -0.041109       -0.010315        0.013957       -0.000502        0.023802       -0.068301        0.004283       -0.024348        0.004078   \n",
       "2        0.034749       -0.029207        0.045916       -0.005312       -0.048881       -0.031554        0.004063        0.051525        0.001364        0.026816       -0.013560       -0.004556       -0.029917       -0.011541       -0.062910        0.025208        0.030484        0.030693   \n",
       "3       -0.006225        0.060826        0.053683       -0.034692        0.032022        0.020280       -0.019914        0.020297       -0.016520       -0.021231        0.032348       -0.019186       -0.025301        0.033985       -0.054834        0.010192       -0.022206       -0.014984   \n",
       "4        0.013040       -0.053166        0.044095        0.015649       -0.066042        0.037967        0.050074        0.058147       -0.062874       -0.009892       -0.015297        0.029885        0.013304       -0.042156       -0.036750       -0.030743        0.064008        0.018819   \n",
       "\n",
       "   embeddings_508  embeddings_509  embeddings_510  embeddings_511  \n",
       "0        0.017133        0.043527       -0.023271        0.065759  \n",
       "1       -0.009777       -0.038842        0.042836        0.052957  \n",
       "2        0.018124       -0.060697        0.033602        0.054727  \n",
       "3       -0.052996       -0.029742       -0.032605        0.062173  \n",
       "4        0.036405       -0.073308       -0.042354        0.074897  \n",
       "\n",
       "[5 rows x 514 columns]"
      ]
     },
     "execution_count": 134,
     "metadata": {},
     "output_type": "execute_result"
    }
   ],
   "source": [
    "df_v_subs.head()"
   ]
  },
  {
   "cell_type": "code",
   "execution_count": 142,
   "id": "07bf553e",
   "metadata": {},
   "outputs": [
    {
     "name": "stderr",
     "output_type": "stream",
     "text": [
      "06:58:26 | INFO | \"Count posts per subreddit...\"\n",
      "06:58:27 | INFO | \"SUBREDDIT-LEVEL C1 - posts + comments + sub descriptions\"\n",
      "06:58:27 | INFO | \"Mean for subs above threshold: 3\"\n",
      "06:58:30 | INFO | \"Calculating mean for subs BELOW post threshold...\"\n",
      "06:58:49 | INFO | \"Combining all subreddits...\"\n",
      "06:59:00 | INFO | \"  0:00:32.975905 <- Total Agg fxn time time elapsed\"\n",
      "06:59:00 | INFO | \"  <- df_subs_agg_c1.shape (posts + comments + sub description)\"\n"
     ]
    },
    {
     "name": "stdout",
     "output_type": "stream",
     "text": [
      "775,227 rows, 515 cols\n"
     ]
    },
    {
     "name": "stderr",
     "output_type": "stream",
     "text": [
      "06:59:00 | INFO | \"RAM stats:\n",
      "{'memory_used_percent': '3.04%', 'memory_used': '43,936'}\"\n"
     ]
    },
    {
     "name": "stdout",
     "output_type": "stream",
     "text": [
      "CPU times: user 27.3 s, sys: 6.53 s, total: 33.8 s\n",
      "Wall time: 34.2 s\n"
     ]
    },
    {
     "data": {
      "text/plain": [
       "{'memory_used_percent': 0.030406356988181688, 'memory_used': 43936}"
      ]
     },
     "execution_count": 142,
     "metadata": {},
     "output_type": "execute_result"
    }
   ],
   "source": [
    "%%time\n",
    "\n",
    "# first, figure out how many posts each subreddit has\n",
    "info(f\"Count posts per subreddit...\")\n",
    "c_post_embedding_count = 'posts_for_embeddings_count'\n",
    "\n",
    "\n",
    "df_posts_for_embedding_count = (\n",
    "    df_posts_agg_c1\n",
    "    .groupby(l_ix_sub_level, as_index=False)\n",
    "    .agg(**{c_post_embedding_count: ('post_id', 'nunique')})\n",
    ")\n",
    "# fill subs that have no posts\n",
    "df_posts_for_embedding_count = pd.concat(\n",
    "    [\n",
    "        df_posts_for_embedding_count, \n",
    "        df_v_subs[l_ix_sub_level].assign(**{c_post_embedding_count: 0})\n",
    "    ],\n",
    "    axis=0\n",
    ")\n",
    "\n",
    "# min_posts >= -> regular mean. If it's less than this, then mix in subreddit_description into average\n",
    "n_min_posts_for_regular_mean = 3\n",
    "subreddits_above_n_ = (\n",
    "    df_posts_for_embeddings\n",
    "    [df_posts_for_embeddings[c_post_embedding_count] >= n_min_posts_for_regular_mean]\n",
    "    ['subreddit_id']\n",
    ")\n",
    "subreddits_below_n_ = set(df_v_subs['subreddit_id']) - set(subreddits_above_n_)\n",
    "mask_min_posts_for_reg_mean = df_posts_agg_c1['subreddit_id'].isin(subreddits_above_n_)\n",
    "\n",
    "\n",
    "info(f\"SUBREDDIT-LEVEL C1 - posts + comments + sub descriptions\")\n",
    "t_start_agg_subs_c1 = datetime.utcnow()\n",
    "\n",
    "# 3+ posts: simple mean()\n",
    "info(f\"Mean for subs above threshold: {n_min_posts_for_regular_mean}\")\n",
    "df_subs_agg_c1_Nplus = (\n",
    "    df_posts_agg_c1[mask_min_posts_for_reg_mean]\n",
    "    .groupby(l_ix_sub_level, as_index=False)\n",
    "    .mean()\n",
    ")\n",
    "\n",
    "# calculate mean for all other subs: add UNWEIGHTED subreddit_description into averages\n",
    "info(f\"Calculating mean for subs BELOW post threshold...\")\n",
    "df_subs_agg_c1_Nbelow = (\n",
    "    pd.concat(\n",
    "        [\n",
    "            df_posts_agg_c1[~mask_min_posts_for_reg_mean],\n",
    "            df_v_subs[df_v_subs['subreddit_id'].isin(subreddits_below_n_)]\n",
    "        ]\n",
    "    )\n",
    "    .groupby(l_ix_sub_level, as_index=False)\n",
    "    .mean()\n",
    ")\n",
    "info(f\"Combining all subreddits...\")\n",
    "df_subs_agg_c1 = (\n",
    "    df_posts_for_embedding_count\n",
    "    .merge(\n",
    "        pd.concat([df_subs_agg_c1_Nplus, df_subs_agg_c1_Nbelow]),\n",
    "        how='outer',\n",
    "        on=l_ix_sub_level\n",
    "    )\n",
    "    .sort_values(by=l_ix_sub_level)\n",
    ")\n",
    "\n",
    "r_, c_ = df_subs_agg_c1.shape\n",
    "mlflow.log_metrics(\n",
    "    {\n",
    "        f\"df_subs_agg_c1-rows\": r_,\n",
    "        f\"df_subs_agg_c1-cols\": c_,\n",
    "    }\n",
    ")\n",
    "print(f\"{r_:,.0f} rows, {c_:,.0f} cols\")\n",
    "del r_, c_\n",
    "\n",
    "t_agg_subs_c1 = elapsed_time(start_time=t_start_agg_subs_c1, log_label='Total Agg fxn time', verbose=True)\n",
    "mlflow.log_metric('time_fxn-df_subs_agg_c1',\n",
    "                  t_agg_subs_c1 / timedelta(minutes=1)\n",
    "                  )\n",
    "info(f\"  <- df_subs_agg_c1.shape (posts + comments + sub description)\")\n",
    "mlf.log_ram_stats(only_memory_used=True)"
   ]
  },
  {
   "cell_type": "code",
   "execution_count": 143,
   "id": "c3855e51",
   "metadata": {},
   "outputs": [
    {
     "data": {
      "text/html": [
       "<div>\n",
       "<style scoped>\n",
       "    .dataframe tbody tr th:only-of-type {\n",
       "        vertical-align: middle;\n",
       "    }\n",
       "\n",
       "    .dataframe tbody tr th {\n",
       "        vertical-align: top;\n",
       "    }\n",
       "\n",
       "    .dataframe thead th {\n",
       "        text-align: right;\n",
       "    }\n",
       "</style>\n",
       "<table border=\"1\" class=\"dataframe\">\n",
       "  <thead>\n",
       "    <tr style=\"text-align: right;\">\n",
       "      <th></th>\n",
       "      <th>subreddit_id</th>\n",
       "      <th>subreddit_name</th>\n",
       "      <th>posts_for_embeddings_count</th>\n",
       "      <th>embeddings_0</th>\n",
       "      <th>embeddings_1</th>\n",
       "      <th>embeddings_2</th>\n",
       "      <th>embeddings_3</th>\n",
       "      <th>embeddings_4</th>\n",
       "      <th>embeddings_5</th>\n",
       "      <th>embeddings_6</th>\n",
       "    </tr>\n",
       "  </thead>\n",
       "  <tbody>\n",
       "    <tr>\n",
       "      <th>153860</th>\n",
       "      <td>t5_zzsmq</td>\n",
       "      <td>floridamanatheart</td>\n",
       "      <td>0</td>\n",
       "      <td>-0.003054</td>\n",
       "      <td>0.041708</td>\n",
       "      <td>-0.054448</td>\n",
       "      <td>0.050554</td>\n",
       "      <td>0.039986</td>\n",
       "      <td>0.026442</td>\n",
       "      <td>-0.013792</td>\n",
       "    </tr>\n",
       "    <tr>\n",
       "      <th>35803</th>\n",
       "      <td>t5_zzszh</td>\n",
       "      <td>circumcisiongrief</td>\n",
       "      <td>0</td>\n",
       "      <td>-0.016152</td>\n",
       "      <td>0.052365</td>\n",
       "      <td>-0.029968</td>\n",
       "      <td>0.045438</td>\n",
       "      <td>0.052287</td>\n",
       "      <td>0.040738</td>\n",
       "      <td>-0.013399</td>\n",
       "    </tr>\n",
       "    <tr>\n",
       "      <th>100710</th>\n",
       "      <td>t5_zzw6f</td>\n",
       "      <td>missourisingles</td>\n",
       "      <td>0</td>\n",
       "      <td>0.016408</td>\n",
       "      <td>-0.042155</td>\n",
       "      <td>-0.012844</td>\n",
       "      <td>0.036364</td>\n",
       "      <td>0.026492</td>\n",
       "      <td>0.037414</td>\n",
       "      <td>0.060839</td>\n",
       "    </tr>\n",
       "    <tr>\n",
       "      <th>383226</th>\n",
       "      <td>t5_zzw7y</td>\n",
       "      <td>geofssim</td>\n",
       "      <td>0</td>\n",
       "      <td>-0.042752</td>\n",
       "      <td>0.071976</td>\n",
       "      <td>-0.052646</td>\n",
       "      <td>-0.083755</td>\n",
       "      <td>-0.032280</td>\n",
       "      <td>0.000086</td>\n",
       "      <td>0.003680</td>\n",
       "    </tr>\n",
       "    <tr>\n",
       "      <th>144759</th>\n",
       "      <td>t5_zzwrs</td>\n",
       "      <td>hypnosisisbs</td>\n",
       "      <td>0</td>\n",
       "      <td>0.014406</td>\n",
       "      <td>-0.054694</td>\n",
       "      <td>-0.001471</td>\n",
       "      <td>-0.045701</td>\n",
       "      <td>0.056930</td>\n",
       "      <td>0.056256</td>\n",
       "      <td>-0.057434</td>\n",
       "    </tr>\n",
       "    <tr>\n",
       "      <th>339276</th>\n",
       "      <td>t5_zzyg0</td>\n",
       "      <td>creepyscarystories</td>\n",
       "      <td>0</td>\n",
       "      <td>0.017779</td>\n",
       "      <td>0.039140</td>\n",
       "      <td>0.035190</td>\n",
       "      <td>0.012290</td>\n",
       "      <td>0.056131</td>\n",
       "      <td>0.063757</td>\n",
       "      <td>0.053728</td>\n",
       "    </tr>\n",
       "    <tr>\n",
       "      <th>465011</th>\n",
       "      <td>t5_zzze9</td>\n",
       "      <td>demonmemes</td>\n",
       "      <td>0</td>\n",
       "      <td>-0.043147</td>\n",
       "      <td>-0.073882</td>\n",
       "      <td>-0.074882</td>\n",
       "      <td>0.004195</td>\n",
       "      <td>0.037517</td>\n",
       "      <td>0.055640</td>\n",
       "      <td>-0.048743</td>\n",
       "    </tr>\n",
       "    <tr>\n",
       "      <th>502502</th>\n",
       "      <td>t5_zzzyw</td>\n",
       "      <td>rachelnicki</td>\n",
       "      <td>0</td>\n",
       "      <td>-0.050092</td>\n",
       "      <td>-0.033809</td>\n",
       "      <td>-0.033280</td>\n",
       "      <td>0.019984</td>\n",
       "      <td>0.050981</td>\n",
       "      <td>0.060070</td>\n",
       "      <td>0.047383</td>\n",
       "    </tr>\n",
       "  </tbody>\n",
       "</table>\n",
       "</div>"
      ],
      "text/plain": [
       "       subreddit_id      subreddit_name  posts_for_embeddings_count  embeddings_0  embeddings_1  embeddings_2  embeddings_3  embeddings_4  embeddings_5  embeddings_6\n",
       "153860     t5_zzsmq   floridamanatheart                           0     -0.003054      0.041708     -0.054448      0.050554      0.039986      0.026442     -0.013792\n",
       "35803      t5_zzszh   circumcisiongrief                           0     -0.016152      0.052365     -0.029968      0.045438      0.052287      0.040738     -0.013399\n",
       "100710     t5_zzw6f     missourisingles                           0      0.016408     -0.042155     -0.012844      0.036364      0.026492      0.037414      0.060839\n",
       "383226     t5_zzw7y            geofssim                           0     -0.042752      0.071976     -0.052646     -0.083755     -0.032280      0.000086      0.003680\n",
       "144759     t5_zzwrs        hypnosisisbs                           0      0.014406     -0.054694     -0.001471     -0.045701      0.056930      0.056256     -0.057434\n",
       "339276     t5_zzyg0  creepyscarystories                           0      0.017779      0.039140      0.035190      0.012290      0.056131      0.063757      0.053728\n",
       "465011     t5_zzze9          demonmemes                           0     -0.043147     -0.073882     -0.074882      0.004195      0.037517      0.055640     -0.048743\n",
       "502502     t5_zzzyw         rachelnicki                           0     -0.050092     -0.033809     -0.033280      0.019984      0.050981      0.060070      0.047383"
      ]
     },
     "execution_count": 143,
     "metadata": {},
     "output_type": "execute_result"
    }
   ],
   "source": [
    "df_subs_agg_c1.iloc[-8:, :10]"
   ]
  },
  {
   "cell_type": "markdown",
   "id": "45e54dc3",
   "metadata": {},
   "source": [
    "### Save Subreddit level\n",
    "\n",
    "This one we can save as a pandas df, no need to split it into multiple files"
   ]
  },
  {
   "cell_type": "code",
   "execution_count": 23,
   "id": "06eea0a2",
   "metadata": {},
   "outputs": [
    {
     "name": "stdout",
     "output_type": "stream",
     "text": [
      "CPU times: user 2.46 s, sys: 363 ms, total: 2.82 s\n",
      "Wall time: 2.53 s\n"
     ]
    }
   ],
   "source": [
    "%%time\n",
    "df_subs_agg_c1.to_parquet(\n",
    "    path_this_model / f\"df_subs_agg_c1-{datetime.utcnow().strftime('%Y-%m-%d_%H%M')}.parquet\"\n",
    ")"
   ]
  },
  {
   "cell_type": "code",
   "execution_count": 24,
   "id": "926591b7",
   "metadata": {},
   "outputs": [
    {
     "name": "stderr",
     "output_type": "stream",
     "text": [
      "14:36:54 | INFO | \"Converting pandas to dask...\"\n",
      "14:36:54 | INFO | \"   171.2 MB <- Memory usage\"\n",
      "14:36:54 | INFO | \"       1\t<- target Dask partitions\t  350.0 <- target MB partition size\"\n",
      "14:36:57 | INFO | \"  Logging df to mlflow...\"\n"
     ]
    },
    {
     "name": "stdout",
     "output_type": "stream",
     "text": [
      "CPU times: user 2.82 s, sys: 428 ms, total: 3.25 s\n",
      "Wall time: 5.22 s\n"
     ]
    }
   ],
   "source": [
    "%%time\n",
    "d_dfs_to_save['df_subs_agg_c1']['local'] = (\n",
    "    path_this_model / f\"df_subs_agg_c1{datetime.utcnow().strftime('%Y-%m-%d_%H%M')}\"\n",
    ")\n",
    "\n",
    "save_pd_df_to_parquet_in_chunks(\n",
    "    df_subs_agg_c1,\n",
    "    d_dfs_to_save['df_subs_agg_c1']['local'],\n",
    "    write_index=False\n",
    ")\n",
    "\n",
    "info(f\"  Logging df to mlflow...\")\n",
    "mlflow.log_artifacts(d_dfs_to_save['df_subs_agg_c1']['local'], artifact_path='df_subs_agg_c1')"
   ]
  },
  {
   "cell_type": "code",
   "execution_count": 25,
   "id": "076b541a",
   "metadata": {},
   "outputs": [
    {
     "name": "stderr",
     "output_type": "stream",
     "text": [
      "14:36:59 | INFO | \"  2:54:43.728899 <- Total Agg fxn time time elapsed\"\n"
     ]
    }
   ],
   "source": [
    "# finish logging total time + end mlflow run\n",
    "total_fxn_time = elapsed_time(start_time=t_start_agg_embed, log_label='Total Agg fxn time', verbose=True)\n",
    "mlflow.log_metric('time_fxn-full_aggregation_fxn_minutes',\n",
    "                  total_fxn_time / timedelta(minutes=1)\n",
    "                  )\n",
    "mlflow.end_run()"
   ]
  },
  {
   "cell_type": "code",
   "execution_count": null,
   "id": "66b6dcad",
   "metadata": {},
   "outputs": [],
   "source": []
  },
  {
   "cell_type": "code",
   "execution_count": 132,
   "id": "457044b0",
   "metadata": {},
   "outputs": [],
   "source": [
    "mlflow.end_run(\"FAILED\")"
   ]
  }
 ],
 "metadata": {
  "environment": {
   "name": "common-cpu.m65",
   "type": "gcloud",
   "uri": "gcr.io/deeplearning-platform-release/base-cpu:m65"
  },
  "kernelspec": {
   "display_name": "Python [conda env:root] *",
   "language": "python",
   "name": "conda-root-py"
  },
  "language_info": {
   "codemirror_mode": {
    "name": "ipython",
    "version": 3
   },
   "file_extension": ".py",
   "mimetype": "text/x-python",
   "name": "python",
   "nbconvert_exporter": "python",
   "pygments_lexer": "ipython3",
   "version": "3.7.10"
  }
 },
 "nbformat": 4,
 "nbformat_minor": 5
}
