{
 "cells": [
  {
   "cell_type": "markdown",
   "id": "0ee3ce43",
   "metadata": {},
   "source": [
    "# Purpose\n",
    "\n",
    "**2022-08-30: v0.6.0**\n",
    "The default parquet embedding format for my embeddings (1 row per column) is not favored for bigquery & other steam standards.\n",
    "\n",
    "The preferred format is: 1 column that has repeated records. For example:\n",
    "- `data-prod-165221.ml_content.subreddit_embeddings_ft2` \n",
    "    - [console link](https://console.cloud.google.com/bigquery?project=data-science-prod-218515&ws=!1m10!1m4!4m3!1sdata-prod-165221!2sml_content!3ssimilar_subreddit_ft2!1m4!4m3!1sdata-prod-165221!2sml_content!3ssubreddit_embeddings_ft2)\n",
    "    - github link\n",
    "        - https://github.snooguts.net/reddit/gazette-models/blob/master/similar_subreddit/embeddings/__main__.py#L105-L112\n",
    "\n",
    "In this notebook we convert a dataframe into a new-line delimited JSON file. \n",
    "<br>With pandas we can vectorize this function instead of having to loop through each row (subreddit) individually.\n",
    "\n",
    "In this notebook we're loading 2 separate embedding flavors based on the `embeddings_artifact_path` and loading to the BQ in two separate partitions.\n",
    "\n",
    "---\n",
    "\n",
    "```python\n",
    "sr_embedding_dict = {\n",
    "    \"pt\": date_today,\n",
    "    \"model_name\": MODEL_NAME,\n",
    "    \"model_version\": MODEL_VERSION,\n",
    "    \"subreddit_id\": sr_dict[\"subreddit_id\"],\n",
    "    \"subreddit_name\": subreddit_name_lowercase,\n",
    "    \"embedding\": sr_embedding.tolist(),\n",
    "}\n",
    "```\n",
    "\n",
    "In BQ:\n",
    "```\n",
    "Field name\t\tType\tMode\t\tDescription\n",
    "model_name  \tSTRING\tNULLABLE\t\tModel name\t\n",
    "model_version\tSTRING\tNULLABLE\t\tModel version\t\n",
    "subreddit_id\tSTRING\tNULLABLE\t\tSubreddit id\t\n",
    "subreddit_name\tSTRING\tNULLABLE\t\tLower case subreddit name\t\n",
    "**embedding\t\tFLOAT\tREPEATED\t\tSubreddit embeddings\n",
    "```"
   ]
  },
  {
   "cell_type": "markdown",
   "id": "68aaef67",
   "metadata": {},
   "source": [
    "# Notebook setup"
   ]
  },
  {
   "cell_type": "code",
   "execution_count": 1,
   "id": "708d8ccf",
   "metadata": {},
   "outputs": [],
   "source": [
    "%load_ext autoreload\n",
    "%autoreload 2"
   ]
  },
  {
   "cell_type": "code",
   "execution_count": 4,
   "id": "da12fe7f",
   "metadata": {},
   "outputs": [
    {
     "name": "stdout",
     "output_type": "stream",
     "text": [
      "python\t\tv 3.7.10\n",
      "===\n",
      "hydra\t\tv: 1.1.0\n",
      "mlflow\t\tv: 1.16.0\n",
      "numpy\t\tv: 1.19.5\n",
      "pandas\t\tv: 1.2.4\n",
      "subclu\t\tv: 0.6.0\n"
     ]
    }
   ],
   "source": [
    "from datetime import datetime, timedelta\n",
    "import os\n",
    "import logging\n",
    "from logging import info\n",
    "from pathlib import Path\n",
    "from pprint import pprint\n",
    "\n",
    "import numpy as np\n",
    "import pandas as pd\n",
    "from tqdm.auto import tqdm\n",
    "\n",
    "import mlflow\n",
    "import hydra\n",
    "\n",
    "import subclu\n",
    "from subclu.utils.hydra_config_loader import LoadHydraConfig\n",
    "from subclu.utils import set_working_directory, get_project_subfolder\n",
    "from subclu.utils.eda import (\n",
    "    setup_logging, counts_describe, value_counts_and_pcts,\n",
    "    notebook_display_config, print_lib_versions,\n",
    "    style_df_numeric,\n",
    "    elapsed_time,\n",
    ")\n",
    "\n",
    "from subclu.utils.mlflow_logger import MlflowLogger\n",
    "from subclu.models.bq_embedding_schemas import embeddings_schema\n",
    "from subclu.models.reshape_embeddings_for_bq import reshape_embeddings_to_ndjson, reshape_embeddings_and_upload_to_bq\n",
    "from subclu.utils.big_query_utils import load_data_to_bq_table\n",
    "\n",
    "print_lib_versions([hydra, mlflow, np, pd, subclu])"
   ]
  },
  {
   "cell_type": "code",
   "execution_count": 5,
   "id": "510d78fb",
   "metadata": {},
   "outputs": [],
   "source": [
    "# plotting\n",
    "import matplotlib.pyplot as plt\n",
    "import matplotlib.ticker as mtick\n",
    "import matplotlib.dates as mdates\n",
    "plt.style.use('default')\n",
    "\n",
    "setup_logging()\n",
    "notebook_display_config()"
   ]
  },
  {
   "cell_type": "markdown",
   "id": "f28be4d0",
   "metadata": {},
   "source": [
    "# Set Local model path (for saving)"
   ]
  },
  {
   "cell_type": "code",
   "execution_count": 6,
   "id": "9e2e498f",
   "metadata": {},
   "outputs": [
    {
     "data": {
      "text/plain": [
       "PosixPath('/home/jupyter/subreddit_clustering_i18n/data/models/aggregate_embeddings/manual_v060_2022-08-31_033019')"
      ]
     },
     "execution_count": 6,
     "metadata": {},
     "output_type": "execute_result"
    }
   ],
   "source": [
    "manual_model_timestamp = datetime.utcnow().strftime('%Y-%m-%d_%H%M%S')\n",
    "path_this_model = get_project_subfolder(\n",
    "    f\"data/models/aggregate_embeddings/manual_v060_{manual_model_timestamp}\"\n",
    ")\n",
    "Path.mkdir(path_this_model, parents=True, exist_ok=True)\n",
    "path_this_model"
   ]
  },
  {
   "cell_type": "markdown",
   "id": "a9c71eab",
   "metadata": {},
   "source": [
    "# Start MLflow\n",
    "We need it to get the paths for artifacts and load subreddit embeddings (based on the mlflow run ID)."
   ]
  },
  {
   "cell_type": "code",
   "execution_count": 9,
   "id": "12abfad7",
   "metadata": {},
   "outputs": [],
   "source": [
    "mlf = MlflowLogger(tracking_uri=cfg_reshape_embeddings.config_dict['mlflow_tracking_uri'])"
   ]
  },
  {
   "cell_type": "markdown",
   "id": "dc031bd1",
   "metadata": {},
   "source": [
    "# Load 1st config for embeddings to reshape and where to save them\n",
    "\n",
    "The embedding aggregation should've been logged to `mlflow` so we should be able to\n",
    "- make calls to mlflow to get the embeddings\n",
    "- add the new embeddings format to the original job\n",
    "\n",
    "\n",
    "\n"
   ]
  },
  {
   "cell_type": "code",
   "execution_count": 7,
   "id": "eaddfa10",
   "metadata": {},
   "outputs": [],
   "source": [
    "cfg_reshape_embeddings = LoadHydraConfig(\n",
    "    config_name='reshape_embeddings_for_bq-subreddit-v0.6.0.yaml',\n",
    "    config_path=\"../config\",\n",
    ")"
   ]
  },
  {
   "cell_type": "code",
   "execution_count": 8,
   "id": "89d49967",
   "metadata": {},
   "outputs": [
    {
     "name": "stdout",
     "output_type": "stream",
     "text": [
      "data_text_and_metadata:\n",
      "data_embeddings_to_aggregate:\n",
      "aggregate_params:\n",
      "description: Use this config to reshape embeddings and upload them to BigQuery\n",
      "bucket_output: i18n-subreddit-clustering\n",
      "mlflow_tracking_uri: sqlite\n",
      "mlflow_run_id: badc44b0e5ac467da14f710da0b410c6\n",
      "embeddings_artifact_path: df_subs_agg_c1_unweighted\n",
      "bq_project: reddit-employee-datasets\n",
      "bq_dataset: david_bermejo\n",
      "bq_table: cau_subreddit_embeddings\n",
      "bq_table_description: Subreddit-level embeddings. See the wiki for more details. https://reddit.atlassian.net/wiki/spaces/DataScience/pages/2404220935/\n",
      "update_table_description: True,\n",
      "pt: 2022-08-11\n",
      "model_version: v0.6.0\n",
      "model_name: cau-text-mUSE\n",
      "embeddings_config: aggregate_embeddings_v0.6.0\n"
     ]
    }
   ],
   "source": [
    "for k_, v_ in cfg_reshape_embeddings.config_dict.items():\n",
    "    if isinstance(v_, dict):\n",
    "        print(f\"{k_}:\")\n",
    "        for k2_, v2_ in v_.items():\n",
    "            pass\n",
    "            # print(f\"    {k2_}: {v2_}\")\n",
    "    else:\n",
    "        print(f\"{k_}: {v_}\")"
   ]
  },
  {
   "cell_type": "code",
   "execution_count": 10,
   "id": "2a50b725",
   "metadata": {},
   "outputs": [
    {
     "name": "stderr",
     "output_type": "stream",
     "text": [
      "03:32:52 | INFO | \"Local folder to download artifact(s):\n",
      "  /home/jupyter/subreddit_clustering_i18n/data/local_cache/mlflow/mlruns/35/badc44b0e5ac467da14f710da0b410c6/artifacts/df_subs_agg_c1_unweighted\"\n",
      "100%|##########################################| 6/6 [00:00<00:00, 17476.27it/s]\n",
      "03:32:53 | INFO | \"  Parquet files found:     4\"\n",
      "03:32:53 | INFO | \"  Parquet files to use:     4\"\n"
     ]
    },
    {
     "name": "stdout",
     "output_type": "stream",
     "text": [
      "(771760, 515)\n",
      "CPU times: user 9.31 s, sys: 4.32 s, total: 13.6 s\n",
      "Wall time: 7.86 s\n"
     ]
    }
   ],
   "source": [
    "%%time\n",
    "\n",
    "df_agg_sub_c = mlf.read_run_artifact(\n",
    "    run_id=cfg_reshape_embeddings.config_dict['mlflow_run_id'],\n",
    "    artifact_folder=cfg_reshape_embeddings.config_dict['embeddings_artifact_path'],\n",
    "    read_function='pd_parquet',\n",
    "    verbose=False,\n",
    ")\n",
    "print(df_agg_sub_c.shape)"
   ]
  },
  {
   "cell_type": "markdown",
   "id": "c031f452",
   "metadata": {},
   "source": [
    "## Check distribution of posts for embeddings\n",
    "We'd expect ~340k subs with 3+ posts"
   ]
  },
  {
   "cell_type": "code",
   "execution_count": 11,
   "id": "8a2c3e17",
   "metadata": {},
   "outputs": [
    {
     "data": {
      "text/plain": [
       "count    771760.000000\n",
       "mean         67.257111\n",
       "std         479.863049\n",
       "min           0.000000\n",
       "25%           1.000000\n",
       "50%           2.000000\n",
       "75%           8.000000\n",
       "max        8400.000000\n",
       "Name: posts_for_embeddings_count, dtype: float64"
      ]
     },
     "execution_count": 11,
     "metadata": {},
     "output_type": "execute_result"
    }
   ],
   "source": [
    "df_agg_sub_c['posts_for_embeddings_count'].describe()"
   ]
  },
  {
   "cell_type": "code",
   "execution_count": 14,
   "id": "d19d61bc",
   "metadata": {},
   "outputs": [],
   "source": [
    "# value_counts_and_pcts(\n",
    "#     df_agg_sub_c['posts_for_embeddings_count'],\n",
    "#     sort_index=True,\n",
    "#     sort_index_ascending=True,\n",
    "# )"
   ]
  },
  {
   "cell_type": "code",
   "execution_count": 13,
   "id": "a002673c",
   "metadata": {},
   "outputs": [
    {
     "data": {
      "text/html": [
       "<style  type=\"text/css\" >\n",
       "#T_c862e_row0_col1{\n",
       "            width:  10em;\n",
       "             height:  80%;\n",
       "            background:  linear-gradient(90deg,#95cff5 94.0%, transparent 94.0%);\n",
       "        }#T_c862e_row0_col3,#T_c862e_row1_col1{\n",
       "            width:  10em;\n",
       "             height:  80%;\n",
       "        }#T_c862e_row1_col3{\n",
       "            width:  10em;\n",
       "             height:  80%;\n",
       "            background:  linear-gradient(90deg,#95cff5 4.3%, transparent 4.3%);\n",
       "        }#T_c862e_row2_col1{\n",
       "            width:  10em;\n",
       "             height:  80%;\n",
       "            background:  linear-gradient(90deg,#95cff5 4.5%, transparent 4.5%);\n",
       "        }#T_c862e_row2_col3{\n",
       "            width:  10em;\n",
       "             height:  80%;\n",
       "            background:  linear-gradient(90deg,#95cff5 10.3%, transparent 10.3%);\n",
       "        }#T_c862e_row3_col1{\n",
       "            width:  10em;\n",
       "             height:  80%;\n",
       "            background:  linear-gradient(90deg,#95cff5 15.5%, transparent 15.5%);\n",
       "        }#T_c862e_row3_col3{\n",
       "            width:  10em;\n",
       "             height:  80%;\n",
       "            background:  linear-gradient(90deg,#95cff5 20.8%, transparent 20.8%);\n",
       "        }#T_c862e_row4_col1{\n",
       "            width:  10em;\n",
       "             height:  80%;\n",
       "            background:  linear-gradient(90deg,#95cff5 46.9%, transparent 46.9%);\n",
       "        }#T_c862e_row4_col3{\n",
       "            width:  10em;\n",
       "             height:  80%;\n",
       "            background:  linear-gradient(90deg,#95cff5 43.8%, transparent 43.8%);\n",
       "        }#T_c862e_row5_col1,#T_c862e_row6_col3{\n",
       "            width:  10em;\n",
       "             height:  80%;\n",
       "            background:  linear-gradient(90deg,#95cff5 100.0%, transparent 100.0%);\n",
       "        }#T_c862e_row5_col3{\n",
       "            width:  10em;\n",
       "             height:  80%;\n",
       "            background:  linear-gradient(90deg,#95cff5 87.9%, transparent 87.9%);\n",
       "        }#T_c862e_row6_col1{\n",
       "            width:  10em;\n",
       "             height:  80%;\n",
       "            background:  linear-gradient(90deg,#95cff5 19.6%, transparent 19.6%);\n",
       "        }</style><table id=\"T_c862e_\" ><thead>    <tr>        <th class=\"blank level0\" ></th>        <th class=\"col_heading level0 col0\" >posts_for_embeddings_count-count</th>        <th class=\"col_heading level0 col1\" >posts_for_embeddings_count-percent</th>        <th class=\"col_heading level0 col2\" >posts_for_embeddings_count-cumulative_sum</th>        <th class=\"col_heading level0 col3\" >posts_for_embeddings_count-pct_cumulative_sum</th>    </tr></thead><tbody>\n",
       "                <tr>\n",
       "                        <th id=\"T_c862e_level0_row0\" class=\"row_heading level0 row0\" >6+ posts</th>\n",
       "                        <td id=\"T_c862e_row0_col0\" class=\"data row0 col0\" >227,368</td>\n",
       "                        <td id=\"T_c862e_row0_col1\" class=\"data row0 col1\" >29.5%</td>\n",
       "                        <td id=\"T_c862e_row0_col2\" class=\"data row0 col2\" >227,368</td>\n",
       "                        <td id=\"T_c862e_row0_col3\" class=\"data row0 col3\" >29.5%</td>\n",
       "            </tr>\n",
       "            <tr>\n",
       "                        <th id=\"T_c862e_level0_row1\" class=\"row_heading level0 row1\" >5 posts</th>\n",
       "                        <td id=\"T_c862e_row1_col0\" class=\"data row1 col0\" >23,205</td>\n",
       "                        <td id=\"T_c862e_row1_col1\" class=\"data row1 col1\" >3.0%</td>\n",
       "                        <td id=\"T_c862e_row1_col2\" class=\"data row1 col2\" >250,573</td>\n",
       "                        <td id=\"T_c862e_row1_col3\" class=\"data row1 col3\" >32.5%</td>\n",
       "            </tr>\n",
       "            <tr>\n",
       "                        <th id=\"T_c862e_level0_row2\" class=\"row_heading level0 row2\" >4 posts</th>\n",
       "                        <td id=\"T_c862e_row2_col0\" class=\"data row2 col0\" >33,084</td>\n",
       "                        <td id=\"T_c862e_row2_col1\" class=\"data row2 col1\" >4.3%</td>\n",
       "                        <td id=\"T_c862e_row2_col2\" class=\"data row2 col2\" >283,657</td>\n",
       "                        <td id=\"T_c862e_row2_col3\" class=\"data row2 col3\" >36.8%</td>\n",
       "            </tr>\n",
       "            <tr>\n",
       "                        <th id=\"T_c862e_level0_row3\" class=\"row_heading level0 row3\" >3 posts</th>\n",
       "                        <td id=\"T_c862e_row3_col0\" class=\"data row3 col0\" >56,898</td>\n",
       "                        <td id=\"T_c862e_row3_col1\" class=\"data row3 col1\" >7.4%</td>\n",
       "                        <td id=\"T_c862e_row3_col2\" class=\"data row3 col2\" >340,555</td>\n",
       "                        <td id=\"T_c862e_row3_col3\" class=\"data row3 col3\" >44.1%</td>\n",
       "            </tr>\n",
       "            <tr>\n",
       "                        <th id=\"T_c862e_level0_row4\" class=\"row_heading level0 row4\" >2 posts</th>\n",
       "                        <td id=\"T_c862e_row4_col0\" class=\"data row4 col0\" >125,070</td>\n",
       "                        <td id=\"T_c862e_row4_col1\" class=\"data row4 col1\" >16.2%</td>\n",
       "                        <td id=\"T_c862e_row4_col2\" class=\"data row4 col2\" >465,625</td>\n",
       "                        <td id=\"T_c862e_row4_col3\" class=\"data row4 col3\" >60.3%</td>\n",
       "            </tr>\n",
       "            <tr>\n",
       "                        <th id=\"T_c862e_level0_row5\" class=\"row_heading level0 row5\" >1 post</th>\n",
       "                        <td id=\"T_c862e_row5_col0\" class=\"data row5 col0\" >240,338</td>\n",
       "                        <td id=\"T_c862e_row5_col1\" class=\"data row5 col1\" >31.1%</td>\n",
       "                        <td id=\"T_c862e_row5_col2\" class=\"data row5 col2\" >705,963</td>\n",
       "                        <td id=\"T_c862e_row5_col3\" class=\"data row5 col3\" >91.5%</td>\n",
       "            </tr>\n",
       "            <tr>\n",
       "                        <th id=\"T_c862e_level0_row6\" class=\"row_heading level0 row6\" >0 posts</th>\n",
       "                        <td id=\"T_c862e_row6_col0\" class=\"data row6 col0\" >65,797</td>\n",
       "                        <td id=\"T_c862e_row6_col1\" class=\"data row6 col1\" >8.5%</td>\n",
       "                        <td id=\"T_c862e_row6_col2\" class=\"data row6 col2\" >771,760</td>\n",
       "                        <td id=\"T_c862e_row6_col3\" class=\"data row6 col3\" >100.0%</td>\n",
       "            </tr>\n",
       "    </tbody></table>"
      ],
      "text/plain": [
       "<pandas.io.formats.style.Styler at 0x7f8b8d2eb990>"
      ]
     },
     "execution_count": 13,
     "metadata": {},
     "output_type": "execute_result"
    }
   ],
   "source": [
    "value_counts_and_pcts(\n",
    "    pd.cut(\n",
    "        df_agg_sub_c['posts_for_embeddings_count'],\n",
    "        bins=[-1, 0, 1, 2, 3, 4, 5, np.inf],\n",
    "        labels=[\"0 posts\", \"1 post\", '2 posts', '3 posts', '4 posts', '5 posts', '6+ posts']\n",
    "    ),\n",
    "    sort_index=True,\n",
    "    sort_index_ascending=False,\n",
    "    cumsum_count=True,\n",
    ")"
   ]
  },
  {
   "cell_type": "markdown",
   "id": "1f8b28ad",
   "metadata": {},
   "source": [
    "## Run new function that reshapes & uploads to BQ in a single call\n"
   ]
  },
  {
   "cell_type": "code",
   "execution_count": 15,
   "id": "31fb277f",
   "metadata": {},
   "outputs": [
    {
     "name": "stderr",
     "output_type": "stream",
     "text": [
      "03:41:48 | INFO | \"512 <- # embedding columns found\"\n",
      "03:41:48 | INFO | \"(771760, 515) <- Shape of input df\"\n",
      "03:41:49 | INFO | \"Metadata cols to add:\n",
      "  {'mlflow_run_id': 'badc44b0e5ac467da14f710da0b410c6', 'pt': '2022-08-11', 'model_version': 'v0.6.0', 'model_name': 'cau-text-mUSE'}\"\n",
      "03:41:49 | INFO | \"Converting embeddings to repeated format...\"\n",
      "03:42:34 | INFO | \"(771760, 8) <- Shape of new df before converting to JSON\"\n",
      "03:42:34 | INFO | \"df output cols:\n",
      "  ['pt', 'mlflow_run_id', 'model_name', 'model_version', 'subreddit_id', 'subreddit_name', 'posts_for_embeddings_count', 'embeddings']\"\n",
      "03:42:36 | INFO | \"Converting embeddings to JSON...\"\n",
      "03:43:52 | INFO | \"Saving file to:\n",
      "  /home/jupyter/subreddit_clustering_i18n/data/models/aggregate_embeddings/manual_v060_2022-08-31_033019/df_subs_agg_c1_unweighted_ndjson/subreddit_embeddings_2022-08-31_034148.json\"\n",
      "03:43:58 | INFO | \"Logging to run ID: badc44b0e5ac467da14f710da0b410c6, artifact:\n",
      "  df_subs_agg_c1_unweighted_ndjson\"\n",
      "03:45:13 | INFO | \"Logging artifact complete!\"\n",
      "03:46:15 | INFO | \"Creating table from file:\n",
      "gs://i18n-subreddit-clustering/mlflow/mlruns/35/badc44b0e5ac467da14f710da0b410c6/artifacts/df_subs_agg_c1_unweighted_ndjson/subreddit_embeddings_2022-08-31_034148.json\"\n",
      "03:46:16 | INFO | \"Loading data to table:\n",
      "  reddit-employee-datasets.david_bermejo.cau_subreddit_embeddings\"\n",
      "03:46:17 | INFO | \"Created table reddit-employee-datasets.david_bermejo.cau_subreddit_embeddings\"\n",
      "03:46:17 | INFO | \"  0 rows in table BEFORE adding data\"\n",
      "03:47:44 | INFO | \"Updating subreddit description from:\n",
      "  Subreddit-level embeddings. See the wiki for more details. https://reddit.atlassian.net/wiki/spaces/DataScience/pages/2404220935/\n",
      "to:\n",
      "  Subreddit-level embeddings. See the wiki for more details. https://reddit.atlassian.net/wiki/spaces/DataScience/pages/2404220935/\"\n",
      "03:47:45 | INFO | \"  771,760 rows in table AFTER adding data\"\n"
     ]
    },
    {
     "name": "stdout",
     "output_type": "stream",
     "text": [
      "CPU times: user 2min 41s, sys: 38.8 s, total: 3min 19s\n",
      "Wall time: 5min 56s\n"
     ]
    }
   ],
   "source": [
    "%%time\n",
    "\n",
    "reshape_embeddings_and_upload_to_bq(\n",
    "    df_agg_sub_c,\n",
    "    dict_reshape_config=cfg_reshape_embeddings.config_dict,\n",
    "    save_path_local_root=path_this_model,\n",
    "    f_name_prefix='subreddit_embeddings',\n",
    "    embedding_col_prefix='embeddings_',\n",
    ")"
   ]
  },
  {
   "cell_type": "code",
   "execution_count": 22,
   "id": "1286f0d2",
   "metadata": {},
   "outputs": [],
   "source": [
    "# delete variables for first config to prevent errors on the 2nd config\n",
    "del df_agg_sub_c, cfg_reshape_embeddings_wt, path_this_model"
   ]
  },
  {
   "cell_type": "markdown",
   "id": "66863342",
   "metadata": {},
   "source": [
    "# 2nd config for embeddings\n",
    "\n",
    "This one adds extra weight to the subreddit description for subreddits that have fewer than 3 posts.\n",
    "\n",
    "\n"
   ]
  },
  {
   "cell_type": "code",
   "execution_count": 17,
   "id": "ed8df809",
   "metadata": {},
   "outputs": [
    {
     "data": {
      "text/plain": [
       "PosixPath('/home/jupyter/subreddit_clustering_i18n/data/models/aggregate_embeddings/manual_v060_2022-08-31_034951')"
      ]
     },
     "execution_count": 17,
     "metadata": {},
     "output_type": "execute_result"
    }
   ],
   "source": [
    "manual_model_timestamp = datetime.utcnow().strftime('%Y-%m-%d_%H%M%S')\n",
    "path_this_model2 = get_project_subfolder(\n",
    "    f\"data/models/aggregate_embeddings/manual_v060_{manual_model_timestamp}\"\n",
    ")\n",
    "Path.mkdir(path_this_model2, parents=True, exist_ok=True)\n",
    "path_this_model2"
   ]
  },
  {
   "cell_type": "code",
   "execution_count": 25,
   "id": "22ce11f9",
   "metadata": {},
   "outputs": [],
   "source": [
    "cfg_reshape_embeddings_wt = LoadHydraConfig(\n",
    "    config_name='reshape_embeddings_for_bq-subreddit-v0.6.0_desc_extra_weight.yaml',\n",
    "    config_path=\"../config\",\n",
    ")"
   ]
  },
  {
   "cell_type": "code",
   "execution_count": 26,
   "id": "9cf6fa58",
   "metadata": {},
   "outputs": [
    {
     "name": "stdout",
     "output_type": "stream",
     "text": [
      "data_text_and_metadata:\n",
      "data_embeddings_to_aggregate:\n",
      "aggregate_params:\n",
      "description: Use this config to reshape embeddings and upload them to BigQuery\n",
      "bucket_output: i18n-subreddit-clustering\n",
      "mlflow_tracking_uri: sqlite\n",
      "mlflow_run_id: badc44b0e5ac467da14f710da0b410c6\n",
      "embeddings_artifact_path: df_subs_agg_c1\n",
      "bq_project: reddit-employee-datasets\n",
      "bq_dataset: david_bermejo\n",
      "bq_table: cau_subreddit_embeddings\n",
      "bq_table_description: Subreddit-level embeddings. See the wiki for more details. https://reddit.atlassian.net/wiki/spaces/DataScience/pages/2404220935/\n",
      "update_table_description: False,\n",
      "pt: 2022-08-10\n",
      "model_version: v0.6.0\n",
      "model_name: cau-text-mUSE extra weight for subreddit description\n",
      "embeddings_config: aggregate_embeddings_v0.6.0\n"
     ]
    }
   ],
   "source": [
    "for k_, v_ in cfg_reshape_embeddings_wt.config_dict.items():\n",
    "    if isinstance(v_, dict):\n",
    "        print(f\"{k_}:\")\n",
    "        for k2_, v2_ in v_.items():\n",
    "            pass\n",
    "            # print(f\"    {k2_}: {v2_}\")\n",
    "    else:\n",
    "        print(f\"{k_}: {v_}\")"
   ]
  },
  {
   "cell_type": "code",
   "execution_count": 27,
   "id": "9525dd8d",
   "metadata": {},
   "outputs": [
    {
     "name": "stderr",
     "output_type": "stream",
     "text": [
      "03:51:40 | INFO | \"Local folder to download artifact(s):\n",
      "  /home/jupyter/subreddit_clustering_i18n/data/local_cache/mlflow/mlruns/35/badc44b0e5ac467da14f710da0b410c6/artifacts/df_subs_agg_c1\"\n",
      "100%|###########################################| 13/13 [00:18<00:00,  1.46s/it]\n",
      "03:51:59 | INFO | \"  Parquet files found:     4\"\n",
      "03:51:59 | INFO | \"  Parquet files to use:     4\"\n"
     ]
    },
    {
     "name": "stdout",
     "output_type": "stream",
     "text": [
      "(771760, 515)\n",
      "CPU times: user 20 s, sys: 7.46 s, total: 27.5 s\n",
      "Wall time: 26.9 s\n"
     ]
    }
   ],
   "source": [
    "%%time\n",
    "\n",
    "df_agg_sub_c2 = mlf.read_run_artifact(\n",
    "    run_id=cfg_reshape_embeddings_wt.config_dict['mlflow_run_id'],\n",
    "    artifact_folder=cfg_reshape_embeddings_wt.config_dict['embeddings_artifact_path'],\n",
    "    read_function='pd_parquet',\n",
    "    verbose=False,\n",
    ")\n",
    "print(df_agg_sub_c2.shape)"
   ]
  },
  {
   "cell_type": "markdown",
   "id": "a2ee9501",
   "metadata": {},
   "source": [
    "## Check distribution of posts for embeddings\n",
    "We'd expect ~340k subs with 3+ posts"
   ]
  },
  {
   "cell_type": "code",
   "execution_count": 28,
   "id": "61dc2299",
   "metadata": {},
   "outputs": [
    {
     "data": {
      "text/plain": [
       "count    771760.000000\n",
       "mean         67.257111\n",
       "std         479.863049\n",
       "min           0.000000\n",
       "25%           1.000000\n",
       "50%           2.000000\n",
       "75%           8.000000\n",
       "max        8400.000000\n",
       "Name: posts_for_embeddings_count, dtype: float64"
      ]
     },
     "execution_count": 28,
     "metadata": {},
     "output_type": "execute_result"
    }
   ],
   "source": [
    "df_agg_sub_c2['posts_for_embeddings_count'].describe()"
   ]
  },
  {
   "cell_type": "code",
   "execution_count": 30,
   "id": "7420de26",
   "metadata": {},
   "outputs": [
    {
     "data": {
      "text/html": [
       "<style  type=\"text/css\" >\n",
       "#T_28a73_row0_col1{\n",
       "            width:  10em;\n",
       "             height:  80%;\n",
       "            background:  linear-gradient(90deg,#95cff5 94.0%, transparent 94.0%);\n",
       "        }#T_28a73_row0_col3,#T_28a73_row1_col1{\n",
       "            width:  10em;\n",
       "             height:  80%;\n",
       "        }#T_28a73_row1_col3{\n",
       "            width:  10em;\n",
       "             height:  80%;\n",
       "            background:  linear-gradient(90deg,#95cff5 4.3%, transparent 4.3%);\n",
       "        }#T_28a73_row2_col1{\n",
       "            width:  10em;\n",
       "             height:  80%;\n",
       "            background:  linear-gradient(90deg,#95cff5 4.5%, transparent 4.5%);\n",
       "        }#T_28a73_row2_col3{\n",
       "            width:  10em;\n",
       "             height:  80%;\n",
       "            background:  linear-gradient(90deg,#95cff5 10.3%, transparent 10.3%);\n",
       "        }#T_28a73_row3_col1{\n",
       "            width:  10em;\n",
       "             height:  80%;\n",
       "            background:  linear-gradient(90deg,#95cff5 15.5%, transparent 15.5%);\n",
       "        }#T_28a73_row3_col3{\n",
       "            width:  10em;\n",
       "             height:  80%;\n",
       "            background:  linear-gradient(90deg,#95cff5 20.8%, transparent 20.8%);\n",
       "        }#T_28a73_row4_col1{\n",
       "            width:  10em;\n",
       "             height:  80%;\n",
       "            background:  linear-gradient(90deg,#95cff5 46.9%, transparent 46.9%);\n",
       "        }#T_28a73_row4_col3{\n",
       "            width:  10em;\n",
       "             height:  80%;\n",
       "            background:  linear-gradient(90deg,#95cff5 43.8%, transparent 43.8%);\n",
       "        }#T_28a73_row5_col1,#T_28a73_row6_col3{\n",
       "            width:  10em;\n",
       "             height:  80%;\n",
       "            background:  linear-gradient(90deg,#95cff5 100.0%, transparent 100.0%);\n",
       "        }#T_28a73_row5_col3{\n",
       "            width:  10em;\n",
       "             height:  80%;\n",
       "            background:  linear-gradient(90deg,#95cff5 87.9%, transparent 87.9%);\n",
       "        }#T_28a73_row6_col1{\n",
       "            width:  10em;\n",
       "             height:  80%;\n",
       "            background:  linear-gradient(90deg,#95cff5 19.6%, transparent 19.6%);\n",
       "        }</style><table id=\"T_28a73_\" ><thead>    <tr>        <th class=\"blank level0\" ></th>        <th class=\"col_heading level0 col0\" >posts_for_embeddings_count-count</th>        <th class=\"col_heading level0 col1\" >posts_for_embeddings_count-percent</th>        <th class=\"col_heading level0 col2\" >posts_for_embeddings_count-cumulative_sum</th>        <th class=\"col_heading level0 col3\" >posts_for_embeddings_count-pct_cumulative_sum</th>    </tr></thead><tbody>\n",
       "                <tr>\n",
       "                        <th id=\"T_28a73_level0_row0\" class=\"row_heading level0 row0\" >6+ posts</th>\n",
       "                        <td id=\"T_28a73_row0_col0\" class=\"data row0 col0\" >227,368</td>\n",
       "                        <td id=\"T_28a73_row0_col1\" class=\"data row0 col1\" >29.5%</td>\n",
       "                        <td id=\"T_28a73_row0_col2\" class=\"data row0 col2\" >227,368</td>\n",
       "                        <td id=\"T_28a73_row0_col3\" class=\"data row0 col3\" >29.5%</td>\n",
       "            </tr>\n",
       "            <tr>\n",
       "                        <th id=\"T_28a73_level0_row1\" class=\"row_heading level0 row1\" >5 posts</th>\n",
       "                        <td id=\"T_28a73_row1_col0\" class=\"data row1 col0\" >23,205</td>\n",
       "                        <td id=\"T_28a73_row1_col1\" class=\"data row1 col1\" >3.0%</td>\n",
       "                        <td id=\"T_28a73_row1_col2\" class=\"data row1 col2\" >250,573</td>\n",
       "                        <td id=\"T_28a73_row1_col3\" class=\"data row1 col3\" >32.5%</td>\n",
       "            </tr>\n",
       "            <tr>\n",
       "                        <th id=\"T_28a73_level0_row2\" class=\"row_heading level0 row2\" >4 posts</th>\n",
       "                        <td id=\"T_28a73_row2_col0\" class=\"data row2 col0\" >33,084</td>\n",
       "                        <td id=\"T_28a73_row2_col1\" class=\"data row2 col1\" >4.3%</td>\n",
       "                        <td id=\"T_28a73_row2_col2\" class=\"data row2 col2\" >283,657</td>\n",
       "                        <td id=\"T_28a73_row2_col3\" class=\"data row2 col3\" >36.8%</td>\n",
       "            </tr>\n",
       "            <tr>\n",
       "                        <th id=\"T_28a73_level0_row3\" class=\"row_heading level0 row3\" >3 posts</th>\n",
       "                        <td id=\"T_28a73_row3_col0\" class=\"data row3 col0\" >56,898</td>\n",
       "                        <td id=\"T_28a73_row3_col1\" class=\"data row3 col1\" >7.4%</td>\n",
       "                        <td id=\"T_28a73_row3_col2\" class=\"data row3 col2\" >340,555</td>\n",
       "                        <td id=\"T_28a73_row3_col3\" class=\"data row3 col3\" >44.1%</td>\n",
       "            </tr>\n",
       "            <tr>\n",
       "                        <th id=\"T_28a73_level0_row4\" class=\"row_heading level0 row4\" >2 posts</th>\n",
       "                        <td id=\"T_28a73_row4_col0\" class=\"data row4 col0\" >125,070</td>\n",
       "                        <td id=\"T_28a73_row4_col1\" class=\"data row4 col1\" >16.2%</td>\n",
       "                        <td id=\"T_28a73_row4_col2\" class=\"data row4 col2\" >465,625</td>\n",
       "                        <td id=\"T_28a73_row4_col3\" class=\"data row4 col3\" >60.3%</td>\n",
       "            </tr>\n",
       "            <tr>\n",
       "                        <th id=\"T_28a73_level0_row5\" class=\"row_heading level0 row5\" >1 post</th>\n",
       "                        <td id=\"T_28a73_row5_col0\" class=\"data row5 col0\" >240,338</td>\n",
       "                        <td id=\"T_28a73_row5_col1\" class=\"data row5 col1\" >31.1%</td>\n",
       "                        <td id=\"T_28a73_row5_col2\" class=\"data row5 col2\" >705,963</td>\n",
       "                        <td id=\"T_28a73_row5_col3\" class=\"data row5 col3\" >91.5%</td>\n",
       "            </tr>\n",
       "            <tr>\n",
       "                        <th id=\"T_28a73_level0_row6\" class=\"row_heading level0 row6\" >0 posts</th>\n",
       "                        <td id=\"T_28a73_row6_col0\" class=\"data row6 col0\" >65,797</td>\n",
       "                        <td id=\"T_28a73_row6_col1\" class=\"data row6 col1\" >8.5%</td>\n",
       "                        <td id=\"T_28a73_row6_col2\" class=\"data row6 col2\" >771,760</td>\n",
       "                        <td id=\"T_28a73_row6_col3\" class=\"data row6 col3\" >100.0%</td>\n",
       "            </tr>\n",
       "    </tbody></table>"
      ],
      "text/plain": [
       "<pandas.io.formats.style.Styler at 0x7f8b8df10050>"
      ]
     },
     "execution_count": 30,
     "metadata": {},
     "output_type": "execute_result"
    }
   ],
   "source": [
    "value_counts_and_pcts(\n",
    "    pd.cut(\n",
    "        df_agg_sub_c2['posts_for_embeddings_count'],\n",
    "        bins=[-1, 0, 1, 2, 3, 4, 5, np.inf],\n",
    "        labels=[\"0 posts\", \"1 post\", '2 posts', '3 posts', '4 posts', '5 posts', '6+ posts']\n",
    "    ),\n",
    "    sort_index=True,\n",
    "    sort_index_ascending=False,\n",
    "    cumsum_count=True,\n",
    ")"
   ]
  },
  {
   "cell_type": "markdown",
   "id": "bbca9455",
   "metadata": {},
   "source": [
    "## Run new function that reshapes & uploads to BQ in a single call\n"
   ]
  },
  {
   "cell_type": "code",
   "execution_count": 32,
   "id": "b83c4cf2",
   "metadata": {},
   "outputs": [
    {
     "name": "stderr",
     "output_type": "stream",
     "text": [
      "03:58:24 | INFO | \"512 <- # embedding columns found\"\n",
      "03:58:24 | INFO | \"(771760, 515) <- Shape of input df\"\n",
      "03:58:24 | INFO | \"Metadata cols to add:\n",
      "  {'mlflow_run_id': 'badc44b0e5ac467da14f710da0b410c6', 'pt': '2022-08-10', 'model_version': 'v0.6.0', 'model_name': 'cau-text-mUSE extra weight for subreddit description'}\"\n",
      "03:58:24 | INFO | \"Converting embeddings to repeated format...\"\n",
      "03:59:03 | INFO | \"(771760, 8) <- Shape of new df before converting to JSON\"\n",
      "03:59:03 | INFO | \"df output cols:\n",
      "  ['pt', 'mlflow_run_id', 'model_name', 'model_version', 'subreddit_id', 'subreddit_name', 'posts_for_embeddings_count', 'embeddings']\"\n",
      "03:59:03 | INFO | \"Converting embeddings to JSON...\"\n",
      "04:00:15 | INFO | \"Saving file to:\n",
      "  /home/jupyter/subreddit_clustering_i18n/data/models/aggregate_embeddings/manual_v060_2022-08-31_034951/df_subs_agg_c1_ndjson/subreddit_embeddings_2022-08-31_035824.json\"\n",
      "04:00:20 | INFO | \"Logging to run ID: badc44b0e5ac467da14f710da0b410c6, artifact:\n",
      "  df_subs_agg_c1_ndjson\"\n",
      "04:01:44 | INFO | \"Logging artifact complete!\"\n",
      "04:01:57 | INFO | \"Creating table from file:\n",
      "gs://i18n-subreddit-clustering/mlflow/mlruns/35/badc44b0e5ac467da14f710da0b410c6/artifacts/df_subs_agg_c1_ndjson/subreddit_embeddings_2022-08-31_035824.json\"\n",
      "04:01:58 | INFO | \"Loading data to table:\n",
      "  reddit-employee-datasets.david_bermejo.cau_subreddit_embeddings\"\n",
      "04:01:58 | INFO | \"Table reddit-employee-datasets.david_bermejo.cau_subreddit_embeddings already exist\"\n",
      "04:01:58 | INFO | \"  771,760 rows in table BEFORE adding data\"\n",
      "04:02:39 | INFO | \"Updating subreddit description from:\n",
      "  Subreddit-level embeddings. See the wiki for more details. https://reddit.atlassian.net/wiki/spaces/DataScience/pages/2404220935/\n",
      "to:\n",
      "  Subreddit-level embeddings. See the wiki for more details. https://reddit.atlassian.net/wiki/spaces/DataScience/pages/2404220935/\"\n",
      "04:02:39 | INFO | \"  1,543,520 rows in table AFTER adding data\"\n"
     ]
    },
    {
     "name": "stdout",
     "output_type": "stream",
     "text": [
      "CPU times: user 1min 52s, sys: 33.1 s, total: 2min 25s\n",
      "Wall time: 4min 15s\n"
     ]
    }
   ],
   "source": [
    "%%time\n",
    "\n",
    "reshape_embeddings_and_upload_to_bq(\n",
    "    df_agg_sub_c2,\n",
    "    dict_reshape_config=cfg_reshape_embeddings_wt.config_dict,\n",
    "    save_path_local_root=path_this_model2,\n",
    "    f_name_prefix='subreddit_embeddings',\n",
    "    embedding_col_prefix='embeddings_',\n",
    ")"
   ]
  },
  {
   "cell_type": "code",
   "execution_count": null,
   "id": "af2ee6d7",
   "metadata": {},
   "outputs": [],
   "source": []
  }
 ],
 "metadata": {
  "environment": {
   "name": "common-cpu.m65",
   "type": "gcloud",
   "uri": "gcr.io/deeplearning-platform-release/base-cpu:m65"
  },
  "kernelspec": {
   "display_name": "Python [conda env:root] *",
   "language": "python",
   "name": "conda-root-py"
  },
  "language_info": {
   "codemirror_mode": {
    "name": "ipython",
    "version": 3
   },
   "file_extension": ".py",
   "mimetype": "text/x-python",
   "name": "python",
   "nbconvert_exporter": "python",
   "pygments_lexer": "ipython3",
   "version": "3.7.10"
  }
 },
 "nbformat": 4,
 "nbformat_minor": 5
}
