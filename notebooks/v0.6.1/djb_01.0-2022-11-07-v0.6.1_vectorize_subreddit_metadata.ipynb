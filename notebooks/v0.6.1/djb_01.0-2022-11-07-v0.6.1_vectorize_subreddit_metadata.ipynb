{
 "cells": [
  {
   "cell_type": "markdown",
   "id": "62c15863",
   "metadata": {},
   "source": [
    "# Purpose\n",
    "\n",
    "Use this notebook to vectorize the text for subreddit metadata."
   ]
  },
  {
   "cell_type": "markdown",
   "id": "fbbfadb8",
   "metadata": {},
   "source": [
    "# Imports & Setup"
   ]
  },
  {
   "cell_type": "code",
   "execution_count": 1,
   "id": "9f40e490",
   "metadata": {},
   "outputs": [],
   "source": [
    "%load_ext autoreload\n",
    "%autoreload 2"
   ]
  },
  {
   "cell_type": "code",
   "execution_count": 2,
   "id": "7cb61dfe",
   "metadata": {},
   "outputs": [
    {
     "name": "stdout",
     "output_type": "stream",
     "text": [
      "python\t\tv 3.7.10\n",
      "===\n",
      "numpy\t\tv: 1.18.5\n",
      "pandas\t\tv: 1.2.5\n",
      "subclu\t\tv: 0.6.1\n"
     ]
    }
   ],
   "source": [
    "from datetime import datetime\n",
    "import logging\n",
    "from pathlib import Path\n",
    "\n",
    "import numpy as np\n",
    "import pandas as pd\n",
    "\n",
    "from tqdm import tqdm\n",
    "\n",
    "import subclu\n",
    "from subclu.utils.eda import (\n",
    "    setup_logging, counts_describe, value_counts_and_pcts,\n",
    "    notebook_display_config, print_lib_versions,\n",
    "    style_df_numeric\n",
    ")\n",
    "\n",
    "\n",
    "print_lib_versions([np, pd, subclu])"
   ]
  },
  {
   "cell_type": "code",
   "execution_count": 3,
   "id": "c5e957fb",
   "metadata": {},
   "outputs": [
    {
     "name": "stderr",
     "output_type": "stream",
     "text": [
      "06:33:44 | INFO | \"loggging ready\"\n"
     ]
    }
   ],
   "source": [
    "# plotting\n",
    "import matplotlib.pyplot as plt\n",
    "import matplotlib.ticker as mtick\n",
    "import matplotlib.dates as mdates\n",
    "plt.style.use('default')\n",
    "\n",
    "setup_logging()\n",
    "notebook_display_config()\n",
    "logging.info('loggging ready')"
   ]
  },
  {
   "cell_type": "markdown",
   "id": "f4eaacea",
   "metadata": {},
   "source": [
    "# Auth note\n",
    "This notebook assumes you have authenticated using the gcloud CLI. Example</br>\n",
    "```bash\n",
    "gcloud auth application-default login\n",
    "```"
   ]
  },
  {
   "cell_type": "markdown",
   "id": "e1e9e599",
   "metadata": {},
   "source": [
    "# Load data AND Vectorize \n",
    "\n",
    "When we call the vectorizing function, it calls the data loader under the hood.\n",
    "See the configs in:\n",
    "- `subclu2/config/`\n",
    "    - `data_text_and_metadata/`\n",
    "        -  `vX.X.X_model.yaml`\n",
    "    - `vectorize_subreddit_meta_vX.X.X.yaml`\n"
   ]
  },
  {
   "cell_type": "code",
   "execution_count": 5,
   "id": "19d1bd2c",
   "metadata": {},
   "outputs": [
    {
     "name": "stdout",
     "output_type": "stream",
     "text": [
      "/home/david.bermejo/repos/subreddit_clustering_i18n/\n",
      "subclu.i18n_topic_model_batch.subclu2.get_embeddings.vectorize_text_tf\n",
      "vectorize_subreddit_meta_v0.6.1\n"
     ]
    }
   ],
   "source": [
    "path_djb_repo = '/home/david.bermejo/repos/subreddit_clustering_i18n/' \n",
    "path_djb_models = '/home/david.bermejo/repos/subreddit_clustering_i18n/subclu/models' \n",
    "file_vectorize_py = 'subclu.i18n_topic_model_batch.subclu2.get_embeddings.vectorize_text_tf'\n",
    "\n",
    "config_vectorize = 'vectorize_subreddit_meta_v0.6.1'\n",
    "\n",
    "print(path_djb_repo)\n",
    "print(file_vectorize_py)\n",
    "print(config_vectorize)"
   ]
  },
  {
   "cell_type": "markdown",
   "id": "4f329741",
   "metadata": {},
   "source": [
    "## Run in bucket owned by i18n\n",
    "This bucket retains data longer than the gazette temp bucket"
   ]
  },
  {
   "cell_type": "code",
   "execution_count": 6,
   "id": "043e7f52",
   "metadata": {},
   "outputs": [
    {
     "name": "stdout",
     "output_type": "stream",
     "text": [
      "CFG keys:\n",
      "  dict_keys(['data_text_and_metadata', 'config_description', 'local_cache_path', 'local_model_path', 'output_bucket', 'gcs_path_text_key', 'data_loader_name', 'data_loader_kwargs', 'n_sample_files', 'n_files_slice_start', 'n_files_slice_end', 'process_individual_files', 'col_text_for_embeddings', 'model_name', 'batch_inference_rows', 'limit_first_n_chars', 'limit_first_n_chars_retry', 'get_embeddings_verbose', 'cols_index'])\n",
      "Data Loader kwags:\n",
      "  columns: ['subreddit_id', 'subreddit_name', 'subreddit_meta_for_embeddings']\n",
      "  df_format: pandas\n",
      "  unique_check: False\n",
      "  verbose: True\n",
      "  bucket_name: i18n-subreddit-clustering\n",
      "  gcs_path: i18n_topic_model_batch/runs/20221107/subreddits/text\n",
      "  local_cache_path: /home/jupyter/subreddit_clustering_i18n/data/local_cache/\n",
      "  n_sample_files: None\n",
      "  n_files_slice_start: None\n",
      "  n_files_slice_end: None\n",
      "`2022-11-07 07:46:32,968` | `INFO` | `Using hydra's path`\n",
      "`2022-11-07 07:46:32,968` | `INFO` | `  Log file created at: /home/jupyter/subreddit_clustering_i18n/hydra_runs/outputs/2022-11-07/07-46-32/logs/2022-11-07_07-46-32_vectorize_text.log`\n",
      "`2022-11-07 07:46:32,968` | `INFO` | `Start vectorize function`\n",
      "`2022-11-07 07:46:32,969` | `INFO` | `Loading model: use_multilingual_3`\n",
      "`2022-11-07 07:46:35,024` | `INFO` | `Using /tmp/tfhub_modules to cache modules.`\n",
      "`2022-11-07 07:46:35,025` | `INFO` | `Downloading TF-Hub Module 'https://tfhub.dev/google/universal-sentence-encoder-multilingual/3'.`\n",
      "`2022-11-07 07:46:38,898` | `INFO` | `Downloaded https://tfhub.dev/google/universal-sentence-encoder-multilingual/3, Total size: 266.88MB`\n",
      "`2022-11-07 07:46:38,898` | `INFO` | `Downloaded TF-Hub Module 'https://tfhub.dev/google/universal-sentence-encoder-multilingual/3'.`\n",
      "2022-11-07 07:46:39.254293: E tensorflow/stream_executor/cuda/cuda_driver.cc:314] failed call to cuInit: CUDA_ERROR_NO_DEVICE: no CUDA-capable device is detected\n",
      "`2022-11-07 07:46:41,274` | `INFO` | `Model loaded`\n",
      "`2022-11-07 07:46:41,274` | `INFO` | `  Loading & Processing each file independently`\n",
      "`2022-11-07 07:46:43,392` | `INFO` | `  Local folder to download artifact(s):\n",
      "  /home/jupyter/subreddit_clustering_i18n/data/local_cache/i18n-subreddit-clustering/i18n_topic_model_batch/runs/20221107/subreddits/text`\n",
      "`2022-11-07 07:46:43,470` | `INFO` | `  3 <- Files matching prefix`\n",
      "`2022-11-07 07:46:43,470` | `INFO` | `  3 <- Files to check`\n",
      "`2022-11-07 07:46:46,961` | `INFO` | `  Files already cached: 0`\n",
      "`2022-11-07 07:46:46,961` | `INFO` | `0:00:05.685455  <- Downloading files elapsed time`\n",
      "`2022-11-07 07:46:46,962` | `INFO` | `  Files already downloaded.`\n",
      "`2022-11-07 07:46:47,489` | `INFO` | `  Processing: 000000000000.parquet`\n",
      "`2022-11-07 07:46:47,489` | `INFO` | `Vectorizing column: subreddit_meta_for_embeddings`\n",
      "`2022-11-07 07:46:47,676` | `INFO` | `Getting embeddings in batches of size: 1500`\n",
      "`2022-11-07 07:47:03,229` | `INFO` | `  Vectorizing:   4%|#2                           | 3/67 [00:15<05:31,  5.18s/it]`\n",
      "`2022-11-07 07:47:16,963` | `INFO` | `  Vectorizing:   4%|#2                           | 3/67 [00:29<05:31,  5.18s/it]`\n",
      "`2022-11-07 07:47:17,739` | `INFO` | `  Vectorizing:  10%|###                          | 7/67 [00:30<04:09,  4.16s/it]`\n",
      "`2022-11-07 07:47:29,765` | `INFO` | `  Vectorizing:  16%|####5                       | 11/67 [00:42<03:21,  3.60s/it]`\n",
      "`2022-11-07 07:47:42,545` | `INFO` | `  Vectorizing:  24%|######6                     | 16/67 [00:54<02:39,  3.12s/it]`\n",
      "`2022-11-07 07:47:55,811` | `INFO` | `  Vectorizing:  33%|#########1                  | 22/67 [01:08<02:02,  2.72s/it]`\n",
      "`2022-11-07 07:48:06,990` | `INFO` | `  Vectorizing:  33%|#########1                  | 22/67 [01:19<02:02,  2.72s/it]`\n",
      "`2022-11-07 07:48:07,947` | `INFO` | `  Vectorizing:  42%|###########7                | 28/67 [01:20<01:35,  2.45s/it]`\n",
      "`2022-11-07 07:48:20,971` | `INFO` | `  Vectorizing:  52%|##############6             | 35/67 [01:33<01:10,  2.22s/it]`\n",
      "`2022-11-07 07:48:34,300` | `INFO` | `  Vectorizing:  64%|#################9          | 43/67 [01:46<00:48,  2.00s/it]`\n",
      "`2022-11-07 07:48:46,463` | `INFO` | `  Vectorizing:  76%|#####################3      | 51/67 [01:58<00:29,  1.83s/it]`\n",
      "`2022-11-07 07:48:56,994` | `INFO` | `  Vectorizing:  76%|#####################3      | 51/67 [02:09<00:29,  1.83s/it]`\n",
      "`2022-11-07 07:48:59,468` | `INFO` | `  Vectorizing:  90%|#########################   | 60/67 [02:11<00:11,  1.69s/it]`\n",
      "`2022-11-07 07:49:09,423` | `INFO` | `  Vectorizing: 100%|############################| 67/67 [02:21<00:00,  2.12s/it]`\n",
      "\n",
      "`2022-11-07 07:49:09,929` | `INFO` | `Saving df_embeddings to: gcs://i18n-subreddit-clustering/i18n_topic_model_batch/runs/20221107/subreddits/text/embedding/2022-11-07_074632/000000000000-100179_by_514.parquet`\n",
      "`2022-11-07 07:49:19,987` | `INFO` | `Files in batch:  33%|######            | 1/3 [02:33<05:06, 153.02s/it]`\n",
      "`2022-11-07 07:49:20,481` | `INFO` | `  Processing: 000000000001.parquet`\n",
      "`2022-11-07 07:49:20,482` | `INFO` | `Vectorizing column: subreddit_meta_for_embeddings`\n",
      "`2022-11-07 07:49:20,698` | `INFO` | `Getting embeddings in batches of size: 1500`\n",
      "`2022-11-07 07:49:33,054` | `INFO` | `  Vectorizing:   6%|#6                          | 9/156 [00:12<03:21,  1.37s/it]`\n",
      "`2022-11-07 07:49:46,327` | `INFO` | `  Vectorizing:  12%|###2                       | 19/156 [00:25<03:04,  1.34s/it]`\n",
      "`2022-11-07 07:49:57,058` | `INFO` | `  Vectorizing:  12%|###2                       | 19/156 [00:36<03:04,  1.34s/it]`\n",
      "`2022-11-07 07:49:59,625` | `INFO` | `  Vectorizing:  19%|#####                      | 29/156 [00:38<02:49,  1.34s/it]`\n",
      "`2022-11-07 07:50:12,480` | `INFO` | `  Vectorizing:  25%|######7                    | 39/156 [00:51<02:34,  1.32s/it]`\n",
      "`2022-11-07 07:50:25,256` | `INFO` | `  Vectorizing:  31%|########4                  | 49/156 [01:04<02:19,  1.30s/it]`\n",
      "`2022-11-07 07:50:37,064` | `INFO` | `  Vectorizing:  31%|########4                  | 49/156 [01:16<02:19,  1.30s/it]`\n",
      "`2022-11-07 07:50:38,022` | `INFO` | `  Vectorizing:  38%|##########2                | 59/156 [01:17<02:05,  1.29s/it]`\n",
      "`2022-11-07 07:50:50,486` | `INFO` | `  Vectorizing:  44%|###########9               | 69/156 [01:29<01:51,  1.28s/it]`\n",
      "`2022-11-07 07:51:03,455` | `INFO` | `  Vectorizing:  51%|#############8             | 80/156 [01:42<01:34,  1.24s/it]`\n",
      "`2022-11-07 07:51:15,926` | `INFO` | `  Vectorizing:  58%|###############7           | 91/156 [01:55<01:18,  1.21s/it]`\n",
      "`2022-11-07 07:51:27,095` | `INFO` | `  Vectorizing:  58%|###############7           | 91/156 [02:06<01:18,  1.21s/it]`\n",
      "`2022-11-07 07:51:28,915` | `INFO` | `  Vectorizing:  66%|#################1        | 103/156 [02:08<01:01,  1.17s/it]`\n",
      "`2022-11-07 07:51:41,420` | `INFO` | `  Vectorizing:  74%|###################1      | 115/156 [02:20<00:46,  1.13s/it]`\n",
      "`2022-11-07 07:51:53,561` | `INFO` | `  Vectorizing:  81%|#####################1    | 127/156 [02:32<00:31,  1.09s/it]`\n",
      "`2022-11-07 07:52:05,982` | `INFO` | `  Vectorizing:  90%|#######################3  | 140/156 [02:45<00:16,  1.05s/it]`\n",
      "`2022-11-07 07:52:17,105` | `INFO` | `  Vectorizing:  90%|#######################3  | 140/156 [02:56<00:16,  1.05s/it]`\n",
      "`2022-11-07 07:52:18,600` | `INFO` | `  Vectorizing:  99%|#########################6| 154/156 [02:57<00:01,  1.00it/s]`\n",
      "`2022-11-07 07:52:20,034` | `INFO` | `  Vectorizing: 100%|##########################| 156/156 [02:59<00:00,  1.15s/it]`\n",
      "\n",
      "`2022-11-07 07:52:21,400` | `INFO` | `Saving df_embeddings to: gcs://i18n-subreddit-clustering/i18n_topic_model_batch/runs/20221107/subreddits/text/embedding/2022-11-07_074632/000000000001-233442_by_514.parquet`\n",
      "`2022-11-07 07:52:40,622` | `INFO` | `Files in batch:  67%|############      | 2/3 [05:53<03:01, 181.03s/it]`\n",
      "`2022-11-07 07:52:41,203` | `INFO` | `  Processing: 000000000002.parquet`\n",
      "`2022-11-07 07:52:41,204` | `INFO` | `Vectorizing column: subreddit_meta_for_embeddings`\n",
      "`2022-11-07 07:52:41,448` | `INFO` | `Getting embeddings in batches of size: 1500`\n",
      "`2022-11-07 07:52:54,128` | `INFO` | `  Vectorizing:   5%|#3                         | 15/299 [00:12<04:00,  1.18it/s]`\n",
      "`2022-11-07 07:53:06,872` | `INFO` | `  Vectorizing:  10%|##7                        | 31/299 [00:25<03:38,  1.23it/s]`\n",
      "`2022-11-07 07:53:17,279` | `INFO` | `  Vectorizing:  10%|##7                        | 31/299 [00:35<03:38,  1.23it/s]`\n",
      "`2022-11-07 07:53:19,317` | `INFO` | `  Vectorizing:  16%|####3                      | 48/299 [00:37<03:14,  1.29it/s]`\n",
      "`2022-11-07 07:53:31,847` | `INFO` | `  Vectorizing:  22%|######                     | 67/299 [00:50<02:48,  1.38it/s]`\n",
      "`2022-11-07 07:53:45,590` | `INFO` | `  Vectorizing:  29%|#######7                   | 86/299 [01:04<02:34,  1.38it/s]`\n",
      "`2022-11-07 07:53:57,340` | `INFO` | `  Vectorizing:  29%|#######7                   | 86/299 [01:15<02:34,  1.38it/s]`\n",
      "`2022-11-07 07:53:57,920` | `INFO` | `  Vectorizing:  34%|########9                 | 103/299 [01:16<02:22,  1.38it/s]`\n",
      "`2022-11-07 07:54:10,502` | `INFO` | `  Vectorizing:  40%|##########5               | 121/299 [01:29<02:07,  1.40it/s]`\n",
      "`2022-11-07 07:54:22,849` | `INFO` | `  Vectorizing:  47%|############1             | 140/299 [01:41<01:50,  1.44it/s]`\n",
      "`2022-11-07 07:54:34,862` | `INFO` | `  Vectorizing:  54%|#############9            | 160/299 [01:53<01:32,  1.51it/s]`\n",
      "`2022-11-07 07:54:47,472` | `INFO` | `  Vectorizing:  54%|#############9            | 160/299 [02:06<01:32,  1.51it/s]`\n",
      "`2022-11-07 07:54:47,473` | `INFO` | `  Vectorizing:  61%|###############7          | 181/299 [02:06<01:15,  1.56it/s]`\n",
      "`2022-11-07 07:54:57,473` | `INFO` | `  Vectorizing:  61%|###############7          | 181/299 [02:16<01:15,  1.56it/s]`\n",
      "`2022-11-07 07:54:59,925` | `INFO` | `  Vectorizing:  68%|#################5        | 202/299 [02:18<01:00,  1.60it/s]`\n",
      "`2022-11-07 07:55:12,214` | `INFO` | `  Vectorizing:  75%|###################3      | 223/299 [02:30<00:46,  1.63it/s]`\n",
      "`2022-11-07 07:55:24,518` | `INFO` | `  Vectorizing:  82%|#####################2    | 244/299 [02:43<00:33,  1.65it/s]`\n",
      "`2022-11-07 07:55:36,814` | `INFO` | `  Vectorizing:  89%|#######################   | 265/299 [02:55<00:20,  1.67it/s]`\n",
      "`2022-11-07 07:55:47,575` | `INFO` | `  Vectorizing:  89%|#######################   | 265/299 [03:06<00:20,  1.67it/s]`\n",
      "`2022-11-07 07:55:49,326` | `INFO` | `  Vectorizing:  96%|########################8 | 286/299 [03:07<00:07,  1.67it/s]`\n",
      "`2022-11-07 07:55:56,883` | `INFO` | `  Vectorizing: 100%|##########################| 299/299 [03:15<00:00,  1.53it/s]`\n",
      "\n",
      "`2022-11-07 07:55:59,743` | `INFO` | `Saving df_embeddings to: gcs://i18n-subreddit-clustering/i18n_topic_model_batch/runs/20221107/subreddits/text/embedding/2022-11-07_074632/000000000002-448032_by_514.parquet`\n",
      "`2022-11-07 07:56:28,097` | `INFO` | `Files in batch: 100%|##################| 3/3 [09:41<00:00, 202.24s/it]`\n",
      "`2022-11-07 07:56:28,097` | `INFO` | `Files in batch: 100%|##################| 3/3 [09:41<00:00, 193.71s/it]`\n",
      "\n",
      "`2022-11-07 07:56:28,097` | `INFO` | `  0:09:46.823094 <- df_subs vectorizing time elapsed`\n",
      "`2022-11-07 07:56:28,097` | `INFO` | `Saving hydra config...`\n",
      "/home/jupyter/subreddit_clustering_i18n/hydra_runs/outputs/2022-11-07/07-46-32/.hydra\n",
      "`2022-11-07 07:56:31,299` | `INFO` | `Saving log file...`\n",
      "`2022-11-07 07:56:31,468` | `INFO` | `  0:09:58.499861 <- Total vectorize fxn time elapsed`\n"
     ]
    }
   ],
   "source": [
    "# run on full data\n",
    "\n",
    "!cd $path_djb_repo && python -m $file_vectorize_py \\\n",
    "    --config-name $config_vectorize"
   ]
  },
  {
   "cell_type": "markdown",
   "id": "bf8564ee",
   "metadata": {},
   "source": [
    "## Rough time projections\n",
    "Based on the file(s) processed above. Here are some rough projections for how long it might take to process all posts needed for the topic model."
   ]
  },
  {
   "cell_type": "code",
   "execution_count": 7,
   "id": "86d66822",
   "metadata": {},
   "outputs": [
    {
     "data": {
      "text/html": [
       "<style  type=\"text/css\" >\n",
       "</style><table id=\"T_8d60f_\" ><thead>    <tr>        <th class=\"blank level0\" ></th>        <th class=\"col_heading level0 col0\" >n_rows</th>        <th class=\"col_heading level0 col1\" >n_jobs</th>        <th class=\"col_heading level0 col2\" >projected_hours</th>        <th class=\"col_heading level0 col3\" >projected_days</th>        <th class=\"col_heading level0 col4\" >projected_mins</th>    </tr></thead><tbody>\n",
       "                <tr>\n",
       "                        <th id=\"T_8d60f_level0_row0\" class=\"row_heading level0 row0\" >0</th>\n",
       "                        <td id=\"T_8d60f_row0_col0\" class=\"data row0 col0\" >53,663,530</td>\n",
       "                        <td id=\"T_8d60f_row0_col1\" class=\"data row0 col1\" >1</td>\n",
       "                        <td id=\"T_8d60f_row0_col2\" class=\"data row0 col2\" >11.63</td>\n",
       "                        <td id=\"T_8d60f_row0_col3\" class=\"data row0 col3\" >0.48</td>\n",
       "                        <td id=\"T_8d60f_row0_col4\" class=\"data row0 col4\" >697.98</td>\n",
       "            </tr>\n",
       "            <tr>\n",
       "                        <th id=\"T_8d60f_level0_row1\" class=\"row_heading level0 row1\" >1</th>\n",
       "                        <td id=\"T_8d60f_row1_col0\" class=\"data row1 col0\" >53,663,530</td>\n",
       "                        <td id=\"T_8d60f_row1_col1\" class=\"data row1 col1\" >2</td>\n",
       "                        <td id=\"T_8d60f_row1_col2\" class=\"data row1 col2\" >5.82</td>\n",
       "                        <td id=\"T_8d60f_row1_col3\" class=\"data row1 col3\" >0.24</td>\n",
       "                        <td id=\"T_8d60f_row1_col4\" class=\"data row1 col4\" >348.99</td>\n",
       "            </tr>\n",
       "            <tr>\n",
       "                        <th id=\"T_8d60f_level0_row2\" class=\"row_heading level0 row2\" >2</th>\n",
       "                        <td id=\"T_8d60f_row2_col0\" class=\"data row2 col0\" >53,663,530</td>\n",
       "                        <td id=\"T_8d60f_row2_col1\" class=\"data row2 col1\" >3</td>\n",
       "                        <td id=\"T_8d60f_row2_col2\" class=\"data row2 col2\" >3.88</td>\n",
       "                        <td id=\"T_8d60f_row2_col3\" class=\"data row2 col3\" >0.16</td>\n",
       "                        <td id=\"T_8d60f_row2_col4\" class=\"data row2 col4\" >232.66</td>\n",
       "            </tr>\n",
       "            <tr>\n",
       "                        <th id=\"T_8d60f_level0_row3\" class=\"row_heading level0 row3\" >3</th>\n",
       "                        <td id=\"T_8d60f_row3_col0\" class=\"data row3 col0\" >53,663,530</td>\n",
       "                        <td id=\"T_8d60f_row3_col1\" class=\"data row3 col1\" >4</td>\n",
       "                        <td id=\"T_8d60f_row3_col2\" class=\"data row3 col2\" >2.91</td>\n",
       "                        <td id=\"T_8d60f_row3_col3\" class=\"data row3 col3\" >0.12</td>\n",
       "                        <td id=\"T_8d60f_row3_col4\" class=\"data row3 col4\" >174.50</td>\n",
       "            </tr>\n",
       "            <tr>\n",
       "                        <th id=\"T_8d60f_level0_row4\" class=\"row_heading level0 row4\" >4</th>\n",
       "                        <td id=\"T_8d60f_row4_col0\" class=\"data row4 col0\" >53,663,530</td>\n",
       "                        <td id=\"T_8d60f_row4_col1\" class=\"data row4 col1\" >5</td>\n",
       "                        <td id=\"T_8d60f_row4_col2\" class=\"data row4 col2\" >2.33</td>\n",
       "                        <td id=\"T_8d60f_row4_col3\" class=\"data row4 col3\" >0.10</td>\n",
       "                        <td id=\"T_8d60f_row4_col4\" class=\"data row4 col4\" >139.60</td>\n",
       "            </tr>\n",
       "            <tr>\n",
       "                        <th id=\"T_8d60f_level0_row5\" class=\"row_heading level0 row5\" >5</th>\n",
       "                        <td id=\"T_8d60f_row5_col0\" class=\"data row5 col0\" >53,663,530</td>\n",
       "                        <td id=\"T_8d60f_row5_col1\" class=\"data row5 col1\" >6</td>\n",
       "                        <td id=\"T_8d60f_row5_col2\" class=\"data row5 col2\" >1.94</td>\n",
       "                        <td id=\"T_8d60f_row5_col3\" class=\"data row5 col3\" >0.08</td>\n",
       "                        <td id=\"T_8d60f_row5_col4\" class=\"data row5 col4\" >116.33</td>\n",
       "            </tr>\n",
       "            <tr>\n",
       "                        <th id=\"T_8d60f_level0_row6\" class=\"row_heading level0 row6\" >6</th>\n",
       "                        <td id=\"T_8d60f_row6_col0\" class=\"data row6 col0\" >53,663,530</td>\n",
       "                        <td id=\"T_8d60f_row6_col1\" class=\"data row6 col1\" >7</td>\n",
       "                        <td id=\"T_8d60f_row6_col2\" class=\"data row6 col2\" >1.66</td>\n",
       "                        <td id=\"T_8d60f_row6_col3\" class=\"data row6 col3\" >0.07</td>\n",
       "                        <td id=\"T_8d60f_row6_col4\" class=\"data row6 col4\" >99.71</td>\n",
       "            </tr>\n",
       "            <tr>\n",
       "                        <th id=\"T_8d60f_level0_row7\" class=\"row_heading level0 row7\" >7</th>\n",
       "                        <td id=\"T_8d60f_row7_col0\" class=\"data row7 col0\" >53,663,530</td>\n",
       "                        <td id=\"T_8d60f_row7_col1\" class=\"data row7 col1\" >8</td>\n",
       "                        <td id=\"T_8d60f_row7_col2\" class=\"data row7 col2\" >1.45</td>\n",
       "                        <td id=\"T_8d60f_row7_col3\" class=\"data row7 col3\" >0.06</td>\n",
       "                        <td id=\"T_8d60f_row7_col4\" class=\"data row7 col4\" >87.25</td>\n",
       "            </tr>\n",
       "    </tbody></table>"
      ],
      "text/plain": [
       "<pandas.io.formats.style.Styler at 0x7fce1ab7df10>"
      ]
     },
     "execution_count": 7,
     "metadata": {},
     "output_type": "execute_result"
    }
   ],
   "source": [
    "# Projections\n",
    "l_estimates_ = list()\n",
    "\n",
    "time_mins = 10.0 + (1/6)\n",
    "rows_embedded_ = 781653\n",
    "\n",
    "rows_to_embed_ = int(53663530)\n",
    "projected_time_mins = time_mins * (rows_to_embed_ / rows_embedded_)\n",
    "\n",
    "l_estimates_.append(\n",
    "    {\n",
    "        'n_rows': rows_to_embed_,\n",
    "        'n_jobs': 1,\n",
    "        'projected_hours': projected_time_mins / 60,\n",
    "        'projected_days': projected_time_mins / (60 * 24),\n",
    "        'projected_mins': projected_time_mins,\n",
    "    }\n",
    ")\n",
    "\n",
    "for n_parallel_jobs_ in range(2, 9):\n",
    "    proj_mins_parallel = projected_time_mins / n_parallel_jobs_\n",
    "    l_estimates_.append(\n",
    "        {\n",
    "            'n_rows': rows_to_embed_,\n",
    "            'n_jobs': n_parallel_jobs_,\n",
    "            'projected_hours': proj_mins_parallel / 60, \n",
    "            'projected_days': proj_mins_parallel / (60 * 24), \n",
    "            'projected_mins': proj_mins_parallel,\n",
    "        }\n",
    "    )\n",
    "\n",
    "style_df_numeric(\n",
    "    pd.DataFrame(l_estimates_)\n",
    ")"
   ]
  },
  {
   "cell_type": "code",
   "execution_count": null,
   "id": "eac5a6ea",
   "metadata": {},
   "outputs": [],
   "source": []
  }
 ],
 "metadata": {
  "environment": {
   "name": "tf2-gpu.2-3.m74",
   "type": "gcloud",
   "uri": "gcr.io/deeplearning-platform-release/tf2-gpu.2-3:m74"
  },
  "kernelspec": {
   "display_name": "Python 3",
   "language": "python",
   "name": "python3"
  },
  "language_info": {
   "codemirror_mode": {
    "name": "ipython",
    "version": 3
   },
   "file_extension": ".py",
   "mimetype": "text/x-python",
   "name": "python",
   "nbconvert_exporter": "python",
   "pygments_lexer": "ipython3",
   "version": "3.7.10"
  }
 },
 "nbformat": 4,
 "nbformat_minor": 5
}
