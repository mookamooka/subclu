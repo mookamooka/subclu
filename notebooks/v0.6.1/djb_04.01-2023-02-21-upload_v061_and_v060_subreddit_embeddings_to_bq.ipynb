{
 "cells": [
  {
   "cell_type": "markdown",
   "id": "3c52ef00",
   "metadata": {},
   "source": [
    "# Purpose\n",
    "\n",
    "**2023-02-21: v0.6.0** update\n",
    "<br>For some reason the previous table with CAU embeddings was deleted. With this notebook, we recreate the table AND upload subreddit embeddings from: \n",
    "- v0.6.0\n",
    "- v0.6.1\n",
    "\n",
    "To make it easier, we'll only add the embeddings that have additional weight for subreddits with 1 or 2 posts because those did slightly better in previous models. We can load and test the other embeddings later.\n",
    "\n",
    "--- \n",
    "\n",
    "**2022-08-30: v0.6.0**\n",
    "The default parquet embedding format for my embeddings (1 row per column) is not favored for bigquery & other steam standards.\n",
    "\n",
    "The preferred format is: 1 column that has repeated records. For example:\n",
    "- `data-prod-165221.ml_content.subreddit_embeddings_ft2` \n",
    "    - [console link](https://console.cloud.google.com/bigquery?project=data-science-prod-218515&ws=!1m10!1m4!4m3!1sdata-prod-165221!2sml_content!3ssimilar_subreddit_ft2!1m4!4m3!1sdata-prod-165221!2sml_content!3ssubreddit_embeddings_ft2)\n",
    "    - github link\n",
    "        - https://github.snooguts.net/reddit/gazette-models/blob/master/similar_subreddit/embeddings/__main__.py#L105-L112\n",
    "\n",
    "In this notebook we convert a dataframe into a new-line delimited JSON file. \n",
    "<br>With pandas we can vectorize this function instead of having to loop through each row (subreddit) individually.\n",
    "\n",
    "In this notebook we're loading 2 separate embedding flavors based on the `embeddings_artifact_path` and loading to the BQ in two separate partitions.\n",
    "\n",
    "---\n",
    "\n",
    "```python\n",
    "sr_embedding_dict = {\n",
    "    \"pt\": date_today,\n",
    "    \"model_name\": MODEL_NAME,\n",
    "    \"model_version\": MODEL_VERSION,\n",
    "    \"subreddit_id\": sr_dict[\"subreddit_id\"],\n",
    "    \"subreddit_name\": subreddit_name_lowercase,\n",
    "    \"embedding\": sr_embedding.tolist(),\n",
    "}\n",
    "```\n",
    "\n",
    "In BQ:\n",
    "```\n",
    "Field name\t\tType\tMode\t\tDescription\n",
    "model_name  \tSTRING\tNULLABLE\t\tModel name\t\n",
    "model_version\tSTRING\tNULLABLE\t\tModel version\t\n",
    "subreddit_id\tSTRING\tNULLABLE\t\tSubreddit id\t\n",
    "subreddit_name\tSTRING\tNULLABLE\t\tLower case subreddit name\t\n",
    "**embedding\t\tFLOAT\tREPEATED\t\tSubreddit embeddings\n",
    "```"
   ]
  },
  {
   "cell_type": "markdown",
   "id": "9858ec3e",
   "metadata": {},
   "source": [
    "# Notebook setup"
   ]
  },
  {
   "cell_type": "code",
   "execution_count": 1,
   "id": "ca806ef6",
   "metadata": {},
   "outputs": [],
   "source": [
    "%load_ext autoreload\n",
    "%autoreload 2"
   ]
  },
  {
   "cell_type": "code",
   "execution_count": 2,
   "id": "119feee0",
   "metadata": {},
   "outputs": [
    {
     "name": "stdout",
     "output_type": "stream",
     "text": [
      "python\t\tv 3.7.10\n",
      "===\n",
      "hydra\t\tv: 1.1.0\n",
      "mlflow\t\tv: 1.16.0\n",
      "numpy\t\tv: 1.19.5\n",
      "pandas\t\tv: 1.2.4\n",
      "subclu\t\tv: 0.6.1\n"
     ]
    }
   ],
   "source": [
    "from datetime import datetime, timedelta\n",
    "import os\n",
    "import logging\n",
    "from logging import info\n",
    "from pathlib import Path\n",
    "\n",
    "import numpy as np\n",
    "import pandas as pd\n",
    "from tqdm.auto import tqdm\n",
    "\n",
    "import mlflow\n",
    "import hydra\n",
    "\n",
    "import subclu\n",
    "from subclu.utils.hydra_config_loader import LoadHydraConfig\n",
    "from subclu.utils import set_working_directory, get_project_subfolder\n",
    "from subclu.utils.eda import (\n",
    "    setup_logging, counts_describe, value_counts_and_pcts,\n",
    "    notebook_display_config, print_lib_versions,\n",
    "    style_df_numeric,\n",
    "    elapsed_time,\n",
    ")\n",
    "\n",
    "from subclu.utils.mlflow_logger import MlflowLogger\n",
    "from subclu.models.bq_embedding_schemas import embeddings_schema\n",
    "from subclu.models.reshape_embeddings_for_bq import reshape_embeddings_to_ndjson, reshape_embeddings_and_upload_to_bq\n",
    "from subclu.utils.big_query_utils import load_data_to_bq_table\n",
    "\n",
    "print_lib_versions([hydra, mlflow, np, pd, subclu])"
   ]
  },
  {
   "cell_type": "code",
   "execution_count": 3,
   "id": "ce162855",
   "metadata": {},
   "outputs": [],
   "source": [
    "# plotting\n",
    "import matplotlib.pyplot as plt\n",
    "import matplotlib.ticker as mtick\n",
    "import matplotlib.dates as mdates\n",
    "plt.style.use('default')\n",
    "\n",
    "setup_logging()\n",
    "notebook_display_config()"
   ]
  },
  {
   "cell_type": "markdown",
   "id": "a50cb1b8",
   "metadata": {},
   "source": [
    "# Load configs for embeddings to reshape & upload to BQ\n",
    "\n",
    "The embedding aggregation should've been logged to `mlflow` so we should be able to\n",
    "- make calls to mlflow to get the embeddings\n",
    "- add the new embeddings format to the original job\n",
    "\n",
    "---\n",
    "We have 2 strategies for getting subreddit embeddings. For now we'll only make available the `extra weight to subreddit meta` because that performed slightly better in previous taxonomy/rating models.\n",
    "\n",
    "\n"
   ]
  },
  {
   "cell_type": "code",
   "execution_count": 11,
   "id": "cef19d56",
   "metadata": {},
   "outputs": [],
   "source": [
    "cfg_reshape_embeddings_wt = LoadHydraConfig(\n",
    "    config_name='reshape_embeddings_for_bq-subreddit-v0.6.0_desc_extra_weight.yaml',\n",
    "    config_path=\"../config\",\n",
    ")"
   ]
  },
  {
   "cell_type": "code",
   "execution_count": 12,
   "id": "9fc79268",
   "metadata": {},
   "outputs": [],
   "source": [
    "cfg_reshape_embeddings_061_wt = LoadHydraConfig(\n",
    "    config_name='reshape_embeddings_for_bq-subreddit-v0.6.1_desc_extra_weight.yaml',\n",
    "    config_path=\"../config\",\n",
    ")"
   ]
  },
  {
   "cell_type": "code",
   "execution_count": 57,
   "id": "f1c68c26",
   "metadata": {},
   "outputs": [],
   "source": [
    "cfg_reshape_embeddings_061 = LoadHydraConfig(\n",
    "    config_name='reshape_embeddings_for_bq-subreddit-v0.6.1.yaml',\n",
    "    config_path=\"../config\",\n",
    ")"
   ]
  },
  {
   "cell_type": "code",
   "execution_count": 13,
   "id": "66878505",
   "metadata": {},
   "outputs": [
    {
     "name": "stdout",
     "output_type": "stream",
     "text": [
      "data_text_and_metadata:\n",
      "    dataset_name: v0.6.0 inputs. ~110k seed subreddits, ~340k with 3+ posts, ~700k total subreddits\n",
      "    bucket_name: i18n-subreddit-clustering\n",
      "    folder_subreddits_text_and_meta: i18n_topic_model_batch/runs/20220811/subreddits/text\n",
      "    folder_posts_text_and_meta: i18n_topic_model_batch/runs/20220811/posts\n",
      "    folder_comments_text_and_meta: i18n_topic_model_batch/runs/20220811/comments\n",
      "    folder_post_and_comment_text_and_meta: i18n_topic_model_batch/runs/20220811/post_and_comment_text_combined/text_all\n",
      "data_embeddings_to_aggregate:\n",
      "    bucket_embeddings: i18n-subreddit-clustering\n",
      "    post_and_comments_folder_embeddings: i18n_topic_model_batch/runs/20220811/post_and_comment_text_combined/text_all/embedding/2022-08-11_084218\n",
      "    subreddit_desc_folder_embeddings: i18n_topic_model_batch/runs/20220811/subreddits/text/embedding/2022-08-11_082859\n",
      "    col_subreddit_id: subreddit_id\n",
      "aggregate_params:\n",
      "    min_post_and_comment_text_len: 3\n",
      "    agg_post_post_and_comment_weight: 85\n",
      "    agg_post_subreddit_desc_weight: 15\n",
      "description: Use this config to reshape embeddings and upload them to BigQuery\n",
      "bucket_output: i18n-subreddit-clustering\n",
      "mlflow_tracking_uri: sqlite\n",
      "mlflow_run_id: badc44b0e5ac467da14f710da0b410c6\n",
      "embeddings_artifact_path: df_subs_agg_c1\n",
      "bq_project: reddit-employee-datasets\n",
      "bq_dataset: david_bermejo\n",
      "bq_table: cau_subreddit_embeddings\n",
      "bq_table_description: Subreddit-level embeddings. See the wiki for more details. https://reddit.atlassian.net/wiki/spaces/DataScience/pages/2404220935/\n",
      "update_table_description: False,\n",
      "pt: 2022-08-10\n",
      "model_version: v0.6.0\n",
      "model_name: cau-text-mUSE extra weight for subreddit description\n",
      "embeddings_config: aggregate_embeddings_v0.6.0\n"
     ]
    }
   ],
   "source": [
    "for k_, v_ in cfg_reshape_embeddings_wt.config_dict.items():\n",
    "    if isinstance(v_, dict):\n",
    "        print(f\"{k_}:\")\n",
    "        for k2_, v2_ in v_.items():\n",
    "            pass\n",
    "            print(f\"    {k2_}: {v2_}\")\n",
    "    else:\n",
    "        print(f\"{k_}: {v_}\")"
   ]
  },
  {
   "cell_type": "code",
   "execution_count": 14,
   "id": "adf7fcff",
   "metadata": {},
   "outputs": [
    {
     "name": "stdout",
     "output_type": "stream",
     "text": [
      "data_text_and_metadata:\n",
      "data_embeddings_to_aggregate:\n",
      "aggregate_params:\n",
      "description: Use this config to reshape embeddings and upload them to BigQuery\n",
      "bucket_output: i18n-subreddit-clustering\n",
      "mlflow_tracking_uri: sqlite\n",
      "mlflow_run_id: 91ac7ca171024c779c0992f59470c81b\n",
      "embeddings_artifact_path: df_subs_agg_c1\n",
      "bq_project: reddit-employee-datasets\n",
      "bq_dataset: david_bermejo\n",
      "bq_table: cau_subreddit_embeddings\n",
      "bq_table_description: Subreddit-level embeddings. See the wiki for more details. https://reddit.atlassian.net/wiki/spaces/DataScience/pages/2404220935/\n",
      "update_table_description: True,\n",
      "pt: 2022-11-08\n",
      "model_version: v0.6.1\n",
      "model_name: cau-text-mUSE extra weight for subreddit description\n",
      "embeddings_config: aggregate_embeddings_v0.6.1\n"
     ]
    }
   ],
   "source": [
    "for k_, v_ in cfg_reshape_embeddings_061_wt.config_dict.items():\n",
    "    if isinstance(v_, dict):\n",
    "        print(f\"{k_}:\")\n",
    "        for k2_, v2_ in v_.items():\n",
    "            pass\n",
    "#             print(f\"    {k2_}: {v2_}\")\n",
    "    else:\n",
    "        print(f\"{k_}: {v_}\")"
   ]
  },
  {
   "cell_type": "markdown",
   "id": "c11fa6ea",
   "metadata": {},
   "source": [
    "# Start MLflow & Get Artifact Paths\n",
    "\n",
    "This mlflow server will help us get the artifacts & subreddit-embeddings for the `mlflow-uuid` flagged in the configurations below."
   ]
  },
  {
   "cell_type": "code",
   "execution_count": 16,
   "id": "1cb8a5d3",
   "metadata": {},
   "outputs": [],
   "source": [
    "mlf = MlflowLogger(tracking_uri=cfg_reshape_embeddings_wt.config_dict['mlflow_tracking_uri'])"
   ]
  },
  {
   "cell_type": "code",
   "execution_count": 22,
   "id": "de434343",
   "metadata": {},
   "outputs": [
    {
     "name": "stdout",
     "output_type": "stream",
     "text": [
      "(44, 4)\n",
      "(14, 4)\n"
     ]
    },
    {
     "data": {
      "text/html": [
       "<div>\n",
       "<style scoped>\n",
       "    .dataframe tbody tr th:only-of-type {\n",
       "        vertical-align: middle;\n",
       "    }\n",
       "\n",
       "    .dataframe tbody tr th {\n",
       "        vertical-align: top;\n",
       "    }\n",
       "\n",
       "    .dataframe thead th {\n",
       "        text-align: right;\n",
       "    }\n",
       "</style>\n",
       "<table border=\"1\" class=\"dataframe\">\n",
       "  <thead>\n",
       "    <tr style=\"text-align: right;\">\n",
       "      <th></th>\n",
       "      <th>experiment_id</th>\n",
       "      <th>name</th>\n",
       "      <th>artifact_location</th>\n",
       "      <th>lifecycle_stage</th>\n",
       "    </tr>\n",
       "  </thead>\n",
       "  <tbody>\n",
       "    <tr>\n",
       "      <th>21</th>\n",
       "      <td>21</td>\n",
       "      <td>v0.4.1_mUSE_aggregates_test</td>\n",
       "      <td>gs://i18n-subreddit-clustering/mlflow/mlruns/21</td>\n",
       "      <td>active</td>\n",
       "    </tr>\n",
       "    <tr>\n",
       "      <th>22</th>\n",
       "      <td>22</td>\n",
       "      <td>v0.4.1_mUSE_aggregates</td>\n",
       "      <td>gs://i18n-subreddit-clustering/mlflow/mlruns/22</td>\n",
       "      <td>active</td>\n",
       "    </tr>\n",
       "    <tr>\n",
       "      <th>28</th>\n",
       "      <td>28</td>\n",
       "      <td>v0.5.0_mUSE_aggregates_test</td>\n",
       "      <td>gs://i18n-subreddit-clustering/mlflow/mlruns/28</td>\n",
       "      <td>active</td>\n",
       "    </tr>\n",
       "    <tr>\n",
       "      <th>29</th>\n",
       "      <td>29</td>\n",
       "      <td>v0.5.0_mUSE_aggregates</td>\n",
       "      <td>gs://i18n-subreddit-clustering/mlflow/mlruns/29</td>\n",
       "      <td>active</td>\n",
       "    </tr>\n",
       "    <tr>\n",
       "      <th>34</th>\n",
       "      <td>34</td>\n",
       "      <td>v0.6.0_mUSE_aggregates_test</td>\n",
       "      <td>gs://i18n-subreddit-clustering/mlflow/mlruns/34</td>\n",
       "      <td>active</td>\n",
       "    </tr>\n",
       "    <tr>\n",
       "      <th>35</th>\n",
       "      <td>35</td>\n",
       "      <td>v0.6.0_mUSE_aggregates</td>\n",
       "      <td>gs://i18n-subreddit-clustering/mlflow/mlruns/35</td>\n",
       "      <td>active</td>\n",
       "    </tr>\n",
       "    <tr>\n",
       "      <th>39</th>\n",
       "      <td>39</td>\n",
       "      <td>v0.6.1_mUSE_aggregates_test</td>\n",
       "      <td>gs://i18n-subreddit-clustering/mlflow/mlruns/39</td>\n",
       "      <td>active</td>\n",
       "    </tr>\n",
       "    <tr>\n",
       "      <th>40</th>\n",
       "      <td>40</td>\n",
       "      <td>v0.6.1_mUSE_aggregates</td>\n",
       "      <td>gs://i18n-subreddit-clustering/mlflow/mlruns/40</td>\n",
       "      <td>active</td>\n",
       "    </tr>\n",
       "  </tbody>\n",
       "</table>\n",
       "</div>"
      ],
      "text/plain": [
       "   experiment_id                         name                                artifact_location lifecycle_stage\n",
       "21            21  v0.4.1_mUSE_aggregates_test  gs://i18n-subreddit-clustering/mlflow/mlruns/21          active\n",
       "22            22       v0.4.1_mUSE_aggregates  gs://i18n-subreddit-clustering/mlflow/mlruns/22          active\n",
       "28            28  v0.5.0_mUSE_aggregates_test  gs://i18n-subreddit-clustering/mlflow/mlruns/28          active\n",
       "29            29       v0.5.0_mUSE_aggregates  gs://i18n-subreddit-clustering/mlflow/mlruns/29          active\n",
       "34            34  v0.6.0_mUSE_aggregates_test  gs://i18n-subreddit-clustering/mlflow/mlruns/34          active\n",
       "35            35       v0.6.0_mUSE_aggregates  gs://i18n-subreddit-clustering/mlflow/mlruns/35          active\n",
       "39            39  v0.6.1_mUSE_aggregates_test  gs://i18n-subreddit-clustering/mlflow/mlruns/39          active\n",
       "40            40       v0.6.1_mUSE_aggregates  gs://i18n-subreddit-clustering/mlflow/mlruns/40          active"
      ]
     },
     "execution_count": 22,
     "metadata": {},
     "output_type": "execute_result"
    }
   ],
   "source": [
    "# get experiments that have aggregates in them\n",
    "df_exp_all = mlf.list_experiment_meta(output_format='pandas')\n",
    "print(df_exp_all.shape)\n",
    "\n",
    "df_exp_aggs = (\n",
    "    df_exp_all[df_exp_all['name'].str.contains('aggregate')]\n",
    ")\n",
    "print(df_exp_aggs.shape)\n",
    "df_exp_aggs.tail(8)"
   ]
  },
  {
   "cell_type": "code",
   "execution_count": 35,
   "id": "0c5abc80",
   "metadata": {},
   "outputs": [
    {
     "name": "stdout",
     "output_type": "stream",
     "text": [
      "(17, 46)\n",
      "CPU times: user 79.5 ms, sys: 0 ns, total: 79.5 ms\n",
      "Wall time: 78.8 ms\n"
     ]
    }
   ],
   "source": [
    "%%time\n",
    "# limit scope to the latest experiments with aggregate info\n",
    "df_mlf = (\n",
    "    mlf.search_all_runs(experiment_ids=sorted(df_exp_aggs['experiment_id'].astype(int))[-6:])\n",
    "    .assign(experiment_id=lambda x: x['experiment_id'].astype(int))\n",
    ")\n",
    "print(df_mlf.shape)"
   ]
  },
  {
   "cell_type": "code",
   "execution_count": 38,
   "id": "827c7bca",
   "metadata": {},
   "outputs": [
    {
     "data": {
      "text/html": [
       "<div>\n",
       "<style scoped>\n",
       "    .dataframe tbody tr th:only-of-type {\n",
       "        vertical-align: middle;\n",
       "    }\n",
       "\n",
       "    .dataframe tbody tr th {\n",
       "        vertical-align: top;\n",
       "    }\n",
       "\n",
       "    .dataframe thead th {\n",
       "        text-align: right;\n",
       "    }\n",
       "</style>\n",
       "<table border=\"1\" class=\"dataframe\">\n",
       "  <thead>\n",
       "    <tr style=\"text-align: right;\">\n",
       "      <th></th>\n",
       "      <th>run_id</th>\n",
       "      <th>experiment_id</th>\n",
       "      <th>artifact_uri</th>\n",
       "      <th>start_time</th>\n",
       "      <th>end_time</th>\n",
       "      <th>metrics.df_v_subs-cols</th>\n",
       "      <th>metrics.df_v_subs-rows</th>\n",
       "      <th>metrics.time_fxn-data_loading_time</th>\n",
       "      <th>metrics.df_v_post_comments-cols</th>\n",
       "      <th>metrics.df_v_post_comments-rows</th>\n",
       "      <th>metrics.df_posts_agg_c1-rows</th>\n",
       "      <th>metrics.df_subs_agg_c1_uw-rows</th>\n",
       "      <th>metrics.df_subs_agg_c1-cols</th>\n",
       "    </tr>\n",
       "  </thead>\n",
       "  <tbody>\n",
       "    <tr>\n",
       "      <th>2</th>\n",
       "      <td>91ac7ca171024c779c0992f59470c81b</td>\n",
       "      <td>40</td>\n",
       "      <td>gs://i18n-subreddit-clustering/mlflow/mlruns/40/91ac7ca171024c779c0992f59470c81b/artifacts</td>\n",
       "      <td>2022-11-07 21:38:57.662000+00:00</td>\n",
       "      <td>2022-11-23 02:06:49.677000+00:00</td>\n",
       "      <td>514.0</td>\n",
       "      <td>781653.0</td>\n",
       "      <td>5.742884</td>\n",
       "      <td>515.0</td>\n",
       "      <td>53597817.0</td>\n",
       "      <td>53597817.0</td>\n",
       "      <td>781653.0</td>\n",
       "      <td>515.0</td>\n",
       "    </tr>\n",
       "    <tr>\n",
       "      <th>4</th>\n",
       "      <td>badc44b0e5ac467da14f710da0b410c6</td>\n",
       "      <td>35</td>\n",
       "      <td>gs://i18n-subreddit-clustering/mlflow/mlruns/35/badc44b0e5ac467da14f710da0b410c6/artifacts</td>\n",
       "      <td>2022-08-16 08:41:53.006000+00:00</td>\n",
       "      <td>2022-09-10 00:54:17.303000+00:00</td>\n",
       "      <td>514.0</td>\n",
       "      <td>771760.0</td>\n",
       "      <td>3.698822</td>\n",
       "      <td>515.0</td>\n",
       "      <td>51906348.0</td>\n",
       "      <td>51906348.0</td>\n",
       "      <td>771760.0</td>\n",
       "      <td>515.0</td>\n",
       "    </tr>\n",
       "  </tbody>\n",
       "</table>\n",
       "</div>"
      ],
      "text/plain": [
       "                             run_id  experiment_id                                                                                artifact_uri                       start_time                         end_time  metrics.df_v_subs-cols  metrics.df_v_subs-rows  metrics.time_fxn-data_loading_time  \\\n",
       "2  91ac7ca171024c779c0992f59470c81b             40  gs://i18n-subreddit-clustering/mlflow/mlruns/40/91ac7ca171024c779c0992f59470c81b/artifacts 2022-11-07 21:38:57.662000+00:00 2022-11-23 02:06:49.677000+00:00                   514.0                781653.0                            5.742884   \n",
       "4  badc44b0e5ac467da14f710da0b410c6             35  gs://i18n-subreddit-clustering/mlflow/mlruns/35/badc44b0e5ac467da14f710da0b410c6/artifacts 2022-08-16 08:41:53.006000+00:00 2022-09-10 00:54:17.303000+00:00                   514.0                771760.0                            3.698822   \n",
       "\n",
       "   metrics.df_v_post_comments-cols  metrics.df_v_post_comments-rows  metrics.df_posts_agg_c1-rows  metrics.df_subs_agg_c1_uw-rows  metrics.df_subs_agg_c1-cols  \n",
       "2                            515.0                       53597817.0                    53597817.0                        781653.0                        515.0  \n",
       "4                            515.0                       51906348.0                    51906348.0                        771760.0                        515.0  "
      ]
     },
     "execution_count": 38,
     "metadata": {},
     "output_type": "execute_result"
    }
   ],
   "source": [
    "l_cols_to_drop = list()\n",
    "for init_ in ['metrics.memory_', 'params.memory_', 'metrics.cpu_c', 'params.cpu_c']:\n",
    "    l_cols_to_drop = l_cols_to_drop + [c for c in df_mlf if c.startswith(init_)]\n",
    "\n",
    "# only show finished runs\n",
    "# (\n",
    "#     df_mlf[df_mlf['status'] == \"FINISHED\"]\n",
    "#     .drop(columns=['status'] + l_cols_to_drop)\n",
    "#     .dropna(axis=1, how='all')\n",
    "#     .iloc[:5, :13]\n",
    "# )\n",
    "\n",
    "# show only runs to upload\n",
    "(\n",
    "    df_mlf[\n",
    "        df_mlf['run_id'].isin([cfg_reshape_embeddings_061_wt.config_dict['mlflow_run_id'], cfg_reshape_embeddings_wt.config_dict['mlflow_run_id']])\n",
    "    ]\n",
    "    .drop(columns=['status'] + l_cols_to_drop)\n",
    "    .dropna(axis=1, how='all')\n",
    "    .iloc[:5, :13]\n",
    ")"
   ]
  },
  {
   "cell_type": "markdown",
   "id": "566be677",
   "metadata": {},
   "source": [
    "## Get paths to latest reshaped data\n",
    "Since we already reshaped the data and it's in GCS, let's read that instead of reshaping creating a copy"
   ]
  },
  {
   "cell_type": "code",
   "execution_count": 39,
   "id": "c063ec1f",
   "metadata": {},
   "outputs": [
    {
     "name": "stderr",
     "output_type": "stream",
     "text": [
      "17:38:57 | INFO | \"   293 <- Artifacts to check count\"\n",
      "17:38:57 | INFO | \"   293 <- Artifacts clean count\"\n",
      "17:38:57 | INFO | \"    10 <- Artifacts & folders at TOP LEVEL clean count\"\n",
      "17:39:03 | INFO | \"   293 <- Artifacts clean count\"\n",
      "17:39:03 | INFO | \"    10 <- Artifacts & folders at TOP LEVEL clean count\"\n"
     ]
    }
   ],
   "source": [
    "%%time\n",
    "\n",
    "l_artifacts_top_level = mlf.list_run_artifacts(\n",
    "    run_id=cfg_reshape_embeddings_wt.config_dict['mlflow_run_id'],\n",
    "    only_top_level=True,\n",
    "    verbose=True,\n",
    "    full_path=True,\n",
    ")\n",
    "l_artifacts_all = mlf.list_run_artifacts(\n",
    "    run_id=cfg_reshape_embeddings_wt.config_dict['mlflow_run_id'],\n",
    "    only_top_level=False,\n",
    "    verbose=False,\n",
    "    full_path=True,\n",
    ")\n",
    "# l_artifacts_top_level"
   ]
  },
  {
   "cell_type": "code",
   "execution_count": 42,
   "id": "5d611124",
   "metadata": {},
   "outputs": [
    {
     "name": "stderr",
     "output_type": "stream",
     "text": [
      "17:39:50 | INFO | \"   342 <- Artifacts to check count\"\n",
      "17:39:50 | INFO | \"   342 <- Artifacts clean count\"\n",
      "17:39:50 | INFO | \"     9 <- Artifacts & folders at TOP LEVEL clean count\"\n",
      "17:39:56 | INFO | \"   342 <- Artifacts clean count\"\n",
      "17:39:56 | INFO | \"     9 <- Artifacts & folders at TOP LEVEL clean count\"\n"
     ]
    },
    {
     "name": "stdout",
     "output_type": "stream",
     "text": [
      "CPU times: user 9 s, sys: 673 ms, total: 9.67 s\n",
      "Wall time: 12.7 s\n"
     ]
    }
   ],
   "source": [
    "%%time\n",
    "\n",
    "l_artifacts_top_level_061 = mlf.list_run_artifacts(\n",
    "    run_id=cfg_reshape_embeddings_061_wt.config_dict['mlflow_run_id'],\n",
    "    only_top_level=True,\n",
    "    verbose=True,\n",
    "    full_path=True,\n",
    ")\n",
    "\n",
    "l_artifacts_all_061 = mlf.list_run_artifacts(\n",
    "    run_id=cfg_reshape_embeddings_061_wt.config_dict['mlflow_run_id'],\n",
    "    only_top_level=False,\n",
    "    verbose=False,\n",
    "    full_path=True,\n",
    ")"
   ]
  },
  {
   "cell_type": "code",
   "execution_count": 41,
   "id": "63116e2d",
   "metadata": {},
   "outputs": [
    {
     "name": "stdout",
     "output_type": "stream",
     "text": [
      "Folder with parquet files:\n",
      "df_subs_agg_c1\n",
      "\n",
      "Folder with parquet files (full):\n",
      "gs://i18n-subreddit-clustering/mlflow/mlruns/35/badc44b0e5ac467da14f710da0b410c6/artifacts/df_subs_agg_c1\n",
      "\n"
     ]
    },
    {
     "data": {
      "text/plain": [
       "['gs://i18n-subreddit-clustering/mlflow/mlruns/35/badc44b0e5ac467da14f710da0b410c6/artifacts/df_subs_agg_c1/_common_metadata',\n",
       " 'gs://i18n-subreddit-clustering/mlflow/mlruns/35/badc44b0e5ac467da14f710da0b410c6/artifacts/df_subs_agg_c1/_metadata',\n",
       " 'gs://i18n-subreddit-clustering/mlflow/mlruns/35/badc44b0e5ac467da14f710da0b410c6/artifacts/df_subs_agg_c1/part.0.parquet',\n",
       " 'gs://i18n-subreddit-clustering/mlflow/mlruns/35/badc44b0e5ac467da14f710da0b410c6/artifacts/df_subs_agg_c1/part.1.parquet',\n",
       " 'gs://i18n-subreddit-clustering/mlflow/mlruns/35/badc44b0e5ac467da14f710da0b410c6/artifacts/df_subs_agg_c1/part.2.parquet',\n",
       " 'gs://i18n-subreddit-clustering/mlflow/mlruns/35/badc44b0e5ac467da14f710da0b410c6/artifacts/df_subs_agg_c1/part.3.parquet']"
      ]
     },
     "execution_count": 41,
     "metadata": {},
     "output_type": "execute_result"
    }
   ],
   "source": [
    "# get path for parquet file. This should be a full folder with multiple parquet files\n",
    "path_parquet_ = (\n",
    "    cfg_reshape_embeddings_wt.config_dict['embeddings_artifact_path']\n",
    ")\n",
    "\n",
    "folder_parquet_ = (\n",
    "    cfg_reshape_embeddings_wt.config_dict['embeddings_artifact_path']\n",
    ")\n",
    "folder_parquet_full_ = [i_ for i_ in l_artifacts_top_level if i_.split('/')[-1] == folder_parquet_][0]\n",
    "\n",
    "print(f\"Folder with parquet files:\\n{path_parquet_}\")\n",
    "print(f\"\\nFolder with parquet files (full):\\n{folder_parquet_full_}\\n\")\n",
    "\n",
    "[_ for _ in l_artifacts_all if folder_parquet_ == _.split('/')[-2]]"
   ]
  },
  {
   "cell_type": "code",
   "execution_count": 43,
   "id": "39469b1b",
   "metadata": {},
   "outputs": [
    {
     "name": "stdout",
     "output_type": "stream",
     "text": [
      "ndjson Files:\n",
      "['gs://i18n-subreddit-clustering/mlflow/mlruns/35/badc44b0e5ac467da14f710da0b410c6/artifacts/df_subs_agg_c1_ndjson/subreddit_embeddings_2022-08-31_035824.json']\n",
      "\n",
      "File to upload to BQ:\n",
      "gs://i18n-subreddit-clustering/mlflow/mlruns/35/badc44b0e5ac467da14f710da0b410c6/artifacts/df_subs_agg_c1_ndjson/subreddit_embeddings_2022-08-31_035824.json\n"
     ]
    }
   ],
   "source": [
    "# get path for latest ndjson output FILE\n",
    "#  NOTE: there could be multiple runs of this file so we pull the latest one\n",
    "path_ndjson_ = (\n",
    "    cfg_reshape_embeddings_wt.config_dict['embeddings_artifact_path'] + '_ndjson'\n",
    ")\n",
    "l_ndjson_files_ = [_ for _ in l_artifacts_all if path_ndjson_ in _]\n",
    "ndjson_path_ = l_ndjson_files_[-1]\n",
    "print(f\"ndjson Files:\\n{l_ndjson_files_}\")\n",
    "\n",
    "print(f\"\\nFile to upload to BQ:\\n{ndjson_path_}\")"
   ]
  },
  {
   "cell_type": "code",
   "execution_count": 44,
   "id": "b51096d0",
   "metadata": {},
   "outputs": [
    {
     "name": "stdout",
     "output_type": "stream",
     "text": [
      "\n",
      "File to upload to BQ:\n",
      "gs://i18n-subreddit-clustering/mlflow/mlruns/40/91ac7ca171024c779c0992f59470c81b/artifacts/df_subs_agg_c1_ndjson/subreddit_embeddings_2022-11-18_171217.json\n"
     ]
    }
   ],
   "source": [
    "# get path for latest ndjson output FILE\n",
    "#  NOTE: there could be multiple runs of this file so we pull the latest one\n",
    "path_ndjson_061 = (\n",
    "    cfg_reshape_embeddings_061_wt.config_dict['embeddings_artifact_path'] + '_ndjson'\n",
    ")\n",
    "l_ndjson_files_061 = [_ for _ in l_artifacts_all_061 if path_ndjson_061 in _]\n",
    "ndjson_path_061 = l_ndjson_files_061[-1]\n",
    "# print(f\"ndjson file list:\\n{l_ndjson_files_061}\")\n",
    "\n",
    "print(f\"\\nFile to upload to BQ:\\n{ndjson_path_061}\")"
   ]
  },
  {
   "cell_type": "markdown",
   "id": "9b06bad8",
   "metadata": {},
   "source": [
    "# Run new function to only upload existing reshaped data"
   ]
  },
  {
   "cell_type": "code",
   "execution_count": 45,
   "id": "06b9ec17",
   "metadata": {},
   "outputs": [
    {
     "name": "stderr",
     "output_type": "stream",
     "text": [
      "17:54:08 | INFO | \"Loading this URI:\n",
      "  gs://i18n-subreddit-clustering/mlflow/mlruns/35/badc44b0e5ac467da14f710da0b410c6/artifacts/df_subs_agg_c1_ndjson/subreddit_embeddings_2022-08-31_035824.json\n",
      "Into this table:\n",
      "  reddit-employee-datasets.david_bermejo.cau_subreddit_embeddings\"\n",
      "17:54:08 | INFO | \"Created table reddit-employee-datasets.david_bermejo.cau_subreddit_embeddings\"\n",
      "17:54:09 | INFO | \"  0 rows in table BEFORE adding data\"\n",
      "17:54:54 | INFO | \"Original Table Expiration: 2023-06-02 17:54:08.511000+00:00\"\n",
      "17:54:55 | INFO | \"NEW Table Expiration: None\"\n",
      "17:54:55 | INFO | \"Updating subreddit description from:\n",
      "  Subreddit-level embeddings. See the wiki for more details. https://reddit.atlassian.net/wiki/spaces/DataScience/pages/2404220935/\n",
      "to:\n",
      "  Subreddit-level embeddings. See the wiki for more details. https://reddit.atlassian.net/wiki/spaces/DataScience/pages/2404220935/\"\n",
      "17:54:55 | INFO | \"  771,760 rows in table AFTER adding data\"\n"
     ]
    },
    {
     "name": "stdout",
     "output_type": "stream",
     "text": [
      "CPU times: user 75.3 ms, sys: 31.9 ms, total: 107 ms\n",
      "Wall time: 48.7 s\n"
     ]
    }
   ],
   "source": [
    "%%time\n",
    "\n",
    "load_data_to_bq_table(\n",
    "    uri=ndjson_path_,\n",
    "    bq_project=cfg_reshape_embeddings_wt.config_dict['bq_project'],\n",
    "    bq_dataset=cfg_reshape_embeddings_wt.config_dict['bq_dataset'],\n",
    "    bq_table_name=cfg_reshape_embeddings_wt.config_dict['bq_table'],\n",
    "    schema=embeddings_schema(),\n",
    "    partition_column='pt',\n",
    "    table_description=cfg_reshape_embeddings_wt.config_dict['bq_table_description'],\n",
    "    update_table_description=True,\n",
    ")"
   ]
  },
  {
   "cell_type": "code",
   "execution_count": 46,
   "id": "f73a9403",
   "metadata": {},
   "outputs": [
    {
     "name": "stderr",
     "output_type": "stream",
     "text": [
      "17:55:47 | INFO | \"Loading this URI:\n",
      "  gs://i18n-subreddit-clustering/mlflow/mlruns/40/91ac7ca171024c779c0992f59470c81b/artifacts/df_subs_agg_c1_ndjson/subreddit_embeddings_2022-11-18_171217.json\n",
      "Into this table:\n",
      "  reddit-employee-datasets.david_bermejo.cau_subreddit_embeddings\"\n",
      "17:55:48 | INFO | \"Table reddit-employee-datasets.david_bermejo.cau_subreddit_embeddings already exist\"\n",
      "17:55:48 | INFO | \"  771,760 rows in table BEFORE adding data\"\n",
      "17:56:32 | INFO | \"Original Table Expiration: None\"\n",
      "17:56:33 | INFO | \"NEW Table Expiration: None\"\n",
      "17:56:33 | INFO | \"  1,553,413 rows in table AFTER adding data\"\n"
     ]
    },
    {
     "name": "stdout",
     "output_type": "stream",
     "text": [
      "CPU times: user 56.1 ms, sys: 24.1 ms, total: 80.2 ms\n",
      "Wall time: 46.6 s\n"
     ]
    }
   ],
   "source": [
    "%%time\n",
    "\n",
    "load_data_to_bq_table(\n",
    "    uri=ndjson_path_061,\n",
    "    bq_project=cfg_reshape_embeddings_061_wt.config_dict['bq_project'],\n",
    "    bq_dataset=cfg_reshape_embeddings_061_wt.config_dict['bq_dataset'],\n",
    "    bq_table_name=cfg_reshape_embeddings_061_wt.config_dict['bq_table'],\n",
    "    schema=embeddings_schema(),\n",
    "    partition_column='pt',\n",
    "    table_description=cfg_reshape_embeddings_061_wt.config_dict['bq_table_description'],\n",
    "    update_table_description=False,\n",
    ")"
   ]
  },
  {
   "cell_type": "markdown",
   "id": "aff76c4d",
   "metadata": {},
   "source": [
    "## Alternative -- load data into BQ using SQL\n",
    "\n",
    "if the python job fails because of authentication issues, we can also add the data using SQL. \n",
    "\n",
    "**Note** that the following call assumes the table schema was set with the functions above.\n",
    "\n",
    "```SQL\n",
    "\n",
    "LOAD DATA INTO `reddit-employee-datasets.david_bermejo.cau_subreddit_embeddings`\n",
    "FROM FILES (\n",
    "  format = 'JSON',\n",
    "  uris = [\n",
    "      \"gs://i18n-subreddit-clustering/mlflow/mlruns/35/badc44b0e5ac467da14f710da0b410c6/artifacts/df_subs_agg_c1_ndjson/subreddit_embeddings_2022-08-31_035824.json\", \n",
    "      \"gs://i18n-subreddit-clustering/mlflow/mlruns/40/91ac7ca171024c779c0992f59470c81b/artifacts/df_subs_agg_c1_ndjson/subreddit_embeddings_2022-11-18_171217.json\"\n",
    "  ]\n",
    ");\n",
    "```\n"
   ]
  },
  {
   "cell_type": "markdown",
   "id": "1fb34a38",
   "metadata": {},
   "source": [
    "# Load SUBREDDIT embeddings from parquet files [for display]\n",
    "\n",
    "This helps us sample what the parquet embeddings look like (columns & shape).\n",
    "ETA:\n",
    "- ~2 minutes: download from GCS to local cache\n",
    "- ~30 seconds: loading into pandas (after download to local)"
   ]
  },
  {
   "cell_type": "code",
   "execution_count": 69,
   "id": "12402256",
   "metadata": {},
   "outputs": [
    {
     "name": "stderr",
     "output_type": "stream",
     "text": [
      "18:21:09 | INFO | \"Remote artifact path to download:\n",
      "  gs://i18n-subreddit-clustering/mlflow/mlruns/40/91ac7ca171024c779c0992f59470c81b/artifacts/df_subs_agg_c1_unweighted\"\n",
      "18:21:09 | INFO | \"Local folder to download artifact(s):\n",
      "  /home/jupyter/subreddit_clustering_i18n/data/local_cache/i18n-subreddit-clustering/mlflow/mlruns/40/91ac7ca171024c779c0992f59470c81b/artifacts/df_subs_agg_c1_unweighted\"\n",
      "100%|##########################################| 7/7 [00:00<00:00, 23009.50it/s]\n",
      "18:21:09 | INFO | \"  Parquet files found:     4\"\n",
      "18:21:09 | INFO | \"  Parquet files to use:     4\"\n"
     ]
    },
    {
     "name": "stdout",
     "output_type": "stream",
     "text": [
      "(781653, 515)\n",
      "CPU times: user 10.9 s, sys: 4.26 s, total: 15.2 s\n",
      "Wall time: 8.46 s\n"
     ]
    }
   ],
   "source": [
    "%%time\n",
    "\n",
    "df_agg_sub_c = mlf.read_run_artifact(\n",
    "    run_id=cfg_reshape_embeddings_061.config_dict['mlflow_run_id'],\n",
    "    artifact_folder=cfg_reshape_embeddings_061.config_dict['embeddings_artifact_path'],\n",
    "    read_function='pd_parquet',\n",
    "    verbose=False,\n",
    ")\n",
    "print(df_agg_sub_c.shape)"
   ]
  },
  {
   "cell_type": "code",
   "execution_count": 68,
   "id": "9f0be83c",
   "metadata": {},
   "outputs": [
    {
     "name": "stderr",
     "output_type": "stream",
     "text": [
      "18:20:38 | INFO | \"Remote artifact path to download:\n",
      "  gs://i18n-subreddit-clustering/mlflow/mlruns/40/91ac7ca171024c779c0992f59470c81b/artifacts/df_subs_agg_c1\"\n",
      "18:20:38 | INFO | \"Local folder to download artifact(s):\n",
      "  /home/jupyter/subreddit_clustering_i18n/data/local_cache/i18n-subreddit-clustering/mlflow/mlruns/40/91ac7ca171024c779c0992f59470c81b/artifacts/df_subs_agg_c1\"\n",
      "100%|########################################| 14/14 [00:00<00:00, 29837.53it/s]\n",
      "18:20:38 | INFO | \"  Parquet files found:     4\"\n",
      "18:20:38 | INFO | \"  Parquet files to use:     4\"\n"
     ]
    },
    {
     "name": "stdout",
     "output_type": "stream",
     "text": [
      "(781653, 515)\n",
      "CPU times: user 10.9 s, sys: 5.01 s, total: 15.9 s\n",
      "Wall time: 8.56 s\n"
     ]
    }
   ],
   "source": [
    "%%time\n",
    "\n",
    "df_agg_sub_c2 = mlf.read_run_artifact(\n",
    "    run_id=cfg_reshape_embeddings_061_wt.config_dict['mlflow_run_id'],\n",
    "    artifact_folder=cfg_reshape_embeddings_061_wt.config_dict['embeddings_artifact_path'],\n",
    "    read_function='pd_parquet',\n",
    "    verbose=False,\n",
    ")\n",
    "print(df_agg_sub_c2.shape)"
   ]
  },
  {
   "cell_type": "code",
   "execution_count": 70,
   "id": "0d547924",
   "metadata": {},
   "outputs": [
    {
     "data": {
      "text/html": [
       "<div>\n",
       "<style scoped>\n",
       "    .dataframe tbody tr th:only-of-type {\n",
       "        vertical-align: middle;\n",
       "    }\n",
       "\n",
       "    .dataframe tbody tr th {\n",
       "        vertical-align: top;\n",
       "    }\n",
       "\n",
       "    .dataframe thead th {\n",
       "        text-align: right;\n",
       "    }\n",
       "</style>\n",
       "<table border=\"1\" class=\"dataframe\">\n",
       "  <thead>\n",
       "    <tr style=\"text-align: right;\">\n",
       "      <th></th>\n",
       "      <th>subreddit_id</th>\n",
       "      <th>subreddit_name</th>\n",
       "      <th>posts_for_embeddings_count</th>\n",
       "      <th>embeddings_0</th>\n",
       "      <th>embeddings_1</th>\n",
       "      <th>embeddings_2</th>\n",
       "      <th>embeddings_3</th>\n",
       "      <th>embeddings_4</th>\n",
       "      <th>embeddings_5</th>\n",
       "      <th>embeddings_6</th>\n",
       "    </tr>\n",
       "  </thead>\n",
       "  <tbody>\n",
       "    <tr>\n",
       "      <th>0</th>\n",
       "      <td>t5_1001tl</td>\n",
       "      <td>jewel_xo</td>\n",
       "      <td>1</td>\n",
       "      <td>-0.041036</td>\n",
       "      <td>-0.008650</td>\n",
       "      <td>-0.013949</td>\n",
       "      <td>0.034232</td>\n",
       "      <td>-0.045981</td>\n",
       "      <td>0.021885</td>\n",
       "      <td>0.024000</td>\n",
       "    </tr>\n",
       "    <tr>\n",
       "      <th>1</th>\n",
       "      <td>t5_1004au</td>\n",
       "      <td>tisbutafleshwound</td>\n",
       "      <td>3</td>\n",
       "      <td>0.010298</td>\n",
       "      <td>-0.000277</td>\n",
       "      <td>-0.004013</td>\n",
       "      <td>0.017620</td>\n",
       "      <td>-0.076757</td>\n",
       "      <td>0.031346</td>\n",
       "      <td>0.069366</td>\n",
       "    </tr>\n",
       "    <tr>\n",
       "      <th>2</th>\n",
       "      <td>t5_1006a0</td>\n",
       "      <td>sethigh</td>\n",
       "      <td>1</td>\n",
       "      <td>0.028022</td>\n",
       "      <td>0.007011</td>\n",
       "      <td>-0.005661</td>\n",
       "      <td>0.025936</td>\n",
       "      <td>-0.007770</td>\n",
       "      <td>0.031322</td>\n",
       "      <td>0.056113</td>\n",
       "    </tr>\n",
       "    <tr>\n",
       "      <th>3</th>\n",
       "      <td>t5_1008xr</td>\n",
       "      <td>asiandiasporamusic</td>\n",
       "      <td>2</td>\n",
       "      <td>0.016526</td>\n",
       "      <td>-0.006581</td>\n",
       "      <td>0.017150</td>\n",
       "      <td>0.007448</td>\n",
       "      <td>0.029106</td>\n",
       "      <td>0.041690</td>\n",
       "      <td>0.038882</td>\n",
       "    </tr>\n",
       "    <tr>\n",
       "      <th>4</th>\n",
       "      <td>t5_1009a3</td>\n",
       "      <td>memesenespanol</td>\n",
       "      <td>299</td>\n",
       "      <td>-0.005113</td>\n",
       "      <td>-0.005898</td>\n",
       "      <td>-0.012267</td>\n",
       "      <td>0.006103</td>\n",
       "      <td>-0.009704</td>\n",
       "      <td>0.039449</td>\n",
       "      <td>0.010752</td>\n",
       "    </tr>\n",
       "  </tbody>\n",
       "</table>\n",
       "</div>"
      ],
      "text/plain": [
       "  subreddit_id      subreddit_name  posts_for_embeddings_count  embeddings_0  embeddings_1  embeddings_2  embeddings_3  embeddings_4  embeddings_5  embeddings_6\n",
       "0    t5_1001tl            jewel_xo                           1     -0.041036     -0.008650     -0.013949      0.034232     -0.045981      0.021885      0.024000\n",
       "1    t5_1004au   tisbutafleshwound                           3      0.010298     -0.000277     -0.004013      0.017620     -0.076757      0.031346      0.069366\n",
       "2    t5_1006a0             sethigh                           1      0.028022      0.007011     -0.005661      0.025936     -0.007770      0.031322      0.056113\n",
       "3    t5_1008xr  asiandiasporamusic                           2      0.016526     -0.006581      0.017150      0.007448      0.029106      0.041690      0.038882\n",
       "4    t5_1009a3      memesenespanol                         299     -0.005113     -0.005898     -0.012267      0.006103     -0.009704      0.039449      0.010752"
      ]
     },
     "execution_count": 70,
     "metadata": {},
     "output_type": "execute_result"
    }
   ],
   "source": [
    "df_agg_sub_c.iloc[:5, :10]"
   ]
  },
  {
   "cell_type": "code",
   "execution_count": 71,
   "id": "4a723da3",
   "metadata": {},
   "outputs": [
    {
     "data": {
      "text/html": [
       "<div>\n",
       "<style scoped>\n",
       "    .dataframe tbody tr th:only-of-type {\n",
       "        vertical-align: middle;\n",
       "    }\n",
       "\n",
       "    .dataframe tbody tr th {\n",
       "        vertical-align: top;\n",
       "    }\n",
       "\n",
       "    .dataframe thead th {\n",
       "        text-align: right;\n",
       "    }\n",
       "</style>\n",
       "<table border=\"1\" class=\"dataframe\">\n",
       "  <thead>\n",
       "    <tr style=\"text-align: right;\">\n",
       "      <th></th>\n",
       "      <th>subreddit_id</th>\n",
       "      <th>subreddit_name</th>\n",
       "      <th>posts_for_embeddings_count</th>\n",
       "      <th>embeddings_0</th>\n",
       "      <th>embeddings_1</th>\n",
       "      <th>embeddings_2</th>\n",
       "      <th>embeddings_3</th>\n",
       "      <th>embeddings_4</th>\n",
       "      <th>embeddings_5</th>\n",
       "      <th>embeddings_6</th>\n",
       "    </tr>\n",
       "  </thead>\n",
       "  <tbody>\n",
       "    <tr>\n",
       "      <th>0</th>\n",
       "      <td>t5_1001tl</td>\n",
       "      <td>jewel_xo</td>\n",
       "      <td>1</td>\n",
       "      <td>-0.028712</td>\n",
       "      <td>-0.027187</td>\n",
       "      <td>0.024826</td>\n",
       "      <td>0.046359</td>\n",
       "      <td>0.006391</td>\n",
       "      <td>0.046740</td>\n",
       "      <td>-0.005454</td>\n",
       "    </tr>\n",
       "    <tr>\n",
       "      <th>1</th>\n",
       "      <td>t5_1004au</td>\n",
       "      <td>tisbutafleshwound</td>\n",
       "      <td>3</td>\n",
       "      <td>0.010298</td>\n",
       "      <td>-0.000277</td>\n",
       "      <td>-0.004013</td>\n",
       "      <td>0.017620</td>\n",
       "      <td>-0.076757</td>\n",
       "      <td>0.031346</td>\n",
       "      <td>0.069366</td>\n",
       "    </tr>\n",
       "    <tr>\n",
       "      <th>2</th>\n",
       "      <td>t5_1006a0</td>\n",
       "      <td>sethigh</td>\n",
       "      <td>1</td>\n",
       "      <td>0.027356</td>\n",
       "      <td>0.032256</td>\n",
       "      <td>-0.022585</td>\n",
       "      <td>-0.004125</td>\n",
       "      <td>0.013944</td>\n",
       "      <td>0.039986</td>\n",
       "      <td>-0.007854</td>\n",
       "    </tr>\n",
       "    <tr>\n",
       "      <th>3</th>\n",
       "      <td>t5_1008xr</td>\n",
       "      <td>asiandiasporamusic</td>\n",
       "      <td>2</td>\n",
       "      <td>-0.011276</td>\n",
       "      <td>0.000720</td>\n",
       "      <td>-0.010621</td>\n",
       "      <td>0.021452</td>\n",
       "      <td>0.035787</td>\n",
       "      <td>0.040039</td>\n",
       "      <td>0.034074</td>\n",
       "    </tr>\n",
       "    <tr>\n",
       "      <th>4</th>\n",
       "      <td>t5_1009a3</td>\n",
       "      <td>memesenespanol</td>\n",
       "      <td>299</td>\n",
       "      <td>-0.005113</td>\n",
       "      <td>-0.005898</td>\n",
       "      <td>-0.012267</td>\n",
       "      <td>0.006103</td>\n",
       "      <td>-0.009704</td>\n",
       "      <td>0.039449</td>\n",
       "      <td>0.010752</td>\n",
       "    </tr>\n",
       "  </tbody>\n",
       "</table>\n",
       "</div>"
      ],
      "text/plain": [
       "  subreddit_id      subreddit_name  posts_for_embeddings_count  embeddings_0  embeddings_1  embeddings_2  embeddings_3  embeddings_4  embeddings_5  embeddings_6\n",
       "0    t5_1001tl            jewel_xo                           1     -0.028712     -0.027187      0.024826      0.046359      0.006391      0.046740     -0.005454\n",
       "1    t5_1004au   tisbutafleshwound                           3      0.010298     -0.000277     -0.004013      0.017620     -0.076757      0.031346      0.069366\n",
       "2    t5_1006a0             sethigh                           1      0.027356      0.032256     -0.022585     -0.004125      0.013944      0.039986     -0.007854\n",
       "3    t5_1008xr  asiandiasporamusic                           2     -0.011276      0.000720     -0.010621      0.021452      0.035787      0.040039      0.034074\n",
       "4    t5_1009a3      memesenespanol                         299     -0.005113     -0.005898     -0.012267      0.006103     -0.009704      0.039449      0.010752"
      ]
     },
     "execution_count": 71,
     "metadata": {},
     "output_type": "execute_result"
    }
   ],
   "source": [
    "df_agg_sub_c2.iloc[:5, :10]"
   ]
  },
  {
   "cell_type": "markdown",
   "id": "5d3c052f",
   "metadata": {},
   "source": [
    "Check whether embeddings values are the same for subreddits with `3>= posts`"
   ]
  },
  {
   "cell_type": "code",
   "execution_count": 72,
   "id": "4580f91d",
   "metadata": {},
   "outputs": [
    {
     "data": {
      "text/html": [
       "<div>\n",
       "<style scoped>\n",
       "    .dataframe tbody tr th:only-of-type {\n",
       "        vertical-align: middle;\n",
       "    }\n",
       "\n",
       "    .dataframe tbody tr th {\n",
       "        vertical-align: top;\n",
       "    }\n",
       "\n",
       "    .dataframe thead th {\n",
       "        text-align: right;\n",
       "    }\n",
       "</style>\n",
       "<table border=\"1\" class=\"dataframe\">\n",
       "  <thead>\n",
       "    <tr style=\"text-align: right;\">\n",
       "      <th></th>\n",
       "      <th>subreddit_id</th>\n",
       "      <th>subreddit_name</th>\n",
       "      <th>posts_for_embeddings_count</th>\n",
       "      <th>embeddings_0</th>\n",
       "      <th>embeddings_1</th>\n",
       "      <th>embeddings_2</th>\n",
       "      <th>embeddings_3</th>\n",
       "      <th>embeddings_4</th>\n",
       "      <th>embeddings_5</th>\n",
       "      <th>embeddings_6</th>\n",
       "    </tr>\n",
       "  </thead>\n",
       "  <tbody>\n",
       "    <tr>\n",
       "      <th>0</th>\n",
       "      <td>t5_1001tl</td>\n",
       "      <td>jewel_xo</td>\n",
       "      <td>1</td>\n",
       "      <td>False</td>\n",
       "      <td>False</td>\n",
       "      <td>False</td>\n",
       "      <td>False</td>\n",
       "      <td>False</td>\n",
       "      <td>False</td>\n",
       "      <td>False</td>\n",
       "    </tr>\n",
       "    <tr>\n",
       "      <th>1</th>\n",
       "      <td>t5_1004au</td>\n",
       "      <td>tisbutafleshwound</td>\n",
       "      <td>3</td>\n",
       "      <td>True</td>\n",
       "      <td>True</td>\n",
       "      <td>True</td>\n",
       "      <td>True</td>\n",
       "      <td>True</td>\n",
       "      <td>True</td>\n",
       "      <td>True</td>\n",
       "    </tr>\n",
       "    <tr>\n",
       "      <th>2</th>\n",
       "      <td>t5_1006a0</td>\n",
       "      <td>sethigh</td>\n",
       "      <td>1</td>\n",
       "      <td>False</td>\n",
       "      <td>False</td>\n",
       "      <td>False</td>\n",
       "      <td>False</td>\n",
       "      <td>False</td>\n",
       "      <td>False</td>\n",
       "      <td>False</td>\n",
       "    </tr>\n",
       "    <tr>\n",
       "      <th>3</th>\n",
       "      <td>t5_1008xr</td>\n",
       "      <td>asiandiasporamusic</td>\n",
       "      <td>2</td>\n",
       "      <td>False</td>\n",
       "      <td>False</td>\n",
       "      <td>False</td>\n",
       "      <td>False</td>\n",
       "      <td>False</td>\n",
       "      <td>False</td>\n",
       "      <td>False</td>\n",
       "    </tr>\n",
       "    <tr>\n",
       "      <th>4</th>\n",
       "      <td>t5_1009a3</td>\n",
       "      <td>memesenespanol</td>\n",
       "      <td>299</td>\n",
       "      <td>True</td>\n",
       "      <td>True</td>\n",
       "      <td>True</td>\n",
       "      <td>True</td>\n",
       "      <td>True</td>\n",
       "      <td>True</td>\n",
       "      <td>True</td>\n",
       "    </tr>\n",
       "    <tr>\n",
       "      <th>5</th>\n",
       "      <td>t5_100a1y</td>\n",
       "      <td>karstcast</td>\n",
       "      <td>7</td>\n",
       "      <td>True</td>\n",
       "      <td>True</td>\n",
       "      <td>True</td>\n",
       "      <td>True</td>\n",
       "      <td>True</td>\n",
       "      <td>True</td>\n",
       "      <td>True</td>\n",
       "    </tr>\n",
       "  </tbody>\n",
       "</table>\n",
       "</div>"
      ],
      "text/plain": [
       "  subreddit_id      subreddit_name  posts_for_embeddings_count  embeddings_0  embeddings_1  embeddings_2  embeddings_3  embeddings_4  embeddings_5  embeddings_6\n",
       "0    t5_1001tl            jewel_xo                           1         False         False         False         False         False         False         False\n",
       "1    t5_1004au   tisbutafleshwound                           3          True          True          True          True          True          True          True\n",
       "2    t5_1006a0             sethigh                           1         False         False         False         False         False         False         False\n",
       "3    t5_1008xr  asiandiasporamusic                           2         False         False         False         False         False         False         False\n",
       "4    t5_1009a3      memesenespanol                         299          True          True          True          True          True          True          True\n",
       "5    t5_100a1y           karstcast                           7          True          True          True          True          True          True          True"
      ]
     },
     "metadata": {},
     "output_type": "display_data"
    }
   ],
   "source": [
    "n_rows_ = 6\n",
    "n_cols_ = 10\n",
    "\n",
    "display(\n",
    "    df_agg_sub_c2.iloc[:n_rows_, :3].merge(\n",
    "        pd.DataFrame(\n",
    "            np.isclose(\n",
    "                df_agg_sub_c.iloc[:n_rows_, 3:n_cols_], df_agg_sub_c2.iloc[:n_rows_, 3:n_cols_]\n",
    "            ),\n",
    "            columns=df_agg_sub_c2.iloc[:n_rows_, 3:n_cols_].columns,\n",
    "        ),\n",
    "        how='left',\n",
    "        left_index=True,\n",
    "        right_index=True,\n",
    "    )\n",
    ")\n",
    "del n_rows_, n_cols_"
   ]
  },
  {
   "cell_type": "markdown",
   "id": "f48df314",
   "metadata": {},
   "source": [
    "## Check distribution of posts for embeddings\n",
    "We'd expect ~340k subs with 3+ posts"
   ]
  },
  {
   "cell_type": "code",
   "execution_count": 73,
   "id": "3af4e263",
   "metadata": {},
   "outputs": [
    {
     "data": {
      "text/plain": [
       "count    781653.000000\n",
       "mean         68.569835\n",
       "std         487.025214\n",
       "min           0.000000\n",
       "25%           1.000000\n",
       "50%           2.000000\n",
       "75%           8.000000\n",
       "max        8400.000000\n",
       "Name: posts_for_embeddings_count, dtype: float64"
      ]
     },
     "execution_count": 73,
     "metadata": {},
     "output_type": "execute_result"
    }
   ],
   "source": [
    "df_agg_sub_c2['posts_for_embeddings_count'].describe()"
   ]
  },
  {
   "cell_type": "code",
   "execution_count": 74,
   "id": "4872348d",
   "metadata": {},
   "outputs": [
    {
     "data": {
      "text/plain": [
       "count    781653.000000\n",
       "mean         68.569835\n",
       "std         487.025214\n",
       "min           0.000000\n",
       "25%           1.000000\n",
       "50%           2.000000\n",
       "75%           8.000000\n",
       "max        8400.000000\n",
       "Name: posts_for_embeddings_count, dtype: float64"
      ]
     },
     "execution_count": 74,
     "metadata": {},
     "output_type": "execute_result"
    }
   ],
   "source": [
    "assert np.allclose(\n",
    "    df_agg_sub_c['posts_for_embeddings_count'].describe(), \n",
    "    df_agg_sub_c2['posts_for_embeddings_count'].describe()\n",
    ")\n",
    "\n",
    "df_agg_sub_c['posts_for_embeddings_count'].describe()"
   ]
  },
  {
   "cell_type": "code",
   "execution_count": 75,
   "id": "217aca21",
   "metadata": {},
   "outputs": [
    {
     "data": {
      "text/html": [
       "<style  type=\"text/css\" >\n",
       "#T_2ca6e_row0_col1{\n",
       "            width:  10em;\n",
       "             height:  80%;\n",
       "            background:  linear-gradient(90deg,#95cff5 98.4%, transparent 98.4%);\n",
       "        }#T_2ca6e_row0_col3,#T_2ca6e_row1_col1{\n",
       "            width:  10em;\n",
       "             height:  80%;\n",
       "        }#T_2ca6e_row1_col3{\n",
       "            width:  10em;\n",
       "             height:  80%;\n",
       "            background:  linear-gradient(90deg,#95cff5 4.3%, transparent 4.3%);\n",
       "        }#T_2ca6e_row2_col1{\n",
       "            width:  10em;\n",
       "             height:  80%;\n",
       "            background:  linear-gradient(90deg,#95cff5 4.7%, transparent 4.7%);\n",
       "        }#T_2ca6e_row2_col3{\n",
       "            width:  10em;\n",
       "             height:  80%;\n",
       "            background:  linear-gradient(90deg,#95cff5 10.5%, transparent 10.5%);\n",
       "        }#T_2ca6e_row3_col1{\n",
       "            width:  10em;\n",
       "             height:  80%;\n",
       "            background:  linear-gradient(90deg,#95cff5 16.1%, transparent 16.1%);\n",
       "        }#T_2ca6e_row3_col3{\n",
       "            width:  10em;\n",
       "             height:  80%;\n",
       "            background:  linear-gradient(90deg,#95cff5 21.0%, transparent 21.0%);\n",
       "        }#T_2ca6e_row4_col1{\n",
       "            width:  10em;\n",
       "             height:  80%;\n",
       "            background:  linear-gradient(90deg,#95cff5 49.2%, transparent 49.2%);\n",
       "        }#T_2ca6e_row4_col3{\n",
       "            width:  10em;\n",
       "             height:  80%;\n",
       "            background:  linear-gradient(90deg,#95cff5 44.3%, transparent 44.3%);\n",
       "        }#T_2ca6e_row5_col1,#T_2ca6e_row6_col3{\n",
       "            width:  10em;\n",
       "             height:  80%;\n",
       "            background:  linear-gradient(90deg,#95cff5 100.0%, transparent 100.0%);\n",
       "        }#T_2ca6e_row5_col3{\n",
       "            width:  10em;\n",
       "             height:  80%;\n",
       "            background:  linear-gradient(90deg,#95cff5 87.3%, transparent 87.3%);\n",
       "        }#T_2ca6e_row6_col1{\n",
       "            width:  10em;\n",
       "             height:  80%;\n",
       "            background:  linear-gradient(90deg,#95cff5 21.8%, transparent 21.8%);\n",
       "        }</style><table id=\"T_2ca6e_\" ><thead>    <tr>        <th class=\"blank level0\" ></th>        <th class=\"col_heading level0 col0\" >posts_for_embeddings_count-count</th>        <th class=\"col_heading level0 col1\" >posts_for_embeddings_count-percent</th>        <th class=\"col_heading level0 col2\" >posts_for_embeddings_count-cumulative_sum</th>        <th class=\"col_heading level0 col3\" >posts_for_embeddings_count-pct_cumulative_sum</th>    </tr></thead><tbody>\n",
       "                <tr>\n",
       "                        <th id=\"T_2ca6e_level0_row0\" class=\"row_heading level0 row0\" >6+ posts</th>\n",
       "                        <td id=\"T_2ca6e_row0_col0\" class=\"data row0 col0\" >232,401</td>\n",
       "                        <td id=\"T_2ca6e_row0_col1\" class=\"data row0 col1\" >29.7%</td>\n",
       "                        <td id=\"T_2ca6e_row0_col2\" class=\"data row0 col2\" >232,401</td>\n",
       "                        <td id=\"T_2ca6e_row0_col3\" class=\"data row0 col3\" >29.7%</td>\n",
       "            </tr>\n",
       "            <tr>\n",
       "                        <th id=\"T_2ca6e_level0_row1\" class=\"row_heading level0 row1\" >5 posts</th>\n",
       "                        <td id=\"T_2ca6e_row1_col0\" class=\"data row1 col0\" >23,732</td>\n",
       "                        <td id=\"T_2ca6e_row1_col1\" class=\"data row1 col1\" >3.0%</td>\n",
       "                        <td id=\"T_2ca6e_row1_col2\" class=\"data row1 col2\" >256,133</td>\n",
       "                        <td id=\"T_2ca6e_row1_col3\" class=\"data row1 col3\" >32.8%</td>\n",
       "            </tr>\n",
       "            <tr>\n",
       "                        <th id=\"T_2ca6e_level0_row2\" class=\"row_heading level0 row2\" >4 posts</th>\n",
       "                        <td id=\"T_2ca6e_row2_col0\" class=\"data row2 col0\" >33,723</td>\n",
       "                        <td id=\"T_2ca6e_row2_col1\" class=\"data row2 col1\" >4.3%</td>\n",
       "                        <td id=\"T_2ca6e_row2_col2\" class=\"data row2 col2\" >289,856</td>\n",
       "                        <td id=\"T_2ca6e_row2_col3\" class=\"data row2 col3\" >37.1%</td>\n",
       "            </tr>\n",
       "            <tr>\n",
       "                        <th id=\"T_2ca6e_level0_row3\" class=\"row_heading level0 row3\" >3 posts</th>\n",
       "                        <td id=\"T_2ca6e_row3_col0\" class=\"data row3 col0\" >57,946</td>\n",
       "                        <td id=\"T_2ca6e_row3_col1\" class=\"data row3 col1\" >7.4%</td>\n",
       "                        <td id=\"T_2ca6e_row3_col2\" class=\"data row3 col2\" >347,802</td>\n",
       "                        <td id=\"T_2ca6e_row3_col3\" class=\"data row3 col3\" >44.5%</td>\n",
       "            </tr>\n",
       "            <tr>\n",
       "                        <th id=\"T_2ca6e_level0_row4\" class=\"row_heading level0 row4\" >2 posts</th>\n",
       "                        <td id=\"T_2ca6e_row4_col0\" class=\"data row4 col0\" >128,068</td>\n",
       "                        <td id=\"T_2ca6e_row4_col1\" class=\"data row4 col1\" >16.4%</td>\n",
       "                        <td id=\"T_2ca6e_row4_col2\" class=\"data row4 col2\" >475,870</td>\n",
       "                        <td id=\"T_2ca6e_row4_col3\" class=\"data row4 col3\" >60.9%</td>\n",
       "            </tr>\n",
       "            <tr>\n",
       "                        <th id=\"T_2ca6e_level0_row5\" class=\"row_heading level0 row5\" >1 post</th>\n",
       "                        <td id=\"T_2ca6e_row5_col0\" class=\"data row5 col0\" >235,794</td>\n",
       "                        <td id=\"T_2ca6e_row5_col1\" class=\"data row5 col1\" >30.2%</td>\n",
       "                        <td id=\"T_2ca6e_row5_col2\" class=\"data row5 col2\" >711,664</td>\n",
       "                        <td id=\"T_2ca6e_row5_col3\" class=\"data row5 col3\" >91.0%</td>\n",
       "            </tr>\n",
       "            <tr>\n",
       "                        <th id=\"T_2ca6e_level0_row6\" class=\"row_heading level0 row6\" >0 posts</th>\n",
       "                        <td id=\"T_2ca6e_row6_col0\" class=\"data row6 col0\" >69,989</td>\n",
       "                        <td id=\"T_2ca6e_row6_col1\" class=\"data row6 col1\" >9.0%</td>\n",
       "                        <td id=\"T_2ca6e_row6_col2\" class=\"data row6 col2\" >781,653</td>\n",
       "                        <td id=\"T_2ca6e_row6_col3\" class=\"data row6 col3\" >100.0%</td>\n",
       "            </tr>\n",
       "    </tbody></table>"
      ],
      "text/plain": [
       "<pandas.io.formats.style.Styler at 0x7efb8c1c6990>"
      ]
     },
     "execution_count": 75,
     "metadata": {},
     "output_type": "execute_result"
    }
   ],
   "source": [
    "value_counts_and_pcts(\n",
    "    pd.cut(\n",
    "        df_agg_sub_c2['posts_for_embeddings_count'],\n",
    "        bins=[-1, 0, 1, 2, 3, 4, 5, np.inf],\n",
    "        labels=[\"0 posts\", \"1 post\", '2 posts', '3 posts', '4 posts', '5 posts', '6+ posts']\n",
    "    ),\n",
    "    sort_index=True,\n",
    "    sort_index_ascending=False,\n",
    "    cumsum_count=True,\n",
    ")"
   ]
  },
  {
   "cell_type": "code",
   "execution_count": 76,
   "id": "1234b294",
   "metadata": {},
   "outputs": [
    {
     "data": {
      "text/html": [
       "<style  type=\"text/css\" >\n",
       "#T_537bb_row0_col1{\n",
       "            width:  10em;\n",
       "             height:  80%;\n",
       "            background:  linear-gradient(90deg,#95cff5 98.4%, transparent 98.4%);\n",
       "        }#T_537bb_row0_col3,#T_537bb_row1_col1{\n",
       "            width:  10em;\n",
       "             height:  80%;\n",
       "        }#T_537bb_row1_col3{\n",
       "            width:  10em;\n",
       "             height:  80%;\n",
       "            background:  linear-gradient(90deg,#95cff5 4.3%, transparent 4.3%);\n",
       "        }#T_537bb_row2_col1{\n",
       "            width:  10em;\n",
       "             height:  80%;\n",
       "            background:  linear-gradient(90deg,#95cff5 4.7%, transparent 4.7%);\n",
       "        }#T_537bb_row2_col3{\n",
       "            width:  10em;\n",
       "             height:  80%;\n",
       "            background:  linear-gradient(90deg,#95cff5 10.5%, transparent 10.5%);\n",
       "        }#T_537bb_row3_col1{\n",
       "            width:  10em;\n",
       "             height:  80%;\n",
       "            background:  linear-gradient(90deg,#95cff5 16.1%, transparent 16.1%);\n",
       "        }#T_537bb_row3_col3{\n",
       "            width:  10em;\n",
       "             height:  80%;\n",
       "            background:  linear-gradient(90deg,#95cff5 21.0%, transparent 21.0%);\n",
       "        }#T_537bb_row4_col1{\n",
       "            width:  10em;\n",
       "             height:  80%;\n",
       "            background:  linear-gradient(90deg,#95cff5 49.2%, transparent 49.2%);\n",
       "        }#T_537bb_row4_col3{\n",
       "            width:  10em;\n",
       "             height:  80%;\n",
       "            background:  linear-gradient(90deg,#95cff5 44.3%, transparent 44.3%);\n",
       "        }#T_537bb_row5_col1,#T_537bb_row6_col3{\n",
       "            width:  10em;\n",
       "             height:  80%;\n",
       "            background:  linear-gradient(90deg,#95cff5 100.0%, transparent 100.0%);\n",
       "        }#T_537bb_row5_col3{\n",
       "            width:  10em;\n",
       "             height:  80%;\n",
       "            background:  linear-gradient(90deg,#95cff5 87.3%, transparent 87.3%);\n",
       "        }#T_537bb_row6_col1{\n",
       "            width:  10em;\n",
       "             height:  80%;\n",
       "            background:  linear-gradient(90deg,#95cff5 21.8%, transparent 21.8%);\n",
       "        }</style><table id=\"T_537bb_\" ><thead>    <tr>        <th class=\"blank level0\" ></th>        <th class=\"col_heading level0 col0\" >posts_for_embeddings_count-count</th>        <th class=\"col_heading level0 col1\" >posts_for_embeddings_count-percent</th>        <th class=\"col_heading level0 col2\" >posts_for_embeddings_count-cumulative_sum</th>        <th class=\"col_heading level0 col3\" >posts_for_embeddings_count-pct_cumulative_sum</th>    </tr></thead><tbody>\n",
       "                <tr>\n",
       "                        <th id=\"T_537bb_level0_row0\" class=\"row_heading level0 row0\" >6+ posts</th>\n",
       "                        <td id=\"T_537bb_row0_col0\" class=\"data row0 col0\" >232,401</td>\n",
       "                        <td id=\"T_537bb_row0_col1\" class=\"data row0 col1\" >29.7%</td>\n",
       "                        <td id=\"T_537bb_row0_col2\" class=\"data row0 col2\" >232,401</td>\n",
       "                        <td id=\"T_537bb_row0_col3\" class=\"data row0 col3\" >29.7%</td>\n",
       "            </tr>\n",
       "            <tr>\n",
       "                        <th id=\"T_537bb_level0_row1\" class=\"row_heading level0 row1\" >5 posts</th>\n",
       "                        <td id=\"T_537bb_row1_col0\" class=\"data row1 col0\" >23,732</td>\n",
       "                        <td id=\"T_537bb_row1_col1\" class=\"data row1 col1\" >3.0%</td>\n",
       "                        <td id=\"T_537bb_row1_col2\" class=\"data row1 col2\" >256,133</td>\n",
       "                        <td id=\"T_537bb_row1_col3\" class=\"data row1 col3\" >32.8%</td>\n",
       "            </tr>\n",
       "            <tr>\n",
       "                        <th id=\"T_537bb_level0_row2\" class=\"row_heading level0 row2\" >4 posts</th>\n",
       "                        <td id=\"T_537bb_row2_col0\" class=\"data row2 col0\" >33,723</td>\n",
       "                        <td id=\"T_537bb_row2_col1\" class=\"data row2 col1\" >4.3%</td>\n",
       "                        <td id=\"T_537bb_row2_col2\" class=\"data row2 col2\" >289,856</td>\n",
       "                        <td id=\"T_537bb_row2_col3\" class=\"data row2 col3\" >37.1%</td>\n",
       "            </tr>\n",
       "            <tr>\n",
       "                        <th id=\"T_537bb_level0_row3\" class=\"row_heading level0 row3\" >3 posts</th>\n",
       "                        <td id=\"T_537bb_row3_col0\" class=\"data row3 col0\" >57,946</td>\n",
       "                        <td id=\"T_537bb_row3_col1\" class=\"data row3 col1\" >7.4%</td>\n",
       "                        <td id=\"T_537bb_row3_col2\" class=\"data row3 col2\" >347,802</td>\n",
       "                        <td id=\"T_537bb_row3_col3\" class=\"data row3 col3\" >44.5%</td>\n",
       "            </tr>\n",
       "            <tr>\n",
       "                        <th id=\"T_537bb_level0_row4\" class=\"row_heading level0 row4\" >2 posts</th>\n",
       "                        <td id=\"T_537bb_row4_col0\" class=\"data row4 col0\" >128,068</td>\n",
       "                        <td id=\"T_537bb_row4_col1\" class=\"data row4 col1\" >16.4%</td>\n",
       "                        <td id=\"T_537bb_row4_col2\" class=\"data row4 col2\" >475,870</td>\n",
       "                        <td id=\"T_537bb_row4_col3\" class=\"data row4 col3\" >60.9%</td>\n",
       "            </tr>\n",
       "            <tr>\n",
       "                        <th id=\"T_537bb_level0_row5\" class=\"row_heading level0 row5\" >1 post</th>\n",
       "                        <td id=\"T_537bb_row5_col0\" class=\"data row5 col0\" >235,794</td>\n",
       "                        <td id=\"T_537bb_row5_col1\" class=\"data row5 col1\" >30.2%</td>\n",
       "                        <td id=\"T_537bb_row5_col2\" class=\"data row5 col2\" >711,664</td>\n",
       "                        <td id=\"T_537bb_row5_col3\" class=\"data row5 col3\" >91.0%</td>\n",
       "            </tr>\n",
       "            <tr>\n",
       "                        <th id=\"T_537bb_level0_row6\" class=\"row_heading level0 row6\" >0 posts</th>\n",
       "                        <td id=\"T_537bb_row6_col0\" class=\"data row6 col0\" >69,989</td>\n",
       "                        <td id=\"T_537bb_row6_col1\" class=\"data row6 col1\" >9.0%</td>\n",
       "                        <td id=\"T_537bb_row6_col2\" class=\"data row6 col2\" >781,653</td>\n",
       "                        <td id=\"T_537bb_row6_col3\" class=\"data row6 col3\" >100.0%</td>\n",
       "            </tr>\n",
       "    </tbody></table>"
      ],
      "text/plain": [
       "<pandas.io.formats.style.Styler at 0x7f018e7a8990>"
      ]
     },
     "execution_count": 76,
     "metadata": {},
     "output_type": "execute_result"
    }
   ],
   "source": [
    "value_counts_and_pcts(\n",
    "    pd.cut(\n",
    "        df_agg_sub_c['posts_for_embeddings_count'],\n",
    "        bins=[-1, 0, 1, 2, 3, 4, 5, np.inf],\n",
    "        labels=[\"0 posts\", \"1 post\", '2 posts', '3 posts', '4 posts', '5 posts', '6+ posts']\n",
    "    ),\n",
    "    sort_index=True,\n",
    "    sort_index_ascending=False,\n",
    "    cumsum_count=True,\n",
    ")"
   ]
  }
 ],
 "metadata": {
  "environment": {
   "name": "common-cpu.m65",
   "type": "gcloud",
   "uri": "gcr.io/deeplearning-platform-release/base-cpu:m65"
  },
  "kernelspec": {
   "display_name": "Python [conda env:root] *",
   "language": "python",
   "name": "conda-root-py"
  },
  "language_info": {
   "codemirror_mode": {
    "name": "ipython",
    "version": 3
   },
   "file_extension": ".py",
   "mimetype": "text/x-python",
   "name": "python",
   "nbconvert_exporter": "python",
   "pygments_lexer": "ipython3",
   "version": "3.7.10"
  }
 },
 "nbformat": 4,
 "nbformat_minor": 5
}
