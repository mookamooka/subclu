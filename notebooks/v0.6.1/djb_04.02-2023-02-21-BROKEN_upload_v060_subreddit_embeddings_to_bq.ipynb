{
 "cells": [
  {
   "cell_type": "markdown",
   "id": "5e389ddb",
   "metadata": {},
   "source": [
    "# Purpose\n",
    "\n",
    "**2023-02-21: v0.6.0** update\n",
    "<br>For some reason the previous table with v0.6.0 embeddings was deleted. I tried to run this notebook to re-upload the embeddings for v0.6.0 so that we can compare or backfill if needed.\n",
    "\n",
    "However, the authentication in vertex AI notebook is broken, so I can't run the function to upload the data from here.\n",
    "\n",
    "**See the colab notebook that loads the data using SQL instead.**\n",
    "\n",
    "\n",
    "---\n",
    "\n",
    "**2022-08-30: v0.6.0**\n",
    "The default parquet embedding format for my embeddings (1 row per column) is not favored for bigquery & other steam standards.\n",
    "\n",
    "The preferred format is: 1 column that has repeated records. For example:\n",
    "- `data-prod-165221.ml_content.subreddit_embeddings_ft2` \n",
    "    - [console link](https://console.cloud.google.com/bigquery?project=data-science-prod-218515&ws=!1m10!1m4!4m3!1sdata-prod-165221!2sml_content!3ssimilar_subreddit_ft2!1m4!4m3!1sdata-prod-165221!2sml_content!3ssubreddit_embeddings_ft2)\n",
    "    - github link\n",
    "        - https://github.snooguts.net/reddit/gazette-models/blob/master/similar_subreddit/embeddings/__main__.py#L105-L112\n",
    "\n",
    "In this notebook we convert a dataframe into a new-line delimited JSON file. \n",
    "<br>With pandas we can vectorize this function instead of having to loop through each row (subreddit) individually.\n",
    "\n",
    "In this notebook we're loading 2 separate embedding flavors based on the `embeddings_artifact_path` and loading to the BQ in two separate partitions.\n",
    "\n",
    "---\n",
    "\n",
    "```python\n",
    "sr_embedding_dict = {\n",
    "    \"pt\": date_today,\n",
    "    \"model_name\": MODEL_NAME,\n",
    "    \"model_version\": MODEL_VERSION,\n",
    "    \"subreddit_id\": sr_dict[\"subreddit_id\"],\n",
    "    \"subreddit_name\": subreddit_name_lowercase,\n",
    "    \"embedding\": sr_embedding.tolist(),\n",
    "}\n",
    "```\n",
    "\n",
    "In BQ:\n",
    "```\n",
    "Field name\t\tType\tMode\t\tDescription\n",
    "model_name  \tSTRING\tNULLABLE\t\tModel name\t\n",
    "model_version\tSTRING\tNULLABLE\t\tModel version\t\n",
    "subreddit_id\tSTRING\tNULLABLE\t\tSubreddit id\t\n",
    "subreddit_name\tSTRING\tNULLABLE\t\tLower case subreddit name\t\n",
    "**embedding\t\tFLOAT\tREPEATED\t\tSubreddit embeddings\n",
    "```"
   ]
  },
  {
   "cell_type": "markdown",
   "id": "5b2c1885",
   "metadata": {},
   "source": [
    "# Notebook setup"
   ]
  },
  {
   "cell_type": "code",
   "execution_count": 1,
   "id": "16f856d0",
   "metadata": {},
   "outputs": [],
   "source": [
    "%load_ext autoreload\n",
    "%autoreload 2"
   ]
  },
  {
   "cell_type": "code",
   "execution_count": 2,
   "id": "4358da79",
   "metadata": {},
   "outputs": [
    {
     "name": "stdout",
     "output_type": "stream",
     "text": [
      "python\t\tv 3.7.10\n",
      "===\n",
      "hydra\t\tv: 1.1.0\n",
      "mlflow\t\tv: 1.16.0\n",
      "numpy\t\tv: 1.19.5\n",
      "pandas\t\tv: 1.2.4\n",
      "subclu\t\tv: 0.6.1\n"
     ]
    }
   ],
   "source": [
    "from datetime import datetime, timedelta\n",
    "import os\n",
    "import logging\n",
    "from logging import info\n",
    "from pathlib import Path\n",
    "from pprint import pprint\n",
    "\n",
    "import numpy as np\n",
    "import pandas as pd\n",
    "from tqdm.auto import tqdm\n",
    "\n",
    "import mlflow\n",
    "import hydra\n",
    "\n",
    "import subclu\n",
    "from subclu.utils.hydra_config_loader import LoadHydraConfig\n",
    "from subclu.utils import set_working_directory, get_project_subfolder\n",
    "from subclu.utils.eda import (\n",
    "    setup_logging, counts_describe, value_counts_and_pcts,\n",
    "    notebook_display_config, print_lib_versions,\n",
    "    style_df_numeric,\n",
    "    elapsed_time,\n",
    ")\n",
    "\n",
    "from subclu.utils.mlflow_logger import MlflowLogger\n",
    "from subclu.models.bq_embedding_schemas import embeddings_schema\n",
    "from subclu.models.reshape_embeddings_for_bq import reshape_embeddings_to_ndjson, reshape_embeddings_and_upload_to_bq\n",
    "from subclu.utils.big_query_utils import load_data_to_bq_table\n",
    "\n",
    "print_lib_versions([hydra, mlflow, np, pd, subclu])"
   ]
  },
  {
   "cell_type": "code",
   "execution_count": 3,
   "id": "7bbbd20e",
   "metadata": {},
   "outputs": [],
   "source": [
    "# plotting\n",
    "import matplotlib.pyplot as plt\n",
    "import matplotlib.ticker as mtick\n",
    "import matplotlib.dates as mdates\n",
    "plt.style.use('default')\n",
    "\n",
    "setup_logging()\n",
    "notebook_display_config()"
   ]
  },
  {
   "cell_type": "markdown",
   "id": "e87af9e6",
   "metadata": {},
   "source": [
    "# Load 1st config for embeddings to reshape and where to save them\n",
    "\n",
    "The embedding aggregation should've been logged to `mlflow` so we should be able to\n",
    "- make calls to mlflow to get the embeddings\n",
    "- add the new embeddings format to the original job\n",
    "\n",
    "\n",
    "\n"
   ]
  },
  {
   "cell_type": "code",
   "execution_count": 30,
   "id": "f4fc1703",
   "metadata": {},
   "outputs": [],
   "source": [
    "cfg_reshape_embeddings = LoadHydraConfig(\n",
    "    config_name='reshape_embeddings_for_bq-subreddit-v0.6.0.yaml',\n",
    "    config_path=\"../config\",\n",
    ")"
   ]
  },
  {
   "cell_type": "code",
   "execution_count": 31,
   "id": "69c96fde",
   "metadata": {},
   "outputs": [],
   "source": [
    "cfg_reshape_embeddings_wt = LoadHydraConfig(\n",
    "    config_name='reshape_embeddings_for_bq-subreddit-v0.6.0_desc_extra_weight.yaml',\n",
    "    config_path=\"../config\",\n",
    ")"
   ]
  },
  {
   "cell_type": "code",
   "execution_count": 32,
   "id": "a741bfd5",
   "metadata": {},
   "outputs": [
    {
     "name": "stdout",
     "output_type": "stream",
     "text": [
      "data_text_and_metadata:\n",
      "    dataset_name: v0.6.0 inputs. ~110k seed subreddits, ~340k with 3+ posts, ~700k total subreddits\n",
      "    bucket_name: i18n-subreddit-clustering\n",
      "    folder_subreddits_text_and_meta: i18n_topic_model_batch/runs/20220811/subreddits/text\n",
      "    folder_posts_text_and_meta: i18n_topic_model_batch/runs/20220811/posts\n",
      "    folder_comments_text_and_meta: i18n_topic_model_batch/runs/20220811/comments\n",
      "    folder_post_and_comment_text_and_meta: i18n_topic_model_batch/runs/20220811/post_and_comment_text_combined/text_all\n",
      "data_embeddings_to_aggregate:\n",
      "    bucket_embeddings: i18n-subreddit-clustering\n",
      "    post_and_comments_folder_embeddings: i18n_topic_model_batch/runs/20220811/post_and_comment_text_combined/text_all/embedding/2022-08-11_084218\n",
      "    subreddit_desc_folder_embeddings: i18n_topic_model_batch/runs/20220811/subreddits/text/embedding/2022-08-11_082859\n",
      "    col_subreddit_id: subreddit_id\n",
      "aggregate_params:\n",
      "    min_post_and_comment_text_len: 3\n",
      "    agg_post_post_and_comment_weight: 85\n",
      "    agg_post_subreddit_desc_weight: 15\n",
      "description: Use this config to reshape embeddings and upload them to BigQuery\n",
      "bucket_output: i18n-subreddit-clustering\n",
      "mlflow_tracking_uri: sqlite\n",
      "mlflow_run_id: badc44b0e5ac467da14f710da0b410c6\n",
      "embeddings_artifact_path: df_subs_agg_c1_unweighted\n",
      "bq_project: reddit-employee-datasets\n",
      "bq_dataset: david_bermejo\n",
      "bq_table: cau_subreddit_embeddings\n",
      "bq_table_description: Subreddit-level embeddings. See the wiki for more details. https://reddit.atlassian.net/wiki/spaces/DataScience/pages/2404220935/\n",
      "update_table_description: True,\n",
      "pt: 2022-08-11\n",
      "model_version: v0.6.0\n",
      "model_name: cau-text-mUSE\n",
      "embeddings_config: aggregate_embeddings_v0.6.0\n"
     ]
    }
   ],
   "source": [
    "for k_, v_ in cfg_reshape_embeddings.config_dict.items():\n",
    "    if isinstance(v_, dict):\n",
    "        print(f\"{k_}:\")\n",
    "        for k2_, v2_ in v_.items():\n",
    "            pass\n",
    "            print(f\"    {k2_}: {v2_}\")\n",
    "    else:\n",
    "        print(f\"{k_}: {v_}\")"
   ]
  },
  {
   "cell_type": "code",
   "execution_count": 33,
   "id": "43eb5067",
   "metadata": {},
   "outputs": [
    {
     "name": "stdout",
     "output_type": "stream",
     "text": [
      "data_text_and_metadata:\n",
      "data_embeddings_to_aggregate:\n",
      "aggregate_params:\n",
      "description: Use this config to reshape embeddings and upload them to BigQuery\n",
      "bucket_output: i18n-subreddit-clustering\n",
      "mlflow_tracking_uri: sqlite\n",
      "mlflow_run_id: badc44b0e5ac467da14f710da0b410c6\n",
      "embeddings_artifact_path: df_subs_agg_c1\n",
      "bq_project: reddit-employee-datasets\n",
      "bq_dataset: david_bermejo\n",
      "bq_table: cau_subreddit_embeddings\n",
      "bq_table_description: Subreddit-level embeddings. See the wiki for more details. https://reddit.atlassian.net/wiki/spaces/DataScience/pages/2404220935/\n",
      "update_table_description: False,\n",
      "pt: 2022-08-10\n",
      "model_version: v0.6.0\n",
      "model_name: cau-text-mUSE extra weight for subreddit description\n",
      "embeddings_config: aggregate_embeddings_v0.6.0\n"
     ]
    }
   ],
   "source": [
    "for k_, v_ in cfg_reshape_embeddings_wt.config_dict.items():\n",
    "    if isinstance(v_, dict):\n",
    "        print(f\"{k_}:\")\n",
    "        for k2_, v2_ in v_.items():\n",
    "            pass\n",
    "            # print(f\"    {k2_}: {v2_}\")\n",
    "    else:\n",
    "        print(f\"{k_}: {v_}\")"
   ]
  },
  {
   "cell_type": "markdown",
   "id": "29821aa9",
   "metadata": {},
   "source": [
    "# Start MLflow & Get Artifact Paths\n",
    "\n",
    "This mlflow server will help us get the artifacts & subreddit-embeddings for the `mlflow-uuid` flagged in the configurations below."
   ]
  },
  {
   "cell_type": "code",
   "execution_count": 13,
   "id": "a5de3161",
   "metadata": {},
   "outputs": [],
   "source": [
    "mlf = MlflowLogger(tracking_uri=cfg_reshape_embeddings.config_dict['mlflow_tracking_uri'])"
   ]
  },
  {
   "cell_type": "code",
   "execution_count": 15,
   "id": "03e73930",
   "metadata": {},
   "outputs": [
    {
     "data": {
      "text/html": [
       "<div>\n",
       "<style scoped>\n",
       "    .dataframe tbody tr th:only-of-type {\n",
       "        vertical-align: middle;\n",
       "    }\n",
       "\n",
       "    .dataframe tbody tr th {\n",
       "        vertical-align: top;\n",
       "    }\n",
       "\n",
       "    .dataframe thead th {\n",
       "        text-align: right;\n",
       "    }\n",
       "</style>\n",
       "<table border=\"1\" class=\"dataframe\">\n",
       "  <thead>\n",
       "    <tr style=\"text-align: right;\">\n",
       "      <th></th>\n",
       "      <th>experiment_id</th>\n",
       "      <th>name</th>\n",
       "      <th>artifact_location</th>\n",
       "      <th>lifecycle_stage</th>\n",
       "    </tr>\n",
       "  </thead>\n",
       "  <tbody>\n",
       "    <tr>\n",
       "      <th>35</th>\n",
       "      <td>35</td>\n",
       "      <td>v0.6.0_mUSE_aggregates</td>\n",
       "      <td>gs://i18n-subreddit-clustering/mlflow/mlruns/35</td>\n",
       "      <td>active</td>\n",
       "    </tr>\n",
       "    <tr>\n",
       "      <th>36</th>\n",
       "      <td>36</td>\n",
       "      <td>v0.6.0_mUSE_clustering_test</td>\n",
       "      <td>gs://i18n-subreddit-clustering/mlflow/mlruns/36</td>\n",
       "      <td>active</td>\n",
       "    </tr>\n",
       "    <tr>\n",
       "      <th>37</th>\n",
       "      <td>37</td>\n",
       "      <td>v0.6.0_mUSE_clustering</td>\n",
       "      <td>gs://i18n-subreddit-clustering/mlflow/mlruns/37</td>\n",
       "      <td>active</td>\n",
       "    </tr>\n",
       "    <tr>\n",
       "      <th>38</th>\n",
       "      <td>38</td>\n",
       "      <td>v0.6.0_nearest_neighbors</td>\n",
       "      <td>gs://i18n-subreddit-clustering/mlflow/mlruns/38</td>\n",
       "      <td>active</td>\n",
       "    </tr>\n",
       "    <tr>\n",
       "      <th>39</th>\n",
       "      <td>39</td>\n",
       "      <td>v0.6.1_mUSE_aggregates_test</td>\n",
       "      <td>gs://i18n-subreddit-clustering/mlflow/mlruns/39</td>\n",
       "      <td>active</td>\n",
       "    </tr>\n",
       "    <tr>\n",
       "      <th>40</th>\n",
       "      <td>40</td>\n",
       "      <td>v0.6.1_mUSE_aggregates</td>\n",
       "      <td>gs://i18n-subreddit-clustering/mlflow/mlruns/40</td>\n",
       "      <td>active</td>\n",
       "    </tr>\n",
       "    <tr>\n",
       "      <th>41</th>\n",
       "      <td>41</td>\n",
       "      <td>v0.6.1_mUSE_clustering_test</td>\n",
       "      <td>gs://i18n-subreddit-clustering/mlflow/mlruns/41</td>\n",
       "      <td>active</td>\n",
       "    </tr>\n",
       "    <tr>\n",
       "      <th>42</th>\n",
       "      <td>42</td>\n",
       "      <td>v0.6.1_mUSE_clustering</td>\n",
       "      <td>gs://i18n-subreddit-clustering/mlflow/mlruns/42</td>\n",
       "      <td>active</td>\n",
       "    </tr>\n",
       "    <tr>\n",
       "      <th>43</th>\n",
       "      <td>43</td>\n",
       "      <td>v0.6.1_nearest_neighbors</td>\n",
       "      <td>gs://i18n-subreddit-clustering/mlflow/mlruns/43</td>\n",
       "      <td>active</td>\n",
       "    </tr>\n",
       "  </tbody>\n",
       "</table>\n",
       "</div>"
      ],
      "text/plain": [
       "   experiment_id                         name                                artifact_location lifecycle_stage\n",
       "35            35       v0.6.0_mUSE_aggregates  gs://i18n-subreddit-clustering/mlflow/mlruns/35          active\n",
       "36            36  v0.6.0_mUSE_clustering_test  gs://i18n-subreddit-clustering/mlflow/mlruns/36          active\n",
       "37            37       v0.6.0_mUSE_clustering  gs://i18n-subreddit-clustering/mlflow/mlruns/37          active\n",
       "38            38     v0.6.0_nearest_neighbors  gs://i18n-subreddit-clustering/mlflow/mlruns/38          active\n",
       "39            39  v0.6.1_mUSE_aggregates_test  gs://i18n-subreddit-clustering/mlflow/mlruns/39          active\n",
       "40            40       v0.6.1_mUSE_aggregates  gs://i18n-subreddit-clustering/mlflow/mlruns/40          active\n",
       "41            41  v0.6.1_mUSE_clustering_test  gs://i18n-subreddit-clustering/mlflow/mlruns/41          active\n",
       "42            42       v0.6.1_mUSE_clustering  gs://i18n-subreddit-clustering/mlflow/mlruns/42          active\n",
       "43            43     v0.6.1_nearest_neighbors  gs://i18n-subreddit-clustering/mlflow/mlruns/43          active"
      ]
     },
     "execution_count": 15,
     "metadata": {},
     "output_type": "execute_result"
    }
   ],
   "source": [
    "mlf.list_experiment_meta(output_format='pandas').tail(9)"
   ]
  },
  {
   "cell_type": "code",
   "execution_count": 16,
   "id": "705b5bfc",
   "metadata": {},
   "outputs": [
    {
     "name": "stdout",
     "output_type": "stream",
     "text": [
      "(4, 43)\n",
      "CPU times: user 59.4 ms, sys: 7.3 ms, total: 66.7 ms\n",
      "Wall time: 65.9 ms\n"
     ]
    }
   ],
   "source": [
    "%%time\n",
    "\n",
    "df_mlf = mlf.search_all_runs(35)\n",
    "print(df_mlf.shape)"
   ]
  },
  {
   "cell_type": "code",
   "execution_count": 17,
   "id": "c354ebbb",
   "metadata": {},
   "outputs": [
    {
     "data": {
      "text/html": [
       "<div>\n",
       "<style scoped>\n",
       "    .dataframe tbody tr th:only-of-type {\n",
       "        vertical-align: middle;\n",
       "    }\n",
       "\n",
       "    .dataframe tbody tr th {\n",
       "        vertical-align: top;\n",
       "    }\n",
       "\n",
       "    .dataframe thead th {\n",
       "        text-align: right;\n",
       "    }\n",
       "</style>\n",
       "<table border=\"1\" class=\"dataframe\">\n",
       "  <thead>\n",
       "    <tr style=\"text-align: right;\">\n",
       "      <th></th>\n",
       "      <th>run_id</th>\n",
       "      <th>experiment_id</th>\n",
       "      <th>status</th>\n",
       "      <th>artifact_uri</th>\n",
       "      <th>start_time</th>\n",
       "      <th>end_time</th>\n",
       "      <th>metrics.df_v_subs-cols</th>\n",
       "      <th>metrics.df_subs_agg_c1-cols</th>\n",
       "      <th>metrics.df_v_subs-rows</th>\n",
       "      <th>metrics.cpu_count</th>\n",
       "      <th>metrics.df_v_post_comments-cols</th>\n",
       "      <th>metrics.memory_used</th>\n",
       "      <th>metrics.df_subs_agg_c1_uw-rows</th>\n",
       "    </tr>\n",
       "  </thead>\n",
       "  <tbody>\n",
       "    <tr>\n",
       "      <th>0</th>\n",
       "      <td>badc44b0e5ac467da14f710da0b410c6</td>\n",
       "      <td>35</td>\n",
       "      <td>FINISHED</td>\n",
       "      <td>gs://i18n-subreddit-clustering/mlflow/mlruns/35/badc44b0e5ac467da14f710da0b410c6/artifacts</td>\n",
       "      <td>2022-08-16 08:41:53.006000+00:00</td>\n",
       "      <td>2022-09-10 00:54:17.303000+00:00</td>\n",
       "      <td>514.0</td>\n",
       "      <td>515.0</td>\n",
       "      <td>771760.0</td>\n",
       "      <td>96.0</td>\n",
       "      <td>515.0</td>\n",
       "      <td>774858.0</td>\n",
       "      <td>771760.0</td>\n",
       "    </tr>\n",
       "    <tr>\n",
       "      <th>1</th>\n",
       "      <td>ca79765b72c5428395b02926612d85fd</td>\n",
       "      <td>35</td>\n",
       "      <td>FINISHED</td>\n",
       "      <td>gs://i18n-subreddit-clustering/mlflow/mlruns/35/ca79765b72c5428395b02926612d85fd/artifacts</td>\n",
       "      <td>2022-08-16 08:41:31.162000+00:00</td>\n",
       "      <td>2022-08-31 03:13:27.187000+00:00</td>\n",
       "      <td>514.0</td>\n",
       "      <td>NaN</td>\n",
       "      <td>771760.0</td>\n",
       "      <td>96.0</td>\n",
       "      <td>515.0</td>\n",
       "      <td>442282.0</td>\n",
       "      <td>NaN</td>\n",
       "    </tr>\n",
       "  </tbody>\n",
       "</table>\n",
       "</div>"
      ],
      "text/plain": [
       "                             run_id experiment_id    status                                                                                artifact_uri                       start_time                         end_time  metrics.df_v_subs-cols  metrics.df_subs_agg_c1-cols  metrics.df_v_subs-rows  \\\n",
       "0  badc44b0e5ac467da14f710da0b410c6            35  FINISHED  gs://i18n-subreddit-clustering/mlflow/mlruns/35/badc44b0e5ac467da14f710da0b410c6/artifacts 2022-08-16 08:41:53.006000+00:00 2022-09-10 00:54:17.303000+00:00                   514.0                        515.0                771760.0   \n",
       "1  ca79765b72c5428395b02926612d85fd            35  FINISHED  gs://i18n-subreddit-clustering/mlflow/mlruns/35/ca79765b72c5428395b02926612d85fd/artifacts 2022-08-16 08:41:31.162000+00:00 2022-08-31 03:13:27.187000+00:00                   514.0                          NaN                771760.0   \n",
       "\n",
       "   metrics.cpu_count  metrics.df_v_post_comments-cols  metrics.memory_used  metrics.df_subs_agg_c1_uw-rows  \n",
       "0               96.0                            515.0             774858.0                        771760.0  \n",
       "1               96.0                            515.0             442282.0                             NaN  "
      ]
     },
     "execution_count": 17,
     "metadata": {},
     "output_type": "execute_result"
    }
   ],
   "source": [
    "# only show finished runs\n",
    "df_mlf[df_mlf['status'] == \"FINISHED\"].iloc[:5, :13]"
   ]
  },
  {
   "cell_type": "markdown",
   "id": "ae6c4f2b",
   "metadata": {},
   "source": [
    "## Get path to latest reshaped data\n",
    "Since we already reshaped the data and it's in GCS, let's read that instead of reshaping & uploading to GCS"
   ]
  },
  {
   "cell_type": "code",
   "execution_count": 18,
   "id": "b2b69612",
   "metadata": {},
   "outputs": [
    {
     "name": "stderr",
     "output_type": "stream",
     "text": [
      "01:29:43 | INFO | \"   293 <- Artifacts to check count\"\n",
      "01:29:43 | INFO | \"   293 <- Artifacts clean count\"\n",
      "01:29:43 | INFO | \"    10 <- Artifacts & folders at TOP LEVEL clean count\"\n",
      "01:29:48 | INFO | \"   293 <- Artifacts clean count\"\n",
      "01:29:48 | INFO | \"    10 <- Artifacts & folders at TOP LEVEL clean count\"\n"
     ]
    }
   ],
   "source": [
    "l_artifacts_top_level = mlf.list_run_artifacts(\n",
    "    run_id=cfg_reshape_embeddings_wt.config_dict['mlflow_run_id'],\n",
    "    only_top_level=True,\n",
    "    verbose=True,\n",
    "    full_path=True,\n",
    ")\n",
    "l_artifacts_all = mlf.list_run_artifacts(\n",
    "    run_id=cfg_reshape_embeddings_wt.config_dict['mlflow_run_id'],\n",
    "    only_top_level=False,\n",
    "    verbose=False,\n",
    "    full_path=True,\n",
    ")"
   ]
  },
  {
   "cell_type": "code",
   "execution_count": 19,
   "id": "0c119dfb",
   "metadata": {},
   "outputs": [
    {
     "data": {
      "text/plain": [
       "['gs://i18n-subreddit-clustering/mlflow/mlruns/35/badc44b0e5ac467da14f710da0b410c6/artifacts/ann_df-2022-09-10_003611',\n",
       " 'gs://i18n-subreddit-clustering/mlflow/mlruns/35/badc44b0e5ac467da14f710da0b410c6/artifacts/ann_df_test-2022-09-09_212342',\n",
       " 'gs://i18n-subreddit-clustering/mlflow/mlruns/35/badc44b0e5ac467da14f710da0b410c6/artifacts/ann_ndjson-2022-09-10_003611',\n",
       " 'gs://i18n-subreddit-clustering/mlflow/mlruns/35/badc44b0e5ac467da14f710da0b410c6/artifacts/ann_ndjson_test-2022-09-09_212342',\n",
       " 'gs://i18n-subreddit-clustering/mlflow/mlruns/35/badc44b0e5ac467da14f710da0b410c6/artifacts/ann_ndjson_test-2022-09-10_003611',\n",
       " 'gs://i18n-subreddit-clustering/mlflow/mlruns/35/badc44b0e5ac467da14f710da0b410c6/artifacts/df_posts_agg_c1',\n",
       " 'gs://i18n-subreddit-clustering/mlflow/mlruns/35/badc44b0e5ac467da14f710da0b410c6/artifacts/df_subs_agg_c1',\n",
       " 'gs://i18n-subreddit-clustering/mlflow/mlruns/35/badc44b0e5ac467da14f710da0b410c6/artifacts/df_subs_agg_c1_ndjson',\n",
       " 'gs://i18n-subreddit-clustering/mlflow/mlruns/35/badc44b0e5ac467da14f710da0b410c6/artifacts/df_subs_agg_c1_unweighted',\n",
       " 'gs://i18n-subreddit-clustering/mlflow/mlruns/35/badc44b0e5ac467da14f710da0b410c6/artifacts/df_subs_agg_c1_unweighted_ndjson']"
      ]
     },
     "execution_count": 19,
     "metadata": {},
     "output_type": "execute_result"
    }
   ],
   "source": [
    "l_artifacts_top_level"
   ]
  },
  {
   "cell_type": "code",
   "execution_count": 22,
   "id": "3cd89492",
   "metadata": {},
   "outputs": [
    {
     "name": "stdout",
     "output_type": "stream",
     "text": [
      "\n",
      "Folder with parquet files (full):\n",
      "gs://i18n-subreddit-clustering/mlflow/mlruns/35/badc44b0e5ac467da14f710da0b410c6/artifacts/df_subs_agg_c1\n",
      "\n"
     ]
    },
    {
     "data": {
      "text/plain": [
       "['gs://i18n-subreddit-clustering/mlflow/mlruns/35/badc44b0e5ac467da14f710da0b410c6/artifacts/df_subs_agg_c1/_common_metadata',\n",
       " 'gs://i18n-subreddit-clustering/mlflow/mlruns/35/badc44b0e5ac467da14f710da0b410c6/artifacts/df_subs_agg_c1/_metadata',\n",
       " 'gs://i18n-subreddit-clustering/mlflow/mlruns/35/badc44b0e5ac467da14f710da0b410c6/artifacts/df_subs_agg_c1/part.0.parquet',\n",
       " 'gs://i18n-subreddit-clustering/mlflow/mlruns/35/badc44b0e5ac467da14f710da0b410c6/artifacts/df_subs_agg_c1/part.1.parquet',\n",
       " 'gs://i18n-subreddit-clustering/mlflow/mlruns/35/badc44b0e5ac467da14f710da0b410c6/artifacts/df_subs_agg_c1/part.2.parquet',\n",
       " 'gs://i18n-subreddit-clustering/mlflow/mlruns/35/badc44b0e5ac467da14f710da0b410c6/artifacts/df_subs_agg_c1/part.3.parquet']"
      ]
     },
     "execution_count": 22,
     "metadata": {},
     "output_type": "execute_result"
    }
   ],
   "source": [
    "# get path for parquet file. This should be a full folder with multiple parquet files\n",
    "path_parquet_ = (\n",
    "    cfg_reshape_embeddings.config_dict['embeddings_artifact_path']\n",
    ")\n",
    "\n",
    "folder_parquet_ = (\n",
    "    cfg_reshape_embeddings_wt.config_dict['embeddings_artifact_path']\n",
    ")\n",
    "folder_parquet_full_ = [i_ for i_ in l_artifacts_top_level if i_.split('/')[-1] == folder_parquet_][0]\n",
    "\n",
    "# print(f\"Folder with parquet files:\\n{path_parquet_}\")\n",
    "print(f\"\\nFolder with parquet files (full):\\n{folder_parquet_full_}\\n\")\n",
    "\n",
    "[_ for _ in l_artifacts_all if folder_parquet_ == _.split('/')[-2]]"
   ]
  },
  {
   "cell_type": "code",
   "execution_count": 23,
   "id": "aeda95a4",
   "metadata": {},
   "outputs": [
    {
     "name": "stdout",
     "output_type": "stream",
     "text": [
      "ndjson Files:\n",
      "['gs://i18n-subreddit-clustering/mlflow/mlruns/35/badc44b0e5ac467da14f710da0b410c6/artifacts/df_subs_agg_c1_ndjson/subreddit_embeddings_2022-08-31_035824.json']\n",
      "\n",
      "File to upload to BQ:\n",
      "gs://i18n-subreddit-clustering/mlflow/mlruns/35/badc44b0e5ac467da14f710da0b410c6/artifacts/df_subs_agg_c1_ndjson/subreddit_embeddings_2022-08-31_035824.json\n"
     ]
    }
   ],
   "source": [
    "# get path for latest ndjson output FILE\n",
    "#  NOTE: there could be multiple runs of this file\n",
    "path_ndjson_ = (\n",
    "    cfg_reshape_embeddings_wt.config_dict['embeddings_artifact_path'] + '_ndjson'\n",
    ")\n",
    "l_ndjson_files_ = [_ for _ in l_artifacts_all if path_ndjson_ in _]\n",
    "ndjson_path_ = l_ndjson_files_[-1]\n",
    "print(f\"ndjson Files:\\n{l_ndjson_files_}\")\n",
    "\n",
    "print(f\"\\nFile to upload to BQ:\\n{ndjson_path_}\")"
   ]
  },
  {
   "cell_type": "markdown",
   "id": "dfe6c0ba",
   "metadata": {},
   "source": [
    "# Run new function to only upload existing reshaped data"
   ]
  },
  {
   "cell_type": "code",
   "execution_count": 34,
   "id": "6bdcc58c",
   "metadata": {},
   "outputs": [
    {
     "name": "stderr",
     "output_type": "stream",
     "text": [
      "16:37:46 | INFO | \"Loading this URI:\n",
      "  gs://i18n-subreddit-clustering/mlflow/mlruns/35/badc44b0e5ac467da14f710da0b410c6/artifacts/df_subs_agg_c1_ndjson/subreddit_embeddings_2022-08-31_035824.json\n",
      "Into this table:\n",
      "  reddit-employee-datasets.david_bermejo.cau_subreddit_embeddings\"\n"
     ]
    },
    {
     "ename": "Forbidden",
     "evalue": "403 GET https://bigquery.googleapis.com/bigquery/v2/projects/reddit-employee-datasets/datasets/david_bermejo/tables/cau_subreddit_embeddings?prettyPrint=false: Access Denied: Table reddit-employee-datasets:david_bermejo.cau_subreddit_embeddings: Permission bigquery.tables.get denied on table reddit-employee-datasets:david_bermejo.cau_subreddit_embeddings (or it may not exist).",
     "output_type": "error",
     "traceback": [
      "\u001b[0;31m---------------------------------------------------------------------------\u001b[0m",
      "\u001b[0;31mForbidden\u001b[0m                                 Traceback (most recent call last)",
      "\u001b[0;32m<timed eval>\u001b[0m in \u001b[0;36m<module>\u001b[0;34m\u001b[0m\n",
      "\u001b[0;32m/home/david.bermejo/repos/subreddit_clustering_i18n/subclu/utils/big_query_utils.py\u001b[0m in \u001b[0;36mload_data_to_bq_table\u001b[0;34m(uri, bq_project, bq_dataset, bq_table_name, schema, partition_column, source_format, write_disposition, table_description, update_table_description, location, partition_expiration_days, bq_client, verbose)\u001b[0m\n\u001b[1;32m    107\u001b[0m         \u001b[0mbq_client\u001b[0m\u001b[0;34m=\u001b[0m\u001b[0mbq_client\u001b[0m\u001b[0;34m,\u001b[0m\u001b[0;34m\u001b[0m\u001b[0;34m\u001b[0m\u001b[0m\n\u001b[1;32m    108\u001b[0m         \u001b[0mpartition_expiration_days\u001b[0m\u001b[0;34m=\u001b[0m\u001b[0mpartition_expiration_days\u001b[0m\u001b[0;34m,\u001b[0m\u001b[0;34m\u001b[0m\u001b[0;34m\u001b[0m\u001b[0m\n\u001b[0;32m--> 109\u001b[0;31m         \u001b[0mtable_description\u001b[0m\u001b[0;34m=\u001b[0m\u001b[0mtable_description\u001b[0m\u001b[0;34m,\u001b[0m\u001b[0;34m\u001b[0m\u001b[0;34m\u001b[0m\u001b[0m\n\u001b[0m\u001b[1;32m    110\u001b[0m     )\n\u001b[1;32m    111\u001b[0m \u001b[0;34m\u001b[0m\u001b[0m\n",
      "\u001b[0;32m/home/david.bermejo/repos/subreddit_clustering_i18n/subclu/utils/big_query_utils.py\u001b[0m in \u001b[0;36mcreate_partitioned_table_if_not_exist\u001b[0;34m(bq_project, bq_dataset, bq_table_name, schema, partition_column, bq_client, table_description, partition_expiration_days)\u001b[0m\n\u001b[1;32m     35\u001b[0m     \u001b[0mbq_table\u001b[0m \u001b[0;34m=\u001b[0m \u001b[0;34m\".\"\u001b[0m\u001b[0;34m.\u001b[0m\u001b[0mjoin\u001b[0m\u001b[0;34m(\u001b[0m\u001b[0;34m[\u001b[0m\u001b[0mbq_project\u001b[0m\u001b[0;34m,\u001b[0m \u001b[0mbq_dataset\u001b[0m\u001b[0;34m,\u001b[0m \u001b[0mbq_table_name\u001b[0m\u001b[0;34m]\u001b[0m\u001b[0;34m)\u001b[0m\u001b[0;34m\u001b[0m\u001b[0;34m\u001b[0m\u001b[0m\n\u001b[1;32m     36\u001b[0m \u001b[0;34m\u001b[0m\u001b[0m\n\u001b[0;32m---> 37\u001b[0;31m     \u001b[0;32mif\u001b[0m \u001b[0mtable_exists\u001b[0m\u001b[0;34m(\u001b[0m\u001b[0mbq_table\u001b[0m\u001b[0;34m=\u001b[0m\u001b[0mbq_table\u001b[0m\u001b[0;34m,\u001b[0m \u001b[0mbq_client\u001b[0m\u001b[0;34m=\u001b[0m\u001b[0mbq_client\u001b[0m\u001b[0;34m)\u001b[0m\u001b[0;34m:\u001b[0m\u001b[0;34m\u001b[0m\u001b[0;34m\u001b[0m\u001b[0m\n\u001b[0m\u001b[1;32m     38\u001b[0m         \u001b[0minfo\u001b[0m\u001b[0;34m(\u001b[0m\u001b[0;34m\"Table %s already exist\"\u001b[0m\u001b[0;34m,\u001b[0m \u001b[0mbq_table\u001b[0m\u001b[0;34m)\u001b[0m\u001b[0;34m\u001b[0m\u001b[0;34m\u001b[0m\u001b[0m\n\u001b[1;32m     39\u001b[0m     \u001b[0;32melse\u001b[0m\u001b[0;34m:\u001b[0m\u001b[0;34m\u001b[0m\u001b[0;34m\u001b[0m\u001b[0m\n",
      "\u001b[0;32m/home/david.bermejo/repos/subreddit_clustering_i18n/subclu/utils/big_query_utils.py\u001b[0m in \u001b[0;36mtable_exists\u001b[0;34m(bq_table, bq_client)\u001b[0m\n\u001b[1;32m     15\u001b[0m ) -> bool:\n\u001b[1;32m     16\u001b[0m     \u001b[0;32mtry\u001b[0m\u001b[0;34m:\u001b[0m\u001b[0;34m\u001b[0m\u001b[0;34m\u001b[0m\u001b[0m\n\u001b[0;32m---> 17\u001b[0;31m         \u001b[0mbq_client\u001b[0m\u001b[0;34m.\u001b[0m\u001b[0mget_table\u001b[0m\u001b[0;34m(\u001b[0m\u001b[0mbq_table\u001b[0m\u001b[0;34m)\u001b[0m\u001b[0;34m\u001b[0m\u001b[0;34m\u001b[0m\u001b[0m\n\u001b[0m\u001b[1;32m     18\u001b[0m         \u001b[0mlogging\u001b[0m\u001b[0;34m.\u001b[0m\u001b[0mdebug\u001b[0m\u001b[0;34m(\u001b[0m\u001b[0;34m\"Table %s already exists\"\u001b[0m\u001b[0;34m,\u001b[0m \u001b[0mbq_table\u001b[0m\u001b[0;34m)\u001b[0m\u001b[0;34m\u001b[0m\u001b[0;34m\u001b[0m\u001b[0m\n\u001b[1;32m     19\u001b[0m         \u001b[0;32mreturn\u001b[0m \u001b[0;32mTrue\u001b[0m\u001b[0;34m\u001b[0m\u001b[0;34m\u001b[0m\u001b[0m\n",
      "\u001b[0;32m/opt/conda/lib/python3.7/site-packages/google/cloud/bigquery/client.py\u001b[0m in \u001b[0;36mget_table\u001b[0;34m(self, table, retry, timeout)\u001b[0m\n\u001b[1;32m    864\u001b[0m             \u001b[0mmethod\u001b[0m\u001b[0;34m=\u001b[0m\u001b[0;34m\"GET\"\u001b[0m\u001b[0;34m,\u001b[0m\u001b[0;34m\u001b[0m\u001b[0;34m\u001b[0m\u001b[0m\n\u001b[1;32m    865\u001b[0m             \u001b[0mpath\u001b[0m\u001b[0;34m=\u001b[0m\u001b[0mpath\u001b[0m\u001b[0;34m,\u001b[0m\u001b[0;34m\u001b[0m\u001b[0;34m\u001b[0m\u001b[0m\n\u001b[0;32m--> 866\u001b[0;31m             \u001b[0mtimeout\u001b[0m\u001b[0;34m=\u001b[0m\u001b[0mtimeout\u001b[0m\u001b[0;34m,\u001b[0m\u001b[0;34m\u001b[0m\u001b[0;34m\u001b[0m\u001b[0m\n\u001b[0m\u001b[1;32m    867\u001b[0m         )\n\u001b[1;32m    868\u001b[0m         \u001b[0;32mreturn\u001b[0m \u001b[0mTable\u001b[0m\u001b[0;34m.\u001b[0m\u001b[0mfrom_api_repr\u001b[0m\u001b[0;34m(\u001b[0m\u001b[0mapi_response\u001b[0m\u001b[0;34m)\u001b[0m\u001b[0;34m\u001b[0m\u001b[0;34m\u001b[0m\u001b[0m\n",
      "\u001b[0;32m/opt/conda/lib/python3.7/site-packages/google/cloud/bigquery/client.py\u001b[0m in \u001b[0;36m_call_api\u001b[0;34m(self, retry, span_name, span_attributes, job_ref, **kwargs)\u001b[0m\n\u001b[1;32m    638\u001b[0m                 \u001b[0mname\u001b[0m\u001b[0;34m=\u001b[0m\u001b[0mspan_name\u001b[0m\u001b[0;34m,\u001b[0m \u001b[0mattributes\u001b[0m\u001b[0;34m=\u001b[0m\u001b[0mspan_attributes\u001b[0m\u001b[0;34m,\u001b[0m \u001b[0mclient\u001b[0m\u001b[0;34m=\u001b[0m\u001b[0mself\u001b[0m\u001b[0;34m,\u001b[0m \u001b[0mjob_ref\u001b[0m\u001b[0;34m=\u001b[0m\u001b[0mjob_ref\u001b[0m\u001b[0;34m\u001b[0m\u001b[0;34m\u001b[0m\u001b[0m\n\u001b[1;32m    639\u001b[0m             ):\n\u001b[0;32m--> 640\u001b[0;31m                 \u001b[0;32mreturn\u001b[0m \u001b[0mcall\u001b[0m\u001b[0;34m(\u001b[0m\u001b[0;34m)\u001b[0m\u001b[0;34m\u001b[0m\u001b[0;34m\u001b[0m\u001b[0m\n\u001b[0m\u001b[1;32m    641\u001b[0m         \u001b[0;32mreturn\u001b[0m \u001b[0mcall\u001b[0m\u001b[0;34m(\u001b[0m\u001b[0;34m)\u001b[0m\u001b[0;34m\u001b[0m\u001b[0;34m\u001b[0m\u001b[0m\n\u001b[1;32m    642\u001b[0m \u001b[0;34m\u001b[0m\u001b[0m\n",
      "\u001b[0;32m/opt/conda/lib/python3.7/site-packages/google/api_core/retry.py\u001b[0m in \u001b[0;36mretry_wrapped_func\u001b[0;34m(*args, **kwargs)\u001b[0m\n\u001b[1;32m    284\u001b[0m                 \u001b[0msleep_generator\u001b[0m\u001b[0;34m,\u001b[0m\u001b[0;34m\u001b[0m\u001b[0;34m\u001b[0m\u001b[0m\n\u001b[1;32m    285\u001b[0m                 \u001b[0mself\u001b[0m\u001b[0;34m.\u001b[0m\u001b[0m_deadline\u001b[0m\u001b[0;34m,\u001b[0m\u001b[0;34m\u001b[0m\u001b[0;34m\u001b[0m\u001b[0m\n\u001b[0;32m--> 286\u001b[0;31m                 \u001b[0mon_error\u001b[0m\u001b[0;34m=\u001b[0m\u001b[0mon_error\u001b[0m\u001b[0;34m,\u001b[0m\u001b[0;34m\u001b[0m\u001b[0;34m\u001b[0m\u001b[0m\n\u001b[0m\u001b[1;32m    287\u001b[0m             )\n\u001b[1;32m    288\u001b[0m \u001b[0;34m\u001b[0m\u001b[0m\n",
      "\u001b[0;32m/opt/conda/lib/python3.7/site-packages/google/api_core/retry.py\u001b[0m in \u001b[0;36mretry_target\u001b[0;34m(target, predicate, sleep_generator, deadline, on_error)\u001b[0m\n\u001b[1;32m    182\u001b[0m     \u001b[0;32mfor\u001b[0m \u001b[0msleep\u001b[0m \u001b[0;32min\u001b[0m \u001b[0msleep_generator\u001b[0m\u001b[0;34m:\u001b[0m\u001b[0;34m\u001b[0m\u001b[0;34m\u001b[0m\u001b[0m\n\u001b[1;32m    183\u001b[0m         \u001b[0;32mtry\u001b[0m\u001b[0;34m:\u001b[0m\u001b[0;34m\u001b[0m\u001b[0;34m\u001b[0m\u001b[0m\n\u001b[0;32m--> 184\u001b[0;31m             \u001b[0;32mreturn\u001b[0m \u001b[0mtarget\u001b[0m\u001b[0;34m(\u001b[0m\u001b[0;34m)\u001b[0m\u001b[0;34m\u001b[0m\u001b[0;34m\u001b[0m\u001b[0m\n\u001b[0m\u001b[1;32m    185\u001b[0m \u001b[0;34m\u001b[0m\u001b[0m\n\u001b[1;32m    186\u001b[0m         \u001b[0;31m# pylint: disable=broad-except\u001b[0m\u001b[0;34m\u001b[0m\u001b[0;34m\u001b[0m\u001b[0;34m\u001b[0m\u001b[0m\n",
      "\u001b[0;32m/opt/conda/lib/python3.7/site-packages/google/cloud/_http.py\u001b[0m in \u001b[0;36mapi_request\u001b[0;34m(self, method, path, query_params, data, content_type, headers, api_base_url, api_version, expect_json, _target_object, timeout)\u001b[0m\n\u001b[1;32m    481\u001b[0m \u001b[0;34m\u001b[0m\u001b[0m\n\u001b[1;32m    482\u001b[0m         \u001b[0;32mif\u001b[0m \u001b[0;32mnot\u001b[0m \u001b[0;36m200\u001b[0m \u001b[0;34m<=\u001b[0m \u001b[0mresponse\u001b[0m\u001b[0;34m.\u001b[0m\u001b[0mstatus_code\u001b[0m \u001b[0;34m<\u001b[0m \u001b[0;36m300\u001b[0m\u001b[0;34m:\u001b[0m\u001b[0;34m\u001b[0m\u001b[0;34m\u001b[0m\u001b[0m\n\u001b[0;32m--> 483\u001b[0;31m             \u001b[0;32mraise\u001b[0m \u001b[0mexceptions\u001b[0m\u001b[0;34m.\u001b[0m\u001b[0mfrom_http_response\u001b[0m\u001b[0;34m(\u001b[0m\u001b[0mresponse\u001b[0m\u001b[0;34m)\u001b[0m\u001b[0;34m\u001b[0m\u001b[0;34m\u001b[0m\u001b[0m\n\u001b[0m\u001b[1;32m    484\u001b[0m \u001b[0;34m\u001b[0m\u001b[0m\n\u001b[1;32m    485\u001b[0m         \u001b[0;32mif\u001b[0m \u001b[0mexpect_json\u001b[0m \u001b[0;32mand\u001b[0m \u001b[0mresponse\u001b[0m\u001b[0;34m.\u001b[0m\u001b[0mcontent\u001b[0m\u001b[0;34m:\u001b[0m\u001b[0;34m\u001b[0m\u001b[0;34m\u001b[0m\u001b[0m\n",
      "\u001b[0;31mForbidden\u001b[0m: 403 GET https://bigquery.googleapis.com/bigquery/v2/projects/reddit-employee-datasets/datasets/david_bermejo/tables/cau_subreddit_embeddings?prettyPrint=false: Access Denied: Table reddit-employee-datasets:david_bermejo.cau_subreddit_embeddings: Permission bigquery.tables.get denied on table reddit-employee-datasets:david_bermejo.cau_subreddit_embeddings (or it may not exist)."
     ]
    }
   ],
   "source": [
    "%%time\n",
    "\n",
    "load_data_to_bq_table(\n",
    "    uri=ndjson_path_,\n",
    "    bq_project=cfg_reshape_embeddings_wt.config_dict['bq_project'],\n",
    "    bq_dataset=cfg_reshape_embeddings_wt.config_dict['bq_dataset'],\n",
    "    bq_table_name=cfg_reshape_embeddings_wt.config_dict['bq_table'],\n",
    "    schema=embeddings_schema(),\n",
    "    partition_column='pt',\n",
    "    table_description=cfg_reshape_embeddings_wt.config_dict['bq_table_description'],\n",
    "    update_table_description=False,\n",
    ")"
   ]
  },
  {
   "cell_type": "code",
   "execution_count": null,
   "id": "4af01bc0",
   "metadata": {},
   "outputs": [],
   "source": []
  },
  {
   "cell_type": "code",
   "execution_count": null,
   "id": "d6d83980",
   "metadata": {},
   "outputs": [],
   "source": []
  },
  {
   "cell_type": "markdown",
   "id": "72aa8b09",
   "metadata": {},
   "source": [
    "# Explore data [optional]"
   ]
  },
  {
   "cell_type": "markdown",
   "id": "5bcc9d4d",
   "metadata": {},
   "source": [
    "## Load embeddings from parquet files"
   ]
  },
  {
   "cell_type": "code",
   "execution_count": 10,
   "id": "6dd23aa7",
   "metadata": {},
   "outputs": [
    {
     "name": "stderr",
     "output_type": "stream",
     "text": [
      "03:32:52 | INFO | \"Local folder to download artifact(s):\n",
      "  /home/jupyter/subreddit_clustering_i18n/data/local_cache/mlflow/mlruns/35/badc44b0e5ac467da14f710da0b410c6/artifacts/df_subs_agg_c1_unweighted\"\n",
      "100%|##########################################| 6/6 [00:00<00:00, 17476.27it/s]\n",
      "03:32:53 | INFO | \"  Parquet files found:     4\"\n",
      "03:32:53 | INFO | \"  Parquet files to use:     4\"\n"
     ]
    },
    {
     "name": "stdout",
     "output_type": "stream",
     "text": [
      "(771760, 515)\n",
      "CPU times: user 9.31 s, sys: 4.32 s, total: 13.6 s\n",
      "Wall time: 7.86 s\n"
     ]
    }
   ],
   "source": [
    "%%time\n",
    "\n",
    "df_agg_sub_c = mlf.read_run_artifact(\n",
    "    run_id=cfg_reshape_embeddings.config_dict['mlflow_run_id'],\n",
    "    artifact_folder=cfg_reshape_embeddings.config_dict['embeddings_artifact_path'],\n",
    "    read_function='pd_parquet',\n",
    "    verbose=False,\n",
    ")\n",
    "print(df_agg_sub_c.shape)"
   ]
  },
  {
   "cell_type": "markdown",
   "id": "fe3377aa",
   "metadata": {},
   "source": [
    "## Check distribution of posts for embeddings\n",
    "We'd expect ~340k subs with 3+ posts"
   ]
  },
  {
   "cell_type": "code",
   "execution_count": 11,
   "id": "89fd458e",
   "metadata": {},
   "outputs": [
    {
     "data": {
      "text/plain": [
       "count    771760.000000\n",
       "mean         67.257111\n",
       "std         479.863049\n",
       "min           0.000000\n",
       "25%           1.000000\n",
       "50%           2.000000\n",
       "75%           8.000000\n",
       "max        8400.000000\n",
       "Name: posts_for_embeddings_count, dtype: float64"
      ]
     },
     "execution_count": 11,
     "metadata": {},
     "output_type": "execute_result"
    }
   ],
   "source": [
    "df_agg_sub_c['posts_for_embeddings_count'].describe()"
   ]
  },
  {
   "cell_type": "code",
   "execution_count": 14,
   "id": "8c46c466",
   "metadata": {},
   "outputs": [],
   "source": [
    "# value_counts_and_pcts(\n",
    "#     df_agg_sub_c['posts_for_embeddings_count'],\n",
    "#     sort_index=True,\n",
    "#     sort_index_ascending=True,\n",
    "# )"
   ]
  },
  {
   "cell_type": "code",
   "execution_count": 13,
   "id": "2936cc6a",
   "metadata": {},
   "outputs": [
    {
     "data": {
      "text/html": [
       "<style  type=\"text/css\" >\n",
       "#T_c862e_row0_col1{\n",
       "            width:  10em;\n",
       "             height:  80%;\n",
       "            background:  linear-gradient(90deg,#95cff5 94.0%, transparent 94.0%);\n",
       "        }#T_c862e_row0_col3,#T_c862e_row1_col1{\n",
       "            width:  10em;\n",
       "             height:  80%;\n",
       "        }#T_c862e_row1_col3{\n",
       "            width:  10em;\n",
       "             height:  80%;\n",
       "            background:  linear-gradient(90deg,#95cff5 4.3%, transparent 4.3%);\n",
       "        }#T_c862e_row2_col1{\n",
       "            width:  10em;\n",
       "             height:  80%;\n",
       "            background:  linear-gradient(90deg,#95cff5 4.5%, transparent 4.5%);\n",
       "        }#T_c862e_row2_col3{\n",
       "            width:  10em;\n",
       "             height:  80%;\n",
       "            background:  linear-gradient(90deg,#95cff5 10.3%, transparent 10.3%);\n",
       "        }#T_c862e_row3_col1{\n",
       "            width:  10em;\n",
       "             height:  80%;\n",
       "            background:  linear-gradient(90deg,#95cff5 15.5%, transparent 15.5%);\n",
       "        }#T_c862e_row3_col3{\n",
       "            width:  10em;\n",
       "             height:  80%;\n",
       "            background:  linear-gradient(90deg,#95cff5 20.8%, transparent 20.8%);\n",
       "        }#T_c862e_row4_col1{\n",
       "            width:  10em;\n",
       "             height:  80%;\n",
       "            background:  linear-gradient(90deg,#95cff5 46.9%, transparent 46.9%);\n",
       "        }#T_c862e_row4_col3{\n",
       "            width:  10em;\n",
       "             height:  80%;\n",
       "            background:  linear-gradient(90deg,#95cff5 43.8%, transparent 43.8%);\n",
       "        }#T_c862e_row5_col1,#T_c862e_row6_col3{\n",
       "            width:  10em;\n",
       "             height:  80%;\n",
       "            background:  linear-gradient(90deg,#95cff5 100.0%, transparent 100.0%);\n",
       "        }#T_c862e_row5_col3{\n",
       "            width:  10em;\n",
       "             height:  80%;\n",
       "            background:  linear-gradient(90deg,#95cff5 87.9%, transparent 87.9%);\n",
       "        }#T_c862e_row6_col1{\n",
       "            width:  10em;\n",
       "             height:  80%;\n",
       "            background:  linear-gradient(90deg,#95cff5 19.6%, transparent 19.6%);\n",
       "        }</style><table id=\"T_c862e_\" ><thead>    <tr>        <th class=\"blank level0\" ></th>        <th class=\"col_heading level0 col0\" >posts_for_embeddings_count-count</th>        <th class=\"col_heading level0 col1\" >posts_for_embeddings_count-percent</th>        <th class=\"col_heading level0 col2\" >posts_for_embeddings_count-cumulative_sum</th>        <th class=\"col_heading level0 col3\" >posts_for_embeddings_count-pct_cumulative_sum</th>    </tr></thead><tbody>\n",
       "                <tr>\n",
       "                        <th id=\"T_c862e_level0_row0\" class=\"row_heading level0 row0\" >6+ posts</th>\n",
       "                        <td id=\"T_c862e_row0_col0\" class=\"data row0 col0\" >227,368</td>\n",
       "                        <td id=\"T_c862e_row0_col1\" class=\"data row0 col1\" >29.5%</td>\n",
       "                        <td id=\"T_c862e_row0_col2\" class=\"data row0 col2\" >227,368</td>\n",
       "                        <td id=\"T_c862e_row0_col3\" class=\"data row0 col3\" >29.5%</td>\n",
       "            </tr>\n",
       "            <tr>\n",
       "                        <th id=\"T_c862e_level0_row1\" class=\"row_heading level0 row1\" >5 posts</th>\n",
       "                        <td id=\"T_c862e_row1_col0\" class=\"data row1 col0\" >23,205</td>\n",
       "                        <td id=\"T_c862e_row1_col1\" class=\"data row1 col1\" >3.0%</td>\n",
       "                        <td id=\"T_c862e_row1_col2\" class=\"data row1 col2\" >250,573</td>\n",
       "                        <td id=\"T_c862e_row1_col3\" class=\"data row1 col3\" >32.5%</td>\n",
       "            </tr>\n",
       "            <tr>\n",
       "                        <th id=\"T_c862e_level0_row2\" class=\"row_heading level0 row2\" >4 posts</th>\n",
       "                        <td id=\"T_c862e_row2_col0\" class=\"data row2 col0\" >33,084</td>\n",
       "                        <td id=\"T_c862e_row2_col1\" class=\"data row2 col1\" >4.3%</td>\n",
       "                        <td id=\"T_c862e_row2_col2\" class=\"data row2 col2\" >283,657</td>\n",
       "                        <td id=\"T_c862e_row2_col3\" class=\"data row2 col3\" >36.8%</td>\n",
       "            </tr>\n",
       "            <tr>\n",
       "                        <th id=\"T_c862e_level0_row3\" class=\"row_heading level0 row3\" >3 posts</th>\n",
       "                        <td id=\"T_c862e_row3_col0\" class=\"data row3 col0\" >56,898</td>\n",
       "                        <td id=\"T_c862e_row3_col1\" class=\"data row3 col1\" >7.4%</td>\n",
       "                        <td id=\"T_c862e_row3_col2\" class=\"data row3 col2\" >340,555</td>\n",
       "                        <td id=\"T_c862e_row3_col3\" class=\"data row3 col3\" >44.1%</td>\n",
       "            </tr>\n",
       "            <tr>\n",
       "                        <th id=\"T_c862e_level0_row4\" class=\"row_heading level0 row4\" >2 posts</th>\n",
       "                        <td id=\"T_c862e_row4_col0\" class=\"data row4 col0\" >125,070</td>\n",
       "                        <td id=\"T_c862e_row4_col1\" class=\"data row4 col1\" >16.2%</td>\n",
       "                        <td id=\"T_c862e_row4_col2\" class=\"data row4 col2\" >465,625</td>\n",
       "                        <td id=\"T_c862e_row4_col3\" class=\"data row4 col3\" >60.3%</td>\n",
       "            </tr>\n",
       "            <tr>\n",
       "                        <th id=\"T_c862e_level0_row5\" class=\"row_heading level0 row5\" >1 post</th>\n",
       "                        <td id=\"T_c862e_row5_col0\" class=\"data row5 col0\" >240,338</td>\n",
       "                        <td id=\"T_c862e_row5_col1\" class=\"data row5 col1\" >31.1%</td>\n",
       "                        <td id=\"T_c862e_row5_col2\" class=\"data row5 col2\" >705,963</td>\n",
       "                        <td id=\"T_c862e_row5_col3\" class=\"data row5 col3\" >91.5%</td>\n",
       "            </tr>\n",
       "            <tr>\n",
       "                        <th id=\"T_c862e_level0_row6\" class=\"row_heading level0 row6\" >0 posts</th>\n",
       "                        <td id=\"T_c862e_row6_col0\" class=\"data row6 col0\" >65,797</td>\n",
       "                        <td id=\"T_c862e_row6_col1\" class=\"data row6 col1\" >8.5%</td>\n",
       "                        <td id=\"T_c862e_row6_col2\" class=\"data row6 col2\" >771,760</td>\n",
       "                        <td id=\"T_c862e_row6_col3\" class=\"data row6 col3\" >100.0%</td>\n",
       "            </tr>\n",
       "    </tbody></table>"
      ],
      "text/plain": [
       "<pandas.io.formats.style.Styler at 0x7f8b8d2eb990>"
      ]
     },
     "execution_count": 13,
     "metadata": {},
     "output_type": "execute_result"
    }
   ],
   "source": [
    "value_counts_and_pcts(\n",
    "    pd.cut(\n",
    "        df_agg_sub_c['posts_for_embeddings_count'],\n",
    "        bins=[-1, 0, 1, 2, 3, 4, 5, np.inf],\n",
    "        labels=[\"0 posts\", \"1 post\", '2 posts', '3 posts', '4 posts', '5 posts', '6+ posts']\n",
    "    ),\n",
    "    sort_index=True,\n",
    "    sort_index_ascending=False,\n",
    "    cumsum_count=True,\n",
    ")"
   ]
  },
  {
   "cell_type": "markdown",
   "id": "71b843d8",
   "metadata": {},
   "source": [
    "# 2nd config for embeddings\n",
    "\n",
    "This one adds extra weight to the subreddit description for subreddits that have fewer than 3 posts.\n",
    "\n",
    "\n"
   ]
  },
  {
   "cell_type": "code",
   "execution_count": 27,
   "id": "6aaccadf",
   "metadata": {},
   "outputs": [
    {
     "name": "stderr",
     "output_type": "stream",
     "text": [
      "03:51:40 | INFO | \"Local folder to download artifact(s):\n",
      "  /home/jupyter/subreddit_clustering_i18n/data/local_cache/mlflow/mlruns/35/badc44b0e5ac467da14f710da0b410c6/artifacts/df_subs_agg_c1\"\n",
      "100%|###########################################| 13/13 [00:18<00:00,  1.46s/it]\n",
      "03:51:59 | INFO | \"  Parquet files found:     4\"\n",
      "03:51:59 | INFO | \"  Parquet files to use:     4\"\n"
     ]
    },
    {
     "name": "stdout",
     "output_type": "stream",
     "text": [
      "(771760, 515)\n",
      "CPU times: user 20 s, sys: 7.46 s, total: 27.5 s\n",
      "Wall time: 26.9 s\n"
     ]
    }
   ],
   "source": [
    "%%time\n",
    "\n",
    "df_agg_sub_c2 = mlf.read_run_artifact(\n",
    "    run_id=cfg_reshape_embeddings_wt.config_dict['mlflow_run_id'],\n",
    "    artifact_folder=cfg_reshape_embeddings_wt.config_dict['embeddings_artifact_path'],\n",
    "    read_function='pd_parquet',\n",
    "    verbose=False,\n",
    ")\n",
    "print(df_agg_sub_c2.shape)"
   ]
  },
  {
   "cell_type": "markdown",
   "id": "15553fd7",
   "metadata": {},
   "source": [
    "## Check distribution of posts for embeddings\n",
    "We'd expect ~340k subs with 3+ posts"
   ]
  },
  {
   "cell_type": "code",
   "execution_count": 28,
   "id": "663cac9b",
   "metadata": {},
   "outputs": [
    {
     "data": {
      "text/plain": [
       "count    771760.000000\n",
       "mean         67.257111\n",
       "std         479.863049\n",
       "min           0.000000\n",
       "25%           1.000000\n",
       "50%           2.000000\n",
       "75%           8.000000\n",
       "max        8400.000000\n",
       "Name: posts_for_embeddings_count, dtype: float64"
      ]
     },
     "execution_count": 28,
     "metadata": {},
     "output_type": "execute_result"
    }
   ],
   "source": [
    "df_agg_sub_c2['posts_for_embeddings_count'].describe()"
   ]
  },
  {
   "cell_type": "code",
   "execution_count": 30,
   "id": "79e48250",
   "metadata": {},
   "outputs": [
    {
     "data": {
      "text/html": [
       "<style  type=\"text/css\" >\n",
       "#T_28a73_row0_col1{\n",
       "            width:  10em;\n",
       "             height:  80%;\n",
       "            background:  linear-gradient(90deg,#95cff5 94.0%, transparent 94.0%);\n",
       "        }#T_28a73_row0_col3,#T_28a73_row1_col1{\n",
       "            width:  10em;\n",
       "             height:  80%;\n",
       "        }#T_28a73_row1_col3{\n",
       "            width:  10em;\n",
       "             height:  80%;\n",
       "            background:  linear-gradient(90deg,#95cff5 4.3%, transparent 4.3%);\n",
       "        }#T_28a73_row2_col1{\n",
       "            width:  10em;\n",
       "             height:  80%;\n",
       "            background:  linear-gradient(90deg,#95cff5 4.5%, transparent 4.5%);\n",
       "        }#T_28a73_row2_col3{\n",
       "            width:  10em;\n",
       "             height:  80%;\n",
       "            background:  linear-gradient(90deg,#95cff5 10.3%, transparent 10.3%);\n",
       "        }#T_28a73_row3_col1{\n",
       "            width:  10em;\n",
       "             height:  80%;\n",
       "            background:  linear-gradient(90deg,#95cff5 15.5%, transparent 15.5%);\n",
       "        }#T_28a73_row3_col3{\n",
       "            width:  10em;\n",
       "             height:  80%;\n",
       "            background:  linear-gradient(90deg,#95cff5 20.8%, transparent 20.8%);\n",
       "        }#T_28a73_row4_col1{\n",
       "            width:  10em;\n",
       "             height:  80%;\n",
       "            background:  linear-gradient(90deg,#95cff5 46.9%, transparent 46.9%);\n",
       "        }#T_28a73_row4_col3{\n",
       "            width:  10em;\n",
       "             height:  80%;\n",
       "            background:  linear-gradient(90deg,#95cff5 43.8%, transparent 43.8%);\n",
       "        }#T_28a73_row5_col1,#T_28a73_row6_col3{\n",
       "            width:  10em;\n",
       "             height:  80%;\n",
       "            background:  linear-gradient(90deg,#95cff5 100.0%, transparent 100.0%);\n",
       "        }#T_28a73_row5_col3{\n",
       "            width:  10em;\n",
       "             height:  80%;\n",
       "            background:  linear-gradient(90deg,#95cff5 87.9%, transparent 87.9%);\n",
       "        }#T_28a73_row6_col1{\n",
       "            width:  10em;\n",
       "             height:  80%;\n",
       "            background:  linear-gradient(90deg,#95cff5 19.6%, transparent 19.6%);\n",
       "        }</style><table id=\"T_28a73_\" ><thead>    <tr>        <th class=\"blank level0\" ></th>        <th class=\"col_heading level0 col0\" >posts_for_embeddings_count-count</th>        <th class=\"col_heading level0 col1\" >posts_for_embeddings_count-percent</th>        <th class=\"col_heading level0 col2\" >posts_for_embeddings_count-cumulative_sum</th>        <th class=\"col_heading level0 col3\" >posts_for_embeddings_count-pct_cumulative_sum</th>    </tr></thead><tbody>\n",
       "                <tr>\n",
       "                        <th id=\"T_28a73_level0_row0\" class=\"row_heading level0 row0\" >6+ posts</th>\n",
       "                        <td id=\"T_28a73_row0_col0\" class=\"data row0 col0\" >227,368</td>\n",
       "                        <td id=\"T_28a73_row0_col1\" class=\"data row0 col1\" >29.5%</td>\n",
       "                        <td id=\"T_28a73_row0_col2\" class=\"data row0 col2\" >227,368</td>\n",
       "                        <td id=\"T_28a73_row0_col3\" class=\"data row0 col3\" >29.5%</td>\n",
       "            </tr>\n",
       "            <tr>\n",
       "                        <th id=\"T_28a73_level0_row1\" class=\"row_heading level0 row1\" >5 posts</th>\n",
       "                        <td id=\"T_28a73_row1_col0\" class=\"data row1 col0\" >23,205</td>\n",
       "                        <td id=\"T_28a73_row1_col1\" class=\"data row1 col1\" >3.0%</td>\n",
       "                        <td id=\"T_28a73_row1_col2\" class=\"data row1 col2\" >250,573</td>\n",
       "                        <td id=\"T_28a73_row1_col3\" class=\"data row1 col3\" >32.5%</td>\n",
       "            </tr>\n",
       "            <tr>\n",
       "                        <th id=\"T_28a73_level0_row2\" class=\"row_heading level0 row2\" >4 posts</th>\n",
       "                        <td id=\"T_28a73_row2_col0\" class=\"data row2 col0\" >33,084</td>\n",
       "                        <td id=\"T_28a73_row2_col1\" class=\"data row2 col1\" >4.3%</td>\n",
       "                        <td id=\"T_28a73_row2_col2\" class=\"data row2 col2\" >283,657</td>\n",
       "                        <td id=\"T_28a73_row2_col3\" class=\"data row2 col3\" >36.8%</td>\n",
       "            </tr>\n",
       "            <tr>\n",
       "                        <th id=\"T_28a73_level0_row3\" class=\"row_heading level0 row3\" >3 posts</th>\n",
       "                        <td id=\"T_28a73_row3_col0\" class=\"data row3 col0\" >56,898</td>\n",
       "                        <td id=\"T_28a73_row3_col1\" class=\"data row3 col1\" >7.4%</td>\n",
       "                        <td id=\"T_28a73_row3_col2\" class=\"data row3 col2\" >340,555</td>\n",
       "                        <td id=\"T_28a73_row3_col3\" class=\"data row3 col3\" >44.1%</td>\n",
       "            </tr>\n",
       "            <tr>\n",
       "                        <th id=\"T_28a73_level0_row4\" class=\"row_heading level0 row4\" >2 posts</th>\n",
       "                        <td id=\"T_28a73_row4_col0\" class=\"data row4 col0\" >125,070</td>\n",
       "                        <td id=\"T_28a73_row4_col1\" class=\"data row4 col1\" >16.2%</td>\n",
       "                        <td id=\"T_28a73_row4_col2\" class=\"data row4 col2\" >465,625</td>\n",
       "                        <td id=\"T_28a73_row4_col3\" class=\"data row4 col3\" >60.3%</td>\n",
       "            </tr>\n",
       "            <tr>\n",
       "                        <th id=\"T_28a73_level0_row5\" class=\"row_heading level0 row5\" >1 post</th>\n",
       "                        <td id=\"T_28a73_row5_col0\" class=\"data row5 col0\" >240,338</td>\n",
       "                        <td id=\"T_28a73_row5_col1\" class=\"data row5 col1\" >31.1%</td>\n",
       "                        <td id=\"T_28a73_row5_col2\" class=\"data row5 col2\" >705,963</td>\n",
       "                        <td id=\"T_28a73_row5_col3\" class=\"data row5 col3\" >91.5%</td>\n",
       "            </tr>\n",
       "            <tr>\n",
       "                        <th id=\"T_28a73_level0_row6\" class=\"row_heading level0 row6\" >0 posts</th>\n",
       "                        <td id=\"T_28a73_row6_col0\" class=\"data row6 col0\" >65,797</td>\n",
       "                        <td id=\"T_28a73_row6_col1\" class=\"data row6 col1\" >8.5%</td>\n",
       "                        <td id=\"T_28a73_row6_col2\" class=\"data row6 col2\" >771,760</td>\n",
       "                        <td id=\"T_28a73_row6_col3\" class=\"data row6 col3\" >100.0%</td>\n",
       "            </tr>\n",
       "    </tbody></table>"
      ],
      "text/plain": [
       "<pandas.io.formats.style.Styler at 0x7f8b8df10050>"
      ]
     },
     "execution_count": 30,
     "metadata": {},
     "output_type": "execute_result"
    }
   ],
   "source": [
    "value_counts_and_pcts(\n",
    "    pd.cut(\n",
    "        df_agg_sub_c2['posts_for_embeddings_count'],\n",
    "        bins=[-1, 0, 1, 2, 3, 4, 5, np.inf],\n",
    "        labels=[\"0 posts\", \"1 post\", '2 posts', '3 posts', '4 posts', '5 posts', '6+ posts']\n",
    "    ),\n",
    "    sort_index=True,\n",
    "    sort_index_ascending=False,\n",
    "    cumsum_count=True,\n",
    ")"
   ]
  },
  {
   "cell_type": "code",
   "execution_count": null,
   "id": "80ce7a76",
   "metadata": {},
   "outputs": [],
   "source": []
  }
 ],
 "metadata": {
  "environment": {
   "name": "common-cpu.m65",
   "type": "gcloud",
   "uri": "gcr.io/deeplearning-platform-release/base-cpu:m65"
  },
  "kernelspec": {
   "display_name": "Python [conda env:root] *",
   "language": "python",
   "name": "conda-root-py"
  },
  "language_info": {
   "codemirror_mode": {
    "name": "ipython",
    "version": 3
   },
   "file_extension": ".py",
   "mimetype": "text/x-python",
   "name": "python",
   "nbconvert_exporter": "python",
   "pygments_lexer": "ipython3",
   "version": "3.7.10"
  }
 },
 "nbformat": 4,
 "nbformat_minor": 5
}
