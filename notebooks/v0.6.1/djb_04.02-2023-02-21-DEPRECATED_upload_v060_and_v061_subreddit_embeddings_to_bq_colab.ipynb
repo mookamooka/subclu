{
  "cells": [
    {
      "cell_type": "markdown",
      "metadata": {
        "id": "iVZuLSOgZVC8"
      },
      "source": [
        "# Purpose\n",
        "\n",
        "### 2023-02-21\n",
        "Use this notebook to take subreddit-embeddings that have already been reshaped and upload them to BQ to use as tables.\n",
        "\n",
        "---\n",
        "### Colab & Installing new libraries\n",
        "\n",
        "**As of 2023-02:** Steps to run the notebook:\n",
        "- Click on `Runtime` > `Run All`: \n",
        "    - To install required libraries\n",
        "- Click on `Runtime` > `Restart and Run All`\n",
        "    - To be able to actually use the new libraries\n",
        "\n",
        "Unfortunately, Colab can't use the new libraries after running `pip install -e <...>`, so you need to `restart and run all` before being able to use the newly installed libraries **sigh**. Stackoverflow sources:\n",
        "- [How to 'restart runtime' using python code or command line interface?](https://stackoverflow.com/questions/53154369/google-colab-how-to-restart-runtime-using-python-code-or-command-line-interf)\n",
        "- [How to stop Google Colab runtime without it automatically restarting](https://stackoverflow.com/questions/68640984/how-to-stop-google-colab-runtime-without-it-automatically-restarting)"
      ]
    },
    {
      "cell_type": "markdown",
      "metadata": {
        "id": "c2qXnQ5IV9Z7"
      },
      "source": [
        "# Imports & notebook setup"
      ]
    },
    {
      "cell_type": "code",
      "execution_count": 1,
      "metadata": {
        "id": "FmbBk_1pnZtq"
      },
      "outputs": [],
      "source": [
        "%load_ext autoreload\n",
        "%autoreload 2\n",
        "\n",
        "# Register bigquery magic (only needed for laptop/local, not colab)\n",
        "# %load_ext google.cloud.bigquery"
      ]
    },
    {
      "cell_type": "code",
      "execution_count": 2,
      "metadata": {
        "colab": {
          "base_uri": "https://localhost:8080/"
        },
        "id": "SrO13wbPgWFV",
        "outputId": "713e77ad-bed7-4d56-fc3d-bc8efc71a0bb"
      },
      "outputs": [
        {
          "output_type": "stream",
          "name": "stdout",
          "text": [
            "Authenticated\n"
          ]
        }
      ],
      "source": [
        "# colab auth for BigQuery, google drive, & google sheets (gspread)\n",
        "from google.colab import auth, files, drive\n",
        "from google.auth import default\n",
        "import sys  # need sys to mount gdrive path\n",
        "\n",
        "auth.authenticate_user()\n",
        "print('Authenticated')"
      ]
    },
    {
      "cell_type": "markdown",
      "metadata": {
        "id": "wmEXbiGagokZ"
      },
      "source": [
        "## Install custom library\n",
        "\n",
        "This has some custom utils that make plotting displaying data nicer/easier"
      ]
    },
    {
      "cell_type": "markdown",
      "metadata": {
        "id": "a2Y4JbSWawcg"
      },
      "source": [
        "### Append google drive path so we can install library from there"
      ]
    },
    {
      "cell_type": "code",
      "execution_count": 3,
      "metadata": {
        "colab": {
          "base_uri": "https://localhost:8080/"
        },
        "id": "rRg2ZhSag0Tl",
        "outputId": "4b1f6bdf-6fc5-4c65-9719-972448ead2ea"
      },
      "outputs": [
        {
          "output_type": "stream",
          "name": "stdout",
          "text": [
            "Mounted at /content/drive\n",
            "   Authenticated & mounted Google Drive\n",
            " Appending path: /content/drive/MyDrive/Colab Notebooks\n",
            " Appending path: /content/drive/MyDrive/Colab Notebooks/subreddit_clustering_i18n\n"
          ]
        }
      ],
      "source": [
        "# Attach google drive & import my python utility functions\n",
        "# if drive.mount() fails, you can also:\n",
        "#   MANUALLY CLICK ON \"Mount Drive\"\n",
        "import sys\n",
        "\n",
        "\n",
        "g_drive_root = '/content/drive'\n",
        "\n",
        "try:\n",
        "    drive.mount(g_drive_root, force_remount=True)\n",
        "    print('   Authenticated & mounted Google Drive')\n",
        "    \n",
        "except Exception as e:\n",
        "    try:\n",
        "        drive._mount(g_drive_root, force_remount=True)\n",
        "        print('   Authenticated & mounted Google Drive')\n",
        "    except Exception as e:\n",
        "        print(e)\n",
        "        raise Exception('You might need to manually mount google drive to colab')\n",
        "\n",
        "l_paths_to_append = [\n",
        "    f'{g_drive_root}/MyDrive/Colab Notebooks',\n",
        "\n",
        "    # need to append the path to subclu so that colab can import things properly\n",
        "    f'{g_drive_root}/MyDrive/Colab Notebooks/subreddit_clustering_i18n'\n",
        "]\n",
        "for path_ in l_paths_to_append:\n",
        "    if path_ in sys.path:\n",
        "        sys.path.remove(path_)\n",
        "    print(f\" Appending path: {path_}\")\n",
        "    sys.path.append(path_)"
      ]
    },
    {
      "cell_type": "markdown",
      "metadata": {
        "id": "Dbe6b4s1a2Eg"
      },
      "source": [
        "### Install library"
      ]
    },
    {
      "cell_type": "code",
      "execution_count": 4,
      "metadata": {
        "id": "7fvxItkqhdPJ",
        "colab": {
          "base_uri": "https://localhost:8080/"
        },
        "outputId": "cf5597ae-6264-423a-c43c-8ec2a8057304"
      },
      "outputs": [
        {
          "output_type": "stream",
          "name": "stdout",
          "text": [
            "  Preparing metadata (setup.py) ... \u001b[?25l\u001b[?25hdone\n"
          ]
        }
      ],
      "source": [
        "# install subclu & libraries needed to read parquet files from GCS & spreadsheets\n",
        "#  make sure to use the [colab] `extra` because it includes colab-specific libraries\n",
        "module_path = f\"{g_drive_root}/MyDrive/Colab Notebooks/subreddit_clustering_i18n/[colab]\"\n",
        "\n",
        "!pip install -e $\"$module_path\" --quiet"
      ]
    },
    {
      "cell_type": "markdown",
      "metadata": {
        "id": "5Z4XllVxgiXa"
      },
      "source": [
        "## Imports"
      ]
    },
    {
      "cell_type": "code",
      "execution_count": 5,
      "metadata": {
        "id": "9TpWbXh5mzew",
        "colab": {
          "base_uri": "https://localhost:8080/"
        },
        "outputId": "3c13b6e8-3bb8-41f2-8383-a716385ef1da"
      },
      "outputs": [
        {
          "output_type": "stream",
          "name": "stdout",
          "text": [
            "python\t\tv 3.8.10\n",
            "===\n",
            "hydra\t\tv: 1.1.0\n",
            "mlflow\t\tv: 1.16.0\n",
            "numpy\t\tv: 1.21.6\n",
            "pandas\t\tv: 1.3.5\n",
            "subclu\t\tv: 0.6.1\n"
          ]
        }
      ],
      "source": [
        "from datetime import datetime, timedelta\n",
        "import os\n",
        "import logging\n",
        "from logging import info\n",
        "from pathlib import Path\n",
        "from pprint import pprint\n",
        "\n",
        "import numpy as np\n",
        "import pandas as pd\n",
        "from tqdm.auto import tqdm\n",
        "\n",
        "import mlflow\n",
        "import hydra\n",
        "\n",
        "import subclu\n",
        "from subclu.utils.hydra_config_loader import LoadHydraConfig\n",
        "from subclu.utils import set_working_directory, get_project_subfolder\n",
        "from subclu.utils.eda import (\n",
        "    setup_logging, counts_describe, value_counts_and_pcts,\n",
        "    notebook_display_config, print_lib_versions,\n",
        "    style_df_numeric,\n",
        ")\n",
        "\n",
        "from subclu.utils.mlflow_logger import MlflowLogger\n",
        "from subclu.models.bq_embedding_schemas import embeddings_schema\n",
        "from subclu.models.reshape_embeddings_for_bq import reshape_embeddings_to_ndjson, reshape_embeddings_and_upload_to_bq\n",
        "from subclu.utils.big_query_utils import load_data_to_bq_table\n",
        "\n",
        "print_lib_versions([hydra, mlflow, np, pd, subclu])"
      ]
    },
    {
      "cell_type": "code",
      "source": [
        "# plotting\n",
        "import matplotlib.pyplot as plt\n",
        "import matplotlib.ticker as mtick\n",
        "import matplotlib.dates as mdates\n",
        "plt.style.use('default')\n",
        "\n",
        "setup_logging()\n",
        "notebook_display_config()"
      ],
      "metadata": {
        "id": "rk6GGlGe0Z2J"
      },
      "execution_count": 6,
      "outputs": []
    },
    {
      "cell_type": "markdown",
      "metadata": {
        "id": "S1idpDdg_ABj"
      },
      "source": [
        "# Load config to Reshape & Load Subreddit Embeddings\n",
        "\n",
        "The embedding aggregation should've been logged to `mlflow` so we should be able to\n",
        "- make calls to mlflow to get the embeddings\n",
        "- add the new embeddings format to the original job\n",
        "\n",
        "---\n",
        "\n",
        "We have 2 strategies for getting subreddit embeddings. For now we'll only make available the `extra weight to subreddit meta` because that performed slightly better in previous taxonomy/rating models.\n",
        "\n",
        "\n"
      ]
    },
    {
      "cell_type": "code",
      "source": [
        "cfg_reshape_embeddings_wt = LoadHydraConfig(\n",
        "    config_name='reshape_embeddings_for_bq-subreddit-v0.6.0_desc_extra_weight.yaml',\n",
        "    config_path=\"../config\",\n",
        ")"
      ],
      "metadata": {
        "id": "PdzQePsM0eMf"
      },
      "execution_count": 7,
      "outputs": []
    },
    {
      "cell_type": "code",
      "source": [
        "cfg_reshape_embeddings_061_wt = LoadHydraConfig(\n",
        "    config_name='reshape_embeddings_for_bq-subreddit-v0.6.1_desc_extra_weight.yaml',\n",
        "    config_path=\"../config\",\n",
        ")"
      ],
      "metadata": {
        "id": "Lnae5mIrR3dj"
      },
      "execution_count": 8,
      "outputs": []
    },
    {
      "cell_type": "code",
      "source": [
        "for k_, v_ in cfg_reshape_embeddings_wt.config_dict.items():\n",
        "    if isinstance(v_, dict):\n",
        "        print(f\"{k_}:\")\n",
        "        for k2_, v2_ in v_.items():\n",
        "            pass\n",
        "            # print(f\"    {k2_}: {v2_}\")\n",
        "    else:\n",
        "        print(f\"{k_}: {v_}\")"
      ],
      "metadata": {
        "colab": {
          "base_uri": "https://localhost:8080/"
        },
        "id": "lnrTr4IR04fy",
        "outputId": "1d141011-9424-4ea9-8997-8cc7bc1f0d73"
      },
      "execution_count": 9,
      "outputs": [
        {
          "output_type": "stream",
          "name": "stdout",
          "text": [
            "data_text_and_metadata:\n",
            "data_embeddings_to_aggregate:\n",
            "aggregate_params:\n",
            "description: Use this config to reshape embeddings and upload them to BigQuery\n",
            "bucket_output: i18n-subreddit-clustering\n",
            "mlflow_tracking_uri: sqlite\n",
            "mlflow_run_id: badc44b0e5ac467da14f710da0b410c6\n",
            "embeddings_artifact_path: df_subs_agg_c1\n",
            "bq_project: reddit-employee-datasets\n",
            "bq_dataset: david_bermejo\n",
            "bq_table: cau_subreddit_embeddings\n",
            "bq_table_description: Subreddit-level embeddings. See the wiki for more details. https://reddit.atlassian.net/wiki/spaces/DataScience/pages/2404220935/\n",
            "update_table_description: False,\n",
            "pt: 2022-08-10\n",
            "model_version: v0.6.0\n",
            "model_name: cau-text-mUSE extra weight for subreddit description\n",
            "embeddings_config: aggregate_embeddings_v0.6.0\n"
          ]
        }
      ]
    },
    {
      "cell_type": "code",
      "source": [
        "for k_, v_ in cfg_reshape_embeddings_061_wt.config_dict.items():\n",
        "    if isinstance(v_, dict):\n",
        "        print(f\"{k_}:\")\n",
        "        for k2_, v2_ in v_.items():\n",
        "            pass\n",
        "            # print(f\"    {k2_}: {v2_}\")\n",
        "    else:\n",
        "        print(f\"{k_}: {v_}\")"
      ],
      "metadata": {
        "colab": {
          "base_uri": "https://localhost:8080/"
        },
        "id": "f3uqS-deR8RP",
        "outputId": "2c7aff69-d966-402a-f3d6-5ef639029586"
      },
      "execution_count": 10,
      "outputs": [
        {
          "output_type": "stream",
          "name": "stdout",
          "text": [
            "data_text_and_metadata:\n",
            "data_embeddings_to_aggregate:\n",
            "aggregate_params:\n",
            "description: Use this config to reshape embeddings and upload them to BigQuery\n",
            "bucket_output: i18n-subreddit-clustering\n",
            "mlflow_tracking_uri: sqlite\n",
            "mlflow_run_id: 91ac7ca171024c779c0992f59470c81b\n",
            "embeddings_artifact_path: df_subs_agg_c1\n",
            "bq_project: reddit-employee-datasets\n",
            "bq_dataset: david_bermejo\n",
            "bq_table: cau_subreddit_embeddings\n",
            "bq_table_description: Subreddit-level embeddings. See the wiki for more details. https://reddit.atlassian.net/wiki/spaces/DataScience/pages/2404220935/\n",
            "update_table_description: True,\n",
            "pt: 2022-11-08\n",
            "model_version: v0.6.1\n",
            "model_name: cau-text-mUSE extra weight for subreddit description\n",
            "embeddings_config: aggregate_embeddings_v0.6.1\n"
          ]
        }
      ]
    },
    {
      "cell_type": "markdown",
      "source": [
        "# Start MLflow & Get Artifact Paths\n",
        "\n",
        "This mlflow server will help us get the artifacts & subreddit-embeddings for the `mlflow-uuid` flagged in the configurations below."
      ],
      "metadata": {
        "id": "g07QfFnpoVh6"
      }
    },
    {
      "cell_type": "code",
      "source": [
        "# usual path fails. Instead use custom colab location\n",
        "# mlf = MlflowLogger(tracking_uri=cfg_reshape_embeddings_wt.config_dict['mlflow_tracking_uri'])\n",
        "path_mlruns_colab_ = f\"{g_drive_root}/MyDrive/Colab Notebooks/subreddit_clustering_i18n/mlflow_sync/colab\"\n",
        "\n",
        "mlf = MlflowLogger(\n",
        "    tracking_uri=f\"sqlite:///{path_mlruns_colab_}/mlruns.db\",\n",
        ")"
      ],
      "metadata": {
        "id": "_a9c1kVi1BFP"
      },
      "execution_count": 11,
      "outputs": []
    },
    {
      "cell_type": "code",
      "source": [
        "mlf.list_experiment_meta(output_format='pandas').tail(9)"
      ],
      "metadata": {
        "colab": {
          "base_uri": "https://localhost:8080/",
          "height": 331
        },
        "id": "wwunNMsK1BC3",
        "outputId": "7681f5d6-854b-43a5-8df4-c488062f9214"
      },
      "execution_count": 12,
      "outputs": [
        {
          "output_type": "execute_result",
          "data": {
            "text/plain": [
              "   experiment_id                         name                                artifact_location lifecycle_stage\n",
              "35            35       v0.6.0_mUSE_aggregates  gs://i18n-subreddit-clustering/mlflow/mlruns/35          active\n",
              "36            36  v0.6.0_mUSE_clustering_test  gs://i18n-subreddit-clustering/mlflow/mlruns/36          active\n",
              "37            37       v0.6.0_mUSE_clustering  gs://i18n-subreddit-clustering/mlflow/mlruns/37          active\n",
              "38            38     v0.6.0_nearest_neighbors  gs://i18n-subreddit-clustering/mlflow/mlruns/38          active\n",
              "39            39  v0.6.1_mUSE_aggregates_test  gs://i18n-subreddit-clustering/mlflow/mlruns/39          active\n",
              "40            40       v0.6.1_mUSE_aggregates  gs://i18n-subreddit-clustering/mlflow/mlruns/40          active\n",
              "41            41  v0.6.1_mUSE_clustering_test  gs://i18n-subreddit-clustering/mlflow/mlruns/41          active\n",
              "42            42       v0.6.1_mUSE_clustering  gs://i18n-subreddit-clustering/mlflow/mlruns/42          active\n",
              "43            43     v0.6.1_nearest_neighbors  gs://i18n-subreddit-clustering/mlflow/mlruns/43          active"
            ],
            "text/html": [
              "\n",
              "  <div id=\"df-c8051c1e-c963-4aa0-909b-5f55aacf59a5\">\n",
              "    <div class=\"colab-df-container\">\n",
              "      <div>\n",
              "<style scoped>\n",
              "    .dataframe tbody tr th:only-of-type {\n",
              "        vertical-align: middle;\n",
              "    }\n",
              "\n",
              "    .dataframe tbody tr th {\n",
              "        vertical-align: top;\n",
              "    }\n",
              "\n",
              "    .dataframe thead th {\n",
              "        text-align: right;\n",
              "    }\n",
              "</style>\n",
              "<table border=\"1\" class=\"dataframe\">\n",
              "  <thead>\n",
              "    <tr style=\"text-align: right;\">\n",
              "      <th></th>\n",
              "      <th>experiment_id</th>\n",
              "      <th>name</th>\n",
              "      <th>artifact_location</th>\n",
              "      <th>lifecycle_stage</th>\n",
              "    </tr>\n",
              "  </thead>\n",
              "  <tbody>\n",
              "    <tr>\n",
              "      <th>35</th>\n",
              "      <td>35</td>\n",
              "      <td>v0.6.0_mUSE_aggregates</td>\n",
              "      <td>gs://i18n-subreddit-clustering/mlflow/mlruns/35</td>\n",
              "      <td>active</td>\n",
              "    </tr>\n",
              "    <tr>\n",
              "      <th>36</th>\n",
              "      <td>36</td>\n",
              "      <td>v0.6.0_mUSE_clustering_test</td>\n",
              "      <td>gs://i18n-subreddit-clustering/mlflow/mlruns/36</td>\n",
              "      <td>active</td>\n",
              "    </tr>\n",
              "    <tr>\n",
              "      <th>37</th>\n",
              "      <td>37</td>\n",
              "      <td>v0.6.0_mUSE_clustering</td>\n",
              "      <td>gs://i18n-subreddit-clustering/mlflow/mlruns/37</td>\n",
              "      <td>active</td>\n",
              "    </tr>\n",
              "    <tr>\n",
              "      <th>38</th>\n",
              "      <td>38</td>\n",
              "      <td>v0.6.0_nearest_neighbors</td>\n",
              "      <td>gs://i18n-subreddit-clustering/mlflow/mlruns/38</td>\n",
              "      <td>active</td>\n",
              "    </tr>\n",
              "    <tr>\n",
              "      <th>39</th>\n",
              "      <td>39</td>\n",
              "      <td>v0.6.1_mUSE_aggregates_test</td>\n",
              "      <td>gs://i18n-subreddit-clustering/mlflow/mlruns/39</td>\n",
              "      <td>active</td>\n",
              "    </tr>\n",
              "    <tr>\n",
              "      <th>40</th>\n",
              "      <td>40</td>\n",
              "      <td>v0.6.1_mUSE_aggregates</td>\n",
              "      <td>gs://i18n-subreddit-clustering/mlflow/mlruns/40</td>\n",
              "      <td>active</td>\n",
              "    </tr>\n",
              "    <tr>\n",
              "      <th>41</th>\n",
              "      <td>41</td>\n",
              "      <td>v0.6.1_mUSE_clustering_test</td>\n",
              "      <td>gs://i18n-subreddit-clustering/mlflow/mlruns/41</td>\n",
              "      <td>active</td>\n",
              "    </tr>\n",
              "    <tr>\n",
              "      <th>42</th>\n",
              "      <td>42</td>\n",
              "      <td>v0.6.1_mUSE_clustering</td>\n",
              "      <td>gs://i18n-subreddit-clustering/mlflow/mlruns/42</td>\n",
              "      <td>active</td>\n",
              "    </tr>\n",
              "    <tr>\n",
              "      <th>43</th>\n",
              "      <td>43</td>\n",
              "      <td>v0.6.1_nearest_neighbors</td>\n",
              "      <td>gs://i18n-subreddit-clustering/mlflow/mlruns/43</td>\n",
              "      <td>active</td>\n",
              "    </tr>\n",
              "  </tbody>\n",
              "</table>\n",
              "</div>\n",
              "      <button class=\"colab-df-convert\" onclick=\"convertToInteractive('df-c8051c1e-c963-4aa0-909b-5f55aacf59a5')\"\n",
              "              title=\"Convert this dataframe to an interactive table.\"\n",
              "              style=\"display:none;\">\n",
              "        \n",
              "  <svg xmlns=\"http://www.w3.org/2000/svg\" height=\"24px\"viewBox=\"0 0 24 24\"\n",
              "       width=\"24px\">\n",
              "    <path d=\"M0 0h24v24H0V0z\" fill=\"none\"/>\n",
              "    <path d=\"M18.56 5.44l.94 2.06.94-2.06 2.06-.94-2.06-.94-.94-2.06-.94 2.06-2.06.94zm-11 1L8.5 8.5l.94-2.06 2.06-.94-2.06-.94L8.5 2.5l-.94 2.06-2.06.94zm10 10l.94 2.06.94-2.06 2.06-.94-2.06-.94-.94-2.06-.94 2.06-2.06.94z\"/><path d=\"M17.41 7.96l-1.37-1.37c-.4-.4-.92-.59-1.43-.59-.52 0-1.04.2-1.43.59L10.3 9.45l-7.72 7.72c-.78.78-.78 2.05 0 2.83L4 21.41c.39.39.9.59 1.41.59.51 0 1.02-.2 1.41-.59l7.78-7.78 2.81-2.81c.8-.78.8-2.07 0-2.86zM5.41 20L4 18.59l7.72-7.72 1.47 1.35L5.41 20z\"/>\n",
              "  </svg>\n",
              "      </button>\n",
              "      \n",
              "  <style>\n",
              "    .colab-df-container {\n",
              "      display:flex;\n",
              "      flex-wrap:wrap;\n",
              "      gap: 12px;\n",
              "    }\n",
              "\n",
              "    .colab-df-convert {\n",
              "      background-color: #E8F0FE;\n",
              "      border: none;\n",
              "      border-radius: 50%;\n",
              "      cursor: pointer;\n",
              "      display: none;\n",
              "      fill: #1967D2;\n",
              "      height: 32px;\n",
              "      padding: 0 0 0 0;\n",
              "      width: 32px;\n",
              "    }\n",
              "\n",
              "    .colab-df-convert:hover {\n",
              "      background-color: #E2EBFA;\n",
              "      box-shadow: 0px 1px 2px rgba(60, 64, 67, 0.3), 0px 1px 3px 1px rgba(60, 64, 67, 0.15);\n",
              "      fill: #174EA6;\n",
              "    }\n",
              "\n",
              "    [theme=dark] .colab-df-convert {\n",
              "      background-color: #3B4455;\n",
              "      fill: #D2E3FC;\n",
              "    }\n",
              "\n",
              "    [theme=dark] .colab-df-convert:hover {\n",
              "      background-color: #434B5C;\n",
              "      box-shadow: 0px 1px 3px 1px rgba(0, 0, 0, 0.15);\n",
              "      filter: drop-shadow(0px 1px 2px rgba(0, 0, 0, 0.3));\n",
              "      fill: #FFFFFF;\n",
              "    }\n",
              "  </style>\n",
              "\n",
              "      <script>\n",
              "        const buttonEl =\n",
              "          document.querySelector('#df-c8051c1e-c963-4aa0-909b-5f55aacf59a5 button.colab-df-convert');\n",
              "        buttonEl.style.display =\n",
              "          google.colab.kernel.accessAllowed ? 'block' : 'none';\n",
              "\n",
              "        async function convertToInteractive(key) {\n",
              "          const element = document.querySelector('#df-c8051c1e-c963-4aa0-909b-5f55aacf59a5');\n",
              "          const dataTable =\n",
              "            await google.colab.kernel.invokeFunction('convertToInteractive',\n",
              "                                                     [key], {});\n",
              "          if (!dataTable) return;\n",
              "\n",
              "          const docLinkHtml = 'Like what you see? Visit the ' +\n",
              "            '<a target=\"_blank\" href=https://colab.research.google.com/notebooks/data_table.ipynb>data table notebook</a>'\n",
              "            + ' to learn more about interactive tables.';\n",
              "          element.innerHTML = '';\n",
              "          dataTable['output_type'] = 'display_data';\n",
              "          await google.colab.output.renderOutput(dataTable, element);\n",
              "          const docLink = document.createElement('div');\n",
              "          docLink.innerHTML = docLinkHtml;\n",
              "          element.appendChild(docLink);\n",
              "        }\n",
              "      </script>\n",
              "    </div>\n",
              "  </div>\n",
              "  "
            ]
          },
          "metadata": {},
          "execution_count": 12
        }
      ]
    },
    {
      "cell_type": "code",
      "source": [
        "%%time\n",
        "\n",
        "df_mlf = mlf.search_all_runs()\n",
        "print(df_mlf.shape)"
      ],
      "metadata": {
        "colab": {
          "base_uri": "https://localhost:8080/"
        },
        "id": "ndjPn35x1BAx",
        "outputId": "06a493fb-7ea2-46f0-a963-f283c0da591e"
      },
      "execution_count": 13,
      "outputs": [
        {
          "output_type": "stream",
          "name": "stdout",
          "text": [
            "(997, 732)\n",
            "CPU times: user 6.1 s, sys: 620 ms, total: 6.72 s\n",
            "Wall time: 22.8 s\n"
          ]
        }
      ]
    },
    {
      "cell_type": "code",
      "source": [
        "(\n",
        "    df_mlf[\n",
        "        df_mlf['run_id'].isin([cfg_reshape_embeddings_061_wt.config_dict['mlflow_run_id'], cfg_reshape_embeddings_wt.config_dict['mlflow_run_id']])\n",
        "    ]\n",
        "    .drop(columns=[c for c in df_mlf if any([c.startswith('metrics.memory_'), c.startswith('params.memory_')])])\n",
        "    .dropna(axis=1, how='all')\n",
        "    .iloc[:, :25]\n",
        "    # .T\n",
        ")"
      ],
      "metadata": {
        "colab": {
          "base_uri": "https://localhost:8080/",
          "height": 228
        },
        "id": "cJ2_FsOF683h",
        "outputId": "9ad9e9c8-a2f2-4d81-a489-4cbe955985f8"
      },
      "execution_count": 14,
      "outputs": [
        {
          "output_type": "execute_result",
          "data": {
            "text/plain": [
              "                              run_id experiment_id    status                                                                                artifact_uri                       start_time                         end_time  metrics.cpu_count  metrics.df_v_post_comments-cols  metrics.df_v_subs-cols  \\\n",
              "57  91ac7ca171024c779c0992f59470c81b            40  FINISHED  gs://i18n-subreddit-clustering/mlflow/mlruns/40/91ac7ca171024c779c0992f59470c81b/artifacts 2022-11-07 21:38:57.662000+00:00 2022-11-23 02:06:49.677000+00:00               96.0                            515.0                   514.0   \n",
              "59  badc44b0e5ac467da14f710da0b410c6            35  FINISHED  gs://i18n-subreddit-clustering/mlflow/mlruns/35/badc44b0e5ac467da14f710da0b410c6/artifacts 2022-08-16 08:41:53.006000+00:00 2022-09-10 00:54:17.303000+00:00               96.0                            515.0                   514.0   \n",
              "\n",
              "    metrics.time_fxn-data_loading_time  metrics.df_v_post_comments-rows  metrics.df_v_subs-rows  metrics.df_subs_agg_c1-cols  metrics.df_subs_agg_c1_uw-rows  metrics.time_fxn-df_subs_agg_c1  metrics.time_fxn-df_subs_agg_c1_uw  metrics.df_posts_agg_c1-cols  metrics.df_subs_agg_c1_uw-cols  \\\n",
              "57                            5.742884                       53597817.0                781653.0                        515.0                        781653.0                        14.350225                           14.350225                         515.0                           515.0   \n",
              "59                            3.698822                       51906348.0                771760.0                        515.0                        771760.0                        15.926672                           15.926672                         515.0                           515.0   \n",
              "\n",
              "    metrics.time_fxn-df_posts_agg_c1_no_delay  metrics.df_posts_agg_c1-rows  metrics.time_fxn-full_aggregation_fxn_minutes  metrics.df_subs_agg_c1-rows params.mlflow_tracking_uri params.cpu_count                        params.host_name  \n",
              "57                                 555.547501                    53597817.0                                     673.789062                     781653.0                     sqlite               96  djb-100-2021-04-28-djb-eda-german-subs  \n",
              "59                                 544.288655                    51906348.0                                     820.674805                     771760.0                     sqlite               96  djb-100-2021-04-28-djb-eda-german-subs  "
            ],
            "text/html": [
              "\n",
              "  <div id=\"df-5c0ea2fd-bd02-4e5d-a450-f8853dbe41a8\">\n",
              "    <div class=\"colab-df-container\">\n",
              "      <div>\n",
              "<style scoped>\n",
              "    .dataframe tbody tr th:only-of-type {\n",
              "        vertical-align: middle;\n",
              "    }\n",
              "\n",
              "    .dataframe tbody tr th {\n",
              "        vertical-align: top;\n",
              "    }\n",
              "\n",
              "    .dataframe thead th {\n",
              "        text-align: right;\n",
              "    }\n",
              "</style>\n",
              "<table border=\"1\" class=\"dataframe\">\n",
              "  <thead>\n",
              "    <tr style=\"text-align: right;\">\n",
              "      <th></th>\n",
              "      <th>run_id</th>\n",
              "      <th>experiment_id</th>\n",
              "      <th>status</th>\n",
              "      <th>artifact_uri</th>\n",
              "      <th>start_time</th>\n",
              "      <th>end_time</th>\n",
              "      <th>metrics.cpu_count</th>\n",
              "      <th>metrics.df_v_post_comments-cols</th>\n",
              "      <th>metrics.df_v_subs-cols</th>\n",
              "      <th>metrics.time_fxn-data_loading_time</th>\n",
              "      <th>metrics.df_v_post_comments-rows</th>\n",
              "      <th>metrics.df_v_subs-rows</th>\n",
              "      <th>metrics.df_subs_agg_c1-cols</th>\n",
              "      <th>metrics.df_subs_agg_c1_uw-rows</th>\n",
              "      <th>metrics.time_fxn-df_subs_agg_c1</th>\n",
              "      <th>metrics.time_fxn-df_subs_agg_c1_uw</th>\n",
              "      <th>metrics.df_posts_agg_c1-cols</th>\n",
              "      <th>metrics.df_subs_agg_c1_uw-cols</th>\n",
              "      <th>metrics.time_fxn-df_posts_agg_c1_no_delay</th>\n",
              "      <th>metrics.df_posts_agg_c1-rows</th>\n",
              "      <th>metrics.time_fxn-full_aggregation_fxn_minutes</th>\n",
              "      <th>metrics.df_subs_agg_c1-rows</th>\n",
              "      <th>params.mlflow_tracking_uri</th>\n",
              "      <th>params.cpu_count</th>\n",
              "      <th>params.host_name</th>\n",
              "    </tr>\n",
              "  </thead>\n",
              "  <tbody>\n",
              "    <tr>\n",
              "      <th>57</th>\n",
              "      <td>91ac7ca171024c779c0992f59470c81b</td>\n",
              "      <td>40</td>\n",
              "      <td>FINISHED</td>\n",
              "      <td>gs://i18n-subreddit-clustering/mlflow/mlruns/40/91ac7ca171024c779c0992f59470c81b/artifacts</td>\n",
              "      <td>2022-11-07 21:38:57.662000+00:00</td>\n",
              "      <td>2022-11-23 02:06:49.677000+00:00</td>\n",
              "      <td>96.0</td>\n",
              "      <td>515.0</td>\n",
              "      <td>514.0</td>\n",
              "      <td>5.742884</td>\n",
              "      <td>53597817.0</td>\n",
              "      <td>781653.0</td>\n",
              "      <td>515.0</td>\n",
              "      <td>781653.0</td>\n",
              "      <td>14.350225</td>\n",
              "      <td>14.350225</td>\n",
              "      <td>515.0</td>\n",
              "      <td>515.0</td>\n",
              "      <td>555.547501</td>\n",
              "      <td>53597817.0</td>\n",
              "      <td>673.789062</td>\n",
              "      <td>781653.0</td>\n",
              "      <td>sqlite</td>\n",
              "      <td>96</td>\n",
              "      <td>djb-100-2021-04-28-djb-eda-german-subs</td>\n",
              "    </tr>\n",
              "    <tr>\n",
              "      <th>59</th>\n",
              "      <td>badc44b0e5ac467da14f710da0b410c6</td>\n",
              "      <td>35</td>\n",
              "      <td>FINISHED</td>\n",
              "      <td>gs://i18n-subreddit-clustering/mlflow/mlruns/35/badc44b0e5ac467da14f710da0b410c6/artifacts</td>\n",
              "      <td>2022-08-16 08:41:53.006000+00:00</td>\n",
              "      <td>2022-09-10 00:54:17.303000+00:00</td>\n",
              "      <td>96.0</td>\n",
              "      <td>515.0</td>\n",
              "      <td>514.0</td>\n",
              "      <td>3.698822</td>\n",
              "      <td>51906348.0</td>\n",
              "      <td>771760.0</td>\n",
              "      <td>515.0</td>\n",
              "      <td>771760.0</td>\n",
              "      <td>15.926672</td>\n",
              "      <td>15.926672</td>\n",
              "      <td>515.0</td>\n",
              "      <td>515.0</td>\n",
              "      <td>544.288655</td>\n",
              "      <td>51906348.0</td>\n",
              "      <td>820.674805</td>\n",
              "      <td>771760.0</td>\n",
              "      <td>sqlite</td>\n",
              "      <td>96</td>\n",
              "      <td>djb-100-2021-04-28-djb-eda-german-subs</td>\n",
              "    </tr>\n",
              "  </tbody>\n",
              "</table>\n",
              "</div>\n",
              "      <button class=\"colab-df-convert\" onclick=\"convertToInteractive('df-5c0ea2fd-bd02-4e5d-a450-f8853dbe41a8')\"\n",
              "              title=\"Convert this dataframe to an interactive table.\"\n",
              "              style=\"display:none;\">\n",
              "        \n",
              "  <svg xmlns=\"http://www.w3.org/2000/svg\" height=\"24px\"viewBox=\"0 0 24 24\"\n",
              "       width=\"24px\">\n",
              "    <path d=\"M0 0h24v24H0V0z\" fill=\"none\"/>\n",
              "    <path d=\"M18.56 5.44l.94 2.06.94-2.06 2.06-.94-2.06-.94-.94-2.06-.94 2.06-2.06.94zm-11 1L8.5 8.5l.94-2.06 2.06-.94-2.06-.94L8.5 2.5l-.94 2.06-2.06.94zm10 10l.94 2.06.94-2.06 2.06-.94-2.06-.94-.94-2.06-.94 2.06-2.06.94z\"/><path d=\"M17.41 7.96l-1.37-1.37c-.4-.4-.92-.59-1.43-.59-.52 0-1.04.2-1.43.59L10.3 9.45l-7.72 7.72c-.78.78-.78 2.05 0 2.83L4 21.41c.39.39.9.59 1.41.59.51 0 1.02-.2 1.41-.59l7.78-7.78 2.81-2.81c.8-.78.8-2.07 0-2.86zM5.41 20L4 18.59l7.72-7.72 1.47 1.35L5.41 20z\"/>\n",
              "  </svg>\n",
              "      </button>\n",
              "      \n",
              "  <style>\n",
              "    .colab-df-container {\n",
              "      display:flex;\n",
              "      flex-wrap:wrap;\n",
              "      gap: 12px;\n",
              "    }\n",
              "\n",
              "    .colab-df-convert {\n",
              "      background-color: #E8F0FE;\n",
              "      border: none;\n",
              "      border-radius: 50%;\n",
              "      cursor: pointer;\n",
              "      display: none;\n",
              "      fill: #1967D2;\n",
              "      height: 32px;\n",
              "      padding: 0 0 0 0;\n",
              "      width: 32px;\n",
              "    }\n",
              "\n",
              "    .colab-df-convert:hover {\n",
              "      background-color: #E2EBFA;\n",
              "      box-shadow: 0px 1px 2px rgba(60, 64, 67, 0.3), 0px 1px 3px 1px rgba(60, 64, 67, 0.15);\n",
              "      fill: #174EA6;\n",
              "    }\n",
              "\n",
              "    [theme=dark] .colab-df-convert {\n",
              "      background-color: #3B4455;\n",
              "      fill: #D2E3FC;\n",
              "    }\n",
              "\n",
              "    [theme=dark] .colab-df-convert:hover {\n",
              "      background-color: #434B5C;\n",
              "      box-shadow: 0px 1px 3px 1px rgba(0, 0, 0, 0.15);\n",
              "      filter: drop-shadow(0px 1px 2px rgba(0, 0, 0, 0.3));\n",
              "      fill: #FFFFFF;\n",
              "    }\n",
              "  </style>\n",
              "\n",
              "      <script>\n",
              "        const buttonEl =\n",
              "          document.querySelector('#df-5c0ea2fd-bd02-4e5d-a450-f8853dbe41a8 button.colab-df-convert');\n",
              "        buttonEl.style.display =\n",
              "          google.colab.kernel.accessAllowed ? 'block' : 'none';\n",
              "\n",
              "        async function convertToInteractive(key) {\n",
              "          const element = document.querySelector('#df-5c0ea2fd-bd02-4e5d-a450-f8853dbe41a8');\n",
              "          const dataTable =\n",
              "            await google.colab.kernel.invokeFunction('convertToInteractive',\n",
              "                                                     [key], {});\n",
              "          if (!dataTable) return;\n",
              "\n",
              "          const docLinkHtml = 'Like what you see? Visit the ' +\n",
              "            '<a target=\"_blank\" href=https://colab.research.google.com/notebooks/data_table.ipynb>data table notebook</a>'\n",
              "            + ' to learn more about interactive tables.';\n",
              "          element.innerHTML = '';\n",
              "          dataTable['output_type'] = 'display_data';\n",
              "          await google.colab.output.renderOutput(dataTable, element);\n",
              "          const docLink = document.createElement('div');\n",
              "          docLink.innerHTML = docLinkHtml;\n",
              "          element.appendChild(docLink);\n",
              "        }\n",
              "      </script>\n",
              "    </div>\n",
              "  </div>\n",
              "  "
            ]
          },
          "metadata": {},
          "execution_count": 14
        }
      ]
    },
    {
      "cell_type": "markdown",
      "source": [
        "# Get path to latest reshaped data\n",
        "Since we already reshaped the data and it's in GCS, let's read that instead of reshaping & uploading to GCS"
      ],
      "metadata": {
        "id": "7hrGm27GiC3J"
      }
    },
    {
      "cell_type": "code",
      "source": [
        "%%time\n",
        "\n",
        "l_artifacts_top_level = mlf.list_run_artifacts(\n",
        "    run_id=cfg_reshape_embeddings_wt.config_dict['mlflow_run_id'],\n",
        "    only_top_level=True,\n",
        "    verbose=True,\n",
        "    full_path=True,\n",
        ")\n",
        "\n",
        "l_artifacts_all = mlf.list_run_artifacts(\n",
        "    run_id=cfg_reshape_embeddings_wt.config_dict['mlflow_run_id'],\n",
        "    only_top_level=False,\n",
        "    verbose=False,\n",
        "    full_path=True,\n",
        ")"
      ],
      "metadata": {
        "colab": {
          "base_uri": "https://localhost:8080/"
        },
        "id": "5y2tZYKO7LFc",
        "outputId": "6dd01cdf-4395-458d-b1ad-8b81336a8d8a"
      },
      "execution_count": 15,
      "outputs": [
        {
          "output_type": "stream",
          "name": "stderr",
          "text": [
            "17:28:39 | INFO | \"   293 <- Artifacts to check count\"\n",
            "17:28:39 | INFO | \"   293 <- Artifacts clean count\"\n",
            "17:28:39 | INFO | \"    10 <- Artifacts & folders at TOP LEVEL clean count\"\n",
            "17:28:47 | INFO | \"   293 <- Artifacts clean count\"\n",
            "17:28:47 | INFO | \"    10 <- Artifacts & folders at TOP LEVEL clean count\"\n"
          ]
        },
        {
          "output_type": "stream",
          "name": "stdout",
          "text": [
            "CPU times: user 14.2 s, sys: 351 ms, total: 14.6 s\n",
            "Wall time: 17.4 s\n"
          ]
        }
      ]
    },
    {
      "cell_type": "code",
      "source": [
        "%%time\n",
        "\n",
        "l_artifacts_top_level_061 = mlf.list_run_artifacts(\n",
        "    run_id=cfg_reshape_embeddings_061_wt.config_dict['mlflow_run_id'],\n",
        "    only_top_level=True,\n",
        "    verbose=True,\n",
        "    full_path=True,\n",
        ")\n",
        "\n",
        "l_artifacts_all_061 = mlf.list_run_artifacts(\n",
        "    run_id=cfg_reshape_embeddings_061_wt.config_dict['mlflow_run_id'],\n",
        "    only_top_level=False,\n",
        "    verbose=False,\n",
        "    full_path=True,\n",
        ")"
      ],
      "metadata": {
        "colab": {
          "base_uri": "https://localhost:8080/"
        },
        "id": "qQBkDoTZUyEt",
        "outputId": "433ba87e-ab44-4980-941c-def40b4ac2bf"
      },
      "execution_count": 16,
      "outputs": [
        {
          "output_type": "stream",
          "name": "stderr",
          "text": [
            "17:28:55 | INFO | \"   342 <- Artifacts to check count\"\n",
            "17:28:55 | INFO | \"   342 <- Artifacts clean count\"\n",
            "17:28:55 | INFO | \"     9 <- Artifacts & folders at TOP LEVEL clean count\"\n",
            "17:29:05 | INFO | \"   342 <- Artifacts clean count\"\n",
            "17:29:05 | INFO | \"     9 <- Artifacts & folders at TOP LEVEL clean count\"\n"
          ]
        },
        {
          "output_type": "stream",
          "name": "stdout",
          "text": [
            "CPU times: user 14.8 s, sys: 368 ms, total: 15.1 s\n",
            "Wall time: 17.6 s\n"
          ]
        }
      ]
    },
    {
      "cell_type": "code",
      "source": [
        "# get path for parquet file. This should be a full folder with multiple parquet files\n",
        "path_parquet_ = (\n",
        "    cfg_reshape_embeddings_wt.config_dict['embeddings_artifact_path']\n",
        ")\n",
        "\n",
        "folder_parquet_ = (\n",
        "    cfg_reshape_embeddings_wt.config_dict['embeddings_artifact_path']\n",
        ")\n",
        "folder_parquet_full_ = [i_ for i_ in l_artifacts_top_level if i_.split('/')[-1] == folder_parquet_][0]\n",
        "\n",
        "# print(f\"Folder with parquet files:\\n{path_parquet_}\")\n",
        "print(f\"\\nFolder with parquet files (full):\\n{folder_parquet_full_}\\n\")\n",
        "\n",
        "[_ for _ in l_artifacts_all if folder_parquet_ == _.split('/')[-2]]"
      ],
      "metadata": {
        "colab": {
          "base_uri": "https://localhost:8080/"
        },
        "id": "5Qk9sEA77KWc",
        "outputId": "d097ee98-84e0-448b-e345-daf462f24103"
      },
      "execution_count": 17,
      "outputs": [
        {
          "output_type": "stream",
          "name": "stdout",
          "text": [
            "\n",
            "Folder with parquet files (full):\n",
            "gs://i18n-subreddit-clustering/mlflow/mlruns/35/badc44b0e5ac467da14f710da0b410c6/artifacts/df_subs_agg_c1\n",
            "\n"
          ]
        },
        {
          "output_type": "execute_result",
          "data": {
            "text/plain": [
              "['gs://i18n-subreddit-clustering/mlflow/mlruns/35/badc44b0e5ac467da14f710da0b410c6/artifacts/df_subs_agg_c1/_common_metadata',\n",
              " 'gs://i18n-subreddit-clustering/mlflow/mlruns/35/badc44b0e5ac467da14f710da0b410c6/artifacts/df_subs_agg_c1/_metadata',\n",
              " 'gs://i18n-subreddit-clustering/mlflow/mlruns/35/badc44b0e5ac467da14f710da0b410c6/artifacts/df_subs_agg_c1/part.0.parquet',\n",
              " 'gs://i18n-subreddit-clustering/mlflow/mlruns/35/badc44b0e5ac467da14f710da0b410c6/artifacts/df_subs_agg_c1/part.1.parquet',\n",
              " 'gs://i18n-subreddit-clustering/mlflow/mlruns/35/badc44b0e5ac467da14f710da0b410c6/artifacts/df_subs_agg_c1/part.2.parquet',\n",
              " 'gs://i18n-subreddit-clustering/mlflow/mlruns/35/badc44b0e5ac467da14f710da0b410c6/artifacts/df_subs_agg_c1/part.3.parquet']"
            ]
          },
          "metadata": {},
          "execution_count": 17
        }
      ]
    },
    {
      "cell_type": "code",
      "source": [
        "# get path for latest ndjson output FILE\n",
        "#  NOTE: there could be multiple runs of this file\n",
        "path_ndjson_ = (\n",
        "    cfg_reshape_embeddings_wt.config_dict['embeddings_artifact_path'] + '_ndjson'\n",
        ")\n",
        "l_ndjson_files_ = [_ for _ in l_artifacts_all if path_ndjson_ in _]\n",
        "ndjson_path_ = l_ndjson_files_[-1]\n",
        "print(f\"ndjson file list:\\n{l_ndjson_files_}\")\n",
        "\n",
        "print(f\"\\nFile to upload to BQ:\\n{ndjson_path_}\")"
      ],
      "metadata": {
        "colab": {
          "base_uri": "https://localhost:8080/"
        },
        "id": "260Kpdmo7nlu",
        "outputId": "870c20b9-e0b6-42b4-f2ea-4ab64789cd27"
      },
      "execution_count": 18,
      "outputs": [
        {
          "output_type": "stream",
          "name": "stdout",
          "text": [
            "ndjson file list:\n",
            "['gs://i18n-subreddit-clustering/mlflow/mlruns/35/badc44b0e5ac467da14f710da0b410c6/artifacts/df_subs_agg_c1_ndjson/subreddit_embeddings_2022-08-31_035824.json']\n",
            "\n",
            "File to upload to BQ:\n",
            "gs://i18n-subreddit-clustering/mlflow/mlruns/35/badc44b0e5ac467da14f710da0b410c6/artifacts/df_subs_agg_c1_ndjson/subreddit_embeddings_2022-08-31_035824.json\n"
          ]
        }
      ]
    },
    {
      "cell_type": "code",
      "source": [
        "# get path for latest ndjson output FILE\n",
        "#  NOTE: there could be multiple runs of this file\n",
        "path_ndjson_061 = (\n",
        "    cfg_reshape_embeddings_061_wt.config_dict['embeddings_artifact_path'] + '_ndjson'\n",
        ")\n",
        "l_ndjson_files_061 = [_ for _ in l_artifacts_all_061 if path_ndjson_061 in _]\n",
        "ndjson_path_061 = l_ndjson_files_061[-1]\n",
        "# print(f\"ndjson file list:\\n{l_ndjson_files_061}\")\n",
        "\n",
        "print(f\"\\nFile to upload to BQ:\\n{ndjson_path_061}\")"
      ],
      "metadata": {
        "colab": {
          "base_uri": "https://localhost:8080/"
        },
        "id": "Em7CZmQxVEST",
        "outputId": "1751be1f-7f06-46be-bda1-50f11802a428"
      },
      "execution_count": 19,
      "outputs": [
        {
          "output_type": "stream",
          "name": "stdout",
          "text": [
            "\n",
            "File to upload to BQ:\n",
            "gs://i18n-subreddit-clustering/mlflow/mlruns/40/91ac7ca171024c779c0992f59470c81b/artifacts/df_subs_agg_c1_ndjson/subreddit_embeddings_2022-11-18_171217.json\n"
          ]
        }
      ]
    },
    {
      "cell_type": "markdown",
      "source": [
        "# Run new function to only upload existing reshaped data"
      ],
      "metadata": {
        "id": "ogoW-H7YobnO"
      }
    },
    {
      "cell_type": "code",
      "source": [
        "BREAK"
      ],
      "metadata": {
        "colab": {
          "base_uri": "https://localhost:8080/",
          "height": 166
        },
        "id": "zrrk0P3-Kiks",
        "outputId": "40228421-6273-40bf-e630-3029ca6d9884"
      },
      "execution_count": 20,
      "outputs": [
        {
          "output_type": "error",
          "ename": "NameError",
          "evalue": "ignored",
          "traceback": [
            "\u001b[0;31m---------------------------------------------------------------------------\u001b[0m",
            "\u001b[0;31mNameError\u001b[0m                                 Traceback (most recent call last)",
            "\u001b[0;32m<ipython-input-20-66db536c6cae>\u001b[0m in \u001b[0;36m<module>\u001b[0;34m\u001b[0m\n\u001b[0;32m----> 1\u001b[0;31m \u001b[0mBREAK\u001b[0m\u001b[0;34m\u001b[0m\u001b[0;34m\u001b[0m\u001b[0m\n\u001b[0m",
            "\u001b[0;31mNameError\u001b[0m: name 'BREAK' is not defined"
          ]
        }
      ]
    },
    {
      "cell_type": "code",
      "source": [
        "%%time\n",
        "\n",
        "load_data_to_bq_table(\n",
        "    uri=\"\",  # ndjson_path_\n",
        "    bq_project=cfg_reshape_embeddings_wt.config_dict['bq_project'],\n",
        "    bq_dataset=cfg_reshape_embeddings_wt.config_dict['bq_dataset'],\n",
        "    bq_table_name=cfg_reshape_embeddings_wt.config_dict['bq_table'],\n",
        "    schema=embeddings_schema(),\n",
        "    partition_column='pt',\n",
        "    table_description=cfg_reshape_embeddings_wt.config_dict['bq_table_description'],\n",
        "    update_table_description=False,\n",
        ")"
      ],
      "metadata": {
        "id": "yqvg1iB-e4Af"
      },
      "execution_count": null,
      "outputs": []
    },
    {
      "cell_type": "markdown",
      "source": [
        "## Use SQL to insert data (in case loading from python breaks)\n",
        "\n",
        "To avoid recreating the schema in SQL, run the python function above, even if it fails to laod the data."
      ],
      "metadata": {
        "id": "1s4KRrxfOin5"
      }
    },
    {
      "cell_type": "code",
      "source": [
        "print(f\"\\nFile to upload to BQ:\\n{ndjson_path_}\")"
      ],
      "metadata": {
        "id": "RE0Bq9NKP2c2"
      },
      "execution_count": null,
      "outputs": []
    },
    {
      "cell_type": "code",
      "source": [
        "# %%time\n",
        "# %%bigquery df_embeddings --project data-science-prod-218515\n",
        "\n",
        "# LOAD DATA INTO `reddit-employee-datasets.david_bermejo.cau_subreddit_embeddings`\n",
        "# FROM FILES (\n",
        "#   format = 'JSON',\n",
        "#   uris = [\"gs://i18n-subreddit-clustering/mlflow/mlruns/35/badc44b0e5ac467da14f710da0b410c6/artifacts/df_subs_agg_c1_ndjson/subreddit_embeddings_2022-08-31_035824.json\"]\n",
        "# );"
      ],
      "metadata": {
        "id": "t3j6nQ-SOgPw"
      },
      "execution_count": null,
      "outputs": []
    },
    {
      "cell_type": "code",
      "source": [
        "print(f\"\\nFile to upload to BQ:\\n{ndjson_path_061}\")"
      ],
      "metadata": {
        "id": "nsD0iuSZOgNW"
      },
      "execution_count": null,
      "outputs": []
    },
    {
      "cell_type": "code",
      "source": [
        "# %%time\n",
        "# %%bigquery df_embeddings --project data-science-prod-218515\n",
        "\n",
        "# LOAD DATA INTO `reddit-employee-datasets.david_bermejo.cau_subreddit_embeddings`\n",
        "# FROM FILES (\n",
        "#   format = 'JSON',\n",
        "#   uris = [\"gs://i18n-subreddit-clustering/mlflow/mlruns/40/91ac7ca171024c779c0992f59470c81b/artifacts/df_subs_agg_c1_ndjson/subreddit_embeddings_2022-11-18_171217.json\"]\n",
        "# );"
      ],
      "metadata": {
        "id": "zwaJBArw7zqq"
      },
      "execution_count": null,
      "outputs": []
    }
  ],
  "metadata": {
    "colab": {
      "provenance": []
    },
    "kernelspec": {
      "display_name": "Python 3 (ipykernel)",
      "language": "python",
      "name": "python3"
    },
    "language_info": {
      "codemirror_mode": {
        "name": "ipython",
        "version": 3
      },
      "file_extension": ".py",
      "mimetype": "text/x-python",
      "name": "python",
      "nbconvert_exporter": "python",
      "pygments_lexer": "ipython3",
      "version": "3.7.11"
    }
  },
  "nbformat": 4,
  "nbformat_minor": 0
}