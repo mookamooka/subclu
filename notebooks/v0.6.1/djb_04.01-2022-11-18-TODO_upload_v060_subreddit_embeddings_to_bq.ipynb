{
 "cells": [
  {
   "cell_type": "markdown",
   "id": "afa24682",
   "metadata": {},
   "source": [
    "# Purpose\n",
    "\n",
    "**2022-11-18: v0.6.0** update\n",
    "<br>For some reason the previous table with v0.6.0 embeddings was deleted. Use this notebook to re-upload the embeddings for v0.6.0 so that we can compare or backfill if needed.\n",
    "\n",
    "---\n",
    "\n",
    "**2022-08-30: v0.6.0**\n",
    "The default parquet embedding format for my embeddings (1 row per column) is not favored for bigquery & other steam standards.\n",
    "\n",
    "The preferred format is: 1 column that has repeated records. For example:\n",
    "- `data-prod-165221.ml_content.subreddit_embeddings_ft2` \n",
    "    - [console link](https://console.cloud.google.com/bigquery?project=data-science-prod-218515&ws=!1m10!1m4!4m3!1sdata-prod-165221!2sml_content!3ssimilar_subreddit_ft2!1m4!4m3!1sdata-prod-165221!2sml_content!3ssubreddit_embeddings_ft2)\n",
    "    - github link\n",
    "        - https://github.snooguts.net/reddit/gazette-models/blob/master/similar_subreddit/embeddings/__main__.py#L105-L112\n",
    "\n",
    "In this notebook we convert a dataframe into a new-line delimited JSON file. \n",
    "<br>With pandas we can vectorize this function instead of having to loop through each row (subreddit) individually.\n",
    "\n",
    "In this notebook we're loading 2 separate embedding flavors based on the `embeddings_artifact_path` and loading to the BQ in two separate partitions.\n",
    "\n",
    "---\n",
    "\n",
    "```python\n",
    "sr_embedding_dict = {\n",
    "    \"pt\": date_today,\n",
    "    \"model_name\": MODEL_NAME,\n",
    "    \"model_version\": MODEL_VERSION,\n",
    "    \"subreddit_id\": sr_dict[\"subreddit_id\"],\n",
    "    \"subreddit_name\": subreddit_name_lowercase,\n",
    "    \"embedding\": sr_embedding.tolist(),\n",
    "}\n",
    "```\n",
    "\n",
    "In BQ:\n",
    "```\n",
    "Field name\t\tType\tMode\t\tDescription\n",
    "model_name  \tSTRING\tNULLABLE\t\tModel name\t\n",
    "model_version\tSTRING\tNULLABLE\t\tModel version\t\n",
    "subreddit_id\tSTRING\tNULLABLE\t\tSubreddit id\t\n",
    "subreddit_name\tSTRING\tNULLABLE\t\tLower case subreddit name\t\n",
    "**embedding\t\tFLOAT\tREPEATED\t\tSubreddit embeddings\n",
    "```"
   ]
  },
  {
   "cell_type": "markdown",
   "id": "36f21169",
   "metadata": {},
   "source": [
    "# Notebook setup"
   ]
  },
  {
   "cell_type": "code",
   "execution_count": 1,
   "id": "a1fba468",
   "metadata": {},
   "outputs": [],
   "source": [
    "%load_ext autoreload\n",
    "%autoreload 2"
   ]
  },
  {
   "cell_type": "code",
   "execution_count": null,
   "id": "32cb73ec",
   "metadata": {},
   "outputs": [],
   "source": []
  },
  {
   "cell_type": "code",
   "execution_count": null,
   "id": "64bf4bb9",
   "metadata": {},
   "outputs": [],
   "source": []
  },
  {
   "cell_type": "code",
   "execution_count": 2,
   "id": "786d0e98",
   "metadata": {},
   "outputs": [
    {
     "name": "stdout",
     "output_type": "stream",
     "text": [
      "python\t\tv 3.7.10\n",
      "===\n",
      "hydra\t\tv: 1.1.0\n",
      "mlflow\t\tv: 1.16.0\n",
      "numpy\t\tv: 1.19.5\n",
      "pandas\t\tv: 1.2.4\n",
      "subclu\t\tv: 0.6.1\n"
     ]
    }
   ],
   "source": [
    "from datetime import datetime, timedelta\n",
    "import os\n",
    "import logging\n",
    "from logging import info\n",
    "from pathlib import Path\n",
    "from pprint import pprint\n",
    "\n",
    "import numpy as np\n",
    "import pandas as pd\n",
    "from tqdm.auto import tqdm\n",
    "\n",
    "import mlflow\n",
    "import hydra\n",
    "\n",
    "import subclu\n",
    "from subclu.utils.hydra_config_loader import LoadHydraConfig\n",
    "from subclu.utils import set_working_directory, get_project_subfolder\n",
    "from subclu.utils.eda import (\n",
    "    setup_logging, counts_describe, value_counts_and_pcts,\n",
    "    notebook_display_config, print_lib_versions,\n",
    "    style_df_numeric,\n",
    "    elapsed_time,\n",
    ")\n",
    "\n",
    "from subclu.utils.mlflow_logger import MlflowLogger\n",
    "from subclu.models.bq_embedding_schemas import embeddings_schema\n",
    "from subclu.models.reshape_embeddings_for_bq import reshape_embeddings_to_ndjson, reshape_embeddings_and_upload_to_bq\n",
    "from subclu.utils.big_query_utils import load_data_to_bq_table\n",
    "\n",
    "print_lib_versions([hydra, mlflow, np, pd, subclu])"
   ]
  },
  {
   "cell_type": "code",
   "execution_count": 3,
   "id": "125460be",
   "metadata": {},
   "outputs": [],
   "source": [
    "# plotting\n",
    "import matplotlib.pyplot as plt\n",
    "import matplotlib.ticker as mtick\n",
    "import matplotlib.dates as mdates\n",
    "plt.style.use('default')\n",
    "\n",
    "setup_logging()\n",
    "notebook_display_config()"
   ]
  },
  {
   "cell_type": "markdown",
   "id": "c0ada31c",
   "metadata": {},
   "source": [
    "# Set Local model path (for saving)\n",
    "\n",
    "NOT NEEDED in this case because we're reading embeddings that have already been reshaped."
   ]
  },
  {
   "cell_type": "code",
   "execution_count": 4,
   "id": "5e1792b2",
   "metadata": {},
   "outputs": [],
   "source": [
    "# manual_model_timestamp = datetime.utcnow().strftime('%Y-%m-%d_%H%M%S')\n",
    "# path_this_model = get_project_subfolder(\n",
    "#     f\"data/models/aggregate_embeddings/manual_v060_{manual_model_timestamp}\"\n",
    "# )\n",
    "# Path.mkdir(path_this_model, parents=True, exist_ok=True)\n",
    "# path_this_model"
   ]
  },
  {
   "cell_type": "markdown",
   "id": "a2ffab76",
   "metadata": {},
   "source": [
    "# Load 1st config for embeddings to reshape and where to save them\n",
    "\n",
    "The embedding aggregation should've been logged to `mlflow` so we should be able to\n",
    "- make calls to mlflow to get the embeddings\n",
    "- add the new embeddings format to the original job\n",
    "\n",
    "\n",
    "\n"
   ]
  },
  {
   "cell_type": "code",
   "execution_count": 5,
   "id": "93d608f5",
   "metadata": {},
   "outputs": [],
   "source": [
    "cfg_reshape_embeddings = LoadHydraConfig(\n",
    "    config_name='reshape_embeddings_for_bq-subreddit-v0.6.0.yaml',\n",
    "    config_path=\"../config\",\n",
    ")"
   ]
  },
  {
   "cell_type": "code",
   "execution_count": 6,
   "id": "b86c1132",
   "metadata": {},
   "outputs": [
    {
     "name": "stdout",
     "output_type": "stream",
     "text": [
      "data_text_and_metadata:\n",
      "    dataset_name: v0.6.0 inputs. ~110k seed subreddits, ~340k with 3+ posts, ~700k total subreddits\n",
      "    bucket_name: i18n-subreddit-clustering\n",
      "    folder_subreddits_text_and_meta: i18n_topic_model_batch/runs/20220811/subreddits/text\n",
      "    folder_posts_text_and_meta: i18n_topic_model_batch/runs/20220811/posts\n",
      "    folder_comments_text_and_meta: i18n_topic_model_batch/runs/20220811/comments\n",
      "    folder_post_and_comment_text_and_meta: i18n_topic_model_batch/runs/20220811/post_and_comment_text_combined/text_all\n",
      "data_embeddings_to_aggregate:\n",
      "    bucket_embeddings: i18n-subreddit-clustering\n",
      "    post_and_comments_folder_embeddings: i18n_topic_model_batch/runs/20220811/post_and_comment_text_combined/text_all/embedding/2022-08-11_084218\n",
      "    subreddit_desc_folder_embeddings: i18n_topic_model_batch/runs/20220811/subreddits/text/embedding/2022-08-11_082859\n",
      "    col_subreddit_id: subreddit_id\n",
      "aggregate_params:\n",
      "    min_post_and_comment_text_len: 3\n",
      "    agg_post_post_and_comment_weight: 85\n",
      "    agg_post_subreddit_desc_weight: 15\n",
      "description: Use this config to reshape embeddings and upload them to BigQuery\n",
      "bucket_output: i18n-subreddit-clustering\n",
      "mlflow_tracking_uri: sqlite\n",
      "mlflow_run_id: badc44b0e5ac467da14f710da0b410c6\n",
      "embeddings_artifact_path: df_subs_agg_c1_unweighted\n",
      "bq_project: reddit-employee-datasets\n",
      "bq_dataset: david_bermejo\n",
      "bq_table: cau_subreddit_embeddings\n",
      "bq_table_description: Subreddit-level embeddings. See the wiki for more details. https://reddit.atlassian.net/wiki/spaces/DataScience/pages/2404220935/\n",
      "update_table_description: True,\n",
      "pt: 2022-08-11\n",
      "model_version: v0.6.0\n",
      "model_name: cau-text-mUSE\n",
      "embeddings_config: aggregate_embeddings_v0.6.0\n"
     ]
    }
   ],
   "source": [
    "for k_, v_ in cfg_reshape_embeddings.config_dict.items():\n",
    "    if isinstance(v_, dict):\n",
    "        print(f\"{k_}:\")\n",
    "        for k2_, v2_ in v_.items():\n",
    "            pass\n",
    "            print(f\"    {k2_}: {v2_}\")\n",
    "    else:\n",
    "        print(f\"{k_}: {v_}\")"
   ]
  },
  {
   "cell_type": "markdown",
   "id": "efa53b74",
   "metadata": {},
   "source": [
    "# Start MLflow\n",
    "We need it to get the paths for artifacts and load subreddit embeddings (based on the mlflow run ID)."
   ]
  },
  {
   "cell_type": "code",
   "execution_count": 8,
   "id": "c541ad50",
   "metadata": {},
   "outputs": [],
   "source": [
    "mlf = MlflowLogger(tracking_uri=cfg_reshape_embeddings.config_dict['mlflow_tracking_uri'])"
   ]
  },
  {
   "cell_type": "code",
   "execution_count": 30,
   "id": "9b51de41",
   "metadata": {},
   "outputs": [],
   "source": [
    "# mlf.list_experiment_meta(output_format='pandas').tail(10)"
   ]
  },
  {
   "cell_type": "code",
   "execution_count": 21,
   "id": "b2fa13d9",
   "metadata": {},
   "outputs": [
    {
     "name": "stdout",
     "output_type": "stream",
     "text": [
      "(4, 43)\n",
      "CPU times: user 53.3 ms, sys: 8.6 ms, total: 61.9 ms\n",
      "Wall time: 61 ms\n"
     ]
    }
   ],
   "source": [
    "%%time\n",
    "\n",
    "df_mlf = mlf.search_all_runs(35)\n",
    "print(df_mlf.shape)"
   ]
  },
  {
   "cell_type": "code",
   "execution_count": 22,
   "id": "0de352fc",
   "metadata": {},
   "outputs": [
    {
     "data": {
      "text/html": [
       "<div>\n",
       "<style scoped>\n",
       "    .dataframe tbody tr th:only-of-type {\n",
       "        vertical-align: middle;\n",
       "    }\n",
       "\n",
       "    .dataframe tbody tr th {\n",
       "        vertical-align: top;\n",
       "    }\n",
       "\n",
       "    .dataframe thead th {\n",
       "        text-align: right;\n",
       "    }\n",
       "</style>\n",
       "<table border=\"1\" class=\"dataframe\">\n",
       "  <thead>\n",
       "    <tr style=\"text-align: right;\">\n",
       "      <th></th>\n",
       "      <th>run_id</th>\n",
       "      <th>experiment_id</th>\n",
       "      <th>status</th>\n",
       "      <th>artifact_uri</th>\n",
       "      <th>start_time</th>\n",
       "      <th>end_time</th>\n",
       "      <th>metrics.df_v_post_comments-cols</th>\n",
       "      <th>metrics.df_v_post_comments-rows</th>\n",
       "      <th>metrics.time_fxn-data_loading_time</th>\n",
       "      <th>metrics.time_fxn-full_aggregation_fxn_minutes</th>\n",
       "      <th>metrics.time_fxn-df_subs_agg_c1_uw</th>\n",
       "      <th>metrics.df_v_subs-cols</th>\n",
       "      <th>metrics.df_subs_agg_c1-cols</th>\n",
       "    </tr>\n",
       "  </thead>\n",
       "  <tbody>\n",
       "    <tr>\n",
       "      <th>0</th>\n",
       "      <td>badc44b0e5ac467da14f710da0b410c6</td>\n",
       "      <td>35</td>\n",
       "      <td>FINISHED</td>\n",
       "      <td>gs://i18n-subreddit-clustering/mlflow/mlruns/35/badc44b0e5ac467da14f710da0b410c6/artifacts</td>\n",
       "      <td>2022-08-16 08:41:53.006000+00:00</td>\n",
       "      <td>2022-09-10 00:54:17.303000+00:00</td>\n",
       "      <td>515.0</td>\n",
       "      <td>51906348.0</td>\n",
       "      <td>3.698822</td>\n",
       "      <td>820.674805</td>\n",
       "      <td>15.926672</td>\n",
       "      <td>514.0</td>\n",
       "      <td>515.0</td>\n",
       "    </tr>\n",
       "    <tr>\n",
       "      <th>1</th>\n",
       "      <td>ca79765b72c5428395b02926612d85fd</td>\n",
       "      <td>35</td>\n",
       "      <td>FINISHED</td>\n",
       "      <td>gs://i18n-subreddit-clustering/mlflow/mlruns/35/ca79765b72c5428395b02926612d85fd/artifacts</td>\n",
       "      <td>2022-08-16 08:41:31.162000+00:00</td>\n",
       "      <td>2022-08-31 03:13:27.187000+00:00</td>\n",
       "      <td>515.0</td>\n",
       "      <td>51906348.0</td>\n",
       "      <td>3.719202</td>\n",
       "      <td>NaN</td>\n",
       "      <td>NaN</td>\n",
       "      <td>514.0</td>\n",
       "      <td>NaN</td>\n",
       "    </tr>\n",
       "  </tbody>\n",
       "</table>\n",
       "</div>"
      ],
      "text/plain": [
       "                             run_id experiment_id    status                                                                                artifact_uri                       start_time                         end_time  metrics.df_v_post_comments-cols  metrics.df_v_post_comments-rows  \\\n",
       "0  badc44b0e5ac467da14f710da0b410c6            35  FINISHED  gs://i18n-subreddit-clustering/mlflow/mlruns/35/badc44b0e5ac467da14f710da0b410c6/artifacts 2022-08-16 08:41:53.006000+00:00 2022-09-10 00:54:17.303000+00:00                            515.0                       51906348.0   \n",
       "1  ca79765b72c5428395b02926612d85fd            35  FINISHED  gs://i18n-subreddit-clustering/mlflow/mlruns/35/ca79765b72c5428395b02926612d85fd/artifacts 2022-08-16 08:41:31.162000+00:00 2022-08-31 03:13:27.187000+00:00                            515.0                       51906348.0   \n",
       "\n",
       "   metrics.time_fxn-data_loading_time  metrics.time_fxn-full_aggregation_fxn_minutes  metrics.time_fxn-df_subs_agg_c1_uw  metrics.df_v_subs-cols  metrics.df_subs_agg_c1-cols  \n",
       "0                            3.698822                                     820.674805                           15.926672                   514.0                        515.0  \n",
       "1                            3.719202                                            NaN                                 NaN                   514.0                          NaN  "
      ]
     },
     "execution_count": 22,
     "metadata": {},
     "output_type": "execute_result"
    }
   ],
   "source": [
    "# only show finished runs\n",
    "df_mlf[df_mlf['status'] == \"FINISHED\"].iloc[:5, :13]"
   ]
  },
  {
   "cell_type": "markdown",
   "id": "2c812c82",
   "metadata": {},
   "source": [
    "## Show artifacts for run in config"
   ]
  },
  {
   "cell_type": "code",
   "execution_count": 26,
   "id": "4743f4be",
   "metadata": {},
   "outputs": [
    {
     "data": {
      "text/plain": [
       "'badc44b0e5ac467da14f710da0b410c6'"
      ]
     },
     "execution_count": 26,
     "metadata": {},
     "output_type": "execute_result"
    }
   ],
   "source": []
  },
  {
   "cell_type": "code",
   "execution_count": 27,
   "id": "77d2b9f8",
   "metadata": {},
   "outputs": [
    {
     "name": "stderr",
     "output_type": "stream",
     "text": [
      "17:56:03 | INFO | \"   293 <- Artifacts to check count\"\n",
      "17:56:03 | INFO | \"   293 <- Artifacts clean count\"\n",
      "17:56:03 | INFO | \"    10 <- Artifacts & folders at TOP LEVEL clean count\"\n",
      "17:56:09 | INFO | \"   293 <- Artifacts clean count\"\n",
      "17:56:09 | INFO | \"    10 <- Artifacts & folders at TOP LEVEL clean count\"\n"
     ]
    }
   ],
   "source": [
    "l_artifacts_top_level = mlf.list_run_artifacts(\n",
    "    run_id=cfg_reshape_embeddings.config_dict['mlflow_run_id'],\n",
    "    only_top_level=True,\n",
    "    verbose=True,\n",
    ")\n",
    "l_artifacts_all = mlf.list_run_artifacts(\n",
    "    run_id=cfg_reshape_embeddings.config_dict['mlflow_run_id'],\n",
    "    only_top_level=False,\n",
    "    verbose=False,\n",
    ")"
   ]
  },
  {
   "cell_type": "code",
   "execution_count": 28,
   "id": "7b9b1c3a",
   "metadata": {},
   "outputs": [
    {
     "data": {
      "text/plain": [
       "['ann_df-2022-09-10_003611',\n",
       " 'ann_df_test-2022-09-09_212342',\n",
       " 'ann_ndjson-2022-09-10_003611',\n",
       " 'ann_ndjson_test-2022-09-09_212342',\n",
       " 'ann_ndjson_test-2022-09-10_003611',\n",
       " 'df_posts_agg_c1',\n",
       " 'df_subs_agg_c1',\n",
       " 'df_subs_agg_c1_ndjson',\n",
       " 'df_subs_agg_c1_unweighted',\n",
       " 'df_subs_agg_c1_unweighted_ndjson']"
      ]
     },
     "execution_count": 28,
     "metadata": {},
     "output_type": "execute_result"
    }
   ],
   "source": [
    "l_artifacts_top_level"
   ]
  },
  {
   "cell_type": "code",
   "execution_count": 35,
   "id": "74e2b0a3",
   "metadata": {},
   "outputs": [
    {
     "data": {
      "text/plain": [
       "'mlflow/mlruns/35/badc44b0e5ac467da14f710da0b410c6/artifacts/df_subs_agg_c1_unweighted_ndjson/subreddit_embeddings_2022-08-31_034148.json'"
      ]
     },
     "execution_count": 35,
     "metadata": {},
     "output_type": "execute_result"
    }
   ],
   "source": [
    "# get path for latest ndjson output\n",
    "path_ndjson_ = (\n",
    "    cfg_reshape_embeddings.config_dict['embeddings_artifact_path'] + '_ndjson'\n",
    ")\n",
    "ndjson_path_ = [_ for _ in l_artifacts_all if path_ndjson_ in _][-1]\n",
    "print(ndjson_path_)\n",
    "print(ndjson_path_)"
   ]
  },
  {
   "cell_type": "code",
   "execution_count": 36,
   "id": "6d186b2a",
   "metadata": {},
   "outputs": [],
   "source": [
    "from subclu.models.bq_embedding_schemas import embeddings_schema"
   ]
  },
  {
   "cell_type": "code",
   "execution_count": 37,
   "id": "6c19c7ac",
   "metadata": {},
   "outputs": [
    {
     "ename": "NameError",
     "evalue": "name 'd_paths' is not defined",
     "output_type": "error",
     "traceback": [
      "\u001b[0;31m---------------------------------------------------------------------------\u001b[0m",
      "\u001b[0;31mNameError\u001b[0m                                 Traceback (most recent call last)",
      "\u001b[0;32m<ipython-input-37-4d6625744ad1>\u001b[0m in \u001b[0;36m<module>\u001b[0;34m\u001b[0m\n\u001b[1;32m      1\u001b[0m load_data_to_bq_table(\n\u001b[0;32m----> 2\u001b[0;31m     \u001b[0muri\u001b[0m\u001b[0;34m=\u001b[0m\u001b[0md_paths\u001b[0m\u001b[0;34m[\u001b[0m\u001b[0;34m'mlflow_artifact_path'\u001b[0m\u001b[0;34m]\u001b[0m\u001b[0;34m,\u001b[0m\u001b[0;34m\u001b[0m\u001b[0;34m\u001b[0m\u001b[0m\n\u001b[0m\u001b[1;32m      3\u001b[0m     \u001b[0mbq_project\u001b[0m\u001b[0;34m=\u001b[0m\u001b[0mcfg_reshape_embeddings\u001b[0m\u001b[0;34m[\u001b[0m\u001b[0;34m'bq_project'\u001b[0m\u001b[0;34m]\u001b[0m\u001b[0;34m,\u001b[0m\u001b[0;34m\u001b[0m\u001b[0;34m\u001b[0m\u001b[0m\n\u001b[1;32m      4\u001b[0m     \u001b[0mbq_dataset\u001b[0m\u001b[0;34m=\u001b[0m\u001b[0mcfg_reshape_embeddings\u001b[0m\u001b[0;34m[\u001b[0m\u001b[0;34m'bq_dataset'\u001b[0m\u001b[0;34m]\u001b[0m\u001b[0;34m,\u001b[0m\u001b[0;34m\u001b[0m\u001b[0;34m\u001b[0m\u001b[0m\n\u001b[1;32m      5\u001b[0m     \u001b[0mbq_table_name\u001b[0m\u001b[0;34m=\u001b[0m\u001b[0mcfg_reshape_embeddings\u001b[0m\u001b[0;34m[\u001b[0m\u001b[0;34m'bq_table'\u001b[0m\u001b[0;34m]\u001b[0m\u001b[0;34m,\u001b[0m\u001b[0;34m\u001b[0m\u001b[0;34m\u001b[0m\u001b[0m\n",
      "\u001b[0;31mNameError\u001b[0m: name 'd_paths' is not defined"
     ]
    }
   ],
   "source": [
    "load_data_to_bq_table(\n",
    "    uri=d_paths['mlflow_artifact_path'],\n",
    "    bq_project=cfg_reshape_embeddings['bq_project'],\n",
    "    bq_dataset=cfg_reshape_embeddings['bq_dataset'],\n",
    "    bq_table_name=cfg_reshape_embeddings['bq_table'],\n",
    "    schema=embeddings_schema(),\n",
    "    partition_column='pt',\n",
    "    table_description=dict_reshape_config['bq_table_description'],\n",
    "    update_table_description=False,\n",
    ")"
   ]
  },
  {
   "cell_type": "code",
   "execution_count": null,
   "id": "e0f0efcd",
   "metadata": {},
   "outputs": [],
   "source": []
  },
  {
   "cell_type": "code",
   "execution_count": null,
   "id": "58867bcc",
   "metadata": {},
   "outputs": [],
   "source": []
  },
  {
   "cell_type": "code",
   "execution_count": null,
   "id": "a5399da4",
   "metadata": {},
   "outputs": [],
   "source": [
    "LEGACY"
   ]
  },
  {
   "cell_type": "code",
   "execution_count": 10,
   "id": "f12a900c",
   "metadata": {},
   "outputs": [
    {
     "name": "stderr",
     "output_type": "stream",
     "text": [
      "03:32:52 | INFO | \"Local folder to download artifact(s):\n",
      "  /home/jupyter/subreddit_clustering_i18n/data/local_cache/mlflow/mlruns/35/badc44b0e5ac467da14f710da0b410c6/artifacts/df_subs_agg_c1_unweighted\"\n",
      "100%|##########################################| 6/6 [00:00<00:00, 17476.27it/s]\n",
      "03:32:53 | INFO | \"  Parquet files found:     4\"\n",
      "03:32:53 | INFO | \"  Parquet files to use:     4\"\n"
     ]
    },
    {
     "name": "stdout",
     "output_type": "stream",
     "text": [
      "(771760, 515)\n",
      "CPU times: user 9.31 s, sys: 4.32 s, total: 13.6 s\n",
      "Wall time: 7.86 s\n"
     ]
    }
   ],
   "source": [
    "%%time\n",
    "\n",
    "df_agg_sub_c = mlf.read_run_artifact(\n",
    "    run_id=cfg_reshape_embeddings.config_dict['mlflow_run_id'],\n",
    "    artifact_folder=cfg_reshape_embeddings.config_dict['embeddings_artifact_path'],\n",
    "    read_function='pd_parquet',\n",
    "    verbose=False,\n",
    ")\n",
    "print(df_agg_sub_c.shape)"
   ]
  },
  {
   "cell_type": "markdown",
   "id": "f77a75df",
   "metadata": {},
   "source": [
    "## Check distribution of posts for embeddings\n",
    "We'd expect ~340k subs with 3+ posts"
   ]
  },
  {
   "cell_type": "code",
   "execution_count": 11,
   "id": "6d7830de",
   "metadata": {},
   "outputs": [
    {
     "data": {
      "text/plain": [
       "count    771760.000000\n",
       "mean         67.257111\n",
       "std         479.863049\n",
       "min           0.000000\n",
       "25%           1.000000\n",
       "50%           2.000000\n",
       "75%           8.000000\n",
       "max        8400.000000\n",
       "Name: posts_for_embeddings_count, dtype: float64"
      ]
     },
     "execution_count": 11,
     "metadata": {},
     "output_type": "execute_result"
    }
   ],
   "source": [
    "df_agg_sub_c['posts_for_embeddings_count'].describe()"
   ]
  },
  {
   "cell_type": "code",
   "execution_count": 14,
   "id": "346a9953",
   "metadata": {},
   "outputs": [],
   "source": [
    "# value_counts_and_pcts(\n",
    "#     df_agg_sub_c['posts_for_embeddings_count'],\n",
    "#     sort_index=True,\n",
    "#     sort_index_ascending=True,\n",
    "# )"
   ]
  },
  {
   "cell_type": "code",
   "execution_count": 13,
   "id": "986795a2",
   "metadata": {},
   "outputs": [
    {
     "data": {
      "text/html": [
       "<style  type=\"text/css\" >\n",
       "#T_c862e_row0_col1{\n",
       "            width:  10em;\n",
       "             height:  80%;\n",
       "            background:  linear-gradient(90deg,#95cff5 94.0%, transparent 94.0%);\n",
       "        }#T_c862e_row0_col3,#T_c862e_row1_col1{\n",
       "            width:  10em;\n",
       "             height:  80%;\n",
       "        }#T_c862e_row1_col3{\n",
       "            width:  10em;\n",
       "             height:  80%;\n",
       "            background:  linear-gradient(90deg,#95cff5 4.3%, transparent 4.3%);\n",
       "        }#T_c862e_row2_col1{\n",
       "            width:  10em;\n",
       "             height:  80%;\n",
       "            background:  linear-gradient(90deg,#95cff5 4.5%, transparent 4.5%);\n",
       "        }#T_c862e_row2_col3{\n",
       "            width:  10em;\n",
       "             height:  80%;\n",
       "            background:  linear-gradient(90deg,#95cff5 10.3%, transparent 10.3%);\n",
       "        }#T_c862e_row3_col1{\n",
       "            width:  10em;\n",
       "             height:  80%;\n",
       "            background:  linear-gradient(90deg,#95cff5 15.5%, transparent 15.5%);\n",
       "        }#T_c862e_row3_col3{\n",
       "            width:  10em;\n",
       "             height:  80%;\n",
       "            background:  linear-gradient(90deg,#95cff5 20.8%, transparent 20.8%);\n",
       "        }#T_c862e_row4_col1{\n",
       "            width:  10em;\n",
       "             height:  80%;\n",
       "            background:  linear-gradient(90deg,#95cff5 46.9%, transparent 46.9%);\n",
       "        }#T_c862e_row4_col3{\n",
       "            width:  10em;\n",
       "             height:  80%;\n",
       "            background:  linear-gradient(90deg,#95cff5 43.8%, transparent 43.8%);\n",
       "        }#T_c862e_row5_col1,#T_c862e_row6_col3{\n",
       "            width:  10em;\n",
       "             height:  80%;\n",
       "            background:  linear-gradient(90deg,#95cff5 100.0%, transparent 100.0%);\n",
       "        }#T_c862e_row5_col3{\n",
       "            width:  10em;\n",
       "             height:  80%;\n",
       "            background:  linear-gradient(90deg,#95cff5 87.9%, transparent 87.9%);\n",
       "        }#T_c862e_row6_col1{\n",
       "            width:  10em;\n",
       "             height:  80%;\n",
       "            background:  linear-gradient(90deg,#95cff5 19.6%, transparent 19.6%);\n",
       "        }</style><table id=\"T_c862e_\" ><thead>    <tr>        <th class=\"blank level0\" ></th>        <th class=\"col_heading level0 col0\" >posts_for_embeddings_count-count</th>        <th class=\"col_heading level0 col1\" >posts_for_embeddings_count-percent</th>        <th class=\"col_heading level0 col2\" >posts_for_embeddings_count-cumulative_sum</th>        <th class=\"col_heading level0 col3\" >posts_for_embeddings_count-pct_cumulative_sum</th>    </tr></thead><tbody>\n",
       "                <tr>\n",
       "                        <th id=\"T_c862e_level0_row0\" class=\"row_heading level0 row0\" >6+ posts</th>\n",
       "                        <td id=\"T_c862e_row0_col0\" class=\"data row0 col0\" >227,368</td>\n",
       "                        <td id=\"T_c862e_row0_col1\" class=\"data row0 col1\" >29.5%</td>\n",
       "                        <td id=\"T_c862e_row0_col2\" class=\"data row0 col2\" >227,368</td>\n",
       "                        <td id=\"T_c862e_row0_col3\" class=\"data row0 col3\" >29.5%</td>\n",
       "            </tr>\n",
       "            <tr>\n",
       "                        <th id=\"T_c862e_level0_row1\" class=\"row_heading level0 row1\" >5 posts</th>\n",
       "                        <td id=\"T_c862e_row1_col0\" class=\"data row1 col0\" >23,205</td>\n",
       "                        <td id=\"T_c862e_row1_col1\" class=\"data row1 col1\" >3.0%</td>\n",
       "                        <td id=\"T_c862e_row1_col2\" class=\"data row1 col2\" >250,573</td>\n",
       "                        <td id=\"T_c862e_row1_col3\" class=\"data row1 col3\" >32.5%</td>\n",
       "            </tr>\n",
       "            <tr>\n",
       "                        <th id=\"T_c862e_level0_row2\" class=\"row_heading level0 row2\" >4 posts</th>\n",
       "                        <td id=\"T_c862e_row2_col0\" class=\"data row2 col0\" >33,084</td>\n",
       "                        <td id=\"T_c862e_row2_col1\" class=\"data row2 col1\" >4.3%</td>\n",
       "                        <td id=\"T_c862e_row2_col2\" class=\"data row2 col2\" >283,657</td>\n",
       "                        <td id=\"T_c862e_row2_col3\" class=\"data row2 col3\" >36.8%</td>\n",
       "            </tr>\n",
       "            <tr>\n",
       "                        <th id=\"T_c862e_level0_row3\" class=\"row_heading level0 row3\" >3 posts</th>\n",
       "                        <td id=\"T_c862e_row3_col0\" class=\"data row3 col0\" >56,898</td>\n",
       "                        <td id=\"T_c862e_row3_col1\" class=\"data row3 col1\" >7.4%</td>\n",
       "                        <td id=\"T_c862e_row3_col2\" class=\"data row3 col2\" >340,555</td>\n",
       "                        <td id=\"T_c862e_row3_col3\" class=\"data row3 col3\" >44.1%</td>\n",
       "            </tr>\n",
       "            <tr>\n",
       "                        <th id=\"T_c862e_level0_row4\" class=\"row_heading level0 row4\" >2 posts</th>\n",
       "                        <td id=\"T_c862e_row4_col0\" class=\"data row4 col0\" >125,070</td>\n",
       "                        <td id=\"T_c862e_row4_col1\" class=\"data row4 col1\" >16.2%</td>\n",
       "                        <td id=\"T_c862e_row4_col2\" class=\"data row4 col2\" >465,625</td>\n",
       "                        <td id=\"T_c862e_row4_col3\" class=\"data row4 col3\" >60.3%</td>\n",
       "            </tr>\n",
       "            <tr>\n",
       "                        <th id=\"T_c862e_level0_row5\" class=\"row_heading level0 row5\" >1 post</th>\n",
       "                        <td id=\"T_c862e_row5_col0\" class=\"data row5 col0\" >240,338</td>\n",
       "                        <td id=\"T_c862e_row5_col1\" class=\"data row5 col1\" >31.1%</td>\n",
       "                        <td id=\"T_c862e_row5_col2\" class=\"data row5 col2\" >705,963</td>\n",
       "                        <td id=\"T_c862e_row5_col3\" class=\"data row5 col3\" >91.5%</td>\n",
       "            </tr>\n",
       "            <tr>\n",
       "                        <th id=\"T_c862e_level0_row6\" class=\"row_heading level0 row6\" >0 posts</th>\n",
       "                        <td id=\"T_c862e_row6_col0\" class=\"data row6 col0\" >65,797</td>\n",
       "                        <td id=\"T_c862e_row6_col1\" class=\"data row6 col1\" >8.5%</td>\n",
       "                        <td id=\"T_c862e_row6_col2\" class=\"data row6 col2\" >771,760</td>\n",
       "                        <td id=\"T_c862e_row6_col3\" class=\"data row6 col3\" >100.0%</td>\n",
       "            </tr>\n",
       "    </tbody></table>"
      ],
      "text/plain": [
       "<pandas.io.formats.style.Styler at 0x7f8b8d2eb990>"
      ]
     },
     "execution_count": 13,
     "metadata": {},
     "output_type": "execute_result"
    }
   ],
   "source": [
    "value_counts_and_pcts(\n",
    "    pd.cut(\n",
    "        df_agg_sub_c['posts_for_embeddings_count'],\n",
    "        bins=[-1, 0, 1, 2, 3, 4, 5, np.inf],\n",
    "        labels=[\"0 posts\", \"1 post\", '2 posts', '3 posts', '4 posts', '5 posts', '6+ posts']\n",
    "    ),\n",
    "    sort_index=True,\n",
    "    sort_index_ascending=False,\n",
    "    cumsum_count=True,\n",
    ")"
   ]
  },
  {
   "cell_type": "markdown",
   "id": "49dc58f9",
   "metadata": {},
   "source": [
    "## Run new function that reshapes & uploads to BQ in a single call\n"
   ]
  },
  {
   "cell_type": "code",
   "execution_count": 15,
   "id": "28446e74",
   "metadata": {},
   "outputs": [
    {
     "name": "stderr",
     "output_type": "stream",
     "text": [
      "03:41:48 | INFO | \"512 <- # embedding columns found\"\n",
      "03:41:48 | INFO | \"(771760, 515) <- Shape of input df\"\n",
      "03:41:49 | INFO | \"Metadata cols to add:\n",
      "  {'mlflow_run_id': 'badc44b0e5ac467da14f710da0b410c6', 'pt': '2022-08-11', 'model_version': 'v0.6.0', 'model_name': 'cau-text-mUSE'}\"\n",
      "03:41:49 | INFO | \"Converting embeddings to repeated format...\"\n",
      "03:42:34 | INFO | \"(771760, 8) <- Shape of new df before converting to JSON\"\n",
      "03:42:34 | INFO | \"df output cols:\n",
      "  ['pt', 'mlflow_run_id', 'model_name', 'model_version', 'subreddit_id', 'subreddit_name', 'posts_for_embeddings_count', 'embeddings']\"\n",
      "03:42:36 | INFO | \"Converting embeddings to JSON...\"\n",
      "03:43:52 | INFO | \"Saving file to:\n",
      "  /home/jupyter/subreddit_clustering_i18n/data/models/aggregate_embeddings/manual_v060_2022-08-31_033019/df_subs_agg_c1_unweighted_ndjson/subreddit_embeddings_2022-08-31_034148.json\"\n",
      "03:43:58 | INFO | \"Logging to run ID: badc44b0e5ac467da14f710da0b410c6, artifact:\n",
      "  df_subs_agg_c1_unweighted_ndjson\"\n",
      "03:45:13 | INFO | \"Logging artifact complete!\"\n",
      "03:46:15 | INFO | \"Creating table from file:\n",
      "gs://i18n-subreddit-clustering/mlflow/mlruns/35/badc44b0e5ac467da14f710da0b410c6/artifacts/df_subs_agg_c1_unweighted_ndjson/subreddit_embeddings_2022-08-31_034148.json\"\n",
      "03:46:16 | INFO | \"Loading data to table:\n",
      "  reddit-employee-datasets.david_bermejo.cau_subreddit_embeddings\"\n",
      "03:46:17 | INFO | \"Created table reddit-employee-datasets.david_bermejo.cau_subreddit_embeddings\"\n",
      "03:46:17 | INFO | \"  0 rows in table BEFORE adding data\"\n",
      "03:47:44 | INFO | \"Updating subreddit description from:\n",
      "  Subreddit-level embeddings. See the wiki for more details. https://reddit.atlassian.net/wiki/spaces/DataScience/pages/2404220935/\n",
      "to:\n",
      "  Subreddit-level embeddings. See the wiki for more details. https://reddit.atlassian.net/wiki/spaces/DataScience/pages/2404220935/\"\n",
      "03:47:45 | INFO | \"  771,760 rows in table AFTER adding data\"\n"
     ]
    },
    {
     "name": "stdout",
     "output_type": "stream",
     "text": [
      "CPU times: user 2min 41s, sys: 38.8 s, total: 3min 19s\n",
      "Wall time: 5min 56s\n"
     ]
    }
   ],
   "source": [
    "%%time\n",
    "\n",
    "reshape_embeddings_and_upload_to_bq(\n",
    "    df_agg_sub_c,\n",
    "    dict_reshape_config=cfg_reshape_embeddings.config_dict,\n",
    "    save_path_local_root=path_this_model,\n",
    "    f_name_prefix='subreddit_embeddings',\n",
    "    embedding_col_prefix='embeddings_',\n",
    ")"
   ]
  },
  {
   "cell_type": "code",
   "execution_count": 22,
   "id": "e0abc2f6",
   "metadata": {},
   "outputs": [],
   "source": [
    "# delete variables for first config to prevent errors on the 2nd config\n",
    "del df_agg_sub_c, cfg_reshape_embeddings_wt, path_this_model"
   ]
  },
  {
   "cell_type": "markdown",
   "id": "23c4f075",
   "metadata": {},
   "source": [
    "# 2nd config for embeddings\n",
    "\n",
    "This one adds extra weight to the subreddit description for subreddits that have fewer than 3 posts.\n",
    "\n",
    "\n"
   ]
  },
  {
   "cell_type": "code",
   "execution_count": 17,
   "id": "2576297c",
   "metadata": {},
   "outputs": [
    {
     "data": {
      "text/plain": [
       "PosixPath('/home/jupyter/subreddit_clustering_i18n/data/models/aggregate_embeddings/manual_v060_2022-08-31_034951')"
      ]
     },
     "execution_count": 17,
     "metadata": {},
     "output_type": "execute_result"
    }
   ],
   "source": [
    "manual_model_timestamp = datetime.utcnow().strftime('%Y-%m-%d_%H%M%S')\n",
    "path_this_model2 = get_project_subfolder(\n",
    "    f\"data/models/aggregate_embeddings/manual_v060_{manual_model_timestamp}\"\n",
    ")\n",
    "Path.mkdir(path_this_model2, parents=True, exist_ok=True)\n",
    "path_this_model2"
   ]
  },
  {
   "cell_type": "code",
   "execution_count": 25,
   "id": "0cee0fdf",
   "metadata": {},
   "outputs": [],
   "source": [
    "cfg_reshape_embeddings_wt = LoadHydraConfig(\n",
    "    config_name='reshape_embeddings_for_bq-subreddit-v0.6.0_desc_extra_weight.yaml',\n",
    "    config_path=\"../config\",\n",
    ")"
   ]
  },
  {
   "cell_type": "code",
   "execution_count": 26,
   "id": "a7e0c576",
   "metadata": {},
   "outputs": [
    {
     "name": "stdout",
     "output_type": "stream",
     "text": [
      "data_text_and_metadata:\n",
      "data_embeddings_to_aggregate:\n",
      "aggregate_params:\n",
      "description: Use this config to reshape embeddings and upload them to BigQuery\n",
      "bucket_output: i18n-subreddit-clustering\n",
      "mlflow_tracking_uri: sqlite\n",
      "mlflow_run_id: badc44b0e5ac467da14f710da0b410c6\n",
      "embeddings_artifact_path: df_subs_agg_c1\n",
      "bq_project: reddit-employee-datasets\n",
      "bq_dataset: david_bermejo\n",
      "bq_table: cau_subreddit_embeddings\n",
      "bq_table_description: Subreddit-level embeddings. See the wiki for more details. https://reddit.atlassian.net/wiki/spaces/DataScience/pages/2404220935/\n",
      "update_table_description: False,\n",
      "pt: 2022-08-10\n",
      "model_version: v0.6.0\n",
      "model_name: cau-text-mUSE extra weight for subreddit description\n",
      "embeddings_config: aggregate_embeddings_v0.6.0\n"
     ]
    }
   ],
   "source": [
    "for k_, v_ in cfg_reshape_embeddings_wt.config_dict.items():\n",
    "    if isinstance(v_, dict):\n",
    "        print(f\"{k_}:\")\n",
    "        for k2_, v2_ in v_.items():\n",
    "            pass\n",
    "            # print(f\"    {k2_}: {v2_}\")\n",
    "    else:\n",
    "        print(f\"{k_}: {v_}\")"
   ]
  },
  {
   "cell_type": "code",
   "execution_count": 27,
   "id": "ad09055b",
   "metadata": {},
   "outputs": [
    {
     "name": "stderr",
     "output_type": "stream",
     "text": [
      "03:51:40 | INFO | \"Local folder to download artifact(s):\n",
      "  /home/jupyter/subreddit_clustering_i18n/data/local_cache/mlflow/mlruns/35/badc44b0e5ac467da14f710da0b410c6/artifacts/df_subs_agg_c1\"\n",
      "100%|###########################################| 13/13 [00:18<00:00,  1.46s/it]\n",
      "03:51:59 | INFO | \"  Parquet files found:     4\"\n",
      "03:51:59 | INFO | \"  Parquet files to use:     4\"\n"
     ]
    },
    {
     "name": "stdout",
     "output_type": "stream",
     "text": [
      "(771760, 515)\n",
      "CPU times: user 20 s, sys: 7.46 s, total: 27.5 s\n",
      "Wall time: 26.9 s\n"
     ]
    }
   ],
   "source": [
    "%%time\n",
    "\n",
    "df_agg_sub_c2 = mlf.read_run_artifact(\n",
    "    run_id=cfg_reshape_embeddings_wt.config_dict['mlflow_run_id'],\n",
    "    artifact_folder=cfg_reshape_embeddings_wt.config_dict['embeddings_artifact_path'],\n",
    "    read_function='pd_parquet',\n",
    "    verbose=False,\n",
    ")\n",
    "print(df_agg_sub_c2.shape)"
   ]
  },
  {
   "cell_type": "markdown",
   "id": "e1fd0c80",
   "metadata": {},
   "source": [
    "## Check distribution of posts for embeddings\n",
    "We'd expect ~340k subs with 3+ posts"
   ]
  },
  {
   "cell_type": "code",
   "execution_count": 28,
   "id": "009abc0c",
   "metadata": {},
   "outputs": [
    {
     "data": {
      "text/plain": [
       "count    771760.000000\n",
       "mean         67.257111\n",
       "std         479.863049\n",
       "min           0.000000\n",
       "25%           1.000000\n",
       "50%           2.000000\n",
       "75%           8.000000\n",
       "max        8400.000000\n",
       "Name: posts_for_embeddings_count, dtype: float64"
      ]
     },
     "execution_count": 28,
     "metadata": {},
     "output_type": "execute_result"
    }
   ],
   "source": [
    "df_agg_sub_c2['posts_for_embeddings_count'].describe()"
   ]
  },
  {
   "cell_type": "code",
   "execution_count": 30,
   "id": "25a762c7",
   "metadata": {},
   "outputs": [
    {
     "data": {
      "text/html": [
       "<style  type=\"text/css\" >\n",
       "#T_28a73_row0_col1{\n",
       "            width:  10em;\n",
       "             height:  80%;\n",
       "            background:  linear-gradient(90deg,#95cff5 94.0%, transparent 94.0%);\n",
       "        }#T_28a73_row0_col3,#T_28a73_row1_col1{\n",
       "            width:  10em;\n",
       "             height:  80%;\n",
       "        }#T_28a73_row1_col3{\n",
       "            width:  10em;\n",
       "             height:  80%;\n",
       "            background:  linear-gradient(90deg,#95cff5 4.3%, transparent 4.3%);\n",
       "        }#T_28a73_row2_col1{\n",
       "            width:  10em;\n",
       "             height:  80%;\n",
       "            background:  linear-gradient(90deg,#95cff5 4.5%, transparent 4.5%);\n",
       "        }#T_28a73_row2_col3{\n",
       "            width:  10em;\n",
       "             height:  80%;\n",
       "            background:  linear-gradient(90deg,#95cff5 10.3%, transparent 10.3%);\n",
       "        }#T_28a73_row3_col1{\n",
       "            width:  10em;\n",
       "             height:  80%;\n",
       "            background:  linear-gradient(90deg,#95cff5 15.5%, transparent 15.5%);\n",
       "        }#T_28a73_row3_col3{\n",
       "            width:  10em;\n",
       "             height:  80%;\n",
       "            background:  linear-gradient(90deg,#95cff5 20.8%, transparent 20.8%);\n",
       "        }#T_28a73_row4_col1{\n",
       "            width:  10em;\n",
       "             height:  80%;\n",
       "            background:  linear-gradient(90deg,#95cff5 46.9%, transparent 46.9%);\n",
       "        }#T_28a73_row4_col3{\n",
       "            width:  10em;\n",
       "             height:  80%;\n",
       "            background:  linear-gradient(90deg,#95cff5 43.8%, transparent 43.8%);\n",
       "        }#T_28a73_row5_col1,#T_28a73_row6_col3{\n",
       "            width:  10em;\n",
       "             height:  80%;\n",
       "            background:  linear-gradient(90deg,#95cff5 100.0%, transparent 100.0%);\n",
       "        }#T_28a73_row5_col3{\n",
       "            width:  10em;\n",
       "             height:  80%;\n",
       "            background:  linear-gradient(90deg,#95cff5 87.9%, transparent 87.9%);\n",
       "        }#T_28a73_row6_col1{\n",
       "            width:  10em;\n",
       "             height:  80%;\n",
       "            background:  linear-gradient(90deg,#95cff5 19.6%, transparent 19.6%);\n",
       "        }</style><table id=\"T_28a73_\" ><thead>    <tr>        <th class=\"blank level0\" ></th>        <th class=\"col_heading level0 col0\" >posts_for_embeddings_count-count</th>        <th class=\"col_heading level0 col1\" >posts_for_embeddings_count-percent</th>        <th class=\"col_heading level0 col2\" >posts_for_embeddings_count-cumulative_sum</th>        <th class=\"col_heading level0 col3\" >posts_for_embeddings_count-pct_cumulative_sum</th>    </tr></thead><tbody>\n",
       "                <tr>\n",
       "                        <th id=\"T_28a73_level0_row0\" class=\"row_heading level0 row0\" >6+ posts</th>\n",
       "                        <td id=\"T_28a73_row0_col0\" class=\"data row0 col0\" >227,368</td>\n",
       "                        <td id=\"T_28a73_row0_col1\" class=\"data row0 col1\" >29.5%</td>\n",
       "                        <td id=\"T_28a73_row0_col2\" class=\"data row0 col2\" >227,368</td>\n",
       "                        <td id=\"T_28a73_row0_col3\" class=\"data row0 col3\" >29.5%</td>\n",
       "            </tr>\n",
       "            <tr>\n",
       "                        <th id=\"T_28a73_level0_row1\" class=\"row_heading level0 row1\" >5 posts</th>\n",
       "                        <td id=\"T_28a73_row1_col0\" class=\"data row1 col0\" >23,205</td>\n",
       "                        <td id=\"T_28a73_row1_col1\" class=\"data row1 col1\" >3.0%</td>\n",
       "                        <td id=\"T_28a73_row1_col2\" class=\"data row1 col2\" >250,573</td>\n",
       "                        <td id=\"T_28a73_row1_col3\" class=\"data row1 col3\" >32.5%</td>\n",
       "            </tr>\n",
       "            <tr>\n",
       "                        <th id=\"T_28a73_level0_row2\" class=\"row_heading level0 row2\" >4 posts</th>\n",
       "                        <td id=\"T_28a73_row2_col0\" class=\"data row2 col0\" >33,084</td>\n",
       "                        <td id=\"T_28a73_row2_col1\" class=\"data row2 col1\" >4.3%</td>\n",
       "                        <td id=\"T_28a73_row2_col2\" class=\"data row2 col2\" >283,657</td>\n",
       "                        <td id=\"T_28a73_row2_col3\" class=\"data row2 col3\" >36.8%</td>\n",
       "            </tr>\n",
       "            <tr>\n",
       "                        <th id=\"T_28a73_level0_row3\" class=\"row_heading level0 row3\" >3 posts</th>\n",
       "                        <td id=\"T_28a73_row3_col0\" class=\"data row3 col0\" >56,898</td>\n",
       "                        <td id=\"T_28a73_row3_col1\" class=\"data row3 col1\" >7.4%</td>\n",
       "                        <td id=\"T_28a73_row3_col2\" class=\"data row3 col2\" >340,555</td>\n",
       "                        <td id=\"T_28a73_row3_col3\" class=\"data row3 col3\" >44.1%</td>\n",
       "            </tr>\n",
       "            <tr>\n",
       "                        <th id=\"T_28a73_level0_row4\" class=\"row_heading level0 row4\" >2 posts</th>\n",
       "                        <td id=\"T_28a73_row4_col0\" class=\"data row4 col0\" >125,070</td>\n",
       "                        <td id=\"T_28a73_row4_col1\" class=\"data row4 col1\" >16.2%</td>\n",
       "                        <td id=\"T_28a73_row4_col2\" class=\"data row4 col2\" >465,625</td>\n",
       "                        <td id=\"T_28a73_row4_col3\" class=\"data row4 col3\" >60.3%</td>\n",
       "            </tr>\n",
       "            <tr>\n",
       "                        <th id=\"T_28a73_level0_row5\" class=\"row_heading level0 row5\" >1 post</th>\n",
       "                        <td id=\"T_28a73_row5_col0\" class=\"data row5 col0\" >240,338</td>\n",
       "                        <td id=\"T_28a73_row5_col1\" class=\"data row5 col1\" >31.1%</td>\n",
       "                        <td id=\"T_28a73_row5_col2\" class=\"data row5 col2\" >705,963</td>\n",
       "                        <td id=\"T_28a73_row5_col3\" class=\"data row5 col3\" >91.5%</td>\n",
       "            </tr>\n",
       "            <tr>\n",
       "                        <th id=\"T_28a73_level0_row6\" class=\"row_heading level0 row6\" >0 posts</th>\n",
       "                        <td id=\"T_28a73_row6_col0\" class=\"data row6 col0\" >65,797</td>\n",
       "                        <td id=\"T_28a73_row6_col1\" class=\"data row6 col1\" >8.5%</td>\n",
       "                        <td id=\"T_28a73_row6_col2\" class=\"data row6 col2\" >771,760</td>\n",
       "                        <td id=\"T_28a73_row6_col3\" class=\"data row6 col3\" >100.0%</td>\n",
       "            </tr>\n",
       "    </tbody></table>"
      ],
      "text/plain": [
       "<pandas.io.formats.style.Styler at 0x7f8b8df10050>"
      ]
     },
     "execution_count": 30,
     "metadata": {},
     "output_type": "execute_result"
    }
   ],
   "source": [
    "value_counts_and_pcts(\n",
    "    pd.cut(\n",
    "        df_agg_sub_c2['posts_for_embeddings_count'],\n",
    "        bins=[-1, 0, 1, 2, 3, 4, 5, np.inf],\n",
    "        labels=[\"0 posts\", \"1 post\", '2 posts', '3 posts', '4 posts', '5 posts', '6+ posts']\n",
    "    ),\n",
    "    sort_index=True,\n",
    "    sort_index_ascending=False,\n",
    "    cumsum_count=True,\n",
    ")"
   ]
  },
  {
   "cell_type": "markdown",
   "id": "338ef5d1",
   "metadata": {},
   "source": [
    "## Run new function that reshapes & uploads to BQ in a single call\n"
   ]
  },
  {
   "cell_type": "code",
   "execution_count": 32,
   "id": "c67a8d43",
   "metadata": {},
   "outputs": [
    {
     "name": "stderr",
     "output_type": "stream",
     "text": [
      "03:58:24 | INFO | \"512 <- # embedding columns found\"\n",
      "03:58:24 | INFO | \"(771760, 515) <- Shape of input df\"\n",
      "03:58:24 | INFO | \"Metadata cols to add:\n",
      "  {'mlflow_run_id': 'badc44b0e5ac467da14f710da0b410c6', 'pt': '2022-08-10', 'model_version': 'v0.6.0', 'model_name': 'cau-text-mUSE extra weight for subreddit description'}\"\n",
      "03:58:24 | INFO | \"Converting embeddings to repeated format...\"\n",
      "03:59:03 | INFO | \"(771760, 8) <- Shape of new df before converting to JSON\"\n",
      "03:59:03 | INFO | \"df output cols:\n",
      "  ['pt', 'mlflow_run_id', 'model_name', 'model_version', 'subreddit_id', 'subreddit_name', 'posts_for_embeddings_count', 'embeddings']\"\n",
      "03:59:03 | INFO | \"Converting embeddings to JSON...\"\n",
      "04:00:15 | INFO | \"Saving file to:\n",
      "  /home/jupyter/subreddit_clustering_i18n/data/models/aggregate_embeddings/manual_v060_2022-08-31_034951/df_subs_agg_c1_ndjson/subreddit_embeddings_2022-08-31_035824.json\"\n",
      "04:00:20 | INFO | \"Logging to run ID: badc44b0e5ac467da14f710da0b410c6, artifact:\n",
      "  df_subs_agg_c1_ndjson\"\n",
      "04:01:44 | INFO | \"Logging artifact complete!\"\n",
      "04:01:57 | INFO | \"Creating table from file:\n",
      "gs://i18n-subreddit-clustering/mlflow/mlruns/35/badc44b0e5ac467da14f710da0b410c6/artifacts/df_subs_agg_c1_ndjson/subreddit_embeddings_2022-08-31_035824.json\"\n",
      "04:01:58 | INFO | \"Loading data to table:\n",
      "  reddit-employee-datasets.david_bermejo.cau_subreddit_embeddings\"\n",
      "04:01:58 | INFO | \"Table reddit-employee-datasets.david_bermejo.cau_subreddit_embeddings already exist\"\n",
      "04:01:58 | INFO | \"  771,760 rows in table BEFORE adding data\"\n",
      "04:02:39 | INFO | \"Updating subreddit description from:\n",
      "  Subreddit-level embeddings. See the wiki for more details. https://reddit.atlassian.net/wiki/spaces/DataScience/pages/2404220935/\n",
      "to:\n",
      "  Subreddit-level embeddings. See the wiki for more details. https://reddit.atlassian.net/wiki/spaces/DataScience/pages/2404220935/\"\n",
      "04:02:39 | INFO | \"  1,543,520 rows in table AFTER adding data\"\n"
     ]
    },
    {
     "name": "stdout",
     "output_type": "stream",
     "text": [
      "CPU times: user 1min 52s, sys: 33.1 s, total: 2min 25s\n",
      "Wall time: 4min 15s\n"
     ]
    }
   ],
   "source": [
    "%%time\n",
    "\n",
    "reshape_embeddings_and_upload_to_bq(\n",
    "    df_agg_sub_c2,\n",
    "    dict_reshape_config=cfg_reshape_embeddings_wt.config_dict,\n",
    "    save_path_local_root=path_this_model2,\n",
    "    f_name_prefix='subreddit_embeddings',\n",
    "    embedding_col_prefix='embeddings_',\n",
    ")"
   ]
  },
  {
   "cell_type": "code",
   "execution_count": null,
   "id": "2877342d",
   "metadata": {},
   "outputs": [],
   "source": []
  }
 ],
 "metadata": {
  "environment": {
   "name": "common-cpu.m65",
   "type": "gcloud",
   "uri": "gcr.io/deeplearning-platform-release/base-cpu:m65"
  },
  "kernelspec": {
   "display_name": "Python [conda env:root] *",
   "language": "python",
   "name": "conda-root-py"
  },
  "language_info": {
   "codemirror_mode": {
    "name": "ipython",
    "version": 3
   },
   "file_extension": ".py",
   "mimetype": "text/x-python",
   "name": "python",
   "nbconvert_exporter": "python",
   "pygments_lexer": "ipython3",
   "version": "3.7.10"
  }
 },
 "nbformat": 4,
 "nbformat_minor": 5
}
