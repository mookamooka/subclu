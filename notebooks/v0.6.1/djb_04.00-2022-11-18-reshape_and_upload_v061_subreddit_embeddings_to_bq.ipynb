{
 "cells": [
  {
   "cell_type": "markdown",
   "id": "4ee51329",
   "metadata": {},
   "source": [
    "# Purpose\n",
    "\n",
    "**2022-08-30: v0.6.0**\n",
    "The default parquet embedding format for my embeddings (1 row per column) is not favored for bigquery & other steam standards.\n",
    "\n",
    "The preferred format is: 1 column that has repeated records. For example:\n",
    "- `data-prod-165221.ml_content.subreddit_embeddings_ft2` \n",
    "    - [console link](https://console.cloud.google.com/bigquery?project=data-science-prod-218515&ws=!1m10!1m4!4m3!1sdata-prod-165221!2sml_content!3ssimilar_subreddit_ft2!1m4!4m3!1sdata-prod-165221!2sml_content!3ssubreddit_embeddings_ft2)\n",
    "    - github link\n",
    "        - https://github.snooguts.net/reddit/gazette-models/blob/master/similar_subreddit/embeddings/__main__.py#L105-L112\n",
    "\n",
    "In this notebook we convert a dataframe into a new-line delimited JSON file. \n",
    "<br>With pandas we can vectorize this function instead of having to loop through each row (subreddit) individually.\n",
    "\n",
    "In this notebook we're loading 2 separate embedding flavors based on the `embeddings_artifact_path` and loading to the BQ in two separate partitions.\n",
    "\n",
    "---\n",
    "\n",
    "```python\n",
    "sr_embedding_dict = {\n",
    "    \"pt\": date_today,\n",
    "    \"model_name\": MODEL_NAME,\n",
    "    \"model_version\": MODEL_VERSION,\n",
    "    \"subreddit_id\": sr_dict[\"subreddit_id\"],\n",
    "    \"subreddit_name\": subreddit_name_lowercase,\n",
    "    \"embedding\": sr_embedding.tolist(),\n",
    "}\n",
    "```\n",
    "\n",
    "In BQ:\n",
    "```\n",
    "Field name\t\tType\tMode\t\tDescription\n",
    "model_name  \tSTRING\tNULLABLE\t\tModel name\t\n",
    "model_version\tSTRING\tNULLABLE\t\tModel version\t\n",
    "subreddit_id\tSTRING\tNULLABLE\t\tSubreddit id\t\n",
    "subreddit_name\tSTRING\tNULLABLE\t\tLower case subreddit name\t\n",
    "**embedding\t\tFLOAT\tREPEATED\t\tSubreddit embeddings\n",
    "```"
   ]
  },
  {
   "cell_type": "markdown",
   "id": "e04ea58e",
   "metadata": {},
   "source": [
    "# Notebook setup"
   ]
  },
  {
   "cell_type": "code",
   "execution_count": 1,
   "id": "756e2eb5",
   "metadata": {},
   "outputs": [],
   "source": [
    "%load_ext autoreload\n",
    "%autoreload 2"
   ]
  },
  {
   "cell_type": "code",
   "execution_count": 2,
   "id": "05e00514",
   "metadata": {},
   "outputs": [
    {
     "name": "stdout",
     "output_type": "stream",
     "text": [
      "python\t\tv 3.7.10\n",
      "===\n",
      "hydra\t\tv: 1.1.0\n",
      "mlflow\t\tv: 1.16.0\n",
      "numpy\t\tv: 1.19.5\n",
      "pandas\t\tv: 1.2.4\n",
      "subclu\t\tv: 0.6.1\n"
     ]
    }
   ],
   "source": [
    "from datetime import datetime, timedelta\n",
    "import os\n",
    "import logging\n",
    "from logging import info\n",
    "from pathlib import Path\n",
    "from pprint import pprint\n",
    "\n",
    "import numpy as np\n",
    "import pandas as pd\n",
    "from tqdm.auto import tqdm\n",
    "\n",
    "import mlflow\n",
    "import hydra\n",
    "\n",
    "import subclu\n",
    "from subclu.utils.hydra_config_loader import LoadHydraConfig\n",
    "from subclu.utils import set_working_directory, get_project_subfolder\n",
    "from subclu.utils.eda import (\n",
    "    setup_logging, counts_describe, value_counts_and_pcts,\n",
    "    notebook_display_config, print_lib_versions,\n",
    "    style_df_numeric,\n",
    "    elapsed_time,\n",
    ")\n",
    "\n",
    "from subclu.utils.mlflow_logger import MlflowLogger\n",
    "from subclu.models.bq_embedding_schemas import embeddings_schema\n",
    "from subclu.models.reshape_embeddings_for_bq import reshape_embeddings_to_ndjson, reshape_embeddings_and_upload_to_bq\n",
    "from subclu.utils.big_query_utils import load_data_to_bq_table\n",
    "\n",
    "print_lib_versions([hydra, mlflow, np, pd, subclu])"
   ]
  },
  {
   "cell_type": "code",
   "execution_count": 3,
   "id": "ad3efab2",
   "metadata": {},
   "outputs": [],
   "source": [
    "# plotting\n",
    "import matplotlib.pyplot as plt\n",
    "import matplotlib.ticker as mtick\n",
    "import matplotlib.dates as mdates\n",
    "plt.style.use('default')\n",
    "\n",
    "setup_logging()\n",
    "notebook_display_config()"
   ]
  },
  {
   "cell_type": "markdown",
   "id": "aaf6bb62",
   "metadata": {},
   "source": [
    "# Set Local model path (for saving)\n",
    "\n",
    "Why? We need to reshape the embeddings and save them locally before uploading them to mlflow."
   ]
  },
  {
   "cell_type": "code",
   "execution_count": 4,
   "id": "ef5ba305",
   "metadata": {},
   "outputs": [
    {
     "data": {
      "text/plain": [
       "PosixPath('/home/jupyter/subreddit_clustering_i18n/data/models/aggregate_embeddings/manual_reshape_v061_2022-11-18_163428')"
      ]
     },
     "execution_count": 4,
     "metadata": {},
     "output_type": "execute_result"
    }
   ],
   "source": [
    "manual_model_timestamp = datetime.utcnow().strftime('%Y-%m-%d_%H%M%S')\n",
    "path_this_model = get_project_subfolder(\n",
    "    f\"data/models/aggregate_embeddings/manual_reshape_v061_{manual_model_timestamp}\"\n",
    ")\n",
    "Path.mkdir(path_this_model, parents=True, exist_ok=True)\n",
    "path_this_model"
   ]
  },
  {
   "cell_type": "markdown",
   "id": "33984a83",
   "metadata": {},
   "source": [
    "# Load 1st config for embeddings to reshape and where to save them\n",
    "\n",
    "The embedding aggregation should've been logged to `mlflow` so we should be able to\n",
    "- make calls to mlflow to get the embeddings\n",
    "- add the new embeddings format to the original job\n",
    "\n",
    "\n",
    "\n"
   ]
  },
  {
   "cell_type": "code",
   "execution_count": 14,
   "id": "beff634b",
   "metadata": {},
   "outputs": [],
   "source": [
    "cfg_reshape_embeddings = LoadHydraConfig(\n",
    "    config_name='reshape_embeddings_for_bq-subreddit-v0.6.1.yaml',\n",
    "    config_path=\"../config\",\n",
    ")"
   ]
  },
  {
   "cell_type": "code",
   "execution_count": 16,
   "id": "12354edb",
   "metadata": {},
   "outputs": [
    {
     "name": "stdout",
     "output_type": "stream",
     "text": [
      "data_text_and_metadata:\n",
      "    dataset_name: v0.6.1 inputs. ~110k seed subreddits, ~340k with 3+ posts, ~700k total subreddits\n",
      "    bucket_name: i18n-subreddit-clustering\n",
      "    folder_subreddits_text_and_meta: i18n_topic_model_batch/runs/20221107/subreddits/text\n",
      "    folder_posts_text_and_meta: i18n_topic_model_batch/runs/20221107/posts\n",
      "    folder_comments_text_and_meta: i18n_topic_model_batch/runs/20221107/comments\n",
      "    folder_post_and_comment_text_and_meta: i18n_topic_model_batch/runs/20221107/post_and_comment_text_combined/text_all\n",
      "data_embeddings_to_aggregate:\n",
      "    bucket_embeddings: i18n-subreddit-clustering\n",
      "    post_and_comments_folder_embeddings: i18n_topic_model_batch/runs/20221107/post_and_comment_text_combined/text_all/embedding/2022-11-07_081017\n",
      "    subreddit_desc_folder_embeddings: i18n_topic_model_batch/runs/20221107/subreddits/text/embedding/2022-11-07_074632\n",
      "    col_subreddit_id: subreddit_id\n",
      "aggregate_params:\n",
      "    min_post_and_comment_text_len: 3\n",
      "    agg_post_post_and_comment_weight: 85\n",
      "    agg_post_subreddit_desc_weight: 15\n",
      "description: Use this config to reshape embeddings and upload them to BigQuery\n",
      "bucket_output: i18n-subreddit-clustering\n",
      "mlflow_tracking_uri: sqlite\n",
      "mlflow_run_id: 91ac7ca171024c779c0992f59470c81b\n",
      "embeddings_artifact_path: df_subs_agg_c1_unweighted\n",
      "bq_project: reddit-employee-datasets\n",
      "bq_dataset: david_bermejo\n",
      "bq_table: cau_subreddit_embeddings\n",
      "bq_table_description: Subreddit-level embeddings. See the wiki for more details. https://reddit.atlassian.net/wiki/spaces/DataScience/pages/2404220935/\n",
      "update_table_description: True,\n",
      "pt: 2022-11-07\n",
      "model_version: v0.6.1\n",
      "model_name: cau-text-mUSE\n",
      "embeddings_config: aggregate_embeddings_v0.6.1\n"
     ]
    }
   ],
   "source": [
    "for k_, v_ in cfg_reshape_embeddings.config_dict.items():\n",
    "    if isinstance(v_, dict):\n",
    "        print(f\"{k_}:\")\n",
    "        for k2_, v2_ in v_.items():\n",
    "            pass\n",
    "            print(f\"    {k2_}: {v2_}\")\n",
    "    else:\n",
    "        print(f\"{k_}: {v_}\")"
   ]
  },
  {
   "cell_type": "markdown",
   "id": "01dfb3c9",
   "metadata": {},
   "source": [
    "## Start MLflow\n",
    "We need it to get the paths for artifacts and load subreddit embeddings (based on the mlflow run ID)."
   ]
  },
  {
   "cell_type": "code",
   "execution_count": 9,
   "id": "8281c0e4",
   "metadata": {},
   "outputs": [],
   "source": [
    "mlf = MlflowLogger(tracking_uri=cfg_reshape_embeddings.config_dict['mlflow_tracking_uri'])"
   ]
  },
  {
   "cell_type": "code",
   "execution_count": 10,
   "id": "8b0663fa",
   "metadata": {},
   "outputs": [
    {
     "data": {
      "text/html": [
       "<div>\n",
       "<style scoped>\n",
       "    .dataframe tbody tr th:only-of-type {\n",
       "        vertical-align: middle;\n",
       "    }\n",
       "\n",
       "    .dataframe tbody tr th {\n",
       "        vertical-align: top;\n",
       "    }\n",
       "\n",
       "    .dataframe thead th {\n",
       "        text-align: right;\n",
       "    }\n",
       "</style>\n",
       "<table border=\"1\" class=\"dataframe\">\n",
       "  <thead>\n",
       "    <tr style=\"text-align: right;\">\n",
       "      <th></th>\n",
       "      <th>experiment_id</th>\n",
       "      <th>name</th>\n",
       "      <th>artifact_location</th>\n",
       "      <th>lifecycle_stage</th>\n",
       "    </tr>\n",
       "  </thead>\n",
       "  <tbody>\n",
       "    <tr>\n",
       "      <th>35</th>\n",
       "      <td>35</td>\n",
       "      <td>v0.6.0_mUSE_aggregates</td>\n",
       "      <td>gs://i18n-subreddit-clustering/mlflow/mlruns/35</td>\n",
       "      <td>active</td>\n",
       "    </tr>\n",
       "    <tr>\n",
       "      <th>36</th>\n",
       "      <td>36</td>\n",
       "      <td>v0.6.0_mUSE_clustering_test</td>\n",
       "      <td>gs://i18n-subreddit-clustering/mlflow/mlruns/36</td>\n",
       "      <td>active</td>\n",
       "    </tr>\n",
       "    <tr>\n",
       "      <th>37</th>\n",
       "      <td>37</td>\n",
       "      <td>v0.6.0_mUSE_clustering</td>\n",
       "      <td>gs://i18n-subreddit-clustering/mlflow/mlruns/37</td>\n",
       "      <td>active</td>\n",
       "    </tr>\n",
       "    <tr>\n",
       "      <th>38</th>\n",
       "      <td>38</td>\n",
       "      <td>v0.6.0_nearest_neighbors</td>\n",
       "      <td>gs://i18n-subreddit-clustering/mlflow/mlruns/38</td>\n",
       "      <td>active</td>\n",
       "    </tr>\n",
       "    <tr>\n",
       "      <th>39</th>\n",
       "      <td>39</td>\n",
       "      <td>v0.6.1_mUSE_aggregates_test</td>\n",
       "      <td>gs://i18n-subreddit-clustering/mlflow/mlruns/39</td>\n",
       "      <td>active</td>\n",
       "    </tr>\n",
       "    <tr>\n",
       "      <th>40</th>\n",
       "      <td>40</td>\n",
       "      <td>v0.6.1_mUSE_aggregates</td>\n",
       "      <td>gs://i18n-subreddit-clustering/mlflow/mlruns/40</td>\n",
       "      <td>active</td>\n",
       "    </tr>\n",
       "    <tr>\n",
       "      <th>41</th>\n",
       "      <td>41</td>\n",
       "      <td>v0.6.1_mUSE_clustering_test</td>\n",
       "      <td>gs://i18n-subreddit-clustering/mlflow/mlruns/41</td>\n",
       "      <td>active</td>\n",
       "    </tr>\n",
       "    <tr>\n",
       "      <th>42</th>\n",
       "      <td>42</td>\n",
       "      <td>v0.6.1_mUSE_clustering</td>\n",
       "      <td>gs://i18n-subreddit-clustering/mlflow/mlruns/42</td>\n",
       "      <td>active</td>\n",
       "    </tr>\n",
       "    <tr>\n",
       "      <th>43</th>\n",
       "      <td>43</td>\n",
       "      <td>v0.6.1_nearest_neighbors</td>\n",
       "      <td>gs://i18n-subreddit-clustering/mlflow/mlruns/43</td>\n",
       "      <td>active</td>\n",
       "    </tr>\n",
       "  </tbody>\n",
       "</table>\n",
       "</div>"
      ],
      "text/plain": [
       "   experiment_id                         name                                artifact_location lifecycle_stage\n",
       "35            35       v0.6.0_mUSE_aggregates  gs://i18n-subreddit-clustering/mlflow/mlruns/35          active\n",
       "36            36  v0.6.0_mUSE_clustering_test  gs://i18n-subreddit-clustering/mlflow/mlruns/36          active\n",
       "37            37       v0.6.0_mUSE_clustering  gs://i18n-subreddit-clustering/mlflow/mlruns/37          active\n",
       "38            38     v0.6.0_nearest_neighbors  gs://i18n-subreddit-clustering/mlflow/mlruns/38          active\n",
       "39            39  v0.6.1_mUSE_aggregates_test  gs://i18n-subreddit-clustering/mlflow/mlruns/39          active\n",
       "40            40       v0.6.1_mUSE_aggregates  gs://i18n-subreddit-clustering/mlflow/mlruns/40          active\n",
       "41            41  v0.6.1_mUSE_clustering_test  gs://i18n-subreddit-clustering/mlflow/mlruns/41          active\n",
       "42            42       v0.6.1_mUSE_clustering  gs://i18n-subreddit-clustering/mlflow/mlruns/42          active\n",
       "43            43     v0.6.1_nearest_neighbors  gs://i18n-subreddit-clustering/mlflow/mlruns/43          active"
      ]
     },
     "execution_count": 10,
     "metadata": {},
     "output_type": "execute_result"
    }
   ],
   "source": [
    "mlf.list_experiment_meta(output_format='pandas').tail(9)"
   ]
  },
  {
   "cell_type": "code",
   "execution_count": 11,
   "id": "01cb63da",
   "metadata": {},
   "outputs": [
    {
     "name": "stdout",
     "output_type": "stream",
     "text": [
      "(4, 43)\n",
      "CPU times: user 53.7 ms, sys: 9.22 ms, total: 62.9 ms\n",
      "Wall time: 63.8 ms\n"
     ]
    }
   ],
   "source": [
    "%%time\n",
    "\n",
    "df_mlf = mlf.search_all_runs(experiment_ids=[40])\n",
    "print(df_mlf.shape)"
   ]
  },
  {
   "cell_type": "code",
   "execution_count": 13,
   "id": "bcb8a765",
   "metadata": {},
   "outputs": [
    {
     "data": {
      "text/html": [
       "<div>\n",
       "<style scoped>\n",
       "    .dataframe tbody tr th:only-of-type {\n",
       "        vertical-align: middle;\n",
       "    }\n",
       "\n",
       "    .dataframe tbody tr th {\n",
       "        vertical-align: top;\n",
       "    }\n",
       "\n",
       "    .dataframe thead th {\n",
       "        text-align: right;\n",
       "    }\n",
       "</style>\n",
       "<table border=\"1\" class=\"dataframe\">\n",
       "  <thead>\n",
       "    <tr style=\"text-align: right;\">\n",
       "      <th></th>\n",
       "      <th>run_id</th>\n",
       "      <th>experiment_id</th>\n",
       "      <th>status</th>\n",
       "      <th>artifact_uri</th>\n",
       "      <th>start_time</th>\n",
       "      <th>end_time</th>\n",
       "      <th>metrics.df_v_subs-cols</th>\n",
       "      <th>metrics.df_v_post_comments-cols</th>\n",
       "      <th>metrics.memory_used_percent</th>\n",
       "      <th>metrics.memory_used</th>\n",
       "      <th>metrics.df_v_subs-rows</th>\n",
       "      <th>metrics.memory_free</th>\n",
       "      <th>metrics.time_fxn-data_loading_time</th>\n",
       "    </tr>\n",
       "  </thead>\n",
       "  <tbody>\n",
       "    <tr>\n",
       "      <th>2</th>\n",
       "      <td>91ac7ca171024c779c0992f59470c81b</td>\n",
       "      <td>40</td>\n",
       "      <td>FINISHED</td>\n",
       "      <td>gs://i18n-subreddit-clustering/mlflow/mlruns/40/91ac7ca171024c779c0992f59470c81b/artifacts</td>\n",
       "      <td>2022-11-07 21:38:57.662000+00:00</td>\n",
       "      <td>2022-11-08 08:52:44.944000+00:00</td>\n",
       "      <td>514.0</td>\n",
       "      <td>515.0</td>\n",
       "      <td>0.552656</td>\n",
       "      <td>798566.0</td>\n",
       "      <td>781653.0</td>\n",
       "      <td>1283359.0</td>\n",
       "      <td>5.742884</td>\n",
       "    </tr>\n",
       "  </tbody>\n",
       "</table>\n",
       "</div>"
      ],
      "text/plain": [
       "                             run_id experiment_id    status                                                                                artifact_uri                       start_time                         end_time  metrics.df_v_subs-cols  metrics.df_v_post_comments-cols  \\\n",
       "2  91ac7ca171024c779c0992f59470c81b            40  FINISHED  gs://i18n-subreddit-clustering/mlflow/mlruns/40/91ac7ca171024c779c0992f59470c81b/artifacts 2022-11-07 21:38:57.662000+00:00 2022-11-08 08:52:44.944000+00:00                   514.0                            515.0   \n",
       "\n",
       "   metrics.memory_used_percent  metrics.memory_used  metrics.df_v_subs-rows  metrics.memory_free  metrics.time_fxn-data_loading_time  \n",
       "2                     0.552656             798566.0                781653.0            1283359.0                            5.742884  "
      ]
     },
     "execution_count": 13,
     "metadata": {},
     "output_type": "execute_result"
    }
   ],
   "source": [
    "# only show finished runs\n",
    "df_mlf[df_mlf['status'] == \"FINISHED\"].iloc[:5, :13]"
   ]
  },
  {
   "cell_type": "markdown",
   "id": "fb0b10b6",
   "metadata": {},
   "source": [
    "## Load embeddings"
   ]
  },
  {
   "cell_type": "code",
   "execution_count": 17,
   "id": "98acd25d",
   "metadata": {},
   "outputs": [
    {
     "name": "stderr",
     "output_type": "stream",
     "text": [
      "16:52:34 | INFO | \"Local folder to download artifact(s):\n",
      "  /home/jupyter/subreddit_clustering_i18n/data/local_cache/i18n-subreddit-clustering/mlflow/mlruns/40/91ac7ca171024c779c0992f59470c81b/artifacts/df_subs_agg_c1_unweighted\"\n",
      "100%|#############################################| 6/6 [00:18<00:00,  3.08s/it]\n",
      "16:52:53 | INFO | \"  Parquet files found:     4\"\n",
      "16:52:53 | INFO | \"  Parquet files to use:     4\"\n"
     ]
    },
    {
     "name": "stdout",
     "output_type": "stream",
     "text": [
      "(781653, 515)\n",
      "CPU times: user 19.2 s, sys: 8.91 s, total: 28.1 s\n",
      "Wall time: 26.5 s\n"
     ]
    }
   ],
   "source": [
    "%%time\n",
    "\n",
    "df_agg_sub_c = mlf.read_run_artifact(\n",
    "    run_id=cfg_reshape_embeddings.config_dict['mlflow_run_id'],\n",
    "    artifact_folder=cfg_reshape_embeddings.config_dict['embeddings_artifact_path'],\n",
    "    read_function='pd_parquet',\n",
    "    verbose=False,\n",
    ")\n",
    "print(df_agg_sub_c.shape)"
   ]
  },
  {
   "cell_type": "markdown",
   "id": "48397d6c",
   "metadata": {},
   "source": [
    "## Check distribution of posts for embeddings\n",
    "We'd expect ~340k subs with 3+ posts"
   ]
  },
  {
   "cell_type": "code",
   "execution_count": 18,
   "id": "a187bef2",
   "metadata": {},
   "outputs": [
    {
     "data": {
      "text/plain": [
       "count    781653.000000\n",
       "mean         68.569835\n",
       "std         487.025214\n",
       "min           0.000000\n",
       "25%           1.000000\n",
       "50%           2.000000\n",
       "75%           8.000000\n",
       "max        8400.000000\n",
       "Name: posts_for_embeddings_count, dtype: float64"
      ]
     },
     "execution_count": 18,
     "metadata": {},
     "output_type": "execute_result"
    }
   ],
   "source": [
    "df_agg_sub_c['posts_for_embeddings_count'].describe()"
   ]
  },
  {
   "cell_type": "code",
   "execution_count": 19,
   "id": "69d2bb2e",
   "metadata": {},
   "outputs": [],
   "source": [
    "# value_counts_and_pcts(\n",
    "#     df_agg_sub_c['posts_for_embeddings_count'],\n",
    "#     sort_index=True,\n",
    "#     sort_index_ascending=True,\n",
    "# )"
   ]
  },
  {
   "cell_type": "code",
   "execution_count": 20,
   "id": "8f464f0b",
   "metadata": {},
   "outputs": [
    {
     "data": {
      "text/html": [
       "<style  type=\"text/css\" >\n",
       "#T_475e1_row0_col1{\n",
       "            width:  10em;\n",
       "             height:  80%;\n",
       "            background:  linear-gradient(90deg,#95cff5 98.4%, transparent 98.4%);\n",
       "        }#T_475e1_row0_col3,#T_475e1_row1_col1{\n",
       "            width:  10em;\n",
       "             height:  80%;\n",
       "        }#T_475e1_row1_col3{\n",
       "            width:  10em;\n",
       "             height:  80%;\n",
       "            background:  linear-gradient(90deg,#95cff5 4.3%, transparent 4.3%);\n",
       "        }#T_475e1_row2_col1{\n",
       "            width:  10em;\n",
       "             height:  80%;\n",
       "            background:  linear-gradient(90deg,#95cff5 4.7%, transparent 4.7%);\n",
       "        }#T_475e1_row2_col3{\n",
       "            width:  10em;\n",
       "             height:  80%;\n",
       "            background:  linear-gradient(90deg,#95cff5 10.5%, transparent 10.5%);\n",
       "        }#T_475e1_row3_col1{\n",
       "            width:  10em;\n",
       "             height:  80%;\n",
       "            background:  linear-gradient(90deg,#95cff5 16.1%, transparent 16.1%);\n",
       "        }#T_475e1_row3_col3{\n",
       "            width:  10em;\n",
       "             height:  80%;\n",
       "            background:  linear-gradient(90deg,#95cff5 21.0%, transparent 21.0%);\n",
       "        }#T_475e1_row4_col1{\n",
       "            width:  10em;\n",
       "             height:  80%;\n",
       "            background:  linear-gradient(90deg,#95cff5 49.2%, transparent 49.2%);\n",
       "        }#T_475e1_row4_col3{\n",
       "            width:  10em;\n",
       "             height:  80%;\n",
       "            background:  linear-gradient(90deg,#95cff5 44.3%, transparent 44.3%);\n",
       "        }#T_475e1_row5_col1,#T_475e1_row6_col3{\n",
       "            width:  10em;\n",
       "             height:  80%;\n",
       "            background:  linear-gradient(90deg,#95cff5 100.0%, transparent 100.0%);\n",
       "        }#T_475e1_row5_col3{\n",
       "            width:  10em;\n",
       "             height:  80%;\n",
       "            background:  linear-gradient(90deg,#95cff5 87.3%, transparent 87.3%);\n",
       "        }#T_475e1_row6_col1{\n",
       "            width:  10em;\n",
       "             height:  80%;\n",
       "            background:  linear-gradient(90deg,#95cff5 21.8%, transparent 21.8%);\n",
       "        }</style><table id=\"T_475e1_\" ><thead>    <tr>        <th class=\"blank level0\" ></th>        <th class=\"col_heading level0 col0\" >posts_for_embeddings_count-count</th>        <th class=\"col_heading level0 col1\" >posts_for_embeddings_count-percent</th>        <th class=\"col_heading level0 col2\" >posts_for_embeddings_count-cumulative_sum</th>        <th class=\"col_heading level0 col3\" >posts_for_embeddings_count-pct_cumulative_sum</th>    </tr></thead><tbody>\n",
       "                <tr>\n",
       "                        <th id=\"T_475e1_level0_row0\" class=\"row_heading level0 row0\" >6+ posts</th>\n",
       "                        <td id=\"T_475e1_row0_col0\" class=\"data row0 col0\" >232,401</td>\n",
       "                        <td id=\"T_475e1_row0_col1\" class=\"data row0 col1\" >29.7%</td>\n",
       "                        <td id=\"T_475e1_row0_col2\" class=\"data row0 col2\" >232,401</td>\n",
       "                        <td id=\"T_475e1_row0_col3\" class=\"data row0 col3\" >29.7%</td>\n",
       "            </tr>\n",
       "            <tr>\n",
       "                        <th id=\"T_475e1_level0_row1\" class=\"row_heading level0 row1\" >5 posts</th>\n",
       "                        <td id=\"T_475e1_row1_col0\" class=\"data row1 col0\" >23,732</td>\n",
       "                        <td id=\"T_475e1_row1_col1\" class=\"data row1 col1\" >3.0%</td>\n",
       "                        <td id=\"T_475e1_row1_col2\" class=\"data row1 col2\" >256,133</td>\n",
       "                        <td id=\"T_475e1_row1_col3\" class=\"data row1 col3\" >32.8%</td>\n",
       "            </tr>\n",
       "            <tr>\n",
       "                        <th id=\"T_475e1_level0_row2\" class=\"row_heading level0 row2\" >4 posts</th>\n",
       "                        <td id=\"T_475e1_row2_col0\" class=\"data row2 col0\" >33,723</td>\n",
       "                        <td id=\"T_475e1_row2_col1\" class=\"data row2 col1\" >4.3%</td>\n",
       "                        <td id=\"T_475e1_row2_col2\" class=\"data row2 col2\" >289,856</td>\n",
       "                        <td id=\"T_475e1_row2_col3\" class=\"data row2 col3\" >37.1%</td>\n",
       "            </tr>\n",
       "            <tr>\n",
       "                        <th id=\"T_475e1_level0_row3\" class=\"row_heading level0 row3\" >3 posts</th>\n",
       "                        <td id=\"T_475e1_row3_col0\" class=\"data row3 col0\" >57,946</td>\n",
       "                        <td id=\"T_475e1_row3_col1\" class=\"data row3 col1\" >7.4%</td>\n",
       "                        <td id=\"T_475e1_row3_col2\" class=\"data row3 col2\" >347,802</td>\n",
       "                        <td id=\"T_475e1_row3_col3\" class=\"data row3 col3\" >44.5%</td>\n",
       "            </tr>\n",
       "            <tr>\n",
       "                        <th id=\"T_475e1_level0_row4\" class=\"row_heading level0 row4\" >2 posts</th>\n",
       "                        <td id=\"T_475e1_row4_col0\" class=\"data row4 col0\" >128,068</td>\n",
       "                        <td id=\"T_475e1_row4_col1\" class=\"data row4 col1\" >16.4%</td>\n",
       "                        <td id=\"T_475e1_row4_col2\" class=\"data row4 col2\" >475,870</td>\n",
       "                        <td id=\"T_475e1_row4_col3\" class=\"data row4 col3\" >60.9%</td>\n",
       "            </tr>\n",
       "            <tr>\n",
       "                        <th id=\"T_475e1_level0_row5\" class=\"row_heading level0 row5\" >1 post</th>\n",
       "                        <td id=\"T_475e1_row5_col0\" class=\"data row5 col0\" >235,794</td>\n",
       "                        <td id=\"T_475e1_row5_col1\" class=\"data row5 col1\" >30.2%</td>\n",
       "                        <td id=\"T_475e1_row5_col2\" class=\"data row5 col2\" >711,664</td>\n",
       "                        <td id=\"T_475e1_row5_col3\" class=\"data row5 col3\" >91.0%</td>\n",
       "            </tr>\n",
       "            <tr>\n",
       "                        <th id=\"T_475e1_level0_row6\" class=\"row_heading level0 row6\" >0 posts</th>\n",
       "                        <td id=\"T_475e1_row6_col0\" class=\"data row6 col0\" >69,989</td>\n",
       "                        <td id=\"T_475e1_row6_col1\" class=\"data row6 col1\" >9.0%</td>\n",
       "                        <td id=\"T_475e1_row6_col2\" class=\"data row6 col2\" >781,653</td>\n",
       "                        <td id=\"T_475e1_row6_col3\" class=\"data row6 col3\" >100.0%</td>\n",
       "            </tr>\n",
       "    </tbody></table>"
      ],
      "text/plain": [
       "<pandas.io.formats.style.Styler at 0x7f779805de90>"
      ]
     },
     "execution_count": 20,
     "metadata": {},
     "output_type": "execute_result"
    }
   ],
   "source": [
    "value_counts_and_pcts(\n",
    "    pd.cut(\n",
    "        df_agg_sub_c['posts_for_embeddings_count'],\n",
    "        bins=[-1, 0, 1, 2, 3, 4, 5, np.inf],\n",
    "        labels=[\"0 posts\", \"1 post\", '2 posts', '3 posts', '4 posts', '5 posts', '6+ posts']\n",
    "    ),\n",
    "    sort_index=True,\n",
    "    sort_index_ascending=False,\n",
    "    cumsum_count=True,\n",
    ")"
   ]
  },
  {
   "cell_type": "code",
   "execution_count": 21,
   "id": "374f7e95",
   "metadata": {},
   "outputs": [
    {
     "name": "stderr",
     "output_type": "stream",
     "text": [
      "16:53:07 | INFO | \"512 <- # embedding columns found\"\n",
      "16:53:07 | INFO | \"(781653, 515) <- Shape of input df\"\n",
      "16:53:07 | INFO | \"Metadata cols to add:\n",
      "  {'mlflow_run_id': '91ac7ca171024c779c0992f59470c81b', 'pt': '2022-11-07', 'model_version': 'v0.6.1', 'model_name': 'cau-text-mUSE'}\"\n",
      "16:53:07 | INFO | \"Converting embeddings to repeated format...\"\n",
      "16:53:53 | INFO | \"(781653, 8) <- Shape of new df before converting to JSON\"\n",
      "16:53:53 | INFO | \"df output cols:\n",
      "  ['pt', 'mlflow_run_id', 'model_name', 'model_version', 'subreddit_id', 'subreddit_name', 'posts_for_embeddings_count', 'embeddings']\"\n",
      "16:53:53 | INFO | \"Converting embeddings to JSON...\"\n",
      "16:55:04 | INFO | \"Saving file to:\n",
      "  /home/jupyter/subreddit_clustering_i18n/data/models/aggregate_embeddings/manual_reshape_v061_2022-11-18_163428/df_subs_agg_c1_unweighted_ndjson/subreddit_embeddings_2022-11-18_165307.json\"\n",
      "16:55:10 | INFO | \"Logging to run ID: 91ac7ca171024c779c0992f59470c81b, artifact:\n",
      "  df_subs_agg_c1_unweighted_ndjson\"\n",
      "16:56:27 | INFO | \"Logging artifact complete!\"\n",
      "16:56:39 | INFO | \"Creating table from file:\n",
      "gs://i18n-subreddit-clustering/mlflow/mlruns/40/91ac7ca171024c779c0992f59470c81b/artifacts/df_subs_agg_c1_unweighted_ndjson/subreddit_embeddings_2022-11-18_165307.json\"\n",
      "16:56:41 | INFO | \"Loading data to table:\n",
      "  reddit-employee-datasets.david_bermejo.cau_subreddit_embeddings\"\n",
      "16:56:41 | INFO | \"Table reddit-employee-datasets.david_bermejo.cau_subreddit_embeddings already exist\"\n",
      "16:56:41 | INFO | \"  0 rows in table BEFORE adding data\"\n",
      "16:57:43 | INFO | \"Updating subreddit description from:\n",
      "  Subreddit-level embeddings. See the wiki for more details. https://reddit.atlassian.net/wiki/spaces/DataScience/pages/2404220935/\n",
      "to:\n",
      "  Subreddit-level embeddings. See the wiki for more details. https://reddit.atlassian.net/wiki/spaces/DataScience/pages/2404220935/\"\n",
      "16:57:43 | INFO | \"  781,653 rows in table AFTER adding data\"\n"
     ]
    },
    {
     "name": "stdout",
     "output_type": "stream",
     "text": [
      "CPU times: user 1min 51s, sys: 31.7 s, total: 2min 22s\n",
      "Wall time: 4min 36s\n"
     ]
    }
   ],
   "source": [
    "%%time\n",
    "\n",
    "reshape_embeddings_and_upload_to_bq(\n",
    "    df_agg_sub_c,\n",
    "    dict_reshape_config=cfg_reshape_embeddings.config_dict,\n",
    "    save_path_local_root=path_this_model,\n",
    "    f_name_prefix='subreddit_embeddings',\n",
    "    embedding_col_prefix='embeddings_',\n",
    ")"
   ]
  },
  {
   "cell_type": "markdown",
   "id": "d0d4f4bc",
   "metadata": {},
   "source": [
    "## Run new function that reshapes & uploads to BQ in a single call\n"
   ]
  },
  {
   "cell_type": "code",
   "execution_count": 24,
   "id": "ab1a6e8b",
   "metadata": {},
   "outputs": [],
   "source": [
    "# delete variables for first config to prevent over-writing or re-writing errors on the 2nd config\n",
    "del df_agg_sub_c, cfg_reshape_embeddings, path_this_model"
   ]
  },
  {
   "cell_type": "markdown",
   "id": "ac3b74a5",
   "metadata": {},
   "source": [
    "# 2nd config for embeddings\n",
    "\n",
    "This one adds extra weight to the subreddit description for subreddits that have fewer than 3 posts.\n",
    "\n",
    "\n"
   ]
  },
  {
   "cell_type": "code",
   "execution_count": 25,
   "id": "a06b47e8",
   "metadata": {},
   "outputs": [
    {
     "data": {
      "text/plain": [
       "PosixPath('/home/jupyter/subreddit_clustering_i18n/data/models/aggregate_embeddings/manual_v060_2022-11-18_171028')"
      ]
     },
     "execution_count": 25,
     "metadata": {},
     "output_type": "execute_result"
    }
   ],
   "source": [
    "manual_model_timestamp = datetime.utcnow().strftime('%Y-%m-%d_%H%M%S')\n",
    "path_this_model2 = get_project_subfolder(\n",
    "    f\"data/models/aggregate_embeddings/manual_v060_{manual_model_timestamp}\"\n",
    ")\n",
    "Path.mkdir(path_this_model2, parents=True, exist_ok=True)\n",
    "path_this_model2"
   ]
  },
  {
   "cell_type": "code",
   "execution_count": 26,
   "id": "f86f05b3",
   "metadata": {},
   "outputs": [],
   "source": [
    "cfg_reshape_embeddings_wt = LoadHydraConfig(\n",
    "    config_name='reshape_embeddings_for_bq-subreddit-v0.6.1_desc_extra_weight.yaml',\n",
    "    config_path=\"../config\",\n",
    ")"
   ]
  },
  {
   "cell_type": "code",
   "execution_count": 28,
   "id": "208fceac",
   "metadata": {},
   "outputs": [
    {
     "name": "stdout",
     "output_type": "stream",
     "text": [
      "data_text_and_metadata:\n",
      "    dataset_name: v0.6.1 inputs. ~110k seed subreddits, ~340k with 3+ posts, ~700k total subreddits\n",
      "    bucket_name: i18n-subreddit-clustering\n",
      "    folder_subreddits_text_and_meta: i18n_topic_model_batch/runs/20221107/subreddits/text\n",
      "    folder_posts_text_and_meta: i18n_topic_model_batch/runs/20221107/posts\n",
      "    folder_comments_text_and_meta: i18n_topic_model_batch/runs/20221107/comments\n",
      "    folder_post_and_comment_text_and_meta: i18n_topic_model_batch/runs/20221107/post_and_comment_text_combined/text_all\n",
      "data_embeddings_to_aggregate:\n",
      "    bucket_embeddings: i18n-subreddit-clustering\n",
      "    post_and_comments_folder_embeddings: i18n_topic_model_batch/runs/20221107/post_and_comment_text_combined/text_all/embedding/2022-11-07_081017\n",
      "    subreddit_desc_folder_embeddings: i18n_topic_model_batch/runs/20221107/subreddits/text/embedding/2022-11-07_074632\n",
      "    col_subreddit_id: subreddit_id\n",
      "aggregate_params:\n",
      "    min_post_and_comment_text_len: 3\n",
      "    agg_post_post_and_comment_weight: 85\n",
      "    agg_post_subreddit_desc_weight: 15\n",
      "description: Use this config to reshape embeddings and upload them to BigQuery\n",
      "bucket_output: i18n-subreddit-clustering\n",
      "mlflow_tracking_uri: sqlite\n",
      "mlflow_run_id: 91ac7ca171024c779c0992f59470c81b\n",
      "embeddings_artifact_path: df_subs_agg_c1\n",
      "bq_project: reddit-employee-datasets\n",
      "bq_dataset: david_bermejo\n",
      "bq_table: cau_subreddit_embeddings\n",
      "bq_table_description: Subreddit-level embeddings. See the wiki for more details. https://reddit.atlassian.net/wiki/spaces/DataScience/pages/2404220935/\n",
      "update_table_description: True,\n",
      "pt: 2022-11-08\n",
      "model_version: v0.6.1\n",
      "model_name: cau-text-mUSE extra weight for subreddit description\n",
      "embeddings_config: aggregate_embeddings_v0.6.1\n"
     ]
    }
   ],
   "source": [
    "for k_, v_ in cfg_reshape_embeddings_wt.config_dict.items():\n",
    "    if isinstance(v_, dict):\n",
    "        print(f\"{k_}:\")\n",
    "        for k2_, v2_ in v_.items():\n",
    "            pass\n",
    "            print(f\"    {k2_}: {v2_}\")\n",
    "    else:\n",
    "        print(f\"{k_}: {v_}\")"
   ]
  },
  {
   "cell_type": "code",
   "execution_count": 29,
   "id": "51682942",
   "metadata": {},
   "outputs": [
    {
     "name": "stderr",
     "output_type": "stream",
     "text": [
      "17:10:58 | INFO | \"Local folder to download artifact(s):\n",
      "  /home/jupyter/subreddit_clustering_i18n/data/local_cache/i18n-subreddit-clustering/mlflow/mlruns/40/91ac7ca171024c779c0992f59470c81b/artifacts/df_subs_agg_c1\"\n",
      "100%|########################################| 13/13 [00:00<00:00, 53196.05it/s]\n",
      "17:10:58 | INFO | \"  Parquet files found:     4\"\n",
      "17:10:58 | INFO | \"  Parquet files to use:     4\"\n"
     ]
    },
    {
     "name": "stdout",
     "output_type": "stream",
     "text": [
      "(781653, 515)\n",
      "CPU times: user 9.64 s, sys: 4.72 s, total: 14.4 s\n",
      "Wall time: 27.8 s\n"
     ]
    }
   ],
   "source": [
    "%%time\n",
    "\n",
    "df_agg_sub_c2 = mlf.read_run_artifact(\n",
    "    run_id=cfg_reshape_embeddings_wt.config_dict['mlflow_run_id'],\n",
    "    artifact_folder=cfg_reshape_embeddings_wt.config_dict['embeddings_artifact_path'],\n",
    "    read_function='pd_parquet',\n",
    "    verbose=False,\n",
    ")\n",
    "print(df_agg_sub_c2.shape)"
   ]
  },
  {
   "cell_type": "markdown",
   "id": "dfdaeb60",
   "metadata": {},
   "source": [
    "## Check distribution of posts for embeddings\n",
    "We'd expect ~340k subs with 3+ posts"
   ]
  },
  {
   "cell_type": "code",
   "execution_count": 30,
   "id": "c6952fd3",
   "metadata": {},
   "outputs": [
    {
     "data": {
      "text/plain": [
       "count    781653.000000\n",
       "mean         68.569835\n",
       "std         487.025214\n",
       "min           0.000000\n",
       "25%           1.000000\n",
       "50%           2.000000\n",
       "75%           8.000000\n",
       "max        8400.000000\n",
       "Name: posts_for_embeddings_count, dtype: float64"
      ]
     },
     "execution_count": 30,
     "metadata": {},
     "output_type": "execute_result"
    }
   ],
   "source": [
    "df_agg_sub_c2['posts_for_embeddings_count'].describe()"
   ]
  },
  {
   "cell_type": "code",
   "execution_count": 31,
   "id": "21cd0a87",
   "metadata": {},
   "outputs": [
    {
     "data": {
      "text/html": [
       "<style  type=\"text/css\" >\n",
       "#T_8ad4d_row0_col1{\n",
       "            width:  10em;\n",
       "             height:  80%;\n",
       "            background:  linear-gradient(90deg,#95cff5 98.4%, transparent 98.4%);\n",
       "        }#T_8ad4d_row0_col3,#T_8ad4d_row1_col1{\n",
       "            width:  10em;\n",
       "             height:  80%;\n",
       "        }#T_8ad4d_row1_col3{\n",
       "            width:  10em;\n",
       "             height:  80%;\n",
       "            background:  linear-gradient(90deg,#95cff5 4.3%, transparent 4.3%);\n",
       "        }#T_8ad4d_row2_col1{\n",
       "            width:  10em;\n",
       "             height:  80%;\n",
       "            background:  linear-gradient(90deg,#95cff5 4.7%, transparent 4.7%);\n",
       "        }#T_8ad4d_row2_col3{\n",
       "            width:  10em;\n",
       "             height:  80%;\n",
       "            background:  linear-gradient(90deg,#95cff5 10.5%, transparent 10.5%);\n",
       "        }#T_8ad4d_row3_col1{\n",
       "            width:  10em;\n",
       "             height:  80%;\n",
       "            background:  linear-gradient(90deg,#95cff5 16.1%, transparent 16.1%);\n",
       "        }#T_8ad4d_row3_col3{\n",
       "            width:  10em;\n",
       "             height:  80%;\n",
       "            background:  linear-gradient(90deg,#95cff5 21.0%, transparent 21.0%);\n",
       "        }#T_8ad4d_row4_col1{\n",
       "            width:  10em;\n",
       "             height:  80%;\n",
       "            background:  linear-gradient(90deg,#95cff5 49.2%, transparent 49.2%);\n",
       "        }#T_8ad4d_row4_col3{\n",
       "            width:  10em;\n",
       "             height:  80%;\n",
       "            background:  linear-gradient(90deg,#95cff5 44.3%, transparent 44.3%);\n",
       "        }#T_8ad4d_row5_col1,#T_8ad4d_row6_col3{\n",
       "            width:  10em;\n",
       "             height:  80%;\n",
       "            background:  linear-gradient(90deg,#95cff5 100.0%, transparent 100.0%);\n",
       "        }#T_8ad4d_row5_col3{\n",
       "            width:  10em;\n",
       "             height:  80%;\n",
       "            background:  linear-gradient(90deg,#95cff5 87.3%, transparent 87.3%);\n",
       "        }#T_8ad4d_row6_col1{\n",
       "            width:  10em;\n",
       "             height:  80%;\n",
       "            background:  linear-gradient(90deg,#95cff5 21.8%, transparent 21.8%);\n",
       "        }</style><table id=\"T_8ad4d_\" ><thead>    <tr>        <th class=\"blank level0\" ></th>        <th class=\"col_heading level0 col0\" >posts_for_embeddings_count-count</th>        <th class=\"col_heading level0 col1\" >posts_for_embeddings_count-percent</th>        <th class=\"col_heading level0 col2\" >posts_for_embeddings_count-cumulative_sum</th>        <th class=\"col_heading level0 col3\" >posts_for_embeddings_count-pct_cumulative_sum</th>    </tr></thead><tbody>\n",
       "                <tr>\n",
       "                        <th id=\"T_8ad4d_level0_row0\" class=\"row_heading level0 row0\" >6+ posts</th>\n",
       "                        <td id=\"T_8ad4d_row0_col0\" class=\"data row0 col0\" >232,401</td>\n",
       "                        <td id=\"T_8ad4d_row0_col1\" class=\"data row0 col1\" >29.7%</td>\n",
       "                        <td id=\"T_8ad4d_row0_col2\" class=\"data row0 col2\" >232,401</td>\n",
       "                        <td id=\"T_8ad4d_row0_col3\" class=\"data row0 col3\" >29.7%</td>\n",
       "            </tr>\n",
       "            <tr>\n",
       "                        <th id=\"T_8ad4d_level0_row1\" class=\"row_heading level0 row1\" >5 posts</th>\n",
       "                        <td id=\"T_8ad4d_row1_col0\" class=\"data row1 col0\" >23,732</td>\n",
       "                        <td id=\"T_8ad4d_row1_col1\" class=\"data row1 col1\" >3.0%</td>\n",
       "                        <td id=\"T_8ad4d_row1_col2\" class=\"data row1 col2\" >256,133</td>\n",
       "                        <td id=\"T_8ad4d_row1_col3\" class=\"data row1 col3\" >32.8%</td>\n",
       "            </tr>\n",
       "            <tr>\n",
       "                        <th id=\"T_8ad4d_level0_row2\" class=\"row_heading level0 row2\" >4 posts</th>\n",
       "                        <td id=\"T_8ad4d_row2_col0\" class=\"data row2 col0\" >33,723</td>\n",
       "                        <td id=\"T_8ad4d_row2_col1\" class=\"data row2 col1\" >4.3%</td>\n",
       "                        <td id=\"T_8ad4d_row2_col2\" class=\"data row2 col2\" >289,856</td>\n",
       "                        <td id=\"T_8ad4d_row2_col3\" class=\"data row2 col3\" >37.1%</td>\n",
       "            </tr>\n",
       "            <tr>\n",
       "                        <th id=\"T_8ad4d_level0_row3\" class=\"row_heading level0 row3\" >3 posts</th>\n",
       "                        <td id=\"T_8ad4d_row3_col0\" class=\"data row3 col0\" >57,946</td>\n",
       "                        <td id=\"T_8ad4d_row3_col1\" class=\"data row3 col1\" >7.4%</td>\n",
       "                        <td id=\"T_8ad4d_row3_col2\" class=\"data row3 col2\" >347,802</td>\n",
       "                        <td id=\"T_8ad4d_row3_col3\" class=\"data row3 col3\" >44.5%</td>\n",
       "            </tr>\n",
       "            <tr>\n",
       "                        <th id=\"T_8ad4d_level0_row4\" class=\"row_heading level0 row4\" >2 posts</th>\n",
       "                        <td id=\"T_8ad4d_row4_col0\" class=\"data row4 col0\" >128,068</td>\n",
       "                        <td id=\"T_8ad4d_row4_col1\" class=\"data row4 col1\" >16.4%</td>\n",
       "                        <td id=\"T_8ad4d_row4_col2\" class=\"data row4 col2\" >475,870</td>\n",
       "                        <td id=\"T_8ad4d_row4_col3\" class=\"data row4 col3\" >60.9%</td>\n",
       "            </tr>\n",
       "            <tr>\n",
       "                        <th id=\"T_8ad4d_level0_row5\" class=\"row_heading level0 row5\" >1 post</th>\n",
       "                        <td id=\"T_8ad4d_row5_col0\" class=\"data row5 col0\" >235,794</td>\n",
       "                        <td id=\"T_8ad4d_row5_col1\" class=\"data row5 col1\" >30.2%</td>\n",
       "                        <td id=\"T_8ad4d_row5_col2\" class=\"data row5 col2\" >711,664</td>\n",
       "                        <td id=\"T_8ad4d_row5_col3\" class=\"data row5 col3\" >91.0%</td>\n",
       "            </tr>\n",
       "            <tr>\n",
       "                        <th id=\"T_8ad4d_level0_row6\" class=\"row_heading level0 row6\" >0 posts</th>\n",
       "                        <td id=\"T_8ad4d_row6_col0\" class=\"data row6 col0\" >69,989</td>\n",
       "                        <td id=\"T_8ad4d_row6_col1\" class=\"data row6 col1\" >9.0%</td>\n",
       "                        <td id=\"T_8ad4d_row6_col2\" class=\"data row6 col2\" >781,653</td>\n",
       "                        <td id=\"T_8ad4d_row6_col3\" class=\"data row6 col3\" >100.0%</td>\n",
       "            </tr>\n",
       "    </tbody></table>"
      ],
      "text/plain": [
       "<pandas.io.formats.style.Styler at 0x7f778a1f8f10>"
      ]
     },
     "execution_count": 31,
     "metadata": {},
     "output_type": "execute_result"
    }
   ],
   "source": [
    "value_counts_and_pcts(\n",
    "    pd.cut(\n",
    "        df_agg_sub_c2['posts_for_embeddings_count'],\n",
    "        bins=[-1, 0, 1, 2, 3, 4, 5, np.inf],\n",
    "        labels=[\"0 posts\", \"1 post\", '2 posts', '3 posts', '4 posts', '5 posts', '6+ posts']\n",
    "    ),\n",
    "    sort_index=True,\n",
    "    sort_index_ascending=False,\n",
    "    cumsum_count=True,\n",
    ")"
   ]
  },
  {
   "cell_type": "markdown",
   "id": "47de45e3",
   "metadata": {},
   "source": [
    "## Run new function that reshapes & uploads to BQ in a single call\n"
   ]
  },
  {
   "cell_type": "code",
   "execution_count": 32,
   "id": "6a75cd67",
   "metadata": {},
   "outputs": [
    {
     "name": "stderr",
     "output_type": "stream",
     "text": [
      "17:12:17 | INFO | \"512 <- # embedding columns found\"\n",
      "17:12:17 | INFO | \"(781653, 515) <- Shape of input df\"\n",
      "17:12:17 | INFO | \"Metadata cols to add:\n",
      "  {'mlflow_run_id': '91ac7ca171024c779c0992f59470c81b', 'pt': '2022-11-08', 'model_version': 'v0.6.1', 'model_name': 'cau-text-mUSE extra weight for subreddit description'}\"\n",
      "17:12:18 | INFO | \"Converting embeddings to repeated format...\"\n",
      "17:13:03 | INFO | \"(781653, 8) <- Shape of new df before converting to JSON\"\n",
      "17:13:03 | INFO | \"df output cols:\n",
      "  ['pt', 'mlflow_run_id', 'model_name', 'model_version', 'subreddit_id', 'subreddit_name', 'posts_for_embeddings_count', 'embeddings']\"\n",
      "17:13:03 | INFO | \"Converting embeddings to JSON...\"\n",
      "17:14:14 | INFO | \"Saving file to:\n",
      "  /home/jupyter/subreddit_clustering_i18n/data/models/aggregate_embeddings/manual_v060_2022-11-18_171028/df_subs_agg_c1_ndjson/subreddit_embeddings_2022-11-18_171217.json\"\n",
      "17:14:20 | INFO | \"Logging to run ID: 91ac7ca171024c779c0992f59470c81b, artifact:\n",
      "  df_subs_agg_c1_ndjson\"\n",
      "17:15:40 | INFO | \"Logging artifact complete!\"\n",
      "17:15:54 | INFO | \"Creating table from file:\n",
      "gs://i18n-subreddit-clustering/mlflow/mlruns/40/91ac7ca171024c779c0992f59470c81b/artifacts/df_subs_agg_c1_ndjson/subreddit_embeddings_2022-11-18_171217.json\"\n",
      "17:15:55 | INFO | \"Loading data to table:\n",
      "  reddit-employee-datasets.david_bermejo.cau_subreddit_embeddings\"\n",
      "17:15:55 | INFO | \"Table reddit-employee-datasets.david_bermejo.cau_subreddit_embeddings already exist\"\n",
      "17:15:56 | INFO | \"  781,653 rows in table BEFORE adding data\"\n",
      "17:17:19 | INFO | \"Updating subreddit description from:\n",
      "  Subreddit-level embeddings. See the wiki for more details. https://reddit.atlassian.net/wiki/spaces/DataScience/pages/2404220935/\n",
      "to:\n",
      "  Subreddit-level embeddings. See the wiki for more details. https://reddit.atlassian.net/wiki/spaces/DataScience/pages/2404220935/\"\n",
      "17:17:19 | INFO | \"  1,563,306 rows in table AFTER adding data\"\n"
     ]
    },
    {
     "name": "stdout",
     "output_type": "stream",
     "text": [
      "CPU times: user 1min 51s, sys: 33.2 s, total: 2min 24s\n",
      "Wall time: 5min 1s\n"
     ]
    }
   ],
   "source": [
    "%%time\n",
    "\n",
    "reshape_embeddings_and_upload_to_bq(\n",
    "    df_agg_sub_c2,\n",
    "    dict_reshape_config=cfg_reshape_embeddings_wt.config_dict,\n",
    "    save_path_local_root=path_this_model2,\n",
    "    f_name_prefix='subreddit_embeddings',\n",
    "    embedding_col_prefix='embeddings_',\n",
    ")"
   ]
  },
  {
   "cell_type": "code",
   "execution_count": null,
   "id": "9c74e64d",
   "metadata": {},
   "outputs": [],
   "source": []
  }
 ],
 "metadata": {
  "environment": {
   "name": "common-cpu.m65",
   "type": "gcloud",
   "uri": "gcr.io/deeplearning-platform-release/base-cpu:m65"
  },
  "kernelspec": {
   "display_name": "Python [conda env:root] *",
   "language": "python",
   "name": "conda-root-py"
  },
  "language_info": {
   "codemirror_mode": {
    "name": "ipython",
    "version": 3
   },
   "file_extension": ".py",
   "mimetype": "text/x-python",
   "name": "python",
   "nbconvert_exporter": "python",
   "pygments_lexer": "ipython3",
   "version": "3.7.10"
  }
 },
 "nbformat": 4,
 "nbformat_minor": 5
}
