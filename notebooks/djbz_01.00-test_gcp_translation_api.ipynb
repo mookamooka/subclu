{
 "cells": [
  {
   "cell_type": "markdown",
   "id": "d39df350",
   "metadata": {},
   "source": [
    "# Purpose\n",
    "\n",
    "This notebook template provides generic imports to make it easy to get started with a new  notebook."
   ]
  },
  {
   "cell_type": "markdown",
   "id": "6a0876e9",
   "metadata": {},
   "source": [
    "# Imports & Setup"
   ]
  },
  {
   "cell_type": "code",
   "execution_count": 1,
   "id": "a60a11ff",
   "metadata": {},
   "outputs": [],
   "source": [
    "%load_ext autoreload\n",
    "%autoreload 2"
   ]
  },
  {
   "cell_type": "code",
   "execution_count": 2,
   "id": "f487f47c",
   "metadata": {},
   "outputs": [],
   "source": [
    "# !pip list"
   ]
  },
  {
   "cell_type": "code",
   "execution_count": 3,
   "id": "050da021",
   "metadata": {},
   "outputs": [
    {
     "name": "stdout",
     "output_type": "stream",
     "text": [
      "python\t\tv 3.7.10\n",
      "===\n",
      "numpy\t\tv: 1.19.5\n",
      "pandas\t\tv: 1.2.4\n",
      "plotly\t\tv: 4.14.3\n",
      "seaborn\t\tv: 0.11.1\n",
      "subclu\t\tv: 0.3.1\n"
     ]
    }
   ],
   "source": [
    "from datetime import datetime\n",
    "import logging\n",
    "\n",
    "import numpy as np\n",
    "import pandas as pd\n",
    "import plotly\n",
    "import plotly.express as px\n",
    "import seaborn as sns\n",
    "\n",
    "import mlflow\n",
    "\n",
    "import subclu\n",
    "from subclu.utils import set_working_directory\n",
    "from subclu.utils.eda import (\n",
    "    setup_logging, counts_describe, value_counts_and_pcts,\n",
    "    notebook_display_config, print_lib_versions,\n",
    "    style_df_numeric\n",
    ")\n",
    "from subclu.utils.mlflow_logger import MlflowLogger\n",
    "from subclu.eda.aggregates import compare_raw_v_weighted_language\n",
    "from subclu.utils.data_irl_style import (\n",
    "    get_colormap, theme_dirl\n",
    ")\n",
    "\n",
    "# notebook specific imports\n",
    "import html\n",
    "import io\n",
    "import os\n",
    "\n",
    "# Imports the Google Cloud client libraries\n",
    "from google.api_core.exceptions import AlreadyExists\n",
    "# from google.cloud import texttospeech\n",
    "from google.cloud import translate_v3beta1 as translate3\n",
    "from google.cloud import translate_v2 as translate2\n",
    "# from google.cloud import vision\n",
    "\n",
    "\n",
    "print_lib_versions([np, pd, plotly, sns, subclu])"
   ]
  },
  {
   "cell_type": "code",
   "execution_count": 4,
   "id": "f431c3c8",
   "metadata": {},
   "outputs": [],
   "source": [
    "# plotting\n",
    "import matplotlib.pyplot as plt\n",
    "import matplotlib.ticker as mtick\n",
    "import matplotlib.dates as mdates\n",
    "plt.style.use('default')\n",
    "\n",
    "setup_logging()\n",
    "notebook_display_config()"
   ]
  },
  {
   "cell_type": "markdown",
   "id": "914c3d06",
   "metadata": {},
   "source": [
    "# Make basic call to API\n",
    "\n",
    "\n",
    "Translate v2 docs\n",
    "- https://cloud.google.com/translate/docs/basic/quickstart\n",
    "\n",
    "Translate v3 docs\n",
    "- https://cloud.google.com/translate/docs/advanced/hybrid-glossaries-tutorial"
   ]
  },
  {
   "cell_type": "code",
   "execution_count": 5,
   "id": "19caf49d",
   "metadata": {},
   "outputs": [],
   "source": [
    "# this one uses v3\n",
    "def translate_text_glossary(\n",
    "    text: str,\n",
    "    source_language_code: str = None,\n",
    "    target_language_code: str = 'de',\n",
    "    project_id: str = None,\n",
    "    # glossary_name,\n",
    "):\n",
    "    \"\"\"Translates text to a given language using a glossary\n",
    "\n",
    "    \n",
    "    ARGS\n",
    "    text: String of text to translate\n",
    "    source_language_code: language of input text\n",
    "    target_language_code: language of output text\n",
    "    project_id: GCP project id\n",
    "    glossary_name: name you gave your project's glossary\n",
    "        resource when you created it\n",
    "\n",
    "    RETURNS\n",
    "    String of translated text\n",
    "    \"\"\"\n",
    "\n",
    "    # Instantiates a client\n",
    "    client = translate.TranslationServiceClient()\n",
    "\n",
    "    # Designates the data center location that you want to use\n",
    "    location = \"us-central1\"\n",
    "\n",
    "    #glossary = client.glossary_path(project_id, location, glossary_name)\n",
    "    #glossary_config = translate.TranslateTextGlossaryConfig(glossary=glossary)\n",
    "    \n",
    "    parent = f\"projects/{project_id}/locations/{location}\"\n",
    "\n",
    "    result = client.translate_text(\n",
    "        request={\n",
    "            \"parent\": parent,\n",
    "            \"contents\": [text],\n",
    "            \"mime_type\": \"text/plain\",  # mime types: text/plain, text/html\n",
    "            \"source_language_code\": source_language_code,\n",
    "            \"target_language_code\": target_language_code,\n",
    "            # \"glossary_config\": glossary_config,\n",
    "        }\n",
    "    )\n",
    "\n",
    "    # Extract translated text from API response\n",
    "    return result.glossary_translations[0].translated_text\n"
   ]
  },
  {
   "cell_type": "code",
   "execution_count": 6,
   "id": "aed305d2",
   "metadata": {},
   "outputs": [],
   "source": [
    "def translate_text(\n",
    "    text: str,\n",
    "    source_language: str = None,\n",
    "    target_language: str = 'de', \n",
    "    format_: str = 'text',\n",
    "):\n",
    "    \"\"\"Translates text into the target language.\n",
    "\n",
    "    Target must be an ISO 639-1 language code.\n",
    "    See https://g.co/cloud/translate/v2/translate-reference#supported_languages\n",
    "    \"\"\"\n",
    "    translate_client = translate2.Client()\n",
    "\n",
    "    # Text can also be a sequence of strings, in which case this method\n",
    "    # will return a sequence of results for each text.\n",
    "    result = translate_client.translate(\n",
    "        text, \n",
    "        source_language=source_language, \n",
    "        target_language=target_language,\n",
    "        format_=format_,\n",
    "    )\n",
    "\n",
    "    print(f\"Input Text: {result['input']}\")\n",
    "    print(f\"Translation: {result['translatedText']}\")\n",
    "    print(f\"Detected source language: {result['detectedSourceLanguage']}\")\n",
    "    return result"
   ]
  },
  {
   "cell_type": "code",
   "execution_count": 7,
   "id": "50318b59",
   "metadata": {},
   "outputs": [
    {
     "name": "stdout",
     "output_type": "stream",
     "text": [
      "Input Text: hello! will this translation work?\n",
      "Translation: Hallo! Wird diese Übersetzung funktionieren?\n",
      "Detected source language: en\n"
     ]
    }
   ],
   "source": [
    "r = translate_text('hello! will this translation work?')"
   ]
  },
  {
   "cell_type": "code",
   "execution_count": 8,
   "id": "45b467ec",
   "metadata": {},
   "outputs": [
    {
     "name": "stdout",
     "output_type": "stream",
     "text": [
      "translatedText: Hallo! Wird diese Übersetzung funktionieren?\n",
      "detectedSourceLanguage: en\n",
      "input: hello! will this translation work?\n"
     ]
    }
   ],
   "source": [
    "for k, v in r.items():\n",
    "    print(f\"{k}: {v}\")"
   ]
  },
  {
   "cell_type": "code",
   "execution_count": 9,
   "id": "2b216231",
   "metadata": {},
   "outputs": [
    {
     "data": {
      "text/plain": [
       "\u001b[0;31mSignature:\u001b[0m\n",
       "\u001b[0mtranslate_client\u001b[0m\u001b[0;34m.\u001b[0m\u001b[0mtranslate\u001b[0m\u001b[0;34m(\u001b[0m\u001b[0;34m\u001b[0m\n",
       "\u001b[0;34m\u001b[0m    \u001b[0mvalues\u001b[0m\u001b[0;34m,\u001b[0m\u001b[0;34m\u001b[0m\n",
       "\u001b[0;34m\u001b[0m    \u001b[0mtarget_language\u001b[0m\u001b[0;34m=\u001b[0m\u001b[0;32mNone\u001b[0m\u001b[0;34m,\u001b[0m\u001b[0;34m\u001b[0m\n",
       "\u001b[0;34m\u001b[0m    \u001b[0mformat_\u001b[0m\u001b[0;34m=\u001b[0m\u001b[0;32mNone\u001b[0m\u001b[0;34m,\u001b[0m\u001b[0;34m\u001b[0m\n",
       "\u001b[0;34m\u001b[0m    \u001b[0msource_language\u001b[0m\u001b[0;34m=\u001b[0m\u001b[0;32mNone\u001b[0m\u001b[0;34m,\u001b[0m\u001b[0;34m\u001b[0m\n",
       "\u001b[0;34m\u001b[0m    \u001b[0mcustomization_ids\u001b[0m\u001b[0;34m=\u001b[0m\u001b[0;34m(\u001b[0m\u001b[0;34m)\u001b[0m\u001b[0;34m,\u001b[0m\u001b[0;34m\u001b[0m\n",
       "\u001b[0;34m\u001b[0m    \u001b[0mmodel\u001b[0m\u001b[0;34m=\u001b[0m\u001b[0;32mNone\u001b[0m\u001b[0;34m,\u001b[0m\u001b[0;34m\u001b[0m\n",
       "\u001b[0;34m\u001b[0m\u001b[0;34m)\u001b[0m\u001b[0;34m\u001b[0m\u001b[0;34m\u001b[0m\u001b[0m\n",
       "\u001b[0;31mDocstring:\u001b[0m\n",
       "Translate a string or list of strings.\n",
       "\n",
       "See https://cloud.google.com/translate/docs/translating-text\n",
       "\n",
       ":type values: str or list\n",
       ":param values: String or list of strings to translate.\n",
       "\n",
       ":type target_language: str\n",
       ":param target_language: The language to translate results into. This\n",
       "                        is required by the API and defaults to\n",
       "                        the target language of the current instance.\n",
       "\n",
       ":type format_: str\n",
       ":param format_: (Optional) One of ``text`` or ``html``, to specify\n",
       "                if the input text is plain text or HTML.\n",
       "\n",
       ":type source_language: str\n",
       ":param source_language: (Optional) The language of the text to\n",
       "                        be translated.\n",
       "\n",
       ":type customization_ids: str or list\n",
       ":param customization_ids: (Optional) ID or list of customization IDs\n",
       "                          for translation. Sets the ``cid`` parameter\n",
       "                          in the query.\n",
       "\n",
       ":type model: str\n",
       ":param model: (Optional) The model used to translate the text, such\n",
       "              as ``'base'`` or ``'nmt'``.\n",
       "\n",
       ":rtype: str or list\n",
       ":returns: A list of dictionaries for each queried value. Each\n",
       "          dictionary typically contains three keys (though not\n",
       "          all will be present in all cases)\n",
       "\n",
       "          * ``detectedSourceLanguage``: The detected language (as an\n",
       "            ISO 639-1 language code) of the text.\n",
       "          * ``translatedText``: The translation of the text into the\n",
       "            target language.\n",
       "          * ``input``: The corresponding input value.\n",
       "          * ``model``: The model used to translate the text.\n",
       "\n",
       "          If only a single value is passed, then only a single\n",
       "          dictionary will be returned.\n",
       ":raises: :class:`~exceptions.ValueError` if the number of\n",
       "         values and translations differ.\n",
       "\u001b[0;31mFile:\u001b[0m      /opt/conda/lib/python3.7/site-packages/google/cloud/translate_v2/client.py\n",
       "\u001b[0;31mType:\u001b[0m      method\n"
      ]
     },
     "metadata": {},
     "output_type": "display_data"
    }
   ],
   "source": [
    "translate_client = translate2.Client()\n",
    "\n",
    "?translate_client.translate"
   ]
  },
  {
   "cell_type": "code",
   "execution_count": null,
   "id": "eee16fb6",
   "metadata": {},
   "outputs": [],
   "source": []
  }
 ],
 "metadata": {
  "environment": {
   "name": "common-cpu.m65",
   "type": "gcloud",
   "uri": "gcr.io/deeplearning-platform-release/base-cpu:m65"
  },
  "kernelspec": {
   "display_name": "Python 3",
   "language": "python",
   "name": "python3"
  },
  "language_info": {
   "codemirror_mode": {
    "name": "ipython",
    "version": 3
   },
   "file_extension": ".py",
   "mimetype": "text/x-python",
   "name": "python",
   "nbconvert_exporter": "python",
   "pygments_lexer": "ipython3",
   "version": "3.7.10"
  }
 },
 "nbformat": 4,
 "nbformat_minor": 5
}
