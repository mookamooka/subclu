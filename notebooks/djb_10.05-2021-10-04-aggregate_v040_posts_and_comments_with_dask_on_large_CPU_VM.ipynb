{
 "cells": [
  {
   "cell_type": "markdown",
   "id": "e466ce35",
   "metadata": {},
   "source": [
    "# Purpose\n",
    "\n",
    "2021-08-10: Finally completed testing with sampling <= 10 files. Now ready to run process on full data!\n",
    "\n",
    "Ended up doing it all in dask + pandas + numpy because of problems installing `cuDF`.\n",
    "\n",
    "---\n",
    "2021-08-02: Now that I'm processing millions of comments and posts, I need to re-write the functions to try to do some work in parallel and reduce the amount of data loaded in RAM.\n",
    "\n",
    "- `Dask` seems like a great option to load data and only compute some of it as needed.\n",
    "- `cuDF` could be a way to speed up some computation using GPUs\n",
    "- `Dask-delayed` could be a way to create a task DAG lazily before computing all the aggregates.\n",
    "\n",
    "\n",
    "---\n",
    "\n",
    "In notebook 09 I combined embeddings from posts & subreddits (`djb_09.00-combine_post_and_comments_and_visualize_for_presentation.ipynb`).\n",
    "\n",
    "In this notebook I'll be testing functions that include mlflow so that it's easier to try a lot of different weights to find better respresentations.\n",
    "\n",
    "Take embeddings created by other models & combine them:\n",
    "```\n",
    "new post embeddings = post + comments + subreddit description\n",
    "\n",
    "new subreddit embeddings = new posts (weighted by post length or upvotes?)\n",
    "```"
   ]
  },
  {
   "cell_type": "markdown",
   "id": "c46d0f3a",
   "metadata": {},
   "source": [
    "# Notebook setup"
   ]
  },
  {
   "cell_type": "code",
   "execution_count": null,
   "id": "ea547231",
   "metadata": {},
   "outputs": [],
   "source": [
    "%load_ext autoreload\n",
    "%autoreload 2"
   ]
  },
  {
   "cell_type": "code",
   "execution_count": 2,
   "id": "b4aa0c40",
   "metadata": {},
   "outputs": [
    {
     "name": "stdout",
     "output_type": "stream",
     "text": [
      "python\t\tv 3.7.10\n",
      "===\n",
      "dask\t\tv: 2021.06.0\n",
      "hydra\t\tv: 1.1.0\n",
      "mlflow\t\tv: 1.16.0\n",
      "numpy\t\tv: 1.19.5\n",
      "pandas\t\tv: 1.2.4\n",
      "plotly\t\tv: 4.14.3\n",
      "seaborn\t\tv: 0.11.1\n",
      "subclu\t\tv: 0.4.0\n"
     ]
    }
   ],
   "source": [
    "from datetime import datetime\n",
    "import gc\n",
    "import os\n",
    "import logging\n",
    "from pprint import pprint\n",
    "\n",
    "import numpy as np\n",
    "import pandas as pd\n",
    "import plotly\n",
    "import plotly.express as px\n",
    "import seaborn as sns\n",
    "\n",
    "import dask\n",
    "from dask import dataframe as dd\n",
    "from tqdm.auto import tqdm\n",
    "\n",
    "import mlflow\n",
    "import hydra\n",
    "\n",
    "import subclu\n",
    "from subclu.models.aggregate_embeddings import (\n",
    "    AggregateEmbeddings, AggregateEmbeddingsConfig,\n",
    "    load_config_agg_jupyter, get_dask_df_shape,\n",
    ")\n",
    "\n",
    "from subclu.utils import set_working_directory\n",
    "from subclu.utils.eda import (\n",
    "    setup_logging, counts_describe, value_counts_and_pcts,\n",
    "    notebook_display_config, print_lib_versions,\n",
    "    style_df_numeric\n",
    ")\n",
    "from subclu.utils.mlflow_logger import MlflowLogger, save_pd_df_to_parquet_in_chunks\n",
    "from subclu.eda.aggregates import (\n",
    "    compare_raw_v_weighted_language\n",
    ")\n",
    "from subclu.utils.data_irl_style import (\n",
    "    get_colormap, theme_dirl\n",
    ")\n",
    "\n",
    "\n",
    "print_lib_versions([dask, hydra, mlflow, np, pd, plotly, sns, subclu])"
   ]
  },
  {
   "cell_type": "code",
   "execution_count": 3,
   "id": "68c74d36",
   "metadata": {},
   "outputs": [],
   "source": [
    "# plotting\n",
    "import matplotlib.pyplot as plt\n",
    "import matplotlib.ticker as mtick\n",
    "import matplotlib.dates as mdates\n",
    "plt.style.use('default')\n",
    "\n",
    "setup_logging()\n",
    "notebook_display_config()"
   ]
  },
  {
   "cell_type": "markdown",
   "id": "709b29c4",
   "metadata": {},
   "source": [
    "# Set sqlite database as MLflow URI"
   ]
  },
  {
   "cell_type": "code",
   "execution_count": 4,
   "id": "5b1d4258",
   "metadata": {},
   "outputs": [
    {
     "data": {
      "text/plain": [
       "'sqlite:////home/jupyter/subreddit_clustering_i18n/mlflow_sync/djb-100-2021-04-28-djb-eda-german-subs/mlruns.db'"
      ]
     },
     "execution_count": 4,
     "metadata": {},
     "output_type": "execute_result"
    }
   ],
   "source": [
    "# use new class to initialize mlflow\n",
    "mlf = MlflowLogger(tracking_uri='sqlite')\n",
    "mlflow.get_tracking_uri()"
   ]
  },
  {
   "cell_type": "markdown",
   "id": "6556764b",
   "metadata": {},
   "source": [
    "## Get list of experiments with new function"
   ]
  },
  {
   "cell_type": "code",
   "execution_count": 5,
   "id": "368f1860",
   "metadata": {},
   "outputs": [
    {
     "data": {
      "text/html": [
       "<div>\n",
       "<style scoped>\n",
       "    .dataframe tbody tr th:only-of-type {\n",
       "        vertical-align: middle;\n",
       "    }\n",
       "\n",
       "    .dataframe tbody tr th {\n",
       "        vertical-align: top;\n",
       "    }\n",
       "\n",
       "    .dataframe thead th {\n",
       "        text-align: right;\n",
       "    }\n",
       "</style>\n",
       "<table border=\"1\" class=\"dataframe\">\n",
       "  <thead>\n",
       "    <tr style=\"text-align: right;\">\n",
       "      <th></th>\n",
       "      <th>experiment_id</th>\n",
       "      <th>name</th>\n",
       "      <th>artifact_location</th>\n",
       "      <th>lifecycle_stage</th>\n",
       "    </tr>\n",
       "  </thead>\n",
       "  <tbody>\n",
       "    <tr>\n",
       "      <th>0</th>\n",
       "      <td>0</td>\n",
       "      <td>Default</td>\n",
       "      <td>./mlruns/0</td>\n",
       "      <td>active</td>\n",
       "    </tr>\n",
       "    <tr>\n",
       "      <th>1</th>\n",
       "      <td>1</td>\n",
       "      <td>fse_v1</td>\n",
       "      <td>gs://i18n-subreddit-clustering/mlflow/mlruns/1</td>\n",
       "      <td>active</td>\n",
       "    </tr>\n",
       "    <tr>\n",
       "      <th>2</th>\n",
       "      <td>2</td>\n",
       "      <td>fse_vectorize_v1</td>\n",
       "      <td>gs://i18n-subreddit-clustering/mlflow/mlruns/2</td>\n",
       "      <td>active</td>\n",
       "    </tr>\n",
       "    <tr>\n",
       "      <th>3</th>\n",
       "      <td>3</td>\n",
       "      <td>subreddit_description_v1</td>\n",
       "      <td>gs://i18n-subreddit-clustering/mlflow/mlruns/3</td>\n",
       "      <td>active</td>\n",
       "    </tr>\n",
       "    <tr>\n",
       "      <th>4</th>\n",
       "      <td>4</td>\n",
       "      <td>fse_vectorize_v1.1</td>\n",
       "      <td>gs://i18n-subreddit-clustering/mlflow/mlruns/4</td>\n",
       "      <td>active</td>\n",
       "    </tr>\n",
       "    <tr>\n",
       "      <th>5</th>\n",
       "      <td>5</td>\n",
       "      <td>use_multilingual_v0.1_test</td>\n",
       "      <td>gs://i18n-subreddit-clustering/mlflow/mlruns/5</td>\n",
       "      <td>active</td>\n",
       "    </tr>\n",
       "    <tr>\n",
       "      <th>6</th>\n",
       "      <td>6</td>\n",
       "      <td>use_multilingual_v1</td>\n",
       "      <td>gs://i18n-subreddit-clustering/mlflow/mlruns/6</td>\n",
       "      <td>active</td>\n",
       "    </tr>\n",
       "    <tr>\n",
       "      <th>7</th>\n",
       "      <td>7</td>\n",
       "      <td>use_multilingual_v1_aggregates_test</td>\n",
       "      <td>gs://i18n-subreddit-clustering/mlflow/mlruns/7</td>\n",
       "      <td>active</td>\n",
       "    </tr>\n",
       "    <tr>\n",
       "      <th>8</th>\n",
       "      <td>8</td>\n",
       "      <td>use_multilingual_v1_aggregates</td>\n",
       "      <td>gs://i18n-subreddit-clustering/mlflow/mlruns/8</td>\n",
       "      <td>active</td>\n",
       "    </tr>\n",
       "    <tr>\n",
       "      <th>9</th>\n",
       "      <td>9</td>\n",
       "      <td>v0.3.2_use_multi_inference_test</td>\n",
       "      <td>gs://i18n-subreddit-clustering/mlflow/mlruns/9</td>\n",
       "      <td>active</td>\n",
       "    </tr>\n",
       "    <tr>\n",
       "      <th>10</th>\n",
       "      <td>10</td>\n",
       "      <td>v0.3.2_use_multi_inference</td>\n",
       "      <td>gs://i18n-subreddit-clustering/mlflow/mlruns/10</td>\n",
       "      <td>active</td>\n",
       "    </tr>\n",
       "    <tr>\n",
       "      <th>11</th>\n",
       "      <td>11</td>\n",
       "      <td>v0.3.2_use_multi_aggregates_test</td>\n",
       "      <td>gs://i18n-subreddit-clustering/mlflow/mlruns/11</td>\n",
       "      <td>active</td>\n",
       "    </tr>\n",
       "    <tr>\n",
       "      <th>12</th>\n",
       "      <td>12</td>\n",
       "      <td>v0.3.2_use_multi_aggregates</td>\n",
       "      <td>gs://i18n-subreddit-clustering/mlflow/mlruns/12</td>\n",
       "      <td>active</td>\n",
       "    </tr>\n",
       "    <tr>\n",
       "      <th>13</th>\n",
       "      <td>13</td>\n",
       "      <td>v0.4.0_use_multi_inference_test</td>\n",
       "      <td>gs://i18n-subreddit-clustering/mlflow/mlruns/13</td>\n",
       "      <td>active</td>\n",
       "    </tr>\n",
       "    <tr>\n",
       "      <th>14</th>\n",
       "      <td>14</td>\n",
       "      <td>v0.4.0_use_multi_inference</td>\n",
       "      <td>gs://i18n-subreddit-clustering/mlflow/mlruns/14</td>\n",
       "      <td>active</td>\n",
       "    </tr>\n",
       "    <tr>\n",
       "      <th>15</th>\n",
       "      <td>15</td>\n",
       "      <td>v0.4.0_use_multi_aggregates_test</td>\n",
       "      <td>gs://i18n-subreddit-clustering/mlflow/mlruns/15</td>\n",
       "      <td>active</td>\n",
       "    </tr>\n",
       "    <tr>\n",
       "      <th>16</th>\n",
       "      <td>16</td>\n",
       "      <td>v0.4.0_use_multi_aggregates</td>\n",
       "      <td>gs://i18n-subreddit-clustering/mlflow/mlruns/16</td>\n",
       "      <td>active</td>\n",
       "    </tr>\n",
       "  </tbody>\n",
       "</table>\n",
       "</div>"
      ],
      "text/plain": [
       "   experiment_id                                 name                                artifact_location lifecycle_stage\n",
       "0              0                              Default                                       ./mlruns/0          active\n",
       "1              1                               fse_v1   gs://i18n-subreddit-clustering/mlflow/mlruns/1          active\n",
       "2              2                     fse_vectorize_v1   gs://i18n-subreddit-clustering/mlflow/mlruns/2          active\n",
       "3              3             subreddit_description_v1   gs://i18n-subreddit-clustering/mlflow/mlruns/3          active\n",
       "4              4                   fse_vectorize_v1.1   gs://i18n-subreddit-clustering/mlflow/mlruns/4          active\n",
       "5              5           use_multilingual_v0.1_test   gs://i18n-subreddit-clustering/mlflow/mlruns/5          active\n",
       "6              6                  use_multilingual_v1   gs://i18n-subreddit-clustering/mlflow/mlruns/6          active\n",
       "7              7  use_multilingual_v1_aggregates_test   gs://i18n-subreddit-clustering/mlflow/mlruns/7          active\n",
       "8              8       use_multilingual_v1_aggregates   gs://i18n-subreddit-clustering/mlflow/mlruns/8          active\n",
       "9              9      v0.3.2_use_multi_inference_test   gs://i18n-subreddit-clustering/mlflow/mlruns/9          active\n",
       "10            10           v0.3.2_use_multi_inference  gs://i18n-subreddit-clustering/mlflow/mlruns/10          active\n",
       "11            11     v0.3.2_use_multi_aggregates_test  gs://i18n-subreddit-clustering/mlflow/mlruns/11          active\n",
       "12            12          v0.3.2_use_multi_aggregates  gs://i18n-subreddit-clustering/mlflow/mlruns/12          active\n",
       "13            13      v0.4.0_use_multi_inference_test  gs://i18n-subreddit-clustering/mlflow/mlruns/13          active\n",
       "14            14           v0.4.0_use_multi_inference  gs://i18n-subreddit-clustering/mlflow/mlruns/14          active\n",
       "15            15     v0.4.0_use_multi_aggregates_test  gs://i18n-subreddit-clustering/mlflow/mlruns/15          active\n",
       "16            16          v0.4.0_use_multi_aggregates  gs://i18n-subreddit-clustering/mlflow/mlruns/16          active"
      ]
     },
     "execution_count": 5,
     "metadata": {},
     "output_type": "execute_result"
    }
   ],
   "source": [
    "mlf.list_experiment_meta(output_format='pandas')"
   ]
  },
  {
   "cell_type": "markdown",
   "id": "108ecd40",
   "metadata": {},
   "source": [
    "## Get runs that we can use for embeddings aggregation jobs"
   ]
  },
  {
   "cell_type": "code",
   "execution_count": 6,
   "id": "ef9b7cf1",
   "metadata": {},
   "outputs": [
    {
     "name": "stdout",
     "output_type": "stream",
     "text": [
      "CPU times: user 271 ms, sys: 11.2 ms, total: 283 ms\n",
      "Wall time: 284 ms\n"
     ]
    },
    {
     "data": {
      "text/plain": [
       "(118, 104)"
      ]
     },
     "execution_count": 6,
     "metadata": {},
     "output_type": "execute_result"
    }
   ],
   "source": [
    "%%time\n",
    "\n",
    "df_mlf_runs =  mlf.search_all_runs(experiment_ids=[9, '10', 11, 12])\n",
    "df_mlf_runs.shape"
   ]
  },
  {
   "cell_type": "code",
   "execution_count": 7,
   "id": "ac37f6f0",
   "metadata": {},
   "outputs": [
    {
     "data": {
      "text/plain": [
       "(3, 104)"
      ]
     },
     "execution_count": 7,
     "metadata": {},
     "output_type": "execute_result"
    }
   ],
   "source": [
    "mask_finished = df_mlf_runs['status'] == 'FINISHED'\n",
    "mask_output_over_1M_rows = (\n",
    "    (df_mlf_runs['metrics.df_vect_posts_rows'] >= 1e6) |\n",
    "    (df_mlf_runs['metrics.df_vect_comments'] >= 1e6)\n",
    ")\n",
    "# df_mlf_runs[mask_finished].shape\n",
    "\n",
    "df_mlf_use_for_agg = df_mlf_runs[mask_output_over_1M_rows]\n",
    "df_mlf_use_for_agg.shape"
   ]
  },
  {
   "cell_type": "code",
   "execution_count": 8,
   "id": "c367b4d9",
   "metadata": {},
   "outputs": [
    {
     "data": {
      "text/html": [
       "<style  type=\"text/css\" >\n",
       "</style><table id=\"T_ac8a1_\" ><thead>    <tr>        <th class=\"blank level0\" ></th>        <th class=\"col_heading level0 col0\" >run id</th>        <th class=\"col_heading level0 col1\" >experiment id</th>        <th class=\"col_heading level0 col2\" >status</th>        <th class=\"col_heading level0 col3\" >start time</th>        <th class=\"col_heading level0 col4\" >metrics.vectorizing time minutes comments</th>        <th class=\"col_heading level0 col5\" >metrics.df vect subreddits description cols</th>        <th class=\"col_heading level0 col6\" >metrics.df vect posts rows</th>        <th class=\"col_heading level0 col7\" >metrics.vectorizing time minutes subreddit meta</th>        <th class=\"col_heading level0 col8\" >metrics.total comment files processed</th>        <th class=\"col_heading level0 col9\" >metrics.df vect subreddits description rows</th>        <th class=\"col_heading level0 col10\" >metrics.vectorizing time minutes posts</th>        <th class=\"col_heading level0 col11\" >metrics.df vect posts cols</th>        <th class=\"col_heading level0 col12\" >metrics.df vect comments</th>        <th class=\"col_heading level0 col13\" >metrics.vectorizing time minutes full function</th>        <th class=\"col_heading level0 col14\" >params.tf limit first n chars</th>        <th class=\"col_heading level0 col15\" >params.tokenize lowercase</th>        <th class=\"col_heading level0 col16\" >params.posts path</th>        <th class=\"col_heading level0 col17\" >params.tf batch inference rows</th>        <th class=\"col_heading level0 col18\" >params.subreddits path</th>        <th class=\"col_heading level0 col19\" >params.batch comment files</th>        <th class=\"col_heading level0 col20\" >tags.mlflow.source.git.commit</th>        <th class=\"col_heading level0 col21\" >tags.mlflow.runName</th>    </tr></thead><tbody>\n",
       "                <tr>\n",
       "                        <th id=\"T_ac8a1_level0_row0\" class=\"row_heading level0 row0\" >95</th>\n",
       "                        <td id=\"T_ac8a1_row0_col0\" class=\"data row0 col0\" >a948e9fd651545f997430cddc6b529eb</td>\n",
       "                        <td id=\"T_ac8a1_row0_col1\" class=\"data row0 col1\" >10</td>\n",
       "                        <td id=\"T_ac8a1_row0_col2\" class=\"data row0 col2\" >FINISHED</td>\n",
       "                        <td id=\"T_ac8a1_row0_col3\" class=\"data row0 col3\" >2021-07-29 23:02:33.997000+00:00</td>\n",
       "                        <td id=\"T_ac8a1_row0_col4\" class=\"data row0 col4\" >145.73</td>\n",
       "                        <td id=\"T_ac8a1_row0_col5\" class=\"data row0 col5\" >514.00</td>\n",
       "                        <td id=\"T_ac8a1_row0_col6\" class=\"data row0 col6\" >1,649,929.00</td>\n",
       "                        <td id=\"T_ac8a1_row0_col7\" class=\"data row0 col7\" >0.08</td>\n",
       "                        <td id=\"T_ac8a1_row0_col8\" class=\"data row0 col8\" >37.00</td>\n",
       "                        <td id=\"T_ac8a1_row0_col9\" class=\"data row0 col9\" >3,767.00</td>\n",
       "                        <td id=\"T_ac8a1_row0_col10\" class=\"data row0 col10\" >14.74</td>\n",
       "                        <td id=\"T_ac8a1_row0_col11\" class=\"data row0 col11\" >515.00</td>\n",
       "                        <td id=\"T_ac8a1_row0_col12\" class=\"data row0 col12\" >19,168,154.00</td>\n",
       "                        <td id=\"T_ac8a1_row0_col13\" class=\"data row0 col13\" >176.77</td>\n",
       "                        <td id=\"T_ac8a1_row0_col14\" class=\"data row0 col14\" >1000</td>\n",
       "                        <td id=\"T_ac8a1_row0_col15\" class=\"data row0 col15\" >True</td>\n",
       "                        <td id=\"T_ac8a1_row0_col16\" class=\"data row0 col16\" >posts/top/2021-07-16</td>\n",
       "                        <td id=\"T_ac8a1_row0_col17\" class=\"data row0 col17\" >2000</td>\n",
       "                        <td id=\"T_ac8a1_row0_col18\" class=\"data row0 col18\" >subreddits/top/2021-07-16</td>\n",
       "                        <td id=\"T_ac8a1_row0_col19\" class=\"data row0 col19\" >True</td>\n",
       "                        <td id=\"T_ac8a1_row0_col20\" class=\"data row0 col20\" >63f5f420fb6b48d8243749cba183071757dac531</td>\n",
       "                        <td id=\"T_ac8a1_row0_col21\" class=\"data row0 col21\" >new_batch_fxn-2021-07-29_230233</td>\n",
       "            </tr>\n",
       "            <tr>\n",
       "                        <th id=\"T_ac8a1_level0_row1\" class=\"row_heading level0 row1\" >97</th>\n",
       "                        <td id=\"T_ac8a1_row1_col0\" class=\"data row1 col0\" >e66c5db26bd64f6da09c012eea700d0a</td>\n",
       "                        <td id=\"T_ac8a1_row1_col1\" class=\"data row1 col1\" >10</td>\n",
       "                        <td id=\"T_ac8a1_row1_col2\" class=\"data row1 col2\" >FINISHED</td>\n",
       "                        <td id=\"T_ac8a1_row1_col3\" class=\"data row1 col3\" >2021-07-29 18:59:48.715000+00:00</td>\n",
       "                        <td id=\"T_ac8a1_row1_col4\" class=\"data row1 col4\" >117.47</td>\n",
       "                        <td id=\"T_ac8a1_row1_col5\" class=\"data row1 col5\" >-</td>\n",
       "                        <td id=\"T_ac8a1_row1_col6\" class=\"data row1 col6\" >-</td>\n",
       "                        <td id=\"T_ac8a1_row1_col7\" class=\"data row1 col7\" >-</td>\n",
       "                        <td id=\"T_ac8a1_row1_col8\" class=\"data row1 col8\" >37.00</td>\n",
       "                        <td id=\"T_ac8a1_row1_col9\" class=\"data row1 col9\" >-</td>\n",
       "                        <td id=\"T_ac8a1_row1_col10\" class=\"data row1 col10\" >-</td>\n",
       "                        <td id=\"T_ac8a1_row1_col11\" class=\"data row1 col11\" >-</td>\n",
       "                        <td id=\"T_ac8a1_row1_col12\" class=\"data row1 col12\" >19,200,854.00</td>\n",
       "                        <td id=\"T_ac8a1_row1_col13\" class=\"data row1 col13\" >133.16</td>\n",
       "                        <td id=\"T_ac8a1_row1_col14\" class=\"data row1 col14\" >850</td>\n",
       "                        <td id=\"T_ac8a1_row1_col15\" class=\"data row1 col15\" >False</td>\n",
       "                        <td id=\"T_ac8a1_row1_col16\" class=\"data row1 col16\" >None</td>\n",
       "                        <td id=\"T_ac8a1_row1_col17\" class=\"data row1 col17\" >6100</td>\n",
       "                        <td id=\"T_ac8a1_row1_col18\" class=\"data row1 col18\" >None</td>\n",
       "                        <td id=\"T_ac8a1_row1_col19\" class=\"data row1 col19\" >True</td>\n",
       "                        <td id=\"T_ac8a1_row1_col20\" class=\"data row1 col20\" >64f49e85a8ef56a6795edf9da9a6f5964cb6830b</td>\n",
       "                        <td id=\"T_ac8a1_row1_col21\" class=\"data row1 col21\" >new_batch_fxn_2021-07-29_185948</td>\n",
       "            </tr>\n",
       "            <tr>\n",
       "                        <th id=\"T_ac8a1_level0_row2\" class=\"row_heading level0 row2\" >106</th>\n",
       "                        <td id=\"T_ac8a1_row2_col0\" class=\"data row2 col0\" >614a38e6690c4f3ba08725b1585b2ee9</td>\n",
       "                        <td id=\"T_ac8a1_row2_col1\" class=\"data row2 col1\" >9</td>\n",
       "                        <td id=\"T_ac8a1_row2_col2\" class=\"data row2 col2\" >KILLED</td>\n",
       "                        <td id=\"T_ac8a1_row2_col3\" class=\"data row2 col3\" >2021-07-29 11:49:53.924000+00:00</td>\n",
       "                        <td id=\"T_ac8a1_row2_col4\" class=\"data row2 col4\" >-</td>\n",
       "                        <td id=\"T_ac8a1_row2_col5\" class=\"data row2 col5\" >514.00</td>\n",
       "                        <td id=\"T_ac8a1_row2_col6\" class=\"data row2 col6\" >1,649,929.00</td>\n",
       "                        <td id=\"T_ac8a1_row2_col7\" class=\"data row2 col7\" >0.07</td>\n",
       "                        <td id=\"T_ac8a1_row2_col8\" class=\"data row2 col8\" >-</td>\n",
       "                        <td id=\"T_ac8a1_row2_col9\" class=\"data row2 col9\" >3,767.00</td>\n",
       "                        <td id=\"T_ac8a1_row2_col10\" class=\"data row2 col10\" >10.01</td>\n",
       "                        <td id=\"T_ac8a1_row2_col11\" class=\"data row2 col11\" >515.00</td>\n",
       "                        <td id=\"T_ac8a1_row2_col12\" class=\"data row2 col12\" >-</td>\n",
       "                        <td id=\"T_ac8a1_row2_col13\" class=\"data row2 col13\" >-</td>\n",
       "                        <td id=\"T_ac8a1_row2_col14\" class=\"data row2 col14\" >1000</td>\n",
       "                        <td id=\"T_ac8a1_row2_col15\" class=\"data row2 col15\" >False</td>\n",
       "                        <td id=\"T_ac8a1_row2_col16\" class=\"data row2 col16\" >posts/top/2021-07-16</td>\n",
       "                        <td id=\"T_ac8a1_row2_col17\" class=\"data row2 col17\" >2100</td>\n",
       "                        <td id=\"T_ac8a1_row2_col18\" class=\"data row2 col18\" >subreddits/top/2021-07-16</td>\n",
       "                        <td id=\"T_ac8a1_row2_col19\" class=\"data row2 col19\" >None</td>\n",
       "                        <td id=\"T_ac8a1_row2_col20\" class=\"data row2 col20\" >64f49e85a8ef56a6795edf9da9a6f5964cb6830b</td>\n",
       "                        <td id=\"T_ac8a1_row2_col21\" class=\"data row2 col21\" >test_new_fxn2021-07-29_114953</td>\n",
       "            </tr>\n",
       "    </tbody></table>"
      ],
      "text/plain": [
       "<pandas.io.formats.style.Styler at 0x7fcafdb5f250>"
      ]
     },
     "execution_count": 8,
     "metadata": {},
     "output_type": "execute_result"
    }
   ],
   "source": [
    "cols_with_multiple_vals = df_mlf_use_for_agg.columns[df_mlf_use_for_agg.nunique(dropna=False) > 1]\n",
    "# len(cols_with_multiple_vals)\n",
    "\n",
    "style_df_numeric(\n",
    "    df_mlf_use_for_agg\n",
    "    [cols_with_multiple_vals]\n",
    "    .drop(['artifact_uri', 'end_time',\n",
    "           # 'start_time',\n",
    "           ], \n",
    "          axis=1)\n",
    "    .dropna(axis='columns', how='all')\n",
    "    .iloc[:, :30]\n",
    "    ,\n",
    "    rename_cols_for_display=True,\n",
    ")"
   ]
  },
  {
   "cell_type": "markdown",
   "id": "a7e9b0cb",
   "metadata": {},
   "source": [
    "# Load configs for aggregation jobs\n",
    "\n",
    "`n_sample_comments_files` and `n_sample_posts_files` allow us to only load a few files at a time (e.g., 2 instead of 50) to test the process end-to-end.\n",
    "\n",
    "---\n",
    "Note that by default `hydra` is a cli tool. If we want to call use it in jupyter, we need to manually initialize configs & compose the configuration. See my custom function `load_config_agg_jupyter`. Also see:\n",
    "- [Notebook with `Hydra` examples in a notebook](https://github.com/facebookresearch/hydra/blob/master/examples/jupyter_notebooks/compose_configs_in_notebook.ipynb).\n",
    "- [Hydra docs, Hydra in Jupyter](https://hydra.cc/docs/next/advanced/jupyter_notebooks/).\n"
   ]
  },
  {
   "cell_type": "code",
   "execution_count": 48,
   "id": "5ee79879",
   "metadata": {},
   "outputs": [],
   "source": [
    "mlflow_experiment_test = 'v0.4.0_use_multi_aggregates_test'\n",
    "mlflow_experiment_full = 'v0.4.0_use_multi_aggregates'\n",
    "\n",
    "root_agg_config_name = 'aggregate_embeddings_v0.4.0'\n",
    "\n",
    "config_test_sample_lc_false = AggregateEmbeddingsConfig(\n",
    "    config_path=\"../config\",\n",
    "    config_name=root_agg_config_name,\n",
    "    overrides=[f\"mlflow_experiment={mlflow_experiment_test}\",\n",
    "               'n_sample_posts_files=4',     # \n",
    "               'n_sample_comments_files=4',  # 6 is limit for logging unique counts at comment level\n",
    "               # 'data_embeddings_to_aggregate=top_subs-2021_07_16-use_multi_lower_case_false',\n",
    "              ]\n",
    ")\n",
    "# config_test_full_lc_false = AggregateEmbeddingsConfig(\n",
    "#     config_path=\"../config\",\n",
    "#     config_name=root_agg_config_name,\n",
    "#     overrides=[f\"mlflow_experiment={mlflow_experiment_test}\",\n",
    "#                'n_sample_posts_files=null', \n",
    "#                'n_sample_comments_files=null',\n",
    "#                # 'data_embeddings_to_aggregate=top_subs-2021_07_16-use_multi_lower_case_false',\n",
    "#               ]\n",
    "# )\n",
    "\n",
    "config_full_lc_false = AggregateEmbeddingsConfig(\n",
    "    config_path=\"../config\",\n",
    "    config_name=root_agg_config_name,\n",
    "    overrides=[f\"mlflow_experiment={mlflow_experiment_full}\",\n",
    "               'n_sample_posts_files=null', \n",
    "               'n_sample_comments_files=null',\n",
    "               # 'data_embeddings_to_aggregate=top_subs-2021_07_16-use_multi_lower_case_false',\n",
    "              ]\n",
    ")\n",
    "\n",
    "# config_full_lc_true = AggregateEmbeddingsConfig(\n",
    "#     config_path=\"../config\",\n",
    "#     config_name='aggregate_embeddings',\n",
    "#     overrides=[f\"mlflow_experiment={mlflow_experiment_full}\",\n",
    "#                'n_sample_posts_files=null', \n",
    "#                'n_sample_comments_files=null',\n",
    "#                'data_embeddings_to_aggregate=top_subs-2021_07_16-use_multi_lower_case_true',\n",
    "#               ]\n",
    "# )\n",
    "# pprint(config_test_sample_lc_false.config_dict, indent=2)"
   ]
  },
  {
   "cell_type": "code",
   "execution_count": null,
   "id": "b2aa37c0",
   "metadata": {},
   "outputs": [],
   "source": [
    "# config_test_sample_lc_false.config_flat,"
   ]
  },
  {
   "cell_type": "code",
   "execution_count": 23,
   "id": "0db1ee9e",
   "metadata": {},
   "outputs": [],
   "source": [
    "df_configs = pd.DataFrame(\n",
    "    [\n",
    "        config_test_sample_lc_false.config_flat,\n",
    "        # config_test_full_lc_false.config_flat,\n",
    "        config_full_lc_false.config_flat,\n",
    "        # config_full_lc_true.config_flat,\n",
    "    ]\n",
    ")"
   ]
  },
  {
   "cell_type": "code",
   "execution_count": 24,
   "id": "a25b52a3",
   "metadata": {},
   "outputs": [
    {
     "data": {
      "text/html": [
       "<div>\n",
       "<style scoped>\n",
       "    .dataframe tbody tr th:only-of-type {\n",
       "        vertical-align: middle;\n",
       "    }\n",
       "\n",
       "    .dataframe tbody tr th {\n",
       "        vertical-align: top;\n",
       "    }\n",
       "\n",
       "    .dataframe thead th {\n",
       "        text-align: right;\n",
       "    }\n",
       "</style>\n",
       "<table border=\"1\" class=\"dataframe\">\n",
       "  <thead>\n",
       "    <tr style=\"text-align: right;\">\n",
       "      <th></th>\n",
       "      <th>comments_vectorized_mlflow_uuids</th>\n",
       "      <th>posts_vectorized_mlflow_uuids</th>\n",
       "      <th>posts_vectorized_mlflow_uuids_lowercase</th>\n",
       "      <th>subreddit_meta_vectorized_mlflow_uuids</th>\n",
       "      <th>subreddit_meta_vectorized_mlflow_uuids_lowercase</th>\n",
       "      <th>comments_uuid</th>\n",
       "      <th>mlflow_experiment</th>\n",
       "    </tr>\n",
       "  </thead>\n",
       "  <tbody>\n",
       "    <tr>\n",
       "      <th>0</th>\n",
       "      <td>[5f10cd75334142168a6ebb787e477c1f, 2fcfefc3d5af43328168d3478b4fdeb6]</td>\n",
       "      <td>[8eef951842a34a6e81d176b15ae74afd]</td>\n",
       "      <td>[537514ab3c724b10903000501802de0e]</td>\n",
       "      <td>[8eef951842a34a6e81d176b15ae74afd]</td>\n",
       "      <td>[537514ab3c724b10903000501802de0e]</td>\n",
       "      <td>[5f10cd75334142168a6ebb787e477c1f, 2fcfefc3d5af43328168d3478b4fdeb6]</td>\n",
       "      <td>v0.4.0_use_multi_aggregates_test</td>\n",
       "    </tr>\n",
       "    <tr>\n",
       "      <th>1</th>\n",
       "      <td>[5f10cd75334142168a6ebb787e477c1f, 2fcfefc3d5af43328168d3478b4fdeb6]</td>\n",
       "      <td>[8eef951842a34a6e81d176b15ae74afd]</td>\n",
       "      <td>[537514ab3c724b10903000501802de0e]</td>\n",
       "      <td>[8eef951842a34a6e81d176b15ae74afd]</td>\n",
       "      <td>[537514ab3c724b10903000501802de0e]</td>\n",
       "      <td>[5f10cd75334142168a6ebb787e477c1f, 2fcfefc3d5af43328168d3478b4fdeb6]</td>\n",
       "      <td>v0.4.0_use_multi_aggregates</td>\n",
       "    </tr>\n",
       "  </tbody>\n",
       "</table>\n",
       "</div>"
      ],
      "text/plain": [
       "                                       comments_vectorized_mlflow_uuids       posts_vectorized_mlflow_uuids posts_vectorized_mlflow_uuids_lowercase subreddit_meta_vectorized_mlflow_uuids subreddit_meta_vectorized_mlflow_uuids_lowercase  \\\n",
       "0  [5f10cd75334142168a6ebb787e477c1f, 2fcfefc3d5af43328168d3478b4fdeb6]  [8eef951842a34a6e81d176b15ae74afd]      [537514ab3c724b10903000501802de0e]     [8eef951842a34a6e81d176b15ae74afd]               [537514ab3c724b10903000501802de0e]   \n",
       "1  [5f10cd75334142168a6ebb787e477c1f, 2fcfefc3d5af43328168d3478b4fdeb6]  [8eef951842a34a6e81d176b15ae74afd]      [537514ab3c724b10903000501802de0e]     [8eef951842a34a6e81d176b15ae74afd]               [537514ab3c724b10903000501802de0e]   \n",
       "\n",
       "                                                          comments_uuid                 mlflow_experiment  \n",
       "0  [5f10cd75334142168a6ebb787e477c1f, 2fcfefc3d5af43328168d3478b4fdeb6]  v0.4.0_use_multi_aggregates_test  \n",
       "1  [5f10cd75334142168a6ebb787e477c1f, 2fcfefc3d5af43328168d3478b4fdeb6]       v0.4.0_use_multi_aggregates  "
      ]
     },
     "execution_count": 24,
     "metadata": {},
     "output_type": "execute_result"
    }
   ],
   "source": [
    "# We can't use (df_configs.nunique(dropna=False) > 1)\n",
    "#  because when a col's content is a list or something unhashable, we get an error\n",
    "#  so instead we'll check each column individually\n",
    "\n",
    "# cols_with_diffs_config = df_configs.columns[df_configs.nunique(dropna=False) > 1]\n",
    "cols_with_diffs_config = list()\n",
    "for c_ in df_configs.columns:\n",
    "    try:\n",
    "        if df_configs[c_].nunique() > 1:\n",
    "            cols_with_diffs_config.append(c_)\n",
    "    except TypeError:\n",
    "        cols_with_diffs_config.append(c_)\n",
    "        \n",
    "\n",
    "df_configs[cols_with_diffs_config]"
   ]
  },
  {
   "cell_type": "code",
   "execution_count": 25,
   "id": "84cb6765",
   "metadata": {},
   "outputs": [
    {
     "name": "stdout",
     "output_type": "stream",
     "text": [
      "{ 'agg_comments_to_post_weight_col': None,\n",
      "  'agg_post_comment_weight': 20,\n",
      "  'agg_post_post_weight': 70,\n",
      "  'agg_post_subreddit_desc_weight': 10,\n",
      "  'agg_post_to_subreddit_weight_col': None,\n",
      "  'bucket_name': 'i18n-subreddit-clustering',\n",
      "  'col_comment_id': 'comment_id',\n",
      "  'col_post_id': 'post_id',\n",
      "  'col_subreddit_id': 'subreddit_id',\n",
      "  'col_text_comment_word_count': 'comment_text_word_count',\n",
      "  'col_text_post_word_count': 'text_word_count',\n",
      "  'comments_folder_embeddings': 'df_vect_comments',\n",
      "  'comments_uuid': [ '5f10cd75334142168a6ebb787e477c1f',\n",
      "                     '2fcfefc3d5af43328168d3478b4fdeb6'],\n",
      "  'comments_vectorized_mlflow_uuids': [ '5f10cd75334142168a6ebb787e477c1f',\n",
      "                                        '2fcfefc3d5af43328168d3478b4fdeb6'],\n",
      "  'comments_vectorized_mlflow_uuids_lowercase': None,\n",
      "  'dataset_name': 'v0.4.0 inputs - Top Subreddits (no Geo) + Geo-relevant '\n",
      "                  'subs, comments: TBD',\n",
      "  'folder_comments_text_and_meta': 'comments/top/2021-10-04',\n",
      "  'folder_posts_text_and_meta': 'posts/top/2021-09-27',\n",
      "  'folder_subreddits_text_and_meta': 'subreddits/top/2021-09-24',\n",
      "  'min_comment_text_len': 10,\n",
      "  'mlflow_experiment': 'v0.4.0_use_multi_aggregates_test',\n",
      "  'mlflow_tracking_uri': 'sqlite',\n",
      "  'n_sample_comments_files': 10,\n",
      "  'n_sample_posts_files': 5,\n",
      "  'posts_folder_embeddings': 'df_vect_posts',\n",
      "  'posts_uuid': '8eef951842a34a6e81d176b15ae74afd',\n",
      "  'posts_vectorized_mlflow_uuids': ['8eef951842a34a6e81d176b15ae74afd'],\n",
      "  'posts_vectorized_mlflow_uuids_lowercase': [ '537514ab3c724b10903000501802de0e'],\n",
      "  'subreddit_desc_folder_embeddings': 'df_vect_subreddits_description',\n",
      "  'subreddit_desc_uuid': '8eef951842a34a6e81d176b15ae74afd',\n",
      "  'subreddit_meta_vectorized_mlflow_uuids': [ '8eef951842a34a6e81d176b15ae74afd'],\n",
      "  'subreddit_meta_vectorized_mlflow_uuids_lowercase': [ '537514ab3c724b10903000501802de0e']}\n"
     ]
    }
   ],
   "source": [
    "pprint(config_test_sample_lc_false.config_flat, indent=2)"
   ]
  },
  {
   "cell_type": "code",
   "execution_count": null,
   "id": "45e9b145",
   "metadata": {},
   "outputs": [],
   "source": [
    "BREAK"
   ]
  },
  {
   "cell_type": "markdown",
   "id": "20cdd0c8",
   "metadata": {},
   "source": [
    "# Initialize a local dask client\n",
    "so that we can see the progress/process for dask jobs.\n",
    "\n",
    "**dask default**: 8 workers with 64 CPUs present<br>\n",
    "I tested: 16 & 12 workers, but they runs out of RAM and job crashes.\n",
    "\n",
    "I rolled back to 8 workers to complete job /prevent OOM errors even if it feels like it's wasting workers, at least it finishes."
   ]
  },
  {
   "cell_type": "code",
   "execution_count": 26,
   "id": "d3198221",
   "metadata": {},
   "outputs": [
    {
     "name": "stdout",
     "output_type": "stream",
     "text": [
      "CPU times: user 478 ms, sys: 220 ms, total: 698 ms\n",
      "Wall time: 2.4 s\n"
     ]
    }
   ],
   "source": [
    "%%time\n",
    "\n",
    "from dask.distributed import Client, LocalCluster\n",
    "\n",
    "# dask default: 8 workers with 64 CPUs present,\n",
    "cluster = LocalCluster(n_workers=8)\n",
    "client = Client(cluster)"
   ]
  },
  {
   "cell_type": "code",
   "execution_count": 27,
   "id": "93a9d1a4",
   "metadata": {},
   "outputs": [
    {
     "data": {
      "text/plain": [
       "'http://127.0.0.1:8787/status'"
      ]
     },
     "execution_count": 27,
     "metadata": {},
     "output_type": "execute_result"
    }
   ],
   "source": [
    "client.dashboard_link"
   ]
  },
  {
   "cell_type": "markdown",
   "id": "9ec0f59c",
   "metadata": {},
   "source": [
    "# Run Full data with `lower_case=False`\n",
    "\n",
    "The logic for sampling files and download/`caching` files locally lives in the `mlf` custom function.\n",
    "\n",
    "Caching can save 9+ minutes if we try to download the files from GCS every time."
   ]
  },
  {
   "cell_type": "code",
   "execution_count": null,
   "id": "8cf7eb72",
   "metadata": {},
   "outputs": [],
   "source": [
    "BREAK"
   ]
  },
  {
   "cell_type": "code",
   "execution_count": null,
   "id": "b9a0cf6e",
   "metadata": {},
   "outputs": [
    {
     "name": "stderr",
     "output_type": "stream",
     "text": [
      "07:02:28 | INFO | \"== Start run_aggregation() method ==\"\n",
      "07:02:28 | INFO | \"MLflow tracking URI: sqlite:////home/jupyter/subreddit_clustering_i18n/mlflow_sync/djb-100-2021-04-28-djb-eda-german-subs/mlruns.db\"\n",
      "07:02:29 | INFO | \"  Local model saving directory: /home/jupyter/subreddit_clustering_i18n/data/models/aggregate_embeddings/2021-08-10_070229-full_lc_false-2021-08-10_070228\"\n",
      "07:02:29 | INFO | \"  Saving config to local path...\"\n",
      "07:02:29 | INFO | \"  Logging config to mlflow...\"\n",
      "07:02:29 | INFO | \"-- Start _load_raw_embeddings() method --\"\n",
      "07:02:29 | INFO | \"Loading subreddit description embeddings...\"\n",
      "07:02:30 | INFO | \"Local folder to download artifact(s):\n",
      "  /home/jupyter/subreddit_clustering_i18n/data/local_cache/mlflow/mlruns/9/614a38e6690c4f3ba08725b1585b2ee9/artifacts/df_vect_subreddits_description\"\n"
     ]
    },
    {
     "data": {
      "application/vnd.jupyter.widget-view+json": {
       "model_id": "0ec89d35884b4a948403369d47dd204e",
       "version_major": 2,
       "version_minor": 0
      },
      "text/plain": [
       "  0%|          | 0/4 [00:00<?, ?it/s]"
      ]
     },
     "metadata": {},
     "output_type": "display_data"
    },
    {
     "name": "stderr",
     "output_type": "stream",
     "text": [
      "07:02:30 | INFO | \"  Reading 1 files\"\n",
      "07:02:31 | INFO | \"       3,767 |  513 <- Raw vectorized subreddit description shape\"\n",
      "07:02:32 | INFO | \"Loading POSTS embeddings...\"\n",
      "07:02:33 | INFO | \"Local folder to download artifact(s):\n",
      "  /home/jupyter/subreddit_clustering_i18n/data/local_cache/mlflow/mlruns/9/614a38e6690c4f3ba08725b1585b2ee9/artifacts/df_vect_posts\"\n"
     ]
    },
    {
     "data": {
      "application/vnd.jupyter.widget-view+json": {
       "model_id": "00edc32ef06146a5a7afab3b751c1fb7",
       "version_major": 2,
       "version_minor": 0
      },
      "text/plain": [
       "  0%|          | 0/51 [00:00<?, ?it/s]"
      ]
     },
     "metadata": {},
     "output_type": "display_data"
    },
    {
     "name": "stderr",
     "output_type": "stream",
     "text": [
      "07:02:33 | INFO | \"  Reading 48 files\"\n",
      "07:02:35 | INFO | \"   1,649,929 |  514 <- Raw POSTS shape\"\n",
      "07:02:38 | INFO | \"Loading COMMENTS embeddings...\"\n",
      "07:02:39 | INFO | \"Local folder to download artifact(s):\n",
      "  /home/jupyter/subreddit_clustering_i18n/data/local_cache/mlflow/mlruns/10/e66c5db26bd64f6da09c012eea700d0a/artifacts/df_vect_comments\"\n"
     ]
    },
    {
     "data": {
      "application/vnd.jupyter.widget-view+json": {
       "model_id": "4ac6e520ec9f4c33b27750bb1048816e",
       "version_major": 2,
       "version_minor": 0
      },
      "text/plain": [
       "  0%|          | 0/38 [00:00<?, ?it/s]"
      ]
     },
     "metadata": {},
     "output_type": "display_data"
    },
    {
     "name": "stderr",
     "output_type": "stream",
     "text": [
      "07:02:39 | INFO | \"  Reading 37 files\"\n",
      "07:02:39 | INFO | \"  0:00:09.844584 <- Total raw embeddings load time elapsed\"\n",
      "07:02:39 | INFO | \"-- Start _agg_comments_to_post_level() method --\"\n",
      "07:02:40 | INFO | \"Getting count of comments per post...\"\n",
      "07:02:55 | WARNING | \"Error creating summary of comments per post.\n",
      "'<=' not supported between instances of 'NoneType' and 'int'\"\n",
      "07:02:55 | INFO | \"Filtering which comments need to be averaged...\"\n",
      "07:04:23 | INFO | \"      128,716 <- Comments that DON'T need to be averaged\"\n",
      "07:04:24 | INFO | \"   19,072,138 <- Comments that need to be averaged\"\n",
      "07:04:24 | INFO | \"No column to weight comments, simple mean for comments at post level\"\n",
      "07:06:14 | INFO | \"      985,894 |  514 <- df_v_com_agg SHAPE\"\n",
      "07:06:14 | INFO | \"  0:03:34.315443 <- Total comments to post agg loading time elapsed\"\n",
      "07:06:14 | INFO | \"-- Start (df_posts_agg_b) _agg_posts_and_comments_to_post_level() method --\"\n",
      "07:06:15 | INFO | \"DEFINE agg_posts_w_comments...\"\n",
      "07:06:16 | INFO | \"  (Delayed('int-e8e786da-22e6-4893-a586-2b056bcc6e58'), 513) <- df_agg_posts_w_comments.shape (only posts with comments)\"\n",
      "07:06:16 | INFO | \"Concat aggregated comments+posts with posts-without comments\"\n",
      "07:35:35 | INFO | \"    1,656,122 |  514 <- df_posts_agg_c shape after aggregation\"\n",
      "07:35:35 | INFO | \"  0:20:20.180715 <- Total (df_posts_agg_c) posts+comments+subs agg time elapsed\"\n",
      "07:35:35 | INFO | \"-- Start _agg_post_aggregates_to_subreddit_level() method --\"\n",
      "07:35:35 | INFO | \"No column to weight comments, simple mean to roll up posts to subreddit-level...\"\n",
      "07:35:35 | INFO | \"A - posts only\"\n",
      "07:35:35 | INFO | \"  (Delayed('int-469b0268-ba05-4e8d-b605-4d2bebfad899'), 513) <- df_subs_agg_a.shape (only posts)\"\n",
      "07:35:35 | INFO | \"B - posts + comments\"\n",
      "07:35:35 | INFO | \"  (Delayed('int-19f9a462-ed52-4058-a47b-5ca04846b710'), 513) <- df_subs_agg_b.shape (posts + comments)\"\n",
      "07:35:35 | INFO | \"C - posts + comments + sub descriptions\"\n",
      "07:35:36 | INFO | \"  (Delayed('int-6b352dc6-bd2a-4db2-9c27-d02ab6ad52fa'), 513) <- df_subs_agg_c.shape (posts + comments + sub description)\"\n",
      "07:35:36 | INFO | \"  0:00:01.213991 <- Total for ALL subreddit-level agg time elapsed\"\n",
      "07:35:36 | INFO | \"-- Start _calculate_subreddit_similarities() method --\"\n",
      "07:35:36 | INFO | \"A...\"\n",
      "07:35:46 | INFO | \"  (3767, 3767) <- df_subs_agg_a_similarity.shape\"\n",
      "07:36:01 | INFO | \"Create new df to keep only top 20 subs by distance...\"\n",
      "07:36:06 | INFO | \"  (14186522, 3) <- df_dist_pair_meta.shape (before setting index)\"\n",
      "07:36:06 | INFO | \"  (75340, 3) <- df_dist_pair_meta_top_only.shape (before setting index)\"\n",
      "07:36:06 | INFO | \"B...\"\n",
      "07:54:24 | INFO | \"  (3849, 3849) <- df_subs_agg_b_similarity.shape\"\n",
      "07:54:40 | INFO | \"Create new df to keep only top 20 subs by distance...\"\n",
      "07:54:45 | INFO | \"  (14810952, 3) <- df_dist_pair_meta.shape (before setting index)\"\n",
      "07:54:45 | INFO | \"  (76980, 3) <- df_dist_pair_meta_top_only.shape (before setting index)\"\n",
      "07:54:46 | INFO | \"C...\"\n",
      "08:36:25 | INFO | \"  (3767, 3767) <- df_subs_agg_c_similarity.shape\"\n",
      "08:36:40 | INFO | \"Create new df to keep only top 20 subs by distance...\"\n",
      "08:36:45 | INFO | \"  (14186522, 3) <- df_dist_pair_meta.shape (before setting index)\"\n",
      "08:36:45 | INFO | \"  (75340, 3) <- df_dist_pair_meta_top_only.shape (before setting index)\"\n",
      "08:36:46 | INFO | \"  1:01:09.967860 <- Total for _calculate_subreddit_similarities() time elapsed\"\n",
      "08:36:46 | INFO | \"-- Start _save_and_log_aggregate_and_similarity_dfs() method --\"\n",
      "08:36:46 | INFO | \"  Saving config to local path...\"\n",
      "08:36:46 | INFO | \"  Logging config to mlflow...\"\n"
     ]
    },
    {
     "data": {
      "application/vnd.jupyter.widget-view+json": {
       "model_id": "d847b25b399e40e78c75be7047f60acd",
       "version_major": 2,
       "version_minor": 0
      },
      "text/plain": [
       "  0%|          | 0/11 [00:00<?, ?it/s]"
      ]
     },
     "metadata": {},
     "output_type": "display_data"
    },
    {
     "name": "stderr",
     "output_type": "stream",
     "text": [
      "08:36:46 | INFO | \"** df_post_level_agg_b_post_and_comments **\"\n",
      "08:36:46 | INFO | \"Saving locally...\"\n",
      "08:54:18 | INFO | \"Logging artifact to mlflow...\"\n",
      "08:55:34 | INFO | \"** df_post_level_agg_c_post_comments_sub_desc **\"\n",
      "08:55:34 | INFO | \"Saving locally...\"\n",
      "09:16:16 | INFO | \"     268\t<- EXISTING Dask partitions\"\n",
      "09:38:02 | INFO | \"Logging artifact to mlflow...\"\n",
      "09:39:58 | INFO | \"** df_sub_level_agg_a_post_only **\"\n",
      "09:39:58 | INFO | \"Saving locally...\"\n",
      "09:40:04 | INFO | \"       1\t<- EXISTING Dask partitions\"\n",
      "09:40:12 | INFO | \"Logging artifact to mlflow...\"\n",
      "09:40:13 | INFO | \"** df_sub_level_agg_a_post_only_similarity **\"\n",
      "09:40:13 | INFO | \"Saving locally...\"\n",
      "09:40:13 | INFO | \"Keeping index intact...\"\n",
      "09:40:13 | INFO | \"Converting pandas to dask...\"\n",
      "09:40:13 | INFO | \"   108.6 MB <- Memory usage\"\n",
      "09:40:13 | INFO | \"       3\t<- target Dask partitions\t   40.0 <- target MB partition size\"\n",
      "09:40:16 | INFO | \"Logging artifact to mlflow...\"\n",
      "09:40:18 | INFO | \"** df_sub_level_agg_a_post_only_similarity_pair **\"\n",
      "09:40:18 | INFO | \"Saving locally...\"\n",
      "09:40:19 | INFO | \"Converting pandas to dask...\"\n",
      "09:40:21 | INFO | \"  2,022.0 MB <- Memory usage\"\n",
      "09:40:21 | INFO | \"      34\t<- target Dask partitions\t   60.0 <- target MB partition size\"\n",
      "09:40:25 | INFO | \"Logging artifact to mlflow...\"\n",
      "09:40:36 | INFO | \"** df_sub_level_agg_b_post_and_comments **\"\n",
      "09:40:36 | INFO | \"Saving locally...\"\n",
      "09:49:38 | INFO | \"       1\t<- EXISTING Dask partitions\"\n",
      "09:59:01 | INFO | \"Logging artifact to mlflow...\"\n",
      "09:59:02 | INFO | \"** df_sub_level_agg_b_post_and_comments_similarity **\"\n",
      "09:59:02 | INFO | \"Saving locally...\"\n",
      "09:59:02 | INFO | \"Keeping index intact...\"\n",
      "09:59:02 | INFO | \"Converting pandas to dask...\"\n",
      "09:59:02 | INFO | \"   113.4 MB <- Memory usage\"\n",
      "09:59:02 | INFO | \"       3\t<- target Dask partitions\t   40.0 <- target MB partition size\"\n",
      "09:59:05 | INFO | \"Logging artifact to mlflow...\"\n",
      "09:59:08 | INFO | \"** df_sub_level_agg_b_post_and_comments_similarity_pair **\"\n",
      "09:59:08 | INFO | \"Saving locally...\"\n",
      "09:59:08 | INFO | \"Converting pandas to dask...\"\n",
      "09:59:11 | INFO | \"  2,111.9 MB <- Memory usage\"\n",
      "09:59:11 | INFO | \"      36\t<- target Dask partitions\t   60.0 <- target MB partition size\"\n",
      "09:59:15 | INFO | \"Logging artifact to mlflow...\"\n",
      "09:59:28 | INFO | \"** df_sub_level_agg_c_post_comments_and_sub_desc **\"\n",
      "09:59:28 | INFO | \"Saving locally...\"\n",
      "10:19:26 | INFO | \"       1\t<- EXISTING Dask partitions\"\n"
     ]
    }
   ],
   "source": [
    "%%time\n",
    "\n",
    "mlflow.end_run(\"FAILED\")\n",
    "gc.collect()\n",
    "try:\n",
    "    del job_agg1\n",
    "    del d_dfs1\n",
    "except NameError:\n",
    "    pass\n",
    "gc.collect()\n",
    "\n",
    "job_agg1 = AggregateEmbeddings(\n",
    "    run_name=f\"full_lc_false-{datetime.utcnow().strftime('%Y-%m-%d_%H%M%S')}\",\n",
    "    **config_full_lc_false.config_flat\n",
    ")\n",
    "job_agg1.run_aggregation()\n",
    "\n",
    "gc.collect()"
   ]
  },
  {
   "cell_type": "markdown",
   "id": "32b44714",
   "metadata": {},
   "source": [
    "# Run full data, `lower_case=True`\n",
    "\n",
    "Looks like the problem I ran into with the file being corrupted might've been a problem with downloading the file(s). Fix: delete the local cache and download the files again."
   ]
  },
  {
   "cell_type": "code",
   "execution_count": null,
   "id": "66b2982f",
   "metadata": {},
   "outputs": [],
   "source": [
    "BREAK"
   ]
  },
  {
   "cell_type": "code",
   "execution_count": null,
   "id": "971ea16d",
   "metadata": {},
   "outputs": [
    {
     "name": "stderr",
     "output_type": "stream",
     "text": [
      "15:47:51 | INFO | \"== Start run_aggregation() method ==\"\n",
      "15:47:51 | INFO | \"MLflow tracking URI: sqlite:////home/jupyter/subreddit_clustering_i18n/mlflow_sync/djb-100-2021-04-28-djb-eda-german-subs/mlruns.db\"\n",
      "15:47:52 | INFO | \"  Local model saving directory: /home/jupyter/subreddit_clustering_i18n/data/models/aggregate_embeddings/2021-08-10_154752-full_lc_true-2021-08-10_154751\"\n",
      "15:47:52 | INFO | \"  Saving config to local path...\"\n",
      "15:47:52 | INFO | \"  Logging config to mlflow...\"\n",
      "15:47:52 | INFO | \"-- Start _load_raw_embeddings() method --\"\n",
      "15:47:52 | INFO | \"Loading subreddit description embeddings...\"\n",
      "15:47:53 | INFO | \"Local folder to download artifact(s):\n",
      "  /home/jupyter/subreddit_clustering_i18n/data/local_cache/mlflow/mlruns/10/a948e9fd651545f997430cddc6b529eb/artifacts/df_vect_subreddits_description\"\n"
     ]
    },
    {
     "data": {
      "application/vnd.jupyter.widget-view+json": {
       "model_id": "ef7e6e4097cc4648a0a6dcf405072654",
       "version_major": 2,
       "version_minor": 0
      },
      "text/plain": [
       "  0%|          | 0/4 [00:00<?, ?it/s]"
      ]
     },
     "metadata": {},
     "output_type": "display_data"
    },
    {
     "name": "stderr",
     "output_type": "stream",
     "text": [
      "15:47:54 | INFO | \"  Reading 1 files\"\n",
      "15:47:55 | INFO | \"       3,767 |  513 <- Raw vectorized subreddit description shape\"\n",
      "15:47:56 | INFO | \"Loading POSTS embeddings...\"\n",
      "15:47:57 | INFO | \"Local folder to download artifact(s):\n",
      "  /home/jupyter/subreddit_clustering_i18n/data/local_cache/mlflow/mlruns/10/a948e9fd651545f997430cddc6b529eb/artifacts/df_vect_posts\"\n"
     ]
    },
    {
     "data": {
      "application/vnd.jupyter.widget-view+json": {
       "model_id": "d0b70848d70c4886834fc853336b4b97",
       "version_major": 2,
       "version_minor": 0
      },
      "text/plain": [
       "  0%|          | 0/51 [00:00<?, ?it/s]"
      ]
     },
     "metadata": {},
     "output_type": "display_data"
    },
    {
     "name": "stderr",
     "output_type": "stream",
     "text": [
      "15:48:44 | INFO | \"  Reading 48 files\"\n",
      "15:48:47 | INFO | \"   1,649,929 |  514 <- Raw POSTS shape\"\n",
      "15:48:51 | INFO | \"Loading COMMENTS embeddings...\"\n",
      "15:48:52 | INFO | \"Local folder to download artifact(s):\n",
      "  /home/jupyter/subreddit_clustering_i18n/data/local_cache/mlflow/mlruns/10/a948e9fd651545f997430cddc6b529eb/artifacts/df_vect_comments\"\n"
     ]
    },
    {
     "data": {
      "application/vnd.jupyter.widget-view+json": {
       "model_id": "b2ab07ab988b41b9b0d92315679c18a5",
       "version_major": 2,
       "version_minor": 0
      },
      "text/plain": [
       "  0%|          | 0/38 [00:00<?, ?it/s]"
      ]
     },
     "metadata": {},
     "output_type": "display_data"
    },
    {
     "name": "stderr",
     "output_type": "stream",
     "text": [
      "15:54:48 | INFO | \"  Reading 37 files\"\n",
      "15:54:49 | INFO | \"  0:06:56.293258 <- Total raw embeddings load time elapsed\"\n",
      "15:54:49 | INFO | \"-- Start _load_metadata() method --\"\n",
      "15:54:49 | INFO | \"Loading POSTS metadata...\"\n",
      "15:54:49 | INFO | \"Reading raw data...\"\n",
      "15:54:49 | INFO | \"Local folder to download artifact(s):\n",
      "  /home/jupyter/subreddit_clustering_i18n/data/local_cache/posts/top/2021-07-16\"\n"
     ]
    },
    {
     "data": {
      "application/vnd.jupyter.widget-view+json": {
       "model_id": "59eb9efacfd0489f806b804fd167453e",
       "version_major": 2,
       "version_minor": 0
      },
      "text/plain": [
       "  0%|          | 0/43 [00:00<?, ?it/s]"
      ]
     },
     "metadata": {},
     "output_type": "display_data"
    },
    {
     "name": "stderr",
     "output_type": "stream",
     "text": [
      "15:54:51 | INFO | \"  Applying transformations...\"\n",
      "15:54:52 | INFO | \"  (1649929, 14) <- Raw META POSTS shape\"\n",
      "15:54:52 | INFO | \"Loading subs metadata...\"\n",
      "15:54:52 | INFO | \"  reading sub-level data & merging with aggregates...\"\n",
      "15:54:52 | INFO | \"Reading raw data...\"\n",
      "15:54:52 | INFO | \"Local folder to download artifact(s):\n",
      "  /home/jupyter/subreddit_clustering_i18n/data/local_cache/subreddits/top/2021-07-16\"\n"
     ]
    },
    {
     "data": {
      "application/vnd.jupyter.widget-view+json": {
       "model_id": "8f98ebb0befa4f09aa0cc006cb99f5b5",
       "version_major": 2,
       "version_minor": 0
      },
      "text/plain": [
       "  0%|          | 0/1 [00:00<?, ?it/s]"
      ]
     },
     "metadata": {},
     "output_type": "display_data"
    },
    {
     "name": "stderr",
     "output_type": "stream",
     "text": [
      "15:54:53 | INFO | \"  Applying transformations...\"\n",
      "15:54:54 | INFO | \"  (3767, 38) <- Raw META subreddit description shape\"\n",
      "15:54:54 | INFO | \"Loading COMMENTS metadata...\"\n",
      "15:54:54 | INFO | \"Local folder to download artifact(s):\n",
      "  /home/jupyter/subreddit_clustering_i18n/data/local_cache/comments/top/2021-07-09\"\n"
     ]
    },
    {
     "data": {
      "application/vnd.jupyter.widget-view+json": {
       "model_id": "51e52ad01a47422bbde292fb39492af5",
       "version_major": 2,
       "version_minor": 0
      },
      "text/plain": [
       "  0%|          | 0/37 [00:00<?, ?it/s]"
      ]
     },
     "metadata": {},
     "output_type": "display_data"
    },
    {
     "name": "stderr",
     "output_type": "stream",
     "text": [
      "15:54:55 | INFO | \"  (Delayed('int-11aa2518-d088-4702-bee1-c90e9c40927d'), 7) <- Raw META COMMENTS shape\"\n",
      "15:54:55 | INFO | \"  0:00:05.773888 <- Total metadata loading time elapsed\"\n",
      "15:54:55 | INFO | \"-- Start _agg_comments_to_post_level() method --\"\n",
      "15:54:55 | INFO | \"Getting count of comments per post...\"\n",
      "15:55:17 | WARNING | \"Error creating summary of comments per post.\n",
      "'<=' not supported between instances of 'NoneType' and 'int'\"\n",
      "15:55:18 | INFO | \"Filtering which comments need to be averaged...\"\n",
      "15:56:48 | INFO | \"      126,642 <- Comments that DON'T need to be averaged\"\n",
      "15:56:48 | INFO | \"   19,041,512 <- Comments that need to be averaged\"\n",
      "15:56:48 | INFO | \"No column to weight comments, simple mean for comments at post level\"\n",
      "15:59:15 | INFO | \"      979,701 |  514 <- df_v_com_agg SHAPE\"\n",
      "15:59:15 | INFO | \"  0:04:20.021986 <- Total comments to post agg loading time elapsed\"\n",
      "15:59:15 | INFO | \"-- Start (df_posts_agg_b) _agg_posts_and_comments_to_post_level() method --\"\n",
      "15:59:17 | INFO | \"DEFINE agg_posts_w_comments...\"\n",
      "15:59:17 | INFO | \"  (Delayed('int-2f2dd3eb-5832-498e-ac7f-0f8fc90cbef9'), 513) <- df_agg_posts_w_comments.shape (only posts with comments)\"\n",
      "15:59:17 | INFO | \"Concat aggregated comments+posts with posts-without comments\"\n",
      "16:09:32 | INFO | \"    1,649,929 |  514 <- df_posts_agg_b shape after aggregation\"\n",
      "16:09:32 | INFO | \"  0:10:16.855088 <- Total (df_posts_agg_b) posts & comments agg time elapsed\"\n",
      "16:09:32 | INFO | \"-- Start (df_posts_agg_c) _agg_posts_comments_and_sub_descriptions_to_post_level() method --\"\n",
      "16:09:35 | INFO | \"  (Delayed('int-2afffaf2-f55e-4a71-b7a9-43db8c7e9419'), 513) <- df_agg_posts_w_sub.shape (only posts with comments)\"\n",
      "16:09:35 | INFO | \"  0:00:02.606942 <- Total (df_posts_agg_c) posts+comments+subs agg time elapsed\"\n",
      "16:09:35 | INFO | \"-- Start _agg_post_aggregates_to_subreddit_level() method --\"\n",
      "16:09:35 | INFO | \"No column to weight comments, simple mean to roll up posts to subreddit-level...\"\n",
      "16:09:35 | INFO | \"A - posts only\"\n",
      "16:09:35 | INFO | \"  (Delayed('int-c0cdc12a-7599-4f26-8877-628f56e69ca7'), 513) <- df_subs_agg_a.shape (only posts)\"\n",
      "16:09:35 | INFO | \"B - posts + comments\"\n",
      "16:09:35 | INFO | \"  (Delayed('int-4a88fcb6-f299-4f12-96d0-1c52f2200024'), 513) <- df_subs_agg_b.shape (posts + comments)\"\n",
      "16:09:35 | INFO | \"C - posts + comments + sub descriptions\"\n",
      "16:09:36 | INFO | \"  (Delayed('int-2c3b142e-c4c6-44e7-8f3b-5b7bafa6f4a0'), 513) <- df_subs_agg_c.shape (posts + comments + sub description)\"\n",
      "16:09:36 | INFO | \"  0:00:01.266842 <- Total for ALL subreddit-level agg time elapsed\"\n",
      "16:09:36 | INFO | \"-- Start _calculate_subreddit_similarities() method --\"\n",
      "16:09:36 | INFO | \"A...\"\n",
      "16:09:48 | INFO | \"  (3767, 3767) <- df_subs_agg_a_similarity.shape\"\n",
      "16:10:07 | INFO | \"Merge distance + metadata...\"\n",
      "16:10:37 | INFO | \"Create new df to keep only top 20 subs by distance...\"\n",
      "16:10:44 | INFO | \"  (14186522, 11) <- df_dist_pair_meta.shape (before setting index)\"\n",
      "16:10:44 | INFO | \"  (75340, 11) <- df_dist_pair_meta_top_only.shape (before setting index)\"\n",
      "16:10:50 | INFO | \"B...\"\n",
      "16:29:57 | INFO | \"  (3767, 3767) <- df_subs_agg_b_similarity.shape\"\n",
      "16:30:16 | INFO | \"Merge distance + metadata...\"\n",
      "16:30:46 | INFO | \"Create new df to keep only top 20 subs by distance...\"\n",
      "16:30:54 | INFO | \"  (14186522, 11) <- df_dist_pair_meta.shape (before setting index)\"\n",
      "16:30:54 | INFO | \"  (75340, 11) <- df_dist_pair_meta_top_only.shape (before setting index)\"\n",
      "16:31:00 | INFO | \"C...\"\n",
      "17:17:45 | INFO | \"  (3767, 3767) <- df_subs_agg_c_similarity.shape\"\n",
      "17:18:06 | INFO | \"Merge distance + metadata...\"\n",
      "17:18:36 | INFO | \"Create new df to keep only top 20 subs by distance...\"\n",
      "17:18:44 | INFO | \"  (14186522, 11) <- df_dist_pair_meta.shape (before setting index)\"\n",
      "17:18:44 | INFO | \"  (75340, 11) <- df_dist_pair_meta_top_only.shape (before setting index)\"\n",
      "17:18:49 | INFO | \"  1:09:13.049794 <- Total for _calculate_subreddit_similarities() time elapsed\"\n",
      "17:18:49 | INFO | \"-- Start _save_and_log_aggregate_and_similarity_dfs() method --\"\n",
      "17:18:49 | INFO | \"  Saving config to local path...\"\n",
      "17:18:49 | INFO | \"  Logging config to mlflow...\"\n"
     ]
    },
    {
     "data": {
      "application/vnd.jupyter.widget-view+json": {
       "model_id": "78f472b6e6ac4d91b6d55cd455fbfc82",
       "version_major": 2,
       "version_minor": 0
      },
      "text/plain": [
       "  0%|          | 0/11 [00:00<?, ?it/s]"
      ]
     },
     "metadata": {},
     "output_type": "display_data"
    },
    {
     "name": "stderr",
     "output_type": "stream",
     "text": [
      "17:18:50 | INFO | \"** df_sub_level_agg_c_post_comments_and_sub_desc **\"\n",
      "17:18:50 | INFO | \"Saving locally...\"\n",
      "17:42:53 | INFO | \"  Saving existing dask df as parquet...\"\n",
      "18:06:23 | INFO | \"Logging artifact to mlflow...\"\n",
      "18:06:25 | INFO | \"** df_sub_level_agg_c_post_comments_and_sub_desc_similarity **\"\n",
      "18:06:25 | INFO | \"Saving locally...\"\n",
      "18:06:25 | INFO | \"Keeping index intact...\"\n",
      "18:06:25 | INFO | \"Converting pandas to dask...\"\n",
      "18:06:25 | INFO | \"   108.6 MB <- Memory usage\"\n",
      "18:06:25 | INFO | \"       3\t<- target Dask partitions\t   40.0 <- target MB partition size\"\n",
      "18:06:29 | INFO | \"Logging artifact to mlflow...\"\n",
      "18:06:31 | INFO | \"** df_sub_level_agg_c_post_comments_and_sub_desc_similarity_pair **\"\n",
      "18:06:31 | INFO | \"Saving locally...\"\n",
      "18:06:33 | INFO | \"Converting pandas to dask...\"\n",
      "18:06:40 | INFO | \"  6,002.0 MB <- Memory usage\"\n",
      "18:06:40 | INFO | \"      81\t<- target Dask partitions\t   75.0 <- target MB partition size\"\n",
      "18:06:53 | INFO | \"Logging artifact to mlflow...\"\n",
      "18:07:16 | INFO | \"** df_sub_level_agg_b_post_and_comments **\"\n",
      "18:07:16 | INFO | \"Saving locally...\"\n",
      "18:17:47 | INFO | \"  Saving existing dask df as parquet...\"\n",
      "18:28:42 | INFO | \"Logging artifact to mlflow...\"\n",
      "18:28:44 | INFO | \"** df_sub_level_agg_b_post_and_comments_similarity **\"\n",
      "18:28:44 | INFO | \"Saving locally...\"\n",
      "18:28:44 | INFO | \"Keeping index intact...\"\n",
      "18:28:44 | INFO | \"Converting pandas to dask...\"\n",
      "18:28:44 | INFO | \"   108.6 MB <- Memory usage\"\n",
      "18:28:44 | INFO | \"       3\t<- target Dask partitions\t   40.0 <- target MB partition size\"\n",
      "18:28:48 | INFO | \"Logging artifact to mlflow...\"\n",
      "18:28:50 | INFO | \"** df_sub_level_agg_b_post_and_comments_similarity_pair **\"\n",
      "18:28:50 | INFO | \"Saving locally...\"\n",
      "18:28:52 | INFO | \"Converting pandas to dask...\"\n",
      "18:28:59 | INFO | \"  6,002.0 MB <- Memory usage\"\n",
      "18:28:59 | INFO | \"      81\t<- target Dask partitions\t   75.0 <- target MB partition size\"\n"
     ]
    }
   ],
   "source": [
    "%%time\n",
    "\n",
    "mlflow.end_run(\"FAILED\")\n",
    "gc.collect()\n",
    "try:\n",
    "    del job_agg2\n",
    "    del d_dfs2\n",
    "except NameError:\n",
    "    pass\n",
    "gc.collect()\n",
    "\n",
    "job_agg2 = AggregateEmbeddings(\n",
    "    run_name=f\"full_lc_true-{datetime.utcnow().strftime('%Y-%m-%d_%H%M%S')}\",\n",
    "    **config_full_lc_true.config_flat\n",
    ")\n",
    "job_agg2.run_aggregation()\n",
    "\n",
    "gc.collect()"
   ]
  },
  {
   "cell_type": "code",
   "execution_count": null,
   "id": "4f7217ad",
   "metadata": {},
   "outputs": [],
   "source": [
    "mlflow.end_run(\"FAILED\")"
   ]
  },
  {
   "cell_type": "markdown",
   "id": "f9642df7",
   "metadata": {},
   "source": [
    "## Check output dfs"
   ]
  },
  {
   "cell_type": "code",
   "execution_count": 16,
   "id": "455e2102",
   "metadata": {},
   "outputs": [
    {
     "data": {
      "application/vnd.jupyter.widget-view+json": {
       "model_id": "0e7dc27a67f34cac87edea772c12076c",
       "version_major": 2,
       "version_minor": 0
      },
      "text/plain": [
       "  0%|          | 0/8 [00:00<?, ?it/s]"
      ]
     },
     "metadata": {},
     "output_type": "display_data"
    },
    {
     "name": "stdout",
     "output_type": "stream",
     "text": [
      "\n",
      "df_v_sub\n",
      "(Delayed('int-185fda3f-7783-4eda-ab30-01e2e615a376'), 513) <- df shape\n",
      "1 <- dask partitions\n",
      "\n",
      "df_v_posts\n",
      "(Delayed('int-e68a5168-e9cd-4015-909f-fe9bd1f44b45'), 514) <- df shape\n",
      "48 <- dask partitions\n",
      "\n",
      "df_v_comments\n",
      "(Delayed('int-193d0b34-441d-47ed-a139-7810bc1b5d22'), 515) <- df shape\n",
      "37 <- dask partitions\n",
      "\n",
      "df_subs_agg_a\n",
      "\n",
      "df_subs_agg_b\n",
      "\n",
      "df_subs_agg_c\n",
      "\n",
      "df_posts_agg_b\n",
      "\n",
      "df_posts_agg_c\n",
      "CPU times: user 67.1 ms, sys: 19.9 ms, total: 87 ms\n",
      "Wall time: 73.5 ms\n"
     ]
    }
   ],
   "source": [
    "%%time\n",
    "\n",
    "d_dfs2 = dict()\n",
    "(\n",
    "    d_dfs2['df_v_sub'], d_dfs2['df_v_posts'], d_dfs2['df_v_comments'],\n",
    "#     d_dfs2['df_subs_meta'], d_dfs2['df_posts_meta'], d_dfs2['df_comments_meta'],\n",
    "    \n",
    "    # Aggs don't get computed until run_aggergation() method gets called\n",
    "    d_dfs2['df_subs_agg_a'], d_dfs2['df_subs_agg_b'], d_dfs2['df_subs_agg_c'], \n",
    "    d_dfs2['df_posts_agg_b'], d_dfs2['df_posts_agg_c'], \n",
    "    # d_dfs2['df_posts_agg_d'],\n",
    "\n",
    ") = (\n",
    "    job_agg2.df_v_sub, job_agg2.df_v_posts, job_agg2.df_v_comments,\n",
    "#     job_agg2.df_subs_meta, job_agg2.df_posts_meta, job_agg2.df_comments_meta,\n",
    "    \n",
    "    job_agg2.df_subs_agg_a, job_agg2.df_subs_agg_b, job_agg2.df_subs_agg_c, \n",
    "    job_agg2.df_posts_agg_b, job_agg2.df_posts_agg_c,\n",
    "    # job_agg2.df_posts_agg_d,  # D doesn't exist yet\n",
    ")\n",
    "\n",
    "for k2, df_2 in tqdm(d_dfs2.items()):\n",
    "    print(f\"\\n{k2}\")\n",
    "    try:\n",
    "        print(f\"{df_2.shape} <- df shape\")\n",
    "        print(f\"{df_2.npartitions} <- dask partitions\")\n",
    "        # print(f\"{get_dask_df_shape(df_2)} <- df.shape\")\n",
    "        # print(f\"  {df_2.memory_usage(deep=True).sum() / 1048576:4,.1f} MB <- Memory usage\")\n",
    "        if any(['meta' in k2, '_v_' in k2]):\n",
    "            pass\n",
    "        else:\n",
    "            pass\n",
    "            # display(df_2.iloc[:5, :15])\n",
    "\n",
    "    except (TypeError, AttributeError):\n",
    "        if isinstance(df_2, pd.DataFrame):\n",
    "            print(f\"{df_2.shape} <- df shape\")"
   ]
  },
  {
   "cell_type": "code",
   "execution_count": 17,
   "id": "da7c9de9",
   "metadata": {},
   "outputs": [
    {
     "name": "stdout",
     "output_type": "stream",
     "text": [
      "CPU times: user 13.2 s, sys: 3.97 s, total: 17.2 s\n",
      "Wall time: 5min 16s\n"
     ]
    },
    {
     "data": {
      "text/html": [
       "<div>\n",
       "<style scoped>\n",
       "    .dataframe tbody tr th:only-of-type {\n",
       "        vertical-align: middle;\n",
       "    }\n",
       "\n",
       "    .dataframe tbody tr th {\n",
       "        vertical-align: top;\n",
       "    }\n",
       "\n",
       "    .dataframe thead th {\n",
       "        text-align: right;\n",
       "    }\n",
       "</style>\n",
       "<table border=\"1\" class=\"dataframe\">\n",
       "  <thead>\n",
       "    <tr style=\"text-align: right;\">\n",
       "      <th></th>\n",
       "      <th>subreddit_name</th>\n",
       "      <th>post_id</th>\n",
       "      <th>comment_id</th>\n",
       "      <th>embeddings_0</th>\n",
       "      <th>embeddings_1</th>\n",
       "      <th>embeddings_2</th>\n",
       "      <th>embeddings_3</th>\n",
       "      <th>embeddings_4</th>\n",
       "      <th>embeddings_5</th>\n",
       "      <th>embeddings_6</th>\n",
       "      <th>embeddings_7</th>\n",
       "      <th>embeddings_8</th>\n",
       "      <th>embeddings_9</th>\n",
       "      <th>embeddings_10</th>\n",
       "      <th>embeddings_11</th>\n",
       "      <th>embeddings_12</th>\n",
       "      <th>embeddings_13</th>\n",
       "      <th>embeddings_14</th>\n",
       "      <th>embeddings_15</th>\n",
       "      <th>embeddings_16</th>\n",
       "      <th>embeddings_17</th>\n",
       "      <th>embeddings_18</th>\n",
       "      <th>embeddings_19</th>\n",
       "      <th>embeddings_20</th>\n",
       "      <th>embeddings_21</th>\n",
       "      <th>embeddings_22</th>\n",
       "      <th>embeddings_23</th>\n",
       "      <th>embeddings_24</th>\n",
       "      <th>embeddings_25</th>\n",
       "      <th>embeddings_26</th>\n",
       "      <th>...</th>\n",
       "      <th>embeddings_482</th>\n",
       "      <th>embeddings_483</th>\n",
       "      <th>embeddings_484</th>\n",
       "      <th>embeddings_485</th>\n",
       "      <th>embeddings_486</th>\n",
       "      <th>embeddings_487</th>\n",
       "      <th>embeddings_488</th>\n",
       "      <th>embeddings_489</th>\n",
       "      <th>embeddings_490</th>\n",
       "      <th>embeddings_491</th>\n",
       "      <th>embeddings_492</th>\n",
       "      <th>embeddings_493</th>\n",
       "      <th>embeddings_494</th>\n",
       "      <th>embeddings_495</th>\n",
       "      <th>embeddings_496</th>\n",
       "      <th>embeddings_497</th>\n",
       "      <th>embeddings_498</th>\n",
       "      <th>embeddings_499</th>\n",
       "      <th>embeddings_500</th>\n",
       "      <th>embeddings_501</th>\n",
       "      <th>embeddings_502</th>\n",
       "      <th>embeddings_503</th>\n",
       "      <th>embeddings_504</th>\n",
       "      <th>embeddings_505</th>\n",
       "      <th>embeddings_506</th>\n",
       "      <th>embeddings_507</th>\n",
       "      <th>embeddings_508</th>\n",
       "      <th>embeddings_509</th>\n",
       "      <th>embeddings_510</th>\n",
       "      <th>embeddings_511</th>\n",
       "    </tr>\n",
       "  </thead>\n",
       "  <tbody>\n",
       "    <tr>\n",
       "      <th>483398</th>\n",
       "      <td>19219</td>\n",
       "      <td>t3_nyqfmb</td>\n",
       "      <td>t1_h1lzfc6</td>\n",
       "      <td>-0.039235</td>\n",
       "      <td>0.037132</td>\n",
       "      <td>-0.033202</td>\n",
       "      <td>-0.009557</td>\n",
       "      <td>0.050591</td>\n",
       "      <td>0.035887</td>\n",
       "      <td>-0.075159</td>\n",
       "      <td>0.026383</td>\n",
       "      <td>-0.050233</td>\n",
       "      <td>0.015396</td>\n",
       "      <td>-0.038596</td>\n",
       "      <td>-0.044591</td>\n",
       "      <td>0.057975</td>\n",
       "      <td>-0.015356</td>\n",
       "      <td>0.055454</td>\n",
       "      <td>0.057320</td>\n",
       "      <td>0.018831</td>\n",
       "      <td>0.008324</td>\n",
       "      <td>0.011653</td>\n",
       "      <td>0.018594</td>\n",
       "      <td>-0.043833</td>\n",
       "      <td>0.011787</td>\n",
       "      <td>0.042242</td>\n",
       "      <td>-0.052835</td>\n",
       "      <td>0.024818</td>\n",
       "      <td>0.004836</td>\n",
       "      <td>0.049712</td>\n",
       "      <td>...</td>\n",
       "      <td>-0.000133</td>\n",
       "      <td>0.011356</td>\n",
       "      <td>-0.082734</td>\n",
       "      <td>-0.010753</td>\n",
       "      <td>0.048662</td>\n",
       "      <td>-0.024157</td>\n",
       "      <td>-0.024809</td>\n",
       "      <td>-0.055835</td>\n",
       "      <td>-0.003466</td>\n",
       "      <td>0.037034</td>\n",
       "      <td>-0.026417</td>\n",
       "      <td>0.017363</td>\n",
       "      <td>0.041431</td>\n",
       "      <td>0.012136</td>\n",
       "      <td>-0.068084</td>\n",
       "      <td>0.060840</td>\n",
       "      <td>-0.049690</td>\n",
       "      <td>-0.052496</td>\n",
       "      <td>-0.038352</td>\n",
       "      <td>0.043732</td>\n",
       "      <td>0.013604</td>\n",
       "      <td>0.044257</td>\n",
       "      <td>0.021174</td>\n",
       "      <td>0.014155</td>\n",
       "      <td>-0.009225</td>\n",
       "      <td>-0.033644</td>\n",
       "      <td>0.016431</td>\n",
       "      <td>-0.012967</td>\n",
       "      <td>0.034172</td>\n",
       "      <td>0.043068</td>\n",
       "    </tr>\n",
       "    <tr>\n",
       "      <th>483399</th>\n",
       "      <td>19219</td>\n",
       "      <td>t3_nyqfmb</td>\n",
       "      <td>t1_h1nvupw</td>\n",
       "      <td>0.133316</td>\n",
       "      <td>-0.078149</td>\n",
       "      <td>-0.041633</td>\n",
       "      <td>0.018155</td>\n",
       "      <td>-0.054300</td>\n",
       "      <td>0.067600</td>\n",
       "      <td>-0.048958</td>\n",
       "      <td>0.065234</td>\n",
       "      <td>0.043681</td>\n",
       "      <td>-0.023903</td>\n",
       "      <td>0.006257</td>\n",
       "      <td>0.001960</td>\n",
       "      <td>-0.027169</td>\n",
       "      <td>-0.032003</td>\n",
       "      <td>-0.073401</td>\n",
       "      <td>-0.054141</td>\n",
       "      <td>0.022288</td>\n",
       "      <td>-0.032410</td>\n",
       "      <td>-0.012456</td>\n",
       "      <td>0.081674</td>\n",
       "      <td>-0.066014</td>\n",
       "      <td>0.125445</td>\n",
       "      <td>0.048917</td>\n",
       "      <td>-0.001884</td>\n",
       "      <td>0.089766</td>\n",
       "      <td>-0.058626</td>\n",
       "      <td>-0.003665</td>\n",
       "      <td>...</td>\n",
       "      <td>0.008788</td>\n",
       "      <td>0.017257</td>\n",
       "      <td>-0.053767</td>\n",
       "      <td>-0.019011</td>\n",
       "      <td>0.075949</td>\n",
       "      <td>-0.114006</td>\n",
       "      <td>-0.055496</td>\n",
       "      <td>-0.027919</td>\n",
       "      <td>-0.029389</td>\n",
       "      <td>-0.003952</td>\n",
       "      <td>0.030141</td>\n",
       "      <td>-0.009108</td>\n",
       "      <td>-0.059239</td>\n",
       "      <td>-0.037925</td>\n",
       "      <td>-0.078233</td>\n",
       "      <td>0.025885</td>\n",
       "      <td>-0.042855</td>\n",
       "      <td>0.039699</td>\n",
       "      <td>-0.011792</td>\n",
       "      <td>-0.036198</td>\n",
       "      <td>-0.101189</td>\n",
       "      <td>0.005298</td>\n",
       "      <td>0.046411</td>\n",
       "      <td>-0.064717</td>\n",
       "      <td>-0.060539</td>\n",
       "      <td>-0.023111</td>\n",
       "      <td>-0.064473</td>\n",
       "      <td>0.050646</td>\n",
       "      <td>-0.025636</td>\n",
       "      <td>-0.001309</td>\n",
       "    </tr>\n",
       "    <tr>\n",
       "      <th>483400</th>\n",
       "      <td>19219</td>\n",
       "      <td>t3_nyqjvy</td>\n",
       "      <td>t1_h1nvw1v</td>\n",
       "      <td>0.126373</td>\n",
       "      <td>-0.060233</td>\n",
       "      <td>0.060693</td>\n",
       "      <td>-0.050580</td>\n",
       "      <td>-0.087892</td>\n",
       "      <td>0.031024</td>\n",
       "      <td>0.024518</td>\n",
       "      <td>0.037328</td>\n",
       "      <td>-0.121069</td>\n",
       "      <td>0.014265</td>\n",
       "      <td>0.004135</td>\n",
       "      <td>-0.042354</td>\n",
       "      <td>0.052518</td>\n",
       "      <td>-0.049579</td>\n",
       "      <td>-0.047506</td>\n",
       "      <td>-0.035735</td>\n",
       "      <td>0.050334</td>\n",
       "      <td>0.015550</td>\n",
       "      <td>-0.019624</td>\n",
       "      <td>0.054169</td>\n",
       "      <td>-0.037536</td>\n",
       "      <td>0.051272</td>\n",
       "      <td>-0.019931</td>\n",
       "      <td>-0.042147</td>\n",
       "      <td>0.038471</td>\n",
       "      <td>0.049895</td>\n",
       "      <td>-0.061262</td>\n",
       "      <td>...</td>\n",
       "      <td>-0.049496</td>\n",
       "      <td>-0.010919</td>\n",
       "      <td>-0.008698</td>\n",
       "      <td>0.055555</td>\n",
       "      <td>0.020364</td>\n",
       "      <td>-0.069475</td>\n",
       "      <td>0.026155</td>\n",
       "      <td>0.009584</td>\n",
       "      <td>0.056685</td>\n",
       "      <td>0.018035</td>\n",
       "      <td>0.043154</td>\n",
       "      <td>0.060423</td>\n",
       "      <td>0.002035</td>\n",
       "      <td>-0.032125</td>\n",
       "      <td>0.019131</td>\n",
       "      <td>0.001583</td>\n",
       "      <td>-0.023084</td>\n",
       "      <td>-0.010004</td>\n",
       "      <td>0.003967</td>\n",
       "      <td>0.029053</td>\n",
       "      <td>-0.110760</td>\n",
       "      <td>-0.039405</td>\n",
       "      <td>0.065578</td>\n",
       "      <td>0.058648</td>\n",
       "      <td>0.053029</td>\n",
       "      <td>0.002569</td>\n",
       "      <td>-0.016340</td>\n",
       "      <td>0.012294</td>\n",
       "      <td>0.027450</td>\n",
       "      <td>0.116622</td>\n",
       "    </tr>\n",
       "    <tr>\n",
       "      <th>483401</th>\n",
       "      <td>19219</td>\n",
       "      <td>t3_nyqjvy</td>\n",
       "      <td>t1_h1lpzcm</td>\n",
       "      <td>0.135668</td>\n",
       "      <td>-0.013888</td>\n",
       "      <td>0.027121</td>\n",
       "      <td>0.007115</td>\n",
       "      <td>-0.040884</td>\n",
       "      <td>0.067130</td>\n",
       "      <td>0.007366</td>\n",
       "      <td>0.049615</td>\n",
       "      <td>-0.111433</td>\n",
       "      <td>0.061169</td>\n",
       "      <td>0.003263</td>\n",
       "      <td>0.020159</td>\n",
       "      <td>0.060283</td>\n",
       "      <td>-0.035772</td>\n",
       "      <td>-0.023290</td>\n",
       "      <td>-0.019193</td>\n",
       "      <td>-0.002709</td>\n",
       "      <td>0.091329</td>\n",
       "      <td>0.057891</td>\n",
       "      <td>0.036463</td>\n",
       "      <td>-0.036746</td>\n",
       "      <td>0.075548</td>\n",
       "      <td>0.040508</td>\n",
       "      <td>0.011599</td>\n",
       "      <td>-0.033443</td>\n",
       "      <td>-0.019531</td>\n",
       "      <td>-0.037201</td>\n",
       "      <td>...</td>\n",
       "      <td>-0.032646</td>\n",
       "      <td>-0.064596</td>\n",
       "      <td>0.012030</td>\n",
       "      <td>0.022919</td>\n",
       "      <td>0.003585</td>\n",
       "      <td>-0.117777</td>\n",
       "      <td>-0.010177</td>\n",
       "      <td>-0.039885</td>\n",
       "      <td>0.040840</td>\n",
       "      <td>0.014177</td>\n",
       "      <td>0.076190</td>\n",
       "      <td>0.048344</td>\n",
       "      <td>0.018211</td>\n",
       "      <td>-0.021509</td>\n",
       "      <td>0.029074</td>\n",
       "      <td>-0.004563</td>\n",
       "      <td>0.017267</td>\n",
       "      <td>0.001694</td>\n",
       "      <td>0.029015</td>\n",
       "      <td>0.021855</td>\n",
       "      <td>-0.074530</td>\n",
       "      <td>-0.062627</td>\n",
       "      <td>0.083473</td>\n",
       "      <td>0.074024</td>\n",
       "      <td>0.053475</td>\n",
       "      <td>-0.008467</td>\n",
       "      <td>0.010310</td>\n",
       "      <td>-0.026929</td>\n",
       "      <td>0.015378</td>\n",
       "      <td>0.107798</td>\n",
       "    </tr>\n",
       "    <tr>\n",
       "      <th>483402</th>\n",
       "      <td>amarantavp</td>\n",
       "      <td>t3_nvktm4</td>\n",
       "      <td>t1_h1nrxvs</td>\n",
       "      <td>-0.043134</td>\n",
       "      <td>-0.053204</td>\n",
       "      <td>-0.095469</td>\n",
       "      <td>-0.064357</td>\n",
       "      <td>-0.064727</td>\n",
       "      <td>0.032114</td>\n",
       "      <td>0.013150</td>\n",
       "      <td>-0.052689</td>\n",
       "      <td>-0.062740</td>\n",
       "      <td>0.032209</td>\n",
       "      <td>0.048887</td>\n",
       "      <td>-0.026321</td>\n",
       "      <td>0.053665</td>\n",
       "      <td>-0.023800</td>\n",
       "      <td>-0.019007</td>\n",
       "      <td>0.018622</td>\n",
       "      <td>0.028733</td>\n",
       "      <td>0.003409</td>\n",
       "      <td>0.034294</td>\n",
       "      <td>-0.061813</td>\n",
       "      <td>-0.040847</td>\n",
       "      <td>0.042555</td>\n",
       "      <td>0.010091</td>\n",
       "      <td>0.086087</td>\n",
       "      <td>0.037003</td>\n",
       "      <td>-0.037780</td>\n",
       "      <td>0.082697</td>\n",
       "      <td>...</td>\n",
       "      <td>0.008532</td>\n",
       "      <td>-0.074757</td>\n",
       "      <td>0.063589</td>\n",
       "      <td>0.060451</td>\n",
       "      <td>0.053137</td>\n",
       "      <td>-0.071232</td>\n",
       "      <td>-0.015800</td>\n",
       "      <td>0.034549</td>\n",
       "      <td>0.036525</td>\n",
       "      <td>0.006025</td>\n",
       "      <td>-0.020449</td>\n",
       "      <td>0.023536</td>\n",
       "      <td>0.017202</td>\n",
       "      <td>-0.038329</td>\n",
       "      <td>0.021685</td>\n",
       "      <td>0.025175</td>\n",
       "      <td>-0.036519</td>\n",
       "      <td>-0.056744</td>\n",
       "      <td>-0.009225</td>\n",
       "      <td>-0.049298</td>\n",
       "      <td>-0.074865</td>\n",
       "      <td>0.031270</td>\n",
       "      <td>0.031479</td>\n",
       "      <td>-0.023028</td>\n",
       "      <td>0.047527</td>\n",
       "      <td>-0.019314</td>\n",
       "      <td>-0.058948</td>\n",
       "      <td>-0.020677</td>\n",
       "      <td>-0.000049</td>\n",
       "      <td>0.085667</td>\n",
       "    </tr>\n",
       "  </tbody>\n",
       "</table>\n",
       "<p>5 rows × 515 columns</p>\n",
       "</div>"
      ],
      "text/plain": [
       "       subreddit_name    post_id  comment_id  embeddings_0  embeddings_1  embeddings_2  embeddings_3  embeddings_4  embeddings_5  embeddings_6  embeddings_7  embeddings_8  embeddings_9  embeddings_10  embeddings_11  embeddings_12  embeddings_13  embeddings_14  embeddings_15  embeddings_16  \\\n",
       "483398          19219  t3_nyqfmb  t1_h1lzfc6     -0.039235      0.037132     -0.033202     -0.009557      0.050591      0.035887     -0.075159      0.026383     -0.050233      0.015396      -0.038596      -0.044591       0.057975      -0.015356       0.055454       0.057320       0.018831   \n",
       "483399          19219  t3_nyqfmb  t1_h1nvupw      0.133316     -0.078149     -0.041633      0.018155     -0.054300      0.067600     -0.048958      0.065234      0.043681     -0.023903       0.006257       0.001960      -0.027169      -0.032003      -0.073401      -0.054141       0.022288   \n",
       "483400          19219  t3_nyqjvy  t1_h1nvw1v      0.126373     -0.060233      0.060693     -0.050580     -0.087892      0.031024      0.024518      0.037328     -0.121069      0.014265       0.004135      -0.042354       0.052518      -0.049579      -0.047506      -0.035735       0.050334   \n",
       "483401          19219  t3_nyqjvy  t1_h1lpzcm      0.135668     -0.013888      0.027121      0.007115     -0.040884      0.067130      0.007366      0.049615     -0.111433      0.061169       0.003263       0.020159       0.060283      -0.035772      -0.023290      -0.019193      -0.002709   \n",
       "483402     amarantavp  t3_nvktm4  t1_h1nrxvs     -0.043134     -0.053204     -0.095469     -0.064357     -0.064727      0.032114      0.013150     -0.052689     -0.062740      0.032209       0.048887      -0.026321       0.053665      -0.023800      -0.019007       0.018622       0.028733   \n",
       "\n",
       "        embeddings_17  embeddings_18  embeddings_19  embeddings_20  embeddings_21  embeddings_22  embeddings_23  embeddings_24  embeddings_25  embeddings_26  ...  embeddings_482  embeddings_483  embeddings_484  embeddings_485  embeddings_486  embeddings_487  embeddings_488  embeddings_489  \\\n",
       "483398       0.008324       0.011653       0.018594      -0.043833       0.011787       0.042242      -0.052835       0.024818       0.004836       0.049712  ...       -0.000133        0.011356       -0.082734       -0.010753        0.048662       -0.024157       -0.024809       -0.055835   \n",
       "483399      -0.032410      -0.012456       0.081674      -0.066014       0.125445       0.048917      -0.001884       0.089766      -0.058626      -0.003665  ...        0.008788        0.017257       -0.053767       -0.019011        0.075949       -0.114006       -0.055496       -0.027919   \n",
       "483400       0.015550      -0.019624       0.054169      -0.037536       0.051272      -0.019931      -0.042147       0.038471       0.049895      -0.061262  ...       -0.049496       -0.010919       -0.008698        0.055555        0.020364       -0.069475        0.026155        0.009584   \n",
       "483401       0.091329       0.057891       0.036463      -0.036746       0.075548       0.040508       0.011599      -0.033443      -0.019531      -0.037201  ...       -0.032646       -0.064596        0.012030        0.022919        0.003585       -0.117777       -0.010177       -0.039885   \n",
       "483402       0.003409       0.034294      -0.061813      -0.040847       0.042555       0.010091       0.086087       0.037003      -0.037780       0.082697  ...        0.008532       -0.074757        0.063589        0.060451        0.053137       -0.071232       -0.015800        0.034549   \n",
       "\n",
       "        embeddings_490  embeddings_491  embeddings_492  embeddings_493  embeddings_494  embeddings_495  embeddings_496  embeddings_497  embeddings_498  embeddings_499  embeddings_500  embeddings_501  embeddings_502  embeddings_503  embeddings_504  embeddings_505  embeddings_506  embeddings_507  \\\n",
       "483398       -0.003466        0.037034       -0.026417        0.017363        0.041431        0.012136       -0.068084        0.060840       -0.049690       -0.052496       -0.038352        0.043732        0.013604        0.044257        0.021174        0.014155       -0.009225       -0.033644   \n",
       "483399       -0.029389       -0.003952        0.030141       -0.009108       -0.059239       -0.037925       -0.078233        0.025885       -0.042855        0.039699       -0.011792       -0.036198       -0.101189        0.005298        0.046411       -0.064717       -0.060539       -0.023111   \n",
       "483400        0.056685        0.018035        0.043154        0.060423        0.002035       -0.032125        0.019131        0.001583       -0.023084       -0.010004        0.003967        0.029053       -0.110760       -0.039405        0.065578        0.058648        0.053029        0.002569   \n",
       "483401        0.040840        0.014177        0.076190        0.048344        0.018211       -0.021509        0.029074       -0.004563        0.017267        0.001694        0.029015        0.021855       -0.074530       -0.062627        0.083473        0.074024        0.053475       -0.008467   \n",
       "483402        0.036525        0.006025       -0.020449        0.023536        0.017202       -0.038329        0.021685        0.025175       -0.036519       -0.056744       -0.009225       -0.049298       -0.074865        0.031270        0.031479       -0.023028        0.047527       -0.019314   \n",
       "\n",
       "        embeddings_508  embeddings_509  embeddings_510  embeddings_511  \n",
       "483398        0.016431       -0.012967        0.034172        0.043068  \n",
       "483399       -0.064473        0.050646       -0.025636       -0.001309  \n",
       "483400       -0.016340        0.012294        0.027450        0.116622  \n",
       "483401        0.010310       -0.026929        0.015378        0.107798  \n",
       "483402       -0.058948       -0.020677       -0.000049        0.085667  \n",
       "\n",
       "[5 rows x 515 columns]"
      ]
     },
     "execution_count": 17,
     "metadata": {},
     "output_type": "execute_result"
    }
   ],
   "source": [
    "%%time\n",
    "job_agg2.df_v_comments.tail()"
   ]
  },
  {
   "cell_type": "code",
   "execution_count": null,
   "id": "74e642fc",
   "metadata": {},
   "outputs": [],
   "source": [
    "# %%time\n",
    "# s_post_id = job_agg2.df_v_comments['post_id'].compute()"
   ]
  },
  {
   "cell_type": "code",
   "execution_count": 19,
   "id": "3c4c462c",
   "metadata": {},
   "outputs": [
    {
     "name": "stdout",
     "output_type": "stream",
     "text": [
      "CPU times: user 1.77 s, sys: 562 ms, total: 2.33 s\n",
      "Wall time: 14.7 s\n"
     ]
    }
   ],
   "source": [
    "%%time\n",
    "s_post_post_id = job_agg2.df_v_posts['post_id'].compute()"
   ]
  },
  {
   "cell_type": "code",
   "execution_count": 21,
   "id": "94337c76",
   "metadata": {},
   "outputs": [
    {
     "data": {
      "text/plain": [
       "(1649929,)"
      ]
     },
     "execution_count": 21,
     "metadata": {},
     "output_type": "execute_result"
    }
   ],
   "source": [
    "s_post_post_id.shape"
   ]
  },
  {
   "cell_type": "code",
   "execution_count": 22,
   "id": "5cd6b4c9",
   "metadata": {},
   "outputs": [
    {
     "data": {
      "text/plain": [
       "0    t3_oa3lo5\n",
       "1    t3_oae9rr\n",
       "2    t3_oa1y50\n",
       "3    t3_oa7uvd\n",
       "4    t3_oa7p5v\n",
       "Name: post_id, dtype: object"
      ]
     },
     "execution_count": 22,
     "metadata": {},
     "output_type": "execute_result"
    }
   ],
   "source": [
    "s_post_post_id.head()"
   ]
  },
  {
   "cell_type": "code",
   "execution_count": null,
   "id": "17e55137",
   "metadata": {},
   "outputs": [],
   "source": []
  },
  {
   "cell_type": "markdown",
   "id": "15156cd7",
   "metadata": {},
   "source": [
    "# Run test with `lower_case=False\n",
    "\n",
    "Sample only a few files in comments/ posts to make sure that job completes even when we're testing new code/logic."
   ]
  },
  {
   "cell_type": "code",
   "execution_count": null,
   "id": "cac0b7ab",
   "metadata": {},
   "outputs": [],
   "source": [
    "mlflow_experiment_test = 'v0.4.0_use_multi_aggregates_test'\n",
    "mlflow_experiment_full = 'v0.4.0_use_multi_aggregates'\n",
    "\n",
    "root_agg_config_name = 'aggregate_embeddings_v0.4.0'\n",
    "\n",
    "config_test_sample_lc_false = AggregateEmbeddingsConfig(\n",
    "    config_path=\"../config\",\n",
    "    config_name=root_agg_config_name,\n",
    "    overrides=[f\"mlflow_experiment={mlflow_experiment_test}\",\n",
    "               'n_sample_posts_files=2',     # \n",
    "               'n_sample_comments_files=2',  # 6 is limit for logging unique counts at comment level\n",
    "               'calculate_similarites=false',\n",
    "               # 'data_embeddings_to_aggregate=top_subs-2021_07_16-use_multi_lower_case_false',\n",
    "              ]"
   ]
  },
  {
   "cell_type": "code",
   "execution_count": null,
   "id": "ce277627",
   "metadata": {},
   "outputs": [],
   "source": [
    "keys_to_check_in_config = ['mlflow_experiment', 'n_sample_posts_files', 'n_sample_comments_files', 'aggregate_params', 'calculate_similarites']\n",
    "\n",
    "for k_ in keys_to_check_in_config:\n",
    "    v_ = config_test_sample_lc_false.config_dict.get(k_)\n",
    "    if isinstance(v_, dict):\n",
    "        print(f\"\\n{k_}:\")\n",
    "        [print(f\"  {k2_}: \\t{v2_}\") for k2_, v2_ in v_.items()]\n",
    "    else:\n",
    "        print(f\"{k_}: \\t{v_}\")"
   ]
  },
  {
   "cell_type": "code",
   "execution_count": 47,
   "id": "fcaeb0cf",
   "metadata": {},
   "outputs": [
    {
     "name": "stderr",
     "output_type": "stream",
     "text": [
      "19:57:10 | INFO | \"== Start run_aggregation() method ==\"\n",
      "19:57:10 | INFO | \"MLflow tracking URI: sqlite:////home/jupyter/subreddit_clustering_i18n/mlflow_sync/djb-100-2021-04-28-djb-eda-german-subs/mlruns.db\"\n",
      "19:57:10 | INFO | \"  Local model saving directory: /home/jupyter/subreddit_clustering_i18n/data/models/aggregate_embeddings/2021-10-05_195710-sample_test_lc_false-2021-10-05_195710\"\n",
      "19:57:10 | INFO | \"  Saving config to local path...\"\n",
      "19:57:10 | INFO | \"  Logging config to mlflow...\"\n",
      "19:57:11 | INFO | \"-- Start _load_raw_embeddings() method --\"\n",
      "19:57:11 | INFO | \"Loading subreddit description embeddings...\"\n",
      "19:57:11 | INFO | \"Local folder to download artifact(s):\n",
      "  /home/jupyter/subreddit_clustering_i18n/data/local_cache/mlflow/mlruns/14/8eef951842a34a6e81d176b15ae74afd/artifacts/df_vect_subreddits_description\"\n"
     ]
    },
    {
     "data": {
      "application/vnd.jupyter.widget-view+json": {
       "model_id": "49464806932c46368a7d3cd6b2eabfdd",
       "version_major": 2,
       "version_minor": 0
      },
      "text/plain": [
       "  0%|          | 0/5 [00:00<?, ?it/s]"
      ]
     },
     "metadata": {},
     "output_type": "display_data"
    },
    {
     "name": "stderr",
     "output_type": "stream",
     "text": [
      "19:57:11 | INFO | \"  Parquet files found: 2\"\n",
      "19:57:12 | INFO | \"      19,262 |  513 <- Raw vectorized subreddit description shape\"\n",
      "19:57:12 | INFO | \"Loading POSTS embeddings...\"\n",
      "19:57:12 | INFO | \"  Sampling POSTS FILES down to: 5\"\n",
      "19:57:13 | INFO | \"Local folder to download artifact(s):\n",
      "  /home/jupyter/subreddit_clustering_i18n/data/local_cache/mlflow/mlruns/14/8eef951842a34a6e81d176b15ae74afd/artifacts/df_vect_posts\"\n"
     ]
    },
    {
     "data": {
      "application/vnd.jupyter.widget-view+json": {
       "model_id": "c3d97385eaab4a61a34d7a315aefe926",
       "version_major": 2,
       "version_minor": 0
      },
      "text/plain": [
       "  0%|          | 0/28 [00:00<?, ?it/s]"
      ]
     },
     "metadata": {},
     "output_type": "display_data"
    },
    {
     "name": "stderr",
     "output_type": "stream",
     "text": [
      "19:57:13 | INFO | \"  Parquet files found: 5\"\n",
      "19:57:17 | INFO | \"   1,560,976 |  514 <- Raw POSTS shape\"\n",
      "19:57:23 | INFO | \"Loading COMMENTS embeddings...\"\n",
      "19:57:23 | INFO | \"  Sampling COMMENTS FILES down to: 10\"\n",
      "19:57:23 | INFO | \"  Sampling 5 FILES per run UUID\"\n",
      "19:57:23 | INFO | \"Local folder to download artifact(s):\n",
      "  /home/jupyter/subreddit_clustering_i18n/data/local_cache/mlflow/mlruns/14/5f10cd75334142168a6ebb787e477c1f/artifacts/df_vect_comments\"\n"
     ]
    },
    {
     "data": {
      "application/vnd.jupyter.widget-view+json": {
       "model_id": "ce441ddf83f4456eafbabb04c8d1bc25",
       "version_major": 2,
       "version_minor": 0
      },
      "text/plain": [
       "  0%|          | 0/21 [00:00<?, ?it/s]"
      ]
     },
     "metadata": {},
     "output_type": "display_data"
    },
    {
     "name": "stderr",
     "output_type": "stream",
     "text": [
      "20:01:18 | INFO | \"  Parquet files found: 5\"\n",
      "20:01:19 | INFO | \"Local folder to download artifact(s):\n",
      "  /home/jupyter/subreddit_clustering_i18n/data/local_cache/mlflow/mlruns/14/2fcfefc3d5af43328168d3478b4fdeb6/artifacts/df_vect_comments\"\n"
     ]
    },
    {
     "data": {
      "application/vnd.jupyter.widget-view+json": {
       "model_id": "76dfb8cd3b304e088c5c19a391c90811",
       "version_major": 2,
       "version_minor": 0
      },
      "text/plain": [
       "  0%|          | 0/40 [00:00<?, ?it/s]"
      ]
     },
     "metadata": {},
     "output_type": "display_data"
    },
    {
     "name": "stderr",
     "output_type": "stream",
     "text": [
      "20:08:49 | INFO | \"  Parquet files found: 5\"\n",
      "20:08:49 | INFO | \"  Keep only comments for posts with embeddings\"\n",
      "20:08:54 | INFO | \"  0:11:43.326935 <- Total raw embeddings load time elapsed\"\n",
      "20:08:54 | INFO | \"-- Start _load_metadata() method --\"\n",
      "20:08:54 | INFO | \"Loading POSTS metadata...\"\n",
      "20:08:54 | INFO | \"Reading raw data...\"\n",
      "20:08:55 | INFO | \"Local folder to download artifact(s):\n",
      "  /home/jupyter/subreddit_clustering_i18n/data/local_cache/posts/top/2021-09-27\"\n"
     ]
    },
    {
     "data": {
      "application/vnd.jupyter.widget-view+json": {
       "model_id": "10d81b41fa8a466c814dac2813757ce1",
       "version_major": 2,
       "version_minor": 0
      },
      "text/plain": [
       "  0%|          | 0/27 [00:00<?, ?it/s]"
      ]
     },
     "metadata": {},
     "output_type": "display_data"
    },
    {
     "name": "stderr",
     "output_type": "stream",
     "text": [
      "20:09:49 | INFO | \"  Applying transformations...\"\n",
      "20:10:27 | INFO | \"  (8439672, 15) <- Raw META POSTS shape\"\n",
      "20:10:27 | INFO | \"Loading subs metadata...\"\n",
      "20:10:27 | INFO | \"  reading sub-level data & merging with aggregates...\"\n",
      "20:10:27 | INFO | \"Reading raw data...\"\n",
      "20:10:27 | INFO | \"Local folder to download artifact(s):\n",
      "  /home/jupyter/subreddit_clustering_i18n/data/local_cache/subreddits/top/2021-09-24\"\n"
     ]
    },
    {
     "data": {
      "application/vnd.jupyter.widget-view+json": {
       "model_id": "de4703ab069f46b59557a313397915c9",
       "version_major": 2,
       "version_minor": 0
      },
      "text/plain": [
       "  0%|          | 0/1 [00:00<?, ?it/s]"
      ]
     },
     "metadata": {},
     "output_type": "display_data"
    },
    {
     "name": "stderr",
     "output_type": "stream",
     "text": [
      "20:10:29 | INFO | \"  Applying transformations...\"\n",
      "20:10:39 | INFO | \"  (19262, 91) <- Raw META subreddit description shape\"\n",
      "20:10:39 | INFO | \"Loading COMMENTS metadata...\"\n",
      "20:10:39 | INFO | \"Local folder to download artifact(s):\n",
      "  /home/jupyter/subreddit_clustering_i18n/data/local_cache/comments/top/2021-10-04\"\n"
     ]
    },
    {
     "data": {
      "application/vnd.jupyter.widget-view+json": {
       "model_id": "2acba067aa7b4c139d148627d7fa3e98",
       "version_major": 2,
       "version_minor": 0
      },
      "text/plain": [
       "  0%|          | 0/59 [00:00<?, ?it/s]"
      ]
     },
     "metadata": {},
     "output_type": "display_data"
    },
    {
     "name": "stderr",
     "output_type": "stream",
     "text": [
      "20:12:10 | INFO | \"  (Delayed('int-e6188e6d-6319-487d-b054-bea8a30d912b'), 7) <- Raw META COMMENTS shape\"\n",
      "20:12:10 | INFO | \"  0:03:15.218880 <- Total metadata loading time elapsed\"\n",
      "20:12:10 | INFO | \"-- Start _agg_comments_to_post_level() method --\"\n",
      "20:12:10 | INFO | \"Getting count of comments per post...\"\n",
      "20:12:39 | INFO | \"Filtering which comments need to be averaged...\"\n",
      "20:13:23 | INFO | \"       22,197 <- Comments that DON'T need to be averaged\"\n",
      "20:13:23 | INFO | \"    1,087,458 <- Comments that need to be averaged\"\n",
      "20:13:28 | INFO | \"No column to weight comments, simple mean for comments at post level\"\n",
      "20:13:57 | INFO | \"      191,558 |  514 <- df_v_com_agg SHAPE\"\n",
      "20:13:57 | INFO | \"  0:01:46.878385 <- Total comments to post agg loading time elapsed\"\n",
      "20:13:57 | INFO | \"-- Start (df_posts_agg_b) _agg_posts_and_comments_to_post_level() method --\"\n",
      "20:13:59 | INFO | \"DEFINE agg_posts_w_comments...\"\n",
      "20:13:59 | INFO | \"  (Delayed('int-6b8041bc-e42f-4c56-914c-7333a1959a2c'), 513) <- df_agg_posts_w_comments.shape (only posts with comments)\"\n",
      "20:13:59 | INFO | \"Concat aggregated comments+posts with posts-without comments\"\n",
      "20:16:37 | INFO | \"    1,560,976 |  514 <- df_posts_agg_b shape after aggregation\"\n",
      "20:16:37 | INFO | \"  0:02:39.313964 <- Total (df_posts_agg_b) posts & comments agg time elapsed\"\n",
      "20:16:37 | INFO | \"-- Start (df_posts_agg_c) _agg_posts_comments_and_sub_descriptions_to_post_level() method --\"\n",
      "20:16:38 | INFO | \"  (Delayed('int-20048bd5-4891-4a1c-b0c3-24f13a871004'), 513) <- df_agg_posts_w_sub.shape (only posts with comments)\"\n",
      "20:16:38 | INFO | \"  0:00:01.679966 <- Total (df_posts_agg_c) posts+comments+subs agg time elapsed\"\n",
      "20:16:38 | INFO | \"-- Start _agg_post_aggregates_to_subreddit_level() method --\"\n",
      "20:16:38 | INFO | \"No column to weight comments, simple mean to roll up posts to subreddit-level...\"\n",
      "20:16:38 | INFO | \"A - posts only\"\n",
      "20:16:39 | INFO | \"  (Delayed('int-3ee084d4-434c-4a38-aeb1-185b50648908'), 513) <- df_subs_agg_a.shape (only posts)\"\n",
      "20:16:39 | INFO | \"B - posts + comments\"\n",
      "20:16:39 | INFO | \"  (Delayed('int-6bd21f72-fc1d-495c-987a-1da6e4a18683'), 513) <- df_subs_agg_b.shape (posts + comments)\"\n",
      "20:16:39 | INFO | \"C - posts + comments + sub descriptions\"\n",
      "20:16:40 | INFO | \"  (Delayed('int-59c54047-7ac8-49cb-81b3-478b4ae5b60e'), 513) <- df_subs_agg_c.shape (posts + comments + sub description)\"\n",
      "20:16:40 | INFO | \"  0:00:01.507065 <- Total for ALL subreddit-level agg time elapsed\"\n",
      "20:16:40 | INFO | \"-- Start _calculate_subreddit_similarities() method --\"\n",
      "20:16:40 | INFO | \"A...\"\n",
      "20:16:56 | INFO | \"  (4924, 4924) <- df_subs_agg_a_similarity.shape\"\n",
      "20:17:21 | INFO | \"Merge distance + metadata...\"\n",
      "20:17:59 | INFO | \"Create new df to keep only top 20 subs by distance...\"\n",
      "20:18:10 | INFO | \"  (24240852, 11) <- df_dist_pair_meta.shape (before setting index)\"\n",
      "20:18:10 | INFO | \"  (98480, 11) <- df_dist_pair_meta_top_only.shape (before setting index)\"\n",
      "20:18:17 | INFO | \"B...\"\n",
      "20:23:52 | INFO | \"  (4924, 4924) <- df_subs_agg_b_similarity.shape\"\n",
      "20:24:16 | INFO | \"Merge distance + metadata...\"\n",
      "20:24:55 | INFO | \"Create new df to keep only top 20 subs by distance...\"\n",
      "20:25:05 | INFO | \"  (24240852, 11) <- df_dist_pair_meta.shape (before setting index)\"\n",
      "20:25:05 | INFO | \"  (98480, 11) <- df_dist_pair_meta_top_only.shape (before setting index)\"\n",
      "20:25:12 | INFO | \"C...\"\n",
      "20:52:44 | INFO | \"  (4924, 4924) <- df_subs_agg_c_similarity.shape\"\n",
      "20:53:08 | INFO | \"Merge distance + metadata...\"\n",
      "20:53:47 | INFO | \"Create new df to keep only top 20 subs by distance...\"\n",
      "20:53:57 | INFO | \"  (24240852, 11) <- df_dist_pair_meta.shape (before setting index)\"\n",
      "20:53:57 | INFO | \"  (98480, 11) <- df_dist_pair_meta_top_only.shape (before setting index)\"\n",
      "20:54:04 | INFO | \"  0:37:24.347689 <- Total for _calculate_subreddit_similarities() time elapsed\"\n",
      "20:54:04 | INFO | \"-- Start _save_and_log_aggregate_and_similarity_dfs() method --\"\n",
      "20:54:04 | INFO | \"  Saving config to local path...\"\n",
      "20:54:04 | INFO | \"  Logging config to mlflow...\"\n"
     ]
    },
    {
     "data": {
      "application/vnd.jupyter.widget-view+json": {
       "model_id": "5f51a3e905c04dde8c553d85d3cfaa25",
       "version_major": 2,
       "version_minor": 0
      },
      "text/plain": [
       "  0%|          | 0/11 [00:00<?, ?it/s]"
      ]
     },
     "metadata": {},
     "output_type": "display_data"
    },
    {
     "name": "stderr",
     "output_type": "stream",
     "text": [
      "20:54:05 | INFO | \"** df_sub_level_agg_c_post_comments_and_sub_desc **\"\n",
      "20:54:05 | INFO | \"Saving locally...\"\n",
      "21:13:56 | INFO | \"  Saving existing dask df as parquet...\"\n",
      "21:33:11 | INFO | \"Logging artifact to mlflow...\"\n",
      "21:33:14 | INFO | \"** df_sub_level_agg_c_post_comments_and_sub_desc_similarity **\"\n",
      "21:33:14 | INFO | \"Saving locally...\"\n",
      "21:33:14 | INFO | \"Keeping index intact...\"\n",
      "21:33:14 | INFO | \"Converting pandas to dask...\"\n",
      "21:33:15 | INFO | \"   185.4 MB <- Memory usage\"\n",
      "21:33:15 | INFO | \"       5\t<- target Dask partitions\t   40.0 <- target MB partition size\"\n",
      "21:33:19 | INFO | \"Logging artifact to mlflow...\"\n",
      "21:33:22 | INFO | \"** df_sub_level_agg_c_post_comments_and_sub_desc_similarity_pair **\"\n",
      "21:33:22 | INFO | \"Saving locally...\"\n",
      "21:33:24 | INFO | \"Converting pandas to dask...\"\n",
      "21:33:35 | INFO | \"  10,391.8 MB <- Memory usage\"\n",
      "21:33:35 | INFO | \"     139\t<- target Dask partitions\t   75.0 <- target MB partition size\"\n",
      "21:33:55 | INFO | \"Logging artifact to mlflow...\"\n",
      "21:34:30 | INFO | \"** df_sub_level_agg_b_post_and_comments **\"\n",
      "21:34:30 | INFO | \"Saving locally...\"\n",
      "21:37:43 | INFO | \"  Saving existing dask df as parquet...\"\n",
      "21:41:38 | INFO | \"Logging artifact to mlflow...\"\n",
      "21:41:38 | INFO | \"** df_sub_level_agg_b_post_and_comments_similarity **\"\n",
      "21:41:38 | INFO | \"Saving locally...\"\n",
      "21:41:38 | INFO | \"Keeping index intact...\"\n",
      "21:41:38 | INFO | \"Converting pandas to dask...\"\n",
      "21:41:39 | INFO | \"   185.4 MB <- Memory usage\"\n",
      "21:41:39 | INFO | \"       5\t<- target Dask partitions\t   40.0 <- target MB partition size\"\n",
      "21:41:44 | INFO | \"Logging artifact to mlflow...\"\n",
      "21:41:47 | INFO | \"** df_sub_level_agg_b_post_and_comments_similarity_pair **\"\n",
      "21:41:47 | INFO | \"Saving locally...\"\n",
      "21:41:49 | INFO | \"Converting pandas to dask...\"\n",
      "21:42:00 | INFO | \"  10,391.8 MB <- Memory usage\"\n",
      "21:42:00 | INFO | \"     139\t<- target Dask partitions\t   75.0 <- target MB partition size\"\n",
      "21:42:19 | INFO | \"Logging artifact to mlflow...\"\n",
      "21:42:55 | INFO | \"** df_sub_level_agg_a_post_only **\"\n",
      "21:42:55 | INFO | \"Saving locally...\"\n",
      "21:43:02 | INFO | \"  Saving existing dask df as parquet...\"\n",
      "21:43:11 | INFO | \"Logging artifact to mlflow...\"\n",
      "21:43:12 | INFO | \"** df_sub_level_agg_a_post_only_similarity **\"\n",
      "21:43:12 | INFO | \"Saving locally...\"\n",
      "21:43:12 | INFO | \"Keeping index intact...\"\n",
      "21:43:12 | INFO | \"Converting pandas to dask...\"\n",
      "21:43:12 | INFO | \"   185.4 MB <- Memory usage\"\n",
      "21:43:12 | INFO | \"       5\t<- target Dask partitions\t   40.0 <- target MB partition size\"\n",
      "21:43:17 | INFO | \"Logging artifact to mlflow...\"\n",
      "21:43:20 | INFO | \"** df_sub_level_agg_a_post_only_similarity_pair **\"\n",
      "21:43:20 | INFO | \"Saving locally...\"\n",
      "21:43:22 | INFO | \"Converting pandas to dask...\"\n",
      "21:43:33 | INFO | \"  10,391.8 MB <- Memory usage\"\n",
      "21:43:33 | INFO | \"     139\t<- target Dask partitions\t   75.0 <- target MB partition size\"\n",
      "21:43:53 | INFO | \"Logging artifact to mlflow...\"\n",
      "21:44:28 | INFO | \"** df_post_level_agg_b_post_and_comments **\"\n",
      "21:44:28 | INFO | \"Saving locally...\"\n",
      "21:46:38 | INFO | \"  Saving existing dask df as parquet...\"\n",
      "21:48:56 | INFO | \"Logging artifact to mlflow...\"\n",
      "21:49:42 | INFO | \"** df_post_level_agg_c_post_comments_sub_desc **\"\n",
      "21:49:42 | INFO | \"Saving locally...\"\n",
      "22:05:52 | INFO | \"  Saving existing dask df as parquet...\"\n",
      "22:23:29 | INFO | \"Logging artifact to mlflow...\"\n",
      "22:24:16 | INFO | \"  1:30:12.320788 <- Total for _save_and_log_aggregate_and_similarity_dfs() time elapsed\"\n",
      "22:24:16 | INFO | \"  2:27:06.457060 <- Total Agg fxn time time elapsed\"\n",
      "22:24:17 | INFO | \"== COMPLETE run_aggregation() method ==\"\n"
     ]
    },
    {
     "name": "stdout",
     "output_type": "stream",
     "text": [
      "CPU times: user 1h 2min 24s, sys: 7min 21s, total: 1h 9min 46s\n",
      "Wall time: 2h 27min 8s\n"
     ]
    },
    {
     "data": {
      "text/plain": [
       "13532"
      ]
     },
     "execution_count": 47,
     "metadata": {},
     "output_type": "execute_result"
    }
   ],
   "source": [
    "%%time\n",
    "\n",
    "mlflow.end_run(\"FAILED\")\n",
    "gc.collect()\n",
    "try:\n",
    "    del job_agg1\n",
    "    del d_dfs1\n",
    "except NameError:\n",
    "    pass\n",
    "gc.collect()\n",
    "\n",
    "job_agg_test = AggregateEmbeddings(\n",
    "    run_name=f\"sample_test_lc_false-{datetime.utcnow().strftime('%Y-%m-%d_%H%M%S')}\",\n",
    "    **config_test_sample_lc_false.config_flat\n",
    ")\n",
    "job_agg_test.run_aggregation()\n",
    "\n",
    "gc.collect()"
   ]
  },
  {
   "cell_type": "code",
   "execution_count": null,
   "id": "18b8d873",
   "metadata": {},
   "outputs": [],
   "source": []
  },
  {
   "cell_type": "markdown",
   "id": "178ffb49",
   "metadata": {},
   "source": [
    "### time profiling\n",
    "\n",
    "inputs:\n",
    "``` python\n",
    "mlflow_experiment: \tv0.4.0_use_multi_aggregates_test\n",
    "n_sample_posts_files: \t5\n",
    "n_sample_comments_files: \t10\n",
    "\n",
    "aggregate_params:\n",
    "  min_comment_text_len: \t10\n",
    "  agg_comments_to_post_weight_col: \tNone\n",
    "  agg_post_to_subreddit_weight_col: \tNone\n",
    "  agg_post_post_weight: \t70\n",
    "  agg_post_comment_weight: \t20\n",
    "  agg_post_subreddit_desc_weight: \t10\n",
    "```\n",
    "\n",
    "cluster set up:\n",
    "```\n",
    "96 CPUS\n",
    "640 GB RAM\n",
    "\n",
    "8 workers\n",
    "- 12 threads per worker\n",
    "- 76 GB per worker\n",
    "```"
   ]
  },
  {
   "cell_type": "markdown",
   "id": "c55d64de",
   "metadata": {},
   "source": [
    "### Filtered/selected logs\n",
    "\n",
    "Overview:\n",
    "\n",
    "| Time/ETA | Step | Notes |\n",
    "| --- | --- | --- |\n",
    "| `0:11:43` minutes | load raw embeddings (w/o caching) | |\n",
    "| `0:03:15` minutes | Load metadata (w/o caching):  |  | \n",
    "| `0:04:30` minutes | Aggegation steps (all) | Note that this might only be the time to create the dag, not necessarily the time to actually compute the data | \n",
    "| `0:37:24` minutes | Calculate similarities  |  | \n",
    "| `1:30:00` HOURS | Saving & logging files | Saving alone could take more than 1 hour... mand I'd forgotten about this | \n",
    "|  |  |  | \n",
    "\n",
    "\n",
    "Note that there's very different ETAs for saving each DF, the first 2 are really large and take a long time. The last few are smaller, so the time estimates from `tqdm` can vary a ton:\n",
    "```bash\n",
    "3/11 [40:25<1:14:34, 559.33s/it]   27%\n",
    "9/11 [50:22<03:22, 101.02s/it]     82% \n",
    "11/11 [1:30:11<00:00, 750.74s/it] 100%\n",
    "```\n",
    "\n"
   ]
  },
  {
   "cell_type": "markdown",
   "id": "a70f7127",
   "metadata": {},
   "source": [
    "More details in log file:\n",
    "\n",
    "`logs/AggregateEmbeddings/2021-10-05_195710-sample_test_lc_false-2021-10-05_195710.log`\n",
    "\n",
    "\n",
    "```bash\n",
    "# load raw embeddings (w/o caching): 11:43 minutes\n",
    "# ---\n",
    "20:01:19 | INFO | \"Local folder to download artifact(s):\n",
    "  /home/jupyter/subreddit_clustering_i18n/data/local_cache/mlflow/mlruns/14/2fcfefc3d5af43328168d3478b4fdeb6/artifacts/df_vect_comments\"\n",
    "40/40 [07:29<00:00, 8.17s/it]\n",
    "20:08:49 | INFO | \"  Parquet files found: 5\"\n",
    "20:08:49 | INFO | \"  Keep only comments for posts with embeddings\"\n",
    "20:08:54 | INFO | \"  0:11:43.326935 <- Total raw embeddings load time elapsed\"\n",
    "\n",
    "\n",
    "# Load metadata (w/o caching): 3:15 minutes\n",
    "# ---\n",
    "20:08:54 | INFO | \"-- Start _load_metadata() method --\"\n",
    "20:08:54 | INFO | \"Loading POSTS metadata...\"\n",
    "\n",
    "20:10:39 | INFO | \"Local folder to download artifact(s):\n",
    "  /home/jupyter/subreddit_clustering_i18n/data/local_cache/comments/top/2021-10-04\"\n",
    "100%\n",
    "59/59 [01:30<00:00, 1.43s/it]\n",
    "20:12:10 | INFO | \"  (Delayed('int-e6188e6d-6319-487d-b054-bea8a30d912b'), 7) <- Raw META COMMENTS shape\"\n",
    "20:12:10 | INFO | \"  0:03:15.218880 <- Total metadata loading time elapsed\"\n",
    "\n",
    "\n",
    "# Aggegation steps (all): 4:30 minutes\n",
    "#   Note that this might only be the time to create the dag, not necessarily the time to actually compute the data\n",
    "20:12:10 | INFO | \"-- Start _agg_comments_to_post_level() method --\"\n",
    "20:12:10 | INFO | \"Getting count of comments per post...\"\n",
    "20:12:39 | INFO | \"Filtering which comments need to be averaged...\"\n",
    "20:13:23 | INFO | \"       22,197 <- Comments that DON'T need to be averaged\"\n",
    "20:13:23 | INFO | \"    1,087,458 <- Comments that need to be averaged\"\n",
    "20:13:28 | INFO | \"No column to weight comments, simple mean for comments at post level\"\n",
    "20:13:57 | INFO | \"      191,558 |  514 <- df_v_com_agg SHAPE\"\n",
    "20:13:57 | INFO | \"  0:01:46.878385 <- Total comments to post agg loading time elapsed\"\n",
    "20:13:57 | INFO | \"-- Start (df_posts_agg_b) _agg_posts_and_comments_to_post_level() method --\"\n",
    "20:13:59 | INFO | \"DEFINE agg_posts_w_comments...\"\n",
    "...\n",
    "20:16:38 | INFO | \"A - posts only\"\n",
    "20:16:39 | INFO | \"  (Delayed('int-3ee084d4-434c-4a38-aeb1-185b50648908'), 513) <- df_subs_agg_a.shape (only posts)\"\n",
    "20:16:39 | INFO | \"B - posts + comments\"\n",
    "20:16:39 | INFO | \"  (Delayed('int-6bd21f72-fc1d-495c-987a-1da6e4a18683'), 513) <- df_subs_agg_b.shape (posts + comments)\"\n",
    "20:16:39 | INFO | \"C - posts + comments + sub descriptions\"\n",
    "20:16:40 | INFO | \"  (Delayed('int-59c54047-7ac8-49cb-81b3-478b4ae5b60e'), 513) <- df_subs_agg_c.shape (posts + comments + sub description)\"\n",
    "20:16:40 | INFO | \"  0:00:01.507065 <- Total for ALL subreddit-level agg time elapsed\"\n",
    "\n",
    "\n",
    "# Calculate similarities 37:24 minutes\n",
    "20:16:40 | INFO | \"-- Start _calculate_subreddit_similarities() method --\"\n",
    "20:16:40 | INFO | \"A...\"\n",
    "20:16:56 | INFO | \"  (4924, 4924) <- df_subs_agg_a_similarity.shape\"\n",
    "20:17:21 | INFO | \"Merge distance + metadata...\"\n",
    "20:17:59 | INFO | \"Create new df to keep only top 20 subs by distance...\"\n",
    "20:18:10 | INFO | \"  (24240852, 11) <- df_dist_pair_meta.shape (before setting index)\"\n",
    "20:18:10 | INFO | \"  (98480, 11) <- df_dist_pair_meta_top_only.shape (before setting index)\"\n",
    "...\n",
    "20:54:04 | INFO | \"  0:37:24.347689 <- Total for _calculate_subreddit_similarities() time elapsed\"\n",
    "\n",
    "\n",
    "# *** Saving & logging file: WTF? Saving alone could take more than 2 hours!! WTF?!!  ***\n",
    "20:54:04 | INFO | \"-- Start _save_and_log_aggregate_and_similarity_dfs() method --\"\n",
    "20:54:04 | INFO | \"  Saving config to local path...\"\n",
    "20:54:04 | INFO | \"  Logging config to mlflow...\"\n",
    "*** 3/11 [40:25<1:14:34, 559.33s/it]  27%   ***\n",
    "20:54:05 | INFO | \"** df_sub_level_agg_c_post_comments_and_sub_desc **\"\n",
    "20:54:05 | INFO | \"Saving locally...\"\n",
    "...\n",
    "21:13:56 | INFO | \"  Saving existing dask df as parquet...\"\n",
    "21:33:11 | INFO | \"Logging artifact to mlflow...\"\n",
    "21:33:14 | INFO | \"** df_sub_level_agg_c_post_comments_and_sub_desc_similarity **\"\n",
    "21:33:14 | INFO | \"Saving locally...\"\n",
    "\n",
    "```"
   ]
  },
  {
   "cell_type": "code",
   "execution_count": null,
   "id": "6bb45566",
   "metadata": {},
   "outputs": [],
   "source": []
  }
 ],
 "metadata": {
  "environment": {
   "name": "common-cpu.m65",
   "type": "gcloud",
   "uri": "gcr.io/deeplearning-platform-release/base-cpu:m65"
  },
  "kernelspec": {
   "display_name": "Python 3",
   "language": "python",
   "name": "python3"
  },
  "language_info": {
   "codemirror_mode": {
    "name": "ipython",
    "version": 3
   },
   "file_extension": ".py",
   "mimetype": "text/x-python",
   "name": "python",
   "nbconvert_exporter": "python",
   "pygments_lexer": "ipython3",
   "version": "3.7.10"
  }
 },
 "nbformat": 4,
 "nbformat_minor": 5
}
