{
 "cells": [
  {
   "cell_type": "markdown",
   "id": "96423a43",
   "metadata": {},
   "source": [
    "# Purpose\n",
    "\n",
    "2021-07-28.\n",
    "Test whether inference speeds are faster when using GPUs (it **should** be much faster).\n",
    "\n",
    "---\n",
    "2021-06-28.\n",
    "Test different parallel frameworks to speed up getting embeddings from USE-multilingual.\n",
    "\n",
    "test:\n",
    "- list\n",
    "- tf.apply\n",
    "- dask\n",
    "    - had a weird time trying to compute these...\n",
    "\n",
    "Had a hard time installing these:\n",
    "- ~modin~\n",
    "- ~pandarallel~\n"
   ]
  },
  {
   "cell_type": "markdown",
   "id": "d69d32e6",
   "metadata": {},
   "source": [
    "# Notebook setup"
   ]
  },
  {
   "cell_type": "code",
   "execution_count": 2,
   "id": "258e0059",
   "metadata": {},
   "outputs": [],
   "source": [
    "%load_ext autoreload\n",
    "%autoreload 2"
   ]
  },
  {
   "cell_type": "code",
   "execution_count": 35,
   "id": "148e7a0c",
   "metadata": {},
   "outputs": [
    {
     "name": "stdout",
     "output_type": "stream",
     "text": [
      "python\t\tv 3.7.10\n",
      "===\n",
      "numpy\t\tv: 1.18.5\n",
      "pandas\t\tv: 1.2.5\n",
      "plotly\t\tv: 4.14.3\n",
      "subclu\t\tv: 0.3.2\n"
     ]
    }
   ],
   "source": [
    "from datetime import datetime\n",
    "import gc\n",
    "import os\n",
    "import logging\n",
    "from pprint import pprint\n",
    "\n",
    "from tqdm.auto import tqdm\n",
    "# import fse\n",
    "# from fse.models import uSIF\n",
    "# import gensim\n",
    "# from gensim.models.fasttext import FastText, load_facebook_vectors\n",
    "import joblib\n",
    "\n",
    "import math\n",
    "import numpy as np\n",
    "import pandas as pd\n",
    "import plotly\n",
    "import plotly.express as px\n",
    "\n",
    "# modin df\n",
    "# import modin\n",
    "# import modin.pandas as mpd\n",
    "\n",
    "import subclu\n",
    "# from subclu.data.fasttext_utils import (\n",
    "#     download_ft_pretrained_model,\n",
    "#     get_df_for_most_similar,\n",
    "#     get_project_subfolder,\n",
    "# )\n",
    "from subclu.utils import set_working_directory\n",
    "from subclu.utils.eda import (\n",
    "    setup_logging, counts_describe, value_counts_and_pcts,\n",
    "    notebook_display_config, print_lib_versions,\n",
    "    style_df_numeric\n",
    ")\n",
    "from subclu.eda.aggregates import (\n",
    "    compare_raw_v_weighted_language\n",
    ")\n",
    "from subclu.utils.data_irl_style import (\n",
    "    get_colormap, theme_dirl\n",
    ")\n",
    "from subclu.models.vectorize_text import get_embeddings_as_df\n",
    "from subclu.data.data_loaders import LoadPosts, LoadSubreddits, create_sub_level_aggregates\n",
    "\n",
    "print_lib_versions([\n",
    "#     fse, gensim, joblib, modin, \n",
    "    np, pd, plotly, subclu\n",
    "])"
   ]
  },
  {
   "cell_type": "code",
   "execution_count": 36,
   "id": "ea577059",
   "metadata": {},
   "outputs": [
    {
     "name": "stdout",
     "output_type": "stream",
     "text": [
      "python\t\tv 3.7.10\n",
      "===\n",
      "tensorflow\tv: 2.3.3\n",
      "tensorflow_text\tv: 2.3.0\n"
     ]
    }
   ],
   "source": [
    "# USE & TF-focused imports\n",
    "import tensorflow\n",
    "import tensorflow as tf\n",
    "# import tensorflow.compat.v2 as tf\n",
    "import tensorflow_hub as hub\n",
    "import tensorflow_text\n",
    "from tensorflow.python.client import device_lib\n",
    "\n",
    "print_lib_versions([tensorflow, tensorflow_text])"
   ]
  },
  {
   "cell_type": "code",
   "execution_count": 5,
   "id": "adaa565b",
   "metadata": {},
   "outputs": [],
   "source": [
    "# plotting\n",
    "import matplotlib.pyplot as plt\n",
    "import matplotlib.ticker as mtick\n",
    "import matplotlib.dates as mdates\n",
    "plt.style.use('default')\n",
    "\n",
    "setup_logging()\n",
    "notebook_display_config()"
   ]
  },
  {
   "cell_type": "markdown",
   "id": "c8754ccf",
   "metadata": {},
   "source": [
    "# Check whether we have access to a GPU"
   ]
  },
  {
   "cell_type": "code",
   "execution_count": 6,
   "id": "e631cbc5",
   "metadata": {},
   "outputs": [
    {
     "name": "stdout",
     "output_type": "stream",
     "text": [
      "Num GPUs Available:  1\n"
     ]
    }
   ],
   "source": [
    "print(\"Num GPUs Available: \", len(tf.config.list_physical_devices('GPU')))"
   ]
  },
  {
   "cell_type": "code",
   "execution_count": 7,
   "id": "546dd5f8",
   "metadata": {},
   "outputs": [],
   "source": [
    "# %%time\n",
    "\n",
    "# # don't set debug logging to True in this notebook because we'll be overloaded with TF debug statements\n",
    "# tf.debugging.set_log_device_placement(True)\n",
    "\n",
    "# # Create some tensors\n",
    "# a = tf.constant([[1.0, 2.0, 3.0], [4.0, 5.0, 6.0]])\n",
    "# b = tf.constant([[1.0, 2.0], [3.0, 4.0], [5.0, 6.0]])\n",
    "# c = tf.matmul(a, b)\n",
    "\n",
    "# print(c)"
   ]
  },
  {
   "cell_type": "markdown",
   "id": "4d2c913e",
   "metadata": {},
   "source": [
    "## List devices"
   ]
  },
  {
   "cell_type": "code",
   "execution_count": 8,
   "id": "53adeb96",
   "metadata": {},
   "outputs": [
    {
     "name": "stdout",
     "output_type": "stream",
     "text": [
      "\n",
      "Built with CUDA? True\n",
      "\n",
      "GPUs\n",
      "===\n",
      "Num GPUs Available: 2\n",
      "GPU details:\n",
      "[PhysicalDevice(name='/physical_device:GPU:0', device_type='GPU'), PhysicalDevice(name='/physical_device:XLA_GPU:0', device_type='XLA_GPU')]\n"
     ]
    }
   ],
   "source": [
    "l_phys_gpus = (\n",
    "    tf.config.list_physical_devices('GPU') +\n",
    "    tf.config.list_physical_devices('XLA_GPU')\n",
    ")\n",
    "\n",
    "print(\n",
    "    f\"\\nBuilt with CUDA? {tf.test.is_built_with_cuda()}\"\n",
    "    f\"\\n\\nGPUs\\n===\"\n",
    "    f\"\\nNum GPUs Available: {len(l_phys_gpus)}\"\n",
    "    f\"\\nGPU details:\\n{l_phys_gpus}\"\n",
    ")"
   ]
  },
  {
   "cell_type": "code",
   "execution_count": 9,
   "id": "5042abb7",
   "metadata": {},
   "outputs": [
    {
     "name": "stdout",
     "output_type": "stream",
     "text": [
      "\n",
      "Built with CUDA? True\n",
      "\n",
      "All devices:\n",
      "===\n",
      "Num devices: 4\n",
      "Details:\n",
      "[   name: \"/device:CPU:0\"\n",
      "device_type: \"CPU\"\n",
      "memory_limit: 268435456\n",
      "locality {\n",
      "}\n",
      "incarnation: 12578137409028812590\n",
      ",\n",
      "    name: \"/device:XLA_CPU:0\"\n",
      "device_type: \"XLA_CPU\"\n",
      "memory_limit: 17179869184\n",
      "locality {\n",
      "}\n",
      "incarnation: 12482155329608343755\n",
      "physical_device_desc: \"device: XLA_CPU device\"\n",
      ",\n",
      "    name: \"/device:XLA_GPU:0\"\n",
      "device_type: \"XLA_GPU\"\n",
      "memory_limit: 17179869184\n",
      "locality {\n",
      "}\n",
      "incarnation: 12344900954379005170\n",
      "physical_device_desc: \"device: XLA_GPU device\"\n",
      ",\n",
      "    name: \"/device:GPU:0\"\n",
      "device_type: \"GPU\"\n",
      "memory_limit: 14676252416\n",
      "locality {\n",
      "  bus_id: 1\n",
      "  links {\n",
      "  }\n",
      "}\n",
      "incarnation: 5314190549655588020\n",
      "physical_device_desc: \"device: 0, name: Tesla T4, pci bus id: 0000:00:04.0, compute capability: 7.5\"\n",
      "]\n"
     ]
    }
   ],
   "source": [
    "l_all_local_devices = device_lib.list_local_devices()\n",
    "print(\n",
    "    f\"\\nBuilt with CUDA? {tf.test.is_built_with_cuda()}\"\n",
    "    f\"\\n\\nAll devices:\\n===\"\n",
    "    f\"\\nNum devices: {len(l_all_local_devices)}\"\n",
    "    f\"\\nDetails:\"\n",
    ")\n",
    "pprint(l_all_local_devices, indent=4,)"
   ]
  },
  {
   "cell_type": "markdown",
   "id": "e3e7a38e",
   "metadata": {},
   "source": [
    "# Check NVIDIA CLI\n",
    "\n",
    "First, do we even see the GPUs?"
   ]
  },
  {
   "cell_type": "code",
   "execution_count": 10,
   "id": "f8579f64",
   "metadata": {},
   "outputs": [
    {
     "name": "stdout",
     "output_type": "stream",
     "text": [
      "00:04.0 3D controller: NVIDIA Corporation TU104GL [Tesla T4] (rev a1)\n"
     ]
    }
   ],
   "source": [
    "!lspci | grep 3D"
   ]
  },
  {
   "cell_type": "markdown",
   "id": "674a87cf",
   "metadata": {},
   "source": [
    "Then, are they recognized by the nvidia-smi tool?"
   ]
  },
  {
   "cell_type": "code",
   "execution_count": 11,
   "id": "e7d166a1",
   "metadata": {},
   "outputs": [
    {
     "name": "stdout",
     "output_type": "stream",
     "text": [
      "Thu Jul 29 05:55:36 2021       \n",
      "+-----------------------------------------------------------------------------+\n",
      "| NVIDIA-SMI 460.73.01    Driver Version: 460.73.01    CUDA Version: 11.2     |\n",
      "|-------------------------------+----------------------+----------------------+\n",
      "| GPU  Name        Persistence-M| Bus-Id        Disp.A | Volatile Uncorr. ECC |\n",
      "| Fan  Temp  Perf  Pwr:Usage/Cap|         Memory-Usage | GPU-Util  Compute M. |\n",
      "|                               |                      |               MIG M. |\n",
      "|===============================+======================+======================|\n",
      "|   0  Tesla T4            Off  | 00000000:00:04.0 Off |                    0 |\n",
      "| N/A   75C    P0    33W /  70W |    222MiB / 15109MiB |      0%      Default |\n",
      "|                               |                      |                  N/A |\n",
      "+-------------------------------+----------------------+----------------------+\n",
      "                                                                               \n",
      "+-----------------------------------------------------------------------------+\n",
      "| Processes:                                                                  |\n",
      "|  GPU   GI   CI        PID   Type   Process name                  GPU Memory |\n",
      "|        ID   ID                                                   Usage      |\n",
      "|=============================================================================|\n",
      "|    0   N/A  N/A     22960      C   /opt/conda/bin/python             219MiB |\n",
      "+-----------------------------------------------------------------------------+\n"
     ]
    }
   ],
   "source": [
    "!nvidia-smi"
   ]
  },
  {
   "cell_type": "markdown",
   "id": "5748fa5e",
   "metadata": {},
   "source": [
    "# Load model from hub\n",
    "\n",
    "The first time we try a model might take a while because we might need to download it from the URL.\n",
    "\n",
    "TF should cache it after that.\n",
    "\n",
    "```\n",
    "# time from CPU (after already downloaded)\n",
    "module_url_large = 'https://tfhub.dev/google/universal-sentence-encoder-multilingual-large/3' \n",
    "model = hub.load(module_url_large)\n",
    "> CPU times: user 8.98 s, sys: 1.4 s, total: 10.4 s\n",
    "> Wall time: 10.2 s\n",
    "\n",
    "\n",
    "module_url = 'https://tfhub.dev/google/universal-sentence-encoder-multilingual/3' \n",
    "model_normal = hub.load(module_url)\n",
    "> CPU times: user 8.18 s, sys: 1.79 s, total: 9.98 s\n",
    "> Wall time: 12 s\n",
    "```"
   ]
  },
  {
   "cell_type": "code",
   "execution_count": 12,
   "id": "f48613b9",
   "metadata": {},
   "outputs": [
    {
     "name": "stdout",
     "output_type": "stream",
     "text": [
      "CPU times: user 9.4 s, sys: 1.68 s, total: 11.1 s\n",
      "Wall time: 10.9 s\n"
     ]
    }
   ],
   "source": [
    "%%time\n",
    "# The 16-language multilingual module is the default but feel free\n",
    "# to pick others from the list and compare the results.\n",
    "#@param ['https://tfhub.dev/google/universal-sentence-encoder-multilingual/3', 'https://tfhub.dev/google/universal-sentence-encoder-multilingual-large/3']\n",
    "\n",
    "module_url_large = 'https://tfhub.dev/google/universal-sentence-encoder-multilingual-large/3' \n",
    "model = hub.load(module_url_large)"
   ]
  },
  {
   "cell_type": "code",
   "execution_count": 15,
   "id": "4be025f3",
   "metadata": {},
   "outputs": [
    {
     "name": "stdout",
     "output_type": "stream",
     "text": [
      "CPU times: user 4.48 s, sys: 884 ms, total: 5.37 s\n",
      "Wall time: 5.58 s\n"
     ]
    }
   ],
   "source": [
    "%%time\n",
    "# The 16-language multilingual module is the default but feel free\n",
    "# to pick others from the list and compare the results.\n",
    "#@param ['https://tfhub.dev/google/universal-sentence-encoder-multilingual/3', 'https://tfhub.dev/google/universal-sentence-encoder-multilingual-large/3']\n",
    "\n",
    "module_url = 'https://tfhub.dev/google/universal-sentence-encoder-multilingual/3' \n",
    "model_normal = hub.load(module_url)"
   ]
  },
  {
   "cell_type": "markdown",
   "id": "01359fbf",
   "metadata": {},
   "source": [
    "## Example from tutorial\n",
    "\n",
    "Large-model times:\n",
    "```\n",
    "# CPU\n",
    "CPU times: user 4.89 s, sys: 296 ms, total: 5.19 s\n",
    "Wall time: 4.94 s\n",
    "\n",
    "# GPU\n",
    "CPU times: user 3.01 s, sys: 191 ms, total: 3.2 s\n",
    "Wall time: 2.91 s\n",
    "``` "
   ]
  },
  {
   "cell_type": "markdown",
   "id": "4a0fa67d",
   "metadata": {},
   "source": [
    "Normal-model times:\n",
    "```\n",
    "# CPU\n",
    "CPU times: user 1.6 s, sys: 110 ms, total: 1.71 s\n",
    "Wall time: 2.02 s\n",
    "\n",
    "# GPU\n",
    "CPU times: user 986 ms, sys: 6.29 ms, total: 992 ms\n",
    "Wall time: 942 ms\n",
    "```"
   ]
  },
  {
   "cell_type": "code",
   "execution_count": 13,
   "id": "88b734ba",
   "metadata": {},
   "outputs": [],
   "source": [
    "# Some texts of different lengths.\n",
    "english_sentences = [\"dog\", \"Puppies are nice.\", \"I enjoy taking long walks along the beach with my dog.\"]\n",
    "italian_sentences = [\"cane\", \"I cuccioli sono carini.\", \"Mi piace fare lunghe passeggiate lungo la spiaggia con il mio cane.\"]\n",
    "japanese_sentences = [\"犬\", \"子犬はいいです\", \"私は犬と一緒にビーチを散歩するのが好きです\"]"
   ]
  },
  {
   "cell_type": "code",
   "execution_count": 14,
   "id": "f31c7d6f",
   "metadata": {},
   "outputs": [
    {
     "name": "stdout",
     "output_type": "stream",
     "text": [
      "CPU times: user 3.01 s, sys: 191 ms, total: 3.2 s\n",
      "Wall time: 2.91 s\n"
     ]
    }
   ],
   "source": [
    "%%time\n",
    "\n",
    "# Compute embeddings.\n",
    "en_result = model(english_sentences)\n",
    "it_result = model(italian_sentences)\n",
    "ja_result = model(japanese_sentences)"
   ]
  },
  {
   "cell_type": "code",
   "execution_count": 16,
   "id": "bd924880",
   "metadata": {},
   "outputs": [
    {
     "name": "stdout",
     "output_type": "stream",
     "text": [
      "CPU times: user 986 ms, sys: 6.29 ms, total: 992 ms\n",
      "Wall time: 942 ms\n"
     ]
    }
   ],
   "source": [
    "%%time\n",
    "\n",
    "# Compute embeddings.\n",
    "en_result_ = model_normal(english_sentences)\n",
    "it_result_ = model_normal(italian_sentences)\n",
    "ja_result_ = model_normal(japanese_sentences)"
   ]
  },
  {
   "cell_type": "code",
   "execution_count": 17,
   "id": "db706fc2",
   "metadata": {},
   "outputs": [
    {
     "data": {
      "text/html": [
       "<div>\n",
       "<style scoped>\n",
       "    .dataframe tbody tr th:only-of-type {\n",
       "        vertical-align: middle;\n",
       "    }\n",
       "\n",
       "    .dataframe tbody tr th {\n",
       "        vertical-align: top;\n",
       "    }\n",
       "\n",
       "    .dataframe thead th {\n",
       "        text-align: right;\n",
       "    }\n",
       "</style>\n",
       "<table border=\"1\" class=\"dataframe\">\n",
       "  <thead>\n",
       "    <tr style=\"text-align: right;\">\n",
       "      <th></th>\n",
       "      <th>0</th>\n",
       "      <th>1</th>\n",
       "      <th>2</th>\n",
       "      <th>3</th>\n",
       "      <th>4</th>\n",
       "      <th>5</th>\n",
       "      <th>6</th>\n",
       "      <th>7</th>\n",
       "      <th>8</th>\n",
       "      <th>9</th>\n",
       "      <th>10</th>\n",
       "      <th>11</th>\n",
       "      <th>12</th>\n",
       "      <th>13</th>\n",
       "      <th>14</th>\n",
       "      <th>15</th>\n",
       "      <th>16</th>\n",
       "      <th>17</th>\n",
       "      <th>18</th>\n",
       "      <th>19</th>\n",
       "      <th>20</th>\n",
       "      <th>21</th>\n",
       "      <th>22</th>\n",
       "      <th>23</th>\n",
       "      <th>24</th>\n",
       "      <th>25</th>\n",
       "      <th>26</th>\n",
       "      <th>27</th>\n",
       "      <th>28</th>\n",
       "      <th>29</th>\n",
       "      <th>...</th>\n",
       "      <th>482</th>\n",
       "      <th>483</th>\n",
       "      <th>484</th>\n",
       "      <th>485</th>\n",
       "      <th>486</th>\n",
       "      <th>487</th>\n",
       "      <th>488</th>\n",
       "      <th>489</th>\n",
       "      <th>490</th>\n",
       "      <th>491</th>\n",
       "      <th>492</th>\n",
       "      <th>493</th>\n",
       "      <th>494</th>\n",
       "      <th>495</th>\n",
       "      <th>496</th>\n",
       "      <th>497</th>\n",
       "      <th>498</th>\n",
       "      <th>499</th>\n",
       "      <th>500</th>\n",
       "      <th>501</th>\n",
       "      <th>502</th>\n",
       "      <th>503</th>\n",
       "      <th>504</th>\n",
       "      <th>505</th>\n",
       "      <th>506</th>\n",
       "      <th>507</th>\n",
       "      <th>508</th>\n",
       "      <th>509</th>\n",
       "      <th>510</th>\n",
       "      <th>511</th>\n",
       "    </tr>\n",
       "  </thead>\n",
       "  <tbody>\n",
       "    <tr>\n",
       "      <th>0</th>\n",
       "      <td>tf.Tensor(-0.0052521327, shape=(), dtype=float32)</td>\n",
       "      <td>tf.Tensor(-0.038312, shape=(), dtype=float32)</td>\n",
       "      <td>tf.Tensor(-0.009220169, shape=(), dtype=float32)</td>\n",
       "      <td>tf.Tensor(-0.04609629, shape=(), dtype=float32)</td>\n",
       "      <td>tf.Tensor(-0.057657726, shape=(), dtype=float32)</td>\n",
       "      <td>tf.Tensor(-0.04768434, shape=(), dtype=float32)</td>\n",
       "      <td>tf.Tensor(-0.016511653, shape=(), dtype=float32)</td>\n",
       "      <td>tf.Tensor(0.004728578, shape=(), dtype=float32)</td>\n",
       "      <td>tf.Tensor(-0.013010713, shape=(), dtype=float32)</td>\n",
       "      <td>tf.Tensor(-0.07138159, shape=(), dtype=float32)</td>\n",
       "      <td>tf.Tensor(-0.030422537, shape=(), dtype=float32)</td>\n",
       "      <td>tf.Tensor(0.023165466, shape=(), dtype=float32)</td>\n",
       "      <td>tf.Tensor(0.017145865, shape=(), dtype=float32)</td>\n",
       "      <td>tf.Tensor(0.045331288, shape=(), dtype=float32)</td>\n",
       "      <td>tf.Tensor(0.01566995, shape=(), dtype=float32)</td>\n",
       "      <td>tf.Tensor(-0.013959975, shape=(), dtype=float32)</td>\n",
       "      <td>tf.Tensor(-0.053601336, shape=(), dtype=float32)</td>\n",
       "      <td>tf.Tensor(-0.011878502, shape=(), dtype=float32)</td>\n",
       "      <td>tf.Tensor(-0.11063093, shape=(), dtype=float32)</td>\n",
       "      <td>tf.Tensor(0.004849982, shape=(), dtype=float32)</td>\n",
       "      <td>tf.Tensor(0.0067631933, shape=(), dtype=float32)</td>\n",
       "      <td>tf.Tensor(0.039811607, shape=(), dtype=float32)</td>\n",
       "      <td>tf.Tensor(0.066015504, shape=(), dtype=float32)</td>\n",
       "      <td>tf.Tensor(-0.012721933, shape=(), dtype=float32)</td>\n",
       "      <td>tf.Tensor(0.0374415, shape=(), dtype=float32)</td>\n",
       "      <td>tf.Tensor(0.030250398, shape=(), dtype=float32)</td>\n",
       "      <td>tf.Tensor(-0.0152029535, shape=(), dtype=float32)</td>\n",
       "      <td>tf.Tensor(0.011007941, shape=(), dtype=float32)</td>\n",
       "      <td>tf.Tensor(0.016856829, shape=(), dtype=float32)</td>\n",
       "      <td>tf.Tensor(-0.019257626, shape=(), dtype=float32)</td>\n",
       "      <td>...</td>\n",
       "      <td>tf.Tensor(0.08616641, shape=(), dtype=float32)</td>\n",
       "      <td>tf.Tensor(-0.024433242, shape=(), dtype=float32)</td>\n",
       "      <td>tf.Tensor(-0.00091490924, shape=(), dtype=float32)</td>\n",
       "      <td>tf.Tensor(0.038853932, shape=(), dtype=float32)</td>\n",
       "      <td>tf.Tensor(-0.031945094, shape=(), dtype=float32)</td>\n",
       "      <td>tf.Tensor(0.043825816, shape=(), dtype=float32)</td>\n",
       "      <td>tf.Tensor(0.058404706, shape=(), dtype=float32)</td>\n",
       "      <td>tf.Tensor(0.03934805, shape=(), dtype=float32)</td>\n",
       "      <td>tf.Tensor(0.08239186, shape=(), dtype=float32)</td>\n",
       "      <td>tf.Tensor(-0.028973889, shape=(), dtype=float32)</td>\n",
       "      <td>tf.Tensor(0.012636834, shape=(), dtype=float32)</td>\n",
       "      <td>tf.Tensor(-0.008682323, shape=(), dtype=float32)</td>\n",
       "      <td>tf.Tensor(0.0005825149, shape=(), dtype=float32)</td>\n",
       "      <td>tf.Tensor(0.075179294, shape=(), dtype=float32)</td>\n",
       "      <td>tf.Tensor(0.01735615, shape=(), dtype=float32)</td>\n",
       "      <td>tf.Tensor(0.012234447, shape=(), dtype=float32)</td>\n",
       "      <td>tf.Tensor(-0.019842023, shape=(), dtype=float32)</td>\n",
       "      <td>tf.Tensor(-0.07749192, shape=(), dtype=float32)</td>\n",
       "      <td>tf.Tensor(-0.024406087, shape=(), dtype=float32)</td>\n",
       "      <td>tf.Tensor(-0.032542042, shape=(), dtype=float32)</td>\n",
       "      <td>tf.Tensor(0.012990009, shape=(), dtype=float32)</td>\n",
       "      <td>tf.Tensor(-0.05957966, shape=(), dtype=float32)</td>\n",
       "      <td>tf.Tensor(0.026064062, shape=(), dtype=float32)</td>\n",
       "      <td>tf.Tensor(-0.052391514, shape=(), dtype=float32)</td>\n",
       "      <td>tf.Tensor(-0.05916792, shape=(), dtype=float32)</td>\n",
       "      <td>tf.Tensor(-0.025977194, shape=(), dtype=float32)</td>\n",
       "      <td>tf.Tensor(-0.0319761, shape=(), dtype=float32)</td>\n",
       "      <td>tf.Tensor(0.021790506, shape=(), dtype=float32)</td>\n",
       "      <td>tf.Tensor(0.06280179, shape=(), dtype=float32)</td>\n",
       "      <td>tf.Tensor(-0.016225366, shape=(), dtype=float32)</td>\n",
       "    </tr>\n",
       "    <tr>\n",
       "      <th>1</th>\n",
       "      <td>tf.Tensor(-0.022675816, shape=(), dtype=float32)</td>\n",
       "      <td>tf.Tensor(-0.06907185, shape=(), dtype=float32)</td>\n",
       "      <td>tf.Tensor(0.015508699, shape=(), dtype=float32)</td>\n",
       "      <td>tf.Tensor(-0.029039731, shape=(), dtype=float32)</td>\n",
       "      <td>tf.Tensor(-0.08988534, shape=(), dtype=float32)</td>\n",
       "      <td>tf.Tensor(-0.0010676654, shape=(), dtype=float32)</td>\n",
       "      <td>tf.Tensor(-0.014085721, shape=(), dtype=float32)</td>\n",
       "      <td>tf.Tensor(0.0072551165, shape=(), dtype=float32)</td>\n",
       "      <td>tf.Tensor(-0.019989628, shape=(), dtype=float32)</td>\n",
       "      <td>tf.Tensor(0.0669519, shape=(), dtype=float32)</td>\n",
       "      <td>tf.Tensor(0.01702949, shape=(), dtype=float32)</td>\n",
       "      <td>tf.Tensor(0.022945886, shape=(), dtype=float32)</td>\n",
       "      <td>tf.Tensor(-0.0061085713, shape=(), dtype=float32)</td>\n",
       "      <td>tf.Tensor(0.05118299, shape=(), dtype=float32)</td>\n",
       "      <td>tf.Tensor(-0.043797843, shape=(), dtype=float32)</td>\n",
       "      <td>tf.Tensor(-0.041236263, shape=(), dtype=float32)</td>\n",
       "      <td>tf.Tensor(0.029429307, shape=(), dtype=float32)</td>\n",
       "      <td>tf.Tensor(0.04888875, shape=(), dtype=float32)</td>\n",
       "      <td>tf.Tensor(-0.11650517, shape=(), dtype=float32)</td>\n",
       "      <td>tf.Tensor(-0.0024727243, shape=(), dtype=float32)</td>\n",
       "      <td>tf.Tensor(0.028916731, shape=(), dtype=float32)</td>\n",
       "      <td>tf.Tensor(9.1215996e-05, shape=(), dtype=float32)</td>\n",
       "      <td>tf.Tensor(0.024404425, shape=(), dtype=float32)</td>\n",
       "      <td>tf.Tensor(0.012593301, shape=(), dtype=float32)</td>\n",
       "      <td>tf.Tensor(0.020244472, shape=(), dtype=float32)</td>\n",
       "      <td>tf.Tensor(0.0207117, shape=(), dtype=float32)</td>\n",
       "      <td>tf.Tensor(-0.031881034, shape=(), dtype=float32)</td>\n",
       "      <td>tf.Tensor(0.053425193, shape=(), dtype=float32)</td>\n",
       "      <td>tf.Tensor(0.0026995572, shape=(), dtype=float32)</td>\n",
       "      <td>tf.Tensor(-0.08084271, shape=(), dtype=float32)</td>\n",
       "      <td>...</td>\n",
       "      <td>tf.Tensor(0.10710527, shape=(), dtype=float32)</td>\n",
       "      <td>tf.Tensor(0.00011628864, shape=(), dtype=float32)</td>\n",
       "      <td>tf.Tensor(0.008712975, shape=(), dtype=float32)</td>\n",
       "      <td>tf.Tensor(0.07481751, shape=(), dtype=float32)</td>\n",
       "      <td>tf.Tensor(-0.04523135, shape=(), dtype=float32)</td>\n",
       "      <td>tf.Tensor(0.052447546, shape=(), dtype=float32)</td>\n",
       "      <td>tf.Tensor(0.039153565, shape=(), dtype=float32)</td>\n",
       "      <td>tf.Tensor(-0.001876064, shape=(), dtype=float32)</td>\n",
       "      <td>tf.Tensor(0.017901925, shape=(), dtype=float32)</td>\n",
       "      <td>tf.Tensor(-0.014710548, shape=(), dtype=float32)</td>\n",
       "      <td>tf.Tensor(0.04312735, shape=(), dtype=float32)</td>\n",
       "      <td>tf.Tensor(-0.030878648, shape=(), dtype=float32)</td>\n",
       "      <td>tf.Tensor(-0.05691044, shape=(), dtype=float32)</td>\n",
       "      <td>tf.Tensor(0.058894195, shape=(), dtype=float32)</td>\n",
       "      <td>tf.Tensor(-0.006595898, shape=(), dtype=float32)</td>\n",
       "      <td>tf.Tensor(-0.019973187, shape=(), dtype=float32)</td>\n",
       "      <td>tf.Tensor(-0.03776713, shape=(), dtype=float32)</td>\n",
       "      <td>tf.Tensor(0.021722123, shape=(), dtype=float32)</td>\n",
       "      <td>tf.Tensor(-0.032639634, shape=(), dtype=float32)</td>\n",
       "      <td>tf.Tensor(-0.0055215736, shape=(), dtype=float32)</td>\n",
       "      <td>tf.Tensor(-0.03981592, shape=(), dtype=float32)</td>\n",
       "      <td>tf.Tensor(-0.004657408, shape=(), dtype=float32)</td>\n",
       "      <td>tf.Tensor(0.024200808, shape=(), dtype=float32)</td>\n",
       "      <td>tf.Tensor(-0.026657946, shape=(), dtype=float32)</td>\n",
       "      <td>tf.Tensor(-0.0063680657, shape=(), dtype=float32)</td>\n",
       "      <td>tf.Tensor(-0.06910574, shape=(), dtype=float32)</td>\n",
       "      <td>tf.Tensor(0.029129563, shape=(), dtype=float32)</td>\n",
       "      <td>tf.Tensor(0.08762301, shape=(), dtype=float32)</td>\n",
       "      <td>tf.Tensor(-0.00076922943, shape=(), dtype=float32)</td>\n",
       "      <td>tf.Tensor(-0.05410821, shape=(), dtype=float32)</td>\n",
       "    </tr>\n",
       "    <tr>\n",
       "      <th>2</th>\n",
       "      <td>tf.Tensor(0.019088328, shape=(), dtype=float32)</td>\n",
       "      <td>tf.Tensor(0.009552198, shape=(), dtype=float32)</td>\n",
       "      <td>tf.Tensor(-0.047412932, shape=(), dtype=float32)</td>\n",
       "      <td>tf.Tensor(0.010493757, shape=(), dtype=float32)</td>\n",
       "      <td>tf.Tensor(-0.042908456, shape=(), dtype=float32)</td>\n",
       "      <td>tf.Tensor(-0.06331453, shape=(), dtype=float32)</td>\n",
       "      <td>tf.Tensor(-0.0031612448, shape=(), dtype=float32)</td>\n",
       "      <td>tf.Tensor(0.05149613, shape=(), dtype=float32)</td>\n",
       "      <td>tf.Tensor(0.027147714, shape=(), dtype=float32)</td>\n",
       "      <td>tf.Tensor(-0.010961107, shape=(), dtype=float32)</td>\n",
       "      <td>tf.Tensor(0.034988597, shape=(), dtype=float32)</td>\n",
       "      <td>tf.Tensor(0.05735229, shape=(), dtype=float32)</td>\n",
       "      <td>tf.Tensor(0.046823528, shape=(), dtype=float32)</td>\n",
       "      <td>tf.Tensor(0.057418335, shape=(), dtype=float32)</td>\n",
       "      <td>tf.Tensor(-0.003669362, shape=(), dtype=float32)</td>\n",
       "      <td>tf.Tensor(0.006604575, shape=(), dtype=float32)</td>\n",
       "      <td>tf.Tensor(-0.0013654017, shape=(), dtype=float32)</td>\n",
       "      <td>tf.Tensor(0.0038320303, shape=(), dtype=float32)</td>\n",
       "      <td>tf.Tensor(-0.09058422, shape=(), dtype=float32)</td>\n",
       "      <td>tf.Tensor(0.048744865, shape=(), dtype=float32)</td>\n",
       "      <td>tf.Tensor(0.028695427, shape=(), dtype=float32)</td>\n",
       "      <td>tf.Tensor(-0.021483552, shape=(), dtype=float32)</td>\n",
       "      <td>tf.Tensor(0.052940547, shape=(), dtype=float32)</td>\n",
       "      <td>tf.Tensor(-0.017772537, shape=(), dtype=float32)</td>\n",
       "      <td>tf.Tensor(-0.048549958, shape=(), dtype=float32)</td>\n",
       "      <td>tf.Tensor(-0.075713105, shape=(), dtype=float32)</td>\n",
       "      <td>tf.Tensor(-0.061066046, shape=(), dtype=float32)</td>\n",
       "      <td>tf.Tensor(0.06376975, shape=(), dtype=float32)</td>\n",
       "      <td>tf.Tensor(-0.030032236, shape=(), dtype=float32)</td>\n",
       "      <td>tf.Tensor(0.026240462, shape=(), dtype=float32)</td>\n",
       "      <td>...</td>\n",
       "      <td>tf.Tensor(-0.021820951, shape=(), dtype=float32)</td>\n",
       "      <td>tf.Tensor(-0.05420484, shape=(), dtype=float32)</td>\n",
       "      <td>tf.Tensor(0.078226514, shape=(), dtype=float32)</td>\n",
       "      <td>tf.Tensor(-0.013889626, shape=(), dtype=float32)</td>\n",
       "      <td>tf.Tensor(-0.054223288, shape=(), dtype=float32)</td>\n",
       "      <td>tf.Tensor(-0.05325499, shape=(), dtype=float32)</td>\n",
       "      <td>tf.Tensor(0.00722771, shape=(), dtype=float32)</td>\n",
       "      <td>tf.Tensor(-0.02969856, shape=(), dtype=float32)</td>\n",
       "      <td>tf.Tensor(0.025481395, shape=(), dtype=float32)</td>\n",
       "      <td>tf.Tensor(0.012124312, shape=(), dtype=float32)</td>\n",
       "      <td>tf.Tensor(0.0003245068, shape=(), dtype=float32)</td>\n",
       "      <td>tf.Tensor(0.008369918, shape=(), dtype=float32)</td>\n",
       "      <td>tf.Tensor(-0.041196987, shape=(), dtype=float32)</td>\n",
       "      <td>tf.Tensor(0.0804329, shape=(), dtype=float32)</td>\n",
       "      <td>tf.Tensor(0.0070090145, shape=(), dtype=float32)</td>\n",
       "      <td>tf.Tensor(-0.05093788, shape=(), dtype=float32)</td>\n",
       "      <td>tf.Tensor(0.013866419, shape=(), dtype=float32)</td>\n",
       "      <td>tf.Tensor(0.03464066, shape=(), dtype=float32)</td>\n",
       "      <td>tf.Tensor(0.008104311, shape=(), dtype=float32)</td>\n",
       "      <td>tf.Tensor(0.021492796, shape=(), dtype=float32)</td>\n",
       "      <td>tf.Tensor(0.11410709, shape=(), dtype=float32)</td>\n",
       "      <td>tf.Tensor(-0.07061692, shape=(), dtype=float32)</td>\n",
       "      <td>tf.Tensor(0.06558145, shape=(), dtype=float32)</td>\n",
       "      <td>tf.Tensor(-0.039064348, shape=(), dtype=float32)</td>\n",
       "      <td>tf.Tensor(0.0058091856, shape=(), dtype=float32)</td>\n",
       "      <td>tf.Tensor(-0.07895439, shape=(), dtype=float32)</td>\n",
       "      <td>tf.Tensor(0.059527934, shape=(), dtype=float32)</td>\n",
       "      <td>tf.Tensor(0.03206479, shape=(), dtype=float32)</td>\n",
       "      <td>tf.Tensor(0.036616657, shape=(), dtype=float32)</td>\n",
       "      <td>tf.Tensor(0.0033105926, shape=(), dtype=float32)</td>\n",
       "    </tr>\n",
       "  </tbody>\n",
       "</table>\n",
       "<p>3 rows × 512 columns</p>\n",
       "</div>"
      ],
      "text/plain": [
       "                                                 0                                                1                                                 2                                                 3                                                 4    \\\n",
       "0  tf.Tensor(-0.0052521327, shape=(), dtype=float32)    tf.Tensor(-0.038312, shape=(), dtype=float32)  tf.Tensor(-0.009220169, shape=(), dtype=float32)   tf.Tensor(-0.04609629, shape=(), dtype=float32)  tf.Tensor(-0.057657726, shape=(), dtype=float32)   \n",
       "1   tf.Tensor(-0.022675816, shape=(), dtype=float32)  tf.Tensor(-0.06907185, shape=(), dtype=float32)   tf.Tensor(0.015508699, shape=(), dtype=float32)  tf.Tensor(-0.029039731, shape=(), dtype=float32)   tf.Tensor(-0.08988534, shape=(), dtype=float32)   \n",
       "2    tf.Tensor(0.019088328, shape=(), dtype=float32)  tf.Tensor(0.009552198, shape=(), dtype=float32)  tf.Tensor(-0.047412932, shape=(), dtype=float32)   tf.Tensor(0.010493757, shape=(), dtype=float32)  tf.Tensor(-0.042908456, shape=(), dtype=float32)   \n",
       "\n",
       "                                                 5                                                  6                                                 7                                                 8                                                 9    \\\n",
       "0    tf.Tensor(-0.04768434, shape=(), dtype=float32)   tf.Tensor(-0.016511653, shape=(), dtype=float32)   tf.Tensor(0.004728578, shape=(), dtype=float32)  tf.Tensor(-0.013010713, shape=(), dtype=float32)   tf.Tensor(-0.07138159, shape=(), dtype=float32)   \n",
       "1  tf.Tensor(-0.0010676654, shape=(), dtype=float32)   tf.Tensor(-0.014085721, shape=(), dtype=float32)  tf.Tensor(0.0072551165, shape=(), dtype=float32)  tf.Tensor(-0.019989628, shape=(), dtype=float32)     tf.Tensor(0.0669519, shape=(), dtype=float32)   \n",
       "2    tf.Tensor(-0.06331453, shape=(), dtype=float32)  tf.Tensor(-0.0031612448, shape=(), dtype=float32)    tf.Tensor(0.05149613, shape=(), dtype=float32)   tf.Tensor(0.027147714, shape=(), dtype=float32)  tf.Tensor(-0.010961107, shape=(), dtype=float32)   \n",
       "\n",
       "                                                10                                               11                                                 12                                               13                                                14   \\\n",
       "0  tf.Tensor(-0.030422537, shape=(), dtype=float32)  tf.Tensor(0.023165466, shape=(), dtype=float32)    tf.Tensor(0.017145865, shape=(), dtype=float32)  tf.Tensor(0.045331288, shape=(), dtype=float32)    tf.Tensor(0.01566995, shape=(), dtype=float32)   \n",
       "1    tf.Tensor(0.01702949, shape=(), dtype=float32)  tf.Tensor(0.022945886, shape=(), dtype=float32)  tf.Tensor(-0.0061085713, shape=(), dtype=float32)   tf.Tensor(0.05118299, shape=(), dtype=float32)  tf.Tensor(-0.043797843, shape=(), dtype=float32)   \n",
       "2   tf.Tensor(0.034988597, shape=(), dtype=float32)   tf.Tensor(0.05735229, shape=(), dtype=float32)    tf.Tensor(0.046823528, shape=(), dtype=float32)  tf.Tensor(0.057418335, shape=(), dtype=float32)  tf.Tensor(-0.003669362, shape=(), dtype=float32)   \n",
       "\n",
       "                                                15                                                 16                                                17                                               18                                                 19   \\\n",
       "0  tf.Tensor(-0.013959975, shape=(), dtype=float32)   tf.Tensor(-0.053601336, shape=(), dtype=float32)  tf.Tensor(-0.011878502, shape=(), dtype=float32)  tf.Tensor(-0.11063093, shape=(), dtype=float32)    tf.Tensor(0.004849982, shape=(), dtype=float32)   \n",
       "1  tf.Tensor(-0.041236263, shape=(), dtype=float32)    tf.Tensor(0.029429307, shape=(), dtype=float32)    tf.Tensor(0.04888875, shape=(), dtype=float32)  tf.Tensor(-0.11650517, shape=(), dtype=float32)  tf.Tensor(-0.0024727243, shape=(), dtype=float32)   \n",
       "2   tf.Tensor(0.006604575, shape=(), dtype=float32)  tf.Tensor(-0.0013654017, shape=(), dtype=float32)  tf.Tensor(0.0038320303, shape=(), dtype=float32)  tf.Tensor(-0.09058422, shape=(), dtype=float32)    tf.Tensor(0.048744865, shape=(), dtype=float32)   \n",
       "\n",
       "                                                20                                                 21                                               22                                                23                                                24   \\\n",
       "0  tf.Tensor(0.0067631933, shape=(), dtype=float32)    tf.Tensor(0.039811607, shape=(), dtype=float32)  tf.Tensor(0.066015504, shape=(), dtype=float32)  tf.Tensor(-0.012721933, shape=(), dtype=float32)     tf.Tensor(0.0374415, shape=(), dtype=float32)   \n",
       "1   tf.Tensor(0.028916731, shape=(), dtype=float32)  tf.Tensor(9.1215996e-05, shape=(), dtype=float32)  tf.Tensor(0.024404425, shape=(), dtype=float32)   tf.Tensor(0.012593301, shape=(), dtype=float32)   tf.Tensor(0.020244472, shape=(), dtype=float32)   \n",
       "2   tf.Tensor(0.028695427, shape=(), dtype=float32)   tf.Tensor(-0.021483552, shape=(), dtype=float32)  tf.Tensor(0.052940547, shape=(), dtype=float32)  tf.Tensor(-0.017772537, shape=(), dtype=float32)  tf.Tensor(-0.048549958, shape=(), dtype=float32)   \n",
       "\n",
       "                                                25                                                 26                                               27                                                28                                                29   ...  \\\n",
       "0   tf.Tensor(0.030250398, shape=(), dtype=float32)  tf.Tensor(-0.0152029535, shape=(), dtype=float32)  tf.Tensor(0.011007941, shape=(), dtype=float32)   tf.Tensor(0.016856829, shape=(), dtype=float32)  tf.Tensor(-0.019257626, shape=(), dtype=float32)  ...   \n",
       "1     tf.Tensor(0.0207117, shape=(), dtype=float32)   tf.Tensor(-0.031881034, shape=(), dtype=float32)  tf.Tensor(0.053425193, shape=(), dtype=float32)  tf.Tensor(0.0026995572, shape=(), dtype=float32)   tf.Tensor(-0.08084271, shape=(), dtype=float32)  ...   \n",
       "2  tf.Tensor(-0.075713105, shape=(), dtype=float32)   tf.Tensor(-0.061066046, shape=(), dtype=float32)   tf.Tensor(0.06376975, shape=(), dtype=float32)  tf.Tensor(-0.030032236, shape=(), dtype=float32)   tf.Tensor(0.026240462, shape=(), dtype=float32)  ...   \n",
       "\n",
       "                                                482                                                483                                                 484                                               485                                               486  \\\n",
       "0    tf.Tensor(0.08616641, shape=(), dtype=float32)   tf.Tensor(-0.024433242, shape=(), dtype=float32)  tf.Tensor(-0.00091490924, shape=(), dtype=float32)   tf.Tensor(0.038853932, shape=(), dtype=float32)  tf.Tensor(-0.031945094, shape=(), dtype=float32)   \n",
       "1    tf.Tensor(0.10710527, shape=(), dtype=float32)  tf.Tensor(0.00011628864, shape=(), dtype=float32)     tf.Tensor(0.008712975, shape=(), dtype=float32)    tf.Tensor(0.07481751, shape=(), dtype=float32)   tf.Tensor(-0.04523135, shape=(), dtype=float32)   \n",
       "2  tf.Tensor(-0.021820951, shape=(), dtype=float32)    tf.Tensor(-0.05420484, shape=(), dtype=float32)     tf.Tensor(0.078226514, shape=(), dtype=float32)  tf.Tensor(-0.013889626, shape=(), dtype=float32)  tf.Tensor(-0.054223288, shape=(), dtype=float32)   \n",
       "\n",
       "                                               487                                              488                                               489                                              490                                               491  \\\n",
       "0  tf.Tensor(0.043825816, shape=(), dtype=float32)  tf.Tensor(0.058404706, shape=(), dtype=float32)    tf.Tensor(0.03934805, shape=(), dtype=float32)   tf.Tensor(0.08239186, shape=(), dtype=float32)  tf.Tensor(-0.028973889, shape=(), dtype=float32)   \n",
       "1  tf.Tensor(0.052447546, shape=(), dtype=float32)  tf.Tensor(0.039153565, shape=(), dtype=float32)  tf.Tensor(-0.001876064, shape=(), dtype=float32)  tf.Tensor(0.017901925, shape=(), dtype=float32)  tf.Tensor(-0.014710548, shape=(), dtype=float32)   \n",
       "2  tf.Tensor(-0.05325499, shape=(), dtype=float32)   tf.Tensor(0.00722771, shape=(), dtype=float32)   tf.Tensor(-0.02969856, shape=(), dtype=float32)  tf.Tensor(0.025481395, shape=(), dtype=float32)   tf.Tensor(0.012124312, shape=(), dtype=float32)   \n",
       "\n",
       "                                                492                                               493                                               494                                              495                                               496  \\\n",
       "0   tf.Tensor(0.012636834, shape=(), dtype=float32)  tf.Tensor(-0.008682323, shape=(), dtype=float32)  tf.Tensor(0.0005825149, shape=(), dtype=float32)  tf.Tensor(0.075179294, shape=(), dtype=float32)    tf.Tensor(0.01735615, shape=(), dtype=float32)   \n",
       "1    tf.Tensor(0.04312735, shape=(), dtype=float32)  tf.Tensor(-0.030878648, shape=(), dtype=float32)   tf.Tensor(-0.05691044, shape=(), dtype=float32)  tf.Tensor(0.058894195, shape=(), dtype=float32)  tf.Tensor(-0.006595898, shape=(), dtype=float32)   \n",
       "2  tf.Tensor(0.0003245068, shape=(), dtype=float32)   tf.Tensor(0.008369918, shape=(), dtype=float32)  tf.Tensor(-0.041196987, shape=(), dtype=float32)    tf.Tensor(0.0804329, shape=(), dtype=float32)  tf.Tensor(0.0070090145, shape=(), dtype=float32)   \n",
       "\n",
       "                                                497                                               498                                              499                                               500                                                501  \\\n",
       "0   tf.Tensor(0.012234447, shape=(), dtype=float32)  tf.Tensor(-0.019842023, shape=(), dtype=float32)  tf.Tensor(-0.07749192, shape=(), dtype=float32)  tf.Tensor(-0.024406087, shape=(), dtype=float32)   tf.Tensor(-0.032542042, shape=(), dtype=float32)   \n",
       "1  tf.Tensor(-0.019973187, shape=(), dtype=float32)   tf.Tensor(-0.03776713, shape=(), dtype=float32)  tf.Tensor(0.021722123, shape=(), dtype=float32)  tf.Tensor(-0.032639634, shape=(), dtype=float32)  tf.Tensor(-0.0055215736, shape=(), dtype=float32)   \n",
       "2   tf.Tensor(-0.05093788, shape=(), dtype=float32)   tf.Tensor(0.013866419, shape=(), dtype=float32)   tf.Tensor(0.03464066, shape=(), dtype=float32)   tf.Tensor(0.008104311, shape=(), dtype=float32)    tf.Tensor(0.021492796, shape=(), dtype=float32)   \n",
       "\n",
       "                                               502                                               503                                              504                                               505                                                506  \\\n",
       "0  tf.Tensor(0.012990009, shape=(), dtype=float32)   tf.Tensor(-0.05957966, shape=(), dtype=float32)  tf.Tensor(0.026064062, shape=(), dtype=float32)  tf.Tensor(-0.052391514, shape=(), dtype=float32)    tf.Tensor(-0.05916792, shape=(), dtype=float32)   \n",
       "1  tf.Tensor(-0.03981592, shape=(), dtype=float32)  tf.Tensor(-0.004657408, shape=(), dtype=float32)  tf.Tensor(0.024200808, shape=(), dtype=float32)  tf.Tensor(-0.026657946, shape=(), dtype=float32)  tf.Tensor(-0.0063680657, shape=(), dtype=float32)   \n",
       "2   tf.Tensor(0.11410709, shape=(), dtype=float32)   tf.Tensor(-0.07061692, shape=(), dtype=float32)   tf.Tensor(0.06558145, shape=(), dtype=float32)  tf.Tensor(-0.039064348, shape=(), dtype=float32)   tf.Tensor(0.0058091856, shape=(), dtype=float32)   \n",
       "\n",
       "                                                507                                              508                                              509                                                 510                                               511  \n",
       "0  tf.Tensor(-0.025977194, shape=(), dtype=float32)   tf.Tensor(-0.0319761, shape=(), dtype=float32)  tf.Tensor(0.021790506, shape=(), dtype=float32)      tf.Tensor(0.06280179, shape=(), dtype=float32)  tf.Tensor(-0.016225366, shape=(), dtype=float32)  \n",
       "1   tf.Tensor(-0.06910574, shape=(), dtype=float32)  tf.Tensor(0.029129563, shape=(), dtype=float32)   tf.Tensor(0.08762301, shape=(), dtype=float32)  tf.Tensor(-0.00076922943, shape=(), dtype=float32)   tf.Tensor(-0.05410821, shape=(), dtype=float32)  \n",
       "2   tf.Tensor(-0.07895439, shape=(), dtype=float32)  tf.Tensor(0.059527934, shape=(), dtype=float32)   tf.Tensor(0.03206479, shape=(), dtype=float32)     tf.Tensor(0.036616657, shape=(), dtype=float32)  tf.Tensor(0.0033105926, shape=(), dtype=float32)  \n",
       "\n",
       "[3 rows x 512 columns]"
      ]
     },
     "execution_count": 17,
     "metadata": {},
     "output_type": "execute_result"
    }
   ],
   "source": [
    "pd.DataFrame(en_result)"
   ]
  },
  {
   "cell_type": "code",
   "execution_count": 20,
   "id": "c93de307",
   "metadata": {},
   "outputs": [],
   "source": [
    "# pd.DataFrame(en_result_)"
   ]
  },
  {
   "cell_type": "code",
   "execution_count": 21,
   "id": "f5262712",
   "metadata": {},
   "outputs": [],
   "source": [
    "# tf.nn.l2_normalize(it_result)"
   ]
  },
  {
   "cell_type": "code",
   "execution_count": 22,
   "id": "65cd07de",
   "metadata": {},
   "outputs": [
    {
     "data": {
      "text/plain": [
       "array([[0.9696458 , 0.27347845, 0.25536817],\n",
       "       [0.3772605 , 0.8931674 , 0.2880668 ],\n",
       "       [0.2461136 , 0.23792973, 0.93521506]], dtype=float32)"
      ]
     },
     "execution_count": 22,
     "metadata": {},
     "output_type": "execute_result"
    }
   ],
   "source": [
    "# Compute similarity matrix. Higher score indicates greater similarity.\n",
    "similarity_matrix_it = np.inner(en_result, it_result)\n",
    "similarity_matrix_it"
   ]
  },
  {
   "cell_type": "code",
   "execution_count": 23,
   "id": "53b15a11",
   "metadata": {},
   "outputs": [
    {
     "data": {
      "text/plain": [
       "array([[0.9799423 , 0.5341731 , 0.33749646],\n",
       "       [0.41874057, 0.77861166, 0.3792975 ],\n",
       "       [0.25998718, 0.29997382, 0.8583672 ]], dtype=float32)"
      ]
     },
     "execution_count": 23,
     "metadata": {},
     "output_type": "execute_result"
    }
   ],
   "source": [
    "similarity_matrix_ja = np.inner(en_result, ja_result)\n",
    "similarity_matrix_ja"
   ]
  },
  {
   "cell_type": "markdown",
   "id": "c6120ec8",
   "metadata": {},
   "source": [
    "# Cosine Similarities Example\n",
    "This is annoying because we get a different result when using this `get_similarities` function compared to `np.inner()`... maybe it's because the raw inputs to `np.inner` weren't normalized, right?\n",
    "Also, I'm not sure why we have to force clipping...\n",
    "\n",
    "---\n",
    "\n",
    "Using example form Colab\n",
    "\n",
    "https://colab.research.google.com/github/tensorflow/hub/blob/master/examples/colab/semantic_similarity_with_tf_hub_universal_encoder.ipynb#scrollTo=W-q2r7jyZGb7"
   ]
  },
  {
   "cell_type": "code",
   "execution_count": 24,
   "id": "8b7fa41d",
   "metadata": {},
   "outputs": [],
   "source": [
    "def get_similarities(sent_1, sent_2):\n",
    "    sts_encode1 = tf.nn.l2_normalize(model(sent_1), axis=1)\n",
    "    sts_encode2 = tf.nn.l2_normalize(model(sent_2), axis=1)\n",
    "    \n",
    "    cosine_similarities = tf.reduce_sum(tf.multiply(sts_encode1, sts_encode2), axis=1)\n",
    "    clip_cosine_similarities = tf.clip_by_value(cosine_similarities, -1.0, 1.0)\n",
    "    scores = 1.0 - tf.acos(clip_cosine_similarities) / math.pi\n",
    "    \"\"\"Returns the similarity scores\"\"\"\n",
    "    return scores"
   ]
  },
  {
   "cell_type": "code",
   "execution_count": 25,
   "id": "8158cd8c",
   "metadata": {},
   "outputs": [
    {
     "data": {
      "text/plain": [
       "<tf.Tensor: shape=(1,), dtype=float32, numpy=array([0.9213719], dtype=float32)>"
      ]
     },
     "execution_count": 25,
     "metadata": {},
     "output_type": "execute_result"
    }
   ],
   "source": [
    "get_similarities(english_sentences[0], italian_sentences[0])"
   ]
  },
  {
   "cell_type": "code",
   "execution_count": 26,
   "id": "ec642303",
   "metadata": {},
   "outputs": [
    {
     "data": {
      "text/plain": [
       "<tf.Tensor: shape=(1,), dtype=float32, numpy=array([0.93613935], dtype=float32)>"
      ]
     },
     "execution_count": 26,
     "metadata": {},
     "output_type": "execute_result"
    }
   ],
   "source": [
    "get_similarities(english_sentences[0], japanese_sentences[0])"
   ]
  },
  {
   "cell_type": "code",
   "execution_count": 27,
   "id": "54f948c7",
   "metadata": {},
   "outputs": [
    {
     "data": {
      "text/plain": [
       "(1, 512)"
      ]
     },
     "execution_count": 27,
     "metadata": {},
     "output_type": "execute_result"
    }
   ],
   "source": [
    "model(\"hello\").numpy().shape"
   ]
  },
  {
   "cell_type": "markdown",
   "id": "ac564b6b",
   "metadata": {},
   "source": [
    "# Test new function on subreddit descriptions\n",
    "\n",
    "Time with my function (apply model to list).\n"
   ]
  },
  {
   "cell_type": "code",
   "execution_count": 28,
   "id": "20e78641",
   "metadata": {},
   "outputs": [
    {
     "name": "stderr",
     "output_type": "stream",
     "text": [
      "06:05:36 | INFO | \"Reading raw data...\"\n",
      "06:05:37 | INFO | \"  Applying transformations...\"\n"
     ]
    },
    {
     "data": {
      "text/plain": [
       "(629, 35)"
      ]
     },
     "execution_count": 28,
     "metadata": {},
     "output_type": "execute_result"
    }
   ],
   "source": [
    "col_manual_labels = 'manual_topic_and_rating'\n",
    "\n",
    "df_subs = LoadSubreddits(\n",
    "    bucket_name='i18n-subreddit-clustering',\n",
    "    folder_path='subreddits/de/2021-06-16',\n",
    "    columns=None,\n",
    "    col_new_manual_topic=col_manual_labels,\n",
    ").read_and_apply_transformations()\n",
    "df_subs.shape"
   ]
  },
  {
   "cell_type": "code",
   "execution_count": 29,
   "id": "ab686bd9",
   "metadata": {},
   "outputs": [],
   "source": [
    "# df_subs.head()"
   ]
  },
  {
   "cell_type": "markdown",
   "id": "a15b10bd",
   "metadata": {},
   "source": [
    "### Large model\n",
    "```\n",
    "# CPU, 100 chars\n",
    "CPU times: user 28.3 s, sys: 3.06 s, total: 31.4 s\n",
    "Wall time: 3.11 s\n",
    "(629, 512)\n",
    "\n",
    "\n",
    "# GPU, 100 chars\n",
    "CPU times: user 337 ms, sys: 34.5 ms, total: 371 ms\n",
    "Wall time: 518 ms\n",
    "(629, 512)\n",
    "\n",
    "# GPU, 500 chars\n",
    "CPU times: user 427 ms, sys: 116 ms, total: 544 ms\n",
    "Wall time: 1.5 s\n",
    "(629, 512)\n",
    "\n",
    "\n",
    "# GPU, 1000 chars (!!) <- This takes as long as 100 chars in a CPU!\n",
    "CPU times: user 535 ms, sys: 303 ms, total: 837 ms\n",
    "Wall time: 3.11 s\n",
    "(629, 512)\n",
    "```"
   ]
  },
  {
   "cell_type": "code",
   "execution_count": 40,
   "id": "bf62bd24",
   "metadata": {},
   "outputs": [
    {
     "name": "stdout",
     "output_type": "stream",
     "text": [
      "CPU times: user 263 ms, sys: 41.1 ms, total: 304 ms\n",
      "Wall time: 477 ms\n"
     ]
    },
    {
     "data": {
      "text/plain": [
       "(629, 512)"
      ]
     },
     "execution_count": 40,
     "metadata": {},
     "output_type": "execute_result"
    }
   ],
   "source": [
    "%%time\n",
    "df_vec_subs_large = get_embeddings_as_df(\n",
    "    model=model,\n",
    "    df=df_subs,\n",
    "    col_text='subreddit_name_title_and_clean_descriptions',\n",
    "    cols_index='subreddit_default_',\n",
    "    lowercase_text=False,\n",
    "    batch_size=None,\n",
    "    limit_first_n_chars=100,\n",
    ")\n",
    "df_vec_subs_large.shape"
   ]
  },
  {
   "cell_type": "code",
   "execution_count": 49,
   "id": "81248130",
   "metadata": {},
   "outputs": [
    {
     "name": "stdout",
     "output_type": "stream",
     "text": [
      "CPU times: user 427 ms, sys: 116 ms, total: 544 ms\n",
      "Wall time: 1.5 s\n"
     ]
    },
    {
     "data": {
      "text/plain": [
       "(629, 512)"
      ]
     },
     "execution_count": 49,
     "metadata": {},
     "output_type": "execute_result"
    }
   ],
   "source": [
    "%%time\n",
    "df_vec_subs_large = get_embeddings_as_df(\n",
    "    model=model,\n",
    "    df=df_subs,\n",
    "    col_text='subreddit_name_title_and_clean_descriptions',\n",
    "    cols_index='subreddit_default_',\n",
    "    lowercase_text=False,\n",
    "    batch_size=None,\n",
    "    limit_first_n_chars=500,\n",
    ")\n",
    "df_vec_subs_large.shape"
   ]
  },
  {
   "cell_type": "code",
   "execution_count": 41,
   "id": "b5c25859",
   "metadata": {},
   "outputs": [
    {
     "name": "stdout",
     "output_type": "stream",
     "text": [
      "CPU times: user 520 ms, sys: 181 ms, total: 701 ms\n",
      "Wall time: 3.05 s\n"
     ]
    },
    {
     "data": {
      "text/plain": [
       "(629, 512)"
      ]
     },
     "execution_count": 41,
     "metadata": {},
     "output_type": "execute_result"
    }
   ],
   "source": [
    "%%time\n",
    "df_vec_subs_large = get_embeddings_as_df(\n",
    "    model=model,\n",
    "    df=df_subs,\n",
    "    col_text='subreddit_name_title_and_clean_descriptions',\n",
    "    cols_index='subreddit_default_',\n",
    "    lowercase_text=False,\n",
    "    batch_size=None,\n",
    "    limit_first_n_chars=1000,\n",
    ")\n",
    "df_vec_subs_large.shape"
   ]
  },
  {
   "cell_type": "markdown",
   "id": "9dd8c0a6",
   "metadata": {},
   "source": [
    "### Small/normal/reduced model\n",
    "```\n",
    "# CPU, 1000 chars\n",
    "CPU times: user 20.5 s, sys: 3.47 s, total: 24 s\n",
    "Wall time: 1.82 s\n",
    "(629, 512)\n",
    "\n",
    "\n",
    "# GPU, 1000 chars - NO INDEX\n",
    "CPU times: user 359 ms, sys: 53 ms, total: 412 ms\n",
    "Wall time: 336 ms\n",
    "(629, 512)\n",
    "\n",
    "# GPU, 1000 chars - ATTACH index cols (e.g., subreddit name)\n",
    "CPU times: user 386 ms, sys: 21.4 ms, total: 408 ms\n",
    "Wall time: 333 ms\n",
    "\n",
    "\n",
    "# GPU, 2000 chars\n",
    "CPU times: user 400 ms, sys: 73.4 ms, total: 473 ms\n",
    "Wall time: 378 ms\n",
    "(629, 512)\n",
    "\n",
    "```"
   ]
  },
  {
   "cell_type": "code",
   "execution_count": 47,
   "id": "176d269f",
   "metadata": {},
   "outputs": [
    {
     "name": "stdout",
     "output_type": "stream",
     "text": [
      "CPU times: user 359 ms, sys: 57.1 ms, total: 416 ms\n",
      "Wall time: 321 ms\n"
     ]
    },
    {
     "data": {
      "text/plain": [
       "(629, 512)"
      ]
     },
     "execution_count": 47,
     "metadata": {},
     "output_type": "execute_result"
    }
   ],
   "source": [
    "%%time\n",
    "\n",
    "# no index *might* save some time, but not worth it b/c it could be hard to map embeddings to input\n",
    "df_vec_subs = get_embeddings_as_df(\n",
    "    model=model_normal,\n",
    "    df=df_subs,\n",
    "    col_text='subreddit_name_title_and_clean_descriptions',\n",
    "    cols_index=None,\n",
    "    lowercase_text=False,\n",
    "    batch_size=None,\n",
    "    limit_first_n_chars=1000,\n",
    ")\n",
    "df_vec_subs.shape"
   ]
  },
  {
   "cell_type": "code",
   "execution_count": 45,
   "id": "edccfedd",
   "metadata": {},
   "outputs": [
    {
     "name": "stdout",
     "output_type": "stream",
     "text": [
      "CPU times: user 386 ms, sys: 21.4 ms, total: 408 ms\n",
      "Wall time: 333 ms\n"
     ]
    },
    {
     "data": {
      "text/plain": [
       "(629, 512)"
      ]
     },
     "execution_count": 45,
     "metadata": {},
     "output_type": "execute_result"
    }
   ],
   "source": [
    "%%time\n",
    "\n",
    "df_vec_subs = get_embeddings_as_df(\n",
    "    model=model_normal,\n",
    "    df=df_subs,\n",
    "    col_text='subreddit_name_title_and_clean_descriptions',\n",
    "    cols_index='subreddit_default_',\n",
    "    lowercase_text=False,\n",
    "    batch_size=None,\n",
    "    limit_first_n_chars=1000,\n",
    ")\n",
    "df_vec_subs.shape"
   ]
  },
  {
   "cell_type": "code",
   "execution_count": 48,
   "id": "8f5c3a12",
   "metadata": {},
   "outputs": [
    {
     "name": "stdout",
     "output_type": "stream",
     "text": [
      "CPU times: user 400 ms, sys: 73.4 ms, total: 473 ms\n",
      "Wall time: 378 ms\n"
     ]
    },
    {
     "data": {
      "text/plain": [
       "(629, 512)"
      ]
     },
     "execution_count": 48,
     "metadata": {},
     "output_type": "execute_result"
    }
   ],
   "source": [
    "%%time\n",
    "\n",
    "df_vec_subs = get_embeddings_as_df(\n",
    "    model=model_normal,\n",
    "    df=df_subs,\n",
    "    col_text='subreddit_name_title_and_clean_descriptions',\n",
    "    cols_index='subreddit_default_',\n",
    "    lowercase_text=False,\n",
    "    batch_size=None,\n",
    "    limit_first_n_chars=2000,\n",
    ")\n",
    "df_vec_subs.shape"
   ]
  },
  {
   "cell_type": "code",
   "execution_count": 50,
   "id": "593833cc",
   "metadata": {},
   "outputs": [
    {
     "data": {
      "text/plain": [
       "count     629.000000\n",
       "mean      509.092210\n",
       "std       739.441529\n",
       "min        17.000000\n",
       "25%        93.000000\n",
       "50%       191.000000\n",
       "75%       626.000000\n",
       "max      5142.000000\n",
       "Name: subreddit_name_title_and_clean_descriptions, dtype: float64"
      ]
     },
     "execution_count": 50,
     "metadata": {},
     "output_type": "execute_result"
    }
   ],
   "source": [
    "df_subs['subreddit_name_title_and_clean_descriptions'].str.len().describe()"
   ]
  },
  {
   "cell_type": "code",
   "execution_count": 59,
   "id": "9a48494f",
   "metadata": {},
   "outputs": [
    {
     "name": "stdout",
     "output_type": "stream",
     "text": [
      "0.800 769.40\n",
      "0.825 874.00\n",
      "0.850 1032.00\n",
      "0.875 1129.50\n",
      "0.900 1355.80\n",
      "0.925 1611.30\n",
      "0.950 1861.20\n"
     ]
    }
   ],
   "source": [
    "for i in np.arange(0.8, 0.96, 0.025):\n",
    "    print(f\"{i:.3f}\",\n",
    "          f\"{df_subs['subreddit_name_title_and_clean_descriptions'].str.len().quantile(i):.2f}\")"
   ]
  },
  {
   "cell_type": "code",
   "execution_count": 51,
   "id": "62874544",
   "metadata": {},
   "outputs": [],
   "source": [
    "# df_vec_subs.head()"
   ]
  },
  {
   "cell_type": "code",
   "execution_count": null,
   "id": "c368f86f",
   "metadata": {},
   "outputs": [],
   "source": []
  },
  {
   "cell_type": "code",
   "execution_count": null,
   "id": "0645e2d9",
   "metadata": {},
   "outputs": [],
   "source": []
  },
  {
   "cell_type": "code",
   "execution_count": null,
   "id": "da147a88",
   "metadata": {},
   "outputs": [],
   "source": []
  },
  {
   "cell_type": "code",
   "execution_count": null,
   "id": "d8b3af33",
   "metadata": {},
   "outputs": [],
   "source": []
  },
  {
   "cell_type": "code",
   "execution_count": null,
   "id": "7bc65452",
   "metadata": {},
   "outputs": [],
   "source": []
  },
  {
   "cell_type": "code",
   "execution_count": null,
   "id": "0384f713",
   "metadata": {},
   "outputs": [],
   "source": [
    "LEGACY"
   ]
  },
  {
   "cell_type": "markdown",
   "id": "7fe4e9f7",
   "metadata": {},
   "source": [
    "# Create a dataframe for broader testing\n",
    "\n",
    "This might not be a great text because these sentences are really short (sometimes just a word...). But keep them as a benchmark because I also used them for CPU inference."
   ]
  },
  {
   "cell_type": "code",
   "execution_count": 60,
   "id": "298ad2f1",
   "metadata": {},
   "outputs": [],
   "source": [
    "english_sentences = [\"dog\", \"Puppies are nice.\", \"I enjoy taking long walks along the beach with my dog.\"]\n",
    "italian_sentences = [\"cane\", \"I cuccioli sono carini.\", \"Mi piace fare lunghe passeggiate lungo la spiaggia con il mio cane.\"]\n",
    "japanese_sentences = [\"犬\", \"子犬はいいです\", \"私は犬と一緒にビーチを散歩するのが好きです\"]"
   ]
  },
  {
   "cell_type": "code",
   "execution_count": 61,
   "id": "60fa9bf2",
   "metadata": {},
   "outputs": [
    {
     "data": {
      "text/plain": [
       "(5400, 1)"
      ]
     },
     "execution_count": 61,
     "metadata": {},
     "output_type": "execute_result"
    }
   ],
   "source": [
    "df_test = pd.DataFrame({'text': (english_sentences + italian_sentences + japanese_sentences) * 600})\n",
    "df_test.shape"
   ]
  },
  {
   "cell_type": "code",
   "execution_count": 62,
   "id": "91bcbe80",
   "metadata": {},
   "outputs": [
    {
     "data": {
      "text/html": [
       "<div>\n",
       "<style scoped>\n",
       "    .dataframe tbody tr th:only-of-type {\n",
       "        vertical-align: middle;\n",
       "    }\n",
       "\n",
       "    .dataframe tbody tr th {\n",
       "        vertical-align: top;\n",
       "    }\n",
       "\n",
       "    .dataframe thead th {\n",
       "        text-align: right;\n",
       "    }\n",
       "</style>\n",
       "<table border=\"1\" class=\"dataframe\">\n",
       "  <thead>\n",
       "    <tr style=\"text-align: right;\">\n",
       "      <th></th>\n",
       "      <th>text</th>\n",
       "    </tr>\n",
       "  </thead>\n",
       "  <tbody>\n",
       "    <tr>\n",
       "      <th>0</th>\n",
       "      <td>dog</td>\n",
       "    </tr>\n",
       "    <tr>\n",
       "      <th>1</th>\n",
       "      <td>Puppies are nice.</td>\n",
       "    </tr>\n",
       "    <tr>\n",
       "      <th>2</th>\n",
       "      <td>I enjoy taking long walks along the beach with my dog.</td>\n",
       "    </tr>\n",
       "    <tr>\n",
       "      <th>3</th>\n",
       "      <td>cane</td>\n",
       "    </tr>\n",
       "    <tr>\n",
       "      <th>4</th>\n",
       "      <td>I cuccioli sono carini.</td>\n",
       "    </tr>\n",
       "    <tr>\n",
       "      <th>5</th>\n",
       "      <td>Mi piace fare lunghe passeggiate lungo la spiaggia con il mio cane.</td>\n",
       "    </tr>\n",
       "    <tr>\n",
       "      <th>6</th>\n",
       "      <td>犬</td>\n",
       "    </tr>\n",
       "    <tr>\n",
       "      <th>7</th>\n",
       "      <td>子犬はいいです</td>\n",
       "    </tr>\n",
       "    <tr>\n",
       "      <th>8</th>\n",
       "      <td>私は犬と一緒にビーチを散歩するのが好きです</td>\n",
       "    </tr>\n",
       "    <tr>\n",
       "      <th>9</th>\n",
       "      <td>dog</td>\n",
       "    </tr>\n",
       "  </tbody>\n",
       "</table>\n",
       "</div>"
      ],
      "text/plain": [
       "                                                                  text\n",
       "0                                                                  dog\n",
       "1                                                    Puppies are nice.\n",
       "2               I enjoy taking long walks along the beach with my dog.\n",
       "3                                                                 cane\n",
       "4                                              I cuccioli sono carini.\n",
       "5  Mi piace fare lunghe passeggiate lungo la spiaggia con il mio cane.\n",
       "6                                                                    犬\n",
       "7                                                              子犬はいいです\n",
       "8                                                私は犬と一緒にビーチを散歩するのが好きです\n",
       "9                                                                  dog"
      ]
     },
     "execution_count": 62,
     "metadata": {},
     "output_type": "execute_result"
    }
   ],
   "source": [
    "df_test.head(10)"
   ]
  },
  {
   "cell_type": "markdown",
   "id": "b633edec",
   "metadata": {},
   "source": [
    "# Get embeddings in different ways\n",
    "\n",
    "After trying as a list, there's no reason to try other methods... it seems like `TF` is already optimized to run in parallel when reading a list and the bottleneck was using dataframes/pandas.\n",
    "\n",
    "Might need to split up whole text DF into chunks to prevent memory errors, but applying to list should be good to go -- it takes less than 2 seconds on 5,400 sentences(!).\n",
    "\n",
    "---\n",
    "### CPU only\n",
    "```\n",
    "# get model results as list & convert to pd.DataFrame:\n",
    "CPU times: user 1.21 s, sys: 285 ms, total: 1.49 s\n",
    "Wall time: 1.95 s\n",
    "\n",
    "CPU times: user 59.7 s, sys: 5.37 s, total: 1min 5s\n",
    "Wall time: 5.06 s\n",
    "\n",
    "\n",
    "# use pd.apply():\n",
    "CPU times: user 1min 34s, sys: 12.4 s, total: 1min 47s\n",
    "Wall time: 58.2 s\n",
    "```"
   ]
  },
  {
   "cell_type": "code",
   "execution_count": null,
   "id": "d2106aa2",
   "metadata": {},
   "outputs": [],
   "source": [
    "### GPU\n",
    "```\n",
    "# get model results as list & convert to pd.DataFrame:\n",
    "CPU times: user 1.21 s, sys: 285 ms, total: 1.49 s\n",
    "Wall time: 1.95 s\n",
    "\n",
    "CPU times: user 59.7 s, sys: 5.37 s, total: 1min 5s\n",
    "Wall time: 5.06 s\n",
    "\n",
    "\n",
    "# use pd.apply():\n",
    "CPU times: user 1min 34s, sys: 12.4 s, total: 1min 47s\n",
    "Wall time: 58.2 s\n",
    "```"
   ]
  },
  {
   "cell_type": "markdown",
   "id": "218373af",
   "metadata": {},
   "source": [
    "## As a list\n",
    "The example gets embeddings on a list, maybe the model can parallelize that somehow better than a df?"
   ]
  },
  {
   "cell_type": "code",
   "execution_count": 25,
   "id": "c9829928",
   "metadata": {},
   "outputs": [
    {
     "name": "stdout",
     "output_type": "stream",
     "text": [
      "CPU times: user 1min, sys: 5.58 s, total: 1min 6s\n",
      "Wall time: 5.37 s\n"
     ]
    }
   ],
   "source": [
    "%%time\n",
    "\n",
    "# model will return a list of tensors, if input is a list of text\n",
    "emb_list = model(df_test['text'].to_list())\n",
    "\n",
    "# So we can convert to np array using a list comprehension\n",
    "# And convert back to a df with a known index\n",
    "df_embeddings1 = pd.DataFrame(np.array([emb.numpy() for emb in emb_list]), \n",
    "                              index=df_test.index)"
   ]
  },
  {
   "cell_type": "code",
   "execution_count": 30,
   "id": "39d1f6c1",
   "metadata": {},
   "outputs": [
    {
     "data": {
      "text/plain": [
       "(5400, 512)"
      ]
     },
     "execution_count": 30,
     "metadata": {},
     "output_type": "execute_result"
    }
   ],
   "source": [
    "df_embeddings1.shape"
   ]
  },
  {
   "cell_type": "markdown",
   "id": "d8b0b32d",
   "metadata": {},
   "source": [
    "# As a batched list"
   ]
  },
  {
   "cell_type": "code",
   "execution_count": 31,
   "id": "0848a450",
   "metadata": {},
   "outputs": [
    {
     "data": {
      "text/plain": [
       "5"
      ]
     },
     "execution_count": 31,
     "metadata": {},
     "output_type": "execute_result"
    }
   ],
   "source": [
    "tf_batch_inference_rows = 1000\n",
    "len(df_test)\n",
    "\n",
    "len(df_test) // tf_batch_inference_rows"
   ]
  },
  {
   "cell_type": "code",
   "execution_count": 32,
   "id": "e9c37b81",
   "metadata": {},
   "outputs": [
    {
     "data": {
      "application/vnd.jupyter.widget-view+json": {
       "model_id": "4a42a4526263457e9f85fca2031d3c33",
       "version_major": 2,
       "version_minor": 0
      },
      "text/plain": [
       "  0%|          | 0/6 [00:00<?, ?it/s]"
      ]
     },
     "metadata": {},
     "output_type": "display_data"
    },
    {
     "name": "stdout",
     "output_type": "stream",
     "text": [
      "CPU times: user 1min 10s, sys: 5.27 s, total: 1min 16s\n",
      "Wall time: 6.37 s\n"
     ]
    }
   ],
   "source": [
    "%%time\n",
    "# prototype the process\n",
    "l_df_embeddings = list()\n",
    "\n",
    "for i in tqdm(range(1 + len(df_test) // tf_batch_inference_rows)):\n",
    "    slice_start = i * tf_batch_inference_rows\n",
    "    slice_end = (i + 1) * tf_batch_inference_rows\n",
    "    # print(slice_start, slice_end)\n",
    "    l_df_embeddings.append(\n",
    "        get_embeddings_as_df(\n",
    "            model=model,\n",
    "            df=df_test.iloc[slice_start:slice_end],\n",
    "            col_text='text',\n",
    "            lowercase_text=False,\n",
    "        )\n",
    "    )\n",
    "    \n",
    "df_embeddings2 = pd.concat(l_df_embeddings, axis=0, ignore_index=False)\n",
    "del l_df_embeddings"
   ]
  },
  {
   "cell_type": "markdown",
   "id": "62a6bca0",
   "metadata": {},
   "source": [
    "Added a new argument to function so batching is part of the function itself. Batching creates some overhead (by creating lists of dataframes).\n",
    "\n",
    "However, it should limit the active memory needed by only loading a part of the text at any moment. Using `tqdm` should also help to make it easier to see progress."
   ]
  },
  {
   "cell_type": "code",
   "execution_count": 33,
   "id": "b28ca3a7",
   "metadata": {},
   "outputs": [
    {
     "name": "stdout",
     "output_type": "stream",
     "text": [
      "CPU times: user 1min 5s, sys: 6.43 s, total: 1min 12s\n",
      "Wall time: 5.75 s\n"
     ]
    }
   ],
   "source": [
    "%%time\n",
    "# add new argument to do the batching as part of the function itself\n",
    "\n",
    "df_embeddings3_ = get_embeddings_as_df(\n",
    "    model=model,\n",
    "    df=df_test,\n",
    "    col_text='text',\n",
    "    lowercase_text=False,\n",
    "    batch_size=None,\n",
    "    limit_first_n_chars=None,\n",
    ")"
   ]
  },
  {
   "cell_type": "code",
   "execution_count": 114,
   "id": "ebb510ee",
   "metadata": {},
   "outputs": [
    {
     "name": "stdout",
     "output_type": "stream",
     "text": [
      "CPU times: user 33.4 s, sys: 2.68 s, total: 36 s\n",
      "Wall time: 3.03 s\n"
     ]
    }
   ],
   "source": [
    "%%time\n",
    "\n",
    "df_embeddings3_ = get_embeddings_as_df(\n",
    "    model=model,\n",
    "    df=df_test,\n",
    "    col_text='text',\n",
    "    lowercase_text=False,\n",
    "    batch_size=None,\n",
    "    limit_first_n_chars=5,\n",
    ")"
   ]
  },
  {
   "cell_type": "code",
   "execution_count": null,
   "id": "38a9b51e",
   "metadata": {},
   "outputs": [],
   "source": []
  },
  {
   "cell_type": "code",
   "execution_count": 65,
   "id": "4119f736",
   "metadata": {},
   "outputs": [
    {
     "name": "stdout",
     "output_type": "stream",
     "text": [
      "CPU times: user 58.5 s, sys: 5.16 s, total: 1min 3s\n",
      "Wall time: 4.93 s\n"
     ]
    }
   ],
   "source": [
    "%%time\n",
    "# add new argument to do the batching as part of the function itself\n",
    "\n",
    "df_embeddings3_ = get_embeddings_as_df(\n",
    "    model=model,\n",
    "    df=df_test,\n",
    "    col_text='text',\n",
    "    lowercase_text=False,\n",
    "    batch_size=5500,\n",
    ")"
   ]
  },
  {
   "cell_type": "code",
   "execution_count": 67,
   "id": "6e7c04dc",
   "metadata": {},
   "outputs": [
    {
     "name": "stderr",
     "output_type": "stream",
     "text": [
      "16:20:59 | INFO | \"Getting embeddings in batches of size: 2000\"\n"
     ]
    },
    {
     "data": {
      "application/vnd.jupyter.widget-view+json": {
       "model_id": "18094f32fe9a4501b2311270cf6eb53b",
       "version_major": 2,
       "version_minor": 0
      },
      "text/plain": [
       "  0%|          | 0/3 [00:00<?, ?it/s]"
      ]
     },
     "metadata": {},
     "output_type": "display_data"
    },
    {
     "name": "stdout",
     "output_type": "stream",
     "text": [
      "CPU times: user 1min, sys: 5.38 s, total: 1min 5s\n",
      "Wall time: 6.07 s\n"
     ]
    }
   ],
   "source": [
    "%%time\n",
    "# add new argument to do the batching as part of the function itself\n",
    "\n",
    "df_embeddings3_ = get_embeddings_as_df(\n",
    "    model=model,\n",
    "    df=df_test,\n",
    "    col_text='text',\n",
    "    lowercase_text=False,\n",
    "    batch_size=2000,\n",
    ")"
   ]
  },
  {
   "cell_type": "code",
   "execution_count": 64,
   "id": "26f90c70",
   "metadata": {},
   "outputs": [
    {
     "name": "stderr",
     "output_type": "stream",
     "text": [
      "16:19:06 | INFO | \"Getting embeddings in batches of size: 2500\"\n"
     ]
    },
    {
     "data": {
      "application/vnd.jupyter.widget-view+json": {
       "model_id": "b874700b3f444f1887fa30d0c8a98517",
       "version_major": 2,
       "version_minor": 0
      },
      "text/plain": [
       "  0%|          | 0/3 [00:00<?, ?it/s]"
      ]
     },
     "metadata": {},
     "output_type": "display_data"
    },
    {
     "name": "stdout",
     "output_type": "stream",
     "text": [
      "CPU times: user 60 s, sys: 4.57 s, total: 1min 4s\n",
      "Wall time: 5.99 s\n"
     ]
    }
   ],
   "source": [
    "%%time\n",
    "# add new argument to do the batching as part of the function itself\n",
    "\n",
    "df_embeddings3_ = get_embeddings_as_df(\n",
    "    model=model,\n",
    "    df=df_test,\n",
    "    col_text='text',\n",
    "    lowercase_text=False,\n",
    "    batch_size=2500,\n",
    ")"
   ]
  },
  {
   "cell_type": "code",
   "execution_count": 60,
   "id": "5dd28634",
   "metadata": {},
   "outputs": [
    {
     "name": "stderr",
     "output_type": "stream",
     "text": [
      "16:06:57 | INFO | \"Getting embeddings in batches of size: 1000\"\n"
     ]
    },
    {
     "data": {
      "application/vnd.jupyter.widget-view+json": {
       "model_id": "e9fadff9420247f0b97c9b27e52c901d",
       "version_major": 2,
       "version_minor": 0
      },
      "text/plain": [
       "  0%|          | 0/6 [00:00<?, ?it/s]"
      ]
     },
     "metadata": {},
     "output_type": "display_data"
    },
    {
     "name": "stdout",
     "output_type": "stream",
     "text": [
      "CPU times: user 1min 2s, sys: 2.46 s, total: 1min 4s\n",
      "Wall time: 7.2 s\n"
     ]
    }
   ],
   "source": [
    "%%time\n",
    "# add new argument to do the batching as part of the function itself\n",
    "\n",
    "df_embeddings3 = get_embeddings_as_df(\n",
    "    model=model,\n",
    "    df=df_test,\n",
    "    col_text='text',\n",
    "    lowercase_text=False,\n",
    "    batch_size=tf_batch_inference_rows\n",
    ")"
   ]
  },
  {
   "cell_type": "markdown",
   "id": "4282d1fb",
   "metadata": {},
   "source": [
    "### Check that outputs are equal/similar (within tolerance limits)"
   ]
  },
  {
   "cell_type": "code",
   "execution_count": 49,
   "id": "f2c667a7",
   "metadata": {},
   "outputs": [
    {
     "data": {
      "text/plain": [
       "True"
      ]
     },
     "execution_count": 49,
     "metadata": {},
     "output_type": "execute_result"
    }
   ],
   "source": [
    "# n_check = len(df_embeddings1)\n",
    "n_check = 5\n",
    "np.allclose(\n",
    "    df_embeddings1.head(n_check), \n",
    "    df_embeddings2.head(n_check), \n",
    "    rtol=1e-05,\n",
    ")"
   ]
  },
  {
   "cell_type": "code",
   "execution_count": 48,
   "id": "4ebb624d",
   "metadata": {},
   "outputs": [
    {
     "data": {
      "text/plain": [
       "True"
      ]
     },
     "execution_count": 48,
     "metadata": {},
     "output_type": "execute_result"
    }
   ],
   "source": [
    "# n_check = len(df_embeddings1)\n",
    "np.allclose(\n",
    "    df_embeddings1,\n",
    "    df_embeddings2,\n",
    "    rtol=1e-03,\n",
    ")"
   ]
  },
  {
   "cell_type": "code",
   "execution_count": 70,
   "id": "ed798146",
   "metadata": {},
   "outputs": [
    {
     "data": {
      "text/plain": [
       "True"
      ]
     },
     "execution_count": 70,
     "metadata": {},
     "output_type": "execute_result"
    }
   ],
   "source": [
    "# n_check = len(df_embeddings1)\n",
    "np.allclose(\n",
    "    df_embeddings2,\n",
    "    df_embeddings3,\n",
    "    rtol=1e-03,\n",
    ")"
   ]
  },
  {
   "cell_type": "code",
   "execution_count": 71,
   "id": "e89f4834",
   "metadata": {},
   "outputs": [
    {
     "data": {
      "text/plain": [
       "True"
      ]
     },
     "execution_count": 71,
     "metadata": {},
     "output_type": "execute_result"
    }
   ],
   "source": [
    "# n_check = len(df_embeddings1)\n",
    "np.allclose(\n",
    "    df_embeddings3,\n",
    "    df_embeddings3_,\n",
    "    rtol=1e-03,\n",
    ")"
   ]
  },
  {
   "cell_type": "markdown",
   "id": "45ae0f4f",
   "metadata": {},
   "source": [
    "# Pandas .apply()\n",
    "\n",
    "This appears to be serial and it's also a pain to get an array back out... not worth it."
   ]
  },
  {
   "cell_type": "code",
   "execution_count": 22,
   "id": "1673e9f8",
   "metadata": {},
   "outputs": [
    {
     "name": "stdout",
     "output_type": "stream",
     "text": [
      "CPU times: user 8min 9s, sys: 56.7 s, total: 9min 6s\n",
      "Wall time: 1min 42s\n"
     ]
    }
   ],
   "source": [
    "%%time\n",
    "\n",
    "s_output = df_test['text'].apply(model)"
   ]
  },
  {
   "cell_type": "code",
   "execution_count": 23,
   "id": "c89a074d",
   "metadata": {},
   "outputs": [
    {
     "data": {
      "text/plain": [
       "(5400,)"
      ]
     },
     "execution_count": 23,
     "metadata": {},
     "output_type": "execute_result"
    }
   ],
   "source": [
    "s_output.shape"
   ]
  },
  {
   "cell_type": "code",
   "execution_count": 117,
   "id": "c6fdb7a0",
   "metadata": {},
   "outputs": [],
   "source": [
    "# s_output.head()"
   ]
  },
  {
   "cell_type": "markdown",
   "id": "8a299ac6",
   "metadata": {},
   "source": [
    "## Compare/check output from pd.apply v. run model on list\n",
    "\n",
    "The default tolerance of `rtol=1e-05` fails, so we need to move to `1e-04` or even `1e-02` for things to be equal.\n",
    "\n",
    "---\n",
    "\n",
    "Unclear why we might need to move it up to `1e-02` for all to be equal... am I sure things are in the same order? Might be better to use absolute tolerance instead of relative?"
   ]
  },
  {
   "cell_type": "code",
   "execution_count": 66,
   "id": "59ab0698",
   "metadata": {},
   "outputs": [
    {
     "data": {
      "text/plain": [
       "True"
      ]
     },
     "execution_count": 66,
     "metadata": {},
     "output_type": "execute_result"
    }
   ],
   "source": [
    "# n_check = len(df_embeddings1)\n",
    "n_check = 5\n",
    "np.allclose(\n",
    "    df_embeddings1.head(n_check), \n",
    "    np.array(s_output.head(n_check).apply(lambda x: x.numpy()[0]).to_list()),\n",
    "    rtol=1e-02,\n",
    ")"
   ]
  },
  {
   "cell_type": "code",
   "execution_count": 96,
   "id": "349d48b6",
   "metadata": {},
   "outputs": [],
   "source": [
    "# df_embeddings1.head(n_check)"
   ]
  },
  {
   "cell_type": "code",
   "execution_count": 97,
   "id": "c18e10ee",
   "metadata": {},
   "outputs": [],
   "source": [
    "# pd.DataFrame(s_output.head(n_check).apply(lambda x: x.numpy()[0]).to_list())"
   ]
  },
  {
   "cell_type": "code",
   "execution_count": 98,
   "id": "4d95873d",
   "metadata": {},
   "outputs": [],
   "source": [
    "# df_embeddings1.tail(n_check)"
   ]
  },
  {
   "cell_type": "code",
   "execution_count": 99,
   "id": "6ba7b8f4",
   "metadata": {},
   "outputs": [],
   "source": [
    "# pd.DataFrame(s_output.tail(n_check).apply(lambda x: x.numpy()[0]).to_list())"
   ]
  },
  {
   "cell_type": "code",
   "execution_count": 73,
   "id": "b6d20ab8",
   "metadata": {},
   "outputs": [
    {
     "data": {
      "text/plain": [
       "False"
      ]
     },
     "execution_count": 73,
     "metadata": {},
     "output_type": "execute_result"
    }
   ],
   "source": [
    "n_check_small = 5\n",
    "np.allclose(\n",
    "    df_embeddings1.head(n_check_small),\n",
    "    pd.DataFrame(s_output.head(n_check_small).apply(lambda x: x.numpy()[0]).to_list()),\n",
    "    rtol=1e-04,\n",
    ")"
   ]
  },
  {
   "cell_type": "code",
   "execution_count": 61,
   "id": "5a013008",
   "metadata": {},
   "outputs": [
    {
     "data": {
      "text/html": [
       "<div>\n",
       "<style scoped>\n",
       "    .dataframe tbody tr th:only-of-type {\n",
       "        vertical-align: middle;\n",
       "    }\n",
       "\n",
       "    .dataframe tbody tr th {\n",
       "        vertical-align: top;\n",
       "    }\n",
       "\n",
       "    .dataframe thead th {\n",
       "        text-align: right;\n",
       "    }\n",
       "</style>\n",
       "<table border=\"1\" class=\"dataframe\">\n",
       "  <thead>\n",
       "    <tr style=\"text-align: right;\">\n",
       "      <th></th>\n",
       "      <th>0</th>\n",
       "      <th>1</th>\n",
       "      <th>2</th>\n",
       "      <th>3</th>\n",
       "      <th>4</th>\n",
       "      <th>5</th>\n",
       "      <th>6</th>\n",
       "      <th>7</th>\n",
       "      <th>8</th>\n",
       "      <th>9</th>\n",
       "      <th>10</th>\n",
       "      <th>11</th>\n",
       "      <th>12</th>\n",
       "      <th>13</th>\n",
       "      <th>14</th>\n",
       "      <th>15</th>\n",
       "      <th>16</th>\n",
       "      <th>17</th>\n",
       "      <th>18</th>\n",
       "      <th>19</th>\n",
       "      <th>20</th>\n",
       "      <th>21</th>\n",
       "      <th>22</th>\n",
       "      <th>23</th>\n",
       "      <th>24</th>\n",
       "      <th>25</th>\n",
       "      <th>26</th>\n",
       "      <th>27</th>\n",
       "      <th>28</th>\n",
       "      <th>29</th>\n",
       "      <th>...</th>\n",
       "      <th>482</th>\n",
       "      <th>483</th>\n",
       "      <th>484</th>\n",
       "      <th>485</th>\n",
       "      <th>486</th>\n",
       "      <th>487</th>\n",
       "      <th>488</th>\n",
       "      <th>489</th>\n",
       "      <th>490</th>\n",
       "      <th>491</th>\n",
       "      <th>492</th>\n",
       "      <th>493</th>\n",
       "      <th>494</th>\n",
       "      <th>495</th>\n",
       "      <th>496</th>\n",
       "      <th>497</th>\n",
       "      <th>498</th>\n",
       "      <th>499</th>\n",
       "      <th>500</th>\n",
       "      <th>501</th>\n",
       "      <th>502</th>\n",
       "      <th>503</th>\n",
       "      <th>504</th>\n",
       "      <th>505</th>\n",
       "      <th>506</th>\n",
       "      <th>507</th>\n",
       "      <th>508</th>\n",
       "      <th>509</th>\n",
       "      <th>510</th>\n",
       "      <th>511</th>\n",
       "    </tr>\n",
       "  </thead>\n",
       "  <tbody>\n",
       "    <tr>\n",
       "      <th>0</th>\n",
       "      <td>False</td>\n",
       "      <td>False</td>\n",
       "      <td>False</td>\n",
       "      <td>False</td>\n",
       "      <td>False</td>\n",
       "      <td>False</td>\n",
       "      <td>False</td>\n",
       "      <td>False</td>\n",
       "      <td>False</td>\n",
       "      <td>False</td>\n",
       "      <td>False</td>\n",
       "      <td>False</td>\n",
       "      <td>False</td>\n",
       "      <td>False</td>\n",
       "      <td>False</td>\n",
       "      <td>False</td>\n",
       "      <td>False</td>\n",
       "      <td>False</td>\n",
       "      <td>False</td>\n",
       "      <td>False</td>\n",
       "      <td>False</td>\n",
       "      <td>False</td>\n",
       "      <td>False</td>\n",
       "      <td>False</td>\n",
       "      <td>False</td>\n",
       "      <td>False</td>\n",
       "      <td>False</td>\n",
       "      <td>False</td>\n",
       "      <td>False</td>\n",
       "      <td>False</td>\n",
       "      <td>...</td>\n",
       "      <td>False</td>\n",
       "      <td>False</td>\n",
       "      <td>False</td>\n",
       "      <td>False</td>\n",
       "      <td>False</td>\n",
       "      <td>False</td>\n",
       "      <td>False</td>\n",
       "      <td>False</td>\n",
       "      <td>False</td>\n",
       "      <td>False</td>\n",
       "      <td>False</td>\n",
       "      <td>False</td>\n",
       "      <td>False</td>\n",
       "      <td>False</td>\n",
       "      <td>False</td>\n",
       "      <td>False</td>\n",
       "      <td>False</td>\n",
       "      <td>False</td>\n",
       "      <td>False</td>\n",
       "      <td>False</td>\n",
       "      <td>False</td>\n",
       "      <td>False</td>\n",
       "      <td>False</td>\n",
       "      <td>False</td>\n",
       "      <td>False</td>\n",
       "      <td>False</td>\n",
       "      <td>False</td>\n",
       "      <td>False</td>\n",
       "      <td>False</td>\n",
       "      <td>False</td>\n",
       "    </tr>\n",
       "  </tbody>\n",
       "</table>\n",
       "<p>1 rows × 512 columns</p>\n",
       "</div>"
      ],
      "text/plain": [
       "     0      1      2      3      4      5      6      7      8      9      10     11     12     13     14     15     16     17     18     19     20     21     22     23     24     25     26     27     28     29   ...    482    483    484    485    486    487    488    489    490    491    492  \\\n",
       "0  False  False  False  False  False  False  False  False  False  False  False  False  False  False  False  False  False  False  False  False  False  False  False  False  False  False  False  False  False  False  ...  False  False  False  False  False  False  False  False  False  False  False   \n",
       "\n",
       "     493    494    495    496    497    498    499    500    501    502    503    504    505    506    507    508    509    510    511  \n",
       "0  False  False  False  False  False  False  False  False  False  False  False  False  False  False  False  False  False  False  False  \n",
       "\n",
       "[1 rows x 512 columns]"
      ]
     },
     "execution_count": 61,
     "metadata": {},
     "output_type": "execute_result"
    }
   ],
   "source": [
    "np.equal(\n",
    "    df_embeddings1.head(1),\n",
    "    pd.DataFrame(s_output.head(1).apply(lambda x: x.numpy()[0]).to_list())\n",
    ")"
   ]
  },
  {
   "cell_type": "code",
   "execution_count": 80,
   "id": "10619462",
   "metadata": {},
   "outputs": [
    {
     "data": {
      "text/html": [
       "<div>\n",
       "<style scoped>\n",
       "    .dataframe tbody tr th:only-of-type {\n",
       "        vertical-align: middle;\n",
       "    }\n",
       "\n",
       "    .dataframe tbody tr th {\n",
       "        vertical-align: top;\n",
       "    }\n",
       "\n",
       "    .dataframe thead th {\n",
       "        text-align: right;\n",
       "    }\n",
       "</style>\n",
       "<table border=\"1\" class=\"dataframe\">\n",
       "  <thead>\n",
       "    <tr style=\"text-align: right;\">\n",
       "      <th></th>\n",
       "      <th>0</th>\n",
       "      <th>1</th>\n",
       "      <th>2</th>\n",
       "      <th>3</th>\n",
       "      <th>4</th>\n",
       "      <th>5</th>\n",
       "      <th>6</th>\n",
       "      <th>7</th>\n",
       "      <th>8</th>\n",
       "      <th>9</th>\n",
       "      <th>10</th>\n",
       "      <th>11</th>\n",
       "      <th>12</th>\n",
       "      <th>13</th>\n",
       "      <th>14</th>\n",
       "      <th>15</th>\n",
       "      <th>16</th>\n",
       "      <th>17</th>\n",
       "      <th>18</th>\n",
       "      <th>19</th>\n",
       "      <th>20</th>\n",
       "      <th>21</th>\n",
       "      <th>22</th>\n",
       "      <th>23</th>\n",
       "      <th>24</th>\n",
       "      <th>25</th>\n",
       "      <th>26</th>\n",
       "      <th>27</th>\n",
       "      <th>28</th>\n",
       "      <th>29</th>\n",
       "      <th>...</th>\n",
       "      <th>482</th>\n",
       "      <th>483</th>\n",
       "      <th>484</th>\n",
       "      <th>485</th>\n",
       "      <th>486</th>\n",
       "      <th>487</th>\n",
       "      <th>488</th>\n",
       "      <th>489</th>\n",
       "      <th>490</th>\n",
       "      <th>491</th>\n",
       "      <th>492</th>\n",
       "      <th>493</th>\n",
       "      <th>494</th>\n",
       "      <th>495</th>\n",
       "      <th>496</th>\n",
       "      <th>497</th>\n",
       "      <th>498</th>\n",
       "      <th>499</th>\n",
       "      <th>500</th>\n",
       "      <th>501</th>\n",
       "      <th>502</th>\n",
       "      <th>503</th>\n",
       "      <th>504</th>\n",
       "      <th>505</th>\n",
       "      <th>506</th>\n",
       "      <th>507</th>\n",
       "      <th>508</th>\n",
       "      <th>509</th>\n",
       "      <th>510</th>\n",
       "      <th>511</th>\n",
       "    </tr>\n",
       "  </thead>\n",
       "  <tbody>\n",
       "    <tr>\n",
       "      <th>0</th>\n",
       "      <td>False</td>\n",
       "      <td>False</td>\n",
       "      <td>False</td>\n",
       "      <td>False</td>\n",
       "      <td>False</td>\n",
       "      <td>False</td>\n",
       "      <td>False</td>\n",
       "      <td>False</td>\n",
       "      <td>False</td>\n",
       "      <td>False</td>\n",
       "      <td>False</td>\n",
       "      <td>False</td>\n",
       "      <td>False</td>\n",
       "      <td>False</td>\n",
       "      <td>False</td>\n",
       "      <td>False</td>\n",
       "      <td>False</td>\n",
       "      <td>False</td>\n",
       "      <td>False</td>\n",
       "      <td>False</td>\n",
       "      <td>False</td>\n",
       "      <td>False</td>\n",
       "      <td>False</td>\n",
       "      <td>False</td>\n",
       "      <td>False</td>\n",
       "      <td>False</td>\n",
       "      <td>False</td>\n",
       "      <td>False</td>\n",
       "      <td>False</td>\n",
       "      <td>False</td>\n",
       "      <td>...</td>\n",
       "      <td>False</td>\n",
       "      <td>False</td>\n",
       "      <td>False</td>\n",
       "      <td>False</td>\n",
       "      <td>False</td>\n",
       "      <td>False</td>\n",
       "      <td>False</td>\n",
       "      <td>False</td>\n",
       "      <td>False</td>\n",
       "      <td>False</td>\n",
       "      <td>False</td>\n",
       "      <td>False</td>\n",
       "      <td>False</td>\n",
       "      <td>False</td>\n",
       "      <td>False</td>\n",
       "      <td>False</td>\n",
       "      <td>False</td>\n",
       "      <td>False</td>\n",
       "      <td>False</td>\n",
       "      <td>False</td>\n",
       "      <td>False</td>\n",
       "      <td>False</td>\n",
       "      <td>False</td>\n",
       "      <td>False</td>\n",
       "      <td>False</td>\n",
       "      <td>False</td>\n",
       "      <td>False</td>\n",
       "      <td>False</td>\n",
       "      <td>False</td>\n",
       "      <td>False</td>\n",
       "    </tr>\n",
       "  </tbody>\n",
       "</table>\n",
       "<p>1 rows × 512 columns</p>\n",
       "</div>"
      ],
      "text/plain": [
       "     0      1      2      3      4      5      6      7      8      9      10     11     12     13     14     15     16     17     18     19     20     21     22     23     24     25     26     27     28     29   ...    482    483    484    485    486    487    488    489    490    491    492  \\\n",
       "0  False  False  False  False  False  False  False  False  False  False  False  False  False  False  False  False  False  False  False  False  False  False  False  False  False  False  False  False  False  False  ...  False  False  False  False  False  False  False  False  False  False  False   \n",
       "\n",
       "     493    494    495    496    497    498    499    500    501    502    503    504    505    506    507    508    509    510    511  \n",
       "0  False  False  False  False  False  False  False  False  False  False  False  False  False  False  False  False  False  False  False  \n",
       "\n",
       "[1 rows x 512 columns]"
      ]
     },
     "execution_count": 80,
     "metadata": {},
     "output_type": "execute_result"
    }
   ],
   "source": [
    "np.equal(\n",
    "    df_embeddings1.head(1),\n",
    "    model(df_test.head(1)).numpy()\n",
    ")"
   ]
  },
  {
   "cell_type": "markdown",
   "id": "89fc57fd",
   "metadata": {},
   "source": [
    "### Equality fails even on the same input\n",
    "Looks like the output is not deterministic"
   ]
  },
  {
   "cell_type": "code",
   "execution_count": 87,
   "id": "2e0d6dd9",
   "metadata": {},
   "outputs": [
    {
     "data": {
      "text/plain": [
       "array([[False, False, False, False,  True,  True,  True,  True, False,\n",
       "         True]])"
      ]
     },
     "execution_count": 87,
     "metadata": {},
     "output_type": "execute_result"
    }
   ],
   "source": [
    "np.equal(\n",
    "    model(df_test.head(1)).numpy()[:, :10],\n",
    "    model(df_test.head(1)).numpy()[:, :10],\n",
    ")"
   ]
  },
  {
   "cell_type": "code",
   "execution_count": 90,
   "id": "67ac8e65",
   "metadata": {},
   "outputs": [
    {
     "data": {
      "text/plain": [
       "False"
      ]
     },
     "execution_count": 90,
     "metadata": {},
     "output_type": "execute_result"
    }
   ],
   "source": [
    "np.allclose(\n",
    "    model(df_test.head(10)).numpy(),\n",
    "    model(df_test.head(10)).numpy(),\n",
    ")"
   ]
  },
  {
   "cell_type": "code",
   "execution_count": 91,
   "id": "698039db",
   "metadata": {},
   "outputs": [
    {
     "data": {
      "text/plain": [
       "True"
      ]
     },
     "execution_count": 91,
     "metadata": {},
     "output_type": "execute_result"
    }
   ],
   "source": [
    "np.allclose(\n",
    "    model(df_test.head(10)).numpy(),\n",
    "    model(df_test.head(10)).numpy(),\n",
    "    rtol=1e-04,\n",
    ")"
   ]
  },
  {
   "cell_type": "code",
   "execution_count": 93,
   "id": "a482ab3a",
   "metadata": {},
   "outputs": [
    {
     "name": "stdout",
     "output_type": "stream",
     "text": [
      "CPU times: user 488 ms, sys: 77.4 ms, total: 566 ms\n",
      "Wall time: 2.12 s\n"
     ]
    },
    {
     "data": {
      "text/plain": [
       "False"
      ]
     },
     "execution_count": 93,
     "metadata": {},
     "output_type": "execute_result"
    }
   ],
   "source": [
    "%%time\n",
    "\n",
    "np.allclose(\n",
    "    model(df_test).numpy(),\n",
    "    model(df_test).numpy(),\n",
    "    rtol=1e-04,\n",
    ")"
   ]
  },
  {
   "cell_type": "code",
   "execution_count": 94,
   "id": "8d9ab0db",
   "metadata": {},
   "outputs": [
    {
     "name": "stdout",
     "output_type": "stream",
     "text": [
      "CPU times: user 470 ms, sys: 117 ms, total: 587 ms\n",
      "Wall time: 2.15 s\n"
     ]
    },
    {
     "data": {
      "text/plain": [
       "True"
      ]
     },
     "execution_count": 94,
     "metadata": {},
     "output_type": "execute_result"
    }
   ],
   "source": [
    "%%time\n",
    "\n",
    "np.allclose(\n",
    "    model(df_test).numpy(),\n",
    "    model(df_test).numpy(),\n",
    "    rtol=1e-03,\n",
    ")"
   ]
  },
  {
   "cell_type": "code",
   "execution_count": 95,
   "id": "2f0b3a4c",
   "metadata": {},
   "outputs": [
    {
     "name": "stdout",
     "output_type": "stream",
     "text": [
      "CPU times: user 502 ms, sys: 69.2 ms, total: 571 ms\n",
      "Wall time: 2.14 s\n"
     ]
    },
    {
     "data": {
      "text/plain": [
       "True"
      ]
     },
     "execution_count": 95,
     "metadata": {},
     "output_type": "execute_result"
    }
   ],
   "source": [
    "%%time\n",
    "\n",
    "np.allclose(\n",
    "    model(df_test).numpy(),\n",
    "    model(df_test).numpy(),\n",
    "    rtol=1e-03,\n",
    ")"
   ]
  },
  {
   "cell_type": "markdown",
   "id": "357971d6",
   "metadata": {},
   "source": [
    "# Test checks on slicing strings"
   ]
  },
  {
   "cell_type": "code",
   "execution_count": 109,
   "id": "7aa344dc",
   "metadata": {},
   "outputs": [
    {
     "data": {
      "text/plain": [
       "0                                                                       dog\n",
       "1                                                         Puppies are nice.\n",
       "2                    I enjoy taking long walks along the beach with my dog.\n",
       "3                                                                      cane\n",
       "4                                                   I cuccioli sono carini.\n",
       "                                       ...                                 \n",
       "5395                                                I cuccioli sono carini.\n",
       "5396    Mi piace fare lunghe passeggiate lungo la spiaggia con il mio cane.\n",
       "5397                                                                      犬\n",
       "5398                                                                子犬はいいです\n",
       "5399                                                  私は犬と一緒にビーチを散歩するのが好きです\n",
       "Name: text, Length: 5400, dtype: object"
      ]
     },
     "execution_count": 109,
     "metadata": {},
     "output_type": "execute_result"
    }
   ],
   "source": [
    "df_test['text'].str[:None]"
   ]
  },
  {
   "cell_type": "code",
   "execution_count": 110,
   "id": "7374fcfe",
   "metadata": {},
   "outputs": [
    {
     "data": {
      "text/plain": [
       "0        dog\n",
       "1       Pupp\n",
       "2       I en\n",
       "3       cane\n",
       "4       I cu\n",
       "        ... \n",
       "5395    I cu\n",
       "5396    Mi p\n",
       "5397       犬\n",
       "5398    子犬はい\n",
       "5399    私は犬と\n",
       "Name: text, Length: 5400, dtype: object"
      ]
     },
     "execution_count": 110,
     "metadata": {},
     "output_type": "execute_result"
    }
   ],
   "source": [
    "df_test['text'].str[:4]"
   ]
  },
  {
   "cell_type": "code",
   "execution_count": 111,
   "id": "9893223e",
   "metadata": {},
   "outputs": [
    {
     "data": {
      "text/plain": [
       "0                  dog\n",
       "1       Puppies are ni\n",
       "2       I enjoy taking\n",
       "3                 cane\n",
       "4       I cuccioli son\n",
       "             ...      \n",
       "5395    I cuccioli son\n",
       "5396    Mi piace fare \n",
       "5397                 犬\n",
       "5398           子犬はいいです\n",
       "5399    私は犬と一緒にビーチを散歩す\n",
       "Name: text, Length: 5400, dtype: object"
      ]
     },
     "execution_count": 111,
     "metadata": {},
     "output_type": "execute_result"
    }
   ],
   "source": [
    "df_test['text'].str[:14]"
   ]
  },
  {
   "cell_type": "markdown",
   "id": "bab46e9f",
   "metadata": {},
   "source": [
    "# Test limiting string length\n",
    "USE will run out of memory with really long text.\n",
    "\n",
    "\n",
    "So maybe let's cap things at around `7,000` characters because we'll start seeing diminishing returns and we don't want a batch held up by one long post/comment. 7k limit should keep inference for each post at less than 1 second.\n",
    "\n",
    "Rough time checks:\n",
    "Reps, Chars -> Large | \"normal\"\n",
    "```\n",
    "-    10,   770 characters -> ` 0.0224 seconds` | 0.0105 seconds\n",
    "-    13,  1000 characters -> ` 0.0685 seconds` | 0.0121 s\n",
    "-   100,  7.7k characters -> ` 0.860  seconds` | 0.0351 s\n",
    "-   650,  ~15k characters -> ` 1.55   seconds` | 0.379  s\n",
    "- 1,000,  ~76k characters -> `22.0    seconds` | \n",
    "- 2,000, ~153k characters -> `1 min 44 seconds` | \n",
    "- 2,400, ~200k characters -> `OOM` errors (out of memory)\n",
    "```\n"
   ]
  },
  {
   "cell_type": "code",
   "execution_count": 80,
   "id": "a21f92b4",
   "metadata": {},
   "outputs": [
    {
     "name": "stdout",
     "output_type": "stream",
     "text": [
      "    10 ->     769\n",
      "    13 ->   1,000\n",
      "    16 ->   1,231\n",
      "    20 ->   1,539\n",
      "   100 ->   7,699\n",
      "   200 ->  15,399\n",
      "   650 ->  50,049\n",
      " 1,000 ->  76,999\n",
      " 1,500 -> 115,499\n",
      " 2,000 -> 153,999\n",
      " 3,000 -> 230,999\n",
      " 5,000 -> 384,999\n"
     ]
    }
   ],
   "source": [
    "len_check = [10, 13, 16, 20, 100, 200, 650, 1000, 1500, 2000, 3000, 5000]\n",
    "for i in len_check:\n",
    "    print(f\"{i:6,.0f} -> {len(' '.join(english_sentences * i)):7,.0f}\")"
   ]
  },
  {
   "cell_type": "code",
   "execution_count": 82,
   "id": "55a19be4",
   "metadata": {},
   "outputs": [],
   "source": [
    "# %%time\n",
    "# _ = model(' '.join(english_sentences))"
   ]
  },
  {
   "cell_type": "code",
   "execution_count": 81,
   "id": "c39d4123",
   "metadata": {},
   "outputs": [],
   "source": [
    "# %%time\n",
    "# _ = model_normal(' '.join(english_sentences))"
   ]
  },
  {
   "cell_type": "code",
   "execution_count": 78,
   "id": "8075d6e6",
   "metadata": {},
   "outputs": [
    {
     "name": "stdout",
     "output_type": "stream",
     "text": [
      "CPU times: user 357 ms, sys: 34.3 ms, total: 392 ms\n",
      "Wall time: 55.1 ms\n"
     ]
    }
   ],
   "source": [
    "%%time\n",
    "_ = model(' '.join(english_sentences * 10))"
   ]
  },
  {
   "cell_type": "code",
   "execution_count": 63,
   "id": "1e4e9b6d",
   "metadata": {},
   "outputs": [
    {
     "name": "stdout",
     "output_type": "stream",
     "text": [
      "CPU times: user 66 ms, sys: 4.06 ms, total: 70.1 ms\n",
      "Wall time: 10.5 ms\n"
     ]
    }
   ],
   "source": [
    "%%time\n",
    "_ = model_normal(' '.join(english_sentences * 10))"
   ]
  },
  {
   "cell_type": "code",
   "execution_count": 83,
   "id": "3a380f9a",
   "metadata": {},
   "outputs": [
    {
     "name": "stdout",
     "output_type": "stream",
     "text": [
      "CPU times: user 512 ms, sys: 19 ms, total: 531 ms\n",
      "Wall time: 68.5 ms\n"
     ]
    }
   ],
   "source": [
    "%%time\n",
    "_ = model(' '.join(english_sentences * 13))"
   ]
  },
  {
   "cell_type": "code",
   "execution_count": 84,
   "id": "5370be68",
   "metadata": {},
   "outputs": [
    {
     "name": "stdout",
     "output_type": "stream",
     "text": [
      "CPU times: user 80 ms, sys: 2.83 ms, total: 82.9 ms\n",
      "Wall time: 12.1 ms\n"
     ]
    }
   ],
   "source": [
    "%%time\n",
    "_ = model_normal(' '.join(english_sentences * 13))"
   ]
  },
  {
   "cell_type": "code",
   "execution_count": 66,
   "id": "398530a7",
   "metadata": {},
   "outputs": [
    {
     "name": "stdout",
     "output_type": "stream",
     "text": [
      "CPU times: user 9.48 s, sys: 1.75 s, total: 11.2 s\n",
      "Wall time: 995 ms\n"
     ]
    }
   ],
   "source": [
    "%%time\n",
    "_ = model(' '.join(english_sentences * 100))"
   ]
  },
  {
   "cell_type": "code",
   "execution_count": 67,
   "id": "95fcd593",
   "metadata": {},
   "outputs": [
    {
     "name": "stdout",
     "output_type": "stream",
     "text": [
      "CPU times: user 354 ms, sys: 0 ns, total: 354 ms\n",
      "Wall time: 35.1 ms\n"
     ]
    }
   ],
   "source": [
    "%%time\n",
    "_ = model_normal(' '.join(english_sentences * 100))"
   ]
  },
  {
   "cell_type": "code",
   "execution_count": 69,
   "id": "db1e6177",
   "metadata": {},
   "outputs": [
    {
     "name": "stdout",
     "output_type": "stream",
     "text": [
      "CPU times: user 21.5 s, sys: 2.54 s, total: 24 s\n",
      "Wall time: 1.73 s\n"
     ]
    }
   ],
   "source": [
    "%%time\n",
    "_ = model(' '.join(english_sentences * 200))"
   ]
  },
  {
   "cell_type": "code",
   "execution_count": 68,
   "id": "08904d6d",
   "metadata": {},
   "outputs": [
    {
     "name": "stdout",
     "output_type": "stream",
     "text": [
      "CPU times: user 700 ms, sys: 0 ns, total: 700 ms\n",
      "Wall time: 66.8 ms\n"
     ]
    }
   ],
   "source": [
    "%%time\n",
    "_ = model_normal(' '.join(english_sentences * 200))"
   ]
  },
  {
   "cell_type": "code",
   "execution_count": 70,
   "id": "ea878f3d",
   "metadata": {},
   "outputs": [
    {
     "name": "stdout",
     "output_type": "stream",
     "text": [
      "CPU times: user 3min 1s, sys: 21.8 s, total: 3min 22s\n",
      "Wall time: 16.5 s\n"
     ]
    }
   ],
   "source": [
    "%%time\n",
    "_ = model(' '.join(english_sentences * 650))"
   ]
  },
  {
   "cell_type": "code",
   "execution_count": 86,
   "id": "1f3ab26e",
   "metadata": {},
   "outputs": [
    {
     "name": "stdout",
     "output_type": "stream",
     "text": [
      "379 ms ± 137 ms per loop (mean ± std. dev. of 7 runs, 1 loop each)\n"
     ]
    }
   ],
   "source": [
    "%%timeit\n",
    "_ = model_normal(' '.join(english_sentences * 650))"
   ]
  },
  {
   "cell_type": "code",
   "execution_count": 73,
   "id": "551d301d",
   "metadata": {},
   "outputs": [
    {
     "name": "stdout",
     "output_type": "stream",
     "text": [
      "CPU times: user 7min 3s, sys: 46.6 s, total: 7min 49s\n",
      "Wall time: 34.7 s\n"
     ]
    }
   ],
   "source": [
    "%%time\n",
    "_ = model(' '.join(english_sentences * 1000))"
   ]
  },
  {
   "cell_type": "code",
   "execution_count": 72,
   "id": "cb579245",
   "metadata": {},
   "outputs": [
    {
     "name": "stdout",
     "output_type": "stream",
     "text": [
      "CPU times: user 3.46 s, sys: 237 ms, total: 3.69 s\n",
      "Wall time: 353 ms\n"
     ]
    }
   ],
   "source": [
    "%%time\n",
    "_ = model_normal(' '.join(english_sentences * 1000))"
   ]
  },
  {
   "cell_type": "code",
   "execution_count": 75,
   "id": "9e143177",
   "metadata": {},
   "outputs": [
    {
     "name": "stdout",
     "output_type": "stream",
     "text": [
      "CPU times: user 26min 15s, sys: 2min 20s, total: 28min 35s\n",
      "Wall time: 2min 4s\n"
     ]
    }
   ],
   "source": [
    "%%time\n",
    "_ = model(' '.join(english_sentences * 2000))"
   ]
  },
  {
   "cell_type": "code",
   "execution_count": 74,
   "id": "56b77140",
   "metadata": {},
   "outputs": [
    {
     "name": "stdout",
     "output_type": "stream",
     "text": [
      "CPU times: user 13.6 s, sys: 2.24 s, total: 15.8 s\n",
      "Wall time: 1.54 s\n"
     ]
    }
   ],
   "source": [
    "%%time\n",
    "_ = model_normal(' '.join(english_sentences * 2000))"
   ]
  },
  {
   "cell_type": "code",
   "execution_count": 116,
   "id": "21bbb454",
   "metadata": {},
   "outputs": [],
   "source": [
    "# %%time\n",
    "# # This is expected to fail\n",
    "# _ = model(' '.join(english_sentences * 5000))"
   ]
  },
  {
   "cell_type": "code",
   "execution_count": 76,
   "id": "9225da55",
   "metadata": {},
   "outputs": [
    {
     "name": "stdout",
     "output_type": "stream",
     "text": [
      "CPU times: user 30.3 s, sys: 4.32 s, total: 34.6 s\n",
      "Wall time: 3.78 s\n"
     ]
    }
   ],
   "source": [
    "%%time\n",
    "# This is expected to fail for LARGE, but manages to complete for normal/default\n",
    "_ = model_normal(' '.join(english_sentences * 5000))"
   ]
  },
  {
   "cell_type": "markdown",
   "id": "fdd662c0",
   "metadata": {},
   "source": [
    "Example error output:\n",
    "```\n",
    "---------------------------------------------------------------------------\n",
    "ResourceExhaustedError                    Traceback (most recent call last)\n",
    "<timed exec> in <module>\n",
    "\n",
    "ResourceExhaustedError:  OOM when allocating tensor with shape[1,8,190002,190002] and type float on /job:localhost/replica:0/task:0/device:CPU:0 by allocator cpu\n",
    "\t [[{{node StatefulPartitionedCall/StatefulPartitionedCall/EncoderTransformer/Transformer/SparseTransformerEncode/Layer_0/SelfAttention/SparseMultiheadAttention/DotProductAttention/MatMul}}]]\n",
    "Hint: If you want to see a list of allocated tensors when OOM happens, add report_tensor_allocations_upon_oom to RunOptions for current allocation info.\n",
    " [Op:__inference_restored_function_body_51014]\n",
    "\n",
    "Function call stack:\n",
    "restored_function_body\n",
    "\n",
    "```"
   ]
  },
  {
   "cell_type": "code",
   "execution_count": null,
   "id": "f0f63227",
   "metadata": {},
   "outputs": [],
   "source": []
  },
  {
   "cell_type": "code",
   "execution_count": null,
   "id": "3f547f2e",
   "metadata": {},
   "outputs": [],
   "source": []
  },
  {
   "cell_type": "code",
   "execution_count": null,
   "id": "3173758a",
   "metadata": {},
   "outputs": [],
   "source": [
    "LEGACY"
   ]
  },
  {
   "cell_type": "markdown",
   "id": "ca6507f3",
   "metadata": {},
   "source": [
    "### Try in parallel"
   ]
  },
  {
   "cell_type": "code",
   "execution_count": 17,
   "id": "0b57cb22",
   "metadata": {},
   "outputs": [],
   "source": [
    "import dask.dataframe as dd"
   ]
  },
  {
   "cell_type": "code",
   "execution_count": 18,
   "id": "50215180",
   "metadata": {},
   "outputs": [],
   "source": [
    "ddf_text = dd.from_pandas(df_test, npartitions=6)"
   ]
  },
  {
   "cell_type": "code",
   "execution_count": 19,
   "id": "d9208527",
   "metadata": {},
   "outputs": [
    {
     "data": {
      "text/html": [
       "<div>\n",
       "<style scoped>\n",
       "    .dataframe tbody tr th:only-of-type {\n",
       "        vertical-align: middle;\n",
       "    }\n",
       "\n",
       "    .dataframe tbody tr th {\n",
       "        vertical-align: top;\n",
       "    }\n",
       "\n",
       "    .dataframe thead th {\n",
       "        text-align: right;\n",
       "    }\n",
       "</style>\n",
       "<table border=\"1\" class=\"dataframe\">\n",
       "  <thead>\n",
       "    <tr style=\"text-align: right;\">\n",
       "      <th></th>\n",
       "      <th>text</th>\n",
       "    </tr>\n",
       "  </thead>\n",
       "  <tbody>\n",
       "    <tr>\n",
       "      <th>0</th>\n",
       "      <td>dog</td>\n",
       "    </tr>\n",
       "    <tr>\n",
       "      <th>1</th>\n",
       "      <td>Puppies are nice.</td>\n",
       "    </tr>\n",
       "    <tr>\n",
       "      <th>2</th>\n",
       "      <td>I enjoy taking long walks along the beach with my dog.</td>\n",
       "    </tr>\n",
       "    <tr>\n",
       "      <th>3</th>\n",
       "      <td>dog</td>\n",
       "    </tr>\n",
       "    <tr>\n",
       "      <th>4</th>\n",
       "      <td>Puppies are nice.</td>\n",
       "    </tr>\n",
       "  </tbody>\n",
       "</table>\n",
       "</div>"
      ],
      "text/plain": [
       "                                                     text\n",
       "0                                                     dog\n",
       "1                                       Puppies are nice.\n",
       "2  I enjoy taking long walks along the beach with my dog.\n",
       "3                                                     dog\n",
       "4                                       Puppies are nice."
      ]
     },
     "execution_count": 19,
     "metadata": {},
     "output_type": "execute_result"
    }
   ],
   "source": [
    "ddf_text.head()"
   ]
  },
  {
   "cell_type": "code",
   "execution_count": 20,
   "id": "22006f67",
   "metadata": {},
   "outputs": [
    {
     "data": {
      "text/html": [
       "<div>\n",
       "<style scoped>\n",
       "    .dataframe tbody tr th:only-of-type {\n",
       "        vertical-align: middle;\n",
       "    }\n",
       "\n",
       "    .dataframe tbody tr th {\n",
       "        vertical-align: top;\n",
       "    }\n",
       "\n",
       "    .dataframe thead th {\n",
       "        text-align: right;\n",
       "    }\n",
       "</style>\n",
       "<table border=\"1\" class=\"dataframe\">\n",
       "  <thead>\n",
       "    <tr style=\"text-align: right;\">\n",
       "      <th></th>\n",
       "      <th>text</th>\n",
       "    </tr>\n",
       "  </thead>\n",
       "  <tbody>\n",
       "    <tr>\n",
       "      <th>5990</th>\n",
       "      <td>I enjoy taking long walks along the beach with my dog.</td>\n",
       "    </tr>\n",
       "    <tr>\n",
       "      <th>5991</th>\n",
       "      <td>dog</td>\n",
       "    </tr>\n",
       "    <tr>\n",
       "      <th>5992</th>\n",
       "      <td>Puppies are nice.</td>\n",
       "    </tr>\n",
       "    <tr>\n",
       "      <th>5993</th>\n",
       "      <td>I enjoy taking long walks along the beach with my dog.</td>\n",
       "    </tr>\n",
       "    <tr>\n",
       "      <th>5994</th>\n",
       "      <td>dog</td>\n",
       "    </tr>\n",
       "    <tr>\n",
       "      <th>5995</th>\n",
       "      <td>Puppies are nice.</td>\n",
       "    </tr>\n",
       "    <tr>\n",
       "      <th>5996</th>\n",
       "      <td>I enjoy taking long walks along the beach with my dog.</td>\n",
       "    </tr>\n",
       "    <tr>\n",
       "      <th>5997</th>\n",
       "      <td>dog</td>\n",
       "    </tr>\n",
       "    <tr>\n",
       "      <th>5998</th>\n",
       "      <td>Puppies are nice.</td>\n",
       "    </tr>\n",
       "    <tr>\n",
       "      <th>5999</th>\n",
       "      <td>I enjoy taking long walks along the beach with my dog.</td>\n",
       "    </tr>\n",
       "  </tbody>\n",
       "</table>\n",
       "</div>"
      ],
      "text/plain": [
       "                                                        text\n",
       "5990  I enjoy taking long walks along the beach with my dog.\n",
       "5991                                                     dog\n",
       "5992                                       Puppies are nice.\n",
       "5993  I enjoy taking long walks along the beach with my dog.\n",
       "5994                                                     dog\n",
       "5995                                       Puppies are nice.\n",
       "5996  I enjoy taking long walks along the beach with my dog.\n",
       "5997                                                     dog\n",
       "5998                                       Puppies are nice.\n",
       "5999  I enjoy taking long walks along the beach with my dog."
      ]
     },
     "execution_count": 20,
     "metadata": {},
     "output_type": "execute_result"
    }
   ],
   "source": [
    "ddf_text[['text']].tail(10)"
   ]
  },
  {
   "cell_type": "markdown",
   "id": "7b299ad5",
   "metadata": {},
   "source": [
    "## Define functions to get numpy array"
   ]
  },
  {
   "cell_type": "code",
   "execution_count": 21,
   "id": "28205fdc",
   "metadata": {},
   "outputs": [],
   "source": [
    "def get_embeddings_as_numpy_df(\n",
    "    df: pd.DataFrame,\n",
    "    text_col: str = 'text',\n",
    "    model_fxn: callable = model,\n",
    "    apply_fxn: str = 'apply',\n",
    ") -> pd.Series:\n",
    "    \"\"\"Apply fxn to get embeddings to a df\n",
    "    Use it so that we can pair it with dask and apply it in parallel\n",
    "    \"\"\"\n",
    "    if apply_fxn == 'apply':\n",
    "        return df[text_col].apply(lambda x: model(x).numpy())\n",
    "    else:\n",
    "        # original example used map\n",
    "        return df[text_col].map(model_fxn).apply(lambda x: x.numpy())\n",
    "    "
   ]
  },
  {
   "cell_type": "code",
   "execution_count": 22,
   "id": "1bd2027b",
   "metadata": {},
   "outputs": [],
   "source": [
    "def get_embeddings_as_numpy(\n",
    "    text_string: str,\n",
    "#     tf_model: callable = model,\n",
    ") -> np.ndarray:\n",
    "    \"\"\"Wrapper to convert Tensor type to numpy to make downstream transformations faster\"\"\"\n",
    "    return model(text_string).numpy()"
   ]
  },
  {
   "cell_type": "markdown",
   "id": "7e77ed63",
   "metadata": {},
   "source": [
    "## Get embeddings with `dask.map_partition`"
   ]
  },
  {
   "cell_type": "code",
   "execution_count": 23,
   "id": "bc61febb",
   "metadata": {},
   "outputs": [
    {
     "name": "stdout",
     "output_type": "stream",
     "text": [
      "CPU times: user 2.69 s, sys: 953 ms, total: 3.64 s\n",
      "Wall time: 3.5 s\n"
     ]
    }
   ],
   "source": [
    "%%time\n",
    "\n",
    "ddf_text['embeddings'] = (\n",
    "    ddf_text[['text']]\n",
    "    .map_partitions(model,\n",
    "                    meta=pd.Series(name='embeddings', dtype=str)\n",
    "                    )\n",
    "    .compute()\n",
    ")"
   ]
  },
  {
   "cell_type": "code",
   "execution_count": 25,
   "id": "35daa727",
   "metadata": {},
   "outputs": [
    {
     "data": {
      "text/html": [
       "<div>\n",
       "<style scoped>\n",
       "    .dataframe tbody tr th:only-of-type {\n",
       "        vertical-align: middle;\n",
       "    }\n",
       "\n",
       "    .dataframe tbody tr th {\n",
       "        vertical-align: top;\n",
       "    }\n",
       "\n",
       "    .dataframe thead th {\n",
       "        text-align: right;\n",
       "    }\n",
       "</style>\n",
       "<table border=\"1\" class=\"dataframe\">\n",
       "  <thead>\n",
       "    <tr style=\"text-align: right;\">\n",
       "      <th></th>\n",
       "      <th>embeddings</th>\n",
       "    </tr>\n",
       "  </thead>\n",
       "  <tbody>\n",
       "    <tr>\n",
       "      <th>5995</th>\n",
       "      <td>NaN</td>\n",
       "    </tr>\n",
       "    <tr>\n",
       "      <th>5996</th>\n",
       "      <td>NaN</td>\n",
       "    </tr>\n",
       "    <tr>\n",
       "      <th>5997</th>\n",
       "      <td>NaN</td>\n",
       "    </tr>\n",
       "    <tr>\n",
       "      <th>5998</th>\n",
       "      <td>NaN</td>\n",
       "    </tr>\n",
       "    <tr>\n",
       "      <th>5999</th>\n",
       "      <td>NaN</td>\n",
       "    </tr>\n",
       "  </tbody>\n",
       "</table>\n",
       "</div>"
      ],
      "text/plain": [
       "     embeddings\n",
       "5995        NaN\n",
       "5996        NaN\n",
       "5997        NaN\n",
       "5998        NaN\n",
       "5999        NaN"
      ]
     },
     "execution_count": 25,
     "metadata": {},
     "output_type": "execute_result"
    }
   ],
   "source": [
    "ddf_text[['embeddings']].compute().tail()"
   ]
  },
  {
   "cell_type": "code",
   "execution_count": 96,
   "id": "75be85a7",
   "metadata": {},
   "outputs": [],
   "source": [
    "embeddings_size = 512\n",
    "# tf_embeddings = np.empty([len(ddf_text), embeddings_size])\n",
    "# tf_embeddings.shape"
   ]
  },
  {
   "cell_type": "code",
   "execution_count": 98,
   "id": "f3589d59",
   "metadata": {},
   "outputs": [
    {
     "data": {
      "text/plain": [
       "dask.dataframe.core.DataFrame"
      ]
     },
     "execution_count": 98,
     "metadata": {},
     "output_type": "execute_result"
    }
   ],
   "source": [
    "type(ddf_text)"
   ]
  },
  {
   "cell_type": "code",
   "execution_count": 102,
   "id": "c208d2ce",
   "metadata": {},
   "outputs": [
    {
     "name": "stdout",
     "output_type": "stream",
     "text": [
      "CPU times: user 39 ms, sys: 6.32 ms, total: 45.4 ms\n",
      "Wall time: 34.9 ms\n"
     ]
    },
    {
     "data": {
      "text/html": [
       "<div>\n",
       "<style scoped>\n",
       "    .dataframe tbody tr th:only-of-type {\n",
       "        vertical-align: middle;\n",
       "    }\n",
       "\n",
       "    .dataframe tbody tr th {\n",
       "        vertical-align: top;\n",
       "    }\n",
       "\n",
       "    .dataframe thead th {\n",
       "        text-align: right;\n",
       "    }\n",
       "</style>\n",
       "<table border=\"1\" class=\"dataframe\">\n",
       "  <thead>\n",
       "    <tr style=\"text-align: right;\">\n",
       "      <th></th>\n",
       "      <th>embeddings</th>\n",
       "    </tr>\n",
       "  </thead>\n",
       "  <tbody>\n",
       "    <tr>\n",
       "      <th>0</th>\n",
       "      <td>((tf.Tensor(-0.005252141, shape=(), dtype=float32), tf.Tensor(-0.038312018, shape=(), dtype=float32), tf.Tensor(-0.009220189, shape=(), dtype=float32), tf.Tensor(-0.04609629, shape=(), dtype=float32), tf.Tensor(-0.05765771, shape=(), dt...</td>\n",
       "    </tr>\n",
       "    <tr>\n",
       "      <th>1</th>\n",
       "      <td>((tf.Tensor(0.019088347, shape=(), dtype=float32), tf.Tensor(0.009552213, shape=(), dtype=float32), tf.Tensor(-0.047412947, shape=(), dtype=float32), tf.Tensor(0.0104937935, shape=(), dtype=float32), tf.Tensor(-0.04290844, shape=(), dty...</td>\n",
       "    </tr>\n",
       "    <tr>\n",
       "      <th>2</th>\n",
       "      <td>((tf.Tensor(-0.022675823, shape=(), dtype=float32), tf.Tensor(-0.069071874, shape=(), dtype=float32), tf.Tensor(0.0155086545, shape=(), dtype=float32), tf.Tensor(-0.029039716, shape=(), dtype=float32), tf.Tensor(-0.08988534, shape=(), d...</td>\n",
       "    </tr>\n",
       "    <tr>\n",
       "      <th>3</th>\n",
       "      <td>((tf.Tensor(0.01908833, shape=(), dtype=float32), tf.Tensor(0.009552218, shape=(), dtype=float32), tf.Tensor(-0.047412947, shape=(), dtype=float32), tf.Tensor(0.010493787, shape=(), dtype=float32), tf.Tensor(-0.04290844, shape=(), dtype...</td>\n",
       "    </tr>\n",
       "    <tr>\n",
       "      <th>4</th>\n",
       "      <td>((tf.Tensor(-0.0052521243, shape=(), dtype=float32), tf.Tensor(-0.03831199, shape=(), dtype=float32), tf.Tensor(-0.009220154, shape=(), dtype=float32), tf.Tensor(-0.0460963, shape=(), dtype=float32), tf.Tensor(-0.05765769, shape=(), dty...</td>\n",
       "    </tr>\n",
       "  </tbody>\n",
       "</table>\n",
       "</div>"
      ],
      "text/plain": [
       "                                                                                                                                                                                                                                        embeddings\n",
       "0  ((tf.Tensor(-0.005252141, shape=(), dtype=float32), tf.Tensor(-0.038312018, shape=(), dtype=float32), tf.Tensor(-0.009220189, shape=(), dtype=float32), tf.Tensor(-0.04609629, shape=(), dtype=float32), tf.Tensor(-0.05765771, shape=(), dt...\n",
       "1  ((tf.Tensor(0.019088347, shape=(), dtype=float32), tf.Tensor(0.009552213, shape=(), dtype=float32), tf.Tensor(-0.047412947, shape=(), dtype=float32), tf.Tensor(0.0104937935, shape=(), dtype=float32), tf.Tensor(-0.04290844, shape=(), dty...\n",
       "2  ((tf.Tensor(-0.022675823, shape=(), dtype=float32), tf.Tensor(-0.069071874, shape=(), dtype=float32), tf.Tensor(0.0155086545, shape=(), dtype=float32), tf.Tensor(-0.029039716, shape=(), dtype=float32), tf.Tensor(-0.08988534, shape=(), d...\n",
       "3  ((tf.Tensor(0.01908833, shape=(), dtype=float32), tf.Tensor(0.009552218, shape=(), dtype=float32), tf.Tensor(-0.047412947, shape=(), dtype=float32), tf.Tensor(0.010493787, shape=(), dtype=float32), tf.Tensor(-0.04290844, shape=(), dtype...\n",
       "4  ((tf.Tensor(-0.0052521243, shape=(), dtype=float32), tf.Tensor(-0.03831199, shape=(), dtype=float32), tf.Tensor(-0.009220154, shape=(), dtype=float32), tf.Tensor(-0.0460963, shape=(), dtype=float32), tf.Tensor(-0.05765769, shape=(), dty..."
      ]
     },
     "execution_count": 102,
     "metadata": {},
     "output_type": "execute_result"
    }
   ],
   "source": [
    "%%time\n",
    "\n",
    "ddf_text[['embeddings']].compute().head()"
   ]
  },
  {
   "cell_type": "code",
   "execution_count": 103,
   "id": "2ee28b0d",
   "metadata": {},
   "outputs": [],
   "source": [
    "# %%time\n",
    "\n",
    "# # This doesn't seem to work because dask expects the output to collapse to a single dimension (instead of 512)\n",
    "# # tf_embeddings = \n",
    "# (\n",
    "#     ddf_text[['text']]\n",
    "#     .map_partitions(get_embeddings_as_numpy,\n",
    "#                     meta=pd.Series(name='embeddings', dtype=str)\n",
    "#                     )\n",
    "#     .compute()\n",
    "# )"
   ]
  },
  {
   "cell_type": "code",
   "execution_count": 107,
   "id": "83d5c4c5",
   "metadata": {},
   "outputs": [
    {
     "name": "stdout",
     "output_type": "stream",
     "text": [
      "CPU times: user 2min 40s, sys: 52.2 s, total: 3min 32s\n",
      "Wall time: 46.8 s\n"
     ]
    }
   ],
   "source": [
    "%%time\n",
    "\n",
    "ddf_text['embeddings_np1'] = (\n",
    "    ddf_text\n",
    "    .map_partitions(get_embeddings_as_numpy_df,\n",
    "                    text_col='text',\n",
    "                    apply_fxn='map',\n",
    "                    meta=pd.Series(name='text', dtype=str)\n",
    "                    )\n",
    "    .compute()\n",
    ")"
   ]
  },
  {
   "cell_type": "code",
   "execution_count": 106,
   "id": "b6347711",
   "metadata": {},
   "outputs": [
    {
     "name": "stdout",
     "output_type": "stream",
     "text": [
      "CPU times: user 2min 43s, sys: 52.5 s, total: 3min 35s\n",
      "Wall time: 49.1 s\n"
     ]
    }
   ],
   "source": [
    "%%time\n",
    "\n",
    "ddf_text['embeddings_np2'] = (\n",
    "    ddf_text\n",
    "    .map_partitions(get_embeddings_as_numpy_df,\n",
    "                    text_col='text',\n",
    "                    apply_fxn='apply',\n",
    "                    meta=pd.Series(name='text', dtype=str)\n",
    "                    )\n",
    "    .compute()\n",
    ")"
   ]
  },
  {
   "cell_type": "markdown",
   "id": "d68c4cd7",
   "metadata": {},
   "source": [
    "## What is the dtype? / how do we get embeddings out of this output?\n",
    "\n",
    "By default it looks like the dtype is a `tensorflow.Tensor` object, which could be a pain to manipulate."
   ]
  },
  {
   "cell_type": "code",
   "execution_count": 108,
   "id": "584dcbd3",
   "metadata": {},
   "outputs": [
    {
     "data": {
      "text/plain": [
       "0    ((tf.Tensor(-0.005252141, shape=(), dtype=float32), tf.Tensor(-0.038312018, shape=(), dtype=float32), tf.Tensor(-0.009220189, shape=(), dtype=float32), tf.Tensor(-0.04609629, shape=(), dtype=float32), tf.Tensor(-0.05765771, shape=(), dt...\n",
       "1    ((tf.Tensor(0.019088347, shape=(), dtype=float32), tf.Tensor(0.009552213, shape=(), dtype=float32), tf.Tensor(-0.047412947, shape=(), dtype=float32), tf.Tensor(0.0104937935, shape=(), dtype=float32), tf.Tensor(-0.04290844, shape=(), dty...\n",
       "2    ((tf.Tensor(-0.022675823, shape=(), dtype=float32), tf.Tensor(-0.069071874, shape=(), dtype=float32), tf.Tensor(0.0155086545, shape=(), dtype=float32), tf.Tensor(-0.029039716, shape=(), dtype=float32), tf.Tensor(-0.08988534, shape=(), d...\n",
       "3    ((tf.Tensor(0.01908833, shape=(), dtype=float32), tf.Tensor(0.009552218, shape=(), dtype=float32), tf.Tensor(-0.047412947, shape=(), dtype=float32), tf.Tensor(0.010493787, shape=(), dtype=float32), tf.Tensor(-0.04290844, shape=(), dtype...\n",
       "4    ((tf.Tensor(-0.0052521243, shape=(), dtype=float32), tf.Tensor(-0.03831199, shape=(), dtype=float32), tf.Tensor(-0.009220154, shape=(), dtype=float32), tf.Tensor(-0.0460963, shape=(), dtype=float32), tf.Tensor(-0.05765769, shape=(), dty...\n",
       "Name: embeddings, dtype: object"
      ]
     },
     "execution_count": 108,
     "metadata": {},
     "output_type": "execute_result"
    }
   ],
   "source": [
    "ddf_text['embeddings'].head()"
   ]
  },
  {
   "cell_type": "code",
   "execution_count": 109,
   "id": "27875a61",
   "metadata": {},
   "outputs": [
    {
     "data": {
      "text/plain": [
       "5995    NaN\n",
       "5996    NaN\n",
       "5997    NaN\n",
       "5998    NaN\n",
       "5999    NaN\n",
       "Name: embeddings, dtype: object"
      ]
     },
     "execution_count": 109,
     "metadata": {},
     "output_type": "execute_result"
    }
   ],
   "source": [
    "ddf_text['embeddings'].tail()"
   ]
  },
  {
   "cell_type": "code",
   "execution_count": 49,
   "id": "e643245a",
   "metadata": {},
   "outputs": [
    {
     "data": {
      "text/plain": [
       "0    [[-0.005252127, -0.03831199, -0.00922016, -0.046096295, -0.057657722, -0.04768436, -0.016511641, 0.0047285636, -0.013010718, -0.0713816, -0.030422542, 0.023165481, 0.017145848, 0.045331325, 0.015669955, -0.01395997, -0.05360133, -0.0118...\n",
       "1    [[-0.02267581, -0.069071844, 0.015508692, -0.029039733, -0.08988534, -0.0010676696, -0.014085712, 0.0072551174, -0.019989632, 0.0669519, 0.017029503, 0.022945907, -0.006108564, 0.05118298, -0.043797858, -0.041236266, 0.029429343, 0.0488...\n",
       "2    [[0.019088332, 0.009552218, -0.04741294, 0.0104937535, -0.042908445, -0.06331453, -0.0031612532, 0.051496144, 0.027147723, -0.010961102, 0.034988593, 0.057352275, 0.046823528, 0.057418354, -0.00366939, 0.0066046086, -0.0013654096, 0.003...\n",
       "3    [[-0.0052521275, -0.03831199, -0.009220155, -0.046096295, -0.05765772, -0.04768436, -0.016511641, 0.0047285655, -0.013010721, -0.0713816, -0.030422544, 0.023165483, 0.017145844, 0.04533133, 0.015669957, -0.013959968, -0.05360133, -0.011...\n",
       "4    [[-0.02267581, -0.069071844, 0.015508692, -0.029039731, -0.08988534, -0.0010676745, -0.014085707, 0.0072551128, -0.019989632, 0.0669519, 0.017029509, 0.02294591, -0.006108567, 0.05118298, -0.043797866, -0.041236263, 0.029429344, 0.04888...\n",
       "Name: embeddings_np, dtype: object"
      ]
     },
     "execution_count": 49,
     "metadata": {},
     "output_type": "execute_result"
    }
   ],
   "source": [
    "ddf_text['embeddings_np'].head()"
   ]
  },
  {
   "cell_type": "code",
   "execution_count": null,
   "id": "8ea93594",
   "metadata": {},
   "outputs": [],
   "source": [
    "ddf_text['embeddings_np'].tail()"
   ]
  },
  {
   "cell_type": "code",
   "execution_count": 55,
   "id": "6d2d80fe",
   "metadata": {},
   "outputs": [
    {
     "name": "stdout",
     "output_type": "stream",
     "text": [
      "CPU times: user 12.6 ms, sys: 0 ns, total: 12.6 ms\n",
      "Wall time: 10.2 ms\n"
     ]
    },
    {
     "data": {
      "text/plain": [
       "0    [[-0.0052521224, -0.03831199, -0.009220155, -0.0460963, -0.057657693, -0.047684345, -0.016511647, 0.004728538, -0.01301072, -0.07138159, -0.03042251, 0.023165515, 0.017145874, 0.045331337, 0.015669929, -0.013959975, -0.05360135, -0.0118...\n",
       "1    [[-0.022675814, -0.069071874, 0.015508659, -0.02903972, -0.08988533, -0.0010676887, -0.014085756, 0.007255134, -0.019989597, 0.06695186, 0.01702949, 0.02294587, -0.006108526, 0.05118297, -0.043797873, -0.04123629, 0.029429296, 0.0488887...\n",
       "2    [[0.019088339, 0.009552221, -0.04741294, 0.010493785, -0.04290844, -0.06331449, -0.0031612637, 0.051496122, 0.027147735, -0.010961098, 0.034988593, 0.057352237, 0.046823513, 0.057418343, -0.0036693846, 0.006604615, -0.0013653795, 0.0038...\n",
       "3    [[-0.0052521233, -0.03831199, -0.009220155, -0.0460963, -0.057657693, -0.047684345, -0.016511645, 0.0047285357, -0.013010718, -0.07138159, -0.030422507, 0.023165515, 0.017145874, 0.045331337, 0.015669929, -0.013959976, -0.05360135, -0.0...\n",
       "4    [[-0.022675822, -0.069071874, 0.015508652, -0.029039716, -0.08988534, -0.0010676958, -0.014085753, 0.007255138, -0.0199896, 0.06695186, 0.017029488, 0.022945873, -0.0061085303, 0.05118296, -0.04379786, -0.04123628, 0.029429302, 0.048888...\n",
       "Name: embeddings, dtype: object"
      ]
     },
     "execution_count": 55,
     "metadata": {},
     "output_type": "execute_result"
    }
   ],
   "source": [
    "%%time\n",
    "ddf_text['embeddings'].head().apply(lambda x: x.numpy())"
   ]
  },
  {
   "cell_type": "code",
   "execution_count": 108,
   "id": "8b30f0f2",
   "metadata": {},
   "outputs": [],
   "source": [
    "# ddf_text['embeddings'].compute()"
   ]
  },
  {
   "cell_type": "code",
   "execution_count": 110,
   "id": "b6d9814f",
   "metadata": {},
   "outputs": [],
   "source": [
    "# %%time\n",
    "# ddf_text['embeddings'].apply(lambda x: x.numpy())"
   ]
  },
  {
   "cell_type": "code",
   "execution_count": 112,
   "id": "271d3434",
   "metadata": {},
   "outputs": [
    {
     "data": {
      "text/plain": [
       "0    [[-0.005252141, -0.038312018, -0.009220189, -0.04609629, -0.05765771, -0.047684345, -0.01651165, 0.0047285794, -0.013010711, -0.071381606, -0.030422565, 0.02316548, 0.017145867, 0.045331288, 0.015669933, -0.013959985, -0.053601343, -0.0...\n",
       "1    [[0.019088347, 0.009552213, -0.047412947, 0.0104937935, -0.04290844, -0.06331449, -0.0031612592, 0.051496133, 0.027147729, -0.010961093, 0.034988593, 0.05735223, 0.046823505, 0.057418343, -0.0036693835, 0.0066046203, -0.0013653715, 0.00...\n",
       "2    [[-0.022675823, -0.069071874, 0.0155086545, -0.029039716, -0.08988534, -0.0010676958, -0.014085754, 0.0072551346, -0.019989599, 0.06695186, 0.01702949, 0.022945872, -0.0061085364, 0.051182974, -0.04379786, -0.04123629, 0.029429302, 0.04...\n",
       "3    [[0.01908833, 0.009552218, -0.047412947, 0.010493787, -0.04290844, -0.063314475, -0.0031612662, 0.051496133, 0.027147733, -0.010961089, 0.0349886, 0.05735224, 0.046823505, 0.057418346, -0.003669383, 0.0066046147, -0.0013653776, 0.003832...\n",
       "4    [[-0.0052521243, -0.03831199, -0.009220154, -0.0460963, -0.05765769, -0.047684345, -0.01651165, 0.0047285333, -0.013010722, -0.07138159, -0.030422512, 0.023165513, 0.017145878, 0.045331337, 0.01566993, -0.013959976, -0.05360135, -0.0118...\n",
       "Name: embeddings, dtype: object"
      ]
     },
     "execution_count": 112,
     "metadata": {},
     "output_type": "execute_result"
    }
   ],
   "source": [
    "ddf_text['embeddings'].head().apply(lambda x: x.numpy())"
   ]
  },
  {
   "cell_type": "code",
   "execution_count": 113,
   "id": "1a3c2dae",
   "metadata": {},
   "outputs": [],
   "source": [
    "# ddf_text['embeddings'].apply(lambda x: x.numpy())"
   ]
  },
  {
   "cell_type": "code",
   "execution_count": null,
   "id": "7b5dbaa5",
   "metadata": {},
   "outputs": [],
   "source": []
  }
 ],
 "metadata": {
  "environment": {
   "name": "tf2-gpu.2-3.m74",
   "type": "gcloud",
   "uri": "gcr.io/deeplearning-platform-release/tf2-gpu.2-3:m74"
  },
  "kernelspec": {
   "display_name": "Python [conda env:root] *",
   "language": "python",
   "name": "conda-root-py"
  },
  "language_info": {
   "codemirror_mode": {
    "name": "ipython",
    "version": 3
   },
   "file_extension": ".py",
   "mimetype": "text/x-python",
   "name": "python",
   "nbconvert_exporter": "python",
   "pygments_lexer": "ipython3",
   "version": "3.7.10"
  }
 },
 "nbformat": 4,
 "nbformat_minor": 5
}
