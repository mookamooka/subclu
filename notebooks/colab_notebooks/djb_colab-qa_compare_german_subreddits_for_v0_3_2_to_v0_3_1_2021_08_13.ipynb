{
  "nbformat": 4,
  "nbformat_minor": 0,
  "metadata": {
    "colab": {
      "name": "qa_compare_german_subreddits_for_v0.3.2_to_v0.3.1_2021-08-13.ipynb",
      "provenance": [],
      "collapsed_sections": []
    },
    "kernelspec": {
      "name": "python3",
      "display_name": "Python 3"
    },
    "language_info": {
      "name": "python"
    }
  },
  "cells": [
    {
      "cell_type": "markdown",
      "metadata": {
        "id": "iVZuLSOgZVC8"
      },
      "source": [
        "# Purpose\n",
        "This notebook is meant to help us figure out the difference of subreddits between v0.3.2 and v0.3.1. \n",
        "\n",
        "It's possible that v0.3.2 added some new subreddits that are relevant but dropped some that were interesting."
      ]
    },
    {
      "cell_type": "code",
      "metadata": {
        "id": "pCuWmkxaGYwm"
      },
      "source": [
        "%load_ext google.colab.data_table"
      ],
      "execution_count": 1,
      "outputs": []
    },
    {
      "cell_type": "code",
      "metadata": {
        "id": "FmbBk_1pnZtq"
      },
      "source": [
        "%load_ext autoreload\n",
        "%autoreload 2"
      ],
      "execution_count": 2,
      "outputs": []
    },
    {
      "cell_type": "code",
      "metadata": {
        "colab": {
          "base_uri": "https://localhost:8080/"
        },
        "id": "tS4ktaPaGwbh",
        "outputId": "39ed9157-7966-4565-d13f-a4263fbe8404"
      },
      "source": [
        "# colab auth for BigQuery\n",
        "from google.colab import auth\n",
        "auth.authenticate_user()\n",
        "print('Authenticated')"
      ],
      "execution_count": 3,
      "outputs": [
        {
          "output_type": "stream",
          "text": [
            "Authenticated\n"
          ],
          "name": "stdout"
        }
      ]
    },
    {
      "cell_type": "code",
      "metadata": {
        "colab": {
          "base_uri": "https://localhost:8080/"
        },
        "id": "kuOoJT3noOPE",
        "outputId": "f1000821-53a1-4d72-db0c-36b970c1ef9f"
      },
      "source": [
        "# Attach google drive & import my python utility functions\n",
        "from google.colab import drive\n",
        "drive.mount('/content/gdrive')\n",
        "\n",
        "import sys\n",
        "sys.path.append('/content/gdrive/MyDrive/Colab Notebooks')\n",
        "\n",
        "from eda import (\n",
        "    setup_logging, counts_describe, value_counts_and_pcts,\n",
        "    style_df_numeric,\n",
        ")"
      ],
      "execution_count": 4,
      "outputs": [
        {
          "output_type": "stream",
          "text": [
            "Mounted at /content/gdrive\n"
          ],
          "name": "stdout"
        }
      ]
    },
    {
      "cell_type": "code",
      "metadata": {
        "id": "9TpWbXh5mzew"
      },
      "source": [
        "# Regular Imports\n",
        "from google.cloud import bigquery\n",
        "\n",
        "import pandas as pd\n",
        "import numpy as np\n",
        "import seaborn as sns\n",
        "from matplotlib_venn import venn2_unweighted, venn3_unweighted"
      ],
      "execution_count": 7,
      "outputs": []
    },
    {
      "cell_type": "code",
      "metadata": {
        "id": "QYI6gzluaZvT"
      },
      "source": [
        "# !pip list"
      ],
      "execution_count": 8,
      "outputs": []
    },
    {
      "cell_type": "markdown",
      "metadata": {
        "id": "fxGerF5qHVwY"
      },
      "source": [
        "# Pull data\n",
        "top subreddits that are geo-relevant to Germany"
      ]
    },
    {
      "cell_type": "markdown",
      "metadata": {
        "id": "GFVj6bSta0VH"
      },
      "source": [
        "## Pull v0.3.1"
      ]
    },
    {
      "cell_type": "code",
      "metadata": {
        "id": "f3K5CtdhbUXL"
      },
      "source": [
        "client = bigquery.Client(project='data-prod-165221')"
      ],
      "execution_count": 9,
      "outputs": []
    },
    {
      "cell_type": "code",
      "metadata": {
        "colab": {
          "base_uri": "https://localhost:8080/"
        },
        "id": "to0xr4Shay_b",
        "outputId": "38f6ab0d-4a49-4748-8029-f825b7b70724"
      },
      "source": [
        "%%time\n",
        "sql_v31 = \"\"\"\n",
        "SELECT\n",
        "  sub.subreddit_name AS subreddit_name\n",
        "  , sub.combined_topic_and_rating\n",
        "  , sub.rating\n",
        "  , sub.topic\n",
        "  , sub.over_18\n",
        "\n",
        "  , asr.users_l28\n",
        "  , asr.posts_l28\n",
        "  , asr.comments_l28\n",
        "FROM `reddit-employee-datasets.david_bermejo.subclu_subreddit_cluster_labels_v031_a` AS sub\n",
        "LEFT JOIN (\n",
        "    SELECT * FROM `data-prod-165221.all_reddit.all_reddit_subreddits`\n",
        "    WHERE DATE(pt) = (CURRENT_DATE() - 2)\n",
        ") AS asr\n",
        "  ON sub.subreddit_name = asr.subreddit_name\n",
        "\"\"\"\n",
        "df_v31 = (\n",
        "    client.query(sql_v31)\n",
        "    .to_dataframe()\n",
        ")\n",
        "print(df_v31.shape)"
      ],
      "execution_count": 33,
      "outputs": [
        {
          "output_type": "stream",
          "text": [
            "(628, 8)\n",
            "CPU times: user 45.6 ms, sys: 1.21 ms, total: 46.8 ms\n",
            "Wall time: 3.27 s\n"
          ],
          "name": "stdout"
        }
      ]
    },
    {
      "cell_type": "code",
      "metadata": {
        "colab": {
          "base_uri": "https://localhost:8080/"
        },
        "id": "cTj0sP0nbtHn",
        "outputId": "5b8cc2ee-5dfc-4777-c49f-f05865c4d9f9"
      },
      "source": [
        "%%time\n",
        "sql_v32 = \"\"\"\n",
        "SELECT\n",
        "  sub.subreddit_name AS subreddit_name\n",
        "  , sub.combined_topic_and_rating\n",
        "  , sub.rating\n",
        "  , sub.topic\n",
        "  , sub.over_18\n",
        "\n",
        "  , asr.users_l28\n",
        "  , asr.posts_l28\n",
        "  , asr.comments_l28\n",
        "  \n",
        "FROM `reddit-employee-datasets.david_bermejo.subclu_subreddit_cluster_labels_v032_a` sub\n",
        "LEFT JOIN (\n",
        "    SELECT * FROM `data-prod-165221.all_reddit.all_reddit_subreddits`\n",
        "    WHERE DATE(pt) = (CURRENT_DATE() - 2)\n",
        ") AS asr\n",
        "  ON sub.subreddit_name = asr.subreddit_name\n",
        "\"\"\"\n",
        "df_v32 = (\n",
        "    client.query(sql_v32)\n",
        "    .to_dataframe()\n",
        ")\n",
        "print(df_v32.shape)"
      ],
      "execution_count": 34,
      "outputs": [
        {
          "output_type": "stream",
          "text": [
            "(3767, 8)\n",
            "CPU times: user 111 ms, sys: 3.2 ms, total: 114 ms\n",
            "Wall time: 3.47 s\n"
          ],
          "name": "stdout"
        }
      ]
    },
    {
      "cell_type": "markdown",
      "metadata": {
        "id": "klrYvVaBb3aT"
      },
      "source": [
        "## Check diff between v0.3.1 and v0.3.2"
      ]
    },
    {
      "cell_type": "code",
      "metadata": {
        "colab": {
          "base_uri": "https://localhost:8080/",
          "height": 251
        },
        "id": "8Gzm0KRdb7vt",
        "outputId": "09500452-2cd2-42da-9835-c6a7167e7f65"
      },
      "source": [
        "ax = venn2_unweighted(\n",
        "    [set(df_v31['subreddit_name']), set(df_v32['subreddit_name'])],\n",
        "    set_labels=('v0.3.1', 'v0.3.2')\n",
        ")\n",
        "\n",
        "# ax.set_title(\"Overlap between v0.3.1 and v0.3.2\")"
      ],
      "execution_count": 35,
      "outputs": [
        {
          "output_type": "display_data",
          "data": {
            "image/png": "[encoded data removed]",
            "text/plain": [
              "<Figure size 432x288 with 1 Axes>"
            ]
          },
          "metadata": {
            "tags": []
          }
        }
      ]
    },
    {
      "cell_type": "code",
      "metadata": {
        "id": "5V08mg8zlYi6"
      },
      "source": [
        "set_in_v31_but_not_v32 = (\n",
        "    set(df_v31['subreddit_name']) - set(df_v32['subreddit_name'])\n",
        ")\n",
        "set_in_both_v31_and_v32 = (\n",
        "    set(df_v31['subreddit_name']) & set(df_v32['subreddit_name'])\n",
        ")\n",
        "set_in_v32_but_not_v31 = (\n",
        "    set(df_v32['subreddit_name']) - set(df_v31['subreddit_name'])\n",
        ")"
      ],
      "execution_count": 36,
      "outputs": []
    },
    {
      "cell_type": "markdown",
      "metadata": {
        "id": "6-0lMjSfjirf"
      },
      "source": [
        "### Subs missing from new data\n",
        "\n",
        "Looks like most of these simply don't have enough posts.\n",
        "\n",
        "But there are like ~15 subs that have more than 8 posts... not sure if they were dormant when I pulled the data."
      ]
    },
    {
      "cell_type": "code",
      "metadata": {
        "colab": {
          "base_uri": "https://localhost:8080/",
          "height": 632
        },
        "id": "OPSnTuiblYbr",
        "outputId": "c9e3b58b-2361-4710-d7b3-836d97dc7f19"
      },
      "source": [
        "(\n",
        "    df_v31[df_v31['subreddit_name'].isin(set_in_v31_but_not_v32)]\n",
        "    .sort_values(by=['posts_l28', 'users_l28', 'comments_l28'], ascending=False)\n",
        "    .reset_index(drop=True)\n",
        ")"
      ],
      "execution_count": 38,
      "outputs": [
        {
          "output_type": "execute_result",
          "data": {
            "application/vnd.google.colaboratory.module+javascript": "\n      import \"https://ssl.gstatic.com/colaboratory/data_table/a6224c040fa35dcf/data_table.js\";\n\n      window.createDataTable({\n        data: [[{\n            'v': 0,\n            'f': \"0\",\n        },\n\"rainbowsixde\",\n\"gaming\",\nnull,\nnull,\nnull,\n{\n            'v': 770,\n            'f': \"770\",\n        },\n{\n            'v': 36,\n            'f': \"36\",\n        },\n{\n            'v': 284,\n            'f': \"284\",\n        }],\n [{\n            'v': 1,\n            'f': \"1\",\n        },\n\"metallmaimais\",\n\"uncategorized\",\nnull,\nnull,\nnull,\n{\n            'v': 849,\n            'f': \"849\",\n        },\n{\n            'v': 33,\n            'f': \"33\",\n        },\n{\n            'v': 170,\n            'f': \"170\",\n        }],\n [{\n            'v': 2,\n            'f': \"2\",\n        },\n\"zeldade\",\n\"gaming\",\nnull,\nnull,\nnull,\n{\n            'v': 472,\n            'f': \"472\",\n        },\n{\n            'v': 17,\n            'f': \"17\",\n        },\n{\n            'v': 91,\n            'f': \"91\",\n        }],\n [{\n            'v': 3,\n            'f': \"3\",\n        },\n\"leakoeln50667\",\n\"uncategorized\",\nnull,\nnull,\nnull,\n{\n            'v': 3520,\n            'f': \"3520\",\n        },\n{\n            'v': 16,\n            'f': \"16\",\n        },\n{\n            'v': 11,\n            'f': \"11\",\n        }],\n [{\n            'v': 4,\n            'f': \"4\",\n        },\n\"studium\",\n\"uncategorized\",\nnull,\nnull,\nnull,\n{\n            'v': 507,\n            'f': \"507\",\n        },\n{\n            'v': 15,\n            'f': \"15\",\n        },\n{\n            'v': 44,\n            'f': \"44\",\n        }],\n [{\n            'v': 5,\n            'f': \"5\",\n        },\n\"moneyboy\",\n\"uncategorized\",\nnull,\nnull,\nnull,\n{\n            'v': 600,\n            'f': \"600\",\n        },\n{\n            'v': 13,\n            'f': \"13\",\n        },\n{\n            'v': 27,\n            'f': \"27\",\n        }],\n [{\n            'v': 6,\n            'f': \"6\",\n        },\n\"lindnerwichsvorlagen\",\n\"uncategorized\",\nnull,\nnull,\nnull,\n{\n            'v': 7302,\n            'f': \"7302\",\n        },\n{\n            'v': 12,\n            'f': \"12\",\n        },\n{\n            'v': 41,\n            'f': \"41\",\n        }],\n [{\n            'v': 7,\n            'f': \"7\",\n        },\n\"elif_demirezer\",\n\"uncategorized\",\nnull,\nnull,\nnull,\n{\n            'v': 1963,\n            'f': \"1963\",\n        },\n{\n            'v': 12,\n            'f': \"12\",\n        },\n{\n            'v': 24,\n            'f': \"24\",\n        }],\n [{\n            'v': 8,\n            'f': \"8\",\n        },\n\"memederwoche\",\n\"internet culture and memes\",\n\"pg\",\n\"Internet Culture and Memes\",\n\"f\",\n{\n            'v': 975,\n            'f': \"975\",\n        },\n{\n            'v': 11,\n            'f': \"11\",\n        },\n{\n            'v': 22,\n            'f': \"22\",\n        }],\n [{\n            'v': 9,\n            'f': \"9\",\n        },\n\"fremdgehen\",\n\"over18_nsfw\",\nnull,\nnull,\n\"t\",\n{\n            'v': 981,\n            'f': \"981\",\n        },\n{\n            'v': 10,\n            'f': \"10\",\n        },\n{\n            'v': 3,\n            'f': \"3\",\n        }],\n [{\n            'v': 10,\n            'f': \"10\",\n        },\n\"lenagercke_new\",\n\"uncategorized\",\nnull,\nnull,\nnull,\n{\n            'v': 1656,\n            'f': \"1656\",\n        },\n{\n            'v': 9,\n            'f': \"9\",\n        },\n{\n            'v': 9,\n            'f': \"9\",\n        }],\n [{\n            'v': 11,\n            'f': \"11\",\n        },\n\"busen\",\n\"over18_nsfw\",\nnull,\nnull,\n\"t\",\n{\n            'v': 1516,\n            'f': \"1516\",\n        },\n{\n            'v': 9,\n            'f': \"9\",\n        },\n{\n            'v': 19,\n            'f': \"19\",\n        }],\n [{\n            'v': 12,\n            'f': \"12\",\n        },\n\"bamberg\",\n\"uncategorized\",\nnull,\nnull,\nnull,\n{\n            'v': 661,\n            'f': \"661\",\n        },\n{\n            'v': 9,\n            'f': \"9\",\n        },\n{\n            'v': 47,\n            'f': \"47\",\n        }],\n [{\n            'v': 13,\n            'f': \"13\",\n        },\n\"farbenfuchs\",\n\"over18_nsfw\",\nnull,\nnull,\n\"t\",\n{\n            'v': 1564,\n            'f': \"1564\",\n        },\n{\n            'v': 8,\n            'f': \"8\",\n        },\n{\n            'v': 21,\n            'f': \"21\",\n        }],\n [{\n            'v': 14,\n            'f': \"14\",\n        },\n\"jumboschreiner\",\n\"uncategorized\",\nnull,\nnull,\nnull,\n{\n            'v': 514,\n            'f': \"514\",\n        },\n{\n            'v': 8,\n            'f': \"8\",\n        },\n{\n            'v': 8,\n            'f': \"8\",\n        }],\n [{\n            'v': 15,\n            'f': \"15\",\n        },\n\"vivianegeppert\",\n\"uncategorized\",\nnull,\nnull,\nnull,\n{\n            'v': 938,\n            'f': \"938\",\n        },\n{\n            'v': 7,\n            'f': \"7\",\n        },\n{\n            'v': 20,\n            'f': \"20\",\n        }],\n [{\n            'v': 16,\n            'f': \"16\",\n        },\n\"karlottaemilie\",\n\"over18_nsfw\",\nnull,\nnull,\n\"t\",\n{\n            'v': 867,\n            'f': \"867\",\n        },\n{\n            'v': 7,\n            'f': \"7\",\n        },\n{\n            'v': 2,\n            'f': \"2\",\n        }],\n [{\n            'v': 17,\n            'f': \"17\",\n        },\n\"pornos_kostenlos\",\n\"over18_nsfw\",\nnull,\nnull,\n\"t\",\n{\n            'v': 720,\n            'f': \"720\",\n        },\n{\n            'v': 6,\n            'f': \"6\",\n        },\n{\n            'v': 1,\n            'f': \"1\",\n        }],\n [{\n            'v': 18,\n            'f': \"18\",\n        },\n\"bapcsalesgermany\",\n\"uncategorized\",\n\"pg\",\nnull,\nnull,\n{\n            'v': 612,\n            'f': \"612\",\n        },\n{\n            'v': 6,\n            'f': \"6\",\n        },\n{\n            'v': 10,\n            'f': \"10\",\n        }],\n [{\n            'v': 19,\n            'f': \"19\",\n        },\n\"oldenburg\",\n\"uncategorized\",\nnull,\nnull,\nnull,\n{\n            'v': 365,\n            'f': \"365\",\n        },\n{\n            'v': 6,\n            'f': \"6\",\n        },\n{\n            'v': 10,\n            'f': \"10\",\n        }],\n [{\n            'v': 20,\n            'f': \"20\",\n        },\n\"schwarzerhumor\",\n\"uncategorized\",\nnull,\nnull,\nnull,\n{\n            'v': 1593,\n            'f': \"1593\",\n        },\n{\n            'v': 5,\n            'f': \"5\",\n        },\n{\n            'v': 10,\n            'f': \"10\",\n        }],\n [{\n            'v': 21,\n            'f': \"21\",\n        },\n\"aoede\",\n\"gaming\",\nnull,\nnull,\nnull,\n{\n            'v': 124,\n            'f': \"124\",\n        },\n{\n            'v': 5,\n            'f': \"5\",\n        },\n{\n            'v': 14,\n            'f': \"14\",\n        }],\n [{\n            'v': 22,\n            'f': \"22\",\n        },\n\"yvonnepferrer\",\n\"over18_nsfw\",\nnull,\nnull,\n\"t\",\n{\n            'v': 3339,\n            'f': \"3339\",\n        },\n{\n            'v': 4,\n            'f': \"4\",\n        },\n{\n            'v': 4,\n            'f': \"4\",\n        }],\n [{\n            'v': 23,\n            'f': \"23\",\n        },\n\"hamburger_pussy\",\n\"over18_nsfw\",\nnull,\nnull,\n\"t\",\n{\n            'v': 3058,\n            'f': \"3058\",\n        },\n{\n            'v': 4,\n            'f': \"4\",\n        },\n{\n            'v': 7,\n            'f': \"7\",\n        }],\n [{\n            'v': 24,\n            'f': \"24\",\n        },\n\"hildesheim\",\n\"uncategorized\",\nnull,\nnull,\nnull,\n{\n            'v': 1775,\n            'f': \"1775\",\n        },\n{\n            'v': 4,\n            'f': \"4\",\n        },\n{\n            'v': 17,\n            'f': \"17\",\n        }],\n [{\n            'v': 25,\n            'f': \"25\",\n        },\n\"erzaehlmirnix\",\n\"uncategorized\",\nnull,\nnull,\nnull,\n{\n            'v': 227,\n            'f': \"227\",\n        },\n{\n            'v': 4,\n            'f': \"4\",\n        },\n{\n            'v': 4,\n            'f': \"4\",\n        }],\n [{\n            'v': 26,\n            'f': \"26\",\n        },\n\"dotade\",\n\"gaming\",\nnull,\nnull,\nnull,\n{\n            'v': 7,\n            'f': \"7\",\n        },\n{\n            'v': 4,\n            'f': \"4\",\n        },\n{\n            'v': 0,\n            'f': \"0\",\n        }],\n [{\n            'v': 27,\n            'f': \"27\",\n        },\n\"germansexyyoutubers\",\n\"over18_nsfw\",\n\"nc17\",\n\"Mature Themes and Adult Content\",\n\"f\",\n{\n            'v': 45644,\n            'f': \"45644\",\n        },\n{\n            'v': 3,\n            'f': \"3\",\n        },\n{\n            'v': 26,\n            'f': \"26\",\n        }],\n [{\n            'v': 28,\n            'f': \"28\",\n        },\n\"nathaliebwxnew\",\n\"over18_nsfw\",\nnull,\nnull,\n\"t\",\n{\n            'v': 1528,\n            'f': \"1528\",\n        },\n{\n            'v': 3,\n            'f': \"3\",\n        },\n{\n            'v': 0,\n            'f': \"0\",\n        }],\n [{\n            'v': 29,\n            'f': \"29\",\n        },\n\"jwd\",\n\"uncategorized\",\nnull,\nnull,\nnull,\n{\n            'v': 1059,\n            'f': \"1059\",\n        },\n{\n            'v': 3,\n            'f': \"3\",\n        },\n{\n            'v': 2,\n            'f': \"2\",\n        }],\n [{\n            'v': 30,\n            'f': \"30\",\n        },\n\"tinderde\",\n\"uncategorized\",\nnull,\nnull,\nnull,\n{\n            'v': 650,\n            'f': \"650\",\n        },\n{\n            'v': 3,\n            'f': \"3\",\n        },\n{\n            'v': 4,\n            'f': \"4\",\n        }],\n [{\n            'v': 31,\n            'f': \"31\",\n        },\n\"neomagazin\",\n\"uncategorized\",\nnull,\nnull,\nnull,\n{\n            'v': 644,\n            'f': \"644\",\n        },\n{\n            'v': 3,\n            'f': \"3\",\n        },\n{\n            'v': 0,\n            'f': \"0\",\n        }],\n [{\n            'v': 32,\n            'f': \"32\",\n        },\n\"augenbleiche\",\n\"reddit institutions\",\nnull,\nnull,\nnull,\n{\n            'v': 334,\n            'f': \"334\",\n        },\n{\n            'v': 3,\n            'f': \"3\",\n        },\n{\n            'v': 0,\n            'f': \"0\",\n        }],\n [{\n            'v': 33,\n            'f': \"33\",\n        },\n\"investieren\",\n\"uncategorized\",\nnull,\nnull,\nnull,\n{\n            'v': 194,\n            'f': \"194\",\n        },\n{\n            'v': 3,\n            'f': \"3\",\n        },\n{\n            'v': 3,\n            'f': \"3\",\n        }],\n [{\n            'v': 34,\n            'f': \"34\",\n        },\n\"techtastisch\",\n\"uncategorized\",\nnull,\nnull,\nnull,\n{\n            'v': 99,\n            'f': \"99\",\n        },\n{\n            'v': 3,\n            'f': \"3\",\n        },\n{\n            'v': 4,\n            'f': \"4\",\n        }],\n [{\n            'v': 35,\n            'f': \"35\",\n        },\n\"kreisliga\",\n\"sports\",\nnull,\nnull,\nnull,\n{\n            'v': 61,\n            'f': \"61\",\n        },\n{\n            'v': 3,\n            'f': \"3\",\n        },\n{\n            'v': 1,\n            'f': \"1\",\n        }],\n [{\n            'v': 36,\n            'f': \"36\",\n        },\n\"playsi\",\n\"gaming\",\nnull,\nnull,\nnull,\n{\n            'v': 26,\n            'f': \"26\",\n        },\n{\n            'v': 3,\n            'f': \"3\",\n        },\n{\n            'v': 1,\n            'f': \"1\",\n        }],\n [{\n            'v': 37,\n            'f': \"37\",\n        },\n\"victoriaswarovski\",\n\"uncategorized\",\nnull,\nnull,\nnull,\n{\n            'v': 861,\n            'f': \"861\",\n        },\n{\n            'v': 2,\n            'f': \"2\",\n        },\n{\n            'v': 1,\n            'f': \"1\",\n        }],\n [{\n            'v': 38,\n            'f': \"38\",\n        },\n\"gemischteshack\",\n\"uncategorized\",\nnull,\nnull,\n\"f\",\n{\n            'v': 811,\n            'f': \"811\",\n        },\n{\n            'v': 2,\n            'f': \"2\",\n        },\n{\n            'v': 4,\n            'f': \"4\",\n        }],\n [{\n            'v': 39,\n            'f': \"39\",\n        },\n\"lilihamann\",\n\"over18_nsfw\",\nnull,\nnull,\n\"t\",\n{\n            'v': 716,\n            'f': \"716\",\n        },\n{\n            'v': 2,\n            'f': \"2\",\n        },\n{\n            'v': 4,\n            'f': \"4\",\n        }],\n [{\n            'v': 40,\n            'f': \"40\",\n        },\n\"xboxde\",\n\"gaming\",\nnull,\nnull,\nnull,\n{\n            'v': 83,\n            'f': \"83\",\n        },\n{\n            'v': 2,\n            'f': \"2\",\n        },\n{\n            'v': 14,\n            'f': \"14\",\n        }],\n [{\n            'v': 41,\n            'f': \"41\",\n        },\n\"fremdscham\",\n\"reddit institutions\",\nnull,\nnull,\nnull,\n{\n            'v': 50,\n            'f': \"50\",\n        },\n{\n            'v': 2,\n            'f': \"2\",\n        },\n{\n            'v': 0,\n            'f': \"0\",\n        }],\n [{\n            'v': 42,\n            'f': \"42\",\n        },\n\"totalwarde\",\n\"gaming\",\nnull,\nnull,\nnull,\n{\n            'v': 22,\n            'f': \"22\",\n        },\n{\n            'v': 2,\n            'f': \"2\",\n        },\n{\n            'v': 5,\n            'f': \"5\",\n        }],\n [{\n            'v': 43,\n            'f': \"43\",\n        },\n\"jessicapaszka\",\n\"uncategorized\",\nnull,\nnull,\nnull,\n{\n            'v': 2215,\n            'f': \"2215\",\n        },\n{\n            'v': 1,\n            'f': \"1\",\n        },\n{\n            'v': 1,\n            'f': \"1\",\n        }],\n [{\n            'v': 44,\n            'f': \"44\",\n        },\n\"fernandabrandao\",\n\"uncategorized\",\nnull,\nnull,\nnull,\n{\n            'v': 796,\n            'f': \"796\",\n        },\n{\n            'v': 1,\n            'f': \"1\",\n        },\n{\n            'v': 0,\n            'f': \"0\",\n        }],\n [{\n            'v': 45,\n            'f': \"45\",\n        },\n\"germanconversation\",\n\"uncategorized\",\nnull,\nnull,\nnull,\n{\n            'v': 347,\n            'f': \"347\",\n        },\n{\n            'v': 1,\n            'f': \"1\",\n        },\n{\n            'v': 4,\n            'f': \"4\",\n        }],\n [{\n            'v': 46,\n            'f': \"46\",\n        },\n\"nudeln\",\n\"food\",\nnull,\nnull,\nnull,\n{\n            'v': 83,\n            'f': \"83\",\n        },\n{\n            'v': 1,\n            'f': \"1\",\n        },\n{\n            'v': 0,\n            'f': \"0\",\n        }],\n [{\n            'v': 47,\n            'f': \"47\",\n        },\n\"badmomzjay\",\n\"over18_nsfw\",\nnull,\nnull,\n\"t\",\n{\n            'v': 26388,\n            'f': \"26388\",\n        },\n{\n            'v': 0,\n            'f': \"0\",\n        },\n{\n            'v': 58,\n            'f': \"58\",\n        }],\n [{\n            'v': 48,\n            'f': \"48\",\n        },\n\"nicoledobrikov2\",\n\"over18_nsfw\",\nnull,\nnull,\n\"t\",\n{\n            'v': 16590,\n            'f': \"16590\",\n        },\n{\n            'v': 0,\n            'f': \"0\",\n        },\n{\n            'v': 18,\n            'f': \"18\",\n        }],\n [{\n            'v': 49,\n            'f': \"49\",\n        },\n\"justlucy\",\n\"over18_nsfw\",\nnull,\nnull,\n\"t\",\n{\n            'v': 14619,\n            'f': \"14619\",\n        },\n{\n            'v': 0,\n            'f': \"0\",\n        },\n{\n            'v': 0,\n            'f': \"0\",\n        }],\n [{\n            'v': 50,\n            'f': \"50\",\n        },\n\"lunaperuna\",\n\"uncategorized\",\nnull,\nnull,\nnull,\n{\n            'v': 6383,\n            'f': \"6383\",\n        },\n{\n            'v': 0,\n            'f': \"0\",\n        },\n{\n            'v': 1,\n            'f': \"1\",\n        }],\n [{\n            'v': 51,\n            'f': \"51\",\n        },\n\"sextreffenweiber\",\n\"over18_nsfw\",\nnull,\nnull,\n\"t\",\n{\n            'v': 4512,\n            'f': \"4512\",\n        },\n{\n            'v': 0,\n            'f': \"0\",\n        },\n{\n            'v': 14,\n            'f': \"14\",\n        }],\n [{\n            'v': 52,\n            'f': \"52\",\n        },\n\"laramcwhorter\",\n\"uncategorized\",\nnull,\nnull,\n\"f\",\n{\n            'v': 2847,\n            'f': \"2847\",\n        },\n{\n            'v': 0,\n            'f': \"0\",\n        },\n{\n            'v': 0,\n            'f': \"0\",\n        }],\n [{\n            'v': 53,\n            'f': \"53\",\n        },\n\"revedpics\",\n\"over18_nsfw\",\nnull,\nnull,\n\"t\",\n{\n            'v': 2434,\n            'f': \"2434\",\n        },\n{\n            'v': 0,\n            'f': \"0\",\n        },\n{\n            'v': 0,\n            'f': \"0\",\n        }],\n [{\n            'v': 54,\n            'f': \"54\",\n        },\n\"youngdevotion\",\n\"over18_nsfw\",\nnull,\nnull,\n\"t\",\n{\n            'v': 1794,\n            'f': \"1794\",\n        },\n{\n            'v': 0,\n            'f': \"0\",\n        },\n{\n            'v': 0,\n            'f': \"0\",\n        }],\n [{\n            'v': 55,\n            'f': \"55\",\n        },\n\"fatmalocke\",\n\"uncategorized\",\nnull,\nnull,\nnull,\n{\n            'v': 1045,\n            'f': \"1045\",\n        },\n{\n            'v': 0,\n            'f': \"0\",\n        },\n{\n            'v': 6,\n            'f': \"6\",\n        }],\n [{\n            'v': 56,\n            'f': \"56\",\n        },\n\"gntm\",\n\"uncategorized\",\nnull,\nnull,\nnull,\n{\n            'v': 900,\n            'f': \"900\",\n        },\n{\n            'v': 0,\n            'f': \"0\",\n        },\n{\n            'v': 2,\n            'f': \"2\",\n        }],\n [{\n            'v': 57,\n            'f': \"57\",\n        },\n\"knossi\",\n\"uncategorized\",\nnull,\nnull,\nnull,\n{\n            'v': 764,\n            'f': \"764\",\n        },\n{\n            'v': 0,\n            'f': \"0\",\n        },\n{\n            'v': 0,\n            'f': \"0\",\n        }],\n [{\n            'v': 58,\n            'f': \"58\",\n        },\n\"3thedward\",\n\"uncategorized\",\nnull,\nnull,\nnull,\n{\n            'v': 674,\n            'f': \"674\",\n        },\n{\n            'v': 0,\n            'f': \"0\",\n        },\n{\n            'v': 0,\n            'f': \"0\",\n        }],\n [{\n            'v': 59,\n            'f': \"59\",\n        },\n\"daheim\",\n\"reddit institutions\",\n\"pg\",\n\"Internet Culture and Memes\",\nnull,\n{\n            'v': 267,\n            'f': \"267\",\n        },\n{\n            'v': 0,\n            'f': \"0\",\n        },\n{\n            'v': 1,\n            'f': \"1\",\n        }],\n [{\n            'v': 60,\n            'f': \"60\",\n        },\n\"germanwomenandcouples\",\n\"uncategorized\",\nnull,\nnull,\n\"f\",\n{\n            'v': 198,\n            'f': \"198\",\n        },\n{\n            'v': 0,\n            'f': \"0\",\n        },\n{\n            'v': 0,\n            'f': \"0\",\n        }],\n [{\n            'v': 61,\n            'f': \"61\",\n        },\n\"austriansgonewild\",\n\"over18_nsfw\",\nnull,\nnull,\n\"t\",\n{\n            'v': 54,\n            'f': \"54\",\n        },\n{\n            'v': 0,\n            'f': \"0\",\n        },\n{\n            'v': 0,\n            'f': \"0\",\n        }],\n [{\n            'v': 62,\n            'f': \"62\",\n        },\n\"einheitsgebot\",\n\"food\",\nnull,\nnull,\n\"f\",\n{\n            'v': 38,\n            'f': \"38\",\n        },\n{\n            'v': 0,\n            'f': \"0\",\n        },\n{\n            'v': 0,\n            'f': \"0\",\n        }],\n [{\n            'v': 63,\n            'f': \"63\",\n        },\n\"bestofde\",\n\"reddit institutions\",\nnull,\nnull,\nnull,\n{\n            'v': 37,\n            'f': \"37\",\n        },\n{\n            'v': 0,\n            'f': \"0\",\n        },\n{\n            'v': 0,\n            'f': \"0\",\n        }],\n [{\n            'v': 64,\n            'f': \"64\",\n        },\n\"eurotruckde\",\n\"gaming\",\nnull,\nnull,\nnull,\n{\n            'v': 34,\n            'f': \"34\",\n        },\n{\n            'v': 0,\n            'f': \"0\",\n        },\n{\n            'v': 0,\n            'f': \"0\",\n        }],\n [{\n            'v': 65,\n            'f': \"65\",\n        },\n\"julesboringlifehot\",\n\"over18_nsfw\",\nnull,\nnull,\n\"t\",\n{\n            'v': 27,\n            'f': \"27\",\n        },\n{\n            'v': 0,\n            'f': \"0\",\n        },\n{\n            'v': 0,\n            'f': \"0\",\n        }],\n [{\n            'v': 66,\n            'f': \"66\",\n        },\n\"boahalter\",\n\"reddit institutions\",\nnull,\nnull,\nnull,\n{\n            'v': 25,\n            'f': \"25\",\n        },\n{\n            'v': 0,\n            'f': \"0\",\n        },\n{\n            'v': 0,\n            'f': \"0\",\n        }],\n [{\n            'v': 67,\n            'f': \"67\",\n        },\n\"spube\",\n\"culture + entertainment\",\nnull,\nnull,\nnull,\n{\n            'v': 22,\n            'f': \"22\",\n        },\n{\n            'v': 0,\n            'f': \"0\",\n        },\n{\n            'v': 0,\n            'f': \"0\",\n        }],\n [{\n            'v': 68,\n            'f': \"68\",\n        },\n\"izaandelle\",\n\"uncategorized\",\nnull,\nnull,\nnull,\n{\n            'v': 21,\n            'f': \"21\",\n        },\n{\n            'v': 0,\n            'f': \"0\",\n        },\n{\n            'v': 0,\n            'f': \"0\",\n        }],\n [{\n            'v': 69,\n            'f': \"69\",\n        },\n\"jerkoffgermancelebs\",\n\"over18_nsfw\",\nnull,\nnull,\n\"t\",\n{\n            'v': 19,\n            'f': \"19\",\n        },\n{\n            'v': 0,\n            'f': \"0\",\n        },\n{\n            'v': 0,\n            'f': \"0\",\n        }],\n [{\n            'v': 70,\n            'f': \"70\",\n        },\n\"diesiedler\",\n\"gaming\",\nnull,\nnull,\nnull,\n{\n            'v': 18,\n            'f': \"18\",\n        },\n{\n            'v': 0,\n            'f': \"0\",\n        },\n{\n            'v': 0,\n            'f': \"0\",\n        }],\n [{\n            'v': 71,\n            'f': \"71\",\n        },\n\"nikasofiehot\",\n\"over18_nsfw\",\nnull,\nnull,\n\"t\",\n{\n            'v': 16,\n            'f': \"16\",\n        },\n{\n            'v': 0,\n            'f': \"0\",\n        },\n{\n            'v': 0,\n            'f': \"0\",\n        }],\n [{\n            'v': 72,\n            'f': \"72\",\n        },\n\"denisemski_onlyfans\",\n\"over18_nsfw\",\nnull,\nnull,\n\"t\",\n{\n            'v': 12,\n            'f': \"12\",\n        },\n{\n            'v': 0,\n            'f': \"0\",\n        },\n{\n            'v': 0,\n            'f': \"0\",\n        }],\n [{\n            'v': 73,\n            'f': \"73\",\n        },\n\"pornstarsgerman\",\n\"over18_nsfw\",\nnull,\nnull,\n\"t\",\n{\n            'v': 11,\n            'f': \"11\",\n        },\n{\n            'v': 0,\n            'f': \"0\",\n        },\n{\n            'v': 0,\n            'f': \"0\",\n        }],\n [{\n            'v': 74,\n            'f': \"74\",\n        },\n\"germantribsgirls\",\n\"over18_nsfw\",\nnull,\nnull,\n\"t\",\n{\n            'v': 11,\n            'f': \"11\",\n        },\n{\n            'v': 0,\n            'f': \"0\",\n        },\n{\n            'v': 0,\n            'f': \"0\",\n        }],\n [{\n            'v': 75,\n            'f': \"75\",\n        },\n\"linabmn\",\n\"over18_nsfw\",\nnull,\nnull,\n\"t\",\n{\n            'v': 8,\n            'f': \"8\",\n        },\n{\n            'v': 0,\n            'f': \"0\",\n        },\n{\n            'v': 0,\n            'f': \"0\",\n        }],\n [{\n            'v': 76,\n            'f': \"76\",\n        },\n\"switchde\",\n\"gaming\",\nnull,\nnull,\nnull,\n{\n            'v': 6,\n            'f': \"6\",\n        },\n{\n            'v': 0,\n            'f': \"0\",\n        },\n{\n            'v': 1,\n            'f': \"1\",\n        }],\n [{\n            'v': 77,\n            'f': \"77\",\n        },\n\"gamingde\",\n\"gaming\",\nnull,\nnull,\n\"f\",\n{\n            'v': 6,\n            'f': \"6\",\n        },\n{\n            'v': 0,\n            'f': \"0\",\n        },\n{\n            'v': 0,\n            'f': \"0\",\n        }],\n [{\n            'v': 78,\n            'f': \"78\",\n        },\n\"minicuta\",\n\"over18_nsfw\",\nnull,\nnull,\n\"t\",\n{\n            'v': 6,\n            'f': \"6\",\n        },\n{\n            'v': 0,\n            'f': \"0\",\n        },\n{\n            'v': 0,\n            'f': \"0\",\n        }],\n [{\n            'v': 79,\n            'f': \"79\",\n        },\n\"leistungswasser\",\n\"food\",\nnull,\nnull,\nnull,\n{\n            'v': 4,\n            'f': \"4\",\n        },\n{\n            'v': 0,\n            'f': \"0\",\n        },\n{\n            'v': 0,\n            'f': \"0\",\n        }],\n [{\n            'v': 80,\n            'f': \"80\",\n        },\n\"simde\",\n\"gaming\",\nnull,\nnull,\nnull,\n{\n            'v': 4,\n            'f': \"4\",\n        },\n{\n            'v': 0,\n            'f': \"0\",\n        },\n{\n            'v': 0,\n            'f': \"0\",\n        }],\n [{\n            'v': 81,\n            'f': \"81\",\n        },\n\"footballmanagerde\",\n\"gaming\",\nnull,\nnull,\nnull,\n{\n            'v': 4,\n            'f': \"4\",\n        },\n{\n            'v': 0,\n            'f': \"0\",\n        },\n{\n            'v': 0,\n            'f': \"0\",\n        }],\n [{\n            'v': 82,\n            'f': \"82\",\n        },\n\"buehne\",\n\"culture + entertainment\",\nnull,\nnull,\nnull,\n{\n            'v': 3,\n            'f': \"3\",\n        },\n{\n            'v': 0,\n            'f': \"0\",\n        },\n{\n            'v': 0,\n            'f': \"0\",\n        }],\n [{\n            'v': 83,\n            'f': \"83\",\n        },\n\"kulturdigital\",\n\"culture + entertainment\",\nnull,\nnull,\nnull,\n{\n            'v': 2,\n            'f': \"2\",\n        },\n{\n            'v': 0,\n            'f': \"0\",\n        },\n{\n            'v': 0,\n            'f': \"0\",\n        }],\n [{\n            'v': 84,\n            'f': \"84\",\n        },\n\"germannoir\",\n\"over18_nsfw\",\nnull,\nnull,\n\"t\",\n{\n            'v': 2,\n            'f': \"2\",\n        },\n{\n            'v': 0,\n            'f': \"0\",\n        },\n{\n            'v': 0,\n            'f': \"0\",\n        }],\n [{\n            'v': 85,\n            'f': \"85\",\n        },\n\"mediende\",\n\"culture + entertainment\",\nnull,\nnull,\nnull,\n{\n            'v': 2,\n            'f': \"2\",\n        },\n{\n            'v': 0,\n            'f': \"0\",\n        },\n{\n            'v': 0,\n            'f': \"0\",\n        }],\n [{\n            'v': 86,\n            'f': \"86\",\n        },\n\"rustde\",\n\"gaming\",\nnull,\nnull,\nnull,\n{\n            'v': 0,\n            'f': \"0\",\n        },\n{\n            'v': 0,\n            'f': \"0\",\n        },\n{\n            'v': 0,\n            'f': \"0\",\n        }],\n [{\n            'v': 87,\n            'f': \"87\",\n        },\n\"taynaaa\",\n\"over18_nsfw\",\nnull,\nnull,\n\"t\",\n{\n            'v': 0,\n            'f': \"0\",\n        },\n{\n            'v': 0,\n            'f': \"0\",\n        },\n{\n            'v': 0,\n            'f': \"0\",\n        }]],\n        columns: [[\"number\", \"index\"], [\"string\", \"subreddit_name\"], [\"string\", \"combined_topic_and_rating\"], [\"string\", \"rating\"], [\"string\", \"topic\"], [\"string\", \"over_18\"], [\"number\", \"users_l28\"], [\"number\", \"posts_l28\"], [\"number\", \"comments_l28\"]],\n        columnOptions: [{\"width\": \"1px\", \"className\": \"index_column\"}],\n        rowsPerPage: 25,\n        helpUrl: \"https://colab.research.google.com/notebooks/data_table.ipynb\",\n        suppressOutputScrolling: true,\n        minimumWidth: undefined,\n      });\n    ",
            "text/html": [
              "<div>\n",
              "<style scoped>\n",
              "    .dataframe tbody tr th:only-of-type {\n",
              "        vertical-align: middle;\n",
              "    }\n",
              "\n",
              "    .dataframe tbody tr th {\n",
              "        vertical-align: top;\n",
              "    }\n",
              "\n",
              "    .dataframe thead th {\n",
              "        text-align: right;\n",
              "    }\n",
              "</style>\n",
              "<table border=\"1\" class=\"dataframe\">\n",
              "  <thead>\n",
              "    <tr style=\"text-align: right;\">\n",
              "      <th></th>\n",
              "      <th>subreddit_name</th>\n",
              "      <th>combined_topic_and_rating</th>\n",
              "      <th>rating</th>\n",
              "      <th>topic</th>\n",
              "      <th>over_18</th>\n",
              "      <th>users_l28</th>\n",
              "      <th>posts_l28</th>\n",
              "      <th>comments_l28</th>\n",
              "    </tr>\n",
              "  </thead>\n",
              "  <tbody>\n",
              "    <tr>\n",
              "      <th>0</th>\n",
              "      <td>rainbowsixde</td>\n",
              "      <td>gaming</td>\n",
              "      <td>None</td>\n",
              "      <td>None</td>\n",
              "      <td>None</td>\n",
              "      <td>770</td>\n",
              "      <td>36</td>\n",
              "      <td>284</td>\n",
              "    </tr>\n",
              "    <tr>\n",
              "      <th>1</th>\n",
              "      <td>metallmaimais</td>\n",
              "      <td>uncategorized</td>\n",
              "      <td>None</td>\n",
              "      <td>None</td>\n",
              "      <td>None</td>\n",
              "      <td>849</td>\n",
              "      <td>33</td>\n",
              "      <td>170</td>\n",
              "    </tr>\n",
              "    <tr>\n",
              "      <th>2</th>\n",
              "      <td>zeldade</td>\n",
              "      <td>gaming</td>\n",
              "      <td>None</td>\n",
              "      <td>None</td>\n",
              "      <td>None</td>\n",
              "      <td>472</td>\n",
              "      <td>17</td>\n",
              "      <td>91</td>\n",
              "    </tr>\n",
              "    <tr>\n",
              "      <th>3</th>\n",
              "      <td>leakoeln50667</td>\n",
              "      <td>uncategorized</td>\n",
              "      <td>None</td>\n",
              "      <td>None</td>\n",
              "      <td>None</td>\n",
              "      <td>3520</td>\n",
              "      <td>16</td>\n",
              "      <td>11</td>\n",
              "    </tr>\n",
              "    <tr>\n",
              "      <th>4</th>\n",
              "      <td>studium</td>\n",
              "      <td>uncategorized</td>\n",
              "      <td>None</td>\n",
              "      <td>None</td>\n",
              "      <td>None</td>\n",
              "      <td>507</td>\n",
              "      <td>15</td>\n",
              "      <td>44</td>\n",
              "    </tr>\n",
              "    <tr>\n",
              "      <th>...</th>\n",
              "      <td>...</td>\n",
              "      <td>...</td>\n",
              "      <td>...</td>\n",
              "      <td>...</td>\n",
              "      <td>...</td>\n",
              "      <td>...</td>\n",
              "      <td>...</td>\n",
              "      <td>...</td>\n",
              "    </tr>\n",
              "    <tr>\n",
              "      <th>83</th>\n",
              "      <td>kulturdigital</td>\n",
              "      <td>culture + entertainment</td>\n",
              "      <td>None</td>\n",
              "      <td>None</td>\n",
              "      <td>None</td>\n",
              "      <td>2</td>\n",
              "      <td>0</td>\n",
              "      <td>0</td>\n",
              "    </tr>\n",
              "    <tr>\n",
              "      <th>84</th>\n",
              "      <td>germannoir</td>\n",
              "      <td>over18_nsfw</td>\n",
              "      <td>None</td>\n",
              "      <td>None</td>\n",
              "      <td>t</td>\n",
              "      <td>2</td>\n",
              "      <td>0</td>\n",
              "      <td>0</td>\n",
              "    </tr>\n",
              "    <tr>\n",
              "      <th>85</th>\n",
              "      <td>mediende</td>\n",
              "      <td>culture + entertainment</td>\n",
              "      <td>None</td>\n",
              "      <td>None</td>\n",
              "      <td>None</td>\n",
              "      <td>2</td>\n",
              "      <td>0</td>\n",
              "      <td>0</td>\n",
              "    </tr>\n",
              "    <tr>\n",
              "      <th>86</th>\n",
              "      <td>rustde</td>\n",
              "      <td>gaming</td>\n",
              "      <td>None</td>\n",
              "      <td>None</td>\n",
              "      <td>None</td>\n",
              "      <td>0</td>\n",
              "      <td>0</td>\n",
              "      <td>0</td>\n",
              "    </tr>\n",
              "    <tr>\n",
              "      <th>87</th>\n",
              "      <td>taynaaa</td>\n",
              "      <td>over18_nsfw</td>\n",
              "      <td>None</td>\n",
              "      <td>None</td>\n",
              "      <td>t</td>\n",
              "      <td>0</td>\n",
              "      <td>0</td>\n",
              "      <td>0</td>\n",
              "    </tr>\n",
              "  </tbody>\n",
              "</table>\n",
              "<p>88 rows × 8 columns</p>\n",
              "</div>"
            ],
            "text/plain": [
              "   subreddit_name combined_topic_and_rating  ... posts_l28 comments_l28\n",
              "0    rainbowsixde                    gaming  ...        36          284\n",
              "1   metallmaimais             uncategorized  ...        33          170\n",
              "2         zeldade                    gaming  ...        17           91\n",
              "3   leakoeln50667             uncategorized  ...        16           11\n",
              "4         studium             uncategorized  ...        15           44\n",
              "..            ...                       ...  ...       ...          ...\n",
              "83  kulturdigital   culture + entertainment  ...         0            0\n",
              "84     germannoir               over18_nsfw  ...         0            0\n",
              "85       mediende   culture + entertainment  ...         0            0\n",
              "86         rustde                    gaming  ...         0            0\n",
              "87        taynaaa               over18_nsfw  ...         0            0\n",
              "\n",
              "[88 rows x 8 columns]"
            ]
          },
          "metadata": {
            "tags": []
          },
          "execution_count": 38
        }
      ]
    },
    {
      "cell_type": "code",
      "metadata": {
        "colab": {
          "base_uri": "https://localhost:8080/"
        },
        "id": "4OK0O8x-lYZd",
        "outputId": "0fe12cd9-dacb-4712-e425-0d30b0899e36"
      },
      "source": [
        "# these are the subs that have fewer than 4 posts\n",
        "df_v31[(\n",
        "    (df_v31['subreddit_name'].isin(set_in_v31_but_not_v32)) &\n",
        "    (df_v31['posts_l28'] < 4)\n",
        ")].shape"
      ],
      "execution_count": 42,
      "outputs": [
        {
          "output_type": "execute_result",
          "data": {
            "text/plain": [
              "(61, 8)"
            ]
          },
          "metadata": {
            "tags": []
          },
          "execution_count": 42
        }
      ]
    },
    {
      "cell_type": "markdown",
      "metadata": {
        "id": "kfE1XqAcrGZP"
      },
      "source": [
        "# Add new column to check more DE & ambassador subreddits\n",
        "\n",
        "It's likely there are more than 540 German-relevant subs that we want to tag."
      ]
    },
    {
      "cell_type": "markdown",
      "metadata": {
        "id": "nmnOxHjPsURv"
      },
      "source": [
        "## Load ambassador & DE-relevant subreddits"
      ]
    },
    {
      "cell_type": "code",
      "metadata": {
        "colab": {
          "base_uri": "https://localhost:8080/"
        },
        "id": "uEyckgPvLwrZ",
        "outputId": "3d848e35-ee38-4585-94fe-66a95c5c2761"
      },
      "source": [
        "%%time\n",
        "sql_ambassador_subs = \"\"\"\n",
        "SELECT \n",
        "  LOWER(subreddit_name) AS subreddit_name\n",
        "  , subreddit_info\n",
        "  , topic\n",
        "FROM `reddit-employee-datasets.wacy_su.ambassador_subreddits` \n",
        "\"\"\"\n",
        "df_ambassador_subs = (\n",
        "    client.query(sql_ambassador_subs)\n",
        "    .to_dataframe()\n",
        ")\n",
        "print(df_ambassador_subs.shape)"
      ],
      "execution_count": 43,
      "outputs": [
        {
          "output_type": "stream",
          "text": [
            "(171, 3)\n",
            "CPU times: user 49.1 ms, sys: 4.87 ms, total: 54 ms\n",
            "Wall time: 2.68 s\n"
          ],
          "name": "stdout"
        }
      ]
    },
    {
      "cell_type": "code",
      "metadata": {
        "colab": {
          "base_uri": "https://localhost:8080/"
        },
        "id": "82PP6Q6glYS2",
        "outputId": "0d17b9dd-4456-485b-e25c-22dcc19134a7"
      },
      "source": [
        "# make sure there's nothing weird with stripping out spaces from subreddit name\n",
        "assert set(df_ambassador_subs['subreddit_name']) == set(df_ambassador_subs['subreddit_name'].str.strip())"
      ],
      "execution_count": 45,
      "outputs": [
        {
          "output_type": "execute_result",
          "data": {
            "text/plain": [
              "True"
            ]
          },
          "metadata": {
            "tags": []
          },
          "execution_count": 45
        }
      ]
    },
    {
      "cell_type": "code",
      "metadata": {
        "colab": {
          "base_uri": "https://localhost:8080/"
        },
        "id": "8v-Im0DElYWL",
        "outputId": "38fa6778-3a68-4604-9cd2-0d5700403efa"
      },
      "source": [
        "%%time\n",
        "sql_de_subs = \"\"\"\n",
        "SELECT \n",
        "  *\n",
        "FROM `reddit-employee-datasets.wacy_su.geo_relevant_subreddits_2021`\n",
        "  WHERE geo_country_code = \"DE\"\n",
        "\"\"\"\n",
        "df_de_subs = (\n",
        "    client.query(sql_de_subs)\n",
        "    .to_dataframe()\n",
        ")\n",
        "print(df_de_subs.shape)"
      ],
      "execution_count": 44,
      "outputs": [
        {
          "output_type": "stream",
          "text": [
            "(987, 6)\n",
            "CPU times: user 35.9 ms, sys: 915 µs, total: 36.8 ms\n",
            "Wall time: 948 ms\n"
          ],
          "name": "stdout"
        }
      ]
    },
    {
      "cell_type": "markdown",
      "metadata": {
        "id": "jX6pJCGFsZGl"
      },
      "source": [
        "## Join with v.3.2 data to check how many are DE/Ambassador subs"
      ]
    },
    {
      "cell_type": "code",
      "metadata": {
        "colab": {
          "base_uri": "https://localhost:8080/"
        },
        "id": "rq5aIc6fslo3",
        "outputId": "5d897e7d-7abf-483f-917e-bbd6d1cde109"
      },
      "source": [
        "set_subs_de_or_ambassador = (\n",
        "    set(df_ambassador_subs['subreddit_name']) |\n",
        "    set(df_de_subs['subreddit_name'])\n",
        ")\n",
        "len(set_subs_de_or_ambassador)"
      ],
      "execution_count": 47,
      "outputs": [
        {
          "output_type": "execute_result",
          "data": {
            "text/plain": [
              "1153"
            ]
          },
          "metadata": {
            "tags": []
          },
          "execution_count": 47
        }
      ]
    },
    {
      "cell_type": "code",
      "metadata": {
        "colab": {
          "base_uri": "https://localhost:8080/",
          "height": 195
        },
        "id": "HCFuQo-ftXMz",
        "outputId": "4f302348-65e5-4212-cc34-34471ef353e2"
      },
      "source": [
        "df_v32.head()"
      ],
      "execution_count": 48,
      "outputs": [
        {
          "output_type": "execute_result",
          "data": {
            "application/vnd.google.colaboratory.module+javascript": "\n      import \"https://ssl.gstatic.com/colaboratory/data_table/a6224c040fa35dcf/data_table.js\";\n\n      window.createDataTable({\n        data: [[{\n            'v': 0,\n            'f': \"0\",\n        },\n\"artistic_nudity\",\n\"uncategorized\",\nnull,\nnull,\n\"f\",\n{\n            'v': 3539,\n            'f': \"3539\",\n        },\n{\n            'v': 59,\n            'f': \"59\",\n        },\n{\n            'v': 80,\n            'f': \"80\",\n        }],\n [{\n            'v': 1,\n            'f': \"1\",\n        },\n\"katjaglieson\",\n\"uncategorized\",\nnull,\nnull,\nnull,\n{\n            'v': 1651,\n            'f': \"1651\",\n        },\n{\n            'v': 7,\n            'f': \"7\",\n        },\n{\n            'v': 2,\n            'f': \"2\",\n        }],\n [{\n            'v': 2,\n            'f': \"2\",\n        },\n\"workoutgirls\",\n\"uncategorized\",\nnull,\nnull,\n\"f\",\n{\n            'v': 45376,\n            'f': \"45376\",\n        },\n{\n            'v': 389,\n            'f': \"389\",\n        },\n{\n            'v': 1082,\n            'f': \"1082\",\n        }],\n [{\n            'v': 3,\n            'f': \"3\",\n        },\n\"anime_titties\",\n\"world news\",\n\"r\",\n\"World News\",\n\"f\",\n{\n            'v': 171499,\n            'f': \"171499\",\n        },\n{\n            'v': 577,\n            'f': \"577\",\n        },\n{\n            'v': 15603,\n            'f': \"15603\",\n        }],\n [{\n            'v': 4,\n            'f': \"4\",\n        },\n\"cursedcursedcomments\",\n\"uncategorized\",\n\"r\",\nnull,\n\"f\",\n{\n            'v': 22760,\n            'f': \"22760\",\n        },\n{\n            'v': 59,\n            'f': \"59\",\n        },\n{\n            'v': 552,\n            'f': \"552\",\n        }]],\n        columns: [[\"number\", \"index\"], [\"string\", \"subreddit_name\"], [\"string\", \"combined_topic_and_rating\"], [\"string\", \"rating\"], [\"string\", \"topic\"], [\"string\", \"over_18\"], [\"number\", \"users_l28\"], [\"number\", \"posts_l28\"], [\"number\", \"comments_l28\"]],\n        columnOptions: [{\"width\": \"1px\", \"className\": \"index_column\"}],\n        rowsPerPage: 25,\n        helpUrl: \"https://colab.research.google.com/notebooks/data_table.ipynb\",\n        suppressOutputScrolling: true,\n        minimumWidth: undefined,\n      });\n    ",
            "text/html": [
              "<div>\n",
              "<style scoped>\n",
              "    .dataframe tbody tr th:only-of-type {\n",
              "        vertical-align: middle;\n",
              "    }\n",
              "\n",
              "    .dataframe tbody tr th {\n",
              "        vertical-align: top;\n",
              "    }\n",
              "\n",
              "    .dataframe thead th {\n",
              "        text-align: right;\n",
              "    }\n",
              "</style>\n",
              "<table border=\"1\" class=\"dataframe\">\n",
              "  <thead>\n",
              "    <tr style=\"text-align: right;\">\n",
              "      <th></th>\n",
              "      <th>subreddit_name</th>\n",
              "      <th>combined_topic_and_rating</th>\n",
              "      <th>rating</th>\n",
              "      <th>topic</th>\n",
              "      <th>over_18</th>\n",
              "      <th>users_l28</th>\n",
              "      <th>posts_l28</th>\n",
              "      <th>comments_l28</th>\n",
              "    </tr>\n",
              "  </thead>\n",
              "  <tbody>\n",
              "    <tr>\n",
              "      <th>0</th>\n",
              "      <td>artistic_nudity</td>\n",
              "      <td>uncategorized</td>\n",
              "      <td>None</td>\n",
              "      <td>None</td>\n",
              "      <td>f</td>\n",
              "      <td>3539</td>\n",
              "      <td>59</td>\n",
              "      <td>80</td>\n",
              "    </tr>\n",
              "    <tr>\n",
              "      <th>1</th>\n",
              "      <td>katjaglieson</td>\n",
              "      <td>uncategorized</td>\n",
              "      <td>None</td>\n",
              "      <td>None</td>\n",
              "      <td>None</td>\n",
              "      <td>1651</td>\n",
              "      <td>7</td>\n",
              "      <td>2</td>\n",
              "    </tr>\n",
              "    <tr>\n",
              "      <th>2</th>\n",
              "      <td>workoutgirls</td>\n",
              "      <td>uncategorized</td>\n",
              "      <td>None</td>\n",
              "      <td>None</td>\n",
              "      <td>f</td>\n",
              "      <td>45376</td>\n",
              "      <td>389</td>\n",
              "      <td>1082</td>\n",
              "    </tr>\n",
              "    <tr>\n",
              "      <th>3</th>\n",
              "      <td>anime_titties</td>\n",
              "      <td>world news</td>\n",
              "      <td>r</td>\n",
              "      <td>World News</td>\n",
              "      <td>f</td>\n",
              "      <td>171499</td>\n",
              "      <td>577</td>\n",
              "      <td>15603</td>\n",
              "    </tr>\n",
              "    <tr>\n",
              "      <th>4</th>\n",
              "      <td>cursedcursedcomments</td>\n",
              "      <td>uncategorized</td>\n",
              "      <td>r</td>\n",
              "      <td>None</td>\n",
              "      <td>f</td>\n",
              "      <td>22760</td>\n",
              "      <td>59</td>\n",
              "      <td>552</td>\n",
              "    </tr>\n",
              "  </tbody>\n",
              "</table>\n",
              "</div>"
            ],
            "text/plain": [
              "         subreddit_name combined_topic_and_rating  ... posts_l28 comments_l28\n",
              "0       artistic_nudity             uncategorized  ...        59           80\n",
              "1          katjaglieson             uncategorized  ...         7            2\n",
              "2          workoutgirls             uncategorized  ...       389         1082\n",
              "3         anime_titties                world news  ...       577        15603\n",
              "4  cursedcursedcomments             uncategorized  ...        59          552\n",
              "\n",
              "[5 rows x 8 columns]"
            ]
          },
          "metadata": {
            "tags": []
          },
          "execution_count": 48
        }
      ]
    },
    {
      "cell_type": "code",
      "metadata": {
        "id": "FpAOGcSRlYLS"
      },
      "source": [
        "df_v32['geo_relevant_de_or_ambassador'] = np.where(\n",
        "    df_v32['subreddit_name'].isin(set_subs_de_or_ambassador),\n",
        "    'DE or Ambassador',\n",
        "    'Not DE'\n",
        ") "
      ],
      "execution_count": 49,
      "outputs": []
    },
    {
      "cell_type": "code",
      "metadata": {
        "colab": {
          "base_uri": "https://localhost:8080/",
          "height": 99
        },
        "id": "73U1ojXOsR9h",
        "outputId": "26eb7544-37f6-4168-92d7-35efda0a63a9"
      },
      "source": [
        "value_counts_and_pcts(df_v32['geo_relevant_de_or_ambassador'])"
      ],
      "execution_count": 50,
      "outputs": [
        {
          "output_type": "execute_result",
          "data": {
            "text/html": [
              "<style  type=\"text/css\" >\n",
              "#T_f6607142_fc88_11eb_82a9_0242ac1c0002row0_col1,#T_f6607142_fc88_11eb_82a9_0242ac1c0002row1_col2{\n",
              "            width:  10em;\n",
              "             height:  80%;\n",
              "            background:  linear-gradient(90deg,#95cff5 100.0%, transparent 100.0%);\n",
              "        }#T_f6607142_fc88_11eb_82a9_0242ac1c0002row0_col2,#T_f6607142_fc88_11eb_82a9_0242ac1c0002row1_col1{\n",
              "            width:  10em;\n",
              "             height:  80%;\n",
              "        }</style><table id=\"T_f6607142_fc88_11eb_82a9_0242ac1c0002\" ><thead>    <tr>        <th class=\"blank level0\" ></th>        <th class=\"col_heading level0 col0\" >geo_relevant_de_or_ambassador-count</th>        <th class=\"col_heading level0 col1\" >geo_relevant_de_or_ambassador-percent</th>        <th class=\"col_heading level0 col2\" >geo_relevant_de_or_ambassador-pct_cumulative_sum</th>    </tr></thead><tbody>\n",
              "                <tr>\n",
              "                        <th id=\"T_f6607142_fc88_11eb_82a9_0242ac1c0002level0_row0\" class=\"row_heading level0 row0\" >Not DE</th>\n",
              "                        <td id=\"T_f6607142_fc88_11eb_82a9_0242ac1c0002row0_col0\" class=\"data row0 col0\" >3,180</td>\n",
              "                        <td id=\"T_f6607142_fc88_11eb_82a9_0242ac1c0002row0_col1\" class=\"data row0 col1\" >84.4%</td>\n",
              "                        <td id=\"T_f6607142_fc88_11eb_82a9_0242ac1c0002row0_col2\" class=\"data row0 col2\" >84.4%</td>\n",
              "            </tr>\n",
              "            <tr>\n",
              "                        <th id=\"T_f6607142_fc88_11eb_82a9_0242ac1c0002level0_row1\" class=\"row_heading level0 row1\" >DE or Ambassador</th>\n",
              "                        <td id=\"T_f6607142_fc88_11eb_82a9_0242ac1c0002row1_col0\" class=\"data row1 col0\" >587</td>\n",
              "                        <td id=\"T_f6607142_fc88_11eb_82a9_0242ac1c0002row1_col1\" class=\"data row1 col1\" >15.6%</td>\n",
              "                        <td id=\"T_f6607142_fc88_11eb_82a9_0242ac1c0002row1_col2\" class=\"data row1 col2\" >100.0%</td>\n",
              "            </tr>\n",
              "    </tbody></table>"
            ],
            "text/plain": [
              "<pandas.io.formats.style.Styler at 0x7fb93a255ed0>"
            ]
          },
          "metadata": {
            "tags": []
          },
          "execution_count": 50
        }
      ]
    },
    {
      "cell_type": "markdown",
      "metadata": {
        "id": "TKeSBPATt681"
      },
      "source": [
        "### Get the names/info for the 47 subreddits that are German relevant and not in v0.3.1"
      ]
    },
    {
      "cell_type": "code",
      "metadata": {
        "colab": {
          "base_uri": "https://localhost:8080/"
        },
        "id": "JmFPM1nisR5f",
        "outputId": "4f033ab5-bd96-4251-fe7b-fda01b4ea65d"
      },
      "source": [
        "set_subs_de_in_v32 = set(df_v32[df_v32['geo_relevant_de_or_ambassador'] == 'DE or Ambassador']['subreddit_name'])\n",
        "\n",
        "set_subs_de_and_new_in_v32 = (\n",
        "    set_subs_de_in_v32 -\n",
        "    set_in_both_v31_and_v32\n",
        ")\n",
        "len(set_subs_de_and_new_in_v32)"
      ],
      "execution_count": 58,
      "outputs": [
        {
          "output_type": "execute_result",
          "data": {
            "text/plain": [
              "57"
            ]
          },
          "metadata": {
            "tags": []
          },
          "execution_count": 58
        }
      ]
    },
    {
      "cell_type": "code",
      "metadata": {
        "colab": {
          "base_uri": "https://localhost:8080/"
        },
        "id": "W_TLtRESsRxF",
        "outputId": "8971098d-967f-405c-9cd9-a8eec528d67e"
      },
      "source": [
        "len(set_subs_de_in_v32)"
      ],
      "execution_count": 59,
      "outputs": [
        {
          "output_type": "execute_result",
          "data": {
            "text/plain": [
              "587"
            ]
          },
          "metadata": {
            "tags": []
          },
          "execution_count": 59
        }
      ]
    },
    {
      "cell_type": "code",
      "metadata": {
        "colab": {
          "base_uri": "https://localhost:8080/"
        },
        "id": "7Xd69MnFuxV4",
        "outputId": "c2852e31-5012-48ea-81fb-5f37c2653090"
      },
      "source": [
        "len(set_in_both_v31_and_v32)"
      ],
      "execution_count": 57,
      "outputs": [
        {
          "output_type": "execute_result",
          "data": {
            "text/plain": [
              "540"
            ]
          },
          "metadata": {
            "tags": []
          },
          "execution_count": 57
        }
      ]
    },
    {
      "cell_type": "markdown",
      "metadata": {
        "id": "9QrWFvqFwZcx"
      },
      "source": [
        "Looks like some subs in the previous score where not DE relevant... maybe they were relevant to Austria or Switzerland!"
      ]
    },
    {
      "cell_type": "code",
      "metadata": {
        "colab": {
          "base_uri": "https://localhost:8080/"
        },
        "id": "1-q95u9qwGJP",
        "outputId": "57ddfe66-0e42-425d-c952-f4da68ae9a8f"
      },
      "source": [
        "set_in_both_v31_and_v32.issubset(set_subs_de_in_v32)"
      ],
      "execution_count": 64,
      "outputs": [
        {
          "output_type": "execute_result",
          "data": {
            "text/plain": [
              "False"
            ]
          },
          "metadata": {
            "tags": []
          },
          "execution_count": 64
        }
      ]
    },
    {
      "cell_type": "code",
      "metadata": {
        "colab": {
          "base_uri": "https://localhost:8080/"
        },
        "id": "_wOpAu9Gwu_K",
        "outputId": "28a0121f-52d3-4cfe-d0eb-639aeb162d3c"
      },
      "source": [
        "set_in_both_v31_and_v32 - set_subs_de_in_v32"
      ],
      "execution_count": 65,
      "outputs": [
        {
          "output_type": "execute_result",
          "data": {
            "text/plain": [
              "{'aeiou',\n",
              " 'askswitzerland',\n",
              " 'austria',\n",
              " 'buenzli',\n",
              " 'ethz',\n",
              " 'graz',\n",
              " 'okoidawappler',\n",
              " 'switzerland',\n",
              " 'wien',\n",
              " 'zurich'}"
            ]
          },
          "metadata": {
            "tags": []
          },
          "execution_count": 65
        }
      ]
    },
    {
      "cell_type": "code",
      "metadata": {
        "colab": {
          "base_uri": "https://localhost:8080/"
        },
        "id": "gZ7XgKtOvN4E",
        "outputId": "610da087-db8f-46f4-9849-ecbf7ed7da9e"
      },
      "source": [
        "len(\n",
        "    set_subs_de_in_v32 -\n",
        "    set_in_both_v31_and_v32\n",
        ")"
      ],
      "execution_count": 61,
      "outputs": [
        {
          "output_type": "execute_result",
          "data": {
            "text/plain": [
              "57"
            ]
          },
          "metadata": {
            "tags": []
          },
          "execution_count": 61
        }
      ]
    },
    {
      "cell_type": "code",
      "metadata": {
        "colab": {
          "base_uri": "https://localhost:8080/"
        },
        "id": "nq9CLUQivl9j",
        "outputId": "7413b489-2390-4e62-c5d9-a284317ec964"
      },
      "source": [
        "df_v32[df_v32['subreddit_name'].isin(set_subs_de_and_new_in_v32)].shape"
      ],
      "execution_count": 63,
      "outputs": [
        {
          "output_type": "execute_result",
          "data": {
            "text/plain": [
              "(57, 9)"
            ]
          },
          "metadata": {
            "tags": []
          },
          "execution_count": 63
        }
      ]
    },
    {
      "cell_type": "code",
      "metadata": {
        "colab": {
          "base_uri": "https://localhost:8080/",
          "height": 632
        },
        "id": "hUL9-aGov4fO",
        "outputId": "b2ce5439-180f-4de1-9338-1704ab983af2"
      },
      "source": [
        "(\n",
        "    df_v32[df_v32['subreddit_name'].isin(set_subs_de_and_new_in_v32)]\n",
        "    .sort_values(by=['users_l28', 'posts_l28'], ascending=False)\n",
        "    .reset_index(drop=True)\n",
        ")"
      ],
      "execution_count": 69,
      "outputs": [
        {
          "output_type": "execute_result",
          "data": {
            "application/vnd.google.colaboratory.module+javascript": "\n      import \"https://ssl.gstatic.com/colaboratory/data_table/a6224c040fa35dcf/data_table.js\";\n\n      window.createDataTable({\n        data: [[{\n            'v': 0,\n            'f': \"0\",\n        },\n\"reved\",\n\"uncategorized\",\nnull,\nnull,\n\"f\",\n{\n            'v': 26273,\n            'f': \"26273\",\n        },\n{\n            'v': 753,\n            'f': \"753\",\n        },\n{\n            'v': 310,\n            'f': \"310\",\n        },\n\"DE or Ambassador\"],\n [{\n            'v': 1,\n            'f': \"1\",\n        },\n\"elisaaline\",\n\"over18_nsfw\",\nnull,\nnull,\n\"t\",\n{\n            'v': 17378,\n            'f': \"17378\",\n        },\n{\n            'v': 30,\n            'f': \"30\",\n        },\n{\n            'v': 43,\n            'f': \"43\",\n        },\n\"DE or Ambassador\"],\n [{\n            'v': 2,\n            'f': \"2\",\n        },\n\"suziegrime\",\n\"over18_nsfw\",\nnull,\nnull,\n\"t\",\n{\n            'v': 13264,\n            'f': \"13264\",\n        },\n{\n            'v': 1,\n            'f': \"1\",\n        },\n{\n            'v': 13,\n            'f': \"13\",\n        },\n\"DE or Ambassador\"],\n [{\n            'v': 3,\n            'f': \"3\",\n        },\n\"kellymissesvlogof\",\n\"over18_nsfw\",\n\"nc17\",\n\"Mature Themes and Adult Content\",\nnull,\n{\n            'v': 13028,\n            'f': \"13028\",\n        },\n{\n            'v': 5,\n            'f': \"5\",\n        },\n{\n            'v': 0,\n            'f': \"0\",\n        },\n\"DE or Ambassador\"],\n [{\n            'v': 4,\n            'f': \"4\",\n        },\n\"juliabeautxtributs\",\n\"uncategorized\",\nnull,\nnull,\n\"f\",\n{\n            'v': 12308,\n            'f': \"12308\",\n        },\n{\n            'v': 58,\n            'f': \"58\",\n        },\n{\n            'v': 59,\n            'f': \"59\",\n        },\n\"DE or Ambassador\"],\n [{\n            'v': 5,\n            'f': \"5\",\n        },\n\"sophstardustasmrfap\",\n\"uncategorized\",\nnull,\nnull,\nnull,\n{\n            'v': 6426,\n            'f': \"6426\",\n        },\n{\n            'v': 12,\n            'f': \"12\",\n        },\n{\n            'v': 52,\n            'f': \"52\",\n        },\n\"DE or Ambassador\"],\n [{\n            'v': 6,\n            'f': \"6\",\n        },\n\"justlucyofficial\",\n\"uncategorized\",\nnull,\nnull,\nnull,\n{\n            'v': 6069,\n            'f': \"6069\",\n        },\n{\n            'v': 9,\n            'f': \"9\",\n        },\n{\n            'v': 4,\n            'f': \"4\",\n        },\n\"DE or Ambassador\"],\n [{\n            'v': 7,\n            'f': \"7\",\n        },\n\"kickbasemanager\",\n\"uncategorized\",\nnull,\nnull,\n\"f\",\n{\n            'v': 4098,\n            'f': \"4098\",\n        },\n{\n            'v': 64,\n            'f': \"64\",\n        },\n{\n            'v': 262,\n            'f': \"262\",\n        },\n\"DE or Ambassador\"],\n [{\n            'v': 8,\n            'f': \"8\",\n        },\n\"american_football\",\n\"uncategorized\",\nnull,\nnull,\nnull,\n{\n            'v': 3965,\n            'f': \"3965\",\n        },\n{\n            'v': 122,\n            'f': \"122\",\n        },\n{\n            'v': 216,\n            'f': \"216\",\n        },\n\"DE or Ambassador\"],\n [{\n            'v': 9,\n            'f': \"9\",\n        },\n\"reveddit\",\n\"uncategorized\",\nnull,\nnull,\nnull,\n{\n            'v': 2666,\n            'f': \"2666\",\n        },\n{\n            'v': 6,\n            'f': \"6\",\n        },\n{\n            'v': 18,\n            'f': \"18\",\n        },\n\"DE or Ambassador\"],\n [{\n            'v': 10,\n            'f': \"10\",\n        },\n\"juliaschulzehot\",\n\"uncategorized\",\nnull,\nnull,\n\"f\",\n{\n            'v': 2485,\n            'f': \"2485\",\n        },\n{\n            'v': 10,\n            'f': \"10\",\n        },\n{\n            'v': 57,\n            'f': \"57\",\n        },\n\"DE or Ambassador\"],\n [{\n            'v': 11,\n            'f': \"11\",\n        },\n\"kleinaberhannah\",\n\"over18_nsfw\",\nnull,\nnull,\n\"t\",\n{\n            'v': 1932,\n            'f': \"1932\",\n        },\n{\n            'v': 9,\n            'f': \"9\",\n        },\n{\n            'v': 29,\n            'f': \"29\",\n        },\n\"DE or Ambassador\"],\n [{\n            'v': 12,\n            'f': \"12\",\n        },\n\"cherryrebelle\",\n\"over18_nsfw\",\nnull,\nnull,\n\"t\",\n{\n            'v': 1865,\n            'f': \"1865\",\n        },\n{\n            'v': 4,\n            'f': \"4\",\n        },\n{\n            'v': 31,\n            'f': \"31\",\n        },\n\"DE or Ambassador\"],\n [{\n            'v': 13,\n            'f': \"13\",\n        },\n\"liensue\",\n\"over18_nsfw\",\nnull,\nnull,\n\"t\",\n{\n            'v': 1861,\n            'f': \"1861\",\n        },\n{\n            'v': 1,\n            'f': \"1\",\n        },\n{\n            'v': 4,\n            'f': \"4\",\n        },\n\"DE or Ambassador\"],\n [{\n            'v': 14,\n            'f': \"14\",\n        },\n\"frankfurtr4r\",\n\"over18_nsfw\",\nnull,\nnull,\n\"t\",\n{\n            'v': 1787,\n            'f': \"1787\",\n        },\n{\n            'v': 3,\n            'f': \"3\",\n        },\n{\n            'v': 0,\n            'f': \"0\",\n        },\n\"DE or Ambassador\"],\n [{\n            'v': 15,\n            'f': \"15\",\n        },\n\"famoseorte\",\n\"uncategorized\",\nnull,\nnull,\nnull,\n{\n            'v': 1743,\n            'f': \"1743\",\n        },\n{\n            'v': 53,\n            'f': \"53\",\n        },\n{\n            'v': 204,\n            'f': \"204\",\n        },\n\"DE or Ambassador\"],\n [{\n            'v': 16,\n            'f': \"16\",\n        },\n\"katjaglieson\",\n\"uncategorized\",\nnull,\nnull,\nnull,\n{\n            'v': 1651,\n            'f': \"1651\",\n        },\n{\n            'v': 7,\n            'f': \"7\",\n        },\n{\n            'v': 2,\n            'f': \"2\",\n        },\n\"DE or Ambassador\"],\n [{\n            'v': 17,\n            'f': \"17\",\n        },\n\"meiketosi\",\n\"uncategorized\",\nnull,\nnull,\nnull,\n{\n            'v': 1545,\n            'f': \"1545\",\n        },\n{\n            'v': 6,\n            'f': \"6\",\n        },\n{\n            'v': 14,\n            'f': \"14\",\n        },\n\"DE or Ambassador\"],\n [{\n            'v': 18,\n            'f': \"18\",\n        },\n\"binichdasarschloch\",\n\"uncategorized\",\nnull,\nnull,\nnull,\n{\n            'v': 1443,\n            'f': \"1443\",\n        },\n{\n            'v': 27,\n            'f': \"27\",\n        },\n{\n            'v': 242,\n            'f': \"242\",\n        },\n\"DE or Ambassador\"],\n [{\n            'v': 19,\n            'f': \"19\",\n        },\n\"yottasaving\",\n\"uncategorized\",\nnull,\nnull,\nnull,\n{\n            'v': 1341,\n            'f': \"1341\",\n        },\n{\n            'v': 1,\n            'f': \"1\",\n        },\n{\n            'v': 3,\n            'f': \"3\",\n        },\n\"DE or Ambassador\"],\n [{\n            'v': 20,\n            'f': \"20\",\n        },\n\"deutschepromis\",\n\"over18_nsfw\",\nnull,\nnull,\n\"t\",\n{\n            'v': 1291,\n            'f': \"1291\",\n        },\n{\n            'v': 3,\n            'f': \"3\",\n        },\n{\n            'v': 15,\n            'f': \"15\",\n        },\n\"DE or Ambassador\"],\n [{\n            'v': 21,\n            'f': \"21\",\n        },\n\"vorgeschichtenmaimais\",\n\"uncategorized\",\nnull,\nnull,\nnull,\n{\n            'v': 1266,\n            'f': \"1266\",\n        },\n{\n            'v': 2,\n            'f': \"2\",\n        },\n{\n            'v': 2,\n            'f': \"2\",\n        },\n\"DE or Ambassador\"],\n [{\n            'v': 22,\n            'f': \"22\",\n        },\n\"donaspockhot\",\n\"over18_nsfw\",\nnull,\nnull,\n\"t\",\n{\n            'v': 1221,\n            'f': \"1221\",\n        },\n{\n            'v': 14,\n            'f': \"14\",\n        },\n{\n            'v': 21,\n            'f': \"21\",\n        },\n\"DE or Ambassador\"],\n [{\n            'v': 23,\n            'f': \"23\",\n        },\n\"milschbaum\",\n\"uncategorized\",\nnull,\nnull,\nnull,\n{\n            'v': 1214,\n            'f': \"1214\",\n        },\n{\n            'v': 6,\n            'f': \"6\",\n        },\n{\n            'v': 1,\n            'f': \"1\",\n        },\n\"DE or Ambassador\"],\n [{\n            'v': 24,\n            'f': \"24\",\n        },\n\"gtade\",\n\"uncategorized\",\nnull,\nnull,\nnull,\n{\n            'v': 1099,\n            'f': \"1099\",\n        },\n{\n            'v': 44,\n            'f': \"44\",\n        },\n{\n            'v': 341,\n            'f': \"341\",\n        },\n\"DE or Ambassador\"],\n [{\n            'v': 25,\n            'f': \"25\",\n        },\n\"usa_de\",\n\"uncategorized\",\nnull,\nnull,\nnull,\n{\n            'v': 868,\n            'f': \"868\",\n        },\n{\n            'v': 161,\n            'f': \"161\",\n        },\n{\n            'v': 10,\n            'f': \"10\",\n        },\n\"DE or Ambassador\"],\n [{\n            'v': 26,\n            'f': \"26\",\n        },\n\"erotische_texte\",\n\"over18_nsfw\",\nnull,\nnull,\n\"t\",\n{\n            'v': 792,\n            'f': \"792\",\n        },\n{\n            'v': 2,\n            'f': \"2\",\n        },\n{\n            'v': 3,\n            'f': \"3\",\n        },\n\"DE or Ambassador\"],\n [{\n            'v': 27,\n            'f': \"27\",\n        },\n\"iris_mareike_steen\",\n\"over18_nsfw\",\nnull,\nnull,\n\"t\",\n{\n            'v': 784,\n            'f': \"784\",\n        },\n{\n            'v': 8,\n            'f': \"8\",\n        },\n{\n            'v': 6,\n            'f': \"6\",\n        },\n\"DE or Ambassador\"],\n [{\n            'v': 28,\n            'f': \"28\",\n        },\n\"valorantde\",\n\"uncategorized\",\nnull,\nnull,\nnull,\n{\n            'v': 757,\n            'f': \"757\",\n        },\n{\n            'v': 39,\n            'f': \"39\",\n        },\n{\n            'v': 290,\n            'f': \"290\",\n        },\n\"DE or Ambassador\"],\n [{\n            'v': 29,\n            'f': \"29\",\n        },\n\"wildgeworden\",\n\"over18_nsfw\",\nnull,\nnull,\n\"t\",\n{\n            'v': 655,\n            'f': \"655\",\n        },\n{\n            'v': 5,\n            'f': \"5\",\n        },\n{\n            'v': 6,\n            'f': \"6\",\n        },\n\"DE or Ambassador\"],\n [{\n            'v': 30,\n            'f': \"30\",\n        },\n\"amirawirth\",\n\"over18_nsfw\",\nnull,\nnull,\n\"t\",\n{\n            'v': 647,\n            'f': \"647\",\n        },\n{\n            'v': 12,\n            'f': \"12\",\n        },\n{\n            'v': 4,\n            'f': \"4\",\n        },\n\"DE or Ambassador\"],\n [{\n            'v': 31,\n            'f': \"31\",\n        },\n\"sachgeschichten\",\n\"uncategorized\",\nnull,\nnull,\nnull,\n{\n            'v': 527,\n            'f': \"527\",\n        },\n{\n            'v': 35,\n            'f': \"35\",\n        },\n{\n            'v': 9,\n            'f': \"9\",\n        },\n\"DE or Ambassador\"],\n [{\n            'v': 32,\n            'f': \"32\",\n        },\n\"onlyfanssleaks\",\n\"over18_nsfw\",\nnull,\nnull,\n\"t\",\n{\n            'v': 511,\n            'f': \"511\",\n        },\n{\n            'v': 3,\n            'f': \"3\",\n        },\n{\n            'v': 0,\n            'f': \"0\",\n        },\n\"DE or Ambassador\"],\n [{\n            'v': 33,\n            'f': \"33\",\n        },\n\"lisasophielaurent\",\n\"uncategorized\",\nnull,\nnull,\n\"f\",\n{\n            'v': 459,\n            'f': \"459\",\n        },\n{\n            'v': 3,\n            'f': \"3\",\n        },\n{\n            'v': 6,\n            'f': \"6\",\n        },\n\"DE or Ambassador\"],\n [{\n            'v': 34,\n            'f': \"34\",\n        },\n\"annmariedz\",\n\"over18_nsfw\",\nnull,\nnull,\n\"t\",\n{\n            'v': 458,\n            'f': \"458\",\n        },\n{\n            'v': 3,\n            'f': \"3\",\n        },\n{\n            'v': 2,\n            'f': \"2\",\n        },\n\"DE or Ambassador\"],\n [{\n            'v': 35,\n            'f': \"35\",\n        },\n\"catycake\",\n\"uncategorized\",\nnull,\nnull,\nnull,\n{\n            'v': 436,\n            'f': \"436\",\n        },\n{\n            'v': 2,\n            'f': \"2\",\n        },\n{\n            'v': 0,\n            'f': \"0\",\n        },\n\"DE or Ambassador\"],\n [{\n            'v': 36,\n            'f': \"36\",\n        },\n\"kriegdersterne\",\n\"uncategorized\",\nnull,\nnull,\nnull,\n{\n            'v': 422,\n            'f': \"422\",\n        },\n{\n            'v': 24,\n            'f': \"24\",\n        },\n{\n            'v': 160,\n            'f': \"160\",\n        },\n\"DE or Ambassador\"],\n [{\n            'v': 37,\n            'f': \"37\",\n        },\n\"jena\",\n\"uncategorized\",\nnull,\nnull,\n\"f\",\n{\n            'v': 419,\n            'f': \"419\",\n        },\n{\n            'v': 6,\n            'f': \"6\",\n        },\n{\n            'v': 26,\n            'f': \"26\",\n        },\n\"DE or Ambassador\"],\n [{\n            'v': 38,\n            'f': \"38\",\n        },\n\"nintendoswitchde\",\n\"uncategorized\",\nnull,\nnull,\n\"f\",\n{\n            'v': 413,\n            'f': \"413\",\n        },\n{\n            'v': 3,\n            'f': \"3\",\n        },\n{\n            'v': 3,\n            'f': \"3\",\n        },\n\"DE or Ambassador\"],\n [{\n            'v': 39,\n            'f': \"39\",\n        },\n\"esports_de\",\n\"uncategorized\",\nnull,\nnull,\nnull,\n{\n            'v': 383,\n            'f': \"383\",\n        },\n{\n            'v': 33,\n            'f': \"33\",\n        },\n{\n            'v': 28,\n            'f': \"28\",\n        },\n\"DE or Ambassador\"],\n [{\n            'v': 40,\n            'f': \"40\",\n        },\n\"holzwerken\",\n\"uncategorized\",\nnull,\nnull,\nnull,\n{\n            'v': 332,\n            'f': \"332\",\n        },\n{\n            'v': 9,\n            'f': \"9\",\n        },\n{\n            'v': 43,\n            'f': \"43\",\n        },\n\"DE or Ambassador\"],\n [{\n            'v': 41,\n            'f': \"41\",\n        },\n\"weltraum\",\n\"uncategorized\",\nnull,\nnull,\nnull,\n{\n            'v': 303,\n            'f': \"303\",\n        },\n{\n            'v': 38,\n            'f': \"38\",\n        },\n{\n            'v': 7,\n            'f': \"7\",\n        },\n\"DE or Ambassador\"],\n [{\n            'v': 42,\n            'f': \"42\",\n        },\n\"zelten\",\n\"uncategorized\",\nnull,\nnull,\nnull,\n{\n            'v': 301,\n            'f': \"301\",\n        },\n{\n            'v': 35,\n            'f': \"35\",\n        },\n{\n            'v': 28,\n            'f': \"28\",\n        },\n\"DE or Ambassador\"],\n [{\n            'v': 43,\n            'f': \"43\",\n        },\n\"tennis_de\",\n\"uncategorized\",\nnull,\nnull,\nnull,\n{\n            'v': 285,\n            'f': \"285\",\n        },\n{\n            'v': 21,\n            'f': \"21\",\n        },\n{\n            'v': 2,\n            'f': \"2\",\n        },\n\"DE or Ambassador\"],\n [{\n            'v': 44,\n            'f': \"44\",\n        },\n\"kommhuhnismus\",\n\"uncategorized\",\nnull,\nnull,\nnull,\n{\n            'v': 221,\n            'f': \"221\",\n        },\n{\n            'v': 2,\n            'f': \"2\",\n        },\n{\n            'v': 2,\n            'f': \"2\",\n        },\n\"DE or Ambassador\"],\n [{\n            'v': 45,\n            'f': \"45\",\n        },\n\"diesimpsons\",\n\"uncategorized\",\nnull,\nnull,\nnull,\n{\n            'v': 201,\n            'f': \"201\",\n        },\n{\n            'v': 29,\n            'f': \"29\",\n        },\n{\n            'v': 50,\n            'f': \"50\",\n        },\n\"DE or Ambassador\"],\n [{\n            'v': 46,\n            'f': \"46\",\n        },\n\"turnen\",\n\"uncategorized\",\nnull,\nnull,\nnull,\n{\n            'v': 89,\n            'f': \"89\",\n        },\n{\n            'v': 6,\n            'f': \"6\",\n        },\n{\n            'v': 1,\n            'f': \"1\",\n        },\n\"DE or Ambassador\"],\n [{\n            'v': 47,\n            'f': \"47\",\n        },\n\"baseball_de\",\n\"uncategorized\",\nnull,\nnull,\nnull,\n{\n            'v': 84,\n            'f': \"84\",\n        },\n{\n            'v': 33,\n            'f': \"33\",\n        },\n{\n            'v': 17,\n            'f': \"17\",\n        },\n\"DE or Ambassador\"],\n [{\n            'v': 48,\n            'f': \"48\",\n        },\n\"skating_de\",\n\"uncategorized\",\nnull,\nnull,\nnull,\n{\n            'v': 77,\n            'f': \"77\",\n        },\n{\n            'v': 12,\n            'f': \"12\",\n        },\n{\n            'v': 6,\n            'f': \"6\",\n        },\n\"DE or Ambassador\"],\n [{\n            'v': 49,\n            'f': \"49\",\n        },\n\"wassersport\",\n\"uncategorized\",\nnull,\nnull,\nnull,\n{\n            'v': 61,\n            'f': \"61\",\n        },\n{\n            'v': 21,\n            'f': \"21\",\n        },\n{\n            'v': 3,\n            'f': \"3\",\n        },\n\"DE or Ambassador\"],\n [{\n            'v': 50,\n            'f': \"50\",\n        },\n\"extremsport\",\n\"uncategorized\",\nnull,\nnull,\nnull,\n{\n            'v': 41,\n            'f': \"41\",\n        },\n{\n            'v': 16,\n            'f': \"16\",\n        },\n{\n            'v': 49,\n            'f': \"49\",\n        },\n\"DE or Ambassador\"],\n [{\n            'v': 51,\n            'f': \"51\",\n        },\n\"brauerei\",\n\"uncategorized\",\nnull,\nnull,\nnull,\n{\n            'v': 34,\n            'f': \"34\",\n        },\n{\n            'v': 8,\n            'f': \"8\",\n        },\n{\n            'v': 11,\n            'f': \"11\",\n        },\n\"DE or Ambassador\"],\n [{\n            'v': 52,\n            'f': \"52\",\n        },\n\"nachthimmel\",\n\"uncategorized\",\nnull,\nnull,\nnull,\n{\n            'v': 23,\n            'f': \"23\",\n        },\n{\n            'v': 4,\n            'f': \"4\",\n        },\n{\n            'v': 2,\n            'f': \"2\",\n        },\n\"DE or Ambassador\"],\n [{\n            'v': 53,\n            'f': \"53\",\n        },\n\"softwareschrott\",\n\"uncategorized\",\nnull,\nnull,\nnull,\n{\n            'v': 8,\n            'f': \"8\",\n        },\n{\n            'v': 0,\n            'f': \"0\",\n        },\n{\n            'v': 0,\n            'f': \"0\",\n        },\n\"DE or Ambassador\"],\n [{\n            'v': 54,\n            'f': \"54\",\n        },\n\"lacrosse_de\",\n\"uncategorized\",\nnull,\nnull,\nnull,\n{\n            'v': 5,\n            'f': \"5\",\n        },\n{\n            'v': 4,\n            'f': \"4\",\n        },\n{\n            'v': 0,\n            'f': \"0\",\n        },\n\"DE or Ambassador\"],\n [{\n            'v': 55,\n            'f': \"55\",\n        },\n\"holstein_kiel\",\n\"uncategorized\",\nnull,\nnull,\nnull,\n{\n            'v': 3,\n            'f': \"3\",\n        },\n{\n            'v': 0,\n            'f': \"0\",\n        },\n{\n            'v': 0,\n            'f': \"0\",\n        },\n\"DE or Ambassador\"],\n [{\n            'v': 56,\n            'f': \"56\",\n        },\n\"internetsicherheit\",\n\"uncategorized\",\nnull,\nnull,\nnull,\n{\n            'v': 0,\n            'f': \"0\",\n        },\n{\n            'v': 0,\n            'f': \"0\",\n        },\n{\n            'v': 0,\n            'f': \"0\",\n        },\n\"DE or Ambassador\"]],\n        columns: [[\"number\", \"index\"], [\"string\", \"subreddit_name\"], [\"string\", \"combined_topic_and_rating\"], [\"string\", \"rating\"], [\"string\", \"topic\"], [\"string\", \"over_18\"], [\"number\", \"users_l28\"], [\"number\", \"posts_l28\"], [\"number\", \"comments_l28\"], [\"string\", \"geo_relevant_de_or_ambassador\"]],\n        columnOptions: [{\"width\": \"1px\", \"className\": \"index_column\"}],\n        rowsPerPage: 25,\n        helpUrl: \"https://colab.research.google.com/notebooks/data_table.ipynb\",\n        suppressOutputScrolling: true,\n        minimumWidth: undefined,\n      });\n    ",
            "text/html": [
              "<div>\n",
              "<style scoped>\n",
              "    .dataframe tbody tr th:only-of-type {\n",
              "        vertical-align: middle;\n",
              "    }\n",
              "\n",
              "    .dataframe tbody tr th {\n",
              "        vertical-align: top;\n",
              "    }\n",
              "\n",
              "    .dataframe thead th {\n",
              "        text-align: right;\n",
              "    }\n",
              "</style>\n",
              "<table border=\"1\" class=\"dataframe\">\n",
              "  <thead>\n",
              "    <tr style=\"text-align: right;\">\n",
              "      <th></th>\n",
              "      <th>subreddit_name</th>\n",
              "      <th>combined_topic_and_rating</th>\n",
              "      <th>rating</th>\n",
              "      <th>topic</th>\n",
              "      <th>over_18</th>\n",
              "      <th>users_l28</th>\n",
              "      <th>posts_l28</th>\n",
              "      <th>comments_l28</th>\n",
              "      <th>geo_relevant_de_or_ambassador</th>\n",
              "    </tr>\n",
              "  </thead>\n",
              "  <tbody>\n",
              "    <tr>\n",
              "      <th>0</th>\n",
              "      <td>reved</td>\n",
              "      <td>uncategorized</td>\n",
              "      <td>None</td>\n",
              "      <td>None</td>\n",
              "      <td>f</td>\n",
              "      <td>26273</td>\n",
              "      <td>753</td>\n",
              "      <td>310</td>\n",
              "      <td>DE or Ambassador</td>\n",
              "    </tr>\n",
              "    <tr>\n",
              "      <th>1</th>\n",
              "      <td>elisaaline</td>\n",
              "      <td>over18_nsfw</td>\n",
              "      <td>None</td>\n",
              "      <td>None</td>\n",
              "      <td>t</td>\n",
              "      <td>17378</td>\n",
              "      <td>30</td>\n",
              "      <td>43</td>\n",
              "      <td>DE or Ambassador</td>\n",
              "    </tr>\n",
              "    <tr>\n",
              "      <th>2</th>\n",
              "      <td>suziegrime</td>\n",
              "      <td>over18_nsfw</td>\n",
              "      <td>None</td>\n",
              "      <td>None</td>\n",
              "      <td>t</td>\n",
              "      <td>13264</td>\n",
              "      <td>1</td>\n",
              "      <td>13</td>\n",
              "      <td>DE or Ambassador</td>\n",
              "    </tr>\n",
              "    <tr>\n",
              "      <th>3</th>\n",
              "      <td>kellymissesvlogof</td>\n",
              "      <td>over18_nsfw</td>\n",
              "      <td>nc17</td>\n",
              "      <td>Mature Themes and Adult Content</td>\n",
              "      <td>None</td>\n",
              "      <td>13028</td>\n",
              "      <td>5</td>\n",
              "      <td>0</td>\n",
              "      <td>DE or Ambassador</td>\n",
              "    </tr>\n",
              "    <tr>\n",
              "      <th>4</th>\n",
              "      <td>juliabeautxtributs</td>\n",
              "      <td>uncategorized</td>\n",
              "      <td>None</td>\n",
              "      <td>None</td>\n",
              "      <td>f</td>\n",
              "      <td>12308</td>\n",
              "      <td>58</td>\n",
              "      <td>59</td>\n",
              "      <td>DE or Ambassador</td>\n",
              "    </tr>\n",
              "    <tr>\n",
              "      <th>5</th>\n",
              "      <td>sophstardustasmrfap</td>\n",
              "      <td>uncategorized</td>\n",
              "      <td>None</td>\n",
              "      <td>None</td>\n",
              "      <td>None</td>\n",
              "      <td>6426</td>\n",
              "      <td>12</td>\n",
              "      <td>52</td>\n",
              "      <td>DE or Ambassador</td>\n",
              "    </tr>\n",
              "    <tr>\n",
              "      <th>6</th>\n",
              "      <td>justlucyofficial</td>\n",
              "      <td>uncategorized</td>\n",
              "      <td>None</td>\n",
              "      <td>None</td>\n",
              "      <td>None</td>\n",
              "      <td>6069</td>\n",
              "      <td>9</td>\n",
              "      <td>4</td>\n",
              "      <td>DE or Ambassador</td>\n",
              "    </tr>\n",
              "    <tr>\n",
              "      <th>7</th>\n",
              "      <td>kickbasemanager</td>\n",
              "      <td>uncategorized</td>\n",
              "      <td>None</td>\n",
              "      <td>None</td>\n",
              "      <td>f</td>\n",
              "      <td>4098</td>\n",
              "      <td>64</td>\n",
              "      <td>262</td>\n",
              "      <td>DE or Ambassador</td>\n",
              "    </tr>\n",
              "    <tr>\n",
              "      <th>8</th>\n",
              "      <td>american_football</td>\n",
              "      <td>uncategorized</td>\n",
              "      <td>None</td>\n",
              "      <td>None</td>\n",
              "      <td>None</td>\n",
              "      <td>3965</td>\n",
              "      <td>122</td>\n",
              "      <td>216</td>\n",
              "      <td>DE or Ambassador</td>\n",
              "    </tr>\n",
              "    <tr>\n",
              "      <th>9</th>\n",
              "      <td>reveddit</td>\n",
              "      <td>uncategorized</td>\n",
              "      <td>None</td>\n",
              "      <td>None</td>\n",
              "      <td>None</td>\n",
              "      <td>2666</td>\n",
              "      <td>6</td>\n",
              "      <td>18</td>\n",
              "      <td>DE or Ambassador</td>\n",
              "    </tr>\n",
              "    <tr>\n",
              "      <th>10</th>\n",
              "      <td>juliaschulzehot</td>\n",
              "      <td>uncategorized</td>\n",
              "      <td>None</td>\n",
              "      <td>None</td>\n",
              "      <td>f</td>\n",
              "      <td>2485</td>\n",
              "      <td>10</td>\n",
              "      <td>57</td>\n",
              "      <td>DE or Ambassador</td>\n",
              "    </tr>\n",
              "    <tr>\n",
              "      <th>11</th>\n",
              "      <td>kleinaberhannah</td>\n",
              "      <td>over18_nsfw</td>\n",
              "      <td>None</td>\n",
              "      <td>None</td>\n",
              "      <td>t</td>\n",
              "      <td>1932</td>\n",
              "      <td>9</td>\n",
              "      <td>29</td>\n",
              "      <td>DE or Ambassador</td>\n",
              "    </tr>\n",
              "    <tr>\n",
              "      <th>12</th>\n",
              "      <td>cherryrebelle</td>\n",
              "      <td>over18_nsfw</td>\n",
              "      <td>None</td>\n",
              "      <td>None</td>\n",
              "      <td>t</td>\n",
              "      <td>1865</td>\n",
              "      <td>4</td>\n",
              "      <td>31</td>\n",
              "      <td>DE or Ambassador</td>\n",
              "    </tr>\n",
              "    <tr>\n",
              "      <th>13</th>\n",
              "      <td>liensue</td>\n",
              "      <td>over18_nsfw</td>\n",
              "      <td>None</td>\n",
              "      <td>None</td>\n",
              "      <td>t</td>\n",
              "      <td>1861</td>\n",
              "      <td>1</td>\n",
              "      <td>4</td>\n",
              "      <td>DE or Ambassador</td>\n",
              "    </tr>\n",
              "    <tr>\n",
              "      <th>14</th>\n",
              "      <td>frankfurtr4r</td>\n",
              "      <td>over18_nsfw</td>\n",
              "      <td>None</td>\n",
              "      <td>None</td>\n",
              "      <td>t</td>\n",
              "      <td>1787</td>\n",
              "      <td>3</td>\n",
              "      <td>0</td>\n",
              "      <td>DE or Ambassador</td>\n",
              "    </tr>\n",
              "    <tr>\n",
              "      <th>15</th>\n",
              "      <td>famoseorte</td>\n",
              "      <td>uncategorized</td>\n",
              "      <td>None</td>\n",
              "      <td>None</td>\n",
              "      <td>None</td>\n",
              "      <td>1743</td>\n",
              "      <td>53</td>\n",
              "      <td>204</td>\n",
              "      <td>DE or Ambassador</td>\n",
              "    </tr>\n",
              "    <tr>\n",
              "      <th>16</th>\n",
              "      <td>katjaglieson</td>\n",
              "      <td>uncategorized</td>\n",
              "      <td>None</td>\n",
              "      <td>None</td>\n",
              "      <td>None</td>\n",
              "      <td>1651</td>\n",
              "      <td>7</td>\n",
              "      <td>2</td>\n",
              "      <td>DE or Ambassador</td>\n",
              "    </tr>\n",
              "    <tr>\n",
              "      <th>17</th>\n",
              "      <td>meiketosi</td>\n",
              "      <td>uncategorized</td>\n",
              "      <td>None</td>\n",
              "      <td>None</td>\n",
              "      <td>None</td>\n",
              "      <td>1545</td>\n",
              "      <td>6</td>\n",
              "      <td>14</td>\n",
              "      <td>DE or Ambassador</td>\n",
              "    </tr>\n",
              "    <tr>\n",
              "      <th>18</th>\n",
              "      <td>binichdasarschloch</td>\n",
              "      <td>uncategorized</td>\n",
              "      <td>None</td>\n",
              "      <td>None</td>\n",
              "      <td>None</td>\n",
              "      <td>1443</td>\n",
              "      <td>27</td>\n",
              "      <td>242</td>\n",
              "      <td>DE or Ambassador</td>\n",
              "    </tr>\n",
              "    <tr>\n",
              "      <th>19</th>\n",
              "      <td>yottasaving</td>\n",
              "      <td>uncategorized</td>\n",
              "      <td>None</td>\n",
              "      <td>None</td>\n",
              "      <td>None</td>\n",
              "      <td>1341</td>\n",
              "      <td>1</td>\n",
              "      <td>3</td>\n",
              "      <td>DE or Ambassador</td>\n",
              "    </tr>\n",
              "    <tr>\n",
              "      <th>20</th>\n",
              "      <td>deutschepromis</td>\n",
              "      <td>over18_nsfw</td>\n",
              "      <td>None</td>\n",
              "      <td>None</td>\n",
              "      <td>t</td>\n",
              "      <td>1291</td>\n",
              "      <td>3</td>\n",
              "      <td>15</td>\n",
              "      <td>DE or Ambassador</td>\n",
              "    </tr>\n",
              "    <tr>\n",
              "      <th>21</th>\n",
              "      <td>vorgeschichtenmaimais</td>\n",
              "      <td>uncategorized</td>\n",
              "      <td>None</td>\n",
              "      <td>None</td>\n",
              "      <td>None</td>\n",
              "      <td>1266</td>\n",
              "      <td>2</td>\n",
              "      <td>2</td>\n",
              "      <td>DE or Ambassador</td>\n",
              "    </tr>\n",
              "    <tr>\n",
              "      <th>22</th>\n",
              "      <td>donaspockhot</td>\n",
              "      <td>over18_nsfw</td>\n",
              "      <td>None</td>\n",
              "      <td>None</td>\n",
              "      <td>t</td>\n",
              "      <td>1221</td>\n",
              "      <td>14</td>\n",
              "      <td>21</td>\n",
              "      <td>DE or Ambassador</td>\n",
              "    </tr>\n",
              "    <tr>\n",
              "      <th>23</th>\n",
              "      <td>milschbaum</td>\n",
              "      <td>uncategorized</td>\n",
              "      <td>None</td>\n",
              "      <td>None</td>\n",
              "      <td>None</td>\n",
              "      <td>1214</td>\n",
              "      <td>6</td>\n",
              "      <td>1</td>\n",
              "      <td>DE or Ambassador</td>\n",
              "    </tr>\n",
              "    <tr>\n",
              "      <th>24</th>\n",
              "      <td>gtade</td>\n",
              "      <td>uncategorized</td>\n",
              "      <td>None</td>\n",
              "      <td>None</td>\n",
              "      <td>None</td>\n",
              "      <td>1099</td>\n",
              "      <td>44</td>\n",
              "      <td>341</td>\n",
              "      <td>DE or Ambassador</td>\n",
              "    </tr>\n",
              "    <tr>\n",
              "      <th>25</th>\n",
              "      <td>usa_de</td>\n",
              "      <td>uncategorized</td>\n",
              "      <td>None</td>\n",
              "      <td>None</td>\n",
              "      <td>None</td>\n",
              "      <td>868</td>\n",
              "      <td>161</td>\n",
              "      <td>10</td>\n",
              "      <td>DE or Ambassador</td>\n",
              "    </tr>\n",
              "    <tr>\n",
              "      <th>26</th>\n",
              "      <td>erotische_texte</td>\n",
              "      <td>over18_nsfw</td>\n",
              "      <td>None</td>\n",
              "      <td>None</td>\n",
              "      <td>t</td>\n",
              "      <td>792</td>\n",
              "      <td>2</td>\n",
              "      <td>3</td>\n",
              "      <td>DE or Ambassador</td>\n",
              "    </tr>\n",
              "    <tr>\n",
              "      <th>27</th>\n",
              "      <td>iris_mareike_steen</td>\n",
              "      <td>over18_nsfw</td>\n",
              "      <td>None</td>\n",
              "      <td>None</td>\n",
              "      <td>t</td>\n",
              "      <td>784</td>\n",
              "      <td>8</td>\n",
              "      <td>6</td>\n",
              "      <td>DE or Ambassador</td>\n",
              "    </tr>\n",
              "    <tr>\n",
              "      <th>28</th>\n",
              "      <td>valorantde</td>\n",
              "      <td>uncategorized</td>\n",
              "      <td>None</td>\n",
              "      <td>None</td>\n",
              "      <td>None</td>\n",
              "      <td>757</td>\n",
              "      <td>39</td>\n",
              "      <td>290</td>\n",
              "      <td>DE or Ambassador</td>\n",
              "    </tr>\n",
              "    <tr>\n",
              "      <th>29</th>\n",
              "      <td>wildgeworden</td>\n",
              "      <td>over18_nsfw</td>\n",
              "      <td>None</td>\n",
              "      <td>None</td>\n",
              "      <td>t</td>\n",
              "      <td>655</td>\n",
              "      <td>5</td>\n",
              "      <td>6</td>\n",
              "      <td>DE or Ambassador</td>\n",
              "    </tr>\n",
              "    <tr>\n",
              "      <th>30</th>\n",
              "      <td>amirawirth</td>\n",
              "      <td>over18_nsfw</td>\n",
              "      <td>None</td>\n",
              "      <td>None</td>\n",
              "      <td>t</td>\n",
              "      <td>647</td>\n",
              "      <td>12</td>\n",
              "      <td>4</td>\n",
              "      <td>DE or Ambassador</td>\n",
              "    </tr>\n",
              "    <tr>\n",
              "      <th>31</th>\n",
              "      <td>sachgeschichten</td>\n",
              "      <td>uncategorized</td>\n",
              "      <td>None</td>\n",
              "      <td>None</td>\n",
              "      <td>None</td>\n",
              "      <td>527</td>\n",
              "      <td>35</td>\n",
              "      <td>9</td>\n",
              "      <td>DE or Ambassador</td>\n",
              "    </tr>\n",
              "    <tr>\n",
              "      <th>32</th>\n",
              "      <td>onlyfanssleaks</td>\n",
              "      <td>over18_nsfw</td>\n",
              "      <td>None</td>\n",
              "      <td>None</td>\n",
              "      <td>t</td>\n",
              "      <td>511</td>\n",
              "      <td>3</td>\n",
              "      <td>0</td>\n",
              "      <td>DE or Ambassador</td>\n",
              "    </tr>\n",
              "    <tr>\n",
              "      <th>33</th>\n",
              "      <td>lisasophielaurent</td>\n",
              "      <td>uncategorized</td>\n",
              "      <td>None</td>\n",
              "      <td>None</td>\n",
              "      <td>f</td>\n",
              "      <td>459</td>\n",
              "      <td>3</td>\n",
              "      <td>6</td>\n",
              "      <td>DE or Ambassador</td>\n",
              "    </tr>\n",
              "    <tr>\n",
              "      <th>34</th>\n",
              "      <td>annmariedz</td>\n",
              "      <td>over18_nsfw</td>\n",
              "      <td>None</td>\n",
              "      <td>None</td>\n",
              "      <td>t</td>\n",
              "      <td>458</td>\n",
              "      <td>3</td>\n",
              "      <td>2</td>\n",
              "      <td>DE or Ambassador</td>\n",
              "    </tr>\n",
              "    <tr>\n",
              "      <th>35</th>\n",
              "      <td>catycake</td>\n",
              "      <td>uncategorized</td>\n",
              "      <td>None</td>\n",
              "      <td>None</td>\n",
              "      <td>None</td>\n",
              "      <td>436</td>\n",
              "      <td>2</td>\n",
              "      <td>0</td>\n",
              "      <td>DE or Ambassador</td>\n",
              "    </tr>\n",
              "    <tr>\n",
              "      <th>36</th>\n",
              "      <td>kriegdersterne</td>\n",
              "      <td>uncategorized</td>\n",
              "      <td>None</td>\n",
              "      <td>None</td>\n",
              "      <td>None</td>\n",
              "      <td>422</td>\n",
              "      <td>24</td>\n",
              "      <td>160</td>\n",
              "      <td>DE or Ambassador</td>\n",
              "    </tr>\n",
              "    <tr>\n",
              "      <th>37</th>\n",
              "      <td>jena</td>\n",
              "      <td>uncategorized</td>\n",
              "      <td>None</td>\n",
              "      <td>None</td>\n",
              "      <td>f</td>\n",
              "      <td>419</td>\n",
              "      <td>6</td>\n",
              "      <td>26</td>\n",
              "      <td>DE or Ambassador</td>\n",
              "    </tr>\n",
              "    <tr>\n",
              "      <th>38</th>\n",
              "      <td>nintendoswitchde</td>\n",
              "      <td>uncategorized</td>\n",
              "      <td>None</td>\n",
              "      <td>None</td>\n",
              "      <td>f</td>\n",
              "      <td>413</td>\n",
              "      <td>3</td>\n",
              "      <td>3</td>\n",
              "      <td>DE or Ambassador</td>\n",
              "    </tr>\n",
              "    <tr>\n",
              "      <th>39</th>\n",
              "      <td>esports_de</td>\n",
              "      <td>uncategorized</td>\n",
              "      <td>None</td>\n",
              "      <td>None</td>\n",
              "      <td>None</td>\n",
              "      <td>383</td>\n",
              "      <td>33</td>\n",
              "      <td>28</td>\n",
              "      <td>DE or Ambassador</td>\n",
              "    </tr>\n",
              "    <tr>\n",
              "      <th>40</th>\n",
              "      <td>holzwerken</td>\n",
              "      <td>uncategorized</td>\n",
              "      <td>None</td>\n",
              "      <td>None</td>\n",
              "      <td>None</td>\n",
              "      <td>332</td>\n",
              "      <td>9</td>\n",
              "      <td>43</td>\n",
              "      <td>DE or Ambassador</td>\n",
              "    </tr>\n",
              "    <tr>\n",
              "      <th>41</th>\n",
              "      <td>weltraum</td>\n",
              "      <td>uncategorized</td>\n",
              "      <td>None</td>\n",
              "      <td>None</td>\n",
              "      <td>None</td>\n",
              "      <td>303</td>\n",
              "      <td>38</td>\n",
              "      <td>7</td>\n",
              "      <td>DE or Ambassador</td>\n",
              "    </tr>\n",
              "    <tr>\n",
              "      <th>42</th>\n",
              "      <td>zelten</td>\n",
              "      <td>uncategorized</td>\n",
              "      <td>None</td>\n",
              "      <td>None</td>\n",
              "      <td>None</td>\n",
              "      <td>301</td>\n",
              "      <td>35</td>\n",
              "      <td>28</td>\n",
              "      <td>DE or Ambassador</td>\n",
              "    </tr>\n",
              "    <tr>\n",
              "      <th>43</th>\n",
              "      <td>tennis_de</td>\n",
              "      <td>uncategorized</td>\n",
              "      <td>None</td>\n",
              "      <td>None</td>\n",
              "      <td>None</td>\n",
              "      <td>285</td>\n",
              "      <td>21</td>\n",
              "      <td>2</td>\n",
              "      <td>DE or Ambassador</td>\n",
              "    </tr>\n",
              "    <tr>\n",
              "      <th>44</th>\n",
              "      <td>kommhuhnismus</td>\n",
              "      <td>uncategorized</td>\n",
              "      <td>None</td>\n",
              "      <td>None</td>\n",
              "      <td>None</td>\n",
              "      <td>221</td>\n",
              "      <td>2</td>\n",
              "      <td>2</td>\n",
              "      <td>DE or Ambassador</td>\n",
              "    </tr>\n",
              "    <tr>\n",
              "      <th>45</th>\n",
              "      <td>diesimpsons</td>\n",
              "      <td>uncategorized</td>\n",
              "      <td>None</td>\n",
              "      <td>None</td>\n",
              "      <td>None</td>\n",
              "      <td>201</td>\n",
              "      <td>29</td>\n",
              "      <td>50</td>\n",
              "      <td>DE or Ambassador</td>\n",
              "    </tr>\n",
              "    <tr>\n",
              "      <th>46</th>\n",
              "      <td>turnen</td>\n",
              "      <td>uncategorized</td>\n",
              "      <td>None</td>\n",
              "      <td>None</td>\n",
              "      <td>None</td>\n",
              "      <td>89</td>\n",
              "      <td>6</td>\n",
              "      <td>1</td>\n",
              "      <td>DE or Ambassador</td>\n",
              "    </tr>\n",
              "    <tr>\n",
              "      <th>47</th>\n",
              "      <td>baseball_de</td>\n",
              "      <td>uncategorized</td>\n",
              "      <td>None</td>\n",
              "      <td>None</td>\n",
              "      <td>None</td>\n",
              "      <td>84</td>\n",
              "      <td>33</td>\n",
              "      <td>17</td>\n",
              "      <td>DE or Ambassador</td>\n",
              "    </tr>\n",
              "    <tr>\n",
              "      <th>48</th>\n",
              "      <td>skating_de</td>\n",
              "      <td>uncategorized</td>\n",
              "      <td>None</td>\n",
              "      <td>None</td>\n",
              "      <td>None</td>\n",
              "      <td>77</td>\n",
              "      <td>12</td>\n",
              "      <td>6</td>\n",
              "      <td>DE or Ambassador</td>\n",
              "    </tr>\n",
              "    <tr>\n",
              "      <th>49</th>\n",
              "      <td>wassersport</td>\n",
              "      <td>uncategorized</td>\n",
              "      <td>None</td>\n",
              "      <td>None</td>\n",
              "      <td>None</td>\n",
              "      <td>61</td>\n",
              "      <td>21</td>\n",
              "      <td>3</td>\n",
              "      <td>DE or Ambassador</td>\n",
              "    </tr>\n",
              "    <tr>\n",
              "      <th>50</th>\n",
              "      <td>extremsport</td>\n",
              "      <td>uncategorized</td>\n",
              "      <td>None</td>\n",
              "      <td>None</td>\n",
              "      <td>None</td>\n",
              "      <td>41</td>\n",
              "      <td>16</td>\n",
              "      <td>49</td>\n",
              "      <td>DE or Ambassador</td>\n",
              "    </tr>\n",
              "    <tr>\n",
              "      <th>51</th>\n",
              "      <td>brauerei</td>\n",
              "      <td>uncategorized</td>\n",
              "      <td>None</td>\n",
              "      <td>None</td>\n",
              "      <td>None</td>\n",
              "      <td>34</td>\n",
              "      <td>8</td>\n",
              "      <td>11</td>\n",
              "      <td>DE or Ambassador</td>\n",
              "    </tr>\n",
              "    <tr>\n",
              "      <th>52</th>\n",
              "      <td>nachthimmel</td>\n",
              "      <td>uncategorized</td>\n",
              "      <td>None</td>\n",
              "      <td>None</td>\n",
              "      <td>None</td>\n",
              "      <td>23</td>\n",
              "      <td>4</td>\n",
              "      <td>2</td>\n",
              "      <td>DE or Ambassador</td>\n",
              "    </tr>\n",
              "    <tr>\n",
              "      <th>53</th>\n",
              "      <td>softwareschrott</td>\n",
              "      <td>uncategorized</td>\n",
              "      <td>None</td>\n",
              "      <td>None</td>\n",
              "      <td>None</td>\n",
              "      <td>8</td>\n",
              "      <td>0</td>\n",
              "      <td>0</td>\n",
              "      <td>DE or Ambassador</td>\n",
              "    </tr>\n",
              "    <tr>\n",
              "      <th>54</th>\n",
              "      <td>lacrosse_de</td>\n",
              "      <td>uncategorized</td>\n",
              "      <td>None</td>\n",
              "      <td>None</td>\n",
              "      <td>None</td>\n",
              "      <td>5</td>\n",
              "      <td>4</td>\n",
              "      <td>0</td>\n",
              "      <td>DE or Ambassador</td>\n",
              "    </tr>\n",
              "    <tr>\n",
              "      <th>55</th>\n",
              "      <td>holstein_kiel</td>\n",
              "      <td>uncategorized</td>\n",
              "      <td>None</td>\n",
              "      <td>None</td>\n",
              "      <td>None</td>\n",
              "      <td>3</td>\n",
              "      <td>0</td>\n",
              "      <td>0</td>\n",
              "      <td>DE or Ambassador</td>\n",
              "    </tr>\n",
              "    <tr>\n",
              "      <th>56</th>\n",
              "      <td>internetsicherheit</td>\n",
              "      <td>uncategorized</td>\n",
              "      <td>None</td>\n",
              "      <td>None</td>\n",
              "      <td>None</td>\n",
              "      <td>0</td>\n",
              "      <td>0</td>\n",
              "      <td>0</td>\n",
              "      <td>DE or Ambassador</td>\n",
              "    </tr>\n",
              "  </tbody>\n",
              "</table>\n",
              "</div>"
            ],
            "text/plain": [
              "           subreddit_name  ... geo_relevant_de_or_ambassador\n",
              "0                   reved  ...              DE or Ambassador\n",
              "1              elisaaline  ...              DE or Ambassador\n",
              "2              suziegrime  ...              DE or Ambassador\n",
              "3       kellymissesvlogof  ...              DE or Ambassador\n",
              "4      juliabeautxtributs  ...              DE or Ambassador\n",
              "5     sophstardustasmrfap  ...              DE or Ambassador\n",
              "6        justlucyofficial  ...              DE or Ambassador\n",
              "7         kickbasemanager  ...              DE or Ambassador\n",
              "8       american_football  ...              DE or Ambassador\n",
              "9                reveddit  ...              DE or Ambassador\n",
              "10        juliaschulzehot  ...              DE or Ambassador\n",
              "11        kleinaberhannah  ...              DE or Ambassador\n",
              "12          cherryrebelle  ...              DE or Ambassador\n",
              "13                liensue  ...              DE or Ambassador\n",
              "14           frankfurtr4r  ...              DE or Ambassador\n",
              "15             famoseorte  ...              DE or Ambassador\n",
              "16           katjaglieson  ...              DE or Ambassador\n",
              "17              meiketosi  ...              DE or Ambassador\n",
              "18     binichdasarschloch  ...              DE or Ambassador\n",
              "19            yottasaving  ...              DE or Ambassador\n",
              "20         deutschepromis  ...              DE or Ambassador\n",
              "21  vorgeschichtenmaimais  ...              DE or Ambassador\n",
              "22           donaspockhot  ...              DE or Ambassador\n",
              "23             milschbaum  ...              DE or Ambassador\n",
              "24                  gtade  ...              DE or Ambassador\n",
              "25                 usa_de  ...              DE or Ambassador\n",
              "26        erotische_texte  ...              DE or Ambassador\n",
              "27     iris_mareike_steen  ...              DE or Ambassador\n",
              "28             valorantde  ...              DE or Ambassador\n",
              "29           wildgeworden  ...              DE or Ambassador\n",
              "30             amirawirth  ...              DE or Ambassador\n",
              "31        sachgeschichten  ...              DE or Ambassador\n",
              "32         onlyfanssleaks  ...              DE or Ambassador\n",
              "33      lisasophielaurent  ...              DE or Ambassador\n",
              "34             annmariedz  ...              DE or Ambassador\n",
              "35               catycake  ...              DE or Ambassador\n",
              "36         kriegdersterne  ...              DE or Ambassador\n",
              "37                   jena  ...              DE or Ambassador\n",
              "38       nintendoswitchde  ...              DE or Ambassador\n",
              "39             esports_de  ...              DE or Ambassador\n",
              "40             holzwerken  ...              DE or Ambassador\n",
              "41               weltraum  ...              DE or Ambassador\n",
              "42                 zelten  ...              DE or Ambassador\n",
              "43              tennis_de  ...              DE or Ambassador\n",
              "44          kommhuhnismus  ...              DE or Ambassador\n",
              "45            diesimpsons  ...              DE or Ambassador\n",
              "46                 turnen  ...              DE or Ambassador\n",
              "47            baseball_de  ...              DE or Ambassador\n",
              "48             skating_de  ...              DE or Ambassador\n",
              "49            wassersport  ...              DE or Ambassador\n",
              "50            extremsport  ...              DE or Ambassador\n",
              "51               brauerei  ...              DE or Ambassador\n",
              "52            nachthimmel  ...              DE or Ambassador\n",
              "53        softwareschrott  ...              DE or Ambassador\n",
              "54            lacrosse_de  ...              DE or Ambassador\n",
              "55          holstein_kiel  ...              DE or Ambassador\n",
              "56     internetsicherheit  ...              DE or Ambassador\n",
              "\n",
              "[57 rows x 9 columns]"
            ]
          },
          "metadata": {
            "tags": []
          },
          "execution_count": 69
        }
      ]
    },
    {
      "cell_type": "code",
      "metadata": {
        "colab": {
          "base_uri": "https://localhost:8080/",
          "height": 35
        },
        "id": "FtFHQwrGyHHM",
        "outputId": "e262c6f4-4b8f-4456-b1c6-1af9ba85a4aa"
      },
      "source": [
        "import os\n",
        "os.getcwd()"
      ],
      "execution_count": 71,
      "outputs": [
        {
          "output_type": "execute_result",
          "data": {
            "application/vnd.google.colaboratory.intrinsic+json": {
              "type": "string"
            },
            "text/plain": [
              "'/content'"
            ]
          },
          "metadata": {
            "tags": []
          },
          "execution_count": 71
        }
      ]
    },
    {
      "cell_type": "markdown",
      "metadata": {
        "id": "Nhw_KF97zgS1"
      },
      "source": [
        "### Save only the new subs"
      ]
    },
    {
      "cell_type": "code",
      "metadata": {
        "id": "u5quLH0OxHgl"
      },
      "source": [
        "(\n",
        "    df_v32[df_v32['subreddit_name'].isin(set_subs_de_and_new_in_v32)]\n",
        "    .sort_values(by=['users_l28', 'posts_l28'], ascending=False)\n",
        "    .reset_index(drop=True)\n",
        "    .to_csv(\"/content/gdrive/MyDrive/Colab Notebooks/data/new_DE_subreddits_in_v0.3.2_to_tag.csv\")\n",
        ")"
      ],
      "execution_count": 74,
      "outputs": []
    },
    {
      "cell_type": "markdown",
      "metadata": {
        "id": "L7D7-5srzq-i"
      },
      "source": [
        "### Create new column for whether subreddit was in v31 and v32"
      ]
    },
    {
      "cell_type": "code",
      "metadata": {
        "id": "2aqlVu-YzzLX"
      },
      "source": [
        "df_v32.loc[df_v32['subreddit_name'].isin(set_subs_de_or_ambassador)\n",
        "           , 'subreddit_in_v31_or_v32'] = 'in v0.3.2'\n",
        "\n",
        "df_v32.loc[df_v32['subreddit_name'].isin(set_in_both_v31_and_v32)\n",
        "           , 'subreddit_in_v31_or_v32'] = 'in both v0.3.1 & v0.3.2'\n"
      ],
      "execution_count": 75,
      "outputs": []
    },
    {
      "cell_type": "code",
      "metadata": {
        "colab": {
          "base_uri": "https://localhost:8080/",
          "height": 99
        },
        "id": "iuiTlxZV0lnN",
        "outputId": "c5e2cef3-e27f-4138-fb9d-8adea53c5062"
      },
      "source": [
        "value_counts_and_pcts(\n",
        "    df_v32[df_v32['subreddit_name'].isin(set_subs_de_or_ambassador)]\n",
        "    ['subreddit_in_v31_or_v32']\n",
        ")"
      ],
      "execution_count": 77,
      "outputs": [
        {
          "output_type": "execute_result",
          "data": {
            "text/html": [
              "<style  type=\"text/css\" >\n",
              "#T_58f41210_fc8d_11eb_82a9_0242ac1c0002row0_col1,#T_58f41210_fc8d_11eb_82a9_0242ac1c0002row1_col2{\n",
              "            width:  10em;\n",
              "             height:  80%;\n",
              "            background:  linear-gradient(90deg,#95cff5 100.0%, transparent 100.0%);\n",
              "        }#T_58f41210_fc8d_11eb_82a9_0242ac1c0002row0_col2,#T_58f41210_fc8d_11eb_82a9_0242ac1c0002row1_col1{\n",
              "            width:  10em;\n",
              "             height:  80%;\n",
              "        }</style><table id=\"T_58f41210_fc8d_11eb_82a9_0242ac1c0002\" ><thead>    <tr>        <th class=\"blank level0\" ></th>        <th class=\"col_heading level0 col0\" >subreddit_in_v31_or_v32-count</th>        <th class=\"col_heading level0 col1\" >subreddit_in_v31_or_v32-percent</th>        <th class=\"col_heading level0 col2\" >subreddit_in_v31_or_v32-pct_cumulative_sum</th>    </tr></thead><tbody>\n",
              "                <tr>\n",
              "                        <th id=\"T_58f41210_fc8d_11eb_82a9_0242ac1c0002level0_row0\" class=\"row_heading level0 row0\" >in both v0.3.1 & v0.3.2</th>\n",
              "                        <td id=\"T_58f41210_fc8d_11eb_82a9_0242ac1c0002row0_col0\" class=\"data row0 col0\" >530</td>\n",
              "                        <td id=\"T_58f41210_fc8d_11eb_82a9_0242ac1c0002row0_col1\" class=\"data row0 col1\" >90.3%</td>\n",
              "                        <td id=\"T_58f41210_fc8d_11eb_82a9_0242ac1c0002row0_col2\" class=\"data row0 col2\" >90.3%</td>\n",
              "            </tr>\n",
              "            <tr>\n",
              "                        <th id=\"T_58f41210_fc8d_11eb_82a9_0242ac1c0002level0_row1\" class=\"row_heading level0 row1\" >in v0.3.2</th>\n",
              "                        <td id=\"T_58f41210_fc8d_11eb_82a9_0242ac1c0002row1_col0\" class=\"data row1 col0\" >57</td>\n",
              "                        <td id=\"T_58f41210_fc8d_11eb_82a9_0242ac1c0002row1_col1\" class=\"data row1 col1\" >9.7%</td>\n",
              "                        <td id=\"T_58f41210_fc8d_11eb_82a9_0242ac1c0002row1_col2\" class=\"data row1 col2\" >100.0%</td>\n",
              "            </tr>\n",
              "    </tbody></table>"
            ],
            "text/plain": [
              "<pandas.io.formats.style.Styler at 0x7fb939e7b290>"
            ]
          },
          "metadata": {
            "tags": []
          },
          "execution_count": 77
        }
      ]
    },
    {
      "cell_type": "markdown",
      "metadata": {
        "id": "DI0yeKO-1GiD"
      },
      "source": [
        "## Save all the subs to rate, include user counts & flag for whether sub was included in v31 or v32"
      ]
    },
    {
      "cell_type": "code",
      "metadata": {
        "id": "y2uA3iBO1HLs"
      },
      "source": [
        "(\n",
        "    df_v32[df_v32['subreddit_name'].isin(set_subs_de_or_ambassador)]\n",
        "    .sort_values(by=['users_l28', 'posts_l28'], ascending=False)\n",
        "    .reset_index(drop=True)\n",
        "    .to_csv(\"/content/gdrive/MyDrive/Colab Notebooks/data/All_DE_subreddits_in_v0.3.2_to_tag.csv\")\n",
        ")"
      ],
      "execution_count": 80,
      "outputs": []
    },
    {
      "cell_type": "code",
      "metadata": {
        "id": "sqolfvcDyyoK"
      },
      "source": [
        ""
      ],
      "execution_count": null,
      "outputs": []
    }
  ]
}