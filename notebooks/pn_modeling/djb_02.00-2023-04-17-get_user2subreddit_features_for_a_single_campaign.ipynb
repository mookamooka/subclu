{
 "cells": [
  {
   "cell_type": "markdown",
   "id": "95114513",
   "metadata": {},
   "source": [
    "# Purpose\n",
    "\n",
    "\n",
    "**2023-04-17**:<br>\n",
    "<br> In this notebook we'll try an end-to-end process to get ANN for a single campaign\n",
    "\n",
    "- Pull data:\n",
    "    - User Time on Subreddit (save to local now, GCS in prod)\n",
    "    - Get subreddit-level embeddings (save to local, GCS in prod)\n",
    "- Reshape to get user-embeddings\n",
    "    - For each ToSub file, get weighted embeddings for a user\n",
    "        - Save user-level (weighted) embeddings to file\n",
    "- Calculate ANN distance to input subreddit(s)\n",
    "    - Create an index with ANNOY: per COUNTRY + subreddit\n",
    "        - This way we ensure a minimum # of users per country\n",
    "    - Load subreddit-embedding file\n",
    "    - For each input target subreddit, get the ANN users\n",
    "        - Try nearest 3 million users\n",
    "    - Save raw ANN file\n",
    "- Save file ready for model training\n",
    "\n",
    "TODO later / out of scope\n",
    "- Split training file into k-fold validation or train/test\n",
    "- Train base models (do it a separate notebook)\n",
    "- [later/tbd] Reshape ANN table & upload to BQ table\n",
    "    - Reshape ANN file for BigQuery format\n",
    "    - Upload ANN file to BQ for table creation\n",
    "\n",
    "\n"
   ]
  },
  {
   "cell_type": "markdown",
   "id": "3996f275",
   "metadata": {},
   "source": [
    "# Imports & Setup"
   ]
  },
  {
   "cell_type": "code",
   "execution_count": 1,
   "id": "a5c0a9ac",
   "metadata": {},
   "outputs": [],
   "source": [
    "%load_ext autoreload\n",
    "%autoreload 2"
   ]
  },
  {
   "cell_type": "code",
   "execution_count": 74,
   "id": "71cf4853",
   "metadata": {},
   "outputs": [
    {
     "name": "stdout",
     "output_type": "stream",
     "text": [
      "python\t\tv 3.7.10\n",
      "===\n",
      "google.cloud.bigquery\tv: 2.13.1\n",
      "numpy\t\tv: 1.19.5\n",
      "pandas\t\tv: 1.2.4\n",
      "polars\t\tv: 0.17.1\n",
      "plotly\t\tv: 5.11.0\n",
      "mlflow\t\tv: 1.16.0\n",
      "subclu\t\tv: 0.6.1\n"
     ]
    }
   ],
   "source": [
    "from datetime import datetime\n",
    "import gc\n",
    "import logging\n",
    "from logging import info\n",
    "import os\n",
    "from pathlib import Path\n",
    "import json\n",
    "\n",
    "import polars as pl\n",
    "import numpy as np\n",
    "import pandas as pd\n",
    "import plotly\n",
    "import seaborn as sns\n",
    "\n",
    "from tqdm.auto import tqdm\n",
    "import dask\n",
    "import mlflow\n",
    "\n",
    "import subclu\n",
    "from subclu.eda.aggregates import compare_raw_v_weighted_language\n",
    "from subclu.utils import set_working_directory, get_project_subfolder\n",
    "from subclu.utils.eda import (\n",
    "    setup_logging, counts_describe, value_counts_and_pcts,\n",
    "    notebook_display_config, print_lib_versions,\n",
    "    style_df_numeric, reorder_array,\n",
    ")\n",
    "from subclu.utils.mlflow_logger import MlflowLogger\n",
    "from subclu.utils.hydra_config_loader import LoadHydraConfig\n",
    "from subclu.utils.data_irl_style import (\n",
    "    get_colormap, theme_dirl, \n",
    "    get_color_dict, base_colors_for_manual_labels,\n",
    "    check_colors_used,\n",
    ")\n",
    "from subclu.data.data_loaders import LoadPosts, LoadSubreddits, create_sub_level_aggregates\n",
    "\n",
    "\n",
    "# ===\n",
    "# imports specific to this notebook\n",
    "from typing import Tuple, Union\n",
    "\n",
    "from subclu.models.nn_annoy import AnnoyIndex\n",
    "from subclu.utils.eda import get_venn_sets2\n",
    "\n",
    "from matplotlib_venn import venn2_unweighted\n",
    "\n",
    "from google.cloud import bigquery\n",
    "from subclu.pn_models import get_data\n",
    "\n",
    "\n",
    "client = bigquery.Client()\n",
    "\n",
    "print_lib_versions([bigquery, np, pd, pl, plotly, mlflow, subclu])"
   ]
  },
  {
   "cell_type": "code",
   "execution_count": 3,
   "id": "e23029aa",
   "metadata": {},
   "outputs": [],
   "source": [
    "# plotting\n",
    "import matplotlib.pyplot as plt\n",
    "import matplotlib.ticker as mtick\n",
    "import matplotlib.dates as mdates\n",
    "plt.style.use('default')\n",
    "\n",
    "setup_logging()\n",
    "notebook_display_config()"
   ]
  },
  {
   "cell_type": "markdown",
   "id": "008df02a",
   "metadata": {},
   "source": [
    "# Define local path for this model outputs"
   ]
  },
  {
   "cell_type": "code",
   "execution_count": 4,
   "id": "e7f7d695",
   "metadata": {},
   "outputs": [
    {
     "name": "stdout",
     "output_type": "stream",
     "text": [
      "/home/jupyter/subreddit_clustering_i18n/data/models/pn_model/pn_manual_test_2023-04-17_182332\n"
     ]
    }
   ],
   "source": [
    "manual_model_timestamp = datetime.utcnow().strftime('%Y-%m-%d_%H%M%S')\n",
    "path_this_model = get_project_subfolder(\n",
    "    f\"data/models/pn_model/pn_manual_test_{manual_model_timestamp}\"\n",
    ")\n",
    "Path.mkdir(path_this_model, parents=True, exist_ok=True)\n",
    "print(path_this_model)"
   ]
  },
  {
   "cell_type": "markdown",
   "id": "83de386d",
   "metadata": {},
   "source": [
    "# Define key inputs\n",
    "Use these throughout the process to filter/target specific subreddits, geos, & users"
   ]
  },
  {
   "cell_type": "code",
   "execution_count": 5,
   "id": "05aa99c2",
   "metadata": {},
   "outputs": [],
   "source": [
    "l_target_subreddits = ['de']\n",
    "\n",
    "# We would want to add an automated way to pick these ANN subs, but look them up manually for now\n",
    "l_target_ann_subreddits = ['fragreddit', 'ich_iel']\n",
    "\n",
    "l_target_geos = ['DE']"
   ]
  },
  {
   "cell_type": "markdown",
   "id": "adf879d8",
   "metadata": {},
   "source": [
    "# Get subreddit-level embeddings\n",
    "\n",
    "For this part BigQuery + pandas is fast enough.\n",
    "\n",
    "Model partition (`pt`) is generally trained on a Tuesday.\n",
    "\n",
    "ETA: \n",
    "- ~ 20 seconds to pull the data\n",
    "- ~15 seconds to conver to wide format\n",
    "\n",
    "Example:\n",
    "```bash\n",
    "pt\n",
    "0\t2022-11-22\n",
    "1\t2022-11-29\n",
    "2\t2022-12-06\n",
    "3\t2022-12-13\n",
    "4\t2022-12-20\n",
    "5\t2022-12-27\n",
    "```"
   ]
  },
  {
   "cell_type": "code",
   "execution_count": 6,
   "id": "7304c0e1",
   "metadata": {},
   "outputs": [
    {
     "name": "stderr",
     "output_type": "stream",
     "text": [
      "Query complete after 0.00s: 100%|██████████| 1/1 [00:00<00:00, 1420.35query/s]\n",
      "Downloading: 100%|██████████| 236115/236115 [00:02<00:00, 80557.25rows/s] \n"
     ]
    },
    {
     "name": "stdout",
     "output_type": "stream",
     "text": [
      "CPU times: user 654 ms, sys: 401 ms, total: 1.06 s\n",
      "Wall time: 4.76 s\n"
     ]
    }
   ],
   "source": [
    "%%time\n",
    "%%bigquery df_sub_emb_raw --project data-science-prod-218515 \n",
    "\n",
    "-- We do the un-nesting in pandas because with UNNESTING in SQL ORDER IS NOT GUARANTEED!\n",
    "SELECT\n",
    "  subreddit_id\n",
    "  , subreddit_name\n",
    "  , ARRAY_CONCAT(embedding) AS embedding\n",
    "\n",
    "FROM `data-prod-165221.ml_content.subreddit_embeddings_ft2`\n",
    "WHERE DATE(pt) = '2022-11-29'"
   ]
  },
  {
   "cell_type": "code",
   "execution_count": 7,
   "id": "b97fad5f",
   "metadata": {},
   "outputs": [
    {
     "name": "stdout",
     "output_type": "stream",
     "text": [
      "<class 'pandas.core.frame.DataFrame'>\n",
      "RangeIndex: 236115 entries, 0 to 236114\n",
      "Data columns (total 3 columns):\n",
      " #   Column          Non-Null Count   Dtype \n",
      "---  ------          --------------   ----- \n",
      " 0   subreddit_id    236115 non-null  object\n",
      " 1   subreddit_name  236115 non-null  object\n",
      " 2   embedding       236115 non-null  object\n",
      "dtypes: object(3)\n",
      "memory usage: 5.4+ MB\n"
     ]
    }
   ],
   "source": [
    "df_sub_emb_raw.info()"
   ]
  },
  {
   "cell_type": "markdown",
   "id": "5bff749e",
   "metadata": {},
   "source": [
    "## Transform - sub embeddings to wide"
   ]
  },
  {
   "cell_type": "code",
   "execution_count": 8,
   "id": "8533de8d",
   "metadata": {},
   "outputs": [
    {
     "name": "stderr",
     "output_type": "stream",
     "text": [
      "18:23:37 | INFO | \"100 <- Embedding columns\"\n",
      "18:23:37 | INFO | \"Converting to wide format...\"\n",
      "18:23:49 | INFO | \"236,115, 102 <- embeddings WIDE shape\"\n",
      "18:23:49 | INFO | \"Save wide embeddings to parquet\"\n",
      "18:23:51 | INFO | \"Converting to polars df...\"\n",
      "18:23:51 | INFO | \"Subreddit embeddings pre-processing done\"\n"
     ]
    },
    {
     "name": "stdout",
     "output_type": "stream",
     "text": [
      "CPU times: user 13.8 s, sys: 1.15 s, total: 15 s\n",
      "Wall time: 14.8 s\n"
     ]
    },
    {
     "data": {
      "text/plain": [
       "161"
      ]
     },
     "execution_count": 8,
     "metadata": {},
     "output_type": "execute_result"
    }
   ],
   "source": [
    "%%time\n",
    "\n",
    "n_emb_cols = df_sub_emb_raw['embedding'].iloc[0].shape[0]\n",
    "assert np.alltrue(n_emb_cols == df_sub_emb_raw['embedding'].str.len())\n",
    "\n",
    "\n",
    "embedding_col_prefix = 'embedding_'\n",
    "l_emb_cols = [f\"{embedding_col_prefix}{i:03,.0f}\" for i in range(n_emb_cols)]\n",
    "info(f\"{len(l_emb_cols):,.0f} <- Embedding columns\")\n",
    "\n",
    "info(f\"Converting to wide format...\")\n",
    "df_sub_emb_pd = pd.DataFrame(\n",
    "    list(df_sub_emb_raw['embedding']),\n",
    "    columns=l_emb_cols,\n",
    "    index=pd.MultiIndex.from_frame(df_sub_emb_raw[['subreddit_id', 'subreddit_name']]),\n",
    ").reset_index()\n",
    "\n",
    "r_, c_ = df_sub_emb_pd.shape \n",
    "info(f\"{r_:,.0f}, {c_:,.0f} <- embeddings WIDE shape\")\n",
    "\n",
    "info(f\"Save wide embeddings to parquet\")\n",
    "df_sub_emb_pd.to_parquet(\n",
    "    path_this_model / f\"df_subreddit_embeddings_wide-{r_}_{c_}.parquet\",\n",
    "    index=False,\n",
    ")\n",
    "\n",
    "info(f\"Converting to polars df...\")\n",
    "df_sub_emb = pl.from_pandas(df_sub_emb_pd)\n",
    "\n",
    "info(f\"Subreddit embeddings pre-processing done\")\n",
    "# delete the pandas df to free up memory\n",
    "del df_sub_emb_pd\n",
    "gc.collect()"
   ]
  },
  {
   "cell_type": "code",
   "execution_count": 9,
   "id": "4b3649d9",
   "metadata": {},
   "outputs": [
    {
     "data": {
      "text/html": [
       "<div><style>\n",
       ".dataframe > thead > tr > th,\n",
       ".dataframe > tbody > tr > td {\n",
       "  text-align: right;\n",
       "}\n",
       "</style>\n",
       "<small>shape: (4, 15)</small><table border=\"1\" class=\"dataframe\"><thead><tr><th>subreddit_id</th><th>subreddit_name</th><th>embedding_000</th><th>embedding_001</th><th>embedding_002</th><th>embedding_003</th><th>embedding_004</th><th>embedding_005</th><th>embedding_006</th><th>embedding_007</th><th>embedding_008</th><th>embedding_009</th><th>embedding_010</th><th>embedding_011</th><th>embedding_012</th></tr><tr><td>str</td><td>str</td><td>f64</td><td>f64</td><td>f64</td><td>f64</td><td>f64</td><td>f64</td><td>f64</td><td>f64</td><td>f64</td><td>f64</td><td>f64</td><td>f64</td><td>f64</td></tr></thead><tbody><tr><td>&quot;t5_70sqiq&quot;</td><td>&quot;00000009999&quot;</td><td>0.203673</td><td>0.41239</td><td>0.293499</td><td>0.219038</td><td>0.067274</td><td>-0.074245</td><td>-0.515791</td><td>0.701312</td><td>0.733369</td><td>-0.565209</td><td>-0.096566</td><td>0.40944</td><td>0.082867</td></tr><tr><td>&quot;t5_6z8n1c&quot;</td><td>&quot;0010110zion&quot;</td><td>0.020021</td><td>0.08691</td><td>0.152663</td><td>-0.412483</td><td>0.074653</td><td>-0.005074</td><td>-0.308147</td><td>0.06658</td><td>0.161424</td><td>-0.091454</td><td>-0.170465</td><td>-0.028941</td><td>-0.293559</td></tr><tr><td>&quot;t5_71a1re&quot;</td><td>&quot;002timmynfts&quot;</td><td>-0.066831</td><td>-0.024192</td><td>0.682037</td><td>-0.081226</td><td>0.046117</td><td>0.285765</td><td>-0.226684</td><td>0.041478</td><td>0.301822</td><td>-0.476785</td><td>0.068413</td><td>0.070616</td><td>0.234421</td></tr><tr><td>&quot;t5_6xknxn&quot;</td><td>&quot;007desinsfw&quot;</td><td>0.028375</td><td>-0.157933</td><td>0.722232</td><td>-0.22489</td><td>-0.123628</td><td>0.128553</td><td>0.227722</td><td>0.294614</td><td>-0.090551</td><td>-0.643633</td><td>0.347671</td><td>0.175447</td><td>0.225121</td></tr></tbody></table></div>"
      ],
      "text/plain": [
       "shape: (4, 15)\n",
       "┌────────────┬────────────┬────────────┬────────────┬───┬────────────┬────────────┬────────────┬────────────┐\n",
       "│ subreddit_ ┆ subreddit_ ┆ embedding_ ┆ embedding_ ┆ … ┆ embedding_ ┆ embedding_ ┆ embedding_ ┆ embedding_ │\n",
       "│ id         ┆ name       ┆ 000        ┆ 001        ┆   ┆ 009        ┆ 010        ┆ 011        ┆ 012        │\n",
       "│ ---        ┆ ---        ┆ ---        ┆ ---        ┆   ┆ ---        ┆ ---        ┆ ---        ┆ ---        │\n",
       "│ str        ┆ str        ┆ f64        ┆ f64        ┆   ┆ f64        ┆ f64        ┆ f64        ┆ f64        │\n",
       "╞════════════╪════════════╪════════════╪════════════╪═══╪════════════╪════════════╪════════════╪════════════╡\n",
       "│ t5_70sqiq  ┆ 0000000999 ┆ 0.203673   ┆ 0.41239    ┆ … ┆ -0.565209  ┆ -0.096566  ┆ 0.40944    ┆ 0.082867   │\n",
       "│            ┆ 9          ┆            ┆            ┆   ┆            ┆            ┆            ┆            │\n",
       "│ t5_6z8n1c  ┆ 0010110zio ┆ 0.020021   ┆ 0.08691    ┆ … ┆ -0.091454  ┆ -0.170465  ┆ -0.028941  ┆ -0.293559  │\n",
       "│            ┆ n          ┆            ┆            ┆   ┆            ┆            ┆            ┆            │\n",
       "│ t5_71a1re  ┆ 002timmynf ┆ -0.066831  ┆ -0.024192  ┆ … ┆ -0.476785  ┆ 0.068413   ┆ 0.070616   ┆ 0.234421   │\n",
       "│            ┆ ts         ┆            ┆            ┆   ┆            ┆            ┆            ┆            │\n",
       "│ t5_6xknxn  ┆ 007desinsf ┆ 0.028375   ┆ -0.157933  ┆ … ┆ -0.643633  ┆ 0.347671   ┆ 0.175447   ┆ 0.225121   │\n",
       "│            ┆ w          ┆            ┆            ┆   ┆            ┆            ┆            ┆            │\n",
       "└────────────┴────────────┴────────────┴────────────┴───┴────────────┴────────────┴────────────┴────────────┘"
      ]
     },
     "execution_count": 9,
     "metadata": {},
     "output_type": "execute_result"
    }
   ],
   "source": [
    "df_sub_emb[:4, :15]"
   ]
  },
  {
   "cell_type": "code",
   "execution_count": 10,
   "id": "2e906f22",
   "metadata": {},
   "outputs": [
    {
     "data": {
      "text/html": [
       "<div><style>\n",
       ".dataframe > thead > tr > th,\n",
       ".dataframe > tbody > tr > td {\n",
       "  text-align: right;\n",
       "}\n",
       "</style>\n",
       "<small>shape: (2, 15)</small><table border=\"1\" class=\"dataframe\"><thead><tr><th>subreddit_id</th><th>subreddit_name</th><th>embedding_000</th><th>embedding_001</th><th>embedding_002</th><th>embedding_003</th><th>embedding_004</th><th>embedding_005</th><th>embedding_006</th><th>embedding_007</th><th>embedding_008</th><th>embedding_009</th><th>embedding_010</th><th>embedding_011</th><th>embedding_012</th></tr><tr><td>str</td><td>str</td><td>f64</td><td>f64</td><td>f64</td><td>f64</td><td>f64</td><td>f64</td><td>f64</td><td>f64</td><td>f64</td><td>f64</td><td>f64</td><td>f64</td><td>f64</td></tr></thead><tbody><tr><td>&quot;t5_3oco2x&quot;</td><td>&quot;007nightfire&quot;</td><td>-0.04789</td><td>0.518611</td><td>0.222843</td><td>-0.142906</td><td>0.122165</td><td>0.196806</td><td>-0.053357</td><td>-0.257993</td><td>0.720489</td><td>-0.112393</td><td>-0.089884</td><td>0.070488</td><td>-0.129584</td></tr><tr><td>&quot;t5_6xv2qd&quot;</td><td>&quot;00_x&quot;</td><td>0.047263</td><td>-0.227378</td><td>0.631552</td><td>-0.263744</td><td>-0.619626</td><td>0.251459</td><td>-0.253667</td><td>0.059874</td><td>0.414293</td><td>-1.12446</td><td>0.003658</td><td>0.32285</td><td>0.144135</td></tr></tbody></table></div>"
      ],
      "text/plain": [
       "shape: (2, 15)\n",
       "┌────────────┬────────────┬────────────┬────────────┬───┬────────────┬────────────┬────────────┬────────────┐\n",
       "│ subreddit_ ┆ subreddit_ ┆ embedding_ ┆ embedding_ ┆ … ┆ embedding_ ┆ embedding_ ┆ embedding_ ┆ embedding_ │\n",
       "│ id         ┆ name       ┆ 000        ┆ 001        ┆   ┆ 009        ┆ 010        ┆ 011        ┆ 012        │\n",
       "│ ---        ┆ ---        ┆ ---        ┆ ---        ┆   ┆ ---        ┆ ---        ┆ ---        ┆ ---        │\n",
       "│ str        ┆ str        ┆ f64        ┆ f64        ┆   ┆ f64        ┆ f64        ┆ f64        ┆ f64        │\n",
       "╞════════════╪════════════╪════════════╪════════════╪═══╪════════════╪════════════╪════════════╪════════════╡\n",
       "│ t5_3oco2x  ┆ 007nightfi ┆ -0.04789   ┆ 0.518611   ┆ … ┆ -0.112393  ┆ -0.089884  ┆ 0.070488   ┆ -0.129584  │\n",
       "│            ┆ re         ┆            ┆            ┆   ┆            ┆            ┆            ┆            │\n",
       "│ t5_6xv2qd  ┆ 00_x       ┆ 0.047263   ┆ -0.227378  ┆ … ┆ -1.12446   ┆ 0.003658   ┆ 0.32285    ┆ 0.144135   │\n",
       "└────────────┴────────────┴────────────┴────────────┴───┴────────────┴────────────┴────────────┴────────────┘"
      ]
     },
     "execution_count": 10,
     "metadata": {},
     "output_type": "execute_result"
    }
   ],
   "source": [
    "df_sub_emb[4:6, :15]"
   ]
  },
  {
   "cell_type": "markdown",
   "id": "b6c1e0b2",
   "metadata": {},
   "source": [
    "# Select target users\n",
    "Create a table for these target users\n",
    "\n",
    "- ETA: ~3 minutes for **1 campaign**, with lookback of **30-days**"
   ]
  },
  {
   "cell_type": "code",
   "execution_count": 12,
   "id": "904ee5eb",
   "metadata": {},
   "outputs": [
    {
     "name": "stderr",
     "output_type": "stream",
     "text": [
      "Query complete after 0.00s: 100%|██████████| 1/1 [00:00<00:00, 1816.50query/s] "
     ]
    },
    {
     "name": "stdout",
     "output_type": "stream",
     "text": [
      "CPU times: user 1.39 s, sys: 96.8 ms, total: 1.48 s\n",
      "Wall time: 2min 20s\n"
     ]
    },
    {
     "name": "stderr",
     "output_type": "stream",
     "text": [
      "\n"
     ]
    }
   ],
   "source": [
    "%%time\n",
    "%%bigquery _ --project data-science-prod-218515 \n",
    "\n",
    "-- Get test users for end-to-end embeddings\n",
    "-- TODO(djb): Filters\n",
    "--   - remove users who only viewed one subreddit\n",
    "--   - keep users with an iOS or Android event\n",
    "DECLARE PT_DT DATE DEFAULT \"2022-12-01\";\n",
    "-- Expand to 30 days total to get at least 1 month's worth of data given that in the prev model 1 month was the minimum\n",
    "DECLARE PT_WINDOW_START DATE DEFAULT PT_DT - 29; \n",
    "\n",
    "DECLARE TARGET_COUNTRIES DEFAULT [\n",
    "    \"DE\", \"AT\", \"CH\"\n",
    "];\n",
    "\n",
    "\n",
    "CREATE OR REPLACE TABLE `reddit-employee-datasets.david_bermejo.pn_test_users_de_campaign_20230417` AS (\n",
    "SELECT\n",
    "    PT_DT AS pt\n",
    "    , PT_WINDOW_START AS pt_window_start\n",
    "    , v.subreddit_id\n",
    "    , v.subreddit_name\n",
    "    , COALESCE(v.user_id, act.user_id) AS user_id\n",
    "    , g.geo_country_code\n",
    "    -- Testing column to debug missing users\n",
    "    , IF(\n",
    "        (act.user_id IS NOT NULL) AND (v.user_id IS NULL) ,\n",
    "        1,\n",
    "        0\n",
    "    ) AS user_in_actual_but_missing_from_new\n",
    "\n",
    "    , COUNT(DISTINCT post_id) AS view_and_consume_unique_count\n",
    "    , COUNT(DISTINCT(IF(v.action='consume', post_id, NULL))) AS consume_unique_count\n",
    "    , SUM(IF(v.action='view', 1, 0)) AS view_count\n",
    "    , SUM(IF(v.action='consume', 1, 0)) AS consume_count\n",
    "    , SUM(IF(v.action='consume' AND app_name='ios', 1, 0)) AS consume_ios_count\n",
    "    , SUM(IF(v.action='consume' AND app_name='android', 1, 0)) AS consume_android_count\n",
    "\n",
    "FROM (\n",
    "    SELECT\n",
    "        user_id\n",
    "        , geo_country_code\n",
    "    FROM `data-prod-165221.channels.user_geo_6mo_lookback`\n",
    "    WHERE\n",
    "        DATE(pt) = PT_DT\n",
    "        AND geo_country_code IN UNNEST(TARGET_COUNTRIES)\n",
    ") AS g\n",
    "    INNER JOIN (\n",
    "        SELECT\n",
    "          subreddit_id\n",
    "          , subreddit_name\n",
    "          , user_id\n",
    "          , post_id\n",
    "          , app_name\n",
    "          , action\n",
    "        FROM `data-prod-165221.fact_tables.post_consume_post_detail_view_events` \n",
    "        WHERE DATE(pt) BETWEEN PT_WINDOW_START AND PT_DT\n",
    "            AND user_id IS NOT NULL\n",
    "            AND subreddit_name IN (\n",
    "                -- 1st sub is a target from a campaign & following ones are most similar based on ft2 embeddings:\n",
    "                'de', 'fragreddit', 'ich_iel'\n",
    "            )\n",
    "            AND action IN ('consume', 'view')\n",
    "    ) AS v\n",
    "        on g.user_id = v.user_id\n",
    "\n",
    "    FULL OUTER JOIN (\n",
    "        -- Add Actual SENT users in case they don't match my selecting criteria\n",
    "        SELECT user_id\n",
    "        FROM `reddit-growth-prod.generated_one_offs.20221201191705_elizabethpollard_de_de_der_topbeitrag_diese_woche_62384`\n",
    "        UNION ALL\n",
    "        SELECT user_id\n",
    "        FROM `reddit-growth-prod.generated_one_offs.20221201193812_elizabethpollard_de_de_der_topbeitrag_diese_woche_32358`\n",
    "    ) act\n",
    "        ON g.user_id = act.user_id\n",
    "\n",
    "    -- TODO(djb): join to get only users who have at least 1 ios or android event in ANY sub\n",
    "WHERE 1=1\n",
    "GROUP BY 1,2,3,4,5,6,7\n",
    ");"
   ]
  },
  {
   "cell_type": "code",
   "execution_count": 13,
   "id": "73a15a69",
   "metadata": {},
   "outputs": [
    {
     "name": "stderr",
     "output_type": "stream",
     "text": [
      "Query complete after 0.00s: 100%|██████████| 5/5 [00:00<00:00, 4474.40query/s]                        \n",
      "Downloading: 100%|██████████| 1/1 [00:01<00:00,  1.24s/rows]"
     ]
    },
    {
     "name": "stdout",
     "output_type": "stream",
     "text": [
      "CPU times: user 42.3 ms, sys: 15.3 ms, total: 57.5 ms\n",
      "Wall time: 4.18 s\n"
     ]
    },
    {
     "name": "stderr",
     "output_type": "stream",
     "text": [
      "\n"
     ]
    }
   ],
   "source": [
    "%%time\n",
    "%%bigquery df_target_user_counts --project data-science-prod-218515 \n",
    "\n",
    "SELECT\n",
    "    COUNT(*) AS row_count\n",
    "    , COUNT(DISTINCT user_id) AS user_id_count\n",
    "FROM `reddit-employee-datasets.david_bermejo.pn_test_users_de_campaign_20230417`\n",
    ";"
   ]
  },
  {
   "cell_type": "code",
   "execution_count": 14,
   "id": "650800c1",
   "metadata": {},
   "outputs": [
    {
     "data": {
      "text/html": [
       "<div>\n",
       "<style scoped>\n",
       "    .dataframe tbody tr th:only-of-type {\n",
       "        vertical-align: middle;\n",
       "    }\n",
       "\n",
       "    .dataframe tbody tr th {\n",
       "        vertical-align: top;\n",
       "    }\n",
       "\n",
       "    .dataframe thead th {\n",
       "        text-align: right;\n",
       "    }\n",
       "</style>\n",
       "<table border=\"1\" class=\"dataframe\">\n",
       "  <thead>\n",
       "    <tr style=\"text-align: right;\">\n",
       "      <th></th>\n",
       "      <th>row_count</th>\n",
       "      <th>user_id_count</th>\n",
       "    </tr>\n",
       "  </thead>\n",
       "  <tbody>\n",
       "    <tr>\n",
       "      <th>0</th>\n",
       "      <td>6470225</td>\n",
       "      <td>3593140</td>\n",
       "    </tr>\n",
       "  </tbody>\n",
       "</table>\n",
       "</div>"
      ],
      "text/plain": [
       "   row_count  user_id_count\n",
       "0    6470225        3593140"
      ]
     },
     "execution_count": 14,
     "metadata": {},
     "output_type": "execute_result"
    }
   ],
   "source": [
    "df_target_user_counts"
   ]
  },
  {
   "cell_type": "code",
   "execution_count": 15,
   "id": "6547c05b",
   "metadata": {},
   "outputs": [],
   "source": [
    "del df_target_user_counts"
   ]
  },
  {
   "cell_type": "code",
   "execution_count": 16,
   "id": "eddc5378",
   "metadata": {},
   "outputs": [
    {
     "name": "stderr",
     "output_type": "stream",
     "text": [
      "Query complete after 0.00s: 100%|██████████| 5/5 [00:00<00:00, 4400.23query/s]                        \n",
      "Downloading: 100%|██████████| 3593140/3593140 [00:01<00:00, 2037792.89rows/s]\n"
     ]
    },
    {
     "name": "stdout",
     "output_type": "stream",
     "text": [
      "CPU times: user 1.62 s, sys: 443 ms, total: 2.06 s\n",
      "Wall time: 7.02 s\n"
     ]
    }
   ],
   "source": [
    "%%time\n",
    "%%bigquery df_target_user_ids --project data-science-prod-218515 \n",
    "\n",
    "SELECT\n",
    "    DISTINCT user_id\n",
    "FROM `reddit-employee-datasets.david_bermejo.pn_test_users_de_campaign_20230417`\n",
    ";"
   ]
  },
  {
   "cell_type": "code",
   "execution_count": 17,
   "id": "f4f13d9f",
   "metadata": {},
   "outputs": [
    {
     "data": {
      "text/plain": [
       "(3593140, 1)"
      ]
     },
     "execution_count": 17,
     "metadata": {},
     "output_type": "execute_result"
    }
   ],
   "source": [
    "df_target_user_ids.shape"
   ]
  },
  {
   "cell_type": "markdown",
   "id": "6b821e56",
   "metadata": {},
   "source": [
    "# Pull users in actual table sends\n",
    "\n",
    "This should help us know whether we have the correct data & users to train a model."
   ]
  },
  {
   "cell_type": "code",
   "execution_count": 18,
   "id": "2f9b59c5",
   "metadata": {},
   "outputs": [
    {
     "name": "stderr",
     "output_type": "stream",
     "text": [
      "Query complete after 0.00s: 100%|██████████| 1/1 [00:00<00:00, 1381.52query/s]\n",
      "Downloading: 100%|██████████| 601606/601606 [00:01<00:00, 419036.30rows/s]"
     ]
    },
    {
     "name": "stdout",
     "output_type": "stream",
     "text": [
      "CPU times: user 247 ms, sys: 90.5 ms, total: 338 ms\n",
      "Wall time: 2.26 s\n"
     ]
    },
    {
     "name": "stderr",
     "output_type": "stream",
     "text": [
      "\n"
     ]
    }
   ],
   "source": [
    "%%time\n",
    "%%bigquery df_sent_users --project data-science-prod-218515 \n",
    "\n",
    "\n",
    "-- SENT users\n",
    "SELECT user_id\n",
    "FROM `reddit-growth-prod.generated_one_offs.20221201191705_elizabethpollard_de_de_der_topbeitrag_diese_woche_62384`\n",
    "UNION ALL\n",
    "SELECT user_id\n",
    "FROM `reddit-growth-prod.generated_one_offs.20221201193812_elizabethpollard_de_de_der_topbeitrag_diese_woche_32358`\n",
    ";"
   ]
  },
  {
   "cell_type": "code",
   "execution_count": 19,
   "id": "13ec5a77",
   "metadata": {},
   "outputs": [
    {
     "name": "stdout",
     "output_type": "stream",
     "text": [
      "(601606, 1)\n"
     ]
    },
    {
     "data": {
      "text/html": [
       "<div>\n",
       "<style scoped>\n",
       "    .dataframe tbody tr th:only-of-type {\n",
       "        vertical-align: middle;\n",
       "    }\n",
       "\n",
       "    .dataframe tbody tr th {\n",
       "        vertical-align: top;\n",
       "    }\n",
       "\n",
       "    .dataframe thead th {\n",
       "        text-align: right;\n",
       "    }\n",
       "</style>\n",
       "<table border=\"1\" class=\"dataframe\">\n",
       "  <thead>\n",
       "    <tr style=\"text-align: right;\">\n",
       "      <th></th>\n",
       "      <th>user_id</th>\n",
       "    </tr>\n",
       "  </thead>\n",
       "  <tbody>\n",
       "    <tr>\n",
       "      <th>0</th>\n",
       "      <td>t2_9nd5icb5</td>\n",
       "    </tr>\n",
       "    <tr>\n",
       "      <th>1</th>\n",
       "      <td>t2_muyo17vl</td>\n",
       "    </tr>\n",
       "    <tr>\n",
       "      <th>2</th>\n",
       "      <td>t2_ofgfq1y7</td>\n",
       "    </tr>\n",
       "    <tr>\n",
       "      <th>3</th>\n",
       "      <td>t2_cwcp8sgw</td>\n",
       "    </tr>\n",
       "    <tr>\n",
       "      <th>4</th>\n",
       "      <td>t2_pby5ufxz</td>\n",
       "    </tr>\n",
       "  </tbody>\n",
       "</table>\n",
       "</div>"
      ],
      "text/plain": [
       "       user_id\n",
       "0  t2_9nd5icb5\n",
       "1  t2_muyo17vl\n",
       "2  t2_ofgfq1y7\n",
       "3  t2_cwcp8sgw\n",
       "4  t2_pby5ufxz"
      ]
     },
     "execution_count": 19,
     "metadata": {},
     "output_type": "execute_result"
    }
   ],
   "source": [
    "print(df_sent_users.shape)\n",
    "df_sent_users.head()"
   ]
  },
  {
   "cell_type": "markdown",
   "id": "21d5f34f",
   "metadata": {},
   "source": [
    "### Check that new target includes actual sends\n",
    "Goal: the new target audience should cover ALL of the actual send.\n",
    "\n",
    "Unclear why the new target audience doesn't covering all the actual sends -- maybe the lookback window for views is longer?"
   ]
  },
  {
   "cell_type": "code",
   "execution_count": 22,
   "id": "6324c6b1",
   "metadata": {},
   "outputs": [
    {
     "name": "stdout",
     "output_type": "stream",
     "text": [
      "  3,593,140 <- new_model_target\n",
      "    360,573 <- actual_sent\n",
      "  3,593,140 <- new_model_target + actual_sent\n",
      "  3,232,567 <- new_model_target_only\n",
      "    360,573 <- new_model_target_and_actual_sent\n",
      "          0 <- actual_sent_only\n",
      "CPU times: user 8.9 s, sys: 353 ms, total: 9.26 s\n",
      "Wall time: 9.25 s\n"
     ]
    },
    {
     "data": {
      "text/plain": [
       "Text(0.5, 1.0, 'Compare New target Audience v. Actual Send')"
      ]
     },
     "execution_count": 22,
     "metadata": {},
     "output_type": "execute_result"
    },
    {
     "data": {
      "image/png": "[encoded data removed]",
      "text/plain": [
       "<Figure size 900x600 with 1 Axes>"
      ]
     },
     "metadata": {},
     "output_type": "display_data"
    }
   ],
   "source": [
    "%%time\n",
    "\n",
    "lbls_ = ['new_model_target', 'actual_sent']\n",
    "d_compare_audiences = get_venn_sets2(\n",
    "    df_target_user_ids['user_id'].unique(),\n",
    "    df_sent_users['user_id'].unique(),\n",
    "    *lbls_,\n",
    ")\n",
    "# d_compare_audiences.keys()\n",
    "\n",
    "ax = venn2_unweighted(\n",
    "    [\n",
    "        set(df_target_user_ids['user_id'].unique()),\n",
    "        set(df_sent_users['user_id'].unique()),\n",
    "    ],\n",
    "    set_labels=['new_model_target', 'actual_sent'],\n",
    ")\n",
    "plt.title(f\"Compare New target Audience v. Actual Send\")"
   ]
  },
  {
   "cell_type": "code",
   "execution_count": 23,
   "id": "82f1cf8b",
   "metadata": {},
   "outputs": [],
   "source": [
    "assert 0 == len(d_compare_audiences['actual_sent_only'])"
   ]
  },
  {
   "cell_type": "markdown",
   "id": "7ec3e1cc",
   "metadata": {},
   "source": [
    "## Get Time-on-Subreddit (ToS) for target user IDs\n",
    "\n",
    "We'll use these to create weighted embeddings.\n",
    "\n",
    "**15 SECONDS** ETA for:\n",
    "- 1 campaign\n",
    "- 30 day lookback window\n",
    "- Including actual sent users\n",
    "\n",
    "---\n",
    "I'm caching the `selected users` in a table so that it's easier/faster to re-use while testing.\n",
    "\n",
    "The time-on-subreddit feature is already in gazette features so we don't need to waste time computing them.\n",
    "\n",
    "Key tables:\n",
    "- Select users:\n",
    "    - `data-prod-165221.fact_tables.post_consume_post_detail_view_events` \n",
    "- Get ToS:\n",
    "    - `data-prod-165221.user_feature_platform.time_on_subreddit_pct_time_over_30_day_v1`\n"
   ]
  },
  {
   "cell_type": "code",
   "execution_count": 24,
   "id": "1d324a6f",
   "metadata": {},
   "outputs": [
    {
     "name": "stderr",
     "output_type": "stream",
     "text": [
      "Query complete after 0.00s: 100%|██████████| 1/1 [00:00<00:00, 1755.67query/s] "
     ]
    },
    {
     "name": "stdout",
     "output_type": "stream",
     "text": [
      "CPU times: user 117 ms, sys: 20.9 ms, total: 138 ms\n",
      "Wall time: 10.8 s\n"
     ]
    },
    {
     "name": "stderr",
     "output_type": "stream",
     "text": [
      "\n"
     ]
    }
   ],
   "source": [
    "%%time\n",
    "%%bigquery _ --project data-science-prod-218515 \n",
    "\n",
    "-- Pull the user IDs + time on subreddit\n",
    "--   Using temp function because it's much faster to expand ToS in BQ than in python\n",
    "--   But we need to write the data to a table because the response can be huge (billions of rows)\n",
    "DECLARE PT_TOS DATE DEFAULT \"2022-12-01\";\n",
    "\n",
    "CREATE TEMP FUNCTION\n",
    "tosParser(tosString STRING)\n",
    "RETURNS STRUCT<\n",
    "    subreddit_id STRING,\n",
    "    tos_30_pct FLOAT64\n",
    ">\n",
    "LANGUAGE js AS \"\"\"\n",
    "   arr = tosString.split(':');\n",
    "   this.subreddit_id = arr[0].slice(1, -1);\n",
    "   this.tos_30_pct = parseFloat(arr[1]);\n",
    "   return this;\n",
    "\"\"\"\n",
    ";\n",
    "\n",
    "\n",
    "CREATE OR REPLACE TABLE `reddit-employee-datasets.david_bermejo.pn_test_users_de_campaign_tos_30_pct_20230417`\n",
    "CLUSTER BY user_id\n",
    "AS (\n",
    "WITH tos_filtered AS (\n",
    "SELECT\n",
    "    u.user_id\n",
    "    , t.feature_value\n",
    "FROM `data-prod-165221.user_feature_platform.time_on_subreddit_pct_time_over_30_day_v1` AS t\n",
    "    INNER JOIN(\n",
    "        SELECT\n",
    "            DISTINCT user_id\n",
    "        FROM `reddit-employee-datasets.david_bermejo.pn_test_users_de_campaign_20230417`\n",
    "        -- LIMIT 10\n",
    "    ) AS u\n",
    "        ON u.user_id = t.entity_id\n",
    "WHERE DATE(t.pt) = PT_TOS\n",
    ")\n",
    ", tos_exploded AS (\n",
    "SELECT\n",
    "    user_id\n",
    "    , tosParser(feature_array_exploded).*\n",
    "FROM(\n",
    "    SELECT user_id, feature_array_exploded\n",
    "    FROM (\n",
    "        SELECT user_id, SPLIT(RTRIM(LTRIM(feature_value, '{'), '}')) AS feature_array FROM tos_filtered\n",
    "    ), UNNEST(feature_array) AS feature_array_exploded\n",
    ")\n",
    ")\n",
    "\n",
    "\n",
    "SELECT *\n",
    "FROM tos_exploded\n",
    "\n",
    "WHERE\n",
    "    -- Limit smallest sub b/c at some point it's a waste to try to aggregate such small embeddings\n",
    "    tos_30_pct >= 0.0001\n",
    ");\n"
   ]
  },
  {
   "cell_type": "code",
   "execution_count": 29,
   "id": "0d8f8390",
   "metadata": {},
   "outputs": [
    {
     "name": "stderr",
     "output_type": "stream",
     "text": [
      "Query complete after 0.00s: 100%|██████████| 1/1 [00:00<00:00, 1592.98query/s]\n",
      "Downloading: 100%|██████████| 1/1 [00:01<00:00,  1.24s/rows]"
     ]
    },
    {
     "name": "stdout",
     "output_type": "stream",
     "text": [
      "CPU times: user 38.2 ms, sys: 3.66 ms, total: 41.9 ms\n",
      "Wall time: 2.05 s\n"
     ]
    },
    {
     "name": "stderr",
     "output_type": "stream",
     "text": [
      "\n"
     ]
    }
   ],
   "source": [
    "%%time\n",
    "%%bigquery df_tos_counts --project data-science-prod-218515 \n",
    "-- Count checks\n",
    "SELECT\n",
    "    COUNT(*) AS row_count\n",
    "    , COUNT(DISTINCT user_id) AS user_id_count\n",
    "FROM `reddit-employee-datasets.david_bermejo.pn_test_users_de_campaign_tos_30_pct_20230417`\n",
    ";\n"
   ]
  },
  {
   "cell_type": "code",
   "execution_count": 30,
   "id": "7e61fe94",
   "metadata": {},
   "outputs": [
    {
     "data": {
      "text/html": [
       "<div>\n",
       "<style scoped>\n",
       "    .dataframe tbody tr th:only-of-type {\n",
       "        vertical-align: middle;\n",
       "    }\n",
       "\n",
       "    .dataframe tbody tr th {\n",
       "        vertical-align: top;\n",
       "    }\n",
       "\n",
       "    .dataframe thead th {\n",
       "        text-align: right;\n",
       "    }\n",
       "</style>\n",
       "<table border=\"1\" class=\"dataframe\">\n",
       "  <thead>\n",
       "    <tr style=\"text-align: right;\">\n",
       "      <th></th>\n",
       "      <th>row_count</th>\n",
       "      <th>user_id_count</th>\n",
       "    </tr>\n",
       "  </thead>\n",
       "  <tbody>\n",
       "    <tr>\n",
       "      <th>0</th>\n",
       "      <td>116382330</td>\n",
       "      <td>3194847</td>\n",
       "    </tr>\n",
       "  </tbody>\n",
       "</table>\n",
       "</div>"
      ],
      "text/plain": [
       "   row_count  user_id_count\n",
       "0  116382330        3194847"
      ]
     },
     "execution_count": 30,
     "metadata": {},
     "output_type": "execute_result"
    }
   ],
   "source": [
    "df_tos_counts"
   ]
  },
  {
   "cell_type": "code",
   "execution_count": 31,
   "id": "4e2940ed",
   "metadata": {},
   "outputs": [],
   "source": [
    "del df_tos_counts"
   ]
  },
  {
   "cell_type": "markdown",
   "id": "03977ccc",
   "metadata": {},
   "source": [
    "\n",
    "### Load data from GCS because loading straight from BQ takes too long (stopped after waiting for 30 minutes). \n",
    "\n",
    "```bash\n",
    "# Copy: the -n flag only copies \"NEW\" files\n",
    "# !gsutil -o GSUtil:parallel_thread_count=20 -o GSUtil:parallel_process_count=20 -m cp -r -n $remote_gs_path $local_f\n",
    "\n",
    "# rsync can be nicer because with `-n` you get a preview (dry run) before running a command\n",
    "# !gsutil -o GSUtil:parallel_thread_count=20 -o GSUtil:parallel_process_count=20 -m rsync -r -n $gcs_tos $local_path_tos\n",
    "```\n",
    "\n",
    "Note that it's better to run this command from the CLI because it can crash jupyter (fast log info "
   ]
  },
  {
   "cell_type": "code",
   "execution_count": 32,
   "id": "c2c9f50f",
   "metadata": {},
   "outputs": [
    {
     "name": "stderr",
     "output_type": "stream",
     "text": [
      "Query complete after 0.00s: 100%|██████████| 1/1 [00:00<00:00, 950.44query/s]                          "
     ]
    },
    {
     "name": "stdout",
     "output_type": "stream",
     "text": [
      "CPU times: user 29.5 ms, sys: 4.28 ms, total: 33.8 ms\n",
      "Wall time: 1.6 s\n"
     ]
    },
    {
     "name": "stderr",
     "output_type": "stream",
     "text": [
      "\n"
     ]
    }
   ],
   "source": [
    "%%time\n",
    "%%bigquery _ --project data-science-prod-218515 \n",
    "\n",
    "-- Export data to GCS because querying such a huge table takes forever and a half\n",
    "EXPORT DATA OPTIONS(\n",
    "    uri='gs://i18n-subreddit-clustering/pn_model/runs/de_only_20230417/user_tos_30_pct/*.parquet',\n",
    "    format='PARQUET',\n",
    "    overwrite=true\n",
    ") AS\n",
    "SELECT *\n",
    "FROM `reddit-employee-datasets.david_bermejo.pn_test_users_de_campaign_tos_30_pct_20230417`\n",
    ";"
   ]
  },
  {
   "cell_type": "markdown",
   "id": "aa636fc9",
   "metadata": {},
   "source": [
    "Note:\n",
    "- The `-r` flag creates a \"dry-run\" (only tells you what will happen)\n",
    "- for final CLI command remove this flat (`-r`)\n",
    "\n",
    "Example output:\n",
    "```bash\n",
    "$ gsutil -o GSUtil:parallel_thread_count=20 -o GSUtil:parallel_process_count=20 -m rsync -r -n gs://i18n-subreddit-clustering/pn_model/runs/de_only_20230417/user_tos_30_pct/ /home/jupyter/subreddit_clustering_i18n/data/local_cache/i18n-subreddit-clustering/pn_model/runs/de_only_20230417/user_tos_30_pct\n",
    "\n",
    "...\n",
    "#  Copying gs://i18n-subreddit-clustering/pn_model/runs/de_only_20230417/user_tos_30_pct/000000000172.parquet...\n",
    "#  \\ [209/209 files][635.8 MiB/635.8 MiB] 100% Done                                \n",
    "#  Operation completed over 209 objects/635.8 MiB. \n",
    "```"
   ]
  },
  {
   "cell_type": "code",
   "execution_count": 35,
   "id": "4f8c9287",
   "metadata": {},
   "outputs": [
    {
     "name": "stdout",
     "output_type": "stream",
     "text": [
      "GCS URI:\n",
      "  gs://i18n-subreddit-clustering/pn_model/runs/de_only_20230417/user_tos_30_pct/\n",
      "Local path:\n",
      "  /home/jupyter/subreddit_clustering_i18n/data/local_cache/i18n-subreddit-clustering/pn_model/runs/de_only_20230417/user_tos_30_pct\n",
      "\n",
      "CLI command DRY RUN:\n",
      "gsutil -o GSUtil:parallel_thread_count=20 -o GSUtil:parallel_process_count=20 -m rsync -r -n gs://i18n-subreddit-clustering/pn_model/runs/de_only_20230417/user_tos_30_pct/ /home/jupyter/subreddit_clustering_i18n/data/local_cache/i18n-subreddit-clustering/pn_model/runs/de_only_20230417/user_tos_30_pct\n",
      "\n",
      "CLI command ACTUAL run\n",
      "gsutil -o GSUtil:parallel_thread_count=20 -o GSUtil:parallel_process_count=20 -m rsync -r gs://i18n-subreddit-clustering/pn_model/runs/de_only_20230417/user_tos_30_pct/ /home/jupyter/subreddit_clustering_i18n/data/local_cache/i18n-subreddit-clustering/pn_model/runs/de_only_20230417/user_tos_30_pct\n"
     ]
    }
   ],
   "source": [
    "bucket_name_ = 'i18n-subreddit-clustering'\n",
    "gcs_tos = f\"gs://{bucket_name_}/pn_model/runs/de_only_20230417/user_tos_30_pct/\"\n",
    "\n",
    "path_local_cache = Path(f\"/home/jupyter/subreddit_clustering_i18n/data/local_cache/{bucket_name_}/\")\n",
    "local_path_tos = (\n",
    "    path_local_cache / \n",
    "    gcs_tos.split(f\"{bucket_name_}/\")[1]\n",
    ")\n",
    "Path.mkdir(local_path_tos, exist_ok=True, parents=True)\n",
    "\n",
    "\n",
    "print(f\"GCS URI:\\n  {gcs_tos}\\nLocal path:\\n  {local_path_tos}\")\n",
    "\n",
    "print(f\"\\nCLI command DRY RUN:\")\n",
    "!echo gsutil -o GSUtil:parallel_thread_count=20 -o GSUtil:parallel_process_count=20 -m rsync -r -n $gcs_tos $local_path_tos\n",
    "        \n",
    "print(f\"\\nCLI command ACTUAL run\")\n",
    "!echo gsutil -o GSUtil:parallel_thread_count=20 -o GSUtil:parallel_process_count=20 -m rsync -r $gcs_tos $local_path_tos"
   ]
  },
  {
   "cell_type": "code",
   "execution_count": 37,
   "id": "d3d7e8ea",
   "metadata": {},
   "outputs": [],
   "source": [
    "# !gsutil -o GSUtil:parallel_thread_count=20 -o GSUtil:parallel_process_count=20 -m rsync -r $gcs_tos $local_path_tos"
   ]
  },
  {
   "cell_type": "code",
   "execution_count": 38,
   "id": "6514db22",
   "metadata": {},
   "outputs": [
    {
     "name": "stdout",
     "output_type": "stream",
     "text": [
      "CPU times: user 15.2 s, sys: 4.47 s, total: 19.7 s\n",
      "Wall time: 2.61 s\n"
     ]
    }
   ],
   "source": [
    "%%time\n",
    "\n",
    "df_user_tos = pl.read_parquet(f\"{local_path_tos}/*.parquet\")"
   ]
  },
  {
   "cell_type": "code",
   "execution_count": 39,
   "id": "ee392170",
   "metadata": {},
   "outputs": [
    {
     "data": {
      "text/plain": [
       "(116382330, 3)"
      ]
     },
     "execution_count": 39,
     "metadata": {},
     "output_type": "execute_result"
    }
   ],
   "source": [
    "df_user_tos.shape"
   ]
  },
  {
   "cell_type": "code",
   "execution_count": 40,
   "id": "81781bdf",
   "metadata": {},
   "outputs": [
    {
     "name": "stdout",
     "output_type": "stream",
     "text": [
      "CPU times: user 1.64 s, sys: 149 ms, total: 1.79 s\n",
      "Wall time: 908 ms\n"
     ]
    },
    {
     "data": {
      "text/html": [
       "<div><style>\n",
       ".dataframe > thead > tr > th,\n",
       ".dataframe > tbody > tr > td {\n",
       "  text-align: right;\n",
       "}\n",
       "</style>\n",
       "<small>shape: (7, 4)</small><table border=\"1\" class=\"dataframe\"><thead><tr><th>describe</th><th>user_id</th><th>subreddit_id</th><th>tos_30_pct</th></tr><tr><td>str</td><td>str</td><td>str</td><td>f64</td></tr></thead><tbody><tr><td>&quot;count&quot;</td><td>&quot;1000000&quot;</td><td>&quot;1000000&quot;</td><td>1e6</td></tr><tr><td>&quot;null_count&quot;</td><td>&quot;0&quot;</td><td>&quot;0&quot;</td><td>0.0</td></tr><tr><td>&quot;mean&quot;</td><td>null</td><td>null</td><td>0.027428</td></tr><tr><td>&quot;std&quot;</td><td>null</td><td>null</td><td>0.111126</td></tr><tr><td>&quot;min&quot;</td><td>&quot;t2_1000ghrb&quot;</td><td>&quot;t5_1009a3&quot;</td><td>0.0001</td></tr><tr><td>&quot;max&quot;</td><td>&quot;t2_zzyev&quot;</td><td>&quot;t5_zzszh&quot;</td><td>1.0</td></tr><tr><td>&quot;median&quot;</td><td>null</td><td>null</td><td>0.0014</td></tr></tbody></table></div>"
      ],
      "text/plain": [
       "shape: (7, 4)\n",
       "┌────────────┬─────────────┬──────────────┬────────────┐\n",
       "│ describe   ┆ user_id     ┆ subreddit_id ┆ tos_30_pct │\n",
       "│ ---        ┆ ---         ┆ ---          ┆ ---        │\n",
       "│ str        ┆ str         ┆ str          ┆ f64        │\n",
       "╞════════════╪═════════════╪══════════════╪════════════╡\n",
       "│ count      ┆ 1000000     ┆ 1000000      ┆ 1e6        │\n",
       "│ null_count ┆ 0           ┆ 0            ┆ 0.0        │\n",
       "│ mean       ┆ null        ┆ null         ┆ 0.027428   │\n",
       "│ std        ┆ null        ┆ null         ┆ 0.111126   │\n",
       "│ min        ┆ t2_1000ghrb ┆ t5_1009a3    ┆ 0.0001     │\n",
       "│ max        ┆ t2_zzyev    ┆ t5_zzszh     ┆ 1.0        │\n",
       "│ median     ┆ null        ┆ null         ┆ 0.0014     │\n",
       "└────────────┴─────────────┴──────────────┴────────────┘"
      ]
     },
     "execution_count": 40,
     "metadata": {},
     "output_type": "execute_result"
    }
   ],
   "source": [
    "%%time\n",
    "df_user_tos.sample(n=int(1e6)).describe()"
   ]
  },
  {
   "cell_type": "code",
   "execution_count": 41,
   "id": "4b7571fb",
   "metadata": {},
   "outputs": [
    {
     "data": {
      "text/html": [
       "<div><style>\n",
       ".dataframe > thead > tr > th,\n",
       ".dataframe > tbody > tr > td {\n",
       "  text-align: right;\n",
       "}\n",
       "</style>\n",
       "<small>shape: (5, 3)</small><table border=\"1\" class=\"dataframe\"><thead><tr><th>user_id</th><th>subreddit_id</th><th>tos_30_pct</th></tr><tr><td>str</td><td>str</td><td>f64</td></tr></thead><tbody><tr><td>&quot;t2_13ktd8k1&quot;</td><td>&quot;t5_2z7bi&quot;</td><td>0.01098</td></tr><tr><td>&quot;t2_13jm9w&quot;</td><td>&quot;t5_2s3nb&quot;</td><td>0.01212</td></tr><tr><td>&quot;t2_13jm9w&quot;</td><td>&quot;t5_3gdh7&quot;</td><td>0.00186</td></tr><tr><td>&quot;t2_13jm9w&quot;</td><td>&quot;t5_idyrj&quot;</td><td>0.0214</td></tr><tr><td>&quot;t2_13jufd&quot;</td><td>&quot;t5_c21rg&quot;</td><td>0.00273</td></tr></tbody></table></div>"
      ],
      "text/plain": [
       "shape: (5, 3)\n",
       "┌─────────────┬──────────────┬────────────┐\n",
       "│ user_id     ┆ subreddit_id ┆ tos_30_pct │\n",
       "│ ---         ┆ ---          ┆ ---        │\n",
       "│ str         ┆ str          ┆ f64        │\n",
       "╞═════════════╪══════════════╪════════════╡\n",
       "│ t2_13ktd8k1 ┆ t5_2z7bi     ┆ 0.01098    │\n",
       "│ t2_13jm9w   ┆ t5_2s3nb     ┆ 0.01212    │\n",
       "│ t2_13jm9w   ┆ t5_3gdh7     ┆ 0.00186    │\n",
       "│ t2_13jm9w   ┆ t5_idyrj     ┆ 0.0214     │\n",
       "│ t2_13jufd   ┆ t5_c21rg     ┆ 0.00273    │\n",
       "└─────────────┴──────────────┴────────────┘"
      ]
     },
     "execution_count": 41,
     "metadata": {},
     "output_type": "execute_result"
    }
   ],
   "source": [
    "df_user_tos.head()"
   ]
  },
  {
   "cell_type": "markdown",
   "id": "d06bff78",
   "metadata": {},
   "source": [
    "# Other Transforms \n",
    "\n",
    "We don't need these transforms for ANN, but will use it for modeling step\n",
    "- Count of subreddits per user for ToS\n",
    "\n",
    "Other data:\n",
    "- Subscribed to target subreddit\n",
    "- Age of account\n",
    "- Activity in L14 days\n",
    "- etc...\n",
    "\n",
    "\n",
    "\n",
    "---\n"
   ]
  },
  {
   "cell_type": "markdown",
   "id": "1e160140",
   "metadata": {},
   "source": [
    "# Compute user-level weighted embedding\n",
    "\n",
    "now that we have the long df, let's compute the user-level weighted embedding (multiply weights x embedding & groupby user-id)"
   ]
  },
  {
   "cell_type": "markdown",
   "id": "0d2acbb2",
   "metadata": {},
   "source": [
    "## Run on all users\n",
    "\n",
    "Batches of 150-million user<>subreddit weighted embeddings was too much memory (over 1.2 TB). So the kernel gets killed/dies.\n",
    "\n",
    "Instead, try to run in batches of\n",
    "- 80 to 100 million ToS rows\n",
    "\n",
    "---\n",
    "\n",
    "Example ETAs:\n",
    "\n",
    "```bash\n",
    "# 800k users | 130 million ToS rows\n",
    "07:08:08 | INFO | \"Append subreddit embeddings to user ToS\"\n",
    "07:08:13 | INFO | \"Compute weighted avg embedding for user-level\"\n",
    "07:09:49 | INFO | \"Compute AGGREGATED user-level embedding...\"\n",
    "(130601209, 100)\n",
    "(856211, 101)\n",
    "CPU times: user 18min 9s, sys: 8min 21s, total: 26min 31s\n",
    "Wall time: 4min 52s\n",
    "\n",
    "\n",
    "# 9.8 million users |  764.5 million ToS rows\n",
    "10:49:14 | INFO | \"Compute weighted ToS embeddings...\"\n",
    "10:58:43 | INFO | \"(764565252, 102) <- df.shape ToS with weighted embedddings\"\n",
    "10:58:43 | INFO | \"Delete temp df to free up memory\"\n",
    "10:58:43 | INFO | \"Compute AGGREGATED user-level embedding...\"\n",
    "10:59:50 | INFO | \"(9874962, 101) <- df.shape User weighted embedddings\"\n",
    "(764565252, 102)\n",
    "(9874962, 101)\n",
    "CPU times: user 2h 53min 2s, sys: 44min 23s, total: 3h 37min 25s\n",
    "Wall time: 23min 30s\n",
    "\n",
    "```"
   ]
  },
  {
   "cell_type": "code",
   "execution_count": 42,
   "id": "dfce1ee9",
   "metadata": {},
   "outputs": [
    {
     "name": "stderr",
     "output_type": "stream",
     "text": [
      "18:33:00 | INFO | \"116,382,330 <- Data Size\"\n",
      "18:33:00 | INFO | \"80,000,000 <- Batch Size\"\n",
      "18:33:00 | INFO | \"0,000,002 <- Chunks\"\n",
      "18:33:00 | INFO | \"Append subreddit embeddings to user ToS\"\n",
      "18:33:10 | INFO | \"(96519368, 103) <- df.shape ToS with raw embeddings (no nulls)\"\n",
      "18:33:10 | INFO | \"Create DAG for weighted avg embedding per user+subreddit\"\n"
     ]
    },
    {
     "data": {
      "application/vnd.jupyter.widget-view+json": {
       "model_id": "cebec11d29254c73822b390f3249efb5",
       "version_major": 2,
       "version_minor": 0
      },
      "text/plain": [
       "  0%|          | 0/2 [00:00<?, ?it/s]"
      ]
     },
     "metadata": {},
     "output_type": "display_data"
    },
    {
     "name": "stderr",
     "output_type": "stream",
     "text": [
      "18:34:22 | INFO | \"Dask visualize DAG\"\n"
     ]
    },
    {
     "data": {
      "image/png": "[encoded data removed]",
      "text/plain": [
       "<IPython.core.display.Image object>"
      ]
     },
     "metadata": {},
     "output_type": "display_data"
    },
    {
     "name": "stderr",
     "output_type": "stream",
     "text": [
      "18:34:23 | INFO | \"Compute weighted ToS embeddings...\"\n",
      "18:34:53 | INFO | \"(96519368, 102) <- df.shape ToS with weighted embedddings\"\n",
      "18:34:53 | INFO | \"Delete temp df to free up memory\"\n",
      "18:34:54 | INFO | \"Compute AGGREGATED user-level embedding...\"\n",
      "18:35:03 | INFO | \"(3164772, 101) <- df.shape User weighted embedddings\"\n"
     ]
    },
    {
     "name": "stdout",
     "output_type": "stream",
     "text": [
      "(3164772, 101)\n",
      "CPU times: user 21min 57s, sys: 5min 1s, total: 26min 59s\n",
      "Wall time: 2min 3s\n"
     ]
    }
   ],
   "source": [
    "%%time\n",
    "\n",
    "# when computing on full data set, we need to batch b/c the computer will run out of RAM if/when converting parquet to numpy\n",
    "n_sample = None  # None  # None  int(10e6)\n",
    "\n",
    "if n_sample is None:\n",
    "    df_user_tos_proc_ = df_user_tos\n",
    "else:\n",
    "    df_user_tos_proc_ = df_user_tos.sample(n=n_sample, seed=42)\n",
    "n_size = len(df_user_tos_proc_)\n",
    "\n",
    "batch_size = int(80e6)  # int(110e6), 9e6 = 9Million\n",
    "n_chunks = 1 + n_size // batch_size\n",
    "iter_chunks = range(n_chunks)\n",
    "\n",
    "info(f\"{n_size:09,.0f} <- Data Size\")\n",
    "info(f\"{batch_size:09,.0f} <- Batch Size\")\n",
    "info(f\"{n_chunks:09,.0f} <- Chunks\")\n",
    "\n",
    "\n",
    "info(f\"Append subreddit embeddings to user ToS\")\n",
    "df_user_emb_tmp = (\n",
    "    df_user_tos_proc_\n",
    "    .join(\n",
    "        df_sub_emb.drop('subreddit_name'),\n",
    "        how='left',\n",
    "        on=['subreddit_id']\n",
    "    )\n",
    "    # Drop or replace nulls as early as possible\n",
    "    .drop_nulls()\n",
    ")\n",
    "info(f\"{df_user_emb_tmp.shape} <- df.shape ToS with raw embeddings (no nulls)\")\n",
    "gc.collect()\n",
    "\n",
    "info(f\"Create DAG for weighted avg embedding per user+subreddit\")\n",
    "# Use dask.delayed() to compute these in parallel & prevent some OOM errors\n",
    "l_dfs_tos_wt = list()\n",
    "for i in tqdm(iter_chunks, mininterval=0.1, ascii=True):\n",
    "    l_dfs_tos_wt.append(\n",
    "        df_user_emb_tmp[['user_id', 'subreddit_id']][:batch_size]\n",
    "        .with_columns(\n",
    "            pl.DataFrame(\n",
    "                data=(\n",
    "                    np.multiply(\n",
    "                        df_user_emb_tmp['tos_30_pct'][:batch_size].to_numpy(),\n",
    "                        df_user_emb_tmp[l_emb_cols][:batch_size].to_numpy().T\n",
    "                    ).T\n",
    "                ),\n",
    "                schema=l_emb_cols,\n",
    "            )\n",
    "        )\n",
    "    )\n",
    "    # delete processed rows to save space\n",
    "    df_user_emb_tmp = df_user_emb_tmp[batch_size:]\n",
    "    gc.collect()\n",
    "\n",
    "df_user_emb_tmp_wt_del = dask.delayed(pl.concat)(\n",
    "    l_dfs_tos_wt, how='vertical', parallel=True\n",
    ")\n",
    "info(f\"Dask visualize DAG\")\n",
    "display(df_user_emb_tmp_wt_del.visualize(\n",
    "    f\"dask_DAG-{n_size}_data-{batch_size}_batch_size-{n_chunks}_chunks.png\"\n",
    "))\n",
    "gc.collect()\n",
    "info(f\"Compute weighted ToS embeddings...\")\n",
    "df_user_emb_tmp_wt = df_user_emb_tmp_wt_del.compute()\n",
    "info(f\"{df_user_emb_tmp_wt.shape} <- df.shape ToS with weighted embedddings\")\n",
    "\n",
    "info(f\"Delete temp df to free up memory\")\n",
    "del df_user_emb_tmp\n",
    "gc.collect()\n",
    "\n",
    "info(f\"Compute AGGREGATED user-level embedding...\")\n",
    "df_user_emb = (\n",
    "    df_user_emb_tmp_wt\n",
    "    .groupby(\n",
    "        ['user_id']\n",
    "    )\n",
    "    .agg(\n",
    "        [\n",
    "            pl.col(l_emb_cols).mean()\n",
    "        ]\n",
    "    )\n",
    ")\n",
    "info(f\"{df_user_emb.shape} <- df.shape User weighted embedddings\")\n",
    "del df_user_emb_tmp_wt\n",
    "gc.collect()\n",
    "print(df_user_emb.shape)"
   ]
  },
  {
   "cell_type": "code",
   "execution_count": 43,
   "id": "61e977cb",
   "metadata": {},
   "outputs": [
    {
     "data": {
      "text/html": [
       "<div><style>\n",
       ".dataframe > thead > tr > th,\n",
       ".dataframe > tbody > tr > td {\n",
       "  text-align: right;\n",
       "}\n",
       "</style>\n",
       "<small>shape: (4, 15)</small><table border=\"1\" class=\"dataframe\"><thead><tr><th>user_id</th><th>embedding_000</th><th>embedding_001</th><th>embedding_002</th><th>embedding_003</th><th>embedding_004</th><th>embedding_005</th><th>embedding_006</th><th>embedding_007</th><th>embedding_008</th><th>embedding_009</th><th>embedding_010</th><th>embedding_011</th><th>embedding_012</th><th>embedding_013</th></tr><tr><td>str</td><td>f64</td><td>f64</td><td>f64</td><td>f64</td><td>f64</td><td>f64</td><td>f64</td><td>f64</td><td>f64</td><td>f64</td><td>f64</td><td>f64</td><td>f64</td><td>f64</td></tr></thead><tbody><tr><td>&quot;t2_twhh5wdv&quot;</td><td>0.004141</td><td>0.029459</td><td>-0.003713</td><td>0.028143</td><td>-0.077531</td><td>0.005163</td><td>-0.061294</td><td>-0.013256</td><td>0.089381</td><td>0.008724</td><td>-0.007012</td><td>0.01263</td><td>-0.00186</td><td>-0.014056</td></tr><tr><td>&quot;t2_7udl6ym0&quot;</td><td>-0.011861</td><td>0.04832</td><td>-0.000346</td><td>-0.013351</td><td>0.027377</td><td>0.026391</td><td>0.015409</td><td>-0.05545</td><td>0.101491</td><td>-0.009014</td><td>-0.019459</td><td>0.048085</td><td>0.056746</td><td>-0.007862</td></tr><tr><td>&quot;t2_u3t6pevh&quot;</td><td>-0.02003</td><td>0.004009</td><td>0.000306</td><td>-0.015359</td><td>-0.013291</td><td>0.029022</td><td>0.01514</td><td>-0.01132</td><td>0.030041</td><td>-0.009109</td><td>-0.019547</td><td>0.032858</td><td>-0.012597</td><td>0.001199</td></tr><tr><td>&quot;t2_4e9bmguy&quot;</td><td>-0.002148</td><td>-0.001843</td><td>0.002933</td><td>-0.013982</td><td>0.000892</td><td>-0.006881</td><td>-0.008587</td><td>-0.001921</td><td>0.005288</td><td>-0.015875</td><td>-0.009865</td><td>0.003803</td><td>0.006929</td><td>0.000392</td></tr></tbody></table></div>"
      ],
      "text/plain": [
       "shape: (4, 15)\n",
       "┌───┬────────────┬────────────┬────────────┬───┬────────────┬────────────┬────────────┬────────────┐\n",
       "│ u ┆ embedding_ ┆ embedding_ ┆ embedding_ ┆ … ┆ embedding_ ┆ embedding_ ┆ embedding_ ┆ embedding_ │\n",
       "│ s ┆ 000        ┆ 001        ┆ 002        ┆   ┆ 010        ┆ 011        ┆ 012        ┆ 013        │\n",
       "│ e ┆ ---        ┆ ---        ┆ ---        ┆   ┆ ---        ┆ ---        ┆ ---        ┆ ---        │\n",
       "│ r ┆ f64        ┆ f64        ┆ f64        ┆   ┆ f64        ┆ f64        ┆ f64        ┆ f64        │\n",
       "│ _ ┆            ┆            ┆            ┆   ┆            ┆            ┆            ┆            │\n",
       "│ i ┆            ┆            ┆            ┆   ┆            ┆            ┆            ┆            │\n",
       "│ d ┆            ┆            ┆            ┆   ┆            ┆            ┆            ┆            │\n",
       "│ - ┆            ┆            ┆            ┆   ┆            ┆            ┆            ┆            │\n",
       "│ - ┆            ┆            ┆            ┆   ┆            ┆            ┆            ┆            │\n",
       "│ - ┆            ┆            ┆            ┆   ┆            ┆            ┆            ┆            │\n",
       "│ s ┆            ┆            ┆            ┆   ┆            ┆            ┆            ┆            │\n",
       "│ t ┆            ┆            ┆            ┆   ┆            ┆            ┆            ┆            │\n",
       "│ r ┆            ┆            ┆            ┆   ┆            ┆            ┆            ┆            │\n",
       "╞═══╪════════════╪════════════╪════════════╪═══╪════════════╪════════════╪════════════╪════════════╡\n",
       "│ t ┆ 0.004141   ┆ 0.029459   ┆ -0.003713  ┆ … ┆ -0.007012  ┆ 0.01263    ┆ -0.00186   ┆ -0.014056  │\n",
       "│ 2 ┆            ┆            ┆            ┆   ┆            ┆            ┆            ┆            │\n",
       "│ _ ┆            ┆            ┆            ┆   ┆            ┆            ┆            ┆            │\n",
       "│ t ┆            ┆            ┆            ┆   ┆            ┆            ┆            ┆            │\n",
       "│ w ┆            ┆            ┆            ┆   ┆            ┆            ┆            ┆            │\n",
       "│ h ┆            ┆            ┆            ┆   ┆            ┆            ┆            ┆            │\n",
       "│ h ┆            ┆            ┆            ┆   ┆            ┆            ┆            ┆            │\n",
       "│ 5 ┆            ┆            ┆            ┆   ┆            ┆            ┆            ┆            │\n",
       "│ w ┆            ┆            ┆            ┆   ┆            ┆            ┆            ┆            │\n",
       "│ d ┆            ┆            ┆            ┆   ┆            ┆            ┆            ┆            │\n",
       "│ v ┆            ┆            ┆            ┆   ┆            ┆            ┆            ┆            │\n",
       "│ t ┆ -0.011861  ┆ 0.04832    ┆ -0.000346  ┆ … ┆ -0.019459  ┆ 0.048085   ┆ 0.056746   ┆ -0.007862  │\n",
       "│ 2 ┆            ┆            ┆            ┆   ┆            ┆            ┆            ┆            │\n",
       "│ _ ┆            ┆            ┆            ┆   ┆            ┆            ┆            ┆            │\n",
       "│ 7 ┆            ┆            ┆            ┆   ┆            ┆            ┆            ┆            │\n",
       "│ u ┆            ┆            ┆            ┆   ┆            ┆            ┆            ┆            │\n",
       "│ d ┆            ┆            ┆            ┆   ┆            ┆            ┆            ┆            │\n",
       "│ l ┆            ┆            ┆            ┆   ┆            ┆            ┆            ┆            │\n",
       "│ 6 ┆            ┆            ┆            ┆   ┆            ┆            ┆            ┆            │\n",
       "│ y ┆            ┆            ┆            ┆   ┆            ┆            ┆            ┆            │\n",
       "│ m ┆            ┆            ┆            ┆   ┆            ┆            ┆            ┆            │\n",
       "│ 0 ┆            ┆            ┆            ┆   ┆            ┆            ┆            ┆            │\n",
       "│ t ┆ -0.02003   ┆ 0.004009   ┆ 0.000306   ┆ … ┆ -0.019547  ┆ 0.032858   ┆ -0.012597  ┆ 0.001199   │\n",
       "│ 2 ┆            ┆            ┆            ┆   ┆            ┆            ┆            ┆            │\n",
       "│ _ ┆            ┆            ┆            ┆   ┆            ┆            ┆            ┆            │\n",
       "│ u ┆            ┆            ┆            ┆   ┆            ┆            ┆            ┆            │\n",
       "│ 3 ┆            ┆            ┆            ┆   ┆            ┆            ┆            ┆            │\n",
       "│ t ┆            ┆            ┆            ┆   ┆            ┆            ┆            ┆            │\n",
       "│ 6 ┆            ┆            ┆            ┆   ┆            ┆            ┆            ┆            │\n",
       "│ p ┆            ┆            ┆            ┆   ┆            ┆            ┆            ┆            │\n",
       "│ e ┆            ┆            ┆            ┆   ┆            ┆            ┆            ┆            │\n",
       "│ v ┆            ┆            ┆            ┆   ┆            ┆            ┆            ┆            │\n",
       "│ h ┆            ┆            ┆            ┆   ┆            ┆            ┆            ┆            │\n",
       "│ t ┆ -0.002148  ┆ -0.001843  ┆ 0.002933   ┆ … ┆ -0.009865  ┆ 0.003803   ┆ 0.006929   ┆ 0.000392   │\n",
       "│ 2 ┆            ┆            ┆            ┆   ┆            ┆            ┆            ┆            │\n",
       "│ _ ┆            ┆            ┆            ┆   ┆            ┆            ┆            ┆            │\n",
       "│ 4 ┆            ┆            ┆            ┆   ┆            ┆            ┆            ┆            │\n",
       "│ e ┆            ┆            ┆            ┆   ┆            ┆            ┆            ┆            │\n",
       "│ 9 ┆            ┆            ┆            ┆   ┆            ┆            ┆            ┆            │\n",
       "│ b ┆            ┆            ┆            ┆   ┆            ┆            ┆            ┆            │\n",
       "│ m ┆            ┆            ┆            ┆   ┆            ┆            ┆            ┆            │\n",
       "│ g ┆            ┆            ┆            ┆   ┆            ┆            ┆            ┆            │\n",
       "│ u ┆            ┆            ┆            ┆   ┆            ┆            ┆            ┆            │\n",
       "│ y ┆            ┆            ┆            ┆   ┆            ┆            ┆            ┆            │\n",
       "└───┴────────────┴────────────┴────────────┴───┴────────────┴────────────┴────────────┴────────────┘"
      ]
     },
     "execution_count": 43,
     "metadata": {},
     "output_type": "execute_result"
    }
   ],
   "source": [
    "df_user_emb[:4, :15]"
   ]
  },
  {
   "cell_type": "markdown",
   "id": "a8282e09",
   "metadata": {},
   "source": [
    "### Save user embeddings"
   ]
  },
  {
   "cell_type": "code",
   "execution_count": 44,
   "id": "4b7def98",
   "metadata": {},
   "outputs": [
    {
     "name": "stderr",
     "output_type": "stream",
     "text": [
      "18:35:03 | INFO | \"User embedding name:\n",
      "/home/jupyter/subreddit_clustering_i18n/data/models/pn_model/pn_manual_test_2023-04-17_182332/df_user_embedding-2023-04-17_1835-3164772_by_101.parquet\"\n"
     ]
    },
    {
     "name": "stdout",
     "output_type": "stream",
     "text": [
      "CPU times: user 24.6 s, sys: 2.03 s, total: 26.6 s\n",
      "Wall time: 32 s\n"
     ]
    }
   ],
   "source": [
    "%%time\n",
    "\n",
    "r_, c_ = df_user_emb.shape\n",
    "\n",
    "f_user_embedding_name = (\n",
    "    path_this_model / \n",
    "    f\"df_user_embedding-{datetime.utcnow().strftime('%Y-%m-%d_%H%M')}\"\n",
    "    f\"-{r_}_by_{c_}.parquet\"\n",
    ")\n",
    "info(f\"User embedding name:\\n{f_user_embedding_name}\")\n",
    "\n",
    "df_user_emb.write_parquet(\n",
    "    f_user_embedding_name\n",
    ")\n",
    "\n",
    "del r_, c_"
   ]
  },
  {
   "cell_type": "code",
   "execution_count": 45,
   "id": "86349497",
   "metadata": {},
   "outputs": [
    {
     "data": {
      "text/plain": [
       "['de']"
      ]
     },
     "execution_count": 45,
     "metadata": {},
     "output_type": "execute_result"
    }
   ],
   "source": [
    "l_target_subreddits"
   ]
  },
  {
   "cell_type": "markdown",
   "id": "0f6fbc84",
   "metadata": {},
   "source": [
    "# Calculate ANN index & ANN users\n",
    "\n",
    "\n",
    "ETA for 1 campaign (~3 million users):\n",
    "- Compute index: 4 minutes\n",
    "- Compute ANN: \n",
    "\n",
    "---\n",
    "\n",
    "In PROD: \n",
    "- create one index PER Subreddit<>COUNTRY\n",
    "    - This way we ensure a minimum of N users per country\n",
    "    \n",
    "In this test, we've already filtered to only one country, so no need to create individual index.\n"
   ]
  },
  {
   "cell_type": "code",
   "execution_count": null,
   "id": "d813ca9e",
   "metadata": {},
   "outputs": [],
   "source": [
    "TODO"
   ]
  },
  {
   "cell_type": "code",
   "execution_count": 65,
   "id": "f45765b0",
   "metadata": {},
   "outputs": [
    {
     "data": {
      "text/plain": [
       "(3164772, 101)"
      ]
     },
     "execution_count": 65,
     "metadata": {},
     "output_type": "execute_result"
    }
   ],
   "source": [
    "df_user_emb.shape"
   ]
  },
  {
   "cell_type": "code",
   "execution_count": 47,
   "id": "8c38c1cc",
   "metadata": {},
   "outputs": [
    {
     "data": {
      "text/html": [
       "<div><style>\n",
       ".dataframe > thead > tr > th,\n",
       ".dataframe > tbody > tr > td {\n",
       "  text-align: right;\n",
       "}\n",
       "</style>\n",
       "<small>shape: (5, 101)</small><table border=\"1\" class=\"dataframe\"><thead><tr><th>user_id</th><th>embedding_000</th><th>embedding_001</th><th>embedding_002</th><th>embedding_003</th><th>embedding_004</th><th>embedding_005</th><th>embedding_006</th><th>embedding_007</th><th>embedding_008</th><th>embedding_009</th><th>embedding_010</th><th>embedding_011</th><th>embedding_012</th><th>embedding_013</th><th>embedding_014</th><th>embedding_015</th><th>embedding_016</th><th>embedding_017</th><th>embedding_018</th><th>embedding_019</th><th>embedding_020</th><th>embedding_021</th><th>embedding_022</th><th>embedding_023</th><th>embedding_024</th><th>embedding_025</th><th>embedding_026</th><th>embedding_027</th><th>embedding_028</th><th>embedding_029</th><th>embedding_030</th><th>embedding_031</th><th>embedding_032</th><th>embedding_033</th><th>embedding_034</th><th>embedding_035</th><th>&hellip;</th><th>embedding_063</th><th>embedding_064</th><th>embedding_065</th><th>embedding_066</th><th>embedding_067</th><th>embedding_068</th><th>embedding_069</th><th>embedding_070</th><th>embedding_071</th><th>embedding_072</th><th>embedding_073</th><th>embedding_074</th><th>embedding_075</th><th>embedding_076</th><th>embedding_077</th><th>embedding_078</th><th>embedding_079</th><th>embedding_080</th><th>embedding_081</th><th>embedding_082</th><th>embedding_083</th><th>embedding_084</th><th>embedding_085</th><th>embedding_086</th><th>embedding_087</th><th>embedding_088</th><th>embedding_089</th><th>embedding_090</th><th>embedding_091</th><th>embedding_092</th><th>embedding_093</th><th>embedding_094</th><th>embedding_095</th><th>embedding_096</th><th>embedding_097</th><th>embedding_098</th><th>embedding_099</th></tr><tr><td>str</td><td>f64</td><td>f64</td><td>f64</td><td>f64</td><td>f64</td><td>f64</td><td>f64</td><td>f64</td><td>f64</td><td>f64</td><td>f64</td><td>f64</td><td>f64</td><td>f64</td><td>f64</td><td>f64</td><td>f64</td><td>f64</td><td>f64</td><td>f64</td><td>f64</td><td>f64</td><td>f64</td><td>f64</td><td>f64</td><td>f64</td><td>f64</td><td>f64</td><td>f64</td><td>f64</td><td>f64</td><td>f64</td><td>f64</td><td>f64</td><td>f64</td><td>f64</td><td>&hellip;</td><td>f64</td><td>f64</td><td>f64</td><td>f64</td><td>f64</td><td>f64</td><td>f64</td><td>f64</td><td>f64</td><td>f64</td><td>f64</td><td>f64</td><td>f64</td><td>f64</td><td>f64</td><td>f64</td><td>f64</td><td>f64</td><td>f64</td><td>f64</td><td>f64</td><td>f64</td><td>f64</td><td>f64</td><td>f64</td><td>f64</td><td>f64</td><td>f64</td><td>f64</td><td>f64</td><td>f64</td><td>f64</td><td>f64</td><td>f64</td><td>f64</td><td>f64</td><td>f64</td></tr></thead><tbody><tr><td>&quot;t2_twhh5wdv&quot;</td><td>0.004141</td><td>0.029459</td><td>-0.003713</td><td>0.028143</td><td>-0.077531</td><td>0.005163</td><td>-0.061294</td><td>-0.013256</td><td>0.089381</td><td>0.008724</td><td>-0.007012</td><td>0.01263</td><td>-0.00186</td><td>-0.014056</td><td>-0.042939</td><td>-0.041057</td><td>0.056402</td><td>0.039903</td><td>-0.032668</td><td>-0.145008</td><td>-0.011047</td><td>0.010223</td><td>-0.027501</td><td>-0.107224</td><td>-0.019687</td><td>-0.078112</td><td>-0.004918</td><td>0.022133</td><td>0.056099</td><td>0.051401</td><td>0.017163</td><td>0.050346</td><td>-0.001012</td><td>-0.088674</td><td>-0.053262</td><td>0.028008</td><td>&hellip;</td><td>0.016407</td><td>0.03694</td><td>0.016195</td><td>-0.029825</td><td>-0.01818</td><td>0.055078</td><td>-0.005617</td><td>0.000694</td><td>0.009234</td><td>0.047815</td><td>0.095523</td><td>-0.018007</td><td>0.079865</td><td>0.032524</td><td>0.031472</td><td>-0.031207</td><td>-0.001558</td><td>-0.024162</td><td>0.045266</td><td>-0.029591</td><td>-0.09715</td><td>-0.063206</td><td>-0.021157</td><td>0.039924</td><td>-0.013201</td><td>-0.014451</td><td>-0.026463</td><td>0.013504</td><td>0.083033</td><td>-0.007895</td><td>-0.015048</td><td>-0.067067</td><td>-0.071554</td><td>0.039739</td><td>0.040948</td><td>0.026312</td><td>-0.01077</td></tr><tr><td>&quot;t2_7udl6ym0&quot;</td><td>-0.011861</td><td>0.04832</td><td>-0.000346</td><td>-0.013351</td><td>0.027377</td><td>0.026391</td><td>0.015409</td><td>-0.05545</td><td>0.101491</td><td>-0.009014</td><td>-0.019459</td><td>0.048085</td><td>0.056746</td><td>-0.007862</td><td>-0.024119</td><td>-0.036431</td><td>-0.016408</td><td>0.070039</td><td>-0.053152</td><td>-0.040478</td><td>0.016791</td><td>0.04526</td><td>-0.011815</td><td>0.012074</td><td>0.067766</td><td>-0.011681</td><td>-0.033175</td><td>0.004867</td><td>-0.014718</td><td>0.085318</td><td>-0.015358</td><td>0.043775</td><td>0.064979</td><td>-0.038712</td><td>-0.046433</td><td>0.004971</td><td>&hellip;</td><td>0.042948</td><td>0.021224</td><td>-0.018623</td><td>-0.07243</td><td>0.062449</td><td>0.034733</td><td>-0.018516</td><td>0.029698</td><td>0.000137</td><td>-0.006222</td><td>0.030813</td><td>-0.078384</td><td>-0.011626</td><td>0.045825</td><td>0.015768</td><td>-0.03021</td><td>0.026944</td><td>-0.004163</td><td>-0.035858</td><td>0.051709</td><td>-0.000716</td><td>-0.008152</td><td>-0.00997</td><td>0.011435</td><td>-0.020597</td><td>0.042658</td><td>0.028671</td><td>0.005757</td><td>0.01763</td><td>0.032779</td><td>-0.015392</td><td>-0.015113</td><td>-0.034427</td><td>-0.00283</td><td>0.006822</td><td>0.004631</td><td>-0.012634</td></tr><tr><td>&quot;t2_u3t6pevh&quot;</td><td>-0.02003</td><td>0.004009</td><td>0.000306</td><td>-0.015359</td><td>-0.013291</td><td>0.029022</td><td>0.01514</td><td>-0.01132</td><td>0.030041</td><td>-0.009109</td><td>-0.019547</td><td>0.032858</td><td>-0.012597</td><td>0.001199</td><td>-0.002298</td><td>-0.015443</td><td>-0.006463</td><td>-0.017236</td><td>-0.01853</td><td>-0.012946</td><td>0.004981</td><td>0.023678</td><td>0.006267</td><td>-0.012418</td><td>0.014002</td><td>-0.00166</td><td>-0.001701</td><td>0.000413</td><td>0.002671</td><td>0.013542</td><td>-0.004434</td><td>0.015022</td><td>-0.001352</td><td>-0.038142</td><td>0.000064</td><td>-0.02502</td><td>&hellip;</td><td>0.025987</td><td>-0.011288</td><td>0.03305</td><td>0.010789</td><td>-0.002125</td><td>0.016624</td><td>0.010197</td><td>-0.016772</td><td>0.010066</td><td>-0.008293</td><td>0.019713</td><td>-0.024857</td><td>0.010828</td><td>0.048262</td><td>-0.001516</td><td>-0.03291</td><td>0.017397</td><td>-0.017694</td><td>0.006565</td><td>0.020258</td><td>-0.016876</td><td>-0.057439</td><td>-0.036386</td><td>0.034808</td><td>0.018698</td><td>0.009387</td><td>-0.02613</td><td>0.005604</td><td>0.027821</td><td>0.000065</td><td>-0.03371</td><td>-0.006769</td><td>-0.025922</td><td>0.027712</td><td>0.004252</td><td>0.019489</td><td>-0.003706</td></tr><tr><td>&quot;t2_4e9bmguy&quot;</td><td>-0.002148</td><td>-0.001843</td><td>0.002933</td><td>-0.013982</td><td>0.000892</td><td>-0.006881</td><td>-0.008587</td><td>-0.001921</td><td>0.005288</td><td>-0.015875</td><td>-0.009865</td><td>0.003803</td><td>0.006929</td><td>0.000392</td><td>0.000625</td><td>-0.004239</td><td>0.012628</td><td>-0.008006</td><td>-0.01455</td><td>-0.004331</td><td>-0.002665</td><td>0.005857</td><td>-0.00334</td><td>-0.005579</td><td>0.009813</td><td>0.002462</td><td>-0.005114</td><td>0.007482</td><td>0.002194</td><td>0.015244</td><td>-0.005663</td><td>0.00372</td><td>-0.00346</td><td>-0.008764</td><td>0.008121</td><td>-0.004787</td><td>&hellip;</td><td>-0.01092</td><td>-0.009226</td><td>0.013566</td><td>-0.008058</td><td>0.002412</td><td>0.003835</td><td>-0.005583</td><td>0.003313</td><td>0.006271</td><td>-0.002804</td><td>0.008379</td><td>-0.001555</td><td>0.000306</td><td>0.016927</td><td>-0.001089</td><td>-0.000458</td><td>0.00331</td><td>0.003594</td><td>-0.004892</td><td>0.012341</td><td>0.003119</td><td>-0.010032</td><td>-0.003301</td><td>0.006903</td><td>0.002568</td><td>0.001528</td><td>-0.020201</td><td>-0.011854</td><td>0.016652</td><td>-0.007457</td><td>-0.00649</td><td>0.00803</td><td>-0.008092</td><td>-0.003365</td><td>-0.000756</td><td>-0.000884</td><td>-0.002102</td></tr><tr><td>&quot;t2_e4iyt5iq&quot;</td><td>0.002739</td><td>-0.007624</td><td>0.008721</td><td>-0.005765</td><td>-0.005982</td><td>0.006484</td><td>-0.004668</td><td>0.004369</td><td>0.004849</td><td>-0.013055</td><td>-0.003451</td><td>0.004952</td><td>0.002984</td><td>-0.007407</td><td>-0.001941</td><td>-0.002353</td><td>0.002366</td><td>-0.004688</td><td>-0.012669</td><td>-0.009134</td><td>-0.004936</td><td>0.002691</td><td>0.005543</td><td>-0.002889</td><td>0.014893</td><td>0.004438</td><td>-0.004098</td><td>0.002278</td><td>0.002836</td><td>0.000697</td><td>-0.007173</td><td>0.000931</td><td>0.002336</td><td>0.000758</td><td>0.014446</td><td>0.009513</td><td>&hellip;</td><td>-0.001215</td><td>-0.004208</td><td>0.00591</td><td>-0.001926</td><td>0.005546</td><td>-0.000875</td><td>-0.01052</td><td>-0.003138</td><td>-0.00522</td><td>0.001438</td><td>0.006662</td><td>-0.000074</td><td>0.000395</td><td>0.009944</td><td>-0.002397</td><td>0.003351</td><td>0.004717</td><td>0.004446</td><td>-0.001112</td><td>0.001737</td><td>-0.001297</td><td>-0.000004</td><td>-0.000707</td><td>0.005278</td><td>-0.001005</td><td>0.000766</td><td>-0.00572</td><td>-0.007277</td><td>0.000462</td><td>-0.006597</td><td>0.001705</td><td>0.006658</td><td>0.00297</td><td>0.002409</td><td>-0.00745</td><td>-0.003737</td><td>-0.008609</td></tr></tbody></table></div>"
      ],
      "text/plain": [
       "shape: (5, 101)\n",
       "┌───┬────────────┬────────────┬────────────┬───┬────────────┬────────────┬────────────┬────────────┐\n",
       "│ u ┆ embedding_ ┆ embedding_ ┆ embedding_ ┆ … ┆ embedding_ ┆ embedding_ ┆ embedding_ ┆ embedding_ │\n",
       "│ s ┆ 000        ┆ 001        ┆ 002        ┆   ┆ 096        ┆ 097        ┆ 098        ┆ 099        │\n",
       "│ e ┆ ---        ┆ ---        ┆ ---        ┆   ┆ ---        ┆ ---        ┆ ---        ┆ ---        │\n",
       "│ r ┆ f64        ┆ f64        ┆ f64        ┆   ┆ f64        ┆ f64        ┆ f64        ┆ f64        │\n",
       "│ _ ┆            ┆            ┆            ┆   ┆            ┆            ┆            ┆            │\n",
       "│ i ┆            ┆            ┆            ┆   ┆            ┆            ┆            ┆            │\n",
       "│ d ┆            ┆            ┆            ┆   ┆            ┆            ┆            ┆            │\n",
       "│ - ┆            ┆            ┆            ┆   ┆            ┆            ┆            ┆            │\n",
       "│ - ┆            ┆            ┆            ┆   ┆            ┆            ┆            ┆            │\n",
       "│ - ┆            ┆            ┆            ┆   ┆            ┆            ┆            ┆            │\n",
       "│ s ┆            ┆            ┆            ┆   ┆            ┆            ┆            ┆            │\n",
       "│ t ┆            ┆            ┆            ┆   ┆            ┆            ┆            ┆            │\n",
       "│ r ┆            ┆            ┆            ┆   ┆            ┆            ┆            ┆            │\n",
       "╞═══╪════════════╪════════════╪════════════╪═══╪════════════╪════════════╪════════════╪════════════╡\n",
       "│ t ┆ 0.004141   ┆ 0.029459   ┆ -0.003713  ┆ … ┆ 0.039739   ┆ 0.040948   ┆ 0.026312   ┆ -0.01077   │\n",
       "│ 2 ┆            ┆            ┆            ┆   ┆            ┆            ┆            ┆            │\n",
       "│ _ ┆            ┆            ┆            ┆   ┆            ┆            ┆            ┆            │\n",
       "│ t ┆            ┆            ┆            ┆   ┆            ┆            ┆            ┆            │\n",
       "│ w ┆            ┆            ┆            ┆   ┆            ┆            ┆            ┆            │\n",
       "│ h ┆            ┆            ┆            ┆   ┆            ┆            ┆            ┆            │\n",
       "│ h ┆            ┆            ┆            ┆   ┆            ┆            ┆            ┆            │\n",
       "│ 5 ┆            ┆            ┆            ┆   ┆            ┆            ┆            ┆            │\n",
       "│ w ┆            ┆            ┆            ┆   ┆            ┆            ┆            ┆            │\n",
       "│ d ┆            ┆            ┆            ┆   ┆            ┆            ┆            ┆            │\n",
       "│ v ┆            ┆            ┆            ┆   ┆            ┆            ┆            ┆            │\n",
       "│ t ┆ -0.011861  ┆ 0.04832    ┆ -0.000346  ┆ … ┆ -0.00283   ┆ 0.006822   ┆ 0.004631   ┆ -0.012634  │\n",
       "│ 2 ┆            ┆            ┆            ┆   ┆            ┆            ┆            ┆            │\n",
       "│ _ ┆            ┆            ┆            ┆   ┆            ┆            ┆            ┆            │\n",
       "│ 7 ┆            ┆            ┆            ┆   ┆            ┆            ┆            ┆            │\n",
       "│ u ┆            ┆            ┆            ┆   ┆            ┆            ┆            ┆            │\n",
       "│ d ┆            ┆            ┆            ┆   ┆            ┆            ┆            ┆            │\n",
       "│ l ┆            ┆            ┆            ┆   ┆            ┆            ┆            ┆            │\n",
       "│ 6 ┆            ┆            ┆            ┆   ┆            ┆            ┆            ┆            │\n",
       "│ y ┆            ┆            ┆            ┆   ┆            ┆            ┆            ┆            │\n",
       "│ m ┆            ┆            ┆            ┆   ┆            ┆            ┆            ┆            │\n",
       "│ 0 ┆            ┆            ┆            ┆   ┆            ┆            ┆            ┆            │\n",
       "│ t ┆ -0.02003   ┆ 0.004009   ┆ 0.000306   ┆ … ┆ 0.027712   ┆ 0.004252   ┆ 0.019489   ┆ -0.003706  │\n",
       "│ 2 ┆            ┆            ┆            ┆   ┆            ┆            ┆            ┆            │\n",
       "│ _ ┆            ┆            ┆            ┆   ┆            ┆            ┆            ┆            │\n",
       "│ u ┆            ┆            ┆            ┆   ┆            ┆            ┆            ┆            │\n",
       "│ 3 ┆            ┆            ┆            ┆   ┆            ┆            ┆            ┆            │\n",
       "│ t ┆            ┆            ┆            ┆   ┆            ┆            ┆            ┆            │\n",
       "│ 6 ┆            ┆            ┆            ┆   ┆            ┆            ┆            ┆            │\n",
       "│ p ┆            ┆            ┆            ┆   ┆            ┆            ┆            ┆            │\n",
       "│ e ┆            ┆            ┆            ┆   ┆            ┆            ┆            ┆            │\n",
       "│ v ┆            ┆            ┆            ┆   ┆            ┆            ┆            ┆            │\n",
       "│ h ┆            ┆            ┆            ┆   ┆            ┆            ┆            ┆            │\n",
       "│ t ┆ -0.002148  ┆ -0.001843  ┆ 0.002933   ┆ … ┆ -0.003365  ┆ -0.000756  ┆ -0.000884  ┆ -0.002102  │\n",
       "│ 2 ┆            ┆            ┆            ┆   ┆            ┆            ┆            ┆            │\n",
       "│ _ ┆            ┆            ┆            ┆   ┆            ┆            ┆            ┆            │\n",
       "│ 4 ┆            ┆            ┆            ┆   ┆            ┆            ┆            ┆            │\n",
       "│ e ┆            ┆            ┆            ┆   ┆            ┆            ┆            ┆            │\n",
       "│ 9 ┆            ┆            ┆            ┆   ┆            ┆            ┆            ┆            │\n",
       "│ b ┆            ┆            ┆            ┆   ┆            ┆            ┆            ┆            │\n",
       "│ m ┆            ┆            ┆            ┆   ┆            ┆            ┆            ┆            │\n",
       "│ g ┆            ┆            ┆            ┆   ┆            ┆            ┆            ┆            │\n",
       "│ u ┆            ┆            ┆            ┆   ┆            ┆            ┆            ┆            │\n",
       "│ y ┆            ┆            ┆            ┆   ┆            ┆            ┆            ┆            │\n",
       "│ t ┆ 0.002739   ┆ -0.007624  ┆ 0.008721   ┆ … ┆ 0.002409   ┆ -0.00745   ┆ -0.003737  ┆ -0.008609  │\n",
       "│ 2 ┆            ┆            ┆            ┆   ┆            ┆            ┆            ┆            │\n",
       "│ _ ┆            ┆            ┆            ┆   ┆            ┆            ┆            ┆            │\n",
       "│ e ┆            ┆            ┆            ┆   ┆            ┆            ┆            ┆            │\n",
       "│ 4 ┆            ┆            ┆            ┆   ┆            ┆            ┆            ┆            │\n",
       "│ i ┆            ┆            ┆            ┆   ┆            ┆            ┆            ┆            │\n",
       "│ y ┆            ┆            ┆            ┆   ┆            ┆            ┆            ┆            │\n",
       "│ t ┆            ┆            ┆            ┆   ┆            ┆            ┆            ┆            │\n",
       "│ 5 ┆            ┆            ┆            ┆   ┆            ┆            ┆            ┆            │\n",
       "│ i ┆            ┆            ┆            ┆   ┆            ┆            ┆            ┆            │\n",
       "│ q ┆            ┆            ┆            ┆   ┆            ┆            ┆            ┆            │\n",
       "└───┴────────────┴────────────┴────────────┴───┴────────────┴────────────┴────────────┴────────────┘"
      ]
     },
     "execution_count": 47,
     "metadata": {},
     "output_type": "execute_result"
    }
   ],
   "source": [
    "df_user_emb.head()"
   ]
  },
  {
   "cell_type": "code",
   "execution_count": 48,
   "id": "4ccebba1",
   "metadata": {},
   "outputs": [],
   "source": [
    "d_ann_params = {\n",
    "    'n_trees': 200,\n",
    "    'metric': 'angular',\n",
    "}"
   ]
  },
  {
   "cell_type": "code",
   "execution_count": 52,
   "id": "b976e5ca",
   "metadata": {},
   "outputs": [
    {
     "name": "stdout",
     "output_type": "stream",
     "text": [
      "CPU times: user 3h 23min 8s, sys: 2min 31s, total: 3h 25min 40s\n",
      "Wall time: 3min 22s\n"
     ]
    }
   ],
   "source": [
    "%%time\n",
    "\n",
    "index_cols = ['user_id']\n",
    "l_embedding_cols = [c for c in df_user_emb.columns if c.startswith('embedding_')]\n",
    "\n",
    "\n",
    "# This version of AnnoyIndex expects a pandas DF\n",
    "#  so it might take a little extra time to compute\n",
    "info(f\"Define ANNOY index\")\n",
    "nn_index = AnnoyIndex(\n",
    "    df_user_emb[l_embedding_cols + index_cols].to_pandas(),\n",
    "    index_cols=index_cols,\n",
    "    metric=d_ann_params['metric'],\n",
    "    n_trees=d_ann_params['n_trees'],\n",
    ")\n",
    "\n",
    "info(f\"Start creating ANNOY index...\")\n",
    "nn_index.build()"
   ]
  },
  {
   "cell_type": "code",
   "execution_count": 53,
   "id": "c7575d8f",
   "metadata": {},
   "outputs": [
    {
     "data": {
      "text/plain": [
       "polars.dataframe.frame.DataFrame"
      ]
     },
     "execution_count": 53,
     "metadata": {},
     "output_type": "execute_result"
    }
   ],
   "source": [
    "type(df_sub_emb)"
   ]
  },
  {
   "cell_type": "code",
   "execution_count": 62,
   "id": "ce5b4dc5",
   "metadata": {},
   "outputs": [
    {
     "data": {
      "text/plain": [
       "(100,)"
      ]
     },
     "execution_count": 62,
     "metadata": {},
     "output_type": "execute_result"
    }
   ],
   "source": [
    "# convert target sub into a vector for query\n",
    "q_target_sub = (\n",
    "    df_sub_emb\n",
    "    .filter(\n",
    "        df_sub_emb['subreddit_name'] == l_target_subreddits\n",
    "    )\n",
    "    .select(\n",
    "        pl.col(l_emb_cols)\n",
    "    )\n",
    "    .to_numpy()\n",
    "    [0]\n",
    ")\n",
    "\n",
    "q_target_sub.shape"
   ]
  },
  {
   "cell_type": "code",
   "execution_count": 82,
   "id": "a3333f41",
   "metadata": {},
   "outputs": [
    {
     "name": "stderr",
     "output_type": "stream",
     "text": [
      "22:26:11 | INFO | \"Start computing ANNs for n=3,164,772\"\n",
      "22:27:18 | INFO | \"(3164772, 4) <- df_nns_by_vector shape\"\n",
      "22:27:18 | INFO | \"Adding index labels (subreddit ID & Name)\"\n",
      "22:27:20 | INFO | \"Done adding index names\"\n",
      "22:27:20 | INFO | \"(3164772, 5) <- df_nns_by_v shape\"\n",
      "22:27:20 | INFO | \"Calculating cosine similarity...\"\n"
     ]
    },
    {
     "name": "stdout",
     "output_type": "stream",
     "text": [
      "CPU times: user 1min 5s, sys: 2.9 s, total: 1min 8s\n",
      "Wall time: 1min 8s\n"
     ]
    }
   ],
   "source": [
    "%%time\n",
    "# inputs\n",
    "vector: Union[np.array, pd.Series] = q_target_sub\n",
    "n: int = len(df_user_emb)\n",
    "search_k = -1\n",
    "include_distances: bool = True\n",
    "\n",
    "col_distance: str = 'distance'\n",
    "col_distance_rank: str = 'distance_rank'\n",
    "col_vector_name: str = 'subreddit_name'\n",
    "col_cosine_similarity: str = 'cosine_similarity'\n",
    "\n",
    "append_i = True\n",
    "cosine_similarity = True\n",
    "\n",
    "\n",
    "# Execute fxn:\n",
    "info(f\"Start computing ANNs for n={n:,.0f}\")\n",
    "i_nn: Tuple[int, float] = nn_index.index.get_nns_by_vector(\n",
    "    vector=vector,\n",
    "    n=n, \n",
    "    search_k=search_k, \n",
    "    include_distances=include_distances,\n",
    ")\n",
    "\n",
    "\n",
    "# TBD: skip the first item because the most similar one is always self?\n",
    "df_nns_by_v = pd.DataFrame(\n",
    "    {\n",
    "        'subreddit_name': [l_target_subreddits[0]] * n,\n",
    "        'nn_ix': i_nn[0][:],\n",
    "        col_distance: i_nn[1][:],\n",
    "        col_distance_rank: [v for v in range(1, n + 1)]\n",
    "    },\n",
    ")\n",
    "info(f\"{df_nns_by_v.shape} <- df_nns_by_vector shape\")\n",
    "\n",
    "if append_i:\n",
    "    info(f\"Adding index labels (subreddit ID & Name)\")\n",
    "    df_labels_reset_index = nn_index.index_labels_df.copy().reset_index(drop=True)\n",
    "\n",
    "    # Append index (e.g., IDs & names) for ANNs (nearest neighbors)\n",
    "    # NOTE: using .merge() based on index_labels_df is 100x (or more) faster than\n",
    "    #   pd.Series().replace() with a dictionary(!!)\n",
    "    df_nns_by_v = (\n",
    "        df_labels_reset_index\n",
    "        # We only append the ANN index because the annoy index doesn't have info about \n",
    "        # the vector (subreddit) we searched\n",
    "        #  We shouldn't need to reset or rename the index\n",
    "        .merge(\n",
    "            df_nns_by_v,\n",
    "            how='right',\n",
    "            left_index=True,\n",
    "            right_on='nn_ix',\n",
    "        )\n",
    "    )\n",
    "    info(f\"Done adding index names\")\n",
    "    info(f\"{df_nns_by_v.shape} <- df_nns_by_v shape\")\n",
    "\n",
    "if cosine_similarity:\n",
    "    # from: https://github.com/spotify/annoy/issues/112#issuecomment-686513356\n",
    "    # ```\n",
    "    # cosine_similarity = 1 - cosine_distance^2/2\n",
    "    # ```\n",
    "    if nn_index.metric == 'angular':\n",
    "        info(f\"Calculating cosine similarity...\")\n",
    "        df_nns_by_v[col_cosine_similarity] = (\n",
    "            1 -\n",
    "            (df_nns_by_v['distance'] ** 2) / 2\n",
    "        )\n",
    "    else:\n",
    "        logging.error(\n",
    "            f\"Cannont calculate cosine similarity because metric is not `angular`\"\n",
    "            f\"\\nInput metric: {nn_index.metric}\"\n",
    "        )"
   ]
  },
  {
   "cell_type": "code",
   "execution_count": 84,
   "id": "2da64f35",
   "metadata": {},
   "outputs": [
    {
     "data": {
      "text/html": [
       "<div>\n",
       "<style scoped>\n",
       "    .dataframe tbody tr th:only-of-type {\n",
       "        vertical-align: middle;\n",
       "    }\n",
       "\n",
       "    .dataframe tbody tr th {\n",
       "        vertical-align: top;\n",
       "    }\n",
       "\n",
       "    .dataframe thead th {\n",
       "        text-align: right;\n",
       "    }\n",
       "</style>\n",
       "<table border=\"1\" class=\"dataframe\">\n",
       "  <thead>\n",
       "    <tr style=\"text-align: right;\">\n",
       "      <th></th>\n",
       "      <th>user_id</th>\n",
       "      <th>subreddit_name</th>\n",
       "      <th>nn_ix</th>\n",
       "      <th>distance</th>\n",
       "      <th>distance_rank</th>\n",
       "      <th>cosine_similarity</th>\n",
       "    </tr>\n",
       "  </thead>\n",
       "  <tbody>\n",
       "    <tr>\n",
       "      <th>0</th>\n",
       "      <td>t2_uae9cvc1</td>\n",
       "      <td>de</td>\n",
       "      <td>1441632</td>\n",
       "      <td>0.0</td>\n",
       "      <td>1</td>\n",
       "      <td>1.0</td>\n",
       "    </tr>\n",
       "    <tr>\n",
       "      <th>1</th>\n",
       "      <td>t2_8jyuowfl</td>\n",
       "      <td>de</td>\n",
       "      <td>1943500</td>\n",
       "      <td>0.0</td>\n",
       "      <td>2</td>\n",
       "      <td>1.0</td>\n",
       "    </tr>\n",
       "    <tr>\n",
       "      <th>2</th>\n",
       "      <td>t2_ughg2trb</td>\n",
       "      <td>de</td>\n",
       "      <td>1486674</td>\n",
       "      <td>0.0</td>\n",
       "      <td>3</td>\n",
       "      <td>1.0</td>\n",
       "    </tr>\n",
       "    <tr>\n",
       "      <th>3</th>\n",
       "      <td>t2_u92yu1it</td>\n",
       "      <td>de</td>\n",
       "      <td>289947</td>\n",
       "      <td>0.0</td>\n",
       "      <td>4</td>\n",
       "      <td>1.0</td>\n",
       "    </tr>\n",
       "    <tr>\n",
       "      <th>4</th>\n",
       "      <td>t2_tpg457id</td>\n",
       "      <td>de</td>\n",
       "      <td>1512772</td>\n",
       "      <td>0.0</td>\n",
       "      <td>5</td>\n",
       "      <td>1.0</td>\n",
       "    </tr>\n",
       "    <tr>\n",
       "      <th>5</th>\n",
       "      <td>t2_9ij0gxtf</td>\n",
       "      <td>de</td>\n",
       "      <td>303827</td>\n",
       "      <td>0.0</td>\n",
       "      <td>6</td>\n",
       "      <td>1.0</td>\n",
       "    </tr>\n",
       "    <tr>\n",
       "      <th>6</th>\n",
       "      <td>t2_p7lnegoj</td>\n",
       "      <td>de</td>\n",
       "      <td>1272304</td>\n",
       "      <td>0.0</td>\n",
       "      <td>7</td>\n",
       "      <td>1.0</td>\n",
       "    </tr>\n",
       "    <tr>\n",
       "      <th>7</th>\n",
       "      <td>t2_pkxz6bda</td>\n",
       "      <td>de</td>\n",
       "      <td>1362445</td>\n",
       "      <td>0.0</td>\n",
       "      <td>8</td>\n",
       "      <td>1.0</td>\n",
       "    </tr>\n",
       "    <tr>\n",
       "      <th>8</th>\n",
       "      <td>t2_gy6koe0w</td>\n",
       "      <td>de</td>\n",
       "      <td>1387783</td>\n",
       "      <td>0.0</td>\n",
       "      <td>9</td>\n",
       "      <td>1.0</td>\n",
       "    </tr>\n",
       "  </tbody>\n",
       "</table>\n",
       "</div>"
      ],
      "text/plain": [
       "       user_id subreddit_name    nn_ix  distance  distance_rank  cosine_similarity\n",
       "0  t2_uae9cvc1             de  1441632       0.0              1                1.0\n",
       "1  t2_8jyuowfl             de  1943500       0.0              2                1.0\n",
       "2  t2_ughg2trb             de  1486674       0.0              3                1.0\n",
       "3  t2_u92yu1it             de   289947       0.0              4                1.0\n",
       "4  t2_tpg457id             de  1512772       0.0              5                1.0\n",
       "5  t2_9ij0gxtf             de   303827       0.0              6                1.0\n",
       "6  t2_p7lnegoj             de  1272304       0.0              7                1.0\n",
       "7  t2_pkxz6bda             de  1362445       0.0              8                1.0\n",
       "8  t2_gy6koe0w             de  1387783       0.0              9                1.0"
      ]
     },
     "execution_count": 84,
     "metadata": {},
     "output_type": "execute_result"
    }
   ],
   "source": [
    "df_nns_by_v.head(9)"
   ]
  },
  {
   "cell_type": "code",
   "execution_count": 85,
   "id": "4830f87b",
   "metadata": {},
   "outputs": [
    {
     "data": {
      "text/html": [
       "<div>\n",
       "<style scoped>\n",
       "    .dataframe tbody tr th:only-of-type {\n",
       "        vertical-align: middle;\n",
       "    }\n",
       "\n",
       "    .dataframe tbody tr th {\n",
       "        vertical-align: top;\n",
       "    }\n",
       "\n",
       "    .dataframe thead th {\n",
       "        text-align: right;\n",
       "    }\n",
       "</style>\n",
       "<table border=\"1\" class=\"dataframe\">\n",
       "  <thead>\n",
       "    <tr style=\"text-align: right;\">\n",
       "      <th></th>\n",
       "      <th>user_id</th>\n",
       "      <th>subreddit_name</th>\n",
       "      <th>nn_ix</th>\n",
       "      <th>distance</th>\n",
       "      <th>distance_rank</th>\n",
       "      <th>cosine_similarity</th>\n",
       "    </tr>\n",
       "  </thead>\n",
       "  <tbody>\n",
       "    <tr>\n",
       "      <th>3164752</th>\n",
       "      <td>t2_e6ewevhc</td>\n",
       "      <td>de</td>\n",
       "      <td>996305</td>\n",
       "      <td>1.430613</td>\n",
       "      <td>3164753</td>\n",
       "      <td>-0.023326</td>\n",
       "    </tr>\n",
       "    <tr>\n",
       "      <th>3164753</th>\n",
       "      <td>t2_u5r2mgdv</td>\n",
       "      <td>de</td>\n",
       "      <td>1052433</td>\n",
       "      <td>1.430695</td>\n",
       "      <td>3164754</td>\n",
       "      <td>-0.023444</td>\n",
       "    </tr>\n",
       "    <tr>\n",
       "      <th>3164754</th>\n",
       "      <td>t2_a9tky1f8</td>\n",
       "      <td>de</td>\n",
       "      <td>369238</td>\n",
       "      <td>1.430832</td>\n",
       "      <td>3164755</td>\n",
       "      <td>-0.023640</td>\n",
       "    </tr>\n",
       "    <tr>\n",
       "      <th>3164755</th>\n",
       "      <td>t2_u9eesynh</td>\n",
       "      <td>de</td>\n",
       "      <td>2962380</td>\n",
       "      <td>1.431175</td>\n",
       "      <td>3164756</td>\n",
       "      <td>-0.024131</td>\n",
       "    </tr>\n",
       "    <tr>\n",
       "      <th>3164756</th>\n",
       "      <td>t2_6psuj2t3</td>\n",
       "      <td>de</td>\n",
       "      <td>2304358</td>\n",
       "      <td>1.432164</td>\n",
       "      <td>3164757</td>\n",
       "      <td>-0.025546</td>\n",
       "    </tr>\n",
       "    <tr>\n",
       "      <th>3164757</th>\n",
       "      <td>t2_ukod750e</td>\n",
       "      <td>de</td>\n",
       "      <td>3060581</td>\n",
       "      <td>1.432814</td>\n",
       "      <td>3164758</td>\n",
       "      <td>-0.026478</td>\n",
       "    </tr>\n",
       "    <tr>\n",
       "      <th>3164758</th>\n",
       "      <td>t2_h7evel26</td>\n",
       "      <td>de</td>\n",
       "      <td>1425750</td>\n",
       "      <td>1.432972</td>\n",
       "      <td>3164759</td>\n",
       "      <td>-0.026705</td>\n",
       "    </tr>\n",
       "    <tr>\n",
       "      <th>3164759</th>\n",
       "      <td>t2_sjhovd1k</td>\n",
       "      <td>de</td>\n",
       "      <td>2984251</td>\n",
       "      <td>1.434696</td>\n",
       "      <td>3164760</td>\n",
       "      <td>-0.029176</td>\n",
       "    </tr>\n",
       "    <tr>\n",
       "      <th>3164760</th>\n",
       "      <td>t2_uh744f6b</td>\n",
       "      <td>de</td>\n",
       "      <td>1131892</td>\n",
       "      <td>1.434696</td>\n",
       "      <td>3164761</td>\n",
       "      <td>-0.029177</td>\n",
       "    </tr>\n",
       "    <tr>\n",
       "      <th>3164761</th>\n",
       "      <td>t2_9zntbvjx</td>\n",
       "      <td>de</td>\n",
       "      <td>739418</td>\n",
       "      <td>1.435459</td>\n",
       "      <td>3164762</td>\n",
       "      <td>-0.030271</td>\n",
       "    </tr>\n",
       "    <tr>\n",
       "      <th>3164762</th>\n",
       "      <td>t2_a65z6lt7</td>\n",
       "      <td>de</td>\n",
       "      <td>2242150</td>\n",
       "      <td>1.441449</td>\n",
       "      <td>3164763</td>\n",
       "      <td>-0.038887</td>\n",
       "    </tr>\n",
       "    <tr>\n",
       "      <th>3164763</th>\n",
       "      <td>t2_75wzagal</td>\n",
       "      <td>de</td>\n",
       "      <td>2832294</td>\n",
       "      <td>1.441449</td>\n",
       "      <td>3164764</td>\n",
       "      <td>-0.038887</td>\n",
       "    </tr>\n",
       "    <tr>\n",
       "      <th>3164764</th>\n",
       "      <td>t2_bw045z6u</td>\n",
       "      <td>de</td>\n",
       "      <td>689638</td>\n",
       "      <td>1.441635</td>\n",
       "      <td>3164765</td>\n",
       "      <td>-0.039156</td>\n",
       "    </tr>\n",
       "    <tr>\n",
       "      <th>3164765</th>\n",
       "      <td>t2_ue35qe7p</td>\n",
       "      <td>de</td>\n",
       "      <td>1188429</td>\n",
       "      <td>1.444422</td>\n",
       "      <td>3164766</td>\n",
       "      <td>-0.043178</td>\n",
       "    </tr>\n",
       "    <tr>\n",
       "      <th>3164766</th>\n",
       "      <td>t2_97zrwzqn</td>\n",
       "      <td>de</td>\n",
       "      <td>712388</td>\n",
       "      <td>1.446601</td>\n",
       "      <td>3164767</td>\n",
       "      <td>-0.046327</td>\n",
       "    </tr>\n",
       "    <tr>\n",
       "      <th>3164767</th>\n",
       "      <td>t2_u4hi5cpc</td>\n",
       "      <td>de</td>\n",
       "      <td>1870924</td>\n",
       "      <td>1.447904</td>\n",
       "      <td>3164768</td>\n",
       "      <td>-0.048212</td>\n",
       "    </tr>\n",
       "    <tr>\n",
       "      <th>3164768</th>\n",
       "      <td>t2_bt5qvzh4</td>\n",
       "      <td>de</td>\n",
       "      <td>1082501</td>\n",
       "      <td>1.448436</td>\n",
       "      <td>3164769</td>\n",
       "      <td>-0.048983</td>\n",
       "    </tr>\n",
       "    <tr>\n",
       "      <th>3164769</th>\n",
       "      <td>t2_hyzks2zq</td>\n",
       "      <td>de</td>\n",
       "      <td>3119769</td>\n",
       "      <td>1.448661</td>\n",
       "      <td>3164770</td>\n",
       "      <td>-0.049310</td>\n",
       "    </tr>\n",
       "    <tr>\n",
       "      <th>3164770</th>\n",
       "      <td>t2_u221f8yp</td>\n",
       "      <td>de</td>\n",
       "      <td>3015266</td>\n",
       "      <td>1.451276</td>\n",
       "      <td>3164771</td>\n",
       "      <td>-0.053101</td>\n",
       "    </tr>\n",
       "    <tr>\n",
       "      <th>3164771</th>\n",
       "      <td>t2_l8rndgfp</td>\n",
       "      <td>de</td>\n",
       "      <td>3085983</td>\n",
       "      <td>1.452912</td>\n",
       "      <td>3164772</td>\n",
       "      <td>-0.055477</td>\n",
       "    </tr>\n",
       "  </tbody>\n",
       "</table>\n",
       "</div>"
      ],
      "text/plain": [
       "             user_id subreddit_name    nn_ix  distance  distance_rank  cosine_similarity\n",
       "3164752  t2_e6ewevhc             de   996305  1.430613        3164753          -0.023326\n",
       "3164753  t2_u5r2mgdv             de  1052433  1.430695        3164754          -0.023444\n",
       "3164754  t2_a9tky1f8             de   369238  1.430832        3164755          -0.023640\n",
       "3164755  t2_u9eesynh             de  2962380  1.431175        3164756          -0.024131\n",
       "3164756  t2_6psuj2t3             de  2304358  1.432164        3164757          -0.025546\n",
       "3164757  t2_ukod750e             de  3060581  1.432814        3164758          -0.026478\n",
       "3164758  t2_h7evel26             de  1425750  1.432972        3164759          -0.026705\n",
       "3164759  t2_sjhovd1k             de  2984251  1.434696        3164760          -0.029176\n",
       "3164760  t2_uh744f6b             de  1131892  1.434696        3164761          -0.029177\n",
       "3164761  t2_9zntbvjx             de   739418  1.435459        3164762          -0.030271\n",
       "3164762  t2_a65z6lt7             de  2242150  1.441449        3164763          -0.038887\n",
       "3164763  t2_75wzagal             de  2832294  1.441449        3164764          -0.038887\n",
       "3164764  t2_bw045z6u             de   689638  1.441635        3164765          -0.039156\n",
       "3164765  t2_ue35qe7p             de  1188429  1.444422        3164766          -0.043178\n",
       "3164766  t2_97zrwzqn             de   712388  1.446601        3164767          -0.046327\n",
       "3164767  t2_u4hi5cpc             de  1870924  1.447904        3164768          -0.048212\n",
       "3164768  t2_bt5qvzh4             de  1082501  1.448436        3164769          -0.048983\n",
       "3164769  t2_hyzks2zq             de  3119769  1.448661        3164770          -0.049310\n",
       "3164770  t2_u221f8yp             de  3015266  1.451276        3164771          -0.053101\n",
       "3164771  t2_l8rndgfp             de  3085983  1.452912        3164772          -0.055477"
      ]
     },
     "execution_count": 85,
     "metadata": {},
     "output_type": "execute_result"
    }
   ],
   "source": [
    "df_nns_by_v.tail(20)"
   ]
  },
  {
   "cell_type": "code",
   "execution_count": 86,
   "id": "d377c8cf",
   "metadata": {},
   "outputs": [
    {
     "name": "stderr",
     "output_type": "stream",
     "text": [
      "22:40:51 | INFO | \"3,164,772, 6 <- df_distance shape\"\n",
      "22:40:51 | INFO | \"Save df-ANN to parquet...\"\n"
     ]
    },
    {
     "name": "stdout",
     "output_type": "stream",
     "text": [
      "CPU times: user 1.25 s, sys: 92.1 ms, total: 1.34 s\n",
      "Wall time: 1.32 s\n"
     ]
    }
   ],
   "source": [
    "%%time\n",
    "\n",
    "r_, c_ = df_nns_by_v.shape \n",
    "info(f\"{r_:,.0f}, {c_:,.0f} <- df_distance shape\")\n",
    "\n",
    "info(f\"Save df-ANN to parquet...\")\n",
    "df_nns_by_v.to_parquet(\n",
    "    path_this_model / f\"df_ann_distance_to_target-{r_}_{c_}.parquet\",\n",
    "    index=False,\n",
    ")\n",
    "del r_, c_"
   ]
  },
  {
   "cell_type": "markdown",
   "id": "5cd6e55f",
   "metadata": {},
   "source": [
    "# Combine distance and other features into table for model training\n",
    "This should be the training data for modeling. \n",
    "\n",
    "Include query from dashboard:\n",
    "- sent flag\n",
    "- received flag\n",
    "- clicked flag\n",
    "\n",
    "New info:\n",
    "- subscribe\n",
    "- \n"
   ]
  },
  {
   "cell_type": "code",
   "execution_count": null,
   "id": "b4ee1cbe",
   "metadata": {},
   "outputs": [],
   "source": [
    "1+1"
   ]
  },
  {
   "cell_type": "code",
   "execution_count": null,
   "id": "28def505",
   "metadata": {},
   "outputs": [],
   "source": []
  }
 ],
 "metadata": {
  "environment": {
   "name": "common-cpu.m65",
   "type": "gcloud",
   "uri": "gcr.io/deeplearning-platform-release/base-cpu:m65"
  },
  "kernelspec": {
   "display_name": "Python 3",
   "language": "python",
   "name": "python3"
  },
  "language_info": {
   "codemirror_mode": {
    "name": "ipython",
    "version": 3
   },
   "file_extension": ".py",
   "mimetype": "text/x-python",
   "name": "python",
   "nbconvert_exporter": "python",
   "pygments_lexer": "ipython3",
   "version": "3.7.10"
  }
 },
 "nbformat": 4,
 "nbformat_minor": 5
}
