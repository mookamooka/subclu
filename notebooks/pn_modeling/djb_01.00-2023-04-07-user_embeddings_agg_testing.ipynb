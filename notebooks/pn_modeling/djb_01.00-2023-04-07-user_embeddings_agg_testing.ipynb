{
 "cells": [
  {
   "cell_type": "markdown",
   "id": "41d02b76",
   "metadata": {},
   "source": [
    "# Purpose\n",
    "\n",
    "\n",
    "**2023-04-07**: \n",
    "<br> here we'll test a simplified flow to get an ETA for how long it'll take to take subreddit-embeddings to get user-level embeddings.\n",
    "\n",
    "We'll test pandas v. polars. The hope is that polars will boost parallel performance enough to make the embedding step feasible to run in less than one day. If we can run the embedding step fast enough, we might be able to cache the job daily so that we can keep the latest data ready to use for PN and for other models.\n",
    "\n",
    "---\n",
    "\n"
   ]
  },
  {
   "cell_type": "markdown",
   "id": "edcd1990",
   "metadata": {},
   "source": [
    "# Imports & Setup"
   ]
  },
  {
   "cell_type": "code",
   "execution_count": 1,
   "id": "26c602fd",
   "metadata": {},
   "outputs": [],
   "source": [
    "%load_ext autoreload\n",
    "%autoreload 2"
   ]
  },
  {
   "cell_type": "code",
   "execution_count": 108,
   "id": "22402203",
   "metadata": {},
   "outputs": [
    {
     "name": "stdout",
     "output_type": "stream",
     "text": [
      "python\t\tv 3.7.10\n",
      "===\n",
      "hydra\t\tv: 1.1.0\n",
      "numpy\t\tv: 1.19.5\n",
      "pandas\t\tv: 1.2.4\n",
      "polars\t\tv: 0.17.1\n",
      "plotly\t\tv: 5.11.0\n",
      "sklearn\t\tv: 0.24.1\n",
      "subclu\t\tv: 0.6.1\n"
     ]
    }
   ],
   "source": [
    "from datetime import datetime\n",
    "import logging\n",
    "from logging import info\n",
    "import os\n",
    "from pathlib import Path\n",
    "import json\n",
    "\n",
    "import polars as pl\n",
    "import numpy as np\n",
    "import pandas as pd\n",
    "import plotly\n",
    "import seaborn as sns\n",
    "\n",
    "from tqdm.auto import tqdm\n",
    "import dask\n",
    "import mlflow\n",
    "import hydra\n",
    "\n",
    "import subclu\n",
    "from subclu.eda.aggregates import compare_raw_v_weighted_language\n",
    "from subclu.utils import set_working_directory, get_project_subfolder\n",
    "from subclu.utils.eda import (\n",
    "    setup_logging, counts_describe, value_counts_and_pcts,\n",
    "    notebook_display_config, print_lib_versions,\n",
    "    style_df_numeric, reorder_array,\n",
    ")\n",
    "from subclu.utils.mlflow_logger import MlflowLogger\n",
    "from subclu.utils.hydra_config_loader import LoadHydraConfig\n",
    "from subclu.utils.data_irl_style import (\n",
    "    get_colormap, theme_dirl, \n",
    "    get_color_dict, base_colors_for_manual_labels,\n",
    "    check_colors_used,\n",
    ")\n",
    "from subclu.data.data_loaders import LoadPosts, LoadSubreddits, create_sub_level_aggregates\n",
    "\n",
    "\n",
    "# ===\n",
    "# imports specific to this notebook\n",
    "from collections import Counter\n",
    "\n",
    "import sklearn\n",
    "from sklearn.decomposition import TruncatedSVD\n",
    "from sklearn.metrics.pairwise import cosine_similarity\n",
    "from sklearn.preprocessing import normalize  # if we normalize the data, euclidean distance is approx of cosine\n",
    "\n",
    "\n",
    "print_lib_versions([hydra, np, pd, pl, plotly, sklearn, subclu])"
   ]
  },
  {
   "cell_type": "code",
   "execution_count": 3,
   "id": "bf0d8ac0",
   "metadata": {},
   "outputs": [],
   "source": [
    "# plotting\n",
    "import matplotlib.pyplot as plt\n",
    "import matplotlib.ticker as mtick\n",
    "import matplotlib.dates as mdates\n",
    "plt.style.use('default')\n",
    "\n",
    "setup_logging()\n",
    "notebook_display_config()"
   ]
  },
  {
   "cell_type": "markdown",
   "id": "3c6e555f",
   "metadata": {},
   "source": [
    "# Define custom functions"
   ]
  },
  {
   "cell_type": "code",
   "execution_count": 169,
   "id": "9d1b3e7e",
   "metadata": {},
   "outputs": [],
   "source": [
    "from typing import Any, Union\n",
    "\n",
    "\n",
    "def reshape_tos_for_df(\n",
    "    user_id: str,\n",
    "    tos_str_dict: str,\n",
    "    tos_col_name: str = 'tos_pct',\n",
    ") -> list:\n",
    "    \"\"\"Take the nested dict in a df and reshape it so that we can get a long df\n",
    "    where each row is a user+subreddit Time on Sub percentage\n",
    "    \"\"\"\n",
    "    d_tos_in = json.loads(tos_str_dict)\n",
    "    \n",
    "    d_out = {\n",
    "        'user_id': [user_id] * len(d_tos_in),\n",
    "        'subreddit_id': list(),\n",
    "        tos_col_name: list(),\n",
    "    }\n",
    "    \n",
    "    for sub_id, tos_pc in d_tos_in.items():\n",
    "        d_out['subreddit_id'].append(sub_id)\n",
    "        d_out[tos_col_name].append(tos_pc)\n",
    "    \n",
    "    return d_out\n",
    "\n",
    "\n",
    "def delayed_select_for_polars(\n",
    "    pl_df: pl.LazyFrame,\n",
    "    select_kwargs: Any,\n",
    ") -> pl.DataFrame:\n",
    "    \"\"\"Use this function as a fix for polars.lazy() that breaks when selecting an unnested struct\n",
    "    If we apply this function with dask.delayed() we can compute the long df_tos in 10 parallel jobs(!)\n",
    "    \"\"\"\n",
    "    return (\n",
    "        pl_df\n",
    "        .compute()\n",
    "        .select(\n",
    "            select_kwargs\n",
    "        )\n",
    "    )\n",
    "    "
   ]
  },
  {
   "cell_type": "code",
   "execution_count": null,
   "id": "be384b92",
   "metadata": {},
   "outputs": [],
   "source": []
  },
  {
   "cell_type": "markdown",
   "id": "0246a655",
   "metadata": {},
   "source": [
    "# Get data"
   ]
  },
  {
   "cell_type": "markdown",
   "id": "79ecb382",
   "metadata": {},
   "source": [
    "## Get user IDs to embed with time-on-subreddit features\n",
    "\n",
    "I'm caching the data in a view so that it's easier to re-use while testing.\n",
    "\n",
    "The time-on-subreddit feature is already in gazette features so we don't need to waste time computing them.\n",
    "\n",
    "```SQL\n",
    "SELECT \n",
    "    DISTINCT user_id\n",
    "\n",
    "FROM `data-prod-165221.fact_tables.post_consume_post_detail_view_events` \n",
    "WHERE DATE(pt) BETWEEN (CURRENT_DATE() - 7) AND (CURRENT_DATE() - 2)\n",
    "    AND subreddit_name IN ('themandaloriantv')\n",
    "    AND action IN ('consume', 'view')\n",
    "-- LIMIT 1000\n",
    "```"
   ]
  },
  {
   "cell_type": "code",
   "execution_count": 5,
   "id": "946fd8c7",
   "metadata": {},
   "outputs": [
    {
     "name": "stderr",
     "output_type": "stream",
     "text": [
      "Query complete after 0.00s: 100%|██████████| 5/5 [00:00<00:00, 3921.38query/s]                        \n",
      "Downloading: 100%|██████████| 856423/856423 [00:10<00:00, 79436.67rows/s] \n"
     ]
    },
    {
     "name": "stdout",
     "output_type": "stream",
     "text": [
      "CPU times: user 8.91 s, sys: 4.57 s, total: 13.5 s\n",
      "Wall time: 35.7 s\n"
     ]
    }
   ],
   "source": [
    "%%time\n",
    "%%bigquery df_users_raw_tos --project data-science-prod-218515 \n",
    "\n",
    "-- pull the user IDs and the time on sub, but do the calculations in python b/c \n",
    "--   it can be a pain to conver to rows in BQ\n",
    "\n",
    "SELECT\n",
    "    ui.user_id\n",
    "    , t.* EXCEPT(user_id)\n",
    "    -- , t.feature_value\n",
    "    -- , t.json_val \n",
    "    -- , t.feature_name\n",
    "FROM (\n",
    "        SELECT\n",
    "            entity_id AS user_id\n",
    "            , feature_value\n",
    "            -- , (SAFE.parse_json(feature_value)) AS json_val\n",
    "        FROM `data-prod-165221.user_feature_platform.time_on_subreddit_pct_time_over_30_day_v1`\n",
    "\n",
    "        WHERE DATE(pt) = CURRENT_DATE() - 3 -- Latest appears to be (Today-3) b/c of lag from other tables\n",
    "    ) AS t\n",
    "    INNER JOIN (\n",
    "        SELECT *\n",
    "        FROM `reddit-employee-datasets.david_bermejo.pn_test_users_for_embedding` \n",
    "        -- LIMIT 10\n",
    "    ) AS ui\n",
    "        ON ui.user_id = t.user_id\n",
    ";"
   ]
  },
  {
   "cell_type": "code",
   "execution_count": 6,
   "id": "b5604698",
   "metadata": {},
   "outputs": [
    {
     "name": "stdout",
     "output_type": "stream",
     "text": [
      "<class 'pandas.core.frame.DataFrame'>\n",
      "RangeIndex: 856423 entries, 0 to 856422\n",
      "Data columns (total 2 columns):\n",
      " #   Column         Non-Null Count   Dtype \n",
      "---  ------         --------------   ----- \n",
      " 0   user_id        856423 non-null  object\n",
      " 1   feature_value  856423 non-null  object\n",
      "dtypes: object(2)\n",
      "memory usage: 13.1+ MB\n"
     ]
    }
   ],
   "source": [
    "df_users_raw_tos.info()"
   ]
  },
  {
   "cell_type": "code",
   "execution_count": 7,
   "id": "8e757a75",
   "metadata": {},
   "outputs": [
    {
     "data": {
      "text/html": [
       "<div>\n",
       "<style scoped>\n",
       "    .dataframe tbody tr th:only-of-type {\n",
       "        vertical-align: middle;\n",
       "    }\n",
       "\n",
       "    .dataframe tbody tr th {\n",
       "        vertical-align: top;\n",
       "    }\n",
       "\n",
       "    .dataframe thead th {\n",
       "        text-align: right;\n",
       "    }\n",
       "</style>\n",
       "<table border=\"1\" class=\"dataframe\">\n",
       "  <thead>\n",
       "    <tr style=\"text-align: right;\">\n",
       "      <th></th>\n",
       "      <th>user_id</th>\n",
       "      <th>feature_value</th>\n",
       "    </tr>\n",
       "  </thead>\n",
       "  <tbody>\n",
       "    <tr>\n",
       "      <th>0</th>\n",
       "      <td>t2_8p8h0ki0b</td>\n",
       "      <td>{\"t5_3fn31\":0.87899,\"t5_2qhsa\":0.00445,\"t5_2tex6\":0.00187,\"t5_2xcv7\":0.00351,\"t5_dyqlw\":0.05844,\"t5_2qh33\":0.00406,\"t5_3boqz\":0.00117,\"t5_2s7tt\":0.00421,\"t5_3aegn\":0.0103,\"t5_2r5rp\":0.00335,\"t5_2w7mz\":0.00437,\"t5_3fzm9\":0.00359,\"t5_2xhv...</td>\n",
       "    </tr>\n",
       "    <tr>\n",
       "      <th>1</th>\n",
       "      <td>t2_8p90xabzf</td>\n",
       "      <td>{\"t5_3phq9\":0.13502,\"t5_2qh1i\":0.22281,\"t5_23gidu\":0.04516,\"t5_2vg7t\":0.04516,\"t5_2w844\":0.01567,\"t5_2qkhb\":0.01912,\"t5_2yrq6\":0.02788,\"t5_2qh0u\":0.18687,\"t5_2rqcm8\":0.07166,\"t5_3boqz\":0.02304,\"t5_3gcwj\":0.07742,\"t5_2si92\":0.10645,\"t5_3...</td>\n",
       "    </tr>\n",
       "    <tr>\n",
       "      <th>2</th>\n",
       "      <td>t2_8p81pzwi9</td>\n",
       "      <td>{\"t5_2wzm6\":0.0219,\"t5_2cneq\":0.00365,\"t5_2tex6\":0.01825,\"t5_30tmh\":0.01095,\"t5_386zh\":0.04866,\"t5_2w844\":0.06813,\"t5_2w7mz\":0.09611,\"t5_2vegg\":0.0438,\"t5_3mj3w\":0.04988,\"t5_2r40o\":0.13504,\"t5_3i3vm\":0.0365,\"t5_2qhds\":0.04136,\"t5_2qh72\"...</td>\n",
       "    </tr>\n",
       "    <tr>\n",
       "      <th>3</th>\n",
       "      <td>t2_8p90y</td>\n",
       "      <td>{\"t5_38y725\":0.00134,\"t5_27xp1u\":2e-05,\"t5_7m6f8m\":1e-05,\"t5_2tdzg\":0.00057,\"t5_2taso\":2e-05,\"t5_2sokd\":0.02098,\"t5_2rjz2\":0.00395,\"t5_2s4pd\":0.01769,\"t5_2qh61\":0.0028,\"t5_2qimj\":2e-05,\"t5_r1l2z\":6e-05,\"t5_2s5ti\":0.00164,\"t5_2xinb\":0.00...</td>\n",
       "    </tr>\n",
       "    <tr>\n",
       "      <th>4</th>\n",
       "      <td>t2_8p853</td>\n",
       "      <td>{\"t5_2s6nz\":0.00038,\"t5_2y1j5\":8e-05,\"t5_4b0bzv\":0.0001,\"t5_2va9w\":5e-05,\"t5_35n7t\":0.05491,\"t5_2z8fuj\":0.00109,\"t5_2xp02\":0.00107,\"t5_3chmw\":0.00012,\"t5_2tk0s\":1e-05,\"t5_3ptyd\":0.00131,\"t5_mvcq5\":0.01587,\"t5_2vxxc\":0.0004,\"t5_2s28b\":0....</td>\n",
       "    </tr>\n",
       "  </tbody>\n",
       "</table>\n",
       "</div>"
      ],
      "text/plain": [
       "        user_id                                                                                                                                                                                                                                    feature_value\n",
       "0  t2_8p8h0ki0b  {\"t5_3fn31\":0.87899,\"t5_2qhsa\":0.00445,\"t5_2tex6\":0.00187,\"t5_2xcv7\":0.00351,\"t5_dyqlw\":0.05844,\"t5_2qh33\":0.00406,\"t5_3boqz\":0.00117,\"t5_2s7tt\":0.00421,\"t5_3aegn\":0.0103,\"t5_2r5rp\":0.00335,\"t5_2w7mz\":0.00437,\"t5_3fzm9\":0.00359,\"t5_2xhv...\n",
       "1  t2_8p90xabzf  {\"t5_3phq9\":0.13502,\"t5_2qh1i\":0.22281,\"t5_23gidu\":0.04516,\"t5_2vg7t\":0.04516,\"t5_2w844\":0.01567,\"t5_2qkhb\":0.01912,\"t5_2yrq6\":0.02788,\"t5_2qh0u\":0.18687,\"t5_2rqcm8\":0.07166,\"t5_3boqz\":0.02304,\"t5_3gcwj\":0.07742,\"t5_2si92\":0.10645,\"t5_3...\n",
       "2  t2_8p81pzwi9  {\"t5_2wzm6\":0.0219,\"t5_2cneq\":0.00365,\"t5_2tex6\":0.01825,\"t5_30tmh\":0.01095,\"t5_386zh\":0.04866,\"t5_2w844\":0.06813,\"t5_2w7mz\":0.09611,\"t5_2vegg\":0.0438,\"t5_3mj3w\":0.04988,\"t5_2r40o\":0.13504,\"t5_3i3vm\":0.0365,\"t5_2qhds\":0.04136,\"t5_2qh72\"...\n",
       "3      t2_8p90y  {\"t5_38y725\":0.00134,\"t5_27xp1u\":2e-05,\"t5_7m6f8m\":1e-05,\"t5_2tdzg\":0.00057,\"t5_2taso\":2e-05,\"t5_2sokd\":0.02098,\"t5_2rjz2\":0.00395,\"t5_2s4pd\":0.01769,\"t5_2qh61\":0.0028,\"t5_2qimj\":2e-05,\"t5_r1l2z\":6e-05,\"t5_2s5ti\":0.00164,\"t5_2xinb\":0.00...\n",
       "4      t2_8p853  {\"t5_2s6nz\":0.00038,\"t5_2y1j5\":8e-05,\"t5_4b0bzv\":0.0001,\"t5_2va9w\":5e-05,\"t5_35n7t\":0.05491,\"t5_2z8fuj\":0.00109,\"t5_2xp02\":0.00107,\"t5_3chmw\":0.00012,\"t5_2tk0s\":1e-05,\"t5_3ptyd\":0.00131,\"t5_mvcq5\":0.01587,\"t5_2vxxc\":0.0004,\"t5_2s28b\":0...."
      ]
     },
     "execution_count": 7,
     "metadata": {},
     "output_type": "execute_result"
    }
   ],
   "source": [
    "df_users_raw_tos.head()"
   ]
  },
  {
   "cell_type": "markdown",
   "id": "175e950a",
   "metadata": {},
   "source": [
    "## Get subreddit-level embeddings"
   ]
  },
  {
   "cell_type": "code",
   "execution_count": 8,
   "id": "2e15067b",
   "metadata": {},
   "outputs": [
    {
     "name": "stderr",
     "output_type": "stream",
     "text": [
      "Query complete after 0.00s: 100%|██████████| 1/1 [00:00<00:00, 1375.18query/s]\n",
      "Downloading: 100%|██████████| 242345/242345 [00:03<00:00, 76432.72rows/s] \n"
     ]
    },
    {
     "name": "stdout",
     "output_type": "stream",
     "text": [
      "CPU times: user 613 ms, sys: 414 ms, total: 1.03 s\n",
      "Wall time: 4.24 s\n"
     ]
    }
   ],
   "source": [
    "%%time\n",
    "%%bigquery df_sub_emb --project data-science-prod-218515 \n",
    "\n",
    "SELECT\n",
    "  subreddit_id\n",
    "  , subreddit_name\n",
    "  , ARRAY_CONCAT(embedding) AS embedding\n",
    "FROM `data-prod-165221.ml_content.subreddit_embeddings_ft2`\n",
    "WHERE DATE(pt) = '2023-04-04'"
   ]
  },
  {
   "cell_type": "code",
   "execution_count": 9,
   "id": "05ed13e3",
   "metadata": {},
   "outputs": [
    {
     "name": "stdout",
     "output_type": "stream",
     "text": [
      "<class 'pandas.core.frame.DataFrame'>\n",
      "RangeIndex: 242345 entries, 0 to 242344\n",
      "Data columns (total 3 columns):\n",
      " #   Column          Non-Null Count   Dtype \n",
      "---  ------          --------------   ----- \n",
      " 0   subreddit_id    242345 non-null  object\n",
      " 1   subreddit_name  242345 non-null  object\n",
      " 2   embedding       242345 non-null  object\n",
      "dtypes: object(3)\n",
      "memory usage: 5.5+ MB\n"
     ]
    }
   ],
   "source": [
    "df_sub_emb.info()"
   ]
  },
  {
   "cell_type": "code",
   "execution_count": 10,
   "id": "f7f67742",
   "metadata": {},
   "outputs": [
    {
     "data": {
      "text/html": [
       "<div>\n",
       "<style scoped>\n",
       "    .dataframe tbody tr th:only-of-type {\n",
       "        vertical-align: middle;\n",
       "    }\n",
       "\n",
       "    .dataframe tbody tr th {\n",
       "        vertical-align: top;\n",
       "    }\n",
       "\n",
       "    .dataframe thead th {\n",
       "        text-align: right;\n",
       "    }\n",
       "</style>\n",
       "<table border=\"1\" class=\"dataframe\">\n",
       "  <thead>\n",
       "    <tr style=\"text-align: right;\">\n",
       "      <th></th>\n",
       "      <th>subreddit_id</th>\n",
       "      <th>subreddit_name</th>\n",
       "      <th>embedding</th>\n",
       "    </tr>\n",
       "  </thead>\n",
       "  <tbody>\n",
       "    <tr>\n",
       "      <th>0</th>\n",
       "      <td>t5_4f57cs</td>\n",
       "      <td>fuckangelhernandez</td>\n",
       "      <td>[-0.3996698260307312, 0.20269957184791565, -0.3055022060871124, -0.005287058185786009, 0.121136873960495, 0.06231916323304176, -0.37654876708984375, 0.48437756299972534, -0.2151433378458023, 0.31947633624076843, 0.4782879948616028, 0.23...</td>\n",
       "    </tr>\n",
       "    <tr>\n",
       "      <th>1</th>\n",
       "      <td>t5_2s2gt</td>\n",
       "      <td>fuckapple</td>\n",
       "      <td>[-0.0029481418896466494, 0.053129445761442184, -0.17849114537239075, -0.1555848866701126, -0.20715922117233276, 0.2648947238922119, 0.24177874624729156, 0.23757821321487427, 0.011948454193770885, 0.3712220788002014, 0.3585907518863678, ...</td>\n",
       "    </tr>\n",
       "    <tr>\n",
       "      <th>2</th>\n",
       "      <td>t5_7s1lcv</td>\n",
       "      <td>fuckaround_n_findout</td>\n",
       "      <td>[-0.25010135769844055, -0.05121876671910286, -0.4104999303817749, 0.17199638485908508, -0.2111128717660904, -0.01367927622050047, -0.41924068331718445, 0.15966467559337616, 0.1576160341501236, 0.398811936378479, 0.3563167154788971, 0.07...</td>\n",
       "    </tr>\n",
       "    <tr>\n",
       "      <th>3</th>\n",
       "      <td>t5_2mpk27</td>\n",
       "      <td>fuckautismspeaks</td>\n",
       "      <td>[-0.643264889717102, -0.3077889084815979, -0.8766250610351562, 0.34814009070396423, -0.3688446581363678, -0.09676993638277054, -0.01420139241963625, 0.11278355121612549, 0.2917800843715668, 0.48437413573265076, -0.09958196431398392, -0....</td>\n",
       "    </tr>\n",
       "    <tr>\n",
       "      <th>4</th>\n",
       "      <td>t5_5rkktn</td>\n",
       "      <td>fuckbagin</td>\n",
       "      <td>[0.09801478683948517, -0.26190200448036194, 0.09046468883752823, -0.18976961076259613, -0.06223154440522194, 0.34227171540260315, -0.07571414113044739, 0.3605010509490967, 0.013768891803920269, 0.4096928536891937, 0.27020058035850525, -...</td>\n",
       "    </tr>\n",
       "  </tbody>\n",
       "</table>\n",
       "</div>"
      ],
      "text/plain": [
       "  subreddit_id        subreddit_name                                                                                                                                                                                                                                        embedding\n",
       "0    t5_4f57cs    fuckangelhernandez  [-0.3996698260307312, 0.20269957184791565, -0.3055022060871124, -0.005287058185786009, 0.121136873960495, 0.06231916323304176, -0.37654876708984375, 0.48437756299972534, -0.2151433378458023, 0.31947633624076843, 0.4782879948616028, 0.23...\n",
       "1     t5_2s2gt             fuckapple  [-0.0029481418896466494, 0.053129445761442184, -0.17849114537239075, -0.1555848866701126, -0.20715922117233276, 0.2648947238922119, 0.24177874624729156, 0.23757821321487427, 0.011948454193770885, 0.3712220788002014, 0.3585907518863678, ...\n",
       "2    t5_7s1lcv  fuckaround_n_findout  [-0.25010135769844055, -0.05121876671910286, -0.4104999303817749, 0.17199638485908508, -0.2111128717660904, -0.01367927622050047, -0.41924068331718445, 0.15966467559337616, 0.1576160341501236, 0.398811936378479, 0.3563167154788971, 0.07...\n",
       "3    t5_2mpk27      fuckautismspeaks  [-0.643264889717102, -0.3077889084815979, -0.8766250610351562, 0.34814009070396423, -0.3688446581363678, -0.09676993638277054, -0.01420139241963625, 0.11278355121612549, 0.2917800843715668, 0.48437413573265076, -0.09958196431398392, -0....\n",
       "4    t5_5rkktn             fuckbagin  [0.09801478683948517, -0.26190200448036194, 0.09046468883752823, -0.18976961076259613, -0.06223154440522194, 0.34227171540260315, -0.07571414113044739, 0.3605010509490967, 0.013768891803920269, 0.4096928536891937, 0.27020058035850525, -..."
      ]
     },
     "execution_count": 10,
     "metadata": {},
     "output_type": "execute_result"
    }
   ],
   "source": [
    "df_sub_emb.head()"
   ]
  },
  {
   "cell_type": "markdown",
   "id": "a0cc3bc6",
   "metadata": {},
   "source": [
    "# Transform - Count of subreddits per user\n"
   ]
  },
  {
   "cell_type": "code",
   "execution_count": 11,
   "id": "0be46efe",
   "metadata": {},
   "outputs": [
    {
     "name": "stdout",
     "output_type": "stream",
     "text": [
      "CPU times: user 1.09 s, sys: 842 ms, total: 1.93 s\n",
      "Wall time: 1.89 s\n"
     ]
    }
   ],
   "source": [
    "%%time\n",
    "\n",
    "dfp_users_tos = pl.DataFrame(df_users_raw_tos)"
   ]
  },
  {
   "cell_type": "code",
   "execution_count": 12,
   "id": "0deb0e4b",
   "metadata": {},
   "outputs": [
    {
     "name": "stdout",
     "output_type": "stream",
     "text": [
      "CPU times: user 28.2 ms, sys: 7.95 ms, total: 36.1 ms\n",
      "Wall time: 35.5 ms\n"
     ]
    }
   ],
   "source": [
    "%%time\n",
    "\n",
    "df_users_tos = df_users_raw_tos.copy()"
   ]
  },
  {
   "cell_type": "markdown",
   "id": "25ba7a9e",
   "metadata": {},
   "source": [
    "## Pandas\n",
    "Reshape user data to get:\n",
    "- count the number of subreddits for each user\n",
    "\n"
   ]
  },
  {
   "cell_type": "code",
   "execution_count": 19,
   "id": "12c5c410",
   "metadata": {},
   "outputs": [
    {
     "name": "stdout",
     "output_type": "stream",
     "text": [
      "CPU times: user 38.7 s, sys: 894 ms, total: 39.6 s\n",
      "Wall time: 39.6 s\n"
     ]
    }
   ],
   "source": [
    "%%time\n",
    "\n",
    "df_users_tos['subreddit_count'] = (\n",
    "    df_users_tos['feature_value'].apply(lambda x: len(json.loads(x)) )\n",
    ")"
   ]
  },
  {
   "cell_type": "code",
   "execution_count": 20,
   "id": "7e7b3636",
   "metadata": {},
   "outputs": [
    {
     "data": {
      "text/html": [
       "<div>\n",
       "<style scoped>\n",
       "    .dataframe tbody tr th:only-of-type {\n",
       "        vertical-align: middle;\n",
       "    }\n",
       "\n",
       "    .dataframe tbody tr th {\n",
       "        vertical-align: top;\n",
       "    }\n",
       "\n",
       "    .dataframe thead th {\n",
       "        text-align: right;\n",
       "    }\n",
       "</style>\n",
       "<table border=\"1\" class=\"dataframe\">\n",
       "  <thead>\n",
       "    <tr style=\"text-align: right;\">\n",
       "      <th></th>\n",
       "      <th>subreddit_count</th>\n",
       "    </tr>\n",
       "  </thead>\n",
       "  <tbody>\n",
       "    <tr>\n",
       "      <th>count</th>\n",
       "      <td>856423.000000</td>\n",
       "    </tr>\n",
       "    <tr>\n",
       "      <th>mean</th>\n",
       "      <td>152.496149</td>\n",
       "    </tr>\n",
       "    <tr>\n",
       "      <th>std</th>\n",
       "      <td>141.629998</td>\n",
       "    </tr>\n",
       "    <tr>\n",
       "      <th>min</th>\n",
       "      <td>1.000000</td>\n",
       "    </tr>\n",
       "    <tr>\n",
       "      <th>25%</th>\n",
       "      <td>47.000000</td>\n",
       "    </tr>\n",
       "    <tr>\n",
       "      <th>50%</th>\n",
       "      <td>118.000000</td>\n",
       "    </tr>\n",
       "    <tr>\n",
       "      <th>75%</th>\n",
       "      <td>215.000000</td>\n",
       "    </tr>\n",
       "    <tr>\n",
       "      <th>max</th>\n",
       "      <td>2085.000000</td>\n",
       "    </tr>\n",
       "  </tbody>\n",
       "</table>\n",
       "</div>"
      ],
      "text/plain": [
       "       subreddit_count\n",
       "count    856423.000000\n",
       "mean        152.496149\n",
       "std         141.629998\n",
       "min           1.000000\n",
       "25%          47.000000\n",
       "50%         118.000000\n",
       "75%         215.000000\n",
       "max        2085.000000"
      ]
     },
     "execution_count": 20,
     "metadata": {},
     "output_type": "execute_result"
    }
   ],
   "source": [
    "df_users_tos.describe()"
   ]
  },
  {
   "cell_type": "markdown",
   "id": "7c2fc119",
   "metadata": {},
   "source": [
    "## Polars"
   ]
  },
  {
   "cell_type": "code",
   "execution_count": 15,
   "id": "3d4ef66e",
   "metadata": {},
   "outputs": [
    {
     "data": {
      "text/html": [
       "<div><style>\n",
       ".dataframe > thead > tr > th,\n",
       ".dataframe > tbody > tr > td {\n",
       "  text-align: right;\n",
       "}\n",
       "</style>\n",
       "<small>shape: (7, 3)</small><table border=\"1\" class=\"dataframe\"><thead><tr><th>describe</th><th>user_id</th><th>feature_value</th></tr><tr><td>str</td><td>str</td><td>str</td></tr></thead><tbody><tr><td>&quot;count&quot;</td><td>&quot;856423&quot;</td><td>&quot;856423&quot;</td></tr><tr><td>&quot;null_count&quot;</td><td>&quot;0&quot;</td><td>&quot;0&quot;</td></tr><tr><td>&quot;mean&quot;</td><td>null</td><td>null</td></tr><tr><td>&quot;std&quot;</td><td>null</td><td>null</td></tr><tr><td>&quot;min&quot;</td><td>&quot;t2_10009m&quot;</td><td>&quot;{&quot;t5_100kj8&quot;:4…</td></tr><tr><td>&quot;max&quot;</td><td>&quot;t2_zzzz9&quot;</td><td>&quot;{&quot;t5_zzwxp&quot;:0.…</td></tr><tr><td>&quot;median&quot;</td><td>null</td><td>null</td></tr></tbody></table></div>"
      ],
      "text/plain": [
       "shape: (7, 3)\n",
       "┌────────────┬───────────┬───────────────────────────────────┐\n",
       "│ describe   ┆ user_id   ┆ feature_value                     │\n",
       "│ ---        ┆ ---       ┆ ---                               │\n",
       "│ str        ┆ str       ┆ str                               │\n",
       "╞════════════╪═══════════╪═══════════════════════════════════╡\n",
       "│ count      ┆ 856423    ┆ 856423                            │\n",
       "│ null_count ┆ 0         ┆ 0                                 │\n",
       "│ mean       ┆ null      ┆ null                              │\n",
       "│ std        ┆ null      ┆ null                              │\n",
       "│ min        ┆ t2_10009m ┆ {\"t5_100kj8\":4e-05,\"t5_2qqam\":0.… │\n",
       "│ max        ┆ t2_zzzz9  ┆ {\"t5_zzwxp\":0.00044,\"t5_2qib0\":0… │\n",
       "│ median     ┆ null      ┆ null                              │\n",
       "└────────────┴───────────┴───────────────────────────────────┘"
      ]
     },
     "execution_count": 15,
     "metadata": {},
     "output_type": "execute_result"
    }
   ],
   "source": [
    "dfp_users_tos.describe()"
   ]
  },
  {
   "cell_type": "code",
   "execution_count": 21,
   "id": "423b0c71",
   "metadata": {},
   "outputs": [
    {
     "name": "stdout",
     "output_type": "stream",
     "text": [
      "CPU times: user 40 s, sys: 1.13 s, total: 41.1 s\n",
      "Wall time: 41.1 s\n"
     ]
    }
   ],
   "source": [
    "%%time\n",
    "\n",
    "dfp_users_tos = dfp_users_tos.with_columns(\n",
    "    pl.col('feature_value').apply(lambda x: len(json.loads(x)) ).alias('subreddit_count')\n",
    ")"
   ]
  },
  {
   "cell_type": "code",
   "execution_count": 22,
   "id": "ccaf34ad",
   "metadata": {},
   "outputs": [
    {
     "data": {
      "text/html": [
       "<div><style>\n",
       ".dataframe > thead > tr > th,\n",
       ".dataframe > tbody > tr > td {\n",
       "  text-align: right;\n",
       "}\n",
       "</style>\n",
       "<small>shape: (7, 4)</small><table border=\"1\" class=\"dataframe\"><thead><tr><th>describe</th><th>user_id</th><th>feature_value</th><th>subreddit_count</th></tr><tr><td>str</td><td>str</td><td>str</td><td>f64</td></tr></thead><tbody><tr><td>&quot;count&quot;</td><td>&quot;856423&quot;</td><td>&quot;856423&quot;</td><td>856423.0</td></tr><tr><td>&quot;null_count&quot;</td><td>&quot;0&quot;</td><td>&quot;0&quot;</td><td>0.0</td></tr><tr><td>&quot;mean&quot;</td><td>null</td><td>null</td><td>152.496149</td></tr><tr><td>&quot;std&quot;</td><td>null</td><td>null</td><td>141.629998</td></tr><tr><td>&quot;min&quot;</td><td>&quot;t2_10009m&quot;</td><td>&quot;{&quot;t5_100kj8&quot;:4…</td><td>1.0</td></tr><tr><td>&quot;max&quot;</td><td>&quot;t2_zzzz9&quot;</td><td>&quot;{&quot;t5_zzwxp&quot;:0.…</td><td>2085.0</td></tr><tr><td>&quot;median&quot;</td><td>null</td><td>null</td><td>118.0</td></tr></tbody></table></div>"
      ],
      "text/plain": [
       "shape: (7, 4)\n",
       "┌────────────┬───────────┬───────────────────────────────────┬─────────────────┐\n",
       "│ describe   ┆ user_id   ┆ feature_value                     ┆ subreddit_count │\n",
       "│ ---        ┆ ---       ┆ ---                               ┆ ---             │\n",
       "│ str        ┆ str       ┆ str                               ┆ f64             │\n",
       "╞════════════╪═══════════╪═══════════════════════════════════╪═════════════════╡\n",
       "│ count      ┆ 856423    ┆ 856423                            ┆ 856423.0        │\n",
       "│ null_count ┆ 0         ┆ 0                                 ┆ 0.0             │\n",
       "│ mean       ┆ null      ┆ null                              ┆ 152.496149      │\n",
       "│ std        ┆ null      ┆ null                              ┆ 141.629998      │\n",
       "│ min        ┆ t2_10009m ┆ {\"t5_100kj8\":4e-05,\"t5_2qqam\":0.… ┆ 1.0             │\n",
       "│ max        ┆ t2_zzzz9  ┆ {\"t5_zzwxp\":0.00044,\"t5_2qib0\":0… ┆ 2085.0          │\n",
       "│ median     ┆ null      ┆ null                              ┆ 118.0           │\n",
       "└────────────┴───────────┴───────────────────────────────────┴─────────────────┘"
      ]
     },
     "execution_count": 22,
     "metadata": {},
     "output_type": "execute_result"
    }
   ],
   "source": [
    "dfp_users_tos.describe()"
   ]
  },
  {
   "cell_type": "code",
   "execution_count": 23,
   "id": "50301443",
   "metadata": {},
   "outputs": [
    {
     "data": {
      "text/html": [
       "<div><style>\n",
       ".dataframe > thead > tr > th,\n",
       ".dataframe > tbody > tr > td {\n",
       "  text-align: right;\n",
       "}\n",
       "</style>\n",
       "<small>shape: (5, 3)</small><table border=\"1\" class=\"dataframe\"><thead><tr><th>user_id</th><th>feature_value</th><th>subreddit_count</th></tr><tr><td>str</td><td>str</td><td>i64</td></tr></thead><tbody><tr><td>&quot;t2_8p8h0ki0b&quot;</td><td>&quot;{&quot;t5_3fn31&quot;:0.…</td><td>14</td></tr><tr><td>&quot;t2_8p90xabzf&quot;</td><td>&quot;{&quot;t5_3phq9&quot;:0.…</td><td>14</td></tr><tr><td>&quot;t2_8p81pzwi9&quot;</td><td>&quot;{&quot;t5_2wzm6&quot;:0.…</td><td>28</td></tr><tr><td>&quot;t2_8p90y&quot;</td><td>&quot;{&quot;t5_38y725&quot;:0…</td><td>84</td></tr><tr><td>&quot;t2_8p853&quot;</td><td>&quot;{&quot;t5_2s6nz&quot;:0.…</td><td>369</td></tr></tbody></table></div>"
      ],
      "text/plain": [
       "shape: (5, 3)\n",
       "┌──────────────┬───────────────────────────────────┬─────────────────┐\n",
       "│ user_id      ┆ feature_value                     ┆ subreddit_count │\n",
       "│ ---          ┆ ---                               ┆ ---             │\n",
       "│ str          ┆ str                               ┆ i64             │\n",
       "╞══════════════╪═══════════════════════════════════╪═════════════════╡\n",
       "│ t2_8p8h0ki0b ┆ {\"t5_3fn31\":0.87899,\"t5_2qhsa\":0… ┆ 14              │\n",
       "│ t2_8p90xabzf ┆ {\"t5_3phq9\":0.13502,\"t5_2qh1i\":0… ┆ 14              │\n",
       "│ t2_8p81pzwi9 ┆ {\"t5_2wzm6\":0.0219,\"t5_2cneq\":0.… ┆ 28              │\n",
       "│ t2_8p90y     ┆ {\"t5_38y725\":0.00134,\"t5_27xp1u\"… ┆ 84              │\n",
       "│ t2_8p853     ┆ {\"t5_2s6nz\":0.00038,\"t5_2y1j5\":8… ┆ 369             │\n",
       "└──────────────┴───────────────────────────────────┴─────────────────┘"
      ]
     },
     "execution_count": 23,
     "metadata": {},
     "output_type": "execute_result"
    }
   ],
   "source": [
    "dfp_users_tos.head()"
   ]
  },
  {
   "cell_type": "markdown",
   "id": "291863b7",
   "metadata": {},
   "source": [
    "# Transform - get long form \n",
    "Each row = user+subreddit"
   ]
  },
  {
   "cell_type": "markdown",
   "id": "c228c766",
   "metadata": {},
   "source": [
    "## Example on a single user"
   ]
  },
  {
   "cell_type": "code",
   "execution_count": 24,
   "id": "3988368e",
   "metadata": {},
   "outputs": [
    {
     "data": {
      "text/plain": [
       "632536    {\"t5_3nxko\":0.02033,\"t5_2r40o\":0.02439,\"t5_2t7no\":0.00813,\"t5_2thzw\":0.01626,\"t5_2qvp9\":0.04472,\"t5_2yrq6\":0.03252,\"t5_45hae8\":0.01626,\"t5_3ajbp\":0.11382,\"t5_2qi58\":0.03659,\"t5_2qhpn\":0.04878,\"t5_34a0h\":0.49187,\"t5_35mye\":0.03252,\"t5_2t...\n",
       "Name: feature_value, dtype: object"
      ]
     },
     "execution_count": 24,
     "metadata": {},
     "output_type": "execute_result"
    }
   ],
   "source": [
    "# convert 1 user's row to a df where each row is user+subreddit time\n",
    "\n",
    "df_users_tos[df_users_tos['user_id'] == 't2_8fe238nke']['feature_value']"
   ]
  },
  {
   "cell_type": "code",
   "execution_count": 25,
   "id": "542a8752",
   "metadata": {},
   "outputs": [
    {
     "data": {
      "text/html": [
       "<div>\n",
       "<style scoped>\n",
       "    .dataframe tbody tr th:only-of-type {\n",
       "        vertical-align: middle;\n",
       "    }\n",
       "\n",
       "    .dataframe tbody tr th {\n",
       "        vertical-align: top;\n",
       "    }\n",
       "\n",
       "    .dataframe thead th {\n",
       "        text-align: right;\n",
       "    }\n",
       "</style>\n",
       "<table border=\"1\" class=\"dataframe\">\n",
       "  <thead>\n",
       "    <tr style=\"text-align: right;\">\n",
       "      <th></th>\n",
       "      <th>user_id</th>\n",
       "      <th>subreddit_id</th>\n",
       "      <th>tos_pct</th>\n",
       "    </tr>\n",
       "  </thead>\n",
       "  <tbody>\n",
       "    <tr>\n",
       "      <th>0</th>\n",
       "      <td>t2_8fe238nke</td>\n",
       "      <td>t5_3nxko</td>\n",
       "      <td>0.02033</td>\n",
       "    </tr>\n",
       "    <tr>\n",
       "      <th>1</th>\n",
       "      <td>t2_8fe238nke</td>\n",
       "      <td>t5_2r40o</td>\n",
       "      <td>0.02439</td>\n",
       "    </tr>\n",
       "    <tr>\n",
       "      <th>2</th>\n",
       "      <td>t2_8fe238nke</td>\n",
       "      <td>t5_2t7no</td>\n",
       "      <td>0.00813</td>\n",
       "    </tr>\n",
       "    <tr>\n",
       "      <th>3</th>\n",
       "      <td>t2_8fe238nke</td>\n",
       "      <td>t5_2thzw</td>\n",
       "      <td>0.01626</td>\n",
       "    </tr>\n",
       "    <tr>\n",
       "      <th>4</th>\n",
       "      <td>t2_8fe238nke</td>\n",
       "      <td>t5_2qvp9</td>\n",
       "      <td>0.04472</td>\n",
       "    </tr>\n",
       "    <tr>\n",
       "      <th>5</th>\n",
       "      <td>t2_8fe238nke</td>\n",
       "      <td>t5_2yrq6</td>\n",
       "      <td>0.03252</td>\n",
       "    </tr>\n",
       "    <tr>\n",
       "      <th>6</th>\n",
       "      <td>t2_8fe238nke</td>\n",
       "      <td>t5_45hae8</td>\n",
       "      <td>0.01626</td>\n",
       "    </tr>\n",
       "    <tr>\n",
       "      <th>7</th>\n",
       "      <td>t2_8fe238nke</td>\n",
       "      <td>t5_3ajbp</td>\n",
       "      <td>0.11382</td>\n",
       "    </tr>\n",
       "    <tr>\n",
       "      <th>8</th>\n",
       "      <td>t2_8fe238nke</td>\n",
       "      <td>t5_2qi58</td>\n",
       "      <td>0.03659</td>\n",
       "    </tr>\n",
       "    <tr>\n",
       "      <th>9</th>\n",
       "      <td>t2_8fe238nke</td>\n",
       "      <td>t5_2qhpn</td>\n",
       "      <td>0.04878</td>\n",
       "    </tr>\n",
       "    <tr>\n",
       "      <th>10</th>\n",
       "      <td>t2_8fe238nke</td>\n",
       "      <td>t5_34a0h</td>\n",
       "      <td>0.49187</td>\n",
       "    </tr>\n",
       "    <tr>\n",
       "      <th>11</th>\n",
       "      <td>t2_8fe238nke</td>\n",
       "      <td>t5_35mye</td>\n",
       "      <td>0.03252</td>\n",
       "    </tr>\n",
       "    <tr>\n",
       "      <th>12</th>\n",
       "      <td>t2_8fe238nke</td>\n",
       "      <td>t5_2to41</td>\n",
       "      <td>0.05691</td>\n",
       "    </tr>\n",
       "    <tr>\n",
       "      <th>13</th>\n",
       "      <td>t2_8fe238nke</td>\n",
       "      <td>t5_2rybx</td>\n",
       "      <td>0.03659</td>\n",
       "    </tr>\n",
       "    <tr>\n",
       "      <th>14</th>\n",
       "      <td>t2_8fe238nke</td>\n",
       "      <td>t5_2qhon</td>\n",
       "      <td>0.02033</td>\n",
       "    </tr>\n",
       "  </tbody>\n",
       "</table>\n",
       "</div>"
      ],
      "text/plain": [
       "         user_id subreddit_id  tos_pct\n",
       "0   t2_8fe238nke     t5_3nxko  0.02033\n",
       "1   t2_8fe238nke     t5_2r40o  0.02439\n",
       "2   t2_8fe238nke     t5_2t7no  0.00813\n",
       "3   t2_8fe238nke     t5_2thzw  0.01626\n",
       "4   t2_8fe238nke     t5_2qvp9  0.04472\n",
       "5   t2_8fe238nke     t5_2yrq6  0.03252\n",
       "6   t2_8fe238nke    t5_45hae8  0.01626\n",
       "7   t2_8fe238nke     t5_3ajbp  0.11382\n",
       "8   t2_8fe238nke     t5_2qi58  0.03659\n",
       "9   t2_8fe238nke     t5_2qhpn  0.04878\n",
       "10  t2_8fe238nke     t5_34a0h  0.49187\n",
       "11  t2_8fe238nke     t5_35mye  0.03252\n",
       "12  t2_8fe238nke     t5_2to41  0.05691\n",
       "13  t2_8fe238nke     t5_2rybx  0.03659\n",
       "14  t2_8fe238nke     t5_2qhon  0.02033"
      ]
     },
     "execution_count": 25,
     "metadata": {},
     "output_type": "execute_result"
    }
   ],
   "source": [
    "# reshape_tos_for_df(\n",
    "#     't2_8fe238nke',\n",
    "#     df_users_tos[df_users_tos['user_id'] == 't2_8fe238nke']['feature_value'].values[0],\n",
    "# )\n",
    "\n",
    "pd.DataFrame(reshape_tos_for_df(\n",
    "    't2_8fe238nke',\n",
    "    df_users_tos[df_users_tos['user_id'] == 't2_8fe238nke']['feature_value'].values[0],\n",
    "))"
   ]
  },
  {
   "cell_type": "markdown",
   "id": "fcfaf76a",
   "metadata": {},
   "source": [
    "## Time estimates on just converting the data to the right format\n",
    "\n",
    "with 10k users, Pandas seems WAY faster in this step:\n",
    "\n",
    "```bash\n",
    "# Pandas\n",
    "803 ms ± 3.74 ms per loop (mean ± std. dev. of 7 runs, 1 loop each)\n",
    "\n",
    "# Polars\n",
    "2,020 ms s ± 17.9 ms per loop (mean ± std. dev. of 7 runs, 1 loop each)\n",
    "\n",
    "##  2.02 s ± 17.9 ms per loop (mean ± std. dev. of 7 runs, 1 loop each)\n",
    "```"
   ]
  },
  {
   "cell_type": "code",
   "execution_count": 28,
   "id": "4b60e3ae",
   "metadata": {},
   "outputs": [
    {
     "name": "stdout",
     "output_type": "stream",
     "text": [
      "803 ms ± 3.74 ms per loop (mean ± std. dev. of 7 runs, 1 loop each)\n"
     ]
    }
   ],
   "source": [
    "%%timeit\n",
    "(\n",
    "    df_users_tos.head(int(1e4)).apply(lambda x: reshape_tos_for_df(x['user_id'], x['feature_value']), axis='columns')\n",
    ")"
   ]
  },
  {
   "cell_type": "code",
   "execution_count": 30,
   "id": "7350a19a",
   "metadata": {},
   "outputs": [
    {
     "name": "stdout",
     "output_type": "stream",
     "text": [
      "2.02 s ± 17.9 ms per loop (mean ± std. dev. of 7 runs, 1 loop each)\n"
     ]
    }
   ],
   "source": [
    "%%timeit\n",
    "\n",
    "(\n",
    "    dfp_users_tos.head(int(1e4)).select(\n",
    "        pl.struct(['user_id', 'feature_value']).apply(\n",
    "            lambda x: reshape_tos_for_df(x['user_id'], x['feature_value'])\n",
    "        ).alias('subreddit_tos_expanded')\n",
    "    )\n",
    ")"
   ]
  },
  {
   "cell_type": "markdown",
   "id": "1eadef00",
   "metadata": {},
   "source": [
    "## Time estimates on converting the data to long df (on a sample of users)\n",
    "\n",
    "We need to take into account the full time to convert to the output df\n",
    "\n",
    "And we also compare the output of the two methods to check each other's outputm"
   ]
  },
  {
   "cell_type": "code",
   "execution_count": 49,
   "id": "75671f84",
   "metadata": {},
   "outputs": [
    {
     "data": {
      "text/plain": [
       "50000"
      ]
     },
     "execution_count": 49,
     "metadata": {},
     "output_type": "execute_result"
    }
   ],
   "source": [
    "n_long_test = int(5e4)\n",
    "n_long_test"
   ]
  },
  {
   "cell_type": "code",
   "execution_count": 51,
   "id": "7ec7b692",
   "metadata": {},
   "outputs": [
    {
     "name": "stdout",
     "output_type": "stream",
     "text": [
      "(7054807, 3)\n",
      "CPU times: user 11.5 s, sys: 1.46 s, total: 12.9 s\n",
      "Wall time: 12.6 s\n"
     ]
    }
   ],
   "source": [
    "%%time\n",
    "\n",
    "# create a chain, instead of keeping a tmp df\n",
    "dfp_users_tos_long_test = (\n",
    "    dfp_users_tos.head(n_long_test).select(\n",
    "        pl.struct(['user_id', 'feature_value'])\n",
    "        .apply(\n",
    "            lambda x: reshape_tos_for_df(x['user_id'], x['feature_value'])\n",
    "        )\n",
    "        .alias('subreddit_tos_expanded')\n",
    "    )\n",
    "    ['subreddit_tos_expanded'].struct.unnest().select(\n",
    "        [\n",
    "            pl.col('user_id').arr.explode(),\n",
    "            pl.col('subreddit_id').arr.explode(),\n",
    "            pl.col('tos_pct').arr.explode(),\n",
    "        ]\n",
    "    )\n",
    ")\n",
    "print(dfp_users_tos_long_test.shape)"
   ]
  },
  {
   "cell_type": "code",
   "execution_count": 64,
   "id": "4aa99148",
   "metadata": {},
   "outputs": [
    {
     "name": "stdout",
     "output_type": "stream",
     "text": [
      "(7054807, 3)\n",
      "CPU times: user 37.9 s, sys: 1.01 s, total: 38.9 s\n",
      "Wall time: 38.6 s\n"
     ]
    }
   ],
   "source": [
    "%%time\n",
    "\n",
    "df_users_tos_long_test = pd.concat(\n",
    "    [pd.DataFrame(_) for _ in\n",
    "        (\n",
    "            df_users_tos.head(n_long_test).apply(lambda x: reshape_tos_for_df(x['user_id'], x['feature_value']), axis='columns')\n",
    "        ).to_list()\n",
    "    ],\n",
    "    ignore_index=True,\n",
    ")\n",
    "print(df_users_tos_long_test.shape)"
   ]
  },
  {
   "cell_type": "code",
   "execution_count": 53,
   "id": "2c5817e4",
   "metadata": {},
   "outputs": [
    {
     "data": {
      "text/plain": [
       "3.055555555555556"
      ]
     },
     "execution_count": 53,
     "metadata": {},
     "output_type": "execute_result"
    }
   ],
   "source": [
    "38.5 / 12.6"
   ]
  },
  {
   "cell_type": "markdown",
   "id": "345eaa02",
   "metadata": {},
   "source": [
    "### Make sure that the df outputs are the same!\n",
    "\n",
    "Note that we need to reset & drop the index for the pandas df because it keeps the index for each individual df unless we ignore index at concat time.\n",
    "\n",
    "_NOTE_: When we use pd.equals() it also check the dataframe's index."
   ]
  },
  {
   "cell_type": "code",
   "execution_count": 76,
   "id": "36d87943",
   "metadata": {},
   "outputs": [
    {
     "name": "stdout",
     "output_type": "stream",
     "text": [
      "True\n",
      "CPU times: user 1.71 s, sys: 104 ms, total: 1.81 s\n",
      "Wall time: 1.79 s\n"
     ]
    }
   ],
   "source": [
    "%%time\n",
    "\n",
    "pa_eq_pl = dfp_users_tos_long_test.to_pandas().equals(df_users_tos_long_test.reset_index(drop=True))\n",
    "print(pa_eq_pl)\n",
    "assert pa_eq_pl\n",
    "del pa_eq_pl"
   ]
  },
  {
   "cell_type": "code",
   "execution_count": 72,
   "id": "71f915ac",
   "metadata": {},
   "outputs": [
    {
     "data": {
      "text/plain": [
       "True"
      ]
     },
     "execution_count": 72,
     "metadata": {},
     "output_type": "execute_result"
    }
   ],
   "source": [
    "np.array_equal(dfp_users_tos_long_test.to_pandas().index, df_users_tos_long_test.index)"
   ]
  },
  {
   "cell_type": "code",
   "execution_count": 77,
   "id": "337c06a9",
   "metadata": {},
   "outputs": [
    {
     "name": "stdout",
     "output_type": "stream",
     "text": [
      "(7054807, 3)\n",
      "(7054807, 3)\n",
      "True\n"
     ]
    }
   ],
   "source": [
    "shape_pol_test_ = dfp_users_tos_long_test.to_pandas().shape\n",
    "shape_pan_test_ = df_users_tos_long_test.shape\n",
    "print(shape_pol_test_)\n",
    "print(shape_pan_test_)\n",
    "print(shape_pan_test_ == shape_pol_test_)\n",
    "del shape_pol_test_, shape_pan_test_"
   ]
  },
  {
   "cell_type": "markdown",
   "id": "c621b21e",
   "metadata": {},
   "source": [
    "### Run timeit on test data [optional]\n",
    "Don't really need to run time it because it's clear that polars is ~3x faster when we measure end-to-end result for final output (df_long)"
   ]
  },
  {
   "cell_type": "code",
   "execution_count": 54,
   "id": "02c658ed",
   "metadata": {},
   "outputs": [],
   "source": [
    "# %%timeit\n",
    "\n",
    "# df_users_tos_long_test = pd.concat(\n",
    "#     [pd.DataFrame(_) for _ in \n",
    "#         (\n",
    "#             df_users_tos.head(n_long_test).apply(lambda x: reshape_tos_for_df(x['user_id'], x['feature_value']), axis='columns')\n",
    "#         ).to_list()\n",
    "#     ]\n",
    "# )"
   ]
  },
  {
   "cell_type": "code",
   "execution_count": 55,
   "id": "9b8c7348",
   "metadata": {},
   "outputs": [],
   "source": [
    "# %%timeit\n",
    "\n",
    "# dfp_users_tos_long_test = (\n",
    "#     dfp_users_tos.head(n_long_test).select(\n",
    "#         pl.struct(['user_id', 'feature_value'])\n",
    "#         .apply(\n",
    "#             lambda x: reshape_tos_for_df(x['user_id'], x['feature_value'])\n",
    "#         )\n",
    "#         .alias('subreddit_tos_expanded')\n",
    "#     )\n",
    "#     ['subreddit_tos_expanded'].struct.unnest().select(\n",
    "#         [\n",
    "#             pl.col('user_id').arr.explode(),\n",
    "#             pl.col('subreddit_id').arr.explode(),\n",
    "#             pl.col('tos_pct').arr.explode(),\n",
    "#         ]\n",
    "#     )\n",
    "# )"
   ]
  },
  {
   "cell_type": "markdown",
   "id": "b0225ae7",
   "metadata": {},
   "source": [
    "## Convert full data\n",
    "with pandas, we have a lot of overhead so the whole process takes 13+ minutes (creating individual dataframes & then concat into a final df)\n",
    "\n",
    "```bash\n",
    "# Pandas\n",
    "CPU times: user 12min 39s, sys: 1min 12s, total: 13min 51s\n",
    "Wall time: 13min 46s\n",
    "\n",
    "\n",
    "# Polars\n",
    "CPU times: user 3min 49s, sys: 40.4 s, total: 4min 30s\n",
    "Wall time: 4min 25s\n",
    "```"
   ]
  },
  {
   "cell_type": "code",
   "execution_count": 81,
   "id": "fdc96514",
   "metadata": {},
   "outputs": [
    {
     "data": {
      "text/plain": [
       "3.116981132075472"
      ]
     },
     "execution_count": 81,
     "metadata": {},
     "output_type": "execute_result"
    }
   ],
   "source": [
    "(13 + 46/60) / (4 + 25/60)"
   ]
  },
  {
   "cell_type": "code",
   "execution_count": 78,
   "id": "51e45466",
   "metadata": {},
   "outputs": [
    {
     "name": "stdout",
     "output_type": "stream",
     "text": [
      "(130601209, 3)\n",
      "CPU times: user 3min 49s, sys: 40.4 s, total: 4min 30s\n",
      "Wall time: 4min 25s\n"
     ]
    }
   ],
   "source": [
    "%%time\n",
    "\n",
    "# create a chain, instead of keeping a tmp df\n",
    "dfp_users_tos_long_single = (\n",
    "    dfp_users_tos\n",
    "    .select(\n",
    "        pl.struct(['user_id', 'feature_value'])\n",
    "        .apply(\n",
    "            lambda x: reshape_tos_for_df(x['user_id'], x['feature_value'])\n",
    "        )\n",
    "        .alias('subreddit_tos_expanded')\n",
    "    )\n",
    "    ['subreddit_tos_expanded'].struct.unnest()\n",
    "    .select(\n",
    "        [\n",
    "            pl.col('user_id').arr.explode(),\n",
    "            pl.col('subreddit_id').arr.explode(),\n",
    "            pl.col('tos_pct').arr.explode(),\n",
    "        ]\n",
    "    )\n",
    ")\n",
    "print(dfp_users_tos_long_single.shape)"
   ]
  },
  {
   "cell_type": "code",
   "execution_count": 69,
   "id": "75b8912e",
   "metadata": {},
   "outputs": [
    {
     "name": "stdout",
     "output_type": "stream",
     "text": [
      "CPU times: user 12min 39s, sys: 1min 12s, total: 13min 51s\n",
      "Wall time: 13min 46s\n"
     ]
    }
   ],
   "source": [
    "# %%time\n",
    "\n",
    "# df_tos_long = pd.concat(\n",
    "#     [pd.DataFrame(_) for _ in \n",
    "#         (\n",
    "#             df_users_tos.apply(lambda x: reshape_tos_for_df(x['user_id'], x['feature_value']), axis='columns')\n",
    "#         ).to_list()\n",
    "#     ]\n",
    "# )\n",
    "# print(df_tos_long)"
   ]
  },
  {
   "cell_type": "markdown",
   "id": "506bc2a3",
   "metadata": {},
   "source": [
    "### Can we speed it up even more by running a few calculations explicitly in parallel?\n",
    "\n",
    "with `dask.delayed()` we should be able to queue and run a few jobs in parallel which _should_ speed up the `polars` calculation even more\n",
    "\n"
   ]
  },
  {
   "cell_type": "code",
   "execution_count": null,
   "id": "1f12b412",
   "metadata": {},
   "outputs": [],
   "source": []
  },
  {
   "cell_type": "code",
   "execution_count": null,
   "id": "ff140703",
   "metadata": {},
   "outputs": [],
   "source": [
    "BREAK\n",
    "\n",
    "for s_id, df_ in tqdm(\n",
    "        df_v_pc_weighted.groupby('subreddit_id'),\n",
    "        ascii=True, mininterval=5,\n",
    "    ):\n",
    "        # For each post in a subreddit, get new embedding: combine subreddit_meta + post(and_comment)\n",
    "        df_pc_embeddings_ = dask.delayed(np.add)(\n",
    "            dask.delayed(df_v_subs_weighted[df_v_subs_weighted['subreddit_id'] == s_id][l_embedding_cols].to_numpy()),\n",
    "            dask.delayed(df_[l_embedding_cols])\n",
    "        )\n",
    "        l_df_c1_weights.append(\n",
    "            dask.delayed(pd.concat)([dask.delayed(df_[l_ix_post_level]), df_pc_embeddings_], ignore_index=False, axis=1)\n",
    "        )\n",
    "\n",
    "info(f\"Define new posts C1 df DAG in dask\")\n",
    "df_posts_agg_c1_delayed = dask.delayed(pd.concat)(l_df_c1_weights, ignore_index=True)\n",
    "\n",
    "info(f\"COMPUTE new C1 df START\")\n",
    "df_posts_agg_c1 = df_posts_agg_c1_delayed.compute()\n",
    "info(f\"COMPUTE new C1 df DONE\")"
   ]
  },
  {
   "cell_type": "code",
   "execution_count": 104,
   "id": "8db07673",
   "metadata": {},
   "outputs": [],
   "source": [
    "# dfp_users_tos.filter(dfp_users_tos['user_id'].is_in(a_user_splits[0]))"
   ]
  },
  {
   "cell_type": "code",
   "execution_count": 112,
   "id": "4d415a22",
   "metadata": {},
   "outputs": [
    {
     "name": "stderr",
     "output_type": "stream",
     "text": [
      "01:59:48 | INFO | \"Create DAG to calculate user<>subreddit long df in parallel...\"\n"
     ]
    },
    {
     "name": "stdout",
     "output_type": "stream",
     "text": [
      "10\n"
     ]
    },
    {
     "data": {
      "application/vnd.jupyter.widget-view+json": {
       "model_id": "6849c6368c2f4efe9c58a277530b91ae",
       "version_major": 2,
       "version_minor": 0
      },
      "text/plain": [
       "  0%|          | 0/10 [00:00<?, ?it/s]"
      ]
     },
     "metadata": {},
     "output_type": "display_data"
    },
    {
     "name": "stderr",
     "output_type": "stream",
     "text": [
      "01:59:50 | INFO | \"Define df_tos_long DAG in dask\"\n",
      "01:59:50 | INFO | \"COMPUTE df_tos_long START\"\n"
     ]
    },
    {
     "ename": "ColumnNotFoundError",
     "evalue": "user_id\n\nError originated just after this operation:\n SELECT [col(\"subreddit_tos_expanded\").map_list()] FROM\n   SELECT [col(\"user_id\").as_struct([col(\"feature_value\")]).map_list().alias(\"subreddit_tos_expanded\")] FROM\n    DF [\"user_id\", \"feature_value\", \"subreddit_count\"]; PROJECT */3 COLUMNS; SELECTION: \"None\"",
     "output_type": "error",
     "traceback": [
      "\u001b[0;31m---------------------------------------------------------------------------\u001b[0m",
      "\u001b[0;31mColumnNotFoundError\u001b[0m                       Traceback (most recent call last)",
      "\u001b[0;32m<timed exec>\u001b[0m in \u001b[0;36m<module>\u001b[0;34m\u001b[0m\n",
      "\u001b[0;32m/opt/conda/lib/python3.7/site-packages/polars/lazyframe/frame.py\u001b[0m in \u001b[0;36mcollect\u001b[0;34m(self, type_coercion, predicate_pushdown, projection_pushdown, simplify_expression, no_optimization, slice_pushdown, common_subplan_elimination, streaming)\u001b[0m\n\u001b[1;32m   1597\u001b[0m             \u001b[0mstreaming\u001b[0m\u001b[0;34m,\u001b[0m\u001b[0;34m\u001b[0m\u001b[0;34m\u001b[0m\u001b[0m\n\u001b[1;32m   1598\u001b[0m         )\n\u001b[0;32m-> 1599\u001b[0;31m         \u001b[0;32mreturn\u001b[0m \u001b[0mwrap_df\u001b[0m\u001b[0;34m(\u001b[0m\u001b[0mldf\u001b[0m\u001b[0;34m.\u001b[0m\u001b[0mcollect\u001b[0m\u001b[0;34m(\u001b[0m\u001b[0;34m)\u001b[0m\u001b[0;34m)\u001b[0m\u001b[0;34m\u001b[0m\u001b[0;34m\u001b[0m\u001b[0m\n\u001b[0m\u001b[1;32m   1600\u001b[0m \u001b[0;34m\u001b[0m\u001b[0m\n\u001b[1;32m   1601\u001b[0m     def sink_parquet(\n",
      "\u001b[0;31mColumnNotFoundError\u001b[0m: user_id\n\nError originated just after this operation:\n SELECT [col(\"subreddit_tos_expanded\").map_list()] FROM\n   SELECT [col(\"user_id\").as_struct([col(\"feature_value\")]).map_list().alias(\"subreddit_tos_expanded\")] FROM\n    DF [\"user_id\", \"feature_value\", \"subreddit_count\"]; PROJECT */3 COLUMNS; SELECTION: \"None\""
     ]
    }
   ],
   "source": [
    "%%time\n",
    "\n",
    "n_parallel_splits = 10\n",
    "\n",
    "a_user_splits = np.array_split(df_users_raw_tos['user_id'], n_parallel_splits)\n",
    "print(len(a_user_splits))\n",
    "\n",
    "l_df_long_parallel = list()\n",
    "\n",
    "info(f\"Create DAG to calculate user<>subreddit long df in parallel...\")\n",
    "for users_ in tqdm(a_user_splits):\n",
    "    l_df_long_parallel.append(\n",
    "        dask.delayed(\n",
    "            dfp_users_tos\n",
    "            .lazy()\n",
    "            .filter(dfp_users_tos['user_id'].is_in(users_))\n",
    "            .select(\n",
    "                # Calculate the new dict to expand the user<>subreddit ToS\n",
    "                pl.struct(['user_id', 'feature_value'])\n",
    "                .apply(\n",
    "                    lambda x: reshape_tos_for_df(x['user_id'], x['feature_value'])\n",
    "                )\n",
    "                .alias('subreddit_tos_expanded')\n",
    "            )\n",
    "            .select(\n",
    "                # Pick only the column with the expanded ToS dictionary (struct)\n",
    "                pl.col('subreddit_tos_expanded')\n",
    "                .apply(lambda x: x.struct.unnest())\n",
    "            )\n",
    "            # The explode step fails on a lacy-df, so do it as a separate step\n",
    "            .select(\n",
    "                # Extract each value into its own column\n",
    "                [\n",
    "                    pl.col('user_id').arr.explode(),\n",
    "                    pl.col('subreddit_id').arr.explode(),\n",
    "                    pl.col('tos_pct').arr.explode(),\n",
    "                ]\n",
    "            )\n",
    "            .lazy()\n",
    "        )\n",
    "    )\n",
    "\n",
    "info(f\"Define df_tos_long DAG in dask\")\n",
    "dfp_users_tos_long_delayed = dask.delayed(pl.concat)(l_df_long_parallel, how='vertical', parallel=True)\n",
    "\n",
    "info(f\"COMPUTE df_tos_long START\")\n",
    "dfp_users_tos_long = dfp_users_tos_long_delayed.compute().collect()\n",
    "info(f\"COMPUTE df_tos_long DONE\")"
   ]
  },
  {
   "cell_type": "code",
   "execution_count": 143,
   "id": "529d0ac7",
   "metadata": {},
   "outputs": [
    {
     "data": {
      "text/html": [
       "<i>naive plan: (run <b>LazyFrame.explain(optimized=True)</b> to see the optimized plan)</i>\n",
       "    <p></p>\n",
       "    <div>RECHUNK<p></p>  UNION:<p></p>  PLAN 0:<p></p>ErrorStateSync(NotYetEncountered(not found: user_id<p></p><p></p>Error originated just after this operation:<p></p> SELECT [col(\"subreddit_tos_expanded\").map_list()] FROM<p></p>   SELECT [col(\"user_id\").as_struct([col(\"feature_value\")]).map_list().alias(\"subreddit_tos_expanded\")] FROM<p></p>    DF [\"user_id\", \"feature_value\", \"subreddit_count\"]; PROJECT */3 COLUMNS; SELECTION: \"None\"))<p></p> SELECT [col(\"subreddit_tos_expanded\").map_list()] FROM<p></p>   SELECT [col(\"user_id\").as_struct([col(\"feature_value\")]).map_list().alias(\"subreddit_tos_expanded\")] FROM<p></p>    DF [\"user_id\", \"feature_value\", \"subreddit_count\"]; PROJECT */3 COLUMNS; SELECTION: \"None\"<p></p>  PLAN 1:<p></p>ErrorStateSync(NotYetEncountered(not found: user_id<p></p><p></p>Error originated just after this operation:<p></p> SELECT [col(\"subreddit_tos_expanded\").map_list()] FROM<p></p>   SELECT [col(\"user_id\").as_struct([col(\"feature_value\")]).map_list().alias(\"subreddit_tos_expanded\")] FROM<p></p>    DF [\"user_id\", \"feature_value\", \"subreddit_count\"]; PROJECT */3 COLUMNS; SELECTION: \"None\"))<p></p> SELECT [col(\"subreddit_tos_expanded\").map_list()] FROM<p></p>   SELECT [col(\"user_id\").as_struct([col(\"feature_value\")]).map_list().alias(\"subreddit_tos_expanded\")] FROM<p></p>    DF [\"user_id\", \"feature_value\", \"subreddit_count\"]; PROJECT */3 COLUMNS; SELECTION: \"None\"<p></p>  PLAN 2:<p></p>ErrorStateSync(NotYetEncountered(not found: user_id<p></p><p></p>Error originated just after this operation:<p></p> SELECT [col(\"subreddit_tos_expanded\").map_list()] FROM<p></p>   SELECT [col(\"user_id\").as_struct([col(\"feature_value\")]).map_list().alias(\"subreddit_tos_expanded\")] FROM<p></p>    DF [\"user_id\", \"feature_value\", \"subreddit_count\"]; PROJECT */3 COLUMNS; SELECTION: \"None\"))<p></p> SELECT [col(\"subreddit_tos_expanded\").map_list()] FROM<p></p>   SELECT [col(\"user_id\").as_struct([col(\"feature_value\")]).map_list().alias(\"subreddit_tos_expanded\")] FROM<p></p>    DF [\"user_id\", \"feature_value\", \"subreddit_count\"]; PROJECT */3 COLUMNS; SELECTION: \"None\"<p></p>  PLAN 3:<p></p>ErrorStateSync(NotYetEncountered(not found: user_id<p></p><p></p>Error originated just after this operation:<p></p> SELECT [col(\"subreddit_tos_expanded\").map_list()] FROM<p></p>   SELECT [col(\"user_id\").as_struct([col(\"feature_value\")]).map_list().alias(\"subreddit_tos_expanded\")] FROM<p></p>    DF [\"user_id\", \"feature_value\", \"subreddit_count\"]; PROJECT */3 COLUMNS; SELECTION: \"None\"))<p></p> SELECT [col(\"subreddit_tos_expanded\").map_list()] FROM<p></p>   SELECT [col(\"user_id\").as_struct([col(\"feature_value\")]).map_list().alias(\"subreddit_tos_expanded\")] FROM<p></p>    DF [\"user_id\", \"feature_value\", \"subreddit_count\"]; PROJECT */3 COLUMNS; SELECTION: \"None\"<p></p>  PLAN 4:<p></p>ErrorStateSync(NotYetEncountered(not found: user_id<p></p><p></p>Error originated just after this operation:<p></p> SELECT [col(\"subreddit_tos_expanded\").map_list()] FROM<p></p>   SELECT [col(\"user_id\").as_struct([col(\"feature_value\")]).map_list().alias(\"subreddit_tos_expanded\")] FROM<p></p>    DF [\"user_id\", \"feature_value\", \"subreddit_count\"]; PROJECT */3 COLUMNS; SELECTION: \"None\"))<p></p> SELECT [col(\"subreddit_tos_expanded\").map_list()] FROM<p></p>   SELECT [col(\"user_id\").as_struct([col(\"feature_value\")]).map_list().alias(\"subreddit_tos_expanded\")] FROM<p></p>    DF [\"user_id\", \"feature_value\", \"subreddit_count\"]; PROJECT */3 COLUMNS; SELECTION: \"None\"<p></p>  PLAN 5:<p></p>ErrorStateSync(NotYetEncountered(not found: user_id<p></p><p></p>Error originated just after this operation:<p></p> SELECT [col(\"subreddit_tos_expanded\").map_list()] FROM<p></p>   SELECT [col(\"user_id\").as_struct([col(\"feature_value\")]).map_list().alias(\"subreddit_tos_expanded\")] FROM<p></p>    DF [\"user_id\", \"feature_value\", \"subreddit_count\"]; PROJECT */3 COLUMNS; SELECTION: \"None\"))<p></p> SELECT [col(\"subreddit_tos_expanded\").map_list()] FROM<p></p>   SELECT [col(\"user_id\").as_struct([col(\"feature_value\")]).map_list().alias(\"subreddit_tos_expanded\")] FROM<p></p>    DF [\"user_id\", \"feature_value\", \"subreddit_count\"]; PROJECT */3 COLUMNS; SELECTION: \"None\"<p></p>  PLAN 6:<p></p>ErrorStateSync(NotYetEncountered(not found: user_id<p></p><p></p>Error originated just after this operation:<p></p> SELECT [col(\"subreddit_tos_expanded\").map_list()] FROM<p></p>   SELECT [col(\"user_id\").as_struct([col(\"feature_value\")]).map_list().alias(\"subreddit_tos_expanded\")] FROM<p></p>    DF [\"user_id\", \"feature_value\", \"subreddit_count\"]; PROJECT */3 COLUMNS; SELECTION: \"None\"))<p></p> SELECT [col(\"subreddit_tos_expanded\").map_list()] FROM<p></p>   SELECT [col(\"user_id\").as_struct([col(\"feature_value\")]).map_list().alias(\"subreddit_tos_expanded\")] FROM<p></p>    DF [\"user_id\", \"feature_value\", \"subreddit_count\"]; PROJECT */3 COLUMNS; SELECTION: \"None\"<p></p>  PLAN 7:<p></p>ErrorStateSync(NotYetEncountered(not found: user_id<p></p><p></p>Error originated just after this operation:<p></p> SELECT [col(\"subreddit_tos_expanded\").map_list()] FROM<p></p>   SELECT [col(\"user_id\").as_struct([col(\"feature_value\")]).map_list().alias(\"subreddit_tos_expanded\")] FROM<p></p>    DF [\"user_id\", \"feature_value\", \"subreddit_count\"]; PROJECT */3 COLUMNS; SELECTION: \"None\"))<p></p> SELECT [col(\"subreddit_tos_expanded\").map_list()] FROM<p></p>   SELECT [col(\"user_id\").as_struct([col(\"feature_value\")]).map_list().alias(\"subreddit_tos_expanded\")] FROM<p></p>    DF [\"user_id\", \"feature_value\", \"subreddit_count\"]; PROJECT */3 COLUMNS; SELECTION: \"None\"<p></p>  PLAN 8:<p></p>ErrorStateSync(NotYetEncountered(not found: user_id<p></p><p></p>Error originated just after this operation:<p></p> SELECT [col(\"subreddit_tos_expanded\").map_list()] FROM<p></p>   SELECT [col(\"user_id\").as_struct([col(\"feature_value\")]).map_list().alias(\"subreddit_tos_expanded\")] FROM<p></p>    DF [\"user_id\", \"feature_value\", \"subreddit_count\"]; PROJECT */3 COLUMNS; SELECTION: \"None\"))<p></p> SELECT [col(\"subreddit_tos_expanded\").map_list()] FROM<p></p>   SELECT [col(\"user_id\").as_struct([col(\"feature_value\")]).map_list().alias(\"subreddit_tos_expanded\")] FROM<p></p>    DF [\"user_id\", \"feature_value\", \"subreddit_count\"]; PROJECT */3 COLUMNS; SELECTION: \"None\"<p></p>  PLAN 9:<p></p>ErrorStateSync(NotYetEncountered(not found: user_id<p></p><p></p>Error originated just after this operation:<p></p> SELECT [col(\"subreddit_tos_expanded\").map_list()] FROM<p></p>   SELECT [col(\"user_id\").as_struct([col(\"feature_value\")]).map_list().alias(\"subreddit_tos_expanded\")] FROM<p></p>    DF [\"user_id\", \"feature_value\", \"subreddit_count\"]; PROJECT */3 COLUMNS; SELECTION: \"None\"))<p></p> SELECT [col(\"subreddit_tos_expanded\").map_list()] FROM<p></p>   SELECT [col(\"user_id\").as_struct([col(\"feature_value\")]).map_list().alias(\"subreddit_tos_expanded\")] FROM<p></p>    DF [\"user_id\", \"feature_value\", \"subreddit_count\"]; PROJECT */3 COLUMNS; SELECTION: \"None\"<p></p>  END UNION</div>"
      ],
      "text/plain": [
       "<polars.LazyFrame object at 0x7FC4308CB550>"
      ]
     },
     "execution_count": 143,
     "metadata": {},
     "output_type": "execute_result"
    }
   ],
   "source": [
    "dfp_users_tos_long"
   ]
  },
  {
   "cell_type": "code",
   "execution_count": 153,
   "id": "1f7b043d",
   "metadata": {},
   "outputs": [
    {
     "name": "stderr",
     "output_type": "stream",
     "text": [
      "02:41:27 | INFO | \"Start lazy df DAG...\"\n"
     ]
    },
    {
     "ename": "PanicException",
     "evalue": "internal error: entered unreachable code",
     "output_type": "error",
     "traceback": [
      "\u001b[0;31m---------------------------------------------------------------------------\u001b[0m",
      "\u001b[0;31mPanicException\u001b[0m                            Traceback (most recent call last)",
      "\u001b[0;32m<timed exec>\u001b[0m in \u001b[0;36m<module>\u001b[0;34m\u001b[0m\n",
      "\u001b[0;32m/opt/conda/lib/python3.7/site-packages/polars/lazyframe/frame.py\u001b[0m in \u001b[0;36mselect\u001b[0;34m(self, exprs, *more_exprs, **named_exprs)\u001b[0m\n\u001b[1;32m   2148\u001b[0m             )\n\u001b[1;32m   2149\u001b[0m \u001b[0;34m\u001b[0m\u001b[0m\n\u001b[0;32m-> 2150\u001b[0;31m         \u001b[0;32mreturn\u001b[0m \u001b[0mself\u001b[0m\u001b[0;34m.\u001b[0m\u001b[0m_from_pyldf\u001b[0m\u001b[0;34m(\u001b[0m\u001b[0mself\u001b[0m\u001b[0;34m.\u001b[0m\u001b[0m_ldf\u001b[0m\u001b[0;34m.\u001b[0m\u001b[0mselect\u001b[0m\u001b[0;34m(\u001b[0m\u001b[0mexprs\u001b[0m\u001b[0;34m)\u001b[0m\u001b[0;34m)\u001b[0m\u001b[0;34m\u001b[0m\u001b[0;34m\u001b[0m\u001b[0m\n\u001b[0m\u001b[1;32m   2151\u001b[0m \u001b[0;34m\u001b[0m\u001b[0m\n\u001b[1;32m   2152\u001b[0m     def groupby(\n",
      "\u001b[0;31mPanicException\u001b[0m: internal error: entered unreachable code"
     ]
    }
   ],
   "source": [
    "%%time\n",
    "\n",
    "info(f\"Start lazy df DAG...\")\n",
    "df_lazy1 = (\n",
    "    dfp_users_tos\n",
    "    .filter(dfp_users_tos['user_id'].is_in(users_))\n",
    "    [['user_id', 'feature_value']]\n",
    "    .lazy()\n",
    ")\n",
    "\n",
    "df_lazy_final = ( \n",
    "            df_lazy1\n",
    "            .select(\n",
    "                pl.struct(['user_id', 'feature_value'])\n",
    "                .apply(\n",
    "                    lambda x: reshape_tos_for_df(x['user_id'], x['feature_value'])\n",
    "                )\n",
    "                .alias('subreddit_tos_expanded')\n",
    "            )\n",
    "            # select and unnest the struct (nested dict)\n",
    "            .unnest('subreddit_tos_expanded')\n",
    "            .select(\n",
    "                # Extract each value into its own column\n",
    "                [\n",
    "                    pl.col('user_id').arr.explode(),\n",
    "                    pl.col('subreddit_id').arr.explode(),\n",
    "                    pl.col('tos_pct').arr.explode(),\n",
    "                ]\n",
    "            )\n",
    "            # .lazy()\n",
    ")\n",
    "\n",
    "info(f\"DAG plan\")\n",
    "display(df_lazy_final)\n",
    "\n",
    "info(f\"Compute df\")\n",
    "df_lazy_final.collect()"
   ]
  },
  {
   "cell_type": "code",
   "execution_count": 165,
   "id": "1b07f206",
   "metadata": {},
   "outputs": [
    {
     "name": "stderr",
     "output_type": "stream",
     "text": [
      "02:57:51 | INFO | \"Start lazy df DAG...\"\n",
      "02:57:51 | INFO | \"DAG plan [except for .explode()]\"\n"
     ]
    },
    {
     "data": {
      "text/html": [
       "<h4>NAIVE QUERY PLAN</h4><p>run <b>LazyFrame.show_graph()</b> to see the optimized version</p><?xml version=\"1.0\" encoding=\"UTF-8\" standalone=\"no\"?>\n",
       "<!DOCTYPE svg PUBLIC \"-//W3C//DTD SVG 1.1//EN\"\n",
       " \"http://www.w3.org/Graphics/SVG/1.1/DTD/svg11.dtd\">\n",
       "<!-- Generated by graphviz version 2.40.1 (20161225.0304)\n",
       " -->\n",
       "<!-- Title: polars_query Pages: 1 -->\n",
       "<svg width=\"304pt\" height=\"349pt\"\n",
       " viewBox=\"0.00 0.00 304.00 349.00\" xmlns=\"http://www.w3.org/2000/svg\" xmlns:xlink=\"http://www.w3.org/1999/xlink\">\n",
       "<g id=\"graph0\" class=\"graph\" transform=\"scale(1 1) rotate(0) translate(4 345)\">\n",
       "<title>polars_query</title>\n",
       "<polygon fill=\"#ffffff\" stroke=\"transparent\" points=\"-4,4 -4,-345 300,-345 300,4 -4,4\"/>\n",
       "<!-- UNNEST by:[subreddit_tos_expanded] [(0, 0)] -->\n",
       "<g id=\"node1\" class=\"node\">\n",
       "<title>UNNEST by:[subreddit_tos_expanded] [(0, 0)]</title>\n",
       "<polygon fill=\"none\" stroke=\"#000000\" points=\"296,-341 0,-341 0,-305 296,-305 296,-341\"/>\n",
       "<text text-anchor=\"middle\" x=\"148\" y=\"-319.3\" font-family=\"Times,serif\" font-size=\"14.00\" fill=\"#000000\">UNNEST by:[subreddit_tos_expanded]</text>\n",
       "</g>\n",
       "<!-- π 1/3 [(0, 1)] -->\n",
       "<g id=\"node2\" class=\"node\">\n",
       "<title>π 1/3 [(0, 1)]</title>\n",
       "<polygon fill=\"none\" stroke=\"#000000\" points=\"175,-269 121,-269 121,-233 175,-233 175,-269\"/>\n",
       "<text text-anchor=\"middle\" x=\"148\" y=\"-247.3\" font-family=\"Times,serif\" font-size=\"14.00\" fill=\"#000000\">π 1/3</text>\n",
       "</g>\n",
       "<!-- UNNEST by:[subreddit_tos_expanded] [(0, 0)]&#45;&#45;π 1/3 [(0, 1)] -->\n",
       "<g id=\"edge1\" class=\"edge\">\n",
       "<title>UNNEST by:[subreddit_tos_expanded] [(0, 0)]&#45;&#45;π 1/3 [(0, 1)]</title>\n",
       "<path fill=\"none\" stroke=\"#000000\" d=\"M148,-304.8314C148,-294 148,-280.2876 148,-269.4133\"/>\n",
       "</g>\n",
       "<!-- SLICE offset: 0; len: 10000 [(0, 2)] -->\n",
       "<g id=\"node3\" class=\"node\">\n",
       "<title>SLICE offset: 0; len: 10000 [(0, 2)]</title>\n",
       "<polygon fill=\"none\" stroke=\"#000000\" points=\"254,-197 42,-197 42,-161 254,-161 254,-197\"/>\n",
       "<text text-anchor=\"middle\" x=\"148\" y=\"-175.3\" font-family=\"Times,serif\" font-size=\"14.00\" fill=\"#000000\">SLICE offset: 0; len: 10000</text>\n",
       "</g>\n",
       "<!-- π 1/3 [(0, 1)]&#45;&#45;SLICE offset: 0; len: 10000 [(0, 2)] -->\n",
       "<g id=\"edge2\" class=\"edge\">\n",
       "<title>π 1/3 [(0, 1)]&#45;&#45;SLICE offset: 0; len: 10000 [(0, 2)]</title>\n",
       "<path fill=\"none\" stroke=\"#000000\" d=\"M148,-232.8314C148,-222 148,-208.2876 148,-197.4133\"/>\n",
       "</g>\n",
       "<!-- FILTER BY Seriesuser_id.alias(&quot;user... [(0, 3)] -->\n",
       "<g id=\"node4\" class=\"node\">\n",
       "<title>FILTER BY Seriesuser_id.alias(&quot;user... [(0, 3)]</title>\n",
       "<polygon fill=\"none\" stroke=\"#000000\" points=\"293.5,-125 2.5,-125 2.5,-89 293.5,-89 293.5,-125\"/>\n",
       "<text text-anchor=\"middle\" x=\"148\" y=\"-103.3\" font-family=\"Times,serif\" font-size=\"14.00\" fill=\"#000000\">FILTER BY Seriesuser_id.alias(&quot;user...</text>\n",
       "</g>\n",
       "<!-- SLICE offset: 0; len: 10000 [(0, 2)]&#45;&#45;FILTER BY Seriesuser_id.alias(&quot;user... [(0, 3)] -->\n",
       "<g id=\"edge3\" class=\"edge\">\n",
       "<title>SLICE offset: 0; len: 10000 [(0, 2)]&#45;&#45;FILTER BY Seriesuser_id.alias(&quot;user... [(0, 3)]</title>\n",
       "<path fill=\"none\" stroke=\"#000000\" d=\"M148,-160.8314C148,-150 148,-136.2876 148,-125.4133\"/>\n",
       "</g>\n",
       "<!-- TABLE\n",
       "π */3;\n",
       "σ &#45;; [(0, 4)] -->\n",
       "<g id=\"node5\" class=\"node\">\n",
       "<title>TABLE\n",
       "π */3;\n",
       "σ &#45;; [(0, 4)]</title>\n",
       "<polygon fill=\"none\" stroke=\"#000000\" points=\"181.5,-53 114.5,-53 114.5,0 181.5,0 181.5,-53\"/>\n",
       "<text text-anchor=\"middle\" x=\"148\" y=\"-37.8\" font-family=\"Times,serif\" font-size=\"14.00\" fill=\"#000000\">TABLE</text>\n",
       "<text text-anchor=\"middle\" x=\"148\" y=\"-22.8\" font-family=\"Times,serif\" font-size=\"14.00\" fill=\"#000000\">π */3;</text>\n",
       "<text text-anchor=\"middle\" x=\"148\" y=\"-7.8\" font-family=\"Times,serif\" font-size=\"14.00\" fill=\"#000000\">σ &#45;;</text>\n",
       "</g>\n",
       "<!-- FILTER BY Seriesuser_id.alias(&quot;user... [(0, 3)]&#45;&#45;TABLE\n",
       "π */3;\n",
       "σ &#45;; [(0, 4)] -->\n",
       "<g id=\"edge4\" class=\"edge\">\n",
       "<title>FILTER BY Seriesuser_id.alias(&quot;user... [(0, 3)]&#45;&#45;TABLE\n",
       "π */3;\n",
       "σ &#45;; [(0, 4)]</title>\n",
       "<path fill=\"none\" stroke=\"#000000\" d=\"M148,-88.7333C148,-78.2495 148,-64.8954 148,-53.2477\"/>\n",
       "</g>\n",
       "</g>\n",
       "</svg>\n"
      ],
      "text/plain": [
       "<polars.LazyFrame object at 0x7FC072EC9E90>"
      ]
     },
     "metadata": {},
     "output_type": "display_data"
    },
    {
     "name": "stderr",
     "output_type": "stream",
     "text": [
      "02:57:52 | INFO | \"Compute df AND .explode()\"\n"
     ]
    },
    {
     "name": "stdout",
     "output_type": "stream",
     "text": [
      "CPU times: user 2.66 s, sys: 561 ms, total: 3.22 s\n",
      "Wall time: 3.15 s\n"
     ]
    },
    {
     "data": {
      "text/html": [
       "<div><style>\n",
       ".dataframe > thead > tr > th,\n",
       ".dataframe > tbody > tr > td {\n",
       "  text-align: right;\n",
       "}\n",
       "</style>\n",
       "<small>shape: (10000, 3)</small><table border=\"1\" class=\"dataframe\"><thead><tr><th>subreddit_id</th><th>tos_pct</th><th>user_id</th></tr><tr><td>list[str]</td><td>list[f64]</td><td>list[str]</td></tr></thead><tbody><tr><td>[&quot;t5_2r8tu&quot;, &quot;t5_2ti4h&quot;, … &quot;t5_2y77d&quot;]</td><td>[0.00012, 0.00037, … 0.0003]</td><td>[&quot;t2_539ww&quot;, &quot;t2_539ww&quot;, … &quot;t2_539ww&quot;]</td></tr><tr><td>[&quot;t5_39ne7&quot;, &quot;t5_2qi4s&quot;, … &quot;t5_2urg0&quot;]</td><td>[0.00528, 0.00176, … 0.0056]</td><td>[&quot;t2_53auiz1hy&quot;, &quot;t2_53auiz1hy&quot;, … &quot;t2_53auiz1hy&quot;]</td></tr><tr><td>[&quot;t5_2qh0s&quot;, &quot;t5_2usxq&quot;, … &quot;t5_2qh1i&quot;]</td><td>[0.00242, 0.00121, … 0.00606]</td><td>[&quot;t2_53ex1mv5a&quot;, &quot;t2_53ex1mv5a&quot;, … &quot;t2_53ex1mv5a&quot;]</td></tr><tr><td>[&quot;t5_43zwn1&quot;, &quot;t5_2ti4h&quot;, … &quot;t5_2s5oq&quot;]</td><td>[0.00229, 0.00019, … 0.01252]</td><td>[&quot;t2_53ido95y&quot;, &quot;t2_53ido95y&quot;, … &quot;t2_53ido95y&quot;]</td></tr><tr><td>[&quot;t5_2tpjq&quot;, &quot;t5_2qpxi&quot;, … &quot;t5_2swe2&quot;]</td><td>[0.05736, 0.00748, … 0.03741]</td><td>[&quot;t2_5388qrup&quot;, &quot;t2_5388qrup&quot;, … &quot;t2_5388qrup&quot;]</td></tr><tr><td>[&quot;t5_2rwal&quot;, &quot;t5_5qpzgw&quot;, … &quot;t5_2r5rp&quot;]</td><td>[0.00008, 0.0061, … 0.03447]</td><td>[&quot;t2_534q7hmy&quot;, &quot;t2_534q7hmy&quot;, … &quot;t2_534q7hmy&quot;]</td></tr><tr><td>[&quot;t5_7zqmpv&quot;, &quot;t5_2yo6b&quot;, … &quot;t5_3g0svs&quot;]</td><td>[0.00002, 0.00039, … 0.00022]</td><td>[&quot;t2_53mr0uhii&quot;, &quot;t2_53mr0uhii&quot;, … &quot;t2_53mr0uhii&quot;]</td></tr><tr><td>[&quot;t5_39ne7&quot;, &quot;t5_2qi0t&quot;, … &quot;t5_2qqoq&quot;]</td><td>[0.02375, 0.0001, … 0.00016]</td><td>[&quot;t2_53dp9pfy&quot;, &quot;t2_53dp9pfy&quot;, … &quot;t2_53dp9pfy&quot;]</td></tr><tr><td>[&quot;t5_31s00&quot;, &quot;t5_2qhae&quot;, … &quot;t5_3exv5&quot;]</td><td>[0.00005, 0.00014, … 0.00025]</td><td>[&quot;t2_531e0iet&quot;, &quot;t2_531e0iet&quot;, … &quot;t2_531e0iet&quot;]</td></tr><tr><td>[&quot;t5_3lqlo&quot;, &quot;t5_2qh16&quot;, … &quot;t5_321rv&quot;]</td><td>[0.0, 0.00239, … 0.00013]</td><td>[&quot;t2_53djmu1m&quot;, &quot;t2_53djmu1m&quot;, … &quot;t2_53djmu1m&quot;]</td></tr><tr><td>[&quot;t5_84y38q&quot;, &quot;t5_2toao&quot;, … &quot;t5_4hlyni&quot;]</td><td>[0.00012, 0.00005, … 0.00001]</td><td>[&quot;t2_53bieoxq&quot;, &quot;t2_53bieoxq&quot;, … &quot;t2_53bieoxq&quot;]</td></tr><tr><td>[&quot;t5_2r7hk&quot;, &quot;t5_2u2bh&quot;, … &quot;t5_2vevh&quot;]</td><td>[0.00059, 0.00001, … 0.00009]</td><td>[&quot;t2_537zn&quot;, &quot;t2_537zn&quot;, … &quot;t2_537zn&quot;]</td></tr><tr><td>&hellip;</td><td>&hellip;</td><td>&hellip;</td></tr><tr><td>[&quot;t5_31d92&quot;, &quot;t5_2r7aq&quot;, … &quot;t5_2qi4s&quot;]</td><td>[0.00074, 0.00241, … 0.00538]</td><td>[&quot;t2_atc5u&quot;, &quot;t2_atc5u&quot;, … &quot;t2_atc5u&quot;]</td></tr><tr><td>[&quot;t5_2qqjc&quot;, &quot;t5_mbn0j&quot;, … &quot;t5_2qqt8&quot;]</td><td>[0.00003, 0.00005, … 0.00001]</td><td>[&quot;t2_assgz553&quot;, &quot;t2_assgz553&quot;, … &quot;t2_assgz553&quot;]</td></tr><tr><td>[&quot;t5_3boqz&quot;, &quot;t5_3bmyi&quot;, … &quot;t5_2r5rp&quot;]</td><td>[0.00178, 0.00005, … 0.00082]</td><td>[&quot;t2_asu99&quot;, &quot;t2_asu99&quot;, … &quot;t2_asu99&quot;]</td></tr><tr><td>[&quot;t5_2s19fz&quot;, &quot;t5_2zmfe&quot;, … &quot;t5_2xqtc&quot;]</td><td>[0.01495, 0.00285, … 0.00331]</td><td>[&quot;t2_asq4t233&quot;, &quot;t2_asq4t233&quot;, … &quot;t2_asq4t233&quot;]</td></tr><tr><td>[&quot;t5_mouw&quot;, &quot;t5_2sljg&quot;, … &quot;t5_2xae1&quot;]</td><td>[0.00001, 0.0, … 0.03321]</td><td>[&quot;t2_at9bimnt&quot;, &quot;t2_at9bimnt&quot;, … &quot;t2_at9bimnt&quot;]</td></tr><tr><td>[&quot;t5_6lobp3&quot;, &quot;t5_7tfecj&quot;, … &quot;t5_qqhau&quot;]</td><td>[0.00193, 0.00096, … 0.00036]</td><td>[&quot;t2_at8zicsm&quot;, &quot;t2_at8zicsm&quot;, … &quot;t2_at8zicsm&quot;]</td></tr><tr><td>[&quot;t5_2qimh&quot;, &quot;t5_2qtg6&quot;, … &quot;t5_7hx409&quot;]</td><td>[0.00417, 0.0004, … 0.00015]</td><td>[&quot;t2_asswixti&quot;, &quot;t2_asswixti&quot;, … &quot;t2_asswixti&quot;]</td></tr><tr><td>[&quot;t5_23gidu&quot;, &quot;t5_77bplv&quot;, … &quot;t5_2s5ti&quot;]</td><td>[0.00079, 0.00018, … 0.00015]</td><td>[&quot;t2_at8g45su&quot;, &quot;t2_at8g45su&quot;, … &quot;t2_at8g45su&quot;]</td></tr><tr><td>[&quot;t5_2spbj&quot;, &quot;t5_adf18&quot;, … &quot;t5_2wmvy&quot;]</td><td>[0.00001, 0.00046, … 0.00006]</td><td>[&quot;t2_asmf0&quot;, &quot;t2_asmf0&quot;, … &quot;t2_asmf0&quot;]</td></tr><tr><td>[&quot;t5_33dd6&quot;, &quot;t5_2rqcm8&quot;, … &quot;t5_35n7t&quot;]</td><td>[0.00068, 0.01337, … 0.00317]</td><td>[&quot;t2_at99tlav&quot;, &quot;t2_at99tlav&quot;, … &quot;t2_at99tlav&quot;]</td></tr><tr><td>[&quot;t5_3hx3r&quot;, &quot;t5_34iym&quot;, … &quot;t5_2r0cn&quot;]</td><td>[0.00479, 0.0021, … 0.00137]</td><td>[&quot;t2_ate9u1vi&quot;, &quot;t2_ate9u1vi&quot;, … &quot;t2_ate9u1vi&quot;]</td></tr><tr><td>[&quot;t5_2qi4s&quot;, &quot;t5_2ve29&quot;, … &quot;t5_2qh1i&quot;]</td><td>[0.0001, 0.00111, … 0.01287]</td><td>[&quot;t2_aswd7gw1&quot;, &quot;t2_aswd7gw1&quot;, … &quot;t2_aswd7gw1&quot;]</td></tr></tbody></table></div>"
      ],
      "text/plain": [
       "shape: (10_000, 3)\n",
       "┌─────────────────────────────┬───────────────────────────────┬────────────────────────────────────┐\n",
       "│ subreddit_id                ┆ tos_pct                       ┆ user_id                            │\n",
       "│ ---                         ┆ ---                           ┆ ---                                │\n",
       "│ list[str]                   ┆ list[f64]                     ┆ list[str]                          │\n",
       "╞═════════════════════════════╪═══════════════════════════════╪════════════════════════════════════╡\n",
       "│ [\"t5_2r8tu\", \"t5_2ti4h\", …  ┆ [0.00012, 0.00037, … 0.0003]  ┆ [\"t2_539ww\", \"t2_539ww\", … \"t2_5…  │\n",
       "│ \"t5_2…                      ┆                               ┆                                    │\n",
       "│ [\"t5_39ne7\", \"t5_2qi4s\", …  ┆ [0.00528, 0.00176, … 0.0056]  ┆ [\"t2_53auiz1hy\", \"t2_53auiz1hy\",…  │\n",
       "│ \"t5_2…                      ┆                               ┆                                    │\n",
       "│ [\"t5_2qh0s\", \"t5_2usxq\", …  ┆ [0.00242, 0.00121, … 0.00606] ┆ [\"t2_53ex1mv5a\", \"t2_53ex1mv5a\",…  │\n",
       "│ \"t5_2…                      ┆                               ┆                                    │\n",
       "│ [\"t5_43zwn1\", \"t5_2ti4h\", … ┆ [0.00229, 0.00019, … 0.01252] ┆ [\"t2_53ido95y\", \"t2_53ido95y\", ……  │\n",
       "│ \"t5_…                       ┆                               ┆                                    │\n",
       "│ …                           ┆ …                             ┆ …                                  │\n",
       "│ [\"t5_2spbj\", \"t5_adf18\", …  ┆ [0.00001, 0.00046, … 0.00006] ┆ [\"t2_asmf0\", \"t2_asmf0\", … \"t2_a…  │\n",
       "│ \"t5_2…                      ┆                               ┆                                    │\n",
       "│ [\"t5_33dd6\", \"t5_2rqcm8\", … ┆ [0.00068, 0.01337, … 0.00317] ┆ [\"t2_at99tlav\", \"t2_at99tlav\", ……  │\n",
       "│ \"t5_…                       ┆                               ┆                                    │\n",
       "│ [\"t5_3hx3r\", \"t5_34iym\", …  ┆ [0.00479, 0.0021, … 0.00137]  ┆ [\"t2_ate9u1vi\", \"t2_ate9u1vi\", ……  │\n",
       "│ \"t5_2…                      ┆                               ┆                                    │\n",
       "│ [\"t5_2qi4s\", \"t5_2ve29\", …  ┆ [0.0001, 0.00111, … 0.01287]  ┆ [\"t2_aswd7gw1\", \"t2_aswd7gw1\", ……  │\n",
       "│ \"t5_2…                      ┆                               ┆                                    │\n",
       "└─────────────────────────────┴───────────────────────────────┴────────────────────────────────────┘"
      ]
     },
     "execution_count": 165,
     "metadata": {},
     "output_type": "execute_result"
    }
   ],
   "source": [
    "%%time\n",
    "\n",
    "info(f\"Start lazy df DAG...\")\n",
    "df_lazy1 = (\n",
    "    dfp_users_tos\n",
    "    .lazy()\n",
    "    .filter(dfp_users_tos['user_id'].is_in(users_))\n",
    "    .head(10000)\n",
    "    .select(\n",
    "        pl.struct(['user_id', 'feature_value'])\n",
    "        .apply(\n",
    "            lambda x: reshape_tos_for_df(x['user_id'], x['feature_value'])\n",
    "        )\n",
    "        .alias('subreddit_tos_expanded')\n",
    "    )\n",
    "    .unnest('subreddit_tos_expanded')\n",
    "#     .explode('user_id')\n",
    "    # .explode(['user_id', 'subreddit_id', 'tos_pct'])\n",
    "    # This final select is what breaks when using .lazy()\n",
    "    #. So maybe I can push this until the end?\n",
    "#     .select(\n",
    "#         # Extract each value into its own column\n",
    "#         [\n",
    "#             pl.col('user_id').arr.explode(),\n",
    "#             pl.col('subreddit_id').arr.explode(),\n",
    "#             pl.col('tos_pct').arr.explode(),\n",
    "#         ]\n",
    "#     )\n",
    "    \n",
    ")\n",
    "\n",
    "info(f\"DAG plan [except for .explode()]\")\n",
    "display(df_lazy1)\n",
    "\n",
    "info(f\"Compute df AND .explode()\")\n",
    "(\n",
    "    df_lazy1.collect()\n",
    "#     .select(\n",
    "#         # Extract each value into its own column\n",
    "#         [\n",
    "#             pl.col('user_id').arr.explode(),\n",
    "#             pl.col('subreddit_id').arr.explode(),\n",
    "#             pl.col('tos_pct').arr.explode(),\n",
    "#         ]\n",
    "#     )\n",
    ")"
   ]
  },
  {
   "cell_type": "code",
   "execution_count": 130,
   "id": "76dd2e07",
   "metadata": {},
   "outputs": [
    {
     "name": "stdout",
     "output_type": "stream",
     "text": [
      "CPU times: user 298 ms, sys: 124 ms, total: 422 ms\n",
      "Wall time: 250 ms\n"
     ]
    },
    {
     "data": {
      "text/html": [
       "<div><style>\n",
       ".dataframe > thead > tr > th,\n",
       ".dataframe > tbody > tr > td {\n",
       "  text-align: right;\n",
       "}\n",
       "</style>\n",
       "<small>shape: (85642, 3)</small><table border=\"1\" class=\"dataframe\"><thead><tr><th>user_id</th><th>feature_value</th><th>subreddit_count</th></tr><tr><td>str</td><td>str</td><td>i64</td></tr></thead><tbody><tr><td>&quot;t2_539ww&quot;</td><td>&quot;{&quot;t5_2r8tu&quot;:0.…</td><td>377</td></tr><tr><td>&quot;t2_53auiz1hy&quot;</td><td>&quot;{&quot;t5_39ne7&quot;:0.…</td><td>18</td></tr><tr><td>&quot;t2_53ex1mv5a&quot;</td><td>&quot;{&quot;t5_2qh0s&quot;:0.…</td><td>45</td></tr><tr><td>&quot;t2_53ido95y&quot;</td><td>&quot;{&quot;t5_43zwn1&quot;:0…</td><td>199</td></tr><tr><td>&quot;t2_5388qrup&quot;</td><td>&quot;{&quot;t5_2tpjq&quot;:0.…</td><td>6</td></tr><tr><td>&quot;t2_534q7hmy&quot;</td><td>&quot;{&quot;t5_2rwal&quot;:8e…</td><td>75</td></tr><tr><td>&quot;t2_53mr0uhii&quot;</td><td>&quot;{&quot;t5_7zqmpv&quot;:2…</td><td>740</td></tr><tr><td>&quot;t2_53dp9pfy&quot;</td><td>&quot;{&quot;t5_39ne7&quot;:0.…</td><td>214</td></tr><tr><td>&quot;t2_531e0iet&quot;</td><td>&quot;{&quot;t5_31s00&quot;:5e…</td><td>230</td></tr><tr><td>&quot;t2_53djmu1m&quot;</td><td>&quot;{&quot;t5_3lqlo&quot;:0,…</td><td>361</td></tr><tr><td>&quot;t2_53bieoxq&quot;</td><td>&quot;{&quot;t5_84y38q&quot;:0…</td><td>22</td></tr><tr><td>&quot;t2_537zn&quot;</td><td>&quot;{&quot;t5_2r7hk&quot;:0.…</td><td>106</td></tr><tr><td>&hellip;</td><td>&hellip;</td><td>&hellip;</td></tr><tr><td>&quot;t2_8n0vdsgnf&quot;</td><td>&quot;{&quot;t5_u8wq5&quot;:1}…</td><td>1</td></tr><tr><td>&quot;t2_8n0oj589t&quot;</td><td>&quot;{&quot;t5_u8wq5&quot;:1}…</td><td>1</td></tr><tr><td>&quot;t2_8fl600pcb&quot;</td><td>&quot;{&quot;t5_u8wq5&quot;:1}…</td><td>1</td></tr><tr><td>&quot;t2_8flyox2rv&quot;</td><td>&quot;{&quot;t5_u8wq5&quot;:1}…</td><td>1</td></tr><tr><td>&quot;t2_8fjmhb19p&quot;</td><td>&quot;{&quot;t5_u8wq5&quot;:1}…</td><td>1</td></tr><tr><td>&quot;t2_8o49p1b8q&quot;</td><td>&quot;{&quot;t5_u8wq5&quot;:1}…</td><td>1</td></tr><tr><td>&quot;t2_8o64xgd9o&quot;</td><td>&quot;{&quot;t5_u8wq5&quot;:1}…</td><td>1</td></tr><tr><td>&quot;t2_3xgejeqfu&quot;</td><td>&quot;{&quot;t5_u8wq5&quot;:1}…</td><td>1</td></tr><tr><td>&quot;t2_hz0kkadz&quot;</td><td>&quot;{&quot;t5_u8wq5&quot;:1}…</td><td>1</td></tr><tr><td>&quot;t2_ojxclav4&quot;</td><td>&quot;{&quot;t5_u8wq5&quot;:1}…</td><td>1</td></tr><tr><td>&quot;t2_7xr9xmloq&quot;</td><td>&quot;{&quot;t5_u8wq5&quot;:1}…</td><td>1</td></tr><tr><td>&quot;t2_j0dwe1oz&quot;</td><td>&quot;{&quot;t5_u8wq5&quot;:1}…</td><td>1</td></tr></tbody></table></div>"
      ],
      "text/plain": [
       "shape: (85_642, 3)\n",
       "┌──────────────┬───────────────────────────────────┬─────────────────┐\n",
       "│ user_id      ┆ feature_value                     ┆ subreddit_count │\n",
       "│ ---          ┆ ---                               ┆ ---             │\n",
       "│ str          ┆ str                               ┆ i64             │\n",
       "╞══════════════╪═══════════════════════════════════╪═════════════════╡\n",
       "│ t2_539ww     ┆ {\"t5_2r8tu\":0.00012,\"t5_2ti4h\":0… ┆ 377             │\n",
       "│ t2_53auiz1hy ┆ {\"t5_39ne7\":0.00528,\"t5_2qi4s\":0… ┆ 18              │\n",
       "│ t2_53ex1mv5a ┆ {\"t5_2qh0s\":0.00242,\"t5_2usxq\":0… ┆ 45              │\n",
       "│ t2_53ido95y  ┆ {\"t5_43zwn1\":0.00229,\"t5_2ti4h\":… ┆ 199             │\n",
       "│ …            ┆ …                                 ┆ …               │\n",
       "│ t2_hz0kkadz  ┆ {\"t5_u8wq5\":1}                    ┆ 1               │\n",
       "│ t2_ojxclav4  ┆ {\"t5_u8wq5\":1}                    ┆ 1               │\n",
       "│ t2_7xr9xmloq ┆ {\"t5_u8wq5\":1}                    ┆ 1               │\n",
       "│ t2_j0dwe1oz  ┆ {\"t5_u8wq5\":1}                    ┆ 1               │\n",
       "└──────────────┴───────────────────────────────────┴─────────────────┘"
      ]
     },
     "execution_count": 130,
     "metadata": {},
     "output_type": "execute_result"
    }
   ],
   "source": [
    "%%time\n",
    "\n",
    "(\n",
    "    dfp_users_tos\n",
    "    .filter(dfp_users_tos['user_id'].is_in(users_))\n",
    ")"
   ]
  },
  {
   "cell_type": "code",
   "execution_count": null,
   "id": "3ca33898",
   "metadata": {},
   "outputs": [],
   "source": []
  },
  {
   "cell_type": "code",
   "execution_count": null,
   "id": "5eabe2da",
   "metadata": {},
   "outputs": [],
   "source": []
  },
  {
   "cell_type": "code",
   "execution_count": null,
   "id": "95eed2b8",
   "metadata": {},
   "outputs": [],
   "source": []
  }
 ],
 "metadata": {
  "environment": {
   "name": "common-cpu.m65",
   "type": "gcloud",
   "uri": "gcr.io/deeplearning-platform-release/base-cpu:m65"
  },
  "kernelspec": {
   "display_name": "Python 3",
   "language": "python",
   "name": "python3"
  },
  "language_info": {
   "codemirror_mode": {
    "name": "ipython",
    "version": 3
   },
   "file_extension": ".py",
   "mimetype": "text/x-python",
   "name": "python",
   "nbconvert_exporter": "python",
   "pygments_lexer": "ipython3",
   "version": "3.7.10"
  }
 },
 "nbformat": 4,
 "nbformat_minor": 5
}
