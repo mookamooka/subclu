{
 "cells": [
  {
   "cell_type": "markdown",
   "id": "d00e05aa",
   "metadata": {},
   "source": [
    "# Purpose\n",
    "\n",
    "\n",
    "**2023-04-07**: \n",
    "<br> here we'll test a simplified flow to get an ETA for how long it'll take to take subreddit-embeddings to get user-level embeddings.\n",
    "\n",
    "We'll test pandas v. polars. The hope is that polars will boost parallel performance enough to make the embedding step feasible to run in less than one day. If we can run the embedding step fast enough, we might be able to cache the job daily so that we can keep the latest data ready to use for PN and for other models.\n",
    "\n",
    "---\n",
    "\n"
   ]
  },
  {
   "cell_type": "markdown",
   "id": "ab49b326",
   "metadata": {},
   "source": [
    "# Imports & Setup"
   ]
  },
  {
   "cell_type": "code",
   "execution_count": 1,
   "id": "5aacfd4c",
   "metadata": {},
   "outputs": [],
   "source": [
    "%load_ext autoreload\n",
    "%autoreload 2"
   ]
  },
  {
   "cell_type": "code",
   "execution_count": 108,
   "id": "38f46986",
   "metadata": {},
   "outputs": [
    {
     "name": "stdout",
     "output_type": "stream",
     "text": [
      "python\t\tv 3.7.10\n",
      "===\n",
      "hydra\t\tv: 1.1.0\n",
      "numpy\t\tv: 1.19.5\n",
      "pandas\t\tv: 1.2.4\n",
      "polars\t\tv: 0.17.1\n",
      "plotly\t\tv: 5.11.0\n",
      "sklearn\t\tv: 0.24.1\n",
      "subclu\t\tv: 0.6.1\n"
     ]
    }
   ],
   "source": [
    "from datetime import datetime\n",
    "import logging\n",
    "from logging import info\n",
    "import os\n",
    "from pathlib import Path\n",
    "import json\n",
    "\n",
    "import polars as pl\n",
    "import numpy as np\n",
    "import pandas as pd\n",
    "import plotly\n",
    "import seaborn as sns\n",
    "\n",
    "from tqdm.auto import tqdm\n",
    "import dask\n",
    "import mlflow\n",
    "import hydra\n",
    "\n",
    "import subclu\n",
    "from subclu.eda.aggregates import compare_raw_v_weighted_language\n",
    "from subclu.utils import set_working_directory, get_project_subfolder\n",
    "from subclu.utils.eda import (\n",
    "    setup_logging, counts_describe, value_counts_and_pcts,\n",
    "    notebook_display_config, print_lib_versions,\n",
    "    style_df_numeric, reorder_array,\n",
    ")\n",
    "from subclu.utils.mlflow_logger import MlflowLogger\n",
    "from subclu.utils.hydra_config_loader import LoadHydraConfig\n",
    "from subclu.utils.data_irl_style import (\n",
    "    get_colormap, theme_dirl, \n",
    "    get_color_dict, base_colors_for_manual_labels,\n",
    "    check_colors_used,\n",
    ")\n",
    "from subclu.data.data_loaders import LoadPosts, LoadSubreddits, create_sub_level_aggregates\n",
    "\n",
    "\n",
    "# ===\n",
    "# imports specific to this notebook\n",
    "from collections import Counter\n",
    "\n",
    "import sklearn\n",
    "from sklearn.decomposition import TruncatedSVD\n",
    "from sklearn.metrics.pairwise import cosine_similarity\n",
    "from sklearn.preprocessing import normalize  # if we normalize the data, euclidean distance is approx of cosine\n",
    "\n",
    "\n",
    "print_lib_versions([hydra, np, pd, pl, plotly, sklearn, subclu])"
   ]
  },
  {
   "cell_type": "code",
   "execution_count": 3,
   "id": "d82d93f4",
   "metadata": {},
   "outputs": [],
   "source": [
    "# plotting\n",
    "import matplotlib.pyplot as plt\n",
    "import matplotlib.ticker as mtick\n",
    "import matplotlib.dates as mdates\n",
    "plt.style.use('default')\n",
    "\n",
    "setup_logging()\n",
    "notebook_display_config()"
   ]
  },
  {
   "cell_type": "markdown",
   "id": "f5e35c72",
   "metadata": {},
   "source": [
    "# Define custom functions"
   ]
  },
  {
   "cell_type": "code",
   "execution_count": 318,
   "id": "16f81621",
   "metadata": {},
   "outputs": [],
   "source": [
    "from typing import Any, Union\n",
    "\n",
    "\n",
    "def reshape_tos_for_df(\n",
    "    user_id: str,\n",
    "    tos_str_dict: str,\n",
    "    tos_col_name: str = 'tos_pct',\n",
    ") -> list:\n",
    "    \"\"\"Take the nested dict in a df and reshape it so that we can get a long df\n",
    "    where each row is a user+subreddit Time on Sub percentage\n",
    "    \"\"\"\n",
    "    d_tos_in = json.loads(tos_str_dict)\n",
    "    \n",
    "    d_out = {\n",
    "        'user_id': [user_id] * len(d_tos_in),\n",
    "        'subreddit_id': list(),\n",
    "        tos_col_name: list(),\n",
    "    }\n",
    "    \n",
    "    for sub_id, tos_pc in d_tos_in.items():\n",
    "        d_out['subreddit_id'].append(sub_id)\n",
    "        d_out[tos_col_name].append(tos_pc)\n",
    "    \n",
    "    return d_out\n",
    "\n",
    "\n",
    "def reshape_embeddings_for_df(\n",
    "    subreddit_id: str,\n",
    "    subreddit_name: str,\n",
    "    embeddings: np.array,\n",
    "    embedding_col_prefix: str = 'embedding',\n",
    ") -> list:\n",
    "    \"\"\"\n",
    "    Take the nested embedding data and convert it to a flat df so it's easy to manipulate & multiply\n",
    "    \"\"\"\n",
    "    d_out = {\n",
    "        'subreddit_id': subreddit_id,\n",
    "        'subreddit_name': subreddit_name,\n",
    "    }\n",
    "    \n",
    "    for i, emb_ in enumerate(embeddings):\n",
    "        d_out[f\"{embedding_col_prefix}{i:03,.0f}\"] = emb_\n",
    "    \n",
    "    return d_out\n",
    "\n",
    "\n",
    "def delayed_select_for_polars(\n",
    "    pl_df: pl.LazyFrame,\n",
    "    select_kwargs: Any,\n",
    ") -> pl.DataFrame:\n",
    "    \"\"\"Use this function as a fix for polars.lazy() that breaks when selecting an unnested struct\n",
    "    If we apply this function with dask.delayed() we can compute the long df_tos in 10 parallel jobs(!)\n",
    "    \n",
    "    dask -> compute()\n",
    "    polars -> collect()\n",
    "    \"\"\"\n",
    "    return (\n",
    "        pl_df\n",
    "        .collect()\n",
    "        .select(\n",
    "            select_kwargs\n",
    "        )\n",
    "    )\n",
    "    "
   ]
  },
  {
   "cell_type": "code",
   "execution_count": null,
   "id": "9b5bd14d",
   "metadata": {},
   "outputs": [],
   "source": []
  },
  {
   "cell_type": "markdown",
   "id": "9e150d66",
   "metadata": {},
   "source": [
    "# Get data"
   ]
  },
  {
   "cell_type": "markdown",
   "id": "16adc6c1",
   "metadata": {},
   "source": [
    "## Get user IDs to embed with time-on-subreddit features\n",
    "\n",
    "I'm caching the data in a view so that it's easier to re-use while testing.\n",
    "\n",
    "The time-on-subreddit feature is already in gazette features so we don't need to waste time computing them.\n",
    "\n",
    "```SQL\n",
    "SELECT \n",
    "    DISTINCT user_id\n",
    "\n",
    "FROM `data-prod-165221.fact_tables.post_consume_post_detail_view_events` \n",
    "WHERE DATE(pt) BETWEEN (CURRENT_DATE() - 7) AND (CURRENT_DATE() - 2)\n",
    "    AND subreddit_name IN ('themandaloriantv')\n",
    "    AND action IN ('consume', 'view')\n",
    "-- LIMIT 1000\n",
    "```"
   ]
  },
  {
   "cell_type": "code",
   "execution_count": 5,
   "id": "2714bf2a",
   "metadata": {},
   "outputs": [
    {
     "name": "stderr",
     "output_type": "stream",
     "text": [
      "Query complete after 0.00s: 100%|██████████| 5/5 [00:00<00:00, 3921.38query/s]                        \n",
      "Downloading: 100%|██████████| 856423/856423 [00:10<00:00, 79436.67rows/s] \n"
     ]
    },
    {
     "name": "stdout",
     "output_type": "stream",
     "text": [
      "CPU times: user 8.91 s, sys: 4.57 s, total: 13.5 s\n",
      "Wall time: 35.7 s\n"
     ]
    }
   ],
   "source": [
    "%%time\n",
    "%%bigquery df_users_raw_tos --project data-science-prod-218515 \n",
    "\n",
    "-- pull the user IDs and the time on sub, but do the calculations in python b/c \n",
    "--   it can be a pain to conver to rows in BQ\n",
    "\n",
    "SELECT\n",
    "    ui.user_id\n",
    "    , t.* EXCEPT(user_id)\n",
    "    -- , t.feature_value\n",
    "    -- , t.json_val \n",
    "    -- , t.feature_name\n",
    "FROM (\n",
    "        SELECT\n",
    "            entity_id AS user_id\n",
    "            , feature_value\n",
    "            -- , (SAFE.parse_json(feature_value)) AS json_val\n",
    "        FROM `data-prod-165221.user_feature_platform.time_on_subreddit_pct_time_over_30_day_v1`\n",
    "\n",
    "        WHERE DATE(pt) = CURRENT_DATE() - 3 -- Latest appears to be (Today-3) b/c of lag from other tables\n",
    "    ) AS t\n",
    "    INNER JOIN (\n",
    "        SELECT *\n",
    "        FROM `reddit-employee-datasets.david_bermejo.pn_test_users_for_embedding` \n",
    "        -- LIMIT 10\n",
    "    ) AS ui\n",
    "        ON ui.user_id = t.user_id\n",
    ";"
   ]
  },
  {
   "cell_type": "code",
   "execution_count": 6,
   "id": "36b81006",
   "metadata": {},
   "outputs": [
    {
     "name": "stdout",
     "output_type": "stream",
     "text": [
      "<class 'pandas.core.frame.DataFrame'>\n",
      "RangeIndex: 856423 entries, 0 to 856422\n",
      "Data columns (total 2 columns):\n",
      " #   Column         Non-Null Count   Dtype \n",
      "---  ------         --------------   ----- \n",
      " 0   user_id        856423 non-null  object\n",
      " 1   feature_value  856423 non-null  object\n",
      "dtypes: object(2)\n",
      "memory usage: 13.1+ MB\n"
     ]
    }
   ],
   "source": [
    "df_users_raw_tos.info()"
   ]
  },
  {
   "cell_type": "code",
   "execution_count": 7,
   "id": "5198275a",
   "metadata": {},
   "outputs": [
    {
     "data": {
      "text/html": [
       "<div>\n",
       "<style scoped>\n",
       "    .dataframe tbody tr th:only-of-type {\n",
       "        vertical-align: middle;\n",
       "    }\n",
       "\n",
       "    .dataframe tbody tr th {\n",
       "        vertical-align: top;\n",
       "    }\n",
       "\n",
       "    .dataframe thead th {\n",
       "        text-align: right;\n",
       "    }\n",
       "</style>\n",
       "<table border=\"1\" class=\"dataframe\">\n",
       "  <thead>\n",
       "    <tr style=\"text-align: right;\">\n",
       "      <th></th>\n",
       "      <th>user_id</th>\n",
       "      <th>feature_value</th>\n",
       "    </tr>\n",
       "  </thead>\n",
       "  <tbody>\n",
       "    <tr>\n",
       "      <th>0</th>\n",
       "      <td>t2_8p8h0ki0b</td>\n",
       "      <td>{\"t5_3fn31\":0.87899,\"t5_2qhsa\":0.00445,\"t5_2tex6\":0.00187,\"t5_2xcv7\":0.00351,\"t5_dyqlw\":0.05844,\"t5_2qh33\":0.00406,\"t5_3boqz\":0.00117,\"t5_2s7tt\":0.00421,\"t5_3aegn\":0.0103,\"t5_2r5rp\":0.00335,\"t5_2w7mz\":0.00437,\"t5_3fzm9\":0.00359,\"t5_2xhv...</td>\n",
       "    </tr>\n",
       "    <tr>\n",
       "      <th>1</th>\n",
       "      <td>t2_8p90xabzf</td>\n",
       "      <td>{\"t5_3phq9\":0.13502,\"t5_2qh1i\":0.22281,\"t5_23gidu\":0.04516,\"t5_2vg7t\":0.04516,\"t5_2w844\":0.01567,\"t5_2qkhb\":0.01912,\"t5_2yrq6\":0.02788,\"t5_2qh0u\":0.18687,\"t5_2rqcm8\":0.07166,\"t5_3boqz\":0.02304,\"t5_3gcwj\":0.07742,\"t5_2si92\":0.10645,\"t5_3...</td>\n",
       "    </tr>\n",
       "    <tr>\n",
       "      <th>2</th>\n",
       "      <td>t2_8p81pzwi9</td>\n",
       "      <td>{\"t5_2wzm6\":0.0219,\"t5_2cneq\":0.00365,\"t5_2tex6\":0.01825,\"t5_30tmh\":0.01095,\"t5_386zh\":0.04866,\"t5_2w844\":0.06813,\"t5_2w7mz\":0.09611,\"t5_2vegg\":0.0438,\"t5_3mj3w\":0.04988,\"t5_2r40o\":0.13504,\"t5_3i3vm\":0.0365,\"t5_2qhds\":0.04136,\"t5_2qh72\"...</td>\n",
       "    </tr>\n",
       "    <tr>\n",
       "      <th>3</th>\n",
       "      <td>t2_8p90y</td>\n",
       "      <td>{\"t5_38y725\":0.00134,\"t5_27xp1u\":2e-05,\"t5_7m6f8m\":1e-05,\"t5_2tdzg\":0.00057,\"t5_2taso\":2e-05,\"t5_2sokd\":0.02098,\"t5_2rjz2\":0.00395,\"t5_2s4pd\":0.01769,\"t5_2qh61\":0.0028,\"t5_2qimj\":2e-05,\"t5_r1l2z\":6e-05,\"t5_2s5ti\":0.00164,\"t5_2xinb\":0.00...</td>\n",
       "    </tr>\n",
       "    <tr>\n",
       "      <th>4</th>\n",
       "      <td>t2_8p853</td>\n",
       "      <td>{\"t5_2s6nz\":0.00038,\"t5_2y1j5\":8e-05,\"t5_4b0bzv\":0.0001,\"t5_2va9w\":5e-05,\"t5_35n7t\":0.05491,\"t5_2z8fuj\":0.00109,\"t5_2xp02\":0.00107,\"t5_3chmw\":0.00012,\"t5_2tk0s\":1e-05,\"t5_3ptyd\":0.00131,\"t5_mvcq5\":0.01587,\"t5_2vxxc\":0.0004,\"t5_2s28b\":0....</td>\n",
       "    </tr>\n",
       "  </tbody>\n",
       "</table>\n",
       "</div>"
      ],
      "text/plain": [
       "        user_id                                                                                                                                                                                                                                    feature_value\n",
       "0  t2_8p8h0ki0b  {\"t5_3fn31\":0.87899,\"t5_2qhsa\":0.00445,\"t5_2tex6\":0.00187,\"t5_2xcv7\":0.00351,\"t5_dyqlw\":0.05844,\"t5_2qh33\":0.00406,\"t5_3boqz\":0.00117,\"t5_2s7tt\":0.00421,\"t5_3aegn\":0.0103,\"t5_2r5rp\":0.00335,\"t5_2w7mz\":0.00437,\"t5_3fzm9\":0.00359,\"t5_2xhv...\n",
       "1  t2_8p90xabzf  {\"t5_3phq9\":0.13502,\"t5_2qh1i\":0.22281,\"t5_23gidu\":0.04516,\"t5_2vg7t\":0.04516,\"t5_2w844\":0.01567,\"t5_2qkhb\":0.01912,\"t5_2yrq6\":0.02788,\"t5_2qh0u\":0.18687,\"t5_2rqcm8\":0.07166,\"t5_3boqz\":0.02304,\"t5_3gcwj\":0.07742,\"t5_2si92\":0.10645,\"t5_3...\n",
       "2  t2_8p81pzwi9  {\"t5_2wzm6\":0.0219,\"t5_2cneq\":0.00365,\"t5_2tex6\":0.01825,\"t5_30tmh\":0.01095,\"t5_386zh\":0.04866,\"t5_2w844\":0.06813,\"t5_2w7mz\":0.09611,\"t5_2vegg\":0.0438,\"t5_3mj3w\":0.04988,\"t5_2r40o\":0.13504,\"t5_3i3vm\":0.0365,\"t5_2qhds\":0.04136,\"t5_2qh72\"...\n",
       "3      t2_8p90y  {\"t5_38y725\":0.00134,\"t5_27xp1u\":2e-05,\"t5_7m6f8m\":1e-05,\"t5_2tdzg\":0.00057,\"t5_2taso\":2e-05,\"t5_2sokd\":0.02098,\"t5_2rjz2\":0.00395,\"t5_2s4pd\":0.01769,\"t5_2qh61\":0.0028,\"t5_2qimj\":2e-05,\"t5_r1l2z\":6e-05,\"t5_2s5ti\":0.00164,\"t5_2xinb\":0.00...\n",
       "4      t2_8p853  {\"t5_2s6nz\":0.00038,\"t5_2y1j5\":8e-05,\"t5_4b0bzv\":0.0001,\"t5_2va9w\":5e-05,\"t5_35n7t\":0.05491,\"t5_2z8fuj\":0.00109,\"t5_2xp02\":0.00107,\"t5_3chmw\":0.00012,\"t5_2tk0s\":1e-05,\"t5_3ptyd\":0.00131,\"t5_mvcq5\":0.01587,\"t5_2vxxc\":0.0004,\"t5_2s28b\":0...."
      ]
     },
     "execution_count": 7,
     "metadata": {},
     "output_type": "execute_result"
    }
   ],
   "source": [
    "df_users_raw_tos.head()"
   ]
  },
  {
   "cell_type": "markdown",
   "id": "5ff22572",
   "metadata": {},
   "source": [
    "## Get subreddit-level embeddings"
   ]
  },
  {
   "cell_type": "code",
   "execution_count": 253,
   "id": "e68433f3",
   "metadata": {},
   "outputs": [
    {
     "name": "stderr",
     "output_type": "stream",
     "text": [
      "Query complete after 0.00s: 100%|██████████| 2/2 [00:00<00:00, 1571.49query/s]                        \n",
      "Downloading: 100%|██████████| 242345/242345 [00:02<00:00, 84134.32rows/s] \n"
     ]
    },
    {
     "name": "stdout",
     "output_type": "stream",
     "text": [
      "CPU times: user 752 ms, sys: 411 ms, total: 1.16 s\n",
      "Wall time: 16.2 s\n"
     ]
    }
   ],
   "source": [
    "%%time\n",
    "%%bigquery df_sub_emb --project data-science-prod-218515 \n",
    "\n",
    "-- This aggregation is a pain to unnest, but it's the best we have (can't trust UNNESTING in SQL becuse order is not guaranteed)\n",
    "SELECT\n",
    "  subreddit_id\n",
    "  , subreddit_name\n",
    "  , ARRAY_CONCAT(embedding) AS embedding  \n",
    "FROM `data-prod-165221.ml_content.subreddit_embeddings_ft2`\n",
    "WHERE DATE(pt) = '2023-04-04'"
   ]
  },
  {
   "cell_type": "code",
   "execution_count": 254,
   "id": "0fc746c4",
   "metadata": {},
   "outputs": [
    {
     "name": "stdout",
     "output_type": "stream",
     "text": [
      "<class 'pandas.core.frame.DataFrame'>\n",
      "RangeIndex: 242345 entries, 0 to 242344\n",
      "Data columns (total 3 columns):\n",
      " #   Column          Non-Null Count   Dtype \n",
      "---  ------          --------------   ----- \n",
      " 0   subreddit_id    242345 non-null  object\n",
      " 1   subreddit_name  242345 non-null  object\n",
      " 2   embedding       242345 non-null  object\n",
      "dtypes: object(3)\n",
      "memory usage: 5.5+ MB\n"
     ]
    }
   ],
   "source": [
    "df_sub_emb.info()"
   ]
  },
  {
   "cell_type": "code",
   "execution_count": 255,
   "id": "f2cab1a3",
   "metadata": {},
   "outputs": [
    {
     "data": {
      "text/html": [
       "<div>\n",
       "<style scoped>\n",
       "    .dataframe tbody tr th:only-of-type {\n",
       "        vertical-align: middle;\n",
       "    }\n",
       "\n",
       "    .dataframe tbody tr th {\n",
       "        vertical-align: top;\n",
       "    }\n",
       "\n",
       "    .dataframe thead th {\n",
       "        text-align: right;\n",
       "    }\n",
       "</style>\n",
       "<table border=\"1\" class=\"dataframe\">\n",
       "  <thead>\n",
       "    <tr style=\"text-align: right;\">\n",
       "      <th></th>\n",
       "      <th>subreddit_id</th>\n",
       "      <th>subreddit_name</th>\n",
       "      <th>embedding</th>\n",
       "    </tr>\n",
       "  </thead>\n",
       "  <tbody>\n",
       "    <tr>\n",
       "      <th>0</th>\n",
       "      <td>t5_2ebdae</td>\n",
       "      <td>fuckangryupvote</td>\n",
       "      <td>[-0.45830655097961426, -0.1243768185377121, -0.456529825925827, -0.07116681337356567, -0.12949645519256592, 0.05023331567645073, -0.22352294623851776, 0.41953814029693604, 0.2228589951992035, 0.3291063606739044, 0.2328146994113922, -0.1...</td>\n",
       "    </tr>\n",
       "    <tr>\n",
       "      <th>1</th>\n",
       "      <td>t5_7cp4il</td>\n",
       "      <td>fuckanik0</td>\n",
       "      <td>[-0.7657153606414795, 0.048177484422922134, -0.464771568775177, -0.09490388631820679, 0.17050868272781372, -0.1313280165195465, -0.6086512804031372, 0.5065695643424988, -0.1678677648305893, 0.3177518844604492, -0.04505475237965584, -0.1...</td>\n",
       "    </tr>\n",
       "    <tr>\n",
       "      <th>2</th>\n",
       "      <td>t5_74k0ix</td>\n",
       "      <td>fuckaroundxfindout</td>\n",
       "      <td>[-0.3270401358604431, 0.06220916286110878, -0.3199388086795807, 0.2945059537887573, -0.12446127086877823, 0.09056004881858826, -0.4841662645339966, 0.2888942360877991, -0.08934880793094635, 0.5394051671028137, 0.5159727334976196, 0.1917...</td>\n",
       "    </tr>\n",
       "    <tr>\n",
       "      <th>3</th>\n",
       "      <td>t5_80xbhl</td>\n",
       "      <td>fuckatlastelamon24</td>\n",
       "      <td>[-0.17828771471977234, 0.08107554167509079, -0.4100566506385803, -0.12772995233535767, 0.03353101387619972, 0.1698012501001358, -0.11168640851974487, 0.4089040160179138, 0.3309285640716553, 0.3384820818901062, 0.29350802302360535, -0.15...</td>\n",
       "    </tr>\n",
       "    <tr>\n",
       "      <th>4</th>\n",
       "      <td>t5_28w67l</td>\n",
       "      <td>fuckbabyyoda</td>\n",
       "      <td>[-0.041489940136671066, 0.0769181177020073, -0.3346327245235443, 0.1930127888917923, -0.20167650282382965, 0.389017790555954, -0.2963216006755829, 0.42427146434783936, 0.2874469757080078, 0.8162460327148438, 0.05606146901845932, -0.1494...</td>\n",
       "    </tr>\n",
       "  </tbody>\n",
       "</table>\n",
       "</div>"
      ],
      "text/plain": [
       "  subreddit_id      subreddit_name                                                                                                                                                                                                                                        embedding\n",
       "0    t5_2ebdae     fuckangryupvote  [-0.45830655097961426, -0.1243768185377121, -0.456529825925827, -0.07116681337356567, -0.12949645519256592, 0.05023331567645073, -0.22352294623851776, 0.41953814029693604, 0.2228589951992035, 0.3291063606739044, 0.2328146994113922, -0.1...\n",
       "1    t5_7cp4il           fuckanik0  [-0.7657153606414795, 0.048177484422922134, -0.464771568775177, -0.09490388631820679, 0.17050868272781372, -0.1313280165195465, -0.6086512804031372, 0.5065695643424988, -0.1678677648305893, 0.3177518844604492, -0.04505475237965584, -0.1...\n",
       "2    t5_74k0ix  fuckaroundxfindout  [-0.3270401358604431, 0.06220916286110878, -0.3199388086795807, 0.2945059537887573, -0.12446127086877823, 0.09056004881858826, -0.4841662645339966, 0.2888942360877991, -0.08934880793094635, 0.5394051671028137, 0.5159727334976196, 0.1917...\n",
       "3    t5_80xbhl  fuckatlastelamon24  [-0.17828771471977234, 0.08107554167509079, -0.4100566506385803, -0.12772995233535767, 0.03353101387619972, 0.1698012501001358, -0.11168640851974487, 0.4089040160179138, 0.3309285640716553, 0.3384820818901062, 0.29350802302360535, -0.15...\n",
       "4    t5_28w67l        fuckbabyyoda  [-0.041489940136671066, 0.0769181177020073, -0.3346327245235443, 0.1930127888917923, -0.20167650282382965, 0.389017790555954, -0.2963216006755829, 0.42427146434783936, 0.2874469757080078, 0.8162460327148438, 0.05606146901845932, -0.1494..."
      ]
     },
     "execution_count": 255,
     "metadata": {},
     "output_type": "execute_result"
    }
   ],
   "source": [
    "df_sub_emb.head()"
   ]
  },
  {
   "cell_type": "code",
   "execution_count": 261,
   "id": "e0b9333a",
   "metadata": {},
   "outputs": [
    {
     "data": {
      "text/plain": [
       "0    15\n",
       "1     9\n",
       "2    18\n",
       "3    18\n",
       "4    12\n",
       "Name: subreddit_name, dtype: int64"
      ]
     },
     "execution_count": 261,
     "metadata": {},
     "output_type": "execute_result"
    }
   ],
   "source": [
    "df_sub_emb['subreddit_name'].head().str.len()"
   ]
  },
  {
   "cell_type": "code",
   "execution_count": 303,
   "id": "913ed398",
   "metadata": {},
   "outputs": [],
   "source": [
    "# df_sub_emb['embedding'].head().values"
   ]
  },
  {
   "cell_type": "code",
   "execution_count": 265,
   "id": "c329d3c0",
   "metadata": {},
   "outputs": [
    {
     "data": {
      "text/plain": [
       "Index(['subreddit_id', 'subreddit_name', 'embedding'], dtype='object')"
      ]
     },
     "execution_count": 265,
     "metadata": {},
     "output_type": "execute_result"
    }
   ],
   "source": [
    "df_sub_emb.columns"
   ]
  },
  {
   "cell_type": "code",
   "execution_count": 299,
   "id": "6b1e6ef5",
   "metadata": {},
   "outputs": [
    {
     "data": {
      "text/plain": [
       "array(['subreddit_name', 'subreddit_id'], dtype='<U14')"
      ]
     },
     "execution_count": 299,
     "metadata": {},
     "output_type": "execute_result"
    }
   ],
   "source": [
    "np.array(['subreddit_name', 'subreddit_id'])"
   ]
  },
  {
   "cell_type": "code",
   "execution_count": 317,
   "id": "637aad22",
   "metadata": {},
   "outputs": [
    {
     "name": "stdout",
     "output_type": "stream",
     "text": [
      "100\n"
     ]
    }
   ],
   "source": [
    "n_emb_cols = df_sub_emb['embedding'].iloc[0].shape[0]\n",
    "assert np.alltrue(n_emb_cols == df_sub_emb['embedding'].str.len())\n",
    "\n",
    "\n",
    "l_emb_cols = [f\"{embedding_col_prefix}{i:03,.0f}\" for i in range(n_emb_cols)]\n",
    "print(len(l_emb_cols))\n"
   ]
  },
  {
   "cell_type": "code",
   "execution_count": null,
   "id": "dc360bc3",
   "metadata": {},
   "outputs": [],
   "source": []
  },
  {
   "cell_type": "markdown",
   "id": "1fd2ea84",
   "metadata": {},
   "source": [
    "# Transform - sub embeddings to wide"
   ]
  },
  {
   "cell_type": "code",
   "execution_count": 335,
   "id": "46bec19c",
   "metadata": {},
   "outputs": [
    {
     "name": "stdout",
     "output_type": "stream",
     "text": [
      "(510000, 1)\n",
      "CPU times: user 1.54 s, sys: 7.03 ms, total: 1.55 s\n",
      "Wall time: 1.55 s\n"
     ]
    },
    {
     "data": {
      "text/html": [
       "<div>\n",
       "<style scoped>\n",
       "    .dataframe tbody tr th:only-of-type {\n",
       "        vertical-align: middle;\n",
       "    }\n",
       "\n",
       "    .dataframe tbody tr th {\n",
       "        vertical-align: top;\n",
       "    }\n",
       "\n",
       "    .dataframe thead th {\n",
       "        text-align: right;\n",
       "    }\n",
       "</style>\n",
       "<table border=\"1\" class=\"dataframe\">\n",
       "  <thead>\n",
       "    <tr style=\"text-align: right;\">\n",
       "      <th></th>\n",
       "      <th>0</th>\n",
       "    </tr>\n",
       "  </thead>\n",
       "  <tbody>\n",
       "    <tr>\n",
       "      <th>0</th>\n",
       "      <td>subreddit_id</td>\n",
       "    </tr>\n",
       "    <tr>\n",
       "      <th>1</th>\n",
       "      <td>subreddit_name</td>\n",
       "    </tr>\n",
       "    <tr>\n",
       "      <th>2</th>\n",
       "      <td>embedding_000</td>\n",
       "    </tr>\n",
       "    <tr>\n",
       "      <th>3</th>\n",
       "      <td>embedding_001</td>\n",
       "    </tr>\n",
       "    <tr>\n",
       "      <th>4</th>\n",
       "      <td>embedding_002</td>\n",
       "    </tr>\n",
       "  </tbody>\n",
       "</table>\n",
       "</div>"
      ],
      "text/plain": [
       "                0\n",
       "0    subreddit_id\n",
       "1  subreddit_name\n",
       "2   embedding_000\n",
       "3   embedding_001\n",
       "4   embedding_002"
      ]
     },
     "execution_count": 335,
     "metadata": {},
     "output_type": "execute_result"
    }
   ],
   "source": [
    "%%time\n",
    "\n",
    "# pandas is slow and it's not worth creating custom function\n",
    "# df_sub_emb_wide = pd.concat(\n",
    "#     [pd.DataFrame(_) for _ in (\n",
    "#         df_sub_emb\n",
    "#         .head(5000)\n",
    "#         .apply(\n",
    "#             lambda x: list(\n",
    "#                 reshape_embeddings_for_df(\n",
    "#                     subreddit_name=x['subreddit_name'],\n",
    "#                     subreddit_id=x['subreddit_id'],\n",
    "#                     embeddings=x['embedding'],\n",
    "#                     embedding_col_prefix=embedding_col_prefix,\n",
    "#                 )\n",
    "#             ),\n",
    "#             axis='columns'\n",
    "#         )\n",
    "#         .to_list()\n",
    "#     )\n",
    "#     ],\n",
    "#     ignore_index=True,\n",
    "# )\n",
    "# print(df_sub_emb_wide.shape)\n",
    "# df_sub_emb_wide.head()"
   ]
  },
  {
   "cell_type": "code",
   "execution_count": 336,
   "id": "ae59270d",
   "metadata": {},
   "outputs": [
    {
     "data": {
      "text/html": [
       "<div>\n",
       "<style scoped>\n",
       "    .dataframe tbody tr th:only-of-type {\n",
       "        vertical-align: middle;\n",
       "    }\n",
       "\n",
       "    .dataframe tbody tr th {\n",
       "        vertical-align: top;\n",
       "    }\n",
       "\n",
       "    .dataframe thead th {\n",
       "        text-align: right;\n",
       "    }\n",
       "</style>\n",
       "<table border=\"1\" class=\"dataframe\">\n",
       "  <thead>\n",
       "    <tr style=\"text-align: right;\">\n",
       "      <th></th>\n",
       "      <th>0</th>\n",
       "    </tr>\n",
       "  </thead>\n",
       "  <tbody>\n",
       "    <tr>\n",
       "      <th>509995</th>\n",
       "      <td>embedding_095</td>\n",
       "    </tr>\n",
       "    <tr>\n",
       "      <th>509996</th>\n",
       "      <td>embedding_096</td>\n",
       "    </tr>\n",
       "    <tr>\n",
       "      <th>509997</th>\n",
       "      <td>embedding_097</td>\n",
       "    </tr>\n",
       "    <tr>\n",
       "      <th>509998</th>\n",
       "      <td>embedding_098</td>\n",
       "    </tr>\n",
       "    <tr>\n",
       "      <th>509999</th>\n",
       "      <td>embedding_099</td>\n",
       "    </tr>\n",
       "  </tbody>\n",
       "</table>\n",
       "</div>"
      ],
      "text/plain": [
       "                    0\n",
       "509995  embedding_095\n",
       "509996  embedding_096\n",
       "509997  embedding_097\n",
       "509998  embedding_098\n",
       "509999  embedding_099"
      ]
     },
     "execution_count": 336,
     "metadata": {},
     "output_type": "execute_result"
    }
   ],
   "source": [
    "df_sub_emb_wide.tail()"
   ]
  },
  {
   "cell_type": "code",
   "execution_count": 330,
   "id": "1fd95f28",
   "metadata": {},
   "outputs": [
    {
     "name": "stdout",
     "output_type": "stream",
     "text": [
      "100\n",
      "(242345, 102)\n",
      "CPU times: user 28.6 s, sys: 3.58 s, total: 32.2 s\n",
      "Wall time: 31.5 s\n"
     ]
    }
   ],
   "source": [
    "%%time\n",
    "embedding_col_prefix = 'embedding_'\n",
    "\n",
    "dfp_sub_emb_wide = (\n",
    "    pl.DataFrame(df_sub_emb)\n",
    "    .select(\n",
    "        pl.struct(['subreddit_id', 'subreddit_name', 'embedding'])\n",
    "        .apply(\n",
    "            lambda x: reshape_embeddings_for_df(\n",
    "                subreddit_name=x['subreddit_name'],\n",
    "                subreddit_id=x['subreddit_id'],\n",
    "                embeddings=x['embedding'],\n",
    "                embedding_col_prefix=embedding_col_prefix,\n",
    "            )\n",
    "        )\n",
    "        .alias('subreddit_emb_expanded')\n",
    "    )\n",
    "    ['subreddit_emb_expanded']\n",
    "    .struct.unnest()\n",
    ")\n",
    "    \n",
    "dfp_sub_emb_wide = dfp_sub_emb_wide[reorder_array(['subreddit_name', 'subreddit_id'], dfp_sub_emb_wide.columns)]\n",
    "\n",
    "l_emb_cols = [c_ for c_ in dfp_sub_emb_wide.columns if c_.startswith(embedding_col_prefix)]\n",
    "print(len(l_emb_cols))\n",
    "\n",
    "print(dfp_sub_emb_wide.shape)"
   ]
  },
  {
   "cell_type": "code",
   "execution_count": 337,
   "id": "625bcf8f",
   "metadata": {},
   "outputs": [
    {
     "data": {
      "text/html": [
       "<div><style>\n",
       ".dataframe > thead > tr > th,\n",
       ".dataframe > tbody > tr > td {\n",
       "  text-align: right;\n",
       "}\n",
       "</style>\n",
       "<small>shape: (5, 102)</small><table border=\"1\" class=\"dataframe\"><thead><tr><th>subreddit_name</th><th>subreddit_id</th><th>embedding_000</th><th>embedding_001</th><th>embedding_002</th><th>embedding_003</th><th>embedding_004</th><th>embedding_005</th><th>embedding_006</th><th>embedding_007</th><th>embedding_008</th><th>embedding_009</th><th>embedding_010</th><th>embedding_011</th><th>embedding_012</th><th>embedding_013</th><th>embedding_014</th><th>embedding_015</th><th>embedding_016</th><th>embedding_017</th><th>embedding_018</th><th>embedding_019</th><th>embedding_020</th><th>embedding_021</th><th>embedding_022</th><th>embedding_023</th><th>embedding_024</th><th>embedding_025</th><th>embedding_026</th><th>embedding_027</th><th>embedding_028</th><th>embedding_029</th><th>embedding_030</th><th>embedding_031</th><th>embedding_032</th><th>embedding_033</th><th>embedding_034</th><th>&hellip;</th><th>embedding_063</th><th>embedding_064</th><th>embedding_065</th><th>embedding_066</th><th>embedding_067</th><th>embedding_068</th><th>embedding_069</th><th>embedding_070</th><th>embedding_071</th><th>embedding_072</th><th>embedding_073</th><th>embedding_074</th><th>embedding_075</th><th>embedding_076</th><th>embedding_077</th><th>embedding_078</th><th>embedding_079</th><th>embedding_080</th><th>embedding_081</th><th>embedding_082</th><th>embedding_083</th><th>embedding_084</th><th>embedding_085</th><th>embedding_086</th><th>embedding_087</th><th>embedding_088</th><th>embedding_089</th><th>embedding_090</th><th>embedding_091</th><th>embedding_092</th><th>embedding_093</th><th>embedding_094</th><th>embedding_095</th><th>embedding_096</th><th>embedding_097</th><th>embedding_098</th><th>embedding_099</th></tr><tr><td>str</td><td>str</td><td>f64</td><td>f64</td><td>f64</td><td>f64</td><td>f64</td><td>f64</td><td>f64</td><td>f64</td><td>f64</td><td>f64</td><td>f64</td><td>f64</td><td>f64</td><td>f64</td><td>f64</td><td>f64</td><td>f64</td><td>f64</td><td>f64</td><td>f64</td><td>f64</td><td>f64</td><td>f64</td><td>f64</td><td>f64</td><td>f64</td><td>f64</td><td>f64</td><td>f64</td><td>f64</td><td>f64</td><td>f64</td><td>f64</td><td>f64</td><td>f64</td><td>&hellip;</td><td>f64</td><td>f64</td><td>f64</td><td>f64</td><td>f64</td><td>f64</td><td>f64</td><td>f64</td><td>f64</td><td>f64</td><td>f64</td><td>f64</td><td>f64</td><td>f64</td><td>f64</td><td>f64</td><td>f64</td><td>f64</td><td>f64</td><td>f64</td><td>f64</td><td>f64</td><td>f64</td><td>f64</td><td>f64</td><td>f64</td><td>f64</td><td>f64</td><td>f64</td><td>f64</td><td>f64</td><td>f64</td><td>f64</td><td>f64</td><td>f64</td><td>f64</td><td>f64</td></tr></thead><tbody><tr><td>&quot;fuckangryupvot…</td><td>&quot;t5_2ebdae&quot;</td><td>-0.458307</td><td>-0.124377</td><td>-0.45653</td><td>-0.071167</td><td>-0.129496</td><td>0.050233</td><td>-0.223523</td><td>0.419538</td><td>0.222859</td><td>0.329106</td><td>0.232815</td><td>-0.132964</td><td>0.042578</td><td>-0.187635</td><td>0.032669</td><td>-0.097246</td><td>0.248933</td><td>0.081803</td><td>0.01614</td><td>-0.059382</td><td>0.232044</td><td>-0.229108</td><td>-0.099697</td><td>0.112958</td><td>0.287998</td><td>0.143571</td><td>0.110912</td><td>-0.056861</td><td>-0.348287</td><td>0.042438</td><td>-0.163465</td><td>0.143917</td><td>-0.017838</td><td>-0.372755</td><td>0.156338</td><td>&hellip;</td><td>-0.047599</td><td>-0.009217</td><td>-0.398875</td><td>0.041359</td><td>0.169443</td><td>-0.292089</td><td>-0.06315</td><td>-0.688448</td><td>0.122539</td><td>0.701312</td><td>-0.033934</td><td>-0.126428</td><td>-0.021342</td><td>-0.058136</td><td>-0.160805</td><td>-0.233582</td><td>-0.11476</td><td>-0.207059</td><td>-0.19208</td><td>0.42188</td><td>0.12501</td><td>-0.441611</td><td>-0.209567</td><td>0.330297</td><td>-0.104124</td><td>-0.035538</td><td>0.001113</td><td>0.021887</td><td>0.220516</td><td>-0.125512</td><td>0.085734</td><td>-0.221911</td><td>0.019733</td><td>0.381804</td><td>0.106661</td><td>-0.054146</td><td>0.034587</td></tr><tr><td>&quot;fuckanik0&quot;</td><td>&quot;t5_7cp4il&quot;</td><td>-0.765715</td><td>0.048177</td><td>-0.464772</td><td>-0.094904</td><td>0.170509</td><td>-0.131328</td><td>-0.608651</td><td>0.50657</td><td>-0.167868</td><td>0.317752</td><td>-0.045055</td><td>-0.190148</td><td>-0.072024</td><td>0.014071</td><td>0.343348</td><td>-0.744289</td><td>0.395009</td><td>0.072519</td><td>0.702949</td><td>0.743473</td><td>-0.111481</td><td>-0.593468</td><td>0.225758</td><td>0.180509</td><td>0.03334</td><td>0.57731</td><td>0.152853</td><td>-0.297522</td><td>-0.067208</td><td>0.140899</td><td>-0.009258</td><td>0.44042</td><td>0.415357</td><td>-0.240831</td><td>-0.302296</td><td>&hellip;</td><td>-0.110359</td><td>0.982417</td><td>-0.008637</td><td>0.777253</td><td>0.106275</td><td>-1.126837</td><td>-0.187583</td><td>-0.202971</td><td>0.040154</td><td>0.929265</td><td>0.227556</td><td>-0.164199</td><td>0.154003</td><td>-0.003316</td><td>-0.435552</td><td>-0.549721</td><td>-0.542573</td><td>-0.058687</td><td>-0.037692</td><td>0.232936</td><td>0.410203</td><td>-0.624834</td><td>-0.135485</td><td>-0.263023</td><td>-0.24021</td><td>-0.263799</td><td>-0.076655</td><td>-0.504038</td><td>-0.020553</td><td>0.247665</td><td>0.585173</td><td>-0.315736</td><td>-0.238108</td><td>0.176526</td><td>-0.056594</td><td>0.147414</td><td>0.217591</td></tr><tr><td>&quot;fuckaroundxfin…</td><td>&quot;t5_74k0ix&quot;</td><td>-0.32704</td><td>0.062209</td><td>-0.319939</td><td>0.294506</td><td>-0.124461</td><td>0.09056</td><td>-0.484166</td><td>0.288894</td><td>-0.089349</td><td>0.539405</td><td>0.515973</td><td>0.191757</td><td>0.081771</td><td>0.226133</td><td>-0.332329</td><td>-0.011259</td><td>0.25925</td><td>0.502889</td><td>0.240677</td><td>-0.678129</td><td>0.167942</td><td>-0.227761</td><td>0.27393</td><td>0.591853</td><td>-0.184245</td><td>0.063489</td><td>0.210365</td><td>-0.298517</td><td>0.028132</td><td>-0.028993</td><td>0.322376</td><td>0.080647</td><td>0.141867</td><td>-0.548325</td><td>0.74636</td><td>&hellip;</td><td>0.06916</td><td>0.804587</td><td>0.328748</td><td>0.364194</td><td>0.094847</td><td>-0.234976</td><td>0.189123</td><td>-1.034129</td><td>-0.197767</td><td>0.463933</td><td>0.755228</td><td>-0.348137</td><td>-0.054709</td><td>-0.41518</td><td>-0.060718</td><td>-0.092904</td><td>-0.347906</td><td>-0.568953</td><td>-0.413873</td><td>0.365812</td><td>0.077475</td><td>-0.532172</td><td>-0.850686</td><td>-0.100594</td><td>0.300156</td><td>-0.035989</td><td>-0.165565</td><td>-0.08324</td><td>-0.05425</td><td>-0.15632</td><td>0.179638</td><td>-0.195231</td><td>-0.202683</td><td>0.099378</td><td>-0.128004</td><td>-0.134303</td><td>0.024317</td></tr><tr><td>&quot;fuckatlastelam…</td><td>&quot;t5_80xbhl&quot;</td><td>-0.178288</td><td>0.081076</td><td>-0.410057</td><td>-0.12773</td><td>0.033531</td><td>0.169801</td><td>-0.111686</td><td>0.408904</td><td>0.330929</td><td>0.338482</td><td>0.293508</td><td>-0.156262</td><td>0.060648</td><td>-0.354247</td><td>0.102031</td><td>-0.178883</td><td>0.113465</td><td>0.156083</td><td>0.289543</td><td>-0.021504</td><td>0.041469</td><td>-0.114685</td><td>-0.149023</td><td>0.129301</td><td>0.238067</td><td>0.154112</td><td>-0.026729</td><td>-0.236533</td><td>-0.191923</td><td>-0.271482</td><td>0.257562</td><td>0.144543</td><td>0.058647</td><td>0.082037</td><td>0.255612</td><td>&hellip;</td><td>-0.28246</td><td>0.262651</td><td>-0.021765</td><td>0.296327</td><td>-0.013709</td><td>-0.358452</td><td>-0.165951</td><td>-0.338177</td><td>0.335548</td><td>-0.057391</td><td>0.218258</td><td>-0.556176</td><td>0.305899</td><td>0.044577</td><td>-0.140355</td><td>0.039219</td><td>0.097977</td><td>0.103717</td><td>-0.067091</td><td>0.461813</td><td>0.002961</td><td>-0.529486</td><td>-0.364391</td><td>0.312557</td><td>-0.349227</td><td>-0.222136</td><td>-0.134674</td><td>-0.141264</td><td>0.055445</td><td>0.204705</td><td>0.132454</td><td>0.109335</td><td>-0.06969</td><td>0.187209</td><td>-0.162985</td><td>-0.191328</td><td>0.011768</td></tr><tr><td>&quot;fuckbabyyoda&quot;</td><td>&quot;t5_28w67l&quot;</td><td>-0.04149</td><td>0.076918</td><td>-0.334633</td><td>0.193013</td><td>-0.201677</td><td>0.389018</td><td>-0.296322</td><td>0.424271</td><td>0.287447</td><td>0.816246</td><td>0.056061</td><td>-0.149409</td><td>-0.012459</td><td>-0.466179</td><td>0.006057</td><td>-0.038889</td><td>-0.136374</td><td>0.374441</td><td>0.226364</td><td>0.325263</td><td>-0.038172</td><td>-0.38188</td><td>-0.333754</td><td>0.292132</td><td>-0.057978</td><td>0.201652</td><td>-0.034768</td><td>-0.263964</td><td>-0.56614</td><td>-0.301539</td><td>0.026314</td><td>0.418381</td><td>-0.002403</td><td>-0.13367</td><td>0.074575</td><td>&hellip;</td><td>-0.4878</td><td>0.325066</td><td>0.115601</td><td>0.090483</td><td>-0.317462</td><td>-0.346799</td><td>-0.335129</td><td>-0.168799</td><td>-0.172959</td><td>0.145278</td><td>0.144984</td><td>-0.09533</td><td>0.057932</td><td>-0.158146</td><td>-0.256</td><td>0.227123</td><td>-0.205322</td><td>0.259926</td><td>-0.287919</td><td>0.722613</td><td>0.194654</td><td>-0.356569</td><td>-0.386739</td><td>0.111503</td><td>-0.425628</td><td>-0.224383</td><td>0.44205</td><td>0.017755</td><td>-0.024017</td><td>-0.183627</td><td>0.080906</td><td>0.097281</td><td>-0.190957</td><td>-0.481026</td><td>0.016539</td><td>-0.445938</td><td>-0.052858</td></tr></tbody></table></div>"
      ],
      "text/plain": [
       "shape: (5, 102)\n",
       "┌────────────┬────────────┬────────────┬────────────┬───┬────────────┬────────────┬────────────┬────────────┐\n",
       "│ subreddit_ ┆ subreddit_ ┆ embedding_ ┆ embedding_ ┆ … ┆ embedding_ ┆ embedding_ ┆ embedding_ ┆ embedding_ │\n",
       "│ name       ┆ id         ┆ 000        ┆ 001        ┆   ┆ 096        ┆ 097        ┆ 098        ┆ 099        │\n",
       "│ ---        ┆ ---        ┆ ---        ┆ ---        ┆   ┆ ---        ┆ ---        ┆ ---        ┆ ---        │\n",
       "│ str        ┆ str        ┆ f64        ┆ f64        ┆   ┆ f64        ┆ f64        ┆ f64        ┆ f64        │\n",
       "╞════════════╪════════════╪════════════╪════════════╪═══╪════════════╪════════════╪════════════╪════════════╡\n",
       "│ fuckangryu ┆ t5_2ebdae  ┆ -0.458307  ┆ -0.124377  ┆ … ┆ 0.381804   ┆ 0.106661   ┆ -0.054146  ┆ 0.034587   │\n",
       "│ pvote      ┆            ┆            ┆            ┆   ┆            ┆            ┆            ┆            │\n",
       "│ fuckanik0  ┆ t5_7cp4il  ┆ -0.765715  ┆ 0.048177   ┆ … ┆ 0.176526   ┆ -0.056594  ┆ 0.147414   ┆ 0.217591   │\n",
       "│ fuckaround ┆ t5_74k0ix  ┆ -0.32704   ┆ 0.062209   ┆ … ┆ 0.099378   ┆ -0.128004  ┆ -0.134303  ┆ 0.024317   │\n",
       "│ xfindout   ┆            ┆            ┆            ┆   ┆            ┆            ┆            ┆            │\n",
       "│ fuckatlast ┆ t5_80xbhl  ┆ -0.178288  ┆ 0.081076   ┆ … ┆ 0.187209   ┆ -0.162985  ┆ -0.191328  ┆ 0.011768   │\n",
       "│ elamon24   ┆            ┆            ┆            ┆   ┆            ┆            ┆            ┆            │\n",
       "│ fuckbabyyo ┆ t5_28w67l  ┆ -0.04149   ┆ 0.076918   ┆ … ┆ -0.481026  ┆ 0.016539   ┆ -0.445938  ┆ -0.052858  │\n",
       "│ da         ┆            ┆            ┆            ┆   ┆            ┆            ┆            ┆            │\n",
       "└────────────┴────────────┴────────────┴────────────┴───┴────────────┴────────────┴────────────┴────────────┘"
      ]
     },
     "execution_count": 337,
     "metadata": {},
     "output_type": "execute_result"
    }
   ],
   "source": [
    "dfp_sub_emb_wide.head()"
   ]
  },
  {
   "cell_type": "markdown",
   "id": "c19a6038",
   "metadata": {},
   "source": [
    "# Transform - Count of subreddits per user\n"
   ]
  },
  {
   "cell_type": "code",
   "execution_count": 11,
   "id": "a0b7a04a",
   "metadata": {},
   "outputs": [
    {
     "name": "stdout",
     "output_type": "stream",
     "text": [
      "CPU times: user 1.09 s, sys: 842 ms, total: 1.93 s\n",
      "Wall time: 1.89 s\n"
     ]
    }
   ],
   "source": [
    "%%time\n",
    "\n",
    "dfp_users_tos = pl.DataFrame(df_users_raw_tos)"
   ]
  },
  {
   "cell_type": "code",
   "execution_count": 12,
   "id": "2bc850f2",
   "metadata": {},
   "outputs": [
    {
     "name": "stdout",
     "output_type": "stream",
     "text": [
      "CPU times: user 28.2 ms, sys: 7.95 ms, total: 36.1 ms\n",
      "Wall time: 35.5 ms\n"
     ]
    }
   ],
   "source": [
    "%%time\n",
    "\n",
    "df_users_tos = df_users_raw_tos.copy()"
   ]
  },
  {
   "cell_type": "markdown",
   "id": "8bfbb8a0",
   "metadata": {},
   "source": [
    "## Pandas\n",
    "Reshape user data to get:\n",
    "- count the number of subreddits for each user\n",
    "\n"
   ]
  },
  {
   "cell_type": "code",
   "execution_count": 19,
   "id": "9a7365c9",
   "metadata": {},
   "outputs": [
    {
     "name": "stdout",
     "output_type": "stream",
     "text": [
      "CPU times: user 38.7 s, sys: 894 ms, total: 39.6 s\n",
      "Wall time: 39.6 s\n"
     ]
    }
   ],
   "source": [
    "%%time\n",
    "\n",
    "df_users_tos['subreddit_count'] = (\n",
    "    df_users_tos['feature_value'].apply(lambda x: len(json.loads(x)) )\n",
    ")"
   ]
  },
  {
   "cell_type": "code",
   "execution_count": 20,
   "id": "493dc965",
   "metadata": {},
   "outputs": [
    {
     "data": {
      "text/html": [
       "<div>\n",
       "<style scoped>\n",
       "    .dataframe tbody tr th:only-of-type {\n",
       "        vertical-align: middle;\n",
       "    }\n",
       "\n",
       "    .dataframe tbody tr th {\n",
       "        vertical-align: top;\n",
       "    }\n",
       "\n",
       "    .dataframe thead th {\n",
       "        text-align: right;\n",
       "    }\n",
       "</style>\n",
       "<table border=\"1\" class=\"dataframe\">\n",
       "  <thead>\n",
       "    <tr style=\"text-align: right;\">\n",
       "      <th></th>\n",
       "      <th>subreddit_count</th>\n",
       "    </tr>\n",
       "  </thead>\n",
       "  <tbody>\n",
       "    <tr>\n",
       "      <th>count</th>\n",
       "      <td>856423.000000</td>\n",
       "    </tr>\n",
       "    <tr>\n",
       "      <th>mean</th>\n",
       "      <td>152.496149</td>\n",
       "    </tr>\n",
       "    <tr>\n",
       "      <th>std</th>\n",
       "      <td>141.629998</td>\n",
       "    </tr>\n",
       "    <tr>\n",
       "      <th>min</th>\n",
       "      <td>1.000000</td>\n",
       "    </tr>\n",
       "    <tr>\n",
       "      <th>25%</th>\n",
       "      <td>47.000000</td>\n",
       "    </tr>\n",
       "    <tr>\n",
       "      <th>50%</th>\n",
       "      <td>118.000000</td>\n",
       "    </tr>\n",
       "    <tr>\n",
       "      <th>75%</th>\n",
       "      <td>215.000000</td>\n",
       "    </tr>\n",
       "    <tr>\n",
       "      <th>max</th>\n",
       "      <td>2085.000000</td>\n",
       "    </tr>\n",
       "  </tbody>\n",
       "</table>\n",
       "</div>"
      ],
      "text/plain": [
       "       subreddit_count\n",
       "count    856423.000000\n",
       "mean        152.496149\n",
       "std         141.629998\n",
       "min           1.000000\n",
       "25%          47.000000\n",
       "50%         118.000000\n",
       "75%         215.000000\n",
       "max        2085.000000"
      ]
     },
     "execution_count": 20,
     "metadata": {},
     "output_type": "execute_result"
    }
   ],
   "source": [
    "df_users_tos.describe()"
   ]
  },
  {
   "cell_type": "markdown",
   "id": "0f876b96",
   "metadata": {},
   "source": [
    "## Polars"
   ]
  },
  {
   "cell_type": "code",
   "execution_count": 15,
   "id": "1227d1bd",
   "metadata": {},
   "outputs": [
    {
     "data": {
      "text/html": [
       "<div><style>\n",
       ".dataframe > thead > tr > th,\n",
       ".dataframe > tbody > tr > td {\n",
       "  text-align: right;\n",
       "}\n",
       "</style>\n",
       "<small>shape: (7, 3)</small><table border=\"1\" class=\"dataframe\"><thead><tr><th>describe</th><th>user_id</th><th>feature_value</th></tr><tr><td>str</td><td>str</td><td>str</td></tr></thead><tbody><tr><td>&quot;count&quot;</td><td>&quot;856423&quot;</td><td>&quot;856423&quot;</td></tr><tr><td>&quot;null_count&quot;</td><td>&quot;0&quot;</td><td>&quot;0&quot;</td></tr><tr><td>&quot;mean&quot;</td><td>null</td><td>null</td></tr><tr><td>&quot;std&quot;</td><td>null</td><td>null</td></tr><tr><td>&quot;min&quot;</td><td>&quot;t2_10009m&quot;</td><td>&quot;{&quot;t5_100kj8&quot;:4…</td></tr><tr><td>&quot;max&quot;</td><td>&quot;t2_zzzz9&quot;</td><td>&quot;{&quot;t5_zzwxp&quot;:0.…</td></tr><tr><td>&quot;median&quot;</td><td>null</td><td>null</td></tr></tbody></table></div>"
      ],
      "text/plain": [
       "shape: (7, 3)\n",
       "┌────────────┬───────────┬───────────────────────────────────┐\n",
       "│ describe   ┆ user_id   ┆ feature_value                     │\n",
       "│ ---        ┆ ---       ┆ ---                               │\n",
       "│ str        ┆ str       ┆ str                               │\n",
       "╞════════════╪═══════════╪═══════════════════════════════════╡\n",
       "│ count      ┆ 856423    ┆ 856423                            │\n",
       "│ null_count ┆ 0         ┆ 0                                 │\n",
       "│ mean       ┆ null      ┆ null                              │\n",
       "│ std        ┆ null      ┆ null                              │\n",
       "│ min        ┆ t2_10009m ┆ {\"t5_100kj8\":4e-05,\"t5_2qqam\":0.… │\n",
       "│ max        ┆ t2_zzzz9  ┆ {\"t5_zzwxp\":0.00044,\"t5_2qib0\":0… │\n",
       "│ median     ┆ null      ┆ null                              │\n",
       "└────────────┴───────────┴───────────────────────────────────┘"
      ]
     },
     "execution_count": 15,
     "metadata": {},
     "output_type": "execute_result"
    }
   ],
   "source": [
    "dfp_users_tos.describe()"
   ]
  },
  {
   "cell_type": "code",
   "execution_count": 21,
   "id": "70203144",
   "metadata": {},
   "outputs": [
    {
     "name": "stdout",
     "output_type": "stream",
     "text": [
      "CPU times: user 40 s, sys: 1.13 s, total: 41.1 s\n",
      "Wall time: 41.1 s\n"
     ]
    }
   ],
   "source": [
    "%%time\n",
    "\n",
    "dfp_users_tos = dfp_users_tos.with_columns(\n",
    "    pl.col('feature_value').apply(lambda x: len(json.loads(x)) ).alias('subreddit_count')\n",
    ")"
   ]
  },
  {
   "cell_type": "code",
   "execution_count": 22,
   "id": "453d44c4",
   "metadata": {},
   "outputs": [
    {
     "data": {
      "text/html": [
       "<div><style>\n",
       ".dataframe > thead > tr > th,\n",
       ".dataframe > tbody > tr > td {\n",
       "  text-align: right;\n",
       "}\n",
       "</style>\n",
       "<small>shape: (7, 4)</small><table border=\"1\" class=\"dataframe\"><thead><tr><th>describe</th><th>user_id</th><th>feature_value</th><th>subreddit_count</th></tr><tr><td>str</td><td>str</td><td>str</td><td>f64</td></tr></thead><tbody><tr><td>&quot;count&quot;</td><td>&quot;856423&quot;</td><td>&quot;856423&quot;</td><td>856423.0</td></tr><tr><td>&quot;null_count&quot;</td><td>&quot;0&quot;</td><td>&quot;0&quot;</td><td>0.0</td></tr><tr><td>&quot;mean&quot;</td><td>null</td><td>null</td><td>152.496149</td></tr><tr><td>&quot;std&quot;</td><td>null</td><td>null</td><td>141.629998</td></tr><tr><td>&quot;min&quot;</td><td>&quot;t2_10009m&quot;</td><td>&quot;{&quot;t5_100kj8&quot;:4…</td><td>1.0</td></tr><tr><td>&quot;max&quot;</td><td>&quot;t2_zzzz9&quot;</td><td>&quot;{&quot;t5_zzwxp&quot;:0.…</td><td>2085.0</td></tr><tr><td>&quot;median&quot;</td><td>null</td><td>null</td><td>118.0</td></tr></tbody></table></div>"
      ],
      "text/plain": [
       "shape: (7, 4)\n",
       "┌────────────┬───────────┬───────────────────────────────────┬─────────────────┐\n",
       "│ describe   ┆ user_id   ┆ feature_value                     ┆ subreddit_count │\n",
       "│ ---        ┆ ---       ┆ ---                               ┆ ---             │\n",
       "│ str        ┆ str       ┆ str                               ┆ f64             │\n",
       "╞════════════╪═══════════╪═══════════════════════════════════╪═════════════════╡\n",
       "│ count      ┆ 856423    ┆ 856423                            ┆ 856423.0        │\n",
       "│ null_count ┆ 0         ┆ 0                                 ┆ 0.0             │\n",
       "│ mean       ┆ null      ┆ null                              ┆ 152.496149      │\n",
       "│ std        ┆ null      ┆ null                              ┆ 141.629998      │\n",
       "│ min        ┆ t2_10009m ┆ {\"t5_100kj8\":4e-05,\"t5_2qqam\":0.… ┆ 1.0             │\n",
       "│ max        ┆ t2_zzzz9  ┆ {\"t5_zzwxp\":0.00044,\"t5_2qib0\":0… ┆ 2085.0          │\n",
       "│ median     ┆ null      ┆ null                              ┆ 118.0           │\n",
       "└────────────┴───────────┴───────────────────────────────────┴─────────────────┘"
      ]
     },
     "execution_count": 22,
     "metadata": {},
     "output_type": "execute_result"
    }
   ],
   "source": [
    "dfp_users_tos.describe()"
   ]
  },
  {
   "cell_type": "markdown",
   "id": "0ae527b4",
   "metadata": {},
   "source": [
    "# Transform - get long form \n",
    "Each row = user+subreddit"
   ]
  },
  {
   "cell_type": "markdown",
   "id": "b5904f8b",
   "metadata": {},
   "source": [
    "## Example on a single user"
   ]
  },
  {
   "cell_type": "code",
   "execution_count": 24,
   "id": "7cbe5931",
   "metadata": {},
   "outputs": [
    {
     "data": {
      "text/plain": [
       "632536    {\"t5_3nxko\":0.02033,\"t5_2r40o\":0.02439,\"t5_2t7no\":0.00813,\"t5_2thzw\":0.01626,\"t5_2qvp9\":0.04472,\"t5_2yrq6\":0.03252,\"t5_45hae8\":0.01626,\"t5_3ajbp\":0.11382,\"t5_2qi58\":0.03659,\"t5_2qhpn\":0.04878,\"t5_34a0h\":0.49187,\"t5_35mye\":0.03252,\"t5_2t...\n",
       "Name: feature_value, dtype: object"
      ]
     },
     "execution_count": 24,
     "metadata": {},
     "output_type": "execute_result"
    }
   ],
   "source": [
    "# convert 1 user's row to a df where each row is user+subreddit time\n",
    "\n",
    "df_users_tos[df_users_tos['user_id'] == 't2_8fe238nke']['feature_value']"
   ]
  },
  {
   "cell_type": "code",
   "execution_count": 25,
   "id": "0c60f4ba",
   "metadata": {},
   "outputs": [
    {
     "data": {
      "text/html": [
       "<div>\n",
       "<style scoped>\n",
       "    .dataframe tbody tr th:only-of-type {\n",
       "        vertical-align: middle;\n",
       "    }\n",
       "\n",
       "    .dataframe tbody tr th {\n",
       "        vertical-align: top;\n",
       "    }\n",
       "\n",
       "    .dataframe thead th {\n",
       "        text-align: right;\n",
       "    }\n",
       "</style>\n",
       "<table border=\"1\" class=\"dataframe\">\n",
       "  <thead>\n",
       "    <tr style=\"text-align: right;\">\n",
       "      <th></th>\n",
       "      <th>user_id</th>\n",
       "      <th>subreddit_id</th>\n",
       "      <th>tos_pct</th>\n",
       "    </tr>\n",
       "  </thead>\n",
       "  <tbody>\n",
       "    <tr>\n",
       "      <th>0</th>\n",
       "      <td>t2_8fe238nke</td>\n",
       "      <td>t5_3nxko</td>\n",
       "      <td>0.02033</td>\n",
       "    </tr>\n",
       "    <tr>\n",
       "      <th>1</th>\n",
       "      <td>t2_8fe238nke</td>\n",
       "      <td>t5_2r40o</td>\n",
       "      <td>0.02439</td>\n",
       "    </tr>\n",
       "    <tr>\n",
       "      <th>2</th>\n",
       "      <td>t2_8fe238nke</td>\n",
       "      <td>t5_2t7no</td>\n",
       "      <td>0.00813</td>\n",
       "    </tr>\n",
       "    <tr>\n",
       "      <th>3</th>\n",
       "      <td>t2_8fe238nke</td>\n",
       "      <td>t5_2thzw</td>\n",
       "      <td>0.01626</td>\n",
       "    </tr>\n",
       "    <tr>\n",
       "      <th>4</th>\n",
       "      <td>t2_8fe238nke</td>\n",
       "      <td>t5_2qvp9</td>\n",
       "      <td>0.04472</td>\n",
       "    </tr>\n",
       "    <tr>\n",
       "      <th>5</th>\n",
       "      <td>t2_8fe238nke</td>\n",
       "      <td>t5_2yrq6</td>\n",
       "      <td>0.03252</td>\n",
       "    </tr>\n",
       "    <tr>\n",
       "      <th>6</th>\n",
       "      <td>t2_8fe238nke</td>\n",
       "      <td>t5_45hae8</td>\n",
       "      <td>0.01626</td>\n",
       "    </tr>\n",
       "    <tr>\n",
       "      <th>7</th>\n",
       "      <td>t2_8fe238nke</td>\n",
       "      <td>t5_3ajbp</td>\n",
       "      <td>0.11382</td>\n",
       "    </tr>\n",
       "    <tr>\n",
       "      <th>8</th>\n",
       "      <td>t2_8fe238nke</td>\n",
       "      <td>t5_2qi58</td>\n",
       "      <td>0.03659</td>\n",
       "    </tr>\n",
       "    <tr>\n",
       "      <th>9</th>\n",
       "      <td>t2_8fe238nke</td>\n",
       "      <td>t5_2qhpn</td>\n",
       "      <td>0.04878</td>\n",
       "    </tr>\n",
       "    <tr>\n",
       "      <th>10</th>\n",
       "      <td>t2_8fe238nke</td>\n",
       "      <td>t5_34a0h</td>\n",
       "      <td>0.49187</td>\n",
       "    </tr>\n",
       "    <tr>\n",
       "      <th>11</th>\n",
       "      <td>t2_8fe238nke</td>\n",
       "      <td>t5_35mye</td>\n",
       "      <td>0.03252</td>\n",
       "    </tr>\n",
       "    <tr>\n",
       "      <th>12</th>\n",
       "      <td>t2_8fe238nke</td>\n",
       "      <td>t5_2to41</td>\n",
       "      <td>0.05691</td>\n",
       "    </tr>\n",
       "    <tr>\n",
       "      <th>13</th>\n",
       "      <td>t2_8fe238nke</td>\n",
       "      <td>t5_2rybx</td>\n",
       "      <td>0.03659</td>\n",
       "    </tr>\n",
       "    <tr>\n",
       "      <th>14</th>\n",
       "      <td>t2_8fe238nke</td>\n",
       "      <td>t5_2qhon</td>\n",
       "      <td>0.02033</td>\n",
       "    </tr>\n",
       "  </tbody>\n",
       "</table>\n",
       "</div>"
      ],
      "text/plain": [
       "         user_id subreddit_id  tos_pct\n",
       "0   t2_8fe238nke     t5_3nxko  0.02033\n",
       "1   t2_8fe238nke     t5_2r40o  0.02439\n",
       "2   t2_8fe238nke     t5_2t7no  0.00813\n",
       "3   t2_8fe238nke     t5_2thzw  0.01626\n",
       "4   t2_8fe238nke     t5_2qvp9  0.04472\n",
       "5   t2_8fe238nke     t5_2yrq6  0.03252\n",
       "6   t2_8fe238nke    t5_45hae8  0.01626\n",
       "7   t2_8fe238nke     t5_3ajbp  0.11382\n",
       "8   t2_8fe238nke     t5_2qi58  0.03659\n",
       "9   t2_8fe238nke     t5_2qhpn  0.04878\n",
       "10  t2_8fe238nke     t5_34a0h  0.49187\n",
       "11  t2_8fe238nke     t5_35mye  0.03252\n",
       "12  t2_8fe238nke     t5_2to41  0.05691\n",
       "13  t2_8fe238nke     t5_2rybx  0.03659\n",
       "14  t2_8fe238nke     t5_2qhon  0.02033"
      ]
     },
     "execution_count": 25,
     "metadata": {},
     "output_type": "execute_result"
    }
   ],
   "source": [
    "# reshape_tos_for_df(\n",
    "#     't2_8fe238nke',\n",
    "#     df_users_tos[df_users_tos['user_id'] == 't2_8fe238nke']['feature_value'].values[0],\n",
    "# )\n",
    "\n",
    "pd.DataFrame(reshape_tos_for_df(\n",
    "    't2_8fe238nke',\n",
    "    df_users_tos[df_users_tos['user_id'] == 't2_8fe238nke']['feature_value'].values[0],\n",
    "))"
   ]
  },
  {
   "cell_type": "markdown",
   "id": "e1ebcc68",
   "metadata": {},
   "source": [
    "## Time estimates on just converting the data to the right format\n",
    "\n",
    "with 10k users, Pandas seems WAY faster in this step:\n",
    "\n",
    "```bash\n",
    "# Pandas\n",
    "803 ms ± 3.74 ms per loop (mean ± std. dev. of 7 runs, 1 loop each)\n",
    "\n",
    "# Polars\n",
    "2,020 ms s ± 17.9 ms per loop (mean ± std. dev. of 7 runs, 1 loop each)\n",
    "\n",
    "##  2.02 s ± 17.9 ms per loop (mean ± std. dev. of 7 runs, 1 loop each)\n",
    "```"
   ]
  },
  {
   "cell_type": "code",
   "execution_count": 28,
   "id": "7427520b",
   "metadata": {},
   "outputs": [
    {
     "name": "stdout",
     "output_type": "stream",
     "text": [
      "803 ms ± 3.74 ms per loop (mean ± std. dev. of 7 runs, 1 loop each)\n"
     ]
    }
   ],
   "source": [
    "%%timeit\n",
    "(\n",
    "    df_users_tos.head(int(1e4)).apply(lambda x: reshape_tos_for_df(x['user_id'], x['feature_value']), axis='columns')\n",
    ")"
   ]
  },
  {
   "cell_type": "code",
   "execution_count": 30,
   "id": "92374994",
   "metadata": {},
   "outputs": [
    {
     "name": "stdout",
     "output_type": "stream",
     "text": [
      "2.02 s ± 17.9 ms per loop (mean ± std. dev. of 7 runs, 1 loop each)\n"
     ]
    }
   ],
   "source": [
    "%%timeit\n",
    "\n",
    "(\n",
    "    dfp_users_tos.head(int(1e4)).select(\n",
    "        pl.struct(['user_id', 'feature_value']).apply(\n",
    "            lambda x: reshape_tos_for_df(x['user_id'], x['feature_value'])\n",
    "        ).alias('subreddit_tos_expanded')\n",
    "    )\n",
    ")"
   ]
  },
  {
   "cell_type": "markdown",
   "id": "bcf2fd6b",
   "metadata": {},
   "source": [
    "## Time estimates on converting the data to long df (on a sample of users)\n",
    "\n",
    "We need to take into account the full time to convert to the output df\n",
    "\n",
    "And we also compare the output of the two methods to check each other's outputm"
   ]
  },
  {
   "cell_type": "code",
   "execution_count": 49,
   "id": "b1a56868",
   "metadata": {},
   "outputs": [
    {
     "data": {
      "text/plain": [
       "50000"
      ]
     },
     "execution_count": 49,
     "metadata": {},
     "output_type": "execute_result"
    }
   ],
   "source": [
    "n_long_test = int(5e4)\n",
    "n_long_test"
   ]
  },
  {
   "cell_type": "code",
   "execution_count": 51,
   "id": "6000935b",
   "metadata": {},
   "outputs": [
    {
     "name": "stdout",
     "output_type": "stream",
     "text": [
      "(7054807, 3)\n",
      "CPU times: user 11.5 s, sys: 1.46 s, total: 12.9 s\n",
      "Wall time: 12.6 s\n"
     ]
    }
   ],
   "source": [
    "%%time\n",
    "\n",
    "# create a chain, instead of keeping a tmp df\n",
    "dfp_users_tos_long_test = (\n",
    "    dfp_users_tos.head(n_long_test).select(\n",
    "        pl.struct(['user_id', 'feature_value'])\n",
    "        .apply(\n",
    "            lambda x: reshape_tos_for_df(x['user_id'], x['feature_value'])\n",
    "        )\n",
    "        .alias('subreddit_tos_expanded')\n",
    "    )\n",
    "    ['subreddit_tos_expanded'].struct.unnest().select(\n",
    "        [\n",
    "            pl.col('user_id').arr.explode(),\n",
    "            pl.col('subreddit_id').arr.explode(),\n",
    "            pl.col('tos_pct').arr.explode(),\n",
    "        ]\n",
    "    )\n",
    ")\n",
    "print(dfp_users_tos_long_test.shape)"
   ]
  },
  {
   "cell_type": "code",
   "execution_count": 64,
   "id": "390dda6d",
   "metadata": {},
   "outputs": [
    {
     "name": "stdout",
     "output_type": "stream",
     "text": [
      "(7054807, 3)\n",
      "CPU times: user 37.9 s, sys: 1.01 s, total: 38.9 s\n",
      "Wall time: 38.6 s\n"
     ]
    }
   ],
   "source": [
    "%%time\n",
    "\n",
    "df_users_tos_long_test = pd.concat(\n",
    "    [pd.DataFrame(_) for _ in\n",
    "        (\n",
    "            df_users_tos.head(n_long_test).apply(lambda x: reshape_tos_for_df(x['user_id'], x['feature_value']), axis='columns')\n",
    "        ).to_list()\n",
    "    ],\n",
    "    ignore_index=True,\n",
    ")\n",
    "print(df_users_tos_long_test.shape)"
   ]
  },
  {
   "cell_type": "code",
   "execution_count": 53,
   "id": "7d059076",
   "metadata": {},
   "outputs": [
    {
     "data": {
      "text/plain": [
       "3.055555555555556"
      ]
     },
     "execution_count": 53,
     "metadata": {},
     "output_type": "execute_result"
    }
   ],
   "source": [
    "38.5 / 12.6"
   ]
  },
  {
   "cell_type": "markdown",
   "id": "5625f5cb",
   "metadata": {},
   "source": [
    "### Make sure that the df outputs are the same!\n",
    "\n",
    "Note that we need to reset & drop the index for the pandas df because it keeps the index for each individual df unless we ignore index at concat time.\n",
    "\n",
    "_NOTE_: When we use pd.equals() it also check the dataframe's index."
   ]
  },
  {
   "cell_type": "code",
   "execution_count": 76,
   "id": "f2e47c1b",
   "metadata": {},
   "outputs": [
    {
     "name": "stdout",
     "output_type": "stream",
     "text": [
      "True\n",
      "CPU times: user 1.71 s, sys: 104 ms, total: 1.81 s\n",
      "Wall time: 1.79 s\n"
     ]
    }
   ],
   "source": [
    "%%time\n",
    "\n",
    "pa_eq_pl = dfp_users_tos_long_test.to_pandas().equals(df_users_tos_long_test.reset_index(drop=True))\n",
    "print(pa_eq_pl)\n",
    "assert pa_eq_pl\n",
    "del pa_eq_pl"
   ]
  },
  {
   "cell_type": "code",
   "execution_count": 72,
   "id": "5f7b7d23",
   "metadata": {},
   "outputs": [
    {
     "data": {
      "text/plain": [
       "True"
      ]
     },
     "execution_count": 72,
     "metadata": {},
     "output_type": "execute_result"
    }
   ],
   "source": [
    "np.array_equal(dfp_users_tos_long_test.to_pandas().index, df_users_tos_long_test.index)"
   ]
  },
  {
   "cell_type": "code",
   "execution_count": 77,
   "id": "a973e823",
   "metadata": {},
   "outputs": [
    {
     "name": "stdout",
     "output_type": "stream",
     "text": [
      "(7054807, 3)\n",
      "(7054807, 3)\n",
      "True\n"
     ]
    }
   ],
   "source": [
    "shape_pol_test_ = dfp_users_tos_long_test.to_pandas().shape\n",
    "shape_pan_test_ = df_users_tos_long_test.shape\n",
    "print(shape_pol_test_)\n",
    "print(shape_pan_test_)\n",
    "print(shape_pan_test_ == shape_pol_test_)\n",
    "del shape_pol_test_, shape_pan_test_"
   ]
  },
  {
   "cell_type": "markdown",
   "id": "d0a970f2",
   "metadata": {},
   "source": [
    "### Run timeit on test data [optional]\n",
    "Don't really need to run time it because it's clear that polars is ~3x faster when we measure end-to-end result for final output (df_long)"
   ]
  },
  {
   "cell_type": "code",
   "execution_count": 54,
   "id": "466becb0",
   "metadata": {},
   "outputs": [],
   "source": [
    "# %%timeit\n",
    "\n",
    "# df_users_tos_long_test = pd.concat(\n",
    "#     [pd.DataFrame(_) for _ in \n",
    "#         (\n",
    "#             df_users_tos.head(n_long_test).apply(lambda x: reshape_tos_for_df(x['user_id'], x['feature_value']), axis='columns')\n",
    "#         ).to_list()\n",
    "#     ]\n",
    "# )"
   ]
  },
  {
   "cell_type": "code",
   "execution_count": 55,
   "id": "6175db62",
   "metadata": {},
   "outputs": [],
   "source": [
    "# %%timeit\n",
    "\n",
    "# dfp_users_tos_long_test = (\n",
    "#     dfp_users_tos.head(n_long_test).select(\n",
    "#         pl.struct(['user_id', 'feature_value'])\n",
    "#         .apply(\n",
    "#             lambda x: reshape_tos_for_df(x['user_id'], x['feature_value'])\n",
    "#         )\n",
    "#         .alias('subreddit_tos_expanded')\n",
    "#     )\n",
    "#     ['subreddit_tos_expanded'].struct.unnest().select(\n",
    "#         [\n",
    "#             pl.col('user_id').arr.explode(),\n",
    "#             pl.col('subreddit_id').arr.explode(),\n",
    "#             pl.col('tos_pct').arr.explode(),\n",
    "#         ]\n",
    "#     )\n",
    "# )"
   ]
  },
  {
   "cell_type": "markdown",
   "id": "a7f5688e",
   "metadata": {},
   "source": [
    "## Convert full data\n",
    "with pandas, we have a lot of overhead so the whole process takes 13+ minutes (creating individual dataframes & then concat into a final df)\n",
    "\n",
    "```bash\n",
    "# Pandas\n",
    "CPU times: user 12min 39s, sys: 1min 12s, total: 13min 51s\n",
    "Wall time: 13min 46s\n",
    "\n",
    "\n",
    "# Polars\n",
    "CPU times: user 3min 49s, sys: 40.4 s, total: 4min 30s\n",
    "Wall time: 4min 25s\n",
    "```"
   ]
  },
  {
   "cell_type": "code",
   "execution_count": 81,
   "id": "7d60ebb4",
   "metadata": {},
   "outputs": [
    {
     "data": {
      "text/plain": [
       "3.116981132075472"
      ]
     },
     "execution_count": 81,
     "metadata": {},
     "output_type": "execute_result"
    }
   ],
   "source": [
    "(13 + 46/60) / (4 + 25/60)"
   ]
  },
  {
   "cell_type": "code",
   "execution_count": 78,
   "id": "06da5ce1",
   "metadata": {},
   "outputs": [
    {
     "name": "stdout",
     "output_type": "stream",
     "text": [
      "(130601209, 3)\n",
      "CPU times: user 3min 49s, sys: 40.4 s, total: 4min 30s\n",
      "Wall time: 4min 25s\n"
     ]
    }
   ],
   "source": [
    "%%time\n",
    "\n",
    "# create a chain, instead of keeping a tmp df\n",
    "dfp_users_tos_long_single = (\n",
    "    dfp_users_tos\n",
    "    .select(\n",
    "        pl.struct(['user_id', 'feature_value'])\n",
    "        .apply(\n",
    "            lambda x: reshape_tos_for_df(x['user_id'], x['feature_value'])\n",
    "        )\n",
    "        .alias('subreddit_tos_expanded')\n",
    "    )\n",
    "    ['subreddit_tos_expanded'].struct.unnest()\n",
    "    .select(\n",
    "        [\n",
    "            pl.col('user_id').arr.explode(),\n",
    "            pl.col('subreddit_id').arr.explode(),\n",
    "            pl.col('tos_pct').arr.explode(),\n",
    "        ]\n",
    "    )\n",
    ")\n",
    "print(dfp_users_tos_long_single.shape)"
   ]
  },
  {
   "cell_type": "code",
   "execution_count": 69,
   "id": "8199fd1e",
   "metadata": {},
   "outputs": [
    {
     "name": "stdout",
     "output_type": "stream",
     "text": [
      "CPU times: user 12min 39s, sys: 1min 12s, total: 13min 51s\n",
      "Wall time: 13min 46s\n"
     ]
    }
   ],
   "source": [
    "# %%time\n",
    "\n",
    "# df_tos_long = pd.concat(\n",
    "#     [pd.DataFrame(_) for _ in \n",
    "#         (\n",
    "#             df_users_tos.apply(lambda x: reshape_tos_for_df(x['user_id'], x['feature_value']), axis='columns')\n",
    "#         ).to_list()\n",
    "#     ]\n",
    "# )\n",
    "# print(df_tos_long)"
   ]
  },
  {
   "cell_type": "markdown",
   "id": "1c3c0c9b",
   "metadata": {},
   "source": [
    "### Can we speed it up even more by running a few calculations explicitly in parallel?\n",
    "\n",
    "Hypothesis: <br>\n",
    "with `dask.delayed()` we should be able to queue and run a few jobs in parallel which _should_ speed up the `polars` calculation even more\n",
    "\n",
    "--- \n",
    "\n",
    "Actual findings:<br> \n",
    "No you can't improve when data is already in-memory [docs: https://pola-rs.github.io/polars-book/user-guide/howcani/multiprocessing.html].\n",
    "dask.delayed() is slower than pure `polars`! This is kind of shocking but maybe the dask overhead is actually too slow v. the `rust` parallelization that `polars` is doing.\n",
    "\n",
    "`dask` might still help if the workflow stars with reading `parquet` files and processing them in parallel (where each file is read and processed and saved in parallel)."
   ]
  },
  {
   "cell_type": "code",
   "execution_count": 180,
   "id": "8223154e",
   "metadata": {},
   "outputs": [
    {
     "name": "stderr",
     "output_type": "stream",
     "text": [
      "03:41:51 | INFO | \"Create DAG to calculate user<>subreddit long df in parallel...\"\n"
     ]
    },
    {
     "name": "stdout",
     "output_type": "stream",
     "text": [
      "10\n"
     ]
    },
    {
     "data": {
      "application/vnd.jupyter.widget-view+json": {
       "model_id": "50cf25a67cbf4329b79861431e5d03da",
       "version_major": 2,
       "version_minor": 0
      },
      "text/plain": [
       "  0%|          | 0/10 [00:00<?, ?it/s]"
      ]
     },
     "metadata": {},
     "output_type": "display_data"
    },
    {
     "name": "stderr",
     "output_type": "stream",
     "text": [
      "03:41:51 | INFO | \"Define df_tos_long DAG in dask\"\n",
      "03:41:51 | INFO | \"Dask visualize DAG\"\n"
     ]
    },
    {
     "data": {
      "image/png": "[encoded data removed]",
      "text/plain": [
       "<IPython.core.display.Image object>"
      ]
     },
     "metadata": {},
     "output_type": "display_data"
    },
    {
     "name": "stderr",
     "output_type": "stream",
     "text": [
      "03:41:52 | INFO | \"COMPUTE df_tos_long START\"\n",
      "03:46:46 | INFO | \"COMPUTE df_tos_long DONE\"\n"
     ]
    },
    {
     "name": "stdout",
     "output_type": "stream",
     "text": [
      "CPU times: user 4min 28s, sys: 41.1 s, total: 5min 9s\n",
      "Wall time: 4min 55s\n"
     ]
    }
   ],
   "source": [
    "%%time\n",
    "\n",
    "n_parallel_splits = 10\n",
    "\n",
    "a_user_splits = np.array_split(df_users_raw_tos['user_id'], n_parallel_splits)\n",
    "print(len(a_user_splits))\n",
    "\n",
    "l_df_long_parallel = list()\n",
    "\n",
    "info(f\"Create DAG to calculate user<>subreddit long df in parallel...\")\n",
    "for users_ in tqdm(a_user_splits):\n",
    "    # info(f\"Define lazy df...\")\n",
    "    lazy_df = (\n",
    "        dfp_users_tos\n",
    "        .lazy()\n",
    "        .filter(dfp_users_tos['user_id'].is_in(users_))\n",
    "        # .head(10000)\n",
    "        .select(\n",
    "            pl.struct(['user_id', 'feature_value'])\n",
    "            .apply(\n",
    "                lambda x: reshape_tos_for_df(x['user_id'], x['feature_value'])\n",
    "            )\n",
    "            .alias('subreddit_tos_expanded')\n",
    "        )\n",
    "        .unnest('subreddit_tos_expanded')\n",
    "    )\n",
    "    # info(f\"Append df with delayed explode with Dask\")\n",
    "    l_df_long_parallel.append(\n",
    "        dask.delayed(delayed_select_for_polars)( \n",
    "            lazy_df,\n",
    "            [\n",
    "                pl.col('user_id').arr.explode(),\n",
    "                pl.col('subreddit_id').arr.explode(),\n",
    "                pl.col('tos_pct').arr.explode(),\n",
    "            ]\n",
    "        )\n",
    "    )\n",
    "\n",
    "info(f\"Define df_tos_long DAG in dask\")\n",
    "dfp_users_tos_long_delayed = dask.delayed(pl.concat)(l_df_long_parallel, how='vertical', parallel=True)\n",
    "\n",
    "info(f\"Dask visualize DAG\")\n",
    "display(dfp_users_tos_long_delayed.visualize())\n",
    "\n",
    "info(f\"COMPUTE df_tos_long START\")\n",
    "dfp_users_tos_long = dfp_users_tos_long_delayed.compute()\n",
    "info(f\"COMPUTE df_tos_long DONE\")"
   ]
  },
  {
   "cell_type": "code",
   "execution_count": 181,
   "id": "e9837bfa",
   "metadata": {},
   "outputs": [
    {
     "name": "stderr",
     "output_type": "stream",
     "text": [
      "03:46:47 | INFO | \"Create DAG to calculate user<>subreddit long df in parallel...\"\n"
     ]
    },
    {
     "name": "stdout",
     "output_type": "stream",
     "text": [
      "4\n"
     ]
    },
    {
     "data": {
      "application/vnd.jupyter.widget-view+json": {
       "model_id": "6cdcb86c099244e88e594a249260f5f7",
       "version_major": 2,
       "version_minor": 0
      },
      "text/plain": [
       "  0%|          | 0/4 [00:00<?, ?it/s]"
      ]
     },
     "metadata": {},
     "output_type": "display_data"
    },
    {
     "name": "stderr",
     "output_type": "stream",
     "text": [
      "03:46:47 | INFO | \"Define df_tos_long DAG in dask\"\n",
      "03:46:47 | INFO | \"Dask visualize DAG\"\n"
     ]
    },
    {
     "data": {
      "image/png": "[encoded data removed]",
      "text/plain": [
       "<IPython.core.display.Image object>"
      ]
     },
     "metadata": {},
     "output_type": "display_data"
    },
    {
     "name": "stderr",
     "output_type": "stream",
     "text": [
      "03:46:47 | INFO | \"COMPUTE df_tos_long START\"\n",
      "03:52:19 | INFO | \"COMPUTE df_tos_long DONE\"\n"
     ]
    },
    {
     "name": "stdout",
     "output_type": "stream",
     "text": [
      "CPU times: user 4min 54s, sys: 50.5 s, total: 5min 45s\n",
      "Wall time: 5min 33s\n"
     ]
    }
   ],
   "source": [
    "%%time\n",
    "\n",
    "n_parallel_splits = 4\n",
    "\n",
    "a_user_splits = np.array_split(df_users_raw_tos['user_id'], n_parallel_splits)\n",
    "print(len(a_user_splits))\n",
    "\n",
    "l_df_long_parallel = list()\n",
    "\n",
    "info(f\"Create DAG to calculate user<>subreddit long df in parallel...\")\n",
    "for users_ in tqdm(a_user_splits):\n",
    "    # info(f\"Define lazy df...\")\n",
    "    lazy_df = (\n",
    "        dfp_users_tos\n",
    "        .lazy()\n",
    "        .filter(dfp_users_tos['user_id'].is_in(users_))\n",
    "        # .head(10000)\n",
    "        .select(\n",
    "            pl.struct(['user_id', 'feature_value'])\n",
    "            .apply(\n",
    "                lambda x: reshape_tos_for_df(x['user_id'], x['feature_value'])\n",
    "            )\n",
    "            .alias('subreddit_tos_expanded')\n",
    "        )\n",
    "        .unnest('subreddit_tos_expanded')\n",
    "    )\n",
    "    # info(f\"Append df with delayed explode with Dask\")\n",
    "    l_df_long_parallel.append(\n",
    "        dask.delayed(delayed_select_for_polars)( \n",
    "            lazy_df,\n",
    "            [\n",
    "                pl.col('user_id').arr.explode(),\n",
    "                pl.col('subreddit_id').arr.explode(),\n",
    "                pl.col('tos_pct').arr.explode(),\n",
    "            ]\n",
    "        )\n",
    "    )\n",
    "\n",
    "info(f\"Define df_tos_long DAG in dask\")\n",
    "dfp_users_tos_long_delayed = dask.delayed(pl.concat)(l_df_long_parallel, how='vertical', parallel=True)\n",
    "\n",
    "info(f\"Dask visualize DAG\")\n",
    "display(dfp_users_tos_long_delayed.visualize())\n",
    "\n",
    "info(f\"COMPUTE df_tos_long START\")\n",
    "dfp_users_tos_long = dfp_users_tos_long_delayed.compute()\n",
    "info(f\"COMPUTE df_tos_long DONE\")"
   ]
  },
  {
   "cell_type": "code",
   "execution_count": 182,
   "id": "7b11259e",
   "metadata": {},
   "outputs": [
    {
     "name": "stderr",
     "output_type": "stream",
     "text": [
      "03:52:20 | INFO | \"Create DAG to calculate user<>subreddit long df in parallel...\"\n"
     ]
    },
    {
     "name": "stdout",
     "output_type": "stream",
     "text": [
      "2\n"
     ]
    },
    {
     "data": {
      "application/vnd.jupyter.widget-view+json": {
       "model_id": "f572cc4a066c49f0b0610138a6a3568e",
       "version_major": 2,
       "version_minor": 0
      },
      "text/plain": [
       "  0%|          | 0/2 [00:00<?, ?it/s]"
      ]
     },
     "metadata": {},
     "output_type": "display_data"
    },
    {
     "name": "stderr",
     "output_type": "stream",
     "text": [
      "03:52:20 | INFO | \"Define df_tos_long DAG in dask\"\n",
      "03:52:20 | INFO | \"Dask visualize DAG\"\n"
     ]
    },
    {
     "data": {
      "image/png": "[encoded data removed]",
      "text/plain": [
       "<IPython.core.display.Image object>"
      ]
     },
     "metadata": {},
     "output_type": "display_data"
    },
    {
     "name": "stderr",
     "output_type": "stream",
     "text": [
      "03:52:21 | INFO | \"COMPUTE df_tos_long START\"\n",
      "03:57:55 | INFO | \"COMPUTE df_tos_long DONE\"\n"
     ]
    },
    {
     "name": "stdout",
     "output_type": "stream",
     "text": [
      "CPU times: user 4min 49s, sys: 53.8 s, total: 5min 43s\n",
      "Wall time: 5min 35s\n"
     ]
    }
   ],
   "source": [
    "%%time\n",
    "\n",
    "n_parallel_splits = 2\n",
    "\n",
    "a_user_splits = np.array_split(df_users_raw_tos['user_id'], n_parallel_splits)\n",
    "print(len(a_user_splits))\n",
    "\n",
    "l_df_long_parallel = list()\n",
    "\n",
    "info(f\"Create DAG to calculate user<>subreddit long df in parallel...\")\n",
    "for users_ in tqdm(a_user_splits):\n",
    "    # info(f\"Define lazy df...\")\n",
    "    lazy_df = (\n",
    "        dfp_users_tos\n",
    "        .lazy()\n",
    "        .filter(dfp_users_tos['user_id'].is_in(users_))\n",
    "        # .head(10000)\n",
    "        .select(\n",
    "            pl.struct(['user_id', 'feature_value'])\n",
    "            .apply(\n",
    "                lambda x: reshape_tos_for_df(x['user_id'], x['feature_value'])\n",
    "            )\n",
    "            .alias('subreddit_tos_expanded')\n",
    "        )\n",
    "        .unnest('subreddit_tos_expanded')\n",
    "    )\n",
    "    # info(f\"Append df with delayed explode with Dask\")\n",
    "    l_df_long_parallel.append(\n",
    "        dask.delayed(delayed_select_for_polars)( \n",
    "            lazy_df,\n",
    "            [\n",
    "                pl.col('user_id').arr.explode(),\n",
    "                pl.col('subreddit_id').arr.explode(),\n",
    "                pl.col('tos_pct').arr.explode(),\n",
    "            ]\n",
    "        )\n",
    "    )\n",
    "\n",
    "info(f\"Define df_tos_long DAG in dask\")\n",
    "dfp_users_tos_long_delayed = dask.delayed(pl.concat)(l_df_long_parallel, how='vertical', parallel=True)\n",
    "\n",
    "info(f\"Dask visualize DAG\")\n",
    "display(dfp_users_tos_long_delayed.visualize())\n",
    "\n",
    "info(f\"COMPUTE df_tos_long START\")\n",
    "dfp_users_tos_long = dfp_users_tos_long_delayed.compute()\n",
    "info(f\"COMPUTE df_tos_long DONE\")"
   ]
  },
  {
   "cell_type": "markdown",
   "id": "6f549cff",
   "metadata": {},
   "source": [
    "# Compute user-level weighted embedding\n",
    "\n",
    "now that we have the long df, let's compute the user-level weighted embedding (multiply weights x embedding & groupby user-id)"
   ]
  },
  {
   "cell_type": "code",
   "execution_count": 338,
   "id": "9abd714b",
   "metadata": {},
   "outputs": [
    {
     "name": "stdout",
     "output_type": "stream",
     "text": [
      "(242345, 102)\n",
      "CPU times: user 546 µs, sys: 74 µs, total: 620 µs\n",
      "Wall time: 499 µs\n"
     ]
    },
    {
     "data": {
      "text/html": [
       "<div><style>\n",
       ".dataframe > thead > tr > th,\n",
       ".dataframe > tbody > tr > td {\n",
       "  text-align: right;\n",
       "}\n",
       "</style>\n",
       "<small>shape: (5, 102)</small><table border=\"1\" class=\"dataframe\"><thead><tr><th>subreddit_name</th><th>subreddit_id</th><th>embedding_000</th><th>embedding_001</th><th>embedding_002</th><th>embedding_003</th><th>embedding_004</th><th>embedding_005</th><th>embedding_006</th><th>embedding_007</th><th>embedding_008</th><th>embedding_009</th><th>embedding_010</th><th>embedding_011</th><th>embedding_012</th><th>embedding_013</th><th>embedding_014</th><th>embedding_015</th><th>embedding_016</th><th>embedding_017</th><th>embedding_018</th><th>embedding_019</th><th>embedding_020</th><th>embedding_021</th><th>embedding_022</th><th>embedding_023</th><th>embedding_024</th><th>embedding_025</th><th>embedding_026</th><th>embedding_027</th><th>embedding_028</th><th>embedding_029</th><th>embedding_030</th><th>embedding_031</th><th>embedding_032</th><th>embedding_033</th><th>embedding_034</th><th>&hellip;</th><th>embedding_063</th><th>embedding_064</th><th>embedding_065</th><th>embedding_066</th><th>embedding_067</th><th>embedding_068</th><th>embedding_069</th><th>embedding_070</th><th>embedding_071</th><th>embedding_072</th><th>embedding_073</th><th>embedding_074</th><th>embedding_075</th><th>embedding_076</th><th>embedding_077</th><th>embedding_078</th><th>embedding_079</th><th>embedding_080</th><th>embedding_081</th><th>embedding_082</th><th>embedding_083</th><th>embedding_084</th><th>embedding_085</th><th>embedding_086</th><th>embedding_087</th><th>embedding_088</th><th>embedding_089</th><th>embedding_090</th><th>embedding_091</th><th>embedding_092</th><th>embedding_093</th><th>embedding_094</th><th>embedding_095</th><th>embedding_096</th><th>embedding_097</th><th>embedding_098</th><th>embedding_099</th></tr><tr><td>str</td><td>str</td><td>f64</td><td>f64</td><td>f64</td><td>f64</td><td>f64</td><td>f64</td><td>f64</td><td>f64</td><td>f64</td><td>f64</td><td>f64</td><td>f64</td><td>f64</td><td>f64</td><td>f64</td><td>f64</td><td>f64</td><td>f64</td><td>f64</td><td>f64</td><td>f64</td><td>f64</td><td>f64</td><td>f64</td><td>f64</td><td>f64</td><td>f64</td><td>f64</td><td>f64</td><td>f64</td><td>f64</td><td>f64</td><td>f64</td><td>f64</td><td>f64</td><td>&hellip;</td><td>f64</td><td>f64</td><td>f64</td><td>f64</td><td>f64</td><td>f64</td><td>f64</td><td>f64</td><td>f64</td><td>f64</td><td>f64</td><td>f64</td><td>f64</td><td>f64</td><td>f64</td><td>f64</td><td>f64</td><td>f64</td><td>f64</td><td>f64</td><td>f64</td><td>f64</td><td>f64</td><td>f64</td><td>f64</td><td>f64</td><td>f64</td><td>f64</td><td>f64</td><td>f64</td><td>f64</td><td>f64</td><td>f64</td><td>f64</td><td>f64</td><td>f64</td><td>f64</td></tr></thead><tbody><tr><td>&quot;fuckangryupvot…</td><td>&quot;t5_2ebdae&quot;</td><td>-0.458307</td><td>-0.124377</td><td>-0.45653</td><td>-0.071167</td><td>-0.129496</td><td>0.050233</td><td>-0.223523</td><td>0.419538</td><td>0.222859</td><td>0.329106</td><td>0.232815</td><td>-0.132964</td><td>0.042578</td><td>-0.187635</td><td>0.032669</td><td>-0.097246</td><td>0.248933</td><td>0.081803</td><td>0.01614</td><td>-0.059382</td><td>0.232044</td><td>-0.229108</td><td>-0.099697</td><td>0.112958</td><td>0.287998</td><td>0.143571</td><td>0.110912</td><td>-0.056861</td><td>-0.348287</td><td>0.042438</td><td>-0.163465</td><td>0.143917</td><td>-0.017838</td><td>-0.372755</td><td>0.156338</td><td>&hellip;</td><td>-0.047599</td><td>-0.009217</td><td>-0.398875</td><td>0.041359</td><td>0.169443</td><td>-0.292089</td><td>-0.06315</td><td>-0.688448</td><td>0.122539</td><td>0.701312</td><td>-0.033934</td><td>-0.126428</td><td>-0.021342</td><td>-0.058136</td><td>-0.160805</td><td>-0.233582</td><td>-0.11476</td><td>-0.207059</td><td>-0.19208</td><td>0.42188</td><td>0.12501</td><td>-0.441611</td><td>-0.209567</td><td>0.330297</td><td>-0.104124</td><td>-0.035538</td><td>0.001113</td><td>0.021887</td><td>0.220516</td><td>-0.125512</td><td>0.085734</td><td>-0.221911</td><td>0.019733</td><td>0.381804</td><td>0.106661</td><td>-0.054146</td><td>0.034587</td></tr><tr><td>&quot;fuckanik0&quot;</td><td>&quot;t5_7cp4il&quot;</td><td>-0.765715</td><td>0.048177</td><td>-0.464772</td><td>-0.094904</td><td>0.170509</td><td>-0.131328</td><td>-0.608651</td><td>0.50657</td><td>-0.167868</td><td>0.317752</td><td>-0.045055</td><td>-0.190148</td><td>-0.072024</td><td>0.014071</td><td>0.343348</td><td>-0.744289</td><td>0.395009</td><td>0.072519</td><td>0.702949</td><td>0.743473</td><td>-0.111481</td><td>-0.593468</td><td>0.225758</td><td>0.180509</td><td>0.03334</td><td>0.57731</td><td>0.152853</td><td>-0.297522</td><td>-0.067208</td><td>0.140899</td><td>-0.009258</td><td>0.44042</td><td>0.415357</td><td>-0.240831</td><td>-0.302296</td><td>&hellip;</td><td>-0.110359</td><td>0.982417</td><td>-0.008637</td><td>0.777253</td><td>0.106275</td><td>-1.126837</td><td>-0.187583</td><td>-0.202971</td><td>0.040154</td><td>0.929265</td><td>0.227556</td><td>-0.164199</td><td>0.154003</td><td>-0.003316</td><td>-0.435552</td><td>-0.549721</td><td>-0.542573</td><td>-0.058687</td><td>-0.037692</td><td>0.232936</td><td>0.410203</td><td>-0.624834</td><td>-0.135485</td><td>-0.263023</td><td>-0.24021</td><td>-0.263799</td><td>-0.076655</td><td>-0.504038</td><td>-0.020553</td><td>0.247665</td><td>0.585173</td><td>-0.315736</td><td>-0.238108</td><td>0.176526</td><td>-0.056594</td><td>0.147414</td><td>0.217591</td></tr><tr><td>&quot;fuckaroundxfin…</td><td>&quot;t5_74k0ix&quot;</td><td>-0.32704</td><td>0.062209</td><td>-0.319939</td><td>0.294506</td><td>-0.124461</td><td>0.09056</td><td>-0.484166</td><td>0.288894</td><td>-0.089349</td><td>0.539405</td><td>0.515973</td><td>0.191757</td><td>0.081771</td><td>0.226133</td><td>-0.332329</td><td>-0.011259</td><td>0.25925</td><td>0.502889</td><td>0.240677</td><td>-0.678129</td><td>0.167942</td><td>-0.227761</td><td>0.27393</td><td>0.591853</td><td>-0.184245</td><td>0.063489</td><td>0.210365</td><td>-0.298517</td><td>0.028132</td><td>-0.028993</td><td>0.322376</td><td>0.080647</td><td>0.141867</td><td>-0.548325</td><td>0.74636</td><td>&hellip;</td><td>0.06916</td><td>0.804587</td><td>0.328748</td><td>0.364194</td><td>0.094847</td><td>-0.234976</td><td>0.189123</td><td>-1.034129</td><td>-0.197767</td><td>0.463933</td><td>0.755228</td><td>-0.348137</td><td>-0.054709</td><td>-0.41518</td><td>-0.060718</td><td>-0.092904</td><td>-0.347906</td><td>-0.568953</td><td>-0.413873</td><td>0.365812</td><td>0.077475</td><td>-0.532172</td><td>-0.850686</td><td>-0.100594</td><td>0.300156</td><td>-0.035989</td><td>-0.165565</td><td>-0.08324</td><td>-0.05425</td><td>-0.15632</td><td>0.179638</td><td>-0.195231</td><td>-0.202683</td><td>0.099378</td><td>-0.128004</td><td>-0.134303</td><td>0.024317</td></tr><tr><td>&quot;fuckatlastelam…</td><td>&quot;t5_80xbhl&quot;</td><td>-0.178288</td><td>0.081076</td><td>-0.410057</td><td>-0.12773</td><td>0.033531</td><td>0.169801</td><td>-0.111686</td><td>0.408904</td><td>0.330929</td><td>0.338482</td><td>0.293508</td><td>-0.156262</td><td>0.060648</td><td>-0.354247</td><td>0.102031</td><td>-0.178883</td><td>0.113465</td><td>0.156083</td><td>0.289543</td><td>-0.021504</td><td>0.041469</td><td>-0.114685</td><td>-0.149023</td><td>0.129301</td><td>0.238067</td><td>0.154112</td><td>-0.026729</td><td>-0.236533</td><td>-0.191923</td><td>-0.271482</td><td>0.257562</td><td>0.144543</td><td>0.058647</td><td>0.082037</td><td>0.255612</td><td>&hellip;</td><td>-0.28246</td><td>0.262651</td><td>-0.021765</td><td>0.296327</td><td>-0.013709</td><td>-0.358452</td><td>-0.165951</td><td>-0.338177</td><td>0.335548</td><td>-0.057391</td><td>0.218258</td><td>-0.556176</td><td>0.305899</td><td>0.044577</td><td>-0.140355</td><td>0.039219</td><td>0.097977</td><td>0.103717</td><td>-0.067091</td><td>0.461813</td><td>0.002961</td><td>-0.529486</td><td>-0.364391</td><td>0.312557</td><td>-0.349227</td><td>-0.222136</td><td>-0.134674</td><td>-0.141264</td><td>0.055445</td><td>0.204705</td><td>0.132454</td><td>0.109335</td><td>-0.06969</td><td>0.187209</td><td>-0.162985</td><td>-0.191328</td><td>0.011768</td></tr><tr><td>&quot;fuckbabyyoda&quot;</td><td>&quot;t5_28w67l&quot;</td><td>-0.04149</td><td>0.076918</td><td>-0.334633</td><td>0.193013</td><td>-0.201677</td><td>0.389018</td><td>-0.296322</td><td>0.424271</td><td>0.287447</td><td>0.816246</td><td>0.056061</td><td>-0.149409</td><td>-0.012459</td><td>-0.466179</td><td>0.006057</td><td>-0.038889</td><td>-0.136374</td><td>0.374441</td><td>0.226364</td><td>0.325263</td><td>-0.038172</td><td>-0.38188</td><td>-0.333754</td><td>0.292132</td><td>-0.057978</td><td>0.201652</td><td>-0.034768</td><td>-0.263964</td><td>-0.56614</td><td>-0.301539</td><td>0.026314</td><td>0.418381</td><td>-0.002403</td><td>-0.13367</td><td>0.074575</td><td>&hellip;</td><td>-0.4878</td><td>0.325066</td><td>0.115601</td><td>0.090483</td><td>-0.317462</td><td>-0.346799</td><td>-0.335129</td><td>-0.168799</td><td>-0.172959</td><td>0.145278</td><td>0.144984</td><td>-0.09533</td><td>0.057932</td><td>-0.158146</td><td>-0.256</td><td>0.227123</td><td>-0.205322</td><td>0.259926</td><td>-0.287919</td><td>0.722613</td><td>0.194654</td><td>-0.356569</td><td>-0.386739</td><td>0.111503</td><td>-0.425628</td><td>-0.224383</td><td>0.44205</td><td>0.017755</td><td>-0.024017</td><td>-0.183627</td><td>0.080906</td><td>0.097281</td><td>-0.190957</td><td>-0.481026</td><td>0.016539</td><td>-0.445938</td><td>-0.052858</td></tr></tbody></table></div>"
      ],
      "text/plain": [
       "shape: (5, 102)\n",
       "┌────────────┬────────────┬────────────┬────────────┬───┬────────────┬────────────┬────────────┬────────────┐\n",
       "│ subreddit_ ┆ subreddit_ ┆ embedding_ ┆ embedding_ ┆ … ┆ embedding_ ┆ embedding_ ┆ embedding_ ┆ embedding_ │\n",
       "│ name       ┆ id         ┆ 000        ┆ 001        ┆   ┆ 096        ┆ 097        ┆ 098        ┆ 099        │\n",
       "│ ---        ┆ ---        ┆ ---        ┆ ---        ┆   ┆ ---        ┆ ---        ┆ ---        ┆ ---        │\n",
       "│ str        ┆ str        ┆ f64        ┆ f64        ┆   ┆ f64        ┆ f64        ┆ f64        ┆ f64        │\n",
       "╞════════════╪════════════╪════════════╪════════════╪═══╪════════════╪════════════╪════════════╪════════════╡\n",
       "│ fuckangryu ┆ t5_2ebdae  ┆ -0.458307  ┆ -0.124377  ┆ … ┆ 0.381804   ┆ 0.106661   ┆ -0.054146  ┆ 0.034587   │\n",
       "│ pvote      ┆            ┆            ┆            ┆   ┆            ┆            ┆            ┆            │\n",
       "│ fuckanik0  ┆ t5_7cp4il  ┆ -0.765715  ┆ 0.048177   ┆ … ┆ 0.176526   ┆ -0.056594  ┆ 0.147414   ┆ 0.217591   │\n",
       "│ fuckaround ┆ t5_74k0ix  ┆ -0.32704   ┆ 0.062209   ┆ … ┆ 0.099378   ┆ -0.128004  ┆ -0.134303  ┆ 0.024317   │\n",
       "│ xfindout   ┆            ┆            ┆            ┆   ┆            ┆            ┆            ┆            │\n",
       "│ fuckatlast ┆ t5_80xbhl  ┆ -0.178288  ┆ 0.081076   ┆ … ┆ 0.187209   ┆ -0.162985  ┆ -0.191328  ┆ 0.011768   │\n",
       "│ elamon24   ┆            ┆            ┆            ┆   ┆            ┆            ┆            ┆            │\n",
       "│ fuckbabyyo ┆ t5_28w67l  ┆ -0.04149   ┆ 0.076918   ┆ … ┆ -0.481026  ┆ 0.016539   ┆ -0.445938  ┆ -0.052858  │\n",
       "│ da         ┆            ┆            ┆            ┆   ┆            ┆            ┆            ┆            │\n",
       "└────────────┴────────────┴────────────┴────────────┴───┴────────────┴────────────┴────────────┴────────────┘"
      ]
     },
     "execution_count": 338,
     "metadata": {},
     "output_type": "execute_result"
    }
   ],
   "source": [
    "%%time\n",
    "\n",
    "print(dfp_sub_emb_wide.shape)\n",
    "dfp_sub_emb_wide.head()"
   ]
  },
  {
   "cell_type": "markdown",
   "id": "9842c76d",
   "metadata": {},
   "source": [
    "## Test on a subset"
   ]
  },
  {
   "cell_type": "code",
   "execution_count": 192,
   "id": "ec189080",
   "metadata": {},
   "outputs": [
    {
     "data": {
      "text/html": [
       "<div><style>\n",
       ".dataframe > thead > tr > th,\n",
       ".dataframe > tbody > tr > td {\n",
       "  text-align: right;\n",
       "}\n",
       "</style>\n",
       "<small>shape: (10,)</small><table border=\"1\" class=\"dataframe\"><thead><tr><th>user_id</th></tr><tr><td>str</td></tr></thead><tbody><tr><td>&quot;t2_10009m&quot;</td></tr><tr><td>&quot;t2_1000hh&quot;</td></tr><tr><td>&quot;t2_1000ih&quot;</td></tr><tr><td>&quot;t2_1000iqhd&quot;</td></tr><tr><td>&quot;t2_1001as&quot;</td></tr><tr><td>&quot;t2_1001ds&quot;</td></tr><tr><td>&quot;t2_1001ea&quot;</td></tr><tr><td>&quot;t2_1001iini&quot;</td></tr><tr><td>&quot;t2_1001l095&quot;</td></tr><tr><td>&quot;t2_1001ru&quot;</td></tr></tbody></table></div>"
      ],
      "text/plain": [
       "shape: (10,)\n",
       "Series: 'user_id' [str]\n",
       "[\n",
       "\t\"t2_10009m\"\n",
       "\t\"t2_1000hh\"\n",
       "\t\"t2_1000ih\"\n",
       "\t\"t2_1000iqhd\"\n",
       "\t\"t2_1001as\"\n",
       "\t\"t2_1001ds\"\n",
       "\t\"t2_1001ea\"\n",
       "\t\"t2_1001iini\"\n",
       "\t\"t2_1001l095\"\n",
       "\t\"t2_1001ru\"\n",
       "]"
      ]
     },
     "execution_count": 192,
     "metadata": {},
     "output_type": "execute_result"
    }
   ],
   "source": [
    "sample_users = dfp_users_tos['user_id'].unique().sort()[:100]\n",
    "sample_users.head()"
   ]
  },
  {
   "cell_type": "code",
   "execution_count": null,
   "id": "47a50931",
   "metadata": {},
   "outputs": [],
   "source": []
  },
  {
   "cell_type": "code",
   "execution_count": 393,
   "id": "8e9dfd85",
   "metadata": {},
   "outputs": [
    {
     "name": "stderr",
     "output_type": "stream",
     "text": [
      "07:03:29 | INFO | \"Append subreddit embeddings to user ToS\"\n",
      "07:03:31 | INFO | \"Compute weighted avg embedding for user-level\"\n",
      "07:03:31 | INFO | \"Compute AGGREGATED user-level embedding...\"\n"
     ]
    },
    {
     "name": "stdout",
     "output_type": "stream",
     "text": [
      "(20683, 100)\n",
      "(100, 101)\n",
      "CPU times: user 4.34 s, sys: 204 ms, total: 4.54 s\n",
      "Wall time: 2.36 s\n"
     ]
    }
   ],
   "source": [
    "%%time\n",
    "\n",
    "info(f\"Append subreddit embeddings to user ToS\")\n",
    "dfp_user_emb_tmp_test = (\n",
    "    dfp_users_tos_long\n",
    "    .filter(\n",
    "        dfp_users_tos_long['user_id'].is_in(sample_users)\n",
    "    )\n",
    "    .join(\n",
    "        dfp_sub_emb_wide.drop('subreddit_name'),\n",
    "        how='left',\n",
    "        on=['subreddit_id']\n",
    "    )\n",
    ")\n",
    "\n",
    "info(f\"Compute weighted avg embedding for user-level\")\n",
    "df_user_emb_tmp_test = pd.DataFrame(\n",
    "    ((dfp_user_emb_tmp_test['tos_pct'].to_numpy()) * dfp_user_emb_tmp_test[l_emb_cols].to_numpy().T).T,\n",
    "    index=pd.MultiIndex.from_frame(dfp_user_emb_tmp_test[['user_id', 'subreddit_id', 'tos_pct']].to_pandas()),\n",
    "    columns=l_emb_cols,\n",
    ")\n",
    "\n",
    "print(df_user_emb_tmp_test.shape)\n",
    "\n",
    "info(f\"Compute AGGREGATED user-level embedding...\")\n",
    "dfp_user_emb_test = (\n",
    "    pl.DataFrame(df_user_emb_tmp_test.dropna(how='any').reset_index())\n",
    "    .groupby(\n",
    "        ['user_id']\n",
    "    )\n",
    "    .agg(\n",
    "        [\n",
    "            pl.col(l_emb_cols).mean()\n",
    "        ]\n",
    "    )\n",
    ")\n",
    "print(dfp_user_emb_test.shape)"
   ]
  },
  {
   "cell_type": "code",
   "execution_count": 391,
   "id": "9dc18b0a",
   "metadata": {},
   "outputs": [
    {
     "data": {
      "text/html": [
       "<div>\n",
       "<style scoped>\n",
       "    .dataframe tbody tr th:only-of-type {\n",
       "        vertical-align: middle;\n",
       "    }\n",
       "\n",
       "    .dataframe tbody tr th {\n",
       "        vertical-align: top;\n",
       "    }\n",
       "\n",
       "    .dataframe thead th {\n",
       "        text-align: right;\n",
       "    }\n",
       "</style>\n",
       "<table border=\"1\" class=\"dataframe\">\n",
       "  <thead>\n",
       "    <tr style=\"text-align: right;\">\n",
       "      <th></th>\n",
       "      <th>user_id</th>\n",
       "      <th>subreddit_id</th>\n",
       "      <th>tos_pct</th>\n",
       "      <th>embedding_000</th>\n",
       "      <th>embedding_001</th>\n",
       "      <th>embedding_002</th>\n",
       "      <th>embedding_003</th>\n",
       "      <th>embedding_004</th>\n",
       "      <th>embedding_005</th>\n",
       "      <th>embedding_006</th>\n",
       "      <th>embedding_007</th>\n",
       "      <th>embedding_008</th>\n",
       "      <th>embedding_009</th>\n",
       "      <th>embedding_010</th>\n",
       "      <th>embedding_011</th>\n",
       "      <th>embedding_012</th>\n",
       "      <th>embedding_013</th>\n",
       "      <th>embedding_014</th>\n",
       "      <th>embedding_015</th>\n",
       "      <th>embedding_016</th>\n",
       "      <th>embedding_017</th>\n",
       "      <th>embedding_018</th>\n",
       "      <th>embedding_019</th>\n",
       "      <th>embedding_020</th>\n",
       "      <th>embedding_021</th>\n",
       "      <th>embedding_022</th>\n",
       "      <th>embedding_023</th>\n",
       "      <th>embedding_024</th>\n",
       "      <th>embedding_025</th>\n",
       "      <th>embedding_026</th>\n",
       "      <th>...</th>\n",
       "      <th>embedding_070</th>\n",
       "      <th>embedding_071</th>\n",
       "      <th>embedding_072</th>\n",
       "      <th>embedding_073</th>\n",
       "      <th>embedding_074</th>\n",
       "      <th>embedding_075</th>\n",
       "      <th>embedding_076</th>\n",
       "      <th>embedding_077</th>\n",
       "      <th>embedding_078</th>\n",
       "      <th>embedding_079</th>\n",
       "      <th>embedding_080</th>\n",
       "      <th>embedding_081</th>\n",
       "      <th>embedding_082</th>\n",
       "      <th>embedding_083</th>\n",
       "      <th>embedding_084</th>\n",
       "      <th>embedding_085</th>\n",
       "      <th>embedding_086</th>\n",
       "      <th>embedding_087</th>\n",
       "      <th>embedding_088</th>\n",
       "      <th>embedding_089</th>\n",
       "      <th>embedding_090</th>\n",
       "      <th>embedding_091</th>\n",
       "      <th>embedding_092</th>\n",
       "      <th>embedding_093</th>\n",
       "      <th>embedding_094</th>\n",
       "      <th>embedding_095</th>\n",
       "      <th>embedding_096</th>\n",
       "      <th>embedding_097</th>\n",
       "      <th>embedding_098</th>\n",
       "      <th>embedding_099</th>\n",
       "    </tr>\n",
       "  </thead>\n",
       "  <tbody>\n",
       "    <tr>\n",
       "      <th>0</th>\n",
       "      <td>t2_1007zc</td>\n",
       "      <td>t5_74is2</td>\n",
       "      <td>0.00022</td>\n",
       "      <td>-0.000091</td>\n",
       "      <td>0.000026</td>\n",
       "      <td>0.000071</td>\n",
       "      <td>-0.000007</td>\n",
       "      <td>-6.560965e-05</td>\n",
       "      <td>0.000026</td>\n",
       "      <td>0.000003</td>\n",
       "      <td>0.000010</td>\n",
       "      <td>0.000040</td>\n",
       "      <td>0.000047</td>\n",
       "      <td>-5.361350e-05</td>\n",
       "      <td>-9.533796e-05</td>\n",
       "      <td>0.000089</td>\n",
       "      <td>0.000016</td>\n",
       "      <td>-0.000008</td>\n",
       "      <td>0.000013</td>\n",
       "      <td>0.000038</td>\n",
       "      <td>0.000055</td>\n",
       "      <td>-0.000082</td>\n",
       "      <td>0.000013</td>\n",
       "      <td>-3.510821e-05</td>\n",
       "      <td>-0.000038</td>\n",
       "      <td>0.000066</td>\n",
       "      <td>2.006880e-05</td>\n",
       "      <td>0.000080</td>\n",
       "      <td>-0.000010</td>\n",
       "      <td>0.000023</td>\n",
       "      <td>...</td>\n",
       "      <td>-7.341610e-05</td>\n",
       "      <td>-0.000017</td>\n",
       "      <td>0.000144</td>\n",
       "      <td>-0.000084</td>\n",
       "      <td>-9.232126e-05</td>\n",
       "      <td>-1.367724e-04</td>\n",
       "      <td>0.000103</td>\n",
       "      <td>-0.000065</td>\n",
       "      <td>-0.000065</td>\n",
       "      <td>-0.000061</td>\n",
       "      <td>-0.000038</td>\n",
       "      <td>-0.000050</td>\n",
       "      <td>0.000194</td>\n",
       "      <td>0.000079</td>\n",
       "      <td>-0.000086</td>\n",
       "      <td>-0.000024</td>\n",
       "      <td>-0.000019</td>\n",
       "      <td>-0.000161</td>\n",
       "      <td>-0.000067</td>\n",
       "      <td>-0.000024</td>\n",
       "      <td>-0.000026</td>\n",
       "      <td>0.000070</td>\n",
       "      <td>-0.000050</td>\n",
       "      <td>-9.114684e-07</td>\n",
       "      <td>-0.000063</td>\n",
       "      <td>0.000003</td>\n",
       "      <td>0.000119</td>\n",
       "      <td>0.000087</td>\n",
       "      <td>1.415436e-07</td>\n",
       "      <td>6.047911e-05</td>\n",
       "    </tr>\n",
       "    <tr>\n",
       "      <th>1</th>\n",
       "      <td>t2_1007zc</td>\n",
       "      <td>t5_2tugx</td>\n",
       "      <td>0.00415</td>\n",
       "      <td>-0.000500</td>\n",
       "      <td>-0.001063</td>\n",
       "      <td>-0.001482</td>\n",
       "      <td>0.000974</td>\n",
       "      <td>9.975503e-04</td>\n",
       "      <td>0.000941</td>\n",
       "      <td>-0.000395</td>\n",
       "      <td>0.000030</td>\n",
       "      <td>-0.000200</td>\n",
       "      <td>0.002109</td>\n",
       "      <td>-1.210279e-03</td>\n",
       "      <td>-1.948826e-04</td>\n",
       "      <td>0.000377</td>\n",
       "      <td>0.002199</td>\n",
       "      <td>0.000895</td>\n",
       "      <td>0.001248</td>\n",
       "      <td>-0.000901</td>\n",
       "      <td>0.000631</td>\n",
       "      <td>-0.000939</td>\n",
       "      <td>0.001325</td>\n",
       "      <td>7.893471e-04</td>\n",
       "      <td>0.002068</td>\n",
       "      <td>0.002938</td>\n",
       "      <td>1.538133e-04</td>\n",
       "      <td>0.001569</td>\n",
       "      <td>0.000670</td>\n",
       "      <td>-0.000084</td>\n",
       "      <td>...</td>\n",
       "      <td>-1.173005e-03</td>\n",
       "      <td>-0.000740</td>\n",
       "      <td>0.001624</td>\n",
       "      <td>-0.000778</td>\n",
       "      <td>-1.945731e-03</td>\n",
       "      <td>-8.235359e-04</td>\n",
       "      <td>-0.000533</td>\n",
       "      <td>-0.002327</td>\n",
       "      <td>-0.000132</td>\n",
       "      <td>-0.001407</td>\n",
       "      <td>0.001388</td>\n",
       "      <td>-0.000636</td>\n",
       "      <td>0.001915</td>\n",
       "      <td>-0.000525</td>\n",
       "      <td>-0.002134</td>\n",
       "      <td>-0.001096</td>\n",
       "      <td>0.002648</td>\n",
       "      <td>-0.001380</td>\n",
       "      <td>-0.000345</td>\n",
       "      <td>0.000318</td>\n",
       "      <td>-0.000796</td>\n",
       "      <td>0.000947</td>\n",
       "      <td>0.000169</td>\n",
       "      <td>-2.498080e-03</td>\n",
       "      <td>-0.000273</td>\n",
       "      <td>-0.000537</td>\n",
       "      <td>0.000674</td>\n",
       "      <td>0.002329</td>\n",
       "      <td>5.402831e-04</td>\n",
       "      <td>1.530332e-03</td>\n",
       "    </tr>\n",
       "    <tr>\n",
       "      <th>2</th>\n",
       "      <td>t2_1007zc</td>\n",
       "      <td>t5_2ti4h</td>\n",
       "      <td>0.00002</td>\n",
       "      <td>-0.000007</td>\n",
       "      <td>0.000002</td>\n",
       "      <td>0.000002</td>\n",
       "      <td>-0.000003</td>\n",
       "      <td>8.026237e-07</td>\n",
       "      <td>0.000004</td>\n",
       "      <td>-0.000004</td>\n",
       "      <td>0.000003</td>\n",
       "      <td>0.000008</td>\n",
       "      <td>0.000008</td>\n",
       "      <td>9.179319e-07</td>\n",
       "      <td>4.666671e-07</td>\n",
       "      <td>0.000002</td>\n",
       "      <td>0.000006</td>\n",
       "      <td>-0.000004</td>\n",
       "      <td>-0.000005</td>\n",
       "      <td>-0.000002</td>\n",
       "      <td>0.000004</td>\n",
       "      <td>-0.000003</td>\n",
       "      <td>-0.000002</td>\n",
       "      <td>-5.409674e-07</td>\n",
       "      <td>0.000002</td>\n",
       "      <td>0.000009</td>\n",
       "      <td>3.471791e-08</td>\n",
       "      <td>0.000005</td>\n",
       "      <td>-0.000002</td>\n",
       "      <td>-0.000002</td>\n",
       "      <td>...</td>\n",
       "      <td>-8.805995e-07</td>\n",
       "      <td>0.000004</td>\n",
       "      <td>0.000004</td>\n",
       "      <td>-0.000003</td>\n",
       "      <td>1.391058e-07</td>\n",
       "      <td>1.007795e-07</td>\n",
       "      <td>0.000003</td>\n",
       "      <td>-0.000009</td>\n",
       "      <td>-0.000004</td>\n",
       "      <td>-0.000006</td>\n",
       "      <td>-0.000004</td>\n",
       "      <td>-0.000001</td>\n",
       "      <td>0.000005</td>\n",
       "      <td>-0.000004</td>\n",
       "      <td>-0.000006</td>\n",
       "      <td>-0.000009</td>\n",
       "      <td>0.000004</td>\n",
       "      <td>0.000003</td>\n",
       "      <td>-0.000001</td>\n",
       "      <td>-0.000001</td>\n",
       "      <td>0.000005</td>\n",
       "      <td>0.000010</td>\n",
       "      <td>0.000002</td>\n",
       "      <td>-8.830593e-06</td>\n",
       "      <td>0.000002</td>\n",
       "      <td>-0.000004</td>\n",
       "      <td>0.000002</td>\n",
       "      <td>0.000009</td>\n",
       "      <td>3.274852e-07</td>\n",
       "      <td>-6.975008e-07</td>\n",
       "    </tr>\n",
       "    <tr>\n",
       "      <th>3</th>\n",
       "      <td>t2_1007zc</td>\n",
       "      <td>t5_2s5fh</td>\n",
       "      <td>0.00098</td>\n",
       "      <td>-0.000395</td>\n",
       "      <td>-0.000258</td>\n",
       "      <td>-0.000219</td>\n",
       "      <td>-0.000144</td>\n",
       "      <td>-1.913279e-04</td>\n",
       "      <td>0.000315</td>\n",
       "      <td>-0.000204</td>\n",
       "      <td>-0.000134</td>\n",
       "      <td>0.000310</td>\n",
       "      <td>0.000552</td>\n",
       "      <td>-3.238415e-04</td>\n",
       "      <td>-1.435382e-04</td>\n",
       "      <td>-0.000059</td>\n",
       "      <td>-0.000118</td>\n",
       "      <td>-0.000069</td>\n",
       "      <td>0.000184</td>\n",
       "      <td>0.000064</td>\n",
       "      <td>0.000223</td>\n",
       "      <td>-0.000098</td>\n",
       "      <td>-0.000024</td>\n",
       "      <td>3.372855e-04</td>\n",
       "      <td>0.000264</td>\n",
       "      <td>0.000479</td>\n",
       "      <td>2.864471e-04</td>\n",
       "      <td>0.000259</td>\n",
       "      <td>0.000116</td>\n",
       "      <td>0.000487</td>\n",
       "      <td>...</td>\n",
       "      <td>-4.535730e-05</td>\n",
       "      <td>0.000452</td>\n",
       "      <td>0.000469</td>\n",
       "      <td>-0.000022</td>\n",
       "      <td>-5.026363e-04</td>\n",
       "      <td>-2.444271e-04</td>\n",
       "      <td>0.000003</td>\n",
       "      <td>0.000013</td>\n",
       "      <td>-0.000082</td>\n",
       "      <td>-0.000049</td>\n",
       "      <td>-0.000243</td>\n",
       "      <td>0.000006</td>\n",
       "      <td>0.000657</td>\n",
       "      <td>0.000082</td>\n",
       "      <td>-0.000023</td>\n",
       "      <td>-0.000384</td>\n",
       "      <td>-0.000134</td>\n",
       "      <td>-0.000052</td>\n",
       "      <td>-0.000049</td>\n",
       "      <td>-0.000271</td>\n",
       "      <td>0.000541</td>\n",
       "      <td>0.000242</td>\n",
       "      <td>-0.000140</td>\n",
       "      <td>-5.580552e-04</td>\n",
       "      <td>-0.000054</td>\n",
       "      <td>-0.000527</td>\n",
       "      <td>0.000377</td>\n",
       "      <td>-0.000066</td>\n",
       "      <td>-1.291097e-04</td>\n",
       "      <td>6.377690e-04</td>\n",
       "    </tr>\n",
       "  </tbody>\n",
       "</table>\n",
       "<p>4 rows × 103 columns</p>\n",
       "</div>"
      ],
      "text/plain": [
       "     user_id subreddit_id  tos_pct  embedding_000  embedding_001  embedding_002  embedding_003  embedding_004  embedding_005  embedding_006  embedding_007  embedding_008  embedding_009  embedding_010  embedding_011  embedding_012  embedding_013  embedding_014  embedding_015  embedding_016  \\\n",
       "0  t2_1007zc     t5_74is2  0.00022      -0.000091       0.000026       0.000071      -0.000007  -6.560965e-05       0.000026       0.000003       0.000010       0.000040       0.000047  -5.361350e-05  -9.533796e-05       0.000089       0.000016      -0.000008       0.000013       0.000038   \n",
       "1  t2_1007zc     t5_2tugx  0.00415      -0.000500      -0.001063      -0.001482       0.000974   9.975503e-04       0.000941      -0.000395       0.000030      -0.000200       0.002109  -1.210279e-03  -1.948826e-04       0.000377       0.002199       0.000895       0.001248      -0.000901   \n",
       "2  t2_1007zc     t5_2ti4h  0.00002      -0.000007       0.000002       0.000002      -0.000003   8.026237e-07       0.000004      -0.000004       0.000003       0.000008       0.000008   9.179319e-07   4.666671e-07       0.000002       0.000006      -0.000004      -0.000005      -0.000002   \n",
       "3  t2_1007zc     t5_2s5fh  0.00098      -0.000395      -0.000258      -0.000219      -0.000144  -1.913279e-04       0.000315      -0.000204      -0.000134       0.000310       0.000552  -3.238415e-04  -1.435382e-04      -0.000059      -0.000118      -0.000069       0.000184       0.000064   \n",
       "\n",
       "   embedding_017  embedding_018  embedding_019  embedding_020  embedding_021  embedding_022  embedding_023  embedding_024  embedding_025  embedding_026  ...  embedding_070  embedding_071  embedding_072  embedding_073  embedding_074  embedding_075  embedding_076  embedding_077  embedding_078  \\\n",
       "0       0.000055      -0.000082       0.000013  -3.510821e-05      -0.000038       0.000066   2.006880e-05       0.000080      -0.000010       0.000023  ...  -7.341610e-05      -0.000017       0.000144      -0.000084  -9.232126e-05  -1.367724e-04       0.000103      -0.000065      -0.000065   \n",
       "1       0.000631      -0.000939       0.001325   7.893471e-04       0.002068       0.002938   1.538133e-04       0.001569       0.000670      -0.000084  ...  -1.173005e-03      -0.000740       0.001624      -0.000778  -1.945731e-03  -8.235359e-04      -0.000533      -0.002327      -0.000132   \n",
       "2       0.000004      -0.000003      -0.000002  -5.409674e-07       0.000002       0.000009   3.471791e-08       0.000005      -0.000002      -0.000002  ...  -8.805995e-07       0.000004       0.000004      -0.000003   1.391058e-07   1.007795e-07       0.000003      -0.000009      -0.000004   \n",
       "3       0.000223      -0.000098      -0.000024   3.372855e-04       0.000264       0.000479   2.864471e-04       0.000259       0.000116       0.000487  ...  -4.535730e-05       0.000452       0.000469      -0.000022  -5.026363e-04  -2.444271e-04       0.000003       0.000013      -0.000082   \n",
       "\n",
       "   embedding_079  embedding_080  embedding_081  embedding_082  embedding_083  embedding_084  embedding_085  embedding_086  embedding_087  embedding_088  embedding_089  embedding_090  embedding_091  embedding_092  embedding_093  embedding_094  embedding_095  embedding_096  embedding_097  \\\n",
       "0      -0.000061      -0.000038      -0.000050       0.000194       0.000079      -0.000086      -0.000024      -0.000019      -0.000161      -0.000067      -0.000024      -0.000026       0.000070      -0.000050  -9.114684e-07      -0.000063       0.000003       0.000119       0.000087   \n",
       "1      -0.001407       0.001388      -0.000636       0.001915      -0.000525      -0.002134      -0.001096       0.002648      -0.001380      -0.000345       0.000318      -0.000796       0.000947       0.000169  -2.498080e-03      -0.000273      -0.000537       0.000674       0.002329   \n",
       "2      -0.000006      -0.000004      -0.000001       0.000005      -0.000004      -0.000006      -0.000009       0.000004       0.000003      -0.000001      -0.000001       0.000005       0.000010       0.000002  -8.830593e-06       0.000002      -0.000004       0.000002       0.000009   \n",
       "3      -0.000049      -0.000243       0.000006       0.000657       0.000082      -0.000023      -0.000384      -0.000134      -0.000052      -0.000049      -0.000271       0.000541       0.000242      -0.000140  -5.580552e-04      -0.000054      -0.000527       0.000377      -0.000066   \n",
       "\n",
       "   embedding_098  embedding_099  \n",
       "0   1.415436e-07   6.047911e-05  \n",
       "1   5.402831e-04   1.530332e-03  \n",
       "2   3.274852e-07  -6.975008e-07  \n",
       "3  -1.291097e-04   6.377690e-04  \n",
       "\n",
       "[4 rows x 103 columns]"
      ]
     },
     "execution_count": 391,
     "metadata": {},
     "output_type": "execute_result"
    }
   ],
   "source": [
    "df_user_emb_tmp_test.head().dropna(how='any').reset_index()"
   ]
  },
  {
   "cell_type": "code",
   "execution_count": 394,
   "id": "83d8dc89",
   "metadata": {},
   "outputs": [
    {
     "data": {
      "text/html": [
       "<div><style>\n",
       ".dataframe > thead > tr > th,\n",
       ".dataframe > tbody > tr > td {\n",
       "  text-align: right;\n",
       "}\n",
       "</style>\n",
       "<small>shape: (5, 101)</small><table border=\"1\" class=\"dataframe\"><thead><tr><th>user_id</th><th>embedding_000</th><th>embedding_001</th><th>embedding_002</th><th>embedding_003</th><th>embedding_004</th><th>embedding_005</th><th>embedding_006</th><th>embedding_007</th><th>embedding_008</th><th>embedding_009</th><th>embedding_010</th><th>embedding_011</th><th>embedding_012</th><th>embedding_013</th><th>embedding_014</th><th>embedding_015</th><th>embedding_016</th><th>embedding_017</th><th>embedding_018</th><th>embedding_019</th><th>embedding_020</th><th>embedding_021</th><th>embedding_022</th><th>embedding_023</th><th>embedding_024</th><th>embedding_025</th><th>embedding_026</th><th>embedding_027</th><th>embedding_028</th><th>embedding_029</th><th>embedding_030</th><th>embedding_031</th><th>embedding_032</th><th>embedding_033</th><th>embedding_034</th><th>embedding_035</th><th>&hellip;</th><th>embedding_063</th><th>embedding_064</th><th>embedding_065</th><th>embedding_066</th><th>embedding_067</th><th>embedding_068</th><th>embedding_069</th><th>embedding_070</th><th>embedding_071</th><th>embedding_072</th><th>embedding_073</th><th>embedding_074</th><th>embedding_075</th><th>embedding_076</th><th>embedding_077</th><th>embedding_078</th><th>embedding_079</th><th>embedding_080</th><th>embedding_081</th><th>embedding_082</th><th>embedding_083</th><th>embedding_084</th><th>embedding_085</th><th>embedding_086</th><th>embedding_087</th><th>embedding_088</th><th>embedding_089</th><th>embedding_090</th><th>embedding_091</th><th>embedding_092</th><th>embedding_093</th><th>embedding_094</th><th>embedding_095</th><th>embedding_096</th><th>embedding_097</th><th>embedding_098</th><th>embedding_099</th></tr><tr><td>str</td><td>f64</td><td>f64</td><td>f64</td><td>f64</td><td>f64</td><td>f64</td><td>f64</td><td>f64</td><td>f64</td><td>f64</td><td>f64</td><td>f64</td><td>f64</td><td>f64</td><td>f64</td><td>f64</td><td>f64</td><td>f64</td><td>f64</td><td>f64</td><td>f64</td><td>f64</td><td>f64</td><td>f64</td><td>f64</td><td>f64</td><td>f64</td><td>f64</td><td>f64</td><td>f64</td><td>f64</td><td>f64</td><td>f64</td><td>f64</td><td>f64</td><td>f64</td><td>&hellip;</td><td>f64</td><td>f64</td><td>f64</td><td>f64</td><td>f64</td><td>f64</td><td>f64</td><td>f64</td><td>f64</td><td>f64</td><td>f64</td><td>f64</td><td>f64</td><td>f64</td><td>f64</td><td>f64</td><td>f64</td><td>f64</td><td>f64</td><td>f64</td><td>f64</td><td>f64</td><td>f64</td><td>f64</td><td>f64</td><td>f64</td><td>f64</td><td>f64</td><td>f64</td><td>f64</td><td>f64</td><td>f64</td><td>f64</td><td>f64</td><td>f64</td><td>f64</td><td>f64</td></tr></thead><tbody><tr><td>&quot;t2_1001as&quot;</td><td>-0.000905</td><td>0.000138</td><td>-0.000834</td><td>0.000226</td><td>-0.000317</td><td>0.000419</td><td>-0.000049</td><td>0.000207</td><td>0.000955</td><td>0.000966</td><td>-0.000375</td><td>0.000083</td><td>0.000021</td><td>0.000357</td><td>-0.000683</td><td>-0.000911</td><td>-0.000267</td><td>0.000932</td><td>-0.00011</td><td>-0.000335</td><td>-0.000147</td><td>0.00019</td><td>0.000709</td><td>0.000443</td><td>0.000922</td><td>-0.000311</td><td>0.000018</td><td>-0.000869</td><td>-0.00111</td><td>-0.000599</td><td>-0.000354</td><td>-0.000422</td><td>-0.00016</td><td>-0.000078</td><td>-0.000061</td><td>0.000111</td><td>&hellip;</td><td>-0.000067</td><td>0.000453</td><td>-0.000187</td><td>-0.000423</td><td>0.000304</td><td>0.000008</td><td>0.000119</td><td>-0.000641</td><td>0.000642</td><td>0.000721</td><td>-0.00033</td><td>-0.000015</td><td>-0.000316</td><td>0.000753</td><td>-0.000272</td><td>-0.000668</td><td>-0.000373</td><td>-0.000357</td><td>-0.000345</td><td>0.001094</td><td>-0.000217</td><td>-0.000314</td><td>-0.000971</td><td>0.000205</td><td>-0.000057</td><td>-0.000223</td><td>-0.000454</td><td>0.000746</td><td>0.000738</td><td>0.000143</td><td>-0.000518</td><td>-0.000458</td><td>-0.000343</td><td>0.000349</td><td>0.000898</td><td>-0.000202</td><td>0.000416</td></tr><tr><td>&quot;t2_10026ivz&quot;</td><td>-0.001845</td><td>-0.000204</td><td>-0.001654</td><td>0.000593</td><td>0.00121</td><td>0.000649</td><td>0.000292</td><td>0.00058</td><td>0.002385</td><td>0.002097</td><td>-0.000733</td><td>-0.000903</td><td>-0.000056</td><td>0.000088</td><td>0.000036</td><td>-0.000732</td><td>-0.001066</td><td>0.001584</td><td>-0.000898</td><td>0.000339</td><td>-0.000052</td><td>0.001347</td><td>0.002344</td><td>-0.000105</td><td>0.001</td><td>0.000273</td><td>0.000422</td><td>-0.001675</td><td>-0.002016</td><td>-0.00067</td><td>0.000036</td><td>-0.001372</td><td>-0.000361</td><td>-0.000471</td><td>-0.000398</td><td>-0.0003</td><td>&hellip;</td><td>-0.00145</td><td>0.001107</td><td>0.000757</td><td>0.000576</td><td>0.000659</td><td>0.000797</td><td>0.000493</td><td>-0.001049</td><td>0.001063</td><td>0.001124</td><td>0.000116</td><td>-0.001332</td><td>-0.000686</td><td>0.000871</td><td>-0.001186</td><td>-0.000653</td><td>-0.001172</td><td>-0.000325</td><td>-0.000527</td><td>0.002753</td><td>-0.001822</td><td>-0.001738</td><td>-0.002184</td><td>0.001487</td><td>-0.001997</td><td>-0.00121</td><td>-0.000175</td><td>-0.000171</td><td>0.001966</td><td>0.000243</td><td>-0.000439</td><td>-0.000562</td><td>-0.000781</td><td>0.001026</td><td>0.002041</td><td>-0.000998</td><td>0.000264</td></tr><tr><td>&quot;t2_100itq&quot;</td><td>-0.001219</td><td>0.000435</td><td>-0.001542</td><td>-0.000059</td><td>0.000229</td><td>0.001533</td><td>0.000054</td><td>0.000522</td><td>0.001536</td><td>0.002622</td><td>0.000088</td><td>-0.000571</td><td>0.000478</td><td>0.000515</td><td>-0.00117</td><td>-0.000967</td><td>-0.000518</td><td>0.001614</td><td>-0.000314</td><td>0.00003</td><td>-0.0001</td><td>0.000414</td><td>0.001726</td><td>0.000595</td><td>0.001377</td><td>-0.000107</td><td>-0.000502</td><td>-0.001091</td><td>-0.001863</td><td>-0.000541</td><td>-0.000451</td><td>-0.001144</td><td>-0.000071</td><td>0.000054</td><td>-0.000154</td><td>0.000209</td><td>&hellip;</td><td>-0.000641</td><td>0.000762</td><td>0.00001</td><td>0.000426</td><td>0.000143</td><td>-0.000315</td><td>-0.000295</td><td>-0.000641</td><td>0.001227</td><td>0.0006</td><td>-0.000389</td><td>-0.000521</td><td>-0.00026</td><td>0.000838</td><td>-0.000503</td><td>-0.001242</td><td>-0.001027</td><td>-0.000749</td><td>-0.000019</td><td>0.00123</td><td>-0.000653</td><td>-0.001892</td><td>-0.001511</td><td>0.000155</td><td>-0.001189</td><td>-0.000077</td><td>-0.000506</td><td>0.000443</td><td>0.001434</td><td>0.000833</td><td>-0.001041</td><td>-0.000341</td><td>-0.00135</td><td>0.000161</td><td>0.001525</td><td>-0.000765</td><td>0.000422</td></tr><tr><td>&quot;t2_100eeu&quot;</td><td>-0.001378</td><td>0.000938</td><td>-0.003151</td><td>0.000106</td><td>0.00124</td><td>0.001163</td><td>0.000517</td><td>0.002396</td><td>0.001953</td><td>0.00308</td><td>-0.001079</td><td>0.000157</td><td>0.001084</td><td>0.001114</td><td>-0.002217</td><td>-0.001585</td><td>-0.001059</td><td>0.001494</td><td>-0.000235</td><td>-0.000365</td><td>0.000952</td><td>-0.000733</td><td>0.001386</td><td>0.001261</td><td>0.001486</td><td>-0.001064</td><td>-0.000862</td><td>-0.000793</td><td>-0.000896</td><td>0.000218</td><td>-0.001</td><td>-0.002262</td><td>-0.001114</td><td>-0.00029</td><td>-0.000185</td><td>0.000675</td><td>&hellip;</td><td>-0.001496</td><td>0.001414</td><td>0.000264</td><td>0.000633</td><td>0.002906</td><td>-0.000438</td><td>-0.00116</td><td>-0.000807</td><td>0.001112</td><td>-0.000405</td><td>-0.001043</td><td>-0.000084</td><td>-0.001186</td><td>0.002625</td><td>-0.000271</td><td>-0.001356</td><td>-0.001815</td><td>0.000547</td><td>0.000397</td><td>0.001815</td><td>-0.000773</td><td>-0.003433</td><td>-0.001321</td><td>0.000302</td><td>0.00051</td><td>0.000368</td><td>-0.001824</td><td>-0.000033</td><td>0.003442</td><td>0.000464</td><td>-0.001549</td><td>-0.000531</td><td>-0.001313</td><td>0.001126</td><td>0.003106</td><td>0.001374</td><td>0.001743</td></tr><tr><td>&quot;t2_1003i8&quot;</td><td>-0.000087</td><td>0.000809</td><td>-0.000388</td><td>0.000215</td><td>0.000265</td><td>0.000618</td><td>0.000589</td><td>0.000361</td><td>0.001131</td><td>0.001965</td><td>0.000122</td><td>-0.000504</td><td>0.000632</td><td>0.001205</td><td>-0.00058</td><td>-0.000586</td><td>-0.000751</td><td>0.00083</td><td>0.000123</td><td>-0.001236</td><td>-0.000018</td><td>0.000135</td><td>0.001537</td><td>0.000213</td><td>0.001181</td><td>-0.000065</td><td>0.000351</td><td>-0.000815</td><td>-0.001072</td><td>-0.000222</td><td>0.000114</td><td>-0.001267</td><td>0.000325</td><td>-0.00056</td><td>-0.001116</td><td>-0.000624</td><td>&hellip;</td><td>-0.000676</td><td>0.001426</td><td>0.001258</td><td>0.000515</td><td>0.000261</td><td>-0.0003</td><td>0.000257</td><td>-0.000591</td><td>0.000228</td><td>0.000542</td><td>0.000008</td><td>-0.000856</td><td>-0.00064</td><td>0.001066</td><td>-0.000923</td><td>-0.000636</td><td>-0.001021</td><td>-0.000285</td><td>0.000027</td><td>0.001614</td><td>-0.000801</td><td>-0.001666</td><td>-0.001281</td><td>0.000253</td><td>-0.000679</td><td>-0.000897</td><td>-0.001148</td><td>0.000306</td><td>0.001197</td><td>0.001483</td><td>-0.000583</td><td>-0.000219</td><td>-0.00108</td><td>0.001315</td><td>0.001828</td><td>0.000198</td><td>0.000034</td></tr></tbody></table></div>"
      ],
      "text/plain": [
       "shape: (5, 101)\n",
       "┌───┬────────────┬────────────┬────────────┬───┬────────────┬────────────┬────────────┬────────────┐\n",
       "│ u ┆ embedding_ ┆ embedding_ ┆ embedding_ ┆ … ┆ embedding_ ┆ embedding_ ┆ embedding_ ┆ embedding_ │\n",
       "│ s ┆ 000        ┆ 001        ┆ 002        ┆   ┆ 096        ┆ 097        ┆ 098        ┆ 099        │\n",
       "│ e ┆ ---        ┆ ---        ┆ ---        ┆   ┆ ---        ┆ ---        ┆ ---        ┆ ---        │\n",
       "│ r ┆ f64        ┆ f64        ┆ f64        ┆   ┆ f64        ┆ f64        ┆ f64        ┆ f64        │\n",
       "│ _ ┆            ┆            ┆            ┆   ┆            ┆            ┆            ┆            │\n",
       "│ i ┆            ┆            ┆            ┆   ┆            ┆            ┆            ┆            │\n",
       "│ d ┆            ┆            ┆            ┆   ┆            ┆            ┆            ┆            │\n",
       "│ - ┆            ┆            ┆            ┆   ┆            ┆            ┆            ┆            │\n",
       "│ - ┆            ┆            ┆            ┆   ┆            ┆            ┆            ┆            │\n",
       "│ - ┆            ┆            ┆            ┆   ┆            ┆            ┆            ┆            │\n",
       "│ s ┆            ┆            ┆            ┆   ┆            ┆            ┆            ┆            │\n",
       "│ t ┆            ┆            ┆            ┆   ┆            ┆            ┆            ┆            │\n",
       "│ r ┆            ┆            ┆            ┆   ┆            ┆            ┆            ┆            │\n",
       "╞═══╪════════════╪════════════╪════════════╪═══╪════════════╪════════════╪════════════╪════════════╡\n",
       "│ t ┆ -0.000905  ┆ 0.000138   ┆ -0.000834  ┆ … ┆ 0.000349   ┆ 0.000898   ┆ -0.000202  ┆ 0.000416   │\n",
       "│ 2 ┆            ┆            ┆            ┆   ┆            ┆            ┆            ┆            │\n",
       "│ _ ┆            ┆            ┆            ┆   ┆            ┆            ┆            ┆            │\n",
       "│ 1 ┆            ┆            ┆            ┆   ┆            ┆            ┆            ┆            │\n",
       "│ 0 ┆            ┆            ┆            ┆   ┆            ┆            ┆            ┆            │\n",
       "│ 0 ┆            ┆            ┆            ┆   ┆            ┆            ┆            ┆            │\n",
       "│ 1 ┆            ┆            ┆            ┆   ┆            ┆            ┆            ┆            │\n",
       "│ a ┆            ┆            ┆            ┆   ┆            ┆            ┆            ┆            │\n",
       "│ s ┆            ┆            ┆            ┆   ┆            ┆            ┆            ┆            │\n",
       "│ t ┆ -0.001845  ┆ -0.000204  ┆ -0.001654  ┆ … ┆ 0.001026   ┆ 0.002041   ┆ -0.000998  ┆ 0.000264   │\n",
       "│ 2 ┆            ┆            ┆            ┆   ┆            ┆            ┆            ┆            │\n",
       "│ _ ┆            ┆            ┆            ┆   ┆            ┆            ┆            ┆            │\n",
       "│ 1 ┆            ┆            ┆            ┆   ┆            ┆            ┆            ┆            │\n",
       "│ 0 ┆            ┆            ┆            ┆   ┆            ┆            ┆            ┆            │\n",
       "│ 0 ┆            ┆            ┆            ┆   ┆            ┆            ┆            ┆            │\n",
       "│ 2 ┆            ┆            ┆            ┆   ┆            ┆            ┆            ┆            │\n",
       "│ 6 ┆            ┆            ┆            ┆   ┆            ┆            ┆            ┆            │\n",
       "│ i ┆            ┆            ┆            ┆   ┆            ┆            ┆            ┆            │\n",
       "│ v ┆            ┆            ┆            ┆   ┆            ┆            ┆            ┆            │\n",
       "│ z ┆            ┆            ┆            ┆   ┆            ┆            ┆            ┆            │\n",
       "│ t ┆ -0.001219  ┆ 0.000435   ┆ -0.001542  ┆ … ┆ 0.000161   ┆ 0.001525   ┆ -0.000765  ┆ 0.000422   │\n",
       "│ 2 ┆            ┆            ┆            ┆   ┆            ┆            ┆            ┆            │\n",
       "│ _ ┆            ┆            ┆            ┆   ┆            ┆            ┆            ┆            │\n",
       "│ 1 ┆            ┆            ┆            ┆   ┆            ┆            ┆            ┆            │\n",
       "│ 0 ┆            ┆            ┆            ┆   ┆            ┆            ┆            ┆            │\n",
       "│ 0 ┆            ┆            ┆            ┆   ┆            ┆            ┆            ┆            │\n",
       "│ i ┆            ┆            ┆            ┆   ┆            ┆            ┆            ┆            │\n",
       "│ t ┆            ┆            ┆            ┆   ┆            ┆            ┆            ┆            │\n",
       "│ q ┆            ┆            ┆            ┆   ┆            ┆            ┆            ┆            │\n",
       "│ t ┆ -0.001378  ┆ 0.000938   ┆ -0.003151  ┆ … ┆ 0.001126   ┆ 0.003106   ┆ 0.001374   ┆ 0.001743   │\n",
       "│ 2 ┆            ┆            ┆            ┆   ┆            ┆            ┆            ┆            │\n",
       "│ _ ┆            ┆            ┆            ┆   ┆            ┆            ┆            ┆            │\n",
       "│ 1 ┆            ┆            ┆            ┆   ┆            ┆            ┆            ┆            │\n",
       "│ 0 ┆            ┆            ┆            ┆   ┆            ┆            ┆            ┆            │\n",
       "│ 0 ┆            ┆            ┆            ┆   ┆            ┆            ┆            ┆            │\n",
       "│ e ┆            ┆            ┆            ┆   ┆            ┆            ┆            ┆            │\n",
       "│ e ┆            ┆            ┆            ┆   ┆            ┆            ┆            ┆            │\n",
       "│ u ┆            ┆            ┆            ┆   ┆            ┆            ┆            ┆            │\n",
       "│ t ┆ -0.000087  ┆ 0.000809   ┆ -0.000388  ┆ … ┆ 0.001315   ┆ 0.001828   ┆ 0.000198   ┆ 0.000034   │\n",
       "│ 2 ┆            ┆            ┆            ┆   ┆            ┆            ┆            ┆            │\n",
       "│ _ ┆            ┆            ┆            ┆   ┆            ┆            ┆            ┆            │\n",
       "│ 1 ┆            ┆            ┆            ┆   ┆            ┆            ┆            ┆            │\n",
       "│ 0 ┆            ┆            ┆            ┆   ┆            ┆            ┆            ┆            │\n",
       "│ 0 ┆            ┆            ┆            ┆   ┆            ┆            ┆            ┆            │\n",
       "│ 3 ┆            ┆            ┆            ┆   ┆            ┆            ┆            ┆            │\n",
       "│ i ┆            ┆            ┆            ┆   ┆            ┆            ┆            ┆            │\n",
       "│ 8 ┆            ┆            ┆            ┆   ┆            ┆            ┆            ┆            │\n",
       "└───┴────────────┴────────────┴────────────┴───┴────────────┴────────────┴────────────┴────────────┘"
      ]
     },
     "execution_count": 394,
     "metadata": {},
     "output_type": "execute_result"
    }
   ],
   "source": [
    "dfp_user_emb_test.head()"
   ]
  },
  {
   "cell_type": "markdown",
   "id": "979a0264",
   "metadata": {},
   "source": [
    "## Run on all users"
   ]
  },
  {
   "cell_type": "code",
   "execution_count": 395,
   "id": "5346bf2b",
   "metadata": {},
   "outputs": [
    {
     "name": "stderr",
     "output_type": "stream",
     "text": [
      "07:08:08 | INFO | \"Append subreddit embeddings to user ToS\"\n",
      "07:08:13 | INFO | \"Compute weighted avg embedding for user-level\"\n",
      "07:09:49 | INFO | \"Compute AGGREGATED user-level embedding...\"\n"
     ]
    },
    {
     "name": "stdout",
     "output_type": "stream",
     "text": [
      "(130601209, 100)\n",
      "(856211, 101)\n",
      "CPU times: user 18min 9s, sys: 8min 21s, total: 26min 31s\n",
      "Wall time: 4min 52s\n"
     ]
    }
   ],
   "source": [
    "%%time\n",
    "\n",
    "info(f\"Append subreddit embeddings to user ToS\")\n",
    "dfp_user_emb_tmp = (\n",
    "    dfp_users_tos_long\n",
    "    .join(\n",
    "        dfp_sub_emb_wide.drop('subreddit_name'),\n",
    "        how='left',\n",
    "        on=['subreddit_id']\n",
    "    )\n",
    ")\n",
    "\n",
    "info(f\"Compute weighted avg embedding for user-level\")\n",
    "df_user_emb_tmp = pd.DataFrame(\n",
    "    ((dfp_user_emb_tmp['tos_pct'].to_numpy()) * dfp_user_emb_tmp[l_emb_cols].to_numpy().T).T,\n",
    "    index=pd.MultiIndex.from_frame(dfp_user_emb_tmp[['user_id', 'subreddit_id', 'tos_pct']].to_pandas()),\n",
    "    columns=l_emb_cols,\n",
    ")\n",
    "\n",
    "print(df_user_emb_tmp.shape)\n",
    "\n",
    "info(f\"Compute AGGREGATED user-level embedding...\")\n",
    "dfp_user_emb = (\n",
    "    pl.DataFrame(df_user_emb_tmp.dropna(how='any').reset_index())\n",
    "    .groupby(\n",
    "        ['user_id']\n",
    "    )\n",
    "    .agg(\n",
    "        [\n",
    "            pl.col(l_emb_cols).mean()\n",
    "        ]\n",
    "    )\n",
    ")\n",
    "print(dfp_user_emb.shape)"
   ]
  },
  {
   "cell_type": "code",
   "execution_count": 401,
   "id": "d476c4c2",
   "metadata": {},
   "outputs": [
    {
     "name": "stdout",
     "output_type": "stream",
     "text": [
      "6.13 Hours to get user-embeddings SEQUENTIALLY\n"
     ]
    }
   ],
   "source": [
    "n_mins_sample = 10.5\n",
    "n_users_sample = 856211\n",
    "n_users_target = 30e6\n",
    "\n",
    "seq_proc_time = n_mins_sample * (n_users_target / n_users_sample) / 60\n",
    "print(f\"{seq_proc_time:,.2f} Hours to get user-embeddings SEQUENTIALLY\")"
   ]
  },
  {
   "cell_type": "code",
   "execution_count": 403,
   "id": "9ff25498",
   "metadata": {},
   "outputs": [
    {
     "name": "stdout",
     "output_type": "stream",
     "text": [
      "CPU times: user 4.13 s, sys: 594 ms, total: 4.73 s\n",
      "Wall time: 4.59 s\n"
     ]
    }
   ],
   "source": [
    "%%time\n",
    "\n",
    "dfp_user_emb.write_parquet(\"djb_test_df_user_embeddings_IGNORE.parquet\")"
   ]
  },
  {
   "cell_type": "code",
   "execution_count": null,
   "id": "e5307da9",
   "metadata": {},
   "outputs": [],
   "source": []
  }
 ],
 "metadata": {
  "environment": {
   "name": "common-cpu.m65",
   "type": "gcloud",
   "uri": "gcr.io/deeplearning-platform-release/base-cpu:m65"
  },
  "kernelspec": {
   "display_name": "Python 3",
   "language": "python",
   "name": "python3"
  },
  "language_info": {
   "codemirror_mode": {
    "name": "ipython",
    "version": 3
   },
   "file_extension": ".py",
   "mimetype": "text/x-python",
   "name": "python",
   "nbconvert_exporter": "python",
   "pygments_lexer": "ipython3",
   "version": "3.7.10"
  }
 },
 "nbformat": 4,
 "nbformat_minor": 5
}
