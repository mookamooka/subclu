{
 "cells": [
  {
   "cell_type": "markdown",
   "id": "c2705224",
   "metadata": {},
   "source": [
    "# Purpose\n",
    "\n",
    "\n",
    "**2023-04-07**: \n",
    "<br> here we'll test a simplified flow to get an ETA for how long it'll take to take subreddit-embeddings to get user-level embeddings.\n",
    "\n",
    "We'll test pandas v. polars. The hope is that polars will boost parallel performance enough to make the embedding step feasible to run in less than one day. If we can run the embedding step fast enough, we might be able to cache the job daily so that we can keep the latest data ready to use for PN and for other models.\n",
    "\n",
    "---\n",
    "\n"
   ]
  },
  {
   "cell_type": "markdown",
   "id": "fa0f9cba",
   "metadata": {},
   "source": [
    "# Imports & Setup"
   ]
  },
  {
   "cell_type": "code",
   "execution_count": 1,
   "id": "c744c412",
   "metadata": {},
   "outputs": [],
   "source": [
    "%load_ext autoreload\n",
    "%autoreload 2"
   ]
  },
  {
   "cell_type": "code",
   "execution_count": 2,
   "id": "0b1fc6de",
   "metadata": {},
   "outputs": [
    {
     "name": "stdout",
     "output_type": "stream",
     "text": [
      "python\t\tv 3.7.10\n",
      "===\n",
      "hydra\t\tv: 1.1.0\n",
      "numpy\t\tv: 1.19.5\n",
      "pandas\t\tv: 1.2.4\n",
      "polars\t\tv: 0.17.1\n",
      "plotly\t\tv: 5.11.0\n",
      "sklearn\t\tv: 0.24.1\n",
      "subclu\t\tv: 0.6.1\n"
     ]
    }
   ],
   "source": [
    "from datetime import datetime\n",
    "import logging\n",
    "import os\n",
    "from pathlib import Path\n",
    "import json\n",
    "\n",
    "import polars as pl\n",
    "import numpy as np\n",
    "import pandas as pd\n",
    "import plotly\n",
    "import seaborn as sns\n",
    "\n",
    "import mlflow\n",
    "import hydra\n",
    "\n",
    "import subclu\n",
    "from subclu.eda.aggregates import compare_raw_v_weighted_language\n",
    "from subclu.utils import set_working_directory, get_project_subfolder\n",
    "from subclu.utils.eda import (\n",
    "    setup_logging, counts_describe, value_counts_and_pcts,\n",
    "    notebook_display_config, print_lib_versions,\n",
    "    style_df_numeric, reorder_array,\n",
    ")\n",
    "from subclu.utils.mlflow_logger import MlflowLogger\n",
    "from subclu.utils.hydra_config_loader import LoadHydraConfig\n",
    "from subclu.utils.data_irl_style import (\n",
    "    get_colormap, theme_dirl, \n",
    "    get_color_dict, base_colors_for_manual_labels,\n",
    "    check_colors_used,\n",
    ")\n",
    "from subclu.data.data_loaders import LoadPosts, LoadSubreddits, create_sub_level_aggregates\n",
    "\n",
    "\n",
    "# ===\n",
    "# imports specific to this notebook\n",
    "from collections import Counter\n",
    "\n",
    "import sklearn\n",
    "from sklearn.decomposition import TruncatedSVD\n",
    "from sklearn.metrics.pairwise import cosine_similarity\n",
    "from sklearn.preprocessing import normalize  # if we normalize the data, euclidean distance is approx of cosine\n",
    "\n",
    "\n",
    "print_lib_versions([hydra, np, pd, pl, plotly, sklearn, subclu])"
   ]
  },
  {
   "cell_type": "code",
   "execution_count": 3,
   "id": "91fff09e",
   "metadata": {},
   "outputs": [],
   "source": [
    "# plotting\n",
    "import matplotlib.pyplot as plt\n",
    "import matplotlib.ticker as mtick\n",
    "import matplotlib.dates as mdates\n",
    "plt.style.use('default')\n",
    "\n",
    "setup_logging()\n",
    "notebook_display_config()"
   ]
  },
  {
   "cell_type": "markdown",
   "id": "bcada59a",
   "metadata": {},
   "source": [
    "# Define custom functions"
   ]
  },
  {
   "cell_type": "code",
   "execution_count": 4,
   "id": "f31964a0",
   "metadata": {},
   "outputs": [],
   "source": [
    "def reshape_tos_for_df(\n",
    "    user_id: str,\n",
    "    tos_str_dict: str,\n",
    "    tos_col_name: str = 'tos_pct',\n",
    ") -> list:\n",
    "    \"\"\"Take the nested dict in a df and reshape it so that we can get a long df\n",
    "    where each row is a user+subreddit Time on Sub percentage\n",
    "    \"\"\"\n",
    "    d_tos_in = json.loads(tos_str_dict)\n",
    "    \n",
    "    d_out = {\n",
    "        'user_id': [user_id] * len(d_tos_in),\n",
    "        'subreddit_id': list(),\n",
    "        tos_col_name: list(),\n",
    "    }\n",
    "    \n",
    "    for sub_id, tos_pc in d_tos_in.items():\n",
    "        d_out['subreddit_id'].append(sub_id)\n",
    "        d_out[tos_col_name].append(tos_pc)\n",
    "    \n",
    "    return d_out"
   ]
  },
  {
   "cell_type": "code",
   "execution_count": null,
   "id": "f790d985",
   "metadata": {},
   "outputs": [],
   "source": []
  },
  {
   "cell_type": "markdown",
   "id": "9a3f9912",
   "metadata": {},
   "source": [
    "# Get data"
   ]
  },
  {
   "cell_type": "markdown",
   "id": "9692e748",
   "metadata": {},
   "source": [
    "## Get user IDs to embed with time-on-subreddit features\n",
    "\n",
    "I'm caching the data in a view so that it's easier to re-use while testing.\n",
    "\n",
    "The time-on-subreddit feature is already in gazette features so we don't need to waste time computing them.\n",
    "\n",
    "```SQL\n",
    "SELECT \n",
    "    DISTINCT user_id\n",
    "\n",
    "FROM `data-prod-165221.fact_tables.post_consume_post_detail_view_events` \n",
    "WHERE DATE(pt) BETWEEN (CURRENT_DATE() - 7) AND (CURRENT_DATE() - 2)\n",
    "    AND subreddit_name IN ('themandaloriantv')\n",
    "    AND action IN ('consume', 'view')\n",
    "-- LIMIT 1000\n",
    "```"
   ]
  },
  {
   "cell_type": "code",
   "execution_count": 5,
   "id": "f9f190ca",
   "metadata": {},
   "outputs": [
    {
     "name": "stderr",
     "output_type": "stream",
     "text": [
      "Query complete after 0.00s: 100%|██████████| 5/5 [00:00<00:00, 3921.38query/s]                        \n",
      "Downloading: 100%|██████████| 856423/856423 [00:10<00:00, 79436.67rows/s] \n"
     ]
    },
    {
     "name": "stdout",
     "output_type": "stream",
     "text": [
      "CPU times: user 8.91 s, sys: 4.57 s, total: 13.5 s\n",
      "Wall time: 35.7 s\n"
     ]
    }
   ],
   "source": [
    "%%time\n",
    "%%bigquery df_users_raw_tos --project data-science-prod-218515 \n",
    "\n",
    "-- pull the user IDs and the time on sub, but do the calculations in python b/c \n",
    "--   it can be a pain to conver to rows in BQ\n",
    "\n",
    "SELECT\n",
    "    ui.user_id\n",
    "    , t.* EXCEPT(user_id)\n",
    "    -- , t.feature_value\n",
    "    -- , t.json_val \n",
    "    -- , t.feature_name\n",
    "FROM (\n",
    "        SELECT\n",
    "            entity_id AS user_id\n",
    "            , feature_value\n",
    "            -- , (SAFE.parse_json(feature_value)) AS json_val\n",
    "        FROM `data-prod-165221.user_feature_platform.time_on_subreddit_pct_time_over_30_day_v1`\n",
    "\n",
    "        WHERE DATE(pt) = CURRENT_DATE() - 3 -- Latest appears to be (Today-3) b/c of lag from other tables\n",
    "    ) AS t\n",
    "    INNER JOIN (\n",
    "        SELECT *\n",
    "        FROM `reddit-employee-datasets.david_bermejo.pn_test_users_for_embedding` \n",
    "        -- LIMIT 10\n",
    "    ) AS ui\n",
    "        ON ui.user_id = t.user_id\n",
    ";"
   ]
  },
  {
   "cell_type": "code",
   "execution_count": 6,
   "id": "f846d01e",
   "metadata": {},
   "outputs": [
    {
     "name": "stdout",
     "output_type": "stream",
     "text": [
      "<class 'pandas.core.frame.DataFrame'>\n",
      "RangeIndex: 856423 entries, 0 to 856422\n",
      "Data columns (total 2 columns):\n",
      " #   Column         Non-Null Count   Dtype \n",
      "---  ------         --------------   ----- \n",
      " 0   user_id        856423 non-null  object\n",
      " 1   feature_value  856423 non-null  object\n",
      "dtypes: object(2)\n",
      "memory usage: 13.1+ MB\n"
     ]
    }
   ],
   "source": [
    "df_users_raw_tos.info()"
   ]
  },
  {
   "cell_type": "code",
   "execution_count": 7,
   "id": "fbabe03f",
   "metadata": {},
   "outputs": [
    {
     "data": {
      "text/html": [
       "<div>\n",
       "<style scoped>\n",
       "    .dataframe tbody tr th:only-of-type {\n",
       "        vertical-align: middle;\n",
       "    }\n",
       "\n",
       "    .dataframe tbody tr th {\n",
       "        vertical-align: top;\n",
       "    }\n",
       "\n",
       "    .dataframe thead th {\n",
       "        text-align: right;\n",
       "    }\n",
       "</style>\n",
       "<table border=\"1\" class=\"dataframe\">\n",
       "  <thead>\n",
       "    <tr style=\"text-align: right;\">\n",
       "      <th></th>\n",
       "      <th>user_id</th>\n",
       "      <th>feature_value</th>\n",
       "    </tr>\n",
       "  </thead>\n",
       "  <tbody>\n",
       "    <tr>\n",
       "      <th>0</th>\n",
       "      <td>t2_8p8h0ki0b</td>\n",
       "      <td>{\"t5_3fn31\":0.87899,\"t5_2qhsa\":0.00445,\"t5_2tex6\":0.00187,\"t5_2xcv7\":0.00351,\"t5_dyqlw\":0.05844,\"t5_2qh33\":0.00406,\"t5_3boqz\":0.00117,\"t5_2s7tt\":0.00421,\"t5_3aegn\":0.0103,\"t5_2r5rp\":0.00335,\"t5_2w7mz\":0.00437,\"t5_3fzm9\":0.00359,\"t5_2xhv...</td>\n",
       "    </tr>\n",
       "    <tr>\n",
       "      <th>1</th>\n",
       "      <td>t2_8p90xabzf</td>\n",
       "      <td>{\"t5_3phq9\":0.13502,\"t5_2qh1i\":0.22281,\"t5_23gidu\":0.04516,\"t5_2vg7t\":0.04516,\"t5_2w844\":0.01567,\"t5_2qkhb\":0.01912,\"t5_2yrq6\":0.02788,\"t5_2qh0u\":0.18687,\"t5_2rqcm8\":0.07166,\"t5_3boqz\":0.02304,\"t5_3gcwj\":0.07742,\"t5_2si92\":0.10645,\"t5_3...</td>\n",
       "    </tr>\n",
       "    <tr>\n",
       "      <th>2</th>\n",
       "      <td>t2_8p81pzwi9</td>\n",
       "      <td>{\"t5_2wzm6\":0.0219,\"t5_2cneq\":0.00365,\"t5_2tex6\":0.01825,\"t5_30tmh\":0.01095,\"t5_386zh\":0.04866,\"t5_2w844\":0.06813,\"t5_2w7mz\":0.09611,\"t5_2vegg\":0.0438,\"t5_3mj3w\":0.04988,\"t5_2r40o\":0.13504,\"t5_3i3vm\":0.0365,\"t5_2qhds\":0.04136,\"t5_2qh72\"...</td>\n",
       "    </tr>\n",
       "    <tr>\n",
       "      <th>3</th>\n",
       "      <td>t2_8p90y</td>\n",
       "      <td>{\"t5_38y725\":0.00134,\"t5_27xp1u\":2e-05,\"t5_7m6f8m\":1e-05,\"t5_2tdzg\":0.00057,\"t5_2taso\":2e-05,\"t5_2sokd\":0.02098,\"t5_2rjz2\":0.00395,\"t5_2s4pd\":0.01769,\"t5_2qh61\":0.0028,\"t5_2qimj\":2e-05,\"t5_r1l2z\":6e-05,\"t5_2s5ti\":0.00164,\"t5_2xinb\":0.00...</td>\n",
       "    </tr>\n",
       "    <tr>\n",
       "      <th>4</th>\n",
       "      <td>t2_8p853</td>\n",
       "      <td>{\"t5_2s6nz\":0.00038,\"t5_2y1j5\":8e-05,\"t5_4b0bzv\":0.0001,\"t5_2va9w\":5e-05,\"t5_35n7t\":0.05491,\"t5_2z8fuj\":0.00109,\"t5_2xp02\":0.00107,\"t5_3chmw\":0.00012,\"t5_2tk0s\":1e-05,\"t5_3ptyd\":0.00131,\"t5_mvcq5\":0.01587,\"t5_2vxxc\":0.0004,\"t5_2s28b\":0....</td>\n",
       "    </tr>\n",
       "  </tbody>\n",
       "</table>\n",
       "</div>"
      ],
      "text/plain": [
       "        user_id                                                                                                                                                                                                                                    feature_value\n",
       "0  t2_8p8h0ki0b  {\"t5_3fn31\":0.87899,\"t5_2qhsa\":0.00445,\"t5_2tex6\":0.00187,\"t5_2xcv7\":0.00351,\"t5_dyqlw\":0.05844,\"t5_2qh33\":0.00406,\"t5_3boqz\":0.00117,\"t5_2s7tt\":0.00421,\"t5_3aegn\":0.0103,\"t5_2r5rp\":0.00335,\"t5_2w7mz\":0.00437,\"t5_3fzm9\":0.00359,\"t5_2xhv...\n",
       "1  t2_8p90xabzf  {\"t5_3phq9\":0.13502,\"t5_2qh1i\":0.22281,\"t5_23gidu\":0.04516,\"t5_2vg7t\":0.04516,\"t5_2w844\":0.01567,\"t5_2qkhb\":0.01912,\"t5_2yrq6\":0.02788,\"t5_2qh0u\":0.18687,\"t5_2rqcm8\":0.07166,\"t5_3boqz\":0.02304,\"t5_3gcwj\":0.07742,\"t5_2si92\":0.10645,\"t5_3...\n",
       "2  t2_8p81pzwi9  {\"t5_2wzm6\":0.0219,\"t5_2cneq\":0.00365,\"t5_2tex6\":0.01825,\"t5_30tmh\":0.01095,\"t5_386zh\":0.04866,\"t5_2w844\":0.06813,\"t5_2w7mz\":0.09611,\"t5_2vegg\":0.0438,\"t5_3mj3w\":0.04988,\"t5_2r40o\":0.13504,\"t5_3i3vm\":0.0365,\"t5_2qhds\":0.04136,\"t5_2qh72\"...\n",
       "3      t2_8p90y  {\"t5_38y725\":0.00134,\"t5_27xp1u\":2e-05,\"t5_7m6f8m\":1e-05,\"t5_2tdzg\":0.00057,\"t5_2taso\":2e-05,\"t5_2sokd\":0.02098,\"t5_2rjz2\":0.00395,\"t5_2s4pd\":0.01769,\"t5_2qh61\":0.0028,\"t5_2qimj\":2e-05,\"t5_r1l2z\":6e-05,\"t5_2s5ti\":0.00164,\"t5_2xinb\":0.00...\n",
       "4      t2_8p853  {\"t5_2s6nz\":0.00038,\"t5_2y1j5\":8e-05,\"t5_4b0bzv\":0.0001,\"t5_2va9w\":5e-05,\"t5_35n7t\":0.05491,\"t5_2z8fuj\":0.00109,\"t5_2xp02\":0.00107,\"t5_3chmw\":0.00012,\"t5_2tk0s\":1e-05,\"t5_3ptyd\":0.00131,\"t5_mvcq5\":0.01587,\"t5_2vxxc\":0.0004,\"t5_2s28b\":0...."
      ]
     },
     "execution_count": 7,
     "metadata": {},
     "output_type": "execute_result"
    }
   ],
   "source": [
    "df_users_raw_tos.head()"
   ]
  },
  {
   "cell_type": "markdown",
   "id": "71d4b938",
   "metadata": {},
   "source": [
    "## Get subreddit-level embeddings"
   ]
  },
  {
   "cell_type": "code",
   "execution_count": 8,
   "id": "25af7b50",
   "metadata": {},
   "outputs": [
    {
     "name": "stderr",
     "output_type": "stream",
     "text": [
      "Query complete after 0.00s: 100%|██████████| 1/1 [00:00<00:00, 1375.18query/s]\n",
      "Downloading: 100%|██████████| 242345/242345 [00:03<00:00, 76432.72rows/s] \n"
     ]
    },
    {
     "name": "stdout",
     "output_type": "stream",
     "text": [
      "CPU times: user 613 ms, sys: 414 ms, total: 1.03 s\n",
      "Wall time: 4.24 s\n"
     ]
    }
   ],
   "source": [
    "%%time\n",
    "%%bigquery df_sub_emb --project data-science-prod-218515 \n",
    "\n",
    "SELECT\n",
    "  subreddit_id\n",
    "  , subreddit_name\n",
    "  , ARRAY_CONCAT(embedding) AS embedding\n",
    "FROM `data-prod-165221.ml_content.subreddit_embeddings_ft2`\n",
    "WHERE DATE(pt) = '2023-04-04'"
   ]
  },
  {
   "cell_type": "code",
   "execution_count": 9,
   "id": "5cad97b9",
   "metadata": {},
   "outputs": [
    {
     "name": "stdout",
     "output_type": "stream",
     "text": [
      "<class 'pandas.core.frame.DataFrame'>\n",
      "RangeIndex: 242345 entries, 0 to 242344\n",
      "Data columns (total 3 columns):\n",
      " #   Column          Non-Null Count   Dtype \n",
      "---  ------          --------------   ----- \n",
      " 0   subreddit_id    242345 non-null  object\n",
      " 1   subreddit_name  242345 non-null  object\n",
      " 2   embedding       242345 non-null  object\n",
      "dtypes: object(3)\n",
      "memory usage: 5.5+ MB\n"
     ]
    }
   ],
   "source": [
    "df_sub_emb.info()"
   ]
  },
  {
   "cell_type": "code",
   "execution_count": 10,
   "id": "0e9439f7",
   "metadata": {},
   "outputs": [
    {
     "data": {
      "text/html": [
       "<div>\n",
       "<style scoped>\n",
       "    .dataframe tbody tr th:only-of-type {\n",
       "        vertical-align: middle;\n",
       "    }\n",
       "\n",
       "    .dataframe tbody tr th {\n",
       "        vertical-align: top;\n",
       "    }\n",
       "\n",
       "    .dataframe thead th {\n",
       "        text-align: right;\n",
       "    }\n",
       "</style>\n",
       "<table border=\"1\" class=\"dataframe\">\n",
       "  <thead>\n",
       "    <tr style=\"text-align: right;\">\n",
       "      <th></th>\n",
       "      <th>subreddit_id</th>\n",
       "      <th>subreddit_name</th>\n",
       "      <th>embedding</th>\n",
       "    </tr>\n",
       "  </thead>\n",
       "  <tbody>\n",
       "    <tr>\n",
       "      <th>0</th>\n",
       "      <td>t5_4f57cs</td>\n",
       "      <td>fuckangelhernandez</td>\n",
       "      <td>[-0.3996698260307312, 0.20269957184791565, -0.3055022060871124, -0.005287058185786009, 0.121136873960495, 0.06231916323304176, -0.37654876708984375, 0.48437756299972534, -0.2151433378458023, 0.31947633624076843, 0.4782879948616028, 0.23...</td>\n",
       "    </tr>\n",
       "    <tr>\n",
       "      <th>1</th>\n",
       "      <td>t5_2s2gt</td>\n",
       "      <td>fuckapple</td>\n",
       "      <td>[-0.0029481418896466494, 0.053129445761442184, -0.17849114537239075, -0.1555848866701126, -0.20715922117233276, 0.2648947238922119, 0.24177874624729156, 0.23757821321487427, 0.011948454193770885, 0.3712220788002014, 0.3585907518863678, ...</td>\n",
       "    </tr>\n",
       "    <tr>\n",
       "      <th>2</th>\n",
       "      <td>t5_7s1lcv</td>\n",
       "      <td>fuckaround_n_findout</td>\n",
       "      <td>[-0.25010135769844055, -0.05121876671910286, -0.4104999303817749, 0.17199638485908508, -0.2111128717660904, -0.01367927622050047, -0.41924068331718445, 0.15966467559337616, 0.1576160341501236, 0.398811936378479, 0.3563167154788971, 0.07...</td>\n",
       "    </tr>\n",
       "    <tr>\n",
       "      <th>3</th>\n",
       "      <td>t5_2mpk27</td>\n",
       "      <td>fuckautismspeaks</td>\n",
       "      <td>[-0.643264889717102, -0.3077889084815979, -0.8766250610351562, 0.34814009070396423, -0.3688446581363678, -0.09676993638277054, -0.01420139241963625, 0.11278355121612549, 0.2917800843715668, 0.48437413573265076, -0.09958196431398392, -0....</td>\n",
       "    </tr>\n",
       "    <tr>\n",
       "      <th>4</th>\n",
       "      <td>t5_5rkktn</td>\n",
       "      <td>fuckbagin</td>\n",
       "      <td>[0.09801478683948517, -0.26190200448036194, 0.09046468883752823, -0.18976961076259613, -0.06223154440522194, 0.34227171540260315, -0.07571414113044739, 0.3605010509490967, 0.013768891803920269, 0.4096928536891937, 0.27020058035850525, -...</td>\n",
       "    </tr>\n",
       "  </tbody>\n",
       "</table>\n",
       "</div>"
      ],
      "text/plain": [
       "  subreddit_id        subreddit_name                                                                                                                                                                                                                                        embedding\n",
       "0    t5_4f57cs    fuckangelhernandez  [-0.3996698260307312, 0.20269957184791565, -0.3055022060871124, -0.005287058185786009, 0.121136873960495, 0.06231916323304176, -0.37654876708984375, 0.48437756299972534, -0.2151433378458023, 0.31947633624076843, 0.4782879948616028, 0.23...\n",
       "1     t5_2s2gt             fuckapple  [-0.0029481418896466494, 0.053129445761442184, -0.17849114537239075, -0.1555848866701126, -0.20715922117233276, 0.2648947238922119, 0.24177874624729156, 0.23757821321487427, 0.011948454193770885, 0.3712220788002014, 0.3585907518863678, ...\n",
       "2    t5_7s1lcv  fuckaround_n_findout  [-0.25010135769844055, -0.05121876671910286, -0.4104999303817749, 0.17199638485908508, -0.2111128717660904, -0.01367927622050047, -0.41924068331718445, 0.15966467559337616, 0.1576160341501236, 0.398811936378479, 0.3563167154788971, 0.07...\n",
       "3    t5_2mpk27      fuckautismspeaks  [-0.643264889717102, -0.3077889084815979, -0.8766250610351562, 0.34814009070396423, -0.3688446581363678, -0.09676993638277054, -0.01420139241963625, 0.11278355121612549, 0.2917800843715668, 0.48437413573265076, -0.09958196431398392, -0....\n",
       "4    t5_5rkktn             fuckbagin  [0.09801478683948517, -0.26190200448036194, 0.09046468883752823, -0.18976961076259613, -0.06223154440522194, 0.34227171540260315, -0.07571414113044739, 0.3605010509490967, 0.013768891803920269, 0.4096928536891937, 0.27020058035850525, -..."
      ]
     },
     "execution_count": 10,
     "metadata": {},
     "output_type": "execute_result"
    }
   ],
   "source": [
    "df_sub_emb.head()"
   ]
  },
  {
   "cell_type": "markdown",
   "id": "4de991b7",
   "metadata": {},
   "source": [
    "# Transform - Count of subreddits per user\n"
   ]
  },
  {
   "cell_type": "code",
   "execution_count": 11,
   "id": "3ea8cd1e",
   "metadata": {},
   "outputs": [
    {
     "name": "stdout",
     "output_type": "stream",
     "text": [
      "CPU times: user 1.09 s, sys: 842 ms, total: 1.93 s\n",
      "Wall time: 1.89 s\n"
     ]
    }
   ],
   "source": [
    "%%time\n",
    "\n",
    "dfp_users_tos = pl.DataFrame(df_users_raw_tos)"
   ]
  },
  {
   "cell_type": "code",
   "execution_count": 12,
   "id": "8e3bb6b6",
   "metadata": {},
   "outputs": [
    {
     "name": "stdout",
     "output_type": "stream",
     "text": [
      "CPU times: user 28.2 ms, sys: 7.95 ms, total: 36.1 ms\n",
      "Wall time: 35.5 ms\n"
     ]
    }
   ],
   "source": [
    "%%time\n",
    "\n",
    "df_users_tos = df_users_raw_tos.copy()"
   ]
  },
  {
   "cell_type": "markdown",
   "id": "af32a80d",
   "metadata": {},
   "source": [
    "## Pandas\n",
    "Reshape user data to get:\n",
    "- count the number of subreddits for each user\n",
    "\n"
   ]
  },
  {
   "cell_type": "code",
   "execution_count": 19,
   "id": "9a104a63",
   "metadata": {},
   "outputs": [
    {
     "name": "stdout",
     "output_type": "stream",
     "text": [
      "CPU times: user 38.7 s, sys: 894 ms, total: 39.6 s\n",
      "Wall time: 39.6 s\n"
     ]
    }
   ],
   "source": [
    "%%time\n",
    "\n",
    "df_users_tos['subreddit_count'] = (\n",
    "    df_users_tos['feature_value'].apply(lambda x: len(json.loads(x)) )\n",
    ")"
   ]
  },
  {
   "cell_type": "code",
   "execution_count": 20,
   "id": "cdd5c1b9",
   "metadata": {},
   "outputs": [
    {
     "data": {
      "text/html": [
       "<div>\n",
       "<style scoped>\n",
       "    .dataframe tbody tr th:only-of-type {\n",
       "        vertical-align: middle;\n",
       "    }\n",
       "\n",
       "    .dataframe tbody tr th {\n",
       "        vertical-align: top;\n",
       "    }\n",
       "\n",
       "    .dataframe thead th {\n",
       "        text-align: right;\n",
       "    }\n",
       "</style>\n",
       "<table border=\"1\" class=\"dataframe\">\n",
       "  <thead>\n",
       "    <tr style=\"text-align: right;\">\n",
       "      <th></th>\n",
       "      <th>subreddit_count</th>\n",
       "    </tr>\n",
       "  </thead>\n",
       "  <tbody>\n",
       "    <tr>\n",
       "      <th>count</th>\n",
       "      <td>856423.000000</td>\n",
       "    </tr>\n",
       "    <tr>\n",
       "      <th>mean</th>\n",
       "      <td>152.496149</td>\n",
       "    </tr>\n",
       "    <tr>\n",
       "      <th>std</th>\n",
       "      <td>141.629998</td>\n",
       "    </tr>\n",
       "    <tr>\n",
       "      <th>min</th>\n",
       "      <td>1.000000</td>\n",
       "    </tr>\n",
       "    <tr>\n",
       "      <th>25%</th>\n",
       "      <td>47.000000</td>\n",
       "    </tr>\n",
       "    <tr>\n",
       "      <th>50%</th>\n",
       "      <td>118.000000</td>\n",
       "    </tr>\n",
       "    <tr>\n",
       "      <th>75%</th>\n",
       "      <td>215.000000</td>\n",
       "    </tr>\n",
       "    <tr>\n",
       "      <th>max</th>\n",
       "      <td>2085.000000</td>\n",
       "    </tr>\n",
       "  </tbody>\n",
       "</table>\n",
       "</div>"
      ],
      "text/plain": [
       "       subreddit_count\n",
       "count    856423.000000\n",
       "mean        152.496149\n",
       "std         141.629998\n",
       "min           1.000000\n",
       "25%          47.000000\n",
       "50%         118.000000\n",
       "75%         215.000000\n",
       "max        2085.000000"
      ]
     },
     "execution_count": 20,
     "metadata": {},
     "output_type": "execute_result"
    }
   ],
   "source": [
    "df_users_tos.describe()"
   ]
  },
  {
   "cell_type": "markdown",
   "id": "48a6a2c0",
   "metadata": {},
   "source": [
    "## Polars"
   ]
  },
  {
   "cell_type": "code",
   "execution_count": 15,
   "id": "770e881d",
   "metadata": {},
   "outputs": [
    {
     "data": {
      "text/html": [
       "<div><style>\n",
       ".dataframe > thead > tr > th,\n",
       ".dataframe > tbody > tr > td {\n",
       "  text-align: right;\n",
       "}\n",
       "</style>\n",
       "<small>shape: (7, 3)</small><table border=\"1\" class=\"dataframe\"><thead><tr><th>describe</th><th>user_id</th><th>feature_value</th></tr><tr><td>str</td><td>str</td><td>str</td></tr></thead><tbody><tr><td>&quot;count&quot;</td><td>&quot;856423&quot;</td><td>&quot;856423&quot;</td></tr><tr><td>&quot;null_count&quot;</td><td>&quot;0&quot;</td><td>&quot;0&quot;</td></tr><tr><td>&quot;mean&quot;</td><td>null</td><td>null</td></tr><tr><td>&quot;std&quot;</td><td>null</td><td>null</td></tr><tr><td>&quot;min&quot;</td><td>&quot;t2_10009m&quot;</td><td>&quot;{&quot;t5_100kj8&quot;:4…</td></tr><tr><td>&quot;max&quot;</td><td>&quot;t2_zzzz9&quot;</td><td>&quot;{&quot;t5_zzwxp&quot;:0.…</td></tr><tr><td>&quot;median&quot;</td><td>null</td><td>null</td></tr></tbody></table></div>"
      ],
      "text/plain": [
       "shape: (7, 3)\n",
       "┌────────────┬───────────┬───────────────────────────────────┐\n",
       "│ describe   ┆ user_id   ┆ feature_value                     │\n",
       "│ ---        ┆ ---       ┆ ---                               │\n",
       "│ str        ┆ str       ┆ str                               │\n",
       "╞════════════╪═══════════╪═══════════════════════════════════╡\n",
       "│ count      ┆ 856423    ┆ 856423                            │\n",
       "│ null_count ┆ 0         ┆ 0                                 │\n",
       "│ mean       ┆ null      ┆ null                              │\n",
       "│ std        ┆ null      ┆ null                              │\n",
       "│ min        ┆ t2_10009m ┆ {\"t5_100kj8\":4e-05,\"t5_2qqam\":0.… │\n",
       "│ max        ┆ t2_zzzz9  ┆ {\"t5_zzwxp\":0.00044,\"t5_2qib0\":0… │\n",
       "│ median     ┆ null      ┆ null                              │\n",
       "└────────────┴───────────┴───────────────────────────────────┘"
      ]
     },
     "execution_count": 15,
     "metadata": {},
     "output_type": "execute_result"
    }
   ],
   "source": [
    "dfp_users_tos.describe()"
   ]
  },
  {
   "cell_type": "code",
   "execution_count": 21,
   "id": "dc8c9bd9",
   "metadata": {},
   "outputs": [
    {
     "name": "stdout",
     "output_type": "stream",
     "text": [
      "CPU times: user 40 s, sys: 1.13 s, total: 41.1 s\n",
      "Wall time: 41.1 s\n"
     ]
    }
   ],
   "source": [
    "%%time\n",
    "\n",
    "dfp_users_tos = dfp_users_tos.with_columns(\n",
    "    pl.col('feature_value').apply(lambda x: len(json.loads(x)) ).alias('subreddit_count')\n",
    ")"
   ]
  },
  {
   "cell_type": "code",
   "execution_count": 22,
   "id": "bd922277",
   "metadata": {},
   "outputs": [
    {
     "data": {
      "text/html": [
       "<div><style>\n",
       ".dataframe > thead > tr > th,\n",
       ".dataframe > tbody > tr > td {\n",
       "  text-align: right;\n",
       "}\n",
       "</style>\n",
       "<small>shape: (7, 4)</small><table border=\"1\" class=\"dataframe\"><thead><tr><th>describe</th><th>user_id</th><th>feature_value</th><th>subreddit_count</th></tr><tr><td>str</td><td>str</td><td>str</td><td>f64</td></tr></thead><tbody><tr><td>&quot;count&quot;</td><td>&quot;856423&quot;</td><td>&quot;856423&quot;</td><td>856423.0</td></tr><tr><td>&quot;null_count&quot;</td><td>&quot;0&quot;</td><td>&quot;0&quot;</td><td>0.0</td></tr><tr><td>&quot;mean&quot;</td><td>null</td><td>null</td><td>152.496149</td></tr><tr><td>&quot;std&quot;</td><td>null</td><td>null</td><td>141.629998</td></tr><tr><td>&quot;min&quot;</td><td>&quot;t2_10009m&quot;</td><td>&quot;{&quot;t5_100kj8&quot;:4…</td><td>1.0</td></tr><tr><td>&quot;max&quot;</td><td>&quot;t2_zzzz9&quot;</td><td>&quot;{&quot;t5_zzwxp&quot;:0.…</td><td>2085.0</td></tr><tr><td>&quot;median&quot;</td><td>null</td><td>null</td><td>118.0</td></tr></tbody></table></div>"
      ],
      "text/plain": [
       "shape: (7, 4)\n",
       "┌────────────┬───────────┬───────────────────────────────────┬─────────────────┐\n",
       "│ describe   ┆ user_id   ┆ feature_value                     ┆ subreddit_count │\n",
       "│ ---        ┆ ---       ┆ ---                               ┆ ---             │\n",
       "│ str        ┆ str       ┆ str                               ┆ f64             │\n",
       "╞════════════╪═══════════╪═══════════════════════════════════╪═════════════════╡\n",
       "│ count      ┆ 856423    ┆ 856423                            ┆ 856423.0        │\n",
       "│ null_count ┆ 0         ┆ 0                                 ┆ 0.0             │\n",
       "│ mean       ┆ null      ┆ null                              ┆ 152.496149      │\n",
       "│ std        ┆ null      ┆ null                              ┆ 141.629998      │\n",
       "│ min        ┆ t2_10009m ┆ {\"t5_100kj8\":4e-05,\"t5_2qqam\":0.… ┆ 1.0             │\n",
       "│ max        ┆ t2_zzzz9  ┆ {\"t5_zzwxp\":0.00044,\"t5_2qib0\":0… ┆ 2085.0          │\n",
       "│ median     ┆ null      ┆ null                              ┆ 118.0           │\n",
       "└────────────┴───────────┴───────────────────────────────────┴─────────────────┘"
      ]
     },
     "execution_count": 22,
     "metadata": {},
     "output_type": "execute_result"
    }
   ],
   "source": [
    "dfp_users_tos.describe()"
   ]
  },
  {
   "cell_type": "code",
   "execution_count": 23,
   "id": "281fedef",
   "metadata": {},
   "outputs": [
    {
     "data": {
      "text/html": [
       "<div><style>\n",
       ".dataframe > thead > tr > th,\n",
       ".dataframe > tbody > tr > td {\n",
       "  text-align: right;\n",
       "}\n",
       "</style>\n",
       "<small>shape: (5, 3)</small><table border=\"1\" class=\"dataframe\"><thead><tr><th>user_id</th><th>feature_value</th><th>subreddit_count</th></tr><tr><td>str</td><td>str</td><td>i64</td></tr></thead><tbody><tr><td>&quot;t2_8p8h0ki0b&quot;</td><td>&quot;{&quot;t5_3fn31&quot;:0.…</td><td>14</td></tr><tr><td>&quot;t2_8p90xabzf&quot;</td><td>&quot;{&quot;t5_3phq9&quot;:0.…</td><td>14</td></tr><tr><td>&quot;t2_8p81pzwi9&quot;</td><td>&quot;{&quot;t5_2wzm6&quot;:0.…</td><td>28</td></tr><tr><td>&quot;t2_8p90y&quot;</td><td>&quot;{&quot;t5_38y725&quot;:0…</td><td>84</td></tr><tr><td>&quot;t2_8p853&quot;</td><td>&quot;{&quot;t5_2s6nz&quot;:0.…</td><td>369</td></tr></tbody></table></div>"
      ],
      "text/plain": [
       "shape: (5, 3)\n",
       "┌──────────────┬───────────────────────────────────┬─────────────────┐\n",
       "│ user_id      ┆ feature_value                     ┆ subreddit_count │\n",
       "│ ---          ┆ ---                               ┆ ---             │\n",
       "│ str          ┆ str                               ┆ i64             │\n",
       "╞══════════════╪═══════════════════════════════════╪═════════════════╡\n",
       "│ t2_8p8h0ki0b ┆ {\"t5_3fn31\":0.87899,\"t5_2qhsa\":0… ┆ 14              │\n",
       "│ t2_8p90xabzf ┆ {\"t5_3phq9\":0.13502,\"t5_2qh1i\":0… ┆ 14              │\n",
       "│ t2_8p81pzwi9 ┆ {\"t5_2wzm6\":0.0219,\"t5_2cneq\":0.… ┆ 28              │\n",
       "│ t2_8p90y     ┆ {\"t5_38y725\":0.00134,\"t5_27xp1u\"… ┆ 84              │\n",
       "│ t2_8p853     ┆ {\"t5_2s6nz\":0.00038,\"t5_2y1j5\":8… ┆ 369             │\n",
       "└──────────────┴───────────────────────────────────┴─────────────────┘"
      ]
     },
     "execution_count": 23,
     "metadata": {},
     "output_type": "execute_result"
    }
   ],
   "source": [
    "dfp_users_tos.head()"
   ]
  },
  {
   "cell_type": "code",
   "execution_count": null,
   "id": "42151897",
   "metadata": {},
   "outputs": [],
   "source": []
  },
  {
   "cell_type": "code",
   "execution_count": null,
   "id": "7d7105e6",
   "metadata": {},
   "outputs": [],
   "source": []
  },
  {
   "cell_type": "markdown",
   "id": "0a807634",
   "metadata": {},
   "source": [
    "# Transform - get long form \n",
    "Each row = user+subreddit"
   ]
  },
  {
   "cell_type": "markdown",
   "id": "12c7a36d",
   "metadata": {},
   "source": [
    "## Example on a single user"
   ]
  },
  {
   "cell_type": "code",
   "execution_count": 24,
   "id": "387f574f",
   "metadata": {},
   "outputs": [
    {
     "data": {
      "text/plain": [
       "632536    {\"t5_3nxko\":0.02033,\"t5_2r40o\":0.02439,\"t5_2t7no\":0.00813,\"t5_2thzw\":0.01626,\"t5_2qvp9\":0.04472,\"t5_2yrq6\":0.03252,\"t5_45hae8\":0.01626,\"t5_3ajbp\":0.11382,\"t5_2qi58\":0.03659,\"t5_2qhpn\":0.04878,\"t5_34a0h\":0.49187,\"t5_35mye\":0.03252,\"t5_2t...\n",
       "Name: feature_value, dtype: object"
      ]
     },
     "execution_count": 24,
     "metadata": {},
     "output_type": "execute_result"
    }
   ],
   "source": [
    "# convert 1 user's row to a df where each row is user+subreddit time\n",
    "\n",
    "df_users_tos[df_users_tos['user_id'] == 't2_8fe238nke']['feature_value']"
   ]
  },
  {
   "cell_type": "code",
   "execution_count": 25,
   "id": "9e71c210",
   "metadata": {},
   "outputs": [
    {
     "data": {
      "text/html": [
       "<div>\n",
       "<style scoped>\n",
       "    .dataframe tbody tr th:only-of-type {\n",
       "        vertical-align: middle;\n",
       "    }\n",
       "\n",
       "    .dataframe tbody tr th {\n",
       "        vertical-align: top;\n",
       "    }\n",
       "\n",
       "    .dataframe thead th {\n",
       "        text-align: right;\n",
       "    }\n",
       "</style>\n",
       "<table border=\"1\" class=\"dataframe\">\n",
       "  <thead>\n",
       "    <tr style=\"text-align: right;\">\n",
       "      <th></th>\n",
       "      <th>user_id</th>\n",
       "      <th>subreddit_id</th>\n",
       "      <th>tos_pct</th>\n",
       "    </tr>\n",
       "  </thead>\n",
       "  <tbody>\n",
       "    <tr>\n",
       "      <th>0</th>\n",
       "      <td>t2_8fe238nke</td>\n",
       "      <td>t5_3nxko</td>\n",
       "      <td>0.02033</td>\n",
       "    </tr>\n",
       "    <tr>\n",
       "      <th>1</th>\n",
       "      <td>t2_8fe238nke</td>\n",
       "      <td>t5_2r40o</td>\n",
       "      <td>0.02439</td>\n",
       "    </tr>\n",
       "    <tr>\n",
       "      <th>2</th>\n",
       "      <td>t2_8fe238nke</td>\n",
       "      <td>t5_2t7no</td>\n",
       "      <td>0.00813</td>\n",
       "    </tr>\n",
       "    <tr>\n",
       "      <th>3</th>\n",
       "      <td>t2_8fe238nke</td>\n",
       "      <td>t5_2thzw</td>\n",
       "      <td>0.01626</td>\n",
       "    </tr>\n",
       "    <tr>\n",
       "      <th>4</th>\n",
       "      <td>t2_8fe238nke</td>\n",
       "      <td>t5_2qvp9</td>\n",
       "      <td>0.04472</td>\n",
       "    </tr>\n",
       "    <tr>\n",
       "      <th>5</th>\n",
       "      <td>t2_8fe238nke</td>\n",
       "      <td>t5_2yrq6</td>\n",
       "      <td>0.03252</td>\n",
       "    </tr>\n",
       "    <tr>\n",
       "      <th>6</th>\n",
       "      <td>t2_8fe238nke</td>\n",
       "      <td>t5_45hae8</td>\n",
       "      <td>0.01626</td>\n",
       "    </tr>\n",
       "    <tr>\n",
       "      <th>7</th>\n",
       "      <td>t2_8fe238nke</td>\n",
       "      <td>t5_3ajbp</td>\n",
       "      <td>0.11382</td>\n",
       "    </tr>\n",
       "    <tr>\n",
       "      <th>8</th>\n",
       "      <td>t2_8fe238nke</td>\n",
       "      <td>t5_2qi58</td>\n",
       "      <td>0.03659</td>\n",
       "    </tr>\n",
       "    <tr>\n",
       "      <th>9</th>\n",
       "      <td>t2_8fe238nke</td>\n",
       "      <td>t5_2qhpn</td>\n",
       "      <td>0.04878</td>\n",
       "    </tr>\n",
       "    <tr>\n",
       "      <th>10</th>\n",
       "      <td>t2_8fe238nke</td>\n",
       "      <td>t5_34a0h</td>\n",
       "      <td>0.49187</td>\n",
       "    </tr>\n",
       "    <tr>\n",
       "      <th>11</th>\n",
       "      <td>t2_8fe238nke</td>\n",
       "      <td>t5_35mye</td>\n",
       "      <td>0.03252</td>\n",
       "    </tr>\n",
       "    <tr>\n",
       "      <th>12</th>\n",
       "      <td>t2_8fe238nke</td>\n",
       "      <td>t5_2to41</td>\n",
       "      <td>0.05691</td>\n",
       "    </tr>\n",
       "    <tr>\n",
       "      <th>13</th>\n",
       "      <td>t2_8fe238nke</td>\n",
       "      <td>t5_2rybx</td>\n",
       "      <td>0.03659</td>\n",
       "    </tr>\n",
       "    <tr>\n",
       "      <th>14</th>\n",
       "      <td>t2_8fe238nke</td>\n",
       "      <td>t5_2qhon</td>\n",
       "      <td>0.02033</td>\n",
       "    </tr>\n",
       "  </tbody>\n",
       "</table>\n",
       "</div>"
      ],
      "text/plain": [
       "         user_id subreddit_id  tos_pct\n",
       "0   t2_8fe238nke     t5_3nxko  0.02033\n",
       "1   t2_8fe238nke     t5_2r40o  0.02439\n",
       "2   t2_8fe238nke     t5_2t7no  0.00813\n",
       "3   t2_8fe238nke     t5_2thzw  0.01626\n",
       "4   t2_8fe238nke     t5_2qvp9  0.04472\n",
       "5   t2_8fe238nke     t5_2yrq6  0.03252\n",
       "6   t2_8fe238nke    t5_45hae8  0.01626\n",
       "7   t2_8fe238nke     t5_3ajbp  0.11382\n",
       "8   t2_8fe238nke     t5_2qi58  0.03659\n",
       "9   t2_8fe238nke     t5_2qhpn  0.04878\n",
       "10  t2_8fe238nke     t5_34a0h  0.49187\n",
       "11  t2_8fe238nke     t5_35mye  0.03252\n",
       "12  t2_8fe238nke     t5_2to41  0.05691\n",
       "13  t2_8fe238nke     t5_2rybx  0.03659\n",
       "14  t2_8fe238nke     t5_2qhon  0.02033"
      ]
     },
     "execution_count": 25,
     "metadata": {},
     "output_type": "execute_result"
    }
   ],
   "source": [
    "# reshape_tos_for_df(\n",
    "#     't2_8fe238nke',\n",
    "#     df_users_tos[df_users_tos['user_id'] == 't2_8fe238nke']['feature_value'].values[0],\n",
    "# )\n",
    "\n",
    "pd.DataFrame(reshape_tos_for_df(\n",
    "    't2_8fe238nke',\n",
    "    df_users_tos[df_users_tos['user_id'] == 't2_8fe238nke']['feature_value'].values[0],\n",
    "))"
   ]
  },
  {
   "cell_type": "code",
   "execution_count": null,
   "id": "10612722",
   "metadata": {},
   "outputs": [],
   "source": []
  },
  {
   "cell_type": "code",
   "execution_count": null,
   "id": "78830b12",
   "metadata": {},
   "outputs": [],
   "source": []
  },
  {
   "cell_type": "markdown",
   "id": "43bf72de",
   "metadata": {},
   "source": [
    "## Time estimates on just converting the data to the right format\n",
    "\n",
    "with 10k users, Pandas seems WAY faster in this step:\n",
    "\n",
    "```bash\n",
    "# Pandas\n",
    "803 ms ± 3.74 ms per loop (mean ± std. dev. of 7 runs, 1 loop each)\n",
    "\n",
    "# Polars\n",
    "2,020 ms s ± 17.9 ms per loop (mean ± std. dev. of 7 runs, 1 loop each)\n",
    "\n",
    "##  2.02 s ± 17.9 ms per loop (mean ± std. dev. of 7 runs, 1 loop each)\n",
    "```"
   ]
  },
  {
   "cell_type": "code",
   "execution_count": 28,
   "id": "b0e5bed0",
   "metadata": {},
   "outputs": [
    {
     "name": "stdout",
     "output_type": "stream",
     "text": [
      "803 ms ± 3.74 ms per loop (mean ± std. dev. of 7 runs, 1 loop each)\n"
     ]
    }
   ],
   "source": [
    "%%timeit\n",
    "(\n",
    "    df_users_tos.head(int(1e4)).apply(lambda x: reshape_tos_for_df(x['user_id'], x['feature_value']), axis='columns')\n",
    ")"
   ]
  },
  {
   "cell_type": "code",
   "execution_count": 30,
   "id": "ab342460",
   "metadata": {},
   "outputs": [
    {
     "name": "stdout",
     "output_type": "stream",
     "text": [
      "2.02 s ± 17.9 ms per loop (mean ± std. dev. of 7 runs, 1 loop each)\n"
     ]
    }
   ],
   "source": [
    "%%timeit\n",
    "\n",
    "(\n",
    "    dfp_users_tos.head(int(1e4)).select(\n",
    "        pl.struct(['user_id', 'feature_value']).apply(\n",
    "            lambda x: reshape_tos_for_df(x['user_id'], x['feature_value'])\n",
    "        ).alias('subreddit_tos_expanded')\n",
    "    )\n",
    ")"
   ]
  },
  {
   "cell_type": "markdown",
   "id": "bef2ee33",
   "metadata": {},
   "source": [
    "## Time estimates on converting the data to long df (on a sample of users)\n",
    "\n",
    "We need to take into account the full time to convert to the output df\n",
    "\n",
    "And we also compare the output of the two methods to check each other's outputm"
   ]
  },
  {
   "cell_type": "code",
   "execution_count": null,
   "id": "dce99dd2",
   "metadata": {},
   "outputs": [],
   "source": [
    "TODO"
   ]
  },
  {
   "cell_type": "code",
   "execution_count": 49,
   "id": "23d306b7",
   "metadata": {},
   "outputs": [
    {
     "data": {
      "text/plain": [
       "50000"
      ]
     },
     "execution_count": 49,
     "metadata": {},
     "output_type": "execute_result"
    }
   ],
   "source": [
    "n_long_test = int(5e4)\n",
    "n_long_test"
   ]
  },
  {
   "cell_type": "code",
   "execution_count": 51,
   "id": "70a767cd",
   "metadata": {},
   "outputs": [
    {
     "name": "stdout",
     "output_type": "stream",
     "text": [
      "(7054807, 3)\n",
      "CPU times: user 11.5 s, sys: 1.46 s, total: 12.9 s\n",
      "Wall time: 12.6 s\n"
     ]
    }
   ],
   "source": [
    "%%time\n",
    "\n",
    "# create a chain, instead of keeping a tmp df\n",
    "dfp_users_tos_long_test = (\n",
    "    dfp_users_tos.head(n_long_test).select(\n",
    "        pl.struct(['user_id', 'feature_value'])\n",
    "        .apply(\n",
    "            lambda x: reshape_tos_for_df(x['user_id'], x['feature_value'])\n",
    "        )\n",
    "        .alias('subreddit_tos_expanded')\n",
    "    )\n",
    "    ['subreddit_tos_expanded'].struct.unnest().select(\n",
    "        [\n",
    "            pl.col('user_id').arr.explode(),\n",
    "            pl.col('subreddit_id').arr.explode(),\n",
    "            pl.col('tos_pct').arr.explode(),\n",
    "        ]\n",
    "    )\n",
    ")\n",
    "print(dfp_users_tos_long_test.shape)"
   ]
  },
  {
   "cell_type": "code",
   "execution_count": 64,
   "id": "13555042",
   "metadata": {},
   "outputs": [
    {
     "name": "stdout",
     "output_type": "stream",
     "text": [
      "(7054807, 3)\n",
      "CPU times: user 37.9 s, sys: 1.01 s, total: 38.9 s\n",
      "Wall time: 38.6 s\n"
     ]
    }
   ],
   "source": [
    "%%time\n",
    "\n",
    "df_users_tos_long_test = pd.concat(\n",
    "    [pd.DataFrame(_) for _ in\n",
    "        (\n",
    "            df_users_tos.head(n_long_test).apply(lambda x: reshape_tos_for_df(x['user_id'], x['feature_value']), axis='columns')\n",
    "        ).to_list()\n",
    "    ],\n",
    "    ignore_index=True,\n",
    ")\n",
    "print(df_users_tos_long_test.shape)"
   ]
  },
  {
   "cell_type": "code",
   "execution_count": 53,
   "id": "9fb7663a",
   "metadata": {},
   "outputs": [
    {
     "data": {
      "text/plain": [
       "3.055555555555556"
      ]
     },
     "execution_count": 53,
     "metadata": {},
     "output_type": "execute_result"
    }
   ],
   "source": [
    "38.5 / 12.6"
   ]
  },
  {
   "cell_type": "markdown",
   "id": "ef54833f",
   "metadata": {},
   "source": [
    "### Make sure that the df outputs are the same!\n",
    "\n",
    "Note that we need to reset & drop the index for the pandas df because it keeps the index for each individual df unless we ignore index at concat time.\n",
    "\n",
    "_NOTE_: When we use pd.equals() it also check the dataframe's index."
   ]
  },
  {
   "cell_type": "code",
   "execution_count": 76,
   "id": "7fe95d54",
   "metadata": {},
   "outputs": [
    {
     "name": "stdout",
     "output_type": "stream",
     "text": [
      "True\n",
      "CPU times: user 1.71 s, sys: 104 ms, total: 1.81 s\n",
      "Wall time: 1.79 s\n"
     ]
    }
   ],
   "source": [
    "%%time\n",
    "\n",
    "pa_eq_pl = dfp_users_tos_long_test.to_pandas().equals(df_users_tos_long_test.reset_index(drop=True))\n",
    "print(pa_eq_pl)\n",
    "assert pa_eq_pl\n",
    "del pa_eq_pl"
   ]
  },
  {
   "cell_type": "code",
   "execution_count": 72,
   "id": "dbb29da4",
   "metadata": {},
   "outputs": [
    {
     "data": {
      "text/plain": [
       "True"
      ]
     },
     "execution_count": 72,
     "metadata": {},
     "output_type": "execute_result"
    }
   ],
   "source": [
    "np.array_equal(dfp_users_tos_long_test.to_pandas().index, df_users_tos_long_test.index)"
   ]
  },
  {
   "cell_type": "code",
   "execution_count": 77,
   "id": "c20ddaa3",
   "metadata": {},
   "outputs": [
    {
     "name": "stdout",
     "output_type": "stream",
     "text": [
      "(7054807, 3)\n",
      "(7054807, 3)\n",
      "True\n"
     ]
    }
   ],
   "source": [
    "shape_pol_test_ = dfp_users_tos_long_test.to_pandas().shape\n",
    "shape_pan_test_ = df_users_tos_long_test.shape\n",
    "print(shape_pol_test_)\n",
    "print(shape_pan_test_)\n",
    "print(shape_pan_test_ == shape_pol_test_)\n",
    "del shape_pol_test_, shape_pan_test_"
   ]
  },
  {
   "cell_type": "markdown",
   "id": "863d2d6d",
   "metadata": {},
   "source": [
    "### Run timeit on test data [optional]\n",
    "Don't really need to run time it because it's clear that polars is ~3x faster when we measure end-to-end result for final output (df_long)"
   ]
  },
  {
   "cell_type": "code",
   "execution_count": 54,
   "id": "3ae1f4b4",
   "metadata": {},
   "outputs": [],
   "source": [
    "# %%timeit\n",
    "\n",
    "# df_users_tos_long_test = pd.concat(\n",
    "#     [pd.DataFrame(_) for _ in \n",
    "#         (\n",
    "#             df_users_tos.head(n_long_test).apply(lambda x: reshape_tos_for_df(x['user_id'], x['feature_value']), axis='columns')\n",
    "#         ).to_list()\n",
    "#     ]\n",
    "# )"
   ]
  },
  {
   "cell_type": "code",
   "execution_count": 55,
   "id": "5e895c7d",
   "metadata": {},
   "outputs": [],
   "source": [
    "# %%timeit\n",
    "\n",
    "# dfp_users_tos_long_test = (\n",
    "#     dfp_users_tos.head(n_long_test).select(\n",
    "#         pl.struct(['user_id', 'feature_value'])\n",
    "#         .apply(\n",
    "#             lambda x: reshape_tos_for_df(x['user_id'], x['feature_value'])\n",
    "#         )\n",
    "#         .alias('subreddit_tos_expanded')\n",
    "#     )\n",
    "#     ['subreddit_tos_expanded'].struct.unnest().select(\n",
    "#         [\n",
    "#             pl.col('user_id').arr.explode(),\n",
    "#             pl.col('subreddit_id').arr.explode(),\n",
    "#             pl.col('tos_pct').arr.explode(),\n",
    "#         ]\n",
    "#     )\n",
    "# )"
   ]
  },
  {
   "cell_type": "markdown",
   "id": "ff26e3e7",
   "metadata": {},
   "source": [
    "## Convert full data\n",
    "with pandas, we have a lot of overhead so the whole process takes 13+ minutes (creating individual dataframes & then concat into a final df)\n",
    "\n",
    "```bash\n",
    "# Pandas\n",
    "CPU times: user 12min 39s, sys: 1min 12s, total: 13min 51s\n",
    "Wall time: 13min 46s\n",
    "\n",
    "\n",
    "# Polars\n",
    "CPU times: user 3min 49s, sys: 40.4 s, total: 4min 30s\n",
    "Wall time: 4min 25s\n",
    "```"
   ]
  },
  {
   "cell_type": "code",
   "execution_count": 81,
   "id": "1a0b903f",
   "metadata": {},
   "outputs": [
    {
     "data": {
      "text/plain": [
       "3.116981132075472"
      ]
     },
     "execution_count": 81,
     "metadata": {},
     "output_type": "execute_result"
    }
   ],
   "source": [
    "(13 + 46/60) / (4 + 25/60)"
   ]
  },
  {
   "cell_type": "code",
   "execution_count": 78,
   "id": "2b30bafc",
   "metadata": {},
   "outputs": [
    {
     "name": "stdout",
     "output_type": "stream",
     "text": [
      "(130601209, 3)\n",
      "CPU times: user 3min 49s, sys: 40.4 s, total: 4min 30s\n",
      "Wall time: 4min 25s\n"
     ]
    }
   ],
   "source": [
    "%%time\n",
    "\n",
    "# create a chain, instead of keeping a tmp df\n",
    "dfp_users_tos_long = (\n",
    "    dfp_users_tos\n",
    "    .select(\n",
    "        pl.struct(['user_id', 'feature_value'])\n",
    "        .apply(\n",
    "            lambda x: reshape_tos_for_df(x['user_id'], x['feature_value'])\n",
    "        )\n",
    "        .alias('subreddit_tos_expanded')\n",
    "    )\n",
    "    ['subreddit_tos_expanded'].struct.unnest().select(\n",
    "        [\n",
    "            pl.col('user_id').arr.explode(),\n",
    "            pl.col('subreddit_id').arr.explode(),\n",
    "            pl.col('tos_pct').arr.explode(),\n",
    "        ]\n",
    "    )\n",
    ")\n",
    "print(dfp_users_tos_long.shape)"
   ]
  },
  {
   "cell_type": "code",
   "execution_count": 69,
   "id": "0f3dc203",
   "metadata": {},
   "outputs": [
    {
     "name": "stdout",
     "output_type": "stream",
     "text": [
      "CPU times: user 12min 39s, sys: 1min 12s, total: 13min 51s\n",
      "Wall time: 13min 46s\n"
     ]
    }
   ],
   "source": [
    "# %%time\n",
    "\n",
    "# df_tos_long = pd.concat(\n",
    "#     [pd.DataFrame(_) for _ in \n",
    "#         (\n",
    "#             df_users_tos.apply(lambda x: reshape_tos_for_df(x['user_id'], x['feature_value']), axis='columns')\n",
    "#         ).to_list()\n",
    "#     ]\n",
    "# )\n",
    "# print(df_tos_long)"
   ]
  },
  {
   "cell_type": "markdown",
   "id": "1d8ca301",
   "metadata": {},
   "source": [
    "### Can we speed it up even more by running a few calculations explicitly in parallel?\n",
    "\n",
    "with `dask.delayed()` we should be able to queue and run a few jobs in parallel which _should_ speed up the `polars` calculation even more"
   ]
  },
  {
   "cell_type": "code",
   "execution_count": 79,
   "id": "8a4680cd",
   "metadata": {},
   "outputs": [],
   "source": [
    "# df_tos_long.head()"
   ]
  },
  {
   "cell_type": "code",
   "execution_count": 80,
   "id": "4e5c4812",
   "metadata": {},
   "outputs": [],
   "source": [
    "# counts_describe(df_tos_long[['user_id']])"
   ]
  },
  {
   "cell_type": "code",
   "execution_count": null,
   "id": "85b6dd8e",
   "metadata": {},
   "outputs": [],
   "source": []
  },
  {
   "cell_type": "code",
   "execution_count": null,
   "id": "afb7b93b",
   "metadata": {},
   "outputs": [],
   "source": []
  },
  {
   "cell_type": "code",
   "execution_count": null,
   "id": "41109b39",
   "metadata": {},
   "outputs": [],
   "source": []
  }
 ],
 "metadata": {
  "environment": {
   "name": "common-cpu.m65",
   "type": "gcloud",
   "uri": "gcr.io/deeplearning-platform-release/base-cpu:m65"
  },
  "kernelspec": {
   "display_name": "Python 3",
   "language": "python",
   "name": "python3"
  },
  "language_info": {
   "codemirror_mode": {
    "name": "ipython",
    "version": 3
   },
   "file_extension": ".py",
   "mimetype": "text/x-python",
   "name": "python",
   "nbconvert_exporter": "python",
   "pygments_lexer": "ipython3",
   "version": "3.7.10"
  }
 },
 "nbformat": 4,
 "nbformat_minor": 5
}
