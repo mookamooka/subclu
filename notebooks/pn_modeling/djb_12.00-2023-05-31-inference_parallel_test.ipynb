{
 "cells": [
  {
   "cell_type": "markdown",
   "id": "0787232b",
   "metadata": {},
   "source": [
    "# Purpose\n",
    "\n",
    "\n",
    "### 2023-05-31\n",
    "**New in this notebook:**\n",
    "Instead of doing the ranking and reshaping in pandas/polars, I'll \n",
    "- Save the raw inference data to a stating table in BQ\n",
    "- Run a BQ query to\n",
    "    - Create the rank column (in a CTE)\n",
    "    - Reshape the data to the desired target format\n",
    "    - Insert it into a staging table (`tmp` table for gazette inference?)\n",
    "    - Copy partition from stating table to prod table\n",
    "    \n",
    "By inserting data into the staging table, we ensure that the model outputs match the prod outputs and reduce the chance of blasting data from the prod table.\n",
    "\n",
    "---\n",
    "\n",
    "***General steps**\n",
    "- Pull data for inference from GCS\n",
    "- Load best model from previous run \n",
    "- Run inference on large 1k subreddits (r/de, r/ich_iel, r/fragreddit)\n",
    "    - Save inference data (raw)\n",
    "\n",
    "\n",
    "- Reshape data for cache\n",
    "    - 1 row = subreddit + country + subscribed status. Examples:\n",
    "        - r/`de` | DE (Germany) | 1 (Subscribed) | {Nested struct of top N users}\n",
    "        - r/`de` | DE (Germany) | 0 (viewed, but NOT Subscribed) |  {Nested struct of top N users}\n",
    "        \n",
    "Open questions:\n",
    "- Other Geos: For now we'll exclude them because ROW can take up a lot of inference & processing time\n",
    "    - How do we handle users that have NULL/no Geo?\n",
    "        - Exclude them\n",
    "    - How do we handle users from non-target Geos?\n",
    "        - Exclude them"
   ]
  },
  {
   "cell_type": "markdown",
   "id": "0c7ce91c",
   "metadata": {},
   "source": [
    "# Imports & Setup"
   ]
  },
  {
   "cell_type": "code",
   "execution_count": 1,
   "id": "63154bfa",
   "metadata": {},
   "outputs": [],
   "source": [
    "%load_ext autoreload\n",
    "%autoreload 2"
   ]
  },
  {
   "cell_type": "code",
   "execution_count": 2,
   "id": "68db783b",
   "metadata": {},
   "outputs": [
    {
     "name": "stdout",
     "output_type": "stream",
     "text": [
      "python\t\tv 3.7.10\n",
      "===\n",
      "google.cloud.bigquery\tv: 2.13.1\n",
      "joblib\t\tv: 1.0.1\n",
      "numpy\t\tv: 1.19.5\n",
      "pandas\t\tv: 1.2.4\n",
      "polars\t\tv: 0.17.1\n",
      "plotly\t\tv: 5.11.0\n",
      "mlflow\t\tv: 1.16.0\n",
      "subclu\t\tv: 0.6.1\n"
     ]
    }
   ],
   "source": [
    "from datetime import datetime\n",
    "import gc\n",
    "import glob\n",
    "import logging\n",
    "from logging import info\n",
    "import os\n",
    "from pathlib import Path\n",
    "import json\n",
    "from typing import List, Union\n",
    "\n",
    "import polars as pl\n",
    "import numpy as np\n",
    "import pandas as pd\n",
    "import plotly\n",
    "import seaborn as sns\n",
    "\n",
    "from tqdm.auto import tqdm\n",
    "import dask\n",
    "import mlflow\n",
    "\n",
    "import subclu\n",
    "from subclu.eda.aggregates import compare_raw_v_weighted_language\n",
    "from subclu.utils import set_working_directory, get_project_subfolder\n",
    "from subclu.utils.eda import (\n",
    "    setup_logging, counts_describe, value_counts_and_pcts,\n",
    "    notebook_display_config, print_lib_versions,\n",
    "    style_df_numeric, reorder_array,\n",
    ")\n",
    "from subclu.utils.mlflow_logger import MlflowLogger\n",
    "from subclu.utils.hydra_config_loader import LoadHydraConfig\n",
    "from subclu.utils.data_irl_style import (\n",
    "    get_colormap, theme_dirl, \n",
    "    get_color_dict, base_colors_for_manual_labels,\n",
    "    check_colors_used,\n",
    ")\n",
    "from subclu.data.data_loaders import LoadPosts, LoadSubreddits, create_sub_level_aggregates\n",
    "\n",
    "\n",
    "# ===\n",
    "# imports specific to this notebook\n",
    "import joblib\n",
    "from typing import Tuple, Union\n",
    "\n",
    "from subclu.models.nn_annoy import AnnoyIndex\n",
    "from subclu.utils.eda import get_venn_sets2\n",
    "\n",
    "from matplotlib_venn import venn2_unweighted\n",
    "\n",
    "from google.cloud import bigquery\n",
    "from subclu.pn_models import get_data\n",
    "\n",
    "\n",
    "client = bigquery.Client()\n",
    "\n",
    "print_lib_versions([bigquery, joblib, np, pd, pl, plotly, mlflow, subclu])"
   ]
  },
  {
   "cell_type": "code",
   "execution_count": 3,
   "id": "a1b6f452",
   "metadata": {},
   "outputs": [],
   "source": [
    "# plotting\n",
    "import matplotlib.pyplot as plt\n",
    "import matplotlib.ticker as mtick\n",
    "import matplotlib.dates as mdates\n",
    "plt.style.use('default')\n",
    "\n",
    "setup_logging()\n",
    "notebook_display_config()"
   ]
  },
  {
   "cell_type": "markdown",
   "id": "f6733b19",
   "metadata": {},
   "source": [
    "# Define local path for this model outputs"
   ]
  },
  {
   "cell_type": "code",
   "execution_count": 4,
   "id": "69bd372c",
   "metadata": {},
   "outputs": [
    {
     "name": "stdout",
     "output_type": "stream",
     "text": [
      "/home/jupyter/subreddit_clustering_i18n/data/models/pn_model/pn_manual_test_2023-06-01_190228\n"
     ]
    }
   ],
   "source": [
    "manual_model_timestamp = datetime.utcnow().strftime('%Y-%m-%d_%H%M%S')\n",
    "path_this_model = get_project_subfolder(\n",
    "    f\"data/models/pn_model/pn_manual_test_{manual_model_timestamp}\"\n",
    ")\n",
    "Path.mkdir(path_this_model, parents=True, exist_ok=True)\n",
    "print(path_this_model)"
   ]
  },
  {
   "cell_type": "markdown",
   "id": "731adf7f",
   "metadata": {},
   "source": [
    "# Pick top model & upload it to GCS\n",
    "We'll want to move it to GCS so that we can recover it in kubeflow or elsewhere to run inference in parallel"
   ]
  },
  {
   "cell_type": "code",
   "execution_count": 5,
   "id": "2565df9a",
   "metadata": {},
   "outputs": [
    {
     "data": {
      "text/plain": [
       "'gs://i18n-subreddit-clustering/data/models/pn_model/pn_manual_test_2023-05-30_153024'"
      ]
     },
     "execution_count": 5,
     "metadata": {},
     "output_type": "execute_result"
    }
   ],
   "source": [
    "path_inference_model = Path(\"/home/jupyter/subreddit_clustering_i18n/data/models/pn_model/pn_manual_test_2023-05-30_153024\")\n",
    "\n",
    "gcs_inf_model_upload_dir = f\"gs://i18n-subreddit-clustering/data/models/pn_model/{path_inference_model.name}\"\n",
    "gcs_inf_model_upload_dir"
   ]
  },
  {
   "cell_type": "code",
   "execution_count": 6,
   "id": "1776f81a",
   "metadata": {},
   "outputs": [
    {
     "name": "stdout",
     "output_type": "stream",
     "text": [
      "X_test-172807_47.parquet\t    model-rf_pre1-train_806431_40.gz\n",
      "X_train-806431_47.parquet\t    model-xgboost-train_20000_40.gz\n",
      "X_validate-172807_47.parquet\t    model-xgboost-train_806431_40.gz\n",
      "df_train-1152045_52.parquet\t    model-xgboost_pre1-train_20000_40.gz\n",
      "model-hgbc_pre1-train_20000_40.gz   model-xgboost_pre1-train_806431_40.gz\n",
      "model-hgbc_pre1-train_806431_40.gz  y_test-172807_1.parquet\n",
      "model-rf-train_20000_40.gz\t    y_train-806431_1.parquet\n",
      "model-rf-train_806431_40.gz\t    y_validate-172807_1.parquet\n",
      "model-rf_pre1-train_20000_40.gz\n"
     ]
    }
   ],
   "source": [
    "!ls $path_inference_model"
   ]
  },
  {
   "cell_type": "code",
   "execution_count": 7,
   "id": "a65e033c",
   "metadata": {},
   "outputs": [
    {
     "name": "stdout",
     "output_type": "stream",
     "text": [
      "gsutil -m cp -r /home/jupyter/subreddit_clustering_i18n/data/models/pn_model/pn_manual_test_2023-05-30_153024 gs://i18n-subreddit-clustering/data/models/pn_model/pn_manual_test_2023-05-30_153024\n"
     ]
    }
   ],
   "source": [
    "!echo gsutil -m cp -r $path_inference_model $gcs_inf_model_upload_dir"
   ]
  },
  {
   "cell_type": "code",
   "execution_count": 8,
   "id": "107ea3cd",
   "metadata": {},
   "outputs": [],
   "source": [
    "# !gsutil -m cp -r $path_inference_model $gcs_inf_model_upload_dir"
   ]
  },
  {
   "cell_type": "markdown",
   "id": "9eee11ab",
   "metadata": {},
   "source": [
    "# Load Model & Get list of columns used for training"
   ]
  },
  {
   "cell_type": "code",
   "execution_count": 9,
   "id": "80d03fcb",
   "metadata": {},
   "outputs": [
    {
     "name": "stdout",
     "output_type": "stream",
     "text": [
      "CPU times: user 3.63 s, sys: 11.6 ms, total: 3.64 s\n",
      "Wall time: 163 ms\n"
     ]
    },
    {
     "data": {
      "text/plain": [
       "GridSearchCV(cv=StratifiedKFold(n_splits=4, random_state=42, shuffle=True),\n",
       "             estimator=Pipeline(steps=[('preprocess',\n",
       "                                        ColumnTransformer(remainder='passthrough',\n",
       "                                                          transformers=[('scale',\n",
       "                                                                         StandardScaler(),\n",
       "                                                                         ['screen_view_count_14d_log',\n",
       "                                                                          'user_receives_pn_subreddit_count_t7',\n",
       "                                                                          'user_receives_pn_t7',\n",
       "                                                                          'user_receives_pn_t14',\n",
       "                                                                          'user_receives_pn_t30',\n",
       "                                                                          'log_user_clicks_pn_...\n",
       "                                                      predictor=None,\n",
       "                                                      random_state=42,\n",
       "                                                      reg_alpha=None,\n",
       "                                                      reg_lambda=None, ...))]),\n",
       "             n_jobs=-1,\n",
       "             param_grid={'clf__eval_metric': ['auc'],\n",
       "                         'clf__learning_rate': [0.1, 0.2, 0.25],\n",
       "                         'clf__max_depth': [5, 4],\n",
       "                         'clf__min_child_weight': [1, 2],\n",
       "                         'clf__n_estimators': [900, 1100],\n",
       "                         'preprocess__scale': [StandardScaler(),\n",
       "                                               RobustScaler()]},\n",
       "             refit='recall', scoring=['f1', 'precision', 'recall', 'accuracy'])"
      ]
     },
     "execution_count": 9,
     "metadata": {},
     "output_type": "execute_result"
    }
   ],
   "source": [
    "%%time\n",
    "\n",
    "model_path = f\"{path_inference_model}/model-xgboost_pre1-train_806431_40.gz\"\n",
    "model = joblib.load(\n",
    "    model_path\n",
    ")\n",
    "\n",
    "model"
   ]
  },
  {
   "cell_type": "code",
   "execution_count": 10,
   "id": "cc18366d",
   "metadata": {},
   "outputs": [
    {
     "name": "stdout",
     "output_type": "stream",
     "text": [
      "40 <- Model feature count\n",
      "Features:\n",
      "  ['screen_view_count_14d_log', 'user_receives_pn_subreddit_count_t7', 'user_receives_pn_t7', 'user_receives_pn_t14', 'user_receives_pn_t30', 'log_user_clicks_pn_t7', 'log_user_clicks_trnd_t7', 'log_post_consumes_30', 'log_num_post_consumes_home_30', 'pct_post_consumes_home_30', 'pct_post_consumes_community_30', 'pct_post_consumes_post_detail_30', 'pct_post_consumes_ios_30', 'pct_post_consumes_android_30', 'pct_post_consumes_nsfw_30', 'num_post_consumes_ios_30', 'num_post_consumes_android_30', 'sub_dau_perc_l28', 'perc_by_country_sd', 'us_screenviews_l14_log', 'us_distinct_posts_viewed_l14_log', 'us_post_screenviews_l14_log', 'us_trend_pn_receive_l14_log', 'us_days_active_ios_l30_pct', 'us_android_days_active_l30_pct', 'us_upvotes_l14', 'us_comments_l14', 'us_posts_l14', 'us_trend_pn_click_l14', 'us_sessions_l14', 'us_ios_days_active_l30', 'us_android_days_active_l30', 'us_days_active_l30', 'users_log_l28', 'seo_users_pct_l28', 'loggedin_users_pct_l28', 'ios_users_pct_l28', 'android_users_pct_l28', 'legacy_user_cohort_ord', 'subscribed']\n"
     ]
    }
   ],
   "source": [
    "# Get input feature names for modeling\n",
    "l_feature_names = [\n",
    "    '__'.join(_.split('__')[1:]) for _ in model.best_estimator_['preprocess'].get_feature_names_out()\n",
    "]\n",
    "print(\n",
    "    f\"{len(l_feature_names)} <- Model feature count\"\n",
    "    f\"\\nFeatures:\"\n",
    "    f\"\\n  {l_feature_names}\"\n",
    ")"
   ]
  },
  {
   "cell_type": "code",
   "execution_count": 11,
   "id": "d8ffb174",
   "metadata": {},
   "outputs": [
    {
     "name": "stdout",
     "output_type": "stream",
     "text": [
      "CPU times: user 3 µs, sys: 2 µs, total: 5 µs\n",
      "Wall time: 11 µs\n"
     ]
    }
   ],
   "source": [
    "%%time\n",
    "\n",
    "# We also need these columns to save the outputs (even if not used for inference directly)\n",
    "c_user_geo_col = 'user_geo_country_code'\n",
    "l_ix_cols = [\n",
    "    'pt',\n",
    "    'target_subreddit',\n",
    "    'target_subreddit_id',\n",
    "    'subscribed',\n",
    "    c_user_geo_col,  # We'll maybe need to rename it in final table?\n",
    "    'user_id',\n",
    "]\n",
    "\n",
    "# Each row in output table will be at this grain:\n",
    "l_ix_cache = [\n",
    "    'pt',\n",
    "    'target_subreddit_id',\n",
    "    'target_subreddit',\n",
    "    'subscribed',\n",
    "    c_user_geo_col,  # We'll maybe need to rename it in final table?\n",
    "]\n",
    "\n",
    "# Other columns for output: These we'll create as part of inference\n",
    "c_pred_proba = 'click_proba'\n",
    "#   TODO(djb): this rank also needs to be at SUBSCRIPTION level! subscribers & non-subscribers will have a different rank!\n",
    "c_user_rank = 'user_rank_by_sub_and_geo'  "
   ]
  },
  {
   "cell_type": "code",
   "execution_count": 12,
   "id": "71aecbd9",
   "metadata": {},
   "outputs": [
    {
     "data": {
      "text/plain": [
       "{'android_users_pct_l28',\n",
       " 'ios_users_pct_l28',\n",
       " 'legacy_user_cohort_ord',\n",
       " 'log_num_post_consumes_home_30',\n",
       " 'log_post_consumes_30',\n",
       " 'log_user_clicks_pn_t7',\n",
       " 'log_user_clicks_trnd_t7',\n",
       " 'loggedin_users_pct_l28',\n",
       " 'num_post_consumes_android_30',\n",
       " 'num_post_consumes_ios_30',\n",
       " 'pct_post_consumes_android_30',\n",
       " 'pct_post_consumes_community_30',\n",
       " 'pct_post_consumes_home_30',\n",
       " 'pct_post_consumes_ios_30',\n",
       " 'pct_post_consumes_nsfw_30',\n",
       " 'pct_post_consumes_post_detail_30',\n",
       " 'perc_by_country_sd',\n",
       " 'pt',\n",
       " 'screen_view_count_14d_log',\n",
       " 'seo_users_pct_l28',\n",
       " 'sub_dau_perc_l28',\n",
       " 'subscribed',\n",
       " 'target_subreddit',\n",
       " 'target_subreddit_id',\n",
       " 'us_android_days_active_l30',\n",
       " 'us_android_days_active_l30_pct',\n",
       " 'us_comments_l14',\n",
       " 'us_days_active_ios_l30_pct',\n",
       " 'us_days_active_l30',\n",
       " 'us_distinct_posts_viewed_l14_log',\n",
       " 'us_ios_days_active_l30',\n",
       " 'us_post_screenviews_l14_log',\n",
       " 'us_posts_l14',\n",
       " 'us_screenviews_l14_log',\n",
       " 'us_sessions_l14',\n",
       " 'us_trend_pn_click_l14',\n",
       " 'us_trend_pn_receive_l14_log',\n",
       " 'us_upvotes_l14',\n",
       " 'user_geo_country_code',\n",
       " 'user_id',\n",
       " 'user_receives_pn_subreddit_count_t7',\n",
       " 'user_receives_pn_t14',\n",
       " 'user_receives_pn_t30',\n",
       " 'user_receives_pn_t7',\n",
       " 'users_log_l28'}"
      ]
     },
     "execution_count": 12,
     "metadata": {},
     "output_type": "execute_result"
    }
   ],
   "source": [
    "# columns to query in BQ table:\n",
    "set(l_ix_cols + l_feature_names)"
   ]
  },
  {
   "cell_type": "markdown",
   "id": "f6f6742f",
   "metadata": {},
   "source": [
    "# Load & reshape data"
   ]
  },
  {
   "cell_type": "markdown",
   "id": "da83c835",
   "metadata": {},
   "source": [
    "## Export data to GCS\n",
    "\n",
    "Here we'll export a SAMPLE so we can test the process before running on 26k subreddits"
   ]
  },
  {
   "cell_type": "code",
   "execution_count": 13,
   "id": "bdbd0c59",
   "metadata": {},
   "outputs": [],
   "source": [
    "# %%time\n",
    "# %%bigquery _ --project data-prod-165221/ \n",
    "\n",
    "# -- ============\n",
    "# -- Export data to GCS because querying such a huge table takes forever and a half\n",
    "# -- ===\n",
    "# EXPORT DATA OPTIONS(\n",
    "#     uri='gs://i18n-subreddit-clustering/pn_model/runs/inference/20230529_sample/*.parquet',\n",
    "#     format='PARQUET',\n",
    "#     overwrite=true\n",
    "# ) AS\n",
    "\n",
    "# SELECT\n",
    "#     pt, target_subreddit, target_subreddit_id, subscribed, user_geo_country_code, user_id\n",
    "#     , screen_view_count_14d_log, user_receives_pn_subreddit_count_t7, user_receives_pn_t7\n",
    "#     , user_receives_pn_t14, user_receives_pn_t30, log_user_clicks_pn_t7, log_user_clicks_trnd_t7\n",
    "#     , log_post_consumes_30, log_num_post_consumes_home_30, pct_post_consumes_home_30, pct_post_consumes_community_30, pct_post_consumes_post_detail_30, pct_post_consumes_ios_30\n",
    "#     , pct_post_consumes_android_30, pct_post_consumes_nsfw_30, num_post_consumes_ios_30\n",
    "#     , num_post_consumes_android_30, sub_dau_perc_l28, perc_by_country_sd, us_screenviews_l14_log\n",
    "#     , us_distinct_posts_viewed_l14_log, us_post_screenviews_l14_log, us_trend_pn_receive_l14_log\n",
    "#     , us_days_active_ios_l30_pct, us_android_days_active_l30_pct, us_upvotes_l14, us_comments_l14\n",
    "#     , us_posts_l14, us_trend_pn_click_l14, us_sessions_l14, us_ios_days_active_l30\n",
    "#     , us_android_days_active_l30, us_days_active_l30, users_log_l28, seo_users_pct_l28\n",
    "#     , loggedin_users_pct_l28, ios_users_pct_l28, android_users_pct_l28, legacy_user_cohort_ord\n",
    "# FROM `reddit-employee-datasets.david_bermejo.pn_ft_all_20230530` AS f\n",
    "#     INNER JOIN (\n",
    "#         -- Pick top subreddits for sampling/testing\n",
    "#         SELECT\n",
    "#             s.subreddit_id, s.subreddit_name\n",
    "#             , ROW_NUMBER() OVER(ORDER BY users_l7 DESC) AS rank_by_users\n",
    "#         FROM `reddit-employee-datasets.david_bermejo.pn_ft_subreddits_20230525` AS s\n",
    "\n",
    "#         WHERE s.pt = '2023-05-29'\n",
    "#         -- For testing, we can limit to only the top subreddits\n",
    "#         QUALIFY (\n",
    "#             rank_by_users <= 2000\n",
    "#             OR subreddit_name LIKE \"%street%\"\n",
    "#             OR subreddit_name LIKE \"%figther%\"\n",
    "#         )\n",
    "#     ) AS sub\n",
    "#         ON f.target_subreddit_id = sub.subreddit_id\n",
    "\n",
    "# WHERE pt = '2023-05-29'\n",
    "# ;"
   ]
  },
  {
   "cell_type": "markdown",
   "id": "3cf1cafe",
   "metadata": {},
   "source": [
    "\n",
    "\n",
    "## Download training data from GCS\n",
    "\n",
    "Here we mostly copy the query used for training. Note that we should match column names.\n",
    "\n",
    "We uset GCS instead of pulling from BigQuery to save time. We also sync data with `gsutil` instead of trying to read directly from GCS\n",
    "\n",
    "for 1k subreddits:\n",
    "- ~1,800 files\n",
    "- ~50 GB\n",
    "- ~10 minutes to download with `gsutil`\n",
    "\n",
    "For 2k subreddits:\n",
    "- 5,000 files\n",
    "- ~198 GB\n",
    "- ~25 minutes to download with `gsutil`\n"
   ]
  },
  {
   "cell_type": "code",
   "execution_count": 14,
   "id": "1343b528",
   "metadata": {},
   "outputs": [
    {
     "name": "stdout",
     "output_type": "stream",
     "text": [
      "gs://i18n-subreddit-clustering/pn_model/runs/inference/20230529_sample/\n",
      "/home/jupyter/subreddit_clustering_i18n/data/local_cache/i18n-subreddit-clustering/pn_model/runs/inference/20230529_sample\n"
     ]
    }
   ],
   "source": [
    "bucket_name = 'i18n-subreddit-clustering'\n",
    "gcs_inference = f\"gs://{bucket_name}/pn_model/runs/inference/20230529_sample/\"\n",
    "\n",
    "path_local_cache = Path(f\"/home/jupyter/subreddit_clustering_i18n/data/local_cache/{bucket_name}/\")\n",
    "local_path_inference = path_local_cache / gcs_inference.split(f\"{bucket_name}/\")[1]\n",
    "Path.mkdir(local_path_inference, exist_ok=True, parents=True)\n",
    "\n",
    "print(gcs_inference)\n",
    "print(local_path_inference)"
   ]
  },
  {
   "cell_type": "code",
   "execution_count": 15,
   "id": "58bff933",
   "metadata": {},
   "outputs": [],
   "source": [
    "# !gsutil ls $gcs_inference"
   ]
  },
  {
   "cell_type": "code",
   "execution_count": 16,
   "id": "5e7cf34c",
   "metadata": {},
   "outputs": [],
   "source": [
    "# delete in case we exported the wrong data\n",
    "## !echo gsutil -m rm -r gcs_inference"
   ]
  },
  {
   "cell_type": "code",
   "execution_count": 17,
   "id": "1342ac56",
   "metadata": {},
   "outputs": [
    {
     "name": "stdout",
     "output_type": "stream",
     "text": [
      "gsutil -o GSUtil:parallel_thread_count=20 -o GSUtil:parallel_process_count=20 -m rsync -r -n gs://i18n-subreddit-clustering/pn_model/runs/inference/20230529_sample/ /home/jupyter/subreddit_clustering_i18n/data/local_cache/i18n-subreddit-clustering/pn_model/runs/inference/20230529_sample -q\n",
      "\n",
      "\n",
      "gsutil -o GSUtil:parallel_thread_count=20 -o GSUtil:parallel_process_count=20 -m rsync -r gs://i18n-subreddit-clustering/pn_model/runs/inference/20230529_sample/ /home/jupyter/subreddit_clustering_i18n/data/local_cache/i18n-subreddit-clustering/pn_model/runs/inference/20230529_sample -q\n"
     ]
    }
   ],
   "source": [
    "# try -q (quiet) mode at the end to suppress progress & file list\n",
    "#. This can be helpful when we have 2k+ files b/c gsutil can overwhelm/freeze the system\n",
    "#. also try a lower process count (20 seems to freeze, maybe try 10?)\n",
    "\n",
    "!echo gsutil -o GSUtil:parallel_thread_count=12 -o GSUtil:parallel_process_count=12 -m rsync -r -n $gcs_inference $local_path_inference\n",
    "print('\\n')\n",
    "\n",
    "!echo gsutil -q -o GSUtil:parallel_thread_count=12 -o GSUtil:parallel_process_count=12 -m rsync -r $gcs_inference $local_path_inference\n",
    "!echo gsutil -o GSUtil:parallel_thread_count=12 -o GSUtil:parallel_process_count=12 -m rsync -r $gcs_inference $local_path_inference"
   ]
  },
  {
   "cell_type": "markdown",
   "id": "afa4d0ae",
   "metadata": {},
   "source": [
    "# Run inference - each file in parallel\n",
    "For running inference we require pandas because it's the format sklearn/XGBoost expects for inputs. \n",
    "\n",
    "~~Because we can't use `polars` for parallel processing, let's just process & run inference on each file individually.\n",
    "Then, once we've run inference on all files we can move to polars for ranking and clipping, which polars can do well in parallel.~~\n",
    "\n",
    "NEW: \n",
    "<br>forget using polars for post-processing/reshaping! Instead load the raw inference to BQ and then rank & reshape there!\n",
    "\n",
    "---\n",
    "\n",
    "ETAs for only `inference` & `save`:\n",
    "- 0:49 (hh:mins): 47,055,198.9 rows / min | `2,305,704,745` rows with pandas + paralle with `dask` (5k files)\n",
    "- 1:42 (hh:mins): 22,604,948.5 rows / min | `2,305,704,745` rows with pandas in series [1 file at a time] (5k files)\n",
    "- 0:21 (hh:mins): 33,617,303.5 rows / min | `0,705,963,374` rows with pandas (1 file)\n",
    "\n",
    "\n",
    "```bash\n",
    "# `2,305,704,745` rows with pandas in SERIES [1 file at a time]\n",
    "42/5000 [00:50<1:41:02, 1.22s/it]\n",
    "\n",
    "# ---\n",
    "\n",
    "# `2,305,704,745` rows with pandas in PARALLEL\n",
    "CPU times: user 15h 54min 6s, sys: 1h 7min 58s, total: 17h 2min 5s\n",
    "Wall time: 49min 7s\n",
    "\n",
    "# ---\n",
    "\n",
    "# Read data. `705,963,374` rows with pandas\n",
    "CPU times: user 7min 59s, sys: 5min 1s, total: 13min 1s\n",
    "Wall time: 26 s\n",
    "(705963374, 26)\n",
    "\n",
    "# Run inference\n",
    "18:33:47 | INFO | \"Create new df for predictions...\"\n",
    "18:47:44 | INFO | \"Done with predictions\"\n",
    "CPU times: user 3h 54min 39s, sys: 3min 2s, total: 3h 57min 41s\n",
    "Wall time: 13min 56s\n",
    "\n",
    "# Save inference file (note it might take longer b/c I also added rank column in the previous step)\n",
    "20:44:55 | INFO | \"start saving predictions...\"\n",
    "CPU times: user 5min 45s, sys: 31.3 s, total: 6min 17s\n",
    "Wall time: 6min 24s\n",
    "```\n",
    "\n",
    "To check progress manually, we can run this command from the CLI to count the number of output files:\n",
    "\n",
    "```bash\n",
    "ls \"/home/jupyter/subreddit_clustering_i18n/data/models/pn_model/pn_manual_test_2023-06-01_190228/inference/\" -l | wc -l\n",
    "# 1473\n",
    "```"
   ]
  },
  {
   "cell_type": "code",
   "execution_count": 62,
   "id": "4210faf5",
   "metadata": {},
   "outputs": [
    {
     "name": "stdout",
     "output_type": "stream",
     "text": [
      "CPU times: user 0 ns, sys: 1.9 ms, total: 1.9 ms\n",
      "Wall time: 3.53 ms\n"
     ]
    }
   ],
   "source": [
    "from subclu.pn_models.pn_inference import run_inference_on_one_file"
   ]
  },
  {
   "cell_type": "code",
   "execution_count": 51,
   "id": "045e8eed",
   "metadata": {},
   "outputs": [
    {
     "name": "stdout",
     "output_type": "stream",
     "text": [
      "5000\n",
      "CPU times: user 16.1 ms, sys: 0 ns, total: 16.1 ms\n",
      "Wall time: 15.8 ms\n"
     ]
    },
    {
     "data": {
      "text/plain": [
       "['/home/jupyter/subreddit_clustering_i18n/data/local_cache/i18n-subreddit-clustering/pn_model/runs/inference/20230529_sample/000000004226.parquet']"
      ]
     },
     "execution_count": 51,
     "metadata": {},
     "output_type": "execute_result"
    }
   ],
   "source": [
    "%%time\n",
    "\n",
    "f_list = glob.glob(f\"{local_path_inference}/*.parquet\")\n",
    "print(len(f_list))\n",
    "f_list[:1]"
   ]
  },
  {
   "cell_type": "code",
   "execution_count": 47,
   "id": "b771d1e8",
   "metadata": {},
   "outputs": [
    {
     "data": {
      "application/vnd.jupyter.widget-view+json": {
       "model_id": "fc24d455a50646cb9d6db590a09b94f9",
       "version_major": 2,
       "version_minor": 0
      },
      "text/plain": [
       "  0%|          | 0/1 [00:00<?, ?it/s]"
      ]
     },
     "metadata": {},
     "output_type": "display_data"
    },
    {
     "name": "stderr",
     "output_type": "stream",
     "text": [
      "19:09:52 | INFO | \"Loading model...\n",
      "  /home/jupyter/subreddit_clustering_i18n/data/models/pn_model/pn_manual_test_2023-05-30_153024/model-xgboost_pre1-train_806431_40.gz\"\n",
      "19:09:52 | INFO | \"40 <- Model feature count\"\n",
      "19:09:52 | INFO | \"\n",
      "Features:\n",
      "  ['screen_view_count_14d_log', 'user_receives_pn_subreddit_count_t7', 'user_receives_pn_t7', 'user_receives_pn_t14', 'user_receives_pn_t30', 'log_user_clicks_pn_t7', 'log_user_clicks_trnd_t7', 'log_post_consumes_30', 'log_num_post_consumes_home_30', 'pct_post_consumes_home_30', 'pct_post_consumes_community_30', 'pct_post_consumes_post_detail_30', 'pct_post_consumes_ios_30', 'pct_post_consumes_android_30', 'pct_post_consumes_nsfw_30', 'num_post_consumes_ios_30', 'num_post_consumes_android_30', 'sub_dau_perc_l28', 'perc_by_country_sd', 'us_screenviews_l14_log', 'us_distinct_posts_viewed_l14_log', 'us_post_screenviews_l14_log', 'us_trend_pn_receive_l14_log', 'us_days_active_ios_l30_pct', 'us_android_days_active_l30_pct', 'us_upvotes_l14', 'us_comments_l14', 'us_posts_l14', 'us_trend_pn_click_l14', 'us_sessions_l14', 'us_ios_days_active_l30', 'us_android_days_active_l30', 'us_days_active_l30', 'users_log_l28', 'seo_users_pct_l28', 'loggedin_users_pct_l28', 'ios_users_pct_l28', 'android_users_pct_l28', 'legacy_user_cohort_ord', 'subscribed']\"\n",
      "19:09:52 | INFO | \"Loading data:\n",
      "  /home/jupyter/subreddit_clustering_i18n/data/local_cache/i18n-subreddit-clustering/pn_model/runs/inference/20230529_sample/000000004226.parquet\"\n",
      "19:09:52 | INFO | \"Create new df for predictions...\"\n",
      "19:09:53 | INFO | \"Done with predictions\"\n",
      "19:09:53 | INFO | \"Saving prediction to: \n",
      "/home/jupyter/subreddit_clustering_i18n/data/models/pn_model/pn_manual_test_2023-06-01_190228/inference/pred-000000004226.parquet\"\n"
     ]
    }
   ],
   "source": [
    "# define inference path once so that it's the same for all output files\n",
    "path_this_model_inference = path_this_model / 'inference'\n",
    "\n",
    "for f_ in tqdm(f_list[:1]):\n",
    "    run_inference_on_one_file(\n",
    "        df_path=f_,\n",
    "        model_path=model_path,\n",
    "        path_output=path_this_model_inference,\n",
    "        l_ix_columns=l_ix_cols,\n",
    "        l_feature_columns=None,\n",
    "        verbose=False,\n",
    "    )"
   ]
  },
  {
   "cell_type": "code",
   "execution_count": 61,
   "id": "fc841fae",
   "metadata": {},
   "outputs": [],
   "source": [
    "# !ls $path_this_model_inference"
   ]
  },
  {
   "cell_type": "code",
   "execution_count": 56,
   "id": "de1f8cda",
   "metadata": {},
   "outputs": [
    {
     "data": {
      "application/vnd.jupyter.widget-view+json": {
       "model_id": "8a46161181b14c68ac9a3cad2d872558",
       "version_major": 2,
       "version_minor": 0
      },
      "text/plain": [
       "  0%|          | 0/5000 [00:00<?, ?it/s]"
      ]
     },
     "metadata": {},
     "output_type": "display_data"
    }
   ],
   "source": [
    "# define inference path once so that it's the same for all output files\n",
    "path_this_model_inference = path_this_model / 'inference'\n",
    "\n",
    "# store all the delayed inference files in a list, then we'll compute the list values in parallel with dask\n",
    "l_inference_files = list()\n",
    "for f_ in tqdm(f_list):\n",
    "    l_inference_files.append(\n",
    "        dask.delayed(run_inference_on_one_file)(\n",
    "            df_path=f_,\n",
    "            model_path=model_path,\n",
    "            path_output=path_this_model_inference,\n",
    "            l_ix_columns=l_ix_cols,\n",
    "            l_feature_columns=None,\n",
    "            verbose=False,\n",
    "        )\n",
    "    )"
   ]
  },
  {
   "cell_type": "code",
   "execution_count": 59,
   "id": "ae64b96e",
   "metadata": {},
   "outputs": [
    {
     "data": {
      "image/png": "[encoded data removed]",
      "text/plain": [
       "<IPython.core.display.Image object>"
      ]
     },
     "execution_count": 59,
     "metadata": {},
     "output_type": "execute_result"
    }
   ],
   "source": [
    "l_inference_files[0].visualize()"
   ]
  },
  {
   "cell_type": "markdown",
   "id": "d51c0fca",
   "metadata": {},
   "source": [
    "### Compute in parallel\n",
    "\n",
    "To check progress manually, we can run this command from the CLI to count the number of output files:\n",
    "\n",
    "```bash\n",
    "ls \"/home/jupyter/subreddit_clustering_i18n/data/models/pn_model/pn_manual_test_2023-06-01_190228/inference/\" -l | wc -l\n",
    "# 1473\n",
    "```"
   ]
  },
  {
   "cell_type": "code",
   "execution_count": 66,
   "id": "fae75e8d",
   "metadata": {},
   "outputs": [],
   "source": [
    "%%time\n",
    "dask.compute(l_inference_files)\n",
    "# add print statement to prevent displaying a list of 5k None's\n",
    "print('')"
   ]
  },
  {
   "cell_type": "code",
   "execution_count": 67,
   "id": "bd4e590e",
   "metadata": {},
   "outputs": [
    {
     "name": "stdout",
     "output_type": "stream",
     "text": [
      "CPU times: user 11.8 ms, sys: 4.66 ms, total: 16.5 ms\n",
      "Wall time: 18.1 ms\n"
     ]
    },
    {
     "data": {
      "text/plain": [
       "5000"
      ]
     },
     "execution_count": 67,
     "metadata": {},
     "output_type": "execute_result"
    }
   ],
   "source": [
    "%%time\n",
    "\n",
    "l_inference_files_created = glob.glob(f\"{path_this_model_inference}/*.parquet\")\n",
    "len(l_inference_files_created)"
   ]
  },
  {
   "cell_type": "code",
   "execution_count": 69,
   "id": "06e702c2",
   "metadata": {},
   "outputs": [
    {
     "data": {
      "text/plain": [
       "['/home/jupyter/subreddit_clustering_i18n/data/models/pn_model/pn_manual_test_2023-06-01_190228/inference/pred-000000001444.parquet',\n",
       " '/home/jupyter/subreddit_clustering_i18n/data/models/pn_model/pn_manual_test_2023-06-01_190228/inference/pred-000000002951.parquet',\n",
       " '/home/jupyter/subreddit_clustering_i18n/data/models/pn_model/pn_manual_test_2023-06-01_190228/inference/pred-000000002408.parquet',\n",
       " '/home/jupyter/subreddit_clustering_i18n/data/models/pn_model/pn_manual_test_2023-06-01_190228/inference/pred-000000000405.parquet',\n",
       " '/home/jupyter/subreddit_clustering_i18n/data/models/pn_model/pn_manual_test_2023-06-01_190228/inference/pred-000000004227.parquet']"
      ]
     },
     "execution_count": 69,
     "metadata": {},
     "output_type": "execute_result"
    }
   ],
   "source": [
    "l_inference_files_created[:5]"
   ]
  },
  {
   "cell_type": "markdown",
   "id": "88556111",
   "metadata": {},
   "source": [
    "## Test load an inference file\n",
    "check column outputs"
   ]
  },
  {
   "cell_type": "code",
   "execution_count": 70,
   "id": "600b1b0d",
   "metadata": {},
   "outputs": [
    {
     "name": "stdout",
     "output_type": "stream",
     "text": [
      "CPU times: user 209 ms, sys: 102 ms, total: 312 ms\n",
      "Wall time: 225 ms\n"
     ]
    },
    {
     "data": {
      "text/plain": [
       "(462037, 7)"
      ]
     },
     "execution_count": 70,
     "metadata": {},
     "output_type": "execute_result"
    }
   ],
   "source": [
    "%%time\n",
    "df_inf_check = pd.read_parquet(\n",
    "    l_inference_files_created[0],\n",
    ")\n",
    "df_inf_check.shape"
   ]
  },
  {
   "cell_type": "code",
   "execution_count": 71,
   "id": "72b8dab4",
   "metadata": {},
   "outputs": [
    {
     "data": {
      "text/html": [
       "<div>\n",
       "<style scoped>\n",
       "    .dataframe tbody tr th:only-of-type {\n",
       "        vertical-align: middle;\n",
       "    }\n",
       "\n",
       "    .dataframe tbody tr th {\n",
       "        vertical-align: top;\n",
       "    }\n",
       "\n",
       "    .dataframe thead th {\n",
       "        text-align: right;\n",
       "    }\n",
       "</style>\n",
       "<table border=\"1\" class=\"dataframe\">\n",
       "  <thead>\n",
       "    <tr style=\"text-align: right;\">\n",
       "      <th></th>\n",
       "      <th>pt</th>\n",
       "      <th>target_subreddit</th>\n",
       "      <th>target_subreddit_id</th>\n",
       "      <th>subscribed</th>\n",
       "      <th>user_geo_country_code</th>\n",
       "      <th>user_id</th>\n",
       "      <th>click_proba</th>\n",
       "    </tr>\n",
       "  </thead>\n",
       "  <tbody>\n",
       "    <tr>\n",
       "      <th>0</th>\n",
       "      <td>2023-05-29</td>\n",
       "      <td>de</td>\n",
       "      <td>t5_22i0</td>\n",
       "      <td>0</td>\n",
       "      <td>DE</td>\n",
       "      <td>t2_6qk7v6ig</td>\n",
       "      <td>0.036486</td>\n",
       "    </tr>\n",
       "    <tr>\n",
       "      <th>1</th>\n",
       "      <td>2023-05-29</td>\n",
       "      <td>de</td>\n",
       "      <td>t5_22i0</td>\n",
       "      <td>1</td>\n",
       "      <td>DE</td>\n",
       "      <td>t2_c1h49ro6k</td>\n",
       "      <td>0.064660</td>\n",
       "    </tr>\n",
       "    <tr>\n",
       "      <th>2</th>\n",
       "      <td>2023-05-29</td>\n",
       "      <td>de</td>\n",
       "      <td>t5_22i0</td>\n",
       "      <td>0</td>\n",
       "      <td>DE</td>\n",
       "      <td>t2_9jzw7gih</td>\n",
       "      <td>0.082675</td>\n",
       "    </tr>\n",
       "    <tr>\n",
       "      <th>3</th>\n",
       "      <td>2023-05-29</td>\n",
       "      <td>de</td>\n",
       "      <td>t5_22i0</td>\n",
       "      <td>0</td>\n",
       "      <td>DE</td>\n",
       "      <td>t2_bbo3h71gh</td>\n",
       "      <td>0.060558</td>\n",
       "    </tr>\n",
       "    <tr>\n",
       "      <th>4</th>\n",
       "      <td>2023-05-29</td>\n",
       "      <td>de</td>\n",
       "      <td>t5_22i0</td>\n",
       "      <td>1</td>\n",
       "      <td>DE</td>\n",
       "      <td>t2_fjwzq8gk</td>\n",
       "      <td>0.044669</td>\n",
       "    </tr>\n",
       "  </tbody>\n",
       "</table>\n",
       "</div>"
      ],
      "text/plain": [
       "           pt target_subreddit target_subreddit_id  subscribed user_geo_country_code       user_id  click_proba\n",
       "0  2023-05-29               de             t5_22i0           0                    DE   t2_6qk7v6ig     0.036486\n",
       "1  2023-05-29               de             t5_22i0           1                    DE  t2_c1h49ro6k     0.064660\n",
       "2  2023-05-29               de             t5_22i0           0                    DE   t2_9jzw7gih     0.082675\n",
       "3  2023-05-29               de             t5_22i0           0                    DE  t2_bbo3h71gh     0.060558\n",
       "4  2023-05-29               de             t5_22i0           1                    DE   t2_fjwzq8gk     0.044669"
      ]
     },
     "execution_count": 71,
     "metadata": {},
     "output_type": "execute_result"
    }
   ],
   "source": [
    "df_inf_check.head()"
   ]
  },
  {
   "cell_type": "markdown",
   "id": "1682b39c",
   "metadata": {},
   "source": [
    "## Upload predictions to GCS!\n",
    "From GCS we can load it into BigQuery for final ranking & reshaping"
   ]
  },
  {
   "cell_type": "code",
   "execution_count": 84,
   "id": "9ec170ee",
   "metadata": {},
   "outputs": [
    {
     "data": {
      "text/plain": [
       "PosixPath('/home/jupyter/subreddit_clustering_i18n/data/models/pn_model/pn_manual_test_2023-06-01_190228/inference')"
      ]
     },
     "execution_count": 84,
     "metadata": {},
     "output_type": "execute_result"
    }
   ],
   "source": [
    "path_this_model_inference"
   ]
  },
  {
   "cell_type": "code",
   "execution_count": 83,
   "id": "e0d874cf",
   "metadata": {},
   "outputs": [
    {
     "data": {
      "text/plain": [
       "'gs://i18n-subreddit-clustering/pn_model/runs/inference/20230529_sample_out/'"
      ]
     },
     "execution_count": 83,
     "metadata": {},
     "output_type": "execute_result"
    }
   ],
   "source": [
    "gcs_inference_out = f\"{gcs_inference.rstrip('/')}_out/\"\n",
    "gcs_inference_out"
   ]
  },
  {
   "cell_type": "code",
   "execution_count": 86,
   "id": "73d4a103",
   "metadata": {},
   "outputs": [
    {
     "name": "stdout",
     "output_type": "stream",
     "text": [
      "gsutil -o GSUtil:parallel_thread_count=9 -o GSUtil:parallel_process_count=9 -m rsync -r -n /home/jupyter/subreddit_clustering_i18n/data/models/pn_model/pn_manual_test_2023-06-01_190228/inference gs://i18n-subreddit-clustering/pn_model/runs/inference/20230529_sample_out/\n",
      "\n",
      "\n",
      "gsutil -q -o GSUtil:parallel_thread_count=9 -o GSUtil:parallel_process_count=9 -m rsync -r /home/jupyter/subreddit_clustering_i18n/data/models/pn_model/pn_manual_test_2023-06-01_190228/inference gs://i18n-subreddit-clustering/pn_model/runs/inference/20230529_sample_out/\n",
      "\n",
      "\n",
      "gsutil -o GSUtil:parallel_thread_count=9 -o GSUtil:parallel_process_count=9 -m rsync -r /home/jupyter/subreddit_clustering_i18n/data/models/pn_model/pn_manual_test_2023-06-01_190228/inference gs://i18n-subreddit-clustering/pn_model/runs/inference/20230529_sample_out/\n"
     ]
    }
   ],
   "source": [
    "!echo gsutil -o GSUtil:parallel_thread_count=9 -o GSUtil:parallel_process_count=9 -m rsync -r -n $path_this_model_inference $gcs_inference_out\n",
    "print('\\n')\n",
    "\n",
    "!echo gsutil -q -o GSUtil:parallel_thread_count=9 -o GSUtil:parallel_process_count=9 -m rsync -r $path_this_model_inference $gcs_inference_out\n",
    "print('\\n')\n",
    "!echo gsutil -o GSUtil:parallel_thread_count=9 -o GSUtil:parallel_process_count=9 -m rsync -r $path_this_model_inference $gcs_inference_out "
   ]
  },
  {
   "cell_type": "markdown",
   "id": "bcf8af6c",
   "metadata": {},
   "source": [
    "## Upload preddictions to BigQuery\n",
    "\n",
    "By loading to a temp/staging table we can load data from multiple jobs in parallel and run the post-processing in BigQuery which will be faster than to customize in kubeflow\n",
    "\n",
    "ETA: 2 minutes for 5k files:\n",
    "```bash\n",
    "Waiting on bqjob_r849e6f491213b41_000001887911b6cf_1 ... (109s) Current status: DONE\n",
    "```"
   ]
  },
  {
   "cell_type": "code",
   "execution_count": 96,
   "id": "3718b9e6",
   "metadata": {},
   "outputs": [
    {
     "name": "stdout",
     "output_type": "stream",
     "text": [
      "bq load --source_format=PARQUET --project_id=reddit-relevance tmp.i18n_pn_predictions_raw \"gs://i18n-subreddit-clustering/pn_model/runs/inference/20230529_sample_out/pred*.parquet\"\n",
      "CPU times: user 1.42 ms, sys: 332 ms, total: 334 ms\n",
      "Wall time: 622 ms\n"
     ]
    }
   ],
   "source": [
    "%%time\n",
    "\n",
    "## bq load works, but won't read the \"description\" or other nice metadata from parquet files\n",
    "!echo bq load \\\n",
    "    --source_format=PARQUET \\\n",
    "    --project_id=reddit-relevance \\\n",
    "    tmp.i18n_pn_predictions_raw \\\n",
    "    \\\"\"$gcs_inference_out\"pred*.parquet\\\""
   ]
  },
  {
   "cell_type": "code",
   "execution_count": 91,
   "id": "bc2b7da8",
   "metadata": {},
   "outputs": [
    {
     "name": "stdout",
     "output_type": "stream",
     "text": [
      "BigQuery error in load operation: Access Denied: Project reddit-relevance: User\n",
      "does not have bigquery.jobs.create permission in project reddit-relevance.\n",
      "CPU times: user 20.1 ms, sys: 425 ms, total: 445 ms\n",
      "Wall time: 1.96 s\n"
     ]
    }
   ],
   "source": [
    "%%time\n",
    "\n",
    "!bq load \\\n",
    "    --source_format=PARQUET \\\n",
    "    --project_id=reddit-relevance \\\n",
    "    tmp.i18n_pn_predictions_raw \\\n",
    "    \"$gcs_inference_out\"pred*.parquet"
   ]
  },
  {
   "cell_type": "code",
   "execution_count": null,
   "id": "6b8fbd3c",
   "metadata": {},
   "outputs": [],
   "source": []
  },
  {
   "cell_type": "markdown",
   "id": "1ac0b5a4",
   "metadata": {},
   "source": [
    "# BigQuery processing\n",
    "- rank the users\n",
    "- reshape output\n",
    "- save to staging table"
   ]
  },
  {
   "cell_type": "code",
   "execution_count": null,
   "id": "e4ac05fd",
   "metadata": {},
   "outputs": [],
   "source": [
    "r"
   ]
  },
  {
   "cell_type": "code",
   "execution_count": null,
   "id": "d0507b53",
   "metadata": {},
   "outputs": [],
   "source": []
  },
  {
   "cell_type": "code",
   "execution_count": null,
   "id": "7d9c7efc",
   "metadata": {},
   "outputs": [],
   "source": [
    "LEGACY"
   ]
  },
  {
   "cell_type": "markdown",
   "id": "4547de84",
   "metadata": {},
   "source": [
    "## Load list of subreddits so we can try running in parallel by it\n",
    "TBD - might try this optimization once I run query for 25k sub.\n",
    "But for 1k subs I can load in memory (~200 GB)."
   ]
  },
  {
   "cell_type": "code",
   "execution_count": 32,
   "id": "ecd95332",
   "metadata": {},
   "outputs": [
    {
     "name": "stdout",
     "output_type": "stream",
     "text": [
      "CPU times: user 3min 41s, sys: 14.6 s, total: 3min 55s\n",
      "Wall time: 9.38 s\n"
     ]
    },
    {
     "data": {
      "text/plain": [
       "(247, 1)"
      ]
     },
     "execution_count": 32,
     "metadata": {},
     "output_type": "execute_result"
    }
   ],
   "source": [
    "%%time\n",
    "\n",
    "df_subreddit_ids = pl.read_parquet(\n",
    "    f\"{local_path_inference}/*.parquet\",\n",
    "    columns=['target_subreddit_id'],\n",
    ").unique(subset=['target_subreddit_id'], keep='any', maintain_order=False)\n",
    "\n",
    "df_subreddit_ids.shape"
   ]
  },
  {
   "cell_type": "code",
   "execution_count": 33,
   "id": "3763575e",
   "metadata": {},
   "outputs": [
    {
     "data": {
      "text/html": [
       "<div><style>\n",
       ".dataframe > thead > tr > th,\n",
       ".dataframe > tbody > tr > td {\n",
       "  text-align: right;\n",
       "}\n",
       "</style>\n",
       "<small>shape: (5, 1)</small><table border=\"1\" class=\"dataframe\"><thead><tr><th>target_subreddit_id</th></tr><tr><td>str</td></tr></thead><tbody><tr><td>&quot;t5_2gc1rz&quot;</td></tr><tr><td>&quot;t5_2kz7we&quot;</td></tr><tr><td>&quot;t5_20ywkr&quot;</td></tr><tr><td>&quot;t5_2og1k5&quot;</td></tr><tr><td>&quot;t5_26tm5u&quot;</td></tr></tbody></table></div>"
      ],
      "text/plain": [
       "shape: (5, 1)\n",
       "┌─────────────────────┐\n",
       "│ target_subreddit_id │\n",
       "│ ---                 │\n",
       "│ str                 │\n",
       "╞═════════════════════╡\n",
       "│ t5_2gc1rz           │\n",
       "│ t5_2kz7we           │\n",
       "│ t5_20ywkr           │\n",
       "│ t5_2og1k5           │\n",
       "│ t5_26tm5u           │\n",
       "└─────────────────────┘"
      ]
     },
     "execution_count": 33,
     "metadata": {},
     "output_type": "execute_result"
    }
   ],
   "source": [
    "df_subreddit_ids.head()"
   ]
  },
  {
   "cell_type": "markdown",
   "id": "61430ba4",
   "metadata": {},
   "source": [
    "## Load data for inference & caching\n",
    "Keep the data in a single df so that it's easy to keep track of predictions & match them to the user/geo/subreddit that they belong to for caching"
   ]
  },
  {
   "cell_type": "code",
   "execution_count": 31,
   "id": "60f9d199",
   "metadata": {},
   "outputs": [
    {
     "name": "stdout",
     "output_type": "stream",
     "text": [
      "CPU times: user 7min 59s, sys: 5min 1s, total: 13min 1s\n",
      "Wall time: 26 s\n"
     ]
    },
    {
     "data": {
      "text/plain": [
       "(705963374, 26)"
      ]
     },
     "execution_count": 31,
     "metadata": {},
     "output_type": "execute_result"
    }
   ],
   "source": [
    "%%time\n",
    "\n",
    "df_inference_raw = pl.read_parquet(\n",
    "    f\"{local_path_inference}/*.parquet\",\n",
    "    columns=l_ix_cols + l_feature_names\n",
    ")\n",
    "df_inference_raw.shape"
   ]
  },
  {
   "cell_type": "code",
   "execution_count": 38,
   "id": "4eff23cd",
   "metadata": {},
   "outputs": [
    {
     "name": "stdout",
     "output_type": "stream",
     "text": [
      "CPU times: user 5.81 s, sys: 99.4 ms, total: 5.91 s\n",
      "Wall time: 5.25 s\n"
     ]
    },
    {
     "data": {
      "text/html": [
       "<div><style>\n",
       ".dataframe > thead > tr > th,\n",
       ".dataframe > tbody > tr > td {\n",
       "  text-align: right;\n",
       "}\n",
       "</style>\n",
       "<small>shape: (7, 5)</small><table border=\"1\" class=\"dataframe\"><thead><tr><th>describe</th><th>target_subreddit</th><th>target_subreddit_id</th><th>subscribed</th><th>user_geo_country_code_top</th></tr><tr><td>str</td><td>str</td><td>str</td><td>f64</td><td>str</td></tr></thead><tbody><tr><td>&quot;count&quot;</td><td>&quot;200000&quot;</td><td>&quot;200000&quot;</td><td>200000.0</td><td>&quot;200000&quot;</td></tr><tr><td>&quot;null_count&quot;</td><td>&quot;0&quot;</td><td>&quot;0&quot;</td><td>0.0</td><td>&quot;0&quot;</td></tr><tr><td>&quot;mean&quot;</td><td>null</td><td>null</td><td>0.194765</td><td>null</td></tr><tr><td>&quot;std&quot;</td><td>null</td><td>null</td><td>0.396021</td><td>null</td></tr><tr><td>&quot;min&quot;</td><td>&quot;197&quot;</td><td>&quot;t5_10288s&quot;</td><td>0.0</td><td>&quot;AR&quot;</td></tr><tr><td>&quot;max&quot;</td><td>&quot;zelda&quot;</td><td>&quot;t5_u8wq5&quot;</td><td>1.0</td><td>&quot;US&quot;</td></tr><tr><td>&quot;median&quot;</td><td>null</td><td>null</td><td>0.0</td><td>null</td></tr></tbody></table></div>"
      ],
      "text/plain": [
       "shape: (7, 5)\n",
       "┌────────────┬──────────────────┬─────────────────────┬────────────┬───────────────────────────┐\n",
       "│ describe   ┆ target_subreddit ┆ target_subreddit_id ┆ subscribed ┆ user_geo_country_code_top │\n",
       "│ ---        ┆ ---              ┆ ---                 ┆ ---        ┆ ---                       │\n",
       "│ str        ┆ str              ┆ str                 ┆ f64        ┆ str                       │\n",
       "╞════════════╪══════════════════╪═════════════════════╪════════════╪═══════════════════════════╡\n",
       "│ count      ┆ 200000           ┆ 200000              ┆ 200000.0   ┆ 200000                    │\n",
       "│ null_count ┆ 0                ┆ 0                   ┆ 0.0        ┆ 0                         │\n",
       "│ mean       ┆ null             ┆ null                ┆ 0.194765   ┆ null                      │\n",
       "│ std        ┆ null             ┆ null                ┆ 0.396021   ┆ null                      │\n",
       "│ min        ┆ 197              ┆ t5_10288s           ┆ 0.0        ┆ AR                        │\n",
       "│ max        ┆ zelda            ┆ t5_u8wq5            ┆ 1.0        ┆ US                        │\n",
       "│ median     ┆ null             ┆ null                ┆ 0.0        ┆ null                      │\n",
       "└────────────┴──────────────────┴─────────────────────┴────────────┴───────────────────────────┘"
      ]
     },
     "execution_count": 38,
     "metadata": {},
     "output_type": "execute_result"
    }
   ],
   "source": [
    "%%time\n",
    "\n",
    "(\n",
    "    df_inference_raw[l_ix_cache]\n",
    "    .sample(int(200e3))\n",
    "    .describe()\n",
    ")"
   ]
  },
  {
   "cell_type": "markdown",
   "id": "c27b72d9",
   "metadata": {},
   "source": [
    "There seems to be something off (again) with 2 user_ids... there must be some bad join where subreddit_name is messed up with the wrong subreddit_id.\n",
    "\n",
    "For now, drop these but I'll need to include subreddit_id as much as possible to prevent such errors later."
   ]
  },
  {
   "cell_type": "code",
   "execution_count": 40,
   "id": "6fa86654",
   "metadata": {},
   "outputs": [
    {
     "name": "stdout",
     "output_type": "stream",
     "text": [
      "CPU times: user 11min 54s, sys: 1min 13s, total: 13min 8s\n",
      "Wall time: 34.7 s\n"
     ]
    }
   ],
   "source": [
    "%%time\n",
    "# save the mask so we can re-use it when checking & dropping dupes\n",
    "mask_dupes_by_user_and_target_sub_ = df_inference_raw.select(['user_id', 'target_subreddit']).is_duplicated()"
   ]
  },
  {
   "cell_type": "code",
   "execution_count": 41,
   "id": "66115b96",
   "metadata": {},
   "outputs": [
    {
     "name": "stdout",
     "output_type": "stream",
     "text": [
      "CPU times: user 111 µs, sys: 36 µs, total: 147 µs\n",
      "Wall time: 162 µs\n"
     ]
    },
    {
     "data": {
      "text/plain": [
       "0"
      ]
     },
     "execution_count": 41,
     "metadata": {},
     "output_type": "execute_result"
    }
   ],
   "source": [
    "%%time\n",
    "mask_dupes_by_user_and_target_sub_.sum()"
   ]
  },
  {
   "cell_type": "code",
   "execution_count": 42,
   "id": "cf544319",
   "metadata": {},
   "outputs": [
    {
     "name": "stdout",
     "output_type": "stream",
     "text": [
      "CPU times: user 36 µs, sys: 12 µs, total: 48 µs\n",
      "Wall time: 60.6 µs\n"
     ]
    }
   ],
   "source": [
    "%%time\n",
    "assert(0 == mask_dupes_by_user_and_target_sub_.sum())"
   ]
  },
  {
   "cell_type": "code",
   "execution_count": 43,
   "id": "00cef680",
   "metadata": {},
   "outputs": [
    {
     "name": "stdout",
     "output_type": "stream",
     "text": [
      "CPU times: user 427 ms, sys: 423 ms, total: 851 ms\n",
      "Wall time: 35.3 ms\n"
     ]
    },
    {
     "data": {
      "text/html": [
       "<div><style>\n",
       ".dataframe > thead > tr > th,\n",
       ".dataframe > tbody > tr > td {\n",
       "  text-align: right;\n",
       "}\n",
       "</style>\n",
       "<small>shape: (0, 26)</small><table border=\"1\" class=\"dataframe\"><thead><tr><th>target_subreddit</th><th>target_subreddit_id</th><th>subscribed</th><th>user_geo_country_code_top</th><th>user_id</th><th>tos_30_sub_count</th><th>user_receives_pn_t7</th><th>user_clicks_pn_t7</th><th>user_clicks_trnd_t7</th><th>screen_view_count_14d</th><th>num_post_consumes</th><th>num_post_consumes_home</th><th>num_post_consumes_community</th><th>num_post_consumes_post_detail</th><th>num_post_consumes_ios</th><th>num_post_consumes_android</th><th>num_post_consumes_nsfw</th><th>pct_post_consumes_nsfw</th><th>view_and_consume_unique_count</th><th>consume_unique_count</th><th>view_count</th><th>consume_count</th><th>consume_ios_count</th><th>consume_android_count</th><th>tos_30_pct</th><th>legacy_user_cohort_ord</th></tr><tr><td>str</td><td>str</td><td>i64</td><td>str</td><td>str</td><td>i64</td><td>i64</td><td>i64</td><td>i64</td><td>i64</td><td>i64</td><td>i64</td><td>i64</td><td>i64</td><td>i64</td><td>i64</td><td>i64</td><td>f64</td><td>i64</td><td>i64</td><td>i64</td><td>i64</td><td>i64</td><td>i64</td><td>f64</td><td>i64</td></tr></thead><tbody></tbody></table></div>"
      ],
      "text/plain": [
       "shape: (0, 26)\n",
       "┌────────────┬────────────┬──────────┬────────────┬───┬────────────┬────────────┬──────────┬────────────┐\n",
       "│ target_sub ┆ target_sub ┆ subscrib ┆ user_geo_c ┆ … ┆ consume_io ┆ consume_an ┆ tos_30_p ┆ legacy_use │\n",
       "│ reddit     ┆ reddit_id  ┆ ed       ┆ ountry_cod ┆   ┆ s_count    ┆ droid_coun ┆ ct       ┆ r_cohort_o │\n",
       "│ ---        ┆ ---        ┆ ---      ┆ e_top      ┆   ┆ ---        ┆ t          ┆ ---      ┆ rd         │\n",
       "│ str        ┆ str        ┆ i64      ┆ ---        ┆   ┆ i64        ┆ ---        ┆ f64      ┆ ---        │\n",
       "│            ┆            ┆          ┆ str        ┆   ┆            ┆ i64        ┆          ┆ i64        │\n",
       "╞════════════╪════════════╪══════════╪════════════╪═══╪════════════╪════════════╪══════════╪════════════╡\n",
       "└────────────┴────────────┴──────────┴────────────┴───┴────────────┴────────────┴──────────┴────────────┘"
      ]
     },
     "execution_count": 43,
     "metadata": {},
     "output_type": "execute_result"
    }
   ],
   "source": [
    "%%time\n",
    "\n",
    "(\n",
    "    df_inference_raw\n",
    "    .filter(mask_dupes_by_user_and_target_sub_)\n",
    "    .sort(by=['user_id', 'target_subreddit'])\n",
    ")"
   ]
  },
  {
   "cell_type": "markdown",
   "id": "edfbaf0b",
   "metadata": {},
   "source": [
    "### Remove dupes (if any) [deprecated]\n",
    "If we have dupes in the inference table, then we have bigger problems about data source so we need to go back and fix them before running inference"
   ]
  },
  {
   "cell_type": "code",
   "execution_count": 44,
   "id": "aa0d470a",
   "metadata": {},
   "outputs": [
    {
     "data": {
      "text/html": [
       "<div><style>\n",
       ".dataframe > thead > tr > th,\n",
       ".dataframe > tbody > tr > td {\n",
       "  text-align: right;\n",
       "}\n",
       "</style>\n",
       "<small>shape: (5, 26)</small><table border=\"1\" class=\"dataframe\"><thead><tr><th>target_subreddit</th><th>target_subreddit_id</th><th>subscribed</th><th>user_geo_country_code_top</th><th>user_id</th><th>tos_30_sub_count</th><th>user_receives_pn_t7</th><th>user_clicks_pn_t7</th><th>user_clicks_trnd_t7</th><th>screen_view_count_14d</th><th>num_post_consumes</th><th>num_post_consumes_home</th><th>num_post_consumes_community</th><th>num_post_consumes_post_detail</th><th>num_post_consumes_ios</th><th>num_post_consumes_android</th><th>num_post_consumes_nsfw</th><th>pct_post_consumes_nsfw</th><th>view_and_consume_unique_count</th><th>consume_unique_count</th><th>view_count</th><th>consume_count</th><th>consume_ios_count</th><th>consume_android_count</th><th>tos_30_pct</th><th>legacy_user_cohort_ord</th></tr><tr><td>str</td><td>str</td><td>i64</td><td>str</td><td>str</td><td>i64</td><td>i64</td><td>i64</td><td>i64</td><td>i64</td><td>i64</td><td>i64</td><td>i64</td><td>i64</td><td>i64</td><td>i64</td><td>i64</td><td>f64</td><td>i64</td><td>i64</td><td>i64</td><td>i64</td><td>i64</td><td>i64</td><td>f64</td><td>i64</td></tr></thead><tbody><tr><td>&quot;hydrohomies&quot;</td><td>&quot;t5_10288s&quot;</td><td>1</td><td>&quot;US&quot;</td><td>&quot;t2_ejmd0wgu&quot;</td><td>35</td><td>33</td><td>0</td><td>0</td><td>0</td><td>84</td><td>29</td><td>51</td><td>2</td><td>84</td><td>0</td><td>8</td><td>0.095238</td><td>null</td><td>null</td><td>null</td><td>null</td><td>null</td><td>null</td><td>0.00526</td><td>4</td></tr><tr><td>&quot;hydrohomies&quot;</td><td>&quot;t5_10288s&quot;</td><td>1</td><td>&quot;US&quot;</td><td>&quot;t2_6dsvzqwxi&quot;</td><td>10</td><td>null</td><td>null</td><td>null</td><td>10</td><td>11</td><td>0</td><td>0</td><td>6</td><td>0</td><td>0</td><td>0</td><td>0.0</td><td>null</td><td>null</td><td>null</td><td>null</td><td>null</td><td>null</td><td>0.20283</td><td>5</td></tr><tr><td>&quot;hydrohomies&quot;</td><td>&quot;t5_10288s&quot;</td><td>1</td><td>&quot;US&quot;</td><td>&quot;t2_a262kv7m8&quot;</td><td>39</td><td>null</td><td>null</td><td>null</td><td>0</td><td>649</td><td>3</td><td>62</td><td>559</td><td>0</td><td>0</td><td>0</td><td>0.0</td><td>null</td><td>null</td><td>null</td><td>null</td><td>null</td><td>null</td><td>0.00141</td><td>4</td></tr><tr><td>&quot;hydrohomies&quot;</td><td>&quot;t5_10288s&quot;</td><td>1</td><td>&quot;US&quot;</td><td>&quot;t2_a0y3gfeq3&quot;</td><td>7</td><td>28</td><td>1</td><td>1</td><td>3</td><td>96</td><td>45</td><td>46</td><td>5</td><td>96</td><td>0</td><td>0</td><td>0.0</td><td>null</td><td>null</td><td>null</td><td>null</td><td>null</td><td>null</td><td>0.00388</td><td>4</td></tr><tr><td>&quot;hydrohomies&quot;</td><td>&quot;t5_10288s&quot;</td><td>1</td><td>&quot;US&quot;</td><td>&quot;t2_77dqdzpdd&quot;</td><td>13</td><td>null</td><td>null</td><td>null</td><td>0</td><td>21</td><td>0</td><td>1</td><td>2</td><td>0</td><td>0</td><td>0</td><td>0.0</td><td>null</td><td>null</td><td>null</td><td>null</td><td>null</td><td>null</td><td>0.03353</td><td>4</td></tr></tbody></table></div>"
      ],
      "text/plain": [
       "shape: (5, 26)\n",
       "┌────────────┬────────────┬──────────┬────────────┬───┬────────────┬────────────┬──────────┬────────────┐\n",
       "│ target_sub ┆ target_sub ┆ subscrib ┆ user_geo_c ┆ … ┆ consume_io ┆ consume_an ┆ tos_30_p ┆ legacy_use │\n",
       "│ reddit     ┆ reddit_id  ┆ ed       ┆ ountry_cod ┆   ┆ s_count    ┆ droid_coun ┆ ct       ┆ r_cohort_o │\n",
       "│ ---        ┆ ---        ┆ ---      ┆ e_top      ┆   ┆ ---        ┆ t          ┆ ---      ┆ rd         │\n",
       "│ str        ┆ str        ┆ i64      ┆ ---        ┆   ┆ i64        ┆ ---        ┆ f64      ┆ ---        │\n",
       "│            ┆            ┆          ┆ str        ┆   ┆            ┆ i64        ┆          ┆ i64        │\n",
       "╞════════════╪════════════╪══════════╪════════════╪═══╪════════════╪════════════╪══════════╪════════════╡\n",
       "│ hydrohomie ┆ t5_10288s  ┆ 1        ┆ US         ┆ … ┆ null       ┆ null       ┆ 0.00526  ┆ 4          │\n",
       "│ s          ┆            ┆          ┆            ┆   ┆            ┆            ┆          ┆            │\n",
       "│ hydrohomie ┆ t5_10288s  ┆ 1        ┆ US         ┆ … ┆ null       ┆ null       ┆ 0.20283  ┆ 5          │\n",
       "│ s          ┆            ┆          ┆            ┆   ┆            ┆            ┆          ┆            │\n",
       "│ hydrohomie ┆ t5_10288s  ┆ 1        ┆ US         ┆ … ┆ null       ┆ null       ┆ 0.00141  ┆ 4          │\n",
       "│ s          ┆            ┆          ┆            ┆   ┆            ┆            ┆          ┆            │\n",
       "│ hydrohomie ┆ t5_10288s  ┆ 1        ┆ US         ┆ … ┆ null       ┆ null       ┆ 0.00388  ┆ 4          │\n",
       "│ s          ┆            ┆          ┆            ┆   ┆            ┆            ┆          ┆            │\n",
       "│ hydrohomie ┆ t5_10288s  ┆ 1        ┆ US         ┆ … ┆ null       ┆ null       ┆ 0.03353  ┆ 4          │\n",
       "│ s          ┆            ┆          ┆            ┆   ┆            ┆            ┆          ┆            │\n",
       "└────────────┴────────────┴──────────┴────────────┴───┴────────────┴────────────┴──────────┴────────────┘"
      ]
     },
     "execution_count": 44,
     "metadata": {},
     "output_type": "execute_result"
    }
   ],
   "source": [
    "df_inference_raw.head()"
   ]
  },
  {
   "cell_type": "markdown",
   "id": "6f8e71fc",
   "metadata": {},
   "source": [
    "# Run inference\n",
    "\n",
    "For 705,963,374 (705 million) rows, ETA:\n",
    "- Inference: 13 minutes\n",
    "- Ranking:\n",
    "- Sorting:\n"
   ]
  },
  {
   "cell_type": "code",
   "execution_count": 47,
   "id": "992e3acb",
   "metadata": {},
   "outputs": [
    {
     "data": {
      "text/html": [
       "<div>\n",
       "<style scoped>\n",
       "    .dataframe tbody tr th:only-of-type {\n",
       "        vertical-align: middle;\n",
       "    }\n",
       "\n",
       "    .dataframe tbody tr th {\n",
       "        vertical-align: top;\n",
       "    }\n",
       "\n",
       "    .dataframe thead th {\n",
       "        text-align: right;\n",
       "    }\n",
       "</style>\n",
       "<table border=\"1\" class=\"dataframe\">\n",
       "  <thead>\n",
       "    <tr style=\"text-align: right;\">\n",
       "      <th></th>\n",
       "      <th>target_subreddit</th>\n",
       "      <th>target_subreddit_id</th>\n",
       "      <th>subscribed</th>\n",
       "      <th>user_geo_country_code_top</th>\n",
       "      <th>user_id</th>\n",
       "      <th>tos_30_sub_count</th>\n",
       "      <th>user_receives_pn_t7</th>\n",
       "      <th>user_clicks_pn_t7</th>\n",
       "      <th>user_clicks_trnd_t7</th>\n",
       "      <th>screen_view_count_14d</th>\n",
       "      <th>num_post_consumes</th>\n",
       "      <th>num_post_consumes_home</th>\n",
       "      <th>num_post_consumes_community</th>\n",
       "      <th>num_post_consumes_post_detail</th>\n",
       "      <th>num_post_consumes_ios</th>\n",
       "      <th>num_post_consumes_android</th>\n",
       "      <th>num_post_consumes_nsfw</th>\n",
       "      <th>pct_post_consumes_nsfw</th>\n",
       "      <th>view_and_consume_unique_count</th>\n",
       "      <th>consume_unique_count</th>\n",
       "      <th>view_count</th>\n",
       "      <th>consume_count</th>\n",
       "      <th>consume_ios_count</th>\n",
       "      <th>consume_android_count</th>\n",
       "      <th>tos_30_pct</th>\n",
       "      <th>legacy_user_cohort_ord</th>\n",
       "    </tr>\n",
       "  </thead>\n",
       "  <tbody>\n",
       "    <tr>\n",
       "      <th>0</th>\n",
       "      <td>hydrohomies</td>\n",
       "      <td>t5_10288s</td>\n",
       "      <td>1</td>\n",
       "      <td>US</td>\n",
       "      <td>t2_ejmd0wgu</td>\n",
       "      <td>35</td>\n",
       "      <td>33.0</td>\n",
       "      <td>0.0</td>\n",
       "      <td>0.0</td>\n",
       "      <td>0</td>\n",
       "      <td>84</td>\n",
       "      <td>29</td>\n",
       "      <td>51</td>\n",
       "      <td>2</td>\n",
       "      <td>84</td>\n",
       "      <td>0</td>\n",
       "      <td>8</td>\n",
       "      <td>0.095238</td>\n",
       "      <td>NaN</td>\n",
       "      <td>NaN</td>\n",
       "      <td>NaN</td>\n",
       "      <td>NaN</td>\n",
       "      <td>NaN</td>\n",
       "      <td>NaN</td>\n",
       "      <td>0.00526</td>\n",
       "      <td>4</td>\n",
       "    </tr>\n",
       "    <tr>\n",
       "      <th>1</th>\n",
       "      <td>hydrohomies</td>\n",
       "      <td>t5_10288s</td>\n",
       "      <td>1</td>\n",
       "      <td>US</td>\n",
       "      <td>t2_6dsvzqwxi</td>\n",
       "      <td>10</td>\n",
       "      <td>NaN</td>\n",
       "      <td>NaN</td>\n",
       "      <td>NaN</td>\n",
       "      <td>10</td>\n",
       "      <td>11</td>\n",
       "      <td>0</td>\n",
       "      <td>0</td>\n",
       "      <td>6</td>\n",
       "      <td>0</td>\n",
       "      <td>0</td>\n",
       "      <td>0</td>\n",
       "      <td>0.000000</td>\n",
       "      <td>NaN</td>\n",
       "      <td>NaN</td>\n",
       "      <td>NaN</td>\n",
       "      <td>NaN</td>\n",
       "      <td>NaN</td>\n",
       "      <td>NaN</td>\n",
       "      <td>0.20283</td>\n",
       "      <td>5</td>\n",
       "    </tr>\n",
       "    <tr>\n",
       "      <th>2</th>\n",
       "      <td>hydrohomies</td>\n",
       "      <td>t5_10288s</td>\n",
       "      <td>1</td>\n",
       "      <td>US</td>\n",
       "      <td>t2_a262kv7m8</td>\n",
       "      <td>39</td>\n",
       "      <td>NaN</td>\n",
       "      <td>NaN</td>\n",
       "      <td>NaN</td>\n",
       "      <td>0</td>\n",
       "      <td>649</td>\n",
       "      <td>3</td>\n",
       "      <td>62</td>\n",
       "      <td>559</td>\n",
       "      <td>0</td>\n",
       "      <td>0</td>\n",
       "      <td>0</td>\n",
       "      <td>0.000000</td>\n",
       "      <td>NaN</td>\n",
       "      <td>NaN</td>\n",
       "      <td>NaN</td>\n",
       "      <td>NaN</td>\n",
       "      <td>NaN</td>\n",
       "      <td>NaN</td>\n",
       "      <td>0.00141</td>\n",
       "      <td>4</td>\n",
       "    </tr>\n",
       "    <tr>\n",
       "      <th>3</th>\n",
       "      <td>hydrohomies</td>\n",
       "      <td>t5_10288s</td>\n",
       "      <td>1</td>\n",
       "      <td>US</td>\n",
       "      <td>t2_a0y3gfeq3</td>\n",
       "      <td>7</td>\n",
       "      <td>28.0</td>\n",
       "      <td>1.0</td>\n",
       "      <td>1.0</td>\n",
       "      <td>3</td>\n",
       "      <td>96</td>\n",
       "      <td>45</td>\n",
       "      <td>46</td>\n",
       "      <td>5</td>\n",
       "      <td>96</td>\n",
       "      <td>0</td>\n",
       "      <td>0</td>\n",
       "      <td>0.000000</td>\n",
       "      <td>NaN</td>\n",
       "      <td>NaN</td>\n",
       "      <td>NaN</td>\n",
       "      <td>NaN</td>\n",
       "      <td>NaN</td>\n",
       "      <td>NaN</td>\n",
       "      <td>0.00388</td>\n",
       "      <td>4</td>\n",
       "    </tr>\n",
       "    <tr>\n",
       "      <th>4</th>\n",
       "      <td>hydrohomies</td>\n",
       "      <td>t5_10288s</td>\n",
       "      <td>1</td>\n",
       "      <td>US</td>\n",
       "      <td>t2_77dqdzpdd</td>\n",
       "      <td>13</td>\n",
       "      <td>NaN</td>\n",
       "      <td>NaN</td>\n",
       "      <td>NaN</td>\n",
       "      <td>0</td>\n",
       "      <td>21</td>\n",
       "      <td>0</td>\n",
       "      <td>1</td>\n",
       "      <td>2</td>\n",
       "      <td>0</td>\n",
       "      <td>0</td>\n",
       "      <td>0</td>\n",
       "      <td>0.000000</td>\n",
       "      <td>NaN</td>\n",
       "      <td>NaN</td>\n",
       "      <td>NaN</td>\n",
       "      <td>NaN</td>\n",
       "      <td>NaN</td>\n",
       "      <td>NaN</td>\n",
       "      <td>0.03353</td>\n",
       "      <td>4</td>\n",
       "    </tr>\n",
       "  </tbody>\n",
       "</table>\n",
       "</div>"
      ],
      "text/plain": [
       "  target_subreddit target_subreddit_id  subscribed user_geo_country_code_top       user_id  tos_30_sub_count  user_receives_pn_t7  user_clicks_pn_t7  user_clicks_trnd_t7  screen_view_count_14d  num_post_consumes  num_post_consumes_home  num_post_consumes_community  num_post_consumes_post_detail  \\\n",
       "0      hydrohomies           t5_10288s           1                        US   t2_ejmd0wgu                35                 33.0                0.0                  0.0                      0                 84                      29                           51                              2   \n",
       "1      hydrohomies           t5_10288s           1                        US  t2_6dsvzqwxi                10                  NaN                NaN                  NaN                     10                 11                       0                            0                              6   \n",
       "2      hydrohomies           t5_10288s           1                        US  t2_a262kv7m8                39                  NaN                NaN                  NaN                      0                649                       3                           62                            559   \n",
       "3      hydrohomies           t5_10288s           1                        US  t2_a0y3gfeq3                 7                 28.0                1.0                  1.0                      3                 96                      45                           46                              5   \n",
       "4      hydrohomies           t5_10288s           1                        US  t2_77dqdzpdd                13                  NaN                NaN                  NaN                      0                 21                       0                            1                              2   \n",
       "\n",
       "   num_post_consumes_ios  num_post_consumes_android  num_post_consumes_nsfw  pct_post_consumes_nsfw  view_and_consume_unique_count  consume_unique_count  view_count  consume_count  consume_ios_count  consume_android_count  tos_30_pct  legacy_user_cohort_ord  \n",
       "0                     84                          0                       8                0.095238                            NaN                   NaN         NaN            NaN                NaN                    NaN     0.00526                       4  \n",
       "1                      0                          0                       0                0.000000                            NaN                   NaN         NaN            NaN                NaN                    NaN     0.20283                       5  \n",
       "2                      0                          0                       0                0.000000                            NaN                   NaN         NaN            NaN                NaN                    NaN     0.00141                       4  \n",
       "3                     96                          0                       0                0.000000                            NaN                   NaN         NaN            NaN                NaN                    NaN     0.00388                       4  \n",
       "4                      0                          0                       0                0.000000                            NaN                   NaN         NaN            NaN                NaN                    NaN     0.03353                       4  "
      ]
     },
     "execution_count": 47,
     "metadata": {},
     "output_type": "execute_result"
    }
   ],
   "source": [
    "df_inference_raw.head().to_pandas()"
   ]
  },
  {
   "cell_type": "code",
   "execution_count": 58,
   "id": "158b09de",
   "metadata": {},
   "outputs": [
    {
     "name": "stderr",
     "output_type": "stream",
     "text": [
      "18:33:14 | INFO | \"Create new df for predictions...\"\n"
     ]
    },
    {
     "name": "stdout",
     "output_type": "stream",
     "text": [
      "CPU times: user 17.3 ms, sys: 4.5 ms, total: 21.8 ms\n",
      "Wall time: 19 ms\n"
     ]
    },
    {
     "data": {
      "text/plain": [
       "(5, 6)"
      ]
     },
     "execution_count": 58,
     "metadata": {},
     "output_type": "execute_result"
    }
   ],
   "source": [
    "%%time\n",
    "\n",
    "# Note that sklearn works only with numpy and pandas\n",
    "#. let's use pandas because that will preserve column names\n",
    "\n",
    "info(f\"Create new df for predictions...\")\n",
    "_ = (\n",
    "    df_inference_raw[l_ix_cols].head().to_pandas()\n",
    "    .assign(\n",
    "        **{c_pred_proba: model.predict_proba(df_inference_raw[l_feature_names].head().to_pandas())[:,1]}\n",
    "    ) \n",
    ")\n",
    "_.shape"
   ]
  },
  {
   "cell_type": "code",
   "execution_count": 59,
   "id": "214cfaf9",
   "metadata": {},
   "outputs": [
    {
     "data": {
      "text/html": [
       "<div>\n",
       "<style scoped>\n",
       "    .dataframe tbody tr th:only-of-type {\n",
       "        vertical-align: middle;\n",
       "    }\n",
       "\n",
       "    .dataframe tbody tr th {\n",
       "        vertical-align: top;\n",
       "    }\n",
       "\n",
       "    .dataframe thead th {\n",
       "        text-align: right;\n",
       "    }\n",
       "</style>\n",
       "<table border=\"1\" class=\"dataframe\">\n",
       "  <thead>\n",
       "    <tr style=\"text-align: right;\">\n",
       "      <th></th>\n",
       "      <th>target_subreddit</th>\n",
       "      <th>target_subreddit_id</th>\n",
       "      <th>subscribed</th>\n",
       "      <th>user_geo_country_code_top</th>\n",
       "      <th>user_id</th>\n",
       "      <th>click_proba</th>\n",
       "    </tr>\n",
       "  </thead>\n",
       "  <tbody>\n",
       "    <tr>\n",
       "      <th>0</th>\n",
       "      <td>hydrohomies</td>\n",
       "      <td>t5_10288s</td>\n",
       "      <td>1</td>\n",
       "      <td>US</td>\n",
       "      <td>t2_ejmd0wgu</td>\n",
       "      <td>0.073633</td>\n",
       "    </tr>\n",
       "    <tr>\n",
       "      <th>1</th>\n",
       "      <td>hydrohomies</td>\n",
       "      <td>t5_10288s</td>\n",
       "      <td>1</td>\n",
       "      <td>US</td>\n",
       "      <td>t2_6dsvzqwxi</td>\n",
       "      <td>0.177742</td>\n",
       "    </tr>\n",
       "    <tr>\n",
       "      <th>2</th>\n",
       "      <td>hydrohomies</td>\n",
       "      <td>t5_10288s</td>\n",
       "      <td>1</td>\n",
       "      <td>US</td>\n",
       "      <td>t2_a262kv7m8</td>\n",
       "      <td>0.105416</td>\n",
       "    </tr>\n",
       "    <tr>\n",
       "      <th>3</th>\n",
       "      <td>hydrohomies</td>\n",
       "      <td>t5_10288s</td>\n",
       "      <td>1</td>\n",
       "      <td>US</td>\n",
       "      <td>t2_a0y3gfeq3</td>\n",
       "      <td>0.110343</td>\n",
       "    </tr>\n",
       "    <tr>\n",
       "      <th>4</th>\n",
       "      <td>hydrohomies</td>\n",
       "      <td>t5_10288s</td>\n",
       "      <td>1</td>\n",
       "      <td>US</td>\n",
       "      <td>t2_77dqdzpdd</td>\n",
       "      <td>0.456919</td>\n",
       "    </tr>\n",
       "  </tbody>\n",
       "</table>\n",
       "</div>"
      ],
      "text/plain": [
       "  target_subreddit target_subreddit_id  subscribed user_geo_country_code_top       user_id  click_proba\n",
       "0      hydrohomies           t5_10288s           1                        US   t2_ejmd0wgu     0.073633\n",
       "1      hydrohomies           t5_10288s           1                        US  t2_6dsvzqwxi     0.177742\n",
       "2      hydrohomies           t5_10288s           1                        US  t2_a262kv7m8     0.105416\n",
       "3      hydrohomies           t5_10288s           1                        US  t2_a0y3gfeq3     0.110343\n",
       "4      hydrohomies           t5_10288s           1                        US  t2_77dqdzpdd     0.456919"
      ]
     },
     "execution_count": 59,
     "metadata": {},
     "output_type": "execute_result"
    }
   ],
   "source": [
    "_.head()"
   ]
  },
  {
   "cell_type": "code",
   "execution_count": 60,
   "id": "d63081c4",
   "metadata": {},
   "outputs": [
    {
     "name": "stderr",
     "output_type": "stream",
     "text": [
      "18:33:47 | INFO | \"Create new df for predictions...\"\n",
      "18:47:44 | INFO | \"Done with predictions\"\n"
     ]
    },
    {
     "name": "stdout",
     "output_type": "stream",
     "text": [
      "CPU times: user 3h 54min 39s, sys: 3min 2s, total: 3h 57min 41s\n",
      "Wall time: 13min 56s\n"
     ]
    }
   ],
   "source": [
    "%%time\n",
    "\n",
    "info(f\"Create new df for predictions...\")\n",
    "df_pred = (\n",
    "    df_inference_raw[l_ix_cols].to_pandas()\n",
    "    .assign(\n",
    "        **{c_pred_proba: model.predict_proba(df_inference_raw[l_feature_names].to_pandas())[:,1]}\n",
    "    ) \n",
    ")\n",
    "info(f\"Done with predictions\")"
   ]
  },
  {
   "cell_type": "code",
   "execution_count": 63,
   "id": "31ac948c",
   "metadata": {},
   "outputs": [
    {
     "name": "stderr",
     "output_type": "stream",
     "text": [
      "19:23:21 | INFO | \"(705963374, 6) <- predictions shape\"\n"
     ]
    }
   ],
   "source": [
    "info(f\"{df_pred.shape} <- predictions shape\")"
   ]
  },
  {
   "cell_type": "code",
   "execution_count": 64,
   "id": "2df262c4",
   "metadata": {},
   "outputs": [
    {
     "data": {
      "text/html": [
       "<div>\n",
       "<style scoped>\n",
       "    .dataframe tbody tr th:only-of-type {\n",
       "        vertical-align: middle;\n",
       "    }\n",
       "\n",
       "    .dataframe tbody tr th {\n",
       "        vertical-align: top;\n",
       "    }\n",
       "\n",
       "    .dataframe thead th {\n",
       "        text-align: right;\n",
       "    }\n",
       "</style>\n",
       "<table border=\"1\" class=\"dataframe\">\n",
       "  <thead>\n",
       "    <tr style=\"text-align: right;\">\n",
       "      <th></th>\n",
       "      <th>target_subreddit</th>\n",
       "      <th>target_subreddit_id</th>\n",
       "      <th>subscribed</th>\n",
       "      <th>user_geo_country_code_top</th>\n",
       "      <th>user_id</th>\n",
       "      <th>click_proba</th>\n",
       "    </tr>\n",
       "  </thead>\n",
       "  <tbody>\n",
       "    <tr>\n",
       "      <th>0</th>\n",
       "      <td>hydrohomies</td>\n",
       "      <td>t5_10288s</td>\n",
       "      <td>1</td>\n",
       "      <td>US</td>\n",
       "      <td>t2_ejmd0wgu</td>\n",
       "      <td>0.073633</td>\n",
       "    </tr>\n",
       "    <tr>\n",
       "      <th>1</th>\n",
       "      <td>hydrohomies</td>\n",
       "      <td>t5_10288s</td>\n",
       "      <td>1</td>\n",
       "      <td>US</td>\n",
       "      <td>t2_6dsvzqwxi</td>\n",
       "      <td>0.177742</td>\n",
       "    </tr>\n",
       "    <tr>\n",
       "      <th>2</th>\n",
       "      <td>hydrohomies</td>\n",
       "      <td>t5_10288s</td>\n",
       "      <td>1</td>\n",
       "      <td>US</td>\n",
       "      <td>t2_a262kv7m8</td>\n",
       "      <td>0.105416</td>\n",
       "    </tr>\n",
       "    <tr>\n",
       "      <th>3</th>\n",
       "      <td>hydrohomies</td>\n",
       "      <td>t5_10288s</td>\n",
       "      <td>1</td>\n",
       "      <td>US</td>\n",
       "      <td>t2_a0y3gfeq3</td>\n",
       "      <td>0.110343</td>\n",
       "    </tr>\n",
       "    <tr>\n",
       "      <th>4</th>\n",
       "      <td>hydrohomies</td>\n",
       "      <td>t5_10288s</td>\n",
       "      <td>1</td>\n",
       "      <td>US</td>\n",
       "      <td>t2_77dqdzpdd</td>\n",
       "      <td>0.456919</td>\n",
       "    </tr>\n",
       "  </tbody>\n",
       "</table>\n",
       "</div>"
      ],
      "text/plain": [
       "  target_subreddit target_subreddit_id  subscribed user_geo_country_code_top       user_id  click_proba\n",
       "0      hydrohomies           t5_10288s           1                        US   t2_ejmd0wgu     0.073633\n",
       "1      hydrohomies           t5_10288s           1                        US  t2_6dsvzqwxi     0.177742\n",
       "2      hydrohomies           t5_10288s           1                        US  t2_a262kv7m8     0.105416\n",
       "3      hydrohomies           t5_10288s           1                        US  t2_a0y3gfeq3     0.110343\n",
       "4      hydrohomies           t5_10288s           1                        US  t2_77dqdzpdd     0.456919"
      ]
     },
     "execution_count": 64,
     "metadata": {},
     "output_type": "execute_result"
    }
   ],
   "source": [
    "df_pred.head()"
   ]
  },
  {
   "cell_type": "markdown",
   "id": "5da98d01",
   "metadata": {},
   "source": [
    "```bash\n",
    "# Rank, pandas\n",
    "CPU times: user 10min 55s, sys: 26.9 s, total: 11min 22s\n",
    "Wall time: 11min 21s\n",
    "    \n",
    "# Sort, pandas\n",
    "CPU times: user 9min 48s, sys: 1min 4s, total: 10min 52s\n",
    "Wall time: 10min 52s\n",
    "\n",
    "```"
   ]
  },
  {
   "cell_type": "code",
   "execution_count": 65,
   "id": "53163c2f",
   "metadata": {},
   "outputs": [
    {
     "name": "stdout",
     "output_type": "stream",
     "text": [
      "CPU times: user 10min 55s, sys: 26.9 s, total: 11min 22s\n",
      "Wall time: 11min 21s\n"
     ]
    }
   ],
   "source": [
    "%%time\n",
    "\n",
    "# for the cache we only keep the top ~500k per subreddit+country\n",
    "# create new column for ranking so that it's easier to filter down the road\n",
    "df_pred[c_user_rank] = (\n",
    "    df_pred\n",
    "    .groupby(l_ix_cache)\n",
    "    [c_pred_proba]\n",
    "    .rank(method='dense', ascending=False)\n",
    "    .astype(int)\n",
    ")"
   ]
  },
  {
   "cell_type": "code",
   "execution_count": 67,
   "id": "33092d4a",
   "metadata": {},
   "outputs": [
    {
     "name": "stdout",
     "output_type": "stream",
     "text": [
      "CPU times: user 9min 48s, sys: 1min 4s, total: 10min 52s\n",
      "Wall time: 10min 52s\n"
     ]
    }
   ],
   "source": [
    "%%time\n",
    "# Sort the df so that the final file is in the right order\n",
    "df_pred = (\n",
    "    df_pred\n",
    "    .sort_values(by=l_ix_cache + [c_user_rank], ascending=True)\n",
    ")\n"
   ]
  },
  {
   "cell_type": "code",
   "execution_count": 69,
   "id": "ecac8696",
   "metadata": {},
   "outputs": [
    {
     "data": {
      "text/plain": [
       "(705963374, 7)"
      ]
     },
     "execution_count": 69,
     "metadata": {},
     "output_type": "execute_result"
    }
   ],
   "source": [
    "df_pred.shape"
   ]
  },
  {
   "cell_type": "code",
   "execution_count": 70,
   "id": "cb3d8472",
   "metadata": {},
   "outputs": [
    {
     "data": {
      "text/html": [
       "<div>\n",
       "<style scoped>\n",
       "    .dataframe tbody tr th:only-of-type {\n",
       "        vertical-align: middle;\n",
       "    }\n",
       "\n",
       "    .dataframe tbody tr th {\n",
       "        vertical-align: top;\n",
       "    }\n",
       "\n",
       "    .dataframe thead th {\n",
       "        text-align: right;\n",
       "    }\n",
       "</style>\n",
       "<table border=\"1\" class=\"dataframe\">\n",
       "  <thead>\n",
       "    <tr style=\"text-align: right;\">\n",
       "      <th></th>\n",
       "      <th>target_subreddit</th>\n",
       "      <th>target_subreddit_id</th>\n",
       "      <th>subscribed</th>\n",
       "      <th>user_geo_country_code_top</th>\n",
       "      <th>user_id</th>\n",
       "      <th>click_proba</th>\n",
       "      <th>user_rank_by_sub_and_geo</th>\n",
       "    </tr>\n",
       "  </thead>\n",
       "  <tbody>\n",
       "    <tr>\n",
       "      <th>625174570</th>\n",
       "      <td>197</td>\n",
       "      <td>t5_3enhu</td>\n",
       "      <td>0</td>\n",
       "      <td>AR</td>\n",
       "      <td>t2_817w7itp</td>\n",
       "      <td>0.967264</td>\n",
       "      <td>1</td>\n",
       "    </tr>\n",
       "    <tr>\n",
       "      <th>625128078</th>\n",
       "      <td>197</td>\n",
       "      <td>t5_3enhu</td>\n",
       "      <td>0</td>\n",
       "      <td>AR</td>\n",
       "      <td>t2_8w7diilx</td>\n",
       "      <td>0.952187</td>\n",
       "      <td>2</td>\n",
       "    </tr>\n",
       "    <tr>\n",
       "      <th>625205293</th>\n",
       "      <td>197</td>\n",
       "      <td>t5_3enhu</td>\n",
       "      <td>0</td>\n",
       "      <td>AR</td>\n",
       "      <td>t2_793p13o1</td>\n",
       "      <td>0.943688</td>\n",
       "      <td>3</td>\n",
       "    </tr>\n",
       "    <tr>\n",
       "      <th>625135565</th>\n",
       "      <td>197</td>\n",
       "      <td>t5_3enhu</td>\n",
       "      <td>0</td>\n",
       "      <td>AR</td>\n",
       "      <td>t2_6abg4aih</td>\n",
       "      <td>0.941869</td>\n",
       "      <td>4</td>\n",
       "    </tr>\n",
       "    <tr>\n",
       "      <th>625282083</th>\n",
       "      <td>197</td>\n",
       "      <td>t5_3enhu</td>\n",
       "      <td>0</td>\n",
       "      <td>AR</td>\n",
       "      <td>t2_7dtlpsiq</td>\n",
       "      <td>0.941032</td>\n",
       "      <td>5</td>\n",
       "    </tr>\n",
       "  </tbody>\n",
       "</table>\n",
       "</div>"
      ],
      "text/plain": [
       "          target_subreddit target_subreddit_id  subscribed user_geo_country_code_top      user_id  click_proba  user_rank_by_sub_and_geo\n",
       "625174570              197            t5_3enhu           0                        AR  t2_817w7itp     0.967264                         1\n",
       "625128078              197            t5_3enhu           0                        AR  t2_8w7diilx     0.952187                         2\n",
       "625205293              197            t5_3enhu           0                        AR  t2_793p13o1     0.943688                         3\n",
       "625135565              197            t5_3enhu           0                        AR  t2_6abg4aih     0.941869                         4\n",
       "625282083              197            t5_3enhu           0                        AR  t2_7dtlpsiq     0.941032                         5"
      ]
     },
     "execution_count": 70,
     "metadata": {},
     "output_type": "execute_result"
    }
   ],
   "source": [
    "df_pred.head()"
   ]
  },
  {
   "cell_type": "markdown",
   "id": "1e3aa1e0",
   "metadata": {},
   "source": [
    "# Save raw inference"
   ]
  },
  {
   "cell_type": "code",
   "execution_count": 121,
   "id": "9e780830",
   "metadata": {},
   "outputs": [
    {
     "name": "stderr",
     "output_type": "stream",
     "text": [
      "20:44:55 | INFO | \"start saving predictions...\"\n"
     ]
    },
    {
     "name": "stdout",
     "output_type": "stream",
     "text": [
      "CPU times: user 5min 45s, sys: 31.3 s, total: 6min 17s\n",
      "Wall time: 6min 24s\n"
     ]
    }
   ],
   "source": [
    "%%time\n",
    "\n",
    "info(f\"start saving predictions...\")\n",
    "# for prod: might need to use dask or polars to save to multiple files\n",
    "r_, c_ = df_pred.shape\n",
    "df_pred.to_parquet(\n",
    "    path_this_model / f\"df_pred-{r_}_{c_}.parquet\"\n",
    "    , index=False\n",
    ")\n",
    "del r_, c_"
   ]
  },
  {
   "cell_type": "code",
   "execution_count": 122,
   "id": "340b06ad",
   "metadata": {},
   "outputs": [
    {
     "name": "stdout",
     "output_type": "stream",
     "text": [
      "12G\t/home/jupyter/subreddit_clustering_i18n/data/models/pn_model/pn_manual_test_2023-05-10_162703/df_pred-705963374_7.parquet\n"
     ]
    }
   ],
   "source": [
    "!du -Lsh $path_this_model/* | sort -hr "
   ]
  },
  {
   "cell_type": "code",
   "execution_count": 129,
   "id": "b1e58472",
   "metadata": {},
   "outputs": [
    {
     "name": "stdout",
     "output_type": "stream",
     "text": [
      "<class 'pandas.core.frame.DataFrame'>\n",
      "Int64Index: 705963374 entries, 625174570 to 268279029\n",
      "Data columns (total 7 columns):\n",
      " #   Column                     Dtype  \n",
      "---  ------                     -----  \n",
      " 0   target_subreddit           object \n",
      " 1   target_subreddit_id        object \n",
      " 2   subscribed                 int64  \n",
      " 3   user_geo_country_code_top  object \n",
      " 4   user_id                    object \n",
      " 5   click_proba                float32\n",
      " 6   user_rank_by_sub_and_geo   int64  \n",
      "dtypes: float32(1), int64(2), object(4)\n",
      "memory usage: 39.4+ GB\n"
     ]
    }
   ],
   "source": [
    "df_pred.info()"
   ]
  },
  {
   "cell_type": "markdown",
   "id": "d578d8c7",
   "metadata": {},
   "source": [
    "# Select cache & Reshape for BigQuery\n",
    "We won't save all predictions to BigQuery. We only keep those above threshold that gets us over 90% recall (~0.300 in latest XGBoost-pre model)"
   ]
  },
  {
   "cell_type": "markdown",
   "id": "a7a3bfc3",
   "metadata": {},
   "source": [
    "## Create metadata \n",
    "This metadata will be used for all items in this batch. Set it in a dict and save it only to the final data because it can add a ton of overhead to save it for all rows of inference"
   ]
  },
  {
   "cell_type": "code",
   "execution_count": 187,
   "id": "d4ec3ce3",
   "metadata": {},
   "outputs": [
    {
     "name": "stdout",
     "output_type": "stream",
     "text": [
      "CPU times: user 21 µs, sys: 1 µs, total: 22 µs\n",
      "Wall time: 42.7 µs\n"
     ]
    }
   ],
   "source": [
    "%%time\n",
    "\n",
    "d_topk_meta = {\n",
    "    'pt': '2023-05-07',\n",
    "    'model_name': 'PN click subreddit-user',\n",
    "    'model_version': 'v0.1 2023-05-02',\n",
    "}\n",
    "\n",
    "# Only check if we've already written it to the file\n",
    "# info(f\"Checking keys for ndjson...\")\n",
    "# for k in tqdm(d_topk_meta.keys()):\n",
    "#     assert 1 == df_pred[k].nunique()\n",
    "#     d_topk_meta[k] = df_pred[k].values[0]\n",
    "#     print(f\"  {k}: {d_topk_meta[k]}\")"
   ]
  },
  {
   "cell_type": "code",
   "execution_count": 124,
   "id": "d9f7ca83",
   "metadata": {},
   "outputs": [
    {
     "data": {
      "text/plain": [
       "Index(['target_subreddit', 'target_subreddit_id', 'subscribed', 'user_geo_country_code_top', 'user_id', 'click_proba', 'user_rank_by_sub_and_geo'], dtype='object')"
      ]
     },
     "execution_count": 124,
     "metadata": {},
     "output_type": "execute_result"
    }
   ],
   "source": [
    "df_pred.columns"
   ]
  },
  {
   "cell_type": "code",
   "execution_count": 125,
   "id": "ef8c9137",
   "metadata": {},
   "outputs": [
    {
     "name": "stdout",
     "output_type": "stream",
     "text": [
      "CPU times: user 1min 3s, sys: 3.37 s, total: 1min 6s\n",
      "Wall time: 1min 6s\n"
     ]
    }
   ],
   "source": [
    "%%time\n",
    "\n",
    "n_unique_subs = df_pred['target_subreddit_id'].nunique()"
   ]
  },
  {
   "cell_type": "markdown",
   "id": "01f664c3",
   "metadata": {},
   "source": [
    "## Save as ndJSON\n",
    "\n",
    "When we apply cache filters, it makes sense to do it upfront (on the whole df) instead of per each subreddit+country\n",
    "\n",
    "```bash\n",
    "# time doing filters per group\n",
    "CPU times: user 1min 2s, sys: 5.5 s, total: 1min 8s\n",
    "Wall time: 1min 8s\n",
    "    \n",
    "# time applying mask upfront - we save ~16 seconds (which will add up when we run on 50k subreddits)\n",
    "CPU times: user 48.4 s, sys: 3.71 s, total: 52.2 s\n",
    "Wall time: 52.1 s\n",
    "```"
   ]
  },
  {
   "cell_type": "code",
   "execution_count": 136,
   "id": "6e81c8d9",
   "metadata": {},
   "outputs": [],
   "source": [
    "from subclu.pn_models import pn_inference"
   ]
  },
  {
   "cell_type": "code",
   "execution_count": 96,
   "id": "d9632e2b",
   "metadata": {},
   "outputs": [
    {
     "name": "stdout",
     "output_type": "stream",
     "text": [
      "CPU times: user 1min 1s, sys: 4.9 s, total: 1min 5s\n",
      "Wall time: 1min 5s\n"
     ]
    }
   ],
   "source": [
    "%%time\n",
    "## test on a sample to make sure format is correct\n",
    "df_pred_sample = df_pred.sample(n=20987000, random_state=42)"
   ]
  },
  {
   "cell_type": "code",
   "execution_count": 161,
   "id": "c8e18965",
   "metadata": {},
   "outputs": [
    {
     "name": "stderr",
     "output_type": "stream",
     "text": [
      "05:28:46 | INFO | \"Creating mask for user to process...\"\n",
      "05:28:46 | INFO | \"5,248,995 <- Rows to process\"\n",
      "05:28:46 | INFO | \"Creating paths for file...\"\n",
      "05:28:46 | INFO | \"Output file:\n",
      "/home/jupyter/subreddit_clustering_i18n/data/models/pn_model/pn_manual_test_2023-05-10_162703/click_proba_ndjson_TEST/click_proba_ndjson-0-2023-05-10_162703-5248995_rows.json\"\n",
      "05:28:46 | INFO | \"  No previous file found to delete\n",
      "  [Errno 2] No such file or directory: '/home/jupyter/subreddit_clustering_i18n/data/models/pn_model/pn_manual_test_2023-05-10_162703/click_proba_ndjson_TEST/click_proba_ndjson-0-2023-05-10_162703-5248995_rows.json'\"\n",
      "05:28:46 | INFO | \"Start saving df as ndJSON...\"\n",
      "100%|██████████| 34742/34742 [01:00<00:00, 575.01it/s]\n",
      "05:29:57 | INFO | \"Done saving as ndJSON\"\n"
     ]
    },
    {
     "name": "stdout",
     "output_type": "stream",
     "text": [
      "Example subreddit:\n",
      "pt:  2022-05-07\n",
      "model_name:  PN click subreddit-user\n",
      "model_version:  v0.1 2023-05-02\n",
      "target_subreddit_id:  t5_u8wq5\n",
      "target_subreddit:  themandaloriantv\n",
      "subscribed:  1\n",
      "user_geo_country_code:  US\n",
      "top_users:\n",
      "    {'user_id': 't2_54ja0o6o', 'click_proba': 0.9758098721504211, 'user_rank_by_sub_and_geo': 1}\n",
      "    {'user_id': 't2_6zyg0j1w1', 'click_proba': 0.9575957655906677, 'user_rank_by_sub_and_geo': 2}\n",
      "    {'user_id': 't2_52u9io99', 'click_proba': 0.9371027946472168, 'user_rank_by_sub_and_geo': 3}\n",
      "    {'user_id': 't2_1i66qvq', 'click_proba': 0.9162823557853699, 'user_rank_by_sub_and_geo': 4}\n",
      "    {'user_id': 't2_p2kmvy3', 'click_proba': 0.9097001552581787, 'user_rank_by_sub_and_geo': 5}\n",
      "CPU times: user 1min 7s, sys: 3.28 s, total: 1min 11s\n",
      "Wall time: 1min 11s\n"
     ]
    }
   ],
   "source": [
    "%%time\n",
    "\n",
    "p_ndjson_subfolder_test = 'click_proba_ndjson_TEST'\n",
    "\n",
    "d_ndjson_sample = pn_inference.apply_filters_and_save_to_json(\n",
    "    df=df_pred_sample,\n",
    "    path_local_save=path_this_model,\n",
    "    ndjson_subfolder=p_ndjson_subfolder_test,\n",
    "    d_model_meta=d_topk_meta,\n",
    "    n_max_user_rank=960,\n",
    "    col_user_rank=c_user_rank,\n",
    "    click_prob_threshold_min=0.100,\n",
    "    col_click_prob=c_pred_proba,\n",
    "    l_ix_cache=l_ix_cache,\n",
    "    batch_num=0,\n",
    "    file_timestamp=manual_model_timestamp,\n",
    "    d_rename_ix_cols={'user_geo_country_code_top': 'user_geo_country_code'},\n",
    "    verbose=False,\n",
    ")"
   ]
  },
  {
   "cell_type": "code",
   "execution_count": 166,
   "id": "d12f04c7",
   "metadata": {},
   "outputs": [
    {
     "data": {
      "text/plain": [
       "{'rows_processed': 5248995,\n",
       " 'local_json_folder': PosixPath('/home/jupyter/subreddit_clustering_i18n/data/models/pn_model/pn_manual_test_2023-05-10_162703/click_proba_ndjson_TEST'),\n",
       " 'local_json_filename': 'click_proba_ndjson-0-2023-05-10_162703-5248995_rows.json',\n",
       " 'local_json_file': PosixPath('/home/jupyter/subreddit_clustering_i18n/data/models/pn_model/pn_manual_test_2023-05-10_162703/click_proba_ndjson_TEST/click_proba_ndjson-0-2023-05-10_162703-5248995_rows.json')}"
      ]
     },
     "execution_count": 166,
     "metadata": {},
     "output_type": "execute_result"
    }
   ],
   "source": [
    "d_ndjson_sample"
   ]
  },
  {
   "cell_type": "code",
   "execution_count": 162,
   "id": "092848a5",
   "metadata": {},
   "outputs": [
    {
     "name": "stdout",
     "output_type": "stream",
     "text": [
      "12G\t/home/jupyter/subreddit_clustering_i18n/data/models/pn_model/pn_manual_test_2023-05-10_162703/df_pred-705963374_7.parquet\n",
      "972M\t/home/jupyter/subreddit_clustering_i18n/data/models/pn_model/pn_manual_test_2023-05-10_162703/click_proba_ndjson_TEST\n"
     ]
    }
   ],
   "source": [
    "!du -Lsh $path_this_model/* | sort -hr"
   ]
  },
  {
   "cell_type": "code",
   "execution_count": 168,
   "id": "020058f0",
   "metadata": {},
   "outputs": [
    {
     "name": "stdout",
     "output_type": "stream",
     "text": [
      "487M\t/home/jupyter/subreddit_clustering_i18n/data/models/pn_model/pn_manual_test_2023-05-10_162703/click_proba_ndjson_TEST/click_proba_ndjson-0-2023-05-10_162703-5248995_rows.json\n"
     ]
    }
   ],
   "source": [
    "test_path_ = d_ndjson_sample['local_json_folder']\n",
    "!du -Lsh $test_path_/* | sort -hr "
   ]
  },
  {
   "cell_type": "code",
   "execution_count": 165,
   "id": "de425a77",
   "metadata": {},
   "outputs": [
    {
     "name": "stdout",
     "output_type": "stream",
     "text": [
      "{\"pt\": \"2022-05-07\", \"model_name\": \"PN click subreddit-user\", \"model_version\": \"v0.1 2023-05-02\", \"target_subreddit_id\": \"t5_10288s\", \"target_subreddit\": \"hydrohomies\", \"subscribed\": 0, \"user_geo_country_code\": \"AR\", \"top_users\": [{\"user_id\": \"t2_16krmx\", \"click_proba\": 0.6672725081443787, \"user_rank_by_sub_and_geo\": 1}, {\"user_id\": \"t2_5igtl03\", \"click_proba\": 0.3555777072906494, \"user_rank_by_sub_and_geo\": 2}, {\"user_id\": \"t2_n1juem41\", \"click_proba\": 0.2663317918777466, \"user_rank_by_sub_and_geo\": 3}]}\n",
      "{\"pt\": \"2022-05-07\", \"model_name\": \"PN click subreddit-user\", \"model_version\": \"v0.1 2023-05-02\", \"target_subreddit_id\": \"t5_10288s\", \"target_subreddit\": \"hydrohomies\", \"subscribed\": 0, \"user_geo_country_code\": \"AT\", \"top_users\": [{\"user_id\": \"t2_3l4m102v\", \"click_proba\": 0.5421475172042847, \"user_rank_by_sub_and_geo\": 1}, {\"user_id\": \"t2_9tklpqgq2\", \"click_proba\": 0.4820619225502014, \"user_rank_by_sub_and_geo\": 2}, {\"user_id\": \"t2_9uqci27gs\", \"click_proba\": 0.3086017668247223, \"user_rank_by_sub_and_geo\": 3}, {\"user_id\": \"t2_7flwmgew\", \"click_proba\": 0.29367631673812866, \"user_rank_by_sub_and_geo\": 4}, {\"user_id\": \"t2_tbyg7hp0\", \"click_proba\": 0.22805660963058472, \"user_rank_by_sub_and_geo\": 5}, {\"user_id\": \"t2_70cg1wbt\", \"click_proba\": 0.18350227177143097, \"user_rank_by_sub_and_geo\": 6}]}\n"
     ]
    }
   ],
   "source": [
    "test_file_ = d_ndjson_sample['local_json_file']\n",
    "\n",
    "!head -2 $test_file_ "
   ]
  },
  {
   "cell_type": "markdown",
   "id": "789b9915",
   "metadata": {},
   "source": [
    "## Upload to GCS\n",
    "BigQuery expects the data in GCS "
   ]
  },
  {
   "cell_type": "code",
   "execution_count": 172,
   "id": "79b87247",
   "metadata": {},
   "outputs": [
    {
     "data": {
      "text/plain": [
       "PosixPath('/home/jupyter/subreddit_clustering_i18n/data/models/pn_model/pn_manual_test_2023-05-10_162703/click_proba_ndjson_TEST/click_proba_ndjson-0-2023-05-10_162703-5248995_rows.json')"
      ]
     },
     "execution_count": 172,
     "metadata": {},
     "output_type": "execute_result"
    }
   ],
   "source": [
    "d_ndjson_sample['local_json_file']"
   ]
  },
  {
   "cell_type": "code",
   "execution_count": 174,
   "id": "eaab719b",
   "metadata": {},
   "outputs": [],
   "source": [
    "remote_gs_path_json_test = (\n",
    "    \"gs://i18n-subreddit-clustering/pn_model/pn_manual_test_2023-05-10_162703/click_proba_ndjson_TEST/\"\n",
    ")"
   ]
  },
  {
   "cell_type": "code",
   "execution_count": 176,
   "id": "d6d9d50c",
   "metadata": {},
   "outputs": [
    {
     "name": "stdout",
     "output_type": "stream",
     "text": [
      "Copying file:///home/jupyter/subreddit_clustering_i18n/data/models/pn_model/pn_manual_test_2023-05-10_162703/click_proba_ndjson_TEST/click_proba_ndjson-0-2023-05-10_162703-5248995_rows.json [Content-Type=application/json]...\n",
      "==> NOTE: You are uploading one or more large file(s), which would run          \n",
      "significantly faster if you enable parallel composite uploads. This\n",
      "feature can be enabled by editing the\n",
      "\"parallel_composite_upload_threshold\" value in your .boto\n",
      "configuration file. However, note that if you do this large files will\n",
      "be uploaded as `composite objects\n",
      "<https://cloud.google.com/storage/docs/composite-objects>`_,which\n",
      "means that any user who downloads such objects will need to have a\n",
      "compiled crcmod installed (see \"gsutil help crcmod\"). This is because\n",
      "without a compiled crcmod, computing checksums on composite objects is\n",
      "so slow that gsutil disables downloads of composite objects.\n",
      "\n",
      "- [1/1 files][486.7 MiB/486.7 MiB] 100% Done                                    \n",
      "Operation completed over 1 objects/486.7 MiB.                                    \n"
     ]
    }
   ],
   "source": [
    "BREAK\n",
    "f_local_json_test_ = d_ndjson_sample['local_json_file']\n",
    "\n",
    "!gsutil -m cp -r -n $f_local_json_test_ $remote_gs_path_json_test"
   ]
  },
  {
   "cell_type": "code",
   "execution_count": 177,
   "id": "a5834f97",
   "metadata": {},
   "outputs": [
    {
     "name": "stdout",
     "output_type": "stream",
     "text": [
      "gs://i18n-subreddit-clustering/pn_model/pn_manual_test_2023-05-10_162703/click_proba_ndjson_TEST/click_proba_ndjson-0-2023-05-10_162703-5248995_rows.json\n"
     ]
    }
   ],
   "source": [
    "!gsutil ls $remote_gs_path_json_test"
   ]
  },
  {
   "cell_type": "code",
   "execution_count": 184,
   "id": "d374bc72",
   "metadata": {},
   "outputs": [],
   "source": [
    "BREAK\n",
    "remote_gs_file_json_test = (\n",
    "    \"gs://i18n-subreddit-clustering/pn_model/pn_manual_test_2023-05-10_162703/click_proba_ndjson_TEST/*.json\"\n",
    ")"
   ]
  },
  {
   "cell_type": "markdown",
   "id": "3bcd6b80",
   "metadata": {},
   "source": [
    "## Upload to BigQuery"
   ]
  },
  {
   "cell_type": "code",
   "execution_count": 180,
   "id": "4ee0fb6f",
   "metadata": {},
   "outputs": [],
   "source": [
    "from subclu.pn_models.bq_schemas import pn_model_schema\n",
    "from subclu.utils.big_query_utils import load_data_to_bq_table"
   ]
  },
  {
   "cell_type": "code",
   "execution_count": null,
   "id": "382cdee4",
   "metadata": {},
   "outputs": [],
   "source": [
    "BREAK"
   ]
  },
  {
   "cell_type": "code",
   "execution_count": 186,
   "id": "cf743c2c",
   "metadata": {},
   "outputs": [
    {
     "name": "stderr",
     "output_type": "stream",
     "text": [
      "05:51:17 | INFO | \"Loading this URI:\n",
      "  gs://i18n-subreddit-clustering/pn_model/pn_manual_test_2023-05-10_162703/click_proba_ndjson_TEST/*.json\n",
      "Into this table:\n",
      "  reddit-employee-datasets.david_bermejo.pn_model_output_test_20230510\"\n",
      "05:51:17 | INFO | \"Created table reddit-employee-datasets.david_bermejo.pn_model_output_test_20230510\"\n",
      "05:51:18 | INFO | \"  0 rows in table BEFORE adding data\"\n",
      "05:51:52 | INFO | \"Original Table Expiration: 2023-08-19 05:51:17.791000+00:00\"\n",
      "05:51:53 | INFO | \"NEW Table Expiration: None\"\n",
      "05:51:53 | INFO | \"Updating subreddit description from:\n",
      "  Cache model output with the users from a country that are most likely to click on a PN from a target subreddit\n",
      "to:\n",
      "  Cache model output with the users from a country that are most likely to click on a PN from a target subreddit\"\n",
      "05:51:53 | INFO | \"  34,742 rows in table AFTER adding data\"\n"
     ]
    },
    {
     "name": "stdout",
     "output_type": "stream",
     "text": [
      "CPU times: user 71.8 ms, sys: 1.37 s, total: 1.44 s\n",
      "Wall time: 39.8 s\n"
     ]
    }
   ],
   "source": [
    "%%time\n",
    "\n",
    "\n",
    "load_data_to_bq_table(\n",
    "    uri=remote_gs_file_json_test,\n",
    "    bq_project='reddit-employee-datasets',\n",
    "    bq_dataset='david_bermejo',\n",
    "    bq_table_name='pn_model_output_test_20230510',\n",
    "    schema=pn_model_schema(),\n",
    "    partition_column='pt',\n",
    "    table_description=(\n",
    "        \"Cache model output with the users from a country that are most likely to click on a PN from a target subreddit\"\n",
    "    ),\n",
    "    update_table_description=True,\n",
    ")"
   ]
  },
  {
   "cell_type": "markdown",
   "id": "61cce2c9",
   "metadata": {},
   "source": [
    "# Run Transformation to ndjson on full data!\n",
    "Now that we tested that it works on sample, test on full data"
   ]
  },
  {
   "cell_type": "code",
   "execution_count": 191,
   "id": "fb1ea633",
   "metadata": {},
   "outputs": [
    {
     "name": "stderr",
     "output_type": "stream",
     "text": [
      "06:02:19 | INFO | \"Creating mask for user to process...\"\n",
      "06:02:22 | INFO | \"376,701,575 <- Rows to process\"\n",
      "06:02:22 | INFO | \"Creating paths for file...\"\n",
      "06:02:22 | INFO | \"Output file:\n",
      "/home/jupyter/subreddit_clustering_i18n/data/models/pn_model/pn_manual_test_2023-05-10_162703/click_proba_ndjson/click_proba_ndjson-0-2023-05-10_162703-376701575_rows.json\"\n",
      "06:02:22 | INFO | \"  No previous file found to delete\n",
      "  [Errno 2] No such file or directory: '/home/jupyter/subreddit_clustering_i18n/data/models/pn_model/pn_manual_test_2023-05-10_162703/click_proba_ndjson/click_proba_ndjson-0-2023-05-10_162703-376701575_rows.json'\"\n",
      "06:02:22 | INFO | \"Start saving df as ndJSON...\"\n",
      "100%|██████████| 35967/35967 [39:06<00:00, 15.33it/s]  \n",
      "06:52:35 | INFO | \"Done saving as ndJSON\"\n"
     ]
    },
    {
     "name": "stdout",
     "output_type": "stream",
     "text": [
      "Example subreddit:\n",
      "pt:  2023-05-07\n",
      "model_name:  PN click subreddit-user\n",
      "model_version:  v0.1 2023-05-02\n",
      "target_subreddit_id:  t5_u8wq5\n",
      "target_subreddit:  themandaloriantv\n",
      "subscribed:  1\n",
      "user_geo_country_code:  US\n",
      "top_users:\n",
      "    {'user_id': 't2_5kifarq', 'click_proba': 0.9884856939315796, 'user_rank_by_sub_and_geo': 1}\n",
      "    {'user_id': 't2_11bmsm', 'click_proba': 0.9850019812583923, 'user_rank_by_sub_and_geo': 2}\n",
      "    {'user_id': 't2_1k14y9ld', 'click_proba': 0.9843473434448242, 'user_rank_by_sub_and_geo': 3}\n",
      "    {'user_id': 't2_fzmk4', 'click_proba': 0.9816073179244995, 'user_rank_by_sub_and_geo': 4}\n",
      "    {'user_id': 't2_4kd068j1', 'click_proba': 0.9787896275520325, 'user_rank_by_sub_and_geo': 5}\n",
      "CPU times: user 47min 39s, sys: 2min 59s, total: 50min 39s\n",
      "Wall time: 50min 38s\n"
     ]
    }
   ],
   "source": [
    "%%time\n",
    "p_ndjson_subfolder = 'click_proba_ndjson'\n",
    "\n",
    "d_ndjson = pn_inference.apply_filters_and_save_to_json(\n",
    "    df=df_pred,\n",
    "    path_local_save=path_this_model,\n",
    "    ndjson_subfolder=p_ndjson_subfolder,\n",
    "    d_model_meta=d_topk_meta,\n",
    "    n_max_user_rank=500000,\n",
    "    col_user_rank=c_user_rank,\n",
    "    click_prob_threshold_min=0.100,\n",
    "    col_click_prob=c_pred_proba,\n",
    "    l_ix_cache=l_ix_cache,\n",
    "    batch_num=0,\n",
    "    file_timestamp=manual_model_timestamp,\n",
    "    d_rename_ix_cols={'user_geo_country_code_top': 'user_geo_country_code'},\n",
    "    verbose=False,\n",
    ")"
   ]
  },
  {
   "cell_type": "code",
   "execution_count": 192,
   "id": "1618b3e8",
   "metadata": {},
   "outputs": [
    {
     "name": "stdout",
     "output_type": "stream",
     "text": [
      "35G\t/home/jupyter/subreddit_clustering_i18n/data/models/pn_model/pn_manual_test_2023-05-10_162703/click_proba_ndjson\n",
      "12G\t/home/jupyter/subreddit_clustering_i18n/data/models/pn_model/pn_manual_test_2023-05-10_162703/df_pred-705963374_7.parquet\n",
      "487M\t/home/jupyter/subreddit_clustering_i18n/data/models/pn_model/pn_manual_test_2023-05-10_162703/click_proba_ndjson_TEST\n"
     ]
    }
   ],
   "source": [
    "!du -Lsh $path_this_model/* | sort -hr "
   ]
  },
  {
   "cell_type": "markdown",
   "id": "d2194e50",
   "metadata": {},
   "source": [
    "## Upload to GCS\n",
    "BigQuery expects the data in GCS "
   ]
  },
  {
   "cell_type": "code",
   "execution_count": 193,
   "id": "72ba486d",
   "metadata": {},
   "outputs": [
    {
     "data": {
      "text/plain": [
       "PosixPath('/home/jupyter/subreddit_clustering_i18n/data/models/pn_model/pn_manual_test_2023-05-10_162703/click_proba_ndjson/click_proba_ndjson-0-2023-05-10_162703-376701575_rows.json')"
      ]
     },
     "execution_count": 193,
     "metadata": {},
     "output_type": "execute_result"
    }
   ],
   "source": [
    "d_ndjson['local_json_file']"
   ]
  },
  {
   "cell_type": "code",
   "execution_count": 194,
   "id": "34a46d91",
   "metadata": {},
   "outputs": [],
   "source": [
    "remote_gs_path_json = (\n",
    "    \"gs://i18n-subreddit-clustering/pn_model/pn_manual_test_2023-05-10_162703/click_proba_ndjson/\"\n",
    ")"
   ]
  },
  {
   "cell_type": "code",
   "execution_count": 202,
   "id": "86968457",
   "metadata": {},
   "outputs": [
    {
     "name": "stdout",
     "output_type": "stream",
     "text": [
      "Copying file:///home/jupyter/subreddit_clustering_i18n/data/models/pn_model/pn_manual_test_2023-05-10_162703/click_proba_ndjson/click_proba_ndjson-0-2023-05-10_162703-376701575_rows.json [Content-Type=application/json]...\n",
      "==> NOTE: You are uploading one or more large file(s), which would run          \n",
      "significantly faster if you enable parallel composite uploads. This\n",
      "feature can be enabled by editing the\n",
      "\"parallel_composite_upload_threshold\" value in your .boto\n",
      "configuration file. However, note that if you do this large files will\n",
      "be uploaded as `composite objects\n",
      "<https://cloud.google.com/storage/docs/composite-objects>`_,which\n",
      "means that any user who downloads such objects will need to have a\n",
      "compiled crcmod installed (see \"gsutil help crcmod\"). This is because\n",
      "without a compiled crcmod, computing checksums on composite objects is\n",
      "so slow that gsutil disables downloads of composite objects.\n",
      "\n",
      "^C[0/1 files][  5.9 GiB/ 34.5 GiB]  17% Done 159.2 MiB/s ETA 00:03:04           \n"
     ]
    }
   ],
   "source": [
    "# BREAK\n",
    "f_local_json_ = d_ndjson['local_json_file']\n",
    "\n",
    "!gsutil -m cp -r -n $f_local_json_ $remote_gs_path_json"
   ]
  },
  {
   "cell_type": "code",
   "execution_count": 196,
   "id": "b14bc2cf",
   "metadata": {},
   "outputs": [
    {
     "name": "stdout",
     "output_type": "stream",
     "text": [
      "gs://i18n-subreddit-clustering/pn_model/pn_manual_test_2023-05-10_162703/click_proba_ndjson_TEST/click_proba_ndjson-0-2023-05-10_162703-376701575_rows.json\n",
      "gs://i18n-subreddit-clustering/pn_model/pn_manual_test_2023-05-10_162703/click_proba_ndjson_TEST/click_proba_ndjson-0-2023-05-10_162703-5248995_rows.json\n"
     ]
    }
   ],
   "source": [
    "!gsutil ls $remote_gs_path_json_test"
   ]
  },
  {
   "cell_type": "code",
   "execution_count": 204,
   "id": "2effd1ea",
   "metadata": {},
   "outputs": [
    {
     "name": "stdout",
     "output_type": "stream",
     "text": [
      "CommandException: One or more URLs matched no objects.\n"
     ]
    }
   ],
   "source": [
    "!gsutil ls $remote_gs_path_json"
   ]
  },
  {
   "cell_type": "code",
   "execution_count": 203,
   "id": "fc7cac3a",
   "metadata": {},
   "outputs": [],
   "source": [
    "# BREAK\n",
    "remote_gs_file_json = (\n",
    "    \"gs://i18n-subreddit-clustering/pn_model/pn_manual_test_2023-05-10_162703/click_proba_ndjson_TEST/click_proba_ndjson-0-2023-05-10_162703-376701575_rows.json\"\n",
    ")"
   ]
  },
  {
   "cell_type": "markdown",
   "id": "45218fab",
   "metadata": {},
   "source": [
    "## Upload to BigQuery"
   ]
  },
  {
   "cell_type": "code",
   "execution_count": 180,
   "id": "94eb0aa5",
   "metadata": {},
   "outputs": [],
   "source": [
    "from subclu.pn_models.bq_schemas import pn_model_schema\n",
    "from subclu.utils.big_query_utils import load_data_to_bq_table"
   ]
  },
  {
   "cell_type": "code",
   "execution_count": null,
   "id": "f377c264",
   "metadata": {},
   "outputs": [],
   "source": [
    "BREAK"
   ]
  },
  {
   "cell_type": "code",
   "execution_count": 205,
   "id": "76a24531",
   "metadata": {},
   "outputs": [
    {
     "name": "stderr",
     "output_type": "stream",
     "text": [
      "12:52:03 | INFO | \"Loading this URI:\n",
      "  gs://i18n-subreddit-clustering/pn_model/pn_manual_test_2023-05-10_162703/click_proba_ndjson_TEST/click_proba_ndjson-0-2023-05-10_162703-376701575_rows.json\n",
      "Into this table:\n",
      "  reddit-employee-datasets.david_bermejo.pn_model_output_20230510\"\n",
      "12:52:04 | INFO | \"Table reddit-employee-datasets.david_bermejo.pn_model_output_20230510 already exist\"\n",
      "12:52:04 | INFO | \"  0 rows in table BEFORE adding data\"\n",
      "12:53:18 | INFO | \"Original Table Expiration: 2023-08-19 12:48:36.252000+00:00\"\n",
      "12:53:19 | INFO | \"NEW Table Expiration: None\"\n",
      "12:53:19 | INFO | \"Updating subreddit description from:\n",
      "  Cache model output with the users from a country that are most likely to click on a PN from a target subreddit\n",
      "to:\n",
      "  Cache model output with the users from a country that are most likely to click on a PN from a target subreddit\"\n",
      "12:53:19 | INFO | \"  35,967 rows in table AFTER adding data\"\n"
     ]
    },
    {
     "name": "stdout",
     "output_type": "stream",
     "text": [
      "CPU times: user 68.1 ms, sys: 1.16 s, total: 1.22 s\n",
      "Wall time: 1min 18s\n"
     ]
    }
   ],
   "source": [
    "%%time\n",
    "\n",
    "load_data_to_bq_table(\n",
    "    uri=remote_gs_file_json,\n",
    "    bq_project='reddit-employee-datasets',\n",
    "    bq_dataset='david_bermejo',\n",
    "    bq_table_name='pn_model_output_20230510',\n",
    "    schema=pn_model_schema(),\n",
    "    partition_column='pt',\n",
    "    table_description=(\n",
    "        \"Cache model output with the users from a country that are most likely to click on a PN from a target subreddit\"\n",
    "    ),\n",
    "    update_table_description=True,\n",
    ")"
   ]
  },
  {
   "cell_type": "code",
   "execution_count": null,
   "id": "4b89ab66",
   "metadata": {},
   "outputs": [],
   "source": []
  },
  {
   "cell_type": "code",
   "execution_count": null,
   "id": "da6299e6",
   "metadata": {},
   "outputs": [],
   "source": []
  },
  {
   "cell_type": "markdown",
   "id": "01718706",
   "metadata": {},
   "source": [
    "# Appendix / EDA\n"
   ]
  },
  {
   "cell_type": "code",
   "execution_count": null,
   "id": "d06be459",
   "metadata": {},
   "outputs": [],
   "source": []
  },
  {
   "cell_type": "code",
   "execution_count": null,
   "id": "8dc02128",
   "metadata": {},
   "outputs": [],
   "source": []
  },
  {
   "cell_type": "code",
   "execution_count": null,
   "id": "c6d67316",
   "metadata": {},
   "outputs": [],
   "source": [
    "LEGACY"
   ]
  },
  {
   "cell_type": "markdown",
   "id": "59b6f4bb",
   "metadata": {},
   "source": [
    "### Test speed in pandas v. polars"
   ]
  },
  {
   "cell_type": "code",
   "execution_count": 96,
   "id": "18c2c626",
   "metadata": {},
   "outputs": [
    {
     "name": "stdout",
     "output_type": "stream",
     "text": [
      "CPU times: user 1min 1s, sys: 4.9 s, total: 1min 5s\n",
      "Wall time: 1min 5s\n"
     ]
    }
   ],
   "source": [
    "%%time\n",
    "\n",
    "df_pred_sample = df_pred.sample(n=20987000, random_state=42)"
   ]
  },
  {
   "cell_type": "markdown",
   "id": "754a1d1b",
   "metadata": {},
   "source": [
    "### Ranking\n",
    "\n",
    "\n",
    "Speed benchmarks\n",
    "```bash\n",
    "# Rank\n",
    "## polars (only slightly faster, but it's because it has to conver the pandas df to polars DF first)\n",
    "CPU times: user 36.6 s, sys: 6.26 s, total: 42.8 s\n",
    "Wall time: 15.9 s\n",
    "(20987000, 7)\n",
    "\n",
    "## pandas\n",
    "CPU times: user 16.5 s, sys: 719 ms, total: 17.2 s\n",
    "Wall time: 17.2 s\n",
    "(20987000, 7)\n",
    "\n",
    "\n",
    "# Sort\n",
    "## Polars (10x faster!)\n",
    "CPU times: user 2min 2s, sys: 3.26 s, total: 2min 5s\n",
    "Wall time: 2.04 s\n",
    "\n",
    "## pandas\n",
    "CPU times: user 23.7 s, sys: 2.99 s, total: 26.7 s\n",
    "Wall time: 26.7 s\n",
    "```"
   ]
  },
  {
   "cell_type": "code",
   "execution_count": 100,
   "id": "1d76983d",
   "metadata": {},
   "outputs": [
    {
     "name": "stdout",
     "output_type": "stream",
     "text": [
      "CPU times: user 36.6 s, sys: 6.26 s, total: 42.8 s\n",
      "Wall time: 15.9 s\n"
     ]
    },
    {
     "data": {
      "text/plain": [
       "(20987000, 7)"
      ]
     },
     "execution_count": 100,
     "metadata": {},
     "output_type": "execute_result"
    }
   ],
   "source": [
    "%%time\n",
    "\n",
    "# for the cache we only keep the top ~500k per subreddit+country\n",
    "# create new column for ranking so that it's easier to filter down the road\n",
    "# Test rank with polars\n",
    "\n",
    "\n",
    "df_pred_sample_pl = (\n",
    "    pl.DataFrame(df_pred_sample)\n",
    "    .with_columns(\n",
    "        pl.col(c_pred_proba)\n",
    "        .rank(method='dense', descending=True)\n",
    "        .over(l_ix_cache)\n",
    "        .alias(c_user_rank)\n",
    "    )\n",
    "\n",
    ")\n",
    "df_pred_sample_pl.shape"
   ]
  },
  {
   "cell_type": "code",
   "execution_count": 101,
   "id": "95aec7fa",
   "metadata": {},
   "outputs": [
    {
     "data": {
      "text/html": [
       "<div><style>\n",
       ".dataframe > thead > tr > th,\n",
       ".dataframe > tbody > tr > td {\n",
       "  text-align: right;\n",
       "}\n",
       "</style>\n",
       "<small>shape: (5, 7)</small><table border=\"1\" class=\"dataframe\"><thead><tr><th>target_subreddit</th><th>target_subreddit_id</th><th>subscribed</th><th>user_geo_country_code_top</th><th>user_id</th><th>click_proba</th><th>user_rank_by_sub_and_geo</th></tr><tr><td>str</td><td>str</td><td>i64</td><td>str</td><td>str</td><td>f32</td><td>u32</td></tr></thead><tbody><tr><td>&quot;okmatewanker&quot;</td><td>&quot;t5_2v1zrq&quot;</td><td>0</td><td>&quot;GB&quot;</td><td>&quot;t2_9zp38ac7f&quot;</td><td>0.113392</td><td>820</td></tr><tr><td>&quot;catadvice&quot;</td><td>&quot;t5_2sn56&quot;</td><td>0</td><td>&quot;GB&quot;</td><td>&quot;t2_892xhrl0q&quot;</td><td>0.174089</td><td>277</td></tr><tr><td>&quot;denver&quot;</td><td>&quot;t5_2qn3i&quot;</td><td>1</td><td>&quot;US&quot;</td><td>&quot;t2_hmyowarc&quot;</td><td>0.037492</td><td>1755</td></tr><tr><td>&quot;mildlyinfuriat…</td><td>&quot;t5_2ubgg&quot;</td><td>0</td><td>&quot;AU&quot;</td><td>&quot;t2_3h70puy0&quot;</td><td>0.055622</td><td>5308</td></tr><tr><td>&quot;memes&quot;</td><td>&quot;t5_2qjpg&quot;</td><td>0</td><td>&quot;US&quot;</td><td>&quot;t2_qzs576tm&quot;</td><td>0.052112</td><td>24706</td></tr></tbody></table></div>"
      ],
      "text/plain": [
       "shape: (5, 7)\n",
       "┌────────────┬────────────┬────────────┬───────────────┬──────────────┬─────────────┬──────────────┐\n",
       "│ target_sub ┆ target_sub ┆ subscribed ┆ user_geo_coun ┆ user_id      ┆ click_proba ┆ user_rank_by │\n",
       "│ reddit     ┆ reddit_id  ┆ ---        ┆ try_code_top  ┆ ---          ┆ ---         ┆ _sub_and_geo │\n",
       "│ ---        ┆ ---        ┆ i64        ┆ ---           ┆ str          ┆ f32         ┆ ---          │\n",
       "│ str        ┆ str        ┆            ┆ str           ┆              ┆             ┆ u32          │\n",
       "╞════════════╪════════════╪════════════╪═══════════════╪══════════════╪═════════════╪══════════════╡\n",
       "│ okmatewank ┆ t5_2v1zrq  ┆ 0          ┆ GB            ┆ t2_9zp38ac7f ┆ 0.113392    ┆ 820          │\n",
       "│ er         ┆            ┆            ┆               ┆              ┆             ┆              │\n",
       "│ catadvice  ┆ t5_2sn56   ┆ 0          ┆ GB            ┆ t2_892xhrl0q ┆ 0.174089    ┆ 277          │\n",
       "│ denver     ┆ t5_2qn3i   ┆ 1          ┆ US            ┆ t2_hmyowarc  ┆ 0.037492    ┆ 1755         │\n",
       "│ mildlyinfu ┆ t5_2ubgg   ┆ 0          ┆ AU            ┆ t2_3h70puy0  ┆ 0.055622    ┆ 5308         │\n",
       "│ riating    ┆            ┆            ┆               ┆              ┆             ┆              │\n",
       "│ memes      ┆ t5_2qjpg   ┆ 0          ┆ US            ┆ t2_qzs576tm  ┆ 0.052112    ┆ 24706        │\n",
       "└────────────┴────────────┴────────────┴───────────────┴──────────────┴─────────────┴──────────────┘"
      ]
     },
     "execution_count": 101,
     "metadata": {},
     "output_type": "execute_result"
    }
   ],
   "source": [
    "df_pred_sample_pl.head()"
   ]
  },
  {
   "cell_type": "code",
   "execution_count": 105,
   "id": "041c6250",
   "metadata": {},
   "outputs": [
    {
     "name": "stdout",
     "output_type": "stream",
     "text": [
      "CPU times: user 16.5 s, sys: 719 ms, total: 17.2 s\n",
      "Wall time: 17.2 s\n"
     ]
    },
    {
     "data": {
      "text/plain": [
       "(20987000, 7)"
      ]
     },
     "execution_count": 105,
     "metadata": {},
     "output_type": "execute_result"
    }
   ],
   "source": [
    "%%time\n",
    "\n",
    "# for the cache we only keep the top ~500k per subreddit+country\n",
    "# create new column for ranking so that it's easier to filter down the road\n",
    "# Test rank with pandas\n",
    "\n",
    "df_pred_sample[c_user_rank] = (\n",
    "    df_pred_sample\n",
    "    .groupby(l_ix_cache)\n",
    "    [c_pred_proba]\n",
    "    .rank(method='dense', ascending=False)\n",
    "    .astype(int)\n",
    ")\n",
    "df_pred_sample.shape"
   ]
  },
  {
   "cell_type": "markdown",
   "id": "fe1a2458",
   "metadata": {},
   "source": [
    "### Sorting"
   ]
  },
  {
   "cell_type": "code",
   "execution_count": 106,
   "id": "ecb036bf",
   "metadata": {},
   "outputs": [
    {
     "name": "stdout",
     "output_type": "stream",
     "text": [
      "CPU times: user 23.7 s, sys: 2.99 s, total: 26.7 s\n",
      "Wall time: 26.7 s\n"
     ]
    }
   ],
   "source": [
    "%%time\n",
    "# Sort the df so that the final file is in the right order\n",
    "df_pred_sample = (\n",
    "    df_pred_sample.sort_values(by=l_ix_cache + [c_user_rank], ascending=True)\n",
    ")\n"
   ]
  },
  {
   "cell_type": "code",
   "execution_count": 110,
   "id": "096a7572",
   "metadata": {},
   "outputs": [
    {
     "name": "stdout",
     "output_type": "stream",
     "text": [
      "CPU times: user 2min 3s, sys: 2.76 s, total: 2min 6s\n",
      "Wall time: 1.99 s\n"
     ]
    }
   ],
   "source": [
    "%%time\n",
    "# Sort the df so that the final file is in the right order\n",
    "df_pred_sample_pl = (\n",
    "    df_pred_sample_pl.sort(by=l_ix_cache + [c_user_rank], descending=False)\n",
    ")"
   ]
  },
  {
   "cell_type": "code",
   "execution_count": 111,
   "id": "a688cd19",
   "metadata": {},
   "outputs": [
    {
     "data": {
      "text/html": [
       "<div><style>\n",
       ".dataframe > thead > tr > th,\n",
       ".dataframe > tbody > tr > td {\n",
       "  text-align: right;\n",
       "}\n",
       "</style>\n",
       "<small>shape: (5, 7)</small><table border=\"1\" class=\"dataframe\"><thead><tr><th>target_subreddit</th><th>target_subreddit_id</th><th>subscribed</th><th>user_geo_country_code_top</th><th>user_id</th><th>click_proba</th><th>user_rank_by_sub_and_geo</th></tr><tr><td>str</td><td>str</td><td>i64</td><td>str</td><td>str</td><td>f32</td><td>u32</td></tr></thead><tbody><tr><td>&quot;197&quot;</td><td>&quot;t5_3enhu&quot;</td><td>0</td><td>&quot;AR&quot;</td><td>&quot;t2_12yxa2&quot;</td><td>0.794768</td><td>1</td></tr><tr><td>&quot;197&quot;</td><td>&quot;t5_3enhu&quot;</td><td>0</td><td>&quot;AR&quot;</td><td>&quot;t2_7d8owdn5&quot;</td><td>0.522817</td><td>2</td></tr><tr><td>&quot;197&quot;</td><td>&quot;t5_3enhu&quot;</td><td>0</td><td>&quot;AR&quot;</td><td>&quot;t2_6h7f9rog&quot;</td><td>0.435153</td><td>3</td></tr><tr><td>&quot;197&quot;</td><td>&quot;t5_3enhu&quot;</td><td>0</td><td>&quot;AR&quot;</td><td>&quot;t2_5c4zm26h&quot;</td><td>0.241061</td><td>4</td></tr><tr><td>&quot;197&quot;</td><td>&quot;t5_3enhu&quot;</td><td>0</td><td>&quot;AR&quot;</td><td>&quot;t2_db62ugqx&quot;</td><td>0.225995</td><td>5</td></tr></tbody></table></div>"
      ],
      "text/plain": [
       "shape: (5, 7)\n",
       "┌────────────┬──────────────┬────────────┬──────────────┬─────────────┬─────────────┬──────────────┐\n",
       "│ target_sub ┆ target_subre ┆ subscribed ┆ user_geo_cou ┆ user_id     ┆ click_proba ┆ user_rank_by │\n",
       "│ reddit     ┆ ddit_id      ┆ ---        ┆ ntry_code_to ┆ ---         ┆ ---         ┆ _sub_and_geo │\n",
       "│ ---        ┆ ---          ┆ i64        ┆ p            ┆ str         ┆ f32         ┆ ---          │\n",
       "│ str        ┆ str          ┆            ┆ ---          ┆             ┆             ┆ u32          │\n",
       "│            ┆              ┆            ┆ str          ┆             ┆             ┆              │\n",
       "╞════════════╪══════════════╪════════════╪══════════════╪═════════════╪═════════════╪══════════════╡\n",
       "│ 197        ┆ t5_3enhu     ┆ 0          ┆ AR           ┆ t2_12yxa2   ┆ 0.794768    ┆ 1            │\n",
       "│ 197        ┆ t5_3enhu     ┆ 0          ┆ AR           ┆ t2_7d8owdn5 ┆ 0.522817    ┆ 2            │\n",
       "│ 197        ┆ t5_3enhu     ┆ 0          ┆ AR           ┆ t2_6h7f9rog ┆ 0.435153    ┆ 3            │\n",
       "│ 197        ┆ t5_3enhu     ┆ 0          ┆ AR           ┆ t2_5c4zm26h ┆ 0.241061    ┆ 4            │\n",
       "│ 197        ┆ t5_3enhu     ┆ 0          ┆ AR           ┆ t2_db62ugqx ┆ 0.225995    ┆ 5            │\n",
       "└────────────┴──────────────┴────────────┴──────────────┴─────────────┴─────────────┴──────────────┘"
      ]
     },
     "execution_count": 111,
     "metadata": {},
     "output_type": "execute_result"
    }
   ],
   "source": [
    "df_pred_sample_pl.head()"
   ]
  },
  {
   "cell_type": "markdown",
   "id": "1e728502",
   "metadata": {},
   "source": [
    "\n",
    "## TODO - check filtering logic\n",
    "Check whether the filtering logic I had in mind makes sense instead of scoring ALL the users...?\n",
    "\n",
    "But maybe scoring all the users is fast/cheap enough that it's fine to score a few million users to get the top 500k per country?\n",
    "\n",
    "---\n",
    "\n",
    "Cuts to check for proba for ALL users\n",
    "- by subscribe v. not subscribe\n",
    "- by country (all)\n",
    "- by legacy cohort\n",
    "- by subreddit + \n",
    "    - country\n",
    "    - cohort\n",
    "    - by subscribe\n",
    "\n",
    "Cuts to check for proba for only top 500k users per country (the ones that will be cached).\n",
    "<br>Note that some countries won't have that many users per subreddit because not enough people visit them"
   ]
  },
  {
   "cell_type": "markdown",
   "id": "8ee7c0c1",
   "metadata": {},
   "source": [
    "## Project how many users per sub+country with some thresholds\n",
    "This is helpful to know how many we'll have in the final cache table before writing to it"
   ]
  },
  {
   "cell_type": "code",
   "execution_count": 107,
   "id": "f38b54d0",
   "metadata": {},
   "outputs": [
    {
     "name": "stdout",
     "output_type": "stream",
     "text": [
      "11,849,601 Users above 0.100\n",
      "10,763,902 Users above 0.150\n",
      "9,807,071 Users above 0.200\n",
      "8,753,948 Users above 0.250\n",
      "8,383,463 Users below 500k rank\n",
      "CPU times: user 136 ms, sys: 3.79 ms, total: 140 ms\n",
      "Wall time: 138 ms\n"
     ]
    }
   ],
   "source": [
    "%%time\n",
    "\n",
    "mask_pred_above_0250 = (df_pred[c_pred_proba] >= 0.250)\n",
    "mask_pred_above_0200 = (df_pred[c_pred_proba] >= 0.200)\n",
    "mask_pred_above_0150 = (df_pred[c_pred_proba] >= 0.150)\n",
    "mask_pred_above_0100 = (df_pred[c_pred_proba] >= 0.100)\n",
    "\n",
    "mask_rank_below_500k = (df_pred[c_user_rank] <= 500000)\n",
    "\n",
    "print(f\"{mask_pred_above_0100.sum():,.0f} Users above 0.100\")\n",
    "print(f\"{mask_pred_above_0150.sum():,.0f} Users above 0.150\")\n",
    "print(f\"{mask_pred_above_0200.sum():,.0f} Users above 0.200\")\n",
    "print(f\"{mask_pred_above_0250.sum():,.0f} Users above 0.250\")\n",
    "\n",
    "print(f\"{mask_rank_below_500k.sum():,.0f} Users below 500k rank\")"
   ]
  },
  {
   "cell_type": "code",
   "execution_count": 110,
   "id": "27f51d31",
   "metadata": {},
   "outputs": [
    {
     "data": {
      "text/html": [
       "<style  type=\"text/css\" >\n",
       "#T_2aece_row0_col1,#T_2aece_row0_col9{\n",
       "            width:  10em;\n",
       "             height:  80%;\n",
       "            background:  linear-gradient(90deg,#95cff5 100.0%, transparent 100.0%);\n",
       "        }</style><table id=\"T_2aece_\" ><caption>All users</caption><thead>    <tr>        <th class=\"blank level0\" ></th>        <th class=\"col_heading level0 col0\" >count</th>        <th class=\"col_heading level0 col1\" >mean</th>        <th class=\"col_heading level0 col2\" >std</th>        <th class=\"col_heading level0 col3\" >min</th>        <th class=\"col_heading level0 col4\" >10%</th>        <th class=\"col_heading level0 col5\" >20%</th>        <th class=\"col_heading level0 col6\" >25%</th>        <th class=\"col_heading level0 col7\" >30%</th>        <th class=\"col_heading level0 col8\" >40%</th>        <th class=\"col_heading level0 col9\" >50%</th>        <th class=\"col_heading level0 col10\" >60%</th>        <th class=\"col_heading level0 col11\" >70%</th>        <th class=\"col_heading level0 col12\" >75%</th>        <th class=\"col_heading level0 col13\" >80%</th>        <th class=\"col_heading level0 col14\" >90%</th>        <th class=\"col_heading level0 col15\" >95%</th>        <th class=\"col_heading level0 col16\" >99%</th>        <th class=\"col_heading level0 col17\" >max</th>    </tr></thead><tbody>\n",
       "                <tr>\n",
       "                        <th id=\"T_2aece_level0_row0\" class=\"row_heading level0 row0\" >click_proba</th>\n",
       "                        <td id=\"T_2aece_row0_col0\" class=\"data row0 col0\" >17,486,678</td>\n",
       "                        <td id=\"T_2aece_row0_col1\" class=\"data row0 col1\" >0.2807</td>\n",
       "                        <td id=\"T_2aece_row0_col2\" class=\"data row0 col2\" >0.2276</td>\n",
       "                        <td id=\"T_2aece_row0_col3\" class=\"data row0 col3\" >0.0000</td>\n",
       "                        <td id=\"T_2aece_row0_col4\" class=\"data row0 col4\" >0.0242</td>\n",
       "                        <td id=\"T_2aece_row0_col5\" class=\"data row0 col5\" >0.0468</td>\n",
       "                        <td id=\"T_2aece_row0_col6\" class=\"data row0 col6\" >0.0617</td>\n",
       "                        <td id=\"T_2aece_row0_col7\" class=\"data row0 col7\" >0.0857</td>\n",
       "                        <td id=\"T_2aece_row0_col8\" class=\"data row0 col8\" >0.1639</td>\n",
       "                        <td id=\"T_2aece_row0_col9\" class=\"data row0 col9\" >0.2505</td>\n",
       "                        <td id=\"T_2aece_row0_col10\" class=\"data row0 col10\" >0.3294</td>\n",
       "                        <td id=\"T_2aece_row0_col11\" class=\"data row0 col11\" >0.4030</td>\n",
       "                        <td id=\"T_2aece_row0_col12\" class=\"data row0 col12\" >0.4454</td>\n",
       "                        <td id=\"T_2aece_row0_col13\" class=\"data row0 col13\" >0.4906</td>\n",
       "                        <td id=\"T_2aece_row0_col14\" class=\"data row0 col14\" >0.6011</td>\n",
       "                        <td id=\"T_2aece_row0_col15\" class=\"data row0 col15\" >0.6797</td>\n",
       "                        <td id=\"T_2aece_row0_col16\" class=\"data row0 col16\" >0.8826</td>\n",
       "                        <td id=\"T_2aece_row0_col17\" class=\"data row0 col17\" >0.9975</td>\n",
       "            </tr>\n",
       "    </tbody></table>"
      ],
      "text/plain": [
       "<pandas.io.formats.style.Styler at 0x7ef242799c90>"
      ]
     },
     "metadata": {},
     "output_type": "display_data"
    },
    {
     "data": {
      "text/html": [
       "<style  type=\"text/css\" >\n",
       "#T_55efe_row0_col1,#T_55efe_row0_col9{\n",
       "            width:  10em;\n",
       "             height:  80%;\n",
       "            background:  linear-gradient(90deg,#95cff5 100.0%, transparent 100.0%);\n",
       "        }</style><table id=\"T_55efe_\" ><caption>Users below 500k rank</caption><thead>    <tr>        <th class=\"blank level0\" ></th>        <th class=\"col_heading level0 col0\" >count</th>        <th class=\"col_heading level0 col1\" >mean</th>        <th class=\"col_heading level0 col2\" >std</th>        <th class=\"col_heading level0 col3\" >min</th>        <th class=\"col_heading level0 col4\" >10%</th>        <th class=\"col_heading level0 col5\" >20%</th>        <th class=\"col_heading level0 col6\" >25%</th>        <th class=\"col_heading level0 col7\" >30%</th>        <th class=\"col_heading level0 col8\" >40%</th>        <th class=\"col_heading level0 col9\" >50%</th>        <th class=\"col_heading level0 col10\" >60%</th>        <th class=\"col_heading level0 col11\" >70%</th>        <th class=\"col_heading level0 col12\" >75%</th>        <th class=\"col_heading level0 col13\" >80%</th>        <th class=\"col_heading level0 col14\" >90%</th>        <th class=\"col_heading level0 col15\" >95%</th>        <th class=\"col_heading level0 col16\" >99%</th>        <th class=\"col_heading level0 col17\" >max</th>    </tr></thead><tbody>\n",
       "                <tr>\n",
       "                        <th id=\"T_55efe_level0_row0\" class=\"row_heading level0 row0\" >click_proba</th>\n",
       "                        <td id=\"T_55efe_row0_col0\" class=\"data row0 col0\" >8,383,463</td>\n",
       "                        <td id=\"T_55efe_row0_col1\" class=\"data row0 col1\" >0.4011</td>\n",
       "                        <td id=\"T_55efe_row0_col2\" class=\"data row0 col2\" >0.2365</td>\n",
       "                        <td id=\"T_55efe_row0_col3\" class=\"data row0 col3\" >0.0000</td>\n",
       "                        <td id=\"T_55efe_row0_col4\" class=\"data row0 col4\" >0.0468</td>\n",
       "                        <td id=\"T_55efe_row0_col5\" class=\"data row0 col5\" >0.1391</td>\n",
       "                        <td id=\"T_55efe_row0_col6\" class=\"data row0 col6\" >0.2162</td>\n",
       "                        <td id=\"T_55efe_row0_col7\" class=\"data row0 col7\" >0.2828</td>\n",
       "                        <td id=\"T_55efe_row0_col8\" class=\"data row0 col8\" >0.3612</td>\n",
       "                        <td id=\"T_55efe_row0_col9\" class=\"data row0 col9\" >0.4107</td>\n",
       "                        <td id=\"T_55efe_row0_col10\" class=\"data row0 col10\" >0.4774</td>\n",
       "                        <td id=\"T_55efe_row0_col11\" class=\"data row0 col11\" >0.5486</td>\n",
       "                        <td id=\"T_55efe_row0_col12\" class=\"data row0 col12\" >0.5767</td>\n",
       "                        <td id=\"T_55efe_row0_col13\" class=\"data row0 col13\" >0.6063</td>\n",
       "                        <td id=\"T_55efe_row0_col14\" class=\"data row0 col14\" >0.6852</td>\n",
       "                        <td id=\"T_55efe_row0_col15\" class=\"data row0 col15\" >0.7950</td>\n",
       "                        <td id=\"T_55efe_row0_col16\" class=\"data row0 col16\" >0.9240</td>\n",
       "                        <td id=\"T_55efe_row0_col17\" class=\"data row0 col17\" >0.9975</td>\n",
       "            </tr>\n",
       "    </tbody></table>"
      ],
      "text/plain": [
       "<pandas.io.formats.style.Styler at 0x7ef2427829d0>"
      ]
     },
     "metadata": {},
     "output_type": "display_data"
    },
    {
     "data": {
      "text/html": [
       "<style  type=\"text/css\" >\n",
       "#T_e7b44_row0_col1,#T_e7b44_row0_col9{\n",
       "            width:  10em;\n",
       "             height:  80%;\n",
       "            background:  linear-gradient(90deg,#95cff5 100.0%, transparent 100.0%);\n",
       "        }</style><table id=\"T_e7b44_\" ><caption>Users below 500k rank AND above 0.100 Threshold</caption><thead>    <tr>        <th class=\"blank level0\" ></th>        <th class=\"col_heading level0 col0\" >count</th>        <th class=\"col_heading level0 col1\" >mean</th>        <th class=\"col_heading level0 col2\" >std</th>        <th class=\"col_heading level0 col3\" >min</th>        <th class=\"col_heading level0 col4\" >10%</th>        <th class=\"col_heading level0 col5\" >20%</th>        <th class=\"col_heading level0 col6\" >25%</th>        <th class=\"col_heading level0 col7\" >30%</th>        <th class=\"col_heading level0 col8\" >40%</th>        <th class=\"col_heading level0 col9\" >50%</th>        <th class=\"col_heading level0 col10\" >60%</th>        <th class=\"col_heading level0 col11\" >70%</th>        <th class=\"col_heading level0 col12\" >75%</th>        <th class=\"col_heading level0 col13\" >80%</th>        <th class=\"col_heading level0 col14\" >90%</th>        <th class=\"col_heading level0 col15\" >95%</th>        <th class=\"col_heading level0 col16\" >99%</th>        <th class=\"col_heading level0 col17\" >max</th>    </tr></thead><tbody>\n",
       "                <tr>\n",
       "                        <th id=\"T_e7b44_level0_row0\" class=\"row_heading level0 row0\" >click_proba</th>\n",
       "                        <td id=\"T_e7b44_row0_col0\" class=\"data row0 col0\" >6,938,439</td>\n",
       "                        <td id=\"T_e7b44_row0_col1\" class=\"data row0 col1\" >0.4755</td>\n",
       "                        <td id=\"T_e7b44_row0_col2\" class=\"data row0 col2\" >0.1880</td>\n",
       "                        <td id=\"T_e7b44_row0_col3\" class=\"data row0 col3\" >0.1000</td>\n",
       "                        <td id=\"T_e7b44_row0_col4\" class=\"data row0 col4\" >0.2238</td>\n",
       "                        <td id=\"T_e7b44_row0_col5\" class=\"data row0 col5\" >0.3203</td>\n",
       "                        <td id=\"T_e7b44_row0_col6\" class=\"data row0 col6\" >0.3488</td>\n",
       "                        <td id=\"T_e7b44_row0_col7\" class=\"data row0 col7\" >0.3649</td>\n",
       "                        <td id=\"T_e7b44_row0_col8\" class=\"data row0 col8\" >0.4131</td>\n",
       "                        <td id=\"T_e7b44_row0_col9\" class=\"data row0 col9\" >0.4664</td>\n",
       "                        <td id=\"T_e7b44_row0_col10\" class=\"data row0 col10\" >0.5268</td>\n",
       "                        <td id=\"T_e7b44_row0_col11\" class=\"data row0 col11\" >0.5777</td>\n",
       "                        <td id=\"T_e7b44_row0_col12\" class=\"data row0 col12\" >0.6021</td>\n",
       "                        <td id=\"T_e7b44_row0_col13\" class=\"data row0 col13\" >0.6276</td>\n",
       "                        <td id=\"T_e7b44_row0_col14\" class=\"data row0 col14\" >0.7133</td>\n",
       "                        <td id=\"T_e7b44_row0_col15\" class=\"data row0 col15\" >0.8192</td>\n",
       "                        <td id=\"T_e7b44_row0_col16\" class=\"data row0 col16\" >0.9316</td>\n",
       "                        <td id=\"T_e7b44_row0_col17\" class=\"data row0 col17\" >0.9975</td>\n",
       "            </tr>\n",
       "    </tbody></table>"
      ],
      "text/plain": [
       "<pandas.io.formats.style.Styler at 0x7ef2427e3ed0>"
      ]
     },
     "metadata": {},
     "output_type": "display_data"
    }
   ],
   "source": [
    "display(\n",
    "    style_df_numeric(\n",
    "        df_pred[c_pred_proba]\n",
    "        .describe(percentiles=[0.1, 0.2, 0.25, 0.3, 0.4, 0.5, 0.6, 0.7, 0.75, 0.8, 0.9, 0.95, 0.99]).to_frame().T,\n",
    "        float_round=4,\n",
    "        l_bar_simple=['mean', '50%'],\n",
    "    ).set_caption(f\"All users\")\n",
    ")\n",
    "\n",
    "display(\n",
    "    style_df_numeric(\n",
    "        df_pred\n",
    "        [mask_rank_below_500k]\n",
    "        [c_pred_proba]\n",
    "        .describe(percentiles=[0.1, 0.2, 0.25, 0.3, 0.4, 0.5, 0.6, 0.7, 0.75, 0.8, 0.9, 0.95, 0.99]).to_frame().T,\n",
    "        float_round=4,\n",
    "        l_bar_simple=['mean', '50%']\n",
    "    ).set_caption(f\"Users below 500k rank\")\n",
    ")\n",
    "\n",
    "display(\n",
    "    style_df_numeric(\n",
    "        df_pred\n",
    "        [mask_pred_above_0100 & mask_rank_below_500k]\n",
    "        [c_pred_proba]\n",
    "        .describe(percentiles=[0.1, 0.2, 0.25, 0.3, 0.4, 0.5, 0.6, 0.7, 0.75, 0.8, 0.9, 0.95, 0.99]).to_frame().T,\n",
    "        float_round=4,\n",
    "        l_bar_simple=['mean', '50%']\n",
    "    ).set_caption(f\"Users below 500k rank AND above 0.100 Threshold\")\n",
    ")"
   ]
  },
  {
   "cell_type": "code",
   "execution_count": 116,
   "id": "49742b63",
   "metadata": {},
   "outputs": [
    {
     "data": {
      "text/html": [
       "<style  type=\"text/css\" >\n",
       "#T_7b415_row0_col1{\n",
       "            width:  10em;\n",
       "             height:  80%;\n",
       "            background:  linear-gradient(90deg,#95cff5 96.1%, transparent 96.1%);\n",
       "        }#T_7b415_row0_col5{\n",
       "            width:  10em;\n",
       "             height:  80%;\n",
       "            background:  linear-gradient(90deg,#95cff5 94.5%, transparent 94.5%);\n",
       "        }#T_7b415_row1_col1{\n",
       "            width:  10em;\n",
       "             height:  80%;\n",
       "            background:  linear-gradient(90deg,#95cff5 90.2%, transparent 90.2%);\n",
       "        }#T_7b415_row1_col5{\n",
       "            width:  10em;\n",
       "             height:  80%;\n",
       "            background:  linear-gradient(90deg,#95cff5 89.4%, transparent 89.4%);\n",
       "        }#T_7b415_row2_col1,#T_7b415_row2_col5{\n",
       "            width:  10em;\n",
       "             height:  80%;\n",
       "            background:  linear-gradient(90deg,#95cff5 100.0%, transparent 100.0%);\n",
       "        }</style><table id=\"T_7b415_\" ><caption>All users</caption><thead>    <tr>        <th class=\"blank level0\" ></th>        <th class=\"col_heading level0 col0\" >count</th>        <th class=\"col_heading level0 col1\" >mean</th>        <th class=\"col_heading level0 col2\" >std</th>        <th class=\"col_heading level0 col3\" >min</th>        <th class=\"col_heading level0 col4\" >25%</th>        <th class=\"col_heading level0 col5\" >50%</th>        <th class=\"col_heading level0 col6\" >75%</th>        <th class=\"col_heading level0 col7\" >max</th>    </tr>    <tr>        <th class=\"index_name level0\" >target_subreddit</th>        <th class=\"blank\" ></th>        <th class=\"blank\" ></th>        <th class=\"blank\" ></th>        <th class=\"blank\" ></th>        <th class=\"blank\" ></th>        <th class=\"blank\" ></th>        <th class=\"blank\" ></th>        <th class=\"blank\" ></th>    </tr></thead><tbody>\n",
       "                <tr>\n",
       "                        <th id=\"T_7b415_level0_row0\" class=\"row_heading level0 row0\" >de</th>\n",
       "                        <td id=\"T_7b415_row0_col0\" class=\"data row0 col0\" >7,275,629</td>\n",
       "                        <td id=\"T_7b415_row0_col1\" class=\"data row0 col1\" >0.2777</td>\n",
       "                        <td id=\"T_7b415_row0_col2\" class=\"data row0 col2\" >0.2277</td>\n",
       "                        <td id=\"T_7b415_row0_col3\" class=\"data row0 col3\" >0.0000</td>\n",
       "                        <td id=\"T_7b415_row0_col4\" class=\"data row0 col4\" >0.0588</td>\n",
       "                        <td id=\"T_7b415_row0_col5\" class=\"data row0 col5\" >0.2464</td>\n",
       "                        <td id=\"T_7b415_row0_col6\" class=\"data row0 col6\" >0.4417</td>\n",
       "                        <td id=\"T_7b415_row0_col7\" class=\"data row0 col7\" >0.9975</td>\n",
       "            </tr>\n",
       "            <tr>\n",
       "                        <th id=\"T_7b415_level0_row1\" class=\"row_heading level0 row1\" >fragreddit</th>\n",
       "                        <td id=\"T_7b415_row1_col0\" class=\"data row1 col0\" >2,220,353</td>\n",
       "                        <td id=\"T_7b415_row1_col1\" class=\"data row1 col1\" >0.2607</td>\n",
       "                        <td id=\"T_7b415_row1_col2\" class=\"data row1 col2\" >0.2186</td>\n",
       "                        <td id=\"T_7b415_row1_col3\" class=\"data row1 col3\" >0.0000</td>\n",
       "                        <td id=\"T_7b415_row1_col4\" class=\"data row1 col4\" >0.0560</td>\n",
       "                        <td id=\"T_7b415_row1_col5\" class=\"data row1 col5\" >0.2329</td>\n",
       "                        <td id=\"T_7b415_row1_col6\" class=\"data row1 col6\" >0.4045</td>\n",
       "                        <td id=\"T_7b415_row1_col7\" class=\"data row1 col7\" >0.9970</td>\n",
       "            </tr>\n",
       "            <tr>\n",
       "                        <th id=\"T_7b415_level0_row2\" class=\"row_heading level0 row2\" >ich_iel</th>\n",
       "                        <td id=\"T_7b415_row2_col0\" class=\"data row2 col0\" >7,990,696</td>\n",
       "                        <td id=\"T_7b415_row2_col1\" class=\"data row2 col1\" >0.2890</td>\n",
       "                        <td id=\"T_7b415_row2_col2\" class=\"data row2 col2\" >0.2295</td>\n",
       "                        <td id=\"T_7b415_row2_col3\" class=\"data row2 col3\" >0.0000</td>\n",
       "                        <td id=\"T_7b415_row2_col4\" class=\"data row2 col4\" >0.0662</td>\n",
       "                        <td id=\"T_7b415_row2_col5\" class=\"data row2 col5\" >0.2607</td>\n",
       "                        <td id=\"T_7b415_row2_col6\" class=\"data row2 col6\" >0.4609</td>\n",
       "                        <td id=\"T_7b415_row2_col7\" class=\"data row2 col7\" >0.9969</td>\n",
       "            </tr>\n",
       "    </tbody></table>"
      ],
      "text/plain": [
       "<pandas.io.formats.style.Styler at 0x7ef2427821d0>"
      ]
     },
     "metadata": {},
     "output_type": "display_data"
    },
    {
     "data": {
      "text/html": [
       "<style  type=\"text/css\" >\n",
       "#T_eeaef_row0_col1{\n",
       "            width:  10em;\n",
       "             height:  80%;\n",
       "            background:  linear-gradient(90deg,#95cff5 98.7%, transparent 98.7%);\n",
       "        }#T_eeaef_row0_col5{\n",
       "            width:  10em;\n",
       "             height:  80%;\n",
       "            background:  linear-gradient(90deg,#95cff5 98.9%, transparent 98.9%);\n",
       "        }#T_eeaef_row1_col1{\n",
       "            width:  10em;\n",
       "             height:  80%;\n",
       "            background:  linear-gradient(90deg,#95cff5 92.3%, transparent 92.3%);\n",
       "        }#T_eeaef_row1_col5{\n",
       "            width:  10em;\n",
       "             height:  80%;\n",
       "            background:  linear-gradient(90deg,#95cff5 85.9%, transparent 85.9%);\n",
       "        }#T_eeaef_row2_col1,#T_eeaef_row2_col5{\n",
       "            width:  10em;\n",
       "             height:  80%;\n",
       "            background:  linear-gradient(90deg,#95cff5 100.0%, transparent 100.0%);\n",
       "        }</style><table id=\"T_eeaef_\" ><caption>Users below 500k rank AND above 0.100 Threshold</caption><thead>    <tr>        <th class=\"blank level0\" ></th>        <th class=\"col_heading level0 col0\" >count</th>        <th class=\"col_heading level0 col1\" >mean</th>        <th class=\"col_heading level0 col2\" >std</th>        <th class=\"col_heading level0 col3\" >min</th>        <th class=\"col_heading level0 col4\" >25%</th>        <th class=\"col_heading level0 col5\" >50%</th>        <th class=\"col_heading level0 col6\" >75%</th>        <th class=\"col_heading level0 col7\" >max</th>    </tr>    <tr>        <th class=\"index_name level0\" >target_subreddit</th>        <th class=\"blank\" ></th>        <th class=\"blank\" ></th>        <th class=\"blank\" ></th>        <th class=\"blank\" ></th>        <th class=\"blank\" ></th>        <th class=\"blank\" ></th>        <th class=\"blank\" ></th>        <th class=\"blank\" ></th>    </tr></thead><tbody>\n",
       "                <tr>\n",
       "                        <th id=\"T_eeaef_level0_row0\" class=\"row_heading level0 row0\" >de</th>\n",
       "                        <td id=\"T_eeaef_row0_col0\" class=\"data row0 col0\" >2,881,638</td>\n",
       "                        <td id=\"T_eeaef_row0_col1\" class=\"data row0 col1\" >0.4775</td>\n",
       "                        <td id=\"T_eeaef_row0_col2\" class=\"data row0 col2\" >0.1871</td>\n",
       "                        <td id=\"T_eeaef_row0_col3\" class=\"data row0 col3\" >0.1000</td>\n",
       "                        <td id=\"T_eeaef_row0_col4\" class=\"data row0 col4\" >0.3542</td>\n",
       "                        <td id=\"T_eeaef_row0_col5\" class=\"data row0 col5\" >0.4786</td>\n",
       "                        <td id=\"T_eeaef_row0_col6\" class=\"data row0 col6\" >0.6013</td>\n",
       "                        <td id=\"T_eeaef_row0_col7\" class=\"data row0 col7\" >0.9975</td>\n",
       "            </tr>\n",
       "            <tr>\n",
       "                        <th id=\"T_eeaef_level0_row1\" class=\"row_heading level0 row1\" >fragreddit</th>\n",
       "                        <td id=\"T_eeaef_row1_col0\" class=\"data row1 col0\" >1,043,029</td>\n",
       "                        <td id=\"T_eeaef_row1_col1\" class=\"data row1 col1\" >0.4463</td>\n",
       "                        <td id=\"T_eeaef_row1_col2\" class=\"data row1 col2\" >0.1685</td>\n",
       "                        <td id=\"T_eeaef_row1_col3\" class=\"data row1 col3\" >0.1000</td>\n",
       "                        <td id=\"T_eeaef_row1_col4\" class=\"data row1 col4\" >0.3367</td>\n",
       "                        <td id=\"T_eeaef_row1_col5\" class=\"data row1 col5\" >0.4158</td>\n",
       "                        <td id=\"T_eeaef_row1_col6\" class=\"data row1 col6\" >0.5378</td>\n",
       "                        <td id=\"T_eeaef_row1_col7\" class=\"data row1 col7\" >0.9970</td>\n",
       "            </tr>\n",
       "            <tr>\n",
       "                        <th id=\"T_eeaef_level0_row2\" class=\"row_heading level0 row2\" >ich_iel</th>\n",
       "                        <td id=\"T_eeaef_row2_col0\" class=\"data row2 col0\" >3,013,772</td>\n",
       "                        <td id=\"T_eeaef_row2_col1\" class=\"data row2 col1\" >0.4837</td>\n",
       "                        <td id=\"T_eeaef_row2_col2\" class=\"data row2 col2\" >0.1941</td>\n",
       "                        <td id=\"T_eeaef_row2_col3\" class=\"data row2 col3\" >0.1000</td>\n",
       "                        <td id=\"T_eeaef_row2_col4\" class=\"data row2 col4\" >0.3500</td>\n",
       "                        <td id=\"T_eeaef_row2_col5\" class=\"data row2 col5\" >0.4839</td>\n",
       "                        <td id=\"T_eeaef_row2_col6\" class=\"data row2 col6\" >0.6158</td>\n",
       "                        <td id=\"T_eeaef_row2_col7\" class=\"data row2 col7\" >0.9969</td>\n",
       "            </tr>\n",
       "    </tbody></table>"
      ],
      "text/plain": [
       "<pandas.io.formats.style.Styler at 0x7ef24279ded0>"
      ]
     },
     "metadata": {},
     "output_type": "display_data"
    }
   ],
   "source": [
    "display(\n",
    "    style_df_numeric(\n",
    "        df_pred\n",
    "        .groupby(['target_subreddit'])\n",
    "        [c_pred_proba]\n",
    "        .describe(\n",
    "            # percentiles=[0.1, 0.2, 0.25, 0.3, 0.4, 0.5, 0.6, 0.7, 0.75, 0.8, 0.9, 0.95, 0.99]\n",
    "        ),\n",
    "        float_round=4,\n",
    "        l_bar_simple=['mean', '50%']\n",
    "    ).set_caption(f\"All users\")\n",
    ")\n",
    "\n",
    "display(\n",
    "    style_df_numeric(\n",
    "        df_pred\n",
    "        [mask_pred_above_0100 & mask_rank_below_500k]\n",
    "        .groupby(['target_subreddit'])\n",
    "        [c_pred_proba]\n",
    "        .describe(\n",
    "            # percentiles=[0.1, 0.2, 0.25, 0.3, 0.4, 0.5, 0.6, 0.7, 0.75, 0.8, 0.9, 0.95, 0.99]\n",
    "        ),\n",
    "        float_round=4,\n",
    "        l_bar_simple=['mean', '50%']\n",
    "    ).set_caption(f\"Users below 500k rank AND above 0.100 Threshold\")\n",
    ")"
   ]
  },
  {
   "cell_type": "code",
   "execution_count": 117,
   "id": "28afd9e7",
   "metadata": {},
   "outputs": [
    {
     "data": {
      "text/html": [
       "<style  type=\"text/css\" >\n",
       "#T_652a2_row0_col1{\n",
       "            width:  10em;\n",
       "             height:  80%;\n",
       "            background:  linear-gradient(90deg,#95cff5 98.8%, transparent 98.8%);\n",
       "        }#T_652a2_row0_col5,#T_652a2_row2_col1{\n",
       "            width:  10em;\n",
       "             height:  80%;\n",
       "            background:  linear-gradient(90deg,#95cff5 100.0%, transparent 100.0%);\n",
       "        }#T_652a2_row1_col1{\n",
       "            width:  10em;\n",
       "             height:  80%;\n",
       "            background:  linear-gradient(90deg,#95cff5 88.1%, transparent 88.1%);\n",
       "        }#T_652a2_row1_col5{\n",
       "            width:  10em;\n",
       "             height:  80%;\n",
       "            background:  linear-gradient(90deg,#95cff5 98.9%, transparent 98.9%);\n",
       "        }#T_652a2_row2_col5,#T_652a2_row6_col1{\n",
       "            width:  10em;\n",
       "             height:  80%;\n",
       "            background:  linear-gradient(90deg,#95cff5 98.7%, transparent 98.7%);\n",
       "        }#T_652a2_row3_col1{\n",
       "            width:  10em;\n",
       "             height:  80%;\n",
       "            background:  linear-gradient(90deg,#95cff5 97.8%, transparent 97.8%);\n",
       "        }#T_652a2_row3_col5{\n",
       "            width:  10em;\n",
       "             height:  80%;\n",
       "            background:  linear-gradient(90deg,#95cff5 97.5%, transparent 97.5%);\n",
       "        }#T_652a2_row4_col1{\n",
       "            width:  10em;\n",
       "             height:  80%;\n",
       "            background:  linear-gradient(90deg,#95cff5 98.1%, transparent 98.1%);\n",
       "        }#T_652a2_row4_col5{\n",
       "            width:  10em;\n",
       "             height:  80%;\n",
       "            background:  linear-gradient(90deg,#95cff5 95.4%, transparent 95.4%);\n",
       "        }#T_652a2_row5_col1{\n",
       "            width:  10em;\n",
       "             height:  80%;\n",
       "            background:  linear-gradient(90deg,#95cff5 98.5%, transparent 98.5%);\n",
       "        }#T_652a2_row5_col5{\n",
       "            width:  10em;\n",
       "             height:  80%;\n",
       "            background:  linear-gradient(90deg,#95cff5 94.3%, transparent 94.3%);\n",
       "        }#T_652a2_row6_col5{\n",
       "            width:  10em;\n",
       "             height:  80%;\n",
       "            background:  linear-gradient(90deg,#95cff5 91.8%, transparent 91.8%);\n",
       "        }#T_652a2_row7_col1{\n",
       "            width:  10em;\n",
       "             height:  80%;\n",
       "            background:  linear-gradient(90deg,#95cff5 97.3%, transparent 97.3%);\n",
       "        }#T_652a2_row7_col5{\n",
       "            width:  10em;\n",
       "             height:  80%;\n",
       "            background:  linear-gradient(90deg,#95cff5 91.6%, transparent 91.6%);\n",
       "        }#T_652a2_row8_col1{\n",
       "            width:  10em;\n",
       "             height:  80%;\n",
       "            background:  linear-gradient(90deg,#95cff5 93.9%, transparent 93.9%);\n",
       "        }#T_652a2_row8_col5{\n",
       "            width:  10em;\n",
       "             height:  80%;\n",
       "            background:  linear-gradient(90deg,#95cff5 91.0%, transparent 91.0%);\n",
       "        }#T_652a2_row9_col1{\n",
       "            width:  10em;\n",
       "             height:  80%;\n",
       "            background:  linear-gradient(90deg,#95cff5 96.2%, transparent 96.2%);\n",
       "        }#T_652a2_row9_col5{\n",
       "            width:  10em;\n",
       "             height:  80%;\n",
       "            background:  linear-gradient(90deg,#95cff5 90.9%, transparent 90.9%);\n",
       "        }#T_652a2_row10_col1{\n",
       "            width:  10em;\n",
       "             height:  80%;\n",
       "            background:  linear-gradient(90deg,#95cff5 95.2%, transparent 95.2%);\n",
       "        }#T_652a2_row10_col5{\n",
       "            width:  10em;\n",
       "             height:  80%;\n",
       "            background:  linear-gradient(90deg,#95cff5 90.8%, transparent 90.8%);\n",
       "        }#T_652a2_row11_col1{\n",
       "            width:  10em;\n",
       "             height:  80%;\n",
       "            background:  linear-gradient(90deg,#95cff5 96.3%, transparent 96.3%);\n",
       "        }#T_652a2_row11_col5{\n",
       "            width:  10em;\n",
       "             height:  80%;\n",
       "            background:  linear-gradient(90deg,#95cff5 90.5%, transparent 90.5%);\n",
       "        }#T_652a2_row12_col1{\n",
       "            width:  10em;\n",
       "             height:  80%;\n",
       "            background:  linear-gradient(90deg,#95cff5 93.5%, transparent 93.5%);\n",
       "        }#T_652a2_row12_col5{\n",
       "            width:  10em;\n",
       "             height:  80%;\n",
       "            background:  linear-gradient(90deg,#95cff5 86.9%, transparent 86.9%);\n",
       "        }#T_652a2_row13_col1{\n",
       "            width:  10em;\n",
       "             height:  80%;\n",
       "            background:  linear-gradient(90deg,#95cff5 85.6%, transparent 85.6%);\n",
       "        }#T_652a2_row13_col5{\n",
       "            width:  10em;\n",
       "             height:  80%;\n",
       "            background:  linear-gradient(90deg,#95cff5 86.6%, transparent 86.6%);\n",
       "        }#T_652a2_row14_col1{\n",
       "            width:  10em;\n",
       "             height:  80%;\n",
       "            background:  linear-gradient(90deg,#95cff5 94.0%, transparent 94.0%);\n",
       "        }#T_652a2_row14_col5{\n",
       "            width:  10em;\n",
       "             height:  80%;\n",
       "            background:  linear-gradient(90deg,#95cff5 86.4%, transparent 86.4%);\n",
       "        }#T_652a2_row15_col1{\n",
       "            width:  10em;\n",
       "             height:  80%;\n",
       "            background:  linear-gradient(90deg,#95cff5 92.8%, transparent 92.8%);\n",
       "        }#T_652a2_row15_col5,#T_652a2_row18_col1{\n",
       "            width:  10em;\n",
       "             height:  80%;\n",
       "            background:  linear-gradient(90deg,#95cff5 85.2%, transparent 85.2%);\n",
       "        }#T_652a2_row16_col1{\n",
       "            width:  10em;\n",
       "             height:  80%;\n",
       "            background:  linear-gradient(90deg,#95cff5 87.5%, transparent 87.5%);\n",
       "        }#T_652a2_row16_col5{\n",
       "            width:  10em;\n",
       "             height:  80%;\n",
       "            background:  linear-gradient(90deg,#95cff5 84.9%, transparent 84.9%);\n",
       "        }#T_652a2_row17_col1{\n",
       "            width:  10em;\n",
       "             height:  80%;\n",
       "            background:  linear-gradient(90deg,#95cff5 93.1%, transparent 93.1%);\n",
       "        }#T_652a2_row17_col5{\n",
       "            width:  10em;\n",
       "             height:  80%;\n",
       "            background:  linear-gradient(90deg,#95cff5 82.1%, transparent 82.1%);\n",
       "        }#T_652a2_row18_col5{\n",
       "            width:  10em;\n",
       "             height:  80%;\n",
       "            background:  linear-gradient(90deg,#95cff5 80.5%, transparent 80.5%);\n",
       "        }#T_652a2_row19_col1{\n",
       "            width:  10em;\n",
       "             height:  80%;\n",
       "            background:  linear-gradient(90deg,#95cff5 88.6%, transparent 88.6%);\n",
       "        }#T_652a2_row19_col5{\n",
       "            width:  10em;\n",
       "             height:  80%;\n",
       "            background:  linear-gradient(90deg,#95cff5 74.2%, transparent 74.2%);\n",
       "        }</style><table id=\"T_652a2_\" ><caption>All users</caption><thead>    <tr>        <th class=\"blank level0\" ></th>        <th class=\"col_heading level0 col0\" >count</th>        <th class=\"col_heading level0 col1\" >mean</th>        <th class=\"col_heading level0 col2\" >std</th>        <th class=\"col_heading level0 col3\" >min</th>        <th class=\"col_heading level0 col4\" >25%</th>        <th class=\"col_heading level0 col5\" >50%</th>        <th class=\"col_heading level0 col6\" >75%</th>        <th class=\"col_heading level0 col7\" >max</th>    </tr>    <tr>        <th class=\"index_name level0\" >geo_country_code_top</th>        <th class=\"blank\" ></th>        <th class=\"blank\" ></th>        <th class=\"blank\" ></th>        <th class=\"blank\" ></th>        <th class=\"blank\" ></th>        <th class=\"blank\" ></th>        <th class=\"blank\" ></th>        <th class=\"blank\" ></th>    </tr></thead><tbody>\n",
       "                <tr>\n",
       "                        <th id=\"T_652a2_level0_row0\" class=\"row_heading level0 row0\" >US</th>\n",
       "                        <td id=\"T_652a2_row0_col0\" class=\"data row0 col0\" >6,420,802</td>\n",
       "                        <td id=\"T_652a2_row0_col1\" class=\"data row0 col1\" >0.2992</td>\n",
       "                        <td id=\"T_652a2_row0_col2\" class=\"data row0 col2\" >0.2313</td>\n",
       "                        <td id=\"T_652a2_row0_col3\" class=\"data row0 col3\" >0.0000</td>\n",
       "                        <td id=\"T_652a2_row0_col4\" class=\"data row0 col4\" >0.0753</td>\n",
       "                        <td id=\"T_652a2_row0_col5\" class=\"data row0 col5\" >0.2706</td>\n",
       "                        <td id=\"T_652a2_row0_col6\" class=\"data row0 col6\" >0.4837</td>\n",
       "                        <td id=\"T_652a2_row0_col7\" class=\"data row0 col7\" >0.9964</td>\n",
       "            </tr>\n",
       "            <tr>\n",
       "                        <th id=\"T_652a2_level0_row1\" class=\"row_heading level0 row1\" >MISSING</th>\n",
       "                        <td id=\"T_652a2_row1_col0\" class=\"data row1 col0\" >653,018</td>\n",
       "                        <td id=\"T_652a2_row1_col1\" class=\"data row1 col1\" >0.2667</td>\n",
       "                        <td id=\"T_652a2_row1_col2\" class=\"data row1 col2\" >0.1476</td>\n",
       "                        <td id=\"T_652a2_row1_col3\" class=\"data row1 col3\" >0.0003</td>\n",
       "                        <td id=\"T_652a2_row1_col4\" class=\"data row1 col4\" >0.1526</td>\n",
       "                        <td id=\"T_652a2_row1_col5\" class=\"data row1 col5\" >0.2676</td>\n",
       "                        <td id=\"T_652a2_row1_col6\" class=\"data row1 col6\" >0.3700</td>\n",
       "                        <td id=\"T_652a2_row1_col7\" class=\"data row1 col7\" >0.9247</td>\n",
       "            </tr>\n",
       "            <tr>\n",
       "                        <th id=\"T_652a2_level0_row2\" class=\"row_heading level0 row2\" >IN</th>\n",
       "                        <td id=\"T_652a2_row2_col0\" class=\"data row2 col0\" >131,692</td>\n",
       "                        <td id=\"T_652a2_row2_col1\" class=\"data row2 col1\" >0.3027</td>\n",
       "                        <td id=\"T_652a2_row2_col2\" class=\"data row2 col2\" >0.2552</td>\n",
       "                        <td id=\"T_652a2_row2_col3\" class=\"data row2 col3\" >0.0000</td>\n",
       "                        <td id=\"T_652a2_row2_col4\" class=\"data row2 col4\" >0.0526</td>\n",
       "                        <td id=\"T_652a2_row2_col5\" class=\"data row2 col5\" >0.2671</td>\n",
       "                        <td id=\"T_652a2_row2_col6\" class=\"data row2 col6\" >0.4927</td>\n",
       "                        <td id=\"T_652a2_row2_col7\" class=\"data row2 col7\" >0.9948</td>\n",
       "            </tr>\n",
       "            <tr>\n",
       "                        <th id=\"T_652a2_level0_row3\" class=\"row_heading level0 row3\" >MX</th>\n",
       "                        <td id=\"T_652a2_row3_col0\" class=\"data row3 col0\" >58,348</td>\n",
       "                        <td id=\"T_652a2_row3_col1\" class=\"data row3 col1\" >0.2959</td>\n",
       "                        <td id=\"T_652a2_row3_col2\" class=\"data row3 col2\" >0.2414</td>\n",
       "                        <td id=\"T_652a2_row3_col3\" class=\"data row3 col3\" >0.0001</td>\n",
       "                        <td id=\"T_652a2_row3_col4\" class=\"data row3 col4\" >0.0569</td>\n",
       "                        <td id=\"T_652a2_row3_col5\" class=\"data row3 col5\" >0.2638</td>\n",
       "                        <td id=\"T_652a2_row3_col6\" class=\"data row3 col6\" >0.4851</td>\n",
       "                        <td id=\"T_652a2_row3_col7\" class=\"data row3 col7\" >0.9838</td>\n",
       "            </tr>\n",
       "            <tr>\n",
       "                        <th id=\"T_652a2_level0_row4\" class=\"row_heading level0 row4\" >GB</th>\n",
       "                        <td id=\"T_652a2_row4_col0\" class=\"data row4 col0\" >599,161</td>\n",
       "                        <td id=\"T_652a2_row4_col1\" class=\"data row4 col1\" >0.2969</td>\n",
       "                        <td id=\"T_652a2_row4_col2\" class=\"data row4 col2\" >0.2525</td>\n",
       "                        <td id=\"T_652a2_row4_col3\" class=\"data row4 col3\" >0.0000</td>\n",
       "                        <td id=\"T_652a2_row4_col4\" class=\"data row4 col4\" >0.0492</td>\n",
       "                        <td id=\"T_652a2_row4_col5\" class=\"data row4 col5\" >0.2583</td>\n",
       "                        <td id=\"T_652a2_row4_col6\" class=\"data row4 col6\" >0.5007</td>\n",
       "                        <td id=\"T_652a2_row4_col7\" class=\"data row4 col7\" >0.9949</td>\n",
       "            </tr>\n",
       "            <tr>\n",
       "                        <th id=\"T_652a2_level0_row5\" class=\"row_heading level0 row5\" >PH</th>\n",
       "                        <td id=\"T_652a2_row5_col0\" class=\"data row5 col0\" >42,307</td>\n",
       "                        <td id=\"T_652a2_row5_col1\" class=\"data row5 col1\" >0.2983</td>\n",
       "                        <td id=\"T_652a2_row5_col2\" class=\"data row5 col2\" >0.2590</td>\n",
       "                        <td id=\"T_652a2_row5_col3\" class=\"data row5 col3\" >0.0002</td>\n",
       "                        <td id=\"T_652a2_row5_col4\" class=\"data row5 col4\" >0.0496</td>\n",
       "                        <td id=\"T_652a2_row5_col5\" class=\"data row5 col5\" >0.2551</td>\n",
       "                        <td id=\"T_652a2_row5_col6\" class=\"data row5 col6\" >0.4998</td>\n",
       "                        <td id=\"T_652a2_row5_col7\" class=\"data row5 col7\" >0.9845</td>\n",
       "            </tr>\n",
       "            <tr>\n",
       "                        <th id=\"T_652a2_level0_row6\" class=\"row_heading level0 row6\" >PT</th>\n",
       "                        <td id=\"T_652a2_row6_col0\" class=\"data row6 col0\" >38,341</td>\n",
       "                        <td id=\"T_652a2_row6_col1\" class=\"data row6 col1\" >0.2989</td>\n",
       "                        <td id=\"T_652a2_row6_col2\" class=\"data row6 col2\" >0.2641</td>\n",
       "                        <td id=\"T_652a2_row6_col3\" class=\"data row6 col3\" >0.0001</td>\n",
       "                        <td id=\"T_652a2_row6_col4\" class=\"data row6 col4\" >0.0476</td>\n",
       "                        <td id=\"T_652a2_row6_col5\" class=\"data row6 col5\" >0.2484</td>\n",
       "                        <td id=\"T_652a2_row6_col6\" class=\"data row6 col6\" >0.5139</td>\n",
       "                        <td id=\"T_652a2_row6_col7\" class=\"data row6 col7\" >0.9858</td>\n",
       "            </tr>\n",
       "            <tr>\n",
       "                        <th id=\"T_652a2_level0_row7\" class=\"row_heading level0 row7\" >IT</th>\n",
       "                        <td id=\"T_652a2_row7_col0\" class=\"data row7 col0\" >58,498</td>\n",
       "                        <td id=\"T_652a2_row7_col1\" class=\"data row7 col1\" >0.2945</td>\n",
       "                        <td id=\"T_652a2_row7_col2\" class=\"data row7 col2\" >0.2544</td>\n",
       "                        <td id=\"T_652a2_row7_col3\" class=\"data row7 col3\" >0.0001</td>\n",
       "                        <td id=\"T_652a2_row7_col4\" class=\"data row7 col4\" >0.0509</td>\n",
       "                        <td id=\"T_652a2_row7_col5\" class=\"data row7 col5\" >0.2480</td>\n",
       "                        <td id=\"T_652a2_row7_col6\" class=\"data row7 col6\" >0.4900</td>\n",
       "                        <td id=\"T_652a2_row7_col7\" class=\"data row7 col7\" >0.9902</td>\n",
       "            </tr>\n",
       "            <tr>\n",
       "                        <th id=\"T_652a2_level0_row8\" class=\"row_heading level0 row8\" >ROW</th>\n",
       "                        <td id=\"T_652a2_row8_col0\" class=\"data row8 col0\" >1,571,790</td>\n",
       "                        <td id=\"T_652a2_row8_col1\" class=\"data row8 col1\" >0.2842</td>\n",
       "                        <td id=\"T_652a2_row8_col2\" class=\"data row8 col2\" >0.2423</td>\n",
       "                        <td id=\"T_652a2_row8_col3\" class=\"data row8 col3\" >0.0000</td>\n",
       "                        <td id=\"T_652a2_row8_col4\" class=\"data row8 col4\" >0.0507</td>\n",
       "                        <td id=\"T_652a2_row8_col5\" class=\"data row8 col5\" >0.2464</td>\n",
       "                        <td id=\"T_652a2_row8_col6\" class=\"data row8 col6\" >0.4638</td>\n",
       "                        <td id=\"T_652a2_row8_col7\" class=\"data row8 col7\" >0.9933</td>\n",
       "            </tr>\n",
       "            <tr>\n",
       "                        <th id=\"T_652a2_level0_row9\" class=\"row_heading level0 row9\" >BR</th>\n",
       "                        <td id=\"T_652a2_row9_col0\" class=\"data row9 col0\" >104,395</td>\n",
       "                        <td id=\"T_652a2_row9_col1\" class=\"data row9 col1\" >0.2911</td>\n",
       "                        <td id=\"T_652a2_row9_col2\" class=\"data row9 col2\" >0.2480</td>\n",
       "                        <td id=\"T_652a2_row9_col3\" class=\"data row9 col3\" >0.0001</td>\n",
       "                        <td id=\"T_652a2_row9_col4\" class=\"data row9 col4\" >0.0549</td>\n",
       "                        <td id=\"T_652a2_row9_col5\" class=\"data row9 col5\" >0.2459</td>\n",
       "                        <td id=\"T_652a2_row9_col6\" class=\"data row9 col6\" >0.4752</td>\n",
       "                        <td id=\"T_652a2_row9_col7\" class=\"data row9 col7\" >0.9889</td>\n",
       "            </tr>\n",
       "            <tr>\n",
       "                        <th id=\"T_652a2_level0_row10\" class=\"row_heading level0 row10\" >CA</th>\n",
       "                        <td id=\"T_652a2_row10_col0\" class=\"data row10 col0\" >618,069</td>\n",
       "                        <td id=\"T_652a2_row10_col1\" class=\"data row10 col1\" >0.2881</td>\n",
       "                        <td id=\"T_652a2_row10_col2\" class=\"data row10 col2\" >0.2430</td>\n",
       "                        <td id=\"T_652a2_row10_col3\" class=\"data row10 col3\" >0.0000</td>\n",
       "                        <td id=\"T_652a2_row10_col4\" class=\"data row10 col4\" >0.0517</td>\n",
       "                        <td id=\"T_652a2_row10_col5\" class=\"data row10 col5\" >0.2458</td>\n",
       "                        <td id=\"T_652a2_row10_col6\" class=\"data row10 col6\" >0.4849</td>\n",
       "                        <td id=\"T_652a2_row10_col7\" class=\"data row10 col7\" >0.9902</td>\n",
       "            </tr>\n",
       "            <tr>\n",
       "                        <th id=\"T_652a2_level0_row11\" class=\"row_heading level0 row11\" >AR</th>\n",
       "                        <td id=\"T_652a2_row11_col0\" class=\"data row11 col0\" >22,148</td>\n",
       "                        <td id=\"T_652a2_row11_col1\" class=\"data row11 col1\" >0.2915</td>\n",
       "                        <td id=\"T_652a2_row11_col2\" class=\"data row11 col2\" >0.2509</td>\n",
       "                        <td id=\"T_652a2_row11_col3\" class=\"data row11 col3\" >0.0001</td>\n",
       "                        <td id=\"T_652a2_row11_col4\" class=\"data row11 col4\" >0.0522</td>\n",
       "                        <td id=\"T_652a2_row11_col5\" class=\"data row11 col5\" >0.2449</td>\n",
       "                        <td id=\"T_652a2_row11_col6\" class=\"data row11 col6\" >0.4818</td>\n",
       "                        <td id=\"T_652a2_row11_col7\" class=\"data row11 col7\" >0.9816</td>\n",
       "            </tr>\n",
       "            <tr>\n",
       "                        <th id=\"T_652a2_level0_row12\" class=\"row_heading level0 row12\" >NL</th>\n",
       "                        <td id=\"T_652a2_row12_col0\" class=\"data row12 col0\" >235,947</td>\n",
       "                        <td id=\"T_652a2_row12_col1\" class=\"data row12 col1\" >0.2829</td>\n",
       "                        <td id=\"T_652a2_row12_col2\" class=\"data row12 col2\" >0.2462</td>\n",
       "                        <td id=\"T_652a2_row12_col3\" class=\"data row12 col3\" >0.0000</td>\n",
       "                        <td id=\"T_652a2_row12_col4\" class=\"data row12 col4\" >0.0501</td>\n",
       "                        <td id=\"T_652a2_row12_col5\" class=\"data row12 col5\" >0.2351</td>\n",
       "                        <td id=\"T_652a2_row12_col6\" class=\"data row12 col6\" >0.4719</td>\n",
       "                        <td id=\"T_652a2_row12_col7\" class=\"data row12 col7\" >0.9913</td>\n",
       "            </tr>\n",
       "            <tr>\n",
       "                        <th id=\"T_652a2_level0_row13\" class=\"row_heading level0 row13\" >DE</th>\n",
       "                        <td id=\"T_652a2_row13_col0\" class=\"data row13 col0\" >6,006,565</td>\n",
       "                        <td id=\"T_652a2_row13_col1\" class=\"data row13 col1\" >0.2592</td>\n",
       "                        <td id=\"T_652a2_row13_col2\" class=\"data row13 col2\" >0.2155</td>\n",
       "                        <td id=\"T_652a2_row13_col3\" class=\"data row13 col3\" >0.0000</td>\n",
       "                        <td id=\"T_652a2_row13_col4\" class=\"data row13 col4\" >0.0554</td>\n",
       "                        <td id=\"T_652a2_row13_col5\" class=\"data row13 col5\" >0.2344</td>\n",
       "                        <td id=\"T_652a2_row13_col6\" class=\"data row13 col6\" >0.4047</td>\n",
       "                        <td id=\"T_652a2_row13_col7\" class=\"data row13 col7\" >0.9975</td>\n",
       "            </tr>\n",
       "            <tr>\n",
       "                        <th id=\"T_652a2_level0_row14\" class=\"row_heading level0 row14\" >AU</th>\n",
       "                        <td id=\"T_652a2_row14_col0\" class=\"data row14 col0\" >282,175</td>\n",
       "                        <td id=\"T_652a2_row14_col1\" class=\"data row14 col1\" >0.2845</td>\n",
       "                        <td id=\"T_652a2_row14_col2\" class=\"data row14 col2\" >0.2470</td>\n",
       "                        <td id=\"T_652a2_row14_col3\" class=\"data row14 col3\" >0.0000</td>\n",
       "                        <td id=\"T_652a2_row14_col4\" class=\"data row14 col4\" >0.0469</td>\n",
       "                        <td id=\"T_652a2_row14_col5\" class=\"data row14 col5\" >0.2339</td>\n",
       "                        <td id=\"T_652a2_row14_col6\" class=\"data row14 col6\" >0.4917</td>\n",
       "                        <td id=\"T_652a2_row14_col7\" class=\"data row14 col7\" >0.9853</td>\n",
       "            </tr>\n",
       "            <tr>\n",
       "                        <th id=\"T_652a2_level0_row15\" class=\"row_heading level0 row15\" >ES</th>\n",
       "                        <td id=\"T_652a2_row15_col0\" class=\"data row15 col0\" >65,025</td>\n",
       "                        <td id=\"T_652a2_row15_col1\" class=\"data row15 col1\" >0.2810</td>\n",
       "                        <td id=\"T_652a2_row15_col2\" class=\"data row15 col2\" >0.2479</td>\n",
       "                        <td id=\"T_652a2_row15_col3\" class=\"data row15 col3\" >0.0001</td>\n",
       "                        <td id=\"T_652a2_row15_col4\" class=\"data row15 col4\" >0.0484</td>\n",
       "                        <td id=\"T_652a2_row15_col5\" class=\"data row15 col5\" >0.2306</td>\n",
       "                        <td id=\"T_652a2_row15_col6\" class=\"data row15 col6\" >0.4705</td>\n",
       "                        <td id=\"T_652a2_row15_col7\" class=\"data row15 col7\" >0.9838</td>\n",
       "            </tr>\n",
       "            <tr>\n",
       "                        <th id=\"T_652a2_level0_row16\" class=\"row_heading level0 row16\" >CH</th>\n",
       "                        <td id=\"T_652a2_row16_col0\" class=\"data row16 col0\" >144,896</td>\n",
       "                        <td id=\"T_652a2_row16_col1\" class=\"data row16 col1\" >0.2649</td>\n",
       "                        <td id=\"T_652a2_row16_col2\" class=\"data row16 col2\" >0.2233</td>\n",
       "                        <td id=\"T_652a2_row16_col3\" class=\"data row16 col3\" >0.0001</td>\n",
       "                        <td id=\"T_652a2_row16_col4\" class=\"data row16 col4\" >0.0545</td>\n",
       "                        <td id=\"T_652a2_row16_col5\" class=\"data row16 col5\" >0.2297</td>\n",
       "                        <td id=\"T_652a2_row16_col6\" class=\"data row16 col6\" >0.4172</td>\n",
       "                        <td id=\"T_652a2_row16_col7\" class=\"data row16 col7\" >0.9950</td>\n",
       "            </tr>\n",
       "            <tr>\n",
       "                        <th id=\"T_652a2_level0_row17\" class=\"row_heading level0 row17\" >IE</th>\n",
       "                        <td id=\"T_652a2_row17_col0\" class=\"data row17 col0\" >62,482</td>\n",
       "                        <td id=\"T_652a2_row17_col1\" class=\"data row17 col1\" >0.2817</td>\n",
       "                        <td id=\"T_652a2_row17_col2\" class=\"data row17 col2\" >0.2537</td>\n",
       "                        <td id=\"T_652a2_row17_col3\" class=\"data row17 col3\" >0.0001</td>\n",
       "                        <td id=\"T_652a2_row17_col4\" class=\"data row17 col4\" >0.0450</td>\n",
       "                        <td id=\"T_652a2_row17_col5\" class=\"data row17 col5\" >0.2223</td>\n",
       "                        <td id=\"T_652a2_row17_col6\" class=\"data row17 col6\" >0.4800</td>\n",
       "                        <td id=\"T_652a2_row17_col7\" class=\"data row17 col7\" >0.9919</td>\n",
       "            </tr>\n",
       "            <tr>\n",
       "                        <th id=\"T_652a2_level0_row18\" class=\"row_heading level0 row18\" >AT</th>\n",
       "                        <td id=\"T_652a2_row18_col0\" class=\"data row18 col0\" >240,252</td>\n",
       "                        <td id=\"T_652a2_row18_col1\" class=\"data row18 col1\" >0.2578</td>\n",
       "                        <td id=\"T_652a2_row18_col2\" class=\"data row18 col2\" >0.2271</td>\n",
       "                        <td id=\"T_652a2_row18_col3\" class=\"data row18 col3\" >0.0000</td>\n",
       "                        <td id=\"T_652a2_row18_col4\" class=\"data row18 col4\" >0.0488</td>\n",
       "                        <td id=\"T_652a2_row18_col5\" class=\"data row18 col5\" >0.2180</td>\n",
       "                        <td id=\"T_652a2_row18_col6\" class=\"data row18 col6\" >0.4004</td>\n",
       "                        <td id=\"T_652a2_row18_col7\" class=\"data row18 col7\" >0.9926</td>\n",
       "            </tr>\n",
       "            <tr>\n",
       "                        <th id=\"T_652a2_level0_row19\" class=\"row_heading level0 row19\" >FR</th>\n",
       "                        <td id=\"T_652a2_row19_col0\" class=\"data row19 col0\" >130,767</td>\n",
       "                        <td id=\"T_652a2_row19_col1\" class=\"data row19 col1\" >0.2681</td>\n",
       "                        <td id=\"T_652a2_row19_col2\" class=\"data row19 col2\" >0.2488</td>\n",
       "                        <td id=\"T_652a2_row19_col3\" class=\"data row19 col3\" >0.0001</td>\n",
       "                        <td id=\"T_652a2_row19_col4\" class=\"data row19 col4\" >0.0424</td>\n",
       "                        <td id=\"T_652a2_row19_col5\" class=\"data row19 col5\" >0.2008</td>\n",
       "                        <td id=\"T_652a2_row19_col6\" class=\"data row19 col6\" >0.4589</td>\n",
       "                        <td id=\"T_652a2_row19_col7\" class=\"data row19 col7\" >0.9934</td>\n",
       "            </tr>\n",
       "    </tbody></table>"
      ],
      "text/plain": [
       "<pandas.io.formats.style.Styler at 0x7ef2427ed110>"
      ]
     },
     "metadata": {},
     "output_type": "display_data"
    },
    {
     "data": {
      "text/html": [
       "<style  type=\"text/css\" >\n",
       "#T_c5e7b_row0_col1,#T_c5e7b_row0_col5{\n",
       "            width:  10em;\n",
       "             height:  80%;\n",
       "            background:  linear-gradient(90deg,#95cff5 100.0%, transparent 100.0%);\n",
       "        }#T_c5e7b_row1_col1{\n",
       "            width:  10em;\n",
       "             height:  80%;\n",
       "            background:  linear-gradient(90deg,#95cff5 77.3%, transparent 77.3%);\n",
       "        }#T_c5e7b_row1_col5{\n",
       "            width:  10em;\n",
       "             height:  80%;\n",
       "            background:  linear-gradient(90deg,#95cff5 73.0%, transparent 73.0%);\n",
       "        }#T_c5e7b_row2_col1{\n",
       "            width:  10em;\n",
       "             height:  80%;\n",
       "            background:  linear-gradient(90deg,#95cff5 72.3%, transparent 72.3%);\n",
       "        }#T_c5e7b_row2_col5{\n",
       "            width:  10em;\n",
       "             height:  80%;\n",
       "            background:  linear-gradient(90deg,#95cff5 71.9%, transparent 71.9%);\n",
       "        }#T_c5e7b_row3_col1{\n",
       "            width:  10em;\n",
       "             height:  80%;\n",
       "            background:  linear-gradient(90deg,#95cff5 69.7%, transparent 69.7%);\n",
       "        }#T_c5e7b_row3_col5{\n",
       "            width:  10em;\n",
       "             height:  80%;\n",
       "            background:  linear-gradient(90deg,#95cff5 70.4%, transparent 70.4%);\n",
       "        }#T_c5e7b_row4_col1{\n",
       "            width:  10em;\n",
       "             height:  80%;\n",
       "            background:  linear-gradient(90deg,#95cff5 71.0%, transparent 71.0%);\n",
       "        }#T_c5e7b_row4_col5{\n",
       "            width:  10em;\n",
       "             height:  80%;\n",
       "            background:  linear-gradient(90deg,#95cff5 70.2%, transparent 70.2%);\n",
       "        }#T_c5e7b_row5_col1{\n",
       "            width:  10em;\n",
       "             height:  80%;\n",
       "            background:  linear-gradient(90deg,#95cff5 68.4%, transparent 68.4%);\n",
       "        }#T_c5e7b_row5_col5{\n",
       "            width:  10em;\n",
       "             height:  80%;\n",
       "            background:  linear-gradient(90deg,#95cff5 70.0%, transparent 70.0%);\n",
       "        }#T_c5e7b_row6_col1{\n",
       "            width:  10em;\n",
       "             height:  80%;\n",
       "            background:  linear-gradient(90deg,#95cff5 68.9%, transparent 68.9%);\n",
       "        }#T_c5e7b_row6_col5{\n",
       "            width:  10em;\n",
       "             height:  80%;\n",
       "            background:  linear-gradient(90deg,#95cff5 68.2%, transparent 68.2%);\n",
       "        }#T_c5e7b_row7_col1,#T_c5e7b_row10_col5{\n",
       "            width:  10em;\n",
       "             height:  80%;\n",
       "            background:  linear-gradient(90deg,#95cff5 66.9%, transparent 66.9%);\n",
       "        }#T_c5e7b_row7_col5,#T_c5e7b_row12_col1{\n",
       "            width:  10em;\n",
       "             height:  80%;\n",
       "            background:  linear-gradient(90deg,#95cff5 67.6%, transparent 67.6%);\n",
       "        }#T_c5e7b_row8_col1{\n",
       "            width:  10em;\n",
       "             height:  80%;\n",
       "            background:  linear-gradient(90deg,#95cff5 69.0%, transparent 69.0%);\n",
       "        }#T_c5e7b_row8_col5,#T_c5e7b_row14_col1{\n",
       "            width:  10em;\n",
       "             height:  80%;\n",
       "            background:  linear-gradient(90deg,#95cff5 67.4%, transparent 67.4%);\n",
       "        }#T_c5e7b_row9_col1{\n",
       "            width:  10em;\n",
       "             height:  80%;\n",
       "            background:  linear-gradient(90deg,#95cff5 69.5%, transparent 69.5%);\n",
       "        }#T_c5e7b_row9_col5,#T_c5e7b_row13_col1{\n",
       "            width:  10em;\n",
       "             height:  80%;\n",
       "            background:  linear-gradient(90deg,#95cff5 67.3%, transparent 67.3%);\n",
       "        }#T_c5e7b_row10_col1{\n",
       "            width:  10em;\n",
       "             height:  80%;\n",
       "            background:  linear-gradient(90deg,#95cff5 67.1%, transparent 67.1%);\n",
       "        }#T_c5e7b_row11_col1{\n",
       "            width:  10em;\n",
       "             height:  80%;\n",
       "            background:  linear-gradient(90deg,#95cff5 68.1%, transparent 68.1%);\n",
       "        }#T_c5e7b_row11_col5{\n",
       "            width:  10em;\n",
       "             height:  80%;\n",
       "            background:  linear-gradient(90deg,#95cff5 66.3%, transparent 66.3%);\n",
       "        }#T_c5e7b_row12_col5{\n",
       "            width:  10em;\n",
       "             height:  80%;\n",
       "            background:  linear-gradient(90deg,#95cff5 66.0%, transparent 66.0%);\n",
       "        }#T_c5e7b_row13_col5{\n",
       "            width:  10em;\n",
       "             height:  80%;\n",
       "            background:  linear-gradient(90deg,#95cff5 65.5%, transparent 65.5%);\n",
       "        }#T_c5e7b_row14_col5{\n",
       "            width:  10em;\n",
       "             height:  80%;\n",
       "            background:  linear-gradient(90deg,#95cff5 65.4%, transparent 65.4%);\n",
       "        }#T_c5e7b_row15_col1{\n",
       "            width:  10em;\n",
       "             height:  80%;\n",
       "            background:  linear-gradient(90deg,#95cff5 66.7%, transparent 66.7%);\n",
       "        }#T_c5e7b_row15_col5{\n",
       "            width:  10em;\n",
       "             height:  80%;\n",
       "            background:  linear-gradient(90deg,#95cff5 64.7%, transparent 64.7%);\n",
       "        }#T_c5e7b_row16_col1{\n",
       "            width:  10em;\n",
       "             height:  80%;\n",
       "            background:  linear-gradient(90deg,#95cff5 66.4%, transparent 66.4%);\n",
       "        }#T_c5e7b_row16_col5{\n",
       "            width:  10em;\n",
       "             height:  80%;\n",
       "            background:  linear-gradient(90deg,#95cff5 63.4%, transparent 63.4%);\n",
       "        }#T_c5e7b_row17_col1{\n",
       "            width:  10em;\n",
       "             height:  80%;\n",
       "            background:  linear-gradient(90deg,#95cff5 60.6%, transparent 60.6%);\n",
       "        }#T_c5e7b_row17_col5{\n",
       "            width:  10em;\n",
       "             height:  80%;\n",
       "            background:  linear-gradient(90deg,#95cff5 58.9%, transparent 58.9%);\n",
       "        }#T_c5e7b_row18_col1{\n",
       "            width:  10em;\n",
       "             height:  80%;\n",
       "            background:  linear-gradient(90deg,#95cff5 60.8%, transparent 60.8%);\n",
       "        }#T_c5e7b_row18_col5{\n",
       "            width:  10em;\n",
       "             height:  80%;\n",
       "            background:  linear-gradient(90deg,#95cff5 57.7%, transparent 57.7%);\n",
       "        }#T_c5e7b_row19_col1{\n",
       "            width:  10em;\n",
       "             height:  80%;\n",
       "            background:  linear-gradient(90deg,#95cff5 48.7%, transparent 48.7%);\n",
       "        }#T_c5e7b_row19_col5{\n",
       "            width:  10em;\n",
       "             height:  80%;\n",
       "            background:  linear-gradient(90deg,#95cff5 48.2%, transparent 48.2%);\n",
       "        }</style><table id=\"T_c5e7b_\" ><caption>Users below 500k rank AND above 0.100 Threshold</caption><thead>    <tr>        <th class=\"blank level0\" ></th>        <th class=\"col_heading level0 col0\" >count</th>        <th class=\"col_heading level0 col1\" >mean</th>        <th class=\"col_heading level0 col2\" >std</th>        <th class=\"col_heading level0 col3\" >min</th>        <th class=\"col_heading level0 col4\" >25%</th>        <th class=\"col_heading level0 col5\" >50%</th>        <th class=\"col_heading level0 col6\" >75%</th>        <th class=\"col_heading level0 col7\" >max</th>    </tr>    <tr>        <th class=\"index_name level0\" >geo_country_code_top</th>        <th class=\"blank\" ></th>        <th class=\"blank\" ></th>        <th class=\"blank\" ></th>        <th class=\"blank\" ></th>        <th class=\"blank\" ></th>        <th class=\"blank\" ></th>        <th class=\"blank\" ></th>        <th class=\"blank\" ></th>    </tr></thead><tbody>\n",
       "                <tr>\n",
       "                        <th id=\"T_c5e7b_level0_row0\" class=\"row_heading level0 row0\" >US</th>\n",
       "                        <td id=\"T_c5e7b_row0_col0\" class=\"data row0 col0\" >1,302,789</td>\n",
       "                        <td id=\"T_c5e7b_row0_col1\" class=\"data row0 col1\" >0.6333</td>\n",
       "                        <td id=\"T_c5e7b_row0_col2\" class=\"data row0 col2\" >0.1264</td>\n",
       "                        <td id=\"T_c5e7b_row0_col3\" class=\"data row0 col3\" >0.1000</td>\n",
       "                        <td id=\"T_c5e7b_row0_col4\" class=\"data row0 col4\" >0.5703</td>\n",
       "                        <td id=\"T_c5e7b_row0_col5\" class=\"data row0 col5\" >0.6189</td>\n",
       "                        <td id=\"T_c5e7b_row0_col6\" class=\"data row0 col6\" >0.6860</td>\n",
       "                        <td id=\"T_c5e7b_row0_col7\" class=\"data row0 col7\" >0.9964</td>\n",
       "            </tr>\n",
       "            <tr>\n",
       "                        <th id=\"T_c5e7b_level0_row1\" class=\"row_heading level0 row1\" >DE</th>\n",
       "                        <td id=\"T_c5e7b_row1_col0\" class=\"data row1 col0\" >2,272,361</td>\n",
       "                        <td id=\"T_c5e7b_row1_col1\" class=\"data row1 col1\" >0.4895</td>\n",
       "                        <td id=\"T_c5e7b_row1_col2\" class=\"data row1 col2\" >0.1441</td>\n",
       "                        <td id=\"T_c5e7b_row1_col3\" class=\"data row1 col3\" >0.2914</td>\n",
       "                        <td id=\"T_c5e7b_row1_col4\" class=\"data row1 col4\" >0.3808</td>\n",
       "                        <td id=\"T_c5e7b_row1_col5\" class=\"data row1 col5\" >0.4515</td>\n",
       "                        <td id=\"T_c5e7b_row1_col6\" class=\"data row1 col6\" >0.5571</td>\n",
       "                        <td id=\"T_c5e7b_row1_col7\" class=\"data row1 col7\" >0.9975</td>\n",
       "            </tr>\n",
       "            <tr>\n",
       "                        <th id=\"T_c5e7b_level0_row2\" class=\"row_heading level0 row2\" >PT</th>\n",
       "                        <td id=\"T_c5e7b_row2_col0\" class=\"data row2 col0\" >23,799</td>\n",
       "                        <td id=\"T_c5e7b_row2_col1\" class=\"data row2 col1\" >0.4576</td>\n",
       "                        <td id=\"T_c5e7b_row2_col2\" class=\"data row2 col2\" >0.2137</td>\n",
       "                        <td id=\"T_c5e7b_row2_col3\" class=\"data row2 col3\" >0.1000</td>\n",
       "                        <td id=\"T_c5e7b_row2_col4\" class=\"data row2 col4\" >0.2875</td>\n",
       "                        <td id=\"T_c5e7b_row2_col5\" class=\"data row2 col5\" >0.4452</td>\n",
       "                        <td id=\"T_c5e7b_row2_col6\" class=\"data row2 col6\" >0.6103</td>\n",
       "                        <td id=\"T_c5e7b_row2_col7\" class=\"data row2 col7\" >0.9858</td>\n",
       "            </tr>\n",
       "            <tr>\n",
       "                        <th id=\"T_c5e7b_level0_row3\" class=\"row_heading level0 row3\" >GB</th>\n",
       "                        <td id=\"T_c5e7b_row3_col0\" class=\"data row3 col0\" >383,955</td>\n",
       "                        <td id=\"T_c5e7b_row3_col1\" class=\"data row3 col1\" >0.4414</td>\n",
       "                        <td id=\"T_c5e7b_row3_col2\" class=\"data row3 col2\" >0.2027</td>\n",
       "                        <td id=\"T_c5e7b_row3_col3\" class=\"data row3 col3\" >0.1000</td>\n",
       "                        <td id=\"T_c5e7b_row3_col4\" class=\"data row3 col4\" >0.2784</td>\n",
       "                        <td id=\"T_c5e7b_row3_col5\" class=\"data row3 col5\" >0.4355</td>\n",
       "                        <td id=\"T_c5e7b_row3_col6\" class=\"data row3 col6\" >0.5840</td>\n",
       "                        <td id=\"T_c5e7b_row3_col7\" class=\"data row3 col7\" >0.9949</td>\n",
       "            </tr>\n",
       "            <tr>\n",
       "                        <th id=\"T_c5e7b_level0_row4\" class=\"row_heading level0 row4\" >PH</th>\n",
       "                        <td id=\"T_c5e7b_row4_col0\" class=\"data row4 col0\" >26,629</td>\n",
       "                        <td id=\"T_c5e7b_row4_col1\" class=\"data row4 col1\" >0.4498</td>\n",
       "                        <td id=\"T_c5e7b_row4_col2\" class=\"data row4 col2\" >0.2105</td>\n",
       "                        <td id=\"T_c5e7b_row4_col3\" class=\"data row4 col3\" >0.1000</td>\n",
       "                        <td id=\"T_c5e7b_row4_col4\" class=\"data row4 col4\" >0.2840</td>\n",
       "                        <td id=\"T_c5e7b_row4_col5\" class=\"data row4 col5\" >0.4346</td>\n",
       "                        <td id=\"T_c5e7b_row4_col6\" class=\"data row4 col6\" >0.5950</td>\n",
       "                        <td id=\"T_c5e7b_row4_col7\" class=\"data row4 col7\" >0.9845</td>\n",
       "            </tr>\n",
       "            <tr>\n",
       "                        <th id=\"T_c5e7b_level0_row5\" class=\"row_heading level0 row5\" >AU</th>\n",
       "                        <td id=\"T_c5e7b_row5_col0\" class=\"data row5 col0\" >175,534</td>\n",
       "                        <td id=\"T_c5e7b_row5_col1\" class=\"data row5 col1\" >0.4333</td>\n",
       "                        <td id=\"T_c5e7b_row5_col2\" class=\"data row5 col2\" >0.1978</td>\n",
       "                        <td id=\"T_c5e7b_row5_col3\" class=\"data row5 col3\" >0.1000</td>\n",
       "                        <td id=\"T_c5e7b_row5_col4\" class=\"data row5 col4\" >0.2704</td>\n",
       "                        <td id=\"T_c5e7b_row5_col5\" class=\"data row5 col5\" >0.4334</td>\n",
       "                        <td id=\"T_c5e7b_row5_col6\" class=\"data row5 col6\" >0.5775</td>\n",
       "                        <td id=\"T_c5e7b_row5_col7\" class=\"data row5 col7\" >0.9853</td>\n",
       "            </tr>\n",
       "            <tr>\n",
       "                        <th id=\"T_c5e7b_level0_row6\" class=\"row_heading level0 row6\" >IE</th>\n",
       "                        <td id=\"T_c5e7b_row6_col0\" class=\"data row6 col0\" >38,211</td>\n",
       "                        <td id=\"T_c5e7b_row6_col1\" class=\"data row6 col1\" >0.4363</td>\n",
       "                        <td id=\"T_c5e7b_row6_col2\" class=\"data row6 col2\" >0.2084</td>\n",
       "                        <td id=\"T_c5e7b_row6_col3\" class=\"data row6 col3\" >0.1000</td>\n",
       "                        <td id=\"T_c5e7b_row6_col4\" class=\"data row6 col4\" >0.2657</td>\n",
       "                        <td id=\"T_c5e7b_row6_col5\" class=\"data row6 col5\" >0.4220</td>\n",
       "                        <td id=\"T_c5e7b_row6_col6\" class=\"data row6 col6\" >0.5814</td>\n",
       "                        <td id=\"T_c5e7b_row6_col7\" class=\"data row6 col7\" >0.9919</td>\n",
       "            </tr>\n",
       "            <tr>\n",
       "                        <th id=\"T_c5e7b_level0_row7\" class=\"row_heading level0 row7\" >CA</th>\n",
       "                        <td id=\"T_c5e7b_row7_col0\" class=\"data row7 col0\" >399,919</td>\n",
       "                        <td id=\"T_c5e7b_row7_col1\" class=\"data row7 col1\" >0.4234</td>\n",
       "                        <td id=\"T_c5e7b_row7_col2\" class=\"data row7 col2\" >0.1978</td>\n",
       "                        <td id=\"T_c5e7b_row7_col3\" class=\"data row7 col3\" >0.1000</td>\n",
       "                        <td id=\"T_c5e7b_row7_col4\" class=\"data row7 col4\" >0.2604</td>\n",
       "                        <td id=\"T_c5e7b_row7_col5\" class=\"data row7 col5\" >0.4182</td>\n",
       "                        <td id=\"T_c5e7b_row7_col6\" class=\"data row7 col6\" >0.5638</td>\n",
       "                        <td id=\"T_c5e7b_row7_col7\" class=\"data row7 col7\" >0.9902</td>\n",
       "            </tr>\n",
       "            <tr>\n",
       "                        <th id=\"T_c5e7b_level0_row8\" class=\"row_heading level0 row8\" >IT</th>\n",
       "                        <td id=\"T_c5e7b_row8_col0\" class=\"data row8 col0\" >37,518</td>\n",
       "                        <td id=\"T_c5e7b_row8_col1\" class=\"data row8 col1\" >0.4371</td>\n",
       "                        <td id=\"T_c5e7b_row8_col2\" class=\"data row8 col2\" >0.2097</td>\n",
       "                        <td id=\"T_c5e7b_row8_col3\" class=\"data row8 col3\" >0.1000</td>\n",
       "                        <td id=\"T_c5e7b_row8_col4\" class=\"data row8 col4\" >0.2671</td>\n",
       "                        <td id=\"T_c5e7b_row8_col5\" class=\"data row8 col5\" >0.4172</td>\n",
       "                        <td id=\"T_c5e7b_row8_col6\" class=\"data row8 col6\" >0.5846</td>\n",
       "                        <td id=\"T_c5e7b_row8_col7\" class=\"data row8 col7\" >0.9902</td>\n",
       "            </tr>\n",
       "            <tr>\n",
       "                        <th id=\"T_c5e7b_level0_row9\" class=\"row_heading level0 row9\" >IN</th>\n",
       "                        <td id=\"T_c5e7b_row9_col0\" class=\"data row9 col0\" >86,455</td>\n",
       "                        <td id=\"T_c5e7b_row9_col1\" class=\"data row9 col1\" >0.4399</td>\n",
       "                        <td id=\"T_c5e7b_row9_col2\" class=\"data row9 col2\" >0.2102</td>\n",
       "                        <td id=\"T_c5e7b_row9_col3\" class=\"data row9 col3\" >0.1000</td>\n",
       "                        <td id=\"T_c5e7b_row9_col4\" class=\"data row9 col4\" >0.2735</td>\n",
       "                        <td id=\"T_c5e7b_row9_col5\" class=\"data row9 col5\" >0.4165</td>\n",
       "                        <td id=\"T_c5e7b_row9_col6\" class=\"data row9 col6\" >0.5825</td>\n",
       "                        <td id=\"T_c5e7b_row9_col7\" class=\"data row9 col7\" >0.9948</td>\n",
       "            </tr>\n",
       "            <tr>\n",
       "                        <th id=\"T_c5e7b_level0_row10\" class=\"row_heading level0 row10\" >MX</th>\n",
       "                        <td id=\"T_c5e7b_row10_col0\" class=\"data row10 col0\" >38,565</td>\n",
       "                        <td id=\"T_c5e7b_row10_col1\" class=\"data row10 col1\" >0.4251</td>\n",
       "                        <td id=\"T_c5e7b_row10_col2\" class=\"data row10 col2\" >0.1967</td>\n",
       "                        <td id=\"T_c5e7b_row10_col3\" class=\"data row10 col3\" >0.1000</td>\n",
       "                        <td id=\"T_c5e7b_row10_col4\" class=\"data row10 col4\" >0.2680</td>\n",
       "                        <td id=\"T_c5e7b_row10_col5\" class=\"data row10 col5\" >0.4139</td>\n",
       "                        <td id=\"T_c5e7b_row10_col6\" class=\"data row10 col6\" >0.5612</td>\n",
       "                        <td id=\"T_c5e7b_row10_col7\" class=\"data row10 col7\" >0.9838</td>\n",
       "            </tr>\n",
       "            <tr>\n",
       "                        <th id=\"T_c5e7b_level0_row11\" class=\"row_heading level0 row11\" >AR</th>\n",
       "                        <td id=\"T_c5e7b_row11_col0\" class=\"data row11 col0\" >14,194</td>\n",
       "                        <td id=\"T_c5e7b_row11_col1\" class=\"data row11 col1\" >0.4315</td>\n",
       "                        <td id=\"T_c5e7b_row11_col2\" class=\"data row11 col2\" >0.2082</td>\n",
       "                        <td id=\"T_c5e7b_row11_col3\" class=\"data row11 col3\" >0.1000</td>\n",
       "                        <td id=\"T_c5e7b_row11_col4\" class=\"data row11 col4\" >0.2618</td>\n",
       "                        <td id=\"T_c5e7b_row11_col5\" class=\"data row11 col5\" >0.4102</td>\n",
       "                        <td id=\"T_c5e7b_row11_col6\" class=\"data row11 col6\" >0.5733</td>\n",
       "                        <td id=\"T_c5e7b_row11_col7\" class=\"data row11 col7\" >0.9816</td>\n",
       "            </tr>\n",
       "            <tr>\n",
       "                        <th id=\"T_c5e7b_level0_row12\" class=\"row_heading level0 row12\" >FR</th>\n",
       "                        <td id=\"T_c5e7b_row12_col0\" class=\"data row12 col0\" >77,180</td>\n",
       "                        <td id=\"T_c5e7b_row12_col1\" class=\"data row12 col1\" >0.4278</td>\n",
       "                        <td id=\"T_c5e7b_row12_col2\" class=\"data row12 col2\" >0.2056</td>\n",
       "                        <td id=\"T_c5e7b_row12_col3\" class=\"data row12 col3\" >0.1000</td>\n",
       "                        <td id=\"T_c5e7b_row12_col4\" class=\"data row12 col4\" >0.2618</td>\n",
       "                        <td id=\"T_c5e7b_row12_col5\" class=\"data row12 col5\" >0.4084</td>\n",
       "                        <td id=\"T_c5e7b_row12_col6\" class=\"data row12 col6\" >0.5741</td>\n",
       "                        <td id=\"T_c5e7b_row12_col7\" class=\"data row12 col7\" >0.9934</td>\n",
       "            </tr>\n",
       "            <tr>\n",
       "                        <th id=\"T_c5e7b_level0_row13\" class=\"row_heading level0 row13\" >ES</th>\n",
       "                        <td id=\"T_c5e7b_row13_col0\" class=\"data row13 col0\" >40,577</td>\n",
       "                        <td id=\"T_c5e7b_row13_col1\" class=\"data row13 col1\" >0.4263</td>\n",
       "                        <td id=\"T_c5e7b_row13_col2\" class=\"data row13 col2\" >0.2050</td>\n",
       "                        <td id=\"T_c5e7b_row13_col3\" class=\"data row13 col3\" >0.1000</td>\n",
       "                        <td id=\"T_c5e7b_row13_col4\" class=\"data row13 col4\" >0.2604</td>\n",
       "                        <td id=\"T_c5e7b_row13_col5\" class=\"data row13 col5\" >0.4053</td>\n",
       "                        <td id=\"T_c5e7b_row13_col6\" class=\"data row13 col6\" >0.5714</td>\n",
       "                        <td id=\"T_c5e7b_row13_col7\" class=\"data row13 col7\" >0.9838</td>\n",
       "            </tr>\n",
       "            <tr>\n",
       "                        <th id=\"T_c5e7b_level0_row14\" class=\"row_heading level0 row14\" >BR</th>\n",
       "                        <td id=\"T_c5e7b_row14_col0\" class=\"data row14 col0\" >67,499</td>\n",
       "                        <td id=\"T_c5e7b_row14_col1\" class=\"data row14 col1\" >0.4267</td>\n",
       "                        <td id=\"T_c5e7b_row14_col2\" class=\"data row14 col2\" >0.2069</td>\n",
       "                        <td id=\"T_c5e7b_row14_col3\" class=\"data row14 col3\" >0.1000</td>\n",
       "                        <td id=\"T_c5e7b_row14_col4\" class=\"data row14 col4\" >0.2594</td>\n",
       "                        <td id=\"T_c5e7b_row14_col5\" class=\"data row14 col5\" >0.4045</td>\n",
       "                        <td id=\"T_c5e7b_row14_col6\" class=\"data row14 col6\" >0.5687</td>\n",
       "                        <td id=\"T_c5e7b_row14_col7\" class=\"data row14 col7\" >0.9889</td>\n",
       "            </tr>\n",
       "            <tr>\n",
       "                        <th id=\"T_c5e7b_level0_row15\" class=\"row_heading level0 row15\" >NL</th>\n",
       "                        <td id=\"T_c5e7b_row15_col0\" class=\"data row15 col0\" >149,914</td>\n",
       "                        <td id=\"T_c5e7b_row15_col1\" class=\"data row15 col1\" >0.4224</td>\n",
       "                        <td id=\"T_c5e7b_row15_col2\" class=\"data row15 col2\" >0.2044</td>\n",
       "                        <td id=\"T_c5e7b_row15_col3\" class=\"data row15 col3\" >0.1000</td>\n",
       "                        <td id=\"T_c5e7b_row15_col4\" class=\"data row15 col4\" >0.2562</td>\n",
       "                        <td id=\"T_c5e7b_row15_col5\" class=\"data row15 col5\" >0.4003</td>\n",
       "                        <td id=\"T_c5e7b_row15_col6\" class=\"data row15 col6\" >0.5717</td>\n",
       "                        <td id=\"T_c5e7b_row15_col7\" class=\"data row15 col7\" >0.9913</td>\n",
       "            </tr>\n",
       "            <tr>\n",
       "                        <th id=\"T_c5e7b_level0_row16\" class=\"row_heading level0 row16\" >ROW</th>\n",
       "                        <td id=\"T_c5e7b_row16_col0\" class=\"data row16 col0\" >1,008,071</td>\n",
       "                        <td id=\"T_c5e7b_row16_col1\" class=\"data row16 col1\" >0.4207</td>\n",
       "                        <td id=\"T_c5e7b_row16_col2\" class=\"data row16 col2\" >0.1981</td>\n",
       "                        <td id=\"T_c5e7b_row16_col3\" class=\"data row16 col3\" >0.1000</td>\n",
       "                        <td id=\"T_c5e7b_row16_col4\" class=\"data row16 col4\" >0.2643</td>\n",
       "                        <td id=\"T_c5e7b_row16_col5\" class=\"data row16 col5\" >0.3922</td>\n",
       "                        <td id=\"T_c5e7b_row16_col6\" class=\"data row16 col6\" >0.5618</td>\n",
       "                        <td id=\"T_c5e7b_row16_col7\" class=\"data row16 col7\" >0.9933</td>\n",
       "            </tr>\n",
       "            <tr>\n",
       "                        <th id=\"T_c5e7b_level0_row17\" class=\"row_heading level0 row17\" >CH</th>\n",
       "                        <td id=\"T_c5e7b_row17_col0\" class=\"data row17 col0\" >94,780</td>\n",
       "                        <td id=\"T_c5e7b_row17_col1\" class=\"data row17 col1\" >0.3838</td>\n",
       "                        <td id=\"T_c5e7b_row17_col2\" class=\"data row17 col2\" >0.1872</td>\n",
       "                        <td id=\"T_c5e7b_row17_col3\" class=\"data row17 col3\" >0.1000</td>\n",
       "                        <td id=\"T_c5e7b_row17_col4\" class=\"data row17 col4\" >0.2380</td>\n",
       "                        <td id=\"T_c5e7b_row17_col5\" class=\"data row17 col5\" >0.3646</td>\n",
       "                        <td id=\"T_c5e7b_row17_col6\" class=\"data row17 col6\" >0.5095</td>\n",
       "                        <td id=\"T_c5e7b_row17_col7\" class=\"data row17 col7\" >0.9950</td>\n",
       "            </tr>\n",
       "            <tr>\n",
       "                        <th id=\"T_c5e7b_level0_row18\" class=\"row_heading level0 row18\" >AT</th>\n",
       "                        <td id=\"T_c5e7b_row18_col0\" class=\"data row18 col0\" >151,922</td>\n",
       "                        <td id=\"T_c5e7b_row18_col1\" class=\"data row18 col1\" >0.3851</td>\n",
       "                        <td id=\"T_c5e7b_row18_col2\" class=\"data row18 col2\" >0.1928</td>\n",
       "                        <td id=\"T_c5e7b_row18_col3\" class=\"data row18 col3\" >0.1000</td>\n",
       "                        <td id=\"T_c5e7b_row18_col4\" class=\"data row18 col4\" >0.2419</td>\n",
       "                        <td id=\"T_c5e7b_row18_col5\" class=\"data row18 col5\" >0.3570</td>\n",
       "                        <td id=\"T_c5e7b_row18_col6\" class=\"data row18 col6\" >0.4976</td>\n",
       "                        <td id=\"T_c5e7b_row18_col7\" class=\"data row18 col7\" >0.9926</td>\n",
       "            </tr>\n",
       "            <tr>\n",
       "                        <th id=\"T_c5e7b_level0_row19\" class=\"row_heading level0 row19\" >MISSING</th>\n",
       "                        <td id=\"T_c5e7b_row19_col0\" class=\"data row19 col0\" >548,567</td>\n",
       "                        <td id=\"T_c5e7b_row19_col1\" class=\"data row19 col1\" >0.3081</td>\n",
       "                        <td id=\"T_c5e7b_row19_col2\" class=\"data row19 col2\" >0.1229</td>\n",
       "                        <td id=\"T_c5e7b_row19_col3\" class=\"data row19 col3\" >0.1000</td>\n",
       "                        <td id=\"T_c5e7b_row19_col4\" class=\"data row19 col4\" >0.2113</td>\n",
       "                        <td id=\"T_c5e7b_row19_col5\" class=\"data row19 col5\" >0.2983</td>\n",
       "                        <td id=\"T_c5e7b_row19_col6\" class=\"data row19 col6\" >0.3912</td>\n",
       "                        <td id=\"T_c5e7b_row19_col7\" class=\"data row19 col7\" >0.9247</td>\n",
       "            </tr>\n",
       "    </tbody></table>"
      ],
      "text/plain": [
       "<pandas.io.formats.style.Styler at 0x7ef2427912d0>"
      ]
     },
     "metadata": {},
     "output_type": "display_data"
    }
   ],
   "source": [
    "display(\n",
    "    style_df_numeric(\n",
    "        df_pred\n",
    "        .groupby(['geo_country_code_top'])\n",
    "        [c_pred_proba]\n",
    "        .describe(\n",
    "            # percentiles=[0.1, 0.2, 0.25, 0.3, 0.4, 0.5, 0.6, 0.7, 0.75, 0.8, 0.9, 0.95, 0.99]\n",
    "        )\n",
    "        .sort_values(by=['50%'], ascending=False)\n",
    "        ,\n",
    "        float_round=4,\n",
    "        l_bar_simple=['mean', '50%']\n",
    "    ).set_caption(f\"All users\")\n",
    ")\n",
    "\n",
    "display(\n",
    "    style_df_numeric(\n",
    "        df_pred\n",
    "        [mask_pred_above_0100 & mask_rank_below_500k]\n",
    "        .groupby(['geo_country_code_top'])\n",
    "        [c_pred_proba]\n",
    "        .describe(\n",
    "            # percentiles=[0.1, 0.2, 0.25, 0.3, 0.4, 0.5, 0.6, 0.7, 0.75, 0.8, 0.9, 0.95, 0.99]\n",
    "        )\n",
    "        .sort_values(by=['50%'], ascending=False)\n",
    "        ,\n",
    "        float_round=4,\n",
    "        l_bar_simple=['mean', '50%']\n",
    "    ).set_caption(f\"Users below 500k rank AND above 0.100 Threshold\")\n",
    ")"
   ]
  },
  {
   "cell_type": "markdown",
   "id": "0f97e577",
   "metadata": {},
   "source": [
    "# Reshape data for inference"
   ]
  },
  {
   "cell_type": "code",
   "execution_count": 18,
   "id": "51b15f8a",
   "metadata": {},
   "outputs": [
    {
     "name": "stdout",
     "output_type": "stream",
     "text": [
      "21\n",
      "CPU times: user 70 µs, sys: 40 µs, total: 110 µs\n",
      "Wall time: 119 µs\n"
     ]
    }
   ],
   "source": [
    "%%time\n",
    "\n",
    "# Stop using categorical columns, instead do the numeric processing in SQL to make sure\n",
    "#  that the same ordinal or numeric encoding is applied upfront and on all train/test & inference values\n",
    "\n",
    "\n",
    "# ordinal & boolean columns should NOT be re-scaled\n",
    "l_train_cols_num_no_scale = [\n",
    "    'legacy_user_cohort_ord',\n",
    "]\n",
    "\n",
    "# These numeric columns are candidates to be rescaled under some pipelines\n",
    "l_train_cols_num = [\n",
    "    # user-only columns\n",
    "    'tos_30_sub_count',\n",
    "    'user_receives_pn_t7',\n",
    "    'user_clicks_pn_t7',\n",
    "    'user_clicks_trnd_t7',\n",
    "    # 'subscribed',  # Subscribed wasn't used in the previous model, but should be used going forward\n",
    "    \n",
    "    'screen_view_count_14d',\n",
    "    'num_post_consumes',\n",
    "    'num_post_consumes_home',\n",
    "    'num_post_consumes_community',\n",
    "    'num_post_consumes_post_detail',\n",
    "    'num_post_consumes_ios',\n",
    "    'num_post_consumes_android',\n",
    "    'num_post_consumes_nsfw',\n",
    "    'pct_post_consumes_nsfw',\n",
    "    \n",
    "    # user<> subreddit cols\n",
    "    'view_and_consume_unique_count',\n",
    "    'consume_unique_count',\n",
    "    'view_count',\n",
    "    'consume_count',\n",
    "    'consume_ios_count',\n",
    "    'consume_android_count',\n",
    "    'tos_30_pct',  # use 30_pct instead of cosine distance/similarity  \n",
    "]\n",
    "# For some features we want to flag nulls as negative to distinguish data missing\n",
    "#  instead of filling as zeros\n",
    "l_col_fill_neg = [\n",
    "    'tos_30_sub_count',\n",
    "    'user_receives_pn_t7',\n",
    "    'user_clicks_pn_t7',\n",
    "    'user_clicks_trnd_t7',\n",
    "    \n",
    "    'screen_view_count_14d',\n",
    "    'num_post_consumes',\n",
    "    'num_post_consumes_home',\n",
    "    'num_post_consumes_community',\n",
    "    'num_post_consumes_post_detail',\n",
    "    'num_post_consumes_ios',\n",
    "    'num_post_consumes_android',\n",
    "    'num_post_consumes_nsfw',\n",
    "    'pct_post_consumes_nsfw',\n",
    "]\n",
    "d_fillna_ = {c: -1 for c in l_col_fill_neg}\n",
    "for c_ in l_train_cols_num:\n",
    "    if c_ not in l_col_fill_neg:\n",
    "        d_fillna_[c_] = 0\n",
    "\n",
    "print(len(l_train_cols_num_no_scale + l_train_cols_num))\n",
    "# X = (\n",
    "#     # simple strategy for nulls\n",
    "#     # use column transformer to handle category cols as part of pipeline\n",
    "#     df_inf[l_train_cols_num_no_scale + l_train_cols_num].fillna(d_fillna_).copy()\n",
    "# )\n",
    "\n",
    "# print(X.shape)"
   ]
  },
  {
   "cell_type": "markdown",
   "id": "f3376363",
   "metadata": {},
   "source": [
    "# Transform & EDA"
   ]
  },
  {
   "cell_type": "markdown",
   "id": "990bde56",
   "metadata": {},
   "source": [
    "## Test logic to filter out user<>subreddit pairs that are not likely to get clicks\n",
    "\n",
    "Logic to select user<>subreddit TARGETS:\n",
    "- 2+ views (any subscription status)\n",
    "- 2+ consumes (any subscription status)\n",
    "- subscribed AND (1+ view OR consume)\n",
    "- subscribed AND (3+ PN clicks in L7 days) \n",
    "\n",
    "TODO(djb): apply this logic in SQL once we know it's good so that we can save a lot of compute on getting training data & on inference.\n"
   ]
  },
  {
   "cell_type": "markdown",
   "id": "1410a8ef",
   "metadata": {},
   "source": [
    "## Some EDA"
   ]
  },
  {
   "cell_type": "code",
   "execution_count": 17,
   "id": "38c0335a",
   "metadata": {},
   "outputs": [
    {
     "name": "stdout",
     "output_type": "stream",
     "text": [
      "CPU times: user 4 µs, sys: 1e+03 ns, total: 5 µs\n",
      "Wall time: 9.06 µs\n"
     ]
    }
   ],
   "source": [
    "%%time\n",
    "\n",
    "# counts_describe(df_inf)"
   ]
  },
  {
   "cell_type": "markdown",
   "id": "0b05ece0",
   "metadata": {},
   "source": [
    "## Click (CTR)\n",
    "Since we're looking only at user that RECEIVED the PN, this CTR should be the same as the one computed in the overall dashboard."
   ]
  },
  {
   "cell_type": "code",
   "execution_count": 18,
   "id": "47c1fc35",
   "metadata": {},
   "outputs": [
    {
     "data": {
      "text/html": [
       "<style  type=\"text/css\" >\n",
       "#T_ab304_row0_col1,#T_ab304_row0_col2{\n",
       "            width:  10em;\n",
       "             height:  80%;\n",
       "        }#T_ab304_row1_col1,#T_ab304_row1_col2{\n",
       "            width:  10em;\n",
       "             height:  80%;\n",
       "            background:  linear-gradient(90deg,#95cff5 100.0%, transparent 100.0%);\n",
       "        }</style><table id=\"T_ab304_\" ><thead>    <tr>        <th class=\"blank level0\" ></th>        <th class=\"col_heading level0 col0\" >count</th>        <th class=\"col_heading level0 col1\" >percent</th>        <th class=\"col_heading level0 col2\" >cumulative_percent</th>    </tr>    <tr>        <th class=\"index_name level0\" >click</th>        <th class=\"blank\" ></th>        <th class=\"blank\" ></th>        <th class=\"blank\" ></th>    </tr></thead><tbody>\n",
       "                <tr>\n",
       "                        <th id=\"T_ab304_level0_row0\" class=\"row_heading level0 row0\" >1</th>\n",
       "                        <td id=\"T_ab304_row0_col0\" class=\"data row0 col0\" >9,746</td>\n",
       "                        <td id=\"T_ab304_row0_col1\" class=\"data row0 col1\" >6.543%</td>\n",
       "                        <td id=\"T_ab304_row0_col2\" class=\"data row0 col2\" >6.543%</td>\n",
       "            </tr>\n",
       "            <tr>\n",
       "                        <th id=\"T_ab304_level0_row1\" class=\"row_heading level0 row1\" >0</th>\n",
       "                        <td id=\"T_ab304_row1_col0\" class=\"data row1 col0\" >139,204</td>\n",
       "                        <td id=\"T_ab304_row1_col1\" class=\"data row1 col1\" >93.457%</td>\n",
       "                        <td id=\"T_ab304_row1_col2\" class=\"data row1 col2\" >100.000%</td>\n",
       "            </tr>\n",
       "    </tbody></table>"
      ],
      "text/plain": [
       "<pandas.io.formats.style.Styler at 0x7ef6011127d0>"
      ]
     },
     "execution_count": 18,
     "metadata": {},
     "output_type": "execute_result"
    }
   ],
   "source": [
    "value_counts_and_pcts(\n",
    "    df_inf[df_inf['receive'] == 1],\n",
    "    ['click'],\n",
    "    sort_index=True,\n",
    "    top_n=None,\n",
    "    pct_digits=3,\n",
    ")"
   ]
  },
  {
   "cell_type": "markdown",
   "id": "84f837a1",
   "metadata": {},
   "source": [
    "## Geo + Subreddit counts\n",
    "\n",
    "As expected, `DE` contributes a large # of users, but the US provides even more! RoW (Rest of world) also provides 9% of the sample with a longer tail of other countries."
   ]
  },
  {
   "cell_type": "code",
   "execution_count": 19,
   "id": "24c6a868",
   "metadata": {},
   "outputs": [
    {
     "name": "stdout",
     "output_type": "stream",
     "text": [
      "CPU times: user 1.65 s, sys: 284 ms, total: 1.93 s\n",
      "Wall time: 1.93 s\n"
     ]
    },
    {
     "data": {
      "text/html": [
       "<style  type=\"text/css\" >\n",
       "#T_3f84d_row0_col1,#T_3f84d_row19_col2{\n",
       "            width:  10em;\n",
       "             height:  80%;\n",
       "            background:  linear-gradient(90deg,#95cff5 100.0%, transparent 100.0%);\n",
       "        }#T_3f84d_row0_col2,#T_3f84d_row19_col1{\n",
       "            width:  10em;\n",
       "             height:  80%;\n",
       "        }#T_3f84d_row1_col1,#T_3f84d_row9_col2{\n",
       "            width:  10em;\n",
       "             height:  80%;\n",
       "            background:  linear-gradient(90deg,#95cff5 93.5%, transparent 93.5%);\n",
       "        }#T_3f84d_row1_col2{\n",
       "            width:  10em;\n",
       "             height:  80%;\n",
       "            background:  linear-gradient(90deg,#95cff5 54.3%, transparent 54.3%);\n",
       "        }#T_3f84d_row2_col1{\n",
       "            width:  10em;\n",
       "             height:  80%;\n",
       "            background:  linear-gradient(90deg,#95cff5 24.2%, transparent 24.2%);\n",
       "        }#T_3f84d_row2_col2{\n",
       "            width:  10em;\n",
       "             height:  80%;\n",
       "            background:  linear-gradient(90deg,#95cff5 68.5%, transparent 68.5%);\n",
       "        }#T_3f84d_row3_col1{\n",
       "            width:  10em;\n",
       "             height:  80%;\n",
       "            background:  linear-gradient(90deg,#95cff5 9.9%, transparent 9.9%);\n",
       "        }#T_3f84d_row3_col2{\n",
       "            width:  10em;\n",
       "             height:  80%;\n",
       "            background:  linear-gradient(90deg,#95cff5 74.4%, transparent 74.4%);\n",
       "        }#T_3f84d_row4_col1{\n",
       "            width:  10em;\n",
       "             height:  80%;\n",
       "            background:  linear-gradient(90deg,#95cff5 9.3%, transparent 9.3%);\n",
       "        }#T_3f84d_row4_col2{\n",
       "            width:  10em;\n",
       "             height:  80%;\n",
       "            background:  linear-gradient(90deg,#95cff5 80.0%, transparent 80.0%);\n",
       "        }#T_3f84d_row5_col1{\n",
       "            width:  10em;\n",
       "             height:  80%;\n",
       "            background:  linear-gradient(90deg,#95cff5 9.0%, transparent 9.0%);\n",
       "        }#T_3f84d_row5_col2{\n",
       "            width:  10em;\n",
       "             height:  80%;\n",
       "            background:  linear-gradient(90deg,#95cff5 85.4%, transparent 85.4%);\n",
       "        }#T_3f84d_row6_col1{\n",
       "            width:  10em;\n",
       "             height:  80%;\n",
       "            background:  linear-gradient(90deg,#95cff5 4.1%, transparent 4.1%);\n",
       "        }#T_3f84d_row6_col2{\n",
       "            width:  10em;\n",
       "             height:  80%;\n",
       "            background:  linear-gradient(90deg,#95cff5 87.9%, transparent 87.9%);\n",
       "        }#T_3f84d_row7_col1{\n",
       "            width:  10em;\n",
       "             height:  80%;\n",
       "            background:  linear-gradient(90deg,#95cff5 3.4%, transparent 3.4%);\n",
       "        }#T_3f84d_row7_col2{\n",
       "            width:  10em;\n",
       "             height:  80%;\n",
       "            background:  linear-gradient(90deg,#95cff5 90.1%, transparent 90.1%);\n",
       "        }#T_3f84d_row8_col1{\n",
       "            width:  10em;\n",
       "             height:  80%;\n",
       "            background:  linear-gradient(90deg,#95cff5 3.3%, transparent 3.3%);\n",
       "        }#T_3f84d_row8_col2{\n",
       "            width:  10em;\n",
       "             height:  80%;\n",
       "            background:  linear-gradient(90deg,#95cff5 92.2%, transparent 92.2%);\n",
       "        }#T_3f84d_row9_col1{\n",
       "            width:  10em;\n",
       "             height:  80%;\n",
       "            background:  linear-gradient(90deg,#95cff5 1.9%, transparent 1.9%);\n",
       "        }#T_3f84d_row10_col1,#T_3f84d_row11_col1{\n",
       "            width:  10em;\n",
       "             height:  80%;\n",
       "            background:  linear-gradient(90deg,#95cff5 1.7%, transparent 1.7%);\n",
       "        }#T_3f84d_row10_col2{\n",
       "            width:  10em;\n",
       "             height:  80%;\n",
       "            background:  linear-gradient(90deg,#95cff5 94.7%, transparent 94.7%);\n",
       "        }#T_3f84d_row11_col2{\n",
       "            width:  10em;\n",
       "             height:  80%;\n",
       "            background:  linear-gradient(90deg,#95cff5 95.9%, transparent 95.9%);\n",
       "        }#T_3f84d_row12_col1{\n",
       "            width:  10em;\n",
       "             height:  80%;\n",
       "            background:  linear-gradient(90deg,#95cff5 1.3%, transparent 1.3%);\n",
       "        }#T_3f84d_row12_col2{\n",
       "            width:  10em;\n",
       "             height:  80%;\n",
       "            background:  linear-gradient(90deg,#95cff5 96.9%, transparent 96.9%);\n",
       "        }#T_3f84d_row13_col1{\n",
       "            width:  10em;\n",
       "             height:  80%;\n",
       "            background:  linear-gradient(90deg,#95cff5 0.7%, transparent 0.7%);\n",
       "        }#T_3f84d_row13_col2{\n",
       "            width:  10em;\n",
       "             height:  80%;\n",
       "            background:  linear-gradient(90deg,#95cff5 97.5%, transparent 97.5%);\n",
       "        }#T_3f84d_row14_col1,#T_3f84d_row15_col1,#T_3f84d_row16_col1{\n",
       "            width:  10em;\n",
       "             height:  80%;\n",
       "            background:  linear-gradient(90deg,#95cff5 0.6%, transparent 0.6%);\n",
       "        }#T_3f84d_row14_col2{\n",
       "            width:  10em;\n",
       "             height:  80%;\n",
       "            background:  linear-gradient(90deg,#95cff5 98.0%, transparent 98.0%);\n",
       "        }#T_3f84d_row15_col2{\n",
       "            width:  10em;\n",
       "             height:  80%;\n",
       "            background:  linear-gradient(90deg,#95cff5 98.5%, transparent 98.5%);\n",
       "        }#T_3f84d_row16_col2{\n",
       "            width:  10em;\n",
       "             height:  80%;\n",
       "            background:  linear-gradient(90deg,#95cff5 99.1%, transparent 99.1%);\n",
       "        }#T_3f84d_row17_col1,#T_3f84d_row18_col1{\n",
       "            width:  10em;\n",
       "             height:  80%;\n",
       "            background:  linear-gradient(90deg,#95cff5 0.3%, transparent 0.3%);\n",
       "        }#T_3f84d_row17_col2{\n",
       "            width:  10em;\n",
       "             height:  80%;\n",
       "            background:  linear-gradient(90deg,#95cff5 99.5%, transparent 99.5%);\n",
       "        }#T_3f84d_row18_col2{\n",
       "            width:  10em;\n",
       "             height:  80%;\n",
       "            background:  linear-gradient(90deg,#95cff5 99.8%, transparent 99.8%);\n",
       "        }</style><table id=\"T_3f84d_\" ><thead>    <tr>        <th class=\"blank level0\" ></th>        <th class=\"col_heading level0 col0\" >count</th>        <th class=\"col_heading level0 col1\" >percent</th>        <th class=\"col_heading level0 col2\" >cumulative_percent</th>    </tr>    <tr>        <th class=\"index_name level0\" >geo_country_code_top</th>        <th class=\"blank\" ></th>        <th class=\"blank\" ></th>        <th class=\"blank\" ></th>    </tr></thead><tbody>\n",
       "                <tr>\n",
       "                        <th id=\"T_3f84d_level0_row0\" class=\"row_heading level0 row0\" >US</th>\n",
       "                        <td id=\"T_3f84d_row0_col0\" class=\"data row0 col0\" >6,420,802</td>\n",
       "                        <td id=\"T_3f84d_row0_col1\" class=\"data row0 col1\" >36.7%</td>\n",
       "                        <td id=\"T_3f84d_row0_col2\" class=\"data row0 col2\" >36.7%</td>\n",
       "            </tr>\n",
       "            <tr>\n",
       "                        <th id=\"T_3f84d_level0_row1\" class=\"row_heading level0 row1\" >DE</th>\n",
       "                        <td id=\"T_3f84d_row1_col0\" class=\"data row1 col0\" >6,006,565</td>\n",
       "                        <td id=\"T_3f84d_row1_col1\" class=\"data row1 col1\" >34.3%</td>\n",
       "                        <td id=\"T_3f84d_row1_col2\" class=\"data row1 col2\" >71.1%</td>\n",
       "            </tr>\n",
       "            <tr>\n",
       "                        <th id=\"T_3f84d_level0_row2\" class=\"row_heading level0 row2\" >ROW</th>\n",
       "                        <td id=\"T_3f84d_row2_col0\" class=\"data row2 col0\" >1,571,790</td>\n",
       "                        <td id=\"T_3f84d_row2_col1\" class=\"data row2 col1\" >9.0%</td>\n",
       "                        <td id=\"T_3f84d_row2_col2\" class=\"data row2 col2\" >80.1%</td>\n",
       "            </tr>\n",
       "            <tr>\n",
       "                        <th id=\"T_3f84d_level0_row3\" class=\"row_heading level0 row3\" >MISSING</th>\n",
       "                        <td id=\"T_3f84d_row3_col0\" class=\"data row3 col0\" >653,018</td>\n",
       "                        <td id=\"T_3f84d_row3_col1\" class=\"data row3 col1\" >3.7%</td>\n",
       "                        <td id=\"T_3f84d_row3_col2\" class=\"data row3 col2\" >83.8%</td>\n",
       "            </tr>\n",
       "            <tr>\n",
       "                        <th id=\"T_3f84d_level0_row4\" class=\"row_heading level0 row4\" >CA</th>\n",
       "                        <td id=\"T_3f84d_row4_col0\" class=\"data row4 col0\" >618,069</td>\n",
       "                        <td id=\"T_3f84d_row4_col1\" class=\"data row4 col1\" >3.5%</td>\n",
       "                        <td id=\"T_3f84d_row4_col2\" class=\"data row4 col2\" >87.3%</td>\n",
       "            </tr>\n",
       "            <tr>\n",
       "                        <th id=\"T_3f84d_level0_row5\" class=\"row_heading level0 row5\" >GB</th>\n",
       "                        <td id=\"T_3f84d_row5_col0\" class=\"data row5 col0\" >599,161</td>\n",
       "                        <td id=\"T_3f84d_row5_col1\" class=\"data row5 col1\" >3.4%</td>\n",
       "                        <td id=\"T_3f84d_row5_col2\" class=\"data row5 col2\" >90.8%</td>\n",
       "            </tr>\n",
       "            <tr>\n",
       "                        <th id=\"T_3f84d_level0_row6\" class=\"row_heading level0 row6\" >AU</th>\n",
       "                        <td id=\"T_3f84d_row6_col0\" class=\"data row6 col0\" >282,175</td>\n",
       "                        <td id=\"T_3f84d_row6_col1\" class=\"data row6 col1\" >1.6%</td>\n",
       "                        <td id=\"T_3f84d_row6_col2\" class=\"data row6 col2\" >92.4%</td>\n",
       "            </tr>\n",
       "            <tr>\n",
       "                        <th id=\"T_3f84d_level0_row7\" class=\"row_heading level0 row7\" >AT</th>\n",
       "                        <td id=\"T_3f84d_row7_col0\" class=\"data row7 col0\" >240,252</td>\n",
       "                        <td id=\"T_3f84d_row7_col1\" class=\"data row7 col1\" >1.4%</td>\n",
       "                        <td id=\"T_3f84d_row7_col2\" class=\"data row7 col2\" >93.7%</td>\n",
       "            </tr>\n",
       "            <tr>\n",
       "                        <th id=\"T_3f84d_level0_row8\" class=\"row_heading level0 row8\" >NL</th>\n",
       "                        <td id=\"T_3f84d_row8_col0\" class=\"data row8 col0\" >235,947</td>\n",
       "                        <td id=\"T_3f84d_row8_col1\" class=\"data row8 col1\" >1.3%</td>\n",
       "                        <td id=\"T_3f84d_row8_col2\" class=\"data row8 col2\" >95.1%</td>\n",
       "            </tr>\n",
       "            <tr>\n",
       "                        <th id=\"T_3f84d_level0_row9\" class=\"row_heading level0 row9\" >CH</th>\n",
       "                        <td id=\"T_3f84d_row9_col0\" class=\"data row9 col0\" >144,896</td>\n",
       "                        <td id=\"T_3f84d_row9_col1\" class=\"data row9 col1\" >0.8%</td>\n",
       "                        <td id=\"T_3f84d_row9_col2\" class=\"data row9 col2\" >95.9%</td>\n",
       "            </tr>\n",
       "            <tr>\n",
       "                        <th id=\"T_3f84d_level0_row10\" class=\"row_heading level0 row10\" >IN</th>\n",
       "                        <td id=\"T_3f84d_row10_col0\" class=\"data row10 col0\" >131,692</td>\n",
       "                        <td id=\"T_3f84d_row10_col1\" class=\"data row10 col1\" >0.8%</td>\n",
       "                        <td id=\"T_3f84d_row10_col2\" class=\"data row10 col2\" >96.7%</td>\n",
       "            </tr>\n",
       "            <tr>\n",
       "                        <th id=\"T_3f84d_level0_row11\" class=\"row_heading level0 row11\" >FR</th>\n",
       "                        <td id=\"T_3f84d_row11_col0\" class=\"data row11 col0\" >130,767</td>\n",
       "                        <td id=\"T_3f84d_row11_col1\" class=\"data row11 col1\" >0.7%</td>\n",
       "                        <td id=\"T_3f84d_row11_col2\" class=\"data row11 col2\" >97.4%</td>\n",
       "            </tr>\n",
       "            <tr>\n",
       "                        <th id=\"T_3f84d_level0_row12\" class=\"row_heading level0 row12\" >BR</th>\n",
       "                        <td id=\"T_3f84d_row12_col0\" class=\"data row12 col0\" >104,395</td>\n",
       "                        <td id=\"T_3f84d_row12_col1\" class=\"data row12 col1\" >0.6%</td>\n",
       "                        <td id=\"T_3f84d_row12_col2\" class=\"data row12 col2\" >98.0%</td>\n",
       "            </tr>\n",
       "            <tr>\n",
       "                        <th id=\"T_3f84d_level0_row13\" class=\"row_heading level0 row13\" >ES</th>\n",
       "                        <td id=\"T_3f84d_row13_col0\" class=\"data row13 col0\" >65,025</td>\n",
       "                        <td id=\"T_3f84d_row13_col1\" class=\"data row13 col1\" >0.4%</td>\n",
       "                        <td id=\"T_3f84d_row13_col2\" class=\"data row13 col2\" >98.4%</td>\n",
       "            </tr>\n",
       "            <tr>\n",
       "                        <th id=\"T_3f84d_level0_row14\" class=\"row_heading level0 row14\" >IE</th>\n",
       "                        <td id=\"T_3f84d_row14_col0\" class=\"data row14 col0\" >62,482</td>\n",
       "                        <td id=\"T_3f84d_row14_col1\" class=\"data row14 col1\" >0.4%</td>\n",
       "                        <td id=\"T_3f84d_row14_col2\" class=\"data row14 col2\" >98.7%</td>\n",
       "            </tr>\n",
       "            <tr>\n",
       "                        <th id=\"T_3f84d_level0_row15\" class=\"row_heading level0 row15\" >IT</th>\n",
       "                        <td id=\"T_3f84d_row15_col0\" class=\"data row15 col0\" >58,498</td>\n",
       "                        <td id=\"T_3f84d_row15_col1\" class=\"data row15 col1\" >0.3%</td>\n",
       "                        <td id=\"T_3f84d_row15_col2\" class=\"data row15 col2\" >99.1%</td>\n",
       "            </tr>\n",
       "            <tr>\n",
       "                        <th id=\"T_3f84d_level0_row16\" class=\"row_heading level0 row16\" >MX</th>\n",
       "                        <td id=\"T_3f84d_row16_col0\" class=\"data row16 col0\" >58,348</td>\n",
       "                        <td id=\"T_3f84d_row16_col1\" class=\"data row16 col1\" >0.3%</td>\n",
       "                        <td id=\"T_3f84d_row16_col2\" class=\"data row16 col2\" >99.4%</td>\n",
       "            </tr>\n",
       "            <tr>\n",
       "                        <th id=\"T_3f84d_level0_row17\" class=\"row_heading level0 row17\" >PH</th>\n",
       "                        <td id=\"T_3f84d_row17_col0\" class=\"data row17 col0\" >42,307</td>\n",
       "                        <td id=\"T_3f84d_row17_col1\" class=\"data row17 col1\" >0.2%</td>\n",
       "                        <td id=\"T_3f84d_row17_col2\" class=\"data row17 col2\" >99.7%</td>\n",
       "            </tr>\n",
       "            <tr>\n",
       "                        <th id=\"T_3f84d_level0_row18\" class=\"row_heading level0 row18\" >PT</th>\n",
       "                        <td id=\"T_3f84d_row18_col0\" class=\"data row18 col0\" >38,341</td>\n",
       "                        <td id=\"T_3f84d_row18_col1\" class=\"data row18 col1\" >0.2%</td>\n",
       "                        <td id=\"T_3f84d_row18_col2\" class=\"data row18 col2\" >99.9%</td>\n",
       "            </tr>\n",
       "            <tr>\n",
       "                        <th id=\"T_3f84d_level0_row19\" class=\"row_heading level0 row19\" >AR</th>\n",
       "                        <td id=\"T_3f84d_row19_col0\" class=\"data row19 col0\" >22,148</td>\n",
       "                        <td id=\"T_3f84d_row19_col1\" class=\"data row19 col1\" >0.1%</td>\n",
       "                        <td id=\"T_3f84d_row19_col2\" class=\"data row19 col2\" >100.0%</td>\n",
       "            </tr>\n",
       "    </tbody></table>"
      ],
      "text/plain": [
       "<pandas.io.formats.style.Styler at 0x7ef6011116d0>"
      ]
     },
     "execution_count": 19,
     "metadata": {},
     "output_type": "execute_result"
    }
   ],
   "source": [
    "%%time\n",
    "\n",
    "value_counts_and_pcts(\n",
    "    df_inf,\n",
    "    ['geo_country_code_top',],\n",
    "#     sort_index=True,\n",
    "#     sort_index_ascending=False,\n",
    "#     reset_index=True,\n",
    "    top_n=None,\n",
    "#     return_df=True\n",
    ")"
   ]
  },
  {
   "cell_type": "code",
   "execution_count": 20,
   "id": "44f26cdc",
   "metadata": {},
   "outputs": [
    {
     "data": {
      "text/html": [
       "<style  type=\"text/css\" >\n",
       "#T_52d1c_row0_col1,#T_52d1c_row19_col2{\n",
       "            width:  10em;\n",
       "             height:  80%;\n",
       "            background:  linear-gradient(90deg,#95cff5 100.0%, transparent 100.0%);\n",
       "        }#T_52d1c_row0_col2,#T_52d1c_row19_col1{\n",
       "            width:  10em;\n",
       "             height:  80%;\n",
       "        }#T_52d1c_row1_col1{\n",
       "            width:  10em;\n",
       "             height:  80%;\n",
       "            background:  linear-gradient(90deg,#95cff5 80.7%, transparent 80.7%);\n",
       "        }#T_52d1c_row1_col2{\n",
       "            width:  10em;\n",
       "             height:  80%;\n",
       "            background:  linear-gradient(90deg,#95cff5 50.1%, transparent 50.1%);\n",
       "        }#T_52d1c_row2_col1{\n",
       "            width:  10em;\n",
       "             height:  80%;\n",
       "            background:  linear-gradient(90deg,#95cff5 24.7%, transparent 24.7%);\n",
       "        }#T_52d1c_row2_col2{\n",
       "            width:  10em;\n",
       "             height:  80%;\n",
       "            background:  linear-gradient(90deg,#95cff5 65.6%, transparent 65.6%);\n",
       "        }#T_52d1c_row3_col1{\n",
       "            width:  10em;\n",
       "             height:  80%;\n",
       "            background:  linear-gradient(90deg,#95cff5 9.8%, transparent 9.8%);\n",
       "        }#T_52d1c_row3_col2{\n",
       "            width:  10em;\n",
       "             height:  80%;\n",
       "            background:  linear-gradient(90deg,#95cff5 71.9%, transparent 71.9%);\n",
       "        }#T_52d1c_row4_col1{\n",
       "            width:  10em;\n",
       "             height:  80%;\n",
       "            background:  linear-gradient(90deg,#95cff5 9.5%, transparent 9.5%);\n",
       "        }#T_52d1c_row4_col2{\n",
       "            width:  10em;\n",
       "             height:  80%;\n",
       "            background:  linear-gradient(90deg,#95cff5 78.0%, transparent 78.0%);\n",
       "        }#T_52d1c_row5_col1{\n",
       "            width:  10em;\n",
       "             height:  80%;\n",
       "            background:  linear-gradient(90deg,#95cff5 8.9%, transparent 8.9%);\n",
       "        }#T_52d1c_row5_col2{\n",
       "            width:  10em;\n",
       "             height:  80%;\n",
       "            background:  linear-gradient(90deg,#95cff5 83.7%, transparent 83.7%);\n",
       "        }#T_52d1c_row6_col1{\n",
       "            width:  10em;\n",
       "             height:  80%;\n",
       "            background:  linear-gradient(90deg,#95cff5 4.1%, transparent 4.1%);\n",
       "        }#T_52d1c_row6_col2{\n",
       "            width:  10em;\n",
       "             height:  80%;\n",
       "            background:  linear-gradient(90deg,#95cff5 86.5%, transparent 86.5%);\n",
       "        }#T_52d1c_row7_col1{\n",
       "            width:  10em;\n",
       "             height:  80%;\n",
       "            background:  linear-gradient(90deg,#95cff5 3.5%, transparent 3.5%);\n",
       "        }#T_52d1c_row7_col2{\n",
       "            width:  10em;\n",
       "             height:  80%;\n",
       "            background:  linear-gradient(90deg,#95cff5 89.0%, transparent 89.0%);\n",
       "        }#T_52d1c_row8_col1{\n",
       "            width:  10em;\n",
       "             height:  80%;\n",
       "            background:  linear-gradient(90deg,#95cff5 3.3%, transparent 3.3%);\n",
       "        }#T_52d1c_row8_col2{\n",
       "            width:  10em;\n",
       "             height:  80%;\n",
       "            background:  linear-gradient(90deg,#95cff5 91.3%, transparent 91.3%);\n",
       "        }#T_52d1c_row9_col1{\n",
       "            width:  10em;\n",
       "             height:  80%;\n",
       "            background:  linear-gradient(90deg,#95cff5 2.0%, transparent 2.0%);\n",
       "        }#T_52d1c_row9_col2{\n",
       "            width:  10em;\n",
       "             height:  80%;\n",
       "            background:  linear-gradient(90deg,#95cff5 92.7%, transparent 92.7%);\n",
       "        }#T_52d1c_row10_col1{\n",
       "            width:  10em;\n",
       "             height:  80%;\n",
       "            background:  linear-gradient(90deg,#95cff5 1.8%, transparent 1.8%);\n",
       "        }#T_52d1c_row10_col2{\n",
       "            width:  10em;\n",
       "             height:  80%;\n",
       "            background:  linear-gradient(90deg,#95cff5 94.1%, transparent 94.1%);\n",
       "        }#T_52d1c_row11_col1{\n",
       "            width:  10em;\n",
       "             height:  80%;\n",
       "            background:  linear-gradient(90deg,#95cff5 1.7%, transparent 1.7%);\n",
       "        }#T_52d1c_row11_col2{\n",
       "            width:  10em;\n",
       "             height:  80%;\n",
       "            background:  linear-gradient(90deg,#95cff5 95.4%, transparent 95.4%);\n",
       "        }#T_52d1c_row12_col1{\n",
       "            width:  10em;\n",
       "             height:  80%;\n",
       "            background:  linear-gradient(90deg,#95cff5 1.2%, transparent 1.2%);\n",
       "        }#T_52d1c_row12_col2{\n",
       "            width:  10em;\n",
       "             height:  80%;\n",
       "            background:  linear-gradient(90deg,#95cff5 96.4%, transparent 96.4%);\n",
       "        }#T_52d1c_row13_col1{\n",
       "            width:  10em;\n",
       "             height:  80%;\n",
       "            background:  linear-gradient(90deg,#95cff5 0.7%, transparent 0.7%);\n",
       "        }#T_52d1c_row13_col2{\n",
       "            width:  10em;\n",
       "             height:  80%;\n",
       "            background:  linear-gradient(90deg,#95cff5 97.1%, transparent 97.1%);\n",
       "        }#T_52d1c_row14_col1,#T_52d1c_row15_col1,#T_52d1c_row16_col1{\n",
       "            width:  10em;\n",
       "             height:  80%;\n",
       "            background:  linear-gradient(90deg,#95cff5 0.6%, transparent 0.6%);\n",
       "        }#T_52d1c_row14_col2{\n",
       "            width:  10em;\n",
       "             height:  80%;\n",
       "            background:  linear-gradient(90deg,#95cff5 97.7%, transparent 97.7%);\n",
       "        }#T_52d1c_row15_col2{\n",
       "            width:  10em;\n",
       "             height:  80%;\n",
       "            background:  linear-gradient(90deg,#95cff5 98.4%, transparent 98.4%);\n",
       "        }#T_52d1c_row16_col2{\n",
       "            width:  10em;\n",
       "             height:  80%;\n",
       "            background:  linear-gradient(90deg,#95cff5 99.0%, transparent 99.0%);\n",
       "        }#T_52d1c_row17_col1{\n",
       "            width:  10em;\n",
       "             height:  80%;\n",
       "            background:  linear-gradient(90deg,#95cff5 0.3%, transparent 0.3%);\n",
       "        }#T_52d1c_row17_col2{\n",
       "            width:  10em;\n",
       "             height:  80%;\n",
       "            background:  linear-gradient(90deg,#95cff5 99.4%, transparent 99.4%);\n",
       "        }#T_52d1c_row18_col1{\n",
       "            width:  10em;\n",
       "             height:  80%;\n",
       "            background:  linear-gradient(90deg,#95cff5 0.2%, transparent 0.2%);\n",
       "        }#T_52d1c_row18_col2{\n",
       "            width:  10em;\n",
       "             height:  80%;\n",
       "            background:  linear-gradient(90deg,#95cff5 99.7%, transparent 99.7%);\n",
       "        }</style><table id=\"T_52d1c_\" ><thead>    <tr>        <th class=\"blank\" ></th>        <th class=\"blank level0\" ></th>        <th class=\"col_heading level0 col0\" >count</th>        <th class=\"col_heading level0 col1\" >percent</th>        <th class=\"col_heading level0 col2\" >cumulative_percent</th>    </tr>    <tr>        <th class=\"index_name level0\" >target_subreddit</th>        <th class=\"index_name level1\" >geo_country_code_top</th>        <th class=\"blank\" ></th>        <th class=\"blank\" ></th>        <th class=\"blank\" ></th>    </tr></thead><tbody>\n",
       "                <tr>\n",
       "                        <th id=\"T_52d1c_level0_row0\" class=\"row_heading level0 row0\" rowspan=\"20\">de</th>\n",
       "                        <th id=\"T_52d1c_level1_row0\" class=\"row_heading level1 row0\" >US</th>\n",
       "                        <td id=\"T_52d1c_row0_col0\" class=\"data row0 col0\" >2,783,799</td>\n",
       "                        <td id=\"T_52d1c_row0_col1\" class=\"data row0 col1\" >38.3%</td>\n",
       "                        <td id=\"T_52d1c_row0_col2\" class=\"data row0 col2\" >38.3%</td>\n",
       "            </tr>\n",
       "            <tr>\n",
       "                                <th id=\"T_52d1c_level1_row1\" class=\"row_heading level1 row1\" >DE</th>\n",
       "                        <td id=\"T_52d1c_row1_col0\" class=\"data row1 col0\" >2,248,853</td>\n",
       "                        <td id=\"T_52d1c_row1_col1\" class=\"data row1 col1\" >30.9%</td>\n",
       "                        <td id=\"T_52d1c_row1_col2\" class=\"data row1 col2\" >69.2%</td>\n",
       "            </tr>\n",
       "            <tr>\n",
       "                                <th id=\"T_52d1c_level1_row2\" class=\"row_heading level1 row2\" >ROW</th>\n",
       "                        <td id=\"T_52d1c_row2_col0\" class=\"data row2 col0\" >697,542</td>\n",
       "                        <td id=\"T_52d1c_row2_col1\" class=\"data row2 col1\" >9.6%</td>\n",
       "                        <td id=\"T_52d1c_row2_col2\" class=\"data row2 col2\" >78.8%</td>\n",
       "            </tr>\n",
       "            <tr>\n",
       "                                <th id=\"T_52d1c_level1_row3\" class=\"row_heading level1 row3\" >CA</th>\n",
       "                        <td id=\"T_52d1c_row3_col0\" class=\"data row3 col0\" >282,069</td>\n",
       "                        <td id=\"T_52d1c_row3_col1\" class=\"data row3 col1\" >3.9%</td>\n",
       "                        <td id=\"T_52d1c_row3_col2\" class=\"data row3 col2\" >82.6%</td>\n",
       "            </tr>\n",
       "            <tr>\n",
       "                                <th id=\"T_52d1c_level1_row4\" class=\"row_heading level1 row4\" >GB</th>\n",
       "                        <td id=\"T_52d1c_row4_col0\" class=\"data row4 col0\" >273,896</td>\n",
       "                        <td id=\"T_52d1c_row4_col1\" class=\"data row4 col1\" >3.8%</td>\n",
       "                        <td id=\"T_52d1c_row4_col2\" class=\"data row4 col2\" >86.4%</td>\n",
       "            </tr>\n",
       "            <tr>\n",
       "                                <th id=\"T_52d1c_level1_row5\" class=\"row_heading level1 row5\" >MISSING</th>\n",
       "                        <td id=\"T_52d1c_row5_col0\" class=\"data row5 col0\" >259,009</td>\n",
       "                        <td id=\"T_52d1c_row5_col1\" class=\"data row5 col1\" >3.6%</td>\n",
       "                        <td id=\"T_52d1c_row5_col2\" class=\"data row5 col2\" >90.0%</td>\n",
       "            </tr>\n",
       "            <tr>\n",
       "                                <th id=\"T_52d1c_level1_row6\" class=\"row_heading level1 row6\" >AU</th>\n",
       "                        <td id=\"T_52d1c_row6_col0\" class=\"data row6 col0\" >124,913</td>\n",
       "                        <td id=\"T_52d1c_row6_col1\" class=\"data row6 col1\" >1.7%</td>\n",
       "                        <td id=\"T_52d1c_row6_col2\" class=\"data row6 col2\" >91.7%</td>\n",
       "            </tr>\n",
       "            <tr>\n",
       "                                <th id=\"T_52d1c_level1_row7\" class=\"row_heading level1 row7\" >AT</th>\n",
       "                        <td id=\"T_52d1c_row7_col0\" class=\"data row7 col0\" >109,768</td>\n",
       "                        <td id=\"T_52d1c_row7_col1\" class=\"data row7 col1\" >1.5%</td>\n",
       "                        <td id=\"T_52d1c_row7_col2\" class=\"data row7 col2\" >93.2%</td>\n",
       "            </tr>\n",
       "            <tr>\n",
       "                                <th id=\"T_52d1c_level1_row8\" class=\"row_heading level1 row8\" >NL</th>\n",
       "                        <td id=\"T_52d1c_row8_col0\" class=\"data row8 col0\" >103,158</td>\n",
       "                        <td id=\"T_52d1c_row8_col1\" class=\"data row8 col1\" >1.4%</td>\n",
       "                        <td id=\"T_52d1c_row8_col2\" class=\"data row8 col2\" >94.6%</td>\n",
       "            </tr>\n",
       "            <tr>\n",
       "                                <th id=\"T_52d1c_level1_row9\" class=\"row_heading level1 row9\" >CH</th>\n",
       "                        <td id=\"T_52d1c_row9_col0\" class=\"data row9 col0\" >66,792</td>\n",
       "                        <td id=\"T_52d1c_row9_col1\" class=\"data row9 col1\" >0.9%</td>\n",
       "                        <td id=\"T_52d1c_row9_col2\" class=\"data row9 col2\" >95.5%</td>\n",
       "            </tr>\n",
       "            <tr>\n",
       "                                <th id=\"T_52d1c_level1_row10\" class=\"row_heading level1 row10\" >IN</th>\n",
       "                        <td id=\"T_52d1c_row10_col0\" class=\"data row10 col0\" >60,646</td>\n",
       "                        <td id=\"T_52d1c_row10_col1\" class=\"data row10 col1\" >0.8%</td>\n",
       "                        <td id=\"T_52d1c_row10_col2\" class=\"data row10 col2\" >96.4%</td>\n",
       "            </tr>\n",
       "            <tr>\n",
       "                                <th id=\"T_52d1c_level1_row11\" class=\"row_heading level1 row11\" >FR</th>\n",
       "                        <td id=\"T_52d1c_row11_col0\" class=\"data row11 col0\" >58,384</td>\n",
       "                        <td id=\"T_52d1c_row11_col1\" class=\"data row11 col1\" >0.8%</td>\n",
       "                        <td id=\"T_52d1c_row11_col2\" class=\"data row11 col2\" >97.2%</td>\n",
       "            </tr>\n",
       "            <tr>\n",
       "                                <th id=\"T_52d1c_level1_row12\" class=\"row_heading level1 row12\" >BR</th>\n",
       "                        <td id=\"T_52d1c_row12_col0\" class=\"data row12 col0\" >46,004</td>\n",
       "                        <td id=\"T_52d1c_row12_col1\" class=\"data row12 col1\" >0.6%</td>\n",
       "                        <td id=\"T_52d1c_row12_col2\" class=\"data row12 col2\" >97.8%</td>\n",
       "            </tr>\n",
       "            <tr>\n",
       "                                <th id=\"T_52d1c_level1_row13\" class=\"row_heading level1 row13\" >ES</th>\n",
       "                        <td id=\"T_52d1c_row13_col0\" class=\"data row13 col0\" >30,146</td>\n",
       "                        <td id=\"T_52d1c_row13_col1\" class=\"data row13 col1\" >0.4%</td>\n",
       "                        <td id=\"T_52d1c_row13_col2\" class=\"data row13 col2\" >98.2%</td>\n",
       "            </tr>\n",
       "            <tr>\n",
       "                                <th id=\"T_52d1c_level1_row14\" class=\"row_heading level1 row14\" >IE</th>\n",
       "                        <td id=\"T_52d1c_row14_col0\" class=\"data row14 col0\" >28,851</td>\n",
       "                        <td id=\"T_52d1c_row14_col1\" class=\"data row14 col1\" >0.4%</td>\n",
       "                        <td id=\"T_52d1c_row14_col2\" class=\"data row14 col2\" >98.6%</td>\n",
       "            </tr>\n",
       "            <tr>\n",
       "                                <th id=\"T_52d1c_level1_row15\" class=\"row_heading level1 row15\" >IT</th>\n",
       "                        <td id=\"T_52d1c_row15_col0\" class=\"data row15 col0\" >27,753</td>\n",
       "                        <td id=\"T_52d1c_row15_col1\" class=\"data row15 col1\" >0.4%</td>\n",
       "                        <td id=\"T_52d1c_row15_col2\" class=\"data row15 col2\" >99.0%</td>\n",
       "            </tr>\n",
       "            <tr>\n",
       "                                <th id=\"T_52d1c_level1_row16\" class=\"row_heading level1 row16\" >MX</th>\n",
       "                        <td id=\"T_52d1c_row16_col0\" class=\"data row16 col0\" >27,159</td>\n",
       "                        <td id=\"T_52d1c_row16_col1\" class=\"data row16 col1\" >0.4%</td>\n",
       "                        <td id=\"T_52d1c_row16_col2\" class=\"data row16 col2\" >99.4%</td>\n",
       "            </tr>\n",
       "            <tr>\n",
       "                                <th id=\"T_52d1c_level1_row17\" class=\"row_heading level1 row17\" >PH</th>\n",
       "                        <td id=\"T_52d1c_row17_col0\" class=\"data row17 col0\" >19,486</td>\n",
       "                        <td id=\"T_52d1c_row17_col1\" class=\"data row17 col1\" >0.3%</td>\n",
       "                        <td id=\"T_52d1c_row17_col2\" class=\"data row17 col2\" >99.6%</td>\n",
       "            </tr>\n",
       "            <tr>\n",
       "                                <th id=\"T_52d1c_level1_row18\" class=\"row_heading level1 row18\" >PT</th>\n",
       "                        <td id=\"T_52d1c_row18_col0\" class=\"data row18 col0\" >15,789</td>\n",
       "                        <td id=\"T_52d1c_row18_col1\" class=\"data row18 col1\" >0.2%</td>\n",
       "                        <td id=\"T_52d1c_row18_col2\" class=\"data row18 col2\" >99.8%</td>\n",
       "            </tr>\n",
       "            <tr>\n",
       "                                <th id=\"T_52d1c_level1_row19\" class=\"row_heading level1 row19\" >AR</th>\n",
       "                        <td id=\"T_52d1c_row19_col0\" class=\"data row19 col0\" >11,612</td>\n",
       "                        <td id=\"T_52d1c_row19_col1\" class=\"data row19 col1\" >0.2%</td>\n",
       "                        <td id=\"T_52d1c_row19_col2\" class=\"data row19 col2\" >100.0%</td>\n",
       "            </tr>\n",
       "    </tbody></table>"
      ],
      "text/plain": [
       "<pandas.io.formats.style.Styler at 0x7ef6011202d0>"
      ]
     },
     "metadata": {},
     "output_type": "display_data"
    },
    {
     "data": {
      "text/html": [
       "<style  type=\"text/css\" >\n",
       "#T_e07a5_row0_col1,#T_e07a5_row19_col2{\n",
       "            width:  10em;\n",
       "             height:  80%;\n",
       "            background:  linear-gradient(90deg,#95cff5 100.0%, transparent 100.0%);\n",
       "        }#T_e07a5_row0_col2,#T_e07a5_row19_col1{\n",
       "            width:  10em;\n",
       "             height:  80%;\n",
       "        }#T_e07a5_row1_col1{\n",
       "            width:  10em;\n",
       "             height:  80%;\n",
       "            background:  linear-gradient(90deg,#95cff5 7.9%, transparent 7.9%);\n",
       "        }#T_e07a5_row1_col2{\n",
       "            width:  10em;\n",
       "             height:  80%;\n",
       "            background:  linear-gradient(90deg,#95cff5 28.3%, transparent 28.3%);\n",
       "        }#T_e07a5_row2_col1{\n",
       "            width:  10em;\n",
       "             height:  80%;\n",
       "            background:  linear-gradient(90deg,#95cff5 5.4%, transparent 5.4%);\n",
       "        }#T_e07a5_row2_col2{\n",
       "            width:  10em;\n",
       "             height:  80%;\n",
       "            background:  linear-gradient(90deg,#95cff5 47.8%, transparent 47.8%);\n",
       "        }#T_e07a5_row3_col1{\n",
       "            width:  10em;\n",
       "             height:  80%;\n",
       "            background:  linear-gradient(90deg,#95cff5 3.7%, transparent 3.7%);\n",
       "        }#T_e07a5_row3_col2{\n",
       "            width:  10em;\n",
       "             height:  80%;\n",
       "            background:  linear-gradient(90deg,#95cff5 61.3%, transparent 61.3%);\n",
       "        }#T_e07a5_row4_col1{\n",
       "            width:  10em;\n",
       "             height:  80%;\n",
       "            background:  linear-gradient(90deg,#95cff5 3.3%, transparent 3.3%);\n",
       "        }#T_e07a5_row4_col2{\n",
       "            width:  10em;\n",
       "             height:  80%;\n",
       "            background:  linear-gradient(90deg,#95cff5 73.1%, transparent 73.1%);\n",
       "        }#T_e07a5_row5_col1{\n",
       "            width:  10em;\n",
       "             height:  80%;\n",
       "            background:  linear-gradient(90deg,#95cff5 1.4%, transparent 1.4%);\n",
       "        }#T_e07a5_row5_col2{\n",
       "            width:  10em;\n",
       "             height:  80%;\n",
       "            background:  linear-gradient(90deg,#95cff5 78.2%, transparent 78.2%);\n",
       "        }#T_e07a5_row6_col1{\n",
       "            width:  10em;\n",
       "             height:  80%;\n",
       "            background:  linear-gradient(90deg,#95cff5 1.3%, transparent 1.3%);\n",
       "        }#T_e07a5_row6_col2{\n",
       "            width:  10em;\n",
       "             height:  80%;\n",
       "            background:  linear-gradient(90deg,#95cff5 83.1%, transparent 83.1%);\n",
       "        }#T_e07a5_row7_col1{\n",
       "            width:  10em;\n",
       "             height:  80%;\n",
       "            background:  linear-gradient(90deg,#95cff5 1.0%, transparent 1.0%);\n",
       "        }#T_e07a5_row7_col2{\n",
       "            width:  10em;\n",
       "             height:  80%;\n",
       "            background:  linear-gradient(90deg,#95cff5 86.9%, transparent 86.9%);\n",
       "        }#T_e07a5_row8_col1{\n",
       "            width:  10em;\n",
       "             height:  80%;\n",
       "            background:  linear-gradient(90deg,#95cff5 0.7%, transparent 0.7%);\n",
       "        }#T_e07a5_row8_col2{\n",
       "            width:  10em;\n",
       "             height:  80%;\n",
       "            background:  linear-gradient(90deg,#95cff5 89.7%, transparent 89.7%);\n",
       "        }#T_e07a5_row9_col1{\n",
       "            width:  10em;\n",
       "             height:  80%;\n",
       "            background:  linear-gradient(90deg,#95cff5 0.5%, transparent 0.5%);\n",
       "        }#T_e07a5_row9_col2{\n",
       "            width:  10em;\n",
       "             height:  80%;\n",
       "            background:  linear-gradient(90deg,#95cff5 91.6%, transparent 91.6%);\n",
       "        }#T_e07a5_row10_col1,#T_e07a5_row11_col1{\n",
       "            width:  10em;\n",
       "             height:  80%;\n",
       "            background:  linear-gradient(90deg,#95cff5 0.4%, transparent 0.4%);\n",
       "        }#T_e07a5_row10_col2{\n",
       "            width:  10em;\n",
       "             height:  80%;\n",
       "            background:  linear-gradient(90deg,#95cff5 93.3%, transparent 93.3%);\n",
       "        }#T_e07a5_row11_col2{\n",
       "            width:  10em;\n",
       "             height:  80%;\n",
       "            background:  linear-gradient(90deg,#95cff5 94.9%, transparent 94.9%);\n",
       "        }#T_e07a5_row12_col1,#T_e07a5_row13_col1,#T_e07a5_row14_col1{\n",
       "            width:  10em;\n",
       "             height:  80%;\n",
       "            background:  linear-gradient(90deg,#95cff5 0.2%, transparent 0.2%);\n",
       "        }#T_e07a5_row12_col2{\n",
       "            width:  10em;\n",
       "             height:  80%;\n",
       "            background:  linear-gradient(90deg,#95cff5 95.9%, transparent 95.9%);\n",
       "        }#T_e07a5_row13_col2{\n",
       "            width:  10em;\n",
       "             height:  80%;\n",
       "            background:  linear-gradient(90deg,#95cff5 96.8%, transparent 96.8%);\n",
       "        }#T_e07a5_row14_col2{\n",
       "            width:  10em;\n",
       "             height:  80%;\n",
       "            background:  linear-gradient(90deg,#95cff5 97.7%, transparent 97.7%);\n",
       "        }#T_e07a5_row15_col1,#T_e07a5_row16_col1,#T_e07a5_row17_col1{\n",
       "            width:  10em;\n",
       "             height:  80%;\n",
       "            background:  linear-gradient(90deg,#95cff5 0.1%, transparent 0.1%);\n",
       "        }#T_e07a5_row15_col2{\n",
       "            width:  10em;\n",
       "             height:  80%;\n",
       "            background:  linear-gradient(90deg,#95cff5 98.3%, transparent 98.3%);\n",
       "        }#T_e07a5_row16_col2{\n",
       "            width:  10em;\n",
       "             height:  80%;\n",
       "            background:  linear-gradient(90deg,#95cff5 98.9%, transparent 98.9%);\n",
       "        }#T_e07a5_row17_col2{\n",
       "            width:  10em;\n",
       "             height:  80%;\n",
       "            background:  linear-gradient(90deg,#95cff5 99.4%, transparent 99.4%);\n",
       "        }#T_e07a5_row18_col1{\n",
       "            width:  10em;\n",
       "             height:  80%;\n",
       "            background:  linear-gradient(90deg,#95cff5 0.0%, transparent 0.0%);\n",
       "        }#T_e07a5_row18_col2{\n",
       "            width:  10em;\n",
       "             height:  80%;\n",
       "            background:  linear-gradient(90deg,#95cff5 99.8%, transparent 99.8%);\n",
       "        }</style><table id=\"T_e07a5_\" ><thead>    <tr>        <th class=\"blank\" ></th>        <th class=\"blank level0\" ></th>        <th class=\"col_heading level0 col0\" >count</th>        <th class=\"col_heading level0 col1\" >percent</th>        <th class=\"col_heading level0 col2\" >cumulative_percent</th>    </tr>    <tr>        <th class=\"index_name level0\" >target_subreddit</th>        <th class=\"index_name level1\" >geo_country_code_top</th>        <th class=\"blank\" ></th>        <th class=\"blank\" ></th>        <th class=\"blank\" ></th>    </tr></thead><tbody>\n",
       "                <tr>\n",
       "                        <th id=\"T_e07a5_level0_row0\" class=\"row_heading level0 row0\" rowspan=\"20\">fragreddit</th>\n",
       "                        <th id=\"T_e07a5_level1_row0\" class=\"row_heading level1 row0\" >DE</th>\n",
       "                        <td id=\"T_e07a5_row0_col0\" class=\"data row0 col0\" >1,734,045</td>\n",
       "                        <td id=\"T_e07a5_row0_col1\" class=\"data row0 col1\" >78.1%</td>\n",
       "                        <td id=\"T_e07a5_row0_col2\" class=\"data row0 col2\" >78.1%</td>\n",
       "            </tr>\n",
       "            <tr>\n",
       "                                <th id=\"T_e07a5_level1_row1\" class=\"row_heading level1 row1\" >US</th>\n",
       "                        <td id=\"T_e07a5_row1_col0\" class=\"data row1 col0\" >137,501</td>\n",
       "                        <td id=\"T_e07a5_row1_col1\" class=\"data row1 col1\" >6.2%</td>\n",
       "                        <td id=\"T_e07a5_row1_col2\" class=\"data row1 col2\" >84.3%</td>\n",
       "            </tr>\n",
       "            <tr>\n",
       "                                <th id=\"T_e07a5_level1_row2\" class=\"row_heading level1 row2\" >ROW</th>\n",
       "                        <td id=\"T_e07a5_row2_col0\" class=\"data row2 col0\" >95,051</td>\n",
       "                        <td id=\"T_e07a5_row2_col1\" class=\"data row2 col1\" >4.3%</td>\n",
       "                        <td id=\"T_e07a5_row2_col2\" class=\"data row2 col2\" >88.6%</td>\n",
       "            </tr>\n",
       "            <tr>\n",
       "                                <th id=\"T_e07a5_level1_row3\" class=\"row_heading level1 row3\" >MISSING</th>\n",
       "                        <td id=\"T_e07a5_row3_col0\" class=\"data row3 col0\" >65,363</td>\n",
       "                        <td id=\"T_e07a5_row3_col1\" class=\"data row3 col1\" >2.9%</td>\n",
       "                        <td id=\"T_e07a5_row3_col2\" class=\"data row3 col2\" >91.5%</td>\n",
       "            </tr>\n",
       "            <tr>\n",
       "                                <th id=\"T_e07a5_level1_row4\" class=\"row_heading level1 row4\" >AT</th>\n",
       "                        <td id=\"T_e07a5_row4_col0\" class=\"data row4 col0\" >57,727</td>\n",
       "                        <td id=\"T_e07a5_row4_col1\" class=\"data row4 col1\" >2.6%</td>\n",
       "                        <td id=\"T_e07a5_row4_col2\" class=\"data row4 col2\" >94.1%</td>\n",
       "            </tr>\n",
       "            <tr>\n",
       "                                <th id=\"T_e07a5_level1_row5\" class=\"row_heading level1 row5\" >CH</th>\n",
       "                        <td id=\"T_e07a5_row5_col0\" class=\"data row5 col0\" >24,840</td>\n",
       "                        <td id=\"T_e07a5_row5_col1\" class=\"data row5 col1\" >1.1%</td>\n",
       "                        <td id=\"T_e07a5_row5_col2\" class=\"data row5 col2\" >95.2%</td>\n",
       "            </tr>\n",
       "            <tr>\n",
       "                                <th id=\"T_e07a5_level1_row6\" class=\"row_heading level1 row6\" >GB</th>\n",
       "                        <td id=\"T_e07a5_row6_col0\" class=\"data row6 col0\" >23,853</td>\n",
       "                        <td id=\"T_e07a5_row6_col1\" class=\"data row6 col1\" >1.1%</td>\n",
       "                        <td id=\"T_e07a5_row6_col2\" class=\"data row6 col2\" >96.3%</td>\n",
       "            </tr>\n",
       "            <tr>\n",
       "                                <th id=\"T_e07a5_level1_row7\" class=\"row_heading level1 row7\" >CA</th>\n",
       "                        <td id=\"T_e07a5_row7_col0\" class=\"data row7 col0\" >18,344</td>\n",
       "                        <td id=\"T_e07a5_row7_col1\" class=\"data row7 col1\" >0.8%</td>\n",
       "                        <td id=\"T_e07a5_row7_col2\" class=\"data row7 col2\" >97.1%</td>\n",
       "            </tr>\n",
       "            <tr>\n",
       "                                <th id=\"T_e07a5_level1_row8\" class=\"row_heading level1 row8\" >NL</th>\n",
       "                        <td id=\"T_e07a5_row8_col0\" class=\"data row8 col0\" >13,302</td>\n",
       "                        <td id=\"T_e07a5_row8_col1\" class=\"data row8 col1\" >0.6%</td>\n",
       "                        <td id=\"T_e07a5_row8_col2\" class=\"data row8 col2\" >97.7%</td>\n",
       "            </tr>\n",
       "            <tr>\n",
       "                                <th id=\"T_e07a5_level1_row9\" class=\"row_heading level1 row9\" >AU</th>\n",
       "                        <td id=\"T_e07a5_row9_col0\" class=\"data row9 col0\" >9,514</td>\n",
       "                        <td id=\"T_e07a5_row9_col1\" class=\"data row9 col1\" >0.4%</td>\n",
       "                        <td id=\"T_e07a5_row9_col2\" class=\"data row9 col2\" >98.2%</td>\n",
       "            </tr>\n",
       "            <tr>\n",
       "                                <th id=\"T_e07a5_level1_row10\" class=\"row_heading level1 row10\" >FR</th>\n",
       "                        <td id=\"T_e07a5_row10_col0\" class=\"data row10 col0\" >8,413</td>\n",
       "                        <td id=\"T_e07a5_row10_col1\" class=\"data row10 col1\" >0.4%</td>\n",
       "                        <td id=\"T_e07a5_row10_col2\" class=\"data row10 col2\" >98.5%</td>\n",
       "            </tr>\n",
       "            <tr>\n",
       "                                <th id=\"T_e07a5_level1_row11\" class=\"row_heading level1 row11\" >IN</th>\n",
       "                        <td id=\"T_e07a5_row11_col0\" class=\"data row11 col0\" >7,382</td>\n",
       "                        <td id=\"T_e07a5_row11_col1\" class=\"data row11 col1\" >0.3%</td>\n",
       "                        <td id=\"T_e07a5_row11_col2\" class=\"data row11 col2\" >98.9%</td>\n",
       "            </tr>\n",
       "            <tr>\n",
       "                                <th id=\"T_e07a5_level1_row12\" class=\"row_heading level1 row12\" >ES</th>\n",
       "                        <td id=\"T_e07a5_row12_col0\" class=\"data row12 col0\" >5,048</td>\n",
       "                        <td id=\"T_e07a5_row12_col1\" class=\"data row12 col1\" >0.2%</td>\n",
       "                        <td id=\"T_e07a5_row12_col2\" class=\"data row12 col2\" >99.1%</td>\n",
       "            </tr>\n",
       "            <tr>\n",
       "                                <th id=\"T_e07a5_level1_row13\" class=\"row_heading level1 row13\" >BR</th>\n",
       "                        <td id=\"T_e07a5_row13_col0\" class=\"data row13 col0\" >4,548</td>\n",
       "                        <td id=\"T_e07a5_row13_col1\" class=\"data row13 col1\" >0.2%</td>\n",
       "                        <td id=\"T_e07a5_row13_col2\" class=\"data row13 col2\" >99.3%</td>\n",
       "            </tr>\n",
       "            <tr>\n",
       "                                <th id=\"T_e07a5_level1_row14\" class=\"row_heading level1 row14\" >IT</th>\n",
       "                        <td id=\"T_e07a5_row14_col0\" class=\"data row14 col0\" >4,407</td>\n",
       "                        <td id=\"T_e07a5_row14_col1\" class=\"data row14 col1\" >0.2%</td>\n",
       "                        <td id=\"T_e07a5_row14_col2\" class=\"data row14 col2\" >99.5%</td>\n",
       "            </tr>\n",
       "            <tr>\n",
       "                                <th id=\"T_e07a5_level1_row15\" class=\"row_heading level1 row15\" >MX</th>\n",
       "                        <td id=\"T_e07a5_row15_col0\" class=\"data row15 col0\" >2,960</td>\n",
       "                        <td id=\"T_e07a5_row15_col1\" class=\"data row15 col1\" >0.1%</td>\n",
       "                        <td id=\"T_e07a5_row15_col2\" class=\"data row15 col2\" >99.6%</td>\n",
       "            </tr>\n",
       "            <tr>\n",
       "                                <th id=\"T_e07a5_level1_row16\" class=\"row_heading level1 row16\" >IE</th>\n",
       "                        <td id=\"T_e07a5_row16_col0\" class=\"data row16 col0\" >2,751</td>\n",
       "                        <td id=\"T_e07a5_row16_col1\" class=\"data row16 col1\" >0.1%</td>\n",
       "                        <td id=\"T_e07a5_row16_col2\" class=\"data row16 col2\" >99.8%</td>\n",
       "            </tr>\n",
       "            <tr>\n",
       "                                <th id=\"T_e07a5_level1_row17\" class=\"row_heading level1 row17\" >PT</th>\n",
       "                        <td id=\"T_e07a5_row17_col0\" class=\"data row17 col0\" >2,272</td>\n",
       "                        <td id=\"T_e07a5_row17_col1\" class=\"data row17 col1\" >0.1%</td>\n",
       "                        <td id=\"T_e07a5_row17_col2\" class=\"data row17 col2\" >99.9%</td>\n",
       "            </tr>\n",
       "            <tr>\n",
       "                                <th id=\"T_e07a5_level1_row18\" class=\"row_heading level1 row18\" >PH</th>\n",
       "                        <td id=\"T_e07a5_row18_col0\" class=\"data row18 col0\" >1,913</td>\n",
       "                        <td id=\"T_e07a5_row18_col1\" class=\"data row18 col1\" >0.1%</td>\n",
       "                        <td id=\"T_e07a5_row18_col2\" class=\"data row18 col2\" >99.9%</td>\n",
       "            </tr>\n",
       "            <tr>\n",
       "                                <th id=\"T_e07a5_level1_row19\" class=\"row_heading level1 row19\" >AR</th>\n",
       "                        <td id=\"T_e07a5_row19_col0\" class=\"data row19 col0\" >1,119</td>\n",
       "                        <td id=\"T_e07a5_row19_col1\" class=\"data row19 col1\" >0.1%</td>\n",
       "                        <td id=\"T_e07a5_row19_col2\" class=\"data row19 col2\" >100.0%</td>\n",
       "            </tr>\n",
       "    </tbody></table>"
      ],
      "text/plain": [
       "<pandas.io.formats.style.Styler at 0x7ef60111ee90>"
      ]
     },
     "metadata": {},
     "output_type": "display_data"
    },
    {
     "data": {
      "text/html": [
       "<style  type=\"text/css\" >\n",
       "#T_3e1a5_row0_col1,#T_3e1a5_row19_col2{\n",
       "            width:  10em;\n",
       "             height:  80%;\n",
       "            background:  linear-gradient(90deg,#95cff5 100.0%, transparent 100.0%);\n",
       "        }#T_3e1a5_row0_col2,#T_3e1a5_row19_col1{\n",
       "            width:  10em;\n",
       "             height:  80%;\n",
       "        }#T_3e1a5_row1_col1{\n",
       "            width:  10em;\n",
       "             height:  80%;\n",
       "            background:  linear-gradient(90deg,#95cff5 57.7%, transparent 57.7%);\n",
       "        }#T_3e1a5_row1_col2{\n",
       "            width:  10em;\n",
       "             height:  80%;\n",
       "            background:  linear-gradient(90deg,#95cff5 45.1%, transparent 45.1%);\n",
       "        }#T_3e1a5_row2_col1{\n",
       "            width:  10em;\n",
       "             height:  80%;\n",
       "            background:  linear-gradient(90deg,#95cff5 22.1%, transparent 22.1%);\n",
       "        }#T_3e1a5_row2_col2{\n",
       "            width:  10em;\n",
       "             height:  80%;\n",
       "            background:  linear-gradient(90deg,#95cff5 62.4%, transparent 62.4%);\n",
       "        }#T_3e1a5_row3_col1{\n",
       "            width:  10em;\n",
       "             height:  80%;\n",
       "            background:  linear-gradient(90deg,#95cff5 9.1%, transparent 9.1%);\n",
       "        }#T_3e1a5_row3_col2{\n",
       "            width:  10em;\n",
       "             height:  80%;\n",
       "            background:  linear-gradient(90deg,#95cff5 69.7%, transparent 69.7%);\n",
       "        }#T_3e1a5_row4_col1{\n",
       "            width:  10em;\n",
       "             height:  80%;\n",
       "            background:  linear-gradient(90deg,#95cff5 8.8%, transparent 8.8%);\n",
       "        }#T_3e1a5_row4_col2{\n",
       "            width:  10em;\n",
       "             height:  80%;\n",
       "            background:  linear-gradient(90deg,#95cff5 76.8%, transparent 76.8%);\n",
       "        }#T_3e1a5_row5_col1{\n",
       "            width:  10em;\n",
       "             height:  80%;\n",
       "            background:  linear-gradient(90deg,#95cff5 8.4%, transparent 8.4%);\n",
       "        }#T_3e1a5_row5_col2{\n",
       "            width:  10em;\n",
       "             height:  80%;\n",
       "            background:  linear-gradient(90deg,#95cff5 83.5%, transparent 83.5%);\n",
       "        }#T_3e1a5_row6_col1{\n",
       "            width:  10em;\n",
       "             height:  80%;\n",
       "            background:  linear-gradient(90deg,#95cff5 4.0%, transparent 4.0%);\n",
       "        }#T_3e1a5_row6_col2{\n",
       "            width:  10em;\n",
       "             height:  80%;\n",
       "            background:  linear-gradient(90deg,#95cff5 86.8%, transparent 86.8%);\n",
       "        }#T_3e1a5_row7_col1{\n",
       "            width:  10em;\n",
       "             height:  80%;\n",
       "            background:  linear-gradient(90deg,#95cff5 3.2%, transparent 3.2%);\n",
       "        }#T_3e1a5_row7_col2{\n",
       "            width:  10em;\n",
       "             height:  80%;\n",
       "            background:  linear-gradient(90deg,#95cff5 89.5%, transparent 89.5%);\n",
       "        }#T_3e1a5_row8_col1{\n",
       "            width:  10em;\n",
       "             height:  80%;\n",
       "            background:  linear-gradient(90deg,#95cff5 1.8%, transparent 1.8%);\n",
       "        }#T_3e1a5_row8_col2{\n",
       "            width:  10em;\n",
       "             height:  80%;\n",
       "            background:  linear-gradient(90deg,#95cff5 91.1%, transparent 91.1%);\n",
       "        }#T_3e1a5_row9_col1,#T_3e1a5_row10_col1{\n",
       "            width:  10em;\n",
       "             height:  80%;\n",
       "            background:  linear-gradient(90deg,#95cff5 1.6%, transparent 1.6%);\n",
       "        }#T_3e1a5_row9_col2{\n",
       "            width:  10em;\n",
       "             height:  80%;\n",
       "            background:  linear-gradient(90deg,#95cff5 92.5%, transparent 92.5%);\n",
       "        }#T_3e1a5_row10_col2{\n",
       "            width:  10em;\n",
       "             height:  80%;\n",
       "            background:  linear-gradient(90deg,#95cff5 93.9%, transparent 93.9%);\n",
       "        }#T_3e1a5_row11_col1,#T_3e1a5_row12_col1{\n",
       "            width:  10em;\n",
       "             height:  80%;\n",
       "            background:  linear-gradient(90deg,#95cff5 1.3%, transparent 1.3%);\n",
       "        }#T_3e1a5_row11_col2{\n",
       "            width:  10em;\n",
       "             height:  80%;\n",
       "            background:  linear-gradient(90deg,#95cff5 95.1%, transparent 95.1%);\n",
       "        }#T_3e1a5_row12_col2{\n",
       "            width:  10em;\n",
       "             height:  80%;\n",
       "            background:  linear-gradient(90deg,#95cff5 96.3%, transparent 96.3%);\n",
       "        }#T_3e1a5_row13_col1,#T_3e1a5_row14_col1{\n",
       "            width:  10em;\n",
       "             height:  80%;\n",
       "            background:  linear-gradient(90deg,#95cff5 0.6%, transparent 0.6%);\n",
       "        }#T_3e1a5_row13_col2{\n",
       "            width:  10em;\n",
       "             height:  80%;\n",
       "            background:  linear-gradient(90deg,#95cff5 97.0%, transparent 97.0%);\n",
       "        }#T_3e1a5_row14_col2{\n",
       "            width:  10em;\n",
       "             height:  80%;\n",
       "            background:  linear-gradient(90deg,#95cff5 97.7%, transparent 97.7%);\n",
       "        }#T_3e1a5_row15_col1,#T_3e1a5_row16_col1{\n",
       "            width:  10em;\n",
       "             height:  80%;\n",
       "            background:  linear-gradient(90deg,#95cff5 0.5%, transparent 0.5%);\n",
       "        }#T_3e1a5_row15_col2{\n",
       "            width:  10em;\n",
       "             height:  80%;\n",
       "            background:  linear-gradient(90deg,#95cff5 98.3%, transparent 98.3%);\n",
       "        }#T_3e1a5_row16_col2{\n",
       "            width:  10em;\n",
       "             height:  80%;\n",
       "            background:  linear-gradient(90deg,#95cff5 98.9%, transparent 98.9%);\n",
       "        }#T_3e1a5_row17_col1,#T_3e1a5_row18_col1{\n",
       "            width:  10em;\n",
       "             height:  80%;\n",
       "            background:  linear-gradient(90deg,#95cff5 0.3%, transparent 0.3%);\n",
       "        }#T_3e1a5_row17_col2{\n",
       "            width:  10em;\n",
       "             height:  80%;\n",
       "            background:  linear-gradient(90deg,#95cff5 99.3%, transparent 99.3%);\n",
       "        }#T_3e1a5_row18_col2{\n",
       "            width:  10em;\n",
       "             height:  80%;\n",
       "            background:  linear-gradient(90deg,#95cff5 99.8%, transparent 99.8%);\n",
       "        }</style><table id=\"T_3e1a5_\" ><thead>    <tr>        <th class=\"blank\" ></th>        <th class=\"blank level0\" ></th>        <th class=\"col_heading level0 col0\" >count</th>        <th class=\"col_heading level0 col1\" >percent</th>        <th class=\"col_heading level0 col2\" >cumulative_percent</th>    </tr>    <tr>        <th class=\"index_name level0\" >target_subreddit</th>        <th class=\"index_name level1\" >geo_country_code_top</th>        <th class=\"blank\" ></th>        <th class=\"blank\" ></th>        <th class=\"blank\" ></th>    </tr></thead><tbody>\n",
       "                <tr>\n",
       "                        <th id=\"T_3e1a5_level0_row0\" class=\"row_heading level0 row0\" rowspan=\"20\">ich_iel</th>\n",
       "                        <th id=\"T_3e1a5_level1_row0\" class=\"row_heading level1 row0\" >US</th>\n",
       "                        <td id=\"T_3e1a5_row0_col0\" class=\"data row0 col0\" >3,499,502</td>\n",
       "                        <td id=\"T_3e1a5_row0_col1\" class=\"data row0 col1\" >43.8%</td>\n",
       "                        <td id=\"T_3e1a5_row0_col2\" class=\"data row0 col2\" >43.8%</td>\n",
       "            </tr>\n",
       "            <tr>\n",
       "                                <th id=\"T_3e1a5_level1_row1\" class=\"row_heading level1 row1\" >DE</th>\n",
       "                        <td id=\"T_3e1a5_row1_col0\" class=\"data row1 col0\" >2,023,667</td>\n",
       "                        <td id=\"T_3e1a5_row1_col1\" class=\"data row1 col1\" >25.3%</td>\n",
       "                        <td id=\"T_3e1a5_row1_col2\" class=\"data row1 col2\" >69.1%</td>\n",
       "            </tr>\n",
       "            <tr>\n",
       "                                <th id=\"T_3e1a5_level1_row2\" class=\"row_heading level1 row2\" >ROW</th>\n",
       "                        <td id=\"T_3e1a5_row2_col0\" class=\"data row2 col0\" >779,197</td>\n",
       "                        <td id=\"T_3e1a5_row2_col1\" class=\"data row2 col1\" >9.8%</td>\n",
       "                        <td id=\"T_3e1a5_row2_col2\" class=\"data row2 col2\" >78.9%</td>\n",
       "            </tr>\n",
       "            <tr>\n",
       "                                <th id=\"T_3e1a5_level1_row3\" class=\"row_heading level1 row3\" >MISSING</th>\n",
       "                        <td id=\"T_3e1a5_row3_col0\" class=\"data row3 col0\" >328,646</td>\n",
       "                        <td id=\"T_3e1a5_row3_col1\" class=\"data row3 col1\" >4.1%</td>\n",
       "                        <td id=\"T_3e1a5_row3_col2\" class=\"data row3 col2\" >83.0%</td>\n",
       "            </tr>\n",
       "            <tr>\n",
       "                                <th id=\"T_3e1a5_level1_row4\" class=\"row_heading level1 row4\" >CA</th>\n",
       "                        <td id=\"T_3e1a5_row4_col0\" class=\"data row4 col0\" >317,656</td>\n",
       "                        <td id=\"T_3e1a5_row4_col1\" class=\"data row4 col1\" >4.0%</td>\n",
       "                        <td id=\"T_3e1a5_row4_col2\" class=\"data row4 col2\" >87.0%</td>\n",
       "            </tr>\n",
       "            <tr>\n",
       "                                <th id=\"T_3e1a5_level1_row5\" class=\"row_heading level1 row5\" >GB</th>\n",
       "                        <td id=\"T_3e1a5_row5_col0\" class=\"data row5 col0\" >301,412</td>\n",
       "                        <td id=\"T_3e1a5_row5_col1\" class=\"data row5 col1\" >3.8%</td>\n",
       "                        <td id=\"T_3e1a5_row5_col2\" class=\"data row5 col2\" >90.7%</td>\n",
       "            </tr>\n",
       "            <tr>\n",
       "                                <th id=\"T_3e1a5_level1_row6\" class=\"row_heading level1 row6\" >AU</th>\n",
       "                        <td id=\"T_3e1a5_row6_col0\" class=\"data row6 col0\" >147,748</td>\n",
       "                        <td id=\"T_3e1a5_row6_col1\" class=\"data row6 col1\" >1.8%</td>\n",
       "                        <td id=\"T_3e1a5_row6_col2\" class=\"data row6 col2\" >92.6%</td>\n",
       "            </tr>\n",
       "            <tr>\n",
       "                                <th id=\"T_3e1a5_level1_row7\" class=\"row_heading level1 row7\" >NL</th>\n",
       "                        <td id=\"T_3e1a5_row7_col0\" class=\"data row7 col0\" >119,487</td>\n",
       "                        <td id=\"T_3e1a5_row7_col1\" class=\"data row7 col1\" >1.5%</td>\n",
       "                        <td id=\"T_3e1a5_row7_col2\" class=\"data row7 col2\" >94.1%</td>\n",
       "            </tr>\n",
       "            <tr>\n",
       "                                <th id=\"T_3e1a5_level1_row8\" class=\"row_heading level1 row8\" >AT</th>\n",
       "                        <td id=\"T_3e1a5_row8_col0\" class=\"data row8 col0\" >72,757</td>\n",
       "                        <td id=\"T_3e1a5_row8_col1\" class=\"data row8 col1\" >0.9%</td>\n",
       "                        <td id=\"T_3e1a5_row8_col2\" class=\"data row8 col2\" >95.0%</td>\n",
       "            </tr>\n",
       "            <tr>\n",
       "                                <th id=\"T_3e1a5_level1_row9\" class=\"row_heading level1 row9\" >FR</th>\n",
       "                        <td id=\"T_3e1a5_row9_col0\" class=\"data row9 col0\" >63,970</td>\n",
       "                        <td id=\"T_3e1a5_row9_col1\" class=\"data row9 col1\" >0.8%</td>\n",
       "                        <td id=\"T_3e1a5_row9_col2\" class=\"data row9 col2\" >95.8%</td>\n",
       "            </tr>\n",
       "            <tr>\n",
       "                                <th id=\"T_3e1a5_level1_row10\" class=\"row_heading level1 row10\" >IN</th>\n",
       "                        <td id=\"T_3e1a5_row10_col0\" class=\"data row10 col0\" >63,664</td>\n",
       "                        <td id=\"T_3e1a5_row10_col1\" class=\"data row10 col1\" >0.8%</td>\n",
       "                        <td id=\"T_3e1a5_row10_col2\" class=\"data row10 col2\" >96.6%</td>\n",
       "            </tr>\n",
       "            <tr>\n",
       "                                <th id=\"T_3e1a5_level1_row11\" class=\"row_heading level1 row11\" >BR</th>\n",
       "                        <td id=\"T_3e1a5_row11_col0\" class=\"data row11 col0\" >53,843</td>\n",
       "                        <td id=\"T_3e1a5_row11_col1\" class=\"data row11 col1\" >0.7%</td>\n",
       "                        <td id=\"T_3e1a5_row11_col2\" class=\"data row11 col2\" >97.3%</td>\n",
       "            </tr>\n",
       "            <tr>\n",
       "                                <th id=\"T_3e1a5_level1_row12\" class=\"row_heading level1 row12\" >CH</th>\n",
       "                        <td id=\"T_3e1a5_row12_col0\" class=\"data row12 col0\" >53,264</td>\n",
       "                        <td id=\"T_3e1a5_row12_col1\" class=\"data row12 col1\" >0.7%</td>\n",
       "                        <td id=\"T_3e1a5_row12_col2\" class=\"data row12 col2\" >97.9%</td>\n",
       "            </tr>\n",
       "            <tr>\n",
       "                                <th id=\"T_3e1a5_level1_row13\" class=\"row_heading level1 row13\" >IE</th>\n",
       "                        <td id=\"T_3e1a5_row13_col0\" class=\"data row13 col0\" >30,880</td>\n",
       "                        <td id=\"T_3e1a5_row13_col1\" class=\"data row13 col1\" >0.4%</td>\n",
       "                        <td id=\"T_3e1a5_row13_col2\" class=\"data row13 col2\" >98.3%</td>\n",
       "            </tr>\n",
       "            <tr>\n",
       "                                <th id=\"T_3e1a5_level1_row14\" class=\"row_heading level1 row14\" >ES</th>\n",
       "                        <td id=\"T_3e1a5_row14_col0\" class=\"data row14 col0\" >29,831</td>\n",
       "                        <td id=\"T_3e1a5_row14_col1\" class=\"data row14 col1\" >0.4%</td>\n",
       "                        <td id=\"T_3e1a5_row14_col2\" class=\"data row14 col2\" >98.7%</td>\n",
       "            </tr>\n",
       "            <tr>\n",
       "                                <th id=\"T_3e1a5_level1_row15\" class=\"row_heading level1 row15\" >MX</th>\n",
       "                        <td id=\"T_3e1a5_row15_col0\" class=\"data row15 col0\" >28,229</td>\n",
       "                        <td id=\"T_3e1a5_row15_col1\" class=\"data row15 col1\" >0.4%</td>\n",
       "                        <td id=\"T_3e1a5_row15_col2\" class=\"data row15 col2\" >99.0%</td>\n",
       "            </tr>\n",
       "            <tr>\n",
       "                                <th id=\"T_3e1a5_level1_row16\" class=\"row_heading level1 row16\" >IT</th>\n",
       "                        <td id=\"T_3e1a5_row16_col0\" class=\"data row16 col0\" >26,338</td>\n",
       "                        <td id=\"T_3e1a5_row16_col1\" class=\"data row16 col1\" >0.3%</td>\n",
       "                        <td id=\"T_3e1a5_row16_col2\" class=\"data row16 col2\" >99.4%</td>\n",
       "            </tr>\n",
       "            <tr>\n",
       "                                <th id=\"T_3e1a5_level1_row17\" class=\"row_heading level1 row17\" >PH</th>\n",
       "                        <td id=\"T_3e1a5_row17_col0\" class=\"data row17 col0\" >20,908</td>\n",
       "                        <td id=\"T_3e1a5_row17_col1\" class=\"data row17 col1\" >0.3%</td>\n",
       "                        <td id=\"T_3e1a5_row17_col2\" class=\"data row17 col2\" >99.6%</td>\n",
       "            </tr>\n",
       "            <tr>\n",
       "                                <th id=\"T_3e1a5_level1_row18\" class=\"row_heading level1 row18\" >PT</th>\n",
       "                        <td id=\"T_3e1a5_row18_col0\" class=\"data row18 col0\" >20,280</td>\n",
       "                        <td id=\"T_3e1a5_row18_col1\" class=\"data row18 col1\" >0.3%</td>\n",
       "                        <td id=\"T_3e1a5_row18_col2\" class=\"data row18 col2\" >99.9%</td>\n",
       "            </tr>\n",
       "            <tr>\n",
       "                                <th id=\"T_3e1a5_level1_row19\" class=\"row_heading level1 row19\" >AR</th>\n",
       "                        <td id=\"T_3e1a5_row19_col0\" class=\"data row19 col0\" >9,417</td>\n",
       "                        <td id=\"T_3e1a5_row19_col1\" class=\"data row19 col1\" >0.1%</td>\n",
       "                        <td id=\"T_3e1a5_row19_col2\" class=\"data row19 col2\" >100.0%</td>\n",
       "            </tr>\n",
       "    </tbody></table>"
      ],
      "text/plain": [
       "<pandas.io.formats.style.Styler at 0x7ef6010c3e50>"
      ]
     },
     "metadata": {},
     "output_type": "display_data"
    },
    {
     "name": "stdout",
     "output_type": "stream",
     "text": [
      "CPU times: user 10.6 s, sys: 1.59 s, total: 12.2 s\n",
      "Wall time: 12.2 s\n"
     ]
    }
   ],
   "source": [
    "%%time\n",
    "\n",
    "for sub_ in sorted(df_inf['target_subreddit'].unique()):\n",
    "    display(\n",
    "        value_counts_and_pcts(\n",
    "            df_inf[df_inf['target_subreddit'] == sub_],\n",
    "            ['target_subreddit', 'geo_country_code_top',],\n",
    "            top_n=None,\n",
    "        #     sort_index=True,\n",
    "        #     sort_index_ascending=True,\n",
    "        #     reset_index=True,\n",
    "        #     return_df=True\n",
    "        )\n",
    "    )"
   ]
  },
  {
   "cell_type": "markdown",
   "id": "26fd8574",
   "metadata": {},
   "source": [
    "## Subscribed\n"
   ]
  },
  {
   "cell_type": "code",
   "execution_count": 21,
   "id": "ba5f92e7",
   "metadata": {},
   "outputs": [
    {
     "data": {
      "text/html": [
       "<style  type=\"text/css\" >\n",
       "#T_6a0a3_row0_col1,#T_6a0a3_row1_col2{\n",
       "            width:  10em;\n",
       "             height:  80%;\n",
       "            background:  linear-gradient(90deg,#95cff5 100.0%, transparent 100.0%);\n",
       "        }#T_6a0a3_row0_col2,#T_6a0a3_row1_col1{\n",
       "            width:  10em;\n",
       "             height:  80%;\n",
       "        }</style><table id=\"T_6a0a3_\" ><thead>    <tr>        <th class=\"blank level0\" ></th>        <th class=\"col_heading level0 col0\" >count</th>        <th class=\"col_heading level0 col1\" >percent</th>        <th class=\"col_heading level0 col2\" >cumulative_percent</th>    </tr>    <tr>        <th class=\"index_name level0\" >subscribed</th>        <th class=\"blank\" ></th>        <th class=\"blank\" ></th>        <th class=\"blank\" ></th>    </tr></thead><tbody>\n",
       "                <tr>\n",
       "                        <th id=\"T_6a0a3_level0_row0\" class=\"row_heading level0 row0\" >0</th>\n",
       "                        <td id=\"T_6a0a3_row0_col0\" class=\"data row0 col0\" >16,848,688</td>\n",
       "                        <td id=\"T_6a0a3_row0_col1\" class=\"data row0 col1\" >96.4%</td>\n",
       "                        <td id=\"T_6a0a3_row0_col2\" class=\"data row0 col2\" >96.4%</td>\n",
       "            </tr>\n",
       "            <tr>\n",
       "                        <th id=\"T_6a0a3_level0_row1\" class=\"row_heading level0 row1\" >1</th>\n",
       "                        <td id=\"T_6a0a3_row1_col0\" class=\"data row1 col0\" >637,990</td>\n",
       "                        <td id=\"T_6a0a3_row1_col1\" class=\"data row1 col1\" >3.6%</td>\n",
       "                        <td id=\"T_6a0a3_row1_col2\" class=\"data row1 col2\" >100.0%</td>\n",
       "            </tr>\n",
       "    </tbody></table>"
      ],
      "text/plain": [
       "<pandas.io.formats.style.Styler at 0x7ef6010c3e90>"
      ]
     },
     "metadata": {},
     "output_type": "display_data"
    },
    {
     "data": {
      "text/html": [
       "<style  type=\"text/css\" >\n",
       "#T_f17d4_row0_col1,#T_f17d4_row4_col2{\n",
       "            width:  10em;\n",
       "             height:  80%;\n",
       "            background:  linear-gradient(90deg,#95cff5 100.0%, transparent 100.0%);\n",
       "        }#T_f17d4_row0_col2,#T_f17d4_row4_col1{\n",
       "            width:  10em;\n",
       "             height:  80%;\n",
       "        }#T_f17d4_row1_col1{\n",
       "            width:  10em;\n",
       "             height:  80%;\n",
       "            background:  linear-gradient(90deg,#95cff5 84.9%, transparent 84.9%);\n",
       "        }#T_f17d4_row1_col2{\n",
       "            width:  10em;\n",
       "             height:  80%;\n",
       "            background:  linear-gradient(90deg,#95cff5 89.2%, transparent 89.2%);\n",
       "        }#T_f17d4_row2_col1{\n",
       "            width:  10em;\n",
       "             height:  80%;\n",
       "            background:  linear-gradient(90deg,#95cff5 3.6%, transparent 3.6%);\n",
       "        }#T_f17d4_row2_col2{\n",
       "            width:  10em;\n",
       "             height:  80%;\n",
       "            background:  linear-gradient(90deg,#95cff5 94.7%, transparent 94.7%);\n",
       "        }#T_f17d4_row3_col1{\n",
       "            width:  10em;\n",
       "             height:  80%;\n",
       "            background:  linear-gradient(90deg,#95cff5 1.6%, transparent 1.6%);\n",
       "        }#T_f17d4_row3_col2{\n",
       "            width:  10em;\n",
       "             height:  80%;\n",
       "            background:  linear-gradient(90deg,#95cff5 98.2%, transparent 98.2%);\n",
       "        }</style><table id=\"T_f17d4_\" ><thead>    <tr>        <th class=\"blank level0\" ></th>        <th class=\"col_heading level0 col0\" >count</th>        <th class=\"col_heading level0 col1\" >percent</th>        <th class=\"col_heading level0 col2\" >cumulative_percent</th>    </tr>    <tr>        <th class=\"index_name level0\" >legacy_user_cohort_ord</th>        <th class=\"blank\" ></th>        <th class=\"blank\" ></th>        <th class=\"blank\" ></th>    </tr></thead><tbody>\n",
       "                <tr>\n",
       "                        <th id=\"T_f17d4_level0_row0\" class=\"row_heading level0 row0\" >4</th>\n",
       "                        <td id=\"T_f17d4_row0_col0\" class=\"data row0 col0\" >8,943,858</td>\n",
       "                        <td id=\"T_f17d4_row0_col1\" class=\"data row0 col1\" >51.1%</td>\n",
       "                        <td id=\"T_f17d4_row0_col2\" class=\"data row0 col2\" >51.1%</td>\n",
       "            </tr>\n",
       "            <tr>\n",
       "                        <th id=\"T_f17d4_level0_row1\" class=\"row_heading level0 row1\" >5</th>\n",
       "                        <td id=\"T_f17d4_row1_col0\" class=\"data row1 col0\" >7,620,522</td>\n",
       "                        <td id=\"T_f17d4_row1_col1\" class=\"data row1 col1\" >43.6%</td>\n",
       "                        <td id=\"T_f17d4_row1_col2\" class=\"data row1 col2\" >94.7%</td>\n",
       "            </tr>\n",
       "            <tr>\n",
       "                        <th id=\"T_f17d4_level0_row2\" class=\"row_heading level0 row2\" >3</th>\n",
       "                        <td id=\"T_f17d4_row2_col0\" class=\"data row2 col0\" >470,244</td>\n",
       "                        <td id=\"T_f17d4_row2_col1\" class=\"data row2 col1\" >2.7%</td>\n",
       "                        <td id=\"T_f17d4_row2_col2\" class=\"data row2 col2\" >97.4%</td>\n",
       "            </tr>\n",
       "            <tr>\n",
       "                        <th id=\"T_f17d4_level0_row3\" class=\"row_heading level0 row3\" >1</th>\n",
       "                        <td id=\"T_f17d4_row3_col0\" class=\"data row3 col0\" >296,305</td>\n",
       "                        <td id=\"T_f17d4_row3_col1\" class=\"data row3 col1\" >1.7%</td>\n",
       "                        <td id=\"T_f17d4_row3_col2\" class=\"data row3 col2\" >99.1%</td>\n",
       "            </tr>\n",
       "            <tr>\n",
       "                        <th id=\"T_f17d4_level0_row4\" class=\"row_heading level0 row4\" >2</th>\n",
       "                        <td id=\"T_f17d4_row4_col0\" class=\"data row4 col0\" >155,749</td>\n",
       "                        <td id=\"T_f17d4_row4_col1\" class=\"data row4 col1\" >0.9%</td>\n",
       "                        <td id=\"T_f17d4_row4_col2\" class=\"data row4 col2\" >100.0%</td>\n",
       "            </tr>\n",
       "    </tbody></table>"
      ],
      "text/plain": [
       "<pandas.io.formats.style.Styler at 0x7ef601120790>"
      ]
     },
     "metadata": {},
     "output_type": "display_data"
    },
    {
     "name": "stdout",
     "output_type": "stream",
     "text": [
      "CPU times: user 16.2 s, sys: 2.93 s, total: 19.1 s\n",
      "Wall time: 19.1 s\n"
     ]
    }
   ],
   "source": [
    "%%time\n",
    "\n",
    "l_cols_check_ = [\n",
    "    'subscribed',\n",
    "    'legacy_user_cohort_ord',\n",
    "]\n",
    "\n",
    "for c_ in l_cols_check_:\n",
    "    display(\n",
    "        value_counts_and_pcts(\n",
    "            df_inf.fillna(-1),\n",
    "            [c_],\n",
    "            top_n=None,\n",
    "        )\n",
    "    )"
   ]
  },
  {
   "cell_type": "code",
   "execution_count": 22,
   "id": "52c4e1ba",
   "metadata": {},
   "outputs": [
    {
     "name": "stdout",
     "output_type": "stream",
     "text": [
      "\n",
      "=== de ===\n"
     ]
    },
    {
     "data": {
      "text/html": [
       "<style  type=\"text/css\" >\n",
       "#T_56c6e_row0_col1,#T_56c6e_row1_col2{\n",
       "            width:  10em;\n",
       "             height:  80%;\n",
       "            background:  linear-gradient(90deg,#95cff5 100.0%, transparent 100.0%);\n",
       "        }#T_56c6e_row0_col2,#T_56c6e_row1_col1{\n",
       "            width:  10em;\n",
       "             height:  80%;\n",
       "        }</style><table id=\"T_56c6e_\" ><thead>    <tr>        <th class=\"blank\" ></th>        <th class=\"blank level0\" ></th>        <th class=\"col_heading level0 col0\" >count</th>        <th class=\"col_heading level0 col1\" >percent</th>        <th class=\"col_heading level0 col2\" >cumulative_percent</th>    </tr>    <tr>        <th class=\"index_name level0\" >target_subreddit</th>        <th class=\"index_name level1\" >subscribed</th>        <th class=\"blank\" ></th>        <th class=\"blank\" ></th>        <th class=\"blank\" ></th>    </tr></thead><tbody>\n",
       "                <tr>\n",
       "                        <th id=\"T_56c6e_level0_row0\" class=\"row_heading level0 row0\" rowspan=\"2\">de</th>\n",
       "                        <th id=\"T_56c6e_level1_row0\" class=\"row_heading level1 row0\" >0</th>\n",
       "                        <td id=\"T_56c6e_row0_col0\" class=\"data row0 col0\" >7,008,489</td>\n",
       "                        <td id=\"T_56c6e_row0_col1\" class=\"data row0 col1\" >96.3%</td>\n",
       "                        <td id=\"T_56c6e_row0_col2\" class=\"data row0 col2\" >96.3%</td>\n",
       "            </tr>\n",
       "            <tr>\n",
       "                                <th id=\"T_56c6e_level1_row1\" class=\"row_heading level1 row1\" >1</th>\n",
       "                        <td id=\"T_56c6e_row1_col0\" class=\"data row1 col0\" >267,140</td>\n",
       "                        <td id=\"T_56c6e_row1_col1\" class=\"data row1 col1\" >3.7%</td>\n",
       "                        <td id=\"T_56c6e_row1_col2\" class=\"data row1 col2\" >100.0%</td>\n",
       "            </tr>\n",
       "    </tbody></table>"
      ],
      "text/plain": [
       "<pandas.io.formats.style.Styler at 0x7ef6010da110>"
      ]
     },
     "metadata": {},
     "output_type": "display_data"
    },
    {
     "data": {
      "text/html": [
       "<style  type=\"text/css\" >\n",
       "#T_13361_row0_col1,#T_13361_row4_col2{\n",
       "            width:  10em;\n",
       "             height:  80%;\n",
       "            background:  linear-gradient(90deg,#95cff5 100.0%, transparent 100.0%);\n",
       "        }#T_13361_row0_col2,#T_13361_row4_col1{\n",
       "            width:  10em;\n",
       "             height:  80%;\n",
       "        }#T_13361_row1_col1{\n",
       "            width:  10em;\n",
       "             height:  80%;\n",
       "            background:  linear-gradient(90deg,#95cff5 91.8%, transparent 91.8%);\n",
       "        }#T_13361_row1_col2{\n",
       "            width:  10em;\n",
       "             height:  80%;\n",
       "            background:  linear-gradient(90deg,#95cff5 89.4%, transparent 89.4%);\n",
       "        }#T_13361_row2_col1{\n",
       "            width:  10em;\n",
       "             height:  80%;\n",
       "            background:  linear-gradient(90deg,#95cff5 3.6%, transparent 3.6%);\n",
       "        }#T_13361_row2_col2{\n",
       "            width:  10em;\n",
       "             height:  80%;\n",
       "            background:  linear-gradient(90deg,#95cff5 94.6%, transparent 94.6%);\n",
       "        }#T_13361_row3_col1{\n",
       "            width:  10em;\n",
       "             height:  80%;\n",
       "            background:  linear-gradient(90deg,#95cff5 2.1%, transparent 2.1%);\n",
       "        }#T_13361_row3_col2{\n",
       "            width:  10em;\n",
       "             height:  80%;\n",
       "            background:  linear-gradient(90deg,#95cff5 98.3%, transparent 98.3%);\n",
       "        }</style><table id=\"T_13361_\" ><thead>    <tr>        <th class=\"blank\" ></th>        <th class=\"blank level0\" ></th>        <th class=\"col_heading level0 col0\" >count</th>        <th class=\"col_heading level0 col1\" >percent</th>        <th class=\"col_heading level0 col2\" >cumulative_percent</th>    </tr>    <tr>        <th class=\"index_name level0\" >target_subreddit</th>        <th class=\"index_name level1\" >legacy_user_cohort_ord</th>        <th class=\"blank\" ></th>        <th class=\"blank\" ></th>        <th class=\"blank\" ></th>    </tr></thead><tbody>\n",
       "                <tr>\n",
       "                        <th id=\"T_13361_level0_row0\" class=\"row_heading level0 row0\" rowspan=\"5\">de</th>\n",
       "                        <th id=\"T_13361_level1_row0\" class=\"row_heading level1 row0\" >4</th>\n",
       "                        <td id=\"T_13361_row0_col0\" class=\"data row0 col0\" >3,586,198</td>\n",
       "                        <td id=\"T_13361_row0_col1\" class=\"data row0 col1\" >49.3%</td>\n",
       "                        <td id=\"T_13361_row0_col2\" class=\"data row0 col2\" >49.3%</td>\n",
       "            </tr>\n",
       "            <tr>\n",
       "                                <th id=\"T_13361_level1_row1\" class=\"row_heading level1 row1\" >5</th>\n",
       "                        <td id=\"T_13361_row1_col0\" class=\"data row1 col0\" >3,298,732</td>\n",
       "                        <td id=\"T_13361_row1_col1\" class=\"data row1 col1\" >45.3%</td>\n",
       "                        <td id=\"T_13361_row1_col2\" class=\"data row1 col2\" >94.6%</td>\n",
       "            </tr>\n",
       "            <tr>\n",
       "                                <th id=\"T_13361_level1_row2\" class=\"row_heading level1 row2\" >3</th>\n",
       "                        <td id=\"T_13361_row2_col0\" class=\"data row2 col0\" >191,579</td>\n",
       "                        <td id=\"T_13361_row2_col1\" class=\"data row2 col1\" >2.6%</td>\n",
       "                        <td id=\"T_13361_row2_col2\" class=\"data row2 col2\" >97.3%</td>\n",
       "            </tr>\n",
       "            <tr>\n",
       "                                <th id=\"T_13361_level1_row3\" class=\"row_heading level1 row3\" >1</th>\n",
       "                        <td id=\"T_13361_row3_col0\" class=\"data row3 col0\" >136,057</td>\n",
       "                        <td id=\"T_13361_row3_col1\" class=\"data row3 col1\" >1.9%</td>\n",
       "                        <td id=\"T_13361_row3_col2\" class=\"data row3 col2\" >99.1%</td>\n",
       "            </tr>\n",
       "            <tr>\n",
       "                                <th id=\"T_13361_level1_row4\" class=\"row_heading level1 row4\" >2</th>\n",
       "                        <td id=\"T_13361_row4_col0\" class=\"data row4 col0\" >63,063</td>\n",
       "                        <td id=\"T_13361_row4_col1\" class=\"data row4 col1\" >0.9%</td>\n",
       "                        <td id=\"T_13361_row4_col2\" class=\"data row4 col2\" >100.0%</td>\n",
       "            </tr>\n",
       "    </tbody></table>"
      ],
      "text/plain": [
       "<pandas.io.formats.style.Styler at 0x7ef6010c3e10>"
      ]
     },
     "metadata": {},
     "output_type": "display_data"
    },
    {
     "name": "stdout",
     "output_type": "stream",
     "text": [
      "\n",
      "=== fragreddit ===\n"
     ]
    },
    {
     "data": {
      "text/html": [
       "<style  type=\"text/css\" >\n",
       "#T_cafe1_row0_col1,#T_cafe1_row1_col2{\n",
       "            width:  10em;\n",
       "             height:  80%;\n",
       "            background:  linear-gradient(90deg,#95cff5 100.0%, transparent 100.0%);\n",
       "        }#T_cafe1_row0_col2,#T_cafe1_row1_col1{\n",
       "            width:  10em;\n",
       "             height:  80%;\n",
       "        }</style><table id=\"T_cafe1_\" ><thead>    <tr>        <th class=\"blank\" ></th>        <th class=\"blank level0\" ></th>        <th class=\"col_heading level0 col0\" >count</th>        <th class=\"col_heading level0 col1\" >percent</th>        <th class=\"col_heading level0 col2\" >cumulative_percent</th>    </tr>    <tr>        <th class=\"index_name level0\" >target_subreddit</th>        <th class=\"index_name level1\" >subscribed</th>        <th class=\"blank\" ></th>        <th class=\"blank\" ></th>        <th class=\"blank\" ></th>    </tr></thead><tbody>\n",
       "                <tr>\n",
       "                        <th id=\"T_cafe1_level0_row0\" class=\"row_heading level0 row0\" rowspan=\"2\">fragreddit</th>\n",
       "                        <th id=\"T_cafe1_level1_row0\" class=\"row_heading level1 row0\" >0</th>\n",
       "                        <td id=\"T_cafe1_row0_col0\" class=\"data row0 col0\" >2,113,974</td>\n",
       "                        <td id=\"T_cafe1_row0_col1\" class=\"data row0 col1\" >95.2%</td>\n",
       "                        <td id=\"T_cafe1_row0_col2\" class=\"data row0 col2\" >95.2%</td>\n",
       "            </tr>\n",
       "            <tr>\n",
       "                                <th id=\"T_cafe1_level1_row1\" class=\"row_heading level1 row1\" >1</th>\n",
       "                        <td id=\"T_cafe1_row1_col0\" class=\"data row1 col0\" >106,379</td>\n",
       "                        <td id=\"T_cafe1_row1_col1\" class=\"data row1 col1\" >4.8%</td>\n",
       "                        <td id=\"T_cafe1_row1_col2\" class=\"data row1 col2\" >100.0%</td>\n",
       "            </tr>\n",
       "    </tbody></table>"
      ],
      "text/plain": [
       "<pandas.io.formats.style.Styler at 0x7efbed743f50>"
      ]
     },
     "metadata": {},
     "output_type": "display_data"
    },
    {
     "data": {
      "text/html": [
       "<style  type=\"text/css\" >\n",
       "#T_7a8dd_row0_col1,#T_7a8dd_row4_col2{\n",
       "            width:  10em;\n",
       "             height:  80%;\n",
       "            background:  linear-gradient(90deg,#95cff5 100.0%, transparent 100.0%);\n",
       "        }#T_7a8dd_row0_col2,#T_7a8dd_row4_col1{\n",
       "            width:  10em;\n",
       "             height:  80%;\n",
       "        }#T_7a8dd_row1_col1{\n",
       "            width:  10em;\n",
       "             height:  80%;\n",
       "            background:  linear-gradient(90deg,#95cff5 40.9%, transparent 40.9%);\n",
       "        }#T_7a8dd_row1_col2{\n",
       "            width:  10em;\n",
       "             height:  80%;\n",
       "            background:  linear-gradient(90deg,#95cff5 78.8%, transparent 78.8%);\n",
       "        }#T_7a8dd_row2_col1{\n",
       "            width:  10em;\n",
       "             height:  80%;\n",
       "            background:  linear-gradient(90deg,#95cff5 3.1%, transparent 3.1%);\n",
       "        }#T_7a8dd_row2_col2{\n",
       "            width:  10em;\n",
       "             height:  80%;\n",
       "            background:  linear-gradient(90deg,#95cff5 89.1%, transparent 89.1%);\n",
       "        }#T_7a8dd_row3_col1{\n",
       "            width:  10em;\n",
       "             height:  80%;\n",
       "            background:  linear-gradient(90deg,#95cff5 0.9%, transparent 0.9%);\n",
       "        }#T_7a8dd_row3_col2{\n",
       "            width:  10em;\n",
       "             height:  80%;\n",
       "            background:  linear-gradient(90deg,#95cff5 95.3%, transparent 95.3%);\n",
       "        }</style><table id=\"T_7a8dd_\" ><thead>    <tr>        <th class=\"blank\" ></th>        <th class=\"blank level0\" ></th>        <th class=\"col_heading level0 col0\" >count</th>        <th class=\"col_heading level0 col1\" >percent</th>        <th class=\"col_heading level0 col2\" >cumulative_percent</th>    </tr>    <tr>        <th class=\"index_name level0\" >target_subreddit</th>        <th class=\"index_name level1\" >legacy_user_cohort_ord</th>        <th class=\"blank\" ></th>        <th class=\"blank\" ></th>        <th class=\"blank\" ></th>    </tr></thead><tbody>\n",
       "                <tr>\n",
       "                        <th id=\"T_7a8dd_level0_row0\" class=\"row_heading level0 row0\" rowspan=\"5\">fragreddit</th>\n",
       "                        <th id=\"T_7a8dd_level1_row0\" class=\"row_heading level1 row0\" >4</th>\n",
       "                        <td id=\"T_7a8dd_row0_col0\" class=\"data row0 col0\" >1,443,433</td>\n",
       "                        <td id=\"T_7a8dd_row0_col1\" class=\"data row0 col1\" >65.0%</td>\n",
       "                        <td id=\"T_7a8dd_row0_col2\" class=\"data row0 col2\" >65.0%</td>\n",
       "            </tr>\n",
       "            <tr>\n",
       "                                <th id=\"T_7a8dd_level1_row1\" class=\"row_heading level1 row1\" >5</th>\n",
       "                        <td id=\"T_7a8dd_row1_col0\" class=\"data row1 col0\" >611,858</td>\n",
       "                        <td id=\"T_7a8dd_row1_col1\" class=\"data row1 col1\" >27.6%</td>\n",
       "                        <td id=\"T_7a8dd_row1_col2\" class=\"data row1 col2\" >92.6%</td>\n",
       "            </tr>\n",
       "            <tr>\n",
       "                                <th id=\"T_7a8dd_level1_row2\" class=\"row_heading level1 row2\" >3</th>\n",
       "                        <td id=\"T_7a8dd_row2_col0\" class=\"data row2 col0\" >80,087</td>\n",
       "                        <td id=\"T_7a8dd_row2_col1\" class=\"data row2 col1\" >3.6%</td>\n",
       "                        <td id=\"T_7a8dd_row2_col2\" class=\"data row2 col2\" >96.2%</td>\n",
       "            </tr>\n",
       "            <tr>\n",
       "                                <th id=\"T_7a8dd_level1_row3\" class=\"row_heading level1 row3\" >1</th>\n",
       "                        <td id=\"T_7a8dd_row3_col0\" class=\"data row3 col0\" >48,611</td>\n",
       "                        <td id=\"T_7a8dd_row3_col1\" class=\"data row3 col1\" >2.2%</td>\n",
       "                        <td id=\"T_7a8dd_row3_col2\" class=\"data row3 col2\" >98.4%</td>\n",
       "            </tr>\n",
       "            <tr>\n",
       "                                <th id=\"T_7a8dd_level1_row4\" class=\"row_heading level1 row4\" >2</th>\n",
       "                        <td id=\"T_7a8dd_row4_col0\" class=\"data row4 col0\" >36,364</td>\n",
       "                        <td id=\"T_7a8dd_row4_col1\" class=\"data row4 col1\" >1.6%</td>\n",
       "                        <td id=\"T_7a8dd_row4_col2\" class=\"data row4 col2\" >100.0%</td>\n",
       "            </tr>\n",
       "    </tbody></table>"
      ],
      "text/plain": [
       "<pandas.io.formats.style.Styler at 0x7ef6010e4790>"
      ]
     },
     "metadata": {},
     "output_type": "display_data"
    },
    {
     "name": "stdout",
     "output_type": "stream",
     "text": [
      "\n",
      "=== ich_iel ===\n"
     ]
    },
    {
     "data": {
      "text/html": [
       "<style  type=\"text/css\" >\n",
       "#T_4af69_row0_col1,#T_4af69_row1_col2{\n",
       "            width:  10em;\n",
       "             height:  80%;\n",
       "            background:  linear-gradient(90deg,#95cff5 100.0%, transparent 100.0%);\n",
       "        }#T_4af69_row0_col2,#T_4af69_row1_col1{\n",
       "            width:  10em;\n",
       "             height:  80%;\n",
       "        }</style><table id=\"T_4af69_\" ><thead>    <tr>        <th class=\"blank\" ></th>        <th class=\"blank level0\" ></th>        <th class=\"col_heading level0 col0\" >count</th>        <th class=\"col_heading level0 col1\" >percent</th>        <th class=\"col_heading level0 col2\" >cumulative_percent</th>    </tr>    <tr>        <th class=\"index_name level0\" >target_subreddit</th>        <th class=\"index_name level1\" >subscribed</th>        <th class=\"blank\" ></th>        <th class=\"blank\" ></th>        <th class=\"blank\" ></th>    </tr></thead><tbody>\n",
       "                <tr>\n",
       "                        <th id=\"T_4af69_level0_row0\" class=\"row_heading level0 row0\" rowspan=\"2\">ich_iel</th>\n",
       "                        <th id=\"T_4af69_level1_row0\" class=\"row_heading level1 row0\" >0</th>\n",
       "                        <td id=\"T_4af69_row0_col0\" class=\"data row0 col0\" >7,726,225</td>\n",
       "                        <td id=\"T_4af69_row0_col1\" class=\"data row0 col1\" >96.7%</td>\n",
       "                        <td id=\"T_4af69_row0_col2\" class=\"data row0 col2\" >96.7%</td>\n",
       "            </tr>\n",
       "            <tr>\n",
       "                                <th id=\"T_4af69_level1_row1\" class=\"row_heading level1 row1\" >1</th>\n",
       "                        <td id=\"T_4af69_row1_col0\" class=\"data row1 col0\" >264,471</td>\n",
       "                        <td id=\"T_4af69_row1_col1\" class=\"data row1 col1\" >3.3%</td>\n",
       "                        <td id=\"T_4af69_row1_col2\" class=\"data row1 col2\" >100.0%</td>\n",
       "            </tr>\n",
       "    </tbody></table>"
      ],
      "text/plain": [
       "<pandas.io.formats.style.Styler at 0x7efbed759650>"
      ]
     },
     "metadata": {},
     "output_type": "display_data"
    },
    {
     "data": {
      "text/html": [
       "<style  type=\"text/css\" >\n",
       "#T_c2ebf_row0_col1,#T_c2ebf_row4_col2{\n",
       "            width:  10em;\n",
       "             height:  80%;\n",
       "            background:  linear-gradient(90deg,#95cff5 100.0%, transparent 100.0%);\n",
       "        }#T_c2ebf_row0_col2,#T_c2ebf_row4_col1{\n",
       "            width:  10em;\n",
       "             height:  80%;\n",
       "        }#T_c2ebf_row1_col1{\n",
       "            width:  10em;\n",
       "             height:  80%;\n",
       "            background:  linear-gradient(90deg,#95cff5 94.7%, transparent 94.7%);\n",
       "        }#T_c2ebf_row1_col2{\n",
       "            width:  10em;\n",
       "             height:  80%;\n",
       "            background:  linear-gradient(90deg,#95cff5 91.0%, transparent 91.0%);\n",
       "        }#T_c2ebf_row2_col1{\n",
       "            width:  10em;\n",
       "             height:  80%;\n",
       "            background:  linear-gradient(90deg,#95cff5 3.7%, transparent 3.7%);\n",
       "        }#T_c2ebf_row2_col2{\n",
       "            width:  10em;\n",
       "             height:  80%;\n",
       "            background:  linear-gradient(90deg,#95cff5 95.9%, transparent 95.9%);\n",
       "        }#T_c2ebf_row3_col1{\n",
       "            width:  10em;\n",
       "             height:  80%;\n",
       "            background:  linear-gradient(90deg,#95cff5 1.4%, transparent 1.4%);\n",
       "        }#T_c2ebf_row3_col2{\n",
       "            width:  10em;\n",
       "             height:  80%;\n",
       "            background:  linear-gradient(90deg,#95cff5 98.6%, transparent 98.6%);\n",
       "        }</style><table id=\"T_c2ebf_\" ><thead>    <tr>        <th class=\"blank\" ></th>        <th class=\"blank level0\" ></th>        <th class=\"col_heading level0 col0\" >count</th>        <th class=\"col_heading level0 col1\" >percent</th>        <th class=\"col_heading level0 col2\" >cumulative_percent</th>    </tr>    <tr>        <th class=\"index_name level0\" >target_subreddit</th>        <th class=\"index_name level1\" >legacy_user_cohort_ord</th>        <th class=\"blank\" ></th>        <th class=\"blank\" ></th>        <th class=\"blank\" ></th>    </tr></thead><tbody>\n",
       "                <tr>\n",
       "                        <th id=\"T_c2ebf_level0_row0\" class=\"row_heading level0 row0\" rowspan=\"5\">ich_iel</th>\n",
       "                        <th id=\"T_c2ebf_level1_row0\" class=\"row_heading level1 row0\" >4</th>\n",
       "                        <td id=\"T_c2ebf_row0_col0\" class=\"data row0 col0\" >3,914,227</td>\n",
       "                        <td id=\"T_c2ebf_row0_col1\" class=\"data row0 col1\" >49.0%</td>\n",
       "                        <td id=\"T_c2ebf_row0_col2\" class=\"data row0 col2\" >49.0%</td>\n",
       "            </tr>\n",
       "            <tr>\n",
       "                                <th id=\"T_c2ebf_level1_row1\" class=\"row_heading level1 row1\" >5</th>\n",
       "                        <td id=\"T_c2ebf_row1_col0\" class=\"data row1 col0\" >3,709,932</td>\n",
       "                        <td id=\"T_c2ebf_row1_col1\" class=\"data row1 col1\" >46.4%</td>\n",
       "                        <td id=\"T_c2ebf_row1_col2\" class=\"data row1 col2\" >95.4%</td>\n",
       "            </tr>\n",
       "            <tr>\n",
       "                                <th id=\"T_c2ebf_level1_row2\" class=\"row_heading level1 row2\" >3</th>\n",
       "                        <td id=\"T_c2ebf_row2_col0\" class=\"data row2 col0\" >198,578</td>\n",
       "                        <td id=\"T_c2ebf_row2_col1\" class=\"data row2 col1\" >2.5%</td>\n",
       "                        <td id=\"T_c2ebf_row2_col2\" class=\"data row2 col2\" >97.9%</td>\n",
       "            </tr>\n",
       "            <tr>\n",
       "                                <th id=\"T_c2ebf_level1_row3\" class=\"row_heading level1 row3\" >1</th>\n",
       "                        <td id=\"T_c2ebf_row3_col0\" class=\"data row3 col0\" >111,637</td>\n",
       "                        <td id=\"T_c2ebf_row3_col1\" class=\"data row3 col1\" >1.4%</td>\n",
       "                        <td id=\"T_c2ebf_row3_col2\" class=\"data row3 col2\" >99.3%</td>\n",
       "            </tr>\n",
       "            <tr>\n",
       "                                <th id=\"T_c2ebf_level1_row4\" class=\"row_heading level1 row4\" >2</th>\n",
       "                        <td id=\"T_c2ebf_row4_col0\" class=\"data row4 col0\" >56,322</td>\n",
       "                        <td id=\"T_c2ebf_row4_col1\" class=\"data row4 col1\" >0.7%</td>\n",
       "                        <td id=\"T_c2ebf_row4_col2\" class=\"data row4 col2\" >100.0%</td>\n",
       "            </tr>\n",
       "    </tbody></table>"
      ],
      "text/plain": [
       "<pandas.io.formats.style.Styler at 0x7ef6010ca1d0>"
      ]
     },
     "metadata": {},
     "output_type": "display_data"
    },
    {
     "name": "stdout",
     "output_type": "stream",
     "text": [
      "CPU times: user 15.3 s, sys: 2.36 s, total: 17.7 s\n",
      "Wall time: 17.6 s\n"
     ]
    }
   ],
   "source": [
    "%%time\n",
    "\n",
    "for sub_ in sorted(df_inf['target_subreddit'].unique()):\n",
    "    print(f\"\\n=== {sub_} ===\")\n",
    "    mask_sub_ = df_inf['target_subreddit'] == sub_\n",
    "    \n",
    "    for c_ in l_cols_check_:\n",
    "        display(\n",
    "            value_counts_and_pcts(\n",
    "                df_inf[mask_sub_],\n",
    "                ['target_subreddit', c_],\n",
    "                top_n=None,\n",
    "            )\n",
    "        )"
   ]
  },
  {
   "cell_type": "code",
   "execution_count": null,
   "id": "b9157bed",
   "metadata": {},
   "outputs": [],
   "source": [
    "TODO"
   ]
  }
 ],
 "metadata": {
  "environment": {
   "name": "common-cpu.m65",
   "type": "gcloud",
   "uri": "gcr.io/deeplearning-platform-release/base-cpu:m65"
  },
  "kernelspec": {
   "display_name": "Python 3",
   "language": "python",
   "name": "python3"
  },
  "language_info": {
   "codemirror_mode": {
    "name": "ipython",
    "version": 3
   },
   "file_extension": ".py",
   "mimetype": "text/x-python",
   "name": "python",
   "nbconvert_exporter": "python",
   "pygments_lexer": "ipython3",
   "version": "3.7.10"
  }
 },
 "nbformat": 4,
 "nbformat_minor": 5
}
