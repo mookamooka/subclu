{
 "cells": [
  {
   "cell_type": "markdown",
   "id": "bf3bcd0f",
   "metadata": {},
   "source": [
    "# Purpose\n",
    "\n",
    "**2023-04-18**:\n",
    "<br>FIX: This campaign wasn't limited to user in DE, so I need to recalculate distances for users in ALL countries\n",
    "\n",
    "---\n",
    "\n",
    "**2023-04-17**:\n",
    "<br>In this notebook we'll try an end-to-end process to get ANN for a single campaign\n",
    "\n",
    "- Pull data:\n",
    "    - User Time on Subreddit (save to local now, GCS in prod)\n",
    "    - Get subreddit-level embeddings (save to local, GCS in prod)\n",
    "- Reshape to get user-embeddings\n",
    "    - For each ToSub file, get weighted embeddings for a user\n",
    "        - Save user-level (weighted) embeddings to file\n",
    "- Calculate ANN distance to input subreddit(s)\n",
    "    - Create an index with ANNOY: per COUNTRY + subreddit\n",
    "        - This way we ensure a minimum # of users per country\n",
    "    - Load subreddit-embedding file\n",
    "    - For each input target subreddit, get the ANN users\n",
    "        - Try nearest 3 million users\n",
    "    - Save raw ANN file\n",
    "- Save file ready for model training\n",
    "\n",
    "TODO later / out of scope\n",
    "- Split training file into k-fold validation or train/test\n",
    "- Train base models (do it a separate notebook)\n",
    "- [later/tbd] Reshape ANN table & upload to BQ table\n",
    "    - Reshape ANN file for BigQuery format\n",
    "    - Upload ANN file to BQ for table creation\n",
    "\n",
    "\n"
   ]
  },
  {
   "cell_type": "markdown",
   "id": "4cb206b6",
   "metadata": {},
   "source": [
    "# Imports & Setup"
   ]
  },
  {
   "cell_type": "code",
   "execution_count": 1,
   "id": "17327cc6",
   "metadata": {},
   "outputs": [],
   "source": [
    "%load_ext autoreload\n",
    "%autoreload 2"
   ]
  },
  {
   "cell_type": "code",
   "execution_count": 2,
   "id": "6576c6ba",
   "metadata": {},
   "outputs": [
    {
     "name": "stdout",
     "output_type": "stream",
     "text": [
      "python\t\tv 3.7.10\n",
      "===\n",
      "google.cloud.bigquery\tv: 2.13.1\n",
      "numpy\t\tv: 1.19.5\n",
      "pandas\t\tv: 1.2.4\n",
      "polars\t\tv: 0.17.1\n",
      "plotly\t\tv: 5.11.0\n",
      "mlflow\t\tv: 1.16.0\n",
      "subclu\t\tv: 0.6.1\n"
     ]
    }
   ],
   "source": [
    "from datetime import datetime\n",
    "import gc\n",
    "import logging\n",
    "from logging import info\n",
    "import os\n",
    "from pathlib import Path\n",
    "import json\n",
    "\n",
    "import polars as pl\n",
    "import numpy as np\n",
    "import pandas as pd\n",
    "import plotly\n",
    "import seaborn as sns\n",
    "\n",
    "from tqdm.auto import tqdm\n",
    "import dask\n",
    "import mlflow\n",
    "\n",
    "import subclu\n",
    "from subclu.eda.aggregates import compare_raw_v_weighted_language\n",
    "from subclu.utils import set_working_directory, get_project_subfolder\n",
    "from subclu.utils.eda import (\n",
    "    setup_logging, counts_describe, value_counts_and_pcts,\n",
    "    notebook_display_config, print_lib_versions,\n",
    "    style_df_numeric, reorder_array,\n",
    ")\n",
    "from subclu.utils.mlflow_logger import MlflowLogger\n",
    "from subclu.utils.hydra_config_loader import LoadHydraConfig\n",
    "from subclu.utils.data_irl_style import (\n",
    "    get_colormap, theme_dirl, \n",
    "    get_color_dict, base_colors_for_manual_labels,\n",
    "    check_colors_used,\n",
    ")\n",
    "from subclu.data.data_loaders import LoadPosts, LoadSubreddits, create_sub_level_aggregates\n",
    "\n",
    "\n",
    "# ===\n",
    "# imports specific to this notebook\n",
    "from typing import Tuple, Union\n",
    "\n",
    "from subclu.models.nn_annoy import AnnoyIndex\n",
    "from subclu.utils.eda import get_venn_sets2\n",
    "\n",
    "from matplotlib_venn import venn2_unweighted\n",
    "\n",
    "from google.cloud import bigquery\n",
    "from subclu.pn_models import get_data\n",
    "\n",
    "\n",
    "client = bigquery.Client()\n",
    "\n",
    "print_lib_versions([bigquery, np, pd, pl, plotly, mlflow, subclu])"
   ]
  },
  {
   "cell_type": "code",
   "execution_count": 3,
   "id": "a7e8e04f",
   "metadata": {},
   "outputs": [],
   "source": [
    "# plotting\n",
    "import matplotlib.pyplot as plt\n",
    "import matplotlib.ticker as mtick\n",
    "import matplotlib.dates as mdates\n",
    "plt.style.use('default')\n",
    "\n",
    "setup_logging()\n",
    "notebook_display_config()"
   ]
  },
  {
   "cell_type": "markdown",
   "id": "45158c97",
   "metadata": {},
   "source": [
    "# Define local path for this model outputs"
   ]
  },
  {
   "cell_type": "code",
   "execution_count": 4,
   "id": "34da6be0",
   "metadata": {},
   "outputs": [
    {
     "name": "stdout",
     "output_type": "stream",
     "text": [
      "/home/jupyter/subreddit_clustering_i18n/data/models/pn_model/pn_manual_test_2023-04-18_224701\n"
     ]
    }
   ],
   "source": [
    "manual_model_timestamp = datetime.utcnow().strftime('%Y-%m-%d_%H%M%S')\n",
    "path_this_model = get_project_subfolder(\n",
    "    f\"data/models/pn_model/pn_manual_test_{manual_model_timestamp}\"\n",
    ")\n",
    "Path.mkdir(path_this_model, parents=True, exist_ok=True)\n",
    "print(path_this_model)"
   ]
  },
  {
   "cell_type": "markdown",
   "id": "1acf6ea9",
   "metadata": {},
   "source": [
    "# Define key inputs\n",
    "Use these throughout the process to filter/target specific subreddits, geos, & users"
   ]
  },
  {
   "cell_type": "code",
   "execution_count": 5,
   "id": "8bcae804",
   "metadata": {},
   "outputs": [],
   "source": [
    "l_target_subreddits = ['de']\n",
    "\n",
    "# We would want to add an automated way to pick these ANN subs, but look them up manually for now\n",
    "l_target_ann_subreddits = ['fragreddit', 'ich_iel']\n",
    "\n",
    "l_target_geos = ['DE']"
   ]
  },
  {
   "cell_type": "markdown",
   "id": "68973ec6",
   "metadata": {},
   "source": [
    "# Get subreddit-level embeddings\n",
    "\n",
    "For this part BigQuery + pandas is fast enough.\n",
    "\n",
    "Model partition (`pt`) is generally trained on a Tuesday.\n",
    "\n",
    "ETA: \n",
    "- ~ 20 seconds to pull the data\n",
    "- ~15 seconds to conver to wide format\n",
    "\n",
    "Example:\n",
    "```bash\n",
    "pt\n",
    "0\t2022-11-22\n",
    "1\t2022-11-29\n",
    "2\t2022-12-06\n",
    "3\t2022-12-13\n",
    "4\t2022-12-20\n",
    "5\t2022-12-27\n",
    "```"
   ]
  },
  {
   "cell_type": "code",
   "execution_count": 6,
   "id": "fc33fcb8",
   "metadata": {},
   "outputs": [
    {
     "name": "stderr",
     "output_type": "stream",
     "text": [
      "Query complete after 0.00s: 100%|██████████| 2/2 [00:00<00:00, 1310.31query/s]                        \n",
      "Downloading: 100%|██████████| 236115/236115 [00:03<00:00, 75667.94rows/s] \n"
     ]
    },
    {
     "name": "stdout",
     "output_type": "stream",
     "text": [
      "CPU times: user 721 ms, sys: 442 ms, total: 1.16 s\n",
      "Wall time: 17 s\n"
     ]
    }
   ],
   "source": [
    "%%time\n",
    "%%bigquery df_sub_emb_raw --project data-science-prod-218515 \n",
    "\n",
    "-- We do the un-nesting in pandas because with UNNESTING in SQL ORDER IS NOT GUARANTEED!\n",
    "SELECT\n",
    "  subreddit_id\n",
    "  , subreddit_name\n",
    "  , ARRAY_CONCAT(embedding) AS embedding\n",
    "\n",
    "FROM `data-prod-165221.ml_content.subreddit_embeddings_ft2`\n",
    "WHERE DATE(pt) = '2022-11-29'"
   ]
  },
  {
   "cell_type": "code",
   "execution_count": 7,
   "id": "2af4eb3c",
   "metadata": {},
   "outputs": [
    {
     "name": "stdout",
     "output_type": "stream",
     "text": [
      "<class 'pandas.core.frame.DataFrame'>\n",
      "RangeIndex: 236115 entries, 0 to 236114\n",
      "Data columns (total 3 columns):\n",
      " #   Column          Non-Null Count   Dtype \n",
      "---  ------          --------------   ----- \n",
      " 0   subreddit_id    236115 non-null  object\n",
      " 1   subreddit_name  236115 non-null  object\n",
      " 2   embedding       236115 non-null  object\n",
      "dtypes: object(3)\n",
      "memory usage: 5.4+ MB\n"
     ]
    }
   ],
   "source": [
    "df_sub_emb_raw.info()"
   ]
  },
  {
   "cell_type": "markdown",
   "id": "93d02e1a",
   "metadata": {},
   "source": [
    "## Transform - sub embeddings to wide"
   ]
  },
  {
   "cell_type": "code",
   "execution_count": 8,
   "id": "69d37907",
   "metadata": {},
   "outputs": [
    {
     "name": "stderr",
     "output_type": "stream",
     "text": [
      "22:47:27 | INFO | \"100 <- Embedding columns\"\n",
      "22:47:27 | INFO | \"Converting to wide format...\"\n",
      "22:47:39 | INFO | \"236,115, 102 <- embeddings WIDE shape\"\n",
      "22:47:39 | INFO | \"Save wide embeddings to parquet\"\n",
      "22:47:41 | INFO | \"Converting to polars df...\"\n",
      "22:47:41 | INFO | \"Subreddit embeddings pre-processing done\"\n"
     ]
    },
    {
     "name": "stdout",
     "output_type": "stream",
     "text": [
      "CPU times: user 13.6 s, sys: 1.43 s, total: 15.1 s\n",
      "Wall time: 15 s\n"
     ]
    },
    {
     "data": {
      "text/plain": [
       "161"
      ]
     },
     "execution_count": 8,
     "metadata": {},
     "output_type": "execute_result"
    }
   ],
   "source": [
    "%%time\n",
    "\n",
    "n_emb_cols = df_sub_emb_raw['embedding'].iloc[0].shape[0]\n",
    "assert np.alltrue(n_emb_cols == df_sub_emb_raw['embedding'].str.len())\n",
    "\n",
    "\n",
    "embedding_col_prefix = 'embedding_'\n",
    "l_emb_cols = [f\"{embedding_col_prefix}{i:03,.0f}\" for i in range(n_emb_cols)]\n",
    "info(f\"{len(l_emb_cols):,.0f} <- Embedding columns\")\n",
    "\n",
    "info(f\"Converting to wide format...\")\n",
    "df_sub_emb_pd = pd.DataFrame(\n",
    "    list(df_sub_emb_raw['embedding']),\n",
    "    columns=l_emb_cols,\n",
    "    index=pd.MultiIndex.from_frame(df_sub_emb_raw[['subreddit_id', 'subreddit_name']]),\n",
    ").reset_index()\n",
    "\n",
    "r_, c_ = df_sub_emb_pd.shape \n",
    "info(f\"{r_:,.0f}, {c_:,.0f} <- embeddings WIDE shape\")\n",
    "\n",
    "info(f\"Save wide embeddings to parquet\")\n",
    "df_sub_emb_pd.to_parquet(\n",
    "    path_this_model / f\"df_subreddit_embeddings_wide-{r_}_{c_}.parquet\",\n",
    "    index=False,\n",
    ")\n",
    "\n",
    "info(f\"Converting to polars df...\")\n",
    "df_sub_emb = pl.from_pandas(df_sub_emb_pd)\n",
    "\n",
    "info(f\"Subreddit embeddings pre-processing done\")\n",
    "# delete the pandas df to free up memory\n",
    "del df_sub_emb_pd\n",
    "gc.collect()"
   ]
  },
  {
   "cell_type": "code",
   "execution_count": 9,
   "id": "adc97bae",
   "metadata": {},
   "outputs": [
    {
     "data": {
      "text/html": [
       "<div><style>\n",
       ".dataframe > thead > tr > th,\n",
       ".dataframe > tbody > tr > td {\n",
       "  text-align: right;\n",
       "}\n",
       "</style>\n",
       "<small>shape: (4, 15)</small><table border=\"1\" class=\"dataframe\"><thead><tr><th>subreddit_id</th><th>subreddit_name</th><th>embedding_000</th><th>embedding_001</th><th>embedding_002</th><th>embedding_003</th><th>embedding_004</th><th>embedding_005</th><th>embedding_006</th><th>embedding_007</th><th>embedding_008</th><th>embedding_009</th><th>embedding_010</th><th>embedding_011</th><th>embedding_012</th></tr><tr><td>str</td><td>str</td><td>f64</td><td>f64</td><td>f64</td><td>f64</td><td>f64</td><td>f64</td><td>f64</td><td>f64</td><td>f64</td><td>f64</td><td>f64</td><td>f64</td><td>f64</td></tr></thead><tbody><tr><td>&quot;t5_70sqiq&quot;</td><td>&quot;00000009999&quot;</td><td>0.203673</td><td>0.41239</td><td>0.293499</td><td>0.219038</td><td>0.067274</td><td>-0.074245</td><td>-0.515791</td><td>0.701312</td><td>0.733369</td><td>-0.565209</td><td>-0.096566</td><td>0.40944</td><td>0.082867</td></tr><tr><td>&quot;t5_6z8n1c&quot;</td><td>&quot;0010110zion&quot;</td><td>0.020021</td><td>0.08691</td><td>0.152663</td><td>-0.412483</td><td>0.074653</td><td>-0.005074</td><td>-0.308147</td><td>0.06658</td><td>0.161424</td><td>-0.091454</td><td>-0.170465</td><td>-0.028941</td><td>-0.293559</td></tr><tr><td>&quot;t5_71a1re&quot;</td><td>&quot;002timmynfts&quot;</td><td>-0.066831</td><td>-0.024192</td><td>0.682037</td><td>-0.081226</td><td>0.046117</td><td>0.285765</td><td>-0.226684</td><td>0.041478</td><td>0.301822</td><td>-0.476785</td><td>0.068413</td><td>0.070616</td><td>0.234421</td></tr><tr><td>&quot;t5_6xknxn&quot;</td><td>&quot;007desinsfw&quot;</td><td>0.028375</td><td>-0.157933</td><td>0.722232</td><td>-0.22489</td><td>-0.123628</td><td>0.128553</td><td>0.227722</td><td>0.294614</td><td>-0.090551</td><td>-0.643633</td><td>0.347671</td><td>0.175447</td><td>0.225121</td></tr></tbody></table></div>"
      ],
      "text/plain": [
       "shape: (4, 15)\n",
       "┌────────────┬────────────┬────────────┬────────────┬───┬────────────┬────────────┬────────────┬────────────┐\n",
       "│ subreddit_ ┆ subreddit_ ┆ embedding_ ┆ embedding_ ┆ … ┆ embedding_ ┆ embedding_ ┆ embedding_ ┆ embedding_ │\n",
       "│ id         ┆ name       ┆ 000        ┆ 001        ┆   ┆ 009        ┆ 010        ┆ 011        ┆ 012        │\n",
       "│ ---        ┆ ---        ┆ ---        ┆ ---        ┆   ┆ ---        ┆ ---        ┆ ---        ┆ ---        │\n",
       "│ str        ┆ str        ┆ f64        ┆ f64        ┆   ┆ f64        ┆ f64        ┆ f64        ┆ f64        │\n",
       "╞════════════╪════════════╪════════════╪════════════╪═══╪════════════╪════════════╪════════════╪════════════╡\n",
       "│ t5_70sqiq  ┆ 0000000999 ┆ 0.203673   ┆ 0.41239    ┆ … ┆ -0.565209  ┆ -0.096566  ┆ 0.40944    ┆ 0.082867   │\n",
       "│            ┆ 9          ┆            ┆            ┆   ┆            ┆            ┆            ┆            │\n",
       "│ t5_6z8n1c  ┆ 0010110zio ┆ 0.020021   ┆ 0.08691    ┆ … ┆ -0.091454  ┆ -0.170465  ┆ -0.028941  ┆ -0.293559  │\n",
       "│            ┆ n          ┆            ┆            ┆   ┆            ┆            ┆            ┆            │\n",
       "│ t5_71a1re  ┆ 002timmynf ┆ -0.066831  ┆ -0.024192  ┆ … ┆ -0.476785  ┆ 0.068413   ┆ 0.070616   ┆ 0.234421   │\n",
       "│            ┆ ts         ┆            ┆            ┆   ┆            ┆            ┆            ┆            │\n",
       "│ t5_6xknxn  ┆ 007desinsf ┆ 0.028375   ┆ -0.157933  ┆ … ┆ -0.643633  ┆ 0.347671   ┆ 0.175447   ┆ 0.225121   │\n",
       "│            ┆ w          ┆            ┆            ┆   ┆            ┆            ┆            ┆            │\n",
       "└────────────┴────────────┴────────────┴────────────┴───┴────────────┴────────────┴────────────┴────────────┘"
      ]
     },
     "execution_count": 9,
     "metadata": {},
     "output_type": "execute_result"
    }
   ],
   "source": [
    "df_sub_emb[:4, :15]"
   ]
  },
  {
   "cell_type": "code",
   "execution_count": 10,
   "id": "d5f324f2",
   "metadata": {},
   "outputs": [
    {
     "data": {
      "text/html": [
       "<div><style>\n",
       ".dataframe > thead > tr > th,\n",
       ".dataframe > tbody > tr > td {\n",
       "  text-align: right;\n",
       "}\n",
       "</style>\n",
       "<small>shape: (2, 15)</small><table border=\"1\" class=\"dataframe\"><thead><tr><th>subreddit_id</th><th>subreddit_name</th><th>embedding_000</th><th>embedding_001</th><th>embedding_002</th><th>embedding_003</th><th>embedding_004</th><th>embedding_005</th><th>embedding_006</th><th>embedding_007</th><th>embedding_008</th><th>embedding_009</th><th>embedding_010</th><th>embedding_011</th><th>embedding_012</th></tr><tr><td>str</td><td>str</td><td>f64</td><td>f64</td><td>f64</td><td>f64</td><td>f64</td><td>f64</td><td>f64</td><td>f64</td><td>f64</td><td>f64</td><td>f64</td><td>f64</td><td>f64</td></tr></thead><tbody><tr><td>&quot;t5_3oco2x&quot;</td><td>&quot;007nightfire&quot;</td><td>-0.04789</td><td>0.518611</td><td>0.222843</td><td>-0.142906</td><td>0.122165</td><td>0.196806</td><td>-0.053357</td><td>-0.257993</td><td>0.720489</td><td>-0.112393</td><td>-0.089884</td><td>0.070488</td><td>-0.129584</td></tr><tr><td>&quot;t5_6xv2qd&quot;</td><td>&quot;00_x&quot;</td><td>0.047263</td><td>-0.227378</td><td>0.631552</td><td>-0.263744</td><td>-0.619626</td><td>0.251459</td><td>-0.253667</td><td>0.059874</td><td>0.414293</td><td>-1.12446</td><td>0.003658</td><td>0.32285</td><td>0.144135</td></tr></tbody></table></div>"
      ],
      "text/plain": [
       "shape: (2, 15)\n",
       "┌────────────┬────────────┬────────────┬────────────┬───┬────────────┬────────────┬────────────┬────────────┐\n",
       "│ subreddit_ ┆ subreddit_ ┆ embedding_ ┆ embedding_ ┆ … ┆ embedding_ ┆ embedding_ ┆ embedding_ ┆ embedding_ │\n",
       "│ id         ┆ name       ┆ 000        ┆ 001        ┆   ┆ 009        ┆ 010        ┆ 011        ┆ 012        │\n",
       "│ ---        ┆ ---        ┆ ---        ┆ ---        ┆   ┆ ---        ┆ ---        ┆ ---        ┆ ---        │\n",
       "│ str        ┆ str        ┆ f64        ┆ f64        ┆   ┆ f64        ┆ f64        ┆ f64        ┆ f64        │\n",
       "╞════════════╪════════════╪════════════╪════════════╪═══╪════════════╪════════════╪════════════╪════════════╡\n",
       "│ t5_3oco2x  ┆ 007nightfi ┆ -0.04789   ┆ 0.518611   ┆ … ┆ -0.112393  ┆ -0.089884  ┆ 0.070488   ┆ -0.129584  │\n",
       "│            ┆ re         ┆            ┆            ┆   ┆            ┆            ┆            ┆            │\n",
       "│ t5_6xv2qd  ┆ 00_x       ┆ 0.047263   ┆ -0.227378  ┆ … ┆ -1.12446   ┆ 0.003658   ┆ 0.32285    ┆ 0.144135   │\n",
       "└────────────┴────────────┴────────────┴────────────┴───┴────────────┴────────────┴────────────┴────────────┘"
      ]
     },
     "execution_count": 10,
     "metadata": {},
     "output_type": "execute_result"
    }
   ],
   "source": [
    "df_sub_emb[4:6, :15]"
   ]
  },
  {
   "cell_type": "markdown",
   "id": "f8d04e5d",
   "metadata": {},
   "source": [
    "# Select target users\n",
    "Create a table for these target users\n",
    "\n",
    "- ETA: ~3 minutes for **1 campaign**, with lookback of **30-days**"
   ]
  },
  {
   "cell_type": "code",
   "execution_count": 11,
   "id": "1b4419c1",
   "metadata": {},
   "outputs": [
    {
     "name": "stderr",
     "output_type": "stream",
     "text": [
      "Query complete after 0.00s: 100%|██████████| 1/1 [00:00<00:00, 1123.57query/s] "
     ]
    },
    {
     "name": "stdout",
     "output_type": "stream",
     "text": [
      "CPU times: user 5.61 s, sys: 604 ms, total: 6.22 s\n",
      "Wall time: 9min 7s\n"
     ]
    },
    {
     "name": "stderr",
     "output_type": "stream",
     "text": [
      "\n"
     ]
    }
   ],
   "source": [
    "%%time\n",
    "%%bigquery _ --project data-science-prod-218515 \n",
    "\n",
    "-- Get test users for end-to-end embeddings\n",
    "-- TODO(djb): Filters\n",
    "--   - remove users who only viewed one subreddit\n",
    "--   - keep users with an iOS or Android event\n",
    "DECLARE PT_DT DATE DEFAULT \"2022-12-01\";\n",
    "-- Expand to 30 days total to get at least 1 month's worth of data given that in the prev model 1 month was the minimum\n",
    "DECLARE PT_WINDOW_START DATE DEFAULT PT_DT - 29;\n",
    "\n",
    "-- DECLARE TARGET_COUNTRIES DEFAULT [\n",
    "--     \"DE\", \"AT\", \"CH\"\n",
    "-- ];\n",
    "\n",
    "\n",
    "-- OR REPLACE\n",
    "CREATE OR REPLACE TABLE `reddit-employee-datasets.david_bermejo.pn_test_users_de_campaign_20230418` AS (\n",
    "\n",
    "WITH \n",
    "selected_users AS (\n",
    "SELECT \n",
    "    COALESCE(act.user_id, v.user_id) AS user_id\n",
    "    , v.subreddit_id\n",
    "    , v.subreddit_name\n",
    "    -- Testing column to debug missing users\n",
    "    , IF(\n",
    "        (act.user_id IS NOT NULL) AND (v.user_id IS NULL) ,\n",
    "        1,\n",
    "        0\n",
    "    ) AS user_in_actual_but_missing_from_new\n",
    "\n",
    "    , COUNT(DISTINCT post_id) AS view_and_consume_unique_count\n",
    "    , COUNT(DISTINCT(IF(v.action='consume', post_id, NULL))) AS consume_unique_count\n",
    "    , SUM(IF(v.action='view', 1, 0)) AS view_count\n",
    "    , SUM(IF(v.action='consume', 1, 0)) AS consume_count\n",
    "    , SUM(IF(v.action='consume' AND app_name='ios', 1, 0)) AS consume_ios_count\n",
    "    , SUM(IF(v.action='consume' AND app_name='android', 1, 0)) AS consume_android_count\n",
    "FROM (\n",
    "    SELECT\n",
    "        subreddit_id\n",
    "        , subreddit_name\n",
    "        , user_id\n",
    "        , post_id\n",
    "        , app_name\n",
    "        , action\n",
    "    FROM `data-prod-165221.fact_tables.post_consume_post_detail_view_events`\n",
    "    WHERE DATE(pt) BETWEEN PT_WINDOW_START AND PT_DT\n",
    "        AND user_id IS NOT NULL\n",
    "        AND subreddit_name IN (\n",
    "            -- 1st sub is a target from a campaign & following ones are most similar based on ft2 embeddings:\n",
    "            'de', 'fragreddit', 'ich_iel'\n",
    "        )\n",
    "        AND action IN ('consume', 'view')\n",
    ") AS v\n",
    "    FULL OUTER JOIN (\n",
    "        -- Add Actual SENT users in case they don't match my selecting criteria\n",
    "        SELECT user_id\n",
    "        FROM `reddit-growth-prod.generated_one_offs.20221201191705_elizabethpollard_de_de_der_topbeitrag_diese_woche_62384`\n",
    "        UNION ALL\n",
    "        SELECT user_id\n",
    "        FROM `reddit-growth-prod.generated_one_offs.20221201193812_elizabethpollard_de_de_der_topbeitrag_diese_woche_32358`\n",
    "    ) act\n",
    "        ON v.user_id = act.user_id\n",
    "GROUP BY 1,2,3,4\n",
    ")\n",
    ", subscribes AS (\n",
    "  SELECT \n",
    "        u.user_id,\n",
    "        subscriptions.subreddit_id subreddit_id\n",
    "  from data-prod-165221.ds_v2_postgres_tables.account_subscriptions AS s,\n",
    "        UNNEST(subscriptions) as subscriptions\n",
    "        INNER JOIN selected_users AS u\n",
    "            ON s.user_id = u.user_id\n",
    "  WHERE DATE(_PARTITIONTIME) = PT_DT\n",
    ")\n",
    "\n",
    "SELECT\n",
    "    PT_DT AS pt\n",
    "    , PT_WINDOW_START AS pt_window_start\n",
    "    , v.subreddit_id\n",
    "    , v.subreddit_name\n",
    "    , v.user_id\n",
    "    , g.geo_country_code\n",
    "    , IF(s.subreddit_id IS NOT NULL, 1, 0) subscribed\n",
    "    , v.* EXCEPT(subreddit_id, subreddit_name, user_id)\n",
    "\n",
    "FROM selected_users AS v\n",
    "    LEFT JOIN (\n",
    "        SELECT\n",
    "            user_id\n",
    "            , geo_country_code\n",
    "        FROM `data-prod-165221.channels.user_geo_6mo_lookback`\n",
    "        WHERE\n",
    "            DATE(pt) = PT_DT\n",
    "            -- AND geo_country_code IN UNNEST(TARGET_COUNTRIES)\n",
    "    ) AS g\n",
    "        on v.user_id = g.user_id\n",
    "\n",
    "    -- Get flag for user subscribed/not subscribed to sub\n",
    "    LEFT JOIN subscribes AS s\n",
    "        ON v.user_id = s.user_id\n",
    "        AND v.subreddit_id = s.subreddit_id\n",
    "\n",
    "    -- TODO(djb): join to get only users who have at least 1 ios or android event in ANY sub\n",
    "\n",
    "WHERE 1=1\n",
    ");  -- Close CREATE TABLE parens"
   ]
  },
  {
   "cell_type": "code",
   "execution_count": 12,
   "id": "d861c396",
   "metadata": {},
   "outputs": [
    {
     "name": "stderr",
     "output_type": "stream",
     "text": [
      "Query complete after 0.00s: 100%|██████████| 7/7 [00:00<00:00, 4588.24query/s]                        \n",
      "Downloading: 100%|██████████| 1/1 [00:01<00:00,  1.24s/rows]"
     ]
    },
    {
     "name": "stdout",
     "output_type": "stream",
     "text": [
      "CPU times: user 79.7 ms, sys: 11.4 ms, total: 91 ms\n",
      "Wall time: 6.49 s\n"
     ]
    },
    {
     "name": "stderr",
     "output_type": "stream",
     "text": [
      "\n"
     ]
    }
   ],
   "source": [
    "%%time\n",
    "%%bigquery df_target_user_counts --project data-science-prod-218515 \n",
    "\n",
    "SELECT\n",
    "    COUNT(*) AS row_count\n",
    "    , COUNT(DISTINCT user_id) AS user_id_count\n",
    "FROM `reddit-employee-datasets.david_bermejo.pn_test_users_de_campaign_20230418`\n",
    ";"
   ]
  },
  {
   "cell_type": "code",
   "execution_count": 13,
   "id": "15e11b1e",
   "metadata": {},
   "outputs": [
    {
     "data": {
      "text/html": [
       "<div>\n",
       "<style scoped>\n",
       "    .dataframe tbody tr th:only-of-type {\n",
       "        vertical-align: middle;\n",
       "    }\n",
       "\n",
       "    .dataframe tbody tr th {\n",
       "        vertical-align: top;\n",
       "    }\n",
       "\n",
       "    .dataframe thead th {\n",
       "        text-align: right;\n",
       "    }\n",
       "</style>\n",
       "<table border=\"1\" class=\"dataframe\">\n",
       "  <thead>\n",
       "    <tr style=\"text-align: right;\">\n",
       "      <th></th>\n",
       "      <th>row_count</th>\n",
       "      <th>user_id_count</th>\n",
       "    </tr>\n",
       "  </thead>\n",
       "  <tbody>\n",
       "    <tr>\n",
       "      <th>0</th>\n",
       "      <td>17557183</td>\n",
       "      <td>11241121</td>\n",
       "    </tr>\n",
       "  </tbody>\n",
       "</table>\n",
       "</div>"
      ],
      "text/plain": [
       "   row_count  user_id_count\n",
       "0   17557183       11241121"
      ]
     },
     "execution_count": 13,
     "metadata": {},
     "output_type": "execute_result"
    }
   ],
   "source": [
    "df_target_user_counts"
   ]
  },
  {
   "cell_type": "code",
   "execution_count": 14,
   "id": "f45c0474",
   "metadata": {},
   "outputs": [],
   "source": [
    "del df_target_user_counts"
   ]
  },
  {
   "cell_type": "code",
   "execution_count": 15,
   "id": "752783aa",
   "metadata": {},
   "outputs": [
    {
     "name": "stderr",
     "output_type": "stream",
     "text": [
      "Query complete after 0.00s: 100%|██████████| 8/8 [00:00<00:00, 4365.09query/s]                        \n",
      "Downloading: 100%|██████████| 11241121/11241121 [00:04<00:00, 2725309.89rows/s]\n"
     ]
    },
    {
     "name": "stdout",
     "output_type": "stream",
     "text": [
      "CPU times: user 5.98 s, sys: 2.55 s, total: 8.52 s\n",
      "Wall time: 17.9 s\n"
     ]
    }
   ],
   "source": [
    "%%time\n",
    "%%bigquery df_target_user_ids --project data-science-prod-218515 \n",
    "\n",
    "SELECT\n",
    "    DISTINCT user_id\n",
    "FROM `reddit-employee-datasets.david_bermejo.pn_test_users_de_campaign_20230418`\n",
    ";"
   ]
  },
  {
   "cell_type": "code",
   "execution_count": 16,
   "id": "d12b1be9",
   "metadata": {},
   "outputs": [
    {
     "data": {
      "text/plain": [
       "(11241121, 1)"
      ]
     },
     "execution_count": 16,
     "metadata": {},
     "output_type": "execute_result"
    }
   ],
   "source": [
    "df_target_user_ids.shape"
   ]
  },
  {
   "cell_type": "markdown",
   "id": "a777873b",
   "metadata": {},
   "source": [
    "# Pull users in actual table sends\n",
    "\n",
    "This should help us know whether we have the correct data & users to train a model.\n",
    "\n",
    "We can have duplicates here because some users could be receive items for multiple devices & these might've been 2 separate campaigns."
   ]
  },
  {
   "cell_type": "code",
   "execution_count": 17,
   "id": "32eb5803",
   "metadata": {},
   "outputs": [
    {
     "name": "stderr",
     "output_type": "stream",
     "text": [
      "Query complete after 0.00s: 100%|██████████| 2/2 [00:00<00:00, 1137.90query/s]                        \n",
      "Downloading: 100%|██████████| 601606/601606 [00:01<00:00, 486190.40rows/s]"
     ]
    },
    {
     "name": "stdout",
     "output_type": "stream",
     "text": [
      "CPU times: user 256 ms, sys: 89.1 ms, total: 345 ms\n",
      "Wall time: 3.89 s\n"
     ]
    },
    {
     "name": "stderr",
     "output_type": "stream",
     "text": [
      "\n"
     ]
    }
   ],
   "source": [
    "%%time\n",
    "%%bigquery df_sent_users --project data-science-prod-218515 \n",
    "\n",
    "\n",
    "-- SENT users\n",
    "SELECT user_id\n",
    "FROM `reddit-growth-prod.generated_one_offs.20221201191705_elizabethpollard_de_de_der_topbeitrag_diese_woche_62384`\n",
    "UNION ALL\n",
    "SELECT user_id\n",
    "FROM `reddit-growth-prod.generated_one_offs.20221201193812_elizabethpollard_de_de_der_topbeitrag_diese_woche_32358`\n",
    ";"
   ]
  },
  {
   "cell_type": "code",
   "execution_count": 18,
   "id": "63494768",
   "metadata": {},
   "outputs": [
    {
     "name": "stdout",
     "output_type": "stream",
     "text": [
      "(601606, 1) <- Total users\n",
      "360,573 <- Unique users\n"
     ]
    },
    {
     "data": {
      "text/html": [
       "<div>\n",
       "<style scoped>\n",
       "    .dataframe tbody tr th:only-of-type {\n",
       "        vertical-align: middle;\n",
       "    }\n",
       "\n",
       "    .dataframe tbody tr th {\n",
       "        vertical-align: top;\n",
       "    }\n",
       "\n",
       "    .dataframe thead th {\n",
       "        text-align: right;\n",
       "    }\n",
       "</style>\n",
       "<table border=\"1\" class=\"dataframe\">\n",
       "  <thead>\n",
       "    <tr style=\"text-align: right;\">\n",
       "      <th></th>\n",
       "      <th>user_id</th>\n",
       "    </tr>\n",
       "  </thead>\n",
       "  <tbody>\n",
       "    <tr>\n",
       "      <th>0</th>\n",
       "      <td>t2_9nd5icb5</td>\n",
       "    </tr>\n",
       "    <tr>\n",
       "      <th>1</th>\n",
       "      <td>t2_muyo17vl</td>\n",
       "    </tr>\n",
       "    <tr>\n",
       "      <th>2</th>\n",
       "      <td>t2_ofgfq1y7</td>\n",
       "    </tr>\n",
       "    <tr>\n",
       "      <th>3</th>\n",
       "      <td>t2_cwcp8sgw</td>\n",
       "    </tr>\n",
       "    <tr>\n",
       "      <th>4</th>\n",
       "      <td>t2_pby5ufxz</td>\n",
       "    </tr>\n",
       "  </tbody>\n",
       "</table>\n",
       "</div>"
      ],
      "text/plain": [
       "       user_id\n",
       "0  t2_9nd5icb5\n",
       "1  t2_muyo17vl\n",
       "2  t2_ofgfq1y7\n",
       "3  t2_cwcp8sgw\n",
       "4  t2_pby5ufxz"
      ]
     },
     "execution_count": 18,
     "metadata": {},
     "output_type": "execute_result"
    }
   ],
   "source": [
    "print(f\"{df_sent_users.shape} <- Total users\")\n",
    "print(f\"{df_sent_users['user_id'].nunique():,.0f} <- Unique users\")\n",
    "df_sent_users.head()"
   ]
  },
  {
   "cell_type": "markdown",
   "id": "de8d786d",
   "metadata": {},
   "source": [
    "### Check that new target includes actual sends\n",
    "Goal: the new target audience should cover ALL of the actual send.\n",
    "\n",
    "Unclear why the new target audience doesn't covering all the actual sends -- maybe the lookback window for views is longer?"
   ]
  },
  {
   "cell_type": "code",
   "execution_count": 19,
   "id": "2c486e73",
   "metadata": {},
   "outputs": [
    {
     "name": "stdout",
     "output_type": "stream",
     "text": [
      " 11,241,121 <- new_model_target\n",
      "    360,573 <- actual_sent\n",
      " 11,241,121 <- new_model_target + actual_sent\n",
      " 10,880,548 <- new_model_target_only\n",
      "    360,573 <- new_model_target_and_actual_sent\n",
      "          0 <- actual_sent_only\n",
      "CPU times: user 31.7 s, sys: 2.32 s, total: 34 s\n",
      "Wall time: 33.9 s\n"
     ]
    },
    {
     "data": {
      "text/plain": [
       "Text(0.5, 1.0, 'Compare New target Audience v. Actual Send')"
      ]
     },
     "execution_count": 19,
     "metadata": {},
     "output_type": "execute_result"
    },
    {
     "data": {
      "image/png": "[encoded data removed]",
      "text/plain": [
       "<Figure size 900x600 with 1 Axes>"
      ]
     },
     "metadata": {},
     "output_type": "display_data"
    }
   ],
   "source": [
    "%%time\n",
    "\n",
    "lbls_ = ['new_model_target', 'actual_sent']\n",
    "d_compare_audiences = get_venn_sets2(\n",
    "    df_target_user_ids['user_id'].unique(),\n",
    "    df_sent_users['user_id'].unique(),\n",
    "    *lbls_,\n",
    ")\n",
    "# d_compare_audiences.keys()\n",
    "\n",
    "ax = venn2_unweighted(\n",
    "    [\n",
    "        set(df_target_user_ids['user_id'].unique()),\n",
    "        set(df_sent_users['user_id'].unique()),\n",
    "    ],\n",
    "    set_labels=['new_model_target', 'actual_sent'],\n",
    ")\n",
    "plt.title(f\"Compare New target Audience v. Actual Send\")"
   ]
  },
  {
   "cell_type": "code",
   "execution_count": 20,
   "id": "01d5034f",
   "metadata": {},
   "outputs": [],
   "source": [
    "assert 0 == len(d_compare_audiences['actual_sent_only'])"
   ]
  },
  {
   "cell_type": "markdown",
   "id": "4b90a3ef",
   "metadata": {},
   "source": [
    "## Get Time-on-Subreddit (ToS) for target user IDs\n",
    "\n",
    "We'll use these to create weighted embeddings.\n",
    "\n",
    "**15 SECONDS** ETA for:\n",
    "- 1 campaign\n",
    "- 30 day lookback window\n",
    "- Including actual sent users\n",
    "\n",
    "---\n",
    "I'm caching the `selected users` in a table so that it's easier/faster to re-use while testing.\n",
    "\n",
    "The time-on-subreddit feature is already in gazette features so we don't need to waste time computing them.\n",
    "\n",
    "Key tables:\n",
    "- Select users:\n",
    "    - `data-prod-165221.fact_tables.post_consume_post_detail_view_events` \n",
    "- Get ToS:\n",
    "    - `data-prod-165221.user_feature_platform.time_on_subreddit_pct_time_over_30_day_v1`\n"
   ]
  },
  {
   "cell_type": "code",
   "execution_count": 34,
   "id": "83e5641c",
   "metadata": {},
   "outputs": [
    {
     "name": "stderr",
     "output_type": "stream",
     "text": [
      "Query complete after 0.00s: 100%|██████████| 1/1 [00:00<00:00, 1797.05query/s] "
     ]
    },
    {
     "name": "stdout",
     "output_type": "stream",
     "text": [
      "CPU times: user 299 ms, sys: 35.6 ms, total: 335 ms\n",
      "Wall time: 30.4 s\n"
     ]
    },
    {
     "name": "stderr",
     "output_type": "stream",
     "text": [
      "\n"
     ]
    }
   ],
   "source": [
    "%%time\n",
    "%%bigquery _ --project data-science-prod-218515 \n",
    "\n",
    "-- Pull the user IDs + time on subreddit\n",
    "--   Using temp function because it's much faster to expand ToS in BQ than in python\n",
    "--   But we need to write the data to a table because the response can be huge (billions of rows)\n",
    "DECLARE PT_TOS DATE DEFAULT \"2022-12-01\";\n",
    "\n",
    "CREATE TEMP FUNCTION\n",
    "tosParser(tosString STRING)\n",
    "RETURNS STRUCT<\n",
    "    subreddit_id STRING,\n",
    "    tos_30_pct FLOAT64\n",
    ">\n",
    "LANGUAGE js AS \"\"\"\n",
    "   arr = tosString.split(':');\n",
    "   this.subreddit_id = arr[0].slice(1, -1);\n",
    "   this.tos_30_pct = parseFloat(arr[1]);\n",
    "   return this;\n",
    "\"\"\"\n",
    ";\n",
    "\n",
    "\n",
    "CREATE OR REPLACE TABLE `reddit-employee-datasets.david_bermejo.pn_test_users_de_campaign_tos_30_pct_20230418`\n",
    "CLUSTER BY user_id\n",
    "AS (\n",
    "WITH tos_filtered AS (\n",
    "SELECT\n",
    "    u.user_id\n",
    "    , t.feature_value\n",
    "FROM `data-prod-165221.user_feature_platform.time_on_subreddit_pct_time_over_30_day_v1` AS t\n",
    "    INNER JOIN(\n",
    "        SELECT\n",
    "            DISTINCT user_id\n",
    "        FROM `reddit-employee-datasets.david_bermejo.pn_test_users_de_campaign_20230418`\n",
    "        -- LIMIT 10\n",
    "    ) AS u\n",
    "        ON u.user_id = t.entity_id\n",
    "WHERE DATE(t.pt) = PT_TOS\n",
    ")\n",
    ", tos_exploded AS (\n",
    "SELECT\n",
    "    user_id\n",
    "    , tosParser(feature_array_exploded).*\n",
    "FROM(\n",
    "    SELECT user_id, feature_array_exploded\n",
    "    FROM (\n",
    "        SELECT user_id, SPLIT(RTRIM(LTRIM(feature_value, '{'), '}')) AS feature_array FROM tos_filtered\n",
    "    ), UNNEST(feature_array) AS feature_array_exploded\n",
    ")\n",
    ")\n",
    "\n",
    "\n",
    "SELECT *\n",
    "FROM tos_exploded\n",
    "\n",
    "WHERE\n",
    "    -- Limit smallest sub b/c at some point it's a waste to try to aggregate such small embeddings\n",
    "    -- 0.001 -> 1000 subreddits evenly split\n",
    "    tos_30_pct >= 0.00005\n",
    ");\n"
   ]
  },
  {
   "cell_type": "code",
   "execution_count": 40,
   "id": "caded0dd",
   "metadata": {},
   "outputs": [
    {
     "name": "stderr",
     "output_type": "stream",
     "text": [
      "Query complete after 0.00s: 100%|██████████| 1/1 [00:00<00:00, 1111.07query/s]\n",
      "Downloading: 100%|██████████| 1/1 [00:01<00:00,  1.05s/rows]"
     ]
    },
    {
     "name": "stdout",
     "output_type": "stream",
     "text": [
      "CPU times: user 37.1 ms, sys: 10.6 ms, total: 47.7 ms\n",
      "Wall time: 1.8 s\n"
     ]
    },
    {
     "name": "stderr",
     "output_type": "stream",
     "text": [
      "\n"
     ]
    }
   ],
   "source": [
    "%%time\n",
    "%%bigquery df_tos_counts --project data-science-prod-218515 \n",
    "-- Count checks\n",
    "SELECT\n",
    "    COUNT(*) AS row_count\n",
    "    , COUNT(DISTINCT user_id) AS user_id_count\n",
    "FROM `reddit-employee-datasets.david_bermejo.pn_test_users_de_campaign_tos_30_pct_20230418`\n",
    ";\n"
   ]
  },
  {
   "cell_type": "code",
   "execution_count": 41,
   "id": "686f3db1",
   "metadata": {},
   "outputs": [
    {
     "data": {
      "text/html": [
       "<div>\n",
       "<style scoped>\n",
       "    .dataframe tbody tr th:only-of-type {\n",
       "        vertical-align: middle;\n",
       "    }\n",
       "\n",
       "    .dataframe tbody tr th {\n",
       "        vertical-align: top;\n",
       "    }\n",
       "\n",
       "    .dataframe thead th {\n",
       "        text-align: right;\n",
       "    }\n",
       "</style>\n",
       "<table border=\"1\" class=\"dataframe\">\n",
       "  <thead>\n",
       "    <tr style=\"text-align: right;\">\n",
       "      <th></th>\n",
       "      <th>row_count</th>\n",
       "      <th>user_id_count</th>\n",
       "    </tr>\n",
       "  </thead>\n",
       "  <tbody>\n",
       "    <tr>\n",
       "      <th>0</th>\n",
       "      <td>753063242</td>\n",
       "      <td>10578950</td>\n",
       "    </tr>\n",
       "  </tbody>\n",
       "</table>\n",
       "</div>"
      ],
      "text/plain": [
       "   row_count  user_id_count\n",
       "0  753063242       10578950"
      ]
     },
     "execution_count": 41,
     "metadata": {},
     "output_type": "execute_result"
    }
   ],
   "source": [
    "df_tos_counts"
   ]
  },
  {
   "cell_type": "code",
   "execution_count": 37,
   "id": "a8b59229",
   "metadata": {},
   "outputs": [],
   "source": [
    "del df_tos_counts"
   ]
  },
  {
   "cell_type": "markdown",
   "id": "b8f21e86",
   "metadata": {},
   "source": [
    "\n",
    "### Load data from GCS because loading straight from BQ takes too long (stopped after waiting for 30 minutes). \n",
    "\n",
    "```bash\n",
    "# Copy: the -n flag only copies \"NEW\" files\n",
    "# !gsutil -o GSUtil:parallel_thread_count=20 -o GSUtil:parallel_process_count=20 -m cp -r -n $remote_gs_path $local_f\n",
    "\n",
    "# rsync can be nicer because with `-n` you get a preview (dry run) before running a command\n",
    "# !gsutil -o GSUtil:parallel_thread_count=20 -o GSUtil:parallel_process_count=20 -m rsync -r -n $gcs_tos $local_path_tos\n",
    "```\n",
    "\n",
    "Note that it's better to run this command from the CLI because it can crash jupyter (fast log info "
   ]
  },
  {
   "cell_type": "code",
   "execution_count": 42,
   "id": "d1dffb61",
   "metadata": {},
   "outputs": [
    {
     "name": "stderr",
     "output_type": "stream",
     "text": [
      "Query complete after 0.00s: 100%|██████████| 1/1 [00:00<00:00, 808.00query/s]                          "
     ]
    },
    {
     "name": "stdout",
     "output_type": "stream",
     "text": [
      "CPU times: user 72.1 ms, sys: 1.41 ms, total: 73.5 ms\n",
      "Wall time: 4.66 s\n"
     ]
    },
    {
     "name": "stderr",
     "output_type": "stream",
     "text": [
      "\n"
     ]
    }
   ],
   "source": [
    "%%time\n",
    "%%bigquery _ --project data-science-prod-218515 \n",
    "\n",
    "-- Export data to GCS because querying such a huge table takes forever and a half\n",
    "EXPORT DATA OPTIONS(\n",
    "    uri='gs://i18n-subreddit-clustering/pn_model/runs/de_only_20230418/user_tos_30_pct/*.parquet',\n",
    "    format='PARQUET',\n",
    "    overwrite=true\n",
    ") AS\n",
    "SELECT *\n",
    "FROM `reddit-employee-datasets.david_bermejo.pn_test_users_de_campaign_tos_30_pct_20230418`\n",
    ";"
   ]
  },
  {
   "cell_type": "markdown",
   "id": "096630bb",
   "metadata": {},
   "source": [
    "Note:\n",
    "- The `-r` flag creates a \"dry-run\" (only tells you what will happen)\n",
    "- for final CLI command remove this flat (`-r`)\n",
    "\n",
    "Example output:\n",
    "```bash\n",
    "$ gsutil -o GSUtil:parallel_thread_count=20 -o GSUtil:parallel_process_count=20 -m rsync -r -n gs://i18n-subreddit-clustering/pn_model/runs/de_only_20230417/user_tos_30_pct/ /home/jupyter/subreddit_clustering_i18n/data/local_cache/i18n-subreddit-clustering/pn_model/runs/de_only_20230417/user_tos_30_pct\n",
    "\n",
    "...\n",
    "Copying gs://i18n-subreddit-clustering/pn_model/runs/de_only_20230417/user_tos_30_pct/000000000172.parquet...\n",
    " \\ [209/209 files][635.8 MiB/635.8 MiB] 100% Done                                 \n",
    " Operation completed over 209 objects/635.8 MiB. \n",
    "\n",
    "...\n",
    "\n",
    "Copying gs://i18n-subreddit-clustering/pn_model/runs/de_only_20230418/user_tos_30_pct/000000001369.parquet...\n",
    " | [1.4k/1.4k files][  5.2 GiB/  5.2 GiB] 100% Done     0.0 B/s                  \n",
    " Operation completed over 1.4k objects/5.2 GiB. \n",
    "```"
   ]
  },
  {
   "cell_type": "code",
   "execution_count": 44,
   "id": "1e5be026",
   "metadata": {},
   "outputs": [
    {
     "name": "stdout",
     "output_type": "stream",
     "text": [
      "GCS URI:\n",
      "  gs://i18n-subreddit-clustering/pn_model/runs/de_only_20230418/user_tos_30_pct/\n",
      "Local path:\n",
      "  /home/jupyter/subreddit_clustering_i18n/data/local_cache/i18n-subreddit-clustering/pn_model/runs/de_only_20230418/user_tos_30_pct\n",
      "\n",
      "CLI command DRY RUN:\n",
      "gsutil -o GSUtil:parallel_thread_count=20 -o GSUtil:parallel_process_count=20 -m rsync -r -n gs://i18n-subreddit-clustering/pn_model/runs/de_only_20230418/user_tos_30_pct/ /home/jupyter/subreddit_clustering_i18n/data/local_cache/i18n-subreddit-clustering/pn_model/runs/de_only_20230418/user_tos_30_pct\n",
      "\n",
      "CLI command ACTUAL run\n",
      "gsutil -o GSUtil:parallel_thread_count=20 -o GSUtil:parallel_process_count=20 -m rsync -r gs://i18n-subreddit-clustering/pn_model/runs/de_only_20230418/user_tos_30_pct/ /home/jupyter/subreddit_clustering_i18n/data/local_cache/i18n-subreddit-clustering/pn_model/runs/de_only_20230418/user_tos_30_pct\n"
     ]
    }
   ],
   "source": [
    "bucket_name_ = 'i18n-subreddit-clustering'\n",
    "gcs_tos = f\"gs://{bucket_name_}/pn_model/runs/de_only_20230418/user_tos_30_pct/\"\n",
    "\n",
    "path_local_cache = Path(f\"/home/jupyter/subreddit_clustering_i18n/data/local_cache/{bucket_name_}/\")\n",
    "local_path_tos = (\n",
    "    path_local_cache / \n",
    "    gcs_tos.split(f\"{bucket_name_}/\")[1]\n",
    ")\n",
    "Path.mkdir(local_path_tos, exist_ok=True, parents=True)\n",
    "\n",
    "\n",
    "print(f\"GCS URI:\\n  {gcs_tos}\\nLocal path:\\n  {local_path_tos}\")\n",
    "\n",
    "print(f\"\\nCLI command DRY RUN:\")\n",
    "!echo gsutil -o GSUtil:parallel_thread_count=20 -o GSUtil:parallel_process_count=20 -m rsync -r -n $gcs_tos $local_path_tos\n",
    "        \n",
    "print(f\"\\nCLI command ACTUAL run\")\n",
    "!echo gsutil -o GSUtil:parallel_thread_count=20 -o GSUtil:parallel_process_count=20 -m rsync -r $gcs_tos $local_path_tos"
   ]
  },
  {
   "cell_type": "code",
   "execution_count": 46,
   "id": "c0766604",
   "metadata": {},
   "outputs": [],
   "source": [
    "# Delete: If we need to delete data that was incorrect\n",
    "# !rm -r $local_path_tos"
   ]
  },
  {
   "cell_type": "code",
   "execution_count": 48,
   "id": "2a25c5e5",
   "metadata": {},
   "outputs": [],
   "source": [
    "# !gsutil -o GSUtil:parallel_thread_count=20 -o GSUtil:parallel_process_count=20 -m rsync -r $gcs_tos $local_path_tos"
   ]
  },
  {
   "cell_type": "code",
   "execution_count": 49,
   "id": "4d40e8a8",
   "metadata": {},
   "outputs": [
    {
     "name": "stdout",
     "output_type": "stream",
     "text": [
      "CPU times: user 1min 50s, sys: 28.5 s, total: 2min 19s\n",
      "Wall time: 11 s\n"
     ]
    }
   ],
   "source": [
    "%%time\n",
    "\n",
    "df_user_tos = pl.read_parquet(f\"{local_path_tos}/*.parquet\")"
   ]
  },
  {
   "cell_type": "code",
   "execution_count": 50,
   "id": "fc938400",
   "metadata": {},
   "outputs": [
    {
     "data": {
      "text/plain": [
       "(753063242, 3)"
      ]
     },
     "execution_count": 50,
     "metadata": {},
     "output_type": "execute_result"
    }
   ],
   "source": [
    "df_user_tos.shape"
   ]
  },
  {
   "cell_type": "code",
   "execution_count": 51,
   "id": "5a69cc3a",
   "metadata": {},
   "outputs": [
    {
     "name": "stdout",
     "output_type": "stream",
     "text": [
      "CPU times: user 6.77 s, sys: 58.1 ms, total: 6.83 s\n",
      "Wall time: 5.75 s\n"
     ]
    },
    {
     "data": {
      "text/html": [
       "<div><style>\n",
       ".dataframe > thead > tr > th,\n",
       ".dataframe > tbody > tr > td {\n",
       "  text-align: right;\n",
       "}\n",
       "</style>\n",
       "<small>shape: (7, 4)</small><table border=\"1\" class=\"dataframe\"><thead><tr><th>describe</th><th>user_id</th><th>subreddit_id</th><th>tos_30_pct</th></tr><tr><td>str</td><td>str</td><td>str</td><td>f64</td></tr></thead><tbody><tr><td>&quot;count&quot;</td><td>&quot;1000000&quot;</td><td>&quot;1000000&quot;</td><td>1e6</td></tr><tr><td>&quot;null_count&quot;</td><td>&quot;0&quot;</td><td>&quot;0&quot;</td><td>0.0</td></tr><tr><td>&quot;mean&quot;</td><td>null</td><td>null</td><td>0.013974</td></tr><tr><td>&quot;std&quot;</td><td>null</td><td>null</td><td>0.067934</td></tr><tr><td>&quot;min&quot;</td><td>&quot;t2_1000ih&quot;</td><td>&quot;t5_1009a3&quot;</td><td>0.00005</td></tr><tr><td>&quot;max&quot;</td><td>&quot;t2_zzzye&quot;</td><td>&quot;t5_zzszh&quot;</td><td>1.0</td></tr><tr><td>&quot;median&quot;</td><td>null</td><td>null</td><td>0.00078</td></tr></tbody></table></div>"
      ],
      "text/plain": [
       "shape: (7, 4)\n",
       "┌────────────┬───────────┬──────────────┬────────────┐\n",
       "│ describe   ┆ user_id   ┆ subreddit_id ┆ tos_30_pct │\n",
       "│ ---        ┆ ---       ┆ ---          ┆ ---        │\n",
       "│ str        ┆ str       ┆ str          ┆ f64        │\n",
       "╞════════════╪═══════════╪══════════════╪════════════╡\n",
       "│ count      ┆ 1000000   ┆ 1000000      ┆ 1e6        │\n",
       "│ null_count ┆ 0         ┆ 0            ┆ 0.0        │\n",
       "│ mean       ┆ null      ┆ null         ┆ 0.013974   │\n",
       "│ std        ┆ null      ┆ null         ┆ 0.067934   │\n",
       "│ min        ┆ t2_1000ih ┆ t5_1009a3    ┆ 0.00005    │\n",
       "│ max        ┆ t2_zzzye  ┆ t5_zzszh     ┆ 1.0        │\n",
       "│ median     ┆ null      ┆ null         ┆ 0.00078    │\n",
       "└────────────┴───────────┴──────────────┴────────────┘"
      ]
     },
     "execution_count": 51,
     "metadata": {},
     "output_type": "execute_result"
    }
   ],
   "source": [
    "%%time\n",
    "df_user_tos.sample(n=int(1e6)).describe()"
   ]
  },
  {
   "cell_type": "code",
   "execution_count": 52,
   "id": "9d2628b9",
   "metadata": {},
   "outputs": [
    {
     "data": {
      "text/html": [
       "<div><style>\n",
       ".dataframe > thead > tr > th,\n",
       ".dataframe > tbody > tr > td {\n",
       "  text-align: right;\n",
       "}\n",
       "</style>\n",
       "<small>shape: (5, 3)</small><table border=\"1\" class=\"dataframe\"><thead><tr><th>user_id</th><th>subreddit_id</th><th>tos_30_pct</th></tr><tr><td>str</td><td>str</td><td>f64</td></tr></thead><tbody><tr><td>&quot;t2_100bpa&quot;</td><td>&quot;t5_leqac&quot;</td><td>0.00008</td></tr><tr><td>&quot;t2_100bpa&quot;</td><td>&quot;t5_2qlr2&quot;</td><td>0.00098</td></tr><tr><td>&quot;t2_101729&quot;</td><td>&quot;t5_3n7fs&quot;</td><td>0.00006</td></tr><tr><td>&quot;t2_101729&quot;</td><td>&quot;t5_2w7mz&quot;</td><td>0.00453</td></tr><tr><td>&quot;t2_1021ns&quot;</td><td>&quot;t5_2szd9&quot;</td><td>0.00018</td></tr></tbody></table></div>"
      ],
      "text/plain": [
       "shape: (5, 3)\n",
       "┌───────────┬──────────────┬────────────┐\n",
       "│ user_id   ┆ subreddit_id ┆ tos_30_pct │\n",
       "│ ---       ┆ ---          ┆ ---        │\n",
       "│ str       ┆ str          ┆ f64        │\n",
       "╞═══════════╪══════════════╪════════════╡\n",
       "│ t2_100bpa ┆ t5_leqac     ┆ 0.00008    │\n",
       "│ t2_100bpa ┆ t5_2qlr2     ┆ 0.00098    │\n",
       "│ t2_101729 ┆ t5_3n7fs     ┆ 0.00006    │\n",
       "│ t2_101729 ┆ t5_2w7mz     ┆ 0.00453    │\n",
       "│ t2_1021ns ┆ t5_2szd9     ┆ 0.00018    │\n",
       "└───────────┴──────────────┴────────────┘"
      ]
     },
     "execution_count": 52,
     "metadata": {},
     "output_type": "execute_result"
    }
   ],
   "source": [
    "df_user_tos.head()"
   ]
  },
  {
   "cell_type": "markdown",
   "id": "6c6e9dd6",
   "metadata": {},
   "source": [
    "# Other Transforms \n",
    "\n",
    "We don't need these transforms for ANN, but will use it for modeling step\n",
    "- Count of subreddits per user for ToS\n",
    "\n",
    "Other data:\n",
    "- Subscribed to target subreddit\n",
    "- Age of account\n",
    "- Activity in L14 days\n",
    "- etc...\n",
    "\n",
    "\n",
    "\n",
    "---\n"
   ]
  },
  {
   "cell_type": "markdown",
   "id": "bbb04da1",
   "metadata": {},
   "source": [
    "# Compute user-level weighted embedding\n",
    "\n",
    "now that we have the long df, let's compute the user-level weighted embedding (multiply weights x embedding & groupby user-id)"
   ]
  },
  {
   "cell_type": "markdown",
   "id": "217ee82f",
   "metadata": {},
   "source": [
    "## Run on all users\n",
    "\n",
    "Batches of 150-million user<>subreddit weighted embeddings was too much memory (over 1.2 TB). So the kernel gets killed/dies.\n",
    "\n",
    "Instead, try to run in batches of\n",
    "- 80 to 100 million ToS rows\n",
    "\n",
    "---\n",
    "\n",
    "Example ETAs:\n",
    "\n",
    "```bash\n",
    "# 800k users | 130 million ToS rows\n",
    "07:08:08 | INFO | \"Append subreddit embeddings to user ToS\"\n",
    "07:08:13 | INFO | \"Compute weighted avg embedding for user-level\"\n",
    "07:09:49 | INFO | \"Compute AGGREGATED user-level embedding...\"\n",
    "(130601209, 100)\n",
    "(856211, 101)\n",
    "CPU times: user 18min 9s, sys: 8min 21s, total: 26min 31s\n",
    "Wall time: 4min 52s\n",
    "\n",
    "\n",
    "# 9.8 million users |  764.5 million ToS rows\n",
    "10:49:14 | INFO | \"Compute weighted ToS embeddings...\"\n",
    "10:58:43 | INFO | \"(764565252, 102) <- df.shape ToS with weighted embedddings\"\n",
    "10:58:43 | INFO | \"Delete temp df to free up memory\"\n",
    "10:58:43 | INFO | \"Compute AGGREGATED user-level embedding...\"\n",
    "10:59:50 | INFO | \"(9874962, 101) <- df.shape User weighted embedddings\"\n",
    "(764565252, 102)\n",
    "(9874962, 101)\n",
    "CPU times: user 2h 53min 2s, sys: 44min 23s, total: 3h 37min 25s\n",
    "Wall time: 23min 30s\n",
    "\n",
    "\n",
    "# 3.1 million users | 96.5 million ToS rows\n",
    "18:34:23 | INFO | \"Compute weighted ToS embeddings...\"\n",
    "18:34:53 | INFO | \"(96519368, 102) <- df.shape ToS with weighted embedddings\"\n",
    "18:34:53 | INFO | \"Delete temp df to free up memory\"\n",
    "18:34:54 | INFO | \"Compute AGGREGATED user-level embedding...\"\n",
    "18:35:03 | INFO | \"(3164772, 101) <- df.shape User weighted embedddings\"\n",
    "(3164772, 101)\n",
    "CPU times: user 21min 57s, sys: 5min 1s, total: 26min 59s\n",
    "Wall time: 2min 3s\n",
    "```"
   ]
  },
  {
   "cell_type": "code",
   "execution_count": 53,
   "id": "d39b6b4e",
   "metadata": {},
   "outputs": [
    {
     "name": "stderr",
     "output_type": "stream",
     "text": [
      "23:10:17 | INFO | \"753,063,242 <- Data Size\"\n",
      "23:10:17 | INFO | \"80,000,000 <- Batch Size\"\n",
      "23:10:17 | INFO | \"0,000,010 <- Chunks\"\n",
      "23:10:17 | INFO | \"Append subreddit embeddings to user ToS\"\n",
      "23:11:28 | INFO | \"(677271810, 103) <- df.shape ToS with raw embeddings (no nulls)\"\n",
      "23:11:29 | INFO | \"Create DAG for weighted avg embedding per user+subreddit\"\n"
     ]
    },
    {
     "data": {
      "application/vnd.jupyter.widget-view+json": {
       "model_id": "63e41951e6744a7d9a475decf927b6d3",
       "version_major": 2,
       "version_minor": 0
      },
      "text/plain": [
       "  0%|          | 0/10 [00:00<?, ?it/s]"
      ]
     },
     "metadata": {},
     "output_type": "display_data"
    },
    {
     "name": "stderr",
     "output_type": "stream",
     "text": [
      "23:21:15 | INFO | \"Dask visualize DAG\"\n"
     ]
    },
    {
     "data": {
      "image/png": "[encoded data removed]",
      "text/plain": [
       "<IPython.core.display.Image object>"
      ]
     },
     "metadata": {},
     "output_type": "display_data"
    },
    {
     "name": "stderr",
     "output_type": "stream",
     "text": [
      "23:21:20 | INFO | \"Compute weighted ToS embeddings...\"\n",
      "23:28:57 | INFO | \"(677271810, 102) <- df.shape ToS with weighted embedddings\"\n",
      "23:28:57 | INFO | \"Delete temp df to free up memory\"\n",
      "23:28:58 | INFO | \"Compute AGGREGATED user-level embedding...\"\n",
      "23:29:50 | INFO | \"(10533999, 101) <- df.shape User weighted embedddings\"\n"
     ]
    },
    {
     "name": "stdout",
     "output_type": "stream",
     "text": [
      "(10533999, 101)\n",
      "CPU times: user 2h 21min 7s, sys: 41min 1s, total: 3h 2min 8s\n",
      "Wall time: 19min 47s\n"
     ]
    }
   ],
   "source": [
    "%%time\n",
    "\n",
    "# when computing on full data set, we need to batch b/c the computer will run out of RAM if/when converting parquet to numpy\n",
    "n_sample = None  # None  # None  int(10e6)\n",
    "\n",
    "if n_sample is None:\n",
    "    df_user_tos_proc_ = df_user_tos\n",
    "else:\n",
    "    df_user_tos_proc_ = df_user_tos.sample(n=n_sample, seed=42)\n",
    "n_size = len(df_user_tos_proc_)\n",
    "\n",
    "batch_size = int(80e6)  # int(110e6), 9e6 = 9Million\n",
    "n_chunks = 1 + n_size // batch_size\n",
    "iter_chunks = range(n_chunks)\n",
    "\n",
    "info(f\"{n_size:09,.0f} <- Data Size\")\n",
    "info(f\"{batch_size:09,.0f} <- Batch Size\")\n",
    "info(f\"{n_chunks:09,.0f} <- Chunks\")\n",
    "\n",
    "\n",
    "info(f\"Append subreddit embeddings to user ToS\")\n",
    "df_user_emb_tmp = (\n",
    "    df_user_tos_proc_\n",
    "    .join(\n",
    "        df_sub_emb.drop('subreddit_name'),\n",
    "        how='left',\n",
    "        on=['subreddit_id']\n",
    "    )\n",
    "    # Drop or replace nulls as early as possible\n",
    "    .drop_nulls()\n",
    ")\n",
    "info(f\"{df_user_emb_tmp.shape} <- df.shape ToS with raw embeddings (no nulls)\")\n",
    "gc.collect()\n",
    "\n",
    "info(f\"Create DAG for weighted avg embedding per user+subreddit\")\n",
    "# Use dask.delayed() to compute these in parallel & prevent some OOM errors\n",
    "l_dfs_tos_wt = list()\n",
    "for i in tqdm(iter_chunks, mininterval=0.1, ascii=True):\n",
    "    l_dfs_tos_wt.append(\n",
    "        df_user_emb_tmp[['user_id', 'subreddit_id']][:batch_size]\n",
    "        .with_columns(\n",
    "            pl.DataFrame(\n",
    "                data=(\n",
    "                    np.multiply(\n",
    "                        df_user_emb_tmp['tos_30_pct'][:batch_size].to_numpy(),\n",
    "                        df_user_emb_tmp[l_emb_cols][:batch_size].to_numpy().T\n",
    "                    ).T\n",
    "                ),\n",
    "                schema=l_emb_cols,\n",
    "            )\n",
    "        )\n",
    "    )\n",
    "    # delete processed rows to save space\n",
    "    df_user_emb_tmp = df_user_emb_tmp[batch_size:]\n",
    "    gc.collect()\n",
    "\n",
    "df_user_emb_tmp_wt_del = dask.delayed(pl.concat)(\n",
    "    l_dfs_tos_wt, how='vertical', parallel=True\n",
    ")\n",
    "info(f\"Dask visualize DAG\")\n",
    "display(df_user_emb_tmp_wt_del.visualize(\n",
    "    f\"dask_DAG-{n_size}_data-{batch_size}_batch_size-{n_chunks}_chunks.png\"\n",
    "))\n",
    "gc.collect()\n",
    "info(f\"Compute weighted ToS embeddings...\")\n",
    "df_user_emb_tmp_wt = df_user_emb_tmp_wt_del.compute()\n",
    "info(f\"{df_user_emb_tmp_wt.shape} <- df.shape ToS with weighted embedddings\")\n",
    "\n",
    "info(f\"Delete temp df to free up memory\")\n",
    "del df_user_emb_tmp, l_dfs_tos_wt\n",
    "gc.collect()\n",
    "\n",
    "info(f\"Compute AGGREGATED user-level embedding...\")\n",
    "df_user_emb = (\n",
    "    df_user_emb_tmp_wt\n",
    "    .groupby(\n",
    "        ['user_id']\n",
    "    )\n",
    "    .agg(\n",
    "        [\n",
    "            pl.col(l_emb_cols).mean()\n",
    "        ]\n",
    "    )\n",
    ")\n",
    "info(f\"{df_user_emb.shape} <- df.shape User weighted embedddings\")\n",
    "del df_user_emb_tmp_wt\n",
    "gc.collect()\n",
    "print(df_user_emb.shape)"
   ]
  },
  {
   "cell_type": "code",
   "execution_count": 54,
   "id": "d5ee3646",
   "metadata": {},
   "outputs": [
    {
     "data": {
      "text/html": [
       "<div><style>\n",
       ".dataframe > thead > tr > th,\n",
       ".dataframe > tbody > tr > td {\n",
       "  text-align: right;\n",
       "}\n",
       "</style>\n",
       "<small>shape: (4, 15)</small><table border=\"1\" class=\"dataframe\"><thead><tr><th>user_id</th><th>embedding_000</th><th>embedding_001</th><th>embedding_002</th><th>embedding_003</th><th>embedding_004</th><th>embedding_005</th><th>embedding_006</th><th>embedding_007</th><th>embedding_008</th><th>embedding_009</th><th>embedding_010</th><th>embedding_011</th><th>embedding_012</th><th>embedding_013</th></tr><tr><td>str</td><td>f64</td><td>f64</td><td>f64</td><td>f64</td><td>f64</td><td>f64</td><td>f64</td><td>f64</td><td>f64</td><td>f64</td><td>f64</td><td>f64</td><td>f64</td><td>f64</td></tr></thead><tbody><tr><td>&quot;t2_13ijthd7&quot;</td><td>-0.000477</td><td>0.001542</td><td>0.001145</td><td>-0.001058</td><td>-0.000474</td><td>0.001527</td><td>0.000915</td><td>-0.000072</td><td>0.004102</td><td>0.00073</td><td>-0.000558</td><td>0.002428</td><td>0.001093</td><td>-0.000813</td></tr><tr><td>&quot;t2_twnmqqq5&quot;</td><td>-0.260322</td><td>0.109462</td><td>0.022264</td><td>-0.029227</td><td>0.011456</td><td>0.055284</td><td>0.026742</td><td>-0.035801</td><td>0.196079</td><td>0.02531</td><td>-0.083155</td><td>-0.028771</td><td>0.057644</td><td>0.038707</td></tr><tr><td>&quot;t2_mo9rte98&quot;</td><td>0.007198</td><td>-0.067097</td><td>0.049512</td><td>-0.168822</td><td>-0.214957</td><td>0.266824</td><td>0.233859</td><td>-0.152512</td><td>0.133501</td><td>-0.065121</td><td>-0.171795</td><td>0.427113</td><td>0.032122</td><td>0.057951</td></tr><tr><td>&quot;t2_u3470wrj&quot;</td><td>-0.034847</td><td>0.114699</td><td>-0.055321</td><td>-0.057482</td><td>-0.008865</td><td>0.004448</td><td>-0.013766</td><td>0.028061</td><td>0.067108</td><td>0.133352</td><td>0.058031</td><td>0.080663</td><td>0.061942</td><td>-0.061296</td></tr></tbody></table></div>"
      ],
      "text/plain": [
       "shape: (4, 15)\n",
       "┌───┬────────────┬────────────┬────────────┬───┬────────────┬────────────┬────────────┬────────────┐\n",
       "│ u ┆ embedding_ ┆ embedding_ ┆ embedding_ ┆ … ┆ embedding_ ┆ embedding_ ┆ embedding_ ┆ embedding_ │\n",
       "│ s ┆ 000        ┆ 001        ┆ 002        ┆   ┆ 010        ┆ 011        ┆ 012        ┆ 013        │\n",
       "│ e ┆ ---        ┆ ---        ┆ ---        ┆   ┆ ---        ┆ ---        ┆ ---        ┆ ---        │\n",
       "│ r ┆ f64        ┆ f64        ┆ f64        ┆   ┆ f64        ┆ f64        ┆ f64        ┆ f64        │\n",
       "│ _ ┆            ┆            ┆            ┆   ┆            ┆            ┆            ┆            │\n",
       "│ i ┆            ┆            ┆            ┆   ┆            ┆            ┆            ┆            │\n",
       "│ d ┆            ┆            ┆            ┆   ┆            ┆            ┆            ┆            │\n",
       "│ - ┆            ┆            ┆            ┆   ┆            ┆            ┆            ┆            │\n",
       "│ - ┆            ┆            ┆            ┆   ┆            ┆            ┆            ┆            │\n",
       "│ - ┆            ┆            ┆            ┆   ┆            ┆            ┆            ┆            │\n",
       "│ s ┆            ┆            ┆            ┆   ┆            ┆            ┆            ┆            │\n",
       "│ t ┆            ┆            ┆            ┆   ┆            ┆            ┆            ┆            │\n",
       "│ r ┆            ┆            ┆            ┆   ┆            ┆            ┆            ┆            │\n",
       "╞═══╪════════════╪════════════╪════════════╪═══╪════════════╪════════════╪════════════╪════════════╡\n",
       "│ t ┆ -0.000477  ┆ 0.001542   ┆ 0.001145   ┆ … ┆ -0.000558  ┆ 0.002428   ┆ 0.001093   ┆ -0.000813  │\n",
       "│ 2 ┆            ┆            ┆            ┆   ┆            ┆            ┆            ┆            │\n",
       "│ _ ┆            ┆            ┆            ┆   ┆            ┆            ┆            ┆            │\n",
       "│ 1 ┆            ┆            ┆            ┆   ┆            ┆            ┆            ┆            │\n",
       "│ 3 ┆            ┆            ┆            ┆   ┆            ┆            ┆            ┆            │\n",
       "│ i ┆            ┆            ┆            ┆   ┆            ┆            ┆            ┆            │\n",
       "│ j ┆            ┆            ┆            ┆   ┆            ┆            ┆            ┆            │\n",
       "│ t ┆            ┆            ┆            ┆   ┆            ┆            ┆            ┆            │\n",
       "│ h ┆            ┆            ┆            ┆   ┆            ┆            ┆            ┆            │\n",
       "│ d ┆            ┆            ┆            ┆   ┆            ┆            ┆            ┆            │\n",
       "│ 7 ┆            ┆            ┆            ┆   ┆            ┆            ┆            ┆            │\n",
       "│ t ┆ -0.260322  ┆ 0.109462   ┆ 0.022264   ┆ … ┆ -0.083155  ┆ -0.028771  ┆ 0.057644   ┆ 0.038707   │\n",
       "│ 2 ┆            ┆            ┆            ┆   ┆            ┆            ┆            ┆            │\n",
       "│ _ ┆            ┆            ┆            ┆   ┆            ┆            ┆            ┆            │\n",
       "│ t ┆            ┆            ┆            ┆   ┆            ┆            ┆            ┆            │\n",
       "│ w ┆            ┆            ┆            ┆   ┆            ┆            ┆            ┆            │\n",
       "│ n ┆            ┆            ┆            ┆   ┆            ┆            ┆            ┆            │\n",
       "│ m ┆            ┆            ┆            ┆   ┆            ┆            ┆            ┆            │\n",
       "│ q ┆            ┆            ┆            ┆   ┆            ┆            ┆            ┆            │\n",
       "│ q ┆            ┆            ┆            ┆   ┆            ┆            ┆            ┆            │\n",
       "│ q ┆            ┆            ┆            ┆   ┆            ┆            ┆            ┆            │\n",
       "│ 5 ┆            ┆            ┆            ┆   ┆            ┆            ┆            ┆            │\n",
       "│ t ┆ 0.007198   ┆ -0.067097  ┆ 0.049512   ┆ … ┆ -0.171795  ┆ 0.427113   ┆ 0.032122   ┆ 0.057951   │\n",
       "│ 2 ┆            ┆            ┆            ┆   ┆            ┆            ┆            ┆            │\n",
       "│ _ ┆            ┆            ┆            ┆   ┆            ┆            ┆            ┆            │\n",
       "│ m ┆            ┆            ┆            ┆   ┆            ┆            ┆            ┆            │\n",
       "│ o ┆            ┆            ┆            ┆   ┆            ┆            ┆            ┆            │\n",
       "│ 9 ┆            ┆            ┆            ┆   ┆            ┆            ┆            ┆            │\n",
       "│ r ┆            ┆            ┆            ┆   ┆            ┆            ┆            ┆            │\n",
       "│ t ┆            ┆            ┆            ┆   ┆            ┆            ┆            ┆            │\n",
       "│ e ┆            ┆            ┆            ┆   ┆            ┆            ┆            ┆            │\n",
       "│ 9 ┆            ┆            ┆            ┆   ┆            ┆            ┆            ┆            │\n",
       "│ 8 ┆            ┆            ┆            ┆   ┆            ┆            ┆            ┆            │\n",
       "│ t ┆ -0.034847  ┆ 0.114699   ┆ -0.055321  ┆ … ┆ 0.058031   ┆ 0.080663   ┆ 0.061942   ┆ -0.061296  │\n",
       "│ 2 ┆            ┆            ┆            ┆   ┆            ┆            ┆            ┆            │\n",
       "│ _ ┆            ┆            ┆            ┆   ┆            ┆            ┆            ┆            │\n",
       "│ u ┆            ┆            ┆            ┆   ┆            ┆            ┆            ┆            │\n",
       "│ 3 ┆            ┆            ┆            ┆   ┆            ┆            ┆            ┆            │\n",
       "│ 4 ┆            ┆            ┆            ┆   ┆            ┆            ┆            ┆            │\n",
       "│ 7 ┆            ┆            ┆            ┆   ┆            ┆            ┆            ┆            │\n",
       "│ 0 ┆            ┆            ┆            ┆   ┆            ┆            ┆            ┆            │\n",
       "│ w ┆            ┆            ┆            ┆   ┆            ┆            ┆            ┆            │\n",
       "│ r ┆            ┆            ┆            ┆   ┆            ┆            ┆            ┆            │\n",
       "│ j ┆            ┆            ┆            ┆   ┆            ┆            ┆            ┆            │\n",
       "└───┴────────────┴────────────┴────────────┴───┴────────────┴────────────┴────────────┴────────────┘"
      ]
     },
     "execution_count": 54,
     "metadata": {},
     "output_type": "execute_result"
    }
   ],
   "source": [
    "df_user_emb[:4, :15]"
   ]
  },
  {
   "cell_type": "markdown",
   "id": "9a521dbf",
   "metadata": {},
   "source": [
    "### Save user embeddings"
   ]
  },
  {
   "cell_type": "code",
   "execution_count": 55,
   "id": "57957ef3",
   "metadata": {},
   "outputs": [
    {
     "name": "stderr",
     "output_type": "stream",
     "text": [
      "23:30:05 | INFO | \"User embedding name:\n",
      "/home/jupyter/subreddit_clustering_i18n/data/models/pn_model/pn_manual_test_2023-04-18_224701/df_user_embedding-2023-04-18_2330-10533999_by_101.parquet\"\n"
     ]
    },
    {
     "name": "stdout",
     "output_type": "stream",
     "text": [
      "CPU times: user 1min 29s, sys: 10.8 s, total: 1min 39s\n",
      "Wall time: 1min 41s\n"
     ]
    }
   ],
   "source": [
    "%%time\n",
    "\n",
    "r_, c_ = df_user_emb.shape\n",
    "\n",
    "f_user_embedding_name = (\n",
    "    path_this_model / \n",
    "    f\"df_user_embedding-{datetime.utcnow().strftime('%Y-%m-%d_%H%M')}\"\n",
    "    f\"-{r_}_by_{c_}.parquet\"\n",
    ")\n",
    "info(f\"User embedding name:\\n{f_user_embedding_name}\")\n",
    "\n",
    "df_user_emb.write_parquet(\n",
    "    f_user_embedding_name\n",
    ")\n",
    "\n",
    "del r_, c_"
   ]
  },
  {
   "cell_type": "code",
   "execution_count": 56,
   "id": "f4eb1b02",
   "metadata": {},
   "outputs": [
    {
     "data": {
      "text/plain": [
       "['de']"
      ]
     },
     "execution_count": 56,
     "metadata": {},
     "output_type": "execute_result"
    }
   ],
   "source": [
    "l_target_subreddits"
   ]
  },
  {
   "cell_type": "markdown",
   "id": "2ac14b34",
   "metadata": {},
   "source": [
    "# Calculate ANN index & ANN users\n",
    "\n",
    "\n",
    "ETA for 1 campaign (~3 million users):\n",
    "- Compute index: 4 minutes\n",
    "- Compute ANN: \n",
    "\n",
    "```bash\n",
    "# index creation, 3.2 million users\n",
    "CPU times: user 3h 23min 8s, sys: 2min 31s, total: 3h 25min 40s\n",
    "Wall time: 3min 22s\n",
    "\n",
    "# ANN\n",
    "22:26:11 | INFO | \"Start computing ANNs for n=3,164,772\"\n",
    "22:27:18 | INFO | \"(3164772, 4) <- df_nns_by_vector shape\"\n",
    "22:27:18 | INFO | \"Adding index labels (subreddit ID & Name)\"\n",
    "22:27:20 | INFO | \"Done adding index names\"\n",
    "22:27:20 | INFO | \"(3164772, 5) <- df_nns_by_v shape\"\n",
    "22:27:20 | INFO | \"Calculating cosine similarity...\"\n",
    "CPU times: user 1min 5s, sys: 2.9 s, total: 1min 8s\n",
    "Wall time: 1min 8s\n",
    "```\n",
    "\n",
    "```bash\n",
    "# Index\n",
    "23:31:49 | INFO | \"10,533,999 <- Items for ANNOY index\"\n",
    "23:31:59 | INFO | \"Start creating ANNOY index...\"\n",
    "CPU times: user 12h 27s, sys: 6min 30s, total: 12h 6min 58s\n",
    "Wall time: 11min 53s\n",
    "\n",
    "# ANN\n",
    "23:43:43 | INFO | \"Start computing ANNs for n=10,533,999\"\n",
    "23:47:47 | INFO | \"(10533999, 4) <- df_nns_by_vector shape\"\n",
    "23:47:47 | INFO | \"Adding index labels (subreddit ID & Name)\"\n",
    "23:47:53 | INFO | \"Done adding index names\"\n",
    "23:47:53 | INFO | \"(10533999, 5) <- df_nns_by_v shape\"\n",
    "23:47:53 | INFO | \"Calculating cosine similarity...\"\n",
    "CPU times: user 3min 59s, sys: 11 s, total: 4min 10s\n",
    "Wall time: 4min 10s\n",
    "\n",
    "```\n",
    "---\n",
    "\n",
    "In PROD: \n",
    "- create one index PER Subreddit<>COUNTRY\n",
    "    - This way we ensure a minimum of N users per country\n",
    "    \n",
    "In this test, we've already filtered to only one country, so no need to create individual index.\n"
   ]
  },
  {
   "cell_type": "code",
   "execution_count": 57,
   "id": "d93f252b",
   "metadata": {},
   "outputs": [
    {
     "data": {
      "text/plain": [
       "(10533999, 101)"
      ]
     },
     "execution_count": 57,
     "metadata": {},
     "output_type": "execute_result"
    }
   ],
   "source": [
    "df_user_emb.shape"
   ]
  },
  {
   "cell_type": "code",
   "execution_count": 58,
   "id": "7607407b",
   "metadata": {},
   "outputs": [],
   "source": [
    "# df_user_emb.head()"
   ]
  },
  {
   "cell_type": "code",
   "execution_count": 59,
   "id": "0770df61",
   "metadata": {},
   "outputs": [],
   "source": [
    "d_ann_params = {\n",
    "    'n_trees': 200,\n",
    "    'metric': 'angular',\n",
    "}"
   ]
  },
  {
   "cell_type": "code",
   "execution_count": 60,
   "id": "a495821c",
   "metadata": {},
   "outputs": [
    {
     "name": "stderr",
     "output_type": "stream",
     "text": [
      "23:31:49 | INFO | \"10,533,999 <- Items for ANNOY index\"\n",
      "23:31:59 | INFO | \"Start creating ANNOY index...\"\n"
     ]
    },
    {
     "name": "stdout",
     "output_type": "stream",
     "text": [
      "CPU times: user 12h 27s, sys: 6min 30s, total: 12h 6min 58s\n",
      "Wall time: 11min 53s\n"
     ]
    }
   ],
   "source": [
    "%%time\n",
    "\n",
    "index_cols = ['user_id']\n",
    "l_embedding_cols = [c for c in df_user_emb.columns if c.startswith('embedding_')]\n",
    "\n",
    "\n",
    "# This version of AnnoyIndex expects a pandas DF\n",
    "#  so it might take a little extra time to compute\n",
    "info(f\"{len(df_user_emb):,.0f} <- Items for ANNOY index\")\n",
    "nn_index = AnnoyIndex(\n",
    "    df_user_emb[l_embedding_cols + index_cols].to_pandas(),\n",
    "    index_cols=index_cols,\n",
    "    metric=d_ann_params['metric'],\n",
    "    n_trees=d_ann_params['n_trees'],\n",
    ")\n",
    "\n",
    "info(f\"Start creating ANNOY index...\")\n",
    "nn_index.build()"
   ]
  },
  {
   "cell_type": "code",
   "execution_count": 61,
   "id": "6c36f919",
   "metadata": {},
   "outputs": [
    {
     "data": {
      "text/plain": [
       "(100,)"
      ]
     },
     "execution_count": 61,
     "metadata": {},
     "output_type": "execute_result"
    }
   ],
   "source": [
    "# convert target sub into a vector for query\n",
    "q_target_sub = (\n",
    "    df_sub_emb\n",
    "    .filter(\n",
    "        df_sub_emb['subreddit_name'] == l_target_subreddits[0]\n",
    "    )\n",
    "    .select(\n",
    "        pl.col(l_emb_cols)\n",
    "    )\n",
    "    .to_numpy()\n",
    "    [0]\n",
    ")\n",
    "\n",
    "q_target_sub.shape"
   ]
  },
  {
   "cell_type": "code",
   "execution_count": 62,
   "id": "3ff939d6",
   "metadata": {},
   "outputs": [
    {
     "name": "stderr",
     "output_type": "stream",
     "text": [
      "23:43:43 | INFO | \"Start computing ANNs for n=10,533,999\"\n",
      "23:47:47 | INFO | \"(10533999, 4) <- df_nns_by_vector shape\"\n",
      "23:47:47 | INFO | \"Adding index labels (subreddit ID & Name)\"\n",
      "23:47:53 | INFO | \"Done adding index names\"\n",
      "23:47:53 | INFO | \"(10533999, 5) <- df_nns_by_v shape\"\n",
      "23:47:53 | INFO | \"Calculating cosine similarity...\"\n"
     ]
    },
    {
     "name": "stdout",
     "output_type": "stream",
     "text": [
      "CPU times: user 3min 59s, sys: 11 s, total: 4min 10s\n",
      "Wall time: 4min 10s\n"
     ]
    }
   ],
   "source": [
    "%%time\n",
    "# inputs\n",
    "vector: Union[np.array, pd.Series] = q_target_sub\n",
    "n: int = len(df_user_emb)\n",
    "search_k = -1\n",
    "include_distances: bool = True\n",
    "\n",
    "col_distance: str = 'distance'\n",
    "col_distance_rank: str = 'distance_rank'\n",
    "col_vector_name: str = 'subreddit_name'\n",
    "col_cosine_similarity: str = 'cosine_similarity'\n",
    "\n",
    "append_i = True\n",
    "cosine_similarity = True\n",
    "\n",
    "\n",
    "# Execute fxn:\n",
    "info(f\"Start computing ANNs for n={n:,.0f}\")\n",
    "i_nn: Tuple[int, float] = nn_index.index.get_nns_by_vector(\n",
    "    vector=vector,\n",
    "    n=n, \n",
    "    search_k=search_k, \n",
    "    include_distances=include_distances,\n",
    ")\n",
    "\n",
    "\n",
    "# TBD: skip the first item because the most similar one is always self?\n",
    "df_nns_by_v = pd.DataFrame(\n",
    "    {\n",
    "        'subreddit_name': [l_target_subreddits[0]] * n,\n",
    "        'nn_ix': i_nn[0][:],\n",
    "        col_distance: i_nn[1][:],\n",
    "        col_distance_rank: [v for v in range(1, n + 1)]\n",
    "    },\n",
    ")\n",
    "info(f\"{df_nns_by_v.shape} <- df_nns_by_vector shape\")\n",
    "\n",
    "if append_i:\n",
    "    info(f\"Adding index labels (subreddit ID & Name)\")\n",
    "    df_labels_reset_index = nn_index.index_labels_df.copy().reset_index(drop=True)\n",
    "\n",
    "    # Append index (e.g., IDs & names) for ANNs (nearest neighbors)\n",
    "    # NOTE: using .merge() based on index_labels_df is 100x (or more) faster than\n",
    "    #   pd.Series().replace() with a dictionary(!!)\n",
    "    df_nns_by_v = (\n",
    "        df_labels_reset_index\n",
    "        # We only append the ANN index because the annoy index doesn't have info about \n",
    "        # the vector (subreddit) we searched\n",
    "        #  We shouldn't need to reset or rename the index\n",
    "        .merge(\n",
    "            df_nns_by_v,\n",
    "            how='right',\n",
    "            left_index=True,\n",
    "            right_on='nn_ix',\n",
    "        )\n",
    "    )\n",
    "    info(f\"Done adding index names\")\n",
    "    info(f\"{df_nns_by_v.shape} <- df_nns_by_v shape\")\n",
    "\n",
    "if cosine_similarity:\n",
    "    # from: https://github.com/spotify/annoy/issues/112#issuecomment-686513356\n",
    "    # ```\n",
    "    # cosine_similarity = 1 - cosine_distance^2/2\n",
    "    # ```\n",
    "    if nn_index.metric == 'angular':\n",
    "        info(f\"Calculating cosine similarity...\")\n",
    "        df_nns_by_v[col_cosine_similarity] = (\n",
    "            1 -\n",
    "            (df_nns_by_v['distance'] ** 2) / 2\n",
    "        )\n",
    "    else:\n",
    "        logging.error(\n",
    "            f\"Cannont calculate cosine similarity because metric is not `angular`\"\n",
    "            f\"\\nInput metric: {nn_index.metric}\"\n",
    "        )"
   ]
  },
  {
   "cell_type": "code",
   "execution_count": 63,
   "id": "a960c6cc",
   "metadata": {},
   "outputs": [
    {
     "data": {
      "text/html": [
       "<div>\n",
       "<style scoped>\n",
       "    .dataframe tbody tr th:only-of-type {\n",
       "        vertical-align: middle;\n",
       "    }\n",
       "\n",
       "    .dataframe tbody tr th {\n",
       "        vertical-align: top;\n",
       "    }\n",
       "\n",
       "    .dataframe thead th {\n",
       "        text-align: right;\n",
       "    }\n",
       "</style>\n",
       "<table border=\"1\" class=\"dataframe\">\n",
       "  <thead>\n",
       "    <tr style=\"text-align: right;\">\n",
       "      <th></th>\n",
       "      <th>user_id</th>\n",
       "      <th>subreddit_name</th>\n",
       "      <th>nn_ix</th>\n",
       "      <th>distance</th>\n",
       "      <th>distance_rank</th>\n",
       "      <th>cosine_similarity</th>\n",
       "    </tr>\n",
       "  </thead>\n",
       "  <tbody>\n",
       "    <tr>\n",
       "      <th>0</th>\n",
       "      <td>t2_uie1132w</td>\n",
       "      <td>de</td>\n",
       "      <td>3102007</td>\n",
       "      <td>0.0</td>\n",
       "      <td>1</td>\n",
       "      <td>1.0</td>\n",
       "    </tr>\n",
       "    <tr>\n",
       "      <th>1</th>\n",
       "      <td>t2_uae9cvc1</td>\n",
       "      <td>de</td>\n",
       "      <td>2672992</td>\n",
       "      <td>0.0</td>\n",
       "      <td>2</td>\n",
       "      <td>1.0</td>\n",
       "    </tr>\n",
       "    <tr>\n",
       "      <th>2</th>\n",
       "      <td>t2_8to6xu36</td>\n",
       "      <td>de</td>\n",
       "      <td>8938782</td>\n",
       "      <td>0.0</td>\n",
       "      <td>3</td>\n",
       "      <td>1.0</td>\n",
       "    </tr>\n",
       "    <tr>\n",
       "      <th>3</th>\n",
       "      <td>t2_8jyuowfl</td>\n",
       "      <td>de</td>\n",
       "      <td>3847963</td>\n",
       "      <td>0.0</td>\n",
       "      <td>4</td>\n",
       "      <td>1.0</td>\n",
       "    </tr>\n",
       "    <tr>\n",
       "      <th>4</th>\n",
       "      <td>t2_ughg2trb</td>\n",
       "      <td>de</td>\n",
       "      <td>4343693</td>\n",
       "      <td>0.0</td>\n",
       "      <td>5</td>\n",
       "      <td>1.0</td>\n",
       "    </tr>\n",
       "    <tr>\n",
       "      <th>5</th>\n",
       "      <td>t2_u92yu1it</td>\n",
       "      <td>de</td>\n",
       "      <td>3569721</td>\n",
       "      <td>0.0</td>\n",
       "      <td>6</td>\n",
       "      <td>1.0</td>\n",
       "    </tr>\n",
       "    <tr>\n",
       "      <th>6</th>\n",
       "      <td>t2_tpg457id</td>\n",
       "      <td>de</td>\n",
       "      <td>6514272</td>\n",
       "      <td>0.0</td>\n",
       "      <td>7</td>\n",
       "      <td>1.0</td>\n",
       "    </tr>\n",
       "    <tr>\n",
       "      <th>7</th>\n",
       "      <td>t2_ucezlpjz</td>\n",
       "      <td>de</td>\n",
       "      <td>1653188</td>\n",
       "      <td>0.0</td>\n",
       "      <td>8</td>\n",
       "      <td>1.0</td>\n",
       "    </tr>\n",
       "    <tr>\n",
       "      <th>8</th>\n",
       "      <td>t2_9ij0gxtf</td>\n",
       "      <td>de</td>\n",
       "      <td>2181456</td>\n",
       "      <td>0.0</td>\n",
       "      <td>9</td>\n",
       "      <td>1.0</td>\n",
       "    </tr>\n",
       "  </tbody>\n",
       "</table>\n",
       "</div>"
      ],
      "text/plain": [
       "       user_id subreddit_name    nn_ix  distance  distance_rank  cosine_similarity\n",
       "0  t2_uie1132w             de  3102007       0.0              1                1.0\n",
       "1  t2_uae9cvc1             de  2672992       0.0              2                1.0\n",
       "2  t2_8to6xu36             de  8938782       0.0              3                1.0\n",
       "3  t2_8jyuowfl             de  3847963       0.0              4                1.0\n",
       "4  t2_ughg2trb             de  4343693       0.0              5                1.0\n",
       "5  t2_u92yu1it             de  3569721       0.0              6                1.0\n",
       "6  t2_tpg457id             de  6514272       0.0              7                1.0\n",
       "7  t2_ucezlpjz             de  1653188       0.0              8                1.0\n",
       "8  t2_9ij0gxtf             de  2181456       0.0              9                1.0"
      ]
     },
     "execution_count": 63,
     "metadata": {},
     "output_type": "execute_result"
    }
   ],
   "source": [
    "df_nns_by_v.head(9)"
   ]
  },
  {
   "cell_type": "code",
   "execution_count": 64,
   "id": "432f626e",
   "metadata": {},
   "outputs": [
    {
     "data": {
      "text/html": [
       "<div>\n",
       "<style scoped>\n",
       "    .dataframe tbody tr th:only-of-type {\n",
       "        vertical-align: middle;\n",
       "    }\n",
       "\n",
       "    .dataframe tbody tr th {\n",
       "        vertical-align: top;\n",
       "    }\n",
       "\n",
       "    .dataframe thead th {\n",
       "        text-align: right;\n",
       "    }\n",
       "</style>\n",
       "<table border=\"1\" class=\"dataframe\">\n",
       "  <thead>\n",
       "    <tr style=\"text-align: right;\">\n",
       "      <th></th>\n",
       "      <th>user_id</th>\n",
       "      <th>subreddit_name</th>\n",
       "      <th>nn_ix</th>\n",
       "      <th>distance</th>\n",
       "      <th>distance_rank</th>\n",
       "      <th>cosine_similarity</th>\n",
       "    </tr>\n",
       "  </thead>\n",
       "  <tbody>\n",
       "    <tr>\n",
       "      <th>10533979</th>\n",
       "      <td>t2_uewj12d5</td>\n",
       "      <td>de</td>\n",
       "      <td>8335532</td>\n",
       "      <td>1.444018</td>\n",
       "      <td>10533980</td>\n",
       "      <td>-0.042595</td>\n",
       "    </tr>\n",
       "    <tr>\n",
       "      <th>10533980</th>\n",
       "      <td>t2_e78zinyf</td>\n",
       "      <td>de</td>\n",
       "      <td>8392788</td>\n",
       "      <td>1.444032</td>\n",
       "      <td>10533981</td>\n",
       "      <td>-0.042614</td>\n",
       "    </tr>\n",
       "    <tr>\n",
       "      <th>10533981</th>\n",
       "      <td>t2_ue35qe7p</td>\n",
       "      <td>de</td>\n",
       "      <td>9839029</td>\n",
       "      <td>1.444422</td>\n",
       "      <td>10533982</td>\n",
       "      <td>-0.043178</td>\n",
       "    </tr>\n",
       "    <tr>\n",
       "      <th>10533982</th>\n",
       "      <td>t2_i83dhc60</td>\n",
       "      <td>de</td>\n",
       "      <td>3455160</td>\n",
       "      <td>1.444773</td>\n",
       "      <td>10533983</td>\n",
       "      <td>-0.043685</td>\n",
       "    </tr>\n",
       "    <tr>\n",
       "      <th>10533983</th>\n",
       "      <td>t2_5afsskth</td>\n",
       "      <td>de</td>\n",
       "      <td>4211846</td>\n",
       "      <td>1.445634</td>\n",
       "      <td>10533984</td>\n",
       "      <td>-0.044928</td>\n",
       "    </tr>\n",
       "    <tr>\n",
       "      <th>10533984</th>\n",
       "      <td>t2_97zrwzqn</td>\n",
       "      <td>de</td>\n",
       "      <td>361316</td>\n",
       "      <td>1.446601</td>\n",
       "      <td>10533985</td>\n",
       "      <td>-0.046327</td>\n",
       "    </tr>\n",
       "    <tr>\n",
       "      <th>10533985</th>\n",
       "      <td>t2_um2t1x2z</td>\n",
       "      <td>de</td>\n",
       "      <td>508514</td>\n",
       "      <td>1.446601</td>\n",
       "      <td>10533986</td>\n",
       "      <td>-0.046327</td>\n",
       "    </tr>\n",
       "    <tr>\n",
       "      <th>10533986</th>\n",
       "      <td>t2_u6cbq115</td>\n",
       "      <td>de</td>\n",
       "      <td>5266519</td>\n",
       "      <td>1.446601</td>\n",
       "      <td>10533987</td>\n",
       "      <td>-0.046327</td>\n",
       "    </tr>\n",
       "    <tr>\n",
       "      <th>10533987</th>\n",
       "      <td>t2_uf67ypna</td>\n",
       "      <td>de</td>\n",
       "      <td>7743480</td>\n",
       "      <td>1.446601</td>\n",
       "      <td>10533988</td>\n",
       "      <td>-0.046327</td>\n",
       "    </tr>\n",
       "    <tr>\n",
       "      <th>10533988</th>\n",
       "      <td>t2_un0lq8jh</td>\n",
       "      <td>de</td>\n",
       "      <td>1128082</td>\n",
       "      <td>1.447782</td>\n",
       "      <td>10533989</td>\n",
       "      <td>-0.048036</td>\n",
       "    </tr>\n",
       "    <tr>\n",
       "      <th>10533989</th>\n",
       "      <td>t2_u4hi5cpc</td>\n",
       "      <td>de</td>\n",
       "      <td>9307515</td>\n",
       "      <td>1.447904</td>\n",
       "      <td>10533990</td>\n",
       "      <td>-0.048212</td>\n",
       "    </tr>\n",
       "    <tr>\n",
       "      <th>10533990</th>\n",
       "      <td>t2_bt5qvzh4</td>\n",
       "      <td>de</td>\n",
       "      <td>5313462</td>\n",
       "      <td>1.448436</td>\n",
       "      <td>10533991</td>\n",
       "      <td>-0.048983</td>\n",
       "    </tr>\n",
       "    <tr>\n",
       "      <th>10533991</th>\n",
       "      <td>t2_hyzks2zq</td>\n",
       "      <td>de</td>\n",
       "      <td>2788664</td>\n",
       "      <td>1.448661</td>\n",
       "      <td>10533992</td>\n",
       "      <td>-0.049310</td>\n",
       "    </tr>\n",
       "    <tr>\n",
       "      <th>10533992</th>\n",
       "      <td>t2_ub45kpzt</td>\n",
       "      <td>de</td>\n",
       "      <td>9669560</td>\n",
       "      <td>1.450447</td>\n",
       "      <td>10533993</td>\n",
       "      <td>-0.051898</td>\n",
       "    </tr>\n",
       "    <tr>\n",
       "      <th>10533993</th>\n",
       "      <td>t2_u221f8yp</td>\n",
       "      <td>de</td>\n",
       "      <td>4892948</td>\n",
       "      <td>1.451276</td>\n",
       "      <td>10533994</td>\n",
       "      <td>-0.053101</td>\n",
       "    </tr>\n",
       "    <tr>\n",
       "      <th>10533994</th>\n",
       "      <td>t2_8y89bs54</td>\n",
       "      <td>de</td>\n",
       "      <td>8310463</td>\n",
       "      <td>1.451497</td>\n",
       "      <td>10533995</td>\n",
       "      <td>-0.053422</td>\n",
       "    </tr>\n",
       "    <tr>\n",
       "      <th>10533995</th>\n",
       "      <td>t2_8kmjyv3l</td>\n",
       "      <td>de</td>\n",
       "      <td>2992833</td>\n",
       "      <td>1.451707</td>\n",
       "      <td>10533996</td>\n",
       "      <td>-0.053726</td>\n",
       "    </tr>\n",
       "    <tr>\n",
       "      <th>10533996</th>\n",
       "      <td>t2_unpllg1v</td>\n",
       "      <td>de</td>\n",
       "      <td>6842742</td>\n",
       "      <td>1.451841</td>\n",
       "      <td>10533997</td>\n",
       "      <td>-0.053921</td>\n",
       "    </tr>\n",
       "    <tr>\n",
       "      <th>10533997</th>\n",
       "      <td>t2_l8rndgfp</td>\n",
       "      <td>de</td>\n",
       "      <td>5093009</td>\n",
       "      <td>1.452912</td>\n",
       "      <td>10533998</td>\n",
       "      <td>-0.055477</td>\n",
       "    </tr>\n",
       "    <tr>\n",
       "      <th>10533998</th>\n",
       "      <td>t2_ulemzjpz</td>\n",
       "      <td>de</td>\n",
       "      <td>2870291</td>\n",
       "      <td>1.459705</td>\n",
       "      <td>10533999</td>\n",
       "      <td>-0.065369</td>\n",
       "    </tr>\n",
       "  </tbody>\n",
       "</table>\n",
       "</div>"
      ],
      "text/plain": [
       "              user_id subreddit_name    nn_ix  distance  distance_rank  cosine_similarity\n",
       "10533979  t2_uewj12d5             de  8335532  1.444018       10533980          -0.042595\n",
       "10533980  t2_e78zinyf             de  8392788  1.444032       10533981          -0.042614\n",
       "10533981  t2_ue35qe7p             de  9839029  1.444422       10533982          -0.043178\n",
       "10533982  t2_i83dhc60             de  3455160  1.444773       10533983          -0.043685\n",
       "10533983  t2_5afsskth             de  4211846  1.445634       10533984          -0.044928\n",
       "10533984  t2_97zrwzqn             de   361316  1.446601       10533985          -0.046327\n",
       "10533985  t2_um2t1x2z             de   508514  1.446601       10533986          -0.046327\n",
       "10533986  t2_u6cbq115             de  5266519  1.446601       10533987          -0.046327\n",
       "10533987  t2_uf67ypna             de  7743480  1.446601       10533988          -0.046327\n",
       "10533988  t2_un0lq8jh             de  1128082  1.447782       10533989          -0.048036\n",
       "10533989  t2_u4hi5cpc             de  9307515  1.447904       10533990          -0.048212\n",
       "10533990  t2_bt5qvzh4             de  5313462  1.448436       10533991          -0.048983\n",
       "10533991  t2_hyzks2zq             de  2788664  1.448661       10533992          -0.049310\n",
       "10533992  t2_ub45kpzt             de  9669560  1.450447       10533993          -0.051898\n",
       "10533993  t2_u221f8yp             de  4892948  1.451276       10533994          -0.053101\n",
       "10533994  t2_8y89bs54             de  8310463  1.451497       10533995          -0.053422\n",
       "10533995  t2_8kmjyv3l             de  2992833  1.451707       10533996          -0.053726\n",
       "10533996  t2_unpllg1v             de  6842742  1.451841       10533997          -0.053921\n",
       "10533997  t2_l8rndgfp             de  5093009  1.452912       10533998          -0.055477\n",
       "10533998  t2_ulemzjpz             de  2870291  1.459705       10533999          -0.065369"
      ]
     },
     "execution_count": 64,
     "metadata": {},
     "output_type": "execute_result"
    }
   ],
   "source": [
    "df_nns_by_v.tail(20)"
   ]
  },
  {
   "cell_type": "code",
   "execution_count": 65,
   "id": "3b28c8ec",
   "metadata": {},
   "outputs": [
    {
     "name": "stderr",
     "output_type": "stream",
     "text": [
      "23:47:53 | INFO | \"10,533,999, 6 <- df_distance shape\"\n",
      "23:47:53 | INFO | \"Save df-ANN to parquet...\"\n"
     ]
    },
    {
     "name": "stdout",
     "output_type": "stream",
     "text": [
      "CPU times: user 4.28 s, sys: 285 ms, total: 4.57 s\n",
      "Wall time: 4.5 s\n"
     ]
    }
   ],
   "source": [
    "%%time\n",
    "\n",
    "r_, c_ = df_nns_by_v.shape \n",
    "info(f\"{r_:,.0f}, {c_:,.0f} <- df_distance shape\")\n",
    "\n",
    "info(f\"Save df-ANN to parquet...\")\n",
    "df_nns_by_v.to_parquet(\n",
    "    path_this_model / f\"df_ann_distance_to_target-{r_}_{c_}.parquet\",\n",
    "    index=False,\n",
    ")\n",
    "del r_, c_"
   ]
  },
  {
   "cell_type": "markdown",
   "id": "977d7c5a",
   "metadata": {},
   "source": [
    "# Combine distance and other features into table for model training\n",
    "This should be the training data for modeling. DO it in a separate notebook\n",
    "\n",
    "Include query from dashboard:\n",
    "- sent flag\n",
    "- received flag\n",
    "- clicked flag\n",
    "\n",
    "New info:\n",
    "- subscribe\n",
    "- \n"
   ]
  },
  {
   "cell_type": "code",
   "execution_count": null,
   "id": "32635319",
   "metadata": {},
   "outputs": [],
   "source": []
  }
 ],
 "metadata": {
  "environment": {
   "name": "common-cpu.m65",
   "type": "gcloud",
   "uri": "gcr.io/deeplearning-platform-release/base-cpu:m65"
  },
  "kernelspec": {
   "display_name": "Python 3",
   "language": "python",
   "name": "python3"
  },
  "language_info": {
   "codemirror_mode": {
    "name": "ipython",
    "version": 3
   },
   "file_extension": ".py",
   "mimetype": "text/x-python",
   "name": "python",
   "nbconvert_exporter": "python",
   "pygments_lexer": "ipython3",
   "version": "3.7.10"
  }
 },
 "nbformat": 4,
 "nbformat_minor": 5
}
